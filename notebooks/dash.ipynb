{
 "metadata": {
  "language_info": {
   "codemirror_mode": {
    "name": "ipython",
    "version": 3
   },
   "file_extension": ".py",
   "mimetype": "text/x-python",
   "name": "python",
   "nbconvert_exporter": "python",
   "pygments_lexer": "ipython3",
   "version": "3.8.3-final"
  },
  "orig_nbformat": 2,
  "kernelspec": {
   "name": "python_defaultSpec_1597796227170",
   "display_name": "Python 3.8.3 64-bit ('base': conda)"
  }
 },
 "nbformat": 4,
 "nbformat_minor": 2,
 "cells": [
  {
   "cell_type": "code",
   "execution_count": 1,
   "metadata": {},
   "outputs": [],
   "source": [
    "import sys, os\n",
    "sys.path.append(os.path.dirname(os.getcwd()))\n",
    "\n",
    "import dash\n",
    "import dash_bootstrap_components as dbc\n",
    "import dash_core_components as dcc\n",
    "import dash_html_components as html\n",
    "from dash.dependencies import Input, Output, State\n",
    "import plotly.express as px\n",
    "from jupyter_dash import JupyterDash\n",
    "import pandas as pd\n",
    "\n",
    "import copy\n",
    "\n",
    "from pof.failure_mode import FailureMode\n",
    "from interface.layouts import *"
   ]
  },
  {
   "cell_type": "code",
   "execution_count": 2,
   "metadata": {},
   "outputs": [],
   "source": [
    "fm = FailureMode().set_default()"
   ]
  },
  {
   "cell_type": "code",
   "execution_count": 3,
   "metadata": {},
   "outputs": [],
   "source": [
    "# Failure Mode Tests\n",
    "mfml = make_failure_mode_layout(fm, prefix=\"fm-\")\n",
    "\n",
    "# Task Tests\n",
    "task = fm.tasks['ocr']\n",
    "mtl = make_task_layout(task)\n",
    "\n",
    "mtf = make_task_form(task, prefix=\"\")\n",
    "\n",
    "# Trigger Tests\n",
    "triggers= fm.tasks['ocr'].triggers\n",
    "mttl = make_task_trigger_layout(triggers)\n",
    "\n",
    "condition_triggers = fm.tasks['ocr'].triggers['condition']\n",
    "#mctf = make_condition_trigger_form(condition_triggers)\n",
    "\n",
    "\n",
    "# Impact Tests\n",
    "\n",
    "impacts= fm.tasks['ocr'].impacts\n",
    "mtil = make_task_impact_layout(impacts)\n",
    "\n",
    "state_impacts = fm.tasks['ocr'].impacts['state']\n",
    "msil = make_state_impact_layout(state_impacts)\n",
    "\n",
    "condition_impacts = fm.tasks['ocr'].impacts['condition']\n",
    "mcil = make_condition_impact_layout(condition_impacts)\n",
    "\n",
    "condition_impact = fm.tasks['ocr'].impacts['condition']['wall_thickness']\n",
    "mtif = make_condition_impact_form(condition_impact)\n",
    "\n",
    "# Distribution Tests\n",
    "failure_dist = fm.failure_dist\n",
    "mdl = make_dist_layout(failure_dist)"
   ]
  },
  {
   "cell_type": "code",
   "execution_count": 5,
   "metadata": {
    "tags": []
   },
   "outputs": [
    {
     "output_type": "display_data",
     "data": {
      "text/plain": "<IPython.lib.display.IFrame at 0x2904f4e0a90>",
      "text/html": "\n        <iframe\n            width=\"100%\"\n            height=\"650\"\n            src=\"http://127.0.0.1:8050/\"\n            frameborder=\"0\"\n            allowfullscreen\n        ></iframe>\n        "
     },
     "metadata": {}
    }
   ],
   "source": [
    "\n",
    "# Build App\n",
    "external_stylesheets = [dbc.themes.BOOTSTRAP]\n",
    "app = JupyterDash(__name__, external_stylesheets=external_stylesheets)\n",
    "\n",
    "# Layout\n",
    "app.layout = html.Div([\n",
    "    html.Div(children='Test Output', id='test_output'),\n",
    "    dcc.Graph(id=\"maintenance_strategy\"),\n",
    "    mfml\n",
    "])\n",
    "\n",
    "sep= '-'\n",
    "collapse_ids = []\n",
    "for fm_name, fm in {'fm': fm}.items():\n",
    "    collapse_ids = collapse_ids + [fm_name + sep]\n",
    "    for task in fm.tasks:\n",
    "        collapse_ids = collapse_ids + [fm_name + sep + 'task' + sep + task + sep]\n",
    "\n",
    "@app.callback(\n",
    "    Output(\"test_output\", \"children\"),\n",
    "    #[Output(f\"{prefix}collapse\", \"is_open\") for prefix in collapse_ids],\n",
    "    [Input(f\"{prefix}collapse-button\", \"n_clicks\") for prefix in collapse_ids],\n",
    "    [State(f\"{prefix}collapse\", \"is_open\") for prefix in collapse_ids],\n",
    ")\n",
    "def toggle_collapses(*args):\n",
    "    ctx = dash.callback_context\n",
    "\n",
    "    state_id = \"\"\n",
    "    collapse_id = ctx.triggered[0]['prop_id'].split('.')[0].replace('-collapse-button','')\n",
    "    if collapse_id in collapses:\n",
    "\n",
    "        state_id = collapse_id + '-collapse.is_open'\n",
    "        ctx.states[state_id] = not ctx.states[state_id]\n",
    "\n",
    "    is_open = tuple(ctx.states.values())\n",
    "\n",
    "    return str(\"asdf\") #is_open\n",
    "\n",
    "ms_fig_update = fm.get_dash_ids(prefix ='fm-')\n",
    "\n",
    "\n",
    "\n",
    "#Execute\n",
    "app.run_server(mode='inline', debug=True)"
   ]
  },
  {
   "cell_type": "code",
   "execution_count": 31,
   "metadata": {},
   "outputs": [
    {
     "output_type": "execute_result",
     "data": {
      "text/plain": "([<State `fm-collapse.is_open`>,\n  <State `fm-task-inspection-collapse.is_open`>,\n  <State `fm-task-ocr-collapse.is_open`>,\n  <State `fm-task-cm-collapse.is_open`>],)"
     },
     "metadata": {},
     "execution_count": 31
    }
   ],
   "source": [
    "\"\"\"@app.callback(\n",
    "    #Output(\"maintenance_strategy\", \"figure\"), \n",
    "    Output(\"test_output\", \"children\"),\n",
    "    [Input(dash_id,\"value\") for dash_id in ms_fig_update]\n",
    ")\n",
    "def update_maintenance_strategy(*args):\n",
    "\n",
    "    # Check the parameters that changed\n",
    "    ctx = dash.callback_context\n",
    "    dash_id = ctx.triggered[0]['prop_id'].split('.')[0]\n",
    "    value = ctx.triggered[0]['value']\n",
    "\n",
    "    #Temp\n",
    "    dash_id = dash_id.replace('fm-', \"\")\n",
    "\n",
    "    # Update the model\n",
    "    #fm_local = copy.deepcopy(fm)\n",
    "    fm_local =fm\n",
    "    fm_local.dash_update(dash_id, value)\n",
    "\n",
    "    fm_local.mc_timeline(t_end=200, n_iterations=100)\n",
    "    df = fm_local.expected_cost_df()\n",
    "\n",
    "    fig = px.area(\n",
    "        df,\n",
    "        x=\"time\",\n",
    "        y=\"cost_cumulative\",\n",
    "        color=\"task\",\n",
    "        title=\"Maintenance Strategy Costs\",\n",
    "    )\n",
    "\n",
    "    #fig.update_yaxes(range=[0, graph_y_limit])\n",
    "\n",
    "    return \"asdf\"\"\"\""
   ]
  },
  {
   "cell_type": "code",
   "execution_count": 29,
   "metadata": {},
   "outputs": [
    {
     "output_type": "execute_result",
     "data": {
      "text/plain": "InputGroup([InputGroupAddon(children=Checkbox(None), addon_type='prepend'), Button(children='fm', id='fm--collapse-button', color='link'), Col([Form(children=[Col(FormGroup(children=[Label(children='Alpha', className='mr-2'), Input(id='fm-failure_dist-alpha', type='number', value=50, debounce=True)], className='mr-3')), Col(FormGroup(children=[Label(children='Beta', className='mr-2'), Input(id='fm-failure_dist-beta', type='number', value=10, debounce=True)], className='mr-3')), Col(FormGroup(children=[Label(children='Gamma', className='mr-2'), Input(id='fm-failure_dist-gamma', type='number', value=10, debounce=True)], className='mr-3'))], inline=True), Collapse(children=Card(CardBody([InputGroup([InputGroupAddon(children=Checkbox(None), addon_type='prepend'), Button(children='inspection', id='fm-task-inspection-collapse-button', color='link'), Col([Form(children=[Col(FormGroup([Label(children='Probability Effective', html_for='p_effective'), Input(id='fm-task-inspection-p_effective', type='number', value=90.0, debounce=True)])), Col(FormGroup([Label(children='Cost', html_for='cost'), Input(id='fm-task-inspection-cost', type='number', value=50, debounce=True)])), Col(FormGroup([Label(children='Consequence', html_for='consequence'), Input(id='fm-task-inspection-consequence', type='number', value='Not Implemented', debounce=True)]))], inline=True), Collapse(children=Card(CardBody([Col(Card([CardHeader('Triggers'), CardBody([Form(children=[Col(InputGroup(children=[InputGroupAddon(children=[Checkbox(None), Label(children='Initiation', className='mr-2')], addon_type='prepend'), Select(id='fm-task-inspection-trigger-state-initiation', value='True', options=[{'label': 'True', 'value': 'True'}, {'label': 'False', 'value': 'False'}])], className='mr-3'))], inline=True), Form([InputGroup([InputGroupAddon(children=[Checkbox(None)], addon_type='prepend'), Label(children='Wall_thickness', className='mr-2'), Form(children=[Input(id='fm-task-inspection-trigger-wall_thickness-lower', type='number', value=0, debounce=True), Input(id='fm-task-inspection-trigger-wall_thickness-upper', type='number', value=90, debounce=True)], inline=True)])])])])), Col(Card([CardHeader('Impacts'), CardBody([Form(children=[Col(InputGroup(children=[InputGroupAddon(children=[Checkbox(None), Label(children='Detection', className='mr-2')], addon_type='prepend'), Select(id='fm-task-inspection-impact-state-detection', value='True', options=[{'label': 'True', 'value': 'True'}, {'label': 'False', 'value': 'False'}])], className='mr-3'))], inline=True), Form([])])]))])), id='fm-task-inspection-collapse', is_open=False)])]), InputGroup([InputGroupAddon(children=Checkbox(None), addon_type='prepend'), Button(children='ocr', id='fm-task-ocr-collapse-button', color='link'), Col([Form(children=[Col(FormGroup([Label(children='Probability Effective', html_for='p_effective'), Input(id='fm-task-ocr-p_effective', type='number', value=100, debounce=True)])), Col(FormGroup([Label(children='Cost', html_for='cost'), Input(id='fm-task-ocr-cost', type='number', value=100, debounce=True)])), Col(FormGroup([Label(children='Consequence', html_for='consequence'), Input(id='fm-task-ocr-consequence', type='number', value='Not Implemented', debounce=True)]))], inline=True), Collapse(children=Card(CardBody([Col(Card([CardHeader('Triggers'), CardBody([Form(children=[Col(InputGroup(children=[InputGroupAddon(children=[Checkbox(None), Label(children='Detection', className='mr-2')], addon_type='prepend'), Select(id='fm-task-ocr-trigger-state-detection', value='True', options=[{'label': 'True', 'value': 'True'}, {'label': 'False', 'value': 'False'}])], className='mr-3'))], inline=True), Form([InputGroup([InputGroupAddon(children=[Checkbox(None)], addon_type='prepend'), Label(children='Wall_thickness', className='mr-2'), Form(children=[Input(id='fm-task-ocr-trigger-wall_thickness-lower', type='number', value=20, debounce=True), Input(id='fm-task-ocr-trigger-wall_thickness-upper', type='number', value=80, debounce=True)], inline=True)])])])])), Col(Card([CardHeader('Impacts'), CardBody([Form(children=[Col(InputGroup(children=[InputGroupAddon(children=[Checkbox(None), Label(children='Initiation', className='mr-2')], addon_type='prepend'), Select(id='fm-task-ocr-impact-state-initiation', value='False', options=[{'label': 'True', 'value': 'True'}, {'label': 'False', 'value': 'False'}])], className='mr-3')), Col(InputGroup(children=[InputGroupAddon(children=[Checkbox(None), Label(children='Detection', className='mr-2')], addon_type='prepend'), Select(id='fm-task-ocr-impact-state-detection', value='False', options=[{'label': 'True', 'value': 'True'}, {'label': 'False', 'value': 'False'}])], className='mr-3')), Col(InputGroup(children=[InputGroupAddon(children=[Checkbox(None), Label(children='Failure', className='mr-2')], addon_type='prepend'), Select(id='fm-task-ocr-impact-state-failure', value='False', options=[{'label': 'True', 'value': 'True'}, {'label': 'False', 'value': 'False'}])], className='mr-3'))], inline=True), Form([InputGroup([InputGroupAddon(children=Checkbox(None), addon_type='prepend'), InputGroupAddon(children='wall_thickness', addon_type='prepend'), Form(children=[FormGroup(children=[Label(children='Target', className='mr-2'), Input(id='fm-task-ocr-impact-wall_thickness-target', type='number', value=0, debounce=True)], className='mr-3'), FormGroup(children=[Label(children='Method', className='mr-2'), Select(id='fm-task-ocr-impact-wall_thickness-method_dropdown', value='reduction_factor', options=[{'label': 'reduction_factor', 'value': 'reduction_factor'}, {'label': 'tbc', 'value': 'tbc'}])], className='mr-3'), FormGroup(children=[Label(children='Axis', className='mr-2'), Select(id='fm-task-ocr-impact-wall_thickness-axis_dropdown', value='condition', options=[{'label': 'condition', 'value': 'condition'}, {'label': 'time', 'value': 'time'}])], className='mr-3')], className='dash-bootstrap', inline=True)])])])]))])), id='fm-task-ocr-collapse', is_open=False)])]), InputGroup([InputGroupAddon(children=Checkbox(None), addon_type='prepend'), Button(children='cm', id='fm-task-cm-collapse-button', color='link'), Col([Form(children=[Col(FormGroup([Label(children='Probability Effective', html_for='p_effective'), Input(id='fm-task-cm-p_effective', type='number', value=100, debounce=True)])), Col(FormGroup([Label(children='Cost', html_for='cost'), Input(id='fm-task-cm-cost', type='number', value=5000, debounce=True)])), Col(FormGroup([Label(children='Consequence', html_for='consequence'), Input(id='fm-task-cm-consequence', type='number', value='Not Implemented', debounce=True)]))], inline=True), Collapse(children=Card(CardBody([Col(Card([CardHeader('Triggers'), CardBody([Form(children=[Col(InputGroup(children=[InputGroupAddon(children=[Checkbox(None), Label(children='Failure', className='mr-2')], addon_type='prepend'), Select(id='fm-task-cm-trigger-state-failure', value='True', options=[{'label': 'True', 'value': 'True'}, {'label': 'False', 'value': 'False'}])], className='mr-3'))], inline=True), Form([])])])), Col(Card([CardHeader('Impacts'), CardBody([Form(children=[Col(InputGroup(children=[InputGroupAddon(children=[Checkbox(None), Label(children='Initiation', className='mr-2')], addon_type='prepend'), Select(id='fm-task-cm-impact-state-initiation', value='False', options=[{'label': 'True', 'value': 'True'}, {'label': 'False', 'value': 'False'}])], className='mr-3')), Col(InputGroup(children=[InputGroupAddon(children=[Checkbox(None), Label(children='Detection', className='mr-2')], addon_type='prepend'), Select(id='fm-task-cm-impact-state-detection', value='False', options=[{'label': 'True', 'value': 'True'}, {'label': 'False', 'value': 'False'}])], className='mr-3')), Col(InputGroup(children=[InputGroupAddon(children=[Checkbox(None), Label(children='Failure', className='mr-2')], addon_type='prepend'), Select(id='fm-task-cm-impact-state-failure', value='False', options=[{'label': 'True', 'value': 'True'}, {'label': 'False', 'value': 'False'}])], className='mr-3'))], inline=True), Form([InputGroup([InputGroupAddon(children=Checkbox(None), addon_type='prepend'), InputGroupAddon(children='wall_thickness', addon_type='prepend'), Form(children=[FormGroup(children=[Label(children='Target', className='mr-2'), Input(id='fm-task-cm-impact-wall_thickness-target', type='number', value=1, debounce=True)], className='mr-3'), FormGroup(children=[Label(children='Method', className='mr-2'), Select(id='fm-task-cm-impact-wall_thickness-method_dropdown', value='reduction_factor', options=[{'label': 'reduction_factor', 'value': 'reduction_factor'}, {'label': 'tbc', 'value': 'tbc'}])], className='mr-3'), FormGroup(children=[Label(children='Axis', className='mr-2'), Select(id='fm-task-cm-impact-wall_thickness-axis_dropdown', value='condition', options=[{'label': 'condition', 'value': 'condition'}, {'label': 'time', 'value': 'time'}])], className='mr-3')], className='dash-bootstrap', inline=True)]), InputGroup([InputGroupAddon(children=Checkbox(None), addon_type='prepend'), InputGroupAddon(children='external_diameter', addon_type='prepend'), Form(children=[FormGroup(children=[Label(children='Target', className='mr-2'), Input(id='fm-task-cm-impact-wall_thickness-external_diameter-target', type='number', value=1, debounce=True)], className='mr-3'), FormGroup(children=[Label(children='Method', className='mr-2'), Select(id='fm-task-cm-impact-wall_thickness-external_diameter-method_dropdown', value='reduction_factor', options=[{'label': 'reduction_factor', 'value': 'reduction_factor'}, {'label': 'tbc', 'value': 'tbc'}])], className='mr-3'), FormGroup(children=[Label(children='Axis', className='mr-2'), Select(id='fm-task-cm-impact-wall_thickness-external_diameter-axis_dropdown', value='condition', options=[{'label': 'condition', 'value': 'condition'}, {'label': 'time', 'value': 'time'}])], className='mr-3')], className='dash-bootstrap', inline=True)])])])]))])), id='fm-task-cm-collapse', is_open=False)])])])), id='fm--collapse', is_open=False)])])"
     },
     "metadata": {},
     "execution_count": 29
    }
   ],
   "source": [
    "mfml"
   ]
  },
  {
   "cell_type": "code",
   "execution_count": 6,
   "metadata": {},
   "outputs": [
    {
     "output_type": "execute_result",
     "data": {
      "text/plain": "['fm-failure_dist-alpha',\n 'fm-failure_dist-beta',\n 'fm-failure_dist-gamma',\n 'fm-task-inspection-p_effective',\n 'fm-task-inspection-cost',\n 'fm-task-inspection-consequence',\n 'fm-task-inspection-trigger-condition-wall_thickness-lower',\n 'fm-task-inspection-trigger-condition-wall_thickness-upper',\n 'fm-task-inspection-trigger-state-initiation',\n 'fm-task-inspection-impact-state-detection',\n 'fm-task-ocr-p_effective',\n 'fm-task-ocr-cost',\n 'fm-task-ocr-consequence',\n 'fm-task-ocr-trigger-condition-wall_thickness-lower',\n 'fm-task-ocr-trigger-condition-wall_thickness-upper',\n 'fm-task-ocr-trigger-state-detection',\n 'fm-task-ocr-impact-condition-wall_thickness-target',\n 'fm-task-ocr-impact-condition-wall_thickness-method',\n 'fm-task-ocr-impact-condition-wall_thickness-axis',\n 'fm-task-ocr-impact-state-initiation',\n 'fm-task-ocr-impact-state-detection',\n 'fm-task-ocr-impact-state-failure',\n 'fm-task-cm-p_effective',\n 'fm-task-cm-cost',\n 'fm-task-cm-consequence',\n 'fm-task-cm-trigger-state-failure',\n 'fm-task-cm-impact-condition-wall_thickness-target',\n 'fm-task-cm-impact-condition-wall_thickness-method',\n 'fm-task-cm-impact-condition-wall_thickness-axis',\n 'fm-task-cm-impact-condition-external_diameter-target',\n 'fm-task-cm-impact-condition-external_diameter-method',\n 'fm-task-cm-impact-condition-external_diameter-axis',\n 'fm-task-cm-impact-state-initiation',\n 'fm-task-cm-impact-state-detection',\n 'fm-task-cm-impact-state-failure']"
     },
     "metadata": {},
     "execution_count": 6
    }
   ],
   "source": [
    "ms_fig_update"
   ]
  },
  {
   "cell_type": "code",
   "execution_count": null,
   "metadata": {},
   "outputs": [],
   "source": []
  }
 ]
}