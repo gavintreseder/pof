{
 "metadata": {
  "language_info": {
   "codemirror_mode": {
    "name": "ipython",
    "version": 3
   },
   "file_extension": ".py",
   "mimetype": "text/x-python",
   "name": "python",
   "nbconvert_exporter": "python",
   "pygments_lexer": "ipython3",
   "version": "3.8.3-final"
  },
  "orig_nbformat": 2,
  "kernelspec": {
   "name": "python3",
   "display_name": "Python 3"
  }
 },
 "nbformat": 4,
 "nbformat_minor": 2,
 "cells": [
  {
   "cell_type": "markdown",
   "metadata": {},
   "source": [
    "# Interface Demonstration Notebook\n",
    "\n",
    "A notebook to demonstrate an interface with some of the features of the Probability of Failure Model\n",
    "\n",
    "Author: gavin.treseder@essentialenergy.com.au"
   ]
  },
  {
   "cell_type": "code",
   "execution_count": 1,
   "metadata": {
    "tags": []
   },
   "outputs": [],
   "source": [
    "import sys\n",
    "import os\n",
    "sys.path.append(os.path.dirname(os.getcwd()))\n",
    "\n",
    "import logging\n",
    "logging.getLogger().setLevel(logging.INFO)\n",
    "\n",
    "import copy\n",
    "import multiprocessing as mp\n",
    "\n",
    "from matplotlib import pyplot as plt\n",
    "import numpy as np\n",
    "import pandas as pd\n",
    "import dash\n",
    "import dash_bootstrap_components as dbc\n",
    "import dash_core_components as dcc\n",
    "import dash_html_components as html\n",
    "from dash.dependencies import Input, Output, State\n",
    "from dash.exceptions import PreventUpdate\n",
    "import plotly.express as px\n",
    "import plotly.graph_objects as go\n",
    "from jupyter_dash import JupyterDash\n",
    "\n",
    "from config import config\n",
    "from pof.loader.asset_model_loader import AssetModelLoader\n",
    "from pof import Component, FailureMode, Task\n",
    "from pof.interface.dashlogger import DashLogger\n",
    "from pof.interface.layouts import *\n",
    "from pof.interface.figures import update_condition_fig, update_cost_fig, update_pof_fig, make_inspection_interval_fig"
   ]
  },
  {
   "cell_type": "code",
   "execution_count": 2,
   "metadata": {
    "tags": []
   },
   "outputs": [
    {
     "output_type": "stream",
     "name": "stdout",
     "text": [
      "Validation Result: True\n"
     ]
    }
   ],
   "source": [
    "# Quick test to make sure everything is works \n",
    "comp = Component.demo()\n",
    "mcl = make_component_layout(comp)\n",
    "print(f\"Validation Result: {validate_layout(comp, mcl)}\")"
   ]
  },
  {
   "cell_type": "code",
   "execution_count": 3,
   "metadata": {
    "tags": []
   },
   "outputs": [
    {
     "output_type": "stream",
     "name": "stderr",
     "text": [
      "WARNING:root:Invalid Data () - {'task': 'inspection', 'level_of_repair': 'as_bad_as_old', 'admin': 'yes', 'maint': 'no', 'travel': 'yes'}\n",
      "WARNING:root:Invalid Data () - {'task': 'repair', 'level_of_repair': 'grp'}\n",
      "WARNING:root:Invalid Data () - {'task': 'replace', 'level_of_repair': 'as_good_as_new'}\n",
      "WARNING:root:Invalid Data () - {'task': 'replace', 'level_of_repair': 'as_good_as_new'}\n",
      "WARNING:root:Invalid Data () - {'task': 'inspection', 'admin': 'yes', 'maint': 'no', 'travel': 'yes'}\n",
      "WARNING:root:Invalid Data () - {'task': 'replace', 'level_of_repair': 'as_good_as_new'}\n",
      "WARNING:root:Invalid Data () - {'task': 'replace', 'level_of_repair': 'as_good_as_new'}\n",
      "WARNING:root:Invalid Data () - {'task': 'inspection', 'level_of_repair': 'as_bad_as_old', 'admin': 'yes', 'maint': 'no', 'travel': 'yes'}\n",
      "WARNING:root:Invalid Data () - {'task': 'repair', 'level_of_repair': 'as_bad_as_old'}\n",
      "WARNING:root:Invalid Data () - {'task': 'replace', 'level_of_repair': 'as_good_as_new'}\n",
      "WARNING:root:Invalid Data () - {'task': 'replace', 'level_of_repair': 'as_good_as_new'}\n",
      "WARNING:root:Invalid Data () - {'task': 'inspection', 'level_of_repair': 'as_bad_as_old'}\n",
      "WARNING:root:Invalid Data () - {'task': 'inspection', 'admin': 'yes', 'maint': 'no', 'travel': 'yes'}\n",
      "WARNING:root:Invalid Data () - {'task': 'replace', 'level_of_repair': 'as_good_as_new'}\n",
      "WARNING:root:Invalid Data () - {'task': 'inspection', 'level_of_repair': 'as_bad_as_old'}\n",
      "WARNING:root:Invalid Data () - {'task': 'replace', 'level_of_repair': 'as_good_as_new'}\n",
      "WARNING:root:Invalid Data () - {'task': 'inspection', 'level_of_repair': 'as_bad_as_old'}\n",
      "WARNING:root:Invalid Data () - {'task': 'replace', 'level_of_repair': 'as_good_as_new'}\n",
      "WARNING:root:Invalid Data () - {'task': 'inspection'}\n",
      "WARNING:root:Invalid Data () - {'task': 'replace', 'level_of_repair': 'as_good_as_new'}\n",
      "WARNING:root:Invalid Data () - {'task': 'replace', 'level_of_repair': 'as_good_as_new'}\n"
     ]
    }
   ],
   "source": [
    "# Turn off logging\n",
    "logging.getLogger().setLevel(logging.INFO)\n",
    "config['Load']['on_error_use_default'] ='False'\n",
    "\n",
    "filename = os.path.dirname(os.getcwd()) + r\"\\data\\inputs\\Asset Model - Pole - Timber.xlsx\"\n",
    "\n",
    "aml = AssetModelLoader(filename)\n",
    "comp_data = aml.load()\n",
    "comp = Component.from_dict(comp_data['pole'])"
   ]
  },
  {
   "cell_type": "code",
   "execution_count": 32,
   "metadata": {},
   "outputs": [
    {
     "output_type": "stream",
     "name": "stderr",
     "text": [
      "100%|██████████| 100/100 [00:04<00:00, 24.78it/s]\n"
     ]
    },
    {
     "output_type": "execute_result",
     "data": {
      "text/plain": [
       "                                                     risk  \\\n",
       "time     [17, 24, 27, 31, 36, 39, 42, 47, 72, 74, 76, 84]   \n",
       "cost    [50000.0, 100000.0, 50000.0, 100000.0, 100000....   \n",
       "active                                               True   \n",
       "\n",
       "                                               inspection  \\\n",
       "time    [17, 18, 19, 20, 26, 32, 38, 44, 50, 56, 62, 6...   \n",
       "cost    [4900.0, 4850.0, 4850.0, 4850.0, 4550.0, 4350....   \n",
       "active                                               True   \n",
       "\n",
       "                                           termite_powder CAT3/4 replacement  \\\n",
       "time                        [21, 27, 39, 57, 69, 75, 153]                 []   \n",
       "cost    [100.0, 100.0, 100.0, 200.0, 100.0, 100.0, 100.0]                 []   \n",
       "active                                               True               True   \n",
       "\n",
       "                                       CAT1/2 replacement  \n",
       "time     [17, 24, 27, 31, 36, 39, 42, 47, 72, 74, 76, 84]  \n",
       "cost    [7000.0, 14000.0, 7000.0, 14000.0, 14000.0, 14...  \n",
       "active                                               True  "
      ],
      "text/html": "<div>\n<style scoped>\n    .dataframe tbody tr th:only-of-type {\n        vertical-align: middle;\n    }\n\n    .dataframe tbody tr th {\n        vertical-align: top;\n    }\n\n    .dataframe thead th {\n        text-align: right;\n    }\n</style>\n<table border=\"1\" class=\"dataframe\">\n  <thead>\n    <tr style=\"text-align: right;\">\n      <th></th>\n      <th>risk</th>\n      <th>inspection</th>\n      <th>termite_powder</th>\n      <th>CAT3/4 replacement</th>\n      <th>CAT1/2 replacement</th>\n    </tr>\n  </thead>\n  <tbody>\n    <tr>\n      <th>time</th>\n      <td>[17, 24, 27, 31, 36, 39, 42, 47, 72, 74, 76, 84]</td>\n      <td>[17, 18, 19, 20, 26, 32, 38, 44, 50, 56, 62, 6...</td>\n      <td>[21, 27, 39, 57, 69, 75, 153]</td>\n      <td>[]</td>\n      <td>[17, 24, 27, 31, 36, 39, 42, 47, 72, 74, 76, 84]</td>\n    </tr>\n    <tr>\n      <th>cost</th>\n      <td>[50000.0, 100000.0, 50000.0, 100000.0, 100000....</td>\n      <td>[4900.0, 4850.0, 4850.0, 4850.0, 4550.0, 4350....</td>\n      <td>[100.0, 100.0, 100.0, 200.0, 100.0, 100.0, 100.0]</td>\n      <td>[]</td>\n      <td>[7000.0, 14000.0, 7000.0, 14000.0, 14000.0, 14...</td>\n    </tr>\n    <tr>\n      <th>active</th>\n      <td>True</td>\n      <td>True</td>\n      <td>True</td>\n      <td>True</td>\n      <td>True</td>\n    </tr>\n  </tbody>\n</table>\n</div>"
     },
     "metadata": {},
     "execution_count": 32
    }
   ],
   "source": [
    "comp.mc_timeline(200)\n",
    "fm = comp.fm['termites']\n",
    "erc = fm._expected_risk_cost()\n",
    "pd.DataFrame(erc)"
   ]
  },
  {
   "cell_type": "code",
   "execution_count": 31,
   "metadata": {},
   "outputs": [
    {
     "output_type": "execute_result",
     "data": {
      "text/plain": [
       "                                                     risk  \\\n",
       "time                 [22, 30, 31, 34, 35, 38, 50, 70, 91]   \n",
       "cost    [50000.0, 50000.0, 100000.0, 50000.0, 50000.0,...   \n",
       "active                                               True   \n",
       "\n",
       "                                               inspection  \\\n",
       "time    [17, 18, 19, 20, 26, 32, 38, 44, 50, 56, 62, 6...   \n",
       "cost    [4900.0, 4900.0, 4900.0, 4900.0, 4700.0, 4350....   \n",
       "active                                               True   \n",
       "\n",
       "                             termite_powder CAT3/4 replacement  \\\n",
       "time                   [39, 45, 51, 69, 81]                 []   \n",
       "cost    [100.0, 100.0, 200.0, 200.0, 100.0]                 []   \n",
       "active                                 True               True   \n",
       "\n",
       "                                       CAT1/2 replacement  \n",
       "time                 [22, 30, 31, 34, 35, 38, 50, 70, 91]  \n",
       "cost    [7000.0, 7000.0, 14000.0, 7000.0, 7000.0, 7000...  \n",
       "active                                               True  "
      ],
      "text/html": "<div>\n<style scoped>\n    .dataframe tbody tr th:only-of-type {\n        vertical-align: middle;\n    }\n\n    .dataframe tbody tr th {\n        vertical-align: top;\n    }\n\n    .dataframe thead th {\n        text-align: right;\n    }\n</style>\n<table border=\"1\" class=\"dataframe\">\n  <thead>\n    <tr style=\"text-align: right;\">\n      <th></th>\n      <th>risk</th>\n      <th>inspection</th>\n      <th>termite_powder</th>\n      <th>CAT3/4 replacement</th>\n      <th>CAT1/2 replacement</th>\n    </tr>\n  </thead>\n  <tbody>\n    <tr>\n      <th>time</th>\n      <td>[22, 30, 31, 34, 35, 38, 50, 70, 91]</td>\n      <td>[17, 18, 19, 20, 26, 32, 38, 44, 50, 56, 62, 6...</td>\n      <td>[39, 45, 51, 69, 81]</td>\n      <td>[]</td>\n      <td>[22, 30, 31, 34, 35, 38, 50, 70, 91]</td>\n    </tr>\n    <tr>\n      <th>cost</th>\n      <td>[50000.0, 50000.0, 100000.0, 50000.0, 50000.0,...</td>\n      <td>[4900.0, 4900.0, 4900.0, 4900.0, 4700.0, 4350....</td>\n      <td>[100.0, 100.0, 200.0, 200.0, 100.0]</td>\n      <td>[]</td>\n      <td>[7000.0, 7000.0, 14000.0, 7000.0, 7000.0, 7000...</td>\n    </tr>\n    <tr>\n      <th>active</th>\n      <td>True</td>\n      <td>True</td>\n      <td>True</td>\n      <td>True</td>\n      <td>True</td>\n    </tr>\n  </tbody>\n</table>\n</div>"
     },
     "metadata": {},
     "execution_count": 31
    }
   ],
   "source": [
    "from pof.helper import fill_blanks\n",
    "df = pd.DataFrame.from_dict(fm._expected_risk_cost())\n",
    "df\n"
   ]
  },
  {
   "cell_type": "code",
   "execution_count": 37,
   "metadata": {},
   "outputs": [],
   "source": [
    "ec = {}\n",
    "for fm_name, fm in comp.fm.items():\n",
    "    ec[fm_name] = fm._expected_risk_cost()\n",
    "    ec"
   ]
  },
  {
   "cell_type": "code",
   "execution_count": 66,
   "metadata": {},
   "outputs": [
    {
     "output_type": "stream",
     "name": "stdout",
     "text": [
      "163 µs ± 49.9 µs per loop (mean ± std. dev. of 7 runs, 10000 loops each)\n"
     ]
    }
   ],
   "source": [
    "%%timeit\n",
    "t_max = 0\n",
    "for fm in ec.values():\n",
    "    for task in fm.values():\n",
    "        t_max = max(t_max, max(task['time'], default=t_max))\n",
    "        "
   ]
  },
  {
   "cell_type": "code",
   "execution_count": 67,
   "metadata": {},
   "outputs": [
    {
     "output_type": "stream",
     "name": "stdout",
     "text": [
      "155 µs ± 43.5 µs per loop (mean ± std. dev. of 7 runs, 10000 loops each)\n"
     ]
    }
   ],
   "source": [
    "%%timeit\n",
    "t_max = max([max(task['time'], default=0) for task in fm.values() for fm in ec.values()])\n"
   ]
  },
  {
   "cell_type": "code",
   "execution_count": 73,
   "metadata": {},
   "outputs": [
    {
     "output_type": "stream",
     "name": "stdout",
     "text": [
      "1.19 ms ± 180 µs per loop (mean ± std. dev. of 7 runs, 1000 loops each)\n"
     ]
    }
   ],
   "source": [
    "%%timeit\n",
    "pd.DataFrame(ec)"
   ]
  },
  {
   "cell_type": "code",
   "execution_count": 81,
   "metadata": {},
   "outputs": [],
   "source": [
    "d_fm = {}\n",
    "for fm in comp.fm.values():\n",
    "    d_task = {}\n",
    "    for task in fm.tasks.values():\n",
    "        d_task[task.name] = pd.DataFrame(task.expected_costs())\n",
    "    d_fm[fm_name] = pd.concat(d_task)"
   ]
  },
  {
   "cell_type": "code",
   "execution_count": null,
   "metadata": {},
   "outputs": [],
   "source": []
  },
  {
   "cell_type": "code",
   "execution_count": 86,
   "metadata": {},
   "outputs": [
    {
     "output_type": "execute_result",
     "data": {
      "text/plain": [
       "               level_0  level_1  time    cost  active\n",
       "0           inspection        0    17  4900.0    True\n",
       "1           inspection        1    18  4850.0    True\n",
       "2           inspection        2    19  4850.0    True\n",
       "3           inspection        3    20  4850.0    True\n",
       "4           inspection        4    26  4550.0    True\n",
       "..                 ...      ...   ...     ...     ...\n",
       "73  CAT1/2 replacement       21   128   100.0    True\n",
       "74  CAT1/2 replacement       22   134   100.0    True\n",
       "75  CAT1/2 replacement       23   140   100.0    True\n",
       "76  CAT1/2 replacement       24   146   100.0    True\n",
       "77  CAT1/2 replacement       25   152    50.0    True\n",
       "\n",
       "[78 rows x 5 columns]"
      ],
      "text/html": "<div>\n<style scoped>\n    .dataframe tbody tr th:only-of-type {\n        vertical-align: middle;\n    }\n\n    .dataframe tbody tr th {\n        vertical-align: top;\n    }\n\n    .dataframe thead th {\n        text-align: right;\n    }\n</style>\n<table border=\"1\" class=\"dataframe\">\n  <thead>\n    <tr style=\"text-align: right;\">\n      <th></th>\n      <th>level_0</th>\n      <th>level_1</th>\n      <th>time</th>\n      <th>cost</th>\n      <th>active</th>\n    </tr>\n  </thead>\n  <tbody>\n    <tr>\n      <th>0</th>\n      <td>inspection</td>\n      <td>0</td>\n      <td>17</td>\n      <td>4900.0</td>\n      <td>True</td>\n    </tr>\n    <tr>\n      <th>1</th>\n      <td>inspection</td>\n      <td>1</td>\n      <td>18</td>\n      <td>4850.0</td>\n      <td>True</td>\n    </tr>\n    <tr>\n      <th>2</th>\n      <td>inspection</td>\n      <td>2</td>\n      <td>19</td>\n      <td>4850.0</td>\n      <td>True</td>\n    </tr>\n    <tr>\n      <th>3</th>\n      <td>inspection</td>\n      <td>3</td>\n      <td>20</td>\n      <td>4850.0</td>\n      <td>True</td>\n    </tr>\n    <tr>\n      <th>4</th>\n      <td>inspection</td>\n      <td>4</td>\n      <td>26</td>\n      <td>4550.0</td>\n      <td>True</td>\n    </tr>\n    <tr>\n      <th>...</th>\n      <td>...</td>\n      <td>...</td>\n      <td>...</td>\n      <td>...</td>\n      <td>...</td>\n    </tr>\n    <tr>\n      <th>73</th>\n      <td>CAT1/2 replacement</td>\n      <td>21</td>\n      <td>128</td>\n      <td>100.0</td>\n      <td>True</td>\n    </tr>\n    <tr>\n      <th>74</th>\n      <td>CAT1/2 replacement</td>\n      <td>22</td>\n      <td>134</td>\n      <td>100.0</td>\n      <td>True</td>\n    </tr>\n    <tr>\n      <th>75</th>\n      <td>CAT1/2 replacement</td>\n      <td>23</td>\n      <td>140</td>\n      <td>100.0</td>\n      <td>True</td>\n    </tr>\n    <tr>\n      <th>76</th>\n      <td>CAT1/2 replacement</td>\n      <td>24</td>\n      <td>146</td>\n      <td>100.0</td>\n      <td>True</td>\n    </tr>\n    <tr>\n      <th>77</th>\n      <td>CAT1/2 replacement</td>\n      <td>25</td>\n      <td>152</td>\n      <td>50.0</td>\n      <td>True</td>\n    </tr>\n  </tbody>\n</table>\n<p>78 rows × 5 columns</p>\n</div>"
     },
     "metadata": {},
     "execution_count": 86
    }
   ],
   "source": [
    "fm_['weathering'].reset_index()\n"
   ]
  },
  {
   "cell_type": "code",
   "execution_count": 4,
   "metadata": {},
   "outputs": [],
   "source": [
    "layout = html.P(id='ffcf')"
   ]
  },
  {
   "cell_type": "code",
   "execution_count": 5,
   "metadata": {
    "tags": []
   },
   "outputs": [
    {
     "output_type": "display_data",
     "data": {
      "text/plain": "<IPython.lib.display.IFrame at 0x1735545b550>",
      "text/html": "\n        <iframe\n            width=\"100%\"\n            height=\"650\"\n            src=\"http://127.0.0.1:8050/\"\n            frameborder=\"0\"\n            allowfullscreen\n        ></iframe>\n        "
     },
     "metadata": {}
    }
   ],
   "source": [
    "\n",
    "# Turn off logging level to speed up implementation\n",
    "logging.getLogger().setLevel(logging.CRITICAL)\n",
    "logging.getLogger(\"werkzeug\").setLevel(logging.WARNING)\n",
    "\n",
    "# Build App\n",
    "external_stylesheets = [dbc.themes.BOOTSTRAP]\n",
    "app = JupyterDash(__name__, external_stylesheets=external_stylesheets)\n",
    "\n",
    "pof_sim = copy.copy(comp)\n",
    "sens_sim = copy.copy(comp)\n",
    "\n",
    "def layout():\n",
    "    mcl = make_component_layout(comp)\n",
    "\n",
    "    layout = html.Div([\n",
    "        html.Div(id='log'),\n",
    "        html.Div(children='Update State:', id='update_state'),\n",
    "        html.Div([\n",
    "            html.P(children='Sim State', id='sim_state'),\n",
    "            html.P(id='sim_state_err', style={'color': 'red'}),\n",
    "        ]),\n",
    "        html.Div(children='Fig State', id='fig_state'),\n",
    "        html.Div([\n",
    "            dcc.Input(id='n_iterations-input', value=10, type='number'),\n",
    "            dcc.Interval(id=\"progress-interval\", n_intervals=0, interval=50),\n",
    "            dbc.Progress(id=\"progress\"),\n",
    "            dbc.Progress(id=\"progress_sens\"),\n",
    "        ]),\n",
    "        dbc.Row(\n",
    "            [\n",
    "                dbc.Col(dcc.Graph(id='pof-fig')),\n",
    "                dbc.Col(dcc.Graph(id='insp_interval-fig')),\n",
    "            ]\n",
    "        ),\n",
    "            dbc.Row(\n",
    "            [\n",
    "                dbc.Col(dcc.Graph(id='cond-fig')),\n",
    "                dbc.Col(dcc.Graph(id=\"cost-fig\"))\n",
    "            ]\n",
    "        ),\n",
    "        mcl,\n",
    "    ])\n",
    "    \n",
    "    return layout\n",
    "\n",
    "# Layout\n",
    "var_to_scale = cf.scaling\n",
    "app.layout = layout\n",
    "\n",
    "collapse_ids = comp.get_objects()\n",
    "\n",
    "@app.callback(\n",
    "    [Output(f\"{prefix}-collapse\", \"is_open\") for prefix in collapse_ids],\n",
    "    [Input(f\"{prefix}-collapse-button\", \"n_clicks\") for prefix in collapse_ids],\n",
    "    [State(f\"{prefix}-collapse\", \"is_open\") for prefix in collapse_ids],\n",
    ")\n",
    "def toggle_collapses(*args):\n",
    "    ctx = dash.callback_context\n",
    "\n",
    "    state_id = \"\"\n",
    "    collapse_id = ctx.triggered[0]['prop_id'].split('.')[0].replace('-collapse-button','')\n",
    "    if collapse_id in collapse_ids: #TODO change to is not None\n",
    "\n",
    "        state_id = collapse_id + '-collapse.is_open'\n",
    "        ctx.states[state_id] = not ctx.states[state_id]\n",
    "\n",
    "    is_open = tuple(ctx.states.values())\n",
    "\n",
    "    return is_open\n",
    "\n",
    "\n",
    "ms_fig_update = comp.get_dash_ids()\n",
    "param_inputs = [Input(dash_id,\"checked\") if 'active' in dash_id else Input(dash_id,\"value\") for dash_id in ms_fig_update]\n",
    "\n",
    "# Update --> Simulate --> Figures\n",
    "\n",
    "@app.callback(\n",
    "    Output('update_state', 'children'), \n",
    "    param_inputs\n",
    ")\n",
    "def update_parameter(graph_y_limit_active, graph_y_limit, *args):\n",
    "    \"\"\"Update a the pof object whenever an input is changes\"\"\"\n",
    "\n",
    "    # Check the parameters that changed\n",
    "    ctx = dash.callback_context\n",
    "    dash_id = None\n",
    "    value=None  \n",
    "\n",
    "    # If any parameters have changed update the objecte\n",
    "    if ctx.triggered:\n",
    "        dash_id = ctx.triggered[0]['prop_id'].split('.')[0]\n",
    "        value = ctx.triggered[0]['value']\n",
    "\n",
    "        # Scale the value if req\n",
    "        value = value / var_to_scale.get(dash_id.split('-')[-1], 1)\n",
    "\n",
    "        # update the model\n",
    "        comp.update(dash_id, value)\n",
    "    \n",
    "    return f\"Update State: {dash_id} - {value}\"\n",
    "\n",
    "\n",
    "@app.callback(\n",
    "    [Output(\"sim_state\", 'children'), Output(\"sim_state_err\", \"children\")],\n",
    "    [Input(\"n_iterations-input\", \"value\"), Input(\"update_state\", \"children\")],\n",
    ")\n",
    "def update_simulation(n_iterations, *args):\n",
    "    \"\"\" Triger a simulation whenever an update is completed or the number of iterations change\"\"\"\n",
    "    global pof_sim\n",
    "    global sim_err_count\n",
    "\n",
    "    pof_sim.cancel_sim()\n",
    "    #time.sleep(1)\n",
    "    pof_sim = copy.copy(comp)\n",
    "\n",
    "    pof_sim.next_sim(t_end=200, n_iterations=n_iterations)\n",
    "\n",
    "    if not pof_sim.up_to_date:\n",
    "        sim_err_count = sim_err_count + 1\n",
    "        return dash.no_update, f\"Errors: {sim_err_count}\"\n",
    "    return f\"Sim State: {pof_sim.n_iterations} - {n_iterations}\", \"\"\n",
    "\n",
    "fig_start = 0\n",
    "fig_end = 0\n",
    "\n",
    "# After a simulation the following callbacks are triggered\n",
    "\n",
    "@app.callback(\n",
    "    [Output(\"cost-fig\", \"figure\"),\n",
    "    Output(\"pof-fig\", \"figure\"),\n",
    "    Output(\"cond-fig\", \"figure\"),\n",
    "    Output(\"fig_state\", \"children\")], \n",
    "    [Input(\"sim_state\", \"children\")]\n",
    ")\n",
    "def update_figures(*args):\n",
    "    global fig_start\n",
    "    global fig_end\n",
    "\n",
    "    fig_start = fig_start + 1\n",
    "    cost_fig = update_cost_fig(pof_sim) #legend = dropdown value\n",
    "    pof_fig = update_pof_fig(pof_sim)\n",
    "    cond_fig = update_condition_fig(pof_sim)\n",
    "    fig_end = fig_end + 1\n",
    "    return cost_fig, pof_fig, cond_fig, f\"Fig State: {fig_start} - {fig_end}\"\n",
    "\n",
    "@app.callback(\n",
    "    Output(\"ffcf\", \"children\"), \n",
    "    [Input(\"sim_state\", \"children\")]\n",
    ")\n",
    "def update_ffcf(*args):\n",
    "    cf = pof_sim.expected_cf()\n",
    "    ff = pof_sim.expected_ff()\n",
    "\n",
    "    ratio = round(ff / (cf+ff), 2)\n",
    "\n",
    "    return f\"Conditional {cf} : {ff} Functional. {ratio}%\"\n",
    "\n",
    "@app.callback(\n",
    "    Output(\"insp_interval-fig\", \"figure\"), \n",
    "    [Input('cost-fig', 'figure')]\n",
    ")\n",
    "def update_insp_interval(*args):\n",
    "    \"\"\" Trigger a sensitivity analysis of the target variable\"\"\"\n",
    "    # Copy from the main model\n",
    "    sens_sim = copy.deepcopy(comp)\n",
    "    \n",
    "    insp_interval_fig = make_inspection_interval_fig(sens_sim, t_min=1, t_max=10, step=1, n_iterations = 100)\n",
    "\n",
    "    return insp_interval_fig\n",
    "\n",
    "# The following progress bars are always running\n",
    "\n",
    "@app.callback(\n",
    "    [Output(\"progress\", \"value\"), Output(\"progress\", \"children\")],\n",
    "    [Input(\"progress-interval\", \"n_intervals\")],\n",
    ")\n",
    "def update_progress(n):\n",
    "    if pof_sim.n is None:\n",
    "        raise Exception(\"no process started\")\n",
    "    progress = int(pof_sim.n / pof_sim.n_iterations * 100)\n",
    "\n",
    "    return progress, f\"{progress} %\" if progress >= 5 else \"\"\n",
    "\n",
    "@app.callback(\n",
    "    [Output(\"progress_sens\", \"value\"), Output(\"progress_sens\", \"children\")],\n",
    "    [Input(\"progress-interval\", \"n_intervals\")],\n",
    ")\n",
    "def update_progress_sens(n):\n",
    "    if sens_sim.n is None:\n",
    "        raise Exception(\"no process started\")\n",
    "    progress = int(sens_sim.sens_progress() * 100)\n",
    "\n",
    "    return progress, f\"{progress} %\" if progress >= 5 else \"\"\n",
    "\n",
    "\n",
    "app.run_server(debug=False, mode='inline')\n",
    "#app.run_server(debug=True, use_reloader=False)"
   ]
  },
  {
   "cell_type": "code",
   "execution_count": 6,
   "metadata": {
    "tags": []
   },
   "outputs": [
    {
     "output_type": "execute_result",
     "data": {
      "text/plain": [
       "[]"
      ]
     },
     "metadata": {},
     "execution_count": 6
    }
   ],
   "source": [
    "comp.fm['termites']._t_failures#timeline#.tasks['inspection'].sim_timeline(200)"
   ]
  },
  {
   "cell_type": "code",
   "execution_count": 7,
   "metadata": {},
   "outputs": [],
   "source": [
    "erc = dict()\n",
    "for fm_name, fm in comp.fm.items():\n",
    "    erc[fm_name] = fm._expected_risk_cost()"
   ]
  },
  {
   "cell_type": "code",
   "execution_count": 22,
   "metadata": {},
   "outputs": [
    {
     "output_type": "execute_result",
     "data": {
      "text/plain": [
       "                                    risk inspection CAT3/4 replacement  \\\n",
       "time                        [34, 39, 67]         []                 []   \n",
       "cost         [50000.0, 50000.0, 50000.0]         []                 []   \n",
       "active                              True        NaN                NaN   \n",
       "task_active                          NaN       True               True   \n",
       "\n",
       "                   CAT1/2 replacement  \n",
       "time                     [34, 39, 67]  \n",
       "cost         [7000.0, 7000.0, 7000.0]  \n",
       "active                            NaN  \n",
       "task_active                      True  "
      ],
      "text/html": "<div>\n<style scoped>\n    .dataframe tbody tr th:only-of-type {\n        vertical-align: middle;\n    }\n\n    .dataframe tbody tr th {\n        vertical-align: top;\n    }\n\n    .dataframe thead th {\n        text-align: right;\n    }\n</style>\n<table border=\"1\" class=\"dataframe\">\n  <thead>\n    <tr style=\"text-align: right;\">\n      <th></th>\n      <th>risk</th>\n      <th>inspection</th>\n      <th>CAT3/4 replacement</th>\n      <th>CAT1/2 replacement</th>\n    </tr>\n  </thead>\n  <tbody>\n    <tr>\n      <th>time</th>\n      <td>[34, 39, 67]</td>\n      <td>[]</td>\n      <td>[]</td>\n      <td>[34, 39, 67]</td>\n    </tr>\n    <tr>\n      <th>cost</th>\n      <td>[50000.0, 50000.0, 50000.0]</td>\n      <td>[]</td>\n      <td>[]</td>\n      <td>[7000.0, 7000.0, 7000.0]</td>\n    </tr>\n    <tr>\n      <th>active</th>\n      <td>True</td>\n      <td>NaN</td>\n      <td>NaN</td>\n      <td>NaN</td>\n    </tr>\n    <tr>\n      <th>task_active</th>\n      <td>NaN</td>\n      <td>True</td>\n      <td>True</td>\n      <td>True</td>\n    </tr>\n  </tbody>\n</table>\n</div>"
     },
     "metadata": {},
     "execution_count": 22
    }
   ],
   "source": []
  },
  {
   "cell_type": "code",
   "execution_count": 22,
   "metadata": {},
   "outputs": [
    {
     "output_type": "execute_result",
     "data": {
      "text/plain": [
       "['time', 'cost']"
      ]
     },
     "metadata": {},
     "execution_count": 22
    }
   ],
   "source": [
    "list(comp.fm['weathering'].expected_risk_cost()['risk'])"
   ]
  },
  {
   "cell_type": "code",
   "execution_count": 16,
   "metadata": {},
   "outputs": [
    {
     "output_type": "execute_result",
     "data": {
      "text/plain": [
       "                                            time   cost task_active  \\\n",
       "failure_mode            task                                          \n",
       "fire_damage             CAT1/2 replacement    61      0        True   \n",
       "                        inspection            61      0        True   \n",
       "                        risk                  61      0         NaN   \n",
       "fungal decay _ external CAT1/2 replacement    62    777        True   \n",
       "                        CAT3/4 replacement    62      0        True   \n",
       "                        inspection            62     50        True   \n",
       "                        risk                  62   5555         NaN   \n",
       "fungal decay _ internal CAT1/2 replacement    62    777        True   \n",
       "                        CAT3/4 replacement    62      0        True   \n",
       "                        inspection            62     50        True   \n",
       "                        pole_saver_rod        62      0        True   \n",
       "                        risk                  62   5555         NaN   \n",
       "impact                  CAT1/2 replacement    61      0        True   \n",
       "                        inspection            61      0        True   \n",
       "                        risk                  61      0         NaN   \n",
       "lightning               CAT1/2 replacement    61      0        True   \n",
       "                        inspection_1          61      0        True   \n",
       "                        inspection_2          61     50        True   \n",
       "                        risk                  61      0         NaN   \n",
       "termites                CAT1/2 replacement    62    777        True   \n",
       "                        CAT3/4 replacement    62      0        True   \n",
       "                        inspection            62     50        True   \n",
       "                        risk                  62   5555         NaN   \n",
       "                        termite_powder        62      0        True   \n",
       "weathering              CAT1/2 replacement    55   1555        True   \n",
       "                        CAT3/4 replacement    55      0        True   \n",
       "                        inspection            55      0        True   \n",
       "                        risk                  55  11111         NaN   \n",
       "\n",
       "                                            cost_cumulative  fm_active  \n",
       "failure_mode            task                                            \n",
       "fire_damage             CAT1/2 replacement                0       True  \n",
       "                        inspection                        0       True  \n",
       "                        risk                              0       True  \n",
       "fungal decay _ external CAT1/2 replacement             1554       True  \n",
       "                        CAT3/4 replacement                0       True  \n",
       "                        inspection                      409       True  \n",
       "                        risk                          11110       True  \n",
       "fungal decay _ internal CAT1/2 replacement              777       True  \n",
       "                        CAT3/4 replacement                0       True  \n",
       "                        inspection                      403       True  \n",
       "                        pole_saver_rod                    0       True  \n",
       "                        risk                           5555       True  \n",
       "impact                  CAT1/2 replacement                0       True  \n",
       "                        inspection                        0       True  \n",
       "                        risk                              0       True  \n",
       "lightning               CAT1/2 replacement                0       True  \n",
       "                        inspection_1                      0       True  \n",
       "                        inspection_2                    398       True  \n",
       "                        risk                              0       True  \n",
       "termites                CAT1/2 replacement              777       True  \n",
       "                        CAT3/4 replacement                0       True  \n",
       "                        inspection                      414       True  \n",
       "                        risk                           5555       True  \n",
       "                        termite_powder                    0       True  \n",
       "weathering              CAT1/2 replacement             3886       True  \n",
       "                        CAT3/4 replacement                0       True  \n",
       "                        inspection                        0       True  \n",
       "                        risk                          27776       True  "
      ],
      "text/html": "<div>\n<style scoped>\n    .dataframe tbody tr th:only-of-type {\n        vertical-align: middle;\n    }\n\n    .dataframe tbody tr th {\n        vertical-align: top;\n    }\n\n    .dataframe thead th {\n        text-align: right;\n    }\n</style>\n<table border=\"1\" class=\"dataframe\">\n  <thead>\n    <tr style=\"text-align: right;\">\n      <th></th>\n      <th></th>\n      <th>time</th>\n      <th>cost</th>\n      <th>task_active</th>\n      <th>cost_cumulative</th>\n      <th>fm_active</th>\n    </tr>\n    <tr>\n      <th>failure_mode</th>\n      <th>task</th>\n      <th></th>\n      <th></th>\n      <th></th>\n      <th></th>\n      <th></th>\n    </tr>\n  </thead>\n  <tbody>\n    <tr>\n      <th rowspan=\"3\" valign=\"top\">fire_damage</th>\n      <th>CAT1/2 replacement</th>\n      <td>61</td>\n      <td>0</td>\n      <td>True</td>\n      <td>0</td>\n      <td>True</td>\n    </tr>\n    <tr>\n      <th>inspection</th>\n      <td>61</td>\n      <td>0</td>\n      <td>True</td>\n      <td>0</td>\n      <td>True</td>\n    </tr>\n    <tr>\n      <th>risk</th>\n      <td>61</td>\n      <td>0</td>\n      <td>NaN</td>\n      <td>0</td>\n      <td>True</td>\n    </tr>\n    <tr>\n      <th rowspan=\"4\" valign=\"top\">fungal decay _ external</th>\n      <th>CAT1/2 replacement</th>\n      <td>62</td>\n      <td>777</td>\n      <td>True</td>\n      <td>1554</td>\n      <td>True</td>\n    </tr>\n    <tr>\n      <th>CAT3/4 replacement</th>\n      <td>62</td>\n      <td>0</td>\n      <td>True</td>\n      <td>0</td>\n      <td>True</td>\n    </tr>\n    <tr>\n      <th>inspection</th>\n      <td>62</td>\n      <td>50</td>\n      <td>True</td>\n      <td>409</td>\n      <td>True</td>\n    </tr>\n    <tr>\n      <th>risk</th>\n      <td>62</td>\n      <td>5555</td>\n      <td>NaN</td>\n      <td>11110</td>\n      <td>True</td>\n    </tr>\n    <tr>\n      <th rowspan=\"5\" valign=\"top\">fungal decay _ internal</th>\n      <th>CAT1/2 replacement</th>\n      <td>62</td>\n      <td>777</td>\n      <td>True</td>\n      <td>777</td>\n      <td>True</td>\n    </tr>\n    <tr>\n      <th>CAT3/4 replacement</th>\n      <td>62</td>\n      <td>0</td>\n      <td>True</td>\n      <td>0</td>\n      <td>True</td>\n    </tr>\n    <tr>\n      <th>inspection</th>\n      <td>62</td>\n      <td>50</td>\n      <td>True</td>\n      <td>403</td>\n      <td>True</td>\n    </tr>\n    <tr>\n      <th>pole_saver_rod</th>\n      <td>62</td>\n      <td>0</td>\n      <td>True</td>\n      <td>0</td>\n      <td>True</td>\n    </tr>\n    <tr>\n      <th>risk</th>\n      <td>62</td>\n      <td>5555</td>\n      <td>NaN</td>\n      <td>5555</td>\n      <td>True</td>\n    </tr>\n    <tr>\n      <th rowspan=\"3\" valign=\"top\">impact</th>\n      <th>CAT1/2 replacement</th>\n      <td>61</td>\n      <td>0</td>\n      <td>True</td>\n      <td>0</td>\n      <td>True</td>\n    </tr>\n    <tr>\n      <th>inspection</th>\n      <td>61</td>\n      <td>0</td>\n      <td>True</td>\n      <td>0</td>\n      <td>True</td>\n    </tr>\n    <tr>\n      <th>risk</th>\n      <td>61</td>\n      <td>0</td>\n      <td>NaN</td>\n      <td>0</td>\n      <td>True</td>\n    </tr>\n    <tr>\n      <th rowspan=\"4\" valign=\"top\">lightning</th>\n      <th>CAT1/2 replacement</th>\n      <td>61</td>\n      <td>0</td>\n      <td>True</td>\n      <td>0</td>\n      <td>True</td>\n    </tr>\n    <tr>\n      <th>inspection_1</th>\n      <td>61</td>\n      <td>0</td>\n      <td>True</td>\n      <td>0</td>\n      <td>True</td>\n    </tr>\n    <tr>\n      <th>inspection_2</th>\n      <td>61</td>\n      <td>50</td>\n      <td>True</td>\n      <td>398</td>\n      <td>True</td>\n    </tr>\n    <tr>\n      <th>risk</th>\n      <td>61</td>\n      <td>0</td>\n      <td>NaN</td>\n      <td>0</td>\n      <td>True</td>\n    </tr>\n    <tr>\n      <th rowspan=\"5\" valign=\"top\">termites</th>\n      <th>CAT1/2 replacement</th>\n      <td>62</td>\n      <td>777</td>\n      <td>True</td>\n      <td>777</td>\n      <td>True</td>\n    </tr>\n    <tr>\n      <th>CAT3/4 replacement</th>\n      <td>62</td>\n      <td>0</td>\n      <td>True</td>\n      <td>0</td>\n      <td>True</td>\n    </tr>\n    <tr>\n      <th>inspection</th>\n      <td>62</td>\n      <td>50</td>\n      <td>True</td>\n      <td>414</td>\n      <td>True</td>\n    </tr>\n    <tr>\n      <th>risk</th>\n      <td>62</td>\n      <td>5555</td>\n      <td>NaN</td>\n      <td>5555</td>\n      <td>True</td>\n    </tr>\n    <tr>\n      <th>termite_powder</th>\n      <td>62</td>\n      <td>0</td>\n      <td>True</td>\n      <td>0</td>\n      <td>True</td>\n    </tr>\n    <tr>\n      <th rowspan=\"4\" valign=\"top\">weathering</th>\n      <th>CAT1/2 replacement</th>\n      <td>55</td>\n      <td>1555</td>\n      <td>True</td>\n      <td>3886</td>\n      <td>True</td>\n    </tr>\n    <tr>\n      <th>CAT3/4 replacement</th>\n      <td>55</td>\n      <td>0</td>\n      <td>True</td>\n      <td>0</td>\n      <td>True</td>\n    </tr>\n    <tr>\n      <th>inspection</th>\n      <td>55</td>\n      <td>0</td>\n      <td>True</td>\n      <td>0</td>\n      <td>True</td>\n    </tr>\n    <tr>\n      <th>risk</th>\n      <td>55</td>\n      <td>11111</td>\n      <td>NaN</td>\n      <td>27776</td>\n      <td>True</td>\n    </tr>\n  </tbody>\n</table>\n</div>"
     },
     "metadata": {},
     "execution_count": 16
    }
   ],
   "source": [
    "df = comp.expected_risk_cost_df().groupby(by=['failure_mode', 'task']).max()\n",
    "df"
   ]
  },
  {
   "cell_type": "code",
   "execution_count": null,
   "metadata": {},
   "outputs": [],
   "source": [
    "erc = dict()\n",
    "for fm_name, fm in self.fm.items():\n",
    "    erc[fm_name] = fm.expected_risk_cost_df()\n",
    "\n",
    "df = pd.concat(erc)\n",
    "df = (\n",
    "    df.reset_index()\n",
    "    .drop(columns=\"level_1\")\n",
    "    .rename(columns={\"level_0\": \"failure_mode\"})\n",
    ")"
   ]
  },
  {
   "cell_type": "code",
   "execution_count": 14,
   "metadata": {},
   "outputs": [
    {
     "output_type": "execute_result",
     "data": {
      "text/plain": [
       "           task time cost task_active cost_cumulative  fm_active\n",
       "0    inspection    0    0        True               0       True\n",
       "1    inspection    1    0        True               0       True\n",
       "2    inspection    2    0        True               0       True\n",
       "3    inspection    3    0        True               0       True\n",
       "4    inspection    4    0        True               0       True\n",
       "..          ...  ...  ...         ...             ...        ...\n",
       "310        risk   58    0         NaN            5555       True\n",
       "311        risk   59    0         NaN            5555       True\n",
       "312        risk   60    0         NaN            5555       True\n",
       "313        risk   61    0         NaN            5555       True\n",
       "314        risk   62    0         NaN            5555       True\n",
       "\n",
       "[315 rows x 6 columns]"
      ],
      "text/html": "<div>\n<style scoped>\n    .dataframe tbody tr th:only-of-type {\n        vertical-align: middle;\n    }\n\n    .dataframe tbody tr th {\n        vertical-align: top;\n    }\n\n    .dataframe thead th {\n        text-align: right;\n    }\n</style>\n<table border=\"1\" class=\"dataframe\">\n  <thead>\n    <tr style=\"text-align: right;\">\n      <th></th>\n      <th>task</th>\n      <th>time</th>\n      <th>cost</th>\n      <th>task_active</th>\n      <th>cost_cumulative</th>\n      <th>fm_active</th>\n    </tr>\n  </thead>\n  <tbody>\n    <tr>\n      <th>0</th>\n      <td>inspection</td>\n      <td>0</td>\n      <td>0</td>\n      <td>True</td>\n      <td>0</td>\n      <td>True</td>\n    </tr>\n    <tr>\n      <th>1</th>\n      <td>inspection</td>\n      <td>1</td>\n      <td>0</td>\n      <td>True</td>\n      <td>0</td>\n      <td>True</td>\n    </tr>\n    <tr>\n      <th>2</th>\n      <td>inspection</td>\n      <td>2</td>\n      <td>0</td>\n      <td>True</td>\n      <td>0</td>\n      <td>True</td>\n    </tr>\n    <tr>\n      <th>3</th>\n      <td>inspection</td>\n      <td>3</td>\n      <td>0</td>\n      <td>True</td>\n      <td>0</td>\n      <td>True</td>\n    </tr>\n    <tr>\n      <th>4</th>\n      <td>inspection</td>\n      <td>4</td>\n      <td>0</td>\n      <td>True</td>\n      <td>0</td>\n      <td>True</td>\n    </tr>\n    <tr>\n      <th>...</th>\n      <td>...</td>\n      <td>...</td>\n      <td>...</td>\n      <td>...</td>\n      <td>...</td>\n      <td>...</td>\n    </tr>\n    <tr>\n      <th>310</th>\n      <td>risk</td>\n      <td>58</td>\n      <td>0</td>\n      <td>NaN</td>\n      <td>5555</td>\n      <td>True</td>\n    </tr>\n    <tr>\n      <th>311</th>\n      <td>risk</td>\n      <td>59</td>\n      <td>0</td>\n      <td>NaN</td>\n      <td>5555</td>\n      <td>True</td>\n    </tr>\n    <tr>\n      <th>312</th>\n      <td>risk</td>\n      <td>60</td>\n      <td>0</td>\n      <td>NaN</td>\n      <td>5555</td>\n      <td>True</td>\n    </tr>\n    <tr>\n      <th>313</th>\n      <td>risk</td>\n      <td>61</td>\n      <td>0</td>\n      <td>NaN</td>\n      <td>5555</td>\n      <td>True</td>\n    </tr>\n    <tr>\n      <th>314</th>\n      <td>risk</td>\n      <td>62</td>\n      <td>0</td>\n      <td>NaN</td>\n      <td>5555</td>\n      <td>True</td>\n    </tr>\n  </tbody>\n</table>\n<p>315 rows × 6 columns</p>\n</div>"
     },
     "metadata": {},
     "execution_count": 14
    }
   ],
   "source": [
    "comp.fm['termites'].expected_risk_cost_df()"
   ]
  },
  {
   "cell_type": "code",
   "execution_count": 13,
   "metadata": {},
   "outputs": [
    {
     "output_type": "execute_result",
     "data": {
      "text/plain": [
       "62"
      ]
     },
     "metadata": {},
     "execution_count": 13
    }
   ],
   "source": [
    "df['time'].max()"
   ]
  },
  {
   "cell_type": "code",
   "execution_count": 9,
   "metadata": {},
   "outputs": [],
   "source": [
    "%%timeit\n",
    "\n",
    "comp.expected_inspection_interval(t_min=1, t_max=10)"
   ]
  },
  {
   "cell_type": "code",
   "execution_count": 7,
   "metadata": {},
   "outputs": [],
   "source": [
    "pof_sim.cancel_sim()\n",
    "pof_sim = copy.copy(comp)\n",
    "pof_sim.next_sim(t_end=200)"
   ]
  },
  {
   "cell_type": "code",
   "execution_count": 26,
   "metadata": {},
   "outputs": [],
   "source": [
    "comp.reset()"
   ]
  },
  {
   "cell_type": "code",
   "execution_count": 30,
   "metadata": {},
   "outputs": [
    {
     "output_type": "execute_result",
     "data": {
      "text/plain": [
       "{}"
      ]
     },
     "metadata": {},
     "execution_count": 30
    }
   ],
   "source": [
    "pof_sim.fm['random'].timeline"
   ]
  },
  {
   "cell_type": "code",
   "execution_count": 13,
   "metadata": {},
   "outputs": [
    {
     "output_type": "execute_result",
     "data": {
      "text/plain": "False"
     },
     "metadata": {},
     "execution_count": 13
    }
   ],
   "source": [
    "task.active"
   ]
  }
 ]
}