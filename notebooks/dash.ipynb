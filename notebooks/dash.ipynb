{
 "metadata": {
  "language_info": {
   "codemirror_mode": {
    "name": "ipython",
    "version": 3
   },
   "file_extension": ".py",
   "mimetype": "text/x-python",
   "name": "python",
   "nbconvert_exporter": "python",
   "pygments_lexer": "ipython3",
   "version": "3.8.3-final"
  },
  "orig_nbformat": 2,
  "kernelspec": {
   "name": "python_defaultSpec_1598390911013",
   "display_name": "Python 3.8.3 64-bit ('base': conda)"
  }
 },
 "nbformat": 4,
 "nbformat_minor": 2,
 "cells": [
  {
   "cell_type": "markdown",
   "metadata": {},
   "source": [
    "# Interface Demonstration Notebook\n",
    "\n",
    "A notebook to demonstrate an interface with some of the features of the Probability of Failure Model\n",
    "\n",
    "Author: gavin.treseder@essentialenergy.com.au"
   ]
  },
  {
   "cell_type": "code",
   "execution_count": 1,
   "metadata": {},
   "outputs": [],
   "source": [
    "import sys, os\n",
    "sys.path.append(os.path.dirname(os.getcwd()))\n",
    "\n",
    "import dash\n",
    "import dash_bootstrap_components as dbc\n",
    "import dash_core_components as dcc\n",
    "import dash_html_components as html\n",
    "from dash.dependencies import Input, Output, State\n",
    "import plotly.express as px\n",
    "from jupyter_dash import JupyterDash\n",
    "import pandas as pd\n",
    "\n",
    "import copy\n",
    "\n",
    "from pof.component import Component\n",
    "from pof.failure_mode import FailureMode\n",
    "from interface.layouts import *"
   ]
  },
  {
   "cell_type": "code",
   "execution_count": 2,
   "metadata": {},
   "outputs": [],
   "source": [
    "comp = Component().set_demo()\n",
    "fm = FailureMode().set_demo()"
   ]
  },
  {
   "cell_type": "code",
   "execution_count": 3,
   "metadata": {},
   "outputs": [],
   "source": [
    "# Component Tests\n",
    "\n",
    "mcl = make_component_layout(comp, prefix='comp-')"
   ]
  },
  {
   "cell_type": "code",
   "execution_count": 4,
   "metadata": {},
   "outputs": [],
   "source": [
    "graph_limit =  dbc.InputGroup(\n",
    "    [\n",
    "        dbc.InputGroupAddon(\n",
    "            [\n",
    "                dbc.Checkbox(id='graph_y_limit_active', checked=True),\n",
    "                \n",
    "            ],\n",
    "            addon_type=\"prepend\"\n",
    "        ),\n",
    "        dbc.Label(\"Graph Y Limit\"),\n",
    "        dbc.Input(\n",
    "            type=\"number\",\n",
    "            id= 'graph_y_limit',\n",
    "            #value = ,\n",
    "            debounce=True,\n",
    "        ),\n",
    "    ],\n",
    ")\n",
    "\n",
    "graph_inputs = [Input('graph_y_limit_active', 'checked'), Input('graph_y_limit', 'value')]"
   ]
  },
  {
   "cell_type": "code",
   "execution_count": 6,
   "metadata": {
    "tags": []
   },
   "outputs": [
    {
     "output_type": "display_data",
     "data": {
      "text/plain": "<IPython.lib.display.IFrame at 0x178bf827dc0>",
      "text/html": "\n        <iframe\n            width=\"100%\"\n            height=\"650\"\n            src=\"http://127.0.0.1:8050/\"\n            frameborder=\"0\"\n            allowfullscreen\n        ></iframe>\n        "
     },
     "metadata": {}
    }
   ],
   "source": [
    "\n",
    "# Build App\n",
    "external_stylesheets = [dbc.themes.BOOTSTRAP]\n",
    "app = JupyterDash(__name__, external_stylesheets=external_stylesheets)\n",
    "\n",
    "# Layout\n",
    "app.layout = html.Div([\n",
    "    html.Div(children='Test Output', id='test_output'),\n",
    "    graph_limit,\n",
    "    dcc.Graph(id=\"maintenance_strategy\"),\n",
    "    mcl,\n",
    "])\n",
    "\n",
    "sep= '-'\n",
    "collapse_ids = []\n",
    "for comp_name, comp in {'comp' : comp}.items():\n",
    "    comp_prefix = comp_name + sep\n",
    "    collapse_ids = collapse_ids + [comp_name]\n",
    "    # Failure modes\n",
    "    fm_prefix = comp_prefix + 'failure_mode' + sep\n",
    "    for fm_name, fm in comp.fm.items():\n",
    "        collapse_ids = collapse_ids + [fm_prefix + fm_name]\n",
    "        # Tasks\n",
    "        task_prefix = fm_prefix + fm_name + sep + 'task' + sep\n",
    "        for task in fm.tasks:\n",
    "            collapse_ids = collapse_ids + [task_prefix + task]\n",
    "\n",
    "\n",
    "@app.callback(\n",
    "    #Output(\"test_output\", \"children\"),\n",
    "    [Output(f\"{prefix}-collapse\", \"is_open\") for prefix in collapse_ids],\n",
    "    [Input(f\"{prefix}-collapse-button\", \"n_clicks\") for prefix in collapse_ids],\n",
    "    [State(f\"{prefix}-collapse\", \"is_open\") for prefix in collapse_ids],\n",
    ")\n",
    "def toggle_collapses(*args):\n",
    "    ctx = dash.callback_context\n",
    "\n",
    "    state_id = \"\"\n",
    "    collapse_id = ctx.triggered[0]['prop_id'].split('.')[0].replace('-collapse-button','')\n",
    "    if collapse_id in collapse_ids: #TODO change to is not None\n",
    "\n",
    "        state_id = collapse_id + '-collapse.is_open'\n",
    "        ctx.states[state_id] = not ctx.states[state_id]\n",
    "\n",
    "    is_open = tuple(ctx.states.values())\n",
    "\n",
    "    return is_open\n",
    "\n",
    "ms_fig_update = comp.get_dash_ids(prefix ='comp-')\n",
    "\n",
    "@app.callback(\n",
    "    Output(\"maintenance_strategy\", \"figure\"), \n",
    "    graph_inputs + [Input(dash_id,\"checked\") if 'active' in dash_id else Input(dash_id,\"value\") for dash_id in ms_fig_update]\n",
    ")\n",
    "def update_maintenance_strategy(graph_y_limit_active, graph_y_limit, *args):\n",
    "\n",
    "    # Check the parameters that changed\n",
    "    ctx = dash.callback_context\n",
    "    dash_id = ctx.triggered[0]['prop_id'].split('.')[0]\n",
    "    value = ctx.triggered[0]['value']\n",
    "\n",
    "    #Temp utnil mutliple failure modes are set up\n",
    "    dash_id = dash_id.replace('comp-', \"\")\n",
    "\n",
    "    # Update the model\n",
    "    comp.dash_update(dash_id, value)\n",
    "\n",
    "    comp.mc_timeline(t_end=200, n_iterations=100)\n",
    "    df = comp.expected_risk_cost_df(t_end=200)\n",
    "\n",
    "    fig = px.area(\n",
    "        df,\n",
    "        x=\"time\",\n",
    "        y=\"cost_cumulative\",\n",
    "        color=\"task\",\n",
    "        line_group='failure_mode',\n",
    "        title=\"Maintenance Strategy Costs\",\n",
    "    )\n",
    "\n",
    "    if graph_y_limit_active:\n",
    "        fig.update_yaxes(range=[0, graph_y_limit])\n",
    "\n",
    "    return fig\n",
    "\n",
    "@app.callback(\n",
    "    Output(\"test_output\", \"children\"),\n",
    "    [Input('comp-active', 'checked')]\n",
    ")\n",
    "def test(task_value):\n",
    "    # Check the parameters that changed\n",
    "    ctx = dash.callback_context\n",
    "    dash_id = ctx.triggered[0]['prop_id'].split('.')[0]\n",
    "    value = ctx.triggered[0]['value']\n",
    "\n",
    "    return \"value\" + str(value)\n",
    "\n",
    "#Execute\n",
    "app.run_server(mode='inline', debug=True)"
   ]
  },
  {
   "cell_type": "code",
   "execution_count": 10,
   "metadata": {
    "tags": []
   },
   "outputs": [
    {
     "output_type": "execute_result",
     "data": {
      "text/plain": "100., 100., 100., 100., 100., 100., 100., 100., 100., 100., 100.,\n          100., 100., 100., 100., 100., 100., 100., 100., 100., 100., 100.,\n          100., 100., 100., 100., 100., 100., 100., 100., 100., 100., 100.,\n          100., 100., 100., 100., 100., 100., 100., 100., 100., 100., 100.,\n          100., 100., 100., 100., 100., 100., 100., 100., 100., 100., 100.,\n          100., 100., 100., 100., 100., 100., 100., 100., 100., 100., 100.,\n          100., 100., 100., 100., 100., 100., 100., 100., 100., 100., 100.,\n          100., 100., 100., 100., 100., 100., 100., 100., 100., 100., 100.,\n          100., 100., 100.]),\n   'external_diameter': array([100., 100., 100., 100., 100., 100., 100., 100., 100., 100., 100.,\n          100., 100., 100., 100., 100., 100., 100., 100., 100., 100., 100.,\n          100., 100., 100., 100., 100., 100., 100., 100., 100., 100., 100.,\n          100., 100., 100., 100., 100., 100., 100., 100., 100., 100., 100.,\n          100., 100., 100., 100., 100., 100., 100., 100., 100., 100., 100.,\n          100., 100., 100., 100., 100., 100., 100., 100., 100., 100., 100.,\n          100., 100., 100., 100., 100., 100., 100., 100., 100., 100., 100.,\n          100., 100., 100., 100., 100., 100., 100., 100., 100., 100., 100.,\n          100., 100., 100., 100., 100., 100., 100., 100., 100., 100., 100.,\n          100., 100., 100., 100., 100., 100., 100., 100., 100., 100., 100.,\n          100., 100., 100., 100., 100., 100., 100., 100., 100., 100., 100.,\n          100., 100., 100., 100., 100., 100., 100., 100., 100., 100., 100.,\n          100., 100., 100., 100., 100., 100., 100., 100., 100., 100., 100.,\n          100., 100., 100., 100., 100., 100., 100., 100., 100., 100., 100.,\n          100., 100., 100., 100., 100., 100., 100., 100., 100., 100., 100.,\n          100., 100., 100., 100., 100., 100., 100., 100., 100., 100., 100.,\n          100., 100., 100., 100., 100., 100., 100., 100., 100., 100., 100.,\n          100., 100., 100., 100., 100., 100., 100., 100., 100., 100., 100.,\n          100., 100., 100.]),\n   'failure': array([False, False, False, False, False, False, False, False, False,\n          False, False, False, False, False, False, False, False, False,\n          False, False, False, False, False, False, False, False, False,\n          False, False, False, False, False, False, False, False, False,\n          False, False, False, False, False, False, False, False, False,\n          False, False, False, False, False, False, False, False, False,\n          False, False, False, False, False, False, False, False, False,\n          False, False, False, False, False, False, False, False, False,\n          False, False, False, False, False, False, False, False, False,\n          False, False, False, False, False, False, False, False, False,\n          False, False, False, False, False, False, False, False, False,\n          False, False, False, False, False, False, False, False, False,\n          False, False, False, False, False, False, False, False, False,\n          False, False, False, False, False, False, False, False, False,\n          False, False, False, False, False, False, False, False, False,\n          False, False, False, False, False, False, False, False, False,\n          False, False, False, False, False, False, False, False, False,\n          False, False, False, False, False, False, False, False, False,\n          False, False, False, False, False, False, False, False, False,\n          False, False, False, False, False, False, False, False, False,\n          False, False, False, False, False, False, False, False, False,\n          False, False, False, False, False, False, False, False, False,\n          False, False, False]),\n   'inspection': array([5., 4., 3., 2., 1., 0., 4., 3., 2., 1., 0., 4., 3., 2., 1., 0., 4.,\n          3., 2., 1., 0., 4., 3., 2., 1., 0., 4., 3., 2., 1., 0., 4., 3., 2.,\n          1., 0., 4., 3., 2., 1., 0., 4., 3., 2., 1., 0., 4., 3., 2., 1., 0.,\n          4., 3., 2., 1., 0., 4., 3., 2., 1., 0., 4., 3., 2., 1., 0., 4., 3.,\n          2., 1., 0., 4., 3., 2., 1., 0., 4., 3., 2., 1., 0., 4., 3., 2., 1.,\n          0., 4., 3., 2., 1., 0., 4., 3., 2., 1., 0., 4., 3., 2., 1., 0., 4.,\n          3., 2., 1., 0., 4., 3., 2., 1., 0., 4., 3., 2., 1., 0., 4., 3., 2.,\n          1., 0., 4., 3., 2., 1., 0., 4., 3., 2., 1., 0., 4., 3., 2., 1., 0.,\n          4., 3., 2., 1., 0., 4., 3., 2., 1., 0., 4., 3., 2., 1., 0., 4., 3.,\n          2., 1., 0., 4., 3., 2., 1., 0., 4., 3., 2., 1., 0., 4., 3., 2., 1.,\n          0., 4., 3., 2., 1., 0., 4., 3., 2., 1., 0., 4., 3., 2., 1., 0., 4.,\n          3., 2., 1., 0., 4., 3., 2., 1., 0., 4., 3., 2., 1., 0.]),\n   'detection': array([ True,  True,  True,  True,  True,  True,  True,  True,  True,\n           True,  True,  True,  True,  True,  True,  True,  True,  True,\n           True,  True,  True,  True,  True,  True,  True,  True,  True,\n           True,  True,  True,  True,  True,  True,  True,  True,  True,\n           True,  True,  True,  True,  True,  True,  True,  True,  True,\n           True,  True,  True,  True,  True,  True,  True,  True,  True,\n           True,  True,  True,  True,  True,  True,  True,  True,  True,\n           True,  True,  True,  True,  True,  True,  True,  True,  True,\n           True,  True,  True,  True,  True,  True,  True,  True,  True,\n           True,  True,  True,  True,  True,  True,  True,  True,  True,\n           True,  True,  True,  True,  True,  True,  True,  True,  True,\n           True,  True,  True,  True,  True,  True,  True,  True,  True,\n           True,  True,  True,  True,  True,  True,  True,  True,  True,\n           True,  True,  True,  True,  True,  True,  True,  True,  True,\n           True,  True,  True,  True,  True,  True,  True,  True,  True,\n           True,  True,  True,  True,  True,  True,  True,  True,  True,\n           True,  True,  True,  True,  True,  True,  True,  True,  True,\n           True,  True,  True,  True,  True,  True,  True,  True,  True,\n           True,  True,  True,  True,  True,  True,  True,  True,  True,\n           True,  True,  True,  True,  True,  True,  True,  True,  True,\n           True,  True,  True,  True,  True,  True,  True,  True,  True,\n           True,  True,  True,  True,  True,  True,  True,  True,  True,\n           True,  True,  True]),\n   'on_condition_repair': array([-1, -1, -1, -1, -1, -1, -1, -1, -1, -1, -1, -1, -1, -1, -1, -1, -1,\n          -1, -1, -1, -1, -1, -1, -1, -1, -1, -1, -1, -1, -1, -1, -1, -1, -1,\n          -1, -1, -1, -1, -1, -1, -1, -1, -1, -1, -1, -1, -1, -1, -1, -1, -1,\n          -1, -1, -1, -1, -1, -1, -1, -1, -1, -1, -1, -1, -1, -1, -1, -1, -1,\n          -1, -1, -1, -1, -1, -1, -1, -1, -1, -1, -1, -1, -1, -1, -1, -1, -1,\n          -1, -1, -1, -1, -1, -1, -1, -1, -1, -1, -1, -1, -1, -1, -1, -1, -1,\n          -1, -1, -1, -1, -1, -1, -1, -1, -1, -1, -1, -1, -1, -1, -1, -1, -1,\n          -1, -1, -1, -1, -1, -1, -1, -1, -1, -1, -1, -1, -1, -1, -1, -1, -1,\n          -1, -1, -1, -1, -1, -1, -1, -1, -1, -1, -1, -1, -1, -1, -1, -1, -1,\n          -1, -1, -1, -1, -1, -1, -1, -1, -1, -1, -1, -1, -1, -1, -1, -1, -1,\n          -1, -1, -1, -1, -1, -1, -1, -1, -1, -1, -1, -1, -1, -1, -1, -1, -1,\n          -1, -1, -1, -1, -1, -1, -1, -1, -1, -1, -1, -1, -1, -1]),\n   'cm': array([-1, -1, -1, -1, -1, -1, -1, -1, -1, -1, -1, -1, -1, -1, -1, -1, -1,\n          -1, -1, -1, -1, -1, -1, -1, -1, -1, -1, -1, -1, -1, -1, -1, -1, -1,\n          -1, -1, -1, -1, -1, -1, -1, -1, -1, -1, -1, -1, -1, -1, -1, -1, -1,\n          -1, -1, -1, -1, -1, -1, -1, -1, -1, -1, -1, -1, -1, -1, -1, -1, -1,\n          -1, -1, -1, -1, -1, -1, -1, -1, -1, -1, -1, -1, -1, -1, -1, -1, -1,\n          -1, -1, -1, -1, -1, -1, -1, -1, -1, -1, -1, -1, -1, -1, -1, -1, -1,\n          -1, -1, -1, -1, -1, -1, -1, -1, -1, -1, -1, -1, -1, -1, -1, -1, -1,\n          -1, -1, -1, -1, -1, -1, -1, -1, -1, -1, -1, -1, -1, -1, -1, -1, -1,\n          -1, -1, -1, -1, -1, -1, -1, -1, -1, -1, -1, -1, -1, -1, -1, -1, -1,\n          -1, -1, -1, -1, -1, -1, -1, -1, -1, -1, -1, -1, -1, -1, -1, -1, -1,\n          -1, -1, -1, -1, -1, -1, -1, -1, -1, -1, -1, -1, -1, -1, -1, -1, -1,\n          -1, -1, -1, -1, -1, -1, -1, -1, -1, -1, -1, -1, -1, -1])},\n  99: {'time': array([  0,   1,   2,   3,   4,   5,   6,   7,   8,   9,  10,  11,  12,\n           13,  14,  15,  16,  17,  18,  19,  20,  21,  22,  23,  24,  25,\n           26,  27,  28,  29,  30,  31,  32,  33,  34,  35,  36,  37,  38,\n           39,  40,  41,  42,  43,  44,  45,  46,  47,  48,  49,  50,  51,\n           52,  53,  54,  55,  56,  57,  58,  59,  60,  61,  62,  63,  64,\n           65,  66,  67,  68,  69,  70,  71,  72,  73,  74,  75,  76,  77,\n           78,  79,  80,  81,  82,  83,  84,  85,  86,  87,  88,  89,  90,\n           91,  92,  93,  94,  95,  96,  97,  98,  99, 100, 101, 102, 103,\n          104, 105, 106, 107, 108, 109, 110, 111, 112, 113, 114, 115, 116,\n          117, 118, 119, 120, 121, 122, 123, 124, 125, 126, 127, 128, 129,\n          130, 131, 132, 133, 134, 135, 136, 137, 138, 139, 140, 141, 142,\n          143, 144, 145, 146, 147, 148, 149, 150, 151, 152, 153, 154, 155,\n          156, 157, 158, 159, 160, 161, 162, 163, 164, 165, 166, 167, 168,\n          169, 170, 171, 172, 173, 174, 175, 176, 177, 178, 179, 180, 181,\n          182, 183, 184, 185, 186, 187, 188, 189, 190, 191, 192, 193, 194,\n          195, 196, 197, 198, 199, 200]),\n   'initiation': array([False, False, False, False, False, False, False, False, False,\n          False, False, False, False, False, False, False, False, False,\n          False, False, False, False, False, False, False, False, False,\n          False, False, False, False, False,  True,  True, False, False,\n          False, False, False, False, False, False, False, False, False,\n          False, False, False, False, False, False, False, False, False,\n          False, False, False, False, False, False, False, False, False,\n          False, False, False, False, False, False, False, False, False,\n          False, False, False, False, False, False, False, False, False,\n          False, False, False, False, False, False, False, False, False,\n          False, False, False, False, False, False, False, False, False,\n          False, False, False, False, False, False, False, False, False,\n          False, False, False, False, False, False, False, False, False,\n          False, False, False, False, False, False, False, False, False,\n          False, False, False, False, False, False, False, False, False,\n          False, False, False, False, False, False, False, False, False,\n          False, False, False, False, False, False, False, False, False,\n          False, False, False, False, False, False, False, False, False,\n          False, False, False, False, False, False, False, False, False,\n          False, False, False, False, False, False, False, False, False,\n          False, False, False, False, False, False, False, False, False,\n          False, False, False, False, False, False, False, False, False,\n          False, False,  True]),\n   'wall_thickness': array([100., 100., 100., 100., 100., 100., 100., 100., 100., 100., 100.,\n          100., 100., 100., 100., 100., 100., 100., 100., 100., 100., 100.,\n          100., 100., 100., 100., 100., 100., 100., 100., 100., 100., 100.,\n            0., 100., 100., 100., 100., 100., 100., 100., 100., 100., 100.,\n          100., 100., 100., 100., 100., 100., 100., 100., 100., 100., 100.,\n          100., 100., 100., 100., 100., 100., 100., 100., 100., 100., 100.,\n          100., 100., 100., 100., 100., 100., 100., 100., 100., 100., 100.,\n          100., 100., 100., 100., 100., 100., 100., 100., 100., 100., 100.,\n          100., 100., 100., 100., 100., 100., 100., 100., 100., 100., 100.,\n          100., 100., 100., 100., 100., 100., 100., 100., 100., 100., 100.,\n          100., 100., 100., 100., 100., 100., 100., 100., 100., 100., 100.,\n          100., 100., 100., 100., 100., 100., 100., 100., 100., 100., 100.,\n          100., 100., 100., 100., 100., 100., 100., 100., 100., 100., 100.,\n          100., 100., 100., 100., 100., 100., 100., 100., 100., 100., 100.,\n          100., 100., 100., 100., 100., 100., 100., 100., 100., 100., 100.,\n          100., 100., 100., 100., 100., 100., 100., 100., 100., 100., 100.,\n          100., 100., 100., 100., 100., 100., 100., 100., 100., 100., 100.,\n          100., 100., 100., 100., 100., 100., 100., 100., 100., 100., 100.,\n          100., 100., 100.]),\n   'external_diameter': array([100., 100., 100., 100., 100., 100., 100., 100., 100., 100., 100.,\n          100., 100., 100., 100., 100., 100., 100., 100., 100., 100., 100.,\n          100., 100., 100., 100., 100., 100., 100., 100., 100., 100., 100.,\n           98., 100., 100., 100., 100., 100., 100., 100., 100., 100., 100.,\n          100., 100., 100., 100., 100., 100., 100., 100., 100., 100., 100.,\n          100., 100., 100., 100., 100., 100., 100., 100., 100., 100., 100.,\n          100., 100., 100., 100., 100., 100., 100., 100., 100., 100., 100.,\n          100., 100., 100., 100., 100., 100., 100., 100., 100., 100., 100.,\n          100., 100., 100., 100., 100., 100., 100., 100., 100., 100., 100.,\n          100., 100., 100., 100., 100., 100., 100., 100., 100., 100., 100.,\n          100., 100., 100., 100., 100., 100., 100., 100., 100., 100., 100.,\n          100., 100., 100., 100., 100., 100., 100., 100., 100., 100., 100.,\n          100., 100., 100., 100., 100., 100., 100., 100., 100., 100., 100.,\n          100., 100., 100., 100., 100., 100., 100., 100., 100., 100., 100.,\n          100., 100., 100., 100., 100., 100., 100., 100., 100., 100., 100.,\n          100., 100., 100., 100., 100., 100., 100., 100., 100., 100., 100.,\n          100., 100., 100., 100., 100., 100., 100., 100., 100., 100., 100.,\n          100., 100., 100., 100., 100., 100., 100., 100., 100., 100., 100.,\n          100., 100., 100.]),\n   'failure': array([False, False, False, False, False, False, False, False, False,\n          False, False, False, False, False, False, False, False, False,\n          False, False, False, False, False, False, False, False, False,\n          False, False, False, False, False, False,  True, False, False,\n          False, False, False, False, False, False, False, False, False,\n          False, False, False, False, False, False, False, False, False,\n          False, False, False, False, False, False, False, False, False,\n          False, False, False, False, False, False, False, False, False,\n          False, False, False, False, False, False, False, False, False,\n          False, False, False, False, False, False, False, False, False,\n          False, False, False, False, False, False, False, False, False,\n          False, False, False, False, False, False, False, False, False,\n          False, False, False, False, False, False, False, False, False,\n          False, False, False, False, False, False, False, False, False,\n          False, False, False, False, False, False, False, False, False,\n          False, False, False, False, False, False, False, False, False,\n          False, False, False, False, False, False, False, False, False,\n          False, False, False, False, False, False, False, False, False,\n          False, False, False, False, False, False, False, False, False,\n          False, False, False, False, False, False, False, False, False,\n          False, False, False, False, False, False, False, False, False,\n          False, False, False, False, False, False, False, False, False,\n          False, False, False]),\n   'inspection': array([5., 4., 3., 2., 1., 0., 4., 3., 2., 1., 0., 4., 3., 2., 1., 0., 4.,\n          3., 2., 1., 0., 4., 3., 2., 1., 0., 4., 3., 2., 1., 0., 4., 3., 2.,\n          1., 0., 4., 3., 2., 1., 0., 4., 3., 2., 1., 0., 4., 3., 2., 1., 0.,\n          4., 3., 2., 1., 0., 4., 3., 2., 1., 0., 4., 3., 2., 1., 0., 4., 3.,\n          2., 1., 0., 4., 3., 2., 1., 0., 4., 3., 2., 1., 0., 4., 3., 2., 1.,\n          0., 4., 3., 2., 1., 0., 4., 3., 2., 1., 0., 4., 3., 2., 1., 0., 4.,\n          3., 2., 1., 0., 4., 3., 2., 1., 0., 4., 3., 2., 1., 0., 4., 3., 2.,\n          1., 0., 4., 3., 2., 1., 0., 4., 3., 2., 1., 0., 4., 3., 2., 1., 0.,\n          4., 3., 2., 1., 0., 4., 3., 2., 1., 0., 4., 3., 2., 1., 0., 4., 3.,\n          2., 1., 0., 4., 3., 2., 1., 0., 4., 3., 2., 1., 0., 4., 3., 2., 1.,\n          0., 4., 3., 2., 1., 0., 4., 3., 2., 1., 0., 4., 3., 2., 1., 0., 4.,\n          3., 2., 1., 0., 4., 3., 2., 1., 0., 4., 3., 2., 1., 0.]),\n   'detection': array([ True,  True,  True,  True,  True,  True,  True,  True,  True,\n           True,  True,  True,  True,  True,  True,  True,  True,  True,\n           True,  True,  True,  True,  True,  True,  True,  True,  True,\n           True,  True,  True,  True,  True,  True,  True, False, False,\n          False, False, False, False, False, False, False, False, False,\n          False, False, False, False, False, False, False, False, False,\n          False, False, False, False, False, False, False, False, False,\n          False, False, False, False, False, False, False, False, False,\n          False, False, False, False, False, False, False, False, False,\n          False, False, False, False, False, False, False, False, False,\n          False, False, False, False, False, False, False, False, False,\n          False, False, False, False, False, False, False, False, False,\n          False, False, False, False, False, False, False, False, False,\n          False, False, False, False, False, False, False, False, False,\n          False, False, False, False, False, False, False, False, False,\n          False, False, False, False, False, False, False, False, False,\n          False, False, False, False, False, False, False, False, False,\n          False, False, False, False, False, False, False, False, False,\n          False, False, False, False, False, False, False, False, False,\n          False, False, False, False, False, False, False, False, False,\n          False, False, False, False, False, False, False, False, False,\n          False, False, False, False, False, False, False, False, False,\n          False, False, False]),\n   'on_condition_repair': array([-1, -1, -1, -1, -1, -1, -1, -1, -1, -1, -1, -1, -1, -1, -1, -1, -1,\n          -1, -1, -1, -1, -1, -1, -1, -1, -1, -1, -1, -1, -1, -1, -1, -1, -1,\n          -1, -1, -1, -1, -1, -1, -1, -1, -1, -1, -1, -1, -1, -1, -1, -1, -1,\n          -1, -1, -1, -1, -1, -1, -1, -1, -1, -1, -1, -1, -1, -1, -1, -1, -1,\n          -1, -1, -1, -1, -1, -1, -1, -1, -1, -1, -1, -1, -1, -1, -1, -1, -1,\n          -1, -1, -1, -1, -1, -1, -1, -1, -1, -1, -1, -1, -1, -1, -1, -1, -1,\n          -1, -1, -1, -1, -1, -1, -1, -1, -1, -1, -1, -1, -1, -1, -1, -1, -1,\n          -1, -1, -1, -1, -1, -1, -1, -1, -1, -1, -1, -1, -1, -1, -1, -1, -1,\n          -1, -1, -1, -1, -1, -1, -1, -1, -1, -1, -1, -1, -1, -1, -1, -1, -1,\n          -1, -1, -1, -1, -1, -1, -1, -1, -1, -1, -1, -1, -1, -1, -1, -1, -1,\n          -1, -1, -1, -1, -1, -1, -1, -1, -1, -1, -1, -1, -1, -1, -1, -1, -1,\n          -1, -1, -1, -1, -1, -1, -1, -1, -1, -1, -1, -1, -1, -1]),\n   'cm': array([-1, -1, -1, -1, -1, -1, -1, -1, -1, -1, -1, -1, -1, -1, -1, -1, -1,\n          -1, -1, -1, -1, -1, -1, -1, -1, -1, -1, -1, -1, -1, -1, -1, -1,  0,\n          -1, -1, -1, -1, -1, -1, -1, -1, -1, -1, -1, -1, -1, -1, -1, -1, -1,\n          -1, -1, -1, -1, -1, -1, -1, -1, -1, -1, -1, -1, -1, -1, -1, -1, -1,\n          -1, -1, -1, -1, -1, -1, -1, -1, -1, -1, -1, -1, -1, -1, -1, -1, -1,\n          -1, -1, -1, -1, -1, -1, -1, -1, -1, -1, -1, -1, -1, -1, -1, -1, -1,\n          -1, -1, -1, -1, -1, -1, -1, -1, -1, -1, -1, -1, -1, -1, -1, -1, -1,\n          -1, -1, -1, -1, -1, -1, -1, -1, -1, -1, -1, -1, -1, -1, -1, -1, -1,\n          -1, -1, -1, -1, -1, -1, -1, -1, -1, -1, -1, -1, -1, -1, -1, -1, -1,\n          -1, -1, -1, -1, -1, -1, -1, -1, -1, -1, -1, -1, -1, -1, -1, -1, -1,\n          -1, -1, -1, -1, -1, -1, -1, -1, -1, -1, -1, -1, -1, -1, -1, -1, -1,\n          -1, -1, -1, -1, -1, -1, -1, -1, -1, -1, -1, -1, -1, -1])}},\n 'value': None,\n '_sim_counter': 100}"
     },
     "metadata": {},
     "execution_count": 10
    }
   ],
   "source": [
    "comp.fm['random'].__dict__"
   ]
  },
  {
   "cell_type": "code",
   "execution_count": 7,
   "metadata": {},
   "outputs": [
    {
     "output_type": "execute_result",
     "data": {
      "text/plain": "True"
     },
     "metadata": {},
     "execution_count": 7
    }
   ],
   "source": [
    "comp.fm['slow_aging'].active"
   ]
  },
  {
   "cell_type": "code",
   "execution_count": 7,
   "metadata": {},
   "outputs": [
    {
     "output_type": "error",
     "ename": "NameError",
     "evalue": "name 'prefix' is not defined",
     "traceback": [
      "\u001b[1;31m---------------------------------------------------------------------------\u001b[0m",
      "\u001b[1;31mNameError\u001b[0m                                 Traceback (most recent call last)",
      "\u001b[1;32m<ipython-input-7-25bab76e7441>\u001b[0m in \u001b[0;36m<module>\u001b[1;34m\u001b[0m\n\u001b[0;32m      2\u001b[0m layout = dbc.InputGroup(\n\u001b[0;32m      3\u001b[0m     [\n\u001b[1;32m----> 4\u001b[1;33m         \u001b[0mdbc\u001b[0m\u001b[1;33m.\u001b[0m\u001b[0mInputGroupAddon\u001b[0m\u001b[1;33m(\u001b[0m\u001b[0mdbc\u001b[0m\u001b[1;33m.\u001b[0m\u001b[0mCheckbox\u001b[0m\u001b[1;33m(\u001b[0m\u001b[0mid\u001b[0m\u001b[1;33m=\u001b[0m\u001b[0mprefix\u001b[0m \u001b[1;33m+\u001b[0m \u001b[1;34m'active'\u001b[0m\u001b[1;33m,\u001b[0m \u001b[0mchecked\u001b[0m\u001b[1;33m=\u001b[0m\u001b[1;32mTrue\u001b[0m\u001b[1;33m)\u001b[0m\u001b[1;33m,\u001b[0m \u001b[0maddon_type\u001b[0m\u001b[1;33m=\u001b[0m\u001b[1;34m\"prepend\"\u001b[0m\u001b[1;33m)\u001b[0m\u001b[1;33m,\u001b[0m\u001b[1;33m\u001b[0m\u001b[1;33m\u001b[0m\u001b[0m\n\u001b[0m\u001b[0;32m      5\u001b[0m \u001b[1;33m\u001b[0m\u001b[0m\n\u001b[0;32m      6\u001b[0m         dbc.Button(\n",
      "\u001b[1;31mNameError\u001b[0m: name 'prefix' is not defined"
     ]
    }
   ],
   "source": []
  },
  {
   "cell_type": "code",
   "execution_count": 8,
   "metadata": {
    "tags": []
   },
   "outputs": [
    {
     "output_type": "execute_result",
     "data": {
      "text/plain": "'inspection-active'"
     },
     "metadata": {},
     "execution_count": 8
    }
   ],
   "source": [
    "dash_id = 'task-inspection-active'\n",
    "dash_id = dash_id.replace(next_id + sep, \"\")\n",
    "task_name= dash_id.split(sep)[0]\n",
    "dash_id = dash_id.replace(next_id + sep, \"\")\n",
    "dash_id"
   ]
  },
  {
   "cell_type": "code",
   "execution_count": 13,
   "metadata": {},
   "outputs": [
    {
     "output_type": "execute_result",
     "data": {
      "text/plain": "False"
     },
     "metadata": {},
     "execution_count": 13
    }
   ],
   "source": [
    "task.active"
   ]
  },
  {
   "cell_type": "code",
   "execution_count": 12,
   "metadata": {},
   "outputs": [],
   "source": [
    "fm.tasks['inspection'].__dict__['active'] = False"
   ]
  },
  {
   "cell_type": "code",
   "execution_count": 11,
   "metadata": {
    "tags": []
   },
   "outputs": [
    {
     "output_type": "execute_result",
     "data": {
      "text/plain": "{'name': 'unknown',\n 'activity': 'inspection',\n 'trigger': 'time',\n 'active': True,\n 'trigger_comp': '1.1.2',\n '_package': NotImplemented,\n '_impacts_parent': NotImplemented,\n '_impacts_children': False,\n 'cost': 50,\n 'labour': 'trade',\n 'spares': 'pole',\n 'equipment': 'ewp',\n 'consequence': None,\n 'p_effective': 0.91,\n 'triggers': {'condition': {'wall_thickness': {'lower': 0, 'upper': 90}},\n  'state': {'initiation': True}},\n 'impacts': {'condition': {}, 'state': {'detection': True}},\n 'component_reset': False,\n 'state': 'up',\n 't_completion': [5,\n  10,\n  15,\n  20,\n  25,\n  30,\n  35,\n  40,\n  45,\n  50,\n  55,\n  60,\n  65,\n  70,\n  75,\n  80,\n  85,\n  90,\n  95,\n  100,\n  105,\n  110,\n  115,\n  120,\n  125,\n  130,\n  135,\n  140,\n  145,\n  150,\n  155,\n  160,\n  165,\n  170,\n  175,\n  180,\n  185,\n  190,\n  195,\n  200,\n  5,\n  10,\n  15,\n  20,\n  25,\n  30,\n  35,\n  40,\n  45,\n  50,\n  55,\n  60,\n  65,\n  70,\n  75,\n  80,\n  85,\n  90,\n  95,\n  100,\n  105,\n  110,\n  115,\n  120,\n  125,\n  130,\n  135,\n  140,\n  145,\n  150,\n  155,\n  160,\n  165,\n  170,\n  175,\n  180,\n  185,\n  190,\n  195,\n  200,\n  5,\n  10,\n  15,\n  20,\n  25,\n  30,\n  35,\n  40,\n  45,\n  50,\n  55,\n  60,\n  65,\n  70,\n  75,\n  80,\n  85,\n  90,\n  95,\n  100,\n  105,\n  110,\n  115,\n  120,\n  125,\n  130,\n  135,\n  140,\n  145,\n  150,\n  155,\n  160,\n  165,\n  170,\n  175,\n  180,\n  185,\n  190,\n  195,\n  200,\n  5,\n  10,\n  15,\n  20,\n  25,\n  30,\n  35,\n  40,\n  45,\n  50,\n  55,\n  60,\n  65,\n  70,\n  75,\n  80,\n  85,\n  90,\n  95,\n  100,\n  105,\n  110,\n  115,\n  120,\n  125,\n  130,\n  135,\n  140,\n  145,\n  150,\n  155,\n  160,\n  165,\n  170,\n  175,\n  180,\n  185,\n  190,\n  195,\n  200,\n  5,\n  10,\n  15,\n  20,\n  25,\n  30,\n  35,\n  40,\n  45,\n  50,\n  55,\n  60,\n  65,\n  70,\n  75,\n  80,\n  85,\n  90,\n  95,\n  100,\n  105,\n  110,\n  115,\n  120,\n  125,\n  130,\n  135,\n  140,\n  145,\n  150,\n  155,\n  160,\n  165,\n  170,\n  175,\n  180,\n  185,\n  190,\n  195,\n  200,\n  5,\n  10,\n  15,\n  20,\n  25,\n  30,\n  35,\n  40,\n  45,\n  50,\n  55,\n  60,\n  65,\n  70,\n  75,\n  80,\n  85,\n  90,\n  95,\n  100,\n  105,\n  110,\n  115,\n  120,\n  125,\n  130,\n  135,\n  140,\n  145,\n  150,\n  155,\n  160,\n  165,\n  170,\n  175,\n  180,\n  185,\n  190,\n  195,\n  200,\n  5,\n  10,\n  15,\n  20,\n  25,\n  30,\n  35,\n  40,\n  45,\n  50,\n  55,\n  60,\n  65,\n  70,\n  75,\n  80,\n  85,\n  90,\n  95,\n  100,\n  105,\n  110,\n  115,\n  120,\n  125,\n  130,\n  135,\n  140,\n  145,\n  150,\n  155,\n  160,\n  165,\n  170,\n  175,\n  180,\n  185,\n  190,\n  195,\n  200,\n  5,\n  10,\n  15,\n  20,\n  25,\n  30,\n  35,\n  40,\n  45,\n  50,\n  55,\n  60,\n  65,\n  70,\n  75,\n  80,\n  85,\n  90,\n  95,\n  100,\n  105,\n  110,\n  115,\n  120,\n  125,\n  130,\n  135,\n  140,\n  145,\n  150,\n  155,\n  160,\n  165,\n  170,\n  175,\n  180,\n  185,\n  190,\n  195,\n  200,\n  5,\n  10,\n  15,\n  20,\n  25,\n  30,\n  35,\n  40,\n  45,\n  50,\n  55,\n  60,\n  65,\n  70,\n  75,\n  80,\n  85,\n  90,\n  95,\n  100,\n  105,\n  110,\n  115,\n  120,\n  125,\n  130,\n  135,\n  140,\n  145,\n  150,\n  155,\n  160,\n  165,\n  170,\n  175,\n  180,\n  185,\n  190,\n  195,\n  200,\n  5,\n  10,\n  15,\n  20,\n  25,\n  30,\n  35,\n  40,\n  45,\n  50,\n  55,\n  60,\n  65,\n  70,\n  75,\n  80,\n  85,\n  90,\n  95,\n  100,\n  105,\n  110,\n  115,\n  120,\n  125,\n  130,\n  135,\n  140,\n  145,\n  150,\n  155,\n  160,\n  165,\n  170,\n  175,\n  180,\n  185,\n  190,\n  195,\n  200,\n  5,\n  10,\n  15,\n  20,\n  25,\n  30,\n  35,\n  40,\n  45,\n  50,\n  55,\n  60,\n  65,\n  70,\n  75,\n  80,\n  85,\n  90,\n  95,\n  100,\n  105,\n  110,\n  115,\n  120,\n  125,\n  130,\n  135,\n  140,\n  145,\n  150,\n  155,\n  160,\n  165,\n  170,\n  175,\n  180,\n  185,\n  190,\n  195,\n  200,\n  5,\n  10,\n  15,\n  20,\n  25,\n  30,\n  35,\n  40,\n  45,\n  50,\n  55,\n  60,\n  65,\n  70,\n  75,\n  80,\n  85,\n  90,\n  95,\n  100,\n  105,\n  110,\n  115,\n  120,\n  125,\n  130,\n  135,\n  140,\n  145,\n  150,\n  155,\n  160,\n  165,\n  170,\n  175,\n  180,\n  185,\n  190,\n  195,\n  200,\n  5,\n  10,\n  15,\n  20,\n  25,\n  30,\n  35,\n  40,\n  45,\n  50,\n  55,\n  60,\n  65,\n  70,\n  75,\n  80,\n  85,\n  90,\n  95,\n  100,\n  105,\n  110,\n  115,\n  120,\n  125,\n  130,\n  135,\n  140,\n  145,\n  150,\n  155,\n  160,\n  165,\n  170,\n  175,\n  180,\n  185,\n  190,\n  195,\n  200,\n  5,\n  10,\n  15,\n  20,\n  25,\n  30,\n  35,\n  40,\n  45,\n  50,\n  55,\n  60,\n  65,\n  70,\n  75,\n  80,\n  85,\n  90,\n  95,\n  100,\n  105,\n  110,\n  115,\n  120,\n  125,\n  130,\n  135,\n  140,\n  145,\n  150,\n  155,\n  160,\n  165,\n  170,\n  175,\n  180,\n  185,\n  190,\n  195,\n  200,\n  5,\n  10,\n  15,\n  20,\n  25,\n  30,\n  35,\n  40,\n  45,\n  50,\n  55,\n  60,\n  65,\n  70,\n  75,\n  80,\n  85,\n  90,\n  95,\n  100,\n  105,\n  110,\n  115,\n  120,\n  125,\n  130,\n  135,\n  140,\n  145,\n  150,\n  155,\n  160,\n  165,\n  170,\n  175,\n  180,\n  185,\n  190,\n  195,\n  200,\n  5,\n  10,\n  15,\n  20,\n  25,\n  30,\n  35,\n  40,\n  45,\n  50,\n  55,\n  60,\n  65,\n  70,\n  75,\n  80,\n  85,\n  90,\n  95,\n  100,\n  105,\n  110,\n  115,\n  120,\n  125,\n  130,\n  135,\n  140,\n  145,\n  150,\n  155,\n  160,\n  165,\n  170,\n  175,\n  180,\n  185,\n  190,\n  195,\n  200,\n  5,\n  10,\n  15,\n  20,\n  25,\n  30,\n  35,\n  40,\n  45,\n  50,\n  55,\n  60,\n  65,\n  70,\n  75,\n  80,\n  85,\n  90,\n  95,\n  100,\n  105,\n  110,\n  115,\n  120,\n  125,\n  130,\n  135,\n  140,\n  145,\n  150,\n  155,\n  160,\n  165,\n  170,\n  175,\n  180,\n  185,\n  190,\n  195,\n  200,\n  5,\n  10,\n  15,\n  20,\n  25,\n  30,\n  35,\n  40,\n  45,\n  50,\n  55,\n  60,\n  65,\n  70,\n  75,\n  80,\n  85,\n  90,\n  95,\n  100,\n  105,\n  110,\n  115,\n  120,\n  125,\n  130,\n  135,\n  140,\n  145,\n  150,\n  155,\n  160,\n  165,\n  170,\n  175,\n  180,\n  185,\n  190,\n  195,\n  200,\n  5,\n  10,\n  15,\n  20,\n  25,\n  30,\n  35,\n  40,\n  45,\n  50,\n  55,\n  60,\n  65,\n  70,\n  75,\n  80,\n  85,\n  90,\n  95,\n  100,\n  105,\n  110,\n  115,\n  120,\n  125,\n  130,\n  135,\n  140,\n  145,\n  150,\n  155,\n  160,\n  165,\n  170,\n  175,\n  180,\n  185,\n  190,\n  195,\n  200,\n  5,\n  10,\n  15,\n  20,\n  25,\n  30,\n  35,\n  40,\n  45,\n  50,\n  55,\n  60,\n  65,\n  70,\n  75,\n  80,\n  85,\n  90,\n  95,\n  100,\n  105,\n  110,\n  115,\n  120,\n  125,\n  130,\n  135,\n  140,\n  145,\n  150,\n  155,\n  160,\n  165,\n  170,\n  175,\n  180,\n  185,\n  190,\n  195,\n  200,\n  5,\n  10,\n  15,\n  20,\n  25,\n  30,\n  35,\n  40,\n  45,\n  50,\n  55,\n  60,\n  65,\n  70,\n  75,\n  80,\n  85,\n  90,\n  95,\n  100,\n  105,\n  110,\n  115,\n  120,\n  125,\n  130,\n  135,\n  140,\n  145,\n  150,\n  155,\n  160,\n  165,\n  170,\n  175,\n  180,\n  185,\n  190,\n  195,\n  200,\n  5,\n  10,\n  15,\n  20,\n  25,\n  30,\n  35,\n  40,\n  45,\n  50,\n  55,\n  60,\n  65,\n  70,\n  75,\n  80,\n  85,\n  90,\n  95,\n  100,\n  105,\n  110,\n  115,\n  120,\n  125,\n  130,\n  135,\n  140,\n  145,\n  150,\n  155,\n  160,\n  165,\n  170,\n  175,\n  180,\n  185,\n  190,\n  195,\n  200,\n  5,\n  10,\n  15,\n  20,\n  25,\n  30,\n  35,\n  40,\n  45,\n  50,\n  55,\n  60,\n  65,\n  70,\n  75,\n  80,\n  85,\n  90,\n  95,\n  100,\n  105,\n  110,\n  115,\n  120,\n  125,\n  130,\n  135,\n  140,\n  145,\n  150,\n  155,\n  160,\n  165,\n  170,\n  175,\n  180,\n  185,\n  190,\n  195,\n  200,\n  5,\n  10,\n  15,\n  20,\n  25,\n  30,\n  35,\n  40,\n  45,\n  50,\n  55,\n  60,\n  65,\n  70,\n  75,\n  80,\n  85,\n  90,\n  95,\n  100,\n  105,\n  110,\n  115,\n  120,\n  125,\n  130,\n  135,\n  140,\n  145,\n  150,\n  155,\n  160,\n  165,\n  170,\n  175,\n  180,\n  185,\n  190,\n  195,\n  200,\n  5,\n  10,\n  15,\n  20,\n  25,\n  30,\n  35,\n  40,\n  45,\n  50,\n  55,\n  60,\n  65,\n  70,\n  75,\n  80,\n  85,\n  90,\n  95,\n  100,\n  105,\n  110,\n  115,\n  120,\n  125,\n  130,\n  135,\n  140,\n  145,\n  150,\n  155,\n  160,\n  165,\n  170,\n  175,\n  180,\n  185,\n  190,\n  195,\n  200,\n  ...],\n '_timeline': NotImplemented,\n '_count_checked': NotImplemented,\n '_count_triggered': NotImplemented,\n '_count_completed': 0,\n 't_delay': 10,\n 't_interval': 5}"
     },
     "metadata": {},
     "execution_count": 11
    }
   ],
   "source": [
    "fm.tasks['inspection'].__dict__"
   ]
  },
  {
   "cell_type": "code",
   "execution_count": null,
   "metadata": {},
   "outputs": [],
   "source": []
  }
 ]
}