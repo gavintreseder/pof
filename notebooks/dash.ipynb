{
 "metadata": {
  "language_info": {
   "codemirror_mode": {
    "name": "ipython",
    "version": 3
   },
   "file_extension": ".py",
   "mimetype": "text/x-python",
   "name": "python",
   "nbconvert_exporter": "python",
   "pygments_lexer": "ipython3",
   "version": "3.8.3-final"
  },
  "orig_nbformat": 2,
  "kernelspec": {
   "name": "python_defaultSpec_1597734095078",
   "display_name": "Python 3.8.3 64-bit ('base': conda)"
  }
 },
 "nbformat": 4,
 "nbformat_minor": 2,
 "cells": [
  {
   "cell_type": "code",
   "execution_count": 1,
   "metadata": {},
   "outputs": [],
   "source": [
    "import sys, os\n",
    "sys.path.append(os.path.dirname(os.getcwd()))\n",
    "\n",
    "import dash\n",
    "import dash_bootstrap_components as dbc\n",
    "import dash_core_components as dcc\n",
    "import dash_html_components as html\n",
    "from dash.dependencies import Input, Output, State\n",
    "import plotly.express as px\n",
    "from jupyter_dash import JupyterDash\n",
    "import pandas as pd\n",
    "\n",
    "from pof.failure_mode import FailureMode\n",
    "from interface.layouts import *"
   ]
  },
  {
   "cell_type": "code",
   "execution_count": 2,
   "metadata": {},
   "outputs": [],
   "source": [
    "fm = FailureMode().set_default()"
   ]
  },
  {
   "cell_type": "code",
   "execution_count": 3,
   "metadata": {},
   "outputs": [],
   "source": [
    "# Failure Mode Tests\n",
    "mfml = make_failure_mode_layout(fm, prefix=\"fm\")\n",
    "\n",
    "# Task Tests\n",
    "task = fm.tasks['ocr']\n",
    "mtl = make_task_layout(task)\n",
    "\n",
    "mtf = make_task_form(task, prefix=\"\")\n",
    "\n",
    "# Trigger Tests\n",
    "triggers= fm.tasks['ocr'].triggers()\n",
    "mttl = make_task_trigger_layout(triggers)\n",
    "\n",
    "condition_triggers = fm.tasks['ocr'].triggers()['condition']\n",
    "mctf = make_condition_trigger_form(condition_triggers)\n",
    "\n",
    "\n",
    "# Impact Tests\n",
    "\n",
    "impacts= fm.tasks['ocr'].impacts()\n",
    "mtil = make_task_impact_layout(impacts)\n",
    "\n",
    "state_impacts = fm.tasks['ocr'].impacts()['state']\n",
    "msil = make_state_impact_layout(state_impacts)\n",
    "\n",
    "condition_impacts = fm.tasks['ocr'].impacts()['condition']\n",
    "mcil = make_condition_impact_layout(condition_impacts)\n",
    "\n",
    "condition_impact = fm.tasks['ocr'].impacts()['condition']['wall_thickness']\n",
    "mtif = make_condition_impact_form(condition_impact)\n",
    "\n",
    "# Distribution Tests\n",
    "failure_dist = fm.failure_dist\n",
    "mdl = make_dist_layout(failure_dist)"
   ]
  },
  {
   "cell_type": "code",
   "execution_count": 4,
   "metadata": {
    "tags": []
   },
   "outputs": [
    {
     "output_type": "display_data",
     "data": {
      "text/plain": "<IPython.lib.display.IFrame at 0x1b079210250>",
      "text/html": "\n        <iframe\n            width=\"100%\"\n            height=\"650\"\n            src=\"http://127.0.0.1:8050/\"\n            frameborder=\"0\"\n            allowfullscreen\n        ></iframe>\n        "
     },
     "metadata": {}
    }
   ],
   "source": [
    "\n",
    "# Build App\n",
    "external_stylesheets = [dbc.themes.BOOTSTRAP]\n",
    "app = JupyterDash(__name__, external_stylesheets=external_stylesheets)\n",
    "\n",
    "# Layout\n",
    "app.layout = html.Div([\n",
    "    html.Div(children='Tetst Output', id='test_output'),\n",
    "    mtf\n",
    "])\n",
    "\n",
    "collapses = []\n",
    "for fm_name, fm in {'fm': fm}.items():\n",
    "    collapses = collapses + [fm_name]\n",
    "    for task in fm.tasks:\n",
    "        collapses = collapses + [fm_name + '-' + task]\n",
    "\n",
    "@app.callback(\n",
    "    #Output(\"test_output\", \"children\"),\n",
    "    [Output(f\"{prefix}-collapse\", \"is_open\") for prefix in collapses],\n",
    "    [Input(f\"{prefix}-collapse-button\", \"n_clicks\") for prefix in collapses],\n",
    "    [State(f\"{prefix}-collapse\", \"is_open\") for prefix in collapses],\n",
    ")\n",
    "def toggle_collapses(*args):\n",
    "    ctx = dash.callback_context\n",
    "\n",
    "    state_id = \"\"\n",
    "    collapse_id = ctx.triggered[0]['prop_id'].split('.')[0].replace('-collapse-button','')\n",
    "    if collapse_id in collapses:\n",
    "\n",
    "        state_id = collapse_id + '-collapse.is_open'\n",
    "        ctx.states[state_id] = not ctx.states[state_id]\n",
    "\n",
    "    is_open = tuple(ctx.states.values())\n",
    "\n",
    "    return is_open\n",
    "\n",
    "\n",
    "#Execute\n",
    "app.run_server(mode='inline')"
   ]
  },
  {
   "cell_type": "code",
   "execution_count": null,
   "metadata": {},
   "outputs": [],
   "source": [
    "ms_fig_update = fm.get_dash_ids()\n",
    "\n",
    "# Failure Mode\n",
    "for failure_mode in {\"failmode\": fm}.items():\n",
    "    \n",
    "    # Distribution\n",
    "    dash_distributions = fm.\n",
    "\n",
    "# Get the item that triggered\n",
    "ctx = dash.callback_context\n",
    "\n",
    "ctx_trigger = \n",
    "# Update the object parameter\n",
    "\n",
    "# fm\n",
    "    #params\n",
    "    #dist\n",
    "    #conditions\n",
    "    #tasks\n",
    "dash_ms_inputs = dash_distributions + \n",
    "\n",
    "for fm in fms.items():\n"
   ]
  },
  {
   "cell_type": "code",
   "execution_count": 73,
   "metadata": {},
   "outputs": [
    {
     "output_type": "execute_result",
     "data": {
      "text/plain": "[<Input `fm-collapse-button.n_clicks`>]"
     },
     "metadata": {},
     "execution_count": 73
    }
   ],
   "source": [
    "collapses = ['fm', 'cm']\n",
    "[Input(f\"{prefix}-collapse-button\", \"n_clicks\") for prefix in collapses]"
   ]
  },
  {
   "cell_type": "code",
   "execution_count": 75,
   "metadata": {},
   "outputs": [
    {
     "output_type": "execute_result",
     "data": {
      "text/plain": "[<Input `fm-collapse-button.n_clicks`>, <Input `cm-collapse-button.n_clicks`>]"
     },
     "metadata": {},
     "execution_count": 75
    }
   ],
   "source": [
    "collapses = ['fm', 'cm']\n",
    "[Input(f\"{prefix}-collapse-button\", \"n_clicks\") for prefix in collapses]"
   ]
  },
  {
   "cell_type": "code",
   "execution_count": 7,
   "metadata": {},
   "outputs": [
    {
     "output_type": "execute_result",
     "data": {
      "text/plain": "\"['fm', 'fm-inspection', 'fm-ocr', 'fm-cm']\""
     },
     "metadata": {},
     "execution_count": 7
    }
   ],
   "source": [
    "str(collapses)"
   ]
  },
  {
   "cell_type": "code",
   "execution_count": 11,
   "metadata": {},
   "outputs": [],
   "source": [
    "fm.__dict__['pf_interval'] = 10"
   ]
  },
  {
   "cell_type": "code",
   "execution_count": 12,
   "metadata": {},
   "outputs": [
    {
     "output_type": "execute_result",
     "data": {
      "text/plain": "10"
     },
     "metadata": {},
     "execution_count": 12
    }
   ],
   "source": [
    "fm.pf_interval"
   ]
  },
  {
   "cell_type": "code",
   "execution_count": null,
   "metadata": {},
   "outputs": [],
   "source": []
  }
 ]
}