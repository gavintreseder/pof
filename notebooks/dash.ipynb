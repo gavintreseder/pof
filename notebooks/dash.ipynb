{
 "metadata": {
  "language_info": {
   "codemirror_mode": {
    "name": "ipython",
    "version": 3
   },
   "file_extension": ".py",
   "mimetype": "text/x-python",
   "name": "python",
   "nbconvert_exporter": "python",
   "pygments_lexer": "ipython3",
   "version": "3.8.3-final"
  },
  "orig_nbformat": 2,
  "kernelspec": {
   "name": "python3",
   "display_name": "Python 3"
  }
 },
 "nbformat": 4,
 "nbformat_minor": 2,
 "cells": [
  {
   "cell_type": "markdown",
   "metadata": {},
   "source": [
    "# Interface Demonstration Notebook\n",
    "\n",
    "A notebook to demonstrate an interface with some of the features of the Probability of Failure Model\n",
    "\n",
    "Author: gavin.treseder@essentialenergy.com.au"
   ]
  },
  {
   "cell_type": "code",
   "execution_count": 5,
   "metadata": {
    "tags": []
   },
   "outputs": [],
   "source": [
    "import sys\n",
    "import os\n",
    "sys.path.append(os.path.dirname(os.getcwd()))\n",
    "\n",
    "import logging\n",
    "logging.getLogger().setLevel(logging.INFO)\n",
    "\n",
    "import copy\n",
    "import multiprocessing as mp\n",
    "\n",
    "from matplotlib import pyplot as plt\n",
    "import numpy as np\n",
    "import pandas as pd\n",
    "import dash\n",
    "import dash_bootstrap_components as dbc\n",
    "import dash_core_components as dcc\n",
    "import dash_html_components as html\n",
    "from dash.dependencies import Input, Output, State\n",
    "from dash.exceptions import PreventUpdate\n",
    "import plotly.express as px\n",
    "import plotly.graph_objects as go\n",
    "from jupyter_dash import JupyterDash\n",
    "\n",
    "from config import config\n",
    "from pof.loader.asset_model_loader import AssetModelLoader\n",
    "from pof import Component, FailureMode, Task\n",
    "from pof.interface.dashlogger import DashLogger\n",
    "from pof.interface.layouts import *\n",
    "from pof.interface.figures import update_condition_fig, update_cost_fig, update_pof_fig, make_inspection_interval_fig"
   ]
  },
  {
   "cell_type": "code",
   "execution_count": 6,
   "metadata": {
    "tags": []
   },
   "outputs": [
    {
     "output_type": "stream",
     "name": "stdout",
     "text": [
      "Validation Result: True\n"
     ]
    }
   ],
   "source": [
    "# Quick test to make sure everything is works \n",
    "comp = Component.demo()\n",
    "mcl = make_component_layout(comp)\n",
    "print(f\"Validation Result: {validate_layout(comp, mcl)}\")"
   ]
  },
  {
   "cell_type": "code",
   "execution_count": 7,
   "metadata": {
    "tags": []
   },
   "outputs": [
    {
     "output_type": "stream",
     "name": "stderr",
     "text": [
      "WARNING:root:Invalid Data () - {'task': 'inspection', 'level_of_repair': 'as_bad_as_old', 'admin': 'yes', 'maint': 'no', 'travel': 'yes'}\n",
      "WARNING:root:Invalid Data () - {'task': 'repair', 'level_of_repair': 'grp'}\n",
      "WARNING:root:Invalid Data () - {'task': 'replace', 'level_of_repair': 'as_good_as_new'}\n",
      "WARNING:root:Invalid Data () - {'task': 'replace', 'level_of_repair': 'as_good_as_new'}\n",
      "WARNING:root:Invalid Data () - {'task': 'inspection', 'admin': 'yes', 'maint': 'no', 'travel': 'yes'}\n",
      "WARNING:root:Invalid Data () - {'task': 'replace', 'level_of_repair': 'as_good_as_new'}\n",
      "WARNING:root:Invalid Data () - {'task': 'replace', 'level_of_repair': 'as_good_as_new'}\n",
      "WARNING:root:Invalid Data () - {'task': 'inspection', 'level_of_repair': 'as_bad_as_old', 'admin': 'yes', 'maint': 'no', 'travel': 'yes'}\n",
      "WARNING:root:Invalid Data () - {'task': 'repair', 'level_of_repair': 'as_bad_as_old'}\n",
      "WARNING:root:Invalid Data () - {'task': 'replace', 'level_of_repair': 'as_good_as_new'}\n",
      "WARNING:root:Invalid Data () - {'task': 'replace', 'level_of_repair': 'as_good_as_new'}\n",
      "WARNING:root:Invalid Data () - {'task': 'inspection', 'level_of_repair': 'as_bad_as_old'}\n",
      "WARNING:root:Invalid Data () - {'task': 'inspection', 'admin': 'yes', 'maint': 'no', 'travel': 'yes'}\n",
      "WARNING:root:Invalid Data () - {'task': 'replace', 'level_of_repair': 'as_good_as_new'}\n",
      "WARNING:root:Invalid Data () - {'task': 'inspection', 'level_of_repair': 'as_bad_as_old'}\n",
      "WARNING:root:Invalid Data () - {'task': 'replace', 'level_of_repair': 'as_good_as_new'}\n",
      "WARNING:root:Invalid Data () - {'task': 'inspection', 'level_of_repair': 'as_bad_as_old'}\n",
      "WARNING:root:Invalid Data () - {'task': 'replace', 'level_of_repair': 'as_good_as_new'}\n",
      "WARNING:root:Invalid Data () - {'task': 'inspection'}\n",
      "WARNING:root:Invalid Data () - {'task': 'replace', 'level_of_repair': 'as_good_as_new'}\n",
      "WARNING:root:Invalid Data () - {'task': 'replace', 'level_of_repair': 'as_good_as_new'}\n"
     ]
    }
   ],
   "source": [
    "# Turn off logging\n",
    "logging.getLogger().setLevel(logging.INFO)\n",
    "config['Load']['on_error_use_default'] ='False'\n",
    "\n",
    "filename = os.path.dirname(os.getcwd()) + r\"\\data\\inputs\\Asset Model - Pole - Timber.xlsx\"\n",
    "\n",
    "aml = AssetModelLoader(filename)\n",
    "comp_data = aml.load()\n",
    "comp = Component.from_dict(comp_data['pole'])"
   ]
  },
  {
   "cell_type": "code",
   "execution_count": 8,
   "metadata": {},
   "outputs": [
    {
     "output_type": "stream",
     "name": "stderr",
     "text": [
      "100%|██████████| 100/100 [00:06<00:00, 14.50it/s]\n"
     ]
    }
   ],
   "source": [
    "comp.mc_timeline(200)"
   ]
  },
  {
   "cell_type": "code",
   "execution_count": 9,
   "metadata": {},
   "outputs": [
    {
     "output_type": "stream",
     "name": "stdout",
     "text": [
      "171 ms ± 14 ms per loop (mean ± std. dev. of 7 runs, 1 loop each)\n"
     ]
    }
   ],
   "source": [
    "%%timeit\n",
    "comp.expected_risk_cost_df()\n"
   ]
  },
  {
   "cell_type": "code",
   "execution_count": 10,
   "metadata": {},
   "outputs": [
    {
     "output_type": "error",
     "ename": "KeyError",
     "evalue": "\"['source', 'active'] not in index\"",
     "traceback": [
      "\u001b[1;31m---------------------------------------------------------------------------\u001b[0m",
      "\u001b[1;31mKeyError\u001b[0m                                  Traceback (most recent call last)",
      "\u001b[1;32m<ipython-input-10-3a3b5e2abf2c>\u001b[0m in \u001b[0;36m<module>\u001b[1;34m\u001b[0m\n\u001b[1;32m----> 1\u001b[1;33m \u001b[0mget_ipython\u001b[0m\u001b[1;33m(\u001b[0m\u001b[1;33m)\u001b[0m\u001b[1;33m.\u001b[0m\u001b[0mrun_cell_magic\u001b[0m\u001b[1;33m(\u001b[0m\u001b[1;34m'timeit'\u001b[0m\u001b[1;33m,\u001b[0m \u001b[1;34m''\u001b[0m\u001b[1;33m,\u001b[0m \u001b[1;34m'comp.expected_risk_cost_df_legacy_method()\\n'\u001b[0m\u001b[1;33m)\u001b[0m\u001b[1;33m\u001b[0m\u001b[1;33m\u001b[0m\u001b[0m\n\u001b[0m",
      "\u001b[1;32m~\\OneDrive - KPMG\\Documents\\3. Client\\Essential Energy\\Probability of Failure Model\\pof\\.venv\\lib\\site-packages\\IPython\\core\\interactiveshell.py\u001b[0m in \u001b[0;36mrun_cell_magic\u001b[1;34m(self, magic_name, line, cell)\u001b[0m\n\u001b[0;32m   2379\u001b[0m             \u001b[1;32mwith\u001b[0m \u001b[0mself\u001b[0m\u001b[1;33m.\u001b[0m\u001b[0mbuiltin_trap\u001b[0m\u001b[1;33m:\u001b[0m\u001b[1;33m\u001b[0m\u001b[1;33m\u001b[0m\u001b[0m\n\u001b[0;32m   2380\u001b[0m                 \u001b[0margs\u001b[0m \u001b[1;33m=\u001b[0m \u001b[1;33m(\u001b[0m\u001b[0mmagic_arg_s\u001b[0m\u001b[1;33m,\u001b[0m \u001b[0mcell\u001b[0m\u001b[1;33m)\u001b[0m\u001b[1;33m\u001b[0m\u001b[1;33m\u001b[0m\u001b[0m\n\u001b[1;32m-> 2381\u001b[1;33m                 \u001b[0mresult\u001b[0m \u001b[1;33m=\u001b[0m \u001b[0mfn\u001b[0m\u001b[1;33m(\u001b[0m\u001b[1;33m*\u001b[0m\u001b[0margs\u001b[0m\u001b[1;33m,\u001b[0m \u001b[1;33m**\u001b[0m\u001b[0mkwargs\u001b[0m\u001b[1;33m)\u001b[0m\u001b[1;33m\u001b[0m\u001b[1;33m\u001b[0m\u001b[0m\n\u001b[0m\u001b[0;32m   2382\u001b[0m             \u001b[1;32mreturn\u001b[0m \u001b[0mresult\u001b[0m\u001b[1;33m\u001b[0m\u001b[1;33m\u001b[0m\u001b[0m\n\u001b[0;32m   2383\u001b[0m \u001b[1;33m\u001b[0m\u001b[0m\n",
      "\u001b[1;32m<decorator-gen-61>\u001b[0m in \u001b[0;36mtimeit\u001b[1;34m(self, line, cell, local_ns)\u001b[0m\n",
      "\u001b[1;32m~\\OneDrive - KPMG\\Documents\\3. Client\\Essential Energy\\Probability of Failure Model\\pof\\.venv\\lib\\site-packages\\IPython\\core\\magic.py\u001b[0m in \u001b[0;36m<lambda>\u001b[1;34m(f, *a, **k)\u001b[0m\n\u001b[0;32m    185\u001b[0m     \u001b[1;31m# but it's overkill for just that one bit of state.\u001b[0m\u001b[1;33m\u001b[0m\u001b[1;33m\u001b[0m\u001b[1;33m\u001b[0m\u001b[0m\n\u001b[0;32m    186\u001b[0m     \u001b[1;32mdef\u001b[0m \u001b[0mmagic_deco\u001b[0m\u001b[1;33m(\u001b[0m\u001b[0marg\u001b[0m\u001b[1;33m)\u001b[0m\u001b[1;33m:\u001b[0m\u001b[1;33m\u001b[0m\u001b[1;33m\u001b[0m\u001b[0m\n\u001b[1;32m--> 187\u001b[1;33m         \u001b[0mcall\u001b[0m \u001b[1;33m=\u001b[0m \u001b[1;32mlambda\u001b[0m \u001b[0mf\u001b[0m\u001b[1;33m,\u001b[0m \u001b[1;33m*\u001b[0m\u001b[0ma\u001b[0m\u001b[1;33m,\u001b[0m \u001b[1;33m**\u001b[0m\u001b[0mk\u001b[0m\u001b[1;33m:\u001b[0m \u001b[0mf\u001b[0m\u001b[1;33m(\u001b[0m\u001b[1;33m*\u001b[0m\u001b[0ma\u001b[0m\u001b[1;33m,\u001b[0m \u001b[1;33m**\u001b[0m\u001b[0mk\u001b[0m\u001b[1;33m)\u001b[0m\u001b[1;33m\u001b[0m\u001b[1;33m\u001b[0m\u001b[0m\n\u001b[0m\u001b[0;32m    188\u001b[0m \u001b[1;33m\u001b[0m\u001b[0m\n\u001b[0;32m    189\u001b[0m         \u001b[1;32mif\u001b[0m \u001b[0mcallable\u001b[0m\u001b[1;33m(\u001b[0m\u001b[0marg\u001b[0m\u001b[1;33m)\u001b[0m\u001b[1;33m:\u001b[0m\u001b[1;33m\u001b[0m\u001b[1;33m\u001b[0m\u001b[0m\n",
      "\u001b[1;32m~\\OneDrive - KPMG\\Documents\\3. Client\\Essential Energy\\Probability of Failure Model\\pof\\.venv\\lib\\site-packages\\IPython\\core\\magics\\execution.py\u001b[0m in \u001b[0;36mtimeit\u001b[1;34m(self, line, cell, local_ns)\u001b[0m\n\u001b[0;32m   1167\u001b[0m             \u001b[1;32mfor\u001b[0m \u001b[0mindex\u001b[0m \u001b[1;32min\u001b[0m \u001b[0mrange\u001b[0m\u001b[1;33m(\u001b[0m\u001b[1;36m0\u001b[0m\u001b[1;33m,\u001b[0m \u001b[1;36m10\u001b[0m\u001b[1;33m)\u001b[0m\u001b[1;33m:\u001b[0m\u001b[1;33m\u001b[0m\u001b[1;33m\u001b[0m\u001b[0m\n\u001b[0;32m   1168\u001b[0m                 \u001b[0mnumber\u001b[0m \u001b[1;33m=\u001b[0m \u001b[1;36m10\u001b[0m \u001b[1;33m**\u001b[0m \u001b[0mindex\u001b[0m\u001b[1;33m\u001b[0m\u001b[1;33m\u001b[0m\u001b[0m\n\u001b[1;32m-> 1169\u001b[1;33m                 \u001b[0mtime_number\u001b[0m \u001b[1;33m=\u001b[0m \u001b[0mtimer\u001b[0m\u001b[1;33m.\u001b[0m\u001b[0mtimeit\u001b[0m\u001b[1;33m(\u001b[0m\u001b[0mnumber\u001b[0m\u001b[1;33m)\u001b[0m\u001b[1;33m\u001b[0m\u001b[1;33m\u001b[0m\u001b[0m\n\u001b[0m\u001b[0;32m   1170\u001b[0m                 \u001b[1;32mif\u001b[0m \u001b[0mtime_number\u001b[0m \u001b[1;33m>=\u001b[0m \u001b[1;36m0.2\u001b[0m\u001b[1;33m:\u001b[0m\u001b[1;33m\u001b[0m\u001b[1;33m\u001b[0m\u001b[0m\n\u001b[0;32m   1171\u001b[0m                     \u001b[1;32mbreak\u001b[0m\u001b[1;33m\u001b[0m\u001b[1;33m\u001b[0m\u001b[0m\n",
      "\u001b[1;32m~\\OneDrive - KPMG\\Documents\\3. Client\\Essential Energy\\Probability of Failure Model\\pof\\.venv\\lib\\site-packages\\IPython\\core\\magics\\execution.py\u001b[0m in \u001b[0;36mtimeit\u001b[1;34m(self, number)\u001b[0m\n\u001b[0;32m    167\u001b[0m         \u001b[0mgc\u001b[0m\u001b[1;33m.\u001b[0m\u001b[0mdisable\u001b[0m\u001b[1;33m(\u001b[0m\u001b[1;33m)\u001b[0m\u001b[1;33m\u001b[0m\u001b[1;33m\u001b[0m\u001b[0m\n\u001b[0;32m    168\u001b[0m         \u001b[1;32mtry\u001b[0m\u001b[1;33m:\u001b[0m\u001b[1;33m\u001b[0m\u001b[1;33m\u001b[0m\u001b[0m\n\u001b[1;32m--> 169\u001b[1;33m             \u001b[0mtiming\u001b[0m \u001b[1;33m=\u001b[0m \u001b[0mself\u001b[0m\u001b[1;33m.\u001b[0m\u001b[0minner\u001b[0m\u001b[1;33m(\u001b[0m\u001b[0mit\u001b[0m\u001b[1;33m,\u001b[0m \u001b[0mself\u001b[0m\u001b[1;33m.\u001b[0m\u001b[0mtimer\u001b[0m\u001b[1;33m)\u001b[0m\u001b[1;33m\u001b[0m\u001b[1;33m\u001b[0m\u001b[0m\n\u001b[0m\u001b[0;32m    170\u001b[0m         \u001b[1;32mfinally\u001b[0m\u001b[1;33m:\u001b[0m\u001b[1;33m\u001b[0m\u001b[1;33m\u001b[0m\u001b[0m\n\u001b[0;32m    171\u001b[0m             \u001b[1;32mif\u001b[0m \u001b[0mgcold\u001b[0m\u001b[1;33m:\u001b[0m\u001b[1;33m\u001b[0m\u001b[1;33m\u001b[0m\u001b[0m\n",
      "\u001b[1;32m<magic-timeit>\u001b[0m in \u001b[0;36minner\u001b[1;34m(_it, _timer)\u001b[0m\n",
      "\u001b[1;32mc:\\Users\\gtreseder\\OneDrive - KPMG\\Documents\\3. Client\\Essential Energy\\Probability of Failure Model\\pof\\pof\\component.py\u001b[0m in \u001b[0;36mexpected_risk_cost_df_legacy_method\u001b[1;34m(self, t_start, t_end)\u001b[0m\n\u001b[0;32m    478\u001b[0m         \u001b[0mtime\u001b[0m \u001b[1;33m=\u001b[0m\u001b[0mnp\u001b[0m\u001b[1;33m.\u001b[0m\u001b[0mlinspace\u001b[0m\u001b[1;33m(\u001b[0m\u001b[0mt_start\u001b[0m\u001b[1;33m,\u001b[0m \u001b[0mt_end\u001b[0m\u001b[1;33m,\u001b[0m \u001b[0mt_end\u001b[0m \u001b[1;33m-\u001b[0m \u001b[0mt_start\u001b[0m \u001b[1;33m+\u001b[0m \u001b[1;36m1\u001b[0m\u001b[1;33m)\u001b[0m\u001b[1;33m.\u001b[0m\u001b[0mastype\u001b[0m\u001b[1;33m(\u001b[0m\u001b[0mint\u001b[0m\u001b[1;33m)\u001b[0m\u001b[1;33m\u001b[0m\u001b[1;33m\u001b[0m\u001b[0m\n\u001b[0;32m    479\u001b[0m \u001b[1;33m\u001b[0m\u001b[0m\n\u001b[1;32m--> 480\u001b[1;33m         \u001b[0mdf\u001b[0m \u001b[1;33m=\u001b[0m \u001b[0mdf_comp\u001b[0m\u001b[1;33m[\u001b[0m\u001b[1;33m[\u001b[0m\u001b[1;34m\"failure_mode\"\u001b[0m\u001b[1;33m,\u001b[0m \u001b[1;34m\"source\"\u001b[0m\u001b[1;33m,\u001b[0m \u001b[1;34m\"active\"\u001b[0m\u001b[1;33m]\u001b[0m\u001b[1;33m]\u001b[0m\u001b[1;33m.\u001b[0m\u001b[0mdrop_duplicates\u001b[0m\u001b[1;33m(\u001b[0m\u001b[1;33m)\u001b[0m\u001b[1;33m\u001b[0m\u001b[1;33m\u001b[0m\u001b[0m\n\u001b[0m\u001b[0;32m    481\u001b[0m         \u001b[0mdf_time\u001b[0m \u001b[1;33m=\u001b[0m \u001b[0mpd\u001b[0m\u001b[1;33m.\u001b[0m\u001b[0mDataFrame\u001b[0m\u001b[1;33m(\u001b[0m\u001b[1;33m{\u001b[0m\u001b[1;34m\"time\"\u001b[0m\u001b[1;33m:\u001b[0m \u001b[0mtime\u001b[0m\u001b[1;33m}\u001b[0m\u001b[1;33m)\u001b[0m\u001b[1;33m\u001b[0m\u001b[1;33m\u001b[0m\u001b[0m\n\u001b[0;32m    482\u001b[0m \u001b[1;33m\u001b[0m\u001b[0m\n",
      "\u001b[1;32m~\\OneDrive - KPMG\\Documents\\3. Client\\Essential Energy\\Probability of Failure Model\\pof\\.venv\\lib\\site-packages\\pandas\\core\\frame.py\u001b[0m in \u001b[0;36m__getitem__\u001b[1;34m(self, key)\u001b[0m\n\u001b[0;32m   2906\u001b[0m             \u001b[1;32mif\u001b[0m \u001b[0mis_iterator\u001b[0m\u001b[1;33m(\u001b[0m\u001b[0mkey\u001b[0m\u001b[1;33m)\u001b[0m\u001b[1;33m:\u001b[0m\u001b[1;33m\u001b[0m\u001b[1;33m\u001b[0m\u001b[0m\n\u001b[0;32m   2907\u001b[0m                 \u001b[0mkey\u001b[0m \u001b[1;33m=\u001b[0m \u001b[0mlist\u001b[0m\u001b[1;33m(\u001b[0m\u001b[0mkey\u001b[0m\u001b[1;33m)\u001b[0m\u001b[1;33m\u001b[0m\u001b[1;33m\u001b[0m\u001b[0m\n\u001b[1;32m-> 2908\u001b[1;33m             \u001b[0mindexer\u001b[0m \u001b[1;33m=\u001b[0m \u001b[0mself\u001b[0m\u001b[1;33m.\u001b[0m\u001b[0mloc\u001b[0m\u001b[1;33m.\u001b[0m\u001b[0m_get_listlike_indexer\u001b[0m\u001b[1;33m(\u001b[0m\u001b[0mkey\u001b[0m\u001b[1;33m,\u001b[0m \u001b[0maxis\u001b[0m\u001b[1;33m=\u001b[0m\u001b[1;36m1\u001b[0m\u001b[1;33m,\u001b[0m \u001b[0mraise_missing\u001b[0m\u001b[1;33m=\u001b[0m\u001b[1;32mTrue\u001b[0m\u001b[1;33m)\u001b[0m\u001b[1;33m[\u001b[0m\u001b[1;36m1\u001b[0m\u001b[1;33m]\u001b[0m\u001b[1;33m\u001b[0m\u001b[1;33m\u001b[0m\u001b[0m\n\u001b[0m\u001b[0;32m   2909\u001b[0m \u001b[1;33m\u001b[0m\u001b[0m\n\u001b[0;32m   2910\u001b[0m         \u001b[1;31m# take() does not accept boolean indexers\u001b[0m\u001b[1;33m\u001b[0m\u001b[1;33m\u001b[0m\u001b[1;33m\u001b[0m\u001b[0m\n",
      "\u001b[1;32m~\\OneDrive - KPMG\\Documents\\3. Client\\Essential Energy\\Probability of Failure Model\\pof\\.venv\\lib\\site-packages\\pandas\\core\\indexing.py\u001b[0m in \u001b[0;36m_get_listlike_indexer\u001b[1;34m(self, key, axis, raise_missing)\u001b[0m\n\u001b[0;32m   1252\u001b[0m             \u001b[0mkeyarr\u001b[0m\u001b[1;33m,\u001b[0m \u001b[0mindexer\u001b[0m\u001b[1;33m,\u001b[0m \u001b[0mnew_indexer\u001b[0m \u001b[1;33m=\u001b[0m \u001b[0max\u001b[0m\u001b[1;33m.\u001b[0m\u001b[0m_reindex_non_unique\u001b[0m\u001b[1;33m(\u001b[0m\u001b[0mkeyarr\u001b[0m\u001b[1;33m)\u001b[0m\u001b[1;33m\u001b[0m\u001b[1;33m\u001b[0m\u001b[0m\n\u001b[0;32m   1253\u001b[0m \u001b[1;33m\u001b[0m\u001b[0m\n\u001b[1;32m-> 1254\u001b[1;33m         \u001b[0mself\u001b[0m\u001b[1;33m.\u001b[0m\u001b[0m_validate_read_indexer\u001b[0m\u001b[1;33m(\u001b[0m\u001b[0mkeyarr\u001b[0m\u001b[1;33m,\u001b[0m \u001b[0mindexer\u001b[0m\u001b[1;33m,\u001b[0m \u001b[0maxis\u001b[0m\u001b[1;33m,\u001b[0m \u001b[0mraise_missing\u001b[0m\u001b[1;33m=\u001b[0m\u001b[0mraise_missing\u001b[0m\u001b[1;33m)\u001b[0m\u001b[1;33m\u001b[0m\u001b[1;33m\u001b[0m\u001b[0m\n\u001b[0m\u001b[0;32m   1255\u001b[0m         \u001b[1;32mreturn\u001b[0m \u001b[0mkeyarr\u001b[0m\u001b[1;33m,\u001b[0m \u001b[0mindexer\u001b[0m\u001b[1;33m\u001b[0m\u001b[1;33m\u001b[0m\u001b[0m\n\u001b[0;32m   1256\u001b[0m \u001b[1;33m\u001b[0m\u001b[0m\n",
      "\u001b[1;32m~\\OneDrive - KPMG\\Documents\\3. Client\\Essential Energy\\Probability of Failure Model\\pof\\.venv\\lib\\site-packages\\pandas\\core\\indexing.py\u001b[0m in \u001b[0;36m_validate_read_indexer\u001b[1;34m(self, key, indexer, axis, raise_missing)\u001b[0m\n\u001b[0;32m   1302\u001b[0m             \u001b[1;32mif\u001b[0m \u001b[0mraise_missing\u001b[0m\u001b[1;33m:\u001b[0m\u001b[1;33m\u001b[0m\u001b[1;33m\u001b[0m\u001b[0m\n\u001b[0;32m   1303\u001b[0m                 \u001b[0mnot_found\u001b[0m \u001b[1;33m=\u001b[0m \u001b[0mlist\u001b[0m\u001b[1;33m(\u001b[0m\u001b[0mset\u001b[0m\u001b[1;33m(\u001b[0m\u001b[0mkey\u001b[0m\u001b[1;33m)\u001b[0m \u001b[1;33m-\u001b[0m \u001b[0mset\u001b[0m\u001b[1;33m(\u001b[0m\u001b[0max\u001b[0m\u001b[1;33m)\u001b[0m\u001b[1;33m)\u001b[0m\u001b[1;33m\u001b[0m\u001b[1;33m\u001b[0m\u001b[0m\n\u001b[1;32m-> 1304\u001b[1;33m                 \u001b[1;32mraise\u001b[0m \u001b[0mKeyError\u001b[0m\u001b[1;33m(\u001b[0m\u001b[1;34mf\"{not_found} not in index\"\u001b[0m\u001b[1;33m)\u001b[0m\u001b[1;33m\u001b[0m\u001b[1;33m\u001b[0m\u001b[0m\n\u001b[0m\u001b[0;32m   1305\u001b[0m \u001b[1;33m\u001b[0m\u001b[0m\n\u001b[0;32m   1306\u001b[0m             \u001b[1;31m# we skip the warning on Categorical\u001b[0m\u001b[1;33m\u001b[0m\u001b[1;33m\u001b[0m\u001b[1;33m\u001b[0m\u001b[0m\n",
      "\u001b[1;31mKeyError\u001b[0m: \"['source', 'active'] not in index\""
     ]
    }
   ],
   "source": [
    "%%timeit\n",
    "comp.expected_risk_cost_df_legacy_method()"
   ]
  },
  {
   "cell_type": "code",
   "execution_count": 79,
   "metadata": {},
   "outputs": [],
   "source": [
    "\n",
    "d_fm = {}\n",
    "for fm in comp.fm.values():\n",
    "    d_task = {}\n",
    "    for task in fm.tasks.values():\n",
    "        d_task[task.name] = pd.DataFrame(task.expected_costs())\n",
    "    df_task = pd.concat(d_task, names=['source', 'drop']).reset_index().drop('drop', axis=1)\n",
    "    d_fm[fm_name] = df_task\n",
    "\n",
    "df_fm = pd.concat(d_fm, names=['failure_mode', 'drop']).reset_index().drop('drop', axis=1)\n"
   ]
  },
  {
   "cell_type": "code",
   "execution_count": 86,
   "metadata": {},
   "outputs": [
    {
     "output_type": "execute_result",
     "data": {
      "text/plain": [
       "   failure_mode              source   time     cost  active\n",
       "0    weathering          inspection  100.0      0.0    True\n",
       "1    weathering  CAT1/2 replacement   29.0   7000.0    True\n",
       "2    weathering  CAT1/2 replacement   30.0   7000.0    True\n",
       "3    weathering  CAT1/2 replacement   31.0   7000.0    True\n",
       "4    weathering  CAT1/2 replacement   33.0   7000.0    True\n",
       "5    weathering  CAT1/2 replacement   34.0  14000.0    True\n",
       "6    weathering  CAT1/2 replacement   35.0   7000.0    True\n",
       "7    weathering  CAT1/2 replacement   36.0   7000.0    True\n",
       "8    weathering  CAT1/2 replacement   39.0   7000.0    True\n",
       "9    weathering  CAT1/2 replacement   40.0   7000.0    True\n",
       "10   weathering  CAT1/2 replacement   41.0   7000.0    True\n",
       "11   weathering  CAT1/2 replacement   42.0   7000.0    True\n",
       "12   weathering  CAT1/2 replacement   43.0  21000.0    True\n",
       "13   weathering  CAT1/2 replacement   46.0   7000.0    True\n",
       "14   weathering  CAT1/2 replacement   48.0  14000.0    True\n",
       "15   weathering  CAT1/2 replacement   50.0  21000.0    True\n",
       "16   weathering  CAT1/2 replacement   52.0   7000.0    True\n",
       "17   weathering  CAT1/2 replacement   53.0  14000.0    True\n",
       "18   weathering  CAT1/2 replacement   54.0  14000.0    True\n",
       "19   weathering  CAT1/2 replacement   55.0   7000.0    True\n",
       "20   weathering  CAT1/2 replacement   57.0   7000.0    True\n",
       "21   weathering  CAT1/2 replacement   58.0   7000.0    True\n",
       "22   weathering  CAT1/2 replacement   59.0   7000.0    True\n",
       "23   weathering  CAT1/2 replacement   60.0  14000.0    True\n",
       "24   weathering  CAT1/2 replacement   61.0   7000.0    True\n",
       "25   weathering  CAT1/2 replacement   64.0  14000.0    True\n",
       "26   weathering  CAT1/2 replacement   65.0   7000.0    True\n",
       "27   weathering  CAT1/2 replacement   68.0   7000.0    True\n",
       "28   weathering  CAT1/2 replacement   69.0   7000.0    True\n",
       "29   weathering  CAT1/2 replacement   71.0   7000.0    True\n",
       "30   weathering  CAT1/2 replacement   72.0   7000.0    True\n",
       "31   weathering  CAT1/2 replacement   77.0   7000.0    True\n",
       "32   weathering  CAT1/2 replacement   78.0   7000.0    True\n",
       "33   weathering  CAT1/2 replacement   80.0   7000.0    True\n",
       "34   weathering  CAT1/2 replacement   81.0   7000.0    True\n",
       "35   weathering  CAT1/2 replacement   83.0   7000.0    True\n",
       "36   weathering  CAT1/2 replacement   84.0   7000.0    True\n",
       "37   weathering  CAT1/2 replacement   87.0   7000.0    True\n",
       "38   weathering  CAT1/2 replacement   95.0   7000.0    True\n",
       "39   weathering  CAT1/2 replacement  135.0   7000.0    True"
      ],
      "text/html": "<div>\n<style scoped>\n    .dataframe tbody tr th:only-of-type {\n        vertical-align: middle;\n    }\n\n    .dataframe tbody tr th {\n        vertical-align: top;\n    }\n\n    .dataframe thead th {\n        text-align: right;\n    }\n</style>\n<table border=\"1\" class=\"dataframe\">\n  <thead>\n    <tr style=\"text-align: right;\">\n      <th></th>\n      <th>failure_mode</th>\n      <th>source</th>\n      <th>time</th>\n      <th>cost</th>\n      <th>active</th>\n    </tr>\n  </thead>\n  <tbody>\n    <tr>\n      <th>0</th>\n      <td>weathering</td>\n      <td>inspection</td>\n      <td>100.0</td>\n      <td>0.0</td>\n      <td>True</td>\n    </tr>\n    <tr>\n      <th>1</th>\n      <td>weathering</td>\n      <td>CAT1/2 replacement</td>\n      <td>29.0</td>\n      <td>7000.0</td>\n      <td>True</td>\n    </tr>\n    <tr>\n      <th>2</th>\n      <td>weathering</td>\n      <td>CAT1/2 replacement</td>\n      <td>30.0</td>\n      <td>7000.0</td>\n      <td>True</td>\n    </tr>\n    <tr>\n      <th>3</th>\n      <td>weathering</td>\n      <td>CAT1/2 replacement</td>\n      <td>31.0</td>\n      <td>7000.0</td>\n      <td>True</td>\n    </tr>\n    <tr>\n      <th>4</th>\n      <td>weathering</td>\n      <td>CAT1/2 replacement</td>\n      <td>33.0</td>\n      <td>7000.0</td>\n      <td>True</td>\n    </tr>\n    <tr>\n      <th>5</th>\n      <td>weathering</td>\n      <td>CAT1/2 replacement</td>\n      <td>34.0</td>\n      <td>14000.0</td>\n      <td>True</td>\n    </tr>\n    <tr>\n      <th>6</th>\n      <td>weathering</td>\n      <td>CAT1/2 replacement</td>\n      <td>35.0</td>\n      <td>7000.0</td>\n      <td>True</td>\n    </tr>\n    <tr>\n      <th>7</th>\n      <td>weathering</td>\n      <td>CAT1/2 replacement</td>\n      <td>36.0</td>\n      <td>7000.0</td>\n      <td>True</td>\n    </tr>\n    <tr>\n      <th>8</th>\n      <td>weathering</td>\n      <td>CAT1/2 replacement</td>\n      <td>39.0</td>\n      <td>7000.0</td>\n      <td>True</td>\n    </tr>\n    <tr>\n      <th>9</th>\n      <td>weathering</td>\n      <td>CAT1/2 replacement</td>\n      <td>40.0</td>\n      <td>7000.0</td>\n      <td>True</td>\n    </tr>\n    <tr>\n      <th>10</th>\n      <td>weathering</td>\n      <td>CAT1/2 replacement</td>\n      <td>41.0</td>\n      <td>7000.0</td>\n      <td>True</td>\n    </tr>\n    <tr>\n      <th>11</th>\n      <td>weathering</td>\n      <td>CAT1/2 replacement</td>\n      <td>42.0</td>\n      <td>7000.0</td>\n      <td>True</td>\n    </tr>\n    <tr>\n      <th>12</th>\n      <td>weathering</td>\n      <td>CAT1/2 replacement</td>\n      <td>43.0</td>\n      <td>21000.0</td>\n      <td>True</td>\n    </tr>\n    <tr>\n      <th>13</th>\n      <td>weathering</td>\n      <td>CAT1/2 replacement</td>\n      <td>46.0</td>\n      <td>7000.0</td>\n      <td>True</td>\n    </tr>\n    <tr>\n      <th>14</th>\n      <td>weathering</td>\n      <td>CAT1/2 replacement</td>\n      <td>48.0</td>\n      <td>14000.0</td>\n      <td>True</td>\n    </tr>\n    <tr>\n      <th>15</th>\n      <td>weathering</td>\n      <td>CAT1/2 replacement</td>\n      <td>50.0</td>\n      <td>21000.0</td>\n      <td>True</td>\n    </tr>\n    <tr>\n      <th>16</th>\n      <td>weathering</td>\n      <td>CAT1/2 replacement</td>\n      <td>52.0</td>\n      <td>7000.0</td>\n      <td>True</td>\n    </tr>\n    <tr>\n      <th>17</th>\n      <td>weathering</td>\n      <td>CAT1/2 replacement</td>\n      <td>53.0</td>\n      <td>14000.0</td>\n      <td>True</td>\n    </tr>\n    <tr>\n      <th>18</th>\n      <td>weathering</td>\n      <td>CAT1/2 replacement</td>\n      <td>54.0</td>\n      <td>14000.0</td>\n      <td>True</td>\n    </tr>\n    <tr>\n      <th>19</th>\n      <td>weathering</td>\n      <td>CAT1/2 replacement</td>\n      <td>55.0</td>\n      <td>7000.0</td>\n      <td>True</td>\n    </tr>\n    <tr>\n      <th>20</th>\n      <td>weathering</td>\n      <td>CAT1/2 replacement</td>\n      <td>57.0</td>\n      <td>7000.0</td>\n      <td>True</td>\n    </tr>\n    <tr>\n      <th>21</th>\n      <td>weathering</td>\n      <td>CAT1/2 replacement</td>\n      <td>58.0</td>\n      <td>7000.0</td>\n      <td>True</td>\n    </tr>\n    <tr>\n      <th>22</th>\n      <td>weathering</td>\n      <td>CAT1/2 replacement</td>\n      <td>59.0</td>\n      <td>7000.0</td>\n      <td>True</td>\n    </tr>\n    <tr>\n      <th>23</th>\n      <td>weathering</td>\n      <td>CAT1/2 replacement</td>\n      <td>60.0</td>\n      <td>14000.0</td>\n      <td>True</td>\n    </tr>\n    <tr>\n      <th>24</th>\n      <td>weathering</td>\n      <td>CAT1/2 replacement</td>\n      <td>61.0</td>\n      <td>7000.0</td>\n      <td>True</td>\n    </tr>\n    <tr>\n      <th>25</th>\n      <td>weathering</td>\n      <td>CAT1/2 replacement</td>\n      <td>64.0</td>\n      <td>14000.0</td>\n      <td>True</td>\n    </tr>\n    <tr>\n      <th>26</th>\n      <td>weathering</td>\n      <td>CAT1/2 replacement</td>\n      <td>65.0</td>\n      <td>7000.0</td>\n      <td>True</td>\n    </tr>\n    <tr>\n      <th>27</th>\n      <td>weathering</td>\n      <td>CAT1/2 replacement</td>\n      <td>68.0</td>\n      <td>7000.0</td>\n      <td>True</td>\n    </tr>\n    <tr>\n      <th>28</th>\n      <td>weathering</td>\n      <td>CAT1/2 replacement</td>\n      <td>69.0</td>\n      <td>7000.0</td>\n      <td>True</td>\n    </tr>\n    <tr>\n      <th>29</th>\n      <td>weathering</td>\n      <td>CAT1/2 replacement</td>\n      <td>71.0</td>\n      <td>7000.0</td>\n      <td>True</td>\n    </tr>\n    <tr>\n      <th>30</th>\n      <td>weathering</td>\n      <td>CAT1/2 replacement</td>\n      <td>72.0</td>\n      <td>7000.0</td>\n      <td>True</td>\n    </tr>\n    <tr>\n      <th>31</th>\n      <td>weathering</td>\n      <td>CAT1/2 replacement</td>\n      <td>77.0</td>\n      <td>7000.0</td>\n      <td>True</td>\n    </tr>\n    <tr>\n      <th>32</th>\n      <td>weathering</td>\n      <td>CAT1/2 replacement</td>\n      <td>78.0</td>\n      <td>7000.0</td>\n      <td>True</td>\n    </tr>\n    <tr>\n      <th>33</th>\n      <td>weathering</td>\n      <td>CAT1/2 replacement</td>\n      <td>80.0</td>\n      <td>7000.0</td>\n      <td>True</td>\n    </tr>\n    <tr>\n      <th>34</th>\n      <td>weathering</td>\n      <td>CAT1/2 replacement</td>\n      <td>81.0</td>\n      <td>7000.0</td>\n      <td>True</td>\n    </tr>\n    <tr>\n      <th>35</th>\n      <td>weathering</td>\n      <td>CAT1/2 replacement</td>\n      <td>83.0</td>\n      <td>7000.0</td>\n      <td>True</td>\n    </tr>\n    <tr>\n      <th>36</th>\n      <td>weathering</td>\n      <td>CAT1/2 replacement</td>\n      <td>84.0</td>\n      <td>7000.0</td>\n      <td>True</td>\n    </tr>\n    <tr>\n      <th>37</th>\n      <td>weathering</td>\n      <td>CAT1/2 replacement</td>\n      <td>87.0</td>\n      <td>7000.0</td>\n      <td>True</td>\n    </tr>\n    <tr>\n      <th>38</th>\n      <td>weathering</td>\n      <td>CAT1/2 replacement</td>\n      <td>95.0</td>\n      <td>7000.0</td>\n      <td>True</td>\n    </tr>\n    <tr>\n      <th>39</th>\n      <td>weathering</td>\n      <td>CAT1/2 replacement</td>\n      <td>135.0</td>\n      <td>7000.0</td>\n      <td>True</td>\n    </tr>\n  </tbody>\n</table>\n</div>"
     },
     "metadata": {},
     "execution_count": 86
    }
   ],
   "source": [
    "df_fm._exp"
   ]
  },
  {
   "cell_type": "code",
   "execution_count": 138,
   "metadata": {},
   "outputs": [],
   "source": [
    "df = pd.DataFrame(comp.fm['termites']._expected_risk_cost()).T.apply(fill_blanks, axis=1, args=(0, 200)).apply(fill_blanks, axis=1, args=(0, 200))\n",
    "df.index.name = 'task'\n",
    "df_cost = df.explode('cost')['cost']\n",
    "df = df.explode('time')\n",
    "df['cost'] = df_cost"
   ]
  },
  {
   "cell_type": "code",
   "execution_count": 4,
   "metadata": {},
   "outputs": [],
   "source": [
    "layout = html.P(id='ffcf')"
   ]
  },
  {
   "cell_type": "code",
   "execution_count": 12,
   "metadata": {
    "tags": []
   },
   "outputs": [
    {
     "output_type": "display_data",
     "data": {
      "text/plain": "<IPython.lib.display.IFrame at 0x28f932eee80>",
      "text/html": "\n        <iframe\n            width=\"100%\"\n            height=\"650\"\n            src=\"http://127.0.0.1:8050/\"\n            frameborder=\"0\"\n            allowfullscreen\n        ></iframe>\n        "
     },
     "metadata": {}
    }
   ],
   "source": [
    "\n",
    "# Turn off logging level to speed up implementation\n",
    "logging.getLogger().setLevel(logging.CRITICAL)\n",
    "logging.getLogger(\"werkzeug\").setLevel(logging.WARNING)\n",
    "\n",
    "# Build App\n",
    "external_stylesheets = [dbc.themes.BOOTSTRAP]\n",
    "app = JupyterDash(__name__, external_stylesheets=external_stylesheets)\n",
    "\n",
    "pof_sim = copy.copy(comp)\n",
    "sens_sim = copy.copy(comp)\n",
    "\n",
    "def layout():\n",
    "    mcl = make_component_layout(comp)\n",
    "    update_list = [{\"label\": option, \"value\": option} for option in comp.get_update_ids()]\n",
    "\n",
    "    layout = html.Div([\n",
    "        html.Div(id='log'),\n",
    "        html.Div(children='Update State:', id='update_state'),\n",
    "        html.Div([\n",
    "            html.P(children='Sim State', id='sim_state'),\n",
    "            html.P(id='sim_state_err', style={'color': 'red'}),\n",
    "        ]),\n",
    "        html.Div(children='Fig State', id='fig_state'),\n",
    "        html.Div([\n",
    "            dcc.Interval(id=\"progress-interval\", n_intervals=0, interval=50),\n",
    "            dbc.Row([\n",
    "                dbc.Progress(id=\"progress\"),\n",
    "                dcc.Input(id='n_iterations-input', value=10, type='number'),\n",
    "            )]\n",
    "            dbc.Progress(id=\"progress_sens\"),\n",
    "        ]),\n",
    "        dbc.Row([dbc.Col(), dbc.Col(dcc.Dropdown(\n",
    "            id='demo-dropdown',\n",
    "            options=update_list,\n",
    "            value='comp-fm-slow_aging-tasks-inspection-t_interval'))]),\n",
    "        dbc.Row(\n",
    "            [\n",
    "                dbc.Col(dcc.Graph(id='pof-fig')),\n",
    "                dbc.Col(dcc.Graph(id='insp_interval-fig')),\n",
    "            ]\n",
    "        ),\n",
    "            dbc.Row(\n",
    "            [\n",
    "                dbc.Col(dcc.Graph(id='cond-fig')),\n",
    "                dbc.Col(dcc.Graph(id=\"cost-fig\"))\n",
    "            ]\n",
    "        ),\n",
    "        mcl,\n",
    "    ])\n",
    "    \n",
    "    return layout\n",
    "\n",
    "# Layout\n",
    "var_to_scale = cf.scaling\n",
    "app.layout = layout\n",
    "\n",
    "collapse_ids = comp.get_objects()\n",
    "\n",
    "@app.callback(\n",
    "    [Output(f\"{prefix}-collapse\", \"is_open\") for prefix in collapse_ids],\n",
    "    [Input(f\"{prefix}-collapse-button\", \"n_clicks\") for prefix in collapse_ids],\n",
    "    [State(f\"{prefix}-collapse\", \"is_open\") for prefix in collapse_ids],\n",
    ")\n",
    "def toggle_collapses(*args):\n",
    "    ctx = dash.callback_context\n",
    "\n",
    "    state_id = \"\"\n",
    "    collapse_id = ctx.triggered[0]['prop_id'].split('.')[0].replace('-collapse-button','')\n",
    "    if collapse_id in collapse_ids: #TODO change to is not None\n",
    "\n",
    "        state_id = collapse_id + '-collapse.is_open'\n",
    "        ctx.states[state_id] = not ctx.states[state_id]\n",
    "\n",
    "    is_open = tuple(ctx.states.values())\n",
    "\n",
    "    return is_open\n",
    "\n",
    "\n",
    "ms_fig_update = comp.get_dash_ids()\n",
    "param_inputs = [Input(dash_id,\"checked\") if 'active' in dash_id else Input(dash_id,\"value\") for dash_id in ms_fig_update]\n",
    "\n",
    "# Update --> Simulate --> Figures\n",
    "\n",
    "@app.callback(\n",
    "    Output('update_state', 'children'), \n",
    "    param_inputs\n",
    ")\n",
    "def update_parameter(graph_y_limit_active, graph_y_limit, *args):\n",
    "    \"\"\"Update a the pof object whenever an input is changes\"\"\"\n",
    "\n",
    "    # Check the parameters that changed\n",
    "    ctx = dash.callback_context\n",
    "    dash_id = None\n",
    "    value=None  \n",
    "\n",
    "    # If any parameters have changed update the objecte\n",
    "    if ctx.triggered:\n",
    "        dash_id = ctx.triggered[0]['prop_id'].split('.')[0]\n",
    "        value = ctx.triggered[0]['value']\n",
    "\n",
    "        # Scale the value if req\n",
    "        value = value / var_to_scale.get(dash_id.split('-')[-1], 1)\n",
    "\n",
    "        # update the model\n",
    "        comp.update(dash_id, value)\n",
    "    \n",
    "    return f\"Update State: {dash_id} - {value}\"\n",
    "\n",
    "\n",
    "@app.callback(\n",
    "    [Output(\"sim_state\", 'children'), Output(\"sim_state_err\", \"children\")],\n",
    "    [Input(\"n_iterations-input\", \"value\"), Input(\"update_state\", \"children\")],\n",
    ")\n",
    "def update_simulation(n_iterations, *args):\n",
    "    \"\"\" Triger a simulation whenever an update is completed or the number of iterations change\"\"\"\n",
    "    global pof_sim\n",
    "    global sim_err_count\n",
    "\n",
    "    pof_sim.cancel_sim()\n",
    "    #time.sleep(1)\n",
    "    pof_sim = copy.copy(comp)\n",
    "\n",
    "    pof_sim.next_sim(t_end=200, n_iterations=n_iterations)\n",
    "\n",
    "    if not pof_sim.up_to_date:\n",
    "        sim_err_count = sim_err_count + 1\n",
    "        return dash.no_update, f\"Errors: {sim_err_count}\"\n",
    "    return f\"Sim State: {pof_sim.n_iterations} - {n_iterations}\", \"\"\n",
    "\n",
    "fig_start = 0\n",
    "fig_end = 0\n",
    "\n",
    "# After a simulation the following callbacks are triggered\n",
    "\n",
    "@app.callback(\n",
    "    [Output(\"cost-fig\", \"figure\"),\n",
    "    Output(\"pof-fig\", \"figure\"),\n",
    "    Output(\"cond-fig\", \"figure\"),\n",
    "    Output(\"fig_state\", \"children\")], \n",
    "    [Input(\"sim_state\", \"children\")]\n",
    ")\n",
    "def update_figures(*args):\n",
    "    global fig_start\n",
    "    global fig_end\n",
    "\n",
    "    fig_start = fig_start + 1\n",
    "    cost_fig = update_cost_fig(pof_sim) #legend = dropdown value\n",
    "    pof_fig = update_pof_fig(pof_sim)\n",
    "    cond_fig = update_condition_fig(pof_sim)\n",
    "    fig_end = fig_end + 1\n",
    "    return cost_fig, pof_fig, cond_fig, f\"Fig State: {fig_start} - {fig_end}\"\n",
    "\n",
    "@app.callback(\n",
    "    Output(\"ffcf\", \"children\"), \n",
    "    [Input(\"sim_state\", \"children\")]\n",
    ")\n",
    "def update_ffcf(*args):\n",
    "    cf = pof_sim.expected_cf()\n",
    "    ff = pof_sim.expected_ff()\n",
    "\n",
    "    ratio = round(ff / (cf+ff), 2)\n",
    "\n",
    "    return f\"Conditional {cf} : {ff} Functional. {ratio}%\"\n",
    "\n",
    "@app.callback(\n",
    "    Output(\"insp_interval-fig\", \"figure\"), \n",
    "    [Input('cost-fig', 'figure')]\n",
    ")\n",
    "def update_insp_interval(*args):\n",
    "    \"\"\" Trigger a sensitivity analysis of the target variable\"\"\"\n",
    "    # Copy from the main model\n",
    "    sens_sim = copy.deepcopy(comp)\n",
    "    \n",
    "    insp_interval_fig = make_inspection_interval_fig(sens_sim, t_min=1, t_max=10, step=1, n_iterations = 100)\n",
    "\n",
    "    return insp_interval_fig\n",
    "\n",
    "# The following progress bars are always running\n",
    "\n",
    "@app.callback(\n",
    "    [Output(\"progress\", \"value\"), Output(\"progress\", \"children\")],\n",
    "    [Input(\"progress-interval\", \"n_intervals\")],\n",
    ")\n",
    "def update_progress(n):\n",
    "    if pof_sim.n is None:\n",
    "        raise Exception(\"no process started\")\n",
    "    progress = int(pof_sim.n / pof_sim.n_iterations * 100)\n",
    "\n",
    "    return progress, f\"{progress} %\" if progress >= 5 else \"\"\n",
    "\n",
    "@app.callback(\n",
    "    [Output(\"progress_sens\", \"value\"), Output(\"progress_sens\", \"children\")],\n",
    "    [Input(\"progress-interval\", \"n_intervals\")],\n",
    ")\n",
    "def update_progress_sens(n):\n",
    "    if sens_sim.n is None:\n",
    "        raise Exception(\"no process started\")\n",
    "    progress = int(sens_sim.sens_progress() * 100)\n",
    "\n",
    "    return progress, f\"{progress} %\" if progress >= 5 else \"\"\n",
    "\n",
    "\n",
    "app.run_server(debug=False, mode='inline')\n",
    "#app.run_server(debug=True, use_reloader=False)"
   ]
  },
  {
   "cell_type": "code",
   "execution_count": 6,
   "metadata": {
    "tags": []
   },
   "outputs": [
    {
     "output_type": "execute_result",
     "data": {
      "text/plain": [
       "[]"
      ]
     },
     "metadata": {},
     "execution_count": 6
    }
   ],
   "source": [
    "comp.fm['termites']._t_failures#timeline#.tasks['inspection'].sim_timeline(200)"
   ]
  },
  {
   "cell_type": "code",
   "execution_count": 7,
   "metadata": {},
   "outputs": [],
   "source": [
    "erc = dict()\n",
    "for fm_name, fm in comp.fm.items():\n",
    "    erc[fm_name] = fm._expected_risk_cost()"
   ]
  },
  {
   "cell_type": "code",
   "execution_count": 22,
   "metadata": {},
   "outputs": [
    {
     "output_type": "execute_result",
     "data": {
      "text/plain": [
       "                                    risk inspection CAT3/4 replacement  \\\n",
       "time                        [34, 39, 67]         []                 []   \n",
       "cost         [50000.0, 50000.0, 50000.0]         []                 []   \n",
       "active                              True        NaN                NaN   \n",
       "task_active                          NaN       True               True   \n",
       "\n",
       "                   CAT1/2 replacement  \n",
       "time                     [34, 39, 67]  \n",
       "cost         [7000.0, 7000.0, 7000.0]  \n",
       "active                            NaN  \n",
       "task_active                      True  "
      ],
      "text/html": "<div>\n<style scoped>\n    .dataframe tbody tr th:only-of-type {\n        vertical-align: middle;\n    }\n\n    .dataframe tbody tr th {\n        vertical-align: top;\n    }\n\n    .dataframe thead th {\n        text-align: right;\n    }\n</style>\n<table border=\"1\" class=\"dataframe\">\n  <thead>\n    <tr style=\"text-align: right;\">\n      <th></th>\n      <th>risk</th>\n      <th>inspection</th>\n      <th>CAT3/4 replacement</th>\n      <th>CAT1/2 replacement</th>\n    </tr>\n  </thead>\n  <tbody>\n    <tr>\n      <th>time</th>\n      <td>[34, 39, 67]</td>\n      <td>[]</td>\n      <td>[]</td>\n      <td>[34, 39, 67]</td>\n    </tr>\n    <tr>\n      <th>cost</th>\n      <td>[50000.0, 50000.0, 50000.0]</td>\n      <td>[]</td>\n      <td>[]</td>\n      <td>[7000.0, 7000.0, 7000.0]</td>\n    </tr>\n    <tr>\n      <th>active</th>\n      <td>True</td>\n      <td>NaN</td>\n      <td>NaN</td>\n      <td>NaN</td>\n    </tr>\n    <tr>\n      <th>task_active</th>\n      <td>NaN</td>\n      <td>True</td>\n      <td>True</td>\n      <td>True</td>\n    </tr>\n  </tbody>\n</table>\n</div>"
     },
     "metadata": {},
     "execution_count": 22
    }
   ],
   "source": []
  },
  {
   "cell_type": "code",
   "execution_count": 22,
   "metadata": {},
   "outputs": [
    {
     "output_type": "execute_result",
     "data": {
      "text/plain": [
       "['time', 'cost']"
      ]
     },
     "metadata": {},
     "execution_count": 22
    }
   ],
   "source": [
    "list(comp.fm['weathering'].expected_risk_cost()['risk'])"
   ]
  },
  {
   "cell_type": "code",
   "execution_count": 16,
   "metadata": {},
   "outputs": [
    {
     "output_type": "execute_result",
     "data": {
      "text/plain": [
       "                                            time   cost task_active  \\\n",
       "failure_mode            task                                          \n",
       "fire_damage             CAT1/2 replacement    61      0        True   \n",
       "                        inspection            61      0        True   \n",
       "                        risk                  61      0         NaN   \n",
       "fungal decay _ external CAT1/2 replacement    62    777        True   \n",
       "                        CAT3/4 replacement    62      0        True   \n",
       "                        inspection            62     50        True   \n",
       "                        risk                  62   5555         NaN   \n",
       "fungal decay _ internal CAT1/2 replacement    62    777        True   \n",
       "                        CAT3/4 replacement    62      0        True   \n",
       "                        inspection            62     50        True   \n",
       "                        pole_saver_rod        62      0        True   \n",
       "                        risk                  62   5555         NaN   \n",
       "impact                  CAT1/2 replacement    61      0        True   \n",
       "                        inspection            61      0        True   \n",
       "                        risk                  61      0         NaN   \n",
       "lightning               CAT1/2 replacement    61      0        True   \n",
       "                        inspection_1          61      0        True   \n",
       "                        inspection_2          61     50        True   \n",
       "                        risk                  61      0         NaN   \n",
       "termites                CAT1/2 replacement    62    777        True   \n",
       "                        CAT3/4 replacement    62      0        True   \n",
       "                        inspection            62     50        True   \n",
       "                        risk                  62   5555         NaN   \n",
       "                        termite_powder        62      0        True   \n",
       "weathering              CAT1/2 replacement    55   1555        True   \n",
       "                        CAT3/4 replacement    55      0        True   \n",
       "                        inspection            55      0        True   \n",
       "                        risk                  55  11111         NaN   \n",
       "\n",
       "                                            cost_cumulative  fm_active  \n",
       "failure_mode            task                                            \n",
       "fire_damage             CAT1/2 replacement                0       True  \n",
       "                        inspection                        0       True  \n",
       "                        risk                              0       True  \n",
       "fungal decay _ external CAT1/2 replacement             1554       True  \n",
       "                        CAT3/4 replacement                0       True  \n",
       "                        inspection                      409       True  \n",
       "                        risk                          11110       True  \n",
       "fungal decay _ internal CAT1/2 replacement              777       True  \n",
       "                        CAT3/4 replacement                0       True  \n",
       "                        inspection                      403       True  \n",
       "                        pole_saver_rod                    0       True  \n",
       "                        risk                           5555       True  \n",
       "impact                  CAT1/2 replacement                0       True  \n",
       "                        inspection                        0       True  \n",
       "                        risk                              0       True  \n",
       "lightning               CAT1/2 replacement                0       True  \n",
       "                        inspection_1                      0       True  \n",
       "                        inspection_2                    398       True  \n",
       "                        risk                              0       True  \n",
       "termites                CAT1/2 replacement              777       True  \n",
       "                        CAT3/4 replacement                0       True  \n",
       "                        inspection                      414       True  \n",
       "                        risk                           5555       True  \n",
       "                        termite_powder                    0       True  \n",
       "weathering              CAT1/2 replacement             3886       True  \n",
       "                        CAT3/4 replacement                0       True  \n",
       "                        inspection                        0       True  \n",
       "                        risk                          27776       True  "
      ],
      "text/html": "<div>\n<style scoped>\n    .dataframe tbody tr th:only-of-type {\n        vertical-align: middle;\n    }\n\n    .dataframe tbody tr th {\n        vertical-align: top;\n    }\n\n    .dataframe thead th {\n        text-align: right;\n    }\n</style>\n<table border=\"1\" class=\"dataframe\">\n  <thead>\n    <tr style=\"text-align: right;\">\n      <th></th>\n      <th></th>\n      <th>time</th>\n      <th>cost</th>\n      <th>task_active</th>\n      <th>cost_cumulative</th>\n      <th>fm_active</th>\n    </tr>\n    <tr>\n      <th>failure_mode</th>\n      <th>task</th>\n      <th></th>\n      <th></th>\n      <th></th>\n      <th></th>\n      <th></th>\n    </tr>\n  </thead>\n  <tbody>\n    <tr>\n      <th rowspan=\"3\" valign=\"top\">fire_damage</th>\n      <th>CAT1/2 replacement</th>\n      <td>61</td>\n      <td>0</td>\n      <td>True</td>\n      <td>0</td>\n      <td>True</td>\n    </tr>\n    <tr>\n      <th>inspection</th>\n      <td>61</td>\n      <td>0</td>\n      <td>True</td>\n      <td>0</td>\n      <td>True</td>\n    </tr>\n    <tr>\n      <th>risk</th>\n      <td>61</td>\n      <td>0</td>\n      <td>NaN</td>\n      <td>0</td>\n      <td>True</td>\n    </tr>\n    <tr>\n      <th rowspan=\"4\" valign=\"top\">fungal decay _ external</th>\n      <th>CAT1/2 replacement</th>\n      <td>62</td>\n      <td>777</td>\n      <td>True</td>\n      <td>1554</td>\n      <td>True</td>\n    </tr>\n    <tr>\n      <th>CAT3/4 replacement</th>\n      <td>62</td>\n      <td>0</td>\n      <td>True</td>\n      <td>0</td>\n      <td>True</td>\n    </tr>\n    <tr>\n      <th>inspection</th>\n      <td>62</td>\n      <td>50</td>\n      <td>True</td>\n      <td>409</td>\n      <td>True</td>\n    </tr>\n    <tr>\n      <th>risk</th>\n      <td>62</td>\n      <td>5555</td>\n      <td>NaN</td>\n      <td>11110</td>\n      <td>True</td>\n    </tr>\n    <tr>\n      <th rowspan=\"5\" valign=\"top\">fungal decay _ internal</th>\n      <th>CAT1/2 replacement</th>\n      <td>62</td>\n      <td>777</td>\n      <td>True</td>\n      <td>777</td>\n      <td>True</td>\n    </tr>\n    <tr>\n      <th>CAT3/4 replacement</th>\n      <td>62</td>\n      <td>0</td>\n      <td>True</td>\n      <td>0</td>\n      <td>True</td>\n    </tr>\n    <tr>\n      <th>inspection</th>\n      <td>62</td>\n      <td>50</td>\n      <td>True</td>\n      <td>403</td>\n      <td>True</td>\n    </tr>\n    <tr>\n      <th>pole_saver_rod</th>\n      <td>62</td>\n      <td>0</td>\n      <td>True</td>\n      <td>0</td>\n      <td>True</td>\n    </tr>\n    <tr>\n      <th>risk</th>\n      <td>62</td>\n      <td>5555</td>\n      <td>NaN</td>\n      <td>5555</td>\n      <td>True</td>\n    </tr>\n    <tr>\n      <th rowspan=\"3\" valign=\"top\">impact</th>\n      <th>CAT1/2 replacement</th>\n      <td>61</td>\n      <td>0</td>\n      <td>True</td>\n      <td>0</td>\n      <td>True</td>\n    </tr>\n    <tr>\n      <th>inspection</th>\n      <td>61</td>\n      <td>0</td>\n      <td>True</td>\n      <td>0</td>\n      <td>True</td>\n    </tr>\n    <tr>\n      <th>risk</th>\n      <td>61</td>\n      <td>0</td>\n      <td>NaN</td>\n      <td>0</td>\n      <td>True</td>\n    </tr>\n    <tr>\n      <th rowspan=\"4\" valign=\"top\">lightning</th>\n      <th>CAT1/2 replacement</th>\n      <td>61</td>\n      <td>0</td>\n      <td>True</td>\n      <td>0</td>\n      <td>True</td>\n    </tr>\n    <tr>\n      <th>inspection_1</th>\n      <td>61</td>\n      <td>0</td>\n      <td>True</td>\n      <td>0</td>\n      <td>True</td>\n    </tr>\n    <tr>\n      <th>inspection_2</th>\n      <td>61</td>\n      <td>50</td>\n      <td>True</td>\n      <td>398</td>\n      <td>True</td>\n    </tr>\n    <tr>\n      <th>risk</th>\n      <td>61</td>\n      <td>0</td>\n      <td>NaN</td>\n      <td>0</td>\n      <td>True</td>\n    </tr>\n    <tr>\n      <th rowspan=\"5\" valign=\"top\">termites</th>\n      <th>CAT1/2 replacement</th>\n      <td>62</td>\n      <td>777</td>\n      <td>True</td>\n      <td>777</td>\n      <td>True</td>\n    </tr>\n    <tr>\n      <th>CAT3/4 replacement</th>\n      <td>62</td>\n      <td>0</td>\n      <td>True</td>\n      <td>0</td>\n      <td>True</td>\n    </tr>\n    <tr>\n      <th>inspection</th>\n      <td>62</td>\n      <td>50</td>\n      <td>True</td>\n      <td>414</td>\n      <td>True</td>\n    </tr>\n    <tr>\n      <th>risk</th>\n      <td>62</td>\n      <td>5555</td>\n      <td>NaN</td>\n      <td>5555</td>\n      <td>True</td>\n    </tr>\n    <tr>\n      <th>termite_powder</th>\n      <td>62</td>\n      <td>0</td>\n      <td>True</td>\n      <td>0</td>\n      <td>True</td>\n    </tr>\n    <tr>\n      <th rowspan=\"4\" valign=\"top\">weathering</th>\n      <th>CAT1/2 replacement</th>\n      <td>55</td>\n      <td>1555</td>\n      <td>True</td>\n      <td>3886</td>\n      <td>True</td>\n    </tr>\n    <tr>\n      <th>CAT3/4 replacement</th>\n      <td>55</td>\n      <td>0</td>\n      <td>True</td>\n      <td>0</td>\n      <td>True</td>\n    </tr>\n    <tr>\n      <th>inspection</th>\n      <td>55</td>\n      <td>0</td>\n      <td>True</td>\n      <td>0</td>\n      <td>True</td>\n    </tr>\n    <tr>\n      <th>risk</th>\n      <td>55</td>\n      <td>11111</td>\n      <td>NaN</td>\n      <td>27776</td>\n      <td>True</td>\n    </tr>\n  </tbody>\n</table>\n</div>"
     },
     "metadata": {},
     "execution_count": 16
    }
   ],
   "source": [
    "df = comp.expected_risk_cost_df().groupby(by=['failure_mode', 'task']).max()\n",
    "df"
   ]
  },
  {
   "cell_type": "code",
   "execution_count": null,
   "metadata": {},
   "outputs": [],
   "source": [
    "erc = dict()\n",
    "for fm_name, fm in self.fm.items():\n",
    "    erc[fm_name] = fm.expected_risk_cost_df()\n",
    "\n",
    "df = pd.concat(erc)\n",
    "df = (\n",
    "    df.reset_index()\n",
    "    .drop(columns=\"level_1\")\n",
    "    .rename(columns={\"level_0\": \"failure_mode\"})\n",
    ")"
   ]
  },
  {
   "cell_type": "code",
   "execution_count": 14,
   "metadata": {},
   "outputs": [
    {
     "output_type": "execute_result",
     "data": {
      "text/plain": [
       "           task time cost task_active cost_cumulative  fm_active\n",
       "0    inspection    0    0        True               0       True\n",
       "1    inspection    1    0        True               0       True\n",
       "2    inspection    2    0        True               0       True\n",
       "3    inspection    3    0        True               0       True\n",
       "4    inspection    4    0        True               0       True\n",
       "..          ...  ...  ...         ...             ...        ...\n",
       "310        risk   58    0         NaN            5555       True\n",
       "311        risk   59    0         NaN            5555       True\n",
       "312        risk   60    0         NaN            5555       True\n",
       "313        risk   61    0         NaN            5555       True\n",
       "314        risk   62    0         NaN            5555       True\n",
       "\n",
       "[315 rows x 6 columns]"
      ],
      "text/html": "<div>\n<style scoped>\n    .dataframe tbody tr th:only-of-type {\n        vertical-align: middle;\n    }\n\n    .dataframe tbody tr th {\n        vertical-align: top;\n    }\n\n    .dataframe thead th {\n        text-align: right;\n    }\n</style>\n<table border=\"1\" class=\"dataframe\">\n  <thead>\n    <tr style=\"text-align: right;\">\n      <th></th>\n      <th>task</th>\n      <th>time</th>\n      <th>cost</th>\n      <th>task_active</th>\n      <th>cost_cumulative</th>\n      <th>fm_active</th>\n    </tr>\n  </thead>\n  <tbody>\n    <tr>\n      <th>0</th>\n      <td>inspection</td>\n      <td>0</td>\n      <td>0</td>\n      <td>True</td>\n      <td>0</td>\n      <td>True</td>\n    </tr>\n    <tr>\n      <th>1</th>\n      <td>inspection</td>\n      <td>1</td>\n      <td>0</td>\n      <td>True</td>\n      <td>0</td>\n      <td>True</td>\n    </tr>\n    <tr>\n      <th>2</th>\n      <td>inspection</td>\n      <td>2</td>\n      <td>0</td>\n      <td>True</td>\n      <td>0</td>\n      <td>True</td>\n    </tr>\n    <tr>\n      <th>3</th>\n      <td>inspection</td>\n      <td>3</td>\n      <td>0</td>\n      <td>True</td>\n      <td>0</td>\n      <td>True</td>\n    </tr>\n    <tr>\n      <th>4</th>\n      <td>inspection</td>\n      <td>4</td>\n      <td>0</td>\n      <td>True</td>\n      <td>0</td>\n      <td>True</td>\n    </tr>\n    <tr>\n      <th>...</th>\n      <td>...</td>\n      <td>...</td>\n      <td>...</td>\n      <td>...</td>\n      <td>...</td>\n      <td>...</td>\n    </tr>\n    <tr>\n      <th>310</th>\n      <td>risk</td>\n      <td>58</td>\n      <td>0</td>\n      <td>NaN</td>\n      <td>5555</td>\n      <td>True</td>\n    </tr>\n    <tr>\n      <th>311</th>\n      <td>risk</td>\n      <td>59</td>\n      <td>0</td>\n      <td>NaN</td>\n      <td>5555</td>\n      <td>True</td>\n    </tr>\n    <tr>\n      <th>312</th>\n      <td>risk</td>\n      <td>60</td>\n      <td>0</td>\n      <td>NaN</td>\n      <td>5555</td>\n      <td>True</td>\n    </tr>\n    <tr>\n      <th>313</th>\n      <td>risk</td>\n      <td>61</td>\n      <td>0</td>\n      <td>NaN</td>\n      <td>5555</td>\n      <td>True</td>\n    </tr>\n    <tr>\n      <th>314</th>\n      <td>risk</td>\n      <td>62</td>\n      <td>0</td>\n      <td>NaN</td>\n      <td>5555</td>\n      <td>True</td>\n    </tr>\n  </tbody>\n</table>\n<p>315 rows × 6 columns</p>\n</div>"
     },
     "metadata": {},
     "execution_count": 14
    }
   ],
   "source": [
    "comp.fm['termites'].expected_risk_cost_df()"
   ]
  },
  {
   "cell_type": "code",
   "execution_count": 13,
   "metadata": {},
   "outputs": [
    {
     "output_type": "execute_result",
     "data": {
      "text/plain": [
       "62"
      ]
     },
     "metadata": {},
     "execution_count": 13
    }
   ],
   "source": [
    "df['time'].max()"
   ]
  },
  {
   "cell_type": "code",
   "execution_count": 9,
   "metadata": {},
   "outputs": [],
   "source": [
    "%%timeit\n",
    "\n",
    "comp.expected_inspection_interval(t_min=1, t_max=10)"
   ]
  },
  {
   "cell_type": "code",
   "execution_count": 7,
   "metadata": {},
   "outputs": [],
   "source": [
    "pof_sim.cancel_sim()\n",
    "pof_sim = copy.copy(comp)\n",
    "pof_sim.next_sim(t_end=200)"
   ]
  },
  {
   "cell_type": "code",
   "execution_count": 26,
   "metadata": {},
   "outputs": [],
   "source": [
    "comp.reset()"
   ]
  },
  {
   "cell_type": "code",
   "execution_count": 30,
   "metadata": {},
   "outputs": [
    {
     "output_type": "execute_result",
     "data": {
      "text/plain": [
       "{}"
      ]
     },
     "metadata": {},
     "execution_count": 30
    }
   ],
   "source": [
    "pof_sim.fm['random'].timeline"
   ]
  },
  {
   "cell_type": "code",
   "execution_count": 13,
   "metadata": {},
   "outputs": [
    {
     "output_type": "execute_result",
     "data": {
      "text/plain": "False"
     },
     "metadata": {},
     "execution_count": 13
    }
   ],
   "source": [
    "task.active"
   ]
  }
 ]
}