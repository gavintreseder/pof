{
 "metadata": {
  "language_info": {
   "codemirror_mode": {
    "name": "ipython",
    "version": 3
   },
   "file_extension": ".py",
   "mimetype": "text/x-python",
   "name": "python",
   "nbconvert_exporter": "python",
   "pygments_lexer": "ipython3",
   "version": "3.8.3-final"
  },
  "orig_nbformat": 2,
  "kernelspec": {
   "name": "python3",
   "display_name": "Python 3"
  }
 },
 "nbformat": 4,
 "nbformat_minor": 2,
 "cells": [
  {
   "cell_type": "markdown",
   "metadata": {},
   "source": [
    "# Interface Demonstration Notebook\n",
    "\n",
    "A notebook to demonstrate an interface with some of the features of the Probability of Failure Model\n",
    "\n",
    "Author: gavin.treseder@essentialenergy.com.au"
   ]
  },
  {
   "cell_type": "code",
   "execution_count": 1,
   "metadata": {
    "tags": []
   },
   "outputs": [],
   "source": [
    "import sys\n",
    "import os\n",
    "sys.path.append(os.path.dirname(os.getcwd()))\n",
    "\n",
    "import logging\n",
    "logging.getLogger().setLevel(logging.INFO)\n",
    "\n",
    "import copy\n",
    "import multiprocessing as mp\n",
    "\n",
    "from matplotlib import pyplot as plt\n",
    "import numpy as np\n",
    "import pandas as pd\n",
    "import dash\n",
    "import dash_bootstrap_components as dbc\n",
    "import dash_core_components as dcc\n",
    "import dash_html_components as html\n",
    "from dash.dependencies import Input, Output, State\n",
    "from dash.exceptions import PreventUpdate\n",
    "import plotly.express as px\n",
    "import plotly.graph_objects as go\n",
    "from jupyter_dash import JupyterDash\n",
    "\n",
    "from config import config\n",
    "from pof.loader.asset_model_loader import AssetModelLoader\n",
    "from pof import Component, FailureMode, Task\n",
    "from pof.interface.dashlogger import DashLogger\n",
    "from pof.interface.layouts import *\n",
    "from pof.interface.figures import update_condition_fig, update_cost_fig, update_pof_fig, make_inspection_interval_fig_mod"
   ]
  },
  {
   "cell_type": "code",
   "execution_count": 2,
   "metadata": {
    "tags": []
   },
   "outputs": [
    {
     "output_type": "stream",
     "name": "stdout",
     "text": [
      "Validation Result: True\n"
     ]
    }
   ],
   "source": [
    "# Quick test to make sure everything is works \n",
    "comp = Component.demo()\n",
    "mcl = make_component_layout(comp)\n",
    "print(f\"Validation Result: {validate_layout(comp, mcl)}\")"
   ]
  },
  {
   "cell_type": "code",
   "execution_count": 3,
   "metadata": {
    "tags": []
   },
   "outputs": [
    {
     "output_type": "stream",
     "name": "stderr",
     "text": [
      "WARNING:root:Invalid Data () - {'task': 'inspection', 'level_of_repair': 'as_bad_as_old', 'admin': 'yes', 'maint': 'no', 'travel': 'yes'}\n",
      "WARNING:root:Invalid Data () - {'task': 'repair', 'level_of_repair': 'grp'}\n",
      "WARNING:root:Invalid Data () - {'task': 'replace', 'level_of_repair': 'as_good_as_new'}\n",
      "WARNING:root:Invalid Data () - {'task': 'replace', 'level_of_repair': 'as_good_as_new'}\n",
      "WARNING:root:Invalid Data () - {'task': 'inspection', 'admin': 'yes', 'maint': 'no', 'travel': 'yes'}\n",
      "WARNING:root:Invalid Data () - {'task': 'replace', 'level_of_repair': 'as_good_as_new'}\n",
      "WARNING:root:Invalid Data () - {'task': 'replace', 'level_of_repair': 'as_good_as_new'}\n",
      "WARNING:root:Invalid Data () - {'task': 'inspection', 'level_of_repair': 'as_bad_as_old', 'admin': 'yes', 'maint': 'no', 'travel': 'yes'}\n",
      "WARNING:root:Invalid Data () - {'task': 'repair', 'level_of_repair': 'as_bad_as_old'}\n",
      "WARNING:root:Invalid Data () - {'task': 'replace', 'level_of_repair': 'as_good_as_new'}\n",
      "WARNING:root:Invalid Data () - {'task': 'replace', 'level_of_repair': 'as_good_as_new'}\n",
      "WARNING:root:Invalid Data () - {'task': 'inspection', 'level_of_repair': 'as_bad_as_old'}\n",
      "WARNING:root:Invalid Data () - {'task': 'inspection', 'admin': 'yes', 'maint': 'no', 'travel': 'yes'}\n",
      "WARNING:root:Invalid Data () - {'task': 'replace', 'level_of_repair': 'as_good_as_new'}\n",
      "WARNING:root:Invalid Data () - {'task': 'inspection', 'level_of_repair': 'as_bad_as_old'}\n",
      "WARNING:root:Invalid Data () - {'task': 'replace', 'level_of_repair': 'as_good_as_new'}\n",
      "WARNING:root:Invalid Data () - {'task': 'inspection', 'level_of_repair': 'as_bad_as_old'}\n",
      "WARNING:root:Invalid Data () - {'task': 'replace', 'level_of_repair': 'as_good_as_new'}\n",
      "WARNING:root:Invalid Data () - {'task': 'inspection'}\n",
      "WARNING:root:Invalid Data () - {'task': 'replace', 'level_of_repair': 'as_good_as_new'}\n",
      "WARNING:root:Invalid Data () - {'task': 'replace', 'level_of_repair': 'as_good_as_new'}\n"
     ]
    }
   ],
   "source": [
    "# Turn off logging\n",
    "logging.getLogger().setLevel(logging.INFO)\n",
    "config['Load']['on_error_use_default'] ='False'\n",
    "\n",
    "file_name = r\"\\data\\inputs\\Asset Model - Pole - Demo.xlsx\"\n",
    "# file_name = r\"\\data\\inputs\\Asset Model - Pole - Timber.xlsx\"\n",
    "# file_name = r'\\data\\inputs\\Asset Model - Demo.xlsx'\n",
    "\n",
    "filename = os.path.dirname(os.getcwd()) + file_name\n",
    "aml = AssetModelLoader(filename)\n",
    "comp_data = aml.load()\n",
    "comp = Component.from_dict(comp_data['pole'])"
   ]
  },
  {
   "cell_type": "code",
   "execution_count": 4,
   "metadata": {},
   "outputs": [],
   "source": [
    "# TODO compare speed\n",
    "# %%timeit\n",
    "# comp.expected_risk_cost_df()\n",
    "\n",
    "# %%timeit\n",
    "# comp.expected_risk_cost_df_legacy_method()\n"
   ]
  },
  {
   "cell_type": "code",
   "execution_count": 5,
   "metadata": {
    "tags": []
   },
   "outputs": [
    {
     "output_type": "stream",
     "name": "stdout",
     "text": [
      "Dash app running on http://127.0.0.1:8050/\n"
     ]
    }
   ],
   "source": [
    "\n",
    "# Turn off logging level to speed up implementation\n",
    "logging.getLogger().setLevel(logging.CRITICAL)\n",
    "logging.getLogger(\"werkzeug\").setLevel(logging.WARNING)\n",
    "\n",
    "# Build App\n",
    "external_stylesheets = [dbc.themes.BOOTSTRAP]\n",
    "app = JupyterDash(__name__, external_stylesheets=external_stylesheets)\n",
    "\n",
    "pof_sim = copy.copy(comp)\n",
    "sens_sim = copy.copy(comp)\n",
    "\n",
    "def layout():\n",
    "    mcl = make_component_layout(comp)\n",
    "    update_list = [{\"label\": option, \"value\": option} for option in comp.get_update_ids()]\n",
    "\n",
    "    layout = html.Div([\n",
    "        html.Div(id='log'),\n",
    "        html.Div(children='Update State:', id='update_state'),\n",
    "        html.Div([\n",
    "            html.P(children='Sim State', id='sim_state'),\n",
    "            html.P(id='sim_state_err', style={'color': 'red'}),\n",
    "        ]),\n",
    "        html.Div(children='Fig State', id='fig_state'),\n",
    "        html.P(id='ffcf'),\n",
    "        html.Div([\n",
    "            dcc.Interval(id=\"progress-interval\", n_intervals=0, interval=50),\n",
    "            dbc.Row([\n",
    "                dbc.Col([\n",
    "                    dbc.InputGroupAddon(\n",
    "                        [\n",
    "                            dbc.Checkbox(\n",
    "                                id=\"sim_n_active\", checked=True\n",
    "                            ),\n",
    "                            dcc.Input(id='n_iterations-input', value=10, type='number'),\n",
    "                        ],\n",
    "                        addon_type=\"prepend\",\n",
    "                    ),\n",
    "                    dbc.Progress(id=\"n-progress\"),\n",
    "                ]),\n",
    "                dbc.Col([\n",
    "                    dbc.InputGroupAddon(\n",
    "                        [\n",
    "                            dbc.Checkbox(\n",
    "                                id=\"sim_n_sens_active\", checked=False\n",
    "                            ),\n",
    "                            dcc.Input(id='n_sens_iterations-input', value=10, type='number'),\n",
    "                        ],\n",
    "                        addon_type=\"prepend\",\n",
    "                    ),\n",
    "                    dbc.Progress(id=\"n_sens-progress\"),\n",
    "                ]),\n",
    "            ]),\n",
    "            \n",
    "        ]),\n",
    "        dbc.Row([dbc.Col(), dbc.Col(dcc.Dropdown(\n",
    "            id='demo-dropdown',\n",
    "            options=update_list,\n",
    "            value=comp.get_update_ids()[-1]))]),\n",
    "        dbc.Row(\n",
    "            [\n",
    "                dbc.Col(dcc.Graph(id='pof-fig')),\n",
    "                dbc.Col(dcc.Graph(id='insp_interval-fig')),\n",
    "            ]\n",
    "        ),\n",
    "        dbc.Row(\n",
    "            [\n",
    "                dbc.Col(dcc.Graph(id='cond-fig')),\n",
    "                dbc.Col(dcc.Graph(id=\"cost-fig\"))\n",
    "            ]\n",
    "        ),\n",
    "        mcl,\n",
    "    ])\n",
    "    \n",
    "    return layout\n",
    "\n",
    "# Layout\n",
    "var_to_scale = cf.scaling\n",
    "app.layout = layout\n",
    "\n",
    "collapse_ids = comp.get_objects()\n",
    "\n",
    "@app.callback(\n",
    "    [Output(f\"{prefix}-collapse\", \"is_open\") for prefix in collapse_ids],\n",
    "    [Input(f\"{prefix}-collapse-button\", \"n_clicks\") for prefix in collapse_ids],\n",
    "    [State(f\"{prefix}-collapse\", \"is_open\") for prefix in collapse_ids],\n",
    ")\n",
    "def toggle_collapses(*args):\n",
    "    ctx = dash.callback_context\n",
    "\n",
    "    state_id = \"\"\n",
    "    collapse_id = ctx.triggered[0]['prop_id'].split('.')[0].replace('-collapse-button','')\n",
    "    if collapse_id in collapse_ids: #TODO change to is not None\n",
    "\n",
    "        state_id = collapse_id + '-collapse.is_open'\n",
    "        ctx.states[state_id] = not ctx.states[state_id]\n",
    "\n",
    "    is_open = tuple(ctx.states.values())\n",
    "\n",
    "    return is_open\n",
    "\n",
    "\n",
    "ms_fig_update = comp.get_dash_ids()\n",
    "param_inputs = [Input(dash_id,\"checked\") if 'active' in dash_id else Input(dash_id,\"value\") for dash_id in ms_fig_update]\n",
    "\n",
    "# Update --> Simulate --> Figures\n",
    "\n",
    "@app.callback(\n",
    "    Output('update_state', 'children'), \n",
    "    param_inputs\n",
    ")\n",
    "def update_parameter(graph_y_limit_active, graph_y_limit, *args):\n",
    "    \"\"\"Update a the pof object whenever an input is changes\"\"\"\n",
    "\n",
    "    # Check the parameters that changed\n",
    "    ctx = dash.callback_context\n",
    "    dash_id = None\n",
    "    value=None  \n",
    "\n",
    "    # If any parameters have changed update the objecte\n",
    "    if ctx.triggered:\n",
    "        dash_id = ctx.triggered[0]['prop_id'].split('.')[0]\n",
    "        value = ctx.triggered[0]['value']\n",
    "\n",
    "        # Scale the value if req\n",
    "        value = value / var_to_scale.get(dash_id.split('-')[-1], 1)\n",
    "\n",
    "        # update the model\n",
    "        comp.update(dash_id, value)\n",
    "    \n",
    "    return f\"Update State: {dash_id} - {value}\"\n",
    "\n",
    "\n",
    "@app.callback(\n",
    "    [Output(\"sim_state\", 'children'), Output(\"sim_state_err\", \"children\")],\n",
    "    [Input(\"sim_n_active\", \"checked\"), Input(\"n_iterations-input\", \"value\"), Input(\"update_state\", \"children\")],\n",
    "    [State(\"sim_n_active\", \"checked\"), State(\"n_iterations-input\", \"value\")]\n",
    ")\n",
    "def update_simulation(active_input, n_iterations_input, state, active, n_iterations, *args):\n",
    "    \"\"\" Triger a simulation whenever an update is completed or the number of iterations change\"\"\"\n",
    "    global pof_sim\n",
    "    global sim_err_count\n",
    "\n",
    "    pof_sim.cancel_sim()\n",
    "    #time.sleep(1)\n",
    "    if active:\n",
    "        pof_sim = copy.copy(comp)\n",
    "\n",
    "        pof_sim.mp_timeline(t_end=200, n_iterations=n_iterations)\n",
    "\n",
    "        if not pof_sim.up_to_date:\n",
    "            sim_err_count = sim_err_count + 1\n",
    "            return dash.no_update, f\"Errors: {sim_err_count}\"\n",
    "        return f\"Sim State: {pof_sim.n_iterations} - {n_iterations}\", \"\"\n",
    "    else:\n",
    "        return f\"Sim State: not updating\", \"\"\n",
    "\n",
    "fig_start = 0\n",
    "fig_end = 0\n",
    "\n",
    "# After a simulation the following callbacks are triggered\n",
    "\n",
    "@app.callback(\n",
    "    [Output(\"cost-fig\", \"figure\"),\n",
    "    Output(\"pof-fig\", \"figure\"),\n",
    "    Output(\"cond-fig\", \"figure\"),\n",
    "    Output(\"fig_state\", \"children\")], \n",
    "    [Input(\"sim_state\", \"children\")],\n",
    "    [State(\"sim_n_active\", \"checked\")],\n",
    ")\n",
    "def update_figures(state, active, *args):\n",
    "    if active:\n",
    "\n",
    "        global fig_start\n",
    "        global fig_end\n",
    "\n",
    "        fig_start = fig_start + 1\n",
    "        cost_fig = update_cost_fig(pof_sim) #legend = dropdown value\n",
    "        pof_fig = update_pof_fig(pof_sim)\n",
    "        cond_fig = update_condition_fig(pof_sim)\n",
    "        fig_end = fig_end + 1\n",
    "        return cost_fig, pof_fig, cond_fig, f\"Fig State: {fig_start} - {fig_end}\"\n",
    "    else:\n",
    "        raise PreventUpdate\n",
    "\n",
    "@app.callback(\n",
    "    Output(\"ffcf\", \"children\"), \n",
    "    [Input(\"sim_state\", \"children\")]\n",
    ")\n",
    "def update_ffcf(*args):\n",
    "    cf = len(pof_sim.expected_cf())\n",
    "    ff = len(pof_sim.expected_ff())\n",
    "\n",
    "    try:\n",
    "        ratio = round(ff / (cf+ff), 2)\n",
    "    except:\n",
    "        ratio = '--.--'\n",
    "\n",
    "    return f\"Conditional {cf} : {ff} Functional. {ratio}%\"\n",
    "\n",
    "@app.callback(\n",
    "    Output(\"insp_interval-fig\", \"figure\"), \n",
    "    [Input(\"sim_n_sens_active\", \"checked\"), Input(\"n_sens_iterations-input\", \"value\"), Input(\"demo-dropdown\", \"value\"), Input('cost-fig', 'figure')],\n",
    "    [State(\"sim_n_sens_active\", \"checked\"), State(\"n_sens_iterations-input\", \"value\"), State(\"demo-dropdown\", \"value\")]\n",
    ")\n",
    "def update_insp_interval(active_input, n_iterations_input, var_input, fig , active, n_iterations, var_name, *args):\n",
    "    \"\"\" Trigger a sensitivity analysis of the target variable\"\"\"\n",
    "    # Copy from the main model\n",
    "    global sens_sim\n",
    "    sens_sim.cancel_sim()\n",
    "\n",
    "    if active:\n",
    "        sens_sim = copy.deepcopy(comp)\n",
    "        \n",
    "        insp_interval_fig = make_inspection_interval_fig_mod(sens_sim, var_name=var_name, t_min=1, t_max=10, step_size=1, n_iterations = n_iterations)\n",
    "\n",
    "        return insp_interval_fig\n",
    "    else:\n",
    "        raise PreventUpdate\n",
    "\n",
    "# The following progress bars are always running\n",
    "\n",
    "@app.callback(\n",
    "    [Output(\"n-progress\", \"value\"), Output(\"n-progress\", \"children\")],\n",
    "    [Input(\"progress-interval\", \"n_intervals\")],\n",
    ")\n",
    "def update_progress(n):\n",
    "    if pof_sim.n is None:\n",
    "        raise Exception(\"no process started\")\n",
    "    progress = int(pof_sim.progress() * 100)\n",
    "\n",
    "    return progress, f\"{progress} %\" if progress >= 5 else \"\"\n",
    "\n",
    "@app.callback(\n",
    "    [Output(\"n_sens-progress\", \"value\"), Output(\"n_sens-progress\", \"children\")],\n",
    "    [Input(\"progress-interval\", \"n_intervals\")],\n",
    ")\n",
    "def update_progress_sens(n):\n",
    "    if sens_sim.n is None:\n",
    "        raise Exception(\"no process started\")\n",
    "    progress = int(sens_sim.sens_progress() * 100)\n",
    "\n",
    "    return progress, f\"{progress} %\" if progress >= 5 else \"\"\n",
    "\n",
    "\n",
    "#app.run_server(debug=False, mode='inline')\n",
    "app.run_server(debug=True, use_reloader=False)"
   ]
  },
  {
   "cell_type": "code",
   "execution_count": null,
   "metadata": {},
   "outputs": [],
   "source": []
  },
  {
   "cell_type": "code",
   "execution_count": 7,
   "metadata": {},
   "outputs": [],
   "source": [
    "erc = dict()\n",
    "for fm_name, fm in comp.fm.items():\n",
    "    erc[fm_name] = fm._expected_risk_cost()"
   ]
  },
  {
   "cell_type": "code",
   "execution_count": 26,
   "metadata": {},
   "outputs": [],
   "source": [
    "durations = []\n",
    "event_observed = []\n",
    "event='failure'\n",
    "\n",
    "for timeline in fm._timelines.values():\n",
    "    event_observed.append(timeline[event].any())\n",
    "    if event_observed[-1]:\n",
    "        durations.append(timeline[\"time\"][timeline[event]][0])\n",
    "    else:\n",
    "        durations.append(timeline[\"time\"][-1])"
   ]
  },
  {
   "cell_type": "code",
   "execution_count": 32,
   "metadata": {},
   "outputs": [
    {
     "output_type": "error",
     "ename": "NameError",
     "evalue": "name 'Distribution' is not defined",
     "traceback": [
      "\u001b[1;31m---------------------------------------------------------------------------\u001b[0m",
      "\u001b[1;31mNameError\u001b[0m                                 Traceback (most recent call last)",
      "\u001b[1;32m<ipython-input-32-ae2facc3d194>\u001b[0m in \u001b[0;36m<module>\u001b[1;34m\u001b[0m\n\u001b[0;32m     11\u001b[0m \u001b[0mwbf\u001b[0m\u001b[1;33m.\u001b[0m\u001b[0mfit\u001b[0m\u001b[1;33m(\u001b[0m\u001b[0mdurations\u001b[0m\u001b[1;33m=\u001b[0m\u001b[0mdurations\u001b[0m\u001b[1;33m,\u001b[0m \u001b[0mevent_observed\u001b[0m\u001b[1;33m=\u001b[0m\u001b[0mevent_observed\u001b[0m\u001b[1;33m)\u001b[0m\u001b[1;33m\u001b[0m\u001b[1;33m\u001b[0m\u001b[0m\n\u001b[0;32m     12\u001b[0m \u001b[1;33m\u001b[0m\u001b[0m\n\u001b[1;32m---> 13\u001b[1;33m self.pof = Distribution(\n\u001b[0m\u001b[0;32m     14\u001b[0m     \u001b[0malpha\u001b[0m\u001b[1;33m=\u001b[0m\u001b[0mwbf\u001b[0m\u001b[1;33m.\u001b[0m\u001b[0mlambda_\u001b[0m\u001b[1;33m,\u001b[0m\u001b[1;33m\u001b[0m\u001b[1;33m\u001b[0m\u001b[0m\n\u001b[0;32m     15\u001b[0m     \u001b[0mbeta\u001b[0m\u001b[1;33m=\u001b[0m\u001b[0mwbf\u001b[0m\u001b[1;33m.\u001b[0m\u001b[0mrho_\u001b[0m\u001b[1;33m,\u001b[0m\u001b[1;33m\u001b[0m\u001b[1;33m\u001b[0m\u001b[0m\n",
      "\u001b[1;31mNameError\u001b[0m: name 'Distribution' is not defined"
     ]
    }
   ],
   "source": [
    "        from lifelines import WeibullFitter\n",
    "        durations = np.array(durations)\n",
    "        event_observed = np.array(event_observed)\n",
    "        durations = durations - fm.untreated.gamma\n",
    "\n",
    "        # Correct for zero times to have occured halfway between the 0 and 0.5\n",
    "        durations[durations <= 0] = 0.25\n",
    "\n",
    "        # Fit the weibull\n",
    "        wbf = WeibullFitter()\n",
    "        wbf.fit(durations=durations, event_observed=event_observed)\n",
    "\n",
    "        fm.pof = Distribution(\n",
    "            alpha=wbf.lambda_,\n",
    "            beta=wbf.rho_,\n",
    "            gamma=self.untreated.gamma,\n",
    "        )"
   ]
  },
  {
   "cell_type": "code",
   "execution_count": 45,
   "metadata": {},
   "outputs": [
    {
     "output_type": "execute_result",
     "data": {
      "text/plain": [
       "array([False, False, False,  True])"
      ]
     },
     "metadata": {},
     "execution_count": 45
    }
   ],
   "source": [
    "event_observed + event_observed"
   ]
  },
  {
   "cell_type": "code",
   "execution_count": 47,
   "metadata": {},
   "outputs": [
    {
     "output_type": "execute_result",
     "data": {
      "text/plain": [
       "{'alpha': 0.05,\n",
       " '_class_name': 'WeibullFitter',\n",
       " '_label': 'Weibull_estimate',\n",
       " '_censoring_type': <CensoringType.RIGHT: 'right'>,\n",
       " '_estimate_name': 'cumulative_hazard_',\n",
       " '_bounds': [(1e-09, None), (1e-09, None)],\n",
       " 'durations': array([38., 48., 51., 68.]),\n",
       " 'event_observed': array([0, 0, 0, 1]),\n",
       " 'entry': array([0., 0., 0., 0.]),\n",
       " 'weights': array([1., 1., 1., 1.]),\n",
       " 'timeline': array([38., 48., 58., 68.]),\n",
       " '_ci_labels': None,\n",
       " '_initial_values': array([51.25,  1.  ]),\n",
       " '_fitted_parameters_': array([6.80000000e+01, 1.82634904e+05]),\n",
       " 'log_likelihood_': 6.895736671200532,\n",
       " '_hessian_': array([[7.21356142e+06, 0.00000000e+00],\n",
       "        [0.00000000e+00, 2.99800561e-11]]),\n",
       " 'lambda_': 68.00000000000004,\n",
       " 'rho_': 182634.90353349817,\n",
       " 'variance_matrix_':               lambda_          rho_\n",
       " lambda_  1.386278e-07  0.000000e+00\n",
       " rho_     0.000000e+00  3.335551e+10,\n",
       " 'survival_function_':       Weibull_estimate\n",
       " 38.0          1.000000\n",
       " 48.0          1.000000\n",
       " 58.0          1.000000\n",
       " 68.0          0.367879,\n",
       " 'hazard_':       Weibull_estimate\n",
       " 38.0          0.000000\n",
       " 48.0          0.000000\n",
       " 58.0          0.000000\n",
       " 68.0       2685.807405,\n",
       " 'cumulative_hazard_':       Weibull_estimate\n",
       " 38.0               0.0\n",
       " 48.0               0.0\n",
       " 58.0               0.0\n",
       " 68.0               1.0,\n",
       " 'cumulative_density_':       Weibull_estimate\n",
       " 38.0          0.000000\n",
       " 48.0          0.000000\n",
       " 58.0          0.000000\n",
       " 68.0          0.632121,\n",
       " 'density_':       Weibull_estimate\n",
       " 38.0          0.000000\n",
       " 48.0          0.000000\n",
       " 58.0          0.000000\n",
       " 68.0        988.053327,\n",
       " '_event_table':           removed  observed  censored  entrance  at_risk\n",
       " event_at                                                \n",
       " 0.0             0         0         0         4        4\n",
       " 38.0            1         0         1         0        4\n",
       " 48.0            1         0         1         0        3\n",
       " 51.0            1         0         1         0        2\n",
       " 68.0            1         1         0         0        1}"
      ]
     },
     "metadata": {},
     "execution_count": 47
    }
   ],
   "source": [
    "wbf.__dict__"
   ]
  },
  {
   "cell_type": "code",
   "execution_count": 22,
   "metadata": {},
   "outputs": [
    {
     "output_type": "execute_result",
     "data": {
      "text/plain": [
       "['time', 'cost']"
      ]
     },
     "metadata": {},
     "execution_count": 22
    }
   ],
   "source": [
    "list(comp.fm['weathering'].expected_risk_cost()['risk'])"
   ]
  },
  {
   "cell_type": "code",
   "execution_count": 16,
   "metadata": {},
   "outputs": [
    {
     "output_type": "execute_result",
     "data": {
      "text/plain": [
       "                                            time   cost task_active  \\\n",
       "failure_mode            task                                          \n",
       "fire_damage             CAT1/2 replacement    61      0        True   \n",
       "                        inspection            61      0        True   \n",
       "                        risk                  61      0         NaN   \n",
       "fungal decay _ external CAT1/2 replacement    62    777        True   \n",
       "                        CAT3/4 replacement    62      0        True   \n",
       "                        inspection            62     50        True   \n",
       "                        risk                  62   5555         NaN   \n",
       "fungal decay _ internal CAT1/2 replacement    62    777        True   \n",
       "                        CAT3/4 replacement    62      0        True   \n",
       "                        inspection            62     50        True   \n",
       "                        pole_saver_rod        62      0        True   \n",
       "                        risk                  62   5555         NaN   \n",
       "impact                  CAT1/2 replacement    61      0        True   \n",
       "                        inspection            61      0        True   \n",
       "                        risk                  61      0         NaN   \n",
       "lightning               CAT1/2 replacement    61      0        True   \n",
       "                        inspection_1          61      0        True   \n",
       "                        inspection_2          61     50        True   \n",
       "                        risk                  61      0         NaN   \n",
       "termites                CAT1/2 replacement    62    777        True   \n",
       "                        CAT3/4 replacement    62      0        True   \n",
       "                        inspection            62     50        True   \n",
       "                        risk                  62   5555         NaN   \n",
       "                        termite_powder        62      0        True   \n",
       "weathering              CAT1/2 replacement    55   1555        True   \n",
       "                        CAT3/4 replacement    55      0        True   \n",
       "                        inspection            55      0        True   \n",
       "                        risk                  55  11111         NaN   \n",
       "\n",
       "                                            cost_cumulative  fm_active  \n",
       "failure_mode            task                                            \n",
       "fire_damage             CAT1/2 replacement                0       True  \n",
       "                        inspection                        0       True  \n",
       "                        risk                              0       True  \n",
       "fungal decay _ external CAT1/2 replacement             1554       True  \n",
       "                        CAT3/4 replacement                0       True  \n",
       "                        inspection                      409       True  \n",
       "                        risk                          11110       True  \n",
       "fungal decay _ internal CAT1/2 replacement              777       True  \n",
       "                        CAT3/4 replacement                0       True  \n",
       "                        inspection                      403       True  \n",
       "                        pole_saver_rod                    0       True  \n",
       "                        risk                           5555       True  \n",
       "impact                  CAT1/2 replacement                0       True  \n",
       "                        inspection                        0       True  \n",
       "                        risk                              0       True  \n",
       "lightning               CAT1/2 replacement                0       True  \n",
       "                        inspection_1                      0       True  \n",
       "                        inspection_2                    398       True  \n",
       "                        risk                              0       True  \n",
       "termites                CAT1/2 replacement              777       True  \n",
       "                        CAT3/4 replacement                0       True  \n",
       "                        inspection                      414       True  \n",
       "                        risk                           5555       True  \n",
       "                        termite_powder                    0       True  \n",
       "weathering              CAT1/2 replacement             3886       True  \n",
       "                        CAT3/4 replacement                0       True  \n",
       "                        inspection                        0       True  \n",
       "                        risk                          27776       True  "
      ],
      "text/html": "<div>\n<style scoped>\n    .dataframe tbody tr th:only-of-type {\n        vertical-align: middle;\n    }\n\n    .dataframe tbody tr th {\n        vertical-align: top;\n    }\n\n    .dataframe thead th {\n        text-align: right;\n    }\n</style>\n<table border=\"1\" class=\"dataframe\">\n  <thead>\n    <tr style=\"text-align: right;\">\n      <th></th>\n      <th></th>\n      <th>time</th>\n      <th>cost</th>\n      <th>task_active</th>\n      <th>cost_cumulative</th>\n      <th>fm_active</th>\n    </tr>\n    <tr>\n      <th>failure_mode</th>\n      <th>task</th>\n      <th></th>\n      <th></th>\n      <th></th>\n      <th></th>\n      <th></th>\n    </tr>\n  </thead>\n  <tbody>\n    <tr>\n      <th rowspan=\"3\" valign=\"top\">fire_damage</th>\n      <th>CAT1/2 replacement</th>\n      <td>61</td>\n      <td>0</td>\n      <td>True</td>\n      <td>0</td>\n      <td>True</td>\n    </tr>\n    <tr>\n      <th>inspection</th>\n      <td>61</td>\n      <td>0</td>\n      <td>True</td>\n      <td>0</td>\n      <td>True</td>\n    </tr>\n    <tr>\n      <th>risk</th>\n      <td>61</td>\n      <td>0</td>\n      <td>NaN</td>\n      <td>0</td>\n      <td>True</td>\n    </tr>\n    <tr>\n      <th rowspan=\"4\" valign=\"top\">fungal decay _ external</th>\n      <th>CAT1/2 replacement</th>\n      <td>62</td>\n      <td>777</td>\n      <td>True</td>\n      <td>1554</td>\n      <td>True</td>\n    </tr>\n    <tr>\n      <th>CAT3/4 replacement</th>\n      <td>62</td>\n      <td>0</td>\n      <td>True</td>\n      <td>0</td>\n      <td>True</td>\n    </tr>\n    <tr>\n      <th>inspection</th>\n      <td>62</td>\n      <td>50</td>\n      <td>True</td>\n      <td>409</td>\n      <td>True</td>\n    </tr>\n    <tr>\n      <th>risk</th>\n      <td>62</td>\n      <td>5555</td>\n      <td>NaN</td>\n      <td>11110</td>\n      <td>True</td>\n    </tr>\n    <tr>\n      <th rowspan=\"5\" valign=\"top\">fungal decay _ internal</th>\n      <th>CAT1/2 replacement</th>\n      <td>62</td>\n      <td>777</td>\n      <td>True</td>\n      <td>777</td>\n      <td>True</td>\n    </tr>\n    <tr>\n      <th>CAT3/4 replacement</th>\n      <td>62</td>\n      <td>0</td>\n      <td>True</td>\n      <td>0</td>\n      <td>True</td>\n    </tr>\n    <tr>\n      <th>inspection</th>\n      <td>62</td>\n      <td>50</td>\n      <td>True</td>\n      <td>403</td>\n      <td>True</td>\n    </tr>\n    <tr>\n      <th>pole_saver_rod</th>\n      <td>62</td>\n      <td>0</td>\n      <td>True</td>\n      <td>0</td>\n      <td>True</td>\n    </tr>\n    <tr>\n      <th>risk</th>\n      <td>62</td>\n      <td>5555</td>\n      <td>NaN</td>\n      <td>5555</td>\n      <td>True</td>\n    </tr>\n    <tr>\n      <th rowspan=\"3\" valign=\"top\">impact</th>\n      <th>CAT1/2 replacement</th>\n      <td>61</td>\n      <td>0</td>\n      <td>True</td>\n      <td>0</td>\n      <td>True</td>\n    </tr>\n    <tr>\n      <th>inspection</th>\n      <td>61</td>\n      <td>0</td>\n      <td>True</td>\n      <td>0</td>\n      <td>True</td>\n    </tr>\n    <tr>\n      <th>risk</th>\n      <td>61</td>\n      <td>0</td>\n      <td>NaN</td>\n      <td>0</td>\n      <td>True</td>\n    </tr>\n    <tr>\n      <th rowspan=\"4\" valign=\"top\">lightning</th>\n      <th>CAT1/2 replacement</th>\n      <td>61</td>\n      <td>0</td>\n      <td>True</td>\n      <td>0</td>\n      <td>True</td>\n    </tr>\n    <tr>\n      <th>inspection_1</th>\n      <td>61</td>\n      <td>0</td>\n      <td>True</td>\n      <td>0</td>\n      <td>True</td>\n    </tr>\n    <tr>\n      <th>inspection_2</th>\n      <td>61</td>\n      <td>50</td>\n      <td>True</td>\n      <td>398</td>\n      <td>True</td>\n    </tr>\n    <tr>\n      <th>risk</th>\n      <td>61</td>\n      <td>0</td>\n      <td>NaN</td>\n      <td>0</td>\n      <td>True</td>\n    </tr>\n    <tr>\n      <th rowspan=\"5\" valign=\"top\">termites</th>\n      <th>CAT1/2 replacement</th>\n      <td>62</td>\n      <td>777</td>\n      <td>True</td>\n      <td>777</td>\n      <td>True</td>\n    </tr>\n    <tr>\n      <th>CAT3/4 replacement</th>\n      <td>62</td>\n      <td>0</td>\n      <td>True</td>\n      <td>0</td>\n      <td>True</td>\n    </tr>\n    <tr>\n      <th>inspection</th>\n      <td>62</td>\n      <td>50</td>\n      <td>True</td>\n      <td>414</td>\n      <td>True</td>\n    </tr>\n    <tr>\n      <th>risk</th>\n      <td>62</td>\n      <td>5555</td>\n      <td>NaN</td>\n      <td>5555</td>\n      <td>True</td>\n    </tr>\n    <tr>\n      <th>termite_powder</th>\n      <td>62</td>\n      <td>0</td>\n      <td>True</td>\n      <td>0</td>\n      <td>True</td>\n    </tr>\n    <tr>\n      <th rowspan=\"4\" valign=\"top\">weathering</th>\n      <th>CAT1/2 replacement</th>\n      <td>55</td>\n      <td>1555</td>\n      <td>True</td>\n      <td>3886</td>\n      <td>True</td>\n    </tr>\n    <tr>\n      <th>CAT3/4 replacement</th>\n      <td>55</td>\n      <td>0</td>\n      <td>True</td>\n      <td>0</td>\n      <td>True</td>\n    </tr>\n    <tr>\n      <th>inspection</th>\n      <td>55</td>\n      <td>0</td>\n      <td>True</td>\n      <td>0</td>\n      <td>True</td>\n    </tr>\n    <tr>\n      <th>risk</th>\n      <td>55</td>\n      <td>11111</td>\n      <td>NaN</td>\n      <td>27776</td>\n      <td>True</td>\n    </tr>\n  </tbody>\n</table>\n</div>"
     },
     "metadata": {},
     "execution_count": 16
    }
   ],
   "source": [
    "df = comp.expected_risk_cost_df().groupby(by=['failure_mode', 'task']).max()\n",
    "df"
   ]
  },
  {
   "cell_type": "code",
   "execution_count": null,
   "metadata": {},
   "outputs": [],
   "source": [
    "erc = dict()\n",
    "for fm_name, fm in self.fm.items():\n",
    "    erc[fm_name] = fm.expected_risk_cost_df()\n",
    "\n",
    "df = pd.concat(erc)\n",
    "df = (\n",
    "    df.reset_index()\n",
    "    .drop(columns=\"level_1\")\n",
    "    .rename(columns={\"level_0\": \"failure_mode\"})\n",
    ")"
   ]
  },
  {
   "cell_type": "code",
   "execution_count": 14,
   "metadata": {},
   "outputs": [
    {
     "output_type": "execute_result",
     "data": {
      "text/plain": [
       "           task time cost task_active cost_cumulative  fm_active\n",
       "0    inspection    0    0        True               0       True\n",
       "1    inspection    1    0        True               0       True\n",
       "2    inspection    2    0        True               0       True\n",
       "3    inspection    3    0        True               0       True\n",
       "4    inspection    4    0        True               0       True\n",
       "..          ...  ...  ...         ...             ...        ...\n",
       "310        risk   58    0         NaN            5555       True\n",
       "311        risk   59    0         NaN            5555       True\n",
       "312        risk   60    0         NaN            5555       True\n",
       "313        risk   61    0         NaN            5555       True\n",
       "314        risk   62    0         NaN            5555       True\n",
       "\n",
       "[315 rows x 6 columns]"
      ],
      "text/html": "<div>\n<style scoped>\n    .dataframe tbody tr th:only-of-type {\n        vertical-align: middle;\n    }\n\n    .dataframe tbody tr th {\n        vertical-align: top;\n    }\n\n    .dataframe thead th {\n        text-align: right;\n    }\n</style>\n<table border=\"1\" class=\"dataframe\">\n  <thead>\n    <tr style=\"text-align: right;\">\n      <th></th>\n      <th>task</th>\n      <th>time</th>\n      <th>cost</th>\n      <th>task_active</th>\n      <th>cost_cumulative</th>\n      <th>fm_active</th>\n    </tr>\n  </thead>\n  <tbody>\n    <tr>\n      <th>0</th>\n      <td>inspection</td>\n      <td>0</td>\n      <td>0</td>\n      <td>True</td>\n      <td>0</td>\n      <td>True</td>\n    </tr>\n    <tr>\n      <th>1</th>\n      <td>inspection</td>\n      <td>1</td>\n      <td>0</td>\n      <td>True</td>\n      <td>0</td>\n      <td>True</td>\n    </tr>\n    <tr>\n      <th>2</th>\n      <td>inspection</td>\n      <td>2</td>\n      <td>0</td>\n      <td>True</td>\n      <td>0</td>\n      <td>True</td>\n    </tr>\n    <tr>\n      <th>3</th>\n      <td>inspection</td>\n      <td>3</td>\n      <td>0</td>\n      <td>True</td>\n      <td>0</td>\n      <td>True</td>\n    </tr>\n    <tr>\n      <th>4</th>\n      <td>inspection</td>\n      <td>4</td>\n      <td>0</td>\n      <td>True</td>\n      <td>0</td>\n      <td>True</td>\n    </tr>\n    <tr>\n      <th>...</th>\n      <td>...</td>\n      <td>...</td>\n      <td>...</td>\n      <td>...</td>\n      <td>...</td>\n      <td>...</td>\n    </tr>\n    <tr>\n      <th>310</th>\n      <td>risk</td>\n      <td>58</td>\n      <td>0</td>\n      <td>NaN</td>\n      <td>5555</td>\n      <td>True</td>\n    </tr>\n    <tr>\n      <th>311</th>\n      <td>risk</td>\n      <td>59</td>\n      <td>0</td>\n      <td>NaN</td>\n      <td>5555</td>\n      <td>True</td>\n    </tr>\n    <tr>\n      <th>312</th>\n      <td>risk</td>\n      <td>60</td>\n      <td>0</td>\n      <td>NaN</td>\n      <td>5555</td>\n      <td>True</td>\n    </tr>\n    <tr>\n      <th>313</th>\n      <td>risk</td>\n      <td>61</td>\n      <td>0</td>\n      <td>NaN</td>\n      <td>5555</td>\n      <td>True</td>\n    </tr>\n    <tr>\n      <th>314</th>\n      <td>risk</td>\n      <td>62</td>\n      <td>0</td>\n      <td>NaN</td>\n      <td>5555</td>\n      <td>True</td>\n    </tr>\n  </tbody>\n</table>\n<p>315 rows × 6 columns</p>\n</div>"
     },
     "metadata": {},
     "execution_count": 14
    }
   ],
   "source": [
    "comp.fm['termites'].expected_risk_cost_df()"
   ]
  },
  {
   "cell_type": "code",
   "execution_count": 13,
   "metadata": {},
   "outputs": [
    {
     "output_type": "execute_result",
     "data": {
      "text/plain": [
       "62"
      ]
     },
     "metadata": {},
     "execution_count": 13
    }
   ],
   "source": [
    "df['time'].max()"
   ]
  },
  {
   "cell_type": "code",
   "execution_count": 9,
   "metadata": {},
   "outputs": [],
   "source": [
    "%%timeit\n",
    "\n",
    "comp.expected_inspection_interval(t_min=1, t_max=10)"
   ]
  },
  {
   "cell_type": "code",
   "execution_count": 7,
   "metadata": {},
   "outputs": [],
   "source": [
    "pof_sim.cancel_sim()\n",
    "pof_sim = copy.copy(comp)\n",
    "pof_sim.next_sim(t_end=200)"
   ]
  },
  {
   "cell_type": "code",
   "execution_count": 26,
   "metadata": {},
   "outputs": [],
   "source": [
    "comp.reset()"
   ]
  },
  {
   "cell_type": "code",
   "execution_count": 30,
   "metadata": {},
   "outputs": [
    {
     "output_type": "execute_result",
     "data": {
      "text/plain": [
       "{}"
      ]
     },
     "metadata": {},
     "execution_count": 30
    }
   ],
   "source": [
    "pof_sim.fm['random'].timeline"
   ]
  },
  {
   "cell_type": "code",
   "execution_count": 13,
   "metadata": {},
   "outputs": [
    {
     "output_type": "execute_result",
     "data": {
      "text/plain": "False"
     },
     "metadata": {},
     "execution_count": 13
    }
   ],
   "source": [
    "task.active"
   ]
  }
 ]
}