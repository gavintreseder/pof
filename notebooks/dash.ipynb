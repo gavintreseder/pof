{
 "metadata": {
  "language_info": {
   "codemirror_mode": {
    "name": "ipython",
    "version": 3
   },
   "file_extension": ".py",
   "mimetype": "text/x-python",
   "name": "python",
   "nbconvert_exporter": "python",
   "pygments_lexer": "ipython3",
   "version": "3.8.3-final"
  },
  "orig_nbformat": 2,
  "kernelspec": {
   "name": "python_defaultSpec_1597734095078",
   "display_name": "Python 3.8.3 64-bit ('base': conda)"
  }
 },
 "nbformat": 4,
 "nbformat_minor": 2,
 "cells": [
  {
   "cell_type": "code",
   "execution_count": 1,
   "metadata": {},
   "outputs": [],
   "source": [
    "import sys, os\n",
    "sys.path.append(os.path.dirname(os.getcwd()))\n",
    "\n",
    "import dash\n",
    "import dash_bootstrap_components as dbc\n",
    "import dash_core_components as dcc\n",
    "import dash_html_components as html\n",
    "from dash.dependencies import Input, Output, State\n",
    "import plotly.express as px\n",
    "from jupyter_dash import JupyterDash\n",
    "import pandas as pd\n",
    "\n",
    "import copy\n",
    "\n",
    "from pof.failure_mode import FailureMode\n",
    "from interface.layouts import *"
   ]
  },
  {
   "cell_type": "code",
   "execution_count": 2,
   "metadata": {},
   "outputs": [],
   "source": [
    "fm = FailureMode().set_default()"
   ]
  },
  {
   "cell_type": "code",
   "execution_count": 3,
   "metadata": {},
   "outputs": [],
   "source": [
    "# Failure Mode Tests\n",
    "mfml = make_failure_mode_layout(fm, prefix=\"fm\")\n",
    "\n",
    "# Task Tests\n",
    "task = fm.tasks['ocr']\n",
    "mtl = make_task_layout(task)\n",
    "\n",
    "mtf = make_task_form(task, prefix=\"\")\n",
    "\n",
    "# Trigger Tests\n",
    "triggers= fm.tasks['ocr'].triggers()\n",
    "mttl = make_task_trigger_layout(triggers)\n",
    "\n",
    "condition_triggers = fm.tasks['ocr'].triggers()['condition']\n",
    "mctf = make_condition_trigger_form(condition_triggers)\n",
    "\n",
    "\n",
    "# Impact Tests\n",
    "\n",
    "impacts= fm.tasks['ocr'].impacts()\n",
    "mtil = make_task_impact_layout(impacts)\n",
    "\n",
    "state_impacts = fm.tasks['ocr'].impacts()['state']\n",
    "msil = make_state_impact_layout(state_impacts)\n",
    "\n",
    "condition_impacts = fm.tasks['ocr'].impacts()['condition']\n",
    "mcil = make_condition_impact_layout(condition_impacts)\n",
    "\n",
    "condition_impact = fm.tasks['ocr'].impacts()['condition']['wall_thickness']\n",
    "mtif = make_condition_impact_form(condition_impact)\n",
    "\n",
    "# Distribution Tests\n",
    "failure_dist = fm.failure_dist\n",
    "mdl = make_dist_layout(failure_dist)"
   ]
  },
  {
   "cell_type": "code",
   "execution_count": 9,
   "metadata": {
    "tags": []
   },
   "outputs": [
    {
     "output_type": "display_data",
     "data": {
      "text/plain": "<IPython.lib.display.IFrame at 0x1f44b223d60>",
      "text/html": "\n        <iframe\n            width=\"100%\"\n            height=\"650\"\n            src=\"http://127.0.0.1:8050/\"\n            frameborder=\"0\"\n            allowfullscreen\n        ></iframe>\n        "
     },
     "metadata": {}
    }
   ],
   "source": [
    "\n",
    "# Build App\n",
    "external_stylesheets = [dbc.themes.BOOTSTRAP]\n",
    "app = JupyterDash(__name__, external_stylesheets=external_stylesheets)\n",
    "\n",
    "# Layout\n",
    "app.layout = html.Div([\n",
    "    html.Div(children='Tetst Output', id='test_output'),\n",
    "    dcc.Graph(id=\"maintenance_strategy\"),\n",
    "    mfml\n",
    "])\n",
    "\n",
    "collapses = []\n",
    "for fm_name, fm in {'fm': fm}.items():\n",
    "    collapses = collapses + [fm_name]\n",
    "    for task in fm.tasks:\n",
    "        collapses = collapses + [fm_name + '-task-' + task]\n",
    "\n",
    "@app.callback(\n",
    "    #Output(\"test_output\", \"children\"),\n",
    "    [Output(f\"{prefix}-collapse\", \"is_open\") for prefix in collapses],\n",
    "    [Input(f\"{prefix}-collapse-button\", \"n_clicks\") for prefix in collapses],\n",
    "    [State(f\"{prefix}-collapse\", \"is_open\") for prefix in collapses],\n",
    ")\n",
    "def toggle_collapses(*args):\n",
    "    ctx = dash.callback_context\n",
    "\n",
    "    state_id = \"\"\n",
    "    collapse_id = ctx.triggered[0]['prop_id'].split('.')[0].replace('-collapse-button','')\n",
    "    if collapse_id in collapses:\n",
    "\n",
    "        state_id = collapse_id + '-collapse.is_open'\n",
    "        ctx.states[state_id] = not ctx.states[state_id]\n",
    "\n",
    "    is_open = tuple(ctx.states.values())\n",
    "\n",
    "    return is_open\n",
    "\n",
    "ms_fig_update = fm.get_dash_ids()\n",
    "ms_fig_update = [\"fm-\" + msfu for msfu in ms_fig_update]\n",
    "\n",
    "@app.callback(\n",
    "    #Output(\"maintenance_strategy\", \"figure\"), \n",
    "    Output(\"test_output\", \"children\"),\n",
    "    [Input(dash_id,\"value\") for dash_id in ms_fig_update]\n",
    ")\n",
    "def update_maintenance_strategy(*args):\n",
    "\n",
    "    # Check the parameters that changed\n",
    "    ctx = dash.callback_context\n",
    "    dash_id = ctx.triggered[0]['prop_id'].split('.')[0]\n",
    "    value = ctx.triggered[0]['value']\n",
    "\n",
    "    #Temp\n",
    "    dash_id = dash_id.replace('fm-', \"\")\n",
    "\n",
    "    # Update the model\n",
    "    #fm_local = copy.deepcopy(fm)\n",
    "    fm_local =fm\n",
    "    fm_local.dash_update(dash_id, value)\n",
    "\n",
    "    fm_local.mc_timeline(t_end=200, n_iterations=100)\n",
    "    df = fm_local.expected_cost_df()\n",
    "\n",
    "    fig = px.area(\n",
    "        df,\n",
    "        x=\"time\",\n",
    "        y=\"cost_cumulative\",\n",
    "        color=\"task\",\n",
    "        title=\"Maintenance Strategy Costs\",\n",
    "    )\n",
    "\n",
    "    #fig.update_yaxes(range=[0, graph_y_limit])\n",
    "\n",
    "    return fig\n",
    "\n",
    "#Execute\n",
    "app.run_server(mode='inline', debug=True)"
   ]
  },
  {
   "cell_type": "code",
   "execution_count": 5,
   "metadata": {},
   "outputs": [
    {
     "output_type": "execute_result",
     "data": {
      "text/plain": "[<Input `fm-failure_dist-alpha.value`>,\n <Input `fm-failure_dist-beta.value`>,\n <Input `fm-failure_dist-gamma.value`>]"
     },
     "metadata": {},
     "execution_count": 5
    }
   ],
   "source": [
    "\n",
    "[Input(dash_id,\"value\") for dash_id in ms_fig_update]"
   ]
  },
  {
   "cell_type": "code",
   "execution_count": 6,
   "metadata": {
    "tags": []
   },
   "outputs": [
    {
     "output_type": "execute_result",
     "data": {
      "text/plain": "True"
     },
     "metadata": {},
     "execution_count": 6
    }
   ],
   "source": [
    "fm.dash_update(\"failure_dist-alpha\", 3)"
   ]
  },
  {
   "cell_type": "code",
   "execution_count": 7,
   "metadata": {},
   "outputs": [
    {
     "output_type": "execute_result",
     "data": {
      "text/plain": "3"
     },
     "metadata": {},
     "execution_count": 7
    }
   ],
   "source": [
    "fm.failure_dist.alpha"
   ]
  },
  {
   "cell_type": "code",
   "execution_count": 8,
   "metadata": {
    "tags": []
   },
   "outputs": [
    {
     "output_type": "stream",
     "name": "stdout",
     "text": "alpha\n"
    },
    {
     "output_type": "execute_result",
     "data": {
      "text/plain": "True"
     },
     "metadata": {},
     "execution_count": 8
    }
   ],
   "source": [
    "fm.failure_dist.dash_update('alpha', 30)"
   ]
  },
  {
   "cell_type": "code",
   "execution_count": 25,
   "metadata": {},
   "outputs": [
    {
     "output_type": "execute_result",
     "data": {
      "text/plain": "'alpha'"
     },
     "metadata": {},
     "execution_count": 25
    }
   ],
   "source": [
    "dash_id"
   ]
  },
  {
   "cell_type": "code",
   "execution_count": null,
   "metadata": {},
   "outputs": [],
   "source": []
  }
 ]
}