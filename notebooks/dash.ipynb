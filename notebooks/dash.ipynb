{
 "metadata": {
  "language_info": {
   "codemirror_mode": {
    "name": "ipython",
    "version": 3
   },
   "file_extension": ".py",
   "mimetype": "text/x-python",
   "name": "python",
   "nbconvert_exporter": "python",
   "pygments_lexer": "ipython3",
   "version": "3.8.3-final"
  },
  "orig_nbformat": 2,
  "kernelspec": {
   "name": "python_defaultSpec_1598162301542",
   "display_name": "Python 3.8.3 64-bit ('base': conda)"
  }
 },
 "nbformat": 4,
 "nbformat_minor": 2,
 "cells": [
  {
   "cell_type": "code",
   "execution_count": 1,
   "metadata": {},
   "outputs": [],
   "source": [
    "import sys, os\n",
    "sys.path.append(os.path.dirname(os.getcwd()))\n",
    "\n",
    "import dash\n",
    "import dash_bootstrap_components as dbc\n",
    "import dash_core_components as dcc\n",
    "import dash_html_components as html\n",
    "from dash.dependencies import Input, Output, State\n",
    "import plotly.express as px\n",
    "from jupyter_dash import JupyterDash\n",
    "import pandas as pd\n",
    "\n",
    "import copy\n",
    "\n",
    "from pof.failure_mode import FailureMode\n",
    "from interface.layouts import *"
   ]
  },
  {
   "cell_type": "code",
   "execution_count": 2,
   "metadata": {},
   "outputs": [],
   "source": [
    "fm = FailureMode().set_demo()"
   ]
  },
  {
   "cell_type": "code",
   "execution_count": 3,
   "metadata": {},
   "outputs": [
    {
     "output_type": "execute_result",
     "data": {
      "text/plain": "'\\n# Task Tests\\ntask = fm.tasks[\\'ocr\\']\\nmtl = make_task_layout(task)\\n\\nmtf = make_task_form(task, prefix=\"\")\\n\\n# Trigger Tests\\ntriggers= fm.tasks[\\'ocr\\'].triggers\\nmttl = make_task_trigger_layout(triggers)\\n\\ncondition_triggers = fm.tasks[\\'ocr\\'].triggers[\\'condition\\']\\n#mctf = make_condition_trigger_form(condition_triggers)\\n\\n\\n# Impact Tests\\n\\nimpacts= fm.tasks[\\'ocr\\'].impacts\\nmtil = make_task_impact_layout(impacts)\\n\\nstate_impacts = fm.tasks[\\'ocr\\'].impacts[\\'state\\']\\nmsil = make_state_impact_layout(state_impacts)\\n\\ncondition_impacts = fm.tasks[\\'ocr\\'].impacts[\\'condition\\']\\nmcil = make_condition_impact_layout(condition_impacts)\\n\\ncondition_impact = fm.tasks[\\'ocr\\'].impacts[\\'condition\\'][\\'wall_thickness\\']\\nmtif = make_condition_impact_form(condition_impact)\\n\\n# Distribution Tests\\nfailure_dist = fm.failure_dist\\nmdl = make_dist_layout(failure_dist)'"
     },
     "metadata": {},
     "execution_count": 3
    }
   ],
   "source": [
    "# Component Tests\n",
    "\n",
    "mcl = make_component_layout(comp, prefix='comp-')\n",
    "\n",
    "# Failure Mode Tests\n",
    "mfml = make_failure_mode_layout(fm, prefix=\"fm-\")\n",
    "\"\"\"\n",
    "# Task Tests\n",
    "task = fm.tasks['ocr']\n",
    "mtl = make_task_layout(task)\n",
    "\n",
    "mtf = make_task_form(task, prefix=\"\")\n",
    "\n",
    "# Trigger Tests\n",
    "triggers= fm.tasks['ocr'].triggers\n",
    "mttl = make_task_trigger_layout(triggers)\n",
    "\n",
    "condition_triggers = fm.tasks['ocr'].triggers['condition']\n",
    "#mctf = make_condition_trigger_form(condition_triggers)\n",
    "\n",
    "\n",
    "# Impact Tests\n",
    "\n",
    "impacts= fm.tasks['ocr'].impacts\n",
    "mtil = make_task_impact_layout(impacts)\n",
    "\n",
    "state_impacts = fm.tasks['ocr'].impacts['state']\n",
    "msil = make_state_impact_layout(state_impacts)\n",
    "\n",
    "condition_impacts = fm.tasks['ocr'].impacts['condition']\n",
    "mcil = make_condition_impact_layout(condition_impacts)\n",
    "\n",
    "condition_impact = fm.tasks['ocr'].impacts['condition']['wall_thickness']\n",
    "mtif = make_condition_impact_form(condition_impact)\n",
    "\n",
    "# Distribution Tests\n",
    "failure_dist = fm.failure_dist\n",
    "mdl = make_dist_layout(failure_dist)\"\"\""
   ]
  },
  {
   "cell_type": "code",
   "execution_count": 4,
   "metadata": {
    "tags": []
   },
   "outputs": [
    {
     "output_type": "display_data",
     "data": {
      "text/plain": "<IPython.lib.display.IFrame at 0x1a53cb52820>",
      "text/html": "\n        <iframe\n            width=\"100%\"\n            height=\"650\"\n            src=\"http://127.0.0.1:8050/\"\n            frameborder=\"0\"\n            allowfullscreen\n        ></iframe>\n        "
     },
     "metadata": {}
    }
   ],
   "source": [
    "\n",
    "# Build App\n",
    "external_stylesheets = [dbc.themes.BOOTSTRAP]\n",
    "app = JupyterDash(__name__, external_stylesheets=external_stylesheets)\n",
    "\n",
    "# Layout\n",
    "app.layout = html.Div([\n",
    "    html.Div(children='Test Output', id='test_output'),\n",
    "    dcc.Graph(id=\"maintenance_strategy\"),\n",
    "    mfml,\n",
    "])\n",
    "\n",
    "sep= '-'\n",
    "collapse_ids = []\n",
    "for fm_name, fm in {'fm': fm}.items():\n",
    "    collapse_ids = collapse_ids + [fm_name]\n",
    "    for task in fm.tasks:\n",
    "        collapse_ids = collapse_ids + [fm_name + sep + 'task' + sep + task]\n",
    "\n",
    "@app.callback(\n",
    "    #Output(\"test_output\", \"children\"),\n",
    "    [Output(f\"{prefix}-collapse\", \"is_open\") for prefix in collapse_ids],\n",
    "    [Input(f\"{prefix}-collapse-button\", \"n_clicks\") for prefix in collapse_ids],\n",
    "    [State(f\"{prefix}-collapse\", \"is_open\") for prefix in collapse_ids],\n",
    ")\n",
    "def toggle_collapses(*args):\n",
    "    ctx = dash.callback_context\n",
    "\n",
    "    state_id = \"\"\n",
    "    collapse_id = ctx.triggered[0]['prop_id'].split('.')[0].replace('-collapse-button','')\n",
    "    if collapse_id in collapse_ids: #TODO change to is not None\n",
    "\n",
    "        state_id = collapse_id + '-collapse.is_open'\n",
    "        ctx.states[state_id] = not ctx.states[state_id]\n",
    "\n",
    "    is_open = tuple(ctx.states.values())\n",
    "\n",
    "    return is_open\n",
    "\n",
    "ms_fig_update = fm.get_dash_ids(prefix ='fm-')\n",
    "\n",
    "@app.callback(\n",
    "    Output(\"maintenance_strategy\", \"figure\"), \n",
    "    [Input(dash_id,\"checked\") if 'active' in dash_id else Input(dash_id,\"value\") for dash_id in ms_fig_update]\n",
    ")\n",
    "def update_maintenance_strategy(*args):\n",
    "\n",
    "    # Check the parameters that changed\n",
    "    ctx = dash.callback_context\n",
    "    dash_id = ctx.triggered[0]['prop_id'].split('.')[0]\n",
    "    value = ctx.triggered[0]['value']\n",
    "\n",
    "    #Temp utnil mutliple failure modes are set up\n",
    "    dash_id = dash_id.replace('fm-', \"\")\n",
    "\n",
    "    # Update the model\n",
    "    fm_local = copy.deepcopy(fm)\n",
    "    fm_local.dash_update(dash_id, value)\n",
    "\n",
    "    fm_local.mc_timeline(t_end=200, n_iterations=100)\n",
    "    df = fm_local.expected_cost_df()\n",
    "\n",
    "    fig = px.area(\n",
    "        df,\n",
    "        x=\"time\",\n",
    "        y=\"cost_cumulative\",\n",
    "        color=\"task\",\n",
    "        title=\"Maintenance Strategy Costs\",\n",
    "    )\n",
    "\n",
    "    #fig.update_yaxes(range=[0, graph_y_limit])\n",
    "\n",
    "    return fig\n",
    "\n",
    "@app.callback(\n",
    "    Output(\"test_output\", \"children\"),\n",
    "    [Input('fm-active', 'checked')]\n",
    ")\n",
    "def test(task_value):\n",
    "    # Check the parameters that changed\n",
    "    ctx = dash.callback_context\n",
    "    dash_id = ctx.triggered[0]['prop_id'].split('.')[0]\n",
    "    value = ctx.triggered[0]['value']\n",
    "\n",
    "    return \"value\" + str(value)\n",
    "\n",
    "#Execute\n",
    "app.run_server(mode='inline', debug=True)"
   ]
  },
  {
   "cell_type": "code",
   "execution_count": null,
   "metadata": {},
   "outputs": [],
   "source": []
  },
  {
   "cell_type": "code",
   "execution_count": 8,
   "metadata": {},
   "outputs": [
    {
     "output_type": "execute_result",
     "data": {
      "text/plain": "''"
     },
     "metadata": {},
     "execution_count": 8
    }
   ],
   "source": [
    "'----'.split(sep)[0]"
   ]
  },
  {
   "cell_type": "code",
   "execution_count": 6,
   "metadata": {
    "tags": []
   },
   "outputs": [],
   "source": [
    "fm.dash_update('task-inspection-active', False)\n",
    "#fm.dash_update('failure_dist-alpha', 34)\n",
    "#fm.dash_update('active', False)"
   ]
  },
  {
   "cell_type": "code",
   "execution_count": 7,
   "metadata": {
    "tags": []
   },
   "outputs": [],
   "source": [
    "dash_id = 'task-inspection-active'\n",
    "value = True\n",
    "\n",
    "try:\n",
    "    \n",
    "    next_id = dash_id.split(sep)[0]\n",
    "\n",
    "    # Check if the next component is a param of \n",
    "    if next_id in ['active']:\n",
    "\n",
    "        fm.active = value\n",
    "\n",
    "    elif next_id == 'failure_dist':\n",
    "\n",
    "        dash_id = dash_id.replace(next_id + sep, \"\")\n",
    "        fm.failure_dist.dash_update(dash_id, value)\n",
    "\n",
    "    elif next_id == 'task':\n",
    "        dash_id = dash_id.replace(next_id + sep, \"\")\n",
    "        task_name= dash_id.split(sep)[0]\n",
    "        dash_id = dash_id.replace(task_name + sep, \"\")\n",
    "        fm.tasks[task_name].dash_update(dash_id, value)\n",
    "\n",
    "except:\n",
    "\n",
    "    print(\"Invalid Dash ID %s\" %(dash_id))"
   ]
  },
  {
   "cell_type": "code",
   "execution_count": 8,
   "metadata": {
    "tags": []
   },
   "outputs": [
    {
     "output_type": "execute_result",
     "data": {
      "text/plain": "'inspection-active'"
     },
     "metadata": {},
     "execution_count": 8
    }
   ],
   "source": [
    "dash_id = 'task-inspection-active'\n",
    "dash_id = dash_id.replace(next_id + sep, \"\")\n",
    "task_name= dash_id.split(sep)[0]\n",
    "dash_id = dash_id.replace(next_id + sep, \"\")\n",
    "dash_id"
   ]
  },
  {
   "cell_type": "code",
   "execution_count": 13,
   "metadata": {},
   "outputs": [
    {
     "output_type": "execute_result",
     "data": {
      "text/plain": "False"
     },
     "metadata": {},
     "execution_count": 13
    }
   ],
   "source": [
    "task.active"
   ]
  },
  {
   "cell_type": "code",
   "execution_count": 12,
   "metadata": {},
   "outputs": [],
   "source": [
    "fm.tasks['inspection'].__dict__['active'] = False"
   ]
  },
  {
   "cell_type": "code",
   "execution_count": 11,
   "metadata": {
    "tags": []
   },
   "outputs": [
    {
     "output_type": "execute_result",
     "data": {
      "text/plain": "{'name': 'unknown',\n 'activity': 'inspection',\n 'trigger': 'time',\n 'active': True,\n 'trigger_comp': '1.1.2',\n '_package': NotImplemented,\n '_impacts_parent': NotImplemented,\n '_impacts_children': False,\n 'cost': 50,\n 'labour': 'trade',\n 'spares': 'pole',\n 'equipment': 'ewp',\n 'consequence': None,\n 'p_effective': 0.91,\n 'triggers': {'condition': {'wall_thickness': {'lower': 0, 'upper': 90}},\n  'state': {'initiation': True}},\n 'impacts': {'condition': {}, 'state': {'detection': True}},\n 'component_reset': False,\n 'state': 'up',\n 't_completion': [5,\n  10,\n  15,\n  20,\n  25,\n  30,\n  35,\n  40,\n  45,\n  50,\n  55,\n  60,\n  65,\n  70,\n  75,\n  80,\n  85,\n  90,\n  95,\n  100,\n  105,\n  110,\n  115,\n  120,\n  125,\n  130,\n  135,\n  140,\n  145,\n  150,\n  155,\n  160,\n  165,\n  170,\n  175,\n  180,\n  185,\n  190,\n  195,\n  200,\n  5,\n  10,\n  15,\n  20,\n  25,\n  30,\n  35,\n  40,\n  45,\n  50,\n  55,\n  60,\n  65,\n  70,\n  75,\n  80,\n  85,\n  90,\n  95,\n  100,\n  105,\n  110,\n  115,\n  120,\n  125,\n  130,\n  135,\n  140,\n  145,\n  150,\n  155,\n  160,\n  165,\n  170,\n  175,\n  180,\n  185,\n  190,\n  195,\n  200,\n  5,\n  10,\n  15,\n  20,\n  25,\n  30,\n  35,\n  40,\n  45,\n  50,\n  55,\n  60,\n  65,\n  70,\n  75,\n  80,\n  85,\n  90,\n  95,\n  100,\n  105,\n  110,\n  115,\n  120,\n  125,\n  130,\n  135,\n  140,\n  145,\n  150,\n  155,\n  160,\n  165,\n  170,\n  175,\n  180,\n  185,\n  190,\n  195,\n  200,\n  5,\n  10,\n  15,\n  20,\n  25,\n  30,\n  35,\n  40,\n  45,\n  50,\n  55,\n  60,\n  65,\n  70,\n  75,\n  80,\n  85,\n  90,\n  95,\n  100,\n  105,\n  110,\n  115,\n  120,\n  125,\n  130,\n  135,\n  140,\n  145,\n  150,\n  155,\n  160,\n  165,\n  170,\n  175,\n  180,\n  185,\n  190,\n  195,\n  200,\n  5,\n  10,\n  15,\n  20,\n  25,\n  30,\n  35,\n  40,\n  45,\n  50,\n  55,\n  60,\n  65,\n  70,\n  75,\n  80,\n  85,\n  90,\n  95,\n  100,\n  105,\n  110,\n  115,\n  120,\n  125,\n  130,\n  135,\n  140,\n  145,\n  150,\n  155,\n  160,\n  165,\n  170,\n  175,\n  180,\n  185,\n  190,\n  195,\n  200,\n  5,\n  10,\n  15,\n  20,\n  25,\n  30,\n  35,\n  40,\n  45,\n  50,\n  55,\n  60,\n  65,\n  70,\n  75,\n  80,\n  85,\n  90,\n  95,\n  100,\n  105,\n  110,\n  115,\n  120,\n  125,\n  130,\n  135,\n  140,\n  145,\n  150,\n  155,\n  160,\n  165,\n  170,\n  175,\n  180,\n  185,\n  190,\n  195,\n  200,\n  5,\n  10,\n  15,\n  20,\n  25,\n  30,\n  35,\n  40,\n  45,\n  50,\n  55,\n  60,\n  65,\n  70,\n  75,\n  80,\n  85,\n  90,\n  95,\n  100,\n  105,\n  110,\n  115,\n  120,\n  125,\n  130,\n  135,\n  140,\n  145,\n  150,\n  155,\n  160,\n  165,\n  170,\n  175,\n  180,\n  185,\n  190,\n  195,\n  200,\n  5,\n  10,\n  15,\n  20,\n  25,\n  30,\n  35,\n  40,\n  45,\n  50,\n  55,\n  60,\n  65,\n  70,\n  75,\n  80,\n  85,\n  90,\n  95,\n  100,\n  105,\n  110,\n  115,\n  120,\n  125,\n  130,\n  135,\n  140,\n  145,\n  150,\n  155,\n  160,\n  165,\n  170,\n  175,\n  180,\n  185,\n  190,\n  195,\n  200,\n  5,\n  10,\n  15,\n  20,\n  25,\n  30,\n  35,\n  40,\n  45,\n  50,\n  55,\n  60,\n  65,\n  70,\n  75,\n  80,\n  85,\n  90,\n  95,\n  100,\n  105,\n  110,\n  115,\n  120,\n  125,\n  130,\n  135,\n  140,\n  145,\n  150,\n  155,\n  160,\n  165,\n  170,\n  175,\n  180,\n  185,\n  190,\n  195,\n  200,\n  5,\n  10,\n  15,\n  20,\n  25,\n  30,\n  35,\n  40,\n  45,\n  50,\n  55,\n  60,\n  65,\n  70,\n  75,\n  80,\n  85,\n  90,\n  95,\n  100,\n  105,\n  110,\n  115,\n  120,\n  125,\n  130,\n  135,\n  140,\n  145,\n  150,\n  155,\n  160,\n  165,\n  170,\n  175,\n  180,\n  185,\n  190,\n  195,\n  200,\n  5,\n  10,\n  15,\n  20,\n  25,\n  30,\n  35,\n  40,\n  45,\n  50,\n  55,\n  60,\n  65,\n  70,\n  75,\n  80,\n  85,\n  90,\n  95,\n  100,\n  105,\n  110,\n  115,\n  120,\n  125,\n  130,\n  135,\n  140,\n  145,\n  150,\n  155,\n  160,\n  165,\n  170,\n  175,\n  180,\n  185,\n  190,\n  195,\n  200,\n  5,\n  10,\n  15,\n  20,\n  25,\n  30,\n  35,\n  40,\n  45,\n  50,\n  55,\n  60,\n  65,\n  70,\n  75,\n  80,\n  85,\n  90,\n  95,\n  100,\n  105,\n  110,\n  115,\n  120,\n  125,\n  130,\n  135,\n  140,\n  145,\n  150,\n  155,\n  160,\n  165,\n  170,\n  175,\n  180,\n  185,\n  190,\n  195,\n  200,\n  5,\n  10,\n  15,\n  20,\n  25,\n  30,\n  35,\n  40,\n  45,\n  50,\n  55,\n  60,\n  65,\n  70,\n  75,\n  80,\n  85,\n  90,\n  95,\n  100,\n  105,\n  110,\n  115,\n  120,\n  125,\n  130,\n  135,\n  140,\n  145,\n  150,\n  155,\n  160,\n  165,\n  170,\n  175,\n  180,\n  185,\n  190,\n  195,\n  200,\n  5,\n  10,\n  15,\n  20,\n  25,\n  30,\n  35,\n  40,\n  45,\n  50,\n  55,\n  60,\n  65,\n  70,\n  75,\n  80,\n  85,\n  90,\n  95,\n  100,\n  105,\n  110,\n  115,\n  120,\n  125,\n  130,\n  135,\n  140,\n  145,\n  150,\n  155,\n  160,\n  165,\n  170,\n  175,\n  180,\n  185,\n  190,\n  195,\n  200,\n  5,\n  10,\n  15,\n  20,\n  25,\n  30,\n  35,\n  40,\n  45,\n  50,\n  55,\n  60,\n  65,\n  70,\n  75,\n  80,\n  85,\n  90,\n  95,\n  100,\n  105,\n  110,\n  115,\n  120,\n  125,\n  130,\n  135,\n  140,\n  145,\n  150,\n  155,\n  160,\n  165,\n  170,\n  175,\n  180,\n  185,\n  190,\n  195,\n  200,\n  5,\n  10,\n  15,\n  20,\n  25,\n  30,\n  35,\n  40,\n  45,\n  50,\n  55,\n  60,\n  65,\n  70,\n  75,\n  80,\n  85,\n  90,\n  95,\n  100,\n  105,\n  110,\n  115,\n  120,\n  125,\n  130,\n  135,\n  140,\n  145,\n  150,\n  155,\n  160,\n  165,\n  170,\n  175,\n  180,\n  185,\n  190,\n  195,\n  200,\n  5,\n  10,\n  15,\n  20,\n  25,\n  30,\n  35,\n  40,\n  45,\n  50,\n  55,\n  60,\n  65,\n  70,\n  75,\n  80,\n  85,\n  90,\n  95,\n  100,\n  105,\n  110,\n  115,\n  120,\n  125,\n  130,\n  135,\n  140,\n  145,\n  150,\n  155,\n  160,\n  165,\n  170,\n  175,\n  180,\n  185,\n  190,\n  195,\n  200,\n  5,\n  10,\n  15,\n  20,\n  25,\n  30,\n  35,\n  40,\n  45,\n  50,\n  55,\n  60,\n  65,\n  70,\n  75,\n  80,\n  85,\n  90,\n  95,\n  100,\n  105,\n  110,\n  115,\n  120,\n  125,\n  130,\n  135,\n  140,\n  145,\n  150,\n  155,\n  160,\n  165,\n  170,\n  175,\n  180,\n  185,\n  190,\n  195,\n  200,\n  5,\n  10,\n  15,\n  20,\n  25,\n  30,\n  35,\n  40,\n  45,\n  50,\n  55,\n  60,\n  65,\n  70,\n  75,\n  80,\n  85,\n  90,\n  95,\n  100,\n  105,\n  110,\n  115,\n  120,\n  125,\n  130,\n  135,\n  140,\n  145,\n  150,\n  155,\n  160,\n  165,\n  170,\n  175,\n  180,\n  185,\n  190,\n  195,\n  200,\n  5,\n  10,\n  15,\n  20,\n  25,\n  30,\n  35,\n  40,\n  45,\n  50,\n  55,\n  60,\n  65,\n  70,\n  75,\n  80,\n  85,\n  90,\n  95,\n  100,\n  105,\n  110,\n  115,\n  120,\n  125,\n  130,\n  135,\n  140,\n  145,\n  150,\n  155,\n  160,\n  165,\n  170,\n  175,\n  180,\n  185,\n  190,\n  195,\n  200,\n  5,\n  10,\n  15,\n  20,\n  25,\n  30,\n  35,\n  40,\n  45,\n  50,\n  55,\n  60,\n  65,\n  70,\n  75,\n  80,\n  85,\n  90,\n  95,\n  100,\n  105,\n  110,\n  115,\n  120,\n  125,\n  130,\n  135,\n  140,\n  145,\n  150,\n  155,\n  160,\n  165,\n  170,\n  175,\n  180,\n  185,\n  190,\n  195,\n  200,\n  5,\n  10,\n  15,\n  20,\n  25,\n  30,\n  35,\n  40,\n  45,\n  50,\n  55,\n  60,\n  65,\n  70,\n  75,\n  80,\n  85,\n  90,\n  95,\n  100,\n  105,\n  110,\n  115,\n  120,\n  125,\n  130,\n  135,\n  140,\n  145,\n  150,\n  155,\n  160,\n  165,\n  170,\n  175,\n  180,\n  185,\n  190,\n  195,\n  200,\n  5,\n  10,\n  15,\n  20,\n  25,\n  30,\n  35,\n  40,\n  45,\n  50,\n  55,\n  60,\n  65,\n  70,\n  75,\n  80,\n  85,\n  90,\n  95,\n  100,\n  105,\n  110,\n  115,\n  120,\n  125,\n  130,\n  135,\n  140,\n  145,\n  150,\n  155,\n  160,\n  165,\n  170,\n  175,\n  180,\n  185,\n  190,\n  195,\n  200,\n  5,\n  10,\n  15,\n  20,\n  25,\n  30,\n  35,\n  40,\n  45,\n  50,\n  55,\n  60,\n  65,\n  70,\n  75,\n  80,\n  85,\n  90,\n  95,\n  100,\n  105,\n  110,\n  115,\n  120,\n  125,\n  130,\n  135,\n  140,\n  145,\n  150,\n  155,\n  160,\n  165,\n  170,\n  175,\n  180,\n  185,\n  190,\n  195,\n  200,\n  5,\n  10,\n  15,\n  20,\n  25,\n  30,\n  35,\n  40,\n  45,\n  50,\n  55,\n  60,\n  65,\n  70,\n  75,\n  80,\n  85,\n  90,\n  95,\n  100,\n  105,\n  110,\n  115,\n  120,\n  125,\n  130,\n  135,\n  140,\n  145,\n  150,\n  155,\n  160,\n  165,\n  170,\n  175,\n  180,\n  185,\n  190,\n  195,\n  200,\n  ...],\n '_timeline': NotImplemented,\n '_count_checked': NotImplemented,\n '_count_triggered': NotImplemented,\n '_count_completed': 0,\n 't_delay': 10,\n 't_interval': 5}"
     },
     "metadata": {},
     "execution_count": 11
    }
   ],
   "source": [
    "fm.tasks['inspection'].__dict__"
   ]
  },
  {
   "cell_type": "code",
   "execution_count": null,
   "metadata": {},
   "outputs": [],
   "source": []
  }
 ]
}