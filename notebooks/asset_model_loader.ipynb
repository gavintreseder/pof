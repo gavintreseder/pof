{
 "metadata": {
  "language_info": {
   "codemirror_mode": {
    "name": "ipython",
    "version": 3
   },
   "file_extension": ".py",
   "mimetype": "text/x-python",
   "name": "python",
   "nbconvert_exporter": "python",
   "pygments_lexer": "ipython3",
   "version": "3.8.3-final"
  },
  "orig_nbformat": 2,
  "kernelspec": {
   "name": "python_defaultSpec_1599613385535",
   "display_name": "Python 3.8.3 64-bit ('base': conda)"
  }
 },
 "nbformat": 4,
 "nbformat_minor": 2,
 "cells": [
  {
   "cell_type": "markdown",
   "metadata": {},
   "source": [
    "# Asset Model Loader\n",
    "\n",
    "A notebook to demonstrate an interface with some of the features of the Asset Model Loader class\n",
    "\n",
    "Authors: gavin.treseder@essentialenergy.com.au; illyse.schram@essentialenergy.com.au"
   ]
  },
  {
   "cell_type": "code",
   "execution_count": 5,
   "metadata": {},
   "outputs": [],
   "source": [
    "import sys, os\n",
    "sys.path.append(os.path.dirname(os.getcwd()))\n",
    "\n",
    "import numpy as np\n",
    "import pandas as pd\n",
    "from matplotlib import pyplot as plt\n",
    "import copy\n",
    "import pof.demo as demo\n",
    "import pprint\n",
    "pp = pprint.PrettyPrinter(indent=4)\n",
    "\n",
    "from pof.loader.asset_model_loader import AssetModelLoader"
   ]
  },
  {
   "cell_type": "markdown",
   "metadata": {},
   "source": [
    "# Get the file location"
   ]
  },
  {
   "cell_type": "code",
   "execution_count": 6,
   "metadata": {},
   "outputs": [],
   "source": [
    "filename = r\"C:\\Users\\gtreseder\\OneDrive - KPMG\\Documents\\3. Client\\Essential Energy\\Probability of Failure Model\\pof\\data\\inputs\\Asset Model - Demo.xlsx\"\n"
   ]
  },
  {
   "cell_type": "markdown",
   "metadata": {},
   "source": [
    "## Load the data"
   ]
  },
  {
   "cell_type": "code",
   "execution_count": 7,
   "metadata": {},
   "outputs": [
    {
     "output_type": "error",
     "ename": "ValueError",
     "evalue": "DataFrame index must be unique for orient='index'.",
     "traceback": [
      "\u001b[1;31m---------------------------------------------------------------------------\u001b[0m",
      "\u001b[1;31mValueError\u001b[0m                                Traceback (most recent call last)",
      "\u001b[1;32m<ipython-input-7-14b3ec6a614a>\u001b[0m in \u001b[0;36m<module>\u001b[1;34m\u001b[0m\n\u001b[0;32m      1\u001b[0m \u001b[0maml\u001b[0m \u001b[1;33m=\u001b[0m \u001b[0mAssetModelLoader\u001b[0m\u001b[1;33m(\u001b[0m\u001b[1;33m)\u001b[0m\u001b[1;33m\u001b[0m\u001b[1;33m\u001b[0m\u001b[0m\n\u001b[1;32m----> 2\u001b[1;33m \u001b[0mdata\u001b[0m \u001b[1;33m=\u001b[0m \u001b[0maml\u001b[0m\u001b[1;33m.\u001b[0m\u001b[0mload\u001b[0m\u001b[1;33m(\u001b[0m\u001b[0mfilename\u001b[0m\u001b[1;33m)\u001b[0m\u001b[1;33m\u001b[0m\u001b[1;33m\u001b[0m\u001b[0m\n\u001b[0m",
      "\u001b[1;32mc:\\Users\\gtreseder\\OneDrive - KPMG\\Documents\\3. Client\\Essential Energy\\Probability of Failure Model\\pof\\pof\\loader\\asset_model_loader.py\u001b[0m in \u001b[0;36mload\u001b[1;34m(self, filename)\u001b[0m\n\u001b[0;32m     38\u001b[0m         \u001b[1;31m# Load the data\u001b[0m\u001b[1;33m\u001b[0m\u001b[1;33m\u001b[0m\u001b[1;33m\u001b[0m\u001b[0m\n\u001b[0;32m     39\u001b[0m         \u001b[1;31m#if self.filename.endswith()\u001b[0m\u001b[1;33m\u001b[0m\u001b[1;33m\u001b[0m\u001b[1;33m\u001b[0m\u001b[0m\n\u001b[1;32m---> 40\u001b[1;33m         \u001b[0mdata\u001b[0m \u001b[1;33m=\u001b[0m \u001b[0mself\u001b[0m\u001b[1;33m.\u001b[0m\u001b[0mload_xlsx\u001b[0m\u001b[1;33m(\u001b[0m\u001b[1;33m)\u001b[0m\u001b[1;33m\u001b[0m\u001b[1;33m\u001b[0m\u001b[0m\n\u001b[0m\u001b[0;32m     41\u001b[0m \u001b[1;33m\u001b[0m\u001b[0m\n\u001b[0;32m     42\u001b[0m         \u001b[1;32mreturn\u001b[0m \u001b[0mdata\u001b[0m\u001b[1;33m\u001b[0m\u001b[1;33m\u001b[0m\u001b[0m\n",
      "\u001b[1;32mc:\\Users\\gtreseder\\OneDrive - KPMG\\Documents\\3. Client\\Essential Energy\\Probability of Failure Model\\pof\\pof\\loader\\asset_model_loader.py\u001b[0m in \u001b[0;36mload_xlsx\u001b[1;34m(self)\u001b[0m\n\u001b[0;32m     54\u001b[0m \u001b[1;33m\u001b[0m\u001b[0m\n\u001b[0;32m     55\u001b[0m         \u001b[0mself\u001b[0m\u001b[1;33m.\u001b[0m\u001b[0mread_xlsx\u001b[0m\u001b[1;33m(\u001b[0m\u001b[1;33m)\u001b[0m\u001b[1;33m\u001b[0m\u001b[1;33m\u001b[0m\u001b[0m\n\u001b[1;32m---> 56\u001b[1;33m         \u001b[0mcomp_data\u001b[0m \u001b[1;33m=\u001b[0m \u001b[0mself\u001b[0m\u001b[1;33m.\u001b[0m\u001b[0m_get_component_data\u001b[0m\u001b[1;33m(\u001b[0m\u001b[0mself\u001b[0m\u001b[1;33m.\u001b[0m\u001b[0mdf\u001b[0m\u001b[1;33m)\u001b[0m\u001b[1;33m\u001b[0m\u001b[1;33m\u001b[0m\u001b[0m\n\u001b[0m\u001b[0;32m     57\u001b[0m \u001b[1;33m\u001b[0m\u001b[0m\n\u001b[0;32m     58\u001b[0m         \u001b[1;32mreturn\u001b[0m \u001b[0mcomp_data\u001b[0m\u001b[1;33m\u001b[0m\u001b[1;33m\u001b[0m\u001b[0m\n",
      "\u001b[1;32mc:\\Users\\gtreseder\\OneDrive - KPMG\\Documents\\3. Client\\Essential Energy\\Probability of Failure Model\\pof\\pof\\loader\\asset_model_loader.py\u001b[0m in \u001b[0;36m_get_component_data\u001b[1;34m(self, df)\u001b[0m\n\u001b[0;32m    119\u001b[0m \u001b[1;33m\u001b[0m\u001b[0m\n\u001b[0;32m    120\u001b[0m             \u001b[1;31m# Get the FailureMode information\u001b[0m\u001b[1;33m\u001b[0m\u001b[1;33m\u001b[0m\u001b[1;33m\u001b[0m\u001b[0m\n\u001b[1;32m--> 121\u001b[1;33m             \u001b[0mfm_data\u001b[0m \u001b[1;33m=\u001b[0m \u001b[0mself\u001b[0m\u001b[1;33m.\u001b[0m\u001b[0m_get_failure_mode_data\u001b[0m\u001b[1;33m(\u001b[0m\u001b[0mdf_comp\u001b[0m\u001b[1;33m)\u001b[0m\u001b[1;33m\u001b[0m\u001b[1;33m\u001b[0m\u001b[0m\n\u001b[0m\u001b[0;32m    122\u001b[0m \u001b[1;33m\u001b[0m\u001b[0m\n\u001b[0;32m    123\u001b[0m             comp_data = dict(\n",
      "\u001b[1;32mc:\\Users\\gtreseder\\OneDrive - KPMG\\Documents\\3. Client\\Essential Energy\\Probability of Failure Model\\pof\\pof\\loader\\asset_model_loader.py\u001b[0m in \u001b[0;36m_get_failure_mode_data\u001b[1;34m(self, df_comp)\u001b[0m\n\u001b[0;32m    143\u001b[0m \u001b[1;33m\u001b[0m\u001b[0m\n\u001b[0;32m    144\u001b[0m             \u001b[1;31m# Get the Task information\u001b[0m\u001b[1;33m\u001b[0m\u001b[1;33m\u001b[0m\u001b[1;33m\u001b[0m\u001b[0m\n\u001b[1;32m--> 145\u001b[1;33m             \u001b[0mtasks_data\u001b[0m \u001b[1;33m=\u001b[0m \u001b[0mself\u001b[0m\u001b[1;33m.\u001b[0m\u001b[0m_get_task_data\u001b[0m\u001b[1;33m(\u001b[0m\u001b[0mdf_fm\u001b[0m\u001b[1;33m)\u001b[0m\u001b[1;33m\u001b[0m\u001b[1;33m\u001b[0m\u001b[0m\n\u001b[0m\u001b[0;32m    146\u001b[0m \u001b[1;33m\u001b[0m\u001b[0m\n\u001b[0;32m    147\u001b[0m             \u001b[1;31m# Get the Distribution information\u001b[0m\u001b[1;33m\u001b[0m\u001b[1;33m\u001b[0m\u001b[1;33m\u001b[0m\u001b[0m\n",
      "\u001b[1;32mc:\\Users\\gtreseder\\OneDrive - KPMG\\Documents\\3. Client\\Essential Energy\\Probability of Failure Model\\pof\\pof\\loader\\asset_model_loader.py\u001b[0m in \u001b[0;36m_get_task_data\u001b[1;34m(self, df_fm)\u001b[0m\n\u001b[0;32m    202\u001b[0m             trigger_data = dict(\n\u001b[0;32m    203\u001b[0m                 \u001b[0mstate\u001b[0m \u001b[1;33m=\u001b[0m \u001b[0mstate\u001b[0m\u001b[1;33m,\u001b[0m\u001b[1;33m\u001b[0m\u001b[1;33m\u001b[0m\u001b[0m\n\u001b[1;32m--> 204\u001b[1;33m                 \u001b[0mcondition\u001b[0m \u001b[1;33m=\u001b[0m \u001b[0mdf_task\u001b[0m\u001b[1;33m[\u001b[0m\u001b[1;34m'trigger_model'\u001b[0m\u001b[1;33m]\u001b[0m\u001b[1;33m[\u001b[0m\u001b[1;34m'condition'\u001b[0m\u001b[1;33m]\u001b[0m\u001b[1;33m.\u001b[0m\u001b[0mdropna\u001b[0m\u001b[1;33m(\u001b[0m\u001b[1;33m)\u001b[0m\u001b[1;33m.\u001b[0m\u001b[0mset_index\u001b[0m\u001b[1;33m(\u001b[0m\u001b[1;34m'name'\u001b[0m\u001b[1;33m)\u001b[0m\u001b[1;33m.\u001b[0m\u001b[0mto_dict\u001b[0m\u001b[1;33m(\u001b[0m\u001b[1;34m'index'\u001b[0m\u001b[1;33m)\u001b[0m\u001b[1;33m\u001b[0m\u001b[1;33m\u001b[0m\u001b[0m\n\u001b[0m\u001b[0;32m    205\u001b[0m             )\n\u001b[0;32m    206\u001b[0m \u001b[1;33m\u001b[0m\u001b[0m\n",
      "\u001b[1;32m~\\Anaconda3\\lib\\site-packages\\pandas\\core\\frame.py\u001b[0m in \u001b[0;36mto_dict\u001b[1;34m(self, orient, into)\u001b[0m\n\u001b[0;32m   1431\u001b[0m         \u001b[1;32melif\u001b[0m \u001b[0morient\u001b[0m\u001b[1;33m.\u001b[0m\u001b[0mlower\u001b[0m\u001b[1;33m(\u001b[0m\u001b[1;33m)\u001b[0m\u001b[1;33m.\u001b[0m\u001b[0mstartswith\u001b[0m\u001b[1;33m(\u001b[0m\u001b[1;34m\"i\"\u001b[0m\u001b[1;33m)\u001b[0m\u001b[1;33m:\u001b[0m\u001b[1;33m\u001b[0m\u001b[1;33m\u001b[0m\u001b[0m\n\u001b[0;32m   1432\u001b[0m             \u001b[1;32mif\u001b[0m \u001b[1;32mnot\u001b[0m \u001b[0mself\u001b[0m\u001b[1;33m.\u001b[0m\u001b[0mindex\u001b[0m\u001b[1;33m.\u001b[0m\u001b[0mis_unique\u001b[0m\u001b[1;33m:\u001b[0m\u001b[1;33m\u001b[0m\u001b[1;33m\u001b[0m\u001b[0m\n\u001b[1;32m-> 1433\u001b[1;33m                 \u001b[1;32mraise\u001b[0m \u001b[0mValueError\u001b[0m\u001b[1;33m(\u001b[0m\u001b[1;34m\"DataFrame index must be unique for orient='index'.\"\u001b[0m\u001b[1;33m)\u001b[0m\u001b[1;33m\u001b[0m\u001b[1;33m\u001b[0m\u001b[0m\n\u001b[0m\u001b[0;32m   1434\u001b[0m             return into_c(\n\u001b[0;32m   1435\u001b[0m                 \u001b[1;33m(\u001b[0m\u001b[0mt\u001b[0m\u001b[1;33m[\u001b[0m\u001b[1;36m0\u001b[0m\u001b[1;33m]\u001b[0m\u001b[1;33m,\u001b[0m \u001b[0mdict\u001b[0m\u001b[1;33m(\u001b[0m\u001b[0mzip\u001b[0m\u001b[1;33m(\u001b[0m\u001b[0mself\u001b[0m\u001b[1;33m.\u001b[0m\u001b[0mcolumns\u001b[0m\u001b[1;33m,\u001b[0m \u001b[0mt\u001b[0m\u001b[1;33m[\u001b[0m\u001b[1;36m1\u001b[0m\u001b[1;33m:\u001b[0m\u001b[1;33m]\u001b[0m\u001b[1;33m)\u001b[0m\u001b[1;33m)\u001b[0m\u001b[1;33m)\u001b[0m\u001b[1;33m\u001b[0m\u001b[1;33m\u001b[0m\u001b[0m\n",
      "\u001b[1;31mValueError\u001b[0m: DataFrame index must be unique for orient='index'."
     ]
    }
   ],
   "source": [
    "aml = AssetModelLoader()\n",
    "data = aml.load(filename)"
   ]
  },
  {
   "cell_type": "code",
   "execution_count": null,
   "metadata": {
    "tags": []
   },
   "outputs": [],
   "source": [
    "from pof.failure_mode import FailureMode\n",
    "FailureMode().load(data['pole']['fm']['termites'])"
   ]
  },
  {
   "cell_type": "code",
   "execution_count": 10,
   "metadata": {
    "tags": []
   },
   "outputs": [
    {
     "output_type": "stream",
     "name": "stdout",
     "text": "Invalid Consequence\nInvalid Consequence\nInvalid Consequence\nInvalid Consequence\nInvalid Consequence\nInvalid Consequence\nInvalid Consequence\nInvalid Consequence\nInvalid Consequence\nInvalid Consequence\nInvalid Consequence\nInvalid Consequence\nInvalid Consequence\nInvalid Consequence\nInvalid Consequence\nInvalid Consequence\nInvalid Consequence\nInvalid Consequence\nError loading Component data\n"
    },
    {
     "output_type": "execute_result",
     "data": {
      "text/plain": "<pof.component.Component at 0x25620431dc0>"
     },
     "metadata": {},
     "execution_count": 10
    }
   ],
   "source": [
    "from pof.component import Component\n",
    "from pof.failure_mode import FailureMode\n",
    "from pof.task import Inspection, Task\n",
    "\n",
    "FailureMode().load(demo.failure_mode_data['slow_aging'])\n",
    "FailureMode().load(data['pole']['fm']['termites'])\n",
    "\n",
    "Inspection().load(demo.inspection_data['instant'])\n",
    "Inspection().load(data['pole']['fm']['termites']['tasks']['inspection'])\n",
    "\n",
    "Component().load(demo.component_data)\n",
    "Component().load(data['pole'])\n"
   ]
  },
  {
   "cell_type": "code",
   "execution_count": 6,
   "metadata": {
    "tags": []
   },
   "outputs": [
    {
     "output_type": "stream",
     "name": "stdout",
     "text": "{   'conditions': {'external_diameter': None, 'wall_thickness': None},\n    'name': 'termites',\n    'tasks': {   'CAT1/2 replacement': {   'Level of Failure': 'component',\n                                           'activity': 'ConditionTask',\n                                           'cost': 7000.0,\n                                           'impacts': {   'condition': {   'all': {   'axis': 'condition',\n                                                                                      'method': 'reduction_factor',\n                                                                                      'target': 1.0}},\n                                                          'state': (   {   'detection': 0.0,\n                                                                           'failure': 0.0,\n                                                                           'initiation': 0.0},),\n                                                          'time': {}},\n                                           'level_of_repair': 'as_good_as_new',\n                                           'name': 'CAT1/2 replacement',\n                                           'p_effective': 1.0,\n                                           'task': 'replace',\n                                           'trigger': 'condition',\n                                           'triggers': {   'condition': {},\n                                                           'state': (   {   'failure': 1.0},),\n                                                           'time': {}}},\n                 'CAT3/4 replacement': {   'Level of Failure': 'component',\n                                           'activity': 'ConditionTask',\n                                           'cost': 3500.0,\n                                           'impacts': {   'condition': {   'all': {   'axis': 'condition',\n                                                                                      'method': 'reduction_factor',\n                                                                                      'target': 1.0}},\n                                                          'state': (   {   'detection': 0.0,\n                                                                           'failure': 0.0,\n                                                                           'initiation': 0.0},),\n                                                          'time': {}},\n                                           'level_of_repair': 'as_good_as_new',\n                                           'name': 'CAT3/4 replacement',\n                                           'p_effective': 1.0,\n                                           'task': 'replace',\n                                           'trigger': 'condition',\n                                           'triggers': {   'condition': {   'external_diameter': {   'lower': 0.0,\n                                                                                                     'upper': 50},\n                                                                            'safety_factor': {   'lower': 0.0,\n                                                                                                 'upper': 3},\n                                                                            'wall_thickness': {   'lower': 0.0,\n                                                                                                  'upper': 50}},\n                                                           'state': (   {   'detection': 1.0,\n                                                                            'failure': 0.0,\n                                                                            'initiation': 1.0},),\n                                                           'time': {}}},\n                 'inspection': {   'activity': 'Inspection',\n                                   'admin': 'yes',\n                                   'cost': 50.0,\n                                   'impacts': {   'condition': {},\n                                                  'state': (   {   'detection': 1.0},),\n                                                  'time': {}},\n                                   'level_of_repair': 'as_bad_as_old',\n                                   'maint': 'no',\n                                   'name': 'inspection',\n                                   'p_effective': 0.8,\n                                   't_delay': 20.0,\n                                   't_interval': 5.0,\n                                   'task': 'inspection',\n                                   'task_group_name': 'level_3_inspection',\n                                   'travel': 'yes',\n                                   'trigger': 'time',\n                                   'triggers': {   'condition': {},\n                                                   'state': (   {   'initiation': 1.0},),\n                                                   'time': {}}},\n                 'termite_powder': {   'Level of Failure': 'fm',\n                                       'activity': 'ConditionTask',\n                                       'cost': 100.0,\n                                       'impacts': {   'condition': {   'all': {   'axis': 'condition',\n                                                                                  'method': 'reduction_factor',\n                                                                                  'target': 0.0}},\n                                                      'state': (   {   'detection': 0.0,\n                                                                       'failure': 0.0,\n                                                                       'initiation': 0.0},),\n                                                      'time': {}},\n                                       'level_of_repair': 'grp',\n                                       'name': 'termite_powder',\n                                       'p_effective': 0.9,\n                                       'task': 'repair',\n                                       'trigger': 'condition',\n                                       'triggers': {   'condition': {   'external_diameter': {   'lower': 50.0,\n                                                                                                 'upper': 'max'},\n                                                                        'wall_thickness': {   'lower': 50.0,\n                                                                                              'upper': 'max'}},\n                                                       'state': (   {   'detection': 1.0,\n                                                                        'failure': 0.0,\n                                                                        'initiation': 1.0},),\n                                                       'time': {}}}},\n    'untreated': {   'alpha': 50.0,\n                     'beta': 1.5,\n                     'gamma': 10.0,\n                     'name': 'untreated',\n                     'pf_curve': 'linear',\n                     'pf_interval': 20.0,\n                     'pf_std': 1.0}}\n"
    }
   ],
   "source": [
    "pp.pprint(data['pole']['fm']['termites'])"
   ]
  },
  {
   "cell_type": "code",
   "execution_count": 31,
   "metadata": {},
   "outputs": [
    {
     "output_type": "execute_result",
     "data": {
      "text/plain": "  Unnamed: 0_level_0 asset_model                              \\\n  Unnamed: 0_level_1      system sub_system component          \n                  id        name       name      name name.1   \n0                NaN         NaN        NaN      pole    NaN   \n1                NaN         NaN        NaN       NaN    NaN   \n2                NaN         NaN        NaN       NaN    NaN   \n3                NaN         NaN        NaN       NaN    NaN   \n4                NaN         NaN        NaN       NaN    NaN   \n\n        indicator_model                                    ... trigger_model  \\\n              indicator                                    ...     condition   \n                   name      dist perfect failed failed.1  ...         upper   \n0        wall_thickness    linear   asset    0.0      NaN  ...           -20   \n1                   NaN       NaN     NaN    NaN      NaN  ...           -10   \n2     external_diameter    linear   asset    0.0      NaN  ...           NaN   \n3  simple_safety_factor  ssf_calc       4    1.0      NaN  ...           max   \n4  actual_safety_factor  dsf_calc   asset    1.0      NaN  ...           max   \n\n          impact_model                                               \\\n                 state                             condition          \n  upper.1   initiation detection failure failure.1      name target   \n0     NaN          NaN       1.0     NaN       NaN       NaN    NaN   \n1     NaN          NaN       NaN     NaN       NaN       NaN    NaN   \n2     NaN          NaN       NaN     NaN       NaN       NaN    NaN   \n3     NaN          0.0       0.0     0.0       NaN       all    0.0   \n4     NaN          NaN       NaN     NaN       NaN       NaN    NaN   \n\n                                \n                                \n             method       axis  \n0               NaN        NaN  \n1               NaN        NaN  \n2               NaN        NaN  \n3  reduction_factor  condition  \n4               NaN        NaN  \n\n[5 rows x 53 columns]",
      "text/html": "<div>\n<style scoped>\n    .dataframe tbody tr th:only-of-type {\n        vertical-align: middle;\n    }\n\n    .dataframe tbody tr th {\n        vertical-align: top;\n    }\n\n    .dataframe thead tr th {\n        text-align: left;\n    }\n</style>\n<table border=\"1\" class=\"dataframe\">\n  <thead>\n    <tr>\n      <th></th>\n      <th>Unnamed: 0_level_0</th>\n      <th colspan=\"4\" halign=\"left\">asset_model</th>\n      <th colspan=\"5\" halign=\"left\">indicator_model</th>\n      <th>...</th>\n      <th colspan=\"2\" halign=\"left\">trigger_model</th>\n      <th colspan=\"8\" halign=\"left\">impact_model</th>\n    </tr>\n    <tr>\n      <th></th>\n      <th>Unnamed: 0_level_1</th>\n      <th>system</th>\n      <th>sub_system</th>\n      <th colspan=\"2\" halign=\"left\">component</th>\n      <th colspan=\"5\" halign=\"left\">indicator</th>\n      <th>...</th>\n      <th colspan=\"2\" halign=\"left\">condition</th>\n      <th colspan=\"4\" halign=\"left\">state</th>\n      <th colspan=\"4\" halign=\"left\">condition</th>\n    </tr>\n    <tr>\n      <th></th>\n      <th>id</th>\n      <th>name</th>\n      <th>name</th>\n      <th>name</th>\n      <th>name.1</th>\n      <th>name</th>\n      <th>dist</th>\n      <th>perfect</th>\n      <th>failed</th>\n      <th>failed.1</th>\n      <th>...</th>\n      <th>upper</th>\n      <th>upper.1</th>\n      <th>initiation</th>\n      <th>detection</th>\n      <th>failure</th>\n      <th>failure.1</th>\n      <th>name</th>\n      <th>target</th>\n      <th>method</th>\n      <th>axis</th>\n    </tr>\n  </thead>\n  <tbody>\n    <tr>\n      <th>0</th>\n      <td>NaN</td>\n      <td>NaN</td>\n      <td>NaN</td>\n      <td>pole</td>\n      <td>NaN</td>\n      <td>wall_thickness</td>\n      <td>linear</td>\n      <td>asset</td>\n      <td>0.0</td>\n      <td>NaN</td>\n      <td>...</td>\n      <td>-20</td>\n      <td>NaN</td>\n      <td>NaN</td>\n      <td>1.0</td>\n      <td>NaN</td>\n      <td>NaN</td>\n      <td>NaN</td>\n      <td>NaN</td>\n      <td>NaN</td>\n      <td>NaN</td>\n    </tr>\n    <tr>\n      <th>1</th>\n      <td>NaN</td>\n      <td>NaN</td>\n      <td>NaN</td>\n      <td>NaN</td>\n      <td>NaN</td>\n      <td>NaN</td>\n      <td>NaN</td>\n      <td>NaN</td>\n      <td>NaN</td>\n      <td>NaN</td>\n      <td>...</td>\n      <td>-10</td>\n      <td>NaN</td>\n      <td>NaN</td>\n      <td>NaN</td>\n      <td>NaN</td>\n      <td>NaN</td>\n      <td>NaN</td>\n      <td>NaN</td>\n      <td>NaN</td>\n      <td>NaN</td>\n    </tr>\n    <tr>\n      <th>2</th>\n      <td>NaN</td>\n      <td>NaN</td>\n      <td>NaN</td>\n      <td>NaN</td>\n      <td>NaN</td>\n      <td>external_diameter</td>\n      <td>linear</td>\n      <td>asset</td>\n      <td>0.0</td>\n      <td>NaN</td>\n      <td>...</td>\n      <td>NaN</td>\n      <td>NaN</td>\n      <td>NaN</td>\n      <td>NaN</td>\n      <td>NaN</td>\n      <td>NaN</td>\n      <td>NaN</td>\n      <td>NaN</td>\n      <td>NaN</td>\n      <td>NaN</td>\n    </tr>\n    <tr>\n      <th>3</th>\n      <td>NaN</td>\n      <td>NaN</td>\n      <td>NaN</td>\n      <td>NaN</td>\n      <td>NaN</td>\n      <td>simple_safety_factor</td>\n      <td>ssf_calc</td>\n      <td>4</td>\n      <td>1.0</td>\n      <td>NaN</td>\n      <td>...</td>\n      <td>max</td>\n      <td>NaN</td>\n      <td>0.0</td>\n      <td>0.0</td>\n      <td>0.0</td>\n      <td>NaN</td>\n      <td>all</td>\n      <td>0.0</td>\n      <td>reduction_factor</td>\n      <td>condition</td>\n    </tr>\n    <tr>\n      <th>4</th>\n      <td>NaN</td>\n      <td>NaN</td>\n      <td>NaN</td>\n      <td>NaN</td>\n      <td>NaN</td>\n      <td>actual_safety_factor</td>\n      <td>dsf_calc</td>\n      <td>asset</td>\n      <td>1.0</td>\n      <td>NaN</td>\n      <td>...</td>\n      <td>max</td>\n      <td>NaN</td>\n      <td>NaN</td>\n      <td>NaN</td>\n      <td>NaN</td>\n      <td>NaN</td>\n      <td>NaN</td>\n      <td>NaN</td>\n      <td>NaN</td>\n      <td>NaN</td>\n    </tr>\n  </tbody>\n</table>\n<p>5 rows × 53 columns</p>\n</div>"
     },
     "metadata": {},
     "execution_count": 31
    }
   ],
   "source": [
    "df = pd.read_excel(filename, sheet_name='Model Input', header=[0,1,2])\n",
    "df.head()"
   ]
  },
  {
   "cell_type": "code",
   "execution_count": 32,
   "metadata": {
    "tags": []
   },
   "outputs": [
    {
     "output_type": "execute_result",
     "data": {
      "text/plain": "  asset_model       indicator_model                          failure_model  \\\n    component             indicator                           failure_mode   \n         name                  name      dist perfect failed          name   \n0        pole        wall_thickness    linear   asset    0.0      termites   \n1         NaN                   NaN       NaN     NaN    NaN           NaN   \n2         NaN     external_diameter    linear   asset    0.0           NaN   \n3         NaN  simple_safety_factor  ssf_calc       4    1.0           NaN   \n4         NaN  actual_safety_factor  dsf_calc   asset    1.0           NaN   \n\n                                    ...      trigger_model              \\\n  distribution                      ...          condition               \n         alpha beta gamma pf_curve  ...               name lower upper   \n0         50.0  1.5  10.0   linear  ...     wall_thickness   0.0   -20   \n1          NaN  NaN   NaN      NaN  ...  external_diameter   0.0   -10   \n2          NaN  NaN   NaN      NaN  ...                NaN   NaN   NaN   \n3          NaN  NaN   NaN      NaN  ...     wall_thickness  50.0   max   \n4          NaN  NaN   NaN      NaN  ...  external_diameter  50.0   max   \n\n  impact_model                                                                  \n         state                   condition                                      \n    initiation detection failure      name target            method       axis  \n0          NaN       1.0     NaN       NaN    NaN               NaN        NaN  \n1          NaN       NaN     NaN       NaN    NaN               NaN        NaN  \n2          NaN       NaN     NaN       NaN    NaN               NaN        NaN  \n3          0.0       0.0     0.0       all    0.0  reduction_factor  condition  \n4          NaN       NaN     NaN       NaN    NaN               NaN        NaN  \n\n[5 rows x 41 columns]",
      "text/html": "<div>\n<style scoped>\n    .dataframe tbody tr th:only-of-type {\n        vertical-align: middle;\n    }\n\n    .dataframe tbody tr th {\n        vertical-align: top;\n    }\n\n    .dataframe thead tr th {\n        text-align: left;\n    }\n</style>\n<table border=\"1\" class=\"dataframe\">\n  <thead>\n    <tr>\n      <th></th>\n      <th>asset_model</th>\n      <th colspan=\"4\" halign=\"left\">indicator_model</th>\n      <th colspan=\"5\" halign=\"left\">failure_model</th>\n      <th>...</th>\n      <th colspan=\"3\" halign=\"left\">trigger_model</th>\n      <th colspan=\"7\" halign=\"left\">impact_model</th>\n    </tr>\n    <tr>\n      <th></th>\n      <th>component</th>\n      <th colspan=\"4\" halign=\"left\">indicator</th>\n      <th>failure_mode</th>\n      <th colspan=\"4\" halign=\"left\">distribution</th>\n      <th>...</th>\n      <th colspan=\"3\" halign=\"left\">condition</th>\n      <th colspan=\"3\" halign=\"left\">state</th>\n      <th colspan=\"4\" halign=\"left\">condition</th>\n    </tr>\n    <tr>\n      <th></th>\n      <th>name</th>\n      <th>name</th>\n      <th>dist</th>\n      <th>perfect</th>\n      <th>failed</th>\n      <th>name</th>\n      <th>alpha</th>\n      <th>beta</th>\n      <th>gamma</th>\n      <th>pf_curve</th>\n      <th>...</th>\n      <th>name</th>\n      <th>lower</th>\n      <th>upper</th>\n      <th>initiation</th>\n      <th>detection</th>\n      <th>failure</th>\n      <th>name</th>\n      <th>target</th>\n      <th>method</th>\n      <th>axis</th>\n    </tr>\n  </thead>\n  <tbody>\n    <tr>\n      <th>0</th>\n      <td>pole</td>\n      <td>wall_thickness</td>\n      <td>linear</td>\n      <td>asset</td>\n      <td>0.0</td>\n      <td>termites</td>\n      <td>50.0</td>\n      <td>1.5</td>\n      <td>10.0</td>\n      <td>linear</td>\n      <td>...</td>\n      <td>wall_thickness</td>\n      <td>0.0</td>\n      <td>-20</td>\n      <td>NaN</td>\n      <td>1.0</td>\n      <td>NaN</td>\n      <td>NaN</td>\n      <td>NaN</td>\n      <td>NaN</td>\n      <td>NaN</td>\n    </tr>\n    <tr>\n      <th>1</th>\n      <td>NaN</td>\n      <td>NaN</td>\n      <td>NaN</td>\n      <td>NaN</td>\n      <td>NaN</td>\n      <td>NaN</td>\n      <td>NaN</td>\n      <td>NaN</td>\n      <td>NaN</td>\n      <td>NaN</td>\n      <td>...</td>\n      <td>external_diameter</td>\n      <td>0.0</td>\n      <td>-10</td>\n      <td>NaN</td>\n      <td>NaN</td>\n      <td>NaN</td>\n      <td>NaN</td>\n      <td>NaN</td>\n      <td>NaN</td>\n      <td>NaN</td>\n    </tr>\n    <tr>\n      <th>2</th>\n      <td>NaN</td>\n      <td>external_diameter</td>\n      <td>linear</td>\n      <td>asset</td>\n      <td>0.0</td>\n      <td>NaN</td>\n      <td>NaN</td>\n      <td>NaN</td>\n      <td>NaN</td>\n      <td>NaN</td>\n      <td>...</td>\n      <td>NaN</td>\n      <td>NaN</td>\n      <td>NaN</td>\n      <td>NaN</td>\n      <td>NaN</td>\n      <td>NaN</td>\n      <td>NaN</td>\n      <td>NaN</td>\n      <td>NaN</td>\n      <td>NaN</td>\n    </tr>\n    <tr>\n      <th>3</th>\n      <td>NaN</td>\n      <td>simple_safety_factor</td>\n      <td>ssf_calc</td>\n      <td>4</td>\n      <td>1.0</td>\n      <td>NaN</td>\n      <td>NaN</td>\n      <td>NaN</td>\n      <td>NaN</td>\n      <td>NaN</td>\n      <td>...</td>\n      <td>wall_thickness</td>\n      <td>50.0</td>\n      <td>max</td>\n      <td>0.0</td>\n      <td>0.0</td>\n      <td>0.0</td>\n      <td>all</td>\n      <td>0.0</td>\n      <td>reduction_factor</td>\n      <td>condition</td>\n    </tr>\n    <tr>\n      <th>4</th>\n      <td>NaN</td>\n      <td>actual_safety_factor</td>\n      <td>dsf_calc</td>\n      <td>asset</td>\n      <td>1.0</td>\n      <td>NaN</td>\n      <td>NaN</td>\n      <td>NaN</td>\n      <td>NaN</td>\n      <td>NaN</td>\n      <td>...</td>\n      <td>external_diameter</td>\n      <td>50.0</td>\n      <td>max</td>\n      <td>NaN</td>\n      <td>NaN</td>\n      <td>NaN</td>\n      <td>NaN</td>\n      <td>NaN</td>\n      <td>NaN</td>\n      <td>NaN</td>\n    </tr>\n  </tbody>\n</table>\n<p>5 rows × 41 columns</p>\n</div>"
     },
     "metadata": {},
     "execution_count": 32
    }
   ],
   "source": [
    "df = df.dropna(axis=1, how='all')\n",
    "df.head()"
   ]
  },
  {
   "cell_type": "code",
   "execution_count": 33,
   "metadata": {},
   "outputs": [],
   "source": [
    "# Create keys\n",
    "keys = dict(\n",
    "    asset_model = ('asset_model', 'component', 'name'),\n",
    "    #('indicator_model', 'indicator','name'),\n",
    "    failure_model = ('failure_model', 'failure_mode', 'name'),\n",
    "    task_model = ('task_model', 'task', 'name'),\n",
    "    #('trigger_model', 'condition', 'name'), #TODO revist this one\n",
    "    #('impact_model', 'condition', 'name'),\n",
    ")"
   ]
  },
  {
   "cell_type": "code",
   "execution_count": 11,
   "metadata": {
    "tags": []
   },
   "outputs": [
    {
     "output_type": "execute_result",
     "data": {
      "text/plain": "True"
     },
     "metadata": {},
     "execution_count": 11
    }
   ],
   "source": [
    "def validate_keys(keys, df):\n",
    "    missing_keys = [key for key in keys if key not in df.columns]\n",
    "\n",
    "    if bool(missing_keys):\n",
    "        print(\"Missing Keys: %s\" %(missing_keys))\n",
    "        return False\n",
    "    else:\n",
    "        return True\n",
    "\n",
    "validate_keys(keys, df)"
   ]
  },
  {
   "cell_type": "code",
   "execution_count": 36,
   "metadata": {},
   "outputs": [
    {
     "output_type": "execute_result",
     "data": {
      "text/plain": "     asset_model            failure_model            task_model\n       component             failure_mode                  task\n            name                     name                  name\n0           pole                 termites            inspection\n3           pole                 termites        termite_powder\n6           pole                 termites    CAT3/4 replacement\n10          pole                 termites    CAT1/2 replacement\n12          pole  fungal decay - external            inspection\n14          pole  fungal decay - external    CAT3/4 replacement\n18          pole  fungal decay - external    CAT1/2 replacement\n20          pole  fungal decay - internal            inspection\n22          pole  fungal decay - internal        pole_saver_rod\n25          pole  fungal decay - internal    CAT3/4 replacement\n29          pole  fungal decay - internal    CAT1/2 replacement\n31          pole                lightning         inspection - \n33          pole                lightning            inspection\n35          pole                lightning    CAT1/2 replacement\n37          pole              fire_damage            inspection\n39          pole              fire_damage    CAT3/4 replacement\n43          pole              fire_damage    CAT1/2 replacement\n45          pole                   impact            inspection\n47          pole                   impact    CAT1/2 replacement\n49          pole               weathering            inspection\n51          pole               weathering    CAT3/4 replacement\n55          pole               weathering    CAT1/2 replacement\n57  pole footing               any reason            inspection\n59  pole footing               any reason    CAT3/4 replacement\n63  pole footing               any reason    CAT1/2 replacement\n65      pole_cap               any reason            inspection\n67      pole_cap               any reason  Pole cap replacement\n71      pole_cap               any reason      Pole replacement\n73      crossarm               any reason                 strut",
      "text/html": "<div>\n<style scoped>\n    .dataframe tbody tr th:only-of-type {\n        vertical-align: middle;\n    }\n\n    .dataframe tbody tr th {\n        vertical-align: top;\n    }\n\n    .dataframe thead tr th {\n        text-align: left;\n    }\n</style>\n<table border=\"1\" class=\"dataframe\">\n  <thead>\n    <tr>\n      <th></th>\n      <th>asset_model</th>\n      <th>failure_model</th>\n      <th>task_model</th>\n    </tr>\n    <tr>\n      <th></th>\n      <th>component</th>\n      <th>failure_mode</th>\n      <th>task</th>\n    </tr>\n    <tr>\n      <th></th>\n      <th>name</th>\n      <th>name</th>\n      <th>name</th>\n    </tr>\n  </thead>\n  <tbody>\n    <tr>\n      <th>0</th>\n      <td>pole</td>\n      <td>termites</td>\n      <td>inspection</td>\n    </tr>\n    <tr>\n      <th>3</th>\n      <td>pole</td>\n      <td>termites</td>\n      <td>termite_powder</td>\n    </tr>\n    <tr>\n      <th>6</th>\n      <td>pole</td>\n      <td>termites</td>\n      <td>CAT3/4 replacement</td>\n    </tr>\n    <tr>\n      <th>10</th>\n      <td>pole</td>\n      <td>termites</td>\n      <td>CAT1/2 replacement</td>\n    </tr>\n    <tr>\n      <th>12</th>\n      <td>pole</td>\n      <td>fungal decay - external</td>\n      <td>inspection</td>\n    </tr>\n    <tr>\n      <th>14</th>\n      <td>pole</td>\n      <td>fungal decay - external</td>\n      <td>CAT3/4 replacement</td>\n    </tr>\n    <tr>\n      <th>18</th>\n      <td>pole</td>\n      <td>fungal decay - external</td>\n      <td>CAT1/2 replacement</td>\n    </tr>\n    <tr>\n      <th>20</th>\n      <td>pole</td>\n      <td>fungal decay - internal</td>\n      <td>inspection</td>\n    </tr>\n    <tr>\n      <th>22</th>\n      <td>pole</td>\n      <td>fungal decay - internal</td>\n      <td>pole_saver_rod</td>\n    </tr>\n    <tr>\n      <th>25</th>\n      <td>pole</td>\n      <td>fungal decay - internal</td>\n      <td>CAT3/4 replacement</td>\n    </tr>\n    <tr>\n      <th>29</th>\n      <td>pole</td>\n      <td>fungal decay - internal</td>\n      <td>CAT1/2 replacement</td>\n    </tr>\n    <tr>\n      <th>31</th>\n      <td>pole</td>\n      <td>lightning</td>\n      <td>inspection -</td>\n    </tr>\n    <tr>\n      <th>33</th>\n      <td>pole</td>\n      <td>lightning</td>\n      <td>inspection</td>\n    </tr>\n    <tr>\n      <th>35</th>\n      <td>pole</td>\n      <td>lightning</td>\n      <td>CAT1/2 replacement</td>\n    </tr>\n    <tr>\n      <th>37</th>\n      <td>pole</td>\n      <td>fire_damage</td>\n      <td>inspection</td>\n    </tr>\n    <tr>\n      <th>39</th>\n      <td>pole</td>\n      <td>fire_damage</td>\n      <td>CAT3/4 replacement</td>\n    </tr>\n    <tr>\n      <th>43</th>\n      <td>pole</td>\n      <td>fire_damage</td>\n      <td>CAT1/2 replacement</td>\n    </tr>\n    <tr>\n      <th>45</th>\n      <td>pole</td>\n      <td>impact</td>\n      <td>inspection</td>\n    </tr>\n    <tr>\n      <th>47</th>\n      <td>pole</td>\n      <td>impact</td>\n      <td>CAT1/2 replacement</td>\n    </tr>\n    <tr>\n      <th>49</th>\n      <td>pole</td>\n      <td>weathering</td>\n      <td>inspection</td>\n    </tr>\n    <tr>\n      <th>51</th>\n      <td>pole</td>\n      <td>weathering</td>\n      <td>CAT3/4 replacement</td>\n    </tr>\n    <tr>\n      <th>55</th>\n      <td>pole</td>\n      <td>weathering</td>\n      <td>CAT1/2 replacement</td>\n    </tr>\n    <tr>\n      <th>57</th>\n      <td>pole footing</td>\n      <td>any reason</td>\n      <td>inspection</td>\n    </tr>\n    <tr>\n      <th>59</th>\n      <td>pole footing</td>\n      <td>any reason</td>\n      <td>CAT3/4 replacement</td>\n    </tr>\n    <tr>\n      <th>63</th>\n      <td>pole footing</td>\n      <td>any reason</td>\n      <td>CAT1/2 replacement</td>\n    </tr>\n    <tr>\n      <th>65</th>\n      <td>pole_cap</td>\n      <td>any reason</td>\n      <td>inspection</td>\n    </tr>\n    <tr>\n      <th>67</th>\n      <td>pole_cap</td>\n      <td>any reason</td>\n      <td>Pole cap replacement</td>\n    </tr>\n    <tr>\n      <th>71</th>\n      <td>pole_cap</td>\n      <td>any reason</td>\n      <td>Pole replacement</td>\n    </tr>\n    <tr>\n      <th>73</th>\n      <td>crossarm</td>\n      <td>any reason</td>\n      <td>strut</td>\n    </tr>\n  </tbody>\n</table>\n</div>"
     },
     "metadata": {},
     "execution_count": 36
    }
   ],
   "source": [
    "df[[keys['asset_model'], keys['failure_model'], keys['task_model']]].dropna(how='all').ffill()"
   ]
  },
  {
   "cell_type": "code",
   "execution_count": 12,
   "metadata": {},
   "outputs": [],
   "source": [
    "# Propogate keys for 1 to many relationships\n",
    "df[keys] = df[keys].ffill()"
   ]
  },
  {
   "cell_type": "code",
   "execution_count": 18,
   "metadata": {},
   "outputs": [
    {
     "output_type": "execute_result",
     "data": {
      "text/plain": "   asset_model failure_model            task_model\n     component  failure_mode                  task\n          name          name                  name\n0         pole      termites            inspection\n1         pole      termites            inspection\n2         pole      termites            inspection\n3         pole      termites        termite_powder\n4         pole      termites        termite_powder\n..         ...           ...                   ...\n70    pole_cap    any reason  Pole cap replacement\n71    pole_cap    any reason      Pole replacement\n72    pole_cap    any reason      Pole replacement\n73    crossarm    any reason                 strut\n74    crossarm    any reason                 strut\n\n[75 rows x 3 columns]",
      "text/html": "<div>\n<style scoped>\n    .dataframe tbody tr th:only-of-type {\n        vertical-align: middle;\n    }\n\n    .dataframe tbody tr th {\n        vertical-align: top;\n    }\n\n    .dataframe thead tr th {\n        text-align: left;\n    }\n</style>\n<table border=\"1\" class=\"dataframe\">\n  <thead>\n    <tr>\n      <th></th>\n      <th>asset_model</th>\n      <th>failure_model</th>\n      <th>task_model</th>\n    </tr>\n    <tr>\n      <th></th>\n      <th>component</th>\n      <th>failure_mode</th>\n      <th>task</th>\n    </tr>\n    <tr>\n      <th></th>\n      <th>name</th>\n      <th>name</th>\n      <th>name</th>\n    </tr>\n  </thead>\n  <tbody>\n    <tr>\n      <th>0</th>\n      <td>pole</td>\n      <td>termites</td>\n      <td>inspection</td>\n    </tr>\n    <tr>\n      <th>1</th>\n      <td>pole</td>\n      <td>termites</td>\n      <td>inspection</td>\n    </tr>\n    <tr>\n      <th>2</th>\n      <td>pole</td>\n      <td>termites</td>\n      <td>inspection</td>\n    </tr>\n    <tr>\n      <th>3</th>\n      <td>pole</td>\n      <td>termites</td>\n      <td>termite_powder</td>\n    </tr>\n    <tr>\n      <th>4</th>\n      <td>pole</td>\n      <td>termites</td>\n      <td>termite_powder</td>\n    </tr>\n    <tr>\n      <th>...</th>\n      <td>...</td>\n      <td>...</td>\n      <td>...</td>\n    </tr>\n    <tr>\n      <th>70</th>\n      <td>pole_cap</td>\n      <td>any reason</td>\n      <td>Pole cap replacement</td>\n    </tr>\n    <tr>\n      <th>71</th>\n      <td>pole_cap</td>\n      <td>any reason</td>\n      <td>Pole replacement</td>\n    </tr>\n    <tr>\n      <th>72</th>\n      <td>pole_cap</td>\n      <td>any reason</td>\n      <td>Pole replacement</td>\n    </tr>\n    <tr>\n      <th>73</th>\n      <td>crossarm</td>\n      <td>any reason</td>\n      <td>strut</td>\n    </tr>\n    <tr>\n      <th>74</th>\n      <td>crossarm</td>\n      <td>any reason</td>\n      <td>strut</td>\n    </tr>\n  </tbody>\n</table>\n<p>75 rows × 3 columns</p>\n</div>"
     },
     "metadata": {},
     "execution_count": 18
    }
   ],
   "source": []
  },
  {
   "cell_type": "code",
   "execution_count": 11,
   "metadata": {
    "tags": []
   },
   "outputs": [
    {
     "output_type": "stream",
     "name": "stdout",
     "text": "{   'conditions': {   'fast_degrading': {   'failed': 0,\n                                            'name': 'fast_degrading',\n                                            'perfect': 100,\n                                            'pf_curve': 'linear',\n                                            'pf_interval': 10,\n                                            'pf_std': 0.5},\n                      'slow_degrading': {   'failed': 0,\n                                            'name': 'slow_degrading',\n                                            'perfect': 100,\n                                            'pf_curve': 'linear',\n                                            'pf_interval': 20,\n                                            'pf_std': 0.5}},\n    'name': 'slow_aging',\n    'states': {'detection': False, 'failure': False, 'initiation': False},\n    'tasks': {   'inspection': {   'activity': 'Inspection',\n                                   'cost': 50,\n                                   'impacts': {   'condition': {},\n                                                  'state': {'detection': True}},\n                                   'name': 'inspection',\n                                   'p_effective': 0.9,\n                                   't_delay': 10,\n                                   't_interval': 5,\n                                   'triggers': {   'condition': {   'fast_degrading': {   'lower': 0,\n                                                                                          'upper': 90},\n                                                                    'slow_degrading': {   'lower': 0,\n                                                                                          'upper': 90}},\n                                                   'state': {   'initiation': True}}},\n                 'on_condition_repair': {   'activity': 'ConditionTask',\n                                            'cost': 100,\n                                            'impacts': {   'condition': {   'fast_degrading': {   'axis': 'condition',\n                                                                                                  'method': 'reduction_factor',\n                                                                                                  'target': 0.9},\n                                                                            'slow_degrading': {   'axis': 'condition',\n                                                                                                  'method': 'reduction_factor',\n                                                                                                  'target': 0}},\n                                                           'state': {   'detection': False,\n                                                                        'failure': False,\n                                                                        'initiation': False}},\n                                            'name': 'on_condition_repair',\n                                            'p_effective': 0.7,\n                                            'triggers': {   'condition': {   'fast_degrading': {   'lower': 20,\n                                                                                                   'upper': 90},\n                                                                             'slow_degrading': {   'lower': 20,\n                                                                                                   'upper': 90}},\n                                                            'state': {   'detection': True}}},\n                 'on_condition_replacement': {   'activity': 'ConditionTask',\n                                                 'cost': 5000,\n                                                 'impacts': {   'condition': {   'all': {   'axis': 'condition',\n                                                                                            'method': 'reduction_factor',\n                                                                                            'target': 1}},\n                                                                'state': {   'detection': False,\n                                                                             'failure': False,\n                                                                             'initiation': False}},\n                                                 'name': 'on_condition_replacement',\n                                                 'p_effective': 1,\n                                                 'triggers': {   'condition': {   'fast_degrading': {   'lower': 0,\n                                                                                                        'upper': 20},\n                                                                                  'slow_degrading': {   'lower': 0,\n                                                                                                        'upper': 20}},\n                                                                 'state': {   'detection': True,\n                                                                              'failure': True}}}},\n    'untreated': {'alpha': 100, 'beta': 2, 'gamma': 10, 'name': 'slow_aging'}}\n"
    }
   ],
   "source": [
    "\n",
    "pp.pprint(demo.failure_mode_data['slow_aging'])"
   ]
  },
  {
   "cell_type": "code",
   "execution_count": 12,
   "metadata": {
    "tags": []
   },
   "outputs": [],
   "source": [
    "def get_failure_mode_data(df_comp):\n",
    "\n",
    "    fms_data = dict() #TODO\n",
    "    fm_key = ('failure_model', 'failure_mode', 'name')\n",
    "    failure_modes = df_comp[fm_key].unique()\n",
    "    df_fms = df_comp[['failure_model', 'condition_model', 'task_model', 'trigger_model', 'impact_model']].set_index(fm_key)\n",
    "\n",
    "    for fm in failure_modes:\n",
    "\n",
    "        df_fm = df_fms.loc[[fm]]\n",
    "\n",
    "        # Get the Task information\n",
    "        tasks_data = get_task_data(df_fm)\n",
    "        \n",
    "        # Get the Distribution information\n",
    "        dist_data = get_dist_data(df_fm)\n",
    "\n",
    "        # Get the Condition information\n",
    "        condition_data = get_condition_data(df_fm)\n",
    "\n",
    "        fm_data = dict(\n",
    "            name = fm,\n",
    "            conditions = condition_data,\n",
    "            tasks = tasks_data,\n",
    "            untreated = dist_data,\n",
    "        )\n",
    "        fms_data.update({\n",
    "            fm : fm_data,\n",
    "        })\n",
    "\n",
    "    return fms_data"
   ]
  },
  {
   "cell_type": "code",
   "execution_count": 13,
   "metadata": {},
   "outputs": [],
   "source": [
    "def get_condition_data(df_fm):\n",
    "    #TODO update for new arrangement\n",
    "    df_cond = df_fm['condition_model']\n",
    "    conditions = df_cond['condition']['name'].dropna().to_numpy()\n",
    "    cond_data = {cond : None for cond in conditions}\n",
    "    return cond_data"
   ]
  },
  {
   "cell_type": "code",
   "execution_count": 19,
   "metadata": {},
   "outputs": [],
   "source": [
    "def get_dist_data(df_fm):\n",
    "\n",
    "    df_dist = df_fm['failure_model'].dropna()\n",
    "    df_dist.columns = df_dist.columns.droplevel()\n",
    "\n",
    "    try:\n",
    "\n",
    "        dist_data = df_dist.iloc[0].dropna().to_dict()\n",
    "    except IndexError:\n",
    "        dist_data = df_dist.dropna().to_dict()\n",
    "\n",
    "    return dist_data"
   ]
  },
  {
   "cell_type": "code",
   "execution_count": 15,
   "metadata": {},
   "outputs": [],
   "source": [
    "def get_task_data(df_fm):\n",
    "    \"\"\"Takes a dataframe for a failure mode and returns a dict of task data\n",
    "    \"\"\"\n",
    "    tasks_data = dict()\n",
    "    task_key = ('task_model', 'task', 'name')\n",
    "    tasks = df_fm[task_key].unique()\n",
    "    df_tasks = df_fm[['task_model', 'trigger_model', 'impact_model']].set_index(task_key)\n",
    "\n",
    "    for task in tasks:\n",
    "\n",
    "        df_task = df_tasks.loc[[task]].dropna(axis=0, how='all')\n",
    "\n",
    "        # Trigger information\n",
    "        try:\n",
    "            state = df_task['trigger_model']['state'].iloc[0].dropna().to_dict(),\n",
    "        except:\n",
    "            state = df_task['trigger_model']['state'].dropna().to_dict(),\n",
    "\n",
    "        trigger_data = dict(\n",
    "            state = state,\n",
    "            condition = df_task['trigger_model']['condition'].dropna().set_index('name').to_dict('index')\n",
    "        )\n",
    "\n",
    "        # Impact information\n",
    "        try:\n",
    "            state = df_task['impact_model']['state'].iloc[0].dropna().to_dict(),\n",
    "        except:\n",
    "            state = df_task['impact_model']['state'].dropna().to_dict(),\n",
    "            \n",
    "        impact_data = dict(\n",
    "            state = state,\n",
    "            condition = df_task['impact_model']['condition'].dropna().set_index('name').to_dict('index')\n",
    "        )\n",
    "\n",
    "        # Tasks specific information\n",
    "        df_tsi = df_task[('task_model')].dropna(how='all').dropna(axis=1)\n",
    "        df_tsi.columns = df_tsi.columns.droplevel()\n",
    "\n",
    "        task_data = df_tsi.to_dict('index') #TODO currently has too many vars\n",
    "        try:\n",
    "            task_data[task].update(dict(\n",
    "                name=task,\n",
    "                triggers=trigger_data,\n",
    "                impacts = impact_data,\n",
    "            ))\n",
    "        except:\n",
    "            task_data = dict(\n",
    "                task = dict(\n",
    "                    name=task,\n",
    "                    triggers=trigger_data,\n",
    "                    impacts = impact_data,\n",
    "                )\n",
    "            )\n",
    "\n",
    "        tasks_data.update(task_data)\n",
    "\n",
    "    return tasks_data"
   ]
  },
  {
   "cell_type": "code",
   "execution_count": 26,
   "metadata": {
    "tags": []
   },
   "outputs": [],
   "source": [
    "def _get_component_data(df):\n",
    "    comps_data = dict()\n",
    "\n",
    "    # Get the Component information\n",
    "    comp_key = ('asset_model', 'component', 'name')\n",
    "    components = df[comp_key].dropna().unique()\n",
    "\n",
    "    df_comps = df[['asset_model', 'failure_model', 'condition_model', 'task_model', 'trigger_model', 'impact_model']].set_index(comp_key)\n",
    "\n",
    "    for comp in components:\n",
    "\n",
    "        df_comp = df_comps.loc[[comp]]\n",
    "\n",
    "        # Get the FailureMode information\n",
    "        fm_data = get_failure_mode_data(df_comp)\n",
    "\n",
    "        comp_data = dict(\n",
    "            fm = fm_data,\n",
    "        )\n",
    "\n",
    "        comps_data.update({\n",
    "            comp : comp_data\n",
    "        })\n",
    "\n",
    "    return comps_data"
   ]
  },
  {
   "cell_type": "code",
   "execution_count": 28,
   "metadata": {
    "tags": []
   },
   "outputs": [
    {
     "output_type": "stream",
     "name": "stdout",
     "text": "{'alpha': 50.0, 'beta': 1.5, 'gamma': 10.0, 'pf_curve': 'linear', 'pf_interval': 20.0, 'pf_std': 1.0}\n{'alpha': {}, 'beta': {}, 'gamma': {}, 'pf_curve': {}, 'pf_interval': {}, 'pf_std': {}}\n{'alpha': {}, 'beta': {}, 'gamma': {}, 'pf_curve': {}, 'pf_interval': {}, 'pf_std': {}}\n"
    }
   ],
   "source": [
    "comp2 = _get_component_data(df)"
   ]
  },
  {
   "cell_type": "code",
   "execution_count": 17,
   "metadata": {
    "tags": []
   },
   "outputs": [
    {
     "output_type": "stream",
     "name": "stdout",
     "text": "termites\n"
    }
   ],
   "source": [
    "comps_data = dict()\n",
    "\n",
    "# Get the Component information\n",
    "comp_key = ('asset_model', 'component', 'name')\n",
    "components = df[comp_key].unique()\n",
    "\n",
    "df_comps = df[['asset_model', 'failure_model', 'condition_model', 'task_model', 'trigger_model', 'impact_model']].set_index(comp_key)\n",
    "\n",
    "for comp in ['pole']:\n",
    "\n",
    "    df_comp = df_comps.loc[[comp]]\n",
    "\n",
    "    fms_data = dict() #TODO\n",
    "    fm_key = ('failure_model', 'failure_mode', 'name')\n",
    "    failure_modes = df_comp[fm_key].unique()\n",
    "    df_fms = df_comp[['failure_model', 'condition_model', 'task_model', 'trigger_model', 'impact_model']].set_index(fm_key)\n",
    "\n",
    "    for fm in ['termites']:\n",
    "        \n",
    "        df_fm = df_fms.loc[[fm]]\n",
    "        # Get the Task information\n",
    "        tasks_data = get_task_data(df_fm)\n",
    "        \n",
    "        # Get the Distribution information\n",
    "        df_dist = df_fm['failure_model'].dropna()\n",
    "        df_dist.columns = df_dist.columns.droplevel()\n",
    "\n",
    "        try:\n",
    "\n",
    "            dist_data = df_dist.iloc[0].dropna().to_dict()\n",
    "        except IndexError:\n",
    "            dist_data = df_dist.dropna().to_dict()\n",
    "\n",
    "\n"
   ]
  },
  {
   "cell_type": "code",
   "execution_count": 18,
   "metadata": {},
   "outputs": [
    {
     "output_type": "execute_result",
     "data": {
      "text/plain": "{'alpha': 50.0,\n 'beta': 1.5,\n 'gamma': 10.0,\n 'pf_curve': 'linear',\n 'pf_interval': 20.0,\n 'pf_std': 1.0}"
     },
     "metadata": {},
     "execution_count": 18
    }
   ],
   "source": [
    "dist_data"
   ]
  },
  {
   "cell_type": "code",
   "execution_count": 13,
   "metadata": {
    "tags": []
   },
   "outputs": [
    {
     "output_type": "stream",
     "name": "stdout",
     "text": "Invalid Consequence - currently stubbed\nInvalid Consequence - currently stubbed\nInvalid Consequence - currently stubbed\nInvalid Consequence - currently stubbed\nInvalid Consequence - currently stubbed\nInvalid Consequence - currently stubbed\nInvalid Consequence - currently stubbed\nInvalid Consequence - currently stubbed\nInvalid Consequence - currently stubbed\nInvalid Consequence - currently stubbed\nInvalid Consequence - currently stubbed\nInvalid Consequence - currently stubbed\nInvalid Consequence - currently stubbed\nInvalid Consequence - currently stubbed\nInvalid Consequence - currently stubbed\nInvalid Consequence - currently stubbed\nInvalid Consequence - currently stubbed\nInvalid Consequence - currently stubbed\n{   'conditions': {   'fast_degrading': {   'failed': 0,\n                                            'name': 'fast_degrading',\n                                            'perfect': 100,\n                                            'pf_curve': 'linear',\n                                            'pf_interval': 10,\n                                            'pf_std': 0.5},\n                      'slow_degrading': {   'failed': 0,\n                                            'name': 'slow_degrading',\n                                            'perfect': 100,\n                                            'pf_curve': 'linear',\n                                            'pf_interval': 20,\n                                            'pf_std': 0.5}},\n    'name': 'slow_aging',\n    'states': {'detection': False, 'failure': False, 'initiation': False},\n    'tasks': {   'inspection': {   'activity': 'Inspection',\n                                   'cost': 50,\n                                   'impacts': {   'condition': {},\n                                                  'state': {'detection': True},\n                                                  'time': {}},\n                                   'name': 'inspection',\n                                   'p_effective': 0.9,\n                                   't_delay': 10,\n                                   't_interval': 5,\n                                   'triggers': {   'condition': {   'fast_degrading': {   'lower': 0,\n                                                                                          'upper': 90},\n                                                                    'slow_degrading': {   'lower': 0,\n                                                                                          'upper': 90}},\n                                                   'state': {   'initiation': True},\n                                                   'time': {}}},\n                 'on_condition_repair': {   'activity': 'ConditionTask',\n                                            'cost': 100,\n                                            'impacts': {   'condition': {   'fast_degrading': {   'axis': 'condition',\n                                                                                                  'method': 'reduction_factor',\n                                                                                                  'target': 0.9},\n                                                                            'slow_degrading': {   'axis': 'condition',\n                                                                                                  'method': 'reduction_factor',\n                                                                                                  'target': 0}},\n                                                           'state': {   'detection': False,\n                                                                        'failure': False,\n                                                                        'initiation': False},\n                                                           'time': {}},\n                                            'name': 'on_condition_repair',\n                                            'p_effective': 0.7,\n                                            'triggers': {   'condition': {   'fast_degrading': {   'lower': 20,\n                                                                                                   'upper': 90},\n                                                                             'slow_degrading': {   'lower': 20,\n                                                                                                   'upper': 90}},\n                                                            'state': {   'detection': True},\n                                                            'time': {}}},\n                 'on_condition_replacement': {   'activity': 'ConditionTask',\n                                                 'cost': 5000,\n                                                 'impacts': {   'condition': {   'all': {   'axis': 'condition',\n                                                                                            'method': 'reduction_factor',\n                                                                                            'target': 1}},\n                                                                'state': {   'detection': False,\n                                                                             'failure': False,\n                                                                             'initiation': False},\n                                                                'time': {}},\n                                                 'name': 'on_condition_replacement',\n                                                 'p_effective': 1,\n                                                 'triggers': {   'condition': {   'fast_degrading': {   'lower': 0,\n                                                                                                        'upper': 20},\n                                                                                  'slow_degrading': {   'lower': 0,\n                                                                                                        'upper': 20}},\n                                                                 'state': {   'detection': True,\n                                                                              'failure': True},\n                                                                 'time': {}}}},\n    'untreated': {'alpha': 100, 'beta': 2, 'gamma': 10, 'name': 'untreated'}}\n"
    }
   ],
   "source": [
    "from pof.component import Component\n",
    "from pof.failure_mode import FailureMode\n",
    "from pof.task import Inspection, Task\n",
    "\n",
    "FailureMode().load(demo.failure_mode_data['slow_aging'])\n",
    "FailureMode().load(data['pole']['fm']['termites'])\n",
    "\n",
    "Inspection().load(demo.inspection_data['instant'])\n",
    "Inspection().load(d['pole']['fm']['termites']['tasks']['inspection'])\n",
    "\n",
    "pp.pprint(demo.failure_mode_data['slow_aging'])"
   ]
  },
  {
   "cell_type": "code",
   "execution_count": 37,
   "metadata": {
    "tags": []
   },
   "outputs": [
    {
     "output_type": "stream",
     "name": "stdout",
     "text": "{   'conditions': {'external_diameter': None, 'wall_thickness': None},\n    'name': 'termites',\n    'tasks': {   'inspection': {   'activity': 'Inspection',\n                                   'admin': 'yes',\n                                   'cost': 50.0,\n                                   'impacts': {   'condition': {},\n                                                  'state': ({},),\n                                                  'time': {}},\n                                   'level_of_repair': 'as_bad_as_old',\n                                   'maint': 'no',\n                                   'name': 'inspection',\n                                   'p_effective': 0.8,\n                                   't_delay': 20.0,\n                                   't_interval': 5.0,\n                                   'task': 'inspection',\n                                   'task_group_name': 'level_3_inspection',\n                                   'travel': 'yes',\n                                   'trigger': 'time',\n                                   'triggers': {   'condition': {},\n                                                   'state': (   {   'initiation': 1.0},),\n                                                   'time': {}}},\n                 'replacement': {   'Level of Failure': 'component',\n                                    'activity': 'ConditionTask',\n                                    'cost': 3500.0,\n                                    'impacts': {   'condition': {   'all': {   'axis': 'condition',\n                                                                               'method': 'reduction_factor',\n                                                                               'target': 1.0}},\n                                                   'state': (   {   'detection': 0.0,\n                                                                    'failure': 0.0,\n                                                                    'initiation': 0.0},)},\n                                    'level_of_repair': 'as_good_as_new',\n                                    'name': 'replacement',\n                                    'p_effective': 1.0,\n                                    'task': 'replace',\n                                    'trigger': 'detection',\n                                    'triggers': {   'condition': {   'external_diameter': {   'lower': 0.0,\n                                                                                              'upper': 50},\n                                                                     'safety_factor': {   'lower': 0.0,\n                                                                                          'upper': 3},\n                                                                     'wall_thickness': {   'lower': 0.0,\n                                                                                           'upper': 50}},\n                                                    'state': (   {   'detection': 1.0,\n                                                                     'failure': 0.0,\n                                                                     'initiation': 1.0},)}},\n                 'termite_powder': {   'Level of Failure': 'fm',\n                                       'activity': 'ConditionTask',\n                                       'cost': 100.0,\n                                       'impacts': {   'condition': {},\n                                                      'state': (   {   'detection': 0.0,\n                                                                       'failure': 0.0,\n                                                                       'initiation': 0.0},)},\n                                       'level_of_repair': 'grp',\n                                       'name': 'termite_powder',\n                                       'p_effective': 0.9,\n                                       'task': 'repair',\n                                       'trigger': 'detection',\n                                       'triggers': {   'condition': {   'external_diameter': {   'lower': 50.0,\n                                                                                                 'upper': 'max'},\n                                                                        'wall_thickness': {   'lower': 50.0,\n                                                                                              'upper': 'max'}},\n                                                       'state': (   {   'detection': 1.0,\n                                                                        'failure': 0.0,\n                                                                        'initiation': 1.0},)}}},\n    'untreated': {   'alpha': 50.0,\n                     'beta': 1.5,\n                     'gamma': 10.0,\n                     'name': 'untreated',\n                     'pf_curve': 'linear',\n                     'pf_interval': 20.0,\n                     'pf_std': 1.0}}\n"
    }
   ],
   "source": [
    "pp.pprint(comps_data['pole']['fm']['termites'])"
   ]
  },
  {
   "cell_type": "code",
   "execution_count": 342,
   "metadata": {
    "tags": []
   },
   "outputs": [
    {
     "output_type": "stream",
     "name": "stdout",
     "text": "{   'inspection': {   'Level of Failure': 'nil',\n                      'admin': 'yes',\n                      'cost': 50.0,\n                      'impacts': {   'condition': {},\n                                     'state': {   'detection': nan,\n                                                  'failure': nan,\n                                                  'initiation': nan}},\n                      'level_of_repair': 'as_bad_as_old',\n                      'maint': 'no',\n                      'name': 'inspection',\n                      'p_effective': 0.8,\n                      't_delay': 20.0,\n                      't_interval': 5.0,\n                      'task': 'inspection',\n                      'task_group_name': 'level_3_inspection',\n                      'travel': 'yes',\n                      'trigger': 'time',\n                      'triggers': {   'condition': {},\n                                      'state': {   'detection': 'any',\n                                                   'failure': 'any',\n                                                   'has_strut': nan,\n                                                   'initiation': True}}},\n    'replacement': {   'Level of Failure': 'component',\n                       'admin': nan,\n                       'cost': 3500.0,\n                       'impacts': {   'condition': {   'all': {   'axis': 'condition',\n                                                                  'method': 'reduction_factor',\n                                                                  'target': 1}},\n                                      'state': {   'detection': False,\n                                                   'failure': False,\n                                                   'initiation': False}},\n                       'level_of_repair': 'as_good_as_new',\n                       'maint': nan,\n                       'name': 'replacement',\n                       'p_effective': 1.0,\n                       't_delay': nan,\n                       't_interval': nan,\n                       'task': 'replace',\n                       'task_group_name': nan,\n                       'travel': nan,\n                       'trigger': 'detection',\n                       'triggers': {   'condition': {   'external_diameter': {   'threshold_max': 50,\n                                                                                 'threshold_min': 0},\n                                                        'safety_factor': {   'threshold_max': 3,\n                                                                             'threshold_min': 0},\n                                                        'wall_thickness': {   'threshold_max': 50,\n                                                                              'threshold_min': 0}},\n                                       'state': {   'detection': True,\n                                                    'failure': False,\n                                                    'has_strut': nan,\n                                                    'initiation': True}}},\n    'termite_powder': {   'Level of Failure': 'fm',\n                          'admin': nan,\n                          'cost': 100.0,\n                          'impacts': {   'condition': {},\n                                         'state': {   'detection': False,\n                                                      'failure': False,\n                                                      'initiation': False}},\n                          'level_of_repair': 'grp',\n                          'maint': nan,\n                          'name': 'termite_powder',\n                          'p_effective': 0.9,\n                          't_delay': nan,\n                          't_interval': nan,\n                          'task': 'repair',\n                          'task_group_name': nan,\n                          'travel': nan,\n                          'trigger': 'detection',\n                          'triggers': {   'condition': {   'external_diameter': {   'threshold_max': 'max',\n                                                                                    'threshold_min': 50},\n                                                           'wall_thickness': {   'threshold_max': 'max',\n                                                                                 'threshold_min': 50}},\n                                          'state': {   'detection': True,\n                                                       'failure': False,\n                                                       'has_strut': nan,\n                                                       'initiation': True}}}}\n"
    }
   ],
   "source": [
    "pp.pprint(tasks_data)"
   ]
  },
  {
   "cell_type": "code",
   "execution_count": 328,
   "metadata": {},
   "outputs": [],
   "source": [
    "\n",
    "\n",
    "\n",
    "\n"
   ]
  },
  {
   "cell_type": "code",
   "execution_count": 48,
   "metadata": {
    "tags": []
   },
   "outputs": [
    {
     "output_type": "stream",
     "name": "stdout",
     "text": "{   'activity': 'Inspection',\n    'cost': 50,\n    'impacts': {'condition': {}, 'state': {'detection': True}, 'time': {}},\n    'name': 'inspection',\n    'p_effective': 0.9,\n    't_delay': 10,\n    't_interval': 5,\n    'triggers': {   'condition': {   'fast_degrading': {   'lower': 0,\n                                                           'upper': 90},\n                                     'slow_degrading': {   'lower': 0,\n                                                           'upper': 90}},\n                    'state': {'initiation': True},\n                    'time': {}}}\n"
    }
   ],
   "source": [
    "\n",
    "pp.pprint(demo.inspection_data['degrading'])"
   ]
  }
 ]
}