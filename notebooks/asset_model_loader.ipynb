{
 "metadata": {
  "language_info": {
   "codemirror_mode": {
    "name": "ipython",
    "version": 3
   },
   "file_extension": ".py",
   "mimetype": "text/x-python",
   "name": "python",
   "nbconvert_exporter": "python",
   "pygments_lexer": "ipython3",
   "version": "3.9.0-final"
  },
  "orig_nbformat": 2,
  "kernelspec": {
   "name": "python3",
   "display_name": "Python 3.9.0 64-bit ('pof': pipenv)",
   "metadata": {
    "interpreter": {
     "hash": "a38ce0f87e5f8a0ab913a5df508d96de373270aa0b3fee915c840273dbdccd07"
    }
   }
  }
 },
 "nbformat": 4,
 "nbformat_minor": 2,
 "cells": [
  {
   "cell_type": "markdown",
   "metadata": {},
   "source": [
    "# Asset Model Loader\n",
    "\n",
    "A notebook to demonstrate an interface with some of the features of the Asset Model Loader class\n",
    "\n",
    "Authors: gavin.treseder@essentialenergy.com.au; illyse.schram@essentialenergy.com.au"
   ]
  },
  {
   "cell_type": "code",
   "execution_count": 1,
   "metadata": {},
   "outputs": [],
   "source": [
    "import sys, os\n",
    "sys.path.append(os.path.dirname(os.getcwd()))\n",
    "\n",
    "import numpy as np\n",
    "import pandas as pd\n",
    "from matplotlib import pyplot as plt\n",
    "import copy\n",
    "import pprint\n",
    "pp = pprint.PrettyPrinter(indent=4)\n",
    "\n",
    "import pof.demo as demo\n",
    "from pof.loader.asset_model_loader import AssetModelLoader"
   ]
  },
  {
   "cell_type": "markdown",
   "metadata": {},
   "source": [
    "# Get the file location"
   ]
  },
  {
   "cell_type": "code",
   "execution_count": 13,
   "metadata": {},
   "outputs": [],
   "source": [
    "filename = os.path.dirname(os.getcwd()) + r\"\\data\\inputs\\Asset Model - Pole - Timber.xlsx\""
   ]
  },
  {
   "cell_type": "markdown",
   "metadata": {},
   "source": [
    "## Load the data"
   ]
  },
  {
   "cell_type": "code",
   "execution_count": 14,
   "metadata": {
    "tags": []
   },
   "outputs": [],
   "source": [
    "aml = AssetModelLoader()\n",
    "data = aml.load(filename)"
   ]
  },
  {
   "cell_type": "code",
   "execution_count": 15,
   "metadata": {
    "tags": []
   },
   "outputs": [
    {
     "output_type": "stream",
     "name": "stderr",
     "text": [
      "WARNING:root:Invalid Data () - {'task': 'inspection', 'level_of_repair': 'as_bad_as_old', 'admin': 'yes', 'maint': 'no', 'travel': 'yes'}\n",
      "WARNING:root:Invalid Data () - {'task': 'repair', 'level_of_repair': 'grp'}\n",
      "WARNING:root:Invalid Data () - {'task': 'replace', 'level_of_repair': 'as_good_as_new'}\n",
      "WARNING:root:Invalid Data () - {'task': 'replace', 'level_of_repair': 'as_good_as_new'}\n",
      "WARNING:root:Invalid Data () - {'task': 'replace', 'level_of_repair': 'as_good_as_new'}\n"
     ]
    },
    {
     "output_type": "error",
     "ename": "KeyError",
     "evalue": "'inspection'",
     "traceback": [
      "\u001b[1;31m---------------------------------------------------------------------------\u001b[0m",
      "\u001b[1;31mKeyError\u001b[0m                                  Traceback (most recent call last)",
      "\u001b[1;32m<ipython-input-15-48e1b7558ee1>\u001b[0m in \u001b[0;36m<module>\u001b[1;34m\u001b[0m\n\u001b[0;32m      7\u001b[0m \u001b[1;33m\u001b[0m\u001b[0m\n\u001b[0;32m      8\u001b[0m \u001b[0minsp\u001b[0m \u001b[1;33m=\u001b[0m \u001b[0mInspection\u001b[0m\u001b[1;33m.\u001b[0m\u001b[0mload\u001b[0m\u001b[1;33m(\u001b[0m\u001b[0mdemo\u001b[0m\u001b[1;33m.\u001b[0m\u001b[0minspection_data\u001b[0m\u001b[1;33m[\u001b[0m\u001b[1;34m'instant'\u001b[0m\u001b[1;33m]\u001b[0m\u001b[1;33m)\u001b[0m\u001b[1;33m\u001b[0m\u001b[1;33m\u001b[0m\u001b[0m\n\u001b[1;32m----> 9\u001b[1;33m \u001b[0minsp2\u001b[0m \u001b[1;33m=\u001b[0m \u001b[0mInspection\u001b[0m\u001b[1;33m.\u001b[0m\u001b[0mload\u001b[0m\u001b[1;33m(\u001b[0m\u001b[0mdata\u001b[0m\u001b[1;33m[\u001b[0m\u001b[1;34m'pole'\u001b[0m\u001b[1;33m]\u001b[0m\u001b[1;33m[\u001b[0m\u001b[1;34m'fm'\u001b[0m\u001b[1;33m]\u001b[0m\u001b[1;33m[\u001b[0m\u001b[1;34m'termites'\u001b[0m\u001b[1;33m]\u001b[0m\u001b[1;33m[\u001b[0m\u001b[1;34m'tasks'\u001b[0m\u001b[1;33m]\u001b[0m\u001b[1;33m[\u001b[0m\u001b[1;34m'inspection'\u001b[0m\u001b[1;33m]\u001b[0m\u001b[1;33m)\u001b[0m\u001b[1;33m\u001b[0m\u001b[1;33m\u001b[0m\u001b[0m\n\u001b[0m\u001b[0;32m     10\u001b[0m \u001b[1;33m\u001b[0m\u001b[0m\n\u001b[0;32m     11\u001b[0m \u001b[0mcomp\u001b[0m \u001b[1;33m=\u001b[0m \u001b[0mComponent\u001b[0m\u001b[1;33m.\u001b[0m\u001b[0mload\u001b[0m\u001b[1;33m(\u001b[0m\u001b[0mdemo\u001b[0m\u001b[1;33m.\u001b[0m\u001b[0mcomponent_data\u001b[0m\u001b[1;33m)\u001b[0m\u001b[1;33m\u001b[0m\u001b[1;33m\u001b[0m\u001b[0m\n",
      "\u001b[1;31mKeyError\u001b[0m: 'inspection'"
     ]
    }
   ],
   "source": [
    "from pof.component import Component\n",
    "from pof.failure_mode import FailureMode\n",
    "from pof.task import Inspection, Task\n",
    "\n",
    "fm = FailureMode.load(demo.failure_mode_data['slow_aging'])\n",
    "fm2 = FailureMode.load(data['pole']['fm']['termites'])\n",
    "\n",
    "insp = Inspection.load(demo.inspection_data['instant'])\n",
    "insp2 = Inspection.load(data['pole']['fm']['termites']['tasks']['inspection'])\n",
    "\n",
    "comp = Component.load(demo.component_data)\n",
    "comp2 = Component.load(data['pole'])"
   ]
  },
  {
   "cell_type": "code",
   "execution_count": 29,
   "metadata": {},
   "outputs": [
    {
     "output_type": "stream",
     "name": "stderr",
     "text": [
      "WARNING:root:Invalid Data () - {'task': 'inspection', 'level_of_repair': 'as_bad_as_old', 'admin': 'yes', 'maint': 'no', 'travel': 'yes'}\n",
      "WARNING:root:Invalid Data () - {'task': 'repair', 'level_of_repair': 'grp'}\n",
      "WARNING:root:Invalid Data () - {'task': 'replace', 'level_of_repair': 'as_good_as_new'}\n",
      "WARNING:root:Invalid Data () - {'task': 'replace', 'level_of_repair': 'as_good_as_new'}\n",
      "WARNING:root:Invalid Data () - {'task': 'replace', 'level_of_repair': 'as_good_as_new'}\n",
      "WARNING:root:Invalid Data () - {'task': 'inspection', 'admin': 'yes', 'maint': 'no', 'travel': 'yes'}\n",
      "WARNING:root:Invalid Data () - {'task': 'replace', 'level_of_repair': 'as_good_as_new'}\n",
      "WARNING:root:Invalid Data () - {'task': 'replace', 'level_of_repair': 'as_good_as_new'}\n",
      "WARNING:root:Invalid Data () - {'task': 'inspection', 'level_of_repair': 'as_bad_as_old', 'admin': 'yes', 'maint': 'no', 'travel': 'yes'}\n",
      "WARNING:root:Invalid Data () - {'task': 'repair', 'level_of_repair': 'as_bad_as_old'}\n",
      "WARNING:root:Invalid Data () - {'task': 'replace', 'level_of_repair': 'as_good_as_new'}\n",
      "WARNING:root:Invalid Data () - {'task': 'replace', 'level_of_repair': 'as_good_as_new'}\n",
      "WARNING:root:Invalid Data () - {'task': 'inspection', 'level_of_repair': 'as_bad_as_old'}\n",
      "WARNING:root:Invalid Data () - {'task': 'inspection', 'admin': 'yes', 'maint': 'no', 'travel': 'yes'}\n",
      "WARNING:root:Invalid Data () - {'task': 'replace', 'level_of_repair': 'as_good_as_new'}\n",
      "WARNING:root:Invalid Data () - {'task': 'inspection', 'level_of_repair': 'as_bad_as_old'}\n",
      "WARNING:root:Invalid Data () - {'task': 'replace', 'level_of_repair': 'as_good_as_new'}\n",
      "WARNING:root:Invalid Data () - {'task': 'inspection', 'level_of_repair': 'as_bad_as_old'}\n",
      "WARNING:root:Invalid Data () - {'task': 'replace', 'level_of_repair': 'as_good_as_new'}\n",
      "WARNING:root:Invalid Data () - {'task': 'inspection'}\n",
      "WARNING:root:Invalid Data () - {'task': 'replace', 'level_of_repair': 'as_good_as_new'}\n",
      "WARNING:root:Invalid Data () - {'task': 'replace', 'level_of_repair': 'as_good_as_new'}\n"
     ]
    }
   ],
   "source": [
    "comp = Component.load(data['pole'])"
   ]
  },
  {
   "cell_type": "code",
   "execution_count": 30,
   "metadata": {},
   "outputs": [],
   "source": [
    "for fm in comp.fm.values():\n",
    "    fm.active = False\n",
    "comp.fm['termites'].active = True"
   ]
  },
  {
   "cell_type": "code",
   "execution_count": 33,
   "metadata": {},
   "outputs": [
    {
     "output_type": "stream",
     "name": "stderr",
     "text": [
      "100%|██████████| 10/10 [00:00<00:00, 18.94it/s]\n"
     ]
    },
    {
     "output_type": "display_data",
     "data": {
      "application/vnd.plotly.v1+json": {
       "config": {
        "plotlyServerURL": "https://plot.ly"
       },
       "data": [
        {
         "hovertemplate": "Task=inspection_groundline<br>Failure Mode=termites<br>Time=%{x}<br>Cost Cumulative=%{y}<extra></extra>",
         "legendgroup": "inspection_groundline",
         "line": {
          "color": "rgb(127, 60, 141)"
         },
         "mode": "lines",
         "name": "inspection_groundline",
         "orientation": "v",
         "showlegend": true,
         "stackgroup": "1",
         "type": "scatter",
         "x": [
          0,
          1,
          2,
          3,
          4,
          5,
          6,
          7,
          8,
          9,
          10,
          11,
          12,
          13,
          14,
          15,
          16,
          17,
          18,
          19,
          20,
          21,
          22,
          23,
          24,
          25,
          26,
          27,
          28,
          29,
          30,
          31,
          32,
          33,
          34,
          35,
          36,
          37,
          38,
          39,
          40,
          41,
          42,
          43,
          44,
          45,
          46,
          47,
          48,
          49,
          50,
          51,
          52,
          53,
          54,
          55,
          56,
          57,
          58,
          59,
          60,
          61,
          62,
          63,
          64,
          65,
          66,
          67,
          68,
          69,
          70,
          71,
          72,
          73,
          74,
          75,
          76,
          77,
          78,
          79,
          80,
          81,
          82,
          83,
          84,
          85,
          86,
          87,
          88,
          89,
          90,
          91,
          92,
          93,
          94,
          95,
          96,
          97,
          98,
          99,
          100,
          101,
          102,
          103,
          104,
          105,
          106,
          107,
          108,
          109,
          110,
          111,
          112,
          113,
          114,
          115,
          116,
          117,
          118,
          119,
          120,
          121,
          122,
          123,
          124,
          125,
          126,
          127,
          128,
          129,
          130,
          131,
          132,
          133,
          134,
          135,
          136,
          137,
          138,
          139,
          140,
          141,
          142,
          143,
          144,
          145,
          146,
          147,
          148,
          149,
          150,
          151,
          152,
          153,
          154,
          155,
          156,
          157,
          158,
          159,
          160,
          161,
          162,
          163,
          164,
          165,
          166,
          167,
          168,
          169,
          170,
          171,
          172,
          173,
          174,
          175,
          176,
          177,
          178,
          179,
          180,
          181
         ],
         "xaxis": "x",
         "y": [
          0,
          0,
          0,
          0,
          0,
          0,
          0,
          0,
          0,
          0,
          0,
          0,
          0,
          0,
          0,
          0,
          0,
          0,
          0,
          0,
          50,
          50,
          50,
          50,
          50,
          50,
          100,
          100,
          100,
          100,
          100,
          100,
          150,
          150,
          150,
          150,
          150,
          150,
          200,
          200,
          200,
          200,
          200,
          200,
          250,
          250,
          250,
          250,
          250,
          250,
          300,
          300,
          300,
          300,
          300,
          300,
          345,
          345,
          345,
          345,
          345,
          345,
          390,
          390,
          390,
          390,
          390,
          390,
          430,
          430,
          430,
          430,
          430,
          430,
          465,
          465,
          465,
          465,
          465,
          465,
          495,
          495,
          495,
          495,
          495,
          495,
          520,
          520,
          520,
          520,
          520,
          520,
          545,
          545,
          545,
          545,
          545,
          545,
          570,
          570,
          570,
          570,
          570,
          570,
          595,
          595,
          595,
          595,
          595,
          595,
          615,
          615,
          615,
          615,
          615,
          615,
          635,
          635,
          635,
          635,
          635,
          635,
          655,
          655,
          655,
          655,
          655,
          655,
          670,
          670,
          670,
          670,
          670,
          670,
          685,
          685,
          685,
          685,
          685,
          685,
          700,
          700,
          700,
          700,
          700,
          700,
          715,
          715,
          715,
          715,
          715,
          715,
          730,
          730,
          730,
          730,
          730,
          730,
          740,
          740,
          740,
          740,
          740,
          740,
          750,
          750,
          750,
          750,
          750,
          750,
          760,
          760,
          760,
          760,
          760,
          760,
          770,
          770,
          770,
          770,
          770,
          770
         ],
         "yaxis": "y"
        },
        {
         "hovertemplate": "Task=termite_powder<br>Failure Mode=termites<br>Time=%{x}<br>Cost Cumulative=%{y}<extra></extra>",
         "legendgroup": "termite_powder",
         "line": {
          "color": "rgb(17, 165, 121)"
         },
         "mode": "lines",
         "name": "termite_powder",
         "orientation": "v",
         "showlegend": true,
         "stackgroup": "1",
         "type": "scatter",
         "x": [
          0,
          1,
          2,
          3,
          4,
          5,
          6,
          7,
          8,
          9,
          10,
          11,
          12,
          13,
          14,
          15,
          16,
          17,
          18,
          19,
          20,
          21,
          22,
          23,
          24,
          25,
          26,
          27,
          28,
          29,
          30,
          31,
          32,
          33,
          34,
          35,
          36,
          37,
          38,
          39,
          40,
          41,
          42,
          43,
          44,
          45,
          46,
          47,
          48,
          49,
          50,
          51,
          52,
          53,
          54,
          55,
          56,
          57,
          58,
          59,
          60,
          61,
          62,
          63,
          64,
          65,
          66,
          67,
          68,
          69,
          70,
          71,
          72,
          73,
          74,
          75,
          76,
          77,
          78,
          79,
          80,
          81,
          82,
          83,
          84,
          85,
          86,
          87,
          88,
          89,
          90,
          91,
          92,
          93,
          94,
          95,
          96,
          97,
          98,
          99,
          100,
          101,
          102,
          103,
          104,
          105,
          106,
          107,
          108,
          109,
          110,
          111,
          112,
          113,
          114,
          115,
          116,
          117,
          118,
          119,
          120,
          121,
          122,
          123,
          124,
          125,
          126,
          127,
          128,
          129,
          130,
          131,
          132,
          133,
          134,
          135,
          136,
          137,
          138,
          139,
          140,
          141,
          142,
          143,
          144,
          145,
          146,
          147,
          148,
          149,
          150,
          151,
          152,
          153,
          154,
          155,
          156,
          157,
          158,
          159,
          160,
          161,
          162,
          163,
          164,
          165,
          166,
          167,
          168,
          169,
          170,
          171,
          172,
          173,
          174,
          175,
          176,
          177,
          178,
          179,
          180,
          181
         ],
         "xaxis": "x",
         "y": [
          0,
          0,
          0,
          0,
          0,
          0,
          0,
          0,
          0,
          0,
          0,
          0,
          0,
          0,
          0,
          0,
          0,
          0,
          0,
          0,
          0,
          0,
          0,
          0,
          0,
          0,
          0,
          0,
          0,
          0,
          0,
          0,
          0,
          0,
          0,
          0,
          0,
          0,
          0,
          0,
          0,
          0,
          0,
          0,
          0,
          0,
          0,
          0,
          0,
          0,
          0,
          0,
          0,
          0,
          0,
          0,
          0,
          0,
          0,
          0,
          0,
          0,
          0,
          0,
          0,
          0,
          0,
          0,
          0,
          0,
          0,
          0,
          0,
          0,
          0,
          10,
          10,
          10,
          10,
          10,
          10,
          20,
          20,
          20,
          20,
          20,
          20,
          20,
          20,
          20,
          20,
          20,
          20,
          20,
          20,
          20,
          20,
          20,
          20,
          20,
          20,
          20,
          20,
          20,
          20,
          20,
          20,
          20,
          20,
          20,
          20,
          20,
          20,
          20,
          20,
          20,
          20,
          20,
          20,
          20,
          20,
          20,
          20,
          20,
          20,
          20,
          20,
          20,
          20,
          20,
          20,
          20,
          20,
          20,
          20,
          20,
          20,
          20,
          20,
          20,
          20,
          20,
          20,
          20,
          20,
          20,
          20,
          20,
          20,
          20,
          20,
          20,
          20,
          20,
          20,
          20,
          20,
          20,
          20,
          20,
          20,
          20,
          20,
          20,
          20,
          20,
          20,
          20,
          20,
          20,
          20,
          20,
          20,
          20,
          20,
          20,
          20,
          30,
          30,
          30,
          30,
          30
         ],
         "yaxis": "y"
        },
        {
         "hovertemplate": "Task=CAT3/4 replacement<br>Failure Mode=termites<br>Time=%{x}<br>Cost Cumulative=%{y}<extra></extra>",
         "legendgroup": "CAT3/4 replacement",
         "line": {
          "color": "rgb(57, 105, 172)"
         },
         "mode": "lines",
         "name": "CAT3/4 replacement",
         "orientation": "v",
         "showlegend": true,
         "stackgroup": "1",
         "type": "scatter",
         "x": [
          0,
          1,
          2,
          3,
          4,
          5,
          6,
          7,
          8,
          9,
          10,
          11,
          12,
          13,
          14,
          15,
          16,
          17,
          18,
          19,
          20,
          21,
          22,
          23,
          24,
          25,
          26,
          27,
          28,
          29,
          30,
          31,
          32,
          33,
          34,
          35,
          36,
          37,
          38,
          39,
          40,
          41,
          42,
          43,
          44,
          45,
          46,
          47,
          48,
          49,
          50,
          51,
          52,
          53,
          54,
          55,
          56,
          57,
          58,
          59,
          60,
          61,
          62,
          63,
          64,
          65,
          66,
          67,
          68,
          69,
          70,
          71,
          72,
          73,
          74,
          75,
          76,
          77,
          78,
          79,
          80,
          81,
          82,
          83,
          84,
          85,
          86,
          87,
          88,
          89,
          90,
          91,
          92,
          93,
          94,
          95,
          96,
          97,
          98,
          99,
          100,
          101,
          102,
          103,
          104,
          105,
          106,
          107,
          108,
          109,
          110,
          111,
          112,
          113,
          114,
          115,
          116,
          117,
          118,
          119,
          120,
          121,
          122,
          123,
          124,
          125,
          126,
          127,
          128,
          129,
          130,
          131,
          132,
          133,
          134,
          135,
          136,
          137,
          138,
          139,
          140,
          141,
          142,
          143,
          144,
          145,
          146,
          147,
          148,
          149,
          150,
          151,
          152,
          153,
          154,
          155,
          156,
          157,
          158,
          159,
          160,
          161,
          162,
          163,
          164,
          165,
          166,
          167,
          168,
          169,
          170,
          171,
          172,
          173,
          174,
          175,
          176,
          177,
          178,
          179,
          180,
          181
         ],
         "xaxis": "x",
         "y": [
          0,
          0,
          0,
          0,
          0,
          0,
          0,
          0,
          0,
          0,
          0,
          0,
          0,
          0,
          0,
          0,
          0,
          0,
          0,
          0,
          0,
          0,
          0,
          0,
          0,
          0,
          0,
          0,
          0,
          0,
          0,
          0,
          0,
          0,
          0,
          0,
          0,
          0,
          0,
          0,
          0,
          0,
          0,
          0,
          0,
          0,
          0,
          0,
          0,
          0,
          0,
          0,
          0,
          0,
          0,
          0,
          0,
          0,
          0,
          0,
          0,
          0,
          0,
          0,
          0,
          0,
          0,
          0,
          0,
          0,
          0,
          0,
          0,
          0,
          0,
          350,
          350,
          350,
          350,
          350,
          350,
          700,
          700,
          700,
          700,
          700,
          700,
          700,
          700,
          700,
          700,
          700,
          700,
          700,
          700,
          700,
          700,
          700,
          700,
          700,
          700,
          700,
          700,
          700,
          700,
          700,
          700,
          700,
          700,
          700,
          700,
          700,
          700,
          700,
          700,
          700,
          700,
          700,
          700,
          700,
          700,
          700,
          700,
          700,
          700,
          700,
          700,
          700,
          700,
          700,
          700,
          700,
          700,
          700,
          700,
          700,
          700,
          700,
          700,
          700,
          700,
          700,
          700,
          700,
          700,
          700,
          700,
          700,
          700,
          700,
          700,
          700,
          700,
          700,
          700,
          700,
          700,
          700,
          700,
          700,
          700,
          700,
          700,
          700,
          700,
          700,
          700,
          700,
          700,
          700,
          700,
          700,
          700,
          700,
          700,
          700,
          700,
          1050,
          1050,
          1050,
          1050,
          1050
         ],
         "yaxis": "y"
        },
        {
         "hovertemplate": "Task=CAT1/2 replacement<br>Failure Mode=termites<br>Time=%{x}<br>Cost Cumulative=%{y}<extra></extra>",
         "legendgroup": "CAT1/2 replacement",
         "line": {
          "color": "rgb(242, 183, 1)"
         },
         "mode": "lines",
         "name": "CAT1/2 replacement",
         "orientation": "v",
         "showlegend": true,
         "stackgroup": "1",
         "type": "scatter",
         "x": [
          0,
          1,
          2,
          3,
          4,
          5,
          6,
          7,
          8,
          9,
          10,
          11,
          12,
          13,
          14,
          15,
          16,
          17,
          18,
          19,
          20,
          21,
          22,
          23,
          24,
          25,
          26,
          27,
          28,
          29,
          30,
          31,
          32,
          33,
          34,
          35,
          36,
          37,
          38,
          39,
          40,
          41,
          42,
          43,
          44,
          45,
          46,
          47,
          48,
          49,
          50,
          51,
          52,
          53,
          54,
          55,
          56,
          57,
          58,
          59,
          60,
          61,
          62,
          63,
          64,
          65,
          66,
          67,
          68,
          69,
          70,
          71,
          72,
          73,
          74,
          75,
          76,
          77,
          78,
          79,
          80,
          81,
          82,
          83,
          84,
          85,
          86,
          87,
          88,
          89,
          90,
          91,
          92,
          93,
          94,
          95,
          96,
          97,
          98,
          99,
          100,
          101,
          102,
          103,
          104,
          105,
          106,
          107,
          108,
          109,
          110,
          111,
          112,
          113,
          114,
          115,
          116,
          117,
          118,
          119,
          120,
          121,
          122,
          123,
          124,
          125,
          126,
          127,
          128,
          129,
          130,
          131,
          132,
          133,
          134,
          135,
          136,
          137,
          138,
          139,
          140,
          141,
          142,
          143,
          144,
          145,
          146,
          147,
          148,
          149,
          150,
          151,
          152,
          153,
          154,
          155,
          156,
          157,
          158,
          159,
          160,
          161,
          162,
          163,
          164,
          165,
          166,
          167,
          168,
          169,
          170,
          171,
          172,
          173,
          174,
          175,
          176,
          177,
          178,
          179,
          180,
          181
         ],
         "xaxis": "x",
         "y": [
          0,
          0,
          0,
          0,
          0,
          0,
          0,
          0,
          0,
          0,
          0,
          0,
          0,
          0,
          0,
          0,
          0,
          0,
          0,
          0,
          0,
          0,
          0,
          0,
          0,
          0,
          0,
          0,
          0,
          0,
          0,
          0,
          0,
          0,
          0,
          0,
          0,
          0,
          0,
          0,
          0,
          0,
          0,
          0,
          0,
          0,
          0,
          0,
          0,
          0,
          0,
          0,
          0,
          0,
          0,
          0,
          0,
          0,
          0,
          0,
          0,
          0,
          0,
          0,
          0,
          0,
          0,
          0,
          0,
          0,
          0,
          0,
          0,
          0,
          0,
          0,
          0,
          0,
          0,
          0,
          0,
          0,
          0,
          0,
          0,
          0,
          0,
          0,
          0,
          0,
          0,
          0,
          0,
          0,
          0,
          0,
          0,
          0,
          0,
          0,
          0,
          0,
          0,
          0,
          0,
          0,
          0,
          0,
          0,
          0,
          0,
          0,
          0,
          0,
          0,
          0,
          0,
          0,
          0,
          0,
          0,
          0,
          0,
          0,
          0,
          0,
          0,
          0,
          0,
          0,
          0,
          0,
          0,
          0,
          0,
          0,
          0,
          0,
          0,
          0,
          0,
          0,
          0,
          0,
          0,
          0,
          0,
          0,
          0,
          0,
          0,
          0,
          0,
          0,
          0,
          0,
          0,
          0,
          0,
          0,
          0,
          0,
          0,
          0,
          0,
          0,
          0,
          0,
          0,
          0,
          0,
          0,
          0,
          0,
          0,
          0,
          0,
          0,
          0,
          0,
          0,
          0
         ],
         "yaxis": "y"
        },
        {
         "hovertemplate": "Task=functional_failure<br>Failure Mode=termites<br>Time=%{x}<br>Cost Cumulative=%{y}<extra></extra>",
         "legendgroup": "functional_failure",
         "line": {
          "color": "rgb(231, 63, 116)"
         },
         "mode": "lines",
         "name": "functional_failure",
         "orientation": "v",
         "showlegend": true,
         "stackgroup": "1",
         "type": "scatter",
         "x": [
          0,
          1,
          2,
          3,
          4,
          5,
          6,
          7,
          8,
          9,
          10,
          11,
          12,
          13,
          14,
          15,
          16,
          17,
          18,
          19,
          20,
          21,
          22,
          23,
          24,
          25,
          26,
          27,
          28,
          29,
          30,
          31,
          32,
          33,
          34,
          35,
          36,
          37,
          38,
          39,
          40,
          41,
          42,
          43,
          44,
          45,
          46,
          47,
          48,
          49,
          50,
          51,
          52,
          53,
          54,
          55,
          56,
          57,
          58,
          59,
          60,
          61,
          62,
          63,
          64,
          65,
          66,
          67,
          68,
          69,
          70,
          71,
          72,
          73,
          74,
          75,
          76,
          77,
          78,
          79,
          80,
          81,
          82,
          83,
          84,
          85,
          86,
          87,
          88,
          89,
          90,
          91,
          92,
          93,
          94,
          95,
          96,
          97,
          98,
          99,
          100,
          101,
          102,
          103,
          104,
          105,
          106,
          107,
          108,
          109,
          110,
          111,
          112,
          113,
          114,
          115,
          116,
          117,
          118,
          119,
          120,
          121,
          122,
          123,
          124,
          125,
          126,
          127,
          128,
          129,
          130,
          131,
          132,
          133,
          134,
          135,
          136,
          137,
          138,
          139,
          140,
          141,
          142,
          143,
          144,
          145,
          146,
          147,
          148,
          149,
          150,
          151,
          152,
          153,
          154,
          155,
          156,
          157,
          158,
          159,
          160,
          161,
          162,
          163,
          164,
          165,
          166,
          167,
          168,
          169,
          170,
          171,
          172,
          173,
          174,
          175,
          176,
          177,
          178,
          179,
          180,
          181
         ],
         "xaxis": "x",
         "y": [
          0,
          0,
          0,
          0,
          0,
          0,
          0,
          0,
          0,
          0,
          0,
          0,
          0,
          0,
          0,
          0,
          0,
          0,
          0,
          0,
          0,
          0,
          0,
          0,
          0,
          0,
          0,
          0,
          0,
          0,
          0,
          0,
          0,
          0,
          0,
          0,
          0,
          0,
          0,
          0,
          0,
          0,
          0,
          0,
          0,
          0,
          0,
          0,
          0,
          0,
          0,
          0,
          0,
          0,
          1500,
          1500,
          1500,
          1500,
          1500,
          1500,
          1500,
          1500,
          1500,
          1500,
          3000,
          3000,
          3000,
          3000,
          3000,
          3000,
          3000,
          3000,
          4500,
          4500,
          4500,
          4500,
          4500,
          4500,
          4500,
          4500,
          4500,
          4500,
          4500,
          4500,
          4500,
          4500,
          4500,
          4500,
          4500,
          4500,
          4500,
          4500,
          4500,
          4500,
          4500,
          4500,
          4500,
          4500,
          4500,
          4500,
          4500,
          4500,
          4500,
          4500,
          6000,
          6000,
          6000,
          6000,
          6000,
          6000,
          6000,
          6000,
          6000,
          6000,
          6000,
          6000,
          6000,
          6000,
          6000,
          6000,
          6000,
          6000,
          6000,
          7500,
          7500,
          7500,
          7500,
          7500,
          7500,
          7500,
          7500,
          7500,
          7500,
          7500,
          7500,
          7500,
          7500,
          7500,
          7500,
          7500,
          7500,
          7500,
          7500,
          7500,
          7500,
          7500,
          7500,
          7500,
          7500,
          7500,
          7500,
          7500,
          7500,
          7500,
          7500,
          7500,
          7500,
          9000,
          9000,
          9000,
          9000,
          9000,
          9000,
          9000,
          9000,
          9000,
          9000,
          9000,
          9000,
          9000,
          9000,
          9000,
          9000,
          9000,
          9000,
          9000,
          9000,
          9000,
          9000,
          9000,
          9000,
          10500
         ],
         "yaxis": "y"
        },
        {
         "hovertemplate": "Task=risk<br>Failure Mode=termites<br>Time=%{x}<br>Cost Cumulative=%{y}<extra></extra>",
         "legendgroup": "risk",
         "line": {
          "color": "rgb(128, 186, 90)"
         },
         "mode": "lines",
         "name": "risk",
         "orientation": "v",
         "showlegend": true,
         "stackgroup": "1",
         "type": "scatter",
         "x": [
          0,
          1,
          2,
          3,
          4,
          5,
          6,
          7,
          8,
          9,
          10,
          11,
          12,
          13,
          14,
          15,
          16,
          17,
          18,
          19,
          20,
          21,
          22,
          23,
          24,
          25,
          26,
          27,
          28,
          29,
          30,
          31,
          32,
          33,
          34,
          35,
          36,
          37,
          38,
          39,
          40,
          41,
          42,
          43,
          44,
          45,
          46,
          47,
          48,
          49,
          50,
          51,
          52,
          53,
          54,
          55,
          56,
          57,
          58,
          59,
          60,
          61,
          62,
          63,
          64,
          65,
          66,
          67,
          68,
          69,
          70,
          71,
          72,
          73,
          74,
          75,
          76,
          77,
          78,
          79,
          80,
          81,
          82,
          83,
          84,
          85,
          86,
          87,
          88,
          89,
          90,
          91,
          92,
          93,
          94,
          95,
          96,
          97,
          98,
          99,
          100,
          101,
          102,
          103,
          104,
          105,
          106,
          107,
          108,
          109,
          110,
          111,
          112,
          113,
          114,
          115,
          116,
          117,
          118,
          119,
          120,
          121,
          122,
          123,
          124,
          125,
          126,
          127,
          128,
          129,
          130,
          131,
          132,
          133,
          134,
          135,
          136,
          137,
          138,
          139,
          140,
          141,
          142,
          143,
          144,
          145,
          146,
          147,
          148,
          149,
          150,
          151,
          152,
          153,
          154,
          155,
          156,
          157,
          158,
          159,
          160,
          161,
          162,
          163,
          164,
          165,
          166,
          167,
          168,
          169,
          170,
          171,
          172,
          173,
          174,
          175,
          176,
          177,
          178,
          179,
          180,
          181
         ],
         "xaxis": "x",
         "y": [
          0,
          0,
          0,
          0,
          0,
          0,
          0,
          0,
          0,
          0,
          0,
          0,
          0,
          0,
          0,
          0,
          0,
          0,
          0,
          0,
          0,
          0,
          0,
          0,
          0,
          0,
          0,
          0,
          0,
          0,
          0,
          0,
          0,
          0,
          0,
          0,
          0,
          0,
          0,
          0,
          0,
          0,
          0,
          0,
          0,
          0,
          0,
          0,
          0,
          0,
          0,
          0,
          0,
          0,
          5000,
          5000,
          5000,
          5000,
          5000,
          5000,
          5000,
          5000,
          5000,
          5000,
          10000,
          10000,
          10000,
          10000,
          10000,
          10000,
          10000,
          10000,
          15000,
          15000,
          15000,
          15000,
          15000,
          15000,
          15000,
          15000,
          15000,
          15000,
          15000,
          15000,
          15000,
          15000,
          15000,
          15000,
          15000,
          15000,
          15000,
          15000,
          15000,
          15000,
          15000,
          15000,
          15000,
          15000,
          15000,
          15000,
          15000,
          15000,
          15000,
          15000,
          20000,
          20000,
          20000,
          20000,
          20000,
          20000,
          20000,
          20000,
          20000,
          20000,
          20000,
          20000,
          20000,
          20000,
          20000,
          20000,
          20000,
          20000,
          20000,
          25000,
          25000,
          25000,
          25000,
          25000,
          25000,
          25000,
          25000,
          25000,
          25000,
          25000,
          25000,
          25000,
          25000,
          25000,
          25000,
          25000,
          25000,
          25000,
          25000,
          25000,
          25000,
          25000,
          25000,
          25000,
          25000,
          25000,
          25000,
          25000,
          25000,
          25000,
          25000,
          25000,
          25000,
          30000,
          30000,
          30000,
          30000,
          30000,
          30000,
          30000,
          30000,
          30000,
          30000,
          30000,
          30000,
          30000,
          30000,
          30000,
          30000,
          30000,
          30000,
          30000,
          30000,
          30000,
          30000,
          30000,
          30000,
          35000
         ],
         "yaxis": "y"
        }
       ],
       "layout": {
        "legend": {
         "title": {
          "text": "Task"
         },
         "tracegroupgap": 0
        },
        "template": {
         "data": {
          "bar": [
           {
            "error_x": {
             "color": "#2a3f5f"
            },
            "error_y": {
             "color": "#2a3f5f"
            },
            "marker": {
             "line": {
              "color": "#E5ECF6",
              "width": 0.5
             }
            },
            "type": "bar"
           }
          ],
          "barpolar": [
           {
            "marker": {
             "line": {
              "color": "#E5ECF6",
              "width": 0.5
             }
            },
            "type": "barpolar"
           }
          ],
          "carpet": [
           {
            "aaxis": {
             "endlinecolor": "#2a3f5f",
             "gridcolor": "white",
             "linecolor": "white",
             "minorgridcolor": "white",
             "startlinecolor": "#2a3f5f"
            },
            "baxis": {
             "endlinecolor": "#2a3f5f",
             "gridcolor": "white",
             "linecolor": "white",
             "minorgridcolor": "white",
             "startlinecolor": "#2a3f5f"
            },
            "type": "carpet"
           }
          ],
          "choropleth": [
           {
            "colorbar": {
             "outlinewidth": 0,
             "ticks": ""
            },
            "type": "choropleth"
           }
          ],
          "contour": [
           {
            "colorbar": {
             "outlinewidth": 0,
             "ticks": ""
            },
            "colorscale": [
             [
              0,
              "#0d0887"
             ],
             [
              0.1111111111111111,
              "#46039f"
             ],
             [
              0.2222222222222222,
              "#7201a8"
             ],
             [
              0.3333333333333333,
              "#9c179e"
             ],
             [
              0.4444444444444444,
              "#bd3786"
             ],
             [
              0.5555555555555556,
              "#d8576b"
             ],
             [
              0.6666666666666666,
              "#ed7953"
             ],
             [
              0.7777777777777778,
              "#fb9f3a"
             ],
             [
              0.8888888888888888,
              "#fdca26"
             ],
             [
              1,
              "#f0f921"
             ]
            ],
            "type": "contour"
           }
          ],
          "contourcarpet": [
           {
            "colorbar": {
             "outlinewidth": 0,
             "ticks": ""
            },
            "type": "contourcarpet"
           }
          ],
          "heatmap": [
           {
            "colorbar": {
             "outlinewidth": 0,
             "ticks": ""
            },
            "colorscale": [
             [
              0,
              "#0d0887"
             ],
             [
              0.1111111111111111,
              "#46039f"
             ],
             [
              0.2222222222222222,
              "#7201a8"
             ],
             [
              0.3333333333333333,
              "#9c179e"
             ],
             [
              0.4444444444444444,
              "#bd3786"
             ],
             [
              0.5555555555555556,
              "#d8576b"
             ],
             [
              0.6666666666666666,
              "#ed7953"
             ],
             [
              0.7777777777777778,
              "#fb9f3a"
             ],
             [
              0.8888888888888888,
              "#fdca26"
             ],
             [
              1,
              "#f0f921"
             ]
            ],
            "type": "heatmap"
           }
          ],
          "heatmapgl": [
           {
            "colorbar": {
             "outlinewidth": 0,
             "ticks": ""
            },
            "colorscale": [
             [
              0,
              "#0d0887"
             ],
             [
              0.1111111111111111,
              "#46039f"
             ],
             [
              0.2222222222222222,
              "#7201a8"
             ],
             [
              0.3333333333333333,
              "#9c179e"
             ],
             [
              0.4444444444444444,
              "#bd3786"
             ],
             [
              0.5555555555555556,
              "#d8576b"
             ],
             [
              0.6666666666666666,
              "#ed7953"
             ],
             [
              0.7777777777777778,
              "#fb9f3a"
             ],
             [
              0.8888888888888888,
              "#fdca26"
             ],
             [
              1,
              "#f0f921"
             ]
            ],
            "type": "heatmapgl"
           }
          ],
          "histogram": [
           {
            "marker": {
             "colorbar": {
              "outlinewidth": 0,
              "ticks": ""
             }
            },
            "type": "histogram"
           }
          ],
          "histogram2d": [
           {
            "colorbar": {
             "outlinewidth": 0,
             "ticks": ""
            },
            "colorscale": [
             [
              0,
              "#0d0887"
             ],
             [
              0.1111111111111111,
              "#46039f"
             ],
             [
              0.2222222222222222,
              "#7201a8"
             ],
             [
              0.3333333333333333,
              "#9c179e"
             ],
             [
              0.4444444444444444,
              "#bd3786"
             ],
             [
              0.5555555555555556,
              "#d8576b"
             ],
             [
              0.6666666666666666,
              "#ed7953"
             ],
             [
              0.7777777777777778,
              "#fb9f3a"
             ],
             [
              0.8888888888888888,
              "#fdca26"
             ],
             [
              1,
              "#f0f921"
             ]
            ],
            "type": "histogram2d"
           }
          ],
          "histogram2dcontour": [
           {
            "colorbar": {
             "outlinewidth": 0,
             "ticks": ""
            },
            "colorscale": [
             [
              0,
              "#0d0887"
             ],
             [
              0.1111111111111111,
              "#46039f"
             ],
             [
              0.2222222222222222,
              "#7201a8"
             ],
             [
              0.3333333333333333,
              "#9c179e"
             ],
             [
              0.4444444444444444,
              "#bd3786"
             ],
             [
              0.5555555555555556,
              "#d8576b"
             ],
             [
              0.6666666666666666,
              "#ed7953"
             ],
             [
              0.7777777777777778,
              "#fb9f3a"
             ],
             [
              0.8888888888888888,
              "#fdca26"
             ],
             [
              1,
              "#f0f921"
             ]
            ],
            "type": "histogram2dcontour"
           }
          ],
          "mesh3d": [
           {
            "colorbar": {
             "outlinewidth": 0,
             "ticks": ""
            },
            "type": "mesh3d"
           }
          ],
          "parcoords": [
           {
            "line": {
             "colorbar": {
              "outlinewidth": 0,
              "ticks": ""
             }
            },
            "type": "parcoords"
           }
          ],
          "pie": [
           {
            "automargin": true,
            "type": "pie"
           }
          ],
          "scatter": [
           {
            "marker": {
             "colorbar": {
              "outlinewidth": 0,
              "ticks": ""
             }
            },
            "type": "scatter"
           }
          ],
          "scatter3d": [
           {
            "line": {
             "colorbar": {
              "outlinewidth": 0,
              "ticks": ""
             }
            },
            "marker": {
             "colorbar": {
              "outlinewidth": 0,
              "ticks": ""
             }
            },
            "type": "scatter3d"
           }
          ],
          "scattercarpet": [
           {
            "marker": {
             "colorbar": {
              "outlinewidth": 0,
              "ticks": ""
             }
            },
            "type": "scattercarpet"
           }
          ],
          "scattergeo": [
           {
            "marker": {
             "colorbar": {
              "outlinewidth": 0,
              "ticks": ""
             }
            },
            "type": "scattergeo"
           }
          ],
          "scattergl": [
           {
            "marker": {
             "colorbar": {
              "outlinewidth": 0,
              "ticks": ""
             }
            },
            "type": "scattergl"
           }
          ],
          "scattermapbox": [
           {
            "marker": {
             "colorbar": {
              "outlinewidth": 0,
              "ticks": ""
             }
            },
            "type": "scattermapbox"
           }
          ],
          "scatterpolar": [
           {
            "marker": {
             "colorbar": {
              "outlinewidth": 0,
              "ticks": ""
             }
            },
            "type": "scatterpolar"
           }
          ],
          "scatterpolargl": [
           {
            "marker": {
             "colorbar": {
              "outlinewidth": 0,
              "ticks": ""
             }
            },
            "type": "scatterpolargl"
           }
          ],
          "scatterternary": [
           {
            "marker": {
             "colorbar": {
              "outlinewidth": 0,
              "ticks": ""
             }
            },
            "type": "scatterternary"
           }
          ],
          "surface": [
           {
            "colorbar": {
             "outlinewidth": 0,
             "ticks": ""
            },
            "colorscale": [
             [
              0,
              "#0d0887"
             ],
             [
              0.1111111111111111,
              "#46039f"
             ],
             [
              0.2222222222222222,
              "#7201a8"
             ],
             [
              0.3333333333333333,
              "#9c179e"
             ],
             [
              0.4444444444444444,
              "#bd3786"
             ],
             [
              0.5555555555555556,
              "#d8576b"
             ],
             [
              0.6666666666666666,
              "#ed7953"
             ],
             [
              0.7777777777777778,
              "#fb9f3a"
             ],
             [
              0.8888888888888888,
              "#fdca26"
             ],
             [
              1,
              "#f0f921"
             ]
            ],
            "type": "surface"
           }
          ],
          "table": [
           {
            "cells": {
             "fill": {
              "color": "#EBF0F8"
             },
             "line": {
              "color": "white"
             }
            },
            "header": {
             "fill": {
              "color": "#C8D4E3"
             },
             "line": {
              "color": "white"
             }
            },
            "type": "table"
           }
          ]
         },
         "layout": {
          "annotationdefaults": {
           "arrowcolor": "#2a3f5f",
           "arrowhead": 0,
           "arrowwidth": 1
          },
          "coloraxis": {
           "colorbar": {
            "outlinewidth": 0,
            "ticks": ""
           }
          },
          "colorscale": {
           "diverging": [
            [
             0,
             "#8e0152"
            ],
            [
             0.1,
             "#c51b7d"
            ],
            [
             0.2,
             "#de77ae"
            ],
            [
             0.3,
             "#f1b6da"
            ],
            [
             0.4,
             "#fde0ef"
            ],
            [
             0.5,
             "#f7f7f7"
            ],
            [
             0.6,
             "#e6f5d0"
            ],
            [
             0.7,
             "#b8e186"
            ],
            [
             0.8,
             "#7fbc41"
            ],
            [
             0.9,
             "#4d9221"
            ],
            [
             1,
             "#276419"
            ]
           ],
           "sequential": [
            [
             0,
             "#0d0887"
            ],
            [
             0.1111111111111111,
             "#46039f"
            ],
            [
             0.2222222222222222,
             "#7201a8"
            ],
            [
             0.3333333333333333,
             "#9c179e"
            ],
            [
             0.4444444444444444,
             "#bd3786"
            ],
            [
             0.5555555555555556,
             "#d8576b"
            ],
            [
             0.6666666666666666,
             "#ed7953"
            ],
            [
             0.7777777777777778,
             "#fb9f3a"
            ],
            [
             0.8888888888888888,
             "#fdca26"
            ],
            [
             1,
             "#f0f921"
            ]
           ],
           "sequentialminus": [
            [
             0,
             "#0d0887"
            ],
            [
             0.1111111111111111,
             "#46039f"
            ],
            [
             0.2222222222222222,
             "#7201a8"
            ],
            [
             0.3333333333333333,
             "#9c179e"
            ],
            [
             0.4444444444444444,
             "#bd3786"
            ],
            [
             0.5555555555555556,
             "#d8576b"
            ],
            [
             0.6666666666666666,
             "#ed7953"
            ],
            [
             0.7777777777777778,
             "#fb9f3a"
            ],
            [
             0.8888888888888888,
             "#fdca26"
            ],
            [
             1,
             "#f0f921"
            ]
           ]
          },
          "colorway": [
           "#636efa",
           "#EF553B",
           "#00cc96",
           "#ab63fa",
           "#FFA15A",
           "#19d3f3",
           "#FF6692",
           "#B6E880",
           "#FF97FF",
           "#FECB52"
          ],
          "font": {
           "color": "#2a3f5f"
          },
          "geo": {
           "bgcolor": "white",
           "lakecolor": "white",
           "landcolor": "#E5ECF6",
           "showlakes": true,
           "showland": true,
           "subunitcolor": "white"
          },
          "hoverlabel": {
           "align": "left"
          },
          "hovermode": "closest",
          "mapbox": {
           "style": "light"
          },
          "paper_bgcolor": "white",
          "plot_bgcolor": "#E5ECF6",
          "polar": {
           "angularaxis": {
            "gridcolor": "white",
            "linecolor": "white",
            "ticks": ""
           },
           "bgcolor": "#E5ECF6",
           "radialaxis": {
            "gridcolor": "white",
            "linecolor": "white",
            "ticks": ""
           }
          },
          "scene": {
           "xaxis": {
            "backgroundcolor": "#E5ECF6",
            "gridcolor": "white",
            "gridwidth": 2,
            "linecolor": "white",
            "showbackground": true,
            "ticks": "",
            "zerolinecolor": "white"
           },
           "yaxis": {
            "backgroundcolor": "#E5ECF6",
            "gridcolor": "white",
            "gridwidth": 2,
            "linecolor": "white",
            "showbackground": true,
            "ticks": "",
            "zerolinecolor": "white"
           },
           "zaxis": {
            "backgroundcolor": "#E5ECF6",
            "gridcolor": "white",
            "gridwidth": 2,
            "linecolor": "white",
            "showbackground": true,
            "ticks": "",
            "zerolinecolor": "white"
           }
          },
          "shapedefaults": {
           "line": {
            "color": "#2a3f5f"
           }
          },
          "ternary": {
           "aaxis": {
            "gridcolor": "white",
            "linecolor": "white",
            "ticks": ""
           },
           "baxis": {
            "gridcolor": "white",
            "linecolor": "white",
            "ticks": ""
           },
           "bgcolor": "#E5ECF6",
           "caxis": {
            "gridcolor": "white",
            "linecolor": "white",
            "ticks": ""
           }
          },
          "title": {
           "x": 0.05
          },
          "xaxis": {
           "automargin": true,
           "gridcolor": "white",
           "linecolor": "white",
           "ticks": "",
           "title": {
            "standoff": 15
           },
           "zerolinecolor": "white",
           "zerolinewidth": 2
          },
          "yaxis": {
           "automargin": true,
           "gridcolor": "white",
           "linecolor": "white",
           "ticks": "",
           "title": {
            "standoff": 15
           },
           "zerolinecolor": "white",
           "zerolinewidth": 2
          }
         }
        },
        "title": {
         "text": "Maintenance Strategy Costs"
        },
        "xaxis": {
         "anchor": "y",
         "automargin": true,
         "domain": [
          0,
          1
         ],
         "title": {
          "text": "Time"
         }
        },
        "yaxis": {
         "anchor": "x",
         "automargin": true,
         "domain": [
          0,
          1
         ],
         "title": {
          "text": "Cost Cumulative"
         }
        }
       }
      }
     },
     "metadata": {}
    }
   ],
   "source": [
    "comp.mc_timeline(200)\n",
    "comp.expected_risk_cost_df()\n",
    "comp.plot_ms()\n"
   ]
  },
  {
   "cell_type": "code",
   "execution_count": null,
   "metadata": {},
   "outputs": [],
   "source": []
  },
  {
   "cell_type": "code",
   "execution_count": 5,
   "metadata": {
    "tags": []
   },
   "outputs": [
    {
     "output_type": "stream",
     "name": "stdout",
     "text": "{   'conditions': {   'external_diameter': {   'failed': 0.0,\n                                               'name': 'external_diameter',\n                                               'perfect': 250.0,\n                                               'pf_curve': 'linear',\n                                               'pf_interval': 8.0,\n                                               'pf_std': 0.0},\n                      'wall_thickness': {   'failed': 0.0,\n                                            'name': 'wall_thickness',\n                                            'perfect': 125.0,\n                                            'pf_curve': 'linear',\n                                            'pf_interval': 8.0,\n                                            'pf_std': 0.0}},\n    'name': 'termites',\n    'tasks': {   'CAT1/2 replacement': {   'Level of Failure': 'component',\n                                           'activity': 'ConditionTask',\n                                           'cost': 7000.0,\n                                           'impacts': {   'condition': {   'all': {   'axis': 'condition',\n                                                                                      'method': 'reduction_factor',\n                                                                                      'target': 1.0}},\n                                                          'state': {   'detection': False,\n                                                                       'failure': False,\n                                                                       'initiation': False},\n                                                          'time': {}},\n                                           'level_of_repair': 'as_good_as_new',\n                                           'name': 'CAT1/2 replacement',\n                                           'p_effective': 1.0,\n                                           'task': 'replace',\n                                           'trigger': 'condition',\n                                           'triggers': {   'condition': {},\n                                                           'state': {   'failure': True},\n                                                           'time': {}}},\n                 'CAT3/4 replacement': {   'Level of Failure': 'component',\n                                           'activity': 'ConditionTask',\n                                           'cost': 3500.0,\n                                           'impacts': {   'condition': {   'all': {   'axis': 'condition',\n                                                                                      'method': 'reduction_factor',\n                                                                                      'target': 1.0}},\n                                                          'state': {   'detection': False,\n                                                                       'failure': False,\n                                                                       'initiation': False},\n                                                          'time': {}},\n                                           'level_of_repair': 'as_good_as_new',\n                                           'name': 'CAT3/4 replacement',\n                                           'p_effective': 1.0,\n                                           'task': 'replace',\n                                           'trigger': 'condition',\n                                           'triggers': {   'condition': {   'external_diameter': {   'lower': 0.0,\n                                                                                                     'upper': 50},\n                                                                            'wall_thickness': {   'lower': 0.0,\n                                                                                                  'upper': 50}},\n                                                           'state': {   'detection': True,\n                                                                        'failure': False,\n                                                                        'initiation': True},\n                                                           'time': {}}},\n                 'inspection': {   'activity': 'Inspection',\n                                   'admin': 'yes',\n                                   'cost': 50.0,\n                                   'impacts': {   'condition': {},\n                                                  'state': {'detection': True},\n                                                  'time': {}},\n                                   'level_of_repair': 'as_bad_as_old',\n                                   'maint': 'no',\n                                   'name': 'inspection',\n                                   'p_effective': 0.8,\n                                   't_delay': 20.0,\n                                   't_interval': 5.0,\n                                   'task': 'inspection',\n                                   'task_group_name': 'level_3_inspection',\n                                   'travel': 'yes',\n                                   'trigger': 'time',\n                                   'triggers': {   'condition': {   'external_diameter': {   'lower': 0.0,\n                                                                                             'upper': -10},\n                                                                    'wall_thickness': {   'lower': 0.0,\n                                                                                          'upper': -20}},\n                                                   'state': {   'initiation': True},\n                                                   'time': {}}},\n                 'termite_powder': {   'Level of Failure': 'fm',\n                                       'activity': 'ConditionTask',\n                                       'cost': 100.0,\n                                       'impacts': {   'condition': {   'all': {   'axis': 'condition',\n                                                                                  'method': 'reduction_factor',\n                                                                                  'target': 0.0}},\n                                                      'state': {   'detection': False,\n                                                                   'failure': False,\n                                                                   'initiation': False},\n                                                      'time': {}},\n                                       'level_of_repair': 'grp',\n                                       'name': 'termite_powder',\n                                       'p_effective': 0.9,\n                                       'task': 'repair',\n                                       'trigger': 'condition',\n                                       'triggers': {   'condition': {   'external_diameter': {   'lower': 50.0,\n                                                                                                 'upper': 'max'},\n                                                                        'wall_thickness': {   'lower': 50.0,\n                                                                                              'upper': 'max'}},\n                                                       'state': {   'detection': True,\n                                                                    'failure': False,\n                                                                    'initiation': True},\n                                                       'time': {}}}},\n    'untreated': {   'alpha': 50.0,\n                     'beta': 1.5,\n                     'gamma': 10.0,\n                     'name': 'untreated',\n                     'pf_curve': 'linear',\n                     'pf_interval': 8.0,\n                     'pf_std': 1.0}}\n"
    }
   ],
   "source": [
    "pp.pprint(data['pole']['fm']['termites'])"
   ]
  },
  {
   "cell_type": "code",
   "execution_count": null,
   "metadata": {},
   "outputs": [],
   "source": []
  },
  {
   "cell_type": "code",
   "execution_count": 6,
   "metadata": {
    "tags": []
   },
   "outputs": [
    {
     "output_type": "display_data",
     "data": {
      "text/plain": "<Figure size 1728x288 with 3 Axes>",
      "image/svg+xml": "<?xml version=\"1.0\" encoding=\"utf-8\" standalone=\"no\"?>\r\n<!DOCTYPE svg PUBLIC \"-//W3C//DTD SVG 1.1//EN\"\r\n  \"http://www.w3.org/Graphics/SVG/1.1/DTD/svg11.dtd\">\r\n<!-- Created with matplotlib (https://matplotlib.org/) -->\r\n<svg height=\"263.63625pt\" version=\"1.1\" viewBox=\"0 0 1376.503125 263.63625\" width=\"1376.503125pt\" xmlns=\"http://www.w3.org/2000/svg\" xmlns:xlink=\"http://www.w3.org/1999/xlink\">\r\n <metadata>\r\n  <rdf:RDF xmlns:cc=\"http://creativecommons.org/ns#\" xmlns:dc=\"http://purl.org/dc/elements/1.1/\" xmlns:rdf=\"http://www.w3.org/1999/02/22-rdf-syntax-ns#\">\r\n   <cc:Work>\r\n    <dc:type rdf:resource=\"http://purl.org/dc/dcmitype/StillImage\"/>\r\n    <dc:date>2020-09-11T03:10:08.240276</dc:date>\r\n    <dc:format>image/svg+xml</dc:format>\r\n    <dc:creator>\r\n     <cc:Agent>\r\n      <dc:title>Matplotlib v3.3.1, https://matplotlib.org/</dc:title>\r\n     </cc:Agent>\r\n    </dc:creator>\r\n   </cc:Work>\r\n  </rdf:RDF>\r\n </metadata>\r\n <defs>\r\n  <style type=\"text/css\">*{stroke-linecap:butt;stroke-linejoin:round;}</style>\r\n </defs>\r\n <g id=\"figure_1\">\r\n  <g id=\"patch_1\">\r\n   <path d=\"M 0 263.63625 \r\nL 1376.503125 263.63625 \r\nL 1376.503125 0 \r\nL 0 0 \r\nz\r\n\" style=\"fill:none;\"/>\r\n  </g>\r\n  <g id=\"axes_1\">\r\n   <g id=\"patch_2\">\r\n    <path d=\"M 30.103125 239.758125 \r\nL 423.985478 239.758125 \r\nL 423.985478 22.318125 \r\nL 30.103125 22.318125 \r\nz\r\n\" style=\"fill:#ffffff;\"/>\r\n   </g>\r\n   <g id=\"matplotlib.axis_1\">\r\n    <g id=\"xtick_1\">\r\n     <g id=\"line2d_1\">\r\n      <defs>\r\n       <path d=\"M 0 0 \r\nL 0 3.5 \r\n\" id=\"m2a2e4f10ae\" style=\"stroke:#000000;stroke-width:0.8;\"/>\r\n      </defs>\r\n      <g>\r\n       <use style=\"stroke:#000000;stroke-width:0.8;\" x=\"48.006868\" xlink:href=\"#m2a2e4f10ae\" y=\"239.758125\"/>\r\n      </g>\r\n     </g>\r\n     <g id=\"text_1\">\r\n      <!-- 0 -->\r\n      <g transform=\"translate(44.825618 254.356563)scale(0.1 -0.1)\">\r\n       <defs>\r\n        <path d=\"M 31.78125 66.40625 \r\nQ 24.171875 66.40625 20.328125 58.90625 \r\nQ 16.5 51.421875 16.5 36.375 \r\nQ 16.5 21.390625 20.328125 13.890625 \r\nQ 24.171875 6.390625 31.78125 6.390625 \r\nQ 39.453125 6.390625 43.28125 13.890625 \r\nQ 47.125 21.390625 47.125 36.375 \r\nQ 47.125 51.421875 43.28125 58.90625 \r\nQ 39.453125 66.40625 31.78125 66.40625 \r\nz\r\nM 31.78125 74.21875 \r\nQ 44.046875 74.21875 50.515625 64.515625 \r\nQ 56.984375 54.828125 56.984375 36.375 \r\nQ 56.984375 17.96875 50.515625 8.265625 \r\nQ 44.046875 -1.421875 31.78125 -1.421875 \r\nQ 19.53125 -1.421875 13.0625 8.265625 \r\nQ 6.59375 17.96875 6.59375 36.375 \r\nQ 6.59375 54.828125 13.0625 64.515625 \r\nQ 19.53125 74.21875 31.78125 74.21875 \r\nz\r\n\" id=\"DejaVuSans-48\"/>\r\n       </defs>\r\n       <use xlink:href=\"#DejaVuSans-48\"/>\r\n      </g>\r\n     </g>\r\n    </g>\r\n    <g id=\"xtick_2\">\r\n     <g id=\"line2d_2\">\r\n      <g>\r\n       <use style=\"stroke:#000000;stroke-width:0.8;\" x=\"92.766227\" xlink:href=\"#m2a2e4f10ae\" y=\"239.758125\"/>\r\n      </g>\r\n     </g>\r\n     <g id=\"text_2\">\r\n      <!-- 25 -->\r\n      <g transform=\"translate(86.403727 254.356563)scale(0.1 -0.1)\">\r\n       <defs>\r\n        <path d=\"M 19.1875 8.296875 \r\nL 53.609375 8.296875 \r\nL 53.609375 0 \r\nL 7.328125 0 \r\nL 7.328125 8.296875 \r\nQ 12.9375 14.109375 22.625 23.890625 \r\nQ 32.328125 33.6875 34.8125 36.53125 \r\nQ 39.546875 41.84375 41.421875 45.53125 \r\nQ 43.3125 49.21875 43.3125 52.78125 \r\nQ 43.3125 58.59375 39.234375 62.25 \r\nQ 35.15625 65.921875 28.609375 65.921875 \r\nQ 23.96875 65.921875 18.8125 64.3125 \r\nQ 13.671875 62.703125 7.8125 59.421875 \r\nL 7.8125 69.390625 \r\nQ 13.765625 71.78125 18.9375 73 \r\nQ 24.125 74.21875 28.421875 74.21875 \r\nQ 39.75 74.21875 46.484375 68.546875 \r\nQ 53.21875 62.890625 53.21875 53.421875 \r\nQ 53.21875 48.921875 51.53125 44.890625 \r\nQ 49.859375 40.875 45.40625 35.40625 \r\nQ 44.1875 33.984375 37.640625 27.21875 \r\nQ 31.109375 20.453125 19.1875 8.296875 \r\nz\r\n\" id=\"DejaVuSans-50\"/>\r\n        <path d=\"M 10.796875 72.90625 \r\nL 49.515625 72.90625 \r\nL 49.515625 64.59375 \r\nL 19.828125 64.59375 \r\nL 19.828125 46.734375 \r\nQ 21.96875 47.46875 24.109375 47.828125 \r\nQ 26.265625 48.1875 28.421875 48.1875 \r\nQ 40.625 48.1875 47.75 41.5 \r\nQ 54.890625 34.8125 54.890625 23.390625 \r\nQ 54.890625 11.625 47.5625 5.09375 \r\nQ 40.234375 -1.421875 26.90625 -1.421875 \r\nQ 22.3125 -1.421875 17.546875 -0.640625 \r\nQ 12.796875 0.140625 7.71875 1.703125 \r\nL 7.71875 11.625 \r\nQ 12.109375 9.234375 16.796875 8.0625 \r\nQ 21.484375 6.890625 26.703125 6.890625 \r\nQ 35.15625 6.890625 40.078125 11.328125 \r\nQ 45.015625 15.765625 45.015625 23.390625 \r\nQ 45.015625 31 40.078125 35.4375 \r\nQ 35.15625 39.890625 26.703125 39.890625 \r\nQ 22.75 39.890625 18.8125 39.015625 \r\nQ 14.890625 38.140625 10.796875 36.28125 \r\nz\r\n\" id=\"DejaVuSans-53\"/>\r\n       </defs>\r\n       <use xlink:href=\"#DejaVuSans-50\"/>\r\n       <use x=\"63.623047\" xlink:href=\"#DejaVuSans-53\"/>\r\n      </g>\r\n     </g>\r\n    </g>\r\n    <g id=\"xtick_3\">\r\n     <g id=\"line2d_3\">\r\n      <g>\r\n       <use style=\"stroke:#000000;stroke-width:0.8;\" x=\"137.525585\" xlink:href=\"#m2a2e4f10ae\" y=\"239.758125\"/>\r\n      </g>\r\n     </g>\r\n     <g id=\"text_3\">\r\n      <!-- 50 -->\r\n      <g transform=\"translate(131.163085 254.356563)scale(0.1 -0.1)\">\r\n       <use xlink:href=\"#DejaVuSans-53\"/>\r\n       <use x=\"63.623047\" xlink:href=\"#DejaVuSans-48\"/>\r\n      </g>\r\n     </g>\r\n    </g>\r\n    <g id=\"xtick_4\">\r\n     <g id=\"line2d_4\">\r\n      <g>\r\n       <use style=\"stroke:#000000;stroke-width:0.8;\" x=\"182.284943\" xlink:href=\"#m2a2e4f10ae\" y=\"239.758125\"/>\r\n      </g>\r\n     </g>\r\n     <g id=\"text_4\">\r\n      <!-- 75 -->\r\n      <g transform=\"translate(175.922443 254.356563)scale(0.1 -0.1)\">\r\n       <defs>\r\n        <path d=\"M 8.203125 72.90625 \r\nL 55.078125 72.90625 \r\nL 55.078125 68.703125 \r\nL 28.609375 0 \r\nL 18.3125 0 \r\nL 43.21875 64.59375 \r\nL 8.203125 64.59375 \r\nz\r\n\" id=\"DejaVuSans-55\"/>\r\n       </defs>\r\n       <use xlink:href=\"#DejaVuSans-55\"/>\r\n       <use x=\"63.623047\" xlink:href=\"#DejaVuSans-53\"/>\r\n      </g>\r\n     </g>\r\n    </g>\r\n    <g id=\"xtick_5\">\r\n     <g id=\"line2d_5\">\r\n      <g>\r\n       <use style=\"stroke:#000000;stroke-width:0.8;\" x=\"227.044301\" xlink:href=\"#m2a2e4f10ae\" y=\"239.758125\"/>\r\n      </g>\r\n     </g>\r\n     <g id=\"text_5\">\r\n      <!-- 100 -->\r\n      <g transform=\"translate(217.500551 254.356563)scale(0.1 -0.1)\">\r\n       <defs>\r\n        <path d=\"M 12.40625 8.296875 \r\nL 28.515625 8.296875 \r\nL 28.515625 63.921875 \r\nL 10.984375 60.40625 \r\nL 10.984375 69.390625 \r\nL 28.421875 72.90625 \r\nL 38.28125 72.90625 \r\nL 38.28125 8.296875 \r\nL 54.390625 8.296875 \r\nL 54.390625 0 \r\nL 12.40625 0 \r\nz\r\n\" id=\"DejaVuSans-49\"/>\r\n       </defs>\r\n       <use xlink:href=\"#DejaVuSans-49\"/>\r\n       <use x=\"63.623047\" xlink:href=\"#DejaVuSans-48\"/>\r\n       <use x=\"127.246094\" xlink:href=\"#DejaVuSans-48\"/>\r\n      </g>\r\n     </g>\r\n    </g>\r\n    <g id=\"xtick_6\">\r\n     <g id=\"line2d_6\">\r\n      <g>\r\n       <use style=\"stroke:#000000;stroke-width:0.8;\" x=\"271.80366\" xlink:href=\"#m2a2e4f10ae\" y=\"239.758125\"/>\r\n      </g>\r\n     </g>\r\n     <g id=\"text_6\">\r\n      <!-- 125 -->\r\n      <g transform=\"translate(262.25991 254.356563)scale(0.1 -0.1)\">\r\n       <use xlink:href=\"#DejaVuSans-49\"/>\r\n       <use x=\"63.623047\" xlink:href=\"#DejaVuSans-50\"/>\r\n       <use x=\"127.246094\" xlink:href=\"#DejaVuSans-53\"/>\r\n      </g>\r\n     </g>\r\n    </g>\r\n    <g id=\"xtick_7\">\r\n     <g id=\"line2d_7\">\r\n      <g>\r\n       <use style=\"stroke:#000000;stroke-width:0.8;\" x=\"316.563018\" xlink:href=\"#m2a2e4f10ae\" y=\"239.758125\"/>\r\n      </g>\r\n     </g>\r\n     <g id=\"text_7\">\r\n      <!-- 150 -->\r\n      <g transform=\"translate(307.019268 254.356563)scale(0.1 -0.1)\">\r\n       <use xlink:href=\"#DejaVuSans-49\"/>\r\n       <use x=\"63.623047\" xlink:href=\"#DejaVuSans-53\"/>\r\n       <use x=\"127.246094\" xlink:href=\"#DejaVuSans-48\"/>\r\n      </g>\r\n     </g>\r\n    </g>\r\n    <g id=\"xtick_8\">\r\n     <g id=\"line2d_8\">\r\n      <g>\r\n       <use style=\"stroke:#000000;stroke-width:0.8;\" x=\"361.322376\" xlink:href=\"#m2a2e4f10ae\" y=\"239.758125\"/>\r\n      </g>\r\n     </g>\r\n     <g id=\"text_8\">\r\n      <!-- 175 -->\r\n      <g transform=\"translate(351.778626 254.356563)scale(0.1 -0.1)\">\r\n       <use xlink:href=\"#DejaVuSans-49\"/>\r\n       <use x=\"63.623047\" xlink:href=\"#DejaVuSans-55\"/>\r\n       <use x=\"127.246094\" xlink:href=\"#DejaVuSans-53\"/>\r\n      </g>\r\n     </g>\r\n    </g>\r\n    <g id=\"xtick_9\">\r\n     <g id=\"line2d_9\">\r\n      <g>\r\n       <use style=\"stroke:#000000;stroke-width:0.8;\" x=\"406.081735\" xlink:href=\"#m2a2e4f10ae\" y=\"239.758125\"/>\r\n      </g>\r\n     </g>\r\n     <g id=\"text_9\">\r\n      <!-- 200 -->\r\n      <g transform=\"translate(396.537985 254.356563)scale(0.1 -0.1)\">\r\n       <use xlink:href=\"#DejaVuSans-50\"/>\r\n       <use x=\"63.623047\" xlink:href=\"#DejaVuSans-48\"/>\r\n       <use x=\"127.246094\" xlink:href=\"#DejaVuSans-48\"/>\r\n      </g>\r\n     </g>\r\n    </g>\r\n   </g>\r\n   <g id=\"matplotlib.axis_2\">\r\n    <g id=\"ytick_1\">\r\n     <g id=\"line2d_10\">\r\n      <defs>\r\n       <path d=\"M 0 0 \r\nL -3.5 0 \r\n\" id=\"m5abc2c1c38\" style=\"stroke:#000000;stroke-width:0.8;\"/>\r\n      </defs>\r\n      <g>\r\n       <use style=\"stroke:#000000;stroke-width:0.8;\" x=\"30.103125\" xlink:href=\"#m5abc2c1c38\" y=\"229.874489\"/>\r\n      </g>\r\n     </g>\r\n     <g id=\"text_10\">\r\n      <!-- 0.0 -->\r\n      <g transform=\"translate(7.2 233.673707)scale(0.1 -0.1)\">\r\n       <defs>\r\n        <path d=\"M 10.6875 12.40625 \r\nL 21 12.40625 \r\nL 21 0 \r\nL 10.6875 0 \r\nz\r\n\" id=\"DejaVuSans-46\"/>\r\n       </defs>\r\n       <use xlink:href=\"#DejaVuSans-48\"/>\r\n       <use x=\"63.623047\" xlink:href=\"#DejaVuSans-46\"/>\r\n       <use x=\"95.410156\" xlink:href=\"#DejaVuSans-48\"/>\r\n      </g>\r\n     </g>\r\n    </g>\r\n    <g id=\"ytick_2\">\r\n     <g id=\"line2d_11\">\r\n      <g>\r\n       <use style=\"stroke:#000000;stroke-width:0.8;\" x=\"30.103125\" xlink:href=\"#m5abc2c1c38\" y=\"190.339943\"/>\r\n      </g>\r\n     </g>\r\n     <g id=\"text_11\">\r\n      <!-- 0.2 -->\r\n      <g transform=\"translate(7.2 194.139162)scale(0.1 -0.1)\">\r\n       <use xlink:href=\"#DejaVuSans-48\"/>\r\n       <use x=\"63.623047\" xlink:href=\"#DejaVuSans-46\"/>\r\n       <use x=\"95.410156\" xlink:href=\"#DejaVuSans-50\"/>\r\n      </g>\r\n     </g>\r\n    </g>\r\n    <g id=\"ytick_3\">\r\n     <g id=\"line2d_12\">\r\n      <g>\r\n       <use style=\"stroke:#000000;stroke-width:0.8;\" x=\"30.103125\" xlink:href=\"#m5abc2c1c38\" y=\"150.805398\"/>\r\n      </g>\r\n     </g>\r\n     <g id=\"text_12\">\r\n      <!-- 0.4 -->\r\n      <g transform=\"translate(7.2 154.604616)scale(0.1 -0.1)\">\r\n       <defs>\r\n        <path d=\"M 37.796875 64.3125 \r\nL 12.890625 25.390625 \r\nL 37.796875 25.390625 \r\nz\r\nM 35.203125 72.90625 \r\nL 47.609375 72.90625 \r\nL 47.609375 25.390625 \r\nL 58.015625 25.390625 \r\nL 58.015625 17.1875 \r\nL 47.609375 17.1875 \r\nL 47.609375 0 \r\nL 37.796875 0 \r\nL 37.796875 17.1875 \r\nL 4.890625 17.1875 \r\nL 4.890625 26.703125 \r\nz\r\n\" id=\"DejaVuSans-52\"/>\r\n       </defs>\r\n       <use xlink:href=\"#DejaVuSans-48\"/>\r\n       <use x=\"63.623047\" xlink:href=\"#DejaVuSans-46\"/>\r\n       <use x=\"95.410156\" xlink:href=\"#DejaVuSans-52\"/>\r\n      </g>\r\n     </g>\r\n    </g>\r\n    <g id=\"ytick_4\">\r\n     <g id=\"line2d_13\">\r\n      <g>\r\n       <use style=\"stroke:#000000;stroke-width:0.8;\" x=\"30.103125\" xlink:href=\"#m5abc2c1c38\" y=\"111.270852\"/>\r\n      </g>\r\n     </g>\r\n     <g id=\"text_13\">\r\n      <!-- 0.6 -->\r\n      <g transform=\"translate(7.2 115.070071)scale(0.1 -0.1)\">\r\n       <defs>\r\n        <path d=\"M 33.015625 40.375 \r\nQ 26.375 40.375 22.484375 35.828125 \r\nQ 18.609375 31.296875 18.609375 23.390625 \r\nQ 18.609375 15.53125 22.484375 10.953125 \r\nQ 26.375 6.390625 33.015625 6.390625 \r\nQ 39.65625 6.390625 43.53125 10.953125 \r\nQ 47.40625 15.53125 47.40625 23.390625 \r\nQ 47.40625 31.296875 43.53125 35.828125 \r\nQ 39.65625 40.375 33.015625 40.375 \r\nz\r\nM 52.59375 71.296875 \r\nL 52.59375 62.3125 \r\nQ 48.875 64.0625 45.09375 64.984375 \r\nQ 41.3125 65.921875 37.59375 65.921875 \r\nQ 27.828125 65.921875 22.671875 59.328125 \r\nQ 17.53125 52.734375 16.796875 39.40625 \r\nQ 19.671875 43.65625 24.015625 45.921875 \r\nQ 28.375 48.1875 33.59375 48.1875 \r\nQ 44.578125 48.1875 50.953125 41.515625 \r\nQ 57.328125 34.859375 57.328125 23.390625 \r\nQ 57.328125 12.15625 50.6875 5.359375 \r\nQ 44.046875 -1.421875 33.015625 -1.421875 \r\nQ 20.359375 -1.421875 13.671875 8.265625 \r\nQ 6.984375 17.96875 6.984375 36.375 \r\nQ 6.984375 53.65625 15.1875 63.9375 \r\nQ 23.390625 74.21875 37.203125 74.21875 \r\nQ 40.921875 74.21875 44.703125 73.484375 \r\nQ 48.484375 72.75 52.59375 71.296875 \r\nz\r\n\" id=\"DejaVuSans-54\"/>\r\n       </defs>\r\n       <use xlink:href=\"#DejaVuSans-48\"/>\r\n       <use x=\"63.623047\" xlink:href=\"#DejaVuSans-46\"/>\r\n       <use x=\"95.410156\" xlink:href=\"#DejaVuSans-54\"/>\r\n      </g>\r\n     </g>\r\n    </g>\r\n    <g id=\"ytick_5\">\r\n     <g id=\"line2d_14\">\r\n      <g>\r\n       <use style=\"stroke:#000000;stroke-width:0.8;\" x=\"30.103125\" xlink:href=\"#m5abc2c1c38\" y=\"71.736307\"/>\r\n      </g>\r\n     </g>\r\n     <g id=\"text_14\">\r\n      <!-- 0.8 -->\r\n      <g transform=\"translate(7.2 75.535526)scale(0.1 -0.1)\">\r\n       <defs>\r\n        <path d=\"M 31.78125 34.625 \r\nQ 24.75 34.625 20.71875 30.859375 \r\nQ 16.703125 27.09375 16.703125 20.515625 \r\nQ 16.703125 13.921875 20.71875 10.15625 \r\nQ 24.75 6.390625 31.78125 6.390625 \r\nQ 38.8125 6.390625 42.859375 10.171875 \r\nQ 46.921875 13.96875 46.921875 20.515625 \r\nQ 46.921875 27.09375 42.890625 30.859375 \r\nQ 38.875 34.625 31.78125 34.625 \r\nz\r\nM 21.921875 38.8125 \r\nQ 15.578125 40.375 12.03125 44.71875 \r\nQ 8.5 49.078125 8.5 55.328125 \r\nQ 8.5 64.0625 14.71875 69.140625 \r\nQ 20.953125 74.21875 31.78125 74.21875 \r\nQ 42.671875 74.21875 48.875 69.140625 \r\nQ 55.078125 64.0625 55.078125 55.328125 \r\nQ 55.078125 49.078125 51.53125 44.71875 \r\nQ 48 40.375 41.703125 38.8125 \r\nQ 48.828125 37.15625 52.796875 32.3125 \r\nQ 56.78125 27.484375 56.78125 20.515625 \r\nQ 56.78125 9.90625 50.3125 4.234375 \r\nQ 43.84375 -1.421875 31.78125 -1.421875 \r\nQ 19.734375 -1.421875 13.25 4.234375 \r\nQ 6.78125 9.90625 6.78125 20.515625 \r\nQ 6.78125 27.484375 10.78125 32.3125 \r\nQ 14.796875 37.15625 21.921875 38.8125 \r\nz\r\nM 18.3125 54.390625 \r\nQ 18.3125 48.734375 21.84375 45.5625 \r\nQ 25.390625 42.390625 31.78125 42.390625 \r\nQ 38.140625 42.390625 41.71875 45.5625 \r\nQ 45.3125 48.734375 45.3125 54.390625 \r\nQ 45.3125 60.0625 41.71875 63.234375 \r\nQ 38.140625 66.40625 31.78125 66.40625 \r\nQ 25.390625 66.40625 21.84375 63.234375 \r\nQ 18.3125 60.0625 18.3125 54.390625 \r\nz\r\n\" id=\"DejaVuSans-56\"/>\r\n       </defs>\r\n       <use xlink:href=\"#DejaVuSans-48\"/>\r\n       <use x=\"63.623047\" xlink:href=\"#DejaVuSans-46\"/>\r\n       <use x=\"95.410156\" xlink:href=\"#DejaVuSans-56\"/>\r\n      </g>\r\n     </g>\r\n    </g>\r\n    <g id=\"ytick_6\">\r\n     <g id=\"line2d_15\">\r\n      <g>\r\n       <use style=\"stroke:#000000;stroke-width:0.8;\" x=\"30.103125\" xlink:href=\"#m5abc2c1c38\" y=\"32.201761\"/>\r\n      </g>\r\n     </g>\r\n     <g id=\"text_15\">\r\n      <!-- 1.0 -->\r\n      <g transform=\"translate(7.2 36.00098)scale(0.1 -0.1)\">\r\n       <use xlink:href=\"#DejaVuSans-49\"/>\r\n       <use x=\"63.623047\" xlink:href=\"#DejaVuSans-46\"/>\r\n       <use x=\"95.410156\" xlink:href=\"#DejaVuSans-48\"/>\r\n      </g>\r\n     </g>\r\n    </g>\r\n   </g>\r\n   <g id=\"line2d_16\">\r\n    <path clip-path=\"url(#p6eada4d899)\" d=\"M 48.006868 229.874489 \r\nL 110.66997 229.874489 \r\nL 112.460344 32.201761 \r\nL 114.250719 229.874489 \r\nL 128.573713 229.874489 \r\nL 130.364088 32.201761 \r\nL 133.944836 32.201761 \r\nL 135.735211 229.874489 \r\nL 244.948045 229.874489 \r\nL 246.738419 32.201761 \r\nL 248.528793 229.874489 \r\nL 307.611146 229.874489 \r\nL 309.401521 32.201761 \r\nL 311.191895 229.874489 \r\nL 397.129863 229.874489 \r\nL 398.920237 32.201761 \r\nL 400.710612 229.874489 \r\nL 406.081735 229.874489 \r\nL 406.081735 229.874489 \r\n\" style=\"fill:none;stroke:#1f77b4;stroke-linecap:square;stroke-width:1.5;\"/>\r\n   </g>\r\n   <g id=\"line2d_17\">\r\n    <path clip-path=\"url(#p6eada4d899)\" d=\"M 48.006868 229.874489 \r\nL 307.611146 229.874489 \r\nL 309.401521 32.201761 \r\nL 311.191895 229.874489 \r\nL 406.081735 229.874489 \r\nL 406.081735 229.874489 \r\n\" style=\"fill:none;stroke:#ff7f0e;stroke-linecap:square;stroke-width:1.5;\"/>\r\n   </g>\r\n   <g id=\"line2d_18\">\r\n    <path clip-path=\"url(#p6eada4d899)\" d=\"M 48.006868 229.874489 \r\nL 107.089221 229.874489 \r\nL 108.879596 32.201761 \r\nL 112.460344 32.201761 \r\nL 114.250719 229.874489 \r\nL 123.20259 229.874489 \r\nL 124.992965 32.201761 \r\nL 133.944836 32.201761 \r\nL 135.735211 229.874489 \r\nL 237.786547 229.874489 \r\nL 239.576922 32.201761 \r\nL 246.738419 32.201761 \r\nL 248.528793 229.874489 \r\nL 300.449649 229.874489 \r\nL 302.240023 32.201761 \r\nL 309.401521 32.201761 \r\nL 311.191895 229.874489 \r\nL 391.75874 229.874489 \r\nL 393.549114 32.201761 \r\nL 398.920237 32.201761 \r\nL 400.710612 229.874489 \r\nL 404.29136 229.874489 \r\nL 406.081735 32.201761 \r\nL 406.081735 32.201761 \r\n\" style=\"fill:none;stroke:#2ca02c;stroke-linecap:square;stroke-width:1.5;\"/>\r\n   </g>\r\n   <g id=\"patch_3\">\r\n    <path d=\"M 30.103125 239.758125 \r\nL 30.103125 22.318125 \r\n\" style=\"fill:none;stroke:#000000;stroke-linecap:square;stroke-linejoin:miter;stroke-width:0.8;\"/>\r\n   </g>\r\n   <g id=\"patch_4\">\r\n    <path d=\"M 423.985478 239.758125 \r\nL 423.985478 22.318125 \r\n\" style=\"fill:none;stroke:#000000;stroke-linecap:square;stroke-linejoin:miter;stroke-width:0.8;\"/>\r\n   </g>\r\n   <g id=\"patch_5\">\r\n    <path d=\"M 30.103125 239.758125 \r\nL 423.985478 239.758125 \r\n\" style=\"fill:none;stroke:#000000;stroke-linecap:square;stroke-linejoin:miter;stroke-width:0.8;\"/>\r\n   </g>\r\n   <g id=\"patch_6\">\r\n    <path d=\"M 30.103125 22.318125 \r\nL 423.985478 22.318125 \r\n\" style=\"fill:none;stroke:#000000;stroke-linecap:square;stroke-linejoin:miter;stroke-width:0.8;\"/>\r\n   </g>\r\n   <g id=\"text_16\">\r\n    <!-- State -->\r\n    <g transform=\"translate(211.162114 16.318125)scale(0.12 -0.12)\">\r\n     <defs>\r\n      <path d=\"M 53.515625 70.515625 \r\nL 53.515625 60.890625 \r\nQ 47.90625 63.578125 42.921875 64.890625 \r\nQ 37.9375 66.21875 33.296875 66.21875 \r\nQ 25.25 66.21875 20.875 63.09375 \r\nQ 16.5 59.96875 16.5 54.203125 \r\nQ 16.5 49.359375 19.40625 46.890625 \r\nQ 22.3125 44.4375 30.421875 42.921875 \r\nL 36.375 41.703125 \r\nQ 47.40625 39.59375 52.65625 34.296875 \r\nQ 57.90625 29 57.90625 20.125 \r\nQ 57.90625 9.515625 50.796875 4.046875 \r\nQ 43.703125 -1.421875 29.984375 -1.421875 \r\nQ 24.8125 -1.421875 18.96875 -0.25 \r\nQ 13.140625 0.921875 6.890625 3.21875 \r\nL 6.890625 13.375 \r\nQ 12.890625 10.015625 18.65625 8.296875 \r\nQ 24.421875 6.59375 29.984375 6.59375 \r\nQ 38.421875 6.59375 43.015625 9.90625 \r\nQ 47.609375 13.234375 47.609375 19.390625 \r\nQ 47.609375 24.75 44.3125 27.78125 \r\nQ 41.015625 30.8125 33.5 32.328125 \r\nL 27.484375 33.5 \r\nQ 16.453125 35.6875 11.515625 40.375 \r\nQ 6.59375 45.0625 6.59375 53.421875 \r\nQ 6.59375 63.09375 13.40625 68.65625 \r\nQ 20.21875 74.21875 32.171875 74.21875 \r\nQ 37.3125 74.21875 42.625 73.28125 \r\nQ 47.953125 72.359375 53.515625 70.515625 \r\nz\r\n\" id=\"DejaVuSans-83\"/>\r\n      <path d=\"M 18.3125 70.21875 \r\nL 18.3125 54.6875 \r\nL 36.8125 54.6875 \r\nL 36.8125 47.703125 \r\nL 18.3125 47.703125 \r\nL 18.3125 18.015625 \r\nQ 18.3125 11.328125 20.140625 9.421875 \r\nQ 21.96875 7.515625 27.59375 7.515625 \r\nL 36.8125 7.515625 \r\nL 36.8125 0 \r\nL 27.59375 0 \r\nQ 17.1875 0 13.234375 3.875 \r\nQ 9.28125 7.765625 9.28125 18.015625 \r\nL 9.28125 47.703125 \r\nL 2.6875 47.703125 \r\nL 2.6875 54.6875 \r\nL 9.28125 54.6875 \r\nL 9.28125 70.21875 \r\nz\r\n\" id=\"DejaVuSans-116\"/>\r\n      <path d=\"M 34.28125 27.484375 \r\nQ 23.390625 27.484375 19.1875 25 \r\nQ 14.984375 22.515625 14.984375 16.5 \r\nQ 14.984375 11.71875 18.140625 8.90625 \r\nQ 21.296875 6.109375 26.703125 6.109375 \r\nQ 34.1875 6.109375 38.703125 11.40625 \r\nQ 43.21875 16.703125 43.21875 25.484375 \r\nL 43.21875 27.484375 \r\nz\r\nM 52.203125 31.203125 \r\nL 52.203125 0 \r\nL 43.21875 0 \r\nL 43.21875 8.296875 \r\nQ 40.140625 3.328125 35.546875 0.953125 \r\nQ 30.953125 -1.421875 24.3125 -1.421875 \r\nQ 15.921875 -1.421875 10.953125 3.296875 \r\nQ 6 8.015625 6 15.921875 \r\nQ 6 25.140625 12.171875 29.828125 \r\nQ 18.359375 34.515625 30.609375 34.515625 \r\nL 43.21875 34.515625 \r\nL 43.21875 35.40625 \r\nQ 43.21875 41.609375 39.140625 45 \r\nQ 35.0625 48.390625 27.6875 48.390625 \r\nQ 23 48.390625 18.546875 47.265625 \r\nQ 14.109375 46.140625 10.015625 43.890625 \r\nL 10.015625 52.203125 \r\nQ 14.9375 54.109375 19.578125 55.046875 \r\nQ 24.21875 56 28.609375 56 \r\nQ 40.484375 56 46.34375 49.84375 \r\nQ 52.203125 43.703125 52.203125 31.203125 \r\nz\r\n\" id=\"DejaVuSans-97\"/>\r\n      <path d=\"M 56.203125 29.59375 \r\nL 56.203125 25.203125 \r\nL 14.890625 25.203125 \r\nQ 15.484375 15.921875 20.484375 11.0625 \r\nQ 25.484375 6.203125 34.421875 6.203125 \r\nQ 39.59375 6.203125 44.453125 7.46875 \r\nQ 49.3125 8.734375 54.109375 11.28125 \r\nL 54.109375 2.78125 \r\nQ 49.265625 0.734375 44.1875 -0.34375 \r\nQ 39.109375 -1.421875 33.890625 -1.421875 \r\nQ 20.796875 -1.421875 13.15625 6.1875 \r\nQ 5.515625 13.8125 5.515625 26.8125 \r\nQ 5.515625 40.234375 12.765625 48.109375 \r\nQ 20.015625 56 32.328125 56 \r\nQ 43.359375 56 49.78125 48.890625 \r\nQ 56.203125 41.796875 56.203125 29.59375 \r\nz\r\nM 47.21875 32.234375 \r\nQ 47.125 39.59375 43.09375 43.984375 \r\nQ 39.0625 48.390625 32.421875 48.390625 \r\nQ 24.90625 48.390625 20.390625 44.140625 \r\nQ 15.875 39.890625 15.1875 32.171875 \r\nz\r\n\" id=\"DejaVuSans-101\"/>\r\n     </defs>\r\n     <use xlink:href=\"#DejaVuSans-83\"/>\r\n     <use x=\"63.476562\" xlink:href=\"#DejaVuSans-116\"/>\r\n     <use x=\"102.685547\" xlink:href=\"#DejaVuSans-97\"/>\r\n     <use x=\"163.964844\" xlink:href=\"#DejaVuSans-116\"/>\r\n     <use x=\"203.173828\" xlink:href=\"#DejaVuSans-101\"/>\r\n    </g>\r\n   </g>\r\n   <g id=\"legend_1\">\r\n    <g id=\"patch_7\">\r\n     <path d=\"M 337.757353 154.555313 \r\nL 416.985478 154.555313 \r\nQ 418.985478 154.555313 418.985478 152.555313 \r\nL 418.985478 109.520938 \r\nQ 418.985478 107.520938 416.985478 107.520938 \r\nL 337.757353 107.520938 \r\nQ 335.757353 107.520938 335.757353 109.520938 \r\nL 335.757353 152.555313 \r\nQ 335.757353 154.555313 337.757353 154.555313 \r\nz\r\n\" style=\"fill:#ffffff;opacity:0.8;stroke:#cccccc;stroke-linejoin:miter;\"/>\r\n    </g>\r\n    <g id=\"line2d_19\">\r\n     <path d=\"M 339.757353 115.619375 \r\nL 359.757353 115.619375 \r\n\" style=\"fill:none;stroke:#1f77b4;stroke-linecap:square;stroke-width:1.5;\"/>\r\n    </g>\r\n    <g id=\"line2d_20\"/>\r\n    <g id=\"text_17\">\r\n     <!-- detection -->\r\n     <g transform=\"translate(367.757353 119.119375)scale(0.1 -0.1)\">\r\n      <defs>\r\n       <path d=\"M 45.40625 46.390625 \r\nL 45.40625 75.984375 \r\nL 54.390625 75.984375 \r\nL 54.390625 0 \r\nL 45.40625 0 \r\nL 45.40625 8.203125 \r\nQ 42.578125 3.328125 38.25 0.953125 \r\nQ 33.9375 -1.421875 27.875 -1.421875 \r\nQ 17.96875 -1.421875 11.734375 6.484375 \r\nQ 5.515625 14.40625 5.515625 27.296875 \r\nQ 5.515625 40.1875 11.734375 48.09375 \r\nQ 17.96875 56 27.875 56 \r\nQ 33.9375 56 38.25 53.625 \r\nQ 42.578125 51.265625 45.40625 46.390625 \r\nz\r\nM 14.796875 27.296875 \r\nQ 14.796875 17.390625 18.875 11.75 \r\nQ 22.953125 6.109375 30.078125 6.109375 \r\nQ 37.203125 6.109375 41.296875 11.75 \r\nQ 45.40625 17.390625 45.40625 27.296875 \r\nQ 45.40625 37.203125 41.296875 42.84375 \r\nQ 37.203125 48.484375 30.078125 48.484375 \r\nQ 22.953125 48.484375 18.875 42.84375 \r\nQ 14.796875 37.203125 14.796875 27.296875 \r\nz\r\n\" id=\"DejaVuSans-100\"/>\r\n       <path d=\"M 48.78125 52.59375 \r\nL 48.78125 44.1875 \r\nQ 44.96875 46.296875 41.140625 47.34375 \r\nQ 37.3125 48.390625 33.40625 48.390625 \r\nQ 24.65625 48.390625 19.8125 42.84375 \r\nQ 14.984375 37.3125 14.984375 27.296875 \r\nQ 14.984375 17.28125 19.8125 11.734375 \r\nQ 24.65625 6.203125 33.40625 6.203125 \r\nQ 37.3125 6.203125 41.140625 7.25 \r\nQ 44.96875 8.296875 48.78125 10.40625 \r\nL 48.78125 2.09375 \r\nQ 45.015625 0.34375 40.984375 -0.53125 \r\nQ 36.96875 -1.421875 32.421875 -1.421875 \r\nQ 20.0625 -1.421875 12.78125 6.34375 \r\nQ 5.515625 14.109375 5.515625 27.296875 \r\nQ 5.515625 40.671875 12.859375 48.328125 \r\nQ 20.21875 56 33.015625 56 \r\nQ 37.15625 56 41.109375 55.140625 \r\nQ 45.0625 54.296875 48.78125 52.59375 \r\nz\r\n\" id=\"DejaVuSans-99\"/>\r\n       <path d=\"M 9.421875 54.6875 \r\nL 18.40625 54.6875 \r\nL 18.40625 0 \r\nL 9.421875 0 \r\nz\r\nM 9.421875 75.984375 \r\nL 18.40625 75.984375 \r\nL 18.40625 64.59375 \r\nL 9.421875 64.59375 \r\nz\r\n\" id=\"DejaVuSans-105\"/>\r\n       <path d=\"M 30.609375 48.390625 \r\nQ 23.390625 48.390625 19.1875 42.75 \r\nQ 14.984375 37.109375 14.984375 27.296875 \r\nQ 14.984375 17.484375 19.15625 11.84375 \r\nQ 23.34375 6.203125 30.609375 6.203125 \r\nQ 37.796875 6.203125 41.984375 11.859375 \r\nQ 46.1875 17.53125 46.1875 27.296875 \r\nQ 46.1875 37.015625 41.984375 42.703125 \r\nQ 37.796875 48.390625 30.609375 48.390625 \r\nz\r\nM 30.609375 56 \r\nQ 42.328125 56 49.015625 48.375 \r\nQ 55.71875 40.765625 55.71875 27.296875 \r\nQ 55.71875 13.875 49.015625 6.21875 \r\nQ 42.328125 -1.421875 30.609375 -1.421875 \r\nQ 18.84375 -1.421875 12.171875 6.21875 \r\nQ 5.515625 13.875 5.515625 27.296875 \r\nQ 5.515625 40.765625 12.171875 48.375 \r\nQ 18.84375 56 30.609375 56 \r\nz\r\n\" id=\"DejaVuSans-111\"/>\r\n       <path d=\"M 54.890625 33.015625 \r\nL 54.890625 0 \r\nL 45.90625 0 \r\nL 45.90625 32.71875 \r\nQ 45.90625 40.484375 42.875 44.328125 \r\nQ 39.84375 48.1875 33.796875 48.1875 \r\nQ 26.515625 48.1875 22.3125 43.546875 \r\nQ 18.109375 38.921875 18.109375 30.90625 \r\nL 18.109375 0 \r\nL 9.078125 0 \r\nL 9.078125 54.6875 \r\nL 18.109375 54.6875 \r\nL 18.109375 46.1875 \r\nQ 21.34375 51.125 25.703125 53.5625 \r\nQ 30.078125 56 35.796875 56 \r\nQ 45.21875 56 50.046875 50.171875 \r\nQ 54.890625 44.34375 54.890625 33.015625 \r\nz\r\n\" id=\"DejaVuSans-110\"/>\r\n      </defs>\r\n      <use xlink:href=\"#DejaVuSans-100\"/>\r\n      <use x=\"63.476562\" xlink:href=\"#DejaVuSans-101\"/>\r\n      <use x=\"125\" xlink:href=\"#DejaVuSans-116\"/>\r\n      <use x=\"164.208984\" xlink:href=\"#DejaVuSans-101\"/>\r\n      <use x=\"225.732422\" xlink:href=\"#DejaVuSans-99\"/>\r\n      <use x=\"280.712891\" xlink:href=\"#DejaVuSans-116\"/>\r\n      <use x=\"319.921875\" xlink:href=\"#DejaVuSans-105\"/>\r\n      <use x=\"347.705078\" xlink:href=\"#DejaVuSans-111\"/>\r\n      <use x=\"408.886719\" xlink:href=\"#DejaVuSans-110\"/>\r\n     </g>\r\n    </g>\r\n    <g id=\"line2d_21\">\r\n     <path d=\"M 339.757353 130.2975 \r\nL 359.757353 130.2975 \r\n\" style=\"fill:none;stroke:#ff7f0e;stroke-linecap:square;stroke-width:1.5;\"/>\r\n    </g>\r\n    <g id=\"line2d_22\"/>\r\n    <g id=\"text_18\">\r\n     <!-- failure -->\r\n     <g transform=\"translate(367.757353 133.7975)scale(0.1 -0.1)\">\r\n      <defs>\r\n       <path d=\"M 37.109375 75.984375 \r\nL 37.109375 68.5 \r\nL 28.515625 68.5 \r\nQ 23.6875 68.5 21.796875 66.546875 \r\nQ 19.921875 64.59375 19.921875 59.515625 \r\nL 19.921875 54.6875 \r\nL 34.71875 54.6875 \r\nL 34.71875 47.703125 \r\nL 19.921875 47.703125 \r\nL 19.921875 0 \r\nL 10.890625 0 \r\nL 10.890625 47.703125 \r\nL 2.296875 47.703125 \r\nL 2.296875 54.6875 \r\nL 10.890625 54.6875 \r\nL 10.890625 58.5 \r\nQ 10.890625 67.625 15.140625 71.796875 \r\nQ 19.390625 75.984375 28.609375 75.984375 \r\nz\r\n\" id=\"DejaVuSans-102\"/>\r\n       <path d=\"M 9.421875 75.984375 \r\nL 18.40625 75.984375 \r\nL 18.40625 0 \r\nL 9.421875 0 \r\nz\r\n\" id=\"DejaVuSans-108\"/>\r\n       <path d=\"M 8.5 21.578125 \r\nL 8.5 54.6875 \r\nL 17.484375 54.6875 \r\nL 17.484375 21.921875 \r\nQ 17.484375 14.15625 20.5 10.265625 \r\nQ 23.53125 6.390625 29.59375 6.390625 \r\nQ 36.859375 6.390625 41.078125 11.03125 \r\nQ 45.3125 15.671875 45.3125 23.6875 \r\nL 45.3125 54.6875 \r\nL 54.296875 54.6875 \r\nL 54.296875 0 \r\nL 45.3125 0 \r\nL 45.3125 8.40625 \r\nQ 42.046875 3.421875 37.71875 1 \r\nQ 33.40625 -1.421875 27.6875 -1.421875 \r\nQ 18.265625 -1.421875 13.375 4.4375 \r\nQ 8.5 10.296875 8.5 21.578125 \r\nz\r\nM 31.109375 56 \r\nz\r\n\" id=\"DejaVuSans-117\"/>\r\n       <path d=\"M 41.109375 46.296875 \r\nQ 39.59375 47.171875 37.8125 47.578125 \r\nQ 36.03125 48 33.890625 48 \r\nQ 26.265625 48 22.1875 43.046875 \r\nQ 18.109375 38.09375 18.109375 28.8125 \r\nL 18.109375 0 \r\nL 9.078125 0 \r\nL 9.078125 54.6875 \r\nL 18.109375 54.6875 \r\nL 18.109375 46.1875 \r\nQ 20.953125 51.171875 25.484375 53.578125 \r\nQ 30.03125 56 36.53125 56 \r\nQ 37.453125 56 38.578125 55.875 \r\nQ 39.703125 55.765625 41.0625 55.515625 \r\nz\r\n\" id=\"DejaVuSans-114\"/>\r\n      </defs>\r\n      <use xlink:href=\"#DejaVuSans-102\"/>\r\n      <use x=\"35.205078\" xlink:href=\"#DejaVuSans-97\"/>\r\n      <use x=\"96.484375\" xlink:href=\"#DejaVuSans-105\"/>\r\n      <use x=\"124.267578\" xlink:href=\"#DejaVuSans-108\"/>\r\n      <use x=\"152.050781\" xlink:href=\"#DejaVuSans-117\"/>\r\n      <use x=\"215.429688\" xlink:href=\"#DejaVuSans-114\"/>\r\n      <use x=\"254.292969\" xlink:href=\"#DejaVuSans-101\"/>\r\n     </g>\r\n    </g>\r\n    <g id=\"line2d_23\">\r\n     <path d=\"M 339.757353 144.975625 \r\nL 359.757353 144.975625 \r\n\" style=\"fill:none;stroke:#2ca02c;stroke-linecap:square;stroke-width:1.5;\"/>\r\n    </g>\r\n    <g id=\"line2d_24\"/>\r\n    <g id=\"text_19\">\r\n     <!-- initiation -->\r\n     <g transform=\"translate(367.757353 148.475625)scale(0.1 -0.1)\">\r\n      <use xlink:href=\"#DejaVuSans-105\"/>\r\n      <use x=\"27.783203\" xlink:href=\"#DejaVuSans-110\"/>\r\n      <use x=\"91.162109\" xlink:href=\"#DejaVuSans-105\"/>\r\n      <use x=\"118.945312\" xlink:href=\"#DejaVuSans-116\"/>\r\n      <use x=\"158.154297\" xlink:href=\"#DejaVuSans-105\"/>\r\n      <use x=\"185.9375\" xlink:href=\"#DejaVuSans-97\"/>\r\n      <use x=\"247.216797\" xlink:href=\"#DejaVuSans-116\"/>\r\n      <use x=\"286.425781\" xlink:href=\"#DejaVuSans-105\"/>\r\n      <use x=\"314.208984\" xlink:href=\"#DejaVuSans-111\"/>\r\n      <use x=\"375.390625\" xlink:href=\"#DejaVuSans-110\"/>\r\n     </g>\r\n    </g>\r\n   </g>\r\n  </g>\r\n  <g id=\"axes_2\">\r\n   <g id=\"patch_8\">\r\n    <path d=\"M 502.761949 239.758125 \r\nL 896.644301 239.758125 \r\nL 896.644301 22.318125 \r\nL 502.761949 22.318125 \r\nz\r\n\" style=\"fill:#ffffff;\"/>\r\n   </g>\r\n   <g id=\"matplotlib.axis_3\">\r\n    <g id=\"xtick_10\">\r\n     <g id=\"line2d_25\">\r\n      <g>\r\n       <use style=\"stroke:#000000;stroke-width:0.8;\" x=\"520.665692\" xlink:href=\"#m2a2e4f10ae\" y=\"239.758125\"/>\r\n      </g>\r\n     </g>\r\n     <g id=\"text_20\">\r\n      <!-- 0 -->\r\n      <g transform=\"translate(517.484442 254.356563)scale(0.1 -0.1)\">\r\n       <use xlink:href=\"#DejaVuSans-48\"/>\r\n      </g>\r\n     </g>\r\n    </g>\r\n    <g id=\"xtick_11\">\r\n     <g id=\"line2d_26\">\r\n      <g>\r\n       <use style=\"stroke:#000000;stroke-width:0.8;\" x=\"565.42505\" xlink:href=\"#m2a2e4f10ae\" y=\"239.758125\"/>\r\n      </g>\r\n     </g>\r\n     <g id=\"text_21\">\r\n      <!-- 25 -->\r\n      <g transform=\"translate(559.06255 254.356563)scale(0.1 -0.1)\">\r\n       <use xlink:href=\"#DejaVuSans-50\"/>\r\n       <use x=\"63.623047\" xlink:href=\"#DejaVuSans-53\"/>\r\n      </g>\r\n     </g>\r\n    </g>\r\n    <g id=\"xtick_12\">\r\n     <g id=\"line2d_27\">\r\n      <g>\r\n       <use style=\"stroke:#000000;stroke-width:0.8;\" x=\"610.184408\" xlink:href=\"#m2a2e4f10ae\" y=\"239.758125\"/>\r\n      </g>\r\n     </g>\r\n     <g id=\"text_22\">\r\n      <!-- 50 -->\r\n      <g transform=\"translate(603.821908 254.356563)scale(0.1 -0.1)\">\r\n       <use xlink:href=\"#DejaVuSans-53\"/>\r\n       <use x=\"63.623047\" xlink:href=\"#DejaVuSans-48\"/>\r\n      </g>\r\n     </g>\r\n    </g>\r\n    <g id=\"xtick_13\">\r\n     <g id=\"line2d_28\">\r\n      <g>\r\n       <use style=\"stroke:#000000;stroke-width:0.8;\" x=\"654.943767\" xlink:href=\"#m2a2e4f10ae\" y=\"239.758125\"/>\r\n      </g>\r\n     </g>\r\n     <g id=\"text_23\">\r\n      <!-- 75 -->\r\n      <g transform=\"translate(648.581267 254.356563)scale(0.1 -0.1)\">\r\n       <use xlink:href=\"#DejaVuSans-55\"/>\r\n       <use x=\"63.623047\" xlink:href=\"#DejaVuSans-53\"/>\r\n      </g>\r\n     </g>\r\n    </g>\r\n    <g id=\"xtick_14\">\r\n     <g id=\"line2d_29\">\r\n      <g>\r\n       <use style=\"stroke:#000000;stroke-width:0.8;\" x=\"699.703125\" xlink:href=\"#m2a2e4f10ae\" y=\"239.758125\"/>\r\n      </g>\r\n     </g>\r\n     <g id=\"text_24\">\r\n      <!-- 100 -->\r\n      <g transform=\"translate(690.159375 254.356563)scale(0.1 -0.1)\">\r\n       <use xlink:href=\"#DejaVuSans-49\"/>\r\n       <use x=\"63.623047\" xlink:href=\"#DejaVuSans-48\"/>\r\n       <use x=\"127.246094\" xlink:href=\"#DejaVuSans-48\"/>\r\n      </g>\r\n     </g>\r\n    </g>\r\n    <g id=\"xtick_15\">\r\n     <g id=\"line2d_30\">\r\n      <g>\r\n       <use style=\"stroke:#000000;stroke-width:0.8;\" x=\"744.462483\" xlink:href=\"#m2a2e4f10ae\" y=\"239.758125\"/>\r\n      </g>\r\n     </g>\r\n     <g id=\"text_25\">\r\n      <!-- 125 -->\r\n      <g transform=\"translate(734.918733 254.356563)scale(0.1 -0.1)\">\r\n       <use xlink:href=\"#DejaVuSans-49\"/>\r\n       <use x=\"63.623047\" xlink:href=\"#DejaVuSans-50\"/>\r\n       <use x=\"127.246094\" xlink:href=\"#DejaVuSans-53\"/>\r\n      </g>\r\n     </g>\r\n    </g>\r\n    <g id=\"xtick_16\">\r\n     <g id=\"line2d_31\">\r\n      <g>\r\n       <use style=\"stroke:#000000;stroke-width:0.8;\" x=\"789.221842\" xlink:href=\"#m2a2e4f10ae\" y=\"239.758125\"/>\r\n      </g>\r\n     </g>\r\n     <g id=\"text_26\">\r\n      <!-- 150 -->\r\n      <g transform=\"translate(779.678092 254.356563)scale(0.1 -0.1)\">\r\n       <use xlink:href=\"#DejaVuSans-49\"/>\r\n       <use x=\"63.623047\" xlink:href=\"#DejaVuSans-53\"/>\r\n       <use x=\"127.246094\" xlink:href=\"#DejaVuSans-48\"/>\r\n      </g>\r\n     </g>\r\n    </g>\r\n    <g id=\"xtick_17\">\r\n     <g id=\"line2d_32\">\r\n      <g>\r\n       <use style=\"stroke:#000000;stroke-width:0.8;\" x=\"833.9812\" xlink:href=\"#m2a2e4f10ae\" y=\"239.758125\"/>\r\n      </g>\r\n     </g>\r\n     <g id=\"text_27\">\r\n      <!-- 175 -->\r\n      <g transform=\"translate(824.43745 254.356563)scale(0.1 -0.1)\">\r\n       <use xlink:href=\"#DejaVuSans-49\"/>\r\n       <use x=\"63.623047\" xlink:href=\"#DejaVuSans-55\"/>\r\n       <use x=\"127.246094\" xlink:href=\"#DejaVuSans-53\"/>\r\n      </g>\r\n     </g>\r\n    </g>\r\n    <g id=\"xtick_18\">\r\n     <g id=\"line2d_33\">\r\n      <g>\r\n       <use style=\"stroke:#000000;stroke-width:0.8;\" x=\"878.740558\" xlink:href=\"#m2a2e4f10ae\" y=\"239.758125\"/>\r\n      </g>\r\n     </g>\r\n     <g id=\"text_28\">\r\n      <!-- 200 -->\r\n      <g transform=\"translate(869.196808 254.356563)scale(0.1 -0.1)\">\r\n       <use xlink:href=\"#DejaVuSans-50\"/>\r\n       <use x=\"63.623047\" xlink:href=\"#DejaVuSans-48\"/>\r\n       <use x=\"127.246094\" xlink:href=\"#DejaVuSans-48\"/>\r\n      </g>\r\n     </g>\r\n    </g>\r\n   </g>\r\n   <g id=\"matplotlib.axis_4\">\r\n    <g id=\"ytick_7\">\r\n     <g id=\"line2d_34\">\r\n      <g>\r\n       <use style=\"stroke:#000000;stroke-width:0.8;\" x=\"502.761949\" xlink:href=\"#m5abc2c1c38\" y=\"229.874489\"/>\r\n      </g>\r\n     </g>\r\n     <g id=\"text_29\">\r\n      <!-- 0 -->\r\n      <g transform=\"translate(489.399449 233.673707)scale(0.1 -0.1)\">\r\n       <use xlink:href=\"#DejaVuSans-48\"/>\r\n      </g>\r\n     </g>\r\n    </g>\r\n    <g id=\"ytick_8\">\r\n     <g id=\"line2d_35\">\r\n      <g>\r\n       <use style=\"stroke:#000000;stroke-width:0.8;\" x=\"502.761949\" xlink:href=\"#m5abc2c1c38\" y=\"190.339943\"/>\r\n      </g>\r\n     </g>\r\n     <g id=\"text_30\">\r\n      <!-- 50 -->\r\n      <g transform=\"translate(483.036949 194.139162)scale(0.1 -0.1)\">\r\n       <use xlink:href=\"#DejaVuSans-53\"/>\r\n       <use x=\"63.623047\" xlink:href=\"#DejaVuSans-48\"/>\r\n      </g>\r\n     </g>\r\n    </g>\r\n    <g id=\"ytick_9\">\r\n     <g id=\"line2d_36\">\r\n      <g>\r\n       <use style=\"stroke:#000000;stroke-width:0.8;\" x=\"502.761949\" xlink:href=\"#m5abc2c1c38\" y=\"150.805398\"/>\r\n      </g>\r\n     </g>\r\n     <g id=\"text_31\">\r\n      <!-- 100 -->\r\n      <g transform=\"translate(476.674449 154.604616)scale(0.1 -0.1)\">\r\n       <use xlink:href=\"#DejaVuSans-49\"/>\r\n       <use x=\"63.623047\" xlink:href=\"#DejaVuSans-48\"/>\r\n       <use x=\"127.246094\" xlink:href=\"#DejaVuSans-48\"/>\r\n      </g>\r\n     </g>\r\n    </g>\r\n    <g id=\"ytick_10\">\r\n     <g id=\"line2d_37\">\r\n      <g>\r\n       <use style=\"stroke:#000000;stroke-width:0.8;\" x=\"502.761949\" xlink:href=\"#m5abc2c1c38\" y=\"111.270852\"/>\r\n      </g>\r\n     </g>\r\n     <g id=\"text_32\">\r\n      <!-- 150 -->\r\n      <g transform=\"translate(476.674449 115.070071)scale(0.1 -0.1)\">\r\n       <use xlink:href=\"#DejaVuSans-49\"/>\r\n       <use x=\"63.623047\" xlink:href=\"#DejaVuSans-53\"/>\r\n       <use x=\"127.246094\" xlink:href=\"#DejaVuSans-48\"/>\r\n      </g>\r\n     </g>\r\n    </g>\r\n    <g id=\"ytick_11\">\r\n     <g id=\"line2d_38\">\r\n      <g>\r\n       <use style=\"stroke:#000000;stroke-width:0.8;\" x=\"502.761949\" xlink:href=\"#m5abc2c1c38\" y=\"71.736307\"/>\r\n      </g>\r\n     </g>\r\n     <g id=\"text_33\">\r\n      <!-- 200 -->\r\n      <g transform=\"translate(476.674449 75.535526)scale(0.1 -0.1)\">\r\n       <use xlink:href=\"#DejaVuSans-50\"/>\r\n       <use x=\"63.623047\" xlink:href=\"#DejaVuSans-48\"/>\r\n       <use x=\"127.246094\" xlink:href=\"#DejaVuSans-48\"/>\r\n      </g>\r\n     </g>\r\n    </g>\r\n    <g id=\"ytick_12\">\r\n     <g id=\"line2d_39\">\r\n      <g>\r\n       <use style=\"stroke:#000000;stroke-width:0.8;\" x=\"502.761949\" xlink:href=\"#m5abc2c1c38\" y=\"32.201761\"/>\r\n      </g>\r\n     </g>\r\n     <g id=\"text_34\">\r\n      <!-- 250 -->\r\n      <g transform=\"translate(476.674449 36.00098)scale(0.1 -0.1)\">\r\n       <use xlink:href=\"#DejaVuSans-50\"/>\r\n       <use x=\"63.623047\" xlink:href=\"#DejaVuSans-53\"/>\r\n       <use x=\"127.246094\" xlink:href=\"#DejaVuSans-48\"/>\r\n      </g>\r\n     </g>\r\n    </g>\r\n   </g>\r\n   <g id=\"line2d_40\">\r\n    <path clip-path=\"url(#pe093334d9c)\" d=\"M 520.665692 32.201761 \r\nL 581.538419 32.201761 \r\nL 585.119168 81.619943 \r\nL 597.651788 81.619943 \r\nL 606.60366 205.165398 \r\nL 608.394034 32.201761 \r\nL 712.235745 32.201761 \r\nL 719.397243 131.038125 \r\nL 774.898847 131.038125 \r\nL 782.060344 229.874489 \r\nL 783.850719 32.201761 \r\nL 866.207938 32.201761 \r\nL 871.579061 106.329034 \r\nL 878.740558 106.329034 \r\nL 878.740558 106.329034 \r\n\" style=\"fill:none;stroke:#1f77b4;stroke-linecap:square;stroke-width:1.5;\"/>\r\n   </g>\r\n   <g id=\"line2d_41\">\r\n    <path clip-path=\"url(#pe093334d9c)\" d=\"M 520.665692 131.038125 \r\nL 581.538419 131.038125 \r\nL 585.119168 155.747216 \r\nL 597.651788 155.747216 \r\nL 606.60366 217.519943 \r\nL 608.394034 131.038125 \r\nL 712.235745 131.038125 \r\nL 719.397243 180.456307 \r\nL 774.898847 180.456307 \r\nL 782.060344 229.874489 \r\nL 783.850719 131.038125 \r\nL 866.207938 131.038125 \r\nL 871.579061 168.101761 \r\nL 878.740558 168.101761 \r\nL 878.740558 168.101761 \r\n\" style=\"fill:none;stroke:#ff7f0e;stroke-linecap:square;stroke-width:1.5;\"/>\r\n   </g>\r\n   <g id=\"patch_9\">\r\n    <path d=\"M 502.761949 239.758125 \r\nL 502.761949 22.318125 \r\n\" style=\"fill:none;stroke:#000000;stroke-linecap:square;stroke-linejoin:miter;stroke-width:0.8;\"/>\r\n   </g>\r\n   <g id=\"patch_10\">\r\n    <path d=\"M 896.644301 239.758125 \r\nL 896.644301 22.318125 \r\n\" style=\"fill:none;stroke:#000000;stroke-linecap:square;stroke-linejoin:miter;stroke-width:0.8;\"/>\r\n   </g>\r\n   <g id=\"patch_11\">\r\n    <path d=\"M 502.761949 239.758125 \r\nL 896.644301 239.758125 \r\n\" style=\"fill:none;stroke:#000000;stroke-linecap:square;stroke-linejoin:miter;stroke-width:0.8;\"/>\r\n   </g>\r\n   <g id=\"patch_12\">\r\n    <path d=\"M 502.761949 22.318125 \r\nL 896.644301 22.318125 \r\n\" style=\"fill:none;stroke:#000000;stroke-linecap:square;stroke-linejoin:miter;stroke-width:0.8;\"/>\r\n   </g>\r\n   <g id=\"text_35\">\r\n    <!-- Condition -->\r\n    <g transform=\"translate(671.070938 16.318125)scale(0.12 -0.12)\">\r\n     <defs>\r\n      <path d=\"M 64.40625 67.28125 \r\nL 64.40625 56.890625 \r\nQ 59.421875 61.53125 53.78125 63.8125 \r\nQ 48.140625 66.109375 41.796875 66.109375 \r\nQ 29.296875 66.109375 22.65625 58.46875 \r\nQ 16.015625 50.828125 16.015625 36.375 \r\nQ 16.015625 21.96875 22.65625 14.328125 \r\nQ 29.296875 6.6875 41.796875 6.6875 \r\nQ 48.140625 6.6875 53.78125 8.984375 \r\nQ 59.421875 11.28125 64.40625 15.921875 \r\nL 64.40625 5.609375 \r\nQ 59.234375 2.09375 53.4375 0.328125 \r\nQ 47.65625 -1.421875 41.21875 -1.421875 \r\nQ 24.65625 -1.421875 15.125 8.703125 \r\nQ 5.609375 18.84375 5.609375 36.375 \r\nQ 5.609375 53.953125 15.125 64.078125 \r\nQ 24.65625 74.21875 41.21875 74.21875 \r\nQ 47.75 74.21875 53.53125 72.484375 \r\nQ 59.328125 70.75 64.40625 67.28125 \r\nz\r\n\" id=\"DejaVuSans-67\"/>\r\n     </defs>\r\n     <use xlink:href=\"#DejaVuSans-67\"/>\r\n     <use x=\"69.824219\" xlink:href=\"#DejaVuSans-111\"/>\r\n     <use x=\"131.005859\" xlink:href=\"#DejaVuSans-110\"/>\r\n     <use x=\"194.384766\" xlink:href=\"#DejaVuSans-100\"/>\r\n     <use x=\"257.861328\" xlink:href=\"#DejaVuSans-105\"/>\r\n     <use x=\"285.644531\" xlink:href=\"#DejaVuSans-116\"/>\r\n     <use x=\"324.853516\" xlink:href=\"#DejaVuSans-105\"/>\r\n     <use x=\"352.636719\" xlink:href=\"#DejaVuSans-111\"/>\r\n     <use x=\"413.818359\" xlink:href=\"#DejaVuSans-110\"/>\r\n    </g>\r\n   </g>\r\n   <g id=\"legend_2\">\r\n    <g id=\"patch_13\">\r\n     <path d=\"M 637.961719 234.758125 \r\nL 761.444531 234.758125 \r\nQ 763.444531 234.758125 763.444531 232.758125 \r\nL 763.444531 203.845625 \r\nQ 763.444531 201.845625 761.444531 201.845625 \r\nL 637.961719 201.845625 \r\nQ 635.961719 201.845625 635.961719 203.845625 \r\nL 635.961719 232.758125 \r\nQ 635.961719 234.758125 637.961719 234.758125 \r\nz\r\n\" style=\"fill:#ffffff;opacity:0.8;stroke:#cccccc;stroke-linejoin:miter;\"/>\r\n    </g>\r\n    <g id=\"line2d_42\">\r\n     <path d=\"M 639.961719 209.944063 \r\nL 659.961719 209.944063 \r\n\" style=\"fill:none;stroke:#1f77b4;stroke-linecap:square;stroke-width:1.5;\"/>\r\n    </g>\r\n    <g id=\"line2d_43\"/>\r\n    <g id=\"text_36\">\r\n     <!-- external_diameter -->\r\n     <g transform=\"translate(667.961719 213.444063)scale(0.1 -0.1)\">\r\n      <defs>\r\n       <path d=\"M 54.890625 54.6875 \r\nL 35.109375 28.078125 \r\nL 55.90625 0 \r\nL 45.3125 0 \r\nL 29.390625 21.484375 \r\nL 13.484375 0 \r\nL 2.875 0 \r\nL 24.125 28.609375 \r\nL 4.6875 54.6875 \r\nL 15.28125 54.6875 \r\nL 29.78125 35.203125 \r\nL 44.28125 54.6875 \r\nz\r\n\" id=\"DejaVuSans-120\"/>\r\n       <path d=\"M 50.984375 -16.609375 \r\nL 50.984375 -23.578125 \r\nL -0.984375 -23.578125 \r\nL -0.984375 -16.609375 \r\nz\r\n\" id=\"DejaVuSans-95\"/>\r\n       <path d=\"M 52 44.1875 \r\nQ 55.375 50.25 60.0625 53.125 \r\nQ 64.75 56 71.09375 56 \r\nQ 79.640625 56 84.28125 50.015625 \r\nQ 88.921875 44.046875 88.921875 33.015625 \r\nL 88.921875 0 \r\nL 79.890625 0 \r\nL 79.890625 32.71875 \r\nQ 79.890625 40.578125 77.09375 44.375 \r\nQ 74.3125 48.1875 68.609375 48.1875 \r\nQ 61.625 48.1875 57.5625 43.546875 \r\nQ 53.515625 38.921875 53.515625 30.90625 \r\nL 53.515625 0 \r\nL 44.484375 0 \r\nL 44.484375 32.71875 \r\nQ 44.484375 40.625 41.703125 44.40625 \r\nQ 38.921875 48.1875 33.109375 48.1875 \r\nQ 26.21875 48.1875 22.15625 43.53125 \r\nQ 18.109375 38.875 18.109375 30.90625 \r\nL 18.109375 0 \r\nL 9.078125 0 \r\nL 9.078125 54.6875 \r\nL 18.109375 54.6875 \r\nL 18.109375 46.1875 \r\nQ 21.1875 51.21875 25.484375 53.609375 \r\nQ 29.78125 56 35.6875 56 \r\nQ 41.65625 56 45.828125 52.96875 \r\nQ 50 49.953125 52 44.1875 \r\nz\r\n\" id=\"DejaVuSans-109\"/>\r\n      </defs>\r\n      <use xlink:href=\"#DejaVuSans-101\"/>\r\n      <use x=\"59.773438\" xlink:href=\"#DejaVuSans-120\"/>\r\n      <use x=\"118.953125\" xlink:href=\"#DejaVuSans-116\"/>\r\n      <use x=\"158.162109\" xlink:href=\"#DejaVuSans-101\"/>\r\n      <use x=\"219.685547\" xlink:href=\"#DejaVuSans-114\"/>\r\n      <use x=\"259.048828\" xlink:href=\"#DejaVuSans-110\"/>\r\n      <use x=\"322.427734\" xlink:href=\"#DejaVuSans-97\"/>\r\n      <use x=\"383.707031\" xlink:href=\"#DejaVuSans-108\"/>\r\n      <use x=\"411.490234\" xlink:href=\"#DejaVuSans-95\"/>\r\n      <use x=\"461.490234\" xlink:href=\"#DejaVuSans-100\"/>\r\n      <use x=\"524.966797\" xlink:href=\"#DejaVuSans-105\"/>\r\n      <use x=\"552.75\" xlink:href=\"#DejaVuSans-97\"/>\r\n      <use x=\"614.029297\" xlink:href=\"#DejaVuSans-109\"/>\r\n      <use x=\"711.441406\" xlink:href=\"#DejaVuSans-101\"/>\r\n      <use x=\"772.964844\" xlink:href=\"#DejaVuSans-116\"/>\r\n      <use x=\"812.173828\" xlink:href=\"#DejaVuSans-101\"/>\r\n      <use x=\"873.697266\" xlink:href=\"#DejaVuSans-114\"/>\r\n     </g>\r\n    </g>\r\n    <g id=\"line2d_44\">\r\n     <path d=\"M 639.961719 224.900313 \r\nL 659.961719 224.900313 \r\n\" style=\"fill:none;stroke:#ff7f0e;stroke-linecap:square;stroke-width:1.5;\"/>\r\n    </g>\r\n    <g id=\"line2d_45\"/>\r\n    <g id=\"text_37\">\r\n     <!-- wall_thickness -->\r\n     <g transform=\"translate(667.961719 228.400313)scale(0.1 -0.1)\">\r\n      <defs>\r\n       <path d=\"M 4.203125 54.6875 \r\nL 13.1875 54.6875 \r\nL 24.421875 12.015625 \r\nL 35.59375 54.6875 \r\nL 46.1875 54.6875 \r\nL 57.421875 12.015625 \r\nL 68.609375 54.6875 \r\nL 77.59375 54.6875 \r\nL 63.28125 0 \r\nL 52.6875 0 \r\nL 40.921875 44.828125 \r\nL 29.109375 0 \r\nL 18.5 0 \r\nz\r\n\" id=\"DejaVuSans-119\"/>\r\n       <path d=\"M 54.890625 33.015625 \r\nL 54.890625 0 \r\nL 45.90625 0 \r\nL 45.90625 32.71875 \r\nQ 45.90625 40.484375 42.875 44.328125 \r\nQ 39.84375 48.1875 33.796875 48.1875 \r\nQ 26.515625 48.1875 22.3125 43.546875 \r\nQ 18.109375 38.921875 18.109375 30.90625 \r\nL 18.109375 0 \r\nL 9.078125 0 \r\nL 9.078125 75.984375 \r\nL 18.109375 75.984375 \r\nL 18.109375 46.1875 \r\nQ 21.34375 51.125 25.703125 53.5625 \r\nQ 30.078125 56 35.796875 56 \r\nQ 45.21875 56 50.046875 50.171875 \r\nQ 54.890625 44.34375 54.890625 33.015625 \r\nz\r\n\" id=\"DejaVuSans-104\"/>\r\n       <path d=\"M 9.078125 75.984375 \r\nL 18.109375 75.984375 \r\nL 18.109375 31.109375 \r\nL 44.921875 54.6875 \r\nL 56.390625 54.6875 \r\nL 27.390625 29.109375 \r\nL 57.625 0 \r\nL 45.90625 0 \r\nL 18.109375 26.703125 \r\nL 18.109375 0 \r\nL 9.078125 0 \r\nz\r\n\" id=\"DejaVuSans-107\"/>\r\n       <path d=\"M 44.28125 53.078125 \r\nL 44.28125 44.578125 \r\nQ 40.484375 46.53125 36.375 47.5 \r\nQ 32.28125 48.484375 27.875 48.484375 \r\nQ 21.1875 48.484375 17.84375 46.4375 \r\nQ 14.5 44.390625 14.5 40.28125 \r\nQ 14.5 37.15625 16.890625 35.375 \r\nQ 19.28125 33.59375 26.515625 31.984375 \r\nL 29.59375 31.296875 \r\nQ 39.15625 29.25 43.1875 25.515625 \r\nQ 47.21875 21.78125 47.21875 15.09375 \r\nQ 47.21875 7.46875 41.1875 3.015625 \r\nQ 35.15625 -1.421875 24.609375 -1.421875 \r\nQ 20.21875 -1.421875 15.453125 -0.5625 \r\nQ 10.6875 0.296875 5.421875 2 \r\nL 5.421875 11.28125 \r\nQ 10.40625 8.6875 15.234375 7.390625 \r\nQ 20.0625 6.109375 24.8125 6.109375 \r\nQ 31.15625 6.109375 34.5625 8.28125 \r\nQ 37.984375 10.453125 37.984375 14.40625 \r\nQ 37.984375 18.0625 35.515625 20.015625 \r\nQ 33.0625 21.96875 24.703125 23.78125 \r\nL 21.578125 24.515625 \r\nQ 13.234375 26.265625 9.515625 29.90625 \r\nQ 5.8125 33.546875 5.8125 39.890625 \r\nQ 5.8125 47.609375 11.28125 51.796875 \r\nQ 16.75 56 26.8125 56 \r\nQ 31.78125 56 36.171875 55.265625 \r\nQ 40.578125 54.546875 44.28125 53.078125 \r\nz\r\n\" id=\"DejaVuSans-115\"/>\r\n      </defs>\r\n      <use xlink:href=\"#DejaVuSans-119\"/>\r\n      <use x=\"81.787109\" xlink:href=\"#DejaVuSans-97\"/>\r\n      <use x=\"143.066406\" xlink:href=\"#DejaVuSans-108\"/>\r\n      <use x=\"170.849609\" xlink:href=\"#DejaVuSans-108\"/>\r\n      <use x=\"198.632812\" xlink:href=\"#DejaVuSans-95\"/>\r\n      <use x=\"248.632812\" xlink:href=\"#DejaVuSans-116\"/>\r\n      <use x=\"287.841797\" xlink:href=\"#DejaVuSans-104\"/>\r\n      <use x=\"351.220703\" xlink:href=\"#DejaVuSans-105\"/>\r\n      <use x=\"379.003906\" xlink:href=\"#DejaVuSans-99\"/>\r\n      <use x=\"433.984375\" xlink:href=\"#DejaVuSans-107\"/>\r\n      <use x=\"491.894531\" xlink:href=\"#DejaVuSans-110\"/>\r\n      <use x=\"555.273438\" xlink:href=\"#DejaVuSans-101\"/>\r\n      <use x=\"616.796875\" xlink:href=\"#DejaVuSans-115\"/>\r\n      <use x=\"668.896484\" xlink:href=\"#DejaVuSans-115\"/>\r\n     </g>\r\n    </g>\r\n   </g>\r\n  </g>\r\n  <g id=\"axes_3\">\r\n   <g id=\"patch_14\">\r\n    <path d=\"M 975.420772 239.758125 \r\nL 1369.303125 239.758125 \r\nL 1369.303125 22.318125 \r\nL 975.420772 22.318125 \r\nz\r\n\" style=\"fill:#ffffff;\"/>\r\n   </g>\r\n   <g id=\"matplotlib.axis_5\">\r\n    <g id=\"xtick_19\">\r\n     <g id=\"line2d_46\">\r\n      <g>\r\n       <use style=\"stroke:#000000;stroke-width:0.8;\" x=\"993.324515\" xlink:href=\"#m2a2e4f10ae\" y=\"239.758125\"/>\r\n      </g>\r\n     </g>\r\n     <g id=\"text_38\">\r\n      <!-- 0 -->\r\n      <g transform=\"translate(990.143265 254.356563)scale(0.1 -0.1)\">\r\n       <use xlink:href=\"#DejaVuSans-48\"/>\r\n      </g>\r\n     </g>\r\n    </g>\r\n    <g id=\"xtick_20\">\r\n     <g id=\"line2d_47\">\r\n      <g>\r\n       <use style=\"stroke:#000000;stroke-width:0.8;\" x=\"1038.083874\" xlink:href=\"#m2a2e4f10ae\" y=\"239.758125\"/>\r\n      </g>\r\n     </g>\r\n     <g id=\"text_39\">\r\n      <!-- 25 -->\r\n      <g transform=\"translate(1031.721374 254.356563)scale(0.1 -0.1)\">\r\n       <use xlink:href=\"#DejaVuSans-50\"/>\r\n       <use x=\"63.623047\" xlink:href=\"#DejaVuSans-53\"/>\r\n      </g>\r\n     </g>\r\n    </g>\r\n    <g id=\"xtick_21\">\r\n     <g id=\"line2d_48\">\r\n      <g>\r\n       <use style=\"stroke:#000000;stroke-width:0.8;\" x=\"1082.843232\" xlink:href=\"#m2a2e4f10ae\" y=\"239.758125\"/>\r\n      </g>\r\n     </g>\r\n     <g id=\"text_40\">\r\n      <!-- 50 -->\r\n      <g transform=\"translate(1076.480732 254.356563)scale(0.1 -0.1)\">\r\n       <use xlink:href=\"#DejaVuSans-53\"/>\r\n       <use x=\"63.623047\" xlink:href=\"#DejaVuSans-48\"/>\r\n      </g>\r\n     </g>\r\n    </g>\r\n    <g id=\"xtick_22\">\r\n     <g id=\"line2d_49\">\r\n      <g>\r\n       <use style=\"stroke:#000000;stroke-width:0.8;\" x=\"1127.60259\" xlink:href=\"#m2a2e4f10ae\" y=\"239.758125\"/>\r\n      </g>\r\n     </g>\r\n     <g id=\"text_41\">\r\n      <!-- 75 -->\r\n      <g transform=\"translate(1121.24009 254.356563)scale(0.1 -0.1)\">\r\n       <use xlink:href=\"#DejaVuSans-55\"/>\r\n       <use x=\"63.623047\" xlink:href=\"#DejaVuSans-53\"/>\r\n      </g>\r\n     </g>\r\n    </g>\r\n    <g id=\"xtick_23\">\r\n     <g id=\"line2d_50\">\r\n      <g>\r\n       <use style=\"stroke:#000000;stroke-width:0.8;\" x=\"1172.361949\" xlink:href=\"#m2a2e4f10ae\" y=\"239.758125\"/>\r\n      </g>\r\n     </g>\r\n     <g id=\"text_42\">\r\n      <!-- 100 -->\r\n      <g transform=\"translate(1162.818199 254.356563)scale(0.1 -0.1)\">\r\n       <use xlink:href=\"#DejaVuSans-49\"/>\r\n       <use x=\"63.623047\" xlink:href=\"#DejaVuSans-48\"/>\r\n       <use x=\"127.246094\" xlink:href=\"#DejaVuSans-48\"/>\r\n      </g>\r\n     </g>\r\n    </g>\r\n    <g id=\"xtick_24\">\r\n     <g id=\"line2d_51\">\r\n      <g>\r\n       <use style=\"stroke:#000000;stroke-width:0.8;\" x=\"1217.121307\" xlink:href=\"#m2a2e4f10ae\" y=\"239.758125\"/>\r\n      </g>\r\n     </g>\r\n     <g id=\"text_43\">\r\n      <!-- 125 -->\r\n      <g transform=\"translate(1207.577557 254.356563)scale(0.1 -0.1)\">\r\n       <use xlink:href=\"#DejaVuSans-49\"/>\r\n       <use x=\"63.623047\" xlink:href=\"#DejaVuSans-50\"/>\r\n       <use x=\"127.246094\" xlink:href=\"#DejaVuSans-53\"/>\r\n      </g>\r\n     </g>\r\n    </g>\r\n    <g id=\"xtick_25\">\r\n     <g id=\"line2d_52\">\r\n      <g>\r\n       <use style=\"stroke:#000000;stroke-width:0.8;\" x=\"1261.880665\" xlink:href=\"#m2a2e4f10ae\" y=\"239.758125\"/>\r\n      </g>\r\n     </g>\r\n     <g id=\"text_44\">\r\n      <!-- 150 -->\r\n      <g transform=\"translate(1252.336915 254.356563)scale(0.1 -0.1)\">\r\n       <use xlink:href=\"#DejaVuSans-49\"/>\r\n       <use x=\"63.623047\" xlink:href=\"#DejaVuSans-53\"/>\r\n       <use x=\"127.246094\" xlink:href=\"#DejaVuSans-48\"/>\r\n      </g>\r\n     </g>\r\n    </g>\r\n    <g id=\"xtick_26\">\r\n     <g id=\"line2d_53\">\r\n      <g>\r\n       <use style=\"stroke:#000000;stroke-width:0.8;\" x=\"1306.640023\" xlink:href=\"#m2a2e4f10ae\" y=\"239.758125\"/>\r\n      </g>\r\n     </g>\r\n     <g id=\"text_45\">\r\n      <!-- 175 -->\r\n      <g transform=\"translate(1297.096273 254.356563)scale(0.1 -0.1)\">\r\n       <use xlink:href=\"#DejaVuSans-49\"/>\r\n       <use x=\"63.623047\" xlink:href=\"#DejaVuSans-55\"/>\r\n       <use x=\"127.246094\" xlink:href=\"#DejaVuSans-53\"/>\r\n      </g>\r\n     </g>\r\n    </g>\r\n    <g id=\"xtick_27\">\r\n     <g id=\"line2d_54\">\r\n      <g>\r\n       <use style=\"stroke:#000000;stroke-width:0.8;\" x=\"1351.399382\" xlink:href=\"#m2a2e4f10ae\" y=\"239.758125\"/>\r\n      </g>\r\n     </g>\r\n     <g id=\"text_46\">\r\n      <!-- 200 -->\r\n      <g transform=\"translate(1341.855632 254.356563)scale(0.1 -0.1)\">\r\n       <use xlink:href=\"#DejaVuSans-50\"/>\r\n       <use x=\"63.623047\" xlink:href=\"#DejaVuSans-48\"/>\r\n       <use x=\"127.246094\" xlink:href=\"#DejaVuSans-48\"/>\r\n      </g>\r\n     </g>\r\n    </g>\r\n   </g>\r\n   <g id=\"matplotlib.axis_6\">\r\n    <g id=\"ytick_13\">\r\n     <g id=\"line2d_55\">\r\n      <g>\r\n       <use style=\"stroke:#000000;stroke-width:0.8;\" x=\"975.420772\" xlink:href=\"#m5abc2c1c38\" y=\"229.874489\"/>\r\n      </g>\r\n     </g>\r\n     <g id=\"text_47\">\r\n      <!-- −1 -->\r\n      <g transform=\"translate(953.678585 233.673707)scale(0.1 -0.1)\">\r\n       <defs>\r\n        <path d=\"M 10.59375 35.5 \r\nL 73.1875 35.5 \r\nL 73.1875 27.203125 \r\nL 10.59375 27.203125 \r\nz\r\n\" id=\"DejaVuSans-8722\"/>\r\n       </defs>\r\n       <use xlink:href=\"#DejaVuSans-8722\"/>\r\n       <use x=\"83.789062\" xlink:href=\"#DejaVuSans-49\"/>\r\n      </g>\r\n     </g>\r\n    </g>\r\n    <g id=\"ytick_14\">\r\n     <g id=\"line2d_56\">\r\n      <g>\r\n       <use style=\"stroke:#000000;stroke-width:0.8;\" x=\"975.420772\" xlink:href=\"#m5abc2c1c38\" y=\"196.929034\"/>\r\n      </g>\r\n     </g>\r\n     <g id=\"text_48\">\r\n      <!-- 0 -->\r\n      <g transform=\"translate(962.058272 200.728253)scale(0.1 -0.1)\">\r\n       <use xlink:href=\"#DejaVuSans-48\"/>\r\n      </g>\r\n     </g>\r\n    </g>\r\n    <g id=\"ytick_15\">\r\n     <g id=\"line2d_57\">\r\n      <g>\r\n       <use style=\"stroke:#000000;stroke-width:0.8;\" x=\"975.420772\" xlink:href=\"#m5abc2c1c38\" y=\"163.98358\"/>\r\n      </g>\r\n     </g>\r\n     <g id=\"text_49\">\r\n      <!-- 1 -->\r\n      <g transform=\"translate(962.058272 167.782798)scale(0.1 -0.1)\">\r\n       <use xlink:href=\"#DejaVuSans-49\"/>\r\n      </g>\r\n     </g>\r\n    </g>\r\n    <g id=\"ytick_16\">\r\n     <g id=\"line2d_58\">\r\n      <g>\r\n       <use style=\"stroke:#000000;stroke-width:0.8;\" x=\"975.420772\" xlink:href=\"#m5abc2c1c38\" y=\"131.038125\"/>\r\n      </g>\r\n     </g>\r\n     <g id=\"text_50\">\r\n      <!-- 2 -->\r\n      <g transform=\"translate(962.058272 134.837344)scale(0.1 -0.1)\">\r\n       <use xlink:href=\"#DejaVuSans-50\"/>\r\n      </g>\r\n     </g>\r\n    </g>\r\n    <g id=\"ytick_17\">\r\n     <g id=\"line2d_59\">\r\n      <g>\r\n       <use style=\"stroke:#000000;stroke-width:0.8;\" x=\"975.420772\" xlink:href=\"#m5abc2c1c38\" y=\"98.09267\"/>\r\n      </g>\r\n     </g>\r\n     <g id=\"text_51\">\r\n      <!-- 3 -->\r\n      <g transform=\"translate(962.058272 101.891889)scale(0.1 -0.1)\">\r\n       <defs>\r\n        <path d=\"M 40.578125 39.3125 \r\nQ 47.65625 37.796875 51.625 33 \r\nQ 55.609375 28.21875 55.609375 21.1875 \r\nQ 55.609375 10.40625 48.1875 4.484375 \r\nQ 40.765625 -1.421875 27.09375 -1.421875 \r\nQ 22.515625 -1.421875 17.65625 -0.515625 \r\nQ 12.796875 0.390625 7.625 2.203125 \r\nL 7.625 11.71875 \r\nQ 11.71875 9.328125 16.59375 8.109375 \r\nQ 21.484375 6.890625 26.8125 6.890625 \r\nQ 36.078125 6.890625 40.9375 10.546875 \r\nQ 45.796875 14.203125 45.796875 21.1875 \r\nQ 45.796875 27.640625 41.28125 31.265625 \r\nQ 36.765625 34.90625 28.71875 34.90625 \r\nL 20.21875 34.90625 \r\nL 20.21875 43.015625 \r\nL 29.109375 43.015625 \r\nQ 36.375 43.015625 40.234375 45.921875 \r\nQ 44.09375 48.828125 44.09375 54.296875 \r\nQ 44.09375 59.90625 40.109375 62.90625 \r\nQ 36.140625 65.921875 28.71875 65.921875 \r\nQ 24.65625 65.921875 20.015625 65.03125 \r\nQ 15.375 64.15625 9.8125 62.3125 \r\nL 9.8125 71.09375 \r\nQ 15.4375 72.65625 20.34375 73.4375 \r\nQ 25.25 74.21875 29.59375 74.21875 \r\nQ 40.828125 74.21875 47.359375 69.109375 \r\nQ 53.90625 64.015625 53.90625 55.328125 \r\nQ 53.90625 49.265625 50.4375 45.09375 \r\nQ 46.96875 40.921875 40.578125 39.3125 \r\nz\r\n\" id=\"DejaVuSans-51\"/>\r\n       </defs>\r\n       <use xlink:href=\"#DejaVuSans-51\"/>\r\n      </g>\r\n     </g>\r\n    </g>\r\n    <g id=\"ytick_18\">\r\n     <g id=\"line2d_60\">\r\n      <g>\r\n       <use style=\"stroke:#000000;stroke-width:0.8;\" x=\"975.420772\" xlink:href=\"#m5abc2c1c38\" y=\"65.147216\"/>\r\n      </g>\r\n     </g>\r\n     <g id=\"text_52\">\r\n      <!-- 4 -->\r\n      <g transform=\"translate(962.058272 68.946435)scale(0.1 -0.1)\">\r\n       <use xlink:href=\"#DejaVuSans-52\"/>\r\n      </g>\r\n     </g>\r\n    </g>\r\n    <g id=\"ytick_19\">\r\n     <g id=\"line2d_61\">\r\n      <g>\r\n       <use style=\"stroke:#000000;stroke-width:0.8;\" x=\"975.420772\" xlink:href=\"#m5abc2c1c38\" y=\"32.201761\"/>\r\n      </g>\r\n     </g>\r\n     <g id=\"text_53\">\r\n      <!-- 5 -->\r\n      <g transform=\"translate(962.058272 36.00098)scale(0.1 -0.1)\">\r\n       <use xlink:href=\"#DejaVuSans-53\"/>\r\n      </g>\r\n     </g>\r\n    </g>\r\n   </g>\r\n   <g id=\"line2d_62\">\r\n    <path clip-path=\"url(#p4a1b503755)\" d=\"M 993.324515 32.201761 \r\nL 1002.276387 196.929034 \r\nL 1004.066761 65.147216 \r\nL 1011.228259 196.929034 \r\nL 1013.018633 65.147216 \r\nL 1020.18013 196.929034 \r\nL 1021.970505 65.147216 \r\nL 1029.132002 196.929034 \r\nL 1030.922376 65.147216 \r\nL 1038.083874 196.929034 \r\nL 1039.874248 65.147216 \r\nL 1047.035745 196.929034 \r\nL 1048.82612 65.147216 \r\nL 1055.987617 196.929034 \r\nL 1057.777991 65.147216 \r\nL 1064.939489 196.929034 \r\nL 1066.729863 65.147216 \r\nL 1073.89136 196.929034 \r\nL 1075.681735 65.147216 \r\nL 1082.843232 196.929034 \r\nL 1084.633606 65.147216 \r\nL 1091.795104 196.929034 \r\nL 1093.585478 65.147216 \r\nL 1100.746975 196.929034 \r\nL 1102.53735 65.147216 \r\nL 1109.698847 196.929034 \r\nL 1111.489221 65.147216 \r\nL 1118.650719 196.929034 \r\nL 1120.441093 65.147216 \r\nL 1127.60259 196.929034 \r\nL 1129.392965 65.147216 \r\nL 1136.554462 196.929034 \r\nL 1138.344836 65.147216 \r\nL 1145.506334 196.929034 \r\nL 1147.296708 65.147216 \r\nL 1154.458205 196.929034 \r\nL 1156.24858 65.147216 \r\nL 1163.410077 196.929034 \r\nL 1165.200451 65.147216 \r\nL 1172.361949 196.929034 \r\nL 1174.152323 65.147216 \r\nL 1181.31382 196.929034 \r\nL 1183.104195 65.147216 \r\nL 1190.265692 196.929034 \r\nL 1192.056066 65.147216 \r\nL 1199.217564 196.929034 \r\nL 1201.007938 65.147216 \r\nL 1208.169435 196.929034 \r\nL 1209.959809 65.147216 \r\nL 1217.121307 196.929034 \r\nL 1218.911681 65.147216 \r\nL 1226.073178 196.929034 \r\nL 1227.863553 65.147216 \r\nL 1235.02505 196.929034 \r\nL 1236.815424 65.147216 \r\nL 1243.976922 196.929034 \r\nL 1245.767296 65.147216 \r\nL 1252.928793 196.929034 \r\nL 1254.719168 65.147216 \r\nL 1261.880665 196.929034 \r\nL 1263.671039 65.147216 \r\nL 1270.832537 196.929034 \r\nL 1272.622911 65.147216 \r\nL 1279.784408 196.929034 \r\nL 1281.574783 65.147216 \r\nL 1288.73628 196.929034 \r\nL 1290.526654 65.147216 \r\nL 1297.688152 196.929034 \r\nL 1299.478526 65.147216 \r\nL 1306.640023 196.929034 \r\nL 1308.430398 65.147216 \r\nL 1315.591895 196.929034 \r\nL 1317.382269 65.147216 \r\nL 1324.543767 196.929034 \r\nL 1326.334141 65.147216 \r\nL 1333.495638 196.929034 \r\nL 1335.286013 65.147216 \r\nL 1342.44751 196.929034 \r\nL 1344.237884 65.147216 \r\nL 1351.399382 196.929034 \r\nL 1351.399382 196.929034 \r\n\" style=\"fill:none;stroke:#1f77b4;stroke-linecap:square;stroke-width:1.5;\"/>\r\n   </g>\r\n   <g id=\"line2d_63\">\r\n    <path clip-path=\"url(#p4a1b503755)\" d=\"M 993.324515 229.874489 \r\nL 1055.987617 229.874489 \r\nL 1057.777991 196.929034 \r\nL 1059.568366 229.874489 \r\nL 1190.265692 229.874489 \r\nL 1192.056066 196.929034 \r\nL 1193.846441 229.874489 \r\nL 1342.44751 229.874489 \r\nL 1344.237884 196.929034 \r\nL 1346.028259 229.874489 \r\nL 1351.399382 229.874489 \r\nL 1351.399382 229.874489 \r\n\" style=\"fill:none;stroke:#ff7f0e;stroke-linecap:square;stroke-width:1.5;\"/>\r\n   </g>\r\n   <g id=\"line2d_64\">\r\n    <path clip-path=\"url(#p4a1b503755)\" d=\"M 993.324515 229.874489 \r\nL 1077.472109 229.874489 \r\nL 1079.262483 196.929034 \r\nL 1081.052858 229.874489 \r\nL 1351.399382 229.874489 \r\nL 1351.399382 229.874489 \r\n\" style=\"fill:none;stroke:#2ca02c;stroke-linecap:square;stroke-width:1.5;\"/>\r\n   </g>\r\n   <g id=\"line2d_65\">\r\n    <path clip-path=\"url(#p4a1b503755)\" d=\"M 993.324515 229.874489 \r\nL 1252.928793 229.874489 \r\nL 1254.719168 196.929034 \r\nL 1256.509542 229.874489 \r\nL 1351.399382 229.874489 \r\nL 1351.399382 229.874489 \r\n\" style=\"fill:none;stroke:#d62728;stroke-linecap:square;stroke-width:1.5;\"/>\r\n   </g>\r\n   <g id=\"patch_15\">\r\n    <path d=\"M 975.420772 239.758125 \r\nL 975.420772 22.318125 \r\n\" style=\"fill:none;stroke:#000000;stroke-linecap:square;stroke-linejoin:miter;stroke-width:0.8;\"/>\r\n   </g>\r\n   <g id=\"patch_16\">\r\n    <path d=\"M 1369.303125 239.758125 \r\nL 1369.303125 22.318125 \r\n\" style=\"fill:none;stroke:#000000;stroke-linecap:square;stroke-linejoin:miter;stroke-width:0.8;\"/>\r\n   </g>\r\n   <g id=\"patch_17\">\r\n    <path d=\"M 975.420772 239.758125 \r\nL 1369.303125 239.758125 \r\n\" style=\"fill:none;stroke:#000000;stroke-linecap:square;stroke-linejoin:miter;stroke-width:0.8;\"/>\r\n   </g>\r\n   <g id=\"patch_18\">\r\n    <path d=\"M 975.420772 22.318125 \r\nL 1369.303125 22.318125 \r\n\" style=\"fill:none;stroke:#000000;stroke-linecap:square;stroke-linejoin:miter;stroke-width:0.8;\"/>\r\n   </g>\r\n   <g id=\"text_54\">\r\n    <!-- Task -->\r\n    <g transform=\"translate(1159.410386 16.318125)scale(0.12 -0.12)\">\r\n     <defs>\r\n      <path d=\"M -0.296875 72.90625 \r\nL 61.375 72.90625 \r\nL 61.375 64.59375 \r\nL 35.5 64.59375 \r\nL 35.5 0 \r\nL 25.59375 0 \r\nL 25.59375 64.59375 \r\nL -0.296875 64.59375 \r\nz\r\n\" id=\"DejaVuSans-84\"/>\r\n     </defs>\r\n     <use xlink:href=\"#DejaVuSans-84\"/>\r\n     <use x=\"44.583984\" xlink:href=\"#DejaVuSans-97\"/>\r\n     <use x=\"105.863281\" xlink:href=\"#DejaVuSans-115\"/>\r\n     <use x=\"157.962891\" xlink:href=\"#DejaVuSans-107\"/>\r\n    </g>\r\n   </g>\r\n   <g id=\"legend_3\">\r\n    <g id=\"patch_19\">\r\n     <path d=\"M 1228.778125 89.30875 \r\nL 1362.303125 89.30875 \r\nQ 1364.303125 89.30875 1364.303125 87.30875 \r\nL 1364.303125 29.318125 \r\nQ 1364.303125 27.318125 1362.303125 27.318125 \r\nL 1228.778125 27.318125 \r\nQ 1226.778125 27.318125 1226.778125 29.318125 \r\nL 1226.778125 87.30875 \r\nQ 1226.778125 89.30875 1228.778125 89.30875 \r\nz\r\n\" style=\"fill:#ffffff;opacity:0.8;stroke:#cccccc;stroke-linejoin:miter;\"/>\r\n    </g>\r\n    <g id=\"line2d_66\">\r\n     <path d=\"M 1230.778125 35.416562 \r\nL 1250.778125 35.416562 \r\n\" style=\"fill:none;stroke:#1f77b4;stroke-linecap:square;stroke-width:1.5;\"/>\r\n    </g>\r\n    <g id=\"line2d_67\"/>\r\n    <g id=\"text_55\">\r\n     <!-- inspection -->\r\n     <g transform=\"translate(1258.778125 38.916562)scale(0.1 -0.1)\">\r\n      <defs>\r\n       <path d=\"M 18.109375 8.203125 \r\nL 18.109375 -20.796875 \r\nL 9.078125 -20.796875 \r\nL 9.078125 54.6875 \r\nL 18.109375 54.6875 \r\nL 18.109375 46.390625 \r\nQ 20.953125 51.265625 25.265625 53.625 \r\nQ 29.59375 56 35.59375 56 \r\nQ 45.5625 56 51.78125 48.09375 \r\nQ 58.015625 40.1875 58.015625 27.296875 \r\nQ 58.015625 14.40625 51.78125 6.484375 \r\nQ 45.5625 -1.421875 35.59375 -1.421875 \r\nQ 29.59375 -1.421875 25.265625 0.953125 \r\nQ 20.953125 3.328125 18.109375 8.203125 \r\nz\r\nM 48.6875 27.296875 \r\nQ 48.6875 37.203125 44.609375 42.84375 \r\nQ 40.53125 48.484375 33.40625 48.484375 \r\nQ 26.265625 48.484375 22.1875 42.84375 \r\nQ 18.109375 37.203125 18.109375 27.296875 \r\nQ 18.109375 17.390625 22.1875 11.75 \r\nQ 26.265625 6.109375 33.40625 6.109375 \r\nQ 40.53125 6.109375 44.609375 11.75 \r\nQ 48.6875 17.390625 48.6875 27.296875 \r\nz\r\n\" id=\"DejaVuSans-112\"/>\r\n      </defs>\r\n      <use xlink:href=\"#DejaVuSans-105\"/>\r\n      <use x=\"27.783203\" xlink:href=\"#DejaVuSans-110\"/>\r\n      <use x=\"91.162109\" xlink:href=\"#DejaVuSans-115\"/>\r\n      <use x=\"143.261719\" xlink:href=\"#DejaVuSans-112\"/>\r\n      <use x=\"206.738281\" xlink:href=\"#DejaVuSans-101\"/>\r\n      <use x=\"268.261719\" xlink:href=\"#DejaVuSans-99\"/>\r\n      <use x=\"323.242188\" xlink:href=\"#DejaVuSans-116\"/>\r\n      <use x=\"362.451172\" xlink:href=\"#DejaVuSans-105\"/>\r\n      <use x=\"390.234375\" xlink:href=\"#DejaVuSans-111\"/>\r\n      <use x=\"451.416016\" xlink:href=\"#DejaVuSans-110\"/>\r\n     </g>\r\n    </g>\r\n    <g id=\"line2d_68\">\r\n     <path d=\"M 1230.778125 50.094687 \r\nL 1250.778125 50.094687 \r\n\" style=\"fill:none;stroke:#ff7f0e;stroke-linecap:square;stroke-width:1.5;\"/>\r\n    </g>\r\n    <g id=\"line2d_69\"/>\r\n    <g id=\"text_56\">\r\n     <!-- termite_powder -->\r\n     <g transform=\"translate(1258.778125 53.594687)scale(0.1 -0.1)\">\r\n      <use xlink:href=\"#DejaVuSans-116\"/>\r\n      <use x=\"39.208984\" xlink:href=\"#DejaVuSans-101\"/>\r\n      <use x=\"100.732422\" xlink:href=\"#DejaVuSans-114\"/>\r\n      <use x=\"140.095703\" xlink:href=\"#DejaVuSans-109\"/>\r\n      <use x=\"237.507812\" xlink:href=\"#DejaVuSans-105\"/>\r\n      <use x=\"265.291016\" xlink:href=\"#DejaVuSans-116\"/>\r\n      <use x=\"304.5\" xlink:href=\"#DejaVuSans-101\"/>\r\n      <use x=\"366.023438\" xlink:href=\"#DejaVuSans-95\"/>\r\n      <use x=\"416.023438\" xlink:href=\"#DejaVuSans-112\"/>\r\n      <use x=\"479.5\" xlink:href=\"#DejaVuSans-111\"/>\r\n      <use x=\"540.681641\" xlink:href=\"#DejaVuSans-119\"/>\r\n      <use x=\"622.46875\" xlink:href=\"#DejaVuSans-100\"/>\r\n      <use x=\"685.945312\" xlink:href=\"#DejaVuSans-101\"/>\r\n      <use x=\"747.46875\" xlink:href=\"#DejaVuSans-114\"/>\r\n     </g>\r\n    </g>\r\n    <g id=\"line2d_70\">\r\n     <path d=\"M 1230.778125 65.050938 \r\nL 1250.778125 65.050938 \r\n\" style=\"fill:none;stroke:#2ca02c;stroke-linecap:square;stroke-width:1.5;\"/>\r\n    </g>\r\n    <g id=\"line2d_71\"/>\r\n    <g id=\"text_57\">\r\n     <!-- CAT3/4 replacement -->\r\n     <g transform=\"translate(1258.778125 68.550938)scale(0.1 -0.1)\">\r\n      <defs>\r\n       <path d=\"M 34.1875 63.1875 \r\nL 20.796875 26.90625 \r\nL 47.609375 26.90625 \r\nz\r\nM 28.609375 72.90625 \r\nL 39.796875 72.90625 \r\nL 67.578125 0 \r\nL 57.328125 0 \r\nL 50.6875 18.703125 \r\nL 17.828125 18.703125 \r\nL 11.1875 0 \r\nL 0.78125 0 \r\nz\r\n\" id=\"DejaVuSans-65\"/>\r\n       <path d=\"M 25.390625 72.90625 \r\nL 33.6875 72.90625 \r\nL 8.296875 -9.28125 \r\nL 0 -9.28125 \r\nz\r\n\" id=\"DejaVuSans-47\"/>\r\n       <path id=\"DejaVuSans-32\"/>\r\n      </defs>\r\n      <use xlink:href=\"#DejaVuSans-67\"/>\r\n      <use x=\"69.824219\" xlink:href=\"#DejaVuSans-65\"/>\r\n      <use x=\"130.482422\" xlink:href=\"#DejaVuSans-84\"/>\r\n      <use x=\"191.566406\" xlink:href=\"#DejaVuSans-51\"/>\r\n      <use x=\"255.189453\" xlink:href=\"#DejaVuSans-47\"/>\r\n      <use x=\"288.880859\" xlink:href=\"#DejaVuSans-52\"/>\r\n      <use x=\"352.503906\" xlink:href=\"#DejaVuSans-32\"/>\r\n      <use x=\"384.291016\" xlink:href=\"#DejaVuSans-114\"/>\r\n      <use x=\"423.154297\" xlink:href=\"#DejaVuSans-101\"/>\r\n      <use x=\"484.677734\" xlink:href=\"#DejaVuSans-112\"/>\r\n      <use x=\"548.154297\" xlink:href=\"#DejaVuSans-108\"/>\r\n      <use x=\"575.9375\" xlink:href=\"#DejaVuSans-97\"/>\r\n      <use x=\"637.216797\" xlink:href=\"#DejaVuSans-99\"/>\r\n      <use x=\"692.197266\" xlink:href=\"#DejaVuSans-101\"/>\r\n      <use x=\"753.720703\" xlink:href=\"#DejaVuSans-109\"/>\r\n      <use x=\"851.132812\" xlink:href=\"#DejaVuSans-101\"/>\r\n      <use x=\"912.65625\" xlink:href=\"#DejaVuSans-110\"/>\r\n      <use x=\"976.035156\" xlink:href=\"#DejaVuSans-116\"/>\r\n     </g>\r\n    </g>\r\n    <g id=\"line2d_72\">\r\n     <path d=\"M 1230.778125 79.729062 \r\nL 1250.778125 79.729062 \r\n\" style=\"fill:none;stroke:#d62728;stroke-linecap:square;stroke-width:1.5;\"/>\r\n    </g>\r\n    <g id=\"line2d_73\"/>\r\n    <g id=\"text_58\">\r\n     <!-- CAT1/2 replacement -->\r\n     <g transform=\"translate(1258.778125 83.229062)scale(0.1 -0.1)\">\r\n      <use xlink:href=\"#DejaVuSans-67\"/>\r\n      <use x=\"69.824219\" xlink:href=\"#DejaVuSans-65\"/>\r\n      <use x=\"130.482422\" xlink:href=\"#DejaVuSans-84\"/>\r\n      <use x=\"191.566406\" xlink:href=\"#DejaVuSans-49\"/>\r\n      <use x=\"255.189453\" xlink:href=\"#DejaVuSans-47\"/>\r\n      <use x=\"288.880859\" xlink:href=\"#DejaVuSans-50\"/>\r\n      <use x=\"352.503906\" xlink:href=\"#DejaVuSans-32\"/>\r\n      <use x=\"384.291016\" xlink:href=\"#DejaVuSans-114\"/>\r\n      <use x=\"423.154297\" xlink:href=\"#DejaVuSans-101\"/>\r\n      <use x=\"484.677734\" xlink:href=\"#DejaVuSans-112\"/>\r\n      <use x=\"548.154297\" xlink:href=\"#DejaVuSans-108\"/>\r\n      <use x=\"575.9375\" xlink:href=\"#DejaVuSans-97\"/>\r\n      <use x=\"637.216797\" xlink:href=\"#DejaVuSans-99\"/>\r\n      <use x=\"692.197266\" xlink:href=\"#DejaVuSans-101\"/>\r\n      <use x=\"753.720703\" xlink:href=\"#DejaVuSans-109\"/>\r\n      <use x=\"851.132812\" xlink:href=\"#DejaVuSans-101\"/>\r\n      <use x=\"912.65625\" xlink:href=\"#DejaVuSans-110\"/>\r\n      <use x=\"976.035156\" xlink:href=\"#DejaVuSans-116\"/>\r\n     </g>\r\n    </g>\r\n   </g>\r\n  </g>\r\n </g>\r\n <defs>\r\n  <clipPath id=\"p6eada4d899\">\r\n   <rect height=\"217.44\" width=\"393.882353\" x=\"30.103125\" y=\"22.318125\"/>\r\n  </clipPath>\r\n  <clipPath id=\"pe093334d9c\">\r\n   <rect height=\"217.44\" width=\"393.882353\" x=\"502.761949\" y=\"22.318125\"/>\r\n  </clipPath>\r\n  <clipPath id=\"p4a1b503755\">\r\n   <rect height=\"217.44\" width=\"393.882353\" x=\"975.420772\" y=\"22.318125\"/>\r\n  </clipPath>\r\n </defs>\r\n</svg>\r\n",
      "image/png": "[encoded data removed]"
     },
     "metadata": {
      "needs_background": "light"
     }
    },
    {
     "output_type": "display_data",
     "data": {
      "text/plain": "<Figure size 1728x288 with 3 Axes>",
      "image/svg+xml": "<?xml version=\"1.0\" encoding=\"utf-8\" standalone=\"no\"?>\r\n<!DOCTYPE svg PUBLIC \"-//W3C//DTD SVG 1.1//EN\"\r\n  \"http://www.w3.org/Graphics/SVG/1.1/DTD/svg11.dtd\">\r\n<!-- Created with matplotlib (https://matplotlib.org/) -->\r\n<svg height=\"263.63625pt\" version=\"1.1\" viewBox=\"0 0 1376.503125 263.63625\" width=\"1376.503125pt\" xmlns=\"http://www.w3.org/2000/svg\" xmlns:xlink=\"http://www.w3.org/1999/xlink\">\r\n <metadata>\r\n  <rdf:RDF xmlns:cc=\"http://creativecommons.org/ns#\" xmlns:dc=\"http://purl.org/dc/elements/1.1/\" xmlns:rdf=\"http://www.w3.org/1999/02/22-rdf-syntax-ns#\">\r\n   <cc:Work>\r\n    <dc:type rdf:resource=\"http://purl.org/dc/dcmitype/StillImage\"/>\r\n    <dc:date>2020-09-11T03:10:11.243870</dc:date>\r\n    <dc:format>image/svg+xml</dc:format>\r\n    <dc:creator>\r\n     <cc:Agent>\r\n      <dc:title>Matplotlib v3.3.1, https://matplotlib.org/</dc:title>\r\n     </cc:Agent>\r\n    </dc:creator>\r\n   </cc:Work>\r\n  </rdf:RDF>\r\n </metadata>\r\n <defs>\r\n  <style type=\"text/css\">*{stroke-linecap:butt;stroke-linejoin:round;}</style>\r\n </defs>\r\n <g id=\"figure_1\">\r\n  <g id=\"patch_1\">\r\n   <path d=\"M 0 263.63625 \r\nL 1376.503125 263.63625 \r\nL 1376.503125 0 \r\nL 0 0 \r\nz\r\n\" style=\"fill:none;\"/>\r\n  </g>\r\n  <g id=\"axes_1\">\r\n   <g id=\"patch_2\">\r\n    <path d=\"M 30.103125 239.758125 \r\nL 423.985478 239.758125 \r\nL 423.985478 22.318125 \r\nL 30.103125 22.318125 \r\nz\r\n\" style=\"fill:#ffffff;\"/>\r\n   </g>\r\n   <g id=\"matplotlib.axis_1\">\r\n    <g id=\"xtick_1\">\r\n     <g id=\"line2d_1\">\r\n      <defs>\r\n       <path d=\"M 0 0 \r\nL 0 3.5 \r\n\" id=\"m4a9fbe417a\" style=\"stroke:#000000;stroke-width:0.8;\"/>\r\n      </defs>\r\n      <g>\r\n       <use style=\"stroke:#000000;stroke-width:0.8;\" x=\"48.006868\" xlink:href=\"#m4a9fbe417a\" y=\"239.758125\"/>\r\n      </g>\r\n     </g>\r\n     <g id=\"text_1\">\r\n      <!-- 0 -->\r\n      <g transform=\"translate(44.825618 254.356563)scale(0.1 -0.1)\">\r\n       <defs>\r\n        <path d=\"M 31.78125 66.40625 \r\nQ 24.171875 66.40625 20.328125 58.90625 \r\nQ 16.5 51.421875 16.5 36.375 \r\nQ 16.5 21.390625 20.328125 13.890625 \r\nQ 24.171875 6.390625 31.78125 6.390625 \r\nQ 39.453125 6.390625 43.28125 13.890625 \r\nQ 47.125 21.390625 47.125 36.375 \r\nQ 47.125 51.421875 43.28125 58.90625 \r\nQ 39.453125 66.40625 31.78125 66.40625 \r\nz\r\nM 31.78125 74.21875 \r\nQ 44.046875 74.21875 50.515625 64.515625 \r\nQ 56.984375 54.828125 56.984375 36.375 \r\nQ 56.984375 17.96875 50.515625 8.265625 \r\nQ 44.046875 -1.421875 31.78125 -1.421875 \r\nQ 19.53125 -1.421875 13.0625 8.265625 \r\nQ 6.59375 17.96875 6.59375 36.375 \r\nQ 6.59375 54.828125 13.0625 64.515625 \r\nQ 19.53125 74.21875 31.78125 74.21875 \r\nz\r\n\" id=\"DejaVuSans-48\"/>\r\n       </defs>\r\n       <use xlink:href=\"#DejaVuSans-48\"/>\r\n      </g>\r\n     </g>\r\n    </g>\r\n    <g id=\"xtick_2\">\r\n     <g id=\"line2d_2\">\r\n      <g>\r\n       <use style=\"stroke:#000000;stroke-width:0.8;\" x=\"92.766227\" xlink:href=\"#m4a9fbe417a\" y=\"239.758125\"/>\r\n      </g>\r\n     </g>\r\n     <g id=\"text_2\">\r\n      <!-- 50 -->\r\n      <g transform=\"translate(86.403727 254.356563)scale(0.1 -0.1)\">\r\n       <defs>\r\n        <path d=\"M 10.796875 72.90625 \r\nL 49.515625 72.90625 \r\nL 49.515625 64.59375 \r\nL 19.828125 64.59375 \r\nL 19.828125 46.734375 \r\nQ 21.96875 47.46875 24.109375 47.828125 \r\nQ 26.265625 48.1875 28.421875 48.1875 \r\nQ 40.625 48.1875 47.75 41.5 \r\nQ 54.890625 34.8125 54.890625 23.390625 \r\nQ 54.890625 11.625 47.5625 5.09375 \r\nQ 40.234375 -1.421875 26.90625 -1.421875 \r\nQ 22.3125 -1.421875 17.546875 -0.640625 \r\nQ 12.796875 0.140625 7.71875 1.703125 \r\nL 7.71875 11.625 \r\nQ 12.109375 9.234375 16.796875 8.0625 \r\nQ 21.484375 6.890625 26.703125 6.890625 \r\nQ 35.15625 6.890625 40.078125 11.328125 \r\nQ 45.015625 15.765625 45.015625 23.390625 \r\nQ 45.015625 31 40.078125 35.4375 \r\nQ 35.15625 39.890625 26.703125 39.890625 \r\nQ 22.75 39.890625 18.8125 39.015625 \r\nQ 14.890625 38.140625 10.796875 36.28125 \r\nz\r\n\" id=\"DejaVuSans-53\"/>\r\n       </defs>\r\n       <use xlink:href=\"#DejaVuSans-53\"/>\r\n       <use x=\"63.623047\" xlink:href=\"#DejaVuSans-48\"/>\r\n      </g>\r\n     </g>\r\n    </g>\r\n    <g id=\"xtick_3\">\r\n     <g id=\"line2d_3\">\r\n      <g>\r\n       <use style=\"stroke:#000000;stroke-width:0.8;\" x=\"137.525585\" xlink:href=\"#m4a9fbe417a\" y=\"239.758125\"/>\r\n      </g>\r\n     </g>\r\n     <g id=\"text_3\">\r\n      <!-- 100 -->\r\n      <g transform=\"translate(127.981835 254.356563)scale(0.1 -0.1)\">\r\n       <defs>\r\n        <path d=\"M 12.40625 8.296875 \r\nL 28.515625 8.296875 \r\nL 28.515625 63.921875 \r\nL 10.984375 60.40625 \r\nL 10.984375 69.390625 \r\nL 28.421875 72.90625 \r\nL 38.28125 72.90625 \r\nL 38.28125 8.296875 \r\nL 54.390625 8.296875 \r\nL 54.390625 0 \r\nL 12.40625 0 \r\nz\r\n\" id=\"DejaVuSans-49\"/>\r\n       </defs>\r\n       <use xlink:href=\"#DejaVuSans-49\"/>\r\n       <use x=\"63.623047\" xlink:href=\"#DejaVuSans-48\"/>\r\n       <use x=\"127.246094\" xlink:href=\"#DejaVuSans-48\"/>\r\n      </g>\r\n     </g>\r\n    </g>\r\n    <g id=\"xtick_4\">\r\n     <g id=\"line2d_4\">\r\n      <g>\r\n       <use style=\"stroke:#000000;stroke-width:0.8;\" x=\"182.284943\" xlink:href=\"#m4a9fbe417a\" y=\"239.758125\"/>\r\n      </g>\r\n     </g>\r\n     <g id=\"text_4\">\r\n      <!-- 150 -->\r\n      <g transform=\"translate(172.741193 254.356563)scale(0.1 -0.1)\">\r\n       <use xlink:href=\"#DejaVuSans-49\"/>\r\n       <use x=\"63.623047\" xlink:href=\"#DejaVuSans-53\"/>\r\n       <use x=\"127.246094\" xlink:href=\"#DejaVuSans-48\"/>\r\n      </g>\r\n     </g>\r\n    </g>\r\n    <g id=\"xtick_5\">\r\n     <g id=\"line2d_5\">\r\n      <g>\r\n       <use style=\"stroke:#000000;stroke-width:0.8;\" x=\"227.044301\" xlink:href=\"#m4a9fbe417a\" y=\"239.758125\"/>\r\n      </g>\r\n     </g>\r\n     <g id=\"text_5\">\r\n      <!-- 200 -->\r\n      <g transform=\"translate(217.500551 254.356563)scale(0.1 -0.1)\">\r\n       <defs>\r\n        <path d=\"M 19.1875 8.296875 \r\nL 53.609375 8.296875 \r\nL 53.609375 0 \r\nL 7.328125 0 \r\nL 7.328125 8.296875 \r\nQ 12.9375 14.109375 22.625 23.890625 \r\nQ 32.328125 33.6875 34.8125 36.53125 \r\nQ 39.546875 41.84375 41.421875 45.53125 \r\nQ 43.3125 49.21875 43.3125 52.78125 \r\nQ 43.3125 58.59375 39.234375 62.25 \r\nQ 35.15625 65.921875 28.609375 65.921875 \r\nQ 23.96875 65.921875 18.8125 64.3125 \r\nQ 13.671875 62.703125 7.8125 59.421875 \r\nL 7.8125 69.390625 \r\nQ 13.765625 71.78125 18.9375 73 \r\nQ 24.125 74.21875 28.421875 74.21875 \r\nQ 39.75 74.21875 46.484375 68.546875 \r\nQ 53.21875 62.890625 53.21875 53.421875 \r\nQ 53.21875 48.921875 51.53125 44.890625 \r\nQ 49.859375 40.875 45.40625 35.40625 \r\nQ 44.1875 33.984375 37.640625 27.21875 \r\nQ 31.109375 20.453125 19.1875 8.296875 \r\nz\r\n\" id=\"DejaVuSans-50\"/>\r\n       </defs>\r\n       <use xlink:href=\"#DejaVuSans-50\"/>\r\n       <use x=\"63.623047\" xlink:href=\"#DejaVuSans-48\"/>\r\n       <use x=\"127.246094\" xlink:href=\"#DejaVuSans-48\"/>\r\n      </g>\r\n     </g>\r\n    </g>\r\n    <g id=\"xtick_6\">\r\n     <g id=\"line2d_6\">\r\n      <g>\r\n       <use style=\"stroke:#000000;stroke-width:0.8;\" x=\"271.80366\" xlink:href=\"#m4a9fbe417a\" y=\"239.758125\"/>\r\n      </g>\r\n     </g>\r\n     <g id=\"text_6\">\r\n      <!-- 250 -->\r\n      <g transform=\"translate(262.25991 254.356563)scale(0.1 -0.1)\">\r\n       <use xlink:href=\"#DejaVuSans-50\"/>\r\n       <use x=\"63.623047\" xlink:href=\"#DejaVuSans-53\"/>\r\n       <use x=\"127.246094\" xlink:href=\"#DejaVuSans-48\"/>\r\n      </g>\r\n     </g>\r\n    </g>\r\n    <g id=\"xtick_7\">\r\n     <g id=\"line2d_7\">\r\n      <g>\r\n       <use style=\"stroke:#000000;stroke-width:0.8;\" x=\"316.563018\" xlink:href=\"#m4a9fbe417a\" y=\"239.758125\"/>\r\n      </g>\r\n     </g>\r\n     <g id=\"text_7\">\r\n      <!-- 300 -->\r\n      <g transform=\"translate(307.019268 254.356563)scale(0.1 -0.1)\">\r\n       <defs>\r\n        <path d=\"M 40.578125 39.3125 \r\nQ 47.65625 37.796875 51.625 33 \r\nQ 55.609375 28.21875 55.609375 21.1875 \r\nQ 55.609375 10.40625 48.1875 4.484375 \r\nQ 40.765625 -1.421875 27.09375 -1.421875 \r\nQ 22.515625 -1.421875 17.65625 -0.515625 \r\nQ 12.796875 0.390625 7.625 2.203125 \r\nL 7.625 11.71875 \r\nQ 11.71875 9.328125 16.59375 8.109375 \r\nQ 21.484375 6.890625 26.8125 6.890625 \r\nQ 36.078125 6.890625 40.9375 10.546875 \r\nQ 45.796875 14.203125 45.796875 21.1875 \r\nQ 45.796875 27.640625 41.28125 31.265625 \r\nQ 36.765625 34.90625 28.71875 34.90625 \r\nL 20.21875 34.90625 \r\nL 20.21875 43.015625 \r\nL 29.109375 43.015625 \r\nQ 36.375 43.015625 40.234375 45.921875 \r\nQ 44.09375 48.828125 44.09375 54.296875 \r\nQ 44.09375 59.90625 40.109375 62.90625 \r\nQ 36.140625 65.921875 28.71875 65.921875 \r\nQ 24.65625 65.921875 20.015625 65.03125 \r\nQ 15.375 64.15625 9.8125 62.3125 \r\nL 9.8125 71.09375 \r\nQ 15.4375 72.65625 20.34375 73.4375 \r\nQ 25.25 74.21875 29.59375 74.21875 \r\nQ 40.828125 74.21875 47.359375 69.109375 \r\nQ 53.90625 64.015625 53.90625 55.328125 \r\nQ 53.90625 49.265625 50.4375 45.09375 \r\nQ 46.96875 40.921875 40.578125 39.3125 \r\nz\r\n\" id=\"DejaVuSans-51\"/>\r\n       </defs>\r\n       <use xlink:href=\"#DejaVuSans-51\"/>\r\n       <use x=\"63.623047\" xlink:href=\"#DejaVuSans-48\"/>\r\n       <use x=\"127.246094\" xlink:href=\"#DejaVuSans-48\"/>\r\n      </g>\r\n     </g>\r\n    </g>\r\n    <g id=\"xtick_8\">\r\n     <g id=\"line2d_8\">\r\n      <g>\r\n       <use style=\"stroke:#000000;stroke-width:0.8;\" x=\"361.322376\" xlink:href=\"#m4a9fbe417a\" y=\"239.758125\"/>\r\n      </g>\r\n     </g>\r\n     <g id=\"text_8\">\r\n      <!-- 350 -->\r\n      <g transform=\"translate(351.778626 254.356563)scale(0.1 -0.1)\">\r\n       <use xlink:href=\"#DejaVuSans-51\"/>\r\n       <use x=\"63.623047\" xlink:href=\"#DejaVuSans-53\"/>\r\n       <use x=\"127.246094\" xlink:href=\"#DejaVuSans-48\"/>\r\n      </g>\r\n     </g>\r\n    </g>\r\n    <g id=\"xtick_9\">\r\n     <g id=\"line2d_9\">\r\n      <g>\r\n       <use style=\"stroke:#000000;stroke-width:0.8;\" x=\"406.081735\" xlink:href=\"#m4a9fbe417a\" y=\"239.758125\"/>\r\n      </g>\r\n     </g>\r\n     <g id=\"text_9\">\r\n      <!-- 400 -->\r\n      <g transform=\"translate(396.537985 254.356563)scale(0.1 -0.1)\">\r\n       <defs>\r\n        <path d=\"M 37.796875 64.3125 \r\nL 12.890625 25.390625 \r\nL 37.796875 25.390625 \r\nz\r\nM 35.203125 72.90625 \r\nL 47.609375 72.90625 \r\nL 47.609375 25.390625 \r\nL 58.015625 25.390625 \r\nL 58.015625 17.1875 \r\nL 47.609375 17.1875 \r\nL 47.609375 0 \r\nL 37.796875 0 \r\nL 37.796875 17.1875 \r\nL 4.890625 17.1875 \r\nL 4.890625 26.703125 \r\nz\r\n\" id=\"DejaVuSans-52\"/>\r\n       </defs>\r\n       <use xlink:href=\"#DejaVuSans-52\"/>\r\n       <use x=\"63.623047\" xlink:href=\"#DejaVuSans-48\"/>\r\n       <use x=\"127.246094\" xlink:href=\"#DejaVuSans-48\"/>\r\n      </g>\r\n     </g>\r\n    </g>\r\n   </g>\r\n   <g id=\"matplotlib.axis_2\">\r\n    <g id=\"ytick_1\">\r\n     <g id=\"line2d_10\">\r\n      <defs>\r\n       <path d=\"M 0 0 \r\nL -3.5 0 \r\n\" id=\"mc4e0ea418c\" style=\"stroke:#000000;stroke-width:0.8;\"/>\r\n      </defs>\r\n      <g>\r\n       <use style=\"stroke:#000000;stroke-width:0.8;\" x=\"30.103125\" xlink:href=\"#mc4e0ea418c\" y=\"229.874489\"/>\r\n      </g>\r\n     </g>\r\n     <g id=\"text_10\">\r\n      <!-- 0.0 -->\r\n      <g transform=\"translate(7.2 233.673707)scale(0.1 -0.1)\">\r\n       <defs>\r\n        <path d=\"M 10.6875 12.40625 \r\nL 21 12.40625 \r\nL 21 0 \r\nL 10.6875 0 \r\nz\r\n\" id=\"DejaVuSans-46\"/>\r\n       </defs>\r\n       <use xlink:href=\"#DejaVuSans-48\"/>\r\n       <use x=\"63.623047\" xlink:href=\"#DejaVuSans-46\"/>\r\n       <use x=\"95.410156\" xlink:href=\"#DejaVuSans-48\"/>\r\n      </g>\r\n     </g>\r\n    </g>\r\n    <g id=\"ytick_2\">\r\n     <g id=\"line2d_11\">\r\n      <g>\r\n       <use style=\"stroke:#000000;stroke-width:0.8;\" x=\"30.103125\" xlink:href=\"#mc4e0ea418c\" y=\"190.339943\"/>\r\n      </g>\r\n     </g>\r\n     <g id=\"text_11\">\r\n      <!-- 0.2 -->\r\n      <g transform=\"translate(7.2 194.139162)scale(0.1 -0.1)\">\r\n       <use xlink:href=\"#DejaVuSans-48\"/>\r\n       <use x=\"63.623047\" xlink:href=\"#DejaVuSans-46\"/>\r\n       <use x=\"95.410156\" xlink:href=\"#DejaVuSans-50\"/>\r\n      </g>\r\n     </g>\r\n    </g>\r\n    <g id=\"ytick_3\">\r\n     <g id=\"line2d_12\">\r\n      <g>\r\n       <use style=\"stroke:#000000;stroke-width:0.8;\" x=\"30.103125\" xlink:href=\"#mc4e0ea418c\" y=\"150.805398\"/>\r\n      </g>\r\n     </g>\r\n     <g id=\"text_12\">\r\n      <!-- 0.4 -->\r\n      <g transform=\"translate(7.2 154.604616)scale(0.1 -0.1)\">\r\n       <use xlink:href=\"#DejaVuSans-48\"/>\r\n       <use x=\"63.623047\" xlink:href=\"#DejaVuSans-46\"/>\r\n       <use x=\"95.410156\" xlink:href=\"#DejaVuSans-52\"/>\r\n      </g>\r\n     </g>\r\n    </g>\r\n    <g id=\"ytick_4\">\r\n     <g id=\"line2d_13\">\r\n      <g>\r\n       <use style=\"stroke:#000000;stroke-width:0.8;\" x=\"30.103125\" xlink:href=\"#mc4e0ea418c\" y=\"111.270852\"/>\r\n      </g>\r\n     </g>\r\n     <g id=\"text_13\">\r\n      <!-- 0.6 -->\r\n      <g transform=\"translate(7.2 115.070071)scale(0.1 -0.1)\">\r\n       <defs>\r\n        <path d=\"M 33.015625 40.375 \r\nQ 26.375 40.375 22.484375 35.828125 \r\nQ 18.609375 31.296875 18.609375 23.390625 \r\nQ 18.609375 15.53125 22.484375 10.953125 \r\nQ 26.375 6.390625 33.015625 6.390625 \r\nQ 39.65625 6.390625 43.53125 10.953125 \r\nQ 47.40625 15.53125 47.40625 23.390625 \r\nQ 47.40625 31.296875 43.53125 35.828125 \r\nQ 39.65625 40.375 33.015625 40.375 \r\nz\r\nM 52.59375 71.296875 \r\nL 52.59375 62.3125 \r\nQ 48.875 64.0625 45.09375 64.984375 \r\nQ 41.3125 65.921875 37.59375 65.921875 \r\nQ 27.828125 65.921875 22.671875 59.328125 \r\nQ 17.53125 52.734375 16.796875 39.40625 \r\nQ 19.671875 43.65625 24.015625 45.921875 \r\nQ 28.375 48.1875 33.59375 48.1875 \r\nQ 44.578125 48.1875 50.953125 41.515625 \r\nQ 57.328125 34.859375 57.328125 23.390625 \r\nQ 57.328125 12.15625 50.6875 5.359375 \r\nQ 44.046875 -1.421875 33.015625 -1.421875 \r\nQ 20.359375 -1.421875 13.671875 8.265625 \r\nQ 6.984375 17.96875 6.984375 36.375 \r\nQ 6.984375 53.65625 15.1875 63.9375 \r\nQ 23.390625 74.21875 37.203125 74.21875 \r\nQ 40.921875 74.21875 44.703125 73.484375 \r\nQ 48.484375 72.75 52.59375 71.296875 \r\nz\r\n\" id=\"DejaVuSans-54\"/>\r\n       </defs>\r\n       <use xlink:href=\"#DejaVuSans-48\"/>\r\n       <use x=\"63.623047\" xlink:href=\"#DejaVuSans-46\"/>\r\n       <use x=\"95.410156\" xlink:href=\"#DejaVuSans-54\"/>\r\n      </g>\r\n     </g>\r\n    </g>\r\n    <g id=\"ytick_5\">\r\n     <g id=\"line2d_14\">\r\n      <g>\r\n       <use style=\"stroke:#000000;stroke-width:0.8;\" x=\"30.103125\" xlink:href=\"#mc4e0ea418c\" y=\"71.736307\"/>\r\n      </g>\r\n     </g>\r\n     <g id=\"text_14\">\r\n      <!-- 0.8 -->\r\n      <g transform=\"translate(7.2 75.535526)scale(0.1 -0.1)\">\r\n       <defs>\r\n        <path d=\"M 31.78125 34.625 \r\nQ 24.75 34.625 20.71875 30.859375 \r\nQ 16.703125 27.09375 16.703125 20.515625 \r\nQ 16.703125 13.921875 20.71875 10.15625 \r\nQ 24.75 6.390625 31.78125 6.390625 \r\nQ 38.8125 6.390625 42.859375 10.171875 \r\nQ 46.921875 13.96875 46.921875 20.515625 \r\nQ 46.921875 27.09375 42.890625 30.859375 \r\nQ 38.875 34.625 31.78125 34.625 \r\nz\r\nM 21.921875 38.8125 \r\nQ 15.578125 40.375 12.03125 44.71875 \r\nQ 8.5 49.078125 8.5 55.328125 \r\nQ 8.5 64.0625 14.71875 69.140625 \r\nQ 20.953125 74.21875 31.78125 74.21875 \r\nQ 42.671875 74.21875 48.875 69.140625 \r\nQ 55.078125 64.0625 55.078125 55.328125 \r\nQ 55.078125 49.078125 51.53125 44.71875 \r\nQ 48 40.375 41.703125 38.8125 \r\nQ 48.828125 37.15625 52.796875 32.3125 \r\nQ 56.78125 27.484375 56.78125 20.515625 \r\nQ 56.78125 9.90625 50.3125 4.234375 \r\nQ 43.84375 -1.421875 31.78125 -1.421875 \r\nQ 19.734375 -1.421875 13.25 4.234375 \r\nQ 6.78125 9.90625 6.78125 20.515625 \r\nQ 6.78125 27.484375 10.78125 32.3125 \r\nQ 14.796875 37.15625 21.921875 38.8125 \r\nz\r\nM 18.3125 54.390625 \r\nQ 18.3125 48.734375 21.84375 45.5625 \r\nQ 25.390625 42.390625 31.78125 42.390625 \r\nQ 38.140625 42.390625 41.71875 45.5625 \r\nQ 45.3125 48.734375 45.3125 54.390625 \r\nQ 45.3125 60.0625 41.71875 63.234375 \r\nQ 38.140625 66.40625 31.78125 66.40625 \r\nQ 25.390625 66.40625 21.84375 63.234375 \r\nQ 18.3125 60.0625 18.3125 54.390625 \r\nz\r\n\" id=\"DejaVuSans-56\"/>\r\n       </defs>\r\n       <use xlink:href=\"#DejaVuSans-48\"/>\r\n       <use x=\"63.623047\" xlink:href=\"#DejaVuSans-46\"/>\r\n       <use x=\"95.410156\" xlink:href=\"#DejaVuSans-56\"/>\r\n      </g>\r\n     </g>\r\n    </g>\r\n    <g id=\"ytick_6\">\r\n     <g id=\"line2d_15\">\r\n      <g>\r\n       <use style=\"stroke:#000000;stroke-width:0.8;\" x=\"30.103125\" xlink:href=\"#mc4e0ea418c\" y=\"32.201761\"/>\r\n      </g>\r\n     </g>\r\n     <g id=\"text_15\">\r\n      <!-- 1.0 -->\r\n      <g transform=\"translate(7.2 36.00098)scale(0.1 -0.1)\">\r\n       <use xlink:href=\"#DejaVuSans-49\"/>\r\n       <use x=\"63.623047\" xlink:href=\"#DejaVuSans-46\"/>\r\n       <use x=\"95.410156\" xlink:href=\"#DejaVuSans-48\"/>\r\n      </g>\r\n     </g>\r\n    </g>\r\n   </g>\r\n   <g id=\"line2d_16\">\r\n    <path clip-path=\"url(#pfde2415e4e)\" d=\"M 48.006868 229.874489 \r\nL 52.482804 229.874489 \r\nL 53.377991 32.201761 \r\nL 54.273178 229.874489 \r\nL 65.910612 229.874489 \r\nL 66.805799 32.201761 \r\nL 67.700986 229.874489 \r\nL 101.718098 229.874489 \r\nL 102.613285 32.201761 \r\nL 103.508473 229.874489 \r\nL 142.001521 229.874489 \r\nL 142.896708 32.201761 \r\nL 143.791895 229.874489 \r\nL 191.236815 229.874489 \r\nL 192.132002 32.201761 \r\nL 193.027189 229.874489 \r\nL 218.09243 229.874489 \r\nL 218.987617 32.201761 \r\nL 219.882804 229.874489 \r\nL 249.423981 229.874489 \r\nL 250.319168 32.201761 \r\nL 251.214355 229.874489 \r\nL 262.851788 229.874489 \r\nL 263.746975 32.201761 \r\nL 264.642162 229.874489 \r\nL 294.183339 229.874489 \r\nL 295.078526 32.201761 \r\nL 295.973713 229.874489 \r\nL 325.51489 229.874489 \r\nL 326.410077 32.201761 \r\nL 327.305264 229.874489 \r\nL 370.274248 229.874489 \r\nL 371.169435 32.201761 \r\nL 372.064622 229.874489 \r\nL 379.22612 229.874489 \r\nL 380.121307 32.201761 \r\nL 381.016494 229.874489 \r\nL 401.605799 229.874489 \r\nL 402.500986 32.201761 \r\nL 403.396173 229.874489 \r\nL 406.081735 229.874489 \r\nL 406.081735 229.874489 \r\n\" style=\"fill:none;stroke:#1f77b4;stroke-linecap:square;stroke-width:1.5;\"/>\r\n   </g>\r\n   <g id=\"line2d_17\">\r\n    <path clip-path=\"url(#pfde2415e4e)\" d=\"M 48.006868 229.874489 \r\nL 52.482804 229.874489 \r\nL 53.377991 32.201761 \r\nL 54.273178 229.874489 \r\nL 406.081735 229.874489 \r\nL 406.081735 229.874489 \r\n\" style=\"fill:none;stroke:#ff7f0e;stroke-linecap:square;stroke-width:1.5;\"/>\r\n   </g>\r\n   <g id=\"line2d_18\">\r\n    <path clip-path=\"url(#pfde2415e4e)\" d=\"M 48.006868 229.874489 \r\nL 50.69243 229.874489 \r\nL 51.587617 32.201761 \r\nL 53.377991 32.201761 \r\nL 54.273178 229.874489 \r\nL 60.539489 229.874489 \r\nL 61.434676 32.201761 \r\nL 66.805799 32.201761 \r\nL 67.700986 229.874489 \r\nL 97.242162 229.874489 \r\nL 98.13735 32.201761 \r\nL 102.613285 32.201761 \r\nL 103.508473 229.874489 \r\nL 141.106334 229.874489 \r\nL 142.001521 32.201761 \r\nL 142.896708 32.201761 \r\nL 143.791895 229.874489 \r\nL 185.865692 229.874489 \r\nL 186.760879 32.201761 \r\nL 192.132002 32.201761 \r\nL 193.027189 229.874489 \r\nL 217.197243 229.874489 \r\nL 218.09243 32.201761 \r\nL 218.987617 32.201761 \r\nL 219.882804 229.874489 \r\nL 237.786547 229.874489 \r\nL 238.681735 32.201761 \r\nL 250.319168 32.201761 \r\nL 251.214355 229.874489 \r\nL 261.956601 229.874489 \r\nL 262.851788 32.201761 \r\nL 263.746975 32.201761 \r\nL 264.642162 229.874489 \r\nL 292.392965 229.874489 \r\nL 293.288152 32.201761 \r\nL 295.078526 32.201761 \r\nL 295.973713 229.874489 \r\nL 321.038954 229.874489 \r\nL 321.934141 32.201761 \r\nL 326.410077 32.201761 \r\nL 327.305264 229.874489 \r\nL 366.693499 229.874489 \r\nL 367.588686 32.201761 \r\nL 371.169435 32.201761 \r\nL 372.064622 229.874489 \r\nL 374.750184 229.874489 \r\nL 375.645371 32.201761 \r\nL 380.121307 32.201761 \r\nL 381.016494 229.874489 \r\nL 400.710612 229.874489 \r\nL 401.605799 32.201761 \r\nL 402.500986 32.201761 \r\nL 403.396173 229.874489 \r\nL 405.186547 229.874489 \r\nL 406.081735 32.201761 \r\nL 406.081735 32.201761 \r\n\" style=\"fill:none;stroke:#2ca02c;stroke-linecap:square;stroke-width:1.5;\"/>\r\n   </g>\r\n   <g id=\"patch_3\">\r\n    <path d=\"M 30.103125 239.758125 \r\nL 30.103125 22.318125 \r\n\" style=\"fill:none;stroke:#000000;stroke-linecap:square;stroke-linejoin:miter;stroke-width:0.8;\"/>\r\n   </g>\r\n   <g id=\"patch_4\">\r\n    <path d=\"M 423.985478 239.758125 \r\nL 423.985478 22.318125 \r\n\" style=\"fill:none;stroke:#000000;stroke-linecap:square;stroke-linejoin:miter;stroke-width:0.8;\"/>\r\n   </g>\r\n   <g id=\"patch_5\">\r\n    <path d=\"M 30.103125 239.758125 \r\nL 423.985478 239.758125 \r\n\" style=\"fill:none;stroke:#000000;stroke-linecap:square;stroke-linejoin:miter;stroke-width:0.8;\"/>\r\n   </g>\r\n   <g id=\"patch_6\">\r\n    <path d=\"M 30.103125 22.318125 \r\nL 423.985478 22.318125 \r\n\" style=\"fill:none;stroke:#000000;stroke-linecap:square;stroke-linejoin:miter;stroke-width:0.8;\"/>\r\n   </g>\r\n   <g id=\"text_16\">\r\n    <!-- State -->\r\n    <g transform=\"translate(211.162114 16.318125)scale(0.12 -0.12)\">\r\n     <defs>\r\n      <path d=\"M 53.515625 70.515625 \r\nL 53.515625 60.890625 \r\nQ 47.90625 63.578125 42.921875 64.890625 \r\nQ 37.9375 66.21875 33.296875 66.21875 \r\nQ 25.25 66.21875 20.875 63.09375 \r\nQ 16.5 59.96875 16.5 54.203125 \r\nQ 16.5 49.359375 19.40625 46.890625 \r\nQ 22.3125 44.4375 30.421875 42.921875 \r\nL 36.375 41.703125 \r\nQ 47.40625 39.59375 52.65625 34.296875 \r\nQ 57.90625 29 57.90625 20.125 \r\nQ 57.90625 9.515625 50.796875 4.046875 \r\nQ 43.703125 -1.421875 29.984375 -1.421875 \r\nQ 24.8125 -1.421875 18.96875 -0.25 \r\nQ 13.140625 0.921875 6.890625 3.21875 \r\nL 6.890625 13.375 \r\nQ 12.890625 10.015625 18.65625 8.296875 \r\nQ 24.421875 6.59375 29.984375 6.59375 \r\nQ 38.421875 6.59375 43.015625 9.90625 \r\nQ 47.609375 13.234375 47.609375 19.390625 \r\nQ 47.609375 24.75 44.3125 27.78125 \r\nQ 41.015625 30.8125 33.5 32.328125 \r\nL 27.484375 33.5 \r\nQ 16.453125 35.6875 11.515625 40.375 \r\nQ 6.59375 45.0625 6.59375 53.421875 \r\nQ 6.59375 63.09375 13.40625 68.65625 \r\nQ 20.21875 74.21875 32.171875 74.21875 \r\nQ 37.3125 74.21875 42.625 73.28125 \r\nQ 47.953125 72.359375 53.515625 70.515625 \r\nz\r\n\" id=\"DejaVuSans-83\"/>\r\n      <path d=\"M 18.3125 70.21875 \r\nL 18.3125 54.6875 \r\nL 36.8125 54.6875 \r\nL 36.8125 47.703125 \r\nL 18.3125 47.703125 \r\nL 18.3125 18.015625 \r\nQ 18.3125 11.328125 20.140625 9.421875 \r\nQ 21.96875 7.515625 27.59375 7.515625 \r\nL 36.8125 7.515625 \r\nL 36.8125 0 \r\nL 27.59375 0 \r\nQ 17.1875 0 13.234375 3.875 \r\nQ 9.28125 7.765625 9.28125 18.015625 \r\nL 9.28125 47.703125 \r\nL 2.6875 47.703125 \r\nL 2.6875 54.6875 \r\nL 9.28125 54.6875 \r\nL 9.28125 70.21875 \r\nz\r\n\" id=\"DejaVuSans-116\"/>\r\n      <path d=\"M 34.28125 27.484375 \r\nQ 23.390625 27.484375 19.1875 25 \r\nQ 14.984375 22.515625 14.984375 16.5 \r\nQ 14.984375 11.71875 18.140625 8.90625 \r\nQ 21.296875 6.109375 26.703125 6.109375 \r\nQ 34.1875 6.109375 38.703125 11.40625 \r\nQ 43.21875 16.703125 43.21875 25.484375 \r\nL 43.21875 27.484375 \r\nz\r\nM 52.203125 31.203125 \r\nL 52.203125 0 \r\nL 43.21875 0 \r\nL 43.21875 8.296875 \r\nQ 40.140625 3.328125 35.546875 0.953125 \r\nQ 30.953125 -1.421875 24.3125 -1.421875 \r\nQ 15.921875 -1.421875 10.953125 3.296875 \r\nQ 6 8.015625 6 15.921875 \r\nQ 6 25.140625 12.171875 29.828125 \r\nQ 18.359375 34.515625 30.609375 34.515625 \r\nL 43.21875 34.515625 \r\nL 43.21875 35.40625 \r\nQ 43.21875 41.609375 39.140625 45 \r\nQ 35.0625 48.390625 27.6875 48.390625 \r\nQ 23 48.390625 18.546875 47.265625 \r\nQ 14.109375 46.140625 10.015625 43.890625 \r\nL 10.015625 52.203125 \r\nQ 14.9375 54.109375 19.578125 55.046875 \r\nQ 24.21875 56 28.609375 56 \r\nQ 40.484375 56 46.34375 49.84375 \r\nQ 52.203125 43.703125 52.203125 31.203125 \r\nz\r\n\" id=\"DejaVuSans-97\"/>\r\n      <path d=\"M 56.203125 29.59375 \r\nL 56.203125 25.203125 \r\nL 14.890625 25.203125 \r\nQ 15.484375 15.921875 20.484375 11.0625 \r\nQ 25.484375 6.203125 34.421875 6.203125 \r\nQ 39.59375 6.203125 44.453125 7.46875 \r\nQ 49.3125 8.734375 54.109375 11.28125 \r\nL 54.109375 2.78125 \r\nQ 49.265625 0.734375 44.1875 -0.34375 \r\nQ 39.109375 -1.421875 33.890625 -1.421875 \r\nQ 20.796875 -1.421875 13.15625 6.1875 \r\nQ 5.515625 13.8125 5.515625 26.8125 \r\nQ 5.515625 40.234375 12.765625 48.109375 \r\nQ 20.015625 56 32.328125 56 \r\nQ 43.359375 56 49.78125 48.890625 \r\nQ 56.203125 41.796875 56.203125 29.59375 \r\nz\r\nM 47.21875 32.234375 \r\nQ 47.125 39.59375 43.09375 43.984375 \r\nQ 39.0625 48.390625 32.421875 48.390625 \r\nQ 24.90625 48.390625 20.390625 44.140625 \r\nQ 15.875 39.890625 15.1875 32.171875 \r\nz\r\n\" id=\"DejaVuSans-101\"/>\r\n     </defs>\r\n     <use xlink:href=\"#DejaVuSans-83\"/>\r\n     <use x=\"63.476562\" xlink:href=\"#DejaVuSans-116\"/>\r\n     <use x=\"102.685547\" xlink:href=\"#DejaVuSans-97\"/>\r\n     <use x=\"163.964844\" xlink:href=\"#DejaVuSans-116\"/>\r\n     <use x=\"203.173828\" xlink:href=\"#DejaVuSans-101\"/>\r\n    </g>\r\n   </g>\r\n   <g id=\"legend_1\">\r\n    <g id=\"patch_7\">\r\n     <path d=\"M 337.757353 154.555313 \r\nL 416.985478 154.555313 \r\nQ 418.985478 154.555313 418.985478 152.555313 \r\nL 418.985478 109.520938 \r\nQ 418.985478 107.520938 416.985478 107.520938 \r\nL 337.757353 107.520938 \r\nQ 335.757353 107.520938 335.757353 109.520938 \r\nL 335.757353 152.555313 \r\nQ 335.757353 154.555313 337.757353 154.555313 \r\nz\r\n\" style=\"fill:#ffffff;opacity:0.8;stroke:#cccccc;stroke-linejoin:miter;\"/>\r\n    </g>\r\n    <g id=\"line2d_19\">\r\n     <path d=\"M 339.757353 115.619375 \r\nL 359.757353 115.619375 \r\n\" style=\"fill:none;stroke:#1f77b4;stroke-linecap:square;stroke-width:1.5;\"/>\r\n    </g>\r\n    <g id=\"line2d_20\"/>\r\n    <g id=\"text_17\">\r\n     <!-- detection -->\r\n     <g transform=\"translate(367.757353 119.119375)scale(0.1 -0.1)\">\r\n      <defs>\r\n       <path d=\"M 45.40625 46.390625 \r\nL 45.40625 75.984375 \r\nL 54.390625 75.984375 \r\nL 54.390625 0 \r\nL 45.40625 0 \r\nL 45.40625 8.203125 \r\nQ 42.578125 3.328125 38.25 0.953125 \r\nQ 33.9375 -1.421875 27.875 -1.421875 \r\nQ 17.96875 -1.421875 11.734375 6.484375 \r\nQ 5.515625 14.40625 5.515625 27.296875 \r\nQ 5.515625 40.1875 11.734375 48.09375 \r\nQ 17.96875 56 27.875 56 \r\nQ 33.9375 56 38.25 53.625 \r\nQ 42.578125 51.265625 45.40625 46.390625 \r\nz\r\nM 14.796875 27.296875 \r\nQ 14.796875 17.390625 18.875 11.75 \r\nQ 22.953125 6.109375 30.078125 6.109375 \r\nQ 37.203125 6.109375 41.296875 11.75 \r\nQ 45.40625 17.390625 45.40625 27.296875 \r\nQ 45.40625 37.203125 41.296875 42.84375 \r\nQ 37.203125 48.484375 30.078125 48.484375 \r\nQ 22.953125 48.484375 18.875 42.84375 \r\nQ 14.796875 37.203125 14.796875 27.296875 \r\nz\r\n\" id=\"DejaVuSans-100\"/>\r\n       <path d=\"M 48.78125 52.59375 \r\nL 48.78125 44.1875 \r\nQ 44.96875 46.296875 41.140625 47.34375 \r\nQ 37.3125 48.390625 33.40625 48.390625 \r\nQ 24.65625 48.390625 19.8125 42.84375 \r\nQ 14.984375 37.3125 14.984375 27.296875 \r\nQ 14.984375 17.28125 19.8125 11.734375 \r\nQ 24.65625 6.203125 33.40625 6.203125 \r\nQ 37.3125 6.203125 41.140625 7.25 \r\nQ 44.96875 8.296875 48.78125 10.40625 \r\nL 48.78125 2.09375 \r\nQ 45.015625 0.34375 40.984375 -0.53125 \r\nQ 36.96875 -1.421875 32.421875 -1.421875 \r\nQ 20.0625 -1.421875 12.78125 6.34375 \r\nQ 5.515625 14.109375 5.515625 27.296875 \r\nQ 5.515625 40.671875 12.859375 48.328125 \r\nQ 20.21875 56 33.015625 56 \r\nQ 37.15625 56 41.109375 55.140625 \r\nQ 45.0625 54.296875 48.78125 52.59375 \r\nz\r\n\" id=\"DejaVuSans-99\"/>\r\n       <path d=\"M 9.421875 54.6875 \r\nL 18.40625 54.6875 \r\nL 18.40625 0 \r\nL 9.421875 0 \r\nz\r\nM 9.421875 75.984375 \r\nL 18.40625 75.984375 \r\nL 18.40625 64.59375 \r\nL 9.421875 64.59375 \r\nz\r\n\" id=\"DejaVuSans-105\"/>\r\n       <path d=\"M 30.609375 48.390625 \r\nQ 23.390625 48.390625 19.1875 42.75 \r\nQ 14.984375 37.109375 14.984375 27.296875 \r\nQ 14.984375 17.484375 19.15625 11.84375 \r\nQ 23.34375 6.203125 30.609375 6.203125 \r\nQ 37.796875 6.203125 41.984375 11.859375 \r\nQ 46.1875 17.53125 46.1875 27.296875 \r\nQ 46.1875 37.015625 41.984375 42.703125 \r\nQ 37.796875 48.390625 30.609375 48.390625 \r\nz\r\nM 30.609375 56 \r\nQ 42.328125 56 49.015625 48.375 \r\nQ 55.71875 40.765625 55.71875 27.296875 \r\nQ 55.71875 13.875 49.015625 6.21875 \r\nQ 42.328125 -1.421875 30.609375 -1.421875 \r\nQ 18.84375 -1.421875 12.171875 6.21875 \r\nQ 5.515625 13.875 5.515625 27.296875 \r\nQ 5.515625 40.765625 12.171875 48.375 \r\nQ 18.84375 56 30.609375 56 \r\nz\r\n\" id=\"DejaVuSans-111\"/>\r\n       <path d=\"M 54.890625 33.015625 \r\nL 54.890625 0 \r\nL 45.90625 0 \r\nL 45.90625 32.71875 \r\nQ 45.90625 40.484375 42.875 44.328125 \r\nQ 39.84375 48.1875 33.796875 48.1875 \r\nQ 26.515625 48.1875 22.3125 43.546875 \r\nQ 18.109375 38.921875 18.109375 30.90625 \r\nL 18.109375 0 \r\nL 9.078125 0 \r\nL 9.078125 54.6875 \r\nL 18.109375 54.6875 \r\nL 18.109375 46.1875 \r\nQ 21.34375 51.125 25.703125 53.5625 \r\nQ 30.078125 56 35.796875 56 \r\nQ 45.21875 56 50.046875 50.171875 \r\nQ 54.890625 44.34375 54.890625 33.015625 \r\nz\r\n\" id=\"DejaVuSans-110\"/>\r\n      </defs>\r\n      <use xlink:href=\"#DejaVuSans-100\"/>\r\n      <use x=\"63.476562\" xlink:href=\"#DejaVuSans-101\"/>\r\n      <use x=\"125\" xlink:href=\"#DejaVuSans-116\"/>\r\n      <use x=\"164.208984\" xlink:href=\"#DejaVuSans-101\"/>\r\n      <use x=\"225.732422\" xlink:href=\"#DejaVuSans-99\"/>\r\n      <use x=\"280.712891\" xlink:href=\"#DejaVuSans-116\"/>\r\n      <use x=\"319.921875\" xlink:href=\"#DejaVuSans-105\"/>\r\n      <use x=\"347.705078\" xlink:href=\"#DejaVuSans-111\"/>\r\n      <use x=\"408.886719\" xlink:href=\"#DejaVuSans-110\"/>\r\n     </g>\r\n    </g>\r\n    <g id=\"line2d_21\">\r\n     <path d=\"M 339.757353 130.2975 \r\nL 359.757353 130.2975 \r\n\" style=\"fill:none;stroke:#ff7f0e;stroke-linecap:square;stroke-width:1.5;\"/>\r\n    </g>\r\n    <g id=\"line2d_22\"/>\r\n    <g id=\"text_18\">\r\n     <!-- failure -->\r\n     <g transform=\"translate(367.757353 133.7975)scale(0.1 -0.1)\">\r\n      <defs>\r\n       <path d=\"M 37.109375 75.984375 \r\nL 37.109375 68.5 \r\nL 28.515625 68.5 \r\nQ 23.6875 68.5 21.796875 66.546875 \r\nQ 19.921875 64.59375 19.921875 59.515625 \r\nL 19.921875 54.6875 \r\nL 34.71875 54.6875 \r\nL 34.71875 47.703125 \r\nL 19.921875 47.703125 \r\nL 19.921875 0 \r\nL 10.890625 0 \r\nL 10.890625 47.703125 \r\nL 2.296875 47.703125 \r\nL 2.296875 54.6875 \r\nL 10.890625 54.6875 \r\nL 10.890625 58.5 \r\nQ 10.890625 67.625 15.140625 71.796875 \r\nQ 19.390625 75.984375 28.609375 75.984375 \r\nz\r\n\" id=\"DejaVuSans-102\"/>\r\n       <path d=\"M 9.421875 75.984375 \r\nL 18.40625 75.984375 \r\nL 18.40625 0 \r\nL 9.421875 0 \r\nz\r\n\" id=\"DejaVuSans-108\"/>\r\n       <path d=\"M 8.5 21.578125 \r\nL 8.5 54.6875 \r\nL 17.484375 54.6875 \r\nL 17.484375 21.921875 \r\nQ 17.484375 14.15625 20.5 10.265625 \r\nQ 23.53125 6.390625 29.59375 6.390625 \r\nQ 36.859375 6.390625 41.078125 11.03125 \r\nQ 45.3125 15.671875 45.3125 23.6875 \r\nL 45.3125 54.6875 \r\nL 54.296875 54.6875 \r\nL 54.296875 0 \r\nL 45.3125 0 \r\nL 45.3125 8.40625 \r\nQ 42.046875 3.421875 37.71875 1 \r\nQ 33.40625 -1.421875 27.6875 -1.421875 \r\nQ 18.265625 -1.421875 13.375 4.4375 \r\nQ 8.5 10.296875 8.5 21.578125 \r\nz\r\nM 31.109375 56 \r\nz\r\n\" id=\"DejaVuSans-117\"/>\r\n       <path d=\"M 41.109375 46.296875 \r\nQ 39.59375 47.171875 37.8125 47.578125 \r\nQ 36.03125 48 33.890625 48 \r\nQ 26.265625 48 22.1875 43.046875 \r\nQ 18.109375 38.09375 18.109375 28.8125 \r\nL 18.109375 0 \r\nL 9.078125 0 \r\nL 9.078125 54.6875 \r\nL 18.109375 54.6875 \r\nL 18.109375 46.1875 \r\nQ 20.953125 51.171875 25.484375 53.578125 \r\nQ 30.03125 56 36.53125 56 \r\nQ 37.453125 56 38.578125 55.875 \r\nQ 39.703125 55.765625 41.0625 55.515625 \r\nz\r\n\" id=\"DejaVuSans-114\"/>\r\n      </defs>\r\n      <use xlink:href=\"#DejaVuSans-102\"/>\r\n      <use x=\"35.205078\" xlink:href=\"#DejaVuSans-97\"/>\r\n      <use x=\"96.484375\" xlink:href=\"#DejaVuSans-105\"/>\r\n      <use x=\"124.267578\" xlink:href=\"#DejaVuSans-108\"/>\r\n      <use x=\"152.050781\" xlink:href=\"#DejaVuSans-117\"/>\r\n      <use x=\"215.429688\" xlink:href=\"#DejaVuSans-114\"/>\r\n      <use x=\"254.292969\" xlink:href=\"#DejaVuSans-101\"/>\r\n     </g>\r\n    </g>\r\n    <g id=\"line2d_23\">\r\n     <path d=\"M 339.757353 144.975625 \r\nL 359.757353 144.975625 \r\n\" style=\"fill:none;stroke:#2ca02c;stroke-linecap:square;stroke-width:1.5;\"/>\r\n    </g>\r\n    <g id=\"line2d_24\"/>\r\n    <g id=\"text_19\">\r\n     <!-- initiation -->\r\n     <g transform=\"translate(367.757353 148.475625)scale(0.1 -0.1)\">\r\n      <use xlink:href=\"#DejaVuSans-105\"/>\r\n      <use x=\"27.783203\" xlink:href=\"#DejaVuSans-110\"/>\r\n      <use x=\"91.162109\" xlink:href=\"#DejaVuSans-105\"/>\r\n      <use x=\"118.945312\" xlink:href=\"#DejaVuSans-116\"/>\r\n      <use x=\"158.154297\" xlink:href=\"#DejaVuSans-105\"/>\r\n      <use x=\"185.9375\" xlink:href=\"#DejaVuSans-97\"/>\r\n      <use x=\"247.216797\" xlink:href=\"#DejaVuSans-116\"/>\r\n      <use x=\"286.425781\" xlink:href=\"#DejaVuSans-105\"/>\r\n      <use x=\"314.208984\" xlink:href=\"#DejaVuSans-111\"/>\r\n      <use x=\"375.390625\" xlink:href=\"#DejaVuSans-110\"/>\r\n     </g>\r\n    </g>\r\n   </g>\r\n  </g>\r\n  <g id=\"axes_2\">\r\n   <g id=\"patch_8\">\r\n    <path d=\"M 502.761949 239.758125 \r\nL 896.644301 239.758125 \r\nL 896.644301 22.318125 \r\nL 502.761949 22.318125 \r\nz\r\n\" style=\"fill:#ffffff;\"/>\r\n   </g>\r\n   <g id=\"matplotlib.axis_3\">\r\n    <g id=\"xtick_10\">\r\n     <g id=\"line2d_25\">\r\n      <g>\r\n       <use style=\"stroke:#000000;stroke-width:0.8;\" x=\"520.665692\" xlink:href=\"#m4a9fbe417a\" y=\"239.758125\"/>\r\n      </g>\r\n     </g>\r\n     <g id=\"text_20\">\r\n      <!-- 0 -->\r\n      <g transform=\"translate(517.484442 254.356563)scale(0.1 -0.1)\">\r\n       <use xlink:href=\"#DejaVuSans-48\"/>\r\n      </g>\r\n     </g>\r\n    </g>\r\n    <g id=\"xtick_11\">\r\n     <g id=\"line2d_26\">\r\n      <g>\r\n       <use style=\"stroke:#000000;stroke-width:0.8;\" x=\"565.42505\" xlink:href=\"#m4a9fbe417a\" y=\"239.758125\"/>\r\n      </g>\r\n     </g>\r\n     <g id=\"text_21\">\r\n      <!-- 50 -->\r\n      <g transform=\"translate(559.06255 254.356563)scale(0.1 -0.1)\">\r\n       <use xlink:href=\"#DejaVuSans-53\"/>\r\n       <use x=\"63.623047\" xlink:href=\"#DejaVuSans-48\"/>\r\n      </g>\r\n     </g>\r\n    </g>\r\n    <g id=\"xtick_12\">\r\n     <g id=\"line2d_27\">\r\n      <g>\r\n       <use style=\"stroke:#000000;stroke-width:0.8;\" x=\"610.184408\" xlink:href=\"#m4a9fbe417a\" y=\"239.758125\"/>\r\n      </g>\r\n     </g>\r\n     <g id=\"text_22\">\r\n      <!-- 100 -->\r\n      <g transform=\"translate(600.640658 254.356563)scale(0.1 -0.1)\">\r\n       <use xlink:href=\"#DejaVuSans-49\"/>\r\n       <use x=\"63.623047\" xlink:href=\"#DejaVuSans-48\"/>\r\n       <use x=\"127.246094\" xlink:href=\"#DejaVuSans-48\"/>\r\n      </g>\r\n     </g>\r\n    </g>\r\n    <g id=\"xtick_13\">\r\n     <g id=\"line2d_28\">\r\n      <g>\r\n       <use style=\"stroke:#000000;stroke-width:0.8;\" x=\"654.943767\" xlink:href=\"#m4a9fbe417a\" y=\"239.758125\"/>\r\n      </g>\r\n     </g>\r\n     <g id=\"text_23\">\r\n      <!-- 150 -->\r\n      <g transform=\"translate(645.400017 254.356563)scale(0.1 -0.1)\">\r\n       <use xlink:href=\"#DejaVuSans-49\"/>\r\n       <use x=\"63.623047\" xlink:href=\"#DejaVuSans-53\"/>\r\n       <use x=\"127.246094\" xlink:href=\"#DejaVuSans-48\"/>\r\n      </g>\r\n     </g>\r\n    </g>\r\n    <g id=\"xtick_14\">\r\n     <g id=\"line2d_29\">\r\n      <g>\r\n       <use style=\"stroke:#000000;stroke-width:0.8;\" x=\"699.703125\" xlink:href=\"#m4a9fbe417a\" y=\"239.758125\"/>\r\n      </g>\r\n     </g>\r\n     <g id=\"text_24\">\r\n      <!-- 200 -->\r\n      <g transform=\"translate(690.159375 254.356563)scale(0.1 -0.1)\">\r\n       <use xlink:href=\"#DejaVuSans-50\"/>\r\n       <use x=\"63.623047\" xlink:href=\"#DejaVuSans-48\"/>\r\n       <use x=\"127.246094\" xlink:href=\"#DejaVuSans-48\"/>\r\n      </g>\r\n     </g>\r\n    </g>\r\n    <g id=\"xtick_15\">\r\n     <g id=\"line2d_30\">\r\n      <g>\r\n       <use style=\"stroke:#000000;stroke-width:0.8;\" x=\"744.462483\" xlink:href=\"#m4a9fbe417a\" y=\"239.758125\"/>\r\n      </g>\r\n     </g>\r\n     <g id=\"text_25\">\r\n      <!-- 250 -->\r\n      <g transform=\"translate(734.918733 254.356563)scale(0.1 -0.1)\">\r\n       <use xlink:href=\"#DejaVuSans-50\"/>\r\n       <use x=\"63.623047\" xlink:href=\"#DejaVuSans-53\"/>\r\n       <use x=\"127.246094\" xlink:href=\"#DejaVuSans-48\"/>\r\n      </g>\r\n     </g>\r\n    </g>\r\n    <g id=\"xtick_16\">\r\n     <g id=\"line2d_31\">\r\n      <g>\r\n       <use style=\"stroke:#000000;stroke-width:0.8;\" x=\"789.221842\" xlink:href=\"#m4a9fbe417a\" y=\"239.758125\"/>\r\n      </g>\r\n     </g>\r\n     <g id=\"text_26\">\r\n      <!-- 300 -->\r\n      <g transform=\"translate(779.678092 254.356563)scale(0.1 -0.1)\">\r\n       <use xlink:href=\"#DejaVuSans-51\"/>\r\n       <use x=\"63.623047\" xlink:href=\"#DejaVuSans-48\"/>\r\n       <use x=\"127.246094\" xlink:href=\"#DejaVuSans-48\"/>\r\n      </g>\r\n     </g>\r\n    </g>\r\n    <g id=\"xtick_17\">\r\n     <g id=\"line2d_32\">\r\n      <g>\r\n       <use style=\"stroke:#000000;stroke-width:0.8;\" x=\"833.9812\" xlink:href=\"#m4a9fbe417a\" y=\"239.758125\"/>\r\n      </g>\r\n     </g>\r\n     <g id=\"text_27\">\r\n      <!-- 350 -->\r\n      <g transform=\"translate(824.43745 254.356563)scale(0.1 -0.1)\">\r\n       <use xlink:href=\"#DejaVuSans-51\"/>\r\n       <use x=\"63.623047\" xlink:href=\"#DejaVuSans-53\"/>\r\n       <use x=\"127.246094\" xlink:href=\"#DejaVuSans-48\"/>\r\n      </g>\r\n     </g>\r\n    </g>\r\n    <g id=\"xtick_18\">\r\n     <g id=\"line2d_33\">\r\n      <g>\r\n       <use style=\"stroke:#000000;stroke-width:0.8;\" x=\"878.740558\" xlink:href=\"#m4a9fbe417a\" y=\"239.758125\"/>\r\n      </g>\r\n     </g>\r\n     <g id=\"text_28\">\r\n      <!-- 400 -->\r\n      <g transform=\"translate(869.196808 254.356563)scale(0.1 -0.1)\">\r\n       <use xlink:href=\"#DejaVuSans-52\"/>\r\n       <use x=\"63.623047\" xlink:href=\"#DejaVuSans-48\"/>\r\n       <use x=\"127.246094\" xlink:href=\"#DejaVuSans-48\"/>\r\n      </g>\r\n     </g>\r\n    </g>\r\n   </g>\r\n   <g id=\"matplotlib.axis_4\">\r\n    <g id=\"ytick_7\">\r\n     <g id=\"line2d_34\">\r\n      <g>\r\n       <use style=\"stroke:#000000;stroke-width:0.8;\" x=\"502.761949\" xlink:href=\"#mc4e0ea418c\" y=\"229.874489\"/>\r\n      </g>\r\n     </g>\r\n     <g id=\"text_29\">\r\n      <!-- 0 -->\r\n      <g transform=\"translate(489.399449 233.673707)scale(0.1 -0.1)\">\r\n       <use xlink:href=\"#DejaVuSans-48\"/>\r\n      </g>\r\n     </g>\r\n    </g>\r\n    <g id=\"ytick_8\">\r\n     <g id=\"line2d_35\">\r\n      <g>\r\n       <use style=\"stroke:#000000;stroke-width:0.8;\" x=\"502.761949\" xlink:href=\"#mc4e0ea418c\" y=\"190.339943\"/>\r\n      </g>\r\n     </g>\r\n     <g id=\"text_30\">\r\n      <!-- 50 -->\r\n      <g transform=\"translate(483.036949 194.139162)scale(0.1 -0.1)\">\r\n       <use xlink:href=\"#DejaVuSans-53\"/>\r\n       <use x=\"63.623047\" xlink:href=\"#DejaVuSans-48\"/>\r\n      </g>\r\n     </g>\r\n    </g>\r\n    <g id=\"ytick_9\">\r\n     <g id=\"line2d_36\">\r\n      <g>\r\n       <use style=\"stroke:#000000;stroke-width:0.8;\" x=\"502.761949\" xlink:href=\"#mc4e0ea418c\" y=\"150.805398\"/>\r\n      </g>\r\n     </g>\r\n     <g id=\"text_31\">\r\n      <!-- 100 -->\r\n      <g transform=\"translate(476.674449 154.604616)scale(0.1 -0.1)\">\r\n       <use xlink:href=\"#DejaVuSans-49\"/>\r\n       <use x=\"63.623047\" xlink:href=\"#DejaVuSans-48\"/>\r\n       <use x=\"127.246094\" xlink:href=\"#DejaVuSans-48\"/>\r\n      </g>\r\n     </g>\r\n    </g>\r\n    <g id=\"ytick_10\">\r\n     <g id=\"line2d_37\">\r\n      <g>\r\n       <use style=\"stroke:#000000;stroke-width:0.8;\" x=\"502.761949\" xlink:href=\"#mc4e0ea418c\" y=\"111.270852\"/>\r\n      </g>\r\n     </g>\r\n     <g id=\"text_32\">\r\n      <!-- 150 -->\r\n      <g transform=\"translate(476.674449 115.070071)scale(0.1 -0.1)\">\r\n       <use xlink:href=\"#DejaVuSans-49\"/>\r\n       <use x=\"63.623047\" xlink:href=\"#DejaVuSans-53\"/>\r\n       <use x=\"127.246094\" xlink:href=\"#DejaVuSans-48\"/>\r\n      </g>\r\n     </g>\r\n    </g>\r\n    <g id=\"ytick_11\">\r\n     <g id=\"line2d_38\">\r\n      <g>\r\n       <use style=\"stroke:#000000;stroke-width:0.8;\" x=\"502.761949\" xlink:href=\"#mc4e0ea418c\" y=\"71.736307\"/>\r\n      </g>\r\n     </g>\r\n     <g id=\"text_33\">\r\n      <!-- 200 -->\r\n      <g transform=\"translate(476.674449 75.535526)scale(0.1 -0.1)\">\r\n       <use xlink:href=\"#DejaVuSans-50\"/>\r\n       <use x=\"63.623047\" xlink:href=\"#DejaVuSans-48\"/>\r\n       <use x=\"127.246094\" xlink:href=\"#DejaVuSans-48\"/>\r\n      </g>\r\n     </g>\r\n    </g>\r\n    <g id=\"ytick_12\">\r\n     <g id=\"line2d_39\">\r\n      <g>\r\n       <use style=\"stroke:#000000;stroke-width:0.8;\" x=\"502.761949\" xlink:href=\"#mc4e0ea418c\" y=\"32.201761\"/>\r\n      </g>\r\n     </g>\r\n     <g id=\"text_34\">\r\n      <!-- 250 -->\r\n      <g transform=\"translate(476.674449 36.00098)scale(0.1 -0.1)\">\r\n       <use xlink:href=\"#DejaVuSans-50\"/>\r\n       <use x=\"63.623047\" xlink:href=\"#DejaVuSans-53\"/>\r\n       <use x=\"127.246094\" xlink:href=\"#DejaVuSans-48\"/>\r\n      </g>\r\n     </g>\r\n    </g>\r\n   </g>\r\n   <g id=\"line2d_40\">\r\n    <path clip-path=\"url(#p7bca87191f)\" d=\"M 520.665692 190.339943 \r\nL 523.351253 190.339943 \r\nL 524.246441 180.456307 \r\nL 526.036815 229.874489 \r\nL 526.932002 32.201761 \r\nL 534.093499 32.201761 \r\nL 539.464622 44.062125 \r\nL 570.796173 44.062125 \r\nL 575.272109 53.945761 \r\nL 614.660344 53.945761 \r\nL 615.555531 55.922489 \r\nL 659.419703 55.922489 \r\nL 664.790826 67.782852 \r\nL 690.751253 67.782852 \r\nL 691.646441 69.75958 \r\nL 711.340558 69.75958 \r\nL 722.977991 95.457034 \r\nL 735.510612 95.457034 \r\nL 736.405799 97.433761 \r\nL 765.946975 97.433761 \r\nL 767.73735 101.387216 \r\nL 794.592965 101.387216 \r\nL 799.0689 111.270852 \r\nL 840.24751 111.270852 \r\nL 843.828259 119.177761 \r\nL 848.304195 119.177761 \r\nL 852.78013 129.061398 \r\nL 874.264622 129.061398 \r\nL 875.159809 131.038125 \r\nL 878.740558 131.038125 \r\nL 878.740558 131.038125 \r\n\" style=\"fill:none;stroke:#1f77b4;stroke-linecap:square;stroke-width:1.5;\"/>\r\n   </g>\r\n   <g id=\"line2d_41\">\r\n    <path clip-path=\"url(#p7bca87191f)\" d=\"M 520.665692 190.339943 \r\nL 523.351253 190.339943 \r\nL 524.246441 192.810852 \r\nL 526.036815 217.519943 \r\nL 526.932002 131.038125 \r\nL 534.093499 131.038125 \r\nL 539.464622 136.968307 \r\nL 570.796173 136.968307 \r\nL 575.272109 141.910125 \r\nL 614.660344 141.910125 \r\nL 615.555531 142.898489 \r\nL 659.419703 142.898489 \r\nL 664.790826 148.82867 \r\nL 690.751253 148.82867 \r\nL 691.646441 149.817034 \r\nL 711.340558 149.817034 \r\nL 722.977991 162.665761 \r\nL 735.510612 162.665761 \r\nL 736.405799 163.654125 \r\nL 765.946975 163.654125 \r\nL 767.73735 165.630852 \r\nL 794.592965 165.630852 \r\nL 799.0689 170.57267 \r\nL 840.24751 170.57267 \r\nL 843.828259 174.526125 \r\nL 848.304195 174.526125 \r\nL 852.78013 179.467943 \r\nL 874.264622 179.467943 \r\nL 875.159809 180.456307 \r\nL 878.740558 180.456307 \r\nL 878.740558 180.456307 \r\n\" style=\"fill:none;stroke:#ff7f0e;stroke-linecap:square;stroke-width:1.5;\"/>\r\n   </g>\r\n   <g id=\"patch_9\">\r\n    <path d=\"M 502.761949 239.758125 \r\nL 502.761949 22.318125 \r\n\" style=\"fill:none;stroke:#000000;stroke-linecap:square;stroke-linejoin:miter;stroke-width:0.8;\"/>\r\n   </g>\r\n   <g id=\"patch_10\">\r\n    <path d=\"M 896.644301 239.758125 \r\nL 896.644301 22.318125 \r\n\" style=\"fill:none;stroke:#000000;stroke-linecap:square;stroke-linejoin:miter;stroke-width:0.8;\"/>\r\n   </g>\r\n   <g id=\"patch_11\">\r\n    <path d=\"M 502.761949 239.758125 \r\nL 896.644301 239.758125 \r\n\" style=\"fill:none;stroke:#000000;stroke-linecap:square;stroke-linejoin:miter;stroke-width:0.8;\"/>\r\n   </g>\r\n   <g id=\"patch_12\">\r\n    <path d=\"M 502.761949 22.318125 \r\nL 896.644301 22.318125 \r\n\" style=\"fill:none;stroke:#000000;stroke-linecap:square;stroke-linejoin:miter;stroke-width:0.8;\"/>\r\n   </g>\r\n   <g id=\"text_35\">\r\n    <!-- Condition -->\r\n    <g transform=\"translate(671.070938 16.318125)scale(0.12 -0.12)\">\r\n     <defs>\r\n      <path d=\"M 64.40625 67.28125 \r\nL 64.40625 56.890625 \r\nQ 59.421875 61.53125 53.78125 63.8125 \r\nQ 48.140625 66.109375 41.796875 66.109375 \r\nQ 29.296875 66.109375 22.65625 58.46875 \r\nQ 16.015625 50.828125 16.015625 36.375 \r\nQ 16.015625 21.96875 22.65625 14.328125 \r\nQ 29.296875 6.6875 41.796875 6.6875 \r\nQ 48.140625 6.6875 53.78125 8.984375 \r\nQ 59.421875 11.28125 64.40625 15.921875 \r\nL 64.40625 5.609375 \r\nQ 59.234375 2.09375 53.4375 0.328125 \r\nQ 47.65625 -1.421875 41.21875 -1.421875 \r\nQ 24.65625 -1.421875 15.125 8.703125 \r\nQ 5.609375 18.84375 5.609375 36.375 \r\nQ 5.609375 53.953125 15.125 64.078125 \r\nQ 24.65625 74.21875 41.21875 74.21875 \r\nQ 47.75 74.21875 53.53125 72.484375 \r\nQ 59.328125 70.75 64.40625 67.28125 \r\nz\r\n\" id=\"DejaVuSans-67\"/>\r\n     </defs>\r\n     <use xlink:href=\"#DejaVuSans-67\"/>\r\n     <use x=\"69.824219\" xlink:href=\"#DejaVuSans-111\"/>\r\n     <use x=\"131.005859\" xlink:href=\"#DejaVuSans-110\"/>\r\n     <use x=\"194.384766\" xlink:href=\"#DejaVuSans-100\"/>\r\n     <use x=\"257.861328\" xlink:href=\"#DejaVuSans-105\"/>\r\n     <use x=\"285.644531\" xlink:href=\"#DejaVuSans-116\"/>\r\n     <use x=\"324.853516\" xlink:href=\"#DejaVuSans-105\"/>\r\n     <use x=\"352.636719\" xlink:href=\"#DejaVuSans-111\"/>\r\n     <use x=\"413.818359\" xlink:href=\"#DejaVuSans-110\"/>\r\n    </g>\r\n   </g>\r\n   <g id=\"legend_2\">\r\n    <g id=\"patch_13\">\r\n     <path d=\"M 766.161489 60.230625 \r\nL 889.644301 60.230625 \r\nQ 891.644301 60.230625 891.644301 58.230625 \r\nL 891.644301 29.318125 \r\nQ 891.644301 27.318125 889.644301 27.318125 \r\nL 766.161489 27.318125 \r\nQ 764.161489 27.318125 764.161489 29.318125 \r\nL 764.161489 58.230625 \r\nQ 764.161489 60.230625 766.161489 60.230625 \r\nz\r\n\" style=\"fill:#ffffff;opacity:0.8;stroke:#cccccc;stroke-linejoin:miter;\"/>\r\n    </g>\r\n    <g id=\"line2d_42\">\r\n     <path d=\"M 768.161489 35.416562 \r\nL 788.161489 35.416562 \r\n\" style=\"fill:none;stroke:#1f77b4;stroke-linecap:square;stroke-width:1.5;\"/>\r\n    </g>\r\n    <g id=\"line2d_43\"/>\r\n    <g id=\"text_36\">\r\n     <!-- external_diameter -->\r\n     <g transform=\"translate(796.161489 38.916562)scale(0.1 -0.1)\">\r\n      <defs>\r\n       <path d=\"M 54.890625 54.6875 \r\nL 35.109375 28.078125 \r\nL 55.90625 0 \r\nL 45.3125 0 \r\nL 29.390625 21.484375 \r\nL 13.484375 0 \r\nL 2.875 0 \r\nL 24.125 28.609375 \r\nL 4.6875 54.6875 \r\nL 15.28125 54.6875 \r\nL 29.78125 35.203125 \r\nL 44.28125 54.6875 \r\nz\r\n\" id=\"DejaVuSans-120\"/>\r\n       <path d=\"M 50.984375 -16.609375 \r\nL 50.984375 -23.578125 \r\nL -0.984375 -23.578125 \r\nL -0.984375 -16.609375 \r\nz\r\n\" id=\"DejaVuSans-95\"/>\r\n       <path d=\"M 52 44.1875 \r\nQ 55.375 50.25 60.0625 53.125 \r\nQ 64.75 56 71.09375 56 \r\nQ 79.640625 56 84.28125 50.015625 \r\nQ 88.921875 44.046875 88.921875 33.015625 \r\nL 88.921875 0 \r\nL 79.890625 0 \r\nL 79.890625 32.71875 \r\nQ 79.890625 40.578125 77.09375 44.375 \r\nQ 74.3125 48.1875 68.609375 48.1875 \r\nQ 61.625 48.1875 57.5625 43.546875 \r\nQ 53.515625 38.921875 53.515625 30.90625 \r\nL 53.515625 0 \r\nL 44.484375 0 \r\nL 44.484375 32.71875 \r\nQ 44.484375 40.625 41.703125 44.40625 \r\nQ 38.921875 48.1875 33.109375 48.1875 \r\nQ 26.21875 48.1875 22.15625 43.53125 \r\nQ 18.109375 38.875 18.109375 30.90625 \r\nL 18.109375 0 \r\nL 9.078125 0 \r\nL 9.078125 54.6875 \r\nL 18.109375 54.6875 \r\nL 18.109375 46.1875 \r\nQ 21.1875 51.21875 25.484375 53.609375 \r\nQ 29.78125 56 35.6875 56 \r\nQ 41.65625 56 45.828125 52.96875 \r\nQ 50 49.953125 52 44.1875 \r\nz\r\n\" id=\"DejaVuSans-109\"/>\r\n      </defs>\r\n      <use xlink:href=\"#DejaVuSans-101\"/>\r\n      <use x=\"59.773438\" xlink:href=\"#DejaVuSans-120\"/>\r\n      <use x=\"118.953125\" xlink:href=\"#DejaVuSans-116\"/>\r\n      <use x=\"158.162109\" xlink:href=\"#DejaVuSans-101\"/>\r\n      <use x=\"219.685547\" xlink:href=\"#DejaVuSans-114\"/>\r\n      <use x=\"259.048828\" xlink:href=\"#DejaVuSans-110\"/>\r\n      <use x=\"322.427734\" xlink:href=\"#DejaVuSans-97\"/>\r\n      <use x=\"383.707031\" xlink:href=\"#DejaVuSans-108\"/>\r\n      <use x=\"411.490234\" xlink:href=\"#DejaVuSans-95\"/>\r\n      <use x=\"461.490234\" xlink:href=\"#DejaVuSans-100\"/>\r\n      <use x=\"524.966797\" xlink:href=\"#DejaVuSans-105\"/>\r\n      <use x=\"552.75\" xlink:href=\"#DejaVuSans-97\"/>\r\n      <use x=\"614.029297\" xlink:href=\"#DejaVuSans-109\"/>\r\n      <use x=\"711.441406\" xlink:href=\"#DejaVuSans-101\"/>\r\n      <use x=\"772.964844\" xlink:href=\"#DejaVuSans-116\"/>\r\n      <use x=\"812.173828\" xlink:href=\"#DejaVuSans-101\"/>\r\n      <use x=\"873.697266\" xlink:href=\"#DejaVuSans-114\"/>\r\n     </g>\r\n    </g>\r\n    <g id=\"line2d_44\">\r\n     <path d=\"M 768.161489 50.372813 \r\nL 788.161489 50.372813 \r\n\" style=\"fill:none;stroke:#ff7f0e;stroke-linecap:square;stroke-width:1.5;\"/>\r\n    </g>\r\n    <g id=\"line2d_45\"/>\r\n    <g id=\"text_37\">\r\n     <!-- wall_thickness -->\r\n     <g transform=\"translate(796.161489 53.872813)scale(0.1 -0.1)\">\r\n      <defs>\r\n       <path d=\"M 4.203125 54.6875 \r\nL 13.1875 54.6875 \r\nL 24.421875 12.015625 \r\nL 35.59375 54.6875 \r\nL 46.1875 54.6875 \r\nL 57.421875 12.015625 \r\nL 68.609375 54.6875 \r\nL 77.59375 54.6875 \r\nL 63.28125 0 \r\nL 52.6875 0 \r\nL 40.921875 44.828125 \r\nL 29.109375 0 \r\nL 18.5 0 \r\nz\r\n\" id=\"DejaVuSans-119\"/>\r\n       <path d=\"M 54.890625 33.015625 \r\nL 54.890625 0 \r\nL 45.90625 0 \r\nL 45.90625 32.71875 \r\nQ 45.90625 40.484375 42.875 44.328125 \r\nQ 39.84375 48.1875 33.796875 48.1875 \r\nQ 26.515625 48.1875 22.3125 43.546875 \r\nQ 18.109375 38.921875 18.109375 30.90625 \r\nL 18.109375 0 \r\nL 9.078125 0 \r\nL 9.078125 75.984375 \r\nL 18.109375 75.984375 \r\nL 18.109375 46.1875 \r\nQ 21.34375 51.125 25.703125 53.5625 \r\nQ 30.078125 56 35.796875 56 \r\nQ 45.21875 56 50.046875 50.171875 \r\nQ 54.890625 44.34375 54.890625 33.015625 \r\nz\r\n\" id=\"DejaVuSans-104\"/>\r\n       <path d=\"M 9.078125 75.984375 \r\nL 18.109375 75.984375 \r\nL 18.109375 31.109375 \r\nL 44.921875 54.6875 \r\nL 56.390625 54.6875 \r\nL 27.390625 29.109375 \r\nL 57.625 0 \r\nL 45.90625 0 \r\nL 18.109375 26.703125 \r\nL 18.109375 0 \r\nL 9.078125 0 \r\nz\r\n\" id=\"DejaVuSans-107\"/>\r\n       <path d=\"M 44.28125 53.078125 \r\nL 44.28125 44.578125 \r\nQ 40.484375 46.53125 36.375 47.5 \r\nQ 32.28125 48.484375 27.875 48.484375 \r\nQ 21.1875 48.484375 17.84375 46.4375 \r\nQ 14.5 44.390625 14.5 40.28125 \r\nQ 14.5 37.15625 16.890625 35.375 \r\nQ 19.28125 33.59375 26.515625 31.984375 \r\nL 29.59375 31.296875 \r\nQ 39.15625 29.25 43.1875 25.515625 \r\nQ 47.21875 21.78125 47.21875 15.09375 \r\nQ 47.21875 7.46875 41.1875 3.015625 \r\nQ 35.15625 -1.421875 24.609375 -1.421875 \r\nQ 20.21875 -1.421875 15.453125 -0.5625 \r\nQ 10.6875 0.296875 5.421875 2 \r\nL 5.421875 11.28125 \r\nQ 10.40625 8.6875 15.234375 7.390625 \r\nQ 20.0625 6.109375 24.8125 6.109375 \r\nQ 31.15625 6.109375 34.5625 8.28125 \r\nQ 37.984375 10.453125 37.984375 14.40625 \r\nQ 37.984375 18.0625 35.515625 20.015625 \r\nQ 33.0625 21.96875 24.703125 23.78125 \r\nL 21.578125 24.515625 \r\nQ 13.234375 26.265625 9.515625 29.90625 \r\nQ 5.8125 33.546875 5.8125 39.890625 \r\nQ 5.8125 47.609375 11.28125 51.796875 \r\nQ 16.75 56 26.8125 56 \r\nQ 31.78125 56 36.171875 55.265625 \r\nQ 40.578125 54.546875 44.28125 53.078125 \r\nz\r\n\" id=\"DejaVuSans-115\"/>\r\n      </defs>\r\n      <use xlink:href=\"#DejaVuSans-119\"/>\r\n      <use x=\"81.787109\" xlink:href=\"#DejaVuSans-97\"/>\r\n      <use x=\"143.066406\" xlink:href=\"#DejaVuSans-108\"/>\r\n      <use x=\"170.849609\" xlink:href=\"#DejaVuSans-108\"/>\r\n      <use x=\"198.632812\" xlink:href=\"#DejaVuSans-95\"/>\r\n      <use x=\"248.632812\" xlink:href=\"#DejaVuSans-116\"/>\r\n      <use x=\"287.841797\" xlink:href=\"#DejaVuSans-104\"/>\r\n      <use x=\"351.220703\" xlink:href=\"#DejaVuSans-105\"/>\r\n      <use x=\"379.003906\" xlink:href=\"#DejaVuSans-99\"/>\r\n      <use x=\"433.984375\" xlink:href=\"#DejaVuSans-107\"/>\r\n      <use x=\"491.894531\" xlink:href=\"#DejaVuSans-110\"/>\r\n      <use x=\"555.273438\" xlink:href=\"#DejaVuSans-101\"/>\r\n      <use x=\"616.796875\" xlink:href=\"#DejaVuSans-115\"/>\r\n      <use x=\"668.896484\" xlink:href=\"#DejaVuSans-115\"/>\r\n     </g>\r\n    </g>\r\n   </g>\r\n  </g>\r\n  <g id=\"axes_3\">\r\n   <g id=\"patch_14\">\r\n    <path d=\"M 975.420772 239.758125 \r\nL 1369.303125 239.758125 \r\nL 1369.303125 22.318125 \r\nL 975.420772 22.318125 \r\nz\r\n\" style=\"fill:#ffffff;\"/>\r\n   </g>\r\n   <g id=\"matplotlib.axis_5\">\r\n    <g id=\"xtick_19\">\r\n     <g id=\"line2d_46\">\r\n      <g>\r\n       <use style=\"stroke:#000000;stroke-width:0.8;\" x=\"993.324515\" xlink:href=\"#m4a9fbe417a\" y=\"239.758125\"/>\r\n      </g>\r\n     </g>\r\n     <g id=\"text_38\">\r\n      <!-- 0 -->\r\n      <g transform=\"translate(990.143265 254.356563)scale(0.1 -0.1)\">\r\n       <use xlink:href=\"#DejaVuSans-48\"/>\r\n      </g>\r\n     </g>\r\n    </g>\r\n    <g id=\"xtick_20\">\r\n     <g id=\"line2d_47\">\r\n      <g>\r\n       <use style=\"stroke:#000000;stroke-width:0.8;\" x=\"1038.083874\" xlink:href=\"#m4a9fbe417a\" y=\"239.758125\"/>\r\n      </g>\r\n     </g>\r\n     <g id=\"text_39\">\r\n      <!-- 50 -->\r\n      <g transform=\"translate(1031.721374 254.356563)scale(0.1 -0.1)\">\r\n       <use xlink:href=\"#DejaVuSans-53\"/>\r\n       <use x=\"63.623047\" xlink:href=\"#DejaVuSans-48\"/>\r\n      </g>\r\n     </g>\r\n    </g>\r\n    <g id=\"xtick_21\">\r\n     <g id=\"line2d_48\">\r\n      <g>\r\n       <use style=\"stroke:#000000;stroke-width:0.8;\" x=\"1082.843232\" xlink:href=\"#m4a9fbe417a\" y=\"239.758125\"/>\r\n      </g>\r\n     </g>\r\n     <g id=\"text_40\">\r\n      <!-- 100 -->\r\n      <g transform=\"translate(1073.299482 254.356563)scale(0.1 -0.1)\">\r\n       <use xlink:href=\"#DejaVuSans-49\"/>\r\n       <use x=\"63.623047\" xlink:href=\"#DejaVuSans-48\"/>\r\n       <use x=\"127.246094\" xlink:href=\"#DejaVuSans-48\"/>\r\n      </g>\r\n     </g>\r\n    </g>\r\n    <g id=\"xtick_22\">\r\n     <g id=\"line2d_49\">\r\n      <g>\r\n       <use style=\"stroke:#000000;stroke-width:0.8;\" x=\"1127.60259\" xlink:href=\"#m4a9fbe417a\" y=\"239.758125\"/>\r\n      </g>\r\n     </g>\r\n     <g id=\"text_41\">\r\n      <!-- 150 -->\r\n      <g transform=\"translate(1118.05884 254.356563)scale(0.1 -0.1)\">\r\n       <use xlink:href=\"#DejaVuSans-49\"/>\r\n       <use x=\"63.623047\" xlink:href=\"#DejaVuSans-53\"/>\r\n       <use x=\"127.246094\" xlink:href=\"#DejaVuSans-48\"/>\r\n      </g>\r\n     </g>\r\n    </g>\r\n    <g id=\"xtick_23\">\r\n     <g id=\"line2d_50\">\r\n      <g>\r\n       <use style=\"stroke:#000000;stroke-width:0.8;\" x=\"1172.361949\" xlink:href=\"#m4a9fbe417a\" y=\"239.758125\"/>\r\n      </g>\r\n     </g>\r\n     <g id=\"text_42\">\r\n      <!-- 200 -->\r\n      <g transform=\"translate(1162.818199 254.356563)scale(0.1 -0.1)\">\r\n       <use xlink:href=\"#DejaVuSans-50\"/>\r\n       <use x=\"63.623047\" xlink:href=\"#DejaVuSans-48\"/>\r\n       <use x=\"127.246094\" xlink:href=\"#DejaVuSans-48\"/>\r\n      </g>\r\n     </g>\r\n    </g>\r\n    <g id=\"xtick_24\">\r\n     <g id=\"line2d_51\">\r\n      <g>\r\n       <use style=\"stroke:#000000;stroke-width:0.8;\" x=\"1217.121307\" xlink:href=\"#m4a9fbe417a\" y=\"239.758125\"/>\r\n      </g>\r\n     </g>\r\n     <g id=\"text_43\">\r\n      <!-- 250 -->\r\n      <g transform=\"translate(1207.577557 254.356563)scale(0.1 -0.1)\">\r\n       <use xlink:href=\"#DejaVuSans-50\"/>\r\n       <use x=\"63.623047\" xlink:href=\"#DejaVuSans-53\"/>\r\n       <use x=\"127.246094\" xlink:href=\"#DejaVuSans-48\"/>\r\n      </g>\r\n     </g>\r\n    </g>\r\n    <g id=\"xtick_25\">\r\n     <g id=\"line2d_52\">\r\n      <g>\r\n       <use style=\"stroke:#000000;stroke-width:0.8;\" x=\"1261.880665\" xlink:href=\"#m4a9fbe417a\" y=\"239.758125\"/>\r\n      </g>\r\n     </g>\r\n     <g id=\"text_44\">\r\n      <!-- 300 -->\r\n      <g transform=\"translate(1252.336915 254.356563)scale(0.1 -0.1)\">\r\n       <use xlink:href=\"#DejaVuSans-51\"/>\r\n       <use x=\"63.623047\" xlink:href=\"#DejaVuSans-48\"/>\r\n       <use x=\"127.246094\" xlink:href=\"#DejaVuSans-48\"/>\r\n      </g>\r\n     </g>\r\n    </g>\r\n    <g id=\"xtick_26\">\r\n     <g id=\"line2d_53\">\r\n      <g>\r\n       <use style=\"stroke:#000000;stroke-width:0.8;\" x=\"1306.640023\" xlink:href=\"#m4a9fbe417a\" y=\"239.758125\"/>\r\n      </g>\r\n     </g>\r\n     <g id=\"text_45\">\r\n      <!-- 350 -->\r\n      <g transform=\"translate(1297.096273 254.356563)scale(0.1 -0.1)\">\r\n       <use xlink:href=\"#DejaVuSans-51\"/>\r\n       <use x=\"63.623047\" xlink:href=\"#DejaVuSans-53\"/>\r\n       <use x=\"127.246094\" xlink:href=\"#DejaVuSans-48\"/>\r\n      </g>\r\n     </g>\r\n    </g>\r\n    <g id=\"xtick_27\">\r\n     <g id=\"line2d_54\">\r\n      <g>\r\n       <use style=\"stroke:#000000;stroke-width:0.8;\" x=\"1351.399382\" xlink:href=\"#m4a9fbe417a\" y=\"239.758125\"/>\r\n      </g>\r\n     </g>\r\n     <g id=\"text_46\">\r\n      <!-- 400 -->\r\n      <g transform=\"translate(1341.855632 254.356563)scale(0.1 -0.1)\">\r\n       <use xlink:href=\"#DejaVuSans-52\"/>\r\n       <use x=\"63.623047\" xlink:href=\"#DejaVuSans-48\"/>\r\n       <use x=\"127.246094\" xlink:href=\"#DejaVuSans-48\"/>\r\n      </g>\r\n     </g>\r\n    </g>\r\n   </g>\r\n   <g id=\"matplotlib.axis_6\">\r\n    <g id=\"ytick_13\">\r\n     <g id=\"line2d_55\">\r\n      <g>\r\n       <use style=\"stroke:#000000;stroke-width:0.8;\" x=\"975.420772\" xlink:href=\"#mc4e0ea418c\" y=\"229.874489\"/>\r\n      </g>\r\n     </g>\r\n     <g id=\"text_47\">\r\n      <!-- −1 -->\r\n      <g transform=\"translate(953.678585 233.673707)scale(0.1 -0.1)\">\r\n       <defs>\r\n        <path d=\"M 10.59375 35.5 \r\nL 73.1875 35.5 \r\nL 73.1875 27.203125 \r\nL 10.59375 27.203125 \r\nz\r\n\" id=\"DejaVuSans-8722\"/>\r\n       </defs>\r\n       <use xlink:href=\"#DejaVuSans-8722\"/>\r\n       <use x=\"83.789062\" xlink:href=\"#DejaVuSans-49\"/>\r\n      </g>\r\n     </g>\r\n    </g>\r\n    <g id=\"ytick_14\">\r\n     <g id=\"line2d_56\">\r\n      <g>\r\n       <use style=\"stroke:#000000;stroke-width:0.8;\" x=\"975.420772\" xlink:href=\"#mc4e0ea418c\" y=\"196.929034\"/>\r\n      </g>\r\n     </g>\r\n     <g id=\"text_48\">\r\n      <!-- 0 -->\r\n      <g transform=\"translate(962.058272 200.728253)scale(0.1 -0.1)\">\r\n       <use xlink:href=\"#DejaVuSans-48\"/>\r\n      </g>\r\n     </g>\r\n    </g>\r\n    <g id=\"ytick_15\">\r\n     <g id=\"line2d_57\">\r\n      <g>\r\n       <use style=\"stroke:#000000;stroke-width:0.8;\" x=\"975.420772\" xlink:href=\"#mc4e0ea418c\" y=\"163.98358\"/>\r\n      </g>\r\n     </g>\r\n     <g id=\"text_49\">\r\n      <!-- 1 -->\r\n      <g transform=\"translate(962.058272 167.782798)scale(0.1 -0.1)\">\r\n       <use xlink:href=\"#DejaVuSans-49\"/>\r\n      </g>\r\n     </g>\r\n    </g>\r\n    <g id=\"ytick_16\">\r\n     <g id=\"line2d_58\">\r\n      <g>\r\n       <use style=\"stroke:#000000;stroke-width:0.8;\" x=\"975.420772\" xlink:href=\"#mc4e0ea418c\" y=\"131.038125\"/>\r\n      </g>\r\n     </g>\r\n     <g id=\"text_50\">\r\n      <!-- 2 -->\r\n      <g transform=\"translate(962.058272 134.837344)scale(0.1 -0.1)\">\r\n       <use xlink:href=\"#DejaVuSans-50\"/>\r\n      </g>\r\n     </g>\r\n    </g>\r\n    <g id=\"ytick_17\">\r\n     <g id=\"line2d_59\">\r\n      <g>\r\n       <use style=\"stroke:#000000;stroke-width:0.8;\" x=\"975.420772\" xlink:href=\"#mc4e0ea418c\" y=\"98.09267\"/>\r\n      </g>\r\n     </g>\r\n     <g id=\"text_51\">\r\n      <!-- 3 -->\r\n      <g transform=\"translate(962.058272 101.891889)scale(0.1 -0.1)\">\r\n       <use xlink:href=\"#DejaVuSans-51\"/>\r\n      </g>\r\n     </g>\r\n    </g>\r\n    <g id=\"ytick_18\">\r\n     <g id=\"line2d_60\">\r\n      <g>\r\n       <use style=\"stroke:#000000;stroke-width:0.8;\" x=\"975.420772\" xlink:href=\"#mc4e0ea418c\" y=\"65.147216\"/>\r\n      </g>\r\n     </g>\r\n     <g id=\"text_52\">\r\n      <!-- 4 -->\r\n      <g transform=\"translate(962.058272 68.946435)scale(0.1 -0.1)\">\r\n       <use xlink:href=\"#DejaVuSans-52\"/>\r\n      </g>\r\n     </g>\r\n    </g>\r\n    <g id=\"ytick_19\">\r\n     <g id=\"line2d_61\">\r\n      <g>\r\n       <use style=\"stroke:#000000;stroke-width:0.8;\" x=\"975.420772\" xlink:href=\"#mc4e0ea418c\" y=\"32.201761\"/>\r\n      </g>\r\n     </g>\r\n     <g id=\"text_53\">\r\n      <!-- 5 -->\r\n      <g transform=\"translate(962.058272 36.00098)scale(0.1 -0.1)\">\r\n       <use xlink:href=\"#DejaVuSans-53\"/>\r\n      </g>\r\n     </g>\r\n    </g>\r\n   </g>\r\n   <g id=\"line2d_62\">\r\n    <path clip-path=\"url(#pd11aaf4662)\" d=\"M 993.324515 32.201761 \r\nL 997.800451 196.929034 \r\nL 998.695638 65.147216 \r\nL 1002.276387 196.929034 \r\nL 1003.171574 65.147216 \r\nL 1006.752323 196.929034 \r\nL 1007.64751 65.147216 \r\nL 1011.228259 196.929034 \r\nL 1012.123446 65.147216 \r\nL 1015.704195 196.929034 \r\nL 1016.599382 65.147216 \r\nL 1020.18013 196.929034 \r\nL 1021.075318 65.147216 \r\nL 1024.656066 196.929034 \r\nL 1025.551253 65.147216 \r\nL 1029.132002 196.929034 \r\nL 1030.027189 65.147216 \r\nL 1033.607938 196.929034 \r\nL 1034.503125 65.147216 \r\nL 1038.083874 196.929034 \r\nL 1038.979061 65.147216 \r\nL 1042.559809 196.929034 \r\nL 1043.454997 65.147216 \r\nL 1047.035745 196.929034 \r\nL 1047.930932 65.147216 \r\nL 1051.511681 196.929034 \r\nL 1052.406868 65.147216 \r\nL 1055.987617 196.929034 \r\nL 1056.882804 65.147216 \r\nL 1060.463553 196.929034 \r\nL 1061.35874 65.147216 \r\nL 1064.939489 196.929034 \r\nL 1065.834676 65.147216 \r\nL 1069.415424 196.929034 \r\nL 1070.310612 65.147216 \r\nL 1073.89136 196.929034 \r\nL 1074.786547 65.147216 \r\nL 1078.367296 196.929034 \r\nL 1079.262483 65.147216 \r\nL 1082.843232 196.929034 \r\nL 1083.738419 65.147216 \r\nL 1087.319168 196.929034 \r\nL 1088.214355 65.147216 \r\nL 1091.795104 196.929034 \r\nL 1092.690291 65.147216 \r\nL 1096.271039 196.929034 \r\nL 1097.166227 65.147216 \r\nL 1100.746975 196.929034 \r\nL 1101.642162 65.147216 \r\nL 1105.222911 196.929034 \r\nL 1106.118098 65.147216 \r\nL 1109.698847 196.929034 \r\nL 1110.594034 65.147216 \r\nL 1114.174783 196.929034 \r\nL 1115.06997 65.147216 \r\nL 1118.650719 196.929034 \r\nL 1119.545906 65.147216 \r\nL 1123.126654 196.929034 \r\nL 1124.021842 65.147216 \r\nL 1127.60259 196.929034 \r\nL 1128.497777 65.147216 \r\nL 1132.078526 196.929034 \r\nL 1132.973713 65.147216 \r\nL 1136.554462 196.929034 \r\nL 1137.449649 65.147216 \r\nL 1141.030398 196.929034 \r\nL 1141.925585 65.147216 \r\nL 1145.506334 196.929034 \r\nL 1146.401521 65.147216 \r\nL 1149.982269 196.929034 \r\nL 1150.877457 65.147216 \r\nL 1154.458205 196.929034 \r\nL 1155.353392 65.147216 \r\nL 1158.934141 196.929034 \r\nL 1159.829328 65.147216 \r\nL 1163.410077 196.929034 \r\nL 1164.305264 65.147216 \r\nL 1167.886013 196.929034 \r\nL 1168.7812 65.147216 \r\nL 1172.361949 196.929034 \r\nL 1173.257136 65.147216 \r\nL 1176.837884 196.929034 \r\nL 1177.733072 65.147216 \r\nL 1181.31382 196.929034 \r\nL 1182.209007 65.147216 \r\nL 1185.789756 196.929034 \r\nL 1186.684943 65.147216 \r\nL 1190.265692 196.929034 \r\nL 1191.160879 65.147216 \r\nL 1194.741628 196.929034 \r\nL 1195.636815 65.147216 \r\nL 1199.217564 196.929034 \r\nL 1200.112751 65.147216 \r\nL 1203.693499 196.929034 \r\nL 1204.588686 65.147216 \r\nL 1208.169435 196.929034 \r\nL 1209.064622 65.147216 \r\nL 1212.645371 196.929034 \r\nL 1213.540558 65.147216 \r\nL 1217.121307 196.929034 \r\nL 1218.016494 65.147216 \r\nL 1221.597243 196.929034 \r\nL 1222.49243 65.147216 \r\nL 1226.073178 196.929034 \r\nL 1226.968366 65.147216 \r\nL 1230.549114 196.929034 \r\nL 1231.444301 65.147216 \r\nL 1235.02505 196.929034 \r\nL 1235.920237 65.147216 \r\nL 1239.500986 196.929034 \r\nL 1240.396173 65.147216 \r\nL 1243.976922 196.929034 \r\nL 1244.872109 65.147216 \r\nL 1248.452858 196.929034 \r\nL 1249.348045 65.147216 \r\nL 1252.928793 196.929034 \r\nL 1253.823981 65.147216 \r\nL 1257.404729 196.929034 \r\nL 1258.299916 65.147216 \r\nL 1261.880665 196.929034 \r\nL 1262.775852 65.147216 \r\nL 1266.356601 196.929034 \r\nL 1267.251788 65.147216 \r\nL 1270.832537 196.929034 \r\nL 1271.727724 65.147216 \r\nL 1275.308473 196.929034 \r\nL 1276.20366 65.147216 \r\nL 1279.784408 196.929034 \r\nL 1280.679596 65.147216 \r\nL 1284.260344 196.929034 \r\nL 1285.155531 65.147216 \r\nL 1288.73628 196.929034 \r\nL 1289.631467 65.147216 \r\nL 1293.212216 196.929034 \r\nL 1294.107403 65.147216 \r\nL 1297.688152 196.929034 \r\nL 1298.583339 65.147216 \r\nL 1302.164088 196.929034 \r\nL 1303.059275 65.147216 \r\nL 1306.640023 196.929034 \r\nL 1307.535211 65.147216 \r\nL 1311.115959 196.929034 \r\nL 1312.011146 65.147216 \r\nL 1315.591895 196.929034 \r\nL 1316.487082 65.147216 \r\nL 1320.067831 196.929034 \r\nL 1320.963018 65.147216 \r\nL 1324.543767 196.929034 \r\nL 1325.438954 65.147216 \r\nL 1329.019703 196.929034 \r\nL 1329.91489 65.147216 \r\nL 1333.495638 196.929034 \r\nL 1334.390826 65.147216 \r\nL 1337.971574 196.929034 \r\nL 1338.866761 65.147216 \r\nL 1342.44751 196.929034 \r\nL 1343.342697 65.147216 \r\nL 1346.923446 196.929034 \r\nL 1347.818633 65.147216 \r\nL 1351.399382 196.929034 \r\nL 1351.399382 196.929034 \r\n\" style=\"fill:none;stroke:#1f77b4;stroke-linecap:square;stroke-width:1.5;\"/>\r\n   </g>\r\n   <g id=\"line2d_63\">\r\n    <path clip-path=\"url(#pd11aaf4662)\" d=\"M 993.324515 229.874489 \r\nL 1011.228259 229.874489 \r\nL 1012.123446 196.929034 \r\nL 1013.018633 229.874489 \r\nL 1047.035745 229.874489 \r\nL 1047.930932 196.929034 \r\nL 1048.82612 229.874489 \r\nL 1087.319168 229.874489 \r\nL 1088.214355 196.929034 \r\nL 1089.109542 229.874489 \r\nL 1136.554462 229.874489 \r\nL 1137.449649 196.929034 \r\nL 1138.344836 229.874489 \r\nL 1163.410077 229.874489 \r\nL 1164.305264 196.929034 \r\nL 1165.200451 229.874489 \r\nL 1194.741628 229.874489 \r\nL 1195.636815 196.929034 \r\nL 1196.532002 229.874489 \r\nL 1208.169435 229.874489 \r\nL 1209.064622 196.929034 \r\nL 1209.959809 229.874489 \r\nL 1239.500986 229.874489 \r\nL 1240.396173 196.929034 \r\nL 1241.29136 229.874489 \r\nL 1270.832537 229.874489 \r\nL 1271.727724 196.929034 \r\nL 1272.622911 229.874489 \r\nL 1315.591895 229.874489 \r\nL 1316.487082 196.929034 \r\nL 1317.382269 229.874489 \r\nL 1324.543767 229.874489 \r\nL 1325.438954 196.929034 \r\nL 1326.334141 229.874489 \r\nL 1346.923446 229.874489 \r\nL 1347.818633 196.929034 \r\nL 1348.71382 229.874489 \r\nL 1351.399382 229.874489 \r\nL 1351.399382 229.874489 \r\n\" style=\"fill:none;stroke:#ff7f0e;stroke-linecap:square;stroke-width:1.5;\"/>\r\n   </g>\r\n   <g id=\"line2d_64\">\r\n    <path clip-path=\"url(#pd11aaf4662)\" d=\"M 993.324515 229.874489 \r\nL 1351.399382 229.874489 \r\nL 1351.399382 229.874489 \r\n\" style=\"fill:none;stroke:#2ca02c;stroke-linecap:square;stroke-width:1.5;\"/>\r\n   </g>\r\n   <g id=\"line2d_65\">\r\n    <path clip-path=\"url(#pd11aaf4662)\" d=\"M 993.324515 229.874489 \r\nL 997.800451 229.874489 \r\nL 998.695638 196.929034 \r\nL 999.590826 229.874489 \r\nL 1351.399382 229.874489 \r\nL 1351.399382 229.874489 \r\n\" style=\"fill:none;stroke:#d62728;stroke-linecap:square;stroke-width:1.5;\"/>\r\n   </g>\r\n   <g id=\"patch_15\">\r\n    <path d=\"M 975.420772 239.758125 \r\nL 975.420772 22.318125 \r\n\" style=\"fill:none;stroke:#000000;stroke-linecap:square;stroke-linejoin:miter;stroke-width:0.8;\"/>\r\n   </g>\r\n   <g id=\"patch_16\">\r\n    <path d=\"M 1369.303125 239.758125 \r\nL 1369.303125 22.318125 \r\n\" style=\"fill:none;stroke:#000000;stroke-linecap:square;stroke-linejoin:miter;stroke-width:0.8;\"/>\r\n   </g>\r\n   <g id=\"patch_17\">\r\n    <path d=\"M 975.420772 239.758125 \r\nL 1369.303125 239.758125 \r\n\" style=\"fill:none;stroke:#000000;stroke-linecap:square;stroke-linejoin:miter;stroke-width:0.8;\"/>\r\n   </g>\r\n   <g id=\"patch_18\">\r\n    <path d=\"M 975.420772 22.318125 \r\nL 1369.303125 22.318125 \r\n\" style=\"fill:none;stroke:#000000;stroke-linecap:square;stroke-linejoin:miter;stroke-width:0.8;\"/>\r\n   </g>\r\n   <g id=\"text_54\">\r\n    <!-- Task -->\r\n    <g transform=\"translate(1159.410386 16.318125)scale(0.12 -0.12)\">\r\n     <defs>\r\n      <path d=\"M -0.296875 72.90625 \r\nL 61.375 72.90625 \r\nL 61.375 64.59375 \r\nL 35.5 64.59375 \r\nL 35.5 0 \r\nL 25.59375 0 \r\nL 25.59375 64.59375 \r\nL -0.296875 64.59375 \r\nz\r\n\" id=\"DejaVuSans-84\"/>\r\n     </defs>\r\n     <use xlink:href=\"#DejaVuSans-84\"/>\r\n     <use x=\"44.583984\" xlink:href=\"#DejaVuSans-97\"/>\r\n     <use x=\"105.863281\" xlink:href=\"#DejaVuSans-115\"/>\r\n     <use x=\"157.962891\" xlink:href=\"#DejaVuSans-107\"/>\r\n    </g>\r\n   </g>\r\n   <g id=\"legend_3\">\r\n    <g id=\"patch_19\">\r\n     <path d=\"M 1228.778125 89.30875 \r\nL 1362.303125 89.30875 \r\nQ 1364.303125 89.30875 1364.303125 87.30875 \r\nL 1364.303125 29.318125 \r\nQ 1364.303125 27.318125 1362.303125 27.318125 \r\nL 1228.778125 27.318125 \r\nQ 1226.778125 27.318125 1226.778125 29.318125 \r\nL 1226.778125 87.30875 \r\nQ 1226.778125 89.30875 1228.778125 89.30875 \r\nz\r\n\" style=\"fill:#ffffff;opacity:0.8;stroke:#cccccc;stroke-linejoin:miter;\"/>\r\n    </g>\r\n    <g id=\"line2d_66\">\r\n     <path d=\"M 1230.778125 35.416562 \r\nL 1250.778125 35.416562 \r\n\" style=\"fill:none;stroke:#1f77b4;stroke-linecap:square;stroke-width:1.5;\"/>\r\n    </g>\r\n    <g id=\"line2d_67\"/>\r\n    <g id=\"text_55\">\r\n     <!-- inspection -->\r\n     <g transform=\"translate(1258.778125 38.916562)scale(0.1 -0.1)\">\r\n      <defs>\r\n       <path d=\"M 18.109375 8.203125 \r\nL 18.109375 -20.796875 \r\nL 9.078125 -20.796875 \r\nL 9.078125 54.6875 \r\nL 18.109375 54.6875 \r\nL 18.109375 46.390625 \r\nQ 20.953125 51.265625 25.265625 53.625 \r\nQ 29.59375 56 35.59375 56 \r\nQ 45.5625 56 51.78125 48.09375 \r\nQ 58.015625 40.1875 58.015625 27.296875 \r\nQ 58.015625 14.40625 51.78125 6.484375 \r\nQ 45.5625 -1.421875 35.59375 -1.421875 \r\nQ 29.59375 -1.421875 25.265625 0.953125 \r\nQ 20.953125 3.328125 18.109375 8.203125 \r\nz\r\nM 48.6875 27.296875 \r\nQ 48.6875 37.203125 44.609375 42.84375 \r\nQ 40.53125 48.484375 33.40625 48.484375 \r\nQ 26.265625 48.484375 22.1875 42.84375 \r\nQ 18.109375 37.203125 18.109375 27.296875 \r\nQ 18.109375 17.390625 22.1875 11.75 \r\nQ 26.265625 6.109375 33.40625 6.109375 \r\nQ 40.53125 6.109375 44.609375 11.75 \r\nQ 48.6875 17.390625 48.6875 27.296875 \r\nz\r\n\" id=\"DejaVuSans-112\"/>\r\n      </defs>\r\n      <use xlink:href=\"#DejaVuSans-105\"/>\r\n      <use x=\"27.783203\" xlink:href=\"#DejaVuSans-110\"/>\r\n      <use x=\"91.162109\" xlink:href=\"#DejaVuSans-115\"/>\r\n      <use x=\"143.261719\" xlink:href=\"#DejaVuSans-112\"/>\r\n      <use x=\"206.738281\" xlink:href=\"#DejaVuSans-101\"/>\r\n      <use x=\"268.261719\" xlink:href=\"#DejaVuSans-99\"/>\r\n      <use x=\"323.242188\" xlink:href=\"#DejaVuSans-116\"/>\r\n      <use x=\"362.451172\" xlink:href=\"#DejaVuSans-105\"/>\r\n      <use x=\"390.234375\" xlink:href=\"#DejaVuSans-111\"/>\r\n      <use x=\"451.416016\" xlink:href=\"#DejaVuSans-110\"/>\r\n     </g>\r\n    </g>\r\n    <g id=\"line2d_68\">\r\n     <path d=\"M 1230.778125 50.094687 \r\nL 1250.778125 50.094687 \r\n\" style=\"fill:none;stroke:#ff7f0e;stroke-linecap:square;stroke-width:1.5;\"/>\r\n    </g>\r\n    <g id=\"line2d_69\"/>\r\n    <g id=\"text_56\">\r\n     <!-- termite_powder -->\r\n     <g transform=\"translate(1258.778125 53.594687)scale(0.1 -0.1)\">\r\n      <use xlink:href=\"#DejaVuSans-116\"/>\r\n      <use x=\"39.208984\" xlink:href=\"#DejaVuSans-101\"/>\r\n      <use x=\"100.732422\" xlink:href=\"#DejaVuSans-114\"/>\r\n      <use x=\"140.095703\" xlink:href=\"#DejaVuSans-109\"/>\r\n      <use x=\"237.507812\" xlink:href=\"#DejaVuSans-105\"/>\r\n      <use x=\"265.291016\" xlink:href=\"#DejaVuSans-116\"/>\r\n      <use x=\"304.5\" xlink:href=\"#DejaVuSans-101\"/>\r\n      <use x=\"366.023438\" xlink:href=\"#DejaVuSans-95\"/>\r\n      <use x=\"416.023438\" xlink:href=\"#DejaVuSans-112\"/>\r\n      <use x=\"479.5\" xlink:href=\"#DejaVuSans-111\"/>\r\n      <use x=\"540.681641\" xlink:href=\"#DejaVuSans-119\"/>\r\n      <use x=\"622.46875\" xlink:href=\"#DejaVuSans-100\"/>\r\n      <use x=\"685.945312\" xlink:href=\"#DejaVuSans-101\"/>\r\n      <use x=\"747.46875\" xlink:href=\"#DejaVuSans-114\"/>\r\n     </g>\r\n    </g>\r\n    <g id=\"line2d_70\">\r\n     <path d=\"M 1230.778125 65.050938 \r\nL 1250.778125 65.050938 \r\n\" style=\"fill:none;stroke:#2ca02c;stroke-linecap:square;stroke-width:1.5;\"/>\r\n    </g>\r\n    <g id=\"line2d_71\"/>\r\n    <g id=\"text_57\">\r\n     <!-- CAT3/4 replacement -->\r\n     <g transform=\"translate(1258.778125 68.550938)scale(0.1 -0.1)\">\r\n      <defs>\r\n       <path d=\"M 34.1875 63.1875 \r\nL 20.796875 26.90625 \r\nL 47.609375 26.90625 \r\nz\r\nM 28.609375 72.90625 \r\nL 39.796875 72.90625 \r\nL 67.578125 0 \r\nL 57.328125 0 \r\nL 50.6875 18.703125 \r\nL 17.828125 18.703125 \r\nL 11.1875 0 \r\nL 0.78125 0 \r\nz\r\n\" id=\"DejaVuSans-65\"/>\r\n       <path d=\"M 25.390625 72.90625 \r\nL 33.6875 72.90625 \r\nL 8.296875 -9.28125 \r\nL 0 -9.28125 \r\nz\r\n\" id=\"DejaVuSans-47\"/>\r\n       <path id=\"DejaVuSans-32\"/>\r\n      </defs>\r\n      <use xlink:href=\"#DejaVuSans-67\"/>\r\n      <use x=\"69.824219\" xlink:href=\"#DejaVuSans-65\"/>\r\n      <use x=\"130.482422\" xlink:href=\"#DejaVuSans-84\"/>\r\n      <use x=\"191.566406\" xlink:href=\"#DejaVuSans-51\"/>\r\n      <use x=\"255.189453\" xlink:href=\"#DejaVuSans-47\"/>\r\n      <use x=\"288.880859\" xlink:href=\"#DejaVuSans-52\"/>\r\n      <use x=\"352.503906\" xlink:href=\"#DejaVuSans-32\"/>\r\n      <use x=\"384.291016\" xlink:href=\"#DejaVuSans-114\"/>\r\n      <use x=\"423.154297\" xlink:href=\"#DejaVuSans-101\"/>\r\n      <use x=\"484.677734\" xlink:href=\"#DejaVuSans-112\"/>\r\n      <use x=\"548.154297\" xlink:href=\"#DejaVuSans-108\"/>\r\n      <use x=\"575.9375\" xlink:href=\"#DejaVuSans-97\"/>\r\n      <use x=\"637.216797\" xlink:href=\"#DejaVuSans-99\"/>\r\n      <use x=\"692.197266\" xlink:href=\"#DejaVuSans-101\"/>\r\n      <use x=\"753.720703\" xlink:href=\"#DejaVuSans-109\"/>\r\n      <use x=\"851.132812\" xlink:href=\"#DejaVuSans-101\"/>\r\n      <use x=\"912.65625\" xlink:href=\"#DejaVuSans-110\"/>\r\n      <use x=\"976.035156\" xlink:href=\"#DejaVuSans-116\"/>\r\n     </g>\r\n    </g>\r\n    <g id=\"line2d_72\">\r\n     <path d=\"M 1230.778125 79.729062 \r\nL 1250.778125 79.729062 \r\n\" style=\"fill:none;stroke:#d62728;stroke-linecap:square;stroke-width:1.5;\"/>\r\n    </g>\r\n    <g id=\"line2d_73\"/>\r\n    <g id=\"text_58\">\r\n     <!-- CAT1/2 replacement -->\r\n     <g transform=\"translate(1258.778125 83.229062)scale(0.1 -0.1)\">\r\n      <use xlink:href=\"#DejaVuSans-67\"/>\r\n      <use x=\"69.824219\" xlink:href=\"#DejaVuSans-65\"/>\r\n      <use x=\"130.482422\" xlink:href=\"#DejaVuSans-84\"/>\r\n      <use x=\"191.566406\" xlink:href=\"#DejaVuSans-49\"/>\r\n      <use x=\"255.189453\" xlink:href=\"#DejaVuSans-47\"/>\r\n      <use x=\"288.880859\" xlink:href=\"#DejaVuSans-50\"/>\r\n      <use x=\"352.503906\" xlink:href=\"#DejaVuSans-32\"/>\r\n      <use x=\"384.291016\" xlink:href=\"#DejaVuSans-114\"/>\r\n      <use x=\"423.154297\" xlink:href=\"#DejaVuSans-101\"/>\r\n      <use x=\"484.677734\" xlink:href=\"#DejaVuSans-112\"/>\r\n      <use x=\"548.154297\" xlink:href=\"#DejaVuSans-108\"/>\r\n      <use x=\"575.9375\" xlink:href=\"#DejaVuSans-97\"/>\r\n      <use x=\"637.216797\" xlink:href=\"#DejaVuSans-99\"/>\r\n      <use x=\"692.197266\" xlink:href=\"#DejaVuSans-101\"/>\r\n      <use x=\"753.720703\" xlink:href=\"#DejaVuSans-109\"/>\r\n      <use x=\"851.132812\" xlink:href=\"#DejaVuSans-101\"/>\r\n      <use x=\"912.65625\" xlink:href=\"#DejaVuSans-110\"/>\r\n      <use x=\"976.035156\" xlink:href=\"#DejaVuSans-116\"/>\r\n     </g>\r\n    </g>\r\n   </g>\r\n  </g>\r\n </g>\r\n <defs>\r\n  <clipPath id=\"pfde2415e4e\">\r\n   <rect height=\"217.44\" width=\"393.882353\" x=\"30.103125\" y=\"22.318125\"/>\r\n  </clipPath>\r\n  <clipPath id=\"p7bca87191f\">\r\n   <rect height=\"217.44\" width=\"393.882353\" x=\"502.761949\" y=\"22.318125\"/>\r\n  </clipPath>\r\n  <clipPath id=\"pd11aaf4662\">\r\n   <rect height=\"217.44\" width=\"393.882353\" x=\"975.420772\" y=\"22.318125\"/>\r\n  </clipPath>\r\n </defs>\r\n</svg>\r\n",
      "image/png": "[encoded data removed]"
     },
     "metadata": {
      "needs_background": "light"
     }
    }
   ],
   "source": [
    "fm2 = FailureMode.load(data['pole']['fm']['termites'])\n",
    "fm2.sim_timeline(200)\n",
    "fm2.plot_timeline()\n",
    "for cond in fm2.conditions.values():\n",
    "    cond.pf_interval = 100\n",
    "    cond.set_condition(50)\n",
    "\n",
    "\n",
    "fm2.sim_timeline(400)\n",
    "fm2.plot_timeline()"
   ]
  },
  {
   "cell_type": "code",
   "execution_count": 10,
   "metadata": {
    "tags": []
   },
   "outputs": [
    {
     "output_type": "display_data",
     "data": {
      "text/plain": "<Figure size 1728x288 with 3 Axes>",
      "image/svg+xml": "<?xml version=\"1.0\" encoding=\"utf-8\" standalone=\"no\"?>\r\n<!DOCTYPE svg PUBLIC \"-//W3C//DTD SVG 1.1//EN\"\r\n  \"http://www.w3.org/Graphics/SVG/1.1/DTD/svg11.dtd\">\r\n<!-- Created with matplotlib (https://matplotlib.org/) -->\r\n<svg height=\"263.63625pt\" version=\"1.1\" viewBox=\"0 0 1376.503125 263.63625\" width=\"1376.503125pt\" xmlns=\"http://www.w3.org/2000/svg\" xmlns:xlink=\"http://www.w3.org/1999/xlink\">\r\n <metadata>\r\n  <rdf:RDF xmlns:cc=\"http://creativecommons.org/ns#\" xmlns:dc=\"http://purl.org/dc/elements/1.1/\" xmlns:rdf=\"http://www.w3.org/1999/02/22-rdf-syntax-ns#\">\r\n   <cc:Work>\r\n    <dc:type rdf:resource=\"http://purl.org/dc/dcmitype/StillImage\"/>\r\n    <dc:date>2020-09-11T01:48:37.467811</dc:date>\r\n    <dc:format>image/svg+xml</dc:format>\r\n    <dc:creator>\r\n     <cc:Agent>\r\n      <dc:title>Matplotlib v3.3.1, https://matplotlib.org/</dc:title>\r\n     </cc:Agent>\r\n    </dc:creator>\r\n   </cc:Work>\r\n  </rdf:RDF>\r\n </metadata>\r\n <defs>\r\n  <style type=\"text/css\">*{stroke-linecap:butt;stroke-linejoin:round;}</style>\r\n </defs>\r\n <g id=\"figure_1\">\r\n  <g id=\"patch_1\">\r\n   <path d=\"M 0 263.63625 \r\nL 1376.503125 263.63625 \r\nL 1376.503125 0 \r\nL 0 0 \r\nz\r\n\" style=\"fill:none;\"/>\r\n  </g>\r\n  <g id=\"axes_1\">\r\n   <g id=\"patch_2\">\r\n    <path d=\"M 30.103125 239.758125 \r\nL 423.985478 239.758125 \r\nL 423.985478 22.318125 \r\nL 30.103125 22.318125 \r\nz\r\n\" style=\"fill:#ffffff;\"/>\r\n   </g>\r\n   <g id=\"matplotlib.axis_1\">\r\n    <g id=\"xtick_1\">\r\n     <g id=\"line2d_1\">\r\n      <defs>\r\n       <path d=\"M 0 0 \r\nL 0 3.5 \r\n\" id=\"mc0e37d2b4e\" style=\"stroke:#000000;stroke-width:0.8;\"/>\r\n      </defs>\r\n      <g>\r\n       <use style=\"stroke:#000000;stroke-width:0.8;\" x=\"48.006868\" xlink:href=\"#mc0e37d2b4e\" y=\"239.758125\"/>\r\n      </g>\r\n     </g>\r\n     <g id=\"text_1\">\r\n      <!-- 0 -->\r\n      <g transform=\"translate(44.825618 254.356563)scale(0.1 -0.1)\">\r\n       <defs>\r\n        <path d=\"M 31.78125 66.40625 \r\nQ 24.171875 66.40625 20.328125 58.90625 \r\nQ 16.5 51.421875 16.5 36.375 \r\nQ 16.5 21.390625 20.328125 13.890625 \r\nQ 24.171875 6.390625 31.78125 6.390625 \r\nQ 39.453125 6.390625 43.28125 13.890625 \r\nQ 47.125 21.390625 47.125 36.375 \r\nQ 47.125 51.421875 43.28125 58.90625 \r\nQ 39.453125 66.40625 31.78125 66.40625 \r\nz\r\nM 31.78125 74.21875 \r\nQ 44.046875 74.21875 50.515625 64.515625 \r\nQ 56.984375 54.828125 56.984375 36.375 \r\nQ 56.984375 17.96875 50.515625 8.265625 \r\nQ 44.046875 -1.421875 31.78125 -1.421875 \r\nQ 19.53125 -1.421875 13.0625 8.265625 \r\nQ 6.59375 17.96875 6.59375 36.375 \r\nQ 6.59375 54.828125 13.0625 64.515625 \r\nQ 19.53125 74.21875 31.78125 74.21875 \r\nz\r\n\" id=\"DejaVuSans-48\"/>\r\n       </defs>\r\n       <use xlink:href=\"#DejaVuSans-48\"/>\r\n      </g>\r\n     </g>\r\n    </g>\r\n    <g id=\"xtick_2\">\r\n     <g id=\"line2d_2\">\r\n      <g>\r\n       <use style=\"stroke:#000000;stroke-width:0.8;\" x=\"92.766227\" xlink:href=\"#mc0e37d2b4e\" y=\"239.758125\"/>\r\n      </g>\r\n     </g>\r\n     <g id=\"text_2\">\r\n      <!-- 25 -->\r\n      <g transform=\"translate(86.403727 254.356563)scale(0.1 -0.1)\">\r\n       <defs>\r\n        <path d=\"M 19.1875 8.296875 \r\nL 53.609375 8.296875 \r\nL 53.609375 0 \r\nL 7.328125 0 \r\nL 7.328125 8.296875 \r\nQ 12.9375 14.109375 22.625 23.890625 \r\nQ 32.328125 33.6875 34.8125 36.53125 \r\nQ 39.546875 41.84375 41.421875 45.53125 \r\nQ 43.3125 49.21875 43.3125 52.78125 \r\nQ 43.3125 58.59375 39.234375 62.25 \r\nQ 35.15625 65.921875 28.609375 65.921875 \r\nQ 23.96875 65.921875 18.8125 64.3125 \r\nQ 13.671875 62.703125 7.8125 59.421875 \r\nL 7.8125 69.390625 \r\nQ 13.765625 71.78125 18.9375 73 \r\nQ 24.125 74.21875 28.421875 74.21875 \r\nQ 39.75 74.21875 46.484375 68.546875 \r\nQ 53.21875 62.890625 53.21875 53.421875 \r\nQ 53.21875 48.921875 51.53125 44.890625 \r\nQ 49.859375 40.875 45.40625 35.40625 \r\nQ 44.1875 33.984375 37.640625 27.21875 \r\nQ 31.109375 20.453125 19.1875 8.296875 \r\nz\r\n\" id=\"DejaVuSans-50\"/>\r\n        <path d=\"M 10.796875 72.90625 \r\nL 49.515625 72.90625 \r\nL 49.515625 64.59375 \r\nL 19.828125 64.59375 \r\nL 19.828125 46.734375 \r\nQ 21.96875 47.46875 24.109375 47.828125 \r\nQ 26.265625 48.1875 28.421875 48.1875 \r\nQ 40.625 48.1875 47.75 41.5 \r\nQ 54.890625 34.8125 54.890625 23.390625 \r\nQ 54.890625 11.625 47.5625 5.09375 \r\nQ 40.234375 -1.421875 26.90625 -1.421875 \r\nQ 22.3125 -1.421875 17.546875 -0.640625 \r\nQ 12.796875 0.140625 7.71875 1.703125 \r\nL 7.71875 11.625 \r\nQ 12.109375 9.234375 16.796875 8.0625 \r\nQ 21.484375 6.890625 26.703125 6.890625 \r\nQ 35.15625 6.890625 40.078125 11.328125 \r\nQ 45.015625 15.765625 45.015625 23.390625 \r\nQ 45.015625 31 40.078125 35.4375 \r\nQ 35.15625 39.890625 26.703125 39.890625 \r\nQ 22.75 39.890625 18.8125 39.015625 \r\nQ 14.890625 38.140625 10.796875 36.28125 \r\nz\r\n\" id=\"DejaVuSans-53\"/>\r\n       </defs>\r\n       <use xlink:href=\"#DejaVuSans-50\"/>\r\n       <use x=\"63.623047\" xlink:href=\"#DejaVuSans-53\"/>\r\n      </g>\r\n     </g>\r\n    </g>\r\n    <g id=\"xtick_3\">\r\n     <g id=\"line2d_3\">\r\n      <g>\r\n       <use style=\"stroke:#000000;stroke-width:0.8;\" x=\"137.525585\" xlink:href=\"#mc0e37d2b4e\" y=\"239.758125\"/>\r\n      </g>\r\n     </g>\r\n     <g id=\"text_3\">\r\n      <!-- 50 -->\r\n      <g transform=\"translate(131.163085 254.356563)scale(0.1 -0.1)\">\r\n       <use xlink:href=\"#DejaVuSans-53\"/>\r\n       <use x=\"63.623047\" xlink:href=\"#DejaVuSans-48\"/>\r\n      </g>\r\n     </g>\r\n    </g>\r\n    <g id=\"xtick_4\">\r\n     <g id=\"line2d_4\">\r\n      <g>\r\n       <use style=\"stroke:#000000;stroke-width:0.8;\" x=\"182.284943\" xlink:href=\"#mc0e37d2b4e\" y=\"239.758125\"/>\r\n      </g>\r\n     </g>\r\n     <g id=\"text_4\">\r\n      <!-- 75 -->\r\n      <g transform=\"translate(175.922443 254.356563)scale(0.1 -0.1)\">\r\n       <defs>\r\n        <path d=\"M 8.203125 72.90625 \r\nL 55.078125 72.90625 \r\nL 55.078125 68.703125 \r\nL 28.609375 0 \r\nL 18.3125 0 \r\nL 43.21875 64.59375 \r\nL 8.203125 64.59375 \r\nz\r\n\" id=\"DejaVuSans-55\"/>\r\n       </defs>\r\n       <use xlink:href=\"#DejaVuSans-55\"/>\r\n       <use x=\"63.623047\" xlink:href=\"#DejaVuSans-53\"/>\r\n      </g>\r\n     </g>\r\n    </g>\r\n    <g id=\"xtick_5\">\r\n     <g id=\"line2d_5\">\r\n      <g>\r\n       <use style=\"stroke:#000000;stroke-width:0.8;\" x=\"227.044301\" xlink:href=\"#mc0e37d2b4e\" y=\"239.758125\"/>\r\n      </g>\r\n     </g>\r\n     <g id=\"text_5\">\r\n      <!-- 100 -->\r\n      <g transform=\"translate(217.500551 254.356563)scale(0.1 -0.1)\">\r\n       <defs>\r\n        <path d=\"M 12.40625 8.296875 \r\nL 28.515625 8.296875 \r\nL 28.515625 63.921875 \r\nL 10.984375 60.40625 \r\nL 10.984375 69.390625 \r\nL 28.421875 72.90625 \r\nL 38.28125 72.90625 \r\nL 38.28125 8.296875 \r\nL 54.390625 8.296875 \r\nL 54.390625 0 \r\nL 12.40625 0 \r\nz\r\n\" id=\"DejaVuSans-49\"/>\r\n       </defs>\r\n       <use xlink:href=\"#DejaVuSans-49\"/>\r\n       <use x=\"63.623047\" xlink:href=\"#DejaVuSans-48\"/>\r\n       <use x=\"127.246094\" xlink:href=\"#DejaVuSans-48\"/>\r\n      </g>\r\n     </g>\r\n    </g>\r\n    <g id=\"xtick_6\">\r\n     <g id=\"line2d_6\">\r\n      <g>\r\n       <use style=\"stroke:#000000;stroke-width:0.8;\" x=\"271.80366\" xlink:href=\"#mc0e37d2b4e\" y=\"239.758125\"/>\r\n      </g>\r\n     </g>\r\n     <g id=\"text_6\">\r\n      <!-- 125 -->\r\n      <g transform=\"translate(262.25991 254.356563)scale(0.1 -0.1)\">\r\n       <use xlink:href=\"#DejaVuSans-49\"/>\r\n       <use x=\"63.623047\" xlink:href=\"#DejaVuSans-50\"/>\r\n       <use x=\"127.246094\" xlink:href=\"#DejaVuSans-53\"/>\r\n      </g>\r\n     </g>\r\n    </g>\r\n    <g id=\"xtick_7\">\r\n     <g id=\"line2d_7\">\r\n      <g>\r\n       <use style=\"stroke:#000000;stroke-width:0.8;\" x=\"316.563018\" xlink:href=\"#mc0e37d2b4e\" y=\"239.758125\"/>\r\n      </g>\r\n     </g>\r\n     <g id=\"text_7\">\r\n      <!-- 150 -->\r\n      <g transform=\"translate(307.019268 254.356563)scale(0.1 -0.1)\">\r\n       <use xlink:href=\"#DejaVuSans-49\"/>\r\n       <use x=\"63.623047\" xlink:href=\"#DejaVuSans-53\"/>\r\n       <use x=\"127.246094\" xlink:href=\"#DejaVuSans-48\"/>\r\n      </g>\r\n     </g>\r\n    </g>\r\n    <g id=\"xtick_8\">\r\n     <g id=\"line2d_8\">\r\n      <g>\r\n       <use style=\"stroke:#000000;stroke-width:0.8;\" x=\"361.322376\" xlink:href=\"#mc0e37d2b4e\" y=\"239.758125\"/>\r\n      </g>\r\n     </g>\r\n     <g id=\"text_8\">\r\n      <!-- 175 -->\r\n      <g transform=\"translate(351.778626 254.356563)scale(0.1 -0.1)\">\r\n       <use xlink:href=\"#DejaVuSans-49\"/>\r\n       <use x=\"63.623047\" xlink:href=\"#DejaVuSans-55\"/>\r\n       <use x=\"127.246094\" xlink:href=\"#DejaVuSans-53\"/>\r\n      </g>\r\n     </g>\r\n    </g>\r\n    <g id=\"xtick_9\">\r\n     <g id=\"line2d_9\">\r\n      <g>\r\n       <use style=\"stroke:#000000;stroke-width:0.8;\" x=\"406.081735\" xlink:href=\"#mc0e37d2b4e\" y=\"239.758125\"/>\r\n      </g>\r\n     </g>\r\n     <g id=\"text_9\">\r\n      <!-- 200 -->\r\n      <g transform=\"translate(396.537985 254.356563)scale(0.1 -0.1)\">\r\n       <use xlink:href=\"#DejaVuSans-50\"/>\r\n       <use x=\"63.623047\" xlink:href=\"#DejaVuSans-48\"/>\r\n       <use x=\"127.246094\" xlink:href=\"#DejaVuSans-48\"/>\r\n      </g>\r\n     </g>\r\n    </g>\r\n   </g>\r\n   <g id=\"matplotlib.axis_2\">\r\n    <g id=\"ytick_1\">\r\n     <g id=\"line2d_10\">\r\n      <defs>\r\n       <path d=\"M 0 0 \r\nL -3.5 0 \r\n\" id=\"mf0742a3669\" style=\"stroke:#000000;stroke-width:0.8;\"/>\r\n      </defs>\r\n      <g>\r\n       <use style=\"stroke:#000000;stroke-width:0.8;\" x=\"30.103125\" xlink:href=\"#mf0742a3669\" y=\"229.874489\"/>\r\n      </g>\r\n     </g>\r\n     <g id=\"text_10\">\r\n      <!-- 0.0 -->\r\n      <g transform=\"translate(7.2 233.673707)scale(0.1 -0.1)\">\r\n       <defs>\r\n        <path d=\"M 10.6875 12.40625 \r\nL 21 12.40625 \r\nL 21 0 \r\nL 10.6875 0 \r\nz\r\n\" id=\"DejaVuSans-46\"/>\r\n       </defs>\r\n       <use xlink:href=\"#DejaVuSans-48\"/>\r\n       <use x=\"63.623047\" xlink:href=\"#DejaVuSans-46\"/>\r\n       <use x=\"95.410156\" xlink:href=\"#DejaVuSans-48\"/>\r\n      </g>\r\n     </g>\r\n    </g>\r\n    <g id=\"ytick_2\">\r\n     <g id=\"line2d_11\">\r\n      <g>\r\n       <use style=\"stroke:#000000;stroke-width:0.8;\" x=\"30.103125\" xlink:href=\"#mf0742a3669\" y=\"190.339943\"/>\r\n      </g>\r\n     </g>\r\n     <g id=\"text_11\">\r\n      <!-- 0.2 -->\r\n      <g transform=\"translate(7.2 194.139162)scale(0.1 -0.1)\">\r\n       <use xlink:href=\"#DejaVuSans-48\"/>\r\n       <use x=\"63.623047\" xlink:href=\"#DejaVuSans-46\"/>\r\n       <use x=\"95.410156\" xlink:href=\"#DejaVuSans-50\"/>\r\n      </g>\r\n     </g>\r\n    </g>\r\n    <g id=\"ytick_3\">\r\n     <g id=\"line2d_12\">\r\n      <g>\r\n       <use style=\"stroke:#000000;stroke-width:0.8;\" x=\"30.103125\" xlink:href=\"#mf0742a3669\" y=\"150.805398\"/>\r\n      </g>\r\n     </g>\r\n     <g id=\"text_12\">\r\n      <!-- 0.4 -->\r\n      <g transform=\"translate(7.2 154.604616)scale(0.1 -0.1)\">\r\n       <defs>\r\n        <path d=\"M 37.796875 64.3125 \r\nL 12.890625 25.390625 \r\nL 37.796875 25.390625 \r\nz\r\nM 35.203125 72.90625 \r\nL 47.609375 72.90625 \r\nL 47.609375 25.390625 \r\nL 58.015625 25.390625 \r\nL 58.015625 17.1875 \r\nL 47.609375 17.1875 \r\nL 47.609375 0 \r\nL 37.796875 0 \r\nL 37.796875 17.1875 \r\nL 4.890625 17.1875 \r\nL 4.890625 26.703125 \r\nz\r\n\" id=\"DejaVuSans-52\"/>\r\n       </defs>\r\n       <use xlink:href=\"#DejaVuSans-48\"/>\r\n       <use x=\"63.623047\" xlink:href=\"#DejaVuSans-46\"/>\r\n       <use x=\"95.410156\" xlink:href=\"#DejaVuSans-52\"/>\r\n      </g>\r\n     </g>\r\n    </g>\r\n    <g id=\"ytick_4\">\r\n     <g id=\"line2d_13\">\r\n      <g>\r\n       <use style=\"stroke:#000000;stroke-width:0.8;\" x=\"30.103125\" xlink:href=\"#mf0742a3669\" y=\"111.270852\"/>\r\n      </g>\r\n     </g>\r\n     <g id=\"text_13\">\r\n      <!-- 0.6 -->\r\n      <g transform=\"translate(7.2 115.070071)scale(0.1 -0.1)\">\r\n       <defs>\r\n        <path d=\"M 33.015625 40.375 \r\nQ 26.375 40.375 22.484375 35.828125 \r\nQ 18.609375 31.296875 18.609375 23.390625 \r\nQ 18.609375 15.53125 22.484375 10.953125 \r\nQ 26.375 6.390625 33.015625 6.390625 \r\nQ 39.65625 6.390625 43.53125 10.953125 \r\nQ 47.40625 15.53125 47.40625 23.390625 \r\nQ 47.40625 31.296875 43.53125 35.828125 \r\nQ 39.65625 40.375 33.015625 40.375 \r\nz\r\nM 52.59375 71.296875 \r\nL 52.59375 62.3125 \r\nQ 48.875 64.0625 45.09375 64.984375 \r\nQ 41.3125 65.921875 37.59375 65.921875 \r\nQ 27.828125 65.921875 22.671875 59.328125 \r\nQ 17.53125 52.734375 16.796875 39.40625 \r\nQ 19.671875 43.65625 24.015625 45.921875 \r\nQ 28.375 48.1875 33.59375 48.1875 \r\nQ 44.578125 48.1875 50.953125 41.515625 \r\nQ 57.328125 34.859375 57.328125 23.390625 \r\nQ 57.328125 12.15625 50.6875 5.359375 \r\nQ 44.046875 -1.421875 33.015625 -1.421875 \r\nQ 20.359375 -1.421875 13.671875 8.265625 \r\nQ 6.984375 17.96875 6.984375 36.375 \r\nQ 6.984375 53.65625 15.1875 63.9375 \r\nQ 23.390625 74.21875 37.203125 74.21875 \r\nQ 40.921875 74.21875 44.703125 73.484375 \r\nQ 48.484375 72.75 52.59375 71.296875 \r\nz\r\n\" id=\"DejaVuSans-54\"/>\r\n       </defs>\r\n       <use xlink:href=\"#DejaVuSans-48\"/>\r\n       <use x=\"63.623047\" xlink:href=\"#DejaVuSans-46\"/>\r\n       <use x=\"95.410156\" xlink:href=\"#DejaVuSans-54\"/>\r\n      </g>\r\n     </g>\r\n    </g>\r\n    <g id=\"ytick_5\">\r\n     <g id=\"line2d_14\">\r\n      <g>\r\n       <use style=\"stroke:#000000;stroke-width:0.8;\" x=\"30.103125\" xlink:href=\"#mf0742a3669\" y=\"71.736307\"/>\r\n      </g>\r\n     </g>\r\n     <g id=\"text_14\">\r\n      <!-- 0.8 -->\r\n      <g transform=\"translate(7.2 75.535526)scale(0.1 -0.1)\">\r\n       <defs>\r\n        <path d=\"M 31.78125 34.625 \r\nQ 24.75 34.625 20.71875 30.859375 \r\nQ 16.703125 27.09375 16.703125 20.515625 \r\nQ 16.703125 13.921875 20.71875 10.15625 \r\nQ 24.75 6.390625 31.78125 6.390625 \r\nQ 38.8125 6.390625 42.859375 10.171875 \r\nQ 46.921875 13.96875 46.921875 20.515625 \r\nQ 46.921875 27.09375 42.890625 30.859375 \r\nQ 38.875 34.625 31.78125 34.625 \r\nz\r\nM 21.921875 38.8125 \r\nQ 15.578125 40.375 12.03125 44.71875 \r\nQ 8.5 49.078125 8.5 55.328125 \r\nQ 8.5 64.0625 14.71875 69.140625 \r\nQ 20.953125 74.21875 31.78125 74.21875 \r\nQ 42.671875 74.21875 48.875 69.140625 \r\nQ 55.078125 64.0625 55.078125 55.328125 \r\nQ 55.078125 49.078125 51.53125 44.71875 \r\nQ 48 40.375 41.703125 38.8125 \r\nQ 48.828125 37.15625 52.796875 32.3125 \r\nQ 56.78125 27.484375 56.78125 20.515625 \r\nQ 56.78125 9.90625 50.3125 4.234375 \r\nQ 43.84375 -1.421875 31.78125 -1.421875 \r\nQ 19.734375 -1.421875 13.25 4.234375 \r\nQ 6.78125 9.90625 6.78125 20.515625 \r\nQ 6.78125 27.484375 10.78125 32.3125 \r\nQ 14.796875 37.15625 21.921875 38.8125 \r\nz\r\nM 18.3125 54.390625 \r\nQ 18.3125 48.734375 21.84375 45.5625 \r\nQ 25.390625 42.390625 31.78125 42.390625 \r\nQ 38.140625 42.390625 41.71875 45.5625 \r\nQ 45.3125 48.734375 45.3125 54.390625 \r\nQ 45.3125 60.0625 41.71875 63.234375 \r\nQ 38.140625 66.40625 31.78125 66.40625 \r\nQ 25.390625 66.40625 21.84375 63.234375 \r\nQ 18.3125 60.0625 18.3125 54.390625 \r\nz\r\n\" id=\"DejaVuSans-56\"/>\r\n       </defs>\r\n       <use xlink:href=\"#DejaVuSans-48\"/>\r\n       <use x=\"63.623047\" xlink:href=\"#DejaVuSans-46\"/>\r\n       <use x=\"95.410156\" xlink:href=\"#DejaVuSans-56\"/>\r\n      </g>\r\n     </g>\r\n    </g>\r\n    <g id=\"ytick_6\">\r\n     <g id=\"line2d_15\">\r\n      <g>\r\n       <use style=\"stroke:#000000;stroke-width:0.8;\" x=\"30.103125\" xlink:href=\"#mf0742a3669\" y=\"32.201761\"/>\r\n      </g>\r\n     </g>\r\n     <g id=\"text_15\">\r\n      <!-- 1.0 -->\r\n      <g transform=\"translate(7.2 36.00098)scale(0.1 -0.1)\">\r\n       <use xlink:href=\"#DejaVuSans-49\"/>\r\n       <use x=\"63.623047\" xlink:href=\"#DejaVuSans-46\"/>\r\n       <use x=\"95.410156\" xlink:href=\"#DejaVuSans-48\"/>\r\n      </g>\r\n     </g>\r\n    </g>\r\n   </g>\r\n   <g id=\"line2d_16\">\r\n    <path clip-path=\"url(#p662079a1ae)\" d=\"M 48.006868 229.874489 \r\nL 110.66997 229.874489 \r\nL 112.460344 32.201761 \r\nL 200.188686 32.201761 \r\nL 201.979061 229.874489 \r\nL 253.899916 229.874489 \r\nL 255.690291 32.201761 \r\nL 339.837884 32.201761 \r\nL 341.628259 229.874489 \r\nL 370.274248 229.874489 \r\nL 372.064622 32.201761 \r\nL 406.081735 32.201761 \r\nL 406.081735 32.201761 \r\n\" style=\"fill:none;stroke:#1f77b4;stroke-linecap:square;stroke-width:1.5;\"/>\r\n   </g>\r\n   <g id=\"line2d_17\">\r\n    <path clip-path=\"url(#p662079a1ae)\" d=\"M 48.006868 229.874489 \r\nL 198.398312 229.874489 \r\nL 200.188686 32.201761 \r\nL 201.979061 229.874489 \r\nL 338.04751 229.874489 \r\nL 339.837884 32.201761 \r\nL 341.628259 229.874489 \r\nL 406.081735 229.874489 \r\nL 406.081735 229.874489 \r\n\" style=\"fill:none;stroke:#ff7f0e;stroke-linecap:square;stroke-width:1.5;\"/>\r\n   </g>\r\n   <g id=\"line2d_18\">\r\n    <path clip-path=\"url(#p662079a1ae)\" d=\"M 48.006868 229.874489 \r\nL 108.879596 229.874489 \r\nL 110.66997 32.201761 \r\nL 200.188686 32.201761 \r\nL 201.979061 229.874489 \r\nL 248.528793 229.874489 \r\nL 250.319168 32.201761 \r\nL 339.837884 32.201761 \r\nL 341.628259 229.874489 \r\nL 354.160879 229.874489 \r\nL 355.951253 32.201761 \r\nL 406.081735 32.201761 \r\nL 406.081735 32.201761 \r\n\" style=\"fill:none;stroke:#2ca02c;stroke-linecap:square;stroke-width:1.5;\"/>\r\n   </g>\r\n   <g id=\"patch_3\">\r\n    <path d=\"M 30.103125 239.758125 \r\nL 30.103125 22.318125 \r\n\" style=\"fill:none;stroke:#000000;stroke-linecap:square;stroke-linejoin:miter;stroke-width:0.8;\"/>\r\n   </g>\r\n   <g id=\"patch_4\">\r\n    <path d=\"M 423.985478 239.758125 \r\nL 423.985478 22.318125 \r\n\" style=\"fill:none;stroke:#000000;stroke-linecap:square;stroke-linejoin:miter;stroke-width:0.8;\"/>\r\n   </g>\r\n   <g id=\"patch_5\">\r\n    <path d=\"M 30.103125 239.758125 \r\nL 423.985478 239.758125 \r\n\" style=\"fill:none;stroke:#000000;stroke-linecap:square;stroke-linejoin:miter;stroke-width:0.8;\"/>\r\n   </g>\r\n   <g id=\"patch_6\">\r\n    <path d=\"M 30.103125 22.318125 \r\nL 423.985478 22.318125 \r\n\" style=\"fill:none;stroke:#000000;stroke-linecap:square;stroke-linejoin:miter;stroke-width:0.8;\"/>\r\n   </g>\r\n   <g id=\"text_16\">\r\n    <!-- State -->\r\n    <g transform=\"translate(211.162114 16.318125)scale(0.12 -0.12)\">\r\n     <defs>\r\n      <path d=\"M 53.515625 70.515625 \r\nL 53.515625 60.890625 \r\nQ 47.90625 63.578125 42.921875 64.890625 \r\nQ 37.9375 66.21875 33.296875 66.21875 \r\nQ 25.25 66.21875 20.875 63.09375 \r\nQ 16.5 59.96875 16.5 54.203125 \r\nQ 16.5 49.359375 19.40625 46.890625 \r\nQ 22.3125 44.4375 30.421875 42.921875 \r\nL 36.375 41.703125 \r\nQ 47.40625 39.59375 52.65625 34.296875 \r\nQ 57.90625 29 57.90625 20.125 \r\nQ 57.90625 9.515625 50.796875 4.046875 \r\nQ 43.703125 -1.421875 29.984375 -1.421875 \r\nQ 24.8125 -1.421875 18.96875 -0.25 \r\nQ 13.140625 0.921875 6.890625 3.21875 \r\nL 6.890625 13.375 \r\nQ 12.890625 10.015625 18.65625 8.296875 \r\nQ 24.421875 6.59375 29.984375 6.59375 \r\nQ 38.421875 6.59375 43.015625 9.90625 \r\nQ 47.609375 13.234375 47.609375 19.390625 \r\nQ 47.609375 24.75 44.3125 27.78125 \r\nQ 41.015625 30.8125 33.5 32.328125 \r\nL 27.484375 33.5 \r\nQ 16.453125 35.6875 11.515625 40.375 \r\nQ 6.59375 45.0625 6.59375 53.421875 \r\nQ 6.59375 63.09375 13.40625 68.65625 \r\nQ 20.21875 74.21875 32.171875 74.21875 \r\nQ 37.3125 74.21875 42.625 73.28125 \r\nQ 47.953125 72.359375 53.515625 70.515625 \r\nz\r\n\" id=\"DejaVuSans-83\"/>\r\n      <path d=\"M 18.3125 70.21875 \r\nL 18.3125 54.6875 \r\nL 36.8125 54.6875 \r\nL 36.8125 47.703125 \r\nL 18.3125 47.703125 \r\nL 18.3125 18.015625 \r\nQ 18.3125 11.328125 20.140625 9.421875 \r\nQ 21.96875 7.515625 27.59375 7.515625 \r\nL 36.8125 7.515625 \r\nL 36.8125 0 \r\nL 27.59375 0 \r\nQ 17.1875 0 13.234375 3.875 \r\nQ 9.28125 7.765625 9.28125 18.015625 \r\nL 9.28125 47.703125 \r\nL 2.6875 47.703125 \r\nL 2.6875 54.6875 \r\nL 9.28125 54.6875 \r\nL 9.28125 70.21875 \r\nz\r\n\" id=\"DejaVuSans-116\"/>\r\n      <path d=\"M 34.28125 27.484375 \r\nQ 23.390625 27.484375 19.1875 25 \r\nQ 14.984375 22.515625 14.984375 16.5 \r\nQ 14.984375 11.71875 18.140625 8.90625 \r\nQ 21.296875 6.109375 26.703125 6.109375 \r\nQ 34.1875 6.109375 38.703125 11.40625 \r\nQ 43.21875 16.703125 43.21875 25.484375 \r\nL 43.21875 27.484375 \r\nz\r\nM 52.203125 31.203125 \r\nL 52.203125 0 \r\nL 43.21875 0 \r\nL 43.21875 8.296875 \r\nQ 40.140625 3.328125 35.546875 0.953125 \r\nQ 30.953125 -1.421875 24.3125 -1.421875 \r\nQ 15.921875 -1.421875 10.953125 3.296875 \r\nQ 6 8.015625 6 15.921875 \r\nQ 6 25.140625 12.171875 29.828125 \r\nQ 18.359375 34.515625 30.609375 34.515625 \r\nL 43.21875 34.515625 \r\nL 43.21875 35.40625 \r\nQ 43.21875 41.609375 39.140625 45 \r\nQ 35.0625 48.390625 27.6875 48.390625 \r\nQ 23 48.390625 18.546875 47.265625 \r\nQ 14.109375 46.140625 10.015625 43.890625 \r\nL 10.015625 52.203125 \r\nQ 14.9375 54.109375 19.578125 55.046875 \r\nQ 24.21875 56 28.609375 56 \r\nQ 40.484375 56 46.34375 49.84375 \r\nQ 52.203125 43.703125 52.203125 31.203125 \r\nz\r\n\" id=\"DejaVuSans-97\"/>\r\n      <path d=\"M 56.203125 29.59375 \r\nL 56.203125 25.203125 \r\nL 14.890625 25.203125 \r\nQ 15.484375 15.921875 20.484375 11.0625 \r\nQ 25.484375 6.203125 34.421875 6.203125 \r\nQ 39.59375 6.203125 44.453125 7.46875 \r\nQ 49.3125 8.734375 54.109375 11.28125 \r\nL 54.109375 2.78125 \r\nQ 49.265625 0.734375 44.1875 -0.34375 \r\nQ 39.109375 -1.421875 33.890625 -1.421875 \r\nQ 20.796875 -1.421875 13.15625 6.1875 \r\nQ 5.515625 13.8125 5.515625 26.8125 \r\nQ 5.515625 40.234375 12.765625 48.109375 \r\nQ 20.015625 56 32.328125 56 \r\nQ 43.359375 56 49.78125 48.890625 \r\nQ 56.203125 41.796875 56.203125 29.59375 \r\nz\r\nM 47.21875 32.234375 \r\nQ 47.125 39.59375 43.09375 43.984375 \r\nQ 39.0625 48.390625 32.421875 48.390625 \r\nQ 24.90625 48.390625 20.390625 44.140625 \r\nQ 15.875 39.890625 15.1875 32.171875 \r\nz\r\n\" id=\"DejaVuSans-101\"/>\r\n     </defs>\r\n     <use xlink:href=\"#DejaVuSans-83\"/>\r\n     <use x=\"63.476562\" xlink:href=\"#DejaVuSans-116\"/>\r\n     <use x=\"102.685547\" xlink:href=\"#DejaVuSans-97\"/>\r\n     <use x=\"163.964844\" xlink:href=\"#DejaVuSans-116\"/>\r\n     <use x=\"203.173828\" xlink:href=\"#DejaVuSans-101\"/>\r\n    </g>\r\n   </g>\r\n   <g id=\"legend_1\">\r\n    <g id=\"patch_7\">\r\n     <path d=\"M 37.103125 154.555313 \r\nL 116.33125 154.555313 \r\nQ 118.33125 154.555313 118.33125 152.555313 \r\nL 118.33125 109.520938 \r\nQ 118.33125 107.520938 116.33125 107.520938 \r\nL 37.103125 107.520938 \r\nQ 35.103125 107.520938 35.103125 109.520938 \r\nL 35.103125 152.555313 \r\nQ 35.103125 154.555313 37.103125 154.555313 \r\nz\r\n\" style=\"fill:#ffffff;opacity:0.8;stroke:#cccccc;stroke-linejoin:miter;\"/>\r\n    </g>\r\n    <g id=\"line2d_19\">\r\n     <path d=\"M 39.103125 115.619375 \r\nL 59.103125 115.619375 \r\n\" style=\"fill:none;stroke:#1f77b4;stroke-linecap:square;stroke-width:1.5;\"/>\r\n    </g>\r\n    <g id=\"line2d_20\"/>\r\n    <g id=\"text_17\">\r\n     <!-- detection -->\r\n     <g transform=\"translate(67.103125 119.119375)scale(0.1 -0.1)\">\r\n      <defs>\r\n       <path d=\"M 45.40625 46.390625 \r\nL 45.40625 75.984375 \r\nL 54.390625 75.984375 \r\nL 54.390625 0 \r\nL 45.40625 0 \r\nL 45.40625 8.203125 \r\nQ 42.578125 3.328125 38.25 0.953125 \r\nQ 33.9375 -1.421875 27.875 -1.421875 \r\nQ 17.96875 -1.421875 11.734375 6.484375 \r\nQ 5.515625 14.40625 5.515625 27.296875 \r\nQ 5.515625 40.1875 11.734375 48.09375 \r\nQ 17.96875 56 27.875 56 \r\nQ 33.9375 56 38.25 53.625 \r\nQ 42.578125 51.265625 45.40625 46.390625 \r\nz\r\nM 14.796875 27.296875 \r\nQ 14.796875 17.390625 18.875 11.75 \r\nQ 22.953125 6.109375 30.078125 6.109375 \r\nQ 37.203125 6.109375 41.296875 11.75 \r\nQ 45.40625 17.390625 45.40625 27.296875 \r\nQ 45.40625 37.203125 41.296875 42.84375 \r\nQ 37.203125 48.484375 30.078125 48.484375 \r\nQ 22.953125 48.484375 18.875 42.84375 \r\nQ 14.796875 37.203125 14.796875 27.296875 \r\nz\r\n\" id=\"DejaVuSans-100\"/>\r\n       <path d=\"M 48.78125 52.59375 \r\nL 48.78125 44.1875 \r\nQ 44.96875 46.296875 41.140625 47.34375 \r\nQ 37.3125 48.390625 33.40625 48.390625 \r\nQ 24.65625 48.390625 19.8125 42.84375 \r\nQ 14.984375 37.3125 14.984375 27.296875 \r\nQ 14.984375 17.28125 19.8125 11.734375 \r\nQ 24.65625 6.203125 33.40625 6.203125 \r\nQ 37.3125 6.203125 41.140625 7.25 \r\nQ 44.96875 8.296875 48.78125 10.40625 \r\nL 48.78125 2.09375 \r\nQ 45.015625 0.34375 40.984375 -0.53125 \r\nQ 36.96875 -1.421875 32.421875 -1.421875 \r\nQ 20.0625 -1.421875 12.78125 6.34375 \r\nQ 5.515625 14.109375 5.515625 27.296875 \r\nQ 5.515625 40.671875 12.859375 48.328125 \r\nQ 20.21875 56 33.015625 56 \r\nQ 37.15625 56 41.109375 55.140625 \r\nQ 45.0625 54.296875 48.78125 52.59375 \r\nz\r\n\" id=\"DejaVuSans-99\"/>\r\n       <path d=\"M 9.421875 54.6875 \r\nL 18.40625 54.6875 \r\nL 18.40625 0 \r\nL 9.421875 0 \r\nz\r\nM 9.421875 75.984375 \r\nL 18.40625 75.984375 \r\nL 18.40625 64.59375 \r\nL 9.421875 64.59375 \r\nz\r\n\" id=\"DejaVuSans-105\"/>\r\n       <path d=\"M 30.609375 48.390625 \r\nQ 23.390625 48.390625 19.1875 42.75 \r\nQ 14.984375 37.109375 14.984375 27.296875 \r\nQ 14.984375 17.484375 19.15625 11.84375 \r\nQ 23.34375 6.203125 30.609375 6.203125 \r\nQ 37.796875 6.203125 41.984375 11.859375 \r\nQ 46.1875 17.53125 46.1875 27.296875 \r\nQ 46.1875 37.015625 41.984375 42.703125 \r\nQ 37.796875 48.390625 30.609375 48.390625 \r\nz\r\nM 30.609375 56 \r\nQ 42.328125 56 49.015625 48.375 \r\nQ 55.71875 40.765625 55.71875 27.296875 \r\nQ 55.71875 13.875 49.015625 6.21875 \r\nQ 42.328125 -1.421875 30.609375 -1.421875 \r\nQ 18.84375 -1.421875 12.171875 6.21875 \r\nQ 5.515625 13.875 5.515625 27.296875 \r\nQ 5.515625 40.765625 12.171875 48.375 \r\nQ 18.84375 56 30.609375 56 \r\nz\r\n\" id=\"DejaVuSans-111\"/>\r\n       <path d=\"M 54.890625 33.015625 \r\nL 54.890625 0 \r\nL 45.90625 0 \r\nL 45.90625 32.71875 \r\nQ 45.90625 40.484375 42.875 44.328125 \r\nQ 39.84375 48.1875 33.796875 48.1875 \r\nQ 26.515625 48.1875 22.3125 43.546875 \r\nQ 18.109375 38.921875 18.109375 30.90625 \r\nL 18.109375 0 \r\nL 9.078125 0 \r\nL 9.078125 54.6875 \r\nL 18.109375 54.6875 \r\nL 18.109375 46.1875 \r\nQ 21.34375 51.125 25.703125 53.5625 \r\nQ 30.078125 56 35.796875 56 \r\nQ 45.21875 56 50.046875 50.171875 \r\nQ 54.890625 44.34375 54.890625 33.015625 \r\nz\r\n\" id=\"DejaVuSans-110\"/>\r\n      </defs>\r\n      <use xlink:href=\"#DejaVuSans-100\"/>\r\n      <use x=\"63.476562\" xlink:href=\"#DejaVuSans-101\"/>\r\n      <use x=\"125\" xlink:href=\"#DejaVuSans-116\"/>\r\n      <use x=\"164.208984\" xlink:href=\"#DejaVuSans-101\"/>\r\n      <use x=\"225.732422\" xlink:href=\"#DejaVuSans-99\"/>\r\n      <use x=\"280.712891\" xlink:href=\"#DejaVuSans-116\"/>\r\n      <use x=\"319.921875\" xlink:href=\"#DejaVuSans-105\"/>\r\n      <use x=\"347.705078\" xlink:href=\"#DejaVuSans-111\"/>\r\n      <use x=\"408.886719\" xlink:href=\"#DejaVuSans-110\"/>\r\n     </g>\r\n    </g>\r\n    <g id=\"line2d_21\">\r\n     <path d=\"M 39.103125 130.2975 \r\nL 59.103125 130.2975 \r\n\" style=\"fill:none;stroke:#ff7f0e;stroke-linecap:square;stroke-width:1.5;\"/>\r\n    </g>\r\n    <g id=\"line2d_22\"/>\r\n    <g id=\"text_18\">\r\n     <!-- failure -->\r\n     <g transform=\"translate(67.103125 133.7975)scale(0.1 -0.1)\">\r\n      <defs>\r\n       <path d=\"M 37.109375 75.984375 \r\nL 37.109375 68.5 \r\nL 28.515625 68.5 \r\nQ 23.6875 68.5 21.796875 66.546875 \r\nQ 19.921875 64.59375 19.921875 59.515625 \r\nL 19.921875 54.6875 \r\nL 34.71875 54.6875 \r\nL 34.71875 47.703125 \r\nL 19.921875 47.703125 \r\nL 19.921875 0 \r\nL 10.890625 0 \r\nL 10.890625 47.703125 \r\nL 2.296875 47.703125 \r\nL 2.296875 54.6875 \r\nL 10.890625 54.6875 \r\nL 10.890625 58.5 \r\nQ 10.890625 67.625 15.140625 71.796875 \r\nQ 19.390625 75.984375 28.609375 75.984375 \r\nz\r\n\" id=\"DejaVuSans-102\"/>\r\n       <path d=\"M 9.421875 75.984375 \r\nL 18.40625 75.984375 \r\nL 18.40625 0 \r\nL 9.421875 0 \r\nz\r\n\" id=\"DejaVuSans-108\"/>\r\n       <path d=\"M 8.5 21.578125 \r\nL 8.5 54.6875 \r\nL 17.484375 54.6875 \r\nL 17.484375 21.921875 \r\nQ 17.484375 14.15625 20.5 10.265625 \r\nQ 23.53125 6.390625 29.59375 6.390625 \r\nQ 36.859375 6.390625 41.078125 11.03125 \r\nQ 45.3125 15.671875 45.3125 23.6875 \r\nL 45.3125 54.6875 \r\nL 54.296875 54.6875 \r\nL 54.296875 0 \r\nL 45.3125 0 \r\nL 45.3125 8.40625 \r\nQ 42.046875 3.421875 37.71875 1 \r\nQ 33.40625 -1.421875 27.6875 -1.421875 \r\nQ 18.265625 -1.421875 13.375 4.4375 \r\nQ 8.5 10.296875 8.5 21.578125 \r\nz\r\nM 31.109375 56 \r\nz\r\n\" id=\"DejaVuSans-117\"/>\r\n       <path d=\"M 41.109375 46.296875 \r\nQ 39.59375 47.171875 37.8125 47.578125 \r\nQ 36.03125 48 33.890625 48 \r\nQ 26.265625 48 22.1875 43.046875 \r\nQ 18.109375 38.09375 18.109375 28.8125 \r\nL 18.109375 0 \r\nL 9.078125 0 \r\nL 9.078125 54.6875 \r\nL 18.109375 54.6875 \r\nL 18.109375 46.1875 \r\nQ 20.953125 51.171875 25.484375 53.578125 \r\nQ 30.03125 56 36.53125 56 \r\nQ 37.453125 56 38.578125 55.875 \r\nQ 39.703125 55.765625 41.0625 55.515625 \r\nz\r\n\" id=\"DejaVuSans-114\"/>\r\n      </defs>\r\n      <use xlink:href=\"#DejaVuSans-102\"/>\r\n      <use x=\"35.205078\" xlink:href=\"#DejaVuSans-97\"/>\r\n      <use x=\"96.484375\" xlink:href=\"#DejaVuSans-105\"/>\r\n      <use x=\"124.267578\" xlink:href=\"#DejaVuSans-108\"/>\r\n      <use x=\"152.050781\" xlink:href=\"#DejaVuSans-117\"/>\r\n      <use x=\"215.429688\" xlink:href=\"#DejaVuSans-114\"/>\r\n      <use x=\"254.292969\" xlink:href=\"#DejaVuSans-101\"/>\r\n     </g>\r\n    </g>\r\n    <g id=\"line2d_23\">\r\n     <path d=\"M 39.103125 144.975625 \r\nL 59.103125 144.975625 \r\n\" style=\"fill:none;stroke:#2ca02c;stroke-linecap:square;stroke-width:1.5;\"/>\r\n    </g>\r\n    <g id=\"line2d_24\"/>\r\n    <g id=\"text_19\">\r\n     <!-- initiation -->\r\n     <g transform=\"translate(67.103125 148.475625)scale(0.1 -0.1)\">\r\n      <use xlink:href=\"#DejaVuSans-105\"/>\r\n      <use x=\"27.783203\" xlink:href=\"#DejaVuSans-110\"/>\r\n      <use x=\"91.162109\" xlink:href=\"#DejaVuSans-105\"/>\r\n      <use x=\"118.945312\" xlink:href=\"#DejaVuSans-116\"/>\r\n      <use x=\"158.154297\" xlink:href=\"#DejaVuSans-105\"/>\r\n      <use x=\"185.9375\" xlink:href=\"#DejaVuSans-97\"/>\r\n      <use x=\"247.216797\" xlink:href=\"#DejaVuSans-116\"/>\r\n      <use x=\"286.425781\" xlink:href=\"#DejaVuSans-105\"/>\r\n      <use x=\"314.208984\" xlink:href=\"#DejaVuSans-111\"/>\r\n      <use x=\"375.390625\" xlink:href=\"#DejaVuSans-110\"/>\r\n     </g>\r\n    </g>\r\n   </g>\r\n  </g>\r\n  <g id=\"axes_2\">\r\n   <g id=\"patch_8\">\r\n    <path d=\"M 502.761949 239.758125 \r\nL 896.644301 239.758125 \r\nL 896.644301 22.318125 \r\nL 502.761949 22.318125 \r\nz\r\n\" style=\"fill:#ffffff;\"/>\r\n   </g>\r\n   <g id=\"matplotlib.axis_3\">\r\n    <g id=\"xtick_10\">\r\n     <g id=\"line2d_25\">\r\n      <g>\r\n       <use style=\"stroke:#000000;stroke-width:0.8;\" x=\"520.665692\" xlink:href=\"#mc0e37d2b4e\" y=\"239.758125\"/>\r\n      </g>\r\n     </g>\r\n     <g id=\"text_20\">\r\n      <!-- 0 -->\r\n      <g transform=\"translate(517.484442 254.356563)scale(0.1 -0.1)\">\r\n       <use xlink:href=\"#DejaVuSans-48\"/>\r\n      </g>\r\n     </g>\r\n    </g>\r\n    <g id=\"xtick_11\">\r\n     <g id=\"line2d_26\">\r\n      <g>\r\n       <use style=\"stroke:#000000;stroke-width:0.8;\" x=\"565.42505\" xlink:href=\"#mc0e37d2b4e\" y=\"239.758125\"/>\r\n      </g>\r\n     </g>\r\n     <g id=\"text_21\">\r\n      <!-- 25 -->\r\n      <g transform=\"translate(559.06255 254.356563)scale(0.1 -0.1)\">\r\n       <use xlink:href=\"#DejaVuSans-50\"/>\r\n       <use x=\"63.623047\" xlink:href=\"#DejaVuSans-53\"/>\r\n      </g>\r\n     </g>\r\n    </g>\r\n    <g id=\"xtick_12\">\r\n     <g id=\"line2d_27\">\r\n      <g>\r\n       <use style=\"stroke:#000000;stroke-width:0.8;\" x=\"610.184408\" xlink:href=\"#mc0e37d2b4e\" y=\"239.758125\"/>\r\n      </g>\r\n     </g>\r\n     <g id=\"text_22\">\r\n      <!-- 50 -->\r\n      <g transform=\"translate(603.821908 254.356563)scale(0.1 -0.1)\">\r\n       <use xlink:href=\"#DejaVuSans-53\"/>\r\n       <use x=\"63.623047\" xlink:href=\"#DejaVuSans-48\"/>\r\n      </g>\r\n     </g>\r\n    </g>\r\n    <g id=\"xtick_13\">\r\n     <g id=\"line2d_28\">\r\n      <g>\r\n       <use style=\"stroke:#000000;stroke-width:0.8;\" x=\"654.943767\" xlink:href=\"#mc0e37d2b4e\" y=\"239.758125\"/>\r\n      </g>\r\n     </g>\r\n     <g id=\"text_23\">\r\n      <!-- 75 -->\r\n      <g transform=\"translate(648.581267 254.356563)scale(0.1 -0.1)\">\r\n       <use xlink:href=\"#DejaVuSans-55\"/>\r\n       <use x=\"63.623047\" xlink:href=\"#DejaVuSans-53\"/>\r\n      </g>\r\n     </g>\r\n    </g>\r\n    <g id=\"xtick_14\">\r\n     <g id=\"line2d_29\">\r\n      <g>\r\n       <use style=\"stroke:#000000;stroke-width:0.8;\" x=\"699.703125\" xlink:href=\"#mc0e37d2b4e\" y=\"239.758125\"/>\r\n      </g>\r\n     </g>\r\n     <g id=\"text_24\">\r\n      <!-- 100 -->\r\n      <g transform=\"translate(690.159375 254.356563)scale(0.1 -0.1)\">\r\n       <use xlink:href=\"#DejaVuSans-49\"/>\r\n       <use x=\"63.623047\" xlink:href=\"#DejaVuSans-48\"/>\r\n       <use x=\"127.246094\" xlink:href=\"#DejaVuSans-48\"/>\r\n      </g>\r\n     </g>\r\n    </g>\r\n    <g id=\"xtick_15\">\r\n     <g id=\"line2d_30\">\r\n      <g>\r\n       <use style=\"stroke:#000000;stroke-width:0.8;\" x=\"744.462483\" xlink:href=\"#mc0e37d2b4e\" y=\"239.758125\"/>\r\n      </g>\r\n     </g>\r\n     <g id=\"text_25\">\r\n      <!-- 125 -->\r\n      <g transform=\"translate(734.918733 254.356563)scale(0.1 -0.1)\">\r\n       <use xlink:href=\"#DejaVuSans-49\"/>\r\n       <use x=\"63.623047\" xlink:href=\"#DejaVuSans-50\"/>\r\n       <use x=\"127.246094\" xlink:href=\"#DejaVuSans-53\"/>\r\n      </g>\r\n     </g>\r\n    </g>\r\n    <g id=\"xtick_16\">\r\n     <g id=\"line2d_31\">\r\n      <g>\r\n       <use style=\"stroke:#000000;stroke-width:0.8;\" x=\"789.221842\" xlink:href=\"#mc0e37d2b4e\" y=\"239.758125\"/>\r\n      </g>\r\n     </g>\r\n     <g id=\"text_26\">\r\n      <!-- 150 -->\r\n      <g transform=\"translate(779.678092 254.356563)scale(0.1 -0.1)\">\r\n       <use xlink:href=\"#DejaVuSans-49\"/>\r\n       <use x=\"63.623047\" xlink:href=\"#DejaVuSans-53\"/>\r\n       <use x=\"127.246094\" xlink:href=\"#DejaVuSans-48\"/>\r\n      </g>\r\n     </g>\r\n    </g>\r\n    <g id=\"xtick_17\">\r\n     <g id=\"line2d_32\">\r\n      <g>\r\n       <use style=\"stroke:#000000;stroke-width:0.8;\" x=\"833.9812\" xlink:href=\"#mc0e37d2b4e\" y=\"239.758125\"/>\r\n      </g>\r\n     </g>\r\n     <g id=\"text_27\">\r\n      <!-- 175 -->\r\n      <g transform=\"translate(824.43745 254.356563)scale(0.1 -0.1)\">\r\n       <use xlink:href=\"#DejaVuSans-49\"/>\r\n       <use x=\"63.623047\" xlink:href=\"#DejaVuSans-55\"/>\r\n       <use x=\"127.246094\" xlink:href=\"#DejaVuSans-53\"/>\r\n      </g>\r\n     </g>\r\n    </g>\r\n    <g id=\"xtick_18\">\r\n     <g id=\"line2d_33\">\r\n      <g>\r\n       <use style=\"stroke:#000000;stroke-width:0.8;\" x=\"878.740558\" xlink:href=\"#mc0e37d2b4e\" y=\"239.758125\"/>\r\n      </g>\r\n     </g>\r\n     <g id=\"text_28\">\r\n      <!-- 200 -->\r\n      <g transform=\"translate(869.196808 254.356563)scale(0.1 -0.1)\">\r\n       <use xlink:href=\"#DejaVuSans-50\"/>\r\n       <use x=\"63.623047\" xlink:href=\"#DejaVuSans-48\"/>\r\n       <use x=\"127.246094\" xlink:href=\"#DejaVuSans-48\"/>\r\n      </g>\r\n     </g>\r\n    </g>\r\n   </g>\r\n   <g id=\"matplotlib.axis_4\">\r\n    <g id=\"ytick_7\">\r\n     <g id=\"line2d_34\">\r\n      <g>\r\n       <use style=\"stroke:#000000;stroke-width:0.8;\" x=\"502.761949\" xlink:href=\"#mf0742a3669\" y=\"229.874489\"/>\r\n      </g>\r\n     </g>\r\n     <g id=\"text_29\">\r\n      <!-- 0 -->\r\n      <g transform=\"translate(489.399449 233.673707)scale(0.1 -0.1)\">\r\n       <use xlink:href=\"#DejaVuSans-48\"/>\r\n      </g>\r\n     </g>\r\n    </g>\r\n    <g id=\"ytick_8\">\r\n     <g id=\"line2d_35\">\r\n      <g>\r\n       <use style=\"stroke:#000000;stroke-width:0.8;\" x=\"502.761949\" xlink:href=\"#mf0742a3669\" y=\"190.339943\"/>\r\n      </g>\r\n     </g>\r\n     <g id=\"text_30\">\r\n      <!-- 50 -->\r\n      <g transform=\"translate(483.036949 194.139162)scale(0.1 -0.1)\">\r\n       <use xlink:href=\"#DejaVuSans-53\"/>\r\n       <use x=\"63.623047\" xlink:href=\"#DejaVuSans-48\"/>\r\n      </g>\r\n     </g>\r\n    </g>\r\n    <g id=\"ytick_9\">\r\n     <g id=\"line2d_36\">\r\n      <g>\r\n       <use style=\"stroke:#000000;stroke-width:0.8;\" x=\"502.761949\" xlink:href=\"#mf0742a3669\" y=\"150.805398\"/>\r\n      </g>\r\n     </g>\r\n     <g id=\"text_31\">\r\n      <!-- 100 -->\r\n      <g transform=\"translate(476.674449 154.604616)scale(0.1 -0.1)\">\r\n       <use xlink:href=\"#DejaVuSans-49\"/>\r\n       <use x=\"63.623047\" xlink:href=\"#DejaVuSans-48\"/>\r\n       <use x=\"127.246094\" xlink:href=\"#DejaVuSans-48\"/>\r\n      </g>\r\n     </g>\r\n    </g>\r\n    <g id=\"ytick_10\">\r\n     <g id=\"line2d_37\">\r\n      <g>\r\n       <use style=\"stroke:#000000;stroke-width:0.8;\" x=\"502.761949\" xlink:href=\"#mf0742a3669\" y=\"111.270852\"/>\r\n      </g>\r\n     </g>\r\n     <g id=\"text_32\">\r\n      <!-- 150 -->\r\n      <g transform=\"translate(476.674449 115.070071)scale(0.1 -0.1)\">\r\n       <use xlink:href=\"#DejaVuSans-49\"/>\r\n       <use x=\"63.623047\" xlink:href=\"#DejaVuSans-53\"/>\r\n       <use x=\"127.246094\" xlink:href=\"#DejaVuSans-48\"/>\r\n      </g>\r\n     </g>\r\n    </g>\r\n    <g id=\"ytick_11\">\r\n     <g id=\"line2d_38\">\r\n      <g>\r\n       <use style=\"stroke:#000000;stroke-width:0.8;\" x=\"502.761949\" xlink:href=\"#mf0742a3669\" y=\"71.736307\"/>\r\n      </g>\r\n     </g>\r\n     <g id=\"text_33\">\r\n      <!-- 200 -->\r\n      <g transform=\"translate(476.674449 75.535526)scale(0.1 -0.1)\">\r\n       <use xlink:href=\"#DejaVuSans-50\"/>\r\n       <use x=\"63.623047\" xlink:href=\"#DejaVuSans-48\"/>\r\n       <use x=\"127.246094\" xlink:href=\"#DejaVuSans-48\"/>\r\n      </g>\r\n     </g>\r\n    </g>\r\n    <g id=\"ytick_12\">\r\n     <g id=\"line2d_39\">\r\n      <g>\r\n       <use style=\"stroke:#000000;stroke-width:0.8;\" x=\"502.761949\" xlink:href=\"#mf0742a3669\" y=\"32.201761\"/>\r\n      </g>\r\n     </g>\r\n     <g id=\"text_34\">\r\n      <!-- 250 -->\r\n      <g transform=\"translate(476.674449 36.00098)scale(0.1 -0.1)\">\r\n       <use xlink:href=\"#DejaVuSans-50\"/>\r\n       <use x=\"63.623047\" xlink:href=\"#DejaVuSans-53\"/>\r\n       <use x=\"127.246094\" xlink:href=\"#DejaVuSans-48\"/>\r\n      </g>\r\n     </g>\r\n    </g>\r\n   </g>\r\n   <g id=\"line2d_40\">\r\n    <path clip-path=\"url(#p7987ac61d8)\" d=\"M 520.665692 32.201761 \r\nL 583.328793 32.201761 \r\nL 672.84751 229.874489 \r\nL 674.637884 32.201761 \r\nL 722.977991 32.201761 \r\nL 812.496708 229.874489 \r\nL 814.287082 32.201761 \r\nL 828.610077 32.201761 \r\nL 878.740558 142.898489 \r\nL 878.740558 142.898489 \r\n\" style=\"fill:none;stroke:#1f77b4;stroke-linecap:square;stroke-width:1.5;\"/>\r\n   </g>\r\n   <g id=\"line2d_41\">\r\n    <path clip-path=\"url(#p7987ac61d8)\" d=\"M 520.665692 131.038125 \r\nL 583.328793 131.038125 \r\nL 672.84751 229.874489 \r\nL 674.637884 131.038125 \r\nL 722.977991 131.038125 \r\nL 812.496708 229.874489 \r\nL 814.287082 131.038125 \r\nL 828.610077 131.038125 \r\nL 878.740558 186.386489 \r\nL 878.740558 186.386489 \r\n\" style=\"fill:none;stroke:#ff7f0e;stroke-linecap:square;stroke-width:1.5;\"/>\r\n   </g>\r\n   <g id=\"patch_9\">\r\n    <path d=\"M 502.761949 239.758125 \r\nL 502.761949 22.318125 \r\n\" style=\"fill:none;stroke:#000000;stroke-linecap:square;stroke-linejoin:miter;stroke-width:0.8;\"/>\r\n   </g>\r\n   <g id=\"patch_10\">\r\n    <path d=\"M 896.644301 239.758125 \r\nL 896.644301 22.318125 \r\n\" style=\"fill:none;stroke:#000000;stroke-linecap:square;stroke-linejoin:miter;stroke-width:0.8;\"/>\r\n   </g>\r\n   <g id=\"patch_11\">\r\n    <path d=\"M 502.761949 239.758125 \r\nL 896.644301 239.758125 \r\n\" style=\"fill:none;stroke:#000000;stroke-linecap:square;stroke-linejoin:miter;stroke-width:0.8;\"/>\r\n   </g>\r\n   <g id=\"patch_12\">\r\n    <path d=\"M 502.761949 22.318125 \r\nL 896.644301 22.318125 \r\n\" style=\"fill:none;stroke:#000000;stroke-linecap:square;stroke-linejoin:miter;stroke-width:0.8;\"/>\r\n   </g>\r\n   <g id=\"text_35\">\r\n    <!-- Condition -->\r\n    <g transform=\"translate(671.070938 16.318125)scale(0.12 -0.12)\">\r\n     <defs>\r\n      <path d=\"M 64.40625 67.28125 \r\nL 64.40625 56.890625 \r\nQ 59.421875 61.53125 53.78125 63.8125 \r\nQ 48.140625 66.109375 41.796875 66.109375 \r\nQ 29.296875 66.109375 22.65625 58.46875 \r\nQ 16.015625 50.828125 16.015625 36.375 \r\nQ 16.015625 21.96875 22.65625 14.328125 \r\nQ 29.296875 6.6875 41.796875 6.6875 \r\nQ 48.140625 6.6875 53.78125 8.984375 \r\nQ 59.421875 11.28125 64.40625 15.921875 \r\nL 64.40625 5.609375 \r\nQ 59.234375 2.09375 53.4375 0.328125 \r\nQ 47.65625 -1.421875 41.21875 -1.421875 \r\nQ 24.65625 -1.421875 15.125 8.703125 \r\nQ 5.609375 18.84375 5.609375 36.375 \r\nQ 5.609375 53.953125 15.125 64.078125 \r\nQ 24.65625 74.21875 41.21875 74.21875 \r\nQ 47.75 74.21875 53.53125 72.484375 \r\nQ 59.328125 70.75 64.40625 67.28125 \r\nz\r\n\" id=\"DejaVuSans-67\"/>\r\n     </defs>\r\n     <use xlink:href=\"#DejaVuSans-67\"/>\r\n     <use x=\"69.824219\" xlink:href=\"#DejaVuSans-111\"/>\r\n     <use x=\"131.005859\" xlink:href=\"#DejaVuSans-110\"/>\r\n     <use x=\"194.384766\" xlink:href=\"#DejaVuSans-100\"/>\r\n     <use x=\"257.861328\" xlink:href=\"#DejaVuSans-105\"/>\r\n     <use x=\"285.644531\" xlink:href=\"#DejaVuSans-116\"/>\r\n     <use x=\"324.853516\" xlink:href=\"#DejaVuSans-105\"/>\r\n     <use x=\"352.636719\" xlink:href=\"#DejaVuSans-111\"/>\r\n     <use x=\"413.818359\" xlink:href=\"#DejaVuSans-110\"/>\r\n    </g>\r\n   </g>\r\n   <g id=\"legend_2\">\r\n    <g id=\"patch_13\">\r\n     <path d=\"M 509.761949 234.758125 \r\nL 633.244761 234.758125 \r\nQ 635.244761 234.758125 635.244761 232.758125 \r\nL 635.244761 203.845625 \r\nQ 635.244761 201.845625 633.244761 201.845625 \r\nL 509.761949 201.845625 \r\nQ 507.761949 201.845625 507.761949 203.845625 \r\nL 507.761949 232.758125 \r\nQ 507.761949 234.758125 509.761949 234.758125 \r\nz\r\n\" style=\"fill:#ffffff;opacity:0.8;stroke:#cccccc;stroke-linejoin:miter;\"/>\r\n    </g>\r\n    <g id=\"line2d_42\">\r\n     <path d=\"M 511.761949 209.944063 \r\nL 531.761949 209.944063 \r\n\" style=\"fill:none;stroke:#1f77b4;stroke-linecap:square;stroke-width:1.5;\"/>\r\n    </g>\r\n    <g id=\"line2d_43\"/>\r\n    <g id=\"text_36\">\r\n     <!-- external_diameter -->\r\n     <g transform=\"translate(539.761949 213.444063)scale(0.1 -0.1)\">\r\n      <defs>\r\n       <path d=\"M 54.890625 54.6875 \r\nL 35.109375 28.078125 \r\nL 55.90625 0 \r\nL 45.3125 0 \r\nL 29.390625 21.484375 \r\nL 13.484375 0 \r\nL 2.875 0 \r\nL 24.125 28.609375 \r\nL 4.6875 54.6875 \r\nL 15.28125 54.6875 \r\nL 29.78125 35.203125 \r\nL 44.28125 54.6875 \r\nz\r\n\" id=\"DejaVuSans-120\"/>\r\n       <path d=\"M 50.984375 -16.609375 \r\nL 50.984375 -23.578125 \r\nL -0.984375 -23.578125 \r\nL -0.984375 -16.609375 \r\nz\r\n\" id=\"DejaVuSans-95\"/>\r\n       <path d=\"M 52 44.1875 \r\nQ 55.375 50.25 60.0625 53.125 \r\nQ 64.75 56 71.09375 56 \r\nQ 79.640625 56 84.28125 50.015625 \r\nQ 88.921875 44.046875 88.921875 33.015625 \r\nL 88.921875 0 \r\nL 79.890625 0 \r\nL 79.890625 32.71875 \r\nQ 79.890625 40.578125 77.09375 44.375 \r\nQ 74.3125 48.1875 68.609375 48.1875 \r\nQ 61.625 48.1875 57.5625 43.546875 \r\nQ 53.515625 38.921875 53.515625 30.90625 \r\nL 53.515625 0 \r\nL 44.484375 0 \r\nL 44.484375 32.71875 \r\nQ 44.484375 40.625 41.703125 44.40625 \r\nQ 38.921875 48.1875 33.109375 48.1875 \r\nQ 26.21875 48.1875 22.15625 43.53125 \r\nQ 18.109375 38.875 18.109375 30.90625 \r\nL 18.109375 0 \r\nL 9.078125 0 \r\nL 9.078125 54.6875 \r\nL 18.109375 54.6875 \r\nL 18.109375 46.1875 \r\nQ 21.1875 51.21875 25.484375 53.609375 \r\nQ 29.78125 56 35.6875 56 \r\nQ 41.65625 56 45.828125 52.96875 \r\nQ 50 49.953125 52 44.1875 \r\nz\r\n\" id=\"DejaVuSans-109\"/>\r\n      </defs>\r\n      <use xlink:href=\"#DejaVuSans-101\"/>\r\n      <use x=\"59.773438\" xlink:href=\"#DejaVuSans-120\"/>\r\n      <use x=\"118.953125\" xlink:href=\"#DejaVuSans-116\"/>\r\n      <use x=\"158.162109\" xlink:href=\"#DejaVuSans-101\"/>\r\n      <use x=\"219.685547\" xlink:href=\"#DejaVuSans-114\"/>\r\n      <use x=\"259.048828\" xlink:href=\"#DejaVuSans-110\"/>\r\n      <use x=\"322.427734\" xlink:href=\"#DejaVuSans-97\"/>\r\n      <use x=\"383.707031\" xlink:href=\"#DejaVuSans-108\"/>\r\n      <use x=\"411.490234\" xlink:href=\"#DejaVuSans-95\"/>\r\n      <use x=\"461.490234\" xlink:href=\"#DejaVuSans-100\"/>\r\n      <use x=\"524.966797\" xlink:href=\"#DejaVuSans-105\"/>\r\n      <use x=\"552.75\" xlink:href=\"#DejaVuSans-97\"/>\r\n      <use x=\"614.029297\" xlink:href=\"#DejaVuSans-109\"/>\r\n      <use x=\"711.441406\" xlink:href=\"#DejaVuSans-101\"/>\r\n      <use x=\"772.964844\" xlink:href=\"#DejaVuSans-116\"/>\r\n      <use x=\"812.173828\" xlink:href=\"#DejaVuSans-101\"/>\r\n      <use x=\"873.697266\" xlink:href=\"#DejaVuSans-114\"/>\r\n     </g>\r\n    </g>\r\n    <g id=\"line2d_44\">\r\n     <path d=\"M 511.761949 224.900313 \r\nL 531.761949 224.900313 \r\n\" style=\"fill:none;stroke:#ff7f0e;stroke-linecap:square;stroke-width:1.5;\"/>\r\n    </g>\r\n    <g id=\"line2d_45\"/>\r\n    <g id=\"text_37\">\r\n     <!-- wall_thickness -->\r\n     <g transform=\"translate(539.761949 228.400313)scale(0.1 -0.1)\">\r\n      <defs>\r\n       <path d=\"M 4.203125 54.6875 \r\nL 13.1875 54.6875 \r\nL 24.421875 12.015625 \r\nL 35.59375 54.6875 \r\nL 46.1875 54.6875 \r\nL 57.421875 12.015625 \r\nL 68.609375 54.6875 \r\nL 77.59375 54.6875 \r\nL 63.28125 0 \r\nL 52.6875 0 \r\nL 40.921875 44.828125 \r\nL 29.109375 0 \r\nL 18.5 0 \r\nz\r\n\" id=\"DejaVuSans-119\"/>\r\n       <path d=\"M 54.890625 33.015625 \r\nL 54.890625 0 \r\nL 45.90625 0 \r\nL 45.90625 32.71875 \r\nQ 45.90625 40.484375 42.875 44.328125 \r\nQ 39.84375 48.1875 33.796875 48.1875 \r\nQ 26.515625 48.1875 22.3125 43.546875 \r\nQ 18.109375 38.921875 18.109375 30.90625 \r\nL 18.109375 0 \r\nL 9.078125 0 \r\nL 9.078125 75.984375 \r\nL 18.109375 75.984375 \r\nL 18.109375 46.1875 \r\nQ 21.34375 51.125 25.703125 53.5625 \r\nQ 30.078125 56 35.796875 56 \r\nQ 45.21875 56 50.046875 50.171875 \r\nQ 54.890625 44.34375 54.890625 33.015625 \r\nz\r\n\" id=\"DejaVuSans-104\"/>\r\n       <path d=\"M 9.078125 75.984375 \r\nL 18.109375 75.984375 \r\nL 18.109375 31.109375 \r\nL 44.921875 54.6875 \r\nL 56.390625 54.6875 \r\nL 27.390625 29.109375 \r\nL 57.625 0 \r\nL 45.90625 0 \r\nL 18.109375 26.703125 \r\nL 18.109375 0 \r\nL 9.078125 0 \r\nz\r\n\" id=\"DejaVuSans-107\"/>\r\n       <path d=\"M 44.28125 53.078125 \r\nL 44.28125 44.578125 \r\nQ 40.484375 46.53125 36.375 47.5 \r\nQ 32.28125 48.484375 27.875 48.484375 \r\nQ 21.1875 48.484375 17.84375 46.4375 \r\nQ 14.5 44.390625 14.5 40.28125 \r\nQ 14.5 37.15625 16.890625 35.375 \r\nQ 19.28125 33.59375 26.515625 31.984375 \r\nL 29.59375 31.296875 \r\nQ 39.15625 29.25 43.1875 25.515625 \r\nQ 47.21875 21.78125 47.21875 15.09375 \r\nQ 47.21875 7.46875 41.1875 3.015625 \r\nQ 35.15625 -1.421875 24.609375 -1.421875 \r\nQ 20.21875 -1.421875 15.453125 -0.5625 \r\nQ 10.6875 0.296875 5.421875 2 \r\nL 5.421875 11.28125 \r\nQ 10.40625 8.6875 15.234375 7.390625 \r\nQ 20.0625 6.109375 24.8125 6.109375 \r\nQ 31.15625 6.109375 34.5625 8.28125 \r\nQ 37.984375 10.453125 37.984375 14.40625 \r\nQ 37.984375 18.0625 35.515625 20.015625 \r\nQ 33.0625 21.96875 24.703125 23.78125 \r\nL 21.578125 24.515625 \r\nQ 13.234375 26.265625 9.515625 29.90625 \r\nQ 5.8125 33.546875 5.8125 39.890625 \r\nQ 5.8125 47.609375 11.28125 51.796875 \r\nQ 16.75 56 26.8125 56 \r\nQ 31.78125 56 36.171875 55.265625 \r\nQ 40.578125 54.546875 44.28125 53.078125 \r\nz\r\n\" id=\"DejaVuSans-115\"/>\r\n      </defs>\r\n      <use xlink:href=\"#DejaVuSans-119\"/>\r\n      <use x=\"81.787109\" xlink:href=\"#DejaVuSans-97\"/>\r\n      <use x=\"143.066406\" xlink:href=\"#DejaVuSans-108\"/>\r\n      <use x=\"170.849609\" xlink:href=\"#DejaVuSans-108\"/>\r\n      <use x=\"198.632812\" xlink:href=\"#DejaVuSans-95\"/>\r\n      <use x=\"248.632812\" xlink:href=\"#DejaVuSans-116\"/>\r\n      <use x=\"287.841797\" xlink:href=\"#DejaVuSans-104\"/>\r\n      <use x=\"351.220703\" xlink:href=\"#DejaVuSans-105\"/>\r\n      <use x=\"379.003906\" xlink:href=\"#DejaVuSans-99\"/>\r\n      <use x=\"433.984375\" xlink:href=\"#DejaVuSans-107\"/>\r\n      <use x=\"491.894531\" xlink:href=\"#DejaVuSans-110\"/>\r\n      <use x=\"555.273438\" xlink:href=\"#DejaVuSans-101\"/>\r\n      <use x=\"616.796875\" xlink:href=\"#DejaVuSans-115\"/>\r\n      <use x=\"668.896484\" xlink:href=\"#DejaVuSans-115\"/>\r\n     </g>\r\n    </g>\r\n   </g>\r\n  </g>\r\n  <g id=\"axes_3\">\r\n   <g id=\"patch_14\">\r\n    <path d=\"M 975.420772 239.758125 \r\nL 1369.303125 239.758125 \r\nL 1369.303125 22.318125 \r\nL 975.420772 22.318125 \r\nz\r\n\" style=\"fill:#ffffff;\"/>\r\n   </g>\r\n   <g id=\"matplotlib.axis_5\">\r\n    <g id=\"xtick_19\">\r\n     <g id=\"line2d_46\">\r\n      <g>\r\n       <use style=\"stroke:#000000;stroke-width:0.8;\" x=\"993.324515\" xlink:href=\"#mc0e37d2b4e\" y=\"239.758125\"/>\r\n      </g>\r\n     </g>\r\n     <g id=\"text_38\">\r\n      <!-- 0 -->\r\n      <g transform=\"translate(990.143265 254.356563)scale(0.1 -0.1)\">\r\n       <use xlink:href=\"#DejaVuSans-48\"/>\r\n      </g>\r\n     </g>\r\n    </g>\r\n    <g id=\"xtick_20\">\r\n     <g id=\"line2d_47\">\r\n      <g>\r\n       <use style=\"stroke:#000000;stroke-width:0.8;\" x=\"1038.083874\" xlink:href=\"#mc0e37d2b4e\" y=\"239.758125\"/>\r\n      </g>\r\n     </g>\r\n     <g id=\"text_39\">\r\n      <!-- 25 -->\r\n      <g transform=\"translate(1031.721374 254.356563)scale(0.1 -0.1)\">\r\n       <use xlink:href=\"#DejaVuSans-50\"/>\r\n       <use x=\"63.623047\" xlink:href=\"#DejaVuSans-53\"/>\r\n      </g>\r\n     </g>\r\n    </g>\r\n    <g id=\"xtick_21\">\r\n     <g id=\"line2d_48\">\r\n      <g>\r\n       <use style=\"stroke:#000000;stroke-width:0.8;\" x=\"1082.843232\" xlink:href=\"#mc0e37d2b4e\" y=\"239.758125\"/>\r\n      </g>\r\n     </g>\r\n     <g id=\"text_40\">\r\n      <!-- 50 -->\r\n      <g transform=\"translate(1076.480732 254.356563)scale(0.1 -0.1)\">\r\n       <use xlink:href=\"#DejaVuSans-53\"/>\r\n       <use x=\"63.623047\" xlink:href=\"#DejaVuSans-48\"/>\r\n      </g>\r\n     </g>\r\n    </g>\r\n    <g id=\"xtick_22\">\r\n     <g id=\"line2d_49\">\r\n      <g>\r\n       <use style=\"stroke:#000000;stroke-width:0.8;\" x=\"1127.60259\" xlink:href=\"#mc0e37d2b4e\" y=\"239.758125\"/>\r\n      </g>\r\n     </g>\r\n     <g id=\"text_41\">\r\n      <!-- 75 -->\r\n      <g transform=\"translate(1121.24009 254.356563)scale(0.1 -0.1)\">\r\n       <use xlink:href=\"#DejaVuSans-55\"/>\r\n       <use x=\"63.623047\" xlink:href=\"#DejaVuSans-53\"/>\r\n      </g>\r\n     </g>\r\n    </g>\r\n    <g id=\"xtick_23\">\r\n     <g id=\"line2d_50\">\r\n      <g>\r\n       <use style=\"stroke:#000000;stroke-width:0.8;\" x=\"1172.361949\" xlink:href=\"#mc0e37d2b4e\" y=\"239.758125\"/>\r\n      </g>\r\n     </g>\r\n     <g id=\"text_42\">\r\n      <!-- 100 -->\r\n      <g transform=\"translate(1162.818199 254.356563)scale(0.1 -0.1)\">\r\n       <use xlink:href=\"#DejaVuSans-49\"/>\r\n       <use x=\"63.623047\" xlink:href=\"#DejaVuSans-48\"/>\r\n       <use x=\"127.246094\" xlink:href=\"#DejaVuSans-48\"/>\r\n      </g>\r\n     </g>\r\n    </g>\r\n    <g id=\"xtick_24\">\r\n     <g id=\"line2d_51\">\r\n      <g>\r\n       <use style=\"stroke:#000000;stroke-width:0.8;\" x=\"1217.121307\" xlink:href=\"#mc0e37d2b4e\" y=\"239.758125\"/>\r\n      </g>\r\n     </g>\r\n     <g id=\"text_43\">\r\n      <!-- 125 -->\r\n      <g transform=\"translate(1207.577557 254.356563)scale(0.1 -0.1)\">\r\n       <use xlink:href=\"#DejaVuSans-49\"/>\r\n       <use x=\"63.623047\" xlink:href=\"#DejaVuSans-50\"/>\r\n       <use x=\"127.246094\" xlink:href=\"#DejaVuSans-53\"/>\r\n      </g>\r\n     </g>\r\n    </g>\r\n    <g id=\"xtick_25\">\r\n     <g id=\"line2d_52\">\r\n      <g>\r\n       <use style=\"stroke:#000000;stroke-width:0.8;\" x=\"1261.880665\" xlink:href=\"#mc0e37d2b4e\" y=\"239.758125\"/>\r\n      </g>\r\n     </g>\r\n     <g id=\"text_44\">\r\n      <!-- 150 -->\r\n      <g transform=\"translate(1252.336915 254.356563)scale(0.1 -0.1)\">\r\n       <use xlink:href=\"#DejaVuSans-49\"/>\r\n       <use x=\"63.623047\" xlink:href=\"#DejaVuSans-53\"/>\r\n       <use x=\"127.246094\" xlink:href=\"#DejaVuSans-48\"/>\r\n      </g>\r\n     </g>\r\n    </g>\r\n    <g id=\"xtick_26\">\r\n     <g id=\"line2d_53\">\r\n      <g>\r\n       <use style=\"stroke:#000000;stroke-width:0.8;\" x=\"1306.640023\" xlink:href=\"#mc0e37d2b4e\" y=\"239.758125\"/>\r\n      </g>\r\n     </g>\r\n     <g id=\"text_45\">\r\n      <!-- 175 -->\r\n      <g transform=\"translate(1297.096273 254.356563)scale(0.1 -0.1)\">\r\n       <use xlink:href=\"#DejaVuSans-49\"/>\r\n       <use x=\"63.623047\" xlink:href=\"#DejaVuSans-55\"/>\r\n       <use x=\"127.246094\" xlink:href=\"#DejaVuSans-53\"/>\r\n      </g>\r\n     </g>\r\n    </g>\r\n    <g id=\"xtick_27\">\r\n     <g id=\"line2d_54\">\r\n      <g>\r\n       <use style=\"stroke:#000000;stroke-width:0.8;\" x=\"1351.399382\" xlink:href=\"#mc0e37d2b4e\" y=\"239.758125\"/>\r\n      </g>\r\n     </g>\r\n     <g id=\"text_46\">\r\n      <!-- 200 -->\r\n      <g transform=\"translate(1341.855632 254.356563)scale(0.1 -0.1)\">\r\n       <use xlink:href=\"#DejaVuSans-50\"/>\r\n       <use x=\"63.623047\" xlink:href=\"#DejaVuSans-48\"/>\r\n       <use x=\"127.246094\" xlink:href=\"#DejaVuSans-48\"/>\r\n      </g>\r\n     </g>\r\n    </g>\r\n   </g>\r\n   <g id=\"matplotlib.axis_6\">\r\n    <g id=\"ytick_13\">\r\n     <g id=\"line2d_55\">\r\n      <g>\r\n       <use style=\"stroke:#000000;stroke-width:0.8;\" x=\"975.420772\" xlink:href=\"#mf0742a3669\" y=\"229.874489\"/>\r\n      </g>\r\n     </g>\r\n     <g id=\"text_47\">\r\n      <!-- −1 -->\r\n      <g transform=\"translate(953.678585 233.673707)scale(0.1 -0.1)\">\r\n       <defs>\r\n        <path d=\"M 10.59375 35.5 \r\nL 73.1875 35.5 \r\nL 73.1875 27.203125 \r\nL 10.59375 27.203125 \r\nz\r\n\" id=\"DejaVuSans-8722\"/>\r\n       </defs>\r\n       <use xlink:href=\"#DejaVuSans-8722\"/>\r\n       <use x=\"83.789062\" xlink:href=\"#DejaVuSans-49\"/>\r\n      </g>\r\n     </g>\r\n    </g>\r\n    <g id=\"ytick_14\">\r\n     <g id=\"line2d_56\">\r\n      <g>\r\n       <use style=\"stroke:#000000;stroke-width:0.8;\" x=\"975.420772\" xlink:href=\"#mf0742a3669\" y=\"196.929034\"/>\r\n      </g>\r\n     </g>\r\n     <g id=\"text_48\">\r\n      <!-- 0 -->\r\n      <g transform=\"translate(962.058272 200.728253)scale(0.1 -0.1)\">\r\n       <use xlink:href=\"#DejaVuSans-48\"/>\r\n      </g>\r\n     </g>\r\n    </g>\r\n    <g id=\"ytick_15\">\r\n     <g id=\"line2d_57\">\r\n      <g>\r\n       <use style=\"stroke:#000000;stroke-width:0.8;\" x=\"975.420772\" xlink:href=\"#mf0742a3669\" y=\"163.98358\"/>\r\n      </g>\r\n     </g>\r\n     <g id=\"text_49\">\r\n      <!-- 1 -->\r\n      <g transform=\"translate(962.058272 167.782798)scale(0.1 -0.1)\">\r\n       <use xlink:href=\"#DejaVuSans-49\"/>\r\n      </g>\r\n     </g>\r\n    </g>\r\n    <g id=\"ytick_16\">\r\n     <g id=\"line2d_58\">\r\n      <g>\r\n       <use style=\"stroke:#000000;stroke-width:0.8;\" x=\"975.420772\" xlink:href=\"#mf0742a3669\" y=\"131.038125\"/>\r\n      </g>\r\n     </g>\r\n     <g id=\"text_50\">\r\n      <!-- 2 -->\r\n      <g transform=\"translate(962.058272 134.837344)scale(0.1 -0.1)\">\r\n       <use xlink:href=\"#DejaVuSans-50\"/>\r\n      </g>\r\n     </g>\r\n    </g>\r\n    <g id=\"ytick_17\">\r\n     <g id=\"line2d_59\">\r\n      <g>\r\n       <use style=\"stroke:#000000;stroke-width:0.8;\" x=\"975.420772\" xlink:href=\"#mf0742a3669\" y=\"98.09267\"/>\r\n      </g>\r\n     </g>\r\n     <g id=\"text_51\">\r\n      <!-- 3 -->\r\n      <g transform=\"translate(962.058272 101.891889)scale(0.1 -0.1)\">\r\n       <defs>\r\n        <path d=\"M 40.578125 39.3125 \r\nQ 47.65625 37.796875 51.625 33 \r\nQ 55.609375 28.21875 55.609375 21.1875 \r\nQ 55.609375 10.40625 48.1875 4.484375 \r\nQ 40.765625 -1.421875 27.09375 -1.421875 \r\nQ 22.515625 -1.421875 17.65625 -0.515625 \r\nQ 12.796875 0.390625 7.625 2.203125 \r\nL 7.625 11.71875 \r\nQ 11.71875 9.328125 16.59375 8.109375 \r\nQ 21.484375 6.890625 26.8125 6.890625 \r\nQ 36.078125 6.890625 40.9375 10.546875 \r\nQ 45.796875 14.203125 45.796875 21.1875 \r\nQ 45.796875 27.640625 41.28125 31.265625 \r\nQ 36.765625 34.90625 28.71875 34.90625 \r\nL 20.21875 34.90625 \r\nL 20.21875 43.015625 \r\nL 29.109375 43.015625 \r\nQ 36.375 43.015625 40.234375 45.921875 \r\nQ 44.09375 48.828125 44.09375 54.296875 \r\nQ 44.09375 59.90625 40.109375 62.90625 \r\nQ 36.140625 65.921875 28.71875 65.921875 \r\nQ 24.65625 65.921875 20.015625 65.03125 \r\nQ 15.375 64.15625 9.8125 62.3125 \r\nL 9.8125 71.09375 \r\nQ 15.4375 72.65625 20.34375 73.4375 \r\nQ 25.25 74.21875 29.59375 74.21875 \r\nQ 40.828125 74.21875 47.359375 69.109375 \r\nQ 53.90625 64.015625 53.90625 55.328125 \r\nQ 53.90625 49.265625 50.4375 45.09375 \r\nQ 46.96875 40.921875 40.578125 39.3125 \r\nz\r\n\" id=\"DejaVuSans-51\"/>\r\n       </defs>\r\n       <use xlink:href=\"#DejaVuSans-51\"/>\r\n      </g>\r\n     </g>\r\n    </g>\r\n    <g id=\"ytick_18\">\r\n     <g id=\"line2d_60\">\r\n      <g>\r\n       <use style=\"stroke:#000000;stroke-width:0.8;\" x=\"975.420772\" xlink:href=\"#mf0742a3669\" y=\"65.147216\"/>\r\n      </g>\r\n     </g>\r\n     <g id=\"text_52\">\r\n      <!-- 4 -->\r\n      <g transform=\"translate(962.058272 68.946435)scale(0.1 -0.1)\">\r\n       <use xlink:href=\"#DejaVuSans-52\"/>\r\n      </g>\r\n     </g>\r\n    </g>\r\n    <g id=\"ytick_19\">\r\n     <g id=\"line2d_61\">\r\n      <g>\r\n       <use style=\"stroke:#000000;stroke-width:0.8;\" x=\"975.420772\" xlink:href=\"#mf0742a3669\" y=\"32.201761\"/>\r\n      </g>\r\n     </g>\r\n     <g id=\"text_53\">\r\n      <!-- 5 -->\r\n      <g transform=\"translate(962.058272 36.00098)scale(0.1 -0.1)\">\r\n       <use xlink:href=\"#DejaVuSans-53\"/>\r\n      </g>\r\n     </g>\r\n    </g>\r\n   </g>\r\n   <g id=\"line2d_62\">\r\n    <path clip-path=\"url(#p3b5b382b1c)\" d=\"M 993.324515 32.201761 \r\nL 1002.276387 196.929034 \r\nL 1004.066761 65.147216 \r\nL 1011.228259 196.929034 \r\nL 1013.018633 65.147216 \r\nL 1020.18013 196.929034 \r\nL 1021.970505 65.147216 \r\nL 1029.132002 196.929034 \r\nL 1030.922376 65.147216 \r\nL 1038.083874 196.929034 \r\nL 1039.874248 65.147216 \r\nL 1047.035745 196.929034 \r\nL 1048.82612 65.147216 \r\nL 1055.987617 196.929034 \r\nL 1057.777991 65.147216 \r\nL 1064.939489 196.929034 \r\nL 1066.729863 65.147216 \r\nL 1073.89136 196.929034 \r\nL 1075.681735 65.147216 \r\nL 1082.843232 196.929034 \r\nL 1084.633606 65.147216 \r\nL 1091.795104 196.929034 \r\nL 1093.585478 65.147216 \r\nL 1100.746975 196.929034 \r\nL 1102.53735 65.147216 \r\nL 1109.698847 196.929034 \r\nL 1111.489221 65.147216 \r\nL 1118.650719 196.929034 \r\nL 1120.441093 65.147216 \r\nL 1127.60259 196.929034 \r\nL 1129.392965 65.147216 \r\nL 1136.554462 196.929034 \r\nL 1138.344836 65.147216 \r\nL 1145.506334 196.929034 \r\nL 1147.296708 65.147216 \r\nL 1154.458205 196.929034 \r\nL 1156.24858 65.147216 \r\nL 1163.410077 196.929034 \r\nL 1165.200451 65.147216 \r\nL 1172.361949 196.929034 \r\nL 1174.152323 65.147216 \r\nL 1181.31382 196.929034 \r\nL 1183.104195 65.147216 \r\nL 1190.265692 196.929034 \r\nL 1192.056066 65.147216 \r\nL 1199.217564 196.929034 \r\nL 1201.007938 65.147216 \r\nL 1208.169435 196.929034 \r\nL 1209.959809 65.147216 \r\nL 1217.121307 196.929034 \r\nL 1218.911681 65.147216 \r\nL 1226.073178 196.929034 \r\nL 1227.863553 65.147216 \r\nL 1235.02505 196.929034 \r\nL 1236.815424 65.147216 \r\nL 1243.976922 196.929034 \r\nL 1245.767296 65.147216 \r\nL 1252.928793 196.929034 \r\nL 1254.719168 65.147216 \r\nL 1261.880665 196.929034 \r\nL 1263.671039 65.147216 \r\nL 1270.832537 196.929034 \r\nL 1272.622911 65.147216 \r\nL 1279.784408 196.929034 \r\nL 1281.574783 65.147216 \r\nL 1288.73628 196.929034 \r\nL 1290.526654 65.147216 \r\nL 1297.688152 196.929034 \r\nL 1299.478526 65.147216 \r\nL 1306.640023 196.929034 \r\nL 1308.430398 65.147216 \r\nL 1315.591895 196.929034 \r\nL 1317.382269 65.147216 \r\nL 1324.543767 196.929034 \r\nL 1326.334141 65.147216 \r\nL 1333.495638 196.929034 \r\nL 1335.286013 65.147216 \r\nL 1342.44751 196.929034 \r\nL 1344.237884 65.147216 \r\nL 1351.399382 196.929034 \r\nL 1351.399382 196.929034 \r\n\" style=\"fill:none;stroke:#1f77b4;stroke-linecap:square;stroke-width:1.5;\"/>\r\n   </g>\r\n   <g id=\"line2d_63\">\r\n    <path clip-path=\"url(#p3b5b382b1c)\" d=\"M 993.324515 229.874489 \r\nL 1351.399382 229.874489 \r\nL 1351.399382 229.874489 \r\n\" style=\"fill:none;stroke:#ff7f0e;stroke-linecap:square;stroke-width:1.5;\"/>\r\n   </g>\r\n   <g id=\"line2d_64\">\r\n    <path clip-path=\"url(#p3b5b382b1c)\" d=\"M 993.324515 229.874489 \r\nL 1351.399382 229.874489 \r\nL 1351.399382 229.874489 \r\n\" style=\"fill:none;stroke:#2ca02c;stroke-linecap:square;stroke-width:1.5;\"/>\r\n   </g>\r\n   <g id=\"line2d_65\">\r\n    <path clip-path=\"url(#p3b5b382b1c)\" d=\"M 993.324515 229.874489 \r\nL 1143.715959 229.874489 \r\nL 1145.506334 196.929034 \r\nL 1147.296708 229.874489 \r\nL 1283.365157 229.874489 \r\nL 1285.155531 196.929034 \r\nL 1286.945906 229.874489 \r\nL 1351.399382 229.874489 \r\nL 1351.399382 229.874489 \r\n\" style=\"fill:none;stroke:#d62728;stroke-linecap:square;stroke-width:1.5;\"/>\r\n   </g>\r\n   <g id=\"patch_15\">\r\n    <path d=\"M 975.420772 239.758125 \r\nL 975.420772 22.318125 \r\n\" style=\"fill:none;stroke:#000000;stroke-linecap:square;stroke-linejoin:miter;stroke-width:0.8;\"/>\r\n   </g>\r\n   <g id=\"patch_16\">\r\n    <path d=\"M 1369.303125 239.758125 \r\nL 1369.303125 22.318125 \r\n\" style=\"fill:none;stroke:#000000;stroke-linecap:square;stroke-linejoin:miter;stroke-width:0.8;\"/>\r\n   </g>\r\n   <g id=\"patch_17\">\r\n    <path d=\"M 975.420772 239.758125 \r\nL 1369.303125 239.758125 \r\n\" style=\"fill:none;stroke:#000000;stroke-linecap:square;stroke-linejoin:miter;stroke-width:0.8;\"/>\r\n   </g>\r\n   <g id=\"patch_18\">\r\n    <path d=\"M 975.420772 22.318125 \r\nL 1369.303125 22.318125 \r\n\" style=\"fill:none;stroke:#000000;stroke-linecap:square;stroke-linejoin:miter;stroke-width:0.8;\"/>\r\n   </g>\r\n   <g id=\"text_54\">\r\n    <!-- Task -->\r\n    <g transform=\"translate(1159.410386 16.318125)scale(0.12 -0.12)\">\r\n     <defs>\r\n      <path d=\"M -0.296875 72.90625 \r\nL 61.375 72.90625 \r\nL 61.375 64.59375 \r\nL 35.5 64.59375 \r\nL 35.5 0 \r\nL 25.59375 0 \r\nL 25.59375 64.59375 \r\nL -0.296875 64.59375 \r\nz\r\n\" id=\"DejaVuSans-84\"/>\r\n     </defs>\r\n     <use xlink:href=\"#DejaVuSans-84\"/>\r\n     <use x=\"44.583984\" xlink:href=\"#DejaVuSans-97\"/>\r\n     <use x=\"105.863281\" xlink:href=\"#DejaVuSans-115\"/>\r\n     <use x=\"157.962891\" xlink:href=\"#DejaVuSans-107\"/>\r\n    </g>\r\n   </g>\r\n   <g id=\"legend_3\">\r\n    <g id=\"patch_19\">\r\n     <path d=\"M 1228.778125 89.30875 \r\nL 1362.303125 89.30875 \r\nQ 1364.303125 89.30875 1364.303125 87.30875 \r\nL 1364.303125 29.318125 \r\nQ 1364.303125 27.318125 1362.303125 27.318125 \r\nL 1228.778125 27.318125 \r\nQ 1226.778125 27.318125 1226.778125 29.318125 \r\nL 1226.778125 87.30875 \r\nQ 1226.778125 89.30875 1228.778125 89.30875 \r\nz\r\n\" style=\"fill:#ffffff;opacity:0.8;stroke:#cccccc;stroke-linejoin:miter;\"/>\r\n    </g>\r\n    <g id=\"line2d_66\">\r\n     <path d=\"M 1230.778125 35.416562 \r\nL 1250.778125 35.416562 \r\n\" style=\"fill:none;stroke:#1f77b4;stroke-linecap:square;stroke-width:1.5;\"/>\r\n    </g>\r\n    <g id=\"line2d_67\"/>\r\n    <g id=\"text_55\">\r\n     <!-- inspection -->\r\n     <g transform=\"translate(1258.778125 38.916562)scale(0.1 -0.1)\">\r\n      <defs>\r\n       <path d=\"M 18.109375 8.203125 \r\nL 18.109375 -20.796875 \r\nL 9.078125 -20.796875 \r\nL 9.078125 54.6875 \r\nL 18.109375 54.6875 \r\nL 18.109375 46.390625 \r\nQ 20.953125 51.265625 25.265625 53.625 \r\nQ 29.59375 56 35.59375 56 \r\nQ 45.5625 56 51.78125 48.09375 \r\nQ 58.015625 40.1875 58.015625 27.296875 \r\nQ 58.015625 14.40625 51.78125 6.484375 \r\nQ 45.5625 -1.421875 35.59375 -1.421875 \r\nQ 29.59375 -1.421875 25.265625 0.953125 \r\nQ 20.953125 3.328125 18.109375 8.203125 \r\nz\r\nM 48.6875 27.296875 \r\nQ 48.6875 37.203125 44.609375 42.84375 \r\nQ 40.53125 48.484375 33.40625 48.484375 \r\nQ 26.265625 48.484375 22.1875 42.84375 \r\nQ 18.109375 37.203125 18.109375 27.296875 \r\nQ 18.109375 17.390625 22.1875 11.75 \r\nQ 26.265625 6.109375 33.40625 6.109375 \r\nQ 40.53125 6.109375 44.609375 11.75 \r\nQ 48.6875 17.390625 48.6875 27.296875 \r\nz\r\n\" id=\"DejaVuSans-112\"/>\r\n      </defs>\r\n      <use xlink:href=\"#DejaVuSans-105\"/>\r\n      <use x=\"27.783203\" xlink:href=\"#DejaVuSans-110\"/>\r\n      <use x=\"91.162109\" xlink:href=\"#DejaVuSans-115\"/>\r\n      <use x=\"143.261719\" xlink:href=\"#DejaVuSans-112\"/>\r\n      <use x=\"206.738281\" xlink:href=\"#DejaVuSans-101\"/>\r\n      <use x=\"268.261719\" xlink:href=\"#DejaVuSans-99\"/>\r\n      <use x=\"323.242188\" xlink:href=\"#DejaVuSans-116\"/>\r\n      <use x=\"362.451172\" xlink:href=\"#DejaVuSans-105\"/>\r\n      <use x=\"390.234375\" xlink:href=\"#DejaVuSans-111\"/>\r\n      <use x=\"451.416016\" xlink:href=\"#DejaVuSans-110\"/>\r\n     </g>\r\n    </g>\r\n    <g id=\"line2d_68\">\r\n     <path d=\"M 1230.778125 50.094687 \r\nL 1250.778125 50.094687 \r\n\" style=\"fill:none;stroke:#ff7f0e;stroke-linecap:square;stroke-width:1.5;\"/>\r\n    </g>\r\n    <g id=\"line2d_69\"/>\r\n    <g id=\"text_56\">\r\n     <!-- termite_powder -->\r\n     <g transform=\"translate(1258.778125 53.594687)scale(0.1 -0.1)\">\r\n      <use xlink:href=\"#DejaVuSans-116\"/>\r\n      <use x=\"39.208984\" xlink:href=\"#DejaVuSans-101\"/>\r\n      <use x=\"100.732422\" xlink:href=\"#DejaVuSans-114\"/>\r\n      <use x=\"140.095703\" xlink:href=\"#DejaVuSans-109\"/>\r\n      <use x=\"237.507812\" xlink:href=\"#DejaVuSans-105\"/>\r\n      <use x=\"265.291016\" xlink:href=\"#DejaVuSans-116\"/>\r\n      <use x=\"304.5\" xlink:href=\"#DejaVuSans-101\"/>\r\n      <use x=\"366.023438\" xlink:href=\"#DejaVuSans-95\"/>\r\n      <use x=\"416.023438\" xlink:href=\"#DejaVuSans-112\"/>\r\n      <use x=\"479.5\" xlink:href=\"#DejaVuSans-111\"/>\r\n      <use x=\"540.681641\" xlink:href=\"#DejaVuSans-119\"/>\r\n      <use x=\"622.46875\" xlink:href=\"#DejaVuSans-100\"/>\r\n      <use x=\"685.945312\" xlink:href=\"#DejaVuSans-101\"/>\r\n      <use x=\"747.46875\" xlink:href=\"#DejaVuSans-114\"/>\r\n     </g>\r\n    </g>\r\n    <g id=\"line2d_70\">\r\n     <path d=\"M 1230.778125 65.050938 \r\nL 1250.778125 65.050938 \r\n\" style=\"fill:none;stroke:#2ca02c;stroke-linecap:square;stroke-width:1.5;\"/>\r\n    </g>\r\n    <g id=\"line2d_71\"/>\r\n    <g id=\"text_57\">\r\n     <!-- CAT3/4 replacement -->\r\n     <g transform=\"translate(1258.778125 68.550938)scale(0.1 -0.1)\">\r\n      <defs>\r\n       <path d=\"M 34.1875 63.1875 \r\nL 20.796875 26.90625 \r\nL 47.609375 26.90625 \r\nz\r\nM 28.609375 72.90625 \r\nL 39.796875 72.90625 \r\nL 67.578125 0 \r\nL 57.328125 0 \r\nL 50.6875 18.703125 \r\nL 17.828125 18.703125 \r\nL 11.1875 0 \r\nL 0.78125 0 \r\nz\r\n\" id=\"DejaVuSans-65\"/>\r\n       <path d=\"M 25.390625 72.90625 \r\nL 33.6875 72.90625 \r\nL 8.296875 -9.28125 \r\nL 0 -9.28125 \r\nz\r\n\" id=\"DejaVuSans-47\"/>\r\n       <path id=\"DejaVuSans-32\"/>\r\n      </defs>\r\n      <use xlink:href=\"#DejaVuSans-67\"/>\r\n      <use x=\"69.824219\" xlink:href=\"#DejaVuSans-65\"/>\r\n      <use x=\"130.482422\" xlink:href=\"#DejaVuSans-84\"/>\r\n      <use x=\"191.566406\" xlink:href=\"#DejaVuSans-51\"/>\r\n      <use x=\"255.189453\" xlink:href=\"#DejaVuSans-47\"/>\r\n      <use x=\"288.880859\" xlink:href=\"#DejaVuSans-52\"/>\r\n      <use x=\"352.503906\" xlink:href=\"#DejaVuSans-32\"/>\r\n      <use x=\"384.291016\" xlink:href=\"#DejaVuSans-114\"/>\r\n      <use x=\"423.154297\" xlink:href=\"#DejaVuSans-101\"/>\r\n      <use x=\"484.677734\" xlink:href=\"#DejaVuSans-112\"/>\r\n      <use x=\"548.154297\" xlink:href=\"#DejaVuSans-108\"/>\r\n      <use x=\"575.9375\" xlink:href=\"#DejaVuSans-97\"/>\r\n      <use x=\"637.216797\" xlink:href=\"#DejaVuSans-99\"/>\r\n      <use x=\"692.197266\" xlink:href=\"#DejaVuSans-101\"/>\r\n      <use x=\"753.720703\" xlink:href=\"#DejaVuSans-109\"/>\r\n      <use x=\"851.132812\" xlink:href=\"#DejaVuSans-101\"/>\r\n      <use x=\"912.65625\" xlink:href=\"#DejaVuSans-110\"/>\r\n      <use x=\"976.035156\" xlink:href=\"#DejaVuSans-116\"/>\r\n     </g>\r\n    </g>\r\n    <g id=\"line2d_72\">\r\n     <path d=\"M 1230.778125 79.729062 \r\nL 1250.778125 79.729062 \r\n\" style=\"fill:none;stroke:#d62728;stroke-linecap:square;stroke-width:1.5;\"/>\r\n    </g>\r\n    <g id=\"line2d_73\"/>\r\n    <g id=\"text_58\">\r\n     <!-- CAT1/2 replacement -->\r\n     <g transform=\"translate(1258.778125 83.229062)scale(0.1 -0.1)\">\r\n      <use xlink:href=\"#DejaVuSans-67\"/>\r\n      <use x=\"69.824219\" xlink:href=\"#DejaVuSans-65\"/>\r\n      <use x=\"130.482422\" xlink:href=\"#DejaVuSans-84\"/>\r\n      <use x=\"191.566406\" xlink:href=\"#DejaVuSans-49\"/>\r\n      <use x=\"255.189453\" xlink:href=\"#DejaVuSans-47\"/>\r\n      <use x=\"288.880859\" xlink:href=\"#DejaVuSans-50\"/>\r\n      <use x=\"352.503906\" xlink:href=\"#DejaVuSans-32\"/>\r\n      <use x=\"384.291016\" xlink:href=\"#DejaVuSans-114\"/>\r\n      <use x=\"423.154297\" xlink:href=\"#DejaVuSans-101\"/>\r\n      <use x=\"484.677734\" xlink:href=\"#DejaVuSans-112\"/>\r\n      <use x=\"548.154297\" xlink:href=\"#DejaVuSans-108\"/>\r\n      <use x=\"575.9375\" xlink:href=\"#DejaVuSans-97\"/>\r\n      <use x=\"637.216797\" xlink:href=\"#DejaVuSans-99\"/>\r\n      <use x=\"692.197266\" xlink:href=\"#DejaVuSans-101\"/>\r\n      <use x=\"753.720703\" xlink:href=\"#DejaVuSans-109\"/>\r\n      <use x=\"851.132812\" xlink:href=\"#DejaVuSans-101\"/>\r\n      <use x=\"912.65625\" xlink:href=\"#DejaVuSans-110\"/>\r\n      <use x=\"976.035156\" xlink:href=\"#DejaVuSans-116\"/>\r\n     </g>\r\n    </g>\r\n   </g>\r\n  </g>\r\n </g>\r\n <defs>\r\n  <clipPath id=\"p662079a1ae\">\r\n   <rect height=\"217.44\" width=\"393.882353\" x=\"30.103125\" y=\"22.318125\"/>\r\n  </clipPath>\r\n  <clipPath id=\"p7987ac61d8\">\r\n   <rect height=\"217.44\" width=\"393.882353\" x=\"502.761949\" y=\"22.318125\"/>\r\n  </clipPath>\r\n  <clipPath id=\"p3b5b382b1c\">\r\n   <rect height=\"217.44\" width=\"393.882353\" x=\"975.420772\" y=\"22.318125\"/>\r\n  </clipPath>\r\n </defs>\r\n</svg>\r\n",
      "image/png": "[encoded data removed]"
     },
     "metadata": {
      "needs_background": "light"
     }
    }
   ],
   "source": [
    "fm2.sim_timeline(200)\n",
    "fm2.plot_timeline()"
   ]
  },
  {
   "cell_type": "code",
   "execution_count": 16,
   "metadata": {},
   "outputs": [
    {
     "output_type": "execute_result",
     "data": {
      "text/plain": "{'name': 'termite_powder',\n 'activity': 'ConditionTask',\n 'trigger': 'condition',\n 'active': True,\n '_package': NotImplemented,\n '_impacts_parent': NotImplemented,\n '_impacts_children': False,\n 'cost': 100.0,\n 'labour': NotImplemented,\n 'spares': NotImplemented,\n 'equipment': NotImplemented,\n 'consequence': <pof.consequence.Consequence at 0x21ac568c340>,\n 'p_effective': 0.9,\n 'triggers': {'state': {'initiation': True,\n   'detection': True,\n   'failure': False},\n  'condition': {'wall_thickness': {'lower': 50.0, 'upper': 'max'},\n   'external_diameter': {'lower': 50.0, 'upper': 'max'}},\n  'time': {}},\n 'impacts': {'state': {'initiation': False,\n   'detection': False,\n   'failure': False},\n  'condition': {'all': {'target': 0.0,\n    'method': 'reduction_factor',\n    'axis': 'condition'}},\n  'time': {}},\n 'component_reset': False,\n 'state': NotImplemented,\n 't_completion': [],\n 'cost_completion': [],\n '_timeline': NotImplemented,\n 'task_type': 'immediate'}"
     },
     "metadata": {},
     "execution_count": 16
    }
   ],
   "source": [
    "fm2.tasks['termite_powder'].__dict__"
   ]
  },
  {
   "cell_type": "code",
   "execution_count": null,
   "metadata": {
    "tags": []
   },
   "outputs": [],
   "source": [
    "pp.pprint(data['pole']['fm']['termites'])"
   ]
  },
  {
   "cell_type": "markdown",
   "metadata": {},
   "source": [
    "# Explore the data manually"
   ]
  },
  {
   "cell_type": "code",
   "execution_count": 4,
   "metadata": {},
   "outputs": [
    {
     "output_type": "execute_result",
     "data": {
      "text/plain": "  Unnamed: 0_level_0 asset_model                            indicator_model  \\\n  Unnamed: 0_level_1      system sub_system component             indicator   \n                  id        name       name      name                  name   \n0                NaN         NaN        NaN      pole        wall_thickness   \n1                NaN         NaN        NaN       NaN     external_diameter   \n2                NaN         NaN        NaN       NaN  simple_safety_factor   \n3                NaN         NaN        NaN       NaN  actual_safety_factor   \n4                NaN         NaN        NaN       NaN      lightning_damage   \n\n                           failure_model               ...      trigger_model  \\\n                            failure_mode distribution  ...          condition   \n       dist perfect failed          name        alpha  ...               name   \n0    linear   125.0    0.0      termites         50.0  ...     wall_thickness   \n1    linear   250.0    0.0           NaN          NaN  ...  external_diameter   \n2  ssf_calc     4.0    1.0           NaN          NaN  ...                NaN   \n3  dsf_calc     6.0    1.0           NaN          NaN  ...     wall_thickness   \n4      step     1.0    0.0           NaN          NaN  ...  external_diameter   \n\n              impact_model                                     \\\n                     state                   condition          \n  lower upper   initiation detection failure      name target   \n0   0.0   -20          NaN       1.0     NaN       NaN    NaN   \n1   0.0   -10          NaN       NaN     NaN       NaN    NaN   \n2   NaN   NaN          NaN       NaN     NaN       NaN    NaN   \n3  50.0   max          0.0       0.0     0.0       all    0.0   \n4  50.0   max          NaN       NaN     NaN       NaN    NaN   \n\n                                \n                                \n             method       axis  \n0               NaN        NaN  \n1               NaN        NaN  \n2               NaN        NaN  \n3  reduction_factor  condition  \n4               NaN        NaN  \n\n[5 rows x 50 columns]",
      "text/html": "<div>\n<style scoped>\n    .dataframe tbody tr th:only-of-type {\n        vertical-align: middle;\n    }\n\n    .dataframe tbody tr th {\n        vertical-align: top;\n    }\n\n    .dataframe thead tr th {\n        text-align: left;\n    }\n</style>\n<table border=\"1\" class=\"dataframe\">\n  <thead>\n    <tr>\n      <th></th>\n      <th>Unnamed: 0_level_0</th>\n      <th colspan=\"3\" halign=\"left\">asset_model</th>\n      <th colspan=\"4\" halign=\"left\">indicator_model</th>\n      <th colspan=\"2\" halign=\"left\">failure_model</th>\n      <th>...</th>\n      <th colspan=\"3\" halign=\"left\">trigger_model</th>\n      <th colspan=\"7\" halign=\"left\">impact_model</th>\n    </tr>\n    <tr>\n      <th></th>\n      <th>Unnamed: 0_level_1</th>\n      <th>system</th>\n      <th>sub_system</th>\n      <th>component</th>\n      <th colspan=\"4\" halign=\"left\">indicator</th>\n      <th>failure_mode</th>\n      <th>distribution</th>\n      <th>...</th>\n      <th colspan=\"3\" halign=\"left\">condition</th>\n      <th colspan=\"3\" halign=\"left\">state</th>\n      <th colspan=\"4\" halign=\"left\">condition</th>\n    </tr>\n    <tr>\n      <th></th>\n      <th>id</th>\n      <th>name</th>\n      <th>name</th>\n      <th>name</th>\n      <th>name</th>\n      <th>dist</th>\n      <th>perfect</th>\n      <th>failed</th>\n      <th>name</th>\n      <th>alpha</th>\n      <th>...</th>\n      <th>name</th>\n      <th>lower</th>\n      <th>upper</th>\n      <th>initiation</th>\n      <th>detection</th>\n      <th>failure</th>\n      <th>name</th>\n      <th>target</th>\n      <th>method</th>\n      <th>axis</th>\n    </tr>\n  </thead>\n  <tbody>\n    <tr>\n      <th>0</th>\n      <td>NaN</td>\n      <td>NaN</td>\n      <td>NaN</td>\n      <td>pole</td>\n      <td>wall_thickness</td>\n      <td>linear</td>\n      <td>125.0</td>\n      <td>0.0</td>\n      <td>termites</td>\n      <td>50.0</td>\n      <td>...</td>\n      <td>wall_thickness</td>\n      <td>0.0</td>\n      <td>-20</td>\n      <td>NaN</td>\n      <td>1.0</td>\n      <td>NaN</td>\n      <td>NaN</td>\n      <td>NaN</td>\n      <td>NaN</td>\n      <td>NaN</td>\n    </tr>\n    <tr>\n      <th>1</th>\n      <td>NaN</td>\n      <td>NaN</td>\n      <td>NaN</td>\n      <td>NaN</td>\n      <td>external_diameter</td>\n      <td>linear</td>\n      <td>250.0</td>\n      <td>0.0</td>\n      <td>NaN</td>\n      <td>NaN</td>\n      <td>...</td>\n      <td>external_diameter</td>\n      <td>0.0</td>\n      <td>-10</td>\n      <td>NaN</td>\n      <td>NaN</td>\n      <td>NaN</td>\n      <td>NaN</td>\n      <td>NaN</td>\n      <td>NaN</td>\n      <td>NaN</td>\n    </tr>\n    <tr>\n      <th>2</th>\n      <td>NaN</td>\n      <td>NaN</td>\n      <td>NaN</td>\n      <td>NaN</td>\n      <td>simple_safety_factor</td>\n      <td>ssf_calc</td>\n      <td>4.0</td>\n      <td>1.0</td>\n      <td>NaN</td>\n      <td>NaN</td>\n      <td>...</td>\n      <td>NaN</td>\n      <td>NaN</td>\n      <td>NaN</td>\n      <td>NaN</td>\n      <td>NaN</td>\n      <td>NaN</td>\n      <td>NaN</td>\n      <td>NaN</td>\n      <td>NaN</td>\n      <td>NaN</td>\n    </tr>\n    <tr>\n      <th>3</th>\n      <td>NaN</td>\n      <td>NaN</td>\n      <td>NaN</td>\n      <td>NaN</td>\n      <td>actual_safety_factor</td>\n      <td>dsf_calc</td>\n      <td>6.0</td>\n      <td>1.0</td>\n      <td>NaN</td>\n      <td>NaN</td>\n      <td>...</td>\n      <td>wall_thickness</td>\n      <td>50.0</td>\n      <td>max</td>\n      <td>0.0</td>\n      <td>0.0</td>\n      <td>0.0</td>\n      <td>all</td>\n      <td>0.0</td>\n      <td>reduction_factor</td>\n      <td>condition</td>\n    </tr>\n    <tr>\n      <th>4</th>\n      <td>NaN</td>\n      <td>NaN</td>\n      <td>NaN</td>\n      <td>NaN</td>\n      <td>lightning_damage</td>\n      <td>step</td>\n      <td>1.0</td>\n      <td>0.0</td>\n      <td>NaN</td>\n      <td>NaN</td>\n      <td>...</td>\n      <td>external_diameter</td>\n      <td>50.0</td>\n      <td>max</td>\n      <td>NaN</td>\n      <td>NaN</td>\n      <td>NaN</td>\n      <td>NaN</td>\n      <td>NaN</td>\n      <td>NaN</td>\n      <td>NaN</td>\n    </tr>\n  </tbody>\n</table>\n<p>5 rows × 50 columns</p>\n</div>"
     },
     "metadata": {},
     "execution_count": 4
    }
   ],
   "source": [
    "df = pd.read_excel(filename, sheet_name='Model Input', header=[0,1,2])\n",
    "df.head()"
   ]
  },
  {
   "cell_type": "code",
   "execution_count": 5,
   "metadata": {
    "tags": []
   },
   "outputs": [
    {
     "output_type": "execute_result",
     "data": {
      "text/plain": "  asset_model       indicator_model                          failure_model  \\\n    component             indicator                           failure_mode   \n         name                  name      dist perfect failed          name   \n0        pole        wall_thickness    linear   125.0    0.0      termites   \n1         NaN     external_diameter    linear   250.0    0.0           NaN   \n2         NaN  simple_safety_factor  ssf_calc     4.0    1.0           NaN   \n3         NaN  actual_safety_factor  dsf_calc     6.0    1.0           NaN   \n4         NaN      lightning_damage      step     1.0    0.0           NaN   \n\n                                    ...      trigger_model              \\\n  distribution                      ...          condition               \n         alpha beta gamma pf_curve  ...               name lower upper   \n0         50.0  1.5  10.0   linear  ...     wall_thickness   0.0   -20   \n1          NaN  NaN   NaN      NaN  ...  external_diameter   0.0   -10   \n2          NaN  NaN   NaN      NaN  ...                NaN   NaN   NaN   \n3          NaN  NaN   NaN      NaN  ...     wall_thickness  50.0   max   \n4          NaN  NaN   NaN      NaN  ...  external_diameter  50.0   max   \n\n  impact_model                                                                  \n         state                   condition                                      \n    initiation detection failure      name target            method       axis  \n0          NaN       1.0     NaN       NaN    NaN               NaN        NaN  \n1          NaN       NaN     NaN       NaN    NaN               NaN        NaN  \n2          NaN       NaN     NaN       NaN    NaN               NaN        NaN  \n3          0.0       0.0     0.0       all    0.0  reduction_factor  condition  \n4          NaN       NaN     NaN       NaN    NaN               NaN        NaN  \n\n[5 rows x 42 columns]",
      "text/html": "<div>\n<style scoped>\n    .dataframe tbody tr th:only-of-type {\n        vertical-align: middle;\n    }\n\n    .dataframe tbody tr th {\n        vertical-align: top;\n    }\n\n    .dataframe thead tr th {\n        text-align: left;\n    }\n</style>\n<table border=\"1\" class=\"dataframe\">\n  <thead>\n    <tr>\n      <th></th>\n      <th>asset_model</th>\n      <th colspan=\"4\" halign=\"left\">indicator_model</th>\n      <th colspan=\"5\" halign=\"left\">failure_model</th>\n      <th>...</th>\n      <th colspan=\"3\" halign=\"left\">trigger_model</th>\n      <th colspan=\"7\" halign=\"left\">impact_model</th>\n    </tr>\n    <tr>\n      <th></th>\n      <th>component</th>\n      <th colspan=\"4\" halign=\"left\">indicator</th>\n      <th>failure_mode</th>\n      <th colspan=\"4\" halign=\"left\">distribution</th>\n      <th>...</th>\n      <th colspan=\"3\" halign=\"left\">condition</th>\n      <th colspan=\"3\" halign=\"left\">state</th>\n      <th colspan=\"4\" halign=\"left\">condition</th>\n    </tr>\n    <tr>\n      <th></th>\n      <th>name</th>\n      <th>name</th>\n      <th>dist</th>\n      <th>perfect</th>\n      <th>failed</th>\n      <th>name</th>\n      <th>alpha</th>\n      <th>beta</th>\n      <th>gamma</th>\n      <th>pf_curve</th>\n      <th>...</th>\n      <th>name</th>\n      <th>lower</th>\n      <th>upper</th>\n      <th>initiation</th>\n      <th>detection</th>\n      <th>failure</th>\n      <th>name</th>\n      <th>target</th>\n      <th>method</th>\n      <th>axis</th>\n    </tr>\n  </thead>\n  <tbody>\n    <tr>\n      <th>0</th>\n      <td>pole</td>\n      <td>wall_thickness</td>\n      <td>linear</td>\n      <td>125.0</td>\n      <td>0.0</td>\n      <td>termites</td>\n      <td>50.0</td>\n      <td>1.5</td>\n      <td>10.0</td>\n      <td>linear</td>\n      <td>...</td>\n      <td>wall_thickness</td>\n      <td>0.0</td>\n      <td>-20</td>\n      <td>NaN</td>\n      <td>1.0</td>\n      <td>NaN</td>\n      <td>NaN</td>\n      <td>NaN</td>\n      <td>NaN</td>\n      <td>NaN</td>\n    </tr>\n    <tr>\n      <th>1</th>\n      <td>NaN</td>\n      <td>external_diameter</td>\n      <td>linear</td>\n      <td>250.0</td>\n      <td>0.0</td>\n      <td>NaN</td>\n      <td>NaN</td>\n      <td>NaN</td>\n      <td>NaN</td>\n      <td>NaN</td>\n      <td>...</td>\n      <td>external_diameter</td>\n      <td>0.0</td>\n      <td>-10</td>\n      <td>NaN</td>\n      <td>NaN</td>\n      <td>NaN</td>\n      <td>NaN</td>\n      <td>NaN</td>\n      <td>NaN</td>\n      <td>NaN</td>\n    </tr>\n    <tr>\n      <th>2</th>\n      <td>NaN</td>\n      <td>simple_safety_factor</td>\n      <td>ssf_calc</td>\n      <td>4.0</td>\n      <td>1.0</td>\n      <td>NaN</td>\n      <td>NaN</td>\n      <td>NaN</td>\n      <td>NaN</td>\n      <td>NaN</td>\n      <td>...</td>\n      <td>NaN</td>\n      <td>NaN</td>\n      <td>NaN</td>\n      <td>NaN</td>\n      <td>NaN</td>\n      <td>NaN</td>\n      <td>NaN</td>\n      <td>NaN</td>\n      <td>NaN</td>\n      <td>NaN</td>\n    </tr>\n    <tr>\n      <th>3</th>\n      <td>NaN</td>\n      <td>actual_safety_factor</td>\n      <td>dsf_calc</td>\n      <td>6.0</td>\n      <td>1.0</td>\n      <td>NaN</td>\n      <td>NaN</td>\n      <td>NaN</td>\n      <td>NaN</td>\n      <td>NaN</td>\n      <td>...</td>\n      <td>wall_thickness</td>\n      <td>50.0</td>\n      <td>max</td>\n      <td>0.0</td>\n      <td>0.0</td>\n      <td>0.0</td>\n      <td>all</td>\n      <td>0.0</td>\n      <td>reduction_factor</td>\n      <td>condition</td>\n    </tr>\n    <tr>\n      <th>4</th>\n      <td>NaN</td>\n      <td>lightning_damage</td>\n      <td>step</td>\n      <td>1.0</td>\n      <td>0.0</td>\n      <td>NaN</td>\n      <td>NaN</td>\n      <td>NaN</td>\n      <td>NaN</td>\n      <td>NaN</td>\n      <td>...</td>\n      <td>external_diameter</td>\n      <td>50.0</td>\n      <td>max</td>\n      <td>NaN</td>\n      <td>NaN</td>\n      <td>NaN</td>\n      <td>NaN</td>\n      <td>NaN</td>\n      <td>NaN</td>\n      <td>NaN</td>\n    </tr>\n  </tbody>\n</table>\n<p>5 rows × 42 columns</p>\n</div>"
     },
     "metadata": {},
     "execution_count": 5
    }
   ],
   "source": [
    "df = df.dropna(axis=1, how='all')\n",
    "df.head()"
   ]
  },
  {
   "cell_type": "code",
   "execution_count": 6,
   "metadata": {},
   "outputs": [],
   "source": [
    "# Create keys\n",
    "keys = dict(\n",
    "    asset_model = ('asset_model', 'component', 'name'),\n",
    "    #('indicator_model', 'indicator','name'),\n",
    "    failure_model = ('failure_model', 'failure_mode', 'name'),\n",
    "    task_model = ('task_model', 'task', 'name'),\n",
    "    #('trigger_model', 'condition', 'name'), #TODO revist this one\n",
    "    #('impact_model', 'condition', 'name'),\n",
    ")"
   ]
  },
  {
   "cell_type": "code",
   "execution_count": 7,
   "metadata": {
    "tags": []
   },
   "outputs": [
    {
     "output_type": "execute_result",
     "data": {
      "text/plain": "True"
     },
     "metadata": {},
     "execution_count": 7
    }
   ],
   "source": [
    "def validate_keys(keys, df):\n",
    "    missing_keys = [key for key in keys if key not in df.columns]\n",
    "\n",
    "    if bool(missing_keys):\n",
    "        print(\"Missing Keys: %s\" %(missing_keys))\n",
    "        return False\n",
    "    else:\n",
    "        return True\n",
    "\n",
    "validate_keys(keys, df)"
   ]
  },
  {
   "cell_type": "code",
   "execution_count": 8,
   "metadata": {},
   "outputs": [],
   "source": [
    "def rename_duplicates(df, primary_key, foreign_key):\n",
    "    \"\"\"\n",
    "    Warning: changes values of\n",
    "    \"\"\"\n",
    "    if isinstance(primary_key, list):\n",
    "        key_cols = primary_key + foreign_key\n",
    "    mask_key = df[key_cols].notnull().any(axis=1)\n",
    "    mask_dup = df.loc[mask_key, key_cols].ffill().duplicated(keep=False)\n",
    "\n",
    "    mask = mask_key & mask_dup\n",
    "    df.loc[mask, keys['task_model']] += '.' + df[key_cols].loc[mask].ffill().groupby(key_cols).cumcount().add(1).astype(str)\n",
    "\n",
    "    \n"
   ]
  },
  {
   "cell_type": "code",
   "execution_count": 9,
   "metadata": {},
   "outputs": [],
   "source": [
    "# Check Failure Modes aren't duplicated\n",
    "key_cols = [keys['asset_model'], keys['failure_model']]\n",
    "mask_key = df[key_cols].notnull().any(axis=1)\n",
    "mask_dup = df.loc[mask_key, key_cols].ffill().duplicated(keep=False)\n",
    "\n",
    "mask = mask_key & mask_dup\n",
    "df.loc[mask, keys['failure_model']] += '.' + df[key_cols].loc[mask].ffill().groupby(key_cols).cumcount().add(1).astype(str)\n",
    "\n",
    "# Check Tasks aren't duplicated\n",
    "key_cols = [keys['asset_model'], keys['failure_model'], keys['task_model']]\n",
    "mask_key = df[key_cols].notnull().any(axis=1)\n",
    "mask_dup = df.loc[mask_key, key_cols].ffill().duplicated(keep=False)\n",
    "\n",
    "mask = mask_key & mask_dup\n",
    "df.loc[mask, keys['task_model']] += '.' + df[key_cols].loc[mask].ffill().groupby(key_cols).cumcount().add(1).astype(str)"
   ]
  },
  {
   "cell_type": "code",
   "execution_count": 10,
   "metadata": {
    "tags": []
   },
   "outputs": [],
   "source": [
    "def get_failure_mode_data(df_comp):\n",
    "\n",
    "    fms_data = dict() #TODO\n",
    "    fm_key = ('failure_model', 'failure_mode', 'name')\n",
    "    failure_modes = df_comp[fm_key].unique()\n",
    "    df_fms = df_comp[['failure_model', 'condition_model', 'task_model', 'trigger_model', 'impact_model']].set_index(fm_key)\n",
    "\n",
    "    for fm in failure_modes:\n",
    "\n",
    "        df_fm = df_fms.loc[[fm]]\n",
    "\n",
    "        # Get the Task information\n",
    "        tasks_data = get_task_data(df_fm)\n",
    "        \n",
    "        # Get the Distribution information\n",
    "        dist_data = get_dist_data(df_fm)\n",
    "\n",
    "        # Get the Condition information\n",
    "        condition_data = get_condition_data(df_fm)\n",
    "\n",
    "        fm_data = dict(\n",
    "            name = fm,\n",
    "            conditions = condition_data,\n",
    "            tasks = tasks_data,\n",
    "            untreated = dist_data,\n",
    "        )\n",
    "        fms_data.update({\n",
    "            fm : fm_data,\n",
    "        })\n",
    "\n",
    "    return fms_data"
   ]
  },
  {
   "cell_type": "code",
   "execution_count": 11,
   "metadata": {},
   "outputs": [],
   "source": [
    "def get_condition_data(df_fm):\n",
    "    #TODO update for new arrangement\n",
    "    df_cond = df_fm['condition_model']\n",
    "    conditions = df_cond['condition']['name'].dropna().to_numpy()\n",
    "    cond_data = {cond : None for cond in conditions}\n",
    "    return cond_data"
   ]
  },
  {
   "cell_type": "code",
   "execution_count": 12,
   "metadata": {},
   "outputs": [],
   "source": [
    "def get_dist_data(df_fm):\n",
    "\n",
    "    df_dist = df_fm['failure_model'].dropna()\n",
    "    df_dist.columns = df_dist.columns.droplevel()\n",
    "\n",
    "    try:\n",
    "\n",
    "        dist_data = df_dist.iloc[0].dropna().to_dict()\n",
    "    except IndexError:\n",
    "        dist_data = df_dist.dropna().to_dict()\n",
    "\n",
    "    return dist_data"
   ]
  },
  {
   "cell_type": "code",
   "execution_count": 13,
   "metadata": {},
   "outputs": [],
   "source": [
    "def get_task_data(df_fm):\n",
    "    \"\"\"Takes a dataframe for a failure mode and returns a dict of task data\n",
    "    \"\"\"\n",
    "    tasks_data = dict()\n",
    "    task_key = ('task_model', 'task', 'name')\n",
    "    tasks = df_fm[task_key].unique()\n",
    "    df_tasks = df_fm[['task_model', 'trigger_model', 'impact_model']].set_index(task_key)\n",
    "\n",
    "    for task in tasks:\n",
    "\n",
    "        df_task = df_tasks.loc[[task]].dropna(axis=0, how='all')\n",
    "\n",
    "        # Trigger information\n",
    "        try:\n",
    "            state = df_task['trigger_model']['state'].iloc[0].dropna().to_dict(),\n",
    "        except:\n",
    "            state = df_task['trigger_model']['state'].dropna().to_dict(),\n",
    "\n",
    "        trigger_data = dict(\n",
    "            state = state,\n",
    "            condition = df_task['trigger_model']['condition'].dropna().set_index('name').to_dict('index')\n",
    "        )\n",
    "\n",
    "        # Impact information\n",
    "        try:\n",
    "            state = df_task['impact_model']['state'].iloc[0].dropna().to_dict(),\n",
    "        except:\n",
    "            state = df_task['impact_model']['state'].dropna().to_dict(),\n",
    "            \n",
    "        impact_data = dict(\n",
    "            state = state,\n",
    "            condition = df_task['impact_model']['condition'].dropna().set_index('name').to_dict('index')\n",
    "        )\n",
    "\n",
    "        # Tasks specific information\n",
    "        df_tsi = df_task[('task_model')].dropna(how='all').dropna(axis=1)\n",
    "        df_tsi.columns = df_tsi.columns.droplevel()\n",
    "\n",
    "        task_data = df_tsi.to_dict('index') #TODO currently has too many vars\n",
    "        try:\n",
    "            task_data[task].update(dict(\n",
    "                name=task,\n",
    "                triggers=trigger_data,\n",
    "                impacts = impact_data,\n",
    "            ))\n",
    "        except:\n",
    "            task_data = dict(\n",
    "                task = dict(\n",
    "                    name=task,\n",
    "                    triggers=trigger_data,\n",
    "                    impacts = impact_data,\n",
    "                )\n",
    "            )\n",
    "\n",
    "        tasks_data.update(task_data)\n",
    "\n",
    "    return tasks_data"
   ]
  },
  {
   "cell_type": "code",
   "execution_count": 14,
   "metadata": {
    "tags": []
   },
   "outputs": [],
   "source": [
    "def _get_component_data(df):\n",
    "    comps_data = dict()\n",
    "\n",
    "    # Get the Component information\n",
    "    comp_key = ('asset_model', 'component', 'name')\n",
    "    components = df[comp_key].dropna().unique()\n",
    "\n",
    "    df_comps = df[['asset_model', 'failure_model', 'condition_model', 'task_model', 'trigger_model', 'impact_model']].set_index(comp_key)\n",
    "\n",
    "    for comp in components:\n",
    "\n",
    "        df_comp = df_comps.loc[[comp]]\n",
    "\n",
    "        # Get the FailureMode information\n",
    "        fm_data = get_failure_mode_data(df_comp)\n",
    "\n",
    "        comp_data = dict(\n",
    "            fm = fm_data,\n",
    "        )\n",
    "\n",
    "        comps_data.update({\n",
    "            comp : comp_data\n",
    "        })\n",
    "\n",
    "    return comps_data"
   ]
  },
  {
   "cell_type": "code",
   "execution_count": 15,
   "metadata": {
    "tags": []
   },
   "outputs": [],
   "source": [
    "comp2 = _get_component_data(df)"
   ]
  },
  {
   "cell_type": "markdown",
   "metadata": {},
   "source": [
    "# Flat version of what happens in the functions"
   ]
  },
  {
   "cell_type": "code",
   "execution_count": 20,
   "metadata": {},
   "outputs": [],
   "source": [
    "df = df.dropna(how=\"all\")"
   ]
  },
  {
   "cell_type": "code",
   "execution_count": 21,
   "metadata": {
    "tags": []
   },
   "outputs": [],
   "source": [
    "comps_data = dict()\n",
    "\n",
    "# Get the Component information\n",
    "comp_key = ('asset_model', 'component', 'name')\n",
    "components = df[comp_key].unique()\n",
    "\n",
    "df_comps = df[['asset_model', 'failure_model', 'condition_model', 'task_model', 'trigger_model', 'impact_model']].set_index(comp_key)\n",
    "\n",
    "for comp in ['pole']:\n",
    "\n",
    "    df_comp = df_comps.loc[[comp]]\n",
    "\n",
    "    fms_data = dict() #TODO\n",
    "    fm_key = ('failure_model', 'failure_mode', 'name')\n",
    "    failure_modes = df_comp[fm_key].unique()\n",
    "    df_fms = df_comp[['failure_model', 'condition_model', 'task_model', 'trigger_model', 'impact_model']].set_index(fm_key)\n",
    "\n",
    "    for fm in ['termites']:\n",
    "        \n",
    "        df_fm = df_fms.loc[[fm]]\n",
    "        # Get the Task information\n",
    "        tasks_data = get_task_data(df_fm)\n",
    "        \n",
    "        # Get the Distribution information\n",
    "        df_dist = df_fm['failure_model'].dropna()\n",
    "        df_dist.columns = df_dist.columns.droplevel()\n",
    "\n",
    "        try:\n",
    "\n",
    "            dist_data = df_dist.iloc[0].dropna().to_dict()\n",
    "        except IndexError:\n",
    "            dist_data = df_dist.dropna().to_dict()\n",
    "\n",
    "        # Get the Condition information\n",
    "        break"
   ]
  },
  {
   "cell_type": "code",
   "execution_count": 22,
   "metadata": {},
   "outputs": [
    {
     "output_type": "execute_result",
     "data": {
      "text/plain": "                                 failure_model                          \\\n                                  failure_mode distribution              \n                                          name        alpha beta gamma   \n(asset_model, component, name)                                           \ncrossarm                        Fix_this_error          NaN  NaN   NaN   \n\n                                                            \\\n                                                             \n                               pf_curve pf_interval pf_std   \n(asset_model, component, name)                               \ncrossarm                            NaN         NaN    NaN   \n\n                                        condition_model          task_model  \\\n                                              condition                task   \n                                                   name pf_curve       name   \n(asset_model, component, name)                                                \ncrossarm                        add_no_condition_method      NaN      strut   \n\n                                ...   trigger_model             impact_model  \\\n                                ...       condition                    state   \n                                ...            name lower upper   initiation   \n(asset_model, component, name)  ...                                            \ncrossarm                        ...  wall_thickness  50.0   max          NaN   \n\n                                                                         \\\n                                                       condition          \n                               detection failure            name target   \n(asset_model, component, name)                                            \ncrossarm                             NaN     NaN  wall_thickness   50.0   \n\n                                               \n                                               \n                                  method axis  \n(asset_model, component, name)                 \ncrossarm                        addition  NaN  \n\n[1 rows x 37 columns]",
      "text/html": "<div>\n<style scoped>\n    .dataframe tbody tr th:only-of-type {\n        vertical-align: middle;\n    }\n\n    .dataframe tbody tr th {\n        vertical-align: top;\n    }\n\n    .dataframe thead tr th {\n        text-align: left;\n    }\n\n    .dataframe thead tr:last-of-type th {\n        text-align: right;\n    }\n</style>\n<table border=\"1\" class=\"dataframe\">\n  <thead>\n    <tr>\n      <th></th>\n      <th colspan=\"7\" halign=\"left\">failure_model</th>\n      <th colspan=\"2\" halign=\"left\">condition_model</th>\n      <th>task_model</th>\n      <th>...</th>\n      <th colspan=\"3\" halign=\"left\">trigger_model</th>\n      <th colspan=\"7\" halign=\"left\">impact_model</th>\n    </tr>\n    <tr>\n      <th></th>\n      <th>failure_mode</th>\n      <th colspan=\"6\" halign=\"left\">distribution</th>\n      <th colspan=\"2\" halign=\"left\">condition</th>\n      <th>task</th>\n      <th>...</th>\n      <th colspan=\"3\" halign=\"left\">condition</th>\n      <th colspan=\"3\" halign=\"left\">state</th>\n      <th colspan=\"4\" halign=\"left\">condition</th>\n    </tr>\n    <tr>\n      <th></th>\n      <th>name</th>\n      <th>alpha</th>\n      <th>beta</th>\n      <th>gamma</th>\n      <th>pf_curve</th>\n      <th>pf_interval</th>\n      <th>pf_std</th>\n      <th>name</th>\n      <th>pf_curve</th>\n      <th>name</th>\n      <th>...</th>\n      <th>name</th>\n      <th>lower</th>\n      <th>upper</th>\n      <th>initiation</th>\n      <th>detection</th>\n      <th>failure</th>\n      <th>name</th>\n      <th>target</th>\n      <th>method</th>\n      <th>axis</th>\n    </tr>\n    <tr>\n      <th>(asset_model, component, name)</th>\n      <th></th>\n      <th></th>\n      <th></th>\n      <th></th>\n      <th></th>\n      <th></th>\n      <th></th>\n      <th></th>\n      <th></th>\n      <th></th>\n      <th></th>\n      <th></th>\n      <th></th>\n      <th></th>\n      <th></th>\n      <th></th>\n      <th></th>\n      <th></th>\n      <th></th>\n      <th></th>\n      <th></th>\n    </tr>\n  </thead>\n  <tbody>\n    <tr>\n      <th>crossarm</th>\n      <td>Fix_this_error</td>\n      <td>NaN</td>\n      <td>NaN</td>\n      <td>NaN</td>\n      <td>NaN</td>\n      <td>NaN</td>\n      <td>NaN</td>\n      <td>add_no_condition_method</td>\n      <td>NaN</td>\n      <td>strut</td>\n      <td>...</td>\n      <td>wall_thickness</td>\n      <td>50.0</td>\n      <td>max</td>\n      <td>NaN</td>\n      <td>NaN</td>\n      <td>NaN</td>\n      <td>wall_thickness</td>\n      <td>50.0</td>\n      <td>addition</td>\n      <td>NaN</td>\n    </tr>\n  </tbody>\n</table>\n<p>1 rows × 37 columns</p>\n</div>"
     },
     "metadata": {},
     "execution_count": 22
    }
   ],
   "source": [
    "df_comps.loc[['crossarm']]"
   ]
  },
  {
   "cell_type": "code",
   "execution_count": 25,
   "metadata": {},
   "outputs": [
    {
     "output_type": "execute_result",
     "data": {
      "text/plain": "                                 failure_model                          \\\n                                  failure_mode distribution              \n                                          name        alpha beta gamma   \n(asset_model, component, name)                                           \ncrossarm                        Fix_this_error          NaN  NaN   NaN   \n\n                                                            \\\n                                                             \n                               pf_curve pf_interval pf_std   \n(asset_model, component, name)                               \ncrossarm                            NaN         NaN    NaN   \n\n                                        condition_model          task_model  \\\n                                              condition                task   \n                                                   name pf_curve       name   \n(asset_model, component, name)                                                \ncrossarm                        add_no_condition_method      NaN      strut   \n\n                                ...   trigger_model             impact_model  \\\n                                ...       condition                    state   \n                                ...            name lower upper   initiation   \n(asset_model, component, name)  ...                                            \ncrossarm                        ...  wall_thickness  50.0   max          NaN   \n\n                                                                         \\\n                                                       condition          \n                               detection failure            name target   \n(asset_model, component, name)                                            \ncrossarm                             NaN     NaN  wall_thickness   50.0   \n\n                                               \n                                               \n                                  method axis  \n(asset_model, component, name)                 \ncrossarm                        addition  NaN  \n\n[1 rows x 37 columns]",
      "text/html": "<div>\n<style scoped>\n    .dataframe tbody tr th:only-of-type {\n        vertical-align: middle;\n    }\n\n    .dataframe tbody tr th {\n        vertical-align: top;\n    }\n\n    .dataframe thead tr th {\n        text-align: left;\n    }\n\n    .dataframe thead tr:last-of-type th {\n        text-align: right;\n    }\n</style>\n<table border=\"1\" class=\"dataframe\">\n  <thead>\n    <tr>\n      <th></th>\n      <th colspan=\"7\" halign=\"left\">failure_model</th>\n      <th colspan=\"2\" halign=\"left\">condition_model</th>\n      <th>task_model</th>\n      <th>...</th>\n      <th colspan=\"3\" halign=\"left\">trigger_model</th>\n      <th colspan=\"7\" halign=\"left\">impact_model</th>\n    </tr>\n    <tr>\n      <th></th>\n      <th>failure_mode</th>\n      <th colspan=\"6\" halign=\"left\">distribution</th>\n      <th colspan=\"2\" halign=\"left\">condition</th>\n      <th>task</th>\n      <th>...</th>\n      <th colspan=\"3\" halign=\"left\">condition</th>\n      <th colspan=\"3\" halign=\"left\">state</th>\n      <th colspan=\"4\" halign=\"left\">condition</th>\n    </tr>\n    <tr>\n      <th></th>\n      <th>name</th>\n      <th>alpha</th>\n      <th>beta</th>\n      <th>gamma</th>\n      <th>pf_curve</th>\n      <th>pf_interval</th>\n      <th>pf_std</th>\n      <th>name</th>\n      <th>pf_curve</th>\n      <th>name</th>\n      <th>...</th>\n      <th>name</th>\n      <th>lower</th>\n      <th>upper</th>\n      <th>initiation</th>\n      <th>detection</th>\n      <th>failure</th>\n      <th>name</th>\n      <th>target</th>\n      <th>method</th>\n      <th>axis</th>\n    </tr>\n    <tr>\n      <th>(asset_model, component, name)</th>\n      <th></th>\n      <th></th>\n      <th></th>\n      <th></th>\n      <th></th>\n      <th></th>\n      <th></th>\n      <th></th>\n      <th></th>\n      <th></th>\n      <th></th>\n      <th></th>\n      <th></th>\n      <th></th>\n      <th></th>\n      <th></th>\n      <th></th>\n      <th></th>\n      <th></th>\n      <th></th>\n      <th></th>\n    </tr>\n  </thead>\n  <tbody>\n    <tr>\n      <th>crossarm</th>\n      <td>Fix_this_error</td>\n      <td>NaN</td>\n      <td>NaN</td>\n      <td>NaN</td>\n      <td>NaN</td>\n      <td>NaN</td>\n      <td>NaN</td>\n      <td>add_no_condition_method</td>\n      <td>NaN</td>\n      <td>strut</td>\n      <td>...</td>\n      <td>wall_thickness</td>\n      <td>50.0</td>\n      <td>max</td>\n      <td>NaN</td>\n      <td>NaN</td>\n      <td>NaN</td>\n      <td>wall_thickness</td>\n      <td>50.0</td>\n      <td>addition</td>\n      <td>NaN</td>\n    </tr>\n  </tbody>\n</table>\n<p>1 rows × 37 columns</p>\n</div>"
     },
     "metadata": {},
     "execution_count": 25
    }
   ],
   "source": [
    "df_comps.loc[['crossarm']]\n"
   ]
  },
  {
   "cell_type": "code",
   "execution_count": 85,
   "metadata": {},
   "outputs": [
    {
     "output_type": "execute_result",
     "data": {
      "text/plain": "{}"
     },
     "metadata": {},
     "execution_count": 85
    }
   ],
   "source": []
  },
  {
   "cell_type": "code",
   "execution_count": 65,
   "metadata": {},
   "outputs": [],
   "source": [
    "from dataclasses import dataclass\n",
    "from typing import Dict\n",
    "\n",
    "@dataclass\n",
    "class simple():\n",
    "\n",
    "    _val : int = 10\n",
    "    _dict : Dict = None\n",
    "\n",
    "    @property\n",
    "    def val(self):\n",
    "        return self._val\n",
    "\n",
    "    @val.setter\n",
    "    def val(self, value):\n",
    "        self._val = value\n",
    "\n",
    "    @property\n",
    "    def dic(self):\n",
    "        return self._dict\n",
    "\n",
    "    @dic.setter\n",
    "    def dic(self, value):\n",
    "        if self._dict is None:\n",
    "            self._dict = dict()\n",
    "        \n",
    "        if isinstance(value, str):\n",
    "            print('string')\n",
    "            self._dict = value\n",
    "\n",
    "        elif value == 'ten':\n",
    "            print('class')\n",
    "            self._dict['hundred'] = 'hundred'\n",
    "\n",
    "        elif isinstance(value, dict):\n",
    "            print('dict')\n",
    "            for k, v in value.items():\n",
    "                self.dic = v\n",
    "\n",
    "        else:\n",
    "            print(\"Invalid value\")\n"
   ]
  },
  {
   "cell_type": "code",
   "execution_count": 66,
   "metadata": {},
   "outputs": [],
   "source": [
    "s = simple()"
   ]
  },
  {
   "cell_type": "code",
   "execution_count": 67,
   "metadata": {
    "tags": []
   },
   "outputs": [
    {
     "output_type": "stream",
     "name": "stdout",
     "text": "dict\nInvalid value\nstring\n"
    }
   ],
   "source": [
    "s.dic = {'thirty': 30, 'ten':'ten'}"
   ]
  },
  {
   "cell_type": "code",
   "execution_count": 68,
   "metadata": {},
   "outputs": [
    {
     "output_type": "execute_result",
     "data": {
      "text/plain": "15"
     },
     "metadata": {},
     "execution_count": 68
    }
   ],
   "source": [
    "s.val = 15\n",
    "s.val"
   ]
  },
  {
   "cell_type": "code",
   "execution_count": 69,
   "metadata": {
    "tags": []
   },
   "outputs": [
    {
     "output_type": "stream",
     "name": "stdout",
     "text": "Invalid value\n"
    },
    {
     "output_type": "execute_result",
     "data": {
      "text/plain": "'ten'"
     },
     "metadata": {},
     "execution_count": 69
    }
   ],
   "source": [
    "s.dic = 15\n",
    "s.dic"
   ]
  },
  {
   "cell_type": "code",
   "execution_count": 70,
   "metadata": {
    "tags": []
   },
   "outputs": [
    {
     "output_type": "stream",
     "name": "stdout",
     "text": "Invalid value\n"
    },
    {
     "output_type": "execute_result",
     "data": {
      "text/plain": "'ten'"
     },
     "metadata": {},
     "execution_count": 70
    }
   ],
   "source": [
    "s.dic = 25\n",
    "s.dic"
   ]
  },
  {
   "cell_type": "code",
   "execution_count": 72,
   "metadata": {},
   "outputs": [
    {
     "output_type": "execute_result",
     "data": {
      "text/plain": "{'_val': 15, '_dict': 'ten'}"
     },
     "metadata": {},
     "execution_count": 72
    }
   ],
   "source": [
    "s.__dict__"
   ]
  },
  {
   "cell_type": "code",
   "execution_count": 76,
   "metadata": {},
   "outputs": [
    {
     "output_type": "error",
     "ename": "ModuleNotFoundError",
     "evalue": "No module named 'ConfigParser'",
     "traceback": [
      "\u001b[1;31m---------------------------------------------------------------------------\u001b[0m",
      "\u001b[1;31mModuleNotFoundError\u001b[0m                       Traceback (most recent call last)",
      "\u001b[1;32m<ipython-input-76-a353f1bf96c8>\u001b[0m in \u001b[0;36m<module>\u001b[1;34m\u001b[0m\n\u001b[1;32m----> 1\u001b[1;33m \u001b[1;32mfrom\u001b[0m \u001b[0mpof\u001b[0m\u001b[1;33m.\u001b[0m\u001b[0mconfig\u001b[0m \u001b[1;32mimport\u001b[0m \u001b[0mconfig\u001b[0m\u001b[1;33m\u001b[0m\u001b[1;33m\u001b[0m\u001b[0m\n\u001b[0m",
      "\u001b[1;32mc:\\Users\\gtreseder\\OneDrive - KPMG\\Documents\\3. Client\\Essential Energy\\Probability of Failure Model\\pof\\pof\\config\\config.py\u001b[0m in \u001b[0;36m<module>\u001b[1;34m\u001b[0m\n\u001b[1;32m----> 1\u001b[1;33m \u001b[1;32mimport\u001b[0m \u001b[0mConfigParser\u001b[0m\u001b[1;33m\u001b[0m\u001b[1;33m\u001b[0m\u001b[0m\n\u001b[0m\u001b[0;32m      2\u001b[0m \u001b[1;32mimport\u001b[0m \u001b[0mio\u001b[0m\u001b[1;33m\u001b[0m\u001b[1;33m\u001b[0m\u001b[0m\n\u001b[0;32m      3\u001b[0m \u001b[1;33m\u001b[0m\u001b[0m\n\u001b[0;32m      4\u001b[0m \u001b[1;31m# Load the configuration file\u001b[0m\u001b[1;33m\u001b[0m\u001b[1;33m\u001b[0m\u001b[1;33m\u001b[0m\u001b[0m\n\u001b[0;32m      5\u001b[0m \u001b[1;32mwith\u001b[0m \u001b[0mopen\u001b[0m\u001b[1;33m(\u001b[0m\u001b[1;34m\"config.ini\"\u001b[0m\u001b[1;33m)\u001b[0m \u001b[1;32mas\u001b[0m \u001b[0mf\u001b[0m\u001b[1;33m:\u001b[0m\u001b[1;33m\u001b[0m\u001b[1;33m\u001b[0m\u001b[0m\n",
      "\u001b[1;31mModuleNotFoundError\u001b[0m: No module named 'ConfigParser'"
     ]
    }
   ],
   "source": [
    "from pof.config import config"
   ]
  },
  {
   "cell_type": "code",
   "execution_count": null,
   "metadata": {},
   "outputs": [],
   "source": []
  }
 ]
}