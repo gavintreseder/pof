{
 "metadata": {
  "language_info": {
   "codemirror_mode": {
    "name": "ipython",
    "version": 3
   },
   "file_extension": ".py",
   "mimetype": "text/x-python",
   "name": "python",
   "nbconvert_exporter": "python",
   "pygments_lexer": "ipython3",
   "version": "3.8.3-final"
  },
  "orig_nbformat": 2,
  "kernelspec": {
   "name": "Python 3.8.3 64-bit ('pof': pipenv)",
   "display_name": "Python 3.8.3 64-bit ('pof': pipenv)",
   "metadata": {
    "interpreter": {
     "hash": "a38ce0f87e5f8a0ab913a5df508d96de373270aa0b3fee915c840273dbdccd07"
    }
   }
  }
 },
 "nbformat": 4,
 "nbformat_minor": 2,
 "cells": [
  {
   "cell_type": "code",
   "execution_count": null,
   "metadata": {
    "tags": []
   },
   "outputs": [],
   "source": [
    "import dash\n",
    "import dash_core_components as dcc\n",
    "import dash_html_components as html\n",
    "from dash.dependencies import Input, Output, State\n",
    "from dash.exceptions import PreventUpdate\n",
    "import time\n",
    "\n",
    "app = dash.Dash(__name__)\n",
    "\n",
    "app.layout = html.Div(\n",
    "    [\n",
    "\t\thtml.Div('Not run', id='div-1'),\n",
    "\t\thtml.Button('Run long process', id='button-1', n_clicks=0),\n",
    "\t\t# this is a hidden div that contains the status of the loop (and functions as the loop itself)\n",
    "\t\thtml.Div(id='status-container', children=html.Div(id='status', children=-1), style={'display': 'none'})\n",
    "     ]\n",
    ")\n",
    "\n",
    "@app.callback(\n",
    "\tOutput('status', 'children'),\n",
    "\t[Input('button-1', 'n_clicks')]\n",
    ")\n",
    "# this callback sets the process in motion by changing the status from -1 to 1\n",
    "def button_clicked(click):\n",
    "\tif not click:\n",
    "\t\traise PreventUpdate\n",
    "\telse:\n",
    "\t\treturn 1\n",
    "\n",
    "@app.callback(\n",
    "\t[Output('status-container', 'children'),\n",
    "\t Output('div-1', 'children')],\n",
    "\t[Input('status', 'children')]\n",
    ")\n",
    "# this callback runs one step of your 10-step process, then triggers itself by increasing the status by 1\n",
    "# since it cannot return as output the div that it uses as input, it returns its container, with the relevant div edited inside\n",
    "def process_run(stage):\n",
    "\tif stage == -1:\n",
    "\t\traise PreventUpdate\n",
    "\t\t\n",
    "\t# run one step of the process\n",
    "\tif stage < 10:\n",
    "\t\ttime.sleep(1)\n",
    "\t\t# return the status container with the message about the end of this iteration\n",
    "\t\treturn html.Div(id='status', children=stage+1), f'Iteration {stage}/10 finished'\n",
    "\t\n",
    "\t# all 10 iterations finished\n",
    "\treturn html.Div(id='status', children=-1), 'Finished.'\n",
    "\n",
    "if __name__ == '__main__':\n",
    "    app.run_server(debug=True)"
   ]
  },
  {
   "cell_type": "code",
   "execution_count": null,
   "metadata": {},
   "outputs": [],
   "source": []
  }
 ]
}