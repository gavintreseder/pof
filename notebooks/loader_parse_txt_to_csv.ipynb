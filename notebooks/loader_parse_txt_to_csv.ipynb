{
 "metadata": {
  "language_info": {
   "codemirror_mode": {
    "name": "ipython",
    "version": 3
   },
   "file_extension": ".py",
   "mimetype": "text/x-python",
   "name": "python",
   "nbconvert_exporter": "python",
   "pygments_lexer": "ipython3",
   "version": "3.8.3-final"
  },
  "orig_nbformat": 2,
  "kernelspec": {
   "name": "Python 3.8.3 64-bit ('pof': pipenv)",
   "display_name": "Python 3.8.3 64-bit ('pof': pipenv)",
   "metadata": {
    "interpreter": {
     "hash": "a38ce0f87e5f8a0ab913a5df508d96de373270aa0b3fee915c840273dbdccd07"
    }
   }
  }
 },
 "nbformat": 4,
 "nbformat_minor": 2,
 "cells": [
  {
   "source": [
    "# Loader - Parse .txt to .csv\n",
    "The purpose of this notebook is to parse some specific .txt files and conver them to .csv"
   ],
   "cell_type": "markdown",
   "metadata": {}
  },
  {
   "cell_type": "code",
   "execution_count": 1,
   "metadata": {},
   "outputs": [],
   "source": [
    "import sys\n",
    "import os\n",
    "sys.path.append(os.path.dirname(os.getcwd()))\n",
    "\n",
    "import dask.dataframe as dd\n",
    "from dask.diagnostics import ProgressBar\n",
    "import numpy as np\n",
    "import pandas as pd"
   ]
  },
  {
   "source": [
    "## Paths\n",
    "The path is to the folder containing the .txt files that need to be converted"
   ],
   "cell_type": "markdown",
   "metadata": {}
  },
  {
   "cell_type": "code",
   "execution_count": null,
   "metadata": {},
   "outputs": [],
   "source": [
    "#path = \"C:\\\\Users\\\\ischram\\\\OneDrive - KPMG\\\\Desktop\\\\Data\\\\\"\n",
    "path  = os.path.dirname(os.path.dirname(os.getcwd())) + \"\\\\inputs\\\\\" # When the inputs are one adjacent to the git folder\n",
    "\n",
    "asset_details = \"ACS - Poles - Asset Details.txt\"\n",
    "condition_history = \"ACS - Poles - Condition History.txt\"\n",
    "consequence_model = \"ACS - Poles - Consequence Model Output.txt\"\n",
    "intervention_history = \"ACS - Poles - Intervention History.csv\""
   ]
  },
  {
   "source": [
    "## Convert the files\n",
    "These scripts have been written to address specific issues in each of the files."
   ],
   "cell_type": "markdown",
   "metadata": {}
  },
  {
   "cell_type": "code",
   "execution_count": 10,
   "metadata": {},
   "outputs": [
    {
     "output_type": "execute_result",
     "data": {
      "text/plain": [
       "'d = dd.read_csv(\\n    path + condition_history,\\n    delimiter=\"\\t\",\\n    blocksize=16 * 1024 * 1024,\\n    dtype={\"After Value\": \"object\", \"Before Value\": \"object\"},\\n)\\n\\nd.to_csv(\\n    path + \"\\\\condition.csv\",\\n    single_file=True,\\n    chunksize=1000,\\n)\\n\\ntxt_chunks = pd.read_csv(\\n    path + consequence_model,\\n    delimiter=\"\\t\",\\n    encoding=\"utf-16\",\\n    chunksize=10000,\\n)\\ndf = pd.concat(chunk for chunk in txt_chunks)\\ndf.to_csv(path + \"\\\\consequence.csv\")'"
      ]
     },
     "metadata": {},
     "execution_count": 10
    }
   ],
   "source": [
    "# Create the progress bar for tracking completion\n",
    "ProgressBar().register()\n",
    "\n",
    "df = dd.read_csv(\n",
    "    path + asset_details,\n",
    "    delimiter=\"\\t\",\n",
    "    blocksize=16 * 1024 * 1024,\n",
    "    dtype={\"Pole Length\": \"object\"},\n",
    ")\n",
    "\n",
    "df.to_csv(path + \"\\\\asset.csv\", single_file=True, chunksize=1000)\n",
    "\n",
    "d = dd.read_csv(\n",
    "    path + condition_history,\n",
    "    delimiter=\"\\t\",\n",
    "    blocksize=16 * 1024 * 1024,\n",
    "    dtype={\"After Value\": \"object\", \"Before Value\": \"object\"},\n",
    ")\n",
    "\n",
    "d.to_csv(\n",
    "    path + \"\\\\condition.csv\",\n",
    "    single_file=True,\n",
    "    chunksize=1000,\n",
    ")\n",
    "\n",
    "txt_chunks = pd.read_csv(\n",
    "    path + consequence_model,\n",
    "    delimiter=\"\\t\",\n",
    "    encoding=\"utf-16\",\n",
    "    chunksize=10000,\n",
    ")\n",
    "df = pd.concat(chunk for chunk in txt_chunks)\n",
    "df.to_csv(path + \"\\\\consequence.csv\")\n",
    "\n",
    "#########################################################"
   ]
  }
 ]
}