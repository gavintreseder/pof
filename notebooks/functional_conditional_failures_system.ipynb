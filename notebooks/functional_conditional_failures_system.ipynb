{
 "metadata": {
  "language_info": {
   "codemirror_mode": {
    "name": "ipython",
    "version": 3
   },
   "file_extension": ".py",
   "mimetype": "text/x-python",
   "name": "python",
   "nbconvert_exporter": "python",
   "pygments_lexer": "ipython3",
   "version": "3.9.0-final"
  },
  "orig_nbformat": 2,
  "kernelspec": {
   "name": "python3",
   "display_name": "Python 3",
   "language": "python"
  }
 },
 "nbformat": 4,
 "nbformat_minor": 2,
 "cells": [
  {
   "cell_type": "code",
   "execution_count": 1,
   "metadata": {},
   "outputs": [],
   "source": [
    "import sys\n",
    "import os\n",
    "sys.path.append(os.path.dirname(os.getcwd()))\n",
    "\n",
    "from pof.system import System\n",
    "from pof.component import Component\n",
    "from pof.failure_mode import FailureMode\n",
    "import pof.demo as demo\n",
    "from pof.loader.asset_model_loader import AssetModelLoader\n",
    "from pof.paths import Paths\n",
    "from pof.data.asset_data import SimpleFleet"
   ]
  },
  {
   "cell_type": "code",
   "execution_count": 2,
   "metadata": {},
   "outputs": [],
   "source": [
    "# Forecast years\n",
    "START_YEAR = 2015\n",
    "END_YEAR = 2024\n",
    "CURRENT_YEAR = 2020\n",
    "\n",
    "paths = Paths()\n",
    "\n",
    "# Population Data\n",
    "file_path = paths.input_path + os.sep\n",
    "FILE_NAME = r\"population_summary.csv\"\n",
    "\n",
    "sfd = SimpleFleet(file_path + FILE_NAME)\n",
    "sfd.load()\n",
    "sfd.calc_age_forecast(START_YEAR, END_YEAR, CURRENT_YEAR);"
   ]
  },
  {
   "cell_type": "code",
   "execution_count": 3,
   "metadata": {},
   "outputs": [
    {
     "output_type": "stream",
     "name": "stderr",
     "text": [
      "WARNING:root:Invalid Data () - {'task': 'inspection', 'level_of_repair': 'as_bad_as_old', 'admin': 'yes', 'maint': 'no', 'travel': 'yes'}\n",
      "WARNING:root:t_interval will be scaled to the nearest integer - 4.5\n",
      "WARNING:root:Invalid Data () - {'task': 'repair', 'level_of_repair': 'grp'}\n",
      "WARNING:root:Invalid Data () - {'task': 'replace', 'level_of_repair': 'as_good_as_new'}\n",
      "WARNING:root:Invalid Data () - {'task': 'replace', 'level_of_repair': 'as_good_as_new'}\n",
      "WARNING:root:Invalid Data () - {'task': 'inspection', 'admin': 'yes', 'maint': 'no', 'travel': 'yes'}\n",
      "WARNING:root:t_interval will be scaled to the nearest integer - 4.5\n",
      "WARNING:root:Invalid Data () - {'task': 'replace', 'level_of_repair': 'as_good_as_new'}\n",
      "WARNING:root:Invalid Data () - {'task': 'replace', 'level_of_repair': 'as_good_as_new'}\n",
      "WARNING:root:Invalid Data () - {'task': 'inspection', 'level_of_repair': 'as_bad_as_old', 'admin': 'yes', 'maint': 'no', 'travel': 'yes'}\n",
      "WARNING:root:t_interval will be scaled to the nearest integer - 4.5\n",
      "WARNING:root:Invalid Data () - {'task': 'repair', 'level_of_repair': 'as_bad_as_old'}\n",
      "WARNING:root:Invalid Data () - {'task': 'replace', 'level_of_repair': 'as_good_as_new'}\n",
      "WARNING:root:Invalid Data () - {'task': 'replace', 'level_of_repair': 'as_good_as_new'}\n",
      "WARNING:root:Invalid Data () - {'task': 'inspection', 'level_of_repair': 'as_bad_as_old'}\n",
      "WARNING:root:t_interval will be scaled to the nearest integer - 4.5\n",
      "WARNING:root:Invalid Data () - {'task': 'inspection', 'admin': 'yes', 'maint': 'no', 'travel': 'yes'}\n",
      "WARNING:root:Invalid Data () - {'task': 'replace', 'level_of_repair': 'as_good_as_new'}\n",
      "WARNING:root:Invalid Data () - {'task': 'inspection', 'level_of_repair': 'as_bad_as_old'}\n",
      "WARNING:root:Invalid Data () - {'task': 'replace', 'level_of_repair': 'as_good_as_new'}\n",
      "WARNING:root:Invalid Data () - {'task': 'inspection', 'level_of_repair': 'as_bad_as_old'}\n",
      "WARNING:root:Invalid Data () - {'task': 'replace', 'level_of_repair': 'as_good_as_new'}\n",
      "WARNING:root:Invalid Data () - {'task': 'inspection'}\n",
      "WARNING:root:t_interval will be scaled to the nearest integer - 4.5\n",
      "WARNING:root:Invalid Data () - {'task': 'replace', 'level_of_repair': 'as_good_as_new'}\n",
      "WARNING:root:Invalid Data () - {'task': 'replace', 'level_of_repair': 'as_good_as_new'}\n",
      "WARNING:root:Invalid Data () - {'task': 'inspection', 'level_of_repair': 'as_bad_as_old', 'admin': 'yes', 'maint': 'no', 'travel': 'yes'}\n",
      "WARNING:root:t_interval will be scaled to the nearest integer - 4.5\n",
      "WARNING:root:Invalid Data () - {'task': 'replace', 'level_of_repair': 'as_good_as_new'}\n",
      "WARNING:root:Invalid Data () - {'task': 'replace', 'level_of_repair': 'as_good_as_new'}\n",
      "WARNING:root:Invalid Data () - {'task': 'modify', 'admin': 'no', 'maint': 'no', 'travel': 'no'}\n"
     ]
    }
   ],
   "source": [
    "aml = AssetModelLoader(paths.demo_path + os.sep + \"Asset Model.xlsx\")\n",
    "sys_data = aml.load(paths.demo_path + os.sep + \"Asset Model.xlsx\")\n",
    "sys = System.from_dict(sys_data[\"overhead_network\"])\n",
    "sys.fleet_data = sfd"
   ]
  },
  {
   "cell_type": "code",
   "execution_count": 4,
   "metadata": {},
   "outputs": [],
   "source": [
    "t_end = 100\n",
    "n_iterations = 100"
   ]
  },
  {
   "cell_type": "code",
   "execution_count": 5,
   "metadata": {},
   "outputs": [],
   "source": [
    "# Turn failure modes on & off\n",
    "\n",
    "components_on = [\"pole\"]\n",
    "failure_modes_on = [\"termites\", \"fungal decay | internal\"]\n",
    "tasks_off = ['pole_saver_rod']\n",
    "\n",
    "for comp in sys.comp.values():\n",
    "    if comp.name not in components_on:\n",
    "        comp.active = False\n",
    "    else:\n",
    "        comp.active = True\n",
    "    for fm in comp.fm.values():\n",
    "        if fm.name not in failure_modes_on:\n",
    "            fm.active = False\n",
    "        else:\n",
    "            fm.active = True\n",
    "\n",
    "        for task in fm.tasks.values():\n",
    "            if task.name in tasks_off:\n",
    "                task.active = False\n",
    "            else:\n",
    "                task.active = True"
   ]
  },
  {
   "cell_type": "code",
   "execution_count": 6,
   "metadata": {},
   "outputs": [],
   "source": [
    "sys.comp[\"pole\"].fm['fungal decay | internal'].tasks['inspection_groundline'].p_effective = 1"
   ]
  },
  {
   "cell_type": "code",
   "execution_count": 7,
   "metadata": {},
   "outputs": [
    {
     "output_type": "stream",
     "name": "stderr",
     "text": [
      "100%|██████████| 100/100 [00:00<00:00, 172.11it/s]\n"
     ]
    }
   ],
   "source": [
    "sys.mc_timeline(t_end=t_end, n_iterations=n_iterations)"
   ]
  },
  {
   "cell_type": "code",
   "execution_count": 8,
   "metadata": {},
   "outputs": [
    {
     "output_type": "execute_result",
     "data": {
      "text/plain": [
       "               failure_mode                   task  active time quantity cost  \\\n",
       "28                 termites                   risk    True    0        0    0   \n",
       "29  fungal decay | external                   risk   False    0        0    0   \n",
       "30  fungal decay | internal                   risk    True    0        0    0   \n",
       "31                lightning                   risk   False    0        0    0   \n",
       "32               weathering                   risk   False    0        0    0   \n",
       "33              fire_damage                   risk   False    0        0    0   \n",
       "34                   impact                   risk   False    0        0    0   \n",
       "14                 termites    conditional_failure    True    0        0    0   \n",
       "15  fungal decay | external    conditional_failure   False    0        0    0   \n",
       "16  fungal decay | internal    conditional_failure    True    0        0    0   \n",
       "18               weathering    conditional_failure   False    0        0    0   \n",
       "21                 termites     functional_failure    True    0        0    0   \n",
       "22  fungal decay | external     functional_failure   False    0        0    0   \n",
       "23  fungal decay | internal     functional_failure    True    0        0    0   \n",
       "24                lightning     functional_failure   False    0        0    0   \n",
       "25               weathering     functional_failure   False    0        0    0   \n",
       "26              fire_damage     functional_failure   False    0        0    0   \n",
       "27                   impact     functional_failure   False    0        0    0   \n",
       "0                  termites  inspection_groundline    True    0        0    0   \n",
       "1   fungal decay | external  inspection_groundline   False    0        0    0   \n",
       "2   fungal decay | internal  inspection_groundline    True    0        0    0   \n",
       "3                 lightning  inspection_groundline   False    0        0    0   \n",
       "4                weathering  inspection_groundline   False    0        0    0   \n",
       "45                lightning  inspection_protection   False    0        0    0   \n",
       "47              fire_damage  inspection_protection   False    0        0    0   \n",
       "48                   impact  inspection_protection   False    0        0    0   \n",
       "37  fungal decay | internal         pole_saver_rod   False    0        0    0   \n",
       "7                  termites      termite_treatment    True    0        0    0   \n",
       "\n",
       "   cost_cumulative cost_annual quantity_cumulative quantity_annual  comp  \n",
       "28               0         NaN                   0             NaN  pole  \n",
       "29               0         NaN                   0             NaN  pole  \n",
       "30               0         NaN                   0             NaN  pole  \n",
       "31               0         NaN                   0             NaN  pole  \n",
       "32               0         NaN                   0             NaN  pole  \n",
       "33               0         NaN                   0             NaN  pole  \n",
       "34               0         NaN                   0             NaN  pole  \n",
       "14               0         NaN                   0             NaN  pole  \n",
       "15               0         NaN                   0             NaN  pole  \n",
       "16               0         NaN                   0             NaN  pole  \n",
       "18               0         NaN                   0             NaN  pole  \n",
       "21               0         NaN                   0             NaN  pole  \n",
       "22               0         NaN                   0             NaN  pole  \n",
       "23               0         NaN                   0             NaN  pole  \n",
       "24               0         NaN                   0             NaN  pole  \n",
       "25               0         NaN                   0             NaN  pole  \n",
       "26               0         NaN                   0             NaN  pole  \n",
       "27               0         NaN                   0             NaN  pole  \n",
       "0                0         NaN                   0             NaN  pole  \n",
       "1                0         NaN                   0             NaN  pole  \n",
       "2                0         NaN                   0             NaN  pole  \n",
       "3                0         NaN                   0             NaN  pole  \n",
       "4                0         NaN                   0             NaN  pole  \n",
       "45               0         NaN                   0             NaN  pole  \n",
       "47               0         NaN                   0             NaN  pole  \n",
       "48               0         NaN                   0             NaN  pole  \n",
       "37               0         NaN                   0             NaN  pole  \n",
       "7                0         NaN                   0             NaN  pole  "
      ],
      "text/html": "<div>\n<style scoped>\n    .dataframe tbody tr th:only-of-type {\n        vertical-align: middle;\n    }\n\n    .dataframe tbody tr th {\n        vertical-align: top;\n    }\n\n    .dataframe thead th {\n        text-align: right;\n    }\n</style>\n<table border=\"1\" class=\"dataframe\">\n  <thead>\n    <tr style=\"text-align: right;\">\n      <th></th>\n      <th>failure_mode</th>\n      <th>task</th>\n      <th>active</th>\n      <th>time</th>\n      <th>quantity</th>\n      <th>cost</th>\n      <th>cost_cumulative</th>\n      <th>cost_annual</th>\n      <th>quantity_cumulative</th>\n      <th>quantity_annual</th>\n      <th>comp</th>\n    </tr>\n  </thead>\n  <tbody>\n    <tr>\n      <th>28</th>\n      <td>termites</td>\n      <td>risk</td>\n      <td>True</td>\n      <td>0</td>\n      <td>0</td>\n      <td>0</td>\n      <td>0</td>\n      <td>NaN</td>\n      <td>0</td>\n      <td>NaN</td>\n      <td>pole</td>\n    </tr>\n    <tr>\n      <th>29</th>\n      <td>fungal decay | external</td>\n      <td>risk</td>\n      <td>False</td>\n      <td>0</td>\n      <td>0</td>\n      <td>0</td>\n      <td>0</td>\n      <td>NaN</td>\n      <td>0</td>\n      <td>NaN</td>\n      <td>pole</td>\n    </tr>\n    <tr>\n      <th>30</th>\n      <td>fungal decay | internal</td>\n      <td>risk</td>\n      <td>True</td>\n      <td>0</td>\n      <td>0</td>\n      <td>0</td>\n      <td>0</td>\n      <td>NaN</td>\n      <td>0</td>\n      <td>NaN</td>\n      <td>pole</td>\n    </tr>\n    <tr>\n      <th>31</th>\n      <td>lightning</td>\n      <td>risk</td>\n      <td>False</td>\n      <td>0</td>\n      <td>0</td>\n      <td>0</td>\n      <td>0</td>\n      <td>NaN</td>\n      <td>0</td>\n      <td>NaN</td>\n      <td>pole</td>\n    </tr>\n    <tr>\n      <th>32</th>\n      <td>weathering</td>\n      <td>risk</td>\n      <td>False</td>\n      <td>0</td>\n      <td>0</td>\n      <td>0</td>\n      <td>0</td>\n      <td>NaN</td>\n      <td>0</td>\n      <td>NaN</td>\n      <td>pole</td>\n    </tr>\n    <tr>\n      <th>33</th>\n      <td>fire_damage</td>\n      <td>risk</td>\n      <td>False</td>\n      <td>0</td>\n      <td>0</td>\n      <td>0</td>\n      <td>0</td>\n      <td>NaN</td>\n      <td>0</td>\n      <td>NaN</td>\n      <td>pole</td>\n    </tr>\n    <tr>\n      <th>34</th>\n      <td>impact</td>\n      <td>risk</td>\n      <td>False</td>\n      <td>0</td>\n      <td>0</td>\n      <td>0</td>\n      <td>0</td>\n      <td>NaN</td>\n      <td>0</td>\n      <td>NaN</td>\n      <td>pole</td>\n    </tr>\n    <tr>\n      <th>14</th>\n      <td>termites</td>\n      <td>conditional_failure</td>\n      <td>True</td>\n      <td>0</td>\n      <td>0</td>\n      <td>0</td>\n      <td>0</td>\n      <td>NaN</td>\n      <td>0</td>\n      <td>NaN</td>\n      <td>pole</td>\n    </tr>\n    <tr>\n      <th>15</th>\n      <td>fungal decay | external</td>\n      <td>conditional_failure</td>\n      <td>False</td>\n      <td>0</td>\n      <td>0</td>\n      <td>0</td>\n      <td>0</td>\n      <td>NaN</td>\n      <td>0</td>\n      <td>NaN</td>\n      <td>pole</td>\n    </tr>\n    <tr>\n      <th>16</th>\n      <td>fungal decay | internal</td>\n      <td>conditional_failure</td>\n      <td>True</td>\n      <td>0</td>\n      <td>0</td>\n      <td>0</td>\n      <td>0</td>\n      <td>NaN</td>\n      <td>0</td>\n      <td>NaN</td>\n      <td>pole</td>\n    </tr>\n    <tr>\n      <th>18</th>\n      <td>weathering</td>\n      <td>conditional_failure</td>\n      <td>False</td>\n      <td>0</td>\n      <td>0</td>\n      <td>0</td>\n      <td>0</td>\n      <td>NaN</td>\n      <td>0</td>\n      <td>NaN</td>\n      <td>pole</td>\n    </tr>\n    <tr>\n      <th>21</th>\n      <td>termites</td>\n      <td>functional_failure</td>\n      <td>True</td>\n      <td>0</td>\n      <td>0</td>\n      <td>0</td>\n      <td>0</td>\n      <td>NaN</td>\n      <td>0</td>\n      <td>NaN</td>\n      <td>pole</td>\n    </tr>\n    <tr>\n      <th>22</th>\n      <td>fungal decay | external</td>\n      <td>functional_failure</td>\n      <td>False</td>\n      <td>0</td>\n      <td>0</td>\n      <td>0</td>\n      <td>0</td>\n      <td>NaN</td>\n      <td>0</td>\n      <td>NaN</td>\n      <td>pole</td>\n    </tr>\n    <tr>\n      <th>23</th>\n      <td>fungal decay | internal</td>\n      <td>functional_failure</td>\n      <td>True</td>\n      <td>0</td>\n      <td>0</td>\n      <td>0</td>\n      <td>0</td>\n      <td>NaN</td>\n      <td>0</td>\n      <td>NaN</td>\n      <td>pole</td>\n    </tr>\n    <tr>\n      <th>24</th>\n      <td>lightning</td>\n      <td>functional_failure</td>\n      <td>False</td>\n      <td>0</td>\n      <td>0</td>\n      <td>0</td>\n      <td>0</td>\n      <td>NaN</td>\n      <td>0</td>\n      <td>NaN</td>\n      <td>pole</td>\n    </tr>\n    <tr>\n      <th>25</th>\n      <td>weathering</td>\n      <td>functional_failure</td>\n      <td>False</td>\n      <td>0</td>\n      <td>0</td>\n      <td>0</td>\n      <td>0</td>\n      <td>NaN</td>\n      <td>0</td>\n      <td>NaN</td>\n      <td>pole</td>\n    </tr>\n    <tr>\n      <th>26</th>\n      <td>fire_damage</td>\n      <td>functional_failure</td>\n      <td>False</td>\n      <td>0</td>\n      <td>0</td>\n      <td>0</td>\n      <td>0</td>\n      <td>NaN</td>\n      <td>0</td>\n      <td>NaN</td>\n      <td>pole</td>\n    </tr>\n    <tr>\n      <th>27</th>\n      <td>impact</td>\n      <td>functional_failure</td>\n      <td>False</td>\n      <td>0</td>\n      <td>0</td>\n      <td>0</td>\n      <td>0</td>\n      <td>NaN</td>\n      <td>0</td>\n      <td>NaN</td>\n      <td>pole</td>\n    </tr>\n    <tr>\n      <th>0</th>\n      <td>termites</td>\n      <td>inspection_groundline</td>\n      <td>True</td>\n      <td>0</td>\n      <td>0</td>\n      <td>0</td>\n      <td>0</td>\n      <td>NaN</td>\n      <td>0</td>\n      <td>NaN</td>\n      <td>pole</td>\n    </tr>\n    <tr>\n      <th>1</th>\n      <td>fungal decay | external</td>\n      <td>inspection_groundline</td>\n      <td>False</td>\n      <td>0</td>\n      <td>0</td>\n      <td>0</td>\n      <td>0</td>\n      <td>NaN</td>\n      <td>0</td>\n      <td>NaN</td>\n      <td>pole</td>\n    </tr>\n    <tr>\n      <th>2</th>\n      <td>fungal decay | internal</td>\n      <td>inspection_groundline</td>\n      <td>True</td>\n      <td>0</td>\n      <td>0</td>\n      <td>0</td>\n      <td>0</td>\n      <td>NaN</td>\n      <td>0</td>\n      <td>NaN</td>\n      <td>pole</td>\n    </tr>\n    <tr>\n      <th>3</th>\n      <td>lightning</td>\n      <td>inspection_groundline</td>\n      <td>False</td>\n      <td>0</td>\n      <td>0</td>\n      <td>0</td>\n      <td>0</td>\n      <td>NaN</td>\n      <td>0</td>\n      <td>NaN</td>\n      <td>pole</td>\n    </tr>\n    <tr>\n      <th>4</th>\n      <td>weathering</td>\n      <td>inspection_groundline</td>\n      <td>False</td>\n      <td>0</td>\n      <td>0</td>\n      <td>0</td>\n      <td>0</td>\n      <td>NaN</td>\n      <td>0</td>\n      <td>NaN</td>\n      <td>pole</td>\n    </tr>\n    <tr>\n      <th>45</th>\n      <td>lightning</td>\n      <td>inspection_protection</td>\n      <td>False</td>\n      <td>0</td>\n      <td>0</td>\n      <td>0</td>\n      <td>0</td>\n      <td>NaN</td>\n      <td>0</td>\n      <td>NaN</td>\n      <td>pole</td>\n    </tr>\n    <tr>\n      <th>47</th>\n      <td>fire_damage</td>\n      <td>inspection_protection</td>\n      <td>False</td>\n      <td>0</td>\n      <td>0</td>\n      <td>0</td>\n      <td>0</td>\n      <td>NaN</td>\n      <td>0</td>\n      <td>NaN</td>\n      <td>pole</td>\n    </tr>\n    <tr>\n      <th>48</th>\n      <td>impact</td>\n      <td>inspection_protection</td>\n      <td>False</td>\n      <td>0</td>\n      <td>0</td>\n      <td>0</td>\n      <td>0</td>\n      <td>NaN</td>\n      <td>0</td>\n      <td>NaN</td>\n      <td>pole</td>\n    </tr>\n    <tr>\n      <th>37</th>\n      <td>fungal decay | internal</td>\n      <td>pole_saver_rod</td>\n      <td>False</td>\n      <td>0</td>\n      <td>0</td>\n      <td>0</td>\n      <td>0</td>\n      <td>NaN</td>\n      <td>0</td>\n      <td>NaN</td>\n      <td>pole</td>\n    </tr>\n    <tr>\n      <th>7</th>\n      <td>termites</td>\n      <td>termite_treatment</td>\n      <td>True</td>\n      <td>0</td>\n      <td>0</td>\n      <td>0</td>\n      <td>0</td>\n      <td>NaN</td>\n      <td>0</td>\n      <td>NaN</td>\n      <td>pole</td>\n    </tr>\n  </tbody>\n</table>\n</div>"
     },
     "metadata": {},
     "execution_count": 8
    }
   ],
   "source": [
    "sys.expected_risk_cost_df()\n",
    "\n",
    "sys.df_erc[sys.df_erc[\"quantity\"] > 0];\n",
    "\n",
    "sys.df_erc;"
   ]
  },
  {
   "cell_type": "code",
   "execution_count": 9,
   "metadata": {},
   "outputs": [],
   "source": [
    "comps_to_check = [\"pole\"]\n",
    "fms_to_check = [\"termites\", \"fungal decay | internal\"]\n",
    "tasks_to_check = [\"conditional_failure\", \"functional_failure\"]"
   ]
  },
  {
   "cell_type": "code",
   "execution_count": 10,
   "metadata": {},
   "outputs": [
    {
     "output_type": "execute_result",
     "data": {
      "text/plain": [
       "{4: {'fm': 'termites', 'task': 'functional_failure'},\n",
       " 5: {'fm': 'fungal decay | internal', 'task': 'functional_failure'},\n",
       " 15: {'fm': 'termites', 'task': 'functional_failure'},\n",
       " 16: {'fm': 'fungal decay | internal', 'task': 'functional_failure'},\n",
       " 18: {'fm': 'fungal decay | internal', 'task': 'functional_failure'},\n",
       " 19: {'fm': 'fungal decay | internal', 'task': 'functional_failure'},\n",
       " 23: {'fm': 'termites', 'task': 'functional_failure'},\n",
       " 25: {'fm': 'termites', 'task': 'functional_failure'},\n",
       " 26: {'fm': 'termites', 'task': 'functional_failure'},\n",
       " 28: {'fm': 'fungal decay | internal', 'task': 'functional_failure'},\n",
       " 39: {'fm': 'termites', 'task': 'functional_failure'},\n",
       " 42: {'fm': 'termites', 'task': 'functional_failure'},\n",
       " 43: {'fm': 'fungal decay | internal', 'task': 'functional_failure'},\n",
       " 50: {'fm': 'termites', 'task': 'functional_failure'},\n",
       " 52: {'fm': 'fungal decay | internal', 'task': 'functional_failure'},\n",
       " 56: {'fm': 'termites', 'task': 'functional_failure'},\n",
       " 59: {'fm': 'termites', 'task': 'functional_failure'},\n",
       " 62: {'fm': 'termites', 'task': 'functional_failure'},\n",
       " 64: {'fm': 'fungal decay | internal', 'task': 'functional_failure'},\n",
       " 65: {'fm': 'termites', 'task': 'functional_failure'},\n",
       " 66: {'fm': 'termites', 'task': 'functional_failure'},\n",
       " 70: {'fm': 'termites', 'task': 'functional_failure'},\n",
       " 72: {'fm': 'fungal decay | internal', 'task': 'functional_failure'},\n",
       " 74: {'fm': 'fungal decay | internal', 'task': 'functional_failure'},\n",
       " 75: {'fm': 'termites', 'task': 'functional_failure'},\n",
       " 81: {'fm': 'fungal decay | internal', 'task': 'functional_failure'},\n",
       " 82: {'fm': 'termites', 'task': 'functional_failure'},\n",
       " 85: {'fm': 'fungal decay | internal', 'task': 'functional_failure'},\n",
       " 87: {'fm': 'fungal decay | internal', 'task': 'functional_failure'},\n",
       " 91: {'fm': 'fungal decay | internal', 'task': 'functional_failure'},\n",
       " 92: {'fm': 'termites', 'task': 'functional_failure'},\n",
       " 94: {'fm': 'termites', 'task': 'functional_failure'},\n",
       " 95: {'fm': 'termites', 'task': 'functional_failure'},\n",
       " 98: {'fm': 'fungal decay | internal', 'task': 'functional_failure'},\n",
       " 2: {'fm': 'fungal decay | internal', 'task': 'functional_failure'},\n",
       " 6: {'fm': 'fungal decay | internal', 'task': 'functional_failure'},\n",
       " 9: {'fm': 'fungal decay | internal', 'task': 'functional_failure'},\n",
       " 12: {'fm': 'fungal decay | internal', 'task': 'functional_failure'},\n",
       " 21: {'fm': 'fungal decay | internal', 'task': 'functional_failure'},\n",
       " 24: {'fm': 'fungal decay | internal', 'task': 'functional_failure'},\n",
       " 30: {'fm': 'fungal decay | internal', 'task': 'functional_failure'},\n",
       " 31: {'fm': 'fungal decay | internal', 'task': 'functional_failure'},\n",
       " 38: {'fm': 'fungal decay | internal', 'task': 'functional_failure'},\n",
       " 44: {'fm': 'fungal decay | internal', 'task': 'functional_failure'},\n",
       " 45: {'fm': 'fungal decay | internal', 'task': 'functional_failure'},\n",
       " 48: {'fm': 'fungal decay | internal', 'task': 'functional_failure'},\n",
       " 53: {'fm': 'fungal decay | internal', 'task': 'functional_failure'},\n",
       " 55: {'fm': 'fungal decay | internal', 'task': 'functional_failure'},\n",
       " 58: {'fm': 'fungal decay | internal', 'task': 'functional_failure'},\n",
       " 63: {'fm': 'fungal decay | internal', 'task': 'functional_failure'},\n",
       " 68: {'fm': 'fungal decay | internal', 'task': 'functional_failure'},\n",
       " 78: {'fm': 'fungal decay | internal', 'task': 'functional_failure'},\n",
       " 83: {'fm': 'fungal decay | internal', 'task': 'functional_failure'},\n",
       " 88: {'fm': 'fungal decay | internal', 'task': 'functional_failure'},\n",
       " 96: {'fm': 'fungal decay | internal', 'task': 'functional_failure'},\n",
       " 97: {'fm': 'fungal decay | internal', 'task': 'functional_failure'}}"
      ]
     },
     "metadata": {},
     "execution_count": 10
    }
   ],
   "source": [
    "dict_index = dict()\n",
    "\n",
    "for comp_name, comp in sys.comp.items():\n",
    "    if comp_name in comps_to_check:\n",
    "        for fm_name, fm in comp.fm.items():\n",
    "            if fm_name in fms_to_check:\n",
    "                for index, timeline in fm._timelines.items():\n",
    "                    for task_name in tasks_to_check:\n",
    "                        if 0 in timeline[task_name]: \n",
    "                            dict_index[index] = {\"fm\":fm_name, \"task\":task_name}\n",
    "\n",
    "dict_index;"
   ]
  },
  {
   "cell_type": "code",
   "execution_count": 11,
   "metadata": {},
   "outputs": [
    {
     "output_type": "execute_result",
     "data": {
      "text/plain": [
       "{'time': array([  0,   1,   2,   3,   4,   5,   6,   7,   8,   9,  10,  11,  12,\n",
       "         13,  14,  15,  16,  17,  18,  19,  20,  21,  22,  23,  24,  25,\n",
       "         26,  27,  28,  29,  30,  31,  32,  33,  34,  35,  36,  37,  38,\n",
       "         39,  40,  41,  42,  43,  44,  45,  46,  47,  48,  49,  50,  51,\n",
       "         52,  53,  54,  55,  56,  57,  58,  59,  60,  61,  62,  63,  64,\n",
       "         65,  66,  67,  68,  69,  70,  71,  72,  73,  74,  75,  76,  77,\n",
       "         78,  79,  80,  81,  82,  83,  84,  85,  86,  87,  88,  89,  90,\n",
       "         91,  92,  93,  94,  95,  96,  97,  98,  99, 100]),\n",
       " 'initiation': array([False, False, False, False, False, False, False, False, False,\n",
       "        False, False, False, False, False, False, False, False, False,\n",
       "        False, False, False, False, False, False, False, False, False,\n",
       "         True,  True,  True,  True,  True,  True,  True,  True,  True,\n",
       "         True,  True,  True,  True,  True,  True,  True,  True,  True,\n",
       "         True,  True,  True,  True,  True,  True,  True,  True,  True,\n",
       "         True,  True,  True,  True,  True,  True,  True,  True,  True,\n",
       "         True,  True,  True,  True,  True,  True,  True,  True,  True,\n",
       "         True,  True,  True,  True,  True,  True,  True,  True,  True,\n",
       "         True,  True,  True,  True,  True,  True,  True,  True,  True,\n",
       "         True,  True,  True,  True,  True,  True,  True,  True,  True,\n",
       "         True,  True]),\n",
       " 'detection': array([False, False, False, False, False, False, False, False, False,\n",
       "        False, False, False, False, False, False, False, False, False,\n",
       "        False, False, False, False, False, False, False, False, False,\n",
       "        False, False, False, False, False, False, False, False, False,\n",
       "        False, False, False, False, False, False, False, False, False,\n",
       "        False, False, False, False, False, False, False, False, False,\n",
       "        False, False, False, False, False, False, False, False, False,\n",
       "        False, False, False, False, False, False, False, False, False,\n",
       "        False, False, False, False, False, False, False, False, False,\n",
       "        False, False, False, False, False, False, False, False, False,\n",
       "        False, False, False, False, False, False, False, False, False,\n",
       "        False, False]),\n",
       " 'failure': array([False, False, False, False, False, False, False, False, False,\n",
       "        False, False, False, False, False, False, False, False, False,\n",
       "        False, False, False, False, False, False, False, False, False,\n",
       "        False, False, False, False, False, False, False, False, False,\n",
       "        False, False, False, False, False, False, False,  True,  True,\n",
       "         True,  True,  True,  True,  True,  True,  True,  True,  True,\n",
       "         True,  True,  True,  True,  True,  True,  True,  True,  True,\n",
       "         True,  True,  True,  True,  True,  True,  True,  True,  True,\n",
       "         True,  True,  True,  True,  True,  True,  True,  True,  True,\n",
       "         True,  True,  True,  True,  True,  True,  True,  True,  True,\n",
       "         True,  True,  True,  True,  True,  True,  True,  True,  True,\n",
       "         True,  True]),\n",
       " 'wall_thickness': array([125, 125, 125, 125, 125, 125, 125, 125, 125, 125, 125, 125, 125,\n",
       "        125, 125, 125, 125, 125, 125, 125, 125, 125, 125, 125, 125, 125,\n",
       "        125, 125, 118, 111, 105,  98,  92,  85,  79,  72,  65,  59,  52,\n",
       "         46,  39,  33,  26,  20,  20,  20,  20,  20,  20,  20,  20,  20,\n",
       "         20,  20,  20,  20,  20,  20,  20,  20,  20,  20,  20,  20,  20,\n",
       "         20,  20,  20,  20,  20,  20,  20,  20,  20,  20,  20,  20,  20,\n",
       "         20,  20,  20,  20,  20,  20,  20,  20,  20,  20,  20,  20,  20,\n",
       "         20,  20,  20,  20,  20,  20,  20,  20,  20,  20]),\n",
       " 'external_diameter': array([250, 250, 250, 250, 250, 250, 250, 250, 250, 250, 250, 250, 250,\n",
       "        250, 250, 250, 250, 250, 250, 250, 250, 250, 250, 250, 250, 250,\n",
       "        250, 250, 250, 250, 250, 250, 250, 250, 250, 250, 250, 250, 250,\n",
       "        250, 250, 250, 250, 250, 250, 250, 250, 250, 250, 250, 250, 250,\n",
       "        250, 250, 250, 250, 250, 250, 250, 250, 250, 250, 250, 250, 250,\n",
       "        250, 250, 250, 250, 250, 250, 250, 250, 250, 250, 250, 250, 250,\n",
       "        250, 250, 250, 250, 250, 250, 250, 250, 250, 250, 250, 250, 250,\n",
       "        250, 250, 250, 250, 250, 250, 250, 250, 250, 250]),\n",
       " 'safety_factor': array([4, 4, 4, 4, 4, 4, 4, 4, 4, 4, 4, 4, 4, 4, 4, 4, 4, 4, 4, 4, 4, 4,\n",
       "        4, 4, 4, 4, 4, 4, 3, 3, 3, 3, 3, 3, 3, 3, 3, 3, 3, 3, 3, 2, 2, 2,\n",
       "        2, 2, 2, 2, 2, 2, 2, 2, 2, 2, 2, 2, 2, 2, 2, 2, 2, 2, 2, 2, 2, 2,\n",
       "        2, 2, 2, 2, 2, 2, 2, 2, 2, 2, 2, 2, 2, 2, 2, 2, 2, 2, 2, 2, 2, 2,\n",
       "        2, 2, 2, 2, 2, 2, 2, 2, 2, 2, 2, 1, 1]),\n",
       " 'inspection_groundline': array([20, 19, 18, 17, 16, 15, 14, 13, 12, 11, 10,  9,  8,  7,  6,  5,  4,\n",
       "         3,  2,  1,  0,  3,  2,  1,  0,  3,  2,  1,  0,  3,  2,  1,  0,  3,\n",
       "         2,  1,  0,  3,  2,  1,  0,  3,  2,  1,  0,  3,  2,  1,  0,  3,  2,\n",
       "         1,  0,  3,  2,  1,  0,  3,  2,  1,  0,  3,  2,  1,  0,  3,  2,  1,\n",
       "         0,  3,  2,  1,  0,  3,  2,  1,  0,  3,  2,  1,  0,  3,  2,  1,  0,\n",
       "         3,  2,  1,  0,  3,  2,  1,  0,  3,  2,  1,  0,  3,  2,  1,  0]),\n",
       " 'pole_saver_rod': array([-1, -1, -1, -1, -1, -1, -1, -1, -1, -1, -1, -1, -1, -1, -1, -1, -1,\n",
       "        -1, -1, -1, -1, -1, -1, -1, -1, -1, -1, -1, -1, -1, -1, -1, -1, -1,\n",
       "        -1, -1, -1, -1, -1, -1, -1, -1, -1, -1, -1, -1, -1, -1, -1, -1, -1,\n",
       "        -1, -1, -1, -1, -1, -1, -1, -1, -1, -1, -1, -1, -1, -1, -1, -1, -1,\n",
       "        -1, -1, -1, -1, -1, -1, -1, -1, -1, -1, -1, -1, -1, -1, -1, -1, -1,\n",
       "        -1, -1, -1, -1, -1, -1, -1, -1, -1, -1, -1, -1, -1, -1, -1, -1]),\n",
       " 'conditional_failure': array([-1, -1, -1, -1, -1, -1, -1, -1, -1, -1, -1, -1, -1, -1, -1, -1, -1,\n",
       "        -1, -1, -1, -1, -1, -1, -1, -1, -1, -1, -1, -1, -1, -1, -1, -1, -1,\n",
       "        -1, -1, -1, -1, -1, -1, -1, -1, -1, -1, -1, -1, -1, -1, -1, -1, -1,\n",
       "        -1, -1, -1, -1, -1, -1, -1, -1, -1, -1, -1, -1, -1, -1, -1, -1, -1,\n",
       "        -1, -1, -1, -1, -1, -1, -1, -1, -1, -1, -1, -1, -1, -1, -1, -1, -1,\n",
       "        -1, -1, -1, -1, -1, -1, -1, -1, -1, -1, -1, -1, -1, -1, -1, -1]),\n",
       " 'functional_failure': array([-1, -1, -1, -1, -1, -1, -1, -1, -1, -1, -1, -1, -1, -1, -1, -1, -1,\n",
       "        -1, -1, -1, -1, -1, -1, -1, -1, -1, -1, -1, -1, -1, -1, -1, -1, -1,\n",
       "        -1, -1, -1, -1, -1, -1, -1, -1, -1,  0,  0,  0,  0,  0,  0,  0,  0,\n",
       "         0,  0,  0,  0,  0,  0,  0,  0,  0,  0,  0,  0,  0,  0,  0,  0,  0,\n",
       "         0,  0,  0,  0,  0,  0,  0,  0,  0,  0,  0,  0,  0,  0,  0,  0,  0,\n",
       "         0,  0,  0,  0,  0,  0,  0,  0,  0,  0,  0,  0,  0,  0,  0,  0])}"
      ]
     },
     "metadata": {},
     "execution_count": 11
    }
   ],
   "source": [
    "sys.comp[\"pole\"].fm[\"fungal decay | internal\"]._timelines[97];"
   ]
  },
  {
   "cell_type": "code",
   "execution_count": null,
   "metadata": {},
   "outputs": [],
   "source": []
  }
 ]
}