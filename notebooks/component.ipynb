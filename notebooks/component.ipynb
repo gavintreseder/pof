{
 "cells": [
  {
   "cell_type": "markdown",
   "metadata": {},
   "source": [
    "# Component Demonstration Notebook\n",
    "\n",
    "A notebook to demonstrate some of the features of the Component class\n",
    "\n",
    "Author: gavin.treseder@essentialenergy.com.au"
   ]
  },
  {
   "cell_type": "code",
   "execution_count": 8,
   "metadata": {},
   "outputs": [],
   "source": [
    "#  Add root folder to python path\n",
    "import sys\n",
    "import os\n",
    "sys.path.append(os.path.dirname(os.getcwd()))\n",
    "\n",
    "import numpy as np \n",
    "import pandas as pd\n",
    "\n",
    "import plotly.express as px\n",
    "\n",
    "from pof.component import Component"
   ]
  },
  {
   "cell_type": "code",
   "execution_count": 2,
   "metadata": {
    "tags": []
   },
   "outputs": [
    {
     "output_type": "stream",
     "name": "stdout",
     "text": "Failure Mode (fm) - No condition provided - Default condition created\nFailure Mode (fm) - No condition provided - Default condition created\nFailure Mode (fm) - No condition provided - Default condition created\nFailure Mode (fm) - No condition provided - Default condition created\n"
    }
   ],
   "source": [
    "comp = Component().set_demo()"
   ]
  },
  {
   "cell_type": "code",
   "execution_count": 4,
   "metadata": {},
   "outputs": [
    {
     "output_type": "error",
     "ename": "AttributeError",
     "evalue": "'FailureMode' object has no attribute 'indicator'",
     "traceback": [
      "\u001b[1;31m---------------------------------------------------------------------------\u001b[0m",
      "\u001b[1;31mAttributeError\u001b[0m                            Traceback (most recent call last)",
      "\u001b[1;32m<ipython-input-4-cdf5015dc252>\u001b[0m in \u001b[0;36m<module>\u001b[1;34m\u001b[0m\n\u001b[1;32m----> 1\u001b[1;33m \u001b[0mcomp\u001b[0m\u001b[1;33m.\u001b[0m\u001b[0msim_timeline\u001b[0m\u001b[1;33m(\u001b[0m\u001b[0mt_end\u001b[0m\u001b[1;33m=\u001b[0m\u001b[1;36m100\u001b[0m\u001b[1;33m)\u001b[0m\u001b[1;33m\u001b[0m\u001b[1;33m\u001b[0m\u001b[0m\n\u001b[0m",
      "\u001b[1;32mc:\\Users\\gtreseder\\OneDrive - KPMG\\Documents\\3. Client\\Essential Energy\\Probability of Failure Model\\pof\\pof\\component.py\u001b[0m in \u001b[0;36msim_timeline\u001b[1;34m(self, t_end, t_start)\u001b[0m\n\u001b[0;32m    191\u001b[0m \u001b[1;33m\u001b[0m\u001b[0m\n\u001b[0;32m    192\u001b[0m         \u001b[1;31m# Initialise the failure modes\u001b[0m\u001b[1;33m\u001b[0m\u001b[1;33m\u001b[0m\u001b[1;33m\u001b[0m\u001b[0m\n\u001b[1;32m--> 193\u001b[1;33m         \u001b[0mself\u001b[0m\u001b[1;33m.\u001b[0m\u001b[0minit_timeline\u001b[0m\u001b[1;33m(\u001b[0m\u001b[0mt_start\u001b[0m\u001b[1;33m=\u001b[0m\u001b[0mt_start\u001b[0m\u001b[1;33m,\u001b[0m \u001b[0mt_end\u001b[0m\u001b[1;33m=\u001b[0m\u001b[0mt_end\u001b[0m\u001b[1;33m)\u001b[0m\u001b[1;33m\u001b[0m\u001b[1;33m\u001b[0m\u001b[0m\n\u001b[0m\u001b[0;32m    194\u001b[0m \u001b[1;33m\u001b[0m\u001b[0m\n\u001b[0;32m    195\u001b[0m         \u001b[0mt_now\u001b[0m \u001b[1;33m=\u001b[0m \u001b[0mt_start\u001b[0m\u001b[1;33m\u001b[0m\u001b[1;33m\u001b[0m\u001b[0m\n",
      "\u001b[1;32mc:\\Users\\gtreseder\\OneDrive - KPMG\\Documents\\3. Client\\Essential Energy\\Probability of Failure Model\\pof\\pof\\component.py\u001b[0m in \u001b[0;36minit_timeline\u001b[1;34m(self, t_end, t_start)\u001b[0m\n\u001b[0;32m    209\u001b[0m         \u001b[1;34m\"\"\" Initilialise the timeline\"\"\"\u001b[0m\u001b[1;33m\u001b[0m\u001b[1;33m\u001b[0m\u001b[0m\n\u001b[0;32m    210\u001b[0m         \u001b[1;32mfor\u001b[0m \u001b[0mfm\u001b[0m \u001b[1;32min\u001b[0m \u001b[0mself\u001b[0m\u001b[1;33m.\u001b[0m\u001b[0mfm\u001b[0m\u001b[1;33m.\u001b[0m\u001b[0mvalues\u001b[0m\u001b[1;33m(\u001b[0m\u001b[1;33m)\u001b[0m\u001b[1;33m:\u001b[0m\u001b[1;33m\u001b[0m\u001b[1;33m\u001b[0m\u001b[0m\n\u001b[1;32m--> 211\u001b[1;33m             \u001b[0mfm\u001b[0m\u001b[1;33m.\u001b[0m\u001b[0minit_timeline\u001b[0m\u001b[1;33m(\u001b[0m\u001b[0mt_start\u001b[0m\u001b[1;33m=\u001b[0m\u001b[0mt_start\u001b[0m\u001b[1;33m,\u001b[0m \u001b[0mt_end\u001b[0m\u001b[1;33m=\u001b[0m\u001b[0mt_end\u001b[0m\u001b[1;33m)\u001b[0m\u001b[1;33m\u001b[0m\u001b[1;33m\u001b[0m\u001b[0m\n\u001b[0m\u001b[0;32m    212\u001b[0m \u001b[1;33m\u001b[0m\u001b[0m\n\u001b[0;32m    213\u001b[0m     \u001b[1;32mdef\u001b[0m \u001b[0mnext_tasks\u001b[0m\u001b[1;33m(\u001b[0m\u001b[0mself\u001b[0m\u001b[1;33m,\u001b[0m \u001b[0mt_start\u001b[0m\u001b[1;33m)\u001b[0m\u001b[1;33m:\u001b[0m\u001b[1;33m\u001b[0m\u001b[1;33m\u001b[0m\u001b[0m\n",
      "\u001b[1;32mc:\\Users\\gtreseder\\OneDrive - KPMG\\Documents\\3. Client\\Essential Energy\\Probability of Failure Model\\pof\\pof\\failure_mode.py\u001b[0m in \u001b[0;36minit_timeline\u001b[1;34m(self, t_end, t_start)\u001b[0m\n\u001b[0;32m    378\u001b[0m \u001b[1;33m\u001b[0m\u001b[0m\n\u001b[0;32m    379\u001b[0m         \u001b[1;32mif\u001b[0m \u001b[0mself\u001b[0m\u001b[1;33m.\u001b[0m\u001b[0mactive\u001b[0m\u001b[1;33m:\u001b[0m\u001b[1;33m\u001b[0m\u001b[1;33m\u001b[0m\u001b[0m\n\u001b[1;32m--> 380\u001b[1;33m             \u001b[0mself\u001b[0m\u001b[1;33m.\u001b[0m\u001b[0m_init_timeline\u001b[0m\u001b[1;33m(\u001b[0m\u001b[0mt_end\u001b[0m\u001b[1;33m,\u001b[0m \u001b[0mt_start\u001b[0m\u001b[1;33m)\u001b[0m\u001b[1;33m\u001b[0m\u001b[1;33m\u001b[0m\u001b[0m\n\u001b[0m\u001b[0;32m    381\u001b[0m \u001b[1;33m\u001b[0m\u001b[0m\n\u001b[0;32m    382\u001b[0m         \u001b[1;32melse\u001b[0m\u001b[1;33m:\u001b[0m\u001b[1;33m\u001b[0m\u001b[1;33m\u001b[0m\u001b[0m\n",
      "\u001b[1;32mc:\\Users\\gtreseder\\OneDrive - KPMG\\Documents\\3. Client\\Essential Energy\\Probability of Failure Model\\pof\\pof\\failure_mode.py\u001b[0m in \u001b[0;36m_init_timeline\u001b[1;34m(self, t_end, t_start)\u001b[0m\n\u001b[0;32m    418\u001b[0m \u001b[1;33m\u001b[0m\u001b[0m\n\u001b[0;32m    419\u001b[0m         \u001b[1;31m# Get the indicators\u001b[0m\u001b[1;33m\u001b[0m\u001b[1;33m\u001b[0m\u001b[1;33m\u001b[0m\u001b[0m\n\u001b[1;32m--> 420\u001b[1;33m         \u001b[1;32mfor\u001b[0m \u001b[0mindicator\u001b[0m \u001b[1;32min\u001b[0m \u001b[0mself\u001b[0m\u001b[1;33m.\u001b[0m\u001b[0mindicator\u001b[0m\u001b[1;33m.\u001b[0m\u001b[0mvalues\u001b[0m\u001b[1;33m(\u001b[0m\u001b[1;33m)\u001b[0m\u001b[1;33m:\u001b[0m\u001b[1;33m\u001b[0m\u001b[1;33m\u001b[0m\u001b[0m\n\u001b[0m\u001b[0;32m    421\u001b[0m             \u001b[1;32mif\u001b[0m \u001b[0mindicator\u001b[0m\u001b[1;33m.\u001b[0m\u001b[0mname\u001b[0m \u001b[1;32mnot\u001b[0m \u001b[1;32min\u001b[0m \u001b[0mself\u001b[0m\u001b[1;33m.\u001b[0m\u001b[0mconditions\u001b[0m\u001b[1;33m:\u001b[0m\u001b[1;33m\u001b[0m\u001b[1;33m\u001b[0m\u001b[0m\n\u001b[0;32m    422\u001b[0m                 \u001b[0mtimeline\u001b[0m\u001b[1;33m[\u001b[0m\u001b[0mindicator\u001b[0m\u001b[1;33m.\u001b[0m\u001b[0mname\u001b[0m\u001b[1;33m]\u001b[0m \u001b[1;33m=\u001b[0m \u001b[0mindicator\u001b[0m\u001b[1;33m.\u001b[0m\u001b[0mget_timeline\u001b[0m\u001b[1;33m(\u001b[0m\u001b[1;33m)\u001b[0m\u001b[1;33m\u001b[0m\u001b[1;33m\u001b[0m\u001b[0m\n",
      "\u001b[1;31mAttributeError\u001b[0m: 'FailureMode' object has no attribute 'indicator'"
     ]
    }
   ],
   "source": [
    "comp.sim_timeline(t_end=100)"
   ]
  },
  {
   "cell_type": "code",
   "execution_count": 3,
   "metadata": {
    "tags": [
     "outputPrepend"
    ]
   },
   "outputs": [
    {
     "output_type": "stream",
     "name": "stderr",
     "text": "d\nfast_degrading not found\nslow_degrading not found\nfast_degrading not found\nslow_degrading not found\nfast_degrading not found\nslow_degrading not found\nfast_degrading not found\nslow_degrading not found\nfast_degrading not found\nslow_degrading not found\nfast_degrading not found\nslow_degrading not found\nfast_degrading not found\nslow_degrading not found\nfast_degrading not found\nslow_degrading not found\nfast_degrading not found\nslow_degrading not found\nfast_degrading not found\nslow_degrading not found\nfast_degrading not found\nslow_degrading not found\nfast_degrading not found\nslow_degrading not found\nfast_degrading not found\nslow_degrading not found\nfast_degrading not found\nslow_degrading not found\nfast_degrading not found\nslow_degrading not found\nfast_degrading not found\nslow_degrading not found\nfast_degrading not found\nslow_degrading not found\nfast_degrading not found\nslow_degrading not found\nfast_degrading not found\nslow_degrading not found\nfast_degrading not found\nslow_degrading not found\nfast_degrading not found\nslow_degrading not found\nfast_degrading not found\nslow_degrading not found\nfast_degrading not found\nslow_degrading not found\nfast_degrading not found\nslow_degrading not found\nfast_degrading not found\nslow_degrading not found\nfast_degrading not found\nslow_degrading not found\nfast_degrading not found\nslow_degrading not found\nfast_degrading not found\nslow_degrading not found\nfast_degrading not found\nslow_degrading not found\nfast_degrading not found\nslow_degrading not found\nfast_degrading not found\nslow_degrading not found\nfast_degrading not found\nslow_degrading not found\nfast_degrading not found\nslow_degrading not found\nfast_degrading not found\nslow_degrading not found\nfast_degrading not found\nslow_degrading not found\nfast_degrading not found\nslow_degrading not found\nfast_degrading not found\nslow_degrading not found\nfast_degrading not found\nslow_degrading not found\nfast_degrading not found\nslow_degrading not found\nfast_degrading not found\nslow_degrading not found\nfast_degrading not found\nslow_degrading not found\nfast_degrading not found\nslow_degrading not found\nfast_degrading not found\nslow_degrading not found\nfast_degrading not found\nslow_degrading not found\nfast_degrading not found\nslow_degrading not found\nfast_degrading not found\nslow_degrading not found\nfast_degrading not found\nslow_degrading not found\nfast_degrading not found\nslow_degrading not found\nfast_degrading not found\nslow_degrading not found\nfast_degrading not found\nslow_degrading not found\nfast_degrading not found\nslow_degrading not found\nfast_degrading not found\nslow_degrading not found\nfast_degrading not found\nslow_degrading not found\nfast_degrading not found\nslow_degrading not found\nfast_degrading not found\nslow_degrading not found\nfast_degrading not found\nslow_degrading not found\nfast_degrading not found\nslow_degrading not found\nfast_degrading not found\nslow_degrading not found\nfast_degrading not found\nslow_degrading not found\nfast_degrading not found\nslow_degrading not found\nfast_degrading not found\nslow_degrading not found\nfast_degrading not found\nslow_degrading not found\nfast_degrading not found\nslow_degrading not found\nfast_degrading not found\nslow_degrading not found\nfast_degrading not found\nslow_degrading not found\nfast_degrading not found\nslow_degrading not found\nfast_degrading not found\nslow_degrading not found\nfast_degrading not found\nslow_degrading not found\nfast_degrading not found\nslow_degrading not found\nfast_degrading not found\nslow_degrading not found\nfast_degrading not found\nslow_degrading not found\nfast_degrading not found\nslow_degrading not found\nfast_degrading not found\nslow_degrading not found\nfast_degrading not found\nslow_degrading not found\nfast_degrading not found\nslow_degrading not found\nfast_degrading not found\nslow_degrading not found\nfast_degrading not found\nslow_degrading not found\nfast_degrading not found\nslow_degrading not found\nfast_degrading not found\nslow_degrading not found\nfast_degrading not found\nslow_degrading not found\nfast_degrading not found\nslow_degrading not found\nfast_degrading not found\nslow_degrading not found\nfast_degrading not found\nslow_degrading not found\nfast_degrading not found\nslow_degrading not found\nfast_degrading not found\nslow_degrading not found\nfast_degrading not found\nslow_degrading not found\nfast_degrading not found\nslow_degrading not found\nfast_degrading not found\nslow_degrading not found\nfast_degrading not found\nslow_degrading not found\nfast_degrading not found\nslow_degrading not found\nfast_degrading not found\nslow_degrading not found\nfast_degrading not found\nslow_degrading not found\nfast_degrading not found\nslow_degrading not found\nfast_degrading not found\nslow_degrading not found\nfast_degrading not found\nslow_degrading not found\nfast_degrading not found\nslow_degrading not found\nfast_degrading not found\nslow_degrading not found\nfast_degrading not found\nslow_degrading not found\nfast_degrading not found\nslow_degrading not found\nfast_degrading not found\nslow_degrading not found\nfast_degrading not found\nslow_degrading not found\nfast_degrading not found\nslow_degrading not found\nfast_degrading not found\nslow_degrading not found\nfast_degrading not found\nslow_degrading not found\nfast_degrading not found\nslow_degrading not found\nfast_degrading not found\nslow_degrading not found\nfast_degrading not found\nslow_degrading not found\nfast_degrading not found\nslow_degrading not found\nfast_degrading not found\nslow_degrading not found\nfast_degrading not found\nslow_degrading not found\nfast_degrading not found\nslow_degrading not found\nfast_degrading not found\nslow_degrading not found\nfast_degrading not found\nslow_degrading not found\nfast_degrading not found\nslow_degrading not found\nfast_degrading not found\nslow_degrading not found\nfast_degrading not found\nslow_degrading not found\nfast_degrading not found\nslow_degrading not found\nfast_degrading not found\nslow_degrading not found\nfast_degrading not found\nslow_degrading not found\nfast_degrading not found\nslow_degrading not found\nfast_degrading not found\nslow_degrading not found\nfast_degrading not found\nslow_degrading not found\nfast_degrading not found\nslow_degrading not found\nfast_degrading not found\nslow_degrading not found\n 94%|█████████▍| 94/100 [00:05<00:00, 18.15it/s]fast_degrading not found\nslow_degrading not found\nfast_degrading not found\nslow_degrading not found\nfast_degrading not found\nslow_degrading not found\nfast_degrading not found\nslow_degrading not found\nfast_degrading not found\nslow_degrading not found\nfast_degrading not found\nslow_degrading not found\nfast_degrading not found\nslow_degrading not found\nfast_degrading not found\nslow_degrading not found\nfast_degrading not found\nslow_degrading not found\nfast_degrading not found\nslow_degrading not found\nfast_degrading not found\nslow_degrading not found\nfast_degrading not found\nslow_degrading not found\nfast_degrading not found\nslow_degrading not found\nfast_degrading not found\nslow_degrading not found\nfast_degrading not found\nslow_degrading not found\nfast_degrading not found\nslow_degrading not found\nfast_degrading not found\nslow_degrading not found\nfast_degrading not found\nslow_degrading not found\nfast_degrading not found\nslow_degrading not found\nfast_degrading not found\nslow_degrading not found\nfast_degrading not found\nslow_degrading not found\nfast_degrading not found\nslow_degrading not found\nfast_degrading not found\nslow_degrading not found\nfast_degrading not found\nslow_degrading not found\nfast_degrading not found\nslow_degrading not found\nfast_degrading not found\nslow_degrading not found\nfast_degrading not found\nslow_degrading not found\nfast_degrading not found\nslow_degrading not found\nfast_degrading not found\nslow_degrading not found\nfast_degrading not found\nslow_degrading not found\nfast_degrading not found\nslow_degrading not found\nfast_degrading not found\nslow_degrading not found\nfast_degrading not found\nslow_degrading not found\nfast_degrading not found\nslow_degrading not found\nfast_degrading not found\nslow_degrading not found\nfast_degrading not found\nslow_degrading not found\nfast_degrading not found\nslow_degrading not found\nfast_degrading not found\nslow_degrading not found\nfast_degrading not found\nslow_degrading not found\nfast_degrading not found\nslow_degrading not found\nfast_degrading not found\nslow_degrading not found\nfast_degrading not found\nslow_degrading not found\nfast_degrading not found\nslow_degrading not found\nfast_degrading not found\nslow_degrading not found\nfast_degrading not found\nslow_degrading not found\nfast_degrading not found\nslow_degrading not found\nfast_degrading not found\nslow_degrading not found\nfast_degrading not found\nslow_degrading not found\nfast_degrading not found\nslow_degrading not found\nfast_degrading not found\nslow_degrading not found\nfast_degrading not found\nslow_degrading not found\nfast_degrading not found\nslow_degrading not found\nfast_degrading not found\nslow_degrading not found\nfast_degrading not found\nslow_degrading not found\nfast_degrading not found\nslow_degrading not found\nfast_degrading not found\nslow_degrading not found\nfast_degrading not found\nslow_degrading not found\nfast_degrading not found\nslow_degrading not found\nfast_degrading not found\nslow_degrading not found\nfast_degrading not found\nslow_degrading not found\nfast_degrading not found\nslow_degrading not found\nfast_degrading not found\nslow_degrading not found\nfast_degrading not found\nslow_degrading not found\nfast_degrading not found\nslow_degrading not found\nfast_degrading not found\nslow_degrading not found\nfast_degrading not found\nslow_degrading not found\nfast_degrading not found\nslow_degrading not found\nfast_degrading not found\nslow_degrading not found\nfast_degrading not found\nslow_degrading not found\nfast_degrading not found\nslow_degrading not found\nfast_degrading not found\nslow_degrading not found\nfast_degrading not found\nslow_degrading not found\nfast_degrading not found\nslow_degrading not found\nfast_degrading not found\nslow_degrading not found\nfast_degrading not found\nslow_degrading not found\nfast_degrading not found\nslow_degrading not found\nfast_degrading not found\nslow_degrading not found\nfast_degrading not found\nslow_degrading not found\nfast_degrading not found\nslow_degrading not found\nfast_degrading not found\nslow_degrading not found\nfast_degrading not found\nslow_degrading not found\nfast_degrading not found\nslow_degrading not found\nfast_degrading not found\nslow_degrading not found\nfast_degrading not found\nslow_degrading not found\nfast_degrading not found\nslow_degrading not found\nfast_degrading not found\nslow_degrading not found\nfast_degrading not found\nslow_degrading not found\nfast_degrading not found\nslow_degrading not found\nfast_degrading not found\nslow_degrading not found\nfast_degrading not found\nslow_degrading not found\nfast_degrading not found\nslow_degrading not found\nfast_degrading not found\nslow_degrading not found\nfast_degrading not found\nslow_degrading not found\nfast_degrading not found\nslow_degrading not found\nfast_degrading not found\nslow_degrading not found\nfast_degrading not found\nslow_degrading not found\nfast_degrading not found\nslow_degrading not found\nfast_degrading not found\nslow_degrading not found\nfast_degrading not found\nslow_degrading not found\nfast_degrading not found\nslow_degrading not found\nfast_degrading not found\nslow_degrading not found\nfast_degrading not found\nslow_degrading not found\nfast_degrading not found\nslow_degrading not found\n 97%|█████████▋| 97/100 [00:05<00:00, 20.38it/s]\nslow_degrading not found\nfast_degrading not found\nslow_degrading not found\nfast_degrading not found\nslow_degrading not found\nfast_degrading not found\nslow_degrading not found\nfast_degrading not found\nslow_degrading not found\nfast_degrading not found\nslow_degrading not found\nfast_degrading not found\nslow_degrading not found\nfast_degrading not found\nslow_degrading not found\nfast_degrading not found\nslow_degrading not found\nfast_degrading not found\nslow_degrading not found\nfast_degrading not found\nslow_degrading not found\nfast_degrading not found\nslow_degrading not found\nfast_degrading not found\nslow_degrading not found\nfast_degrading not found\nslow_degrading not found\nfast_degrading not found\nslow_degrading not found\nfast_degrading not found\nslow_degrading not found\nfast_degrading not found\nslow_degrading not found\nfast_degrading not found\nslow_degrading not found\nfast_degrading not found\nslow_degrading not found\nfast_degrading not found\nslow_degrading not found\nfast_degrading not found\nslow_degrading not found\nfast_degrading not found\nslow_degrading not found\nfast_degrading not found\nslow_degrading not found\nfast_degrading not found\nslow_degrading not found\nfast_degrading not found\nslow_degrading not found\nfast_degrading not found\nslow_degrading not found\nfast_degrading not found\nslow_degrading not found\nfast_degrading not found\nslow_degrading not found\nfast_degrading not found\nslow_degrading not found\nfast_degrading not found\nslow_degrading not found\nfast_degrading not found\nslow_degrading not found\nfast_degrading not found\nslow_degrading not found\nfast_degrading not found\nslow_degrading not found\nfast_degrading not found\nslow_degrading not found\nfast_degrading not found\nslow_degrading not found\nfast_degrading not found\nslow_degrading not found\nfast_degrading not found\nslow_degrading not found\nfast_degrading not found\nslow_degrading not found\nfast_degrading not found\nslow_degrading not found\nfast_degrading not found\nslow_degrading not found\nfast_degrading not found\nslow_degrading not found\nfast_degrading not found\nslow_degrading not found\nfast_degrading not found\nslow_degrading not found\nfast_degrading not found\nslow_degrading not found\nfast_degrading not found\nslow_degrading not found\nfast_degrading not found\nslow_degrading not found\nfast_degrading not found\nslow_degrading not found\nfast_degrading not found\nslow_degrading not found\nfast_degrading not found\nslow_degrading not found\nfast_degrading not found\nslow_degrading not found\nfast_degrading not found\nslow_degrading not found\nfast_degrading not found\nslow_degrading not found\nfast_degrading not found\nslow_degrading not found\nfast_degrading not found\nslow_degrading not found\nfast_degrading not found\nslow_degrading not found\nfast_degrading not found\nslow_degrading not found\nfast_degrading not found\nslow_degrading not found\nfast_degrading not found\nslow_degrading not found\nfast_degrading not found\nslow_degrading not found\nfast_degrading not found\nslow_degrading not found\nfast_degrading not found\nslow_degrading not found\nfast_degrading not found\nslow_degrading not found\nfast_degrading not found\nslow_degrading not found\nfast_degrading not found\nslow_degrading not found\nfast_degrading not found\nslow_degrading not found\nfast_degrading not found\nslow_degrading not found\nfast_degrading not found\nslow_degrading not found\nfast_degrading not found\nslow_degrading not found\nfast_degrading not found\nslow_degrading not found\nfast_degrading not found\nslow_degrading not found\nfast_degrading not found\nslow_degrading not found\nfast_degrading not found\nslow_degrading not found\nfast_degrading not found\nslow_degrading not found\nfast_degrading not found\nslow_degrading not found\nfast_degrading not found\nslow_degrading not found\nfast_degrading not found\nslow_degrading not found\nfast_degrading not found\nslow_degrading not found\nfast_degrading not found\nslow_degrading not found\nfast_degrading not found\nslow_degrading not found\nfast_degrading not found\nslow_degrading not found\nfast_degrading not found\nslow_degrading not found\nfast_degrading not found\nslow_degrading not found\nfast_degrading not found\nslow_degrading not found\nfast_degrading not found\nslow_degrading not found\nfast_degrading not found\nslow_degrading not found\nfast_degrading not found\nslow_degrading not found\nfast_degrading not found\nslow_degrading not found\n100%|██████████| 100/100 [00:05<00:00, 17.77it/s]\nslow_degrading not found\nfast_degrading not found\nslow_degrading not found\nfast_degrading not found\nslow_degrading not found\nfast_degrading not found\nslow_degrading not found\nfast_degrading not found\nslow_degrading not found\nfast_degrading not found\nslow_degrading not found\nfast_degrading not found\nslow_degrading not found\nfast_degrading not found\nslow_degrading not found\nfast_degrading not found\nslow_degrading not found\nfast_degrading not found\nslow_degrading not found\nfast_degrading not found\nslow_degrading not found\nfast_degrading not found\nslow_degrading not found\nfast_degrading not found\nslow_degrading not found\nfast_degrading not found\nslow_degrading not found\nfast_degrading not found\nslow_degrading not found\nfast_degrading not found\nslow_degrading not found\nfast_degrading not found\nslow_degrading not found\nfast_degrading not found\nslow_degrading not found\nfast_degrading not found\nslow_degrading not found\nfast_degrading not found\nslow_degrading not found\nfast_degrading not found\nslow_degrading not found\nfast_degrading not found\nslow_degrading not found\nfast_degrading not found\nslow_degrading not found\nfast_degrading not found\nslow_degrading not found\nfast_degrading not found\nslow_degrading not found\nfast_degrading not found\nslow_degrading not found\nfast_degrading not found\nslow_degrading not found\nfast_degrading not found\nslow_degrading not found\nfast_degrading not found\nslow_degrading not found\nfast_degrading not found\nslow_degrading not found\nfast_degrading not found\nslow_degrading not found\nfast_degrading not found\nslow_degrading not found\nfast_degrading not found\nslow_degrading not found\nfast_degrading not found\nslow_degrading not found\nfast_degrading not found\nslow_degrading not found\nfast_degrading not found\nslow_degrading not found\nfast_degrading not found\nslow_degrading not found\nfast_degrading not found\nslow_degrading not found\nfast_degrading not found\nslow_degrading not found\nfast_degrading not found\nslow_degrading not found\nfast_degrading not found\nslow_degrading not found\nfast_degrading not found\nslow_degrading not found\nfast_degrading not found\nslow_degrading not found\nfast_degrading not found\nslow_degrading not found\nfast_degrading not found\nslow_degrading not found\nfast_degrading not found\nslow_degrading not found\nfast_degrading not found\nslow_degrading not found\nfast_degrading not found\nslow_degrading not found\nfast_degrading not found\nslow_degrading not found\nfast_degrading not found\nslow_degrading not found\nfast_degrading not found\nslow_degrading not found\nfast_degrading not found\nslow_degrading not found\nfast_degrading not found\nslow_degrading not found\nfast_degrading not found\nslow_degrading not found\nfast_degrading not found\nslow_degrading not found\nfast_degrading not found\nslow_degrading not found\nfast_degrading not found\nslow_degrading not found\nfast_degrading not found\nslow_degrading not found\nfast_degrading not found\nslow_degrading not found\nfast_degrading not found\nslow_degrading not found\nfast_degrading not found\nslow_degrading not found\nfast_degrading not found\nslow_degrading not found\nfast_degrading not found\nslow_degrading not found\nfast_degrading not found\nslow_degrading not found\nfast_degrading not found\nslow_degrading not found\nfast_degrading not found\nslow_degrading not found\nfast_degrading not found\nslow_degrading not found\nfast_degrading not found\nslow_degrading not found\nfast_degrading not found\nslow_degrading not found\nfast_degrading not found\nslow_degrading not found\nfast_degrading not found\nslow_degrading not found\nfast_degrading not found\nslow_degrading not found\nfast_degrading not found\nslow_degrading not found\nfast_degrading not found\nslow_degrading not found\nfast_degrading not found\nslow_degrading not found\nfast_degrading not found\nslow_degrading not found\nfast_degrading not found\nslow_degrading not found\nfast_degrading not found\nslow_degrading not found\nfast_degrading not found\nslow_degrading not found\nfast_degrading not found\nslow_degrading not found\nfast_degrading not found\nslow_degrading not found\nfast_degrading not found\nslow_degrading not found\nfast_degrading not found\nslow_degrading not found\nfast_degrading not found\nslow_degrading not found\n\n"
    }
   ],
   "source": [
    "comp.mc_timeline(t_end=100, n_iterations=100)"
   ]
  },
  {
   "cell_type": "code",
   "execution_count": 4,
   "metadata": {},
   "outputs": [
    {
     "output_type": "display_data",
     "data": {
      "application/vnd.plotly.v1+json": {
       "config": {
        "plotlyServerURL": "https://plot.ly"
       },
       "data": [
        {
         "hovertemplate": "source=all<br>strategy=untreated<br>time=%{x}<br>pof=%{y}<extra></extra>",
         "legendgroup": "all, untreated",
         "line": {
          "color": "#636efa",
          "dash": "solid"
         },
         "mode": "lines",
         "name": "all, untreated",
         "showlegend": true,
         "type": "scattergl",
         "x": [
          0,
          1,
          2,
          3,
          4,
          5,
          6,
          7,
          8,
          9,
          10,
          11,
          12,
          13,
          14,
          15,
          16,
          17,
          18,
          19,
          20,
          21,
          22,
          23,
          24,
          25,
          26,
          27,
          28,
          29,
          30,
          31,
          32,
          33,
          34,
          35,
          36,
          37,
          38,
          39,
          40,
          41,
          42,
          43,
          44,
          45,
          46,
          47,
          48,
          49,
          50,
          51,
          52,
          53,
          54,
          55,
          56,
          57,
          58,
          59,
          60,
          61,
          62,
          63,
          64,
          65,
          66,
          67,
          68,
          69,
          70,
          71,
          72,
          73,
          74,
          75,
          76,
          77,
          78,
          79,
          80,
          81,
          82,
          83,
          84,
          85,
          86,
          87,
          88,
          89,
          90,
          91,
          92,
          93,
          94,
          95,
          96,
          97,
          98,
          99,
          100,
          101,
          102,
          103,
          104,
          105,
          106,
          107,
          108,
          109,
          110,
          111,
          112,
          113,
          114,
          115,
          116,
          117,
          118,
          119,
          120,
          121,
          122,
          123,
          124,
          125,
          126,
          127,
          128,
          129,
          130,
          131,
          132,
          133,
          134,
          135,
          136,
          137,
          138,
          139,
          140,
          141,
          142,
          143,
          144,
          145,
          146,
          147,
          148,
          149,
          150,
          151,
          152,
          153,
          154,
          155,
          156,
          157,
          158,
          159,
          160,
          161,
          162,
          163,
          164,
          165,
          166,
          167,
          168,
          169,
          170,
          171,
          172,
          173,
          174,
          175,
          176,
          177,
          178,
          179,
          180,
          181,
          182,
          183,
          184,
          185,
          186,
          187,
          188,
          189,
          190,
          191,
          192,
          193,
          194,
          195,
          196,
          197,
          198,
          199,
          200
         ],
         "xaxis": "x",
         "y": [
          0,
          0.001998001332666921,
          0.003408391762755314,
          0.004720872294527667,
          0.005982035946064723,
          0.007209950671115406,
          0.008413893132611427,
          0.00959938026617635,
          0.01077001075036177,
          0.011928287138069482,
          0.01307603368727972,
          0.014313301418805047,
          0.015740043107048463,
          0.017357814666491334,
          0.0191683623994664,
          0.021173559105395756,
          0.023375371423323466,
          0.025775836896262283,
          0.028377045000453016,
          0.031181120035673304,
          0.034190204978952754,
          0.037406445876672856,
          0.040831976557274885,
          0.044468903545987315,
          0.048319291114331864,
          0.052385146425896756,
          0.05666840475732571,
          0.06117091478503289,
          0.0658944239364806,
          0.07084056381133375,
          0.07601083568316991,
          0.08140659609705092,
          0.08702904258243638,
          0.09287919950470858,
          0.09895790408210758,
          0.10526579259816715,
          0.11180328684281748,
          0.11857058081821681,
          0.12556762774805597,
          0.1327941274315908,
          0.14024951398595165,
          0.14793294402237134,
          0.1558432853038545,
          0.16397910593343723,
          0.17233866412360022,
          0.1809198985985132,
          0.1897204196816572,
          0.19873750112192767,
          0.20796807271157436,
          0.21740871374926496,
          0.22705564740113415,
          0.23690473601192086,
          0.24695147741714496,
          0.2571910023057533,
          0.2676180726807489,
          0.27822708146298936,
          0.28901205328061397,
          0.2999666464834104,
          0.31108415641786513,
          0.32235751999466367,
          0.33377932157601264,
          0.3453418002053543,
          0.35703685819684805,
          0.36885607109641994,
          0.38079069902023666,
          0.3928316993701788,
          0.40496974091928817,
          0.41719521925328074,
          0.42949827354707026,
          0.4418688046479019,
          0.4542964944291572,
          0.4667708263712421,
          0.4792811073182248,
          0.49181649035113273,
          0.5043659987110727,
          0.5169185506976973,
          0.529462985461023,
          0.5419880895973215,
          0.5544826244527745,
          0.5669353540318979,
          0.5793350734014573,
          0.5916706374747791,
          0.6039309900560756,
          0.61610519301971,
          0.628182455495282,
          0.6401521629260927,
          0.6520039058659703,
          0.6637275083776897,
          0.6753130558953102,
          0.6867509224127553,
          0.6980317968618633,
          0.7091467085450094,
          0.7200870514902138,
          0.7308446076004594,
          0.7414115684736979,
          0.7517805557757598,
          0.7619446400550456,
          0.7718973578954675,
          0.7816327273125568,
          0.7911452613069458,
          0.8004299794994864,
          0.8094824177830267,
          0.8182986359372608,
          0.826875223165003,
          0.8352093015206381,
          0.8432985272142591,
          0.8511410897880164,
          0.8587357091743821,
          0.8660816306592359,
          0.8731786177858247,
          0.8800269432485961,
          0.8866273778385593,
          0.8929811775140571,
          0.8990900686825404,
          0.9049562317900086,
          0.9105822833251103,
          0.9159712563544,
          0.9211265797138266,
          0.9260520559890996,
          0.9307518384240938,
          0.9352304069018202,
          0.9394925431466918,
          0.9435433052997975,
          0.947388002020645,
          0.9510321662693394,
          0.9544815289224239,
          0.9577419923736523,
          0.9608196042678069,
          0.9637205315113687,
          0.9664510346984502,
          0.9690174430839674,
          0.9714261302286539,
          0.9736834904322648,
          0.9757959160623155,
          0.9777697758760112,
          0.9796113944227858,
          0.981327032604189,
          0.9829228694568398,
          0.9844049852129448,
          0.9857793456815518,
          0.9870517879824147,
          0.9882280076531711,
          0.9893135471396073,
          0.990313785668202,
          0.9912339304899869,
          0.9920790094751446,
          0.992853865028741,
          0.9935631492896413,
          0.9942113205670436,
          0.9948026409622184,
          0.9953411751170181,
          0.9958307900255322,
          0.9962751558409226,
          0.9966777476060005,
          0.9970418478334676,
          0.997370549859949,
          0.997666761896946,
          0.9979332117016153,
          0.9981724517907798,
          0.9983868651227612,
          0.9985786711734241,
          0.9987499323351982,
          0.9989025605707079,
          0.9990383242559548,
          0.9991588551516712,
          0.9992656554454497,
          0.9993601048114703,
          0.9994434674390426,
          0.9995168989856814,
          0.9995814534149925,
          0.9996380896841959,
          0.9996876782506126,
          0.9997310073708364,
          0.9997687891705692,
          0.9998016654671714,
          0.9998302133308502,
          0.9998549503740386,
          0.9998763397618993,
          0.9998947949399959,
          0.9999106840780051,
          0.999924334230891,
          0.9999360352212204,
          0.9999460432482813,
          0.9999545842313647,
          0.9999618568960087,
          0.9999680356131829,
          0.999973273002335,
          0.9999777023099353,
          0.999981439575667,
          0.9999845855987294,
          0.9999872277168737,
          0.9999894414107886,
          0.9999912917463225,
          0.9999928346667788,
          0.9999941181471792,
          0.9999951832219657,
          0.9999960648971224,
          0.999996792957164,
          0.9999973926768613,
          0.9999978854469779,
          0.9999982893226841
         ],
         "yaxis": "y"
        },
        {
         "hovertemplate": "source=all<br>strategy=treated<br>time=%{x}<br>pof=%{y}<extra></extra>",
         "legendgroup": "all, treated",
         "line": {
          "color": "#636efa",
          "dash": "dot"
         },
         "mode": "lines",
         "name": "all, treated",
         "showlegend": true,
         "type": "scattergl",
         "x": [
          0,
          1,
          2,
          3,
          4,
          5,
          6,
          7,
          8,
          9,
          10,
          11,
          12,
          13,
          14,
          15,
          16,
          17,
          18,
          19,
          20,
          21,
          22,
          23,
          24,
          25,
          26,
          27,
          28,
          29,
          30,
          31,
          32,
          33,
          34,
          35,
          36,
          37,
          38,
          39,
          40,
          41,
          42,
          43,
          44,
          45,
          46,
          47,
          48,
          49,
          50,
          51,
          52,
          53,
          54,
          55,
          56,
          57,
          58,
          59,
          60,
          61,
          62,
          63,
          64,
          65,
          66,
          67,
          68,
          69,
          70,
          71,
          72,
          73,
          74,
          75,
          76,
          77,
          78,
          79,
          80,
          81,
          82,
          83,
          84,
          85,
          86,
          87,
          88,
          89,
          90,
          91,
          92,
          93,
          94,
          95,
          96,
          97,
          98,
          99,
          100,
          101,
          102,
          103,
          104,
          105,
          106,
          107,
          108,
          109,
          110,
          111,
          112,
          113,
          114,
          115,
          116,
          117,
          118,
          119,
          120,
          121,
          122,
          123,
          124,
          125,
          126,
          127,
          128,
          129,
          130,
          131,
          132,
          133,
          134,
          135,
          136,
          137,
          138,
          139,
          140,
          141,
          142,
          143,
          144,
          145,
          146,
          147,
          148,
          149,
          150,
          151,
          152,
          153,
          154,
          155,
          156,
          157,
          158,
          159,
          160,
          161,
          162,
          163,
          164,
          165,
          166,
          167,
          168,
          169,
          170,
          171,
          172,
          173,
          174,
          175,
          176,
          177,
          178,
          179,
          180,
          181,
          182,
          183,
          184,
          185,
          186,
          187,
          188,
          189,
          190,
          191,
          192,
          193,
          194,
          195,
          196,
          197,
          198,
          199,
          200
         ],
         "xaxis": "x",
         "y": [
          0,
          0.002428215155790725,
          0.004277450789938908,
          0.0059625641586769085,
          0.007553205504207239,
          0.009080332337940256,
          0.010561416298803694,
          0.012007649823209343,
          0.013426800481997625,
          0.014824566813121387,
          0.016205303905899693,
          0.017572446228780292,
          0.018928770379128657,
          0.02027656678938361,
          0.021617756584882963,
          0.022953973819984097,
          0.024286624998362094,
          0.025616933195303004,
          0.026945971447479566,
          0.028274688479632104,
          0.029603928843339067,
          0.030934448904869516,
          0.032266929698476554,
          0.03360198737770659,
          0.03494018180181513,
          0.03628202365718469,
          0.03762798041571658,
          0.038978481361219175,
          0.04033392186268403,
          0.04169466703458047,
          0.043061054895126905,
          0.04443339911135491,
          0.045811991402786134,
          0.04719710366243102,
          0.04858898984361171,
          0.04998788765312889,
          0.05139402008503835,
          0.05280759682437175,
          0.0542288155462598,
          0.05565786313288634,
          0.057094916828318465,
          0.05854014534944707,
          0.059993709969889175,
          0.06145576559270627,
          0.06292646182710993,
          0.0644059440839212,
          0.06589435470438632,
          0.0673918341370191,
          0.068898522177408,
          0.07041455928641105,
          0.0719400880028328,
          0.07347525446759351,
          0.07502021007750936,
          0.07657511328819133,
          0.07814013158723121,
          0.0797154436608235,
          0.08130124177933473,
          0.08289773443012605,
          0.08450514922923691,
          0.08612373614745805,
          0.08775377109094018,
          0.08939555988196102,
          0.09104944269194226,
          0.09271579898646998,
          0.09439505305111384,
          0.09608768017755465,
          0.0977942136021599,
          0.09951525230407365,
          0.10125146978746435,
          0.10300362399328733,
          0.10477256851024475,
          0.10655926528318516,
          0.10836479905062368,
          0.11019039378214202,
          0.11203743143199862,
          0.113907473378281,
          0.11580228497842027,
          0.11772386374301724,
          0.11967447171195755,
          0.12165667271106717,
          0.12367337527552102,
          0.12572788214933706,
          0.12782394741004743,
          0.12996584242549425,
          0.13215843202688404,
          0.13440726247978285,
          0.13671866305311842,
          0.13909986322529222,
          0.1415591278248458,
          0.14410591267792705,
          0.1467510436209677,
          0.14950692202637217,
          0.15238776026931466,
          0.155409850816968,
          0.15859187282208476,
          0.16195524021524055,
          0.16552449526548974,
          0.1693277513517515,
          0.17339718816908045,
          0.17776960166914701,
          0.18248700955183894,
          0.18759731089070864,
          0.19315499524279867,
          0.19922189205577823,
          0.20586794496590133,
          0.21317198722905206,
          0.2212224835226877,
          0.2301181891207681,
          0.23996865937728984,
          0.2508945200037561,
          0.26302738140203885,
          0.27650924827735157,
          0.29149123950201206,
          0.3081313943697793,
          0.3265913032206744,
          0.34703126850897936,
          0.3696036855147844,
          0.3944443429583433,
          0.42166140052344203,
          0.451321925524784,
          0.4834360914376642,
          0.5179394842240247,
          0.5546744497666927,
          0.5933720510793812,
          0.6336369563010893,
          0.6749383599718868,
          0.7166106832927813,
          0.7578680431051052,
          0.7978359814589557,
          0.8356023429914609,
          0.8702862180271829,
          0.9011195869485535,
          0.9275313030156579,
          0.9492186389711343,
          0.9661897100116217,
          0.9787626579668853,
          0.9875155827419708,
          0.9931937590770127,
          0.9965938846112201,
          0.9984533498371482,
          0.9993710307318703,
          0.999774277833795,
          0.9999296891505769,
          0.9999813419024945,
          0.9999958695777053,
          0.9999992549884775,
          0.9999998933707982,
          0.9999999882446202,
          0.9999999990344229,
          0.9999999999430712,
          0.9999999999976893,
          0.9999999999999384,
          0.999999999999999,
          1,
          1,
          1,
          1,
          1,
          1,
          1,
          1,
          1,
          1,
          1,
          1,
          1,
          1,
          1,
          1,
          1,
          1,
          1,
          1,
          1,
          1,
          1,
          1,
          1,
          1,
          1,
          1,
          1,
          1,
          1,
          1,
          1,
          1,
          1,
          1,
          1,
          1,
          1,
          1,
          1,
          1,
          1,
          1,
          1,
          1,
          1,
          1
         ],
         "yaxis": "y"
        },
        {
         "hovertemplate": "source=early_life<br>strategy=untreated<br>time=%{x}<br>pof=%{y}<extra></extra>",
         "legendgroup": "early_life, untreated",
         "line": {
          "color": "#EF553B",
          "dash": "solid"
         },
         "mode": "lines",
         "name": "early_life, untreated",
         "showlegend": true,
         "type": "scattergl",
         "x": [
          0,
          1,
          2,
          3,
          4,
          5,
          6,
          7,
          8,
          9,
          10,
          11,
          12,
          13,
          14,
          15,
          16,
          17,
          18,
          19,
          20,
          21,
          22,
          23,
          24,
          25,
          26,
          27,
          28,
          29,
          30,
          31,
          32,
          33,
          34,
          35,
          36,
          37,
          38,
          39,
          40,
          41,
          42,
          43,
          44,
          45,
          46,
          47,
          48,
          49,
          50,
          51,
          52,
          53,
          54,
          55,
          56,
          57,
          58,
          59,
          60,
          61,
          62,
          63,
          64,
          65,
          66,
          67,
          68,
          69,
          70,
          71,
          72,
          73,
          74,
          75,
          76,
          77,
          78,
          79,
          80,
          81,
          82,
          83,
          84,
          85,
          86,
          87,
          88,
          89,
          90,
          91,
          92,
          93,
          94,
          95,
          96,
          97,
          98,
          99,
          100,
          101,
          102,
          103,
          104,
          105,
          106,
          107,
          108,
          109,
          110,
          111,
          112,
          113,
          114,
          115,
          116,
          117,
          118,
          119,
          120,
          121,
          122,
          123,
          124,
          125,
          126,
          127,
          128,
          129,
          130,
          131,
          132,
          133,
          134,
          135,
          136,
          137,
          138,
          139,
          140,
          141,
          142,
          143,
          144,
          145,
          146,
          147,
          148,
          149,
          150,
          151,
          152,
          153,
          154,
          155,
          156,
          157,
          158,
          159,
          160,
          161,
          162,
          163,
          164,
          165,
          166,
          167,
          168,
          169,
          170,
          171,
          172,
          173,
          174,
          175,
          176,
          177,
          178,
          179,
          180,
          181,
          182,
          183,
          184,
          185,
          186,
          187,
          188,
          189,
          190,
          191,
          192,
          193,
          194,
          195,
          196,
          197,
          198,
          199,
          200
         ],
         "xaxis": "x",
         "y": [
          0,
          0.000999500166624978,
          0.0014132140336109433,
          0.0017305516732194492,
          0.001998001332666921,
          0.0022335698398485704,
          0.0024464921907736414,
          0.002642254395733845,
          0.002824430893317187,
          0.0029955044966269995,
          0.0031572829264671087,
          0.0033111308657958194,
          0.0034581085373451836,
          0.0035990590804552136,
          0.0037346661091473,
          0.0038654930192980608,
          0.003992010656008516,
          0.004114617295718492,
          0.004233653401552795,
          0.004349412731692093,
          0.004462150845467638,
          0.0045720917156125696,
          0.004679432937866768,
          0.004784349885313066,
          0.004886999057507779,
          0.00498752080731768,
          0.005086041581206069,
          0.00518267577504905,
          0.005277527283175987,
          0.005370690800427069,
          0.005462252923720601,
          0.005552293089615468,
          0.005640884376763244,
          0.005728094196309708,
          0.005813984888795476,
          0.005898614242583644,
          0.005982035946064723,
          0.006064299983694843,
          0.006145452984165134,
          0.006225538527589447,
          0.006304597417456481,
          0.006382667922163021,
          0.006459785990187927,
          0.006535985442337355,
          0.0066112981439813145,
          0.00668575415976691,
          0.00675938189294123,
          0.006832208211113189,
          0.006904258560034182,
          0.0069755570667648925,
          0.007046126633411087,
          0.007115989022464131,
          0.007185164934645716,
          0.007253674080046402,
          0.007321535243250965,
          0.007388766343060182,
          0.007455384487347727,
          0.007521406023527022,
          0.0075868465850504885,
          0.007651721134316003,
          0.007716044002313849,
          0.007779828925311927,
          0.007843089078845122,
          0.007905837109247305,
          0.007968085162939342,
          0.008029844913665984,
          0.008091127587852909,
          0.008151943988242483,
          0.008212304515946789,
          0.008272219191046593,
          0.008331697671851712,
          0.008390749272927156,
          0.008449382981981057,
          0.00850760747570034,
          0.008565431134612944,
          0.008622862057050207,
          0.00867990807227359,
          0.008736576752826353,
          0.008792875426166247,
          0.008848811185628636,
          0.008904390900767556,
          0.008959621227116354,
          0.009014508615407646,
          0.009069059320289341,
          0.009123279408569274,
          0.009177174767018625,
          0.00923075110976479,
          0.009284013985297546,
          0.00933696878311363,
          0.009389620740023474,
          0.009441974946139187,
          0.009494036350563895,
          0.009545809766800972,
          0.009597299877898702,
          0.00964851124134758,
          0.009699448293742918,
          0.009750115355227518,
          0.009800516633726497,
          0.00985065622898662,
          0.00990053813642966,
          0.009950166250831893,
          0.009999544369838409,
          0.010048676197320194,
          0.010097565346584791,
          0.010146215343446285,
          0.010194629629162844,
          0.010242811563248466,
          0.010290764426166499,
          0.010338491421908902,
          0.010385995680469051,
          0.01043328026021273,
          0.010480348150151975,
          0.010527202272127223,
          0.010573845482901634,
          0.01062028057617237,
          0.010666510284503161,
          0.010712537281180379,
          0.01075836418199827,
          0.0108039935469747,
          0.010849427882002605,
          0.010894669640438503,
          0.010939721224631271,
          0.010984584987395407,
          0.011029263233428455,
          0.01107375822067791,
          0.011118072161658055,
          0.0111622072247195,
          0.011206165535273871,
          0.011249949176974527,
          0.011293560192856433,
          0.011337000586436163,
          0.01138027232277361,
          0.011423377329497497,
          0.011466317497796696,
          0.011509094683376464,
          0.011551710707384366,
          0.011594167357303786,
          0.011636466387819788,
          0.011678609521654226,
          0.011720598450376318,
          0.011762434835184576,
          0.011804120307665311,
          0.011845656470526489,
          0.01188704489830783,
          0.011928287138069482,
          0.011969384710058484,
          0.01201033910835525,
          0.012051151801499516,
          0.012091824233097404,
          0.012132357822410178,
          0.012172753964925453,
          0.012213014032910419,
          0.012253139375949629,
          0.012293131321466366,
          0.01233299117522857,
          0.012372720221840772,
          0.012412319725220389,
          0.012451790929062012,
          0.012491135057286717,
          0.012530353314480047,
          0.012569446886316782,
          0.01260841693997361,
          0.012647264624531251,
          0.012685991071364366,
          0.012724597394521586,
          0.012763084691094106,
          0.01280145404157551,
          0.012839706510210824,
          0.012877843145336798,
          0.012915864979712421,
          0.012953773030841553,
          0.012991568301286227,
          0.013029251778972295,
          0.013066824437486524,
          0.013104287236366474,
          0.01314164112138283,
          0.013178887024813957,
          0.013216025865714243,
          0.013253058550175112,
          0.013289985971579155,
          0.013326809010849039,
          0.013363528536688873,
          0.013400145405820352,
          0.01343666046321279,
          0.01347307454230795,
          0.013509388465238303,
          0.013545603043041421,
          0.013581719075868248,
          0.013617737353186277,
          0.013653658653978717,
          0.013689483746937903,
          0.013725213390655022,
          0.013760848333804643,
          0.013796389315325452,
          0.013831837064596675,
          0.013867192301610043,
          0.013902455737138109,
          0.013937628072899,
          0.013972710001716848,
          0.014007702207678663,
          0.014042605366287986
         ],
         "yaxis": "y"
        },
        {
         "hovertemplate": "source=early_life<br>strategy=treated<br>time=%{x}<br>pof=%{y}<extra></extra>",
         "legendgroup": "early_life, treated",
         "line": {
          "color": "#EF553B",
          "dash": "dot"
         },
         "mode": "lines",
         "name": "early_life, treated",
         "showlegend": true,
         "type": "scattergl",
         "x": [
          0,
          1,
          2,
          3,
          4,
          5,
          6,
          7,
          8,
          9,
          10,
          11,
          12,
          13,
          14,
          15,
          16,
          17,
          18,
          19,
          20,
          21,
          22,
          23,
          24,
          25,
          26,
          27,
          28,
          29,
          30,
          31,
          32,
          33,
          34,
          35,
          36,
          37,
          38,
          39,
          40,
          41,
          42,
          43,
          44,
          45,
          46,
          47,
          48,
          49,
          50,
          51,
          52,
          53,
          54,
          55,
          56,
          57,
          58,
          59,
          60,
          61,
          62,
          63,
          64,
          65,
          66,
          67,
          68,
          69,
          70,
          71,
          72,
          73,
          74,
          75,
          76,
          77,
          78,
          79,
          80,
          81,
          82,
          83,
          84,
          85,
          86,
          87,
          88,
          89,
          90,
          91,
          92,
          93,
          94,
          95,
          96,
          97,
          98,
          99,
          100,
          101,
          102,
          103,
          104,
          105,
          106,
          107,
          108,
          109,
          110,
          111,
          112,
          113,
          114,
          115,
          116,
          117,
          118,
          119,
          120,
          121,
          122,
          123,
          124,
          125,
          126,
          127,
          128,
          129,
          130,
          131,
          132,
          133,
          134,
          135,
          136,
          137,
          138,
          139,
          140,
          141,
          142,
          143,
          144,
          145,
          146,
          147,
          148,
          149,
          150,
          151,
          152,
          153,
          154,
          155,
          156,
          157,
          158,
          159,
          160,
          161,
          162,
          163,
          164,
          165,
          166,
          167,
          168,
          169,
          170,
          171,
          172,
          173,
          174,
          175,
          176,
          177,
          178,
          179,
          180,
          181,
          182,
          183,
          184,
          185,
          186,
          187,
          188,
          189,
          190,
          191,
          192,
          193,
          194,
          195,
          196,
          197,
          198,
          199,
          200
         ],
         "xaxis": "x",
         "y": [
          0,
          0,
          0,
          0,
          0,
          0,
          0,
          0,
          0,
          0,
          0,
          0,
          0,
          0,
          0,
          0,
          0,
          0,
          0,
          0,
          1.1102230246251565e-16,
          3.3306690738754696e-16,
          7.771561172376096e-16,
          1.9984014443252818e-15,
          4.6629367034256575e-15,
          1.0325074129013956e-14,
          2.2537527399890678e-14,
          4.7406523151494184e-14,
          9.736655925962623e-14,
          1.9484414082171497e-13,
          3.808064974464287e-13,
          7.280842595491777e-13,
          1.3639089857520048e-12,
          2.505884388881441e-12,
          4.52138326778595e-12,
          8.01936295147243e-12,
          1.3995804515332111e-11,
          2.4056423519880354e-11,
          4.075595416708211e-11,
          6.810862984707455e-11,
          1.1234835284312794e-10,
          1.8304746607356037e-10,
          2.9474878093793677e-10,
          4.693231359098604e-10,
          7.393453627102531e-10,
          1.1528874521715693e-9,
          1.7802692653390295e-9,
          2.7234922095331626e-9,
          4.129325548163365e-9,
          6.207332092778017e-9,
          9.254528809954365e-9,
          1.3688906896902608e-8,
          2.009471111730221e-8,
          2.928323716844261e-8,
          4.237399886530824e-8,
          6.090249071721843e-8,
          8.696250108908288e-8,
          1.233930909672054e-7,
          1.740230457514258e-7,
          2.4398894460375686e-7,
          3.4014711902674577e-7,
          4.716048463970779e-7,
          6.504023550846227e-7,
          8.923848299202675e-7,
          0.0000012183128790255182,
          0.000001655271183453877,
          0.0000022384486821902527,
          0.000003013380088567885,
          0.000004038758321778246,
          0.000005389951173828678,
          0.0000071633839254792164,
          0.000009481983499703972,
          0.000012501920038654468,
          0.00001642092961740005,
          0.00002148855839900765,
          0.000028018735358070757,
          0.0000364051593675363,
          0.00004714007884809579,
          0.00006083715042537463,
          0.00007825918951342992,
          0.00010035177312028853,
          0.0001282838264244912,
          0.0001634965230782326,
          0.00020776205833583639,
          0.00026325411783445496,
          0.0003326321672225685,
          0.00041914203301962605,
          0.0005267356372022913,
          0.0006602131908591824,
          0.0008253916489464608,
          0.0010293037805869654,
          0.0012804328173370294,
          0.0015889883021150686,
          0.0019672294661025047,
          0.0024298431951540467,
          0.002994384386733495,
          0.0036817872052227196,
          0.004516956361094393,
          0.005529447985908376,
          0.006754249834157733,
          0.008232670252881324,
          0.01001334439914392,
          0.012153364255171328,
          0.014719535694075137,
          0.01778976066631821,
          0.021454534840469663,
          0.025818539899337023,
          0.031002294127846497,
          0.0371438036948486,
          0.04440012871044663,
          0.05294874120697868,
          0.06298850515997467,
          0.07474005036703979,
          0.08844524204809046,
          0.10436536753013814,
          0.12277757400783307,
          0.14396900484320796,
          0.16822800986058117,
          0.19583176950894732,
          0.2270297060334424,
          0.26202220149556354,
          0.30093445897386506,
          0.3437858932865593,
          0.3904562807319941,
          0.44065106720124725,
          0.49386970265030805,
          0.5493824990765959,
          0.6062229950971415,
          0.6632036419278733,
          0.718962093120418,
          0.7720426872323146,
          0.8210122455988178,
          0.8646010811960976,
          0.901850303019429,
          0.9322377996342273,
          0.9557516864415997,
          0.9728855473053499,
          0.9845463024212818,
          0.9918900796986193,
          0.9961255591513823,
          0.9983364849790223,
          0.9993673391688522,
          0.9997903274050618,
          0.9999405512941982,
          0.9999858754524824,
          0.9999972526111282,
          0.9999995738015224,
          0.9999999487977326,
          0.9999999953906614,
          0.9999999997003478,
          0.9999999999865024,
          0.9999999999995978,
          0.9999999999999925,
          0.9999999999999999,
          1,
          1,
          1,
          1,
          1,
          1,
          1,
          1,
          1,
          1,
          1,
          1,
          1,
          1,
          1,
          1,
          1,
          1,
          1,
          1,
          1,
          1,
          1,
          1,
          1,
          1,
          1,
          1,
          1,
          1,
          1,
          1,
          1,
          1,
          1,
          1,
          1,
          1,
          1,
          1,
          1,
          1,
          1,
          1,
          1,
          1,
          1
         ],
         "yaxis": "y"
        },
        {
         "hovertemplate": "source=random<br>strategy=untreated<br>time=%{x}<br>pof=%{y}<extra></extra>",
         "legendgroup": "random, untreated",
         "line": {
          "color": "#00cc96",
          "dash": "solid"
         },
         "mode": "lines",
         "name": "random, untreated",
         "showlegend": true,
         "type": "scattergl",
         "x": [
          0,
          1,
          2,
          3,
          4,
          5,
          6,
          7,
          8,
          9,
          10,
          11,
          12,
          13,
          14,
          15,
          16,
          17,
          18,
          19,
          20,
          21,
          22,
          23,
          24,
          25,
          26,
          27,
          28,
          29,
          30,
          31,
          32,
          33,
          34,
          35,
          36,
          37,
          38,
          39,
          40,
          41,
          42,
          43,
          44,
          45,
          46,
          47,
          48,
          49,
          50,
          51,
          52,
          53,
          54,
          55,
          56,
          57,
          58,
          59,
          60,
          61,
          62,
          63,
          64,
          65,
          66,
          67,
          68,
          69,
          70,
          71,
          72,
          73,
          74,
          75,
          76,
          77,
          78,
          79,
          80,
          81,
          82,
          83,
          84,
          85,
          86,
          87,
          88,
          89,
          90,
          91,
          92,
          93,
          94,
          95,
          96,
          97,
          98,
          99,
          100,
          101,
          102,
          103,
          104,
          105,
          106,
          107,
          108,
          109,
          110,
          111,
          112,
          113,
          114,
          115,
          116,
          117,
          118,
          119,
          120,
          121,
          122,
          123,
          124,
          125,
          126,
          127,
          128,
          129,
          130,
          131,
          132,
          133,
          134,
          135,
          136,
          137,
          138,
          139,
          140,
          141,
          142,
          143,
          144,
          145,
          146,
          147,
          148,
          149,
          150,
          151,
          152,
          153,
          154,
          155,
          156,
          157,
          158,
          159,
          160,
          161,
          162,
          163,
          164,
          165,
          166,
          167,
          168,
          169,
          170,
          171,
          172,
          173,
          174,
          175,
          176,
          177,
          178,
          179,
          180,
          181,
          182,
          183,
          184,
          185,
          186,
          187,
          188,
          189,
          190,
          191,
          192,
          193,
          194,
          195,
          196,
          197,
          198,
          199,
          200
         ],
         "xaxis": "x",
         "y": [
          0,
          0.000999500166624978,
          0.001998001332666921,
          0.0029955044966269995,
          0.003992010656008516,
          0.00498752080731768,
          0.005982035946064723,
          0.0069755570667648925,
          0.007968085162939342,
          0.008959621227116354,
          0.009950166250831893,
          0.010939721224631271,
          0.011928287138069482,
          0.012915864979712421,
          0.013902455737138109,
          0.014888060396937353,
          0.015872679944714863,
          0.016856315365090357,
          0.017838967641699233,
          0.018820637757194003,
          0.019801326693244747,
          0.02078103543054044,
          0.02175976494878995,
          0.02273751622672293,
          0.023714290242090708,
          0.024690087971667385,
          0.025664910391250628,
          0.026638758475663216,
          0.02761163319875315,
          0.02858353553339521,
          0.029554466451491845,
          0.030524426923974057,
          0.0314934179208024,
          0.03246144041096799,
          0.03342849536249337,
          0.03439458374243354,
          0.03535970651687692,
          0.0363238646509465,
          0.03728705910880048,
          0.038249290853633267,
          0.03921056084767682,
          0.0401708700522011,
          0.04113021942751549,
          0.04208860993296937,
          0.04304604252695332,
          0.04400251816690004,
          0.04495803780928531,
          0.04591260240962891,
          0.046866212922495265,
          0.04781887030149512,
          0.048770575499285984,
          0.04972132946757302,
          0.05067113315711047,
          0.051619987517701804,
          0.05256789349820168,
          0.05351485204651618,
          0.05446086410960371,
          0.05540593063347665,
          0.05635005256320147,
          0.05729323084290028,
          0.05823546641575128,
          0.05917676022399032,
          0.06011711320891111,
          0.06105652631086678,
          0.061995000469270534,
          0.06293253662259657,
          0.06386913570838115,
          0.06480479866322342,
          0.06573952642278647,
          0.06667331992179804,
          0.06760618009405173,
          0.06853810787240788,
          0.06946910418879426,
          0.07039916997420725,
          0.07132830615871277,
          0.07225651367144714,
          0.07318379344061776,
          0.07411014639350466,
          0.07503557345646072,
          0.07596007555491324,
          0.07688365361336424,
          0.07780630855539195,
          0.0787280413036513,
          0.07964885277987532,
          0.08056874390487534,
          0.08148771559854262,
          0.08240576877984895,
          0.08332290436684775,
          0.08423912327667438,
          0.08515442642554805,
          0.08606881472877181,
          0.08698228910073424,
          0.08789485045490963,
          0.08880649970385945,
          0.08971723775923302,
          0.09062706553176858,
          0.09153598393129381,
          0.0924439938667273,
          0.09335109624607907,
          0.0942572919764515,
          0.09516258196404048,
          0.09606696711413587,
          0.09697044833112323,
          0.09787302651848351,
          0.09877470257879517,
          0.09967547741373439,
          0.10057535192407596,
          0.1014743270096945,
          0.10237240356956512,
          0.10326958250176455,
          0.10416586470347178,
          0.10506125107096898,
          0.10595574249964279,
          0.10684933988398448,
          0.1077420441175917,
          0.10863385609316867,
          0.10952477670252736,
          0.11041480683658866,
          0.11130394738538263,
          0.1121921992380499,
          0.11307956328284252,
          0.11396604040712444,
          0.11485163149737287,
          0.1157363374391791,
          0.1166201591172491,
          0.11750309741540454,
          0.11838515321658394,
          0.11926632740284304,
          0.12014662085535621,
          0.12102603445441684,
          0.1219045690794387,
          0.12278222560895646,
          0.12365900492062676,
          0.1245349078912289,
          0.125409935396666,
          0.12628408831196558,
          0.1271573675112807,
          0.1280297738678906,
          0.12890130825420165,
          0.12977197154174847,
          0.13064176460119414,
          0.13151068830233215,
          0.13237874351408596,
          0.133245931104511,
          0.134112251940795,
          0.1349777068892587,
          0.1358422968153572,
          0.1367060225836806,
          0.1375688850579545,
          0.13843088510104173,
          0.1392920235749422,
          0.14015230134079448,
          0.14101171925887657,
          0.1418702781886062,
          0.1427279789885425,
          0.1435848225163865,
          0.14444080962898154,
          0.14529594118231492,
          0.1461502180315183,
          0.1470036410308685,
          0.14785621103378865,
          0.1487079288928489,
          0.14955879545976702,
          0.15040881158540975,
          0.15125797811979325,
          0.15210629591208413,
          0.15295376581060038,
          0.15380038866281176,
          0.15464616531534126,
          0.15549109661396565,
          0.1563351834036163,
          0.1571784265283801,
          0.1580208268315001,
          0.15886238515537676,
          0.1597031023415686,
          0.16054297923079264,
          0.16138201666292595,
          0.16222021547700616,
          0.16305757651123187,
          0.1638941006029645,
          0.164729788588728,
          0.16556464130421045,
          0.1663986595842647,
          0.16723184426290905,
          0.16806419617332824,
          0.16889571614787435,
          0.16972640501806735,
          0.17055626361459608,
          0.1713852927673194,
          0.17221349330526636,
          0.1730408660566377,
          0.17386741184880616,
          0.17469313150831767,
          0.17551802586089182,
          0.17634209573142312,
          0.1771653419439816,
          0.17798776532181348,
          0.17880936668734204,
          0.17963014686216894,
          0.1804501066670744,
          0.18126924692201818
         ],
         "yaxis": "y"
        },
        {
         "hovertemplate": "source=random<br>strategy=treated<br>time=%{x}<br>pof=%{y}<extra></extra>",
         "legendgroup": "random, treated",
         "line": {
          "color": "#00cc96",
          "dash": "dot"
         },
         "mode": "lines",
         "name": "random, treated",
         "showlegend": true,
         "type": "scattergl",
         "x": [
          0,
          1,
          2,
          3,
          4,
          5,
          6,
          7,
          8,
          9,
          10,
          11,
          12,
          13,
          14,
          15,
          16,
          17,
          18,
          19,
          20,
          21,
          22,
          23,
          24,
          25,
          26,
          27,
          28,
          29,
          30,
          31,
          32,
          33,
          34,
          35,
          36,
          37,
          38,
          39,
          40,
          41,
          42,
          43,
          44,
          45,
          46,
          47,
          48,
          49,
          50,
          51,
          52,
          53,
          54,
          55,
          56,
          57,
          58,
          59,
          60,
          61,
          62,
          63,
          64,
          65,
          66,
          67,
          68,
          69,
          70,
          71,
          72,
          73,
          74,
          75,
          76,
          77,
          78,
          79,
          80,
          81,
          82,
          83,
          84,
          85,
          86,
          87,
          88,
          89,
          90,
          91,
          92,
          93,
          94,
          95,
          96,
          97,
          98,
          99,
          100,
          101,
          102,
          103,
          104,
          105,
          106,
          107,
          108,
          109,
          110,
          111,
          112,
          113,
          114,
          115,
          116,
          117,
          118,
          119,
          120,
          121,
          122,
          123,
          124,
          125,
          126,
          127,
          128,
          129,
          130,
          131,
          132,
          133,
          134,
          135,
          136,
          137,
          138,
          139,
          140,
          141,
          142,
          143,
          144,
          145,
          146,
          147,
          148,
          149,
          150,
          151,
          152,
          153,
          154,
          155,
          156,
          157,
          158,
          159,
          160,
          161,
          162,
          163,
          164,
          165,
          166,
          167,
          168,
          169,
          170,
          171,
          172,
          173,
          174,
          175,
          176,
          177,
          178,
          179,
          180,
          181,
          182,
          183,
          184,
          185,
          186,
          187,
          188,
          189,
          190,
          191,
          192,
          193,
          194,
          195,
          196,
          197,
          198,
          199,
          200
         ],
         "xaxis": "x",
         "y": [
          0,
          0.002425152802634334,
          0.004263570579188913,
          0.005928985023586741,
          0.007490382324839229,
          0.008978235345889707,
          0.010409632358506893,
          0.011795448646604534,
          0.01314318175333462,
          0.014458295670276233,
          0.015744938756260707,
          0.017006361231842515,
          0.01824517405915771,
          0.019463517745489156,
          0.020663176964916707,
          0.021845661033037866,
          0.02301226201363793,
          0.024164097688102126,
          0.02530214399170183,
          0.026427259941814274,
          0.027540207100480996,
          0.028641664983566795,
          0.029732243413867487,
          0.030812492535860603,
          0.0318829110173221,
          0.03294395282806084,
          0.033996032889757055,
          0.03503953182116182,
          0.0360747999517016,
          0.03710216073842443,
          0.038121913692538145,
          0.03913433689995327,
          0.04013968920345723,
          0.04113821210111834,
          0.042130131405318516,
          0.04311565869876277,
          0.04409499261741512,
          0.045068319985177574,
          0.04603581682100033,
          0.046997649235750116,
          0.04795397423343084,
          0.04890494042909621,
          0.04985068869394471,
          0.05079135273654356,
          0.05172705962784818,
          0.05265793027661081,
          0.05358407986086555,
          0.054505618220418994,
          0.05542265021462722,
          0.056335276049191196,
          0.057243591575231845,
          0.05814768856350705,
          0.0590476549562845,
          0.05994357509908599,
          0.06083552995426533,
          0.06172359729815269,
          0.06260785190330742,
          0.06348836570725247,
          0.06436520796891121,
          0.0652384454138425,
          0.06610814236925211,
          0.06697436088965858,
          0.06783716087400649,
          0.06869660017493406,
          0.06955273470084189,
          0.0704056185113392,
          0.07125530390659529,
          0.07210184151107091,
          0.07294528035206294,
          0.07378566793345487,
          0.07462305030503191,
          0.07545747212768694,
          0.07628897673481572,
          0.07711760619017471,
          0.07794340134244993,
          0.07876640187676731,
          0.07958664636335455,
          0.08040417230354624,
          0.0812190161733124,
          0.08203121346447151,
          0.08284079872374084,
          0.08364780558976337,
          0.08445226682823814,
          0.08525421436527603,
          0.08605367931908803,
          0.08685069203011153,
          0.08764528208966615,
          0.08843747836722948,
          0.08922730903641352,
          0.0900148015997172,
          0.09079998291212776,
          0.09158287920363484,
          0.09236351610071958,
          0.09314191864687682,
          0.09391811132222261,
          0.09469211806223787,
          0.09546396227569565,
          0.09623366686181378,
          0.09700125422667694,
          0.09776674629896331,
          0.09853016454501451,
          0.09929152998328161,
          0.1000508631981788,
          0.10080818435337469,
          0.1015635132045507,
          0.10231686911164972,
          0.10306827105064431,
          0.10381773762484381,
          0.10456528707576496,
          0.10531093729358632,
          0.10605470582720511,
          0.10679660989391704,
          0.10753666638873394,
          0.10827489189335882,
          0.10901130268483172,
          0.10974591474386186,
          0.11047874376286015,
          0.11120980515368628,
          0.11193911405512103,
          0.11266668534007718,
          0.11339253362256008,
          0.11411667326438846,
          0.11483911838168559,
          0.11555988285115038,
          0.11627898031611805,
          0.11699642419241918,
          0.1177122276740441,
          0.1184264037386229,
          0.11913896515272593,
          0.11984992447699394,
          0.1205592940711041,
          0.12126708609857784,
          0.12197331253143706,
          0.12267798515471517,
          0.1233811155708282,
          0.12408271520380987,
          0.12478279530341918,
          0.12548136694912182,
          0.12617844105395204,
          0.12687402836825934,
          0.12756813948334367,
          0.12826078483498315,
          0.12895197470685915,
          0.1296417192338818,
          0.13033002840541896,
          0.13101691206843313,
          0.13170237993052925,
          0.13238644156291623,
          0.13306910640328506,
          0.13375038375860748,
          0.1344302828078563,
          0.1351088126046518,
          0.13578598207983517,
          0.13646180004397268,
          0.13713627518979188,
          0.13780941609455322,
          0.1384812312223579,
          0.13915172892639527,
          0.139820917451131,
          0.14048880493443827,
          0.1411553994096738,
          0.14182070880770015,
          0.14248474095885655,
          0.1431475035948796,
          0.14380900435077504,
          0.1444692507666434,
          0.14512825028945875,
          0.14578601027480476,
          0.14644253798856677,
          0.14709784060858333,
          0.14775192522625658,
          0.14840479884812452,
          0.14905646839739473,
          0.14970694071544222,
          0.1503562225632702,
          0.15100432062293812,
          0.1516512414989546,
          0.15229699171963873,
          0.1529415777384494,
          0.15358500593528368,
          0.15422728261774588,
          0.15486841402238694,
          0.15550840631591656,
          0.15614726559638692,
          0.15678499789435063,
          0.15742160917399217,
          0.15805710533423478,
          0.15869149220982237,
          0.15932477557237779,
          0.1599569611314383,
          0.16058805453546787,
          0.1612180613728481,
          0.16184698717284807,
          0.1624748374065722,
          0.16310161748788943,
          0.1637273327743417,
          0.1643519885680339,
          0.16497559011650442,
          0.16559814261357864,
          0.16621965120020354,
          0.16684012096526624
         ],
         "yaxis": "y"
        },
        {
         "hovertemplate": "source=slow_aging<br>strategy=untreated<br>time=%{x}<br>pof=%{y}<extra></extra>",
         "legendgroup": "slow_aging, untreated",
         "line": {
          "color": "#ab63fa",
          "dash": "solid"
         },
         "mode": "lines",
         "name": "slow_aging, untreated",
         "showlegend": true,
         "type": "scattergl",
         "x": [
          0,
          1,
          2,
          3,
          4,
          5,
          6,
          7,
          8,
          9,
          10,
          11,
          12,
          13,
          14,
          15,
          16,
          17,
          18,
          19,
          20,
          21,
          22,
          23,
          24,
          25,
          26,
          27,
          28,
          29,
          30,
          31,
          32,
          33,
          34,
          35,
          36,
          37,
          38,
          39,
          40,
          41,
          42,
          43,
          44,
          45,
          46,
          47,
          48,
          49,
          50,
          51,
          52,
          53,
          54,
          55,
          56,
          57,
          58,
          59,
          60,
          61,
          62,
          63,
          64,
          65,
          66,
          67,
          68,
          69,
          70,
          71,
          72,
          73,
          74,
          75,
          76,
          77,
          78,
          79,
          80,
          81,
          82,
          83,
          84,
          85,
          86,
          87,
          88,
          89,
          90,
          91,
          92,
          93,
          94,
          95,
          96,
          97,
          98,
          99,
          100,
          101,
          102,
          103,
          104,
          105,
          106,
          107,
          108,
          109,
          110,
          111,
          112,
          113,
          114,
          115,
          116,
          117,
          118,
          119,
          120,
          121,
          122,
          123,
          124,
          125,
          126,
          127,
          128,
          129,
          130,
          131,
          132,
          133,
          134,
          135,
          136,
          137,
          138,
          139,
          140,
          141,
          142,
          143,
          144,
          145,
          146,
          147,
          148,
          149,
          150,
          151,
          152,
          153,
          154,
          155,
          156,
          157,
          158,
          159,
          160,
          161,
          162,
          163,
          164,
          165,
          166,
          167,
          168,
          169,
          170,
          171,
          172,
          173,
          174,
          175,
          176,
          177,
          178,
          179,
          180,
          181,
          182,
          183,
          184,
          185,
          186,
          187,
          188,
          189,
          190,
          191,
          192,
          193,
          194,
          195,
          196,
          197,
          198,
          199,
          200
         ],
         "xaxis": "x",
         "y": [
          0,
          0,
          0,
          0,
          0,
          0,
          0,
          0,
          0,
          0,
          0,
          0.00009999500016666385,
          0.0003999200106655776,
          0.0008995951214726405,
          0.0015987206823936395,
          0.0024968776025399153,
          0.003593527769006677,
          0.004888014584170208,
          0.006379563620851014,
          0.008067283394428859,
          0.009950166250831893,
          0.012027089369161748,
          0.014296815877557045,
          0.016757996080744575,
          0.019409168797571597,
          0.022248762806663658,
          0.025275098398206075,
          0.02848638902970424,
          0.031880743083437246,
          0.03545616572318455,
          0.03921056084767682,
          0.04314173313809033,
          0.04724739019678903,
          0.051525144774395404,
          0.05597251708216433,
          0.06058693718652419,
          0.0653657474825513,
          0.07030620524304565,
          0.0754054852397893,
          0.08066068243348179,
          0.08606881472877181,
          0.091626825790732,
          0.09733158791905794,
          0.10317990497621321,
          0.10916851536569117,
          0.11529409505651644,
          0.12155326065006866,
          0.12794257248528085,
          0.13445853777823402,
          0.14109761379215235,
          0.14785621103378865,
          0.1547306964721814,
          0.16171739677576646,
          0.16881260156382916,
          0.1760125666682968,
          0.18331351740188917,
          0.1907116518286679,
          0.1982031440330586,
          0.2057841473834533,
          0.21345079778654508,
          0.22119921692859512,
          0.2290255154998847,
          0.23692579639866396,
          0.24489615791097652,
          0.2529326968628044,
          0.26103151174105577,
          0.2691887057799961,
          0.27740039000980643,
          0.28566268626404245,
          0.29397173014286027,
          0.302323673928969,
          0.31071468945337366,
          0.31914097090807525,
          0.3275987376029973,
          0.33608423666452647,
          0.3445937456731595,
          0.3531235752378702,
          0.36167007150492503,
          0.37022961859899695,
          0.3787986409945492,
          0.3873736058155839,
          0.39595102506197466,
          0.4045274577607302,
          0.413099512040662,
          0.4216638471290559,
          0.430217175269077,
          0.4387562635567651,
          0.4472779356966061,
          0.45577907367479265,
          0.4642566193494153,
          0.47270757595695145,
          0.48112900953454774,
          0.48951805025771067,
          0.4978718936931531,
          0.5061878019666538,
          0.5144631048459205,
          0.5226952007385541,
          0.5308815576053358,
          0.5390197137891664,
          0.5471072787601053,
          0.5551419337770589,
          0.5631214324667778,
          0.571043601320927,
          0.5789063401120882,
          0.5867076222296558,
          0.5944454949366794,
          0.6021180795487953,
          0.6097235715364788,
          0.617260240551931,
          0.6247264303819926,
          0.6321205588285577,
          0.6394411175180243,
          0.6466866716413986,
          0.6538558596267213,
          0.6609473927455578,
          0.6679600546553394,
          0.6748927008794042,
          0.6817442582266293,
          0.6885137241525929,
          0.6952001660642468,
          0.7018027205701127,
          0.7083205926780536,
          0.7147530549426948,
          0.7210994465646001,
          0.727359172443323,
          0.7335317021864758,
          0.7396165690769709,
          0.7456133690005962,
          0.7515217593360958,
          0.7573414578099291,
          0.7630722413178782,
          0.7687139447156713,
          0.7742664595807831,
          0.7797297329475583,
          0.7851037660177946,
          0.7903886128489022,
          0.7955843790217361,
          0.8006912202901774,
          0.8057093412145119,
          0.8106389937806259,
          0.8154804760070108,
          0.8202341305415322,
          0.8249003432498867,
          0.8294795417976285,
          0.8339721942276134,
          0.8383788075346608,
          0.8426999262391963,
          0.8469361309615888,
          0.8510880369988522,
          0.8551562929053329,
          0.8591415790789549,
          0.8630446063545467,
          0.8668661146057182,
          0.8706068713567087,
          0.8742676704055721,
          0.87784933046001,
          0.8813526937871119,
          0.8847786248782066,
          0.8881280091299718,
          0.891401751542897,
          0.8946007754381357,
          0.8977260211937301,
          0.9007784450011368,
          0.9037590176429221,
          0.9066687232924474,
          0.9095085583363041,
          0.9122795302202076,
          0.9149826563190049,
          0.9176189628313963,
          0.9201894836999204,
          0.9226952595567003,
          0.9251373366953966,
          0.9275167660697635,
          0.9298346023191568,
          0.9320919028212905,
          0.9342897267724971,
          0.9364291342956955,
          0.9385111855762299,
          0.9405369400256968,
          0.9425074554738354,
          0.944423787388517,
          0.9462869881238265,
          0.9480981061961946,
          0.9498581855884971,
          0.9515682650820058,
          0.953229377616041,
          0.954842549675139,
          0.9564088007035214,
          0.9579291425466177,
          0.9594045789193697,
          0.9608361049010129,
          0.962224706456008,
          0.9635713599807709,
          0.9648770318758249,
          0.9661426781429768,
          0.967369244007104,
          0.9685576635621087,
          0.9697088594405937,
          0.970823742506783,
          0.9719032115722069,
          0.9729481531336496
         ],
         "yaxis": "y"
        },
        {
         "hovertemplate": "source=slow_aging<br>strategy=treated<br>time=%{x}<br>pof=%{y}<extra></extra>",
         "legendgroup": "slow_aging, treated",
         "line": {
          "color": "#ab63fa",
          "dash": "dot"
         },
         "mode": "lines",
         "name": "slow_aging, treated",
         "showlegend": true,
         "type": "scattergl",
         "x": [
          0,
          1,
          2,
          3,
          4,
          5,
          6,
          7,
          8,
          9,
          10,
          11,
          12,
          13,
          14,
          15,
          16,
          17,
          18,
          19,
          20,
          21,
          22,
          23,
          24,
          25,
          26,
          27,
          28,
          29,
          30,
          31,
          32,
          33,
          34,
          35,
          36,
          37,
          38,
          39,
          40,
          41,
          42,
          43,
          44,
          45,
          46,
          47,
          48,
          49,
          50,
          51,
          52,
          53,
          54,
          55,
          56,
          57,
          58,
          59,
          60,
          61,
          62,
          63,
          64,
          65,
          66,
          67,
          68,
          69,
          70,
          71,
          72,
          73,
          74,
          75,
          76,
          77,
          78,
          79,
          80,
          81,
          82,
          83,
          84,
          85,
          86,
          87,
          88,
          89,
          90,
          91,
          92,
          93,
          94,
          95,
          96,
          97,
          98,
          99,
          100,
          101,
          102,
          103,
          104,
          105,
          106,
          107,
          108,
          109,
          110,
          111,
          112,
          113,
          114,
          115,
          116,
          117,
          118,
          119,
          120,
          121,
          122,
          123,
          124,
          125,
          126,
          127,
          128,
          129,
          130,
          131,
          132,
          133,
          134,
          135,
          136,
          137,
          138,
          139,
          140,
          141,
          142,
          143,
          144,
          145,
          146,
          147,
          148,
          149,
          150,
          151,
          152,
          153,
          154,
          155,
          156,
          157,
          158,
          159,
          160,
          161,
          162,
          163,
          164,
          165,
          166,
          167,
          168,
          169,
          170,
          171,
          172,
          173,
          174,
          175,
          176,
          177,
          178,
          179,
          180,
          181,
          182,
          183,
          184,
          185,
          186,
          187,
          188,
          189,
          190,
          191,
          192,
          193,
          194,
          195,
          196,
          197,
          198,
          199,
          200
         ],
         "xaxis": "x",
         "y": [
          0,
          0.000003069797885335568,
          0.00001393964340345999,
          0.00003377941272231233,
          0.00006329730034770886,
          0.00010302194733946557,
          0.00015338057569957986,
          0.00021473406119010274,
          0.00028739602685312615,
          0.0003716444886541215,
          0.0004677295220304467,
          0.0005758785955564116,
          0.0006963004406568274,
          0.0008291879534808588,
          0.0009747204298986567,
          0.0011330653252535905,
          0.0013043796658297468,
          0.001488811198972484,
          0.0016864993430912856,
          0.0018975759817220217,
          0.0021221661341971343,
          0.002360388527349655,
          0.002612356086884371,
          0.002878176362835383,
          0.003157951900417344,
          0.0034517805652419797,
          0.003759755830090139,
          0.004081967029066047,
          0.004418499583890068,
          0.004769435206248618,
          0.005134852079451968,
          0.005514825022118974,
          0.0059094256361711395,
          0.006318722441071567,
          0.006742780995951603,
          0.007181664011034705,
          0.007635431449563357,
          0.008104140621276512,
          0.008587846268339527,
          0.009086600644518272,
          0.009600453588283764,
          0.010129452590453614,
          0.010673642856900867,
          0.011233067366802074,
          0.01180776692683938,
          0.012397780221727106,
          0.013003143861392452,
          0.013623892425105422,
          0.014260058502819972,
          0.014911672733966097,
          0.01557876384390211,
          0.01626135867822409,
          0.01695948223510113,
          0.017673157695799024,
          0.018402406453530307,
          0.019147248140764295,
          0.01990770065511338,
          0.0206837801839046,
          0.021475501227533833,
          0.022282876621694925,
          0.02310591755856395,
          0.02394463360701793,
          0.024799032731954163,
          0.02566912131277821,
          0.026554904161117054,
          0.02745638453781374,
          0.028373564169253962,
          0.029306443263071413,
          0.030255020523274445,
          0.03121929316483618,
          0.032199256927783804,
          0.03319490609082232,
          0.034206233484525894,
          0.03523323050412552,
          0.036275887121922756,
          0.037334191899353386,
          0.03840813199872817,
          0.03949769319467211,
          0.040602859885283005,
          0.04172361510303069,
          0.042859940525414975,
          0.04401181648540009,
          0.04517922198164126,
          0.04636213468852057,
          0.04756053096600499,
          0.04877438586934102,
          0.05000367315859855,
          0.05124836530807586,
          0.05250843351557777,
          0.053783847711576516,
          0.05507457656826675,
          0.05638058750852193,
          0.057701846714764526,
          0.05903831913775448,
          0.06038996850530687,
          0.0617567573309451,
          0.06313864692249582,
          0.06453559739063419,
          0.06594756765738419,
          0.0673745154645804,
          0.06881639738229661,
          0.07027316881724754,
          0.07174478402116702,
          0.07323119609916873,
          0.07473235701809255,
          0.0762482176148429,
          0.0777787276047206,
          0.07932383558975242,
          0.08088348906702436,
          0.08245763443701803,
          0.08404621701195603,
          0.0856491810241583,
          0.0872664696344122,
          0.08889802494035925,
          0.09054378798490026,
          0.09220369876462176,
          0.09387769623824527,
          0.09556571833510275,
          0.09726770196363765,
          0.09898358301993604,
          0.10071329639628746,
          0.10245677598977732,
          0.10421395471091377,
          0.10598476449228811,
          0.10776913629727103,
          0.1095670001287462,
          0.11137828503788139,
          0.11320291913293845,
          0.11504082958812278,
          0.11689194265247316,
          0.1187561836587927,
          0.12063347703262162,
          0.12252374630125107,
          0.1244269141027815,
          0.12634290219522193,
          0.12827163146563347,
          0.13021302193931727,
          0.1321669927890443,
          0.13413346234433088,
          0.1361123481007569,
          0.13810356672932889,
          0.1401070340858871,
          0.14212266522055605,
          0.14415037438723932,
          0.14619007505315817,
          0.1482416799084333,
          0.15030510087571036,
          0.1523802491198284,
          0.15446703505753012,
          0.15656536836721613,
          0.15867515799873977,
          0.16079631218324364,
          0.16292873844303812,
          0.1650723436015189,
          0.1672270337931261,
          0.1693927144733417,
          0.17156929042872626,
          0.17375666578699422,
          0.17595474402712563,
          0.17816342798951657,
          0.1803826198861641,
          0.18261222131088772,
          0.18485213324958516,
          0.1871022560905219,
          0.18936248963465485,
          0.19163273310598694,
          0.19391288516195448,
          0.19620284390384402,
          0.19850250688723992,
          0.20081177113250048,
          0.2031305331352613,
          0.20545868887696705,
          0.2077961338354275,
          0.21014276299540025,
          0.21249847085919626,
          0.2148631514573096,
          0.21723669835906823,
          0.2196190046833062,
          0.22200996310905585,
          0.2244094658862591,
          0.22681740484649648,
          0.2292336714137323,
          0.23165815661507638,
          0.2340907510915604,
          0.23653134510892604,
          0.23897982856842814,
          0.24143609101764674,
          0.24390002166130997,
          0.24637150937212648,
          0.24885044270162449,
          0.2513367098909979,
          0.25383019888195835,
          0.25633079732759034,
          0.2588383926032103,
          0.26135287181722744,
          0.2638741218220044,
          0.2664020292247188,
          0.26893648039822093,
          0.27147736149189117,
          0.2740245584424904,
          0.2765779569850073
         ],
         "yaxis": "y"
        },
        {
         "hovertemplate": "source=fast_aging<br>strategy=untreated<br>time=%{x}<br>pof=%{y}<extra></extra>",
         "legendgroup": "fast_aging, untreated",
         "line": {
          "color": "#FFA15A",
          "dash": "solid"
         },
         "mode": "lines",
         "name": "fast_aging, untreated",
         "showlegend": true,
         "type": "scattergl",
         "x": [
          0,
          1,
          2,
          3,
          4,
          5,
          6,
          7,
          8,
          9,
          10,
          11,
          12,
          13,
          14,
          15,
          16,
          17,
          18,
          19,
          20,
          21,
          22,
          23,
          24,
          25,
          26,
          27,
          28,
          29,
          30,
          31,
          32,
          33,
          34,
          35,
          36,
          37,
          38,
          39,
          40,
          41,
          42,
          43,
          44,
          45,
          46,
          47,
          48,
          49,
          50,
          51,
          52,
          53,
          54,
          55,
          56,
          57,
          58,
          59,
          60,
          61,
          62,
          63,
          64,
          65,
          66,
          67,
          68,
          69,
          70,
          71,
          72,
          73,
          74,
          75,
          76,
          77,
          78,
          79,
          80,
          81,
          82,
          83,
          84,
          85,
          86,
          87,
          88,
          89,
          90,
          91,
          92,
          93,
          94,
          95,
          96,
          97,
          98,
          99,
          100,
          101,
          102,
          103,
          104,
          105,
          106,
          107,
          108,
          109,
          110,
          111,
          112,
          113,
          114,
          115,
          116,
          117,
          118,
          119,
          120,
          121,
          122,
          123,
          124,
          125,
          126,
          127,
          128,
          129,
          130,
          131,
          132,
          133,
          134,
          135,
          136,
          137,
          138,
          139,
          140,
          141,
          142,
          143,
          144,
          145,
          146,
          147,
          148,
          149,
          150,
          151,
          152,
          153,
          154,
          155,
          156,
          157,
          158,
          159,
          160,
          161,
          162,
          163,
          164,
          165,
          166,
          167,
          168,
          169,
          170,
          171,
          172,
          173,
          174,
          175,
          176,
          177,
          178,
          179,
          180,
          181,
          182,
          183,
          184,
          185,
          186,
          187,
          188,
          189,
          190,
          191,
          192,
          193,
          194,
          195,
          196,
          197,
          198,
          199,
          200
         ],
         "xaxis": "x",
         "y": [
          0,
          0,
          0,
          0,
          0,
          0,
          0,
          0,
          0,
          0,
          0,
          9.99999949513608e-8,
          0.0000011313702098503242,
          0.0000046765262454728784,
          0.000012799918080341754,
          0.00002795045909742555,
          0.000052907578788841114,
          0.000090745152379057,
          0.0001448049835331977,
          0.0002186760868982951,
          0.0003161777712868963,
          0.00044134533807715925,
          0.0005984176357984872,
          0.0007918259554606788,
          0.0010261838997464023,
          0.0013062779545746084,
          0.0016370585554276174,
          0.0020236314851589388,
          0.0024712494717086253,
          0.002985303877468759,
          0.003571316389623269,
          0.004234930634358314,
          0.00498190364856832,
          0.005818097151360502,
          0.006749468564840488,
          0.007782061739756485,
          0.00892199734686272,
          0.010175462899567833,
          0.011548702377711884,
          0.013048005426296805,
          0.014679696106770668,
          0.016450121182113975,
          0.018365637920557343,
          0.020432601406308315,
          0.022657351349235744,
          0.02504619838906308,
          0.027605409893290966,
          0.03034119525181589,
          0.033259690675047415,
          0.03636694350626268,
          0.03966889606296653,
          0.04317136902616869,
          0.046880044400717136,
          0.050800448074157956,
          0.05493793200599972,
          0.05929765608374038,
          0.06388456968655387,
          0.06870339300210682,
          0.07375859814657393,
          0.07905439014250681,
          0.08459468781377733,
          0.0903831046613145,
          0.09642292978777611,
          0.1027171089435881,
          0.10926822577092954,
          0.1160784833261902,
          0.12314968596515052,
          0.13048322167858573,
          0.13808004496913928,
          0.14594066036309972,
          0.15406510665311413,
          0.16245294196982674,
          0.1711032297819115,
          0.18001452592492195,
          0.18918486675977397,
          0.19861175856146573,
          0.20829216823778218,
          0.2182225154762052,
          0.2283986664150056,
          0.23881592893151693,
          0.24946904963684824,
          0.2603522126617661,
          0.2714590403131555,
          0.28278259567433606,
          0.29431538721557104,
          0.30604937547335953,
          0.3179759818485638,
          0.33008609956410406,
          0.3423701068128939,
          0.3548178821159065,
          0.3674188218988219,
          0.38016186028363697,
          0.3930354910790065,
          0.40602779193997973,
          0.4191264506542851,
          0.4323187934984921,
          0.4455918155933216,
          0.45893221317320143,
          0.47232641767097516,
          0.4857606315045836,
          0.49922086543867106,
          0.512692977380552,
          0.5261627124569246,
          0.539615744205278,
          0.5530377167022318,
          0.5664142874402007,
          0.5797311707539232,
          0.5929741815896573,
          0.606129279402333,
          0.6191826119597966,
          0.6321205588285577,
          0.6449297743122826,
          0.6575972296127192,
          0.6701102539828743,
          0.6824565746441512,
          0.69462435524281,
          0.7066022326265868,
          0.7183793517295846,
          0.729945398362612,
          0.7412906297169879,
          0.7524059024023582,
          0.7632826978532533,
          0.7739131449548304,
          0.7842900397553982,
          0.7944068621517821,
          0.804257789453202,
          0.8138377067499569,
          0.8231422140346449,
          0.8321676300457197,
          0.8409109928256892,
          0.8493700570089917,
          0.8575432878773258,
          0.8654298522427395,
          0.8730296062408914,
          0.8803430801383526,
          0.8873714602784228,
          0.8941165683094632,
          0.9005808378580293,
          0.9067672888259103,
          0.9126794995053983,
          0.9183215767205607,
          0.9236981242138383,
          0.9288142095068387,
          0.9336753294716382,
          0.9382873748542029,
          0.9426565939946243,
          0.9467895559897574,
          0.9506931135425334,
          0.9543743657387561,
          0.9578406209866379,
          0.9610993603467662,
          0.9641582014707534,
          0.9670248633556164,
          0.9697071321081259,
          0.9722128278991288,
          0.9745497732723577,
          0.9767257629557007,
          0.9787485353055154,
          0.9806257454965466,
          0.9823649405515555,
          0.9839735362861153,
          0.9854587962253647,
          0.9868278125310695,
          0.9880874889592878,
          0.9892445258514767,
          0.9903054071451769,
          0.9912763893746167,
          0.9921634926168456,
          0.9929724933254317,
          0.9937089189814649,
          0.9943780444806499,
          0.9949848901657348,
          0.995534221405411,
          0.9960305496141822,
          0.9964781346025047,
          0.996880988142747,
          0.9972428786341498,
          0.9975673367489355,
          0.9978576619419456,
          0.9981169297076027,
          0.9983479994704824,
          0.9985535229992627,
          0.998735953238168,
          0.9988975534551269,
          0.9990404066116152,
          0.9991664248654196,
          0.9992773591242343,
          0.9993748085749715,
          0.9994602301208191,
          0.9995349476653137,
          0.9996001611899179,
          0.9996569555787107,
          0.9997063091507418,
          0.9997491018672878,
          0.9997861231876344,
          0.9998180795530266,
          0.9998456014840579,
          0.9998692502819572,
          0.9998895243289776,
          0.9999068649873684,
          0.9999216621002149
         ],
         "yaxis": "y"
        },
        {
         "hovertemplate": "source=fast_aging<br>strategy=treated<br>time=%{x}<br>pof=%{y}<extra></extra>",
         "legendgroup": "fast_aging, treated",
         "line": {
          "color": "#FFA15A",
          "dash": "dot"
         },
         "mode": "lines",
         "name": "fast_aging, treated",
         "showlegend": true,
         "type": "scattergl",
         "x": [
          0,
          1,
          2,
          3,
          4,
          5,
          6,
          7,
          8,
          9,
          10,
          11,
          12,
          13,
          14,
          15,
          16,
          17,
          18,
          19,
          20,
          21,
          22,
          23,
          24,
          25,
          26,
          27,
          28,
          29,
          30,
          31,
          32,
          33,
          34,
          35,
          36,
          37,
          38,
          39,
          40,
          41,
          42,
          43,
          44,
          45,
          46,
          47,
          48,
          49,
          50,
          51,
          52,
          53,
          54,
          55,
          56,
          57,
          58,
          59,
          60,
          61,
          62,
          63,
          64,
          65,
          66,
          67,
          68,
          69,
          70,
          71,
          72,
          73,
          74,
          75,
          76,
          77,
          78,
          79,
          80,
          81,
          82,
          83,
          84,
          85,
          86,
          87,
          88,
          89,
          90,
          91,
          92,
          93,
          94,
          95,
          96,
          97,
          98,
          99,
          100,
          101,
          102,
          103,
          104,
          105,
          106,
          107,
          108,
          109,
          110,
          111,
          112,
          113,
          114,
          115,
          116,
          117,
          118,
          119,
          120,
          121,
          122,
          123,
          124,
          125,
          126,
          127,
          128,
          129,
          130,
          131,
          132,
          133,
          134,
          135,
          136,
          137,
          138,
          139,
          140,
          141,
          142,
          143,
          144,
          145,
          146,
          147,
          148,
          149,
          150,
          151,
          152,
          153,
          154,
          155,
          156,
          157,
          158,
          159,
          160,
          161,
          162,
          163,
          164,
          165,
          166,
          167,
          168,
          169,
          170,
          171,
          172,
          173,
          174,
          175,
          176,
          177,
          178,
          179,
          180,
          181,
          182,
          183,
          184,
          185,
          186,
          187,
          188,
          189,
          190,
          191,
          192,
          193,
          194,
          195,
          196,
          197,
          198,
          199,
          200
         ],
         "xaxis": "x",
         "y": [
          0,
          0,
          0,
          0,
          0,
          1.1102230246251565e-16,
          1.2212453270876722e-15,
          6.217248937900877e-15,
          2.631228568361621e-14,
          9.370282327836321e-14,
          2.922107000813412e-13,
          8.174572130315028e-13,
          2.09099404457902e-12,
          4.9611426078399745e-12,
          1.104061286838487e-11,
          2.3250068537095103e-11,
          4.666311781420518e-11,
          8.977929510933791e-11,
          1.6639079003510915e-10,
          2.982573077403572e-10,
          5.188585117110733e-10,
          8.785620009277295e-10,
          1.4516222668348178e-9,
          2.3455195563570896e-9,
          3.713250817938274e-9,
          5.7693081423337844e-9,
          8.810215557097933e-9,
          1.3240654017643294e-8,
          1.960637607822946e-8,
          2.8635313453762024e-8,
          4.128849373508103e-8,
          5.882263309775482e-8,
          8.28665377428095e-8,
          1.1551374390350588e-7,
          1.5943415709873676e-7,
          2.1800780647396323e-7,
          2.95484221868314e-7,
          3.9717137234607236e-7,
          5.296585614544824e-7,
          7.010781860605775e-7,
          9.214118014133632e-7,
          0.0000012028465292690527,
          0.000001560188473859192,
          0.000002011340492824587,
          0.000002577852399432423,
          0.0000032855524535468916,
          0.000004165269834599528,
          0.0000052536586825358,
          0.000006594135242510291,
          0.000008237940659183707,
          0.000010245343044390509,
          0.000012686993577593064,
          0.000015645452607460086,
          0.00001921690299866441,
          0.000023513069315583834,
          0.000028663362853120766,
          0.00003481727402321333,
          0.00004214703517080309,
          0.00005085057854536945,
          0.00006115481587309901,
          0.00007331926777920383,
          0.00008764007318473599,
          0.00010445441075435102,
          0.00012414536649663077,
          0.00014714728370701646,
          0.00017395163360411914,
          0.00020511344721718672,
          0.00024125835134625184,
          0.0002830902537103164,
          0.00033139972471862844,
          0.00038707312562569207,
          0.00045110253513580556,
          0.0005245965287921095,
          0.0006087918676760395,
          0.0007050661550256354,
          0.000814951521310392,
          0.0009401494000141897,
          0.0010825464578305688,
          0.0012442317440725104,
          0.00142751512477024,
          0.001634947067070236,
          0.0018693398390304816,
          0.002133790188611706,
          0.002431703563413823,
          0.002766819929338582,
          0.0031432412416503297,
          0.003565460615626681,
          0.004038393235871962,
          0.004567409033085501,
          0.005158367144311837,
          0.005817652157037001,
          0.006552212118512091,
          0.007369598268891719,
          0.00827800642963561,
          0.009286319946538057,
          0.010404154049083014,
          0.011641901443871006,
          0.013010778908864595,
          0.014522874596366253,
          0.016191195685123283,
          0.01802971594488889,
          0.020053422689266354,
          0.0222783624938675,
          0.024721684945885336,
          0.02740168356736239,
          0.030337832917114005,
          0.03355082072498228,
          0.037062573746683536,
          0.040896275848131824,
          0.045076376635396764,
          0.04962858874159948,
          0.05457987166699707,
          0.05995839984610851,
          0.06579351238990927,
          0.0721156417271328,
          0.07895621815333131,
          0.08634754709814496,
          0.09432265575081988,
          0.10291510555430583,
          0.1121587670046782,
          0.12208755319331277,
          0.13273510862515636,
          0.14413445006142678,
          0.15631755649568468,
          0.1693149059074308,
          0.18315495717799835,
          0.1978635765312866,
          0.21346340910822503,
          0.22997319782808878,
          0.24740705355681591,
          0.2657736828099736,
          0.2850755817728362,
          0.30530820831410743,
          0.32645914687541144,
          0.34850728458324476,
          0.3714220205708597,
          0.395162534196312,
          0.4196771414413095,
          0.44490277207172413,
          0.47076460288808175,
          0.4971758843033992,
          0.5240379982296313,
          0.551240784479946,
          0.5786631702406677,
          0.6061741322886343,
          0.6336340142294805,
          0.6608962108999105,
          0.6878092191346306,
          0.7142190384496163,
          0.739971887169653,
          0.7649171797320955,
          0.7889106902309233,
          0.8118178069309299,
          0.833516763966976,
          0.8539017214519592,
          0.8728855555652966,
          0.8904022176574005,
          0.9064085275279385,
          0.9208852819062241,
          0.933837585188163,
          0.9452943451857485,
          0.9553069205075749,
          0.9639469556145589,
          0.9713034909858258,
          0.9774794848252871,
          0.9825879246125988,
          0.9867477369874913,
          0.9900797191558294,
          0.9927027117887518,
          0.994730211681385,
          0.9962675838112743,
          0.997409980573968,
          0.9982410163201676,
          0.9988321844051502,
          0.9992429484920808,
          0.9995213957174227,
          0.9997053107171027,
          0.9998235183026113,
          0.9998973481315806,
          0.9999420941459463,
          0.9999683703576221,
          0.999983297551406,
          0.9999914877015428,
          0.999995820456018,
          0.999998026544465,
          0.9999991056480741,
          0.9999996117581074,
          0.9999998388976195,
          0.9999999362381256,
          0.9999999759844008,
          0.9999999914124171,
          0.9999999970918134,
          0.9999999990696825,
          0.9999999997196277,
          0.9999999999206178,
          0.9999999999789461,
          0.999999999994785,
          0.9999999999987974,
          0.9999999999997427,
          0.999999999999949,
          0.9999999999999907
         ],
         "yaxis": "y"
        }
       ],
       "layout": {
        "legend": {
         "title": {
          "text": "source, strategy"
         },
         "tracegroupgap": 0
        },
        "margin": {
         "t": 60
        },
        "template": {
         "data": {
          "bar": [
           {
            "error_x": {
             "color": "#2a3f5f"
            },
            "error_y": {
             "color": "#2a3f5f"
            },
            "marker": {
             "line": {
              "color": "#E5ECF6",
              "width": 0.5
             }
            },
            "type": "bar"
           }
          ],
          "barpolar": [
           {
            "marker": {
             "line": {
              "color": "#E5ECF6",
              "width": 0.5
             }
            },
            "type": "barpolar"
           }
          ],
          "carpet": [
           {
            "aaxis": {
             "endlinecolor": "#2a3f5f",
             "gridcolor": "white",
             "linecolor": "white",
             "minorgridcolor": "white",
             "startlinecolor": "#2a3f5f"
            },
            "baxis": {
             "endlinecolor": "#2a3f5f",
             "gridcolor": "white",
             "linecolor": "white",
             "minorgridcolor": "white",
             "startlinecolor": "#2a3f5f"
            },
            "type": "carpet"
           }
          ],
          "choropleth": [
           {
            "colorbar": {
             "outlinewidth": 0,
             "ticks": ""
            },
            "type": "choropleth"
           }
          ],
          "contour": [
           {
            "colorbar": {
             "outlinewidth": 0,
             "ticks": ""
            },
            "colorscale": [
             [
              0,
              "#0d0887"
             ],
             [
              0.1111111111111111,
              "#46039f"
             ],
             [
              0.2222222222222222,
              "#7201a8"
             ],
             [
              0.3333333333333333,
              "#9c179e"
             ],
             [
              0.4444444444444444,
              "#bd3786"
             ],
             [
              0.5555555555555556,
              "#d8576b"
             ],
             [
              0.6666666666666666,
              "#ed7953"
             ],
             [
              0.7777777777777778,
              "#fb9f3a"
             ],
             [
              0.8888888888888888,
              "#fdca26"
             ],
             [
              1,
              "#f0f921"
             ]
            ],
            "type": "contour"
           }
          ],
          "contourcarpet": [
           {
            "colorbar": {
             "outlinewidth": 0,
             "ticks": ""
            },
            "type": "contourcarpet"
           }
          ],
          "heatmap": [
           {
            "colorbar": {
             "outlinewidth": 0,
             "ticks": ""
            },
            "colorscale": [
             [
              0,
              "#0d0887"
             ],
             [
              0.1111111111111111,
              "#46039f"
             ],
             [
              0.2222222222222222,
              "#7201a8"
             ],
             [
              0.3333333333333333,
              "#9c179e"
             ],
             [
              0.4444444444444444,
              "#bd3786"
             ],
             [
              0.5555555555555556,
              "#d8576b"
             ],
             [
              0.6666666666666666,
              "#ed7953"
             ],
             [
              0.7777777777777778,
              "#fb9f3a"
             ],
             [
              0.8888888888888888,
              "#fdca26"
             ],
             [
              1,
              "#f0f921"
             ]
            ],
            "type": "heatmap"
           }
          ],
          "heatmapgl": [
           {
            "colorbar": {
             "outlinewidth": 0,
             "ticks": ""
            },
            "colorscale": [
             [
              0,
              "#0d0887"
             ],
             [
              0.1111111111111111,
              "#46039f"
             ],
             [
              0.2222222222222222,
              "#7201a8"
             ],
             [
              0.3333333333333333,
              "#9c179e"
             ],
             [
              0.4444444444444444,
              "#bd3786"
             ],
             [
              0.5555555555555556,
              "#d8576b"
             ],
             [
              0.6666666666666666,
              "#ed7953"
             ],
             [
              0.7777777777777778,
              "#fb9f3a"
             ],
             [
              0.8888888888888888,
              "#fdca26"
             ],
             [
              1,
              "#f0f921"
             ]
            ],
            "type": "heatmapgl"
           }
          ],
          "histogram": [
           {
            "marker": {
             "colorbar": {
              "outlinewidth": 0,
              "ticks": ""
             }
            },
            "type": "histogram"
           }
          ],
          "histogram2d": [
           {
            "colorbar": {
             "outlinewidth": 0,
             "ticks": ""
            },
            "colorscale": [
             [
              0,
              "#0d0887"
             ],
             [
              0.1111111111111111,
              "#46039f"
             ],
             [
              0.2222222222222222,
              "#7201a8"
             ],
             [
              0.3333333333333333,
              "#9c179e"
             ],
             [
              0.4444444444444444,
              "#bd3786"
             ],
             [
              0.5555555555555556,
              "#d8576b"
             ],
             [
              0.6666666666666666,
              "#ed7953"
             ],
             [
              0.7777777777777778,
              "#fb9f3a"
             ],
             [
              0.8888888888888888,
              "#fdca26"
             ],
             [
              1,
              "#f0f921"
             ]
            ],
            "type": "histogram2d"
           }
          ],
          "histogram2dcontour": [
           {
            "colorbar": {
             "outlinewidth": 0,
             "ticks": ""
            },
            "colorscale": [
             [
              0,
              "#0d0887"
             ],
             [
              0.1111111111111111,
              "#46039f"
             ],
             [
              0.2222222222222222,
              "#7201a8"
             ],
             [
              0.3333333333333333,
              "#9c179e"
             ],
             [
              0.4444444444444444,
              "#bd3786"
             ],
             [
              0.5555555555555556,
              "#d8576b"
             ],
             [
              0.6666666666666666,
              "#ed7953"
             ],
             [
              0.7777777777777778,
              "#fb9f3a"
             ],
             [
              0.8888888888888888,
              "#fdca26"
             ],
             [
              1,
              "#f0f921"
             ]
            ],
            "type": "histogram2dcontour"
           }
          ],
          "mesh3d": [
           {
            "colorbar": {
             "outlinewidth": 0,
             "ticks": ""
            },
            "type": "mesh3d"
           }
          ],
          "parcoords": [
           {
            "line": {
             "colorbar": {
              "outlinewidth": 0,
              "ticks": ""
             }
            },
            "type": "parcoords"
           }
          ],
          "pie": [
           {
            "automargin": true,
            "type": "pie"
           }
          ],
          "scatter": [
           {
            "marker": {
             "colorbar": {
              "outlinewidth": 0,
              "ticks": ""
             }
            },
            "type": "scatter"
           }
          ],
          "scatter3d": [
           {
            "line": {
             "colorbar": {
              "outlinewidth": 0,
              "ticks": ""
             }
            },
            "marker": {
             "colorbar": {
              "outlinewidth": 0,
              "ticks": ""
             }
            },
            "type": "scatter3d"
           }
          ],
          "scattercarpet": [
           {
            "marker": {
             "colorbar": {
              "outlinewidth": 0,
              "ticks": ""
             }
            },
            "type": "scattercarpet"
           }
          ],
          "scattergeo": [
           {
            "marker": {
             "colorbar": {
              "outlinewidth": 0,
              "ticks": ""
             }
            },
            "type": "scattergeo"
           }
          ],
          "scattergl": [
           {
            "marker": {
             "colorbar": {
              "outlinewidth": 0,
              "ticks": ""
             }
            },
            "type": "scattergl"
           }
          ],
          "scattermapbox": [
           {
            "marker": {
             "colorbar": {
              "outlinewidth": 0,
              "ticks": ""
             }
            },
            "type": "scattermapbox"
           }
          ],
          "scatterpolar": [
           {
            "marker": {
             "colorbar": {
              "outlinewidth": 0,
              "ticks": ""
             }
            },
            "type": "scatterpolar"
           }
          ],
          "scatterpolargl": [
           {
            "marker": {
             "colorbar": {
              "outlinewidth": 0,
              "ticks": ""
             }
            },
            "type": "scatterpolargl"
           }
          ],
          "scatterternary": [
           {
            "marker": {
             "colorbar": {
              "outlinewidth": 0,
              "ticks": ""
             }
            },
            "type": "scatterternary"
           }
          ],
          "surface": [
           {
            "colorbar": {
             "outlinewidth": 0,
             "ticks": ""
            },
            "colorscale": [
             [
              0,
              "#0d0887"
             ],
             [
              0.1111111111111111,
              "#46039f"
             ],
             [
              0.2222222222222222,
              "#7201a8"
             ],
             [
              0.3333333333333333,
              "#9c179e"
             ],
             [
              0.4444444444444444,
              "#bd3786"
             ],
             [
              0.5555555555555556,
              "#d8576b"
             ],
             [
              0.6666666666666666,
              "#ed7953"
             ],
             [
              0.7777777777777778,
              "#fb9f3a"
             ],
             [
              0.8888888888888888,
              "#fdca26"
             ],
             [
              1,
              "#f0f921"
             ]
            ],
            "type": "surface"
           }
          ],
          "table": [
           {
            "cells": {
             "fill": {
              "color": "#EBF0F8"
             },
             "line": {
              "color": "white"
             }
            },
            "header": {
             "fill": {
              "color": "#C8D4E3"
             },
             "line": {
              "color": "white"
             }
            },
            "type": "table"
           }
          ]
         },
         "layout": {
          "annotationdefaults": {
           "arrowcolor": "#2a3f5f",
           "arrowhead": 0,
           "arrowwidth": 1
          },
          "coloraxis": {
           "colorbar": {
            "outlinewidth": 0,
            "ticks": ""
           }
          },
          "colorscale": {
           "diverging": [
            [
             0,
             "#8e0152"
            ],
            [
             0.1,
             "#c51b7d"
            ],
            [
             0.2,
             "#de77ae"
            ],
            [
             0.3,
             "#f1b6da"
            ],
            [
             0.4,
             "#fde0ef"
            ],
            [
             0.5,
             "#f7f7f7"
            ],
            [
             0.6,
             "#e6f5d0"
            ],
            [
             0.7,
             "#b8e186"
            ],
            [
             0.8,
             "#7fbc41"
            ],
            [
             0.9,
             "#4d9221"
            ],
            [
             1,
             "#276419"
            ]
           ],
           "sequential": [
            [
             0,
             "#0d0887"
            ],
            [
             0.1111111111111111,
             "#46039f"
            ],
            [
             0.2222222222222222,
             "#7201a8"
            ],
            [
             0.3333333333333333,
             "#9c179e"
            ],
            [
             0.4444444444444444,
             "#bd3786"
            ],
            [
             0.5555555555555556,
             "#d8576b"
            ],
            [
             0.6666666666666666,
             "#ed7953"
            ],
            [
             0.7777777777777778,
             "#fb9f3a"
            ],
            [
             0.8888888888888888,
             "#fdca26"
            ],
            [
             1,
             "#f0f921"
            ]
           ],
           "sequentialminus": [
            [
             0,
             "#0d0887"
            ],
            [
             0.1111111111111111,
             "#46039f"
            ],
            [
             0.2222222222222222,
             "#7201a8"
            ],
            [
             0.3333333333333333,
             "#9c179e"
            ],
            [
             0.4444444444444444,
             "#bd3786"
            ],
            [
             0.5555555555555556,
             "#d8576b"
            ],
            [
             0.6666666666666666,
             "#ed7953"
            ],
            [
             0.7777777777777778,
             "#fb9f3a"
            ],
            [
             0.8888888888888888,
             "#fdca26"
            ],
            [
             1,
             "#f0f921"
            ]
           ]
          },
          "colorway": [
           "#636efa",
           "#EF553B",
           "#00cc96",
           "#ab63fa",
           "#FFA15A",
           "#19d3f3",
           "#FF6692",
           "#B6E880",
           "#FF97FF",
           "#FECB52"
          ],
          "font": {
           "color": "#2a3f5f"
          },
          "geo": {
           "bgcolor": "white",
           "lakecolor": "white",
           "landcolor": "#E5ECF6",
           "showlakes": true,
           "showland": true,
           "subunitcolor": "white"
          },
          "hoverlabel": {
           "align": "left"
          },
          "hovermode": "closest",
          "mapbox": {
           "style": "light"
          },
          "paper_bgcolor": "white",
          "plot_bgcolor": "#E5ECF6",
          "polar": {
           "angularaxis": {
            "gridcolor": "white",
            "linecolor": "white",
            "ticks": ""
           },
           "bgcolor": "#E5ECF6",
           "radialaxis": {
            "gridcolor": "white",
            "linecolor": "white",
            "ticks": ""
           }
          },
          "scene": {
           "xaxis": {
            "backgroundcolor": "#E5ECF6",
            "gridcolor": "white",
            "gridwidth": 2,
            "linecolor": "white",
            "showbackground": true,
            "ticks": "",
            "zerolinecolor": "white"
           },
           "yaxis": {
            "backgroundcolor": "#E5ECF6",
            "gridcolor": "white",
            "gridwidth": 2,
            "linecolor": "white",
            "showbackground": true,
            "ticks": "",
            "zerolinecolor": "white"
           },
           "zaxis": {
            "backgroundcolor": "#E5ECF6",
            "gridcolor": "white",
            "gridwidth": 2,
            "linecolor": "white",
            "showbackground": true,
            "ticks": "",
            "zerolinecolor": "white"
           }
          },
          "shapedefaults": {
           "line": {
            "color": "#2a3f5f"
           }
          },
          "ternary": {
           "aaxis": {
            "gridcolor": "white",
            "linecolor": "white",
            "ticks": ""
           },
           "baxis": {
            "gridcolor": "white",
            "linecolor": "white",
            "ticks": ""
           },
           "bgcolor": "#E5ECF6",
           "caxis": {
            "gridcolor": "white",
            "linecolor": "white",
            "ticks": ""
           }
          },
          "title": {
           "x": 0.05
          },
          "xaxis": {
           "automargin": true,
           "gridcolor": "white",
           "linecolor": "white",
           "ticks": "",
           "title": {
            "standoff": 15
           },
           "zerolinecolor": "white",
           "zerolinewidth": 2
          },
          "yaxis": {
           "automargin": true,
           "gridcolor": "white",
           "linecolor": "white",
           "ticks": "",
           "title": {
            "standoff": 15
           },
           "zerolinecolor": "white",
           "zerolinewidth": 2
          }
         }
        },
        "xaxis": {
         "anchor": "y",
         "domain": [
          0,
          1
         ],
         "title": {
          "text": "time"
         }
        },
        "yaxis": {
         "anchor": "x",
         "domain": [
          0,
          1
         ],
         "title": {
          "text": "pof"
         }
        }
       }
      }
     },
     "metadata": {}
    },
    {
     "output_type": "display_data",
     "data": {
      "application/vnd.plotly.v1+json": {
       "config": {
        "plotlyServerURL": "https://plot.ly"
       },
       "data": [
        {
         "hovertemplate": "source=all<br>time=%{x}<br>pof=%{y}<extra></extra>",
         "legendgroup": "all",
         "line": {
          "color": "#636efa",
          "dash": "solid"
         },
         "mode": "lines",
         "name": "all",
         "showlegend": true,
         "type": "scattergl",
         "x": [
          0,
          1,
          2,
          3,
          4,
          5,
          6,
          7,
          8,
          9,
          10,
          11,
          12,
          13,
          14,
          15,
          16,
          17,
          18,
          19,
          20,
          21,
          22,
          23,
          24,
          25,
          26,
          27,
          28,
          29,
          30,
          31,
          32,
          33,
          34,
          35,
          36,
          37,
          38,
          39,
          40,
          41,
          42,
          43,
          44,
          45,
          46,
          47,
          48,
          49,
          50,
          51,
          52,
          53,
          54,
          55,
          56,
          57,
          58,
          59,
          60,
          61,
          62,
          63,
          64,
          65,
          66,
          67,
          68,
          69,
          70,
          71,
          72,
          73,
          74,
          75,
          76,
          77,
          78,
          79,
          80,
          81,
          82,
          83,
          84,
          85,
          86,
          87,
          88,
          89,
          90,
          91,
          92,
          93,
          94,
          95,
          96,
          97,
          98,
          99,
          100,
          101,
          102,
          103,
          104,
          105,
          106,
          107,
          108,
          109,
          110,
          111,
          112,
          113,
          114,
          115,
          116,
          117,
          118,
          119,
          120,
          121,
          122,
          123,
          124,
          125,
          126,
          127,
          128,
          129,
          130,
          131,
          132,
          133,
          134,
          135,
          136,
          137,
          138,
          139,
          140,
          141,
          142,
          143,
          144,
          145,
          146,
          147,
          148,
          149,
          150,
          151,
          152,
          153,
          154,
          155,
          156,
          157,
          158,
          159,
          160,
          161,
          162,
          163,
          164,
          165,
          166,
          167,
          168,
          169,
          170,
          171,
          172,
          173,
          174,
          175,
          176,
          177,
          178,
          179,
          180,
          181,
          182,
          183,
          184,
          185,
          186,
          187,
          188,
          189,
          190,
          191,
          192,
          193,
          194,
          195,
          196,
          197,
          198,
          199,
          200
         ],
         "xaxis": "x",
         "y": [
          0,
          0.002428215155790725,
          0.004277450789938908,
          0.0059625641586769085,
          0.007553205504207239,
          0.009080332337940256,
          0.010561416298803694,
          0.012007649823209343,
          0.013426800481997625,
          0.014824566813121387,
          0.016205303905899693,
          0.017572446228780292,
          0.018928770379128657,
          0.02027656678938361,
          0.021617756584882963,
          0.022953973819984097,
          0.024286624998362094,
          0.025616933195303004,
          0.026945971447479566,
          0.028274688479632104,
          0.029603928843339067,
          0.030934448904869516,
          0.032266929698476554,
          0.03360198737770659,
          0.03494018180181513,
          0.03628202365718469,
          0.03762798041571658,
          0.038978481361219175,
          0.04033392186268403,
          0.04169466703458047,
          0.043061054895126905,
          0.04443339911135491,
          0.045811991402786134,
          0.04719710366243102,
          0.04858898984361171,
          0.04998788765312889,
          0.05139402008503835,
          0.05280759682437175,
          0.0542288155462598,
          0.05565786313288634,
          0.057094916828318465,
          0.05854014534944707,
          0.059993709969889175,
          0.06145576559270627,
          0.06292646182710993,
          0.0644059440839212,
          0.06589435470438632,
          0.0673918341370191,
          0.068898522177408,
          0.07041455928641105,
          0.0719400880028328,
          0.07347525446759351,
          0.07502021007750936,
          0.07657511328819133,
          0.07814013158723121,
          0.0797154436608235,
          0.08130124177933473,
          0.08289773443012605,
          0.08450514922923691,
          0.08612373614745805,
          0.08775377109094018,
          0.08939555988196102,
          0.09104944269194226,
          0.09271579898646998,
          0.09439505305111384,
          0.09608768017755465,
          0.0977942136021599,
          0.09951525230407365,
          0.10125146978746435,
          0.10300362399328733,
          0.10477256851024475,
          0.10655926528318516,
          0.10836479905062368,
          0.11019039378214202,
          0.11203743143199862,
          0.113907473378281,
          0.11580228497842027,
          0.11772386374301724,
          0.11967447171195755,
          0.12165667271106717,
          0.12367337527552102,
          0.12572788214933706,
          0.12782394741004743,
          0.12996584242549425,
          0.13215843202688404,
          0.13440726247978285,
          0.13671866305311842,
          0.13909986322529222,
          0.1415591278248458,
          0.14410591267792705,
          0.1467510436209677,
          0.14950692202637217,
          0.15238776026931466,
          0.155409850816968,
          0.15859187282208476,
          0.16195524021524055,
          0.16552449526548974,
          0.1693277513517515,
          0.17339718816908045,
          0.17776960166914701,
          0.18248700955183894,
          0.18759731089070864,
          0.19315499524279867,
          0.19922189205577823,
          0.20586794496590133,
          0.21317198722905206,
          0.2212224835226877,
          0.2301181891207681,
          0.23996865937728984,
          0.2508945200037561,
          0.26302738140203885,
          0.27650924827735157,
          0.29149123950201206,
          0.3081313943697793,
          0.3265913032206744,
          0.34703126850897936,
          0.3696036855147844,
          0.3944443429583433,
          0.42166140052344203,
          0.451321925524784,
          0.4834360914376642,
          0.5179394842240247,
          0.5546744497666927,
          0.5933720510793812,
          0.6336369563010893,
          0.6749383599718868,
          0.7166106832927813,
          0.7578680431051052,
          0.7978359814589557,
          0.8356023429914609,
          0.8702862180271829,
          0.9011195869485535,
          0.9275313030156579,
          0.9492186389711343,
          0.9661897100116217,
          0.9787626579668853,
          0.9875155827419708,
          0.9931937590770127,
          0.9965938846112201,
          0.9984533498371482,
          0.9993710307318703,
          0.999774277833795,
          0.9999296891505769,
          0.9999813419024945,
          0.9999958695777053,
          0.9999992549884775,
          0.9999998933707982,
          0.9999999882446202,
          0.9999999990344229,
          0.9999999999430712,
          0.9999999999976893,
          0.9999999999999384,
          0.999999999999999,
          1,
          1,
          1,
          1,
          1,
          1,
          1,
          1,
          1,
          1,
          1,
          1,
          1,
          1,
          1,
          1,
          1,
          1,
          1,
          1,
          1,
          1,
          1,
          1,
          1,
          1,
          1,
          1,
          1,
          1,
          1,
          1,
          1,
          1,
          1,
          1,
          1,
          1,
          1,
          1,
          1,
          1,
          1,
          1,
          1,
          1,
          1,
          1
         ],
         "yaxis": "y"
        },
        {
         "hovertemplate": "source=early_life<br>time=%{x}<br>pof=%{y}<extra></extra>",
         "legendgroup": "early_life",
         "line": {
          "color": "#EF553B",
          "dash": "dot"
         },
         "mode": "lines",
         "name": "early_life",
         "showlegend": true,
         "type": "scattergl",
         "x": [
          0,
          1,
          2,
          3,
          4,
          5,
          6,
          7,
          8,
          9,
          10,
          11,
          12,
          13,
          14,
          15,
          16,
          17,
          18,
          19,
          20,
          21,
          22,
          23,
          24,
          25,
          26,
          27,
          28,
          29,
          30,
          31,
          32,
          33,
          34,
          35,
          36,
          37,
          38,
          39,
          40,
          41,
          42,
          43,
          44,
          45,
          46,
          47,
          48,
          49,
          50,
          51,
          52,
          53,
          54,
          55,
          56,
          57,
          58,
          59,
          60,
          61,
          62,
          63,
          64,
          65,
          66,
          67,
          68,
          69,
          70,
          71,
          72,
          73,
          74,
          75,
          76,
          77,
          78,
          79,
          80,
          81,
          82,
          83,
          84,
          85,
          86,
          87,
          88,
          89,
          90,
          91,
          92,
          93,
          94,
          95,
          96,
          97,
          98,
          99,
          100,
          101,
          102,
          103,
          104,
          105,
          106,
          107,
          108,
          109,
          110,
          111,
          112,
          113,
          114,
          115,
          116,
          117,
          118,
          119,
          120,
          121,
          122,
          123,
          124,
          125,
          126,
          127,
          128,
          129,
          130,
          131,
          132,
          133,
          134,
          135,
          136,
          137,
          138,
          139,
          140,
          141,
          142,
          143,
          144,
          145,
          146,
          147,
          148,
          149,
          150,
          151,
          152,
          153,
          154,
          155,
          156,
          157,
          158,
          159,
          160,
          161,
          162,
          163,
          164,
          165,
          166,
          167,
          168,
          169,
          170,
          171,
          172,
          173,
          174,
          175,
          176,
          177,
          178,
          179,
          180,
          181,
          182,
          183,
          184,
          185,
          186,
          187,
          188,
          189,
          190,
          191,
          192,
          193,
          194,
          195,
          196,
          197,
          198,
          199,
          200
         ],
         "xaxis": "x",
         "y": [
          0,
          0,
          0,
          0,
          0,
          0,
          0,
          0,
          0,
          0,
          0,
          0,
          0,
          0,
          0,
          0,
          0,
          0,
          0,
          0,
          1.1102230246251565e-16,
          3.3306690738754696e-16,
          7.771561172376096e-16,
          1.9984014443252818e-15,
          4.6629367034256575e-15,
          1.0325074129013956e-14,
          2.2537527399890678e-14,
          4.7406523151494184e-14,
          9.736655925962623e-14,
          1.9484414082171497e-13,
          3.808064974464287e-13,
          7.280842595491777e-13,
          1.3639089857520048e-12,
          2.505884388881441e-12,
          4.52138326778595e-12,
          8.01936295147243e-12,
          1.3995804515332111e-11,
          2.4056423519880354e-11,
          4.075595416708211e-11,
          6.810862984707455e-11,
          1.1234835284312794e-10,
          1.8304746607356037e-10,
          2.9474878093793677e-10,
          4.693231359098604e-10,
          7.393453627102531e-10,
          1.1528874521715693e-9,
          1.7802692653390295e-9,
          2.7234922095331626e-9,
          4.129325548163365e-9,
          6.207332092778017e-9,
          9.254528809954365e-9,
          1.3688906896902608e-8,
          2.009471111730221e-8,
          2.928323716844261e-8,
          4.237399886530824e-8,
          6.090249071721843e-8,
          8.696250108908288e-8,
          1.233930909672054e-7,
          1.740230457514258e-7,
          2.4398894460375686e-7,
          3.4014711902674577e-7,
          4.716048463970779e-7,
          6.504023550846227e-7,
          8.923848299202675e-7,
          0.0000012183128790255182,
          0.000001655271183453877,
          0.0000022384486821902527,
          0.000003013380088567885,
          0.000004038758321778246,
          0.000005389951173828678,
          0.0000071633839254792164,
          0.000009481983499703972,
          0.000012501920038654468,
          0.00001642092961740005,
          0.00002148855839900765,
          0.000028018735358070757,
          0.0000364051593675363,
          0.00004714007884809579,
          0.00006083715042537463,
          0.00007825918951342992,
          0.00010035177312028853,
          0.0001282838264244912,
          0.0001634965230782326,
          0.00020776205833583639,
          0.00026325411783445496,
          0.0003326321672225685,
          0.00041914203301962605,
          0.0005267356372022913,
          0.0006602131908591824,
          0.0008253916489464608,
          0.0010293037805869654,
          0.0012804328173370294,
          0.0015889883021150686,
          0.0019672294661025047,
          0.0024298431951540467,
          0.002994384386733495,
          0.0036817872052227196,
          0.004516956361094393,
          0.005529447985908376,
          0.006754249834157733,
          0.008232670252881324,
          0.01001334439914392,
          0.012153364255171328,
          0.014719535694075137,
          0.01778976066631821,
          0.021454534840469663,
          0.025818539899337023,
          0.031002294127846497,
          0.0371438036948486,
          0.04440012871044663,
          0.05294874120697868,
          0.06298850515997467,
          0.07474005036703979,
          0.08844524204809046,
          0.10436536753013814,
          0.12277757400783307,
          0.14396900484320796,
          0.16822800986058117,
          0.19583176950894732,
          0.2270297060334424,
          0.26202220149556354,
          0.30093445897386506,
          0.3437858932865593,
          0.3904562807319941,
          0.44065106720124725,
          0.49386970265030805,
          0.5493824990765959,
          0.6062229950971415,
          0.6632036419278733,
          0.718962093120418,
          0.7720426872323146,
          0.8210122455988178,
          0.8646010811960976,
          0.901850303019429,
          0.9322377996342273,
          0.9557516864415997,
          0.9728855473053499,
          0.9845463024212818,
          0.9918900796986193,
          0.9961255591513823,
          0.9983364849790223,
          0.9993673391688522,
          0.9997903274050618,
          0.9999405512941982,
          0.9999858754524824,
          0.9999972526111282,
          0.9999995738015224,
          0.9999999487977326,
          0.9999999953906614,
          0.9999999997003478,
          0.9999999999865024,
          0.9999999999995978,
          0.9999999999999925,
          0.9999999999999999,
          1,
          1,
          1,
          1,
          1,
          1,
          1,
          1,
          1,
          1,
          1,
          1,
          1,
          1,
          1,
          1,
          1,
          1,
          1,
          1,
          1,
          1,
          1,
          1,
          1,
          1,
          1,
          1,
          1,
          1,
          1,
          1,
          1,
          1,
          1,
          1,
          1,
          1,
          1,
          1,
          1,
          1,
          1,
          1,
          1,
          1,
          1
         ],
         "yaxis": "y"
        },
        {
         "hovertemplate": "source=random<br>time=%{x}<br>pof=%{y}<extra></extra>",
         "legendgroup": "random",
         "line": {
          "color": "#00cc96",
          "dash": "dash"
         },
         "mode": "lines",
         "name": "random",
         "showlegend": true,
         "type": "scattergl",
         "x": [
          0,
          1,
          2,
          3,
          4,
          5,
          6,
          7,
          8,
          9,
          10,
          11,
          12,
          13,
          14,
          15,
          16,
          17,
          18,
          19,
          20,
          21,
          22,
          23,
          24,
          25,
          26,
          27,
          28,
          29,
          30,
          31,
          32,
          33,
          34,
          35,
          36,
          37,
          38,
          39,
          40,
          41,
          42,
          43,
          44,
          45,
          46,
          47,
          48,
          49,
          50,
          51,
          52,
          53,
          54,
          55,
          56,
          57,
          58,
          59,
          60,
          61,
          62,
          63,
          64,
          65,
          66,
          67,
          68,
          69,
          70,
          71,
          72,
          73,
          74,
          75,
          76,
          77,
          78,
          79,
          80,
          81,
          82,
          83,
          84,
          85,
          86,
          87,
          88,
          89,
          90,
          91,
          92,
          93,
          94,
          95,
          96,
          97,
          98,
          99,
          100,
          101,
          102,
          103,
          104,
          105,
          106,
          107,
          108,
          109,
          110,
          111,
          112,
          113,
          114,
          115,
          116,
          117,
          118,
          119,
          120,
          121,
          122,
          123,
          124,
          125,
          126,
          127,
          128,
          129,
          130,
          131,
          132,
          133,
          134,
          135,
          136,
          137,
          138,
          139,
          140,
          141,
          142,
          143,
          144,
          145,
          146,
          147,
          148,
          149,
          150,
          151,
          152,
          153,
          154,
          155,
          156,
          157,
          158,
          159,
          160,
          161,
          162,
          163,
          164,
          165,
          166,
          167,
          168,
          169,
          170,
          171,
          172,
          173,
          174,
          175,
          176,
          177,
          178,
          179,
          180,
          181,
          182,
          183,
          184,
          185,
          186,
          187,
          188,
          189,
          190,
          191,
          192,
          193,
          194,
          195,
          196,
          197,
          198,
          199,
          200
         ],
         "xaxis": "x",
         "y": [
          0,
          0.002425152802634334,
          0.004263570579188913,
          0.005928985023586741,
          0.007490382324839229,
          0.008978235345889707,
          0.010409632358506893,
          0.011795448646604534,
          0.01314318175333462,
          0.014458295670276233,
          0.015744938756260707,
          0.017006361231842515,
          0.01824517405915771,
          0.019463517745489156,
          0.020663176964916707,
          0.021845661033037866,
          0.02301226201363793,
          0.024164097688102126,
          0.02530214399170183,
          0.026427259941814274,
          0.027540207100480996,
          0.028641664983566795,
          0.029732243413867487,
          0.030812492535860603,
          0.0318829110173221,
          0.03294395282806084,
          0.033996032889757055,
          0.03503953182116182,
          0.0360747999517016,
          0.03710216073842443,
          0.038121913692538145,
          0.03913433689995327,
          0.04013968920345723,
          0.04113821210111834,
          0.042130131405318516,
          0.04311565869876277,
          0.04409499261741512,
          0.045068319985177574,
          0.04603581682100033,
          0.046997649235750116,
          0.04795397423343084,
          0.04890494042909621,
          0.04985068869394471,
          0.05079135273654356,
          0.05172705962784818,
          0.05265793027661081,
          0.05358407986086555,
          0.054505618220418994,
          0.05542265021462722,
          0.056335276049191196,
          0.057243591575231845,
          0.05814768856350705,
          0.0590476549562845,
          0.05994357509908599,
          0.06083552995426533,
          0.06172359729815269,
          0.06260785190330742,
          0.06348836570725247,
          0.06436520796891121,
          0.0652384454138425,
          0.06610814236925211,
          0.06697436088965858,
          0.06783716087400649,
          0.06869660017493406,
          0.06955273470084189,
          0.0704056185113392,
          0.07125530390659529,
          0.07210184151107091,
          0.07294528035206294,
          0.07378566793345487,
          0.07462305030503191,
          0.07545747212768694,
          0.07628897673481572,
          0.07711760619017471,
          0.07794340134244993,
          0.07876640187676731,
          0.07958664636335455,
          0.08040417230354624,
          0.0812190161733124,
          0.08203121346447151,
          0.08284079872374084,
          0.08364780558976337,
          0.08445226682823814,
          0.08525421436527603,
          0.08605367931908803,
          0.08685069203011153,
          0.08764528208966615,
          0.08843747836722948,
          0.08922730903641352,
          0.0900148015997172,
          0.09079998291212776,
          0.09158287920363484,
          0.09236351610071958,
          0.09314191864687682,
          0.09391811132222261,
          0.09469211806223787,
          0.09546396227569565,
          0.09623366686181378,
          0.09700125422667694,
          0.09776674629896331,
          0.09853016454501451,
          0.09929152998328161,
          0.1000508631981788,
          0.10080818435337469,
          0.1015635132045507,
          0.10231686911164972,
          0.10306827105064431,
          0.10381773762484381,
          0.10456528707576496,
          0.10531093729358632,
          0.10605470582720511,
          0.10679660989391704,
          0.10753666638873394,
          0.10827489189335882,
          0.10901130268483172,
          0.10974591474386186,
          0.11047874376286015,
          0.11120980515368628,
          0.11193911405512103,
          0.11266668534007718,
          0.11339253362256008,
          0.11411667326438846,
          0.11483911838168559,
          0.11555988285115038,
          0.11627898031611805,
          0.11699642419241918,
          0.1177122276740441,
          0.1184264037386229,
          0.11913896515272593,
          0.11984992447699394,
          0.1205592940711041,
          0.12126708609857784,
          0.12197331253143706,
          0.12267798515471517,
          0.1233811155708282,
          0.12408271520380987,
          0.12478279530341918,
          0.12548136694912182,
          0.12617844105395204,
          0.12687402836825934,
          0.12756813948334367,
          0.12826078483498315,
          0.12895197470685915,
          0.1296417192338818,
          0.13033002840541896,
          0.13101691206843313,
          0.13170237993052925,
          0.13238644156291623,
          0.13306910640328506,
          0.13375038375860748,
          0.1344302828078563,
          0.1351088126046518,
          0.13578598207983517,
          0.13646180004397268,
          0.13713627518979188,
          0.13780941609455322,
          0.1384812312223579,
          0.13915172892639527,
          0.139820917451131,
          0.14048880493443827,
          0.1411553994096738,
          0.14182070880770015,
          0.14248474095885655,
          0.1431475035948796,
          0.14380900435077504,
          0.1444692507666434,
          0.14512825028945875,
          0.14578601027480476,
          0.14644253798856677,
          0.14709784060858333,
          0.14775192522625658,
          0.14840479884812452,
          0.14905646839739473,
          0.14970694071544222,
          0.1503562225632702,
          0.15100432062293812,
          0.1516512414989546,
          0.15229699171963873,
          0.1529415777384494,
          0.15358500593528368,
          0.15422728261774588,
          0.15486841402238694,
          0.15550840631591656,
          0.15614726559638692,
          0.15678499789435063,
          0.15742160917399217,
          0.15805710533423478,
          0.15869149220982237,
          0.15932477557237779,
          0.1599569611314383,
          0.16058805453546787,
          0.1612180613728481,
          0.16184698717284807,
          0.1624748374065722,
          0.16310161748788943,
          0.1637273327743417,
          0.1643519885680339,
          0.16497559011650442,
          0.16559814261357864,
          0.16621965120020354,
          0.16684012096526624
         ],
         "yaxis": "y"
        },
        {
         "hovertemplate": "source=slow_aging<br>time=%{x}<br>pof=%{y}<extra></extra>",
         "legendgroup": "slow_aging",
         "line": {
          "color": "#ab63fa",
          "dash": "longdash"
         },
         "mode": "lines",
         "name": "slow_aging",
         "showlegend": true,
         "type": "scattergl",
         "x": [
          0,
          1,
          2,
          3,
          4,
          5,
          6,
          7,
          8,
          9,
          10,
          11,
          12,
          13,
          14,
          15,
          16,
          17,
          18,
          19,
          20,
          21,
          22,
          23,
          24,
          25,
          26,
          27,
          28,
          29,
          30,
          31,
          32,
          33,
          34,
          35,
          36,
          37,
          38,
          39,
          40,
          41,
          42,
          43,
          44,
          45,
          46,
          47,
          48,
          49,
          50,
          51,
          52,
          53,
          54,
          55,
          56,
          57,
          58,
          59,
          60,
          61,
          62,
          63,
          64,
          65,
          66,
          67,
          68,
          69,
          70,
          71,
          72,
          73,
          74,
          75,
          76,
          77,
          78,
          79,
          80,
          81,
          82,
          83,
          84,
          85,
          86,
          87,
          88,
          89,
          90,
          91,
          92,
          93,
          94,
          95,
          96,
          97,
          98,
          99,
          100,
          101,
          102,
          103,
          104,
          105,
          106,
          107,
          108,
          109,
          110,
          111,
          112,
          113,
          114,
          115,
          116,
          117,
          118,
          119,
          120,
          121,
          122,
          123,
          124,
          125,
          126,
          127,
          128,
          129,
          130,
          131,
          132,
          133,
          134,
          135,
          136,
          137,
          138,
          139,
          140,
          141,
          142,
          143,
          144,
          145,
          146,
          147,
          148,
          149,
          150,
          151,
          152,
          153,
          154,
          155,
          156,
          157,
          158,
          159,
          160,
          161,
          162,
          163,
          164,
          165,
          166,
          167,
          168,
          169,
          170,
          171,
          172,
          173,
          174,
          175,
          176,
          177,
          178,
          179,
          180,
          181,
          182,
          183,
          184,
          185,
          186,
          187,
          188,
          189,
          190,
          191,
          192,
          193,
          194,
          195,
          196,
          197,
          198,
          199,
          200
         ],
         "xaxis": "x",
         "y": [
          0,
          0.000003069797885335568,
          0.00001393964340345999,
          0.00003377941272231233,
          0.00006329730034770886,
          0.00010302194733946557,
          0.00015338057569957986,
          0.00021473406119010274,
          0.00028739602685312615,
          0.0003716444886541215,
          0.0004677295220304467,
          0.0005758785955564116,
          0.0006963004406568274,
          0.0008291879534808588,
          0.0009747204298986567,
          0.0011330653252535905,
          0.0013043796658297468,
          0.001488811198972484,
          0.0016864993430912856,
          0.0018975759817220217,
          0.0021221661341971343,
          0.002360388527349655,
          0.002612356086884371,
          0.002878176362835383,
          0.003157951900417344,
          0.0034517805652419797,
          0.003759755830090139,
          0.004081967029066047,
          0.004418499583890068,
          0.004769435206248618,
          0.005134852079451968,
          0.005514825022118974,
          0.0059094256361711395,
          0.006318722441071567,
          0.006742780995951603,
          0.007181664011034705,
          0.007635431449563357,
          0.008104140621276512,
          0.008587846268339527,
          0.009086600644518272,
          0.009600453588283764,
          0.010129452590453614,
          0.010673642856900867,
          0.011233067366802074,
          0.01180776692683938,
          0.012397780221727106,
          0.013003143861392452,
          0.013623892425105422,
          0.014260058502819972,
          0.014911672733966097,
          0.01557876384390211,
          0.01626135867822409,
          0.01695948223510113,
          0.017673157695799024,
          0.018402406453530307,
          0.019147248140764295,
          0.01990770065511338,
          0.0206837801839046,
          0.021475501227533833,
          0.022282876621694925,
          0.02310591755856395,
          0.02394463360701793,
          0.024799032731954163,
          0.02566912131277821,
          0.026554904161117054,
          0.02745638453781374,
          0.028373564169253962,
          0.029306443263071413,
          0.030255020523274445,
          0.03121929316483618,
          0.032199256927783804,
          0.03319490609082232,
          0.034206233484525894,
          0.03523323050412552,
          0.036275887121922756,
          0.037334191899353386,
          0.03840813199872817,
          0.03949769319467211,
          0.040602859885283005,
          0.04172361510303069,
          0.042859940525414975,
          0.04401181648540009,
          0.04517922198164126,
          0.04636213468852057,
          0.04756053096600499,
          0.04877438586934102,
          0.05000367315859855,
          0.05124836530807586,
          0.05250843351557777,
          0.053783847711576516,
          0.05507457656826675,
          0.05638058750852193,
          0.057701846714764526,
          0.05903831913775448,
          0.06038996850530687,
          0.0617567573309451,
          0.06313864692249582,
          0.06453559739063419,
          0.06594756765738419,
          0.0673745154645804,
          0.06881639738229661,
          0.07027316881724754,
          0.07174478402116702,
          0.07323119609916873,
          0.07473235701809255,
          0.0762482176148429,
          0.0777787276047206,
          0.07932383558975242,
          0.08088348906702436,
          0.08245763443701803,
          0.08404621701195603,
          0.0856491810241583,
          0.0872664696344122,
          0.08889802494035925,
          0.09054378798490026,
          0.09220369876462176,
          0.09387769623824527,
          0.09556571833510275,
          0.09726770196363765,
          0.09898358301993604,
          0.10071329639628746,
          0.10245677598977732,
          0.10421395471091377,
          0.10598476449228811,
          0.10776913629727103,
          0.1095670001287462,
          0.11137828503788139,
          0.11320291913293845,
          0.11504082958812278,
          0.11689194265247316,
          0.1187561836587927,
          0.12063347703262162,
          0.12252374630125107,
          0.1244269141027815,
          0.12634290219522193,
          0.12827163146563347,
          0.13021302193931727,
          0.1321669927890443,
          0.13413346234433088,
          0.1361123481007569,
          0.13810356672932889,
          0.1401070340858871,
          0.14212266522055605,
          0.14415037438723932,
          0.14619007505315817,
          0.1482416799084333,
          0.15030510087571036,
          0.1523802491198284,
          0.15446703505753012,
          0.15656536836721613,
          0.15867515799873977,
          0.16079631218324364,
          0.16292873844303812,
          0.1650723436015189,
          0.1672270337931261,
          0.1693927144733417,
          0.17156929042872626,
          0.17375666578699422,
          0.17595474402712563,
          0.17816342798951657,
          0.1803826198861641,
          0.18261222131088772,
          0.18485213324958516,
          0.1871022560905219,
          0.18936248963465485,
          0.19163273310598694,
          0.19391288516195448,
          0.19620284390384402,
          0.19850250688723992,
          0.20081177113250048,
          0.2031305331352613,
          0.20545868887696705,
          0.2077961338354275,
          0.21014276299540025,
          0.21249847085919626,
          0.2148631514573096,
          0.21723669835906823,
          0.2196190046833062,
          0.22200996310905585,
          0.2244094658862591,
          0.22681740484649648,
          0.2292336714137323,
          0.23165815661507638,
          0.2340907510915604,
          0.23653134510892604,
          0.23897982856842814,
          0.24143609101764674,
          0.24390002166130997,
          0.24637150937212648,
          0.24885044270162449,
          0.2513367098909979,
          0.25383019888195835,
          0.25633079732759034,
          0.2588383926032103,
          0.26135287181722744,
          0.2638741218220044,
          0.2664020292247188,
          0.26893648039822093,
          0.27147736149189117,
          0.2740245584424904,
          0.2765779569850073
         ],
         "yaxis": "y"
        },
        {
         "hovertemplate": "source=fast_aging<br>time=%{x}<br>pof=%{y}<extra></extra>",
         "legendgroup": "fast_aging",
         "line": {
          "color": "#FFA15A",
          "dash": "dashdot"
         },
         "mode": "lines",
         "name": "fast_aging",
         "showlegend": true,
         "type": "scattergl",
         "x": [
          0,
          1,
          2,
          3,
          4,
          5,
          6,
          7,
          8,
          9,
          10,
          11,
          12,
          13,
          14,
          15,
          16,
          17,
          18,
          19,
          20,
          21,
          22,
          23,
          24,
          25,
          26,
          27,
          28,
          29,
          30,
          31,
          32,
          33,
          34,
          35,
          36,
          37,
          38,
          39,
          40,
          41,
          42,
          43,
          44,
          45,
          46,
          47,
          48,
          49,
          50,
          51,
          52,
          53,
          54,
          55,
          56,
          57,
          58,
          59,
          60,
          61,
          62,
          63,
          64,
          65,
          66,
          67,
          68,
          69,
          70,
          71,
          72,
          73,
          74,
          75,
          76,
          77,
          78,
          79,
          80,
          81,
          82,
          83,
          84,
          85,
          86,
          87,
          88,
          89,
          90,
          91,
          92,
          93,
          94,
          95,
          96,
          97,
          98,
          99,
          100,
          101,
          102,
          103,
          104,
          105,
          106,
          107,
          108,
          109,
          110,
          111,
          112,
          113,
          114,
          115,
          116,
          117,
          118,
          119,
          120,
          121,
          122,
          123,
          124,
          125,
          126,
          127,
          128,
          129,
          130,
          131,
          132,
          133,
          134,
          135,
          136,
          137,
          138,
          139,
          140,
          141,
          142,
          143,
          144,
          145,
          146,
          147,
          148,
          149,
          150,
          151,
          152,
          153,
          154,
          155,
          156,
          157,
          158,
          159,
          160,
          161,
          162,
          163,
          164,
          165,
          166,
          167,
          168,
          169,
          170,
          171,
          172,
          173,
          174,
          175,
          176,
          177,
          178,
          179,
          180,
          181,
          182,
          183,
          184,
          185,
          186,
          187,
          188,
          189,
          190,
          191,
          192,
          193,
          194,
          195,
          196,
          197,
          198,
          199,
          200
         ],
         "xaxis": "x",
         "y": [
          0,
          0,
          0,
          0,
          0,
          1.1102230246251565e-16,
          1.2212453270876722e-15,
          6.217248937900877e-15,
          2.631228568361621e-14,
          9.370282327836321e-14,
          2.922107000813412e-13,
          8.174572130315028e-13,
          2.09099404457902e-12,
          4.9611426078399745e-12,
          1.104061286838487e-11,
          2.3250068537095103e-11,
          4.666311781420518e-11,
          8.977929510933791e-11,
          1.6639079003510915e-10,
          2.982573077403572e-10,
          5.188585117110733e-10,
          8.785620009277295e-10,
          1.4516222668348178e-9,
          2.3455195563570896e-9,
          3.713250817938274e-9,
          5.7693081423337844e-9,
          8.810215557097933e-9,
          1.3240654017643294e-8,
          1.960637607822946e-8,
          2.8635313453762024e-8,
          4.128849373508103e-8,
          5.882263309775482e-8,
          8.28665377428095e-8,
          1.1551374390350588e-7,
          1.5943415709873676e-7,
          2.1800780647396323e-7,
          2.95484221868314e-7,
          3.9717137234607236e-7,
          5.296585614544824e-7,
          7.010781860605775e-7,
          9.214118014133632e-7,
          0.0000012028465292690527,
          0.000001560188473859192,
          0.000002011340492824587,
          0.000002577852399432423,
          0.0000032855524535468916,
          0.000004165269834599528,
          0.0000052536586825358,
          0.000006594135242510291,
          0.000008237940659183707,
          0.000010245343044390509,
          0.000012686993577593064,
          0.000015645452607460086,
          0.00001921690299866441,
          0.000023513069315583834,
          0.000028663362853120766,
          0.00003481727402321333,
          0.00004214703517080309,
          0.00005085057854536945,
          0.00006115481587309901,
          0.00007331926777920383,
          0.00008764007318473599,
          0.00010445441075435102,
          0.00012414536649663077,
          0.00014714728370701646,
          0.00017395163360411914,
          0.00020511344721718672,
          0.00024125835134625184,
          0.0002830902537103164,
          0.00033139972471862844,
          0.00038707312562569207,
          0.00045110253513580556,
          0.0005245965287921095,
          0.0006087918676760395,
          0.0007050661550256354,
          0.000814951521310392,
          0.0009401494000141897,
          0.0010825464578305688,
          0.0012442317440725104,
          0.00142751512477024,
          0.001634947067070236,
          0.0018693398390304816,
          0.002133790188611706,
          0.002431703563413823,
          0.002766819929338582,
          0.0031432412416503297,
          0.003565460615626681,
          0.004038393235871962,
          0.004567409033085501,
          0.005158367144311837,
          0.005817652157037001,
          0.006552212118512091,
          0.007369598268891719,
          0.00827800642963561,
          0.009286319946538057,
          0.010404154049083014,
          0.011641901443871006,
          0.013010778908864595,
          0.014522874596366253,
          0.016191195685123283,
          0.01802971594488889,
          0.020053422689266354,
          0.0222783624938675,
          0.024721684945885336,
          0.02740168356736239,
          0.030337832917114005,
          0.03355082072498228,
          0.037062573746683536,
          0.040896275848131824,
          0.045076376635396764,
          0.04962858874159948,
          0.05457987166699707,
          0.05995839984610851,
          0.06579351238990927,
          0.0721156417271328,
          0.07895621815333131,
          0.08634754709814496,
          0.09432265575081988,
          0.10291510555430583,
          0.1121587670046782,
          0.12208755319331277,
          0.13273510862515636,
          0.14413445006142678,
          0.15631755649568468,
          0.1693149059074308,
          0.18315495717799835,
          0.1978635765312866,
          0.21346340910822503,
          0.22997319782808878,
          0.24740705355681591,
          0.2657736828099736,
          0.2850755817728362,
          0.30530820831410743,
          0.32645914687541144,
          0.34850728458324476,
          0.3714220205708597,
          0.395162534196312,
          0.4196771414413095,
          0.44490277207172413,
          0.47076460288808175,
          0.4971758843033992,
          0.5240379982296313,
          0.551240784479946,
          0.5786631702406677,
          0.6061741322886343,
          0.6336340142294805,
          0.6608962108999105,
          0.6878092191346306,
          0.7142190384496163,
          0.739971887169653,
          0.7649171797320955,
          0.7889106902309233,
          0.8118178069309299,
          0.833516763966976,
          0.8539017214519592,
          0.8728855555652966,
          0.8904022176574005,
          0.9064085275279385,
          0.9208852819062241,
          0.933837585188163,
          0.9452943451857485,
          0.9553069205075749,
          0.9639469556145589,
          0.9713034909858258,
          0.9774794848252871,
          0.9825879246125988,
          0.9867477369874913,
          0.9900797191558294,
          0.9927027117887518,
          0.994730211681385,
          0.9962675838112743,
          0.997409980573968,
          0.9982410163201676,
          0.9988321844051502,
          0.9992429484920808,
          0.9995213957174227,
          0.9997053107171027,
          0.9998235183026113,
          0.9998973481315806,
          0.9999420941459463,
          0.9999683703576221,
          0.999983297551406,
          0.9999914877015428,
          0.999995820456018,
          0.999998026544465,
          0.9999991056480741,
          0.9999996117581074,
          0.9999998388976195,
          0.9999999362381256,
          0.9999999759844008,
          0.9999999914124171,
          0.9999999970918134,
          0.9999999990696825,
          0.9999999997196277,
          0.9999999999206178,
          0.9999999999789461,
          0.999999999994785,
          0.9999999999987974,
          0.9999999999997427,
          0.999999999999949,
          0.9999999999999907
         ],
         "yaxis": "y"
        }
       ],
       "layout": {
        "legend": {
         "title": {
          "text": "source"
         },
         "tracegroupgap": 0
        },
        "margin": {
         "t": 60
        },
        "template": {
         "data": {
          "bar": [
           {
            "error_x": {
             "color": "#2a3f5f"
            },
            "error_y": {
             "color": "#2a3f5f"
            },
            "marker": {
             "line": {
              "color": "#E5ECF6",
              "width": 0.5
             }
            },
            "type": "bar"
           }
          ],
          "barpolar": [
           {
            "marker": {
             "line": {
              "color": "#E5ECF6",
              "width": 0.5
             }
            },
            "type": "barpolar"
           }
          ],
          "carpet": [
           {
            "aaxis": {
             "endlinecolor": "#2a3f5f",
             "gridcolor": "white",
             "linecolor": "white",
             "minorgridcolor": "white",
             "startlinecolor": "#2a3f5f"
            },
            "baxis": {
             "endlinecolor": "#2a3f5f",
             "gridcolor": "white",
             "linecolor": "white",
             "minorgridcolor": "white",
             "startlinecolor": "#2a3f5f"
            },
            "type": "carpet"
           }
          ],
          "choropleth": [
           {
            "colorbar": {
             "outlinewidth": 0,
             "ticks": ""
            },
            "type": "choropleth"
           }
          ],
          "contour": [
           {
            "colorbar": {
             "outlinewidth": 0,
             "ticks": ""
            },
            "colorscale": [
             [
              0,
              "#0d0887"
             ],
             [
              0.1111111111111111,
              "#46039f"
             ],
             [
              0.2222222222222222,
              "#7201a8"
             ],
             [
              0.3333333333333333,
              "#9c179e"
             ],
             [
              0.4444444444444444,
              "#bd3786"
             ],
             [
              0.5555555555555556,
              "#d8576b"
             ],
             [
              0.6666666666666666,
              "#ed7953"
             ],
             [
              0.7777777777777778,
              "#fb9f3a"
             ],
             [
              0.8888888888888888,
              "#fdca26"
             ],
             [
              1,
              "#f0f921"
             ]
            ],
            "type": "contour"
           }
          ],
          "contourcarpet": [
           {
            "colorbar": {
             "outlinewidth": 0,
             "ticks": ""
            },
            "type": "contourcarpet"
           }
          ],
          "heatmap": [
           {
            "colorbar": {
             "outlinewidth": 0,
             "ticks": ""
            },
            "colorscale": [
             [
              0,
              "#0d0887"
             ],
             [
              0.1111111111111111,
              "#46039f"
             ],
             [
              0.2222222222222222,
              "#7201a8"
             ],
             [
              0.3333333333333333,
              "#9c179e"
             ],
             [
              0.4444444444444444,
              "#bd3786"
             ],
             [
              0.5555555555555556,
              "#d8576b"
             ],
             [
              0.6666666666666666,
              "#ed7953"
             ],
             [
              0.7777777777777778,
              "#fb9f3a"
             ],
             [
              0.8888888888888888,
              "#fdca26"
             ],
             [
              1,
              "#f0f921"
             ]
            ],
            "type": "heatmap"
           }
          ],
          "heatmapgl": [
           {
            "colorbar": {
             "outlinewidth": 0,
             "ticks": ""
            },
            "colorscale": [
             [
              0,
              "#0d0887"
             ],
             [
              0.1111111111111111,
              "#46039f"
             ],
             [
              0.2222222222222222,
              "#7201a8"
             ],
             [
              0.3333333333333333,
              "#9c179e"
             ],
             [
              0.4444444444444444,
              "#bd3786"
             ],
             [
              0.5555555555555556,
              "#d8576b"
             ],
             [
              0.6666666666666666,
              "#ed7953"
             ],
             [
              0.7777777777777778,
              "#fb9f3a"
             ],
             [
              0.8888888888888888,
              "#fdca26"
             ],
             [
              1,
              "#f0f921"
             ]
            ],
            "type": "heatmapgl"
           }
          ],
          "histogram": [
           {
            "marker": {
             "colorbar": {
              "outlinewidth": 0,
              "ticks": ""
             }
            },
            "type": "histogram"
           }
          ],
          "histogram2d": [
           {
            "colorbar": {
             "outlinewidth": 0,
             "ticks": ""
            },
            "colorscale": [
             [
              0,
              "#0d0887"
             ],
             [
              0.1111111111111111,
              "#46039f"
             ],
             [
              0.2222222222222222,
              "#7201a8"
             ],
             [
              0.3333333333333333,
              "#9c179e"
             ],
             [
              0.4444444444444444,
              "#bd3786"
             ],
             [
              0.5555555555555556,
              "#d8576b"
             ],
             [
              0.6666666666666666,
              "#ed7953"
             ],
             [
              0.7777777777777778,
              "#fb9f3a"
             ],
             [
              0.8888888888888888,
              "#fdca26"
             ],
             [
              1,
              "#f0f921"
             ]
            ],
            "type": "histogram2d"
           }
          ],
          "histogram2dcontour": [
           {
            "colorbar": {
             "outlinewidth": 0,
             "ticks": ""
            },
            "colorscale": [
             [
              0,
              "#0d0887"
             ],
             [
              0.1111111111111111,
              "#46039f"
             ],
             [
              0.2222222222222222,
              "#7201a8"
             ],
             [
              0.3333333333333333,
              "#9c179e"
             ],
             [
              0.4444444444444444,
              "#bd3786"
             ],
             [
              0.5555555555555556,
              "#d8576b"
             ],
             [
              0.6666666666666666,
              "#ed7953"
             ],
             [
              0.7777777777777778,
              "#fb9f3a"
             ],
             [
              0.8888888888888888,
              "#fdca26"
             ],
             [
              1,
              "#f0f921"
             ]
            ],
            "type": "histogram2dcontour"
           }
          ],
          "mesh3d": [
           {
            "colorbar": {
             "outlinewidth": 0,
             "ticks": ""
            },
            "type": "mesh3d"
           }
          ],
          "parcoords": [
           {
            "line": {
             "colorbar": {
              "outlinewidth": 0,
              "ticks": ""
             }
            },
            "type": "parcoords"
           }
          ],
          "pie": [
           {
            "automargin": true,
            "type": "pie"
           }
          ],
          "scatter": [
           {
            "marker": {
             "colorbar": {
              "outlinewidth": 0,
              "ticks": ""
             }
            },
            "type": "scatter"
           }
          ],
          "scatter3d": [
           {
            "line": {
             "colorbar": {
              "outlinewidth": 0,
              "ticks": ""
             }
            },
            "marker": {
             "colorbar": {
              "outlinewidth": 0,
              "ticks": ""
             }
            },
            "type": "scatter3d"
           }
          ],
          "scattercarpet": [
           {
            "marker": {
             "colorbar": {
              "outlinewidth": 0,
              "ticks": ""
             }
            },
            "type": "scattercarpet"
           }
          ],
          "scattergeo": [
           {
            "marker": {
             "colorbar": {
              "outlinewidth": 0,
              "ticks": ""
             }
            },
            "type": "scattergeo"
           }
          ],
          "scattergl": [
           {
            "marker": {
             "colorbar": {
              "outlinewidth": 0,
              "ticks": ""
             }
            },
            "type": "scattergl"
           }
          ],
          "scattermapbox": [
           {
            "marker": {
             "colorbar": {
              "outlinewidth": 0,
              "ticks": ""
             }
            },
            "type": "scattermapbox"
           }
          ],
          "scatterpolar": [
           {
            "marker": {
             "colorbar": {
              "outlinewidth": 0,
              "ticks": ""
             }
            },
            "type": "scatterpolar"
           }
          ],
          "scatterpolargl": [
           {
            "marker": {
             "colorbar": {
              "outlinewidth": 0,
              "ticks": ""
             }
            },
            "type": "scatterpolargl"
           }
          ],
          "scatterternary": [
           {
            "marker": {
             "colorbar": {
              "outlinewidth": 0,
              "ticks": ""
             }
            },
            "type": "scatterternary"
           }
          ],
          "surface": [
           {
            "colorbar": {
             "outlinewidth": 0,
             "ticks": ""
            },
            "colorscale": [
             [
              0,
              "#0d0887"
             ],
             [
              0.1111111111111111,
              "#46039f"
             ],
             [
              0.2222222222222222,
              "#7201a8"
             ],
             [
              0.3333333333333333,
              "#9c179e"
             ],
             [
              0.4444444444444444,
              "#bd3786"
             ],
             [
              0.5555555555555556,
              "#d8576b"
             ],
             [
              0.6666666666666666,
              "#ed7953"
             ],
             [
              0.7777777777777778,
              "#fb9f3a"
             ],
             [
              0.8888888888888888,
              "#fdca26"
             ],
             [
              1,
              "#f0f921"
             ]
            ],
            "type": "surface"
           }
          ],
          "table": [
           {
            "cells": {
             "fill": {
              "color": "#EBF0F8"
             },
             "line": {
              "color": "white"
             }
            },
            "header": {
             "fill": {
              "color": "#C8D4E3"
             },
             "line": {
              "color": "white"
             }
            },
            "type": "table"
           }
          ]
         },
         "layout": {
          "annotationdefaults": {
           "arrowcolor": "#2a3f5f",
           "arrowhead": 0,
           "arrowwidth": 1
          },
          "coloraxis": {
           "colorbar": {
            "outlinewidth": 0,
            "ticks": ""
           }
          },
          "colorscale": {
           "diverging": [
            [
             0,
             "#8e0152"
            ],
            [
             0.1,
             "#c51b7d"
            ],
            [
             0.2,
             "#de77ae"
            ],
            [
             0.3,
             "#f1b6da"
            ],
            [
             0.4,
             "#fde0ef"
            ],
            [
             0.5,
             "#f7f7f7"
            ],
            [
             0.6,
             "#e6f5d0"
            ],
            [
             0.7,
             "#b8e186"
            ],
            [
             0.8,
             "#7fbc41"
            ],
            [
             0.9,
             "#4d9221"
            ],
            [
             1,
             "#276419"
            ]
           ],
           "sequential": [
            [
             0,
             "#0d0887"
            ],
            [
             0.1111111111111111,
             "#46039f"
            ],
            [
             0.2222222222222222,
             "#7201a8"
            ],
            [
             0.3333333333333333,
             "#9c179e"
            ],
            [
             0.4444444444444444,
             "#bd3786"
            ],
            [
             0.5555555555555556,
             "#d8576b"
            ],
            [
             0.6666666666666666,
             "#ed7953"
            ],
            [
             0.7777777777777778,
             "#fb9f3a"
            ],
            [
             0.8888888888888888,
             "#fdca26"
            ],
            [
             1,
             "#f0f921"
            ]
           ],
           "sequentialminus": [
            [
             0,
             "#0d0887"
            ],
            [
             0.1111111111111111,
             "#46039f"
            ],
            [
             0.2222222222222222,
             "#7201a8"
            ],
            [
             0.3333333333333333,
             "#9c179e"
            ],
            [
             0.4444444444444444,
             "#bd3786"
            ],
            [
             0.5555555555555556,
             "#d8576b"
            ],
            [
             0.6666666666666666,
             "#ed7953"
            ],
            [
             0.7777777777777778,
             "#fb9f3a"
            ],
            [
             0.8888888888888888,
             "#fdca26"
            ],
            [
             1,
             "#f0f921"
            ]
           ]
          },
          "colorway": [
           "#636efa",
           "#EF553B",
           "#00cc96",
           "#ab63fa",
           "#FFA15A",
           "#19d3f3",
           "#FF6692",
           "#B6E880",
           "#FF97FF",
           "#FECB52"
          ],
          "font": {
           "color": "#2a3f5f"
          },
          "geo": {
           "bgcolor": "white",
           "lakecolor": "white",
           "landcolor": "#E5ECF6",
           "showlakes": true,
           "showland": true,
           "subunitcolor": "white"
          },
          "hoverlabel": {
           "align": "left"
          },
          "hovermode": "closest",
          "mapbox": {
           "style": "light"
          },
          "paper_bgcolor": "white",
          "plot_bgcolor": "#E5ECF6",
          "polar": {
           "angularaxis": {
            "gridcolor": "white",
            "linecolor": "white",
            "ticks": ""
           },
           "bgcolor": "#E5ECF6",
           "radialaxis": {
            "gridcolor": "white",
            "linecolor": "white",
            "ticks": ""
           }
          },
          "scene": {
           "xaxis": {
            "backgroundcolor": "#E5ECF6",
            "gridcolor": "white",
            "gridwidth": 2,
            "linecolor": "white",
            "showbackground": true,
            "ticks": "",
            "zerolinecolor": "white"
           },
           "yaxis": {
            "backgroundcolor": "#E5ECF6",
            "gridcolor": "white",
            "gridwidth": 2,
            "linecolor": "white",
            "showbackground": true,
            "ticks": "",
            "zerolinecolor": "white"
           },
           "zaxis": {
            "backgroundcolor": "#E5ECF6",
            "gridcolor": "white",
            "gridwidth": 2,
            "linecolor": "white",
            "showbackground": true,
            "ticks": "",
            "zerolinecolor": "white"
           }
          },
          "shapedefaults": {
           "line": {
            "color": "#2a3f5f"
           }
          },
          "ternary": {
           "aaxis": {
            "gridcolor": "white",
            "linecolor": "white",
            "ticks": ""
           },
           "baxis": {
            "gridcolor": "white",
            "linecolor": "white",
            "ticks": ""
           },
           "bgcolor": "#E5ECF6",
           "caxis": {
            "gridcolor": "white",
            "linecolor": "white",
            "ticks": ""
           }
          },
          "title": {
           "x": 0.05
          },
          "xaxis": {
           "automargin": true,
           "gridcolor": "white",
           "linecolor": "white",
           "ticks": "",
           "title": {
            "standoff": 15
           },
           "zerolinecolor": "white",
           "zerolinewidth": 2
          },
          "yaxis": {
           "automargin": true,
           "gridcolor": "white",
           "linecolor": "white",
           "ticks": "",
           "title": {
            "standoff": 15
           },
           "zerolinecolor": "white",
           "zerolinewidth": 2
          }
         }
        },
        "xaxis": {
         "anchor": "y",
         "domain": [
          0,
          1
         ],
         "title": {
          "text": "time"
         }
        },
        "yaxis": {
         "anchor": "x",
         "domain": [
          0,
          1
         ],
         "title": {
          "text": "pof"
         }
        }
       }
      }
     },
     "metadata": {}
    }
   ],
   "source": [
    "def update_pof_figure2():\n",
    "\n",
    "    pof = dict(\n",
    "        untreated = pd.DataFrame(comp.expected_untreated(t_end=200)),\n",
    "        treated = pd.DataFrame(comp.expected_pof(t_end=200)),\n",
    "    )\n",
    "\n",
    "    df = pd.concat(pof).rename_axis(['strategy', 'time']).reset_index()\n",
    "    df = df.melt(id_vars = ['time', 'strategy'], var_name='source', value_name='pof')\n",
    "\n",
    "    fig = px.line(df,x='time', y='pof', color='source', line_dash = 'strategy', line_group='strategy')\n",
    "    return fig\n",
    "\n",
    "update_pof_figure2().show()\n",
    "\n",
    "def update_pof_figure():\n",
    "    pof = comp.expected_pof(t_end=200)\n",
    "\n",
    "    df = pd.DataFrame(pof)\n",
    "    df.index.name = 'time'\n",
    "    df = df.reset_index().melt(id_vars = 'time', var_name='source', value_name='pof')\n",
    "\n",
    "    fig = px.line(df,x='time', y='pof', color='source', line_dash = 'source')\n",
    "    return fig\n",
    "\n",
    "update_pof_figure().show()"
   ]
  },
  {
   "cell_type": "code",
   "execution_count": 5,
   "metadata": {
    "tags": [
     "outputPrepend"
    ]
   },
   "outputs": [
    {
     "output_type": "stream",
     "name": "stderr",
     "text": "d\nfast_degrading not found\nslow_degrading not found\nfast_degrading not found\nslow_degrading not found\nfast_degrading not found\nslow_degrading not found\nfast_degrading not found\nslow_degrading not found\nfast_degrading not found\nslow_degrading not found\nfast_degrading not found\nslow_degrading not found\nfast_degrading not found\nslow_degrading not found\nfast_degrading not found\nslow_degrading not found\nfast_degrading not found\nslow_degrading not found\nfast_degrading not found\nslow_degrading not found\nfast_degrading not found\nslow_degrading not found\nfast_degrading not found\nslow_degrading not found\nfast_degrading not found\nslow_degrading not found\nfast_degrading not found\nslow_degrading not found\nfast_degrading not found\nslow_degrading not found\nfast_degrading not found\nslow_degrading not found\nfast_degrading not found\nslow_degrading not found\nfast_degrading not found\nslow_degrading not found\nfast_degrading not found\nslow_degrading not found\nfast_degrading not found\nslow_degrading not found\nfast_degrading not found\nslow_degrading not found\nfast_degrading not found\nslow_degrading not found\nfast_degrading not found\nslow_degrading not found\nfast_degrading not found\nslow_degrading not found\nfast_degrading not found\nslow_degrading not found\nfast_degrading not found\nslow_degrading not found\nfast_degrading not found\nslow_degrading not found\nfast_degrading not found\nslow_degrading not found\nfast_degrading not found\nslow_degrading not found\nfast_degrading not found\nslow_degrading not found\nfast_degrading not found\nslow_degrading not found\nfast_degrading not found\nslow_degrading not found\nfast_degrading not found\nslow_degrading not found\nfast_degrading not found\nslow_degrading not found\nfast_degrading not found\nslow_degrading not found\nfast_degrading not found\nslow_degrading not found\nfast_degrading not found\nslow_degrading not found\nfast_degrading not found\nslow_degrading not found\nfast_degrading not found\nslow_degrading not found\nfast_degrading not found\nslow_degrading not found\nfast_degrading not found\nslow_degrading not found\nfast_degrading not found\nslow_degrading not found\nfast_degrading not found\nslow_degrading not found\nfast_degrading not found\nslow_degrading not found\nfast_degrading not found\nslow_degrading not found\nfast_degrading not found\nslow_degrading not found\nfast_degrading not found\nslow_degrading not found\nfast_degrading not found\nslow_degrading not found\nfast_degrading not found\nslow_degrading not found\nfast_degrading not found\nslow_degrading not found\nfast_degrading not found\nslow_degrading not found\nfast_degrading not found\nslow_degrading not found\nfast_degrading not found\nslow_degrading not found\nfast_degrading not found\nslow_degrading not found\nfast_degrading not found\nslow_degrading not found\nfast_degrading not found\nslow_degrading not found\nfast_degrading not found\nslow_degrading not found\nfast_degrading not found\nslow_degrading not found\nfast_degrading not found\nslow_degrading not found\nfast_degrading not found\nslow_degrading not found\nfast_degrading not found\nslow_degrading not found\nfast_degrading not found\nslow_degrading not found\nfast_degrading not found\nslow_degrading not found\nfast_degrading not found\nslow_degrading not found\nfast_degrading not found\nslow_degrading not found\nfast_degrading not found\nslow_degrading not found\nfast_degrading not found\nslow_degrading not found\nfast_degrading not found\nslow_degrading not found\nfast_degrading not found\nslow_degrading not found\nfast_degrading not found\nslow_degrading not found\nfast_degrading not found\nslow_degrading not found\nfast_degrading not found\nslow_degrading not found\nfast_degrading not found\nslow_degrading not found\nfast_degrading not found\nslow_degrading not found\nfast_degrading not found\nslow_degrading not found\nfast_degrading not found\nslow_degrading not found\nfast_degrading not found\nslow_degrading not found\nfast_degrading not found\nslow_degrading not found\nfast_degrading not found\nslow_degrading not found\nfast_degrading not found\nslow_degrading not found\nfast_degrading not found\nslow_degrading not found\nfast_degrading not found\nslow_degrading not found\nfast_degrading not found\nslow_degrading not found\nfast_degrading not found\nslow_degrading not found\nfast_degrading not found\nslow_degrading not found\nfast_degrading not found\nslow_degrading not found\nfast_degrading not found\nslow_degrading not found\nfast_degrading not found\nslow_degrading not found\nfast_degrading not found\nslow_degrading not found\nfast_degrading not found\nslow_degrading not found\nfast_degrading not found\nslow_degrading not found\nfast_degrading not found\nslow_degrading not found\nfast_degrading not found\nslow_degrading not found\nfast_degrading not found\nslow_degrading not found\nfast_degrading not found\nslow_degrading not found\nfast_degrading not found\nslow_degrading not found\nfast_degrading not found\nslow_degrading not found\nfast_degrading not found\nslow_degrading not found\nfast_degrading not found\nslow_degrading not found\nfast_degrading not found\nslow_degrading not found\nfast_degrading not found\nslow_degrading not found\nfast_degrading not found\nslow_degrading not found\nfast_degrading not found\nslow_degrading not found\nfast_degrading not found\nslow_degrading not found\nfast_degrading not found\nslow_degrading not found\nfast_degrading not found\nslow_degrading not found\nfast_degrading not found\nslow_degrading not found\nfast_degrading not found\nslow_degrading not found\nfast_degrading not found\nslow_degrading not found\nfast_degrading not found\nslow_degrading not found\nfast_degrading not found\nslow_degrading not found\nfast_degrading not found\nslow_degrading not found\nfast_degrading not found\nslow_degrading not found\nfast_degrading not found\nslow_degrading not found\nfast_degrading not found\nslow_degrading not found\nfast_degrading not found\nslow_degrading not found\nfast_degrading not found\nslow_degrading not found\nfast_degrading not found\nslow_degrading not found\nfast_degrading not found\nslow_degrading not found\nfast_degrading not found\nslow_degrading not found\nfast_degrading not found\nslow_degrading not found\nfast_degrading not found\nslow_degrading not found\nfast_degrading not found\nslow_degrading not found\nfast_degrading not found\nslow_degrading not found\nfast_degrading not found\nslow_degrading not found\nfast_degrading not found\nslow_degrading not found\nfast_degrading not found\nslow_degrading not found\nfast_degrading not found\nslow_degrading not found\nfast_degrading not found\nslow_degrading not found\nfast_degrading not found\nslow_degrading not found\nfast_degrading not found\nslow_degrading not found\nfast_degrading not found\nslow_degrading not found\nfast_degrading not found\nslow_degrading not found\nfast_degrading not found\nslow_degrading not found\nfast_degrading not found\nslow_degrading not found\nfast_degrading not found\nslow_degrading not found\nfast_degrading not found\nslow_degrading not found\nfast_degrading not found\nslow_degrading not found\n 93%|█████████▎| 93/100 [00:02<00:00, 35.26it/s]fast_degrading not found\nslow_degrading not found\nfast_degrading not found\nslow_degrading not found\nfast_degrading not found\nslow_degrading not found\nfast_degrading not found\nslow_degrading not found\nfast_degrading not found\nslow_degrading not found\nfast_degrading not found\nslow_degrading not found\nfast_degrading not found\nslow_degrading not found\nfast_degrading not found\nslow_degrading not found\nfast_degrading not found\nslow_degrading not found\nfast_degrading not found\nslow_degrading not found\nfast_degrading not found\nslow_degrading not found\nfast_degrading not found\nslow_degrading not found\nfast_degrading not found\nslow_degrading not found\nfast_degrading not found\nslow_degrading not found\nfast_degrading not found\nslow_degrading not found\nfast_degrading not found\nslow_degrading not found\nfast_degrading not found\nslow_degrading not found\nfast_degrading not found\nslow_degrading not found\nfast_degrading not found\nslow_degrading not found\nfast_degrading not found\nslow_degrading not found\nfast_degrading not found\nslow_degrading not found\nfast_degrading not found\nslow_degrading not found\nfast_degrading not found\nslow_degrading not found\nfast_degrading not found\nslow_degrading not found\nfast_degrading not found\nslow_degrading not found\nfast_degrading not found\nslow_degrading not found\nfast_degrading not found\nslow_degrading not found\nfast_degrading not found\nslow_degrading not found\nfast_degrading not found\nslow_degrading not found\nfast_degrading not found\nslow_degrading not found\nfast_degrading not found\nslow_degrading not found\nfast_degrading not found\nslow_degrading not found\nfast_degrading not found\nslow_degrading not found\nfast_degrading not found\nslow_degrading not found\nfast_degrading not found\nslow_degrading not found\nfast_degrading not found\nslow_degrading not found\nfast_degrading not found\nslow_degrading not found\nfast_degrading not found\nslow_degrading not found\nfast_degrading not found\nslow_degrading not found\nfast_degrading not found\nslow_degrading not found\nfast_degrading not found\nslow_degrading not found\nfast_degrading not found\nslow_degrading not found\nfast_degrading not found\nslow_degrading not found\nfast_degrading not found\nslow_degrading not found\nfast_degrading not found\nslow_degrading not found\nfast_degrading not found\nslow_degrading not found\nfast_degrading not found\nslow_degrading not found\nfast_degrading not found\nslow_degrading not found\nfast_degrading not found\nslow_degrading not found\nfast_degrading not found\nslow_degrading not found\nfast_degrading not found\nslow_degrading not found\nfast_degrading not found\nslow_degrading not found\nfast_degrading not found\nslow_degrading not found\nfast_degrading not found\nslow_degrading not found\nfast_degrading not found\nslow_degrading not found\nfast_degrading not found\nslow_degrading not found\nfast_degrading not found\nslow_degrading not found\nfast_degrading not found\nslow_degrading not found\nfast_degrading not found\nslow_degrading not found\nfast_degrading not found\nslow_degrading not found\nfast_degrading not found\nslow_degrading not found\nfast_degrading not found\nslow_degrading not found\nfast_degrading not found\nslow_degrading not found\nfast_degrading not found\nslow_degrading not found\nfast_degrading not found\nslow_degrading not found\nfast_degrading not found\nslow_degrading not found\nfast_degrading not found\nslow_degrading not found\nfast_degrading not found\nslow_degrading not found\nfast_degrading not found\nslow_degrading not found\nfast_degrading not found\nslow_degrading not found\nfast_degrading not found\nslow_degrading not found\nfast_degrading not found\nslow_degrading not found\nfast_degrading not found\nslow_degrading not found\nfast_degrading not found\nslow_degrading not found\nfast_degrading not found\nslow_degrading not found\nfast_degrading not found\nslow_degrading not found\nfast_degrading not found\nslow_degrading not found\nfast_degrading not found\nslow_degrading not found\nfast_degrading not found\nslow_degrading not found\nfast_degrading not found\nslow_degrading not found\nfast_degrading not found\nslow_degrading not found\nfast_degrading not found\nslow_degrading not found\nfast_degrading not found\nslow_degrading not found\nfast_degrading not found\nslow_degrading not found\nfast_degrading not found\nslow_degrading not found\nfast_degrading not found\nslow_degrading not found\nfast_degrading not found\nslow_degrading not found\nfast_degrading not found\nslow_degrading not found\nfast_degrading not found\nslow_degrading not found\nfast_degrading not found\nslow_degrading not found\nfast_degrading not found\nslow_degrading not found\nfast_degrading not found\nslow_degrading not found\nfast_degrading not found\nslow_degrading not found\nfast_degrading not found\nslow_degrading not found\nfast_degrading not found\nslow_degrading not found\nfast_degrading not found\nslow_degrading not found\nfast_degrading not found\nslow_degrading not found\nfast_degrading not found\nslow_degrading not found\nfast_degrading not found\nslow_degrading not found\nfast_degrading not found\nslow_degrading not found\nfast_degrading not found\nslow_degrading not found\nfast_degrading not found\nslow_degrading not found\nfast_degrading not found\nslow_degrading not found\nfast_degrading not found\nslow_degrading not found\nfast_degrading not found\nslow_degrading not found\nfast_degrading not found\nslow_degrading not found\nfast_degrading not found\nslow_degrading not found\nfast_degrading not found\nslow_degrading not found\nfast_degrading not found\nslow_degrading not found\nfast_degrading not found\nslow_degrading not found\nfast_degrading not found\nslow_degrading not found\nfast_degrading not found\nslow_degrading not found\nfast_degrading not found\nslow_degrading not found\nfast_degrading not found\nslow_degrading not found\nfast_degrading not found\nslow_degrading not found\nfast_degrading not found\nslow_degrading not found\nfast_degrading not found\nslow_degrading not found\nfast_degrading not found\nslow_degrading not found\nfast_degrading not found\nslow_degrading not found\nfast_degrading not found\nslow_degrading not found\nfast_degrading not found\nslow_degrading not found\nfast_degrading not found\nslow_degrading not found\nfast_degrading not found\nslow_degrading not found\nfast_degrading not found\nslow_degrading not found\nfast_degrading not found\nslow_degrading not found\nfast_degrading not found\nslow_degrading not found\nfast_degrading not found\nslow_degrading not found\nfast_degrading not found\nslow_degrading not found\nfast_degrading not found\nslow_degrading not found\nfast_degrading not found\nslow_degrading not found\nfast_degrading not found\nslow_degrading not found\nfast_degrading not found\nslow_degrading not found\nfast_degrading not found\nslow_degrading not found\nfast_degrading not found\nslow_degrading not found\nfast_degrading not found\nslow_degrading not found\nfast_degrading not found\nslow_degrading not found\nfast_degrading not found\nslow_degrading not found\nfast_degrading not found\nslow_degrading not found\nfast_degrading not found\nslow_degrading not found\nfast_degrading not found\nslow_degrading not found\nfast_degrading not found\nslow_degrading not found\nfast_degrading not found\nslow_degrading not found\nfast_degrading not found\nslow_degrading not found\nfast_degrading not found\nslow_degrading not found\nfast_degrading not found\nslow_degrading not found\n100%|██████████| 100/100 [00:02<00:00, 33.62it/s]fast_degrading not found\nslow_degrading not found\nfast_degrading not found\nslow_degrading not found\nfast_degrading not found\nslow_degrading not found\nfast_degrading not found\nslow_degrading not found\nfast_degrading not found\nslow_degrading not found\nfast_degrading not found\nslow_degrading not found\nfast_degrading not found\nslow_degrading not found\nfast_degrading not found\nslow_degrading not found\nfast_degrading not found\nslow_degrading not found\nfast_degrading not found\nslow_degrading not found\nfast_degrading not found\nslow_degrading not found\nfast_degrading not found\nslow_degrading not found\nfast_degrading not found\nslow_degrading not found\nfast_degrading not found\nslow_degrading not found\nfast_degrading not found\nslow_degrading not found\nfast_degrading not found\nslow_degrading not found\nfast_degrading not found\nslow_degrading not found\nfast_degrading not found\nslow_degrading not found\nfast_degrading not found\nslow_degrading not found\nfast_degrading not found\nslow_degrading not found\nfast_degrading not found\nslow_degrading not found\nfast_degrading not found\nslow_degrading not found\nfast_degrading not found\nslow_degrading not found\nfast_degrading not found\nslow_degrading not found\nfast_degrading not found\nslow_degrading not found\nfast_degrading not found\nslow_degrading not found\nfast_degrading not found\nslow_degrading not found\nfast_degrading not found\nslow_degrading not found\nfast_degrading not found\nslow_degrading not found\nfast_degrading not found\nslow_degrading not found\nfast_degrading not found\nslow_degrading not found\nfast_degrading not found\nslow_degrading not found\nfast_degrading not found\nslow_degrading not found\nfast_degrading not found\nslow_degrading not found\nfast_degrading not found\nslow_degrading not found\nfast_degrading not found\nslow_degrading not found\nfast_degrading not found\nslow_degrading not found\nfast_degrading not found\nslow_degrading not found\nfast_degrading not found\nslow_degrading not found\nfast_degrading not found\nslow_degrading not found\nfast_degrading not found\nslow_degrading not found\nfast_degrading not found\nslow_degrading not found\nfast_degrading not found\nslow_degrading not found\nfast_degrading not found\nslow_degrading not found\nfast_degrading not found\nslow_degrading not found\nfast_degrading not found\nslow_degrading not found\nfast_degrading not found\nslow_degrading not found\nfast_degrading not found\nslow_degrading not found\nfast_degrading not found\nslow_degrading not found\nfast_degrading not found\nslow_degrading not found\nfast_degrading not found\nslow_degrading not found\nfast_degrading not found\nslow_degrading not found\nfast_degrading not found\nslow_degrading not found\nfast_degrading not found\nslow_degrading not found\nfast_degrading not found\nslow_degrading not found\nfast_degrading not found\nslow_degrading not found\nfast_degrading not found\nslow_degrading not found\nfast_degrading not found\nslow_degrading not found\nfast_degrading not found\nslow_degrading not found\nfast_degrading not found\nslow_degrading not found\nfast_degrading not found\nslow_degrading not found\nfast_degrading not found\nslow_degrading not found\nfast_degrading not found\nslow_degrading not found\nfast_degrading not found\nslow_degrading not found\nfast_degrading not found\nslow_degrading not found\nfast_degrading not found\nslow_degrading not found\nfast_degrading not found\nslow_degrading not found\nfast_degrading not found\nslow_degrading not found\nfast_degrading not found\nslow_degrading not found\nfast_degrading not found\nslow_degrading not found\nfast_degrading not found\nslow_degrading not found\nfast_degrading not found\nslow_degrading not found\nfast_degrading not found\nslow_degrading not found\nfast_degrading not found\nslow_degrading not found\nfast_degrading not found\nslow_degrading not found\nfast_degrading not found\nslow_degrading not found\nfast_degrading not found\nslow_degrading not found\nfast_degrading not found\nslow_degrading not found\nfast_degrading not found\nslow_degrading not found\nfast_degrading not found\nslow_degrading not found\nfast_degrading not found\nslow_degrading not found\nfast_degrading not found\nslow_degrading not found\nfast_degrading not found\nslow_degrading not found\nfast_degrading not found\nslow_degrading not found\nfast_degrading not found\nslow_degrading not found\nfast_degrading not found\nslow_degrading not found\nfast_degrading not found\nslow_degrading not found\nfast_degrading not found\nslow_degrading not found\nfast_degrading not found\nslow_degrading not found\nfast_degrading not found\nslow_degrading not found\nfast_degrading not found\nslow_degrading not found\nfast_degrading not found\nslow_degrading not found\nfast_degrading not found\nslow_degrading not found\nfast_degrading not found\nslow_degrading not found\nfast_degrading not found\nslow_degrading not found\nfast_degrading not found\nslow_degrading not found\nfast_degrading not found\nslow_degrading not found\nfast_degrading not found\nslow_degrading not found\nfast_degrading not found\nslow_degrading not found\nfast_degrading not found\nslow_degrading not found\nfast_degrading not found\nslow_degrading not found\nfast_degrading not found\nslow_degrading not found\nfast_degrading not found\nslow_degrading not found\nfast_degrading not found\nslow_degrading not found\nfast_degrading not found\nslow_degrading not found\nfast_degrading not found\nslow_degrading not found\nfast_degrading not found\nslow_degrading not found\nfast_degrading not found\nslow_degrading not found\nfast_degrading not found\nslow_degrading not found\nfast_degrading not found\nslow_degrading not found\nfast_degrading not found\nslow_degrading not found\nfast_degrading not found\nslow_degrading not found\nfast_degrading not found\nslow_degrading not found\nfast_degrading not found\nslow_degrading not found\nfast_degrading not found\nslow_degrading not found\n\n"
    }
   ],
   "source": [
    "def expected_inspection_interval(x_min, x_max, n_iterations=100):\n",
    "    rc = dict()\n",
    "    comp.reset()\n",
    "\n",
    "    for i in range(max(1, x_min),x_max,1):\n",
    "\n",
    "        # Set t_interval\n",
    "        for fm in comp.fm.values():\n",
    "            if 'inspection' in list(fm.tasks):\n",
    "                fm.tasks['inspection'].t_interval = i\n",
    "        \n",
    "        comp.mc_timeline(t_end=100, n_iterations=n_iterations)\n",
    "\n",
    "        rc[i] = comp.expected_risk_cost_df().groupby(by=['task'])['cost'].sum()\n",
    "        rc[i]['inspection_interval'] = i\n",
    "\n",
    "        # Reset component\n",
    "        comp.reset()\n",
    "\n",
    "    df = pd.DataFrame().from_dict(rc, orient='index')\n",
    "    df['total_cost'] = df.drop(['inspection_interval', 'risk'], axis=1).sum(axis=1)\n",
    "    df['total'] = df['total_cost'] + df['risk']\n",
    "    \n",
    "    return df\n",
    "\n",
    "df = expected_inspection_interval(0, 10)"
   ]
  },
  {
   "cell_type": "code",
   "execution_count": 6,
   "metadata": {
    "tags": []
   },
   "outputs": [
    {
     "name": "stderr",
     "output_type": "stream",
     "text": [
      "100%|██████████| 100/100 [00:15<00:00,  6.35it/s]\n",
      "100%|██████████| 100/100 [00:08<00:00, 11.27it/s]\n",
      "100%|██████████| 100/100 [00:07<00:00, 13.65it/s]\n",
      "100%|██████████| 100/100 [00:05<00:00, 16.94it/s]\n",
      "100%|██████████| 100/100 [00:05<00:00, 18.40it/s]\n",
      "100%|██████████| 100/100 [00:04<00:00, 20.02it/s]\n",
      "100%|██████████| 100/100 [00:04<00:00, 24.82it/s]\n",
      "100%|██████████| 100/100 [00:03<00:00, 31.11it/s]\n",
      "100%|██████████| 100/100 [00:02<00:00, 33.92it/s]\n"
     ]
    },
    {
     "data": {
      "application/vnd.plotly.v1+json": {
       "config": {
        "plotlyServerURL": "https://plot.ly"
       },
       "data": [
        {
         "hovertemplate": "source=immediate_replacement<br>inspection_interval=%{x}<br>cost=%{y}<extra></extra>",
         "legendgroup": "immediate_replacement",
         "line": {
          "color": "#636efa",
          "dash": "solid"
         },
         "mode": "lines",
         "name": "immediate_replacement",
         "orientation": "v",
         "showlegend": true,
         "type": "scatter",
         "x": [
          1,
          2,
          3,
          4,
          5,
          6,
          7,
          8,
          9
         ],
         "xaxis": "x",
         "y": [
          950,
          800,
          800,
          1700,
          2250,
          3150,
          4150,
          4000,
          4950
         ],
         "yaxis": "y"
        },
        {
         "hovertemplate": "source=inspection<br>inspection_interval=%{x}<br>cost=%{y}<extra></extra>",
         "legendgroup": "inspection",
         "line": {
          "color": "#EF553B",
          "dash": "solid"
         },
         "mode": "lines",
         "name": "inspection",
         "orientation": "v",
         "showlegend": true,
         "type": "scatter",
         "x": [
          1,
          2,
          3,
          4,
          5,
          6,
          7,
          8,
          9
         ],
         "xaxis": "x",
         "y": [
          14850,
          7497,
          4950,
          3750,
          2997,
          2400,
          2100,
          1800,
          1650
         ],
         "yaxis": "y"
        },
        {
         "hovertemplate": "source=on_condition_repair<br>inspection_interval=%{x}<br>cost=%{y}<extra></extra>",
         "legendgroup": "on_condition_repair",
         "line": {
          "color": "#00cc96",
          "dash": "solid"
         },
         "mode": "lines",
         "name": "on_condition_repair",
         "orientation": "v",
         "showlegend": true,
         "type": "scatter",
         "x": [
          1,
          2,
          3,
          4,
          5,
          6,
          7,
          8,
          9
         ],
         "xaxis": "x",
         "y": [
          254,
          253,
          252,
          219,
          218,
          177,
          173,
          145,
          134
         ],
         "yaxis": "y"
        },
        {
         "hovertemplate": "source=on_condition_replacement<br>inspection_interval=%{x}<br>cost=%{y}<extra></extra>",
         "legendgroup": "on_condition_replacement",
         "line": {
          "color": "#ab63fa",
          "dash": "solid"
         },
         "mode": "lines",
         "name": "on_condition_replacement",
         "orientation": "v",
         "showlegend": true,
         "type": "scatter",
         "x": [
          1,
          2,
          3,
          4,
          5,
          6,
          7,
          8,
          9
         ],
         "xaxis": "x",
         "y": [
          0,
          0,
          0,
          0,
          0,
          0,
          0,
          0,
          0
         ],
         "yaxis": "y"
        },
        {
         "hovertemplate": "source=risk<br>inspection_interval=%{x}<br>cost=%{y}<extra></extra>",
         "legendgroup": "risk",
         "line": {
          "color": "#FFA15A",
          "dash": "solid"
         },
         "mode": "lines",
         "name": "risk",
         "orientation": "v",
         "showlegend": true,
         "type": "scatter",
         "x": [
          1,
          2,
          3,
          4,
          5,
          6,
          7,
          8,
          9
         ],
         "xaxis": "x",
         "y": [
          9500,
          8000,
          8000,
          15500,
          21000,
          29500,
          40500,
          38000,
          49000
         ],
         "yaxis": "y"
        },
        {
         "hovertemplate": "source=total_cost<br>inspection_interval=%{x}<br>cost=%{y}<extra></extra>",
         "legendgroup": "total_cost",
         "line": {
          "color": "#19d3f3",
          "dash": "solid"
         },
         "mode": "lines",
         "name": "total_cost",
         "orientation": "v",
         "showlegend": true,
         "type": "scatter",
         "x": [
          1,
          2,
          3,
          4,
          5,
          6,
          7,
          8,
          9
         ],
         "xaxis": "x",
         "y": [
          16054,
          8550,
          6002,
          5669,
          5465,
          5727,
          6423,
          5945,
          6734
         ],
         "yaxis": "y"
        },
        {
         "hovertemplate": "source=total<br>inspection_interval=%{x}<br>cost=%{y}<extra></extra>",
         "legendgroup": "total",
         "line": {
          "color": "#FF6692",
          "dash": "solid"
         },
         "mode": "lines",
         "name": "total",
         "orientation": "v",
         "showlegend": true,
         "type": "scatter",
         "x": [
          1,
          2,
          3,
          4,
          5,
          6,
          7,
          8,
          9
         ],
         "xaxis": "x",
         "y": [
          25554,
          16550,
          14002,
          21169,
          26465,
          35227,
          46923,
          43945,
          55734
         ],
         "yaxis": "y"
        }
       ],
       "layout": {
        "legend": {
         "title": {
          "text": "source"
         },
         "tracegroupgap": 0
        },
        "template": {
         "data": {
          "bar": [
           {
            "error_x": {
             "color": "#2a3f5f"
            },
            "error_y": {
             "color": "#2a3f5f"
            },
            "marker": {
             "line": {
              "color": "#E5ECF6",
              "width": 0.5
             }
            },
            "type": "bar"
           }
          ],
          "barpolar": [
           {
            "marker": {
             "line": {
              "color": "#E5ECF6",
              "width": 0.5
             }
            },
            "type": "barpolar"
           }
          ],
          "carpet": [
           {
            "aaxis": {
             "endlinecolor": "#2a3f5f",
             "gridcolor": "white",
             "linecolor": "white",
             "minorgridcolor": "white",
             "startlinecolor": "#2a3f5f"
            },
            "baxis": {
             "endlinecolor": "#2a3f5f",
             "gridcolor": "white",
             "linecolor": "white",
             "minorgridcolor": "white",
             "startlinecolor": "#2a3f5f"
            },
            "type": "carpet"
           }
          ],
          "choropleth": [
           {
            "colorbar": {
             "outlinewidth": 0,
             "ticks": ""
            },
            "type": "choropleth"
           }
          ],
          "contour": [
           {
            "colorbar": {
             "outlinewidth": 0,
             "ticks": ""
            },
            "colorscale": [
             [
              0,
              "#0d0887"
             ],
             [
              0.1111111111111111,
              "#46039f"
             ],
             [
              0.2222222222222222,
              "#7201a8"
             ],
             [
              0.3333333333333333,
              "#9c179e"
             ],
             [
              0.4444444444444444,
              "#bd3786"
             ],
             [
              0.5555555555555556,
              "#d8576b"
             ],
             [
              0.6666666666666666,
              "#ed7953"
             ],
             [
              0.7777777777777778,
              "#fb9f3a"
             ],
             [
              0.8888888888888888,
              "#fdca26"
             ],
             [
              1,
              "#f0f921"
             ]
            ],
            "type": "contour"
           }
          ],
          "contourcarpet": [
           {
            "colorbar": {
             "outlinewidth": 0,
             "ticks": ""
            },
            "type": "contourcarpet"
           }
          ],
          "heatmap": [
           {
            "colorbar": {
             "outlinewidth": 0,
             "ticks": ""
            },
            "colorscale": [
             [
              0,
              "#0d0887"
             ],
             [
              0.1111111111111111,
              "#46039f"
             ],
             [
              0.2222222222222222,
              "#7201a8"
             ],
             [
              0.3333333333333333,
              "#9c179e"
             ],
             [
              0.4444444444444444,
              "#bd3786"
             ],
             [
              0.5555555555555556,
              "#d8576b"
             ],
             [
              0.6666666666666666,
              "#ed7953"
             ],
             [
              0.7777777777777778,
              "#fb9f3a"
             ],
             [
              0.8888888888888888,
              "#fdca26"
             ],
             [
              1,
              "#f0f921"
             ]
            ],
            "type": "heatmap"
           }
          ],
          "heatmapgl": [
           {
            "colorbar": {
             "outlinewidth": 0,
             "ticks": ""
            },
            "colorscale": [
             [
              0,
              "#0d0887"
             ],
             [
              0.1111111111111111,
              "#46039f"
             ],
             [
              0.2222222222222222,
              "#7201a8"
             ],
             [
              0.3333333333333333,
              "#9c179e"
             ],
             [
              0.4444444444444444,
              "#bd3786"
             ],
             [
              0.5555555555555556,
              "#d8576b"
             ],
             [
              0.6666666666666666,
              "#ed7953"
             ],
             [
              0.7777777777777778,
              "#fb9f3a"
             ],
             [
              0.8888888888888888,
              "#fdca26"
             ],
             [
              1,
              "#f0f921"
             ]
            ],
            "type": "heatmapgl"
           }
          ],
          "histogram": [
           {
            "marker": {
             "colorbar": {
              "outlinewidth": 0,
              "ticks": ""
             }
            },
            "type": "histogram"
           }
          ],
          "histogram2d": [
           {
            "colorbar": {
             "outlinewidth": 0,
             "ticks": ""
            },
            "colorscale": [
             [
              0,
              "#0d0887"
             ],
             [
              0.1111111111111111,
              "#46039f"
             ],
             [
              0.2222222222222222,
              "#7201a8"
             ],
             [
              0.3333333333333333,
              "#9c179e"
             ],
             [
              0.4444444444444444,
              "#bd3786"
             ],
             [
              0.5555555555555556,
              "#d8576b"
             ],
             [
              0.6666666666666666,
              "#ed7953"
             ],
             [
              0.7777777777777778,
              "#fb9f3a"
             ],
             [
              0.8888888888888888,
              "#fdca26"
             ],
             [
              1,
              "#f0f921"
             ]
            ],
            "type": "histogram2d"
           }
          ],
          "histogram2dcontour": [
           {
            "colorbar": {
             "outlinewidth": 0,
             "ticks": ""
            },
            "colorscale": [
             [
              0,
              "#0d0887"
             ],
             [
              0.1111111111111111,
              "#46039f"
             ],
             [
              0.2222222222222222,
              "#7201a8"
             ],
             [
              0.3333333333333333,
              "#9c179e"
             ],
             [
              0.4444444444444444,
              "#bd3786"
             ],
             [
              0.5555555555555556,
              "#d8576b"
             ],
             [
              0.6666666666666666,
              "#ed7953"
             ],
             [
              0.7777777777777778,
              "#fb9f3a"
             ],
             [
              0.8888888888888888,
              "#fdca26"
             ],
             [
              1,
              "#f0f921"
             ]
            ],
            "type": "histogram2dcontour"
           }
          ],
          "mesh3d": [
           {
            "colorbar": {
             "outlinewidth": 0,
             "ticks": ""
            },
            "type": "mesh3d"
           }
          ],
          "parcoords": [
           {
            "line": {
             "colorbar": {
              "outlinewidth": 0,
              "ticks": ""
             }
            },
            "type": "parcoords"
           }
          ],
          "pie": [
           {
            "automargin": true,
            "type": "pie"
           }
          ],
          "scatter": [
           {
            "marker": {
             "colorbar": {
              "outlinewidth": 0,
              "ticks": ""
             }
            },
            "type": "scatter"
           }
          ],
          "scatter3d": [
           {
            "line": {
             "colorbar": {
              "outlinewidth": 0,
              "ticks": ""
             }
            },
            "marker": {
             "colorbar": {
              "outlinewidth": 0,
              "ticks": ""
             }
            },
            "type": "scatter3d"
           }
          ],
          "scattercarpet": [
           {
            "marker": {
             "colorbar": {
              "outlinewidth": 0,
              "ticks": ""
             }
            },
            "type": "scattercarpet"
           }
          ],
          "scattergeo": [
           {
            "marker": {
             "colorbar": {
              "outlinewidth": 0,
              "ticks": ""
             }
            },
            "type": "scattergeo"
           }
          ],
          "scattergl": [
           {
            "marker": {
             "colorbar": {
              "outlinewidth": 0,
              "ticks": ""
             }
            },
            "type": "scattergl"
           }
          ],
          "scattermapbox": [
           {
            "marker": {
             "colorbar": {
              "outlinewidth": 0,
              "ticks": ""
             }
            },
            "type": "scattermapbox"
           }
          ],
          "scatterpolar": [
           {
            "marker": {
             "colorbar": {
              "outlinewidth": 0,
              "ticks": ""
             }
            },
            "type": "scatterpolar"
           }
          ],
          "scatterpolargl": [
           {
            "marker": {
             "colorbar": {
              "outlinewidth": 0,
              "ticks": ""
             }
            },
            "type": "scatterpolargl"
           }
          ],
          "scatterternary": [
           {
            "marker": {
             "colorbar": {
              "outlinewidth": 0,
              "ticks": ""
             }
            },
            "type": "scatterternary"
           }
          ],
          "surface": [
           {
            "colorbar": {
             "outlinewidth": 0,
             "ticks": ""
            },
            "colorscale": [
             [
              0,
              "#0d0887"
             ],
             [
              0.1111111111111111,
              "#46039f"
             ],
             [
              0.2222222222222222,
              "#7201a8"
             ],
             [
              0.3333333333333333,
              "#9c179e"
             ],
             [
              0.4444444444444444,
              "#bd3786"
             ],
             [
              0.5555555555555556,
              "#d8576b"
             ],
             [
              0.6666666666666666,
              "#ed7953"
             ],
             [
              0.7777777777777778,
              "#fb9f3a"
             ],
             [
              0.8888888888888888,
              "#fdca26"
             ],
             [
              1,
              "#f0f921"
             ]
            ],
            "type": "surface"
           }
          ],
          "table": [
           {
            "cells": {
             "fill": {
              "color": "#EBF0F8"
             },
             "line": {
              "color": "white"
             }
            },
            "header": {
             "fill": {
              "color": "#C8D4E3"
             },
             "line": {
              "color": "white"
             }
            },
            "type": "table"
           }
          ]
         },
         "layout": {
          "annotationdefaults": {
           "arrowcolor": "#2a3f5f",
           "arrowhead": 0,
           "arrowwidth": 1
          },
          "coloraxis": {
           "colorbar": {
            "outlinewidth": 0,
            "ticks": ""
           }
          },
          "colorscale": {
           "diverging": [
            [
             0,
             "#8e0152"
            ],
            [
             0.1,
             "#c51b7d"
            ],
            [
             0.2,
             "#de77ae"
            ],
            [
             0.3,
             "#f1b6da"
            ],
            [
             0.4,
             "#fde0ef"
            ],
            [
             0.5,
             "#f7f7f7"
            ],
            [
             0.6,
             "#e6f5d0"
            ],
            [
             0.7,
             "#b8e186"
            ],
            [
             0.8,
             "#7fbc41"
            ],
            [
             0.9,
             "#4d9221"
            ],
            [
             1,
             "#276419"
            ]
           ],
           "sequential": [
            [
             0,
             "#0d0887"
            ],
            [
             0.1111111111111111,
             "#46039f"
            ],
            [
             0.2222222222222222,
             "#7201a8"
            ],
            [
             0.3333333333333333,
             "#9c179e"
            ],
            [
             0.4444444444444444,
             "#bd3786"
            ],
            [
             0.5555555555555556,
             "#d8576b"
            ],
            [
             0.6666666666666666,
             "#ed7953"
            ],
            [
             0.7777777777777778,
             "#fb9f3a"
            ],
            [
             0.8888888888888888,
             "#fdca26"
            ],
            [
             1,
             "#f0f921"
            ]
           ],
           "sequentialminus": [
            [
             0,
             "#0d0887"
            ],
            [
             0.1111111111111111,
             "#46039f"
            ],
            [
             0.2222222222222222,
             "#7201a8"
            ],
            [
             0.3333333333333333,
             "#9c179e"
            ],
            [
             0.4444444444444444,
             "#bd3786"
            ],
            [
             0.5555555555555556,
             "#d8576b"
            ],
            [
             0.6666666666666666,
             "#ed7953"
            ],
            [
             0.7777777777777778,
             "#fb9f3a"
            ],
            [
             0.8888888888888888,
             "#fdca26"
            ],
            [
             1,
             "#f0f921"
            ]
           ]
          },
          "colorway": [
           "#636efa",
           "#EF553B",
           "#00cc96",
           "#ab63fa",
           "#FFA15A",
           "#19d3f3",
           "#FF6692",
           "#B6E880",
           "#FF97FF",
           "#FECB52"
          ],
          "font": {
           "color": "#2a3f5f"
          },
          "geo": {
           "bgcolor": "white",
           "lakecolor": "white",
           "landcolor": "#E5ECF6",
           "showlakes": true,
           "showland": true,
           "subunitcolor": "white"
          },
          "hoverlabel": {
           "align": "left"
          },
          "hovermode": "closest",
          "mapbox": {
           "style": "light"
          },
          "paper_bgcolor": "white",
          "plot_bgcolor": "#E5ECF6",
          "polar": {
           "angularaxis": {
            "gridcolor": "white",
            "linecolor": "white",
            "ticks": ""
           },
           "bgcolor": "#E5ECF6",
           "radialaxis": {
            "gridcolor": "white",
            "linecolor": "white",
            "ticks": ""
           }
          },
          "scene": {
           "xaxis": {
            "backgroundcolor": "#E5ECF6",
            "gridcolor": "white",
            "gridwidth": 2,
            "linecolor": "white",
            "showbackground": true,
            "ticks": "",
            "zerolinecolor": "white"
           },
           "yaxis": {
            "backgroundcolor": "#E5ECF6",
            "gridcolor": "white",
            "gridwidth": 2,
            "linecolor": "white",
            "showbackground": true,
            "ticks": "",
            "zerolinecolor": "white"
           },
           "zaxis": {
            "backgroundcolor": "#E5ECF6",
            "gridcolor": "white",
            "gridwidth": 2,
            "linecolor": "white",
            "showbackground": true,
            "ticks": "",
            "zerolinecolor": "white"
           }
          },
          "shapedefaults": {
           "line": {
            "color": "#2a3f5f"
           }
          },
          "ternary": {
           "aaxis": {
            "gridcolor": "white",
            "linecolor": "white",
            "ticks": ""
           },
           "baxis": {
            "gridcolor": "white",
            "linecolor": "white",
            "ticks": ""
           },
           "bgcolor": "#E5ECF6",
           "caxis": {
            "gridcolor": "white",
            "linecolor": "white",
            "ticks": ""
           }
          },
          "title": {
           "x": 0.05
          },
          "xaxis": {
           "automargin": true,
           "gridcolor": "white",
           "linecolor": "white",
           "ticks": "",
           "title": {
            "standoff": 15
           },
           "zerolinecolor": "white",
           "zerolinewidth": 2
          },
          "yaxis": {
           "automargin": true,
           "gridcolor": "white",
           "linecolor": "white",
           "ticks": "",
           "title": {
            "standoff": 15
           },
           "zerolinecolor": "white",
           "zerolinewidth": 2
          }
         }
        },
        "title": {
         "text": "Risk v Cost at different Inspection Intervals"
        },
        "xaxis": {
         "anchor": "y",
         "domain": [
          0,
          1
         ],
         "title": {
          "text": "inspection_interval"
         }
        },
        "yaxis": {
         "anchor": "x",
         "domain": [
          0,
          1
         ],
         "title": {
          "text": "cost"
         }
        }
       }
      }
     },
     "metadata": {},
     "output_type": "display_data"
    }
   ],
   "source": [
    "\n",
    "def update_inspection_interval_figure():\n",
    "    \n",
    "    df = expected_inspection_interval(0,10)\n",
    "    df_plot = df.melt(id_vars='inspection_interval', var_name = 'source', value_name='cost')\n",
    "    fig = px.line(df_plot, x=\"inspection_interval\", y=\"cost\", color='source', title='Risk v Cost at different Inspection Intervals')\n",
    "    return fig\n",
    "\n",
    "update_inspection_interval_figure().show()"
   ]
  },
  {
   "cell_type": "code",
   "execution_count": 7,
   "metadata": {
    "tags": []
   },
   "outputs": [
    {
     "name": "stderr",
     "output_type": "stream",
     "text": [
      "100%|██████████| 1000/1000 [02:20<00:00,  7.13it/s]\n",
      "100%|██████████| 1000/1000 [01:02<00:00, 15.97it/s]\n",
      "100%|██████████| 1000/1000 [00:30<00:00, 32.60it/s]\n",
      "100%|██████████| 1000/1000 [00:38<00:00, 26.26it/s]\n",
      "100%|██████████| 1000/1000 [00:32<00:00, 30.62it/s]\n",
      "100%|██████████| 1000/1000 [00:29<00:00, 33.97it/s]\n",
      "100%|██████████| 1000/1000 [00:23<00:00, 42.76it/s]\n",
      "100%|██████████| 1000/1000 [00:15<00:00, 64.87it/s]\n",
      "100%|██████████| 1000/1000 [00:14<00:00, 70.75it/s]\n",
      "100%|██████████| 1000/1000 [02:31<00:00,  6.59it/s]\n",
      "100%|██████████| 1000/1000 [00:55<00:00, 18.14it/s]\n",
      "100%|██████████| 1000/1000 [00:25<00:00, 38.49it/s]\n",
      "100%|██████████| 1000/1000 [00:30<00:00, 32.36it/s]\n",
      "100%|██████████| 1000/1000 [00:17<00:00, 58.01it/s]\n",
      "100%|██████████| 1000/1000 [00:19<00:00, 52.01it/s]\n",
      "100%|██████████| 1000/1000 [00:21<00:00, 46.04it/s]\n",
      "100%|██████████| 1000/1000 [00:33<00:00, 29.93it/s]\n",
      "100%|██████████| 1000/1000 [00:36<00:00, 27.07it/s]\n",
      "100%|██████████| 1000/1000 [02:04<00:00,  8.02it/s]\n",
      "100%|██████████| 1000/1000 [00:40<00:00, 24.96it/s]\n",
      "100%|██████████| 1000/1000 [00:21<00:00, 45.69it/s]\n",
      "100%|██████████| 1000/1000 [00:18<00:00, 53.15it/s]\n",
      "100%|██████████| 1000/1000 [00:16<00:00, 61.60it/s]\n",
      "100%|██████████| 1000/1000 [00:13<00:00, 74.22it/s]\n",
      "100%|██████████| 1000/1000 [00:12<00:00, 81.49it/s]\n",
      "100%|██████████| 1000/1000 [00:11<00:00, 87.39it/s]\n",
      "100%|██████████| 1000/1000 [00:11<00:00, 87.77it/s]\n",
      "100%|██████████| 1000/1000 [00:52<00:00, 19.17it/s]\n",
      "100%|██████████| 1000/1000 [00:27<00:00, 36.05it/s]\n",
      "100%|██████████| 1000/1000 [00:19<00:00, 51.03it/s]\n",
      "100%|██████████| 1000/1000 [00:16<00:00, 59.30it/s]\n",
      "100%|██████████| 1000/1000 [00:20<00:00, 48.89it/s]\n",
      "100%|██████████| 1000/1000 [00:10<00:00, 96.86it/s]\n",
      "100%|██████████| 1000/1000 [00:07<00:00, 140.84it/s]\n",
      "100%|██████████| 1000/1000 [00:08<00:00, 119.30it/s]\n",
      "100%|██████████| 1000/1000 [00:09<00:00, 110.71it/s]\n",
      "100%|██████████| 1000/1000 [01:08<00:00, 14.51it/s]\n",
      "100%|██████████| 1000/1000 [00:59<00:00, 16.77it/s]\n",
      "100%|██████████| 1000/1000 [00:30<00:00, 33.19it/s]\n",
      "100%|██████████| 1000/1000 [00:47<00:00, 21.18it/s]\n",
      "100%|██████████| 1000/1000 [00:38<00:00, 25.84it/s]\n",
      "100%|██████████| 1000/1000 [00:32<00:00, 30.75it/s]\n",
      "100%|██████████| 1000/1000 [00:19<00:00, 51.10it/s]\n",
      "100%|██████████| 1000/1000 [00:13<00:00, 74.53it/s]\n",
      "100%|██████████| 1000/1000 [00:11<00:00, 88.50it/s]\n"
     ]
    }
   ],
   "source": [
    "n_iterations = 1000\n",
    "t_min = 0\n",
    "t_max = 10\n",
    "scen = dict()\n",
    "\n",
    "comp= Component().set_demo()\n",
    "\n",
    "df_mean = expected_inspection_interval(0, 10, 1000)\n",
    "\n",
    "comp= Component().set_demo()\n",
    "\n",
    "for fm in comp.fm.values():\n",
    "    fm.cof.risk_cost_total = 12000\n",
    "\n",
    "df_low_c = expected_inspection_interval(0, 10, 1000)\n",
    "\n",
    "comp= Component().set_demo()\n",
    "\n",
    "for fm in comp.fm.values():\n",
    "    fm.cof.risk_cost_total = 120000\n",
    "\n",
    "df_high_c = expected_inspection_interval(0, 10, 1000)\n",
    "\n",
    "comp= Component().set_demo()\n",
    "\n",
    "for fm in comp.fm.values():\n",
    "    fm.untreated.alpha = fm.untreated.alpha * 2\n",
    "    fm.calc_init_dist()\n",
    "\n",
    "df_low_pof = expected_inspection_interval(0, 10, 1000)\n",
    "\n",
    "comp= Component().set_demo()\n",
    "\n",
    "for fm in comp.fm.values():\n",
    "    fm.untreated.alpha = fm.untreated.alpha / 2\n",
    "    fm.calc_init_dist()\n",
    "\n",
    "df_high_pof = expected_inspection_interval(0, 10, 1000)"
   ]
  },
  {
   "cell_type": "code",
   "execution_count": 8,
   "metadata": {},
   "outputs": [
    {
     "data": {
      "application/vnd.plotly.v1+json": {
       "config": {
        "plotlyServerURL": "https://plot.ly"
       },
       "data": [
        {
         "hovertemplate": "source=immediate_replacement<br>inspection_interval=%{x}<br>cost=%{y}<extra></extra>",
         "legendgroup": "immediate_replacement",
         "line": {
          "color": "#636efa",
          "dash": "solid"
         },
         "mode": "lines",
         "name": "immediate_replacement",
         "orientation": "v",
         "showlegend": true,
         "type": "scatter",
         "x": [
          1,
          2,
          3,
          4,
          5,
          6,
          7,
          8,
          9
         ],
         "xaxis": "x",
         "y": [
          475,
          550,
          585,
          595,
          695,
          940,
          1045,
          1255,
          1615
         ],
         "yaxis": "y"
        },
        {
         "hovertemplate": "source=inspection<br>inspection_interval=%{x}<br>cost=%{y}<extra></extra>",
         "legendgroup": "inspection",
         "line": {
          "color": "#EF553B",
          "dash": "solid"
         },
         "mode": "lines",
         "name": "inspection",
         "orientation": "v",
         "showlegend": true,
         "type": "scatter",
         "x": [
          1,
          2,
          3,
          4,
          5,
          6,
          7,
          8,
          9
         ],
         "xaxis": "x",
         "y": [
          14850,
          7497,
          4950,
          3750,
          2997,
          2400,
          2100,
          1800,
          1650
         ],
         "yaxis": "y"
        },
        {
         "hovertemplate": "source=on_condition_repair<br>inspection_interval=%{x}<br>cost=%{y}<extra></extra>",
         "legendgroup": "on_condition_repair",
         "line": {
          "color": "#00cc96",
          "dash": "solid"
         },
         "mode": "lines",
         "name": "on_condition_repair",
         "orientation": "v",
         "showlegend": true,
         "type": "scatter",
         "x": [
          1,
          2,
          3,
          4,
          5,
          6,
          7,
          8,
          9
         ],
         "xaxis": "x",
         "y": [
          29,
          53,
          67,
          73,
          86,
          76,
          71,
          68,
          58
         ],
         "yaxis": "y"
        },
        {
         "hovertemplate": "source=on_condition_replacement<br>inspection_interval=%{x}<br>cost=%{y}<extra></extra>",
         "legendgroup": "on_condition_replacement",
         "line": {
          "color": "#ab63fa",
          "dash": "solid"
         },
         "mode": "lines",
         "name": "on_condition_replacement",
         "orientation": "v",
         "showlegend": true,
         "type": "scatter",
         "x": [
          1,
          2,
          3,
          4,
          5,
          6,
          7,
          8,
          9
         ],
         "xaxis": "x",
         "y": [
          0,
          0,
          0,
          0,
          0,
          0,
          0,
          0,
          0
         ],
         "yaxis": "y"
        },
        {
         "hovertemplate": "source=risk<br>inspection_interval=%{x}<br>cost=%{y}<extra></extra>",
         "legendgroup": "risk",
         "line": {
          "color": "#FFA15A",
          "dash": "solid"
         },
         "mode": "lines",
         "name": "risk",
         "orientation": "v",
         "showlegend": true,
         "type": "scatter",
         "x": [
          1,
          2,
          3,
          4,
          5,
          6,
          7,
          8,
          9
         ],
         "xaxis": "x",
         "y": [
          4700,
          5200,
          5650,
          5700,
          6800,
          9150,
          10150,
          12300,
          16150
         ],
         "yaxis": "y"
        },
        {
         "hovertemplate": "source=total_cost<br>inspection_interval=%{x}<br>cost=%{y}<extra></extra>",
         "legendgroup": "total_cost",
         "line": {
          "color": "#19d3f3",
          "dash": "solid"
         },
         "mode": "lines",
         "name": "total_cost",
         "orientation": "v",
         "showlegend": true,
         "type": "scatter",
         "x": [
          1,
          2,
          3,
          4,
          5,
          6,
          7,
          8,
          9
         ],
         "xaxis": "x",
         "y": [
          15354,
          8100,
          5602,
          4418,
          3778,
          3416,
          3216,
          3123,
          3323
         ],
         "yaxis": "y"
        },
        {
         "hovertemplate": "source=total<br>inspection_interval=%{x}<br>cost=%{y}<extra></extra>",
         "legendgroup": "total",
         "line": {
          "color": "#FF6692",
          "dash": "solid"
         },
         "mode": "lines",
         "name": "total",
         "orientation": "v",
         "showlegend": true,
         "type": "scatter",
         "x": [
          1,
          2,
          3,
          4,
          5,
          6,
          7,
          8,
          9
         ],
         "xaxis": "x",
         "y": [
          20054,
          13300,
          11252,
          10118,
          10578,
          12566,
          13366,
          15423,
          19473
         ],
         "yaxis": "y"
        }
       ],
       "layout": {
        "legend": {
         "title": {
          "text": "source"
         },
         "tracegroupgap": 0
        },
        "template": {
         "data": {
          "bar": [
           {
            "error_x": {
             "color": "#2a3f5f"
            },
            "error_y": {
             "color": "#2a3f5f"
            },
            "marker": {
             "line": {
              "color": "#E5ECF6",
              "width": 0.5
             }
            },
            "type": "bar"
           }
          ],
          "barpolar": [
           {
            "marker": {
             "line": {
              "color": "#E5ECF6",
              "width": 0.5
             }
            },
            "type": "barpolar"
           }
          ],
          "carpet": [
           {
            "aaxis": {
             "endlinecolor": "#2a3f5f",
             "gridcolor": "white",
             "linecolor": "white",
             "minorgridcolor": "white",
             "startlinecolor": "#2a3f5f"
            },
            "baxis": {
             "endlinecolor": "#2a3f5f",
             "gridcolor": "white",
             "linecolor": "white",
             "minorgridcolor": "white",
             "startlinecolor": "#2a3f5f"
            },
            "type": "carpet"
           }
          ],
          "choropleth": [
           {
            "colorbar": {
             "outlinewidth": 0,
             "ticks": ""
            },
            "type": "choropleth"
           }
          ],
          "contour": [
           {
            "colorbar": {
             "outlinewidth": 0,
             "ticks": ""
            },
            "colorscale": [
             [
              0,
              "#0d0887"
             ],
             [
              0.1111111111111111,
              "#46039f"
             ],
             [
              0.2222222222222222,
              "#7201a8"
             ],
             [
              0.3333333333333333,
              "#9c179e"
             ],
             [
              0.4444444444444444,
              "#bd3786"
             ],
             [
              0.5555555555555556,
              "#d8576b"
             ],
             [
              0.6666666666666666,
              "#ed7953"
             ],
             [
              0.7777777777777778,
              "#fb9f3a"
             ],
             [
              0.8888888888888888,
              "#fdca26"
             ],
             [
              1,
              "#f0f921"
             ]
            ],
            "type": "contour"
           }
          ],
          "contourcarpet": [
           {
            "colorbar": {
             "outlinewidth": 0,
             "ticks": ""
            },
            "type": "contourcarpet"
           }
          ],
          "heatmap": [
           {
            "colorbar": {
             "outlinewidth": 0,
             "ticks": ""
            },
            "colorscale": [
             [
              0,
              "#0d0887"
             ],
             [
              0.1111111111111111,
              "#46039f"
             ],
             [
              0.2222222222222222,
              "#7201a8"
             ],
             [
              0.3333333333333333,
              "#9c179e"
             ],
             [
              0.4444444444444444,
              "#bd3786"
             ],
             [
              0.5555555555555556,
              "#d8576b"
             ],
             [
              0.6666666666666666,
              "#ed7953"
             ],
             [
              0.7777777777777778,
              "#fb9f3a"
             ],
             [
              0.8888888888888888,
              "#fdca26"
             ],
             [
              1,
              "#f0f921"
             ]
            ],
            "type": "heatmap"
           }
          ],
          "heatmapgl": [
           {
            "colorbar": {
             "outlinewidth": 0,
             "ticks": ""
            },
            "colorscale": [
             [
              0,
              "#0d0887"
             ],
             [
              0.1111111111111111,
              "#46039f"
             ],
             [
              0.2222222222222222,
              "#7201a8"
             ],
             [
              0.3333333333333333,
              "#9c179e"
             ],
             [
              0.4444444444444444,
              "#bd3786"
             ],
             [
              0.5555555555555556,
              "#d8576b"
             ],
             [
              0.6666666666666666,
              "#ed7953"
             ],
             [
              0.7777777777777778,
              "#fb9f3a"
             ],
             [
              0.8888888888888888,
              "#fdca26"
             ],
             [
              1,
              "#f0f921"
             ]
            ],
            "type": "heatmapgl"
           }
          ],
          "histogram": [
           {
            "marker": {
             "colorbar": {
              "outlinewidth": 0,
              "ticks": ""
             }
            },
            "type": "histogram"
           }
          ],
          "histogram2d": [
           {
            "colorbar": {
             "outlinewidth": 0,
             "ticks": ""
            },
            "colorscale": [
             [
              0,
              "#0d0887"
             ],
             [
              0.1111111111111111,
              "#46039f"
             ],
             [
              0.2222222222222222,
              "#7201a8"
             ],
             [
              0.3333333333333333,
              "#9c179e"
             ],
             [
              0.4444444444444444,
              "#bd3786"
             ],
             [
              0.5555555555555556,
              "#d8576b"
             ],
             [
              0.6666666666666666,
              "#ed7953"
             ],
             [
              0.7777777777777778,
              "#fb9f3a"
             ],
             [
              0.8888888888888888,
              "#fdca26"
             ],
             [
              1,
              "#f0f921"
             ]
            ],
            "type": "histogram2d"
           }
          ],
          "histogram2dcontour": [
           {
            "colorbar": {
             "outlinewidth": 0,
             "ticks": ""
            },
            "colorscale": [
             [
              0,
              "#0d0887"
             ],
             [
              0.1111111111111111,
              "#46039f"
             ],
             [
              0.2222222222222222,
              "#7201a8"
             ],
             [
              0.3333333333333333,
              "#9c179e"
             ],
             [
              0.4444444444444444,
              "#bd3786"
             ],
             [
              0.5555555555555556,
              "#d8576b"
             ],
             [
              0.6666666666666666,
              "#ed7953"
             ],
             [
              0.7777777777777778,
              "#fb9f3a"
             ],
             [
              0.8888888888888888,
              "#fdca26"
             ],
             [
              1,
              "#f0f921"
             ]
            ],
            "type": "histogram2dcontour"
           }
          ],
          "mesh3d": [
           {
            "colorbar": {
             "outlinewidth": 0,
             "ticks": ""
            },
            "type": "mesh3d"
           }
          ],
          "parcoords": [
           {
            "line": {
             "colorbar": {
              "outlinewidth": 0,
              "ticks": ""
             }
            },
            "type": "parcoords"
           }
          ],
          "pie": [
           {
            "automargin": true,
            "type": "pie"
           }
          ],
          "scatter": [
           {
            "marker": {
             "colorbar": {
              "outlinewidth": 0,
              "ticks": ""
             }
            },
            "type": "scatter"
           }
          ],
          "scatter3d": [
           {
            "line": {
             "colorbar": {
              "outlinewidth": 0,
              "ticks": ""
             }
            },
            "marker": {
             "colorbar": {
              "outlinewidth": 0,
              "ticks": ""
             }
            },
            "type": "scatter3d"
           }
          ],
          "scattercarpet": [
           {
            "marker": {
             "colorbar": {
              "outlinewidth": 0,
              "ticks": ""
             }
            },
            "type": "scattercarpet"
           }
          ],
          "scattergeo": [
           {
            "marker": {
             "colorbar": {
              "outlinewidth": 0,
              "ticks": ""
             }
            },
            "type": "scattergeo"
           }
          ],
          "scattergl": [
           {
            "marker": {
             "colorbar": {
              "outlinewidth": 0,
              "ticks": ""
             }
            },
            "type": "scattergl"
           }
          ],
          "scattermapbox": [
           {
            "marker": {
             "colorbar": {
              "outlinewidth": 0,
              "ticks": ""
             }
            },
            "type": "scattermapbox"
           }
          ],
          "scatterpolar": [
           {
            "marker": {
             "colorbar": {
              "outlinewidth": 0,
              "ticks": ""
             }
            },
            "type": "scatterpolar"
           }
          ],
          "scatterpolargl": [
           {
            "marker": {
             "colorbar": {
              "outlinewidth": 0,
              "ticks": ""
             }
            },
            "type": "scatterpolargl"
           }
          ],
          "scatterternary": [
           {
            "marker": {
             "colorbar": {
              "outlinewidth": 0,
              "ticks": ""
             }
            },
            "type": "scatterternary"
           }
          ],
          "surface": [
           {
            "colorbar": {
             "outlinewidth": 0,
             "ticks": ""
            },
            "colorscale": [
             [
              0,
              "#0d0887"
             ],
             [
              0.1111111111111111,
              "#46039f"
             ],
             [
              0.2222222222222222,
              "#7201a8"
             ],
             [
              0.3333333333333333,
              "#9c179e"
             ],
             [
              0.4444444444444444,
              "#bd3786"
             ],
             [
              0.5555555555555556,
              "#d8576b"
             ],
             [
              0.6666666666666666,
              "#ed7953"
             ],
             [
              0.7777777777777778,
              "#fb9f3a"
             ],
             [
              0.8888888888888888,
              "#fdca26"
             ],
             [
              1,
              "#f0f921"
             ]
            ],
            "type": "surface"
           }
          ],
          "table": [
           {
            "cells": {
             "fill": {
              "color": "#EBF0F8"
             },
             "line": {
              "color": "white"
             }
            },
            "header": {
             "fill": {
              "color": "#C8D4E3"
             },
             "line": {
              "color": "white"
             }
            },
            "type": "table"
           }
          ]
         },
         "layout": {
          "annotationdefaults": {
           "arrowcolor": "#2a3f5f",
           "arrowhead": 0,
           "arrowwidth": 1
          },
          "coloraxis": {
           "colorbar": {
            "outlinewidth": 0,
            "ticks": ""
           }
          },
          "colorscale": {
           "diverging": [
            [
             0,
             "#8e0152"
            ],
            [
             0.1,
             "#c51b7d"
            ],
            [
             0.2,
             "#de77ae"
            ],
            [
             0.3,
             "#f1b6da"
            ],
            [
             0.4,
             "#fde0ef"
            ],
            [
             0.5,
             "#f7f7f7"
            ],
            [
             0.6,
             "#e6f5d0"
            ],
            [
             0.7,
             "#b8e186"
            ],
            [
             0.8,
             "#7fbc41"
            ],
            [
             0.9,
             "#4d9221"
            ],
            [
             1,
             "#276419"
            ]
           ],
           "sequential": [
            [
             0,
             "#0d0887"
            ],
            [
             0.1111111111111111,
             "#46039f"
            ],
            [
             0.2222222222222222,
             "#7201a8"
            ],
            [
             0.3333333333333333,
             "#9c179e"
            ],
            [
             0.4444444444444444,
             "#bd3786"
            ],
            [
             0.5555555555555556,
             "#d8576b"
            ],
            [
             0.6666666666666666,
             "#ed7953"
            ],
            [
             0.7777777777777778,
             "#fb9f3a"
            ],
            [
             0.8888888888888888,
             "#fdca26"
            ],
            [
             1,
             "#f0f921"
            ]
           ],
           "sequentialminus": [
            [
             0,
             "#0d0887"
            ],
            [
             0.1111111111111111,
             "#46039f"
            ],
            [
             0.2222222222222222,
             "#7201a8"
            ],
            [
             0.3333333333333333,
             "#9c179e"
            ],
            [
             0.4444444444444444,
             "#bd3786"
            ],
            [
             0.5555555555555556,
             "#d8576b"
            ],
            [
             0.6666666666666666,
             "#ed7953"
            ],
            [
             0.7777777777777778,
             "#fb9f3a"
            ],
            [
             0.8888888888888888,
             "#fdca26"
            ],
            [
             1,
             "#f0f921"
            ]
           ]
          },
          "colorway": [
           "#636efa",
           "#EF553B",
           "#00cc96",
           "#ab63fa",
           "#FFA15A",
           "#19d3f3",
           "#FF6692",
           "#B6E880",
           "#FF97FF",
           "#FECB52"
          ],
          "font": {
           "color": "#2a3f5f"
          },
          "geo": {
           "bgcolor": "white",
           "lakecolor": "white",
           "landcolor": "#E5ECF6",
           "showlakes": true,
           "showland": true,
           "subunitcolor": "white"
          },
          "hoverlabel": {
           "align": "left"
          },
          "hovermode": "closest",
          "mapbox": {
           "style": "light"
          },
          "paper_bgcolor": "white",
          "plot_bgcolor": "#E5ECF6",
          "polar": {
           "angularaxis": {
            "gridcolor": "white",
            "linecolor": "white",
            "ticks": ""
           },
           "bgcolor": "#E5ECF6",
           "radialaxis": {
            "gridcolor": "white",
            "linecolor": "white",
            "ticks": ""
           }
          },
          "scene": {
           "xaxis": {
            "backgroundcolor": "#E5ECF6",
            "gridcolor": "white",
            "gridwidth": 2,
            "linecolor": "white",
            "showbackground": true,
            "ticks": "",
            "zerolinecolor": "white"
           },
           "yaxis": {
            "backgroundcolor": "#E5ECF6",
            "gridcolor": "white",
            "gridwidth": 2,
            "linecolor": "white",
            "showbackground": true,
            "ticks": "",
            "zerolinecolor": "white"
           },
           "zaxis": {
            "backgroundcolor": "#E5ECF6",
            "gridcolor": "white",
            "gridwidth": 2,
            "linecolor": "white",
            "showbackground": true,
            "ticks": "",
            "zerolinecolor": "white"
           }
          },
          "shapedefaults": {
           "line": {
            "color": "#2a3f5f"
           }
          },
          "ternary": {
           "aaxis": {
            "gridcolor": "white",
            "linecolor": "white",
            "ticks": ""
           },
           "baxis": {
            "gridcolor": "white",
            "linecolor": "white",
            "ticks": ""
           },
           "bgcolor": "#E5ECF6",
           "caxis": {
            "gridcolor": "white",
            "linecolor": "white",
            "ticks": ""
           }
          },
          "title": {
           "x": 0.05
          },
          "xaxis": {
           "automargin": true,
           "gridcolor": "white",
           "linecolor": "white",
           "ticks": "",
           "title": {
            "standoff": 15
           },
           "zerolinecolor": "white",
           "zerolinewidth": 2
          },
          "yaxis": {
           "automargin": true,
           "gridcolor": "white",
           "linecolor": "white",
           "ticks": "",
           "title": {
            "standoff": 15
           },
           "zerolinecolor": "white",
           "zerolinewidth": 2
          }
         }
        },
        "title": {
         "text": "Risk v Cost at different Inspection Intervals"
        },
        "xaxis": {
         "anchor": "y",
         "domain": [
          0,
          1
         ],
         "title": {
          "text": "inspection_interval"
         }
        },
        "yaxis": {
         "anchor": "x",
         "domain": [
          0,
          1
         ],
         "title": {
          "text": "cost"
         }
        }
       }
      }
     },
     "metadata": {},
     "output_type": "display_data"
    }
   ],
   "source": [
    "    df_plot = df_low_pof.melt(id_vars='inspection_interval', var_name = 'source', value_name='cost')\n",
    "    fig = px.line(df_plot, x=\"inspection_interval\", y=\"cost\", color='source', title='Risk v Cost at different Inspection Intervals')\n",
    "    fig.show()"
   ]
  },
  {
   "cell_type": "code",
   "execution_count": 128,
   "metadata": {},
   "outputs": [
    {
     "data": {
      "application/vnd.plotly.v1+json": {
       "config": {
        "plotlyServerURL": "https://plot.ly"
       },
       "data": [
        {
         "hovertemplate": "scenario=mean<br>inspection_interval=%{x}<br>value_lost=%{y}<extra></extra>",
         "legendgroup": "mean",
         "line": {
          "color": "rgb(229, 134, 6)",
          "dash": "solid"
         },
         "mode": "lines",
         "name": "mean",
         "orientation": "v",
         "showlegend": true,
         "type": "scatter",
         "x": [
          1,
          2,
          3,
          4,
          5,
          6,
          7,
          8,
          9
         ],
         "xaxis": "x",
         "y": [
          95.72,
          24.11,
          0,
          32.73,
          105.93,
          211.55,
          298.47,
          300.5,
          375.08
         ],
         "yaxis": "y"
        },
        {
         "hovertemplate": "scenario=high_c<br>inspection_interval=%{x}<br>value_lost=%{y}<extra></extra>",
         "legendgroup": "high_c",
         "line": {
          "color": "rgb(93, 105, 177)",
          "dash": "solid"
         },
         "mode": "lines",
         "name": "high_c",
         "orientation": "v",
         "showlegend": true,
         "type": "scatter",
         "x": [
          1,
          2,
          3,
          4,
          5,
          6,
          7,
          8,
          9
         ],
         "xaxis": "x",
         "y": [
          71.35,
          0,
          10.59,
          79.56,
          265.9,
          576.26,
          656.53,
          754.87,
          869.31
         ],
         "yaxis": "y"
        },
        {
         "hovertemplate": "scenario=low_c<br>inspection_interval=%{x}<br>value_lost=%{y}<extra></extra>",
         "legendgroup": "low_c",
         "line": {
          "color": "rgb(82, 188, 163)",
          "dash": "solid"
         },
         "mode": "lines",
         "name": "low_c",
         "orientation": "v",
         "showlegend": true,
         "type": "scatter",
         "x": [
          1,
          2,
          3,
          4,
          5,
          6,
          7,
          8,
          9
         ],
         "xaxis": "x",
         "y": [
          97.75,
          23.11,
          1.85,
          0,
          21.01,
          52.04,
          65.28,
          65.72,
          86.88
         ],
         "yaxis": "y"
        },
        {
         "hovertemplate": "scenario=low_pof<br>inspection_interval=%{x}<br>value_lost=%{y}<extra></extra>",
         "legendgroup": "low_pof",
         "line": {
          "color": "rgb(153, 201, 69)",
          "dash": "solid"
         },
         "mode": "lines",
         "name": "low_pof",
         "orientation": "v",
         "showlegend": true,
         "type": "scatter",
         "x": [
          1,
          2,
          3,
          4,
          5,
          6,
          7,
          8,
          9
         ],
         "xaxis": "x",
         "y": [
          99.36,
          31.82,
          11.34,
          0,
          4.6,
          24.48,
          32.48,
          53.05,
          93.55
         ],
         "yaxis": "y"
        },
        {
         "hovertemplate": "scenario=high_pof<br>inspection_interval=%{x}<br>value_lost=%{y}<extra></extra>",
         "legendgroup": "high_pof",
         "line": {
          "color": "rgb(204, 97, 176)",
          "dash": "solid"
         },
         "mode": "lines",
         "name": "high_pof",
         "orientation": "v",
         "showlegend": true,
         "type": "scatter",
         "x": [
          1,
          2,
          3,
          4,
          5,
          6,
          7,
          8,
          9
         ],
         "xaxis": "x",
         "y": [
          11.64,
          0,
          200.52,
          341.89,
          476.75,
          626.99,
          666.26,
          688.87,
          739.35
         ],
         "yaxis": "y"
        }
       ],
       "layout": {
        "legend": {
         "title": {
          "text": "scenario"
         },
         "tracegroupgap": 0
        },
        "template": {
         "data": {
          "bar": [
           {
            "error_x": {
             "color": "#2a3f5f"
            },
            "error_y": {
             "color": "#2a3f5f"
            },
            "marker": {
             "line": {
              "color": "#E5ECF6",
              "width": 0.5
             }
            },
            "type": "bar"
           }
          ],
          "barpolar": [
           {
            "marker": {
             "line": {
              "color": "#E5ECF6",
              "width": 0.5
             }
            },
            "type": "barpolar"
           }
          ],
          "carpet": [
           {
            "aaxis": {
             "endlinecolor": "#2a3f5f",
             "gridcolor": "white",
             "linecolor": "white",
             "minorgridcolor": "white",
             "startlinecolor": "#2a3f5f"
            },
            "baxis": {
             "endlinecolor": "#2a3f5f",
             "gridcolor": "white",
             "linecolor": "white",
             "minorgridcolor": "white",
             "startlinecolor": "#2a3f5f"
            },
            "type": "carpet"
           }
          ],
          "choropleth": [
           {
            "colorbar": {
             "outlinewidth": 0,
             "ticks": ""
            },
            "type": "choropleth"
           }
          ],
          "contour": [
           {
            "colorbar": {
             "outlinewidth": 0,
             "ticks": ""
            },
            "colorscale": [
             [
              0,
              "#0d0887"
             ],
             [
              0.1111111111111111,
              "#46039f"
             ],
             [
              0.2222222222222222,
              "#7201a8"
             ],
             [
              0.3333333333333333,
              "#9c179e"
             ],
             [
              0.4444444444444444,
              "#bd3786"
             ],
             [
              0.5555555555555556,
              "#d8576b"
             ],
             [
              0.6666666666666666,
              "#ed7953"
             ],
             [
              0.7777777777777778,
              "#fb9f3a"
             ],
             [
              0.8888888888888888,
              "#fdca26"
             ],
             [
              1,
              "#f0f921"
             ]
            ],
            "type": "contour"
           }
          ],
          "contourcarpet": [
           {
            "colorbar": {
             "outlinewidth": 0,
             "ticks": ""
            },
            "type": "contourcarpet"
           }
          ],
          "heatmap": [
           {
            "colorbar": {
             "outlinewidth": 0,
             "ticks": ""
            },
            "colorscale": [
             [
              0,
              "#0d0887"
             ],
             [
              0.1111111111111111,
              "#46039f"
             ],
             [
              0.2222222222222222,
              "#7201a8"
             ],
             [
              0.3333333333333333,
              "#9c179e"
             ],
             [
              0.4444444444444444,
              "#bd3786"
             ],
             [
              0.5555555555555556,
              "#d8576b"
             ],
             [
              0.6666666666666666,
              "#ed7953"
             ],
             [
              0.7777777777777778,
              "#fb9f3a"
             ],
             [
              0.8888888888888888,
              "#fdca26"
             ],
             [
              1,
              "#f0f921"
             ]
            ],
            "type": "heatmap"
           }
          ],
          "heatmapgl": [
           {
            "colorbar": {
             "outlinewidth": 0,
             "ticks": ""
            },
            "colorscale": [
             [
              0,
              "#0d0887"
             ],
             [
              0.1111111111111111,
              "#46039f"
             ],
             [
              0.2222222222222222,
              "#7201a8"
             ],
             [
              0.3333333333333333,
              "#9c179e"
             ],
             [
              0.4444444444444444,
              "#bd3786"
             ],
             [
              0.5555555555555556,
              "#d8576b"
             ],
             [
              0.6666666666666666,
              "#ed7953"
             ],
             [
              0.7777777777777778,
              "#fb9f3a"
             ],
             [
              0.8888888888888888,
              "#fdca26"
             ],
             [
              1,
              "#f0f921"
             ]
            ],
            "type": "heatmapgl"
           }
          ],
          "histogram": [
           {
            "marker": {
             "colorbar": {
              "outlinewidth": 0,
              "ticks": ""
             }
            },
            "type": "histogram"
           }
          ],
          "histogram2d": [
           {
            "colorbar": {
             "outlinewidth": 0,
             "ticks": ""
            },
            "colorscale": [
             [
              0,
              "#0d0887"
             ],
             [
              0.1111111111111111,
              "#46039f"
             ],
             [
              0.2222222222222222,
              "#7201a8"
             ],
             [
              0.3333333333333333,
              "#9c179e"
             ],
             [
              0.4444444444444444,
              "#bd3786"
             ],
             [
              0.5555555555555556,
              "#d8576b"
             ],
             [
              0.6666666666666666,
              "#ed7953"
             ],
             [
              0.7777777777777778,
              "#fb9f3a"
             ],
             [
              0.8888888888888888,
              "#fdca26"
             ],
             [
              1,
              "#f0f921"
             ]
            ],
            "type": "histogram2d"
           }
          ],
          "histogram2dcontour": [
           {
            "colorbar": {
             "outlinewidth": 0,
             "ticks": ""
            },
            "colorscale": [
             [
              0,
              "#0d0887"
             ],
             [
              0.1111111111111111,
              "#46039f"
             ],
             [
              0.2222222222222222,
              "#7201a8"
             ],
             [
              0.3333333333333333,
              "#9c179e"
             ],
             [
              0.4444444444444444,
              "#bd3786"
             ],
             [
              0.5555555555555556,
              "#d8576b"
             ],
             [
              0.6666666666666666,
              "#ed7953"
             ],
             [
              0.7777777777777778,
              "#fb9f3a"
             ],
             [
              0.8888888888888888,
              "#fdca26"
             ],
             [
              1,
              "#f0f921"
             ]
            ],
            "type": "histogram2dcontour"
           }
          ],
          "mesh3d": [
           {
            "colorbar": {
             "outlinewidth": 0,
             "ticks": ""
            },
            "type": "mesh3d"
           }
          ],
          "parcoords": [
           {
            "line": {
             "colorbar": {
              "outlinewidth": 0,
              "ticks": ""
             }
            },
            "type": "parcoords"
           }
          ],
          "pie": [
           {
            "automargin": true,
            "type": "pie"
           }
          ],
          "scatter": [
           {
            "marker": {
             "colorbar": {
              "outlinewidth": 0,
              "ticks": ""
             }
            },
            "type": "scatter"
           }
          ],
          "scatter3d": [
           {
            "line": {
             "colorbar": {
              "outlinewidth": 0,
              "ticks": ""
             }
            },
            "marker": {
             "colorbar": {
              "outlinewidth": 0,
              "ticks": ""
             }
            },
            "type": "scatter3d"
           }
          ],
          "scattercarpet": [
           {
            "marker": {
             "colorbar": {
              "outlinewidth": 0,
              "ticks": ""
             }
            },
            "type": "scattercarpet"
           }
          ],
          "scattergeo": [
           {
            "marker": {
             "colorbar": {
              "outlinewidth": 0,
              "ticks": ""
             }
            },
            "type": "scattergeo"
           }
          ],
          "scattergl": [
           {
            "marker": {
             "colorbar": {
              "outlinewidth": 0,
              "ticks": ""
             }
            },
            "type": "scattergl"
           }
          ],
          "scattermapbox": [
           {
            "marker": {
             "colorbar": {
              "outlinewidth": 0,
              "ticks": ""
             }
            },
            "type": "scattermapbox"
           }
          ],
          "scatterpolar": [
           {
            "marker": {
             "colorbar": {
              "outlinewidth": 0,
              "ticks": ""
             }
            },
            "type": "scatterpolar"
           }
          ],
          "scatterpolargl": [
           {
            "marker": {
             "colorbar": {
              "outlinewidth": 0,
              "ticks": ""
             }
            },
            "type": "scatterpolargl"
           }
          ],
          "scatterternary": [
           {
            "marker": {
             "colorbar": {
              "outlinewidth": 0,
              "ticks": ""
             }
            },
            "type": "scatterternary"
           }
          ],
          "surface": [
           {
            "colorbar": {
             "outlinewidth": 0,
             "ticks": ""
            },
            "colorscale": [
             [
              0,
              "#0d0887"
             ],
             [
              0.1111111111111111,
              "#46039f"
             ],
             [
              0.2222222222222222,
              "#7201a8"
             ],
             [
              0.3333333333333333,
              "#9c179e"
             ],
             [
              0.4444444444444444,
              "#bd3786"
             ],
             [
              0.5555555555555556,
              "#d8576b"
             ],
             [
              0.6666666666666666,
              "#ed7953"
             ],
             [
              0.7777777777777778,
              "#fb9f3a"
             ],
             [
              0.8888888888888888,
              "#fdca26"
             ],
             [
              1,
              "#f0f921"
             ]
            ],
            "type": "surface"
           }
          ],
          "table": [
           {
            "cells": {
             "fill": {
              "color": "#EBF0F8"
             },
             "line": {
              "color": "white"
             }
            },
            "header": {
             "fill": {
              "color": "#C8D4E3"
             },
             "line": {
              "color": "white"
             }
            },
            "type": "table"
           }
          ]
         },
         "layout": {
          "annotationdefaults": {
           "arrowcolor": "#2a3f5f",
           "arrowhead": 0,
           "arrowwidth": 1
          },
          "coloraxis": {
           "colorbar": {
            "outlinewidth": 0,
            "ticks": ""
           }
          },
          "colorscale": {
           "diverging": [
            [
             0,
             "#8e0152"
            ],
            [
             0.1,
             "#c51b7d"
            ],
            [
             0.2,
             "#de77ae"
            ],
            [
             0.3,
             "#f1b6da"
            ],
            [
             0.4,
             "#fde0ef"
            ],
            [
             0.5,
             "#f7f7f7"
            ],
            [
             0.6,
             "#e6f5d0"
            ],
            [
             0.7,
             "#b8e186"
            ],
            [
             0.8,
             "#7fbc41"
            ],
            [
             0.9,
             "#4d9221"
            ],
            [
             1,
             "#276419"
            ]
           ],
           "sequential": [
            [
             0,
             "#0d0887"
            ],
            [
             0.1111111111111111,
             "#46039f"
            ],
            [
             0.2222222222222222,
             "#7201a8"
            ],
            [
             0.3333333333333333,
             "#9c179e"
            ],
            [
             0.4444444444444444,
             "#bd3786"
            ],
            [
             0.5555555555555556,
             "#d8576b"
            ],
            [
             0.6666666666666666,
             "#ed7953"
            ],
            [
             0.7777777777777778,
             "#fb9f3a"
            ],
            [
             0.8888888888888888,
             "#fdca26"
            ],
            [
             1,
             "#f0f921"
            ]
           ],
           "sequentialminus": [
            [
             0,
             "#0d0887"
            ],
            [
             0.1111111111111111,
             "#46039f"
            ],
            [
             0.2222222222222222,
             "#7201a8"
            ],
            [
             0.3333333333333333,
             "#9c179e"
            ],
            [
             0.4444444444444444,
             "#bd3786"
            ],
            [
             0.5555555555555556,
             "#d8576b"
            ],
            [
             0.6666666666666666,
             "#ed7953"
            ],
            [
             0.7777777777777778,
             "#fb9f3a"
            ],
            [
             0.8888888888888888,
             "#fdca26"
            ],
            [
             1,
             "#f0f921"
            ]
           ]
          },
          "colorway": [
           "#636efa",
           "#EF553B",
           "#00cc96",
           "#ab63fa",
           "#FFA15A",
           "#19d3f3",
           "#FF6692",
           "#B6E880",
           "#FF97FF",
           "#FECB52"
          ],
          "font": {
           "color": "#2a3f5f"
          },
          "geo": {
           "bgcolor": "white",
           "lakecolor": "white",
           "landcolor": "#E5ECF6",
           "showlakes": true,
           "showland": true,
           "subunitcolor": "white"
          },
          "hoverlabel": {
           "align": "left"
          },
          "hovermode": "closest",
          "mapbox": {
           "style": "light"
          },
          "paper_bgcolor": "white",
          "plot_bgcolor": "#E5ECF6",
          "polar": {
           "angularaxis": {
            "gridcolor": "white",
            "linecolor": "white",
            "ticks": ""
           },
           "bgcolor": "#E5ECF6",
           "radialaxis": {
            "gridcolor": "white",
            "linecolor": "white",
            "ticks": ""
           }
          },
          "scene": {
           "xaxis": {
            "backgroundcolor": "#E5ECF6",
            "gridcolor": "white",
            "gridwidth": 2,
            "linecolor": "white",
            "showbackground": true,
            "ticks": "",
            "zerolinecolor": "white"
           },
           "yaxis": {
            "backgroundcolor": "#E5ECF6",
            "gridcolor": "white",
            "gridwidth": 2,
            "linecolor": "white",
            "showbackground": true,
            "ticks": "",
            "zerolinecolor": "white"
           },
           "zaxis": {
            "backgroundcolor": "#E5ECF6",
            "gridcolor": "white",
            "gridwidth": 2,
            "linecolor": "white",
            "showbackground": true,
            "ticks": "",
            "zerolinecolor": "white"
           }
          },
          "shapedefaults": {
           "line": {
            "color": "#2a3f5f"
           }
          },
          "ternary": {
           "aaxis": {
            "gridcolor": "white",
            "linecolor": "white",
            "ticks": ""
           },
           "baxis": {
            "gridcolor": "white",
            "linecolor": "white",
            "ticks": ""
           },
           "bgcolor": "#E5ECF6",
           "caxis": {
            "gridcolor": "white",
            "linecolor": "white",
            "ticks": ""
           }
          },
          "title": {
           "x": 0.05
          },
          "xaxis": {
           "automargin": true,
           "gridcolor": "white",
           "linecolor": "white",
           "ticks": "",
           "title": {
            "standoff": 15
           },
           "zerolinecolor": "white",
           "zerolinewidth": 2
          },
          "yaxis": {
           "automargin": true,
           "gridcolor": "white",
           "linecolor": "white",
           "ticks": "",
           "title": {
            "standoff": 15
           },
           "zerolinecolor": "white",
           "zerolinewidth": 2
          }
         }
        },
        "title": {
         "text": "Risk v Cost at different Inspection Intervals"
        },
        "xaxis": {
         "anchor": "y",
         "domain": [
          0,
          1
         ],
         "title": {
          "text": "inspection_interval"
         }
        },
        "yaxis": {
         "anchor": "x",
         "domain": [
          0,
          1
         ],
         "title": {
          "text": "value_lost"
         }
        }
       }
      }
     },
     "metadata": {},
     "output_type": "display_data"
    }
   ],
   "source": [
    "df_all = pd.concat(dict(\n",
    "    mean = df_mean,\n",
    "    high_c = df_high_c,\n",
    "    low_c = df_low_c,\n",
    "    low_pof = df_low_pof,\n",
    "    high_pof = df_high_pof,\n",
    "), ignore_index=False).reset_index()\n",
    "\n",
    "df_all = df_all.rename(columns = {'level_0':'scenario'})\n",
    "\n",
    "df_all['value_lost'] = (df_all['total'] - df_all.groupby(by = ['scenario'])['total'].transform('min'))/100 # time considered\n",
    "\n",
    "df_plot = df_all#df_all.melt(id_vars='inspection_interval', var_name = 'source', value_name='cost')\n",
    "fig = px.line(df_plot, x=\"inspection_interval\", y=\"value_lost\", color='scenario', title='Risk v Cost at different Inspection Intervals', color_discrete_sequence=px.colors.qualitative.Vivid)\n",
    "fig.show()"
   ]
  },
  {
   "cell_type": "code",
   "execution_count": 66,
   "metadata": {},
   "outputs": [],
   "source": [
    "filename = r\"C:\\Users\\gtreseder\\OneDrive - KPMG\\Documents\\3. Client\\Essential Energy\\Probability of Failure Model\\ACS - Poles - Consequences 2.csv\"\n",
    "df_poles = pd.read_csv(filename)\n"
   ]
  },
  {
   "cell_type": "code",
   "execution_count": 190,
   "metadata": {},
   "outputs": [],
   "source": [
    "depots = ['Young Depot', 'Temora Depot', 'Yass Depot', 'Young Depot', 'Bathurst Depot']"
   ]
  },
  {
   "cell_type": "code",
   "execution_count": 191,
   "metadata": {
    "tags": []
   },
   "outputs": [
    {
     "data": {
      "text/plain": [
       "<AxesSubplot:ylabel='Depot (ZSG Area)'>"
      ]
     },
     "execution_count": 191,
     "metadata": {},
     "output_type": "execute_result"
    },
    {
     "data": {
      "image/png": "[encoded data removed]",
      "image/svg+xml": [
       "<?xml version=\"1.0\" encoding=\"utf-8\" standalone=\"no\"?>\r\n",
       "<!DOCTYPE svg PUBLIC \"-//W3C//DTD SVG 1.1//EN\"\r\n",
       "  \"http://www.w3.org/Graphics/SVG/1.1/DTD/svg11.dtd\">\r\n",
       "<!-- Created with matplotlib (https://matplotlib.org/) -->\r\n",
       "<svg height=\"248.518125pt\" version=\"1.1\" viewBox=\"0 0 446.121875 248.518125\" width=\"446.121875pt\" xmlns=\"http://www.w3.org/2000/svg\" xmlns:xlink=\"http://www.w3.org/1999/xlink\">\r\n",
       " <metadata>\r\n",
       "  <rdf:RDF xmlns:cc=\"http://creativecommons.org/ns#\" xmlns:dc=\"http://purl.org/dc/elements/1.1/\" xmlns:rdf=\"http://www.w3.org/1999/02/22-rdf-syntax-ns#\">\r\n",
       "   <cc:Work>\r\n",
       "    <dc:type rdf:resource=\"http://purl.org/dc/dcmitype/StillImage\"/>\r\n",
       "    <dc:date>2020-09-02T15:19:46.787680</dc:date>\r\n",
       "    <dc:format>image/svg+xml</dc:format>\r\n",
       "    <dc:creator>\r\n",
       "     <cc:Agent>\r\n",
       "      <dc:title>Matplotlib v3.3.0, https://matplotlib.org/</dc:title>\r\n",
       "     </cc:Agent>\r\n",
       "    </dc:creator>\r\n",
       "   </cc:Work>\r\n",
       "  </rdf:RDF>\r\n",
       " </metadata>\r\n",
       " <defs>\r\n",
       "  <style type=\"text/css\">*{stroke-linecap:butt;stroke-linejoin:round;}</style>\r\n",
       " </defs>\r\n",
       " <g id=\"figure_1\">\r\n",
       "  <g id=\"patch_1\">\r\n",
       "   <path d=\"M 0 248.518125 \r\n",
       "L 446.121875 248.518125 \r\n",
       "L 446.121875 0 \r\n",
       "L 0 0 \r\n",
       "z\r\n",
       "\" style=\"fill:none;\"/>\r\n",
       "  </g>\r\n",
       "  <g id=\"axes_1\">\r\n",
       "   <g id=\"patch_2\">\r\n",
       "    <path d=\"M 104.121875 224.64 \r\n",
       "L 438.921875 224.64 \r\n",
       "L 438.921875 7.2 \r\n",
       "L 104.121875 7.2 \r\n",
       "z\r\n",
       "\" style=\"fill:#ffffff;\"/>\r\n",
       "   </g>\r\n",
       "   <g id=\"patch_3\">\r\n",
       "    <path clip-path=\"url(#p9634bc15a3)\" d=\"M 104.121875 213.768 \r\n",
       "L 124.471275 213.768 \r\n",
       "L 124.471275 208.332 \r\n",
       "L 104.121875 208.332 \r\n",
       "z\r\n",
       "\" style=\"fill:#1f77b4;\"/>\r\n",
       "   </g>\r\n",
       "   <g id=\"patch_4\">\r\n",
       "    <path clip-path=\"url(#p9634bc15a3)\" d=\"M 104.121875 170.28 \r\n",
       "L 107.513442 170.28 \r\n",
       "L 107.513442 164.844 \r\n",
       "L 104.121875 164.844 \r\n",
       "z\r\n",
       "\" style=\"fill:#1f77b4;\"/>\r\n",
       "   </g>\r\n",
       "   <g id=\"patch_5\">\r\n",
       "    <path clip-path=\"url(#p9634bc15a3)\" d=\"M 104.121875 126.792 \r\n",
       "L 422.979018 126.792 \r\n",
       "L 422.979018 121.356 \r\n",
       "L 104.121875 121.356 \r\n",
       "z\r\n",
       "\" style=\"fill:#1f77b4;\"/>\r\n",
       "   </g>\r\n",
       "   <g id=\"patch_6\">\r\n",
       "    <path clip-path=\"url(#p9634bc15a3)\" d=\"M 104.121875 83.304 \r\n",
       "L 124.471275 83.304 \r\n",
       "L 124.471275 77.868 \r\n",
       "L 104.121875 77.868 \r\n",
       "z\r\n",
       "\" style=\"fill:#1f77b4;\"/>\r\n",
       "   </g>\r\n",
       "   <g id=\"patch_7\">\r\n",
       "    <path clip-path=\"url(#p9634bc15a3)\" d=\"M 104.121875 39.816 \r\n",
       "L 378.090635 39.816 \r\n",
       "L 378.090635 34.38 \r\n",
       "L 104.121875 34.38 \r\n",
       "z\r\n",
       "\" style=\"fill:#1f77b4;\"/>\r\n",
       "   </g>\r\n",
       "   <g id=\"patch_8\">\r\n",
       "    <path clip-path=\"url(#p9634bc15a3)\" d=\"M 104.121875 208.332 \r\n",
       "L 193.823826 208.332 \r\n",
       "L 193.823826 202.896 \r\n",
       "L 104.121875 202.896 \r\n",
       "z\r\n",
       "\" style=\"fill:#ff7f0e;\"/>\r\n",
       "   </g>\r\n",
       "   <g id=\"patch_9\">\r\n",
       "    <path clip-path=\"url(#p9634bc15a3)\" d=\"M 104.121875 164.844 \r\n",
       "L 146.99028 164.844 \r\n",
       "L 146.99028 159.408 \r\n",
       "L 104.121875 159.408 \r\n",
       "z\r\n",
       "\" style=\"fill:#ff7f0e;\"/>\r\n",
       "   </g>\r\n",
       "   <g id=\"patch_10\">\r\n",
       "    <path clip-path=\"url(#p9634bc15a3)\" d=\"M 104.121875 121.356 \r\n",
       "L 104.121875 121.356 \r\n",
       "L 104.121875 115.92 \r\n",
       "L 104.121875 115.92 \r\n",
       "z\r\n",
       "\" style=\"fill:#ff7f0e;\"/>\r\n",
       "   </g>\r\n",
       "   <g id=\"patch_11\">\r\n",
       "    <path clip-path=\"url(#p9634bc15a3)\" d=\"M 104.121875 77.868 \r\n",
       "L 193.823826 77.868 \r\n",
       "L 193.823826 72.432 \r\n",
       "L 104.121875 72.432 \r\n",
       "z\r\n",
       "\" style=\"fill:#ff7f0e;\"/>\r\n",
       "   </g>\r\n",
       "   <g id=\"patch_12\">\r\n",
       "    <path clip-path=\"url(#p9634bc15a3)\" d=\"M 104.121875 34.38 \r\n",
       "L 269.660254 34.38 \r\n",
       "L 269.660254 28.944 \r\n",
       "L 104.121875 28.944 \r\n",
       "z\r\n",
       "\" style=\"fill:#ff7f0e;\"/>\r\n",
       "   </g>\r\n",
       "   <g id=\"patch_13\">\r\n",
       "    <path clip-path=\"url(#p9634bc15a3)\" d=\"M 104.121875 202.896 \r\n",
       "L 281.755179 202.896 \r\n",
       "L 281.755179 197.46 \r\n",
       "L 104.121875 197.46 \r\n",
       "z\r\n",
       "\" style=\"fill:#2ca02c;\"/>\r\n",
       "   </g>\r\n",
       "   <g id=\"patch_14\">\r\n",
       "    <path clip-path=\"url(#p9634bc15a3)\" d=\"M 104.121875 159.408 \r\n",
       "L 266.218811 159.408 \r\n",
       "L 266.218811 153.972 \r\n",
       "L 104.121875 153.972 \r\n",
       "z\r\n",
       "\" style=\"fill:#2ca02c;\"/>\r\n",
       "   </g>\r\n",
       "   <g id=\"patch_15\">\r\n",
       "    <path clip-path=\"url(#p9634bc15a3)\" d=\"M 104.121875 115.92 \r\n",
       "L 104.121875 115.92 \r\n",
       "L 104.121875 110.484 \r\n",
       "L 104.121875 110.484 \r\n",
       "z\r\n",
       "\" style=\"fill:#2ca02c;\"/>\r\n",
       "   </g>\r\n",
       "   <g id=\"patch_16\">\r\n",
       "    <path clip-path=\"url(#p9634bc15a3)\" d=\"M 104.121875 72.432 \r\n",
       "L 281.755179 72.432 \r\n",
       "L 281.755179 66.996 \r\n",
       "L 104.121875 66.996 \r\n",
       "z\r\n",
       "\" style=\"fill:#2ca02c;\"/>\r\n",
       "   </g>\r\n",
       "   <g id=\"patch_17\">\r\n",
       "    <path clip-path=\"url(#p9634bc15a3)\" d=\"M 104.121875 28.944 \r\n",
       "L 104.121875 28.944 \r\n",
       "L 104.121875 23.508 \r\n",
       "L 104.121875 23.508 \r\n",
       "z\r\n",
       "\" style=\"fill:#2ca02c;\"/>\r\n",
       "   </g>\r\n",
       "   <g id=\"patch_18\">\r\n",
       "    <path clip-path=\"url(#p9634bc15a3)\" d=\"M 104.121875 197.46 \r\n",
       "L 142.351814 197.46 \r\n",
       "L 142.351814 192.024 \r\n",
       "L 104.121875 192.024 \r\n",
       "z\r\n",
       "\" style=\"fill:#d62728;\"/>\r\n",
       "   </g>\r\n",
       "   <g id=\"patch_19\">\r\n",
       "    <path clip-path=\"url(#p9634bc15a3)\" d=\"M 104.121875 153.972 \r\n",
       "L 153.723538 153.972 \r\n",
       "L 153.723538 148.536 \r\n",
       "L 104.121875 148.536 \r\n",
       "z\r\n",
       "\" style=\"fill:#d62728;\"/>\r\n",
       "   </g>\r\n",
       "   <g id=\"patch_20\">\r\n",
       "    <path clip-path=\"url(#p9634bc15a3)\" d=\"M 104.121875 110.484 \r\n",
       "L 135.992626 110.484 \r\n",
       "L 135.992626 105.048 \r\n",
       "L 104.121875 105.048 \r\n",
       "z\r\n",
       "\" style=\"fill:#d62728;\"/>\r\n",
       "   </g>\r\n",
       "   <g id=\"patch_21\">\r\n",
       "    <path clip-path=\"url(#p9634bc15a3)\" d=\"M 104.121875 66.996 \r\n",
       "L 142.351814 66.996 \r\n",
       "L 142.351814 61.56 \r\n",
       "L 104.121875 61.56 \r\n",
       "z\r\n",
       "\" style=\"fill:#d62728;\"/>\r\n",
       "   </g>\r\n",
       "   <g id=\"patch_22\">\r\n",
       "    <path clip-path=\"url(#p9634bc15a3)\" d=\"M 104.121875 23.508 \r\n",
       "L 113.149427 23.508 \r\n",
       "L 113.149427 18.072 \r\n",
       "L 104.121875 18.072 \r\n",
       "z\r\n",
       "\" style=\"fill:#d62728;\"/>\r\n",
       "   </g>\r\n",
       "   <g id=\"matplotlib.axis_1\">\r\n",
       "    <g id=\"xtick_1\">\r\n",
       "     <g id=\"line2d_1\">\r\n",
       "      <defs>\r\n",
       "       <path d=\"M 0 0 \r\n",
       "L 0 3.5 \r\n",
       "\" id=\"meb96b9f2c9\" style=\"stroke:#000000;stroke-width:0.8;\"/>\r\n",
       "      </defs>\r\n",
       "      <g>\r\n",
       "       <use style=\"stroke:#000000;stroke-width:0.8;\" x=\"104.121875\" xlink:href=\"#meb96b9f2c9\" y=\"224.64\"/>\r\n",
       "      </g>\r\n",
       "     </g>\r\n",
       "     <g id=\"text_1\">\r\n",
       "      <!-- 0 -->\r\n",
       "      <g transform=\"translate(100.940625 239.238437)scale(0.1 -0.1)\">\r\n",
       "       <defs>\r\n",
       "        <path d=\"M 31.78125 66.40625 \r\n",
       "Q 24.171875 66.40625 20.328125 58.90625 \r\n",
       "Q 16.5 51.421875 16.5 36.375 \r\n",
       "Q 16.5 21.390625 20.328125 13.890625 \r\n",
       "Q 24.171875 6.390625 31.78125 6.390625 \r\n",
       "Q 39.453125 6.390625 43.28125 13.890625 \r\n",
       "Q 47.125 21.390625 47.125 36.375 \r\n",
       "Q 47.125 51.421875 43.28125 58.90625 \r\n",
       "Q 39.453125 66.40625 31.78125 66.40625 \r\n",
       "z\r\n",
       "M 31.78125 74.21875 \r\n",
       "Q 44.046875 74.21875 50.515625 64.515625 \r\n",
       "Q 56.984375 54.828125 56.984375 36.375 \r\n",
       "Q 56.984375 17.96875 50.515625 8.265625 \r\n",
       "Q 44.046875 -1.421875 31.78125 -1.421875 \r\n",
       "Q 19.53125 -1.421875 13.0625 8.265625 \r\n",
       "Q 6.59375 17.96875 6.59375 36.375 \r\n",
       "Q 6.59375 54.828125 13.0625 64.515625 \r\n",
       "Q 19.53125 74.21875 31.78125 74.21875 \r\n",
       "z\r\n",
       "\" id=\"DejaVuSans-48\"/>\r\n",
       "       </defs>\r\n",
       "       <use xlink:href=\"#DejaVuSans-48\"/>\r\n",
       "      </g>\r\n",
       "     </g>\r\n",
       "    </g>\r\n",
       "    <g id=\"xtick_2\">\r\n",
       "     <g id=\"line2d_2\">\r\n",
       "      <g>\r\n",
       "       <use style=\"stroke:#000000;stroke-width:0.8;\" x=\"153.997855\" xlink:href=\"#meb96b9f2c9\" y=\"224.64\"/>\r\n",
       "      </g>\r\n",
       "     </g>\r\n",
       "     <g id=\"text_2\">\r\n",
       "      <!-- 2000 -->\r\n",
       "      <g transform=\"translate(141.272855 239.238437)scale(0.1 -0.1)\">\r\n",
       "       <defs>\r\n",
       "        <path d=\"M 19.1875 8.296875 \r\n",
       "L 53.609375 8.296875 \r\n",
       "L 53.609375 0 \r\n",
       "L 7.328125 0 \r\n",
       "L 7.328125 8.296875 \r\n",
       "Q 12.9375 14.109375 22.625 23.890625 \r\n",
       "Q 32.328125 33.6875 34.8125 36.53125 \r\n",
       "Q 39.546875 41.84375 41.421875 45.53125 \r\n",
       "Q 43.3125 49.21875 43.3125 52.78125 \r\n",
       "Q 43.3125 58.59375 39.234375 62.25 \r\n",
       "Q 35.15625 65.921875 28.609375 65.921875 \r\n",
       "Q 23.96875 65.921875 18.8125 64.3125 \r\n",
       "Q 13.671875 62.703125 7.8125 59.421875 \r\n",
       "L 7.8125 69.390625 \r\n",
       "Q 13.765625 71.78125 18.9375 73 \r\n",
       "Q 24.125 74.21875 28.421875 74.21875 \r\n",
       "Q 39.75 74.21875 46.484375 68.546875 \r\n",
       "Q 53.21875 62.890625 53.21875 53.421875 \r\n",
       "Q 53.21875 48.921875 51.53125 44.890625 \r\n",
       "Q 49.859375 40.875 45.40625 35.40625 \r\n",
       "Q 44.1875 33.984375 37.640625 27.21875 \r\n",
       "Q 31.109375 20.453125 19.1875 8.296875 \r\n",
       "z\r\n",
       "\" id=\"DejaVuSans-50\"/>\r\n",
       "       </defs>\r\n",
       "       <use xlink:href=\"#DejaVuSans-50\"/>\r\n",
       "       <use x=\"63.623047\" xlink:href=\"#DejaVuSans-48\"/>\r\n",
       "       <use x=\"127.246094\" xlink:href=\"#DejaVuSans-48\"/>\r\n",
       "       <use x=\"190.869141\" xlink:href=\"#DejaVuSans-48\"/>\r\n",
       "      </g>\r\n",
       "     </g>\r\n",
       "    </g>\r\n",
       "    <g id=\"xtick_3\">\r\n",
       "     <g id=\"line2d_3\">\r\n",
       "      <g>\r\n",
       "       <use style=\"stroke:#000000;stroke-width:0.8;\" x=\"203.873836\" xlink:href=\"#meb96b9f2c9\" y=\"224.64\"/>\r\n",
       "      </g>\r\n",
       "     </g>\r\n",
       "     <g id=\"text_3\">\r\n",
       "      <!-- 4000 -->\r\n",
       "      <g transform=\"translate(191.148836 239.238437)scale(0.1 -0.1)\">\r\n",
       "       <defs>\r\n",
       "        <path d=\"M 37.796875 64.3125 \r\n",
       "L 12.890625 25.390625 \r\n",
       "L 37.796875 25.390625 \r\n",
       "z\r\n",
       "M 35.203125 72.90625 \r\n",
       "L 47.609375 72.90625 \r\n",
       "L 47.609375 25.390625 \r\n",
       "L 58.015625 25.390625 \r\n",
       "L 58.015625 17.1875 \r\n",
       "L 47.609375 17.1875 \r\n",
       "L 47.609375 0 \r\n",
       "L 37.796875 0 \r\n",
       "L 37.796875 17.1875 \r\n",
       "L 4.890625 17.1875 \r\n",
       "L 4.890625 26.703125 \r\n",
       "z\r\n",
       "\" id=\"DejaVuSans-52\"/>\r\n",
       "       </defs>\r\n",
       "       <use xlink:href=\"#DejaVuSans-52\"/>\r\n",
       "       <use x=\"63.623047\" xlink:href=\"#DejaVuSans-48\"/>\r\n",
       "       <use x=\"127.246094\" xlink:href=\"#DejaVuSans-48\"/>\r\n",
       "       <use x=\"190.869141\" xlink:href=\"#DejaVuSans-48\"/>\r\n",
       "      </g>\r\n",
       "     </g>\r\n",
       "    </g>\r\n",
       "    <g id=\"xtick_4\">\r\n",
       "     <g id=\"line2d_4\">\r\n",
       "      <g>\r\n",
       "       <use style=\"stroke:#000000;stroke-width:0.8;\" x=\"253.749816\" xlink:href=\"#meb96b9f2c9\" y=\"224.64\"/>\r\n",
       "      </g>\r\n",
       "     </g>\r\n",
       "     <g id=\"text_4\">\r\n",
       "      <!-- 6000 -->\r\n",
       "      <g transform=\"translate(241.024816 239.238437)scale(0.1 -0.1)\">\r\n",
       "       <defs>\r\n",
       "        <path d=\"M 33.015625 40.375 \r\n",
       "Q 26.375 40.375 22.484375 35.828125 \r\n",
       "Q 18.609375 31.296875 18.609375 23.390625 \r\n",
       "Q 18.609375 15.53125 22.484375 10.953125 \r\n",
       "Q 26.375 6.390625 33.015625 6.390625 \r\n",
       "Q 39.65625 6.390625 43.53125 10.953125 \r\n",
       "Q 47.40625 15.53125 47.40625 23.390625 \r\n",
       "Q 47.40625 31.296875 43.53125 35.828125 \r\n",
       "Q 39.65625 40.375 33.015625 40.375 \r\n",
       "z\r\n",
       "M 52.59375 71.296875 \r\n",
       "L 52.59375 62.3125 \r\n",
       "Q 48.875 64.0625 45.09375 64.984375 \r\n",
       "Q 41.3125 65.921875 37.59375 65.921875 \r\n",
       "Q 27.828125 65.921875 22.671875 59.328125 \r\n",
       "Q 17.53125 52.734375 16.796875 39.40625 \r\n",
       "Q 19.671875 43.65625 24.015625 45.921875 \r\n",
       "Q 28.375 48.1875 33.59375 48.1875 \r\n",
       "Q 44.578125 48.1875 50.953125 41.515625 \r\n",
       "Q 57.328125 34.859375 57.328125 23.390625 \r\n",
       "Q 57.328125 12.15625 50.6875 5.359375 \r\n",
       "Q 44.046875 -1.421875 33.015625 -1.421875 \r\n",
       "Q 20.359375 -1.421875 13.671875 8.265625 \r\n",
       "Q 6.984375 17.96875 6.984375 36.375 \r\n",
       "Q 6.984375 53.65625 15.1875 63.9375 \r\n",
       "Q 23.390625 74.21875 37.203125 74.21875 \r\n",
       "Q 40.921875 74.21875 44.703125 73.484375 \r\n",
       "Q 48.484375 72.75 52.59375 71.296875 \r\n",
       "z\r\n",
       "\" id=\"DejaVuSans-54\"/>\r\n",
       "       </defs>\r\n",
       "       <use xlink:href=\"#DejaVuSans-54\"/>\r\n",
       "       <use x=\"63.623047\" xlink:href=\"#DejaVuSans-48\"/>\r\n",
       "       <use x=\"127.246094\" xlink:href=\"#DejaVuSans-48\"/>\r\n",
       "       <use x=\"190.869141\" xlink:href=\"#DejaVuSans-48\"/>\r\n",
       "      </g>\r\n",
       "     </g>\r\n",
       "    </g>\r\n",
       "    <g id=\"xtick_5\">\r\n",
       "     <g id=\"line2d_5\">\r\n",
       "      <g>\r\n",
       "       <use style=\"stroke:#000000;stroke-width:0.8;\" x=\"303.625797\" xlink:href=\"#meb96b9f2c9\" y=\"224.64\"/>\r\n",
       "      </g>\r\n",
       "     </g>\r\n",
       "     <g id=\"text_5\">\r\n",
       "      <!-- 8000 -->\r\n",
       "      <g transform=\"translate(290.900797 239.238437)scale(0.1 -0.1)\">\r\n",
       "       <defs>\r\n",
       "        <path d=\"M 31.78125 34.625 \r\n",
       "Q 24.75 34.625 20.71875 30.859375 \r\n",
       "Q 16.703125 27.09375 16.703125 20.515625 \r\n",
       "Q 16.703125 13.921875 20.71875 10.15625 \r\n",
       "Q 24.75 6.390625 31.78125 6.390625 \r\n",
       "Q 38.8125 6.390625 42.859375 10.171875 \r\n",
       "Q 46.921875 13.96875 46.921875 20.515625 \r\n",
       "Q 46.921875 27.09375 42.890625 30.859375 \r\n",
       "Q 38.875 34.625 31.78125 34.625 \r\n",
       "z\r\n",
       "M 21.921875 38.8125 \r\n",
       "Q 15.578125 40.375 12.03125 44.71875 \r\n",
       "Q 8.5 49.078125 8.5 55.328125 \r\n",
       "Q 8.5 64.0625 14.71875 69.140625 \r\n",
       "Q 20.953125 74.21875 31.78125 74.21875 \r\n",
       "Q 42.671875 74.21875 48.875 69.140625 \r\n",
       "Q 55.078125 64.0625 55.078125 55.328125 \r\n",
       "Q 55.078125 49.078125 51.53125 44.71875 \r\n",
       "Q 48 40.375 41.703125 38.8125 \r\n",
       "Q 48.828125 37.15625 52.796875 32.3125 \r\n",
       "Q 56.78125 27.484375 56.78125 20.515625 \r\n",
       "Q 56.78125 9.90625 50.3125 4.234375 \r\n",
       "Q 43.84375 -1.421875 31.78125 -1.421875 \r\n",
       "Q 19.734375 -1.421875 13.25 4.234375 \r\n",
       "Q 6.78125 9.90625 6.78125 20.515625 \r\n",
       "Q 6.78125 27.484375 10.78125 32.3125 \r\n",
       "Q 14.796875 37.15625 21.921875 38.8125 \r\n",
       "z\r\n",
       "M 18.3125 54.390625 \r\n",
       "Q 18.3125 48.734375 21.84375 45.5625 \r\n",
       "Q 25.390625 42.390625 31.78125 42.390625 \r\n",
       "Q 38.140625 42.390625 41.71875 45.5625 \r\n",
       "Q 45.3125 48.734375 45.3125 54.390625 \r\n",
       "Q 45.3125 60.0625 41.71875 63.234375 \r\n",
       "Q 38.140625 66.40625 31.78125 66.40625 \r\n",
       "Q 25.390625 66.40625 21.84375 63.234375 \r\n",
       "Q 18.3125 60.0625 18.3125 54.390625 \r\n",
       "z\r\n",
       "\" id=\"DejaVuSans-56\"/>\r\n",
       "       </defs>\r\n",
       "       <use xlink:href=\"#DejaVuSans-56\"/>\r\n",
       "       <use x=\"63.623047\" xlink:href=\"#DejaVuSans-48\"/>\r\n",
       "       <use x=\"127.246094\" xlink:href=\"#DejaVuSans-48\"/>\r\n",
       "       <use x=\"190.869141\" xlink:href=\"#DejaVuSans-48\"/>\r\n",
       "      </g>\r\n",
       "     </g>\r\n",
       "    </g>\r\n",
       "    <g id=\"xtick_6\">\r\n",
       "     <g id=\"line2d_6\">\r\n",
       "      <g>\r\n",
       "       <use style=\"stroke:#000000;stroke-width:0.8;\" x=\"353.501777\" xlink:href=\"#meb96b9f2c9\" y=\"224.64\"/>\r\n",
       "      </g>\r\n",
       "     </g>\r\n",
       "     <g id=\"text_6\">\r\n",
       "      <!-- 10000 -->\r\n",
       "      <g transform=\"translate(337.595527 239.238437)scale(0.1 -0.1)\">\r\n",
       "       <defs>\r\n",
       "        <path d=\"M 12.40625 8.296875 \r\n",
       "L 28.515625 8.296875 \r\n",
       "L 28.515625 63.921875 \r\n",
       "L 10.984375 60.40625 \r\n",
       "L 10.984375 69.390625 \r\n",
       "L 28.421875 72.90625 \r\n",
       "L 38.28125 72.90625 \r\n",
       "L 38.28125 8.296875 \r\n",
       "L 54.390625 8.296875 \r\n",
       "L 54.390625 0 \r\n",
       "L 12.40625 0 \r\n",
       "z\r\n",
       "\" id=\"DejaVuSans-49\"/>\r\n",
       "       </defs>\r\n",
       "       <use xlink:href=\"#DejaVuSans-49\"/>\r\n",
       "       <use x=\"63.623047\" xlink:href=\"#DejaVuSans-48\"/>\r\n",
       "       <use x=\"127.246094\" xlink:href=\"#DejaVuSans-48\"/>\r\n",
       "       <use x=\"190.869141\" xlink:href=\"#DejaVuSans-48\"/>\r\n",
       "       <use x=\"254.492188\" xlink:href=\"#DejaVuSans-48\"/>\r\n",
       "      </g>\r\n",
       "     </g>\r\n",
       "    </g>\r\n",
       "    <g id=\"xtick_7\">\r\n",
       "     <g id=\"line2d_7\">\r\n",
       "      <g>\r\n",
       "       <use style=\"stroke:#000000;stroke-width:0.8;\" x=\"403.377758\" xlink:href=\"#meb96b9f2c9\" y=\"224.64\"/>\r\n",
       "      </g>\r\n",
       "     </g>\r\n",
       "     <g id=\"text_7\">\r\n",
       "      <!-- 12000 -->\r\n",
       "      <g transform=\"translate(387.471508 239.238437)scale(0.1 -0.1)\">\r\n",
       "       <use xlink:href=\"#DejaVuSans-49\"/>\r\n",
       "       <use x=\"63.623047\" xlink:href=\"#DejaVuSans-50\"/>\r\n",
       "       <use x=\"127.246094\" xlink:href=\"#DejaVuSans-48\"/>\r\n",
       "       <use x=\"190.869141\" xlink:href=\"#DejaVuSans-48\"/>\r\n",
       "       <use x=\"254.492188\" xlink:href=\"#DejaVuSans-48\"/>\r\n",
       "      </g>\r\n",
       "     </g>\r\n",
       "    </g>\r\n",
       "   </g>\r\n",
       "   <g id=\"matplotlib.axis_2\">\r\n",
       "    <g id=\"ytick_1\">\r\n",
       "     <g id=\"line2d_8\">\r\n",
       "      <defs>\r\n",
       "       <path d=\"M 0 0 \r\n",
       "L -3.5 0 \r\n",
       "\" id=\"mcd72b274f7\" style=\"stroke:#000000;stroke-width:0.8;\"/>\r\n",
       "      </defs>\r\n",
       "      <g>\r\n",
       "       <use style=\"stroke:#000000;stroke-width:0.8;\" x=\"104.121875\" xlink:href=\"#mcd72b274f7\" y=\"202.896\"/>\r\n",
       "      </g>\r\n",
       "     </g>\r\n",
       "     <g id=\"text_8\">\r\n",
       "      <!-- Young Depot -->\r\n",
       "      <g transform=\"translate(33.778125 206.695219)scale(0.1 -0.1)\">\r\n",
       "       <defs>\r\n",
       "        <path d=\"M -0.203125 72.90625 \r\n",
       "L 10.40625 72.90625 \r\n",
       "L 30.609375 42.921875 \r\n",
       "L 50.6875 72.90625 \r\n",
       "L 61.28125 72.90625 \r\n",
       "L 35.5 34.71875 \r\n",
       "L 35.5 0 \r\n",
       "L 25.59375 0 \r\n",
       "L 25.59375 34.71875 \r\n",
       "z\r\n",
       "\" id=\"DejaVuSans-89\"/>\r\n",
       "        <path d=\"M 30.609375 48.390625 \r\n",
       "Q 23.390625 48.390625 19.1875 42.75 \r\n",
       "Q 14.984375 37.109375 14.984375 27.296875 \r\n",
       "Q 14.984375 17.484375 19.15625 11.84375 \r\n",
       "Q 23.34375 6.203125 30.609375 6.203125 \r\n",
       "Q 37.796875 6.203125 41.984375 11.859375 \r\n",
       "Q 46.1875 17.53125 46.1875 27.296875 \r\n",
       "Q 46.1875 37.015625 41.984375 42.703125 \r\n",
       "Q 37.796875 48.390625 30.609375 48.390625 \r\n",
       "z\r\n",
       "M 30.609375 56 \r\n",
       "Q 42.328125 56 49.015625 48.375 \r\n",
       "Q 55.71875 40.765625 55.71875 27.296875 \r\n",
       "Q 55.71875 13.875 49.015625 6.21875 \r\n",
       "Q 42.328125 -1.421875 30.609375 -1.421875 \r\n",
       "Q 18.84375 -1.421875 12.171875 6.21875 \r\n",
       "Q 5.515625 13.875 5.515625 27.296875 \r\n",
       "Q 5.515625 40.765625 12.171875 48.375 \r\n",
       "Q 18.84375 56 30.609375 56 \r\n",
       "z\r\n",
       "\" id=\"DejaVuSans-111\"/>\r\n",
       "        <path d=\"M 8.5 21.578125 \r\n",
       "L 8.5 54.6875 \r\n",
       "L 17.484375 54.6875 \r\n",
       "L 17.484375 21.921875 \r\n",
       "Q 17.484375 14.15625 20.5 10.265625 \r\n",
       "Q 23.53125 6.390625 29.59375 6.390625 \r\n",
       "Q 36.859375 6.390625 41.078125 11.03125 \r\n",
       "Q 45.3125 15.671875 45.3125 23.6875 \r\n",
       "L 45.3125 54.6875 \r\n",
       "L 54.296875 54.6875 \r\n",
       "L 54.296875 0 \r\n",
       "L 45.3125 0 \r\n",
       "L 45.3125 8.40625 \r\n",
       "Q 42.046875 3.421875 37.71875 1 \r\n",
       "Q 33.40625 -1.421875 27.6875 -1.421875 \r\n",
       "Q 18.265625 -1.421875 13.375 4.4375 \r\n",
       "Q 8.5 10.296875 8.5 21.578125 \r\n",
       "z\r\n",
       "M 31.109375 56 \r\n",
       "z\r\n",
       "\" id=\"DejaVuSans-117\"/>\r\n",
       "        <path d=\"M 54.890625 33.015625 \r\n",
       "L 54.890625 0 \r\n",
       "L 45.90625 0 \r\n",
       "L 45.90625 32.71875 \r\n",
       "Q 45.90625 40.484375 42.875 44.328125 \r\n",
       "Q 39.84375 48.1875 33.796875 48.1875 \r\n",
       "Q 26.515625 48.1875 22.3125 43.546875 \r\n",
       "Q 18.109375 38.921875 18.109375 30.90625 \r\n",
       "L 18.109375 0 \r\n",
       "L 9.078125 0 \r\n",
       "L 9.078125 54.6875 \r\n",
       "L 18.109375 54.6875 \r\n",
       "L 18.109375 46.1875 \r\n",
       "Q 21.34375 51.125 25.703125 53.5625 \r\n",
       "Q 30.078125 56 35.796875 56 \r\n",
       "Q 45.21875 56 50.046875 50.171875 \r\n",
       "Q 54.890625 44.34375 54.890625 33.015625 \r\n",
       "z\r\n",
       "\" id=\"DejaVuSans-110\"/>\r\n",
       "        <path d=\"M 45.40625 27.984375 \r\n",
       "Q 45.40625 37.75 41.375 43.109375 \r\n",
       "Q 37.359375 48.484375 30.078125 48.484375 \r\n",
       "Q 22.859375 48.484375 18.828125 43.109375 \r\n",
       "Q 14.796875 37.75 14.796875 27.984375 \r\n",
       "Q 14.796875 18.265625 18.828125 12.890625 \r\n",
       "Q 22.859375 7.515625 30.078125 7.515625 \r\n",
       "Q 37.359375 7.515625 41.375 12.890625 \r\n",
       "Q 45.40625 18.265625 45.40625 27.984375 \r\n",
       "z\r\n",
       "M 54.390625 6.78125 \r\n",
       "Q 54.390625 -7.171875 48.1875 -13.984375 \r\n",
       "Q 42 -20.796875 29.203125 -20.796875 \r\n",
       "Q 24.46875 -20.796875 20.265625 -20.09375 \r\n",
       "Q 16.0625 -19.390625 12.109375 -17.921875 \r\n",
       "L 12.109375 -9.1875 \r\n",
       "Q 16.0625 -11.328125 19.921875 -12.34375 \r\n",
       "Q 23.78125 -13.375 27.78125 -13.375 \r\n",
       "Q 36.625 -13.375 41.015625 -8.765625 \r\n",
       "Q 45.40625 -4.15625 45.40625 5.171875 \r\n",
       "L 45.40625 9.625 \r\n",
       "Q 42.625 4.78125 38.28125 2.390625 \r\n",
       "Q 33.9375 0 27.875 0 \r\n",
       "Q 17.828125 0 11.671875 7.65625 \r\n",
       "Q 5.515625 15.328125 5.515625 27.984375 \r\n",
       "Q 5.515625 40.671875 11.671875 48.328125 \r\n",
       "Q 17.828125 56 27.875 56 \r\n",
       "Q 33.9375 56 38.28125 53.609375 \r\n",
       "Q 42.625 51.21875 45.40625 46.390625 \r\n",
       "L 45.40625 54.6875 \r\n",
       "L 54.390625 54.6875 \r\n",
       "z\r\n",
       "\" id=\"DejaVuSans-103\"/>\r\n",
       "        <path id=\"DejaVuSans-32\"/>\r\n",
       "        <path d=\"M 19.671875 64.796875 \r\n",
       "L 19.671875 8.109375 \r\n",
       "L 31.59375 8.109375 \r\n",
       "Q 46.6875 8.109375 53.6875 14.9375 \r\n",
       "Q 60.6875 21.78125 60.6875 36.53125 \r\n",
       "Q 60.6875 51.171875 53.6875 57.984375 \r\n",
       "Q 46.6875 64.796875 31.59375 64.796875 \r\n",
       "z\r\n",
       "M 9.8125 72.90625 \r\n",
       "L 30.078125 72.90625 \r\n",
       "Q 51.265625 72.90625 61.171875 64.09375 \r\n",
       "Q 71.09375 55.28125 71.09375 36.53125 \r\n",
       "Q 71.09375 17.671875 61.125 8.828125 \r\n",
       "Q 51.171875 0 30.078125 0 \r\n",
       "L 9.8125 0 \r\n",
       "z\r\n",
       "\" id=\"DejaVuSans-68\"/>\r\n",
       "        <path d=\"M 56.203125 29.59375 \r\n",
       "L 56.203125 25.203125 \r\n",
       "L 14.890625 25.203125 \r\n",
       "Q 15.484375 15.921875 20.484375 11.0625 \r\n",
       "Q 25.484375 6.203125 34.421875 6.203125 \r\n",
       "Q 39.59375 6.203125 44.453125 7.46875 \r\n",
       "Q 49.3125 8.734375 54.109375 11.28125 \r\n",
       "L 54.109375 2.78125 \r\n",
       "Q 49.265625 0.734375 44.1875 -0.34375 \r\n",
       "Q 39.109375 -1.421875 33.890625 -1.421875 \r\n",
       "Q 20.796875 -1.421875 13.15625 6.1875 \r\n",
       "Q 5.515625 13.8125 5.515625 26.8125 \r\n",
       "Q 5.515625 40.234375 12.765625 48.109375 \r\n",
       "Q 20.015625 56 32.328125 56 \r\n",
       "Q 43.359375 56 49.78125 48.890625 \r\n",
       "Q 56.203125 41.796875 56.203125 29.59375 \r\n",
       "z\r\n",
       "M 47.21875 32.234375 \r\n",
       "Q 47.125 39.59375 43.09375 43.984375 \r\n",
       "Q 39.0625 48.390625 32.421875 48.390625 \r\n",
       "Q 24.90625 48.390625 20.390625 44.140625 \r\n",
       "Q 15.875 39.890625 15.1875 32.171875 \r\n",
       "z\r\n",
       "\" id=\"DejaVuSans-101\"/>\r\n",
       "        <path d=\"M 18.109375 8.203125 \r\n",
       "L 18.109375 -20.796875 \r\n",
       "L 9.078125 -20.796875 \r\n",
       "L 9.078125 54.6875 \r\n",
       "L 18.109375 54.6875 \r\n",
       "L 18.109375 46.390625 \r\n",
       "Q 20.953125 51.265625 25.265625 53.625 \r\n",
       "Q 29.59375 56 35.59375 56 \r\n",
       "Q 45.5625 56 51.78125 48.09375 \r\n",
       "Q 58.015625 40.1875 58.015625 27.296875 \r\n",
       "Q 58.015625 14.40625 51.78125 6.484375 \r\n",
       "Q 45.5625 -1.421875 35.59375 -1.421875 \r\n",
       "Q 29.59375 -1.421875 25.265625 0.953125 \r\n",
       "Q 20.953125 3.328125 18.109375 8.203125 \r\n",
       "z\r\n",
       "M 48.6875 27.296875 \r\n",
       "Q 48.6875 37.203125 44.609375 42.84375 \r\n",
       "Q 40.53125 48.484375 33.40625 48.484375 \r\n",
       "Q 26.265625 48.484375 22.1875 42.84375 \r\n",
       "Q 18.109375 37.203125 18.109375 27.296875 \r\n",
       "Q 18.109375 17.390625 22.1875 11.75 \r\n",
       "Q 26.265625 6.109375 33.40625 6.109375 \r\n",
       "Q 40.53125 6.109375 44.609375 11.75 \r\n",
       "Q 48.6875 17.390625 48.6875 27.296875 \r\n",
       "z\r\n",
       "\" id=\"DejaVuSans-112\"/>\r\n",
       "        <path d=\"M 18.3125 70.21875 \r\n",
       "L 18.3125 54.6875 \r\n",
       "L 36.8125 54.6875 \r\n",
       "L 36.8125 47.703125 \r\n",
       "L 18.3125 47.703125 \r\n",
       "L 18.3125 18.015625 \r\n",
       "Q 18.3125 11.328125 20.140625 9.421875 \r\n",
       "Q 21.96875 7.515625 27.59375 7.515625 \r\n",
       "L 36.8125 7.515625 \r\n",
       "L 36.8125 0 \r\n",
       "L 27.59375 0 \r\n",
       "Q 17.1875 0 13.234375 3.875 \r\n",
       "Q 9.28125 7.765625 9.28125 18.015625 \r\n",
       "L 9.28125 47.703125 \r\n",
       "L 2.6875 47.703125 \r\n",
       "L 2.6875 54.6875 \r\n",
       "L 9.28125 54.6875 \r\n",
       "L 9.28125 70.21875 \r\n",
       "z\r\n",
       "\" id=\"DejaVuSans-116\"/>\r\n",
       "       </defs>\r\n",
       "       <use xlink:href=\"#DejaVuSans-89\"/>\r\n",
       "       <use x=\"47.833984\" xlink:href=\"#DejaVuSans-111\"/>\r\n",
       "       <use x=\"109.015625\" xlink:href=\"#DejaVuSans-117\"/>\r\n",
       "       <use x=\"172.394531\" xlink:href=\"#DejaVuSans-110\"/>\r\n",
       "       <use x=\"235.773438\" xlink:href=\"#DejaVuSans-103\"/>\r\n",
       "       <use x=\"299.25\" xlink:href=\"#DejaVuSans-32\"/>\r\n",
       "       <use x=\"331.037109\" xlink:href=\"#DejaVuSans-68\"/>\r\n",
       "       <use x=\"408.039062\" xlink:href=\"#DejaVuSans-101\"/>\r\n",
       "       <use x=\"469.5625\" xlink:href=\"#DejaVuSans-112\"/>\r\n",
       "       <use x=\"533.039062\" xlink:href=\"#DejaVuSans-111\"/>\r\n",
       "       <use x=\"594.220703\" xlink:href=\"#DejaVuSans-116\"/>\r\n",
       "      </g>\r\n",
       "     </g>\r\n",
       "    </g>\r\n",
       "    <g id=\"ytick_2\">\r\n",
       "     <g id=\"line2d_9\">\r\n",
       "      <g>\r\n",
       "       <use style=\"stroke:#000000;stroke-width:0.8;\" x=\"104.121875\" xlink:href=\"#mcd72b274f7\" y=\"159.408\"/>\r\n",
       "      </g>\r\n",
       "     </g>\r\n",
       "     <g id=\"text_9\">\r\n",
       "      <!-- Temora Depot -->\r\n",
       "      <g transform=\"translate(27.04375 163.207219)scale(0.1 -0.1)\">\r\n",
       "       <defs>\r\n",
       "        <path d=\"M -0.296875 72.90625 \r\n",
       "L 61.375 72.90625 \r\n",
       "L 61.375 64.59375 \r\n",
       "L 35.5 64.59375 \r\n",
       "L 35.5 0 \r\n",
       "L 25.59375 0 \r\n",
       "L 25.59375 64.59375 \r\n",
       "L -0.296875 64.59375 \r\n",
       "z\r\n",
       "\" id=\"DejaVuSans-84\"/>\r\n",
       "        <path d=\"M 52 44.1875 \r\n",
       "Q 55.375 50.25 60.0625 53.125 \r\n",
       "Q 64.75 56 71.09375 56 \r\n",
       "Q 79.640625 56 84.28125 50.015625 \r\n",
       "Q 88.921875 44.046875 88.921875 33.015625 \r\n",
       "L 88.921875 0 \r\n",
       "L 79.890625 0 \r\n",
       "L 79.890625 32.71875 \r\n",
       "Q 79.890625 40.578125 77.09375 44.375 \r\n",
       "Q 74.3125 48.1875 68.609375 48.1875 \r\n",
       "Q 61.625 48.1875 57.5625 43.546875 \r\n",
       "Q 53.515625 38.921875 53.515625 30.90625 \r\n",
       "L 53.515625 0 \r\n",
       "L 44.484375 0 \r\n",
       "L 44.484375 32.71875 \r\n",
       "Q 44.484375 40.625 41.703125 44.40625 \r\n",
       "Q 38.921875 48.1875 33.109375 48.1875 \r\n",
       "Q 26.21875 48.1875 22.15625 43.53125 \r\n",
       "Q 18.109375 38.875 18.109375 30.90625 \r\n",
       "L 18.109375 0 \r\n",
       "L 9.078125 0 \r\n",
       "L 9.078125 54.6875 \r\n",
       "L 18.109375 54.6875 \r\n",
       "L 18.109375 46.1875 \r\n",
       "Q 21.1875 51.21875 25.484375 53.609375 \r\n",
       "Q 29.78125 56 35.6875 56 \r\n",
       "Q 41.65625 56 45.828125 52.96875 \r\n",
       "Q 50 49.953125 52 44.1875 \r\n",
       "z\r\n",
       "\" id=\"DejaVuSans-109\"/>\r\n",
       "        <path d=\"M 41.109375 46.296875 \r\n",
       "Q 39.59375 47.171875 37.8125 47.578125 \r\n",
       "Q 36.03125 48 33.890625 48 \r\n",
       "Q 26.265625 48 22.1875 43.046875 \r\n",
       "Q 18.109375 38.09375 18.109375 28.8125 \r\n",
       "L 18.109375 0 \r\n",
       "L 9.078125 0 \r\n",
       "L 9.078125 54.6875 \r\n",
       "L 18.109375 54.6875 \r\n",
       "L 18.109375 46.1875 \r\n",
       "Q 20.953125 51.171875 25.484375 53.578125 \r\n",
       "Q 30.03125 56 36.53125 56 \r\n",
       "Q 37.453125 56 38.578125 55.875 \r\n",
       "Q 39.703125 55.765625 41.0625 55.515625 \r\n",
       "z\r\n",
       "\" id=\"DejaVuSans-114\"/>\r\n",
       "        <path d=\"M 34.28125 27.484375 \r\n",
       "Q 23.390625 27.484375 19.1875 25 \r\n",
       "Q 14.984375 22.515625 14.984375 16.5 \r\n",
       "Q 14.984375 11.71875 18.140625 8.90625 \r\n",
       "Q 21.296875 6.109375 26.703125 6.109375 \r\n",
       "Q 34.1875 6.109375 38.703125 11.40625 \r\n",
       "Q 43.21875 16.703125 43.21875 25.484375 \r\n",
       "L 43.21875 27.484375 \r\n",
       "z\r\n",
       "M 52.203125 31.203125 \r\n",
       "L 52.203125 0 \r\n",
       "L 43.21875 0 \r\n",
       "L 43.21875 8.296875 \r\n",
       "Q 40.140625 3.328125 35.546875 0.953125 \r\n",
       "Q 30.953125 -1.421875 24.3125 -1.421875 \r\n",
       "Q 15.921875 -1.421875 10.953125 3.296875 \r\n",
       "Q 6 8.015625 6 15.921875 \r\n",
       "Q 6 25.140625 12.171875 29.828125 \r\n",
       "Q 18.359375 34.515625 30.609375 34.515625 \r\n",
       "L 43.21875 34.515625 \r\n",
       "L 43.21875 35.40625 \r\n",
       "Q 43.21875 41.609375 39.140625 45 \r\n",
       "Q 35.0625 48.390625 27.6875 48.390625 \r\n",
       "Q 23 48.390625 18.546875 47.265625 \r\n",
       "Q 14.109375 46.140625 10.015625 43.890625 \r\n",
       "L 10.015625 52.203125 \r\n",
       "Q 14.9375 54.109375 19.578125 55.046875 \r\n",
       "Q 24.21875 56 28.609375 56 \r\n",
       "Q 40.484375 56 46.34375 49.84375 \r\n",
       "Q 52.203125 43.703125 52.203125 31.203125 \r\n",
       "z\r\n",
       "\" id=\"DejaVuSans-97\"/>\r\n",
       "       </defs>\r\n",
       "       <use xlink:href=\"#DejaVuSans-84\"/>\r\n",
       "       <use x=\"44.083984\" xlink:href=\"#DejaVuSans-101\"/>\r\n",
       "       <use x=\"105.607422\" xlink:href=\"#DejaVuSans-109\"/>\r\n",
       "       <use x=\"203.019531\" xlink:href=\"#DejaVuSans-111\"/>\r\n",
       "       <use x=\"264.201172\" xlink:href=\"#DejaVuSans-114\"/>\r\n",
       "       <use x=\"305.314453\" xlink:href=\"#DejaVuSans-97\"/>\r\n",
       "       <use x=\"366.59375\" xlink:href=\"#DejaVuSans-32\"/>\r\n",
       "       <use x=\"398.380859\" xlink:href=\"#DejaVuSans-68\"/>\r\n",
       "       <use x=\"475.382812\" xlink:href=\"#DejaVuSans-101\"/>\r\n",
       "       <use x=\"536.90625\" xlink:href=\"#DejaVuSans-112\"/>\r\n",
       "       <use x=\"600.382812\" xlink:href=\"#DejaVuSans-111\"/>\r\n",
       "       <use x=\"661.564453\" xlink:href=\"#DejaVuSans-116\"/>\r\n",
       "      </g>\r\n",
       "     </g>\r\n",
       "    </g>\r\n",
       "    <g id=\"ytick_3\">\r\n",
       "     <g id=\"line2d_10\">\r\n",
       "      <g>\r\n",
       "       <use style=\"stroke:#000000;stroke-width:0.8;\" x=\"104.121875\" xlink:href=\"#mcd72b274f7\" y=\"115.92\"/>\r\n",
       "      </g>\r\n",
       "     </g>\r\n",
       "     <g id=\"text_10\">\r\n",
       "      <!-- Yass Depot -->\r\n",
       "      <g transform=\"translate(42.423438 119.719219)scale(0.1 -0.1)\">\r\n",
       "       <defs>\r\n",
       "        <path d=\"M 44.28125 53.078125 \r\n",
       "L 44.28125 44.578125 \r\n",
       "Q 40.484375 46.53125 36.375 47.5 \r\n",
       "Q 32.28125 48.484375 27.875 48.484375 \r\n",
       "Q 21.1875 48.484375 17.84375 46.4375 \r\n",
       "Q 14.5 44.390625 14.5 40.28125 \r\n",
       "Q 14.5 37.15625 16.890625 35.375 \r\n",
       "Q 19.28125 33.59375 26.515625 31.984375 \r\n",
       "L 29.59375 31.296875 \r\n",
       "Q 39.15625 29.25 43.1875 25.515625 \r\n",
       "Q 47.21875 21.78125 47.21875 15.09375 \r\n",
       "Q 47.21875 7.46875 41.1875 3.015625 \r\n",
       "Q 35.15625 -1.421875 24.609375 -1.421875 \r\n",
       "Q 20.21875 -1.421875 15.453125 -0.5625 \r\n",
       "Q 10.6875 0.296875 5.421875 2 \r\n",
       "L 5.421875 11.28125 \r\n",
       "Q 10.40625 8.6875 15.234375 7.390625 \r\n",
       "Q 20.0625 6.109375 24.8125 6.109375 \r\n",
       "Q 31.15625 6.109375 34.5625 8.28125 \r\n",
       "Q 37.984375 10.453125 37.984375 14.40625 \r\n",
       "Q 37.984375 18.0625 35.515625 20.015625 \r\n",
       "Q 33.0625 21.96875 24.703125 23.78125 \r\n",
       "L 21.578125 24.515625 \r\n",
       "Q 13.234375 26.265625 9.515625 29.90625 \r\n",
       "Q 5.8125 33.546875 5.8125 39.890625 \r\n",
       "Q 5.8125 47.609375 11.28125 51.796875 \r\n",
       "Q 16.75 56 26.8125 56 \r\n",
       "Q 31.78125 56 36.171875 55.265625 \r\n",
       "Q 40.578125 54.546875 44.28125 53.078125 \r\n",
       "z\r\n",
       "\" id=\"DejaVuSans-115\"/>\r\n",
       "       </defs>\r\n",
       "       <use xlink:href=\"#DejaVuSans-89\"/>\r\n",
       "       <use x=\"47.333984\" xlink:href=\"#DejaVuSans-97\"/>\r\n",
       "       <use x=\"108.613281\" xlink:href=\"#DejaVuSans-115\"/>\r\n",
       "       <use x=\"160.712891\" xlink:href=\"#DejaVuSans-115\"/>\r\n",
       "       <use x=\"212.8125\" xlink:href=\"#DejaVuSans-32\"/>\r\n",
       "       <use x=\"244.599609\" xlink:href=\"#DejaVuSans-68\"/>\r\n",
       "       <use x=\"321.601562\" xlink:href=\"#DejaVuSans-101\"/>\r\n",
       "       <use x=\"383.125\" xlink:href=\"#DejaVuSans-112\"/>\r\n",
       "       <use x=\"446.601562\" xlink:href=\"#DejaVuSans-111\"/>\r\n",
       "       <use x=\"507.783203\" xlink:href=\"#DejaVuSans-116\"/>\r\n",
       "      </g>\r\n",
       "     </g>\r\n",
       "    </g>\r\n",
       "    <g id=\"ytick_4\">\r\n",
       "     <g id=\"line2d_11\">\r\n",
       "      <g>\r\n",
       "       <use style=\"stroke:#000000;stroke-width:0.8;\" x=\"104.121875\" xlink:href=\"#mcd72b274f7\" y=\"72.432\"/>\r\n",
       "      </g>\r\n",
       "     </g>\r\n",
       "     <g id=\"text_11\">\r\n",
       "      <!-- Young Depot -->\r\n",
       "      <g transform=\"translate(33.778125 76.231219)scale(0.1 -0.1)\">\r\n",
       "       <use xlink:href=\"#DejaVuSans-89\"/>\r\n",
       "       <use x=\"47.833984\" xlink:href=\"#DejaVuSans-111\"/>\r\n",
       "       <use x=\"109.015625\" xlink:href=\"#DejaVuSans-117\"/>\r\n",
       "       <use x=\"172.394531\" xlink:href=\"#DejaVuSans-110\"/>\r\n",
       "       <use x=\"235.773438\" xlink:href=\"#DejaVuSans-103\"/>\r\n",
       "       <use x=\"299.25\" xlink:href=\"#DejaVuSans-32\"/>\r\n",
       "       <use x=\"331.037109\" xlink:href=\"#DejaVuSans-68\"/>\r\n",
       "       <use x=\"408.039062\" xlink:href=\"#DejaVuSans-101\"/>\r\n",
       "       <use x=\"469.5625\" xlink:href=\"#DejaVuSans-112\"/>\r\n",
       "       <use x=\"533.039062\" xlink:href=\"#DejaVuSans-111\"/>\r\n",
       "       <use x=\"594.220703\" xlink:href=\"#DejaVuSans-116\"/>\r\n",
       "      </g>\r\n",
       "     </g>\r\n",
       "    </g>\r\n",
       "    <g id=\"ytick_5\">\r\n",
       "     <g id=\"line2d_12\">\r\n",
       "      <g>\r\n",
       "       <use style=\"stroke:#000000;stroke-width:0.8;\" x=\"104.121875\" xlink:href=\"#mcd72b274f7\" y=\"28.944\"/>\r\n",
       "      </g>\r\n",
       "     </g>\r\n",
       "     <g id=\"text_12\">\r\n",
       "      <!-- Bathurst Depot -->\r\n",
       "      <g transform=\"translate(20.878125 32.743219)scale(0.1 -0.1)\">\r\n",
       "       <defs>\r\n",
       "        <path d=\"M 19.671875 34.8125 \r\n",
       "L 19.671875 8.109375 \r\n",
       "L 35.5 8.109375 \r\n",
       "Q 43.453125 8.109375 47.28125 11.40625 \r\n",
       "Q 51.125 14.703125 51.125 21.484375 \r\n",
       "Q 51.125 28.328125 47.28125 31.5625 \r\n",
       "Q 43.453125 34.8125 35.5 34.8125 \r\n",
       "z\r\n",
       "M 19.671875 64.796875 \r\n",
       "L 19.671875 42.828125 \r\n",
       "L 34.28125 42.828125 \r\n",
       "Q 41.5 42.828125 45.03125 45.53125 \r\n",
       "Q 48.578125 48.25 48.578125 53.8125 \r\n",
       "Q 48.578125 59.328125 45.03125 62.0625 \r\n",
       "Q 41.5 64.796875 34.28125 64.796875 \r\n",
       "z\r\n",
       "M 9.8125 72.90625 \r\n",
       "L 35.015625 72.90625 \r\n",
       "Q 46.296875 72.90625 52.390625 68.21875 \r\n",
       "Q 58.5 63.53125 58.5 54.890625 \r\n",
       "Q 58.5 48.1875 55.375 44.234375 \r\n",
       "Q 52.25 40.28125 46.1875 39.3125 \r\n",
       "Q 53.46875 37.75 57.5 32.78125 \r\n",
       "Q 61.53125 27.828125 61.53125 20.40625 \r\n",
       "Q 61.53125 10.640625 54.890625 5.3125 \r\n",
       "Q 48.25 0 35.984375 0 \r\n",
       "L 9.8125 0 \r\n",
       "z\r\n",
       "\" id=\"DejaVuSans-66\"/>\r\n",
       "        <path d=\"M 54.890625 33.015625 \r\n",
       "L 54.890625 0 \r\n",
       "L 45.90625 0 \r\n",
       "L 45.90625 32.71875 \r\n",
       "Q 45.90625 40.484375 42.875 44.328125 \r\n",
       "Q 39.84375 48.1875 33.796875 48.1875 \r\n",
       "Q 26.515625 48.1875 22.3125 43.546875 \r\n",
       "Q 18.109375 38.921875 18.109375 30.90625 \r\n",
       "L 18.109375 0 \r\n",
       "L 9.078125 0 \r\n",
       "L 9.078125 75.984375 \r\n",
       "L 18.109375 75.984375 \r\n",
       "L 18.109375 46.1875 \r\n",
       "Q 21.34375 51.125 25.703125 53.5625 \r\n",
       "Q 30.078125 56 35.796875 56 \r\n",
       "Q 45.21875 56 50.046875 50.171875 \r\n",
       "Q 54.890625 44.34375 54.890625 33.015625 \r\n",
       "z\r\n",
       "\" id=\"DejaVuSans-104\"/>\r\n",
       "       </defs>\r\n",
       "       <use xlink:href=\"#DejaVuSans-66\"/>\r\n",
       "       <use x=\"68.603516\" xlink:href=\"#DejaVuSans-97\"/>\r\n",
       "       <use x=\"129.882812\" xlink:href=\"#DejaVuSans-116\"/>\r\n",
       "       <use x=\"169.091797\" xlink:href=\"#DejaVuSans-104\"/>\r\n",
       "       <use x=\"232.470703\" xlink:href=\"#DejaVuSans-117\"/>\r\n",
       "       <use x=\"295.849609\" xlink:href=\"#DejaVuSans-114\"/>\r\n",
       "       <use x=\"336.962891\" xlink:href=\"#DejaVuSans-115\"/>\r\n",
       "       <use x=\"389.0625\" xlink:href=\"#DejaVuSans-116\"/>\r\n",
       "       <use x=\"428.271484\" xlink:href=\"#DejaVuSans-32\"/>\r\n",
       "       <use x=\"460.058594\" xlink:href=\"#DejaVuSans-68\"/>\r\n",
       "       <use x=\"537.060547\" xlink:href=\"#DejaVuSans-101\"/>\r\n",
       "       <use x=\"598.583984\" xlink:href=\"#DejaVuSans-112\"/>\r\n",
       "       <use x=\"662.060547\" xlink:href=\"#DejaVuSans-111\"/>\r\n",
       "       <use x=\"723.242188\" xlink:href=\"#DejaVuSans-116\"/>\r\n",
       "      </g>\r\n",
       "     </g>\r\n",
       "    </g>\r\n",
       "    <g id=\"text_13\">\r\n",
       "     <!-- Depot (ZSG Area) -->\r\n",
       "     <g transform=\"translate(14.798438 160.097344)rotate(-90)scale(0.1 -0.1)\">\r\n",
       "      <defs>\r\n",
       "       <path d=\"M 31 75.875 \r\n",
       "Q 24.46875 64.65625 21.28125 53.65625 \r\n",
       "Q 18.109375 42.671875 18.109375 31.390625 \r\n",
       "Q 18.109375 20.125 21.3125 9.0625 \r\n",
       "Q 24.515625 -2 31 -13.1875 \r\n",
       "L 23.1875 -13.1875 \r\n",
       "Q 15.875 -1.703125 12.234375 9.375 \r\n",
       "Q 8.59375 20.453125 8.59375 31.390625 \r\n",
       "Q 8.59375 42.28125 12.203125 53.3125 \r\n",
       "Q 15.828125 64.359375 23.1875 75.875 \r\n",
       "z\r\n",
       "\" id=\"DejaVuSans-40\"/>\r\n",
       "       <path d=\"M 5.609375 72.90625 \r\n",
       "L 62.890625 72.90625 \r\n",
       "L 62.890625 65.375 \r\n",
       "L 16.796875 8.296875 \r\n",
       "L 64.015625 8.296875 \r\n",
       "L 64.015625 0 \r\n",
       "L 4.5 0 \r\n",
       "L 4.5 7.515625 \r\n",
       "L 50.59375 64.59375 \r\n",
       "L 5.609375 64.59375 \r\n",
       "z\r\n",
       "\" id=\"DejaVuSans-90\"/>\r\n",
       "       <path d=\"M 53.515625 70.515625 \r\n",
       "L 53.515625 60.890625 \r\n",
       "Q 47.90625 63.578125 42.921875 64.890625 \r\n",
       "Q 37.9375 66.21875 33.296875 66.21875 \r\n",
       "Q 25.25 66.21875 20.875 63.09375 \r\n",
       "Q 16.5 59.96875 16.5 54.203125 \r\n",
       "Q 16.5 49.359375 19.40625 46.890625 \r\n",
       "Q 22.3125 44.4375 30.421875 42.921875 \r\n",
       "L 36.375 41.703125 \r\n",
       "Q 47.40625 39.59375 52.65625 34.296875 \r\n",
       "Q 57.90625 29 57.90625 20.125 \r\n",
       "Q 57.90625 9.515625 50.796875 4.046875 \r\n",
       "Q 43.703125 -1.421875 29.984375 -1.421875 \r\n",
       "Q 24.8125 -1.421875 18.96875 -0.25 \r\n",
       "Q 13.140625 0.921875 6.890625 3.21875 \r\n",
       "L 6.890625 13.375 \r\n",
       "Q 12.890625 10.015625 18.65625 8.296875 \r\n",
       "Q 24.421875 6.59375 29.984375 6.59375 \r\n",
       "Q 38.421875 6.59375 43.015625 9.90625 \r\n",
       "Q 47.609375 13.234375 47.609375 19.390625 \r\n",
       "Q 47.609375 24.75 44.3125 27.78125 \r\n",
       "Q 41.015625 30.8125 33.5 32.328125 \r\n",
       "L 27.484375 33.5 \r\n",
       "Q 16.453125 35.6875 11.515625 40.375 \r\n",
       "Q 6.59375 45.0625 6.59375 53.421875 \r\n",
       "Q 6.59375 63.09375 13.40625 68.65625 \r\n",
       "Q 20.21875 74.21875 32.171875 74.21875 \r\n",
       "Q 37.3125 74.21875 42.625 73.28125 \r\n",
       "Q 47.953125 72.359375 53.515625 70.515625 \r\n",
       "z\r\n",
       "\" id=\"DejaVuSans-83\"/>\r\n",
       "       <path d=\"M 59.515625 10.40625 \r\n",
       "L 59.515625 29.984375 \r\n",
       "L 43.40625 29.984375 \r\n",
       "L 43.40625 38.09375 \r\n",
       "L 69.28125 38.09375 \r\n",
       "L 69.28125 6.78125 \r\n",
       "Q 63.578125 2.734375 56.6875 0.65625 \r\n",
       "Q 49.8125 -1.421875 42 -1.421875 \r\n",
       "Q 24.90625 -1.421875 15.25 8.5625 \r\n",
       "Q 5.609375 18.5625 5.609375 36.375 \r\n",
       "Q 5.609375 54.25 15.25 64.234375 \r\n",
       "Q 24.90625 74.21875 42 74.21875 \r\n",
       "Q 49.125 74.21875 55.546875 72.453125 \r\n",
       "Q 61.96875 70.703125 67.390625 67.28125 \r\n",
       "L 67.390625 56.78125 \r\n",
       "Q 61.921875 61.421875 55.765625 63.765625 \r\n",
       "Q 49.609375 66.109375 42.828125 66.109375 \r\n",
       "Q 29.4375 66.109375 22.71875 58.640625 \r\n",
       "Q 16.015625 51.171875 16.015625 36.375 \r\n",
       "Q 16.015625 21.625 22.71875 14.15625 \r\n",
       "Q 29.4375 6.6875 42.828125 6.6875 \r\n",
       "Q 48.046875 6.6875 52.140625 7.59375 \r\n",
       "Q 56.25 8.5 59.515625 10.40625 \r\n",
       "z\r\n",
       "\" id=\"DejaVuSans-71\"/>\r\n",
       "       <path d=\"M 34.1875 63.1875 \r\n",
       "L 20.796875 26.90625 \r\n",
       "L 47.609375 26.90625 \r\n",
       "z\r\n",
       "M 28.609375 72.90625 \r\n",
       "L 39.796875 72.90625 \r\n",
       "L 67.578125 0 \r\n",
       "L 57.328125 0 \r\n",
       "L 50.6875 18.703125 \r\n",
       "L 17.828125 18.703125 \r\n",
       "L 11.1875 0 \r\n",
       "L 0.78125 0 \r\n",
       "z\r\n",
       "\" id=\"DejaVuSans-65\"/>\r\n",
       "       <path d=\"M 8.015625 75.875 \r\n",
       "L 15.828125 75.875 \r\n",
       "Q 23.140625 64.359375 26.78125 53.3125 \r\n",
       "Q 30.421875 42.28125 30.421875 31.390625 \r\n",
       "Q 30.421875 20.453125 26.78125 9.375 \r\n",
       "Q 23.140625 -1.703125 15.828125 -13.1875 \r\n",
       "L 8.015625 -13.1875 \r\n",
       "Q 14.5 -2 17.703125 9.0625 \r\n",
       "Q 20.90625 20.125 20.90625 31.390625 \r\n",
       "Q 20.90625 42.671875 17.703125 53.65625 \r\n",
       "Q 14.5 64.65625 8.015625 75.875 \r\n",
       "z\r\n",
       "\" id=\"DejaVuSans-41\"/>\r\n",
       "      </defs>\r\n",
       "      <use xlink:href=\"#DejaVuSans-68\"/>\r\n",
       "      <use x=\"77.001953\" xlink:href=\"#DejaVuSans-101\"/>\r\n",
       "      <use x=\"138.525391\" xlink:href=\"#DejaVuSans-112\"/>\r\n",
       "      <use x=\"202.001953\" xlink:href=\"#DejaVuSans-111\"/>\r\n",
       "      <use x=\"263.183594\" xlink:href=\"#DejaVuSans-116\"/>\r\n",
       "      <use x=\"302.392578\" xlink:href=\"#DejaVuSans-32\"/>\r\n",
       "      <use x=\"334.179688\" xlink:href=\"#DejaVuSans-40\"/>\r\n",
       "      <use x=\"373.193359\" xlink:href=\"#DejaVuSans-90\"/>\r\n",
       "      <use x=\"441.699219\" xlink:href=\"#DejaVuSans-83\"/>\r\n",
       "      <use x=\"505.175781\" xlink:href=\"#DejaVuSans-71\"/>\r\n",
       "      <use x=\"582.666016\" xlink:href=\"#DejaVuSans-32\"/>\r\n",
       "      <use x=\"614.453125\" xlink:href=\"#DejaVuSans-65\"/>\r\n",
       "      <use x=\"682.861328\" xlink:href=\"#DejaVuSans-114\"/>\r\n",
       "      <use x=\"721.724609\" xlink:href=\"#DejaVuSans-101\"/>\r\n",
       "      <use x=\"783.248047\" xlink:href=\"#DejaVuSans-97\"/>\r\n",
       "      <use x=\"844.527344\" xlink:href=\"#DejaVuSans-41\"/>\r\n",
       "     </g>\r\n",
       "    </g>\r\n",
       "   </g>\r\n",
       "   <g id=\"patch_23\">\r\n",
       "    <path d=\"M 104.121875 224.64 \r\n",
       "L 104.121875 7.2 \r\n",
       "\" style=\"fill:none;stroke:#000000;stroke-linecap:square;stroke-linejoin:miter;stroke-width:0.8;\"/>\r\n",
       "   </g>\r\n",
       "   <g id=\"patch_24\">\r\n",
       "    <path d=\"M 438.921875 224.64 \r\n",
       "L 438.921875 7.2 \r\n",
       "\" style=\"fill:none;stroke:#000000;stroke-linecap:square;stroke-linejoin:miter;stroke-width:0.8;\"/>\r\n",
       "   </g>\r\n",
       "   <g id=\"patch_25\">\r\n",
       "    <path d=\"M 104.121875 224.64 \r\n",
       "L 438.921875 224.64 \r\n",
       "\" style=\"fill:none;stroke:#000000;stroke-linecap:square;stroke-linejoin:miter;stroke-width:0.8;\"/>\r\n",
       "   </g>\r\n",
       "   <g id=\"patch_26\">\r\n",
       "    <path d=\"M 104.121875 7.2 \r\n",
       "L 438.921875 7.2 \r\n",
       "\" style=\"fill:none;stroke:#000000;stroke-linecap:square;stroke-linejoin:miter;stroke-width:0.8;\"/>\r\n",
       "   </g>\r\n",
       "   <g id=\"legend_1\">\r\n",
       "    <g id=\"patch_27\">\r\n",
       "     <path d=\"M 351.248437 219.64 \r\n",
       "L 431.921875 219.64 \r\n",
       "Q 433.921875 219.64 433.921875 217.64 \r\n",
       "L 433.921875 145.249375 \r\n",
       "Q 433.921875 143.249375 431.921875 143.249375 \r\n",
       "L 351.248437 143.249375 \r\n",
       "Q 349.248437 143.249375 349.248437 145.249375 \r\n",
       "L 349.248437 217.64 \r\n",
       "Q 349.248437 219.64 351.248437 219.64 \r\n",
       "z\r\n",
       "\" style=\"fill:#ffffff;opacity:0.8;stroke:#cccccc;stroke-linejoin:miter;\"/>\r\n",
       "    </g>\r\n",
       "    <g id=\"text_14\">\r\n",
       "     <!-- BushfirePriority -->\r\n",
       "     <g transform=\"translate(353.248437 154.847812)scale(0.1 -0.1)\">\r\n",
       "      <defs>\r\n",
       "       <path d=\"M 37.109375 75.984375 \r\n",
       "L 37.109375 68.5 \r\n",
       "L 28.515625 68.5 \r\n",
       "Q 23.6875 68.5 21.796875 66.546875 \r\n",
       "Q 19.921875 64.59375 19.921875 59.515625 \r\n",
       "L 19.921875 54.6875 \r\n",
       "L 34.71875 54.6875 \r\n",
       "L 34.71875 47.703125 \r\n",
       "L 19.921875 47.703125 \r\n",
       "L 19.921875 0 \r\n",
       "L 10.890625 0 \r\n",
       "L 10.890625 47.703125 \r\n",
       "L 2.296875 47.703125 \r\n",
       "L 2.296875 54.6875 \r\n",
       "L 10.890625 54.6875 \r\n",
       "L 10.890625 58.5 \r\n",
       "Q 10.890625 67.625 15.140625 71.796875 \r\n",
       "Q 19.390625 75.984375 28.609375 75.984375 \r\n",
       "z\r\n",
       "\" id=\"DejaVuSans-102\"/>\r\n",
       "       <path d=\"M 9.421875 54.6875 \r\n",
       "L 18.40625 54.6875 \r\n",
       "L 18.40625 0 \r\n",
       "L 9.421875 0 \r\n",
       "z\r\n",
       "M 9.421875 75.984375 \r\n",
       "L 18.40625 75.984375 \r\n",
       "L 18.40625 64.59375 \r\n",
       "L 9.421875 64.59375 \r\n",
       "z\r\n",
       "\" id=\"DejaVuSans-105\"/>\r\n",
       "       <path d=\"M 19.671875 64.796875 \r\n",
       "L 19.671875 37.40625 \r\n",
       "L 32.078125 37.40625 \r\n",
       "Q 38.96875 37.40625 42.71875 40.96875 \r\n",
       "Q 46.484375 44.53125 46.484375 51.125 \r\n",
       "Q 46.484375 57.671875 42.71875 61.234375 \r\n",
       "Q 38.96875 64.796875 32.078125 64.796875 \r\n",
       "z\r\n",
       "M 9.8125 72.90625 \r\n",
       "L 32.078125 72.90625 \r\n",
       "Q 44.34375 72.90625 50.609375 67.359375 \r\n",
       "Q 56.890625 61.8125 56.890625 51.125 \r\n",
       "Q 56.890625 40.328125 50.609375 34.8125 \r\n",
       "Q 44.34375 29.296875 32.078125 29.296875 \r\n",
       "L 19.671875 29.296875 \r\n",
       "L 19.671875 0 \r\n",
       "L 9.8125 0 \r\n",
       "z\r\n",
       "\" id=\"DejaVuSans-80\"/>\r\n",
       "       <path d=\"M 32.171875 -5.078125 \r\n",
       "Q 28.375 -14.84375 24.75 -17.8125 \r\n",
       "Q 21.140625 -20.796875 15.09375 -20.796875 \r\n",
       "L 7.90625 -20.796875 \r\n",
       "L 7.90625 -13.28125 \r\n",
       "L 13.1875 -13.28125 \r\n",
       "Q 16.890625 -13.28125 18.9375 -11.515625 \r\n",
       "Q 21 -9.765625 23.484375 -3.21875 \r\n",
       "L 25.09375 0.875 \r\n",
       "L 2.984375 54.6875 \r\n",
       "L 12.5 54.6875 \r\n",
       "L 29.59375 11.921875 \r\n",
       "L 46.6875 54.6875 \r\n",
       "L 56.203125 54.6875 \r\n",
       "z\r\n",
       "\" id=\"DejaVuSans-121\"/>\r\n",
       "      </defs>\r\n",
       "      <use xlink:href=\"#DejaVuSans-66\"/>\r\n",
       "      <use x=\"68.603516\" xlink:href=\"#DejaVuSans-117\"/>\r\n",
       "      <use x=\"131.982422\" xlink:href=\"#DejaVuSans-115\"/>\r\n",
       "      <use x=\"184.082031\" xlink:href=\"#DejaVuSans-104\"/>\r\n",
       "      <use x=\"247.460938\" xlink:href=\"#DejaVuSans-102\"/>\r\n",
       "      <use x=\"282.666016\" xlink:href=\"#DejaVuSans-105\"/>\r\n",
       "      <use x=\"310.449219\" xlink:href=\"#DejaVuSans-114\"/>\r\n",
       "      <use x=\"349.3125\" xlink:href=\"#DejaVuSans-101\"/>\r\n",
       "      <use x=\"410.835938\" xlink:href=\"#DejaVuSans-80\"/>\r\n",
       "      <use x=\"469.388672\" xlink:href=\"#DejaVuSans-114\"/>\r\n",
       "      <use x=\"510.501953\" xlink:href=\"#DejaVuSans-105\"/>\r\n",
       "      <use x=\"538.285156\" xlink:href=\"#DejaVuSans-111\"/>\r\n",
       "      <use x=\"599.466797\" xlink:href=\"#DejaVuSans-114\"/>\r\n",
       "      <use x=\"640.580078\" xlink:href=\"#DejaVuSans-105\"/>\r\n",
       "      <use x=\"668.363281\" xlink:href=\"#DejaVuSans-116\"/>\r\n",
       "      <use x=\"707.572266\" xlink:href=\"#DejaVuSans-121\"/>\r\n",
       "     </g>\r\n",
       "    </g>\r\n",
       "    <g id=\"patch_28\">\r\n",
       "     <path d=\"M 371.389062 169.525937 \r\n",
       "L 391.389062 169.525937 \r\n",
       "L 391.389062 162.525937 \r\n",
       "L 371.389062 162.525937 \r\n",
       "z\r\n",
       "\" style=\"fill:#1f77b4;\"/>\r\n",
       "    </g>\r\n",
       "    <g id=\"text_15\">\r\n",
       "     <!-- P1 -->\r\n",
       "     <g transform=\"translate(399.389062 169.525937)scale(0.1 -0.1)\">\r\n",
       "      <use xlink:href=\"#DejaVuSans-80\"/>\r\n",
       "      <use x=\"60.302734\" xlink:href=\"#DejaVuSans-49\"/>\r\n",
       "     </g>\r\n",
       "    </g>\r\n",
       "    <g id=\"patch_29\">\r\n",
       "     <path d=\"M 371.389062 184.204062 \r\n",
       "L 391.389062 184.204062 \r\n",
       "L 391.389062 177.204062 \r\n",
       "L 371.389062 177.204062 \r\n",
       "z\r\n",
       "\" style=\"fill:#ff7f0e;\"/>\r\n",
       "    </g>\r\n",
       "    <g id=\"text_16\">\r\n",
       "     <!-- P2 -->\r\n",
       "     <g transform=\"translate(399.389062 184.204062)scale(0.1 -0.1)\">\r\n",
       "      <use xlink:href=\"#DejaVuSans-80\"/>\r\n",
       "      <use x=\"60.302734\" xlink:href=\"#DejaVuSans-50\"/>\r\n",
       "     </g>\r\n",
       "    </g>\r\n",
       "    <g id=\"patch_30\">\r\n",
       "     <path d=\"M 371.389062 198.882187 \r\n",
       "L 391.389062 198.882187 \r\n",
       "L 391.389062 191.882187 \r\n",
       "L 371.389062 191.882187 \r\n",
       "z\r\n",
       "\" style=\"fill:#2ca02c;\"/>\r\n",
       "    </g>\r\n",
       "    <g id=\"text_17\">\r\n",
       "     <!-- P3 -->\r\n",
       "     <g transform=\"translate(399.389062 198.882187)scale(0.1 -0.1)\">\r\n",
       "      <defs>\r\n",
       "       <path d=\"M 40.578125 39.3125 \r\n",
       "Q 47.65625 37.796875 51.625 33 \r\n",
       "Q 55.609375 28.21875 55.609375 21.1875 \r\n",
       "Q 55.609375 10.40625 48.1875 4.484375 \r\n",
       "Q 40.765625 -1.421875 27.09375 -1.421875 \r\n",
       "Q 22.515625 -1.421875 17.65625 -0.515625 \r\n",
       "Q 12.796875 0.390625 7.625 2.203125 \r\n",
       "L 7.625 11.71875 \r\n",
       "Q 11.71875 9.328125 16.59375 8.109375 \r\n",
       "Q 21.484375 6.890625 26.8125 6.890625 \r\n",
       "Q 36.078125 6.890625 40.9375 10.546875 \r\n",
       "Q 45.796875 14.203125 45.796875 21.1875 \r\n",
       "Q 45.796875 27.640625 41.28125 31.265625 \r\n",
       "Q 36.765625 34.90625 28.71875 34.90625 \r\n",
       "L 20.21875 34.90625 \r\n",
       "L 20.21875 43.015625 \r\n",
       "L 29.109375 43.015625 \r\n",
       "Q 36.375 43.015625 40.234375 45.921875 \r\n",
       "Q 44.09375 48.828125 44.09375 54.296875 \r\n",
       "Q 44.09375 59.90625 40.109375 62.90625 \r\n",
       "Q 36.140625 65.921875 28.71875 65.921875 \r\n",
       "Q 24.65625 65.921875 20.015625 65.03125 \r\n",
       "Q 15.375 64.15625 9.8125 62.3125 \r\n",
       "L 9.8125 71.09375 \r\n",
       "Q 15.4375 72.65625 20.34375 73.4375 \r\n",
       "Q 25.25 74.21875 29.59375 74.21875 \r\n",
       "Q 40.828125 74.21875 47.359375 69.109375 \r\n",
       "Q 53.90625 64.015625 53.90625 55.328125 \r\n",
       "Q 53.90625 49.265625 50.4375 45.09375 \r\n",
       "Q 46.96875 40.921875 40.578125 39.3125 \r\n",
       "z\r\n",
       "\" id=\"DejaVuSans-51\"/>\r\n",
       "      </defs>\r\n",
       "      <use xlink:href=\"#DejaVuSans-80\"/>\r\n",
       "      <use x=\"60.302734\" xlink:href=\"#DejaVuSans-51\"/>\r\n",
       "     </g>\r\n",
       "    </g>\r\n",
       "    <g id=\"patch_31\">\r\n",
       "     <path d=\"M 371.389062 213.560312 \r\n",
       "L 391.389062 213.560312 \r\n",
       "L 391.389062 206.560312 \r\n",
       "L 371.389062 206.560312 \r\n",
       "z\r\n",
       "\" style=\"fill:#d62728;\"/>\r\n",
       "    </g>\r\n",
       "    <g id=\"text_18\">\r\n",
       "     <!-- P4 -->\r\n",
       "     <g transform=\"translate(399.389062 213.560312)scale(0.1 -0.1)\">\r\n",
       "      <use xlink:href=\"#DejaVuSans-80\"/>\r\n",
       "      <use x=\"60.302734\" xlink:href=\"#DejaVuSans-52\"/>\r\n",
       "     </g>\r\n",
       "    </g>\r\n",
       "   </g>\r\n",
       "  </g>\r\n",
       " </g>\r\n",
       " <defs>\r\n",
       "  <clipPath id=\"p9634bc15a3\">\r\n",
       "   <rect height=\"217.44\" width=\"334.8\" x=\"104.121875\" y=\"7.2\"/>\r\n",
       "  </clipPath>\r\n",
       " </defs>\r\n",
       "</svg>\r\n"
      ],
      "text/plain": [
       "<Figure size 432x288 with 1 Axes>"
      ]
     },
     "metadata": {
      "needs_background": "light"
     },
     "output_type": "display_data"
    }
   ],
   "source": [
    "\n",
    "bushfire = df_poles.pivot_table(index='Depot (ZSG Area)', columns= 'BushfirePriority', values = 'ASSET_ID', aggfunc=len).fillna(0).astype(int)\n",
    "bushfire.loc[depots].plot(kind='barh')"
   ]
  },
  {
   "cell_type": "code",
   "execution_count": 192,
   "metadata": {},
   "outputs": [
    {
     "data": {
      "text/html": [
       "<div>\n",
       "<style scoped>\n",
       "    .dataframe tbody tr th:only-of-type {\n",
       "        vertical-align: middle;\n",
       "    }\n",
       "\n",
       "    .dataframe tbody tr th {\n",
       "        vertical-align: top;\n",
       "    }\n",
       "\n",
       "    .dataframe thead th {\n",
       "        text-align: right;\n",
       "    }\n",
       "</style>\n",
       "<table border=\"1\" class=\"dataframe\">\n",
       "  <thead>\n",
       "    <tr style=\"text-align: right;\">\n",
       "      <th>BushfirePriority</th>\n",
       "      <th>P1</th>\n",
       "      <th>P2</th>\n",
       "      <th>P3</th>\n",
       "      <th>P4</th>\n",
       "    </tr>\n",
       "    <tr>\n",
       "      <th>Depot (ZSG Area)</th>\n",
       "      <th></th>\n",
       "      <th></th>\n",
       "      <th></th>\n",
       "      <th></th>\n",
       "    </tr>\n",
       "  </thead>\n",
       "  <tbody>\n",
       "    <tr>\n",
       "      <th>Bulahdelah Depot</th>\n",
       "      <td>135</td>\n",
       "      <td>2404</td>\n",
       "      <td>4531</td>\n",
       "      <td>981</td>\n",
       "    </tr>\n",
       "    <tr>\n",
       "      <th>Griffith Depot</th>\n",
       "      <td>327</td>\n",
       "      <td>10682</td>\n",
       "      <td>2286</td>\n",
       "      <td>4387</td>\n",
       "    </tr>\n",
       "    <tr>\n",
       "      <th>Temora Depot</th>\n",
       "      <td>136</td>\n",
       "      <td>1719</td>\n",
       "      <td>6500</td>\n",
       "      <td>1989</td>\n",
       "    </tr>\n",
       "    <tr>\n",
       "      <th>Young Depot</th>\n",
       "      <td>816</td>\n",
       "      <td>3597</td>\n",
       "      <td>7123</td>\n",
       "      <td>1533</td>\n",
       "    </tr>\n",
       "    <tr>\n",
       "      <th>[ Deleted Assets ]</th>\n",
       "      <td>22</td>\n",
       "      <td>266</td>\n",
       "      <td>83</td>\n",
       "      <td>39</td>\n",
       "    </tr>\n",
       "  </tbody>\n",
       "</table>\n",
       "</div>"
      ],
      "text/plain": [
       "BushfirePriority     P1     P2    P3    P4\n",
       "Depot (ZSG Area)                          \n",
       "Bulahdelah Depot    135   2404  4531   981\n",
       "Griffith Depot      327  10682  2286  4387\n",
       "Temora Depot        136   1719  6500  1989\n",
       "Young Depot         816   3597  7123  1533\n",
       "[ Deleted Assets ]   22    266    83    39"
      ]
     },
     "execution_count": 192,
     "metadata": {},
     "output_type": "execute_result"
    }
   ],
   "source": [
    "bushfire.loc[(bushfire != 0).all(axis=1)]"
   ]
  },
  {
   "cell_type": "code",
   "execution_count": 193,
   "metadata": {},
   "outputs": [
    {
     "data": {
      "text/html": [
       "<div>\n",
       "<style scoped>\n",
       "    .dataframe tbody tr th:only-of-type {\n",
       "        vertical-align: middle;\n",
       "    }\n",
       "\n",
       "    .dataframe tbody tr th {\n",
       "        vertical-align: top;\n",
       "    }\n",
       "\n",
       "    .dataframe thead th {\n",
       "        text-align: right;\n",
       "    }\n",
       "</style>\n",
       "<table border=\"1\" class=\"dataframe\">\n",
       "  <thead>\n",
       "    <tr style=\"text-align: right;\">\n",
       "      <th></th>\n",
       "      <th>Depot (ZSG Area)</th>\n",
       "      <th>BushfirePriority</th>\n",
       "      <th>population</th>\n",
       "    </tr>\n",
       "  </thead>\n",
       "  <tbody>\n",
       "    <tr>\n",
       "      <th>0</th>\n",
       "      <td>Albury Depot</td>\n",
       "      <td>P1</td>\n",
       "      <td>2065</td>\n",
       "    </tr>\n",
       "    <tr>\n",
       "      <th>1</th>\n",
       "      <td>Armidale Depot</td>\n",
       "      <td>P1</td>\n",
       "      <td>0</td>\n",
       "    </tr>\n",
       "    <tr>\n",
       "      <th>2</th>\n",
       "      <td>Ballina Depot</td>\n",
       "      <td>P1</td>\n",
       "      <td>0</td>\n",
       "    </tr>\n",
       "    <tr>\n",
       "      <th>3</th>\n",
       "      <td>Balranald Depot</td>\n",
       "      <td>P1</td>\n",
       "      <td>0</td>\n",
       "    </tr>\n",
       "    <tr>\n",
       "      <th>4</th>\n",
       "      <td>Barham Depot</td>\n",
       "      <td>P1</td>\n",
       "      <td>0</td>\n",
       "    </tr>\n",
       "  </tbody>\n",
       "</table>\n",
       "</div>"
      ],
      "text/plain": [
       "  Depot (ZSG Area) BushfirePriority  population\n",
       "0     Albury Depot               P1        2065\n",
       "1   Armidale Depot               P1           0\n",
       "2    Ballina Depot               P1           0\n",
       "3  Balranald Depot               P1           0\n",
       "4     Barham Depot               P1           0"
      ]
     },
     "execution_count": 193,
     "metadata": {},
     "output_type": "execute_result"
    }
   ],
   "source": [
    "bushfire = bushfire.reset_index().melt(id_vars='Depot (ZSG Area)', value_name='population')\n",
    "bushfire.head()"
   ]
  },
  {
   "cell_type": "code",
   "execution_count": 194,
   "metadata": {},
   "outputs": [],
   "source": [
    "df_bushfire = df_all.loc[df_all['scenario'].isin(['high_c', 'low_c']), ['scenario', 'inspection_interval', 'value_lost']]"
   ]
  },
  {
   "cell_type": "code",
   "execution_count": 195,
   "metadata": {},
   "outputs": [
    {
     "data": {
      "text/html": [
       "<div>\n",
       "<style scoped>\n",
       "    .dataframe tbody tr th:only-of-type {\n",
       "        vertical-align: middle;\n",
       "    }\n",
       "\n",
       "    .dataframe tbody tr th {\n",
       "        vertical-align: top;\n",
       "    }\n",
       "\n",
       "    .dataframe thead th {\n",
       "        text-align: right;\n",
       "    }\n",
       "</style>\n",
       "<table border=\"1\" class=\"dataframe\">\n",
       "  <thead>\n",
       "    <tr style=\"text-align: right;\">\n",
       "      <th></th>\n",
       "      <th>Depot (ZSG Area)</th>\n",
       "      <th>BushfirePriority</th>\n",
       "      <th>population</th>\n",
       "      <th>key</th>\n",
       "      <th>scenario</th>\n",
       "      <th>inspection_interval</th>\n",
       "      <th>value_lost</th>\n",
       "    </tr>\n",
       "  </thead>\n",
       "  <tbody>\n",
       "    <tr>\n",
       "      <th>0</th>\n",
       "      <td>Albury Depot</td>\n",
       "      <td>P1</td>\n",
       "      <td>2065</td>\n",
       "      <td>0</td>\n",
       "      <td>high_c</td>\n",
       "      <td>1</td>\n",
       "      <td>71.35</td>\n",
       "    </tr>\n",
       "    <tr>\n",
       "      <th>1</th>\n",
       "      <td>Albury Depot</td>\n",
       "      <td>P1</td>\n",
       "      <td>2065</td>\n",
       "      <td>0</td>\n",
       "      <td>high_c</td>\n",
       "      <td>2</td>\n",
       "      <td>0.00</td>\n",
       "    </tr>\n",
       "    <tr>\n",
       "      <th>2</th>\n",
       "      <td>Albury Depot</td>\n",
       "      <td>P1</td>\n",
       "      <td>2065</td>\n",
       "      <td>0</td>\n",
       "      <td>high_c</td>\n",
       "      <td>3</td>\n",
       "      <td>10.59</td>\n",
       "    </tr>\n",
       "    <tr>\n",
       "      <th>3</th>\n",
       "      <td>Albury Depot</td>\n",
       "      <td>P1</td>\n",
       "      <td>2065</td>\n",
       "      <td>0</td>\n",
       "      <td>high_c</td>\n",
       "      <td>4</td>\n",
       "      <td>79.56</td>\n",
       "    </tr>\n",
       "    <tr>\n",
       "      <th>4</th>\n",
       "      <td>Albury Depot</td>\n",
       "      <td>P1</td>\n",
       "      <td>2065</td>\n",
       "      <td>0</td>\n",
       "      <td>high_c</td>\n",
       "      <td>5</td>\n",
       "      <td>265.90</td>\n",
       "    </tr>\n",
       "  </tbody>\n",
       "</table>\n",
       "</div>"
      ],
      "text/plain": [
       "  Depot (ZSG Area) BushfirePriority  population  key scenario  \\\n",
       "0     Albury Depot               P1        2065    0   high_c   \n",
       "1     Albury Depot               P1        2065    0   high_c   \n",
       "2     Albury Depot               P1        2065    0   high_c   \n",
       "3     Albury Depot               P1        2065    0   high_c   \n",
       "4     Albury Depot               P1        2065    0   high_c   \n",
       "\n",
       "   inspection_interval  value_lost  \n",
       "0                    1       71.35  \n",
       "1                    2        0.00  \n",
       "2                    3       10.59  \n",
       "3                    4       79.56  \n",
       "4                    5      265.90  "
      ]
     },
     "execution_count": 195,
     "metadata": {},
     "output_type": "execute_result"
    }
   ],
   "source": [
    "df_bushfire['key'] = 0\n",
    "bushfire['key'] = 0\n",
    "\n",
    "jt = bushfire.merge(df_bushfire, on='key', how='outer')\n",
    "jt.head()"
   ]
  },
  {
   "cell_type": "code",
   "execution_count": 196,
   "metadata": {},
   "outputs": [
    {
     "data": {
      "text/html": [
       "<div>\n",
       "<style scoped>\n",
       "    .dataframe tbody tr th:only-of-type {\n",
       "        vertical-align: middle;\n",
       "    }\n",
       "\n",
       "    .dataframe tbody tr th {\n",
       "        vertical-align: top;\n",
       "    }\n",
       "\n",
       "    .dataframe thead th {\n",
       "        text-align: right;\n",
       "    }\n",
       "</style>\n",
       "<table border=\"1\" class=\"dataframe\">\n",
       "  <thead>\n",
       "    <tr style=\"text-align: right;\">\n",
       "      <th></th>\n",
       "      <th>Depot (ZSG Area)</th>\n",
       "      <th>BushfirePriority</th>\n",
       "      <th>population</th>\n",
       "      <th>key</th>\n",
       "      <th>scenario</th>\n",
       "      <th>inspection_interval</th>\n",
       "      <th>value_lost</th>\n",
       "      <th>total_value_lost</th>\n",
       "    </tr>\n",
       "  </thead>\n",
       "  <tbody>\n",
       "    <tr>\n",
       "      <th>0</th>\n",
       "      <td>Albury Depot</td>\n",
       "      <td>P1</td>\n",
       "      <td>2065</td>\n",
       "      <td>0</td>\n",
       "      <td>high_c</td>\n",
       "      <td>1</td>\n",
       "      <td>71.35</td>\n",
       "      <td>147337.75</td>\n",
       "    </tr>\n",
       "    <tr>\n",
       "      <th>1</th>\n",
       "      <td>Albury Depot</td>\n",
       "      <td>P1</td>\n",
       "      <td>2065</td>\n",
       "      <td>0</td>\n",
       "      <td>high_c</td>\n",
       "      <td>2</td>\n",
       "      <td>0.00</td>\n",
       "      <td>0.00</td>\n",
       "    </tr>\n",
       "    <tr>\n",
       "      <th>2</th>\n",
       "      <td>Albury Depot</td>\n",
       "      <td>P1</td>\n",
       "      <td>2065</td>\n",
       "      <td>0</td>\n",
       "      <td>high_c</td>\n",
       "      <td>3</td>\n",
       "      <td>10.59</td>\n",
       "      <td>21868.35</td>\n",
       "    </tr>\n",
       "    <tr>\n",
       "      <th>3</th>\n",
       "      <td>Albury Depot</td>\n",
       "      <td>P1</td>\n",
       "      <td>2065</td>\n",
       "      <td>0</td>\n",
       "      <td>high_c</td>\n",
       "      <td>4</td>\n",
       "      <td>79.56</td>\n",
       "      <td>164291.40</td>\n",
       "    </tr>\n",
       "    <tr>\n",
       "      <th>4</th>\n",
       "      <td>Albury Depot</td>\n",
       "      <td>P1</td>\n",
       "      <td>2065</td>\n",
       "      <td>0</td>\n",
       "      <td>high_c</td>\n",
       "      <td>5</td>\n",
       "      <td>265.90</td>\n",
       "      <td>549083.50</td>\n",
       "    </tr>\n",
       "  </tbody>\n",
       "</table>\n",
       "</div>"
      ],
      "text/plain": [
       "  Depot (ZSG Area) BushfirePriority  population  key scenario  \\\n",
       "0     Albury Depot               P1        2065    0   high_c   \n",
       "1     Albury Depot               P1        2065    0   high_c   \n",
       "2     Albury Depot               P1        2065    0   high_c   \n",
       "3     Albury Depot               P1        2065    0   high_c   \n",
       "4     Albury Depot               P1        2065    0   high_c   \n",
       "\n",
       "   inspection_interval  value_lost  total_value_lost  \n",
       "0                    1       71.35         147337.75  \n",
       "1                    2        0.00              0.00  \n",
       "2                    3       10.59          21868.35  \n",
       "3                    4       79.56         164291.40  \n",
       "4                    5      265.90         549083.50  "
      ]
     },
     "execution_count": 196,
     "metadata": {},
     "output_type": "execute_result"
    }
   ],
   "source": [
    "jt['total_value_lost'] = (jt.population * jt.value_lost).where((jt.BushfirePriority == 'P1') & (jt.scenario == 'high_c')).fillna(0)\n",
    "jt['total_value_lost'] = jt['total_value_lost'] + (jt.population * jt.value_lost).where((jt.BushfirePriority != 'P1') & (jt.scenario == 'low_c')).fillna(0)\n",
    "jt.head()"
   ]
  },
  {
   "cell_type": "code",
   "execution_count": 197,
   "metadata": {},
   "outputs": [],
   "source": [
    "rh = jt.groupby(by=['Depot (ZSG Area)', 'inspection_interval'])['total_value_lost'].sum().reset_index()"
   ]
  },
  {
   "cell_type": "code",
   "execution_count": 198,
   "metadata": {},
   "outputs": [
    {
     "data": {
      "application/vnd.plotly.v1+json": {
       "config": {
        "plotlyServerURL": "https://plot.ly"
       },
       "data": [
        {
         "hovertemplate": "Depot (ZSG Area)=Bathurst Depot<br>inspection_interval=%{x}<br>total_value_lost=%{y}<extra></extra>",
         "legendgroup": "Bathurst Depot",
         "line": {
          "color": "#636efa",
          "dash": "solid"
         },
         "mode": "lines",
         "name": "Bathurst Depot",
         "orientation": "v",
         "showlegend": true,
         "type": "scatter",
         "x": [
          1,
          2,
          3,
          4,
          5,
          6,
          7,
          8,
          9
         ],
         "xaxis": "x",
         "y": [
          1468101.1,
          161770,
          129291.74,
          874046.16,
          3068247.4,
          6695072.360000001,
          7669598.58,
          8753041.82,
          10158399.66
         ],
         "yaxis": "y"
        },
        {
         "hovertemplate": "Depot (ZSG Area)=Temora Depot<br>inspection_interval=%{x}<br>total_value_lost=%{y}<extra></extra>",
         "legendgroup": "Temora Depot",
         "line": {
          "color": "#EF553B",
          "dash": "solid"
         },
         "mode": "lines",
         "name": "Temora Depot",
         "orientation": "v",
         "showlegend": true,
         "type": "scatter",
         "x": [
          1,
          2,
          3,
          4,
          5,
          6,
          7,
          8,
          9
         ],
         "xaxis": "x",
         "y": [
          1007535.6,
          235906.88,
          20325.04,
          10820.16,
          250632.48,
          609595.6799999999,
          755666.3200000001,
          773532.08,
          1005097.2
         ],
         "yaxis": "y"
        },
        {
         "hovertemplate": "Depot (ZSG Area)=Yass Depot<br>inspection_interval=%{x}<br>total_value_lost=%{y}<extra></extra>",
         "legendgroup": "Yass Depot",
         "line": {
          "color": "#00cc96",
          "dash": "solid"
         },
         "mode": "lines",
         "name": "Yass Depot",
         "orientation": "v",
         "showlegend": true,
         "type": "scatter",
         "x": [
          1,
          2,
          3,
          4,
          5,
          6,
          7,
          8,
          9
         ],
         "xaxis": "x",
         "y": [
          1037205.6,
          29534.579999999998,
          137768.03999999998,
          1017254.16,
          3426648.1799999997,
          7434567.48,
          8477820.42,
          9735757.98,
          11226030.3
         ],
         "yaxis": "y"
        },
        {
         "hovertemplate": "Depot (ZSG Area)=Young Depot<br>inspection_interval=%{x}<br>total_value_lost=%{y}<extra></extra>",
         "legendgroup": "Young Depot",
         "line": {
          "color": "#ab63fa",
          "dash": "solid"
         },
         "mode": "lines",
         "name": "Young Depot",
         "orientation": "v",
         "showlegend": true,
         "type": "scatter",
         "x": [
          1,
          2,
          3,
          4,
          5,
          6,
          7,
          8,
          9
         ],
         "xaxis": "x",
         "y": [
          1255952.35,
          283166.83,
          31309.49,
          64920.96,
          474409.93,
          1107874.28,
          1335604.32,
          1421241.08,
          1773897.6
         ],
         "yaxis": "y"
        }
       ],
       "layout": {
        "legend": {
         "title": {
          "text": "Depot (ZSG Area)"
         },
         "tracegroupgap": 0
        },
        "template": {
         "data": {
          "bar": [
           {
            "error_x": {
             "color": "#2a3f5f"
            },
            "error_y": {
             "color": "#2a3f5f"
            },
            "marker": {
             "line": {
              "color": "#E5ECF6",
              "width": 0.5
             }
            },
            "type": "bar"
           }
          ],
          "barpolar": [
           {
            "marker": {
             "line": {
              "color": "#E5ECF6",
              "width": 0.5
             }
            },
            "type": "barpolar"
           }
          ],
          "carpet": [
           {
            "aaxis": {
             "endlinecolor": "#2a3f5f",
             "gridcolor": "white",
             "linecolor": "white",
             "minorgridcolor": "white",
             "startlinecolor": "#2a3f5f"
            },
            "baxis": {
             "endlinecolor": "#2a3f5f",
             "gridcolor": "white",
             "linecolor": "white",
             "minorgridcolor": "white",
             "startlinecolor": "#2a3f5f"
            },
            "type": "carpet"
           }
          ],
          "choropleth": [
           {
            "colorbar": {
             "outlinewidth": 0,
             "ticks": ""
            },
            "type": "choropleth"
           }
          ],
          "contour": [
           {
            "colorbar": {
             "outlinewidth": 0,
             "ticks": ""
            },
            "colorscale": [
             [
              0,
              "#0d0887"
             ],
             [
              0.1111111111111111,
              "#46039f"
             ],
             [
              0.2222222222222222,
              "#7201a8"
             ],
             [
              0.3333333333333333,
              "#9c179e"
             ],
             [
              0.4444444444444444,
              "#bd3786"
             ],
             [
              0.5555555555555556,
              "#d8576b"
             ],
             [
              0.6666666666666666,
              "#ed7953"
             ],
             [
              0.7777777777777778,
              "#fb9f3a"
             ],
             [
              0.8888888888888888,
              "#fdca26"
             ],
             [
              1,
              "#f0f921"
             ]
            ],
            "type": "contour"
           }
          ],
          "contourcarpet": [
           {
            "colorbar": {
             "outlinewidth": 0,
             "ticks": ""
            },
            "type": "contourcarpet"
           }
          ],
          "heatmap": [
           {
            "colorbar": {
             "outlinewidth": 0,
             "ticks": ""
            },
            "colorscale": [
             [
              0,
              "#0d0887"
             ],
             [
              0.1111111111111111,
              "#46039f"
             ],
             [
              0.2222222222222222,
              "#7201a8"
             ],
             [
              0.3333333333333333,
              "#9c179e"
             ],
             [
              0.4444444444444444,
              "#bd3786"
             ],
             [
              0.5555555555555556,
              "#d8576b"
             ],
             [
              0.6666666666666666,
              "#ed7953"
             ],
             [
              0.7777777777777778,
              "#fb9f3a"
             ],
             [
              0.8888888888888888,
              "#fdca26"
             ],
             [
              1,
              "#f0f921"
             ]
            ],
            "type": "heatmap"
           }
          ],
          "heatmapgl": [
           {
            "colorbar": {
             "outlinewidth": 0,
             "ticks": ""
            },
            "colorscale": [
             [
              0,
              "#0d0887"
             ],
             [
              0.1111111111111111,
              "#46039f"
             ],
             [
              0.2222222222222222,
              "#7201a8"
             ],
             [
              0.3333333333333333,
              "#9c179e"
             ],
             [
              0.4444444444444444,
              "#bd3786"
             ],
             [
              0.5555555555555556,
              "#d8576b"
             ],
             [
              0.6666666666666666,
              "#ed7953"
             ],
             [
              0.7777777777777778,
              "#fb9f3a"
             ],
             [
              0.8888888888888888,
              "#fdca26"
             ],
             [
              1,
              "#f0f921"
             ]
            ],
            "type": "heatmapgl"
           }
          ],
          "histogram": [
           {
            "marker": {
             "colorbar": {
              "outlinewidth": 0,
              "ticks": ""
             }
            },
            "type": "histogram"
           }
          ],
          "histogram2d": [
           {
            "colorbar": {
             "outlinewidth": 0,
             "ticks": ""
            },
            "colorscale": [
             [
              0,
              "#0d0887"
             ],
             [
              0.1111111111111111,
              "#46039f"
             ],
             [
              0.2222222222222222,
              "#7201a8"
             ],
             [
              0.3333333333333333,
              "#9c179e"
             ],
             [
              0.4444444444444444,
              "#bd3786"
             ],
             [
              0.5555555555555556,
              "#d8576b"
             ],
             [
              0.6666666666666666,
              "#ed7953"
             ],
             [
              0.7777777777777778,
              "#fb9f3a"
             ],
             [
              0.8888888888888888,
              "#fdca26"
             ],
             [
              1,
              "#f0f921"
             ]
            ],
            "type": "histogram2d"
           }
          ],
          "histogram2dcontour": [
           {
            "colorbar": {
             "outlinewidth": 0,
             "ticks": ""
            },
            "colorscale": [
             [
              0,
              "#0d0887"
             ],
             [
              0.1111111111111111,
              "#46039f"
             ],
             [
              0.2222222222222222,
              "#7201a8"
             ],
             [
              0.3333333333333333,
              "#9c179e"
             ],
             [
              0.4444444444444444,
              "#bd3786"
             ],
             [
              0.5555555555555556,
              "#d8576b"
             ],
             [
              0.6666666666666666,
              "#ed7953"
             ],
             [
              0.7777777777777778,
              "#fb9f3a"
             ],
             [
              0.8888888888888888,
              "#fdca26"
             ],
             [
              1,
              "#f0f921"
             ]
            ],
            "type": "histogram2dcontour"
           }
          ],
          "mesh3d": [
           {
            "colorbar": {
             "outlinewidth": 0,
             "ticks": ""
            },
            "type": "mesh3d"
           }
          ],
          "parcoords": [
           {
            "line": {
             "colorbar": {
              "outlinewidth": 0,
              "ticks": ""
             }
            },
            "type": "parcoords"
           }
          ],
          "pie": [
           {
            "automargin": true,
            "type": "pie"
           }
          ],
          "scatter": [
           {
            "marker": {
             "colorbar": {
              "outlinewidth": 0,
              "ticks": ""
             }
            },
            "type": "scatter"
           }
          ],
          "scatter3d": [
           {
            "line": {
             "colorbar": {
              "outlinewidth": 0,
              "ticks": ""
             }
            },
            "marker": {
             "colorbar": {
              "outlinewidth": 0,
              "ticks": ""
             }
            },
            "type": "scatter3d"
           }
          ],
          "scattercarpet": [
           {
            "marker": {
             "colorbar": {
              "outlinewidth": 0,
              "ticks": ""
             }
            },
            "type": "scattercarpet"
           }
          ],
          "scattergeo": [
           {
            "marker": {
             "colorbar": {
              "outlinewidth": 0,
              "ticks": ""
             }
            },
            "type": "scattergeo"
           }
          ],
          "scattergl": [
           {
            "marker": {
             "colorbar": {
              "outlinewidth": 0,
              "ticks": ""
             }
            },
            "type": "scattergl"
           }
          ],
          "scattermapbox": [
           {
            "marker": {
             "colorbar": {
              "outlinewidth": 0,
              "ticks": ""
             }
            },
            "type": "scattermapbox"
           }
          ],
          "scatterpolar": [
           {
            "marker": {
             "colorbar": {
              "outlinewidth": 0,
              "ticks": ""
             }
            },
            "type": "scatterpolar"
           }
          ],
          "scatterpolargl": [
           {
            "marker": {
             "colorbar": {
              "outlinewidth": 0,
              "ticks": ""
             }
            },
            "type": "scatterpolargl"
           }
          ],
          "scatterternary": [
           {
            "marker": {
             "colorbar": {
              "outlinewidth": 0,
              "ticks": ""
             }
            },
            "type": "scatterternary"
           }
          ],
          "surface": [
           {
            "colorbar": {
             "outlinewidth": 0,
             "ticks": ""
            },
            "colorscale": [
             [
              0,
              "#0d0887"
             ],
             [
              0.1111111111111111,
              "#46039f"
             ],
             [
              0.2222222222222222,
              "#7201a8"
             ],
             [
              0.3333333333333333,
              "#9c179e"
             ],
             [
              0.4444444444444444,
              "#bd3786"
             ],
             [
              0.5555555555555556,
              "#d8576b"
             ],
             [
              0.6666666666666666,
              "#ed7953"
             ],
             [
              0.7777777777777778,
              "#fb9f3a"
             ],
             [
              0.8888888888888888,
              "#fdca26"
             ],
             [
              1,
              "#f0f921"
             ]
            ],
            "type": "surface"
           }
          ],
          "table": [
           {
            "cells": {
             "fill": {
              "color": "#EBF0F8"
             },
             "line": {
              "color": "white"
             }
            },
            "header": {
             "fill": {
              "color": "#C8D4E3"
             },
             "line": {
              "color": "white"
             }
            },
            "type": "table"
           }
          ]
         },
         "layout": {
          "annotationdefaults": {
           "arrowcolor": "#2a3f5f",
           "arrowhead": 0,
           "arrowwidth": 1
          },
          "coloraxis": {
           "colorbar": {
            "outlinewidth": 0,
            "ticks": ""
           }
          },
          "colorscale": {
           "diverging": [
            [
             0,
             "#8e0152"
            ],
            [
             0.1,
             "#c51b7d"
            ],
            [
             0.2,
             "#de77ae"
            ],
            [
             0.3,
             "#f1b6da"
            ],
            [
             0.4,
             "#fde0ef"
            ],
            [
             0.5,
             "#f7f7f7"
            ],
            [
             0.6,
             "#e6f5d0"
            ],
            [
             0.7,
             "#b8e186"
            ],
            [
             0.8,
             "#7fbc41"
            ],
            [
             0.9,
             "#4d9221"
            ],
            [
             1,
             "#276419"
            ]
           ],
           "sequential": [
            [
             0,
             "#0d0887"
            ],
            [
             0.1111111111111111,
             "#46039f"
            ],
            [
             0.2222222222222222,
             "#7201a8"
            ],
            [
             0.3333333333333333,
             "#9c179e"
            ],
            [
             0.4444444444444444,
             "#bd3786"
            ],
            [
             0.5555555555555556,
             "#d8576b"
            ],
            [
             0.6666666666666666,
             "#ed7953"
            ],
            [
             0.7777777777777778,
             "#fb9f3a"
            ],
            [
             0.8888888888888888,
             "#fdca26"
            ],
            [
             1,
             "#f0f921"
            ]
           ],
           "sequentialminus": [
            [
             0,
             "#0d0887"
            ],
            [
             0.1111111111111111,
             "#46039f"
            ],
            [
             0.2222222222222222,
             "#7201a8"
            ],
            [
             0.3333333333333333,
             "#9c179e"
            ],
            [
             0.4444444444444444,
             "#bd3786"
            ],
            [
             0.5555555555555556,
             "#d8576b"
            ],
            [
             0.6666666666666666,
             "#ed7953"
            ],
            [
             0.7777777777777778,
             "#fb9f3a"
            ],
            [
             0.8888888888888888,
             "#fdca26"
            ],
            [
             1,
             "#f0f921"
            ]
           ]
          },
          "colorway": [
           "#636efa",
           "#EF553B",
           "#00cc96",
           "#ab63fa",
           "#FFA15A",
           "#19d3f3",
           "#FF6692",
           "#B6E880",
           "#FF97FF",
           "#FECB52"
          ],
          "font": {
           "color": "#2a3f5f"
          },
          "geo": {
           "bgcolor": "white",
           "lakecolor": "white",
           "landcolor": "#E5ECF6",
           "showlakes": true,
           "showland": true,
           "subunitcolor": "white"
          },
          "hoverlabel": {
           "align": "left"
          },
          "hovermode": "closest",
          "mapbox": {
           "style": "light"
          },
          "paper_bgcolor": "white",
          "plot_bgcolor": "#E5ECF6",
          "polar": {
           "angularaxis": {
            "gridcolor": "white",
            "linecolor": "white",
            "ticks": ""
           },
           "bgcolor": "#E5ECF6",
           "radialaxis": {
            "gridcolor": "white",
            "linecolor": "white",
            "ticks": ""
           }
          },
          "scene": {
           "xaxis": {
            "backgroundcolor": "#E5ECF6",
            "gridcolor": "white",
            "gridwidth": 2,
            "linecolor": "white",
            "showbackground": true,
            "ticks": "",
            "zerolinecolor": "white"
           },
           "yaxis": {
            "backgroundcolor": "#E5ECF6",
            "gridcolor": "white",
            "gridwidth": 2,
            "linecolor": "white",
            "showbackground": true,
            "ticks": "",
            "zerolinecolor": "white"
           },
           "zaxis": {
            "backgroundcolor": "#E5ECF6",
            "gridcolor": "white",
            "gridwidth": 2,
            "linecolor": "white",
            "showbackground": true,
            "ticks": "",
            "zerolinecolor": "white"
           }
          },
          "shapedefaults": {
           "line": {
            "color": "#2a3f5f"
           }
          },
          "ternary": {
           "aaxis": {
            "gridcolor": "white",
            "linecolor": "white",
            "ticks": ""
           },
           "baxis": {
            "gridcolor": "white",
            "linecolor": "white",
            "ticks": ""
           },
           "bgcolor": "#E5ECF6",
           "caxis": {
            "gridcolor": "white",
            "linecolor": "white",
            "ticks": ""
           }
          },
          "title": {
           "x": 0.05
          },
          "xaxis": {
           "automargin": true,
           "gridcolor": "white",
           "linecolor": "white",
           "ticks": "",
           "title": {
            "standoff": 15
           },
           "zerolinecolor": "white",
           "zerolinewidth": 2
          },
          "yaxis": {
           "automargin": true,
           "gridcolor": "white",
           "linecolor": "white",
           "ticks": "",
           "title": {
            "standoff": 15
           },
           "zerolinecolor": "white",
           "zerolinewidth": 2
          }
         }
        },
        "title": {
         "text": "Optimum Inspection Interval by Depot"
        },
        "xaxis": {
         "anchor": "y",
         "domain": [
          0,
          1
         ],
         "title": {
          "text": "inspection_interval"
         }
        },
        "yaxis": {
         "anchor": "x",
         "domain": [
          0,
          1
         ],
         "title": {
          "text": "total_value_lost"
         }
        }
       }
      }
     },
     "metadata": {},
     "output_type": "display_data"
    }
   ],
   "source": [
    "rh = rh.loc[rh['Depot (ZSG Area)'].isin(depots)]\n",
    "\n",
    "fig = px.line(\n",
    "    rh,\n",
    "    x=\"inspection_interval\",\n",
    "    y=\"total_value_lost\",\n",
    "    color=\"Depot (ZSG Area)\",\n",
    "    title= 'Optimum Inspection Interval by Depot'\n",
    ")\n",
    "fig"
   ]
  },
  {
   "cell_type": "code",
   "execution_count": 199,
   "metadata": {},
   "outputs": [
    {
     "data": {
      "text/html": [
       "<div>\n",
       "<style scoped>\n",
       "    .dataframe tbody tr th:only-of-type {\n",
       "        vertical-align: middle;\n",
       "    }\n",
       "\n",
       "    .dataframe tbody tr th {\n",
       "        vertical-align: top;\n",
       "    }\n",
       "\n",
       "    .dataframe thead th {\n",
       "        text-align: right;\n",
       "    }\n",
       "</style>\n",
       "<table border=\"1\" class=\"dataframe\">\n",
       "  <thead>\n",
       "    <tr style=\"text-align: right;\">\n",
       "      <th></th>\n",
       "      <th>inspection_interval</th>\n",
       "      <th>total_value_lost</th>\n",
       "    </tr>\n",
       "    <tr>\n",
       "      <th>Depot (ZSG Area)</th>\n",
       "      <th></th>\n",
       "      <th></th>\n",
       "    </tr>\n",
       "  </thead>\n",
       "  <tbody>\n",
       "    <tr>\n",
       "      <th>Bathurst Depot</th>\n",
       "      <td>1</td>\n",
       "      <td>129291.74</td>\n",
       "    </tr>\n",
       "    <tr>\n",
       "      <th>Temora Depot</th>\n",
       "      <td>1</td>\n",
       "      <td>10820.16</td>\n",
       "    </tr>\n",
       "    <tr>\n",
       "      <th>Yass Depot</th>\n",
       "      <td>1</td>\n",
       "      <td>29534.58</td>\n",
       "    </tr>\n",
       "    <tr>\n",
       "      <th>Young Depot</th>\n",
       "      <td>1</td>\n",
       "      <td>31309.49</td>\n",
       "    </tr>\n",
       "  </tbody>\n",
       "</table>\n",
       "</div>"
      ],
      "text/plain": [
       "                  inspection_interval  total_value_lost\n",
       "Depot (ZSG Area)                                       \n",
       "Bathurst Depot                      1         129291.74\n",
       "Temora Depot                        1          10820.16\n",
       "Yass Depot                          1          29534.58\n",
       "Young Depot                         1          31309.49"
      ]
     },
     "execution_count": 199,
     "metadata": {},
     "output_type": "execute_result"
    }
   ],
   "source": [
    "rh.groupby(by=['Depot (ZSG Area)']).min()"
   ]
  },
  {
   "cell_type": "code",
   "execution_count": 51,
   "metadata": {
    "tags": []
   },
   "outputs": [
    {
     "ename": "ValueError",
     "evalue": "Value of 'x' is not the name of a column in 'data_frame'. Expected one of ['immediate_replacement', 'inspection', 'on_condition_repair', 'on_condition_replacement', 'risk', 'inspection_interval', 'total_cost', 'total'] but received: time",
     "output_type": "error",
     "traceback": [
      "\u001b[1;31m---------------------------------------------------------------------------\u001b[0m",
      "\u001b[1;31mValueError\u001b[0m                                Traceback (most recent call last)",
      "\u001b[1;32m<ipython-input-51-d1beb54751fa>\u001b[0m in \u001b[0;36m<module>\u001b[1;34m\u001b[0m\n\u001b[1;32m----> 1\u001b[1;33m fig = px.area(\n\u001b[0m\u001b[0;32m      2\u001b[0m     \u001b[0mdf\u001b[0m\u001b[1;33m,\u001b[0m\u001b[1;33m\u001b[0m\u001b[1;33m\u001b[0m\u001b[0m\n\u001b[0;32m      3\u001b[0m     \u001b[0mx\u001b[0m\u001b[1;33m=\u001b[0m\u001b[1;34m\"time\"\u001b[0m\u001b[1;33m,\u001b[0m\u001b[1;33m\u001b[0m\u001b[1;33m\u001b[0m\u001b[0m\n\u001b[0;32m      4\u001b[0m     \u001b[0my\u001b[0m\u001b[1;33m=\u001b[0m\u001b[1;34m\"cost_cumulative\"\u001b[0m\u001b[1;33m,\u001b[0m\u001b[1;33m\u001b[0m\u001b[1;33m\u001b[0m\u001b[0m\n\u001b[0;32m      5\u001b[0m     \u001b[0mcolor\u001b[0m\u001b[1;33m=\u001b[0m\u001b[1;34m\"task\"\u001b[0m\u001b[1;33m,\u001b[0m\u001b[1;33m\u001b[0m\u001b[1;33m\u001b[0m\u001b[0m\n",
      "\u001b[1;32m~\\Anaconda3\\lib\\site-packages\\plotly\\express\\_chart_types.py\u001b[0m in \u001b[0;36marea\u001b[1;34m(data_frame, x, y, line_group, color, hover_name, hover_data, custom_data, text, facet_row, facet_col, facet_col_wrap, facet_row_spacing, facet_col_spacing, animation_frame, animation_group, category_orders, labels, color_discrete_sequence, color_discrete_map, orientation, groupnorm, log_x, log_y, range_x, range_y, line_shape, title, template, width, height)\u001b[0m\n\u001b[0;32m    294\u001b[0m     \u001b[0mpolylines\u001b[0m \u001b[1;32mis\u001b[0m \u001b[0mfilled\u001b[0m\u001b[1;33m.\u001b[0m\u001b[1;33m\u001b[0m\u001b[1;33m\u001b[0m\u001b[0m\n\u001b[0;32m    295\u001b[0m     \"\"\"\n\u001b[1;32m--> 296\u001b[1;33m     return make_figure(\n\u001b[0m\u001b[0;32m    297\u001b[0m         \u001b[0margs\u001b[0m\u001b[1;33m=\u001b[0m\u001b[0mlocals\u001b[0m\u001b[1;33m(\u001b[0m\u001b[1;33m)\u001b[0m\u001b[1;33m,\u001b[0m\u001b[1;33m\u001b[0m\u001b[1;33m\u001b[0m\u001b[0m\n\u001b[0;32m    298\u001b[0m         \u001b[0mconstructor\u001b[0m\u001b[1;33m=\u001b[0m\u001b[0mgo\u001b[0m\u001b[1;33m.\u001b[0m\u001b[0mScatter\u001b[0m\u001b[1;33m,\u001b[0m\u001b[1;33m\u001b[0m\u001b[1;33m\u001b[0m\u001b[0m\n",
      "\u001b[1;32m~\\Anaconda3\\lib\\site-packages\\plotly\\express\\_core.py\u001b[0m in \u001b[0;36mmake_figure\u001b[1;34m(args, constructor, trace_patch, layout_patch)\u001b[0m\n\u001b[0;32m   1829\u001b[0m     \u001b[0mapply_default_cascade\u001b[0m\u001b[1;33m(\u001b[0m\u001b[0margs\u001b[0m\u001b[1;33m)\u001b[0m\u001b[1;33m\u001b[0m\u001b[1;33m\u001b[0m\u001b[0m\n\u001b[0;32m   1830\u001b[0m \u001b[1;33m\u001b[0m\u001b[0m\n\u001b[1;32m-> 1831\u001b[1;33m     \u001b[0margs\u001b[0m \u001b[1;33m=\u001b[0m \u001b[0mbuild_dataframe\u001b[0m\u001b[1;33m(\u001b[0m\u001b[0margs\u001b[0m\u001b[1;33m,\u001b[0m \u001b[0mconstructor\u001b[0m\u001b[1;33m)\u001b[0m\u001b[1;33m\u001b[0m\u001b[1;33m\u001b[0m\u001b[0m\n\u001b[0m\u001b[0;32m   1832\u001b[0m     \u001b[1;32mif\u001b[0m \u001b[0mconstructor\u001b[0m \u001b[1;32min\u001b[0m \u001b[1;33m[\u001b[0m\u001b[0mgo\u001b[0m\u001b[1;33m.\u001b[0m\u001b[0mTreemap\u001b[0m\u001b[1;33m,\u001b[0m \u001b[0mgo\u001b[0m\u001b[1;33m.\u001b[0m\u001b[0mSunburst\u001b[0m\u001b[1;33m]\u001b[0m \u001b[1;32mand\u001b[0m \u001b[0margs\u001b[0m\u001b[1;33m[\u001b[0m\u001b[1;34m\"path\"\u001b[0m\u001b[1;33m]\u001b[0m \u001b[1;32mis\u001b[0m \u001b[1;32mnot\u001b[0m \u001b[1;32mNone\u001b[0m\u001b[1;33m:\u001b[0m\u001b[1;33m\u001b[0m\u001b[1;33m\u001b[0m\u001b[0m\n\u001b[0;32m   1833\u001b[0m         \u001b[0margs\u001b[0m \u001b[1;33m=\u001b[0m \u001b[0mprocess_dataframe_hierarchy\u001b[0m\u001b[1;33m(\u001b[0m\u001b[0margs\u001b[0m\u001b[1;33m)\u001b[0m\u001b[1;33m\u001b[0m\u001b[1;33m\u001b[0m\u001b[0m\n",
      "\u001b[1;32m~\\Anaconda3\\lib\\site-packages\\plotly\\express\\_core.py\u001b[0m in \u001b[0;36mbuild_dataframe\u001b[1;34m(args, constructor)\u001b[0m\n\u001b[0;32m   1361\u001b[0m     \u001b[1;31m# now that things have been prepped, we do the systematic rewriting of `args`\u001b[0m\u001b[1;33m\u001b[0m\u001b[1;33m\u001b[0m\u001b[1;33m\u001b[0m\u001b[0m\n\u001b[0;32m   1362\u001b[0m \u001b[1;33m\u001b[0m\u001b[0m\n\u001b[1;32m-> 1363\u001b[1;33m     df_output, wide_id_vars = process_args_into_dataframe(\n\u001b[0m\u001b[0;32m   1364\u001b[0m         \u001b[0margs\u001b[0m\u001b[1;33m,\u001b[0m \u001b[0mwide_mode\u001b[0m\u001b[1;33m,\u001b[0m \u001b[0mvar_name\u001b[0m\u001b[1;33m,\u001b[0m \u001b[0mvalue_name\u001b[0m\u001b[1;33m\u001b[0m\u001b[1;33m\u001b[0m\u001b[0m\n\u001b[0;32m   1365\u001b[0m     )\n",
      "\u001b[1;32m~\\Anaconda3\\lib\\site-packages\\plotly\\express\\_core.py\u001b[0m in \u001b[0;36mprocess_args_into_dataframe\u001b[1;34m(args, wide_mode, var_name, value_name)\u001b[0m\n\u001b[0;32m   1164\u001b[0m                         \u001b[1;32mif\u001b[0m \u001b[0margument\u001b[0m \u001b[1;33m==\u001b[0m \u001b[1;34m\"index\"\u001b[0m\u001b[1;33m:\u001b[0m\u001b[1;33m\u001b[0m\u001b[1;33m\u001b[0m\u001b[0m\n\u001b[0;32m   1165\u001b[0m                             \u001b[0merr_msg\u001b[0m \u001b[1;33m+=\u001b[0m \u001b[1;34m\"\\n To use the index, pass it in directly as `df.index`.\"\u001b[0m\u001b[1;33m\u001b[0m\u001b[1;33m\u001b[0m\u001b[0m\n\u001b[1;32m-> 1166\u001b[1;33m                         \u001b[1;32mraise\u001b[0m \u001b[0mValueError\u001b[0m\u001b[1;33m(\u001b[0m\u001b[0merr_msg\u001b[0m\u001b[1;33m)\u001b[0m\u001b[1;33m\u001b[0m\u001b[1;33m\u001b[0m\u001b[0m\n\u001b[0m\u001b[0;32m   1167\u001b[0m                 \u001b[1;32melif\u001b[0m \u001b[0mlength\u001b[0m \u001b[1;32mand\u001b[0m \u001b[0mlen\u001b[0m\u001b[1;33m(\u001b[0m\u001b[0mdf_input\u001b[0m\u001b[1;33m[\u001b[0m\u001b[0margument\u001b[0m\u001b[1;33m]\u001b[0m\u001b[1;33m)\u001b[0m \u001b[1;33m!=\u001b[0m \u001b[0mlength\u001b[0m\u001b[1;33m:\u001b[0m\u001b[1;33m\u001b[0m\u001b[1;33m\u001b[0m\u001b[0m\n\u001b[0;32m   1168\u001b[0m                     raise ValueError(\n",
      "\u001b[1;31mValueError\u001b[0m: Value of 'x' is not the name of a column in 'data_frame'. Expected one of ['immediate_replacement', 'inspection', 'on_condition_repair', 'on_condition_replacement', 'risk', 'inspection_interval', 'total_cost', 'total'] but received: time"
     ]
    }
   ],
   "source": [
    "fig = px.area(\n",
    "    df,\n",
    "    x=\"time\",\n",
    "    y=\"cost_cumulative\",\n",
    "    color=\"task\",\n",
    "    line_group = 'failure_mode'\n",
    ")\n",
    "fig"
   ]
  },
  {
   "cell_type": "code",
   "execution_count": 15,
   "metadata": {},
   "outputs": [
    {
     "data": {
      "text/plain": [
       "101"
      ]
     },
     "execution_count": 15,
     "metadata": {},
     "output_type": "execute_result"
    }
   ],
   "source": []
  },
  {
   "cell_type": "code",
   "execution_count": 112,
   "metadata": {
    "tags": []
   },
   "outputs": [
    {
     "name": "stderr",
     "output_type": "stream",
     "text": [
      "100%|██████████| 1000/1000 [00:25<00:00, 39.15it/s]\n"
     ]
    }
   ],
   "source": [
    "comp.mc_timeline(200, n_iterations=1000)"
   ]
  },
  {
   "cell_type": "code",
   "execution_count": 113,
   "metadata": {
    "tags": []
   },
   "outputs": [
    {
     "data": {
      "application/vnd.plotly.v1+json": {
       "config": {
        "plotlyServerURL": "https://plot.ly"
       },
       "data": [
        {
         "fill": "toself",
         "fillcolor": "rgba(136, 204, 23,0.2)",
         "line": {
          "color": "rgba(255,255,255,0)"
         },
         "mode": "lines",
         "name": "wall_thickness",
         "showlegend": false,
         "type": "scatter",
         "x": [
          0,
          1,
          2,
          3,
          4,
          5,
          6,
          7,
          8,
          9,
          10,
          11,
          12,
          13,
          14,
          15,
          16,
          17,
          18,
          19,
          20,
          21,
          22,
          23,
          24,
          25,
          26,
          27,
          28,
          29,
          30,
          31,
          32,
          33,
          34,
          35,
          36,
          37,
          38,
          39,
          40,
          41,
          42,
          43,
          44,
          45,
          46,
          47,
          48,
          49,
          50,
          51,
          52,
          53,
          54,
          55,
          56,
          57,
          58,
          59,
          60,
          61,
          62,
          63,
          64,
          65,
          66,
          67,
          68,
          69,
          70,
          71,
          72,
          73,
          74,
          75,
          76,
          77,
          78,
          79,
          80,
          81,
          82,
          83,
          84,
          85,
          86,
          87,
          88,
          89,
          90,
          91,
          92,
          93,
          94,
          95,
          96,
          97,
          98,
          99,
          100,
          101,
          102,
          103,
          104,
          105,
          106,
          107,
          108,
          109,
          110,
          111,
          112,
          113,
          114,
          115,
          116,
          117,
          118,
          119,
          120,
          121,
          122,
          123,
          124,
          125,
          126,
          127,
          128,
          129,
          130,
          131,
          132,
          133,
          134,
          135,
          136,
          137,
          138,
          139,
          140,
          141,
          142,
          143,
          144,
          145,
          146,
          147,
          148,
          149,
          150,
          151,
          152,
          153,
          154,
          155,
          156,
          157,
          158,
          159,
          160,
          161,
          162,
          163,
          164,
          165,
          166,
          167,
          168,
          169,
          170,
          171,
          172,
          173,
          174,
          175,
          176,
          177,
          178,
          179,
          180,
          181,
          182,
          183,
          184,
          185,
          186,
          187,
          188,
          189,
          190,
          191,
          192,
          193,
          194,
          195,
          196,
          197,
          198,
          199,
          200,
          200,
          199,
          198,
          197,
          196,
          195,
          194,
          193,
          192,
          191,
          190,
          189,
          188,
          187,
          186,
          185,
          184,
          183,
          182,
          181,
          180,
          179,
          178,
          177,
          176,
          175,
          174,
          173,
          172,
          171,
          170,
          169,
          168,
          167,
          166,
          165,
          164,
          163,
          162,
          161,
          160,
          159,
          158,
          157,
          156,
          155,
          154,
          153,
          152,
          151,
          150,
          149,
          148,
          147,
          146,
          145,
          144,
          143,
          142,
          141,
          140,
          139,
          138,
          137,
          136,
          135,
          134,
          133,
          132,
          131,
          130,
          129,
          128,
          127,
          126,
          125,
          124,
          123,
          122,
          121,
          120,
          119,
          118,
          117,
          116,
          115,
          114,
          113,
          112,
          111,
          110,
          109,
          108,
          107,
          106,
          105,
          104,
          103,
          102,
          101,
          100,
          99,
          98,
          97,
          96,
          95,
          94,
          93,
          92,
          91,
          90,
          89,
          88,
          87,
          86,
          85,
          84,
          83,
          82,
          81,
          80,
          79,
          78,
          77,
          76,
          75,
          74,
          73,
          72,
          71,
          70,
          69,
          68,
          67,
          66,
          65,
          64,
          63,
          62,
          61,
          60,
          59,
          58,
          57,
          56,
          55,
          54,
          53,
          52,
          51,
          50,
          49,
          48,
          47,
          46,
          45,
          44,
          43,
          42,
          41,
          40,
          39,
          38,
          37,
          36,
          35,
          34,
          33,
          32,
          31,
          30,
          29,
          28,
          27,
          26,
          25,
          24,
          23,
          22,
          21,
          20,
          19,
          18,
          17,
          16,
          15,
          14,
          13,
          12,
          11,
          10,
          9,
          8,
          7,
          6,
          5,
          4,
          3,
          2,
          1,
          0
         ],
         "y": [
          0,
          3.260696125855846,
          7.553367989832942,
          8.322693830523168,
          9.037265738837844,
          7.553367989832942,
          10.9498743710662,
          8.322693830523159,
          10.9498743710662,
          12.088526071053026,
          15.095111883696223,
          12.088526071052991,
          14.147509713086416,
          16.43840995368742,
          16.438409953687447,
          20.05872210923198,
          11.530244484191227,
          16.868333238647025,
          16,
          15.095111883696285,
          14.627103310486884,
          21.359295140505683,
          15.378815738213627,
          16,
          15.552472303579172,
          16,
          17.29033021650964,
          20.431762749356817,
          14.147509713086425,
          20.999441332063725,
          17.70490117576727,
          19.297272501840954,
          20.05872210923198,
          21.877975949489105,
          19.297272501841057,
          18.908331191088166,
          18.112494995995995,
          21.714939587194078,
          24.09975124224178,
          21.163650242881733,
          24.427075539781853,
          20.431762749356782,
          19.680643611018017,
          19.680643611018077,
          22.22900963551216,
          21.522913673027244,
          21.163650242881754,
          18.112494995995995,
          18.513516267626187,
          20.431762749356817,
          20.635192088548397,
          20.431762749356775,
          22.229009635512092,
          22.229009635512163,
          26.63941391154978,
          22.229009635512153,
          21.522913673027247,
          21.163650242881683,
          20.431762749356782,
          22.5761754600873,
          17.290330216509638,
          22.919623427254052,
          22.2290096355121,
          21.714939587194145,
          23.259493795035112,
          22.576175460087306,
          21.877975949489105,
          21.522913673027247,
          22.229009635512163,
          20.832930602664828,
          21.522913673027244,
          17.29033021650967,
          24.25891323078122,
          21.877975949489105,
          24.909509989270653,
          22.919623427254056,
          21.3592951405057,
          22.919623427254056,
          25.707310060448496,
          20.43176274935683,
          25.863884331568457,
          24.909509989270575,
          18.513516267626137,
          21.877975949489105,
          23.92901913862604,
          21.359295140505722,
          21.714939587194134,
          20.43176274935686,
          20.05872210923198,
          23.929019138626046,
          22.576175460087303,
          21.52291367302725,
          23.595917942265423,
          20.43176274935681,
          20.799999999999848,
          22.758288023724916,
          17.290330216509624,
          24.09975124224178,
          21.877975949489105,
          20.05872210923198,
          22.066547618667947,
          17.704901175767333,
          25.863884331568432,
          21.52291367302725,
          19.892688495377236,
          20.431762749356878,
          23.259493795035095,
          23.09871129740329,
          22.229009635512107,
          22.229009635512142,
          24.258913230781214,
          19.68064361101807,
          22.5761754600873,
          23.595917942265423,
          21.522913673027244,
          20.05872210923198,
          22.22900963551213,
          20.266346766087544,
          15.827116596079204,
          21.877975949489105,
          21.877975949489105,
          24.258913230781197,
          21.52291367302724,
          22.5761754600873,
          22.576175460087303,
          25.54876466997535,
          19.680643611018056,
          21.163650242881776,
          20.999441332063743,
          22.919623427254052,
          21.714939587194177,
          23.92901913862604,
          20.799999999999834,
          24.591260281974,
          21.16365024288167,
          25.23041244162788,
          21.52291367302725,
          20.79999999999988,
          25.0728187783939,
          21.163650242881722,
          21.877975949489105,
          23.435681806344338,
          20.79999999999986,
          22.22900963551209,
          22.5761754600873,
          22.576175460087303,
          18.908331191088116,
          22.5761754600873,
          21.877975949489105,
          20.05872210923198,
          24.25891323078119,
          22.229009635512117,
          20.431762749356846,
          22.758288023724894,
          22.066547618667943,
          20.79999999999986,
          19.68064361101807,
          19.680643611018056,
          19.12997277674726,
          22.066547618667943,
          21.52291367302724,
          20.05872210923198,
          19.680643611018034,
          21.877975949489105,
          21.877975949489105,
          24.585709255532457,
          21.877975949489105,
          23.595917942265423,
          21.877975949489105,
          21.877975949489105,
          21.877975949489105,
          20.799999999999894,
          21.163650242881697,
          23.595917942265423,
          22.75828802372499,
          23.92901913862604,
          21.877975949489105,
          20.05872210923198,
          25.863884331568503,
          17.704901175767333,
          23.929019138626046,
          22.576175460087295,
          22.22900963551211,
          22.41428031937774,
          20.79999999999987,
          22.758288023725008,
          24.42707553978186,
          24.58570925553247,
          21.163650242881722,
          25.548508300115017,
          17.290330216509634,
          20.79999999999992,
          22.75828802372492,
          20.05872210923198,
          23.595917942265423,
          21.163650242881697,
          22.919623427254056,
          21.1636502428817,
          21.16365024288175,
          24.42707553978186,
          35.09908757604899,
          0,
          0,
          0,
          0,
          0,
          0,
          0,
          0,
          0,
          0,
          0,
          0,
          0,
          0,
          0,
          0,
          0,
          0,
          0,
          0,
          0,
          0,
          0,
          0,
          0,
          0,
          0,
          0,
          0,
          0,
          0,
          0,
          0,
          0,
          0,
          0,
          0,
          0,
          0,
          0,
          0,
          0,
          0,
          0,
          0,
          0,
          0,
          0,
          0,
          0,
          0,
          0,
          0,
          0,
          0,
          0,
          0,
          0,
          0,
          0,
          0,
          0,
          0,
          0,
          0,
          0,
          0,
          0,
          0,
          0,
          0,
          0,
          0,
          0,
          0,
          0,
          0,
          0,
          0,
          0,
          0,
          0,
          0,
          0,
          0,
          0,
          0,
          0,
          0,
          0,
          0,
          0,
          0,
          0,
          0,
          0,
          0,
          0,
          0,
          0,
          0,
          0,
          0,
          0,
          0,
          0,
          0,
          0,
          0,
          0,
          0,
          0,
          0,
          0,
          0,
          0,
          0,
          0,
          0,
          0,
          0,
          0,
          0,
          0,
          0,
          0,
          0,
          0,
          0,
          0,
          0,
          0,
          0,
          0,
          0,
          0,
          0,
          0,
          0,
          0,
          0,
          0,
          0,
          0,
          0,
          0,
          0,
          0,
          0,
          0,
          0,
          0,
          0,
          0,
          0,
          0,
          0,
          0,
          0,
          0,
          0,
          0,
          0,
          0,
          0,
          0,
          0,
          0,
          0,
          0,
          0,
          0,
          0,
          0,
          0,
          0,
          0,
          0,
          0,
          0,
          0,
          0,
          0,
          0,
          0,
          0,
          0,
          0,
          0,
          0,
          0,
          0,
          0,
          0,
          0,
          0,
          0,
          0,
          0,
          0,
          0
         ]
        },
        {
         "line": {
          "color": "rgb(136, 204, 238)"
         },
         "mode": "lines",
         "name": "wall_thickness",
         "type": "scatter",
         "x": [
          0,
          1,
          2,
          3,
          4,
          5,
          6,
          7,
          8,
          9,
          10,
          11,
          12,
          13,
          14,
          15,
          16,
          17,
          18,
          19,
          20,
          21,
          22,
          23,
          24,
          25,
          26,
          27,
          28,
          29,
          30,
          31,
          32,
          33,
          34,
          35,
          36,
          37,
          38,
          39,
          40,
          41,
          42,
          43,
          44,
          45,
          46,
          47,
          48,
          49,
          50,
          51,
          52,
          53,
          54,
          55,
          56,
          57,
          58,
          59,
          60,
          61,
          62,
          63,
          64,
          65,
          66,
          67,
          68,
          69,
          70,
          71,
          72,
          73,
          74,
          75,
          76,
          77,
          78,
          79,
          80,
          81,
          82,
          83,
          84,
          85,
          86,
          87,
          88,
          89,
          90,
          91,
          92,
          93,
          94,
          95,
          96,
          97,
          98,
          99,
          100,
          101,
          102,
          103,
          104,
          105,
          106,
          107,
          108,
          109,
          110,
          111,
          112,
          113,
          114,
          115,
          116,
          117,
          118,
          119,
          120,
          121,
          122,
          123,
          124,
          125,
          126,
          127,
          128,
          129,
          130,
          131,
          132,
          133,
          134,
          135,
          136,
          137,
          138,
          139,
          140,
          141,
          142,
          143,
          144,
          145,
          146,
          147,
          148,
          149,
          150,
          151,
          152,
          153,
          154,
          155,
          156,
          157,
          158,
          159,
          160,
          161,
          162,
          163,
          164,
          165,
          166,
          167,
          168,
          169,
          170,
          171,
          172,
          173,
          174,
          175,
          176,
          177,
          178,
          179,
          180,
          181,
          182,
          183,
          184,
          185,
          186,
          187,
          188,
          189,
          190,
          191,
          192,
          193,
          194,
          195,
          196,
          197,
          198,
          199,
          200
         ],
         "y": [
          0,
          0.1,
          0.5,
          0.6,
          0.7,
          0.5,
          1,
          0.6,
          1,
          1.2,
          1.8,
          1.2,
          1.6,
          2.1,
          2.1,
          3,
          1.1,
          2.2,
          2,
          1.8,
          1.7,
          3.2,
          1.7,
          2,
          1.9,
          2,
          2.3,
          3.1,
          1.6,
          3.1,
          2.4,
          2.8,
          3,
          3.5,
          2.8,
          2.7,
          2.5,
          3.3,
          4,
          3.3,
          4.1,
          3.1,
          2.9,
          2.9,
          3.6,
          3.4,
          3.3,
          2.5,
          2.6,
          3.1,
          3,
          3.1,
          3.6,
          3.6,
          4.8,
          3.6,
          3.4,
          3.3,
          3.1,
          3.7,
          2.3,
          3.8,
          3.6,
          3.3,
          3.9,
          3.7,
          3.5,
          3.4,
          3.6,
          2.9,
          3.4,
          2.3,
          4.2,
          3.5,
          4.4,
          3.8,
          3.2,
          3.8,
          4.5,
          3.1,
          4.7,
          4.4,
          2.6,
          3.5,
          4.1,
          3.2,
          3.3,
          3.1,
          3,
          4.1,
          3.7,
          3.4,
          4,
          3.1,
          3.2,
          3.6,
          2.3,
          4,
          3.5,
          3,
          3.4,
          2.4,
          4.7,
          3.4,
          2.8,
          3.1,
          3.9,
          3.7,
          3.6,
          3.6,
          4.2,
          2.9,
          3.7,
          4,
          3.4,
          3,
          3.6,
          2.9,
          1.8,
          3.5,
          3.5,
          4.2,
          3.4,
          3.7,
          3.7,
          4.3,
          2.9,
          3.3,
          3.1,
          3.8,
          3.3,
          4.1,
          3.2,
          4,
          3.3,
          4.5,
          3.4,
          3.2,
          4.3,
          3.3,
          3.5,
          3.8,
          3.2,
          3.6,
          3.7,
          3.7,
          2.7,
          3.7,
          3.5,
          3,
          4.2,
          3.6,
          3.1,
          3.6,
          3.4,
          3.2,
          2.9,
          2.9,
          2.6,
          3.4,
          3.4,
          3,
          2.9,
          3.5,
          3.5,
          4.3,
          3.5,
          4,
          3.5,
          3.5,
          3.5,
          3.2,
          3.3,
          4,
          3.6,
          4.1,
          3.5,
          3,
          4.7,
          2.4,
          4.1,
          3.7,
          3.6,
          3.5,
          3.2,
          3.6,
          4.1,
          4.3,
          3.3,
          4.6,
          2.3,
          3.2,
          3.6,
          3,
          4,
          3.3,
          3.8,
          3.3,
          3.3,
          4.1,
          7.7
         ]
        },
        {
         "fill": "toself",
         "fillcolor": "rgba(204, 102, 11,0.2)",
         "line": {
          "color": "rgba(255,255,255,0)"
         },
         "mode": "lines",
         "name": "external_diameter",
         "showlegend": false,
         "type": "scatter",
         "x": [
          0,
          1,
          2,
          3,
          4,
          5,
          6,
          7,
          8,
          9,
          10,
          11,
          12,
          13,
          14,
          15,
          16,
          17,
          18,
          19,
          20,
          21,
          22,
          23,
          24,
          25,
          26,
          27,
          28,
          29,
          30,
          31,
          32,
          33,
          34,
          35,
          36,
          37,
          38,
          39,
          40,
          41,
          42,
          43,
          44,
          45,
          46,
          47,
          48,
          49,
          50,
          51,
          52,
          53,
          54,
          55,
          56,
          57,
          58,
          59,
          60,
          61,
          62,
          63,
          64,
          65,
          66,
          67,
          68,
          69,
          70,
          71,
          72,
          73,
          74,
          75,
          76,
          77,
          78,
          79,
          80,
          81,
          82,
          83,
          84,
          85,
          86,
          87,
          88,
          89,
          90,
          91,
          92,
          93,
          94,
          95,
          96,
          97,
          98,
          99,
          100,
          101,
          102,
          103,
          104,
          105,
          106,
          107,
          108,
          109,
          110,
          111,
          112,
          113,
          114,
          115,
          116,
          117,
          118,
          119,
          120,
          121,
          122,
          123,
          124,
          125,
          126,
          127,
          128,
          129,
          130,
          131,
          132,
          133,
          134,
          135,
          136,
          137,
          138,
          139,
          140,
          141,
          142,
          143,
          144,
          145,
          146,
          147,
          148,
          149,
          150,
          151,
          152,
          153,
          154,
          155,
          156,
          157,
          158,
          159,
          160,
          161,
          162,
          163,
          164,
          165,
          166,
          167,
          168,
          169,
          170,
          171,
          172,
          173,
          174,
          175,
          176,
          177,
          178,
          179,
          180,
          181,
          182,
          183,
          184,
          185,
          186,
          187,
          188,
          189,
          190,
          191,
          192,
          193,
          194,
          195,
          196,
          197,
          198,
          199,
          200,
          200,
          199,
          198,
          197,
          196,
          195,
          194,
          193,
          192,
          191,
          190,
          189,
          188,
          187,
          186,
          185,
          184,
          183,
          182,
          181,
          180,
          179,
          178,
          177,
          176,
          175,
          174,
          173,
          172,
          171,
          170,
          169,
          168,
          167,
          166,
          165,
          164,
          163,
          162,
          161,
          160,
          159,
          158,
          157,
          156,
          155,
          154,
          153,
          152,
          151,
          150,
          149,
          148,
          147,
          146,
          145,
          144,
          143,
          142,
          141,
          140,
          139,
          138,
          137,
          136,
          135,
          134,
          133,
          132,
          131,
          130,
          129,
          128,
          127,
          126,
          125,
          124,
          123,
          122,
          121,
          120,
          119,
          118,
          117,
          116,
          115,
          114,
          113,
          112,
          111,
          110,
          109,
          108,
          107,
          106,
          105,
          104,
          103,
          102,
          101,
          100,
          99,
          98,
          97,
          96,
          95,
          94,
          93,
          92,
          91,
          90,
          89,
          88,
          87,
          86,
          85,
          84,
          83,
          82,
          81,
          80,
          79,
          78,
          77,
          76,
          75,
          74,
          73,
          72,
          71,
          70,
          69,
          68,
          67,
          66,
          65,
          64,
          63,
          62,
          61,
          60,
          59,
          58,
          57,
          56,
          55,
          54,
          53,
          52,
          51,
          50,
          49,
          48,
          47,
          46,
          45,
          44,
          43,
          42,
          41,
          40,
          39,
          38,
          37,
          36,
          35,
          34,
          33,
          32,
          31,
          30,
          29,
          28,
          27,
          26,
          25,
          24,
          23,
          22,
          21,
          20,
          19,
          18,
          17,
          16,
          15,
          14,
          13,
          12,
          11,
          10,
          9,
          8,
          7,
          6,
          5,
          4,
          3,
          2,
          1,
          0
         ],
         "y": [
          0,
          1.630348062927923,
          3.776683994916471,
          4.161346915261584,
          4.518632869418922,
          3.776683994916471,
          5.4749371855331,
          4.161346915261579,
          5.4749371855331,
          6.044263035526513,
          7.5475559418481115,
          6.0442630355264955,
          7.073754856543208,
          8.21920497684371,
          8.219204976843724,
          10.02936105461599,
          5.765122242095614,
          8.434166619323513,
          8,
          7.547555941848143,
          7.313551655243442,
          10.679647570252842,
          7.689407869106813,
          8,
          7.776236151789586,
          8,
          8.64516510825482,
          10.215881374678409,
          7.0737548565432125,
          10.499720666031862,
          8.852450587883634,
          9.648636250920477,
          10.02936105461599,
          10.938987974744553,
          9.648636250920529,
          9.454165595544083,
          9.056247497997997,
          10.857469793597039,
          12.04987562112089,
          10.581825121440867,
          12.213537769890927,
          10.215881374678391,
          9.840321805509008,
          9.840321805509038,
          11.11450481775608,
          10.761456836513622,
          10.581825121440877,
          9.056247497997997,
          9.256758133813094,
          10.215881374678409,
          10.317596044274199,
          10.215881374678387,
          11.114504817756046,
          11.114504817756082,
          13.31970695577489,
          11.114504817756076,
          10.761456836513624,
          10.581825121440842,
          10.215881374678391,
          11.28808773004365,
          8.645165108254819,
          11.459811713627026,
          11.11450481775605,
          10.857469793597073,
          11.629746897517556,
          11.288087730043653,
          10.938987974744553,
          10.761456836513624,
          11.114504817756082,
          10.416465301332414,
          10.761456836513622,
          8.645165108254835,
          12.12945661539061,
          10.938987974744553,
          12.454754994635326,
          11.459811713627028,
          10.67964757025285,
          11.459811713627028,
          12.853655030224248,
          10.215881374678416,
          12.931942165784228,
          12.454754994635287,
          9.256758133813069,
          10.938987974744553,
          11.96450956931302,
          10.679647570252861,
          10.857469793597067,
          10.21588137467843,
          10.02936105461599,
          11.964509569313023,
          11.288087730043651,
          10.761456836513625,
          11.797958971132712,
          10.215881374678405,
          10.399999999999924,
          11.379144011862458,
          8.645165108254812,
          12.04987562112089,
          10.938987974744553,
          10.02936105461599,
          11.033273809333974,
          8.852450587883666,
          12.931942165784216,
          10.761456836513625,
          9.946344247688618,
          10.215881374678439,
          11.629746897517547,
          11.549355648701646,
          11.114504817756053,
          11.114504817756071,
          12.129456615390607,
          9.840321805509035,
          11.28808773004365,
          11.797958971132712,
          10.761456836513622,
          10.02936105461599,
          11.114504817756066,
          10.133173383043772,
          7.913558298039602,
          10.938987974744553,
          10.938987974744553,
          12.129456615390598,
          10.76145683651362,
          11.28808773004365,
          11.288087730043651,
          12.774382334987674,
          9.840321805509028,
          10.581825121440888,
          10.499720666031871,
          11.459811713627026,
          10.857469793597089,
          11.96450956931302,
          10.399999999999917,
          12.295630140987,
          10.581825121440835,
          12.61520622081394,
          10.761456836513625,
          10.39999999999994,
          12.53640938919695,
          10.581825121440861,
          10.938987974744553,
          11.717840903172169,
          10.39999999999993,
          11.114504817756044,
          11.28808773004365,
          11.288087730043651,
          9.454165595544058,
          11.28808773004365,
          10.938987974744553,
          10.02936105461599,
          12.129456615390595,
          11.114504817756059,
          10.215881374678423,
          11.379144011862447,
          11.033273809333972,
          10.39999999999993,
          9.840321805509035,
          9.840321805509028,
          9.56498638837363,
          11.033273809333972,
          10.76145683651362,
          10.02936105461599,
          9.840321805509017,
          10.938987974744553,
          10.938987974744553,
          12.292854627766229,
          10.938987974744553,
          11.797958971132712,
          10.938987974744553,
          10.938987974744553,
          10.938987974744553,
          10.399999999999947,
          10.581825121440849,
          11.797958971132712,
          11.379144011862495,
          11.96450956931302,
          10.938987974744553,
          10.02936105461599,
          12.931942165784251,
          8.852450587883666,
          11.964509569313023,
          11.288087730043648,
          11.114504817756055,
          11.20714015968887,
          10.399999999999935,
          11.379144011862504,
          12.21353776989093,
          12.292854627766236,
          10.581825121440861,
          12.774254150057509,
          8.645165108254817,
          10.39999999999996,
          11.37914401186246,
          10.02936105461599,
          11.797958971132712,
          10.581825121440849,
          11.459811713627028,
          10.58182512144085,
          10.581825121440875,
          12.21353776989093,
          28.152864984086833,
          0,
          0,
          0,
          0,
          0,
          0,
          0,
          0,
          0,
          0,
          0,
          0,
          0,
          0,
          0,
          0,
          0,
          0,
          0,
          0,
          0,
          0,
          0,
          0,
          0,
          0,
          0,
          0,
          0,
          0,
          0,
          0,
          0,
          0,
          0,
          0,
          0,
          0,
          0,
          0,
          0,
          0,
          0,
          0,
          0,
          0,
          0,
          0,
          0,
          0,
          0,
          0,
          0,
          0,
          0,
          0,
          0,
          0,
          0,
          0,
          0,
          0,
          0,
          0,
          0,
          0,
          0,
          0,
          0,
          0,
          0,
          0,
          0,
          0,
          0,
          0,
          0,
          0,
          0,
          0,
          0,
          0,
          0,
          0,
          0,
          0,
          0,
          0,
          0,
          0,
          0,
          0,
          0,
          0,
          0,
          0,
          0,
          0,
          0,
          0,
          0,
          0,
          0,
          0,
          0,
          0,
          0,
          0,
          0,
          0,
          0,
          0,
          0,
          0,
          0,
          0,
          0,
          0,
          0,
          0,
          0,
          0,
          0,
          0,
          0,
          0,
          0,
          0,
          0,
          0,
          0,
          0,
          0,
          0,
          0,
          0,
          0,
          0,
          0,
          0,
          0,
          0,
          0,
          0,
          0,
          0,
          0,
          0,
          0,
          0,
          0,
          0,
          0,
          0,
          0,
          0,
          0,
          0,
          0,
          0,
          0,
          0,
          0,
          0,
          0,
          0,
          0,
          0,
          0,
          0,
          0,
          0,
          0,
          0,
          0,
          0,
          0,
          0,
          0,
          0,
          0,
          0,
          0,
          0,
          0,
          0,
          0,
          0,
          0,
          0,
          0,
          0,
          0,
          0,
          0,
          0,
          0,
          0,
          0,
          0,
          0
         ]
        },
        {
         "line": {
          "color": "rgb(204, 102, 119)"
         },
         "mode": "lines",
         "name": "external_diameter",
         "type": "scatter",
         "x": [
          0,
          1,
          2,
          3,
          4,
          5,
          6,
          7,
          8,
          9,
          10,
          11,
          12,
          13,
          14,
          15,
          16,
          17,
          18,
          19,
          20,
          21,
          22,
          23,
          24,
          25,
          26,
          27,
          28,
          29,
          30,
          31,
          32,
          33,
          34,
          35,
          36,
          37,
          38,
          39,
          40,
          41,
          42,
          43,
          44,
          45,
          46,
          47,
          48,
          49,
          50,
          51,
          52,
          53,
          54,
          55,
          56,
          57,
          58,
          59,
          60,
          61,
          62,
          63,
          64,
          65,
          66,
          67,
          68,
          69,
          70,
          71,
          72,
          73,
          74,
          75,
          76,
          77,
          78,
          79,
          80,
          81,
          82,
          83,
          84,
          85,
          86,
          87,
          88,
          89,
          90,
          91,
          92,
          93,
          94,
          95,
          96,
          97,
          98,
          99,
          100,
          101,
          102,
          103,
          104,
          105,
          106,
          107,
          108,
          109,
          110,
          111,
          112,
          113,
          114,
          115,
          116,
          117,
          118,
          119,
          120,
          121,
          122,
          123,
          124,
          125,
          126,
          127,
          128,
          129,
          130,
          131,
          132,
          133,
          134,
          135,
          136,
          137,
          138,
          139,
          140,
          141,
          142,
          143,
          144,
          145,
          146,
          147,
          148,
          149,
          150,
          151,
          152,
          153,
          154,
          155,
          156,
          157,
          158,
          159,
          160,
          161,
          162,
          163,
          164,
          165,
          166,
          167,
          168,
          169,
          170,
          171,
          172,
          173,
          174,
          175,
          176,
          177,
          178,
          179,
          180,
          181,
          182,
          183,
          184,
          185,
          186,
          187,
          188,
          189,
          190,
          191,
          192,
          193,
          194,
          195,
          196,
          197,
          198,
          199,
          200
         ],
         "y": [
          0,
          0.05,
          0.25,
          0.3,
          0.35,
          0.25,
          0.5,
          0.3,
          0.5,
          0.6,
          0.9,
          0.6,
          0.8,
          1.05,
          1.05,
          1.5,
          0.55,
          1.1,
          1,
          0.9,
          0.85,
          1.6,
          0.85,
          1,
          0.95,
          1,
          1.15,
          1.55,
          0.8,
          1.55,
          1.2,
          1.4,
          1.5,
          1.75,
          1.4,
          1.35,
          1.25,
          1.65,
          2,
          1.65,
          2.05,
          1.55,
          1.45,
          1.45,
          1.8,
          1.7,
          1.65,
          1.25,
          1.3,
          1.55,
          1.5,
          1.55,
          1.8,
          1.8,
          2.4,
          1.8,
          1.7,
          1.65,
          1.55,
          1.85,
          1.15,
          1.9,
          1.8,
          1.65,
          1.95,
          1.85,
          1.75,
          1.7,
          1.8,
          1.45,
          1.7,
          1.15,
          2.1,
          1.75,
          2.2,
          1.9,
          1.6,
          1.9,
          2.25,
          1.55,
          2.35,
          2.2,
          1.3,
          1.75,
          2.05,
          1.6,
          1.65,
          1.55,
          1.5,
          2.05,
          1.85,
          1.7,
          2,
          1.55,
          1.6,
          1.8,
          1.15,
          2,
          1.75,
          1.5,
          1.7,
          1.2,
          2.35,
          1.7,
          1.4,
          1.55,
          1.95,
          1.85,
          1.8,
          1.8,
          2.1,
          1.45,
          1.85,
          2,
          1.7,
          1.5,
          1.8,
          1.45,
          0.9,
          1.75,
          1.75,
          2.1,
          1.7,
          1.85,
          1.85,
          2.15,
          1.45,
          1.65,
          1.55,
          1.9,
          1.65,
          2.05,
          1.6,
          2,
          1.65,
          2.25,
          1.7,
          1.6,
          2.15,
          1.65,
          1.75,
          1.9,
          1.6,
          1.8,
          1.85,
          1.85,
          1.35,
          1.85,
          1.75,
          1.5,
          2.1,
          1.8,
          1.55,
          1.8,
          1.7,
          1.6,
          1.45,
          1.45,
          1.3,
          1.7,
          1.7,
          1.5,
          1.45,
          1.75,
          1.75,
          2.15,
          1.75,
          2,
          1.75,
          1.75,
          1.75,
          1.6,
          1.65,
          2,
          1.8,
          2.05,
          1.75,
          1.5,
          2.35,
          1.2,
          2.05,
          1.85,
          1.8,
          1.75,
          1.6,
          1.8,
          2.05,
          2.15,
          1.65,
          2.3,
          1.15,
          1.6,
          1.8,
          1.5,
          2,
          1.65,
          1.9,
          1.65,
          1.65,
          2.05,
          5.9
         ]
        }
       ],
       "layout": {
        "template": {
         "data": {
          "bar": [
           {
            "error_x": {
             "color": "#2a3f5f"
            },
            "error_y": {
             "color": "#2a3f5f"
            },
            "marker": {
             "line": {
              "color": "#E5ECF6",
              "width": 0.5
             }
            },
            "type": "bar"
           }
          ],
          "barpolar": [
           {
            "marker": {
             "line": {
              "color": "#E5ECF6",
              "width": 0.5
             }
            },
            "type": "barpolar"
           }
          ],
          "carpet": [
           {
            "aaxis": {
             "endlinecolor": "#2a3f5f",
             "gridcolor": "white",
             "linecolor": "white",
             "minorgridcolor": "white",
             "startlinecolor": "#2a3f5f"
            },
            "baxis": {
             "endlinecolor": "#2a3f5f",
             "gridcolor": "white",
             "linecolor": "white",
             "minorgridcolor": "white",
             "startlinecolor": "#2a3f5f"
            },
            "type": "carpet"
           }
          ],
          "choropleth": [
           {
            "colorbar": {
             "outlinewidth": 0,
             "ticks": ""
            },
            "type": "choropleth"
           }
          ],
          "contour": [
           {
            "colorbar": {
             "outlinewidth": 0,
             "ticks": ""
            },
            "colorscale": [
             [
              0,
              "#0d0887"
             ],
             [
              0.1111111111111111,
              "#46039f"
             ],
             [
              0.2222222222222222,
              "#7201a8"
             ],
             [
              0.3333333333333333,
              "#9c179e"
             ],
             [
              0.4444444444444444,
              "#bd3786"
             ],
             [
              0.5555555555555556,
              "#d8576b"
             ],
             [
              0.6666666666666666,
              "#ed7953"
             ],
             [
              0.7777777777777778,
              "#fb9f3a"
             ],
             [
              0.8888888888888888,
              "#fdca26"
             ],
             [
              1,
              "#f0f921"
             ]
            ],
            "type": "contour"
           }
          ],
          "contourcarpet": [
           {
            "colorbar": {
             "outlinewidth": 0,
             "ticks": ""
            },
            "type": "contourcarpet"
           }
          ],
          "heatmap": [
           {
            "colorbar": {
             "outlinewidth": 0,
             "ticks": ""
            },
            "colorscale": [
             [
              0,
              "#0d0887"
             ],
             [
              0.1111111111111111,
              "#46039f"
             ],
             [
              0.2222222222222222,
              "#7201a8"
             ],
             [
              0.3333333333333333,
              "#9c179e"
             ],
             [
              0.4444444444444444,
              "#bd3786"
             ],
             [
              0.5555555555555556,
              "#d8576b"
             ],
             [
              0.6666666666666666,
              "#ed7953"
             ],
             [
              0.7777777777777778,
              "#fb9f3a"
             ],
             [
              0.8888888888888888,
              "#fdca26"
             ],
             [
              1,
              "#f0f921"
             ]
            ],
            "type": "heatmap"
           }
          ],
          "heatmapgl": [
           {
            "colorbar": {
             "outlinewidth": 0,
             "ticks": ""
            },
            "colorscale": [
             [
              0,
              "#0d0887"
             ],
             [
              0.1111111111111111,
              "#46039f"
             ],
             [
              0.2222222222222222,
              "#7201a8"
             ],
             [
              0.3333333333333333,
              "#9c179e"
             ],
             [
              0.4444444444444444,
              "#bd3786"
             ],
             [
              0.5555555555555556,
              "#d8576b"
             ],
             [
              0.6666666666666666,
              "#ed7953"
             ],
             [
              0.7777777777777778,
              "#fb9f3a"
             ],
             [
              0.8888888888888888,
              "#fdca26"
             ],
             [
              1,
              "#f0f921"
             ]
            ],
            "type": "heatmapgl"
           }
          ],
          "histogram": [
           {
            "marker": {
             "colorbar": {
              "outlinewidth": 0,
              "ticks": ""
             }
            },
            "type": "histogram"
           }
          ],
          "histogram2d": [
           {
            "colorbar": {
             "outlinewidth": 0,
             "ticks": ""
            },
            "colorscale": [
             [
              0,
              "#0d0887"
             ],
             [
              0.1111111111111111,
              "#46039f"
             ],
             [
              0.2222222222222222,
              "#7201a8"
             ],
             [
              0.3333333333333333,
              "#9c179e"
             ],
             [
              0.4444444444444444,
              "#bd3786"
             ],
             [
              0.5555555555555556,
              "#d8576b"
             ],
             [
              0.6666666666666666,
              "#ed7953"
             ],
             [
              0.7777777777777778,
              "#fb9f3a"
             ],
             [
              0.8888888888888888,
              "#fdca26"
             ],
             [
              1,
              "#f0f921"
             ]
            ],
            "type": "histogram2d"
           }
          ],
          "histogram2dcontour": [
           {
            "colorbar": {
             "outlinewidth": 0,
             "ticks": ""
            },
            "colorscale": [
             [
              0,
              "#0d0887"
             ],
             [
              0.1111111111111111,
              "#46039f"
             ],
             [
              0.2222222222222222,
              "#7201a8"
             ],
             [
              0.3333333333333333,
              "#9c179e"
             ],
             [
              0.4444444444444444,
              "#bd3786"
             ],
             [
              0.5555555555555556,
              "#d8576b"
             ],
             [
              0.6666666666666666,
              "#ed7953"
             ],
             [
              0.7777777777777778,
              "#fb9f3a"
             ],
             [
              0.8888888888888888,
              "#fdca26"
             ],
             [
              1,
              "#f0f921"
             ]
            ],
            "type": "histogram2dcontour"
           }
          ],
          "mesh3d": [
           {
            "colorbar": {
             "outlinewidth": 0,
             "ticks": ""
            },
            "type": "mesh3d"
           }
          ],
          "parcoords": [
           {
            "line": {
             "colorbar": {
              "outlinewidth": 0,
              "ticks": ""
             }
            },
            "type": "parcoords"
           }
          ],
          "pie": [
           {
            "automargin": true,
            "type": "pie"
           }
          ],
          "scatter": [
           {
            "marker": {
             "colorbar": {
              "outlinewidth": 0,
              "ticks": ""
             }
            },
            "type": "scatter"
           }
          ],
          "scatter3d": [
           {
            "line": {
             "colorbar": {
              "outlinewidth": 0,
              "ticks": ""
             }
            },
            "marker": {
             "colorbar": {
              "outlinewidth": 0,
              "ticks": ""
             }
            },
            "type": "scatter3d"
           }
          ],
          "scattercarpet": [
           {
            "marker": {
             "colorbar": {
              "outlinewidth": 0,
              "ticks": ""
             }
            },
            "type": "scattercarpet"
           }
          ],
          "scattergeo": [
           {
            "marker": {
             "colorbar": {
              "outlinewidth": 0,
              "ticks": ""
             }
            },
            "type": "scattergeo"
           }
          ],
          "scattergl": [
           {
            "marker": {
             "colorbar": {
              "outlinewidth": 0,
              "ticks": ""
             }
            },
            "type": "scattergl"
           }
          ],
          "scattermapbox": [
           {
            "marker": {
             "colorbar": {
              "outlinewidth": 0,
              "ticks": ""
             }
            },
            "type": "scattermapbox"
           }
          ],
          "scatterpolar": [
           {
            "marker": {
             "colorbar": {
              "outlinewidth": 0,
              "ticks": ""
             }
            },
            "type": "scatterpolar"
           }
          ],
          "scatterpolargl": [
           {
            "marker": {
             "colorbar": {
              "outlinewidth": 0,
              "ticks": ""
             }
            },
            "type": "scatterpolargl"
           }
          ],
          "scatterternary": [
           {
            "marker": {
             "colorbar": {
              "outlinewidth": 0,
              "ticks": ""
             }
            },
            "type": "scatterternary"
           }
          ],
          "surface": [
           {
            "colorbar": {
             "outlinewidth": 0,
             "ticks": ""
            },
            "colorscale": [
             [
              0,
              "#0d0887"
             ],
             [
              0.1111111111111111,
              "#46039f"
             ],
             [
              0.2222222222222222,
              "#7201a8"
             ],
             [
              0.3333333333333333,
              "#9c179e"
             ],
             [
              0.4444444444444444,
              "#bd3786"
             ],
             [
              0.5555555555555556,
              "#d8576b"
             ],
             [
              0.6666666666666666,
              "#ed7953"
             ],
             [
              0.7777777777777778,
              "#fb9f3a"
             ],
             [
              0.8888888888888888,
              "#fdca26"
             ],
             [
              1,
              "#f0f921"
             ]
            ],
            "type": "surface"
           }
          ],
          "table": [
           {
            "cells": {
             "fill": {
              "color": "#EBF0F8"
             },
             "line": {
              "color": "white"
             }
            },
            "header": {
             "fill": {
              "color": "#C8D4E3"
             },
             "line": {
              "color": "white"
             }
            },
            "type": "table"
           }
          ]
         },
         "layout": {
          "annotationdefaults": {
           "arrowcolor": "#2a3f5f",
           "arrowhead": 0,
           "arrowwidth": 1
          },
          "coloraxis": {
           "colorbar": {
            "outlinewidth": 0,
            "ticks": ""
           }
          },
          "colorscale": {
           "diverging": [
            [
             0,
             "#8e0152"
            ],
            [
             0.1,
             "#c51b7d"
            ],
            [
             0.2,
             "#de77ae"
            ],
            [
             0.3,
             "#f1b6da"
            ],
            [
             0.4,
             "#fde0ef"
            ],
            [
             0.5,
             "#f7f7f7"
            ],
            [
             0.6,
             "#e6f5d0"
            ],
            [
             0.7,
             "#b8e186"
            ],
            [
             0.8,
             "#7fbc41"
            ],
            [
             0.9,
             "#4d9221"
            ],
            [
             1,
             "#276419"
            ]
           ],
           "sequential": [
            [
             0,
             "#0d0887"
            ],
            [
             0.1111111111111111,
             "#46039f"
            ],
            [
             0.2222222222222222,
             "#7201a8"
            ],
            [
             0.3333333333333333,
             "#9c179e"
            ],
            [
             0.4444444444444444,
             "#bd3786"
            ],
            [
             0.5555555555555556,
             "#d8576b"
            ],
            [
             0.6666666666666666,
             "#ed7953"
            ],
            [
             0.7777777777777778,
             "#fb9f3a"
            ],
            [
             0.8888888888888888,
             "#fdca26"
            ],
            [
             1,
             "#f0f921"
            ]
           ],
           "sequentialminus": [
            [
             0,
             "#0d0887"
            ],
            [
             0.1111111111111111,
             "#46039f"
            ],
            [
             0.2222222222222222,
             "#7201a8"
            ],
            [
             0.3333333333333333,
             "#9c179e"
            ],
            [
             0.4444444444444444,
             "#bd3786"
            ],
            [
             0.5555555555555556,
             "#d8576b"
            ],
            [
             0.6666666666666666,
             "#ed7953"
            ],
            [
             0.7777777777777778,
             "#fb9f3a"
            ],
            [
             0.8888888888888888,
             "#fdca26"
            ],
            [
             1,
             "#f0f921"
            ]
           ]
          },
          "colorway": [
           "#636efa",
           "#EF553B",
           "#00cc96",
           "#ab63fa",
           "#FFA15A",
           "#19d3f3",
           "#FF6692",
           "#B6E880",
           "#FF97FF",
           "#FECB52"
          ],
          "font": {
           "color": "#2a3f5f"
          },
          "geo": {
           "bgcolor": "white",
           "lakecolor": "white",
           "landcolor": "#E5ECF6",
           "showlakes": true,
           "showland": true,
           "subunitcolor": "white"
          },
          "hoverlabel": {
           "align": "left"
          },
          "hovermode": "closest",
          "mapbox": {
           "style": "light"
          },
          "paper_bgcolor": "white",
          "plot_bgcolor": "#E5ECF6",
          "polar": {
           "angularaxis": {
            "gridcolor": "white",
            "linecolor": "white",
            "ticks": ""
           },
           "bgcolor": "#E5ECF6",
           "radialaxis": {
            "gridcolor": "white",
            "linecolor": "white",
            "ticks": ""
           }
          },
          "scene": {
           "xaxis": {
            "backgroundcolor": "#E5ECF6",
            "gridcolor": "white",
            "gridwidth": 2,
            "linecolor": "white",
            "showbackground": true,
            "ticks": "",
            "zerolinecolor": "white"
           },
           "yaxis": {
            "backgroundcolor": "#E5ECF6",
            "gridcolor": "white",
            "gridwidth": 2,
            "linecolor": "white",
            "showbackground": true,
            "ticks": "",
            "zerolinecolor": "white"
           },
           "zaxis": {
            "backgroundcolor": "#E5ECF6",
            "gridcolor": "white",
            "gridwidth": 2,
            "linecolor": "white",
            "showbackground": true,
            "ticks": "",
            "zerolinecolor": "white"
           }
          },
          "shapedefaults": {
           "line": {
            "color": "#2a3f5f"
           }
          },
          "ternary": {
           "aaxis": {
            "gridcolor": "white",
            "linecolor": "white",
            "ticks": ""
           },
           "baxis": {
            "gridcolor": "white",
            "linecolor": "white",
            "ticks": ""
           },
           "bgcolor": "#E5ECF6",
           "caxis": {
            "gridcolor": "white",
            "linecolor": "white",
            "ticks": ""
           }
          },
          "title": {
           "x": 0.05
          },
          "xaxis": {
           "automargin": true,
           "gridcolor": "white",
           "linecolor": "white",
           "ticks": "",
           "title": {
            "standoff": 15
           },
           "zerolinecolor": "white",
           "zerolinewidth": 2
          },
          "yaxis": {
           "automargin": true,
           "gridcolor": "white",
           "linecolor": "white",
           "ticks": "",
           "title": {
            "standoff": 15
           },
           "zerolinecolor": "white",
           "zerolinewidth": 2
          }
         }
        },
        "xaxis": {
         "title": {
          "text": "Time"
         }
        },
        "yaxis": {
         "title": {
          "text": "Condition (%)"
         }
        }
       }
      }
     },
     "metadata": {},
     "output_type": "display_data"
    }
   ],
   "source": [
    "\n",
    "import plotly.graph_objects as go\n",
    "\n",
    "\n",
    "def update_condition_fig(*args):\n",
    "    \"\"\" Updates the condition figure\"\"\"\n",
    "\n",
    "    fig = go.Figure()\n",
    "\n",
    "    ecl = comp.expected_condition_loss()\n",
    "\n",
    "    cmap = px.colors.qualitative.Safe\n",
    "    ci = 0\n",
    "\n",
    "    for cond_name, cond in ecl.items():\n",
    "        # Format the data for plotting\n",
    "        length = len(cond['mean'])\n",
    "        time = np.linspace(0,length  -1, length, dtype=int) # TODO take time as a variable\n",
    "        x = np.append(time,time[::-1])\n",
    "        y = np.append(cond['upper'], cond['lower'][::-1])\n",
    "\n",
    "        # Add the boundary\n",
    "        fig.add_trace(go.Scatter(\n",
    "            x=x,\n",
    "            y=y,\n",
    "            fill='toself',\n",
    "            fillcolor='rgba' + cmap[ci][3:-2] + ',0.2)',\n",
    "            line_color='rgba(255,255,255,0)',\n",
    "            showlegend=False,\n",
    "            name=cond_name,\n",
    "        ))\n",
    "        fig.add_trace(go.Scatter(\n",
    "            x=time, y=cond['mean'],\n",
    "            line_color=cmap[ci],\n",
    "            name=cond_name,\n",
    "        ))\n",
    "\n",
    "        ci = ci + 1\n",
    "\n",
    "        fig.update_traces(mode='lines')\n",
    "        fig.update_xaxes(title_text='Time')\n",
    "        fig.update_yaxes(title_text='Condition (%)')\n",
    "\n",
    "    return fig\n",
    "\n",
    "\n",
    "fig = update_condition_fig()\n",
    "fig.show()"
   ]
  },
  {
   "cell_type": "code",
   "execution_count": 11,
   "metadata": {},
   "outputs": [
    {
     "ename": "TypeError",
     "evalue": "'numpy.float64' object does not support item assignment",
     "output_type": "error",
     "traceback": [
      "\u001b[1;31m---------------------------------------------------------------------------\u001b[0m",
      "\u001b[1;31mTypeError\u001b[0m                                 Traceback (most recent call last)",
      "\u001b[1;32m<ipython-input-11-d36d46db48ed>\u001b[0m in \u001b[0;36m<module>\u001b[1;34m\u001b[0m\n\u001b[0;32m     12\u001b[0m     \u001b[0mlower\u001b[0m \u001b[1;33m=\u001b[0m \u001b[0mmean\u001b[0m \u001b[1;33m-\u001b[0m \u001b[0msd\u001b[0m\u001b[1;33m*\u001b[0m\u001b[0mstdev\u001b[0m\u001b[1;33m\u001b[0m\u001b[1;33m\u001b[0m\u001b[0m\n\u001b[0;32m     13\u001b[0m \u001b[1;33m\u001b[0m\u001b[0m\n\u001b[1;32m---> 14\u001b[1;33m     \u001b[0mupper\u001b[0m\u001b[1;33m[\u001b[0m\u001b[0mupper\u001b[0m \u001b[1;33m>\u001b[0m \u001b[0mcondition\u001b[0m\u001b[1;33m.\u001b[0m\u001b[0mperfect\u001b[0m\u001b[1;33m]\u001b[0m \u001b[1;33m=\u001b[0m \u001b[0mcondition\u001b[0m\u001b[1;33m.\u001b[0m\u001b[0mperfect\u001b[0m\u001b[1;33m\u001b[0m\u001b[1;33m\u001b[0m\u001b[0m\n\u001b[0m\u001b[0;32m     15\u001b[0m     \u001b[0mlower\u001b[0m\u001b[1;33m[\u001b[0m\u001b[0mlower\u001b[0m \u001b[1;33m<\u001b[0m \u001b[0mcondition\u001b[0m\u001b[1;33m.\u001b[0m\u001b[0mfailed\u001b[0m\u001b[1;33m]\u001b[0m \u001b[1;33m=\u001b[0m \u001b[0mcondition\u001b[0m\u001b[1;33m.\u001b[0m\u001b[0mfailed\u001b[0m\u001b[1;33m\u001b[0m\u001b[1;33m\u001b[0m\u001b[0m\n\u001b[0;32m     16\u001b[0m \u001b[1;33m\u001b[0m\u001b[0m\n",
      "\u001b[1;31mTypeError\u001b[0m: 'numpy.float64' object does not support item assignment"
     ]
    }
   ],
   "source": [
    "fm = comp.fm['random']\n",
    "stdev = 1\n",
    "\n",
    "expected = dict()\n",
    "for cond_name, condition in fm.conditions.items():\n",
    "\n",
    "    ec = np.array([fm._timelines[x][cond_name] for x in fm._timelines])\n",
    "\n",
    "    mean = condition.perfect - ec.mean(axis=0)\n",
    "    sd = ec.std(axis=0)\n",
    "    upper = mean + sd*stdev\n",
    "    lower = mean - sd*stdev\n",
    "\n",
    "    upper[upper > condition.perfect] = condition.perfect\n",
    "    lower[lower < condition.failed] = condition.failed\n",
    "\n",
    "    expected[cond_name] = dict(\n",
    "        lower=lower,\n",
    "        mean=mean,\n",
    "        upper=upper,\n",
    "        sd=sd,\n",
    "            )"
   ]
  },
  {
   "cell_type": "code",
   "execution_count": 18,
   "metadata": {},
   "outputs": [
    {
     "data": {
      "text/plain": [
       "{}"
      ]
     },
     "execution_count": 18,
     "metadata": {},
     "output_type": "execute_result"
    }
   ],
   "source": [
    "fm.timeline"
   ]
  },
  {
   "cell_type": "code",
   "execution_count": 13,
   "metadata": {
    "tags": []
   },
   "outputs": [
    {
     "ename": "IndexError",
     "evalue": "arrays used as indices must be of integer (or boolean) type",
     "output_type": "error",
     "traceback": [
      "\u001b[1;31m---------------------------------------------------------------------------\u001b[0m",
      "\u001b[1;31mIndexError\u001b[0m                                Traceback (most recent call last)",
      "\u001b[1;32m<ipython-input-13-e6380c572f85>\u001b[0m in \u001b[0;36m<module>\u001b[1;34m\u001b[0m\n\u001b[0;32m     16\u001b[0m         \u001b[0mtask\u001b[0m \u001b[1;33m=\u001b[0m \u001b[0mnp\u001b[0m\u001b[1;33m.\u001b[0m\u001b[0mfull\u001b[0m\u001b[1;33m(\u001b[0m\u001b[0mn_time\u001b[0m\u001b[1;33m,\u001b[0m \u001b[0mtask\u001b[0m\u001b[1;33m)\u001b[0m\u001b[1;33m\u001b[0m\u001b[1;33m\u001b[0m\u001b[0m\n\u001b[0;32m     17\u001b[0m         \u001b[0mcost\u001b[0m \u001b[1;33m=\u001b[0m \u001b[0mnp\u001b[0m\u001b[1;33m.\u001b[0m\u001b[0mfull\u001b[0m\u001b[1;33m(\u001b[0m\u001b[0mn_time\u001b[0m\u001b[1;33m,\u001b[0m \u001b[1;36m0\u001b[0m\u001b[1;33m)\u001b[0m\u001b[1;33m\u001b[0m\u001b[1;33m\u001b[0m\u001b[0m\n\u001b[1;32m---> 18\u001b[1;33m         \u001b[0mcost\u001b[0m\u001b[1;33m[\u001b[0m\u001b[0mtask_values\u001b[0m\u001b[1;33m[\u001b[0m\u001b[1;34m'time'\u001b[0m\u001b[1;33m]\u001b[0m\u001b[1;33m]\u001b[0m \u001b[1;33m=\u001b[0m \u001b[0mtask_values\u001b[0m\u001b[1;33m[\u001b[0m\u001b[1;34m'cost'\u001b[0m\u001b[1;33m]\u001b[0m\u001b[1;33m\u001b[0m\u001b[1;33m\u001b[0m\u001b[0m\n\u001b[0m\u001b[0;32m     19\u001b[0m         \u001b[0mcumulative_cost\u001b[0m \u001b[1;33m=\u001b[0m \u001b[0mcost\u001b[0m\u001b[1;33m.\u001b[0m\u001b[0mcumsum\u001b[0m\u001b[1;33m(\u001b[0m\u001b[1;33m)\u001b[0m\u001b[1;33m\u001b[0m\u001b[1;33m\u001b[0m\u001b[0m\n\u001b[0;32m     20\u001b[0m \u001b[1;33m\u001b[0m\u001b[0m\n",
      "\u001b[1;31mIndexError\u001b[0m: arrays used as indices must be of integer (or boolean) type"
     ]
    }
   ],
   "source": [
    "n_time = 1001\n",
    "time = list(np.linspace(0,n_time - 1, n_time))\n",
    "\n",
    "failure_modes = []\n",
    "tasks = []\n",
    "times = []\n",
    "costs = []\n",
    "cumulative_costs = []\n",
    "\n",
    "n_fm = len(erc)\n",
    "\n",
    "for fm, fm_values in erc.items():\n",
    "\n",
    "    for task, task_values in fm_values.items():\n",
    "        failure_mode = np.full(n_time, fm)\n",
    "        task = np.full(n_time, task)\n",
    "        cost = np.full(n_time, 0)\n",
    "        cost[task_values['time']] = task_values['cost']\n",
    "        cumulative_cost = cost.cumsum()\n",
    "\n",
    "        failure_modes = np.append(failure_modes, failure_mode)\n",
    "        tasks = np.append(tasks, task)\n",
    "        costs = np.append(costs, cost)\n",
    "        times = np.append(times, time)\n",
    "        cumulative_costs = np.append(cumulative_costs, cumulative_cost)\n",
    "\n",
    "\n",
    "df = pd.DataFrame(\n",
    "    dict(\n",
    "        failure_mode=failure_modes,\n",
    "        task=tasks,\n",
    "        time=times,\n",
    "        cost=costs,\n",
    "        cumulative_cost=cumulative_costs,\n",
    "    )\n",
    ")"
   ]
  },
  {
   "cell_type": "code",
   "execution_count": 14,
   "metadata": {},
   "outputs": [
    {
     "ename": "NameError",
     "evalue": "name 'a' is not defined",
     "output_type": "error",
     "traceback": [
      "\u001b[1;31m---------------------------------------------------------------------------\u001b[0m",
      "\u001b[1;31mNameError\u001b[0m                                 Traceback (most recent call last)",
      "\u001b[1;32m<ipython-input-14-cb3359041f19>\u001b[0m in \u001b[0;36m<module>\u001b[1;34m\u001b[0m\n\u001b[0;32m      5\u001b[0m \u001b[0mcost\u001b[0m \u001b[1;33m=\u001b[0m \u001b[0mnp\u001b[0m\u001b[1;33m.\u001b[0m\u001b[0marray\u001b[0m\u001b[1;33m(\u001b[0m\u001b[0mdf\u001b[0m\u001b[1;33m[\u001b[0m\u001b[1;34m'cost'\u001b[0m\u001b[1;33m]\u001b[0m\u001b[1;33m.\u001b[0m\u001b[0mvalues\u001b[0m\u001b[1;33m.\u001b[0m\u001b[0mtolist\u001b[0m\u001b[1;33m(\u001b[0m\u001b[1;33m)\u001b[0m\u001b[1;33m)\u001b[0m\u001b[1;33m\u001b[0m\u001b[1;33m\u001b[0m\u001b[0m\n\u001b[0;32m      6\u001b[0m \u001b[0mfmt\u001b[0m \u001b[1;33m=\u001b[0m \u001b[0mnp\u001b[0m\u001b[1;33m.\u001b[0m\u001b[0mrepeat\u001b[0m\u001b[1;33m(\u001b[0m\u001b[0mdf\u001b[0m\u001b[1;33m[\u001b[0m\u001b[1;33m[\u001b[0m\u001b[1;34m'failure_mode'\u001b[0m\u001b[1;33m,\u001b[0m \u001b[1;34m'task'\u001b[0m\u001b[1;33m]\u001b[0m\u001b[1;33m]\u001b[0m\u001b[1;33m.\u001b[0m\u001b[0mto_numpy\u001b[0m\u001b[1;33m(\u001b[0m\u001b[1;33m)\u001b[0m\u001b[1;33m,\u001b[0m\u001b[0mn\u001b[0m\u001b[1;33m,\u001b[0m \u001b[0maxis\u001b[0m\u001b[1;33m=\u001b[0m\u001b[1;36m0\u001b[0m\u001b[1;33m)\u001b[0m\u001b[1;33m\u001b[0m\u001b[1;33m\u001b[0m\u001b[0m\n\u001b[1;32m----> 7\u001b[1;33m \u001b[0mpd\u001b[0m\u001b[1;33m.\u001b[0m\u001b[0mDataFrame\u001b[0m\u001b[1;33m(\u001b[0m\u001b[0mnp\u001b[0m\u001b[1;33m.\u001b[0m\u001b[0mcolumn_stack\u001b[0m\u001b[1;33m(\u001b[0m\u001b[1;33m(\u001b[0m\u001b[0ma\u001b[0m\u001b[1;33m,\u001b[0m \u001b[0mvals\u001b[0m\u001b[1;33m.\u001b[0m\u001b[0mravel\u001b[0m\u001b[1;33m(\u001b[0m\u001b[1;33m)\u001b[0m\u001b[1;33m)\u001b[0m\u001b[1;33m)\u001b[0m\u001b[1;33m,\u001b[0m \u001b[0mcolumns\u001b[0m\u001b[1;33m=\u001b[0m\u001b[0mdf\u001b[0m\u001b[1;33m.\u001b[0m\u001b[0mcolumns\u001b[0m\u001b[1;33m)\u001b[0m\u001b[1;33m\u001b[0m\u001b[1;33m\u001b[0m\u001b[0m\n\u001b[0m",
      "\u001b[1;31mNameError\u001b[0m: name 'a' is not defined"
     ]
    }
   ],
   "source": [
    "times = np.linspace(0,100,101, dtype=int)\n",
    "n=101\n",
    "\n",
    "time = np.array(df['time'].values.tolist())\n",
    "cost = np.array(df['cost'].values.tolist())\n",
    "fmt = np.repeat(df[['failure_mode', 'task']].to_numpy(),n, axis=0)\n",
    "pd.DataFrame(np.column_stack((a, vals.ravel())), columns=df.columns)"
   ]
  },
  {
   "cell_type": "code",
   "execution_count": 15,
   "metadata": {},
   "outputs": [
    {
     "ename": "AttributeError",
     "evalue": "'FailureMode' object has no attribute 'expected_cost'",
     "output_type": "error",
     "traceback": [
      "\u001b[1;31m---------------------------------------------------------------------------\u001b[0m",
      "\u001b[1;31mAttributeError\u001b[0m                            Traceback (most recent call last)",
      "\u001b[1;32m<ipython-input-15-87f5c7cf4c41>\u001b[0m in \u001b[0;36m<module>\u001b[1;34m\u001b[0m\n\u001b[1;32m----> 1\u001b[1;33m \u001b[0mprofile\u001b[0m \u001b[1;33m=\u001b[0m \u001b[0mcomp\u001b[0m\u001b[1;33m.\u001b[0m\u001b[0mfm\u001b[0m\u001b[1;33m[\u001b[0m\u001b[1;34m'random'\u001b[0m\u001b[1;33m]\u001b[0m\u001b[1;33m.\u001b[0m\u001b[0mexpected_cost\u001b[0m\u001b[1;33m(\u001b[0m\u001b[1;33m)\u001b[0m\u001b[1;33m\u001b[0m\u001b[1;33m\u001b[0m\u001b[0m\n\u001b[0m\u001b[0;32m      2\u001b[0m \u001b[0mprofile\u001b[0m\u001b[1;33m[\u001b[0m\u001b[1;34m'risk'\u001b[0m\u001b[1;33m]\u001b[0m \u001b[1;33m=\u001b[0m \u001b[0mcomp\u001b[0m\u001b[1;33m.\u001b[0m\u001b[0mfm\u001b[0m\u001b[1;33m[\u001b[0m\u001b[1;34m'random'\u001b[0m\u001b[1;33m]\u001b[0m\u001b[1;33m.\u001b[0m\u001b[0mexpected_risk\u001b[0m\u001b[1;33m(\u001b[0m\u001b[1;33m)\u001b[0m\u001b[1;33m\u001b[0m\u001b[1;33m\u001b[0m\u001b[0m\n",
      "\u001b[1;31mAttributeError\u001b[0m: 'FailureMode' object has no attribute 'expected_cost'"
     ]
    }
   ],
   "source": [
    "profile = comp.fm['random'].expected_cost()\n",
    "profile['risk'] = comp.fm['random'].expected_risk()"
   ]
  },
  {
   "cell_type": "code",
   "execution_count": 16,
   "metadata": {
    "tags": []
   },
   "outputs": [
    {
     "name": "stdout",
     "output_type": "stream",
     "text": [
      "27.6 ms ± 9.8 ms per loop (mean ± std. dev. of 7 runs, 10 loops each)\n"
     ]
    }
   ],
   "source": [
    "%timeit comp.fm['slow_aging'].expected_cost_df()"
   ]
  },
  {
   "cell_type": "code",
   "execution_count": 17,
   "metadata": {
    "tags": []
   },
   "outputs": [
    {
     "name": "stdout",
     "output_type": "stream",
     "text": [
      "3.79 ms ± 535 µs per loop (mean ± std. dev. of 7 runs, 100 loops each)\n"
     ]
    }
   ],
   "source": [
    "%timeit comp.fm['slow_aging'].expected_risk_cost_df()"
   ]
  },
  {
   "cell_type": "code",
   "execution_count": 18,
   "metadata": {},
   "outputs": [],
   "source": [
    "rc = comp.fm['slow_aging'].expected_risk_cost()"
   ]
  },
  {
   "cell_type": "code",
   "execution_count": 19,
   "metadata": {},
   "outputs": [],
   "source": [
    "new_index = pd.Index(np.arange(0, 200, 1), name=\"time\")\n",
    "\n",
    "t = rc['inspection']['time']\n",
    "c = rc['inspection']['cost']"
   ]
  },
  {
   "cell_type": "code",
   "execution_count": 20,
   "metadata": {},
   "outputs": [],
   "source": [
    "tc = dict(task=[], time=[], cost=[])\n",
    "\n",
    "for k, v in rc.items():\n",
    "    tc['task'] = np.append(tc['task'], np.full(len(v['time']), k))\n",
    "    for m in ['time', 'cost']:\n",
    "        time = tc[m]\n",
    "        \n",
    "        \n",
    "\n",
    "        tc[m] = np.append(tc[m], v[m])"
   ]
  },
  {
   "cell_type": "code",
   "execution_count": 33,
   "metadata": {},
   "outputs": [
    {
     "data": {
      "text/plain": [
       "array([ 0. , 50. , 50. , 50. , 50. , 50. , 50. , 50. , 50. , 50. , 50. ,\n",
       "       50. , 50. , 50. , 50. , 50. , 50. , 50. , 50. , 50. , 50. , 50. ,\n",
       "       50. , 50. , 50. , 50. , 50. , 50. , 50. , 50. , 50. , 50. , 50. ,\n",
       "       50. , 50. , 50. , 50. , 50. , 50. , 50. , 49.5])"
      ]
     },
     "execution_count": 33,
     "metadata": {},
     "output_type": "execute_result"
    }
   ],
   "source": []
  },
  {
   "cell_type": "code",
   "execution_count": 21,
   "metadata": {},
   "outputs": [],
   "source": [
    "df = comp.fm['random'].expected_risk_cost_df()\n",
    "df.index.name = 'task'\n",
    "df = df.reset_index()"
   ]
  },
  {
   "cell_type": "code",
   "execution_count": 22,
   "metadata": {
    "tags": []
   },
   "outputs": [],
   "source": [
    "df = comp.fm['slow_aging'].expected_risk_cost_df()"
   ]
  },
  {
   "cell_type": "code",
   "execution_count": 23,
   "metadata": {},
   "outputs": [
    {
     "ename": "SyntaxError",
     "evalue": "invalid syntax (<ipython-input-23-cdf092dcd93a>, line 7)",
     "output_type": "error",
     "traceback": [
      "\u001b[1;36m  File \u001b[1;32m\"<ipython-input-23-cdf092dcd93a>\"\u001b[1;36m, line \u001b[1;32m7\u001b[0m\n\u001b[1;33m    )\u001b[0m\n\u001b[1;37m    ^\u001b[0m\n\u001b[1;31mSyntaxError\u001b[0m\u001b[1;31m:\u001b[0m invalid syntax\n"
     ]
    }
   ],
   "source": [
    "\n",
    "px.line(\n",
    "    df.reset_index(),\n",
    "    x=\"time\",\n",
    "    y=\"cumulative_cost\",\n",
    "    color=\"task\",\n",
    "    line_group =\n",
    ")"
   ]
  },
  {
   "cell_type": "code",
   "execution_count": 9,
   "metadata": {},
   "outputs": [
    {
     "output_type": "execute_result",
     "data": {
      "text/plain": "{'early_life': <pof.failure_mode.FailureMode at 0x580e5c8>,\n 'slow_aging': <pof.failure_mode.FailureMode at 0x10463b08>,\n 'fast_aging': <pof.failure_mode.FailureMode at 0x1bfa5be0>}"
     },
     "metadata": {},
     "execution_count": 9
    }
   ],
   "source": [
    "comp = Component().demo()\n",
    "comp.fm"
   ]
  },
  {
   "cell_type": "code",
   "execution_count": 16,
   "metadata": {
    "tags": []
   },
   "outputs": [
    {
     "output_type": "stream",
     "name": "stderr",
     "text": "100%|██████████| 10/10 [00:00<00:00, 50.50it/s]\n100%|██████████| 10/10 [00:00<00:00, 60.96it/s]\n100%|██████████| 10/10 [00:00<00:00, 56.48it/s]\n100%|██████████| 10/10 [00:00<00:00, 75.19it/s]\n"
    }
   ],
   "source": [
    "df = comp.sensitivity(\"comp-fm-early_life-dists-untreated-alpha\", 0, 5)"
   ]
  },
  {
   "cell_type": "code",
   "execution_count": 17,
   "metadata": {},
   "outputs": [
    {
     "output_type": "execute_result",
     "data": {
      "text/plain": "   risk_cost  alpha  direct_cost   total\n1      55000      1        80500  135500\n2      30000      2        29445   59445\n3      19997      3        17108   37105\n4      15000      4        11305   26305",
      "text/html": "<div>\n<style scoped>\n    .dataframe tbody tr th:only-of-type {\n        vertical-align: middle;\n    }\n\n    .dataframe tbody tr th {\n        vertical-align: top;\n    }\n\n    .dataframe thead th {\n        text-align: right;\n    }\n</style>\n<table border=\"1\" class=\"dataframe\">\n  <thead>\n    <tr style=\"text-align: right;\">\n      <th></th>\n      <th>risk_cost</th>\n      <th>alpha</th>\n      <th>direct_cost</th>\n      <th>total</th>\n    </tr>\n  </thead>\n  <tbody>\n    <tr>\n      <th>1</th>\n      <td>55000</td>\n      <td>1</td>\n      <td>80500</td>\n      <td>135500</td>\n    </tr>\n    <tr>\n      <th>2</th>\n      <td>30000</td>\n      <td>2</td>\n      <td>29445</td>\n      <td>59445</td>\n    </tr>\n    <tr>\n      <th>3</th>\n      <td>19997</td>\n      <td>3</td>\n      <td>17108</td>\n      <td>37105</td>\n    </tr>\n    <tr>\n      <th>4</th>\n      <td>15000</td>\n      <td>4</td>\n      <td>11305</td>\n      <td>26305</td>\n    </tr>\n  </tbody>\n</table>\n</div>"
     },
     "metadata": {},
     "execution_count": 17
    }
   ],
   "source": [
    "df"
   ]
  },
  {
   "cell_type": "code",
   "execution_count": 18,
   "metadata": {
    "tags": []
   },
   "outputs": [
    {
     "output_type": "stream",
     "name": "stderr",
     "text": "100%|██████████| 10/10 [00:00<00:00, 53.76it/s]\n100%|██████████| 10/10 [00:00<00:00, 65.79it/s]\n100%|██████████| 10/10 [00:00<00:00, 68.96it/s]\n100%|██████████| 10/10 [00:00<00:00, 79.39it/s]\n100%|██████████| 10/10 [00:00<00:00, 73.57it/s]\n"
    }
   ],
   "source": [
    "df = comp.sensitivity(\"comp-fm-early_life-tasks-inspection-cost\", 50, 55)"
   ]
  },
  {
   "cell_type": "code",
   "execution_count": 19,
   "metadata": {},
   "outputs": [
    {
     "output_type": "execute_result",
     "data": {
      "text/plain": "    risk_cost  cost  direct_cost  total\n50      10000    50         9698  19698\n51       9164    51         9629  18793\n52       9282    52         6421  15703\n53       6875    53         4930  11805\n54       7217    54         5482  12699",
      "text/html": "<div>\n<style scoped>\n    .dataframe tbody tr th:only-of-type {\n        vertical-align: middle;\n    }\n\n    .dataframe tbody tr th {\n        vertical-align: top;\n    }\n\n    .dataframe thead th {\n        text-align: right;\n    }\n</style>\n<table border=\"1\" class=\"dataframe\">\n  <thead>\n    <tr style=\"text-align: right;\">\n      <th></th>\n      <th>risk_cost</th>\n      <th>cost</th>\n      <th>direct_cost</th>\n      <th>total</th>\n    </tr>\n  </thead>\n  <tbody>\n    <tr>\n      <th>50</th>\n      <td>10000</td>\n      <td>50</td>\n      <td>9698</td>\n      <td>19698</td>\n    </tr>\n    <tr>\n      <th>51</th>\n      <td>9164</td>\n      <td>51</td>\n      <td>9629</td>\n      <td>18793</td>\n    </tr>\n    <tr>\n      <th>52</th>\n      <td>9282</td>\n      <td>52</td>\n      <td>6421</td>\n      <td>15703</td>\n    </tr>\n    <tr>\n      <th>53</th>\n      <td>6875</td>\n      <td>53</td>\n      <td>4930</td>\n      <td>11805</td>\n    </tr>\n    <tr>\n      <th>54</th>\n      <td>7217</td>\n      <td>54</td>\n      <td>5482</td>\n      <td>12699</td>\n    </tr>\n  </tbody>\n</table>\n</div>"
     },
     "metadata": {},
     "execution_count": 19
    }
   ],
   "source": [
    "df"
   ]
  },
  {
   "cell_type": "code",
   "execution_count": 5,
   "metadata": {},
   "outputs": [],
   "source": [
    "import plotly.graph_objects as go\n",
    "\n",
    "def make_sensitivity_fig(local, var_name = \"comp-fm-early_life-tasks-inspection-cost\", lower=0, upper=10, step=1, n_iterations=10):\n",
    "    \n",
    "    var = var_name.split(\"-\")[-1]\n",
    "\n",
    "    try:\n",
    "        df = local.sensitivity(var_name = var_name, lower=lower, upper=upper, step=step, n_iterations=n_iterations\n",
    "        )\n",
    "        df_plot = df.melt(id_vars=var, var_name=\"source\", value_name=\"Cost\")\n",
    "        fig = px.line(\n",
    "            df_plot,\n",
    "            x=var,\n",
    "            y=\"Cost\",\n",
    "            color=\"source\",\n",
    "            title=\"Risk v Cost at different \" + var,\n",
    "        )\n",
    "    except:\n",
    "        fig = go.Figure(\n",
    "            layout=go.Layout(\n",
    "                title=go.layout.Title(text=\"Error Producing \" + var)\n",
    "            )\n",
    "        )\n",
    "\n",
    "    return fig"
   ]
  },
  {
   "cell_type": "code",
   "execution_count": 8,
   "metadata": {
    "tags": []
   },
   "outputs": [
    {
     "output_type": "stream",
     "name": "stderr",
     "text": "100%|██████████| 100/100 [00:01<00:00, 79.40it/s]\n100%|██████████| 100/100 [00:01<00:00, 75.01it/s]\n100%|██████████| 100/100 [00:01<00:00, 70.62it/s]\n100%|██████████| 100/100 [00:01<00:00, 73.18it/s]\n100%|██████████| 100/100 [00:01<00:00, 81.36it/s]\n100%|██████████| 100/100 [00:01<00:00, 75.30it/s]\n100%|██████████| 100/100 [00:01<00:00, 69.16it/s]\n100%|██████████| 100/100 [00:01<00:00, 69.56it/s]\n100%|██████████| 100/100 [00:01<00:00, 67.23it/s]\n100%|██████████| 100/100 [00:01<00:00, 72.51it/s]\n"
    }
   ],
   "source": [
    "var_name = \"comp-fm-early_life-tasks-inspection-cost\"\n",
    "var = var_name.split(\"-\")[-1]\n",
    "\n",
    "df = comp.sensitivity(var_name = var_name, lower=0, upper=1000, step=100, n_iterations=100)"
   ]
  },
  {
   "cell_type": "code",
   "execution_count": 7,
   "metadata": {},
   "outputs": [
    {
     "output_type": "execute_result",
     "data": {
      "text/plain": "{'early_life': <pof.failure_mode.FailureMode at 0x5e5e4a8>}"
     },
     "metadata": {},
     "execution_count": 7
    }
   ],
   "source": [
    "comp.fm.pop('fast_aging')\n",
    "comp.fm.pop('slow_aging')\n",
    "comp.fm.pop('random')\n",
    "comp.fm"
   ]
  },
  {
   "cell_type": "code",
   "execution_count": 10,
   "metadata": {
    "tags": []
   },
   "outputs": [
    {
     "output_type": "stream",
     "name": "stderr",
     "text": "100%|██████████| 100/100 [00:01<00:00, 84.40it/s]\n100%|██████████| 100/100 [00:01<00:00, 82.78it/s]\n100%|██████████| 100/100 [00:01<00:00, 89.14it/s]\n100%|██████████| 100/100 [00:01<00:00, 81.18it/s]\n100%|██████████| 100/100 [00:00<00:00, 108.69it/s]\n100%|██████████| 100/100 [00:00<00:00, 129.87it/s]\n100%|██████████| 100/100 [00:00<00:00, 150.63it/s]\n100%|██████████| 100/100 [00:01<00:00, 98.52it/s]\n100%|██████████| 100/100 [00:01<00:00, 89.19it/s]\n100%|██████████| 100/100 [00:01<00:00, 85.05it/s]\n"
    },
    {
     "output_type": "display_data",
     "data": {
      "application/vnd.plotly.v1+json": {
       "config": {
        "plotlyServerURL": "https://plot.ly"
       },
       "data": [
        {
         "hovertemplate": "source=direct_cost<br>cost=%{x}<br>Cost=%{y}<extra></extra>",
         "legendgroup": "direct_cost",
         "line": {
          "color": "#636efa",
          "dash": "solid"
         },
         "mode": "lines",
         "name": "direct_cost",
         "orientation": "v",
         "showlegend": true,
         "type": "scatter",
         "x": [
          1,
          101,
          201,
          301,
          401,
          501,
          601,
          701,
          801,
          901
         ],
         "xaxis": "x",
         "y": [
          0,
          164,
          303,
          423,
          520,
          620,
          702,
          762,
          842,
          904
         ],
         "yaxis": "y"
        },
        {
         "hovertemplate": "source=risk_cost<br>cost=%{x}<br>Cost=%{y}<extra></extra>",
         "legendgroup": "risk_cost",
         "line": {
          "color": "#EF553B",
          "dash": "solid"
         },
         "mode": "lines",
         "name": "risk_cost",
         "orientation": "v",
         "showlegend": true,
         "type": "scatter",
         "x": [
          1,
          101,
          201,
          301,
          401,
          501,
          601,
          701,
          801,
          901
         ],
         "xaxis": "x",
         "y": [
          0,
          41,
          38,
          35,
          0,
          0,
          29,
          27,
          26,
          50
         ],
         "yaxis": "y"
        },
        {
         "hovertemplate": "source=total<br>cost=%{x}<br>Cost=%{y}<extra></extra>",
         "legendgroup": "total",
         "line": {
          "color": "#00cc96",
          "dash": "solid"
         },
         "mode": "lines",
         "name": "total",
         "orientation": "v",
         "showlegend": true,
         "type": "scatter",
         "x": [
          1,
          101,
          201,
          301,
          401,
          501,
          601,
          701,
          801,
          901
         ],
         "xaxis": "x",
         "y": [
          0,
          205,
          341,
          458,
          520,
          620,
          731,
          789,
          868,
          954
         ],
         "yaxis": "y"
        }
       ],
       "layout": {
        "legend": {
         "title": {
          "text": "source"
         },
         "tracegroupgap": 0
        },
        "template": {
         "data": {
          "bar": [
           {
            "error_x": {
             "color": "#2a3f5f"
            },
            "error_y": {
             "color": "#2a3f5f"
            },
            "marker": {
             "line": {
              "color": "#E5ECF6",
              "width": 0.5
             }
            },
            "type": "bar"
           }
          ],
          "barpolar": [
           {
            "marker": {
             "line": {
              "color": "#E5ECF6",
              "width": 0.5
             }
            },
            "type": "barpolar"
           }
          ],
          "carpet": [
           {
            "aaxis": {
             "endlinecolor": "#2a3f5f",
             "gridcolor": "white",
             "linecolor": "white",
             "minorgridcolor": "white",
             "startlinecolor": "#2a3f5f"
            },
            "baxis": {
             "endlinecolor": "#2a3f5f",
             "gridcolor": "white",
             "linecolor": "white",
             "minorgridcolor": "white",
             "startlinecolor": "#2a3f5f"
            },
            "type": "carpet"
           }
          ],
          "choropleth": [
           {
            "colorbar": {
             "outlinewidth": 0,
             "ticks": ""
            },
            "type": "choropleth"
           }
          ],
          "contour": [
           {
            "colorbar": {
             "outlinewidth": 0,
             "ticks": ""
            },
            "colorscale": [
             [
              0,
              "#0d0887"
             ],
             [
              0.1111111111111111,
              "#46039f"
             ],
             [
              0.2222222222222222,
              "#7201a8"
             ],
             [
              0.3333333333333333,
              "#9c179e"
             ],
             [
              0.4444444444444444,
              "#bd3786"
             ],
             [
              0.5555555555555556,
              "#d8576b"
             ],
             [
              0.6666666666666666,
              "#ed7953"
             ],
             [
              0.7777777777777778,
              "#fb9f3a"
             ],
             [
              0.8888888888888888,
              "#fdca26"
             ],
             [
              1,
              "#f0f921"
             ]
            ],
            "type": "contour"
           }
          ],
          "contourcarpet": [
           {
            "colorbar": {
             "outlinewidth": 0,
             "ticks": ""
            },
            "type": "contourcarpet"
           }
          ],
          "heatmap": [
           {
            "colorbar": {
             "outlinewidth": 0,
             "ticks": ""
            },
            "colorscale": [
             [
              0,
              "#0d0887"
             ],
             [
              0.1111111111111111,
              "#46039f"
             ],
             [
              0.2222222222222222,
              "#7201a8"
             ],
             [
              0.3333333333333333,
              "#9c179e"
             ],
             [
              0.4444444444444444,
              "#bd3786"
             ],
             [
              0.5555555555555556,
              "#d8576b"
             ],
             [
              0.6666666666666666,
              "#ed7953"
             ],
             [
              0.7777777777777778,
              "#fb9f3a"
             ],
             [
              0.8888888888888888,
              "#fdca26"
             ],
             [
              1,
              "#f0f921"
             ]
            ],
            "type": "heatmap"
           }
          ],
          "heatmapgl": [
           {
            "colorbar": {
             "outlinewidth": 0,
             "ticks": ""
            },
            "colorscale": [
             [
              0,
              "#0d0887"
             ],
             [
              0.1111111111111111,
              "#46039f"
             ],
             [
              0.2222222222222222,
              "#7201a8"
             ],
             [
              0.3333333333333333,
              "#9c179e"
             ],
             [
              0.4444444444444444,
              "#bd3786"
             ],
             [
              0.5555555555555556,
              "#d8576b"
             ],
             [
              0.6666666666666666,
              "#ed7953"
             ],
             [
              0.7777777777777778,
              "#fb9f3a"
             ],
             [
              0.8888888888888888,
              "#fdca26"
             ],
             [
              1,
              "#f0f921"
             ]
            ],
            "type": "heatmapgl"
           }
          ],
          "histogram": [
           {
            "marker": {
             "colorbar": {
              "outlinewidth": 0,
              "ticks": ""
             }
            },
            "type": "histogram"
           }
          ],
          "histogram2d": [
           {
            "colorbar": {
             "outlinewidth": 0,
             "ticks": ""
            },
            "colorscale": [
             [
              0,
              "#0d0887"
             ],
             [
              0.1111111111111111,
              "#46039f"
             ],
             [
              0.2222222222222222,
              "#7201a8"
             ],
             [
              0.3333333333333333,
              "#9c179e"
             ],
             [
              0.4444444444444444,
              "#bd3786"
             ],
             [
              0.5555555555555556,
              "#d8576b"
             ],
             [
              0.6666666666666666,
              "#ed7953"
             ],
             [
              0.7777777777777778,
              "#fb9f3a"
             ],
             [
              0.8888888888888888,
              "#fdca26"
             ],
             [
              1,
              "#f0f921"
             ]
            ],
            "type": "histogram2d"
           }
          ],
          "histogram2dcontour": [
           {
            "colorbar": {
             "outlinewidth": 0,
             "ticks": ""
            },
            "colorscale": [
             [
              0,
              "#0d0887"
             ],
             [
              0.1111111111111111,
              "#46039f"
             ],
             [
              0.2222222222222222,
              "#7201a8"
             ],
             [
              0.3333333333333333,
              "#9c179e"
             ],
             [
              0.4444444444444444,
              "#bd3786"
             ],
             [
              0.5555555555555556,
              "#d8576b"
             ],
             [
              0.6666666666666666,
              "#ed7953"
             ],
             [
              0.7777777777777778,
              "#fb9f3a"
             ],
             [
              0.8888888888888888,
              "#fdca26"
             ],
             [
              1,
              "#f0f921"
             ]
            ],
            "type": "histogram2dcontour"
           }
          ],
          "mesh3d": [
           {
            "colorbar": {
             "outlinewidth": 0,
             "ticks": ""
            },
            "type": "mesh3d"
           }
          ],
          "parcoords": [
           {
            "line": {
             "colorbar": {
              "outlinewidth": 0,
              "ticks": ""
             }
            },
            "type": "parcoords"
           }
          ],
          "pie": [
           {
            "automargin": true,
            "type": "pie"
           }
          ],
          "scatter": [
           {
            "marker": {
             "colorbar": {
              "outlinewidth": 0,
              "ticks": ""
             }
            },
            "type": "scatter"
           }
          ],
          "scatter3d": [
           {
            "line": {
             "colorbar": {
              "outlinewidth": 0,
              "ticks": ""
             }
            },
            "marker": {
             "colorbar": {
              "outlinewidth": 0,
              "ticks": ""
             }
            },
            "type": "scatter3d"
           }
          ],
          "scattercarpet": [
           {
            "marker": {
             "colorbar": {
              "outlinewidth": 0,
              "ticks": ""
             }
            },
            "type": "scattercarpet"
           }
          ],
          "scattergeo": [
           {
            "marker": {
             "colorbar": {
              "outlinewidth": 0,
              "ticks": ""
             }
            },
            "type": "scattergeo"
           }
          ],
          "scattergl": [
           {
            "marker": {
             "colorbar": {
              "outlinewidth": 0,
              "ticks": ""
             }
            },
            "type": "scattergl"
           }
          ],
          "scattermapbox": [
           {
            "marker": {
             "colorbar": {
              "outlinewidth": 0,
              "ticks": ""
             }
            },
            "type": "scattermapbox"
           }
          ],
          "scatterpolar": [
           {
            "marker": {
             "colorbar": {
              "outlinewidth": 0,
              "ticks": ""
             }
            },
            "type": "scatterpolar"
           }
          ],
          "scatterpolargl": [
           {
            "marker": {
             "colorbar": {
              "outlinewidth": 0,
              "ticks": ""
             }
            },
            "type": "scatterpolargl"
           }
          ],
          "scatterternary": [
           {
            "marker": {
             "colorbar": {
              "outlinewidth": 0,
              "ticks": ""
             }
            },
            "type": "scatterternary"
           }
          ],
          "surface": [
           {
            "colorbar": {
             "outlinewidth": 0,
             "ticks": ""
            },
            "colorscale": [
             [
              0,
              "#0d0887"
             ],
             [
              0.1111111111111111,
              "#46039f"
             ],
             [
              0.2222222222222222,
              "#7201a8"
             ],
             [
              0.3333333333333333,
              "#9c179e"
             ],
             [
              0.4444444444444444,
              "#bd3786"
             ],
             [
              0.5555555555555556,
              "#d8576b"
             ],
             [
              0.6666666666666666,
              "#ed7953"
             ],
             [
              0.7777777777777778,
              "#fb9f3a"
             ],
             [
              0.8888888888888888,
              "#fdca26"
             ],
             [
              1,
              "#f0f921"
             ]
            ],
            "type": "surface"
           }
          ],
          "table": [
           {
            "cells": {
             "fill": {
              "color": "#EBF0F8"
             },
             "line": {
              "color": "white"
             }
            },
            "header": {
             "fill": {
              "color": "#C8D4E3"
             },
             "line": {
              "color": "white"
             }
            },
            "type": "table"
           }
          ]
         },
         "layout": {
          "annotationdefaults": {
           "arrowcolor": "#2a3f5f",
           "arrowhead": 0,
           "arrowwidth": 1
          },
          "coloraxis": {
           "colorbar": {
            "outlinewidth": 0,
            "ticks": ""
           }
          },
          "colorscale": {
           "diverging": [
            [
             0,
             "#8e0152"
            ],
            [
             0.1,
             "#c51b7d"
            ],
            [
             0.2,
             "#de77ae"
            ],
            [
             0.3,
             "#f1b6da"
            ],
            [
             0.4,
             "#fde0ef"
            ],
            [
             0.5,
             "#f7f7f7"
            ],
            [
             0.6,
             "#e6f5d0"
            ],
            [
             0.7,
             "#b8e186"
            ],
            [
             0.8,
             "#7fbc41"
            ],
            [
             0.9,
             "#4d9221"
            ],
            [
             1,
             "#276419"
            ]
           ],
           "sequential": [
            [
             0,
             "#0d0887"
            ],
            [
             0.1111111111111111,
             "#46039f"
            ],
            [
             0.2222222222222222,
             "#7201a8"
            ],
            [
             0.3333333333333333,
             "#9c179e"
            ],
            [
             0.4444444444444444,
             "#bd3786"
            ],
            [
             0.5555555555555556,
             "#d8576b"
            ],
            [
             0.6666666666666666,
             "#ed7953"
            ],
            [
             0.7777777777777778,
             "#fb9f3a"
            ],
            [
             0.8888888888888888,
             "#fdca26"
            ],
            [
             1,
             "#f0f921"
            ]
           ],
           "sequentialminus": [
            [
             0,
             "#0d0887"
            ],
            [
             0.1111111111111111,
             "#46039f"
            ],
            [
             0.2222222222222222,
             "#7201a8"
            ],
            [
             0.3333333333333333,
             "#9c179e"
            ],
            [
             0.4444444444444444,
             "#bd3786"
            ],
            [
             0.5555555555555556,
             "#d8576b"
            ],
            [
             0.6666666666666666,
             "#ed7953"
            ],
            [
             0.7777777777777778,
             "#fb9f3a"
            ],
            [
             0.8888888888888888,
             "#fdca26"
            ],
            [
             1,
             "#f0f921"
            ]
           ]
          },
          "colorway": [
           "#636efa",
           "#EF553B",
           "#00cc96",
           "#ab63fa",
           "#FFA15A",
           "#19d3f3",
           "#FF6692",
           "#B6E880",
           "#FF97FF",
           "#FECB52"
          ],
          "font": {
           "color": "#2a3f5f"
          },
          "geo": {
           "bgcolor": "white",
           "lakecolor": "white",
           "landcolor": "#E5ECF6",
           "showlakes": true,
           "showland": true,
           "subunitcolor": "white"
          },
          "hoverlabel": {
           "align": "left"
          },
          "hovermode": "closest",
          "mapbox": {
           "style": "light"
          },
          "paper_bgcolor": "white",
          "plot_bgcolor": "#E5ECF6",
          "polar": {
           "angularaxis": {
            "gridcolor": "white",
            "linecolor": "white",
            "ticks": ""
           },
           "bgcolor": "#E5ECF6",
           "radialaxis": {
            "gridcolor": "white",
            "linecolor": "white",
            "ticks": ""
           }
          },
          "scene": {
           "xaxis": {
            "backgroundcolor": "#E5ECF6",
            "gridcolor": "white",
            "gridwidth": 2,
            "linecolor": "white",
            "showbackground": true,
            "ticks": "",
            "zerolinecolor": "white"
           },
           "yaxis": {
            "backgroundcolor": "#E5ECF6",
            "gridcolor": "white",
            "gridwidth": 2,
            "linecolor": "white",
            "showbackground": true,
            "ticks": "",
            "zerolinecolor": "white"
           },
           "zaxis": {
            "backgroundcolor": "#E5ECF6",
            "gridcolor": "white",
            "gridwidth": 2,
            "linecolor": "white",
            "showbackground": true,
            "ticks": "",
            "zerolinecolor": "white"
           }
          },
          "shapedefaults": {
           "line": {
            "color": "#2a3f5f"
           }
          },
          "ternary": {
           "aaxis": {
            "gridcolor": "white",
            "linecolor": "white",
            "ticks": ""
           },
           "baxis": {
            "gridcolor": "white",
            "linecolor": "white",
            "ticks": ""
           },
           "bgcolor": "#E5ECF6",
           "caxis": {
            "gridcolor": "white",
            "linecolor": "white",
            "ticks": ""
           }
          },
          "title": {
           "x": 0.05
          },
          "xaxis": {
           "automargin": true,
           "gridcolor": "white",
           "linecolor": "white",
           "ticks": "",
           "title": {
            "standoff": 15
           },
           "zerolinecolor": "white",
           "zerolinewidth": 2
          },
          "yaxis": {
           "automargin": true,
           "gridcolor": "white",
           "linecolor": "white",
           "ticks": "",
           "title": {
            "standoff": 15
           },
           "zerolinecolor": "white",
           "zerolinewidth": 2
          }
         }
        },
        "title": {
         "text": "Risk v Cost at different cost"
        },
        "xaxis": {
         "anchor": "y",
         "domain": [
          0,
          1
         ],
         "title": {
          "text": "cost"
         }
        },
        "yaxis": {
         "anchor": "x",
         "domain": [
          0,
          1
         ],
         "title": {
          "text": "Cost"
         }
        }
       }
      }
     },
     "metadata": {}
    }
   ],
   "source": [
    "#only early_life\n",
    "fig = make_sensitivity_fig(comp, var_name = \"comp-fm-early_life-tasks-inspection-cost\", lower=0, upper=1000, step=100, n_iterations=100)\n",
    "fig.show()"
   ]
  },
  {
   "cell_type": "code",
   "execution_count": 4,
   "metadata": {},
   "outputs": [
    {
     "output_type": "execute_result",
     "data": {
      "text/plain": "{'early_life': <pof.failure_mode.FailureMode at 0x591e5c8>,\n 'fast_aging': <pof.failure_mode.FailureMode at 0x1be83b20>}"
     },
     "metadata": {},
     "execution_count": 4
    }
   ],
   "source": [
    "comp.fm.pop('slow_aging')\n",
    "comp.fm.pop('random')\n",
    "comp.fm"
   ]
  },
  {
   "cell_type": "code",
   "execution_count": 5,
   "metadata": {
    "tags": []
   },
   "outputs": [
    {
     "output_type": "stream",
     "name": "stderr",
     "text": "100%|██████████| 100/100 [00:00<00:00, 209.03it/s]\n100%|██████████| 100/100 [00:00<00:00, 204.08it/s]\n100%|██████████| 100/100 [00:00<00:00, 210.97it/s]\n100%|██████████| 100/100 [00:00<00:00, 213.22it/s]\n100%|██████████| 100/100 [00:00<00:00, 208.33it/s]\n100%|██████████| 100/100 [00:00<00:00, 200.00it/s]\n100%|██████████| 100/100 [00:00<00:00, 196.85it/s]\n100%|██████████| 100/100 [00:00<00:00, 207.90it/s]\n100%|██████████| 100/100 [00:00<00:00, 209.63it/s]\n100%|██████████| 100/100 [00:00<00:00, 217.38it/s]\n"
    },
    {
     "output_type": "display_data",
     "data": {
      "application/vnd.plotly.v1+json": {
       "config": {
        "plotlyServerURL": "https://plot.ly"
       },
       "data": [
        {
         "hovertemplate": "source=direct_cost<br>cost=%{x}<br>Cost=%{y}<extra></extra>",
         "legendgroup": "direct_cost",
         "line": {
          "color": "#636efa",
          "dash": "solid"
         },
         "mode": "lines",
         "name": "direct_cost",
         "orientation": "v",
         "showlegend": true,
         "type": "scatter",
         "x": [
          1,
          101,
          201,
          301,
          401,
          501,
          601,
          701,
          801,
          901
         ],
         "xaxis": "x",
         "y": [
          1190,
          1612,
          1713,
          1767,
          1833,
          1842,
          1841,
          1859,
          1921,
          1910
         ],
         "yaxis": "y"
        },
        {
         "hovertemplate": "source=risk_cost<br>cost=%{x}<br>Cost=%{y}<extra></extra>",
         "legendgroup": "risk_cost",
         "line": {
          "color": "#EF553B",
          "dash": "solid"
         },
         "mode": "lines",
         "name": "risk_cost",
         "orientation": "v",
         "showlegend": true,
         "type": "scatter",
         "x": [
          1,
          101,
          201,
          301,
          401,
          501,
          601,
          701,
          801,
          901
         ],
         "xaxis": "x",
         "y": [
          2000,
          1500,
          830,
          250,
          400,
          249,
          284,
          373,
          386,
          250
         ],
         "yaxis": "y"
        },
        {
         "hovertemplate": "source=total<br>cost=%{x}<br>Cost=%{y}<extra></extra>",
         "legendgroup": "total",
         "line": {
          "color": "#00cc96",
          "dash": "solid"
         },
         "mode": "lines",
         "name": "total",
         "orientation": "v",
         "showlegend": true,
         "type": "scatter",
         "x": [
          1,
          101,
          201,
          301,
          401,
          501,
          601,
          701,
          801,
          901
         ],
         "xaxis": "x",
         "y": [
          3190,
          3112,
          2543,
          2017,
          2233,
          2091,
          2125,
          2232,
          2307,
          2160
         ],
         "yaxis": "y"
        }
       ],
       "layout": {
        "legend": {
         "title": {
          "text": "source"
         },
         "tracegroupgap": 0
        },
        "template": {
         "data": {
          "bar": [
           {
            "error_x": {
             "color": "#2a3f5f"
            },
            "error_y": {
             "color": "#2a3f5f"
            },
            "marker": {
             "line": {
              "color": "#E5ECF6",
              "width": 0.5
             }
            },
            "type": "bar"
           }
          ],
          "barpolar": [
           {
            "marker": {
             "line": {
              "color": "#E5ECF6",
              "width": 0.5
             }
            },
            "type": "barpolar"
           }
          ],
          "carpet": [
           {
            "aaxis": {
             "endlinecolor": "#2a3f5f",
             "gridcolor": "white",
             "linecolor": "white",
             "minorgridcolor": "white",
             "startlinecolor": "#2a3f5f"
            },
            "baxis": {
             "endlinecolor": "#2a3f5f",
             "gridcolor": "white",
             "linecolor": "white",
             "minorgridcolor": "white",
             "startlinecolor": "#2a3f5f"
            },
            "type": "carpet"
           }
          ],
          "choropleth": [
           {
            "colorbar": {
             "outlinewidth": 0,
             "ticks": ""
            },
            "type": "choropleth"
           }
          ],
          "contour": [
           {
            "colorbar": {
             "outlinewidth": 0,
             "ticks": ""
            },
            "colorscale": [
             [
              0,
              "#0d0887"
             ],
             [
              0.1111111111111111,
              "#46039f"
             ],
             [
              0.2222222222222222,
              "#7201a8"
             ],
             [
              0.3333333333333333,
              "#9c179e"
             ],
             [
              0.4444444444444444,
              "#bd3786"
             ],
             [
              0.5555555555555556,
              "#d8576b"
             ],
             [
              0.6666666666666666,
              "#ed7953"
             ],
             [
              0.7777777777777778,
              "#fb9f3a"
             ],
             [
              0.8888888888888888,
              "#fdca26"
             ],
             [
              1,
              "#f0f921"
             ]
            ],
            "type": "contour"
           }
          ],
          "contourcarpet": [
           {
            "colorbar": {
             "outlinewidth": 0,
             "ticks": ""
            },
            "type": "contourcarpet"
           }
          ],
          "heatmap": [
           {
            "colorbar": {
             "outlinewidth": 0,
             "ticks": ""
            },
            "colorscale": [
             [
              0,
              "#0d0887"
             ],
             [
              0.1111111111111111,
              "#46039f"
             ],
             [
              0.2222222222222222,
              "#7201a8"
             ],
             [
              0.3333333333333333,
              "#9c179e"
             ],
             [
              0.4444444444444444,
              "#bd3786"
             ],
             [
              0.5555555555555556,
              "#d8576b"
             ],
             [
              0.6666666666666666,
              "#ed7953"
             ],
             [
              0.7777777777777778,
              "#fb9f3a"
             ],
             [
              0.8888888888888888,
              "#fdca26"
             ],
             [
              1,
              "#f0f921"
             ]
            ],
            "type": "heatmap"
           }
          ],
          "heatmapgl": [
           {
            "colorbar": {
             "outlinewidth": 0,
             "ticks": ""
            },
            "colorscale": [
             [
              0,
              "#0d0887"
             ],
             [
              0.1111111111111111,
              "#46039f"
             ],
             [
              0.2222222222222222,
              "#7201a8"
             ],
             [
              0.3333333333333333,
              "#9c179e"
             ],
             [
              0.4444444444444444,
              "#bd3786"
             ],
             [
              0.5555555555555556,
              "#d8576b"
             ],
             [
              0.6666666666666666,
              "#ed7953"
             ],
             [
              0.7777777777777778,
              "#fb9f3a"
             ],
             [
              0.8888888888888888,
              "#fdca26"
             ],
             [
              1,
              "#f0f921"
             ]
            ],
            "type": "heatmapgl"
           }
          ],
          "histogram": [
           {
            "marker": {
             "colorbar": {
              "outlinewidth": 0,
              "ticks": ""
             }
            },
            "type": "histogram"
           }
          ],
          "histogram2d": [
           {
            "colorbar": {
             "outlinewidth": 0,
             "ticks": ""
            },
            "colorscale": [
             [
              0,
              "#0d0887"
             ],
             [
              0.1111111111111111,
              "#46039f"
             ],
             [
              0.2222222222222222,
              "#7201a8"
             ],
             [
              0.3333333333333333,
              "#9c179e"
             ],
             [
              0.4444444444444444,
              "#bd3786"
             ],
             [
              0.5555555555555556,
              "#d8576b"
             ],
             [
              0.6666666666666666,
              "#ed7953"
             ],
             [
              0.7777777777777778,
              "#fb9f3a"
             ],
             [
              0.8888888888888888,
              "#fdca26"
             ],
             [
              1,
              "#f0f921"
             ]
            ],
            "type": "histogram2d"
           }
          ],
          "histogram2dcontour": [
           {
            "colorbar": {
             "outlinewidth": 0,
             "ticks": ""
            },
            "colorscale": [
             [
              0,
              "#0d0887"
             ],
             [
              0.1111111111111111,
              "#46039f"
             ],
             [
              0.2222222222222222,
              "#7201a8"
             ],
             [
              0.3333333333333333,
              "#9c179e"
             ],
             [
              0.4444444444444444,
              "#bd3786"
             ],
             [
              0.5555555555555556,
              "#d8576b"
             ],
             [
              0.6666666666666666,
              "#ed7953"
             ],
             [
              0.7777777777777778,
              "#fb9f3a"
             ],
             [
              0.8888888888888888,
              "#fdca26"
             ],
             [
              1,
              "#f0f921"
             ]
            ],
            "type": "histogram2dcontour"
           }
          ],
          "mesh3d": [
           {
            "colorbar": {
             "outlinewidth": 0,
             "ticks": ""
            },
            "type": "mesh3d"
           }
          ],
          "parcoords": [
           {
            "line": {
             "colorbar": {
              "outlinewidth": 0,
              "ticks": ""
             }
            },
            "type": "parcoords"
           }
          ],
          "pie": [
           {
            "automargin": true,
            "type": "pie"
           }
          ],
          "scatter": [
           {
            "marker": {
             "colorbar": {
              "outlinewidth": 0,
              "ticks": ""
             }
            },
            "type": "scatter"
           }
          ],
          "scatter3d": [
           {
            "line": {
             "colorbar": {
              "outlinewidth": 0,
              "ticks": ""
             }
            },
            "marker": {
             "colorbar": {
              "outlinewidth": 0,
              "ticks": ""
             }
            },
            "type": "scatter3d"
           }
          ],
          "scattercarpet": [
           {
            "marker": {
             "colorbar": {
              "outlinewidth": 0,
              "ticks": ""
             }
            },
            "type": "scattercarpet"
           }
          ],
          "scattergeo": [
           {
            "marker": {
             "colorbar": {
              "outlinewidth": 0,
              "ticks": ""
             }
            },
            "type": "scattergeo"
           }
          ],
          "scattergl": [
           {
            "marker": {
             "colorbar": {
              "outlinewidth": 0,
              "ticks": ""
             }
            },
            "type": "scattergl"
           }
          ],
          "scattermapbox": [
           {
            "marker": {
             "colorbar": {
              "outlinewidth": 0,
              "ticks": ""
             }
            },
            "type": "scattermapbox"
           }
          ],
          "scatterpolar": [
           {
            "marker": {
             "colorbar": {
              "outlinewidth": 0,
              "ticks": ""
             }
            },
            "type": "scatterpolar"
           }
          ],
          "scatterpolargl": [
           {
            "marker": {
             "colorbar": {
              "outlinewidth": 0,
              "ticks": ""
             }
            },
            "type": "scatterpolargl"
           }
          ],
          "scatterternary": [
           {
            "marker": {
             "colorbar": {
              "outlinewidth": 0,
              "ticks": ""
             }
            },
            "type": "scatterternary"
           }
          ],
          "surface": [
           {
            "colorbar": {
             "outlinewidth": 0,
             "ticks": ""
            },
            "colorscale": [
             [
              0,
              "#0d0887"
             ],
             [
              0.1111111111111111,
              "#46039f"
             ],
             [
              0.2222222222222222,
              "#7201a8"
             ],
             [
              0.3333333333333333,
              "#9c179e"
             ],
             [
              0.4444444444444444,
              "#bd3786"
             ],
             [
              0.5555555555555556,
              "#d8576b"
             ],
             [
              0.6666666666666666,
              "#ed7953"
             ],
             [
              0.7777777777777778,
              "#fb9f3a"
             ],
             [
              0.8888888888888888,
              "#fdca26"
             ],
             [
              1,
              "#f0f921"
             ]
            ],
            "type": "surface"
           }
          ],
          "table": [
           {
            "cells": {
             "fill": {
              "color": "#EBF0F8"
             },
             "line": {
              "color": "white"
             }
            },
            "header": {
             "fill": {
              "color": "#C8D4E3"
             },
             "line": {
              "color": "white"
             }
            },
            "type": "table"
           }
          ]
         },
         "layout": {
          "annotationdefaults": {
           "arrowcolor": "#2a3f5f",
           "arrowhead": 0,
           "arrowwidth": 1
          },
          "coloraxis": {
           "colorbar": {
            "outlinewidth": 0,
            "ticks": ""
           }
          },
          "colorscale": {
           "diverging": [
            [
             0,
             "#8e0152"
            ],
            [
             0.1,
             "#c51b7d"
            ],
            [
             0.2,
             "#de77ae"
            ],
            [
             0.3,
             "#f1b6da"
            ],
            [
             0.4,
             "#fde0ef"
            ],
            [
             0.5,
             "#f7f7f7"
            ],
            [
             0.6,
             "#e6f5d0"
            ],
            [
             0.7,
             "#b8e186"
            ],
            [
             0.8,
             "#7fbc41"
            ],
            [
             0.9,
             "#4d9221"
            ],
            [
             1,
             "#276419"
            ]
           ],
           "sequential": [
            [
             0,
             "#0d0887"
            ],
            [
             0.1111111111111111,
             "#46039f"
            ],
            [
             0.2222222222222222,
             "#7201a8"
            ],
            [
             0.3333333333333333,
             "#9c179e"
            ],
            [
             0.4444444444444444,
             "#bd3786"
            ],
            [
             0.5555555555555556,
             "#d8576b"
            ],
            [
             0.6666666666666666,
             "#ed7953"
            ],
            [
             0.7777777777777778,
             "#fb9f3a"
            ],
            [
             0.8888888888888888,
             "#fdca26"
            ],
            [
             1,
             "#f0f921"
            ]
           ],
           "sequentialminus": [
            [
             0,
             "#0d0887"
            ],
            [
             0.1111111111111111,
             "#46039f"
            ],
            [
             0.2222222222222222,
             "#7201a8"
            ],
            [
             0.3333333333333333,
             "#9c179e"
            ],
            [
             0.4444444444444444,
             "#bd3786"
            ],
            [
             0.5555555555555556,
             "#d8576b"
            ],
            [
             0.6666666666666666,
             "#ed7953"
            ],
            [
             0.7777777777777778,
             "#fb9f3a"
            ],
            [
             0.8888888888888888,
             "#fdca26"
            ],
            [
             1,
             "#f0f921"
            ]
           ]
          },
          "colorway": [
           "#636efa",
           "#EF553B",
           "#00cc96",
           "#ab63fa",
           "#FFA15A",
           "#19d3f3",
           "#FF6692",
           "#B6E880",
           "#FF97FF",
           "#FECB52"
          ],
          "font": {
           "color": "#2a3f5f"
          },
          "geo": {
           "bgcolor": "white",
           "lakecolor": "white",
           "landcolor": "#E5ECF6",
           "showlakes": true,
           "showland": true,
           "subunitcolor": "white"
          },
          "hoverlabel": {
           "align": "left"
          },
          "hovermode": "closest",
          "mapbox": {
           "style": "light"
          },
          "paper_bgcolor": "white",
          "plot_bgcolor": "#E5ECF6",
          "polar": {
           "angularaxis": {
            "gridcolor": "white",
            "linecolor": "white",
            "ticks": ""
           },
           "bgcolor": "#E5ECF6",
           "radialaxis": {
            "gridcolor": "white",
            "linecolor": "white",
            "ticks": ""
           }
          },
          "scene": {
           "xaxis": {
            "backgroundcolor": "#E5ECF6",
            "gridcolor": "white",
            "gridwidth": 2,
            "linecolor": "white",
            "showbackground": true,
            "ticks": "",
            "zerolinecolor": "white"
           },
           "yaxis": {
            "backgroundcolor": "#E5ECF6",
            "gridcolor": "white",
            "gridwidth": 2,
            "linecolor": "white",
            "showbackground": true,
            "ticks": "",
            "zerolinecolor": "white"
           },
           "zaxis": {
            "backgroundcolor": "#E5ECF6",
            "gridcolor": "white",
            "gridwidth": 2,
            "linecolor": "white",
            "showbackground": true,
            "ticks": "",
            "zerolinecolor": "white"
           }
          },
          "shapedefaults": {
           "line": {
            "color": "#2a3f5f"
           }
          },
          "ternary": {
           "aaxis": {
            "gridcolor": "white",
            "linecolor": "white",
            "ticks": ""
           },
           "baxis": {
            "gridcolor": "white",
            "linecolor": "white",
            "ticks": ""
           },
           "bgcolor": "#E5ECF6",
           "caxis": {
            "gridcolor": "white",
            "linecolor": "white",
            "ticks": ""
           }
          },
          "title": {
           "x": 0.05
          },
          "xaxis": {
           "automargin": true,
           "gridcolor": "white",
           "linecolor": "white",
           "ticks": "",
           "title": {
            "standoff": 15
           },
           "zerolinecolor": "white",
           "zerolinewidth": 2
          },
          "yaxis": {
           "automargin": true,
           "gridcolor": "white",
           "linecolor": "white",
           "ticks": "",
           "title": {
            "standoff": 15
           },
           "zerolinecolor": "white",
           "zerolinewidth": 2
          }
         }
        },
        "title": {
         "text": "Risk v Cost at different cost"
        },
        "xaxis": {
         "anchor": "y",
         "domain": [
          0,
          1
         ],
         "title": {
          "text": "cost"
         }
        },
        "yaxis": {
         "anchor": "x",
         "domain": [
          0,
          1
         ],
         "title": {
          "text": "Cost"
         }
        }
       }
      }
     },
     "metadata": {}
    }
   ],
   "source": [
    "#early_life + fast_aging\n",
    "fig = make_sensitivity_fig(comp, var_name = \"comp-fm-early_life-tasks-inspection-cost\", lower=0, upper=1000, step=100, n_iterations=100)\n",
    "fig.show()"
   ]
  },
  {
   "cell_type": "code",
   "execution_count": 2,
   "metadata": {},
   "outputs": [
    {
     "output_type": "execute_result",
     "data": {
      "text/plain": "{'early_life': <pof.failure_mode.FailureMode at 0x580e5c8>,\n 'random': <pof.failure_mode.FailureMode at 0x580e0d0>,\n 'slow_aging': <pof.failure_mode.FailureMode at 0x10463b08>,\n 'fast_aging': <pof.failure_mode.FailureMode at 0x1bfa5be0>}"
     },
     "metadata": {},
     "execution_count": 2
    }
   ],
   "source": [
    "comp = Component().demo()\n",
    "comp.fm"
   ]
  },
  {
   "cell_type": "code",
   "execution_count": 3,
   "metadata": {},
   "outputs": [
    {
     "output_type": "execute_result",
     "data": {
      "text/plain": "{'early_life': <pof.failure_mode.FailureMode at 0x580e5c8>,\n 'slow_aging': <pof.failure_mode.FailureMode at 0x10463b08>,\n 'fast_aging': <pof.failure_mode.FailureMode at 0x1bfa5be0>}"
     },
     "metadata": {},
     "execution_count": 3
    }
   ],
   "source": [
    "comp.fm.pop('random')\n",
    "comp.fm"
   ]
  },
  {
   "cell_type": "code",
   "execution_count": 7,
   "metadata": {
    "tags": []
   },
   "outputs": [
    {
     "output_type": "stream",
     "name": "stderr",
     "text": "100%|██████████| 100/100 [00:01<00:00, 80.00it/s]\n100%|██████████| 100/100 [00:01<00:00, 84.68it/s]\n100%|██████████| 100/100 [00:00<00:00, 107.30it/s]\n100%|██████████| 100/100 [00:01<00:00, 97.94it/s]\n100%|██████████| 100/100 [00:00<00:00, 106.72it/s]\n100%|██████████| 100/100 [00:00<00:00, 100.10it/s]\n100%|██████████| 100/100 [00:01<00:00, 79.49it/s]\n100%|██████████| 100/100 [00:00<00:00, 104.16it/s]\n100%|██████████| 100/100 [00:01<00:00, 91.91it/s]\n100%|██████████| 100/100 [00:00<00:00, 110.14it/s]\n"
    },
    {
     "output_type": "display_data",
     "data": {
      "application/vnd.plotly.v1+json": {
       "config": {
        "plotlyServerURL": "https://plot.ly"
       },
       "data": [
        {
         "hovertemplate": "source=direct_cost<br>cost=%{x}<br>Cost=%{y}<extra></extra>",
         "legendgroup": "direct_cost",
         "line": {
          "color": "#636efa",
          "dash": "solid"
         },
         "mode": "lines",
         "name": "direct_cost",
         "orientation": "v",
         "showlegend": true,
         "type": "scatter",
         "x": [
          1,
          101,
          201,
          301,
          401,
          501,
          601,
          701,
          801,
          901
         ],
         "xaxis": "x",
         "y": [
          1629,
          1703,
          1769,
          1841,
          1849,
          1868,
          1892,
          1880,
          1895,
          1899
         ],
         "yaxis": "y"
        },
        {
         "hovertemplate": "source=risk_cost<br>cost=%{x}<br>Cost=%{y}<extra></extra>",
         "legendgroup": "risk_cost",
         "line": {
          "color": "#EF553B",
          "dash": "solid"
         },
         "mode": "lines",
         "name": "risk_cost",
         "orientation": "v",
         "showlegend": true,
         "type": "scatter",
         "x": [
          1,
          101,
          201,
          301,
          401,
          501,
          601,
          701,
          801,
          901
         ],
         "xaxis": "x",
         "y": [
          3996,
          1200,
          1136,
          888,
          900,
          456,
          660,
          464,
          469,
          376
         ],
         "yaxis": "y"
        },
        {
         "hovertemplate": "source=total<br>cost=%{x}<br>Cost=%{y}<extra></extra>",
         "legendgroup": "total",
         "line": {
          "color": "#00cc96",
          "dash": "solid"
         },
         "mode": "lines",
         "name": "total",
         "orientation": "v",
         "showlegend": true,
         "type": "scatter",
         "x": [
          1,
          101,
          201,
          301,
          401,
          501,
          601,
          701,
          801,
          901
         ],
         "xaxis": "x",
         "y": [
          5625,
          2903,
          2905,
          2729,
          2749,
          2324,
          2552,
          2344,
          2364,
          2275
         ],
         "yaxis": "y"
        }
       ],
       "layout": {
        "legend": {
         "title": {
          "text": "source"
         },
         "tracegroupgap": 0
        },
        "template": {
         "data": {
          "bar": [
           {
            "error_x": {
             "color": "#2a3f5f"
            },
            "error_y": {
             "color": "#2a3f5f"
            },
            "marker": {
             "line": {
              "color": "#E5ECF6",
              "width": 0.5
             }
            },
            "type": "bar"
           }
          ],
          "barpolar": [
           {
            "marker": {
             "line": {
              "color": "#E5ECF6",
              "width": 0.5
             }
            },
            "type": "barpolar"
           }
          ],
          "carpet": [
           {
            "aaxis": {
             "endlinecolor": "#2a3f5f",
             "gridcolor": "white",
             "linecolor": "white",
             "minorgridcolor": "white",
             "startlinecolor": "#2a3f5f"
            },
            "baxis": {
             "endlinecolor": "#2a3f5f",
             "gridcolor": "white",
             "linecolor": "white",
             "minorgridcolor": "white",
             "startlinecolor": "#2a3f5f"
            },
            "type": "carpet"
           }
          ],
          "choropleth": [
           {
            "colorbar": {
             "outlinewidth": 0,
             "ticks": ""
            },
            "type": "choropleth"
           }
          ],
          "contour": [
           {
            "colorbar": {
             "outlinewidth": 0,
             "ticks": ""
            },
            "colorscale": [
             [
              0,
              "#0d0887"
             ],
             [
              0.1111111111111111,
              "#46039f"
             ],
             [
              0.2222222222222222,
              "#7201a8"
             ],
             [
              0.3333333333333333,
              "#9c179e"
             ],
             [
              0.4444444444444444,
              "#bd3786"
             ],
             [
              0.5555555555555556,
              "#d8576b"
             ],
             [
              0.6666666666666666,
              "#ed7953"
             ],
             [
              0.7777777777777778,
              "#fb9f3a"
             ],
             [
              0.8888888888888888,
              "#fdca26"
             ],
             [
              1,
              "#f0f921"
             ]
            ],
            "type": "contour"
           }
          ],
          "contourcarpet": [
           {
            "colorbar": {
             "outlinewidth": 0,
             "ticks": ""
            },
            "type": "contourcarpet"
           }
          ],
          "heatmap": [
           {
            "colorbar": {
             "outlinewidth": 0,
             "ticks": ""
            },
            "colorscale": [
             [
              0,
              "#0d0887"
             ],
             [
              0.1111111111111111,
              "#46039f"
             ],
             [
              0.2222222222222222,
              "#7201a8"
             ],
             [
              0.3333333333333333,
              "#9c179e"
             ],
             [
              0.4444444444444444,
              "#bd3786"
             ],
             [
              0.5555555555555556,
              "#d8576b"
             ],
             [
              0.6666666666666666,
              "#ed7953"
             ],
             [
              0.7777777777777778,
              "#fb9f3a"
             ],
             [
              0.8888888888888888,
              "#fdca26"
             ],
             [
              1,
              "#f0f921"
             ]
            ],
            "type": "heatmap"
           }
          ],
          "heatmapgl": [
           {
            "colorbar": {
             "outlinewidth": 0,
             "ticks": ""
            },
            "colorscale": [
             [
              0,
              "#0d0887"
             ],
             [
              0.1111111111111111,
              "#46039f"
             ],
             [
              0.2222222222222222,
              "#7201a8"
             ],
             [
              0.3333333333333333,
              "#9c179e"
             ],
             [
              0.4444444444444444,
              "#bd3786"
             ],
             [
              0.5555555555555556,
              "#d8576b"
             ],
             [
              0.6666666666666666,
              "#ed7953"
             ],
             [
              0.7777777777777778,
              "#fb9f3a"
             ],
             [
              0.8888888888888888,
              "#fdca26"
             ],
             [
              1,
              "#f0f921"
             ]
            ],
            "type": "heatmapgl"
           }
          ],
          "histogram": [
           {
            "marker": {
             "colorbar": {
              "outlinewidth": 0,
              "ticks": ""
             }
            },
            "type": "histogram"
           }
          ],
          "histogram2d": [
           {
            "colorbar": {
             "outlinewidth": 0,
             "ticks": ""
            },
            "colorscale": [
             [
              0,
              "#0d0887"
             ],
             [
              0.1111111111111111,
              "#46039f"
             ],
             [
              0.2222222222222222,
              "#7201a8"
             ],
             [
              0.3333333333333333,
              "#9c179e"
             ],
             [
              0.4444444444444444,
              "#bd3786"
             ],
             [
              0.5555555555555556,
              "#d8576b"
             ],
             [
              0.6666666666666666,
              "#ed7953"
             ],
             [
              0.7777777777777778,
              "#fb9f3a"
             ],
             [
              0.8888888888888888,
              "#fdca26"
             ],
             [
              1,
              "#f0f921"
             ]
            ],
            "type": "histogram2d"
           }
          ],
          "histogram2dcontour": [
           {
            "colorbar": {
             "outlinewidth": 0,
             "ticks": ""
            },
            "colorscale": [
             [
              0,
              "#0d0887"
             ],
             [
              0.1111111111111111,
              "#46039f"
             ],
             [
              0.2222222222222222,
              "#7201a8"
             ],
             [
              0.3333333333333333,
              "#9c179e"
             ],
             [
              0.4444444444444444,
              "#bd3786"
             ],
             [
              0.5555555555555556,
              "#d8576b"
             ],
             [
              0.6666666666666666,
              "#ed7953"
             ],
             [
              0.7777777777777778,
              "#fb9f3a"
             ],
             [
              0.8888888888888888,
              "#fdca26"
             ],
             [
              1,
              "#f0f921"
             ]
            ],
            "type": "histogram2dcontour"
           }
          ],
          "mesh3d": [
           {
            "colorbar": {
             "outlinewidth": 0,
             "ticks": ""
            },
            "type": "mesh3d"
           }
          ],
          "parcoords": [
           {
            "line": {
             "colorbar": {
              "outlinewidth": 0,
              "ticks": ""
             }
            },
            "type": "parcoords"
           }
          ],
          "pie": [
           {
            "automargin": true,
            "type": "pie"
           }
          ],
          "scatter": [
           {
            "marker": {
             "colorbar": {
              "outlinewidth": 0,
              "ticks": ""
             }
            },
            "type": "scatter"
           }
          ],
          "scatter3d": [
           {
            "line": {
             "colorbar": {
              "outlinewidth": 0,
              "ticks": ""
             }
            },
            "marker": {
             "colorbar": {
              "outlinewidth": 0,
              "ticks": ""
             }
            },
            "type": "scatter3d"
           }
          ],
          "scattercarpet": [
           {
            "marker": {
             "colorbar": {
              "outlinewidth": 0,
              "ticks": ""
             }
            },
            "type": "scattercarpet"
           }
          ],
          "scattergeo": [
           {
            "marker": {
             "colorbar": {
              "outlinewidth": 0,
              "ticks": ""
             }
            },
            "type": "scattergeo"
           }
          ],
          "scattergl": [
           {
            "marker": {
             "colorbar": {
              "outlinewidth": 0,
              "ticks": ""
             }
            },
            "type": "scattergl"
           }
          ],
          "scattermapbox": [
           {
            "marker": {
             "colorbar": {
              "outlinewidth": 0,
              "ticks": ""
             }
            },
            "type": "scattermapbox"
           }
          ],
          "scatterpolar": [
           {
            "marker": {
             "colorbar": {
              "outlinewidth": 0,
              "ticks": ""
             }
            },
            "type": "scatterpolar"
           }
          ],
          "scatterpolargl": [
           {
            "marker": {
             "colorbar": {
              "outlinewidth": 0,
              "ticks": ""
             }
            },
            "type": "scatterpolargl"
           }
          ],
          "scatterternary": [
           {
            "marker": {
             "colorbar": {
              "outlinewidth": 0,
              "ticks": ""
             }
            },
            "type": "scatterternary"
           }
          ],
          "surface": [
           {
            "colorbar": {
             "outlinewidth": 0,
             "ticks": ""
            },
            "colorscale": [
             [
              0,
              "#0d0887"
             ],
             [
              0.1111111111111111,
              "#46039f"
             ],
             [
              0.2222222222222222,
              "#7201a8"
             ],
             [
              0.3333333333333333,
              "#9c179e"
             ],
             [
              0.4444444444444444,
              "#bd3786"
             ],
             [
              0.5555555555555556,
              "#d8576b"
             ],
             [
              0.6666666666666666,
              "#ed7953"
             ],
             [
              0.7777777777777778,
              "#fb9f3a"
             ],
             [
              0.8888888888888888,
              "#fdca26"
             ],
             [
              1,
              "#f0f921"
             ]
            ],
            "type": "surface"
           }
          ],
          "table": [
           {
            "cells": {
             "fill": {
              "color": "#EBF0F8"
             },
             "line": {
              "color": "white"
             }
            },
            "header": {
             "fill": {
              "color": "#C8D4E3"
             },
             "line": {
              "color": "white"
             }
            },
            "type": "table"
           }
          ]
         },
         "layout": {
          "annotationdefaults": {
           "arrowcolor": "#2a3f5f",
           "arrowhead": 0,
           "arrowwidth": 1
          },
          "coloraxis": {
           "colorbar": {
            "outlinewidth": 0,
            "ticks": ""
           }
          },
          "colorscale": {
           "diverging": [
            [
             0,
             "#8e0152"
            ],
            [
             0.1,
             "#c51b7d"
            ],
            [
             0.2,
             "#de77ae"
            ],
            [
             0.3,
             "#f1b6da"
            ],
            [
             0.4,
             "#fde0ef"
            ],
            [
             0.5,
             "#f7f7f7"
            ],
            [
             0.6,
             "#e6f5d0"
            ],
            [
             0.7,
             "#b8e186"
            ],
            [
             0.8,
             "#7fbc41"
            ],
            [
             0.9,
             "#4d9221"
            ],
            [
             1,
             "#276419"
            ]
           ],
           "sequential": [
            [
             0,
             "#0d0887"
            ],
            [
             0.1111111111111111,
             "#46039f"
            ],
            [
             0.2222222222222222,
             "#7201a8"
            ],
            [
             0.3333333333333333,
             "#9c179e"
            ],
            [
             0.4444444444444444,
             "#bd3786"
            ],
            [
             0.5555555555555556,
             "#d8576b"
            ],
            [
             0.6666666666666666,
             "#ed7953"
            ],
            [
             0.7777777777777778,
             "#fb9f3a"
            ],
            [
             0.8888888888888888,
             "#fdca26"
            ],
            [
             1,
             "#f0f921"
            ]
           ],
           "sequentialminus": [
            [
             0,
             "#0d0887"
            ],
            [
             0.1111111111111111,
             "#46039f"
            ],
            [
             0.2222222222222222,
             "#7201a8"
            ],
            [
             0.3333333333333333,
             "#9c179e"
            ],
            [
             0.4444444444444444,
             "#bd3786"
            ],
            [
             0.5555555555555556,
             "#d8576b"
            ],
            [
             0.6666666666666666,
             "#ed7953"
            ],
            [
             0.7777777777777778,
             "#fb9f3a"
            ],
            [
             0.8888888888888888,
             "#fdca26"
            ],
            [
             1,
             "#f0f921"
            ]
           ]
          },
          "colorway": [
           "#636efa",
           "#EF553B",
           "#00cc96",
           "#ab63fa",
           "#FFA15A",
           "#19d3f3",
           "#FF6692",
           "#B6E880",
           "#FF97FF",
           "#FECB52"
          ],
          "font": {
           "color": "#2a3f5f"
          },
          "geo": {
           "bgcolor": "white",
           "lakecolor": "white",
           "landcolor": "#E5ECF6",
           "showlakes": true,
           "showland": true,
           "subunitcolor": "white"
          },
          "hoverlabel": {
           "align": "left"
          },
          "hovermode": "closest",
          "mapbox": {
           "style": "light"
          },
          "paper_bgcolor": "white",
          "plot_bgcolor": "#E5ECF6",
          "polar": {
           "angularaxis": {
            "gridcolor": "white",
            "linecolor": "white",
            "ticks": ""
           },
           "bgcolor": "#E5ECF6",
           "radialaxis": {
            "gridcolor": "white",
            "linecolor": "white",
            "ticks": ""
           }
          },
          "scene": {
           "xaxis": {
            "backgroundcolor": "#E5ECF6",
            "gridcolor": "white",
            "gridwidth": 2,
            "linecolor": "white",
            "showbackground": true,
            "ticks": "",
            "zerolinecolor": "white"
           },
           "yaxis": {
            "backgroundcolor": "#E5ECF6",
            "gridcolor": "white",
            "gridwidth": 2,
            "linecolor": "white",
            "showbackground": true,
            "ticks": "",
            "zerolinecolor": "white"
           },
           "zaxis": {
            "backgroundcolor": "#E5ECF6",
            "gridcolor": "white",
            "gridwidth": 2,
            "linecolor": "white",
            "showbackground": true,
            "ticks": "",
            "zerolinecolor": "white"
           }
          },
          "shapedefaults": {
           "line": {
            "color": "#2a3f5f"
           }
          },
          "ternary": {
           "aaxis": {
            "gridcolor": "white",
            "linecolor": "white",
            "ticks": ""
           },
           "baxis": {
            "gridcolor": "white",
            "linecolor": "white",
            "ticks": ""
           },
           "bgcolor": "#E5ECF6",
           "caxis": {
            "gridcolor": "white",
            "linecolor": "white",
            "ticks": ""
           }
          },
          "title": {
           "x": 0.05
          },
          "xaxis": {
           "automargin": true,
           "gridcolor": "white",
           "linecolor": "white",
           "ticks": "",
           "title": {
            "standoff": 15
           },
           "zerolinecolor": "white",
           "zerolinewidth": 2
          },
          "yaxis": {
           "automargin": true,
           "gridcolor": "white",
           "linecolor": "white",
           "ticks": "",
           "title": {
            "standoff": 15
           },
           "zerolinecolor": "white",
           "zerolinewidth": 2
          }
         }
        },
        "title": {
         "text": "Risk v Cost at different cost"
        },
        "xaxis": {
         "anchor": "y",
         "domain": [
          0,
          1
         ],
         "title": {
          "text": "cost"
         }
        },
        "yaxis": {
         "anchor": "x",
         "domain": [
          0,
          1
         ],
         "title": {
          "text": "Cost"
         }
        }
       }
      }
     },
     "metadata": {}
    }
   ],
   "source": [
    "#early_life + fast_aging + slow_aging\n",
    "fig = make_sensitivity_fig(comp, var_name = \"comp-fm-early_life-tasks-inspection-cost\", lower=0, upper=1000, step=100, n_iterations=100)\n",
    "fig.show()"
   ]
  },
  {
   "cell_type": "code",
   "execution_count": null,
   "metadata": {},
   "outputs": [],
   "source": [
    "comp.fm.pop('early_life')\n",
    "comp.fm.pop('slow_aging')\n",
    "comp.fm.pop('random')\n",
    "comp.fm"
   ]
  },
  {
   "cell_type": "code",
   "execution_count": null,
   "metadata": {},
   "outputs": [],
   "source": [
    "#fast_aging\n",
    "fig = make_sensitivity_fig(comp, var_name = \"comp-fm-fast_aging-tasks-inspection-cost\", lower=0, upper=1000, step=100, n_iterations=100)\n",
    "fig.show()"
   ]
  },
  {
   "cell_type": "code",
   "execution_count": null,
   "metadata": {},
   "outputs": [],
   "source": []
  },
  {
   "cell_type": "code",
   "execution_count": 6,
   "metadata": {
    "tags": []
   },
   "outputs": [
    {
     "output_type": "stream",
     "name": "stderr",
     "text": "100%|██████████| 10/10 [00:00<00:00, 80.00it/s]\n100%|██████████| 10/10 [00:00<00:00, 67.11it/s]\n100%|██████████| 10/10 [00:00<00:00, 86.96it/s]\n100%|██████████| 10/10 [00:00<00:00, 78.12it/s]\n100%|██████████| 10/10 [00:00<00:00, 71.93it/s]\n"
    }
   ],
   "source": [
    "df = comp.sensitivity(\"comp-fm-early_life-tasks-inspection-cost\", 50, 55)"
   ]
  },
  {
   "cell_type": "code",
   "execution_count": 37,
   "metadata": {},
   "outputs": [],
   "source": [
    "from pof.failure_mode import FailureMode\n",
    "import pof.demo as demo\n",
    "\n",
    "fm = FailureMode.from_dict(demo.failure_mode_data[\"random\"])\n",
    "fm.name = \"fm\""
   ]
  },
  {
   "cell_type": "code",
   "execution_count": 26,
   "metadata": {
    "tags": []
   },
   "outputs": [
    {
     "output_type": "stream",
     "name": "stderr",
     "text": "100%|██████████| 10/10 [00:00<00:00, 113.63it/s]\n100%|██████████| 10/10 [00:00<00:00, 123.47it/s]\n100%|██████████| 10/10 [00:00<00:00, 153.85it/s]\n100%|██████████| 10/10 [00:00<00:00, 138.90it/s]\n"
    }
   ],
   "source": [
    "df = fm.sensitivity(\"fm-dists-untreated-alpha\", 0, 5)"
   ]
  },
  {
   "cell_type": "code",
   "execution_count": 4,
   "metadata": {},
   "outputs": [
    {
     "output_type": "execute_result",
     "data": {
      "text/plain": "   alpha  direct_cost  risk_cost  total\n1      1         1600       5000   6600\n2      2          540          0    540\n3      3          526       1666   2192\n4      4          510       2500   3010",
      "text/html": "<div>\n<style scoped>\n    .dataframe tbody tr th:only-of-type {\n        vertical-align: middle;\n    }\n\n    .dataframe tbody tr th {\n        vertical-align: top;\n    }\n\n    .dataframe thead th {\n        text-align: right;\n    }\n</style>\n<table border=\"1\" class=\"dataframe\">\n  <thead>\n    <tr style=\"text-align: right;\">\n      <th></th>\n      <th>alpha</th>\n      <th>direct_cost</th>\n      <th>risk_cost</th>\n      <th>total</th>\n    </tr>\n  </thead>\n  <tbody>\n    <tr>\n      <th>1</th>\n      <td>1</td>\n      <td>1600</td>\n      <td>5000</td>\n      <td>6600</td>\n    </tr>\n    <tr>\n      <th>2</th>\n      <td>2</td>\n      <td>540</td>\n      <td>0</td>\n      <td>540</td>\n    </tr>\n    <tr>\n      <th>3</th>\n      <td>3</td>\n      <td>526</td>\n      <td>1666</td>\n      <td>2192</td>\n    </tr>\n    <tr>\n      <th>4</th>\n      <td>4</td>\n      <td>510</td>\n      <td>2500</td>\n      <td>3010</td>\n    </tr>\n  </tbody>\n</table>\n</div>"
     },
     "metadata": {},
     "execution_count": 4
    }
   ],
   "source": [
    "df"
   ]
  },
  {
   "cell_type": "code",
   "execution_count": 40,
   "metadata": {
    "tags": []
   },
   "outputs": [
    {
     "output_type": "stream",
     "name": "stderr",
     "text": "100%|██████████| 20/20 [00:00<00:00, 178.57it/s]\n100%|██████████| 20/20 [00:00<00:00, 186.92it/s]\n100%|██████████| 20/20 [00:00<00:00, 175.48it/s]\n100%|██████████| 20/20 [00:00<00:00, 180.17it/s]\n100%|██████████| 20/20 [00:00<00:00, 170.94it/s]\n100%|██████████| 20/20 [00:00<00:00, 190.46it/s]\n100%|██████████| 20/20 [00:00<00:00, 196.07it/s]\n100%|██████████| 20/20 [00:00<00:00, 172.38it/s]\n100%|██████████| 20/20 [00:00<00:00, 163.93it/s]\n100%|██████████| 20/20 [00:00<00:00, 188.67it/s]\n"
    },
    {
     "output_type": "display_data",
     "data": {
      "application/vnd.plotly.v1+json": {
       "config": {
        "plotlyServerURL": "https://plot.ly"
       },
       "data": [
        {
         "hovertemplate": "source=direct_cost<br>cost=%{x}<br>Cost=%{y}<extra></extra>",
         "legendgroup": "direct_cost",
         "line": {
          "color": "#636efa",
          "dash": "solid"
         },
         "mode": "lines",
         "name": "direct_cost",
         "orientation": "v",
         "showlegend": true,
         "type": "scatter",
         "x": [
          1,
          101,
          201,
          301,
          401,
          501,
          601,
          701,
          801,
          901
         ],
         "xaxis": "x",
         "y": [
          2,
          26,
          44,
          68,
          86,
          108,
          124,
          148,
          160,
          186
         ],
         "yaxis": "y"
        },
        {
         "hovertemplate": "source=risk_cost<br>cost=%{x}<br>Cost=%{y}<extra></extra>",
         "legendgroup": "risk_cost",
         "line": {
          "color": "#EF553B",
          "dash": "solid"
         },
         "mode": "lines",
         "name": "risk_cost",
         "orientation": "v",
         "showlegend": true,
         "type": "scatter",
         "x": [
          1,
          101,
          201,
          301,
          401,
          501,
          601,
          701,
          801,
          901
         ],
         "xaxis": "x",
         "y": [
          29,
          84,
          84,
          112,
          81,
          108,
          54,
          104,
          0,
          78
         ],
         "yaxis": "y"
        },
        {
         "hovertemplate": "source=total<br>cost=%{x}<br>Cost=%{y}<extra></extra>",
         "legendgroup": "total",
         "line": {
          "color": "#00cc96",
          "dash": "solid"
         },
         "mode": "lines",
         "name": "total",
         "orientation": "v",
         "showlegend": true,
         "type": "scatter",
         "x": [
          1,
          101,
          201,
          301,
          401,
          501,
          601,
          701,
          801,
          901
         ],
         "xaxis": "x",
         "y": [
          31,
          110,
          128,
          180,
          167,
          216,
          178,
          252,
          160,
          264
         ],
         "yaxis": "y"
        }
       ],
       "layout": {
        "legend": {
         "title": {
          "text": "source"
         },
         "tracegroupgap": 0
        },
        "template": {
         "data": {
          "bar": [
           {
            "error_x": {
             "color": "#2a3f5f"
            },
            "error_y": {
             "color": "#2a3f5f"
            },
            "marker": {
             "line": {
              "color": "#E5ECF6",
              "width": 0.5
             }
            },
            "type": "bar"
           }
          ],
          "barpolar": [
           {
            "marker": {
             "line": {
              "color": "#E5ECF6",
              "width": 0.5
             }
            },
            "type": "barpolar"
           }
          ],
          "carpet": [
           {
            "aaxis": {
             "endlinecolor": "#2a3f5f",
             "gridcolor": "white",
             "linecolor": "white",
             "minorgridcolor": "white",
             "startlinecolor": "#2a3f5f"
            },
            "baxis": {
             "endlinecolor": "#2a3f5f",
             "gridcolor": "white",
             "linecolor": "white",
             "minorgridcolor": "white",
             "startlinecolor": "#2a3f5f"
            },
            "type": "carpet"
           }
          ],
          "choropleth": [
           {
            "colorbar": {
             "outlinewidth": 0,
             "ticks": ""
            },
            "type": "choropleth"
           }
          ],
          "contour": [
           {
            "colorbar": {
             "outlinewidth": 0,
             "ticks": ""
            },
            "colorscale": [
             [
              0,
              "#0d0887"
             ],
             [
              0.1111111111111111,
              "#46039f"
             ],
             [
              0.2222222222222222,
              "#7201a8"
             ],
             [
              0.3333333333333333,
              "#9c179e"
             ],
             [
              0.4444444444444444,
              "#bd3786"
             ],
             [
              0.5555555555555556,
              "#d8576b"
             ],
             [
              0.6666666666666666,
              "#ed7953"
             ],
             [
              0.7777777777777778,
              "#fb9f3a"
             ],
             [
              0.8888888888888888,
              "#fdca26"
             ],
             [
              1,
              "#f0f921"
             ]
            ],
            "type": "contour"
           }
          ],
          "contourcarpet": [
           {
            "colorbar": {
             "outlinewidth": 0,
             "ticks": ""
            },
            "type": "contourcarpet"
           }
          ],
          "heatmap": [
           {
            "colorbar": {
             "outlinewidth": 0,
             "ticks": ""
            },
            "colorscale": [
             [
              0,
              "#0d0887"
             ],
             [
              0.1111111111111111,
              "#46039f"
             ],
             [
              0.2222222222222222,
              "#7201a8"
             ],
             [
              0.3333333333333333,
              "#9c179e"
             ],
             [
              0.4444444444444444,
              "#bd3786"
             ],
             [
              0.5555555555555556,
              "#d8576b"
             ],
             [
              0.6666666666666666,
              "#ed7953"
             ],
             [
              0.7777777777777778,
              "#fb9f3a"
             ],
             [
              0.8888888888888888,
              "#fdca26"
             ],
             [
              1,
              "#f0f921"
             ]
            ],
            "type": "heatmap"
           }
          ],
          "heatmapgl": [
           {
            "colorbar": {
             "outlinewidth": 0,
             "ticks": ""
            },
            "colorscale": [
             [
              0,
              "#0d0887"
             ],
             [
              0.1111111111111111,
              "#46039f"
             ],
             [
              0.2222222222222222,
              "#7201a8"
             ],
             [
              0.3333333333333333,
              "#9c179e"
             ],
             [
              0.4444444444444444,
              "#bd3786"
             ],
             [
              0.5555555555555556,
              "#d8576b"
             ],
             [
              0.6666666666666666,
              "#ed7953"
             ],
             [
              0.7777777777777778,
              "#fb9f3a"
             ],
             [
              0.8888888888888888,
              "#fdca26"
             ],
             [
              1,
              "#f0f921"
             ]
            ],
            "type": "heatmapgl"
           }
          ],
          "histogram": [
           {
            "marker": {
             "colorbar": {
              "outlinewidth": 0,
              "ticks": ""
             }
            },
            "type": "histogram"
           }
          ],
          "histogram2d": [
           {
            "colorbar": {
             "outlinewidth": 0,
             "ticks": ""
            },
            "colorscale": [
             [
              0,
              "#0d0887"
             ],
             [
              0.1111111111111111,
              "#46039f"
             ],
             [
              0.2222222222222222,
              "#7201a8"
             ],
             [
              0.3333333333333333,
              "#9c179e"
             ],
             [
              0.4444444444444444,
              "#bd3786"
             ],
             [
              0.5555555555555556,
              "#d8576b"
             ],
             [
              0.6666666666666666,
              "#ed7953"
             ],
             [
              0.7777777777777778,
              "#fb9f3a"
             ],
             [
              0.8888888888888888,
              "#fdca26"
             ],
             [
              1,
              "#f0f921"
             ]
            ],
            "type": "histogram2d"
           }
          ],
          "histogram2dcontour": [
           {
            "colorbar": {
             "outlinewidth": 0,
             "ticks": ""
            },
            "colorscale": [
             [
              0,
              "#0d0887"
             ],
             [
              0.1111111111111111,
              "#46039f"
             ],
             [
              0.2222222222222222,
              "#7201a8"
             ],
             [
              0.3333333333333333,
              "#9c179e"
             ],
             [
              0.4444444444444444,
              "#bd3786"
             ],
             [
              0.5555555555555556,
              "#d8576b"
             ],
             [
              0.6666666666666666,
              "#ed7953"
             ],
             [
              0.7777777777777778,
              "#fb9f3a"
             ],
             [
              0.8888888888888888,
              "#fdca26"
             ],
             [
              1,
              "#f0f921"
             ]
            ],
            "type": "histogram2dcontour"
           }
          ],
          "mesh3d": [
           {
            "colorbar": {
             "outlinewidth": 0,
             "ticks": ""
            },
            "type": "mesh3d"
           }
          ],
          "parcoords": [
           {
            "line": {
             "colorbar": {
              "outlinewidth": 0,
              "ticks": ""
             }
            },
            "type": "parcoords"
           }
          ],
          "pie": [
           {
            "automargin": true,
            "type": "pie"
           }
          ],
          "scatter": [
           {
            "marker": {
             "colorbar": {
              "outlinewidth": 0,
              "ticks": ""
             }
            },
            "type": "scatter"
           }
          ],
          "scatter3d": [
           {
            "line": {
             "colorbar": {
              "outlinewidth": 0,
              "ticks": ""
             }
            },
            "marker": {
             "colorbar": {
              "outlinewidth": 0,
              "ticks": ""
             }
            },
            "type": "scatter3d"
           }
          ],
          "scattercarpet": [
           {
            "marker": {
             "colorbar": {
              "outlinewidth": 0,
              "ticks": ""
             }
            },
            "type": "scattercarpet"
           }
          ],
          "scattergeo": [
           {
            "marker": {
             "colorbar": {
              "outlinewidth": 0,
              "ticks": ""
             }
            },
            "type": "scattergeo"
           }
          ],
          "scattergl": [
           {
            "marker": {
             "colorbar": {
              "outlinewidth": 0,
              "ticks": ""
             }
            },
            "type": "scattergl"
           }
          ],
          "scattermapbox": [
           {
            "marker": {
             "colorbar": {
              "outlinewidth": 0,
              "ticks": ""
             }
            },
            "type": "scattermapbox"
           }
          ],
          "scatterpolar": [
           {
            "marker": {
             "colorbar": {
              "outlinewidth": 0,
              "ticks": ""
             }
            },
            "type": "scatterpolar"
           }
          ],
          "scatterpolargl": [
           {
            "marker": {
             "colorbar": {
              "outlinewidth": 0,
              "ticks": ""
             }
            },
            "type": "scatterpolargl"
           }
          ],
          "scatterternary": [
           {
            "marker": {
             "colorbar": {
              "outlinewidth": 0,
              "ticks": ""
             }
            },
            "type": "scatterternary"
           }
          ],
          "surface": [
           {
            "colorbar": {
             "outlinewidth": 0,
             "ticks": ""
            },
            "colorscale": [
             [
              0,
              "#0d0887"
             ],
             [
              0.1111111111111111,
              "#46039f"
             ],
             [
              0.2222222222222222,
              "#7201a8"
             ],
             [
              0.3333333333333333,
              "#9c179e"
             ],
             [
              0.4444444444444444,
              "#bd3786"
             ],
             [
              0.5555555555555556,
              "#d8576b"
             ],
             [
              0.6666666666666666,
              "#ed7953"
             ],
             [
              0.7777777777777778,
              "#fb9f3a"
             ],
             [
              0.8888888888888888,
              "#fdca26"
             ],
             [
              1,
              "#f0f921"
             ]
            ],
            "type": "surface"
           }
          ],
          "table": [
           {
            "cells": {
             "fill": {
              "color": "#EBF0F8"
             },
             "line": {
              "color": "white"
             }
            },
            "header": {
             "fill": {
              "color": "#C8D4E3"
             },
             "line": {
              "color": "white"
             }
            },
            "type": "table"
           }
          ]
         },
         "layout": {
          "annotationdefaults": {
           "arrowcolor": "#2a3f5f",
           "arrowhead": 0,
           "arrowwidth": 1
          },
          "coloraxis": {
           "colorbar": {
            "outlinewidth": 0,
            "ticks": ""
           }
          },
          "colorscale": {
           "diverging": [
            [
             0,
             "#8e0152"
            ],
            [
             0.1,
             "#c51b7d"
            ],
            [
             0.2,
             "#de77ae"
            ],
            [
             0.3,
             "#f1b6da"
            ],
            [
             0.4,
             "#fde0ef"
            ],
            [
             0.5,
             "#f7f7f7"
            ],
            [
             0.6,
             "#e6f5d0"
            ],
            [
             0.7,
             "#b8e186"
            ],
            [
             0.8,
             "#7fbc41"
            ],
            [
             0.9,
             "#4d9221"
            ],
            [
             1,
             "#276419"
            ]
           ],
           "sequential": [
            [
             0,
             "#0d0887"
            ],
            [
             0.1111111111111111,
             "#46039f"
            ],
            [
             0.2222222222222222,
             "#7201a8"
            ],
            [
             0.3333333333333333,
             "#9c179e"
            ],
            [
             0.4444444444444444,
             "#bd3786"
            ],
            [
             0.5555555555555556,
             "#d8576b"
            ],
            [
             0.6666666666666666,
             "#ed7953"
            ],
            [
             0.7777777777777778,
             "#fb9f3a"
            ],
            [
             0.8888888888888888,
             "#fdca26"
            ],
            [
             1,
             "#f0f921"
            ]
           ],
           "sequentialminus": [
            [
             0,
             "#0d0887"
            ],
            [
             0.1111111111111111,
             "#46039f"
            ],
            [
             0.2222222222222222,
             "#7201a8"
            ],
            [
             0.3333333333333333,
             "#9c179e"
            ],
            [
             0.4444444444444444,
             "#bd3786"
            ],
            [
             0.5555555555555556,
             "#d8576b"
            ],
            [
             0.6666666666666666,
             "#ed7953"
            ],
            [
             0.7777777777777778,
             "#fb9f3a"
            ],
            [
             0.8888888888888888,
             "#fdca26"
            ],
            [
             1,
             "#f0f921"
            ]
           ]
          },
          "colorway": [
           "#636efa",
           "#EF553B",
           "#00cc96",
           "#ab63fa",
           "#FFA15A",
           "#19d3f3",
           "#FF6692",
           "#B6E880",
           "#FF97FF",
           "#FECB52"
          ],
          "font": {
           "color": "#2a3f5f"
          },
          "geo": {
           "bgcolor": "white",
           "lakecolor": "white",
           "landcolor": "#E5ECF6",
           "showlakes": true,
           "showland": true,
           "subunitcolor": "white"
          },
          "hoverlabel": {
           "align": "left"
          },
          "hovermode": "closest",
          "mapbox": {
           "style": "light"
          },
          "paper_bgcolor": "white",
          "plot_bgcolor": "#E5ECF6",
          "polar": {
           "angularaxis": {
            "gridcolor": "white",
            "linecolor": "white",
            "ticks": ""
           },
           "bgcolor": "#E5ECF6",
           "radialaxis": {
            "gridcolor": "white",
            "linecolor": "white",
            "ticks": ""
           }
          },
          "scene": {
           "xaxis": {
            "backgroundcolor": "#E5ECF6",
            "gridcolor": "white",
            "gridwidth": 2,
            "linecolor": "white",
            "showbackground": true,
            "ticks": "",
            "zerolinecolor": "white"
           },
           "yaxis": {
            "backgroundcolor": "#E5ECF6",
            "gridcolor": "white",
            "gridwidth": 2,
            "linecolor": "white",
            "showbackground": true,
            "ticks": "",
            "zerolinecolor": "white"
           },
           "zaxis": {
            "backgroundcolor": "#E5ECF6",
            "gridcolor": "white",
            "gridwidth": 2,
            "linecolor": "white",
            "showbackground": true,
            "ticks": "",
            "zerolinecolor": "white"
           }
          },
          "shapedefaults": {
           "line": {
            "color": "#2a3f5f"
           }
          },
          "ternary": {
           "aaxis": {
            "gridcolor": "white",
            "linecolor": "white",
            "ticks": ""
           },
           "baxis": {
            "gridcolor": "white",
            "linecolor": "white",
            "ticks": ""
           },
           "bgcolor": "#E5ECF6",
           "caxis": {
            "gridcolor": "white",
            "linecolor": "white",
            "ticks": ""
           }
          },
          "title": {
           "x": 0.05
          },
          "xaxis": {
           "automargin": true,
           "gridcolor": "white",
           "linecolor": "white",
           "ticks": "",
           "title": {
            "standoff": 15
           },
           "zerolinecolor": "white",
           "zerolinewidth": 2
          },
          "yaxis": {
           "automargin": true,
           "gridcolor": "white",
           "linecolor": "white",
           "ticks": "",
           "title": {
            "standoff": 15
           },
           "zerolinecolor": "white",
           "zerolinewidth": 2
          }
         }
        },
        "title": {
         "text": "Risk v Cost at different cost"
        },
        "xaxis": {
         "anchor": "y",
         "domain": [
          0,
          1
         ],
         "title": {
          "text": "cost"
         }
        },
        "yaxis": {
         "anchor": "x",
         "domain": [
          0,
          1
         ],
         "title": {
          "text": "Cost"
         }
        }
       }
      }
     },
     "metadata": {}
    }
   ],
   "source": [
    "fig = make_sensitivity_fig(var_name = \"fm-tasks-inspection-cost\", lower=0, upper=1000, step=100, n_iterations=20)\n",
    "fig.show()"
   ]
  },
  {
   "cell_type": "code",
   "execution_count": 38,
   "metadata": {},
   "outputs": [],
   "source": [
    "import plotly.graph_objects as go\n",
    "\n",
    "def make_sensitivity_fig(var_name = \"comp-fm-early_life-tasks-inspection-cost\", lower=0, upper=10, step=1, n_iterations=10):\n",
    "    \n",
    "    var = var_name.split(\"-\")[-1]\n",
    "\n",
    "    try:\n",
    "        df = fm.sensitivity(var_name = var_name, lower=lower, upper=upper, step=step, n_iterations=n_iterations\n",
    "        )\n",
    "        df_plot = df.melt(id_vars=var, var_name=\"source\", value_name=\"Cost\")\n",
    "        fig = px.line(\n",
    "            df_plot,\n",
    "            x=var,\n",
    "            y=\"Cost\",\n",
    "            color=\"source\",\n",
    "            title=\"Risk v Cost at different \" + var,\n",
    "        )\n",
    "    except:\n",
    "        fig = go.Figure(\n",
    "            layout=go.Layout(\n",
    "                title=go.layout.Title(text=\"Error Producing \" + var)\n",
    "            )\n",
    "        )\n",
    "\n",
    "    return fig"
   ]
  },
  {
   "cell_type": "code",
   "execution_count": null,
   "metadata": {},
   "outputs": [],
   "source": []
  }
 ],
 "metadata": {
  "kernelspec": {
   "display_name": "Python 3",
   "language": "python",
   "name": "python3"
  },
  "language_info": {
   "codemirror_mode": {
    "name": "ipython",
    "version": 3
   },
   "file_extension": ".py",
   "mimetype": "text/x-python",
   "name": "python",
   "nbconvert_exporter": "python",
   "pygments_lexer": "ipython3",
   "version": "3.8.2-final"
  }
 },
 "nbformat": 4,
 "nbformat_minor": 2
}