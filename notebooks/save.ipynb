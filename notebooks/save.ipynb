{
 "metadata": {
  "language_info": {
   "codemirror_mode": {
    "name": "ipython",
    "version": 3
   },
   "file_extension": ".py",
   "mimetype": "text/x-python",
   "name": "python",
   "nbconvert_exporter": "python",
   "pygments_lexer": "ipython3",
   "version": "3.9.0-final"
  },
  "orig_nbformat": 2,
  "kernelspec": {
   "name": "python3",
   "display_name": "Python 3",
   "language": "python"
  }
 },
 "nbformat": 4,
 "nbformat_minor": 2,
 "cells": [
  {
   "source": [
    "Notebook for developing save functionality"
   ],
   "cell_type": "markdown",
   "metadata": {}
  },
  {
   "cell_type": "code",
   "execution_count": 1,
   "metadata": {},
   "outputs": [],
   "source": [
    "import sys\n",
    "import os\n",
    "sys.path.append(os.path.dirname(os.getcwd()))\n",
    "\n",
    "from pof.pof_base import PofBase\n",
    "from pof.component import Component\n",
    "pof_base = PofBase()\n",
    "\n",
    "from pof.helper import get_signature\n",
    "from pof.pof_container import PofContainer\n",
    "\n",
    "import pprint\n",
    "pp = pprint.PrettyPrinter(indent=4)\n",
    "\n",
    "from pof.paths import Paths"
   ]
  },
  {
   "cell_type": "code",
   "execution_count": null,
   "metadata": {},
   "outputs": [],
   "source": [
    "from pof.data.asset_data import SimpleFleet\n",
    "from pof.loader.asset_model_loader import AssetModelLoader\n",
    "\n",
    "sfd = SimpleFleet(Paths().input_path + r\"\\population_summary.csv\")\n",
    "sfd.load()\n",
    "sfd.calc_age_forecast(2015, 2024, 2020)\n",
    "\n",
    "aml = AssetModelLoader(Paths().demo_path + r\"\\Asset Model - Pole - Timber.xlsx\")\n",
    "comp_data = aml.load(Paths().demo_path + r\"\\Asset Model - Pole - Timber.xlsx\")\n",
    "comp = Component.from_dict(comp_data[\"pole\"])\n",
    "comp.fm = {\"termites\": comp.fm[\"termites\"]}"
   ]
  },
  {
   "cell_type": "code",
   "execution_count": 4,
   "metadata": {},
   "outputs": [],
   "source": [
    "def get_attr(self, data_req):\n",
    "    # Get the information needed to create object\n",
    "    sig_list = list(get_signature(self.__class__))\n",
    "    \n",
    "    for attr in sig_list:\n",
    "        if hasattr(self, attr):\n",
    "            data_req[attr] = getattr(self, attr)\n",
    "\n",
    "    return data_req"
   ]
  },
  {
   "cell_type": "code",
   "execution_count": 5,
   "metadata": {},
   "outputs": [],
   "source": [
    "def unpack_container(data_req):\n",
    "    for attr, val in data_req.items():\n",
    "        if isinstance(val, PofContainer):\n",
    "            data_req[attr] = val.data\n",
    "        elif isinstance(val, PofBase):\n",
    "            data_req[attr] = {}\n",
    "            sig_list = list(get_signature(val.__class__))\n",
    "            sig_list = [n for n in sig_list if n != \"component\"]\n",
    "            for var in sig_list:\n",
    "                if hasattr(val, var):\n",
    "                    if getattr(val, var) != NotImplemented:\n",
    "                        data_req[attr][var] = getattr(val, var)\n",
    "                    \n",
    "    for attr, val in data_req.items():\n",
    "        if isinstance(val, dict):\n",
    "            for name, value in data_req[attr].items():\n",
    "                if isinstance(value, (PofContainer, PofBase)):\n",
    "                    unpack_container(data_req[attr])\n",
    "\n",
    "    return data_req"
   ]
  },
  {
   "cell_type": "code",
   "execution_count": 7,
   "metadata": {},
   "outputs": [],
   "source": [
    "def to_dict(self):\n",
    "    #Get the first layer\n",
    "    data_req = self.get_attr(data_req = {})\n",
    "    \n",
    "    #Add the comp key\n",
    "    data_req_pole = {}\n",
    "    data_req_pole[\"pole\"] = data_req\n",
    "\n",
    "    #Unpack\n",
    "    data_req_unpacked = unpack_container(data_req_pole)\n",
    "\n",
    "    # pp.pprint(data_req_unpacked[\"indicator\"])  \n",
    "    # pp.pprint(data_req)\n",
    "\n",
    "    return data_req_unpacked"
   ]
  },
  {
   "cell_type": "code",
   "execution_count": 8,
   "metadata": {
    "tags": []
   },
   "outputs": [],
   "source": [
    "to_dict(comp);"
   ]
  },
  {
   "source": [
    "Concept demo"
   ],
   "cell_type": "markdown",
   "metadata": {}
  },
  {
   "cell_type": "code",
   "execution_count": 10,
   "metadata": {},
   "outputs": [],
   "source": [
    "# Class MyClass():\n",
    "\n",
    "#     data = 10\n",
    "\n",
    "#     def __init__(self, data = 20)   \n",
    "#         self.data = data\n",
    "#         print(\"created object\")\n",
    "\n",
    "#     def get_data(self):\n",
    "#         return self.data\n",
    "\n",
    "#     @classmethod\n",
    "#     def get_data_class_version(cls):\n",
    "#         return cls.data\n",
    "\n",
    "\n",
    "# >>> MyClass.data 10\n",
    "# >>> MyClass.get_data error\n",
    "# >>> MyClass.get_dat_class_version 10\n",
    "# >>> MyClass().data 20\n",
    "# >>> MyClass().get_data 20\n",
    "\n",
    "# Method 1 - method\n",
    "\n",
    "# my_classs = MyClass()\n",
    "# my_classs_data = mylcass.get_data()\n",
    "\n",
    "# No - mMyClass.get_data()\n",
    "\n",
    "# Method 2 - class method\n",
    "# my_class-data = MyClass.get_data()"
   ]
  },
  {
   "cell_type": "code",
   "execution_count": null,
   "metadata": {},
   "outputs": [],
   "source": []
  }
 ]
}