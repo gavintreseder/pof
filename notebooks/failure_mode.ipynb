{
 "cells": [
  {
   "cell_type": "code",
   "execution_count": 1,
   "metadata": {},
   "outputs": [],
   "source": [
    "# Add root folder to python path\n",
    "import sys\n",
    "import os\n",
    "sys.path.append(os.path.dirname(os.getcwd()))\n",
    "\n",
    "# Add some common packages\n",
    "import numpy as np\n",
    "import pandas as pd\n",
    "import math\n",
    "import scipy.stats as ss\n",
    "from matplotlib import pyplot as plt\n",
    "import seaborn as sns\n",
    "from tqdm import tqdm\n",
    "\n",
    "import plotly.express as px\n",
    "from reliability.Fitters import Fit_Weibull_3P"
   ]
  },
  {
   "cell_type": "code",
   "execution_count": 65,
   "metadata": {},
   "outputs": [],
   "source": [
    "# Set up the failure mode class\n",
    "from pof.failure_mode import FailureMode\n",
    "from pof.condition import Condition\n",
    "from pof.task import *\n",
    "\n",
    "fm = FailureMode(alpha=50, beta=1.5, gamma=20)"
   ]
  },
  {
   "cell_type": "code",
   "execution_count": 66,
   "metadata": {
    "tags": []
   },
   "outputs": [
    {
     "output_type": "display_data",
     "data": {
      "text/plain": "<Figure size 1728x288 with 3 Axes>",
      "image/svg+xml": "<?xml version=\"1.0\" encoding=\"utf-8\" standalone=\"no\"?>\r\n<!DOCTYPE svg PUBLIC \"-//W3C//DTD SVG 1.1//EN\"\r\n  \"http://www.w3.org/Graphics/SVG/1.1/DTD/svg11.dtd\">\r\n<!-- Created with matplotlib (https://matplotlib.org/) -->\r\n<svg height=\"263.63625pt\" version=\"1.1\" viewBox=\"0 0 1376.503125 263.63625\" width=\"1376.503125pt\" xmlns=\"http://www.w3.org/2000/svg\" xmlns:xlink=\"http://www.w3.org/1999/xlink\">\r\n <metadata>\r\n  <rdf:RDF xmlns:cc=\"http://creativecommons.org/ns#\" xmlns:dc=\"http://purl.org/dc/elements/1.1/\" xmlns:rdf=\"http://www.w3.org/1999/02/22-rdf-syntax-ns#\">\r\n   <cc:Work>\r\n    <dc:type rdf:resource=\"http://purl.org/dc/dcmitype/StillImage\"/>\r\n    <dc:date>2020-08-06T08:45:31.033811</dc:date>\r\n    <dc:format>image/svg+xml</dc:format>\r\n    <dc:creator>\r\n     <cc:Agent>\r\n      <dc:title>Matplotlib v3.3.0, https://matplotlib.org/</dc:title>\r\n     </cc:Agent>\r\n    </dc:creator>\r\n   </cc:Work>\r\n  </rdf:RDF>\r\n </metadata>\r\n <defs>\r\n  <style type=\"text/css\">*{stroke-linecap:butt;stroke-linejoin:round;}</style>\r\n </defs>\r\n <g id=\"figure_1\">\r\n  <g id=\"patch_1\">\r\n   <path d=\"M 0 263.63625 \r\nL 1376.503125 263.63625 \r\nL 1376.503125 0 \r\nL 0 0 \r\nz\r\n\" style=\"fill:none;\"/>\r\n  </g>\r\n  <g id=\"axes_1\">\r\n   <g id=\"patch_2\">\r\n    <path d=\"M 30.103125 239.758125 \r\nL 423.985478 239.758125 \r\nL 423.985478 22.318125 \r\nL 30.103125 22.318125 \r\nz\r\n\" style=\"fill:#ffffff;\"/>\r\n   </g>\r\n   <g id=\"matplotlib.axis_1\">\r\n    <g id=\"xtick_1\">\r\n     <g id=\"line2d_1\">\r\n      <defs>\r\n       <path d=\"M 0 0 \r\nL 0 3.5 \r\n\" id=\"m08e9b8d91a\" style=\"stroke:#000000;stroke-width:0.8;\"/>\r\n      </defs>\r\n      <g>\r\n       <use style=\"stroke:#000000;stroke-width:0.8;\" x=\"48.006868\" xlink:href=\"#m08e9b8d91a\" y=\"239.758125\"/>\r\n      </g>\r\n     </g>\r\n     <g id=\"text_1\">\r\n      <!-- 0 -->\r\n      <g transform=\"translate(44.825618 254.356563)scale(0.1 -0.1)\">\r\n       <defs>\r\n        <path d=\"M 31.78125 66.40625 \r\nQ 24.171875 66.40625 20.328125 58.90625 \r\nQ 16.5 51.421875 16.5 36.375 \r\nQ 16.5 21.390625 20.328125 13.890625 \r\nQ 24.171875 6.390625 31.78125 6.390625 \r\nQ 39.453125 6.390625 43.28125 13.890625 \r\nQ 47.125 21.390625 47.125 36.375 \r\nQ 47.125 51.421875 43.28125 58.90625 \r\nQ 39.453125 66.40625 31.78125 66.40625 \r\nz\r\nM 31.78125 74.21875 \r\nQ 44.046875 74.21875 50.515625 64.515625 \r\nQ 56.984375 54.828125 56.984375 36.375 \r\nQ 56.984375 17.96875 50.515625 8.265625 \r\nQ 44.046875 -1.421875 31.78125 -1.421875 \r\nQ 19.53125 -1.421875 13.0625 8.265625 \r\nQ 6.59375 17.96875 6.59375 36.375 \r\nQ 6.59375 54.828125 13.0625 64.515625 \r\nQ 19.53125 74.21875 31.78125 74.21875 \r\nz\r\n\" id=\"DejaVuSans-48\"/>\r\n       </defs>\r\n       <use xlink:href=\"#DejaVuSans-48\"/>\r\n      </g>\r\n     </g>\r\n    </g>\r\n    <g id=\"xtick_2\">\r\n     <g id=\"line2d_2\">\r\n      <g>\r\n       <use style=\"stroke:#000000;stroke-width:0.8;\" x=\"92.766227\" xlink:href=\"#m08e9b8d91a\" y=\"239.758125\"/>\r\n      </g>\r\n     </g>\r\n     <g id=\"text_2\">\r\n      <!-- 25 -->\r\n      <g transform=\"translate(86.403727 254.356563)scale(0.1 -0.1)\">\r\n       <defs>\r\n        <path d=\"M 19.1875 8.296875 \r\nL 53.609375 8.296875 \r\nL 53.609375 0 \r\nL 7.328125 0 \r\nL 7.328125 8.296875 \r\nQ 12.9375 14.109375 22.625 23.890625 \r\nQ 32.328125 33.6875 34.8125 36.53125 \r\nQ 39.546875 41.84375 41.421875 45.53125 \r\nQ 43.3125 49.21875 43.3125 52.78125 \r\nQ 43.3125 58.59375 39.234375 62.25 \r\nQ 35.15625 65.921875 28.609375 65.921875 \r\nQ 23.96875 65.921875 18.8125 64.3125 \r\nQ 13.671875 62.703125 7.8125 59.421875 \r\nL 7.8125 69.390625 \r\nQ 13.765625 71.78125 18.9375 73 \r\nQ 24.125 74.21875 28.421875 74.21875 \r\nQ 39.75 74.21875 46.484375 68.546875 \r\nQ 53.21875 62.890625 53.21875 53.421875 \r\nQ 53.21875 48.921875 51.53125 44.890625 \r\nQ 49.859375 40.875 45.40625 35.40625 \r\nQ 44.1875 33.984375 37.640625 27.21875 \r\nQ 31.109375 20.453125 19.1875 8.296875 \r\nz\r\n\" id=\"DejaVuSans-50\"/>\r\n        <path d=\"M 10.796875 72.90625 \r\nL 49.515625 72.90625 \r\nL 49.515625 64.59375 \r\nL 19.828125 64.59375 \r\nL 19.828125 46.734375 \r\nQ 21.96875 47.46875 24.109375 47.828125 \r\nQ 26.265625 48.1875 28.421875 48.1875 \r\nQ 40.625 48.1875 47.75 41.5 \r\nQ 54.890625 34.8125 54.890625 23.390625 \r\nQ 54.890625 11.625 47.5625 5.09375 \r\nQ 40.234375 -1.421875 26.90625 -1.421875 \r\nQ 22.3125 -1.421875 17.546875 -0.640625 \r\nQ 12.796875 0.140625 7.71875 1.703125 \r\nL 7.71875 11.625 \r\nQ 12.109375 9.234375 16.796875 8.0625 \r\nQ 21.484375 6.890625 26.703125 6.890625 \r\nQ 35.15625 6.890625 40.078125 11.328125 \r\nQ 45.015625 15.765625 45.015625 23.390625 \r\nQ 45.015625 31 40.078125 35.4375 \r\nQ 35.15625 39.890625 26.703125 39.890625 \r\nQ 22.75 39.890625 18.8125 39.015625 \r\nQ 14.890625 38.140625 10.796875 36.28125 \r\nz\r\n\" id=\"DejaVuSans-53\"/>\r\n       </defs>\r\n       <use xlink:href=\"#DejaVuSans-50\"/>\r\n       <use x=\"63.623047\" xlink:href=\"#DejaVuSans-53\"/>\r\n      </g>\r\n     </g>\r\n    </g>\r\n    <g id=\"xtick_3\">\r\n     <g id=\"line2d_3\">\r\n      <g>\r\n       <use style=\"stroke:#000000;stroke-width:0.8;\" x=\"137.525585\" xlink:href=\"#m08e9b8d91a\" y=\"239.758125\"/>\r\n      </g>\r\n     </g>\r\n     <g id=\"text_3\">\r\n      <!-- 50 -->\r\n      <g transform=\"translate(131.163085 254.356563)scale(0.1 -0.1)\">\r\n       <use xlink:href=\"#DejaVuSans-53\"/>\r\n       <use x=\"63.623047\" xlink:href=\"#DejaVuSans-48\"/>\r\n      </g>\r\n     </g>\r\n    </g>\r\n    <g id=\"xtick_4\">\r\n     <g id=\"line2d_4\">\r\n      <g>\r\n       <use style=\"stroke:#000000;stroke-width:0.8;\" x=\"182.284943\" xlink:href=\"#m08e9b8d91a\" y=\"239.758125\"/>\r\n      </g>\r\n     </g>\r\n     <g id=\"text_4\">\r\n      <!-- 75 -->\r\n      <g transform=\"translate(175.922443 254.356563)scale(0.1 -0.1)\">\r\n       <defs>\r\n        <path d=\"M 8.203125 72.90625 \r\nL 55.078125 72.90625 \r\nL 55.078125 68.703125 \r\nL 28.609375 0 \r\nL 18.3125 0 \r\nL 43.21875 64.59375 \r\nL 8.203125 64.59375 \r\nz\r\n\" id=\"DejaVuSans-55\"/>\r\n       </defs>\r\n       <use xlink:href=\"#DejaVuSans-55\"/>\r\n       <use x=\"63.623047\" xlink:href=\"#DejaVuSans-53\"/>\r\n      </g>\r\n     </g>\r\n    </g>\r\n    <g id=\"xtick_5\">\r\n     <g id=\"line2d_5\">\r\n      <g>\r\n       <use style=\"stroke:#000000;stroke-width:0.8;\" x=\"227.044301\" xlink:href=\"#m08e9b8d91a\" y=\"239.758125\"/>\r\n      </g>\r\n     </g>\r\n     <g id=\"text_5\">\r\n      <!-- 100 -->\r\n      <g transform=\"translate(217.500551 254.356563)scale(0.1 -0.1)\">\r\n       <defs>\r\n        <path d=\"M 12.40625 8.296875 \r\nL 28.515625 8.296875 \r\nL 28.515625 63.921875 \r\nL 10.984375 60.40625 \r\nL 10.984375 69.390625 \r\nL 28.421875 72.90625 \r\nL 38.28125 72.90625 \r\nL 38.28125 8.296875 \r\nL 54.390625 8.296875 \r\nL 54.390625 0 \r\nL 12.40625 0 \r\nz\r\n\" id=\"DejaVuSans-49\"/>\r\n       </defs>\r\n       <use xlink:href=\"#DejaVuSans-49\"/>\r\n       <use x=\"63.623047\" xlink:href=\"#DejaVuSans-48\"/>\r\n       <use x=\"127.246094\" xlink:href=\"#DejaVuSans-48\"/>\r\n      </g>\r\n     </g>\r\n    </g>\r\n    <g id=\"xtick_6\">\r\n     <g id=\"line2d_6\">\r\n      <g>\r\n       <use style=\"stroke:#000000;stroke-width:0.8;\" x=\"271.80366\" xlink:href=\"#m08e9b8d91a\" y=\"239.758125\"/>\r\n      </g>\r\n     </g>\r\n     <g id=\"text_6\">\r\n      <!-- 125 -->\r\n      <g transform=\"translate(262.25991 254.356563)scale(0.1 -0.1)\">\r\n       <use xlink:href=\"#DejaVuSans-49\"/>\r\n       <use x=\"63.623047\" xlink:href=\"#DejaVuSans-50\"/>\r\n       <use x=\"127.246094\" xlink:href=\"#DejaVuSans-53\"/>\r\n      </g>\r\n     </g>\r\n    </g>\r\n    <g id=\"xtick_7\">\r\n     <g id=\"line2d_7\">\r\n      <g>\r\n       <use style=\"stroke:#000000;stroke-width:0.8;\" x=\"316.563018\" xlink:href=\"#m08e9b8d91a\" y=\"239.758125\"/>\r\n      </g>\r\n     </g>\r\n     <g id=\"text_7\">\r\n      <!-- 150 -->\r\n      <g transform=\"translate(307.019268 254.356563)scale(0.1 -0.1)\">\r\n       <use xlink:href=\"#DejaVuSans-49\"/>\r\n       <use x=\"63.623047\" xlink:href=\"#DejaVuSans-53\"/>\r\n       <use x=\"127.246094\" xlink:href=\"#DejaVuSans-48\"/>\r\n      </g>\r\n     </g>\r\n    </g>\r\n    <g id=\"xtick_8\">\r\n     <g id=\"line2d_8\">\r\n      <g>\r\n       <use style=\"stroke:#000000;stroke-width:0.8;\" x=\"361.322376\" xlink:href=\"#m08e9b8d91a\" y=\"239.758125\"/>\r\n      </g>\r\n     </g>\r\n     <g id=\"text_8\">\r\n      <!-- 175 -->\r\n      <g transform=\"translate(351.778626 254.356563)scale(0.1 -0.1)\">\r\n       <use xlink:href=\"#DejaVuSans-49\"/>\r\n       <use x=\"63.623047\" xlink:href=\"#DejaVuSans-55\"/>\r\n       <use x=\"127.246094\" xlink:href=\"#DejaVuSans-53\"/>\r\n      </g>\r\n     </g>\r\n    </g>\r\n    <g id=\"xtick_9\">\r\n     <g id=\"line2d_9\">\r\n      <g>\r\n       <use style=\"stroke:#000000;stroke-width:0.8;\" x=\"406.081735\" xlink:href=\"#m08e9b8d91a\" y=\"239.758125\"/>\r\n      </g>\r\n     </g>\r\n     <g id=\"text_9\">\r\n      <!-- 200 -->\r\n      <g transform=\"translate(396.537985 254.356563)scale(0.1 -0.1)\">\r\n       <use xlink:href=\"#DejaVuSans-50\"/>\r\n       <use x=\"63.623047\" xlink:href=\"#DejaVuSans-48\"/>\r\n       <use x=\"127.246094\" xlink:href=\"#DejaVuSans-48\"/>\r\n      </g>\r\n     </g>\r\n    </g>\r\n   </g>\r\n   <g id=\"matplotlib.axis_2\">\r\n    <g id=\"ytick_1\">\r\n     <g id=\"line2d_10\">\r\n      <defs>\r\n       <path d=\"M 0 0 \r\nL -3.5 0 \r\n\" id=\"m5d5e54a569\" style=\"stroke:#000000;stroke-width:0.8;\"/>\r\n      </defs>\r\n      <g>\r\n       <use style=\"stroke:#000000;stroke-width:0.8;\" x=\"30.103125\" xlink:href=\"#m5d5e54a569\" y=\"229.874489\"/>\r\n      </g>\r\n     </g>\r\n     <g id=\"text_10\">\r\n      <!-- 0.0 -->\r\n      <g transform=\"translate(7.2 233.673707)scale(0.1 -0.1)\">\r\n       <defs>\r\n        <path d=\"M 10.6875 12.40625 \r\nL 21 12.40625 \r\nL 21 0 \r\nL 10.6875 0 \r\nz\r\n\" id=\"DejaVuSans-46\"/>\r\n       </defs>\r\n       <use xlink:href=\"#DejaVuSans-48\"/>\r\n       <use x=\"63.623047\" xlink:href=\"#DejaVuSans-46\"/>\r\n       <use x=\"95.410156\" xlink:href=\"#DejaVuSans-48\"/>\r\n      </g>\r\n     </g>\r\n    </g>\r\n    <g id=\"ytick_2\">\r\n     <g id=\"line2d_11\">\r\n      <g>\r\n       <use style=\"stroke:#000000;stroke-width:0.8;\" x=\"30.103125\" xlink:href=\"#m5d5e54a569\" y=\"190.339943\"/>\r\n      </g>\r\n     </g>\r\n     <g id=\"text_11\">\r\n      <!-- 0.2 -->\r\n      <g transform=\"translate(7.2 194.139162)scale(0.1 -0.1)\">\r\n       <use xlink:href=\"#DejaVuSans-48\"/>\r\n       <use x=\"63.623047\" xlink:href=\"#DejaVuSans-46\"/>\r\n       <use x=\"95.410156\" xlink:href=\"#DejaVuSans-50\"/>\r\n      </g>\r\n     </g>\r\n    </g>\r\n    <g id=\"ytick_3\">\r\n     <g id=\"line2d_12\">\r\n      <g>\r\n       <use style=\"stroke:#000000;stroke-width:0.8;\" x=\"30.103125\" xlink:href=\"#m5d5e54a569\" y=\"150.805398\"/>\r\n      </g>\r\n     </g>\r\n     <g id=\"text_12\">\r\n      <!-- 0.4 -->\r\n      <g transform=\"translate(7.2 154.604616)scale(0.1 -0.1)\">\r\n       <defs>\r\n        <path d=\"M 37.796875 64.3125 \r\nL 12.890625 25.390625 \r\nL 37.796875 25.390625 \r\nz\r\nM 35.203125 72.90625 \r\nL 47.609375 72.90625 \r\nL 47.609375 25.390625 \r\nL 58.015625 25.390625 \r\nL 58.015625 17.1875 \r\nL 47.609375 17.1875 \r\nL 47.609375 0 \r\nL 37.796875 0 \r\nL 37.796875 17.1875 \r\nL 4.890625 17.1875 \r\nL 4.890625 26.703125 \r\nz\r\n\" id=\"DejaVuSans-52\"/>\r\n       </defs>\r\n       <use xlink:href=\"#DejaVuSans-48\"/>\r\n       <use x=\"63.623047\" xlink:href=\"#DejaVuSans-46\"/>\r\n       <use x=\"95.410156\" xlink:href=\"#DejaVuSans-52\"/>\r\n      </g>\r\n     </g>\r\n    </g>\r\n    <g id=\"ytick_4\">\r\n     <g id=\"line2d_13\">\r\n      <g>\r\n       <use style=\"stroke:#000000;stroke-width:0.8;\" x=\"30.103125\" xlink:href=\"#m5d5e54a569\" y=\"111.270852\"/>\r\n      </g>\r\n     </g>\r\n     <g id=\"text_13\">\r\n      <!-- 0.6 -->\r\n      <g transform=\"translate(7.2 115.070071)scale(0.1 -0.1)\">\r\n       <defs>\r\n        <path d=\"M 33.015625 40.375 \r\nQ 26.375 40.375 22.484375 35.828125 \r\nQ 18.609375 31.296875 18.609375 23.390625 \r\nQ 18.609375 15.53125 22.484375 10.953125 \r\nQ 26.375 6.390625 33.015625 6.390625 \r\nQ 39.65625 6.390625 43.53125 10.953125 \r\nQ 47.40625 15.53125 47.40625 23.390625 \r\nQ 47.40625 31.296875 43.53125 35.828125 \r\nQ 39.65625 40.375 33.015625 40.375 \r\nz\r\nM 52.59375 71.296875 \r\nL 52.59375 62.3125 \r\nQ 48.875 64.0625 45.09375 64.984375 \r\nQ 41.3125 65.921875 37.59375 65.921875 \r\nQ 27.828125 65.921875 22.671875 59.328125 \r\nQ 17.53125 52.734375 16.796875 39.40625 \r\nQ 19.671875 43.65625 24.015625 45.921875 \r\nQ 28.375 48.1875 33.59375 48.1875 \r\nQ 44.578125 48.1875 50.953125 41.515625 \r\nQ 57.328125 34.859375 57.328125 23.390625 \r\nQ 57.328125 12.15625 50.6875 5.359375 \r\nQ 44.046875 -1.421875 33.015625 -1.421875 \r\nQ 20.359375 -1.421875 13.671875 8.265625 \r\nQ 6.984375 17.96875 6.984375 36.375 \r\nQ 6.984375 53.65625 15.1875 63.9375 \r\nQ 23.390625 74.21875 37.203125 74.21875 \r\nQ 40.921875 74.21875 44.703125 73.484375 \r\nQ 48.484375 72.75 52.59375 71.296875 \r\nz\r\n\" id=\"DejaVuSans-54\"/>\r\n       </defs>\r\n       <use xlink:href=\"#DejaVuSans-48\"/>\r\n       <use x=\"63.623047\" xlink:href=\"#DejaVuSans-46\"/>\r\n       <use x=\"95.410156\" xlink:href=\"#DejaVuSans-54\"/>\r\n      </g>\r\n     </g>\r\n    </g>\r\n    <g id=\"ytick_5\">\r\n     <g id=\"line2d_14\">\r\n      <g>\r\n       <use style=\"stroke:#000000;stroke-width:0.8;\" x=\"30.103125\" xlink:href=\"#m5d5e54a569\" y=\"71.736307\"/>\r\n      </g>\r\n     </g>\r\n     <g id=\"text_14\">\r\n      <!-- 0.8 -->\r\n      <g transform=\"translate(7.2 75.535526)scale(0.1 -0.1)\">\r\n       <defs>\r\n        <path d=\"M 31.78125 34.625 \r\nQ 24.75 34.625 20.71875 30.859375 \r\nQ 16.703125 27.09375 16.703125 20.515625 \r\nQ 16.703125 13.921875 20.71875 10.15625 \r\nQ 24.75 6.390625 31.78125 6.390625 \r\nQ 38.8125 6.390625 42.859375 10.171875 \r\nQ 46.921875 13.96875 46.921875 20.515625 \r\nQ 46.921875 27.09375 42.890625 30.859375 \r\nQ 38.875 34.625 31.78125 34.625 \r\nz\r\nM 21.921875 38.8125 \r\nQ 15.578125 40.375 12.03125 44.71875 \r\nQ 8.5 49.078125 8.5 55.328125 \r\nQ 8.5 64.0625 14.71875 69.140625 \r\nQ 20.953125 74.21875 31.78125 74.21875 \r\nQ 42.671875 74.21875 48.875 69.140625 \r\nQ 55.078125 64.0625 55.078125 55.328125 \r\nQ 55.078125 49.078125 51.53125 44.71875 \r\nQ 48 40.375 41.703125 38.8125 \r\nQ 48.828125 37.15625 52.796875 32.3125 \r\nQ 56.78125 27.484375 56.78125 20.515625 \r\nQ 56.78125 9.90625 50.3125 4.234375 \r\nQ 43.84375 -1.421875 31.78125 -1.421875 \r\nQ 19.734375 -1.421875 13.25 4.234375 \r\nQ 6.78125 9.90625 6.78125 20.515625 \r\nQ 6.78125 27.484375 10.78125 32.3125 \r\nQ 14.796875 37.15625 21.921875 38.8125 \r\nz\r\nM 18.3125 54.390625 \r\nQ 18.3125 48.734375 21.84375 45.5625 \r\nQ 25.390625 42.390625 31.78125 42.390625 \r\nQ 38.140625 42.390625 41.71875 45.5625 \r\nQ 45.3125 48.734375 45.3125 54.390625 \r\nQ 45.3125 60.0625 41.71875 63.234375 \r\nQ 38.140625 66.40625 31.78125 66.40625 \r\nQ 25.390625 66.40625 21.84375 63.234375 \r\nQ 18.3125 60.0625 18.3125 54.390625 \r\nz\r\n\" id=\"DejaVuSans-56\"/>\r\n       </defs>\r\n       <use xlink:href=\"#DejaVuSans-48\"/>\r\n       <use x=\"63.623047\" xlink:href=\"#DejaVuSans-46\"/>\r\n       <use x=\"95.410156\" xlink:href=\"#DejaVuSans-56\"/>\r\n      </g>\r\n     </g>\r\n    </g>\r\n    <g id=\"ytick_6\">\r\n     <g id=\"line2d_15\">\r\n      <g>\r\n       <use style=\"stroke:#000000;stroke-width:0.8;\" x=\"30.103125\" xlink:href=\"#m5d5e54a569\" y=\"32.201761\"/>\r\n      </g>\r\n     </g>\r\n     <g id=\"text_15\">\r\n      <!-- 1.0 -->\r\n      <g transform=\"translate(7.2 36.00098)scale(0.1 -0.1)\">\r\n       <use xlink:href=\"#DejaVuSans-49\"/>\r\n       <use x=\"63.623047\" xlink:href=\"#DejaVuSans-46\"/>\r\n       <use x=\"95.410156\" xlink:href=\"#DejaVuSans-48\"/>\r\n      </g>\r\n     </g>\r\n    </g>\r\n   </g>\r\n   <g id=\"line2d_16\">\r\n    <path clip-path=\"url(#p0831cac3e1)\" d=\"M 48.006868 229.874489 \r\nL 225.253927 229.874489 \r\nL 227.044301 32.201761 \r\nL 235.996173 32.201761 \r\nL 237.786547 229.874489 \r\nL 312.982269 229.874489 \r\nL 314.772644 32.201761 \r\nL 318.353392 32.201761 \r\nL 320.143767 229.874489 \r\nL 404.29136 229.874489 \r\nL 406.081735 32.201761 \r\nL 406.081735 32.201761 \r\n\" style=\"fill:none;stroke:#1f77b4;stroke-linecap:square;stroke-width:1.5;\"/>\r\n   </g>\r\n   <g id=\"line2d_17\">\r\n    <path clip-path=\"url(#p0831cac3e1)\" d=\"M 48.006868 229.874489 \r\nL 406.081735 229.874489 \r\nL 406.081735 229.874489 \r\n\" style=\"fill:none;stroke:#ff7f0e;stroke-linecap:square;stroke-width:1.5;\"/>\r\n   </g>\r\n   <g id=\"line2d_18\">\r\n    <path clip-path=\"url(#p0831cac3e1)\" d=\"M 48.006868 229.874489 \r\nL 227.044301 229.874489 \r\nL 228.834676 32.201761 \r\nL 235.996173 32.201761 \r\nL 237.786547 229.874489 \r\nL 316.563018 229.874489 \r\nL 318.353392 32.201761 \r\nL 320.143767 229.874489 \r\nL 406.081735 229.874489 \r\nL 406.081735 229.874489 \r\n\" style=\"fill:none;stroke:#2ca02c;stroke-linecap:square;stroke-width:1.5;\"/>\r\n   </g>\r\n   <g id=\"patch_3\">\r\n    <path d=\"M 30.103125 239.758125 \r\nL 30.103125 22.318125 \r\n\" style=\"fill:none;stroke:#000000;stroke-linecap:square;stroke-linejoin:miter;stroke-width:0.8;\"/>\r\n   </g>\r\n   <g id=\"patch_4\">\r\n    <path d=\"M 423.985478 239.758125 \r\nL 423.985478 22.318125 \r\n\" style=\"fill:none;stroke:#000000;stroke-linecap:square;stroke-linejoin:miter;stroke-width:0.8;\"/>\r\n   </g>\r\n   <g id=\"patch_5\">\r\n    <path d=\"M 30.103125 239.758125 \r\nL 423.985478 239.758125 \r\n\" style=\"fill:none;stroke:#000000;stroke-linecap:square;stroke-linejoin:miter;stroke-width:0.8;\"/>\r\n   </g>\r\n   <g id=\"patch_6\">\r\n    <path d=\"M 30.103125 22.318125 \r\nL 423.985478 22.318125 \r\n\" style=\"fill:none;stroke:#000000;stroke-linecap:square;stroke-linejoin:miter;stroke-width:0.8;\"/>\r\n   </g>\r\n   <g id=\"text_16\">\r\n    <!-- State -->\r\n    <g transform=\"translate(211.162114 16.318125)scale(0.12 -0.12)\">\r\n     <defs>\r\n      <path d=\"M 53.515625 70.515625 \r\nL 53.515625 60.890625 \r\nQ 47.90625 63.578125 42.921875 64.890625 \r\nQ 37.9375 66.21875 33.296875 66.21875 \r\nQ 25.25 66.21875 20.875 63.09375 \r\nQ 16.5 59.96875 16.5 54.203125 \r\nQ 16.5 49.359375 19.40625 46.890625 \r\nQ 22.3125 44.4375 30.421875 42.921875 \r\nL 36.375 41.703125 \r\nQ 47.40625 39.59375 52.65625 34.296875 \r\nQ 57.90625 29 57.90625 20.125 \r\nQ 57.90625 9.515625 50.796875 4.046875 \r\nQ 43.703125 -1.421875 29.984375 -1.421875 \r\nQ 24.8125 -1.421875 18.96875 -0.25 \r\nQ 13.140625 0.921875 6.890625 3.21875 \r\nL 6.890625 13.375 \r\nQ 12.890625 10.015625 18.65625 8.296875 \r\nQ 24.421875 6.59375 29.984375 6.59375 \r\nQ 38.421875 6.59375 43.015625 9.90625 \r\nQ 47.609375 13.234375 47.609375 19.390625 \r\nQ 47.609375 24.75 44.3125 27.78125 \r\nQ 41.015625 30.8125 33.5 32.328125 \r\nL 27.484375 33.5 \r\nQ 16.453125 35.6875 11.515625 40.375 \r\nQ 6.59375 45.0625 6.59375 53.421875 \r\nQ 6.59375 63.09375 13.40625 68.65625 \r\nQ 20.21875 74.21875 32.171875 74.21875 \r\nQ 37.3125 74.21875 42.625 73.28125 \r\nQ 47.953125 72.359375 53.515625 70.515625 \r\nz\r\n\" id=\"DejaVuSans-83\"/>\r\n      <path d=\"M 18.3125 70.21875 \r\nL 18.3125 54.6875 \r\nL 36.8125 54.6875 \r\nL 36.8125 47.703125 \r\nL 18.3125 47.703125 \r\nL 18.3125 18.015625 \r\nQ 18.3125 11.328125 20.140625 9.421875 \r\nQ 21.96875 7.515625 27.59375 7.515625 \r\nL 36.8125 7.515625 \r\nL 36.8125 0 \r\nL 27.59375 0 \r\nQ 17.1875 0 13.234375 3.875 \r\nQ 9.28125 7.765625 9.28125 18.015625 \r\nL 9.28125 47.703125 \r\nL 2.6875 47.703125 \r\nL 2.6875 54.6875 \r\nL 9.28125 54.6875 \r\nL 9.28125 70.21875 \r\nz\r\n\" id=\"DejaVuSans-116\"/>\r\n      <path d=\"M 34.28125 27.484375 \r\nQ 23.390625 27.484375 19.1875 25 \r\nQ 14.984375 22.515625 14.984375 16.5 \r\nQ 14.984375 11.71875 18.140625 8.90625 \r\nQ 21.296875 6.109375 26.703125 6.109375 \r\nQ 34.1875 6.109375 38.703125 11.40625 \r\nQ 43.21875 16.703125 43.21875 25.484375 \r\nL 43.21875 27.484375 \r\nz\r\nM 52.203125 31.203125 \r\nL 52.203125 0 \r\nL 43.21875 0 \r\nL 43.21875 8.296875 \r\nQ 40.140625 3.328125 35.546875 0.953125 \r\nQ 30.953125 -1.421875 24.3125 -1.421875 \r\nQ 15.921875 -1.421875 10.953125 3.296875 \r\nQ 6 8.015625 6 15.921875 \r\nQ 6 25.140625 12.171875 29.828125 \r\nQ 18.359375 34.515625 30.609375 34.515625 \r\nL 43.21875 34.515625 \r\nL 43.21875 35.40625 \r\nQ 43.21875 41.609375 39.140625 45 \r\nQ 35.0625 48.390625 27.6875 48.390625 \r\nQ 23 48.390625 18.546875 47.265625 \r\nQ 14.109375 46.140625 10.015625 43.890625 \r\nL 10.015625 52.203125 \r\nQ 14.9375 54.109375 19.578125 55.046875 \r\nQ 24.21875 56 28.609375 56 \r\nQ 40.484375 56 46.34375 49.84375 \r\nQ 52.203125 43.703125 52.203125 31.203125 \r\nz\r\n\" id=\"DejaVuSans-97\"/>\r\n      <path d=\"M 56.203125 29.59375 \r\nL 56.203125 25.203125 \r\nL 14.890625 25.203125 \r\nQ 15.484375 15.921875 20.484375 11.0625 \r\nQ 25.484375 6.203125 34.421875 6.203125 \r\nQ 39.59375 6.203125 44.453125 7.46875 \r\nQ 49.3125 8.734375 54.109375 11.28125 \r\nL 54.109375 2.78125 \r\nQ 49.265625 0.734375 44.1875 -0.34375 \r\nQ 39.109375 -1.421875 33.890625 -1.421875 \r\nQ 20.796875 -1.421875 13.15625 6.1875 \r\nQ 5.515625 13.8125 5.515625 26.8125 \r\nQ 5.515625 40.234375 12.765625 48.109375 \r\nQ 20.015625 56 32.328125 56 \r\nQ 43.359375 56 49.78125 48.890625 \r\nQ 56.203125 41.796875 56.203125 29.59375 \r\nz\r\nM 47.21875 32.234375 \r\nQ 47.125 39.59375 43.09375 43.984375 \r\nQ 39.0625 48.390625 32.421875 48.390625 \r\nQ 24.90625 48.390625 20.390625 44.140625 \r\nQ 15.875 39.890625 15.1875 32.171875 \r\nz\r\n\" id=\"DejaVuSans-101\"/>\r\n     </defs>\r\n     <use xlink:href=\"#DejaVuSans-83\"/>\r\n     <use x=\"63.476562\" xlink:href=\"#DejaVuSans-116\"/>\r\n     <use x=\"102.685547\" xlink:href=\"#DejaVuSans-97\"/>\r\n     <use x=\"163.964844\" xlink:href=\"#DejaVuSans-116\"/>\r\n     <use x=\"203.173828\" xlink:href=\"#DejaVuSans-101\"/>\r\n    </g>\r\n   </g>\r\n   <g id=\"legend_1\">\r\n    <g id=\"patch_7\">\r\n     <path d=\"M 37.103125 74.3525 \r\nL 116.33125 74.3525 \r\nQ 118.33125 74.3525 118.33125 72.3525 \r\nL 118.33125 29.318125 \r\nQ 118.33125 27.318125 116.33125 27.318125 \r\nL 37.103125 27.318125 \r\nQ 35.103125 27.318125 35.103125 29.318125 \r\nL 35.103125 72.3525 \r\nQ 35.103125 74.3525 37.103125 74.3525 \r\nz\r\n\" style=\"fill:#ffffff;opacity:0.8;stroke:#cccccc;stroke-linejoin:miter;\"/>\r\n    </g>\r\n    <g id=\"line2d_19\">\r\n     <path d=\"M 39.103125 35.416563 \r\nL 59.103125 35.416563 \r\n\" style=\"fill:none;stroke:#1f77b4;stroke-linecap:square;stroke-width:1.5;\"/>\r\n    </g>\r\n    <g id=\"line2d_20\"/>\r\n    <g id=\"text_17\">\r\n     <!-- initiation -->\r\n     <g transform=\"translate(67.103125 38.916563)scale(0.1 -0.1)\">\r\n      <defs>\r\n       <path d=\"M 9.421875 54.6875 \r\nL 18.40625 54.6875 \r\nL 18.40625 0 \r\nL 9.421875 0 \r\nz\r\nM 9.421875 75.984375 \r\nL 18.40625 75.984375 \r\nL 18.40625 64.59375 \r\nL 9.421875 64.59375 \r\nz\r\n\" id=\"DejaVuSans-105\"/>\r\n       <path d=\"M 54.890625 33.015625 \r\nL 54.890625 0 \r\nL 45.90625 0 \r\nL 45.90625 32.71875 \r\nQ 45.90625 40.484375 42.875 44.328125 \r\nQ 39.84375 48.1875 33.796875 48.1875 \r\nQ 26.515625 48.1875 22.3125 43.546875 \r\nQ 18.109375 38.921875 18.109375 30.90625 \r\nL 18.109375 0 \r\nL 9.078125 0 \r\nL 9.078125 54.6875 \r\nL 18.109375 54.6875 \r\nL 18.109375 46.1875 \r\nQ 21.34375 51.125 25.703125 53.5625 \r\nQ 30.078125 56 35.796875 56 \r\nQ 45.21875 56 50.046875 50.171875 \r\nQ 54.890625 44.34375 54.890625 33.015625 \r\nz\r\n\" id=\"DejaVuSans-110\"/>\r\n       <path d=\"M 30.609375 48.390625 \r\nQ 23.390625 48.390625 19.1875 42.75 \r\nQ 14.984375 37.109375 14.984375 27.296875 \r\nQ 14.984375 17.484375 19.15625 11.84375 \r\nQ 23.34375 6.203125 30.609375 6.203125 \r\nQ 37.796875 6.203125 41.984375 11.859375 \r\nQ 46.1875 17.53125 46.1875 27.296875 \r\nQ 46.1875 37.015625 41.984375 42.703125 \r\nQ 37.796875 48.390625 30.609375 48.390625 \r\nz\r\nM 30.609375 56 \r\nQ 42.328125 56 49.015625 48.375 \r\nQ 55.71875 40.765625 55.71875 27.296875 \r\nQ 55.71875 13.875 49.015625 6.21875 \r\nQ 42.328125 -1.421875 30.609375 -1.421875 \r\nQ 18.84375 -1.421875 12.171875 6.21875 \r\nQ 5.515625 13.875 5.515625 27.296875 \r\nQ 5.515625 40.765625 12.171875 48.375 \r\nQ 18.84375 56 30.609375 56 \r\nz\r\n\" id=\"DejaVuSans-111\"/>\r\n      </defs>\r\n      <use xlink:href=\"#DejaVuSans-105\"/>\r\n      <use x=\"27.783203\" xlink:href=\"#DejaVuSans-110\"/>\r\n      <use x=\"91.162109\" xlink:href=\"#DejaVuSans-105\"/>\r\n      <use x=\"118.945312\" xlink:href=\"#DejaVuSans-116\"/>\r\n      <use x=\"158.154297\" xlink:href=\"#DejaVuSans-105\"/>\r\n      <use x=\"185.9375\" xlink:href=\"#DejaVuSans-97\"/>\r\n      <use x=\"247.216797\" xlink:href=\"#DejaVuSans-116\"/>\r\n      <use x=\"286.425781\" xlink:href=\"#DejaVuSans-105\"/>\r\n      <use x=\"314.208984\" xlink:href=\"#DejaVuSans-111\"/>\r\n      <use x=\"375.390625\" xlink:href=\"#DejaVuSans-110\"/>\r\n     </g>\r\n    </g>\r\n    <g id=\"line2d_21\">\r\n     <path d=\"M 39.103125 50.094688 \r\nL 59.103125 50.094688 \r\n\" style=\"fill:none;stroke:#ff7f0e;stroke-linecap:square;stroke-width:1.5;\"/>\r\n    </g>\r\n    <g id=\"line2d_22\"/>\r\n    <g id=\"text_18\">\r\n     <!-- failure -->\r\n     <g transform=\"translate(67.103125 53.594688)scale(0.1 -0.1)\">\r\n      <defs>\r\n       <path d=\"M 37.109375 75.984375 \r\nL 37.109375 68.5 \r\nL 28.515625 68.5 \r\nQ 23.6875 68.5 21.796875 66.546875 \r\nQ 19.921875 64.59375 19.921875 59.515625 \r\nL 19.921875 54.6875 \r\nL 34.71875 54.6875 \r\nL 34.71875 47.703125 \r\nL 19.921875 47.703125 \r\nL 19.921875 0 \r\nL 10.890625 0 \r\nL 10.890625 47.703125 \r\nL 2.296875 47.703125 \r\nL 2.296875 54.6875 \r\nL 10.890625 54.6875 \r\nL 10.890625 58.5 \r\nQ 10.890625 67.625 15.140625 71.796875 \r\nQ 19.390625 75.984375 28.609375 75.984375 \r\nz\r\n\" id=\"DejaVuSans-102\"/>\r\n       <path d=\"M 9.421875 75.984375 \r\nL 18.40625 75.984375 \r\nL 18.40625 0 \r\nL 9.421875 0 \r\nz\r\n\" id=\"DejaVuSans-108\"/>\r\n       <path d=\"M 8.5 21.578125 \r\nL 8.5 54.6875 \r\nL 17.484375 54.6875 \r\nL 17.484375 21.921875 \r\nQ 17.484375 14.15625 20.5 10.265625 \r\nQ 23.53125 6.390625 29.59375 6.390625 \r\nQ 36.859375 6.390625 41.078125 11.03125 \r\nQ 45.3125 15.671875 45.3125 23.6875 \r\nL 45.3125 54.6875 \r\nL 54.296875 54.6875 \r\nL 54.296875 0 \r\nL 45.3125 0 \r\nL 45.3125 8.40625 \r\nQ 42.046875 3.421875 37.71875 1 \r\nQ 33.40625 -1.421875 27.6875 -1.421875 \r\nQ 18.265625 -1.421875 13.375 4.4375 \r\nQ 8.5 10.296875 8.5 21.578125 \r\nz\r\nM 31.109375 56 \r\nz\r\n\" id=\"DejaVuSans-117\"/>\r\n       <path d=\"M 41.109375 46.296875 \r\nQ 39.59375 47.171875 37.8125 47.578125 \r\nQ 36.03125 48 33.890625 48 \r\nQ 26.265625 48 22.1875 43.046875 \r\nQ 18.109375 38.09375 18.109375 28.8125 \r\nL 18.109375 0 \r\nL 9.078125 0 \r\nL 9.078125 54.6875 \r\nL 18.109375 54.6875 \r\nL 18.109375 46.1875 \r\nQ 20.953125 51.171875 25.484375 53.578125 \r\nQ 30.03125 56 36.53125 56 \r\nQ 37.453125 56 38.578125 55.875 \r\nQ 39.703125 55.765625 41.0625 55.515625 \r\nz\r\n\" id=\"DejaVuSans-114\"/>\r\n      </defs>\r\n      <use xlink:href=\"#DejaVuSans-102\"/>\r\n      <use x=\"35.205078\" xlink:href=\"#DejaVuSans-97\"/>\r\n      <use x=\"96.484375\" xlink:href=\"#DejaVuSans-105\"/>\r\n      <use x=\"124.267578\" xlink:href=\"#DejaVuSans-108\"/>\r\n      <use x=\"152.050781\" xlink:href=\"#DejaVuSans-117\"/>\r\n      <use x=\"215.429688\" xlink:href=\"#DejaVuSans-114\"/>\r\n      <use x=\"254.292969\" xlink:href=\"#DejaVuSans-101\"/>\r\n     </g>\r\n    </g>\r\n    <g id=\"line2d_23\">\r\n     <path d=\"M 39.103125 64.772813 \r\nL 59.103125 64.772813 \r\n\" style=\"fill:none;stroke:#2ca02c;stroke-linecap:square;stroke-width:1.5;\"/>\r\n    </g>\r\n    <g id=\"line2d_24\"/>\r\n    <g id=\"text_19\">\r\n     <!-- detection -->\r\n     <g transform=\"translate(67.103125 68.272813)scale(0.1 -0.1)\">\r\n      <defs>\r\n       <path d=\"M 45.40625 46.390625 \r\nL 45.40625 75.984375 \r\nL 54.390625 75.984375 \r\nL 54.390625 0 \r\nL 45.40625 0 \r\nL 45.40625 8.203125 \r\nQ 42.578125 3.328125 38.25 0.953125 \r\nQ 33.9375 -1.421875 27.875 -1.421875 \r\nQ 17.96875 -1.421875 11.734375 6.484375 \r\nQ 5.515625 14.40625 5.515625 27.296875 \r\nQ 5.515625 40.1875 11.734375 48.09375 \r\nQ 17.96875 56 27.875 56 \r\nQ 33.9375 56 38.25 53.625 \r\nQ 42.578125 51.265625 45.40625 46.390625 \r\nz\r\nM 14.796875 27.296875 \r\nQ 14.796875 17.390625 18.875 11.75 \r\nQ 22.953125 6.109375 30.078125 6.109375 \r\nQ 37.203125 6.109375 41.296875 11.75 \r\nQ 45.40625 17.390625 45.40625 27.296875 \r\nQ 45.40625 37.203125 41.296875 42.84375 \r\nQ 37.203125 48.484375 30.078125 48.484375 \r\nQ 22.953125 48.484375 18.875 42.84375 \r\nQ 14.796875 37.203125 14.796875 27.296875 \r\nz\r\n\" id=\"DejaVuSans-100\"/>\r\n       <path d=\"M 48.78125 52.59375 \r\nL 48.78125 44.1875 \r\nQ 44.96875 46.296875 41.140625 47.34375 \r\nQ 37.3125 48.390625 33.40625 48.390625 \r\nQ 24.65625 48.390625 19.8125 42.84375 \r\nQ 14.984375 37.3125 14.984375 27.296875 \r\nQ 14.984375 17.28125 19.8125 11.734375 \r\nQ 24.65625 6.203125 33.40625 6.203125 \r\nQ 37.3125 6.203125 41.140625 7.25 \r\nQ 44.96875 8.296875 48.78125 10.40625 \r\nL 48.78125 2.09375 \r\nQ 45.015625 0.34375 40.984375 -0.53125 \r\nQ 36.96875 -1.421875 32.421875 -1.421875 \r\nQ 20.0625 -1.421875 12.78125 6.34375 \r\nQ 5.515625 14.109375 5.515625 27.296875 \r\nQ 5.515625 40.671875 12.859375 48.328125 \r\nQ 20.21875 56 33.015625 56 \r\nQ 37.15625 56 41.109375 55.140625 \r\nQ 45.0625 54.296875 48.78125 52.59375 \r\nz\r\n\" id=\"DejaVuSans-99\"/>\r\n      </defs>\r\n      <use xlink:href=\"#DejaVuSans-100\"/>\r\n      <use x=\"63.476562\" xlink:href=\"#DejaVuSans-101\"/>\r\n      <use x=\"125\" xlink:href=\"#DejaVuSans-116\"/>\r\n      <use x=\"164.208984\" xlink:href=\"#DejaVuSans-101\"/>\r\n      <use x=\"225.732422\" xlink:href=\"#DejaVuSans-99\"/>\r\n      <use x=\"280.712891\" xlink:href=\"#DejaVuSans-116\"/>\r\n      <use x=\"319.921875\" xlink:href=\"#DejaVuSans-105\"/>\r\n      <use x=\"347.705078\" xlink:href=\"#DejaVuSans-111\"/>\r\n      <use x=\"408.886719\" xlink:href=\"#DejaVuSans-110\"/>\r\n     </g>\r\n    </g>\r\n   </g>\r\n  </g>\r\n  <g id=\"axes_2\">\r\n   <g id=\"patch_8\">\r\n    <path d=\"M 502.761949 239.758125 \r\nL 896.644301 239.758125 \r\nL 896.644301 22.318125 \r\nL 502.761949 22.318125 \r\nz\r\n\" style=\"fill:#ffffff;\"/>\r\n   </g>\r\n   <g id=\"matplotlib.axis_3\">\r\n    <g id=\"xtick_10\">\r\n     <g id=\"line2d_25\">\r\n      <g>\r\n       <use style=\"stroke:#000000;stroke-width:0.8;\" x=\"520.665692\" xlink:href=\"#m08e9b8d91a\" y=\"239.758125\"/>\r\n      </g>\r\n     </g>\r\n     <g id=\"text_20\">\r\n      <!-- 0 -->\r\n      <g transform=\"translate(517.484442 254.356563)scale(0.1 -0.1)\">\r\n       <use xlink:href=\"#DejaVuSans-48\"/>\r\n      </g>\r\n     </g>\r\n    </g>\r\n    <g id=\"xtick_11\">\r\n     <g id=\"line2d_26\">\r\n      <g>\r\n       <use style=\"stroke:#000000;stroke-width:0.8;\" x=\"565.42505\" xlink:href=\"#m08e9b8d91a\" y=\"239.758125\"/>\r\n      </g>\r\n     </g>\r\n     <g id=\"text_21\">\r\n      <!-- 25 -->\r\n      <g transform=\"translate(559.06255 254.356563)scale(0.1 -0.1)\">\r\n       <use xlink:href=\"#DejaVuSans-50\"/>\r\n       <use x=\"63.623047\" xlink:href=\"#DejaVuSans-53\"/>\r\n      </g>\r\n     </g>\r\n    </g>\r\n    <g id=\"xtick_12\">\r\n     <g id=\"line2d_27\">\r\n      <g>\r\n       <use style=\"stroke:#000000;stroke-width:0.8;\" x=\"610.184408\" xlink:href=\"#m08e9b8d91a\" y=\"239.758125\"/>\r\n      </g>\r\n     </g>\r\n     <g id=\"text_22\">\r\n      <!-- 50 -->\r\n      <g transform=\"translate(603.821908 254.356563)scale(0.1 -0.1)\">\r\n       <use xlink:href=\"#DejaVuSans-53\"/>\r\n       <use x=\"63.623047\" xlink:href=\"#DejaVuSans-48\"/>\r\n      </g>\r\n     </g>\r\n    </g>\r\n    <g id=\"xtick_13\">\r\n     <g id=\"line2d_28\">\r\n      <g>\r\n       <use style=\"stroke:#000000;stroke-width:0.8;\" x=\"654.943767\" xlink:href=\"#m08e9b8d91a\" y=\"239.758125\"/>\r\n      </g>\r\n     </g>\r\n     <g id=\"text_23\">\r\n      <!-- 75 -->\r\n      <g transform=\"translate(648.581267 254.356563)scale(0.1 -0.1)\">\r\n       <use xlink:href=\"#DejaVuSans-55\"/>\r\n       <use x=\"63.623047\" xlink:href=\"#DejaVuSans-53\"/>\r\n      </g>\r\n     </g>\r\n    </g>\r\n    <g id=\"xtick_14\">\r\n     <g id=\"line2d_29\">\r\n      <g>\r\n       <use style=\"stroke:#000000;stroke-width:0.8;\" x=\"699.703125\" xlink:href=\"#m08e9b8d91a\" y=\"239.758125\"/>\r\n      </g>\r\n     </g>\r\n     <g id=\"text_24\">\r\n      <!-- 100 -->\r\n      <g transform=\"translate(690.159375 254.356563)scale(0.1 -0.1)\">\r\n       <use xlink:href=\"#DejaVuSans-49\"/>\r\n       <use x=\"63.623047\" xlink:href=\"#DejaVuSans-48\"/>\r\n       <use x=\"127.246094\" xlink:href=\"#DejaVuSans-48\"/>\r\n      </g>\r\n     </g>\r\n    </g>\r\n    <g id=\"xtick_15\">\r\n     <g id=\"line2d_30\">\r\n      <g>\r\n       <use style=\"stroke:#000000;stroke-width:0.8;\" x=\"744.462483\" xlink:href=\"#m08e9b8d91a\" y=\"239.758125\"/>\r\n      </g>\r\n     </g>\r\n     <g id=\"text_25\">\r\n      <!-- 125 -->\r\n      <g transform=\"translate(734.918733 254.356563)scale(0.1 -0.1)\">\r\n       <use xlink:href=\"#DejaVuSans-49\"/>\r\n       <use x=\"63.623047\" xlink:href=\"#DejaVuSans-50\"/>\r\n       <use x=\"127.246094\" xlink:href=\"#DejaVuSans-53\"/>\r\n      </g>\r\n     </g>\r\n    </g>\r\n    <g id=\"xtick_16\">\r\n     <g id=\"line2d_31\">\r\n      <g>\r\n       <use style=\"stroke:#000000;stroke-width:0.8;\" x=\"789.221842\" xlink:href=\"#m08e9b8d91a\" y=\"239.758125\"/>\r\n      </g>\r\n     </g>\r\n     <g id=\"text_26\">\r\n      <!-- 150 -->\r\n      <g transform=\"translate(779.678092 254.356563)scale(0.1 -0.1)\">\r\n       <use xlink:href=\"#DejaVuSans-49\"/>\r\n       <use x=\"63.623047\" xlink:href=\"#DejaVuSans-53\"/>\r\n       <use x=\"127.246094\" xlink:href=\"#DejaVuSans-48\"/>\r\n      </g>\r\n     </g>\r\n    </g>\r\n    <g id=\"xtick_17\">\r\n     <g id=\"line2d_32\">\r\n      <g>\r\n       <use style=\"stroke:#000000;stroke-width:0.8;\" x=\"833.9812\" xlink:href=\"#m08e9b8d91a\" y=\"239.758125\"/>\r\n      </g>\r\n     </g>\r\n     <g id=\"text_27\">\r\n      <!-- 175 -->\r\n      <g transform=\"translate(824.43745 254.356563)scale(0.1 -0.1)\">\r\n       <use xlink:href=\"#DejaVuSans-49\"/>\r\n       <use x=\"63.623047\" xlink:href=\"#DejaVuSans-55\"/>\r\n       <use x=\"127.246094\" xlink:href=\"#DejaVuSans-53\"/>\r\n      </g>\r\n     </g>\r\n    </g>\r\n    <g id=\"xtick_18\">\r\n     <g id=\"line2d_33\">\r\n      <g>\r\n       <use style=\"stroke:#000000;stroke-width:0.8;\" x=\"878.740558\" xlink:href=\"#m08e9b8d91a\" y=\"239.758125\"/>\r\n      </g>\r\n     </g>\r\n     <g id=\"text_28\">\r\n      <!-- 200 -->\r\n      <g transform=\"translate(869.196808 254.356563)scale(0.1 -0.1)\">\r\n       <use xlink:href=\"#DejaVuSans-50\"/>\r\n       <use x=\"63.623047\" xlink:href=\"#DejaVuSans-48\"/>\r\n       <use x=\"127.246094\" xlink:href=\"#DejaVuSans-48\"/>\r\n      </g>\r\n     </g>\r\n    </g>\r\n   </g>\r\n   <g id=\"matplotlib.axis_4\">\r\n    <g id=\"ytick_7\">\r\n     <g id=\"line2d_34\">\r\n      <g>\r\n       <use style=\"stroke:#000000;stroke-width:0.8;\" x=\"502.761949\" xlink:href=\"#m5d5e54a569\" y=\"229.874489\"/>\r\n      </g>\r\n     </g>\r\n     <g id=\"text_29\">\r\n      <!-- 65 -->\r\n      <g transform=\"translate(483.036949 233.673707)scale(0.1 -0.1)\">\r\n       <use xlink:href=\"#DejaVuSans-54\"/>\r\n       <use x=\"63.623047\" xlink:href=\"#DejaVuSans-53\"/>\r\n      </g>\r\n     </g>\r\n    </g>\r\n    <g id=\"ytick_8\">\r\n     <g id=\"line2d_35\">\r\n      <g>\r\n       <use style=\"stroke:#000000;stroke-width:0.8;\" x=\"502.761949\" xlink:href=\"#m5d5e54a569\" y=\"201.635528\"/>\r\n      </g>\r\n     </g>\r\n     <g id=\"text_30\">\r\n      <!-- 70 -->\r\n      <g transform=\"translate(483.036949 205.434746)scale(0.1 -0.1)\">\r\n       <use xlink:href=\"#DejaVuSans-55\"/>\r\n       <use x=\"63.623047\" xlink:href=\"#DejaVuSans-48\"/>\r\n      </g>\r\n     </g>\r\n    </g>\r\n    <g id=\"ytick_9\">\r\n     <g id=\"line2d_36\">\r\n      <g>\r\n       <use style=\"stroke:#000000;stroke-width:0.8;\" x=\"502.761949\" xlink:href=\"#m5d5e54a569\" y=\"173.396567\"/>\r\n      </g>\r\n     </g>\r\n     <g id=\"text_31\">\r\n      <!-- 75 -->\r\n      <g transform=\"translate(483.036949 177.195785)scale(0.1 -0.1)\">\r\n       <use xlink:href=\"#DejaVuSans-55\"/>\r\n       <use x=\"63.623047\" xlink:href=\"#DejaVuSans-53\"/>\r\n      </g>\r\n     </g>\r\n    </g>\r\n    <g id=\"ytick_10\">\r\n     <g id=\"line2d_37\">\r\n      <g>\r\n       <use style=\"stroke:#000000;stroke-width:0.8;\" x=\"502.761949\" xlink:href=\"#m5d5e54a569\" y=\"145.157606\"/>\r\n      </g>\r\n     </g>\r\n     <g id=\"text_32\">\r\n      <!-- 80 -->\r\n      <g transform=\"translate(483.036949 148.956824)scale(0.1 -0.1)\">\r\n       <use xlink:href=\"#DejaVuSans-56\"/>\r\n       <use x=\"63.623047\" xlink:href=\"#DejaVuSans-48\"/>\r\n      </g>\r\n     </g>\r\n    </g>\r\n    <g id=\"ytick_11\">\r\n     <g id=\"line2d_38\">\r\n      <g>\r\n       <use style=\"stroke:#000000;stroke-width:0.8;\" x=\"502.761949\" xlink:href=\"#m5d5e54a569\" y=\"116.918644\"/>\r\n      </g>\r\n     </g>\r\n     <g id=\"text_33\">\r\n      <!-- 85 -->\r\n      <g transform=\"translate(483.036949 120.717863)scale(0.1 -0.1)\">\r\n       <use xlink:href=\"#DejaVuSans-56\"/>\r\n       <use x=\"63.623047\" xlink:href=\"#DejaVuSans-53\"/>\r\n      </g>\r\n     </g>\r\n    </g>\r\n    <g id=\"ytick_12\">\r\n     <g id=\"line2d_39\">\r\n      <g>\r\n       <use style=\"stroke:#000000;stroke-width:0.8;\" x=\"502.761949\" xlink:href=\"#m5d5e54a569\" y=\"88.679683\"/>\r\n      </g>\r\n     </g>\r\n     <g id=\"text_34\">\r\n      <!-- 90 -->\r\n      <g transform=\"translate(483.036949 92.478902)scale(0.1 -0.1)\">\r\n       <defs>\r\n        <path d=\"M 10.984375 1.515625 \r\nL 10.984375 10.5 \r\nQ 14.703125 8.734375 18.5 7.8125 \r\nQ 22.3125 6.890625 25.984375 6.890625 \r\nQ 35.75 6.890625 40.890625 13.453125 \r\nQ 46.046875 20.015625 46.78125 33.40625 \r\nQ 43.953125 29.203125 39.59375 26.953125 \r\nQ 35.25 24.703125 29.984375 24.703125 \r\nQ 19.046875 24.703125 12.671875 31.3125 \r\nQ 6.296875 37.9375 6.296875 49.421875 \r\nQ 6.296875 60.640625 12.9375 67.421875 \r\nQ 19.578125 74.21875 30.609375 74.21875 \r\nQ 43.265625 74.21875 49.921875 64.515625 \r\nQ 56.59375 54.828125 56.59375 36.375 \r\nQ 56.59375 19.140625 48.40625 8.859375 \r\nQ 40.234375 -1.421875 26.421875 -1.421875 \r\nQ 22.703125 -1.421875 18.890625 -0.6875 \r\nQ 15.09375 0.046875 10.984375 1.515625 \r\nz\r\nM 30.609375 32.421875 \r\nQ 37.25 32.421875 41.125 36.953125 \r\nQ 45.015625 41.5 45.015625 49.421875 \r\nQ 45.015625 57.28125 41.125 61.84375 \r\nQ 37.25 66.40625 30.609375 66.40625 \r\nQ 23.96875 66.40625 20.09375 61.84375 \r\nQ 16.21875 57.28125 16.21875 49.421875 \r\nQ 16.21875 41.5 20.09375 36.953125 \r\nQ 23.96875 32.421875 30.609375 32.421875 \r\nz\r\n\" id=\"DejaVuSans-57\"/>\r\n       </defs>\r\n       <use xlink:href=\"#DejaVuSans-57\"/>\r\n       <use x=\"63.623047\" xlink:href=\"#DejaVuSans-48\"/>\r\n      </g>\r\n     </g>\r\n    </g>\r\n    <g id=\"ytick_13\">\r\n     <g id=\"line2d_40\">\r\n      <g>\r\n       <use style=\"stroke:#000000;stroke-width:0.8;\" x=\"502.761949\" xlink:href=\"#m5d5e54a569\" y=\"60.440722\"/>\r\n      </g>\r\n     </g>\r\n     <g id=\"text_35\">\r\n      <!-- 95 -->\r\n      <g transform=\"translate(483.036949 64.239941)scale(0.1 -0.1)\">\r\n       <use xlink:href=\"#DejaVuSans-57\"/>\r\n       <use x=\"63.623047\" xlink:href=\"#DejaVuSans-53\"/>\r\n      </g>\r\n     </g>\r\n    </g>\r\n    <g id=\"ytick_14\">\r\n     <g id=\"line2d_41\">\r\n      <g>\r\n       <use style=\"stroke:#000000;stroke-width:0.8;\" x=\"502.761949\" xlink:href=\"#m5d5e54a569\" y=\"32.201761\"/>\r\n      </g>\r\n     </g>\r\n     <g id=\"text_36\">\r\n      <!-- 100 -->\r\n      <g transform=\"translate(476.674449 36.00098)scale(0.1 -0.1)\">\r\n       <use xlink:href=\"#DejaVuSans-49\"/>\r\n       <use x=\"63.623047\" xlink:href=\"#DejaVuSans-48\"/>\r\n       <use x=\"127.246094\" xlink:href=\"#DejaVuSans-48\"/>\r\n      </g>\r\n     </g>\r\n    </g>\r\n   </g>\r\n   <g id=\"line2d_42\">\r\n    <path clip-path=\"url(#pc7be00532f)\" d=\"M 520.665692 32.201761 \r\nL 699.703125 32.201761 \r\nL 708.654997 173.396567 \r\nL 787.431467 173.396567 \r\nL 791.012216 229.874489 \r\nL 878.740558 229.874489 \r\nL 878.740558 229.874489 \r\n\" style=\"fill:none;stroke:#1f77b4;stroke-linecap:square;stroke-width:1.5;\"/>\r\n   </g>\r\n   <g id=\"line2d_43\">\r\n    <path clip-path=\"url(#pc7be00532f)\" d=\"M 520.665692 32.201761 \r\nL 699.703125 32.201761 \r\nL 708.654997 88.679683 \r\nL 710.445371 32.201761 \r\nL 787.431467 32.201761 \r\nL 791.012216 54.79293 \r\nL 792.80259 32.201761 \r\nL 878.740558 32.201761 \r\nL 878.740558 32.201761 \r\n\" style=\"fill:none;stroke:#ff7f0e;stroke-linecap:square;stroke-width:1.5;\"/>\r\n   </g>\r\n   <g id=\"patch_9\">\r\n    <path d=\"M 502.761949 239.758125 \r\nL 502.761949 22.318125 \r\n\" style=\"fill:none;stroke:#000000;stroke-linecap:square;stroke-linejoin:miter;stroke-width:0.8;\"/>\r\n   </g>\r\n   <g id=\"patch_10\">\r\n    <path d=\"M 896.644301 239.758125 \r\nL 896.644301 22.318125 \r\n\" style=\"fill:none;stroke:#000000;stroke-linecap:square;stroke-linejoin:miter;stroke-width:0.8;\"/>\r\n   </g>\r\n   <g id=\"patch_11\">\r\n    <path d=\"M 502.761949 239.758125 \r\nL 896.644301 239.758125 \r\n\" style=\"fill:none;stroke:#000000;stroke-linecap:square;stroke-linejoin:miter;stroke-width:0.8;\"/>\r\n   </g>\r\n   <g id=\"patch_12\">\r\n    <path d=\"M 502.761949 22.318125 \r\nL 896.644301 22.318125 \r\n\" style=\"fill:none;stroke:#000000;stroke-linecap:square;stroke-linejoin:miter;stroke-width:0.8;\"/>\r\n   </g>\r\n   <g id=\"text_37\">\r\n    <!-- Condition -->\r\n    <g transform=\"translate(671.070938 16.318125)scale(0.12 -0.12)\">\r\n     <defs>\r\n      <path d=\"M 64.40625 67.28125 \r\nL 64.40625 56.890625 \r\nQ 59.421875 61.53125 53.78125 63.8125 \r\nQ 48.140625 66.109375 41.796875 66.109375 \r\nQ 29.296875 66.109375 22.65625 58.46875 \r\nQ 16.015625 50.828125 16.015625 36.375 \r\nQ 16.015625 21.96875 22.65625 14.328125 \r\nQ 29.296875 6.6875 41.796875 6.6875 \r\nQ 48.140625 6.6875 53.78125 8.984375 \r\nQ 59.421875 11.28125 64.40625 15.921875 \r\nL 64.40625 5.609375 \r\nQ 59.234375 2.09375 53.4375 0.328125 \r\nQ 47.65625 -1.421875 41.21875 -1.421875 \r\nQ 24.65625 -1.421875 15.125 8.703125 \r\nQ 5.609375 18.84375 5.609375 36.375 \r\nQ 5.609375 53.953125 15.125 64.078125 \r\nQ 24.65625 74.21875 41.21875 74.21875 \r\nQ 47.75 74.21875 53.53125 72.484375 \r\nQ 59.328125 70.75 64.40625 67.28125 \r\nz\r\n\" id=\"DejaVuSans-67\"/>\r\n     </defs>\r\n     <use xlink:href=\"#DejaVuSans-67\"/>\r\n     <use x=\"69.824219\" xlink:href=\"#DejaVuSans-111\"/>\r\n     <use x=\"131.005859\" xlink:href=\"#DejaVuSans-110\"/>\r\n     <use x=\"194.384766\" xlink:href=\"#DejaVuSans-100\"/>\r\n     <use x=\"257.861328\" xlink:href=\"#DejaVuSans-105\"/>\r\n     <use x=\"285.644531\" xlink:href=\"#DejaVuSans-116\"/>\r\n     <use x=\"324.853516\" xlink:href=\"#DejaVuSans-105\"/>\r\n     <use x=\"352.636719\" xlink:href=\"#DejaVuSans-111\"/>\r\n     <use x=\"413.818359\" xlink:href=\"#DejaVuSans-110\"/>\r\n    </g>\r\n   </g>\r\n   <g id=\"legend_2\">\r\n    <g id=\"patch_13\">\r\n     <path d=\"M 509.761949 234.758125 \r\nL 633.244761 234.758125 \r\nQ 635.244761 234.758125 635.244761 232.758125 \r\nL 635.244761 203.845625 \r\nQ 635.244761 201.845625 633.244761 201.845625 \r\nL 509.761949 201.845625 \r\nQ 507.761949 201.845625 507.761949 203.845625 \r\nL 507.761949 232.758125 \r\nQ 507.761949 234.758125 509.761949 234.758125 \r\nz\r\n\" style=\"fill:#ffffff;opacity:0.8;stroke:#cccccc;stroke-linejoin:miter;\"/>\r\n    </g>\r\n    <g id=\"line2d_44\">\r\n     <path d=\"M 511.761949 209.944063 \r\nL 531.761949 209.944063 \r\n\" style=\"fill:none;stroke:#1f77b4;stroke-linecap:square;stroke-width:1.5;\"/>\r\n    </g>\r\n    <g id=\"line2d_45\"/>\r\n    <g id=\"text_38\">\r\n     <!-- wall_thickness -->\r\n     <g transform=\"translate(539.761949 213.444063)scale(0.1 -0.1)\">\r\n      <defs>\r\n       <path d=\"M 4.203125 54.6875 \r\nL 13.1875 54.6875 \r\nL 24.421875 12.015625 \r\nL 35.59375 54.6875 \r\nL 46.1875 54.6875 \r\nL 57.421875 12.015625 \r\nL 68.609375 54.6875 \r\nL 77.59375 54.6875 \r\nL 63.28125 0 \r\nL 52.6875 0 \r\nL 40.921875 44.828125 \r\nL 29.109375 0 \r\nL 18.5 0 \r\nz\r\n\" id=\"DejaVuSans-119\"/>\r\n       <path d=\"M 50.984375 -16.609375 \r\nL 50.984375 -23.578125 \r\nL -0.984375 -23.578125 \r\nL -0.984375 -16.609375 \r\nz\r\n\" id=\"DejaVuSans-95\"/>\r\n       <path d=\"M 54.890625 33.015625 \r\nL 54.890625 0 \r\nL 45.90625 0 \r\nL 45.90625 32.71875 \r\nQ 45.90625 40.484375 42.875 44.328125 \r\nQ 39.84375 48.1875 33.796875 48.1875 \r\nQ 26.515625 48.1875 22.3125 43.546875 \r\nQ 18.109375 38.921875 18.109375 30.90625 \r\nL 18.109375 0 \r\nL 9.078125 0 \r\nL 9.078125 75.984375 \r\nL 18.109375 75.984375 \r\nL 18.109375 46.1875 \r\nQ 21.34375 51.125 25.703125 53.5625 \r\nQ 30.078125 56 35.796875 56 \r\nQ 45.21875 56 50.046875 50.171875 \r\nQ 54.890625 44.34375 54.890625 33.015625 \r\nz\r\n\" id=\"DejaVuSans-104\"/>\r\n       <path d=\"M 9.078125 75.984375 \r\nL 18.109375 75.984375 \r\nL 18.109375 31.109375 \r\nL 44.921875 54.6875 \r\nL 56.390625 54.6875 \r\nL 27.390625 29.109375 \r\nL 57.625 0 \r\nL 45.90625 0 \r\nL 18.109375 26.703125 \r\nL 18.109375 0 \r\nL 9.078125 0 \r\nz\r\n\" id=\"DejaVuSans-107\"/>\r\n       <path d=\"M 44.28125 53.078125 \r\nL 44.28125 44.578125 \r\nQ 40.484375 46.53125 36.375 47.5 \r\nQ 32.28125 48.484375 27.875 48.484375 \r\nQ 21.1875 48.484375 17.84375 46.4375 \r\nQ 14.5 44.390625 14.5 40.28125 \r\nQ 14.5 37.15625 16.890625 35.375 \r\nQ 19.28125 33.59375 26.515625 31.984375 \r\nL 29.59375 31.296875 \r\nQ 39.15625 29.25 43.1875 25.515625 \r\nQ 47.21875 21.78125 47.21875 15.09375 \r\nQ 47.21875 7.46875 41.1875 3.015625 \r\nQ 35.15625 -1.421875 24.609375 -1.421875 \r\nQ 20.21875 -1.421875 15.453125 -0.5625 \r\nQ 10.6875 0.296875 5.421875 2 \r\nL 5.421875 11.28125 \r\nQ 10.40625 8.6875 15.234375 7.390625 \r\nQ 20.0625 6.109375 24.8125 6.109375 \r\nQ 31.15625 6.109375 34.5625 8.28125 \r\nQ 37.984375 10.453125 37.984375 14.40625 \r\nQ 37.984375 18.0625 35.515625 20.015625 \r\nQ 33.0625 21.96875 24.703125 23.78125 \r\nL 21.578125 24.515625 \r\nQ 13.234375 26.265625 9.515625 29.90625 \r\nQ 5.8125 33.546875 5.8125 39.890625 \r\nQ 5.8125 47.609375 11.28125 51.796875 \r\nQ 16.75 56 26.8125 56 \r\nQ 31.78125 56 36.171875 55.265625 \r\nQ 40.578125 54.546875 44.28125 53.078125 \r\nz\r\n\" id=\"DejaVuSans-115\"/>\r\n      </defs>\r\n      <use xlink:href=\"#DejaVuSans-119\"/>\r\n      <use x=\"81.787109\" xlink:href=\"#DejaVuSans-97\"/>\r\n      <use x=\"143.066406\" xlink:href=\"#DejaVuSans-108\"/>\r\n      <use x=\"170.849609\" xlink:href=\"#DejaVuSans-108\"/>\r\n      <use x=\"198.632812\" xlink:href=\"#DejaVuSans-95\"/>\r\n      <use x=\"248.632812\" xlink:href=\"#DejaVuSans-116\"/>\r\n      <use x=\"287.841797\" xlink:href=\"#DejaVuSans-104\"/>\r\n      <use x=\"351.220703\" xlink:href=\"#DejaVuSans-105\"/>\r\n      <use x=\"379.003906\" xlink:href=\"#DejaVuSans-99\"/>\r\n      <use x=\"433.984375\" xlink:href=\"#DejaVuSans-107\"/>\r\n      <use x=\"491.894531\" xlink:href=\"#DejaVuSans-110\"/>\r\n      <use x=\"555.273438\" xlink:href=\"#DejaVuSans-101\"/>\r\n      <use x=\"616.796875\" xlink:href=\"#DejaVuSans-115\"/>\r\n      <use x=\"668.896484\" xlink:href=\"#DejaVuSans-115\"/>\r\n     </g>\r\n    </g>\r\n    <g id=\"line2d_46\">\r\n     <path d=\"M 511.761949 224.900313 \r\nL 531.761949 224.900313 \r\n\" style=\"fill:none;stroke:#ff7f0e;stroke-linecap:square;stroke-width:1.5;\"/>\r\n    </g>\r\n    <g id=\"line2d_47\"/>\r\n    <g id=\"text_39\">\r\n     <!-- external_diameter -->\r\n     <g transform=\"translate(539.761949 228.400313)scale(0.1 -0.1)\">\r\n      <defs>\r\n       <path d=\"M 54.890625 54.6875 \r\nL 35.109375 28.078125 \r\nL 55.90625 0 \r\nL 45.3125 0 \r\nL 29.390625 21.484375 \r\nL 13.484375 0 \r\nL 2.875 0 \r\nL 24.125 28.609375 \r\nL 4.6875 54.6875 \r\nL 15.28125 54.6875 \r\nL 29.78125 35.203125 \r\nL 44.28125 54.6875 \r\nz\r\n\" id=\"DejaVuSans-120\"/>\r\n       <path d=\"M 52 44.1875 \r\nQ 55.375 50.25 60.0625 53.125 \r\nQ 64.75 56 71.09375 56 \r\nQ 79.640625 56 84.28125 50.015625 \r\nQ 88.921875 44.046875 88.921875 33.015625 \r\nL 88.921875 0 \r\nL 79.890625 0 \r\nL 79.890625 32.71875 \r\nQ 79.890625 40.578125 77.09375 44.375 \r\nQ 74.3125 48.1875 68.609375 48.1875 \r\nQ 61.625 48.1875 57.5625 43.546875 \r\nQ 53.515625 38.921875 53.515625 30.90625 \r\nL 53.515625 0 \r\nL 44.484375 0 \r\nL 44.484375 32.71875 \r\nQ 44.484375 40.625 41.703125 44.40625 \r\nQ 38.921875 48.1875 33.109375 48.1875 \r\nQ 26.21875 48.1875 22.15625 43.53125 \r\nQ 18.109375 38.875 18.109375 30.90625 \r\nL 18.109375 0 \r\nL 9.078125 0 \r\nL 9.078125 54.6875 \r\nL 18.109375 54.6875 \r\nL 18.109375 46.1875 \r\nQ 21.1875 51.21875 25.484375 53.609375 \r\nQ 29.78125 56 35.6875 56 \r\nQ 41.65625 56 45.828125 52.96875 \r\nQ 50 49.953125 52 44.1875 \r\nz\r\n\" id=\"DejaVuSans-109\"/>\r\n      </defs>\r\n      <use xlink:href=\"#DejaVuSans-101\"/>\r\n      <use x=\"59.773438\" xlink:href=\"#DejaVuSans-120\"/>\r\n      <use x=\"118.953125\" xlink:href=\"#DejaVuSans-116\"/>\r\n      <use x=\"158.162109\" xlink:href=\"#DejaVuSans-101\"/>\r\n      <use x=\"219.685547\" xlink:href=\"#DejaVuSans-114\"/>\r\n      <use x=\"259.048828\" xlink:href=\"#DejaVuSans-110\"/>\r\n      <use x=\"322.427734\" xlink:href=\"#DejaVuSans-97\"/>\r\n      <use x=\"383.707031\" xlink:href=\"#DejaVuSans-108\"/>\r\n      <use x=\"411.490234\" xlink:href=\"#DejaVuSans-95\"/>\r\n      <use x=\"461.490234\" xlink:href=\"#DejaVuSans-100\"/>\r\n      <use x=\"524.966797\" xlink:href=\"#DejaVuSans-105\"/>\r\n      <use x=\"552.75\" xlink:href=\"#DejaVuSans-97\"/>\r\n      <use x=\"614.029297\" xlink:href=\"#DejaVuSans-109\"/>\r\n      <use x=\"711.441406\" xlink:href=\"#DejaVuSans-101\"/>\r\n      <use x=\"772.964844\" xlink:href=\"#DejaVuSans-116\"/>\r\n      <use x=\"812.173828\" xlink:href=\"#DejaVuSans-101\"/>\r\n      <use x=\"873.697266\" xlink:href=\"#DejaVuSans-114\"/>\r\n     </g>\r\n    </g>\r\n   </g>\r\n  </g>\r\n  <g id=\"axes_3\">\r\n   <g id=\"patch_14\">\r\n    <path d=\"M 975.420772 239.758125 \r\nL 1369.303125 239.758125 \r\nL 1369.303125 22.318125 \r\nL 975.420772 22.318125 \r\nz\r\n\" style=\"fill:#ffffff;\"/>\r\n   </g>\r\n   <g id=\"matplotlib.axis_5\">\r\n    <g id=\"xtick_19\">\r\n     <g id=\"line2d_48\">\r\n      <g>\r\n       <use style=\"stroke:#000000;stroke-width:0.8;\" x=\"993.324515\" xlink:href=\"#m08e9b8d91a\" y=\"239.758125\"/>\r\n      </g>\r\n     </g>\r\n     <g id=\"text_40\">\r\n      <!-- 0 -->\r\n      <g transform=\"translate(990.143265 254.356563)scale(0.1 -0.1)\">\r\n       <use xlink:href=\"#DejaVuSans-48\"/>\r\n      </g>\r\n     </g>\r\n    </g>\r\n    <g id=\"xtick_20\">\r\n     <g id=\"line2d_49\">\r\n      <g>\r\n       <use style=\"stroke:#000000;stroke-width:0.8;\" x=\"1038.083874\" xlink:href=\"#m08e9b8d91a\" y=\"239.758125\"/>\r\n      </g>\r\n     </g>\r\n     <g id=\"text_41\">\r\n      <!-- 25 -->\r\n      <g transform=\"translate(1031.721374 254.356563)scale(0.1 -0.1)\">\r\n       <use xlink:href=\"#DejaVuSans-50\"/>\r\n       <use x=\"63.623047\" xlink:href=\"#DejaVuSans-53\"/>\r\n      </g>\r\n     </g>\r\n    </g>\r\n    <g id=\"xtick_21\">\r\n     <g id=\"line2d_50\">\r\n      <g>\r\n       <use style=\"stroke:#000000;stroke-width:0.8;\" x=\"1082.843232\" xlink:href=\"#m08e9b8d91a\" y=\"239.758125\"/>\r\n      </g>\r\n     </g>\r\n     <g id=\"text_42\">\r\n      <!-- 50 -->\r\n      <g transform=\"translate(1076.480732 254.356563)scale(0.1 -0.1)\">\r\n       <use xlink:href=\"#DejaVuSans-53\"/>\r\n       <use x=\"63.623047\" xlink:href=\"#DejaVuSans-48\"/>\r\n      </g>\r\n     </g>\r\n    </g>\r\n    <g id=\"xtick_22\">\r\n     <g id=\"line2d_51\">\r\n      <g>\r\n       <use style=\"stroke:#000000;stroke-width:0.8;\" x=\"1127.60259\" xlink:href=\"#m08e9b8d91a\" y=\"239.758125\"/>\r\n      </g>\r\n     </g>\r\n     <g id=\"text_43\">\r\n      <!-- 75 -->\r\n      <g transform=\"translate(1121.24009 254.356563)scale(0.1 -0.1)\">\r\n       <use xlink:href=\"#DejaVuSans-55\"/>\r\n       <use x=\"63.623047\" xlink:href=\"#DejaVuSans-53\"/>\r\n      </g>\r\n     </g>\r\n    </g>\r\n    <g id=\"xtick_23\">\r\n     <g id=\"line2d_52\">\r\n      <g>\r\n       <use style=\"stroke:#000000;stroke-width:0.8;\" x=\"1172.361949\" xlink:href=\"#m08e9b8d91a\" y=\"239.758125\"/>\r\n      </g>\r\n     </g>\r\n     <g id=\"text_44\">\r\n      <!-- 100 -->\r\n      <g transform=\"translate(1162.818199 254.356563)scale(0.1 -0.1)\">\r\n       <use xlink:href=\"#DejaVuSans-49\"/>\r\n       <use x=\"63.623047\" xlink:href=\"#DejaVuSans-48\"/>\r\n       <use x=\"127.246094\" xlink:href=\"#DejaVuSans-48\"/>\r\n      </g>\r\n     </g>\r\n    </g>\r\n    <g id=\"xtick_24\">\r\n     <g id=\"line2d_53\">\r\n      <g>\r\n       <use style=\"stroke:#000000;stroke-width:0.8;\" x=\"1217.121307\" xlink:href=\"#m08e9b8d91a\" y=\"239.758125\"/>\r\n      </g>\r\n     </g>\r\n     <g id=\"text_45\">\r\n      <!-- 125 -->\r\n      <g transform=\"translate(1207.577557 254.356563)scale(0.1 -0.1)\">\r\n       <use xlink:href=\"#DejaVuSans-49\"/>\r\n       <use x=\"63.623047\" xlink:href=\"#DejaVuSans-50\"/>\r\n       <use x=\"127.246094\" xlink:href=\"#DejaVuSans-53\"/>\r\n      </g>\r\n     </g>\r\n    </g>\r\n    <g id=\"xtick_25\">\r\n     <g id=\"line2d_54\">\r\n      <g>\r\n       <use style=\"stroke:#000000;stroke-width:0.8;\" x=\"1261.880665\" xlink:href=\"#m08e9b8d91a\" y=\"239.758125\"/>\r\n      </g>\r\n     </g>\r\n     <g id=\"text_46\">\r\n      <!-- 150 -->\r\n      <g transform=\"translate(1252.336915 254.356563)scale(0.1 -0.1)\">\r\n       <use xlink:href=\"#DejaVuSans-49\"/>\r\n       <use x=\"63.623047\" xlink:href=\"#DejaVuSans-53\"/>\r\n       <use x=\"127.246094\" xlink:href=\"#DejaVuSans-48\"/>\r\n      </g>\r\n     </g>\r\n    </g>\r\n    <g id=\"xtick_26\">\r\n     <g id=\"line2d_55\">\r\n      <g>\r\n       <use style=\"stroke:#000000;stroke-width:0.8;\" x=\"1306.640023\" xlink:href=\"#m08e9b8d91a\" y=\"239.758125\"/>\r\n      </g>\r\n     </g>\r\n     <g id=\"text_47\">\r\n      <!-- 175 -->\r\n      <g transform=\"translate(1297.096273 254.356563)scale(0.1 -0.1)\">\r\n       <use xlink:href=\"#DejaVuSans-49\"/>\r\n       <use x=\"63.623047\" xlink:href=\"#DejaVuSans-55\"/>\r\n       <use x=\"127.246094\" xlink:href=\"#DejaVuSans-53\"/>\r\n      </g>\r\n     </g>\r\n    </g>\r\n    <g id=\"xtick_27\">\r\n     <g id=\"line2d_56\">\r\n      <g>\r\n       <use style=\"stroke:#000000;stroke-width:0.8;\" x=\"1351.399382\" xlink:href=\"#m08e9b8d91a\" y=\"239.758125\"/>\r\n      </g>\r\n     </g>\r\n     <g id=\"text_48\">\r\n      <!-- 200 -->\r\n      <g transform=\"translate(1341.855632 254.356563)scale(0.1 -0.1)\">\r\n       <use xlink:href=\"#DejaVuSans-50\"/>\r\n       <use x=\"63.623047\" xlink:href=\"#DejaVuSans-48\"/>\r\n       <use x=\"127.246094\" xlink:href=\"#DejaVuSans-48\"/>\r\n      </g>\r\n     </g>\r\n    </g>\r\n   </g>\r\n   <g id=\"matplotlib.axis_6\">\r\n    <g id=\"ytick_15\">\r\n     <g id=\"line2d_57\">\r\n      <g>\r\n       <use style=\"stroke:#000000;stroke-width:0.8;\" x=\"975.420772\" xlink:href=\"#m5d5e54a569\" y=\"229.874489\"/>\r\n      </g>\r\n     </g>\r\n     <g id=\"text_49\">\r\n      <!-- −1 -->\r\n      <g transform=\"translate(953.678585 233.673707)scale(0.1 -0.1)\">\r\n       <defs>\r\n        <path d=\"M 10.59375 35.5 \r\nL 73.1875 35.5 \r\nL 73.1875 27.203125 \r\nL 10.59375 27.203125 \r\nz\r\n\" id=\"DejaVuSans-8722\"/>\r\n       </defs>\r\n       <use xlink:href=\"#DejaVuSans-8722\"/>\r\n       <use x=\"83.789062\" xlink:href=\"#DejaVuSans-49\"/>\r\n      </g>\r\n     </g>\r\n    </g>\r\n    <g id=\"ytick_16\">\r\n     <g id=\"line2d_58\">\r\n      <g>\r\n       <use style=\"stroke:#000000;stroke-width:0.8;\" x=\"975.420772\" xlink:href=\"#m5d5e54a569\" y=\"196.929034\"/>\r\n      </g>\r\n     </g>\r\n     <g id=\"text_50\">\r\n      <!-- 0 -->\r\n      <g transform=\"translate(962.058272 200.728253)scale(0.1 -0.1)\">\r\n       <use xlink:href=\"#DejaVuSans-48\"/>\r\n      </g>\r\n     </g>\r\n    </g>\r\n    <g id=\"ytick_17\">\r\n     <g id=\"line2d_59\">\r\n      <g>\r\n       <use style=\"stroke:#000000;stroke-width:0.8;\" x=\"975.420772\" xlink:href=\"#m5d5e54a569\" y=\"163.98358\"/>\r\n      </g>\r\n     </g>\r\n     <g id=\"text_51\">\r\n      <!-- 1 -->\r\n      <g transform=\"translate(962.058272 167.782798)scale(0.1 -0.1)\">\r\n       <use xlink:href=\"#DejaVuSans-49\"/>\r\n      </g>\r\n     </g>\r\n    </g>\r\n    <g id=\"ytick_18\">\r\n     <g id=\"line2d_60\">\r\n      <g>\r\n       <use style=\"stroke:#000000;stroke-width:0.8;\" x=\"975.420772\" xlink:href=\"#m5d5e54a569\" y=\"131.038125\"/>\r\n      </g>\r\n     </g>\r\n     <g id=\"text_52\">\r\n      <!-- 2 -->\r\n      <g transform=\"translate(962.058272 134.837344)scale(0.1 -0.1)\">\r\n       <use xlink:href=\"#DejaVuSans-50\"/>\r\n      </g>\r\n     </g>\r\n    </g>\r\n    <g id=\"ytick_19\">\r\n     <g id=\"line2d_61\">\r\n      <g>\r\n       <use style=\"stroke:#000000;stroke-width:0.8;\" x=\"975.420772\" xlink:href=\"#m5d5e54a569\" y=\"98.09267\"/>\r\n      </g>\r\n     </g>\r\n     <g id=\"text_53\">\r\n      <!-- 3 -->\r\n      <g transform=\"translate(962.058272 101.891889)scale(0.1 -0.1)\">\r\n       <defs>\r\n        <path d=\"M 40.578125 39.3125 \r\nQ 47.65625 37.796875 51.625 33 \r\nQ 55.609375 28.21875 55.609375 21.1875 \r\nQ 55.609375 10.40625 48.1875 4.484375 \r\nQ 40.765625 -1.421875 27.09375 -1.421875 \r\nQ 22.515625 -1.421875 17.65625 -0.515625 \r\nQ 12.796875 0.390625 7.625 2.203125 \r\nL 7.625 11.71875 \r\nQ 11.71875 9.328125 16.59375 8.109375 \r\nQ 21.484375 6.890625 26.8125 6.890625 \r\nQ 36.078125 6.890625 40.9375 10.546875 \r\nQ 45.796875 14.203125 45.796875 21.1875 \r\nQ 45.796875 27.640625 41.28125 31.265625 \r\nQ 36.765625 34.90625 28.71875 34.90625 \r\nL 20.21875 34.90625 \r\nL 20.21875 43.015625 \r\nL 29.109375 43.015625 \r\nQ 36.375 43.015625 40.234375 45.921875 \r\nQ 44.09375 48.828125 44.09375 54.296875 \r\nQ 44.09375 59.90625 40.109375 62.90625 \r\nQ 36.140625 65.921875 28.71875 65.921875 \r\nQ 24.65625 65.921875 20.015625 65.03125 \r\nQ 15.375 64.15625 9.8125 62.3125 \r\nL 9.8125 71.09375 \r\nQ 15.4375 72.65625 20.34375 73.4375 \r\nQ 25.25 74.21875 29.59375 74.21875 \r\nQ 40.828125 74.21875 47.359375 69.109375 \r\nQ 53.90625 64.015625 53.90625 55.328125 \r\nQ 53.90625 49.265625 50.4375 45.09375 \r\nQ 46.96875 40.921875 40.578125 39.3125 \r\nz\r\n\" id=\"DejaVuSans-51\"/>\r\n       </defs>\r\n       <use xlink:href=\"#DejaVuSans-51\"/>\r\n      </g>\r\n     </g>\r\n    </g>\r\n    <g id=\"ytick_20\">\r\n     <g id=\"line2d_62\">\r\n      <g>\r\n       <use style=\"stroke:#000000;stroke-width:0.8;\" x=\"975.420772\" xlink:href=\"#m5d5e54a569\" y=\"65.147216\"/>\r\n      </g>\r\n     </g>\r\n     <g id=\"text_54\">\r\n      <!-- 4 -->\r\n      <g transform=\"translate(962.058272 68.946435)scale(0.1 -0.1)\">\r\n       <use xlink:href=\"#DejaVuSans-52\"/>\r\n      </g>\r\n     </g>\r\n    </g>\r\n    <g id=\"ytick_21\">\r\n     <g id=\"line2d_63\">\r\n      <g>\r\n       <use style=\"stroke:#000000;stroke-width:0.8;\" x=\"975.420772\" xlink:href=\"#m5d5e54a569\" y=\"32.201761\"/>\r\n      </g>\r\n     </g>\r\n     <g id=\"text_55\">\r\n      <!-- 5 -->\r\n      <g transform=\"translate(962.058272 36.00098)scale(0.1 -0.1)\">\r\n       <use xlink:href=\"#DejaVuSans-53\"/>\r\n      </g>\r\n     </g>\r\n    </g>\r\n   </g>\r\n   <g id=\"line2d_64\">\r\n    <path clip-path=\"url(#p888c457dd9)\" d=\"M 993.324515 32.201761 \r\nL 1002.276387 196.929034 \r\nL 1004.066761 65.147216 \r\nL 1011.228259 196.929034 \r\nL 1013.018633 65.147216 \r\nL 1020.18013 196.929034 \r\nL 1021.970505 65.147216 \r\nL 1029.132002 196.929034 \r\nL 1030.922376 65.147216 \r\nL 1038.083874 196.929034 \r\nL 1039.874248 65.147216 \r\nL 1047.035745 196.929034 \r\nL 1048.82612 65.147216 \r\nL 1055.987617 196.929034 \r\nL 1057.777991 65.147216 \r\nL 1064.939489 196.929034 \r\nL 1066.729863 65.147216 \r\nL 1073.89136 196.929034 \r\nL 1075.681735 65.147216 \r\nL 1082.843232 196.929034 \r\nL 1084.633606 65.147216 \r\nL 1091.795104 196.929034 \r\nL 1093.585478 65.147216 \r\nL 1100.746975 196.929034 \r\nL 1102.53735 65.147216 \r\nL 1109.698847 196.929034 \r\nL 1111.489221 65.147216 \r\nL 1118.650719 196.929034 \r\nL 1120.441093 65.147216 \r\nL 1127.60259 196.929034 \r\nL 1129.392965 65.147216 \r\nL 1136.554462 196.929034 \r\nL 1138.344836 65.147216 \r\nL 1145.506334 196.929034 \r\nL 1147.296708 65.147216 \r\nL 1154.458205 196.929034 \r\nL 1156.24858 65.147216 \r\nL 1163.410077 196.929034 \r\nL 1165.200451 65.147216 \r\nL 1172.361949 196.929034 \r\nL 1174.152323 65.147216 \r\nL 1181.31382 196.929034 \r\nL 1183.104195 65.147216 \r\nL 1190.265692 196.929034 \r\nL 1192.056066 65.147216 \r\nL 1199.217564 196.929034 \r\nL 1201.007938 65.147216 \r\nL 1208.169435 196.929034 \r\nL 1209.959809 65.147216 \r\nL 1217.121307 196.929034 \r\nL 1218.911681 65.147216 \r\nL 1226.073178 196.929034 \r\nL 1227.863553 65.147216 \r\nL 1235.02505 196.929034 \r\nL 1236.815424 65.147216 \r\nL 1243.976922 196.929034 \r\nL 1245.767296 65.147216 \r\nL 1252.928793 196.929034 \r\nL 1254.719168 65.147216 \r\nL 1261.880665 196.929034 \r\nL 1263.671039 65.147216 \r\nL 1270.832537 196.929034 \r\nL 1272.622911 65.147216 \r\nL 1279.784408 196.929034 \r\nL 1281.574783 65.147216 \r\nL 1288.73628 196.929034 \r\nL 1290.526654 65.147216 \r\nL 1297.688152 196.929034 \r\nL 1299.478526 65.147216 \r\nL 1306.640023 196.929034 \r\nL 1308.430398 65.147216 \r\nL 1315.591895 196.929034 \r\nL 1317.382269 65.147216 \r\nL 1324.543767 196.929034 \r\nL 1326.334141 65.147216 \r\nL 1333.495638 196.929034 \r\nL 1335.286013 65.147216 \r\nL 1342.44751 196.929034 \r\nL 1344.237884 65.147216 \r\nL 1351.399382 196.929034 \r\nL 1351.399382 196.929034 \r\n\" style=\"fill:none;stroke:#1f77b4;stroke-linecap:square;stroke-width:1.5;\"/>\r\n   </g>\r\n   <g id=\"line2d_65\">\r\n    <path clip-path=\"url(#p888c457dd9)\" d=\"M 993.324515 229.874489 \r\nL 1179.523446 229.874489 \r\nL 1181.31382 196.929034 \r\nL 1183.104195 229.874489 \r\nL 1261.880665 229.874489 \r\nL 1263.671039 196.929034 \r\nL 1265.461414 229.874489 \r\nL 1351.399382 229.874489 \r\nL 1351.399382 229.874489 \r\n\" style=\"fill:none;stroke:#ff7f0e;stroke-linecap:square;stroke-width:1.5;\"/>\r\n   </g>\r\n   <g id=\"line2d_66\">\r\n    <path clip-path=\"url(#p888c457dd9)\" d=\"M 993.324515 229.874489 \r\nL 1351.399382 229.874489 \r\nL 1351.399382 229.874489 \r\n\" style=\"fill:none;stroke:#2ca02c;stroke-linecap:square;stroke-width:1.5;\"/>\r\n   </g>\r\n   <g id=\"patch_15\">\r\n    <path d=\"M 975.420772 239.758125 \r\nL 975.420772 22.318125 \r\n\" style=\"fill:none;stroke:#000000;stroke-linecap:square;stroke-linejoin:miter;stroke-width:0.8;\"/>\r\n   </g>\r\n   <g id=\"patch_16\">\r\n    <path d=\"M 1369.303125 239.758125 \r\nL 1369.303125 22.318125 \r\n\" style=\"fill:none;stroke:#000000;stroke-linecap:square;stroke-linejoin:miter;stroke-width:0.8;\"/>\r\n   </g>\r\n   <g id=\"patch_17\">\r\n    <path d=\"M 975.420772 239.758125 \r\nL 1369.303125 239.758125 \r\n\" style=\"fill:none;stroke:#000000;stroke-linecap:square;stroke-linejoin:miter;stroke-width:0.8;\"/>\r\n   </g>\r\n   <g id=\"patch_18\">\r\n    <path d=\"M 975.420772 22.318125 \r\nL 1369.303125 22.318125 \r\n\" style=\"fill:none;stroke:#000000;stroke-linecap:square;stroke-linejoin:miter;stroke-width:0.8;\"/>\r\n   </g>\r\n   <g id=\"text_56\">\r\n    <!-- Task -->\r\n    <g transform=\"translate(1159.410386 16.318125)scale(0.12 -0.12)\">\r\n     <defs>\r\n      <path d=\"M -0.296875 72.90625 \r\nL 61.375 72.90625 \r\nL 61.375 64.59375 \r\nL 35.5 64.59375 \r\nL 35.5 0 \r\nL 25.59375 0 \r\nL 25.59375 64.59375 \r\nL -0.296875 64.59375 \r\nz\r\n\" id=\"DejaVuSans-84\"/>\r\n     </defs>\r\n     <use xlink:href=\"#DejaVuSans-84\"/>\r\n     <use x=\"44.583984\" xlink:href=\"#DejaVuSans-97\"/>\r\n     <use x=\"105.863281\" xlink:href=\"#DejaVuSans-115\"/>\r\n     <use x=\"157.962891\" xlink:href=\"#DejaVuSans-107\"/>\r\n    </g>\r\n   </g>\r\n   <g id=\"legend_3\">\r\n    <g id=\"patch_19\">\r\n     <path d=\"M 1278.823438 74.3525 \r\nL 1362.303125 74.3525 \r\nQ 1364.303125 74.3525 1364.303125 72.3525 \r\nL 1364.303125 29.318125 \r\nQ 1364.303125 27.318125 1362.303125 27.318125 \r\nL 1278.823438 27.318125 \r\nQ 1276.823438 27.318125 1276.823438 29.318125 \r\nL 1276.823438 72.3525 \r\nQ 1276.823438 74.3525 1278.823438 74.3525 \r\nz\r\n\" style=\"fill:#ffffff;opacity:0.8;stroke:#cccccc;stroke-linejoin:miter;\"/>\r\n    </g>\r\n    <g id=\"line2d_67\">\r\n     <path d=\"M 1280.823438 35.416563 \r\nL 1300.823438 35.416563 \r\n\" style=\"fill:none;stroke:#1f77b4;stroke-linecap:square;stroke-width:1.5;\"/>\r\n    </g>\r\n    <g id=\"line2d_68\"/>\r\n    <g id=\"text_57\">\r\n     <!-- inspection -->\r\n     <g transform=\"translate(1308.823438 38.916563)scale(0.1 -0.1)\">\r\n      <defs>\r\n       <path d=\"M 18.109375 8.203125 \r\nL 18.109375 -20.796875 \r\nL 9.078125 -20.796875 \r\nL 9.078125 54.6875 \r\nL 18.109375 54.6875 \r\nL 18.109375 46.390625 \r\nQ 20.953125 51.265625 25.265625 53.625 \r\nQ 29.59375 56 35.59375 56 \r\nQ 45.5625 56 51.78125 48.09375 \r\nQ 58.015625 40.1875 58.015625 27.296875 \r\nQ 58.015625 14.40625 51.78125 6.484375 \r\nQ 45.5625 -1.421875 35.59375 -1.421875 \r\nQ 29.59375 -1.421875 25.265625 0.953125 \r\nQ 20.953125 3.328125 18.109375 8.203125 \r\nz\r\nM 48.6875 27.296875 \r\nQ 48.6875 37.203125 44.609375 42.84375 \r\nQ 40.53125 48.484375 33.40625 48.484375 \r\nQ 26.265625 48.484375 22.1875 42.84375 \r\nQ 18.109375 37.203125 18.109375 27.296875 \r\nQ 18.109375 17.390625 22.1875 11.75 \r\nQ 26.265625 6.109375 33.40625 6.109375 \r\nQ 40.53125 6.109375 44.609375 11.75 \r\nQ 48.6875 17.390625 48.6875 27.296875 \r\nz\r\n\" id=\"DejaVuSans-112\"/>\r\n      </defs>\r\n      <use xlink:href=\"#DejaVuSans-105\"/>\r\n      <use x=\"27.783203\" xlink:href=\"#DejaVuSans-110\"/>\r\n      <use x=\"91.162109\" xlink:href=\"#DejaVuSans-115\"/>\r\n      <use x=\"143.261719\" xlink:href=\"#DejaVuSans-112\"/>\r\n      <use x=\"206.738281\" xlink:href=\"#DejaVuSans-101\"/>\r\n      <use x=\"268.261719\" xlink:href=\"#DejaVuSans-99\"/>\r\n      <use x=\"323.242188\" xlink:href=\"#DejaVuSans-116\"/>\r\n      <use x=\"362.451172\" xlink:href=\"#DejaVuSans-105\"/>\r\n      <use x=\"390.234375\" xlink:href=\"#DejaVuSans-111\"/>\r\n      <use x=\"451.416016\" xlink:href=\"#DejaVuSans-110\"/>\r\n     </g>\r\n    </g>\r\n    <g id=\"line2d_69\">\r\n     <path d=\"M 1280.823438 50.094688 \r\nL 1300.823438 50.094688 \r\n\" style=\"fill:none;stroke:#ff7f0e;stroke-linecap:square;stroke-width:1.5;\"/>\r\n    </g>\r\n    <g id=\"line2d_70\"/>\r\n    <g id=\"text_58\">\r\n     <!-- ocr -->\r\n     <g transform=\"translate(1308.823438 53.594688)scale(0.1 -0.1)\">\r\n      <use xlink:href=\"#DejaVuSans-111\"/>\r\n      <use x=\"61.181641\" xlink:href=\"#DejaVuSans-99\"/>\r\n      <use x=\"116.162109\" xlink:href=\"#DejaVuSans-114\"/>\r\n     </g>\r\n    </g>\r\n    <g id=\"line2d_71\">\r\n     <path d=\"M 1280.823438 64.772813 \r\nL 1300.823438 64.772813 \r\n\" style=\"fill:none;stroke:#2ca02c;stroke-linecap:square;stroke-width:1.5;\"/>\r\n    </g>\r\n    <g id=\"line2d_72\"/>\r\n    <g id=\"text_59\">\r\n     <!-- cm -->\r\n     <g transform=\"translate(1308.823438 68.272813)scale(0.1 -0.1)\">\r\n      <use xlink:href=\"#DejaVuSans-99\"/>\r\n      <use x=\"54.980469\" xlink:href=\"#DejaVuSans-109\"/>\r\n     </g>\r\n    </g>\r\n   </g>\r\n  </g>\r\n </g>\r\n <defs>\r\n  <clipPath id=\"p0831cac3e1\">\r\n   <rect height=\"217.44\" width=\"393.882353\" x=\"30.103125\" y=\"22.318125\"/>\r\n  </clipPath>\r\n  <clipPath id=\"pc7be00532f\">\r\n   <rect height=\"217.44\" width=\"393.882353\" x=\"502.761949\" y=\"22.318125\"/>\r\n  </clipPath>\r\n  <clipPath id=\"p888c457dd9\">\r\n   <rect height=\"217.44\" width=\"393.882353\" x=\"975.420772\" y=\"22.318125\"/>\r\n  </clipPath>\r\n </defs>\r\n</svg>\r\n",
      "image/png": "[encoded data removed]"
     },
     "metadata": {
      "needs_background": "light"
     }
    }
   ],
   "source": [
    "timeline = fm.sim_timeline(200, verbose=False)\n",
    "fm.plot_timeline()"
   ]
  },
  {
   "cell_type": "code",
   "execution_count": 67,
   "metadata": {
    "tags": []
   },
   "outputs": [
    {
     "output_type": "display_data",
     "data": {
      "text/plain": "<Figure size 1728x288 with 3 Axes>",
      "image/svg+xml": "<?xml version=\"1.0\" encoding=\"utf-8\" standalone=\"no\"?>\r\n<!DOCTYPE svg PUBLIC \"-//W3C//DTD SVG 1.1//EN\"\r\n  \"http://www.w3.org/Graphics/SVG/1.1/DTD/svg11.dtd\">\r\n<!-- Created with matplotlib (https://matplotlib.org/) -->\r\n<svg height=\"263.63625pt\" version=\"1.1\" viewBox=\"0 0 1376.503125 263.63625\" width=\"1376.503125pt\" xmlns=\"http://www.w3.org/2000/svg\" xmlns:xlink=\"http://www.w3.org/1999/xlink\">\r\n <metadata>\r\n  <rdf:RDF xmlns:cc=\"http://creativecommons.org/ns#\" xmlns:dc=\"http://purl.org/dc/elements/1.1/\" xmlns:rdf=\"http://www.w3.org/1999/02/22-rdf-syntax-ns#\">\r\n   <cc:Work>\r\n    <dc:type rdf:resource=\"http://purl.org/dc/dcmitype/StillImage\"/>\r\n    <dc:date>2020-08-06T08:45:33.416433</dc:date>\r\n    <dc:format>image/svg+xml</dc:format>\r\n    <dc:creator>\r\n     <cc:Agent>\r\n      <dc:title>Matplotlib v3.3.0, https://matplotlib.org/</dc:title>\r\n     </cc:Agent>\r\n    </dc:creator>\r\n   </cc:Work>\r\n  </rdf:RDF>\r\n </metadata>\r\n <defs>\r\n  <style type=\"text/css\">*{stroke-linecap:butt;stroke-linejoin:round;}</style>\r\n </defs>\r\n <g id=\"figure_1\">\r\n  <g id=\"patch_1\">\r\n   <path d=\"M 0 263.63625 \r\nL 1376.503125 263.63625 \r\nL 1376.503125 0 \r\nL 0 0 \r\nz\r\n\" style=\"fill:none;\"/>\r\n  </g>\r\n  <g id=\"axes_1\">\r\n   <g id=\"patch_2\">\r\n    <path d=\"M 30.103125 239.758125 \r\nL 423.985478 239.758125 \r\nL 423.985478 22.318125 \r\nL 30.103125 22.318125 \r\nz\r\n\" style=\"fill:#ffffff;\"/>\r\n   </g>\r\n   <g id=\"matplotlib.axis_1\">\r\n    <g id=\"xtick_1\">\r\n     <g id=\"line2d_1\">\r\n      <defs>\r\n       <path d=\"M 0 0 \r\nL 0 3.5 \r\n\" id=\"mb994b60fe1\" style=\"stroke:#000000;stroke-width:0.8;\"/>\r\n      </defs>\r\n      <g>\r\n       <use style=\"stroke:#000000;stroke-width:0.8;\" x=\"48.006868\" xlink:href=\"#mb994b60fe1\" y=\"239.758125\"/>\r\n      </g>\r\n     </g>\r\n     <g id=\"text_1\">\r\n      <!-- 0 -->\r\n      <g transform=\"translate(44.825618 254.356563)scale(0.1 -0.1)\">\r\n       <defs>\r\n        <path d=\"M 31.78125 66.40625 \r\nQ 24.171875 66.40625 20.328125 58.90625 \r\nQ 16.5 51.421875 16.5 36.375 \r\nQ 16.5 21.390625 20.328125 13.890625 \r\nQ 24.171875 6.390625 31.78125 6.390625 \r\nQ 39.453125 6.390625 43.28125 13.890625 \r\nQ 47.125 21.390625 47.125 36.375 \r\nQ 47.125 51.421875 43.28125 58.90625 \r\nQ 39.453125 66.40625 31.78125 66.40625 \r\nz\r\nM 31.78125 74.21875 \r\nQ 44.046875 74.21875 50.515625 64.515625 \r\nQ 56.984375 54.828125 56.984375 36.375 \r\nQ 56.984375 17.96875 50.515625 8.265625 \r\nQ 44.046875 -1.421875 31.78125 -1.421875 \r\nQ 19.53125 -1.421875 13.0625 8.265625 \r\nQ 6.59375 17.96875 6.59375 36.375 \r\nQ 6.59375 54.828125 13.0625 64.515625 \r\nQ 19.53125 74.21875 31.78125 74.21875 \r\nz\r\n\" id=\"DejaVuSans-48\"/>\r\n       </defs>\r\n       <use xlink:href=\"#DejaVuSans-48\"/>\r\n      </g>\r\n     </g>\r\n    </g>\r\n    <g id=\"xtick_2\">\r\n     <g id=\"line2d_2\">\r\n      <g>\r\n       <use style=\"stroke:#000000;stroke-width:0.8;\" x=\"119.621842\" xlink:href=\"#mb994b60fe1\" y=\"239.758125\"/>\r\n      </g>\r\n     </g>\r\n     <g id=\"text_2\">\r\n      <!-- 20 -->\r\n      <g transform=\"translate(113.259342 254.356563)scale(0.1 -0.1)\">\r\n       <defs>\r\n        <path d=\"M 19.1875 8.296875 \r\nL 53.609375 8.296875 \r\nL 53.609375 0 \r\nL 7.328125 0 \r\nL 7.328125 8.296875 \r\nQ 12.9375 14.109375 22.625 23.890625 \r\nQ 32.328125 33.6875 34.8125 36.53125 \r\nQ 39.546875 41.84375 41.421875 45.53125 \r\nQ 43.3125 49.21875 43.3125 52.78125 \r\nQ 43.3125 58.59375 39.234375 62.25 \r\nQ 35.15625 65.921875 28.609375 65.921875 \r\nQ 23.96875 65.921875 18.8125 64.3125 \r\nQ 13.671875 62.703125 7.8125 59.421875 \r\nL 7.8125 69.390625 \r\nQ 13.765625 71.78125 18.9375 73 \r\nQ 24.125 74.21875 28.421875 74.21875 \r\nQ 39.75 74.21875 46.484375 68.546875 \r\nQ 53.21875 62.890625 53.21875 53.421875 \r\nQ 53.21875 48.921875 51.53125 44.890625 \r\nQ 49.859375 40.875 45.40625 35.40625 \r\nQ 44.1875 33.984375 37.640625 27.21875 \r\nQ 31.109375 20.453125 19.1875 8.296875 \r\nz\r\n\" id=\"DejaVuSans-50\"/>\r\n       </defs>\r\n       <use xlink:href=\"#DejaVuSans-50\"/>\r\n       <use x=\"63.623047\" xlink:href=\"#DejaVuSans-48\"/>\r\n      </g>\r\n     </g>\r\n    </g>\r\n    <g id=\"xtick_3\">\r\n     <g id=\"line2d_3\">\r\n      <g>\r\n       <use style=\"stroke:#000000;stroke-width:0.8;\" x=\"191.236815\" xlink:href=\"#mb994b60fe1\" y=\"239.758125\"/>\r\n      </g>\r\n     </g>\r\n     <g id=\"text_3\">\r\n      <!-- 40 -->\r\n      <g transform=\"translate(184.874315 254.356563)scale(0.1 -0.1)\">\r\n       <defs>\r\n        <path d=\"M 37.796875 64.3125 \r\nL 12.890625 25.390625 \r\nL 37.796875 25.390625 \r\nz\r\nM 35.203125 72.90625 \r\nL 47.609375 72.90625 \r\nL 47.609375 25.390625 \r\nL 58.015625 25.390625 \r\nL 58.015625 17.1875 \r\nL 47.609375 17.1875 \r\nL 47.609375 0 \r\nL 37.796875 0 \r\nL 37.796875 17.1875 \r\nL 4.890625 17.1875 \r\nL 4.890625 26.703125 \r\nz\r\n\" id=\"DejaVuSans-52\"/>\r\n       </defs>\r\n       <use xlink:href=\"#DejaVuSans-52\"/>\r\n       <use x=\"63.623047\" xlink:href=\"#DejaVuSans-48\"/>\r\n      </g>\r\n     </g>\r\n    </g>\r\n    <g id=\"xtick_4\">\r\n     <g id=\"line2d_4\">\r\n      <g>\r\n       <use style=\"stroke:#000000;stroke-width:0.8;\" x=\"262.851788\" xlink:href=\"#mb994b60fe1\" y=\"239.758125\"/>\r\n      </g>\r\n     </g>\r\n     <g id=\"text_4\">\r\n      <!-- 60 -->\r\n      <g transform=\"translate(256.489288 254.356563)scale(0.1 -0.1)\">\r\n       <defs>\r\n        <path d=\"M 33.015625 40.375 \r\nQ 26.375 40.375 22.484375 35.828125 \r\nQ 18.609375 31.296875 18.609375 23.390625 \r\nQ 18.609375 15.53125 22.484375 10.953125 \r\nQ 26.375 6.390625 33.015625 6.390625 \r\nQ 39.65625 6.390625 43.53125 10.953125 \r\nQ 47.40625 15.53125 47.40625 23.390625 \r\nQ 47.40625 31.296875 43.53125 35.828125 \r\nQ 39.65625 40.375 33.015625 40.375 \r\nz\r\nM 52.59375 71.296875 \r\nL 52.59375 62.3125 \r\nQ 48.875 64.0625 45.09375 64.984375 \r\nQ 41.3125 65.921875 37.59375 65.921875 \r\nQ 27.828125 65.921875 22.671875 59.328125 \r\nQ 17.53125 52.734375 16.796875 39.40625 \r\nQ 19.671875 43.65625 24.015625 45.921875 \r\nQ 28.375 48.1875 33.59375 48.1875 \r\nQ 44.578125 48.1875 50.953125 41.515625 \r\nQ 57.328125 34.859375 57.328125 23.390625 \r\nQ 57.328125 12.15625 50.6875 5.359375 \r\nQ 44.046875 -1.421875 33.015625 -1.421875 \r\nQ 20.359375 -1.421875 13.671875 8.265625 \r\nQ 6.984375 17.96875 6.984375 36.375 \r\nQ 6.984375 53.65625 15.1875 63.9375 \r\nQ 23.390625 74.21875 37.203125 74.21875 \r\nQ 40.921875 74.21875 44.703125 73.484375 \r\nQ 48.484375 72.75 52.59375 71.296875 \r\nz\r\n\" id=\"DejaVuSans-54\"/>\r\n       </defs>\r\n       <use xlink:href=\"#DejaVuSans-54\"/>\r\n       <use x=\"63.623047\" xlink:href=\"#DejaVuSans-48\"/>\r\n      </g>\r\n     </g>\r\n    </g>\r\n    <g id=\"xtick_5\">\r\n     <g id=\"line2d_5\">\r\n      <g>\r\n       <use style=\"stroke:#000000;stroke-width:0.8;\" x=\"334.466761\" xlink:href=\"#mb994b60fe1\" y=\"239.758125\"/>\r\n      </g>\r\n     </g>\r\n     <g id=\"text_5\">\r\n      <!-- 80 -->\r\n      <g transform=\"translate(328.104261 254.356563)scale(0.1 -0.1)\">\r\n       <defs>\r\n        <path d=\"M 31.78125 34.625 \r\nQ 24.75 34.625 20.71875 30.859375 \r\nQ 16.703125 27.09375 16.703125 20.515625 \r\nQ 16.703125 13.921875 20.71875 10.15625 \r\nQ 24.75 6.390625 31.78125 6.390625 \r\nQ 38.8125 6.390625 42.859375 10.171875 \r\nQ 46.921875 13.96875 46.921875 20.515625 \r\nQ 46.921875 27.09375 42.890625 30.859375 \r\nQ 38.875 34.625 31.78125 34.625 \r\nz\r\nM 21.921875 38.8125 \r\nQ 15.578125 40.375 12.03125 44.71875 \r\nQ 8.5 49.078125 8.5 55.328125 \r\nQ 8.5 64.0625 14.71875 69.140625 \r\nQ 20.953125 74.21875 31.78125 74.21875 \r\nQ 42.671875 74.21875 48.875 69.140625 \r\nQ 55.078125 64.0625 55.078125 55.328125 \r\nQ 55.078125 49.078125 51.53125 44.71875 \r\nQ 48 40.375 41.703125 38.8125 \r\nQ 48.828125 37.15625 52.796875 32.3125 \r\nQ 56.78125 27.484375 56.78125 20.515625 \r\nQ 56.78125 9.90625 50.3125 4.234375 \r\nQ 43.84375 -1.421875 31.78125 -1.421875 \r\nQ 19.734375 -1.421875 13.25 4.234375 \r\nQ 6.78125 9.90625 6.78125 20.515625 \r\nQ 6.78125 27.484375 10.78125 32.3125 \r\nQ 14.796875 37.15625 21.921875 38.8125 \r\nz\r\nM 18.3125 54.390625 \r\nQ 18.3125 48.734375 21.84375 45.5625 \r\nQ 25.390625 42.390625 31.78125 42.390625 \r\nQ 38.140625 42.390625 41.71875 45.5625 \r\nQ 45.3125 48.734375 45.3125 54.390625 \r\nQ 45.3125 60.0625 41.71875 63.234375 \r\nQ 38.140625 66.40625 31.78125 66.40625 \r\nQ 25.390625 66.40625 21.84375 63.234375 \r\nQ 18.3125 60.0625 18.3125 54.390625 \r\nz\r\n\" id=\"DejaVuSans-56\"/>\r\n       </defs>\r\n       <use xlink:href=\"#DejaVuSans-56\"/>\r\n       <use x=\"63.623047\" xlink:href=\"#DejaVuSans-48\"/>\r\n      </g>\r\n     </g>\r\n    </g>\r\n    <g id=\"xtick_6\">\r\n     <g id=\"line2d_6\">\r\n      <g>\r\n       <use style=\"stroke:#000000;stroke-width:0.8;\" x=\"406.081735\" xlink:href=\"#mb994b60fe1\" y=\"239.758125\"/>\r\n      </g>\r\n     </g>\r\n     <g id=\"text_6\">\r\n      <!-- 100 -->\r\n      <g transform=\"translate(396.537985 254.356563)scale(0.1 -0.1)\">\r\n       <defs>\r\n        <path d=\"M 12.40625 8.296875 \r\nL 28.515625 8.296875 \r\nL 28.515625 63.921875 \r\nL 10.984375 60.40625 \r\nL 10.984375 69.390625 \r\nL 28.421875 72.90625 \r\nL 38.28125 72.90625 \r\nL 38.28125 8.296875 \r\nL 54.390625 8.296875 \r\nL 54.390625 0 \r\nL 12.40625 0 \r\nz\r\n\" id=\"DejaVuSans-49\"/>\r\n       </defs>\r\n       <use xlink:href=\"#DejaVuSans-49\"/>\r\n       <use x=\"63.623047\" xlink:href=\"#DejaVuSans-48\"/>\r\n       <use x=\"127.246094\" xlink:href=\"#DejaVuSans-48\"/>\r\n      </g>\r\n     </g>\r\n    </g>\r\n   </g>\r\n   <g id=\"matplotlib.axis_2\">\r\n    <g id=\"ytick_1\">\r\n     <g id=\"line2d_7\">\r\n      <defs>\r\n       <path d=\"M 0 0 \r\nL -3.5 0 \r\n\" id=\"me6f7c85d19\" style=\"stroke:#000000;stroke-width:0.8;\"/>\r\n      </defs>\r\n      <g>\r\n       <use style=\"stroke:#000000;stroke-width:0.8;\" x=\"30.103125\" xlink:href=\"#me6f7c85d19\" y=\"229.874489\"/>\r\n      </g>\r\n     </g>\r\n     <g id=\"text_7\">\r\n      <!-- 0.0 -->\r\n      <g transform=\"translate(7.2 233.673707)scale(0.1 -0.1)\">\r\n       <defs>\r\n        <path d=\"M 10.6875 12.40625 \r\nL 21 12.40625 \r\nL 21 0 \r\nL 10.6875 0 \r\nz\r\n\" id=\"DejaVuSans-46\"/>\r\n       </defs>\r\n       <use xlink:href=\"#DejaVuSans-48\"/>\r\n       <use x=\"63.623047\" xlink:href=\"#DejaVuSans-46\"/>\r\n       <use x=\"95.410156\" xlink:href=\"#DejaVuSans-48\"/>\r\n      </g>\r\n     </g>\r\n    </g>\r\n    <g id=\"ytick_2\">\r\n     <g id=\"line2d_8\">\r\n      <g>\r\n       <use style=\"stroke:#000000;stroke-width:0.8;\" x=\"30.103125\" xlink:href=\"#me6f7c85d19\" y=\"190.339943\"/>\r\n      </g>\r\n     </g>\r\n     <g id=\"text_8\">\r\n      <!-- 0.2 -->\r\n      <g transform=\"translate(7.2 194.139162)scale(0.1 -0.1)\">\r\n       <use xlink:href=\"#DejaVuSans-48\"/>\r\n       <use x=\"63.623047\" xlink:href=\"#DejaVuSans-46\"/>\r\n       <use x=\"95.410156\" xlink:href=\"#DejaVuSans-50\"/>\r\n      </g>\r\n     </g>\r\n    </g>\r\n    <g id=\"ytick_3\">\r\n     <g id=\"line2d_9\">\r\n      <g>\r\n       <use style=\"stroke:#000000;stroke-width:0.8;\" x=\"30.103125\" xlink:href=\"#me6f7c85d19\" y=\"150.805398\"/>\r\n      </g>\r\n     </g>\r\n     <g id=\"text_9\">\r\n      <!-- 0.4 -->\r\n      <g transform=\"translate(7.2 154.604616)scale(0.1 -0.1)\">\r\n       <use xlink:href=\"#DejaVuSans-48\"/>\r\n       <use x=\"63.623047\" xlink:href=\"#DejaVuSans-46\"/>\r\n       <use x=\"95.410156\" xlink:href=\"#DejaVuSans-52\"/>\r\n      </g>\r\n     </g>\r\n    </g>\r\n    <g id=\"ytick_4\">\r\n     <g id=\"line2d_10\">\r\n      <g>\r\n       <use style=\"stroke:#000000;stroke-width:0.8;\" x=\"30.103125\" xlink:href=\"#me6f7c85d19\" y=\"111.270852\"/>\r\n      </g>\r\n     </g>\r\n     <g id=\"text_10\">\r\n      <!-- 0.6 -->\r\n      <g transform=\"translate(7.2 115.070071)scale(0.1 -0.1)\">\r\n       <use xlink:href=\"#DejaVuSans-48\"/>\r\n       <use x=\"63.623047\" xlink:href=\"#DejaVuSans-46\"/>\r\n       <use x=\"95.410156\" xlink:href=\"#DejaVuSans-54\"/>\r\n      </g>\r\n     </g>\r\n    </g>\r\n    <g id=\"ytick_5\">\r\n     <g id=\"line2d_11\">\r\n      <g>\r\n       <use style=\"stroke:#000000;stroke-width:0.8;\" x=\"30.103125\" xlink:href=\"#me6f7c85d19\" y=\"71.736307\"/>\r\n      </g>\r\n     </g>\r\n     <g id=\"text_11\">\r\n      <!-- 0.8 -->\r\n      <g transform=\"translate(7.2 75.535526)scale(0.1 -0.1)\">\r\n       <use xlink:href=\"#DejaVuSans-48\"/>\r\n       <use x=\"63.623047\" xlink:href=\"#DejaVuSans-46\"/>\r\n       <use x=\"95.410156\" xlink:href=\"#DejaVuSans-56\"/>\r\n      </g>\r\n     </g>\r\n    </g>\r\n    <g id=\"ytick_6\">\r\n     <g id=\"line2d_12\">\r\n      <g>\r\n       <use style=\"stroke:#000000;stroke-width:0.8;\" x=\"30.103125\" xlink:href=\"#me6f7c85d19\" y=\"32.201761\"/>\r\n      </g>\r\n     </g>\r\n     <g id=\"text_12\">\r\n      <!-- 1.0 -->\r\n      <g transform=\"translate(7.2 36.00098)scale(0.1 -0.1)\">\r\n       <use xlink:href=\"#DejaVuSans-49\"/>\r\n       <use x=\"63.623047\" xlink:href=\"#DejaVuSans-46\"/>\r\n       <use x=\"95.410156\" xlink:href=\"#DejaVuSans-48\"/>\r\n      </g>\r\n     </g>\r\n    </g>\r\n   </g>\r\n   <g id=\"line2d_13\">\r\n    <path clip-path=\"url(#p176f33487f)\" d=\"M 48.006868 32.201761 \r\nL 51.587617 32.201761 \r\nL 55.168366 32.201761 \r\nL 58.749114 32.201761 \r\nL 62.329863 32.201761 \r\nL 65.910612 32.201761 \r\nL 69.49136 32.201761 \r\nL 73.072109 229.874489 \r\nL 76.652858 229.874489 \r\nL 80.233606 229.874489 \r\nL 83.814355 229.874489 \r\nL 87.395104 229.874489 \r\nL 90.975852 229.874489 \r\nL 94.556601 229.874489 \r\nL 98.13735 229.874489 \r\nL 101.718098 229.874489 \r\nL 105.298847 229.874489 \r\nL 108.879596 229.874489 \r\nL 112.460344 229.874489 \r\nL 116.041093 229.874489 \r\nL 119.621842 229.874489 \r\nL 123.20259 229.874489 \r\nL 126.783339 229.874489 \r\nL 130.364088 229.874489 \r\nL 133.944836 229.874489 \r\nL 137.525585 229.874489 \r\nL 141.106334 229.874489 \r\nL 144.687082 229.874489 \r\nL 148.267831 229.874489 \r\nL 151.84858 229.874489 \r\nL 155.429328 229.874489 \r\nL 159.010077 229.874489 \r\nL 162.590826 229.874489 \r\nL 166.171574 229.874489 \r\nL 169.752323 229.874489 \r\nL 173.333072 229.874489 \r\nL 176.91382 229.874489 \r\nL 180.494569 229.874489 \r\nL 184.075318 229.874489 \r\nL 187.656066 229.874489 \r\nL 191.236815 229.874489 \r\nL 194.817564 229.874489 \r\nL 198.398312 229.874489 \r\nL 201.979061 229.874489 \r\nL 205.559809 229.874489 \r\nL 209.140558 229.874489 \r\nL 212.721307 229.874489 \r\nL 216.302055 229.874489 \r\nL 219.882804 229.874489 \r\nL 223.463553 229.874489 \r\nL 227.044301 229.874489 \r\nL 230.62505 229.874489 \r\nL 234.205799 229.874489 \r\nL 237.786547 229.874489 \r\nL 241.367296 229.874489 \r\nL 244.948045 229.874489 \r\nL 248.528793 229.874489 \r\nL 252.109542 229.874489 \r\nL 255.690291 229.874489 \r\nL 259.271039 229.874489 \r\nL 262.851788 229.874489 \r\nL 266.432537 229.874489 \r\nL 270.013285 229.874489 \r\nL 273.594034 229.874489 \r\nL 277.174783 229.874489 \r\nL 280.755531 229.874489 \r\nL 284.33628 229.874489 \r\nL 287.917029 229.874489 \r\nL 291.497777 229.874489 \r\nL 295.078526 229.874489 \r\nL 298.659275 229.874489 \r\nL 302.240023 229.874489 \r\nL 305.820772 229.874489 \r\nL 309.401521 229.874489 \r\nL 312.982269 229.874489 \r\nL 316.563018 229.874489 \r\nL 320.143767 229.874489 \r\nL 323.724515 229.874489 \r\nL 327.305264 229.874489 \r\nL 330.886013 32.201761 \r\nL 334.466761 32.201761 \r\nL 338.04751 32.201761 \r\nL 341.628259 229.874489 \r\nL 345.209007 229.874489 \r\nL 348.789756 229.874489 \r\nL 352.370505 229.874489 \r\nL 355.951253 229.874489 \r\nL 359.532002 229.874489 \r\nL 363.112751 229.874489 \r\nL 366.693499 229.874489 \r\nL 370.274248 229.874489 \r\nL 373.854997 229.874489 \r\nL 377.435745 229.874489 \r\nL 381.016494 229.874489 \r\nL 384.597243 229.874489 \r\nL 388.177991 229.874489 \r\nL 391.75874 229.874489 \r\nL 395.339489 229.874489 \r\nL 398.920237 229.874489 \r\nL 402.500986 229.874489 \r\nL 406.081735 32.201761 \r\n\" style=\"fill:none;stroke:#1f77b4;stroke-linecap:square;stroke-width:1.5;\"/>\r\n   </g>\r\n   <g id=\"line2d_14\">\r\n    <path clip-path=\"url(#p176f33487f)\" d=\"M 48.006868 229.874489 \r\nL 51.587617 229.874489 \r\nL 55.168366 229.874489 \r\nL 58.749114 229.874489 \r\nL 62.329863 229.874489 \r\nL 65.910612 229.874489 \r\nL 69.49136 229.874489 \r\nL 73.072109 229.874489 \r\nL 76.652858 229.874489 \r\nL 80.233606 229.874489 \r\nL 83.814355 229.874489 \r\nL 87.395104 229.874489 \r\nL 90.975852 229.874489 \r\nL 94.556601 229.874489 \r\nL 98.13735 229.874489 \r\nL 101.718098 229.874489 \r\nL 105.298847 229.874489 \r\nL 108.879596 229.874489 \r\nL 112.460344 229.874489 \r\nL 116.041093 229.874489 \r\nL 119.621842 229.874489 \r\nL 123.20259 229.874489 \r\nL 126.783339 229.874489 \r\nL 130.364088 229.874489 \r\nL 133.944836 229.874489 \r\nL 137.525585 229.874489 \r\nL 141.106334 229.874489 \r\nL 144.687082 229.874489 \r\nL 148.267831 229.874489 \r\nL 151.84858 229.874489 \r\nL 155.429328 229.874489 \r\nL 159.010077 229.874489 \r\nL 162.590826 229.874489 \r\nL 166.171574 229.874489 \r\nL 169.752323 229.874489 \r\nL 173.333072 229.874489 \r\nL 176.91382 229.874489 \r\nL 180.494569 229.874489 \r\nL 184.075318 229.874489 \r\nL 187.656066 229.874489 \r\nL 191.236815 229.874489 \r\nL 194.817564 229.874489 \r\nL 198.398312 229.874489 \r\nL 201.979061 229.874489 \r\nL 205.559809 229.874489 \r\nL 209.140558 229.874489 \r\nL 212.721307 229.874489 \r\nL 216.302055 229.874489 \r\nL 219.882804 229.874489 \r\nL 223.463553 229.874489 \r\nL 227.044301 229.874489 \r\nL 230.62505 229.874489 \r\nL 234.205799 229.874489 \r\nL 237.786547 229.874489 \r\nL 241.367296 229.874489 \r\nL 244.948045 229.874489 \r\nL 248.528793 229.874489 \r\nL 252.109542 229.874489 \r\nL 255.690291 229.874489 \r\nL 259.271039 229.874489 \r\nL 262.851788 229.874489 \r\nL 266.432537 229.874489 \r\nL 270.013285 229.874489 \r\nL 273.594034 229.874489 \r\nL 277.174783 229.874489 \r\nL 280.755531 229.874489 \r\nL 284.33628 229.874489 \r\nL 287.917029 229.874489 \r\nL 291.497777 229.874489 \r\nL 295.078526 229.874489 \r\nL 298.659275 229.874489 \r\nL 302.240023 229.874489 \r\nL 305.820772 229.874489 \r\nL 309.401521 229.874489 \r\nL 312.982269 229.874489 \r\nL 316.563018 229.874489 \r\nL 320.143767 229.874489 \r\nL 323.724515 229.874489 \r\nL 327.305264 229.874489 \r\nL 330.886013 229.874489 \r\nL 334.466761 229.874489 \r\nL 338.04751 229.874489 \r\nL 341.628259 229.874489 \r\nL 345.209007 229.874489 \r\nL 348.789756 229.874489 \r\nL 352.370505 229.874489 \r\nL 355.951253 229.874489 \r\nL 359.532002 229.874489 \r\nL 363.112751 229.874489 \r\nL 366.693499 229.874489 \r\nL 370.274248 229.874489 \r\nL 373.854997 229.874489 \r\nL 377.435745 229.874489 \r\nL 381.016494 229.874489 \r\nL 384.597243 229.874489 \r\nL 388.177991 229.874489 \r\nL 391.75874 229.874489 \r\nL 395.339489 229.874489 \r\nL 398.920237 229.874489 \r\nL 402.500986 229.874489 \r\nL 406.081735 229.874489 \r\n\" style=\"fill:none;stroke:#ff7f0e;stroke-linecap:square;stroke-width:1.5;\"/>\r\n   </g>\r\n   <g id=\"line2d_15\">\r\n    <path clip-path=\"url(#p176f33487f)\" d=\"M 48.006868 229.874489 \r\nL 51.587617 229.874489 \r\nL 55.168366 229.874489 \r\nL 58.749114 229.874489 \r\nL 62.329863 229.874489 \r\nL 65.910612 229.874489 \r\nL 69.49136 32.201761 \r\nL 73.072109 229.874489 \r\nL 76.652858 229.874489 \r\nL 80.233606 229.874489 \r\nL 83.814355 229.874489 \r\nL 87.395104 229.874489 \r\nL 90.975852 229.874489 \r\nL 94.556601 229.874489 \r\nL 98.13735 229.874489 \r\nL 101.718098 229.874489 \r\nL 105.298847 229.874489 \r\nL 108.879596 229.874489 \r\nL 112.460344 229.874489 \r\nL 116.041093 229.874489 \r\nL 119.621842 229.874489 \r\nL 123.20259 229.874489 \r\nL 126.783339 229.874489 \r\nL 130.364088 229.874489 \r\nL 133.944836 229.874489 \r\nL 137.525585 229.874489 \r\nL 141.106334 229.874489 \r\nL 144.687082 229.874489 \r\nL 148.267831 229.874489 \r\nL 151.84858 229.874489 \r\nL 155.429328 229.874489 \r\nL 159.010077 229.874489 \r\nL 162.590826 229.874489 \r\nL 166.171574 229.874489 \r\nL 169.752323 229.874489 \r\nL 173.333072 229.874489 \r\nL 176.91382 229.874489 \r\nL 180.494569 229.874489 \r\nL 184.075318 229.874489 \r\nL 187.656066 229.874489 \r\nL 191.236815 229.874489 \r\nL 194.817564 229.874489 \r\nL 198.398312 229.874489 \r\nL 201.979061 229.874489 \r\nL 205.559809 229.874489 \r\nL 209.140558 229.874489 \r\nL 212.721307 229.874489 \r\nL 216.302055 229.874489 \r\nL 219.882804 229.874489 \r\nL 223.463553 229.874489 \r\nL 227.044301 229.874489 \r\nL 230.62505 229.874489 \r\nL 234.205799 229.874489 \r\nL 237.786547 229.874489 \r\nL 241.367296 229.874489 \r\nL 244.948045 229.874489 \r\nL 248.528793 229.874489 \r\nL 252.109542 229.874489 \r\nL 255.690291 229.874489 \r\nL 259.271039 229.874489 \r\nL 262.851788 229.874489 \r\nL 266.432537 229.874489 \r\nL 270.013285 229.874489 \r\nL 273.594034 229.874489 \r\nL 277.174783 229.874489 \r\nL 280.755531 229.874489 \r\nL 284.33628 229.874489 \r\nL 287.917029 229.874489 \r\nL 291.497777 229.874489 \r\nL 295.078526 229.874489 \r\nL 298.659275 229.874489 \r\nL 302.240023 229.874489 \r\nL 305.820772 229.874489 \r\nL 309.401521 229.874489 \r\nL 312.982269 229.874489 \r\nL 316.563018 229.874489 \r\nL 320.143767 229.874489 \r\nL 323.724515 229.874489 \r\nL 327.305264 229.874489 \r\nL 330.886013 229.874489 \r\nL 334.466761 229.874489 \r\nL 338.04751 32.201761 \r\nL 341.628259 229.874489 \r\nL 345.209007 229.874489 \r\nL 348.789756 229.874489 \r\nL 352.370505 229.874489 \r\nL 355.951253 229.874489 \r\nL 359.532002 229.874489 \r\nL 363.112751 229.874489 \r\nL 366.693499 229.874489 \r\nL 370.274248 229.874489 \r\nL 373.854997 229.874489 \r\nL 377.435745 229.874489 \r\nL 381.016494 229.874489 \r\nL 384.597243 229.874489 \r\nL 388.177991 229.874489 \r\nL 391.75874 229.874489 \r\nL 395.339489 229.874489 \r\nL 398.920237 229.874489 \r\nL 402.500986 229.874489 \r\nL 406.081735 229.874489 \r\n\" style=\"fill:none;stroke:#2ca02c;stroke-linecap:square;stroke-width:1.5;\"/>\r\n   </g>\r\n   <g id=\"patch_3\">\r\n    <path d=\"M 30.103125 239.758125 \r\nL 30.103125 22.318125 \r\n\" style=\"fill:none;stroke:#000000;stroke-linecap:square;stroke-linejoin:miter;stroke-width:0.8;\"/>\r\n   </g>\r\n   <g id=\"patch_4\">\r\n    <path d=\"M 423.985478 239.758125 \r\nL 423.985478 22.318125 \r\n\" style=\"fill:none;stroke:#000000;stroke-linecap:square;stroke-linejoin:miter;stroke-width:0.8;\"/>\r\n   </g>\r\n   <g id=\"patch_5\">\r\n    <path d=\"M 30.103125 239.758125 \r\nL 423.985478 239.758125 \r\n\" style=\"fill:none;stroke:#000000;stroke-linecap:square;stroke-linejoin:miter;stroke-width:0.8;\"/>\r\n   </g>\r\n   <g id=\"patch_6\">\r\n    <path d=\"M 30.103125 22.318125 \r\nL 423.985478 22.318125 \r\n\" style=\"fill:none;stroke:#000000;stroke-linecap:square;stroke-linejoin:miter;stroke-width:0.8;\"/>\r\n   </g>\r\n   <g id=\"text_13\">\r\n    <!-- State -->\r\n    <g transform=\"translate(211.162114 16.318125)scale(0.12 -0.12)\">\r\n     <defs>\r\n      <path d=\"M 53.515625 70.515625 \r\nL 53.515625 60.890625 \r\nQ 47.90625 63.578125 42.921875 64.890625 \r\nQ 37.9375 66.21875 33.296875 66.21875 \r\nQ 25.25 66.21875 20.875 63.09375 \r\nQ 16.5 59.96875 16.5 54.203125 \r\nQ 16.5 49.359375 19.40625 46.890625 \r\nQ 22.3125 44.4375 30.421875 42.921875 \r\nL 36.375 41.703125 \r\nQ 47.40625 39.59375 52.65625 34.296875 \r\nQ 57.90625 29 57.90625 20.125 \r\nQ 57.90625 9.515625 50.796875 4.046875 \r\nQ 43.703125 -1.421875 29.984375 -1.421875 \r\nQ 24.8125 -1.421875 18.96875 -0.25 \r\nQ 13.140625 0.921875 6.890625 3.21875 \r\nL 6.890625 13.375 \r\nQ 12.890625 10.015625 18.65625 8.296875 \r\nQ 24.421875 6.59375 29.984375 6.59375 \r\nQ 38.421875 6.59375 43.015625 9.90625 \r\nQ 47.609375 13.234375 47.609375 19.390625 \r\nQ 47.609375 24.75 44.3125 27.78125 \r\nQ 41.015625 30.8125 33.5 32.328125 \r\nL 27.484375 33.5 \r\nQ 16.453125 35.6875 11.515625 40.375 \r\nQ 6.59375 45.0625 6.59375 53.421875 \r\nQ 6.59375 63.09375 13.40625 68.65625 \r\nQ 20.21875 74.21875 32.171875 74.21875 \r\nQ 37.3125 74.21875 42.625 73.28125 \r\nQ 47.953125 72.359375 53.515625 70.515625 \r\nz\r\n\" id=\"DejaVuSans-83\"/>\r\n      <path d=\"M 18.3125 70.21875 \r\nL 18.3125 54.6875 \r\nL 36.8125 54.6875 \r\nL 36.8125 47.703125 \r\nL 18.3125 47.703125 \r\nL 18.3125 18.015625 \r\nQ 18.3125 11.328125 20.140625 9.421875 \r\nQ 21.96875 7.515625 27.59375 7.515625 \r\nL 36.8125 7.515625 \r\nL 36.8125 0 \r\nL 27.59375 0 \r\nQ 17.1875 0 13.234375 3.875 \r\nQ 9.28125 7.765625 9.28125 18.015625 \r\nL 9.28125 47.703125 \r\nL 2.6875 47.703125 \r\nL 2.6875 54.6875 \r\nL 9.28125 54.6875 \r\nL 9.28125 70.21875 \r\nz\r\n\" id=\"DejaVuSans-116\"/>\r\n      <path d=\"M 34.28125 27.484375 \r\nQ 23.390625 27.484375 19.1875 25 \r\nQ 14.984375 22.515625 14.984375 16.5 \r\nQ 14.984375 11.71875 18.140625 8.90625 \r\nQ 21.296875 6.109375 26.703125 6.109375 \r\nQ 34.1875 6.109375 38.703125 11.40625 \r\nQ 43.21875 16.703125 43.21875 25.484375 \r\nL 43.21875 27.484375 \r\nz\r\nM 52.203125 31.203125 \r\nL 52.203125 0 \r\nL 43.21875 0 \r\nL 43.21875 8.296875 \r\nQ 40.140625 3.328125 35.546875 0.953125 \r\nQ 30.953125 -1.421875 24.3125 -1.421875 \r\nQ 15.921875 -1.421875 10.953125 3.296875 \r\nQ 6 8.015625 6 15.921875 \r\nQ 6 25.140625 12.171875 29.828125 \r\nQ 18.359375 34.515625 30.609375 34.515625 \r\nL 43.21875 34.515625 \r\nL 43.21875 35.40625 \r\nQ 43.21875 41.609375 39.140625 45 \r\nQ 35.0625 48.390625 27.6875 48.390625 \r\nQ 23 48.390625 18.546875 47.265625 \r\nQ 14.109375 46.140625 10.015625 43.890625 \r\nL 10.015625 52.203125 \r\nQ 14.9375 54.109375 19.578125 55.046875 \r\nQ 24.21875 56 28.609375 56 \r\nQ 40.484375 56 46.34375 49.84375 \r\nQ 52.203125 43.703125 52.203125 31.203125 \r\nz\r\n\" id=\"DejaVuSans-97\"/>\r\n      <path d=\"M 56.203125 29.59375 \r\nL 56.203125 25.203125 \r\nL 14.890625 25.203125 \r\nQ 15.484375 15.921875 20.484375 11.0625 \r\nQ 25.484375 6.203125 34.421875 6.203125 \r\nQ 39.59375 6.203125 44.453125 7.46875 \r\nQ 49.3125 8.734375 54.109375 11.28125 \r\nL 54.109375 2.78125 \r\nQ 49.265625 0.734375 44.1875 -0.34375 \r\nQ 39.109375 -1.421875 33.890625 -1.421875 \r\nQ 20.796875 -1.421875 13.15625 6.1875 \r\nQ 5.515625 13.8125 5.515625 26.8125 \r\nQ 5.515625 40.234375 12.765625 48.109375 \r\nQ 20.015625 56 32.328125 56 \r\nQ 43.359375 56 49.78125 48.890625 \r\nQ 56.203125 41.796875 56.203125 29.59375 \r\nz\r\nM 47.21875 32.234375 \r\nQ 47.125 39.59375 43.09375 43.984375 \r\nQ 39.0625 48.390625 32.421875 48.390625 \r\nQ 24.90625 48.390625 20.390625 44.140625 \r\nQ 15.875 39.890625 15.1875 32.171875 \r\nz\r\n\" id=\"DejaVuSans-101\"/>\r\n     </defs>\r\n     <use xlink:href=\"#DejaVuSans-83\"/>\r\n     <use x=\"63.476562\" xlink:href=\"#DejaVuSans-116\"/>\r\n     <use x=\"102.685547\" xlink:href=\"#DejaVuSans-97\"/>\r\n     <use x=\"163.964844\" xlink:href=\"#DejaVuSans-116\"/>\r\n     <use x=\"203.173828\" xlink:href=\"#DejaVuSans-101\"/>\r\n    </g>\r\n   </g>\r\n   <g id=\"legend_1\">\r\n    <g id=\"patch_7\">\r\n     <path d=\"M 187.430239 74.3525 \r\nL 266.658364 74.3525 \r\nQ 268.658364 74.3525 268.658364 72.3525 \r\nL 268.658364 29.318125 \r\nQ 268.658364 27.318125 266.658364 27.318125 \r\nL 187.430239 27.318125 \r\nQ 185.430239 27.318125 185.430239 29.318125 \r\nL 185.430239 72.3525 \r\nQ 185.430239 74.3525 187.430239 74.3525 \r\nz\r\n\" style=\"fill:#ffffff;opacity:0.8;stroke:#cccccc;stroke-linejoin:miter;\"/>\r\n    </g>\r\n    <g id=\"line2d_16\">\r\n     <path d=\"M 189.430239 35.416563 \r\nL 209.430239 35.416563 \r\n\" style=\"fill:none;stroke:#1f77b4;stroke-linecap:square;stroke-width:1.5;\"/>\r\n    </g>\r\n    <g id=\"line2d_17\"/>\r\n    <g id=\"text_14\">\r\n     <!-- initiation -->\r\n     <g transform=\"translate(217.430239 38.916563)scale(0.1 -0.1)\">\r\n      <defs>\r\n       <path d=\"M 9.421875 54.6875 \r\nL 18.40625 54.6875 \r\nL 18.40625 0 \r\nL 9.421875 0 \r\nz\r\nM 9.421875 75.984375 \r\nL 18.40625 75.984375 \r\nL 18.40625 64.59375 \r\nL 9.421875 64.59375 \r\nz\r\n\" id=\"DejaVuSans-105\"/>\r\n       <path d=\"M 54.890625 33.015625 \r\nL 54.890625 0 \r\nL 45.90625 0 \r\nL 45.90625 32.71875 \r\nQ 45.90625 40.484375 42.875 44.328125 \r\nQ 39.84375 48.1875 33.796875 48.1875 \r\nQ 26.515625 48.1875 22.3125 43.546875 \r\nQ 18.109375 38.921875 18.109375 30.90625 \r\nL 18.109375 0 \r\nL 9.078125 0 \r\nL 9.078125 54.6875 \r\nL 18.109375 54.6875 \r\nL 18.109375 46.1875 \r\nQ 21.34375 51.125 25.703125 53.5625 \r\nQ 30.078125 56 35.796875 56 \r\nQ 45.21875 56 50.046875 50.171875 \r\nQ 54.890625 44.34375 54.890625 33.015625 \r\nz\r\n\" id=\"DejaVuSans-110\"/>\r\n       <path d=\"M 30.609375 48.390625 \r\nQ 23.390625 48.390625 19.1875 42.75 \r\nQ 14.984375 37.109375 14.984375 27.296875 \r\nQ 14.984375 17.484375 19.15625 11.84375 \r\nQ 23.34375 6.203125 30.609375 6.203125 \r\nQ 37.796875 6.203125 41.984375 11.859375 \r\nQ 46.1875 17.53125 46.1875 27.296875 \r\nQ 46.1875 37.015625 41.984375 42.703125 \r\nQ 37.796875 48.390625 30.609375 48.390625 \r\nz\r\nM 30.609375 56 \r\nQ 42.328125 56 49.015625 48.375 \r\nQ 55.71875 40.765625 55.71875 27.296875 \r\nQ 55.71875 13.875 49.015625 6.21875 \r\nQ 42.328125 -1.421875 30.609375 -1.421875 \r\nQ 18.84375 -1.421875 12.171875 6.21875 \r\nQ 5.515625 13.875 5.515625 27.296875 \r\nQ 5.515625 40.765625 12.171875 48.375 \r\nQ 18.84375 56 30.609375 56 \r\nz\r\n\" id=\"DejaVuSans-111\"/>\r\n      </defs>\r\n      <use xlink:href=\"#DejaVuSans-105\"/>\r\n      <use x=\"27.783203\" xlink:href=\"#DejaVuSans-110\"/>\r\n      <use x=\"91.162109\" xlink:href=\"#DejaVuSans-105\"/>\r\n      <use x=\"118.945312\" xlink:href=\"#DejaVuSans-116\"/>\r\n      <use x=\"158.154297\" xlink:href=\"#DejaVuSans-105\"/>\r\n      <use x=\"185.9375\" xlink:href=\"#DejaVuSans-97\"/>\r\n      <use x=\"247.216797\" xlink:href=\"#DejaVuSans-116\"/>\r\n      <use x=\"286.425781\" xlink:href=\"#DejaVuSans-105\"/>\r\n      <use x=\"314.208984\" xlink:href=\"#DejaVuSans-111\"/>\r\n      <use x=\"375.390625\" xlink:href=\"#DejaVuSans-110\"/>\r\n     </g>\r\n    </g>\r\n    <g id=\"line2d_18\">\r\n     <path d=\"M 189.430239 50.094688 \r\nL 209.430239 50.094688 \r\n\" style=\"fill:none;stroke:#ff7f0e;stroke-linecap:square;stroke-width:1.5;\"/>\r\n    </g>\r\n    <g id=\"line2d_19\"/>\r\n    <g id=\"text_15\">\r\n     <!-- failure -->\r\n     <g transform=\"translate(217.430239 53.594688)scale(0.1 -0.1)\">\r\n      <defs>\r\n       <path d=\"M 37.109375 75.984375 \r\nL 37.109375 68.5 \r\nL 28.515625 68.5 \r\nQ 23.6875 68.5 21.796875 66.546875 \r\nQ 19.921875 64.59375 19.921875 59.515625 \r\nL 19.921875 54.6875 \r\nL 34.71875 54.6875 \r\nL 34.71875 47.703125 \r\nL 19.921875 47.703125 \r\nL 19.921875 0 \r\nL 10.890625 0 \r\nL 10.890625 47.703125 \r\nL 2.296875 47.703125 \r\nL 2.296875 54.6875 \r\nL 10.890625 54.6875 \r\nL 10.890625 58.5 \r\nQ 10.890625 67.625 15.140625 71.796875 \r\nQ 19.390625 75.984375 28.609375 75.984375 \r\nz\r\n\" id=\"DejaVuSans-102\"/>\r\n       <path d=\"M 9.421875 75.984375 \r\nL 18.40625 75.984375 \r\nL 18.40625 0 \r\nL 9.421875 0 \r\nz\r\n\" id=\"DejaVuSans-108\"/>\r\n       <path d=\"M 8.5 21.578125 \r\nL 8.5 54.6875 \r\nL 17.484375 54.6875 \r\nL 17.484375 21.921875 \r\nQ 17.484375 14.15625 20.5 10.265625 \r\nQ 23.53125 6.390625 29.59375 6.390625 \r\nQ 36.859375 6.390625 41.078125 11.03125 \r\nQ 45.3125 15.671875 45.3125 23.6875 \r\nL 45.3125 54.6875 \r\nL 54.296875 54.6875 \r\nL 54.296875 0 \r\nL 45.3125 0 \r\nL 45.3125 8.40625 \r\nQ 42.046875 3.421875 37.71875 1 \r\nQ 33.40625 -1.421875 27.6875 -1.421875 \r\nQ 18.265625 -1.421875 13.375 4.4375 \r\nQ 8.5 10.296875 8.5 21.578125 \r\nz\r\nM 31.109375 56 \r\nz\r\n\" id=\"DejaVuSans-117\"/>\r\n       <path d=\"M 41.109375 46.296875 \r\nQ 39.59375 47.171875 37.8125 47.578125 \r\nQ 36.03125 48 33.890625 48 \r\nQ 26.265625 48 22.1875 43.046875 \r\nQ 18.109375 38.09375 18.109375 28.8125 \r\nL 18.109375 0 \r\nL 9.078125 0 \r\nL 9.078125 54.6875 \r\nL 18.109375 54.6875 \r\nL 18.109375 46.1875 \r\nQ 20.953125 51.171875 25.484375 53.578125 \r\nQ 30.03125 56 36.53125 56 \r\nQ 37.453125 56 38.578125 55.875 \r\nQ 39.703125 55.765625 41.0625 55.515625 \r\nz\r\n\" id=\"DejaVuSans-114\"/>\r\n      </defs>\r\n      <use xlink:href=\"#DejaVuSans-102\"/>\r\n      <use x=\"35.205078\" xlink:href=\"#DejaVuSans-97\"/>\r\n      <use x=\"96.484375\" xlink:href=\"#DejaVuSans-105\"/>\r\n      <use x=\"124.267578\" xlink:href=\"#DejaVuSans-108\"/>\r\n      <use x=\"152.050781\" xlink:href=\"#DejaVuSans-117\"/>\r\n      <use x=\"215.429688\" xlink:href=\"#DejaVuSans-114\"/>\r\n      <use x=\"254.292969\" xlink:href=\"#DejaVuSans-101\"/>\r\n     </g>\r\n    </g>\r\n    <g id=\"line2d_20\">\r\n     <path d=\"M 189.430239 64.772813 \r\nL 209.430239 64.772813 \r\n\" style=\"fill:none;stroke:#2ca02c;stroke-linecap:square;stroke-width:1.5;\"/>\r\n    </g>\r\n    <g id=\"line2d_21\"/>\r\n    <g id=\"text_16\">\r\n     <!-- detection -->\r\n     <g transform=\"translate(217.430239 68.272813)scale(0.1 -0.1)\">\r\n      <defs>\r\n       <path d=\"M 45.40625 46.390625 \r\nL 45.40625 75.984375 \r\nL 54.390625 75.984375 \r\nL 54.390625 0 \r\nL 45.40625 0 \r\nL 45.40625 8.203125 \r\nQ 42.578125 3.328125 38.25 0.953125 \r\nQ 33.9375 -1.421875 27.875 -1.421875 \r\nQ 17.96875 -1.421875 11.734375 6.484375 \r\nQ 5.515625 14.40625 5.515625 27.296875 \r\nQ 5.515625 40.1875 11.734375 48.09375 \r\nQ 17.96875 56 27.875 56 \r\nQ 33.9375 56 38.25 53.625 \r\nQ 42.578125 51.265625 45.40625 46.390625 \r\nz\r\nM 14.796875 27.296875 \r\nQ 14.796875 17.390625 18.875 11.75 \r\nQ 22.953125 6.109375 30.078125 6.109375 \r\nQ 37.203125 6.109375 41.296875 11.75 \r\nQ 45.40625 17.390625 45.40625 27.296875 \r\nQ 45.40625 37.203125 41.296875 42.84375 \r\nQ 37.203125 48.484375 30.078125 48.484375 \r\nQ 22.953125 48.484375 18.875 42.84375 \r\nQ 14.796875 37.203125 14.796875 27.296875 \r\nz\r\n\" id=\"DejaVuSans-100\"/>\r\n       <path d=\"M 48.78125 52.59375 \r\nL 48.78125 44.1875 \r\nQ 44.96875 46.296875 41.140625 47.34375 \r\nQ 37.3125 48.390625 33.40625 48.390625 \r\nQ 24.65625 48.390625 19.8125 42.84375 \r\nQ 14.984375 37.3125 14.984375 27.296875 \r\nQ 14.984375 17.28125 19.8125 11.734375 \r\nQ 24.65625 6.203125 33.40625 6.203125 \r\nQ 37.3125 6.203125 41.140625 7.25 \r\nQ 44.96875 8.296875 48.78125 10.40625 \r\nL 48.78125 2.09375 \r\nQ 45.015625 0.34375 40.984375 -0.53125 \r\nQ 36.96875 -1.421875 32.421875 -1.421875 \r\nQ 20.0625 -1.421875 12.78125 6.34375 \r\nQ 5.515625 14.109375 5.515625 27.296875 \r\nQ 5.515625 40.671875 12.859375 48.328125 \r\nQ 20.21875 56 33.015625 56 \r\nQ 37.15625 56 41.109375 55.140625 \r\nQ 45.0625 54.296875 48.78125 52.59375 \r\nz\r\n\" id=\"DejaVuSans-99\"/>\r\n      </defs>\r\n      <use xlink:href=\"#DejaVuSans-100\"/>\r\n      <use x=\"63.476562\" xlink:href=\"#DejaVuSans-101\"/>\r\n      <use x=\"125\" xlink:href=\"#DejaVuSans-116\"/>\r\n      <use x=\"164.208984\" xlink:href=\"#DejaVuSans-101\"/>\r\n      <use x=\"225.732422\" xlink:href=\"#DejaVuSans-99\"/>\r\n      <use x=\"280.712891\" xlink:href=\"#DejaVuSans-116\"/>\r\n      <use x=\"319.921875\" xlink:href=\"#DejaVuSans-105\"/>\r\n      <use x=\"347.705078\" xlink:href=\"#DejaVuSans-111\"/>\r\n      <use x=\"408.886719\" xlink:href=\"#DejaVuSans-110\"/>\r\n     </g>\r\n    </g>\r\n   </g>\r\n  </g>\r\n  <g id=\"axes_2\">\r\n   <g id=\"patch_8\">\r\n    <path d=\"M 502.761949 239.758125 \r\nL 896.644301 239.758125 \r\nL 896.644301 22.318125 \r\nL 502.761949 22.318125 \r\nz\r\n\" style=\"fill:#ffffff;\"/>\r\n   </g>\r\n   <g id=\"matplotlib.axis_3\">\r\n    <g id=\"xtick_7\">\r\n     <g id=\"line2d_22\">\r\n      <g>\r\n       <use style=\"stroke:#000000;stroke-width:0.8;\" x=\"520.665692\" xlink:href=\"#mb994b60fe1\" y=\"239.758125\"/>\r\n      </g>\r\n     </g>\r\n     <g id=\"text_17\">\r\n      <!-- 0 -->\r\n      <g transform=\"translate(517.484442 254.356563)scale(0.1 -0.1)\">\r\n       <use xlink:href=\"#DejaVuSans-48\"/>\r\n      </g>\r\n     </g>\r\n    </g>\r\n    <g id=\"xtick_8\">\r\n     <g id=\"line2d_23\">\r\n      <g>\r\n       <use style=\"stroke:#000000;stroke-width:0.8;\" x=\"592.280665\" xlink:href=\"#mb994b60fe1\" y=\"239.758125\"/>\r\n      </g>\r\n     </g>\r\n     <g id=\"text_18\">\r\n      <!-- 20 -->\r\n      <g transform=\"translate(585.918165 254.356563)scale(0.1 -0.1)\">\r\n       <use xlink:href=\"#DejaVuSans-50\"/>\r\n       <use x=\"63.623047\" xlink:href=\"#DejaVuSans-48\"/>\r\n      </g>\r\n     </g>\r\n    </g>\r\n    <g id=\"xtick_9\">\r\n     <g id=\"line2d_24\">\r\n      <g>\r\n       <use style=\"stroke:#000000;stroke-width:0.8;\" x=\"663.895638\" xlink:href=\"#mb994b60fe1\" y=\"239.758125\"/>\r\n      </g>\r\n     </g>\r\n     <g id=\"text_19\">\r\n      <!-- 40 -->\r\n      <g transform=\"translate(657.533138 254.356563)scale(0.1 -0.1)\">\r\n       <use xlink:href=\"#DejaVuSans-52\"/>\r\n       <use x=\"63.623047\" xlink:href=\"#DejaVuSans-48\"/>\r\n      </g>\r\n     </g>\r\n    </g>\r\n    <g id=\"xtick_10\">\r\n     <g id=\"line2d_25\">\r\n      <g>\r\n       <use style=\"stroke:#000000;stroke-width:0.8;\" x=\"735.510612\" xlink:href=\"#mb994b60fe1\" y=\"239.758125\"/>\r\n      </g>\r\n     </g>\r\n     <g id=\"text_20\">\r\n      <!-- 60 -->\r\n      <g transform=\"translate(729.148112 254.356563)scale(0.1 -0.1)\">\r\n       <use xlink:href=\"#DejaVuSans-54\"/>\r\n       <use x=\"63.623047\" xlink:href=\"#DejaVuSans-48\"/>\r\n      </g>\r\n     </g>\r\n    </g>\r\n    <g id=\"xtick_11\">\r\n     <g id=\"line2d_26\">\r\n      <g>\r\n       <use style=\"stroke:#000000;stroke-width:0.8;\" x=\"807.125585\" xlink:href=\"#mb994b60fe1\" y=\"239.758125\"/>\r\n      </g>\r\n     </g>\r\n     <g id=\"text_21\">\r\n      <!-- 80 -->\r\n      <g transform=\"translate(800.763085 254.356563)scale(0.1 -0.1)\">\r\n       <use xlink:href=\"#DejaVuSans-56\"/>\r\n       <use x=\"63.623047\" xlink:href=\"#DejaVuSans-48\"/>\r\n      </g>\r\n     </g>\r\n    </g>\r\n    <g id=\"xtick_12\">\r\n     <g id=\"line2d_27\">\r\n      <g>\r\n       <use style=\"stroke:#000000;stroke-width:0.8;\" x=\"878.740558\" xlink:href=\"#mb994b60fe1\" y=\"239.758125\"/>\r\n      </g>\r\n     </g>\r\n     <g id=\"text_22\">\r\n      <!-- 100 -->\r\n      <g transform=\"translate(869.196808 254.356563)scale(0.1 -0.1)\">\r\n       <use xlink:href=\"#DejaVuSans-49\"/>\r\n       <use x=\"63.623047\" xlink:href=\"#DejaVuSans-48\"/>\r\n       <use x=\"127.246094\" xlink:href=\"#DejaVuSans-48\"/>\r\n      </g>\r\n     </g>\r\n    </g>\r\n   </g>\r\n   <g id=\"matplotlib.axis_4\">\r\n    <g id=\"ytick_7\">\r\n     <g id=\"line2d_28\">\r\n      <g>\r\n       <use style=\"stroke:#000000;stroke-width:0.8;\" x=\"502.761949\" xlink:href=\"#me6f7c85d19\" y=\"229.874489\"/>\r\n      </g>\r\n     </g>\r\n     <g id=\"text_23\">\r\n      <!-- 30 -->\r\n      <g transform=\"translate(483.036949 233.673707)scale(0.1 -0.1)\">\r\n       <defs>\r\n        <path d=\"M 40.578125 39.3125 \r\nQ 47.65625 37.796875 51.625 33 \r\nQ 55.609375 28.21875 55.609375 21.1875 \r\nQ 55.609375 10.40625 48.1875 4.484375 \r\nQ 40.765625 -1.421875 27.09375 -1.421875 \r\nQ 22.515625 -1.421875 17.65625 -0.515625 \r\nQ 12.796875 0.390625 7.625 2.203125 \r\nL 7.625 11.71875 \r\nQ 11.71875 9.328125 16.59375 8.109375 \r\nQ 21.484375 6.890625 26.8125 6.890625 \r\nQ 36.078125 6.890625 40.9375 10.546875 \r\nQ 45.796875 14.203125 45.796875 21.1875 \r\nQ 45.796875 27.640625 41.28125 31.265625 \r\nQ 36.765625 34.90625 28.71875 34.90625 \r\nL 20.21875 34.90625 \r\nL 20.21875 43.015625 \r\nL 29.109375 43.015625 \r\nQ 36.375 43.015625 40.234375 45.921875 \r\nQ 44.09375 48.828125 44.09375 54.296875 \r\nQ 44.09375 59.90625 40.109375 62.90625 \r\nQ 36.140625 65.921875 28.71875 65.921875 \r\nQ 24.65625 65.921875 20.015625 65.03125 \r\nQ 15.375 64.15625 9.8125 62.3125 \r\nL 9.8125 71.09375 \r\nQ 15.4375 72.65625 20.34375 73.4375 \r\nQ 25.25 74.21875 29.59375 74.21875 \r\nQ 40.828125 74.21875 47.359375 69.109375 \r\nQ 53.90625 64.015625 53.90625 55.328125 \r\nQ 53.90625 49.265625 50.4375 45.09375 \r\nQ 46.96875 40.921875 40.578125 39.3125 \r\nz\r\n\" id=\"DejaVuSans-51\"/>\r\n       </defs>\r\n       <use xlink:href=\"#DejaVuSans-51\"/>\r\n       <use x=\"63.623047\" xlink:href=\"#DejaVuSans-48\"/>\r\n      </g>\r\n     </g>\r\n    </g>\r\n    <g id=\"ytick_8\">\r\n     <g id=\"line2d_29\">\r\n      <g>\r\n       <use style=\"stroke:#000000;stroke-width:0.8;\" x=\"502.761949\" xlink:href=\"#me6f7c85d19\" y=\"201.635528\"/>\r\n      </g>\r\n     </g>\r\n     <g id=\"text_24\">\r\n      <!-- 40 -->\r\n      <g transform=\"translate(483.036949 205.434746)scale(0.1 -0.1)\">\r\n       <use xlink:href=\"#DejaVuSans-52\"/>\r\n       <use x=\"63.623047\" xlink:href=\"#DejaVuSans-48\"/>\r\n      </g>\r\n     </g>\r\n    </g>\r\n    <g id=\"ytick_9\">\r\n     <g id=\"line2d_30\">\r\n      <g>\r\n       <use style=\"stroke:#000000;stroke-width:0.8;\" x=\"502.761949\" xlink:href=\"#me6f7c85d19\" y=\"173.396567\"/>\r\n      </g>\r\n     </g>\r\n     <g id=\"text_25\">\r\n      <!-- 50 -->\r\n      <g transform=\"translate(483.036949 177.195785)scale(0.1 -0.1)\">\r\n       <defs>\r\n        <path d=\"M 10.796875 72.90625 \r\nL 49.515625 72.90625 \r\nL 49.515625 64.59375 \r\nL 19.828125 64.59375 \r\nL 19.828125 46.734375 \r\nQ 21.96875 47.46875 24.109375 47.828125 \r\nQ 26.265625 48.1875 28.421875 48.1875 \r\nQ 40.625 48.1875 47.75 41.5 \r\nQ 54.890625 34.8125 54.890625 23.390625 \r\nQ 54.890625 11.625 47.5625 5.09375 \r\nQ 40.234375 -1.421875 26.90625 -1.421875 \r\nQ 22.3125 -1.421875 17.546875 -0.640625 \r\nQ 12.796875 0.140625 7.71875 1.703125 \r\nL 7.71875 11.625 \r\nQ 12.109375 9.234375 16.796875 8.0625 \r\nQ 21.484375 6.890625 26.703125 6.890625 \r\nQ 35.15625 6.890625 40.078125 11.328125 \r\nQ 45.015625 15.765625 45.015625 23.390625 \r\nQ 45.015625 31 40.078125 35.4375 \r\nQ 35.15625 39.890625 26.703125 39.890625 \r\nQ 22.75 39.890625 18.8125 39.015625 \r\nQ 14.890625 38.140625 10.796875 36.28125 \r\nz\r\n\" id=\"DejaVuSans-53\"/>\r\n       </defs>\r\n       <use xlink:href=\"#DejaVuSans-53\"/>\r\n       <use x=\"63.623047\" xlink:href=\"#DejaVuSans-48\"/>\r\n      </g>\r\n     </g>\r\n    </g>\r\n    <g id=\"ytick_10\">\r\n     <g id=\"line2d_31\">\r\n      <g>\r\n       <use style=\"stroke:#000000;stroke-width:0.8;\" x=\"502.761949\" xlink:href=\"#me6f7c85d19\" y=\"145.157606\"/>\r\n      </g>\r\n     </g>\r\n     <g id=\"text_26\">\r\n      <!-- 60 -->\r\n      <g transform=\"translate(483.036949 148.956824)scale(0.1 -0.1)\">\r\n       <use xlink:href=\"#DejaVuSans-54\"/>\r\n       <use x=\"63.623047\" xlink:href=\"#DejaVuSans-48\"/>\r\n      </g>\r\n     </g>\r\n    </g>\r\n    <g id=\"ytick_11\">\r\n     <g id=\"line2d_32\">\r\n      <g>\r\n       <use style=\"stroke:#000000;stroke-width:0.8;\" x=\"502.761949\" xlink:href=\"#me6f7c85d19\" y=\"116.918644\"/>\r\n      </g>\r\n     </g>\r\n     <g id=\"text_27\">\r\n      <!-- 70 -->\r\n      <g transform=\"translate(483.036949 120.717863)scale(0.1 -0.1)\">\r\n       <defs>\r\n        <path d=\"M 8.203125 72.90625 \r\nL 55.078125 72.90625 \r\nL 55.078125 68.703125 \r\nL 28.609375 0 \r\nL 18.3125 0 \r\nL 43.21875 64.59375 \r\nL 8.203125 64.59375 \r\nz\r\n\" id=\"DejaVuSans-55\"/>\r\n       </defs>\r\n       <use xlink:href=\"#DejaVuSans-55\"/>\r\n       <use x=\"63.623047\" xlink:href=\"#DejaVuSans-48\"/>\r\n      </g>\r\n     </g>\r\n    </g>\r\n    <g id=\"ytick_12\">\r\n     <g id=\"line2d_33\">\r\n      <g>\r\n       <use style=\"stroke:#000000;stroke-width:0.8;\" x=\"502.761949\" xlink:href=\"#me6f7c85d19\" y=\"88.679683\"/>\r\n      </g>\r\n     </g>\r\n     <g id=\"text_28\">\r\n      <!-- 80 -->\r\n      <g transform=\"translate(483.036949 92.478902)scale(0.1 -0.1)\">\r\n       <use xlink:href=\"#DejaVuSans-56\"/>\r\n       <use x=\"63.623047\" xlink:href=\"#DejaVuSans-48\"/>\r\n      </g>\r\n     </g>\r\n    </g>\r\n    <g id=\"ytick_13\">\r\n     <g id=\"line2d_34\">\r\n      <g>\r\n       <use style=\"stroke:#000000;stroke-width:0.8;\" x=\"502.761949\" xlink:href=\"#me6f7c85d19\" y=\"60.440722\"/>\r\n      </g>\r\n     </g>\r\n     <g id=\"text_29\">\r\n      <!-- 90 -->\r\n      <g transform=\"translate(483.036949 64.239941)scale(0.1 -0.1)\">\r\n       <defs>\r\n        <path d=\"M 10.984375 1.515625 \r\nL 10.984375 10.5 \r\nQ 14.703125 8.734375 18.5 7.8125 \r\nQ 22.3125 6.890625 25.984375 6.890625 \r\nQ 35.75 6.890625 40.890625 13.453125 \r\nQ 46.046875 20.015625 46.78125 33.40625 \r\nQ 43.953125 29.203125 39.59375 26.953125 \r\nQ 35.25 24.703125 29.984375 24.703125 \r\nQ 19.046875 24.703125 12.671875 31.3125 \r\nQ 6.296875 37.9375 6.296875 49.421875 \r\nQ 6.296875 60.640625 12.9375 67.421875 \r\nQ 19.578125 74.21875 30.609375 74.21875 \r\nQ 43.265625 74.21875 49.921875 64.515625 \r\nQ 56.59375 54.828125 56.59375 36.375 \r\nQ 56.59375 19.140625 48.40625 8.859375 \r\nQ 40.234375 -1.421875 26.421875 -1.421875 \r\nQ 22.703125 -1.421875 18.890625 -0.6875 \r\nQ 15.09375 0.046875 10.984375 1.515625 \r\nz\r\nM 30.609375 32.421875 \r\nQ 37.25 32.421875 41.125 36.953125 \r\nQ 45.015625 41.5 45.015625 49.421875 \r\nQ 45.015625 57.28125 41.125 61.84375 \r\nQ 37.25 66.40625 30.609375 66.40625 \r\nQ 23.96875 66.40625 20.09375 61.84375 \r\nQ 16.21875 57.28125 16.21875 49.421875 \r\nQ 16.21875 41.5 20.09375 36.953125 \r\nQ 23.96875 32.421875 30.609375 32.421875 \r\nz\r\n\" id=\"DejaVuSans-57\"/>\r\n       </defs>\r\n       <use xlink:href=\"#DejaVuSans-57\"/>\r\n       <use x=\"63.623047\" xlink:href=\"#DejaVuSans-48\"/>\r\n      </g>\r\n     </g>\r\n    </g>\r\n    <g id=\"ytick_14\">\r\n     <g id=\"line2d_35\">\r\n      <g>\r\n       <use style=\"stroke:#000000;stroke-width:0.8;\" x=\"502.761949\" xlink:href=\"#me6f7c85d19\" y=\"32.201761\"/>\r\n      </g>\r\n     </g>\r\n     <g id=\"text_30\">\r\n      <!-- 100 -->\r\n      <g transform=\"translate(476.674449 36.00098)scale(0.1 -0.1)\">\r\n       <use xlink:href=\"#DejaVuSans-49\"/>\r\n       <use x=\"63.623047\" xlink:href=\"#DejaVuSans-48\"/>\r\n       <use x=\"127.246094\" xlink:href=\"#DejaVuSans-48\"/>\r\n      </g>\r\n     </g>\r\n    </g>\r\n   </g>\r\n   <g id=\"line2d_36\">\r\n    <path clip-path=\"url(#p8258c68b2b)\" d=\"M 520.665692 116.918644 \r\nL 524.246441 131.038125 \r\nL 527.827189 145.157606 \r\nL 531.407938 159.277086 \r\nL 534.988686 173.396567 \r\nL 538.569435 187.516047 \r\nL 542.150184 201.635528 \r\nL 545.730932 201.635528 \r\nL 549.311681 201.635528 \r\nL 552.89243 201.635528 \r\nL 556.473178 201.635528 \r\nL 560.053927 201.635528 \r\nL 563.634676 201.635528 \r\nL 567.215424 201.635528 \r\nL 570.796173 201.635528 \r\nL 574.376922 201.635528 \r\nL 577.95767 201.635528 \r\nL 581.538419 201.635528 \r\nL 585.119168 201.635528 \r\nL 588.699916 201.635528 \r\nL 592.280665 201.635528 \r\nL 595.861414 201.635528 \r\nL 599.442162 201.635528 \r\nL 603.022911 201.635528 \r\nL 606.60366 201.635528 \r\nL 610.184408 201.635528 \r\nL 613.765157 201.635528 \r\nL 617.345906 201.635528 \r\nL 620.926654 201.635528 \r\nL 624.507403 201.635528 \r\nL 628.088152 201.635528 \r\nL 631.6689 201.635528 \r\nL 635.249649 201.635528 \r\nL 638.830398 201.635528 \r\nL 642.411146 201.635528 \r\nL 645.991895 201.635528 \r\nL 649.572644 201.635528 \r\nL 653.153392 201.635528 \r\nL 656.734141 201.635528 \r\nL 660.31489 201.635528 \r\nL 663.895638 201.635528 \r\nL 667.476387 201.635528 \r\nL 671.057136 201.635528 \r\nL 674.637884 201.635528 \r\nL 678.218633 201.635528 \r\nL 681.799382 201.635528 \r\nL 685.38013 201.635528 \r\nL 688.960879 201.635528 \r\nL 692.541628 201.635528 \r\nL 696.122376 201.635528 \r\nL 699.703125 201.635528 \r\nL 703.283874 201.635528 \r\nL 706.864622 201.635528 \r\nL 710.445371 201.635528 \r\nL 714.02612 201.635528 \r\nL 717.606868 201.635528 \r\nL 721.187617 201.635528 \r\nL 724.768366 201.635528 \r\nL 728.349114 201.635528 \r\nL 731.929863 201.635528 \r\nL 735.510612 201.635528 \r\nL 739.09136 201.635528 \r\nL 742.672109 201.635528 \r\nL 746.252858 201.635528 \r\nL 749.833606 201.635528 \r\nL 753.414355 201.635528 \r\nL 756.995104 201.635528 \r\nL 760.575852 201.635528 \r\nL 764.156601 201.635528 \r\nL 767.73735 201.635528 \r\nL 771.318098 201.635528 \r\nL 774.898847 201.635528 \r\nL 778.479596 201.635528 \r\nL 782.060344 201.635528 \r\nL 785.641093 201.635528 \r\nL 789.221842 201.635528 \r\nL 792.80259 201.635528 \r\nL 796.383339 201.635528 \r\nL 799.964088 201.635528 \r\nL 803.544836 201.635528 \r\nL 807.125585 215.755008 \r\nL 810.706334 229.874489 \r\nL 814.287082 229.874489 \r\nL 817.867831 229.874489 \r\nL 821.44858 229.874489 \r\nL 825.029328 229.874489 \r\nL 828.610077 229.874489 \r\nL 832.190826 229.874489 \r\nL 835.771574 229.874489 \r\nL 839.352323 229.874489 \r\nL 842.933072 229.874489 \r\nL 846.51382 229.874489 \r\nL 850.094569 229.874489 \r\nL 853.675318 229.874489 \r\nL 857.256066 229.874489 \r\nL 860.836815 229.874489 \r\nL 864.417564 229.874489 \r\nL 867.998312 229.874489 \r\nL 871.579061 229.874489 \r\nL 875.159809 229.874489 \r\nL 878.740558 229.874489 \r\n\" style=\"fill:none;stroke:#1f77b4;stroke-linecap:square;stroke-width:1.5;\"/>\r\n   </g>\r\n   <g id=\"line2d_37\">\r\n    <path clip-path=\"url(#p8258c68b2b)\" d=\"M 520.665692 32.201761 \r\nL 524.246441 37.849554 \r\nL 527.827189 43.497346 \r\nL 531.407938 49.145138 \r\nL 534.988686 54.79293 \r\nL 538.569435 60.440722 \r\nL 542.150184 66.088515 \r\nL 545.730932 32.201761 \r\nL 549.311681 32.201761 \r\nL 552.89243 32.201761 \r\nL 556.473178 32.201761 \r\nL 560.053927 32.201761 \r\nL 563.634676 32.201761 \r\nL 567.215424 32.201761 \r\nL 570.796173 32.201761 \r\nL 574.376922 32.201761 \r\nL 577.95767 32.201761 \r\nL 581.538419 32.201761 \r\nL 585.119168 32.201761 \r\nL 588.699916 32.201761 \r\nL 592.280665 32.201761 \r\nL 595.861414 32.201761 \r\nL 599.442162 32.201761 \r\nL 603.022911 32.201761 \r\nL 606.60366 32.201761 \r\nL 610.184408 32.201761 \r\nL 613.765157 32.201761 \r\nL 617.345906 32.201761 \r\nL 620.926654 32.201761 \r\nL 624.507403 32.201761 \r\nL 628.088152 32.201761 \r\nL 631.6689 32.201761 \r\nL 635.249649 32.201761 \r\nL 638.830398 32.201761 \r\nL 642.411146 32.201761 \r\nL 645.991895 32.201761 \r\nL 649.572644 32.201761 \r\nL 653.153392 32.201761 \r\nL 656.734141 32.201761 \r\nL 660.31489 32.201761 \r\nL 663.895638 32.201761 \r\nL 667.476387 32.201761 \r\nL 671.057136 32.201761 \r\nL 674.637884 32.201761 \r\nL 678.218633 32.201761 \r\nL 681.799382 32.201761 \r\nL 685.38013 32.201761 \r\nL 688.960879 32.201761 \r\nL 692.541628 32.201761 \r\nL 696.122376 32.201761 \r\nL 699.703125 32.201761 \r\nL 703.283874 32.201761 \r\nL 706.864622 32.201761 \r\nL 710.445371 32.201761 \r\nL 714.02612 32.201761 \r\nL 717.606868 32.201761 \r\nL 721.187617 32.201761 \r\nL 724.768366 32.201761 \r\nL 728.349114 32.201761 \r\nL 731.929863 32.201761 \r\nL 735.510612 32.201761 \r\nL 739.09136 32.201761 \r\nL 742.672109 32.201761 \r\nL 746.252858 32.201761 \r\nL 749.833606 32.201761 \r\nL 753.414355 32.201761 \r\nL 756.995104 32.201761 \r\nL 760.575852 32.201761 \r\nL 764.156601 32.201761 \r\nL 767.73735 32.201761 \r\nL 771.318098 32.201761 \r\nL 774.898847 32.201761 \r\nL 778.479596 32.201761 \r\nL 782.060344 32.201761 \r\nL 785.641093 32.201761 \r\nL 789.221842 32.201761 \r\nL 792.80259 32.201761 \r\nL 796.383339 32.201761 \r\nL 799.964088 32.201761 \r\nL 803.544836 32.201761 \r\nL 807.125585 37.849554 \r\nL 810.706334 43.497346 \r\nL 814.287082 32.201761 \r\nL 817.867831 32.201761 \r\nL 821.44858 32.201761 \r\nL 825.029328 32.201761 \r\nL 828.610077 32.201761 \r\nL 832.190826 32.201761 \r\nL 835.771574 32.201761 \r\nL 839.352323 32.201761 \r\nL 842.933072 32.201761 \r\nL 846.51382 32.201761 \r\nL 850.094569 32.201761 \r\nL 853.675318 32.201761 \r\nL 857.256066 32.201761 \r\nL 860.836815 32.201761 \r\nL 864.417564 32.201761 \r\nL 867.998312 32.201761 \r\nL 871.579061 32.201761 \r\nL 875.159809 32.201761 \r\nL 878.740558 32.201761 \r\n\" style=\"fill:none;stroke:#ff7f0e;stroke-linecap:square;stroke-width:1.5;\"/>\r\n   </g>\r\n   <g id=\"patch_9\">\r\n    <path d=\"M 502.761949 239.758125 \r\nL 502.761949 22.318125 \r\n\" style=\"fill:none;stroke:#000000;stroke-linecap:square;stroke-linejoin:miter;stroke-width:0.8;\"/>\r\n   </g>\r\n   <g id=\"patch_10\">\r\n    <path d=\"M 896.644301 239.758125 \r\nL 896.644301 22.318125 \r\n\" style=\"fill:none;stroke:#000000;stroke-linecap:square;stroke-linejoin:miter;stroke-width:0.8;\"/>\r\n   </g>\r\n   <g id=\"patch_11\">\r\n    <path d=\"M 502.761949 239.758125 \r\nL 896.644301 239.758125 \r\n\" style=\"fill:none;stroke:#000000;stroke-linecap:square;stroke-linejoin:miter;stroke-width:0.8;\"/>\r\n   </g>\r\n   <g id=\"patch_12\">\r\n    <path d=\"M 502.761949 22.318125 \r\nL 896.644301 22.318125 \r\n\" style=\"fill:none;stroke:#000000;stroke-linecap:square;stroke-linejoin:miter;stroke-width:0.8;\"/>\r\n   </g>\r\n   <g id=\"text_31\">\r\n    <!-- Condition -->\r\n    <g transform=\"translate(671.070938 16.318125)scale(0.12 -0.12)\">\r\n     <defs>\r\n      <path d=\"M 64.40625 67.28125 \r\nL 64.40625 56.890625 \r\nQ 59.421875 61.53125 53.78125 63.8125 \r\nQ 48.140625 66.109375 41.796875 66.109375 \r\nQ 29.296875 66.109375 22.65625 58.46875 \r\nQ 16.015625 50.828125 16.015625 36.375 \r\nQ 16.015625 21.96875 22.65625 14.328125 \r\nQ 29.296875 6.6875 41.796875 6.6875 \r\nQ 48.140625 6.6875 53.78125 8.984375 \r\nQ 59.421875 11.28125 64.40625 15.921875 \r\nL 64.40625 5.609375 \r\nQ 59.234375 2.09375 53.4375 0.328125 \r\nQ 47.65625 -1.421875 41.21875 -1.421875 \r\nQ 24.65625 -1.421875 15.125 8.703125 \r\nQ 5.609375 18.84375 5.609375 36.375 \r\nQ 5.609375 53.953125 15.125 64.078125 \r\nQ 24.65625 74.21875 41.21875 74.21875 \r\nQ 47.75 74.21875 53.53125 72.484375 \r\nQ 59.328125 70.75 64.40625 67.28125 \r\nz\r\n\" id=\"DejaVuSans-67\"/>\r\n     </defs>\r\n     <use xlink:href=\"#DejaVuSans-67\"/>\r\n     <use x=\"69.824219\" xlink:href=\"#DejaVuSans-111\"/>\r\n     <use x=\"131.005859\" xlink:href=\"#DejaVuSans-110\"/>\r\n     <use x=\"194.384766\" xlink:href=\"#DejaVuSans-100\"/>\r\n     <use x=\"257.861328\" xlink:href=\"#DejaVuSans-105\"/>\r\n     <use x=\"285.644531\" xlink:href=\"#DejaVuSans-116\"/>\r\n     <use x=\"324.853516\" xlink:href=\"#DejaVuSans-105\"/>\r\n     <use x=\"352.636719\" xlink:href=\"#DejaVuSans-111\"/>\r\n     <use x=\"413.818359\" xlink:href=\"#DejaVuSans-110\"/>\r\n    </g>\r\n   </g>\r\n   <g id=\"legend_2\">\r\n    <g id=\"patch_13\">\r\n     <path d=\"M 509.761949 234.758125 \r\nL 633.244761 234.758125 \r\nQ 635.244761 234.758125 635.244761 232.758125 \r\nL 635.244761 203.845625 \r\nQ 635.244761 201.845625 633.244761 201.845625 \r\nL 509.761949 201.845625 \r\nQ 507.761949 201.845625 507.761949 203.845625 \r\nL 507.761949 232.758125 \r\nQ 507.761949 234.758125 509.761949 234.758125 \r\nz\r\n\" style=\"fill:#ffffff;opacity:0.8;stroke:#cccccc;stroke-linejoin:miter;\"/>\r\n    </g>\r\n    <g id=\"line2d_38\">\r\n     <path d=\"M 511.761949 209.944063 \r\nL 531.761949 209.944063 \r\n\" style=\"fill:none;stroke:#1f77b4;stroke-linecap:square;stroke-width:1.5;\"/>\r\n    </g>\r\n    <g id=\"line2d_39\"/>\r\n    <g id=\"text_32\">\r\n     <!-- wall_thickness -->\r\n     <g transform=\"translate(539.761949 213.444063)scale(0.1 -0.1)\">\r\n      <defs>\r\n       <path d=\"M 4.203125 54.6875 \r\nL 13.1875 54.6875 \r\nL 24.421875 12.015625 \r\nL 35.59375 54.6875 \r\nL 46.1875 54.6875 \r\nL 57.421875 12.015625 \r\nL 68.609375 54.6875 \r\nL 77.59375 54.6875 \r\nL 63.28125 0 \r\nL 52.6875 0 \r\nL 40.921875 44.828125 \r\nL 29.109375 0 \r\nL 18.5 0 \r\nz\r\n\" id=\"DejaVuSans-119\"/>\r\n       <path d=\"M 50.984375 -16.609375 \r\nL 50.984375 -23.578125 \r\nL -0.984375 -23.578125 \r\nL -0.984375 -16.609375 \r\nz\r\n\" id=\"DejaVuSans-95\"/>\r\n       <path d=\"M 54.890625 33.015625 \r\nL 54.890625 0 \r\nL 45.90625 0 \r\nL 45.90625 32.71875 \r\nQ 45.90625 40.484375 42.875 44.328125 \r\nQ 39.84375 48.1875 33.796875 48.1875 \r\nQ 26.515625 48.1875 22.3125 43.546875 \r\nQ 18.109375 38.921875 18.109375 30.90625 \r\nL 18.109375 0 \r\nL 9.078125 0 \r\nL 9.078125 75.984375 \r\nL 18.109375 75.984375 \r\nL 18.109375 46.1875 \r\nQ 21.34375 51.125 25.703125 53.5625 \r\nQ 30.078125 56 35.796875 56 \r\nQ 45.21875 56 50.046875 50.171875 \r\nQ 54.890625 44.34375 54.890625 33.015625 \r\nz\r\n\" id=\"DejaVuSans-104\"/>\r\n       <path d=\"M 9.078125 75.984375 \r\nL 18.109375 75.984375 \r\nL 18.109375 31.109375 \r\nL 44.921875 54.6875 \r\nL 56.390625 54.6875 \r\nL 27.390625 29.109375 \r\nL 57.625 0 \r\nL 45.90625 0 \r\nL 18.109375 26.703125 \r\nL 18.109375 0 \r\nL 9.078125 0 \r\nz\r\n\" id=\"DejaVuSans-107\"/>\r\n       <path d=\"M 44.28125 53.078125 \r\nL 44.28125 44.578125 \r\nQ 40.484375 46.53125 36.375 47.5 \r\nQ 32.28125 48.484375 27.875 48.484375 \r\nQ 21.1875 48.484375 17.84375 46.4375 \r\nQ 14.5 44.390625 14.5 40.28125 \r\nQ 14.5 37.15625 16.890625 35.375 \r\nQ 19.28125 33.59375 26.515625 31.984375 \r\nL 29.59375 31.296875 \r\nQ 39.15625 29.25 43.1875 25.515625 \r\nQ 47.21875 21.78125 47.21875 15.09375 \r\nQ 47.21875 7.46875 41.1875 3.015625 \r\nQ 35.15625 -1.421875 24.609375 -1.421875 \r\nQ 20.21875 -1.421875 15.453125 -0.5625 \r\nQ 10.6875 0.296875 5.421875 2 \r\nL 5.421875 11.28125 \r\nQ 10.40625 8.6875 15.234375 7.390625 \r\nQ 20.0625 6.109375 24.8125 6.109375 \r\nQ 31.15625 6.109375 34.5625 8.28125 \r\nQ 37.984375 10.453125 37.984375 14.40625 \r\nQ 37.984375 18.0625 35.515625 20.015625 \r\nQ 33.0625 21.96875 24.703125 23.78125 \r\nL 21.578125 24.515625 \r\nQ 13.234375 26.265625 9.515625 29.90625 \r\nQ 5.8125 33.546875 5.8125 39.890625 \r\nQ 5.8125 47.609375 11.28125 51.796875 \r\nQ 16.75 56 26.8125 56 \r\nQ 31.78125 56 36.171875 55.265625 \r\nQ 40.578125 54.546875 44.28125 53.078125 \r\nz\r\n\" id=\"DejaVuSans-115\"/>\r\n      </defs>\r\n      <use xlink:href=\"#DejaVuSans-119\"/>\r\n      <use x=\"81.787109\" xlink:href=\"#DejaVuSans-97\"/>\r\n      <use x=\"143.066406\" xlink:href=\"#DejaVuSans-108\"/>\r\n      <use x=\"170.849609\" xlink:href=\"#DejaVuSans-108\"/>\r\n      <use x=\"198.632812\" xlink:href=\"#DejaVuSans-95\"/>\r\n      <use x=\"248.632812\" xlink:href=\"#DejaVuSans-116\"/>\r\n      <use x=\"287.841797\" xlink:href=\"#DejaVuSans-104\"/>\r\n      <use x=\"351.220703\" xlink:href=\"#DejaVuSans-105\"/>\r\n      <use x=\"379.003906\" xlink:href=\"#DejaVuSans-99\"/>\r\n      <use x=\"433.984375\" xlink:href=\"#DejaVuSans-107\"/>\r\n      <use x=\"491.894531\" xlink:href=\"#DejaVuSans-110\"/>\r\n      <use x=\"555.273438\" xlink:href=\"#DejaVuSans-101\"/>\r\n      <use x=\"616.796875\" xlink:href=\"#DejaVuSans-115\"/>\r\n      <use x=\"668.896484\" xlink:href=\"#DejaVuSans-115\"/>\r\n     </g>\r\n    </g>\r\n    <g id=\"line2d_40\">\r\n     <path d=\"M 511.761949 224.900313 \r\nL 531.761949 224.900313 \r\n\" style=\"fill:none;stroke:#ff7f0e;stroke-linecap:square;stroke-width:1.5;\"/>\r\n    </g>\r\n    <g id=\"line2d_41\"/>\r\n    <g id=\"text_33\">\r\n     <!-- external_diameter -->\r\n     <g transform=\"translate(539.761949 228.400313)scale(0.1 -0.1)\">\r\n      <defs>\r\n       <path d=\"M 54.890625 54.6875 \r\nL 35.109375 28.078125 \r\nL 55.90625 0 \r\nL 45.3125 0 \r\nL 29.390625 21.484375 \r\nL 13.484375 0 \r\nL 2.875 0 \r\nL 24.125 28.609375 \r\nL 4.6875 54.6875 \r\nL 15.28125 54.6875 \r\nL 29.78125 35.203125 \r\nL 44.28125 54.6875 \r\nz\r\n\" id=\"DejaVuSans-120\"/>\r\n       <path d=\"M 52 44.1875 \r\nQ 55.375 50.25 60.0625 53.125 \r\nQ 64.75 56 71.09375 56 \r\nQ 79.640625 56 84.28125 50.015625 \r\nQ 88.921875 44.046875 88.921875 33.015625 \r\nL 88.921875 0 \r\nL 79.890625 0 \r\nL 79.890625 32.71875 \r\nQ 79.890625 40.578125 77.09375 44.375 \r\nQ 74.3125 48.1875 68.609375 48.1875 \r\nQ 61.625 48.1875 57.5625 43.546875 \r\nQ 53.515625 38.921875 53.515625 30.90625 \r\nL 53.515625 0 \r\nL 44.484375 0 \r\nL 44.484375 32.71875 \r\nQ 44.484375 40.625 41.703125 44.40625 \r\nQ 38.921875 48.1875 33.109375 48.1875 \r\nQ 26.21875 48.1875 22.15625 43.53125 \r\nQ 18.109375 38.875 18.109375 30.90625 \r\nL 18.109375 0 \r\nL 9.078125 0 \r\nL 9.078125 54.6875 \r\nL 18.109375 54.6875 \r\nL 18.109375 46.1875 \r\nQ 21.1875 51.21875 25.484375 53.609375 \r\nQ 29.78125 56 35.6875 56 \r\nQ 41.65625 56 45.828125 52.96875 \r\nQ 50 49.953125 52 44.1875 \r\nz\r\n\" id=\"DejaVuSans-109\"/>\r\n      </defs>\r\n      <use xlink:href=\"#DejaVuSans-101\"/>\r\n      <use x=\"59.773438\" xlink:href=\"#DejaVuSans-120\"/>\r\n      <use x=\"118.953125\" xlink:href=\"#DejaVuSans-116\"/>\r\n      <use x=\"158.162109\" xlink:href=\"#DejaVuSans-101\"/>\r\n      <use x=\"219.685547\" xlink:href=\"#DejaVuSans-114\"/>\r\n      <use x=\"259.048828\" xlink:href=\"#DejaVuSans-110\"/>\r\n      <use x=\"322.427734\" xlink:href=\"#DejaVuSans-97\"/>\r\n      <use x=\"383.707031\" xlink:href=\"#DejaVuSans-108\"/>\r\n      <use x=\"411.490234\" xlink:href=\"#DejaVuSans-95\"/>\r\n      <use x=\"461.490234\" xlink:href=\"#DejaVuSans-100\"/>\r\n      <use x=\"524.966797\" xlink:href=\"#DejaVuSans-105\"/>\r\n      <use x=\"552.75\" xlink:href=\"#DejaVuSans-97\"/>\r\n      <use x=\"614.029297\" xlink:href=\"#DejaVuSans-109\"/>\r\n      <use x=\"711.441406\" xlink:href=\"#DejaVuSans-101\"/>\r\n      <use x=\"772.964844\" xlink:href=\"#DejaVuSans-116\"/>\r\n      <use x=\"812.173828\" xlink:href=\"#DejaVuSans-101\"/>\r\n      <use x=\"873.697266\" xlink:href=\"#DejaVuSans-114\"/>\r\n     </g>\r\n    </g>\r\n   </g>\r\n  </g>\r\n  <g id=\"axes_3\">\r\n   <g id=\"patch_14\">\r\n    <path d=\"M 975.420772 239.758125 \r\nL 1369.303125 239.758125 \r\nL 1369.303125 22.318125 \r\nL 975.420772 22.318125 \r\nz\r\n\" style=\"fill:#ffffff;\"/>\r\n   </g>\r\n   <g id=\"matplotlib.axis_5\">\r\n    <g id=\"xtick_13\">\r\n     <g id=\"line2d_42\">\r\n      <g>\r\n       <use style=\"stroke:#000000;stroke-width:0.8;\" x=\"993.324515\" xlink:href=\"#mb994b60fe1\" y=\"239.758125\"/>\r\n      </g>\r\n     </g>\r\n     <g id=\"text_34\">\r\n      <!-- 0 -->\r\n      <g transform=\"translate(990.143265 254.356563)scale(0.1 -0.1)\">\r\n       <use xlink:href=\"#DejaVuSans-48\"/>\r\n      </g>\r\n     </g>\r\n    </g>\r\n    <g id=\"xtick_14\">\r\n     <g id=\"line2d_43\">\r\n      <g>\r\n       <use style=\"stroke:#000000;stroke-width:0.8;\" x=\"1064.939489\" xlink:href=\"#mb994b60fe1\" y=\"239.758125\"/>\r\n      </g>\r\n     </g>\r\n     <g id=\"text_35\">\r\n      <!-- 20 -->\r\n      <g transform=\"translate(1058.576989 254.356563)scale(0.1 -0.1)\">\r\n       <use xlink:href=\"#DejaVuSans-50\"/>\r\n       <use x=\"63.623047\" xlink:href=\"#DejaVuSans-48\"/>\r\n      </g>\r\n     </g>\r\n    </g>\r\n    <g id=\"xtick_15\">\r\n     <g id=\"line2d_44\">\r\n      <g>\r\n       <use style=\"stroke:#000000;stroke-width:0.8;\" x=\"1136.554462\" xlink:href=\"#mb994b60fe1\" y=\"239.758125\"/>\r\n      </g>\r\n     </g>\r\n     <g id=\"text_36\">\r\n      <!-- 40 -->\r\n      <g transform=\"translate(1130.191962 254.356563)scale(0.1 -0.1)\">\r\n       <use xlink:href=\"#DejaVuSans-52\"/>\r\n       <use x=\"63.623047\" xlink:href=\"#DejaVuSans-48\"/>\r\n      </g>\r\n     </g>\r\n    </g>\r\n    <g id=\"xtick_16\">\r\n     <g id=\"line2d_45\">\r\n      <g>\r\n       <use style=\"stroke:#000000;stroke-width:0.8;\" x=\"1208.169435\" xlink:href=\"#mb994b60fe1\" y=\"239.758125\"/>\r\n      </g>\r\n     </g>\r\n     <g id=\"text_37\">\r\n      <!-- 60 -->\r\n      <g transform=\"translate(1201.806935 254.356563)scale(0.1 -0.1)\">\r\n       <use xlink:href=\"#DejaVuSans-54\"/>\r\n       <use x=\"63.623047\" xlink:href=\"#DejaVuSans-48\"/>\r\n      </g>\r\n     </g>\r\n    </g>\r\n    <g id=\"xtick_17\">\r\n     <g id=\"line2d_46\">\r\n      <g>\r\n       <use style=\"stroke:#000000;stroke-width:0.8;\" x=\"1279.784408\" xlink:href=\"#mb994b60fe1\" y=\"239.758125\"/>\r\n      </g>\r\n     </g>\r\n     <g id=\"text_38\">\r\n      <!-- 80 -->\r\n      <g transform=\"translate(1273.421908 254.356563)scale(0.1 -0.1)\">\r\n       <use xlink:href=\"#DejaVuSans-56\"/>\r\n       <use x=\"63.623047\" xlink:href=\"#DejaVuSans-48\"/>\r\n      </g>\r\n     </g>\r\n    </g>\r\n    <g id=\"xtick_18\">\r\n     <g id=\"line2d_47\">\r\n      <g>\r\n       <use style=\"stroke:#000000;stroke-width:0.8;\" x=\"1351.399382\" xlink:href=\"#mb994b60fe1\" y=\"239.758125\"/>\r\n      </g>\r\n     </g>\r\n     <g id=\"text_39\">\r\n      <!-- 100 -->\r\n      <g transform=\"translate(1341.855632 254.356563)scale(0.1 -0.1)\">\r\n       <use xlink:href=\"#DejaVuSans-49\"/>\r\n       <use x=\"63.623047\" xlink:href=\"#DejaVuSans-48\"/>\r\n       <use x=\"127.246094\" xlink:href=\"#DejaVuSans-48\"/>\r\n      </g>\r\n     </g>\r\n    </g>\r\n   </g>\r\n   <g id=\"matplotlib.axis_6\">\r\n    <g id=\"ytick_15\">\r\n     <g id=\"line2d_48\">\r\n      <g>\r\n       <use style=\"stroke:#000000;stroke-width:0.8;\" x=\"975.420772\" xlink:href=\"#me6f7c85d19\" y=\"229.874489\"/>\r\n      </g>\r\n     </g>\r\n     <g id=\"text_40\">\r\n      <!-- −1 -->\r\n      <g transform=\"translate(953.678585 233.673707)scale(0.1 -0.1)\">\r\n       <defs>\r\n        <path d=\"M 10.59375 35.5 \r\nL 73.1875 35.5 \r\nL 73.1875 27.203125 \r\nL 10.59375 27.203125 \r\nz\r\n\" id=\"DejaVuSans-8722\"/>\r\n       </defs>\r\n       <use xlink:href=\"#DejaVuSans-8722\"/>\r\n       <use x=\"83.789062\" xlink:href=\"#DejaVuSans-49\"/>\r\n      </g>\r\n     </g>\r\n    </g>\r\n    <g id=\"ytick_16\">\r\n     <g id=\"line2d_49\">\r\n      <g>\r\n       <use style=\"stroke:#000000;stroke-width:0.8;\" x=\"975.420772\" xlink:href=\"#me6f7c85d19\" y=\"196.929034\"/>\r\n      </g>\r\n     </g>\r\n     <g id=\"text_41\">\r\n      <!-- 0 -->\r\n      <g transform=\"translate(962.058272 200.728253)scale(0.1 -0.1)\">\r\n       <use xlink:href=\"#DejaVuSans-48\"/>\r\n      </g>\r\n     </g>\r\n    </g>\r\n    <g id=\"ytick_17\">\r\n     <g id=\"line2d_50\">\r\n      <g>\r\n       <use style=\"stroke:#000000;stroke-width:0.8;\" x=\"975.420772\" xlink:href=\"#me6f7c85d19\" y=\"163.98358\"/>\r\n      </g>\r\n     </g>\r\n     <g id=\"text_42\">\r\n      <!-- 1 -->\r\n      <g transform=\"translate(962.058272 167.782798)scale(0.1 -0.1)\">\r\n       <use xlink:href=\"#DejaVuSans-49\"/>\r\n      </g>\r\n     </g>\r\n    </g>\r\n    <g id=\"ytick_18\">\r\n     <g id=\"line2d_51\">\r\n      <g>\r\n       <use style=\"stroke:#000000;stroke-width:0.8;\" x=\"975.420772\" xlink:href=\"#me6f7c85d19\" y=\"131.038125\"/>\r\n      </g>\r\n     </g>\r\n     <g id=\"text_43\">\r\n      <!-- 2 -->\r\n      <g transform=\"translate(962.058272 134.837344)scale(0.1 -0.1)\">\r\n       <use xlink:href=\"#DejaVuSans-50\"/>\r\n      </g>\r\n     </g>\r\n    </g>\r\n    <g id=\"ytick_19\">\r\n     <g id=\"line2d_52\">\r\n      <g>\r\n       <use style=\"stroke:#000000;stroke-width:0.8;\" x=\"975.420772\" xlink:href=\"#me6f7c85d19\" y=\"98.09267\"/>\r\n      </g>\r\n     </g>\r\n     <g id=\"text_44\">\r\n      <!-- 3 -->\r\n      <g transform=\"translate(962.058272 101.891889)scale(0.1 -0.1)\">\r\n       <use xlink:href=\"#DejaVuSans-51\"/>\r\n      </g>\r\n     </g>\r\n    </g>\r\n    <g id=\"ytick_20\">\r\n     <g id=\"line2d_53\">\r\n      <g>\r\n       <use style=\"stroke:#000000;stroke-width:0.8;\" x=\"975.420772\" xlink:href=\"#me6f7c85d19\" y=\"65.147216\"/>\r\n      </g>\r\n     </g>\r\n     <g id=\"text_45\">\r\n      <!-- 4 -->\r\n      <g transform=\"translate(962.058272 68.946435)scale(0.1 -0.1)\">\r\n       <use xlink:href=\"#DejaVuSans-52\"/>\r\n      </g>\r\n     </g>\r\n    </g>\r\n    <g id=\"ytick_21\">\r\n     <g id=\"line2d_54\">\r\n      <g>\r\n       <use style=\"stroke:#000000;stroke-width:0.8;\" x=\"975.420772\" xlink:href=\"#me6f7c85d19\" y=\"32.201761\"/>\r\n      </g>\r\n     </g>\r\n     <g id=\"text_46\">\r\n      <!-- 5 -->\r\n      <g transform=\"translate(962.058272 36.00098)scale(0.1 -0.1)\">\r\n       <use xlink:href=\"#DejaVuSans-53\"/>\r\n      </g>\r\n     </g>\r\n    </g>\r\n   </g>\r\n   <g id=\"line2d_55\">\r\n    <path clip-path=\"url(#pa2d2f7699d)\" d=\"M 993.324515 32.201761 \r\nL 996.905264 65.147216 \r\nL 1000.486013 98.09267 \r\nL 1004.066761 131.038125 \r\nL 1007.64751 163.98358 \r\nL 1011.228259 196.929034 \r\nL 1014.809007 65.147216 \r\nL 1018.389756 98.09267 \r\nL 1021.970505 131.038125 \r\nL 1025.551253 163.98358 \r\nL 1029.132002 196.929034 \r\nL 1032.712751 65.147216 \r\nL 1036.293499 98.09267 \r\nL 1039.874248 131.038125 \r\nL 1043.454997 163.98358 \r\nL 1047.035745 196.929034 \r\nL 1050.616494 65.147216 \r\nL 1054.197243 98.09267 \r\nL 1057.777991 131.038125 \r\nL 1061.35874 163.98358 \r\nL 1064.939489 196.929034 \r\nL 1068.520237 65.147216 \r\nL 1072.100986 98.09267 \r\nL 1075.681735 131.038125 \r\nL 1079.262483 163.98358 \r\nL 1082.843232 196.929034 \r\nL 1086.423981 65.147216 \r\nL 1090.004729 98.09267 \r\nL 1093.585478 131.038125 \r\nL 1097.166227 163.98358 \r\nL 1100.746975 196.929034 \r\nL 1104.327724 65.147216 \r\nL 1107.908473 98.09267 \r\nL 1111.489221 131.038125 \r\nL 1115.06997 163.98358 \r\nL 1118.650719 196.929034 \r\nL 1122.231467 65.147216 \r\nL 1125.812216 98.09267 \r\nL 1129.392965 131.038125 \r\nL 1132.973713 163.98358 \r\nL 1136.554462 196.929034 \r\nL 1140.135211 65.147216 \r\nL 1143.715959 98.09267 \r\nL 1147.296708 131.038125 \r\nL 1150.877457 163.98358 \r\nL 1154.458205 196.929034 \r\nL 1158.038954 65.147216 \r\nL 1161.619703 98.09267 \r\nL 1165.200451 131.038125 \r\nL 1168.7812 163.98358 \r\nL 1172.361949 196.929034 \r\nL 1175.942697 65.147216 \r\nL 1179.523446 98.09267 \r\nL 1183.104195 131.038125 \r\nL 1186.684943 163.98358 \r\nL 1190.265692 196.929034 \r\nL 1193.846441 65.147216 \r\nL 1197.427189 98.09267 \r\nL 1201.007938 131.038125 \r\nL 1204.588686 163.98358 \r\nL 1208.169435 196.929034 \r\nL 1211.750184 65.147216 \r\nL 1215.330932 98.09267 \r\nL 1218.911681 131.038125 \r\nL 1222.49243 163.98358 \r\nL 1226.073178 196.929034 \r\nL 1229.653927 65.147216 \r\nL 1233.234676 98.09267 \r\nL 1236.815424 131.038125 \r\nL 1240.396173 163.98358 \r\nL 1243.976922 196.929034 \r\nL 1247.55767 65.147216 \r\nL 1251.138419 98.09267 \r\nL 1254.719168 131.038125 \r\nL 1258.299916 163.98358 \r\nL 1261.880665 196.929034 \r\nL 1265.461414 65.147216 \r\nL 1269.042162 98.09267 \r\nL 1272.622911 131.038125 \r\nL 1276.20366 163.98358 \r\nL 1279.784408 196.929034 \r\nL 1283.365157 65.147216 \r\nL 1286.945906 98.09267 \r\nL 1290.526654 131.038125 \r\nL 1294.107403 163.98358 \r\nL 1297.688152 196.929034 \r\nL 1301.2689 65.147216 \r\nL 1304.849649 98.09267 \r\nL 1308.430398 131.038125 \r\nL 1312.011146 163.98358 \r\nL 1315.591895 196.929034 \r\nL 1319.172644 65.147216 \r\nL 1322.753392 98.09267 \r\nL 1326.334141 131.038125 \r\nL 1329.91489 163.98358 \r\nL 1333.495638 196.929034 \r\nL 1337.076387 65.147216 \r\nL 1340.657136 98.09267 \r\nL 1344.237884 131.038125 \r\nL 1347.818633 163.98358 \r\nL 1351.399382 196.929034 \r\n\" style=\"fill:none;stroke:#1f77b4;stroke-linecap:square;stroke-width:1.5;\"/>\r\n   </g>\r\n   <g id=\"line2d_56\">\r\n    <path clip-path=\"url(#pa2d2f7699d)\" d=\"M 993.324515 229.874489 \r\nL 996.905264 229.874489 \r\nL 1000.486013 229.874489 \r\nL 1004.066761 229.874489 \r\nL 1007.64751 229.874489 \r\nL 1011.228259 229.874489 \r\nL 1014.809007 196.929034 \r\nL 1018.389756 229.874489 \r\nL 1021.970505 229.874489 \r\nL 1025.551253 229.874489 \r\nL 1029.132002 229.874489 \r\nL 1032.712751 229.874489 \r\nL 1036.293499 229.874489 \r\nL 1039.874248 229.874489 \r\nL 1043.454997 229.874489 \r\nL 1047.035745 229.874489 \r\nL 1050.616494 229.874489 \r\nL 1054.197243 229.874489 \r\nL 1057.777991 229.874489 \r\nL 1061.35874 229.874489 \r\nL 1064.939489 229.874489 \r\nL 1068.520237 229.874489 \r\nL 1072.100986 229.874489 \r\nL 1075.681735 229.874489 \r\nL 1079.262483 229.874489 \r\nL 1082.843232 229.874489 \r\nL 1086.423981 229.874489 \r\nL 1090.004729 229.874489 \r\nL 1093.585478 229.874489 \r\nL 1097.166227 229.874489 \r\nL 1100.746975 229.874489 \r\nL 1104.327724 229.874489 \r\nL 1107.908473 229.874489 \r\nL 1111.489221 229.874489 \r\nL 1115.06997 229.874489 \r\nL 1118.650719 229.874489 \r\nL 1122.231467 229.874489 \r\nL 1125.812216 229.874489 \r\nL 1129.392965 229.874489 \r\nL 1132.973713 229.874489 \r\nL 1136.554462 229.874489 \r\nL 1140.135211 229.874489 \r\nL 1143.715959 229.874489 \r\nL 1147.296708 229.874489 \r\nL 1150.877457 229.874489 \r\nL 1154.458205 229.874489 \r\nL 1158.038954 229.874489 \r\nL 1161.619703 229.874489 \r\nL 1165.200451 229.874489 \r\nL 1168.7812 229.874489 \r\nL 1172.361949 229.874489 \r\nL 1175.942697 229.874489 \r\nL 1179.523446 229.874489 \r\nL 1183.104195 229.874489 \r\nL 1186.684943 229.874489 \r\nL 1190.265692 229.874489 \r\nL 1193.846441 229.874489 \r\nL 1197.427189 229.874489 \r\nL 1201.007938 229.874489 \r\nL 1204.588686 229.874489 \r\nL 1208.169435 229.874489 \r\nL 1211.750184 229.874489 \r\nL 1215.330932 229.874489 \r\nL 1218.911681 229.874489 \r\nL 1222.49243 229.874489 \r\nL 1226.073178 229.874489 \r\nL 1229.653927 229.874489 \r\nL 1233.234676 229.874489 \r\nL 1236.815424 229.874489 \r\nL 1240.396173 229.874489 \r\nL 1243.976922 229.874489 \r\nL 1247.55767 229.874489 \r\nL 1251.138419 229.874489 \r\nL 1254.719168 229.874489 \r\nL 1258.299916 229.874489 \r\nL 1261.880665 229.874489 \r\nL 1265.461414 229.874489 \r\nL 1269.042162 229.874489 \r\nL 1272.622911 229.874489 \r\nL 1276.20366 229.874489 \r\nL 1279.784408 229.874489 \r\nL 1283.365157 196.929034 \r\nL 1286.945906 229.874489 \r\nL 1290.526654 229.874489 \r\nL 1294.107403 229.874489 \r\nL 1297.688152 229.874489 \r\nL 1301.2689 229.874489 \r\nL 1304.849649 229.874489 \r\nL 1308.430398 229.874489 \r\nL 1312.011146 229.874489 \r\nL 1315.591895 229.874489 \r\nL 1319.172644 229.874489 \r\nL 1322.753392 229.874489 \r\nL 1326.334141 229.874489 \r\nL 1329.91489 229.874489 \r\nL 1333.495638 229.874489 \r\nL 1337.076387 229.874489 \r\nL 1340.657136 229.874489 \r\nL 1344.237884 229.874489 \r\nL 1347.818633 229.874489 \r\nL 1351.399382 229.874489 \r\n\" style=\"fill:none;stroke:#ff7f0e;stroke-linecap:square;stroke-width:1.5;\"/>\r\n   </g>\r\n   <g id=\"line2d_57\">\r\n    <path clip-path=\"url(#pa2d2f7699d)\" d=\"M 993.324515 229.874489 \r\nL 996.905264 229.874489 \r\nL 1000.486013 229.874489 \r\nL 1004.066761 229.874489 \r\nL 1007.64751 229.874489 \r\nL 1011.228259 229.874489 \r\nL 1014.809007 229.874489 \r\nL 1018.389756 229.874489 \r\nL 1021.970505 229.874489 \r\nL 1025.551253 229.874489 \r\nL 1029.132002 229.874489 \r\nL 1032.712751 229.874489 \r\nL 1036.293499 229.874489 \r\nL 1039.874248 229.874489 \r\nL 1043.454997 229.874489 \r\nL 1047.035745 229.874489 \r\nL 1050.616494 229.874489 \r\nL 1054.197243 229.874489 \r\nL 1057.777991 229.874489 \r\nL 1061.35874 229.874489 \r\nL 1064.939489 229.874489 \r\nL 1068.520237 229.874489 \r\nL 1072.100986 229.874489 \r\nL 1075.681735 229.874489 \r\nL 1079.262483 229.874489 \r\nL 1082.843232 229.874489 \r\nL 1086.423981 229.874489 \r\nL 1090.004729 229.874489 \r\nL 1093.585478 229.874489 \r\nL 1097.166227 229.874489 \r\nL 1100.746975 229.874489 \r\nL 1104.327724 229.874489 \r\nL 1107.908473 229.874489 \r\nL 1111.489221 229.874489 \r\nL 1115.06997 229.874489 \r\nL 1118.650719 229.874489 \r\nL 1122.231467 229.874489 \r\nL 1125.812216 229.874489 \r\nL 1129.392965 229.874489 \r\nL 1132.973713 229.874489 \r\nL 1136.554462 229.874489 \r\nL 1140.135211 229.874489 \r\nL 1143.715959 229.874489 \r\nL 1147.296708 229.874489 \r\nL 1150.877457 229.874489 \r\nL 1154.458205 229.874489 \r\nL 1158.038954 229.874489 \r\nL 1161.619703 229.874489 \r\nL 1165.200451 229.874489 \r\nL 1168.7812 229.874489 \r\nL 1172.361949 229.874489 \r\nL 1175.942697 229.874489 \r\nL 1179.523446 229.874489 \r\nL 1183.104195 229.874489 \r\nL 1186.684943 229.874489 \r\nL 1190.265692 229.874489 \r\nL 1193.846441 229.874489 \r\nL 1197.427189 229.874489 \r\nL 1201.007938 229.874489 \r\nL 1204.588686 229.874489 \r\nL 1208.169435 229.874489 \r\nL 1211.750184 229.874489 \r\nL 1215.330932 229.874489 \r\nL 1218.911681 229.874489 \r\nL 1222.49243 229.874489 \r\nL 1226.073178 229.874489 \r\nL 1229.653927 229.874489 \r\nL 1233.234676 229.874489 \r\nL 1236.815424 229.874489 \r\nL 1240.396173 229.874489 \r\nL 1243.976922 229.874489 \r\nL 1247.55767 229.874489 \r\nL 1251.138419 229.874489 \r\nL 1254.719168 229.874489 \r\nL 1258.299916 229.874489 \r\nL 1261.880665 229.874489 \r\nL 1265.461414 229.874489 \r\nL 1269.042162 229.874489 \r\nL 1272.622911 229.874489 \r\nL 1276.20366 229.874489 \r\nL 1279.784408 229.874489 \r\nL 1283.365157 229.874489 \r\nL 1286.945906 229.874489 \r\nL 1290.526654 229.874489 \r\nL 1294.107403 229.874489 \r\nL 1297.688152 229.874489 \r\nL 1301.2689 229.874489 \r\nL 1304.849649 229.874489 \r\nL 1308.430398 229.874489 \r\nL 1312.011146 229.874489 \r\nL 1315.591895 229.874489 \r\nL 1319.172644 229.874489 \r\nL 1322.753392 229.874489 \r\nL 1326.334141 229.874489 \r\nL 1329.91489 229.874489 \r\nL 1333.495638 229.874489 \r\nL 1337.076387 229.874489 \r\nL 1340.657136 229.874489 \r\nL 1344.237884 229.874489 \r\nL 1347.818633 229.874489 \r\nL 1351.399382 229.874489 \r\n\" style=\"fill:none;stroke:#2ca02c;stroke-linecap:square;stroke-width:1.5;\"/>\r\n   </g>\r\n   <g id=\"patch_15\">\r\n    <path d=\"M 975.420772 239.758125 \r\nL 975.420772 22.318125 \r\n\" style=\"fill:none;stroke:#000000;stroke-linecap:square;stroke-linejoin:miter;stroke-width:0.8;\"/>\r\n   </g>\r\n   <g id=\"patch_16\">\r\n    <path d=\"M 1369.303125 239.758125 \r\nL 1369.303125 22.318125 \r\n\" style=\"fill:none;stroke:#000000;stroke-linecap:square;stroke-linejoin:miter;stroke-width:0.8;\"/>\r\n   </g>\r\n   <g id=\"patch_17\">\r\n    <path d=\"M 975.420772 239.758125 \r\nL 1369.303125 239.758125 \r\n\" style=\"fill:none;stroke:#000000;stroke-linecap:square;stroke-linejoin:miter;stroke-width:0.8;\"/>\r\n   </g>\r\n   <g id=\"patch_18\">\r\n    <path d=\"M 975.420772 22.318125 \r\nL 1369.303125 22.318125 \r\n\" style=\"fill:none;stroke:#000000;stroke-linecap:square;stroke-linejoin:miter;stroke-width:0.8;\"/>\r\n   </g>\r\n   <g id=\"text_47\">\r\n    <!-- Task -->\r\n    <g transform=\"translate(1159.410386 16.318125)scale(0.12 -0.12)\">\r\n     <defs>\r\n      <path d=\"M -0.296875 72.90625 \r\nL 61.375 72.90625 \r\nL 61.375 64.59375 \r\nL 35.5 64.59375 \r\nL 35.5 0 \r\nL 25.59375 0 \r\nL 25.59375 64.59375 \r\nL -0.296875 64.59375 \r\nz\r\n\" id=\"DejaVuSans-84\"/>\r\n     </defs>\r\n     <use xlink:href=\"#DejaVuSans-84\"/>\r\n     <use x=\"44.583984\" xlink:href=\"#DejaVuSans-97\"/>\r\n     <use x=\"105.863281\" xlink:href=\"#DejaVuSans-115\"/>\r\n     <use x=\"157.962891\" xlink:href=\"#DejaVuSans-107\"/>\r\n    </g>\r\n   </g>\r\n   <g id=\"legend_3\">\r\n    <g id=\"patch_19\">\r\n     <path d=\"M 1278.823438 74.3525 \r\nL 1362.303125 74.3525 \r\nQ 1364.303125 74.3525 1364.303125 72.3525 \r\nL 1364.303125 29.318125 \r\nQ 1364.303125 27.318125 1362.303125 27.318125 \r\nL 1278.823438 27.318125 \r\nQ 1276.823438 27.318125 1276.823438 29.318125 \r\nL 1276.823438 72.3525 \r\nQ 1276.823438 74.3525 1278.823438 74.3525 \r\nz\r\n\" style=\"fill:#ffffff;opacity:0.8;stroke:#cccccc;stroke-linejoin:miter;\"/>\r\n    </g>\r\n    <g id=\"line2d_58\">\r\n     <path d=\"M 1280.823438 35.416563 \r\nL 1300.823438 35.416563 \r\n\" style=\"fill:none;stroke:#1f77b4;stroke-linecap:square;stroke-width:1.5;\"/>\r\n    </g>\r\n    <g id=\"line2d_59\"/>\r\n    <g id=\"text_48\">\r\n     <!-- inspection -->\r\n     <g transform=\"translate(1308.823438 38.916563)scale(0.1 -0.1)\">\r\n      <defs>\r\n       <path d=\"M 18.109375 8.203125 \r\nL 18.109375 -20.796875 \r\nL 9.078125 -20.796875 \r\nL 9.078125 54.6875 \r\nL 18.109375 54.6875 \r\nL 18.109375 46.390625 \r\nQ 20.953125 51.265625 25.265625 53.625 \r\nQ 29.59375 56 35.59375 56 \r\nQ 45.5625 56 51.78125 48.09375 \r\nQ 58.015625 40.1875 58.015625 27.296875 \r\nQ 58.015625 14.40625 51.78125 6.484375 \r\nQ 45.5625 -1.421875 35.59375 -1.421875 \r\nQ 29.59375 -1.421875 25.265625 0.953125 \r\nQ 20.953125 3.328125 18.109375 8.203125 \r\nz\r\nM 48.6875 27.296875 \r\nQ 48.6875 37.203125 44.609375 42.84375 \r\nQ 40.53125 48.484375 33.40625 48.484375 \r\nQ 26.265625 48.484375 22.1875 42.84375 \r\nQ 18.109375 37.203125 18.109375 27.296875 \r\nQ 18.109375 17.390625 22.1875 11.75 \r\nQ 26.265625 6.109375 33.40625 6.109375 \r\nQ 40.53125 6.109375 44.609375 11.75 \r\nQ 48.6875 17.390625 48.6875 27.296875 \r\nz\r\n\" id=\"DejaVuSans-112\"/>\r\n      </defs>\r\n      <use xlink:href=\"#DejaVuSans-105\"/>\r\n      <use x=\"27.783203\" xlink:href=\"#DejaVuSans-110\"/>\r\n      <use x=\"91.162109\" xlink:href=\"#DejaVuSans-115\"/>\r\n      <use x=\"143.261719\" xlink:href=\"#DejaVuSans-112\"/>\r\n      <use x=\"206.738281\" xlink:href=\"#DejaVuSans-101\"/>\r\n      <use x=\"268.261719\" xlink:href=\"#DejaVuSans-99\"/>\r\n      <use x=\"323.242188\" xlink:href=\"#DejaVuSans-116\"/>\r\n      <use x=\"362.451172\" xlink:href=\"#DejaVuSans-105\"/>\r\n      <use x=\"390.234375\" xlink:href=\"#DejaVuSans-111\"/>\r\n      <use x=\"451.416016\" xlink:href=\"#DejaVuSans-110\"/>\r\n     </g>\r\n    </g>\r\n    <g id=\"line2d_60\">\r\n     <path d=\"M 1280.823438 50.094688 \r\nL 1300.823438 50.094688 \r\n\" style=\"fill:none;stroke:#ff7f0e;stroke-linecap:square;stroke-width:1.5;\"/>\r\n    </g>\r\n    <g id=\"line2d_61\"/>\r\n    <g id=\"text_49\">\r\n     <!-- ocr -->\r\n     <g transform=\"translate(1308.823438 53.594688)scale(0.1 -0.1)\">\r\n      <use xlink:href=\"#DejaVuSans-111\"/>\r\n      <use x=\"61.181641\" xlink:href=\"#DejaVuSans-99\"/>\r\n      <use x=\"116.162109\" xlink:href=\"#DejaVuSans-114\"/>\r\n     </g>\r\n    </g>\r\n    <g id=\"line2d_62\">\r\n     <path d=\"M 1280.823438 64.772813 \r\nL 1300.823438 64.772813 \r\n\" style=\"fill:none;stroke:#2ca02c;stroke-linecap:square;stroke-width:1.5;\"/>\r\n    </g>\r\n    <g id=\"line2d_63\"/>\r\n    <g id=\"text_50\">\r\n     <!-- cm -->\r\n     <g transform=\"translate(1308.823438 68.272813)scale(0.1 -0.1)\">\r\n      <use xlink:href=\"#DejaVuSans-99\"/>\r\n      <use x=\"54.980469\" xlink:href=\"#DejaVuSans-109\"/>\r\n     </g>\r\n    </g>\r\n   </g>\r\n  </g>\r\n </g>\r\n <defs>\r\n  <clipPath id=\"p176f33487f\">\r\n   <rect height=\"217.44\" width=\"393.882353\" x=\"30.103125\" y=\"22.318125\"/>\r\n  </clipPath>\r\n  <clipPath id=\"p8258c68b2b\">\r\n   <rect height=\"217.44\" width=\"393.882353\" x=\"502.761949\" y=\"22.318125\"/>\r\n  </clipPath>\r\n  <clipPath id=\"pa2d2f7699d\">\r\n   <rect height=\"217.44\" width=\"393.882353\" x=\"975.420772\" y=\"22.318125\"/>\r\n  </clipPath>\r\n </defs>\r\n</svg>\r\n",
      "image/png": "[encoded data removed]"
     },
     "metadata": {
      "needs_background": "light"
     }
    }
   ],
   "source": [
    "fm._initiated = True\n",
    "fm.conditions['wall_thickness'].set_condition(70)\n",
    "#fm.conditions['wall_thickness'].set_condition_profile()\n",
    "fm.sim_timeline(100)\n",
    "fm.plot_timeline()"
   ]
  },
  {
   "cell_type": "code",
   "execution_count": 68,
   "metadata": {
    "tags": []
   },
   "outputs": [
    {
     "output_type": "stream",
     "name": "stderr",
     "text": "100%|██████████| 100/100 [00:04<00:00, 20.99it/s]\n"
    }
   ],
   "source": [
    "fm.mc_timeline(1000)"
   ]
  },
  {
   "cell_type": "code",
   "execution_count": 69,
   "metadata": {
    "tags": []
   },
   "outputs": [
    {
     "output_type": "display_data",
     "data": {
      "application/vnd.plotly.v1+json": {
       "config": {
        "plotlyServerURL": "https://plot.ly"
       },
       "data": [
        {
         "hovertemplate": "task=inspection<br>time=%{x}<br>cost_cumulative=%{y}<extra></extra>",
         "legendgroup": "inspection",
         "line": {
          "color": "#636efa"
         },
         "mode": "lines",
         "name": "inspection",
         "orientation": "v",
         "showlegend": true,
         "stackgroup": "1",
         "type": "scatter",
         "x": [
          0,
          1,
          2,
          3,
          4,
          5,
          6,
          7,
          8,
          9,
          10,
          11,
          12,
          13,
          14,
          15,
          16,
          17,
          18,
          19,
          20,
          21,
          22,
          23,
          24,
          25,
          26,
          27,
          28,
          29,
          30,
          31,
          32,
          33,
          34,
          35,
          36,
          37,
          38,
          39,
          40,
          41,
          42,
          43,
          44,
          45,
          46,
          47,
          48,
          49,
          50,
          51,
          52,
          53,
          54,
          55,
          56,
          57,
          58,
          59,
          60,
          61,
          62,
          63,
          64,
          65,
          66,
          67,
          68,
          69,
          70,
          71,
          72,
          73,
          74,
          75,
          76,
          77,
          78,
          79,
          80,
          81,
          82,
          83,
          84,
          85,
          86,
          87,
          88,
          89,
          90,
          91,
          92,
          93,
          94,
          95,
          96,
          97,
          98,
          99,
          100,
          101,
          102,
          103,
          104,
          105,
          106,
          107,
          108,
          109,
          110,
          111,
          112,
          113,
          114,
          115,
          116,
          117,
          118,
          119,
          120,
          121,
          122,
          123,
          124,
          125,
          126,
          127,
          128,
          129,
          130,
          131,
          132,
          133,
          134,
          135,
          136,
          137,
          138,
          139,
          140,
          141,
          142,
          143,
          144,
          145,
          146,
          147,
          148,
          149,
          150,
          151,
          152,
          153,
          154,
          155,
          156,
          157,
          158,
          159,
          160,
          161,
          162,
          163,
          164,
          165,
          166,
          167,
          168,
          169,
          170,
          171,
          172,
          173,
          174,
          175,
          176,
          177,
          178,
          179,
          180,
          181,
          182,
          183,
          184,
          185,
          186,
          187,
          188,
          189,
          190,
          191,
          192,
          193,
          194,
          195,
          196,
          197,
          198,
          199
         ],
         "xaxis": "x",
         "y": [
          0,
          0,
          0,
          0,
          0,
          50,
          50,
          50,
          50,
          50,
          100,
          100,
          100,
          100,
          100,
          150,
          150,
          150,
          150,
          150,
          200,
          200,
          200,
          200,
          200,
          250,
          250,
          250,
          250,
          250,
          300,
          300,
          300,
          300,
          300,
          350,
          350,
          350,
          350,
          350,
          400,
          400,
          400,
          400,
          400,
          450,
          450,
          450,
          450,
          450,
          500,
          500,
          500,
          500,
          500,
          550,
          550,
          550,
          550,
          550,
          600,
          600,
          600,
          600,
          600,
          650,
          650,
          650,
          650,
          650,
          700,
          700,
          700,
          700,
          700,
          750,
          750,
          750,
          750,
          750,
          800,
          800,
          800,
          800,
          800,
          850,
          850,
          850,
          850,
          850,
          900,
          900,
          900,
          900,
          900,
          950,
          950,
          950,
          950,
          950,
          1000,
          1000,
          1000,
          1000,
          1000,
          1049.5098039215686,
          1049.5098039215686,
          1049.5098039215686,
          1049.5098039215686,
          1049.5098039215686,
          1099.0196078431372,
          1099.0196078431372,
          1099.0196078431372,
          1099.0196078431372,
          1099.0196078431372,
          1148.5294117647059,
          1148.5294117647059,
          1148.5294117647059,
          1148.5294117647059,
          1148.5294117647059,
          1198.0392156862745,
          1198.0392156862745,
          1198.0392156862745,
          1198.0392156862745,
          1198.0392156862745,
          1247.549019607843,
          1247.549019607843,
          1247.549019607843,
          1247.549019607843,
          1247.549019607843,
          1297.0588235294117,
          1297.0588235294117,
          1297.0588235294117,
          1297.0588235294117,
          1297.0588235294117,
          1346.5686274509803,
          1346.5686274509803,
          1346.5686274509803,
          1346.5686274509803,
          1346.5686274509803,
          1396.078431372549,
          1396.078431372549,
          1396.078431372549,
          1396.078431372549,
          1396.078431372549,
          1445.5882352941176,
          1445.5882352941176,
          1445.5882352941176,
          1445.5882352941176,
          1445.5882352941176,
          1495.0980392156862,
          1495.0980392156862,
          1495.0980392156862,
          1495.0980392156862,
          1495.0980392156862,
          1544.6078431372548,
          1544.6078431372548,
          1544.6078431372548,
          1544.6078431372548,
          1544.6078431372548,
          1594.1176470588234,
          1594.1176470588234,
          1594.1176470588234,
          1594.1176470588234,
          1594.1176470588234,
          1643.627450980392,
          1643.627450980392,
          1643.627450980392,
          1643.627450980392,
          1643.627450980392,
          1693.1372549019607,
          1693.1372549019607,
          1693.1372549019607,
          1693.1372549019607,
          1693.1372549019607,
          1742.6470588235293,
          1742.6470588235293,
          1742.6470588235293,
          1742.6470588235293,
          1742.6470588235293,
          1792.156862745098,
          1792.156862745098,
          1792.156862745098,
          1792.156862745098,
          1792.156862745098,
          1841.6666666666665,
          1841.6666666666665,
          1841.6666666666665,
          1841.6666666666665,
          1841.6666666666665,
          1891.1764705882351,
          1891.1764705882351,
          1891.1764705882351,
          1891.1764705882351,
          1891.1764705882351,
          1940.6862745098038,
          1940.6862745098038,
          1940.6862745098038,
          1940.6862745098038,
          1940.6862745098038
         ],
         "yaxis": "y"
        },
        {
         "hovertemplate": "task=ocr<br>time=%{x}<br>cost_cumulative=%{y}<extra></extra>",
         "legendgroup": "ocr",
         "line": {
          "color": "#EF553B"
         },
         "mode": "lines",
         "name": "ocr",
         "orientation": "v",
         "showlegend": true,
         "stackgroup": "1",
         "type": "scatter",
         "x": [
          0,
          1,
          2,
          3,
          4,
          5,
          6,
          7,
          8,
          9,
          10,
          11,
          12,
          13,
          14,
          15,
          16,
          17,
          18,
          19,
          20,
          21,
          22,
          23,
          24,
          25,
          26,
          27,
          28,
          29,
          30,
          31,
          32,
          33,
          34,
          35,
          36,
          37,
          38,
          39,
          40,
          41,
          42,
          43,
          44,
          45,
          46,
          47,
          48,
          49,
          50,
          51,
          52,
          53,
          54,
          55,
          56,
          57,
          58,
          59,
          60,
          61,
          62,
          63,
          64,
          65,
          66,
          67,
          68,
          69,
          70,
          71,
          72,
          73,
          74,
          75,
          76,
          77,
          78,
          79,
          80,
          81,
          82,
          83,
          84,
          85,
          86,
          87,
          88,
          89,
          90,
          91,
          92,
          93,
          94,
          95,
          96,
          97,
          98,
          99,
          100,
          101,
          102,
          103,
          104,
          105,
          106,
          107,
          108,
          109,
          110,
          111,
          112,
          113,
          114,
          115,
          116,
          117,
          118,
          119,
          120,
          121,
          122,
          123,
          124,
          125,
          126,
          127,
          128,
          129,
          130,
          131,
          132,
          133,
          134,
          135,
          136,
          137,
          138,
          139,
          140,
          141,
          142,
          143,
          144,
          145,
          146,
          147,
          148,
          149,
          150,
          151,
          152,
          153,
          154,
          155,
          156,
          157,
          158,
          159,
          160,
          161,
          162,
          163,
          164,
          165,
          166,
          167,
          168,
          169,
          170,
          171,
          172,
          173,
          174,
          175,
          176,
          177,
          178,
          179,
          180,
          181,
          182,
          183,
          184,
          185,
          186,
          187,
          188,
          189,
          190,
          191,
          192,
          193,
          194,
          195,
          196,
          197,
          198,
          199
         ],
         "xaxis": "x",
         "y": [
          0,
          0,
          0,
          0,
          0,
          0,
          99.01960784313725,
          99.01960784313725,
          99.01960784313725,
          99.01960784313725,
          99.01960784313725,
          99.01960784313725,
          99.01960784313725,
          99.01960784313725,
          99.01960784313725,
          99.01960784313725,
          102.94117647058823,
          102.94117647058823,
          102.94117647058823,
          102.94117647058823,
          102.94117647058823,
          104.90196078431372,
          104.90196078431372,
          104.90196078431372,
          104.90196078431372,
          104.90196078431372,
          112.74509803921568,
          112.74509803921568,
          112.74509803921568,
          112.74509803921568,
          112.74509803921568,
          121.56862745098039,
          121.56862745098039,
          121.56862745098039,
          121.56862745098039,
          121.56862745098039,
          129.41176470588235,
          129.41176470588235,
          129.41176470588235,
          129.41176470588235,
          129.41176470588235,
          140.19607843137254,
          140.19607843137254,
          140.19607843137254,
          140.19607843137254,
          140.19607843137254,
          148.0392156862745,
          148.0392156862745,
          148.0392156862745,
          148.0392156862745,
          148.0392156862745,
          155.88235294117646,
          155.88235294117646,
          155.88235294117646,
          155.88235294117646,
          155.88235294117646,
          166.66666666666666,
          166.66666666666666,
          166.66666666666666,
          166.66666666666666,
          166.66666666666666,
          173.52941176470588,
          173.52941176470588,
          173.52941176470588,
          173.52941176470588,
          173.52941176470588,
          185.29411764705884,
          185.29411764705884,
          185.29411764705884,
          185.29411764705884,
          185.29411764705884,
          195.0980392156863,
          195.0980392156863,
          195.0980392156863,
          195.0980392156863,
          195.0980392156863,
          206.86274509803923,
          206.86274509803923,
          206.86274509803923,
          206.86274509803923,
          206.86274509803923,
          213.72549019607845,
          213.72549019607845,
          213.72549019607845,
          213.72549019607845,
          213.72549019607845,
          220.58823529411768,
          220.58823529411768,
          220.58823529411768,
          220.58823529411768,
          220.58823529411768,
          229.41176470588238,
          229.41176470588238,
          229.41176470588238,
          229.41176470588238,
          229.41176470588238,
          235.29411764705884,
          235.29411764705884,
          235.29411764705884,
          235.29411764705884,
          235.29411764705884,
          242.15686274509807,
          242.15686274509807,
          242.15686274509807,
          242.15686274509807,
          243.1372549019608,
          246.07843137254903,
          246.07843137254903,
          246.07843137254903,
          246.07843137254903,
          246.07843137254903,
          250,
          250,
          250,
          250,
          250,
          263.72549019607845,
          263.72549019607845,
          263.72549019607845,
          263.72549019607845,
          263.72549019607845,
          271.5686274509804,
          271.5686274509804,
          271.5686274509804,
          271.5686274509804,
          271.5686274509804,
          279.4117647058823,
          279.4117647058823,
          279.4117647058823,
          279.4117647058823,
          279.4117647058823,
          286.27450980392155,
          286.27450980392155,
          286.27450980392155,
          286.27450980392155,
          286.27450980392155,
          291.17647058823525,
          291.17647058823525,
          291.17647058823525,
          291.17647058823525,
          291.17647058823525,
          299.0196078431372,
          299.0196078431372,
          299.0196078431372,
          299.99999999999994,
          299.99999999999994,
          308.82352941176464,
          308.82352941176464,
          308.82352941176464,
          308.82352941176464,
          309.8039215686274,
          316.66666666666663,
          316.66666666666663,
          316.66666666666663,
          316.66666666666663,
          316.66666666666663,
          320.5882352941176,
          320.5882352941176,
          321.5686274509804,
          321.5686274509804,
          322.54901960784315,
          329.4117647058824,
          329.4117647058824,
          330.39215686274514,
          330.39215686274514,
          332.3529411764706,
          337.2549019607843,
          337.2549019607843,
          338.2352941176471,
          339.21568627450984,
          339.21568627450984,
          346.07843137254906,
          346.07843137254906,
          348.03921568627453,
          350,
          350,
          354.9019607843137,
          355.88235294117646,
          356.8627450980392,
          356.8627450980392,
          356.8627450980392,
          359.80392156862746,
          359.80392156862746,
          360.7843137254902,
          360.7843137254902,
          361.764705882353,
          363.72549019607845,
          363.72549019607845,
          363.72549019607845,
          364.7058823529412,
          364.7058823529412,
          369.6078431372549,
          369.6078431372549,
          369.6078431372549,
          369.6078431372549,
          369.6078431372549,
          376.47058823529414,
          377.4509803921569,
          377.4509803921569,
          378.43137254901967
         ],
         "yaxis": "y"
        },
        {
         "hovertemplate": "task=cm<br>time=%{x}<br>cost_cumulative=%{y}<extra></extra>",
         "legendgroup": "cm",
         "line": {
          "color": "#00cc96"
         },
         "mode": "lines",
         "name": "cm",
         "orientation": "v",
         "showlegend": true,
         "stackgroup": "1",
         "type": "scatter",
         "x": [
          0,
          1,
          2,
          3,
          4,
          5,
          6,
          7,
          8,
          9,
          10,
          11,
          12,
          13,
          14,
          15,
          16,
          17,
          18,
          19,
          20,
          21,
          22,
          23,
          24,
          25,
          26,
          27,
          28,
          29,
          30,
          31,
          32,
          33,
          34,
          35,
          36,
          37,
          38,
          39,
          40,
          41,
          42,
          43,
          44,
          45,
          46,
          47,
          48,
          49,
          50,
          51,
          52,
          53,
          54,
          55,
          56,
          57,
          58,
          59,
          60,
          61,
          62,
          63,
          64,
          65,
          66,
          67,
          68,
          69,
          70,
          71,
          72,
          73,
          74,
          75,
          76,
          77,
          78,
          79,
          80,
          81,
          82,
          83,
          84,
          85,
          86,
          87,
          88,
          89,
          90,
          91,
          92,
          93,
          94,
          95,
          96,
          97,
          98,
          99,
          100,
          101,
          102,
          103,
          104,
          105,
          106,
          107,
          108,
          109,
          110,
          111,
          112,
          113,
          114,
          115,
          116,
          117,
          118,
          119,
          120,
          121,
          122,
          123,
          124,
          125,
          126,
          127,
          128,
          129,
          130,
          131,
          132,
          133,
          134,
          135,
          136,
          137,
          138,
          139,
          140,
          141,
          142,
          143,
          144,
          145,
          146,
          147,
          148,
          149,
          150,
          151,
          152,
          153,
          154,
          155,
          156,
          157,
          158,
          159,
          160,
          161,
          162,
          163,
          164,
          165,
          166,
          167,
          168,
          169,
          170,
          171,
          172,
          173,
          174,
          175,
          176,
          177,
          178,
          179,
          180,
          181,
          182,
          183,
          184,
          185,
          186,
          187,
          188,
          189,
          190,
          191,
          192,
          193,
          194,
          195,
          196,
          197,
          198,
          199
         ],
         "xaxis": "x",
         "y": [
          0,
          0,
          0,
          0,
          0,
          0,
          0,
          0,
          0,
          0,
          0,
          0,
          0,
          0,
          0,
          0,
          0,
          0,
          0,
          0,
          0,
          0,
          0,
          0,
          0,
          0,
          0,
          0,
          0,
          0,
          0,
          0,
          0,
          0,
          0,
          0,
          0,
          0,
          0,
          0,
          0,
          0,
          0,
          0,
          0,
          0,
          0,
          0,
          0,
          0,
          0,
          0,
          0,
          0,
          0,
          0,
          0,
          0,
          0,
          0,
          0,
          0,
          0,
          0,
          0,
          0,
          0,
          0,
          0,
          0,
          0,
          0,
          0,
          49.01960784313726,
          49.01960784313726,
          49.01960784313726,
          49.01960784313726,
          49.01960784313726,
          49.01960784313726,
          49.01960784313726,
          49.01960784313726,
          49.01960784313726,
          49.01960784313726,
          49.01960784313726,
          49.01960784313726,
          49.01960784313726,
          49.01960784313726,
          49.01960784313726,
          49.01960784313726,
          49.01960784313726,
          49.01960784313726,
          98.03921568627452,
          98.03921568627452,
          98.03921568627452,
          98.03921568627452,
          98.03921568627452,
          147.05882352941177,
          147.05882352941177,
          147.05882352941177,
          147.05882352941177,
          196.07843137254903,
          196.07843137254903,
          196.07843137254903,
          196.07843137254903,
          196.07843137254903,
          196.07843137254903,
          196.07843137254903,
          245.0980392156863,
          245.0980392156863,
          294.11764705882354,
          343.1372549019608,
          343.1372549019608,
          343.1372549019608,
          343.1372549019608,
          343.1372549019608,
          343.1372549019608,
          343.1372549019608,
          343.1372549019608,
          343.1372549019608,
          392.156862745098,
          441.17647058823525,
          490.1960784313725,
          490.1960784313725,
          490.1960784313725,
          539.2156862745097,
          588.235294117647,
          588.235294117647,
          588.235294117647,
          588.235294117647,
          588.235294117647,
          637.2549019607842,
          637.2549019607842,
          637.2549019607842,
          637.2549019607842,
          637.2549019607842,
          686.2745098039214,
          686.2745098039214,
          735.2941176470587,
          833.3333333333331,
          833.3333333333331,
          833.3333333333331,
          833.3333333333331,
          882.3529411764704,
          882.3529411764704,
          980.3921568627449,
          980.3921568627449,
          980.3921568627449,
          1029.4117647058822,
          1029.4117647058822,
          1078.4313725490194,
          1078.4313725490194,
          1078.4313725490194,
          1078.4313725490194,
          1127.4509803921567,
          1176.470588235294,
          1225.4901960784312,
          1225.4901960784312,
          1274.5098039215684,
          1274.5098039215684,
          1274.5098039215684,
          1274.5098039215684,
          1274.5098039215684,
          1274.5098039215684,
          1274.5098039215684,
          1323.5294117647056,
          1372.5490196078429,
          1372.5490196078429,
          1421.56862745098,
          1421.56862745098,
          1421.56862745098,
          1470.5882352941173,
          1470.5882352941173,
          1470.5882352941173,
          1519.6078431372546,
          1568.6274509803918,
          1617.647058823529,
          1617.647058823529,
          1666.6666666666663,
          1666.6666666666663,
          1666.6666666666663,
          1764.7058823529408,
          1764.7058823529408,
          1764.7058823529408,
          1813.725490196078,
          1813.725490196078,
          1813.725490196078,
          1862.7450980392152,
          1862.7450980392152,
          1911.7647058823525,
          1960.7843137254897,
          2009.803921568627,
          2009.803921568627,
          2009.803921568627,
          2009.803921568627,
          2009.803921568627,
          2107.8431372549016,
          2107.8431372549016,
          2107.8431372549016,
          2107.8431372549016,
          2156.862745098039
         ],
         "yaxis": "y"
        }
       ],
       "layout": {
        "legend": {
         "title": {
          "text": "task"
         },
         "tracegroupgap": 0
        },
        "template": {
         "data": {
          "bar": [
           {
            "error_x": {
             "color": "#2a3f5f"
            },
            "error_y": {
             "color": "#2a3f5f"
            },
            "marker": {
             "line": {
              "color": "#E5ECF6",
              "width": 0.5
             }
            },
            "type": "bar"
           }
          ],
          "barpolar": [
           {
            "marker": {
             "line": {
              "color": "#E5ECF6",
              "width": 0.5
             }
            },
            "type": "barpolar"
           }
          ],
          "carpet": [
           {
            "aaxis": {
             "endlinecolor": "#2a3f5f",
             "gridcolor": "white",
             "linecolor": "white",
             "minorgridcolor": "white",
             "startlinecolor": "#2a3f5f"
            },
            "baxis": {
             "endlinecolor": "#2a3f5f",
             "gridcolor": "white",
             "linecolor": "white",
             "minorgridcolor": "white",
             "startlinecolor": "#2a3f5f"
            },
            "type": "carpet"
           }
          ],
          "choropleth": [
           {
            "colorbar": {
             "outlinewidth": 0,
             "ticks": ""
            },
            "type": "choropleth"
           }
          ],
          "contour": [
           {
            "colorbar": {
             "outlinewidth": 0,
             "ticks": ""
            },
            "colorscale": [
             [
              0,
              "#0d0887"
             ],
             [
              0.1111111111111111,
              "#46039f"
             ],
             [
              0.2222222222222222,
              "#7201a8"
             ],
             [
              0.3333333333333333,
              "#9c179e"
             ],
             [
              0.4444444444444444,
              "#bd3786"
             ],
             [
              0.5555555555555556,
              "#d8576b"
             ],
             [
              0.6666666666666666,
              "#ed7953"
             ],
             [
              0.7777777777777778,
              "#fb9f3a"
             ],
             [
              0.8888888888888888,
              "#fdca26"
             ],
             [
              1,
              "#f0f921"
             ]
            ],
            "type": "contour"
           }
          ],
          "contourcarpet": [
           {
            "colorbar": {
             "outlinewidth": 0,
             "ticks": ""
            },
            "type": "contourcarpet"
           }
          ],
          "heatmap": [
           {
            "colorbar": {
             "outlinewidth": 0,
             "ticks": ""
            },
            "colorscale": [
             [
              0,
              "#0d0887"
             ],
             [
              0.1111111111111111,
              "#46039f"
             ],
             [
              0.2222222222222222,
              "#7201a8"
             ],
             [
              0.3333333333333333,
              "#9c179e"
             ],
             [
              0.4444444444444444,
              "#bd3786"
             ],
             [
              0.5555555555555556,
              "#d8576b"
             ],
             [
              0.6666666666666666,
              "#ed7953"
             ],
             [
              0.7777777777777778,
              "#fb9f3a"
             ],
             [
              0.8888888888888888,
              "#fdca26"
             ],
             [
              1,
              "#f0f921"
             ]
            ],
            "type": "heatmap"
           }
          ],
          "heatmapgl": [
           {
            "colorbar": {
             "outlinewidth": 0,
             "ticks": ""
            },
            "colorscale": [
             [
              0,
              "#0d0887"
             ],
             [
              0.1111111111111111,
              "#46039f"
             ],
             [
              0.2222222222222222,
              "#7201a8"
             ],
             [
              0.3333333333333333,
              "#9c179e"
             ],
             [
              0.4444444444444444,
              "#bd3786"
             ],
             [
              0.5555555555555556,
              "#d8576b"
             ],
             [
              0.6666666666666666,
              "#ed7953"
             ],
             [
              0.7777777777777778,
              "#fb9f3a"
             ],
             [
              0.8888888888888888,
              "#fdca26"
             ],
             [
              1,
              "#f0f921"
             ]
            ],
            "type": "heatmapgl"
           }
          ],
          "histogram": [
           {
            "marker": {
             "colorbar": {
              "outlinewidth": 0,
              "ticks": ""
             }
            },
            "type": "histogram"
           }
          ],
          "histogram2d": [
           {
            "colorbar": {
             "outlinewidth": 0,
             "ticks": ""
            },
            "colorscale": [
             [
              0,
              "#0d0887"
             ],
             [
              0.1111111111111111,
              "#46039f"
             ],
             [
              0.2222222222222222,
              "#7201a8"
             ],
             [
              0.3333333333333333,
              "#9c179e"
             ],
             [
              0.4444444444444444,
              "#bd3786"
             ],
             [
              0.5555555555555556,
              "#d8576b"
             ],
             [
              0.6666666666666666,
              "#ed7953"
             ],
             [
              0.7777777777777778,
              "#fb9f3a"
             ],
             [
              0.8888888888888888,
              "#fdca26"
             ],
             [
              1,
              "#f0f921"
             ]
            ],
            "type": "histogram2d"
           }
          ],
          "histogram2dcontour": [
           {
            "colorbar": {
             "outlinewidth": 0,
             "ticks": ""
            },
            "colorscale": [
             [
              0,
              "#0d0887"
             ],
             [
              0.1111111111111111,
              "#46039f"
             ],
             [
              0.2222222222222222,
              "#7201a8"
             ],
             [
              0.3333333333333333,
              "#9c179e"
             ],
             [
              0.4444444444444444,
              "#bd3786"
             ],
             [
              0.5555555555555556,
              "#d8576b"
             ],
             [
              0.6666666666666666,
              "#ed7953"
             ],
             [
              0.7777777777777778,
              "#fb9f3a"
             ],
             [
              0.8888888888888888,
              "#fdca26"
             ],
             [
              1,
              "#f0f921"
             ]
            ],
            "type": "histogram2dcontour"
           }
          ],
          "mesh3d": [
           {
            "colorbar": {
             "outlinewidth": 0,
             "ticks": ""
            },
            "type": "mesh3d"
           }
          ],
          "parcoords": [
           {
            "line": {
             "colorbar": {
              "outlinewidth": 0,
              "ticks": ""
             }
            },
            "type": "parcoords"
           }
          ],
          "pie": [
           {
            "automargin": true,
            "type": "pie"
           }
          ],
          "scatter": [
           {
            "marker": {
             "colorbar": {
              "outlinewidth": 0,
              "ticks": ""
             }
            },
            "type": "scatter"
           }
          ],
          "scatter3d": [
           {
            "line": {
             "colorbar": {
              "outlinewidth": 0,
              "ticks": ""
             }
            },
            "marker": {
             "colorbar": {
              "outlinewidth": 0,
              "ticks": ""
             }
            },
            "type": "scatter3d"
           }
          ],
          "scattercarpet": [
           {
            "marker": {
             "colorbar": {
              "outlinewidth": 0,
              "ticks": ""
             }
            },
            "type": "scattercarpet"
           }
          ],
          "scattergeo": [
           {
            "marker": {
             "colorbar": {
              "outlinewidth": 0,
              "ticks": ""
             }
            },
            "type": "scattergeo"
           }
          ],
          "scattergl": [
           {
            "marker": {
             "colorbar": {
              "outlinewidth": 0,
              "ticks": ""
             }
            },
            "type": "scattergl"
           }
          ],
          "scattermapbox": [
           {
            "marker": {
             "colorbar": {
              "outlinewidth": 0,
              "ticks": ""
             }
            },
            "type": "scattermapbox"
           }
          ],
          "scatterpolar": [
           {
            "marker": {
             "colorbar": {
              "outlinewidth": 0,
              "ticks": ""
             }
            },
            "type": "scatterpolar"
           }
          ],
          "scatterpolargl": [
           {
            "marker": {
             "colorbar": {
              "outlinewidth": 0,
              "ticks": ""
             }
            },
            "type": "scatterpolargl"
           }
          ],
          "scatterternary": [
           {
            "marker": {
             "colorbar": {
              "outlinewidth": 0,
              "ticks": ""
             }
            },
            "type": "scatterternary"
           }
          ],
          "surface": [
           {
            "colorbar": {
             "outlinewidth": 0,
             "ticks": ""
            },
            "colorscale": [
             [
              0,
              "#0d0887"
             ],
             [
              0.1111111111111111,
              "#46039f"
             ],
             [
              0.2222222222222222,
              "#7201a8"
             ],
             [
              0.3333333333333333,
              "#9c179e"
             ],
             [
              0.4444444444444444,
              "#bd3786"
             ],
             [
              0.5555555555555556,
              "#d8576b"
             ],
             [
              0.6666666666666666,
              "#ed7953"
             ],
             [
              0.7777777777777778,
              "#fb9f3a"
             ],
             [
              0.8888888888888888,
              "#fdca26"
             ],
             [
              1,
              "#f0f921"
             ]
            ],
            "type": "surface"
           }
          ],
          "table": [
           {
            "cells": {
             "fill": {
              "color": "#EBF0F8"
             },
             "line": {
              "color": "white"
             }
            },
            "header": {
             "fill": {
              "color": "#C8D4E3"
             },
             "line": {
              "color": "white"
             }
            },
            "type": "table"
           }
          ]
         },
         "layout": {
          "annotationdefaults": {
           "arrowcolor": "#2a3f5f",
           "arrowhead": 0,
           "arrowwidth": 1
          },
          "coloraxis": {
           "colorbar": {
            "outlinewidth": 0,
            "ticks": ""
           }
          },
          "colorscale": {
           "diverging": [
            [
             0,
             "#8e0152"
            ],
            [
             0.1,
             "#c51b7d"
            ],
            [
             0.2,
             "#de77ae"
            ],
            [
             0.3,
             "#f1b6da"
            ],
            [
             0.4,
             "#fde0ef"
            ],
            [
             0.5,
             "#f7f7f7"
            ],
            [
             0.6,
             "#e6f5d0"
            ],
            [
             0.7,
             "#b8e186"
            ],
            [
             0.8,
             "#7fbc41"
            ],
            [
             0.9,
             "#4d9221"
            ],
            [
             1,
             "#276419"
            ]
           ],
           "sequential": [
            [
             0,
             "#0d0887"
            ],
            [
             0.1111111111111111,
             "#46039f"
            ],
            [
             0.2222222222222222,
             "#7201a8"
            ],
            [
             0.3333333333333333,
             "#9c179e"
            ],
            [
             0.4444444444444444,
             "#bd3786"
            ],
            [
             0.5555555555555556,
             "#d8576b"
            ],
            [
             0.6666666666666666,
             "#ed7953"
            ],
            [
             0.7777777777777778,
             "#fb9f3a"
            ],
            [
             0.8888888888888888,
             "#fdca26"
            ],
            [
             1,
             "#f0f921"
            ]
           ],
           "sequentialminus": [
            [
             0,
             "#0d0887"
            ],
            [
             0.1111111111111111,
             "#46039f"
            ],
            [
             0.2222222222222222,
             "#7201a8"
            ],
            [
             0.3333333333333333,
             "#9c179e"
            ],
            [
             0.4444444444444444,
             "#bd3786"
            ],
            [
             0.5555555555555556,
             "#d8576b"
            ],
            [
             0.6666666666666666,
             "#ed7953"
            ],
            [
             0.7777777777777778,
             "#fb9f3a"
            ],
            [
             0.8888888888888888,
             "#fdca26"
            ],
            [
             1,
             "#f0f921"
            ]
           ]
          },
          "colorway": [
           "#636efa",
           "#EF553B",
           "#00cc96",
           "#ab63fa",
           "#FFA15A",
           "#19d3f3",
           "#FF6692",
           "#B6E880",
           "#FF97FF",
           "#FECB52"
          ],
          "font": {
           "color": "#2a3f5f"
          },
          "geo": {
           "bgcolor": "white",
           "lakecolor": "white",
           "landcolor": "#E5ECF6",
           "showlakes": true,
           "showland": true,
           "subunitcolor": "white"
          },
          "hoverlabel": {
           "align": "left"
          },
          "hovermode": "closest",
          "mapbox": {
           "style": "light"
          },
          "paper_bgcolor": "white",
          "plot_bgcolor": "#E5ECF6",
          "polar": {
           "angularaxis": {
            "gridcolor": "white",
            "linecolor": "white",
            "ticks": ""
           },
           "bgcolor": "#E5ECF6",
           "radialaxis": {
            "gridcolor": "white",
            "linecolor": "white",
            "ticks": ""
           }
          },
          "scene": {
           "xaxis": {
            "backgroundcolor": "#E5ECF6",
            "gridcolor": "white",
            "gridwidth": 2,
            "linecolor": "white",
            "showbackground": true,
            "ticks": "",
            "zerolinecolor": "white"
           },
           "yaxis": {
            "backgroundcolor": "#E5ECF6",
            "gridcolor": "white",
            "gridwidth": 2,
            "linecolor": "white",
            "showbackground": true,
            "ticks": "",
            "zerolinecolor": "white"
           },
           "zaxis": {
            "backgroundcolor": "#E5ECF6",
            "gridcolor": "white",
            "gridwidth": 2,
            "linecolor": "white",
            "showbackground": true,
            "ticks": "",
            "zerolinecolor": "white"
           }
          },
          "shapedefaults": {
           "line": {
            "color": "#2a3f5f"
           }
          },
          "ternary": {
           "aaxis": {
            "gridcolor": "white",
            "linecolor": "white",
            "ticks": ""
           },
           "baxis": {
            "gridcolor": "white",
            "linecolor": "white",
            "ticks": ""
           },
           "bgcolor": "#E5ECF6",
           "caxis": {
            "gridcolor": "white",
            "linecolor": "white",
            "ticks": ""
           }
          },
          "title": {
           "x": 0.05
          },
          "xaxis": {
           "automargin": true,
           "gridcolor": "white",
           "linecolor": "white",
           "ticks": "",
           "title": {
            "standoff": 15
           },
           "zerolinecolor": "white",
           "zerolinewidth": 2
          },
          "yaxis": {
           "automargin": true,
           "gridcolor": "white",
           "linecolor": "white",
           "ticks": "",
           "title": {
            "standoff": 15
           },
           "zerolinecolor": "white",
           "zerolinewidth": 2
          }
         }
        },
        "title": {
         "text": "Maintenance Strategy Costs"
        },
        "xaxis": {
         "anchor": "y",
         "domain": [
          0,
          1
         ],
         "title": {
          "text": "time"
         }
        },
        "yaxis": {
         "anchor": "x",
         "domain": [
          0,
          1
         ],
         "title": {
          "text": "cost_cumulative"
         }
        }
       }
      }
     },
     "metadata": {}
    }
   ],
   "source": [
    "df = fm.expected_cost_df()\n",
    "\n",
    "fig = px.area(df, x=\"time\", y=\"cost_cumulative\", color=\"task\", title='Maintenance Strategy Costs')\n",
    "fig.show()"
   ]
  },
  {
   "cell_type": "code",
   "execution_count": 7,
   "metadata": {
    "tags": []
   },
   "outputs": [
    {
     "output_type": "stream",
     "name": "stdout",
     "text": "Results from Fit_Weibull_3P (95% CI):\n           Point Estimate  Standard Error    Lower CI    Upper CI\nParameter                                                        \nAlpha          183.272991        7.952703  168.330405  199.542021\nBeta             2.424382        0.191264    2.077056    2.829788\nGamma           61.709626       18.451798   34.342752  110.884470\nLog-Likelihood: -566.9644961231604\n"
    },
    {
     "output_type": "execute_result",
     "data": {
      "text/plain": "<reliability.Fitters.Fit_Weibull_3P at 0x27c3cd327c0>"
     },
     "metadata": {},
     "execution_count": 7
    },
    {
     "output_type": "display_data",
     "data": {
      "text/plain": "<Figure size 648x504 with 1 Axes>",
      "image/svg+xml": "<?xml version=\"1.0\" encoding=\"utf-8\" standalone=\"no\"?>\r\n<!DOCTYPE svg PUBLIC \"-//W3C//DTD SVG 1.1//EN\"\r\n  \"http://www.w3.org/Graphics/SVG/1.1/DTD/svg11.dtd\">\r\n<!-- Created with matplotlib (https://matplotlib.org/) -->\r\n<svg height=\"428.63175pt\" version=\"1.1\" viewBox=\"0 0 584.207812 428.63175\" width=\"584.207812pt\" xmlns=\"http://www.w3.org/2000/svg\" xmlns:xlink=\"http://www.w3.org/1999/xlink\">\r\n <metadata>\r\n  <rdf:RDF xmlns:cc=\"http://creativecommons.org/ns#\" xmlns:dc=\"http://purl.org/dc/elements/1.1/\" xmlns:rdf=\"http://www.w3.org/1999/02/22-rdf-syntax-ns#\">\r\n   <cc:Work>\r\n    <dc:type rdf:resource=\"http://purl.org/dc/dcmitype/StillImage\"/>\r\n    <dc:date>2020-08-06T08:04:43.874815</dc:date>\r\n    <dc:format>image/svg+xml</dc:format>\r\n    <dc:creator>\r\n     <cc:Agent>\r\n      <dc:title>Matplotlib v3.3.0, https://matplotlib.org/</dc:title>\r\n     </cc:Agent>\r\n    </dc:creator>\r\n   </cc:Work>\r\n  </rdf:RDF>\r\n </metadata>\r\n <defs>\r\n  <style type=\"text/css\">*{stroke-linecap:butt;stroke-linejoin:round;}</style>\r\n </defs>\r\n <g id=\"figure_1\">\r\n  <g id=\"patch_1\">\r\n   <path d=\"M 0 428.63175 \r\nL 584.207812 428.63175 \r\nL 584.207812 0 \r\nL 0 0 \r\nz\r\n\" style=\"fill:none;\"/>\r\n  </g>\r\n  <g id=\"axes_1\">\r\n   <g id=\"patch_2\">\r\n    <path d=\"M 66.007812 391.0755 \r\nL 568.207813 391.0755 \r\nL 568.207813 35.7555 \r\nL 66.007812 35.7555 \r\nz\r\n\" style=\"fill:#ffffff;\"/>\r\n   </g>\r\n   <g id=\"PathCollection_1\">\r\n    <defs>\r\n     <path d=\"M 0 1.5 \r\nC 0.397805 1.5 0.77937 1.341951 1.06066 1.06066 \r\nC 1.341951 0.77937 1.5 0.397805 1.5 0 \r\nC 1.5 -0.397805 1.341951 -0.77937 1.06066 -1.06066 \r\nC 0.77937 -1.341951 0.397805 -1.5 0 -1.5 \r\nC -0.397805 -1.5 -0.77937 -1.341951 -1.06066 -1.06066 \r\nC -1.341951 -0.77937 -1.5 -0.397805 -1.5 0 \r\nC -1.5 0.397805 -1.341951 0.77937 -1.06066 1.06066 \r\nC -0.77937 1.341951 -0.397805 1.5 0 1.5 \r\nz\r\n\" id=\"m5afb0fb0b1\" style=\"stroke:#000000;stroke-width:2;\"/>\r\n    </defs>\r\n    <g clip-path=\"url(#pde25039411)\">\r\n     <use style=\"stroke:#000000;stroke-width:2;\" x=\"153.420082\" xlink:href=\"#m5afb0fb0b1\" y=\"259.028265\"/>\r\n     <use style=\"stroke:#000000;stroke-width:2;\" x=\"158.205824\" xlink:href=\"#m5afb0fb0b1\" y=\"231.290137\"/>\r\n     <use style=\"stroke:#000000;stroke-width:2;\" x=\"223.257061\" xlink:href=\"#m5afb0fb0b1\" y=\"216.751824\"/>\r\n     <use style=\"stroke:#000000;stroke-width:2;\" x=\"225.805678\" xlink:href=\"#m5afb0fb0b1\" y=\"206.79851\"/>\r\n     <use style=\"stroke:#000000;stroke-width:2;\" x=\"237.725202\" xlink:href=\"#m5afb0fb0b1\" y=\"199.201656\"/>\r\n     <use style=\"stroke:#000000;stroke-width:2;\" x=\"244.297819\" xlink:href=\"#m5afb0fb0b1\" y=\"193.043443\"/>\r\n     <use style=\"stroke:#000000;stroke-width:2;\" x=\"246.403514\" xlink:href=\"#m5afb0fb0b1\" y=\"187.855589\"/>\r\n     <use style=\"stroke:#000000;stroke-width:2;\" x=\"254.441824\" xlink:href=\"#m5afb0fb0b1\" y=\"183.366579\"/>\r\n     <use style=\"stroke:#000000;stroke-width:2;\" x=\"286.15709\" xlink:href=\"#m5afb0fb0b1\" y=\"179.404843\"/>\r\n     <use style=\"stroke:#000000;stroke-width:2;\" x=\"289.016103\" xlink:href=\"#m5afb0fb0b1\" y=\"175.85502\"/>\r\n     <use style=\"stroke:#000000;stroke-width:2;\" x=\"290.417984\" xlink:href=\"#m5afb0fb0b1\" y=\"172.635796\"/>\r\n     <use style=\"stroke:#000000;stroke-width:2;\" x=\"295.851956\" xlink:href=\"#m5afb0fb0b1\" y=\"169.687699\"/>\r\n     <use style=\"stroke:#000000;stroke-width:2;\" x=\"297.16917\" xlink:href=\"#m5afb0fb0b1\" y=\"166.96591\"/>\r\n     <use style=\"stroke:#000000;stroke-width:2;\" x=\"297.16917\" xlink:href=\"#m5afb0fb0b1\" y=\"164.435808\"/>\r\n     <use style=\"stroke:#000000;stroke-width:2;\" x=\"302.284464\" xlink:href=\"#m5afb0fb0b1\" y=\"162.070095\"/>\r\n     <use style=\"stroke:#000000;stroke-width:2;\" x=\"302.284464\" xlink:href=\"#m5afb0fb0b1\" y=\"159.84686\"/>\r\n     <use style=\"stroke:#000000;stroke-width:2;\" x=\"304.754859\" xlink:href=\"#m5afb0fb0b1\" y=\"157.748246\"/>\r\n     <use style=\"stroke:#000000;stroke-width:2;\" x=\"305.969381\" xlink:href=\"#m5afb0fb0b1\" y=\"155.75951\"/>\r\n     <use style=\"stroke:#000000;stroke-width:2;\" x=\"308.358586\" xlink:href=\"#m5afb0fb0b1\" y=\"153.868333\"/>\r\n     <use style=\"stroke:#000000;stroke-width:2;\" x=\"312.985472\" xlink:href=\"#m5afb0fb0b1\" y=\"152.064314\"/>\r\n     <use style=\"stroke:#000000;stroke-width:2;\" x=\"314.112158\" xlink:href=\"#m5afb0fb0b1\" y=\"150.338593\"/>\r\n     <use style=\"stroke:#000000;stroke-width:2;\" x=\"315.227322\" xlink:href=\"#m5afb0fb0b1\" y=\"148.683556\"/>\r\n     <use style=\"stroke:#000000;stroke-width:2;\" x=\"320.638241\" xlink:href=\"#m5afb0fb0b1\" y=\"147.092611\"/>\r\n     <use style=\"stroke:#000000;stroke-width:2;\" x=\"320.638241\" xlink:href=\"#m5afb0fb0b1\" y=\"145.560013\"/>\r\n     <use style=\"stroke:#000000;stroke-width:2;\" x=\"320.638241\" xlink:href=\"#m5afb0fb0b1\" y=\"144.080721\"/>\r\n     <use style=\"stroke:#000000;stroke-width:2;\" x=\"323.76044\" xlink:href=\"#m5afb0fb0b1\" y=\"142.650288\"/>\r\n     <use style=\"stroke:#000000;stroke-width:2;\" x=\"324.781619\" xlink:href=\"#m5afb0fb0b1\" y=\"141.264768\"/>\r\n     <use style=\"stroke:#000000;stroke-width:2;\" x=\"325.793325\" xlink:href=\"#m5afb0fb0b1\" y=\"139.920642\"/>\r\n     <use style=\"stroke:#000000;stroke-width:2;\" x=\"328.773317\" xlink:href=\"#m5afb0fb0b1\" y=\"138.61476\"/>\r\n     <use style=\"stroke:#000000;stroke-width:2;\" x=\"330.715678\" xlink:href=\"#m5afb0fb0b1\" y=\"137.344287\"/>\r\n     <use style=\"stroke:#000000;stroke-width:2;\" x=\"333.565853\" xlink:href=\"#m5afb0fb0b1\" y=\"136.106661\"/>\r\n     <use style=\"stroke:#000000;stroke-width:2;\" x=\"335.425408\" xlink:href=\"#m5afb0fb0b1\" y=\"134.899558\"/>\r\n     <use style=\"stroke:#000000;stroke-width:2;\" x=\"335.425408\" xlink:href=\"#m5afb0fb0b1\" y=\"133.720863\"/>\r\n     <use style=\"stroke:#000000;stroke-width:2;\" x=\"337.253786\" xlink:href=\"#m5afb0fb0b1\" y=\"132.568645\"/>\r\n     <use style=\"stroke:#000000;stroke-width:2;\" x=\"339.052013\" xlink:href=\"#m5afb0fb0b1\" y=\"131.44113\"/>\r\n     <use style=\"stroke:#000000;stroke-width:2;\" x=\"345.962299\" xlink:href=\"#m5afb0fb0b1\" y=\"130.33669\"/>\r\n     <use style=\"stroke:#000000;stroke-width:2;\" x=\"351.669239\" xlink:href=\"#m5afb0fb0b1\" y=\"129.25382\"/>\r\n     <use style=\"stroke:#000000;stroke-width:2;\" x=\"352.460672\" xlink:href=\"#m5afb0fb0b1\" y=\"128.191129\"/>\r\n     <use style=\"stroke:#000000;stroke-width:2;\" x=\"352.460672\" xlink:href=\"#m5afb0fb0b1\" y=\"127.147323\"/>\r\n     <use style=\"stroke:#000000;stroke-width:2;\" x=\"354.80108\" xlink:href=\"#m5afb0fb0b1\" y=\"126.121199\"/>\r\n     <use style=\"stroke:#000000;stroke-width:2;\" x=\"355.570186\" xlink:href=\"#m5afb0fb0b1\" y=\"125.111631\"/>\r\n     <use style=\"stroke:#000000;stroke-width:2;\" x=\"356.333906\" xlink:href=\"#m5afb0fb0b1\" y=\"124.117567\"/>\r\n     <use style=\"stroke:#000000;stroke-width:2;\" x=\"356.333906\" xlink:href=\"#m5afb0fb0b1\" y=\"123.138016\"/>\r\n     <use style=\"stroke:#000000;stroke-width:2;\" x=\"356.333906\" xlink:href=\"#m5afb0fb0b1\" y=\"122.172044\"/>\r\n     <use style=\"stroke:#000000;stroke-width:2;\" x=\"358.593488\" xlink:href=\"#m5afb0fb0b1\" y=\"121.21877\"/>\r\n     <use style=\"stroke:#000000;stroke-width:2;\" x=\"359.336396\" xlink:href=\"#m5afb0fb0b1\" y=\"120.277357\"/>\r\n     <use style=\"stroke:#000000;stroke-width:2;\" x=\"360.074277\" xlink:href=\"#m5afb0fb0b1\" y=\"119.347009\"/>\r\n     <use style=\"stroke:#000000;stroke-width:2;\" x=\"360.807199\" xlink:href=\"#m5afb0fb0b1\" y=\"118.426966\"/>\r\n     <use style=\"stroke:#000000;stroke-width:2;\" x=\"362.258429\" xlink:href=\"#m5afb0fb0b1\" y=\"117.516502\"/>\r\n     <use style=\"stroke:#000000;stroke-width:2;\" x=\"362.976866\" xlink:href=\"#m5afb0fb0b1\" y=\"116.614919\"/>\r\n     <use style=\"stroke:#000000;stroke-width:2;\" x=\"367.190839\" xlink:href=\"#m5afb0fb0b1\" y=\"115.721544\"/>\r\n     <use style=\"stroke:#000000;stroke-width:2;\" x=\"367.190839\" xlink:href=\"#m5afb0fb0b1\" y=\"114.835725\"/>\r\n     <use style=\"stroke:#000000;stroke-width:2;\" x=\"368.560071\" xlink:href=\"#m5afb0fb0b1\" y=\"113.956832\"/>\r\n     <use style=\"stroke:#000000;stroke-width:2;\" x=\"369.912325\" xlink:href=\"#m5afb0fb0b1\" y=\"113.084249\"/>\r\n     <use style=\"stroke:#000000;stroke-width:2;\" x=\"370.582215\" xlink:href=\"#m5afb0fb0b1\" y=\"112.217374\"/>\r\n     <use style=\"stroke:#000000;stroke-width:2;\" x=\"372.567544\" xlink:href=\"#m5afb0fb0b1\" y=\"111.355616\"/>\r\n     <use style=\"stroke:#000000;stroke-width:2;\" x=\"373.221369\" xlink:href=\"#m5afb0fb0b1\" y=\"110.498392\"/>\r\n     <use style=\"stroke:#000000;stroke-width:2;\" x=\"373.871297\" xlink:href=\"#m5afb0fb0b1\" y=\"109.645124\"/>\r\n     <use style=\"stroke:#000000;stroke-width:2;\" x=\"376.432953\" xlink:href=\"#m5afb0fb0b1\" y=\"108.79524\"/>\r\n     <use style=\"stroke:#000000;stroke-width:2;\" x=\"382.585587\" xlink:href=\"#m5afb0fb0b1\" y=\"107.948165\"/>\r\n     <use style=\"stroke:#000000;stroke-width:2;\" x=\"384.952626\" xlink:href=\"#m5afb0fb0b1\" y=\"107.103324\"/>\r\n     <use style=\"stroke:#000000;stroke-width:2;\" x=\"391.760252\" xlink:href=\"#m5afb0fb0b1\" y=\"106.260135\"/>\r\n     <use style=\"stroke:#000000;stroke-width:2;\" x=\"392.308828\" xlink:href=\"#m5afb0fb0b1\" y=\"105.418013\"/>\r\n     <use style=\"stroke:#000000;stroke-width:2;\" x=\"393.39777\" xlink:href=\"#m5afb0fb0b1\" y=\"104.576356\"/>\r\n     <use style=\"stroke:#000000;stroke-width:2;\" x=\"393.93819\" xlink:href=\"#m5afb0fb0b1\" y=\"103.734552\"/>\r\n     <use style=\"stroke:#000000;stroke-width:2;\" x=\"394.475945\" xlink:href=\"#m5afb0fb0b1\" y=\"102.89197\"/>\r\n     <use style=\"stroke:#000000;stroke-width:2;\" x=\"394.475945\" xlink:href=\"#m5afb0fb0b1\" y=\"102.047959\"/>\r\n     <use style=\"stroke:#000000;stroke-width:2;\" x=\"396.07348\" xlink:href=\"#m5afb0fb0b1\" y=\"101.20184\"/>\r\n     <use style=\"stroke:#000000;stroke-width:2;\" x=\"396.07348\" xlink:href=\"#m5afb0fb0b1\" y=\"100.352904\"/>\r\n     <use style=\"stroke:#000000;stroke-width:2;\" x=\"396.600834\" xlink:href=\"#m5afb0fb0b1\" y=\"99.500408\"/>\r\n     <use style=\"stroke:#000000;stroke-width:2;\" x=\"396.600834\" xlink:href=\"#m5afb0fb0b1\" y=\"98.643564\"/>\r\n     <use style=\"stroke:#000000;stroke-width:2;\" x=\"397.125649\" xlink:href=\"#m5afb0fb0b1\" y=\"97.781536\"/>\r\n     <use style=\"stroke:#000000;stroke-width:2;\" x=\"398.167762\" xlink:href=\"#m5afb0fb0b1\" y=\"96.913432\"/>\r\n     <use style=\"stroke:#000000;stroke-width:2;\" x=\"398.685108\" xlink:href=\"#m5afb0fb0b1\" y=\"96.038292\"/>\r\n     <use style=\"stroke:#000000;stroke-width:2;\" x=\"399.200012\" xlink:href=\"#m5afb0fb0b1\" y=\"95.155079\"/>\r\n     <use style=\"stroke:#000000;stroke-width:2;\" x=\"399.200012\" xlink:href=\"#m5afb0fb0b1\" y=\"94.262665\"/>\r\n     <use style=\"stroke:#000000;stroke-width:2;\" x=\"401.235651\" xlink:href=\"#m5afb0fb0b1\" y=\"93.359816\"/>\r\n     <use style=\"stroke:#000000;stroke-width:2;\" x=\"403.233988\" xlink:href=\"#m5afb0fb0b1\" y=\"92.445174\"/>\r\n     <use style=\"stroke:#000000;stroke-width:2;\" x=\"403.233988\" xlink:href=\"#m5afb0fb0b1\" y=\"91.517233\"/>\r\n     <use style=\"stroke:#000000;stroke-width:2;\" x=\"404.21959\" xlink:href=\"#m5afb0fb0b1\" y=\"90.574313\"/>\r\n     <use style=\"stroke:#000000;stroke-width:2;\" x=\"404.21959\" xlink:href=\"#m5afb0fb0b1\" y=\"89.614525\"/>\r\n     <use style=\"stroke:#000000;stroke-width:2;\" x=\"404.70907\" xlink:href=\"#m5afb0fb0b1\" y=\"88.635729\"/>\r\n     <use style=\"stroke:#000000;stroke-width:2;\" x=\"405.681489\" xlink:href=\"#m5afb0fb0b1\" y=\"87.635482\"/>\r\n     <use style=\"stroke:#000000;stroke-width:2;\" x=\"409.01825\" xlink:href=\"#m5afb0fb0b1\" y=\"86.610967\"/>\r\n     <use style=\"stroke:#000000;stroke-width:2;\" x=\"411.340651\" xlink:href=\"#m5afb0fb0b1\" y=\"85.558907\"/>\r\n     <use style=\"stroke:#000000;stroke-width:2;\" x=\"411.340651\" xlink:href=\"#m5afb0fb0b1\" y=\"84.475452\"/>\r\n     <use style=\"stroke:#000000;stroke-width:2;\" x=\"413.163606\" xlink:href=\"#m5afb0fb0b1\" y=\"83.356015\"/>\r\n     <use style=\"stroke:#000000;stroke-width:2;\" x=\"414.063782\" xlink:href=\"#m5afb0fb0b1\" y=\"82.195074\"/>\r\n     <use style=\"stroke:#000000;stroke-width:2;\" x=\"417.591969\" xlink:href=\"#m5afb0fb0b1\" y=\"80.985866\"/>\r\n     <use style=\"stroke:#000000;stroke-width:2;\" x=\"418.456465\" xlink:href=\"#m5afb0fb0b1\" y=\"79.719978\"/>\r\n     <use style=\"stroke:#000000;stroke-width:2;\" x=\"418.886156\" xlink:href=\"#m5afb0fb0b1\" y=\"78.386724\"/>\r\n     <use style=\"stroke:#000000;stroke-width:2;\" x=\"420.588187\" xlink:href=\"#m5afb0fb0b1\" y=\"76.972214\"/>\r\n     <use style=\"stroke:#000000;stroke-width:2;\" x=\"422.264061\" xlink:href=\"#m5afb0fb0b1\" y=\"75.457865\"/>\r\n     <use style=\"stroke:#000000;stroke-width:2;\" x=\"423.914571\" xlink:href=\"#m5afb0fb0b1\" y=\"73.817934\"/>\r\n     <use style=\"stroke:#000000;stroke-width:2;\" x=\"428.328739\" xlink:href=\"#m5afb0fb0b1\" y=\"72.015121\"/>\r\n     <use style=\"stroke:#000000;stroke-width:2;\" x=\"429.890601\" xlink:href=\"#m5afb0fb0b1\" y=\"69.992114\"/>\r\n     <use style=\"stroke:#000000;stroke-width:2;\" x=\"434.446293\" xlink:href=\"#m5afb0fb0b1\" y=\"67.653401\"/>\r\n     <use style=\"stroke:#000000;stroke-width:2;\" x=\"439.531355\" xlink:href=\"#m5afb0fb0b1\" y=\"64.819391\"/>\r\n     <use style=\"stroke:#000000;stroke-width:2;\" x=\"448.38861\" xlink:href=\"#m5afb0fb0b1\" y=\"61.076953\"/>\r\n     <use style=\"stroke:#000000;stroke-width:2;\" x=\"461.040507\" xlink:href=\"#m5afb0fb0b1\" y=\"54.958061\"/>\r\n    </g>\r\n   </g>\r\n   <g id=\"PolyCollection_1\">\r\n    <path clip-path=\"url(#pde25039411)\" d=\"M 533.714556 14.209064 \r\nL 494.731626 14.209064 \r\nL 494.275267 14.574859 \r\nL 493.813402 14.94501 \r\nL 493.345895 15.319621 \r\nL 492.872608 15.698802 \r\nL 492.393396 16.082665 \r\nL 491.908108 16.471328 \r\nL 491.41659 16.864912 \r\nL 490.918677 17.263544 \r\nL 490.414203 17.667354 \r\nL 489.902992 18.076479 \r\nL 489.384861 18.49106 \r\nL 488.859621 18.911246 \r\nL 488.327075 19.337189 \r\nL 487.787015 19.76905 \r\nL 487.239227 20.206996 \r\nL 486.683487 20.6512 \r\nL 486.11956 21.101843 \r\nL 485.547202 21.559116 \r\nL 484.966157 22.023216 \r\nL 484.376157 22.49435 \r\nL 483.776922 22.972735 \r\nL 483.168158 23.458597 \r\nL 482.549557 23.952174 \r\nL 481.920797 24.453715 \r\nL 481.281537 24.963481 \r\nL 480.631421 25.481745 \r\nL 479.970075 26.008798 \r\nL 479.297104 26.54494 \r\nL 478.61209 27.090492 \r\nL 477.914597 27.64579 \r\nL 477.20416 28.211188 \r\nL 476.48029 28.78706 \r\nL 475.74247 29.373801 \r\nL 474.99015 29.97183 \r\nL 474.222751 30.58159 \r\nL 473.439654 31.203549 \r\nL 472.640205 31.838205 \r\nL 471.823706 32.486087 \r\nL 470.989415 33.147758 \r\nL 470.136538 33.823817 \r\nL 469.26423 34.514902 \r\nL 468.371584 35.221697 \r\nL 467.45763 35.94493 \r\nL 466.521329 36.685384 \r\nL 465.56156 37.443895 \r\nL 464.577118 38.221366 \r\nL 463.566705 39.018764 \r\nL 462.528916 39.837134 \r\nL 461.462231 40.677605 \r\nL 460.365001 41.541397 \r\nL 459.235431 42.429833 \r\nL 458.071568 43.344351 \r\nL 456.871278 44.286516 \r\nL 455.632223 45.258034 \r\nL 454.351838 46.260774 \r\nL 453.0273 47.296781 \r\nL 451.655492 48.368305 \r\nL 450.232963 49.477824 \r\nL 448.755883 50.628076 \r\nL 447.219982 51.822094 \r\nL 445.620489 53.063249 \r\nL 443.952048 54.355299 \r\nL 442.208628 55.702444 \r\nL 440.383407 57.109398 \r\nL 438.468638 58.581469 \r\nL 436.45548 60.124654 \r\nL 434.3338 61.745756 \r\nL 432.091918 63.45252 \r\nL 429.716304 65.253807 \r\nL 427.191191 67.159791 \r\nL 424.498097 69.182212 \r\nL 421.615214 71.334681 \r\nL 418.516646 73.633058 \r\nL 415.171428 76.095919 \r\nL 411.542288 78.74515 \r\nL 407.584068 81.606684 \r\nL 403.241741 84.711446 \r\nL 398.447939 88.096557 \r\nL 393.119942 91.806893 \r\nL 387.156076 95.897105 \r\nL 380.431489 100.434276 \r\nL 372.793129 105.501421 \r\nL 364.053482 111.202148 \r\nL 353.982082 117.666876 \r\nL 342.293298 125.06117 \r\nL 328.628604 133.596884 \r\nL 312.531713 143.546949 \r\nL 293.415369 155.264667 \r\nL 270.519182 169.208174 \r\nL 242.858968 185.970074 \r\nL 209.169671 206.3111 \r\nL 167.845564 231.195649 \r\nL 116.880206 261.827636 \r\nL 53.801692 299.689292 \r\nL -24.412111 346.591973 \r\nL -121.458198 404.750804 \r\nL -241.883759 476.889615 \r\nL -391.310514 566.37517 \r\nL -576.706642 677.379892 \r\nL -314.114501 677.379892 \r\nL -314.114501 677.379892 \r\nL -178.254434 566.37517 \r\nL -68.703117 476.889615 \r\nL 19.646582 404.750804 \r\nL 90.91662 346.591973 \r\nL 148.442779 299.689292 \r\nL 194.938806 261.827636 \r\nL 232.624771 231.195649 \r\nL 263.31846 206.3111 \r\nL 288.497656 185.970074 \r\nL 309.347667 169.208174 \r\nL 326.805062 155.264667 \r\nL 341.600693 143.546949 \r\nL 354.300055 133.596884 \r\nL 365.338375 125.06117 \r\nL 375.049245 117.666876 \r\nL 383.687264 111.202148 \r\nL 391.445958 105.501421 \r\nL 398.472307 100.434276 \r\nL 404.878641 95.897105 \r\nL 410.752164 91.806893 \r\nL 416.162162 88.096557 \r\nL 421.165132 84.711446 \r\nL 425.808224 81.606684 \r\nL 430.131504 78.74515 \r\nL 434.169442 76.095919 \r\nL 437.951934 73.633058 \r\nL 441.505043 71.334681 \r\nL 444.851571 69.182212 \r\nL 448.011519 67.159791 \r\nL 451.002471 65.253807 \r\nL 453.839919 63.45252 \r\nL 456.537545 61.745756 \r\nL 459.107457 60.124654 \r\nL 461.560395 58.581469 \r\nL 463.905912 57.109398 \r\nL 466.152526 55.702444 \r\nL 468.307847 54.355299 \r\nL 470.378696 53.063249 \r\nL 472.371201 51.822094 \r\nL 474.290881 50.628076 \r\nL 476.142719 49.477824 \r\nL 477.931223 48.368305 \r\nL 479.660488 47.296781 \r\nL 481.334234 46.260774 \r\nL 482.955855 45.258034 \r\nL 484.528449 44.286516 \r\nL 486.054855 43.344351 \r\nL 487.537678 42.429833 \r\nL 488.979311 41.541397 \r\nL 490.38196 40.677605 \r\nL 491.747662 39.837134 \r\nL 493.0783 39.018764 \r\nL 494.375619 38.221366 \r\nL 495.641236 37.443895 \r\nL 496.876658 36.685384 \r\nL 498.083285 35.94493 \r\nL 499.262425 35.221697 \r\nL 500.415297 34.514902 \r\nL 501.543043 33.823817 \r\nL 502.646733 33.147758 \r\nL 503.727368 32.486087 \r\nL 504.78589 31.838205 \r\nL 505.823185 31.203549 \r\nL 506.840085 30.58159 \r\nL 507.837376 29.97183 \r\nL 508.815799 29.373801 \r\nL 509.776053 28.78706 \r\nL 510.718801 28.211188 \r\nL 511.644669 27.64579 \r\nL 512.55425 27.090492 \r\nL 513.448106 26.54494 \r\nL 514.326772 26.008798 \r\nL 515.190756 25.481745 \r\nL 516.040538 24.963481 \r\nL 516.876579 24.453715 \r\nL 517.699316 23.952174 \r\nL 518.509165 23.458597 \r\nL 519.306523 22.972735 \r\nL 520.091771 22.49435 \r\nL 520.865269 22.023216 \r\nL 521.627365 21.559116 \r\nL 522.37839 21.101843 \r\nL 523.118661 20.6512 \r\nL 523.84848 20.206996 \r\nL 524.56814 19.76905 \r\nL 525.277919 19.337189 \r\nL 525.978085 18.911246 \r\nL 526.668895 18.49106 \r\nL 527.350595 18.076479 \r\nL 528.023423 17.667354 \r\nL 528.687606 17.263544 \r\nL 529.343364 16.864912 \r\nL 529.990908 16.471328 \r\nL 530.630441 16.082665 \r\nL 531.262159 15.698802 \r\nL 531.886251 15.319621 \r\nL 532.502898 14.94501 \r\nL 533.112277 14.574859 \r\nL 533.714556 14.209064 \r\nz\r\n\" style=\"fill:#1f77b4;fill-opacity:0.3;\"/>\r\n   </g>\r\n   <g id=\"matplotlib.axis_1\">\r\n    <g id=\"xtick_1\">\r\n     <g id=\"line2d_1\">\r\n      <path clip-path=\"url(#pde25039411)\" d=\"M 66.007812 391.0755 \r\nL 66.007812 35.7555 \r\n\" style=\"fill:none;stroke:#000000;stroke-linecap:square;stroke-opacity:0.3;stroke-width:0.8;\"/>\r\n     </g>\r\n     <g id=\"line2d_2\">\r\n      <defs>\r\n       <path d=\"M 0 0 \r\nL 0 3.5 \r\n\" id=\"mbb76225560\" style=\"stroke:#000000;stroke-width:0.8;\"/>\r\n      </defs>\r\n      <g>\r\n       <use style=\"stroke:#000000;stroke-width:0.8;\" x=\"66.007812\" xlink:href=\"#mbb76225560\" y=\"391.0755\"/>\r\n      </g>\r\n     </g>\r\n     <g id=\"text_1\">\r\n      <!-- $\\mathdefault{10^{1}}$ -->\r\n      <g transform=\"translate(57.207813 405.673937)scale(0.1 -0.1)\">\r\n       <defs>\r\n        <path d=\"M 12.40625 8.296875 \r\nL 28.515625 8.296875 \r\nL 28.515625 63.921875 \r\nL 10.984375 60.40625 \r\nL 10.984375 69.390625 \r\nL 28.421875 72.90625 \r\nL 38.28125 72.90625 \r\nL 38.28125 8.296875 \r\nL 54.390625 8.296875 \r\nL 54.390625 0 \r\nL 12.40625 0 \r\nz\r\n\" id=\"DejaVuSans-49\"/>\r\n        <path d=\"M 31.78125 66.40625 \r\nQ 24.171875 66.40625 20.328125 58.90625 \r\nQ 16.5 51.421875 16.5 36.375 \r\nQ 16.5 21.390625 20.328125 13.890625 \r\nQ 24.171875 6.390625 31.78125 6.390625 \r\nQ 39.453125 6.390625 43.28125 13.890625 \r\nQ 47.125 21.390625 47.125 36.375 \r\nQ 47.125 51.421875 43.28125 58.90625 \r\nQ 39.453125 66.40625 31.78125 66.40625 \r\nz\r\nM 31.78125 74.21875 \r\nQ 44.046875 74.21875 50.515625 64.515625 \r\nQ 56.984375 54.828125 56.984375 36.375 \r\nQ 56.984375 17.96875 50.515625 8.265625 \r\nQ 44.046875 -1.421875 31.78125 -1.421875 \r\nQ 19.53125 -1.421875 13.0625 8.265625 \r\nQ 6.59375 17.96875 6.59375 36.375 \r\nQ 6.59375 54.828125 13.0625 64.515625 \r\nQ 19.53125 74.21875 31.78125 74.21875 \r\nz\r\n\" id=\"DejaVuSans-48\"/>\r\n       </defs>\r\n       <use transform=\"translate(0 0.684375)\" xlink:href=\"#DejaVuSans-49\"/>\r\n       <use transform=\"translate(63.623047 0.684375)\" xlink:href=\"#DejaVuSans-48\"/>\r\n       <use transform=\"translate(128.203125 38.965625)scale(0.7)\" xlink:href=\"#DejaVuSans-49\"/>\r\n      </g>\r\n     </g>\r\n    </g>\r\n    <g id=\"xtick_2\">\r\n     <g id=\"line2d_3\">\r\n      <path clip-path=\"url(#pde25039411)\" d=\"M 317.107813 391.0755 \r\nL 317.107813 35.7555 \r\n\" style=\"fill:none;stroke:#000000;stroke-linecap:square;stroke-opacity:0.3;stroke-width:0.8;\"/>\r\n     </g>\r\n     <g id=\"line2d_4\">\r\n      <g>\r\n       <use style=\"stroke:#000000;stroke-width:0.8;\" x=\"317.107813\" xlink:href=\"#mbb76225560\" y=\"391.0755\"/>\r\n      </g>\r\n     </g>\r\n     <g id=\"text_2\">\r\n      <!-- $\\mathdefault{10^{2}}$ -->\r\n      <g transform=\"translate(308.307813 405.673937)scale(0.1 -0.1)\">\r\n       <defs>\r\n        <path d=\"M 19.1875 8.296875 \r\nL 53.609375 8.296875 \r\nL 53.609375 0 \r\nL 7.328125 0 \r\nL 7.328125 8.296875 \r\nQ 12.9375 14.109375 22.625 23.890625 \r\nQ 32.328125 33.6875 34.8125 36.53125 \r\nQ 39.546875 41.84375 41.421875 45.53125 \r\nQ 43.3125 49.21875 43.3125 52.78125 \r\nQ 43.3125 58.59375 39.234375 62.25 \r\nQ 35.15625 65.921875 28.609375 65.921875 \r\nQ 23.96875 65.921875 18.8125 64.3125 \r\nQ 13.671875 62.703125 7.8125 59.421875 \r\nL 7.8125 69.390625 \r\nQ 13.765625 71.78125 18.9375 73 \r\nQ 24.125 74.21875 28.421875 74.21875 \r\nQ 39.75 74.21875 46.484375 68.546875 \r\nQ 53.21875 62.890625 53.21875 53.421875 \r\nQ 53.21875 48.921875 51.53125 44.890625 \r\nQ 49.859375 40.875 45.40625 35.40625 \r\nQ 44.1875 33.984375 37.640625 27.21875 \r\nQ 31.109375 20.453125 19.1875 8.296875 \r\nz\r\n\" id=\"DejaVuSans-50\"/>\r\n       </defs>\r\n       <use transform=\"translate(0 0.765625)\" xlink:href=\"#DejaVuSans-49\"/>\r\n       <use transform=\"translate(63.623047 0.765625)\" xlink:href=\"#DejaVuSans-48\"/>\r\n       <use transform=\"translate(128.203125 39.046875)scale(0.7)\" xlink:href=\"#DejaVuSans-50\"/>\r\n      </g>\r\n     </g>\r\n    </g>\r\n    <g id=\"xtick_3\">\r\n     <g id=\"line2d_5\">\r\n      <path clip-path=\"url(#pde25039411)\" d=\"M 568.207813 391.0755 \r\nL 568.207813 35.7555 \r\n\" style=\"fill:none;stroke:#000000;stroke-linecap:square;stroke-opacity:0.3;stroke-width:0.8;\"/>\r\n     </g>\r\n     <g id=\"line2d_6\">\r\n      <g>\r\n       <use style=\"stroke:#000000;stroke-width:0.8;\" x=\"568.207813\" xlink:href=\"#mbb76225560\" y=\"391.0755\"/>\r\n      </g>\r\n     </g>\r\n     <g id=\"text_3\">\r\n      <!-- $\\mathdefault{10^{3}}$ -->\r\n      <g transform=\"translate(559.407813 405.673937)scale(0.1 -0.1)\">\r\n       <defs>\r\n        <path d=\"M 40.578125 39.3125 \r\nQ 47.65625 37.796875 51.625 33 \r\nQ 55.609375 28.21875 55.609375 21.1875 \r\nQ 55.609375 10.40625 48.1875 4.484375 \r\nQ 40.765625 -1.421875 27.09375 -1.421875 \r\nQ 22.515625 -1.421875 17.65625 -0.515625 \r\nQ 12.796875 0.390625 7.625 2.203125 \r\nL 7.625 11.71875 \r\nQ 11.71875 9.328125 16.59375 8.109375 \r\nQ 21.484375 6.890625 26.8125 6.890625 \r\nQ 36.078125 6.890625 40.9375 10.546875 \r\nQ 45.796875 14.203125 45.796875 21.1875 \r\nQ 45.796875 27.640625 41.28125 31.265625 \r\nQ 36.765625 34.90625 28.71875 34.90625 \r\nL 20.21875 34.90625 \r\nL 20.21875 43.015625 \r\nL 29.109375 43.015625 \r\nQ 36.375 43.015625 40.234375 45.921875 \r\nQ 44.09375 48.828125 44.09375 54.296875 \r\nQ 44.09375 59.90625 40.109375 62.90625 \r\nQ 36.140625 65.921875 28.71875 65.921875 \r\nQ 24.65625 65.921875 20.015625 65.03125 \r\nQ 15.375 64.15625 9.8125 62.3125 \r\nL 9.8125 71.09375 \r\nQ 15.4375 72.65625 20.34375 73.4375 \r\nQ 25.25 74.21875 29.59375 74.21875 \r\nQ 40.828125 74.21875 47.359375 69.109375 \r\nQ 53.90625 64.015625 53.90625 55.328125 \r\nQ 53.90625 49.265625 50.4375 45.09375 \r\nQ 46.96875 40.921875 40.578125 39.3125 \r\nz\r\n\" id=\"DejaVuSans-51\"/>\r\n       </defs>\r\n       <use transform=\"translate(0 0.765625)\" xlink:href=\"#DejaVuSans-49\"/>\r\n       <use transform=\"translate(63.623047 0.765625)\" xlink:href=\"#DejaVuSans-48\"/>\r\n       <use transform=\"translate(128.203125 39.046875)scale(0.7)\" xlink:href=\"#DejaVuSans-51\"/>\r\n      </g>\r\n     </g>\r\n    </g>\r\n    <g id=\"xtick_4\">\r\n     <g id=\"line2d_7\">\r\n      <path clip-path=\"url(#pde25039411)\" d=\"M 141.596444 391.0755 \r\nL 141.596444 35.7555 \r\n\" style=\"fill:none;stroke:#000000;stroke-linecap:square;stroke-opacity:0.08;stroke-width:0.8;\"/>\r\n     </g>\r\n     <g id=\"line2d_8\">\r\n      <defs>\r\n       <path d=\"M 0 0 \r\nL 0 2 \r\n\" id=\"me83618e94e\" style=\"stroke:#000000;stroke-width:0.6;\"/>\r\n      </defs>\r\n      <g>\r\n       <use style=\"stroke:#000000;stroke-width:0.6;\" x=\"141.596444\" xlink:href=\"#me83618e94e\" y=\"391.0755\"/>\r\n      </g>\r\n     </g>\r\n    </g>\r\n    <g id=\"xtick_5\">\r\n     <g id=\"line2d_9\">\r\n      <path clip-path=\"url(#pde25039411)\" d=\"M 185.81296 391.0755 \r\nL 185.81296 35.7555 \r\n\" style=\"fill:none;stroke:#000000;stroke-linecap:square;stroke-opacity:0.08;stroke-width:0.8;\"/>\r\n     </g>\r\n     <g id=\"line2d_10\">\r\n      <g>\r\n       <use style=\"stroke:#000000;stroke-width:0.6;\" x=\"185.81296\" xlink:href=\"#me83618e94e\" y=\"391.0755\"/>\r\n      </g>\r\n     </g>\r\n    </g>\r\n    <g id=\"xtick_6\">\r\n     <g id=\"line2d_11\">\r\n      <path clip-path=\"url(#pde25039411)\" d=\"M 217.185076 391.0755 \r\nL 217.185076 35.7555 \r\n\" style=\"fill:none;stroke:#000000;stroke-linecap:square;stroke-opacity:0.08;stroke-width:0.8;\"/>\r\n     </g>\r\n     <g id=\"line2d_12\">\r\n      <g>\r\n       <use style=\"stroke:#000000;stroke-width:0.6;\" x=\"217.185076\" xlink:href=\"#me83618e94e\" y=\"391.0755\"/>\r\n      </g>\r\n     </g>\r\n    </g>\r\n    <g id=\"xtick_7\">\r\n     <g id=\"line2d_13\">\r\n      <path clip-path=\"url(#pde25039411)\" d=\"M 241.519181 391.0755 \r\nL 241.519181 35.7555 \r\n\" style=\"fill:none;stroke:#000000;stroke-linecap:square;stroke-opacity:0.08;stroke-width:0.8;\"/>\r\n     </g>\r\n     <g id=\"line2d_14\">\r\n      <g>\r\n       <use style=\"stroke:#000000;stroke-width:0.6;\" x=\"241.519181\" xlink:href=\"#me83618e94e\" y=\"391.0755\"/>\r\n      </g>\r\n     </g>\r\n    </g>\r\n    <g id=\"xtick_8\">\r\n     <g id=\"line2d_15\">\r\n      <path clip-path=\"url(#pde25039411)\" d=\"M 261.401591 391.0755 \r\nL 261.401591 35.7555 \r\n\" style=\"fill:none;stroke:#000000;stroke-linecap:square;stroke-opacity:0.08;stroke-width:0.8;\"/>\r\n     </g>\r\n     <g id=\"line2d_16\">\r\n      <g>\r\n       <use style=\"stroke:#000000;stroke-width:0.6;\" x=\"261.401591\" xlink:href=\"#me83618e94e\" y=\"391.0755\"/>\r\n      </g>\r\n     </g>\r\n    </g>\r\n    <g id=\"xtick_9\">\r\n     <g id=\"line2d_17\">\r\n      <path clip-path=\"url(#pde25039411)\" d=\"M 278.21193 391.0755 \r\nL 278.21193 35.7555 \r\n\" style=\"fill:none;stroke:#000000;stroke-linecap:square;stroke-opacity:0.08;stroke-width:0.8;\"/>\r\n     </g>\r\n     <g id=\"line2d_18\">\r\n      <g>\r\n       <use style=\"stroke:#000000;stroke-width:0.6;\" x=\"278.21193\" xlink:href=\"#me83618e94e\" y=\"391.0755\"/>\r\n      </g>\r\n     </g>\r\n    </g>\r\n    <g id=\"xtick_10\">\r\n     <g id=\"line2d_19\">\r\n      <path clip-path=\"url(#pde25039411)\" d=\"M 292.773708 391.0755 \r\nL 292.773708 35.7555 \r\n\" style=\"fill:none;stroke:#000000;stroke-linecap:square;stroke-opacity:0.08;stroke-width:0.8;\"/>\r\n     </g>\r\n     <g id=\"line2d_20\">\r\n      <g>\r\n       <use style=\"stroke:#000000;stroke-width:0.6;\" x=\"292.773708\" xlink:href=\"#me83618e94e\" y=\"391.0755\"/>\r\n      </g>\r\n     </g>\r\n    </g>\r\n    <g id=\"xtick_11\">\r\n     <g id=\"line2d_21\">\r\n      <path clip-path=\"url(#pde25039411)\" d=\"M 305.618107 391.0755 \r\nL 305.618107 35.7555 \r\n\" style=\"fill:none;stroke:#000000;stroke-linecap:square;stroke-opacity:0.08;stroke-width:0.8;\"/>\r\n     </g>\r\n     <g id=\"line2d_22\">\r\n      <g>\r\n       <use style=\"stroke:#000000;stroke-width:0.6;\" x=\"305.618107\" xlink:href=\"#me83618e94e\" y=\"391.0755\"/>\r\n      </g>\r\n     </g>\r\n    </g>\r\n    <g id=\"xtick_12\">\r\n     <g id=\"line2d_23\">\r\n      <path clip-path=\"url(#pde25039411)\" d=\"M 392.696444 391.0755 \r\nL 392.696444 35.7555 \r\n\" style=\"fill:none;stroke:#000000;stroke-linecap:square;stroke-opacity:0.08;stroke-width:0.8;\"/>\r\n     </g>\r\n     <g id=\"line2d_24\">\r\n      <g>\r\n       <use style=\"stroke:#000000;stroke-width:0.6;\" x=\"392.696444\" xlink:href=\"#me83618e94e\" y=\"391.0755\"/>\r\n      </g>\r\n     </g>\r\n    </g>\r\n    <g id=\"xtick_13\">\r\n     <g id=\"line2d_25\">\r\n      <path clip-path=\"url(#pde25039411)\" d=\"M 436.91296 391.0755 \r\nL 436.91296 35.7555 \r\n\" style=\"fill:none;stroke:#000000;stroke-linecap:square;stroke-opacity:0.08;stroke-width:0.8;\"/>\r\n     </g>\r\n     <g id=\"line2d_26\">\r\n      <g>\r\n       <use style=\"stroke:#000000;stroke-width:0.6;\" x=\"436.91296\" xlink:href=\"#me83618e94e\" y=\"391.0755\"/>\r\n      </g>\r\n     </g>\r\n    </g>\r\n    <g id=\"xtick_14\">\r\n     <g id=\"line2d_27\">\r\n      <path clip-path=\"url(#pde25039411)\" d=\"M 468.285076 391.0755 \r\nL 468.285076 35.7555 \r\n\" style=\"fill:none;stroke:#000000;stroke-linecap:square;stroke-opacity:0.08;stroke-width:0.8;\"/>\r\n     </g>\r\n     <g id=\"line2d_28\">\r\n      <g>\r\n       <use style=\"stroke:#000000;stroke-width:0.6;\" x=\"468.285076\" xlink:href=\"#me83618e94e\" y=\"391.0755\"/>\r\n      </g>\r\n     </g>\r\n    </g>\r\n    <g id=\"xtick_15\">\r\n     <g id=\"line2d_29\">\r\n      <path clip-path=\"url(#pde25039411)\" d=\"M 492.619181 391.0755 \r\nL 492.619181 35.7555 \r\n\" style=\"fill:none;stroke:#000000;stroke-linecap:square;stroke-opacity:0.08;stroke-width:0.8;\"/>\r\n     </g>\r\n     <g id=\"line2d_30\">\r\n      <g>\r\n       <use style=\"stroke:#000000;stroke-width:0.6;\" x=\"492.619181\" xlink:href=\"#me83618e94e\" y=\"391.0755\"/>\r\n      </g>\r\n     </g>\r\n    </g>\r\n    <g id=\"xtick_16\">\r\n     <g id=\"line2d_31\">\r\n      <path clip-path=\"url(#pde25039411)\" d=\"M 512.501591 391.0755 \r\nL 512.501591 35.7555 \r\n\" style=\"fill:none;stroke:#000000;stroke-linecap:square;stroke-opacity:0.08;stroke-width:0.8;\"/>\r\n     </g>\r\n     <g id=\"line2d_32\">\r\n      <g>\r\n       <use style=\"stroke:#000000;stroke-width:0.6;\" x=\"512.501591\" xlink:href=\"#me83618e94e\" y=\"391.0755\"/>\r\n      </g>\r\n     </g>\r\n    </g>\r\n    <g id=\"xtick_17\">\r\n     <g id=\"line2d_33\">\r\n      <path clip-path=\"url(#pde25039411)\" d=\"M 529.31193 391.0755 \r\nL 529.31193 35.7555 \r\n\" style=\"fill:none;stroke:#000000;stroke-linecap:square;stroke-opacity:0.08;stroke-width:0.8;\"/>\r\n     </g>\r\n     <g id=\"line2d_34\">\r\n      <g>\r\n       <use style=\"stroke:#000000;stroke-width:0.6;\" x=\"529.31193\" xlink:href=\"#me83618e94e\" y=\"391.0755\"/>\r\n      </g>\r\n     </g>\r\n    </g>\r\n    <g id=\"xtick_18\">\r\n     <g id=\"line2d_35\">\r\n      <path clip-path=\"url(#pde25039411)\" d=\"M 543.873708 391.0755 \r\nL 543.873708 35.7555 \r\n\" style=\"fill:none;stroke:#000000;stroke-linecap:square;stroke-opacity:0.08;stroke-width:0.8;\"/>\r\n     </g>\r\n     <g id=\"line2d_36\">\r\n      <g>\r\n       <use style=\"stroke:#000000;stroke-width:0.6;\" x=\"543.873708\" xlink:href=\"#me83618e94e\" y=\"391.0755\"/>\r\n      </g>\r\n     </g>\r\n    </g>\r\n    <g id=\"xtick_19\">\r\n     <g id=\"line2d_37\">\r\n      <path clip-path=\"url(#pde25039411)\" d=\"M 556.718107 391.0755 \r\nL 556.718107 35.7555 \r\n\" style=\"fill:none;stroke:#000000;stroke-linecap:square;stroke-opacity:0.08;stroke-width:0.8;\"/>\r\n     </g>\r\n     <g id=\"line2d_38\">\r\n      <g>\r\n       <use style=\"stroke:#000000;stroke-width:0.6;\" x=\"556.718107\" xlink:href=\"#me83618e94e\" y=\"391.0755\"/>\r\n      </g>\r\n     </g>\r\n    </g>\r\n    <g id=\"text_4\">\r\n     <!-- Time - gamma -->\r\n     <g transform=\"translate(280.849219 419.352062)scale(0.1 -0.1)\">\r\n      <defs>\r\n       <path d=\"M -0.296875 72.90625 \r\nL 61.375 72.90625 \r\nL 61.375 64.59375 \r\nL 35.5 64.59375 \r\nL 35.5 0 \r\nL 25.59375 0 \r\nL 25.59375 64.59375 \r\nL -0.296875 64.59375 \r\nz\r\n\" id=\"DejaVuSans-84\"/>\r\n       <path d=\"M 9.421875 54.6875 \r\nL 18.40625 54.6875 \r\nL 18.40625 0 \r\nL 9.421875 0 \r\nz\r\nM 9.421875 75.984375 \r\nL 18.40625 75.984375 \r\nL 18.40625 64.59375 \r\nL 9.421875 64.59375 \r\nz\r\n\" id=\"DejaVuSans-105\"/>\r\n       <path d=\"M 52 44.1875 \r\nQ 55.375 50.25 60.0625 53.125 \r\nQ 64.75 56 71.09375 56 \r\nQ 79.640625 56 84.28125 50.015625 \r\nQ 88.921875 44.046875 88.921875 33.015625 \r\nL 88.921875 0 \r\nL 79.890625 0 \r\nL 79.890625 32.71875 \r\nQ 79.890625 40.578125 77.09375 44.375 \r\nQ 74.3125 48.1875 68.609375 48.1875 \r\nQ 61.625 48.1875 57.5625 43.546875 \r\nQ 53.515625 38.921875 53.515625 30.90625 \r\nL 53.515625 0 \r\nL 44.484375 0 \r\nL 44.484375 32.71875 \r\nQ 44.484375 40.625 41.703125 44.40625 \r\nQ 38.921875 48.1875 33.109375 48.1875 \r\nQ 26.21875 48.1875 22.15625 43.53125 \r\nQ 18.109375 38.875 18.109375 30.90625 \r\nL 18.109375 0 \r\nL 9.078125 0 \r\nL 9.078125 54.6875 \r\nL 18.109375 54.6875 \r\nL 18.109375 46.1875 \r\nQ 21.1875 51.21875 25.484375 53.609375 \r\nQ 29.78125 56 35.6875 56 \r\nQ 41.65625 56 45.828125 52.96875 \r\nQ 50 49.953125 52 44.1875 \r\nz\r\n\" id=\"DejaVuSans-109\"/>\r\n       <path d=\"M 56.203125 29.59375 \r\nL 56.203125 25.203125 \r\nL 14.890625 25.203125 \r\nQ 15.484375 15.921875 20.484375 11.0625 \r\nQ 25.484375 6.203125 34.421875 6.203125 \r\nQ 39.59375 6.203125 44.453125 7.46875 \r\nQ 49.3125 8.734375 54.109375 11.28125 \r\nL 54.109375 2.78125 \r\nQ 49.265625 0.734375 44.1875 -0.34375 \r\nQ 39.109375 -1.421875 33.890625 -1.421875 \r\nQ 20.796875 -1.421875 13.15625 6.1875 \r\nQ 5.515625 13.8125 5.515625 26.8125 \r\nQ 5.515625 40.234375 12.765625 48.109375 \r\nQ 20.015625 56 32.328125 56 \r\nQ 43.359375 56 49.78125 48.890625 \r\nQ 56.203125 41.796875 56.203125 29.59375 \r\nz\r\nM 47.21875 32.234375 \r\nQ 47.125 39.59375 43.09375 43.984375 \r\nQ 39.0625 48.390625 32.421875 48.390625 \r\nQ 24.90625 48.390625 20.390625 44.140625 \r\nQ 15.875 39.890625 15.1875 32.171875 \r\nz\r\n\" id=\"DejaVuSans-101\"/>\r\n       <path id=\"DejaVuSans-32\"/>\r\n       <path d=\"M 4.890625 31.390625 \r\nL 31.203125 31.390625 \r\nL 31.203125 23.390625 \r\nL 4.890625 23.390625 \r\nz\r\n\" id=\"DejaVuSans-45\"/>\r\n       <path d=\"M 45.40625 27.984375 \r\nQ 45.40625 37.75 41.375 43.109375 \r\nQ 37.359375 48.484375 30.078125 48.484375 \r\nQ 22.859375 48.484375 18.828125 43.109375 \r\nQ 14.796875 37.75 14.796875 27.984375 \r\nQ 14.796875 18.265625 18.828125 12.890625 \r\nQ 22.859375 7.515625 30.078125 7.515625 \r\nQ 37.359375 7.515625 41.375 12.890625 \r\nQ 45.40625 18.265625 45.40625 27.984375 \r\nz\r\nM 54.390625 6.78125 \r\nQ 54.390625 -7.171875 48.1875 -13.984375 \r\nQ 42 -20.796875 29.203125 -20.796875 \r\nQ 24.46875 -20.796875 20.265625 -20.09375 \r\nQ 16.0625 -19.390625 12.109375 -17.921875 \r\nL 12.109375 -9.1875 \r\nQ 16.0625 -11.328125 19.921875 -12.34375 \r\nQ 23.78125 -13.375 27.78125 -13.375 \r\nQ 36.625 -13.375 41.015625 -8.765625 \r\nQ 45.40625 -4.15625 45.40625 5.171875 \r\nL 45.40625 9.625 \r\nQ 42.625 4.78125 38.28125 2.390625 \r\nQ 33.9375 0 27.875 0 \r\nQ 17.828125 0 11.671875 7.65625 \r\nQ 5.515625 15.328125 5.515625 27.984375 \r\nQ 5.515625 40.671875 11.671875 48.328125 \r\nQ 17.828125 56 27.875 56 \r\nQ 33.9375 56 38.28125 53.609375 \r\nQ 42.625 51.21875 45.40625 46.390625 \r\nL 45.40625 54.6875 \r\nL 54.390625 54.6875 \r\nz\r\n\" id=\"DejaVuSans-103\"/>\r\n       <path d=\"M 34.28125 27.484375 \r\nQ 23.390625 27.484375 19.1875 25 \r\nQ 14.984375 22.515625 14.984375 16.5 \r\nQ 14.984375 11.71875 18.140625 8.90625 \r\nQ 21.296875 6.109375 26.703125 6.109375 \r\nQ 34.1875 6.109375 38.703125 11.40625 \r\nQ 43.21875 16.703125 43.21875 25.484375 \r\nL 43.21875 27.484375 \r\nz\r\nM 52.203125 31.203125 \r\nL 52.203125 0 \r\nL 43.21875 0 \r\nL 43.21875 8.296875 \r\nQ 40.140625 3.328125 35.546875 0.953125 \r\nQ 30.953125 -1.421875 24.3125 -1.421875 \r\nQ 15.921875 -1.421875 10.953125 3.296875 \r\nQ 6 8.015625 6 15.921875 \r\nQ 6 25.140625 12.171875 29.828125 \r\nQ 18.359375 34.515625 30.609375 34.515625 \r\nL 43.21875 34.515625 \r\nL 43.21875 35.40625 \r\nQ 43.21875 41.609375 39.140625 45 \r\nQ 35.0625 48.390625 27.6875 48.390625 \r\nQ 23 48.390625 18.546875 47.265625 \r\nQ 14.109375 46.140625 10.015625 43.890625 \r\nL 10.015625 52.203125 \r\nQ 14.9375 54.109375 19.578125 55.046875 \r\nQ 24.21875 56 28.609375 56 \r\nQ 40.484375 56 46.34375 49.84375 \r\nQ 52.203125 43.703125 52.203125 31.203125 \r\nz\r\n\" id=\"DejaVuSans-97\"/>\r\n      </defs>\r\n      <use xlink:href=\"#DejaVuSans-84\"/>\r\n      <use x=\"57.958984\" xlink:href=\"#DejaVuSans-105\"/>\r\n      <use x=\"85.742188\" xlink:href=\"#DejaVuSans-109\"/>\r\n      <use x=\"183.154297\" xlink:href=\"#DejaVuSans-101\"/>\r\n      <use x=\"244.677734\" xlink:href=\"#DejaVuSans-32\"/>\r\n      <use x=\"276.464844\" xlink:href=\"#DejaVuSans-45\"/>\r\n      <use x=\"312.548828\" xlink:href=\"#DejaVuSans-32\"/>\r\n      <use x=\"344.335938\" xlink:href=\"#DejaVuSans-103\"/>\r\n      <use x=\"407.8125\" xlink:href=\"#DejaVuSans-97\"/>\r\n      <use x=\"469.091797\" xlink:href=\"#DejaVuSans-109\"/>\r\n      <use x=\"566.503906\" xlink:href=\"#DejaVuSans-109\"/>\r\n      <use x=\"663.916016\" xlink:href=\"#DejaVuSans-97\"/>\r\n     </g>\r\n    </g>\r\n   </g>\r\n   <g id=\"matplotlib.axis_2\">\r\n    <g id=\"ytick_1\">\r\n     <g id=\"line2d_39\">\r\n      <path clip-path=\"url(#pde25039411)\" d=\"M 66.007812 391.0755 \r\nL 568.207813 391.0755 \r\n\" style=\"fill:none;stroke:#000000;stroke-linecap:square;stroke-opacity:0.3;stroke-width:0.8;\"/>\r\n     </g>\r\n     <g id=\"line2d_40\">\r\n      <defs>\r\n       <path d=\"M 0 0 \r\nL -3.5 0 \r\n\" id=\"m8aba758a63\" style=\"stroke:#000000;stroke-width:0.8;\"/>\r\n      </defs>\r\n      <g>\r\n       <use style=\"stroke:#000000;stroke-width:0.8;\" x=\"66.007812\" xlink:href=\"#m8aba758a63\" y=\"391.0755\"/>\r\n      </g>\r\n     </g>\r\n     <g id=\"text_5\">\r\n      <!-- 0.01% -->\r\n      <g transform=\"translate(27.240625 394.874719)scale(0.1 -0.1)\">\r\n       <defs>\r\n        <path d=\"M 10.6875 12.40625 \r\nL 21 12.40625 \r\nL 21 0 \r\nL 10.6875 0 \r\nz\r\n\" id=\"DejaVuSans-46\"/>\r\n        <path d=\"M 72.703125 32.078125 \r\nQ 68.453125 32.078125 66.03125 28.46875 \r\nQ 63.625 24.859375 63.625 18.40625 \r\nQ 63.625 12.0625 66.03125 8.421875 \r\nQ 68.453125 4.78125 72.703125 4.78125 \r\nQ 76.859375 4.78125 79.265625 8.421875 \r\nQ 81.6875 12.0625 81.6875 18.40625 \r\nQ 81.6875 24.8125 79.265625 28.4375 \r\nQ 76.859375 32.078125 72.703125 32.078125 \r\nz\r\nM 72.703125 38.28125 \r\nQ 80.421875 38.28125 84.953125 32.90625 \r\nQ 89.5 27.546875 89.5 18.40625 \r\nQ 89.5 9.28125 84.9375 3.921875 \r\nQ 80.375 -1.421875 72.703125 -1.421875 \r\nQ 64.890625 -1.421875 60.34375 3.921875 \r\nQ 55.8125 9.28125 55.8125 18.40625 \r\nQ 55.8125 27.59375 60.375 32.9375 \r\nQ 64.9375 38.28125 72.703125 38.28125 \r\nz\r\nM 22.3125 68.015625 \r\nQ 18.109375 68.015625 15.6875 64.375 \r\nQ 13.28125 60.75 13.28125 54.390625 \r\nQ 13.28125 47.953125 15.671875 44.328125 \r\nQ 18.0625 40.71875 22.3125 40.71875 \r\nQ 26.5625 40.71875 28.96875 44.328125 \r\nQ 31.390625 47.953125 31.390625 54.390625 \r\nQ 31.390625 60.6875 28.953125 64.34375 \r\nQ 26.515625 68.015625 22.3125 68.015625 \r\nz\r\nM 66.40625 74.21875 \r\nL 74.21875 74.21875 \r\nL 28.609375 -1.421875 \r\nL 20.796875 -1.421875 \r\nz\r\nM 22.3125 74.21875 \r\nQ 30.03125 74.21875 34.609375 68.875 \r\nQ 39.203125 63.53125 39.203125 54.390625 \r\nQ 39.203125 45.171875 34.640625 39.84375 \r\nQ 30.078125 34.515625 22.3125 34.515625 \r\nQ 14.546875 34.515625 10.03125 39.859375 \r\nQ 5.515625 45.21875 5.515625 54.390625 \r\nQ 5.515625 63.484375 10.046875 68.84375 \r\nQ 14.59375 74.21875 22.3125 74.21875 \r\nz\r\n\" id=\"DejaVuSans-37\"/>\r\n       </defs>\r\n       <use xlink:href=\"#DejaVuSans-48\"/>\r\n       <use x=\"63.623047\" xlink:href=\"#DejaVuSans-46\"/>\r\n       <use x=\"95.410156\" xlink:href=\"#DejaVuSans-48\"/>\r\n       <use x=\"159.033203\" xlink:href=\"#DejaVuSans-49\"/>\r\n       <use x=\"222.65625\" xlink:href=\"#DejaVuSans-37\"/>\r\n      </g>\r\n     </g>\r\n    </g>\r\n    <g id=\"ytick_2\">\r\n     <g id=\"line2d_41\">\r\n      <path clip-path=\"url(#pde25039411)\" d=\"M 66.007812 356.922099 \r\nL 568.207813 356.922099 \r\n\" style=\"fill:none;stroke:#000000;stroke-linecap:square;stroke-opacity:0.3;stroke-width:0.8;\"/>\r\n     </g>\r\n     <g id=\"line2d_42\">\r\n      <g>\r\n       <use style=\"stroke:#000000;stroke-width:0.8;\" x=\"66.007812\" xlink:href=\"#m8aba758a63\" y=\"356.922099\"/>\r\n      </g>\r\n     </g>\r\n     <g id=\"text_6\">\r\n      <!-- 0.03% -->\r\n      <g transform=\"translate(27.240625 360.721317)scale(0.1 -0.1)\">\r\n       <use xlink:href=\"#DejaVuSans-48\"/>\r\n       <use x=\"63.623047\" xlink:href=\"#DejaVuSans-46\"/>\r\n       <use x=\"95.410156\" xlink:href=\"#DejaVuSans-48\"/>\r\n       <use x=\"159.033203\" xlink:href=\"#DejaVuSans-51\"/>\r\n       <use x=\"222.65625\" xlink:href=\"#DejaVuSans-37\"/>\r\n      </g>\r\n     </g>\r\n    </g>\r\n    <g id=\"ytick_3\">\r\n     <g id=\"line2d_43\">\r\n      <path clip-path=\"url(#pde25039411)\" d=\"M 66.007812 319.485796 \r\nL 568.207813 319.485796 \r\n\" style=\"fill:none;stroke:#000000;stroke-linecap:square;stroke-opacity:0.3;stroke-width:0.8;\"/>\r\n     </g>\r\n     <g id=\"line2d_44\">\r\n      <g>\r\n       <use style=\"stroke:#000000;stroke-width:0.8;\" x=\"66.007812\" xlink:href=\"#m8aba758a63\" y=\"319.485796\"/>\r\n      </g>\r\n     </g>\r\n     <g id=\"text_7\">\r\n      <!-- 0.10% -->\r\n      <g transform=\"translate(27.240625 323.285015)scale(0.1 -0.1)\">\r\n       <use xlink:href=\"#DejaVuSans-48\"/>\r\n       <use x=\"63.623047\" xlink:href=\"#DejaVuSans-46\"/>\r\n       <use x=\"95.410156\" xlink:href=\"#DejaVuSans-49\"/>\r\n       <use x=\"159.033203\" xlink:href=\"#DejaVuSans-48\"/>\r\n       <use x=\"222.65625\" xlink:href=\"#DejaVuSans-37\"/>\r\n      </g>\r\n     </g>\r\n    </g>\r\n    <g id=\"ytick_4\">\r\n     <g id=\"line2d_45\">\r\n      <path clip-path=\"url(#pde25039411)\" d=\"M 66.007812 297.923798 \r\nL 568.207813 297.923798 \r\n\" style=\"fill:none;stroke:#000000;stroke-linecap:square;stroke-opacity:0.3;stroke-width:0.8;\"/>\r\n     </g>\r\n     <g id=\"line2d_46\">\r\n      <g>\r\n       <use style=\"stroke:#000000;stroke-width:0.8;\" x=\"66.007812\" xlink:href=\"#m8aba758a63\" y=\"297.923798\"/>\r\n      </g>\r\n     </g>\r\n     <g id=\"text_8\">\r\n      <!-- 0.20% -->\r\n      <g transform=\"translate(27.240625 301.723017)scale(0.1 -0.1)\">\r\n       <use xlink:href=\"#DejaVuSans-48\"/>\r\n       <use x=\"63.623047\" xlink:href=\"#DejaVuSans-46\"/>\r\n       <use x=\"95.410156\" xlink:href=\"#DejaVuSans-50\"/>\r\n       <use x=\"159.033203\" xlink:href=\"#DejaVuSans-48\"/>\r\n       <use x=\"222.65625\" xlink:href=\"#DejaVuSans-37\"/>\r\n      </g>\r\n     </g>\r\n    </g>\r\n    <g id=\"ytick_5\">\r\n     <g id=\"line2d_47\">\r\n      <path clip-path=\"url(#pde25039411)\" d=\"M 66.007812 285.304367 \r\nL 568.207813 285.304367 \r\n\" style=\"fill:none;stroke:#000000;stroke-linecap:square;stroke-opacity:0.3;stroke-width:0.8;\"/>\r\n     </g>\r\n     <g id=\"line2d_48\">\r\n      <g>\r\n       <use style=\"stroke:#000000;stroke-width:0.8;\" x=\"66.007812\" xlink:href=\"#m8aba758a63\" y=\"285.304367\"/>\r\n      </g>\r\n     </g>\r\n     <g id=\"text_9\">\r\n      <!-- 0.30% -->\r\n      <g transform=\"translate(27.240625 289.103585)scale(0.1 -0.1)\">\r\n       <use xlink:href=\"#DejaVuSans-48\"/>\r\n       <use x=\"63.623047\" xlink:href=\"#DejaVuSans-46\"/>\r\n       <use x=\"95.410156\" xlink:href=\"#DejaVuSans-51\"/>\r\n       <use x=\"159.033203\" xlink:href=\"#DejaVuSans-48\"/>\r\n       <use x=\"222.65625\" xlink:href=\"#DejaVuSans-37\"/>\r\n      </g>\r\n     </g>\r\n    </g>\r\n    <g id=\"ytick_6\">\r\n     <g id=\"line2d_49\">\r\n      <path clip-path=\"url(#pde25039411)\" d=\"M 66.007812 269.394196 \r\nL 568.207813 269.394196 \r\n\" style=\"fill:none;stroke:#000000;stroke-linecap:square;stroke-opacity:0.3;stroke-width:0.8;\"/>\r\n     </g>\r\n     <g id=\"line2d_50\">\r\n      <g>\r\n       <use style=\"stroke:#000000;stroke-width:0.8;\" x=\"66.007812\" xlink:href=\"#m8aba758a63\" y=\"269.394196\"/>\r\n      </g>\r\n     </g>\r\n     <g id=\"text_10\">\r\n      <!-- 0.50% -->\r\n      <g transform=\"translate(27.240625 273.193415)scale(0.1 -0.1)\">\r\n       <defs>\r\n        <path d=\"M 10.796875 72.90625 \r\nL 49.515625 72.90625 \r\nL 49.515625 64.59375 \r\nL 19.828125 64.59375 \r\nL 19.828125 46.734375 \r\nQ 21.96875 47.46875 24.109375 47.828125 \r\nQ 26.265625 48.1875 28.421875 48.1875 \r\nQ 40.625 48.1875 47.75 41.5 \r\nQ 54.890625 34.8125 54.890625 23.390625 \r\nQ 54.890625 11.625 47.5625 5.09375 \r\nQ 40.234375 -1.421875 26.90625 -1.421875 \r\nQ 22.3125 -1.421875 17.546875 -0.640625 \r\nQ 12.796875 0.140625 7.71875 1.703125 \r\nL 7.71875 11.625 \r\nQ 12.109375 9.234375 16.796875 8.0625 \r\nQ 21.484375 6.890625 26.703125 6.890625 \r\nQ 35.15625 6.890625 40.078125 11.328125 \r\nQ 45.015625 15.765625 45.015625 23.390625 \r\nQ 45.015625 31 40.078125 35.4375 \r\nQ 35.15625 39.890625 26.703125 39.890625 \r\nQ 22.75 39.890625 18.8125 39.015625 \r\nQ 14.890625 38.140625 10.796875 36.28125 \r\nz\r\n\" id=\"DejaVuSans-53\"/>\r\n       </defs>\r\n       <use xlink:href=\"#DejaVuSans-48\"/>\r\n       <use x=\"63.623047\" xlink:href=\"#DejaVuSans-46\"/>\r\n       <use x=\"95.410156\" xlink:href=\"#DejaVuSans-53\"/>\r\n       <use x=\"159.033203\" xlink:href=\"#DejaVuSans-48\"/>\r\n       <use x=\"222.65625\" xlink:href=\"#DejaVuSans-37\"/>\r\n      </g>\r\n     </g>\r\n    </g>\r\n    <g id=\"ytick_7\">\r\n     <g id=\"line2d_51\">\r\n      <path clip-path=\"url(#pde25039411)\" d=\"M 66.007812 247.769559 \r\nL 568.207813 247.769559 \r\n\" style=\"fill:none;stroke:#000000;stroke-linecap:square;stroke-opacity:0.3;stroke-width:0.8;\"/>\r\n     </g>\r\n     <g id=\"line2d_52\">\r\n      <g>\r\n       <use style=\"stroke:#000000;stroke-width:0.8;\" x=\"66.007812\" xlink:href=\"#m8aba758a63\" y=\"247.769559\"/>\r\n      </g>\r\n     </g>\r\n     <g id=\"text_11\">\r\n      <!-- 1.00% -->\r\n      <g transform=\"translate(27.240625 251.568778)scale(0.1 -0.1)\">\r\n       <use xlink:href=\"#DejaVuSans-49\"/>\r\n       <use x=\"63.623047\" xlink:href=\"#DejaVuSans-46\"/>\r\n       <use x=\"95.410156\" xlink:href=\"#DejaVuSans-48\"/>\r\n       <use x=\"159.033203\" xlink:href=\"#DejaVuSans-48\"/>\r\n       <use x=\"222.65625\" xlink:href=\"#DejaVuSans-37\"/>\r\n      </g>\r\n     </g>\r\n    </g>\r\n    <g id=\"ytick_8\">\r\n     <g id=\"line2d_53\">\r\n      <path clip-path=\"url(#pde25039411)\" d=\"M 66.007812 226.065728 \r\nL 568.207813 226.065728 \r\n\" style=\"fill:none;stroke:#000000;stroke-linecap:square;stroke-opacity:0.3;stroke-width:0.8;\"/>\r\n     </g>\r\n     <g id=\"line2d_54\">\r\n      <g>\r\n       <use style=\"stroke:#000000;stroke-width:0.8;\" x=\"66.007812\" xlink:href=\"#m8aba758a63\" y=\"226.065728\"/>\r\n      </g>\r\n     </g>\r\n     <g id=\"text_12\">\r\n      <!-- 2.00% -->\r\n      <g transform=\"translate(27.240625 229.864947)scale(0.1 -0.1)\">\r\n       <use xlink:href=\"#DejaVuSans-50\"/>\r\n       <use x=\"63.623047\" xlink:href=\"#DejaVuSans-46\"/>\r\n       <use x=\"95.410156\" xlink:href=\"#DejaVuSans-48\"/>\r\n       <use x=\"159.033203\" xlink:href=\"#DejaVuSans-48\"/>\r\n       <use x=\"222.65625\" xlink:href=\"#DejaVuSans-37\"/>\r\n      </g>\r\n     </g>\r\n    </g>\r\n    <g id=\"ytick_9\">\r\n     <g id=\"line2d_55\">\r\n      <path clip-path=\"url(#pde25039411)\" d=\"M 66.007812 213.303133 \r\nL 568.207813 213.303133 \r\n\" style=\"fill:none;stroke:#000000;stroke-linecap:square;stroke-opacity:0.3;stroke-width:0.8;\"/>\r\n     </g>\r\n     <g id=\"line2d_56\">\r\n      <g>\r\n       <use style=\"stroke:#000000;stroke-width:0.8;\" x=\"66.007812\" xlink:href=\"#m8aba758a63\" y=\"213.303133\"/>\r\n      </g>\r\n     </g>\r\n     <g id=\"text_13\">\r\n      <!-- 3.00% -->\r\n      <g transform=\"translate(27.240625 217.102352)scale(0.1 -0.1)\">\r\n       <use xlink:href=\"#DejaVuSans-51\"/>\r\n       <use x=\"63.623047\" xlink:href=\"#DejaVuSans-46\"/>\r\n       <use x=\"95.410156\" xlink:href=\"#DejaVuSans-48\"/>\r\n       <use x=\"159.033203\" xlink:href=\"#DejaVuSans-48\"/>\r\n       <use x=\"222.65625\" xlink:href=\"#DejaVuSans-37\"/>\r\n      </g>\r\n     </g>\r\n    </g>\r\n    <g id=\"ytick_10\">\r\n     <g id=\"line2d_57\">\r\n      <path clip-path=\"url(#pde25039411)\" d=\"M 66.007812 197.102544 \r\nL 568.207813 197.102544 \r\n\" style=\"fill:none;stroke:#000000;stroke-linecap:square;stroke-opacity:0.3;stroke-width:0.8;\"/>\r\n     </g>\r\n     <g id=\"line2d_58\">\r\n      <g>\r\n       <use style=\"stroke:#000000;stroke-width:0.8;\" x=\"66.007812\" xlink:href=\"#m8aba758a63\" y=\"197.102544\"/>\r\n      </g>\r\n     </g>\r\n     <g id=\"text_14\">\r\n      <!-- 5.00% -->\r\n      <g transform=\"translate(27.240625 200.901763)scale(0.1 -0.1)\">\r\n       <use xlink:href=\"#DejaVuSans-53\"/>\r\n       <use x=\"63.623047\" xlink:href=\"#DejaVuSans-46\"/>\r\n       <use x=\"95.410156\" xlink:href=\"#DejaVuSans-48\"/>\r\n       <use x=\"159.033203\" xlink:href=\"#DejaVuSans-48\"/>\r\n       <use x=\"222.65625\" xlink:href=\"#DejaVuSans-37\"/>\r\n      </g>\r\n     </g>\r\n    </g>\r\n    <g id=\"ytick_11\">\r\n     <g id=\"line2d_59\">\r\n      <path clip-path=\"url(#pde25039411)\" d=\"M 66.007812 174.72674 \r\nL 568.207813 174.72674 \r\n\" style=\"fill:none;stroke:#000000;stroke-linecap:square;stroke-opacity:0.3;stroke-width:0.8;\"/>\r\n     </g>\r\n     <g id=\"line2d_60\">\r\n      <g>\r\n       <use style=\"stroke:#000000;stroke-width:0.8;\" x=\"66.007812\" xlink:href=\"#m8aba758a63\" y=\"174.72674\"/>\r\n      </g>\r\n     </g>\r\n     <g id=\"text_15\">\r\n      <!-- 10.00% -->\r\n      <g transform=\"translate(20.878125 178.525958)scale(0.1 -0.1)\">\r\n       <use xlink:href=\"#DejaVuSans-49\"/>\r\n       <use x=\"63.623047\" xlink:href=\"#DejaVuSans-48\"/>\r\n       <use x=\"127.246094\" xlink:href=\"#DejaVuSans-46\"/>\r\n       <use x=\"159.033203\" xlink:href=\"#DejaVuSans-48\"/>\r\n       <use x=\"222.65625\" xlink:href=\"#DejaVuSans-48\"/>\r\n       <use x=\"286.279297\" xlink:href=\"#DejaVuSans-37\"/>\r\n      </g>\r\n     </g>\r\n    </g>\r\n    <g id=\"ytick_12\">\r\n     <g id=\"line2d_61\">\r\n      <path clip-path=\"url(#pde25039411)\" d=\"M 66.007812 151.399754 \r\nL 568.207813 151.399754 \r\n\" style=\"fill:none;stroke:#000000;stroke-linecap:square;stroke-opacity:0.3;stroke-width:0.8;\"/>\r\n     </g>\r\n     <g id=\"line2d_62\">\r\n      <g>\r\n       <use style=\"stroke:#000000;stroke-width:0.8;\" x=\"66.007812\" xlink:href=\"#m8aba758a63\" y=\"151.399754\"/>\r\n      </g>\r\n     </g>\r\n     <g id=\"text_16\">\r\n      <!-- 20.00% -->\r\n      <g transform=\"translate(20.878125 155.198973)scale(0.1 -0.1)\">\r\n       <use xlink:href=\"#DejaVuSans-50\"/>\r\n       <use x=\"63.623047\" xlink:href=\"#DejaVuSans-48\"/>\r\n       <use x=\"127.246094\" xlink:href=\"#DejaVuSans-46\"/>\r\n       <use x=\"159.033203\" xlink:href=\"#DejaVuSans-48\"/>\r\n       <use x=\"222.65625\" xlink:href=\"#DejaVuSans-48\"/>\r\n       <use x=\"286.279297\" xlink:href=\"#DejaVuSans-37\"/>\r\n      </g>\r\n     </g>\r\n    </g>\r\n    <g id=\"ytick_13\">\r\n     <g id=\"line2d_63\">\r\n      <path clip-path=\"url(#pde25039411)\" d=\"M 66.007812 136.820622 \r\nL 568.207813 136.820622 \r\n\" style=\"fill:none;stroke:#000000;stroke-linecap:square;stroke-opacity:0.3;stroke-width:0.8;\"/>\r\n     </g>\r\n     <g id=\"line2d_64\">\r\n      <g>\r\n       <use style=\"stroke:#000000;stroke-width:0.8;\" x=\"66.007812\" xlink:href=\"#m8aba758a63\" y=\"136.820622\"/>\r\n      </g>\r\n     </g>\r\n     <g id=\"text_17\">\r\n      <!-- 30.00% -->\r\n      <g transform=\"translate(20.878125 140.619841)scale(0.1 -0.1)\">\r\n       <use xlink:href=\"#DejaVuSans-51\"/>\r\n       <use x=\"63.623047\" xlink:href=\"#DejaVuSans-48\"/>\r\n       <use x=\"127.246094\" xlink:href=\"#DejaVuSans-46\"/>\r\n       <use x=\"159.033203\" xlink:href=\"#DejaVuSans-48\"/>\r\n       <use x=\"222.65625\" xlink:href=\"#DejaVuSans-48\"/>\r\n       <use x=\"286.279297\" xlink:href=\"#DejaVuSans-37\"/>\r\n      </g>\r\n     </g>\r\n    </g>\r\n    <g id=\"ytick_14\">\r\n     <g id=\"line2d_65\">\r\n      <path clip-path=\"url(#pde25039411)\" d=\"M 66.007812 125.654806 \r\nL 568.207813 125.654806 \r\n\" style=\"fill:none;stroke:#000000;stroke-linecap:square;stroke-opacity:0.3;stroke-width:0.8;\"/>\r\n     </g>\r\n     <g id=\"line2d_66\">\r\n      <g>\r\n       <use style=\"stroke:#000000;stroke-width:0.8;\" x=\"66.007812\" xlink:href=\"#m8aba758a63\" y=\"125.654806\"/>\r\n      </g>\r\n     </g>\r\n     <g id=\"text_18\">\r\n      <!-- 40.00% -->\r\n      <g transform=\"translate(20.878125 129.454025)scale(0.1 -0.1)\">\r\n       <defs>\r\n        <path d=\"M 37.796875 64.3125 \r\nL 12.890625 25.390625 \r\nL 37.796875 25.390625 \r\nz\r\nM 35.203125 72.90625 \r\nL 47.609375 72.90625 \r\nL 47.609375 25.390625 \r\nL 58.015625 25.390625 \r\nL 58.015625 17.1875 \r\nL 47.609375 17.1875 \r\nL 47.609375 0 \r\nL 37.796875 0 \r\nL 37.796875 17.1875 \r\nL 4.890625 17.1875 \r\nL 4.890625 26.703125 \r\nz\r\n\" id=\"DejaVuSans-52\"/>\r\n       </defs>\r\n       <use xlink:href=\"#DejaVuSans-52\"/>\r\n       <use x=\"63.623047\" xlink:href=\"#DejaVuSans-48\"/>\r\n       <use x=\"127.246094\" xlink:href=\"#DejaVuSans-46\"/>\r\n       <use x=\"159.033203\" xlink:href=\"#DejaVuSans-48\"/>\r\n       <use x=\"222.65625\" xlink:href=\"#DejaVuSans-48\"/>\r\n       <use x=\"286.279297\" xlink:href=\"#DejaVuSans-37\"/>\r\n      </g>\r\n     </g>\r\n    </g>\r\n    <g id=\"ytick_15\">\r\n     <g id=\"line2d_67\">\r\n      <path clip-path=\"url(#pde25039411)\" d=\"M 66.007812 116.167247 \r\nL 568.207813 116.167247 \r\n\" style=\"fill:none;stroke:#000000;stroke-linecap:square;stroke-opacity:0.3;stroke-width:0.8;\"/>\r\n     </g>\r\n     <g id=\"line2d_68\">\r\n      <g>\r\n       <use style=\"stroke:#000000;stroke-width:0.8;\" x=\"66.007812\" xlink:href=\"#m8aba758a63\" y=\"116.167247\"/>\r\n      </g>\r\n     </g>\r\n     <g id=\"text_19\">\r\n      <!-- 50.00% -->\r\n      <g transform=\"translate(20.878125 119.966465)scale(0.1 -0.1)\">\r\n       <use xlink:href=\"#DejaVuSans-53\"/>\r\n       <use x=\"63.623047\" xlink:href=\"#DejaVuSans-48\"/>\r\n       <use x=\"127.246094\" xlink:href=\"#DejaVuSans-46\"/>\r\n       <use x=\"159.033203\" xlink:href=\"#DejaVuSans-48\"/>\r\n       <use x=\"222.65625\" xlink:href=\"#DejaVuSans-48\"/>\r\n       <use x=\"286.279297\" xlink:href=\"#DejaVuSans-37\"/>\r\n      </g>\r\n     </g>\r\n    </g>\r\n    <g id=\"ytick_16\">\r\n     <g id=\"line2d_69\">\r\n      <path clip-path=\"url(#pde25039411)\" d=\"M 66.007812 107.49171 \r\nL 568.207813 107.49171 \r\n\" style=\"fill:none;stroke:#000000;stroke-linecap:square;stroke-opacity:0.3;stroke-width:0.8;\"/>\r\n     </g>\r\n     <g id=\"line2d_70\">\r\n      <g>\r\n       <use style=\"stroke:#000000;stroke-width:0.8;\" x=\"66.007812\" xlink:href=\"#m8aba758a63\" y=\"107.49171\"/>\r\n      </g>\r\n     </g>\r\n     <g id=\"text_20\">\r\n      <!-- 60.00% -->\r\n      <g transform=\"translate(20.878125 111.290929)scale(0.1 -0.1)\">\r\n       <defs>\r\n        <path d=\"M 33.015625 40.375 \r\nQ 26.375 40.375 22.484375 35.828125 \r\nQ 18.609375 31.296875 18.609375 23.390625 \r\nQ 18.609375 15.53125 22.484375 10.953125 \r\nQ 26.375 6.390625 33.015625 6.390625 \r\nQ 39.65625 6.390625 43.53125 10.953125 \r\nQ 47.40625 15.53125 47.40625 23.390625 \r\nQ 47.40625 31.296875 43.53125 35.828125 \r\nQ 39.65625 40.375 33.015625 40.375 \r\nz\r\nM 52.59375 71.296875 \r\nL 52.59375 62.3125 \r\nQ 48.875 64.0625 45.09375 64.984375 \r\nQ 41.3125 65.921875 37.59375 65.921875 \r\nQ 27.828125 65.921875 22.671875 59.328125 \r\nQ 17.53125 52.734375 16.796875 39.40625 \r\nQ 19.671875 43.65625 24.015625 45.921875 \r\nQ 28.375 48.1875 33.59375 48.1875 \r\nQ 44.578125 48.1875 50.953125 41.515625 \r\nQ 57.328125 34.859375 57.328125 23.390625 \r\nQ 57.328125 12.15625 50.6875 5.359375 \r\nQ 44.046875 -1.421875 33.015625 -1.421875 \r\nQ 20.359375 -1.421875 13.671875 8.265625 \r\nQ 6.984375 17.96875 6.984375 36.375 \r\nQ 6.984375 53.65625 15.1875 63.9375 \r\nQ 23.390625 74.21875 37.203125 74.21875 \r\nQ 40.921875 74.21875 44.703125 73.484375 \r\nQ 48.484375 72.75 52.59375 71.296875 \r\nz\r\n\" id=\"DejaVuSans-54\"/>\r\n       </defs>\r\n       <use xlink:href=\"#DejaVuSans-54\"/>\r\n       <use x=\"63.623047\" xlink:href=\"#DejaVuSans-48\"/>\r\n       <use x=\"127.246094\" xlink:href=\"#DejaVuSans-46\"/>\r\n       <use x=\"159.033203\" xlink:href=\"#DejaVuSans-48\"/>\r\n       <use x=\"222.65625\" xlink:href=\"#DejaVuSans-48\"/>\r\n       <use x=\"286.279297\" xlink:href=\"#DejaVuSans-37\"/>\r\n      </g>\r\n     </g>\r\n    </g>\r\n    <g id=\"ytick_17\">\r\n     <g id=\"line2d_71\">\r\n      <path clip-path=\"url(#pde25039411)\" d=\"M 66.007812 99.00402 \r\nL 568.207813 99.00402 \r\n\" style=\"fill:none;stroke:#000000;stroke-linecap:square;stroke-opacity:0.3;stroke-width:0.8;\"/>\r\n     </g>\r\n     <g id=\"line2d_72\">\r\n      <g>\r\n       <use style=\"stroke:#000000;stroke-width:0.8;\" x=\"66.007812\" xlink:href=\"#m8aba758a63\" y=\"99.00402\"/>\r\n      </g>\r\n     </g>\r\n     <g id=\"text_21\">\r\n      <!-- 70.00% -->\r\n      <g transform=\"translate(20.878125 102.803239)scale(0.1 -0.1)\">\r\n       <defs>\r\n        <path d=\"M 8.203125 72.90625 \r\nL 55.078125 72.90625 \r\nL 55.078125 68.703125 \r\nL 28.609375 0 \r\nL 18.3125 0 \r\nL 43.21875 64.59375 \r\nL 8.203125 64.59375 \r\nz\r\n\" id=\"DejaVuSans-55\"/>\r\n       </defs>\r\n       <use xlink:href=\"#DejaVuSans-55\"/>\r\n       <use x=\"63.623047\" xlink:href=\"#DejaVuSans-48\"/>\r\n       <use x=\"127.246094\" xlink:href=\"#DejaVuSans-46\"/>\r\n       <use x=\"159.033203\" xlink:href=\"#DejaVuSans-48\"/>\r\n       <use x=\"222.65625\" xlink:href=\"#DejaVuSans-48\"/>\r\n       <use x=\"286.279297\" xlink:href=\"#DejaVuSans-37\"/>\r\n      </g>\r\n     </g>\r\n    </g>\r\n    <g id=\"ytick_18\">\r\n     <g id=\"line2d_73\">\r\n      <path clip-path=\"url(#pde25039411)\" d=\"M 66.007812 89.981362 \r\nL 568.207813 89.981362 \r\n\" style=\"fill:none;stroke:#000000;stroke-linecap:square;stroke-opacity:0.3;stroke-width:0.8;\"/>\r\n     </g>\r\n     <g id=\"line2d_74\">\r\n      <g>\r\n       <use style=\"stroke:#000000;stroke-width:0.8;\" x=\"66.007812\" xlink:href=\"#m8aba758a63\" y=\"89.981362\"/>\r\n      </g>\r\n     </g>\r\n     <g id=\"text_22\">\r\n      <!-- 80.00% -->\r\n      <g transform=\"translate(20.878125 93.78058)scale(0.1 -0.1)\">\r\n       <defs>\r\n        <path d=\"M 31.78125 34.625 \r\nQ 24.75 34.625 20.71875 30.859375 \r\nQ 16.703125 27.09375 16.703125 20.515625 \r\nQ 16.703125 13.921875 20.71875 10.15625 \r\nQ 24.75 6.390625 31.78125 6.390625 \r\nQ 38.8125 6.390625 42.859375 10.171875 \r\nQ 46.921875 13.96875 46.921875 20.515625 \r\nQ 46.921875 27.09375 42.890625 30.859375 \r\nQ 38.875 34.625 31.78125 34.625 \r\nz\r\nM 21.921875 38.8125 \r\nQ 15.578125 40.375 12.03125 44.71875 \r\nQ 8.5 49.078125 8.5 55.328125 \r\nQ 8.5 64.0625 14.71875 69.140625 \r\nQ 20.953125 74.21875 31.78125 74.21875 \r\nQ 42.671875 74.21875 48.875 69.140625 \r\nQ 55.078125 64.0625 55.078125 55.328125 \r\nQ 55.078125 49.078125 51.53125 44.71875 \r\nQ 48 40.375 41.703125 38.8125 \r\nQ 48.828125 37.15625 52.796875 32.3125 \r\nQ 56.78125 27.484375 56.78125 20.515625 \r\nQ 56.78125 9.90625 50.3125 4.234375 \r\nQ 43.84375 -1.421875 31.78125 -1.421875 \r\nQ 19.734375 -1.421875 13.25 4.234375 \r\nQ 6.78125 9.90625 6.78125 20.515625 \r\nQ 6.78125 27.484375 10.78125 32.3125 \r\nQ 14.796875 37.15625 21.921875 38.8125 \r\nz\r\nM 18.3125 54.390625 \r\nQ 18.3125 48.734375 21.84375 45.5625 \r\nQ 25.390625 42.390625 31.78125 42.390625 \r\nQ 38.140625 42.390625 41.71875 45.5625 \r\nQ 45.3125 48.734375 45.3125 54.390625 \r\nQ 45.3125 60.0625 41.71875 63.234375 \r\nQ 38.140625 66.40625 31.78125 66.40625 \r\nQ 25.390625 66.40625 21.84375 63.234375 \r\nQ 18.3125 60.0625 18.3125 54.390625 \r\nz\r\n\" id=\"DejaVuSans-56\"/>\r\n       </defs>\r\n       <use xlink:href=\"#DejaVuSans-56\"/>\r\n       <use x=\"63.623047\" xlink:href=\"#DejaVuSans-48\"/>\r\n       <use x=\"127.246094\" xlink:href=\"#DejaVuSans-46\"/>\r\n       <use x=\"159.033203\" xlink:href=\"#DejaVuSans-48\"/>\r\n       <use x=\"222.65625\" xlink:href=\"#DejaVuSans-48\"/>\r\n       <use x=\"286.279297\" xlink:href=\"#DejaVuSans-37\"/>\r\n      </g>\r\n     </g>\r\n    </g>\r\n    <g id=\"ytick_19\">\r\n     <g id=\"line2d_75\">\r\n      <path clip-path=\"url(#pde25039411)\" d=\"M 66.007812 78.848371 \r\nL 568.207813 78.848371 \r\n\" style=\"fill:none;stroke:#000000;stroke-linecap:square;stroke-opacity:0.3;stroke-width:0.8;\"/>\r\n     </g>\r\n     <g id=\"line2d_76\">\r\n      <g>\r\n       <use style=\"stroke:#000000;stroke-width:0.8;\" x=\"66.007812\" xlink:href=\"#m8aba758a63\" y=\"78.848371\"/>\r\n      </g>\r\n     </g>\r\n     <g id=\"text_23\">\r\n      <!-- 90.00% -->\r\n      <g transform=\"translate(20.878125 82.64759)scale(0.1 -0.1)\">\r\n       <defs>\r\n        <path d=\"M 10.984375 1.515625 \r\nL 10.984375 10.5 \r\nQ 14.703125 8.734375 18.5 7.8125 \r\nQ 22.3125 6.890625 25.984375 6.890625 \r\nQ 35.75 6.890625 40.890625 13.453125 \r\nQ 46.046875 20.015625 46.78125 33.40625 \r\nQ 43.953125 29.203125 39.59375 26.953125 \r\nQ 35.25 24.703125 29.984375 24.703125 \r\nQ 19.046875 24.703125 12.671875 31.3125 \r\nQ 6.296875 37.9375 6.296875 49.421875 \r\nQ 6.296875 60.640625 12.9375 67.421875 \r\nQ 19.578125 74.21875 30.609375 74.21875 \r\nQ 43.265625 74.21875 49.921875 64.515625 \r\nQ 56.59375 54.828125 56.59375 36.375 \r\nQ 56.59375 19.140625 48.40625 8.859375 \r\nQ 40.234375 -1.421875 26.421875 -1.421875 \r\nQ 22.703125 -1.421875 18.890625 -0.6875 \r\nQ 15.09375 0.046875 10.984375 1.515625 \r\nz\r\nM 30.609375 32.421875 \r\nQ 37.25 32.421875 41.125 36.953125 \r\nQ 45.015625 41.5 45.015625 49.421875 \r\nQ 45.015625 57.28125 41.125 61.84375 \r\nQ 37.25 66.40625 30.609375 66.40625 \r\nQ 23.96875 66.40625 20.09375 61.84375 \r\nQ 16.21875 57.28125 16.21875 49.421875 \r\nQ 16.21875 41.5 20.09375 36.953125 \r\nQ 23.96875 32.421875 30.609375 32.421875 \r\nz\r\n\" id=\"DejaVuSans-57\"/>\r\n       </defs>\r\n       <use xlink:href=\"#DejaVuSans-57\"/>\r\n       <use x=\"63.623047\" xlink:href=\"#DejaVuSans-48\"/>\r\n       <use x=\"127.246094\" xlink:href=\"#DejaVuSans-46\"/>\r\n       <use x=\"159.033203\" xlink:href=\"#DejaVuSans-48\"/>\r\n       <use x=\"222.65625\" xlink:href=\"#DejaVuSans-48\"/>\r\n       <use x=\"286.279297\" xlink:href=\"#DejaVuSans-37\"/>\r\n      </g>\r\n     </g>\r\n    </g>\r\n    <g id=\"ytick_20\">\r\n     <g id=\"line2d_77\">\r\n      <path clip-path=\"url(#pde25039411)\" d=\"M 66.007812 70.668176 \r\nL 568.207813 70.668176 \r\n\" style=\"fill:none;stroke:#000000;stroke-linecap:square;stroke-opacity:0.3;stroke-width:0.8;\"/>\r\n     </g>\r\n     <g id=\"line2d_78\">\r\n      <g>\r\n       <use style=\"stroke:#000000;stroke-width:0.8;\" x=\"66.007812\" xlink:href=\"#m8aba758a63\" y=\"70.668176\"/>\r\n      </g>\r\n     </g>\r\n     <g id=\"text_24\">\r\n      <!-- 95.00% -->\r\n      <g transform=\"translate(20.878125 74.467395)scale(0.1 -0.1)\">\r\n       <use xlink:href=\"#DejaVuSans-57\"/>\r\n       <use x=\"63.623047\" xlink:href=\"#DejaVuSans-53\"/>\r\n       <use x=\"127.246094\" xlink:href=\"#DejaVuSans-46\"/>\r\n       <use x=\"159.033203\" xlink:href=\"#DejaVuSans-48\"/>\r\n       <use x=\"222.65625\" xlink:href=\"#DejaVuSans-48\"/>\r\n       <use x=\"286.279297\" xlink:href=\"#DejaVuSans-37\"/>\r\n      </g>\r\n     </g>\r\n    </g>\r\n    <g id=\"ytick_21\">\r\n     <g id=\"line2d_79\">\r\n      <path clip-path=\"url(#pde25039411)\" d=\"M 66.007812 57.301936 \r\nL 568.207813 57.301936 \r\n\" style=\"fill:none;stroke:#000000;stroke-linecap:square;stroke-opacity:0.3;stroke-width:0.8;\"/>\r\n     </g>\r\n     <g id=\"line2d_80\">\r\n      <g>\r\n       <use style=\"stroke:#000000;stroke-width:0.8;\" x=\"66.007812\" xlink:href=\"#m8aba758a63\" y=\"57.301936\"/>\r\n      </g>\r\n     </g>\r\n     <g id=\"text_25\">\r\n      <!-- 99.00% -->\r\n      <g transform=\"translate(20.878125 61.101154)scale(0.1 -0.1)\">\r\n       <use xlink:href=\"#DejaVuSans-57\"/>\r\n       <use x=\"63.623047\" xlink:href=\"#DejaVuSans-57\"/>\r\n       <use x=\"127.246094\" xlink:href=\"#DejaVuSans-46\"/>\r\n       <use x=\"159.033203\" xlink:href=\"#DejaVuSans-48\"/>\r\n       <use x=\"222.65625\" xlink:href=\"#DejaVuSans-48\"/>\r\n       <use x=\"286.279297\" xlink:href=\"#DejaVuSans-37\"/>\r\n      </g>\r\n     </g>\r\n    </g>\r\n    <g id=\"ytick_22\">\r\n     <g id=\"line2d_81\">\r\n      <path clip-path=\"url(#pde25039411)\" d=\"M 66.007812 44.698079 \r\nL 568.207813 44.698079 \r\n\" style=\"fill:none;stroke:#000000;stroke-linecap:square;stroke-opacity:0.3;stroke-width:0.8;\"/>\r\n     </g>\r\n     <g id=\"line2d_82\">\r\n      <g>\r\n       <use style=\"stroke:#000000;stroke-width:0.8;\" x=\"66.007812\" xlink:href=\"#m8aba758a63\" y=\"44.698079\"/>\r\n      </g>\r\n     </g>\r\n     <g id=\"text_26\">\r\n      <!-- 99.90% -->\r\n      <g transform=\"translate(20.878125 48.497297)scale(0.1 -0.1)\">\r\n       <use xlink:href=\"#DejaVuSans-57\"/>\r\n       <use x=\"63.623047\" xlink:href=\"#DejaVuSans-57\"/>\r\n       <use x=\"127.246094\" xlink:href=\"#DejaVuSans-46\"/>\r\n       <use x=\"159.033203\" xlink:href=\"#DejaVuSans-57\"/>\r\n       <use x=\"222.65625\" xlink:href=\"#DejaVuSans-48\"/>\r\n       <use x=\"286.279297\" xlink:href=\"#DejaVuSans-37\"/>\r\n      </g>\r\n     </g>\r\n    </g>\r\n    <g id=\"ytick_23\">\r\n     <g id=\"line2d_83\">\r\n      <path clip-path=\"url(#pde25039411)\" d=\"M 66.007812 35.7555 \r\nL 568.207813 35.7555 \r\n\" style=\"fill:none;stroke:#000000;stroke-linecap:square;stroke-opacity:0.3;stroke-width:0.8;\"/>\r\n     </g>\r\n     <g id=\"line2d_84\">\r\n      <g>\r\n       <use style=\"stroke:#000000;stroke-width:0.8;\" x=\"66.007812\" xlink:href=\"#m8aba758a63\" y=\"35.7555\"/>\r\n      </g>\r\n     </g>\r\n     <g id=\"text_27\">\r\n      <!-- 99.99% -->\r\n      <g transform=\"translate(20.878125 39.554719)scale(0.1 -0.1)\">\r\n       <use xlink:href=\"#DejaVuSans-57\"/>\r\n       <use x=\"63.623047\" xlink:href=\"#DejaVuSans-57\"/>\r\n       <use x=\"127.246094\" xlink:href=\"#DejaVuSans-46\"/>\r\n       <use x=\"159.033203\" xlink:href=\"#DejaVuSans-57\"/>\r\n       <use x=\"222.65625\" xlink:href=\"#DejaVuSans-57\"/>\r\n       <use x=\"286.279297\" xlink:href=\"#DejaVuSans-37\"/>\r\n      </g>\r\n     </g>\r\n    </g>\r\n    <g id=\"ytick_24\">\r\n     <g id=\"line2d_85\">\r\n      <path clip-path=\"url(#pde25039411)\" d=\"M 66.007812 204.200448 \r\nL 568.207813 204.200448 \r\n\" style=\"fill:none;stroke:#000000;stroke-linecap:square;stroke-opacity:0.08;stroke-width:0.8;\"/>\r\n     </g>\r\n     <g id=\"line2d_86\">\r\n      <defs>\r\n       <path d=\"M 0 0 \r\nL -2 0 \r\n\" id=\"m240c8a31ca\" style=\"stroke:#000000;stroke-width:0.6;\"/>\r\n      </defs>\r\n      <g>\r\n       <use style=\"stroke:#000000;stroke-width:0.6;\" x=\"66.007812\" xlink:href=\"#m240c8a31ca\" y=\"204.200448\"/>\r\n      </g>\r\n     </g>\r\n    </g>\r\n    <g id=\"ytick_25\">\r\n     <g id=\"line2d_87\">\r\n      <path clip-path=\"url(#pde25039411)\" d=\"M 66.007812 191.272169 \r\nL 568.207813 191.272169 \r\n\" style=\"fill:none;stroke:#000000;stroke-linecap:square;stroke-opacity:0.08;stroke-width:0.8;\"/>\r\n     </g>\r\n     <g id=\"line2d_88\">\r\n      <g>\r\n       <use style=\"stroke:#000000;stroke-width:0.6;\" x=\"66.007812\" xlink:href=\"#m240c8a31ca\" y=\"191.272169\"/>\r\n      </g>\r\n     </g>\r\n    </g>\r\n    <g id=\"ytick_26\">\r\n     <g id=\"line2d_89\">\r\n      <path clip-path=\"url(#pde25039411)\" d=\"M 66.007812 181.999377 \r\nL 568.207813 181.999377 \r\n\" style=\"fill:none;stroke:#000000;stroke-linecap:square;stroke-opacity:0.08;stroke-width:0.8;\"/>\r\n     </g>\r\n     <g id=\"line2d_90\">\r\n      <g>\r\n       <use style=\"stroke:#000000;stroke-width:0.6;\" x=\"66.007812\" xlink:href=\"#m240c8a31ca\" y=\"181.999377\"/>\r\n      </g>\r\n     </g>\r\n    </g>\r\n    <g id=\"ytick_27\">\r\n     <g id=\"line2d_91\">\r\n      <path clip-path=\"url(#pde25039411)\" d=\"M 66.007812 168.716788 \r\nL 568.207813 168.716788 \r\n\" style=\"fill:none;stroke:#000000;stroke-linecap:square;stroke-opacity:0.08;stroke-width:0.8;\"/>\r\n     </g>\r\n     <g id=\"line2d_92\">\r\n      <g>\r\n       <use style=\"stroke:#000000;stroke-width:0.6;\" x=\"66.007812\" xlink:href=\"#m240c8a31ca\" y=\"168.716788\"/>\r\n      </g>\r\n     </g>\r\n    </g>\r\n    <g id=\"ytick_28\">\r\n     <g id=\"line2d_93\">\r\n      <path clip-path=\"url(#pde25039411)\" d=\"M 66.007812 163.576005 \r\nL 568.207813 163.576005 \r\n\" style=\"fill:none;stroke:#000000;stroke-linecap:square;stroke-opacity:0.08;stroke-width:0.8;\"/>\r\n     </g>\r\n     <g id=\"line2d_94\">\r\n      <g>\r\n       <use style=\"stroke:#000000;stroke-width:0.6;\" x=\"66.007812\" xlink:href=\"#m240c8a31ca\" y=\"163.576005\"/>\r\n      </g>\r\n     </g>\r\n    </g>\r\n    <g id=\"ytick_29\">\r\n     <g id=\"line2d_95\">\r\n      <path clip-path=\"url(#pde25039411)\" d=\"M 66.007812 159.069374 \r\nL 568.207813 159.069374 \r\n\" style=\"fill:none;stroke:#000000;stroke-linecap:square;stroke-opacity:0.08;stroke-width:0.8;\"/>\r\n     </g>\r\n     <g id=\"line2d_96\">\r\n      <g>\r\n       <use style=\"stroke:#000000;stroke-width:0.6;\" x=\"66.007812\" xlink:href=\"#m240c8a31ca\" y=\"159.069374\"/>\r\n      </g>\r\n     </g>\r\n    </g>\r\n    <g id=\"ytick_30\">\r\n     <g id=\"line2d_97\">\r\n      <path clip-path=\"url(#pde25039411)\" d=\"M 66.007812 155.04519 \r\nL 568.207813 155.04519 \r\n\" style=\"fill:none;stroke:#000000;stroke-linecap:square;stroke-opacity:0.08;stroke-width:0.8;\"/>\r\n     </g>\r\n     <g id=\"line2d_98\">\r\n      <g>\r\n       <use style=\"stroke:#000000;stroke-width:0.6;\" x=\"66.007812\" xlink:href=\"#m240c8a31ca\" y=\"155.04519\"/>\r\n      </g>\r\n     </g>\r\n    </g>\r\n    <g id=\"ytick_31\">\r\n     <g id=\"line2d_99\">\r\n      <path clip-path=\"url(#pde25039411)\" d=\"M 66.007812 148.058992 \r\nL 568.207813 148.058992 \r\n\" style=\"fill:none;stroke:#000000;stroke-linecap:square;stroke-opacity:0.08;stroke-width:0.8;\"/>\r\n     </g>\r\n     <g id=\"line2d_100\">\r\n      <g>\r\n       <use style=\"stroke:#000000;stroke-width:0.6;\" x=\"66.007812\" xlink:href=\"#m240c8a31ca\" y=\"148.058992\"/>\r\n      </g>\r\n     </g>\r\n    </g>\r\n    <g id=\"ytick_32\">\r\n     <g id=\"line2d_101\">\r\n      <path clip-path=\"url(#pde25039411)\" d=\"M 66.007812 144.968098 \r\nL 568.207813 144.968098 \r\n\" style=\"fill:none;stroke:#000000;stroke-linecap:square;stroke-opacity:0.08;stroke-width:0.8;\"/>\r\n     </g>\r\n     <g id=\"line2d_102\">\r\n      <g>\r\n       <use style=\"stroke:#000000;stroke-width:0.6;\" x=\"66.007812\" xlink:href=\"#m240c8a31ca\" y=\"144.968098\"/>\r\n      </g>\r\n     </g>\r\n    </g>\r\n    <g id=\"ytick_33\">\r\n     <g id=\"line2d_103\">\r\n      <path clip-path=\"url(#pde25039411)\" d=\"M 66.007812 142.085338 \r\nL 568.207813 142.085338 \r\n\" style=\"fill:none;stroke:#000000;stroke-linecap:square;stroke-opacity:0.08;stroke-width:0.8;\"/>\r\n     </g>\r\n     <g id=\"line2d_104\">\r\n      <g>\r\n       <use style=\"stroke:#000000;stroke-width:0.6;\" x=\"66.007812\" xlink:href=\"#m240c8a31ca\" y=\"142.085338\"/>\r\n      </g>\r\n     </g>\r\n    </g>\r\n    <g id=\"ytick_34\">\r\n     <g id=\"line2d_105\">\r\n      <path clip-path=\"url(#pde25039411)\" d=\"M 66.007812 139.378155 \r\nL 568.207813 139.378155 \r\n\" style=\"fill:none;stroke:#000000;stroke-linecap:square;stroke-opacity:0.08;stroke-width:0.8;\"/>\r\n     </g>\r\n     <g id=\"line2d_106\">\r\n      <g>\r\n       <use style=\"stroke:#000000;stroke-width:0.6;\" x=\"66.007812\" xlink:href=\"#m240c8a31ca\" y=\"139.378155\"/>\r\n      </g>\r\n     </g>\r\n    </g>\r\n    <g id=\"ytick_35\">\r\n     <g id=\"line2d_107\">\r\n      <path clip-path=\"url(#pde25039411)\" d=\"M 66.007812 134.391716 \r\nL 568.207813 134.391716 \r\n\" style=\"fill:none;stroke:#000000;stroke-linecap:square;stroke-opacity:0.08;stroke-width:0.8;\"/>\r\n     </g>\r\n     <g id=\"line2d_108\">\r\n      <g>\r\n       <use style=\"stroke:#000000;stroke-width:0.6;\" x=\"66.007812\" xlink:href=\"#m240c8a31ca\" y=\"134.391716\"/>\r\n      </g>\r\n     </g>\r\n    </g>\r\n    <g id=\"ytick_36\">\r\n     <g id=\"line2d_109\">\r\n      <path clip-path=\"url(#pde25039411)\" d=\"M 66.007812 132.07411 \r\nL 568.207813 132.07411 \r\n\" style=\"fill:none;stroke:#000000;stroke-linecap:square;stroke-opacity:0.08;stroke-width:0.8;\"/>\r\n     </g>\r\n     <g id=\"line2d_110\">\r\n      <g>\r\n       <use style=\"stroke:#000000;stroke-width:0.6;\" x=\"66.007812\" xlink:href=\"#m240c8a31ca\" y=\"132.07411\"/>\r\n      </g>\r\n     </g>\r\n    </g>\r\n    <g id=\"ytick_37\">\r\n     <g id=\"line2d_111\">\r\n      <path clip-path=\"url(#pde25039411)\" d=\"M 66.007812 129.853319 \r\nL 568.207813 129.853319 \r\n\" style=\"fill:none;stroke:#000000;stroke-linecap:square;stroke-opacity:0.08;stroke-width:0.8;\"/>\r\n     </g>\r\n     <g id=\"line2d_112\">\r\n      <g>\r\n       <use style=\"stroke:#000000;stroke-width:0.6;\" x=\"66.007812\" xlink:href=\"#m240c8a31ca\" y=\"129.853319\"/>\r\n      </g>\r\n     </g>\r\n    </g>\r\n    <g id=\"ytick_38\">\r\n     <g id=\"line2d_113\">\r\n      <path clip-path=\"url(#pde25039411)\" d=\"M 66.007812 127.717064 \r\nL 568.207813 127.717064 \r\n\" style=\"fill:none;stroke:#000000;stroke-linecap:square;stroke-opacity:0.08;stroke-width:0.8;\"/>\r\n     </g>\r\n     <g id=\"line2d_114\">\r\n      <g>\r\n       <use style=\"stroke:#000000;stroke-width:0.6;\" x=\"66.007812\" xlink:href=\"#m240c8a31ca\" y=\"127.717064\"/>\r\n      </g>\r\n     </g>\r\n    </g>\r\n    <g id=\"ytick_39\">\r\n     <g id=\"line2d_115\">\r\n      <path clip-path=\"url(#pde25039411)\" d=\"M 66.007812 123.657388 \r\nL 568.207813 123.657388 \r\n\" style=\"fill:none;stroke:#000000;stroke-linecap:square;stroke-opacity:0.08;stroke-width:0.8;\"/>\r\n     </g>\r\n     <g id=\"line2d_116\">\r\n      <g>\r\n       <use style=\"stroke:#000000;stroke-width:0.6;\" x=\"66.007812\" xlink:href=\"#m240c8a31ca\" y=\"123.657388\"/>\r\n      </g>\r\n     </g>\r\n    </g>\r\n    <g id=\"ytick_40\">\r\n     <g id=\"line2d_117\">\r\n      <path clip-path=\"url(#pde25039411)\" d=\"M 66.007812 121.716754 \r\nL 568.207813 121.716754 \r\n\" style=\"fill:none;stroke:#000000;stroke-linecap:square;stroke-opacity:0.08;stroke-width:0.8;\"/>\r\n     </g>\r\n     <g id=\"line2d_118\">\r\n      <g>\r\n       <use style=\"stroke:#000000;stroke-width:0.6;\" x=\"66.007812\" xlink:href=\"#m240c8a31ca\" y=\"121.716754\"/>\r\n      </g>\r\n     </g>\r\n    </g>\r\n    <g id=\"ytick_41\">\r\n     <g id=\"line2d_119\">\r\n      <path clip-path=\"url(#pde25039411)\" d=\"M 66.007812 119.825734 \r\nL 568.207813 119.825734 \r\n\" style=\"fill:none;stroke:#000000;stroke-linecap:square;stroke-opacity:0.08;stroke-width:0.8;\"/>\r\n     </g>\r\n     <g id=\"line2d_120\">\r\n      <g>\r\n       <use style=\"stroke:#000000;stroke-width:0.6;\" x=\"66.007812\" xlink:href=\"#m240c8a31ca\" y=\"119.825734\"/>\r\n      </g>\r\n     </g>\r\n    </g>\r\n    <g id=\"ytick_42\">\r\n     <g id=\"line2d_121\">\r\n      <path clip-path=\"url(#pde25039411)\" d=\"M 66.007812 117.977865 \r\nL 568.207813 117.977865 \r\n\" style=\"fill:none;stroke:#000000;stroke-linecap:square;stroke-opacity:0.08;stroke-width:0.8;\"/>\r\n     </g>\r\n     <g id=\"line2d_122\">\r\n      <g>\r\n       <use style=\"stroke:#000000;stroke-width:0.6;\" x=\"66.007812\" xlink:href=\"#m240c8a31ca\" y=\"117.977865\"/>\r\n      </g>\r\n     </g>\r\n    </g>\r\n    <g id=\"ytick_43\">\r\n     <g id=\"line2d_123\">\r\n      <path clip-path=\"url(#pde25039411)\" d=\"M 66.007812 114.388421 \r\nL 568.207813 114.388421 \r\n\" style=\"fill:none;stroke:#000000;stroke-linecap:square;stroke-opacity:0.08;stroke-width:0.8;\"/>\r\n     </g>\r\n     <g id=\"line2d_124\">\r\n      <g>\r\n       <use style=\"stroke:#000000;stroke-width:0.6;\" x=\"66.007812\" xlink:href=\"#m240c8a31ca\" y=\"114.388421\"/>\r\n      </g>\r\n     </g>\r\n    </g>\r\n    <g id=\"ytick_44\">\r\n     <g id=\"line2d_125\">\r\n      <path clip-path=\"url(#pde25039411)\" d=\"M 66.007812 112.636266 \r\nL 568.207813 112.636266 \r\n\" style=\"fill:none;stroke:#000000;stroke-linecap:square;stroke-opacity:0.08;stroke-width:0.8;\"/>\r\n     </g>\r\n     <g id=\"line2d_126\">\r\n      <g>\r\n       <use style=\"stroke:#000000;stroke-width:0.6;\" x=\"66.007812\" xlink:href=\"#m240c8a31ca\" y=\"112.636266\"/>\r\n      </g>\r\n     </g>\r\n    </g>\r\n    <g id=\"ytick_45\">\r\n     <g id=\"line2d_127\">\r\n      <path clip-path=\"url(#pde25039411)\" d=\"M 66.007812 110.905902 \r\nL 568.207813 110.905902 \r\n\" style=\"fill:none;stroke:#000000;stroke-linecap:square;stroke-opacity:0.08;stroke-width:0.8;\"/>\r\n     </g>\r\n     <g id=\"line2d_128\">\r\n      <g>\r\n       <use style=\"stroke:#000000;stroke-width:0.6;\" x=\"66.007812\" xlink:href=\"#m240c8a31ca\" y=\"110.905902\"/>\r\n      </g>\r\n     </g>\r\n    </g>\r\n    <g id=\"ytick_46\">\r\n     <g id=\"line2d_129\">\r\n      <path clip-path=\"url(#pde25039411)\" d=\"M 66.007812 109.192601 \r\nL 568.207813 109.192601 \r\n\" style=\"fill:none;stroke:#000000;stroke-linecap:square;stroke-opacity:0.08;stroke-width:0.8;\"/>\r\n     </g>\r\n     <g id=\"line2d_130\">\r\n      <g>\r\n       <use style=\"stroke:#000000;stroke-width:0.6;\" x=\"66.007812\" xlink:href=\"#m240c8a31ca\" y=\"109.192601\"/>\r\n      </g>\r\n     </g>\r\n    </g>\r\n    <g id=\"ytick_47\">\r\n     <g id=\"line2d_131\">\r\n      <path clip-path=\"url(#pde25039411)\" d=\"M 66.007812 105.798558 \r\nL 568.207813 105.798558 \r\n\" style=\"fill:none;stroke:#000000;stroke-linecap:square;stroke-opacity:0.08;stroke-width:0.8;\"/>\r\n     </g>\r\n     <g id=\"line2d_132\">\r\n      <g>\r\n       <use style=\"stroke:#000000;stroke-width:0.6;\" x=\"66.007812\" xlink:href=\"#m240c8a31ca\" y=\"105.798558\"/>\r\n      </g>\r\n     </g>\r\n    </g>\r\n    <g id=\"ytick_48\">\r\n     <g id=\"line2d_133\">\r\n      <path clip-path=\"url(#pde25039411)\" d=\"M 66.007812 104.108371 \r\nL 568.207813 104.108371 \r\n\" style=\"fill:none;stroke:#000000;stroke-linecap:square;stroke-opacity:0.08;stroke-width:0.8;\"/>\r\n     </g>\r\n     <g id=\"line2d_134\">\r\n      <g>\r\n       <use style=\"stroke:#000000;stroke-width:0.6;\" x=\"66.007812\" xlink:href=\"#m240c8a31ca\" y=\"104.108371\"/>\r\n      </g>\r\n     </g>\r\n    </g>\r\n    <g id=\"ytick_49\">\r\n     <g id=\"line2d_135\">\r\n      <path clip-path=\"url(#pde25039411)\" d=\"M 66.007812 102.416167 \r\nL 568.207813 102.416167 \r\n\" style=\"fill:none;stroke:#000000;stroke-linecap:square;stroke-opacity:0.08;stroke-width:0.8;\"/>\r\n     </g>\r\n     <g id=\"line2d_136\">\r\n      <g>\r\n       <use style=\"stroke:#000000;stroke-width:0.6;\" x=\"66.007812\" xlink:href=\"#m240c8a31ca\" y=\"102.416167\"/>\r\n      </g>\r\n     </g>\r\n    </g>\r\n    <g id=\"ytick_50\">\r\n     <g id=\"line2d_137\">\r\n      <path clip-path=\"url(#pde25039411)\" d=\"M 66.007812 100.71664 \r\nL 568.207813 100.71664 \r\n\" style=\"fill:none;stroke:#000000;stroke-linecap:square;stroke-opacity:0.08;stroke-width:0.8;\"/>\r\n     </g>\r\n     <g id=\"line2d_138\">\r\n      <g>\r\n       <use style=\"stroke:#000000;stroke-width:0.6;\" x=\"66.007812\" xlink:href=\"#m240c8a31ca\" y=\"100.71664\"/>\r\n      </g>\r\n     </g>\r\n    </g>\r\n    <g id=\"ytick_51\">\r\n     <g id=\"line2d_139\">\r\n      <path clip-path=\"url(#pde25039411)\" d=\"M 66.007812 97.271887 \r\nL 568.207813 97.271887 \r\n\" style=\"fill:none;stroke:#000000;stroke-linecap:square;stroke-opacity:0.08;stroke-width:0.8;\"/>\r\n     </g>\r\n     <g id=\"line2d_140\">\r\n      <g>\r\n       <use style=\"stroke:#000000;stroke-width:0.6;\" x=\"66.007812\" xlink:href=\"#m240c8a31ca\" y=\"97.271887\"/>\r\n      </g>\r\n     </g>\r\n    </g>\r\n    <g id=\"ytick_52\">\r\n     <g id=\"line2d_141\">\r\n      <path clip-path=\"url(#pde25039411)\" d=\"M 66.007812 95.512939 \r\nL 568.207813 95.512939 \r\n\" style=\"fill:none;stroke:#000000;stroke-linecap:square;stroke-opacity:0.08;stroke-width:0.8;\"/>\r\n     </g>\r\n     <g id=\"line2d_142\">\r\n      <g>\r\n       <use style=\"stroke:#000000;stroke-width:0.6;\" x=\"66.007812\" xlink:href=\"#m240c8a31ca\" y=\"95.512939\"/>\r\n      </g>\r\n     </g>\r\n    </g>\r\n    <g id=\"ytick_53\">\r\n     <g id=\"line2d_143\">\r\n      <path clip-path=\"url(#pde25039411)\" d=\"M 66.007812 93.718676 \r\nL 568.207813 93.718676 \r\n\" style=\"fill:none;stroke:#000000;stroke-linecap:square;stroke-opacity:0.08;stroke-width:0.8;\"/>\r\n     </g>\r\n     <g id=\"line2d_144\">\r\n      <g>\r\n       <use style=\"stroke:#000000;stroke-width:0.6;\" x=\"66.007812\" xlink:href=\"#m240c8a31ca\" y=\"93.718676\"/>\r\n      </g>\r\n     </g>\r\n    </g>\r\n    <g id=\"ytick_54\">\r\n     <g id=\"line2d_145\">\r\n      <path clip-path=\"url(#pde25039411)\" d=\"M 66.007812 91.878956 \r\nL 568.207813 91.878956 \r\n\" style=\"fill:none;stroke:#000000;stroke-linecap:square;stroke-opacity:0.08;stroke-width:0.8;\"/>\r\n     </g>\r\n     <g id=\"line2d_146\">\r\n      <g>\r\n       <use style=\"stroke:#000000;stroke-width:0.6;\" x=\"66.007812\" xlink:href=\"#m240c8a31ca\" y=\"91.878956\"/>\r\n      </g>\r\n     </g>\r\n    </g>\r\n    <g id=\"ytick_55\">\r\n     <g id=\"line2d_147\">\r\n      <path clip-path=\"url(#pde25039411)\" d=\"M 66.007812 88.010249 \r\nL 568.207813 88.010249 \r\n\" style=\"fill:none;stroke:#000000;stroke-linecap:square;stroke-opacity:0.08;stroke-width:0.8;\"/>\r\n     </g>\r\n     <g id=\"line2d_148\">\r\n      <g>\r\n       <use style=\"stroke:#000000;stroke-width:0.6;\" x=\"66.007812\" xlink:href=\"#m240c8a31ca\" y=\"88.010249\"/>\r\n      </g>\r\n     </g>\r\n    </g>\r\n    <g id=\"ytick_56\">\r\n     <g id=\"line2d_149\">\r\n      <path clip-path=\"url(#pde25039411)\" d=\"M 66.007812 85.945274 \r\nL 568.207813 85.945274 \r\n\" style=\"fill:none;stroke:#000000;stroke-linecap:square;stroke-opacity:0.08;stroke-width:0.8;\"/>\r\n     </g>\r\n     <g id=\"line2d_150\">\r\n      <g>\r\n       <use style=\"stroke:#000000;stroke-width:0.6;\" x=\"66.007812\" xlink:href=\"#m240c8a31ca\" y=\"85.945274\"/>\r\n      </g>\r\n     </g>\r\n    </g>\r\n    <g id=\"ytick_57\">\r\n     <g id=\"line2d_151\">\r\n      <path clip-path=\"url(#pde25039411)\" d=\"M 66.007812 83.758983 \r\nL 568.207813 83.758983 \r\n\" style=\"fill:none;stroke:#000000;stroke-linecap:square;stroke-opacity:0.08;stroke-width:0.8;\"/>\r\n     </g>\r\n     <g id=\"line2d_152\">\r\n      <g>\r\n       <use style=\"stroke:#000000;stroke-width:0.6;\" x=\"66.007812\" xlink:href=\"#m240c8a31ca\" y=\"83.758983\"/>\r\n      </g>\r\n     </g>\r\n    </g>\r\n    <g id=\"ytick_58\">\r\n     <g id=\"line2d_153\">\r\n      <path clip-path=\"url(#pde25039411)\" d=\"M 66.007812 81.412631 \r\nL 568.207813 81.412631 \r\n\" style=\"fill:none;stroke:#000000;stroke-linecap:square;stroke-opacity:0.08;stroke-width:0.8;\"/>\r\n     </g>\r\n     <g id=\"line2d_154\">\r\n      <g>\r\n       <use style=\"stroke:#000000;stroke-width:0.6;\" x=\"66.007812\" xlink:href=\"#m240c8a31ca\" y=\"81.412631\"/>\r\n      </g>\r\n     </g>\r\n    </g>\r\n    <g id=\"ytick_59\">\r\n     <g id=\"line2d_155\">\r\n      <path clip-path=\"url(#pde25039411)\" d=\"M 66.007812 75.973103 \r\nL 568.207813 75.973103 \r\n\" style=\"fill:none;stroke:#000000;stroke-linecap:square;stroke-opacity:0.08;stroke-width:0.8;\"/>\r\n     </g>\r\n     <g id=\"line2d_156\">\r\n      <g>\r\n       <use style=\"stroke:#000000;stroke-width:0.6;\" x=\"66.007812\" xlink:href=\"#m240c8a31ca\" y=\"75.973103\"/>\r\n      </g>\r\n     </g>\r\n    </g>\r\n    <g id=\"ytick_60\">\r\n     <g id=\"line2d_157\">\r\n      <path clip-path=\"url(#pde25039411)\" d=\"M 66.007812 72.620035 \r\nL 568.207813 72.620035 \r\n\" style=\"fill:none;stroke:#000000;stroke-linecap:square;stroke-opacity:0.08;stroke-width:0.8;\"/>\r\n     </g>\r\n     <g id=\"line2d_158\">\r\n      <g>\r\n       <use style=\"stroke:#000000;stroke-width:0.6;\" x=\"66.007812\" xlink:href=\"#m240c8a31ca\" y=\"72.620035\"/>\r\n      </g>\r\n     </g>\r\n    </g>\r\n    <g id=\"ytick_61\">\r\n     <g id=\"line2d_159\">\r\n      <path clip-path=\"url(#pde25039411)\" d=\"M 66.007812 68.434926 \r\nL 568.207813 68.434926 \r\n\" style=\"fill:none;stroke:#000000;stroke-linecap:square;stroke-opacity:0.08;stroke-width:0.8;\"/>\r\n     </g>\r\n     <g id=\"line2d_160\">\r\n      <g>\r\n       <use style=\"stroke:#000000;stroke-width:0.6;\" x=\"66.007812\" xlink:href=\"#m240c8a31ca\" y=\"68.434926\"/>\r\n      </g>\r\n     </g>\r\n    </g>\r\n    <g id=\"ytick_62\">\r\n     <g id=\"line2d_161\">\r\n      <path clip-path=\"url(#pde25039411)\" d=\"M 66.007812 62.372665 \r\nL 568.207813 62.372665 \r\n\" style=\"fill:none;stroke:#000000;stroke-linecap:square;stroke-opacity:0.08;stroke-width:0.8;\"/>\r\n     </g>\r\n     <g id=\"line2d_162\">\r\n      <g>\r\n       <use style=\"stroke:#000000;stroke-width:0.6;\" x=\"66.007812\" xlink:href=\"#m240c8a31ca\" y=\"62.372665\"/>\r\n      </g>\r\n     </g>\r\n    </g>\r\n    <g id=\"text_28\">\r\n     <!-- Fraction failing -->\r\n     <g transform=\"translate(14.798437 250.298312)rotate(-90)scale(0.1 -0.1)\">\r\n      <defs>\r\n       <path d=\"M 9.8125 72.90625 \r\nL 51.703125 72.90625 \r\nL 51.703125 64.59375 \r\nL 19.671875 64.59375 \r\nL 19.671875 43.109375 \r\nL 48.578125 43.109375 \r\nL 48.578125 34.8125 \r\nL 19.671875 34.8125 \r\nL 19.671875 0 \r\nL 9.8125 0 \r\nz\r\n\" id=\"DejaVuSans-70\"/>\r\n       <path d=\"M 41.109375 46.296875 \r\nQ 39.59375 47.171875 37.8125 47.578125 \r\nQ 36.03125 48 33.890625 48 \r\nQ 26.265625 48 22.1875 43.046875 \r\nQ 18.109375 38.09375 18.109375 28.8125 \r\nL 18.109375 0 \r\nL 9.078125 0 \r\nL 9.078125 54.6875 \r\nL 18.109375 54.6875 \r\nL 18.109375 46.1875 \r\nQ 20.953125 51.171875 25.484375 53.578125 \r\nQ 30.03125 56 36.53125 56 \r\nQ 37.453125 56 38.578125 55.875 \r\nQ 39.703125 55.765625 41.0625 55.515625 \r\nz\r\n\" id=\"DejaVuSans-114\"/>\r\n       <path d=\"M 48.78125 52.59375 \r\nL 48.78125 44.1875 \r\nQ 44.96875 46.296875 41.140625 47.34375 \r\nQ 37.3125 48.390625 33.40625 48.390625 \r\nQ 24.65625 48.390625 19.8125 42.84375 \r\nQ 14.984375 37.3125 14.984375 27.296875 \r\nQ 14.984375 17.28125 19.8125 11.734375 \r\nQ 24.65625 6.203125 33.40625 6.203125 \r\nQ 37.3125 6.203125 41.140625 7.25 \r\nQ 44.96875 8.296875 48.78125 10.40625 \r\nL 48.78125 2.09375 \r\nQ 45.015625 0.34375 40.984375 -0.53125 \r\nQ 36.96875 -1.421875 32.421875 -1.421875 \r\nQ 20.0625 -1.421875 12.78125 6.34375 \r\nQ 5.515625 14.109375 5.515625 27.296875 \r\nQ 5.515625 40.671875 12.859375 48.328125 \r\nQ 20.21875 56 33.015625 56 \r\nQ 37.15625 56 41.109375 55.140625 \r\nQ 45.0625 54.296875 48.78125 52.59375 \r\nz\r\n\" id=\"DejaVuSans-99\"/>\r\n       <path d=\"M 18.3125 70.21875 \r\nL 18.3125 54.6875 \r\nL 36.8125 54.6875 \r\nL 36.8125 47.703125 \r\nL 18.3125 47.703125 \r\nL 18.3125 18.015625 \r\nQ 18.3125 11.328125 20.140625 9.421875 \r\nQ 21.96875 7.515625 27.59375 7.515625 \r\nL 36.8125 7.515625 \r\nL 36.8125 0 \r\nL 27.59375 0 \r\nQ 17.1875 0 13.234375 3.875 \r\nQ 9.28125 7.765625 9.28125 18.015625 \r\nL 9.28125 47.703125 \r\nL 2.6875 47.703125 \r\nL 2.6875 54.6875 \r\nL 9.28125 54.6875 \r\nL 9.28125 70.21875 \r\nz\r\n\" id=\"DejaVuSans-116\"/>\r\n       <path d=\"M 30.609375 48.390625 \r\nQ 23.390625 48.390625 19.1875 42.75 \r\nQ 14.984375 37.109375 14.984375 27.296875 \r\nQ 14.984375 17.484375 19.15625 11.84375 \r\nQ 23.34375 6.203125 30.609375 6.203125 \r\nQ 37.796875 6.203125 41.984375 11.859375 \r\nQ 46.1875 17.53125 46.1875 27.296875 \r\nQ 46.1875 37.015625 41.984375 42.703125 \r\nQ 37.796875 48.390625 30.609375 48.390625 \r\nz\r\nM 30.609375 56 \r\nQ 42.328125 56 49.015625 48.375 \r\nQ 55.71875 40.765625 55.71875 27.296875 \r\nQ 55.71875 13.875 49.015625 6.21875 \r\nQ 42.328125 -1.421875 30.609375 -1.421875 \r\nQ 18.84375 -1.421875 12.171875 6.21875 \r\nQ 5.515625 13.875 5.515625 27.296875 \r\nQ 5.515625 40.765625 12.171875 48.375 \r\nQ 18.84375 56 30.609375 56 \r\nz\r\n\" id=\"DejaVuSans-111\"/>\r\n       <path d=\"M 54.890625 33.015625 \r\nL 54.890625 0 \r\nL 45.90625 0 \r\nL 45.90625 32.71875 \r\nQ 45.90625 40.484375 42.875 44.328125 \r\nQ 39.84375 48.1875 33.796875 48.1875 \r\nQ 26.515625 48.1875 22.3125 43.546875 \r\nQ 18.109375 38.921875 18.109375 30.90625 \r\nL 18.109375 0 \r\nL 9.078125 0 \r\nL 9.078125 54.6875 \r\nL 18.109375 54.6875 \r\nL 18.109375 46.1875 \r\nQ 21.34375 51.125 25.703125 53.5625 \r\nQ 30.078125 56 35.796875 56 \r\nQ 45.21875 56 50.046875 50.171875 \r\nQ 54.890625 44.34375 54.890625 33.015625 \r\nz\r\n\" id=\"DejaVuSans-110\"/>\r\n       <path d=\"M 37.109375 75.984375 \r\nL 37.109375 68.5 \r\nL 28.515625 68.5 \r\nQ 23.6875 68.5 21.796875 66.546875 \r\nQ 19.921875 64.59375 19.921875 59.515625 \r\nL 19.921875 54.6875 \r\nL 34.71875 54.6875 \r\nL 34.71875 47.703125 \r\nL 19.921875 47.703125 \r\nL 19.921875 0 \r\nL 10.890625 0 \r\nL 10.890625 47.703125 \r\nL 2.296875 47.703125 \r\nL 2.296875 54.6875 \r\nL 10.890625 54.6875 \r\nL 10.890625 58.5 \r\nQ 10.890625 67.625 15.140625 71.796875 \r\nQ 19.390625 75.984375 28.609375 75.984375 \r\nz\r\n\" id=\"DejaVuSans-102\"/>\r\n       <path d=\"M 9.421875 75.984375 \r\nL 18.40625 75.984375 \r\nL 18.40625 0 \r\nL 9.421875 0 \r\nz\r\n\" id=\"DejaVuSans-108\"/>\r\n      </defs>\r\n      <use xlink:href=\"#DejaVuSans-70\"/>\r\n      <use x=\"50.269531\" xlink:href=\"#DejaVuSans-114\"/>\r\n      <use x=\"91.382812\" xlink:href=\"#DejaVuSans-97\"/>\r\n      <use x=\"152.662109\" xlink:href=\"#DejaVuSans-99\"/>\r\n      <use x=\"207.642578\" xlink:href=\"#DejaVuSans-116\"/>\r\n      <use x=\"246.851562\" xlink:href=\"#DejaVuSans-105\"/>\r\n      <use x=\"274.634766\" xlink:href=\"#DejaVuSans-111\"/>\r\n      <use x=\"335.816406\" xlink:href=\"#DejaVuSans-110\"/>\r\n      <use x=\"399.195312\" xlink:href=\"#DejaVuSans-32\"/>\r\n      <use x=\"430.982422\" xlink:href=\"#DejaVuSans-102\"/>\r\n      <use x=\"466.1875\" xlink:href=\"#DejaVuSans-97\"/>\r\n      <use x=\"527.466797\" xlink:href=\"#DejaVuSans-105\"/>\r\n      <use x=\"555.25\" xlink:href=\"#DejaVuSans-108\"/>\r\n      <use x=\"583.033203\" xlink:href=\"#DejaVuSans-105\"/>\r\n      <use x=\"610.816406\" xlink:href=\"#DejaVuSans-110\"/>\r\n      <use x=\"674.195312\" xlink:href=\"#DejaVuSans-103\"/>\r\n     </g>\r\n    </g>\r\n   </g>\r\n   <g id=\"line2d_163\">\r\n    <path clip-path=\"url(#pde25039411)\" d=\"M -1 370.262564 \r\nL 536.230815 -1 \r\nL 536.230815 -1 \r\n\" style=\"fill:none;stroke:#1f77b4;stroke-linecap:square;stroke-width:1.5;\"/>\r\n   </g>\r\n   <g id=\"line2d_164\">\r\n    <path clip-path=\"url(#pde25039411)\" d=\"M 494.731626 14.209064 \r\nL 494.275267 14.574859 \r\nL 493.813402 14.94501 \r\nL 493.345895 15.319621 \r\nL 492.872608 15.698802 \r\nL 492.393396 16.082665 \r\nL 491.908108 16.471328 \r\nL 491.41659 16.864912 \r\nL 490.918677 17.263544 \r\nL 490.414203 17.667354 \r\nL 489.902992 18.076479 \r\nL 489.384861 18.49106 \r\nL 488.859621 18.911246 \r\nL 488.327075 19.337189 \r\nL 487.787015 19.76905 \r\nL 487.239227 20.206996 \r\nL 486.683487 20.6512 \r\nL 486.11956 21.101843 \r\nL 485.547202 21.559116 \r\nL 484.966157 22.023216 \r\nL 484.376157 22.49435 \r\nL 483.776922 22.972735 \r\nL 483.168158 23.458597 \r\nL 482.549557 23.952174 \r\nL 481.920797 24.453715 \r\nL 481.281537 24.963481 \r\nL 480.631421 25.481745 \r\nL 479.970075 26.008798 \r\nL 479.297104 26.54494 \r\nL 478.61209 27.090492 \r\nL 477.914597 27.64579 \r\nL 477.20416 28.211188 \r\nL 476.48029 28.78706 \r\nL 475.74247 29.373801 \r\nL 474.99015 29.97183 \r\nL 474.222751 30.58159 \r\nL 473.439654 31.203549 \r\nL 472.640205 31.838205 \r\nL 471.823706 32.486087 \r\nL 470.989415 33.147758 \r\nL 470.136538 33.823817 \r\nL 469.26423 34.514902 \r\nL 468.371584 35.221697 \r\nL 467.45763 35.94493 \r\nL 466.521329 36.685384 \r\nL 465.56156 37.443895 \r\nL 464.577118 38.221366 \r\nL 463.566705 39.018764 \r\nL 462.528916 39.837134 \r\nL 461.462231 40.677605 \r\nL 460.365001 41.541397 \r\nL 459.235431 42.429833 \r\nL 458.071568 43.344351 \r\nL 456.871278 44.286516 \r\nL 455.632223 45.258034 \r\nL 454.351838 46.260774 \r\nL 453.0273 47.296781 \r\nL 451.655492 48.368305 \r\nL 450.232963 49.477824 \r\nL 448.755883 50.628076 \r\nL 447.219982 51.822094 \r\nL 445.620489 53.063249 \r\nL 443.952048 54.355299 \r\nL 442.208628 55.702444 \r\nL 440.383407 57.109398 \r\nL 438.468638 58.581469 \r\nL 436.45548 60.124654 \r\nL 434.3338 61.745756 \r\nL 432.091918 63.45252 \r\nL 429.716304 65.253807 \r\nL 427.191191 67.159791 \r\nL 424.498097 69.182212 \r\nL 421.615214 71.334681 \r\nL 418.516646 73.633058 \r\nL 415.171428 76.095919 \r\nL 411.542288 78.74515 \r\nL 407.584068 81.606684 \r\nL 403.241741 84.711446 \r\nL 398.447939 88.096557 \r\nL 393.119942 91.806893 \r\nL 387.156076 95.897105 \r\nL 380.431489 100.434276 \r\nL 372.793129 105.501421 \r\nL 364.053482 111.202148 \r\nL 353.982082 117.666876 \r\nL 342.293298 125.06117 \r\nL 328.628604 133.596884 \r\nL 312.531713 143.546949 \r\nL 293.415369 155.264667 \r\nL 270.519182 169.208174 \r\nL 242.858968 185.970074 \r\nL 209.169671 206.3111 \r\nL 167.845564 231.195649 \r\nL 116.880206 261.827636 \r\nL 53.801692 299.689292 \r\nL -1 332.55237 \r\n\" style=\"fill:none;\"/>\r\n   </g>\r\n   <g id=\"line2d_165\">\r\n    <path clip-path=\"url(#pde25039411)\" d=\"M 533.714556 14.209064 \r\nL 533.112277 14.574859 \r\nL 532.502898 14.94501 \r\nL 531.886251 15.319621 \r\nL 531.262159 15.698802 \r\nL 530.630441 16.082665 \r\nL 529.990908 16.471328 \r\nL 529.343364 16.864912 \r\nL 528.687606 17.263544 \r\nL 528.023423 17.667354 \r\nL 527.350595 18.076479 \r\nL 526.668895 18.49106 \r\nL 525.978085 18.911246 \r\nL 525.277919 19.337189 \r\nL 524.56814 19.76905 \r\nL 523.84848 20.206996 \r\nL 523.118661 20.6512 \r\nL 522.37839 21.101843 \r\nL 521.627365 21.559116 \r\nL 520.865269 22.023216 \r\nL 520.091771 22.49435 \r\nL 519.306523 22.972735 \r\nL 518.509165 23.458597 \r\nL 517.699316 23.952174 \r\nL 516.876579 24.453715 \r\nL 516.040538 24.963481 \r\nL 515.190756 25.481745 \r\nL 514.326772 26.008798 \r\nL 513.448106 26.54494 \r\nL 512.55425 27.090492 \r\nL 511.644669 27.64579 \r\nL 510.718801 28.211188 \r\nL 509.776053 28.78706 \r\nL 508.815799 29.373801 \r\nL 507.837376 29.97183 \r\nL 506.840085 30.58159 \r\nL 505.823185 31.203549 \r\nL 504.78589 31.838205 \r\nL 503.727368 32.486087 \r\nL 502.646733 33.147758 \r\nL 501.543043 33.823817 \r\nL 500.415297 34.514902 \r\nL 499.262425 35.221697 \r\nL 498.083285 35.94493 \r\nL 496.876658 36.685384 \r\nL 495.641236 37.443895 \r\nL 494.375619 38.221366 \r\nL 493.0783 39.018764 \r\nL 491.747662 39.837134 \r\nL 490.38196 40.677605 \r\nL 488.979311 41.541397 \r\nL 487.537678 42.429833 \r\nL 486.054855 43.344351 \r\nL 484.528449 44.286516 \r\nL 482.955855 45.258034 \r\nL 481.334234 46.260774 \r\nL 479.660488 47.296781 \r\nL 477.931223 48.368305 \r\nL 476.142719 49.477824 \r\nL 474.290881 50.628076 \r\nL 472.371201 51.822094 \r\nL 470.378696 53.063249 \r\nL 468.307847 54.355299 \r\nL 466.152526 55.702444 \r\nL 463.905912 57.109398 \r\nL 461.560395 58.581469 \r\nL 459.107457 60.124654 \r\nL 456.537545 61.745756 \r\nL 453.839919 63.45252 \r\nL 451.002471 65.253807 \r\nL 448.011519 67.159791 \r\nL 444.851571 69.182212 \r\nL 441.505043 71.334681 \r\nL 437.951934 73.633058 \r\nL 434.169442 76.095919 \r\nL 430.131504 78.74515 \r\nL 425.808224 81.606684 \r\nL 421.165132 84.711446 \r\nL 416.162162 88.096557 \r\nL 410.752164 91.806893 \r\nL 404.878641 95.897105 \r\nL 398.472307 100.434276 \r\nL 391.445958 105.501421 \r\nL 383.687264 111.202148 \r\nL 375.049245 117.666876 \r\nL 365.338375 125.06117 \r\nL 354.300055 133.596884 \r\nL 341.600693 143.546949 \r\nL 326.805062 155.264667 \r\nL 309.347667 169.208174 \r\nL 288.497656 185.970074 \r\nL 263.31846 206.3111 \r\nL 232.624771 231.195649 \r\nL 194.938806 261.827636 \r\nL 148.442779 299.689292 \r\nL 90.91662 346.591973 \r\nL 19.646582 404.750804 \r\nL -1 421.609037 \r\n\" style=\"fill:none;\"/>\r\n   </g>\r\n   <g id=\"patch_3\">\r\n    <path d=\"M 66.007812 391.0755 \r\nL 66.007812 35.7555 \r\n\" style=\"fill:none;stroke:#000000;stroke-linecap:square;stroke-linejoin:miter;stroke-width:0.8;\"/>\r\n   </g>\r\n   <g id=\"patch_4\">\r\n    <path d=\"M 568.207813 391.0755 \r\nL 568.207813 35.7555 \r\n\" style=\"fill:none;stroke:#000000;stroke-linecap:square;stroke-linejoin:miter;stroke-width:0.8;\"/>\r\n   </g>\r\n   <g id=\"patch_5\">\r\n    <path d=\"M 66.007812 391.0755 \r\nL 568.207813 391.0755 \r\n\" style=\"fill:none;stroke:#000000;stroke-linecap:square;stroke-linejoin:miter;stroke-width:0.8;\"/>\r\n   </g>\r\n   <g id=\"patch_6\">\r\n    <path d=\"M 66.007812 35.7555 \r\nL 568.207813 35.7555 \r\n\" style=\"fill:none;stroke:#000000;stroke-linecap:square;stroke-linejoin:miter;stroke-width:0.8;\"/>\r\n   </g>\r\n   <g id=\"text_29\">\r\n    <!-- Probability plot -->\r\n    <g transform=\"translate(271.986875 16.318125)scale(0.12 -0.12)\">\r\n     <defs>\r\n      <path d=\"M 19.671875 64.796875 \r\nL 19.671875 37.40625 \r\nL 32.078125 37.40625 \r\nQ 38.96875 37.40625 42.71875 40.96875 \r\nQ 46.484375 44.53125 46.484375 51.125 \r\nQ 46.484375 57.671875 42.71875 61.234375 \r\nQ 38.96875 64.796875 32.078125 64.796875 \r\nz\r\nM 9.8125 72.90625 \r\nL 32.078125 72.90625 \r\nQ 44.34375 72.90625 50.609375 67.359375 \r\nQ 56.890625 61.8125 56.890625 51.125 \r\nQ 56.890625 40.328125 50.609375 34.8125 \r\nQ 44.34375 29.296875 32.078125 29.296875 \r\nL 19.671875 29.296875 \r\nL 19.671875 0 \r\nL 9.8125 0 \r\nz\r\n\" id=\"DejaVuSans-80\"/>\r\n      <path d=\"M 48.6875 27.296875 \r\nQ 48.6875 37.203125 44.609375 42.84375 \r\nQ 40.53125 48.484375 33.40625 48.484375 \r\nQ 26.265625 48.484375 22.1875 42.84375 \r\nQ 18.109375 37.203125 18.109375 27.296875 \r\nQ 18.109375 17.390625 22.1875 11.75 \r\nQ 26.265625 6.109375 33.40625 6.109375 \r\nQ 40.53125 6.109375 44.609375 11.75 \r\nQ 48.6875 17.390625 48.6875 27.296875 \r\nz\r\nM 18.109375 46.390625 \r\nQ 20.953125 51.265625 25.265625 53.625 \r\nQ 29.59375 56 35.59375 56 \r\nQ 45.5625 56 51.78125 48.09375 \r\nQ 58.015625 40.1875 58.015625 27.296875 \r\nQ 58.015625 14.40625 51.78125 6.484375 \r\nQ 45.5625 -1.421875 35.59375 -1.421875 \r\nQ 29.59375 -1.421875 25.265625 0.953125 \r\nQ 20.953125 3.328125 18.109375 8.203125 \r\nL 18.109375 0 \r\nL 9.078125 0 \r\nL 9.078125 75.984375 \r\nL 18.109375 75.984375 \r\nz\r\n\" id=\"DejaVuSans-98\"/>\r\n      <path d=\"M 32.171875 -5.078125 \r\nQ 28.375 -14.84375 24.75 -17.8125 \r\nQ 21.140625 -20.796875 15.09375 -20.796875 \r\nL 7.90625 -20.796875 \r\nL 7.90625 -13.28125 \r\nL 13.1875 -13.28125 \r\nQ 16.890625 -13.28125 18.9375 -11.515625 \r\nQ 21 -9.765625 23.484375 -3.21875 \r\nL 25.09375 0.875 \r\nL 2.984375 54.6875 \r\nL 12.5 54.6875 \r\nL 29.59375 11.921875 \r\nL 46.6875 54.6875 \r\nL 56.203125 54.6875 \r\nz\r\n\" id=\"DejaVuSans-121\"/>\r\n      <path d=\"M 18.109375 8.203125 \r\nL 18.109375 -20.796875 \r\nL 9.078125 -20.796875 \r\nL 9.078125 54.6875 \r\nL 18.109375 54.6875 \r\nL 18.109375 46.390625 \r\nQ 20.953125 51.265625 25.265625 53.625 \r\nQ 29.59375 56 35.59375 56 \r\nQ 45.5625 56 51.78125 48.09375 \r\nQ 58.015625 40.1875 58.015625 27.296875 \r\nQ 58.015625 14.40625 51.78125 6.484375 \r\nQ 45.5625 -1.421875 35.59375 -1.421875 \r\nQ 29.59375 -1.421875 25.265625 0.953125 \r\nQ 20.953125 3.328125 18.109375 8.203125 \r\nz\r\nM 48.6875 27.296875 \r\nQ 48.6875 37.203125 44.609375 42.84375 \r\nQ 40.53125 48.484375 33.40625 48.484375 \r\nQ 26.265625 48.484375 22.1875 42.84375 \r\nQ 18.109375 37.203125 18.109375 27.296875 \r\nQ 18.109375 17.390625 22.1875 11.75 \r\nQ 26.265625 6.109375 33.40625 6.109375 \r\nQ 40.53125 6.109375 44.609375 11.75 \r\nQ 48.6875 17.390625 48.6875 27.296875 \r\nz\r\n\" id=\"DejaVuSans-112\"/>\r\n     </defs>\r\n     <use xlink:href=\"#DejaVuSans-80\"/>\r\n     <use x=\"58.552734\" xlink:href=\"#DejaVuSans-114\"/>\r\n     <use x=\"97.416016\" xlink:href=\"#DejaVuSans-111\"/>\r\n     <use x=\"158.597656\" xlink:href=\"#DejaVuSans-98\"/>\r\n     <use x=\"222.074219\" xlink:href=\"#DejaVuSans-97\"/>\r\n     <use x=\"283.353516\" xlink:href=\"#DejaVuSans-98\"/>\r\n     <use x=\"346.830078\" xlink:href=\"#DejaVuSans-105\"/>\r\n     <use x=\"374.613281\" xlink:href=\"#DejaVuSans-108\"/>\r\n     <use x=\"402.396484\" xlink:href=\"#DejaVuSans-105\"/>\r\n     <use x=\"430.179688\" xlink:href=\"#DejaVuSans-116\"/>\r\n     <use x=\"469.388672\" xlink:href=\"#DejaVuSans-121\"/>\r\n     <use x=\"528.568359\" xlink:href=\"#DejaVuSans-32\"/>\r\n     <use x=\"560.355469\" xlink:href=\"#DejaVuSans-112\"/>\r\n     <use x=\"623.832031\" xlink:href=\"#DejaVuSans-108\"/>\r\n     <use x=\"651.615234\" xlink:href=\"#DejaVuSans-111\"/>\r\n     <use x=\"712.796875\" xlink:href=\"#DejaVuSans-116\"/>\r\n    </g>\r\n    <!-- Weibull CDF -->\r\n    <g transform=\"translate(281.05625 29.7555)scale(0.12 -0.12)\">\r\n     <defs>\r\n      <path d=\"M 3.328125 72.90625 \r\nL 13.28125 72.90625 \r\nL 28.609375 11.28125 \r\nL 43.890625 72.90625 \r\nL 54.984375 72.90625 \r\nL 70.3125 11.28125 \r\nL 85.59375 72.90625 \r\nL 95.609375 72.90625 \r\nL 77.296875 0 \r\nL 64.890625 0 \r\nL 49.515625 63.28125 \r\nL 33.984375 0 \r\nL 21.578125 0 \r\nz\r\n\" id=\"DejaVuSans-87\"/>\r\n      <path d=\"M 8.5 21.578125 \r\nL 8.5 54.6875 \r\nL 17.484375 54.6875 \r\nL 17.484375 21.921875 \r\nQ 17.484375 14.15625 20.5 10.265625 \r\nQ 23.53125 6.390625 29.59375 6.390625 \r\nQ 36.859375 6.390625 41.078125 11.03125 \r\nQ 45.3125 15.671875 45.3125 23.6875 \r\nL 45.3125 54.6875 \r\nL 54.296875 54.6875 \r\nL 54.296875 0 \r\nL 45.3125 0 \r\nL 45.3125 8.40625 \r\nQ 42.046875 3.421875 37.71875 1 \r\nQ 33.40625 -1.421875 27.6875 -1.421875 \r\nQ 18.265625 -1.421875 13.375 4.4375 \r\nQ 8.5 10.296875 8.5 21.578125 \r\nz\r\nM 31.109375 56 \r\nz\r\n\" id=\"DejaVuSans-117\"/>\r\n      <path d=\"M 64.40625 67.28125 \r\nL 64.40625 56.890625 \r\nQ 59.421875 61.53125 53.78125 63.8125 \r\nQ 48.140625 66.109375 41.796875 66.109375 \r\nQ 29.296875 66.109375 22.65625 58.46875 \r\nQ 16.015625 50.828125 16.015625 36.375 \r\nQ 16.015625 21.96875 22.65625 14.328125 \r\nQ 29.296875 6.6875 41.796875 6.6875 \r\nQ 48.140625 6.6875 53.78125 8.984375 \r\nQ 59.421875 11.28125 64.40625 15.921875 \r\nL 64.40625 5.609375 \r\nQ 59.234375 2.09375 53.4375 0.328125 \r\nQ 47.65625 -1.421875 41.21875 -1.421875 \r\nQ 24.65625 -1.421875 15.125 8.703125 \r\nQ 5.609375 18.84375 5.609375 36.375 \r\nQ 5.609375 53.953125 15.125 64.078125 \r\nQ 24.65625 74.21875 41.21875 74.21875 \r\nQ 47.75 74.21875 53.53125 72.484375 \r\nQ 59.328125 70.75 64.40625 67.28125 \r\nz\r\n\" id=\"DejaVuSans-67\"/>\r\n      <path d=\"M 19.671875 64.796875 \r\nL 19.671875 8.109375 \r\nL 31.59375 8.109375 \r\nQ 46.6875 8.109375 53.6875 14.9375 \r\nQ 60.6875 21.78125 60.6875 36.53125 \r\nQ 60.6875 51.171875 53.6875 57.984375 \r\nQ 46.6875 64.796875 31.59375 64.796875 \r\nz\r\nM 9.8125 72.90625 \r\nL 30.078125 72.90625 \r\nQ 51.265625 72.90625 61.171875 64.09375 \r\nQ 71.09375 55.28125 71.09375 36.53125 \r\nQ 71.09375 17.671875 61.125 8.828125 \r\nQ 51.171875 0 30.078125 0 \r\nL 9.8125 0 \r\nz\r\n\" id=\"DejaVuSans-68\"/>\r\n     </defs>\r\n     <use xlink:href=\"#DejaVuSans-87\"/>\r\n     <use x=\"93.001953\" xlink:href=\"#DejaVuSans-101\"/>\r\n     <use x=\"154.525391\" xlink:href=\"#DejaVuSans-105\"/>\r\n     <use x=\"182.308594\" xlink:href=\"#DejaVuSans-98\"/>\r\n     <use x=\"245.785156\" xlink:href=\"#DejaVuSans-117\"/>\r\n     <use x=\"309.164062\" xlink:href=\"#DejaVuSans-108\"/>\r\n     <use x=\"336.947266\" xlink:href=\"#DejaVuSans-108\"/>\r\n     <use x=\"364.730469\" xlink:href=\"#DejaVuSans-32\"/>\r\n     <use x=\"396.517578\" xlink:href=\"#DejaVuSans-67\"/>\r\n     <use x=\"466.341797\" xlink:href=\"#DejaVuSans-68\"/>\r\n     <use x=\"543.34375\" xlink:href=\"#DejaVuSans-70\"/>\r\n    </g>\r\n   </g>\r\n   <g id=\"legend_1\">\r\n    <g id=\"patch_7\">\r\n     <path d=\"M 73.007812 69.984562 \r\nL 268.164062 69.984562 \r\nQ 270.164062 69.984562 270.164062 67.984562 \r\nL 270.164062 42.7555 \r\nQ 270.164062 40.7555 268.164062 40.7555 \r\nL 73.007812 40.7555 \r\nQ 71.007812 40.7555 71.007812 42.7555 \r\nL 71.007812 67.984562 \r\nQ 71.007812 69.984562 73.007812 69.984562 \r\nz\r\n\" style=\"fill:#ffffff;opacity:0.8;stroke:#cccccc;stroke-linejoin:miter;\"/>\r\n    </g>\r\n    <g id=\"line2d_166\">\r\n     <path d=\"M 75.007812 55.66925 \r\nL 95.007812 55.66925 \r\n\" style=\"fill:none;stroke:#1f77b4;stroke-linecap:square;stroke-width:1.5;\"/>\r\n    </g>\r\n    <g id=\"line2d_167\"/>\r\n    <g id=\"text_30\">\r\n     <!-- Fitted Weibull_3P -->\r\n     <g transform=\"translate(103.007812 52.353937)scale(0.1 -0.1)\">\r\n      <defs>\r\n       <path d=\"M 45.40625 46.390625 \r\nL 45.40625 75.984375 \r\nL 54.390625 75.984375 \r\nL 54.390625 0 \r\nL 45.40625 0 \r\nL 45.40625 8.203125 \r\nQ 42.578125 3.328125 38.25 0.953125 \r\nQ 33.9375 -1.421875 27.875 -1.421875 \r\nQ 17.96875 -1.421875 11.734375 6.484375 \r\nQ 5.515625 14.40625 5.515625 27.296875 \r\nQ 5.515625 40.1875 11.734375 48.09375 \r\nQ 17.96875 56 27.875 56 \r\nQ 33.9375 56 38.25 53.625 \r\nQ 42.578125 51.265625 45.40625 46.390625 \r\nz\r\nM 14.796875 27.296875 \r\nQ 14.796875 17.390625 18.875 11.75 \r\nQ 22.953125 6.109375 30.078125 6.109375 \r\nQ 37.203125 6.109375 41.296875 11.75 \r\nQ 45.40625 17.390625 45.40625 27.296875 \r\nQ 45.40625 37.203125 41.296875 42.84375 \r\nQ 37.203125 48.484375 30.078125 48.484375 \r\nQ 22.953125 48.484375 18.875 42.84375 \r\nQ 14.796875 37.203125 14.796875 27.296875 \r\nz\r\n\" id=\"DejaVuSans-100\"/>\r\n       <path d=\"M 50.984375 -16.609375 \r\nL 50.984375 -23.578125 \r\nL -0.984375 -23.578125 \r\nL -0.984375 -16.609375 \r\nz\r\n\" id=\"DejaVuSans-95\"/>\r\n      </defs>\r\n      <use xlink:href=\"#DejaVuSans-70\"/>\r\n      <use x=\"50.269531\" xlink:href=\"#DejaVuSans-105\"/>\r\n      <use x=\"78.052734\" xlink:href=\"#DejaVuSans-116\"/>\r\n      <use x=\"117.261719\" xlink:href=\"#DejaVuSans-116\"/>\r\n      <use x=\"156.470703\" xlink:href=\"#DejaVuSans-101\"/>\r\n      <use x=\"217.994141\" xlink:href=\"#DejaVuSans-100\"/>\r\n      <use x=\"281.470703\" xlink:href=\"#DejaVuSans-32\"/>\r\n      <use x=\"313.257812\" xlink:href=\"#DejaVuSans-87\"/>\r\n      <use x=\"406.259766\" xlink:href=\"#DejaVuSans-101\"/>\r\n      <use x=\"467.783203\" xlink:href=\"#DejaVuSans-105\"/>\r\n      <use x=\"495.566406\" xlink:href=\"#DejaVuSans-98\"/>\r\n      <use x=\"559.042969\" xlink:href=\"#DejaVuSans-117\"/>\r\n      <use x=\"622.421875\" xlink:href=\"#DejaVuSans-108\"/>\r\n      <use x=\"650.205078\" xlink:href=\"#DejaVuSans-108\"/>\r\n      <use x=\"677.988281\" xlink:href=\"#DejaVuSans-95\"/>\r\n      <use x=\"727.988281\" xlink:href=\"#DejaVuSans-51\"/>\r\n      <use x=\"791.611328\" xlink:href=\"#DejaVuSans-80\"/>\r\n     </g>\r\n     <!-- (α=183.273, β=2.424, γ=61.71) -->\r\n     <g transform=\"translate(103.007812 63.904875)scale(0.1 -0.1)\">\r\n      <defs>\r\n       <path d=\"M 31 75.875 \r\nQ 24.46875 64.65625 21.28125 53.65625 \r\nQ 18.109375 42.671875 18.109375 31.390625 \r\nQ 18.109375 20.125 21.3125 9.0625 \r\nQ 24.515625 -2 31 -13.1875 \r\nL 23.1875 -13.1875 \r\nQ 15.875 -1.703125 12.234375 9.375 \r\nQ 8.59375 20.453125 8.59375 31.390625 \r\nQ 8.59375 42.28125 12.203125 53.3125 \r\nQ 15.828125 64.359375 23.1875 75.875 \r\nz\r\n\" id=\"DejaVuSans-40\"/>\r\n       <path d=\"M 41.3125 25.4375 \r\nL 39.15625 36.71875 \r\nQ 36.96875 48.296875 28.265625 48.296875 \r\nQ 21.734375 48.296875 18.75 42.921875 \r\nQ 14.984375 36.1875 14.984375 27.296875 \r\nQ 14.984375 16.546875 18.65625 11.421875 \r\nQ 22.359375 6.203125 28.265625 6.203125 \r\nQ 34.8125 6.203125 38.328125 16.609375 \r\nz\r\nM 46.34375 40.375 \r\nL 51.171875 54.6875 \r\nL 59.1875 54.6875 \r\nL 49.171875 25.046875 \r\nL 51.125 14.359375 \r\nQ 51.5625 11.96875 53.265625 9.96875 \r\nQ 55.28125 7.625 56.84375 7.625 \r\nL 61.140625 7.625 \r\nL 61.140625 0 \r\nL 55.765625 0 \r\nQ 51.171875 0 47.078125 4.109375 \r\nQ 45.0625 6.15625 44.234375 10.453125 \r\nQ 42 5.03125 37.40625 0.78125 \r\nQ 35.25 -1.21875 28.265625 -1.21875 \r\nQ 16.796875 -1.21875 11.234375 6.203125 \r\nQ 5.515625 13.875 5.515625 27.296875 \r\nQ 5.515625 41.65625 11.71875 48.390625 \r\nQ 18.609375 55.90625 28.265625 55.90625 \r\nQ 43.453125 55.90625 46.34375 40.375 \r\nz\r\n\" id=\"DejaVuSans-945\"/>\r\n       <path d=\"M 10.59375 45.40625 \r\nL 73.1875 45.40625 \r\nL 73.1875 37.203125 \r\nL 10.59375 37.203125 \r\nz\r\nM 10.59375 25.484375 \r\nL 73.1875 25.484375 \r\nL 73.1875 17.1875 \r\nL 10.59375 17.1875 \r\nz\r\n\" id=\"DejaVuSans-61\"/>\r\n       <path d=\"M 11.71875 12.40625 \r\nL 22.015625 12.40625 \r\nL 22.015625 4 \r\nL 14.015625 -11.625 \r\nL 7.71875 -11.625 \r\nL 11.71875 4 \r\nz\r\n\" id=\"DejaVuSans-44\"/>\r\n       <path d=\"M 18.40625 3.375 \r\nL 18.40625 -20.796875 \r\nL 9.375 -20.796875 \r\nL 9.375 54.34375 \r\nQ 9.375 76.609375 30.171875 76.609375 \r\nQ 51.375 76.609375 51.375 57.8125 \r\nQ 51.375 44.4375 42.96875 39.546875 \r\nQ 56.640625 35.15625 56.640625 22.125 \r\nQ 56.640625 -1.03125 33.109375 -1.03125 \r\nQ 22.75 -1.03125 18.40625 3.375 \r\nz\r\nM 18.40625 15.09375 \r\nQ 23.828125 6.640625 33.453125 6.640625 \r\nQ 47.515625 6.640625 47.515625 21.96875 \r\nQ 47.515625 35.75 24.859375 34.671875 \r\nL 24.859375 42.96875 \r\nQ 42.578125 42.96875 42.578125 58.59375 \r\nQ 42.578125 69.28125 31.15625 69.28125 \r\nQ 18.40625 69.28125 18.40625 54.046875 \r\nz\r\n\" id=\"DejaVuSans-946\"/>\r\n       <path d=\"M 17.625 46.09375 \r\nL 29.59375 12.3125 \r\nL 46.6875 54.6875 \r\nL 56.203125 54.6875 \r\nL 34.078125 0 \r\nL 34.078125 -20.796875 \r\nL 25.09375 -20.796875 \r\nL 25.09375 0 \r\nL 10.75 40.828125 \r\nQ 8.59375 46.96875 3.953125 46.96875 \r\nL 1.5625 46.96875 \r\nL 1.5625 54.6875 \r\nL 4.984375 54.6875 \r\nQ 14.59375 54.6875 17.625 46.09375 \r\nz\r\n\" id=\"DejaVuSans-947\"/>\r\n       <path d=\"M 8.015625 75.875 \r\nL 15.828125 75.875 \r\nQ 23.140625 64.359375 26.78125 53.3125 \r\nQ 30.421875 42.28125 30.421875 31.390625 \r\nQ 30.421875 20.453125 26.78125 9.375 \r\nQ 23.140625 -1.703125 15.828125 -13.1875 \r\nL 8.015625 -13.1875 \r\nQ 14.5 -2 17.703125 9.0625 \r\nQ 20.90625 20.125 20.90625 31.390625 \r\nQ 20.90625 42.671875 17.703125 53.65625 \r\nQ 14.5 64.65625 8.015625 75.875 \r\nz\r\n\" id=\"DejaVuSans-41\"/>\r\n      </defs>\r\n      <use xlink:href=\"#DejaVuSans-40\"/>\r\n      <use x=\"39.013672\" xlink:href=\"#DejaVuSans-945\"/>\r\n      <use x=\"104.931641\" xlink:href=\"#DejaVuSans-61\"/>\r\n      <use x=\"188.720703\" xlink:href=\"#DejaVuSans-49\"/>\r\n      <use x=\"252.34375\" xlink:href=\"#DejaVuSans-56\"/>\r\n      <use x=\"315.966797\" xlink:href=\"#DejaVuSans-51\"/>\r\n      <use x=\"379.589844\" xlink:href=\"#DejaVuSans-46\"/>\r\n      <use x=\"411.376953\" xlink:href=\"#DejaVuSans-50\"/>\r\n      <use x=\"475\" xlink:href=\"#DejaVuSans-55\"/>\r\n      <use x=\"538.623047\" xlink:href=\"#DejaVuSans-51\"/>\r\n      <use x=\"602.246094\" xlink:href=\"#DejaVuSans-44\"/>\r\n      <use x=\"634.033203\" xlink:href=\"#DejaVuSans-32\"/>\r\n      <use x=\"665.820312\" xlink:href=\"#DejaVuSans-946\"/>\r\n      <use x=\"729.638672\" xlink:href=\"#DejaVuSans-61\"/>\r\n      <use x=\"813.427734\" xlink:href=\"#DejaVuSans-50\"/>\r\n      <use x=\"877.050781\" xlink:href=\"#DejaVuSans-46\"/>\r\n      <use x=\"908.837891\" xlink:href=\"#DejaVuSans-52\"/>\r\n      <use x=\"972.460938\" xlink:href=\"#DejaVuSans-50\"/>\r\n      <use x=\"1036.083984\" xlink:href=\"#DejaVuSans-52\"/>\r\n      <use x=\"1099.707031\" xlink:href=\"#DejaVuSans-44\"/>\r\n      <use x=\"1131.494141\" xlink:href=\"#DejaVuSans-32\"/>\r\n      <use x=\"1163.28125\" xlink:href=\"#DejaVuSans-947\"/>\r\n      <use x=\"1222.460938\" xlink:href=\"#DejaVuSans-61\"/>\r\n      <use x=\"1306.25\" xlink:href=\"#DejaVuSans-54\"/>\r\n      <use x=\"1369.873047\" xlink:href=\"#DejaVuSans-49\"/>\r\n      <use x=\"1433.496094\" xlink:href=\"#DejaVuSans-46\"/>\r\n      <use x=\"1465.283203\" xlink:href=\"#DejaVuSans-55\"/>\r\n      <use x=\"1528.90625\" xlink:href=\"#DejaVuSans-49\"/>\r\n      <use x=\"1592.529297\" xlink:href=\"#DejaVuSans-41\"/>\r\n     </g>\r\n    </g>\r\n   </g>\r\n  </g>\r\n </g>\r\n <defs>\r\n  <clipPath id=\"pde25039411\">\r\n   <rect height=\"355.32\" width=\"502.2\" x=\"66.007812\" y=\"35.7555\"/>\r\n  </clipPath>\r\n </defs>\r\n</svg>\r\n",
      "image/png": "[encoded data removed]"
     },
     "metadata": {
      "needs_background": "light"
     }
    }
   ],
   "source": [
    "t_failures = []\n",
    "for timeline in fm._timelines.values():\n",
    "    t_failures = np.append(t_failures, np.argmax(timeline['failure']))\n",
    "\n",
    "# Arange into failures and censored data\n",
    "failures = t_failures[t_failures > 0]\n",
    "censored = np.full(sum(t_failures==0), 200)\n",
    "\n",
    "# Fit the Weibull\n",
    "Fit_Weibull_3P(failures=failures, right_censored=censored)"
   ]
  },
  {
   "cell_type": "code",
   "execution_count": 8,
   "metadata": {
    "tags": []
   },
   "outputs": [
    {
     "output_type": "stream",
     "name": "stderr",
     "text": "100%|██████████| 1000/1000 [00:08<00:00, 123.73it/s]\n"
    }
   ],
   "source": [
    "n_iterations = 1000\n",
    "t_end = 200\n",
    "t_start = 0\n",
    "\n",
    "fm2 = FailureMode(alpha=50, beta=1.5, gamma=20)\n",
    "del fm2.tasks['ocr']\n",
    "\n",
    "for i in tqdm(range(n_iterations)):\n",
    "\n",
    "    fm2._timelines[i] = fm2.sim_timeline(t_end=t_end, t_start=t_start)"
   ]
  },
  {
   "cell_type": "code",
   "execution_count": 9,
   "metadata": {
    "tags": []
   },
   "outputs": [
    {
     "output_type": "stream",
     "name": "stdout",
     "text": "Results from Fit_Weibull_3P (95% CI):\n           Point Estimate  Standard Error   Lower CI   Upper CI\nParameter                                                      \nAlpha           49.011679        1.111749  46.880418  51.239831\nBeta             1.465928        0.036586   1.395946   1.539418\nGamma           24.633758        0.338337  23.979475  25.305893\nLog-Likelihood: -4692.398402851915\n"
    },
    {
     "output_type": "execute_result",
     "data": {
      "text/plain": "<reliability.Fitters.Fit_Weibull_3P at 0x27c3caf3880>"
     },
     "metadata": {},
     "execution_count": 9
    },
    {
     "output_type": "display_data",
     "data": {
      "text/plain": "<Figure size 648x504 with 1 Axes>",
      "image/svg+xml": "<?xml version=\"1.0\" encoding=\"utf-8\" standalone=\"no\"?>\r\n<!DOCTYPE svg PUBLIC \"-//W3C//DTD SVG 1.1//EN\"\r\n  \"http://www.w3.org/Graphics/SVG/1.1/DTD/svg11.dtd\">\r\n<!-- Created with matplotlib (https://matplotlib.org/) -->\r\n<svg height=\"428.63175pt\" version=\"1.1\" viewBox=\"0 0 584.207812 428.63175\" width=\"584.207812pt\" xmlns=\"http://www.w3.org/2000/svg\" xmlns:xlink=\"http://www.w3.org/1999/xlink\">\r\n <metadata>\r\n  <rdf:RDF xmlns:cc=\"http://creativecommons.org/ns#\" xmlns:dc=\"http://purl.org/dc/elements/1.1/\" xmlns:rdf=\"http://www.w3.org/1999/02/22-rdf-syntax-ns#\">\r\n   <cc:Work>\r\n    <dc:type rdf:resource=\"http://purl.org/dc/dcmitype/StillImage\"/>\r\n    <dc:date>2020-08-06T08:04:56.549022</dc:date>\r\n    <dc:format>image/svg+xml</dc:format>\r\n    <dc:creator>\r\n     <cc:Agent>\r\n      <dc:title>Matplotlib v3.3.0, https://matplotlib.org/</dc:title>\r\n     </cc:Agent>\r\n    </dc:creator>\r\n   </cc:Work>\r\n  </rdf:RDF>\r\n </metadata>\r\n <defs>\r\n  <style type=\"text/css\">*{stroke-linecap:butt;stroke-linejoin:round;}</style>\r\n </defs>\r\n <g id=\"figure_1\">\r\n  <g id=\"patch_1\">\r\n   <path d=\"M 0 428.63175 \r\nL 584.207812 428.63175 \r\nL 584.207812 0 \r\nL 0 0 \r\nz\r\n\" style=\"fill:none;\"/>\r\n  </g>\r\n  <g id=\"axes_1\">\r\n   <g id=\"patch_2\">\r\n    <path d=\"M 66.007812 391.0755 \r\nL 568.207813 391.0755 \r\nL 568.207813 35.7555 \r\nL 66.007812 35.7555 \r\nz\r\n\" style=\"fill:#ffffff;\"/>\r\n   </g>\r\n   <g id=\"PathCollection_1\">\r\n    <defs>\r\n     <path d=\"M 0 1.5 \r\nC 0.397805 1.5 0.77937 1.341951 1.06066 1.06066 \r\nC 1.341951 0.77937 1.5 0.397805 1.5 0 \r\nC 1.5 -0.397805 1.341951 -0.77937 1.06066 -1.06066 \r\nC 0.77937 -1.341951 0.397805 -1.5 0 -1.5 \r\nC -0.397805 -1.5 -0.77937 -1.341951 -1.06066 -1.06066 \r\nC -1.341951 -0.77937 -1.5 -0.397805 -1.5 0 \r\nC -1.5 0.397805 -1.341951 0.77937 -1.06066 1.06066 \r\nC -0.77937 1.341951 -0.397805 1.5 0 1.5 \r\nz\r\n\" id=\"m957c94761b\" style=\"stroke:#000000;stroke-width:2;\"/>\r\n    </defs>\r\n    <g clip-path=\"url(#pa9050272e5)\">\r\n     <use style=\"stroke:#000000;stroke-width:2;\" x=\"136.788882\" xlink:href=\"#m957c94761b\" y=\"330.590115\"/>\r\n     <use style=\"stroke:#000000;stroke-width:2;\" x=\"136.788882\" xlink:href=\"#m957c94761b\" y=\"302.992801\"/>\r\n     <use style=\"stroke:#000000;stroke-width:2;\" x=\"208.573301\" xlink:href=\"#m957c94761b\" y=\"288.596614\"/>\r\n     <use style=\"stroke:#000000;stroke-width:2;\" x=\"208.573301\" xlink:href=\"#m957c94761b\" y=\"278.786762\"/>\r\n     <use style=\"stroke:#000000;stroke-width:2;\" x=\"208.573301\" xlink:href=\"#m957c94761b\" y=\"271.334731\"/>\r\n     <use style=\"stroke:#000000;stroke-width:2;\" x=\"208.573301\" xlink:href=\"#m957c94761b\" y=\"265.322729\"/>\r\n     <use style=\"stroke:#000000;stroke-width:2;\" x=\"208.573301\" xlink:href=\"#m957c94761b\" y=\"260.282502\"/>\r\n     <use style=\"stroke:#000000;stroke-width:2;\" x=\"208.573301\" xlink:href=\"#m957c94761b\" y=\"255.942559\"/>\r\n     <use style=\"stroke:#000000;stroke-width:2;\" x=\"208.573301\" xlink:href=\"#m957c94761b\" y=\"252.131361\"/>\r\n     <use style=\"stroke:#000000;stroke-width:2;\" x=\"208.573301\" xlink:href=\"#m957c94761b\" y=\"248.733575\"/>\r\n     <use style=\"stroke:#000000;stroke-width:2;\" x=\"208.573301\" xlink:href=\"#m957c94761b\" y=\"245.667918\"/>\r\n     <use style=\"stroke:#000000;stroke-width:2;\" x=\"208.573301\" xlink:href=\"#m957c94761b\" y=\"242.874949\"/>\r\n     <use style=\"stroke:#000000;stroke-width:2;\" x=\"208.573301\" xlink:href=\"#m957c94761b\" y=\"240.30988\"/>\r\n     <use style=\"stroke:#000000;stroke-width:2;\" x=\"238.520937\" xlink:href=\"#m957c94761b\" y=\"237.938124\"/>\r\n     <use style=\"stroke:#000000;stroke-width:2;\" x=\"238.520937\" xlink:href=\"#m957c94761b\" y=\"235.732416\"/>\r\n     <use style=\"stroke:#000000;stroke-width:2;\" x=\"238.520937\" xlink:href=\"#m957c94761b\" y=\"233.670881\"/>\r\n     <use style=\"stroke:#000000;stroke-width:2;\" x=\"238.520937\" xlink:href=\"#m957c94761b\" y=\"231.735699\"/>\r\n     <use style=\"stroke:#000000;stroke-width:2;\" x=\"238.520937\" xlink:href=\"#m957c94761b\" y=\"229.912163\"/>\r\n     <use style=\"stroke:#000000;stroke-width:2;\" x=\"238.520937\" xlink:href=\"#m957c94761b\" y=\"228.187994\"/>\r\n     <use style=\"stroke:#000000;stroke-width:2;\" x=\"238.520937\" xlink:href=\"#m957c94761b\" y=\"226.552832\"/>\r\n     <use style=\"stroke:#000000;stroke-width:2;\" x=\"238.520937\" xlink:href=\"#m957c94761b\" y=\"224.997857\"/>\r\n     <use style=\"stroke:#000000;stroke-width:2;\" x=\"238.520937\" xlink:href=\"#m957c94761b\" y=\"223.515498\"/>\r\n     <use style=\"stroke:#000000;stroke-width:2;\" x=\"238.520937\" xlink:href=\"#m957c94761b\" y=\"222.09921\"/>\r\n     <use style=\"stroke:#000000;stroke-width:2;\" x=\"238.520937\" xlink:href=\"#m957c94761b\" y=\"220.743292\"/>\r\n     <use style=\"stroke:#000000;stroke-width:2;\" x=\"238.520937\" xlink:href=\"#m957c94761b\" y=\"219.442751\"/>\r\n     <use style=\"stroke:#000000;stroke-width:2;\" x=\"238.520937\" xlink:href=\"#m957c94761b\" y=\"218.19319\"/>\r\n     <use style=\"stroke:#000000;stroke-width:2;\" x=\"257.740907\" xlink:href=\"#m957c94761b\" y=\"216.990714\"/>\r\n     <use style=\"stroke:#000000;stroke-width:2;\" x=\"257.740907\" xlink:href=\"#m957c94761b\" y=\"215.83186\"/>\r\n     <use style=\"stroke:#000000;stroke-width:2;\" x=\"257.740907\" xlink:href=\"#m957c94761b\" y=\"214.713531\"/>\r\n     <use style=\"stroke:#000000;stroke-width:2;\" x=\"257.740907\" xlink:href=\"#m957c94761b\" y=\"213.63295\"/>\r\n     <use style=\"stroke:#000000;stroke-width:2;\" x=\"257.740907\" xlink:href=\"#m957c94761b\" y=\"212.587615\"/>\r\n     <use style=\"stroke:#000000;stroke-width:2;\" x=\"257.740907\" xlink:href=\"#m957c94761b\" y=\"211.575266\"/>\r\n     <use style=\"stroke:#000000;stroke-width:2;\" x=\"257.740907\" xlink:href=\"#m957c94761b\" y=\"210.593853\"/>\r\n     <use style=\"stroke:#000000;stroke-width:2;\" x=\"271.923345\" xlink:href=\"#m957c94761b\" y=\"209.641509\"/>\r\n     <use style=\"stroke:#000000;stroke-width:2;\" x=\"271.923345\" xlink:href=\"#m957c94761b\" y=\"208.716535\"/>\r\n     <use style=\"stroke:#000000;stroke-width:2;\" x=\"271.923345\" xlink:href=\"#m957c94761b\" y=\"207.817375\"/>\r\n     <use style=\"stroke:#000000;stroke-width:2;\" x=\"271.923345\" xlink:href=\"#m957c94761b\" y=\"206.9426\"/>\r\n     <use style=\"stroke:#000000;stroke-width:2;\" x=\"271.923345\" xlink:href=\"#m957c94761b\" y=\"206.090898\"/>\r\n     <use style=\"stroke:#000000;stroke-width:2;\" x=\"271.923345\" xlink:href=\"#m957c94761b\" y=\"205.261062\"/>\r\n     <use style=\"stroke:#000000;stroke-width:2;\" x=\"271.923345\" xlink:href=\"#m957c94761b\" y=\"204.451974\"/>\r\n     <use style=\"stroke:#000000;stroke-width:2;\" x=\"271.923345\" xlink:href=\"#m957c94761b\" y=\"203.662601\"/>\r\n     <use style=\"stroke:#000000;stroke-width:2;\" x=\"271.923345\" xlink:href=\"#m957c94761b\" y=\"202.891985\"/>\r\n     <use style=\"stroke:#000000;stroke-width:2;\" x=\"283.167911\" xlink:href=\"#m957c94761b\" y=\"202.139236\"/>\r\n     <use style=\"stroke:#000000;stroke-width:2;\" x=\"283.167911\" xlink:href=\"#m957c94761b\" y=\"201.403528\"/>\r\n     <use style=\"stroke:#000000;stroke-width:2;\" x=\"283.167911\" xlink:href=\"#m957c94761b\" y=\"200.684087\"/>\r\n     <use style=\"stroke:#000000;stroke-width:2;\" x=\"283.167911\" xlink:href=\"#m957c94761b\" y=\"199.980193\"/>\r\n     <use style=\"stroke:#000000;stroke-width:2;\" x=\"283.167911\" xlink:href=\"#m957c94761b\" y=\"199.291172\"/>\r\n     <use style=\"stroke:#000000;stroke-width:2;\" x=\"283.167911\" xlink:href=\"#m957c94761b\" y=\"198.616394\"/>\r\n     <use style=\"stroke:#000000;stroke-width:2;\" x=\"283.167911\" xlink:href=\"#m957c94761b\" y=\"197.955267\"/>\r\n     <use style=\"stroke:#000000;stroke-width:2;\" x=\"292.48534\" xlink:href=\"#m957c94761b\" y=\"197.307235\"/>\r\n     <use style=\"stroke:#000000;stroke-width:2;\" x=\"292.48534\" xlink:href=\"#m957c94761b\" y=\"196.671776\"/>\r\n     <use style=\"stroke:#000000;stroke-width:2;\" x=\"292.48534\" xlink:href=\"#m957c94761b\" y=\"196.048398\"/>\r\n     <use style=\"stroke:#000000;stroke-width:2;\" x=\"292.48534\" xlink:href=\"#m957c94761b\" y=\"195.436638\"/>\r\n     <use style=\"stroke:#000000;stroke-width:2;\" x=\"292.48534\" xlink:href=\"#m957c94761b\" y=\"194.836058\"/>\r\n     <use style=\"stroke:#000000;stroke-width:2;\" x=\"292.48534\" xlink:href=\"#m957c94761b\" y=\"194.246245\"/>\r\n     <use style=\"stroke:#000000;stroke-width:2;\" x=\"292.48534\" xlink:href=\"#m957c94761b\" y=\"193.666809\"/>\r\n     <use style=\"stroke:#000000;stroke-width:2;\" x=\"292.48534\" xlink:href=\"#m957c94761b\" y=\"193.097379\"/>\r\n     <use style=\"stroke:#000000;stroke-width:2;\" x=\"292.48534\" xlink:href=\"#m957c94761b\" y=\"192.537606\"/>\r\n     <use style=\"stroke:#000000;stroke-width:2;\" x=\"300.440545\" xlink:href=\"#m957c94761b\" y=\"191.987156\"/>\r\n     <use style=\"stroke:#000000;stroke-width:2;\" x=\"300.440545\" xlink:href=\"#m957c94761b\" y=\"191.445715\"/>\r\n     <use style=\"stroke:#000000;stroke-width:2;\" x=\"300.440545\" xlink:href=\"#m957c94761b\" y=\"190.912982\"/>\r\n     <use style=\"stroke:#000000;stroke-width:2;\" x=\"300.440545\" xlink:href=\"#m957c94761b\" y=\"190.388672\"/>\r\n     <use style=\"stroke:#000000;stroke-width:2;\" x=\"300.440545\" xlink:href=\"#m957c94761b\" y=\"189.872514\"/>\r\n     <use style=\"stroke:#000000;stroke-width:2;\" x=\"300.440545\" xlink:href=\"#m957c94761b\" y=\"189.36425\"/>\r\n     <use style=\"stroke:#000000;stroke-width:2;\" x=\"300.440545\" xlink:href=\"#m957c94761b\" y=\"188.863633\"/>\r\n     <use style=\"stroke:#000000;stroke-width:2;\" x=\"300.440545\" xlink:href=\"#m957c94761b\" y=\"188.370428\"/>\r\n     <use style=\"stroke:#000000;stroke-width:2;\" x=\"300.440545\" xlink:href=\"#m957c94761b\" y=\"187.884411\"/>\r\n     <use style=\"stroke:#000000;stroke-width:2;\" x=\"300.440545\" xlink:href=\"#m957c94761b\" y=\"187.405367\"/>\r\n     <use style=\"stroke:#000000;stroke-width:2;\" x=\"300.440545\" xlink:href=\"#m957c94761b\" y=\"186.933091\"/>\r\n     <use style=\"stroke:#000000;stroke-width:2;\" x=\"300.440545\" xlink:href=\"#m957c94761b\" y=\"186.467388\"/>\r\n     <use style=\"stroke:#000000;stroke-width:2;\" x=\"300.440545\" xlink:href=\"#m957c94761b\" y=\"186.008069\"/>\r\n     <use style=\"stroke:#000000;stroke-width:2;\" x=\"300.440545\" xlink:href=\"#m957c94761b\" y=\"185.554955\"/>\r\n     <use style=\"stroke:#000000;stroke-width:2;\" x=\"300.440545\" xlink:href=\"#m957c94761b\" y=\"185.107873\"/>\r\n     <use style=\"stroke:#000000;stroke-width:2;\" x=\"300.440545\" xlink:href=\"#m957c94761b\" y=\"184.666658\"/>\r\n     <use style=\"stroke:#000000;stroke-width:2;\" x=\"307.381506\" xlink:href=\"#m957c94761b\" y=\"184.231152\"/>\r\n     <use style=\"stroke:#000000;stroke-width:2;\" x=\"307.381506\" xlink:href=\"#m957c94761b\" y=\"183.801202\"/>\r\n     <use style=\"stroke:#000000;stroke-width:2;\" x=\"307.381506\" xlink:href=\"#m957c94761b\" y=\"183.376662\"/>\r\n     <use style=\"stroke:#000000;stroke-width:2;\" x=\"307.381506\" xlink:href=\"#m957c94761b\" y=\"182.957392\"/>\r\n     <use style=\"stroke:#000000;stroke-width:2;\" x=\"307.381506\" xlink:href=\"#m957c94761b\" y=\"182.543256\"/>\r\n     <use style=\"stroke:#000000;stroke-width:2;\" x=\"307.381506\" xlink:href=\"#m957c94761b\" y=\"182.134124\"/>\r\n     <use style=\"stroke:#000000;stroke-width:2;\" x=\"307.381506\" xlink:href=\"#m957c94761b\" y=\"181.729871\"/>\r\n     <use style=\"stroke:#000000;stroke-width:2;\" x=\"307.381506\" xlink:href=\"#m957c94761b\" y=\"181.330377\"/>\r\n     <use style=\"stroke:#000000;stroke-width:2;\" x=\"307.381506\" xlink:href=\"#m957c94761b\" y=\"180.935524\"/>\r\n     <use style=\"stroke:#000000;stroke-width:2;\" x=\"307.381506\" xlink:href=\"#m957c94761b\" y=\"180.545203\"/>\r\n     <use style=\"stroke:#000000;stroke-width:2;\" x=\"307.381506\" xlink:href=\"#m957c94761b\" y=\"180.159303\"/>\r\n     <use style=\"stroke:#000000;stroke-width:2;\" x=\"313.537844\" xlink:href=\"#m957c94761b\" y=\"179.777721\"/>\r\n     <use style=\"stroke:#000000;stroke-width:2;\" x=\"313.537844\" xlink:href=\"#m957c94761b\" y=\"179.400357\"/>\r\n     <use style=\"stroke:#000000;stroke-width:2;\" x=\"313.537844\" xlink:href=\"#m957c94761b\" y=\"179.027114\"/>\r\n     <use style=\"stroke:#000000;stroke-width:2;\" x=\"313.537844\" xlink:href=\"#m957c94761b\" y=\"178.657897\"/>\r\n     <use style=\"stroke:#000000;stroke-width:2;\" x=\"313.537844\" xlink:href=\"#m957c94761b\" y=\"178.292616\"/>\r\n     <use style=\"stroke:#000000;stroke-width:2;\" x=\"313.537844\" xlink:href=\"#m957c94761b\" y=\"177.931183\"/>\r\n     <use style=\"stroke:#000000;stroke-width:2;\" x=\"313.537844\" xlink:href=\"#m957c94761b\" y=\"177.573513\"/>\r\n     <use style=\"stroke:#000000;stroke-width:2;\" x=\"313.537844\" xlink:href=\"#m957c94761b\" y=\"177.219525\"/>\r\n     <use style=\"stroke:#000000;stroke-width:2;\" x=\"313.537844\" xlink:href=\"#m957c94761b\" y=\"176.86914\"/>\r\n     <use style=\"stroke:#000000;stroke-width:2;\" x=\"313.537844\" xlink:href=\"#m957c94761b\" y=\"176.522279\"/>\r\n     <use style=\"stroke:#000000;stroke-width:2;\" x=\"319.069071\" xlink:href=\"#m957c94761b\" y=\"176.17887\"/>\r\n     <use style=\"stroke:#000000;stroke-width:2;\" x=\"319.069071\" xlink:href=\"#m957c94761b\" y=\"175.838839\"/>\r\n     <use style=\"stroke:#000000;stroke-width:2;\" x=\"319.069071\" xlink:href=\"#m957c94761b\" y=\"175.502117\"/>\r\n     <use style=\"stroke:#000000;stroke-width:2;\" x=\"319.069071\" xlink:href=\"#m957c94761b\" y=\"175.168637\"/>\r\n     <use style=\"stroke:#000000;stroke-width:2;\" x=\"319.069071\" xlink:href=\"#m957c94761b\" y=\"174.838331\"/>\r\n     <use style=\"stroke:#000000;stroke-width:2;\" x=\"319.069071\" xlink:href=\"#m957c94761b\" y=\"174.511138\"/>\r\n     <use style=\"stroke:#000000;stroke-width:2;\" x=\"319.069071\" xlink:href=\"#m957c94761b\" y=\"174.186995\"/>\r\n     <use style=\"stroke:#000000;stroke-width:2;\" x=\"319.069071\" xlink:href=\"#m957c94761b\" y=\"173.865841\"/>\r\n     <use style=\"stroke:#000000;stroke-width:2;\" x=\"319.069071\" xlink:href=\"#m957c94761b\" y=\"173.547619\"/>\r\n     <use style=\"stroke:#000000;stroke-width:2;\" x=\"324.090513\" xlink:href=\"#m957c94761b\" y=\"173.232272\"/>\r\n     <use style=\"stroke:#000000;stroke-width:2;\" x=\"324.090513\" xlink:href=\"#m957c94761b\" y=\"172.919745\"/>\r\n     <use style=\"stroke:#000000;stroke-width:2;\" x=\"324.090513\" xlink:href=\"#m957c94761b\" y=\"172.609985\"/>\r\n     <use style=\"stroke:#000000;stroke-width:2;\" x=\"324.090513\" xlink:href=\"#m957c94761b\" y=\"172.302939\"/>\r\n     <use style=\"stroke:#000000;stroke-width:2;\" x=\"324.090513\" xlink:href=\"#m957c94761b\" y=\"171.998557\"/>\r\n     <use style=\"stroke:#000000;stroke-width:2;\" x=\"324.090513\" xlink:href=\"#m957c94761b\" y=\"171.696791\"/>\r\n     <use style=\"stroke:#000000;stroke-width:2;\" x=\"324.090513\" xlink:href=\"#m957c94761b\" y=\"171.397591\"/>\r\n     <use style=\"stroke:#000000;stroke-width:2;\" x=\"324.090513\" xlink:href=\"#m957c94761b\" y=\"171.100913\"/>\r\n     <use style=\"stroke:#000000;stroke-width:2;\" x=\"324.090513\" xlink:href=\"#m957c94761b\" y=\"170.806709\"/>\r\n     <use style=\"stroke:#000000;stroke-width:2;\" x=\"324.090513\" xlink:href=\"#m957c94761b\" y=\"170.514938\"/>\r\n     <use style=\"stroke:#000000;stroke-width:2;\" x=\"328.68826\" xlink:href=\"#m957c94761b\" y=\"170.225555\"/>\r\n     <use style=\"stroke:#000000;stroke-width:2;\" x=\"328.68826\" xlink:href=\"#m957c94761b\" y=\"169.938518\"/>\r\n     <use style=\"stroke:#000000;stroke-width:2;\" x=\"328.68826\" xlink:href=\"#m957c94761b\" y=\"169.653788\"/>\r\n     <use style=\"stroke:#000000;stroke-width:2;\" x=\"328.68826\" xlink:href=\"#m957c94761b\" y=\"169.371324\"/>\r\n     <use style=\"stroke:#000000;stroke-width:2;\" x=\"332.928282\" xlink:href=\"#m957c94761b\" y=\"169.091088\"/>\r\n     <use style=\"stroke:#000000;stroke-width:2;\" x=\"332.928282\" xlink:href=\"#m957c94761b\" y=\"168.813041\"/>\r\n     <use style=\"stroke:#000000;stroke-width:2;\" x=\"332.928282\" xlink:href=\"#m957c94761b\" y=\"168.537149\"/>\r\n     <use style=\"stroke:#000000;stroke-width:2;\" x=\"332.928282\" xlink:href=\"#m957c94761b\" y=\"168.263373\"/>\r\n     <use style=\"stroke:#000000;stroke-width:2;\" x=\"332.928282\" xlink:href=\"#m957c94761b\" y=\"167.99168\"/>\r\n     <use style=\"stroke:#000000;stroke-width:2;\" x=\"332.928282\" xlink:href=\"#m957c94761b\" y=\"167.722036\"/>\r\n     <use style=\"stroke:#000000;stroke-width:2;\" x=\"332.928282\" xlink:href=\"#m957c94761b\" y=\"167.454406\"/>\r\n     <use style=\"stroke:#000000;stroke-width:2;\" x=\"332.928282\" xlink:href=\"#m957c94761b\" y=\"167.18876\"/>\r\n     <use style=\"stroke:#000000;stroke-width:2;\" x=\"332.928282\" xlink:href=\"#m957c94761b\" y=\"166.925064\"/>\r\n     <use style=\"stroke:#000000;stroke-width:2;\" x=\"332.928282\" xlink:href=\"#m957c94761b\" y=\"166.663288\"/>\r\n     <use style=\"stroke:#000000;stroke-width:2;\" x=\"332.928282\" xlink:href=\"#m957c94761b\" y=\"166.403402\"/>\r\n     <use style=\"stroke:#000000;stroke-width:2;\" x=\"332.928282\" xlink:href=\"#m957c94761b\" y=\"166.145376\"/>\r\n     <use style=\"stroke:#000000;stroke-width:2;\" x=\"332.928282\" xlink:href=\"#m957c94761b\" y=\"165.889181\"/>\r\n     <use style=\"stroke:#000000;stroke-width:2;\" x=\"332.928282\" xlink:href=\"#m957c94761b\" y=\"165.63479\"/>\r\n     <use style=\"stroke:#000000;stroke-width:2;\" x=\"332.928282\" xlink:href=\"#m957c94761b\" y=\"165.382174\"/>\r\n     <use style=\"stroke:#000000;stroke-width:2;\" x=\"332.928282\" xlink:href=\"#m957c94761b\" y=\"165.131306\"/>\r\n     <use style=\"stroke:#000000;stroke-width:2;\" x=\"332.928282\" xlink:href=\"#m957c94761b\" y=\"164.882161\"/>\r\n     <use style=\"stroke:#000000;stroke-width:2;\" x=\"332.928282\" xlink:href=\"#m957c94761b\" y=\"164.634713\"/>\r\n     <use style=\"stroke:#000000;stroke-width:2;\" x=\"332.928282\" xlink:href=\"#m957c94761b\" y=\"164.388935\"/>\r\n     <use style=\"stroke:#000000;stroke-width:2;\" x=\"332.928282\" xlink:href=\"#m957c94761b\" y=\"164.144805\"/>\r\n     <use style=\"stroke:#000000;stroke-width:2;\" x=\"332.928282\" xlink:href=\"#m957c94761b\" y=\"163.902296\"/>\r\n     <use style=\"stroke:#000000;stroke-width:2;\" x=\"332.928282\" xlink:href=\"#m957c94761b\" y=\"163.661387\"/>\r\n     <use style=\"stroke:#000000;stroke-width:2;\" x=\"336.862248\" xlink:href=\"#m957c94761b\" y=\"163.422054\"/>\r\n     <use style=\"stroke:#000000;stroke-width:2;\" x=\"336.862248\" xlink:href=\"#m957c94761b\" y=\"163.184274\"/>\r\n     <use style=\"stroke:#000000;stroke-width:2;\" x=\"336.862248\" xlink:href=\"#m957c94761b\" y=\"162.948025\"/>\r\n     <use style=\"stroke:#000000;stroke-width:2;\" x=\"336.862248\" xlink:href=\"#m957c94761b\" y=\"162.713285\"/>\r\n     <use style=\"stroke:#000000;stroke-width:2;\" x=\"336.862248\" xlink:href=\"#m957c94761b\" y=\"162.480034\"/>\r\n     <use style=\"stroke:#000000;stroke-width:2;\" x=\"336.862248\" xlink:href=\"#m957c94761b\" y=\"162.24825\"/>\r\n     <use style=\"stroke:#000000;stroke-width:2;\" x=\"336.862248\" xlink:href=\"#m957c94761b\" y=\"162.017914\"/>\r\n     <use style=\"stroke:#000000;stroke-width:2;\" x=\"336.862248\" xlink:href=\"#m957c94761b\" y=\"161.789005\"/>\r\n     <use style=\"stroke:#000000;stroke-width:2;\" x=\"336.862248\" xlink:href=\"#m957c94761b\" y=\"161.561503\"/>\r\n     <use style=\"stroke:#000000;stroke-width:2;\" x=\"336.862248\" xlink:href=\"#m957c94761b\" y=\"161.33539\"/>\r\n     <use style=\"stroke:#000000;stroke-width:2;\" x=\"336.862248\" xlink:href=\"#m957c94761b\" y=\"161.110647\"/>\r\n     <use style=\"stroke:#000000;stroke-width:2;\" x=\"336.862248\" xlink:href=\"#m957c94761b\" y=\"160.887255\"/>\r\n     <use style=\"stroke:#000000;stroke-width:2;\" x=\"336.862248\" xlink:href=\"#m957c94761b\" y=\"160.665196\"/>\r\n     <use style=\"stroke:#000000;stroke-width:2;\" x=\"336.862248\" xlink:href=\"#m957c94761b\" y=\"160.444454\"/>\r\n     <use style=\"stroke:#000000;stroke-width:2;\" x=\"340.531383\" xlink:href=\"#m957c94761b\" y=\"160.225009\"/>\r\n     <use style=\"stroke:#000000;stroke-width:2;\" x=\"340.531383\" xlink:href=\"#m957c94761b\" y=\"160.006847\"/>\r\n     <use style=\"stroke:#000000;stroke-width:2;\" x=\"340.531383\" xlink:href=\"#m957c94761b\" y=\"159.789948\"/>\r\n     <use style=\"stroke:#000000;stroke-width:2;\" x=\"340.531383\" xlink:href=\"#m957c94761b\" y=\"159.574299\"/>\r\n     <use style=\"stroke:#000000;stroke-width:2;\" x=\"340.531383\" xlink:href=\"#m957c94761b\" y=\"159.359881\"/>\r\n     <use style=\"stroke:#000000;stroke-width:2;\" x=\"340.531383\" xlink:href=\"#m957c94761b\" y=\"159.14668\"/>\r\n     <use style=\"stroke:#000000;stroke-width:2;\" x=\"340.531383\" xlink:href=\"#m957c94761b\" y=\"158.934681\"/>\r\n     <use style=\"stroke:#000000;stroke-width:2;\" x=\"340.531383\" xlink:href=\"#m957c94761b\" y=\"158.723867\"/>\r\n     <use style=\"stroke:#000000;stroke-width:2;\" x=\"340.531383\" xlink:href=\"#m957c94761b\" y=\"158.514224\"/>\r\n     <use style=\"stroke:#000000;stroke-width:2;\" x=\"340.531383\" xlink:href=\"#m957c94761b\" y=\"158.305738\"/>\r\n     <use style=\"stroke:#000000;stroke-width:2;\" x=\"340.531383\" xlink:href=\"#m957c94761b\" y=\"158.098394\"/>\r\n     <use style=\"stroke:#000000;stroke-width:2;\" x=\"340.531383\" xlink:href=\"#m957c94761b\" y=\"157.892178\"/>\r\n     <use style=\"stroke:#000000;stroke-width:2;\" x=\"340.531383\" xlink:href=\"#m957c94761b\" y=\"157.687077\"/>\r\n     <use style=\"stroke:#000000;stroke-width:2;\" x=\"340.531383\" xlink:href=\"#m957c94761b\" y=\"157.483076\"/>\r\n     <use style=\"stroke:#000000;stroke-width:2;\" x=\"340.531383\" xlink:href=\"#m957c94761b\" y=\"157.280162\"/>\r\n     <use style=\"stroke:#000000;stroke-width:2;\" x=\"340.531383\" xlink:href=\"#m957c94761b\" y=\"157.078323\"/>\r\n     <use style=\"stroke:#000000;stroke-width:2;\" x=\"340.531383\" xlink:href=\"#m957c94761b\" y=\"156.877545\"/>\r\n     <use style=\"stroke:#000000;stroke-width:2;\" x=\"340.531383\" xlink:href=\"#m957c94761b\" y=\"156.677816\"/>\r\n     <use style=\"stroke:#000000;stroke-width:2;\" x=\"340.531383\" xlink:href=\"#m957c94761b\" y=\"156.479123\"/>\r\n     <use style=\"stroke:#000000;stroke-width:2;\" x=\"340.531383\" xlink:href=\"#m957c94761b\" y=\"156.281454\"/>\r\n     <use style=\"stroke:#000000;stroke-width:2;\" x=\"343.969105\" xlink:href=\"#m957c94761b\" y=\"156.084797\"/>\r\n     <use style=\"stroke:#000000;stroke-width:2;\" x=\"343.969105\" xlink:href=\"#m957c94761b\" y=\"155.88914\"/>\r\n     <use style=\"stroke:#000000;stroke-width:2;\" x=\"343.969105\" xlink:href=\"#m957c94761b\" y=\"155.694472\"/>\r\n     <use style=\"stroke:#000000;stroke-width:2;\" x=\"343.969105\" xlink:href=\"#m957c94761b\" y=\"155.500781\"/>\r\n     <use style=\"stroke:#000000;stroke-width:2;\" x=\"343.969105\" xlink:href=\"#m957c94761b\" y=\"155.308056\"/>\r\n     <use style=\"stroke:#000000;stroke-width:2;\" x=\"343.969105\" xlink:href=\"#m957c94761b\" y=\"155.116286\"/>\r\n     <use style=\"stroke:#000000;stroke-width:2;\" x=\"343.969105\" xlink:href=\"#m957c94761b\" y=\"154.925461\"/>\r\n     <use style=\"stroke:#000000;stroke-width:2;\" x=\"343.969105\" xlink:href=\"#m957c94761b\" y=\"154.735569\"/>\r\n     <use style=\"stroke:#000000;stroke-width:2;\" x=\"343.969105\" xlink:href=\"#m957c94761b\" y=\"154.5466\"/>\r\n     <use style=\"stroke:#000000;stroke-width:2;\" x=\"343.969105\" xlink:href=\"#m957c94761b\" y=\"154.358543\"/>\r\n     <use style=\"stroke:#000000;stroke-width:2;\" x=\"343.969105\" xlink:href=\"#m957c94761b\" y=\"154.171389\"/>\r\n     <use style=\"stroke:#000000;stroke-width:2;\" x=\"343.969105\" xlink:href=\"#m957c94761b\" y=\"153.985128\"/>\r\n     <use style=\"stroke:#000000;stroke-width:2;\" x=\"343.969105\" xlink:href=\"#m957c94761b\" y=\"153.799749\"/>\r\n     <use style=\"stroke:#000000;stroke-width:2;\" x=\"343.969105\" xlink:href=\"#m957c94761b\" y=\"153.615243\"/>\r\n     <use style=\"stroke:#000000;stroke-width:2;\" x=\"343.969105\" xlink:href=\"#m957c94761b\" y=\"153.431601\"/>\r\n     <use style=\"stroke:#000000;stroke-width:2;\" x=\"343.969105\" xlink:href=\"#m957c94761b\" y=\"153.248813\"/>\r\n     <use style=\"stroke:#000000;stroke-width:2;\" x=\"343.969105\" xlink:href=\"#m957c94761b\" y=\"153.06687\"/>\r\n     <use style=\"stroke:#000000;stroke-width:2;\" x=\"347.202881\" xlink:href=\"#m957c94761b\" y=\"152.885763\"/>\r\n     <use style=\"stroke:#000000;stroke-width:2;\" x=\"347.202881\" xlink:href=\"#m957c94761b\" y=\"152.705483\"/>\r\n     <use style=\"stroke:#000000;stroke-width:2;\" x=\"347.202881\" xlink:href=\"#m957c94761b\" y=\"152.526021\"/>\r\n     <use style=\"stroke:#000000;stroke-width:2;\" x=\"347.202881\" xlink:href=\"#m957c94761b\" y=\"152.347368\"/>\r\n     <use style=\"stroke:#000000;stroke-width:2;\" x=\"347.202881\" xlink:href=\"#m957c94761b\" y=\"152.169516\"/>\r\n     <use style=\"stroke:#000000;stroke-width:2;\" x=\"347.202881\" xlink:href=\"#m957c94761b\" y=\"151.992457\"/>\r\n     <use style=\"stroke:#000000;stroke-width:2;\" x=\"347.202881\" xlink:href=\"#m957c94761b\" y=\"151.816182\"/>\r\n     <use style=\"stroke:#000000;stroke-width:2;\" x=\"347.202881\" xlink:href=\"#m957c94761b\" y=\"151.640683\"/>\r\n     <use style=\"stroke:#000000;stroke-width:2;\" x=\"347.202881\" xlink:href=\"#m957c94761b\" y=\"151.465952\"/>\r\n     <use style=\"stroke:#000000;stroke-width:2;\" x=\"347.202881\" xlink:href=\"#m957c94761b\" y=\"151.291981\"/>\r\n     <use style=\"stroke:#000000;stroke-width:2;\" x=\"347.202881\" xlink:href=\"#m957c94761b\" y=\"151.118763\"/>\r\n     <use style=\"stroke:#000000;stroke-width:2;\" x=\"347.202881\" xlink:href=\"#m957c94761b\" y=\"150.946289\"/>\r\n     <use style=\"stroke:#000000;stroke-width:2;\" x=\"347.202881\" xlink:href=\"#m957c94761b\" y=\"150.774553\"/>\r\n     <use style=\"stroke:#000000;stroke-width:2;\" x=\"347.202881\" xlink:href=\"#m957c94761b\" y=\"150.603546\"/>\r\n     <use style=\"stroke:#000000;stroke-width:2;\" x=\"350.255561\" xlink:href=\"#m957c94761b\" y=\"150.433261\"/>\r\n     <use style=\"stroke:#000000;stroke-width:2;\" x=\"350.255561\" xlink:href=\"#m957c94761b\" y=\"150.263692\"/>\r\n     <use style=\"stroke:#000000;stroke-width:2;\" x=\"350.255561\" xlink:href=\"#m957c94761b\" y=\"150.09483\"/>\r\n     <use style=\"stroke:#000000;stroke-width:2;\" x=\"350.255561\" xlink:href=\"#m957c94761b\" y=\"149.92667\"/>\r\n     <use style=\"stroke:#000000;stroke-width:2;\" x=\"350.255561\" xlink:href=\"#m957c94761b\" y=\"149.759203\"/>\r\n     <use style=\"stroke:#000000;stroke-width:2;\" x=\"350.255561\" xlink:href=\"#m957c94761b\" y=\"149.592424\"/>\r\n     <use style=\"stroke:#000000;stroke-width:2;\" x=\"350.255561\" xlink:href=\"#m957c94761b\" y=\"149.426325\"/>\r\n     <use style=\"stroke:#000000;stroke-width:2;\" x=\"350.255561\" xlink:href=\"#m957c94761b\" y=\"149.260899\"/>\r\n     <use style=\"stroke:#000000;stroke-width:2;\" x=\"350.255561\" xlink:href=\"#m957c94761b\" y=\"149.096141\"/>\r\n     <use style=\"stroke:#000000;stroke-width:2;\" x=\"350.255561\" xlink:href=\"#m957c94761b\" y=\"148.932044\"/>\r\n     <use style=\"stroke:#000000;stroke-width:2;\" x=\"350.255561\" xlink:href=\"#m957c94761b\" y=\"148.768601\"/>\r\n     <use style=\"stroke:#000000;stroke-width:2;\" x=\"350.255561\" xlink:href=\"#m957c94761b\" y=\"148.605806\"/>\r\n     <use style=\"stroke:#000000;stroke-width:2;\" x=\"350.255561\" xlink:href=\"#m957c94761b\" y=\"148.443653\"/>\r\n     <use style=\"stroke:#000000;stroke-width:2;\" x=\"350.255561\" xlink:href=\"#m957c94761b\" y=\"148.282136\"/>\r\n     <use style=\"stroke:#000000;stroke-width:2;\" x=\"350.255561\" xlink:href=\"#m957c94761b\" y=\"148.121248\"/>\r\n     <use style=\"stroke:#000000;stroke-width:2;\" x=\"350.255561\" xlink:href=\"#m957c94761b\" y=\"147.960985\"/>\r\n     <use style=\"stroke:#000000;stroke-width:2;\" x=\"350.255561\" xlink:href=\"#m957c94761b\" y=\"147.801339\"/>\r\n     <use style=\"stroke:#000000;stroke-width:2;\" x=\"350.255561\" xlink:href=\"#m957c94761b\" y=\"147.642306\"/>\r\n     <use style=\"stroke:#000000;stroke-width:2;\" x=\"350.255561\" xlink:href=\"#m957c94761b\" y=\"147.483878\"/>\r\n     <use style=\"stroke:#000000;stroke-width:2;\" x=\"353.146356\" xlink:href=\"#m957c94761b\" y=\"147.326052\"/>\r\n     <use style=\"stroke:#000000;stroke-width:2;\" x=\"353.146356\" xlink:href=\"#m957c94761b\" y=\"147.168821\"/>\r\n     <use style=\"stroke:#000000;stroke-width:2;\" x=\"353.146356\" xlink:href=\"#m957c94761b\" y=\"147.01218\"/>\r\n     <use style=\"stroke:#000000;stroke-width:2;\" x=\"353.146356\" xlink:href=\"#m957c94761b\" y=\"146.856122\"/>\r\n     <use style=\"stroke:#000000;stroke-width:2;\" x=\"353.146356\" xlink:href=\"#m957c94761b\" y=\"146.700644\"/>\r\n     <use style=\"stroke:#000000;stroke-width:2;\" x=\"353.146356\" xlink:href=\"#m957c94761b\" y=\"146.54574\"/>\r\n     <use style=\"stroke:#000000;stroke-width:2;\" x=\"353.146356\" xlink:href=\"#m957c94761b\" y=\"146.391404\"/>\r\n     <use style=\"stroke:#000000;stroke-width:2;\" x=\"353.146356\" xlink:href=\"#m957c94761b\" y=\"146.237631\"/>\r\n     <use style=\"stroke:#000000;stroke-width:2;\" x=\"353.146356\" xlink:href=\"#m957c94761b\" y=\"146.084417\"/>\r\n     <use style=\"stroke:#000000;stroke-width:2;\" x=\"353.146356\" xlink:href=\"#m957c94761b\" y=\"145.931756\"/>\r\n     <use style=\"stroke:#000000;stroke-width:2;\" x=\"353.146356\" xlink:href=\"#m957c94761b\" y=\"145.779643\"/>\r\n     <use style=\"stroke:#000000;stroke-width:2;\" x=\"353.146356\" xlink:href=\"#m957c94761b\" y=\"145.628074\"/>\r\n     <use style=\"stroke:#000000;stroke-width:2;\" x=\"353.146356\" xlink:href=\"#m957c94761b\" y=\"145.477043\"/>\r\n     <use style=\"stroke:#000000;stroke-width:2;\" x=\"353.146356\" xlink:href=\"#m957c94761b\" y=\"145.326546\"/>\r\n     <use style=\"stroke:#000000;stroke-width:2;\" x=\"353.146356\" xlink:href=\"#m957c94761b\" y=\"145.176578\"/>\r\n     <use style=\"stroke:#000000;stroke-width:2;\" x=\"355.891576\" xlink:href=\"#m957c94761b\" y=\"145.027134\"/>\r\n     <use style=\"stroke:#000000;stroke-width:2;\" x=\"355.891576\" xlink:href=\"#m957c94761b\" y=\"144.87821\"/>\r\n     <use style=\"stroke:#000000;stroke-width:2;\" x=\"355.891576\" xlink:href=\"#m957c94761b\" y=\"144.729802\"/>\r\n     <use style=\"stroke:#000000;stroke-width:2;\" x=\"355.891576\" xlink:href=\"#m957c94761b\" y=\"144.581904\"/>\r\n     <use style=\"stroke:#000000;stroke-width:2;\" x=\"355.891576\" xlink:href=\"#m957c94761b\" y=\"144.434513\"/>\r\n     <use style=\"stroke:#000000;stroke-width:2;\" x=\"355.891576\" xlink:href=\"#m957c94761b\" y=\"144.287624\"/>\r\n     <use style=\"stroke:#000000;stroke-width:2;\" x=\"355.891576\" xlink:href=\"#m957c94761b\" y=\"144.141233\"/>\r\n     <use style=\"stroke:#000000;stroke-width:2;\" x=\"355.891576\" xlink:href=\"#m957c94761b\" y=\"143.995335\"/>\r\n     <use style=\"stroke:#000000;stroke-width:2;\" x=\"358.50518\" xlink:href=\"#m957c94761b\" y=\"143.849926\"/>\r\n     <use style=\"stroke:#000000;stroke-width:2;\" x=\"358.50518\" xlink:href=\"#m957c94761b\" y=\"143.705002\"/>\r\n     <use style=\"stroke:#000000;stroke-width:2;\" x=\"358.50518\" xlink:href=\"#m957c94761b\" y=\"143.56056\"/>\r\n     <use style=\"stroke:#000000;stroke-width:2;\" x=\"358.50518\" xlink:href=\"#m957c94761b\" y=\"143.416594\"/>\r\n     <use style=\"stroke:#000000;stroke-width:2;\" x=\"358.50518\" xlink:href=\"#m957c94761b\" y=\"143.273101\"/>\r\n     <use style=\"stroke:#000000;stroke-width:2;\" x=\"358.50518\" xlink:href=\"#m957c94761b\" y=\"143.130077\"/>\r\n     <use style=\"stroke:#000000;stroke-width:2;\" x=\"358.50518\" xlink:href=\"#m957c94761b\" y=\"142.987518\"/>\r\n     <use style=\"stroke:#000000;stroke-width:2;\" x=\"358.50518\" xlink:href=\"#m957c94761b\" y=\"142.84542\"/>\r\n     <use style=\"stroke:#000000;stroke-width:2;\" x=\"358.50518\" xlink:href=\"#m957c94761b\" y=\"142.703779\"/>\r\n     <use style=\"stroke:#000000;stroke-width:2;\" x=\"358.50518\" xlink:href=\"#m957c94761b\" y=\"142.562591\"/>\r\n     <use style=\"stroke:#000000;stroke-width:2;\" x=\"358.50518\" xlink:href=\"#m957c94761b\" y=\"142.421854\"/>\r\n     <use style=\"stroke:#000000;stroke-width:2;\" x=\"358.50518\" xlink:href=\"#m957c94761b\" y=\"142.281562\"/>\r\n     <use style=\"stroke:#000000;stroke-width:2;\" x=\"358.50518\" xlink:href=\"#m957c94761b\" y=\"142.141712\"/>\r\n     <use style=\"stroke:#000000;stroke-width:2;\" x=\"360.999216\" xlink:href=\"#m957c94761b\" y=\"142.002302\"/>\r\n     <use style=\"stroke:#000000;stroke-width:2;\" x=\"360.999216\" xlink:href=\"#m957c94761b\" y=\"141.863326\"/>\r\n     <use style=\"stroke:#000000;stroke-width:2;\" x=\"360.999216\" xlink:href=\"#m957c94761b\" y=\"141.724782\"/>\r\n     <use style=\"stroke:#000000;stroke-width:2;\" x=\"360.999216\" xlink:href=\"#m957c94761b\" y=\"141.586666\"/>\r\n     <use style=\"stroke:#000000;stroke-width:2;\" x=\"360.999216\" xlink:href=\"#m957c94761b\" y=\"141.448975\"/>\r\n     <use style=\"stroke:#000000;stroke-width:2;\" x=\"360.999216\" xlink:href=\"#m957c94761b\" y=\"141.311704\"/>\r\n     <use style=\"stroke:#000000;stroke-width:2;\" x=\"360.999216\" xlink:href=\"#m957c94761b\" y=\"141.174852\"/>\r\n     <use style=\"stroke:#000000;stroke-width:2;\" x=\"360.999216\" xlink:href=\"#m957c94761b\" y=\"141.038414\"/>\r\n     <use style=\"stroke:#000000;stroke-width:2;\" x=\"360.999216\" xlink:href=\"#m957c94761b\" y=\"140.902387\"/>\r\n     <use style=\"stroke:#000000;stroke-width:2;\" x=\"360.999216\" xlink:href=\"#m957c94761b\" y=\"140.766768\"/>\r\n     <use style=\"stroke:#000000;stroke-width:2;\" x=\"360.999216\" xlink:href=\"#m957c94761b\" y=\"140.631553\"/>\r\n     <use style=\"stroke:#000000;stroke-width:2;\" x=\"360.999216\" xlink:href=\"#m957c94761b\" y=\"140.49674\"/>\r\n     <use style=\"stroke:#000000;stroke-width:2;\" x=\"360.999216\" xlink:href=\"#m957c94761b\" y=\"140.362325\"/>\r\n     <use style=\"stroke:#000000;stroke-width:2;\" x=\"360.999216\" xlink:href=\"#m957c94761b\" y=\"140.228306\"/>\r\n     <use style=\"stroke:#000000;stroke-width:2;\" x=\"360.999216\" xlink:href=\"#m957c94761b\" y=\"140.094678\"/>\r\n     <use style=\"stroke:#000000;stroke-width:2;\" x=\"360.999216\" xlink:href=\"#m957c94761b\" y=\"139.961439\"/>\r\n     <use style=\"stroke:#000000;stroke-width:2;\" x=\"363.384145\" xlink:href=\"#m957c94761b\" y=\"139.828586\"/>\r\n     <use style=\"stroke:#000000;stroke-width:2;\" x=\"363.384145\" xlink:href=\"#m957c94761b\" y=\"139.696116\"/>\r\n     <use style=\"stroke:#000000;stroke-width:2;\" x=\"363.384145\" xlink:href=\"#m957c94761b\" y=\"139.564025\"/>\r\n     <use style=\"stroke:#000000;stroke-width:2;\" x=\"363.384145\" xlink:href=\"#m957c94761b\" y=\"139.432312\"/>\r\n     <use style=\"stroke:#000000;stroke-width:2;\" x=\"363.384145\" xlink:href=\"#m957c94761b\" y=\"139.300972\"/>\r\n     <use style=\"stroke:#000000;stroke-width:2;\" x=\"363.384145\" xlink:href=\"#m957c94761b\" y=\"139.170004\"/>\r\n     <use style=\"stroke:#000000;stroke-width:2;\" x=\"363.384145\" xlink:href=\"#m957c94761b\" y=\"139.039404\"/>\r\n     <use style=\"stroke:#000000;stroke-width:2;\" x=\"363.384145\" xlink:href=\"#m957c94761b\" y=\"138.90917\"/>\r\n     <use style=\"stroke:#000000;stroke-width:2;\" x=\"363.384145\" xlink:href=\"#m957c94761b\" y=\"138.779298\"/>\r\n     <use style=\"stroke:#000000;stroke-width:2;\" x=\"363.384145\" xlink:href=\"#m957c94761b\" y=\"138.649786\"/>\r\n     <use style=\"stroke:#000000;stroke-width:2;\" x=\"363.384145\" xlink:href=\"#m957c94761b\" y=\"138.520631\"/>\r\n     <use style=\"stroke:#000000;stroke-width:2;\" x=\"363.384145\" xlink:href=\"#m957c94761b\" y=\"138.391831\"/>\r\n     <use style=\"stroke:#000000;stroke-width:2;\" x=\"363.384145\" xlink:href=\"#m957c94761b\" y=\"138.263382\"/>\r\n     <use style=\"stroke:#000000;stroke-width:2;\" x=\"363.384145\" xlink:href=\"#m957c94761b\" y=\"138.135282\"/>\r\n     <use style=\"stroke:#000000;stroke-width:2;\" x=\"365.669115\" xlink:href=\"#m957c94761b\" y=\"138.007529\"/>\r\n     <use style=\"stroke:#000000;stroke-width:2;\" x=\"365.669115\" xlink:href=\"#m957c94761b\" y=\"137.88012\"/>\r\n     <use style=\"stroke:#000000;stroke-width:2;\" x=\"365.669115\" xlink:href=\"#m957c94761b\" y=\"137.753052\"/>\r\n     <use style=\"stroke:#000000;stroke-width:2;\" x=\"365.669115\" xlink:href=\"#m957c94761b\" y=\"137.626323\"/>\r\n     <use style=\"stroke:#000000;stroke-width:2;\" x=\"365.669115\" xlink:href=\"#m957c94761b\" y=\"137.49993\"/>\r\n     <use style=\"stroke:#000000;stroke-width:2;\" x=\"365.669115\" xlink:href=\"#m957c94761b\" y=\"137.37387\"/>\r\n     <use style=\"stroke:#000000;stroke-width:2;\" x=\"365.669115\" xlink:href=\"#m957c94761b\" y=\"137.248142\"/>\r\n     <use style=\"stroke:#000000;stroke-width:2;\" x=\"365.669115\" xlink:href=\"#m957c94761b\" y=\"137.122743\"/>\r\n     <use style=\"stroke:#000000;stroke-width:2;\" x=\"365.669115\" xlink:href=\"#m957c94761b\" y=\"136.99767\"/>\r\n     <use style=\"stroke:#000000;stroke-width:2;\" x=\"365.669115\" xlink:href=\"#m957c94761b\" y=\"136.872921\"/>\r\n     <use style=\"stroke:#000000;stroke-width:2;\" x=\"365.669115\" xlink:href=\"#m957c94761b\" y=\"136.748493\"/>\r\n     <use style=\"stroke:#000000;stroke-width:2;\" x=\"365.669115\" xlink:href=\"#m957c94761b\" y=\"136.624385\"/>\r\n     <use style=\"stroke:#000000;stroke-width:2;\" x=\"365.669115\" xlink:href=\"#m957c94761b\" y=\"136.500593\"/>\r\n     <use style=\"stroke:#000000;stroke-width:2;\" x=\"365.669115\" xlink:href=\"#m957c94761b\" y=\"136.377116\"/>\r\n     <use style=\"stroke:#000000;stroke-width:2;\" x=\"365.669115\" xlink:href=\"#m957c94761b\" y=\"136.253952\"/>\r\n     <use style=\"stroke:#000000;stroke-width:2;\" x=\"365.669115\" xlink:href=\"#m957c94761b\" y=\"136.131097\"/>\r\n     <use style=\"stroke:#000000;stroke-width:2;\" x=\"367.862169\" xlink:href=\"#m957c94761b\" y=\"136.00855\"/>\r\n     <use style=\"stroke:#000000;stroke-width:2;\" x=\"367.862169\" xlink:href=\"#m957c94761b\" y=\"135.886308\"/>\r\n     <use style=\"stroke:#000000;stroke-width:2;\" x=\"367.862169\" xlink:href=\"#m957c94761b\" y=\"135.76437\"/>\r\n     <use style=\"stroke:#000000;stroke-width:2;\" x=\"367.862169\" xlink:href=\"#m957c94761b\" y=\"135.642733\"/>\r\n     <use style=\"stroke:#000000;stroke-width:2;\" x=\"367.862169\" xlink:href=\"#m957c94761b\" y=\"135.521394\"/>\r\n     <use style=\"stroke:#000000;stroke-width:2;\" x=\"367.862169\" xlink:href=\"#m957c94761b\" y=\"135.400353\"/>\r\n     <use style=\"stroke:#000000;stroke-width:2;\" x=\"367.862169\" xlink:href=\"#m957c94761b\" y=\"135.279606\"/>\r\n     <use style=\"stroke:#000000;stroke-width:2;\" x=\"367.862169\" xlink:href=\"#m957c94761b\" y=\"135.159151\"/>\r\n     <use style=\"stroke:#000000;stroke-width:2;\" x=\"367.862169\" xlink:href=\"#m957c94761b\" y=\"135.038987\"/>\r\n     <use style=\"stroke:#000000;stroke-width:2;\" x=\"367.862169\" xlink:href=\"#m957c94761b\" y=\"134.919112\"/>\r\n     <use style=\"stroke:#000000;stroke-width:2;\" x=\"367.862169\" xlink:href=\"#m957c94761b\" y=\"134.799523\"/>\r\n     <use style=\"stroke:#000000;stroke-width:2;\" x=\"367.862169\" xlink:href=\"#m957c94761b\" y=\"134.680217\"/>\r\n     <use style=\"stroke:#000000;stroke-width:2;\" x=\"367.862169\" xlink:href=\"#m957c94761b\" y=\"134.561195\"/>\r\n     <use style=\"stroke:#000000;stroke-width:2;\" x=\"367.862169\" xlink:href=\"#m957c94761b\" y=\"134.442452\"/>\r\n     <use style=\"stroke:#000000;stroke-width:2;\" x=\"369.970418\" xlink:href=\"#m957c94761b\" y=\"134.323988\"/>\r\n     <use style=\"stroke:#000000;stroke-width:2;\" x=\"369.970418\" xlink:href=\"#m957c94761b\" y=\"134.2058\"/>\r\n     <use style=\"stroke:#000000;stroke-width:2;\" x=\"369.970418\" xlink:href=\"#m957c94761b\" y=\"134.087887\"/>\r\n     <use style=\"stroke:#000000;stroke-width:2;\" x=\"369.970418\" xlink:href=\"#m957c94761b\" y=\"133.970246\"/>\r\n     <use style=\"stroke:#000000;stroke-width:2;\" x=\"369.970418\" xlink:href=\"#m957c94761b\" y=\"133.852875\"/>\r\n     <use style=\"stroke:#000000;stroke-width:2;\" x=\"369.970418\" xlink:href=\"#m957c94761b\" y=\"133.735773\"/>\r\n     <use style=\"stroke:#000000;stroke-width:2;\" x=\"369.970418\" xlink:href=\"#m957c94761b\" y=\"133.618938\"/>\r\n     <use style=\"stroke:#000000;stroke-width:2;\" x=\"369.970418\" xlink:href=\"#m957c94761b\" y=\"133.502368\"/>\r\n     <use style=\"stroke:#000000;stroke-width:2;\" x=\"369.970418\" xlink:href=\"#m957c94761b\" y=\"133.386061\"/>\r\n     <use style=\"stroke:#000000;stroke-width:2;\" x=\"369.970418\" xlink:href=\"#m957c94761b\" y=\"133.270015\"/>\r\n     <use style=\"stroke:#000000;stroke-width:2;\" x=\"369.970418\" xlink:href=\"#m957c94761b\" y=\"133.154229\"/>\r\n     <use style=\"stroke:#000000;stroke-width:2;\" x=\"369.970418\" xlink:href=\"#m957c94761b\" y=\"133.0387\"/>\r\n     <use style=\"stroke:#000000;stroke-width:2;\" x=\"369.970418\" xlink:href=\"#m957c94761b\" y=\"132.923427\"/>\r\n     <use style=\"stroke:#000000;stroke-width:2;\" x=\"369.970418\" xlink:href=\"#m957c94761b\" y=\"132.808408\"/>\r\n     <use style=\"stroke:#000000;stroke-width:2;\" x=\"369.970418\" xlink:href=\"#m957c94761b\" y=\"132.693642\"/>\r\n     <use style=\"stroke:#000000;stroke-width:2;\" x=\"372.000176\" xlink:href=\"#m957c94761b\" y=\"132.579126\"/>\r\n     <use style=\"stroke:#000000;stroke-width:2;\" x=\"372.000176\" xlink:href=\"#m957c94761b\" y=\"132.464859\"/>\r\n     <use style=\"stroke:#000000;stroke-width:2;\" x=\"372.000176\" xlink:href=\"#m957c94761b\" y=\"132.350839\"/>\r\n     <use style=\"stroke:#000000;stroke-width:2;\" x=\"372.000176\" xlink:href=\"#m957c94761b\" y=\"132.237064\"/>\r\n     <use style=\"stroke:#000000;stroke-width:2;\" x=\"372.000176\" xlink:href=\"#m957c94761b\" y=\"132.123533\"/>\r\n     <use style=\"stroke:#000000;stroke-width:2;\" x=\"372.000176\" xlink:href=\"#m957c94761b\" y=\"132.010245\"/>\r\n     <use style=\"stroke:#000000;stroke-width:2;\" x=\"372.000176\" xlink:href=\"#m957c94761b\" y=\"131.897197\"/>\r\n     <use style=\"stroke:#000000;stroke-width:2;\" x=\"372.000176\" xlink:href=\"#m957c94761b\" y=\"131.784387\"/>\r\n     <use style=\"stroke:#000000;stroke-width:2;\" x=\"372.000176\" xlink:href=\"#m957c94761b\" y=\"131.671815\"/>\r\n     <use style=\"stroke:#000000;stroke-width:2;\" x=\"372.000176\" xlink:href=\"#m957c94761b\" y=\"131.559479\"/>\r\n     <use style=\"stroke:#000000;stroke-width:2;\" x=\"373.957079\" xlink:href=\"#m957c94761b\" y=\"131.447376\"/>\r\n     <use style=\"stroke:#000000;stroke-width:2;\" x=\"373.957079\" xlink:href=\"#m957c94761b\" y=\"131.335506\"/>\r\n     <use style=\"stroke:#000000;stroke-width:2;\" x=\"373.957079\" xlink:href=\"#m957c94761b\" y=\"131.223866\"/>\r\n     <use style=\"stroke:#000000;stroke-width:2;\" x=\"373.957079\" xlink:href=\"#m957c94761b\" y=\"131.112456\"/>\r\n     <use style=\"stroke:#000000;stroke-width:2;\" x=\"373.957079\" xlink:href=\"#m957c94761b\" y=\"131.001274\"/>\r\n     <use style=\"stroke:#000000;stroke-width:2;\" x=\"373.957079\" xlink:href=\"#m957c94761b\" y=\"130.890318\"/>\r\n     <use style=\"stroke:#000000;stroke-width:2;\" x=\"373.957079\" xlink:href=\"#m957c94761b\" y=\"130.779586\"/>\r\n     <use style=\"stroke:#000000;stroke-width:2;\" x=\"373.957079\" xlink:href=\"#m957c94761b\" y=\"130.669078\"/>\r\n     <use style=\"stroke:#000000;stroke-width:2;\" x=\"373.957079\" xlink:href=\"#m957c94761b\" y=\"130.558791\"/>\r\n     <use style=\"stroke:#000000;stroke-width:2;\" x=\"373.957079\" xlink:href=\"#m957c94761b\" y=\"130.448724\"/>\r\n     <use style=\"stroke:#000000;stroke-width:2;\" x=\"373.957079\" xlink:href=\"#m957c94761b\" y=\"130.338876\"/>\r\n     <use style=\"stroke:#000000;stroke-width:2;\" x=\"373.957079\" xlink:href=\"#m957c94761b\" y=\"130.229245\"/>\r\n     <use style=\"stroke:#000000;stroke-width:2;\" x=\"373.957079\" xlink:href=\"#m957c94761b\" y=\"130.11983\"/>\r\n     <use style=\"stroke:#000000;stroke-width:2;\" x=\"373.957079\" xlink:href=\"#m957c94761b\" y=\"130.010629\"/>\r\n     <use style=\"stroke:#000000;stroke-width:2;\" x=\"373.957079\" xlink:href=\"#m957c94761b\" y=\"129.901641\"/>\r\n     <use style=\"stroke:#000000;stroke-width:2;\" x=\"373.957079\" xlink:href=\"#m957c94761b\" y=\"129.792865\"/>\r\n     <use style=\"stroke:#000000;stroke-width:2;\" x=\"375.846176\" xlink:href=\"#m957c94761b\" y=\"129.684298\"/>\r\n     <use style=\"stroke:#000000;stroke-width:2;\" x=\"375.846176\" xlink:href=\"#m957c94761b\" y=\"129.57594\"/>\r\n     <use style=\"stroke:#000000;stroke-width:2;\" x=\"375.846176\" xlink:href=\"#m957c94761b\" y=\"129.46779\"/>\r\n     <use style=\"stroke:#000000;stroke-width:2;\" x=\"375.846176\" xlink:href=\"#m957c94761b\" y=\"129.359845\"/>\r\n     <use style=\"stroke:#000000;stroke-width:2;\" x=\"375.846176\" xlink:href=\"#m957c94761b\" y=\"129.252105\"/>\r\n     <use style=\"stroke:#000000;stroke-width:2;\" x=\"375.846176\" xlink:href=\"#m957c94761b\" y=\"129.144568\"/>\r\n     <use style=\"stroke:#000000;stroke-width:2;\" x=\"375.846176\" xlink:href=\"#m957c94761b\" y=\"129.037232\"/>\r\n     <use style=\"stroke:#000000;stroke-width:2;\" x=\"375.846176\" xlink:href=\"#m957c94761b\" y=\"128.930098\"/>\r\n     <use style=\"stroke:#000000;stroke-width:2;\" x=\"375.846176\" xlink:href=\"#m957c94761b\" y=\"128.823162\"/>\r\n     <use style=\"stroke:#000000;stroke-width:2;\" x=\"375.846176\" xlink:href=\"#m957c94761b\" y=\"128.716424\"/>\r\n     <use style=\"stroke:#000000;stroke-width:2;\" x=\"375.846176\" xlink:href=\"#m957c94761b\" y=\"128.609882\"/>\r\n     <use style=\"stroke:#000000;stroke-width:2;\" x=\"375.846176\" xlink:href=\"#m957c94761b\" y=\"128.503536\"/>\r\n     <use style=\"stroke:#000000;stroke-width:2;\" x=\"375.846176\" xlink:href=\"#m957c94761b\" y=\"128.397384\"/>\r\n     <use style=\"stroke:#000000;stroke-width:2;\" x=\"377.672008\" xlink:href=\"#m957c94761b\" y=\"128.291424\"/>\r\n     <use style=\"stroke:#000000;stroke-width:2;\" x=\"377.672008\" xlink:href=\"#m957c94761b\" y=\"128.185655\"/>\r\n     <use style=\"stroke:#000000;stroke-width:2;\" x=\"377.672008\" xlink:href=\"#m957c94761b\" y=\"128.080077\"/>\r\n     <use style=\"stroke:#000000;stroke-width:2;\" x=\"377.672008\" xlink:href=\"#m957c94761b\" y=\"127.974688\"/>\r\n     <use style=\"stroke:#000000;stroke-width:2;\" x=\"377.672008\" xlink:href=\"#m957c94761b\" y=\"127.869486\"/>\r\n     <use style=\"stroke:#000000;stroke-width:2;\" x=\"377.672008\" xlink:href=\"#m957c94761b\" y=\"127.76447\"/>\r\n     <use style=\"stroke:#000000;stroke-width:2;\" x=\"377.672008\" xlink:href=\"#m957c94761b\" y=\"127.659639\"/>\r\n     <use style=\"stroke:#000000;stroke-width:2;\" x=\"377.672008\" xlink:href=\"#m957c94761b\" y=\"127.554993\"/>\r\n     <use style=\"stroke:#000000;stroke-width:2;\" x=\"377.672008\" xlink:href=\"#m957c94761b\" y=\"127.450529\"/>\r\n     <use style=\"stroke:#000000;stroke-width:2;\" x=\"377.672008\" xlink:href=\"#m957c94761b\" y=\"127.346246\"/>\r\n     <use style=\"stroke:#000000;stroke-width:2;\" x=\"377.672008\" xlink:href=\"#m957c94761b\" y=\"127.242144\"/>\r\n     <use style=\"stroke:#000000;stroke-width:2;\" x=\"377.672008\" xlink:href=\"#m957c94761b\" y=\"127.138221\"/>\r\n     <use style=\"stroke:#000000;stroke-width:2;\" x=\"377.672008\" xlink:href=\"#m957c94761b\" y=\"127.034476\"/>\r\n     <use style=\"stroke:#000000;stroke-width:2;\" x=\"377.672008\" xlink:href=\"#m957c94761b\" y=\"126.930908\"/>\r\n     <use style=\"stroke:#000000;stroke-width:2;\" x=\"377.672008\" xlink:href=\"#m957c94761b\" y=\"126.827515\"/>\r\n     <use style=\"stroke:#000000;stroke-width:2;\" x=\"377.672008\" xlink:href=\"#m957c94761b\" y=\"126.724297\"/>\r\n     <use style=\"stroke:#000000;stroke-width:2;\" x=\"377.672008\" xlink:href=\"#m957c94761b\" y=\"126.621251\"/>\r\n     <use style=\"stroke:#000000;stroke-width:2;\" x=\"379.438678\" xlink:href=\"#m957c94761b\" y=\"126.518379\"/>\r\n     <use style=\"stroke:#000000;stroke-width:2;\" x=\"379.438678\" xlink:href=\"#m957c94761b\" y=\"126.415677\"/>\r\n     <use style=\"stroke:#000000;stroke-width:2;\" x=\"379.438678\" xlink:href=\"#m957c94761b\" y=\"126.313145\"/>\r\n     <use style=\"stroke:#000000;stroke-width:2;\" x=\"379.438678\" xlink:href=\"#m957c94761b\" y=\"126.210781\"/>\r\n     <use style=\"stroke:#000000;stroke-width:2;\" x=\"379.438678\" xlink:href=\"#m957c94761b\" y=\"126.108586\"/>\r\n     <use style=\"stroke:#000000;stroke-width:2;\" x=\"379.438678\" xlink:href=\"#m957c94761b\" y=\"126.006557\"/>\r\n     <use style=\"stroke:#000000;stroke-width:2;\" x=\"379.438678\" xlink:href=\"#m957c94761b\" y=\"125.904693\"/>\r\n     <use style=\"stroke:#000000;stroke-width:2;\" x=\"379.438678\" xlink:href=\"#m957c94761b\" y=\"125.802994\"/>\r\n     <use style=\"stroke:#000000;stroke-width:2;\" x=\"379.438678\" xlink:href=\"#m957c94761b\" y=\"125.701458\"/>\r\n     <use style=\"stroke:#000000;stroke-width:2;\" x=\"379.438678\" xlink:href=\"#m957c94761b\" y=\"125.600085\"/>\r\n     <use style=\"stroke:#000000;stroke-width:2;\" x=\"379.438678\" xlink:href=\"#m957c94761b\" y=\"125.498872\"/>\r\n     <use style=\"stroke:#000000;stroke-width:2;\" x=\"379.438678\" xlink:href=\"#m957c94761b\" y=\"125.39782\"/>\r\n     <use style=\"stroke:#000000;stroke-width:2;\" x=\"379.438678\" xlink:href=\"#m957c94761b\" y=\"125.296927\"/>\r\n     <use style=\"stroke:#000000;stroke-width:2;\" x=\"379.438678\" xlink:href=\"#m957c94761b\" y=\"125.196191\"/>\r\n     <use style=\"stroke:#000000;stroke-width:2;\" x=\"379.438678\" xlink:href=\"#m957c94761b\" y=\"125.095613\"/>\r\n     <use style=\"stroke:#000000;stroke-width:2;\" x=\"379.438678\" xlink:href=\"#m957c94761b\" y=\"124.995191\"/>\r\n     <use style=\"stroke:#000000;stroke-width:2;\" x=\"379.438678\" xlink:href=\"#m957c94761b\" y=\"124.894923\"/>\r\n     <use style=\"stroke:#000000;stroke-width:2;\" x=\"379.438678\" xlink:href=\"#m957c94761b\" y=\"124.79481\"/>\r\n     <use style=\"stroke:#000000;stroke-width:2;\" x=\"381.149898\" xlink:href=\"#m957c94761b\" y=\"124.694849\"/>\r\n     <use style=\"stroke:#000000;stroke-width:2;\" x=\"381.149898\" xlink:href=\"#m957c94761b\" y=\"124.59504\"/>\r\n     <use style=\"stroke:#000000;stroke-width:2;\" x=\"381.149898\" xlink:href=\"#m957c94761b\" y=\"124.495382\"/>\r\n     <use style=\"stroke:#000000;stroke-width:2;\" x=\"381.149898\" xlink:href=\"#m957c94761b\" y=\"124.395874\"/>\r\n     <use style=\"stroke:#000000;stroke-width:2;\" x=\"381.149898\" xlink:href=\"#m957c94761b\" y=\"124.296515\"/>\r\n     <use style=\"stroke:#000000;stroke-width:2;\" x=\"381.149898\" xlink:href=\"#m957c94761b\" y=\"124.197304\"/>\r\n     <use style=\"stroke:#000000;stroke-width:2;\" x=\"381.149898\" xlink:href=\"#m957c94761b\" y=\"124.098239\"/>\r\n     <use style=\"stroke:#000000;stroke-width:2;\" x=\"381.149898\" xlink:href=\"#m957c94761b\" y=\"123.999321\"/>\r\n     <use style=\"stroke:#000000;stroke-width:2;\" x=\"381.149898\" xlink:href=\"#m957c94761b\" y=\"123.900547\"/>\r\n     <use style=\"stroke:#000000;stroke-width:2;\" x=\"381.149898\" xlink:href=\"#m957c94761b\" y=\"123.801918\"/>\r\n     <use style=\"stroke:#000000;stroke-width:2;\" x=\"381.149898\" xlink:href=\"#m957c94761b\" y=\"123.703431\"/>\r\n     <use style=\"stroke:#000000;stroke-width:2;\" x=\"381.149898\" xlink:href=\"#m957c94761b\" y=\"123.605087\"/>\r\n     <use style=\"stroke:#000000;stroke-width:2;\" x=\"382.809043\" xlink:href=\"#m957c94761b\" y=\"123.506884\"/>\r\n     <use style=\"stroke:#000000;stroke-width:2;\" x=\"382.809043\" xlink:href=\"#m957c94761b\" y=\"123.408821\"/>\r\n     <use style=\"stroke:#000000;stroke-width:2;\" x=\"382.809043\" xlink:href=\"#m957c94761b\" y=\"123.310897\"/>\r\n     <use style=\"stroke:#000000;stroke-width:2;\" x=\"382.809043\" xlink:href=\"#m957c94761b\" y=\"123.213112\"/>\r\n     <use style=\"stroke:#000000;stroke-width:2;\" x=\"382.809043\" xlink:href=\"#m957c94761b\" y=\"123.115464\"/>\r\n     <use style=\"stroke:#000000;stroke-width:2;\" x=\"382.809043\" xlink:href=\"#m957c94761b\" y=\"123.017952\"/>\r\n     <use style=\"stroke:#000000;stroke-width:2;\" x=\"382.809043\" xlink:href=\"#m957c94761b\" y=\"122.920577\"/>\r\n     <use style=\"stroke:#000000;stroke-width:2;\" x=\"382.809043\" xlink:href=\"#m957c94761b\" y=\"122.823336\"/>\r\n     <use style=\"stroke:#000000;stroke-width:2;\" x=\"382.809043\" xlink:href=\"#m957c94761b\" y=\"122.726228\"/>\r\n     <use style=\"stroke:#000000;stroke-width:2;\" x=\"382.809043\" xlink:href=\"#m957c94761b\" y=\"122.629254\"/>\r\n     <use style=\"stroke:#000000;stroke-width:2;\" x=\"382.809043\" xlink:href=\"#m957c94761b\" y=\"122.532412\"/>\r\n     <use style=\"stroke:#000000;stroke-width:2;\" x=\"382.809043\" xlink:href=\"#m957c94761b\" y=\"122.435701\"/>\r\n     <use style=\"stroke:#000000;stroke-width:2;\" x=\"382.809043\" xlink:href=\"#m957c94761b\" y=\"122.33912\"/>\r\n     <use style=\"stroke:#000000;stroke-width:2;\" x=\"382.809043\" xlink:href=\"#m957c94761b\" y=\"122.242668\"/>\r\n     <use style=\"stroke:#000000;stroke-width:2;\" x=\"382.809043\" xlink:href=\"#m957c94761b\" y=\"122.146345\"/>\r\n     <use style=\"stroke:#000000;stroke-width:2;\" x=\"382.809043\" xlink:href=\"#m957c94761b\" y=\"122.050149\"/>\r\n     <use style=\"stroke:#000000;stroke-width:2;\" x=\"382.809043\" xlink:href=\"#m957c94761b\" y=\"121.954081\"/>\r\n     <use style=\"stroke:#000000;stroke-width:2;\" x=\"382.809043\" xlink:href=\"#m957c94761b\" y=\"121.858138\"/>\r\n     <use style=\"stroke:#000000;stroke-width:2;\" x=\"382.809043\" xlink:href=\"#m957c94761b\" y=\"121.76232\"/>\r\n     <use style=\"stroke:#000000;stroke-width:2;\" x=\"382.809043\" xlink:href=\"#m957c94761b\" y=\"121.666626\"/>\r\n     <use style=\"stroke:#000000;stroke-width:2;\" x=\"382.809043\" xlink:href=\"#m957c94761b\" y=\"121.571056\"/>\r\n     <use style=\"stroke:#000000;stroke-width:2;\" x=\"384.41919\" xlink:href=\"#m957c94761b\" y=\"121.475608\"/>\r\n     <use style=\"stroke:#000000;stroke-width:2;\" x=\"384.41919\" xlink:href=\"#m957c94761b\" y=\"121.380282\"/>\r\n     <use style=\"stroke:#000000;stroke-width:2;\" x=\"384.41919\" xlink:href=\"#m957c94761b\" y=\"121.285077\"/>\r\n     <use style=\"stroke:#000000;stroke-width:2;\" x=\"384.41919\" xlink:href=\"#m957c94761b\" y=\"121.189992\"/>\r\n     <use style=\"stroke:#000000;stroke-width:2;\" x=\"384.41919\" xlink:href=\"#m957c94761b\" y=\"121.095026\"/>\r\n     <use style=\"stroke:#000000;stroke-width:2;\" x=\"384.41919\" xlink:href=\"#m957c94761b\" y=\"121.000178\"/>\r\n     <use style=\"stroke:#000000;stroke-width:2;\" x=\"384.41919\" xlink:href=\"#m957c94761b\" y=\"120.905448\"/>\r\n     <use style=\"stroke:#000000;stroke-width:2;\" x=\"384.41919\" xlink:href=\"#m957c94761b\" y=\"120.810835\"/>\r\n     <use style=\"stroke:#000000;stroke-width:2;\" x=\"384.41919\" xlink:href=\"#m957c94761b\" y=\"120.716337\"/>\r\n     <use style=\"stroke:#000000;stroke-width:2;\" x=\"384.41919\" xlink:href=\"#m957c94761b\" y=\"120.621955\"/>\r\n     <use style=\"stroke:#000000;stroke-width:2;\" x=\"384.41919\" xlink:href=\"#m957c94761b\" y=\"120.527687\"/>\r\n     <use style=\"stroke:#000000;stroke-width:2;\" x=\"384.41919\" xlink:href=\"#m957c94761b\" y=\"120.433532\"/>\r\n     <use style=\"stroke:#000000;stroke-width:2;\" x=\"384.41919\" xlink:href=\"#m957c94761b\" y=\"120.33949\"/>\r\n     <use style=\"stroke:#000000;stroke-width:2;\" x=\"384.41919\" xlink:href=\"#m957c94761b\" y=\"120.24556\"/>\r\n     <use style=\"stroke:#000000;stroke-width:2;\" x=\"384.41919\" xlink:href=\"#m957c94761b\" y=\"120.151742\"/>\r\n     <use style=\"stroke:#000000;stroke-width:2;\" x=\"384.41919\" xlink:href=\"#m957c94761b\" y=\"120.058033\"/>\r\n     <use style=\"stroke:#000000;stroke-width:2;\" x=\"384.41919\" xlink:href=\"#m957c94761b\" y=\"119.964434\"/>\r\n     <use style=\"stroke:#000000;stroke-width:2;\" x=\"385.98315\" xlink:href=\"#m957c94761b\" y=\"119.870944\"/>\r\n     <use style=\"stroke:#000000;stroke-width:2;\" x=\"385.98315\" xlink:href=\"#m957c94761b\" y=\"119.777563\"/>\r\n     <use style=\"stroke:#000000;stroke-width:2;\" x=\"385.98315\" xlink:href=\"#m957c94761b\" y=\"119.684288\"/>\r\n     <use style=\"stroke:#000000;stroke-width:2;\" x=\"385.98315\" xlink:href=\"#m957c94761b\" y=\"119.59112\"/>\r\n     <use style=\"stroke:#000000;stroke-width:2;\" x=\"385.98315\" xlink:href=\"#m957c94761b\" y=\"119.498057\"/>\r\n     <use style=\"stroke:#000000;stroke-width:2;\" x=\"385.98315\" xlink:href=\"#m957c94761b\" y=\"119.4051\"/>\r\n     <use style=\"stroke:#000000;stroke-width:2;\" x=\"385.98315\" xlink:href=\"#m957c94761b\" y=\"119.312247\"/>\r\n     <use style=\"stroke:#000000;stroke-width:2;\" x=\"385.98315\" xlink:href=\"#m957c94761b\" y=\"119.219497\"/>\r\n     <use style=\"stroke:#000000;stroke-width:2;\" x=\"385.98315\" xlink:href=\"#m957c94761b\" y=\"119.12685\"/>\r\n     <use style=\"stroke:#000000;stroke-width:2;\" x=\"385.98315\" xlink:href=\"#m957c94761b\" y=\"119.034306\"/>\r\n     <use style=\"stroke:#000000;stroke-width:2;\" x=\"385.98315\" xlink:href=\"#m957c94761b\" y=\"118.941862\"/>\r\n     <use style=\"stroke:#000000;stroke-width:2;\" x=\"387.503499\" xlink:href=\"#m957c94761b\" y=\"118.849519\"/>\r\n     <use style=\"stroke:#000000;stroke-width:2;\" x=\"387.503499\" xlink:href=\"#m957c94761b\" y=\"118.757276\"/>\r\n     <use style=\"stroke:#000000;stroke-width:2;\" x=\"387.503499\" xlink:href=\"#m957c94761b\" y=\"118.665131\"/>\r\n     <use style=\"stroke:#000000;stroke-width:2;\" x=\"387.503499\" xlink:href=\"#m957c94761b\" y=\"118.573085\"/>\r\n     <use style=\"stroke:#000000;stroke-width:2;\" x=\"387.503499\" xlink:href=\"#m957c94761b\" y=\"118.481137\"/>\r\n     <use style=\"stroke:#000000;stroke-width:2;\" x=\"387.503499\" xlink:href=\"#m957c94761b\" y=\"118.389286\"/>\r\n     <use style=\"stroke:#000000;stroke-width:2;\" x=\"387.503499\" xlink:href=\"#m957c94761b\" y=\"118.29753\"/>\r\n     <use style=\"stroke:#000000;stroke-width:2;\" x=\"387.503499\" xlink:href=\"#m957c94761b\" y=\"118.20587\"/>\r\n     <use style=\"stroke:#000000;stroke-width:2;\" x=\"387.503499\" xlink:href=\"#m957c94761b\" y=\"118.114305\"/>\r\n     <use style=\"stroke:#000000;stroke-width:2;\" x=\"387.503499\" xlink:href=\"#m957c94761b\" y=\"118.022834\"/>\r\n     <use style=\"stroke:#000000;stroke-width:2;\" x=\"387.503499\" xlink:href=\"#m957c94761b\" y=\"117.931456\"/>\r\n     <use style=\"stroke:#000000;stroke-width:2;\" x=\"387.503499\" xlink:href=\"#m957c94761b\" y=\"117.840171\"/>\r\n     <use style=\"stroke:#000000;stroke-width:2;\" x=\"387.503499\" xlink:href=\"#m957c94761b\" y=\"117.748978\"/>\r\n     <use style=\"stroke:#000000;stroke-width:2;\" x=\"387.503499\" xlink:href=\"#m957c94761b\" y=\"117.657876\"/>\r\n     <use style=\"stroke:#000000;stroke-width:2;\" x=\"387.503499\" xlink:href=\"#m957c94761b\" y=\"117.566864\"/>\r\n     <use style=\"stroke:#000000;stroke-width:2;\" x=\"388.982604\" xlink:href=\"#m957c94761b\" y=\"117.475943\"/>\r\n     <use style=\"stroke:#000000;stroke-width:2;\" x=\"388.982604\" xlink:href=\"#m957c94761b\" y=\"117.38511\"/>\r\n     <use style=\"stroke:#000000;stroke-width:2;\" x=\"388.982604\" xlink:href=\"#m957c94761b\" y=\"117.294366\"/>\r\n     <use style=\"stroke:#000000;stroke-width:2;\" x=\"388.982604\" xlink:href=\"#m957c94761b\" y=\"117.203709\"/>\r\n     <use style=\"stroke:#000000;stroke-width:2;\" x=\"388.982604\" xlink:href=\"#m957c94761b\" y=\"117.11314\"/>\r\n     <use style=\"stroke:#000000;stroke-width:2;\" x=\"388.982604\" xlink:href=\"#m957c94761b\" y=\"117.022657\"/>\r\n     <use style=\"stroke:#000000;stroke-width:2;\" x=\"388.982604\" xlink:href=\"#m957c94761b\" y=\"116.932259\"/>\r\n     <use style=\"stroke:#000000;stroke-width:2;\" x=\"388.982604\" xlink:href=\"#m957c94761b\" y=\"116.841947\"/>\r\n     <use style=\"stroke:#000000;stroke-width:2;\" x=\"388.982604\" xlink:href=\"#m957c94761b\" y=\"116.751719\"/>\r\n     <use style=\"stroke:#000000;stroke-width:2;\" x=\"390.422642\" xlink:href=\"#m957c94761b\" y=\"116.661575\"/>\r\n     <use style=\"stroke:#000000;stroke-width:2;\" x=\"390.422642\" xlink:href=\"#m957c94761b\" y=\"116.571513\"/>\r\n     <use style=\"stroke:#000000;stroke-width:2;\" x=\"390.422642\" xlink:href=\"#m957c94761b\" y=\"116.481534\"/>\r\n     <use style=\"stroke:#000000;stroke-width:2;\" x=\"390.422642\" xlink:href=\"#m957c94761b\" y=\"116.391637\"/>\r\n     <use style=\"stroke:#000000;stroke-width:2;\" x=\"390.422642\" xlink:href=\"#m957c94761b\" y=\"116.301821\"/>\r\n     <use style=\"stroke:#000000;stroke-width:2;\" x=\"390.422642\" xlink:href=\"#m957c94761b\" y=\"116.212085\"/>\r\n     <use style=\"stroke:#000000;stroke-width:2;\" x=\"390.422642\" xlink:href=\"#m957c94761b\" y=\"116.122428\"/>\r\n     <use style=\"stroke:#000000;stroke-width:2;\" x=\"390.422642\" xlink:href=\"#m957c94761b\" y=\"116.032851\"/>\r\n     <use style=\"stroke:#000000;stroke-width:2;\" x=\"390.422642\" xlink:href=\"#m957c94761b\" y=\"115.943352\"/>\r\n     <use style=\"stroke:#000000;stroke-width:2;\" x=\"390.422642\" xlink:href=\"#m957c94761b\" y=\"115.853931\"/>\r\n     <use style=\"stroke:#000000;stroke-width:2;\" x=\"390.422642\" xlink:href=\"#m957c94761b\" y=\"115.764587\"/>\r\n     <use style=\"stroke:#000000;stroke-width:2;\" x=\"391.825625\" xlink:href=\"#m957c94761b\" y=\"115.675319\"/>\r\n     <use style=\"stroke:#000000;stroke-width:2;\" x=\"391.825625\" xlink:href=\"#m957c94761b\" y=\"115.586127\"/>\r\n     <use style=\"stroke:#000000;stroke-width:2;\" x=\"391.825625\" xlink:href=\"#m957c94761b\" y=\"115.49701\"/>\r\n     <use style=\"stroke:#000000;stroke-width:2;\" x=\"391.825625\" xlink:href=\"#m957c94761b\" y=\"115.407968\"/>\r\n     <use style=\"stroke:#000000;stroke-width:2;\" x=\"391.825625\" xlink:href=\"#m957c94761b\" y=\"115.318999\"/>\r\n     <use style=\"stroke:#000000;stroke-width:2;\" x=\"391.825625\" xlink:href=\"#m957c94761b\" y=\"115.230104\"/>\r\n     <use style=\"stroke:#000000;stroke-width:2;\" x=\"391.825625\" xlink:href=\"#m957c94761b\" y=\"115.141281\"/>\r\n     <use style=\"stroke:#000000;stroke-width:2;\" x=\"391.825625\" xlink:href=\"#m957c94761b\" y=\"115.05253\"/>\r\n     <use style=\"stroke:#000000;stroke-width:2;\" x=\"393.193412\" xlink:href=\"#m957c94761b\" y=\"114.96385\"/>\r\n     <use style=\"stroke:#000000;stroke-width:2;\" x=\"393.193412\" xlink:href=\"#m957c94761b\" y=\"114.875241\"/>\r\n     <use style=\"stroke:#000000;stroke-width:2;\" x=\"393.193412\" xlink:href=\"#m957c94761b\" y=\"114.786702\"/>\r\n     <use style=\"stroke:#000000;stroke-width:2;\" x=\"393.193412\" xlink:href=\"#m957c94761b\" y=\"114.698233\"/>\r\n     <use style=\"stroke:#000000;stroke-width:2;\" x=\"393.193412\" xlink:href=\"#m957c94761b\" y=\"114.609832\"/>\r\n     <use style=\"stroke:#000000;stroke-width:2;\" x=\"393.193412\" xlink:href=\"#m957c94761b\" y=\"114.521499\"/>\r\n     <use style=\"stroke:#000000;stroke-width:2;\" x=\"393.193412\" xlink:href=\"#m957c94761b\" y=\"114.433234\"/>\r\n     <use style=\"stroke:#000000;stroke-width:2;\" x=\"393.193412\" xlink:href=\"#m957c94761b\" y=\"114.345036\"/>\r\n     <use style=\"stroke:#000000;stroke-width:2;\" x=\"393.193412\" xlink:href=\"#m957c94761b\" y=\"114.256904\"/>\r\n     <use style=\"stroke:#000000;stroke-width:2;\" x=\"393.193412\" xlink:href=\"#m957c94761b\" y=\"114.168838\"/>\r\n     <use style=\"stroke:#000000;stroke-width:2;\" x=\"393.193412\" xlink:href=\"#m957c94761b\" y=\"114.080836\"/>\r\n     <use style=\"stroke:#000000;stroke-width:2;\" x=\"393.193412\" xlink:href=\"#m957c94761b\" y=\"113.9929\"/>\r\n     <use style=\"stroke:#000000;stroke-width:2;\" x=\"394.527726\" xlink:href=\"#m957c94761b\" y=\"113.905026\"/>\r\n     <use style=\"stroke:#000000;stroke-width:2;\" x=\"394.527726\" xlink:href=\"#m957c94761b\" y=\"113.817217\"/>\r\n     <use style=\"stroke:#000000;stroke-width:2;\" x=\"394.527726\" xlink:href=\"#m957c94761b\" y=\"113.729469\"/>\r\n     <use style=\"stroke:#000000;stroke-width:2;\" x=\"394.527726\" xlink:href=\"#m957c94761b\" y=\"113.641784\"/>\r\n     <use style=\"stroke:#000000;stroke-width:2;\" x=\"394.527726\" xlink:href=\"#m957c94761b\" y=\"113.55416\"/>\r\n     <use style=\"stroke:#000000;stroke-width:2;\" x=\"394.527726\" xlink:href=\"#m957c94761b\" y=\"113.466596\"/>\r\n     <use style=\"stroke:#000000;stroke-width:2;\" x=\"394.527726\" xlink:href=\"#m957c94761b\" y=\"113.379093\"/>\r\n     <use style=\"stroke:#000000;stroke-width:2;\" x=\"394.527726\" xlink:href=\"#m957c94761b\" y=\"113.29165\"/>\r\n     <use style=\"stroke:#000000;stroke-width:2;\" x=\"394.527726\" xlink:href=\"#m957c94761b\" y=\"113.204265\"/>\r\n     <use style=\"stroke:#000000;stroke-width:2;\" x=\"394.527726\" xlink:href=\"#m957c94761b\" y=\"113.116938\"/>\r\n     <use style=\"stroke:#000000;stroke-width:2;\" x=\"394.527726\" xlink:href=\"#m957c94761b\" y=\"113.02967\"/>\r\n     <use style=\"stroke:#000000;stroke-width:2;\" x=\"394.527726\" xlink:href=\"#m957c94761b\" y=\"112.942458\"/>\r\n     <use style=\"stroke:#000000;stroke-width:2;\" x=\"394.527726\" xlink:href=\"#m957c94761b\" y=\"112.855303\"/>\r\n     <use style=\"stroke:#000000;stroke-width:2;\" x=\"395.830166\" xlink:href=\"#m957c94761b\" y=\"112.768204\"/>\r\n     <use style=\"stroke:#000000;stroke-width:2;\" x=\"395.830166\" xlink:href=\"#m957c94761b\" y=\"112.68116\"/>\r\n     <use style=\"stroke:#000000;stroke-width:2;\" x=\"395.830166\" xlink:href=\"#m957c94761b\" y=\"112.594171\"/>\r\n     <use style=\"stroke:#000000;stroke-width:2;\" x=\"395.830166\" xlink:href=\"#m957c94761b\" y=\"112.507235\"/>\r\n     <use style=\"stroke:#000000;stroke-width:2;\" x=\"395.830166\" xlink:href=\"#m957c94761b\" y=\"112.420354\"/>\r\n     <use style=\"stroke:#000000;stroke-width:2;\" x=\"395.830166\" xlink:href=\"#m957c94761b\" y=\"112.333525\"/>\r\n     <use style=\"stroke:#000000;stroke-width:2;\" x=\"395.830166\" xlink:href=\"#m957c94761b\" y=\"112.246749\"/>\r\n     <use style=\"stroke:#000000;stroke-width:2;\" x=\"395.830166\" xlink:href=\"#m957c94761b\" y=\"112.160024\"/>\r\n     <use style=\"stroke:#000000;stroke-width:2;\" x=\"395.830166\" xlink:href=\"#m957c94761b\" y=\"112.073351\"/>\r\n     <use style=\"stroke:#000000;stroke-width:2;\" x=\"395.830166\" xlink:href=\"#m957c94761b\" y=\"111.986728\"/>\r\n     <use style=\"stroke:#000000;stroke-width:2;\" x=\"395.830166\" xlink:href=\"#m957c94761b\" y=\"111.900155\"/>\r\n     <use style=\"stroke:#000000;stroke-width:2;\" x=\"397.102219\" xlink:href=\"#m957c94761b\" y=\"111.813631\"/>\r\n     <use style=\"stroke:#000000;stroke-width:2;\" x=\"397.102219\" xlink:href=\"#m957c94761b\" y=\"111.727156\"/>\r\n     <use style=\"stroke:#000000;stroke-width:2;\" x=\"397.102219\" xlink:href=\"#m957c94761b\" y=\"111.64073\"/>\r\n     <use style=\"stroke:#000000;stroke-width:2;\" x=\"397.102219\" xlink:href=\"#m957c94761b\" y=\"111.554351\"/>\r\n     <use style=\"stroke:#000000;stroke-width:2;\" x=\"397.102219\" xlink:href=\"#m957c94761b\" y=\"111.468019\"/>\r\n     <use style=\"stroke:#000000;stroke-width:2;\" x=\"397.102219\" xlink:href=\"#m957c94761b\" y=\"111.381733\"/>\r\n     <use style=\"stroke:#000000;stroke-width:2;\" x=\"397.102219\" xlink:href=\"#m957c94761b\" y=\"111.295493\"/>\r\n     <use style=\"stroke:#000000;stroke-width:2;\" x=\"397.102219\" xlink:href=\"#m957c94761b\" y=\"111.209299\"/>\r\n     <use style=\"stroke:#000000;stroke-width:2;\" x=\"397.102219\" xlink:href=\"#m957c94761b\" y=\"111.123149\"/>\r\n     <use style=\"stroke:#000000;stroke-width:2;\" x=\"397.102219\" xlink:href=\"#m957c94761b\" y=\"111.037043\"/>\r\n     <use style=\"stroke:#000000;stroke-width:2;\" x=\"397.102219\" xlink:href=\"#m957c94761b\" y=\"110.950981\"/>\r\n     <use style=\"stroke:#000000;stroke-width:2;\" x=\"398.345272\" xlink:href=\"#m957c94761b\" y=\"110.864962\"/>\r\n     <use style=\"stroke:#000000;stroke-width:2;\" x=\"398.345272\" xlink:href=\"#m957c94761b\" y=\"110.778985\"/>\r\n     <use style=\"stroke:#000000;stroke-width:2;\" x=\"398.345272\" xlink:href=\"#m957c94761b\" y=\"110.69305\"/>\r\n     <use style=\"stroke:#000000;stroke-width:2;\" x=\"398.345272\" xlink:href=\"#m957c94761b\" y=\"110.607156\"/>\r\n     <use style=\"stroke:#000000;stroke-width:2;\" x=\"398.345272\" xlink:href=\"#m957c94761b\" y=\"110.521302\"/>\r\n     <use style=\"stroke:#000000;stroke-width:2;\" x=\"398.345272\" xlink:href=\"#m957c94761b\" y=\"110.435489\"/>\r\n     <use style=\"stroke:#000000;stroke-width:2;\" x=\"398.345272\" xlink:href=\"#m957c94761b\" y=\"110.349714\"/>\r\n     <use style=\"stroke:#000000;stroke-width:2;\" x=\"398.345272\" xlink:href=\"#m957c94761b\" y=\"110.263979\"/>\r\n     <use style=\"stroke:#000000;stroke-width:2;\" x=\"398.345272\" xlink:href=\"#m957c94761b\" y=\"110.178282\"/>\r\n     <use style=\"stroke:#000000;stroke-width:2;\" x=\"398.345272\" xlink:href=\"#m957c94761b\" y=\"110.092623\"/>\r\n     <use style=\"stroke:#000000;stroke-width:2;\" x=\"398.345272\" xlink:href=\"#m957c94761b\" y=\"110.007001\"/>\r\n     <use style=\"stroke:#000000;stroke-width:2;\" x=\"398.345272\" xlink:href=\"#m957c94761b\" y=\"109.921415\"/>\r\n     <use style=\"stroke:#000000;stroke-width:2;\" x=\"398.345272\" xlink:href=\"#m957c94761b\" y=\"109.835866\"/>\r\n     <use style=\"stroke:#000000;stroke-width:2;\" x=\"399.560616\" xlink:href=\"#m957c94761b\" y=\"109.750351\"/>\r\n     <use style=\"stroke:#000000;stroke-width:2;\" x=\"399.560616\" xlink:href=\"#m957c94761b\" y=\"109.664872\"/>\r\n     <use style=\"stroke:#000000;stroke-width:2;\" x=\"399.560616\" xlink:href=\"#m957c94761b\" y=\"109.579426\"/>\r\n     <use style=\"stroke:#000000;stroke-width:2;\" x=\"399.560616\" xlink:href=\"#m957c94761b\" y=\"109.494015\"/>\r\n     <use style=\"stroke:#000000;stroke-width:2;\" x=\"399.560616\" xlink:href=\"#m957c94761b\" y=\"109.408636\"/>\r\n     <use style=\"stroke:#000000;stroke-width:2;\" x=\"399.560616\" xlink:href=\"#m957c94761b\" y=\"109.32329\"/>\r\n     <use style=\"stroke:#000000;stroke-width:2;\" x=\"399.560616\" xlink:href=\"#m957c94761b\" y=\"109.237976\"/>\r\n     <use style=\"stroke:#000000;stroke-width:2;\" x=\"399.560616\" xlink:href=\"#m957c94761b\" y=\"109.152693\"/>\r\n     <use style=\"stroke:#000000;stroke-width:2;\" x=\"399.560616\" xlink:href=\"#m957c94761b\" y=\"109.06744\"/>\r\n     <use style=\"stroke:#000000;stroke-width:2;\" x=\"399.560616\" xlink:href=\"#m957c94761b\" y=\"108.982218\"/>\r\n     <use style=\"stroke:#000000;stroke-width:2;\" x=\"399.560616\" xlink:href=\"#m957c94761b\" y=\"108.897026\"/>\r\n     <use style=\"stroke:#000000;stroke-width:2;\" x=\"399.560616\" xlink:href=\"#m957c94761b\" y=\"108.811862\"/>\r\n     <use style=\"stroke:#000000;stroke-width:2;\" x=\"399.560616\" xlink:href=\"#m957c94761b\" y=\"108.726727\"/>\r\n     <use style=\"stroke:#000000;stroke-width:2;\" x=\"400.749461\" xlink:href=\"#m957c94761b\" y=\"108.64162\"/>\r\n     <use style=\"stroke:#000000;stroke-width:2;\" x=\"400.749461\" xlink:href=\"#m957c94761b\" y=\"108.55654\"/>\r\n     <use style=\"stroke:#000000;stroke-width:2;\" x=\"400.749461\" xlink:href=\"#m957c94761b\" y=\"108.471486\"/>\r\n     <use style=\"stroke:#000000;stroke-width:2;\" x=\"400.749461\" xlink:href=\"#m957c94761b\" y=\"108.386459\"/>\r\n     <use style=\"stroke:#000000;stroke-width:2;\" x=\"400.749461\" xlink:href=\"#m957c94761b\" y=\"108.301457\"/>\r\n     <use style=\"stroke:#000000;stroke-width:2;\" x=\"400.749461\" xlink:href=\"#m957c94761b\" y=\"108.21648\"/>\r\n     <use style=\"stroke:#000000;stroke-width:2;\" x=\"400.749461\" xlink:href=\"#m957c94761b\" y=\"108.131528\"/>\r\n     <use style=\"stroke:#000000;stroke-width:2;\" x=\"400.749461\" xlink:href=\"#m957c94761b\" y=\"108.046599\"/>\r\n     <use style=\"stroke:#000000;stroke-width:2;\" x=\"400.749461\" xlink:href=\"#m957c94761b\" y=\"107.961694\"/>\r\n     <use style=\"stroke:#000000;stroke-width:2;\" x=\"400.749461\" xlink:href=\"#m957c94761b\" y=\"107.876811\"/>\r\n     <use style=\"stroke:#000000;stroke-width:2;\" x=\"400.749461\" xlink:href=\"#m957c94761b\" y=\"107.79195\"/>\r\n     <use style=\"stroke:#000000;stroke-width:2;\" x=\"400.749461\" xlink:href=\"#m957c94761b\" y=\"107.70711\"/>\r\n     <use style=\"stroke:#000000;stroke-width:2;\" x=\"400.749461\" xlink:href=\"#m957c94761b\" y=\"107.622291\"/>\r\n     <use style=\"stroke:#000000;stroke-width:2;\" x=\"401.912936\" xlink:href=\"#m957c94761b\" y=\"107.537493\"/>\r\n     <use style=\"stroke:#000000;stroke-width:2;\" x=\"401.912936\" xlink:href=\"#m957c94761b\" y=\"107.452714\"/>\r\n     <use style=\"stroke:#000000;stroke-width:2;\" x=\"401.912936\" xlink:href=\"#m957c94761b\" y=\"107.367954\"/>\r\n     <use style=\"stroke:#000000;stroke-width:2;\" x=\"401.912936\" xlink:href=\"#m957c94761b\" y=\"107.283213\"/>\r\n     <use style=\"stroke:#000000;stroke-width:2;\" x=\"401.912936\" xlink:href=\"#m957c94761b\" y=\"107.19849\"/>\r\n     <use style=\"stroke:#000000;stroke-width:2;\" x=\"401.912936\" xlink:href=\"#m957c94761b\" y=\"107.113784\"/>\r\n     <use style=\"stroke:#000000;stroke-width:2;\" x=\"401.912936\" xlink:href=\"#m957c94761b\" y=\"107.029095\"/>\r\n     <use style=\"stroke:#000000;stroke-width:2;\" x=\"401.912936\" xlink:href=\"#m957c94761b\" y=\"106.944422\"/>\r\n     <use style=\"stroke:#000000;stroke-width:2;\" x=\"401.912936\" xlink:href=\"#m957c94761b\" y=\"106.859764\"/>\r\n     <use style=\"stroke:#000000;stroke-width:2;\" x=\"401.912936\" xlink:href=\"#m957c94761b\" y=\"106.775122\"/>\r\n     <use style=\"stroke:#000000;stroke-width:2;\" x=\"401.912936\" xlink:href=\"#m957c94761b\" y=\"106.690493\"/>\r\n     <use style=\"stroke:#000000;stroke-width:2;\" x=\"401.912936\" xlink:href=\"#m957c94761b\" y=\"106.605879\"/>\r\n     <use style=\"stroke:#000000;stroke-width:2;\" x=\"401.912936\" xlink:href=\"#m957c94761b\" y=\"106.521278\"/>\r\n     <use style=\"stroke:#000000;stroke-width:2;\" x=\"401.912936\" xlink:href=\"#m957c94761b\" y=\"106.436689\"/>\r\n     <use style=\"stroke:#000000;stroke-width:2;\" x=\"401.912936\" xlink:href=\"#m957c94761b\" y=\"106.352112\"/>\r\n     <use style=\"stroke:#000000;stroke-width:2;\" x=\"401.912936\" xlink:href=\"#m957c94761b\" y=\"106.267547\"/>\r\n     <use style=\"stroke:#000000;stroke-width:2;\" x=\"401.912936\" xlink:href=\"#m957c94761b\" y=\"106.182993\"/>\r\n     <use style=\"stroke:#000000;stroke-width:2;\" x=\"401.912936\" xlink:href=\"#m957c94761b\" y=\"106.098448\"/>\r\n     <use style=\"stroke:#000000;stroke-width:2;\" x=\"401.912936\" xlink:href=\"#m957c94761b\" y=\"106.013913\"/>\r\n     <use style=\"stroke:#000000;stroke-width:2;\" x=\"401.912936\" xlink:href=\"#m957c94761b\" y=\"105.929388\"/>\r\n     <use style=\"stroke:#000000;stroke-width:2;\" x=\"403.052104\" xlink:href=\"#m957c94761b\" y=\"105.84487\"/>\r\n     <use style=\"stroke:#000000;stroke-width:2;\" x=\"403.052104\" xlink:href=\"#m957c94761b\" y=\"105.760361\"/>\r\n     <use style=\"stroke:#000000;stroke-width:2;\" x=\"403.052104\" xlink:href=\"#m957c94761b\" y=\"105.675858\"/>\r\n     <use style=\"stroke:#000000;stroke-width:2;\" x=\"403.052104\" xlink:href=\"#m957c94761b\" y=\"105.591363\"/>\r\n     <use style=\"stroke:#000000;stroke-width:2;\" x=\"403.052104\" xlink:href=\"#m957c94761b\" y=\"105.506873\"/>\r\n     <use style=\"stroke:#000000;stroke-width:2;\" x=\"403.052104\" xlink:href=\"#m957c94761b\" y=\"105.422388\"/>\r\n     <use style=\"stroke:#000000;stroke-width:2;\" x=\"403.052104\" xlink:href=\"#m957c94761b\" y=\"105.337908\"/>\r\n     <use style=\"stroke:#000000;stroke-width:2;\" x=\"403.052104\" xlink:href=\"#m957c94761b\" y=\"105.253433\"/>\r\n     <use style=\"stroke:#000000;stroke-width:2;\" x=\"403.052104\" xlink:href=\"#m957c94761b\" y=\"105.16896\"/>\r\n     <use style=\"stroke:#000000;stroke-width:2;\" x=\"403.052104\" xlink:href=\"#m957c94761b\" y=\"105.084491\"/>\r\n     <use style=\"stroke:#000000;stroke-width:2;\" x=\"404.167957\" xlink:href=\"#m957c94761b\" y=\"105.000024\"/>\r\n     <use style=\"stroke:#000000;stroke-width:2;\" x=\"404.167957\" xlink:href=\"#m957c94761b\" y=\"104.915559\"/>\r\n     <use style=\"stroke:#000000;stroke-width:2;\" x=\"404.167957\" xlink:href=\"#m957c94761b\" y=\"104.831095\"/>\r\n     <use style=\"stroke:#000000;stroke-width:2;\" x=\"404.167957\" xlink:href=\"#m957c94761b\" y=\"104.746631\"/>\r\n     <use style=\"stroke:#000000;stroke-width:2;\" x=\"404.167957\" xlink:href=\"#m957c94761b\" y=\"104.662167\"/>\r\n     <use style=\"stroke:#000000;stroke-width:2;\" x=\"404.167957\" xlink:href=\"#m957c94761b\" y=\"104.577702\"/>\r\n     <use style=\"stroke:#000000;stroke-width:2;\" x=\"404.167957\" xlink:href=\"#m957c94761b\" y=\"104.493235\"/>\r\n     <use style=\"stroke:#000000;stroke-width:2;\" x=\"404.167957\" xlink:href=\"#m957c94761b\" y=\"104.408767\"/>\r\n     <use style=\"stroke:#000000;stroke-width:2;\" x=\"404.167957\" xlink:href=\"#m957c94761b\" y=\"104.324296\"/>\r\n     <use style=\"stroke:#000000;stroke-width:2;\" x=\"404.167957\" xlink:href=\"#m957c94761b\" y=\"104.239821\"/>\r\n     <use style=\"stroke:#000000;stroke-width:2;\" x=\"405.261433\" xlink:href=\"#m957c94761b\" y=\"104.155343\"/>\r\n     <use style=\"stroke:#000000;stroke-width:2;\" x=\"405.261433\" xlink:href=\"#m957c94761b\" y=\"104.07086\"/>\r\n     <use style=\"stroke:#000000;stroke-width:2;\" x=\"405.261433\" xlink:href=\"#m957c94761b\" y=\"103.986371\"/>\r\n     <use style=\"stroke:#000000;stroke-width:2;\" x=\"405.261433\" xlink:href=\"#m957c94761b\" y=\"103.901877\"/>\r\n     <use style=\"stroke:#000000;stroke-width:2;\" x=\"405.261433\" xlink:href=\"#m957c94761b\" y=\"103.817376\"/>\r\n     <use style=\"stroke:#000000;stroke-width:2;\" x=\"405.261433\" xlink:href=\"#m957c94761b\" y=\"103.732868\"/>\r\n     <use style=\"stroke:#000000;stroke-width:2;\" x=\"405.261433\" xlink:href=\"#m957c94761b\" y=\"103.648353\"/>\r\n     <use style=\"stroke:#000000;stroke-width:2;\" x=\"405.261433\" xlink:href=\"#m957c94761b\" y=\"103.563828\"/>\r\n     <use style=\"stroke:#000000;stroke-width:2;\" x=\"406.333409\" xlink:href=\"#m957c94761b\" y=\"103.479295\"/>\r\n     <use style=\"stroke:#000000;stroke-width:2;\" x=\"406.333409\" xlink:href=\"#m957c94761b\" y=\"103.394752\"/>\r\n     <use style=\"stroke:#000000;stroke-width:2;\" x=\"406.333409\" xlink:href=\"#m957c94761b\" y=\"103.310198\"/>\r\n     <use style=\"stroke:#000000;stroke-width:2;\" x=\"406.333409\" xlink:href=\"#m957c94761b\" y=\"103.225633\"/>\r\n     <use style=\"stroke:#000000;stroke-width:2;\" x=\"406.333409\" xlink:href=\"#m957c94761b\" y=\"103.141057\"/>\r\n     <use style=\"stroke:#000000;stroke-width:2;\" x=\"406.333409\" xlink:href=\"#m957c94761b\" y=\"103.056468\"/>\r\n     <use style=\"stroke:#000000;stroke-width:2;\" x=\"406.333409\" xlink:href=\"#m957c94761b\" y=\"102.971866\"/>\r\n     <use style=\"stroke:#000000;stroke-width:2;\" x=\"406.333409\" xlink:href=\"#m957c94761b\" y=\"102.88725\"/>\r\n     <use style=\"stroke:#000000;stroke-width:2;\" x=\"406.333409\" xlink:href=\"#m957c94761b\" y=\"102.80262\"/>\r\n     <use style=\"stroke:#000000;stroke-width:2;\" x=\"406.333409\" xlink:href=\"#m957c94761b\" y=\"102.717975\"/>\r\n     <use style=\"stroke:#000000;stroke-width:2;\" x=\"406.333409\" xlink:href=\"#m957c94761b\" y=\"102.633314\"/>\r\n     <use style=\"stroke:#000000;stroke-width:2;\" x=\"406.333409\" xlink:href=\"#m957c94761b\" y=\"102.548637\"/>\r\n     <use style=\"stroke:#000000;stroke-width:2;\" x=\"406.333409\" xlink:href=\"#m957c94761b\" y=\"102.463942\"/>\r\n     <use style=\"stroke:#000000;stroke-width:2;\" x=\"406.333409\" xlink:href=\"#m957c94761b\" y=\"102.37923\"/>\r\n     <use style=\"stroke:#000000;stroke-width:2;\" x=\"406.333409\" xlink:href=\"#m957c94761b\" y=\"102.294499\"/>\r\n     <use style=\"stroke:#000000;stroke-width:2;\" x=\"407.384717\" xlink:href=\"#m957c94761b\" y=\"102.209749\"/>\r\n     <use style=\"stroke:#000000;stroke-width:2;\" x=\"407.384717\" xlink:href=\"#m957c94761b\" y=\"102.124979\"/>\r\n     <use style=\"stroke:#000000;stroke-width:2;\" x=\"407.384717\" xlink:href=\"#m957c94761b\" y=\"102.040189\"/>\r\n     <use style=\"stroke:#000000;stroke-width:2;\" x=\"407.384717\" xlink:href=\"#m957c94761b\" y=\"101.955377\"/>\r\n     <use style=\"stroke:#000000;stroke-width:2;\" x=\"407.384717\" xlink:href=\"#m957c94761b\" y=\"101.870543\"/>\r\n     <use style=\"stroke:#000000;stroke-width:2;\" x=\"407.384717\" xlink:href=\"#m957c94761b\" y=\"101.785687\"/>\r\n     <use style=\"stroke:#000000;stroke-width:2;\" x=\"407.384717\" xlink:href=\"#m957c94761b\" y=\"101.700807\"/>\r\n     <use style=\"stroke:#000000;stroke-width:2;\" x=\"407.384717\" xlink:href=\"#m957c94761b\" y=\"101.615903\"/>\r\n     <use style=\"stroke:#000000;stroke-width:2;\" x=\"407.384717\" xlink:href=\"#m957c94761b\" y=\"101.530974\"/>\r\n     <use style=\"stroke:#000000;stroke-width:2;\" x=\"407.384717\" xlink:href=\"#m957c94761b\" y=\"101.44602\"/>\r\n     <use style=\"stroke:#000000;stroke-width:2;\" x=\"407.384717\" xlink:href=\"#m957c94761b\" y=\"101.36104\"/>\r\n     <use style=\"stroke:#000000;stroke-width:2;\" x=\"407.384717\" xlink:href=\"#m957c94761b\" y=\"101.276032\"/>\r\n     <use style=\"stroke:#000000;stroke-width:2;\" x=\"407.384717\" xlink:href=\"#m957c94761b\" y=\"101.190997\"/>\r\n     <use style=\"stroke:#000000;stroke-width:2;\" x=\"407.384717\" xlink:href=\"#m957c94761b\" y=\"101.105934\"/>\r\n     <use style=\"stroke:#000000;stroke-width:2;\" x=\"408.416137\" xlink:href=\"#m957c94761b\" y=\"101.020841\"/>\r\n     <use style=\"stroke:#000000;stroke-width:2;\" x=\"408.416137\" xlink:href=\"#m957c94761b\" y=\"100.935718\"/>\r\n     <use style=\"stroke:#000000;stroke-width:2;\" x=\"408.416137\" xlink:href=\"#m957c94761b\" y=\"100.850565\"/>\r\n     <use style=\"stroke:#000000;stroke-width:2;\" x=\"408.416137\" xlink:href=\"#m957c94761b\" y=\"100.76538\"/>\r\n     <use style=\"stroke:#000000;stroke-width:2;\" x=\"408.416137\" xlink:href=\"#m957c94761b\" y=\"100.680164\"/>\r\n     <use style=\"stroke:#000000;stroke-width:2;\" x=\"408.416137\" xlink:href=\"#m957c94761b\" y=\"100.594914\"/>\r\n     <use style=\"stroke:#000000;stroke-width:2;\" x=\"409.428408\" xlink:href=\"#m957c94761b\" y=\"100.509631\"/>\r\n     <use style=\"stroke:#000000;stroke-width:2;\" x=\"409.428408\" xlink:href=\"#m957c94761b\" y=\"100.424313\"/>\r\n     <use style=\"stroke:#000000;stroke-width:2;\" x=\"409.428408\" xlink:href=\"#m957c94761b\" y=\"100.33896\"/>\r\n     <use style=\"stroke:#000000;stroke-width:2;\" x=\"409.428408\" xlink:href=\"#m957c94761b\" y=\"100.253571\"/>\r\n     <use style=\"stroke:#000000;stroke-width:2;\" x=\"409.428408\" xlink:href=\"#m957c94761b\" y=\"100.168145\"/>\r\n     <use style=\"stroke:#000000;stroke-width:2;\" x=\"409.428408\" xlink:href=\"#m957c94761b\" y=\"100.082682\"/>\r\n     <use style=\"stroke:#000000;stroke-width:2;\" x=\"409.428408\" xlink:href=\"#m957c94761b\" y=\"99.997181\"/>\r\n     <use style=\"stroke:#000000;stroke-width:2;\" x=\"409.428408\" xlink:href=\"#m957c94761b\" y=\"99.91164\"/>\r\n     <use style=\"stroke:#000000;stroke-width:2;\" x=\"410.422228\" xlink:href=\"#m957c94761b\" y=\"99.82606\"/>\r\n     <use style=\"stroke:#000000;stroke-width:2;\" x=\"410.422228\" xlink:href=\"#m957c94761b\" y=\"99.740439\"/>\r\n     <use style=\"stroke:#000000;stroke-width:2;\" x=\"410.422228\" xlink:href=\"#m957c94761b\" y=\"99.654776\"/>\r\n     <use style=\"stroke:#000000;stroke-width:2;\" x=\"410.422228\" xlink:href=\"#m957c94761b\" y=\"99.569071\"/>\r\n     <use style=\"stroke:#000000;stroke-width:2;\" x=\"410.422228\" xlink:href=\"#m957c94761b\" y=\"99.483323\"/>\r\n     <use style=\"stroke:#000000;stroke-width:2;\" x=\"410.422228\" xlink:href=\"#m957c94761b\" y=\"99.397531\"/>\r\n     <use style=\"stroke:#000000;stroke-width:2;\" x=\"410.422228\" xlink:href=\"#m957c94761b\" y=\"99.311695\"/>\r\n     <use style=\"stroke:#000000;stroke-width:2;\" x=\"410.422228\" xlink:href=\"#m957c94761b\" y=\"99.225812\"/>\r\n     <use style=\"stroke:#000000;stroke-width:2;\" x=\"410.422228\" xlink:href=\"#m957c94761b\" y=\"99.139884\"/>\r\n     <use style=\"stroke:#000000;stroke-width:2;\" x=\"410.422228\" xlink:href=\"#m957c94761b\" y=\"99.053908\"/>\r\n     <use style=\"stroke:#000000;stroke-width:2;\" x=\"410.422228\" xlink:href=\"#m957c94761b\" y=\"98.967884\"/>\r\n     <use style=\"stroke:#000000;stroke-width:2;\" x=\"411.398258\" xlink:href=\"#m957c94761b\" y=\"98.881811\"/>\r\n     <use style=\"stroke:#000000;stroke-width:2;\" x=\"411.398258\" xlink:href=\"#m957c94761b\" y=\"98.795689\"/>\r\n     <use style=\"stroke:#000000;stroke-width:2;\" x=\"411.398258\" xlink:href=\"#m957c94761b\" y=\"98.709516\"/>\r\n     <use style=\"stroke:#000000;stroke-width:2;\" x=\"411.398258\" xlink:href=\"#m957c94761b\" y=\"98.623291\"/>\r\n     <use style=\"stroke:#000000;stroke-width:2;\" x=\"411.398258\" xlink:href=\"#m957c94761b\" y=\"98.537014\"/>\r\n     <use style=\"stroke:#000000;stroke-width:2;\" x=\"411.398258\" xlink:href=\"#m957c94761b\" y=\"98.450684\"/>\r\n     <use style=\"stroke:#000000;stroke-width:2;\" x=\"411.398258\" xlink:href=\"#m957c94761b\" y=\"98.364299\"/>\r\n     <use style=\"stroke:#000000;stroke-width:2;\" x=\"411.398258\" xlink:href=\"#m957c94761b\" y=\"98.27786\"/>\r\n     <use style=\"stroke:#000000;stroke-width:2;\" x=\"411.398258\" xlink:href=\"#m957c94761b\" y=\"98.191365\"/>\r\n     <use style=\"stroke:#000000;stroke-width:2;\" x=\"412.357123\" xlink:href=\"#m957c94761b\" y=\"98.104812\"/>\r\n     <use style=\"stroke:#000000;stroke-width:2;\" x=\"412.357123\" xlink:href=\"#m957c94761b\" y=\"98.018203\"/>\r\n     <use style=\"stroke:#000000;stroke-width:2;\" x=\"412.357123\" xlink:href=\"#m957c94761b\" y=\"97.931534\"/>\r\n     <use style=\"stroke:#000000;stroke-width:2;\" x=\"412.357123\" xlink:href=\"#m957c94761b\" y=\"97.844806\"/>\r\n     <use style=\"stroke:#000000;stroke-width:2;\" x=\"412.357123\" xlink:href=\"#m957c94761b\" y=\"97.758018\"/>\r\n     <use style=\"stroke:#000000;stroke-width:2;\" x=\"412.357123\" xlink:href=\"#m957c94761b\" y=\"97.671168\"/>\r\n     <use style=\"stroke:#000000;stroke-width:2;\" x=\"412.357123\" xlink:href=\"#m957c94761b\" y=\"97.584256\"/>\r\n     <use style=\"stroke:#000000;stroke-width:2;\" x=\"412.357123\" xlink:href=\"#m957c94761b\" y=\"97.49728\"/>\r\n     <use style=\"stroke:#000000;stroke-width:2;\" x=\"413.299418\" xlink:href=\"#m957c94761b\" y=\"97.41024\"/>\r\n     <use style=\"stroke:#000000;stroke-width:2;\" x=\"413.299418\" xlink:href=\"#m957c94761b\" y=\"97.323135\"/>\r\n     <use style=\"stroke:#000000;stroke-width:2;\" x=\"413.299418\" xlink:href=\"#m957c94761b\" y=\"97.235964\"/>\r\n     <use style=\"stroke:#000000;stroke-width:2;\" x=\"413.299418\" xlink:href=\"#m957c94761b\" y=\"97.148726\"/>\r\n     <use style=\"stroke:#000000;stroke-width:2;\" x=\"413.299418\" xlink:href=\"#m957c94761b\" y=\"97.06142\"/>\r\n     <use style=\"stroke:#000000;stroke-width:2;\" x=\"414.225704\" xlink:href=\"#m957c94761b\" y=\"96.974044\"/>\r\n     <use style=\"stroke:#000000;stroke-width:2;\" x=\"414.225704\" xlink:href=\"#m957c94761b\" y=\"96.886599\"/>\r\n     <use style=\"stroke:#000000;stroke-width:2;\" x=\"414.225704\" xlink:href=\"#m957c94761b\" y=\"96.799082\"/>\r\n     <use style=\"stroke:#000000;stroke-width:2;\" x=\"414.225704\" xlink:href=\"#m957c94761b\" y=\"96.711493\"/>\r\n     <use style=\"stroke:#000000;stroke-width:2;\" x=\"414.225704\" xlink:href=\"#m957c94761b\" y=\"96.623831\"/>\r\n     <use style=\"stroke:#000000;stroke-width:2;\" x=\"414.225704\" xlink:href=\"#m957c94761b\" y=\"96.536095\"/>\r\n     <use style=\"stroke:#000000;stroke-width:2;\" x=\"414.225704\" xlink:href=\"#m957c94761b\" y=\"96.448284\"/>\r\n     <use style=\"stroke:#000000;stroke-width:2;\" x=\"414.225704\" xlink:href=\"#m957c94761b\" y=\"96.360396\"/>\r\n     <use style=\"stroke:#000000;stroke-width:2;\" x=\"414.225704\" xlink:href=\"#m957c94761b\" y=\"96.272431\"/>\r\n     <use style=\"stroke:#000000;stroke-width:2;\" x=\"414.225704\" xlink:href=\"#m957c94761b\" y=\"96.184388\"/>\r\n     <use style=\"stroke:#000000;stroke-width:2;\" x=\"415.136517\" xlink:href=\"#m957c94761b\" y=\"96.096265\"/>\r\n     <use style=\"stroke:#000000;stroke-width:2;\" x=\"415.136517\" xlink:href=\"#m957c94761b\" y=\"96.008062\"/>\r\n     <use style=\"stroke:#000000;stroke-width:2;\" x=\"415.136517\" xlink:href=\"#m957c94761b\" y=\"95.919777\"/>\r\n     <use style=\"stroke:#000000;stroke-width:2;\" x=\"415.136517\" xlink:href=\"#m957c94761b\" y=\"95.831409\"/>\r\n     <use style=\"stroke:#000000;stroke-width:2;\" x=\"415.136517\" xlink:href=\"#m957c94761b\" y=\"95.742958\"/>\r\n     <use style=\"stroke:#000000;stroke-width:2;\" x=\"415.136517\" xlink:href=\"#m957c94761b\" y=\"95.654422\"/>\r\n     <use style=\"stroke:#000000;stroke-width:2;\" x=\"415.136517\" xlink:href=\"#m957c94761b\" y=\"95.565799\"/>\r\n     <use style=\"stroke:#000000;stroke-width:2;\" x=\"415.136517\" xlink:href=\"#m957c94761b\" y=\"95.47709\"/>\r\n     <use style=\"stroke:#000000;stroke-width:2;\" x=\"415.136517\" xlink:href=\"#m957c94761b\" y=\"95.388292\"/>\r\n     <use style=\"stroke:#000000;stroke-width:2;\" x=\"415.136517\" xlink:href=\"#m957c94761b\" y=\"95.299404\"/>\r\n     <use style=\"stroke:#000000;stroke-width:2;\" x=\"416.032365\" xlink:href=\"#m957c94761b\" y=\"95.210426\"/>\r\n     <use style=\"stroke:#000000;stroke-width:2;\" x=\"416.032365\" xlink:href=\"#m957c94761b\" y=\"95.121356\"/>\r\n     <use style=\"stroke:#000000;stroke-width:2;\" x=\"416.032365\" xlink:href=\"#m957c94761b\" y=\"95.032193\"/>\r\n     <use style=\"stroke:#000000;stroke-width:2;\" x=\"416.032365\" xlink:href=\"#m957c94761b\" y=\"94.942936\"/>\r\n     <use style=\"stroke:#000000;stroke-width:2;\" x=\"416.032365\" xlink:href=\"#m957c94761b\" y=\"94.853583\"/>\r\n     <use style=\"stroke:#000000;stroke-width:2;\" x=\"416.032365\" xlink:href=\"#m957c94761b\" y=\"94.764134\"/>\r\n     <use style=\"stroke:#000000;stroke-width:2;\" x=\"416.032365\" xlink:href=\"#m957c94761b\" y=\"94.674587\"/>\r\n     <use style=\"stroke:#000000;stroke-width:2;\" x=\"416.913732\" xlink:href=\"#m957c94761b\" y=\"94.584941\"/>\r\n     <use style=\"stroke:#000000;stroke-width:2;\" x=\"416.913732\" xlink:href=\"#m957c94761b\" y=\"94.495194\"/>\r\n     <use style=\"stroke:#000000;stroke-width:2;\" x=\"416.913732\" xlink:href=\"#m957c94761b\" y=\"94.405345\"/>\r\n     <use style=\"stroke:#000000;stroke-width:2;\" x=\"416.913732\" xlink:href=\"#m957c94761b\" y=\"94.315394\"/>\r\n     <use style=\"stroke:#000000;stroke-width:2;\" x=\"416.913732\" xlink:href=\"#m957c94761b\" y=\"94.225338\"/>\r\n     <use style=\"stroke:#000000;stroke-width:2;\" x=\"416.913732\" xlink:href=\"#m957c94761b\" y=\"94.135177\"/>\r\n     <use style=\"stroke:#000000;stroke-width:2;\" x=\"416.913732\" xlink:href=\"#m957c94761b\" y=\"94.044909\"/>\r\n     <use style=\"stroke:#000000;stroke-width:2;\" x=\"416.913732\" xlink:href=\"#m957c94761b\" y=\"93.954533\"/>\r\n     <use style=\"stroke:#000000;stroke-width:2;\" x=\"416.913732\" xlink:href=\"#m957c94761b\" y=\"93.864047\"/>\r\n     <use style=\"stroke:#000000;stroke-width:2;\" x=\"417.781078\" xlink:href=\"#m957c94761b\" y=\"93.773451\"/>\r\n     <use style=\"stroke:#000000;stroke-width:2;\" x=\"417.781078\" xlink:href=\"#m957c94761b\" y=\"93.682742\"/>\r\n     <use style=\"stroke:#000000;stroke-width:2;\" x=\"417.781078\" xlink:href=\"#m957c94761b\" y=\"93.591919\"/>\r\n     <use style=\"stroke:#000000;stroke-width:2;\" x=\"417.781078\" xlink:href=\"#m957c94761b\" y=\"93.500982\"/>\r\n     <use style=\"stroke:#000000;stroke-width:2;\" x=\"418.634844\" xlink:href=\"#m957c94761b\" y=\"93.409928\"/>\r\n     <use style=\"stroke:#000000;stroke-width:2;\" x=\"418.634844\" xlink:href=\"#m957c94761b\" y=\"93.318756\"/>\r\n     <use style=\"stroke:#000000;stroke-width:2;\" x=\"418.634844\" xlink:href=\"#m957c94761b\" y=\"93.227465\"/>\r\n     <use style=\"stroke:#000000;stroke-width:2;\" x=\"418.634844\" xlink:href=\"#m957c94761b\" y=\"93.136053\"/>\r\n     <use style=\"stroke:#000000;stroke-width:2;\" x=\"418.634844\" xlink:href=\"#m957c94761b\" y=\"93.044519\"/>\r\n     <use style=\"stroke:#000000;stroke-width:2;\" x=\"418.634844\" xlink:href=\"#m957c94761b\" y=\"92.952861\"/>\r\n     <use style=\"stroke:#000000;stroke-width:2;\" x=\"418.634844\" xlink:href=\"#m957c94761b\" y=\"92.861078\"/>\r\n     <use style=\"stroke:#000000;stroke-width:2;\" x=\"419.475446\" xlink:href=\"#m957c94761b\" y=\"92.769168\"/>\r\n     <use style=\"stroke:#000000;stroke-width:2;\" x=\"419.475446\" xlink:href=\"#m957c94761b\" y=\"92.67713\"/>\r\n     <use style=\"stroke:#000000;stroke-width:2;\" x=\"419.475446\" xlink:href=\"#m957c94761b\" y=\"92.584962\"/>\r\n     <use style=\"stroke:#000000;stroke-width:2;\" x=\"419.475446\" xlink:href=\"#m957c94761b\" y=\"92.492663\"/>\r\n     <use style=\"stroke:#000000;stroke-width:2;\" x=\"419.475446\" xlink:href=\"#m957c94761b\" y=\"92.40023\"/>\r\n     <use style=\"stroke:#000000;stroke-width:2;\" x=\"419.475446\" xlink:href=\"#m957c94761b\" y=\"92.307663\"/>\r\n     <use style=\"stroke:#000000;stroke-width:2;\" x=\"419.475446\" xlink:href=\"#m957c94761b\" y=\"92.21496\"/>\r\n     <use style=\"stroke:#000000;stroke-width:2;\" x=\"419.475446\" xlink:href=\"#m957c94761b\" y=\"92.122119\"/>\r\n     <use style=\"stroke:#000000;stroke-width:2;\" x=\"420.303287\" xlink:href=\"#m957c94761b\" y=\"92.029139\"/>\r\n     <use style=\"stroke:#000000;stroke-width:2;\" x=\"420.303287\" xlink:href=\"#m957c94761b\" y=\"91.936017\"/>\r\n     <use style=\"stroke:#000000;stroke-width:2;\" x=\"420.303287\" xlink:href=\"#m957c94761b\" y=\"91.842753\"/>\r\n     <use style=\"stroke:#000000;stroke-width:2;\" x=\"420.303287\" xlink:href=\"#m957c94761b\" y=\"91.749343\"/>\r\n     <use style=\"stroke:#000000;stroke-width:2;\" x=\"421.118746\" xlink:href=\"#m957c94761b\" y=\"91.655788\"/>\r\n     <use style=\"stroke:#000000;stroke-width:2;\" x=\"421.118746\" xlink:href=\"#m957c94761b\" y=\"91.562085\"/>\r\n     <use style=\"stroke:#000000;stroke-width:2;\" x=\"421.118746\" xlink:href=\"#m957c94761b\" y=\"91.468231\"/>\r\n     <use style=\"stroke:#000000;stroke-width:2;\" x=\"421.922189\" xlink:href=\"#m957c94761b\" y=\"91.374226\"/>\r\n     <use style=\"stroke:#000000;stroke-width:2;\" x=\"421.922189\" xlink:href=\"#m957c94761b\" y=\"91.280068\"/>\r\n     <use style=\"stroke:#000000;stroke-width:2;\" x=\"421.922189\" xlink:href=\"#m957c94761b\" y=\"91.185754\"/>\r\n     <use style=\"stroke:#000000;stroke-width:2;\" x=\"421.922189\" xlink:href=\"#m957c94761b\" y=\"91.091283\"/>\r\n     <use style=\"stroke:#000000;stroke-width:2;\" x=\"421.922189\" xlink:href=\"#m957c94761b\" y=\"90.996653\"/>\r\n     <use style=\"stroke:#000000;stroke-width:2;\" x=\"421.922189\" xlink:href=\"#m957c94761b\" y=\"90.901863\"/>\r\n     <use style=\"stroke:#000000;stroke-width:2;\" x=\"421.922189\" xlink:href=\"#m957c94761b\" y=\"90.806909\"/>\r\n     <use style=\"stroke:#000000;stroke-width:2;\" x=\"421.922189\" xlink:href=\"#m957c94761b\" y=\"90.71179\"/>\r\n     <use style=\"stroke:#000000;stroke-width:2;\" x=\"421.922189\" xlink:href=\"#m957c94761b\" y=\"90.616505\"/>\r\n     <use style=\"stroke:#000000;stroke-width:2;\" x=\"421.922189\" xlink:href=\"#m957c94761b\" y=\"90.521051\"/>\r\n     <use style=\"stroke:#000000;stroke-width:2;\" x=\"422.713965\" xlink:href=\"#m957c94761b\" y=\"90.425426\"/>\r\n     <use style=\"stroke:#000000;stroke-width:2;\" x=\"422.713965\" xlink:href=\"#m957c94761b\" y=\"90.329628\"/>\r\n     <use style=\"stroke:#000000;stroke-width:2;\" x=\"422.713965\" xlink:href=\"#m957c94761b\" y=\"90.233655\"/>\r\n     <use style=\"stroke:#000000;stroke-width:2;\" x=\"422.713965\" xlink:href=\"#m957c94761b\" y=\"90.137505\"/>\r\n     <use style=\"stroke:#000000;stroke-width:2;\" x=\"422.713965\" xlink:href=\"#m957c94761b\" y=\"90.041176\"/>\r\n     <use style=\"stroke:#000000;stroke-width:2;\" x=\"422.713965\" xlink:href=\"#m957c94761b\" y=\"89.944666\"/>\r\n     <use style=\"stroke:#000000;stroke-width:2;\" x=\"422.713965\" xlink:href=\"#m957c94761b\" y=\"89.847972\"/>\r\n     <use style=\"stroke:#000000;stroke-width:2;\" x=\"422.713965\" xlink:href=\"#m957c94761b\" y=\"89.751093\"/>\r\n     <use style=\"stroke:#000000;stroke-width:2;\" x=\"422.713965\" xlink:href=\"#m957c94761b\" y=\"89.654025\"/>\r\n     <use style=\"stroke:#000000;stroke-width:2;\" x=\"422.713965\" xlink:href=\"#m957c94761b\" y=\"89.556767\"/>\r\n     <use style=\"stroke:#000000;stroke-width:2;\" x=\"422.713965\" xlink:href=\"#m957c94761b\" y=\"89.459317\"/>\r\n     <use style=\"stroke:#000000;stroke-width:2;\" x=\"423.494407\" xlink:href=\"#m957c94761b\" y=\"89.361671\"/>\r\n     <use style=\"stroke:#000000;stroke-width:2;\" x=\"423.494407\" xlink:href=\"#m957c94761b\" y=\"89.263829\"/>\r\n     <use style=\"stroke:#000000;stroke-width:2;\" x=\"423.494407\" xlink:href=\"#m957c94761b\" y=\"89.165786\"/>\r\n     <use style=\"stroke:#000000;stroke-width:2;\" x=\"423.494407\" xlink:href=\"#m957c94761b\" y=\"89.067542\"/>\r\n     <use style=\"stroke:#000000;stroke-width:2;\" x=\"423.494407\" xlink:href=\"#m957c94761b\" y=\"88.969093\"/>\r\n     <use style=\"stroke:#000000;stroke-width:2;\" x=\"423.494407\" xlink:href=\"#m957c94761b\" y=\"88.870437\"/>\r\n     <use style=\"stroke:#000000;stroke-width:2;\" x=\"423.494407\" xlink:href=\"#m957c94761b\" y=\"88.771571\"/>\r\n     <use style=\"stroke:#000000;stroke-width:2;\" x=\"423.494407\" xlink:href=\"#m957c94761b\" y=\"88.672494\"/>\r\n     <use style=\"stroke:#000000;stroke-width:2;\" x=\"424.263837\" xlink:href=\"#m957c94761b\" y=\"88.573201\"/>\r\n     <use style=\"stroke:#000000;stroke-width:2;\" x=\"424.263837\" xlink:href=\"#m957c94761b\" y=\"88.473691\"/>\r\n     <use style=\"stroke:#000000;stroke-width:2;\" x=\"424.263837\" xlink:href=\"#m957c94761b\" y=\"88.373961\"/>\r\n     <use style=\"stroke:#000000;stroke-width:2;\" x=\"424.263837\" xlink:href=\"#m957c94761b\" y=\"88.274008\"/>\r\n     <use style=\"stroke:#000000;stroke-width:2;\" x=\"424.263837\" xlink:href=\"#m957c94761b\" y=\"88.173829\"/>\r\n     <use style=\"stroke:#000000;stroke-width:2;\" x=\"424.263837\" xlink:href=\"#m957c94761b\" y=\"88.073422\"/>\r\n     <use style=\"stroke:#000000;stroke-width:2;\" x=\"424.263837\" xlink:href=\"#m957c94761b\" y=\"87.972784\"/>\r\n     <use style=\"stroke:#000000;stroke-width:2;\" x=\"425.02256\" xlink:href=\"#m957c94761b\" y=\"87.871912\"/>\r\n     <use style=\"stroke:#000000;stroke-width:2;\" x=\"425.02256\" xlink:href=\"#m957c94761b\" y=\"87.770803\"/>\r\n     <use style=\"stroke:#000000;stroke-width:2;\" x=\"425.77087\" xlink:href=\"#m957c94761b\" y=\"87.669453\"/>\r\n     <use style=\"stroke:#000000;stroke-width:2;\" x=\"425.77087\" xlink:href=\"#m957c94761b\" y=\"87.567861\"/>\r\n     <use style=\"stroke:#000000;stroke-width:2;\" x=\"425.77087\" xlink:href=\"#m957c94761b\" y=\"87.466023\"/>\r\n     <use style=\"stroke:#000000;stroke-width:2;\" x=\"425.77087\" xlink:href=\"#m957c94761b\" y=\"87.363935\"/>\r\n     <use style=\"stroke:#000000;stroke-width:2;\" x=\"425.77087\" xlink:href=\"#m957c94761b\" y=\"87.261595\"/>\r\n     <use style=\"stroke:#000000;stroke-width:2;\" x=\"425.77087\" xlink:href=\"#m957c94761b\" y=\"87.159\"/>\r\n     <use style=\"stroke:#000000;stroke-width:2;\" x=\"425.77087\" xlink:href=\"#m957c94761b\" y=\"87.056145\"/>\r\n     <use style=\"stroke:#000000;stroke-width:2;\" x=\"425.77087\" xlink:href=\"#m957c94761b\" y=\"86.953029\"/>\r\n     <use style=\"stroke:#000000;stroke-width:2;\" x=\"425.77087\" xlink:href=\"#m957c94761b\" y=\"86.849647\"/>\r\n     <use style=\"stroke:#000000;stroke-width:2;\" x=\"426.509049\" xlink:href=\"#m957c94761b\" y=\"86.745996\"/>\r\n     <use style=\"stroke:#000000;stroke-width:2;\" x=\"426.509049\" xlink:href=\"#m957c94761b\" y=\"86.642073\"/>\r\n     <use style=\"stroke:#000000;stroke-width:2;\" x=\"426.509049\" xlink:href=\"#m957c94761b\" y=\"86.537874\"/>\r\n     <use style=\"stroke:#000000;stroke-width:2;\" x=\"426.509049\" xlink:href=\"#m957c94761b\" y=\"86.433395\"/>\r\n     <use style=\"stroke:#000000;stroke-width:2;\" x=\"426.509049\" xlink:href=\"#m957c94761b\" y=\"86.328633\"/>\r\n     <use style=\"stroke:#000000;stroke-width:2;\" x=\"427.237367\" xlink:href=\"#m957c94761b\" y=\"86.223585\"/>\r\n     <use style=\"stroke:#000000;stroke-width:2;\" x=\"427.237367\" xlink:href=\"#m957c94761b\" y=\"86.118246\"/>\r\n     <use style=\"stroke:#000000;stroke-width:2;\" x=\"427.237367\" xlink:href=\"#m957c94761b\" y=\"86.012612\"/>\r\n     <use style=\"stroke:#000000;stroke-width:2;\" x=\"427.237367\" xlink:href=\"#m957c94761b\" y=\"85.90668\"/>\r\n     <use style=\"stroke:#000000;stroke-width:2;\" x=\"427.237367\" xlink:href=\"#m957c94761b\" y=\"85.800446\"/>\r\n     <use style=\"stroke:#000000;stroke-width:2;\" x=\"427.237367\" xlink:href=\"#m957c94761b\" y=\"85.693906\"/>\r\n     <use style=\"stroke:#000000;stroke-width:2;\" x=\"427.237367\" xlink:href=\"#m957c94761b\" y=\"85.587056\"/>\r\n     <use style=\"stroke:#000000;stroke-width:2;\" x=\"427.237367\" xlink:href=\"#m957c94761b\" y=\"85.47989\"/>\r\n     <use style=\"stroke:#000000;stroke-width:2;\" x=\"427.237367\" xlink:href=\"#m957c94761b\" y=\"85.372407\"/>\r\n     <use style=\"stroke:#000000;stroke-width:2;\" x=\"427.237367\" xlink:href=\"#m957c94761b\" y=\"85.2646\"/>\r\n     <use style=\"stroke:#000000;stroke-width:2;\" x=\"427.956086\" xlink:href=\"#m957c94761b\" y=\"85.156465\"/>\r\n     <use style=\"stroke:#000000;stroke-width:2;\" x=\"427.956086\" xlink:href=\"#m957c94761b\" y=\"85.047999\"/>\r\n     <use style=\"stroke:#000000;stroke-width:2;\" x=\"428.665453\" xlink:href=\"#m957c94761b\" y=\"84.939196\"/>\r\n     <use style=\"stroke:#000000;stroke-width:2;\" x=\"428.665453\" xlink:href=\"#m957c94761b\" y=\"84.830052\"/>\r\n     <use style=\"stroke:#000000;stroke-width:2;\" x=\"428.665453\" xlink:href=\"#m957c94761b\" y=\"84.720562\"/>\r\n     <use style=\"stroke:#000000;stroke-width:2;\" x=\"428.665453\" xlink:href=\"#m957c94761b\" y=\"84.610722\"/>\r\n     <use style=\"stroke:#000000;stroke-width:2;\" x=\"428.665453\" xlink:href=\"#m957c94761b\" y=\"84.500526\"/>\r\n     <use style=\"stroke:#000000;stroke-width:2;\" x=\"428.665453\" xlink:href=\"#m957c94761b\" y=\"84.38997\"/>\r\n     <use style=\"stroke:#000000;stroke-width:2;\" x=\"429.365711\" xlink:href=\"#m957c94761b\" y=\"84.279048\"/>\r\n     <use style=\"stroke:#000000;stroke-width:2;\" x=\"429.365711\" xlink:href=\"#m957c94761b\" y=\"84.167755\"/>\r\n     <use style=\"stroke:#000000;stroke-width:2;\" x=\"429.365711\" xlink:href=\"#m957c94761b\" y=\"84.056087\"/>\r\n     <use style=\"stroke:#000000;stroke-width:2;\" x=\"429.365711\" xlink:href=\"#m957c94761b\" y=\"83.944037\"/>\r\n     <use style=\"stroke:#000000;stroke-width:2;\" x=\"429.365711\" xlink:href=\"#m957c94761b\" y=\"83.8316\"/>\r\n     <use style=\"stroke:#000000;stroke-width:2;\" x=\"429.365711\" xlink:href=\"#m957c94761b\" y=\"83.718771\"/>\r\n     <use style=\"stroke:#000000;stroke-width:2;\" x=\"429.365711\" xlink:href=\"#m957c94761b\" y=\"83.605544\"/>\r\n     <use style=\"stroke:#000000;stroke-width:2;\" x=\"430.057089\" xlink:href=\"#m957c94761b\" y=\"83.491912\"/>\r\n     <use style=\"stroke:#000000;stroke-width:2;\" x=\"430.057089\" xlink:href=\"#m957c94761b\" y=\"83.377871\"/>\r\n     <use style=\"stroke:#000000;stroke-width:2;\" x=\"430.057089\" xlink:href=\"#m957c94761b\" y=\"83.263414\"/>\r\n     <use style=\"stroke:#000000;stroke-width:2;\" x=\"430.057089\" xlink:href=\"#m957c94761b\" y=\"83.148535\"/>\r\n     <use style=\"stroke:#000000;stroke-width:2;\" x=\"430.057089\" xlink:href=\"#m957c94761b\" y=\"83.033228\"/>\r\n     <use style=\"stroke:#000000;stroke-width:2;\" x=\"430.057089\" xlink:href=\"#m957c94761b\" y=\"82.917486\"/>\r\n     <use style=\"stroke:#000000;stroke-width:2;\" x=\"430.057089\" xlink:href=\"#m957c94761b\" y=\"82.801303\"/>\r\n     <use style=\"stroke:#000000;stroke-width:2;\" x=\"430.057089\" xlink:href=\"#m957c94761b\" y=\"82.684672\"/>\r\n     <use style=\"stroke:#000000;stroke-width:2;\" x=\"430.739811\" xlink:href=\"#m957c94761b\" y=\"82.567586\"/>\r\n     <use style=\"stroke:#000000;stroke-width:2;\" x=\"430.739811\" xlink:href=\"#m957c94761b\" y=\"82.450038\"/>\r\n     <use style=\"stroke:#000000;stroke-width:2;\" x=\"430.739811\" xlink:href=\"#m957c94761b\" y=\"82.332021\"/>\r\n     <use style=\"stroke:#000000;stroke-width:2;\" x=\"430.739811\" xlink:href=\"#m957c94761b\" y=\"82.213528\"/>\r\n     <use style=\"stroke:#000000;stroke-width:2;\" x=\"431.414089\" xlink:href=\"#m957c94761b\" y=\"82.094552\"/>\r\n     <use style=\"stroke:#000000;stroke-width:2;\" x=\"431.414089\" xlink:href=\"#m957c94761b\" y=\"81.975084\"/>\r\n     <use style=\"stroke:#000000;stroke-width:2;\" x=\"431.414089\" xlink:href=\"#m957c94761b\" y=\"81.855117\"/>\r\n     <use style=\"stroke:#000000;stroke-width:2;\" x=\"431.414089\" xlink:href=\"#m957c94761b\" y=\"81.734644\"/>\r\n     <use style=\"stroke:#000000;stroke-width:2;\" x=\"431.414089\" xlink:href=\"#m957c94761b\" y=\"81.613655\"/>\r\n     <use style=\"stroke:#000000;stroke-width:2;\" x=\"431.414089\" xlink:href=\"#m957c94761b\" y=\"81.492143\"/>\r\n     <use style=\"stroke:#000000;stroke-width:2;\" x=\"432.080131\" xlink:href=\"#m957c94761b\" y=\"81.370099\"/>\r\n     <use style=\"stroke:#000000;stroke-width:2;\" x=\"432.080131\" xlink:href=\"#m957c94761b\" y=\"81.247515\"/>\r\n     <use style=\"stroke:#000000;stroke-width:2;\" x=\"432.080131\" xlink:href=\"#m957c94761b\" y=\"81.124381\"/>\r\n     <use style=\"stroke:#000000;stroke-width:2;\" x=\"432.738135\" xlink:href=\"#m957c94761b\" y=\"81.000688\"/>\r\n     <use style=\"stroke:#000000;stroke-width:2;\" x=\"432.738135\" xlink:href=\"#m957c94761b\" y=\"80.876428\"/>\r\n     <use style=\"stroke:#000000;stroke-width:2;\" x=\"433.388293\" xlink:href=\"#m957c94761b\" y=\"80.75159\"/>\r\n     <use style=\"stroke:#000000;stroke-width:2;\" x=\"433.388293\" xlink:href=\"#m957c94761b\" y=\"80.626164\"/>\r\n     <use style=\"stroke:#000000;stroke-width:2;\" x=\"433.388293\" xlink:href=\"#m957c94761b\" y=\"80.500142\"/>\r\n     <use style=\"stroke:#000000;stroke-width:2;\" x=\"433.388293\" xlink:href=\"#m957c94761b\" y=\"80.373512\"/>\r\n     <use style=\"stroke:#000000;stroke-width:2;\" x=\"433.388293\" xlink:href=\"#m957c94761b\" y=\"80.246264\"/>\r\n     <use style=\"stroke:#000000;stroke-width:2;\" x=\"433.388293\" xlink:href=\"#m957c94761b\" y=\"80.118387\"/>\r\n     <use style=\"stroke:#000000;stroke-width:2;\" x=\"433.388293\" xlink:href=\"#m957c94761b\" y=\"79.98987\"/>\r\n     <use style=\"stroke:#000000;stroke-width:2;\" x=\"434.03079\" xlink:href=\"#m957c94761b\" y=\"79.860702\"/>\r\n     <use style=\"stroke:#000000;stroke-width:2;\" x=\"434.03079\" xlink:href=\"#m957c94761b\" y=\"79.730871\"/>\r\n     <use style=\"stroke:#000000;stroke-width:2;\" x=\"434.03079\" xlink:href=\"#m957c94761b\" y=\"79.600365\"/>\r\n     <use style=\"stroke:#000000;stroke-width:2;\" x=\"434.03079\" xlink:href=\"#m957c94761b\" y=\"79.469171\"/>\r\n     <use style=\"stroke:#000000;stroke-width:2;\" x=\"434.03079\" xlink:href=\"#m957c94761b\" y=\"79.337279\"/>\r\n     <use style=\"stroke:#000000;stroke-width:2;\" x=\"434.03079\" xlink:href=\"#m957c94761b\" y=\"79.204673\"/>\r\n     <use style=\"stroke:#000000;stroke-width:2;\" x=\"434.03079\" xlink:href=\"#m957c94761b\" y=\"79.071341\"/>\r\n     <use style=\"stroke:#000000;stroke-width:2;\" x=\"434.665804\" xlink:href=\"#m957c94761b\" y=\"78.93727\"/>\r\n     <use style=\"stroke:#000000;stroke-width:2;\" x=\"434.665804\" xlink:href=\"#m957c94761b\" y=\"78.802445\"/>\r\n     <use style=\"stroke:#000000;stroke-width:2;\" x=\"434.665804\" xlink:href=\"#m957c94761b\" y=\"78.666852\"/>\r\n     <use style=\"stroke:#000000;stroke-width:2;\" x=\"434.665804\" xlink:href=\"#m957c94761b\" y=\"78.530476\"/>\r\n     <use style=\"stroke:#000000;stroke-width:2;\" x=\"435.293508\" xlink:href=\"#m957c94761b\" y=\"78.393302\"/>\r\n     <use style=\"stroke:#000000;stroke-width:2;\" x=\"435.293508\" xlink:href=\"#m957c94761b\" y=\"78.255314\"/>\r\n     <use style=\"stroke:#000000;stroke-width:2;\" x=\"435.293508\" xlink:href=\"#m957c94761b\" y=\"78.116497\"/>\r\n     <use style=\"stroke:#000000;stroke-width:2;\" x=\"435.914068\" xlink:href=\"#m957c94761b\" y=\"77.976832\"/>\r\n     <use style=\"stroke:#000000;stroke-width:2;\" x=\"435.914068\" xlink:href=\"#m957c94761b\" y=\"77.836304\"/>\r\n     <use style=\"stroke:#000000;stroke-width:2;\" x=\"436.527645\" xlink:href=\"#m957c94761b\" y=\"77.694894\"/>\r\n     <use style=\"stroke:#000000;stroke-width:2;\" x=\"436.527645\" xlink:href=\"#m957c94761b\" y=\"77.552584\"/>\r\n     <use style=\"stroke:#000000;stroke-width:2;\" x=\"437.134394\" xlink:href=\"#m957c94761b\" y=\"77.409356\"/>\r\n     <use style=\"stroke:#000000;stroke-width:2;\" x=\"437.134394\" xlink:href=\"#m957c94761b\" y=\"77.265191\"/>\r\n     <use style=\"stroke:#000000;stroke-width:2;\" x=\"437.734465\" xlink:href=\"#m957c94761b\" y=\"77.120067\"/>\r\n     <use style=\"stroke:#000000;stroke-width:2;\" x=\"437.734465\" xlink:href=\"#m957c94761b\" y=\"76.973966\"/>\r\n     <use style=\"stroke:#000000;stroke-width:2;\" x=\"437.734465\" xlink:href=\"#m957c94761b\" y=\"76.826865\"/>\r\n     <use style=\"stroke:#000000;stroke-width:2;\" x=\"437.734465\" xlink:href=\"#m957c94761b\" y=\"76.678742\"/>\r\n     <use style=\"stroke:#000000;stroke-width:2;\" x=\"438.328004\" xlink:href=\"#m957c94761b\" y=\"76.529575\"/>\r\n     <use style=\"stroke:#000000;stroke-width:2;\" x=\"438.328004\" xlink:href=\"#m957c94761b\" y=\"76.37934\"/>\r\n     <use style=\"stroke:#000000;stroke-width:2;\" x=\"438.915152\" xlink:href=\"#m957c94761b\" y=\"76.228014\"/>\r\n     <use style=\"stroke:#000000;stroke-width:2;\" x=\"438.915152\" xlink:href=\"#m957c94761b\" y=\"76.075571\"/>\r\n     <use style=\"stroke:#000000;stroke-width:2;\" x=\"438.915152\" xlink:href=\"#m957c94761b\" y=\"75.921984\"/>\r\n     <use style=\"stroke:#000000;stroke-width:2;\" x=\"438.915152\" xlink:href=\"#m957c94761b\" y=\"75.767228\"/>\r\n     <use style=\"stroke:#000000;stroke-width:2;\" x=\"438.915152\" xlink:href=\"#m957c94761b\" y=\"75.611274\"/>\r\n     <use style=\"stroke:#000000;stroke-width:2;\" x=\"439.496044\" xlink:href=\"#m957c94761b\" y=\"75.454094\"/>\r\n     <use style=\"stroke:#000000;stroke-width:2;\" x=\"440.070813\" xlink:href=\"#m957c94761b\" y=\"75.295657\"/>\r\n     <use style=\"stroke:#000000;stroke-width:2;\" x=\"440.070813\" xlink:href=\"#m957c94761b\" y=\"75.135933\"/>\r\n     <use style=\"stroke:#000000;stroke-width:2;\" x=\"440.070813\" xlink:href=\"#m957c94761b\" y=\"74.974889\"/>\r\n     <use style=\"stroke:#000000;stroke-width:2;\" x=\"440.070813\" xlink:href=\"#m957c94761b\" y=\"74.812492\"/>\r\n     <use style=\"stroke:#000000;stroke-width:2;\" x=\"440.639587\" xlink:href=\"#m957c94761b\" y=\"74.648707\"/>\r\n     <use style=\"stroke:#000000;stroke-width:2;\" x=\"440.639587\" xlink:href=\"#m957c94761b\" y=\"74.483499\"/>\r\n     <use style=\"stroke:#000000;stroke-width:2;\" x=\"441.202488\" xlink:href=\"#m957c94761b\" y=\"74.316829\"/>\r\n     <use style=\"stroke:#000000;stroke-width:2;\" x=\"441.202488\" xlink:href=\"#m957c94761b\" y=\"74.148658\"/>\r\n     <use style=\"stroke:#000000;stroke-width:2;\" x=\"441.202488\" xlink:href=\"#m957c94761b\" y=\"73.978947\"/>\r\n     <use style=\"stroke:#000000;stroke-width:2;\" x=\"441.202488\" xlink:href=\"#m957c94761b\" y=\"73.807652\"/>\r\n     <use style=\"stroke:#000000;stroke-width:2;\" x=\"441.202488\" xlink:href=\"#m957c94761b\" y=\"73.63473\"/>\r\n     <use style=\"stroke:#000000;stroke-width:2;\" x=\"441.202488\" xlink:href=\"#m957c94761b\" y=\"73.460134\"/>\r\n     <use style=\"stroke:#000000;stroke-width:2;\" x=\"441.202488\" xlink:href=\"#m957c94761b\" y=\"73.283817\"/>\r\n     <use style=\"stroke:#000000;stroke-width:2;\" x=\"441.202488\" xlink:href=\"#m957c94761b\" y=\"73.105727\"/>\r\n     <use style=\"stroke:#000000;stroke-width:2;\" x=\"441.759638\" xlink:href=\"#m957c94761b\" y=\"72.925814\"/>\r\n     <use style=\"stroke:#000000;stroke-width:2;\" x=\"441.759638\" xlink:href=\"#m957c94761b\" y=\"72.744021\"/>\r\n     <use style=\"stroke:#000000;stroke-width:2;\" x=\"441.759638\" xlink:href=\"#m957c94761b\" y=\"72.560291\"/>\r\n     <use style=\"stroke:#000000;stroke-width:2;\" x=\"442.311152\" xlink:href=\"#m957c94761b\" y=\"72.374565\"/>\r\n     <use style=\"stroke:#000000;stroke-width:2;\" x=\"442.311152\" xlink:href=\"#m957c94761b\" y=\"72.18678\"/>\r\n     <use style=\"stroke:#000000;stroke-width:2;\" x=\"442.311152\" xlink:href=\"#m957c94761b\" y=\"71.996868\"/>\r\n     <use style=\"stroke:#000000;stroke-width:2;\" x=\"442.857144\" xlink:href=\"#m957c94761b\" y=\"71.804761\"/>\r\n     <use style=\"stroke:#000000;stroke-width:2;\" x=\"442.857144\" xlink:href=\"#m957c94761b\" y=\"71.610386\"/>\r\n     <use style=\"stroke:#000000;stroke-width:2;\" x=\"443.397722\" xlink:href=\"#m957c94761b\" y=\"71.413666\"/>\r\n     <use style=\"stroke:#000000;stroke-width:2;\" x=\"443.397722\" xlink:href=\"#m957c94761b\" y=\"71.21452\"/>\r\n     <use style=\"stroke:#000000;stroke-width:2;\" x=\"443.397722\" xlink:href=\"#m957c94761b\" y=\"71.012863\"/>\r\n     <use style=\"stroke:#000000;stroke-width:2;\" x=\"443.397722\" xlink:href=\"#m957c94761b\" y=\"70.808605\"/>\r\n     <use style=\"stroke:#000000;stroke-width:2;\" x=\"443.397722\" xlink:href=\"#m957c94761b\" y=\"70.601651\"/>\r\n     <use style=\"stroke:#000000;stroke-width:2;\" x=\"443.932994\" xlink:href=\"#m957c94761b\" y=\"70.391902\"/>\r\n     <use style=\"stroke:#000000;stroke-width:2;\" x=\"444.463062\" xlink:href=\"#m957c94761b\" y=\"70.17925\"/>\r\n     <use style=\"stroke:#000000;stroke-width:2;\" x=\"444.988026\" xlink:href=\"#m957c94761b\" y=\"69.963583\"/>\r\n     <use style=\"stroke:#000000;stroke-width:2;\" x=\"444.988026\" xlink:href=\"#m957c94761b\" y=\"69.744783\"/>\r\n     <use style=\"stroke:#000000;stroke-width:2;\" x=\"445.507985\" xlink:href=\"#m957c94761b\" y=\"69.522721\"/>\r\n     <use style=\"stroke:#000000;stroke-width:2;\" x=\"445.507985\" xlink:href=\"#m957c94761b\" y=\"69.297264\"/>\r\n     <use style=\"stroke:#000000;stroke-width:2;\" x=\"445.507985\" xlink:href=\"#m957c94761b\" y=\"69.068268\"/>\r\n     <use style=\"stroke:#000000;stroke-width:2;\" x=\"446.023031\" xlink:href=\"#m957c94761b\" y=\"68.835579\"/>\r\n     <use style=\"stroke:#000000;stroke-width:2;\" x=\"446.023031\" xlink:href=\"#m957c94761b\" y=\"68.599034\"/>\r\n     <use style=\"stroke:#000000;stroke-width:2;\" x=\"446.023031\" xlink:href=\"#m957c94761b\" y=\"68.358457\"/>\r\n     <use style=\"stroke:#000000;stroke-width:2;\" x=\"446.533259\" xlink:href=\"#m957c94761b\" y=\"68.113661\"/>\r\n     <use style=\"stroke:#000000;stroke-width:2;\" x=\"446.533259\" xlink:href=\"#m957c94761b\" y=\"67.864445\"/>\r\n     <use style=\"stroke:#000000;stroke-width:2;\" x=\"447.038756\" xlink:href=\"#m957c94761b\" y=\"67.610591\"/>\r\n     <use style=\"stroke:#000000;stroke-width:2;\" x=\"447.038756\" xlink:href=\"#m957c94761b\" y=\"67.351865\"/>\r\n     <use style=\"stroke:#000000;stroke-width:2;\" x=\"447.038756\" xlink:href=\"#m957c94761b\" y=\"67.088016\"/>\r\n     <use style=\"stroke:#000000;stroke-width:2;\" x=\"447.038756\" xlink:href=\"#m957c94761b\" y=\"66.818769\"/>\r\n     <use style=\"stroke:#000000;stroke-width:2;\" x=\"447.539609\" xlink:href=\"#m957c94761b\" y=\"66.543829\"/>\r\n     <use style=\"stroke:#000000;stroke-width:2;\" x=\"447.539609\" xlink:href=\"#m957c94761b\" y=\"66.262872\"/>\r\n     <use style=\"stroke:#000000;stroke-width:2;\" x=\"448.035904\" xlink:href=\"#m957c94761b\" y=\"65.975547\"/>\r\n     <use style=\"stroke:#000000;stroke-width:2;\" x=\"448.035904\" xlink:href=\"#m957c94761b\" y=\"65.681469\"/>\r\n     <use style=\"stroke:#000000;stroke-width:2;\" x=\"448.035904\" xlink:href=\"#m957c94761b\" y=\"65.380217\"/>\r\n     <use style=\"stroke:#000000;stroke-width:2;\" x=\"448.035904\" xlink:href=\"#m957c94761b\" y=\"65.071327\"/>\r\n     <use style=\"stroke:#000000;stroke-width:2;\" x=\"449.015144\" xlink:href=\"#m957c94761b\" y=\"64.754285\"/>\r\n     <use style=\"stroke:#000000;stroke-width:2;\" x=\"449.015144\" xlink:href=\"#m957c94761b\" y=\"64.428526\"/>\r\n     <use style=\"stroke:#000000;stroke-width:2;\" x=\"449.977108\" xlink:href=\"#m957c94761b\" y=\"64.093418\"/>\r\n     <use style=\"stroke:#000000;stroke-width:2;\" x=\"449.977108\" xlink:href=\"#m957c94761b\" y=\"63.748257\"/>\r\n     <use style=\"stroke:#000000;stroke-width:2;\" x=\"451.85157\" xlink:href=\"#m957c94761b\" y=\"63.392251\"/>\r\n     <use style=\"stroke:#000000;stroke-width:2;\" x=\"451.85157\" xlink:href=\"#m957c94761b\" y=\"63.024509\"/>\r\n     <use style=\"stroke:#000000;stroke-width:2;\" x=\"451.85157\" xlink:href=\"#m957c94761b\" y=\"62.644022\"/>\r\n     <use style=\"stroke:#000000;stroke-width:2;\" x=\"452.310287\" xlink:href=\"#m957c94761b\" y=\"62.249639\"/>\r\n     <use style=\"stroke:#000000;stroke-width:2;\" x=\"452.310287\" xlink:href=\"#m957c94761b\" y=\"61.840036\"/>\r\n     <use style=\"stroke:#000000;stroke-width:2;\" x=\"452.765178\" xlink:href=\"#m957c94761b\" y=\"61.413689\"/>\r\n     <use style=\"stroke:#000000;stroke-width:2;\" x=\"453.216304\" xlink:href=\"#m957c94761b\" y=\"60.968819\"/>\r\n     <use style=\"stroke:#000000;stroke-width:2;\" x=\"454.107512\" xlink:href=\"#m957c94761b\" y=\"60.503338\"/>\r\n     <use style=\"stroke:#000000;stroke-width:2;\" x=\"454.107512\" xlink:href=\"#m957c94761b\" y=\"60.014767\"/>\r\n     <use style=\"stroke:#000000;stroke-width:2;\" x=\"454.547713\" xlink:href=\"#m957c94761b\" y=\"59.500135\"/>\r\n     <use style=\"stroke:#000000;stroke-width:2;\" x=\"454.547713\" xlink:href=\"#m957c94761b\" y=\"58.95583\"/>\r\n     <use style=\"stroke:#000000;stroke-width:2;\" x=\"454.547713\" xlink:href=\"#m957c94761b\" y=\"58.377404\"/>\r\n     <use style=\"stroke:#000000;stroke-width:2;\" x=\"457.533451\" xlink:href=\"#m957c94761b\" y=\"57.75928\"/>\r\n     <use style=\"stroke:#000000;stroke-width:2;\" x=\"457.946945\" xlink:href=\"#m957c94761b\" y=\"57.094331\"/>\r\n     <use style=\"stroke:#000000;stroke-width:2;\" x=\"458.764643\" xlink:href=\"#m957c94761b\" y=\"56.373228\"/>\r\n     <use style=\"stroke:#000000;stroke-width:2;\" x=\"459.57026\" xlink:href=\"#m957c94761b\" y=\"55.583413\"/>\r\n     <use style=\"stroke:#000000;stroke-width:2;\" x=\"461.918064\" xlink:href=\"#m957c94761b\" y=\"54.707366\"/>\r\n     <use style=\"stroke:#000000;stroke-width:2;\" x=\"463.055113\" xlink:href=\"#m957c94761b\" y=\"53.719522\"/>\r\n     <use style=\"stroke:#000000;stroke-width:2;\" x=\"464.535208\" xlink:href=\"#m957c94761b\" y=\"52.580292\"/>\r\n     <use style=\"stroke:#000000;stroke-width:2;\" x=\"471.387024\" xlink:href=\"#m957c94761b\" y=\"51.223113\"/>\r\n     <use style=\"stroke:#000000;stroke-width:2;\" x=\"472.65981\" xlink:href=\"#m957c94761b\" y=\"49.521515\"/>\r\n     <use style=\"stroke:#000000;stroke-width:2;\" x=\"473.285232\" xlink:href=\"#m957c94761b\" y=\"47.180657\"/>\r\n    </g>\r\n   </g>\r\n   <g id=\"PolyCollection_1\">\r\n    <path clip-path=\"url(#pa9050272e5)\" d=\"M 517.248133 14.209064 \r\nL 507.036976 14.209064 \r\nL 506.618368 14.574859 \r\nL 506.194758 14.94501 \r\nL 505.766022 15.319621 \r\nL 505.332036 15.698802 \r\nL 504.89267 16.082665 \r\nL 504.447789 16.471328 \r\nL 503.997252 16.864912 \r\nL 503.540914 17.263544 \r\nL 503.078623 17.667354 \r\nL 502.610222 18.076479 \r\nL 502.135548 18.49106 \r\nL 501.65443 18.911246 \r\nL 501.166691 19.337189 \r\nL 500.672146 19.76905 \r\nL 500.170602 20.206996 \r\nL 499.661858 20.6512 \r\nL 499.145705 21.101843 \r\nL 498.621924 21.559116 \r\nL 498.090286 22.023216 \r\nL 497.550552 22.49435 \r\nL 497.00247 22.972735 \r\nL 496.44578 23.458597 \r\nL 495.880205 23.952174 \r\nL 495.305459 24.453715 \r\nL 494.721238 24.963481 \r\nL 494.127226 25.481745 \r\nL 493.523087 26.008798 \r\nL 492.908472 26.54494 \r\nL 492.283009 27.090492 \r\nL 491.64631 27.64579 \r\nL 490.997964 28.211188 \r\nL 490.337536 28.78706 \r\nL 489.664567 29.373801 \r\nL 488.978573 29.97183 \r\nL 488.279038 30.58159 \r\nL 487.565419 31.203549 \r\nL 486.837136 31.838205 \r\nL 486.093574 32.486087 \r\nL 485.334078 33.147758 \r\nL 484.557952 33.823817 \r\nL 483.764452 34.514902 \r\nL 482.952782 35.221697 \r\nL 482.122092 35.94493 \r\nL 481.27147 36.685384 \r\nL 480.399938 37.443895 \r\nL 479.506445 38.221366 \r\nL 478.589858 39.018764 \r\nL 477.648955 39.837134 \r\nL 476.682416 40.677605 \r\nL 475.688812 41.541397 \r\nL 474.666589 42.429833 \r\nL 473.614063 43.344351 \r\nL 472.529394 44.286516 \r\nL 471.410576 45.258034 \r\nL 470.255409 46.260774 \r\nL 469.061481 47.296781 \r\nL 467.826138 48.368305 \r\nL 466.54645 49.477824 \r\nL 465.219176 50.628076 \r\nL 463.840718 51.822094 \r\nL 462.407072 53.063249 \r\nL 460.913763 54.355299 \r\nL 459.355779 55.702444 \r\nL 457.72748 57.109398 \r\nL 456.022499 58.581469 \r\nL 454.23362 60.124654 \r\nL 452.352628 61.745756 \r\nL 450.370134 63.45252 \r\nL 448.275355 65.253807 \r\nL 446.055846 67.159791 \r\nL 443.697172 69.182212 \r\nL 441.1825 71.334681 \r\nL 438.492089 73.633058 \r\nL 435.602647 76.095919 \r\nL 432.48653 78.74515 \r\nL 429.110719 81.606684 \r\nL 425.435529 84.711446 \r\nL 421.412977 88.096557 \r\nL 416.984717 91.806893 \r\nL 412.079439 95.897105 \r\nL 406.609593 100.434276 \r\nL 400.467204 105.501421 \r\nL 393.518432 111.202148 \r\nL 385.59626 117.666876 \r\nL 376.490496 125.06117 \r\nL 365.934024 133.596884 \r\nL 353.584208 143.546949 \r\nL 338.998415 155.264667 \r\nL 321.602973 169.208174 \r\nL 300.65567 185.970074 \r\nL 275.203283 206.3111 \r\nL 244.03687 231.195649 \r\nL 205.646724 261.827636 \r\nL 158.173703 299.689292 \r\nL 99.345493 346.591973 \r\nL 26.382938 404.750804 \r\nL -64.13166 476.889615 \r\nL -176.423035 566.37517 \r\nL -315.727204 677.379892 \r\nL -247.049581 677.379892 \r\nL -247.049581 677.379892 \r\nL -120.703698 566.37517 \r\nL -18.843441 476.889615 \r\nL 63.280371 404.750804 \r\nL 129.500152 346.591973 \r\nL 182.916713 299.689292 \r\nL 226.052007 261.827636 \r\nL 260.968552 231.195649 \r\nL 289.354394 206.3111 \r\nL 312.58097 185.970074 \r\nL 331.747271 169.208174 \r\nL 347.720621 155.264667 \r\nL 361.17699 143.546949 \r\nL 372.639092 133.596884 \r\nL 382.509796 125.06117 \r\nL 391.099626 117.666876 \r\nL 398.648464 111.202148 \r\nL 405.34234 105.501421 \r\nL 411.32635 100.434276 \r\nL 416.714598 95.897105 \r\nL 421.597778 91.806893 \r\nL 426.048877 88.096557 \r\nL 430.127377 84.711446 \r\nL 433.882322 81.606684 \r\nL 437.354568 78.74515 \r\nL 440.578437 76.095919 \r\nL 443.582972 73.633058 \r\nL 446.392901 71.334681 \r\nL 449.029393 69.182212 \r\nL 451.510661 67.159791 \r\nL 453.852442 65.253807 \r\nL 456.068397 63.45252 \r\nL 458.170433 61.745756 \r\nL 460.168967 60.124654 \r\nL 462.073148 58.581469 \r\nL 463.891042 57.109398 \r\nL 465.629785 55.702444 \r\nL 467.29571 54.355299 \r\nL 468.894459 53.063249 \r\nL 470.431073 51.822094 \r\nL 471.910071 50.628076 \r\nL 473.335513 49.477824 \r\nL 474.711062 48.368305 \r\nL 476.040028 47.296781 \r\nL 477.325412 46.260774 \r\nL 478.569943 45.258034 \r\nL 479.776106 44.286516 \r\nL 480.946171 43.344351 \r\nL 482.082215 42.429833 \r\nL 483.186147 41.541397 \r\nL 484.259719 40.677605 \r\nL 485.304546 39.837134 \r\nL 486.32212 39.018764 \r\nL 487.313819 38.221366 \r\nL 488.280923 37.443895 \r\nL 489.224617 36.685384 \r\nL 490.146006 35.94493 \r\nL 491.046115 35.221697 \r\nL 491.925905 34.514902 \r\nL 492.786271 33.823817 \r\nL 493.62805 33.147758 \r\nL 494.452027 32.486087 \r\nL 495.258939 31.838205 \r\nL 496.049478 31.203549 \r\nL 496.824294 30.58159 \r\nL 497.584001 29.97183 \r\nL 498.329175 29.373801 \r\nL 499.060362 28.78706 \r\nL 499.778077 28.211188 \r\nL 500.482808 27.64579 \r\nL 501.175015 27.090492 \r\nL 501.855136 26.54494 \r\nL 502.523586 26.008798 \r\nL 503.180758 25.481745 \r\nL 503.827027 24.963481 \r\nL 504.462747 24.453715 \r\nL 505.088259 23.952174 \r\nL 505.703885 23.458597 \r\nL 506.309931 22.972735 \r\nL 506.906693 22.49435 \r\nL 507.494449 22.023216 \r\nL 508.073468 21.559116 \r\nL 508.644006 21.101843 \r\nL 509.206307 20.6512 \r\nL 509.760606 20.206996 \r\nL 510.307128 19.76905 \r\nL 510.846087 19.337189 \r\nL 511.377691 18.911246 \r\nL 511.902137 18.49106 \r\nL 512.419615 18.076479 \r\nL 512.930308 17.667354 \r\nL 513.434392 17.263544 \r\nL 513.932036 16.864912 \r\nL 514.423402 16.471328 \r\nL 514.908646 16.082665 \r\nL 515.38792 15.698802 \r\nL 515.861368 15.319621 \r\nL 516.32913 14.94501 \r\nL 516.791342 14.574859 \r\nL 517.248133 14.209064 \r\nz\r\n\" style=\"fill:#1f77b4;fill-opacity:0.3;\"/>\r\n   </g>\r\n   <g id=\"matplotlib.axis_1\">\r\n    <g id=\"xtick_1\">\r\n     <g id=\"line2d_1\">\r\n      <path clip-path=\"url(#pa9050272e5)\" d=\"M 66.007812 391.0755 \r\nL 66.007812 35.7555 \r\n\" style=\"fill:none;stroke:#000000;stroke-linecap:square;stroke-opacity:0.3;stroke-width:0.8;\"/>\r\n     </g>\r\n     <g id=\"line2d_2\">\r\n      <defs>\r\n       <path d=\"M 0 0 \r\nL 0 3.5 \r\n\" id=\"mba58f57541\" style=\"stroke:#000000;stroke-width:0.8;\"/>\r\n      </defs>\r\n      <g>\r\n       <use style=\"stroke:#000000;stroke-width:0.8;\" x=\"66.007812\" xlink:href=\"#mba58f57541\" y=\"391.0755\"/>\r\n      </g>\r\n     </g>\r\n     <g id=\"text_1\">\r\n      <!-- $\\mathdefault{10^{-1}}$ -->\r\n      <g transform=\"translate(54.257812 405.673937)scale(0.1 -0.1)\">\r\n       <defs>\r\n        <path d=\"M 12.40625 8.296875 \r\nL 28.515625 8.296875 \r\nL 28.515625 63.921875 \r\nL 10.984375 60.40625 \r\nL 10.984375 69.390625 \r\nL 28.421875 72.90625 \r\nL 38.28125 72.90625 \r\nL 38.28125 8.296875 \r\nL 54.390625 8.296875 \r\nL 54.390625 0 \r\nL 12.40625 0 \r\nz\r\n\" id=\"DejaVuSans-49\"/>\r\n        <path d=\"M 31.78125 66.40625 \r\nQ 24.171875 66.40625 20.328125 58.90625 \r\nQ 16.5 51.421875 16.5 36.375 \r\nQ 16.5 21.390625 20.328125 13.890625 \r\nQ 24.171875 6.390625 31.78125 6.390625 \r\nQ 39.453125 6.390625 43.28125 13.890625 \r\nQ 47.125 21.390625 47.125 36.375 \r\nQ 47.125 51.421875 43.28125 58.90625 \r\nQ 39.453125 66.40625 31.78125 66.40625 \r\nz\r\nM 31.78125 74.21875 \r\nQ 44.046875 74.21875 50.515625 64.515625 \r\nQ 56.984375 54.828125 56.984375 36.375 \r\nQ 56.984375 17.96875 50.515625 8.265625 \r\nQ 44.046875 -1.421875 31.78125 -1.421875 \r\nQ 19.53125 -1.421875 13.0625 8.265625 \r\nQ 6.59375 17.96875 6.59375 36.375 \r\nQ 6.59375 54.828125 13.0625 64.515625 \r\nQ 19.53125 74.21875 31.78125 74.21875 \r\nz\r\n\" id=\"DejaVuSans-48\"/>\r\n        <path d=\"M 10.59375 35.5 \r\nL 73.1875 35.5 \r\nL 73.1875 27.203125 \r\nL 10.59375 27.203125 \r\nz\r\n\" id=\"DejaVuSans-8722\"/>\r\n       </defs>\r\n       <use transform=\"translate(0 0.684375)\" xlink:href=\"#DejaVuSans-49\"/>\r\n       <use transform=\"translate(63.623047 0.684375)\" xlink:href=\"#DejaVuSans-48\"/>\r\n       <use transform=\"translate(128.203125 38.965625)scale(0.7)\" xlink:href=\"#DejaVuSans-8722\"/>\r\n       <use transform=\"translate(186.855469 38.965625)scale(0.7)\" xlink:href=\"#DejaVuSans-49\"/>\r\n      </g>\r\n     </g>\r\n    </g>\r\n    <g id=\"xtick_2\">\r\n     <g id=\"line2d_3\">\r\n      <path clip-path=\"url(#pa9050272e5)\" d=\"M 191.557813 391.0755 \r\nL 191.557813 35.7555 \r\n\" style=\"fill:none;stroke:#000000;stroke-linecap:square;stroke-opacity:0.3;stroke-width:0.8;\"/>\r\n     </g>\r\n     <g id=\"line2d_4\">\r\n      <g>\r\n       <use style=\"stroke:#000000;stroke-width:0.8;\" x=\"191.557813\" xlink:href=\"#mba58f57541\" y=\"391.0755\"/>\r\n      </g>\r\n     </g>\r\n     <g id=\"text_2\">\r\n      <!-- $\\mathdefault{10^{0}}$ -->\r\n      <g transform=\"translate(182.757812 405.673937)scale(0.1 -0.1)\">\r\n       <use transform=\"translate(0 0.765625)\" xlink:href=\"#DejaVuSans-49\"/>\r\n       <use transform=\"translate(63.623047 0.765625)\" xlink:href=\"#DejaVuSans-48\"/>\r\n       <use transform=\"translate(128.203125 39.046875)scale(0.7)\" xlink:href=\"#DejaVuSans-48\"/>\r\n      </g>\r\n     </g>\r\n    </g>\r\n    <g id=\"xtick_3\">\r\n     <g id=\"line2d_5\">\r\n      <path clip-path=\"url(#pa9050272e5)\" d=\"M 317.107813 391.0755 \r\nL 317.107813 35.7555 \r\n\" style=\"fill:none;stroke:#000000;stroke-linecap:square;stroke-opacity:0.3;stroke-width:0.8;\"/>\r\n     </g>\r\n     <g id=\"line2d_6\">\r\n      <g>\r\n       <use style=\"stroke:#000000;stroke-width:0.8;\" x=\"317.107813\" xlink:href=\"#mba58f57541\" y=\"391.0755\"/>\r\n      </g>\r\n     </g>\r\n     <g id=\"text_3\">\r\n      <!-- $\\mathdefault{10^{1}}$ -->\r\n      <g transform=\"translate(308.307813 405.673937)scale(0.1 -0.1)\">\r\n       <use transform=\"translate(0 0.684375)\" xlink:href=\"#DejaVuSans-49\"/>\r\n       <use transform=\"translate(63.623047 0.684375)\" xlink:href=\"#DejaVuSans-48\"/>\r\n       <use transform=\"translate(128.203125 38.965625)scale(0.7)\" xlink:href=\"#DejaVuSans-49\"/>\r\n      </g>\r\n     </g>\r\n    </g>\r\n    <g id=\"xtick_4\">\r\n     <g id=\"line2d_7\">\r\n      <path clip-path=\"url(#pa9050272e5)\" d=\"M 442.657813 391.0755 \r\nL 442.657813 35.7555 \r\n\" style=\"fill:none;stroke:#000000;stroke-linecap:square;stroke-opacity:0.3;stroke-width:0.8;\"/>\r\n     </g>\r\n     <g id=\"line2d_8\">\r\n      <g>\r\n       <use style=\"stroke:#000000;stroke-width:0.8;\" x=\"442.657813\" xlink:href=\"#mba58f57541\" y=\"391.0755\"/>\r\n      </g>\r\n     </g>\r\n     <g id=\"text_4\">\r\n      <!-- $\\mathdefault{10^{2}}$ -->\r\n      <g transform=\"translate(433.857813 405.673937)scale(0.1 -0.1)\">\r\n       <defs>\r\n        <path d=\"M 19.1875 8.296875 \r\nL 53.609375 8.296875 \r\nL 53.609375 0 \r\nL 7.328125 0 \r\nL 7.328125 8.296875 \r\nQ 12.9375 14.109375 22.625 23.890625 \r\nQ 32.328125 33.6875 34.8125 36.53125 \r\nQ 39.546875 41.84375 41.421875 45.53125 \r\nQ 43.3125 49.21875 43.3125 52.78125 \r\nQ 43.3125 58.59375 39.234375 62.25 \r\nQ 35.15625 65.921875 28.609375 65.921875 \r\nQ 23.96875 65.921875 18.8125 64.3125 \r\nQ 13.671875 62.703125 7.8125 59.421875 \r\nL 7.8125 69.390625 \r\nQ 13.765625 71.78125 18.9375 73 \r\nQ 24.125 74.21875 28.421875 74.21875 \r\nQ 39.75 74.21875 46.484375 68.546875 \r\nQ 53.21875 62.890625 53.21875 53.421875 \r\nQ 53.21875 48.921875 51.53125 44.890625 \r\nQ 49.859375 40.875 45.40625 35.40625 \r\nQ 44.1875 33.984375 37.640625 27.21875 \r\nQ 31.109375 20.453125 19.1875 8.296875 \r\nz\r\n\" id=\"DejaVuSans-50\"/>\r\n       </defs>\r\n       <use transform=\"translate(0 0.765625)\" xlink:href=\"#DejaVuSans-49\"/>\r\n       <use transform=\"translate(63.623047 0.765625)\" xlink:href=\"#DejaVuSans-48\"/>\r\n       <use transform=\"translate(128.203125 39.046875)scale(0.7)\" xlink:href=\"#DejaVuSans-50\"/>\r\n      </g>\r\n     </g>\r\n    </g>\r\n    <g id=\"xtick_5\">\r\n     <g id=\"line2d_9\">\r\n      <path clip-path=\"url(#pa9050272e5)\" d=\"M 568.207813 391.0755 \r\nL 568.207813 35.7555 \r\n\" style=\"fill:none;stroke:#000000;stroke-linecap:square;stroke-opacity:0.3;stroke-width:0.8;\"/>\r\n     </g>\r\n     <g id=\"line2d_10\">\r\n      <g>\r\n       <use style=\"stroke:#000000;stroke-width:0.8;\" x=\"568.207813\" xlink:href=\"#mba58f57541\" y=\"391.0755\"/>\r\n      </g>\r\n     </g>\r\n     <g id=\"text_5\">\r\n      <!-- $\\mathdefault{10^{3}}$ -->\r\n      <g transform=\"translate(559.407813 405.673937)scale(0.1 -0.1)\">\r\n       <defs>\r\n        <path d=\"M 40.578125 39.3125 \r\nQ 47.65625 37.796875 51.625 33 \r\nQ 55.609375 28.21875 55.609375 21.1875 \r\nQ 55.609375 10.40625 48.1875 4.484375 \r\nQ 40.765625 -1.421875 27.09375 -1.421875 \r\nQ 22.515625 -1.421875 17.65625 -0.515625 \r\nQ 12.796875 0.390625 7.625 2.203125 \r\nL 7.625 11.71875 \r\nQ 11.71875 9.328125 16.59375 8.109375 \r\nQ 21.484375 6.890625 26.8125 6.890625 \r\nQ 36.078125 6.890625 40.9375 10.546875 \r\nQ 45.796875 14.203125 45.796875 21.1875 \r\nQ 45.796875 27.640625 41.28125 31.265625 \r\nQ 36.765625 34.90625 28.71875 34.90625 \r\nL 20.21875 34.90625 \r\nL 20.21875 43.015625 \r\nL 29.109375 43.015625 \r\nQ 36.375 43.015625 40.234375 45.921875 \r\nQ 44.09375 48.828125 44.09375 54.296875 \r\nQ 44.09375 59.90625 40.109375 62.90625 \r\nQ 36.140625 65.921875 28.71875 65.921875 \r\nQ 24.65625 65.921875 20.015625 65.03125 \r\nQ 15.375 64.15625 9.8125 62.3125 \r\nL 9.8125 71.09375 \r\nQ 15.4375 72.65625 20.34375 73.4375 \r\nQ 25.25 74.21875 29.59375 74.21875 \r\nQ 40.828125 74.21875 47.359375 69.109375 \r\nQ 53.90625 64.015625 53.90625 55.328125 \r\nQ 53.90625 49.265625 50.4375 45.09375 \r\nQ 46.96875 40.921875 40.578125 39.3125 \r\nz\r\n\" id=\"DejaVuSans-51\"/>\r\n       </defs>\r\n       <use transform=\"translate(0 0.765625)\" xlink:href=\"#DejaVuSans-49\"/>\r\n       <use transform=\"translate(63.623047 0.765625)\" xlink:href=\"#DejaVuSans-48\"/>\r\n       <use transform=\"translate(128.203125 39.046875)scale(0.7)\" xlink:href=\"#DejaVuSans-51\"/>\r\n      </g>\r\n     </g>\r\n    </g>\r\n    <g id=\"xtick_6\">\r\n     <g id=\"line2d_11\">\r\n      <path clip-path=\"url(#pa9050272e5)\" d=\"M 103.802128 391.0755 \r\nL 103.802128 35.7555 \r\n\" style=\"fill:none;stroke:#000000;stroke-linecap:square;stroke-opacity:0.08;stroke-width:0.8;\"/>\r\n     </g>\r\n     <g id=\"line2d_12\">\r\n      <defs>\r\n       <path d=\"M 0 0 \r\nL 0 2 \r\n\" id=\"mb6a05190c2\" style=\"stroke:#000000;stroke-width:0.6;\"/>\r\n      </defs>\r\n      <g>\r\n       <use style=\"stroke:#000000;stroke-width:0.6;\" x=\"103.802128\" xlink:href=\"#mb6a05190c2\" y=\"391.0755\"/>\r\n      </g>\r\n     </g>\r\n    </g>\r\n    <g id=\"xtick_7\">\r\n     <g id=\"line2d_13\">\r\n      <path clip-path=\"url(#pa9050272e5)\" d=\"M 125.910386 391.0755 \r\nL 125.910386 35.7555 \r\n\" style=\"fill:none;stroke:#000000;stroke-linecap:square;stroke-opacity:0.08;stroke-width:0.8;\"/>\r\n     </g>\r\n     <g id=\"line2d_14\">\r\n      <g>\r\n       <use style=\"stroke:#000000;stroke-width:0.6;\" x=\"125.910386\" xlink:href=\"#mb6a05190c2\" y=\"391.0755\"/>\r\n      </g>\r\n     </g>\r\n    </g>\r\n    <g id=\"xtick_8\">\r\n     <g id=\"line2d_15\">\r\n      <path clip-path=\"url(#pa9050272e5)\" d=\"M 141.596444 391.0755 \r\nL 141.596444 35.7555 \r\n\" style=\"fill:none;stroke:#000000;stroke-linecap:square;stroke-opacity:0.08;stroke-width:0.8;\"/>\r\n     </g>\r\n     <g id=\"line2d_16\">\r\n      <g>\r\n       <use style=\"stroke:#000000;stroke-width:0.6;\" x=\"141.596444\" xlink:href=\"#mb6a05190c2\" y=\"391.0755\"/>\r\n      </g>\r\n     </g>\r\n    </g>\r\n    <g id=\"xtick_9\">\r\n     <g id=\"line2d_17\">\r\n      <path clip-path=\"url(#pa9050272e5)\" d=\"M 153.763497 391.0755 \r\nL 153.763497 35.7555 \r\n\" style=\"fill:none;stroke:#000000;stroke-linecap:square;stroke-opacity:0.08;stroke-width:0.8;\"/>\r\n     </g>\r\n     <g id=\"line2d_18\">\r\n      <g>\r\n       <use style=\"stroke:#000000;stroke-width:0.6;\" x=\"153.763497\" xlink:href=\"#mb6a05190c2\" y=\"391.0755\"/>\r\n      </g>\r\n     </g>\r\n    </g>\r\n    <g id=\"xtick_10\">\r\n     <g id=\"line2d_19\">\r\n      <path clip-path=\"url(#pa9050272e5)\" d=\"M 163.704702 391.0755 \r\nL 163.704702 35.7555 \r\n\" style=\"fill:none;stroke:#000000;stroke-linecap:square;stroke-opacity:0.08;stroke-width:0.8;\"/>\r\n     </g>\r\n     <g id=\"line2d_20\">\r\n      <g>\r\n       <use style=\"stroke:#000000;stroke-width:0.6;\" x=\"163.704702\" xlink:href=\"#mb6a05190c2\" y=\"391.0755\"/>\r\n      </g>\r\n     </g>\r\n    </g>\r\n    <g id=\"xtick_11\">\r\n     <g id=\"line2d_21\">\r\n      <path clip-path=\"url(#pa9050272e5)\" d=\"M 172.109871 391.0755 \r\nL 172.109871 35.7555 \r\n\" style=\"fill:none;stroke:#000000;stroke-linecap:square;stroke-opacity:0.08;stroke-width:0.8;\"/>\r\n     </g>\r\n     <g id=\"line2d_22\">\r\n      <g>\r\n       <use style=\"stroke:#000000;stroke-width:0.6;\" x=\"172.109871\" xlink:href=\"#mb6a05190c2\" y=\"391.0755\"/>\r\n      </g>\r\n     </g>\r\n    </g>\r\n    <g id=\"xtick_12\">\r\n     <g id=\"line2d_23\">\r\n      <path clip-path=\"url(#pa9050272e5)\" d=\"M 179.39076 391.0755 \r\nL 179.39076 35.7555 \r\n\" style=\"fill:none;stroke:#000000;stroke-linecap:square;stroke-opacity:0.08;stroke-width:0.8;\"/>\r\n     </g>\r\n     <g id=\"line2d_24\">\r\n      <g>\r\n       <use style=\"stroke:#000000;stroke-width:0.6;\" x=\"179.39076\" xlink:href=\"#mb6a05190c2\" y=\"391.0755\"/>\r\n      </g>\r\n     </g>\r\n    </g>\r\n    <g id=\"xtick_13\">\r\n     <g id=\"line2d_25\">\r\n      <path clip-path=\"url(#pa9050272e5)\" d=\"M 185.81296 391.0755 \r\nL 185.81296 35.7555 \r\n\" style=\"fill:none;stroke:#000000;stroke-linecap:square;stroke-opacity:0.08;stroke-width:0.8;\"/>\r\n     </g>\r\n     <g id=\"line2d_26\">\r\n      <g>\r\n       <use style=\"stroke:#000000;stroke-width:0.6;\" x=\"185.81296\" xlink:href=\"#mb6a05190c2\" y=\"391.0755\"/>\r\n      </g>\r\n     </g>\r\n    </g>\r\n    <g id=\"xtick_14\">\r\n     <g id=\"line2d_27\">\r\n      <path clip-path=\"url(#pa9050272e5)\" d=\"M 229.352128 391.0755 \r\nL 229.352128 35.7555 \r\n\" style=\"fill:none;stroke:#000000;stroke-linecap:square;stroke-opacity:0.08;stroke-width:0.8;\"/>\r\n     </g>\r\n     <g id=\"line2d_28\">\r\n      <g>\r\n       <use style=\"stroke:#000000;stroke-width:0.6;\" x=\"229.352128\" xlink:href=\"#mb6a05190c2\" y=\"391.0755\"/>\r\n      </g>\r\n     </g>\r\n    </g>\r\n    <g id=\"xtick_15\">\r\n     <g id=\"line2d_29\">\r\n      <path clip-path=\"url(#pa9050272e5)\" d=\"M 251.460386 391.0755 \r\nL 251.460386 35.7555 \r\n\" style=\"fill:none;stroke:#000000;stroke-linecap:square;stroke-opacity:0.08;stroke-width:0.8;\"/>\r\n     </g>\r\n     <g id=\"line2d_30\">\r\n      <g>\r\n       <use style=\"stroke:#000000;stroke-width:0.6;\" x=\"251.460386\" xlink:href=\"#mb6a05190c2\" y=\"391.0755\"/>\r\n      </g>\r\n     </g>\r\n    </g>\r\n    <g id=\"xtick_16\">\r\n     <g id=\"line2d_31\">\r\n      <path clip-path=\"url(#pa9050272e5)\" d=\"M 267.146444 391.0755 \r\nL 267.146444 35.7555 \r\n\" style=\"fill:none;stroke:#000000;stroke-linecap:square;stroke-opacity:0.08;stroke-width:0.8;\"/>\r\n     </g>\r\n     <g id=\"line2d_32\">\r\n      <g>\r\n       <use style=\"stroke:#000000;stroke-width:0.6;\" x=\"267.146444\" xlink:href=\"#mb6a05190c2\" y=\"391.0755\"/>\r\n      </g>\r\n     </g>\r\n    </g>\r\n    <g id=\"xtick_17\">\r\n     <g id=\"line2d_33\">\r\n      <path clip-path=\"url(#pa9050272e5)\" d=\"M 279.313497 391.0755 \r\nL 279.313497 35.7555 \r\n\" style=\"fill:none;stroke:#000000;stroke-linecap:square;stroke-opacity:0.08;stroke-width:0.8;\"/>\r\n     </g>\r\n     <g id=\"line2d_34\">\r\n      <g>\r\n       <use style=\"stroke:#000000;stroke-width:0.6;\" x=\"279.313497\" xlink:href=\"#mb6a05190c2\" y=\"391.0755\"/>\r\n      </g>\r\n     </g>\r\n    </g>\r\n    <g id=\"xtick_18\">\r\n     <g id=\"line2d_35\">\r\n      <path clip-path=\"url(#pa9050272e5)\" d=\"M 289.254702 391.0755 \r\nL 289.254702 35.7555 \r\n\" style=\"fill:none;stroke:#000000;stroke-linecap:square;stroke-opacity:0.08;stroke-width:0.8;\"/>\r\n     </g>\r\n     <g id=\"line2d_36\">\r\n      <g>\r\n       <use style=\"stroke:#000000;stroke-width:0.6;\" x=\"289.254702\" xlink:href=\"#mb6a05190c2\" y=\"391.0755\"/>\r\n      </g>\r\n     </g>\r\n    </g>\r\n    <g id=\"xtick_19\">\r\n     <g id=\"line2d_37\">\r\n      <path clip-path=\"url(#pa9050272e5)\" d=\"M 297.659871 391.0755 \r\nL 297.659871 35.7555 \r\n\" style=\"fill:none;stroke:#000000;stroke-linecap:square;stroke-opacity:0.08;stroke-width:0.8;\"/>\r\n     </g>\r\n     <g id=\"line2d_38\">\r\n      <g>\r\n       <use style=\"stroke:#000000;stroke-width:0.6;\" x=\"297.659871\" xlink:href=\"#mb6a05190c2\" y=\"391.0755\"/>\r\n      </g>\r\n     </g>\r\n    </g>\r\n    <g id=\"xtick_20\">\r\n     <g id=\"line2d_39\">\r\n      <path clip-path=\"url(#pa9050272e5)\" d=\"M 304.94076 391.0755 \r\nL 304.94076 35.7555 \r\n\" style=\"fill:none;stroke:#000000;stroke-linecap:square;stroke-opacity:0.08;stroke-width:0.8;\"/>\r\n     </g>\r\n     <g id=\"line2d_40\">\r\n      <g>\r\n       <use style=\"stroke:#000000;stroke-width:0.6;\" x=\"304.94076\" xlink:href=\"#mb6a05190c2\" y=\"391.0755\"/>\r\n      </g>\r\n     </g>\r\n    </g>\r\n    <g id=\"xtick_21\">\r\n     <g id=\"line2d_41\">\r\n      <path clip-path=\"url(#pa9050272e5)\" d=\"M 311.36296 391.0755 \r\nL 311.36296 35.7555 \r\n\" style=\"fill:none;stroke:#000000;stroke-linecap:square;stroke-opacity:0.08;stroke-width:0.8;\"/>\r\n     </g>\r\n     <g id=\"line2d_42\">\r\n      <g>\r\n       <use style=\"stroke:#000000;stroke-width:0.6;\" x=\"311.36296\" xlink:href=\"#mb6a05190c2\" y=\"391.0755\"/>\r\n      </g>\r\n     </g>\r\n    </g>\r\n    <g id=\"xtick_22\">\r\n     <g id=\"line2d_43\">\r\n      <path clip-path=\"url(#pa9050272e5)\" d=\"M 354.902128 391.0755 \r\nL 354.902128 35.7555 \r\n\" style=\"fill:none;stroke:#000000;stroke-linecap:square;stroke-opacity:0.08;stroke-width:0.8;\"/>\r\n     </g>\r\n     <g id=\"line2d_44\">\r\n      <g>\r\n       <use style=\"stroke:#000000;stroke-width:0.6;\" x=\"354.902128\" xlink:href=\"#mb6a05190c2\" y=\"391.0755\"/>\r\n      </g>\r\n     </g>\r\n    </g>\r\n    <g id=\"xtick_23\">\r\n     <g id=\"line2d_45\">\r\n      <path clip-path=\"url(#pa9050272e5)\" d=\"M 377.010386 391.0755 \r\nL 377.010386 35.7555 \r\n\" style=\"fill:none;stroke:#000000;stroke-linecap:square;stroke-opacity:0.08;stroke-width:0.8;\"/>\r\n     </g>\r\n     <g id=\"line2d_46\">\r\n      <g>\r\n       <use style=\"stroke:#000000;stroke-width:0.6;\" x=\"377.010386\" xlink:href=\"#mb6a05190c2\" y=\"391.0755\"/>\r\n      </g>\r\n     </g>\r\n    </g>\r\n    <g id=\"xtick_24\">\r\n     <g id=\"line2d_47\">\r\n      <path clip-path=\"url(#pa9050272e5)\" d=\"M 392.696444 391.0755 \r\nL 392.696444 35.7555 \r\n\" style=\"fill:none;stroke:#000000;stroke-linecap:square;stroke-opacity:0.08;stroke-width:0.8;\"/>\r\n     </g>\r\n     <g id=\"line2d_48\">\r\n      <g>\r\n       <use style=\"stroke:#000000;stroke-width:0.6;\" x=\"392.696444\" xlink:href=\"#mb6a05190c2\" y=\"391.0755\"/>\r\n      </g>\r\n     </g>\r\n    </g>\r\n    <g id=\"xtick_25\">\r\n     <g id=\"line2d_49\">\r\n      <path clip-path=\"url(#pa9050272e5)\" d=\"M 404.863497 391.0755 \r\nL 404.863497 35.7555 \r\n\" style=\"fill:none;stroke:#000000;stroke-linecap:square;stroke-opacity:0.08;stroke-width:0.8;\"/>\r\n     </g>\r\n     <g id=\"line2d_50\">\r\n      <g>\r\n       <use style=\"stroke:#000000;stroke-width:0.6;\" x=\"404.863497\" xlink:href=\"#mb6a05190c2\" y=\"391.0755\"/>\r\n      </g>\r\n     </g>\r\n    </g>\r\n    <g id=\"xtick_26\">\r\n     <g id=\"line2d_51\">\r\n      <path clip-path=\"url(#pa9050272e5)\" d=\"M 414.804702 391.0755 \r\nL 414.804702 35.7555 \r\n\" style=\"fill:none;stroke:#000000;stroke-linecap:square;stroke-opacity:0.08;stroke-width:0.8;\"/>\r\n     </g>\r\n     <g id=\"line2d_52\">\r\n      <g>\r\n       <use style=\"stroke:#000000;stroke-width:0.6;\" x=\"414.804702\" xlink:href=\"#mb6a05190c2\" y=\"391.0755\"/>\r\n      </g>\r\n     </g>\r\n    </g>\r\n    <g id=\"xtick_27\">\r\n     <g id=\"line2d_53\">\r\n      <path clip-path=\"url(#pa9050272e5)\" d=\"M 423.209871 391.0755 \r\nL 423.209871 35.7555 \r\n\" style=\"fill:none;stroke:#000000;stroke-linecap:square;stroke-opacity:0.08;stroke-width:0.8;\"/>\r\n     </g>\r\n     <g id=\"line2d_54\">\r\n      <g>\r\n       <use style=\"stroke:#000000;stroke-width:0.6;\" x=\"423.209871\" xlink:href=\"#mb6a05190c2\" y=\"391.0755\"/>\r\n      </g>\r\n     </g>\r\n    </g>\r\n    <g id=\"xtick_28\">\r\n     <g id=\"line2d_55\">\r\n      <path clip-path=\"url(#pa9050272e5)\" d=\"M 430.49076 391.0755 \r\nL 430.49076 35.7555 \r\n\" style=\"fill:none;stroke:#000000;stroke-linecap:square;stroke-opacity:0.08;stroke-width:0.8;\"/>\r\n     </g>\r\n     <g id=\"line2d_56\">\r\n      <g>\r\n       <use style=\"stroke:#000000;stroke-width:0.6;\" x=\"430.49076\" xlink:href=\"#mb6a05190c2\" y=\"391.0755\"/>\r\n      </g>\r\n     </g>\r\n    </g>\r\n    <g id=\"xtick_29\">\r\n     <g id=\"line2d_57\">\r\n      <path clip-path=\"url(#pa9050272e5)\" d=\"M 436.91296 391.0755 \r\nL 436.91296 35.7555 \r\n\" style=\"fill:none;stroke:#000000;stroke-linecap:square;stroke-opacity:0.08;stroke-width:0.8;\"/>\r\n     </g>\r\n     <g id=\"line2d_58\">\r\n      <g>\r\n       <use style=\"stroke:#000000;stroke-width:0.6;\" x=\"436.91296\" xlink:href=\"#mb6a05190c2\" y=\"391.0755\"/>\r\n      </g>\r\n     </g>\r\n    </g>\r\n    <g id=\"xtick_30\">\r\n     <g id=\"line2d_59\">\r\n      <path clip-path=\"url(#pa9050272e5)\" d=\"M 480.452128 391.0755 \r\nL 480.452128 35.7555 \r\n\" style=\"fill:none;stroke:#000000;stroke-linecap:square;stroke-opacity:0.08;stroke-width:0.8;\"/>\r\n     </g>\r\n     <g id=\"line2d_60\">\r\n      <g>\r\n       <use style=\"stroke:#000000;stroke-width:0.6;\" x=\"480.452128\" xlink:href=\"#mb6a05190c2\" y=\"391.0755\"/>\r\n      </g>\r\n     </g>\r\n    </g>\r\n    <g id=\"xtick_31\">\r\n     <g id=\"line2d_61\">\r\n      <path clip-path=\"url(#pa9050272e5)\" d=\"M 502.560386 391.0755 \r\nL 502.560386 35.7555 \r\n\" style=\"fill:none;stroke:#000000;stroke-linecap:square;stroke-opacity:0.08;stroke-width:0.8;\"/>\r\n     </g>\r\n     <g id=\"line2d_62\">\r\n      <g>\r\n       <use style=\"stroke:#000000;stroke-width:0.6;\" x=\"502.560386\" xlink:href=\"#mb6a05190c2\" y=\"391.0755\"/>\r\n      </g>\r\n     </g>\r\n    </g>\r\n    <g id=\"xtick_32\">\r\n     <g id=\"line2d_63\">\r\n      <path clip-path=\"url(#pa9050272e5)\" d=\"M 518.246444 391.0755 \r\nL 518.246444 35.7555 \r\n\" style=\"fill:none;stroke:#000000;stroke-linecap:square;stroke-opacity:0.08;stroke-width:0.8;\"/>\r\n     </g>\r\n     <g id=\"line2d_64\">\r\n      <g>\r\n       <use style=\"stroke:#000000;stroke-width:0.6;\" x=\"518.246444\" xlink:href=\"#mb6a05190c2\" y=\"391.0755\"/>\r\n      </g>\r\n     </g>\r\n    </g>\r\n    <g id=\"xtick_33\">\r\n     <g id=\"line2d_65\">\r\n      <path clip-path=\"url(#pa9050272e5)\" d=\"M 530.413497 391.0755 \r\nL 530.413497 35.7555 \r\n\" style=\"fill:none;stroke:#000000;stroke-linecap:square;stroke-opacity:0.08;stroke-width:0.8;\"/>\r\n     </g>\r\n     <g id=\"line2d_66\">\r\n      <g>\r\n       <use style=\"stroke:#000000;stroke-width:0.6;\" x=\"530.413497\" xlink:href=\"#mb6a05190c2\" y=\"391.0755\"/>\r\n      </g>\r\n     </g>\r\n    </g>\r\n    <g id=\"xtick_34\">\r\n     <g id=\"line2d_67\">\r\n      <path clip-path=\"url(#pa9050272e5)\" d=\"M 540.354702 391.0755 \r\nL 540.354702 35.7555 \r\n\" style=\"fill:none;stroke:#000000;stroke-linecap:square;stroke-opacity:0.08;stroke-width:0.8;\"/>\r\n     </g>\r\n     <g id=\"line2d_68\">\r\n      <g>\r\n       <use style=\"stroke:#000000;stroke-width:0.6;\" x=\"540.354702\" xlink:href=\"#mb6a05190c2\" y=\"391.0755\"/>\r\n      </g>\r\n     </g>\r\n    </g>\r\n    <g id=\"xtick_35\">\r\n     <g id=\"line2d_69\">\r\n      <path clip-path=\"url(#pa9050272e5)\" d=\"M 548.759871 391.0755 \r\nL 548.759871 35.7555 \r\n\" style=\"fill:none;stroke:#000000;stroke-linecap:square;stroke-opacity:0.08;stroke-width:0.8;\"/>\r\n     </g>\r\n     <g id=\"line2d_70\">\r\n      <g>\r\n       <use style=\"stroke:#000000;stroke-width:0.6;\" x=\"548.759871\" xlink:href=\"#mb6a05190c2\" y=\"391.0755\"/>\r\n      </g>\r\n     </g>\r\n    </g>\r\n    <g id=\"xtick_36\">\r\n     <g id=\"line2d_71\">\r\n      <path clip-path=\"url(#pa9050272e5)\" d=\"M 556.04076 391.0755 \r\nL 556.04076 35.7555 \r\n\" style=\"fill:none;stroke:#000000;stroke-linecap:square;stroke-opacity:0.08;stroke-width:0.8;\"/>\r\n     </g>\r\n     <g id=\"line2d_72\">\r\n      <g>\r\n       <use style=\"stroke:#000000;stroke-width:0.6;\" x=\"556.04076\" xlink:href=\"#mb6a05190c2\" y=\"391.0755\"/>\r\n      </g>\r\n     </g>\r\n    </g>\r\n    <g id=\"xtick_37\">\r\n     <g id=\"line2d_73\">\r\n      <path clip-path=\"url(#pa9050272e5)\" d=\"M 562.46296 391.0755 \r\nL 562.46296 35.7555 \r\n\" style=\"fill:none;stroke:#000000;stroke-linecap:square;stroke-opacity:0.08;stroke-width:0.8;\"/>\r\n     </g>\r\n     <g id=\"line2d_74\">\r\n      <g>\r\n       <use style=\"stroke:#000000;stroke-width:0.6;\" x=\"562.46296\" xlink:href=\"#mb6a05190c2\" y=\"391.0755\"/>\r\n      </g>\r\n     </g>\r\n    </g>\r\n    <g id=\"text_6\">\r\n     <!-- Time - gamma -->\r\n     <g transform=\"translate(280.849219 419.352062)scale(0.1 -0.1)\">\r\n      <defs>\r\n       <path d=\"M -0.296875 72.90625 \r\nL 61.375 72.90625 \r\nL 61.375 64.59375 \r\nL 35.5 64.59375 \r\nL 35.5 0 \r\nL 25.59375 0 \r\nL 25.59375 64.59375 \r\nL -0.296875 64.59375 \r\nz\r\n\" id=\"DejaVuSans-84\"/>\r\n       <path d=\"M 9.421875 54.6875 \r\nL 18.40625 54.6875 \r\nL 18.40625 0 \r\nL 9.421875 0 \r\nz\r\nM 9.421875 75.984375 \r\nL 18.40625 75.984375 \r\nL 18.40625 64.59375 \r\nL 9.421875 64.59375 \r\nz\r\n\" id=\"DejaVuSans-105\"/>\r\n       <path d=\"M 52 44.1875 \r\nQ 55.375 50.25 60.0625 53.125 \r\nQ 64.75 56 71.09375 56 \r\nQ 79.640625 56 84.28125 50.015625 \r\nQ 88.921875 44.046875 88.921875 33.015625 \r\nL 88.921875 0 \r\nL 79.890625 0 \r\nL 79.890625 32.71875 \r\nQ 79.890625 40.578125 77.09375 44.375 \r\nQ 74.3125 48.1875 68.609375 48.1875 \r\nQ 61.625 48.1875 57.5625 43.546875 \r\nQ 53.515625 38.921875 53.515625 30.90625 \r\nL 53.515625 0 \r\nL 44.484375 0 \r\nL 44.484375 32.71875 \r\nQ 44.484375 40.625 41.703125 44.40625 \r\nQ 38.921875 48.1875 33.109375 48.1875 \r\nQ 26.21875 48.1875 22.15625 43.53125 \r\nQ 18.109375 38.875 18.109375 30.90625 \r\nL 18.109375 0 \r\nL 9.078125 0 \r\nL 9.078125 54.6875 \r\nL 18.109375 54.6875 \r\nL 18.109375 46.1875 \r\nQ 21.1875 51.21875 25.484375 53.609375 \r\nQ 29.78125 56 35.6875 56 \r\nQ 41.65625 56 45.828125 52.96875 \r\nQ 50 49.953125 52 44.1875 \r\nz\r\n\" id=\"DejaVuSans-109\"/>\r\n       <path d=\"M 56.203125 29.59375 \r\nL 56.203125 25.203125 \r\nL 14.890625 25.203125 \r\nQ 15.484375 15.921875 20.484375 11.0625 \r\nQ 25.484375 6.203125 34.421875 6.203125 \r\nQ 39.59375 6.203125 44.453125 7.46875 \r\nQ 49.3125 8.734375 54.109375 11.28125 \r\nL 54.109375 2.78125 \r\nQ 49.265625 0.734375 44.1875 -0.34375 \r\nQ 39.109375 -1.421875 33.890625 -1.421875 \r\nQ 20.796875 -1.421875 13.15625 6.1875 \r\nQ 5.515625 13.8125 5.515625 26.8125 \r\nQ 5.515625 40.234375 12.765625 48.109375 \r\nQ 20.015625 56 32.328125 56 \r\nQ 43.359375 56 49.78125 48.890625 \r\nQ 56.203125 41.796875 56.203125 29.59375 \r\nz\r\nM 47.21875 32.234375 \r\nQ 47.125 39.59375 43.09375 43.984375 \r\nQ 39.0625 48.390625 32.421875 48.390625 \r\nQ 24.90625 48.390625 20.390625 44.140625 \r\nQ 15.875 39.890625 15.1875 32.171875 \r\nz\r\n\" id=\"DejaVuSans-101\"/>\r\n       <path id=\"DejaVuSans-32\"/>\r\n       <path d=\"M 4.890625 31.390625 \r\nL 31.203125 31.390625 \r\nL 31.203125 23.390625 \r\nL 4.890625 23.390625 \r\nz\r\n\" id=\"DejaVuSans-45\"/>\r\n       <path d=\"M 45.40625 27.984375 \r\nQ 45.40625 37.75 41.375 43.109375 \r\nQ 37.359375 48.484375 30.078125 48.484375 \r\nQ 22.859375 48.484375 18.828125 43.109375 \r\nQ 14.796875 37.75 14.796875 27.984375 \r\nQ 14.796875 18.265625 18.828125 12.890625 \r\nQ 22.859375 7.515625 30.078125 7.515625 \r\nQ 37.359375 7.515625 41.375 12.890625 \r\nQ 45.40625 18.265625 45.40625 27.984375 \r\nz\r\nM 54.390625 6.78125 \r\nQ 54.390625 -7.171875 48.1875 -13.984375 \r\nQ 42 -20.796875 29.203125 -20.796875 \r\nQ 24.46875 -20.796875 20.265625 -20.09375 \r\nQ 16.0625 -19.390625 12.109375 -17.921875 \r\nL 12.109375 -9.1875 \r\nQ 16.0625 -11.328125 19.921875 -12.34375 \r\nQ 23.78125 -13.375 27.78125 -13.375 \r\nQ 36.625 -13.375 41.015625 -8.765625 \r\nQ 45.40625 -4.15625 45.40625 5.171875 \r\nL 45.40625 9.625 \r\nQ 42.625 4.78125 38.28125 2.390625 \r\nQ 33.9375 0 27.875 0 \r\nQ 17.828125 0 11.671875 7.65625 \r\nQ 5.515625 15.328125 5.515625 27.984375 \r\nQ 5.515625 40.671875 11.671875 48.328125 \r\nQ 17.828125 56 27.875 56 \r\nQ 33.9375 56 38.28125 53.609375 \r\nQ 42.625 51.21875 45.40625 46.390625 \r\nL 45.40625 54.6875 \r\nL 54.390625 54.6875 \r\nz\r\n\" id=\"DejaVuSans-103\"/>\r\n       <path d=\"M 34.28125 27.484375 \r\nQ 23.390625 27.484375 19.1875 25 \r\nQ 14.984375 22.515625 14.984375 16.5 \r\nQ 14.984375 11.71875 18.140625 8.90625 \r\nQ 21.296875 6.109375 26.703125 6.109375 \r\nQ 34.1875 6.109375 38.703125 11.40625 \r\nQ 43.21875 16.703125 43.21875 25.484375 \r\nL 43.21875 27.484375 \r\nz\r\nM 52.203125 31.203125 \r\nL 52.203125 0 \r\nL 43.21875 0 \r\nL 43.21875 8.296875 \r\nQ 40.140625 3.328125 35.546875 0.953125 \r\nQ 30.953125 -1.421875 24.3125 -1.421875 \r\nQ 15.921875 -1.421875 10.953125 3.296875 \r\nQ 6 8.015625 6 15.921875 \r\nQ 6 25.140625 12.171875 29.828125 \r\nQ 18.359375 34.515625 30.609375 34.515625 \r\nL 43.21875 34.515625 \r\nL 43.21875 35.40625 \r\nQ 43.21875 41.609375 39.140625 45 \r\nQ 35.0625 48.390625 27.6875 48.390625 \r\nQ 23 48.390625 18.546875 47.265625 \r\nQ 14.109375 46.140625 10.015625 43.890625 \r\nL 10.015625 52.203125 \r\nQ 14.9375 54.109375 19.578125 55.046875 \r\nQ 24.21875 56 28.609375 56 \r\nQ 40.484375 56 46.34375 49.84375 \r\nQ 52.203125 43.703125 52.203125 31.203125 \r\nz\r\n\" id=\"DejaVuSans-97\"/>\r\n      </defs>\r\n      <use xlink:href=\"#DejaVuSans-84\"/>\r\n      <use x=\"57.958984\" xlink:href=\"#DejaVuSans-105\"/>\r\n      <use x=\"85.742188\" xlink:href=\"#DejaVuSans-109\"/>\r\n      <use x=\"183.154297\" xlink:href=\"#DejaVuSans-101\"/>\r\n      <use x=\"244.677734\" xlink:href=\"#DejaVuSans-32\"/>\r\n      <use x=\"276.464844\" xlink:href=\"#DejaVuSans-45\"/>\r\n      <use x=\"312.548828\" xlink:href=\"#DejaVuSans-32\"/>\r\n      <use x=\"344.335938\" xlink:href=\"#DejaVuSans-103\"/>\r\n      <use x=\"407.8125\" xlink:href=\"#DejaVuSans-97\"/>\r\n      <use x=\"469.091797\" xlink:href=\"#DejaVuSans-109\"/>\r\n      <use x=\"566.503906\" xlink:href=\"#DejaVuSans-109\"/>\r\n      <use x=\"663.916016\" xlink:href=\"#DejaVuSans-97\"/>\r\n     </g>\r\n    </g>\r\n   </g>\r\n   <g id=\"matplotlib.axis_2\">\r\n    <g id=\"ytick_1\">\r\n     <g id=\"line2d_75\">\r\n      <path clip-path=\"url(#pa9050272e5)\" d=\"M 66.007812 391.0755 \r\nL 568.207813 391.0755 \r\n\" style=\"fill:none;stroke:#000000;stroke-linecap:square;stroke-opacity:0.3;stroke-width:0.8;\"/>\r\n     </g>\r\n     <g id=\"line2d_76\">\r\n      <defs>\r\n       <path d=\"M 0 0 \r\nL -3.5 0 \r\n\" id=\"mce6b6058ea\" style=\"stroke:#000000;stroke-width:0.8;\"/>\r\n      </defs>\r\n      <g>\r\n       <use style=\"stroke:#000000;stroke-width:0.8;\" x=\"66.007812\" xlink:href=\"#mce6b6058ea\" y=\"391.0755\"/>\r\n      </g>\r\n     </g>\r\n     <g id=\"text_7\">\r\n      <!-- 0.01% -->\r\n      <g transform=\"translate(27.240625 394.874719)scale(0.1 -0.1)\">\r\n       <defs>\r\n        <path d=\"M 10.6875 12.40625 \r\nL 21 12.40625 \r\nL 21 0 \r\nL 10.6875 0 \r\nz\r\n\" id=\"DejaVuSans-46\"/>\r\n        <path d=\"M 72.703125 32.078125 \r\nQ 68.453125 32.078125 66.03125 28.46875 \r\nQ 63.625 24.859375 63.625 18.40625 \r\nQ 63.625 12.0625 66.03125 8.421875 \r\nQ 68.453125 4.78125 72.703125 4.78125 \r\nQ 76.859375 4.78125 79.265625 8.421875 \r\nQ 81.6875 12.0625 81.6875 18.40625 \r\nQ 81.6875 24.8125 79.265625 28.4375 \r\nQ 76.859375 32.078125 72.703125 32.078125 \r\nz\r\nM 72.703125 38.28125 \r\nQ 80.421875 38.28125 84.953125 32.90625 \r\nQ 89.5 27.546875 89.5 18.40625 \r\nQ 89.5 9.28125 84.9375 3.921875 \r\nQ 80.375 -1.421875 72.703125 -1.421875 \r\nQ 64.890625 -1.421875 60.34375 3.921875 \r\nQ 55.8125 9.28125 55.8125 18.40625 \r\nQ 55.8125 27.59375 60.375 32.9375 \r\nQ 64.9375 38.28125 72.703125 38.28125 \r\nz\r\nM 22.3125 68.015625 \r\nQ 18.109375 68.015625 15.6875 64.375 \r\nQ 13.28125 60.75 13.28125 54.390625 \r\nQ 13.28125 47.953125 15.671875 44.328125 \r\nQ 18.0625 40.71875 22.3125 40.71875 \r\nQ 26.5625 40.71875 28.96875 44.328125 \r\nQ 31.390625 47.953125 31.390625 54.390625 \r\nQ 31.390625 60.6875 28.953125 64.34375 \r\nQ 26.515625 68.015625 22.3125 68.015625 \r\nz\r\nM 66.40625 74.21875 \r\nL 74.21875 74.21875 \r\nL 28.609375 -1.421875 \r\nL 20.796875 -1.421875 \r\nz\r\nM 22.3125 74.21875 \r\nQ 30.03125 74.21875 34.609375 68.875 \r\nQ 39.203125 63.53125 39.203125 54.390625 \r\nQ 39.203125 45.171875 34.640625 39.84375 \r\nQ 30.078125 34.515625 22.3125 34.515625 \r\nQ 14.546875 34.515625 10.03125 39.859375 \r\nQ 5.515625 45.21875 5.515625 54.390625 \r\nQ 5.515625 63.484375 10.046875 68.84375 \r\nQ 14.59375 74.21875 22.3125 74.21875 \r\nz\r\n\" id=\"DejaVuSans-37\"/>\r\n       </defs>\r\n       <use xlink:href=\"#DejaVuSans-48\"/>\r\n       <use x=\"63.623047\" xlink:href=\"#DejaVuSans-46\"/>\r\n       <use x=\"95.410156\" xlink:href=\"#DejaVuSans-48\"/>\r\n       <use x=\"159.033203\" xlink:href=\"#DejaVuSans-49\"/>\r\n       <use x=\"222.65625\" xlink:href=\"#DejaVuSans-37\"/>\r\n      </g>\r\n     </g>\r\n    </g>\r\n    <g id=\"ytick_2\">\r\n     <g id=\"line2d_77\">\r\n      <path clip-path=\"url(#pa9050272e5)\" d=\"M 66.007812 356.922099 \r\nL 568.207813 356.922099 \r\n\" style=\"fill:none;stroke:#000000;stroke-linecap:square;stroke-opacity:0.3;stroke-width:0.8;\"/>\r\n     </g>\r\n     <g id=\"line2d_78\">\r\n      <g>\r\n       <use style=\"stroke:#000000;stroke-width:0.8;\" x=\"66.007812\" xlink:href=\"#mce6b6058ea\" y=\"356.922099\"/>\r\n      </g>\r\n     </g>\r\n     <g id=\"text_8\">\r\n      <!-- 0.03% -->\r\n      <g transform=\"translate(27.240625 360.721317)scale(0.1 -0.1)\">\r\n       <use xlink:href=\"#DejaVuSans-48\"/>\r\n       <use x=\"63.623047\" xlink:href=\"#DejaVuSans-46\"/>\r\n       <use x=\"95.410156\" xlink:href=\"#DejaVuSans-48\"/>\r\n       <use x=\"159.033203\" xlink:href=\"#DejaVuSans-51\"/>\r\n       <use x=\"222.65625\" xlink:href=\"#DejaVuSans-37\"/>\r\n      </g>\r\n     </g>\r\n    </g>\r\n    <g id=\"ytick_3\">\r\n     <g id=\"line2d_79\">\r\n      <path clip-path=\"url(#pa9050272e5)\" d=\"M 66.007812 319.485796 \r\nL 568.207813 319.485796 \r\n\" style=\"fill:none;stroke:#000000;stroke-linecap:square;stroke-opacity:0.3;stroke-width:0.8;\"/>\r\n     </g>\r\n     <g id=\"line2d_80\">\r\n      <g>\r\n       <use style=\"stroke:#000000;stroke-width:0.8;\" x=\"66.007812\" xlink:href=\"#mce6b6058ea\" y=\"319.485796\"/>\r\n      </g>\r\n     </g>\r\n     <g id=\"text_9\">\r\n      <!-- 0.10% -->\r\n      <g transform=\"translate(27.240625 323.285015)scale(0.1 -0.1)\">\r\n       <use xlink:href=\"#DejaVuSans-48\"/>\r\n       <use x=\"63.623047\" xlink:href=\"#DejaVuSans-46\"/>\r\n       <use x=\"95.410156\" xlink:href=\"#DejaVuSans-49\"/>\r\n       <use x=\"159.033203\" xlink:href=\"#DejaVuSans-48\"/>\r\n       <use x=\"222.65625\" xlink:href=\"#DejaVuSans-37\"/>\r\n      </g>\r\n     </g>\r\n    </g>\r\n    <g id=\"ytick_4\">\r\n     <g id=\"line2d_81\">\r\n      <path clip-path=\"url(#pa9050272e5)\" d=\"M 66.007812 297.923798 \r\nL 568.207813 297.923798 \r\n\" style=\"fill:none;stroke:#000000;stroke-linecap:square;stroke-opacity:0.3;stroke-width:0.8;\"/>\r\n     </g>\r\n     <g id=\"line2d_82\">\r\n      <g>\r\n       <use style=\"stroke:#000000;stroke-width:0.8;\" x=\"66.007812\" xlink:href=\"#mce6b6058ea\" y=\"297.923798\"/>\r\n      </g>\r\n     </g>\r\n     <g id=\"text_10\">\r\n      <!-- 0.20% -->\r\n      <g transform=\"translate(27.240625 301.723017)scale(0.1 -0.1)\">\r\n       <use xlink:href=\"#DejaVuSans-48\"/>\r\n       <use x=\"63.623047\" xlink:href=\"#DejaVuSans-46\"/>\r\n       <use x=\"95.410156\" xlink:href=\"#DejaVuSans-50\"/>\r\n       <use x=\"159.033203\" xlink:href=\"#DejaVuSans-48\"/>\r\n       <use x=\"222.65625\" xlink:href=\"#DejaVuSans-37\"/>\r\n      </g>\r\n     </g>\r\n    </g>\r\n    <g id=\"ytick_5\">\r\n     <g id=\"line2d_83\">\r\n      <path clip-path=\"url(#pa9050272e5)\" d=\"M 66.007812 285.304367 \r\nL 568.207813 285.304367 \r\n\" style=\"fill:none;stroke:#000000;stroke-linecap:square;stroke-opacity:0.3;stroke-width:0.8;\"/>\r\n     </g>\r\n     <g id=\"line2d_84\">\r\n      <g>\r\n       <use style=\"stroke:#000000;stroke-width:0.8;\" x=\"66.007812\" xlink:href=\"#mce6b6058ea\" y=\"285.304367\"/>\r\n      </g>\r\n     </g>\r\n     <g id=\"text_11\">\r\n      <!-- 0.30% -->\r\n      <g transform=\"translate(27.240625 289.103585)scale(0.1 -0.1)\">\r\n       <use xlink:href=\"#DejaVuSans-48\"/>\r\n       <use x=\"63.623047\" xlink:href=\"#DejaVuSans-46\"/>\r\n       <use x=\"95.410156\" xlink:href=\"#DejaVuSans-51\"/>\r\n       <use x=\"159.033203\" xlink:href=\"#DejaVuSans-48\"/>\r\n       <use x=\"222.65625\" xlink:href=\"#DejaVuSans-37\"/>\r\n      </g>\r\n     </g>\r\n    </g>\r\n    <g id=\"ytick_6\">\r\n     <g id=\"line2d_85\">\r\n      <path clip-path=\"url(#pa9050272e5)\" d=\"M 66.007812 269.394196 \r\nL 568.207813 269.394196 \r\n\" style=\"fill:none;stroke:#000000;stroke-linecap:square;stroke-opacity:0.3;stroke-width:0.8;\"/>\r\n     </g>\r\n     <g id=\"line2d_86\">\r\n      <g>\r\n       <use style=\"stroke:#000000;stroke-width:0.8;\" x=\"66.007812\" xlink:href=\"#mce6b6058ea\" y=\"269.394196\"/>\r\n      </g>\r\n     </g>\r\n     <g id=\"text_12\">\r\n      <!-- 0.50% -->\r\n      <g transform=\"translate(27.240625 273.193415)scale(0.1 -0.1)\">\r\n       <defs>\r\n        <path d=\"M 10.796875 72.90625 \r\nL 49.515625 72.90625 \r\nL 49.515625 64.59375 \r\nL 19.828125 64.59375 \r\nL 19.828125 46.734375 \r\nQ 21.96875 47.46875 24.109375 47.828125 \r\nQ 26.265625 48.1875 28.421875 48.1875 \r\nQ 40.625 48.1875 47.75 41.5 \r\nQ 54.890625 34.8125 54.890625 23.390625 \r\nQ 54.890625 11.625 47.5625 5.09375 \r\nQ 40.234375 -1.421875 26.90625 -1.421875 \r\nQ 22.3125 -1.421875 17.546875 -0.640625 \r\nQ 12.796875 0.140625 7.71875 1.703125 \r\nL 7.71875 11.625 \r\nQ 12.109375 9.234375 16.796875 8.0625 \r\nQ 21.484375 6.890625 26.703125 6.890625 \r\nQ 35.15625 6.890625 40.078125 11.328125 \r\nQ 45.015625 15.765625 45.015625 23.390625 \r\nQ 45.015625 31 40.078125 35.4375 \r\nQ 35.15625 39.890625 26.703125 39.890625 \r\nQ 22.75 39.890625 18.8125 39.015625 \r\nQ 14.890625 38.140625 10.796875 36.28125 \r\nz\r\n\" id=\"DejaVuSans-53\"/>\r\n       </defs>\r\n       <use xlink:href=\"#DejaVuSans-48\"/>\r\n       <use x=\"63.623047\" xlink:href=\"#DejaVuSans-46\"/>\r\n       <use x=\"95.410156\" xlink:href=\"#DejaVuSans-53\"/>\r\n       <use x=\"159.033203\" xlink:href=\"#DejaVuSans-48\"/>\r\n       <use x=\"222.65625\" xlink:href=\"#DejaVuSans-37\"/>\r\n      </g>\r\n     </g>\r\n    </g>\r\n    <g id=\"ytick_7\">\r\n     <g id=\"line2d_87\">\r\n      <path clip-path=\"url(#pa9050272e5)\" d=\"M 66.007812 247.769559 \r\nL 568.207813 247.769559 \r\n\" style=\"fill:none;stroke:#000000;stroke-linecap:square;stroke-opacity:0.3;stroke-width:0.8;\"/>\r\n     </g>\r\n     <g id=\"line2d_88\">\r\n      <g>\r\n       <use style=\"stroke:#000000;stroke-width:0.8;\" x=\"66.007812\" xlink:href=\"#mce6b6058ea\" y=\"247.769559\"/>\r\n      </g>\r\n     </g>\r\n     <g id=\"text_13\">\r\n      <!-- 1.00% -->\r\n      <g transform=\"translate(27.240625 251.568778)scale(0.1 -0.1)\">\r\n       <use xlink:href=\"#DejaVuSans-49\"/>\r\n       <use x=\"63.623047\" xlink:href=\"#DejaVuSans-46\"/>\r\n       <use x=\"95.410156\" xlink:href=\"#DejaVuSans-48\"/>\r\n       <use x=\"159.033203\" xlink:href=\"#DejaVuSans-48\"/>\r\n       <use x=\"222.65625\" xlink:href=\"#DejaVuSans-37\"/>\r\n      </g>\r\n     </g>\r\n    </g>\r\n    <g id=\"ytick_8\">\r\n     <g id=\"line2d_89\">\r\n      <path clip-path=\"url(#pa9050272e5)\" d=\"M 66.007812 226.065728 \r\nL 568.207813 226.065728 \r\n\" style=\"fill:none;stroke:#000000;stroke-linecap:square;stroke-opacity:0.3;stroke-width:0.8;\"/>\r\n     </g>\r\n     <g id=\"line2d_90\">\r\n      <g>\r\n       <use style=\"stroke:#000000;stroke-width:0.8;\" x=\"66.007812\" xlink:href=\"#mce6b6058ea\" y=\"226.065728\"/>\r\n      </g>\r\n     </g>\r\n     <g id=\"text_14\">\r\n      <!-- 2.00% -->\r\n      <g transform=\"translate(27.240625 229.864947)scale(0.1 -0.1)\">\r\n       <use xlink:href=\"#DejaVuSans-50\"/>\r\n       <use x=\"63.623047\" xlink:href=\"#DejaVuSans-46\"/>\r\n       <use x=\"95.410156\" xlink:href=\"#DejaVuSans-48\"/>\r\n       <use x=\"159.033203\" xlink:href=\"#DejaVuSans-48\"/>\r\n       <use x=\"222.65625\" xlink:href=\"#DejaVuSans-37\"/>\r\n      </g>\r\n     </g>\r\n    </g>\r\n    <g id=\"ytick_9\">\r\n     <g id=\"line2d_91\">\r\n      <path clip-path=\"url(#pa9050272e5)\" d=\"M 66.007812 213.303133 \r\nL 568.207813 213.303133 \r\n\" style=\"fill:none;stroke:#000000;stroke-linecap:square;stroke-opacity:0.3;stroke-width:0.8;\"/>\r\n     </g>\r\n     <g id=\"line2d_92\">\r\n      <g>\r\n       <use style=\"stroke:#000000;stroke-width:0.8;\" x=\"66.007812\" xlink:href=\"#mce6b6058ea\" y=\"213.303133\"/>\r\n      </g>\r\n     </g>\r\n     <g id=\"text_15\">\r\n      <!-- 3.00% -->\r\n      <g transform=\"translate(27.240625 217.102352)scale(0.1 -0.1)\">\r\n       <use xlink:href=\"#DejaVuSans-51\"/>\r\n       <use x=\"63.623047\" xlink:href=\"#DejaVuSans-46\"/>\r\n       <use x=\"95.410156\" xlink:href=\"#DejaVuSans-48\"/>\r\n       <use x=\"159.033203\" xlink:href=\"#DejaVuSans-48\"/>\r\n       <use x=\"222.65625\" xlink:href=\"#DejaVuSans-37\"/>\r\n      </g>\r\n     </g>\r\n    </g>\r\n    <g id=\"ytick_10\">\r\n     <g id=\"line2d_93\">\r\n      <path clip-path=\"url(#pa9050272e5)\" d=\"M 66.007812 197.102544 \r\nL 568.207813 197.102544 \r\n\" style=\"fill:none;stroke:#000000;stroke-linecap:square;stroke-opacity:0.3;stroke-width:0.8;\"/>\r\n     </g>\r\n     <g id=\"line2d_94\">\r\n      <g>\r\n       <use style=\"stroke:#000000;stroke-width:0.8;\" x=\"66.007812\" xlink:href=\"#mce6b6058ea\" y=\"197.102544\"/>\r\n      </g>\r\n     </g>\r\n     <g id=\"text_16\">\r\n      <!-- 5.00% -->\r\n      <g transform=\"translate(27.240625 200.901763)scale(0.1 -0.1)\">\r\n       <use xlink:href=\"#DejaVuSans-53\"/>\r\n       <use x=\"63.623047\" xlink:href=\"#DejaVuSans-46\"/>\r\n       <use x=\"95.410156\" xlink:href=\"#DejaVuSans-48\"/>\r\n       <use x=\"159.033203\" xlink:href=\"#DejaVuSans-48\"/>\r\n       <use x=\"222.65625\" xlink:href=\"#DejaVuSans-37\"/>\r\n      </g>\r\n     </g>\r\n    </g>\r\n    <g id=\"ytick_11\">\r\n     <g id=\"line2d_95\">\r\n      <path clip-path=\"url(#pa9050272e5)\" d=\"M 66.007812 174.72674 \r\nL 568.207813 174.72674 \r\n\" style=\"fill:none;stroke:#000000;stroke-linecap:square;stroke-opacity:0.3;stroke-width:0.8;\"/>\r\n     </g>\r\n     <g id=\"line2d_96\">\r\n      <g>\r\n       <use style=\"stroke:#000000;stroke-width:0.8;\" x=\"66.007812\" xlink:href=\"#mce6b6058ea\" y=\"174.72674\"/>\r\n      </g>\r\n     </g>\r\n     <g id=\"text_17\">\r\n      <!-- 10.00% -->\r\n      <g transform=\"translate(20.878125 178.525958)scale(0.1 -0.1)\">\r\n       <use xlink:href=\"#DejaVuSans-49\"/>\r\n       <use x=\"63.623047\" xlink:href=\"#DejaVuSans-48\"/>\r\n       <use x=\"127.246094\" xlink:href=\"#DejaVuSans-46\"/>\r\n       <use x=\"159.033203\" xlink:href=\"#DejaVuSans-48\"/>\r\n       <use x=\"222.65625\" xlink:href=\"#DejaVuSans-48\"/>\r\n       <use x=\"286.279297\" xlink:href=\"#DejaVuSans-37\"/>\r\n      </g>\r\n     </g>\r\n    </g>\r\n    <g id=\"ytick_12\">\r\n     <g id=\"line2d_97\">\r\n      <path clip-path=\"url(#pa9050272e5)\" d=\"M 66.007812 151.399754 \r\nL 568.207813 151.399754 \r\n\" style=\"fill:none;stroke:#000000;stroke-linecap:square;stroke-opacity:0.3;stroke-width:0.8;\"/>\r\n     </g>\r\n     <g id=\"line2d_98\">\r\n      <g>\r\n       <use style=\"stroke:#000000;stroke-width:0.8;\" x=\"66.007812\" xlink:href=\"#mce6b6058ea\" y=\"151.399754\"/>\r\n      </g>\r\n     </g>\r\n     <g id=\"text_18\">\r\n      <!-- 20.00% -->\r\n      <g transform=\"translate(20.878125 155.198973)scale(0.1 -0.1)\">\r\n       <use xlink:href=\"#DejaVuSans-50\"/>\r\n       <use x=\"63.623047\" xlink:href=\"#DejaVuSans-48\"/>\r\n       <use x=\"127.246094\" xlink:href=\"#DejaVuSans-46\"/>\r\n       <use x=\"159.033203\" xlink:href=\"#DejaVuSans-48\"/>\r\n       <use x=\"222.65625\" xlink:href=\"#DejaVuSans-48\"/>\r\n       <use x=\"286.279297\" xlink:href=\"#DejaVuSans-37\"/>\r\n      </g>\r\n     </g>\r\n    </g>\r\n    <g id=\"ytick_13\">\r\n     <g id=\"line2d_99\">\r\n      <path clip-path=\"url(#pa9050272e5)\" d=\"M 66.007812 136.820622 \r\nL 568.207813 136.820622 \r\n\" style=\"fill:none;stroke:#000000;stroke-linecap:square;stroke-opacity:0.3;stroke-width:0.8;\"/>\r\n     </g>\r\n     <g id=\"line2d_100\">\r\n      <g>\r\n       <use style=\"stroke:#000000;stroke-width:0.8;\" x=\"66.007812\" xlink:href=\"#mce6b6058ea\" y=\"136.820622\"/>\r\n      </g>\r\n     </g>\r\n     <g id=\"text_19\">\r\n      <!-- 30.00% -->\r\n      <g transform=\"translate(20.878125 140.619841)scale(0.1 -0.1)\">\r\n       <use xlink:href=\"#DejaVuSans-51\"/>\r\n       <use x=\"63.623047\" xlink:href=\"#DejaVuSans-48\"/>\r\n       <use x=\"127.246094\" xlink:href=\"#DejaVuSans-46\"/>\r\n       <use x=\"159.033203\" xlink:href=\"#DejaVuSans-48\"/>\r\n       <use x=\"222.65625\" xlink:href=\"#DejaVuSans-48\"/>\r\n       <use x=\"286.279297\" xlink:href=\"#DejaVuSans-37\"/>\r\n      </g>\r\n     </g>\r\n    </g>\r\n    <g id=\"ytick_14\">\r\n     <g id=\"line2d_101\">\r\n      <path clip-path=\"url(#pa9050272e5)\" d=\"M 66.007812 125.654806 \r\nL 568.207813 125.654806 \r\n\" style=\"fill:none;stroke:#000000;stroke-linecap:square;stroke-opacity:0.3;stroke-width:0.8;\"/>\r\n     </g>\r\n     <g id=\"line2d_102\">\r\n      <g>\r\n       <use style=\"stroke:#000000;stroke-width:0.8;\" x=\"66.007812\" xlink:href=\"#mce6b6058ea\" y=\"125.654806\"/>\r\n      </g>\r\n     </g>\r\n     <g id=\"text_20\">\r\n      <!-- 40.00% -->\r\n      <g transform=\"translate(20.878125 129.454025)scale(0.1 -0.1)\">\r\n       <defs>\r\n        <path d=\"M 37.796875 64.3125 \r\nL 12.890625 25.390625 \r\nL 37.796875 25.390625 \r\nz\r\nM 35.203125 72.90625 \r\nL 47.609375 72.90625 \r\nL 47.609375 25.390625 \r\nL 58.015625 25.390625 \r\nL 58.015625 17.1875 \r\nL 47.609375 17.1875 \r\nL 47.609375 0 \r\nL 37.796875 0 \r\nL 37.796875 17.1875 \r\nL 4.890625 17.1875 \r\nL 4.890625 26.703125 \r\nz\r\n\" id=\"DejaVuSans-52\"/>\r\n       </defs>\r\n       <use xlink:href=\"#DejaVuSans-52\"/>\r\n       <use x=\"63.623047\" xlink:href=\"#DejaVuSans-48\"/>\r\n       <use x=\"127.246094\" xlink:href=\"#DejaVuSans-46\"/>\r\n       <use x=\"159.033203\" xlink:href=\"#DejaVuSans-48\"/>\r\n       <use x=\"222.65625\" xlink:href=\"#DejaVuSans-48\"/>\r\n       <use x=\"286.279297\" xlink:href=\"#DejaVuSans-37\"/>\r\n      </g>\r\n     </g>\r\n    </g>\r\n    <g id=\"ytick_15\">\r\n     <g id=\"line2d_103\">\r\n      <path clip-path=\"url(#pa9050272e5)\" d=\"M 66.007812 116.167247 \r\nL 568.207813 116.167247 \r\n\" style=\"fill:none;stroke:#000000;stroke-linecap:square;stroke-opacity:0.3;stroke-width:0.8;\"/>\r\n     </g>\r\n     <g id=\"line2d_104\">\r\n      <g>\r\n       <use style=\"stroke:#000000;stroke-width:0.8;\" x=\"66.007812\" xlink:href=\"#mce6b6058ea\" y=\"116.167247\"/>\r\n      </g>\r\n     </g>\r\n     <g id=\"text_21\">\r\n      <!-- 50.00% -->\r\n      <g transform=\"translate(20.878125 119.966465)scale(0.1 -0.1)\">\r\n       <use xlink:href=\"#DejaVuSans-53\"/>\r\n       <use x=\"63.623047\" xlink:href=\"#DejaVuSans-48\"/>\r\n       <use x=\"127.246094\" xlink:href=\"#DejaVuSans-46\"/>\r\n       <use x=\"159.033203\" xlink:href=\"#DejaVuSans-48\"/>\r\n       <use x=\"222.65625\" xlink:href=\"#DejaVuSans-48\"/>\r\n       <use x=\"286.279297\" xlink:href=\"#DejaVuSans-37\"/>\r\n      </g>\r\n     </g>\r\n    </g>\r\n    <g id=\"ytick_16\">\r\n     <g id=\"line2d_105\">\r\n      <path clip-path=\"url(#pa9050272e5)\" d=\"M 66.007812 107.49171 \r\nL 568.207813 107.49171 \r\n\" style=\"fill:none;stroke:#000000;stroke-linecap:square;stroke-opacity:0.3;stroke-width:0.8;\"/>\r\n     </g>\r\n     <g id=\"line2d_106\">\r\n      <g>\r\n       <use style=\"stroke:#000000;stroke-width:0.8;\" x=\"66.007812\" xlink:href=\"#mce6b6058ea\" y=\"107.49171\"/>\r\n      </g>\r\n     </g>\r\n     <g id=\"text_22\">\r\n      <!-- 60.00% -->\r\n      <g transform=\"translate(20.878125 111.290929)scale(0.1 -0.1)\">\r\n       <defs>\r\n        <path d=\"M 33.015625 40.375 \r\nQ 26.375 40.375 22.484375 35.828125 \r\nQ 18.609375 31.296875 18.609375 23.390625 \r\nQ 18.609375 15.53125 22.484375 10.953125 \r\nQ 26.375 6.390625 33.015625 6.390625 \r\nQ 39.65625 6.390625 43.53125 10.953125 \r\nQ 47.40625 15.53125 47.40625 23.390625 \r\nQ 47.40625 31.296875 43.53125 35.828125 \r\nQ 39.65625 40.375 33.015625 40.375 \r\nz\r\nM 52.59375 71.296875 \r\nL 52.59375 62.3125 \r\nQ 48.875 64.0625 45.09375 64.984375 \r\nQ 41.3125 65.921875 37.59375 65.921875 \r\nQ 27.828125 65.921875 22.671875 59.328125 \r\nQ 17.53125 52.734375 16.796875 39.40625 \r\nQ 19.671875 43.65625 24.015625 45.921875 \r\nQ 28.375 48.1875 33.59375 48.1875 \r\nQ 44.578125 48.1875 50.953125 41.515625 \r\nQ 57.328125 34.859375 57.328125 23.390625 \r\nQ 57.328125 12.15625 50.6875 5.359375 \r\nQ 44.046875 -1.421875 33.015625 -1.421875 \r\nQ 20.359375 -1.421875 13.671875 8.265625 \r\nQ 6.984375 17.96875 6.984375 36.375 \r\nQ 6.984375 53.65625 15.1875 63.9375 \r\nQ 23.390625 74.21875 37.203125 74.21875 \r\nQ 40.921875 74.21875 44.703125 73.484375 \r\nQ 48.484375 72.75 52.59375 71.296875 \r\nz\r\n\" id=\"DejaVuSans-54\"/>\r\n       </defs>\r\n       <use xlink:href=\"#DejaVuSans-54\"/>\r\n       <use x=\"63.623047\" xlink:href=\"#DejaVuSans-48\"/>\r\n       <use x=\"127.246094\" xlink:href=\"#DejaVuSans-46\"/>\r\n       <use x=\"159.033203\" xlink:href=\"#DejaVuSans-48\"/>\r\n       <use x=\"222.65625\" xlink:href=\"#DejaVuSans-48\"/>\r\n       <use x=\"286.279297\" xlink:href=\"#DejaVuSans-37\"/>\r\n      </g>\r\n     </g>\r\n    </g>\r\n    <g id=\"ytick_17\">\r\n     <g id=\"line2d_107\">\r\n      <path clip-path=\"url(#pa9050272e5)\" d=\"M 66.007812 99.00402 \r\nL 568.207813 99.00402 \r\n\" style=\"fill:none;stroke:#000000;stroke-linecap:square;stroke-opacity:0.3;stroke-width:0.8;\"/>\r\n     </g>\r\n     <g id=\"line2d_108\">\r\n      <g>\r\n       <use style=\"stroke:#000000;stroke-width:0.8;\" x=\"66.007812\" xlink:href=\"#mce6b6058ea\" y=\"99.00402\"/>\r\n      </g>\r\n     </g>\r\n     <g id=\"text_23\">\r\n      <!-- 70.00% -->\r\n      <g transform=\"translate(20.878125 102.803239)scale(0.1 -0.1)\">\r\n       <defs>\r\n        <path d=\"M 8.203125 72.90625 \r\nL 55.078125 72.90625 \r\nL 55.078125 68.703125 \r\nL 28.609375 0 \r\nL 18.3125 0 \r\nL 43.21875 64.59375 \r\nL 8.203125 64.59375 \r\nz\r\n\" id=\"DejaVuSans-55\"/>\r\n       </defs>\r\n       <use xlink:href=\"#DejaVuSans-55\"/>\r\n       <use x=\"63.623047\" xlink:href=\"#DejaVuSans-48\"/>\r\n       <use x=\"127.246094\" xlink:href=\"#DejaVuSans-46\"/>\r\n       <use x=\"159.033203\" xlink:href=\"#DejaVuSans-48\"/>\r\n       <use x=\"222.65625\" xlink:href=\"#DejaVuSans-48\"/>\r\n       <use x=\"286.279297\" xlink:href=\"#DejaVuSans-37\"/>\r\n      </g>\r\n     </g>\r\n    </g>\r\n    <g id=\"ytick_18\">\r\n     <g id=\"line2d_109\">\r\n      <path clip-path=\"url(#pa9050272e5)\" d=\"M 66.007812 89.981362 \r\nL 568.207813 89.981362 \r\n\" style=\"fill:none;stroke:#000000;stroke-linecap:square;stroke-opacity:0.3;stroke-width:0.8;\"/>\r\n     </g>\r\n     <g id=\"line2d_110\">\r\n      <g>\r\n       <use style=\"stroke:#000000;stroke-width:0.8;\" x=\"66.007812\" xlink:href=\"#mce6b6058ea\" y=\"89.981362\"/>\r\n      </g>\r\n     </g>\r\n     <g id=\"text_24\">\r\n      <!-- 80.00% -->\r\n      <g transform=\"translate(20.878125 93.78058)scale(0.1 -0.1)\">\r\n       <defs>\r\n        <path d=\"M 31.78125 34.625 \r\nQ 24.75 34.625 20.71875 30.859375 \r\nQ 16.703125 27.09375 16.703125 20.515625 \r\nQ 16.703125 13.921875 20.71875 10.15625 \r\nQ 24.75 6.390625 31.78125 6.390625 \r\nQ 38.8125 6.390625 42.859375 10.171875 \r\nQ 46.921875 13.96875 46.921875 20.515625 \r\nQ 46.921875 27.09375 42.890625 30.859375 \r\nQ 38.875 34.625 31.78125 34.625 \r\nz\r\nM 21.921875 38.8125 \r\nQ 15.578125 40.375 12.03125 44.71875 \r\nQ 8.5 49.078125 8.5 55.328125 \r\nQ 8.5 64.0625 14.71875 69.140625 \r\nQ 20.953125 74.21875 31.78125 74.21875 \r\nQ 42.671875 74.21875 48.875 69.140625 \r\nQ 55.078125 64.0625 55.078125 55.328125 \r\nQ 55.078125 49.078125 51.53125 44.71875 \r\nQ 48 40.375 41.703125 38.8125 \r\nQ 48.828125 37.15625 52.796875 32.3125 \r\nQ 56.78125 27.484375 56.78125 20.515625 \r\nQ 56.78125 9.90625 50.3125 4.234375 \r\nQ 43.84375 -1.421875 31.78125 -1.421875 \r\nQ 19.734375 -1.421875 13.25 4.234375 \r\nQ 6.78125 9.90625 6.78125 20.515625 \r\nQ 6.78125 27.484375 10.78125 32.3125 \r\nQ 14.796875 37.15625 21.921875 38.8125 \r\nz\r\nM 18.3125 54.390625 \r\nQ 18.3125 48.734375 21.84375 45.5625 \r\nQ 25.390625 42.390625 31.78125 42.390625 \r\nQ 38.140625 42.390625 41.71875 45.5625 \r\nQ 45.3125 48.734375 45.3125 54.390625 \r\nQ 45.3125 60.0625 41.71875 63.234375 \r\nQ 38.140625 66.40625 31.78125 66.40625 \r\nQ 25.390625 66.40625 21.84375 63.234375 \r\nQ 18.3125 60.0625 18.3125 54.390625 \r\nz\r\n\" id=\"DejaVuSans-56\"/>\r\n       </defs>\r\n       <use xlink:href=\"#DejaVuSans-56\"/>\r\n       <use x=\"63.623047\" xlink:href=\"#DejaVuSans-48\"/>\r\n       <use x=\"127.246094\" xlink:href=\"#DejaVuSans-46\"/>\r\n       <use x=\"159.033203\" xlink:href=\"#DejaVuSans-48\"/>\r\n       <use x=\"222.65625\" xlink:href=\"#DejaVuSans-48\"/>\r\n       <use x=\"286.279297\" xlink:href=\"#DejaVuSans-37\"/>\r\n      </g>\r\n     </g>\r\n    </g>\r\n    <g id=\"ytick_19\">\r\n     <g id=\"line2d_111\">\r\n      <path clip-path=\"url(#pa9050272e5)\" d=\"M 66.007812 78.848371 \r\nL 568.207813 78.848371 \r\n\" style=\"fill:none;stroke:#000000;stroke-linecap:square;stroke-opacity:0.3;stroke-width:0.8;\"/>\r\n     </g>\r\n     <g id=\"line2d_112\">\r\n      <g>\r\n       <use style=\"stroke:#000000;stroke-width:0.8;\" x=\"66.007812\" xlink:href=\"#mce6b6058ea\" y=\"78.848371\"/>\r\n      </g>\r\n     </g>\r\n     <g id=\"text_25\">\r\n      <!-- 90.00% -->\r\n      <g transform=\"translate(20.878125 82.64759)scale(0.1 -0.1)\">\r\n       <defs>\r\n        <path d=\"M 10.984375 1.515625 \r\nL 10.984375 10.5 \r\nQ 14.703125 8.734375 18.5 7.8125 \r\nQ 22.3125 6.890625 25.984375 6.890625 \r\nQ 35.75 6.890625 40.890625 13.453125 \r\nQ 46.046875 20.015625 46.78125 33.40625 \r\nQ 43.953125 29.203125 39.59375 26.953125 \r\nQ 35.25 24.703125 29.984375 24.703125 \r\nQ 19.046875 24.703125 12.671875 31.3125 \r\nQ 6.296875 37.9375 6.296875 49.421875 \r\nQ 6.296875 60.640625 12.9375 67.421875 \r\nQ 19.578125 74.21875 30.609375 74.21875 \r\nQ 43.265625 74.21875 49.921875 64.515625 \r\nQ 56.59375 54.828125 56.59375 36.375 \r\nQ 56.59375 19.140625 48.40625 8.859375 \r\nQ 40.234375 -1.421875 26.421875 -1.421875 \r\nQ 22.703125 -1.421875 18.890625 -0.6875 \r\nQ 15.09375 0.046875 10.984375 1.515625 \r\nz\r\nM 30.609375 32.421875 \r\nQ 37.25 32.421875 41.125 36.953125 \r\nQ 45.015625 41.5 45.015625 49.421875 \r\nQ 45.015625 57.28125 41.125 61.84375 \r\nQ 37.25 66.40625 30.609375 66.40625 \r\nQ 23.96875 66.40625 20.09375 61.84375 \r\nQ 16.21875 57.28125 16.21875 49.421875 \r\nQ 16.21875 41.5 20.09375 36.953125 \r\nQ 23.96875 32.421875 30.609375 32.421875 \r\nz\r\n\" id=\"DejaVuSans-57\"/>\r\n       </defs>\r\n       <use xlink:href=\"#DejaVuSans-57\"/>\r\n       <use x=\"63.623047\" xlink:href=\"#DejaVuSans-48\"/>\r\n       <use x=\"127.246094\" xlink:href=\"#DejaVuSans-46\"/>\r\n       <use x=\"159.033203\" xlink:href=\"#DejaVuSans-48\"/>\r\n       <use x=\"222.65625\" xlink:href=\"#DejaVuSans-48\"/>\r\n       <use x=\"286.279297\" xlink:href=\"#DejaVuSans-37\"/>\r\n      </g>\r\n     </g>\r\n    </g>\r\n    <g id=\"ytick_20\">\r\n     <g id=\"line2d_113\">\r\n      <path clip-path=\"url(#pa9050272e5)\" d=\"M 66.007812 70.668176 \r\nL 568.207813 70.668176 \r\n\" style=\"fill:none;stroke:#000000;stroke-linecap:square;stroke-opacity:0.3;stroke-width:0.8;\"/>\r\n     </g>\r\n     <g id=\"line2d_114\">\r\n      <g>\r\n       <use style=\"stroke:#000000;stroke-width:0.8;\" x=\"66.007812\" xlink:href=\"#mce6b6058ea\" y=\"70.668176\"/>\r\n      </g>\r\n     </g>\r\n     <g id=\"text_26\">\r\n      <!-- 95.00% -->\r\n      <g transform=\"translate(20.878125 74.467395)scale(0.1 -0.1)\">\r\n       <use xlink:href=\"#DejaVuSans-57\"/>\r\n       <use x=\"63.623047\" xlink:href=\"#DejaVuSans-53\"/>\r\n       <use x=\"127.246094\" xlink:href=\"#DejaVuSans-46\"/>\r\n       <use x=\"159.033203\" xlink:href=\"#DejaVuSans-48\"/>\r\n       <use x=\"222.65625\" xlink:href=\"#DejaVuSans-48\"/>\r\n       <use x=\"286.279297\" xlink:href=\"#DejaVuSans-37\"/>\r\n      </g>\r\n     </g>\r\n    </g>\r\n    <g id=\"ytick_21\">\r\n     <g id=\"line2d_115\">\r\n      <path clip-path=\"url(#pa9050272e5)\" d=\"M 66.007812 57.301936 \r\nL 568.207813 57.301936 \r\n\" style=\"fill:none;stroke:#000000;stroke-linecap:square;stroke-opacity:0.3;stroke-width:0.8;\"/>\r\n     </g>\r\n     <g id=\"line2d_116\">\r\n      <g>\r\n       <use style=\"stroke:#000000;stroke-width:0.8;\" x=\"66.007812\" xlink:href=\"#mce6b6058ea\" y=\"57.301936\"/>\r\n      </g>\r\n     </g>\r\n     <g id=\"text_27\">\r\n      <!-- 99.00% -->\r\n      <g transform=\"translate(20.878125 61.101154)scale(0.1 -0.1)\">\r\n       <use xlink:href=\"#DejaVuSans-57\"/>\r\n       <use x=\"63.623047\" xlink:href=\"#DejaVuSans-57\"/>\r\n       <use x=\"127.246094\" xlink:href=\"#DejaVuSans-46\"/>\r\n       <use x=\"159.033203\" xlink:href=\"#DejaVuSans-48\"/>\r\n       <use x=\"222.65625\" xlink:href=\"#DejaVuSans-48\"/>\r\n       <use x=\"286.279297\" xlink:href=\"#DejaVuSans-37\"/>\r\n      </g>\r\n     </g>\r\n    </g>\r\n    <g id=\"ytick_22\">\r\n     <g id=\"line2d_117\">\r\n      <path clip-path=\"url(#pa9050272e5)\" d=\"M 66.007812 44.698079 \r\nL 568.207813 44.698079 \r\n\" style=\"fill:none;stroke:#000000;stroke-linecap:square;stroke-opacity:0.3;stroke-width:0.8;\"/>\r\n     </g>\r\n     <g id=\"line2d_118\">\r\n      <g>\r\n       <use style=\"stroke:#000000;stroke-width:0.8;\" x=\"66.007812\" xlink:href=\"#mce6b6058ea\" y=\"44.698079\"/>\r\n      </g>\r\n     </g>\r\n     <g id=\"text_28\">\r\n      <!-- 99.90% -->\r\n      <g transform=\"translate(20.878125 48.497297)scale(0.1 -0.1)\">\r\n       <use xlink:href=\"#DejaVuSans-57\"/>\r\n       <use x=\"63.623047\" xlink:href=\"#DejaVuSans-57\"/>\r\n       <use x=\"127.246094\" xlink:href=\"#DejaVuSans-46\"/>\r\n       <use x=\"159.033203\" xlink:href=\"#DejaVuSans-57\"/>\r\n       <use x=\"222.65625\" xlink:href=\"#DejaVuSans-48\"/>\r\n       <use x=\"286.279297\" xlink:href=\"#DejaVuSans-37\"/>\r\n      </g>\r\n     </g>\r\n    </g>\r\n    <g id=\"ytick_23\">\r\n     <g id=\"line2d_119\">\r\n      <path clip-path=\"url(#pa9050272e5)\" d=\"M 66.007812 35.7555 \r\nL 568.207813 35.7555 \r\n\" style=\"fill:none;stroke:#000000;stroke-linecap:square;stroke-opacity:0.3;stroke-width:0.8;\"/>\r\n     </g>\r\n     <g id=\"line2d_120\">\r\n      <g>\r\n       <use style=\"stroke:#000000;stroke-width:0.8;\" x=\"66.007812\" xlink:href=\"#mce6b6058ea\" y=\"35.7555\"/>\r\n      </g>\r\n     </g>\r\n     <g id=\"text_29\">\r\n      <!-- 99.99% -->\r\n      <g transform=\"translate(20.878125 39.554719)scale(0.1 -0.1)\">\r\n       <use xlink:href=\"#DejaVuSans-57\"/>\r\n       <use x=\"63.623047\" xlink:href=\"#DejaVuSans-57\"/>\r\n       <use x=\"127.246094\" xlink:href=\"#DejaVuSans-46\"/>\r\n       <use x=\"159.033203\" xlink:href=\"#DejaVuSans-57\"/>\r\n       <use x=\"222.65625\" xlink:href=\"#DejaVuSans-57\"/>\r\n       <use x=\"286.279297\" xlink:href=\"#DejaVuSans-37\"/>\r\n      </g>\r\n     </g>\r\n    </g>\r\n    <g id=\"ytick_24\">\r\n     <g id=\"line2d_121\">\r\n      <path clip-path=\"url(#pa9050272e5)\" d=\"M 66.007812 204.200448 \r\nL 568.207813 204.200448 \r\n\" style=\"fill:none;stroke:#000000;stroke-linecap:square;stroke-opacity:0.08;stroke-width:0.8;\"/>\r\n     </g>\r\n     <g id=\"line2d_122\">\r\n      <defs>\r\n       <path d=\"M 0 0 \r\nL -2 0 \r\n\" id=\"m9027cfc8ce\" style=\"stroke:#000000;stroke-width:0.6;\"/>\r\n      </defs>\r\n      <g>\r\n       <use style=\"stroke:#000000;stroke-width:0.6;\" x=\"66.007812\" xlink:href=\"#m9027cfc8ce\" y=\"204.200448\"/>\r\n      </g>\r\n     </g>\r\n    </g>\r\n    <g id=\"ytick_25\">\r\n     <g id=\"line2d_123\">\r\n      <path clip-path=\"url(#pa9050272e5)\" d=\"M 66.007812 191.272169 \r\nL 568.207813 191.272169 \r\n\" style=\"fill:none;stroke:#000000;stroke-linecap:square;stroke-opacity:0.08;stroke-width:0.8;\"/>\r\n     </g>\r\n     <g id=\"line2d_124\">\r\n      <g>\r\n       <use style=\"stroke:#000000;stroke-width:0.6;\" x=\"66.007812\" xlink:href=\"#m9027cfc8ce\" y=\"191.272169\"/>\r\n      </g>\r\n     </g>\r\n    </g>\r\n    <g id=\"ytick_26\">\r\n     <g id=\"line2d_125\">\r\n      <path clip-path=\"url(#pa9050272e5)\" d=\"M 66.007812 181.999377 \r\nL 568.207813 181.999377 \r\n\" style=\"fill:none;stroke:#000000;stroke-linecap:square;stroke-opacity:0.08;stroke-width:0.8;\"/>\r\n     </g>\r\n     <g id=\"line2d_126\">\r\n      <g>\r\n       <use style=\"stroke:#000000;stroke-width:0.6;\" x=\"66.007812\" xlink:href=\"#m9027cfc8ce\" y=\"181.999377\"/>\r\n      </g>\r\n     </g>\r\n    </g>\r\n    <g id=\"ytick_27\">\r\n     <g id=\"line2d_127\">\r\n      <path clip-path=\"url(#pa9050272e5)\" d=\"M 66.007812 168.716788 \r\nL 568.207813 168.716788 \r\n\" style=\"fill:none;stroke:#000000;stroke-linecap:square;stroke-opacity:0.08;stroke-width:0.8;\"/>\r\n     </g>\r\n     <g id=\"line2d_128\">\r\n      <g>\r\n       <use style=\"stroke:#000000;stroke-width:0.6;\" x=\"66.007812\" xlink:href=\"#m9027cfc8ce\" y=\"168.716788\"/>\r\n      </g>\r\n     </g>\r\n    </g>\r\n    <g id=\"ytick_28\">\r\n     <g id=\"line2d_129\">\r\n      <path clip-path=\"url(#pa9050272e5)\" d=\"M 66.007812 163.576005 \r\nL 568.207813 163.576005 \r\n\" style=\"fill:none;stroke:#000000;stroke-linecap:square;stroke-opacity:0.08;stroke-width:0.8;\"/>\r\n     </g>\r\n     <g id=\"line2d_130\">\r\n      <g>\r\n       <use style=\"stroke:#000000;stroke-width:0.6;\" x=\"66.007812\" xlink:href=\"#m9027cfc8ce\" y=\"163.576005\"/>\r\n      </g>\r\n     </g>\r\n    </g>\r\n    <g id=\"ytick_29\">\r\n     <g id=\"line2d_131\">\r\n      <path clip-path=\"url(#pa9050272e5)\" d=\"M 66.007812 159.069374 \r\nL 568.207813 159.069374 \r\n\" style=\"fill:none;stroke:#000000;stroke-linecap:square;stroke-opacity:0.08;stroke-width:0.8;\"/>\r\n     </g>\r\n     <g id=\"line2d_132\">\r\n      <g>\r\n       <use style=\"stroke:#000000;stroke-width:0.6;\" x=\"66.007812\" xlink:href=\"#m9027cfc8ce\" y=\"159.069374\"/>\r\n      </g>\r\n     </g>\r\n    </g>\r\n    <g id=\"ytick_30\">\r\n     <g id=\"line2d_133\">\r\n      <path clip-path=\"url(#pa9050272e5)\" d=\"M 66.007812 155.04519 \r\nL 568.207813 155.04519 \r\n\" style=\"fill:none;stroke:#000000;stroke-linecap:square;stroke-opacity:0.08;stroke-width:0.8;\"/>\r\n     </g>\r\n     <g id=\"line2d_134\">\r\n      <g>\r\n       <use style=\"stroke:#000000;stroke-width:0.6;\" x=\"66.007812\" xlink:href=\"#m9027cfc8ce\" y=\"155.04519\"/>\r\n      </g>\r\n     </g>\r\n    </g>\r\n    <g id=\"ytick_31\">\r\n     <g id=\"line2d_135\">\r\n      <path clip-path=\"url(#pa9050272e5)\" d=\"M 66.007812 148.058992 \r\nL 568.207813 148.058992 \r\n\" style=\"fill:none;stroke:#000000;stroke-linecap:square;stroke-opacity:0.08;stroke-width:0.8;\"/>\r\n     </g>\r\n     <g id=\"line2d_136\">\r\n      <g>\r\n       <use style=\"stroke:#000000;stroke-width:0.6;\" x=\"66.007812\" xlink:href=\"#m9027cfc8ce\" y=\"148.058992\"/>\r\n      </g>\r\n     </g>\r\n    </g>\r\n    <g id=\"ytick_32\">\r\n     <g id=\"line2d_137\">\r\n      <path clip-path=\"url(#pa9050272e5)\" d=\"M 66.007812 144.968098 \r\nL 568.207813 144.968098 \r\n\" style=\"fill:none;stroke:#000000;stroke-linecap:square;stroke-opacity:0.08;stroke-width:0.8;\"/>\r\n     </g>\r\n     <g id=\"line2d_138\">\r\n      <g>\r\n       <use style=\"stroke:#000000;stroke-width:0.6;\" x=\"66.007812\" xlink:href=\"#m9027cfc8ce\" y=\"144.968098\"/>\r\n      </g>\r\n     </g>\r\n    </g>\r\n    <g id=\"ytick_33\">\r\n     <g id=\"line2d_139\">\r\n      <path clip-path=\"url(#pa9050272e5)\" d=\"M 66.007812 142.085338 \r\nL 568.207813 142.085338 \r\n\" style=\"fill:none;stroke:#000000;stroke-linecap:square;stroke-opacity:0.08;stroke-width:0.8;\"/>\r\n     </g>\r\n     <g id=\"line2d_140\">\r\n      <g>\r\n       <use style=\"stroke:#000000;stroke-width:0.6;\" x=\"66.007812\" xlink:href=\"#m9027cfc8ce\" y=\"142.085338\"/>\r\n      </g>\r\n     </g>\r\n    </g>\r\n    <g id=\"ytick_34\">\r\n     <g id=\"line2d_141\">\r\n      <path clip-path=\"url(#pa9050272e5)\" d=\"M 66.007812 139.378155 \r\nL 568.207813 139.378155 \r\n\" style=\"fill:none;stroke:#000000;stroke-linecap:square;stroke-opacity:0.08;stroke-width:0.8;\"/>\r\n     </g>\r\n     <g id=\"line2d_142\">\r\n      <g>\r\n       <use style=\"stroke:#000000;stroke-width:0.6;\" x=\"66.007812\" xlink:href=\"#m9027cfc8ce\" y=\"139.378155\"/>\r\n      </g>\r\n     </g>\r\n    </g>\r\n    <g id=\"ytick_35\">\r\n     <g id=\"line2d_143\">\r\n      <path clip-path=\"url(#pa9050272e5)\" d=\"M 66.007812 134.391716 \r\nL 568.207813 134.391716 \r\n\" style=\"fill:none;stroke:#000000;stroke-linecap:square;stroke-opacity:0.08;stroke-width:0.8;\"/>\r\n     </g>\r\n     <g id=\"line2d_144\">\r\n      <g>\r\n       <use style=\"stroke:#000000;stroke-width:0.6;\" x=\"66.007812\" xlink:href=\"#m9027cfc8ce\" y=\"134.391716\"/>\r\n      </g>\r\n     </g>\r\n    </g>\r\n    <g id=\"ytick_36\">\r\n     <g id=\"line2d_145\">\r\n      <path clip-path=\"url(#pa9050272e5)\" d=\"M 66.007812 132.07411 \r\nL 568.207813 132.07411 \r\n\" style=\"fill:none;stroke:#000000;stroke-linecap:square;stroke-opacity:0.08;stroke-width:0.8;\"/>\r\n     </g>\r\n     <g id=\"line2d_146\">\r\n      <g>\r\n       <use style=\"stroke:#000000;stroke-width:0.6;\" x=\"66.007812\" xlink:href=\"#m9027cfc8ce\" y=\"132.07411\"/>\r\n      </g>\r\n     </g>\r\n    </g>\r\n    <g id=\"ytick_37\">\r\n     <g id=\"line2d_147\">\r\n      <path clip-path=\"url(#pa9050272e5)\" d=\"M 66.007812 129.853319 \r\nL 568.207813 129.853319 \r\n\" style=\"fill:none;stroke:#000000;stroke-linecap:square;stroke-opacity:0.08;stroke-width:0.8;\"/>\r\n     </g>\r\n     <g id=\"line2d_148\">\r\n      <g>\r\n       <use style=\"stroke:#000000;stroke-width:0.6;\" x=\"66.007812\" xlink:href=\"#m9027cfc8ce\" y=\"129.853319\"/>\r\n      </g>\r\n     </g>\r\n    </g>\r\n    <g id=\"ytick_38\">\r\n     <g id=\"line2d_149\">\r\n      <path clip-path=\"url(#pa9050272e5)\" d=\"M 66.007812 127.717064 \r\nL 568.207813 127.717064 \r\n\" style=\"fill:none;stroke:#000000;stroke-linecap:square;stroke-opacity:0.08;stroke-width:0.8;\"/>\r\n     </g>\r\n     <g id=\"line2d_150\">\r\n      <g>\r\n       <use style=\"stroke:#000000;stroke-width:0.6;\" x=\"66.007812\" xlink:href=\"#m9027cfc8ce\" y=\"127.717064\"/>\r\n      </g>\r\n     </g>\r\n    </g>\r\n    <g id=\"ytick_39\">\r\n     <g id=\"line2d_151\">\r\n      <path clip-path=\"url(#pa9050272e5)\" d=\"M 66.007812 123.657388 \r\nL 568.207813 123.657388 \r\n\" style=\"fill:none;stroke:#000000;stroke-linecap:square;stroke-opacity:0.08;stroke-width:0.8;\"/>\r\n     </g>\r\n     <g id=\"line2d_152\">\r\n      <g>\r\n       <use style=\"stroke:#000000;stroke-width:0.6;\" x=\"66.007812\" xlink:href=\"#m9027cfc8ce\" y=\"123.657388\"/>\r\n      </g>\r\n     </g>\r\n    </g>\r\n    <g id=\"ytick_40\">\r\n     <g id=\"line2d_153\">\r\n      <path clip-path=\"url(#pa9050272e5)\" d=\"M 66.007812 121.716754 \r\nL 568.207813 121.716754 \r\n\" style=\"fill:none;stroke:#000000;stroke-linecap:square;stroke-opacity:0.08;stroke-width:0.8;\"/>\r\n     </g>\r\n     <g id=\"line2d_154\">\r\n      <g>\r\n       <use style=\"stroke:#000000;stroke-width:0.6;\" x=\"66.007812\" xlink:href=\"#m9027cfc8ce\" y=\"121.716754\"/>\r\n      </g>\r\n     </g>\r\n    </g>\r\n    <g id=\"ytick_41\">\r\n     <g id=\"line2d_155\">\r\n      <path clip-path=\"url(#pa9050272e5)\" d=\"M 66.007812 119.825734 \r\nL 568.207813 119.825734 \r\n\" style=\"fill:none;stroke:#000000;stroke-linecap:square;stroke-opacity:0.08;stroke-width:0.8;\"/>\r\n     </g>\r\n     <g id=\"line2d_156\">\r\n      <g>\r\n       <use style=\"stroke:#000000;stroke-width:0.6;\" x=\"66.007812\" xlink:href=\"#m9027cfc8ce\" y=\"119.825734\"/>\r\n      </g>\r\n     </g>\r\n    </g>\r\n    <g id=\"ytick_42\">\r\n     <g id=\"line2d_157\">\r\n      <path clip-path=\"url(#pa9050272e5)\" d=\"M 66.007812 117.977865 \r\nL 568.207813 117.977865 \r\n\" style=\"fill:none;stroke:#000000;stroke-linecap:square;stroke-opacity:0.08;stroke-width:0.8;\"/>\r\n     </g>\r\n     <g id=\"line2d_158\">\r\n      <g>\r\n       <use style=\"stroke:#000000;stroke-width:0.6;\" x=\"66.007812\" xlink:href=\"#m9027cfc8ce\" y=\"117.977865\"/>\r\n      </g>\r\n     </g>\r\n    </g>\r\n    <g id=\"ytick_43\">\r\n     <g id=\"line2d_159\">\r\n      <path clip-path=\"url(#pa9050272e5)\" d=\"M 66.007812 114.388421 \r\nL 568.207813 114.388421 \r\n\" style=\"fill:none;stroke:#000000;stroke-linecap:square;stroke-opacity:0.08;stroke-width:0.8;\"/>\r\n     </g>\r\n     <g id=\"line2d_160\">\r\n      <g>\r\n       <use style=\"stroke:#000000;stroke-width:0.6;\" x=\"66.007812\" xlink:href=\"#m9027cfc8ce\" y=\"114.388421\"/>\r\n      </g>\r\n     </g>\r\n    </g>\r\n    <g id=\"ytick_44\">\r\n     <g id=\"line2d_161\">\r\n      <path clip-path=\"url(#pa9050272e5)\" d=\"M 66.007812 112.636266 \r\nL 568.207813 112.636266 \r\n\" style=\"fill:none;stroke:#000000;stroke-linecap:square;stroke-opacity:0.08;stroke-width:0.8;\"/>\r\n     </g>\r\n     <g id=\"line2d_162\">\r\n      <g>\r\n       <use style=\"stroke:#000000;stroke-width:0.6;\" x=\"66.007812\" xlink:href=\"#m9027cfc8ce\" y=\"112.636266\"/>\r\n      </g>\r\n     </g>\r\n    </g>\r\n    <g id=\"ytick_45\">\r\n     <g id=\"line2d_163\">\r\n      <path clip-path=\"url(#pa9050272e5)\" d=\"M 66.007812 110.905902 \r\nL 568.207813 110.905902 \r\n\" style=\"fill:none;stroke:#000000;stroke-linecap:square;stroke-opacity:0.08;stroke-width:0.8;\"/>\r\n     </g>\r\n     <g id=\"line2d_164\">\r\n      <g>\r\n       <use style=\"stroke:#000000;stroke-width:0.6;\" x=\"66.007812\" xlink:href=\"#m9027cfc8ce\" y=\"110.905902\"/>\r\n      </g>\r\n     </g>\r\n    </g>\r\n    <g id=\"ytick_46\">\r\n     <g id=\"line2d_165\">\r\n      <path clip-path=\"url(#pa9050272e5)\" d=\"M 66.007812 109.192601 \r\nL 568.207813 109.192601 \r\n\" style=\"fill:none;stroke:#000000;stroke-linecap:square;stroke-opacity:0.08;stroke-width:0.8;\"/>\r\n     </g>\r\n     <g id=\"line2d_166\">\r\n      <g>\r\n       <use style=\"stroke:#000000;stroke-width:0.6;\" x=\"66.007812\" xlink:href=\"#m9027cfc8ce\" y=\"109.192601\"/>\r\n      </g>\r\n     </g>\r\n    </g>\r\n    <g id=\"ytick_47\">\r\n     <g id=\"line2d_167\">\r\n      <path clip-path=\"url(#pa9050272e5)\" d=\"M 66.007812 105.798558 \r\nL 568.207813 105.798558 \r\n\" style=\"fill:none;stroke:#000000;stroke-linecap:square;stroke-opacity:0.08;stroke-width:0.8;\"/>\r\n     </g>\r\n     <g id=\"line2d_168\">\r\n      <g>\r\n       <use style=\"stroke:#000000;stroke-width:0.6;\" x=\"66.007812\" xlink:href=\"#m9027cfc8ce\" y=\"105.798558\"/>\r\n      </g>\r\n     </g>\r\n    </g>\r\n    <g id=\"ytick_48\">\r\n     <g id=\"line2d_169\">\r\n      <path clip-path=\"url(#pa9050272e5)\" d=\"M 66.007812 104.108371 \r\nL 568.207813 104.108371 \r\n\" style=\"fill:none;stroke:#000000;stroke-linecap:square;stroke-opacity:0.08;stroke-width:0.8;\"/>\r\n     </g>\r\n     <g id=\"line2d_170\">\r\n      <g>\r\n       <use style=\"stroke:#000000;stroke-width:0.6;\" x=\"66.007812\" xlink:href=\"#m9027cfc8ce\" y=\"104.108371\"/>\r\n      </g>\r\n     </g>\r\n    </g>\r\n    <g id=\"ytick_49\">\r\n     <g id=\"line2d_171\">\r\n      <path clip-path=\"url(#pa9050272e5)\" d=\"M 66.007812 102.416167 \r\nL 568.207813 102.416167 \r\n\" style=\"fill:none;stroke:#000000;stroke-linecap:square;stroke-opacity:0.08;stroke-width:0.8;\"/>\r\n     </g>\r\n     <g id=\"line2d_172\">\r\n      <g>\r\n       <use style=\"stroke:#000000;stroke-width:0.6;\" x=\"66.007812\" xlink:href=\"#m9027cfc8ce\" y=\"102.416167\"/>\r\n      </g>\r\n     </g>\r\n    </g>\r\n    <g id=\"ytick_50\">\r\n     <g id=\"line2d_173\">\r\n      <path clip-path=\"url(#pa9050272e5)\" d=\"M 66.007812 100.71664 \r\nL 568.207813 100.71664 \r\n\" style=\"fill:none;stroke:#000000;stroke-linecap:square;stroke-opacity:0.08;stroke-width:0.8;\"/>\r\n     </g>\r\n     <g id=\"line2d_174\">\r\n      <g>\r\n       <use style=\"stroke:#000000;stroke-width:0.6;\" x=\"66.007812\" xlink:href=\"#m9027cfc8ce\" y=\"100.71664\"/>\r\n      </g>\r\n     </g>\r\n    </g>\r\n    <g id=\"ytick_51\">\r\n     <g id=\"line2d_175\">\r\n      <path clip-path=\"url(#pa9050272e5)\" d=\"M 66.007812 97.271887 \r\nL 568.207813 97.271887 \r\n\" style=\"fill:none;stroke:#000000;stroke-linecap:square;stroke-opacity:0.08;stroke-width:0.8;\"/>\r\n     </g>\r\n     <g id=\"line2d_176\">\r\n      <g>\r\n       <use style=\"stroke:#000000;stroke-width:0.6;\" x=\"66.007812\" xlink:href=\"#m9027cfc8ce\" y=\"97.271887\"/>\r\n      </g>\r\n     </g>\r\n    </g>\r\n    <g id=\"ytick_52\">\r\n     <g id=\"line2d_177\">\r\n      <path clip-path=\"url(#pa9050272e5)\" d=\"M 66.007812 95.512939 \r\nL 568.207813 95.512939 \r\n\" style=\"fill:none;stroke:#000000;stroke-linecap:square;stroke-opacity:0.08;stroke-width:0.8;\"/>\r\n     </g>\r\n     <g id=\"line2d_178\">\r\n      <g>\r\n       <use style=\"stroke:#000000;stroke-width:0.6;\" x=\"66.007812\" xlink:href=\"#m9027cfc8ce\" y=\"95.512939\"/>\r\n      </g>\r\n     </g>\r\n    </g>\r\n    <g id=\"ytick_53\">\r\n     <g id=\"line2d_179\">\r\n      <path clip-path=\"url(#pa9050272e5)\" d=\"M 66.007812 93.718676 \r\nL 568.207813 93.718676 \r\n\" style=\"fill:none;stroke:#000000;stroke-linecap:square;stroke-opacity:0.08;stroke-width:0.8;\"/>\r\n     </g>\r\n     <g id=\"line2d_180\">\r\n      <g>\r\n       <use style=\"stroke:#000000;stroke-width:0.6;\" x=\"66.007812\" xlink:href=\"#m9027cfc8ce\" y=\"93.718676\"/>\r\n      </g>\r\n     </g>\r\n    </g>\r\n    <g id=\"ytick_54\">\r\n     <g id=\"line2d_181\">\r\n      <path clip-path=\"url(#pa9050272e5)\" d=\"M 66.007812 91.878956 \r\nL 568.207813 91.878956 \r\n\" style=\"fill:none;stroke:#000000;stroke-linecap:square;stroke-opacity:0.08;stroke-width:0.8;\"/>\r\n     </g>\r\n     <g id=\"line2d_182\">\r\n      <g>\r\n       <use style=\"stroke:#000000;stroke-width:0.6;\" x=\"66.007812\" xlink:href=\"#m9027cfc8ce\" y=\"91.878956\"/>\r\n      </g>\r\n     </g>\r\n    </g>\r\n    <g id=\"ytick_55\">\r\n     <g id=\"line2d_183\">\r\n      <path clip-path=\"url(#pa9050272e5)\" d=\"M 66.007812 88.010249 \r\nL 568.207813 88.010249 \r\n\" style=\"fill:none;stroke:#000000;stroke-linecap:square;stroke-opacity:0.08;stroke-width:0.8;\"/>\r\n     </g>\r\n     <g id=\"line2d_184\">\r\n      <g>\r\n       <use style=\"stroke:#000000;stroke-width:0.6;\" x=\"66.007812\" xlink:href=\"#m9027cfc8ce\" y=\"88.010249\"/>\r\n      </g>\r\n     </g>\r\n    </g>\r\n    <g id=\"ytick_56\">\r\n     <g id=\"line2d_185\">\r\n      <path clip-path=\"url(#pa9050272e5)\" d=\"M 66.007812 85.945274 \r\nL 568.207813 85.945274 \r\n\" style=\"fill:none;stroke:#000000;stroke-linecap:square;stroke-opacity:0.08;stroke-width:0.8;\"/>\r\n     </g>\r\n     <g id=\"line2d_186\">\r\n      <g>\r\n       <use style=\"stroke:#000000;stroke-width:0.6;\" x=\"66.007812\" xlink:href=\"#m9027cfc8ce\" y=\"85.945274\"/>\r\n      </g>\r\n     </g>\r\n    </g>\r\n    <g id=\"ytick_57\">\r\n     <g id=\"line2d_187\">\r\n      <path clip-path=\"url(#pa9050272e5)\" d=\"M 66.007812 83.758983 \r\nL 568.207813 83.758983 \r\n\" style=\"fill:none;stroke:#000000;stroke-linecap:square;stroke-opacity:0.08;stroke-width:0.8;\"/>\r\n     </g>\r\n     <g id=\"line2d_188\">\r\n      <g>\r\n       <use style=\"stroke:#000000;stroke-width:0.6;\" x=\"66.007812\" xlink:href=\"#m9027cfc8ce\" y=\"83.758983\"/>\r\n      </g>\r\n     </g>\r\n    </g>\r\n    <g id=\"ytick_58\">\r\n     <g id=\"line2d_189\">\r\n      <path clip-path=\"url(#pa9050272e5)\" d=\"M 66.007812 81.412631 \r\nL 568.207813 81.412631 \r\n\" style=\"fill:none;stroke:#000000;stroke-linecap:square;stroke-opacity:0.08;stroke-width:0.8;\"/>\r\n     </g>\r\n     <g id=\"line2d_190\">\r\n      <g>\r\n       <use style=\"stroke:#000000;stroke-width:0.6;\" x=\"66.007812\" xlink:href=\"#m9027cfc8ce\" y=\"81.412631\"/>\r\n      </g>\r\n     </g>\r\n    </g>\r\n    <g id=\"ytick_59\">\r\n     <g id=\"line2d_191\">\r\n      <path clip-path=\"url(#pa9050272e5)\" d=\"M 66.007812 75.973103 \r\nL 568.207813 75.973103 \r\n\" style=\"fill:none;stroke:#000000;stroke-linecap:square;stroke-opacity:0.08;stroke-width:0.8;\"/>\r\n     </g>\r\n     <g id=\"line2d_192\">\r\n      <g>\r\n       <use style=\"stroke:#000000;stroke-width:0.6;\" x=\"66.007812\" xlink:href=\"#m9027cfc8ce\" y=\"75.973103\"/>\r\n      </g>\r\n     </g>\r\n    </g>\r\n    <g id=\"ytick_60\">\r\n     <g id=\"line2d_193\">\r\n      <path clip-path=\"url(#pa9050272e5)\" d=\"M 66.007812 72.620035 \r\nL 568.207813 72.620035 \r\n\" style=\"fill:none;stroke:#000000;stroke-linecap:square;stroke-opacity:0.08;stroke-width:0.8;\"/>\r\n     </g>\r\n     <g id=\"line2d_194\">\r\n      <g>\r\n       <use style=\"stroke:#000000;stroke-width:0.6;\" x=\"66.007812\" xlink:href=\"#m9027cfc8ce\" y=\"72.620035\"/>\r\n      </g>\r\n     </g>\r\n    </g>\r\n    <g id=\"ytick_61\">\r\n     <g id=\"line2d_195\">\r\n      <path clip-path=\"url(#pa9050272e5)\" d=\"M 66.007812 68.434926 \r\nL 568.207813 68.434926 \r\n\" style=\"fill:none;stroke:#000000;stroke-linecap:square;stroke-opacity:0.08;stroke-width:0.8;\"/>\r\n     </g>\r\n     <g id=\"line2d_196\">\r\n      <g>\r\n       <use style=\"stroke:#000000;stroke-width:0.6;\" x=\"66.007812\" xlink:href=\"#m9027cfc8ce\" y=\"68.434926\"/>\r\n      </g>\r\n     </g>\r\n    </g>\r\n    <g id=\"ytick_62\">\r\n     <g id=\"line2d_197\">\r\n      <path clip-path=\"url(#pa9050272e5)\" d=\"M 66.007812 62.372665 \r\nL 568.207813 62.372665 \r\n\" style=\"fill:none;stroke:#000000;stroke-linecap:square;stroke-opacity:0.08;stroke-width:0.8;\"/>\r\n     </g>\r\n     <g id=\"line2d_198\">\r\n      <g>\r\n       <use style=\"stroke:#000000;stroke-width:0.6;\" x=\"66.007812\" xlink:href=\"#m9027cfc8ce\" y=\"62.372665\"/>\r\n      </g>\r\n     </g>\r\n    </g>\r\n    <g id=\"text_30\">\r\n     <!-- Fraction failing -->\r\n     <g transform=\"translate(14.798437 250.298312)rotate(-90)scale(0.1 -0.1)\">\r\n      <defs>\r\n       <path d=\"M 9.8125 72.90625 \r\nL 51.703125 72.90625 \r\nL 51.703125 64.59375 \r\nL 19.671875 64.59375 \r\nL 19.671875 43.109375 \r\nL 48.578125 43.109375 \r\nL 48.578125 34.8125 \r\nL 19.671875 34.8125 \r\nL 19.671875 0 \r\nL 9.8125 0 \r\nz\r\n\" id=\"DejaVuSans-70\"/>\r\n       <path d=\"M 41.109375 46.296875 \r\nQ 39.59375 47.171875 37.8125 47.578125 \r\nQ 36.03125 48 33.890625 48 \r\nQ 26.265625 48 22.1875 43.046875 \r\nQ 18.109375 38.09375 18.109375 28.8125 \r\nL 18.109375 0 \r\nL 9.078125 0 \r\nL 9.078125 54.6875 \r\nL 18.109375 54.6875 \r\nL 18.109375 46.1875 \r\nQ 20.953125 51.171875 25.484375 53.578125 \r\nQ 30.03125 56 36.53125 56 \r\nQ 37.453125 56 38.578125 55.875 \r\nQ 39.703125 55.765625 41.0625 55.515625 \r\nz\r\n\" id=\"DejaVuSans-114\"/>\r\n       <path d=\"M 48.78125 52.59375 \r\nL 48.78125 44.1875 \r\nQ 44.96875 46.296875 41.140625 47.34375 \r\nQ 37.3125 48.390625 33.40625 48.390625 \r\nQ 24.65625 48.390625 19.8125 42.84375 \r\nQ 14.984375 37.3125 14.984375 27.296875 \r\nQ 14.984375 17.28125 19.8125 11.734375 \r\nQ 24.65625 6.203125 33.40625 6.203125 \r\nQ 37.3125 6.203125 41.140625 7.25 \r\nQ 44.96875 8.296875 48.78125 10.40625 \r\nL 48.78125 2.09375 \r\nQ 45.015625 0.34375 40.984375 -0.53125 \r\nQ 36.96875 -1.421875 32.421875 -1.421875 \r\nQ 20.0625 -1.421875 12.78125 6.34375 \r\nQ 5.515625 14.109375 5.515625 27.296875 \r\nQ 5.515625 40.671875 12.859375 48.328125 \r\nQ 20.21875 56 33.015625 56 \r\nQ 37.15625 56 41.109375 55.140625 \r\nQ 45.0625 54.296875 48.78125 52.59375 \r\nz\r\n\" id=\"DejaVuSans-99\"/>\r\n       <path d=\"M 18.3125 70.21875 \r\nL 18.3125 54.6875 \r\nL 36.8125 54.6875 \r\nL 36.8125 47.703125 \r\nL 18.3125 47.703125 \r\nL 18.3125 18.015625 \r\nQ 18.3125 11.328125 20.140625 9.421875 \r\nQ 21.96875 7.515625 27.59375 7.515625 \r\nL 36.8125 7.515625 \r\nL 36.8125 0 \r\nL 27.59375 0 \r\nQ 17.1875 0 13.234375 3.875 \r\nQ 9.28125 7.765625 9.28125 18.015625 \r\nL 9.28125 47.703125 \r\nL 2.6875 47.703125 \r\nL 2.6875 54.6875 \r\nL 9.28125 54.6875 \r\nL 9.28125 70.21875 \r\nz\r\n\" id=\"DejaVuSans-116\"/>\r\n       <path d=\"M 30.609375 48.390625 \r\nQ 23.390625 48.390625 19.1875 42.75 \r\nQ 14.984375 37.109375 14.984375 27.296875 \r\nQ 14.984375 17.484375 19.15625 11.84375 \r\nQ 23.34375 6.203125 30.609375 6.203125 \r\nQ 37.796875 6.203125 41.984375 11.859375 \r\nQ 46.1875 17.53125 46.1875 27.296875 \r\nQ 46.1875 37.015625 41.984375 42.703125 \r\nQ 37.796875 48.390625 30.609375 48.390625 \r\nz\r\nM 30.609375 56 \r\nQ 42.328125 56 49.015625 48.375 \r\nQ 55.71875 40.765625 55.71875 27.296875 \r\nQ 55.71875 13.875 49.015625 6.21875 \r\nQ 42.328125 -1.421875 30.609375 -1.421875 \r\nQ 18.84375 -1.421875 12.171875 6.21875 \r\nQ 5.515625 13.875 5.515625 27.296875 \r\nQ 5.515625 40.765625 12.171875 48.375 \r\nQ 18.84375 56 30.609375 56 \r\nz\r\n\" id=\"DejaVuSans-111\"/>\r\n       <path d=\"M 54.890625 33.015625 \r\nL 54.890625 0 \r\nL 45.90625 0 \r\nL 45.90625 32.71875 \r\nQ 45.90625 40.484375 42.875 44.328125 \r\nQ 39.84375 48.1875 33.796875 48.1875 \r\nQ 26.515625 48.1875 22.3125 43.546875 \r\nQ 18.109375 38.921875 18.109375 30.90625 \r\nL 18.109375 0 \r\nL 9.078125 0 \r\nL 9.078125 54.6875 \r\nL 18.109375 54.6875 \r\nL 18.109375 46.1875 \r\nQ 21.34375 51.125 25.703125 53.5625 \r\nQ 30.078125 56 35.796875 56 \r\nQ 45.21875 56 50.046875 50.171875 \r\nQ 54.890625 44.34375 54.890625 33.015625 \r\nz\r\n\" id=\"DejaVuSans-110\"/>\r\n       <path d=\"M 37.109375 75.984375 \r\nL 37.109375 68.5 \r\nL 28.515625 68.5 \r\nQ 23.6875 68.5 21.796875 66.546875 \r\nQ 19.921875 64.59375 19.921875 59.515625 \r\nL 19.921875 54.6875 \r\nL 34.71875 54.6875 \r\nL 34.71875 47.703125 \r\nL 19.921875 47.703125 \r\nL 19.921875 0 \r\nL 10.890625 0 \r\nL 10.890625 47.703125 \r\nL 2.296875 47.703125 \r\nL 2.296875 54.6875 \r\nL 10.890625 54.6875 \r\nL 10.890625 58.5 \r\nQ 10.890625 67.625 15.140625 71.796875 \r\nQ 19.390625 75.984375 28.609375 75.984375 \r\nz\r\n\" id=\"DejaVuSans-102\"/>\r\n       <path d=\"M 9.421875 75.984375 \r\nL 18.40625 75.984375 \r\nL 18.40625 0 \r\nL 9.421875 0 \r\nz\r\n\" id=\"DejaVuSans-108\"/>\r\n      </defs>\r\n      <use xlink:href=\"#DejaVuSans-70\"/>\r\n      <use x=\"50.269531\" xlink:href=\"#DejaVuSans-114\"/>\r\n      <use x=\"91.382812\" xlink:href=\"#DejaVuSans-97\"/>\r\n      <use x=\"152.662109\" xlink:href=\"#DejaVuSans-99\"/>\r\n      <use x=\"207.642578\" xlink:href=\"#DejaVuSans-116\"/>\r\n      <use x=\"246.851562\" xlink:href=\"#DejaVuSans-105\"/>\r\n      <use x=\"274.634766\" xlink:href=\"#DejaVuSans-111\"/>\r\n      <use x=\"335.816406\" xlink:href=\"#DejaVuSans-110\"/>\r\n      <use x=\"399.195312\" xlink:href=\"#DejaVuSans-32\"/>\r\n      <use x=\"430.982422\" xlink:href=\"#DejaVuSans-102\"/>\r\n      <use x=\"466.1875\" xlink:href=\"#DejaVuSans-97\"/>\r\n      <use x=\"527.466797\" xlink:href=\"#DejaVuSans-105\"/>\r\n      <use x=\"555.25\" xlink:href=\"#DejaVuSans-108\"/>\r\n      <use x=\"583.033203\" xlink:href=\"#DejaVuSans-105\"/>\r\n      <use x=\"610.816406\" xlink:href=\"#DejaVuSans-110\"/>\r\n      <use x=\"674.195312\" xlink:href=\"#DejaVuSans-103\"/>\r\n     </g>\r\n    </g>\r\n   </g>\r\n   <g id=\"line2d_199\">\r\n    <path clip-path=\"url(#pa9050272e5)\" d=\"M 15.059837 429.63175 \r\nL 530.340644 -1 \r\nL 530.340644 -1 \r\n\" style=\"fill:none;stroke:#1f77b4;stroke-linecap:square;stroke-width:1.5;\"/>\r\n   </g>\r\n   <g id=\"line2d_200\">\r\n    <path clip-path=\"url(#pa9050272e5)\" d=\"M 507.036976 14.209064 \r\nL 506.618368 14.574859 \r\nL 506.194758 14.94501 \r\nL 505.766022 15.319621 \r\nL 505.332036 15.698802 \r\nL 504.89267 16.082665 \r\nL 504.447789 16.471328 \r\nL 503.997252 16.864912 \r\nL 503.540914 17.263544 \r\nL 503.078623 17.667354 \r\nL 502.610222 18.076479 \r\nL 502.135548 18.49106 \r\nL 501.65443 18.911246 \r\nL 501.166691 19.337189 \r\nL 500.672146 19.76905 \r\nL 500.170602 20.206996 \r\nL 499.661858 20.6512 \r\nL 499.145705 21.101843 \r\nL 498.621924 21.559116 \r\nL 498.090286 22.023216 \r\nL 497.550552 22.49435 \r\nL 497.00247 22.972735 \r\nL 496.44578 23.458597 \r\nL 495.880205 23.952174 \r\nL 495.305459 24.453715 \r\nL 494.721238 24.963481 \r\nL 494.127226 25.481745 \r\nL 493.523087 26.008798 \r\nL 492.908472 26.54494 \r\nL 492.283009 27.090492 \r\nL 491.64631 27.64579 \r\nL 490.997964 28.211188 \r\nL 490.337536 28.78706 \r\nL 489.664567 29.373801 \r\nL 488.978573 29.97183 \r\nL 488.279038 30.58159 \r\nL 487.565419 31.203549 \r\nL 486.837136 31.838205 \r\nL 486.093574 32.486087 \r\nL 485.334078 33.147758 \r\nL 484.557952 33.823817 \r\nL 483.764452 34.514902 \r\nL 482.952782 35.221697 \r\nL 482.122092 35.94493 \r\nL 481.27147 36.685384 \r\nL 480.399938 37.443895 \r\nL 479.506445 38.221366 \r\nL 478.589858 39.018764 \r\nL 477.648955 39.837134 \r\nL 476.682416 40.677605 \r\nL 475.688812 41.541397 \r\nL 474.666589 42.429833 \r\nL 473.614063 43.344351 \r\nL 472.529394 44.286516 \r\nL 471.410576 45.258034 \r\nL 470.255409 46.260774 \r\nL 469.061481 47.296781 \r\nL 467.826138 48.368305 \r\nL 466.54645 49.477824 \r\nL 465.219176 50.628076 \r\nL 463.840718 51.822094 \r\nL 462.407072 53.063249 \r\nL 460.913763 54.355299 \r\nL 459.355779 55.702444 \r\nL 457.72748 57.109398 \r\nL 456.022499 58.581469 \r\nL 454.23362 60.124654 \r\nL 452.352628 61.745756 \r\nL 450.370134 63.45252 \r\nL 448.275355 65.253807 \r\nL 446.055846 67.159791 \r\nL 443.697172 69.182212 \r\nL 441.1825 71.334681 \r\nL 438.492089 73.633058 \r\nL 435.602647 76.095919 \r\nL 432.48653 78.74515 \r\nL 429.110719 81.606684 \r\nL 425.435529 84.711446 \r\nL 421.412977 88.096557 \r\nL 416.984717 91.806893 \r\nL 412.079439 95.897105 \r\nL 406.609593 100.434276 \r\nL 400.467204 105.501421 \r\nL 393.518432 111.202148 \r\nL 385.59626 117.666876 \r\nL 376.490496 125.06117 \r\nL 365.934024 133.596884 \r\nL 353.584208 143.546949 \r\nL 338.998415 155.264667 \r\nL 321.602973 169.208174 \r\nL 300.65567 185.970074 \r\nL 275.203283 206.3111 \r\nL 244.03687 231.195649 \r\nL 205.646724 261.827636 \r\nL 158.173703 299.689292 \r\nL 99.345493 346.591973 \r\nL 26.382938 404.750804 \r\nL -1 426.574605 \r\n\" style=\"fill:none;\"/>\r\n   </g>\r\n   <g id=\"line2d_201\">\r\n    <path clip-path=\"url(#pa9050272e5)\" d=\"M 517.248133 14.209064 \r\nL 516.791342 14.574859 \r\nL 516.32913 14.94501 \r\nL 515.861368 15.319621 \r\nL 515.38792 15.698802 \r\nL 514.908646 16.082665 \r\nL 514.423402 16.471328 \r\nL 513.932036 16.864912 \r\nL 513.434392 17.263544 \r\nL 512.930308 17.667354 \r\nL 512.419615 18.076479 \r\nL 511.902137 18.49106 \r\nL 511.377691 18.911246 \r\nL 510.846087 19.337189 \r\nL 510.307128 19.76905 \r\nL 509.760606 20.206996 \r\nL 509.206307 20.6512 \r\nL 508.644006 21.101843 \r\nL 508.073468 21.559116 \r\nL 507.494449 22.023216 \r\nL 506.906693 22.49435 \r\nL 506.309931 22.972735 \r\nL 505.703885 23.458597 \r\nL 505.088259 23.952174 \r\nL 504.462747 24.453715 \r\nL 503.827027 24.963481 \r\nL 503.180758 25.481745 \r\nL 502.523586 26.008798 \r\nL 501.855136 26.54494 \r\nL 501.175015 27.090492 \r\nL 500.482808 27.64579 \r\nL 499.778077 28.211188 \r\nL 499.060362 28.78706 \r\nL 498.329175 29.373801 \r\nL 497.584001 29.97183 \r\nL 496.824294 30.58159 \r\nL 496.049478 31.203549 \r\nL 495.258939 31.838205 \r\nL 494.452027 32.486087 \r\nL 493.62805 33.147758 \r\nL 492.786271 33.823817 \r\nL 491.925905 34.514902 \r\nL 491.046115 35.221697 \r\nL 490.146006 35.94493 \r\nL 489.224617 36.685384 \r\nL 488.280923 37.443895 \r\nL 487.313819 38.221366 \r\nL 486.32212 39.018764 \r\nL 485.304546 39.837134 \r\nL 484.259719 40.677605 \r\nL 483.186147 41.541397 \r\nL 482.082215 42.429833 \r\nL 480.946171 43.344351 \r\nL 479.776106 44.286516 \r\nL 478.569943 45.258034 \r\nL 477.325412 46.260774 \r\nL 476.040028 47.296781 \r\nL 474.711062 48.368305 \r\nL 473.335513 49.477824 \r\nL 471.910071 50.628076 \r\nL 470.431073 51.822094 \r\nL 468.894459 53.063249 \r\nL 467.29571 54.355299 \r\nL 465.629785 55.702444 \r\nL 463.891042 57.109398 \r\nL 462.073148 58.581469 \r\nL 460.168967 60.124654 \r\nL 458.170433 61.745756 \r\nL 456.068397 63.45252 \r\nL 453.852442 65.253807 \r\nL 451.510661 67.159791 \r\nL 449.029393 69.182212 \r\nL 446.392901 71.334681 \r\nL 443.582972 73.633058 \r\nL 440.578437 76.095919 \r\nL 437.354568 78.74515 \r\nL 433.882322 81.606684 \r\nL 430.127377 84.711446 \r\nL 426.048877 88.096557 \r\nL 421.597778 91.806893 \r\nL 416.714598 95.897105 \r\nL 411.32635 100.434276 \r\nL 405.34234 105.501421 \r\nL 398.648464 111.202148 \r\nL 391.099626 117.666876 \r\nL 382.509796 125.06117 \r\nL 372.639092 133.596884 \r\nL 361.17699 143.546949 \r\nL 347.720621 155.264667 \r\nL 331.747271 169.208174 \r\nL 312.58097 185.970074 \r\nL 289.354394 206.3111 \r\nL 260.968552 231.195649 \r\nL 226.052007 261.827636 \r\nL 182.916713 299.689292 \r\nL 129.500152 346.591973 \r\nL 63.280371 404.750804 \r\nL 34.95556 429.63175 \r\n\" style=\"fill:none;\"/>\r\n   </g>\r\n   <g id=\"patch_3\">\r\n    <path d=\"M 66.007812 391.0755 \r\nL 66.007812 35.7555 \r\n\" style=\"fill:none;stroke:#000000;stroke-linecap:square;stroke-linejoin:miter;stroke-width:0.8;\"/>\r\n   </g>\r\n   <g id=\"patch_4\">\r\n    <path d=\"M 568.207813 391.0755 \r\nL 568.207813 35.7555 \r\n\" style=\"fill:none;stroke:#000000;stroke-linecap:square;stroke-linejoin:miter;stroke-width:0.8;\"/>\r\n   </g>\r\n   <g id=\"patch_5\">\r\n    <path d=\"M 66.007812 391.0755 \r\nL 568.207813 391.0755 \r\n\" style=\"fill:none;stroke:#000000;stroke-linecap:square;stroke-linejoin:miter;stroke-width:0.8;\"/>\r\n   </g>\r\n   <g id=\"patch_6\">\r\n    <path d=\"M 66.007812 35.7555 \r\nL 568.207813 35.7555 \r\n\" style=\"fill:none;stroke:#000000;stroke-linecap:square;stroke-linejoin:miter;stroke-width:0.8;\"/>\r\n   </g>\r\n   <g id=\"text_31\">\r\n    <!-- Probability plot -->\r\n    <g transform=\"translate(271.986875 16.318125)scale(0.12 -0.12)\">\r\n     <defs>\r\n      <path d=\"M 19.671875 64.796875 \r\nL 19.671875 37.40625 \r\nL 32.078125 37.40625 \r\nQ 38.96875 37.40625 42.71875 40.96875 \r\nQ 46.484375 44.53125 46.484375 51.125 \r\nQ 46.484375 57.671875 42.71875 61.234375 \r\nQ 38.96875 64.796875 32.078125 64.796875 \r\nz\r\nM 9.8125 72.90625 \r\nL 32.078125 72.90625 \r\nQ 44.34375 72.90625 50.609375 67.359375 \r\nQ 56.890625 61.8125 56.890625 51.125 \r\nQ 56.890625 40.328125 50.609375 34.8125 \r\nQ 44.34375 29.296875 32.078125 29.296875 \r\nL 19.671875 29.296875 \r\nL 19.671875 0 \r\nL 9.8125 0 \r\nz\r\n\" id=\"DejaVuSans-80\"/>\r\n      <path d=\"M 48.6875 27.296875 \r\nQ 48.6875 37.203125 44.609375 42.84375 \r\nQ 40.53125 48.484375 33.40625 48.484375 \r\nQ 26.265625 48.484375 22.1875 42.84375 \r\nQ 18.109375 37.203125 18.109375 27.296875 \r\nQ 18.109375 17.390625 22.1875 11.75 \r\nQ 26.265625 6.109375 33.40625 6.109375 \r\nQ 40.53125 6.109375 44.609375 11.75 \r\nQ 48.6875 17.390625 48.6875 27.296875 \r\nz\r\nM 18.109375 46.390625 \r\nQ 20.953125 51.265625 25.265625 53.625 \r\nQ 29.59375 56 35.59375 56 \r\nQ 45.5625 56 51.78125 48.09375 \r\nQ 58.015625 40.1875 58.015625 27.296875 \r\nQ 58.015625 14.40625 51.78125 6.484375 \r\nQ 45.5625 -1.421875 35.59375 -1.421875 \r\nQ 29.59375 -1.421875 25.265625 0.953125 \r\nQ 20.953125 3.328125 18.109375 8.203125 \r\nL 18.109375 0 \r\nL 9.078125 0 \r\nL 9.078125 75.984375 \r\nL 18.109375 75.984375 \r\nz\r\n\" id=\"DejaVuSans-98\"/>\r\n      <path d=\"M 32.171875 -5.078125 \r\nQ 28.375 -14.84375 24.75 -17.8125 \r\nQ 21.140625 -20.796875 15.09375 -20.796875 \r\nL 7.90625 -20.796875 \r\nL 7.90625 -13.28125 \r\nL 13.1875 -13.28125 \r\nQ 16.890625 -13.28125 18.9375 -11.515625 \r\nQ 21 -9.765625 23.484375 -3.21875 \r\nL 25.09375 0.875 \r\nL 2.984375 54.6875 \r\nL 12.5 54.6875 \r\nL 29.59375 11.921875 \r\nL 46.6875 54.6875 \r\nL 56.203125 54.6875 \r\nz\r\n\" id=\"DejaVuSans-121\"/>\r\n      <path d=\"M 18.109375 8.203125 \r\nL 18.109375 -20.796875 \r\nL 9.078125 -20.796875 \r\nL 9.078125 54.6875 \r\nL 18.109375 54.6875 \r\nL 18.109375 46.390625 \r\nQ 20.953125 51.265625 25.265625 53.625 \r\nQ 29.59375 56 35.59375 56 \r\nQ 45.5625 56 51.78125 48.09375 \r\nQ 58.015625 40.1875 58.015625 27.296875 \r\nQ 58.015625 14.40625 51.78125 6.484375 \r\nQ 45.5625 -1.421875 35.59375 -1.421875 \r\nQ 29.59375 -1.421875 25.265625 0.953125 \r\nQ 20.953125 3.328125 18.109375 8.203125 \r\nz\r\nM 48.6875 27.296875 \r\nQ 48.6875 37.203125 44.609375 42.84375 \r\nQ 40.53125 48.484375 33.40625 48.484375 \r\nQ 26.265625 48.484375 22.1875 42.84375 \r\nQ 18.109375 37.203125 18.109375 27.296875 \r\nQ 18.109375 17.390625 22.1875 11.75 \r\nQ 26.265625 6.109375 33.40625 6.109375 \r\nQ 40.53125 6.109375 44.609375 11.75 \r\nQ 48.6875 17.390625 48.6875 27.296875 \r\nz\r\n\" id=\"DejaVuSans-112\"/>\r\n     </defs>\r\n     <use xlink:href=\"#DejaVuSans-80\"/>\r\n     <use x=\"58.552734\" xlink:href=\"#DejaVuSans-114\"/>\r\n     <use x=\"97.416016\" xlink:href=\"#DejaVuSans-111\"/>\r\n     <use x=\"158.597656\" xlink:href=\"#DejaVuSans-98\"/>\r\n     <use x=\"222.074219\" xlink:href=\"#DejaVuSans-97\"/>\r\n     <use x=\"283.353516\" xlink:href=\"#DejaVuSans-98\"/>\r\n     <use x=\"346.830078\" xlink:href=\"#DejaVuSans-105\"/>\r\n     <use x=\"374.613281\" xlink:href=\"#DejaVuSans-108\"/>\r\n     <use x=\"402.396484\" xlink:href=\"#DejaVuSans-105\"/>\r\n     <use x=\"430.179688\" xlink:href=\"#DejaVuSans-116\"/>\r\n     <use x=\"469.388672\" xlink:href=\"#DejaVuSans-121\"/>\r\n     <use x=\"528.568359\" xlink:href=\"#DejaVuSans-32\"/>\r\n     <use x=\"560.355469\" xlink:href=\"#DejaVuSans-112\"/>\r\n     <use x=\"623.832031\" xlink:href=\"#DejaVuSans-108\"/>\r\n     <use x=\"651.615234\" xlink:href=\"#DejaVuSans-111\"/>\r\n     <use x=\"712.796875\" xlink:href=\"#DejaVuSans-116\"/>\r\n    </g>\r\n    <!-- Weibull CDF -->\r\n    <g transform=\"translate(281.05625 29.7555)scale(0.12 -0.12)\">\r\n     <defs>\r\n      <path d=\"M 3.328125 72.90625 \r\nL 13.28125 72.90625 \r\nL 28.609375 11.28125 \r\nL 43.890625 72.90625 \r\nL 54.984375 72.90625 \r\nL 70.3125 11.28125 \r\nL 85.59375 72.90625 \r\nL 95.609375 72.90625 \r\nL 77.296875 0 \r\nL 64.890625 0 \r\nL 49.515625 63.28125 \r\nL 33.984375 0 \r\nL 21.578125 0 \r\nz\r\n\" id=\"DejaVuSans-87\"/>\r\n      <path d=\"M 8.5 21.578125 \r\nL 8.5 54.6875 \r\nL 17.484375 54.6875 \r\nL 17.484375 21.921875 \r\nQ 17.484375 14.15625 20.5 10.265625 \r\nQ 23.53125 6.390625 29.59375 6.390625 \r\nQ 36.859375 6.390625 41.078125 11.03125 \r\nQ 45.3125 15.671875 45.3125 23.6875 \r\nL 45.3125 54.6875 \r\nL 54.296875 54.6875 \r\nL 54.296875 0 \r\nL 45.3125 0 \r\nL 45.3125 8.40625 \r\nQ 42.046875 3.421875 37.71875 1 \r\nQ 33.40625 -1.421875 27.6875 -1.421875 \r\nQ 18.265625 -1.421875 13.375 4.4375 \r\nQ 8.5 10.296875 8.5 21.578125 \r\nz\r\nM 31.109375 56 \r\nz\r\n\" id=\"DejaVuSans-117\"/>\r\n      <path d=\"M 64.40625 67.28125 \r\nL 64.40625 56.890625 \r\nQ 59.421875 61.53125 53.78125 63.8125 \r\nQ 48.140625 66.109375 41.796875 66.109375 \r\nQ 29.296875 66.109375 22.65625 58.46875 \r\nQ 16.015625 50.828125 16.015625 36.375 \r\nQ 16.015625 21.96875 22.65625 14.328125 \r\nQ 29.296875 6.6875 41.796875 6.6875 \r\nQ 48.140625 6.6875 53.78125 8.984375 \r\nQ 59.421875 11.28125 64.40625 15.921875 \r\nL 64.40625 5.609375 \r\nQ 59.234375 2.09375 53.4375 0.328125 \r\nQ 47.65625 -1.421875 41.21875 -1.421875 \r\nQ 24.65625 -1.421875 15.125 8.703125 \r\nQ 5.609375 18.84375 5.609375 36.375 \r\nQ 5.609375 53.953125 15.125 64.078125 \r\nQ 24.65625 74.21875 41.21875 74.21875 \r\nQ 47.75 74.21875 53.53125 72.484375 \r\nQ 59.328125 70.75 64.40625 67.28125 \r\nz\r\n\" id=\"DejaVuSans-67\"/>\r\n      <path d=\"M 19.671875 64.796875 \r\nL 19.671875 8.109375 \r\nL 31.59375 8.109375 \r\nQ 46.6875 8.109375 53.6875 14.9375 \r\nQ 60.6875 21.78125 60.6875 36.53125 \r\nQ 60.6875 51.171875 53.6875 57.984375 \r\nQ 46.6875 64.796875 31.59375 64.796875 \r\nz\r\nM 9.8125 72.90625 \r\nL 30.078125 72.90625 \r\nQ 51.265625 72.90625 61.171875 64.09375 \r\nQ 71.09375 55.28125 71.09375 36.53125 \r\nQ 71.09375 17.671875 61.125 8.828125 \r\nQ 51.171875 0 30.078125 0 \r\nL 9.8125 0 \r\nz\r\n\" id=\"DejaVuSans-68\"/>\r\n     </defs>\r\n     <use xlink:href=\"#DejaVuSans-87\"/>\r\n     <use x=\"93.001953\" xlink:href=\"#DejaVuSans-101\"/>\r\n     <use x=\"154.525391\" xlink:href=\"#DejaVuSans-105\"/>\r\n     <use x=\"182.308594\" xlink:href=\"#DejaVuSans-98\"/>\r\n     <use x=\"245.785156\" xlink:href=\"#DejaVuSans-117\"/>\r\n     <use x=\"309.164062\" xlink:href=\"#DejaVuSans-108\"/>\r\n     <use x=\"336.947266\" xlink:href=\"#DejaVuSans-108\"/>\r\n     <use x=\"364.730469\" xlink:href=\"#DejaVuSans-32\"/>\r\n     <use x=\"396.517578\" xlink:href=\"#DejaVuSans-67\"/>\r\n     <use x=\"466.341797\" xlink:href=\"#DejaVuSans-68\"/>\r\n     <use x=\"543.34375\" xlink:href=\"#DejaVuSans-70\"/>\r\n    </g>\r\n   </g>\r\n   <g id=\"legend_1\">\r\n    <g id=\"patch_7\">\r\n     <path d=\"M 73.007812 69.984562 \r\nL 268.164062 69.984562 \r\nQ 270.164062 69.984562 270.164062 67.984562 \r\nL 270.164062 42.7555 \r\nQ 270.164062 40.7555 268.164062 40.7555 \r\nL 73.007812 40.7555 \r\nQ 71.007812 40.7555 71.007812 42.7555 \r\nL 71.007812 67.984562 \r\nQ 71.007812 69.984562 73.007812 69.984562 \r\nz\r\n\" style=\"fill:#ffffff;opacity:0.8;stroke:#cccccc;stroke-linejoin:miter;\"/>\r\n    </g>\r\n    <g id=\"line2d_202\">\r\n     <path d=\"M 75.007812 55.66925 \r\nL 95.007812 55.66925 \r\n\" style=\"fill:none;stroke:#1f77b4;stroke-linecap:square;stroke-width:1.5;\"/>\r\n    </g>\r\n    <g id=\"line2d_203\"/>\r\n    <g id=\"text_32\">\r\n     <!-- Fitted Weibull_3P -->\r\n     <g transform=\"translate(103.007812 52.353937)scale(0.1 -0.1)\">\r\n      <defs>\r\n       <path d=\"M 45.40625 46.390625 \r\nL 45.40625 75.984375 \r\nL 54.390625 75.984375 \r\nL 54.390625 0 \r\nL 45.40625 0 \r\nL 45.40625 8.203125 \r\nQ 42.578125 3.328125 38.25 0.953125 \r\nQ 33.9375 -1.421875 27.875 -1.421875 \r\nQ 17.96875 -1.421875 11.734375 6.484375 \r\nQ 5.515625 14.40625 5.515625 27.296875 \r\nQ 5.515625 40.1875 11.734375 48.09375 \r\nQ 17.96875 56 27.875 56 \r\nQ 33.9375 56 38.25 53.625 \r\nQ 42.578125 51.265625 45.40625 46.390625 \r\nz\r\nM 14.796875 27.296875 \r\nQ 14.796875 17.390625 18.875 11.75 \r\nQ 22.953125 6.109375 30.078125 6.109375 \r\nQ 37.203125 6.109375 41.296875 11.75 \r\nQ 45.40625 17.390625 45.40625 27.296875 \r\nQ 45.40625 37.203125 41.296875 42.84375 \r\nQ 37.203125 48.484375 30.078125 48.484375 \r\nQ 22.953125 48.484375 18.875 42.84375 \r\nQ 14.796875 37.203125 14.796875 27.296875 \r\nz\r\n\" id=\"DejaVuSans-100\"/>\r\n       <path d=\"M 50.984375 -16.609375 \r\nL 50.984375 -23.578125 \r\nL -0.984375 -23.578125 \r\nL -0.984375 -16.609375 \r\nz\r\n\" id=\"DejaVuSans-95\"/>\r\n      </defs>\r\n      <use xlink:href=\"#DejaVuSans-70\"/>\r\n      <use x=\"50.269531\" xlink:href=\"#DejaVuSans-105\"/>\r\n      <use x=\"78.052734\" xlink:href=\"#DejaVuSans-116\"/>\r\n      <use x=\"117.261719\" xlink:href=\"#DejaVuSans-116\"/>\r\n      <use x=\"156.470703\" xlink:href=\"#DejaVuSans-101\"/>\r\n      <use x=\"217.994141\" xlink:href=\"#DejaVuSans-100\"/>\r\n      <use x=\"281.470703\" xlink:href=\"#DejaVuSans-32\"/>\r\n      <use x=\"313.257812\" xlink:href=\"#DejaVuSans-87\"/>\r\n      <use x=\"406.259766\" xlink:href=\"#DejaVuSans-101\"/>\r\n      <use x=\"467.783203\" xlink:href=\"#DejaVuSans-105\"/>\r\n      <use x=\"495.566406\" xlink:href=\"#DejaVuSans-98\"/>\r\n      <use x=\"559.042969\" xlink:href=\"#DejaVuSans-117\"/>\r\n      <use x=\"622.421875\" xlink:href=\"#DejaVuSans-108\"/>\r\n      <use x=\"650.205078\" xlink:href=\"#DejaVuSans-108\"/>\r\n      <use x=\"677.988281\" xlink:href=\"#DejaVuSans-95\"/>\r\n      <use x=\"727.988281\" xlink:href=\"#DejaVuSans-51\"/>\r\n      <use x=\"791.611328\" xlink:href=\"#DejaVuSans-80\"/>\r\n     </g>\r\n     <!-- (α=49.012, β=1.466, γ=24.634) -->\r\n     <g transform=\"translate(103.007812 63.904875)scale(0.1 -0.1)\">\r\n      <defs>\r\n       <path d=\"M 31 75.875 \r\nQ 24.46875 64.65625 21.28125 53.65625 \r\nQ 18.109375 42.671875 18.109375 31.390625 \r\nQ 18.109375 20.125 21.3125 9.0625 \r\nQ 24.515625 -2 31 -13.1875 \r\nL 23.1875 -13.1875 \r\nQ 15.875 -1.703125 12.234375 9.375 \r\nQ 8.59375 20.453125 8.59375 31.390625 \r\nQ 8.59375 42.28125 12.203125 53.3125 \r\nQ 15.828125 64.359375 23.1875 75.875 \r\nz\r\n\" id=\"DejaVuSans-40\"/>\r\n       <path d=\"M 41.3125 25.4375 \r\nL 39.15625 36.71875 \r\nQ 36.96875 48.296875 28.265625 48.296875 \r\nQ 21.734375 48.296875 18.75 42.921875 \r\nQ 14.984375 36.1875 14.984375 27.296875 \r\nQ 14.984375 16.546875 18.65625 11.421875 \r\nQ 22.359375 6.203125 28.265625 6.203125 \r\nQ 34.8125 6.203125 38.328125 16.609375 \r\nz\r\nM 46.34375 40.375 \r\nL 51.171875 54.6875 \r\nL 59.1875 54.6875 \r\nL 49.171875 25.046875 \r\nL 51.125 14.359375 \r\nQ 51.5625 11.96875 53.265625 9.96875 \r\nQ 55.28125 7.625 56.84375 7.625 \r\nL 61.140625 7.625 \r\nL 61.140625 0 \r\nL 55.765625 0 \r\nQ 51.171875 0 47.078125 4.109375 \r\nQ 45.0625 6.15625 44.234375 10.453125 \r\nQ 42 5.03125 37.40625 0.78125 \r\nQ 35.25 -1.21875 28.265625 -1.21875 \r\nQ 16.796875 -1.21875 11.234375 6.203125 \r\nQ 5.515625 13.875 5.515625 27.296875 \r\nQ 5.515625 41.65625 11.71875 48.390625 \r\nQ 18.609375 55.90625 28.265625 55.90625 \r\nQ 43.453125 55.90625 46.34375 40.375 \r\nz\r\n\" id=\"DejaVuSans-945\"/>\r\n       <path d=\"M 10.59375 45.40625 \r\nL 73.1875 45.40625 \r\nL 73.1875 37.203125 \r\nL 10.59375 37.203125 \r\nz\r\nM 10.59375 25.484375 \r\nL 73.1875 25.484375 \r\nL 73.1875 17.1875 \r\nL 10.59375 17.1875 \r\nz\r\n\" id=\"DejaVuSans-61\"/>\r\n       <path d=\"M 11.71875 12.40625 \r\nL 22.015625 12.40625 \r\nL 22.015625 4 \r\nL 14.015625 -11.625 \r\nL 7.71875 -11.625 \r\nL 11.71875 4 \r\nz\r\n\" id=\"DejaVuSans-44\"/>\r\n       <path d=\"M 18.40625 3.375 \r\nL 18.40625 -20.796875 \r\nL 9.375 -20.796875 \r\nL 9.375 54.34375 \r\nQ 9.375 76.609375 30.171875 76.609375 \r\nQ 51.375 76.609375 51.375 57.8125 \r\nQ 51.375 44.4375 42.96875 39.546875 \r\nQ 56.640625 35.15625 56.640625 22.125 \r\nQ 56.640625 -1.03125 33.109375 -1.03125 \r\nQ 22.75 -1.03125 18.40625 3.375 \r\nz\r\nM 18.40625 15.09375 \r\nQ 23.828125 6.640625 33.453125 6.640625 \r\nQ 47.515625 6.640625 47.515625 21.96875 \r\nQ 47.515625 35.75 24.859375 34.671875 \r\nL 24.859375 42.96875 \r\nQ 42.578125 42.96875 42.578125 58.59375 \r\nQ 42.578125 69.28125 31.15625 69.28125 \r\nQ 18.40625 69.28125 18.40625 54.046875 \r\nz\r\n\" id=\"DejaVuSans-946\"/>\r\n       <path d=\"M 17.625 46.09375 \r\nL 29.59375 12.3125 \r\nL 46.6875 54.6875 \r\nL 56.203125 54.6875 \r\nL 34.078125 0 \r\nL 34.078125 -20.796875 \r\nL 25.09375 -20.796875 \r\nL 25.09375 0 \r\nL 10.75 40.828125 \r\nQ 8.59375 46.96875 3.953125 46.96875 \r\nL 1.5625 46.96875 \r\nL 1.5625 54.6875 \r\nL 4.984375 54.6875 \r\nQ 14.59375 54.6875 17.625 46.09375 \r\nz\r\n\" id=\"DejaVuSans-947\"/>\r\n       <path d=\"M 8.015625 75.875 \r\nL 15.828125 75.875 \r\nQ 23.140625 64.359375 26.78125 53.3125 \r\nQ 30.421875 42.28125 30.421875 31.390625 \r\nQ 30.421875 20.453125 26.78125 9.375 \r\nQ 23.140625 -1.703125 15.828125 -13.1875 \r\nL 8.015625 -13.1875 \r\nQ 14.5 -2 17.703125 9.0625 \r\nQ 20.90625 20.125 20.90625 31.390625 \r\nQ 20.90625 42.671875 17.703125 53.65625 \r\nQ 14.5 64.65625 8.015625 75.875 \r\nz\r\n\" id=\"DejaVuSans-41\"/>\r\n      </defs>\r\n      <use xlink:href=\"#DejaVuSans-40\"/>\r\n      <use x=\"39.013672\" xlink:href=\"#DejaVuSans-945\"/>\r\n      <use x=\"104.931641\" xlink:href=\"#DejaVuSans-61\"/>\r\n      <use x=\"188.720703\" xlink:href=\"#DejaVuSans-52\"/>\r\n      <use x=\"252.34375\" xlink:href=\"#DejaVuSans-57\"/>\r\n      <use x=\"315.966797\" xlink:href=\"#DejaVuSans-46\"/>\r\n      <use x=\"347.753906\" xlink:href=\"#DejaVuSans-48\"/>\r\n      <use x=\"411.376953\" xlink:href=\"#DejaVuSans-49\"/>\r\n      <use x=\"475\" xlink:href=\"#DejaVuSans-50\"/>\r\n      <use x=\"538.623047\" xlink:href=\"#DejaVuSans-44\"/>\r\n      <use x=\"570.410156\" xlink:href=\"#DejaVuSans-32\"/>\r\n      <use x=\"602.197266\" xlink:href=\"#DejaVuSans-946\"/>\r\n      <use x=\"666.015625\" xlink:href=\"#DejaVuSans-61\"/>\r\n      <use x=\"749.804688\" xlink:href=\"#DejaVuSans-49\"/>\r\n      <use x=\"813.427734\" xlink:href=\"#DejaVuSans-46\"/>\r\n      <use x=\"845.214844\" xlink:href=\"#DejaVuSans-52\"/>\r\n      <use x=\"908.837891\" xlink:href=\"#DejaVuSans-54\"/>\r\n      <use x=\"972.460938\" xlink:href=\"#DejaVuSans-54\"/>\r\n      <use x=\"1036.083984\" xlink:href=\"#DejaVuSans-44\"/>\r\n      <use x=\"1067.871094\" xlink:href=\"#DejaVuSans-32\"/>\r\n      <use x=\"1099.658203\" xlink:href=\"#DejaVuSans-947\"/>\r\n      <use x=\"1158.837891\" xlink:href=\"#DejaVuSans-61\"/>\r\n      <use x=\"1242.626953\" xlink:href=\"#DejaVuSans-50\"/>\r\n      <use x=\"1306.25\" xlink:href=\"#DejaVuSans-52\"/>\r\n      <use x=\"1369.873047\" xlink:href=\"#DejaVuSans-46\"/>\r\n      <use x=\"1401.660156\" xlink:href=\"#DejaVuSans-54\"/>\r\n      <use x=\"1465.283203\" xlink:href=\"#DejaVuSans-51\"/>\r\n      <use x=\"1528.90625\" xlink:href=\"#DejaVuSans-52\"/>\r\n      <use x=\"1592.529297\" xlink:href=\"#DejaVuSans-41\"/>\r\n     </g>\r\n    </g>\r\n   </g>\r\n  </g>\r\n </g>\r\n <defs>\r\n  <clipPath id=\"pa9050272e5\">\r\n   <rect height=\"355.32\" width=\"502.2\" x=\"66.007812\" y=\"35.7555\"/>\r\n  </clipPath>\r\n </defs>\r\n</svg>\r\n",
      "image/png": "[encoded data removed]"
     },
     "metadata": {
      "needs_background": "light"
     }
    }
   ],
   "source": [
    "t_failures = []\n",
    "for timeline in fm2._timelines.values():\n",
    "    t_failures = np.append(t_failures, np.argmax(timeline['failure']))\n",
    "\n",
    "# Arange into failures and censored data\n",
    "failures = t_failures[t_failures > 0]\n",
    "censored = np.full(sum(t_failures==0), 200)\n",
    "\n",
    "# Fit the Weibull\n",
    "Fit_Weibull_3P(failures=failures, right_censored=censored)"
   ]
  },
  {
   "cell_type": "code",
   "execution_count": 10,
   "metadata": {},
   "outputs": [],
   "source": [
    "df2 = fm.mc_risk_df()"
   ]
  },
  {
   "cell_type": "code",
   "execution_count": 11,
   "metadata": {
    "tags": []
   },
   "outputs": [
    {
     "output_type": "stream",
     "name": "stderr",
     "text": "100%|██████████| 1000/1000 [00:20<00:00, 49.46it/s]\n100%|██████████| 1000/1000 [00:08<00:00, 111.99it/s]\n100%|██████████| 1000/1000 [00:05<00:00, 197.14it/s]\n100%|██████████| 1000/1000 [00:04<00:00, 215.96it/s]\n100%|██████████| 1000/1000 [00:04<00:00, 222.25it/s]\n100%|██████████| 1000/1000 [00:03<00:00, 288.27it/s]\n100%|██████████| 1000/1000 [00:03<00:00, 324.41it/s]\n100%|██████████| 1000/1000 [00:03<00:00, 317.61it/s]\n100%|██████████| 1000/1000 [00:03<00:00, 326.31it/s]\n"
    }
   ],
   "source": [
    "t_interval = dict()\n",
    "risk = dict()\n",
    "cost = dict()\n",
    "fm.reset()\n",
    "\n",
    "for i in range(1,10, 1):\n",
    "\n",
    "    # Set t_interval\n",
    "    fm.tasks['inspection'].t_interval = i\n",
    "    \n",
    "    fm.mc_timeline(t_end=100, n_iterations=1000)\n",
    "\n",
    "    cost[i] = fm.expected_costs()\n",
    "    cost[i]['inspection_interval'] = i\n",
    "\n",
    "    # Reset fm\n",
    "\n",
    "    fm.reset()"
   ]
  },
  {
   "cell_type": "code",
   "execution_count": 13,
   "metadata": {},
   "outputs": [
    {
     "output_type": "display_data",
     "data": {
      "application/vnd.plotly.v1+json": {
       "config": {
        "plotlyServerURL": "https://plot.ly"
       },
       "data": [
        {
         "hovertemplate": "source=inspection<br>inspection_interval=%{x}<br>cost=%{y}<extra></extra>",
         "legendgroup": "inspection",
         "line": {
          "color": "#636efa",
          "dash": "solid"
         },
         "mode": "lines",
         "name": "inspection",
         "orientation": "v",
         "showlegend": true,
         "type": "scatter",
         "x": [
          1,
          2,
          3,
          4,
          5,
          6,
          7,
          8,
          9
         ],
         "xaxis": "x",
         "y": [
          4950,
          2497.65,
          1650,
          1249.95,
          999.85,
          800,
          700,
          600,
          550
         ],
         "yaxis": "y"
        },
        {
         "hovertemplate": "source=ocr<br>inspection_interval=%{x}<br>cost=%{y}<extra></extra>",
         "legendgroup": "ocr",
         "line": {
          "color": "#EF553B",
          "dash": "solid"
         },
         "mode": "lines",
         "name": "ocr",
         "orientation": "v",
         "showlegend": true,
         "type": "scatter",
         "x": [
          1,
          2,
          3,
          4,
          5,
          6,
          7,
          8,
          9
         ],
         "xaxis": "x",
         "y": [
          250.3,
          251.5,
          248.2,
          242.5,
          236,
          220.9,
          211.9,
          184.7,
          164
         ],
         "yaxis": "y"
        },
        {
         "hovertemplate": "source=cm<br>inspection_interval=%{x}<br>cost=%{y}<extra></extra>",
         "legendgroup": "cm",
         "line": {
          "color": "#00cc96",
          "dash": "solid"
         },
         "mode": "lines",
         "name": "cm",
         "orientation": "v",
         "showlegend": true,
         "type": "scatter",
         "x": [
          1,
          2,
          3,
          4,
          5,
          6,
          7,
          8,
          9
         ],
         "xaxis": "x",
         "y": [
          0,
          0,
          0,
          35,
          260,
          655,
          1085,
          2060,
          2685
         ],
         "yaxis": "y"
        },
        {
         "hovertemplate": "source=risk<br>inspection_interval=%{x}<br>cost=%{y}<extra></extra>",
         "legendgroup": "risk",
         "line": {
          "color": "#ab63fa",
          "dash": "solid"
         },
         "mode": "lines",
         "name": "risk",
         "orientation": "v",
         "showlegend": true,
         "type": "scatter",
         "x": [
          1,
          2,
          3,
          4,
          5,
          6,
          7,
          8,
          9
         ],
         "xaxis": "x",
         "y": [
          0,
          0,
          0,
          350,
          2600,
          6550,
          10850,
          20600,
          26950
         ],
         "yaxis": "y"
        }
       ],
       "layout": {
        "legend": {
         "title": {
          "text": "source"
         },
         "tracegroupgap": 0
        },
        "template": {
         "data": {
          "bar": [
           {
            "error_x": {
             "color": "#2a3f5f"
            },
            "error_y": {
             "color": "#2a3f5f"
            },
            "marker": {
             "line": {
              "color": "#E5ECF6",
              "width": 0.5
             }
            },
            "type": "bar"
           }
          ],
          "barpolar": [
           {
            "marker": {
             "line": {
              "color": "#E5ECF6",
              "width": 0.5
             }
            },
            "type": "barpolar"
           }
          ],
          "carpet": [
           {
            "aaxis": {
             "endlinecolor": "#2a3f5f",
             "gridcolor": "white",
             "linecolor": "white",
             "minorgridcolor": "white",
             "startlinecolor": "#2a3f5f"
            },
            "baxis": {
             "endlinecolor": "#2a3f5f",
             "gridcolor": "white",
             "linecolor": "white",
             "minorgridcolor": "white",
             "startlinecolor": "#2a3f5f"
            },
            "type": "carpet"
           }
          ],
          "choropleth": [
           {
            "colorbar": {
             "outlinewidth": 0,
             "ticks": ""
            },
            "type": "choropleth"
           }
          ],
          "contour": [
           {
            "colorbar": {
             "outlinewidth": 0,
             "ticks": ""
            },
            "colorscale": [
             [
              0,
              "#0d0887"
             ],
             [
              0.1111111111111111,
              "#46039f"
             ],
             [
              0.2222222222222222,
              "#7201a8"
             ],
             [
              0.3333333333333333,
              "#9c179e"
             ],
             [
              0.4444444444444444,
              "#bd3786"
             ],
             [
              0.5555555555555556,
              "#d8576b"
             ],
             [
              0.6666666666666666,
              "#ed7953"
             ],
             [
              0.7777777777777778,
              "#fb9f3a"
             ],
             [
              0.8888888888888888,
              "#fdca26"
             ],
             [
              1,
              "#f0f921"
             ]
            ],
            "type": "contour"
           }
          ],
          "contourcarpet": [
           {
            "colorbar": {
             "outlinewidth": 0,
             "ticks": ""
            },
            "type": "contourcarpet"
           }
          ],
          "heatmap": [
           {
            "colorbar": {
             "outlinewidth": 0,
             "ticks": ""
            },
            "colorscale": [
             [
              0,
              "#0d0887"
             ],
             [
              0.1111111111111111,
              "#46039f"
             ],
             [
              0.2222222222222222,
              "#7201a8"
             ],
             [
              0.3333333333333333,
              "#9c179e"
             ],
             [
              0.4444444444444444,
              "#bd3786"
             ],
             [
              0.5555555555555556,
              "#d8576b"
             ],
             [
              0.6666666666666666,
              "#ed7953"
             ],
             [
              0.7777777777777778,
              "#fb9f3a"
             ],
             [
              0.8888888888888888,
              "#fdca26"
             ],
             [
              1,
              "#f0f921"
             ]
            ],
            "type": "heatmap"
           }
          ],
          "heatmapgl": [
           {
            "colorbar": {
             "outlinewidth": 0,
             "ticks": ""
            },
            "colorscale": [
             [
              0,
              "#0d0887"
             ],
             [
              0.1111111111111111,
              "#46039f"
             ],
             [
              0.2222222222222222,
              "#7201a8"
             ],
             [
              0.3333333333333333,
              "#9c179e"
             ],
             [
              0.4444444444444444,
              "#bd3786"
             ],
             [
              0.5555555555555556,
              "#d8576b"
             ],
             [
              0.6666666666666666,
              "#ed7953"
             ],
             [
              0.7777777777777778,
              "#fb9f3a"
             ],
             [
              0.8888888888888888,
              "#fdca26"
             ],
             [
              1,
              "#f0f921"
             ]
            ],
            "type": "heatmapgl"
           }
          ],
          "histogram": [
           {
            "marker": {
             "colorbar": {
              "outlinewidth": 0,
              "ticks": ""
             }
            },
            "type": "histogram"
           }
          ],
          "histogram2d": [
           {
            "colorbar": {
             "outlinewidth": 0,
             "ticks": ""
            },
            "colorscale": [
             [
              0,
              "#0d0887"
             ],
             [
              0.1111111111111111,
              "#46039f"
             ],
             [
              0.2222222222222222,
              "#7201a8"
             ],
             [
              0.3333333333333333,
              "#9c179e"
             ],
             [
              0.4444444444444444,
              "#bd3786"
             ],
             [
              0.5555555555555556,
              "#d8576b"
             ],
             [
              0.6666666666666666,
              "#ed7953"
             ],
             [
              0.7777777777777778,
              "#fb9f3a"
             ],
             [
              0.8888888888888888,
              "#fdca26"
             ],
             [
              1,
              "#f0f921"
             ]
            ],
            "type": "histogram2d"
           }
          ],
          "histogram2dcontour": [
           {
            "colorbar": {
             "outlinewidth": 0,
             "ticks": ""
            },
            "colorscale": [
             [
              0,
              "#0d0887"
             ],
             [
              0.1111111111111111,
              "#46039f"
             ],
             [
              0.2222222222222222,
              "#7201a8"
             ],
             [
              0.3333333333333333,
              "#9c179e"
             ],
             [
              0.4444444444444444,
              "#bd3786"
             ],
             [
              0.5555555555555556,
              "#d8576b"
             ],
             [
              0.6666666666666666,
              "#ed7953"
             ],
             [
              0.7777777777777778,
              "#fb9f3a"
             ],
             [
              0.8888888888888888,
              "#fdca26"
             ],
             [
              1,
              "#f0f921"
             ]
            ],
            "type": "histogram2dcontour"
           }
          ],
          "mesh3d": [
           {
            "colorbar": {
             "outlinewidth": 0,
             "ticks": ""
            },
            "type": "mesh3d"
           }
          ],
          "parcoords": [
           {
            "line": {
             "colorbar": {
              "outlinewidth": 0,
              "ticks": ""
             }
            },
            "type": "parcoords"
           }
          ],
          "pie": [
           {
            "automargin": true,
            "type": "pie"
           }
          ],
          "scatter": [
           {
            "marker": {
             "colorbar": {
              "outlinewidth": 0,
              "ticks": ""
             }
            },
            "type": "scatter"
           }
          ],
          "scatter3d": [
           {
            "line": {
             "colorbar": {
              "outlinewidth": 0,
              "ticks": ""
             }
            },
            "marker": {
             "colorbar": {
              "outlinewidth": 0,
              "ticks": ""
             }
            },
            "type": "scatter3d"
           }
          ],
          "scattercarpet": [
           {
            "marker": {
             "colorbar": {
              "outlinewidth": 0,
              "ticks": ""
             }
            },
            "type": "scattercarpet"
           }
          ],
          "scattergeo": [
           {
            "marker": {
             "colorbar": {
              "outlinewidth": 0,
              "ticks": ""
             }
            },
            "type": "scattergeo"
           }
          ],
          "scattergl": [
           {
            "marker": {
             "colorbar": {
              "outlinewidth": 0,
              "ticks": ""
             }
            },
            "type": "scattergl"
           }
          ],
          "scattermapbox": [
           {
            "marker": {
             "colorbar": {
              "outlinewidth": 0,
              "ticks": ""
             }
            },
            "type": "scattermapbox"
           }
          ],
          "scatterpolar": [
           {
            "marker": {
             "colorbar": {
              "outlinewidth": 0,
              "ticks": ""
             }
            },
            "type": "scatterpolar"
           }
          ],
          "scatterpolargl": [
           {
            "marker": {
             "colorbar": {
              "outlinewidth": 0,
              "ticks": ""
             }
            },
            "type": "scatterpolargl"
           }
          ],
          "scatterternary": [
           {
            "marker": {
             "colorbar": {
              "outlinewidth": 0,
              "ticks": ""
             }
            },
            "type": "scatterternary"
           }
          ],
          "surface": [
           {
            "colorbar": {
             "outlinewidth": 0,
             "ticks": ""
            },
            "colorscale": [
             [
              0,
              "#0d0887"
             ],
             [
              0.1111111111111111,
              "#46039f"
             ],
             [
              0.2222222222222222,
              "#7201a8"
             ],
             [
              0.3333333333333333,
              "#9c179e"
             ],
             [
              0.4444444444444444,
              "#bd3786"
             ],
             [
              0.5555555555555556,
              "#d8576b"
             ],
             [
              0.6666666666666666,
              "#ed7953"
             ],
             [
              0.7777777777777778,
              "#fb9f3a"
             ],
             [
              0.8888888888888888,
              "#fdca26"
             ],
             [
              1,
              "#f0f921"
             ]
            ],
            "type": "surface"
           }
          ],
          "table": [
           {
            "cells": {
             "fill": {
              "color": "#EBF0F8"
             },
             "line": {
              "color": "white"
             }
            },
            "header": {
             "fill": {
              "color": "#C8D4E3"
             },
             "line": {
              "color": "white"
             }
            },
            "type": "table"
           }
          ]
         },
         "layout": {
          "annotationdefaults": {
           "arrowcolor": "#2a3f5f",
           "arrowhead": 0,
           "arrowwidth": 1
          },
          "coloraxis": {
           "colorbar": {
            "outlinewidth": 0,
            "ticks": ""
           }
          },
          "colorscale": {
           "diverging": [
            [
             0,
             "#8e0152"
            ],
            [
             0.1,
             "#c51b7d"
            ],
            [
             0.2,
             "#de77ae"
            ],
            [
             0.3,
             "#f1b6da"
            ],
            [
             0.4,
             "#fde0ef"
            ],
            [
             0.5,
             "#f7f7f7"
            ],
            [
             0.6,
             "#e6f5d0"
            ],
            [
             0.7,
             "#b8e186"
            ],
            [
             0.8,
             "#7fbc41"
            ],
            [
             0.9,
             "#4d9221"
            ],
            [
             1,
             "#276419"
            ]
           ],
           "sequential": [
            [
             0,
             "#0d0887"
            ],
            [
             0.1111111111111111,
             "#46039f"
            ],
            [
             0.2222222222222222,
             "#7201a8"
            ],
            [
             0.3333333333333333,
             "#9c179e"
            ],
            [
             0.4444444444444444,
             "#bd3786"
            ],
            [
             0.5555555555555556,
             "#d8576b"
            ],
            [
             0.6666666666666666,
             "#ed7953"
            ],
            [
             0.7777777777777778,
             "#fb9f3a"
            ],
            [
             0.8888888888888888,
             "#fdca26"
            ],
            [
             1,
             "#f0f921"
            ]
           ],
           "sequentialminus": [
            [
             0,
             "#0d0887"
            ],
            [
             0.1111111111111111,
             "#46039f"
            ],
            [
             0.2222222222222222,
             "#7201a8"
            ],
            [
             0.3333333333333333,
             "#9c179e"
            ],
            [
             0.4444444444444444,
             "#bd3786"
            ],
            [
             0.5555555555555556,
             "#d8576b"
            ],
            [
             0.6666666666666666,
             "#ed7953"
            ],
            [
             0.7777777777777778,
             "#fb9f3a"
            ],
            [
             0.8888888888888888,
             "#fdca26"
            ],
            [
             1,
             "#f0f921"
            ]
           ]
          },
          "colorway": [
           "#636efa",
           "#EF553B",
           "#00cc96",
           "#ab63fa",
           "#FFA15A",
           "#19d3f3",
           "#FF6692",
           "#B6E880",
           "#FF97FF",
           "#FECB52"
          ],
          "font": {
           "color": "#2a3f5f"
          },
          "geo": {
           "bgcolor": "white",
           "lakecolor": "white",
           "landcolor": "#E5ECF6",
           "showlakes": true,
           "showland": true,
           "subunitcolor": "white"
          },
          "hoverlabel": {
           "align": "left"
          },
          "hovermode": "closest",
          "mapbox": {
           "style": "light"
          },
          "paper_bgcolor": "white",
          "plot_bgcolor": "#E5ECF6",
          "polar": {
           "angularaxis": {
            "gridcolor": "white",
            "linecolor": "white",
            "ticks": ""
           },
           "bgcolor": "#E5ECF6",
           "radialaxis": {
            "gridcolor": "white",
            "linecolor": "white",
            "ticks": ""
           }
          },
          "scene": {
           "xaxis": {
            "backgroundcolor": "#E5ECF6",
            "gridcolor": "white",
            "gridwidth": 2,
            "linecolor": "white",
            "showbackground": true,
            "ticks": "",
            "zerolinecolor": "white"
           },
           "yaxis": {
            "backgroundcolor": "#E5ECF6",
            "gridcolor": "white",
            "gridwidth": 2,
            "linecolor": "white",
            "showbackground": true,
            "ticks": "",
            "zerolinecolor": "white"
           },
           "zaxis": {
            "backgroundcolor": "#E5ECF6",
            "gridcolor": "white",
            "gridwidth": 2,
            "linecolor": "white",
            "showbackground": true,
            "ticks": "",
            "zerolinecolor": "white"
           }
          },
          "shapedefaults": {
           "line": {
            "color": "#2a3f5f"
           }
          },
          "ternary": {
           "aaxis": {
            "gridcolor": "white",
            "linecolor": "white",
            "ticks": ""
           },
           "baxis": {
            "gridcolor": "white",
            "linecolor": "white",
            "ticks": ""
           },
           "bgcolor": "#E5ECF6",
           "caxis": {
            "gridcolor": "white",
            "linecolor": "white",
            "ticks": ""
           }
          },
          "title": {
           "x": 0.05
          },
          "xaxis": {
           "automargin": true,
           "gridcolor": "white",
           "linecolor": "white",
           "ticks": "",
           "title": {
            "standoff": 15
           },
           "zerolinecolor": "white",
           "zerolinewidth": 2
          },
          "yaxis": {
           "automargin": true,
           "gridcolor": "white",
           "linecolor": "white",
           "ticks": "",
           "title": {
            "standoff": 15
           },
           "zerolinecolor": "white",
           "zerolinewidth": 2
          }
         }
        },
        "title": {
         "text": "Risk v Cost at different Inspection Intervals"
        },
        "xaxis": {
         "anchor": "y",
         "domain": [
          0,
          1
         ],
         "title": {
          "text": "inspection_interval"
         }
        },
        "yaxis": {
         "anchor": "x",
         "domain": [
          0,
          1
         ],
         "title": {
          "text": "cost"
         }
        }
       }
      }
     },
     "metadata": {}
    }
   ],
   "source": [
    "df_plot = pd.DataFrame(cost).T\n",
    "\n",
    "df_plot = pd.melt(df_plot, id_vars=['inspection_interval'], var_name = 'source', value_name = 'cost')\n",
    "\n",
    "fig = px.line(df_plot, x=\"inspection_interval\", y=\"cost\", color='source', title='Risk v Cost at different Inspection Intervals')\n",
    "fig.show()"
   ]
  },
  {
   "cell_type": "code",
   "execution_count": null,
   "metadata": {},
   "outputs": [],
   "source": []
  },
  {
   "cell_type": "code",
   "execution_count": 70,
   "metadata": {},
   "outputs": [
    {
     "output_type": "execute_result",
     "data": {
      "text/plain": "True"
     },
     "metadata": {},
     "execution_count": 70
    }
   ],
   "source": [
    "# Tasks\n",
    "scheduled_inspection = Inspection(t_interval=10)\n",
    "\n",
    "scheduled_inspection.set_params(\n",
    "        t_interval = 5,\n",
    "        t_delay = 20,\n",
    "        p_effective = 0.5,\n",
    "        state_triggers = dict(),\n",
    "\n",
    "        condition_triggers = dict(\n",
    "            wall_thickness = dict(\n",
    "                lower = 0,\n",
    "                upper = 90,\n",
    "            ),\n",
    "        ),\n",
    "\n",
    "        state_impacts = dict( \n",
    "            detection = True,\n",
    "        ),\n",
    "\n",
    "        condition_impacts = dict(\n",
    "            wall_thickness = dict(\n",
    "                target = None,\n",
    "                reduction_factor = 0,\n",
    "                method = 'reduction_factor',\n",
    "                axis = 'condition',\n",
    "             ),\n",
    "        ),\n",
    ")\n",
    "\n",
    "\n",
    "# Failure Modes\n",
    "early_life = FailureMode(alpha=10000, beta=0.5, gamma=0)\n",
    "random = FailureMode(alpha=100, beta=1, gamma=0)\n",
    "slow_aging = FailureMode(alpha=100, beta=1.5, gamma=20)\n",
    "fast_aging = FailureMode(alpha=50, beta=3, gamma=20)\n",
    "\n",
    "fm_demo = random\n",
    "\n",
    "fm_demo.set_conditions(dict(\n",
    "    wall_thickness = Condition(100, 0, 'linear', [-5]),\n",
    "    external_diameter = Condition(100, 0, 'linear', [-5]),\n",
    "))\n",
    "\n",
    "fm_demo.set_tasks(dict(\n",
    "    inspection = scheduled_inspection,\n",
    "    #ocr = OnConditionRepair(activity='on_condition_repair').set_default(),\n",
    "    cm = ImmediateMaintenance(activity='cm').set_default(),\n",
    "))\n"
   ]
  },
  {
   "cell_type": "code",
   "execution_count": 71,
   "metadata": {
    "tags": []
   },
   "outputs": [
    {
     "output_type": "stream",
     "name": "stderr",
     "text": "100%|██████████| 100/100 [00:03<00:00, 26.71it/s]\n"
    },
    {
     "output_type": "display_data",
     "data": {
      "application/vnd.plotly.v1+json": {
       "config": {
        "plotlyServerURL": "https://plot.ly"
       },
       "data": [
        {
         "hovertemplate": "task=inspection<br>time=%{x}<br>cost_cumulative=%{y}<extra></extra>",
         "legendgroup": "inspection",
         "line": {
          "color": "#636efa"
         },
         "mode": "lines",
         "name": "inspection",
         "orientation": "v",
         "showlegend": true,
         "stackgroup": "1",
         "type": "scatter",
         "x": [
          0,
          1,
          2,
          3,
          4,
          5,
          6,
          7,
          8,
          9,
          10,
          11,
          12,
          13,
          14,
          15,
          16,
          17,
          18,
          19,
          20,
          21,
          22,
          23,
          24,
          25,
          26,
          27,
          28,
          29,
          30,
          31,
          32,
          33,
          34,
          35,
          36,
          37,
          38,
          39,
          40,
          41,
          42,
          43,
          44,
          45,
          46,
          47,
          48,
          49,
          50,
          51,
          52,
          53,
          54,
          55,
          56,
          57,
          58,
          59,
          60,
          61,
          62,
          63,
          64,
          65,
          66,
          67,
          68,
          69,
          70,
          71,
          72,
          73,
          74,
          75,
          76,
          77,
          78,
          79,
          80,
          81,
          82,
          83,
          84,
          85,
          86,
          87,
          88,
          89,
          90,
          91,
          92,
          93,
          94,
          95,
          96,
          97,
          98,
          99,
          100,
          101,
          102,
          103,
          104,
          105,
          106,
          107,
          108,
          109,
          110,
          111,
          112,
          113,
          114,
          115,
          116,
          117,
          118,
          119,
          120,
          121,
          122,
          123,
          124,
          125,
          126,
          127,
          128,
          129,
          130,
          131,
          132,
          133,
          134,
          135,
          136,
          137,
          138,
          139,
          140,
          141,
          142,
          143,
          144,
          145,
          146,
          147,
          148,
          149,
          150,
          151,
          152,
          153,
          154,
          155,
          156,
          157,
          158,
          159,
          160,
          161,
          162,
          163,
          164,
          165,
          166,
          167,
          168,
          169,
          170,
          171,
          172,
          173,
          174,
          175,
          176,
          177,
          178,
          179,
          180,
          181,
          182,
          183,
          184,
          185,
          186,
          187,
          188,
          189,
          190,
          191,
          192,
          193,
          194,
          195,
          196,
          197,
          198,
          199
         ],
         "xaxis": "x",
         "y": [
          0,
          0,
          0,
          0,
          0,
          100,
          100,
          100,
          100,
          100,
          200,
          200,
          200,
          200,
          200,
          300,
          300,
          300,
          300,
          300,
          400,
          400,
          400,
          400,
          400,
          500,
          500,
          500,
          500,
          500,
          600,
          600,
          600,
          600,
          600,
          700,
          700,
          700,
          700,
          700,
          800,
          800,
          800,
          800,
          800,
          900,
          900,
          900,
          900,
          900,
          1000,
          1000,
          1000,
          1000,
          1000,
          1100,
          1100,
          1100,
          1100,
          1100,
          1200,
          1200,
          1200,
          1200,
          1200,
          1300,
          1300,
          1300,
          1300,
          1300,
          1400,
          1400,
          1400,
          1400,
          1400,
          1500,
          1500,
          1500,
          1500,
          1500,
          1600,
          1600,
          1600,
          1600,
          1600,
          1700,
          1700,
          1700,
          1700,
          1700,
          1800,
          1800,
          1800,
          1800,
          1800,
          1900,
          1900,
          1900,
          1900,
          1900,
          2000,
          2000,
          2000,
          2000,
          2000,
          2100,
          2100,
          2100,
          2100,
          2100,
          2200,
          2200,
          2200,
          2200,
          2200,
          2300,
          2300,
          2300,
          2300,
          2300,
          2400,
          2400,
          2400,
          2400,
          2400,
          2500,
          2500,
          2500,
          2500,
          2500,
          2600,
          2600,
          2600,
          2600,
          2600,
          2700,
          2700,
          2700,
          2700,
          2700,
          2800,
          2800,
          2800,
          2800,
          2800,
          2900,
          2900,
          2900,
          2900,
          2900,
          3000,
          3000,
          3000,
          3000,
          3000,
          3100,
          3100,
          3100,
          3100,
          3100,
          3200,
          3200,
          3200,
          3200,
          3200,
          3300,
          3300,
          3300,
          3300,
          3300,
          3400,
          3400,
          3400,
          3400,
          3400,
          3500,
          3500,
          3500,
          3500,
          3500,
          3600,
          3600,
          3600,
          3600,
          3600,
          3700,
          3700,
          3700,
          3700,
          3700,
          3800,
          3800,
          3800,
          3800,
          3800,
          3900,
          3900,
          3900,
          3900,
          3900
         ],
         "yaxis": "y"
        },
        {
         "hovertemplate": "task=ocr<br>time=%{x}<br>cost_cumulative=%{y}<extra></extra>",
         "legendgroup": "ocr",
         "line": {
          "color": "#EF553B"
         },
         "mode": "lines",
         "name": "ocr",
         "orientation": "v",
         "showlegend": true,
         "stackgroup": "1",
         "type": "scatter",
         "x": [
          0,
          1,
          2,
          3,
          4,
          5,
          6,
          7,
          8,
          9,
          10,
          11,
          12,
          13,
          14,
          15,
          16,
          17,
          18,
          19,
          20,
          21,
          22,
          23,
          24,
          25,
          26,
          27,
          28,
          29,
          30,
          31,
          32,
          33,
          34,
          35,
          36,
          37,
          38,
          39,
          40,
          41,
          42,
          43,
          44,
          45,
          46,
          47,
          48,
          49,
          50,
          51,
          52,
          53,
          54,
          55,
          56,
          57,
          58,
          59,
          60,
          61,
          62,
          63,
          64,
          65,
          66,
          67,
          68,
          69,
          70,
          71,
          72,
          73,
          74,
          75,
          76,
          77,
          78,
          79,
          80,
          81,
          82,
          83,
          84,
          85,
          86,
          87,
          88,
          89,
          90,
          91,
          92,
          93,
          94,
          95,
          96,
          97,
          98,
          99,
          100,
          101,
          102,
          103,
          104,
          105,
          106,
          107,
          108,
          109,
          110,
          111,
          112,
          113,
          114,
          115,
          116,
          117,
          118,
          119,
          120,
          121,
          122,
          123,
          124,
          125,
          126,
          127,
          128,
          129,
          130,
          131,
          132,
          133,
          134,
          135,
          136,
          137,
          138,
          139,
          140,
          141,
          142,
          143,
          144,
          145,
          146,
          147,
          148,
          149,
          150,
          151,
          152,
          153,
          154,
          155,
          156,
          157,
          158,
          159,
          160,
          161,
          162,
          163,
          164,
          165,
          166,
          167,
          168,
          169,
          170,
          171,
          172,
          173,
          174,
          175,
          176,
          177,
          178,
          179,
          180,
          181,
          182,
          183,
          184,
          185,
          186,
          187,
          188,
          189,
          190,
          191,
          192,
          193,
          194,
          195,
          196,
          197,
          198,
          199
         ],
         "xaxis": "x",
         "y": [
          0,
          0,
          0,
          0,
          0,
          0,
          0,
          0,
          0,
          0,
          0,
          0,
          0,
          0,
          0,
          0,
          0,
          0,
          0,
          0,
          0,
          0,
          0,
          0,
          0,
          0,
          0,
          0,
          0,
          0,
          0,
          0,
          0,
          0,
          0,
          0,
          0,
          0,
          0,
          0,
          0,
          0,
          0,
          0,
          0,
          0,
          0,
          0,
          0,
          0,
          0,
          0,
          0,
          0,
          0,
          0,
          0,
          0,
          0,
          0,
          0,
          0,
          0,
          0,
          0,
          0,
          0,
          0,
          0,
          0,
          0,
          0,
          0,
          0,
          0,
          0,
          0,
          0,
          0,
          0,
          0,
          0,
          0,
          0,
          0,
          0,
          0,
          0,
          0,
          0,
          0,
          0,
          0,
          0,
          0,
          0,
          0,
          0,
          0,
          0,
          0,
          0,
          0,
          0,
          0,
          0,
          0,
          0,
          0,
          0,
          0,
          0,
          0,
          0,
          0,
          0,
          0,
          0,
          0,
          0,
          0,
          0,
          0,
          0,
          0,
          0,
          0,
          0,
          0,
          0,
          0,
          0,
          0,
          0,
          0,
          0,
          0,
          0,
          0,
          0,
          0,
          0,
          0,
          0,
          0,
          0,
          0,
          0,
          0,
          0,
          0,
          0,
          0,
          0,
          0,
          0,
          0,
          0,
          0,
          0,
          0,
          0,
          0,
          0,
          0,
          0,
          0,
          0,
          0,
          0,
          0,
          0,
          0,
          0,
          0,
          0,
          0,
          0,
          0,
          0,
          0,
          0,
          0,
          0,
          0,
          0,
          0,
          0,
          0,
          0,
          0,
          0,
          0,
          0,
          0,
          0,
          0,
          0,
          0,
          0
         ],
         "yaxis": "y"
        },
        {
         "hovertemplate": "task=cm<br>time=%{x}<br>cost_cumulative=%{y}<extra></extra>",
         "legendgroup": "cm",
         "line": {
          "color": "#00cc96"
         },
         "mode": "lines",
         "name": "cm",
         "orientation": "v",
         "showlegend": true,
         "stackgroup": "1",
         "type": "scatter",
         "x": [
          0,
          1,
          2,
          3,
          4,
          5,
          6,
          7,
          8,
          9,
          10,
          11,
          12,
          13,
          14,
          15,
          16,
          17,
          18,
          19,
          20,
          21,
          22,
          23,
          24,
          25,
          26,
          27,
          28,
          29,
          30,
          31,
          32,
          33,
          34,
          35,
          36,
          37,
          38,
          39,
          40,
          41,
          42,
          43,
          44,
          45,
          46,
          47,
          48,
          49,
          50,
          51,
          52,
          53,
          54,
          55,
          56,
          57,
          58,
          59,
          60,
          61,
          62,
          63,
          64,
          65,
          66,
          67,
          68,
          69,
          70,
          71,
          72,
          73,
          74,
          75,
          76,
          77,
          78,
          79,
          80,
          81,
          82,
          83,
          84,
          85,
          86,
          87,
          88,
          89,
          90,
          91,
          92,
          93,
          94,
          95,
          96,
          97,
          98,
          99,
          100,
          101,
          102,
          103,
          104,
          105,
          106,
          107,
          108,
          109,
          110,
          111,
          112,
          113,
          114,
          115,
          116,
          117,
          118,
          119,
          120,
          121,
          122,
          123,
          124,
          125,
          126,
          127,
          128,
          129,
          130,
          131,
          132,
          133,
          134,
          135,
          136,
          137,
          138,
          139,
          140,
          141,
          142,
          143,
          144,
          145,
          146,
          147,
          148,
          149,
          150,
          151,
          152,
          153,
          154,
          155,
          156,
          157,
          158,
          159,
          160,
          161,
          162,
          163,
          164,
          165,
          166,
          167,
          168,
          169,
          170,
          171,
          172,
          173,
          174,
          175,
          176,
          177,
          178,
          179,
          180,
          181,
          182,
          183,
          184,
          185,
          186,
          187,
          188,
          189,
          190,
          191,
          192,
          193,
          194,
          195,
          196,
          197,
          198,
          199
         ],
         "xaxis": "x",
         "y": [
          0,
          0,
          0,
          0,
          0,
          0,
          0,
          0,
          0,
          0,
          0,
          100,
          150,
          150,
          200,
          250,
          350,
          400,
          400,
          400,
          400,
          500,
          600,
          700,
          750,
          800,
          800,
          900,
          1050,
          1100,
          1100,
          1250,
          1500,
          1600,
          1700,
          1700,
          1750,
          1800,
          1800,
          1900,
          2050,
          2100,
          2100,
          2150,
          2150,
          2350,
          2350,
          2400,
          2550,
          2550,
          2550,
          2700,
          2800,
          3050,
          3150,
          3200,
          3250,
          3300,
          3450,
          3550,
          3550,
          3700,
          3850,
          3900,
          4050,
          4100,
          4250,
          4300,
          4400,
          4500,
          4700,
          4700,
          4750,
          4900,
          4900,
          5000,
          5050,
          5200,
          5300,
          5400,
          5500,
          5650,
          5800,
          5900,
          6000,
          6050,
          6250,
          6300,
          6300,
          6450,
          6450,
          6700,
          6750,
          6900,
          6950,
          7150,
          7300,
          7350,
          7350,
          7450,
          7500,
          7600,
          7750,
          7850,
          7950,
          8000,
          8000,
          8150,
          8200,
          8250,
          8250,
          8350,
          8450,
          8550,
          8650,
          8850,
          8950,
          9100,
          9100,
          9200,
          9250,
          9300,
          9350,
          9400,
          9550,
          9700,
          9750,
          10000,
          10150,
          10300,
          10300,
          10500,
          10600,
          10700,
          10750,
          10750,
          11050,
          11250,
          11400,
          11400,
          11500,
          11600,
          11650,
          11700,
          11700,
          11900,
          12100,
          12250,
          12350,
          12350,
          12400,
          12400,
          12550,
          12600,
          12750,
          12900,
          12950,
          13000,
          13200,
          13250,
          13350,
          13450,
          13500,
          13500,
          13550,
          13700,
          13750,
          13900,
          13950,
          14000,
          14200,
          14300,
          14400,
          14450,
          14550,
          14750,
          14750,
          14800,
          14900,
          14950,
          15000,
          15200,
          15300,
          15400,
          15450,
          15500,
          15550,
          15600,
          15650,
          15800,
          15800,
          15900,
          15950,
          16150,
          16300,
          16450,
          16450,
          16650,
          16750,
          16850
         ],
         "yaxis": "y"
        }
       ],
       "layout": {
        "legend": {
         "title": {
          "text": "task"
         },
         "tracegroupgap": 0
        },
        "template": {
         "data": {
          "bar": [
           {
            "error_x": {
             "color": "#2a3f5f"
            },
            "error_y": {
             "color": "#2a3f5f"
            },
            "marker": {
             "line": {
              "color": "#E5ECF6",
              "width": 0.5
             }
            },
            "type": "bar"
           }
          ],
          "barpolar": [
           {
            "marker": {
             "line": {
              "color": "#E5ECF6",
              "width": 0.5
             }
            },
            "type": "barpolar"
           }
          ],
          "carpet": [
           {
            "aaxis": {
             "endlinecolor": "#2a3f5f",
             "gridcolor": "white",
             "linecolor": "white",
             "minorgridcolor": "white",
             "startlinecolor": "#2a3f5f"
            },
            "baxis": {
             "endlinecolor": "#2a3f5f",
             "gridcolor": "white",
             "linecolor": "white",
             "minorgridcolor": "white",
             "startlinecolor": "#2a3f5f"
            },
            "type": "carpet"
           }
          ],
          "choropleth": [
           {
            "colorbar": {
             "outlinewidth": 0,
             "ticks": ""
            },
            "type": "choropleth"
           }
          ],
          "contour": [
           {
            "colorbar": {
             "outlinewidth": 0,
             "ticks": ""
            },
            "colorscale": [
             [
              0,
              "#0d0887"
             ],
             [
              0.1111111111111111,
              "#46039f"
             ],
             [
              0.2222222222222222,
              "#7201a8"
             ],
             [
              0.3333333333333333,
              "#9c179e"
             ],
             [
              0.4444444444444444,
              "#bd3786"
             ],
             [
              0.5555555555555556,
              "#d8576b"
             ],
             [
              0.6666666666666666,
              "#ed7953"
             ],
             [
              0.7777777777777778,
              "#fb9f3a"
             ],
             [
              0.8888888888888888,
              "#fdca26"
             ],
             [
              1,
              "#f0f921"
             ]
            ],
            "type": "contour"
           }
          ],
          "contourcarpet": [
           {
            "colorbar": {
             "outlinewidth": 0,
             "ticks": ""
            },
            "type": "contourcarpet"
           }
          ],
          "heatmap": [
           {
            "colorbar": {
             "outlinewidth": 0,
             "ticks": ""
            },
            "colorscale": [
             [
              0,
              "#0d0887"
             ],
             [
              0.1111111111111111,
              "#46039f"
             ],
             [
              0.2222222222222222,
              "#7201a8"
             ],
             [
              0.3333333333333333,
              "#9c179e"
             ],
             [
              0.4444444444444444,
              "#bd3786"
             ],
             [
              0.5555555555555556,
              "#d8576b"
             ],
             [
              0.6666666666666666,
              "#ed7953"
             ],
             [
              0.7777777777777778,
              "#fb9f3a"
             ],
             [
              0.8888888888888888,
              "#fdca26"
             ],
             [
              1,
              "#f0f921"
             ]
            ],
            "type": "heatmap"
           }
          ],
          "heatmapgl": [
           {
            "colorbar": {
             "outlinewidth": 0,
             "ticks": ""
            },
            "colorscale": [
             [
              0,
              "#0d0887"
             ],
             [
              0.1111111111111111,
              "#46039f"
             ],
             [
              0.2222222222222222,
              "#7201a8"
             ],
             [
              0.3333333333333333,
              "#9c179e"
             ],
             [
              0.4444444444444444,
              "#bd3786"
             ],
             [
              0.5555555555555556,
              "#d8576b"
             ],
             [
              0.6666666666666666,
              "#ed7953"
             ],
             [
              0.7777777777777778,
              "#fb9f3a"
             ],
             [
              0.8888888888888888,
              "#fdca26"
             ],
             [
              1,
              "#f0f921"
             ]
            ],
            "type": "heatmapgl"
           }
          ],
          "histogram": [
           {
            "marker": {
             "colorbar": {
              "outlinewidth": 0,
              "ticks": ""
             }
            },
            "type": "histogram"
           }
          ],
          "histogram2d": [
           {
            "colorbar": {
             "outlinewidth": 0,
             "ticks": ""
            },
            "colorscale": [
             [
              0,
              "#0d0887"
             ],
             [
              0.1111111111111111,
              "#46039f"
             ],
             [
              0.2222222222222222,
              "#7201a8"
             ],
             [
              0.3333333333333333,
              "#9c179e"
             ],
             [
              0.4444444444444444,
              "#bd3786"
             ],
             [
              0.5555555555555556,
              "#d8576b"
             ],
             [
              0.6666666666666666,
              "#ed7953"
             ],
             [
              0.7777777777777778,
              "#fb9f3a"
             ],
             [
              0.8888888888888888,
              "#fdca26"
             ],
             [
              1,
              "#f0f921"
             ]
            ],
            "type": "histogram2d"
           }
          ],
          "histogram2dcontour": [
           {
            "colorbar": {
             "outlinewidth": 0,
             "ticks": ""
            },
            "colorscale": [
             [
              0,
              "#0d0887"
             ],
             [
              0.1111111111111111,
              "#46039f"
             ],
             [
              0.2222222222222222,
              "#7201a8"
             ],
             [
              0.3333333333333333,
              "#9c179e"
             ],
             [
              0.4444444444444444,
              "#bd3786"
             ],
             [
              0.5555555555555556,
              "#d8576b"
             ],
             [
              0.6666666666666666,
              "#ed7953"
             ],
             [
              0.7777777777777778,
              "#fb9f3a"
             ],
             [
              0.8888888888888888,
              "#fdca26"
             ],
             [
              1,
              "#f0f921"
             ]
            ],
            "type": "histogram2dcontour"
           }
          ],
          "mesh3d": [
           {
            "colorbar": {
             "outlinewidth": 0,
             "ticks": ""
            },
            "type": "mesh3d"
           }
          ],
          "parcoords": [
           {
            "line": {
             "colorbar": {
              "outlinewidth": 0,
              "ticks": ""
             }
            },
            "type": "parcoords"
           }
          ],
          "pie": [
           {
            "automargin": true,
            "type": "pie"
           }
          ],
          "scatter": [
           {
            "marker": {
             "colorbar": {
              "outlinewidth": 0,
              "ticks": ""
             }
            },
            "type": "scatter"
           }
          ],
          "scatter3d": [
           {
            "line": {
             "colorbar": {
              "outlinewidth": 0,
              "ticks": ""
             }
            },
            "marker": {
             "colorbar": {
              "outlinewidth": 0,
              "ticks": ""
             }
            },
            "type": "scatter3d"
           }
          ],
          "scattercarpet": [
           {
            "marker": {
             "colorbar": {
              "outlinewidth": 0,
              "ticks": ""
             }
            },
            "type": "scattercarpet"
           }
          ],
          "scattergeo": [
           {
            "marker": {
             "colorbar": {
              "outlinewidth": 0,
              "ticks": ""
             }
            },
            "type": "scattergeo"
           }
          ],
          "scattergl": [
           {
            "marker": {
             "colorbar": {
              "outlinewidth": 0,
              "ticks": ""
             }
            },
            "type": "scattergl"
           }
          ],
          "scattermapbox": [
           {
            "marker": {
             "colorbar": {
              "outlinewidth": 0,
              "ticks": ""
             }
            },
            "type": "scattermapbox"
           }
          ],
          "scatterpolar": [
           {
            "marker": {
             "colorbar": {
              "outlinewidth": 0,
              "ticks": ""
             }
            },
            "type": "scatterpolar"
           }
          ],
          "scatterpolargl": [
           {
            "marker": {
             "colorbar": {
              "outlinewidth": 0,
              "ticks": ""
             }
            },
            "type": "scatterpolargl"
           }
          ],
          "scatterternary": [
           {
            "marker": {
             "colorbar": {
              "outlinewidth": 0,
              "ticks": ""
             }
            },
            "type": "scatterternary"
           }
          ],
          "surface": [
           {
            "colorbar": {
             "outlinewidth": 0,
             "ticks": ""
            },
            "colorscale": [
             [
              0,
              "#0d0887"
             ],
             [
              0.1111111111111111,
              "#46039f"
             ],
             [
              0.2222222222222222,
              "#7201a8"
             ],
             [
              0.3333333333333333,
              "#9c179e"
             ],
             [
              0.4444444444444444,
              "#bd3786"
             ],
             [
              0.5555555555555556,
              "#d8576b"
             ],
             [
              0.6666666666666666,
              "#ed7953"
             ],
             [
              0.7777777777777778,
              "#fb9f3a"
             ],
             [
              0.8888888888888888,
              "#fdca26"
             ],
             [
              1,
              "#f0f921"
             ]
            ],
            "type": "surface"
           }
          ],
          "table": [
           {
            "cells": {
             "fill": {
              "color": "#EBF0F8"
             },
             "line": {
              "color": "white"
             }
            },
            "header": {
             "fill": {
              "color": "#C8D4E3"
             },
             "line": {
              "color": "white"
             }
            },
            "type": "table"
           }
          ]
         },
         "layout": {
          "annotationdefaults": {
           "arrowcolor": "#2a3f5f",
           "arrowhead": 0,
           "arrowwidth": 1
          },
          "coloraxis": {
           "colorbar": {
            "outlinewidth": 0,
            "ticks": ""
           }
          },
          "colorscale": {
           "diverging": [
            [
             0,
             "#8e0152"
            ],
            [
             0.1,
             "#c51b7d"
            ],
            [
             0.2,
             "#de77ae"
            ],
            [
             0.3,
             "#f1b6da"
            ],
            [
             0.4,
             "#fde0ef"
            ],
            [
             0.5,
             "#f7f7f7"
            ],
            [
             0.6,
             "#e6f5d0"
            ],
            [
             0.7,
             "#b8e186"
            ],
            [
             0.8,
             "#7fbc41"
            ],
            [
             0.9,
             "#4d9221"
            ],
            [
             1,
             "#276419"
            ]
           ],
           "sequential": [
            [
             0,
             "#0d0887"
            ],
            [
             0.1111111111111111,
             "#46039f"
            ],
            [
             0.2222222222222222,
             "#7201a8"
            ],
            [
             0.3333333333333333,
             "#9c179e"
            ],
            [
             0.4444444444444444,
             "#bd3786"
            ],
            [
             0.5555555555555556,
             "#d8576b"
            ],
            [
             0.6666666666666666,
             "#ed7953"
            ],
            [
             0.7777777777777778,
             "#fb9f3a"
            ],
            [
             0.8888888888888888,
             "#fdca26"
            ],
            [
             1,
             "#f0f921"
            ]
           ],
           "sequentialminus": [
            [
             0,
             "#0d0887"
            ],
            [
             0.1111111111111111,
             "#46039f"
            ],
            [
             0.2222222222222222,
             "#7201a8"
            ],
            [
             0.3333333333333333,
             "#9c179e"
            ],
            [
             0.4444444444444444,
             "#bd3786"
            ],
            [
             0.5555555555555556,
             "#d8576b"
            ],
            [
             0.6666666666666666,
             "#ed7953"
            ],
            [
             0.7777777777777778,
             "#fb9f3a"
            ],
            [
             0.8888888888888888,
             "#fdca26"
            ],
            [
             1,
             "#f0f921"
            ]
           ]
          },
          "colorway": [
           "#636efa",
           "#EF553B",
           "#00cc96",
           "#ab63fa",
           "#FFA15A",
           "#19d3f3",
           "#FF6692",
           "#B6E880",
           "#FF97FF",
           "#FECB52"
          ],
          "font": {
           "color": "#2a3f5f"
          },
          "geo": {
           "bgcolor": "white",
           "lakecolor": "white",
           "landcolor": "#E5ECF6",
           "showlakes": true,
           "showland": true,
           "subunitcolor": "white"
          },
          "hoverlabel": {
           "align": "left"
          },
          "hovermode": "closest",
          "mapbox": {
           "style": "light"
          },
          "paper_bgcolor": "white",
          "plot_bgcolor": "#E5ECF6",
          "polar": {
           "angularaxis": {
            "gridcolor": "white",
            "linecolor": "white",
            "ticks": ""
           },
           "bgcolor": "#E5ECF6",
           "radialaxis": {
            "gridcolor": "white",
            "linecolor": "white",
            "ticks": ""
           }
          },
          "scene": {
           "xaxis": {
            "backgroundcolor": "#E5ECF6",
            "gridcolor": "white",
            "gridwidth": 2,
            "linecolor": "white",
            "showbackground": true,
            "ticks": "",
            "zerolinecolor": "white"
           },
           "yaxis": {
            "backgroundcolor": "#E5ECF6",
            "gridcolor": "white",
            "gridwidth": 2,
            "linecolor": "white",
            "showbackground": true,
            "ticks": "",
            "zerolinecolor": "white"
           },
           "zaxis": {
            "backgroundcolor": "#E5ECF6",
            "gridcolor": "white",
            "gridwidth": 2,
            "linecolor": "white",
            "showbackground": true,
            "ticks": "",
            "zerolinecolor": "white"
           }
          },
          "shapedefaults": {
           "line": {
            "color": "#2a3f5f"
           }
          },
          "ternary": {
           "aaxis": {
            "gridcolor": "white",
            "linecolor": "white",
            "ticks": ""
           },
           "baxis": {
            "gridcolor": "white",
            "linecolor": "white",
            "ticks": ""
           },
           "bgcolor": "#E5ECF6",
           "caxis": {
            "gridcolor": "white",
            "linecolor": "white",
            "ticks": ""
           }
          },
          "title": {
           "x": 0.05
          },
          "xaxis": {
           "automargin": true,
           "gridcolor": "white",
           "linecolor": "white",
           "ticks": "",
           "title": {
            "standoff": 15
           },
           "zerolinecolor": "white",
           "zerolinewidth": 2
          },
          "yaxis": {
           "automargin": true,
           "gridcolor": "white",
           "linecolor": "white",
           "ticks": "",
           "title": {
            "standoff": 15
           },
           "zerolinecolor": "white",
           "zerolinewidth": 2
          }
         }
        },
        "title": {
         "text": "Maintenance Strategy Costs"
        },
        "xaxis": {
         "anchor": "y",
         "domain": [
          0,
          1
         ],
         "title": {
          "text": "time"
         }
        },
        "yaxis": {
         "anchor": "x",
         "domain": [
          0,
          1
         ],
         "title": {
          "text": "cost_cumulative"
         }
        }
       }
      }
     },
     "metadata": {}
    }
   ],
   "source": [
    "fm_demo.mc_timeline(1000)\n",
    "\n",
    "df = fm_demo.expected_cost_df()\n",
    "\n",
    "fig = px.area(df, x=\"time\", y=\"cost_cumulative\", color=\"task\", title='Maintenance Strategy Costs')\n",
    "fig.show()"
   ]
  },
  {
   "cell_type": "code",
   "execution_count": null,
   "metadata": {},
   "outputs": [],
   "source": []
  },
  {
   "cell_type": "code",
   "execution_count": null,
   "metadata": {},
   "outputs": [],
   "source": []
  }
 ],
 "metadata": {
  "language_info": {
   "codemirror_mode": {
    "name": "ipython",
    "version": 3
   },
   "file_extension": ".py",
   "mimetype": "text/x-python",
   "name": "python",
   "nbconvert_exporter": "python",
   "pygments_lexer": "ipython3",
   "version": "3.7.3-final"
  },
  "orig_nbformat": 2,
  "kernelspec": {
   "name": "python_defaultSpec_1596664714484",
   "display_name": "Python 3.8.3 64-bit ('base': conda)"
  }
 },
 "nbformat": 4,
 "nbformat_minor": 2
}