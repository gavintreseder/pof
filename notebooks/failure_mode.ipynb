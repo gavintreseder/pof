{
 "cells": [
  {
   "cell_type": "markdown",
   "metadata": {},
   "source": [
    "# Failure Mode Demonstration Notebook\n",
    "\n",
    "A notebook to demonstrate some of the features of the Failure Mode class\n",
    "\n",
    "Author: gavin.treseder@essentialenergy.com.au"
   ]
  },
  {
   "cell_type": "code",
   "execution_count": 5,
   "metadata": {},
   "outputs": [],
   "source": [
    "#  Add root folder to python path\n",
    "import sys\n",
    "import os\n",
    "sys.path.append(os.path.dirname(os.getcwd()))\n",
    "\n",
    "# Add some common packages\n",
    "import numpy as np\n",
    "import pandas as pd\n",
    "import math\n",
    "import scipy.stats as ss\n",
    "from matplotlib import pyplot as plt\n",
    "import seaborn as sns\n",
    "from tqdm import tqdm\n",
    "import copy\n",
    "\n",
    "import plotly.express as px\n",
    "from reliability.Fitters import Fit_Weibull_3P"
   ]
  },
  {
   "cell_type": "code",
   "execution_count": 6,
   "metadata": {},
   "outputs": [],
   "source": [
    "# Set up the failure mode class\n",
    "from pof.failure_mode import FailureMode\n",
    "from pof.condition import Condition\n",
    "from pof.task import *\n",
    "\n",
    "fm = FailureMode().set_demo()"
   ]
  },
  {
   "cell_type": "markdown",
   "metadata": {},
   "source": [
    "## Single timeline\n",
    "Generate a single timeline to show the state of the failure mode, its condition and the days until a task is triggered over time."
   ]
  },
  {
   "cell_type": "code",
   "execution_count": 7,
   "metadata": {
    "tags": []
   },
   "outputs": [
    {
     "output_type": "display_data",
     "data": {
      "text/plain": "<Figure size 1728x288 with 3 Axes>",
      "image/svg+xml": "<?xml version=\"1.0\" encoding=\"utf-8\" standalone=\"no\"?>\r\n<!DOCTYPE svg PUBLIC \"-//W3C//DTD SVG 1.1//EN\"\r\n  \"http://www.w3.org/Graphics/SVG/1.1/DTD/svg11.dtd\">\r\n<!-- Created with matplotlib (https://matplotlib.org/) -->\r\n<svg height=\"263.63625pt\" version=\"1.1\" viewBox=\"0 0 1376.503125 263.63625\" width=\"1376.503125pt\" xmlns=\"http://www.w3.org/2000/svg\" xmlns:xlink=\"http://www.w3.org/1999/xlink\">\r\n <metadata>\r\n  <rdf:RDF xmlns:cc=\"http://creativecommons.org/ns#\" xmlns:dc=\"http://purl.org/dc/elements/1.1/\" xmlns:rdf=\"http://www.w3.org/1999/02/22-rdf-syntax-ns#\">\r\n   <cc:Work>\r\n    <dc:type rdf:resource=\"http://purl.org/dc/dcmitype/StillImage\"/>\r\n    <dc:date>2020-09-06T10:04:45.046754</dc:date>\r\n    <dc:format>image/svg+xml</dc:format>\r\n    <dc:creator>\r\n     <cc:Agent>\r\n      <dc:title>Matplotlib v3.3.0, https://matplotlib.org/</dc:title>\r\n     </cc:Agent>\r\n    </dc:creator>\r\n   </cc:Work>\r\n  </rdf:RDF>\r\n </metadata>\r\n <defs>\r\n  <style type=\"text/css\">*{stroke-linecap:butt;stroke-linejoin:round;}</style>\r\n </defs>\r\n <g id=\"figure_1\">\r\n  <g id=\"patch_1\">\r\n   <path d=\"M 0 263.63625 \r\nL 1376.503125 263.63625 \r\nL 1376.503125 0 \r\nL 0 0 \r\nz\r\n\" style=\"fill:none;\"/>\r\n  </g>\r\n  <g id=\"axes_1\">\r\n   <g id=\"patch_2\">\r\n    <path d=\"M 30.103125 239.758125 \r\nL 423.985478 239.758125 \r\nL 423.985478 22.318125 \r\nL 30.103125 22.318125 \r\nz\r\n\" style=\"fill:#ffffff;\"/>\r\n   </g>\r\n   <g id=\"matplotlib.axis_1\">\r\n    <g id=\"xtick_1\">\r\n     <g id=\"line2d_1\">\r\n      <defs>\r\n       <path d=\"M 0 0 \r\nL 0 3.5 \r\n\" id=\"m2fd38efbdf\" style=\"stroke:#000000;stroke-width:0.8;\"/>\r\n      </defs>\r\n      <g>\r\n       <use style=\"stroke:#000000;stroke-width:0.8;\" x=\"48.006868\" xlink:href=\"#m2fd38efbdf\" y=\"239.758125\"/>\r\n      </g>\r\n     </g>\r\n     <g id=\"text_1\">\r\n      <!-- 0 -->\r\n      <g transform=\"translate(44.825618 254.356563)scale(0.1 -0.1)\">\r\n       <defs>\r\n        <path d=\"M 31.78125 66.40625 \r\nQ 24.171875 66.40625 20.328125 58.90625 \r\nQ 16.5 51.421875 16.5 36.375 \r\nQ 16.5 21.390625 20.328125 13.890625 \r\nQ 24.171875 6.390625 31.78125 6.390625 \r\nQ 39.453125 6.390625 43.28125 13.890625 \r\nQ 47.125 21.390625 47.125 36.375 \r\nQ 47.125 51.421875 43.28125 58.90625 \r\nQ 39.453125 66.40625 31.78125 66.40625 \r\nz\r\nM 31.78125 74.21875 \r\nQ 44.046875 74.21875 50.515625 64.515625 \r\nQ 56.984375 54.828125 56.984375 36.375 \r\nQ 56.984375 17.96875 50.515625 8.265625 \r\nQ 44.046875 -1.421875 31.78125 -1.421875 \r\nQ 19.53125 -1.421875 13.0625 8.265625 \r\nQ 6.59375 17.96875 6.59375 36.375 \r\nQ 6.59375 54.828125 13.0625 64.515625 \r\nQ 19.53125 74.21875 31.78125 74.21875 \r\nz\r\n\" id=\"DejaVuSans-48\"/>\r\n       </defs>\r\n       <use xlink:href=\"#DejaVuSans-48\"/>\r\n      </g>\r\n     </g>\r\n    </g>\r\n    <g id=\"xtick_2\">\r\n     <g id=\"line2d_2\">\r\n      <g>\r\n       <use style=\"stroke:#000000;stroke-width:0.8;\" x=\"92.766227\" xlink:href=\"#m2fd38efbdf\" y=\"239.758125\"/>\r\n      </g>\r\n     </g>\r\n     <g id=\"text_2\">\r\n      <!-- 25 -->\r\n      <g transform=\"translate(86.403727 254.356563)scale(0.1 -0.1)\">\r\n       <defs>\r\n        <path d=\"M 19.1875 8.296875 \r\nL 53.609375 8.296875 \r\nL 53.609375 0 \r\nL 7.328125 0 \r\nL 7.328125 8.296875 \r\nQ 12.9375 14.109375 22.625 23.890625 \r\nQ 32.328125 33.6875 34.8125 36.53125 \r\nQ 39.546875 41.84375 41.421875 45.53125 \r\nQ 43.3125 49.21875 43.3125 52.78125 \r\nQ 43.3125 58.59375 39.234375 62.25 \r\nQ 35.15625 65.921875 28.609375 65.921875 \r\nQ 23.96875 65.921875 18.8125 64.3125 \r\nQ 13.671875 62.703125 7.8125 59.421875 \r\nL 7.8125 69.390625 \r\nQ 13.765625 71.78125 18.9375 73 \r\nQ 24.125 74.21875 28.421875 74.21875 \r\nQ 39.75 74.21875 46.484375 68.546875 \r\nQ 53.21875 62.890625 53.21875 53.421875 \r\nQ 53.21875 48.921875 51.53125 44.890625 \r\nQ 49.859375 40.875 45.40625 35.40625 \r\nQ 44.1875 33.984375 37.640625 27.21875 \r\nQ 31.109375 20.453125 19.1875 8.296875 \r\nz\r\n\" id=\"DejaVuSans-50\"/>\r\n        <path d=\"M 10.796875 72.90625 \r\nL 49.515625 72.90625 \r\nL 49.515625 64.59375 \r\nL 19.828125 64.59375 \r\nL 19.828125 46.734375 \r\nQ 21.96875 47.46875 24.109375 47.828125 \r\nQ 26.265625 48.1875 28.421875 48.1875 \r\nQ 40.625 48.1875 47.75 41.5 \r\nQ 54.890625 34.8125 54.890625 23.390625 \r\nQ 54.890625 11.625 47.5625 5.09375 \r\nQ 40.234375 -1.421875 26.90625 -1.421875 \r\nQ 22.3125 -1.421875 17.546875 -0.640625 \r\nQ 12.796875 0.140625 7.71875 1.703125 \r\nL 7.71875 11.625 \r\nQ 12.109375 9.234375 16.796875 8.0625 \r\nQ 21.484375 6.890625 26.703125 6.890625 \r\nQ 35.15625 6.890625 40.078125 11.328125 \r\nQ 45.015625 15.765625 45.015625 23.390625 \r\nQ 45.015625 31 40.078125 35.4375 \r\nQ 35.15625 39.890625 26.703125 39.890625 \r\nQ 22.75 39.890625 18.8125 39.015625 \r\nQ 14.890625 38.140625 10.796875 36.28125 \r\nz\r\n\" id=\"DejaVuSans-53\"/>\r\n       </defs>\r\n       <use xlink:href=\"#DejaVuSans-50\"/>\r\n       <use x=\"63.623047\" xlink:href=\"#DejaVuSans-53\"/>\r\n      </g>\r\n     </g>\r\n    </g>\r\n    <g id=\"xtick_3\">\r\n     <g id=\"line2d_3\">\r\n      <g>\r\n       <use style=\"stroke:#000000;stroke-width:0.8;\" x=\"137.525585\" xlink:href=\"#m2fd38efbdf\" y=\"239.758125\"/>\r\n      </g>\r\n     </g>\r\n     <g id=\"text_3\">\r\n      <!-- 50 -->\r\n      <g transform=\"translate(131.163085 254.356563)scale(0.1 -0.1)\">\r\n       <use xlink:href=\"#DejaVuSans-53\"/>\r\n       <use x=\"63.623047\" xlink:href=\"#DejaVuSans-48\"/>\r\n      </g>\r\n     </g>\r\n    </g>\r\n    <g id=\"xtick_4\">\r\n     <g id=\"line2d_4\">\r\n      <g>\r\n       <use style=\"stroke:#000000;stroke-width:0.8;\" x=\"182.284943\" xlink:href=\"#m2fd38efbdf\" y=\"239.758125\"/>\r\n      </g>\r\n     </g>\r\n     <g id=\"text_4\">\r\n      <!-- 75 -->\r\n      <g transform=\"translate(175.922443 254.356563)scale(0.1 -0.1)\">\r\n       <defs>\r\n        <path d=\"M 8.203125 72.90625 \r\nL 55.078125 72.90625 \r\nL 55.078125 68.703125 \r\nL 28.609375 0 \r\nL 18.3125 0 \r\nL 43.21875 64.59375 \r\nL 8.203125 64.59375 \r\nz\r\n\" id=\"DejaVuSans-55\"/>\r\n       </defs>\r\n       <use xlink:href=\"#DejaVuSans-55\"/>\r\n       <use x=\"63.623047\" xlink:href=\"#DejaVuSans-53\"/>\r\n      </g>\r\n     </g>\r\n    </g>\r\n    <g id=\"xtick_5\">\r\n     <g id=\"line2d_5\">\r\n      <g>\r\n       <use style=\"stroke:#000000;stroke-width:0.8;\" x=\"227.044301\" xlink:href=\"#m2fd38efbdf\" y=\"239.758125\"/>\r\n      </g>\r\n     </g>\r\n     <g id=\"text_5\">\r\n      <!-- 100 -->\r\n      <g transform=\"translate(217.500551 254.356563)scale(0.1 -0.1)\">\r\n       <defs>\r\n        <path d=\"M 12.40625 8.296875 \r\nL 28.515625 8.296875 \r\nL 28.515625 63.921875 \r\nL 10.984375 60.40625 \r\nL 10.984375 69.390625 \r\nL 28.421875 72.90625 \r\nL 38.28125 72.90625 \r\nL 38.28125 8.296875 \r\nL 54.390625 8.296875 \r\nL 54.390625 0 \r\nL 12.40625 0 \r\nz\r\n\" id=\"DejaVuSans-49\"/>\r\n       </defs>\r\n       <use xlink:href=\"#DejaVuSans-49\"/>\r\n       <use x=\"63.623047\" xlink:href=\"#DejaVuSans-48\"/>\r\n       <use x=\"127.246094\" xlink:href=\"#DejaVuSans-48\"/>\r\n      </g>\r\n     </g>\r\n    </g>\r\n    <g id=\"xtick_6\">\r\n     <g id=\"line2d_6\">\r\n      <g>\r\n       <use style=\"stroke:#000000;stroke-width:0.8;\" x=\"271.80366\" xlink:href=\"#m2fd38efbdf\" y=\"239.758125\"/>\r\n      </g>\r\n     </g>\r\n     <g id=\"text_6\">\r\n      <!-- 125 -->\r\n      <g transform=\"translate(262.25991 254.356563)scale(0.1 -0.1)\">\r\n       <use xlink:href=\"#DejaVuSans-49\"/>\r\n       <use x=\"63.623047\" xlink:href=\"#DejaVuSans-50\"/>\r\n       <use x=\"127.246094\" xlink:href=\"#DejaVuSans-53\"/>\r\n      </g>\r\n     </g>\r\n    </g>\r\n    <g id=\"xtick_7\">\r\n     <g id=\"line2d_7\">\r\n      <g>\r\n       <use style=\"stroke:#000000;stroke-width:0.8;\" x=\"316.563018\" xlink:href=\"#m2fd38efbdf\" y=\"239.758125\"/>\r\n      </g>\r\n     </g>\r\n     <g id=\"text_7\">\r\n      <!-- 150 -->\r\n      <g transform=\"translate(307.019268 254.356563)scale(0.1 -0.1)\">\r\n       <use xlink:href=\"#DejaVuSans-49\"/>\r\n       <use x=\"63.623047\" xlink:href=\"#DejaVuSans-53\"/>\r\n       <use x=\"127.246094\" xlink:href=\"#DejaVuSans-48\"/>\r\n      </g>\r\n     </g>\r\n    </g>\r\n    <g id=\"xtick_8\">\r\n     <g id=\"line2d_8\">\r\n      <g>\r\n       <use style=\"stroke:#000000;stroke-width:0.8;\" x=\"361.322376\" xlink:href=\"#m2fd38efbdf\" y=\"239.758125\"/>\r\n      </g>\r\n     </g>\r\n     <g id=\"text_8\">\r\n      <!-- 175 -->\r\n      <g transform=\"translate(351.778626 254.356563)scale(0.1 -0.1)\">\r\n       <use xlink:href=\"#DejaVuSans-49\"/>\r\n       <use x=\"63.623047\" xlink:href=\"#DejaVuSans-55\"/>\r\n       <use x=\"127.246094\" xlink:href=\"#DejaVuSans-53\"/>\r\n      </g>\r\n     </g>\r\n    </g>\r\n    <g id=\"xtick_9\">\r\n     <g id=\"line2d_9\">\r\n      <g>\r\n       <use style=\"stroke:#000000;stroke-width:0.8;\" x=\"406.081735\" xlink:href=\"#m2fd38efbdf\" y=\"239.758125\"/>\r\n      </g>\r\n     </g>\r\n     <g id=\"text_9\">\r\n      <!-- 200 -->\r\n      <g transform=\"translate(396.537985 254.356563)scale(0.1 -0.1)\">\r\n       <use xlink:href=\"#DejaVuSans-50\"/>\r\n       <use x=\"63.623047\" xlink:href=\"#DejaVuSans-48\"/>\r\n       <use x=\"127.246094\" xlink:href=\"#DejaVuSans-48\"/>\r\n      </g>\r\n     </g>\r\n    </g>\r\n   </g>\r\n   <g id=\"matplotlib.axis_2\">\r\n    <g id=\"ytick_1\">\r\n     <g id=\"line2d_10\">\r\n      <defs>\r\n       <path d=\"M 0 0 \r\nL -3.5 0 \r\n\" id=\"mba88f2cb19\" style=\"stroke:#000000;stroke-width:0.8;\"/>\r\n      </defs>\r\n      <g>\r\n       <use style=\"stroke:#000000;stroke-width:0.8;\" x=\"30.103125\" xlink:href=\"#mba88f2cb19\" y=\"229.874489\"/>\r\n      </g>\r\n     </g>\r\n     <g id=\"text_10\">\r\n      <!-- 0.0 -->\r\n      <g transform=\"translate(7.2 233.673707)scale(0.1 -0.1)\">\r\n       <defs>\r\n        <path d=\"M 10.6875 12.40625 \r\nL 21 12.40625 \r\nL 21 0 \r\nL 10.6875 0 \r\nz\r\n\" id=\"DejaVuSans-46\"/>\r\n       </defs>\r\n       <use xlink:href=\"#DejaVuSans-48\"/>\r\n       <use x=\"63.623047\" xlink:href=\"#DejaVuSans-46\"/>\r\n       <use x=\"95.410156\" xlink:href=\"#DejaVuSans-48\"/>\r\n      </g>\r\n     </g>\r\n    </g>\r\n    <g id=\"ytick_2\">\r\n     <g id=\"line2d_11\">\r\n      <g>\r\n       <use style=\"stroke:#000000;stroke-width:0.8;\" x=\"30.103125\" xlink:href=\"#mba88f2cb19\" y=\"190.339943\"/>\r\n      </g>\r\n     </g>\r\n     <g id=\"text_11\">\r\n      <!-- 0.2 -->\r\n      <g transform=\"translate(7.2 194.139162)scale(0.1 -0.1)\">\r\n       <use xlink:href=\"#DejaVuSans-48\"/>\r\n       <use x=\"63.623047\" xlink:href=\"#DejaVuSans-46\"/>\r\n       <use x=\"95.410156\" xlink:href=\"#DejaVuSans-50\"/>\r\n      </g>\r\n     </g>\r\n    </g>\r\n    <g id=\"ytick_3\">\r\n     <g id=\"line2d_12\">\r\n      <g>\r\n       <use style=\"stroke:#000000;stroke-width:0.8;\" x=\"30.103125\" xlink:href=\"#mba88f2cb19\" y=\"150.805398\"/>\r\n      </g>\r\n     </g>\r\n     <g id=\"text_12\">\r\n      <!-- 0.4 -->\r\n      <g transform=\"translate(7.2 154.604616)scale(0.1 -0.1)\">\r\n       <defs>\r\n        <path d=\"M 37.796875 64.3125 \r\nL 12.890625 25.390625 \r\nL 37.796875 25.390625 \r\nz\r\nM 35.203125 72.90625 \r\nL 47.609375 72.90625 \r\nL 47.609375 25.390625 \r\nL 58.015625 25.390625 \r\nL 58.015625 17.1875 \r\nL 47.609375 17.1875 \r\nL 47.609375 0 \r\nL 37.796875 0 \r\nL 37.796875 17.1875 \r\nL 4.890625 17.1875 \r\nL 4.890625 26.703125 \r\nz\r\n\" id=\"DejaVuSans-52\"/>\r\n       </defs>\r\n       <use xlink:href=\"#DejaVuSans-48\"/>\r\n       <use x=\"63.623047\" xlink:href=\"#DejaVuSans-46\"/>\r\n       <use x=\"95.410156\" xlink:href=\"#DejaVuSans-52\"/>\r\n      </g>\r\n     </g>\r\n    </g>\r\n    <g id=\"ytick_4\">\r\n     <g id=\"line2d_13\">\r\n      <g>\r\n       <use style=\"stroke:#000000;stroke-width:0.8;\" x=\"30.103125\" xlink:href=\"#mba88f2cb19\" y=\"111.270852\"/>\r\n      </g>\r\n     </g>\r\n     <g id=\"text_13\">\r\n      <!-- 0.6 -->\r\n      <g transform=\"translate(7.2 115.070071)scale(0.1 -0.1)\">\r\n       <defs>\r\n        <path d=\"M 33.015625 40.375 \r\nQ 26.375 40.375 22.484375 35.828125 \r\nQ 18.609375 31.296875 18.609375 23.390625 \r\nQ 18.609375 15.53125 22.484375 10.953125 \r\nQ 26.375 6.390625 33.015625 6.390625 \r\nQ 39.65625 6.390625 43.53125 10.953125 \r\nQ 47.40625 15.53125 47.40625 23.390625 \r\nQ 47.40625 31.296875 43.53125 35.828125 \r\nQ 39.65625 40.375 33.015625 40.375 \r\nz\r\nM 52.59375 71.296875 \r\nL 52.59375 62.3125 \r\nQ 48.875 64.0625 45.09375 64.984375 \r\nQ 41.3125 65.921875 37.59375 65.921875 \r\nQ 27.828125 65.921875 22.671875 59.328125 \r\nQ 17.53125 52.734375 16.796875 39.40625 \r\nQ 19.671875 43.65625 24.015625 45.921875 \r\nQ 28.375 48.1875 33.59375 48.1875 \r\nQ 44.578125 48.1875 50.953125 41.515625 \r\nQ 57.328125 34.859375 57.328125 23.390625 \r\nQ 57.328125 12.15625 50.6875 5.359375 \r\nQ 44.046875 -1.421875 33.015625 -1.421875 \r\nQ 20.359375 -1.421875 13.671875 8.265625 \r\nQ 6.984375 17.96875 6.984375 36.375 \r\nQ 6.984375 53.65625 15.1875 63.9375 \r\nQ 23.390625 74.21875 37.203125 74.21875 \r\nQ 40.921875 74.21875 44.703125 73.484375 \r\nQ 48.484375 72.75 52.59375 71.296875 \r\nz\r\n\" id=\"DejaVuSans-54\"/>\r\n       </defs>\r\n       <use xlink:href=\"#DejaVuSans-48\"/>\r\n       <use x=\"63.623047\" xlink:href=\"#DejaVuSans-46\"/>\r\n       <use x=\"95.410156\" xlink:href=\"#DejaVuSans-54\"/>\r\n      </g>\r\n     </g>\r\n    </g>\r\n    <g id=\"ytick_5\">\r\n     <g id=\"line2d_14\">\r\n      <g>\r\n       <use style=\"stroke:#000000;stroke-width:0.8;\" x=\"30.103125\" xlink:href=\"#mba88f2cb19\" y=\"71.736307\"/>\r\n      </g>\r\n     </g>\r\n     <g id=\"text_14\">\r\n      <!-- 0.8 -->\r\n      <g transform=\"translate(7.2 75.535526)scale(0.1 -0.1)\">\r\n       <defs>\r\n        <path d=\"M 31.78125 34.625 \r\nQ 24.75 34.625 20.71875 30.859375 \r\nQ 16.703125 27.09375 16.703125 20.515625 \r\nQ 16.703125 13.921875 20.71875 10.15625 \r\nQ 24.75 6.390625 31.78125 6.390625 \r\nQ 38.8125 6.390625 42.859375 10.171875 \r\nQ 46.921875 13.96875 46.921875 20.515625 \r\nQ 46.921875 27.09375 42.890625 30.859375 \r\nQ 38.875 34.625 31.78125 34.625 \r\nz\r\nM 21.921875 38.8125 \r\nQ 15.578125 40.375 12.03125 44.71875 \r\nQ 8.5 49.078125 8.5 55.328125 \r\nQ 8.5 64.0625 14.71875 69.140625 \r\nQ 20.953125 74.21875 31.78125 74.21875 \r\nQ 42.671875 74.21875 48.875 69.140625 \r\nQ 55.078125 64.0625 55.078125 55.328125 \r\nQ 55.078125 49.078125 51.53125 44.71875 \r\nQ 48 40.375 41.703125 38.8125 \r\nQ 48.828125 37.15625 52.796875 32.3125 \r\nQ 56.78125 27.484375 56.78125 20.515625 \r\nQ 56.78125 9.90625 50.3125 4.234375 \r\nQ 43.84375 -1.421875 31.78125 -1.421875 \r\nQ 19.734375 -1.421875 13.25 4.234375 \r\nQ 6.78125 9.90625 6.78125 20.515625 \r\nQ 6.78125 27.484375 10.78125 32.3125 \r\nQ 14.796875 37.15625 21.921875 38.8125 \r\nz\r\nM 18.3125 54.390625 \r\nQ 18.3125 48.734375 21.84375 45.5625 \r\nQ 25.390625 42.390625 31.78125 42.390625 \r\nQ 38.140625 42.390625 41.71875 45.5625 \r\nQ 45.3125 48.734375 45.3125 54.390625 \r\nQ 45.3125 60.0625 41.71875 63.234375 \r\nQ 38.140625 66.40625 31.78125 66.40625 \r\nQ 25.390625 66.40625 21.84375 63.234375 \r\nQ 18.3125 60.0625 18.3125 54.390625 \r\nz\r\n\" id=\"DejaVuSans-56\"/>\r\n       </defs>\r\n       <use xlink:href=\"#DejaVuSans-48\"/>\r\n       <use x=\"63.623047\" xlink:href=\"#DejaVuSans-46\"/>\r\n       <use x=\"95.410156\" xlink:href=\"#DejaVuSans-56\"/>\r\n      </g>\r\n     </g>\r\n    </g>\r\n    <g id=\"ytick_6\">\r\n     <g id=\"line2d_15\">\r\n      <g>\r\n       <use style=\"stroke:#000000;stroke-width:0.8;\" x=\"30.103125\" xlink:href=\"#mba88f2cb19\" y=\"32.201761\"/>\r\n      </g>\r\n     </g>\r\n     <g id=\"text_15\">\r\n      <!-- 1.0 -->\r\n      <g transform=\"translate(7.2 36.00098)scale(0.1 -0.1)\">\r\n       <use xlink:href=\"#DejaVuSans-49\"/>\r\n       <use x=\"63.623047\" xlink:href=\"#DejaVuSans-46\"/>\r\n       <use x=\"95.410156\" xlink:href=\"#DejaVuSans-48\"/>\r\n      </g>\r\n     </g>\r\n    </g>\r\n   </g>\r\n   <g id=\"line2d_16\">\r\n    <path clip-path=\"url(#p78f1a85354)\" d=\"M 48.006868 229.874489 \r\nL 311.191895 229.874489 \r\nL 312.982269 32.201761 \r\nL 314.772644 32.201761 \r\nL 316.563018 229.874489 \r\nL 404.29136 229.874489 \r\nL 406.081735 32.201761 \r\nL 406.081735 32.201761 \r\n\" style=\"fill:none;stroke:#1f77b4;stroke-linecap:square;stroke-width:1.5;\"/>\r\n   </g>\r\n   <g id=\"line2d_17\">\r\n    <path clip-path=\"url(#p78f1a85354)\" d=\"M 48.006868 229.874489 \r\nL 406.081735 229.874489 \r\nL 406.081735 229.874489 \r\n\" style=\"fill:none;stroke:#ff7f0e;stroke-linecap:square;stroke-width:1.5;\"/>\r\n   </g>\r\n   <g id=\"line2d_18\">\r\n    <path clip-path=\"url(#p78f1a85354)\" d=\"M 48.006868 229.874489 \r\nL 312.982269 229.874489 \r\nL 314.772644 32.201761 \r\nL 316.563018 229.874489 \r\nL 406.081735 229.874489 \r\nL 406.081735 229.874489 \r\n\" style=\"fill:none;stroke:#2ca02c;stroke-linecap:square;stroke-width:1.5;\"/>\r\n   </g>\r\n   <g id=\"patch_3\">\r\n    <path d=\"M 30.103125 239.758125 \r\nL 30.103125 22.318125 \r\n\" style=\"fill:none;stroke:#000000;stroke-linecap:square;stroke-linejoin:miter;stroke-width:0.8;\"/>\r\n   </g>\r\n   <g id=\"patch_4\">\r\n    <path d=\"M 423.985478 239.758125 \r\nL 423.985478 22.318125 \r\n\" style=\"fill:none;stroke:#000000;stroke-linecap:square;stroke-linejoin:miter;stroke-width:0.8;\"/>\r\n   </g>\r\n   <g id=\"patch_5\">\r\n    <path d=\"M 30.103125 239.758125 \r\nL 423.985478 239.758125 \r\n\" style=\"fill:none;stroke:#000000;stroke-linecap:square;stroke-linejoin:miter;stroke-width:0.8;\"/>\r\n   </g>\r\n   <g id=\"patch_6\">\r\n    <path d=\"M 30.103125 22.318125 \r\nL 423.985478 22.318125 \r\n\" style=\"fill:none;stroke:#000000;stroke-linecap:square;stroke-linejoin:miter;stroke-width:0.8;\"/>\r\n   </g>\r\n   <g id=\"text_16\">\r\n    <!-- State -->\r\n    <g transform=\"translate(211.162114 16.318125)scale(0.12 -0.12)\">\r\n     <defs>\r\n      <path d=\"M 53.515625 70.515625 \r\nL 53.515625 60.890625 \r\nQ 47.90625 63.578125 42.921875 64.890625 \r\nQ 37.9375 66.21875 33.296875 66.21875 \r\nQ 25.25 66.21875 20.875 63.09375 \r\nQ 16.5 59.96875 16.5 54.203125 \r\nQ 16.5 49.359375 19.40625 46.890625 \r\nQ 22.3125 44.4375 30.421875 42.921875 \r\nL 36.375 41.703125 \r\nQ 47.40625 39.59375 52.65625 34.296875 \r\nQ 57.90625 29 57.90625 20.125 \r\nQ 57.90625 9.515625 50.796875 4.046875 \r\nQ 43.703125 -1.421875 29.984375 -1.421875 \r\nQ 24.8125 -1.421875 18.96875 -0.25 \r\nQ 13.140625 0.921875 6.890625 3.21875 \r\nL 6.890625 13.375 \r\nQ 12.890625 10.015625 18.65625 8.296875 \r\nQ 24.421875 6.59375 29.984375 6.59375 \r\nQ 38.421875 6.59375 43.015625 9.90625 \r\nQ 47.609375 13.234375 47.609375 19.390625 \r\nQ 47.609375 24.75 44.3125 27.78125 \r\nQ 41.015625 30.8125 33.5 32.328125 \r\nL 27.484375 33.5 \r\nQ 16.453125 35.6875 11.515625 40.375 \r\nQ 6.59375 45.0625 6.59375 53.421875 \r\nQ 6.59375 63.09375 13.40625 68.65625 \r\nQ 20.21875 74.21875 32.171875 74.21875 \r\nQ 37.3125 74.21875 42.625 73.28125 \r\nQ 47.953125 72.359375 53.515625 70.515625 \r\nz\r\n\" id=\"DejaVuSans-83\"/>\r\n      <path d=\"M 18.3125 70.21875 \r\nL 18.3125 54.6875 \r\nL 36.8125 54.6875 \r\nL 36.8125 47.703125 \r\nL 18.3125 47.703125 \r\nL 18.3125 18.015625 \r\nQ 18.3125 11.328125 20.140625 9.421875 \r\nQ 21.96875 7.515625 27.59375 7.515625 \r\nL 36.8125 7.515625 \r\nL 36.8125 0 \r\nL 27.59375 0 \r\nQ 17.1875 0 13.234375 3.875 \r\nQ 9.28125 7.765625 9.28125 18.015625 \r\nL 9.28125 47.703125 \r\nL 2.6875 47.703125 \r\nL 2.6875 54.6875 \r\nL 9.28125 54.6875 \r\nL 9.28125 70.21875 \r\nz\r\n\" id=\"DejaVuSans-116\"/>\r\n      <path d=\"M 34.28125 27.484375 \r\nQ 23.390625 27.484375 19.1875 25 \r\nQ 14.984375 22.515625 14.984375 16.5 \r\nQ 14.984375 11.71875 18.140625 8.90625 \r\nQ 21.296875 6.109375 26.703125 6.109375 \r\nQ 34.1875 6.109375 38.703125 11.40625 \r\nQ 43.21875 16.703125 43.21875 25.484375 \r\nL 43.21875 27.484375 \r\nz\r\nM 52.203125 31.203125 \r\nL 52.203125 0 \r\nL 43.21875 0 \r\nL 43.21875 8.296875 \r\nQ 40.140625 3.328125 35.546875 0.953125 \r\nQ 30.953125 -1.421875 24.3125 -1.421875 \r\nQ 15.921875 -1.421875 10.953125 3.296875 \r\nQ 6 8.015625 6 15.921875 \r\nQ 6 25.140625 12.171875 29.828125 \r\nQ 18.359375 34.515625 30.609375 34.515625 \r\nL 43.21875 34.515625 \r\nL 43.21875 35.40625 \r\nQ 43.21875 41.609375 39.140625 45 \r\nQ 35.0625 48.390625 27.6875 48.390625 \r\nQ 23 48.390625 18.546875 47.265625 \r\nQ 14.109375 46.140625 10.015625 43.890625 \r\nL 10.015625 52.203125 \r\nQ 14.9375 54.109375 19.578125 55.046875 \r\nQ 24.21875 56 28.609375 56 \r\nQ 40.484375 56 46.34375 49.84375 \r\nQ 52.203125 43.703125 52.203125 31.203125 \r\nz\r\n\" id=\"DejaVuSans-97\"/>\r\n      <path d=\"M 56.203125 29.59375 \r\nL 56.203125 25.203125 \r\nL 14.890625 25.203125 \r\nQ 15.484375 15.921875 20.484375 11.0625 \r\nQ 25.484375 6.203125 34.421875 6.203125 \r\nQ 39.59375 6.203125 44.453125 7.46875 \r\nQ 49.3125 8.734375 54.109375 11.28125 \r\nL 54.109375 2.78125 \r\nQ 49.265625 0.734375 44.1875 -0.34375 \r\nQ 39.109375 -1.421875 33.890625 -1.421875 \r\nQ 20.796875 -1.421875 13.15625 6.1875 \r\nQ 5.515625 13.8125 5.515625 26.8125 \r\nQ 5.515625 40.234375 12.765625 48.109375 \r\nQ 20.015625 56 32.328125 56 \r\nQ 43.359375 56 49.78125 48.890625 \r\nQ 56.203125 41.796875 56.203125 29.59375 \r\nz\r\nM 47.21875 32.234375 \r\nQ 47.125 39.59375 43.09375 43.984375 \r\nQ 39.0625 48.390625 32.421875 48.390625 \r\nQ 24.90625 48.390625 20.390625 44.140625 \r\nQ 15.875 39.890625 15.1875 32.171875 \r\nz\r\n\" id=\"DejaVuSans-101\"/>\r\n     </defs>\r\n     <use xlink:href=\"#DejaVuSans-83\"/>\r\n     <use x=\"63.476562\" xlink:href=\"#DejaVuSans-116\"/>\r\n     <use x=\"102.685547\" xlink:href=\"#DejaVuSans-97\"/>\r\n     <use x=\"163.964844\" xlink:href=\"#DejaVuSans-116\"/>\r\n     <use x=\"203.173828\" xlink:href=\"#DejaVuSans-101\"/>\r\n    </g>\r\n   </g>\r\n   <g id=\"legend_1\">\r\n    <g id=\"patch_7\">\r\n     <path d=\"M 37.103125 74.3525 \r\nL 116.33125 74.3525 \r\nQ 118.33125 74.3525 118.33125 72.3525 \r\nL 118.33125 29.318125 \r\nQ 118.33125 27.318125 116.33125 27.318125 \r\nL 37.103125 27.318125 \r\nQ 35.103125 27.318125 35.103125 29.318125 \r\nL 35.103125 72.3525 \r\nQ 35.103125 74.3525 37.103125 74.3525 \r\nz\r\n\" style=\"fill:#ffffff;opacity:0.8;stroke:#cccccc;stroke-linejoin:miter;\"/>\r\n    </g>\r\n    <g id=\"line2d_19\">\r\n     <path d=\"M 39.103125 35.416563 \r\nL 59.103125 35.416563 \r\n\" style=\"fill:none;stroke:#1f77b4;stroke-linecap:square;stroke-width:1.5;\"/>\r\n    </g>\r\n    <g id=\"line2d_20\"/>\r\n    <g id=\"text_17\">\r\n     <!-- initiation -->\r\n     <g transform=\"translate(67.103125 38.916563)scale(0.1 -0.1)\">\r\n      <defs>\r\n       <path d=\"M 9.421875 54.6875 \r\nL 18.40625 54.6875 \r\nL 18.40625 0 \r\nL 9.421875 0 \r\nz\r\nM 9.421875 75.984375 \r\nL 18.40625 75.984375 \r\nL 18.40625 64.59375 \r\nL 9.421875 64.59375 \r\nz\r\n\" id=\"DejaVuSans-105\"/>\r\n       <path d=\"M 54.890625 33.015625 \r\nL 54.890625 0 \r\nL 45.90625 0 \r\nL 45.90625 32.71875 \r\nQ 45.90625 40.484375 42.875 44.328125 \r\nQ 39.84375 48.1875 33.796875 48.1875 \r\nQ 26.515625 48.1875 22.3125 43.546875 \r\nQ 18.109375 38.921875 18.109375 30.90625 \r\nL 18.109375 0 \r\nL 9.078125 0 \r\nL 9.078125 54.6875 \r\nL 18.109375 54.6875 \r\nL 18.109375 46.1875 \r\nQ 21.34375 51.125 25.703125 53.5625 \r\nQ 30.078125 56 35.796875 56 \r\nQ 45.21875 56 50.046875 50.171875 \r\nQ 54.890625 44.34375 54.890625 33.015625 \r\nz\r\n\" id=\"DejaVuSans-110\"/>\r\n       <path d=\"M 30.609375 48.390625 \r\nQ 23.390625 48.390625 19.1875 42.75 \r\nQ 14.984375 37.109375 14.984375 27.296875 \r\nQ 14.984375 17.484375 19.15625 11.84375 \r\nQ 23.34375 6.203125 30.609375 6.203125 \r\nQ 37.796875 6.203125 41.984375 11.859375 \r\nQ 46.1875 17.53125 46.1875 27.296875 \r\nQ 46.1875 37.015625 41.984375 42.703125 \r\nQ 37.796875 48.390625 30.609375 48.390625 \r\nz\r\nM 30.609375 56 \r\nQ 42.328125 56 49.015625 48.375 \r\nQ 55.71875 40.765625 55.71875 27.296875 \r\nQ 55.71875 13.875 49.015625 6.21875 \r\nQ 42.328125 -1.421875 30.609375 -1.421875 \r\nQ 18.84375 -1.421875 12.171875 6.21875 \r\nQ 5.515625 13.875 5.515625 27.296875 \r\nQ 5.515625 40.765625 12.171875 48.375 \r\nQ 18.84375 56 30.609375 56 \r\nz\r\n\" id=\"DejaVuSans-111\"/>\r\n      </defs>\r\n      <use xlink:href=\"#DejaVuSans-105\"/>\r\n      <use x=\"27.783203\" xlink:href=\"#DejaVuSans-110\"/>\r\n      <use x=\"91.162109\" xlink:href=\"#DejaVuSans-105\"/>\r\n      <use x=\"118.945312\" xlink:href=\"#DejaVuSans-116\"/>\r\n      <use x=\"158.154297\" xlink:href=\"#DejaVuSans-105\"/>\r\n      <use x=\"185.9375\" xlink:href=\"#DejaVuSans-97\"/>\r\n      <use x=\"247.216797\" xlink:href=\"#DejaVuSans-116\"/>\r\n      <use x=\"286.425781\" xlink:href=\"#DejaVuSans-105\"/>\r\n      <use x=\"314.208984\" xlink:href=\"#DejaVuSans-111\"/>\r\n      <use x=\"375.390625\" xlink:href=\"#DejaVuSans-110\"/>\r\n     </g>\r\n    </g>\r\n    <g id=\"line2d_21\">\r\n     <path d=\"M 39.103125 50.094688 \r\nL 59.103125 50.094688 \r\n\" style=\"fill:none;stroke:#ff7f0e;stroke-linecap:square;stroke-width:1.5;\"/>\r\n    </g>\r\n    <g id=\"line2d_22\"/>\r\n    <g id=\"text_18\">\r\n     <!-- detection -->\r\n     <g transform=\"translate(67.103125 53.594688)scale(0.1 -0.1)\">\r\n      <defs>\r\n       <path d=\"M 45.40625 46.390625 \r\nL 45.40625 75.984375 \r\nL 54.390625 75.984375 \r\nL 54.390625 0 \r\nL 45.40625 0 \r\nL 45.40625 8.203125 \r\nQ 42.578125 3.328125 38.25 0.953125 \r\nQ 33.9375 -1.421875 27.875 -1.421875 \r\nQ 17.96875 -1.421875 11.734375 6.484375 \r\nQ 5.515625 14.40625 5.515625 27.296875 \r\nQ 5.515625 40.1875 11.734375 48.09375 \r\nQ 17.96875 56 27.875 56 \r\nQ 33.9375 56 38.25 53.625 \r\nQ 42.578125 51.265625 45.40625 46.390625 \r\nz\r\nM 14.796875 27.296875 \r\nQ 14.796875 17.390625 18.875 11.75 \r\nQ 22.953125 6.109375 30.078125 6.109375 \r\nQ 37.203125 6.109375 41.296875 11.75 \r\nQ 45.40625 17.390625 45.40625 27.296875 \r\nQ 45.40625 37.203125 41.296875 42.84375 \r\nQ 37.203125 48.484375 30.078125 48.484375 \r\nQ 22.953125 48.484375 18.875 42.84375 \r\nQ 14.796875 37.203125 14.796875 27.296875 \r\nz\r\n\" id=\"DejaVuSans-100\"/>\r\n       <path d=\"M 48.78125 52.59375 \r\nL 48.78125 44.1875 \r\nQ 44.96875 46.296875 41.140625 47.34375 \r\nQ 37.3125 48.390625 33.40625 48.390625 \r\nQ 24.65625 48.390625 19.8125 42.84375 \r\nQ 14.984375 37.3125 14.984375 27.296875 \r\nQ 14.984375 17.28125 19.8125 11.734375 \r\nQ 24.65625 6.203125 33.40625 6.203125 \r\nQ 37.3125 6.203125 41.140625 7.25 \r\nQ 44.96875 8.296875 48.78125 10.40625 \r\nL 48.78125 2.09375 \r\nQ 45.015625 0.34375 40.984375 -0.53125 \r\nQ 36.96875 -1.421875 32.421875 -1.421875 \r\nQ 20.0625 -1.421875 12.78125 6.34375 \r\nQ 5.515625 14.109375 5.515625 27.296875 \r\nQ 5.515625 40.671875 12.859375 48.328125 \r\nQ 20.21875 56 33.015625 56 \r\nQ 37.15625 56 41.109375 55.140625 \r\nQ 45.0625 54.296875 48.78125 52.59375 \r\nz\r\n\" id=\"DejaVuSans-99\"/>\r\n      </defs>\r\n      <use xlink:href=\"#DejaVuSans-100\"/>\r\n      <use x=\"63.476562\" xlink:href=\"#DejaVuSans-101\"/>\r\n      <use x=\"125\" xlink:href=\"#DejaVuSans-116\"/>\r\n      <use x=\"164.208984\" xlink:href=\"#DejaVuSans-101\"/>\r\n      <use x=\"225.732422\" xlink:href=\"#DejaVuSans-99\"/>\r\n      <use x=\"280.712891\" xlink:href=\"#DejaVuSans-116\"/>\r\n      <use x=\"319.921875\" xlink:href=\"#DejaVuSans-105\"/>\r\n      <use x=\"347.705078\" xlink:href=\"#DejaVuSans-111\"/>\r\n      <use x=\"408.886719\" xlink:href=\"#DejaVuSans-110\"/>\r\n     </g>\r\n    </g>\r\n    <g id=\"line2d_23\">\r\n     <path d=\"M 39.103125 64.772813 \r\nL 59.103125 64.772813 \r\n\" style=\"fill:none;stroke:#2ca02c;stroke-linecap:square;stroke-width:1.5;\"/>\r\n    </g>\r\n    <g id=\"line2d_24\"/>\r\n    <g id=\"text_19\">\r\n     <!-- failure -->\r\n     <g transform=\"translate(67.103125 68.272813)scale(0.1 -0.1)\">\r\n      <defs>\r\n       <path d=\"M 37.109375 75.984375 \r\nL 37.109375 68.5 \r\nL 28.515625 68.5 \r\nQ 23.6875 68.5 21.796875 66.546875 \r\nQ 19.921875 64.59375 19.921875 59.515625 \r\nL 19.921875 54.6875 \r\nL 34.71875 54.6875 \r\nL 34.71875 47.703125 \r\nL 19.921875 47.703125 \r\nL 19.921875 0 \r\nL 10.890625 0 \r\nL 10.890625 47.703125 \r\nL 2.296875 47.703125 \r\nL 2.296875 54.6875 \r\nL 10.890625 54.6875 \r\nL 10.890625 58.5 \r\nQ 10.890625 67.625 15.140625 71.796875 \r\nQ 19.390625 75.984375 28.609375 75.984375 \r\nz\r\n\" id=\"DejaVuSans-102\"/>\r\n       <path d=\"M 9.421875 75.984375 \r\nL 18.40625 75.984375 \r\nL 18.40625 0 \r\nL 9.421875 0 \r\nz\r\n\" id=\"DejaVuSans-108\"/>\r\n       <path d=\"M 8.5 21.578125 \r\nL 8.5 54.6875 \r\nL 17.484375 54.6875 \r\nL 17.484375 21.921875 \r\nQ 17.484375 14.15625 20.5 10.265625 \r\nQ 23.53125 6.390625 29.59375 6.390625 \r\nQ 36.859375 6.390625 41.078125 11.03125 \r\nQ 45.3125 15.671875 45.3125 23.6875 \r\nL 45.3125 54.6875 \r\nL 54.296875 54.6875 \r\nL 54.296875 0 \r\nL 45.3125 0 \r\nL 45.3125 8.40625 \r\nQ 42.046875 3.421875 37.71875 1 \r\nQ 33.40625 -1.421875 27.6875 -1.421875 \r\nQ 18.265625 -1.421875 13.375 4.4375 \r\nQ 8.5 10.296875 8.5 21.578125 \r\nz\r\nM 31.109375 56 \r\nz\r\n\" id=\"DejaVuSans-117\"/>\r\n       <path d=\"M 41.109375 46.296875 \r\nQ 39.59375 47.171875 37.8125 47.578125 \r\nQ 36.03125 48 33.890625 48 \r\nQ 26.265625 48 22.1875 43.046875 \r\nQ 18.109375 38.09375 18.109375 28.8125 \r\nL 18.109375 0 \r\nL 9.078125 0 \r\nL 9.078125 54.6875 \r\nL 18.109375 54.6875 \r\nL 18.109375 46.1875 \r\nQ 20.953125 51.171875 25.484375 53.578125 \r\nQ 30.03125 56 36.53125 56 \r\nQ 37.453125 56 38.578125 55.875 \r\nQ 39.703125 55.765625 41.0625 55.515625 \r\nz\r\n\" id=\"DejaVuSans-114\"/>\r\n      </defs>\r\n      <use xlink:href=\"#DejaVuSans-102\"/>\r\n      <use x=\"35.205078\" xlink:href=\"#DejaVuSans-97\"/>\r\n      <use x=\"96.484375\" xlink:href=\"#DejaVuSans-105\"/>\r\n      <use x=\"124.267578\" xlink:href=\"#DejaVuSans-108\"/>\r\n      <use x=\"152.050781\" xlink:href=\"#DejaVuSans-117\"/>\r\n      <use x=\"215.429688\" xlink:href=\"#DejaVuSans-114\"/>\r\n      <use x=\"254.292969\" xlink:href=\"#DejaVuSans-101\"/>\r\n     </g>\r\n    </g>\r\n   </g>\r\n  </g>\r\n  <g id=\"axes_2\">\r\n   <g id=\"patch_8\">\r\n    <path d=\"M 502.761949 239.758125 \r\nL 896.644301 239.758125 \r\nL 896.644301 22.318125 \r\nL 502.761949 22.318125 \r\nz\r\n\" style=\"fill:#ffffff;\"/>\r\n   </g>\r\n   <g id=\"matplotlib.axis_3\">\r\n    <g id=\"xtick_10\">\r\n     <g id=\"line2d_25\">\r\n      <g>\r\n       <use style=\"stroke:#000000;stroke-width:0.8;\" x=\"520.665692\" xlink:href=\"#m2fd38efbdf\" y=\"239.758125\"/>\r\n      </g>\r\n     </g>\r\n     <g id=\"text_20\">\r\n      <!-- 0 -->\r\n      <g transform=\"translate(517.484442 254.356563)scale(0.1 -0.1)\">\r\n       <use xlink:href=\"#DejaVuSans-48\"/>\r\n      </g>\r\n     </g>\r\n    </g>\r\n    <g id=\"xtick_11\">\r\n     <g id=\"line2d_26\">\r\n      <g>\r\n       <use style=\"stroke:#000000;stroke-width:0.8;\" x=\"565.42505\" xlink:href=\"#m2fd38efbdf\" y=\"239.758125\"/>\r\n      </g>\r\n     </g>\r\n     <g id=\"text_21\">\r\n      <!-- 25 -->\r\n      <g transform=\"translate(559.06255 254.356563)scale(0.1 -0.1)\">\r\n       <use xlink:href=\"#DejaVuSans-50\"/>\r\n       <use x=\"63.623047\" xlink:href=\"#DejaVuSans-53\"/>\r\n      </g>\r\n     </g>\r\n    </g>\r\n    <g id=\"xtick_12\">\r\n     <g id=\"line2d_27\">\r\n      <g>\r\n       <use style=\"stroke:#000000;stroke-width:0.8;\" x=\"610.184408\" xlink:href=\"#m2fd38efbdf\" y=\"239.758125\"/>\r\n      </g>\r\n     </g>\r\n     <g id=\"text_22\">\r\n      <!-- 50 -->\r\n      <g transform=\"translate(603.821908 254.356563)scale(0.1 -0.1)\">\r\n       <use xlink:href=\"#DejaVuSans-53\"/>\r\n       <use x=\"63.623047\" xlink:href=\"#DejaVuSans-48\"/>\r\n      </g>\r\n     </g>\r\n    </g>\r\n    <g id=\"xtick_13\">\r\n     <g id=\"line2d_28\">\r\n      <g>\r\n       <use style=\"stroke:#000000;stroke-width:0.8;\" x=\"654.943767\" xlink:href=\"#m2fd38efbdf\" y=\"239.758125\"/>\r\n      </g>\r\n     </g>\r\n     <g id=\"text_23\">\r\n      <!-- 75 -->\r\n      <g transform=\"translate(648.581267 254.356563)scale(0.1 -0.1)\">\r\n       <use xlink:href=\"#DejaVuSans-55\"/>\r\n       <use x=\"63.623047\" xlink:href=\"#DejaVuSans-53\"/>\r\n      </g>\r\n     </g>\r\n    </g>\r\n    <g id=\"xtick_14\">\r\n     <g id=\"line2d_29\">\r\n      <g>\r\n       <use style=\"stroke:#000000;stroke-width:0.8;\" x=\"699.703125\" xlink:href=\"#m2fd38efbdf\" y=\"239.758125\"/>\r\n      </g>\r\n     </g>\r\n     <g id=\"text_24\">\r\n      <!-- 100 -->\r\n      <g transform=\"translate(690.159375 254.356563)scale(0.1 -0.1)\">\r\n       <use xlink:href=\"#DejaVuSans-49\"/>\r\n       <use x=\"63.623047\" xlink:href=\"#DejaVuSans-48\"/>\r\n       <use x=\"127.246094\" xlink:href=\"#DejaVuSans-48\"/>\r\n      </g>\r\n     </g>\r\n    </g>\r\n    <g id=\"xtick_15\">\r\n     <g id=\"line2d_30\">\r\n      <g>\r\n       <use style=\"stroke:#000000;stroke-width:0.8;\" x=\"744.462483\" xlink:href=\"#m2fd38efbdf\" y=\"239.758125\"/>\r\n      </g>\r\n     </g>\r\n     <g id=\"text_25\">\r\n      <!-- 125 -->\r\n      <g transform=\"translate(734.918733 254.356563)scale(0.1 -0.1)\">\r\n       <use xlink:href=\"#DejaVuSans-49\"/>\r\n       <use x=\"63.623047\" xlink:href=\"#DejaVuSans-50\"/>\r\n       <use x=\"127.246094\" xlink:href=\"#DejaVuSans-53\"/>\r\n      </g>\r\n     </g>\r\n    </g>\r\n    <g id=\"xtick_16\">\r\n     <g id=\"line2d_31\">\r\n      <g>\r\n       <use style=\"stroke:#000000;stroke-width:0.8;\" x=\"789.221842\" xlink:href=\"#m2fd38efbdf\" y=\"239.758125\"/>\r\n      </g>\r\n     </g>\r\n     <g id=\"text_26\">\r\n      <!-- 150 -->\r\n      <g transform=\"translate(779.678092 254.356563)scale(0.1 -0.1)\">\r\n       <use xlink:href=\"#DejaVuSans-49\"/>\r\n       <use x=\"63.623047\" xlink:href=\"#DejaVuSans-53\"/>\r\n       <use x=\"127.246094\" xlink:href=\"#DejaVuSans-48\"/>\r\n      </g>\r\n     </g>\r\n    </g>\r\n    <g id=\"xtick_17\">\r\n     <g id=\"line2d_32\">\r\n      <g>\r\n       <use style=\"stroke:#000000;stroke-width:0.8;\" x=\"833.9812\" xlink:href=\"#m2fd38efbdf\" y=\"239.758125\"/>\r\n      </g>\r\n     </g>\r\n     <g id=\"text_27\">\r\n      <!-- 175 -->\r\n      <g transform=\"translate(824.43745 254.356563)scale(0.1 -0.1)\">\r\n       <use xlink:href=\"#DejaVuSans-49\"/>\r\n       <use x=\"63.623047\" xlink:href=\"#DejaVuSans-55\"/>\r\n       <use x=\"127.246094\" xlink:href=\"#DejaVuSans-53\"/>\r\n      </g>\r\n     </g>\r\n    </g>\r\n    <g id=\"xtick_18\">\r\n     <g id=\"line2d_33\">\r\n      <g>\r\n       <use style=\"stroke:#000000;stroke-width:0.8;\" x=\"878.740558\" xlink:href=\"#m2fd38efbdf\" y=\"239.758125\"/>\r\n      </g>\r\n     </g>\r\n     <g id=\"text_28\">\r\n      <!-- 200 -->\r\n      <g transform=\"translate(869.196808 254.356563)scale(0.1 -0.1)\">\r\n       <use xlink:href=\"#DejaVuSans-50\"/>\r\n       <use x=\"63.623047\" xlink:href=\"#DejaVuSans-48\"/>\r\n       <use x=\"127.246094\" xlink:href=\"#DejaVuSans-48\"/>\r\n      </g>\r\n     </g>\r\n    </g>\r\n   </g>\r\n   <g id=\"matplotlib.axis_4\">\r\n    <g id=\"ytick_7\">\r\n     <g id=\"line2d_34\">\r\n      <g>\r\n       <use style=\"stroke:#000000;stroke-width:0.8;\" x=\"502.761949\" xlink:href=\"#mba88f2cb19\" y=\"229.874489\"/>\r\n      </g>\r\n     </g>\r\n     <g id=\"text_29\">\r\n      <!-- 0 -->\r\n      <g transform=\"translate(489.399449 233.673707)scale(0.1 -0.1)\">\r\n       <use xlink:href=\"#DejaVuSans-48\"/>\r\n      </g>\r\n     </g>\r\n    </g>\r\n    <g id=\"ytick_8\">\r\n     <g id=\"line2d_35\">\r\n      <g>\r\n       <use style=\"stroke:#000000;stroke-width:0.8;\" x=\"502.761949\" xlink:href=\"#mba88f2cb19\" y=\"190.339943\"/>\r\n      </g>\r\n     </g>\r\n     <g id=\"text_30\">\r\n      <!-- 20 -->\r\n      <g transform=\"translate(483.036949 194.139162)scale(0.1 -0.1)\">\r\n       <use xlink:href=\"#DejaVuSans-50\"/>\r\n       <use x=\"63.623047\" xlink:href=\"#DejaVuSans-48\"/>\r\n      </g>\r\n     </g>\r\n    </g>\r\n    <g id=\"ytick_9\">\r\n     <g id=\"line2d_36\">\r\n      <g>\r\n       <use style=\"stroke:#000000;stroke-width:0.8;\" x=\"502.761949\" xlink:href=\"#mba88f2cb19\" y=\"150.805398\"/>\r\n      </g>\r\n     </g>\r\n     <g id=\"text_31\">\r\n      <!-- 40 -->\r\n      <g transform=\"translate(483.036949 154.604616)scale(0.1 -0.1)\">\r\n       <use xlink:href=\"#DejaVuSans-52\"/>\r\n       <use x=\"63.623047\" xlink:href=\"#DejaVuSans-48\"/>\r\n      </g>\r\n     </g>\r\n    </g>\r\n    <g id=\"ytick_10\">\r\n     <g id=\"line2d_37\">\r\n      <g>\r\n       <use style=\"stroke:#000000;stroke-width:0.8;\" x=\"502.761949\" xlink:href=\"#mba88f2cb19\" y=\"111.270852\"/>\r\n      </g>\r\n     </g>\r\n     <g id=\"text_32\">\r\n      <!-- 60 -->\r\n      <g transform=\"translate(483.036949 115.070071)scale(0.1 -0.1)\">\r\n       <use xlink:href=\"#DejaVuSans-54\"/>\r\n       <use x=\"63.623047\" xlink:href=\"#DejaVuSans-48\"/>\r\n      </g>\r\n     </g>\r\n    </g>\r\n    <g id=\"ytick_11\">\r\n     <g id=\"line2d_38\">\r\n      <g>\r\n       <use style=\"stroke:#000000;stroke-width:0.8;\" x=\"502.761949\" xlink:href=\"#mba88f2cb19\" y=\"71.736307\"/>\r\n      </g>\r\n     </g>\r\n     <g id=\"text_33\">\r\n      <!-- 80 -->\r\n      <g transform=\"translate(483.036949 75.535526)scale(0.1 -0.1)\">\r\n       <use xlink:href=\"#DejaVuSans-56\"/>\r\n       <use x=\"63.623047\" xlink:href=\"#DejaVuSans-48\"/>\r\n      </g>\r\n     </g>\r\n    </g>\r\n    <g id=\"ytick_12\">\r\n     <g id=\"line2d_39\">\r\n      <g>\r\n       <use style=\"stroke:#000000;stroke-width:0.8;\" x=\"502.761949\" xlink:href=\"#mba88f2cb19\" y=\"32.201761\"/>\r\n      </g>\r\n     </g>\r\n     <g id=\"text_34\">\r\n      <!-- 100 -->\r\n      <g transform=\"translate(476.674449 36.00098)scale(0.1 -0.1)\">\r\n       <use xlink:href=\"#DejaVuSans-49\"/>\r\n       <use x=\"63.623047\" xlink:href=\"#DejaVuSans-48\"/>\r\n       <use x=\"127.246094\" xlink:href=\"#DejaVuSans-48\"/>\r\n      </g>\r\n     </g>\r\n    </g>\r\n   </g>\r\n   <g id=\"line2d_40\">\r\n    <path clip-path=\"url(#p4ce951430c)\" d=\"M 520.665692 32.201761 \r\nL 785.641093 32.201761 \r\nL 787.431467 229.874489 \r\nL 789.221842 32.201761 \r\nL 878.740558 32.201761 \r\nL 878.740558 32.201761 \r\n\" style=\"fill:none;stroke:#1f77b4;stroke-linecap:square;stroke-width:1.5;\"/>\r\n   </g>\r\n   <g id=\"line2d_41\">\r\n    <path clip-path=\"url(#p4ce951430c)\" d=\"M 520.665692 32.201761 \r\nL 785.641093 32.201761 \r\nL 787.431467 131.038125 \r\nL 789.221842 32.201761 \r\nL 878.740558 32.201761 \r\nL 878.740558 32.201761 \r\n\" style=\"fill:none;stroke:#ff7f0e;stroke-linecap:square;stroke-width:1.5;\"/>\r\n   </g>\r\n   <g id=\"patch_9\">\r\n    <path d=\"M 502.761949 239.758125 \r\nL 502.761949 22.318125 \r\n\" style=\"fill:none;stroke:#000000;stroke-linecap:square;stroke-linejoin:miter;stroke-width:0.8;\"/>\r\n   </g>\r\n   <g id=\"patch_10\">\r\n    <path d=\"M 896.644301 239.758125 \r\nL 896.644301 22.318125 \r\n\" style=\"fill:none;stroke:#000000;stroke-linecap:square;stroke-linejoin:miter;stroke-width:0.8;\"/>\r\n   </g>\r\n   <g id=\"patch_11\">\r\n    <path d=\"M 502.761949 239.758125 \r\nL 896.644301 239.758125 \r\n\" style=\"fill:none;stroke:#000000;stroke-linecap:square;stroke-linejoin:miter;stroke-width:0.8;\"/>\r\n   </g>\r\n   <g id=\"patch_12\">\r\n    <path d=\"M 502.761949 22.318125 \r\nL 896.644301 22.318125 \r\n\" style=\"fill:none;stroke:#000000;stroke-linecap:square;stroke-linejoin:miter;stroke-width:0.8;\"/>\r\n   </g>\r\n   <g id=\"text_35\">\r\n    <!-- Condition -->\r\n    <g transform=\"translate(671.070938 16.318125)scale(0.12 -0.12)\">\r\n     <defs>\r\n      <path d=\"M 64.40625 67.28125 \r\nL 64.40625 56.890625 \r\nQ 59.421875 61.53125 53.78125 63.8125 \r\nQ 48.140625 66.109375 41.796875 66.109375 \r\nQ 29.296875 66.109375 22.65625 58.46875 \r\nQ 16.015625 50.828125 16.015625 36.375 \r\nQ 16.015625 21.96875 22.65625 14.328125 \r\nQ 29.296875 6.6875 41.796875 6.6875 \r\nQ 48.140625 6.6875 53.78125 8.984375 \r\nQ 59.421875 11.28125 64.40625 15.921875 \r\nL 64.40625 5.609375 \r\nQ 59.234375 2.09375 53.4375 0.328125 \r\nQ 47.65625 -1.421875 41.21875 -1.421875 \r\nQ 24.65625 -1.421875 15.125 8.703125 \r\nQ 5.609375 18.84375 5.609375 36.375 \r\nQ 5.609375 53.953125 15.125 64.078125 \r\nQ 24.65625 74.21875 41.21875 74.21875 \r\nQ 47.75 74.21875 53.53125 72.484375 \r\nQ 59.328125 70.75 64.40625 67.28125 \r\nz\r\n\" id=\"DejaVuSans-67\"/>\r\n     </defs>\r\n     <use xlink:href=\"#DejaVuSans-67\"/>\r\n     <use x=\"69.824219\" xlink:href=\"#DejaVuSans-111\"/>\r\n     <use x=\"131.005859\" xlink:href=\"#DejaVuSans-110\"/>\r\n     <use x=\"194.384766\" xlink:href=\"#DejaVuSans-100\"/>\r\n     <use x=\"257.861328\" xlink:href=\"#DejaVuSans-105\"/>\r\n     <use x=\"285.644531\" xlink:href=\"#DejaVuSans-116\"/>\r\n     <use x=\"324.853516\" xlink:href=\"#DejaVuSans-105\"/>\r\n     <use x=\"352.636719\" xlink:href=\"#DejaVuSans-111\"/>\r\n     <use x=\"413.818359\" xlink:href=\"#DejaVuSans-110\"/>\r\n    </g>\r\n   </g>\r\n   <g id=\"legend_2\">\r\n    <g id=\"patch_13\">\r\n     <path d=\"M 509.761949 234.758125 \r\nL 633.244761 234.758125 \r\nQ 635.244761 234.758125 635.244761 232.758125 \r\nL 635.244761 203.845625 \r\nQ 635.244761 201.845625 633.244761 201.845625 \r\nL 509.761949 201.845625 \r\nQ 507.761949 201.845625 507.761949 203.845625 \r\nL 507.761949 232.758125 \r\nQ 507.761949 234.758125 509.761949 234.758125 \r\nz\r\n\" style=\"fill:#ffffff;opacity:0.8;stroke:#cccccc;stroke-linejoin:miter;\"/>\r\n    </g>\r\n    <g id=\"line2d_42\">\r\n     <path d=\"M 511.761949 209.944063 \r\nL 531.761949 209.944063 \r\n\" style=\"fill:none;stroke:#1f77b4;stroke-linecap:square;stroke-width:1.5;\"/>\r\n    </g>\r\n    <g id=\"line2d_43\"/>\r\n    <g id=\"text_36\">\r\n     <!-- wall_thickness -->\r\n     <g transform=\"translate(539.761949 213.444063)scale(0.1 -0.1)\">\r\n      <defs>\r\n       <path d=\"M 4.203125 54.6875 \r\nL 13.1875 54.6875 \r\nL 24.421875 12.015625 \r\nL 35.59375 54.6875 \r\nL 46.1875 54.6875 \r\nL 57.421875 12.015625 \r\nL 68.609375 54.6875 \r\nL 77.59375 54.6875 \r\nL 63.28125 0 \r\nL 52.6875 0 \r\nL 40.921875 44.828125 \r\nL 29.109375 0 \r\nL 18.5 0 \r\nz\r\n\" id=\"DejaVuSans-119\"/>\r\n       <path d=\"M 50.984375 -16.609375 \r\nL 50.984375 -23.578125 \r\nL -0.984375 -23.578125 \r\nL -0.984375 -16.609375 \r\nz\r\n\" id=\"DejaVuSans-95\"/>\r\n       <path d=\"M 54.890625 33.015625 \r\nL 54.890625 0 \r\nL 45.90625 0 \r\nL 45.90625 32.71875 \r\nQ 45.90625 40.484375 42.875 44.328125 \r\nQ 39.84375 48.1875 33.796875 48.1875 \r\nQ 26.515625 48.1875 22.3125 43.546875 \r\nQ 18.109375 38.921875 18.109375 30.90625 \r\nL 18.109375 0 \r\nL 9.078125 0 \r\nL 9.078125 75.984375 \r\nL 18.109375 75.984375 \r\nL 18.109375 46.1875 \r\nQ 21.34375 51.125 25.703125 53.5625 \r\nQ 30.078125 56 35.796875 56 \r\nQ 45.21875 56 50.046875 50.171875 \r\nQ 54.890625 44.34375 54.890625 33.015625 \r\nz\r\n\" id=\"DejaVuSans-104\"/>\r\n       <path d=\"M 9.078125 75.984375 \r\nL 18.109375 75.984375 \r\nL 18.109375 31.109375 \r\nL 44.921875 54.6875 \r\nL 56.390625 54.6875 \r\nL 27.390625 29.109375 \r\nL 57.625 0 \r\nL 45.90625 0 \r\nL 18.109375 26.703125 \r\nL 18.109375 0 \r\nL 9.078125 0 \r\nz\r\n\" id=\"DejaVuSans-107\"/>\r\n       <path d=\"M 44.28125 53.078125 \r\nL 44.28125 44.578125 \r\nQ 40.484375 46.53125 36.375 47.5 \r\nQ 32.28125 48.484375 27.875 48.484375 \r\nQ 21.1875 48.484375 17.84375 46.4375 \r\nQ 14.5 44.390625 14.5 40.28125 \r\nQ 14.5 37.15625 16.890625 35.375 \r\nQ 19.28125 33.59375 26.515625 31.984375 \r\nL 29.59375 31.296875 \r\nQ 39.15625 29.25 43.1875 25.515625 \r\nQ 47.21875 21.78125 47.21875 15.09375 \r\nQ 47.21875 7.46875 41.1875 3.015625 \r\nQ 35.15625 -1.421875 24.609375 -1.421875 \r\nQ 20.21875 -1.421875 15.453125 -0.5625 \r\nQ 10.6875 0.296875 5.421875 2 \r\nL 5.421875 11.28125 \r\nQ 10.40625 8.6875 15.234375 7.390625 \r\nQ 20.0625 6.109375 24.8125 6.109375 \r\nQ 31.15625 6.109375 34.5625 8.28125 \r\nQ 37.984375 10.453125 37.984375 14.40625 \r\nQ 37.984375 18.0625 35.515625 20.015625 \r\nQ 33.0625 21.96875 24.703125 23.78125 \r\nL 21.578125 24.515625 \r\nQ 13.234375 26.265625 9.515625 29.90625 \r\nQ 5.8125 33.546875 5.8125 39.890625 \r\nQ 5.8125 47.609375 11.28125 51.796875 \r\nQ 16.75 56 26.8125 56 \r\nQ 31.78125 56 36.171875 55.265625 \r\nQ 40.578125 54.546875 44.28125 53.078125 \r\nz\r\n\" id=\"DejaVuSans-115\"/>\r\n      </defs>\r\n      <use xlink:href=\"#DejaVuSans-119\"/>\r\n      <use x=\"81.787109\" xlink:href=\"#DejaVuSans-97\"/>\r\n      <use x=\"143.066406\" xlink:href=\"#DejaVuSans-108\"/>\r\n      <use x=\"170.849609\" xlink:href=\"#DejaVuSans-108\"/>\r\n      <use x=\"198.632812\" xlink:href=\"#DejaVuSans-95\"/>\r\n      <use x=\"248.632812\" xlink:href=\"#DejaVuSans-116\"/>\r\n      <use x=\"287.841797\" xlink:href=\"#DejaVuSans-104\"/>\r\n      <use x=\"351.220703\" xlink:href=\"#DejaVuSans-105\"/>\r\n      <use x=\"379.003906\" xlink:href=\"#DejaVuSans-99\"/>\r\n      <use x=\"433.984375\" xlink:href=\"#DejaVuSans-107\"/>\r\n      <use x=\"491.894531\" xlink:href=\"#DejaVuSans-110\"/>\r\n      <use x=\"555.273438\" xlink:href=\"#DejaVuSans-101\"/>\r\n      <use x=\"616.796875\" xlink:href=\"#DejaVuSans-115\"/>\r\n      <use x=\"668.896484\" xlink:href=\"#DejaVuSans-115\"/>\r\n     </g>\r\n    </g>\r\n    <g id=\"line2d_44\">\r\n     <path d=\"M 511.761949 224.900313 \r\nL 531.761949 224.900313 \r\n\" style=\"fill:none;stroke:#ff7f0e;stroke-linecap:square;stroke-width:1.5;\"/>\r\n    </g>\r\n    <g id=\"line2d_45\"/>\r\n    <g id=\"text_37\">\r\n     <!-- external_diameter -->\r\n     <g transform=\"translate(539.761949 228.400313)scale(0.1 -0.1)\">\r\n      <defs>\r\n       <path d=\"M 54.890625 54.6875 \r\nL 35.109375 28.078125 \r\nL 55.90625 0 \r\nL 45.3125 0 \r\nL 29.390625 21.484375 \r\nL 13.484375 0 \r\nL 2.875 0 \r\nL 24.125 28.609375 \r\nL 4.6875 54.6875 \r\nL 15.28125 54.6875 \r\nL 29.78125 35.203125 \r\nL 44.28125 54.6875 \r\nz\r\n\" id=\"DejaVuSans-120\"/>\r\n       <path d=\"M 52 44.1875 \r\nQ 55.375 50.25 60.0625 53.125 \r\nQ 64.75 56 71.09375 56 \r\nQ 79.640625 56 84.28125 50.015625 \r\nQ 88.921875 44.046875 88.921875 33.015625 \r\nL 88.921875 0 \r\nL 79.890625 0 \r\nL 79.890625 32.71875 \r\nQ 79.890625 40.578125 77.09375 44.375 \r\nQ 74.3125 48.1875 68.609375 48.1875 \r\nQ 61.625 48.1875 57.5625 43.546875 \r\nQ 53.515625 38.921875 53.515625 30.90625 \r\nL 53.515625 0 \r\nL 44.484375 0 \r\nL 44.484375 32.71875 \r\nQ 44.484375 40.625 41.703125 44.40625 \r\nQ 38.921875 48.1875 33.109375 48.1875 \r\nQ 26.21875 48.1875 22.15625 43.53125 \r\nQ 18.109375 38.875 18.109375 30.90625 \r\nL 18.109375 0 \r\nL 9.078125 0 \r\nL 9.078125 54.6875 \r\nL 18.109375 54.6875 \r\nL 18.109375 46.1875 \r\nQ 21.1875 51.21875 25.484375 53.609375 \r\nQ 29.78125 56 35.6875 56 \r\nQ 41.65625 56 45.828125 52.96875 \r\nQ 50 49.953125 52 44.1875 \r\nz\r\n\" id=\"DejaVuSans-109\"/>\r\n      </defs>\r\n      <use xlink:href=\"#DejaVuSans-101\"/>\r\n      <use x=\"59.773438\" xlink:href=\"#DejaVuSans-120\"/>\r\n      <use x=\"118.953125\" xlink:href=\"#DejaVuSans-116\"/>\r\n      <use x=\"158.162109\" xlink:href=\"#DejaVuSans-101\"/>\r\n      <use x=\"219.685547\" xlink:href=\"#DejaVuSans-114\"/>\r\n      <use x=\"259.048828\" xlink:href=\"#DejaVuSans-110\"/>\r\n      <use x=\"322.427734\" xlink:href=\"#DejaVuSans-97\"/>\r\n      <use x=\"383.707031\" xlink:href=\"#DejaVuSans-108\"/>\r\n      <use x=\"411.490234\" xlink:href=\"#DejaVuSans-95\"/>\r\n      <use x=\"461.490234\" xlink:href=\"#DejaVuSans-100\"/>\r\n      <use x=\"524.966797\" xlink:href=\"#DejaVuSans-105\"/>\r\n      <use x=\"552.75\" xlink:href=\"#DejaVuSans-97\"/>\r\n      <use x=\"614.029297\" xlink:href=\"#DejaVuSans-109\"/>\r\n      <use x=\"711.441406\" xlink:href=\"#DejaVuSans-101\"/>\r\n      <use x=\"772.964844\" xlink:href=\"#DejaVuSans-116\"/>\r\n      <use x=\"812.173828\" xlink:href=\"#DejaVuSans-101\"/>\r\n      <use x=\"873.697266\" xlink:href=\"#DejaVuSans-114\"/>\r\n     </g>\r\n    </g>\r\n   </g>\r\n  </g>\r\n  <g id=\"axes_3\">\r\n   <g id=\"patch_14\">\r\n    <path d=\"M 975.420772 239.758125 \r\nL 1369.303125 239.758125 \r\nL 1369.303125 22.318125 \r\nL 975.420772 22.318125 \r\nz\r\n\" style=\"fill:#ffffff;\"/>\r\n   </g>\r\n   <g id=\"matplotlib.axis_5\">\r\n    <g id=\"xtick_19\">\r\n     <g id=\"line2d_46\">\r\n      <g>\r\n       <use style=\"stroke:#000000;stroke-width:0.8;\" x=\"993.324515\" xlink:href=\"#m2fd38efbdf\" y=\"239.758125\"/>\r\n      </g>\r\n     </g>\r\n     <g id=\"text_38\">\r\n      <!-- 0 -->\r\n      <g transform=\"translate(990.143265 254.356563)scale(0.1 -0.1)\">\r\n       <use xlink:href=\"#DejaVuSans-48\"/>\r\n      </g>\r\n     </g>\r\n    </g>\r\n    <g id=\"xtick_20\">\r\n     <g id=\"line2d_47\">\r\n      <g>\r\n       <use style=\"stroke:#000000;stroke-width:0.8;\" x=\"1038.083874\" xlink:href=\"#m2fd38efbdf\" y=\"239.758125\"/>\r\n      </g>\r\n     </g>\r\n     <g id=\"text_39\">\r\n      <!-- 25 -->\r\n      <g transform=\"translate(1031.721374 254.356563)scale(0.1 -0.1)\">\r\n       <use xlink:href=\"#DejaVuSans-50\"/>\r\n       <use x=\"63.623047\" xlink:href=\"#DejaVuSans-53\"/>\r\n      </g>\r\n     </g>\r\n    </g>\r\n    <g id=\"xtick_21\">\r\n     <g id=\"line2d_48\">\r\n      <g>\r\n       <use style=\"stroke:#000000;stroke-width:0.8;\" x=\"1082.843232\" xlink:href=\"#m2fd38efbdf\" y=\"239.758125\"/>\r\n      </g>\r\n     </g>\r\n     <g id=\"text_40\">\r\n      <!-- 50 -->\r\n      <g transform=\"translate(1076.480732 254.356563)scale(0.1 -0.1)\">\r\n       <use xlink:href=\"#DejaVuSans-53\"/>\r\n       <use x=\"63.623047\" xlink:href=\"#DejaVuSans-48\"/>\r\n      </g>\r\n     </g>\r\n    </g>\r\n    <g id=\"xtick_22\">\r\n     <g id=\"line2d_49\">\r\n      <g>\r\n       <use style=\"stroke:#000000;stroke-width:0.8;\" x=\"1127.60259\" xlink:href=\"#m2fd38efbdf\" y=\"239.758125\"/>\r\n      </g>\r\n     </g>\r\n     <g id=\"text_41\">\r\n      <!-- 75 -->\r\n      <g transform=\"translate(1121.24009 254.356563)scale(0.1 -0.1)\">\r\n       <use xlink:href=\"#DejaVuSans-55\"/>\r\n       <use x=\"63.623047\" xlink:href=\"#DejaVuSans-53\"/>\r\n      </g>\r\n     </g>\r\n    </g>\r\n    <g id=\"xtick_23\">\r\n     <g id=\"line2d_50\">\r\n      <g>\r\n       <use style=\"stroke:#000000;stroke-width:0.8;\" x=\"1172.361949\" xlink:href=\"#m2fd38efbdf\" y=\"239.758125\"/>\r\n      </g>\r\n     </g>\r\n     <g id=\"text_42\">\r\n      <!-- 100 -->\r\n      <g transform=\"translate(1162.818199 254.356563)scale(0.1 -0.1)\">\r\n       <use xlink:href=\"#DejaVuSans-49\"/>\r\n       <use x=\"63.623047\" xlink:href=\"#DejaVuSans-48\"/>\r\n       <use x=\"127.246094\" xlink:href=\"#DejaVuSans-48\"/>\r\n      </g>\r\n     </g>\r\n    </g>\r\n    <g id=\"xtick_24\">\r\n     <g id=\"line2d_51\">\r\n      <g>\r\n       <use style=\"stroke:#000000;stroke-width:0.8;\" x=\"1217.121307\" xlink:href=\"#m2fd38efbdf\" y=\"239.758125\"/>\r\n      </g>\r\n     </g>\r\n     <g id=\"text_43\">\r\n      <!-- 125 -->\r\n      <g transform=\"translate(1207.577557 254.356563)scale(0.1 -0.1)\">\r\n       <use xlink:href=\"#DejaVuSans-49\"/>\r\n       <use x=\"63.623047\" xlink:href=\"#DejaVuSans-50\"/>\r\n       <use x=\"127.246094\" xlink:href=\"#DejaVuSans-53\"/>\r\n      </g>\r\n     </g>\r\n    </g>\r\n    <g id=\"xtick_25\">\r\n     <g id=\"line2d_52\">\r\n      <g>\r\n       <use style=\"stroke:#000000;stroke-width:0.8;\" x=\"1261.880665\" xlink:href=\"#m2fd38efbdf\" y=\"239.758125\"/>\r\n      </g>\r\n     </g>\r\n     <g id=\"text_44\">\r\n      <!-- 150 -->\r\n      <g transform=\"translate(1252.336915 254.356563)scale(0.1 -0.1)\">\r\n       <use xlink:href=\"#DejaVuSans-49\"/>\r\n       <use x=\"63.623047\" xlink:href=\"#DejaVuSans-53\"/>\r\n       <use x=\"127.246094\" xlink:href=\"#DejaVuSans-48\"/>\r\n      </g>\r\n     </g>\r\n    </g>\r\n    <g id=\"xtick_26\">\r\n     <g id=\"line2d_53\">\r\n      <g>\r\n       <use style=\"stroke:#000000;stroke-width:0.8;\" x=\"1306.640023\" xlink:href=\"#m2fd38efbdf\" y=\"239.758125\"/>\r\n      </g>\r\n     </g>\r\n     <g id=\"text_45\">\r\n      <!-- 175 -->\r\n      <g transform=\"translate(1297.096273 254.356563)scale(0.1 -0.1)\">\r\n       <use xlink:href=\"#DejaVuSans-49\"/>\r\n       <use x=\"63.623047\" xlink:href=\"#DejaVuSans-55\"/>\r\n       <use x=\"127.246094\" xlink:href=\"#DejaVuSans-53\"/>\r\n      </g>\r\n     </g>\r\n    </g>\r\n    <g id=\"xtick_27\">\r\n     <g id=\"line2d_54\">\r\n      <g>\r\n       <use style=\"stroke:#000000;stroke-width:0.8;\" x=\"1351.399382\" xlink:href=\"#m2fd38efbdf\" y=\"239.758125\"/>\r\n      </g>\r\n     </g>\r\n     <g id=\"text_46\">\r\n      <!-- 200 -->\r\n      <g transform=\"translate(1341.855632 254.356563)scale(0.1 -0.1)\">\r\n       <use xlink:href=\"#DejaVuSans-50\"/>\r\n       <use x=\"63.623047\" xlink:href=\"#DejaVuSans-48\"/>\r\n       <use x=\"127.246094\" xlink:href=\"#DejaVuSans-48\"/>\r\n      </g>\r\n     </g>\r\n    </g>\r\n   </g>\r\n   <g id=\"matplotlib.axis_6\">\r\n    <g id=\"ytick_13\">\r\n     <g id=\"line2d_55\">\r\n      <g>\r\n       <use style=\"stroke:#000000;stroke-width:0.8;\" x=\"975.420772\" xlink:href=\"#mba88f2cb19\" y=\"229.874489\"/>\r\n      </g>\r\n     </g>\r\n     <g id=\"text_47\">\r\n      <!-- −1 -->\r\n      <g transform=\"translate(953.678585 233.673707)scale(0.1 -0.1)\">\r\n       <defs>\r\n        <path d=\"M 10.59375 35.5 \r\nL 73.1875 35.5 \r\nL 73.1875 27.203125 \r\nL 10.59375 27.203125 \r\nz\r\n\" id=\"DejaVuSans-8722\"/>\r\n       </defs>\r\n       <use xlink:href=\"#DejaVuSans-8722\"/>\r\n       <use x=\"83.789062\" xlink:href=\"#DejaVuSans-49\"/>\r\n      </g>\r\n     </g>\r\n    </g>\r\n    <g id=\"ytick_14\">\r\n     <g id=\"line2d_56\">\r\n      <g>\r\n       <use style=\"stroke:#000000;stroke-width:0.8;\" x=\"975.420772\" xlink:href=\"#mba88f2cb19\" y=\"196.929034\"/>\r\n      </g>\r\n     </g>\r\n     <g id=\"text_48\">\r\n      <!-- 0 -->\r\n      <g transform=\"translate(962.058272 200.728253)scale(0.1 -0.1)\">\r\n       <use xlink:href=\"#DejaVuSans-48\"/>\r\n      </g>\r\n     </g>\r\n    </g>\r\n    <g id=\"ytick_15\">\r\n     <g id=\"line2d_57\">\r\n      <g>\r\n       <use style=\"stroke:#000000;stroke-width:0.8;\" x=\"975.420772\" xlink:href=\"#mba88f2cb19\" y=\"163.98358\"/>\r\n      </g>\r\n     </g>\r\n     <g id=\"text_49\">\r\n      <!-- 1 -->\r\n      <g transform=\"translate(962.058272 167.782798)scale(0.1 -0.1)\">\r\n       <use xlink:href=\"#DejaVuSans-49\"/>\r\n      </g>\r\n     </g>\r\n    </g>\r\n    <g id=\"ytick_16\">\r\n     <g id=\"line2d_58\">\r\n      <g>\r\n       <use style=\"stroke:#000000;stroke-width:0.8;\" x=\"975.420772\" xlink:href=\"#mba88f2cb19\" y=\"131.038125\"/>\r\n      </g>\r\n     </g>\r\n     <g id=\"text_50\">\r\n      <!-- 2 -->\r\n      <g transform=\"translate(962.058272 134.837344)scale(0.1 -0.1)\">\r\n       <use xlink:href=\"#DejaVuSans-50\"/>\r\n      </g>\r\n     </g>\r\n    </g>\r\n    <g id=\"ytick_17\">\r\n     <g id=\"line2d_59\">\r\n      <g>\r\n       <use style=\"stroke:#000000;stroke-width:0.8;\" x=\"975.420772\" xlink:href=\"#mba88f2cb19\" y=\"98.09267\"/>\r\n      </g>\r\n     </g>\r\n     <g id=\"text_51\">\r\n      <!-- 3 -->\r\n      <g transform=\"translate(962.058272 101.891889)scale(0.1 -0.1)\">\r\n       <defs>\r\n        <path d=\"M 40.578125 39.3125 \r\nQ 47.65625 37.796875 51.625 33 \r\nQ 55.609375 28.21875 55.609375 21.1875 \r\nQ 55.609375 10.40625 48.1875 4.484375 \r\nQ 40.765625 -1.421875 27.09375 -1.421875 \r\nQ 22.515625 -1.421875 17.65625 -0.515625 \r\nQ 12.796875 0.390625 7.625 2.203125 \r\nL 7.625 11.71875 \r\nQ 11.71875 9.328125 16.59375 8.109375 \r\nQ 21.484375 6.890625 26.8125 6.890625 \r\nQ 36.078125 6.890625 40.9375 10.546875 \r\nQ 45.796875 14.203125 45.796875 21.1875 \r\nQ 45.796875 27.640625 41.28125 31.265625 \r\nQ 36.765625 34.90625 28.71875 34.90625 \r\nL 20.21875 34.90625 \r\nL 20.21875 43.015625 \r\nL 29.109375 43.015625 \r\nQ 36.375 43.015625 40.234375 45.921875 \r\nQ 44.09375 48.828125 44.09375 54.296875 \r\nQ 44.09375 59.90625 40.109375 62.90625 \r\nQ 36.140625 65.921875 28.71875 65.921875 \r\nQ 24.65625 65.921875 20.015625 65.03125 \r\nQ 15.375 64.15625 9.8125 62.3125 \r\nL 9.8125 71.09375 \r\nQ 15.4375 72.65625 20.34375 73.4375 \r\nQ 25.25 74.21875 29.59375 74.21875 \r\nQ 40.828125 74.21875 47.359375 69.109375 \r\nQ 53.90625 64.015625 53.90625 55.328125 \r\nQ 53.90625 49.265625 50.4375 45.09375 \r\nQ 46.96875 40.921875 40.578125 39.3125 \r\nz\r\n\" id=\"DejaVuSans-51\"/>\r\n       </defs>\r\n       <use xlink:href=\"#DejaVuSans-51\"/>\r\n      </g>\r\n     </g>\r\n    </g>\r\n    <g id=\"ytick_18\">\r\n     <g id=\"line2d_60\">\r\n      <g>\r\n       <use style=\"stroke:#000000;stroke-width:0.8;\" x=\"975.420772\" xlink:href=\"#mba88f2cb19\" y=\"65.147216\"/>\r\n      </g>\r\n     </g>\r\n     <g id=\"text_52\">\r\n      <!-- 4 -->\r\n      <g transform=\"translate(962.058272 68.946435)scale(0.1 -0.1)\">\r\n       <use xlink:href=\"#DejaVuSans-52\"/>\r\n      </g>\r\n     </g>\r\n    </g>\r\n    <g id=\"ytick_19\">\r\n     <g id=\"line2d_61\">\r\n      <g>\r\n       <use style=\"stroke:#000000;stroke-width:0.8;\" x=\"975.420772\" xlink:href=\"#mba88f2cb19\" y=\"32.201761\"/>\r\n      </g>\r\n     </g>\r\n     <g id=\"text_53\">\r\n      <!-- 5 -->\r\n      <g transform=\"translate(962.058272 36.00098)scale(0.1 -0.1)\">\r\n       <use xlink:href=\"#DejaVuSans-53\"/>\r\n      </g>\r\n     </g>\r\n    </g>\r\n   </g>\r\n   <g id=\"line2d_62\">\r\n    <path clip-path=\"url(#p59645d0e8f)\" d=\"M 993.324515 32.201761 \r\nL 1002.276387 196.929034 \r\nL 1004.066761 65.147216 \r\nL 1011.228259 196.929034 \r\nL 1013.018633 65.147216 \r\nL 1020.18013 196.929034 \r\nL 1021.970505 65.147216 \r\nL 1029.132002 196.929034 \r\nL 1030.922376 65.147216 \r\nL 1038.083874 196.929034 \r\nL 1039.874248 65.147216 \r\nL 1047.035745 196.929034 \r\nL 1048.82612 65.147216 \r\nL 1055.987617 196.929034 \r\nL 1057.777991 65.147216 \r\nL 1064.939489 196.929034 \r\nL 1066.729863 65.147216 \r\nL 1073.89136 196.929034 \r\nL 1075.681735 65.147216 \r\nL 1082.843232 196.929034 \r\nL 1084.633606 65.147216 \r\nL 1091.795104 196.929034 \r\nL 1093.585478 65.147216 \r\nL 1100.746975 196.929034 \r\nL 1102.53735 65.147216 \r\nL 1109.698847 196.929034 \r\nL 1111.489221 65.147216 \r\nL 1118.650719 196.929034 \r\nL 1120.441093 65.147216 \r\nL 1127.60259 196.929034 \r\nL 1129.392965 65.147216 \r\nL 1136.554462 196.929034 \r\nL 1138.344836 65.147216 \r\nL 1145.506334 196.929034 \r\nL 1147.296708 65.147216 \r\nL 1154.458205 196.929034 \r\nL 1156.24858 65.147216 \r\nL 1163.410077 196.929034 \r\nL 1165.200451 65.147216 \r\nL 1172.361949 196.929034 \r\nL 1174.152323 65.147216 \r\nL 1181.31382 196.929034 \r\nL 1183.104195 65.147216 \r\nL 1190.265692 196.929034 \r\nL 1192.056066 65.147216 \r\nL 1199.217564 196.929034 \r\nL 1201.007938 65.147216 \r\nL 1208.169435 196.929034 \r\nL 1209.959809 65.147216 \r\nL 1217.121307 196.929034 \r\nL 1218.911681 65.147216 \r\nL 1226.073178 196.929034 \r\nL 1227.863553 65.147216 \r\nL 1235.02505 196.929034 \r\nL 1236.815424 65.147216 \r\nL 1243.976922 196.929034 \r\nL 1245.767296 65.147216 \r\nL 1252.928793 196.929034 \r\nL 1254.719168 65.147216 \r\nL 1261.880665 196.929034 \r\nL 1263.671039 65.147216 \r\nL 1270.832537 196.929034 \r\nL 1272.622911 65.147216 \r\nL 1279.784408 196.929034 \r\nL 1281.574783 65.147216 \r\nL 1288.73628 196.929034 \r\nL 1290.526654 65.147216 \r\nL 1297.688152 196.929034 \r\nL 1299.478526 65.147216 \r\nL 1306.640023 196.929034 \r\nL 1308.430398 65.147216 \r\nL 1315.591895 196.929034 \r\nL 1317.382269 65.147216 \r\nL 1324.543767 196.929034 \r\nL 1326.334141 65.147216 \r\nL 1333.495638 196.929034 \r\nL 1335.286013 65.147216 \r\nL 1342.44751 196.929034 \r\nL 1344.237884 65.147216 \r\nL 1351.399382 196.929034 \r\nL 1351.399382 196.929034 \r\n\" style=\"fill:none;stroke:#1f77b4;stroke-linecap:square;stroke-width:1.5;\"/>\r\n   </g>\r\n   <g id=\"line2d_63\">\r\n    <path clip-path=\"url(#p59645d0e8f)\" d=\"M 993.324515 229.874489 \r\nL 1351.399382 229.874489 \r\nL 1351.399382 229.874489 \r\n\" style=\"fill:none;stroke:#ff7f0e;stroke-linecap:square;stroke-width:1.5;\"/>\r\n   </g>\r\n   <g id=\"line2d_64\">\r\n    <path clip-path=\"url(#p59645d0e8f)\" d=\"M 993.324515 229.874489 \r\nL 1351.399382 229.874489 \r\nL 1351.399382 229.874489 \r\n\" style=\"fill:none;stroke:#2ca02c;stroke-linecap:square;stroke-width:1.5;\"/>\r\n   </g>\r\n   <g id=\"line2d_65\">\r\n    <path clip-path=\"url(#p59645d0e8f)\" d=\"M 993.324515 229.874489 \r\nL 1258.299916 229.874489 \r\nL 1260.090291 196.929034 \r\nL 1261.880665 229.874489 \r\nL 1351.399382 229.874489 \r\nL 1351.399382 229.874489 \r\n\" style=\"fill:none;stroke:#d62728;stroke-linecap:square;stroke-width:1.5;\"/>\r\n   </g>\r\n   <g id=\"patch_15\">\r\n    <path d=\"M 975.420772 239.758125 \r\nL 975.420772 22.318125 \r\n\" style=\"fill:none;stroke:#000000;stroke-linecap:square;stroke-linejoin:miter;stroke-width:0.8;\"/>\r\n   </g>\r\n   <g id=\"patch_16\">\r\n    <path d=\"M 1369.303125 239.758125 \r\nL 1369.303125 22.318125 \r\n\" style=\"fill:none;stroke:#000000;stroke-linecap:square;stroke-linejoin:miter;stroke-width:0.8;\"/>\r\n   </g>\r\n   <g id=\"patch_17\">\r\n    <path d=\"M 975.420772 239.758125 \r\nL 1369.303125 239.758125 \r\n\" style=\"fill:none;stroke:#000000;stroke-linecap:square;stroke-linejoin:miter;stroke-width:0.8;\"/>\r\n   </g>\r\n   <g id=\"patch_18\">\r\n    <path d=\"M 975.420772 22.318125 \r\nL 1369.303125 22.318125 \r\n\" style=\"fill:none;stroke:#000000;stroke-linecap:square;stroke-linejoin:miter;stroke-width:0.8;\"/>\r\n   </g>\r\n   <g id=\"text_54\">\r\n    <!-- Task -->\r\n    <g transform=\"translate(1159.410386 16.318125)scale(0.12 -0.12)\">\r\n     <defs>\r\n      <path d=\"M -0.296875 72.90625 \r\nL 61.375 72.90625 \r\nL 61.375 64.59375 \r\nL 35.5 64.59375 \r\nL 35.5 0 \r\nL 25.59375 0 \r\nL 25.59375 64.59375 \r\nL -0.296875 64.59375 \r\nz\r\n\" id=\"DejaVuSans-84\"/>\r\n     </defs>\r\n     <use xlink:href=\"#DejaVuSans-84\"/>\r\n     <use x=\"44.583984\" xlink:href=\"#DejaVuSans-97\"/>\r\n     <use x=\"105.863281\" xlink:href=\"#DejaVuSans-115\"/>\r\n     <use x=\"157.962891\" xlink:href=\"#DejaVuSans-107\"/>\r\n    </g>\r\n   </g>\r\n   <g id=\"legend_3\">\r\n    <g id=\"patch_19\">\r\n     <path d=\"M 1198.514063 89.865 \r\nL 1362.303125 89.865 \r\nQ 1364.303125 89.865 1364.303125 87.865 \r\nL 1364.303125 29.318125 \r\nQ 1364.303125 27.318125 1362.303125 27.318125 \r\nL 1198.514063 27.318125 \r\nQ 1196.514063 27.318125 1196.514063 29.318125 \r\nL 1196.514063 87.865 \r\nQ 1196.514063 89.865 1198.514063 89.865 \r\nz\r\n\" style=\"fill:#ffffff;opacity:0.8;stroke:#cccccc;stroke-linejoin:miter;\"/>\r\n    </g>\r\n    <g id=\"line2d_66\">\r\n     <path d=\"M 1200.514063 35.416562 \r\nL 1220.514063 35.416562 \r\n\" style=\"fill:none;stroke:#1f77b4;stroke-linecap:square;stroke-width:1.5;\"/>\r\n    </g>\r\n    <g id=\"line2d_67\"/>\r\n    <g id=\"text_55\">\r\n     <!-- inspection -->\r\n     <g transform=\"translate(1228.514063 38.916562)scale(0.1 -0.1)\">\r\n      <defs>\r\n       <path d=\"M 18.109375 8.203125 \r\nL 18.109375 -20.796875 \r\nL 9.078125 -20.796875 \r\nL 9.078125 54.6875 \r\nL 18.109375 54.6875 \r\nL 18.109375 46.390625 \r\nQ 20.953125 51.265625 25.265625 53.625 \r\nQ 29.59375 56 35.59375 56 \r\nQ 45.5625 56 51.78125 48.09375 \r\nQ 58.015625 40.1875 58.015625 27.296875 \r\nQ 58.015625 14.40625 51.78125 6.484375 \r\nQ 45.5625 -1.421875 35.59375 -1.421875 \r\nQ 29.59375 -1.421875 25.265625 0.953125 \r\nQ 20.953125 3.328125 18.109375 8.203125 \r\nz\r\nM 48.6875 27.296875 \r\nQ 48.6875 37.203125 44.609375 42.84375 \r\nQ 40.53125 48.484375 33.40625 48.484375 \r\nQ 26.265625 48.484375 22.1875 42.84375 \r\nQ 18.109375 37.203125 18.109375 27.296875 \r\nQ 18.109375 17.390625 22.1875 11.75 \r\nQ 26.265625 6.109375 33.40625 6.109375 \r\nQ 40.53125 6.109375 44.609375 11.75 \r\nQ 48.6875 17.390625 48.6875 27.296875 \r\nz\r\n\" id=\"DejaVuSans-112\"/>\r\n      </defs>\r\n      <use xlink:href=\"#DejaVuSans-105\"/>\r\n      <use x=\"27.783203\" xlink:href=\"#DejaVuSans-110\"/>\r\n      <use x=\"91.162109\" xlink:href=\"#DejaVuSans-115\"/>\r\n      <use x=\"143.261719\" xlink:href=\"#DejaVuSans-112\"/>\r\n      <use x=\"206.738281\" xlink:href=\"#DejaVuSans-101\"/>\r\n      <use x=\"268.261719\" xlink:href=\"#DejaVuSans-99\"/>\r\n      <use x=\"323.242188\" xlink:href=\"#DejaVuSans-116\"/>\r\n      <use x=\"362.451172\" xlink:href=\"#DejaVuSans-105\"/>\r\n      <use x=\"390.234375\" xlink:href=\"#DejaVuSans-111\"/>\r\n      <use x=\"451.416016\" xlink:href=\"#DejaVuSans-110\"/>\r\n     </g>\r\n    </g>\r\n    <g id=\"line2d_68\">\r\n     <path d=\"M 1200.514063 50.094687 \r\nL 1220.514063 50.094687 \r\n\" style=\"fill:none;stroke:#ff7f0e;stroke-linecap:square;stroke-width:1.5;\"/>\r\n    </g>\r\n    <g id=\"line2d_69\"/>\r\n    <g id=\"text_56\">\r\n     <!-- on_condition_repair -->\r\n     <g transform=\"translate(1228.514063 53.594687)scale(0.1 -0.1)\">\r\n      <use xlink:href=\"#DejaVuSans-111\"/>\r\n      <use x=\"61.181641\" xlink:href=\"#DejaVuSans-110\"/>\r\n      <use x=\"124.560547\" xlink:href=\"#DejaVuSans-95\"/>\r\n      <use x=\"174.560547\" xlink:href=\"#DejaVuSans-99\"/>\r\n      <use x=\"229.541016\" xlink:href=\"#DejaVuSans-111\"/>\r\n      <use x=\"290.722656\" xlink:href=\"#DejaVuSans-110\"/>\r\n      <use x=\"354.101562\" xlink:href=\"#DejaVuSans-100\"/>\r\n      <use x=\"417.578125\" xlink:href=\"#DejaVuSans-105\"/>\r\n      <use x=\"445.361328\" xlink:href=\"#DejaVuSans-116\"/>\r\n      <use x=\"484.570312\" xlink:href=\"#DejaVuSans-105\"/>\r\n      <use x=\"512.353516\" xlink:href=\"#DejaVuSans-111\"/>\r\n      <use x=\"573.535156\" xlink:href=\"#DejaVuSans-110\"/>\r\n      <use x=\"636.914062\" xlink:href=\"#DejaVuSans-95\"/>\r\n      <use x=\"686.914062\" xlink:href=\"#DejaVuSans-114\"/>\r\n      <use x=\"725.777344\" xlink:href=\"#DejaVuSans-101\"/>\r\n      <use x=\"787.300781\" xlink:href=\"#DejaVuSans-112\"/>\r\n      <use x=\"850.777344\" xlink:href=\"#DejaVuSans-97\"/>\r\n      <use x=\"912.056641\" xlink:href=\"#DejaVuSans-105\"/>\r\n      <use x=\"939.839844\" xlink:href=\"#DejaVuSans-114\"/>\r\n     </g>\r\n    </g>\r\n    <g id=\"line2d_70\">\r\n     <path d=\"M 1200.514063 65.050938 \r\nL 1220.514063 65.050938 \r\n\" style=\"fill:none;stroke:#2ca02c;stroke-linecap:square;stroke-width:1.5;\"/>\r\n    </g>\r\n    <g id=\"line2d_71\"/>\r\n    <g id=\"text_57\">\r\n     <!-- on_condition_replacement -->\r\n     <g transform=\"translate(1228.514063 68.550938)scale(0.1 -0.1)\">\r\n      <use xlink:href=\"#DejaVuSans-111\"/>\r\n      <use x=\"61.181641\" xlink:href=\"#DejaVuSans-110\"/>\r\n      <use x=\"124.560547\" xlink:href=\"#DejaVuSans-95\"/>\r\n      <use x=\"174.560547\" xlink:href=\"#DejaVuSans-99\"/>\r\n      <use x=\"229.541016\" xlink:href=\"#DejaVuSans-111\"/>\r\n      <use x=\"290.722656\" xlink:href=\"#DejaVuSans-110\"/>\r\n      <use x=\"354.101562\" xlink:href=\"#DejaVuSans-100\"/>\r\n      <use x=\"417.578125\" xlink:href=\"#DejaVuSans-105\"/>\r\n      <use x=\"445.361328\" xlink:href=\"#DejaVuSans-116\"/>\r\n      <use x=\"484.570312\" xlink:href=\"#DejaVuSans-105\"/>\r\n      <use x=\"512.353516\" xlink:href=\"#DejaVuSans-111\"/>\r\n      <use x=\"573.535156\" xlink:href=\"#DejaVuSans-110\"/>\r\n      <use x=\"636.914062\" xlink:href=\"#DejaVuSans-95\"/>\r\n      <use x=\"686.914062\" xlink:href=\"#DejaVuSans-114\"/>\r\n      <use x=\"725.777344\" xlink:href=\"#DejaVuSans-101\"/>\r\n      <use x=\"787.300781\" xlink:href=\"#DejaVuSans-112\"/>\r\n      <use x=\"850.777344\" xlink:href=\"#DejaVuSans-108\"/>\r\n      <use x=\"878.560547\" xlink:href=\"#DejaVuSans-97\"/>\r\n      <use x=\"939.839844\" xlink:href=\"#DejaVuSans-99\"/>\r\n      <use x=\"994.820312\" xlink:href=\"#DejaVuSans-101\"/>\r\n      <use x=\"1056.34375\" xlink:href=\"#DejaVuSans-109\"/>\r\n      <use x=\"1153.755859\" xlink:href=\"#DejaVuSans-101\"/>\r\n      <use x=\"1215.279297\" xlink:href=\"#DejaVuSans-110\"/>\r\n      <use x=\"1278.658203\" xlink:href=\"#DejaVuSans-116\"/>\r\n     </g>\r\n    </g>\r\n    <g id=\"line2d_72\">\r\n     <path d=\"M 1200.514063 80.007187 \r\nL 1220.514063 80.007187 \r\n\" style=\"fill:none;stroke:#d62728;stroke-linecap:square;stroke-width:1.5;\"/>\r\n    </g>\r\n    <g id=\"line2d_73\"/>\r\n    <g id=\"text_58\">\r\n     <!-- immediate_replacement -->\r\n     <g transform=\"translate(1228.514063 83.507187)scale(0.1 -0.1)\">\r\n      <use xlink:href=\"#DejaVuSans-105\"/>\r\n      <use x=\"27.783203\" xlink:href=\"#DejaVuSans-109\"/>\r\n      <use x=\"125.195312\" xlink:href=\"#DejaVuSans-109\"/>\r\n      <use x=\"222.607422\" xlink:href=\"#DejaVuSans-101\"/>\r\n      <use x=\"284.130859\" xlink:href=\"#DejaVuSans-100\"/>\r\n      <use x=\"347.607422\" xlink:href=\"#DejaVuSans-105\"/>\r\n      <use x=\"375.390625\" xlink:href=\"#DejaVuSans-97\"/>\r\n      <use x=\"436.669922\" xlink:href=\"#DejaVuSans-116\"/>\r\n      <use x=\"475.878906\" xlink:href=\"#DejaVuSans-101\"/>\r\n      <use x=\"537.402344\" xlink:href=\"#DejaVuSans-95\"/>\r\n      <use x=\"587.402344\" xlink:href=\"#DejaVuSans-114\"/>\r\n      <use x=\"626.265625\" xlink:href=\"#DejaVuSans-101\"/>\r\n      <use x=\"687.789062\" xlink:href=\"#DejaVuSans-112\"/>\r\n      <use x=\"751.265625\" xlink:href=\"#DejaVuSans-108\"/>\r\n      <use x=\"779.048828\" xlink:href=\"#DejaVuSans-97\"/>\r\n      <use x=\"840.328125\" xlink:href=\"#DejaVuSans-99\"/>\r\n      <use x=\"895.308594\" xlink:href=\"#DejaVuSans-101\"/>\r\n      <use x=\"956.832031\" xlink:href=\"#DejaVuSans-109\"/>\r\n      <use x=\"1054.244141\" xlink:href=\"#DejaVuSans-101\"/>\r\n      <use x=\"1115.767578\" xlink:href=\"#DejaVuSans-110\"/>\r\n      <use x=\"1179.146484\" xlink:href=\"#DejaVuSans-116\"/>\r\n     </g>\r\n    </g>\r\n   </g>\r\n  </g>\r\n </g>\r\n <defs>\r\n  <clipPath id=\"p78f1a85354\">\r\n   <rect height=\"217.44\" width=\"393.882353\" x=\"30.103125\" y=\"22.318125\"/>\r\n  </clipPath>\r\n  <clipPath id=\"p4ce951430c\">\r\n   <rect height=\"217.44\" width=\"393.882353\" x=\"502.761949\" y=\"22.318125\"/>\r\n  </clipPath>\r\n  <clipPath id=\"p59645d0e8f\">\r\n   <rect height=\"217.44\" width=\"393.882353\" x=\"975.420772\" y=\"22.318125\"/>\r\n  </clipPath>\r\n </defs>\r\n</svg>\r\n",
      "image/png": "[encoded data removed]"
     },
     "metadata": {
      "needs_background": "light"
     }
    }
   ],
   "source": [
    "timeline = fm.sim_timeline(200, verbose=False)\n",
    "fm.plot_timeline()"
   ]
  },
  {
   "cell_type": "code",
   "execution_count": 8,
   "metadata": {},
   "outputs": [
    {
     "output_type": "execute_result",
     "data": {
      "text/plain": "['time',\n 'initiation',\n 'wall_thickness',\n 'external_diameter',\n 'failure',\n 'inspection',\n 'detection',\n 'on_condition_repair',\n 'on_condition_replacement',\n 'immediate_replacement']"
     },
     "metadata": {},
     "execution_count": 8
    }
   ],
   "source": [
    "list(timeline)"
   ]
  },
  {
   "cell_type": "markdown",
   "metadata": {},
   "source": [
    "The simulation above assumes that the failure mode is in perfect condition while the simulation below starts with some accumulated damage."
   ]
  },
  {
   "cell_type": "code",
   "execution_count": 4,
   "metadata": {
    "tags": []
   },
   "outputs": [
    {
     "output_type": "display_data",
     "data": {
      "text/plain": "<Figure size 1728x288 with 3 Axes>",
      "image/svg+xml": "<?xml version=\"1.0\" encoding=\"utf-8\" standalone=\"no\"?>\r\n<!DOCTYPE svg PUBLIC \"-//W3C//DTD SVG 1.1//EN\"\r\n  \"http://www.w3.org/Graphics/SVG/1.1/DTD/svg11.dtd\">\r\n<!-- Created with matplotlib (https://matplotlib.org/) -->\r\n<svg height=\"263.63625pt\" version=\"1.1\" viewBox=\"0 0 1376.503125 263.63625\" width=\"1376.503125pt\" xmlns=\"http://www.w3.org/2000/svg\" xmlns:xlink=\"http://www.w3.org/1999/xlink\">\r\n <metadata>\r\n  <rdf:RDF xmlns:cc=\"http://creativecommons.org/ns#\" xmlns:dc=\"http://purl.org/dc/elements/1.1/\" xmlns:rdf=\"http://www.w3.org/1999/02/22-rdf-syntax-ns#\">\r\n   <cc:Work>\r\n    <dc:type rdf:resource=\"http://purl.org/dc/dcmitype/StillImage\"/>\r\n    <dc:date>2020-09-01T08:09:09.739656</dc:date>\r\n    <dc:format>image/svg+xml</dc:format>\r\n    <dc:creator>\r\n     <cc:Agent>\r\n      <dc:title>Matplotlib v3.3.0, https://matplotlib.org/</dc:title>\r\n     </cc:Agent>\r\n    </dc:creator>\r\n   </cc:Work>\r\n  </rdf:RDF>\r\n </metadata>\r\n <defs>\r\n  <style type=\"text/css\">*{stroke-linecap:butt;stroke-linejoin:round;}</style>\r\n </defs>\r\n <g id=\"figure_1\">\r\n  <g id=\"patch_1\">\r\n   <path d=\"M 0 263.63625 \r\nL 1376.503125 263.63625 \r\nL 1376.503125 0 \r\nL 0 0 \r\nz\r\n\" style=\"fill:none;\"/>\r\n  </g>\r\n  <g id=\"axes_1\">\r\n   <g id=\"patch_2\">\r\n    <path d=\"M 30.103125 239.758125 \r\nL 423.985478 239.758125 \r\nL 423.985478 22.318125 \r\nL 30.103125 22.318125 \r\nz\r\n\" style=\"fill:#ffffff;\"/>\r\n   </g>\r\n   <g id=\"matplotlib.axis_1\">\r\n    <g id=\"xtick_1\">\r\n     <g id=\"line2d_1\">\r\n      <defs>\r\n       <path d=\"M 0 0 \r\nL 0 3.5 \r\n\" id=\"ma26863e5db\" style=\"stroke:#000000;stroke-width:0.8;\"/>\r\n      </defs>\r\n      <g>\r\n       <use style=\"stroke:#000000;stroke-width:0.8;\" x=\"48.006868\" xlink:href=\"#ma26863e5db\" y=\"239.758125\"/>\r\n      </g>\r\n     </g>\r\n     <g id=\"text_1\">\r\n      <!-- 0 -->\r\n      <g transform=\"translate(44.825618 254.356563)scale(0.1 -0.1)\">\r\n       <defs>\r\n        <path d=\"M 31.78125 66.40625 \r\nQ 24.171875 66.40625 20.328125 58.90625 \r\nQ 16.5 51.421875 16.5 36.375 \r\nQ 16.5 21.390625 20.328125 13.890625 \r\nQ 24.171875 6.390625 31.78125 6.390625 \r\nQ 39.453125 6.390625 43.28125 13.890625 \r\nQ 47.125 21.390625 47.125 36.375 \r\nQ 47.125 51.421875 43.28125 58.90625 \r\nQ 39.453125 66.40625 31.78125 66.40625 \r\nz\r\nM 31.78125 74.21875 \r\nQ 44.046875 74.21875 50.515625 64.515625 \r\nQ 56.984375 54.828125 56.984375 36.375 \r\nQ 56.984375 17.96875 50.515625 8.265625 \r\nQ 44.046875 -1.421875 31.78125 -1.421875 \r\nQ 19.53125 -1.421875 13.0625 8.265625 \r\nQ 6.59375 17.96875 6.59375 36.375 \r\nQ 6.59375 54.828125 13.0625 64.515625 \r\nQ 19.53125 74.21875 31.78125 74.21875 \r\nz\r\n\" id=\"DejaVuSans-48\"/>\r\n       </defs>\r\n       <use xlink:href=\"#DejaVuSans-48\"/>\r\n      </g>\r\n     </g>\r\n    </g>\r\n    <g id=\"xtick_2\">\r\n     <g id=\"line2d_2\">\r\n      <g>\r\n       <use style=\"stroke:#000000;stroke-width:0.8;\" x=\"92.766227\" xlink:href=\"#ma26863e5db\" y=\"239.758125\"/>\r\n      </g>\r\n     </g>\r\n     <g id=\"text_2\">\r\n      <!-- 25 -->\r\n      <g transform=\"translate(86.403727 254.356563)scale(0.1 -0.1)\">\r\n       <defs>\r\n        <path d=\"M 19.1875 8.296875 \r\nL 53.609375 8.296875 \r\nL 53.609375 0 \r\nL 7.328125 0 \r\nL 7.328125 8.296875 \r\nQ 12.9375 14.109375 22.625 23.890625 \r\nQ 32.328125 33.6875 34.8125 36.53125 \r\nQ 39.546875 41.84375 41.421875 45.53125 \r\nQ 43.3125 49.21875 43.3125 52.78125 \r\nQ 43.3125 58.59375 39.234375 62.25 \r\nQ 35.15625 65.921875 28.609375 65.921875 \r\nQ 23.96875 65.921875 18.8125 64.3125 \r\nQ 13.671875 62.703125 7.8125 59.421875 \r\nL 7.8125 69.390625 \r\nQ 13.765625 71.78125 18.9375 73 \r\nQ 24.125 74.21875 28.421875 74.21875 \r\nQ 39.75 74.21875 46.484375 68.546875 \r\nQ 53.21875 62.890625 53.21875 53.421875 \r\nQ 53.21875 48.921875 51.53125 44.890625 \r\nQ 49.859375 40.875 45.40625 35.40625 \r\nQ 44.1875 33.984375 37.640625 27.21875 \r\nQ 31.109375 20.453125 19.1875 8.296875 \r\nz\r\n\" id=\"DejaVuSans-50\"/>\r\n        <path d=\"M 10.796875 72.90625 \r\nL 49.515625 72.90625 \r\nL 49.515625 64.59375 \r\nL 19.828125 64.59375 \r\nL 19.828125 46.734375 \r\nQ 21.96875 47.46875 24.109375 47.828125 \r\nQ 26.265625 48.1875 28.421875 48.1875 \r\nQ 40.625 48.1875 47.75 41.5 \r\nQ 54.890625 34.8125 54.890625 23.390625 \r\nQ 54.890625 11.625 47.5625 5.09375 \r\nQ 40.234375 -1.421875 26.90625 -1.421875 \r\nQ 22.3125 -1.421875 17.546875 -0.640625 \r\nQ 12.796875 0.140625 7.71875 1.703125 \r\nL 7.71875 11.625 \r\nQ 12.109375 9.234375 16.796875 8.0625 \r\nQ 21.484375 6.890625 26.703125 6.890625 \r\nQ 35.15625 6.890625 40.078125 11.328125 \r\nQ 45.015625 15.765625 45.015625 23.390625 \r\nQ 45.015625 31 40.078125 35.4375 \r\nQ 35.15625 39.890625 26.703125 39.890625 \r\nQ 22.75 39.890625 18.8125 39.015625 \r\nQ 14.890625 38.140625 10.796875 36.28125 \r\nz\r\n\" id=\"DejaVuSans-53\"/>\r\n       </defs>\r\n       <use xlink:href=\"#DejaVuSans-50\"/>\r\n       <use x=\"63.623047\" xlink:href=\"#DejaVuSans-53\"/>\r\n      </g>\r\n     </g>\r\n    </g>\r\n    <g id=\"xtick_3\">\r\n     <g id=\"line2d_3\">\r\n      <g>\r\n       <use style=\"stroke:#000000;stroke-width:0.8;\" x=\"137.525585\" xlink:href=\"#ma26863e5db\" y=\"239.758125\"/>\r\n      </g>\r\n     </g>\r\n     <g id=\"text_3\">\r\n      <!-- 50 -->\r\n      <g transform=\"translate(131.163085 254.356563)scale(0.1 -0.1)\">\r\n       <use xlink:href=\"#DejaVuSans-53\"/>\r\n       <use x=\"63.623047\" xlink:href=\"#DejaVuSans-48\"/>\r\n      </g>\r\n     </g>\r\n    </g>\r\n    <g id=\"xtick_4\">\r\n     <g id=\"line2d_4\">\r\n      <g>\r\n       <use style=\"stroke:#000000;stroke-width:0.8;\" x=\"182.284943\" xlink:href=\"#ma26863e5db\" y=\"239.758125\"/>\r\n      </g>\r\n     </g>\r\n     <g id=\"text_4\">\r\n      <!-- 75 -->\r\n      <g transform=\"translate(175.922443 254.356563)scale(0.1 -0.1)\">\r\n       <defs>\r\n        <path d=\"M 8.203125 72.90625 \r\nL 55.078125 72.90625 \r\nL 55.078125 68.703125 \r\nL 28.609375 0 \r\nL 18.3125 0 \r\nL 43.21875 64.59375 \r\nL 8.203125 64.59375 \r\nz\r\n\" id=\"DejaVuSans-55\"/>\r\n       </defs>\r\n       <use xlink:href=\"#DejaVuSans-55\"/>\r\n       <use x=\"63.623047\" xlink:href=\"#DejaVuSans-53\"/>\r\n      </g>\r\n     </g>\r\n    </g>\r\n    <g id=\"xtick_5\">\r\n     <g id=\"line2d_5\">\r\n      <g>\r\n       <use style=\"stroke:#000000;stroke-width:0.8;\" x=\"227.044301\" xlink:href=\"#ma26863e5db\" y=\"239.758125\"/>\r\n      </g>\r\n     </g>\r\n     <g id=\"text_5\">\r\n      <!-- 100 -->\r\n      <g transform=\"translate(217.500551 254.356563)scale(0.1 -0.1)\">\r\n       <defs>\r\n        <path d=\"M 12.40625 8.296875 \r\nL 28.515625 8.296875 \r\nL 28.515625 63.921875 \r\nL 10.984375 60.40625 \r\nL 10.984375 69.390625 \r\nL 28.421875 72.90625 \r\nL 38.28125 72.90625 \r\nL 38.28125 8.296875 \r\nL 54.390625 8.296875 \r\nL 54.390625 0 \r\nL 12.40625 0 \r\nz\r\n\" id=\"DejaVuSans-49\"/>\r\n       </defs>\r\n       <use xlink:href=\"#DejaVuSans-49\"/>\r\n       <use x=\"63.623047\" xlink:href=\"#DejaVuSans-48\"/>\r\n       <use x=\"127.246094\" xlink:href=\"#DejaVuSans-48\"/>\r\n      </g>\r\n     </g>\r\n    </g>\r\n    <g id=\"xtick_6\">\r\n     <g id=\"line2d_6\">\r\n      <g>\r\n       <use style=\"stroke:#000000;stroke-width:0.8;\" x=\"271.80366\" xlink:href=\"#ma26863e5db\" y=\"239.758125\"/>\r\n      </g>\r\n     </g>\r\n     <g id=\"text_6\">\r\n      <!-- 125 -->\r\n      <g transform=\"translate(262.25991 254.356563)scale(0.1 -0.1)\">\r\n       <use xlink:href=\"#DejaVuSans-49\"/>\r\n       <use x=\"63.623047\" xlink:href=\"#DejaVuSans-50\"/>\r\n       <use x=\"127.246094\" xlink:href=\"#DejaVuSans-53\"/>\r\n      </g>\r\n     </g>\r\n    </g>\r\n    <g id=\"xtick_7\">\r\n     <g id=\"line2d_7\">\r\n      <g>\r\n       <use style=\"stroke:#000000;stroke-width:0.8;\" x=\"316.563018\" xlink:href=\"#ma26863e5db\" y=\"239.758125\"/>\r\n      </g>\r\n     </g>\r\n     <g id=\"text_7\">\r\n      <!-- 150 -->\r\n      <g transform=\"translate(307.019268 254.356563)scale(0.1 -0.1)\">\r\n       <use xlink:href=\"#DejaVuSans-49\"/>\r\n       <use x=\"63.623047\" xlink:href=\"#DejaVuSans-53\"/>\r\n       <use x=\"127.246094\" xlink:href=\"#DejaVuSans-48\"/>\r\n      </g>\r\n     </g>\r\n    </g>\r\n    <g id=\"xtick_8\">\r\n     <g id=\"line2d_8\">\r\n      <g>\r\n       <use style=\"stroke:#000000;stroke-width:0.8;\" x=\"361.322376\" xlink:href=\"#ma26863e5db\" y=\"239.758125\"/>\r\n      </g>\r\n     </g>\r\n     <g id=\"text_8\">\r\n      <!-- 175 -->\r\n      <g transform=\"translate(351.778626 254.356563)scale(0.1 -0.1)\">\r\n       <use xlink:href=\"#DejaVuSans-49\"/>\r\n       <use x=\"63.623047\" xlink:href=\"#DejaVuSans-55\"/>\r\n       <use x=\"127.246094\" xlink:href=\"#DejaVuSans-53\"/>\r\n      </g>\r\n     </g>\r\n    </g>\r\n    <g id=\"xtick_9\">\r\n     <g id=\"line2d_9\">\r\n      <g>\r\n       <use style=\"stroke:#000000;stroke-width:0.8;\" x=\"406.081735\" xlink:href=\"#ma26863e5db\" y=\"239.758125\"/>\r\n      </g>\r\n     </g>\r\n     <g id=\"text_9\">\r\n      <!-- 200 -->\r\n      <g transform=\"translate(396.537985 254.356563)scale(0.1 -0.1)\">\r\n       <use xlink:href=\"#DejaVuSans-50\"/>\r\n       <use x=\"63.623047\" xlink:href=\"#DejaVuSans-48\"/>\r\n       <use x=\"127.246094\" xlink:href=\"#DejaVuSans-48\"/>\r\n      </g>\r\n     </g>\r\n    </g>\r\n   </g>\r\n   <g id=\"matplotlib.axis_2\">\r\n    <g id=\"ytick_1\">\r\n     <g id=\"line2d_10\">\r\n      <defs>\r\n       <path d=\"M 0 0 \r\nL -3.5 0 \r\n\" id=\"m9725a34861\" style=\"stroke:#000000;stroke-width:0.8;\"/>\r\n      </defs>\r\n      <g>\r\n       <use style=\"stroke:#000000;stroke-width:0.8;\" x=\"30.103125\" xlink:href=\"#m9725a34861\" y=\"229.874489\"/>\r\n      </g>\r\n     </g>\r\n     <g id=\"text_10\">\r\n      <!-- 0.0 -->\r\n      <g transform=\"translate(7.2 233.673707)scale(0.1 -0.1)\">\r\n       <defs>\r\n        <path d=\"M 10.6875 12.40625 \r\nL 21 12.40625 \r\nL 21 0 \r\nL 10.6875 0 \r\nz\r\n\" id=\"DejaVuSans-46\"/>\r\n       </defs>\r\n       <use xlink:href=\"#DejaVuSans-48\"/>\r\n       <use x=\"63.623047\" xlink:href=\"#DejaVuSans-46\"/>\r\n       <use x=\"95.410156\" xlink:href=\"#DejaVuSans-48\"/>\r\n      </g>\r\n     </g>\r\n    </g>\r\n    <g id=\"ytick_2\">\r\n     <g id=\"line2d_11\">\r\n      <g>\r\n       <use style=\"stroke:#000000;stroke-width:0.8;\" x=\"30.103125\" xlink:href=\"#m9725a34861\" y=\"190.339943\"/>\r\n      </g>\r\n     </g>\r\n     <g id=\"text_11\">\r\n      <!-- 0.2 -->\r\n      <g transform=\"translate(7.2 194.139162)scale(0.1 -0.1)\">\r\n       <use xlink:href=\"#DejaVuSans-48\"/>\r\n       <use x=\"63.623047\" xlink:href=\"#DejaVuSans-46\"/>\r\n       <use x=\"95.410156\" xlink:href=\"#DejaVuSans-50\"/>\r\n      </g>\r\n     </g>\r\n    </g>\r\n    <g id=\"ytick_3\">\r\n     <g id=\"line2d_12\">\r\n      <g>\r\n       <use style=\"stroke:#000000;stroke-width:0.8;\" x=\"30.103125\" xlink:href=\"#m9725a34861\" y=\"150.805398\"/>\r\n      </g>\r\n     </g>\r\n     <g id=\"text_12\">\r\n      <!-- 0.4 -->\r\n      <g transform=\"translate(7.2 154.604616)scale(0.1 -0.1)\">\r\n       <defs>\r\n        <path d=\"M 37.796875 64.3125 \r\nL 12.890625 25.390625 \r\nL 37.796875 25.390625 \r\nz\r\nM 35.203125 72.90625 \r\nL 47.609375 72.90625 \r\nL 47.609375 25.390625 \r\nL 58.015625 25.390625 \r\nL 58.015625 17.1875 \r\nL 47.609375 17.1875 \r\nL 47.609375 0 \r\nL 37.796875 0 \r\nL 37.796875 17.1875 \r\nL 4.890625 17.1875 \r\nL 4.890625 26.703125 \r\nz\r\n\" id=\"DejaVuSans-52\"/>\r\n       </defs>\r\n       <use xlink:href=\"#DejaVuSans-48\"/>\r\n       <use x=\"63.623047\" xlink:href=\"#DejaVuSans-46\"/>\r\n       <use x=\"95.410156\" xlink:href=\"#DejaVuSans-52\"/>\r\n      </g>\r\n     </g>\r\n    </g>\r\n    <g id=\"ytick_4\">\r\n     <g id=\"line2d_13\">\r\n      <g>\r\n       <use style=\"stroke:#000000;stroke-width:0.8;\" x=\"30.103125\" xlink:href=\"#m9725a34861\" y=\"111.270852\"/>\r\n      </g>\r\n     </g>\r\n     <g id=\"text_13\">\r\n      <!-- 0.6 -->\r\n      <g transform=\"translate(7.2 115.070071)scale(0.1 -0.1)\">\r\n       <defs>\r\n        <path d=\"M 33.015625 40.375 \r\nQ 26.375 40.375 22.484375 35.828125 \r\nQ 18.609375 31.296875 18.609375 23.390625 \r\nQ 18.609375 15.53125 22.484375 10.953125 \r\nQ 26.375 6.390625 33.015625 6.390625 \r\nQ 39.65625 6.390625 43.53125 10.953125 \r\nQ 47.40625 15.53125 47.40625 23.390625 \r\nQ 47.40625 31.296875 43.53125 35.828125 \r\nQ 39.65625 40.375 33.015625 40.375 \r\nz\r\nM 52.59375 71.296875 \r\nL 52.59375 62.3125 \r\nQ 48.875 64.0625 45.09375 64.984375 \r\nQ 41.3125 65.921875 37.59375 65.921875 \r\nQ 27.828125 65.921875 22.671875 59.328125 \r\nQ 17.53125 52.734375 16.796875 39.40625 \r\nQ 19.671875 43.65625 24.015625 45.921875 \r\nQ 28.375 48.1875 33.59375 48.1875 \r\nQ 44.578125 48.1875 50.953125 41.515625 \r\nQ 57.328125 34.859375 57.328125 23.390625 \r\nQ 57.328125 12.15625 50.6875 5.359375 \r\nQ 44.046875 -1.421875 33.015625 -1.421875 \r\nQ 20.359375 -1.421875 13.671875 8.265625 \r\nQ 6.984375 17.96875 6.984375 36.375 \r\nQ 6.984375 53.65625 15.1875 63.9375 \r\nQ 23.390625 74.21875 37.203125 74.21875 \r\nQ 40.921875 74.21875 44.703125 73.484375 \r\nQ 48.484375 72.75 52.59375 71.296875 \r\nz\r\n\" id=\"DejaVuSans-54\"/>\r\n       </defs>\r\n       <use xlink:href=\"#DejaVuSans-48\"/>\r\n       <use x=\"63.623047\" xlink:href=\"#DejaVuSans-46\"/>\r\n       <use x=\"95.410156\" xlink:href=\"#DejaVuSans-54\"/>\r\n      </g>\r\n     </g>\r\n    </g>\r\n    <g id=\"ytick_5\">\r\n     <g id=\"line2d_14\">\r\n      <g>\r\n       <use style=\"stroke:#000000;stroke-width:0.8;\" x=\"30.103125\" xlink:href=\"#m9725a34861\" y=\"71.736307\"/>\r\n      </g>\r\n     </g>\r\n     <g id=\"text_14\">\r\n      <!-- 0.8 -->\r\n      <g transform=\"translate(7.2 75.535526)scale(0.1 -0.1)\">\r\n       <defs>\r\n        <path d=\"M 31.78125 34.625 \r\nQ 24.75 34.625 20.71875 30.859375 \r\nQ 16.703125 27.09375 16.703125 20.515625 \r\nQ 16.703125 13.921875 20.71875 10.15625 \r\nQ 24.75 6.390625 31.78125 6.390625 \r\nQ 38.8125 6.390625 42.859375 10.171875 \r\nQ 46.921875 13.96875 46.921875 20.515625 \r\nQ 46.921875 27.09375 42.890625 30.859375 \r\nQ 38.875 34.625 31.78125 34.625 \r\nz\r\nM 21.921875 38.8125 \r\nQ 15.578125 40.375 12.03125 44.71875 \r\nQ 8.5 49.078125 8.5 55.328125 \r\nQ 8.5 64.0625 14.71875 69.140625 \r\nQ 20.953125 74.21875 31.78125 74.21875 \r\nQ 42.671875 74.21875 48.875 69.140625 \r\nQ 55.078125 64.0625 55.078125 55.328125 \r\nQ 55.078125 49.078125 51.53125 44.71875 \r\nQ 48 40.375 41.703125 38.8125 \r\nQ 48.828125 37.15625 52.796875 32.3125 \r\nQ 56.78125 27.484375 56.78125 20.515625 \r\nQ 56.78125 9.90625 50.3125 4.234375 \r\nQ 43.84375 -1.421875 31.78125 -1.421875 \r\nQ 19.734375 -1.421875 13.25 4.234375 \r\nQ 6.78125 9.90625 6.78125 20.515625 \r\nQ 6.78125 27.484375 10.78125 32.3125 \r\nQ 14.796875 37.15625 21.921875 38.8125 \r\nz\r\nM 18.3125 54.390625 \r\nQ 18.3125 48.734375 21.84375 45.5625 \r\nQ 25.390625 42.390625 31.78125 42.390625 \r\nQ 38.140625 42.390625 41.71875 45.5625 \r\nQ 45.3125 48.734375 45.3125 54.390625 \r\nQ 45.3125 60.0625 41.71875 63.234375 \r\nQ 38.140625 66.40625 31.78125 66.40625 \r\nQ 25.390625 66.40625 21.84375 63.234375 \r\nQ 18.3125 60.0625 18.3125 54.390625 \r\nz\r\n\" id=\"DejaVuSans-56\"/>\r\n       </defs>\r\n       <use xlink:href=\"#DejaVuSans-48\"/>\r\n       <use x=\"63.623047\" xlink:href=\"#DejaVuSans-46\"/>\r\n       <use x=\"95.410156\" xlink:href=\"#DejaVuSans-56\"/>\r\n      </g>\r\n     </g>\r\n    </g>\r\n    <g id=\"ytick_6\">\r\n     <g id=\"line2d_15\">\r\n      <g>\r\n       <use style=\"stroke:#000000;stroke-width:0.8;\" x=\"30.103125\" xlink:href=\"#m9725a34861\" y=\"32.201761\"/>\r\n      </g>\r\n     </g>\r\n     <g id=\"text_15\">\r\n      <!-- 1.0 -->\r\n      <g transform=\"translate(7.2 36.00098)scale(0.1 -0.1)\">\r\n       <use xlink:href=\"#DejaVuSans-49\"/>\r\n       <use x=\"63.623047\" xlink:href=\"#DejaVuSans-46\"/>\r\n       <use x=\"95.410156\" xlink:href=\"#DejaVuSans-48\"/>\r\n      </g>\r\n     </g>\r\n    </g>\r\n   </g>\r\n   <g id=\"line2d_16\">\r\n    <path clip-path=\"url(#p5450ac74cd)\" d=\"M 48.006868 229.874489 \r\nL 162.590826 229.874489 \r\nL 164.3812 32.201761 \r\nL 166.171574 32.201761 \r\nL 167.961949 229.874489 \r\nL 404.29136 229.874489 \r\nL 406.081735 32.201761 \r\nL 406.081735 32.201761 \r\n\" style=\"fill:none;stroke:#1f77b4;stroke-linecap:square;stroke-width:1.5;\"/>\r\n   </g>\r\n   <g id=\"line2d_17\">\r\n    <path clip-path=\"url(#p5450ac74cd)\" d=\"M 48.006868 229.874489 \r\nL 164.3812 229.874489 \r\nL 166.171574 32.201761 \r\nL 167.961949 229.874489 \r\nL 406.081735 229.874489 \r\nL 406.081735 229.874489 \r\n\" style=\"fill:none;stroke:#ff7f0e;stroke-linecap:square;stroke-width:1.5;\"/>\r\n   </g>\r\n   <g id=\"line2d_18\">\r\n    <path clip-path=\"url(#p5450ac74cd)\" d=\"M 48.006868 229.874489 \r\nL 406.081735 229.874489 \r\nL 406.081735 229.874489 \r\n\" style=\"fill:none;stroke:#2ca02c;stroke-linecap:square;stroke-width:1.5;\"/>\r\n   </g>\r\n   <g id=\"patch_3\">\r\n    <path d=\"M 30.103125 239.758125 \r\nL 30.103125 22.318125 \r\n\" style=\"fill:none;stroke:#000000;stroke-linecap:square;stroke-linejoin:miter;stroke-width:0.8;\"/>\r\n   </g>\r\n   <g id=\"patch_4\">\r\n    <path d=\"M 423.985478 239.758125 \r\nL 423.985478 22.318125 \r\n\" style=\"fill:none;stroke:#000000;stroke-linecap:square;stroke-linejoin:miter;stroke-width:0.8;\"/>\r\n   </g>\r\n   <g id=\"patch_5\">\r\n    <path d=\"M 30.103125 239.758125 \r\nL 423.985478 239.758125 \r\n\" style=\"fill:none;stroke:#000000;stroke-linecap:square;stroke-linejoin:miter;stroke-width:0.8;\"/>\r\n   </g>\r\n   <g id=\"patch_6\">\r\n    <path d=\"M 30.103125 22.318125 \r\nL 423.985478 22.318125 \r\n\" style=\"fill:none;stroke:#000000;stroke-linecap:square;stroke-linejoin:miter;stroke-width:0.8;\"/>\r\n   </g>\r\n   <g id=\"text_16\">\r\n    <!-- State -->\r\n    <g transform=\"translate(211.162114 16.318125)scale(0.12 -0.12)\">\r\n     <defs>\r\n      <path d=\"M 53.515625 70.515625 \r\nL 53.515625 60.890625 \r\nQ 47.90625 63.578125 42.921875 64.890625 \r\nQ 37.9375 66.21875 33.296875 66.21875 \r\nQ 25.25 66.21875 20.875 63.09375 \r\nQ 16.5 59.96875 16.5 54.203125 \r\nQ 16.5 49.359375 19.40625 46.890625 \r\nQ 22.3125 44.4375 30.421875 42.921875 \r\nL 36.375 41.703125 \r\nQ 47.40625 39.59375 52.65625 34.296875 \r\nQ 57.90625 29 57.90625 20.125 \r\nQ 57.90625 9.515625 50.796875 4.046875 \r\nQ 43.703125 -1.421875 29.984375 -1.421875 \r\nQ 24.8125 -1.421875 18.96875 -0.25 \r\nQ 13.140625 0.921875 6.890625 3.21875 \r\nL 6.890625 13.375 \r\nQ 12.890625 10.015625 18.65625 8.296875 \r\nQ 24.421875 6.59375 29.984375 6.59375 \r\nQ 38.421875 6.59375 43.015625 9.90625 \r\nQ 47.609375 13.234375 47.609375 19.390625 \r\nQ 47.609375 24.75 44.3125 27.78125 \r\nQ 41.015625 30.8125 33.5 32.328125 \r\nL 27.484375 33.5 \r\nQ 16.453125 35.6875 11.515625 40.375 \r\nQ 6.59375 45.0625 6.59375 53.421875 \r\nQ 6.59375 63.09375 13.40625 68.65625 \r\nQ 20.21875 74.21875 32.171875 74.21875 \r\nQ 37.3125 74.21875 42.625 73.28125 \r\nQ 47.953125 72.359375 53.515625 70.515625 \r\nz\r\n\" id=\"DejaVuSans-83\"/>\r\n      <path d=\"M 18.3125 70.21875 \r\nL 18.3125 54.6875 \r\nL 36.8125 54.6875 \r\nL 36.8125 47.703125 \r\nL 18.3125 47.703125 \r\nL 18.3125 18.015625 \r\nQ 18.3125 11.328125 20.140625 9.421875 \r\nQ 21.96875 7.515625 27.59375 7.515625 \r\nL 36.8125 7.515625 \r\nL 36.8125 0 \r\nL 27.59375 0 \r\nQ 17.1875 0 13.234375 3.875 \r\nQ 9.28125 7.765625 9.28125 18.015625 \r\nL 9.28125 47.703125 \r\nL 2.6875 47.703125 \r\nL 2.6875 54.6875 \r\nL 9.28125 54.6875 \r\nL 9.28125 70.21875 \r\nz\r\n\" id=\"DejaVuSans-116\"/>\r\n      <path d=\"M 34.28125 27.484375 \r\nQ 23.390625 27.484375 19.1875 25 \r\nQ 14.984375 22.515625 14.984375 16.5 \r\nQ 14.984375 11.71875 18.140625 8.90625 \r\nQ 21.296875 6.109375 26.703125 6.109375 \r\nQ 34.1875 6.109375 38.703125 11.40625 \r\nQ 43.21875 16.703125 43.21875 25.484375 \r\nL 43.21875 27.484375 \r\nz\r\nM 52.203125 31.203125 \r\nL 52.203125 0 \r\nL 43.21875 0 \r\nL 43.21875 8.296875 \r\nQ 40.140625 3.328125 35.546875 0.953125 \r\nQ 30.953125 -1.421875 24.3125 -1.421875 \r\nQ 15.921875 -1.421875 10.953125 3.296875 \r\nQ 6 8.015625 6 15.921875 \r\nQ 6 25.140625 12.171875 29.828125 \r\nQ 18.359375 34.515625 30.609375 34.515625 \r\nL 43.21875 34.515625 \r\nL 43.21875 35.40625 \r\nQ 43.21875 41.609375 39.140625 45 \r\nQ 35.0625 48.390625 27.6875 48.390625 \r\nQ 23 48.390625 18.546875 47.265625 \r\nQ 14.109375 46.140625 10.015625 43.890625 \r\nL 10.015625 52.203125 \r\nQ 14.9375 54.109375 19.578125 55.046875 \r\nQ 24.21875 56 28.609375 56 \r\nQ 40.484375 56 46.34375 49.84375 \r\nQ 52.203125 43.703125 52.203125 31.203125 \r\nz\r\n\" id=\"DejaVuSans-97\"/>\r\n      <path d=\"M 56.203125 29.59375 \r\nL 56.203125 25.203125 \r\nL 14.890625 25.203125 \r\nQ 15.484375 15.921875 20.484375 11.0625 \r\nQ 25.484375 6.203125 34.421875 6.203125 \r\nQ 39.59375 6.203125 44.453125 7.46875 \r\nQ 49.3125 8.734375 54.109375 11.28125 \r\nL 54.109375 2.78125 \r\nQ 49.265625 0.734375 44.1875 -0.34375 \r\nQ 39.109375 -1.421875 33.890625 -1.421875 \r\nQ 20.796875 -1.421875 13.15625 6.1875 \r\nQ 5.515625 13.8125 5.515625 26.8125 \r\nQ 5.515625 40.234375 12.765625 48.109375 \r\nQ 20.015625 56 32.328125 56 \r\nQ 43.359375 56 49.78125 48.890625 \r\nQ 56.203125 41.796875 56.203125 29.59375 \r\nz\r\nM 47.21875 32.234375 \r\nQ 47.125 39.59375 43.09375 43.984375 \r\nQ 39.0625 48.390625 32.421875 48.390625 \r\nQ 24.90625 48.390625 20.390625 44.140625 \r\nQ 15.875 39.890625 15.1875 32.171875 \r\nz\r\n\" id=\"DejaVuSans-101\"/>\r\n     </defs>\r\n     <use xlink:href=\"#DejaVuSans-83\"/>\r\n     <use x=\"63.476562\" xlink:href=\"#DejaVuSans-116\"/>\r\n     <use x=\"102.685547\" xlink:href=\"#DejaVuSans-97\"/>\r\n     <use x=\"163.964844\" xlink:href=\"#DejaVuSans-116\"/>\r\n     <use x=\"203.173828\" xlink:href=\"#DejaVuSans-101\"/>\r\n    </g>\r\n   </g>\r\n   <g id=\"legend_1\">\r\n    <g id=\"patch_7\">\r\n     <path d=\"M 37.103125 74.3525 \r\nL 116.33125 74.3525 \r\nQ 118.33125 74.3525 118.33125 72.3525 \r\nL 118.33125 29.318125 \r\nQ 118.33125 27.318125 116.33125 27.318125 \r\nL 37.103125 27.318125 \r\nQ 35.103125 27.318125 35.103125 29.318125 \r\nL 35.103125 72.3525 \r\nQ 35.103125 74.3525 37.103125 74.3525 \r\nz\r\n\" style=\"fill:#ffffff;opacity:0.8;stroke:#cccccc;stroke-linejoin:miter;\"/>\r\n    </g>\r\n    <g id=\"line2d_19\">\r\n     <path d=\"M 39.103125 35.416563 \r\nL 59.103125 35.416563 \r\n\" style=\"fill:none;stroke:#1f77b4;stroke-linecap:square;stroke-width:1.5;\"/>\r\n    </g>\r\n    <g id=\"line2d_20\"/>\r\n    <g id=\"text_17\">\r\n     <!-- initiation -->\r\n     <g transform=\"translate(67.103125 38.916563)scale(0.1 -0.1)\">\r\n      <defs>\r\n       <path d=\"M 9.421875 54.6875 \r\nL 18.40625 54.6875 \r\nL 18.40625 0 \r\nL 9.421875 0 \r\nz\r\nM 9.421875 75.984375 \r\nL 18.40625 75.984375 \r\nL 18.40625 64.59375 \r\nL 9.421875 64.59375 \r\nz\r\n\" id=\"DejaVuSans-105\"/>\r\n       <path d=\"M 54.890625 33.015625 \r\nL 54.890625 0 \r\nL 45.90625 0 \r\nL 45.90625 32.71875 \r\nQ 45.90625 40.484375 42.875 44.328125 \r\nQ 39.84375 48.1875 33.796875 48.1875 \r\nQ 26.515625 48.1875 22.3125 43.546875 \r\nQ 18.109375 38.921875 18.109375 30.90625 \r\nL 18.109375 0 \r\nL 9.078125 0 \r\nL 9.078125 54.6875 \r\nL 18.109375 54.6875 \r\nL 18.109375 46.1875 \r\nQ 21.34375 51.125 25.703125 53.5625 \r\nQ 30.078125 56 35.796875 56 \r\nQ 45.21875 56 50.046875 50.171875 \r\nQ 54.890625 44.34375 54.890625 33.015625 \r\nz\r\n\" id=\"DejaVuSans-110\"/>\r\n       <path d=\"M 30.609375 48.390625 \r\nQ 23.390625 48.390625 19.1875 42.75 \r\nQ 14.984375 37.109375 14.984375 27.296875 \r\nQ 14.984375 17.484375 19.15625 11.84375 \r\nQ 23.34375 6.203125 30.609375 6.203125 \r\nQ 37.796875 6.203125 41.984375 11.859375 \r\nQ 46.1875 17.53125 46.1875 27.296875 \r\nQ 46.1875 37.015625 41.984375 42.703125 \r\nQ 37.796875 48.390625 30.609375 48.390625 \r\nz\r\nM 30.609375 56 \r\nQ 42.328125 56 49.015625 48.375 \r\nQ 55.71875 40.765625 55.71875 27.296875 \r\nQ 55.71875 13.875 49.015625 6.21875 \r\nQ 42.328125 -1.421875 30.609375 -1.421875 \r\nQ 18.84375 -1.421875 12.171875 6.21875 \r\nQ 5.515625 13.875 5.515625 27.296875 \r\nQ 5.515625 40.765625 12.171875 48.375 \r\nQ 18.84375 56 30.609375 56 \r\nz\r\n\" id=\"DejaVuSans-111\"/>\r\n      </defs>\r\n      <use xlink:href=\"#DejaVuSans-105\"/>\r\n      <use x=\"27.783203\" xlink:href=\"#DejaVuSans-110\"/>\r\n      <use x=\"91.162109\" xlink:href=\"#DejaVuSans-105\"/>\r\n      <use x=\"118.945312\" xlink:href=\"#DejaVuSans-116\"/>\r\n      <use x=\"158.154297\" xlink:href=\"#DejaVuSans-105\"/>\r\n      <use x=\"185.9375\" xlink:href=\"#DejaVuSans-97\"/>\r\n      <use x=\"247.216797\" xlink:href=\"#DejaVuSans-116\"/>\r\n      <use x=\"286.425781\" xlink:href=\"#DejaVuSans-105\"/>\r\n      <use x=\"314.208984\" xlink:href=\"#DejaVuSans-111\"/>\r\n      <use x=\"375.390625\" xlink:href=\"#DejaVuSans-110\"/>\r\n     </g>\r\n    </g>\r\n    <g id=\"line2d_21\">\r\n     <path d=\"M 39.103125 50.094688 \r\nL 59.103125 50.094688 \r\n\" style=\"fill:none;stroke:#ff7f0e;stroke-linecap:square;stroke-width:1.5;\"/>\r\n    </g>\r\n    <g id=\"line2d_22\"/>\r\n    <g id=\"text_18\">\r\n     <!-- detection -->\r\n     <g transform=\"translate(67.103125 53.594688)scale(0.1 -0.1)\">\r\n      <defs>\r\n       <path d=\"M 45.40625 46.390625 \r\nL 45.40625 75.984375 \r\nL 54.390625 75.984375 \r\nL 54.390625 0 \r\nL 45.40625 0 \r\nL 45.40625 8.203125 \r\nQ 42.578125 3.328125 38.25 0.953125 \r\nQ 33.9375 -1.421875 27.875 -1.421875 \r\nQ 17.96875 -1.421875 11.734375 6.484375 \r\nQ 5.515625 14.40625 5.515625 27.296875 \r\nQ 5.515625 40.1875 11.734375 48.09375 \r\nQ 17.96875 56 27.875 56 \r\nQ 33.9375 56 38.25 53.625 \r\nQ 42.578125 51.265625 45.40625 46.390625 \r\nz\r\nM 14.796875 27.296875 \r\nQ 14.796875 17.390625 18.875 11.75 \r\nQ 22.953125 6.109375 30.078125 6.109375 \r\nQ 37.203125 6.109375 41.296875 11.75 \r\nQ 45.40625 17.390625 45.40625 27.296875 \r\nQ 45.40625 37.203125 41.296875 42.84375 \r\nQ 37.203125 48.484375 30.078125 48.484375 \r\nQ 22.953125 48.484375 18.875 42.84375 \r\nQ 14.796875 37.203125 14.796875 27.296875 \r\nz\r\n\" id=\"DejaVuSans-100\"/>\r\n       <path d=\"M 48.78125 52.59375 \r\nL 48.78125 44.1875 \r\nQ 44.96875 46.296875 41.140625 47.34375 \r\nQ 37.3125 48.390625 33.40625 48.390625 \r\nQ 24.65625 48.390625 19.8125 42.84375 \r\nQ 14.984375 37.3125 14.984375 27.296875 \r\nQ 14.984375 17.28125 19.8125 11.734375 \r\nQ 24.65625 6.203125 33.40625 6.203125 \r\nQ 37.3125 6.203125 41.140625 7.25 \r\nQ 44.96875 8.296875 48.78125 10.40625 \r\nL 48.78125 2.09375 \r\nQ 45.015625 0.34375 40.984375 -0.53125 \r\nQ 36.96875 -1.421875 32.421875 -1.421875 \r\nQ 20.0625 -1.421875 12.78125 6.34375 \r\nQ 5.515625 14.109375 5.515625 27.296875 \r\nQ 5.515625 40.671875 12.859375 48.328125 \r\nQ 20.21875 56 33.015625 56 \r\nQ 37.15625 56 41.109375 55.140625 \r\nQ 45.0625 54.296875 48.78125 52.59375 \r\nz\r\n\" id=\"DejaVuSans-99\"/>\r\n      </defs>\r\n      <use xlink:href=\"#DejaVuSans-100\"/>\r\n      <use x=\"63.476562\" xlink:href=\"#DejaVuSans-101\"/>\r\n      <use x=\"125\" xlink:href=\"#DejaVuSans-116\"/>\r\n      <use x=\"164.208984\" xlink:href=\"#DejaVuSans-101\"/>\r\n      <use x=\"225.732422\" xlink:href=\"#DejaVuSans-99\"/>\r\n      <use x=\"280.712891\" xlink:href=\"#DejaVuSans-116\"/>\r\n      <use x=\"319.921875\" xlink:href=\"#DejaVuSans-105\"/>\r\n      <use x=\"347.705078\" xlink:href=\"#DejaVuSans-111\"/>\r\n      <use x=\"408.886719\" xlink:href=\"#DejaVuSans-110\"/>\r\n     </g>\r\n    </g>\r\n    <g id=\"line2d_23\">\r\n     <path d=\"M 39.103125 64.772813 \r\nL 59.103125 64.772813 \r\n\" style=\"fill:none;stroke:#2ca02c;stroke-linecap:square;stroke-width:1.5;\"/>\r\n    </g>\r\n    <g id=\"line2d_24\"/>\r\n    <g id=\"text_19\">\r\n     <!-- failure -->\r\n     <g transform=\"translate(67.103125 68.272813)scale(0.1 -0.1)\">\r\n      <defs>\r\n       <path d=\"M 37.109375 75.984375 \r\nL 37.109375 68.5 \r\nL 28.515625 68.5 \r\nQ 23.6875 68.5 21.796875 66.546875 \r\nQ 19.921875 64.59375 19.921875 59.515625 \r\nL 19.921875 54.6875 \r\nL 34.71875 54.6875 \r\nL 34.71875 47.703125 \r\nL 19.921875 47.703125 \r\nL 19.921875 0 \r\nL 10.890625 0 \r\nL 10.890625 47.703125 \r\nL 2.296875 47.703125 \r\nL 2.296875 54.6875 \r\nL 10.890625 54.6875 \r\nL 10.890625 58.5 \r\nQ 10.890625 67.625 15.140625 71.796875 \r\nQ 19.390625 75.984375 28.609375 75.984375 \r\nz\r\n\" id=\"DejaVuSans-102\"/>\r\n       <path d=\"M 9.421875 75.984375 \r\nL 18.40625 75.984375 \r\nL 18.40625 0 \r\nL 9.421875 0 \r\nz\r\n\" id=\"DejaVuSans-108\"/>\r\n       <path d=\"M 8.5 21.578125 \r\nL 8.5 54.6875 \r\nL 17.484375 54.6875 \r\nL 17.484375 21.921875 \r\nQ 17.484375 14.15625 20.5 10.265625 \r\nQ 23.53125 6.390625 29.59375 6.390625 \r\nQ 36.859375 6.390625 41.078125 11.03125 \r\nQ 45.3125 15.671875 45.3125 23.6875 \r\nL 45.3125 54.6875 \r\nL 54.296875 54.6875 \r\nL 54.296875 0 \r\nL 45.3125 0 \r\nL 45.3125 8.40625 \r\nQ 42.046875 3.421875 37.71875 1 \r\nQ 33.40625 -1.421875 27.6875 -1.421875 \r\nQ 18.265625 -1.421875 13.375 4.4375 \r\nQ 8.5 10.296875 8.5 21.578125 \r\nz\r\nM 31.109375 56 \r\nz\r\n\" id=\"DejaVuSans-117\"/>\r\n       <path d=\"M 41.109375 46.296875 \r\nQ 39.59375 47.171875 37.8125 47.578125 \r\nQ 36.03125 48 33.890625 48 \r\nQ 26.265625 48 22.1875 43.046875 \r\nQ 18.109375 38.09375 18.109375 28.8125 \r\nL 18.109375 0 \r\nL 9.078125 0 \r\nL 9.078125 54.6875 \r\nL 18.109375 54.6875 \r\nL 18.109375 46.1875 \r\nQ 20.953125 51.171875 25.484375 53.578125 \r\nQ 30.03125 56 36.53125 56 \r\nQ 37.453125 56 38.578125 55.875 \r\nQ 39.703125 55.765625 41.0625 55.515625 \r\nz\r\n\" id=\"DejaVuSans-114\"/>\r\n      </defs>\r\n      <use xlink:href=\"#DejaVuSans-102\"/>\r\n      <use x=\"35.205078\" xlink:href=\"#DejaVuSans-97\"/>\r\n      <use x=\"96.484375\" xlink:href=\"#DejaVuSans-105\"/>\r\n      <use x=\"124.267578\" xlink:href=\"#DejaVuSans-108\"/>\r\n      <use x=\"152.050781\" xlink:href=\"#DejaVuSans-117\"/>\r\n      <use x=\"215.429688\" xlink:href=\"#DejaVuSans-114\"/>\r\n      <use x=\"254.292969\" xlink:href=\"#DejaVuSans-101\"/>\r\n     </g>\r\n    </g>\r\n   </g>\r\n  </g>\r\n  <g id=\"axes_2\">\r\n   <g id=\"patch_8\">\r\n    <path d=\"M 502.761949 239.758125 \r\nL 896.644301 239.758125 \r\nL 896.644301 22.318125 \r\nL 502.761949 22.318125 \r\nz\r\n\" style=\"fill:#ffffff;\"/>\r\n   </g>\r\n   <g id=\"matplotlib.axis_3\">\r\n    <g id=\"xtick_10\">\r\n     <g id=\"line2d_25\">\r\n      <g>\r\n       <use style=\"stroke:#000000;stroke-width:0.8;\" x=\"520.665692\" xlink:href=\"#ma26863e5db\" y=\"239.758125\"/>\r\n      </g>\r\n     </g>\r\n     <g id=\"text_20\">\r\n      <!-- 0 -->\r\n      <g transform=\"translate(517.484442 254.356563)scale(0.1 -0.1)\">\r\n       <use xlink:href=\"#DejaVuSans-48\"/>\r\n      </g>\r\n     </g>\r\n    </g>\r\n    <g id=\"xtick_11\">\r\n     <g id=\"line2d_26\">\r\n      <g>\r\n       <use style=\"stroke:#000000;stroke-width:0.8;\" x=\"565.42505\" xlink:href=\"#ma26863e5db\" y=\"239.758125\"/>\r\n      </g>\r\n     </g>\r\n     <g id=\"text_21\">\r\n      <!-- 25 -->\r\n      <g transform=\"translate(559.06255 254.356563)scale(0.1 -0.1)\">\r\n       <use xlink:href=\"#DejaVuSans-50\"/>\r\n       <use x=\"63.623047\" xlink:href=\"#DejaVuSans-53\"/>\r\n      </g>\r\n     </g>\r\n    </g>\r\n    <g id=\"xtick_12\">\r\n     <g id=\"line2d_27\">\r\n      <g>\r\n       <use style=\"stroke:#000000;stroke-width:0.8;\" x=\"610.184408\" xlink:href=\"#ma26863e5db\" y=\"239.758125\"/>\r\n      </g>\r\n     </g>\r\n     <g id=\"text_22\">\r\n      <!-- 50 -->\r\n      <g transform=\"translate(603.821908 254.356563)scale(0.1 -0.1)\">\r\n       <use xlink:href=\"#DejaVuSans-53\"/>\r\n       <use x=\"63.623047\" xlink:href=\"#DejaVuSans-48\"/>\r\n      </g>\r\n     </g>\r\n    </g>\r\n    <g id=\"xtick_13\">\r\n     <g id=\"line2d_28\">\r\n      <g>\r\n       <use style=\"stroke:#000000;stroke-width:0.8;\" x=\"654.943767\" xlink:href=\"#ma26863e5db\" y=\"239.758125\"/>\r\n      </g>\r\n     </g>\r\n     <g id=\"text_23\">\r\n      <!-- 75 -->\r\n      <g transform=\"translate(648.581267 254.356563)scale(0.1 -0.1)\">\r\n       <use xlink:href=\"#DejaVuSans-55\"/>\r\n       <use x=\"63.623047\" xlink:href=\"#DejaVuSans-53\"/>\r\n      </g>\r\n     </g>\r\n    </g>\r\n    <g id=\"xtick_14\">\r\n     <g id=\"line2d_29\">\r\n      <g>\r\n       <use style=\"stroke:#000000;stroke-width:0.8;\" x=\"699.703125\" xlink:href=\"#ma26863e5db\" y=\"239.758125\"/>\r\n      </g>\r\n     </g>\r\n     <g id=\"text_24\">\r\n      <!-- 100 -->\r\n      <g transform=\"translate(690.159375 254.356563)scale(0.1 -0.1)\">\r\n       <use xlink:href=\"#DejaVuSans-49\"/>\r\n       <use x=\"63.623047\" xlink:href=\"#DejaVuSans-48\"/>\r\n       <use x=\"127.246094\" xlink:href=\"#DejaVuSans-48\"/>\r\n      </g>\r\n     </g>\r\n    </g>\r\n    <g id=\"xtick_15\">\r\n     <g id=\"line2d_30\">\r\n      <g>\r\n       <use style=\"stroke:#000000;stroke-width:0.8;\" x=\"744.462483\" xlink:href=\"#ma26863e5db\" y=\"239.758125\"/>\r\n      </g>\r\n     </g>\r\n     <g id=\"text_25\">\r\n      <!-- 125 -->\r\n      <g transform=\"translate(734.918733 254.356563)scale(0.1 -0.1)\">\r\n       <use xlink:href=\"#DejaVuSans-49\"/>\r\n       <use x=\"63.623047\" xlink:href=\"#DejaVuSans-50\"/>\r\n       <use x=\"127.246094\" xlink:href=\"#DejaVuSans-53\"/>\r\n      </g>\r\n     </g>\r\n    </g>\r\n    <g id=\"xtick_16\">\r\n     <g id=\"line2d_31\">\r\n      <g>\r\n       <use style=\"stroke:#000000;stroke-width:0.8;\" x=\"789.221842\" xlink:href=\"#ma26863e5db\" y=\"239.758125\"/>\r\n      </g>\r\n     </g>\r\n     <g id=\"text_26\">\r\n      <!-- 150 -->\r\n      <g transform=\"translate(779.678092 254.356563)scale(0.1 -0.1)\">\r\n       <use xlink:href=\"#DejaVuSans-49\"/>\r\n       <use x=\"63.623047\" xlink:href=\"#DejaVuSans-53\"/>\r\n       <use x=\"127.246094\" xlink:href=\"#DejaVuSans-48\"/>\r\n      </g>\r\n     </g>\r\n    </g>\r\n    <g id=\"xtick_17\">\r\n     <g id=\"line2d_32\">\r\n      <g>\r\n       <use style=\"stroke:#000000;stroke-width:0.8;\" x=\"833.9812\" xlink:href=\"#ma26863e5db\" y=\"239.758125\"/>\r\n      </g>\r\n     </g>\r\n     <g id=\"text_27\">\r\n      <!-- 175 -->\r\n      <g transform=\"translate(824.43745 254.356563)scale(0.1 -0.1)\">\r\n       <use xlink:href=\"#DejaVuSans-49\"/>\r\n       <use x=\"63.623047\" xlink:href=\"#DejaVuSans-55\"/>\r\n       <use x=\"127.246094\" xlink:href=\"#DejaVuSans-53\"/>\r\n      </g>\r\n     </g>\r\n    </g>\r\n    <g id=\"xtick_18\">\r\n     <g id=\"line2d_33\">\r\n      <g>\r\n       <use style=\"stroke:#000000;stroke-width:0.8;\" x=\"878.740558\" xlink:href=\"#ma26863e5db\" y=\"239.758125\"/>\r\n      </g>\r\n     </g>\r\n     <g id=\"text_28\">\r\n      <!-- 200 -->\r\n      <g transform=\"translate(869.196808 254.356563)scale(0.1 -0.1)\">\r\n       <use xlink:href=\"#DejaVuSans-50\"/>\r\n       <use x=\"63.623047\" xlink:href=\"#DejaVuSans-48\"/>\r\n       <use x=\"127.246094\" xlink:href=\"#DejaVuSans-48\"/>\r\n      </g>\r\n     </g>\r\n    </g>\r\n   </g>\r\n   <g id=\"matplotlib.axis_4\">\r\n    <g id=\"ytick_7\">\r\n     <g id=\"line2d_34\">\r\n      <g>\r\n       <use style=\"stroke:#000000;stroke-width:0.8;\" x=\"502.761949\" xlink:href=\"#m9725a34861\" y=\"229.874489\"/>\r\n      </g>\r\n     </g>\r\n     <g id=\"text_29\">\r\n      <!-- 65 -->\r\n      <g transform=\"translate(483.036949 233.673707)scale(0.1 -0.1)\">\r\n       <use xlink:href=\"#DejaVuSans-54\"/>\r\n       <use x=\"63.623047\" xlink:href=\"#DejaVuSans-53\"/>\r\n      </g>\r\n     </g>\r\n    </g>\r\n    <g id=\"ytick_8\">\r\n     <g id=\"line2d_35\">\r\n      <g>\r\n       <use style=\"stroke:#000000;stroke-width:0.8;\" x=\"502.761949\" xlink:href=\"#m9725a34861\" y=\"201.635528\"/>\r\n      </g>\r\n     </g>\r\n     <g id=\"text_30\">\r\n      <!-- 70 -->\r\n      <g transform=\"translate(483.036949 205.434746)scale(0.1 -0.1)\">\r\n       <use xlink:href=\"#DejaVuSans-55\"/>\r\n       <use x=\"63.623047\" xlink:href=\"#DejaVuSans-48\"/>\r\n      </g>\r\n     </g>\r\n    </g>\r\n    <g id=\"ytick_9\">\r\n     <g id=\"line2d_36\">\r\n      <g>\r\n       <use style=\"stroke:#000000;stroke-width:0.8;\" x=\"502.761949\" xlink:href=\"#m9725a34861\" y=\"173.396567\"/>\r\n      </g>\r\n     </g>\r\n     <g id=\"text_31\">\r\n      <!-- 75 -->\r\n      <g transform=\"translate(483.036949 177.195785)scale(0.1 -0.1)\">\r\n       <use xlink:href=\"#DejaVuSans-55\"/>\r\n       <use x=\"63.623047\" xlink:href=\"#DejaVuSans-53\"/>\r\n      </g>\r\n     </g>\r\n    </g>\r\n    <g id=\"ytick_10\">\r\n     <g id=\"line2d_37\">\r\n      <g>\r\n       <use style=\"stroke:#000000;stroke-width:0.8;\" x=\"502.761949\" xlink:href=\"#m9725a34861\" y=\"145.157606\"/>\r\n      </g>\r\n     </g>\r\n     <g id=\"text_32\">\r\n      <!-- 80 -->\r\n      <g transform=\"translate(483.036949 148.956824)scale(0.1 -0.1)\">\r\n       <use xlink:href=\"#DejaVuSans-56\"/>\r\n       <use x=\"63.623047\" xlink:href=\"#DejaVuSans-48\"/>\r\n      </g>\r\n     </g>\r\n    </g>\r\n    <g id=\"ytick_11\">\r\n     <g id=\"line2d_38\">\r\n      <g>\r\n       <use style=\"stroke:#000000;stroke-width:0.8;\" x=\"502.761949\" xlink:href=\"#m9725a34861\" y=\"116.918644\"/>\r\n      </g>\r\n     </g>\r\n     <g id=\"text_33\">\r\n      <!-- 85 -->\r\n      <g transform=\"translate(483.036949 120.717863)scale(0.1 -0.1)\">\r\n       <use xlink:href=\"#DejaVuSans-56\"/>\r\n       <use x=\"63.623047\" xlink:href=\"#DejaVuSans-53\"/>\r\n      </g>\r\n     </g>\r\n    </g>\r\n    <g id=\"ytick_12\">\r\n     <g id=\"line2d_39\">\r\n      <g>\r\n       <use style=\"stroke:#000000;stroke-width:0.8;\" x=\"502.761949\" xlink:href=\"#m9725a34861\" y=\"88.679683\"/>\r\n      </g>\r\n     </g>\r\n     <g id=\"text_34\">\r\n      <!-- 90 -->\r\n      <g transform=\"translate(483.036949 92.478902)scale(0.1 -0.1)\">\r\n       <defs>\r\n        <path d=\"M 10.984375 1.515625 \r\nL 10.984375 10.5 \r\nQ 14.703125 8.734375 18.5 7.8125 \r\nQ 22.3125 6.890625 25.984375 6.890625 \r\nQ 35.75 6.890625 40.890625 13.453125 \r\nQ 46.046875 20.015625 46.78125 33.40625 \r\nQ 43.953125 29.203125 39.59375 26.953125 \r\nQ 35.25 24.703125 29.984375 24.703125 \r\nQ 19.046875 24.703125 12.671875 31.3125 \r\nQ 6.296875 37.9375 6.296875 49.421875 \r\nQ 6.296875 60.640625 12.9375 67.421875 \r\nQ 19.578125 74.21875 30.609375 74.21875 \r\nQ 43.265625 74.21875 49.921875 64.515625 \r\nQ 56.59375 54.828125 56.59375 36.375 \r\nQ 56.59375 19.140625 48.40625 8.859375 \r\nQ 40.234375 -1.421875 26.421875 -1.421875 \r\nQ 22.703125 -1.421875 18.890625 -0.6875 \r\nQ 15.09375 0.046875 10.984375 1.515625 \r\nz\r\nM 30.609375 32.421875 \r\nQ 37.25 32.421875 41.125 36.953125 \r\nQ 45.015625 41.5 45.015625 49.421875 \r\nQ 45.015625 57.28125 41.125 61.84375 \r\nQ 37.25 66.40625 30.609375 66.40625 \r\nQ 23.96875 66.40625 20.09375 61.84375 \r\nQ 16.21875 57.28125 16.21875 49.421875 \r\nQ 16.21875 41.5 20.09375 36.953125 \r\nQ 23.96875 32.421875 30.609375 32.421875 \r\nz\r\n\" id=\"DejaVuSans-57\"/>\r\n       </defs>\r\n       <use xlink:href=\"#DejaVuSans-57\"/>\r\n       <use x=\"63.623047\" xlink:href=\"#DejaVuSans-48\"/>\r\n      </g>\r\n     </g>\r\n    </g>\r\n    <g id=\"ytick_13\">\r\n     <g id=\"line2d_40\">\r\n      <g>\r\n       <use style=\"stroke:#000000;stroke-width:0.8;\" x=\"502.761949\" xlink:href=\"#m9725a34861\" y=\"60.440722\"/>\r\n      </g>\r\n     </g>\r\n     <g id=\"text_35\">\r\n      <!-- 95 -->\r\n      <g transform=\"translate(483.036949 64.239941)scale(0.1 -0.1)\">\r\n       <use xlink:href=\"#DejaVuSans-57\"/>\r\n       <use x=\"63.623047\" xlink:href=\"#DejaVuSans-53\"/>\r\n      </g>\r\n     </g>\r\n    </g>\r\n    <g id=\"ytick_14\">\r\n     <g id=\"line2d_41\">\r\n      <g>\r\n       <use style=\"stroke:#000000;stroke-width:0.8;\" x=\"502.761949\" xlink:href=\"#m9725a34861\" y=\"32.201761\"/>\r\n      </g>\r\n     </g>\r\n     <g id=\"text_36\">\r\n      <!-- 100 -->\r\n      <g transform=\"translate(476.674449 36.00098)scale(0.1 -0.1)\">\r\n       <use xlink:href=\"#DejaVuSans-49\"/>\r\n       <use x=\"63.623047\" xlink:href=\"#DejaVuSans-48\"/>\r\n       <use x=\"127.246094\" xlink:href=\"#DejaVuSans-48\"/>\r\n      </g>\r\n     </g>\r\n    </g>\r\n   </g>\r\n   <g id=\"line2d_42\">\r\n    <path clip-path=\"url(#p1dd0d3e842)\" d=\"M 520.665692 201.635528 \r\nL 637.040023 201.635528 \r\nL 638.830398 229.874489 \r\nL 878.740558 229.874489 \r\nL 878.740558 229.874489 \r\n\" style=\"fill:none;stroke:#1f77b4;stroke-linecap:square;stroke-width:1.5;\"/>\r\n   </g>\r\n   <g id=\"line2d_43\">\r\n    <path clip-path=\"url(#p1dd0d3e842)\" d=\"M 520.665692 32.201761 \r\nL 637.040023 32.201761 \r\nL 638.830398 46.321242 \r\nL 640.620772 32.201761 \r\nL 878.740558 32.201761 \r\nL 878.740558 32.201761 \r\n\" style=\"fill:none;stroke:#ff7f0e;stroke-linecap:square;stroke-width:1.5;\"/>\r\n   </g>\r\n   <g id=\"patch_9\">\r\n    <path d=\"M 502.761949 239.758125 \r\nL 502.761949 22.318125 \r\n\" style=\"fill:none;stroke:#000000;stroke-linecap:square;stroke-linejoin:miter;stroke-width:0.8;\"/>\r\n   </g>\r\n   <g id=\"patch_10\">\r\n    <path d=\"M 896.644301 239.758125 \r\nL 896.644301 22.318125 \r\n\" style=\"fill:none;stroke:#000000;stroke-linecap:square;stroke-linejoin:miter;stroke-width:0.8;\"/>\r\n   </g>\r\n   <g id=\"patch_11\">\r\n    <path d=\"M 502.761949 239.758125 \r\nL 896.644301 239.758125 \r\n\" style=\"fill:none;stroke:#000000;stroke-linecap:square;stroke-linejoin:miter;stroke-width:0.8;\"/>\r\n   </g>\r\n   <g id=\"patch_12\">\r\n    <path d=\"M 502.761949 22.318125 \r\nL 896.644301 22.318125 \r\n\" style=\"fill:none;stroke:#000000;stroke-linecap:square;stroke-linejoin:miter;stroke-width:0.8;\"/>\r\n   </g>\r\n   <g id=\"text_37\">\r\n    <!-- Condition -->\r\n    <g transform=\"translate(671.070938 16.318125)scale(0.12 -0.12)\">\r\n     <defs>\r\n      <path d=\"M 64.40625 67.28125 \r\nL 64.40625 56.890625 \r\nQ 59.421875 61.53125 53.78125 63.8125 \r\nQ 48.140625 66.109375 41.796875 66.109375 \r\nQ 29.296875 66.109375 22.65625 58.46875 \r\nQ 16.015625 50.828125 16.015625 36.375 \r\nQ 16.015625 21.96875 22.65625 14.328125 \r\nQ 29.296875 6.6875 41.796875 6.6875 \r\nQ 48.140625 6.6875 53.78125 8.984375 \r\nQ 59.421875 11.28125 64.40625 15.921875 \r\nL 64.40625 5.609375 \r\nQ 59.234375 2.09375 53.4375 0.328125 \r\nQ 47.65625 -1.421875 41.21875 -1.421875 \r\nQ 24.65625 -1.421875 15.125 8.703125 \r\nQ 5.609375 18.84375 5.609375 36.375 \r\nQ 5.609375 53.953125 15.125 64.078125 \r\nQ 24.65625 74.21875 41.21875 74.21875 \r\nQ 47.75 74.21875 53.53125 72.484375 \r\nQ 59.328125 70.75 64.40625 67.28125 \r\nz\r\n\" id=\"DejaVuSans-67\"/>\r\n     </defs>\r\n     <use xlink:href=\"#DejaVuSans-67\"/>\r\n     <use x=\"69.824219\" xlink:href=\"#DejaVuSans-111\"/>\r\n     <use x=\"131.005859\" xlink:href=\"#DejaVuSans-110\"/>\r\n     <use x=\"194.384766\" xlink:href=\"#DejaVuSans-100\"/>\r\n     <use x=\"257.861328\" xlink:href=\"#DejaVuSans-105\"/>\r\n     <use x=\"285.644531\" xlink:href=\"#DejaVuSans-116\"/>\r\n     <use x=\"324.853516\" xlink:href=\"#DejaVuSans-105\"/>\r\n     <use x=\"352.636719\" xlink:href=\"#DejaVuSans-111\"/>\r\n     <use x=\"413.818359\" xlink:href=\"#DejaVuSans-110\"/>\r\n    </g>\r\n   </g>\r\n   <g id=\"legend_2\">\r\n    <g id=\"patch_13\">\r\n     <path d=\"M 509.761949 234.758125 \r\nL 633.244761 234.758125 \r\nQ 635.244761 234.758125 635.244761 232.758125 \r\nL 635.244761 203.845625 \r\nQ 635.244761 201.845625 633.244761 201.845625 \r\nL 509.761949 201.845625 \r\nQ 507.761949 201.845625 507.761949 203.845625 \r\nL 507.761949 232.758125 \r\nQ 507.761949 234.758125 509.761949 234.758125 \r\nz\r\n\" style=\"fill:#ffffff;opacity:0.8;stroke:#cccccc;stroke-linejoin:miter;\"/>\r\n    </g>\r\n    <g id=\"line2d_44\">\r\n     <path d=\"M 511.761949 209.944063 \r\nL 531.761949 209.944063 \r\n\" style=\"fill:none;stroke:#1f77b4;stroke-linecap:square;stroke-width:1.5;\"/>\r\n    </g>\r\n    <g id=\"line2d_45\"/>\r\n    <g id=\"text_38\">\r\n     <!-- wall_thickness -->\r\n     <g transform=\"translate(539.761949 213.444063)scale(0.1 -0.1)\">\r\n      <defs>\r\n       <path d=\"M 4.203125 54.6875 \r\nL 13.1875 54.6875 \r\nL 24.421875 12.015625 \r\nL 35.59375 54.6875 \r\nL 46.1875 54.6875 \r\nL 57.421875 12.015625 \r\nL 68.609375 54.6875 \r\nL 77.59375 54.6875 \r\nL 63.28125 0 \r\nL 52.6875 0 \r\nL 40.921875 44.828125 \r\nL 29.109375 0 \r\nL 18.5 0 \r\nz\r\n\" id=\"DejaVuSans-119\"/>\r\n       <path d=\"M 50.984375 -16.609375 \r\nL 50.984375 -23.578125 \r\nL -0.984375 -23.578125 \r\nL -0.984375 -16.609375 \r\nz\r\n\" id=\"DejaVuSans-95\"/>\r\n       <path d=\"M 54.890625 33.015625 \r\nL 54.890625 0 \r\nL 45.90625 0 \r\nL 45.90625 32.71875 \r\nQ 45.90625 40.484375 42.875 44.328125 \r\nQ 39.84375 48.1875 33.796875 48.1875 \r\nQ 26.515625 48.1875 22.3125 43.546875 \r\nQ 18.109375 38.921875 18.109375 30.90625 \r\nL 18.109375 0 \r\nL 9.078125 0 \r\nL 9.078125 75.984375 \r\nL 18.109375 75.984375 \r\nL 18.109375 46.1875 \r\nQ 21.34375 51.125 25.703125 53.5625 \r\nQ 30.078125 56 35.796875 56 \r\nQ 45.21875 56 50.046875 50.171875 \r\nQ 54.890625 44.34375 54.890625 33.015625 \r\nz\r\n\" id=\"DejaVuSans-104\"/>\r\n       <path d=\"M 9.078125 75.984375 \r\nL 18.109375 75.984375 \r\nL 18.109375 31.109375 \r\nL 44.921875 54.6875 \r\nL 56.390625 54.6875 \r\nL 27.390625 29.109375 \r\nL 57.625 0 \r\nL 45.90625 0 \r\nL 18.109375 26.703125 \r\nL 18.109375 0 \r\nL 9.078125 0 \r\nz\r\n\" id=\"DejaVuSans-107\"/>\r\n       <path d=\"M 44.28125 53.078125 \r\nL 44.28125 44.578125 \r\nQ 40.484375 46.53125 36.375 47.5 \r\nQ 32.28125 48.484375 27.875 48.484375 \r\nQ 21.1875 48.484375 17.84375 46.4375 \r\nQ 14.5 44.390625 14.5 40.28125 \r\nQ 14.5 37.15625 16.890625 35.375 \r\nQ 19.28125 33.59375 26.515625 31.984375 \r\nL 29.59375 31.296875 \r\nQ 39.15625 29.25 43.1875 25.515625 \r\nQ 47.21875 21.78125 47.21875 15.09375 \r\nQ 47.21875 7.46875 41.1875 3.015625 \r\nQ 35.15625 -1.421875 24.609375 -1.421875 \r\nQ 20.21875 -1.421875 15.453125 -0.5625 \r\nQ 10.6875 0.296875 5.421875 2 \r\nL 5.421875 11.28125 \r\nQ 10.40625 8.6875 15.234375 7.390625 \r\nQ 20.0625 6.109375 24.8125 6.109375 \r\nQ 31.15625 6.109375 34.5625 8.28125 \r\nQ 37.984375 10.453125 37.984375 14.40625 \r\nQ 37.984375 18.0625 35.515625 20.015625 \r\nQ 33.0625 21.96875 24.703125 23.78125 \r\nL 21.578125 24.515625 \r\nQ 13.234375 26.265625 9.515625 29.90625 \r\nQ 5.8125 33.546875 5.8125 39.890625 \r\nQ 5.8125 47.609375 11.28125 51.796875 \r\nQ 16.75 56 26.8125 56 \r\nQ 31.78125 56 36.171875 55.265625 \r\nQ 40.578125 54.546875 44.28125 53.078125 \r\nz\r\n\" id=\"DejaVuSans-115\"/>\r\n      </defs>\r\n      <use xlink:href=\"#DejaVuSans-119\"/>\r\n      <use x=\"81.787109\" xlink:href=\"#DejaVuSans-97\"/>\r\n      <use x=\"143.066406\" xlink:href=\"#DejaVuSans-108\"/>\r\n      <use x=\"170.849609\" xlink:href=\"#DejaVuSans-108\"/>\r\n      <use x=\"198.632812\" xlink:href=\"#DejaVuSans-95\"/>\r\n      <use x=\"248.632812\" xlink:href=\"#DejaVuSans-116\"/>\r\n      <use x=\"287.841797\" xlink:href=\"#DejaVuSans-104\"/>\r\n      <use x=\"351.220703\" xlink:href=\"#DejaVuSans-105\"/>\r\n      <use x=\"379.003906\" xlink:href=\"#DejaVuSans-99\"/>\r\n      <use x=\"433.984375\" xlink:href=\"#DejaVuSans-107\"/>\r\n      <use x=\"491.894531\" xlink:href=\"#DejaVuSans-110\"/>\r\n      <use x=\"555.273438\" xlink:href=\"#DejaVuSans-101\"/>\r\n      <use x=\"616.796875\" xlink:href=\"#DejaVuSans-115\"/>\r\n      <use x=\"668.896484\" xlink:href=\"#DejaVuSans-115\"/>\r\n     </g>\r\n    </g>\r\n    <g id=\"line2d_46\">\r\n     <path d=\"M 511.761949 224.900313 \r\nL 531.761949 224.900313 \r\n\" style=\"fill:none;stroke:#ff7f0e;stroke-linecap:square;stroke-width:1.5;\"/>\r\n    </g>\r\n    <g id=\"line2d_47\"/>\r\n    <g id=\"text_39\">\r\n     <!-- external_diameter -->\r\n     <g transform=\"translate(539.761949 228.400313)scale(0.1 -0.1)\">\r\n      <defs>\r\n       <path d=\"M 54.890625 54.6875 \r\nL 35.109375 28.078125 \r\nL 55.90625 0 \r\nL 45.3125 0 \r\nL 29.390625 21.484375 \r\nL 13.484375 0 \r\nL 2.875 0 \r\nL 24.125 28.609375 \r\nL 4.6875 54.6875 \r\nL 15.28125 54.6875 \r\nL 29.78125 35.203125 \r\nL 44.28125 54.6875 \r\nz\r\n\" id=\"DejaVuSans-120\"/>\r\n       <path d=\"M 52 44.1875 \r\nQ 55.375 50.25 60.0625 53.125 \r\nQ 64.75 56 71.09375 56 \r\nQ 79.640625 56 84.28125 50.015625 \r\nQ 88.921875 44.046875 88.921875 33.015625 \r\nL 88.921875 0 \r\nL 79.890625 0 \r\nL 79.890625 32.71875 \r\nQ 79.890625 40.578125 77.09375 44.375 \r\nQ 74.3125 48.1875 68.609375 48.1875 \r\nQ 61.625 48.1875 57.5625 43.546875 \r\nQ 53.515625 38.921875 53.515625 30.90625 \r\nL 53.515625 0 \r\nL 44.484375 0 \r\nL 44.484375 32.71875 \r\nQ 44.484375 40.625 41.703125 44.40625 \r\nQ 38.921875 48.1875 33.109375 48.1875 \r\nQ 26.21875 48.1875 22.15625 43.53125 \r\nQ 18.109375 38.875 18.109375 30.90625 \r\nL 18.109375 0 \r\nL 9.078125 0 \r\nL 9.078125 54.6875 \r\nL 18.109375 54.6875 \r\nL 18.109375 46.1875 \r\nQ 21.1875 51.21875 25.484375 53.609375 \r\nQ 29.78125 56 35.6875 56 \r\nQ 41.65625 56 45.828125 52.96875 \r\nQ 50 49.953125 52 44.1875 \r\nz\r\n\" id=\"DejaVuSans-109\"/>\r\n      </defs>\r\n      <use xlink:href=\"#DejaVuSans-101\"/>\r\n      <use x=\"59.773438\" xlink:href=\"#DejaVuSans-120\"/>\r\n      <use x=\"118.953125\" xlink:href=\"#DejaVuSans-116\"/>\r\n      <use x=\"158.162109\" xlink:href=\"#DejaVuSans-101\"/>\r\n      <use x=\"219.685547\" xlink:href=\"#DejaVuSans-114\"/>\r\n      <use x=\"259.048828\" xlink:href=\"#DejaVuSans-110\"/>\r\n      <use x=\"322.427734\" xlink:href=\"#DejaVuSans-97\"/>\r\n      <use x=\"383.707031\" xlink:href=\"#DejaVuSans-108\"/>\r\n      <use x=\"411.490234\" xlink:href=\"#DejaVuSans-95\"/>\r\n      <use x=\"461.490234\" xlink:href=\"#DejaVuSans-100\"/>\r\n      <use x=\"524.966797\" xlink:href=\"#DejaVuSans-105\"/>\r\n      <use x=\"552.75\" xlink:href=\"#DejaVuSans-97\"/>\r\n      <use x=\"614.029297\" xlink:href=\"#DejaVuSans-109\"/>\r\n      <use x=\"711.441406\" xlink:href=\"#DejaVuSans-101\"/>\r\n      <use x=\"772.964844\" xlink:href=\"#DejaVuSans-116\"/>\r\n      <use x=\"812.173828\" xlink:href=\"#DejaVuSans-101\"/>\r\n      <use x=\"873.697266\" xlink:href=\"#DejaVuSans-114\"/>\r\n     </g>\r\n    </g>\r\n   </g>\r\n  </g>\r\n  <g id=\"axes_3\">\r\n   <g id=\"patch_14\">\r\n    <path d=\"M 975.420772 239.758125 \r\nL 1369.303125 239.758125 \r\nL 1369.303125 22.318125 \r\nL 975.420772 22.318125 \r\nz\r\n\" style=\"fill:#ffffff;\"/>\r\n   </g>\r\n   <g id=\"matplotlib.axis_5\">\r\n    <g id=\"xtick_19\">\r\n     <g id=\"line2d_48\">\r\n      <g>\r\n       <use style=\"stroke:#000000;stroke-width:0.8;\" x=\"993.324515\" xlink:href=\"#ma26863e5db\" y=\"239.758125\"/>\r\n      </g>\r\n     </g>\r\n     <g id=\"text_40\">\r\n      <!-- 0 -->\r\n      <g transform=\"translate(990.143265 254.356563)scale(0.1 -0.1)\">\r\n       <use xlink:href=\"#DejaVuSans-48\"/>\r\n      </g>\r\n     </g>\r\n    </g>\r\n    <g id=\"xtick_20\">\r\n     <g id=\"line2d_49\">\r\n      <g>\r\n       <use style=\"stroke:#000000;stroke-width:0.8;\" x=\"1038.083874\" xlink:href=\"#ma26863e5db\" y=\"239.758125\"/>\r\n      </g>\r\n     </g>\r\n     <g id=\"text_41\">\r\n      <!-- 25 -->\r\n      <g transform=\"translate(1031.721374 254.356563)scale(0.1 -0.1)\">\r\n       <use xlink:href=\"#DejaVuSans-50\"/>\r\n       <use x=\"63.623047\" xlink:href=\"#DejaVuSans-53\"/>\r\n      </g>\r\n     </g>\r\n    </g>\r\n    <g id=\"xtick_21\">\r\n     <g id=\"line2d_50\">\r\n      <g>\r\n       <use style=\"stroke:#000000;stroke-width:0.8;\" x=\"1082.843232\" xlink:href=\"#ma26863e5db\" y=\"239.758125\"/>\r\n      </g>\r\n     </g>\r\n     <g id=\"text_42\">\r\n      <!-- 50 -->\r\n      <g transform=\"translate(1076.480732 254.356563)scale(0.1 -0.1)\">\r\n       <use xlink:href=\"#DejaVuSans-53\"/>\r\n       <use x=\"63.623047\" xlink:href=\"#DejaVuSans-48\"/>\r\n      </g>\r\n     </g>\r\n    </g>\r\n    <g id=\"xtick_22\">\r\n     <g id=\"line2d_51\">\r\n      <g>\r\n       <use style=\"stroke:#000000;stroke-width:0.8;\" x=\"1127.60259\" xlink:href=\"#ma26863e5db\" y=\"239.758125\"/>\r\n      </g>\r\n     </g>\r\n     <g id=\"text_43\">\r\n      <!-- 75 -->\r\n      <g transform=\"translate(1121.24009 254.356563)scale(0.1 -0.1)\">\r\n       <use xlink:href=\"#DejaVuSans-55\"/>\r\n       <use x=\"63.623047\" xlink:href=\"#DejaVuSans-53\"/>\r\n      </g>\r\n     </g>\r\n    </g>\r\n    <g id=\"xtick_23\">\r\n     <g id=\"line2d_52\">\r\n      <g>\r\n       <use style=\"stroke:#000000;stroke-width:0.8;\" x=\"1172.361949\" xlink:href=\"#ma26863e5db\" y=\"239.758125\"/>\r\n      </g>\r\n     </g>\r\n     <g id=\"text_44\">\r\n      <!-- 100 -->\r\n      <g transform=\"translate(1162.818199 254.356563)scale(0.1 -0.1)\">\r\n       <use xlink:href=\"#DejaVuSans-49\"/>\r\n       <use x=\"63.623047\" xlink:href=\"#DejaVuSans-48\"/>\r\n       <use x=\"127.246094\" xlink:href=\"#DejaVuSans-48\"/>\r\n      </g>\r\n     </g>\r\n    </g>\r\n    <g id=\"xtick_24\">\r\n     <g id=\"line2d_53\">\r\n      <g>\r\n       <use style=\"stroke:#000000;stroke-width:0.8;\" x=\"1217.121307\" xlink:href=\"#ma26863e5db\" y=\"239.758125\"/>\r\n      </g>\r\n     </g>\r\n     <g id=\"text_45\">\r\n      <!-- 125 -->\r\n      <g transform=\"translate(1207.577557 254.356563)scale(0.1 -0.1)\">\r\n       <use xlink:href=\"#DejaVuSans-49\"/>\r\n       <use x=\"63.623047\" xlink:href=\"#DejaVuSans-50\"/>\r\n       <use x=\"127.246094\" xlink:href=\"#DejaVuSans-53\"/>\r\n      </g>\r\n     </g>\r\n    </g>\r\n    <g id=\"xtick_25\">\r\n     <g id=\"line2d_54\">\r\n      <g>\r\n       <use style=\"stroke:#000000;stroke-width:0.8;\" x=\"1261.880665\" xlink:href=\"#ma26863e5db\" y=\"239.758125\"/>\r\n      </g>\r\n     </g>\r\n     <g id=\"text_46\">\r\n      <!-- 150 -->\r\n      <g transform=\"translate(1252.336915 254.356563)scale(0.1 -0.1)\">\r\n       <use xlink:href=\"#DejaVuSans-49\"/>\r\n       <use x=\"63.623047\" xlink:href=\"#DejaVuSans-53\"/>\r\n       <use x=\"127.246094\" xlink:href=\"#DejaVuSans-48\"/>\r\n      </g>\r\n     </g>\r\n    </g>\r\n    <g id=\"xtick_26\">\r\n     <g id=\"line2d_55\">\r\n      <g>\r\n       <use style=\"stroke:#000000;stroke-width:0.8;\" x=\"1306.640023\" xlink:href=\"#ma26863e5db\" y=\"239.758125\"/>\r\n      </g>\r\n     </g>\r\n     <g id=\"text_47\">\r\n      <!-- 175 -->\r\n      <g transform=\"translate(1297.096273 254.356563)scale(0.1 -0.1)\">\r\n       <use xlink:href=\"#DejaVuSans-49\"/>\r\n       <use x=\"63.623047\" xlink:href=\"#DejaVuSans-55\"/>\r\n       <use x=\"127.246094\" xlink:href=\"#DejaVuSans-53\"/>\r\n      </g>\r\n     </g>\r\n    </g>\r\n    <g id=\"xtick_27\">\r\n     <g id=\"line2d_56\">\r\n      <g>\r\n       <use style=\"stroke:#000000;stroke-width:0.8;\" x=\"1351.399382\" xlink:href=\"#ma26863e5db\" y=\"239.758125\"/>\r\n      </g>\r\n     </g>\r\n     <g id=\"text_48\">\r\n      <!-- 200 -->\r\n      <g transform=\"translate(1341.855632 254.356563)scale(0.1 -0.1)\">\r\n       <use xlink:href=\"#DejaVuSans-50\"/>\r\n       <use x=\"63.623047\" xlink:href=\"#DejaVuSans-48\"/>\r\n       <use x=\"127.246094\" xlink:href=\"#DejaVuSans-48\"/>\r\n      </g>\r\n     </g>\r\n    </g>\r\n   </g>\r\n   <g id=\"matplotlib.axis_6\">\r\n    <g id=\"ytick_15\">\r\n     <g id=\"line2d_57\">\r\n      <g>\r\n       <use style=\"stroke:#000000;stroke-width:0.8;\" x=\"975.420772\" xlink:href=\"#m9725a34861\" y=\"229.874489\"/>\r\n      </g>\r\n     </g>\r\n     <g id=\"text_49\">\r\n      <!-- −1 -->\r\n      <g transform=\"translate(953.678585 233.673707)scale(0.1 -0.1)\">\r\n       <defs>\r\n        <path d=\"M 10.59375 35.5 \r\nL 73.1875 35.5 \r\nL 73.1875 27.203125 \r\nL 10.59375 27.203125 \r\nz\r\n\" id=\"DejaVuSans-8722\"/>\r\n       </defs>\r\n       <use xlink:href=\"#DejaVuSans-8722\"/>\r\n       <use x=\"83.789062\" xlink:href=\"#DejaVuSans-49\"/>\r\n      </g>\r\n     </g>\r\n    </g>\r\n    <g id=\"ytick_16\">\r\n     <g id=\"line2d_58\">\r\n      <g>\r\n       <use style=\"stroke:#000000;stroke-width:0.8;\" x=\"975.420772\" xlink:href=\"#m9725a34861\" y=\"196.929034\"/>\r\n      </g>\r\n     </g>\r\n     <g id=\"text_50\">\r\n      <!-- 0 -->\r\n      <g transform=\"translate(962.058272 200.728253)scale(0.1 -0.1)\">\r\n       <use xlink:href=\"#DejaVuSans-48\"/>\r\n      </g>\r\n     </g>\r\n    </g>\r\n    <g id=\"ytick_17\">\r\n     <g id=\"line2d_59\">\r\n      <g>\r\n       <use style=\"stroke:#000000;stroke-width:0.8;\" x=\"975.420772\" xlink:href=\"#m9725a34861\" y=\"163.98358\"/>\r\n      </g>\r\n     </g>\r\n     <g id=\"text_51\">\r\n      <!-- 1 -->\r\n      <g transform=\"translate(962.058272 167.782798)scale(0.1 -0.1)\">\r\n       <use xlink:href=\"#DejaVuSans-49\"/>\r\n      </g>\r\n     </g>\r\n    </g>\r\n    <g id=\"ytick_18\">\r\n     <g id=\"line2d_60\">\r\n      <g>\r\n       <use style=\"stroke:#000000;stroke-width:0.8;\" x=\"975.420772\" xlink:href=\"#m9725a34861\" y=\"131.038125\"/>\r\n      </g>\r\n     </g>\r\n     <g id=\"text_52\">\r\n      <!-- 2 -->\r\n      <g transform=\"translate(962.058272 134.837344)scale(0.1 -0.1)\">\r\n       <use xlink:href=\"#DejaVuSans-50\"/>\r\n      </g>\r\n     </g>\r\n    </g>\r\n    <g id=\"ytick_19\">\r\n     <g id=\"line2d_61\">\r\n      <g>\r\n       <use style=\"stroke:#000000;stroke-width:0.8;\" x=\"975.420772\" xlink:href=\"#m9725a34861\" y=\"98.09267\"/>\r\n      </g>\r\n     </g>\r\n     <g id=\"text_53\">\r\n      <!-- 3 -->\r\n      <g transform=\"translate(962.058272 101.891889)scale(0.1 -0.1)\">\r\n       <defs>\r\n        <path d=\"M 40.578125 39.3125 \r\nQ 47.65625 37.796875 51.625 33 \r\nQ 55.609375 28.21875 55.609375 21.1875 \r\nQ 55.609375 10.40625 48.1875 4.484375 \r\nQ 40.765625 -1.421875 27.09375 -1.421875 \r\nQ 22.515625 -1.421875 17.65625 -0.515625 \r\nQ 12.796875 0.390625 7.625 2.203125 \r\nL 7.625 11.71875 \r\nQ 11.71875 9.328125 16.59375 8.109375 \r\nQ 21.484375 6.890625 26.8125 6.890625 \r\nQ 36.078125 6.890625 40.9375 10.546875 \r\nQ 45.796875 14.203125 45.796875 21.1875 \r\nQ 45.796875 27.640625 41.28125 31.265625 \r\nQ 36.765625 34.90625 28.71875 34.90625 \r\nL 20.21875 34.90625 \r\nL 20.21875 43.015625 \r\nL 29.109375 43.015625 \r\nQ 36.375 43.015625 40.234375 45.921875 \r\nQ 44.09375 48.828125 44.09375 54.296875 \r\nQ 44.09375 59.90625 40.109375 62.90625 \r\nQ 36.140625 65.921875 28.71875 65.921875 \r\nQ 24.65625 65.921875 20.015625 65.03125 \r\nQ 15.375 64.15625 9.8125 62.3125 \r\nL 9.8125 71.09375 \r\nQ 15.4375 72.65625 20.34375 73.4375 \r\nQ 25.25 74.21875 29.59375 74.21875 \r\nQ 40.828125 74.21875 47.359375 69.109375 \r\nQ 53.90625 64.015625 53.90625 55.328125 \r\nQ 53.90625 49.265625 50.4375 45.09375 \r\nQ 46.96875 40.921875 40.578125 39.3125 \r\nz\r\n\" id=\"DejaVuSans-51\"/>\r\n       </defs>\r\n       <use xlink:href=\"#DejaVuSans-51\"/>\r\n      </g>\r\n     </g>\r\n    </g>\r\n    <g id=\"ytick_20\">\r\n     <g id=\"line2d_62\">\r\n      <g>\r\n       <use style=\"stroke:#000000;stroke-width:0.8;\" x=\"975.420772\" xlink:href=\"#m9725a34861\" y=\"65.147216\"/>\r\n      </g>\r\n     </g>\r\n     <g id=\"text_54\">\r\n      <!-- 4 -->\r\n      <g transform=\"translate(962.058272 68.946435)scale(0.1 -0.1)\">\r\n       <use xlink:href=\"#DejaVuSans-52\"/>\r\n      </g>\r\n     </g>\r\n    </g>\r\n    <g id=\"ytick_21\">\r\n     <g id=\"line2d_63\">\r\n      <g>\r\n       <use style=\"stroke:#000000;stroke-width:0.8;\" x=\"975.420772\" xlink:href=\"#m9725a34861\" y=\"32.201761\"/>\r\n      </g>\r\n     </g>\r\n     <g id=\"text_55\">\r\n      <!-- 5 -->\r\n      <g transform=\"translate(962.058272 36.00098)scale(0.1 -0.1)\">\r\n       <use xlink:href=\"#DejaVuSans-53\"/>\r\n      </g>\r\n     </g>\r\n    </g>\r\n   </g>\r\n   <g id=\"line2d_64\">\r\n    <path clip-path=\"url(#p0ad75190e3)\" d=\"M 993.324515 32.201761 \r\nL 1002.276387 196.929034 \r\nL 1004.066761 65.147216 \r\nL 1011.228259 196.929034 \r\nL 1013.018633 65.147216 \r\nL 1020.18013 196.929034 \r\nL 1021.970505 65.147216 \r\nL 1029.132002 196.929034 \r\nL 1030.922376 65.147216 \r\nL 1038.083874 196.929034 \r\nL 1039.874248 65.147216 \r\nL 1047.035745 196.929034 \r\nL 1048.82612 65.147216 \r\nL 1055.987617 196.929034 \r\nL 1057.777991 65.147216 \r\nL 1064.939489 196.929034 \r\nL 1066.729863 65.147216 \r\nL 1073.89136 196.929034 \r\nL 1075.681735 65.147216 \r\nL 1082.843232 196.929034 \r\nL 1084.633606 65.147216 \r\nL 1091.795104 196.929034 \r\nL 1093.585478 65.147216 \r\nL 1100.746975 196.929034 \r\nL 1102.53735 65.147216 \r\nL 1109.698847 196.929034 \r\nL 1111.489221 65.147216 \r\nL 1118.650719 196.929034 \r\nL 1120.441093 65.147216 \r\nL 1127.60259 196.929034 \r\nL 1129.392965 65.147216 \r\nL 1136.554462 196.929034 \r\nL 1138.344836 65.147216 \r\nL 1145.506334 196.929034 \r\nL 1147.296708 65.147216 \r\nL 1154.458205 196.929034 \r\nL 1156.24858 65.147216 \r\nL 1163.410077 196.929034 \r\nL 1165.200451 65.147216 \r\nL 1172.361949 196.929034 \r\nL 1174.152323 65.147216 \r\nL 1181.31382 196.929034 \r\nL 1183.104195 65.147216 \r\nL 1190.265692 196.929034 \r\nL 1192.056066 65.147216 \r\nL 1199.217564 196.929034 \r\nL 1201.007938 65.147216 \r\nL 1208.169435 196.929034 \r\nL 1209.959809 65.147216 \r\nL 1217.121307 196.929034 \r\nL 1218.911681 65.147216 \r\nL 1226.073178 196.929034 \r\nL 1227.863553 65.147216 \r\nL 1235.02505 196.929034 \r\nL 1236.815424 65.147216 \r\nL 1243.976922 196.929034 \r\nL 1245.767296 65.147216 \r\nL 1252.928793 196.929034 \r\nL 1254.719168 65.147216 \r\nL 1261.880665 196.929034 \r\nL 1263.671039 65.147216 \r\nL 1270.832537 196.929034 \r\nL 1272.622911 65.147216 \r\nL 1279.784408 196.929034 \r\nL 1281.574783 65.147216 \r\nL 1288.73628 196.929034 \r\nL 1290.526654 65.147216 \r\nL 1297.688152 196.929034 \r\nL 1299.478526 65.147216 \r\nL 1306.640023 196.929034 \r\nL 1308.430398 65.147216 \r\nL 1315.591895 196.929034 \r\nL 1317.382269 65.147216 \r\nL 1324.543767 196.929034 \r\nL 1326.334141 65.147216 \r\nL 1333.495638 196.929034 \r\nL 1335.286013 65.147216 \r\nL 1342.44751 196.929034 \r\nL 1344.237884 65.147216 \r\nL 1351.399382 196.929034 \r\nL 1351.399382 196.929034 \r\n\" style=\"fill:none;stroke:#1f77b4;stroke-linecap:square;stroke-width:1.5;\"/>\r\n   </g>\r\n   <g id=\"line2d_65\">\r\n    <path clip-path=\"url(#p0ad75190e3)\" d=\"M 993.324515 229.874489 \r\nL 1109.698847 229.874489 \r\nL 1111.489221 196.929034 \r\nL 1113.279596 229.874489 \r\nL 1351.399382 229.874489 \r\nL 1351.399382 229.874489 \r\n\" style=\"fill:none;stroke:#ff7f0e;stroke-linecap:square;stroke-width:1.5;\"/>\r\n   </g>\r\n   <g id=\"line2d_66\">\r\n    <path clip-path=\"url(#p0ad75190e3)\" d=\"M 993.324515 229.874489 \r\nL 1351.399382 229.874489 \r\nL 1351.399382 229.874489 \r\n\" style=\"fill:none;stroke:#2ca02c;stroke-linecap:square;stroke-width:1.5;\"/>\r\n   </g>\r\n   <g id=\"patch_15\">\r\n    <path d=\"M 975.420772 239.758125 \r\nL 975.420772 22.318125 \r\n\" style=\"fill:none;stroke:#000000;stroke-linecap:square;stroke-linejoin:miter;stroke-width:0.8;\"/>\r\n   </g>\r\n   <g id=\"patch_16\">\r\n    <path d=\"M 1369.303125 239.758125 \r\nL 1369.303125 22.318125 \r\n\" style=\"fill:none;stroke:#000000;stroke-linecap:square;stroke-linejoin:miter;stroke-width:0.8;\"/>\r\n   </g>\r\n   <g id=\"patch_17\">\r\n    <path d=\"M 975.420772 239.758125 \r\nL 1369.303125 239.758125 \r\n\" style=\"fill:none;stroke:#000000;stroke-linecap:square;stroke-linejoin:miter;stroke-width:0.8;\"/>\r\n   </g>\r\n   <g id=\"patch_18\">\r\n    <path d=\"M 975.420772 22.318125 \r\nL 1369.303125 22.318125 \r\n\" style=\"fill:none;stroke:#000000;stroke-linecap:square;stroke-linejoin:miter;stroke-width:0.8;\"/>\r\n   </g>\r\n   <g id=\"text_56\">\r\n    <!-- Task -->\r\n    <g transform=\"translate(1159.410386 16.318125)scale(0.12 -0.12)\">\r\n     <defs>\r\n      <path d=\"M -0.296875 72.90625 \r\nL 61.375 72.90625 \r\nL 61.375 64.59375 \r\nL 35.5 64.59375 \r\nL 35.5 0 \r\nL 25.59375 0 \r\nL 25.59375 64.59375 \r\nL -0.296875 64.59375 \r\nz\r\n\" id=\"DejaVuSans-84\"/>\r\n     </defs>\r\n     <use xlink:href=\"#DejaVuSans-84\"/>\r\n     <use x=\"44.583984\" xlink:href=\"#DejaVuSans-97\"/>\r\n     <use x=\"105.863281\" xlink:href=\"#DejaVuSans-115\"/>\r\n     <use x=\"157.962891\" xlink:href=\"#DejaVuSans-107\"/>\r\n    </g>\r\n   </g>\r\n   <g id=\"legend_3\">\r\n    <g id=\"patch_19\">\r\n     <path d=\"M 1232.20625 74.630625 \r\nL 1362.303125 74.630625 \r\nQ 1364.303125 74.630625 1364.303125 72.630625 \r\nL 1364.303125 29.318125 \r\nQ 1364.303125 27.318125 1362.303125 27.318125 \r\nL 1232.20625 27.318125 \r\nQ 1230.20625 27.318125 1230.20625 29.318125 \r\nL 1230.20625 72.630625 \r\nQ 1230.20625 74.630625 1232.20625 74.630625 \r\nz\r\n\" style=\"fill:#ffffff;opacity:0.8;stroke:#cccccc;stroke-linejoin:miter;\"/>\r\n    </g>\r\n    <g id=\"line2d_67\">\r\n     <path d=\"M 1234.20625 35.416562 \r\nL 1254.20625 35.416562 \r\n\" style=\"fill:none;stroke:#1f77b4;stroke-linecap:square;stroke-width:1.5;\"/>\r\n    </g>\r\n    <g id=\"line2d_68\"/>\r\n    <g id=\"text_57\">\r\n     <!-- inspection -->\r\n     <g transform=\"translate(1262.20625 38.916562)scale(0.1 -0.1)\">\r\n      <defs>\r\n       <path d=\"M 18.109375 8.203125 \r\nL 18.109375 -20.796875 \r\nL 9.078125 -20.796875 \r\nL 9.078125 54.6875 \r\nL 18.109375 54.6875 \r\nL 18.109375 46.390625 \r\nQ 20.953125 51.265625 25.265625 53.625 \r\nQ 29.59375 56 35.59375 56 \r\nQ 45.5625 56 51.78125 48.09375 \r\nQ 58.015625 40.1875 58.015625 27.296875 \r\nQ 58.015625 14.40625 51.78125 6.484375 \r\nQ 45.5625 -1.421875 35.59375 -1.421875 \r\nQ 29.59375 -1.421875 25.265625 0.953125 \r\nQ 20.953125 3.328125 18.109375 8.203125 \r\nz\r\nM 48.6875 27.296875 \r\nQ 48.6875 37.203125 44.609375 42.84375 \r\nQ 40.53125 48.484375 33.40625 48.484375 \r\nQ 26.265625 48.484375 22.1875 42.84375 \r\nQ 18.109375 37.203125 18.109375 27.296875 \r\nQ 18.109375 17.390625 22.1875 11.75 \r\nQ 26.265625 6.109375 33.40625 6.109375 \r\nQ 40.53125 6.109375 44.609375 11.75 \r\nQ 48.6875 17.390625 48.6875 27.296875 \r\nz\r\n\" id=\"DejaVuSans-112\"/>\r\n      </defs>\r\n      <use xlink:href=\"#DejaVuSans-105\"/>\r\n      <use x=\"27.783203\" xlink:href=\"#DejaVuSans-110\"/>\r\n      <use x=\"91.162109\" xlink:href=\"#DejaVuSans-115\"/>\r\n      <use x=\"143.261719\" xlink:href=\"#DejaVuSans-112\"/>\r\n      <use x=\"206.738281\" xlink:href=\"#DejaVuSans-101\"/>\r\n      <use x=\"268.261719\" xlink:href=\"#DejaVuSans-99\"/>\r\n      <use x=\"323.242188\" xlink:href=\"#DejaVuSans-116\"/>\r\n      <use x=\"362.451172\" xlink:href=\"#DejaVuSans-105\"/>\r\n      <use x=\"390.234375\" xlink:href=\"#DejaVuSans-111\"/>\r\n      <use x=\"451.416016\" xlink:href=\"#DejaVuSans-110\"/>\r\n     </g>\r\n    </g>\r\n    <g id=\"line2d_69\">\r\n     <path d=\"M 1234.20625 50.094687 \r\nL 1254.20625 50.094687 \r\n\" style=\"fill:none;stroke:#ff7f0e;stroke-linecap:square;stroke-width:1.5;\"/>\r\n    </g>\r\n    <g id=\"line2d_70\"/>\r\n    <g id=\"text_58\">\r\n     <!-- on_condition_repair -->\r\n     <g transform=\"translate(1262.20625 53.594687)scale(0.1 -0.1)\">\r\n      <use xlink:href=\"#DejaVuSans-111\"/>\r\n      <use x=\"61.181641\" xlink:href=\"#DejaVuSans-110\"/>\r\n      <use x=\"124.560547\" xlink:href=\"#DejaVuSans-95\"/>\r\n      <use x=\"174.560547\" xlink:href=\"#DejaVuSans-99\"/>\r\n      <use x=\"229.541016\" xlink:href=\"#DejaVuSans-111\"/>\r\n      <use x=\"290.722656\" xlink:href=\"#DejaVuSans-110\"/>\r\n      <use x=\"354.101562\" xlink:href=\"#DejaVuSans-100\"/>\r\n      <use x=\"417.578125\" xlink:href=\"#DejaVuSans-105\"/>\r\n      <use x=\"445.361328\" xlink:href=\"#DejaVuSans-116\"/>\r\n      <use x=\"484.570312\" xlink:href=\"#DejaVuSans-105\"/>\r\n      <use x=\"512.353516\" xlink:href=\"#DejaVuSans-111\"/>\r\n      <use x=\"573.535156\" xlink:href=\"#DejaVuSans-110\"/>\r\n      <use x=\"636.914062\" xlink:href=\"#DejaVuSans-95\"/>\r\n      <use x=\"686.914062\" xlink:href=\"#DejaVuSans-114\"/>\r\n      <use x=\"725.777344\" xlink:href=\"#DejaVuSans-101\"/>\r\n      <use x=\"787.300781\" xlink:href=\"#DejaVuSans-112\"/>\r\n      <use x=\"850.777344\" xlink:href=\"#DejaVuSans-97\"/>\r\n      <use x=\"912.056641\" xlink:href=\"#DejaVuSans-105\"/>\r\n      <use x=\"939.839844\" xlink:href=\"#DejaVuSans-114\"/>\r\n     </g>\r\n    </g>\r\n    <g id=\"line2d_71\">\r\n     <path d=\"M 1234.20625 65.050938 \r\nL 1254.20625 65.050938 \r\n\" style=\"fill:none;stroke:#2ca02c;stroke-linecap:square;stroke-width:1.5;\"/>\r\n    </g>\r\n    <g id=\"line2d_72\"/>\r\n    <g id=\"text_59\">\r\n     <!-- cm -->\r\n     <g transform=\"translate(1262.20625 68.550938)scale(0.1 -0.1)\">\r\n      <use xlink:href=\"#DejaVuSans-99\"/>\r\n      <use x=\"54.980469\" xlink:href=\"#DejaVuSans-109\"/>\r\n     </g>\r\n    </g>\r\n   </g>\r\n  </g>\r\n </g>\r\n <defs>\r\n  <clipPath id=\"p5450ac74cd\">\r\n   <rect height=\"217.44\" width=\"393.882353\" x=\"30.103125\" y=\"22.318125\"/>\r\n  </clipPath>\r\n  <clipPath id=\"p1dd0d3e842\">\r\n   <rect height=\"217.44\" width=\"393.882353\" x=\"502.761949\" y=\"22.318125\"/>\r\n  </clipPath>\r\n  <clipPath id=\"p0ad75190e3\">\r\n   <rect height=\"217.44\" width=\"393.882353\" x=\"975.420772\" y=\"22.318125\"/>\r\n  </clipPath>\r\n </defs>\r\n</svg>\r\n",
      "image/png": "[encoded data removed]"
     },
     "metadata": {
      "needs_background": "light"
     }
    }
   ],
   "source": [
    "fm._initiated = True\n",
    "fm.conditions['wall_thickness'].set_condition(70)\n",
    "fm.sim_timeline(200)\n",
    "fm.plot_timeline()"
   ]
  },
  {
   "cell_type": "markdown",
   "metadata": {},
   "source": [
    "## Maintenance Strategy\n",
    "\n",
    "The maintenance strategy..."
   ]
  },
  {
   "cell_type": "code",
   "execution_count": 8,
   "metadata": {
    "tags": []
   },
   "outputs": [
    {
     "output_type": "stream",
     "name": "stderr",
     "text": "100%|██████████| 1000/1000 [00:04<00:00, 231.99it/s]\n"
    },
    {
     "output_type": "display_data",
     "data": {
      "application/vnd.plotly.v1+json": {
       "config": {
        "plotlyServerURL": "https://plot.ly"
       },
       "data": [
        {
         "hovertemplate": "task=inspection<br>time=%{x}<br>cost=%{y}<extra></extra>",
         "legendgroup": "inspection",
         "line": {
          "color": "#636efa"
         },
         "mode": "lines",
         "name": "inspection",
         "orientation": "v",
         "showlegend": true,
         "stackgroup": "1",
         "type": "scatter",
         "x": [
          0,
          1,
          2,
          3,
          4,
          5,
          6,
          7,
          8,
          9,
          10,
          11,
          12,
          13,
          14,
          15,
          16,
          17,
          18,
          19,
          20,
          21,
          22,
          23,
          24,
          25,
          26,
          27,
          28,
          29,
          30,
          31,
          32,
          33,
          34,
          35,
          36,
          37,
          38,
          39,
          40,
          41,
          42,
          43,
          44,
          45,
          46,
          47,
          48,
          49,
          50,
          51,
          52,
          53,
          54,
          55,
          56,
          57,
          58,
          59,
          60,
          61,
          62,
          63,
          64,
          65,
          66,
          67,
          68,
          69,
          70,
          71,
          72,
          73,
          74,
          75,
          76,
          77,
          78,
          79,
          80,
          81,
          82,
          83,
          84,
          85,
          86,
          87,
          88,
          89,
          90,
          91,
          92,
          93,
          94,
          95,
          96,
          97,
          98,
          99,
          100,
          101,
          102,
          103,
          104,
          105,
          106,
          107,
          108,
          109,
          110,
          111,
          112,
          113,
          114,
          115,
          116,
          117,
          118,
          119,
          120,
          121,
          122,
          123,
          124,
          125,
          126,
          127,
          128,
          129,
          130,
          131,
          132,
          133,
          134,
          135,
          136,
          137,
          138,
          139,
          140,
          141,
          142,
          143,
          144,
          145,
          146,
          147,
          148,
          149,
          150,
          151,
          152,
          153,
          154,
          155,
          156,
          157,
          158,
          159,
          160,
          161,
          162,
          163,
          164,
          165,
          166,
          167,
          168,
          169,
          170,
          171,
          172,
          173,
          174,
          175,
          176,
          177,
          178,
          179,
          180,
          181,
          182,
          183,
          184,
          185,
          186,
          187,
          188,
          189,
          190,
          191,
          192,
          193,
          194,
          195,
          196,
          197,
          198,
          199,
          200
         ],
         "xaxis": "x",
         "y": [
          0,
          0,
          0,
          0,
          0,
          50,
          0,
          0,
          0,
          0,
          50,
          0,
          0,
          0,
          0,
          50,
          0,
          0,
          0,
          0,
          50,
          0,
          0,
          0,
          0,
          50,
          0,
          0,
          0,
          0,
          50,
          0,
          0,
          0,
          0,
          50,
          0,
          0,
          0,
          0,
          50,
          0,
          0,
          0,
          0,
          50,
          0,
          0,
          0,
          0,
          50,
          0,
          0,
          0,
          0,
          50,
          0,
          0,
          0,
          0,
          50,
          0,
          0,
          0,
          0,
          50,
          0,
          0,
          0,
          0,
          50,
          0,
          0,
          0,
          0,
          50,
          0,
          0,
          0,
          0,
          50,
          0,
          0,
          0,
          0,
          50,
          0,
          0,
          0,
          0,
          50,
          0,
          0,
          0,
          0,
          50,
          0,
          0,
          0,
          0,
          50,
          0,
          0,
          0,
          0,
          50,
          0,
          0,
          0,
          0,
          50,
          0,
          0,
          0,
          0,
          50,
          0,
          0,
          0,
          0,
          50,
          0,
          0,
          0,
          0,
          50,
          0,
          0,
          0,
          0,
          50,
          0,
          0,
          0,
          0,
          50,
          0,
          0,
          0,
          0,
          50,
          0,
          0,
          0,
          0,
          50,
          0,
          0,
          0,
          0,
          50,
          0,
          0,
          0,
          0,
          50,
          0,
          0,
          0,
          0,
          50,
          0,
          0,
          0,
          0,
          50,
          0,
          0,
          0,
          0,
          50,
          0,
          0,
          0,
          0,
          50,
          0,
          0,
          0,
          0,
          50,
          0,
          0,
          0,
          0,
          50,
          0,
          0,
          0,
          0,
          50,
          0,
          0,
          0,
          0,
          50,
          0,
          0,
          0,
          0,
          49
         ],
         "yaxis": "y"
        },
        {
         "hovertemplate": "task=on_condition_repair<br>time=%{x}<br>cost=%{y}<extra></extra>",
         "legendgroup": "on_condition_repair",
         "line": {
          "color": "#EF553B"
         },
         "mode": "lines",
         "name": "on_condition_repair",
         "orientation": "v",
         "showlegend": true,
         "stackgroup": "1",
         "type": "scatter",
         "x": [
          0,
          1,
          2,
          3,
          4,
          5,
          6,
          7,
          8,
          9,
          10,
          11,
          12,
          13,
          14,
          15,
          16,
          17,
          18,
          19,
          20,
          21,
          22,
          23,
          24,
          25,
          26,
          27,
          28,
          29,
          30,
          31,
          32,
          33,
          34,
          35,
          36,
          37,
          38,
          39,
          40,
          41,
          42,
          43,
          44,
          45,
          46,
          47,
          48,
          49,
          50,
          51,
          52,
          53,
          54,
          55,
          56,
          57,
          58,
          59,
          60,
          61,
          62,
          63,
          64,
          65,
          66,
          67,
          68,
          69,
          70,
          71,
          72,
          73,
          74,
          75,
          76,
          77,
          78,
          79,
          80,
          81,
          82,
          83,
          84,
          85,
          86,
          87,
          88,
          89,
          90,
          91,
          92,
          93,
          94,
          95,
          96,
          97,
          98,
          99,
          100,
          101,
          102,
          103,
          104,
          105,
          106,
          107,
          108,
          109,
          110,
          111,
          112,
          113,
          114,
          115,
          116,
          117,
          118,
          119,
          120,
          121,
          122,
          123,
          124,
          125,
          126,
          127,
          128,
          129,
          130,
          131,
          132,
          133,
          134,
          135,
          136,
          137,
          138,
          139,
          140,
          141,
          142,
          143,
          144,
          145,
          146,
          147,
          148,
          149,
          150,
          151,
          152,
          153,
          154,
          155,
          156,
          157,
          158,
          159,
          160,
          161,
          162,
          163,
          164,
          165,
          166,
          167,
          168,
          169,
          170,
          171,
          172,
          173,
          174,
          175,
          176,
          177,
          178,
          179,
          180,
          181,
          182,
          183,
          184,
          185,
          186,
          187,
          188,
          189,
          190,
          191,
          192,
          193,
          194,
          195,
          196,
          197,
          198,
          199,
          200
         ],
         "xaxis": "x",
         "y": [
          0,
          0,
          0,
          0,
          0,
          1,
          1,
          1,
          0,
          1,
          1,
          0,
          1,
          0,
          0,
          1,
          1,
          0,
          0,
          1,
          0,
          2,
          0,
          0,
          0,
          0,
          1,
          0,
          0,
          0,
          1,
          1,
          1,
          0,
          1,
          0,
          2,
          0,
          0,
          0,
          0,
          1,
          0,
          1,
          0,
          0,
          3,
          0,
          0,
          0,
          0,
          2,
          0,
          0,
          0,
          0,
          3,
          0,
          0,
          1,
          0,
          1,
          0,
          1,
          0,
          0,
          2,
          0,
          0,
          0,
          0,
          3,
          0,
          0,
          0,
          0,
          2,
          0,
          0,
          0,
          0,
          3,
          0,
          0,
          0,
          0,
          3,
          0,
          0,
          0,
          0,
          3,
          0,
          0,
          0,
          0,
          2,
          0,
          0,
          0,
          0,
          3,
          0,
          0,
          0,
          0,
          3,
          0,
          0,
          0,
          0,
          2,
          0,
          0,
          0,
          0,
          3,
          0,
          0,
          0,
          0,
          3,
          0,
          0,
          0,
          0,
          3,
          0,
          0,
          0,
          0,
          2,
          0,
          0,
          0,
          0,
          3,
          0,
          0,
          0,
          0,
          3,
          0,
          0,
          0,
          0,
          3,
          0,
          0,
          0,
          0,
          4,
          0,
          0,
          0,
          0,
          4,
          0,
          0,
          0,
          0,
          3,
          0,
          0,
          0,
          0,
          3,
          0,
          0,
          0,
          0,
          3,
          0,
          0,
          0,
          0,
          3,
          0,
          0,
          0,
          0,
          3,
          0,
          0,
          0,
          0,
          3,
          0,
          0,
          0,
          0,
          3,
          0,
          0,
          0,
          0,
          3,
          0,
          0,
          0,
          0
         ],
         "yaxis": "y"
        },
        {
         "hovertemplate": "task=cm<br>time=%{x}<br>cost=%{y}<extra></extra>",
         "legendgroup": "cm",
         "line": {
          "color": "#00cc96"
         },
         "mode": "lines",
         "name": "cm",
         "orientation": "v",
         "showlegend": true,
         "stackgroup": "1",
         "type": "scatter",
         "x": [
          0,
          1,
          2,
          3,
          4,
          5,
          6,
          7,
          8,
          9,
          10,
          11,
          12,
          13,
          14,
          15,
          16,
          17,
          18,
          19,
          20,
          21,
          22,
          23,
          24,
          25,
          26,
          27,
          28,
          29,
          30,
          31,
          32,
          33,
          34,
          35,
          36,
          37,
          38,
          39,
          40,
          41,
          42,
          43,
          44,
          45,
          46,
          47,
          48,
          49,
          50,
          51,
          52,
          53,
          54,
          55,
          56,
          57,
          58,
          59,
          60,
          61,
          62,
          63,
          64,
          65,
          66,
          67,
          68,
          69,
          70,
          71,
          72,
          73,
          74,
          75,
          76,
          77,
          78,
          79,
          80,
          81,
          82,
          83,
          84,
          85,
          86,
          87,
          88,
          89,
          90,
          91,
          92,
          93,
          94,
          95,
          96,
          97,
          98,
          99,
          100,
          101,
          102,
          103,
          104,
          105,
          106,
          107,
          108,
          109,
          110,
          111,
          112,
          113,
          114,
          115,
          116,
          117,
          118,
          119,
          120,
          121,
          122,
          123,
          124,
          125,
          126,
          127,
          128,
          129,
          130,
          131,
          132,
          133,
          134,
          135,
          136,
          137,
          138,
          139,
          140,
          141,
          142,
          143,
          144,
          145,
          146,
          147,
          148,
          149,
          150,
          151,
          152,
          153,
          154,
          155,
          156,
          157,
          158,
          159,
          160,
          161,
          162,
          163,
          164,
          165,
          166,
          167,
          168,
          169,
          170,
          171,
          172,
          173,
          174,
          175,
          176,
          177,
          178,
          179,
          180,
          181,
          182,
          183,
          184,
          185,
          186,
          187,
          188,
          189,
          190,
          191,
          192,
          193,
          194,
          195,
          196,
          197,
          198,
          199,
          200
         ],
         "xaxis": "x",
         "y": [
          0,
          0,
          0,
          0,
          0,
          0,
          0,
          0,
          0,
          0,
          0,
          0,
          0,
          0,
          0,
          0,
          0,
          0,
          0,
          0,
          0,
          0,
          0,
          0,
          0,
          0,
          0,
          0,
          0,
          0,
          0,
          0,
          0,
          0,
          0,
          0,
          0,
          0,
          0,
          0,
          0,
          0,
          0,
          0,
          0,
          0,
          0,
          0,
          0,
          0,
          0,
          0,
          0,
          0,
          0,
          0,
          0,
          0,
          0,
          0,
          0,
          0,
          0,
          0,
          0,
          0,
          0,
          0,
          0,
          0,
          0,
          0,
          0,
          0,
          0,
          0,
          0,
          0,
          0,
          0,
          0,
          0,
          0,
          0,
          0,
          0,
          0,
          0,
          0,
          0,
          0,
          0,
          0,
          0,
          0,
          0,
          0,
          0,
          0,
          10,
          0,
          0,
          0,
          0,
          5,
          10,
          0,
          0,
          0,
          5,
          0,
          0,
          0,
          0,
          5,
          5,
          0,
          0,
          0,
          0,
          0,
          0,
          0,
          0,
          0,
          5,
          0,
          0,
          0,
          5,
          5,
          0,
          0,
          0,
          0,
          0,
          0,
          0,
          5,
          0,
          0,
          0,
          0,
          5,
          0,
          5,
          0,
          0,
          10,
          0,
          0,
          0,
          0,
          0,
          0,
          0,
          0,
          5,
          5,
          5,
          10,
          0,
          5,
          0,
          5,
          0,
          0,
          0,
          0,
          0,
          0,
          0,
          0,
          0,
          10,
          5,
          0,
          10,
          5,
          15,
          5,
          0,
          0,
          5,
          5,
          0,
          0,
          5,
          10,
          0,
          10,
          5,
          0,
          10,
          0,
          10,
          0,
          5,
          10,
          0,
          5
         ],
         "yaxis": "y"
        },
        {
         "hovertemplate": "task=risk<br>time=%{x}<br>cost=%{y}<extra></extra>",
         "legendgroup": "risk",
         "line": {
          "color": "#ab63fa"
         },
         "mode": "lines",
         "name": "risk",
         "orientation": "v",
         "showlegend": true,
         "stackgroup": "1",
         "type": "scatter",
         "x": [
          0,
          1,
          2,
          3,
          4,
          5,
          6,
          7,
          8,
          9,
          10,
          11,
          12,
          13,
          14,
          15,
          16,
          17,
          18,
          19,
          20,
          21,
          22,
          23,
          24,
          25,
          26,
          27,
          28,
          29,
          30,
          31,
          32,
          33,
          34,
          35,
          36,
          37,
          38,
          39,
          40,
          41,
          42,
          43,
          44,
          45,
          46,
          47,
          48,
          49,
          50,
          51,
          52,
          53,
          54,
          55,
          56,
          57,
          58,
          59,
          60,
          61,
          62,
          63,
          64,
          65,
          66,
          67,
          68,
          69,
          70,
          71,
          72,
          73,
          74,
          75,
          76,
          77,
          78,
          79,
          80,
          81,
          82,
          83,
          84,
          85,
          86,
          87,
          88,
          89,
          90,
          91,
          92,
          93,
          94,
          95,
          96,
          97,
          98,
          99,
          100,
          101,
          102,
          103,
          104,
          105,
          106,
          107,
          108,
          109,
          110,
          111,
          112,
          113,
          114,
          115,
          116,
          117,
          118,
          119,
          120,
          121,
          122,
          123,
          124,
          125,
          126,
          127,
          128,
          129,
          130,
          131,
          132,
          133,
          134,
          135,
          136,
          137,
          138,
          139,
          140,
          141,
          142,
          143,
          144,
          145,
          146,
          147,
          148,
          149,
          150,
          151,
          152,
          153,
          154,
          155,
          156,
          157,
          158,
          159,
          160,
          161,
          162,
          163,
          164,
          165,
          166,
          167,
          168,
          169,
          170,
          171,
          172,
          173,
          174,
          175,
          176,
          177,
          178,
          179,
          180,
          181,
          182,
          183,
          184,
          185,
          186,
          187,
          188,
          189,
          190,
          191,
          192,
          193,
          194,
          195,
          196,
          197,
          198,
          199,
          200
         ],
         "xaxis": "x",
         "y": [
          0,
          0,
          0,
          0,
          0,
          0,
          0,
          0,
          0,
          0,
          0,
          0,
          0,
          0,
          0,
          0,
          0,
          0,
          0,
          0,
          0,
          0,
          0,
          0,
          0,
          0,
          0,
          0,
          0,
          0,
          0,
          0,
          0,
          0,
          0,
          0,
          0,
          0,
          0,
          0,
          0,
          0,
          0,
          0,
          0,
          0,
          0,
          0,
          0,
          0,
          0,
          0,
          0,
          0,
          0,
          0,
          0,
          0,
          0,
          0,
          0,
          0,
          0,
          0,
          0,
          0,
          0,
          0,
          0,
          0,
          0,
          0,
          0,
          0,
          0,
          0,
          0,
          0,
          0,
          0,
          0,
          0,
          0,
          0,
          0,
          0,
          0,
          0,
          0,
          0,
          0,
          0,
          0,
          0,
          0,
          0,
          0,
          0,
          0,
          100,
          0,
          0,
          0,
          0,
          50,
          100,
          0,
          0,
          0,
          50,
          0,
          0,
          0,
          0,
          50,
          50,
          0,
          0,
          0,
          0,
          0,
          0,
          0,
          0,
          0,
          50,
          0,
          0,
          0,
          50,
          50,
          0,
          0,
          0,
          0,
          0,
          0,
          0,
          50,
          0,
          0,
          0,
          0,
          50,
          0,
          50,
          0,
          0,
          100,
          0,
          0,
          0,
          0,
          0,
          0,
          0,
          0,
          50,
          50,
          50,
          100,
          0,
          50,
          0,
          50,
          0,
          0,
          0,
          0,
          0,
          0,
          0,
          0,
          0,
          100,
          50,
          0,
          100,
          50,
          150,
          50,
          0,
          0,
          50,
          50,
          0,
          0,
          50,
          100,
          0,
          100,
          50,
          0,
          100,
          0,
          100,
          0,
          50,
          100,
          0,
          50
         ],
         "yaxis": "y"
        }
       ],
       "layout": {
        "legend": {
         "title": {
          "text": "task"
         },
         "tracegroupgap": 0
        },
        "template": {
         "data": {
          "bar": [
           {
            "error_x": {
             "color": "#2a3f5f"
            },
            "error_y": {
             "color": "#2a3f5f"
            },
            "marker": {
             "line": {
              "color": "#E5ECF6",
              "width": 0.5
             }
            },
            "type": "bar"
           }
          ],
          "barpolar": [
           {
            "marker": {
             "line": {
              "color": "#E5ECF6",
              "width": 0.5
             }
            },
            "type": "barpolar"
           }
          ],
          "carpet": [
           {
            "aaxis": {
             "endlinecolor": "#2a3f5f",
             "gridcolor": "white",
             "linecolor": "white",
             "minorgridcolor": "white",
             "startlinecolor": "#2a3f5f"
            },
            "baxis": {
             "endlinecolor": "#2a3f5f",
             "gridcolor": "white",
             "linecolor": "white",
             "minorgridcolor": "white",
             "startlinecolor": "#2a3f5f"
            },
            "type": "carpet"
           }
          ],
          "choropleth": [
           {
            "colorbar": {
             "outlinewidth": 0,
             "ticks": ""
            },
            "type": "choropleth"
           }
          ],
          "contour": [
           {
            "colorbar": {
             "outlinewidth": 0,
             "ticks": ""
            },
            "colorscale": [
             [
              0,
              "#0d0887"
             ],
             [
              0.1111111111111111,
              "#46039f"
             ],
             [
              0.2222222222222222,
              "#7201a8"
             ],
             [
              0.3333333333333333,
              "#9c179e"
             ],
             [
              0.4444444444444444,
              "#bd3786"
             ],
             [
              0.5555555555555556,
              "#d8576b"
             ],
             [
              0.6666666666666666,
              "#ed7953"
             ],
             [
              0.7777777777777778,
              "#fb9f3a"
             ],
             [
              0.8888888888888888,
              "#fdca26"
             ],
             [
              1,
              "#f0f921"
             ]
            ],
            "type": "contour"
           }
          ],
          "contourcarpet": [
           {
            "colorbar": {
             "outlinewidth": 0,
             "ticks": ""
            },
            "type": "contourcarpet"
           }
          ],
          "heatmap": [
           {
            "colorbar": {
             "outlinewidth": 0,
             "ticks": ""
            },
            "colorscale": [
             [
              0,
              "#0d0887"
             ],
             [
              0.1111111111111111,
              "#46039f"
             ],
             [
              0.2222222222222222,
              "#7201a8"
             ],
             [
              0.3333333333333333,
              "#9c179e"
             ],
             [
              0.4444444444444444,
              "#bd3786"
             ],
             [
              0.5555555555555556,
              "#d8576b"
             ],
             [
              0.6666666666666666,
              "#ed7953"
             ],
             [
              0.7777777777777778,
              "#fb9f3a"
             ],
             [
              0.8888888888888888,
              "#fdca26"
             ],
             [
              1,
              "#f0f921"
             ]
            ],
            "type": "heatmap"
           }
          ],
          "heatmapgl": [
           {
            "colorbar": {
             "outlinewidth": 0,
             "ticks": ""
            },
            "colorscale": [
             [
              0,
              "#0d0887"
             ],
             [
              0.1111111111111111,
              "#46039f"
             ],
             [
              0.2222222222222222,
              "#7201a8"
             ],
             [
              0.3333333333333333,
              "#9c179e"
             ],
             [
              0.4444444444444444,
              "#bd3786"
             ],
             [
              0.5555555555555556,
              "#d8576b"
             ],
             [
              0.6666666666666666,
              "#ed7953"
             ],
             [
              0.7777777777777778,
              "#fb9f3a"
             ],
             [
              0.8888888888888888,
              "#fdca26"
             ],
             [
              1,
              "#f0f921"
             ]
            ],
            "type": "heatmapgl"
           }
          ],
          "histogram": [
           {
            "marker": {
             "colorbar": {
              "outlinewidth": 0,
              "ticks": ""
             }
            },
            "type": "histogram"
           }
          ],
          "histogram2d": [
           {
            "colorbar": {
             "outlinewidth": 0,
             "ticks": ""
            },
            "colorscale": [
             [
              0,
              "#0d0887"
             ],
             [
              0.1111111111111111,
              "#46039f"
             ],
             [
              0.2222222222222222,
              "#7201a8"
             ],
             [
              0.3333333333333333,
              "#9c179e"
             ],
             [
              0.4444444444444444,
              "#bd3786"
             ],
             [
              0.5555555555555556,
              "#d8576b"
             ],
             [
              0.6666666666666666,
              "#ed7953"
             ],
             [
              0.7777777777777778,
              "#fb9f3a"
             ],
             [
              0.8888888888888888,
              "#fdca26"
             ],
             [
              1,
              "#f0f921"
             ]
            ],
            "type": "histogram2d"
           }
          ],
          "histogram2dcontour": [
           {
            "colorbar": {
             "outlinewidth": 0,
             "ticks": ""
            },
            "colorscale": [
             [
              0,
              "#0d0887"
             ],
             [
              0.1111111111111111,
              "#46039f"
             ],
             [
              0.2222222222222222,
              "#7201a8"
             ],
             [
              0.3333333333333333,
              "#9c179e"
             ],
             [
              0.4444444444444444,
              "#bd3786"
             ],
             [
              0.5555555555555556,
              "#d8576b"
             ],
             [
              0.6666666666666666,
              "#ed7953"
             ],
             [
              0.7777777777777778,
              "#fb9f3a"
             ],
             [
              0.8888888888888888,
              "#fdca26"
             ],
             [
              1,
              "#f0f921"
             ]
            ],
            "type": "histogram2dcontour"
           }
          ],
          "mesh3d": [
           {
            "colorbar": {
             "outlinewidth": 0,
             "ticks": ""
            },
            "type": "mesh3d"
           }
          ],
          "parcoords": [
           {
            "line": {
             "colorbar": {
              "outlinewidth": 0,
              "ticks": ""
             }
            },
            "type": "parcoords"
           }
          ],
          "pie": [
           {
            "automargin": true,
            "type": "pie"
           }
          ],
          "scatter": [
           {
            "marker": {
             "colorbar": {
              "outlinewidth": 0,
              "ticks": ""
             }
            },
            "type": "scatter"
           }
          ],
          "scatter3d": [
           {
            "line": {
             "colorbar": {
              "outlinewidth": 0,
              "ticks": ""
             }
            },
            "marker": {
             "colorbar": {
              "outlinewidth": 0,
              "ticks": ""
             }
            },
            "type": "scatter3d"
           }
          ],
          "scattercarpet": [
           {
            "marker": {
             "colorbar": {
              "outlinewidth": 0,
              "ticks": ""
             }
            },
            "type": "scattercarpet"
           }
          ],
          "scattergeo": [
           {
            "marker": {
             "colorbar": {
              "outlinewidth": 0,
              "ticks": ""
             }
            },
            "type": "scattergeo"
           }
          ],
          "scattergl": [
           {
            "marker": {
             "colorbar": {
              "outlinewidth": 0,
              "ticks": ""
             }
            },
            "type": "scattergl"
           }
          ],
          "scattermapbox": [
           {
            "marker": {
             "colorbar": {
              "outlinewidth": 0,
              "ticks": ""
             }
            },
            "type": "scattermapbox"
           }
          ],
          "scatterpolar": [
           {
            "marker": {
             "colorbar": {
              "outlinewidth": 0,
              "ticks": ""
             }
            },
            "type": "scatterpolar"
           }
          ],
          "scatterpolargl": [
           {
            "marker": {
             "colorbar": {
              "outlinewidth": 0,
              "ticks": ""
             }
            },
            "type": "scatterpolargl"
           }
          ],
          "scatterternary": [
           {
            "marker": {
             "colorbar": {
              "outlinewidth": 0,
              "ticks": ""
             }
            },
            "type": "scatterternary"
           }
          ],
          "surface": [
           {
            "colorbar": {
             "outlinewidth": 0,
             "ticks": ""
            },
            "colorscale": [
             [
              0,
              "#0d0887"
             ],
             [
              0.1111111111111111,
              "#46039f"
             ],
             [
              0.2222222222222222,
              "#7201a8"
             ],
             [
              0.3333333333333333,
              "#9c179e"
             ],
             [
              0.4444444444444444,
              "#bd3786"
             ],
             [
              0.5555555555555556,
              "#d8576b"
             ],
             [
              0.6666666666666666,
              "#ed7953"
             ],
             [
              0.7777777777777778,
              "#fb9f3a"
             ],
             [
              0.8888888888888888,
              "#fdca26"
             ],
             [
              1,
              "#f0f921"
             ]
            ],
            "type": "surface"
           }
          ],
          "table": [
           {
            "cells": {
             "fill": {
              "color": "#EBF0F8"
             },
             "line": {
              "color": "white"
             }
            },
            "header": {
             "fill": {
              "color": "#C8D4E3"
             },
             "line": {
              "color": "white"
             }
            },
            "type": "table"
           }
          ]
         },
         "layout": {
          "annotationdefaults": {
           "arrowcolor": "#2a3f5f",
           "arrowhead": 0,
           "arrowwidth": 1
          },
          "coloraxis": {
           "colorbar": {
            "outlinewidth": 0,
            "ticks": ""
           }
          },
          "colorscale": {
           "diverging": [
            [
             0,
             "#8e0152"
            ],
            [
             0.1,
             "#c51b7d"
            ],
            [
             0.2,
             "#de77ae"
            ],
            [
             0.3,
             "#f1b6da"
            ],
            [
             0.4,
             "#fde0ef"
            ],
            [
             0.5,
             "#f7f7f7"
            ],
            [
             0.6,
             "#e6f5d0"
            ],
            [
             0.7,
             "#b8e186"
            ],
            [
             0.8,
             "#7fbc41"
            ],
            [
             0.9,
             "#4d9221"
            ],
            [
             1,
             "#276419"
            ]
           ],
           "sequential": [
            [
             0,
             "#0d0887"
            ],
            [
             0.1111111111111111,
             "#46039f"
            ],
            [
             0.2222222222222222,
             "#7201a8"
            ],
            [
             0.3333333333333333,
             "#9c179e"
            ],
            [
             0.4444444444444444,
             "#bd3786"
            ],
            [
             0.5555555555555556,
             "#d8576b"
            ],
            [
             0.6666666666666666,
             "#ed7953"
            ],
            [
             0.7777777777777778,
             "#fb9f3a"
            ],
            [
             0.8888888888888888,
             "#fdca26"
            ],
            [
             1,
             "#f0f921"
            ]
           ],
           "sequentialminus": [
            [
             0,
             "#0d0887"
            ],
            [
             0.1111111111111111,
             "#46039f"
            ],
            [
             0.2222222222222222,
             "#7201a8"
            ],
            [
             0.3333333333333333,
             "#9c179e"
            ],
            [
             0.4444444444444444,
             "#bd3786"
            ],
            [
             0.5555555555555556,
             "#d8576b"
            ],
            [
             0.6666666666666666,
             "#ed7953"
            ],
            [
             0.7777777777777778,
             "#fb9f3a"
            ],
            [
             0.8888888888888888,
             "#fdca26"
            ],
            [
             1,
             "#f0f921"
            ]
           ]
          },
          "colorway": [
           "#636efa",
           "#EF553B",
           "#00cc96",
           "#ab63fa",
           "#FFA15A",
           "#19d3f3",
           "#FF6692",
           "#B6E880",
           "#FF97FF",
           "#FECB52"
          ],
          "font": {
           "color": "#2a3f5f"
          },
          "geo": {
           "bgcolor": "white",
           "lakecolor": "white",
           "landcolor": "#E5ECF6",
           "showlakes": true,
           "showland": true,
           "subunitcolor": "white"
          },
          "hoverlabel": {
           "align": "left"
          },
          "hovermode": "closest",
          "mapbox": {
           "style": "light"
          },
          "paper_bgcolor": "white",
          "plot_bgcolor": "#E5ECF6",
          "polar": {
           "angularaxis": {
            "gridcolor": "white",
            "linecolor": "white",
            "ticks": ""
           },
           "bgcolor": "#E5ECF6",
           "radialaxis": {
            "gridcolor": "white",
            "linecolor": "white",
            "ticks": ""
           }
          },
          "scene": {
           "xaxis": {
            "backgroundcolor": "#E5ECF6",
            "gridcolor": "white",
            "gridwidth": 2,
            "linecolor": "white",
            "showbackground": true,
            "ticks": "",
            "zerolinecolor": "white"
           },
           "yaxis": {
            "backgroundcolor": "#E5ECF6",
            "gridcolor": "white",
            "gridwidth": 2,
            "linecolor": "white",
            "showbackground": true,
            "ticks": "",
            "zerolinecolor": "white"
           },
           "zaxis": {
            "backgroundcolor": "#E5ECF6",
            "gridcolor": "white",
            "gridwidth": 2,
            "linecolor": "white",
            "showbackground": true,
            "ticks": "",
            "zerolinecolor": "white"
           }
          },
          "shapedefaults": {
           "line": {
            "color": "#2a3f5f"
           }
          },
          "ternary": {
           "aaxis": {
            "gridcolor": "white",
            "linecolor": "white",
            "ticks": ""
           },
           "baxis": {
            "gridcolor": "white",
            "linecolor": "white",
            "ticks": ""
           },
           "bgcolor": "#E5ECF6",
           "caxis": {
            "gridcolor": "white",
            "linecolor": "white",
            "ticks": ""
           }
          },
          "title": {
           "x": 0.05
          },
          "xaxis": {
           "automargin": true,
           "gridcolor": "white",
           "linecolor": "white",
           "ticks": "",
           "title": {
            "standoff": 15
           },
           "zerolinecolor": "white",
           "zerolinewidth": 2
          },
          "yaxis": {
           "automargin": true,
           "gridcolor": "white",
           "linecolor": "white",
           "ticks": "",
           "title": {
            "standoff": 15
           },
           "zerolinecolor": "white",
           "zerolinewidth": 2
          }
         }
        },
        "title": {
         "text": "Maintenance Strategy Costs"
        },
        "xaxis": {
         "anchor": "y",
         "domain": [
          0,
          1
         ],
         "title": {
          "text": "time"
         }
        },
        "yaxis": {
         "anchor": "x",
         "domain": [
          0,
          1
         ],
         "title": {
          "text": "cost"
         }
        }
       }
      }
     },
     "metadata": {}
    }
   ],
   "source": [
    "fm = FailureMode().set_demo()\n",
    "\n",
    "fm.conditions['wall_thickness'] = Condition(100, 0, 'linear', [-5])\n",
    "fm.tasks['inspection'].p_effective = 1\n",
    "\n",
    "fm.reset()\n",
    "\n",
    "fm.mc_timeline(t_end=200, n_iterations=1000)\n",
    "\n",
    "df = fm.expected_risk_cost_df()\n",
    "\n",
    "fig = px.area(df, x=\"time\", y=\"cost\", color=\"task\", title='Maintenance Strategy Costs')\n",
    "fig.show()"
   ]
  },
  {
   "cell_type": "code",
   "execution_count": 9,
   "metadata": {},
   "outputs": [
    {
     "output_type": "display_data",
     "data": {
      "application/vnd.plotly.v1+json": {
       "config": {
        "plotlyServerURL": "https://plot.ly"
       },
       "data": [
        {
         "hovertemplate": "task=inspection<br>time=%{x}<br>cost_cumulative=%{y}<extra></extra>",
         "legendgroup": "inspection",
         "line": {
          "color": "#636efa"
         },
         "mode": "lines",
         "name": "inspection",
         "orientation": "v",
         "showlegend": true,
         "stackgroup": "1",
         "type": "scatter",
         "x": [
          0,
          1,
          2,
          3,
          4,
          5,
          6,
          7,
          8,
          9,
          10,
          11,
          12,
          13,
          14,
          15,
          16,
          17,
          18,
          19,
          20,
          21,
          22,
          23,
          24,
          25,
          26,
          27,
          28,
          29,
          30,
          31,
          32,
          33,
          34,
          35,
          36,
          37,
          38,
          39,
          40,
          41,
          42,
          43,
          44,
          45,
          46,
          47,
          48,
          49,
          50,
          51,
          52,
          53,
          54,
          55,
          56,
          57,
          58,
          59,
          60,
          61,
          62,
          63,
          64,
          65,
          66,
          67,
          68,
          69,
          70,
          71,
          72,
          73,
          74,
          75,
          76,
          77,
          78,
          79,
          80,
          81,
          82,
          83,
          84,
          85,
          86,
          87,
          88,
          89,
          90,
          91,
          92,
          93,
          94,
          95,
          96,
          97,
          98,
          99,
          100,
          101,
          102,
          103,
          104,
          105,
          106,
          107,
          108,
          109,
          110,
          111,
          112,
          113,
          114,
          115,
          116,
          117,
          118,
          119,
          120,
          121,
          122,
          123,
          124,
          125,
          126,
          127,
          128,
          129,
          130,
          131,
          132,
          133,
          134,
          135,
          136,
          137,
          138,
          139,
          140,
          141,
          142,
          143,
          144,
          145,
          146,
          147,
          148,
          149,
          150,
          151,
          152,
          153,
          154,
          155,
          156,
          157,
          158,
          159,
          160,
          161,
          162,
          163,
          164,
          165,
          166,
          167,
          168,
          169,
          170,
          171,
          172,
          173,
          174,
          175,
          176,
          177,
          178,
          179,
          180,
          181,
          182,
          183,
          184,
          185,
          186,
          187,
          188,
          189,
          190,
          191,
          192,
          193,
          194,
          195,
          196,
          197,
          198,
          199,
          200
         ],
         "xaxis": "x",
         "y": [
          0,
          0,
          0,
          0,
          0,
          50,
          50,
          50,
          50,
          50,
          100,
          100,
          100,
          100,
          100,
          150,
          150,
          150,
          150,
          150,
          200,
          200,
          200,
          200,
          200,
          250,
          250,
          250,
          250,
          250,
          300,
          300,
          300,
          300,
          300,
          350,
          350,
          350,
          350,
          350,
          400,
          400,
          400,
          400,
          400,
          450,
          450,
          450,
          450,
          450,
          500,
          500,
          500,
          500,
          500,
          550,
          550,
          550,
          550,
          550,
          600,
          600,
          600,
          600,
          600,
          650,
          650,
          650,
          650,
          650,
          700,
          700,
          700,
          700,
          700,
          750,
          750,
          750,
          750,
          750,
          800,
          800,
          800,
          800,
          800,
          850,
          850,
          850,
          850,
          850,
          900,
          900,
          900,
          900,
          900,
          950,
          950,
          950,
          950,
          950,
          1000,
          1000,
          1000,
          1000,
          1000,
          1050,
          1050,
          1050,
          1050,
          1050,
          1100,
          1100,
          1100,
          1100,
          1100,
          1150,
          1150,
          1150,
          1150,
          1150,
          1200,
          1200,
          1200,
          1200,
          1200,
          1250,
          1250,
          1250,
          1250,
          1250,
          1300,
          1300,
          1300,
          1300,
          1300,
          1350,
          1350,
          1350,
          1350,
          1350,
          1400,
          1400,
          1400,
          1400,
          1400,
          1450,
          1450,
          1450,
          1450,
          1450,
          1500,
          1500,
          1500,
          1500,
          1500,
          1550,
          1550,
          1550,
          1550,
          1550,
          1600,
          1600,
          1600,
          1600,
          1600,
          1650,
          1650,
          1650,
          1650,
          1650,
          1700,
          1700,
          1700,
          1700,
          1700,
          1750,
          1750,
          1750,
          1750,
          1750,
          1800,
          1800,
          1800,
          1800,
          1800,
          1850,
          1850,
          1850,
          1850,
          1850,
          1900,
          1900,
          1900,
          1900,
          1900,
          1950,
          1950,
          1950,
          1950,
          1950,
          1999
         ],
         "yaxis": "y"
        },
        {
         "hovertemplate": "task=on_condition_repair<br>time=%{x}<br>cost_cumulative=%{y}<extra></extra>",
         "legendgroup": "on_condition_repair",
         "line": {
          "color": "#EF553B"
         },
         "mode": "lines",
         "name": "on_condition_repair",
         "orientation": "v",
         "showlegend": true,
         "stackgroup": "1",
         "type": "scatter",
         "x": [
          0,
          1,
          2,
          3,
          4,
          5,
          6,
          7,
          8,
          9,
          10,
          11,
          12,
          13,
          14,
          15,
          16,
          17,
          18,
          19,
          20,
          21,
          22,
          23,
          24,
          25,
          26,
          27,
          28,
          29,
          30,
          31,
          32,
          33,
          34,
          35,
          36,
          37,
          38,
          39,
          40,
          41,
          42,
          43,
          44,
          45,
          46,
          47,
          48,
          49,
          50,
          51,
          52,
          53,
          54,
          55,
          56,
          57,
          58,
          59,
          60,
          61,
          62,
          63,
          64,
          65,
          66,
          67,
          68,
          69,
          70,
          71,
          72,
          73,
          74,
          75,
          76,
          77,
          78,
          79,
          80,
          81,
          82,
          83,
          84,
          85,
          86,
          87,
          88,
          89,
          90,
          91,
          92,
          93,
          94,
          95,
          96,
          97,
          98,
          99,
          100,
          101,
          102,
          103,
          104,
          105,
          106,
          107,
          108,
          109,
          110,
          111,
          112,
          113,
          114,
          115,
          116,
          117,
          118,
          119,
          120,
          121,
          122,
          123,
          124,
          125,
          126,
          127,
          128,
          129,
          130,
          131,
          132,
          133,
          134,
          135,
          136,
          137,
          138,
          139,
          140,
          141,
          142,
          143,
          144,
          145,
          146,
          147,
          148,
          149,
          150,
          151,
          152,
          153,
          154,
          155,
          156,
          157,
          158,
          159,
          160,
          161,
          162,
          163,
          164,
          165,
          166,
          167,
          168,
          169,
          170,
          171,
          172,
          173,
          174,
          175,
          176,
          177,
          178,
          179,
          180,
          181,
          182,
          183,
          184,
          185,
          186,
          187,
          188,
          189,
          190,
          191,
          192,
          193,
          194,
          195,
          196,
          197,
          198,
          199,
          200
         ],
         "xaxis": "x",
         "y": [
          0,
          0,
          0,
          0,
          0,
          1,
          2,
          3,
          3,
          4,
          5,
          5,
          6,
          6,
          6,
          7,
          8,
          8,
          8,
          9,
          9,
          11,
          11,
          11,
          11,
          11,
          12,
          12,
          12,
          12,
          13,
          14,
          15,
          15,
          16,
          16,
          18,
          18,
          18,
          18,
          18,
          19,
          19,
          20,
          20,
          20,
          23,
          23,
          23,
          23,
          23,
          25,
          25,
          25,
          25,
          25,
          28,
          28,
          28,
          29,
          29,
          30,
          30,
          31,
          31,
          31,
          33,
          33,
          33,
          33,
          33,
          36,
          36,
          36,
          36,
          36,
          38,
          38,
          38,
          38,
          38,
          41,
          41,
          41,
          41,
          41,
          44,
          44,
          44,
          44,
          44,
          47,
          47,
          47,
          47,
          47,
          49,
          49,
          49,
          49,
          49,
          52,
          52,
          52,
          52,
          52,
          55,
          55,
          55,
          55,
          55,
          57,
          57,
          57,
          57,
          57,
          60,
          60,
          60,
          60,
          60,
          63,
          63,
          63,
          63,
          63,
          66,
          66,
          66,
          66,
          66,
          68,
          68,
          68,
          68,
          68,
          71,
          71,
          71,
          71,
          71,
          74,
          74,
          74,
          74,
          74,
          77,
          77,
          77,
          77,
          77,
          81,
          81,
          81,
          81,
          81,
          85,
          85,
          85,
          85,
          85,
          88,
          88,
          88,
          88,
          88,
          91,
          91,
          91,
          91,
          91,
          94,
          94,
          94,
          94,
          94,
          97,
          97,
          97,
          97,
          97,
          100,
          100,
          100,
          100,
          100,
          103,
          103,
          103,
          103,
          103,
          106,
          106,
          106,
          106,
          106,
          109,
          109,
          109,
          109,
          109
         ],
         "yaxis": "y"
        },
        {
         "hovertemplate": "task=cm<br>time=%{x}<br>cost_cumulative=%{y}<extra></extra>",
         "legendgroup": "cm",
         "line": {
          "color": "#00cc96"
         },
         "mode": "lines",
         "name": "cm",
         "orientation": "v",
         "showlegend": true,
         "stackgroup": "1",
         "type": "scatter",
         "x": [
          0,
          1,
          2,
          3,
          4,
          5,
          6,
          7,
          8,
          9,
          10,
          11,
          12,
          13,
          14,
          15,
          16,
          17,
          18,
          19,
          20,
          21,
          22,
          23,
          24,
          25,
          26,
          27,
          28,
          29,
          30,
          31,
          32,
          33,
          34,
          35,
          36,
          37,
          38,
          39,
          40,
          41,
          42,
          43,
          44,
          45,
          46,
          47,
          48,
          49,
          50,
          51,
          52,
          53,
          54,
          55,
          56,
          57,
          58,
          59,
          60,
          61,
          62,
          63,
          64,
          65,
          66,
          67,
          68,
          69,
          70,
          71,
          72,
          73,
          74,
          75,
          76,
          77,
          78,
          79,
          80,
          81,
          82,
          83,
          84,
          85,
          86,
          87,
          88,
          89,
          90,
          91,
          92,
          93,
          94,
          95,
          96,
          97,
          98,
          99,
          100,
          101,
          102,
          103,
          104,
          105,
          106,
          107,
          108,
          109,
          110,
          111,
          112,
          113,
          114,
          115,
          116,
          117,
          118,
          119,
          120,
          121,
          122,
          123,
          124,
          125,
          126,
          127,
          128,
          129,
          130,
          131,
          132,
          133,
          134,
          135,
          136,
          137,
          138,
          139,
          140,
          141,
          142,
          143,
          144,
          145,
          146,
          147,
          148,
          149,
          150,
          151,
          152,
          153,
          154,
          155,
          156,
          157,
          158,
          159,
          160,
          161,
          162,
          163,
          164,
          165,
          166,
          167,
          168,
          169,
          170,
          171,
          172,
          173,
          174,
          175,
          176,
          177,
          178,
          179,
          180,
          181,
          182,
          183,
          184,
          185,
          186,
          187,
          188,
          189,
          190,
          191,
          192,
          193,
          194,
          195,
          196,
          197,
          198,
          199,
          200
         ],
         "xaxis": "x",
         "y": [
          0,
          0,
          0,
          0,
          0,
          0,
          0,
          0,
          0,
          0,
          0,
          0,
          0,
          0,
          0,
          0,
          0,
          0,
          0,
          0,
          0,
          0,
          0,
          0,
          0,
          0,
          0,
          0,
          0,
          0,
          0,
          0,
          0,
          0,
          0,
          0,
          0,
          0,
          0,
          0,
          0,
          0,
          0,
          0,
          0,
          0,
          0,
          0,
          0,
          0,
          0,
          0,
          0,
          0,
          0,
          0,
          0,
          0,
          0,
          0,
          0,
          0,
          0,
          0,
          0,
          0,
          0,
          0,
          0,
          0,
          0,
          0,
          0,
          0,
          0,
          0,
          0,
          0,
          0,
          0,
          0,
          0,
          0,
          0,
          0,
          0,
          0,
          0,
          0,
          0,
          0,
          0,
          0,
          0,
          0,
          0,
          0,
          0,
          0,
          10,
          10,
          10,
          10,
          10,
          15,
          25,
          25,
          25,
          25,
          30,
          30,
          30,
          30,
          30,
          35,
          40,
          40,
          40,
          40,
          40,
          40,
          40,
          40,
          40,
          40,
          45,
          45,
          45,
          45,
          50,
          55,
          55,
          55,
          55,
          55,
          55,
          55,
          55,
          60,
          60,
          60,
          60,
          60,
          65,
          65,
          70,
          70,
          70,
          80,
          80,
          80,
          80,
          80,
          80,
          80,
          80,
          80,
          85,
          90,
          95,
          105,
          105,
          110,
          110,
          115,
          115,
          115,
          115,
          115,
          115,
          115,
          115,
          115,
          115,
          125,
          130,
          130,
          140,
          145,
          160,
          165,
          165,
          165,
          170,
          175,
          175,
          175,
          180,
          190,
          190,
          200,
          205,
          205,
          215,
          215,
          225,
          225,
          230,
          240,
          240,
          245
         ],
         "yaxis": "y"
        },
        {
         "hovertemplate": "task=risk<br>time=%{x}<br>cost_cumulative=%{y}<extra></extra>",
         "legendgroup": "risk",
         "line": {
          "color": "#ab63fa"
         },
         "mode": "lines",
         "name": "risk",
         "orientation": "v",
         "showlegend": true,
         "stackgroup": "1",
         "type": "scatter",
         "x": [
          0,
          1,
          2,
          3,
          4,
          5,
          6,
          7,
          8,
          9,
          10,
          11,
          12,
          13,
          14,
          15,
          16,
          17,
          18,
          19,
          20,
          21,
          22,
          23,
          24,
          25,
          26,
          27,
          28,
          29,
          30,
          31,
          32,
          33,
          34,
          35,
          36,
          37,
          38,
          39,
          40,
          41,
          42,
          43,
          44,
          45,
          46,
          47,
          48,
          49,
          50,
          51,
          52,
          53,
          54,
          55,
          56,
          57,
          58,
          59,
          60,
          61,
          62,
          63,
          64,
          65,
          66,
          67,
          68,
          69,
          70,
          71,
          72,
          73,
          74,
          75,
          76,
          77,
          78,
          79,
          80,
          81,
          82,
          83,
          84,
          85,
          86,
          87,
          88,
          89,
          90,
          91,
          92,
          93,
          94,
          95,
          96,
          97,
          98,
          99,
          100,
          101,
          102,
          103,
          104,
          105,
          106,
          107,
          108,
          109,
          110,
          111,
          112,
          113,
          114,
          115,
          116,
          117,
          118,
          119,
          120,
          121,
          122,
          123,
          124,
          125,
          126,
          127,
          128,
          129,
          130,
          131,
          132,
          133,
          134,
          135,
          136,
          137,
          138,
          139,
          140,
          141,
          142,
          143,
          144,
          145,
          146,
          147,
          148,
          149,
          150,
          151,
          152,
          153,
          154,
          155,
          156,
          157,
          158,
          159,
          160,
          161,
          162,
          163,
          164,
          165,
          166,
          167,
          168,
          169,
          170,
          171,
          172,
          173,
          174,
          175,
          176,
          177,
          178,
          179,
          180,
          181,
          182,
          183,
          184,
          185,
          186,
          187,
          188,
          189,
          190,
          191,
          192,
          193,
          194,
          195,
          196,
          197,
          198,
          199,
          200
         ],
         "xaxis": "x",
         "y": [
          0,
          0,
          0,
          0,
          0,
          0,
          0,
          0,
          0,
          0,
          0,
          0,
          0,
          0,
          0,
          0,
          0,
          0,
          0,
          0,
          0,
          0,
          0,
          0,
          0,
          0,
          0,
          0,
          0,
          0,
          0,
          0,
          0,
          0,
          0,
          0,
          0,
          0,
          0,
          0,
          0,
          0,
          0,
          0,
          0,
          0,
          0,
          0,
          0,
          0,
          0,
          0,
          0,
          0,
          0,
          0,
          0,
          0,
          0,
          0,
          0,
          0,
          0,
          0,
          0,
          0,
          0,
          0,
          0,
          0,
          0,
          0,
          0,
          0,
          0,
          0,
          0,
          0,
          0,
          0,
          0,
          0,
          0,
          0,
          0,
          0,
          0,
          0,
          0,
          0,
          0,
          0,
          0,
          0,
          0,
          0,
          0,
          0,
          0,
          100,
          100,
          100,
          100,
          100,
          150,
          250,
          250,
          250,
          250,
          300,
          300,
          300,
          300,
          300,
          350,
          400,
          400,
          400,
          400,
          400,
          400,
          400,
          400,
          400,
          400,
          450,
          450,
          450,
          450,
          500,
          550,
          550,
          550,
          550,
          550,
          550,
          550,
          550,
          600,
          600,
          600,
          600,
          600,
          650,
          650,
          700,
          700,
          700,
          800,
          800,
          800,
          800,
          800,
          800,
          800,
          800,
          800,
          850,
          900,
          950,
          1050,
          1050,
          1100,
          1100,
          1150,
          1150,
          1150,
          1150,
          1150,
          1150,
          1150,
          1150,
          1150,
          1150,
          1250,
          1300,
          1300,
          1400,
          1450,
          1600,
          1650,
          1650,
          1650,
          1700,
          1750,
          1750,
          1750,
          1800,
          1900,
          1900,
          2000,
          2050,
          2050,
          2150,
          2150,
          2250,
          2250,
          2300,
          2400,
          2400,
          2450
         ],
         "yaxis": "y"
        }
       ],
       "layout": {
        "legend": {
         "title": {
          "text": "task"
         },
         "tracegroupgap": 0
        },
        "template": {
         "data": {
          "bar": [
           {
            "error_x": {
             "color": "#2a3f5f"
            },
            "error_y": {
             "color": "#2a3f5f"
            },
            "marker": {
             "line": {
              "color": "#E5ECF6",
              "width": 0.5
             }
            },
            "type": "bar"
           }
          ],
          "barpolar": [
           {
            "marker": {
             "line": {
              "color": "#E5ECF6",
              "width": 0.5
             }
            },
            "type": "barpolar"
           }
          ],
          "carpet": [
           {
            "aaxis": {
             "endlinecolor": "#2a3f5f",
             "gridcolor": "white",
             "linecolor": "white",
             "minorgridcolor": "white",
             "startlinecolor": "#2a3f5f"
            },
            "baxis": {
             "endlinecolor": "#2a3f5f",
             "gridcolor": "white",
             "linecolor": "white",
             "minorgridcolor": "white",
             "startlinecolor": "#2a3f5f"
            },
            "type": "carpet"
           }
          ],
          "choropleth": [
           {
            "colorbar": {
             "outlinewidth": 0,
             "ticks": ""
            },
            "type": "choropleth"
           }
          ],
          "contour": [
           {
            "colorbar": {
             "outlinewidth": 0,
             "ticks": ""
            },
            "colorscale": [
             [
              0,
              "#0d0887"
             ],
             [
              0.1111111111111111,
              "#46039f"
             ],
             [
              0.2222222222222222,
              "#7201a8"
             ],
             [
              0.3333333333333333,
              "#9c179e"
             ],
             [
              0.4444444444444444,
              "#bd3786"
             ],
             [
              0.5555555555555556,
              "#d8576b"
             ],
             [
              0.6666666666666666,
              "#ed7953"
             ],
             [
              0.7777777777777778,
              "#fb9f3a"
             ],
             [
              0.8888888888888888,
              "#fdca26"
             ],
             [
              1,
              "#f0f921"
             ]
            ],
            "type": "contour"
           }
          ],
          "contourcarpet": [
           {
            "colorbar": {
             "outlinewidth": 0,
             "ticks": ""
            },
            "type": "contourcarpet"
           }
          ],
          "heatmap": [
           {
            "colorbar": {
             "outlinewidth": 0,
             "ticks": ""
            },
            "colorscale": [
             [
              0,
              "#0d0887"
             ],
             [
              0.1111111111111111,
              "#46039f"
             ],
             [
              0.2222222222222222,
              "#7201a8"
             ],
             [
              0.3333333333333333,
              "#9c179e"
             ],
             [
              0.4444444444444444,
              "#bd3786"
             ],
             [
              0.5555555555555556,
              "#d8576b"
             ],
             [
              0.6666666666666666,
              "#ed7953"
             ],
             [
              0.7777777777777778,
              "#fb9f3a"
             ],
             [
              0.8888888888888888,
              "#fdca26"
             ],
             [
              1,
              "#f0f921"
             ]
            ],
            "type": "heatmap"
           }
          ],
          "heatmapgl": [
           {
            "colorbar": {
             "outlinewidth": 0,
             "ticks": ""
            },
            "colorscale": [
             [
              0,
              "#0d0887"
             ],
             [
              0.1111111111111111,
              "#46039f"
             ],
             [
              0.2222222222222222,
              "#7201a8"
             ],
             [
              0.3333333333333333,
              "#9c179e"
             ],
             [
              0.4444444444444444,
              "#bd3786"
             ],
             [
              0.5555555555555556,
              "#d8576b"
             ],
             [
              0.6666666666666666,
              "#ed7953"
             ],
             [
              0.7777777777777778,
              "#fb9f3a"
             ],
             [
              0.8888888888888888,
              "#fdca26"
             ],
             [
              1,
              "#f0f921"
             ]
            ],
            "type": "heatmapgl"
           }
          ],
          "histogram": [
           {
            "marker": {
             "colorbar": {
              "outlinewidth": 0,
              "ticks": ""
             }
            },
            "type": "histogram"
           }
          ],
          "histogram2d": [
           {
            "colorbar": {
             "outlinewidth": 0,
             "ticks": ""
            },
            "colorscale": [
             [
              0,
              "#0d0887"
             ],
             [
              0.1111111111111111,
              "#46039f"
             ],
             [
              0.2222222222222222,
              "#7201a8"
             ],
             [
              0.3333333333333333,
              "#9c179e"
             ],
             [
              0.4444444444444444,
              "#bd3786"
             ],
             [
              0.5555555555555556,
              "#d8576b"
             ],
             [
              0.6666666666666666,
              "#ed7953"
             ],
             [
              0.7777777777777778,
              "#fb9f3a"
             ],
             [
              0.8888888888888888,
              "#fdca26"
             ],
             [
              1,
              "#f0f921"
             ]
            ],
            "type": "histogram2d"
           }
          ],
          "histogram2dcontour": [
           {
            "colorbar": {
             "outlinewidth": 0,
             "ticks": ""
            },
            "colorscale": [
             [
              0,
              "#0d0887"
             ],
             [
              0.1111111111111111,
              "#46039f"
             ],
             [
              0.2222222222222222,
              "#7201a8"
             ],
             [
              0.3333333333333333,
              "#9c179e"
             ],
             [
              0.4444444444444444,
              "#bd3786"
             ],
             [
              0.5555555555555556,
              "#d8576b"
             ],
             [
              0.6666666666666666,
              "#ed7953"
             ],
             [
              0.7777777777777778,
              "#fb9f3a"
             ],
             [
              0.8888888888888888,
              "#fdca26"
             ],
             [
              1,
              "#f0f921"
             ]
            ],
            "type": "histogram2dcontour"
           }
          ],
          "mesh3d": [
           {
            "colorbar": {
             "outlinewidth": 0,
             "ticks": ""
            },
            "type": "mesh3d"
           }
          ],
          "parcoords": [
           {
            "line": {
             "colorbar": {
              "outlinewidth": 0,
              "ticks": ""
             }
            },
            "type": "parcoords"
           }
          ],
          "pie": [
           {
            "automargin": true,
            "type": "pie"
           }
          ],
          "scatter": [
           {
            "marker": {
             "colorbar": {
              "outlinewidth": 0,
              "ticks": ""
             }
            },
            "type": "scatter"
           }
          ],
          "scatter3d": [
           {
            "line": {
             "colorbar": {
              "outlinewidth": 0,
              "ticks": ""
             }
            },
            "marker": {
             "colorbar": {
              "outlinewidth": 0,
              "ticks": ""
             }
            },
            "type": "scatter3d"
           }
          ],
          "scattercarpet": [
           {
            "marker": {
             "colorbar": {
              "outlinewidth": 0,
              "ticks": ""
             }
            },
            "type": "scattercarpet"
           }
          ],
          "scattergeo": [
           {
            "marker": {
             "colorbar": {
              "outlinewidth": 0,
              "ticks": ""
             }
            },
            "type": "scattergeo"
           }
          ],
          "scattergl": [
           {
            "marker": {
             "colorbar": {
              "outlinewidth": 0,
              "ticks": ""
             }
            },
            "type": "scattergl"
           }
          ],
          "scattermapbox": [
           {
            "marker": {
             "colorbar": {
              "outlinewidth": 0,
              "ticks": ""
             }
            },
            "type": "scattermapbox"
           }
          ],
          "scatterpolar": [
           {
            "marker": {
             "colorbar": {
              "outlinewidth": 0,
              "ticks": ""
             }
            },
            "type": "scatterpolar"
           }
          ],
          "scatterpolargl": [
           {
            "marker": {
             "colorbar": {
              "outlinewidth": 0,
              "ticks": ""
             }
            },
            "type": "scatterpolargl"
           }
          ],
          "scatterternary": [
           {
            "marker": {
             "colorbar": {
              "outlinewidth": 0,
              "ticks": ""
             }
            },
            "type": "scatterternary"
           }
          ],
          "surface": [
           {
            "colorbar": {
             "outlinewidth": 0,
             "ticks": ""
            },
            "colorscale": [
             [
              0,
              "#0d0887"
             ],
             [
              0.1111111111111111,
              "#46039f"
             ],
             [
              0.2222222222222222,
              "#7201a8"
             ],
             [
              0.3333333333333333,
              "#9c179e"
             ],
             [
              0.4444444444444444,
              "#bd3786"
             ],
             [
              0.5555555555555556,
              "#d8576b"
             ],
             [
              0.6666666666666666,
              "#ed7953"
             ],
             [
              0.7777777777777778,
              "#fb9f3a"
             ],
             [
              0.8888888888888888,
              "#fdca26"
             ],
             [
              1,
              "#f0f921"
             ]
            ],
            "type": "surface"
           }
          ],
          "table": [
           {
            "cells": {
             "fill": {
              "color": "#EBF0F8"
             },
             "line": {
              "color": "white"
             }
            },
            "header": {
             "fill": {
              "color": "#C8D4E3"
             },
             "line": {
              "color": "white"
             }
            },
            "type": "table"
           }
          ]
         },
         "layout": {
          "annotationdefaults": {
           "arrowcolor": "#2a3f5f",
           "arrowhead": 0,
           "arrowwidth": 1
          },
          "coloraxis": {
           "colorbar": {
            "outlinewidth": 0,
            "ticks": ""
           }
          },
          "colorscale": {
           "diverging": [
            [
             0,
             "#8e0152"
            ],
            [
             0.1,
             "#c51b7d"
            ],
            [
             0.2,
             "#de77ae"
            ],
            [
             0.3,
             "#f1b6da"
            ],
            [
             0.4,
             "#fde0ef"
            ],
            [
             0.5,
             "#f7f7f7"
            ],
            [
             0.6,
             "#e6f5d0"
            ],
            [
             0.7,
             "#b8e186"
            ],
            [
             0.8,
             "#7fbc41"
            ],
            [
             0.9,
             "#4d9221"
            ],
            [
             1,
             "#276419"
            ]
           ],
           "sequential": [
            [
             0,
             "#0d0887"
            ],
            [
             0.1111111111111111,
             "#46039f"
            ],
            [
             0.2222222222222222,
             "#7201a8"
            ],
            [
             0.3333333333333333,
             "#9c179e"
            ],
            [
             0.4444444444444444,
             "#bd3786"
            ],
            [
             0.5555555555555556,
             "#d8576b"
            ],
            [
             0.6666666666666666,
             "#ed7953"
            ],
            [
             0.7777777777777778,
             "#fb9f3a"
            ],
            [
             0.8888888888888888,
             "#fdca26"
            ],
            [
             1,
             "#f0f921"
            ]
           ],
           "sequentialminus": [
            [
             0,
             "#0d0887"
            ],
            [
             0.1111111111111111,
             "#46039f"
            ],
            [
             0.2222222222222222,
             "#7201a8"
            ],
            [
             0.3333333333333333,
             "#9c179e"
            ],
            [
             0.4444444444444444,
             "#bd3786"
            ],
            [
             0.5555555555555556,
             "#d8576b"
            ],
            [
             0.6666666666666666,
             "#ed7953"
            ],
            [
             0.7777777777777778,
             "#fb9f3a"
            ],
            [
             0.8888888888888888,
             "#fdca26"
            ],
            [
             1,
             "#f0f921"
            ]
           ]
          },
          "colorway": [
           "#636efa",
           "#EF553B",
           "#00cc96",
           "#ab63fa",
           "#FFA15A",
           "#19d3f3",
           "#FF6692",
           "#B6E880",
           "#FF97FF",
           "#FECB52"
          ],
          "font": {
           "color": "#2a3f5f"
          },
          "geo": {
           "bgcolor": "white",
           "lakecolor": "white",
           "landcolor": "#E5ECF6",
           "showlakes": true,
           "showland": true,
           "subunitcolor": "white"
          },
          "hoverlabel": {
           "align": "left"
          },
          "hovermode": "closest",
          "mapbox": {
           "style": "light"
          },
          "paper_bgcolor": "white",
          "plot_bgcolor": "#E5ECF6",
          "polar": {
           "angularaxis": {
            "gridcolor": "white",
            "linecolor": "white",
            "ticks": ""
           },
           "bgcolor": "#E5ECF6",
           "radialaxis": {
            "gridcolor": "white",
            "linecolor": "white",
            "ticks": ""
           }
          },
          "scene": {
           "xaxis": {
            "backgroundcolor": "#E5ECF6",
            "gridcolor": "white",
            "gridwidth": 2,
            "linecolor": "white",
            "showbackground": true,
            "ticks": "",
            "zerolinecolor": "white"
           },
           "yaxis": {
            "backgroundcolor": "#E5ECF6",
            "gridcolor": "white",
            "gridwidth": 2,
            "linecolor": "white",
            "showbackground": true,
            "ticks": "",
            "zerolinecolor": "white"
           },
           "zaxis": {
            "backgroundcolor": "#E5ECF6",
            "gridcolor": "white",
            "gridwidth": 2,
            "linecolor": "white",
            "showbackground": true,
            "ticks": "",
            "zerolinecolor": "white"
           }
          },
          "shapedefaults": {
           "line": {
            "color": "#2a3f5f"
           }
          },
          "ternary": {
           "aaxis": {
            "gridcolor": "white",
            "linecolor": "white",
            "ticks": ""
           },
           "baxis": {
            "gridcolor": "white",
            "linecolor": "white",
            "ticks": ""
           },
           "bgcolor": "#E5ECF6",
           "caxis": {
            "gridcolor": "white",
            "linecolor": "white",
            "ticks": ""
           }
          },
          "title": {
           "x": 0.05
          },
          "xaxis": {
           "automargin": true,
           "gridcolor": "white",
           "linecolor": "white",
           "ticks": "",
           "title": {
            "standoff": 15
           },
           "zerolinecolor": "white",
           "zerolinewidth": 2
          },
          "yaxis": {
           "automargin": true,
           "gridcolor": "white",
           "linecolor": "white",
           "ticks": "",
           "title": {
            "standoff": 15
           },
           "zerolinecolor": "white",
           "zerolinewidth": 2
          }
         }
        },
        "title": {
         "text": "Maintenance Strategy Costs"
        },
        "xaxis": {
         "anchor": "y",
         "domain": [
          0,
          1
         ],
         "title": {
          "text": "time"
         }
        },
        "yaxis": {
         "anchor": "x",
         "domain": [
          0,
          1
         ],
         "title": {
          "text": "cost_cumulative"
         }
        }
       }
      }
     },
     "metadata": {}
    }
   ],
   "source": [
    "fig = px.area(df, x=\"time\", y=\"cost_cumulative\", color=\"task\", title='Maintenance Strategy Costs')\n",
    "fig.show()"
   ]
  },
  {
   "cell_type": "code",
   "execution_count": 10,
   "metadata": {
    "tags": []
   },
   "outputs": [
    {
     "output_type": "stream",
     "name": "stdout",
     "text": "Results from Fit_Weibull_3P (95% CI):\n           Point Estimate  Standard Error    Lower CI     Upper CI\nParameter                                                         \nAlpha          626.637392      163.144314  376.189766  1043.820052\nBeta             1.729187        0.245756    1.308781     2.284634\nGamma           89.005202       16.895326   61.353153   129.120113\nLog-Likelihood: -420.47582130093673\n"
    },
    {
     "output_type": "display_data",
     "data": {
      "text/plain": "<Figure size 648x504 with 1 Axes>",
      "image/svg+xml": "<?xml version=\"1.0\" encoding=\"utf-8\" standalone=\"no\"?>\r\n<!DOCTYPE svg PUBLIC \"-//W3C//DTD SVG 1.1//EN\"\r\n  \"http://www.w3.org/Graphics/SVG/1.1/DTD/svg11.dtd\">\r\n<!-- Created with matplotlib (https://matplotlib.org/) -->\r\n<svg height=\"428.63175pt\" version=\"1.1\" viewBox=\"0 0 584.207812 428.63175\" width=\"584.207812pt\" xmlns=\"http://www.w3.org/2000/svg\" xmlns:xlink=\"http://www.w3.org/1999/xlink\">\r\n <metadata>\r\n  <rdf:RDF xmlns:cc=\"http://creativecommons.org/ns#\" xmlns:dc=\"http://purl.org/dc/elements/1.1/\" xmlns:rdf=\"http://www.w3.org/1999/02/22-rdf-syntax-ns#\">\r\n   <cc:Work>\r\n    <dc:type rdf:resource=\"http://purl.org/dc/dcmitype/StillImage\"/>\r\n    <dc:date>2020-09-01T08:15:03.398574</dc:date>\r\n    <dc:format>image/svg+xml</dc:format>\r\n    <dc:creator>\r\n     <cc:Agent>\r\n      <dc:title>Matplotlib v3.3.0, https://matplotlib.org/</dc:title>\r\n     </cc:Agent>\r\n    </dc:creator>\r\n   </cc:Work>\r\n  </rdf:RDF>\r\n </metadata>\r\n <defs>\r\n  <style type=\"text/css\">*{stroke-linecap:butt;stroke-linejoin:round;}</style>\r\n </defs>\r\n <g id=\"figure_1\">\r\n  <g id=\"patch_1\">\r\n   <path d=\"M 0 428.63175 \r\nL 584.207812 428.63175 \r\nL 584.207812 0 \r\nL 0 0 \r\nz\r\n\" style=\"fill:none;\"/>\r\n  </g>\r\n  <g id=\"axes_1\">\r\n   <g id=\"patch_2\">\r\n    <path d=\"M 66.007812 391.0755 \r\nL 568.207813 391.0755 \r\nL 568.207813 35.7555 \r\nL 66.007812 35.7555 \r\nz\r\n\" style=\"fill:#ffffff;\"/>\r\n   </g>\r\n   <g id=\"PathCollection_1\">\r\n    <defs>\r\n     <path d=\"M 0 1.5 \r\nC 0.397805 1.5 0.77937 1.341951 1.06066 1.06066 \r\nC 1.341951 0.77937 1.5 0.397805 1.5 0 \r\nC 1.5 -0.397805 1.341951 -0.77937 1.06066 -1.06066 \r\nC 0.77937 -1.341951 0.397805 -1.5 0 -1.5 \r\nC -0.397805 -1.5 -0.77937 -1.341951 -1.06066 -1.06066 \r\nC -1.341951 -0.77937 -1.5 -0.397805 -1.5 0 \r\nC -1.5 0.397805 -1.341951 0.77937 -1.06066 1.06066 \r\nC -0.77937 1.341951 -0.397805 1.5 0 1.5 \r\nz\r\n\" id=\"m37b5dbe180\" style=\"stroke:#000000;stroke-width:2;\"/>\r\n    </defs>\r\n    <g clip-path=\"url(#p470094317b)\">\r\n     <use style=\"stroke:#000000;stroke-width:2;\" x=\"233.369981\" xlink:href=\"#m37b5dbe180\" y=\"330.590115\"/>\r\n     <use style=\"stroke:#000000;stroke-width:2;\" x=\"233.369981\" xlink:href=\"#m37b5dbe180\" y=\"302.992801\"/>\r\n     <use style=\"stroke:#000000;stroke-width:2;\" x=\"262.86027\" xlink:href=\"#m37b5dbe180\" y=\"288.596614\"/>\r\n     <use style=\"stroke:#000000;stroke-width:2;\" x=\"267.553855\" xlink:href=\"#m37b5dbe180\" y=\"278.786762\"/>\r\n     <use style=\"stroke:#000000;stroke-width:2;\" x=\"267.553855\" xlink:href=\"#m37b5dbe180\" y=\"271.334731\"/>\r\n     <use style=\"stroke:#000000;stroke-width:2;\" x=\"283.78132\" xlink:href=\"#m37b5dbe180\" y=\"265.322729\"/>\r\n     <use style=\"stroke:#000000;stroke-width:2;\" x=\"300.00784\" xlink:href=\"#m37b5dbe180\" y=\"260.282502\"/>\r\n     <use style=\"stroke:#000000;stroke-width:2;\" x=\"302.859803\" xlink:href=\"#m37b5dbe180\" y=\"255.942559\"/>\r\n     <use style=\"stroke:#000000;stroke-width:2;\" x=\"326.522344\" xlink:href=\"#m37b5dbe180\" y=\"252.131361\"/>\r\n     <use style=\"stroke:#000000;stroke-width:2;\" x=\"334.183199\" xlink:href=\"#m37b5dbe180\" y=\"248.733575\"/>\r\n     <use style=\"stroke:#000000;stroke-width:2;\" x=\"335.978605\" xlink:href=\"#m37b5dbe180\" y=\"245.667918\"/>\r\n     <use style=\"stroke:#000000;stroke-width:2;\" x=\"348.938917\" xlink:href=\"#m37b5dbe180\" y=\"242.874949\"/>\r\n     <use style=\"stroke:#000000;stroke-width:2;\" x=\"356.003523\" xlink:href=\"#m37b5dbe180\" y=\"240.30988\"/>\r\n     <use style=\"stroke:#000000;stroke-width:2;\" x=\"358.647734\" xlink:href=\"#m37b5dbe180\" y=\"237.938124\"/>\r\n     <use style=\"stroke:#000000;stroke-width:2;\" x=\"362.442028\" xlink:href=\"#m37b5dbe180\" y=\"235.732416\"/>\r\n     <use style=\"stroke:#000000;stroke-width:2;\" x=\"362.442028\" xlink:href=\"#m37b5dbe180\" y=\"233.670881\"/>\r\n     <use style=\"stroke:#000000;stroke-width:2;\" x=\"372.764242\" xlink:href=\"#m37b5dbe180\" y=\"231.735699\"/>\r\n     <use style=\"stroke:#000000;stroke-width:2;\" x=\"373.825669\" xlink:href=\"#m37b5dbe180\" y=\"229.912163\"/>\r\n     <use style=\"stroke:#000000;stroke-width:2;\" x=\"374.871821\" xlink:href=\"#m37b5dbe180\" y=\"228.187994\"/>\r\n     <use style=\"stroke:#000000;stroke-width:2;\" x=\"375.903133\" xlink:href=\"#m37b5dbe180\" y=\"226.552832\"/>\r\n     <use style=\"stroke:#000000;stroke-width:2;\" x=\"375.903133\" xlink:href=\"#m37b5dbe180\" y=\"224.997857\"/>\r\n     <use style=\"stroke:#000000;stroke-width:2;\" x=\"377.922878\" xlink:href=\"#m37b5dbe180\" y=\"223.515498\"/>\r\n     <use style=\"stroke:#000000;stroke-width:2;\" x=\"379.888025\" xlink:href=\"#m37b5dbe180\" y=\"222.09921\"/>\r\n     <use style=\"stroke:#000000;stroke-width:2;\" x=\"388.988091\" xlink:href=\"#m37b5dbe180\" y=\"220.743292\"/>\r\n     <use style=\"stroke:#000000;stroke-width:2;\" x=\"388.988091\" xlink:href=\"#m37b5dbe180\" y=\"219.442751\"/>\r\n     <use style=\"stroke:#000000;stroke-width:2;\" x=\"389.838455\" xlink:href=\"#m37b5dbe180\" y=\"218.19319\"/>\r\n     <use style=\"stroke:#000000;stroke-width:2;\" x=\"391.509914\" xlink:href=\"#m37b5dbe180\" y=\"216.990714\"/>\r\n     <use style=\"stroke:#000000;stroke-width:2;\" x=\"391.509914\" xlink:href=\"#m37b5dbe180\" y=\"215.83186\"/>\r\n     <use style=\"stroke:#000000;stroke-width:2;\" x=\"392.33145\" xlink:href=\"#m37b5dbe180\" y=\"214.713531\"/>\r\n     <use style=\"stroke:#000000;stroke-width:2;\" x=\"393.143806\" xlink:href=\"#m37b5dbe180\" y=\"213.63295\"/>\r\n     <use style=\"stroke:#000000;stroke-width:2;\" x=\"393.143806\" xlink:href=\"#m37b5dbe180\" y=\"212.587615\"/>\r\n     <use style=\"stroke:#000000;stroke-width:2;\" x=\"393.143806\" xlink:href=\"#m37b5dbe180\" y=\"211.575266\"/>\r\n     <use style=\"stroke:#000000;stroke-width:2;\" x=\"393.947185\" xlink:href=\"#m37b5dbe180\" y=\"210.593853\"/>\r\n     <use style=\"stroke:#000000;stroke-width:2;\" x=\"396.305391\" xlink:href=\"#m37b5dbe180\" y=\"209.641509\"/>\r\n     <use style=\"stroke:#000000;stroke-width:2;\" x=\"397.074763\" xlink:href=\"#m37b5dbe180\" y=\"208.716535\"/>\r\n     <use style=\"stroke:#000000;stroke-width:2;\" x=\"399.335198\" xlink:href=\"#m37b5dbe180\" y=\"207.817375\"/>\r\n     <use style=\"stroke:#000000;stroke-width:2;\" x=\"400.073324\" xlink:href=\"#m37b5dbe180\" y=\"206.9426\"/>\r\n     <use style=\"stroke:#000000;stroke-width:2;\" x=\"400.073324\" xlink:href=\"#m37b5dbe180\" y=\"206.090898\"/>\r\n     <use style=\"stroke:#000000;stroke-width:2;\" x=\"401.527466\" xlink:href=\"#m37b5dbe180\" y=\"205.261062\"/>\r\n     <use style=\"stroke:#000000;stroke-width:2;\" x=\"401.527466\" xlink:href=\"#m37b5dbe180\" y=\"204.451974\"/>\r\n     <use style=\"stroke:#000000;stroke-width:2;\" x=\"402.243773\" xlink:href=\"#m37b5dbe180\" y=\"203.662601\"/>\r\n     <use style=\"stroke:#000000;stroke-width:2;\" x=\"403.655557\" xlink:href=\"#m37b5dbe180\" y=\"202.891985\"/>\r\n     <use style=\"stroke:#000000;stroke-width:2;\" x=\"403.655557\" xlink:href=\"#m37b5dbe180\" y=\"202.139236\"/>\r\n     <use style=\"stroke:#000000;stroke-width:2;\" x=\"405.040446\" xlink:href=\"#m37b5dbe180\" y=\"201.403528\"/>\r\n     <use style=\"stroke:#000000;stroke-width:2;\" x=\"405.040446\" xlink:href=\"#m37b5dbe180\" y=\"200.684087\"/>\r\n     <use style=\"stroke:#000000;stroke-width:2;\" x=\"406.399447\" xlink:href=\"#m37b5dbe180\" y=\"199.980193\"/>\r\n     <use style=\"stroke:#000000;stroke-width:2;\" x=\"407.069538\" xlink:href=\"#m37b5dbe180\" y=\"199.291172\"/>\r\n     <use style=\"stroke:#000000;stroke-width:2;\" x=\"407.069538\" xlink:href=\"#m37b5dbe180\" y=\"198.616394\"/>\r\n     <use style=\"stroke:#000000;stroke-width:2;\" x=\"408.391472\" xlink:href=\"#m37b5dbe180\" y=\"196.73131\"/>\r\n    </g>\r\n   </g>\r\n   <g id=\"PolyCollection_1\">\r\n    <path clip-path=\"url(#p470094317b)\" d=\"M 668.540221 14.209064 \r\nL 644.901209 14.209064 \r\nL 644.393312 14.574859 \r\nL 643.877751 14.94501 \r\nL 643.354327 15.319621 \r\nL 642.822834 15.698802 \r\nL 642.283062 16.082665 \r\nL 641.734789 16.471328 \r\nL 641.17779 16.864912 \r\nL 640.611828 17.263544 \r\nL 640.036659 17.667354 \r\nL 639.45203 18.076479 \r\nL 638.857678 18.49106 \r\nL 638.253332 18.911246 \r\nL 637.638707 19.337189 \r\nL 637.01351 19.76905 \r\nL 636.377435 20.206996 \r\nL 635.730164 20.6512 \r\nL 635.071366 21.101843 \r\nL 634.400698 21.559116 \r\nL 633.717799 22.023216 \r\nL 633.022295 22.49435 \r\nL 632.313797 22.972735 \r\nL 631.591895 23.458597 \r\nL 630.856165 23.952174 \r\nL 630.10616 24.453715 \r\nL 629.341414 24.963481 \r\nL 628.56144 25.481745 \r\nL 627.765724 26.008798 \r\nL 626.953729 26.54494 \r\nL 626.124892 27.090492 \r\nL 625.278619 27.64579 \r\nL 624.414286 28.211188 \r\nL 623.531235 28.78706 \r\nL 622.628774 29.373801 \r\nL 621.70617 29.97183 \r\nL 620.762649 30.58159 \r\nL 619.797393 31.203549 \r\nL 618.809535 31.838205 \r\nL 617.798155 32.486087 \r\nL 616.762276 33.147758 \r\nL 615.700857 33.823817 \r\nL 614.612793 34.514902 \r\nL 613.496902 35.221697 \r\nL 612.351923 35.94493 \r\nL 611.176505 36.685384 \r\nL 609.969202 37.443895 \r\nL 608.728461 38.221366 \r\nL 607.452611 39.018764 \r\nL 606.139854 39.837134 \r\nL 604.788246 40.677605 \r\nL 603.395686 41.541397 \r\nL 601.959899 42.429833 \r\nL 600.478411 43.344351 \r\nL 598.948533 44.286516 \r\nL 597.367328 45.258034 \r\nL 595.731589 46.260774 \r\nL 594.037796 47.296781 \r\nL 592.282084 48.368305 \r\nL 590.460194 49.477824 \r\nL 588.567421 50.628076 \r\nL 586.598549 51.822094 \r\nL 584.547786 53.063249 \r\nL 582.40867 54.355299 \r\nL 580.173978 55.702444 \r\nL 577.835602 57.109398 \r\nL 575.384413 58.581469 \r\nL 572.81009 60.124654 \r\nL 570.100928 61.745756 \r\nL 567.24359 63.45252 \r\nL 564.22282 65.253807 \r\nL 561.021093 67.159791 \r\nL 557.618182 69.182212 \r\nL 553.99063 71.334681 \r\nL 550.111095 73.633058 \r\nL 545.94754 76.095919 \r\nL 541.462214 78.74515 \r\nL 536.610369 81.606684 \r\nL 531.338627 84.711446 \r\nL 525.582898 88.096557 \r\nL 519.265683 91.806893 \r\nL 512.292572 95.897105 \r\nL 504.547653 100.434276 \r\nL 495.887452 105.501421 \r\nL 486.132864 111.202148 \r\nL 475.058389 117.666876 \r\nL 462.377706 125.06117 \r\nL 447.72438 133.596884 \r\nL 430.626269 143.546949 \r\nL 410.472116 155.264667 \r\nL 386.469199 169.208174 \r\nL 357.592047 185.970074 \r\nL 322.524177 206.3111 \r\nL 279.59665 231.195649 \r\nL 226.726122 261.827636 \r\nL 161.34789 299.689292 \r\nL 80.328236 346.591973 \r\nL -20.164459 404.750804 \r\nL -144.84107 476.889615 \r\nL -299.523841 566.37517 \r\nL -491.427847 677.379892 \r\nL 10.948174 677.379892 \r\nL 10.948174 677.379892 \r\nL 119.319309 566.37517 \r\nL 206.700904 476.889615 \r\nL 277.164564 404.750804 \r\nL 333.995367 346.591973 \r\nL 379.850578 299.689292 \r\nL 416.890638 261.827636 \r\nL 446.881666 231.195649 \r\nL 471.268496 206.3111 \r\nL 491.224453 185.970074 \r\nL 507.689352 169.208174 \r\nL 521.404548 155.264667 \r\nL 532.947598 143.546949 \r\nL 542.765074 133.596884 \r\nL 551.201423 125.06117 \r\nL 558.522795 117.666876 \r\nL 564.935837 111.202148 \r\nL 570.602094 105.501421 \r\nL 575.648857 100.434276 \r\nL 580.177288 95.897105 \r\nL 584.268472 91.806893 \r\nL 587.98796 88.096557 \r\nL 591.389182 84.711446 \r\nL 594.516027 81.606684 \r\nL 597.404821 78.74515 \r\nL 600.085841 76.095919 \r\nL 602.58449 73.633058 \r\nL 604.922215 71.334681 \r\nL 607.117234 69.182212 \r\nL 609.185107 67.159791 \r\nL 611.139193 65.253807 \r\nL 612.991024 63.45252 \r\nL 614.750597 61.745756 \r\nL 616.426621 60.124654 \r\nL 618.026717 58.581469 \r\nL 619.557577 57.109398 \r\nL 621.025106 55.702444 \r\nL 622.434531 54.355299 \r\nL 623.790495 53.063249 \r\nL 625.097139 51.822094 \r\nL 626.358166 50.628076 \r\nL 627.5769 49.477824 \r\nL 628.756333 48.368305 \r\nL 629.899165 47.296781 \r\nL 631.007841 46.260774 \r\nL 632.084578 45.258034 \r\nL 633.131395 44.286516 \r\nL 634.150135 43.344351 \r\nL 635.142479 42.429833 \r\nL 636.10997 41.541397 \r\nL 637.054025 40.677605 \r\nL 637.975946 39.837134 \r\nL 638.876935 39.018764 \r\nL 639.7581 38.221366 \r\nL 640.620468 37.443895 \r\nL 641.464989 36.685384 \r\nL 642.292547 35.94493 \r\nL 643.103962 35.221697 \r\nL 643.899998 34.514902 \r\nL 644.681366 33.823817 \r\nL 645.448732 33.147758 \r\nL 646.202716 32.486087 \r\nL 646.9439 31.838205 \r\nL 647.672829 31.203549 \r\nL 648.390014 30.58159 \r\nL 649.095933 29.97183 \r\nL 649.791037 29.373801 \r\nL 650.47575 28.78706 \r\nL 651.150472 28.211188 \r\nL 651.815577 27.64579 \r\nL 652.471421 27.090492 \r\nL 653.118338 26.54494 \r\nL 653.756645 26.008798 \r\nL 654.38664 25.481745 \r\nL 655.008606 24.963481 \r\nL 655.62281 24.453715 \r\nL 656.229506 23.952174 \r\nL 656.828935 23.458597 \r\nL 657.421323 22.972735 \r\nL 658.006887 22.49435 \r\nL 658.585833 22.023216 \r\nL 659.158355 21.559116 \r\nL 659.72464 21.101843 \r\nL 660.284863 20.6512 \r\nL 660.839193 20.206996 \r\nL 661.387789 19.76905 \r\nL 661.930805 19.337189 \r\nL 662.468385 18.911246 \r\nL 663.000668 18.49106 \r\nL 663.527787 18.076479 \r\nL 664.049868 17.667354 \r\nL 664.567032 17.263544 \r\nL 665.079395 16.864912 \r\nL 665.587067 16.471328 \r\nL 666.090154 16.082665 \r\nL 666.588757 15.698802 \r\nL 667.082974 15.319621 \r\nL 667.572898 14.94501 \r\nL 668.058619 14.574859 \r\nL 668.540221 14.209064 \r\nz\r\n\" style=\"fill:#1f77b4;fill-opacity:0.3;\"/>\r\n   </g>\r\n   <g id=\"matplotlib.axis_1\">\r\n    <g id=\"xtick_1\">\r\n     <g id=\"line2d_1\">\r\n      <path clip-path=\"url(#p470094317b)\" d=\"M 66.007812 391.0755 \r\nL 66.007812 35.7555 \r\n\" style=\"fill:none;stroke:#000000;stroke-linecap:square;stroke-opacity:0.3;stroke-width:0.8;\"/>\r\n     </g>\r\n     <g id=\"line2d_2\">\r\n      <defs>\r\n       <path d=\"M 0 0 \r\nL 0 3.5 \r\n\" id=\"mb2a22d6f73\" style=\"stroke:#000000;stroke-width:0.8;\"/>\r\n      </defs>\r\n      <g>\r\n       <use style=\"stroke:#000000;stroke-width:0.8;\" x=\"66.007812\" xlink:href=\"#mb2a22d6f73\" y=\"391.0755\"/>\r\n      </g>\r\n     </g>\r\n     <g id=\"text_1\">\r\n      <!-- $\\mathdefault{10^{0}}$ -->\r\n      <g transform=\"translate(57.207813 405.673937)scale(0.1 -0.1)\">\r\n       <defs>\r\n        <path d=\"M 12.40625 8.296875 \r\nL 28.515625 8.296875 \r\nL 28.515625 63.921875 \r\nL 10.984375 60.40625 \r\nL 10.984375 69.390625 \r\nL 28.421875 72.90625 \r\nL 38.28125 72.90625 \r\nL 38.28125 8.296875 \r\nL 54.390625 8.296875 \r\nL 54.390625 0 \r\nL 12.40625 0 \r\nz\r\n\" id=\"DejaVuSans-49\"/>\r\n        <path d=\"M 31.78125 66.40625 \r\nQ 24.171875 66.40625 20.328125 58.90625 \r\nQ 16.5 51.421875 16.5 36.375 \r\nQ 16.5 21.390625 20.328125 13.890625 \r\nQ 24.171875 6.390625 31.78125 6.390625 \r\nQ 39.453125 6.390625 43.28125 13.890625 \r\nQ 47.125 21.390625 47.125 36.375 \r\nQ 47.125 51.421875 43.28125 58.90625 \r\nQ 39.453125 66.40625 31.78125 66.40625 \r\nz\r\nM 31.78125 74.21875 \r\nQ 44.046875 74.21875 50.515625 64.515625 \r\nQ 56.984375 54.828125 56.984375 36.375 \r\nQ 56.984375 17.96875 50.515625 8.265625 \r\nQ 44.046875 -1.421875 31.78125 -1.421875 \r\nQ 19.53125 -1.421875 13.0625 8.265625 \r\nQ 6.59375 17.96875 6.59375 36.375 \r\nQ 6.59375 54.828125 13.0625 64.515625 \r\nQ 19.53125 74.21875 31.78125 74.21875 \r\nz\r\n\" id=\"DejaVuSans-48\"/>\r\n       </defs>\r\n       <use transform=\"translate(0 0.765625)\" xlink:href=\"#DejaVuSans-49\"/>\r\n       <use transform=\"translate(63.623047 0.765625)\" xlink:href=\"#DejaVuSans-48\"/>\r\n       <use transform=\"translate(128.203125 39.046875)scale(0.7)\" xlink:href=\"#DejaVuSans-48\"/>\r\n      </g>\r\n     </g>\r\n    </g>\r\n    <g id=\"xtick_2\">\r\n     <g id=\"line2d_3\">\r\n      <path clip-path=\"url(#p470094317b)\" d=\"M 233.407813 391.0755 \r\nL 233.407813 35.7555 \r\n\" style=\"fill:none;stroke:#000000;stroke-linecap:square;stroke-opacity:0.3;stroke-width:0.8;\"/>\r\n     </g>\r\n     <g id=\"line2d_4\">\r\n      <g>\r\n       <use style=\"stroke:#000000;stroke-width:0.8;\" x=\"233.407813\" xlink:href=\"#mb2a22d6f73\" y=\"391.0755\"/>\r\n      </g>\r\n     </g>\r\n     <g id=\"text_2\">\r\n      <!-- $\\mathdefault{10^{1}}$ -->\r\n      <g transform=\"translate(224.607812 405.673937)scale(0.1 -0.1)\">\r\n       <use transform=\"translate(0 0.684375)\" xlink:href=\"#DejaVuSans-49\"/>\r\n       <use transform=\"translate(63.623047 0.684375)\" xlink:href=\"#DejaVuSans-48\"/>\r\n       <use transform=\"translate(128.203125 38.965625)scale(0.7)\" xlink:href=\"#DejaVuSans-49\"/>\r\n      </g>\r\n     </g>\r\n    </g>\r\n    <g id=\"xtick_3\">\r\n     <g id=\"line2d_5\">\r\n      <path clip-path=\"url(#p470094317b)\" d=\"M 400.807813 391.0755 \r\nL 400.807813 35.7555 \r\n\" style=\"fill:none;stroke:#000000;stroke-linecap:square;stroke-opacity:0.3;stroke-width:0.8;\"/>\r\n     </g>\r\n     <g id=\"line2d_6\">\r\n      <g>\r\n       <use style=\"stroke:#000000;stroke-width:0.8;\" x=\"400.807813\" xlink:href=\"#mb2a22d6f73\" y=\"391.0755\"/>\r\n      </g>\r\n     </g>\r\n     <g id=\"text_3\">\r\n      <!-- $\\mathdefault{10^{2}}$ -->\r\n      <g transform=\"translate(392.007812 405.673937)scale(0.1 -0.1)\">\r\n       <defs>\r\n        <path d=\"M 19.1875 8.296875 \r\nL 53.609375 8.296875 \r\nL 53.609375 0 \r\nL 7.328125 0 \r\nL 7.328125 8.296875 \r\nQ 12.9375 14.109375 22.625 23.890625 \r\nQ 32.328125 33.6875 34.8125 36.53125 \r\nQ 39.546875 41.84375 41.421875 45.53125 \r\nQ 43.3125 49.21875 43.3125 52.78125 \r\nQ 43.3125 58.59375 39.234375 62.25 \r\nQ 35.15625 65.921875 28.609375 65.921875 \r\nQ 23.96875 65.921875 18.8125 64.3125 \r\nQ 13.671875 62.703125 7.8125 59.421875 \r\nL 7.8125 69.390625 \r\nQ 13.765625 71.78125 18.9375 73 \r\nQ 24.125 74.21875 28.421875 74.21875 \r\nQ 39.75 74.21875 46.484375 68.546875 \r\nQ 53.21875 62.890625 53.21875 53.421875 \r\nQ 53.21875 48.921875 51.53125 44.890625 \r\nQ 49.859375 40.875 45.40625 35.40625 \r\nQ 44.1875 33.984375 37.640625 27.21875 \r\nQ 31.109375 20.453125 19.1875 8.296875 \r\nz\r\n\" id=\"DejaVuSans-50\"/>\r\n       </defs>\r\n       <use transform=\"translate(0 0.765625)\" xlink:href=\"#DejaVuSans-49\"/>\r\n       <use transform=\"translate(63.623047 0.765625)\" xlink:href=\"#DejaVuSans-48\"/>\r\n       <use transform=\"translate(128.203125 39.046875)scale(0.7)\" xlink:href=\"#DejaVuSans-50\"/>\r\n      </g>\r\n     </g>\r\n    </g>\r\n    <g id=\"xtick_4\">\r\n     <g id=\"line2d_7\">\r\n      <path clip-path=\"url(#p470094317b)\" d=\"M 568.207813 391.0755 \r\nL 568.207813 35.7555 \r\n\" style=\"fill:none;stroke:#000000;stroke-linecap:square;stroke-opacity:0.3;stroke-width:0.8;\"/>\r\n     </g>\r\n     <g id=\"line2d_8\">\r\n      <g>\r\n       <use style=\"stroke:#000000;stroke-width:0.8;\" x=\"568.207813\" xlink:href=\"#mb2a22d6f73\" y=\"391.0755\"/>\r\n      </g>\r\n     </g>\r\n     <g id=\"text_4\">\r\n      <!-- $\\mathdefault{10^{3}}$ -->\r\n      <g transform=\"translate(559.407813 405.673937)scale(0.1 -0.1)\">\r\n       <defs>\r\n        <path d=\"M 40.578125 39.3125 \r\nQ 47.65625 37.796875 51.625 33 \r\nQ 55.609375 28.21875 55.609375 21.1875 \r\nQ 55.609375 10.40625 48.1875 4.484375 \r\nQ 40.765625 -1.421875 27.09375 -1.421875 \r\nQ 22.515625 -1.421875 17.65625 -0.515625 \r\nQ 12.796875 0.390625 7.625 2.203125 \r\nL 7.625 11.71875 \r\nQ 11.71875 9.328125 16.59375 8.109375 \r\nQ 21.484375 6.890625 26.8125 6.890625 \r\nQ 36.078125 6.890625 40.9375 10.546875 \r\nQ 45.796875 14.203125 45.796875 21.1875 \r\nQ 45.796875 27.640625 41.28125 31.265625 \r\nQ 36.765625 34.90625 28.71875 34.90625 \r\nL 20.21875 34.90625 \r\nL 20.21875 43.015625 \r\nL 29.109375 43.015625 \r\nQ 36.375 43.015625 40.234375 45.921875 \r\nQ 44.09375 48.828125 44.09375 54.296875 \r\nQ 44.09375 59.90625 40.109375 62.90625 \r\nQ 36.140625 65.921875 28.71875 65.921875 \r\nQ 24.65625 65.921875 20.015625 65.03125 \r\nQ 15.375 64.15625 9.8125 62.3125 \r\nL 9.8125 71.09375 \r\nQ 15.4375 72.65625 20.34375 73.4375 \r\nQ 25.25 74.21875 29.59375 74.21875 \r\nQ 40.828125 74.21875 47.359375 69.109375 \r\nQ 53.90625 64.015625 53.90625 55.328125 \r\nQ 53.90625 49.265625 50.4375 45.09375 \r\nQ 46.96875 40.921875 40.578125 39.3125 \r\nz\r\n\" id=\"DejaVuSans-51\"/>\r\n       </defs>\r\n       <use transform=\"translate(0 0.765625)\" xlink:href=\"#DejaVuSans-49\"/>\r\n       <use transform=\"translate(63.623047 0.765625)\" xlink:href=\"#DejaVuSans-48\"/>\r\n       <use transform=\"translate(128.203125 39.046875)scale(0.7)\" xlink:href=\"#DejaVuSans-51\"/>\r\n      </g>\r\n     </g>\r\n    </g>\r\n    <g id=\"xtick_5\">\r\n     <g id=\"line2d_9\">\r\n      <path clip-path=\"url(#p470094317b)\" d=\"M 116.400234 391.0755 \r\nL 116.400234 35.7555 \r\n\" style=\"fill:none;stroke:#000000;stroke-linecap:square;stroke-opacity:0.08;stroke-width:0.8;\"/>\r\n     </g>\r\n     <g id=\"line2d_10\">\r\n      <defs>\r\n       <path d=\"M 0 0 \r\nL 0 2 \r\n\" id=\"md11284aaec\" style=\"stroke:#000000;stroke-width:0.6;\"/>\r\n      </defs>\r\n      <g>\r\n       <use style=\"stroke:#000000;stroke-width:0.6;\" x=\"116.400234\" xlink:href=\"#md11284aaec\" y=\"391.0755\"/>\r\n      </g>\r\n     </g>\r\n    </g>\r\n    <g id=\"xtick_6\">\r\n     <g id=\"line2d_11\">\r\n      <path clip-path=\"url(#p470094317b)\" d=\"M 145.877911 391.0755 \r\nL 145.877911 35.7555 \r\n\" style=\"fill:none;stroke:#000000;stroke-linecap:square;stroke-opacity:0.08;stroke-width:0.8;\"/>\r\n     </g>\r\n     <g id=\"line2d_12\">\r\n      <g>\r\n       <use style=\"stroke:#000000;stroke-width:0.6;\" x=\"145.877911\" xlink:href=\"#md11284aaec\" y=\"391.0755\"/>\r\n      </g>\r\n     </g>\r\n    </g>\r\n    <g id=\"xtick_7\">\r\n     <g id=\"line2d_13\">\r\n      <path clip-path=\"url(#p470094317b)\" d=\"M 166.792655 391.0755 \r\nL 166.792655 35.7555 \r\n\" style=\"fill:none;stroke:#000000;stroke-linecap:square;stroke-opacity:0.08;stroke-width:0.8;\"/>\r\n     </g>\r\n     <g id=\"line2d_14\">\r\n      <g>\r\n       <use style=\"stroke:#000000;stroke-width:0.6;\" x=\"166.792655\" xlink:href=\"#md11284aaec\" y=\"391.0755\"/>\r\n      </g>\r\n     </g>\r\n    </g>\r\n    <g id=\"xtick_8\">\r\n     <g id=\"line2d_15\">\r\n      <path clip-path=\"url(#p470094317b)\" d=\"M 183.015391 391.0755 \r\nL 183.015391 35.7555 \r\n\" style=\"fill:none;stroke:#000000;stroke-linecap:square;stroke-opacity:0.08;stroke-width:0.8;\"/>\r\n     </g>\r\n     <g id=\"line2d_16\">\r\n      <g>\r\n       <use style=\"stroke:#000000;stroke-width:0.6;\" x=\"183.015391\" xlink:href=\"#md11284aaec\" y=\"391.0755\"/>\r\n      </g>\r\n     </g>\r\n    </g>\r\n    <g id=\"xtick_9\">\r\n     <g id=\"line2d_17\">\r\n      <path clip-path=\"url(#p470094317b)\" d=\"M 196.270332 391.0755 \r\nL 196.270332 35.7555 \r\n\" style=\"fill:none;stroke:#000000;stroke-linecap:square;stroke-opacity:0.08;stroke-width:0.8;\"/>\r\n     </g>\r\n     <g id=\"line2d_18\">\r\n      <g>\r\n       <use style=\"stroke:#000000;stroke-width:0.6;\" x=\"196.270332\" xlink:href=\"#md11284aaec\" y=\"391.0755\"/>\r\n      </g>\r\n     </g>\r\n    </g>\r\n    <g id=\"xtick_10\">\r\n     <g id=\"line2d_19\">\r\n      <path clip-path=\"url(#p470094317b)\" d=\"M 207.477224 391.0755 \r\nL 207.477224 35.7555 \r\n\" style=\"fill:none;stroke:#000000;stroke-linecap:square;stroke-opacity:0.08;stroke-width:0.8;\"/>\r\n     </g>\r\n     <g id=\"line2d_20\">\r\n      <g>\r\n       <use style=\"stroke:#000000;stroke-width:0.6;\" x=\"207.477224\" xlink:href=\"#md11284aaec\" y=\"391.0755\"/>\r\n      </g>\r\n     </g>\r\n    </g>\r\n    <g id=\"xtick_11\">\r\n     <g id=\"line2d_21\">\r\n      <path clip-path=\"url(#p470094317b)\" d=\"M 217.185076 391.0755 \r\nL 217.185076 35.7555 \r\n\" style=\"fill:none;stroke:#000000;stroke-linecap:square;stroke-opacity:0.08;stroke-width:0.8;\"/>\r\n     </g>\r\n     <g id=\"line2d_22\">\r\n      <g>\r\n       <use style=\"stroke:#000000;stroke-width:0.6;\" x=\"217.185076\" xlink:href=\"#md11284aaec\" y=\"391.0755\"/>\r\n      </g>\r\n     </g>\r\n    </g>\r\n    <g id=\"xtick_12\">\r\n     <g id=\"line2d_23\">\r\n      <path clip-path=\"url(#p470094317b)\" d=\"M 225.748009 391.0755 \r\nL 225.748009 35.7555 \r\n\" style=\"fill:none;stroke:#000000;stroke-linecap:square;stroke-opacity:0.08;stroke-width:0.8;\"/>\r\n     </g>\r\n     <g id=\"line2d_24\">\r\n      <g>\r\n       <use style=\"stroke:#000000;stroke-width:0.6;\" x=\"225.748009\" xlink:href=\"#md11284aaec\" y=\"391.0755\"/>\r\n      </g>\r\n     </g>\r\n    </g>\r\n    <g id=\"xtick_13\">\r\n     <g id=\"line2d_25\">\r\n      <path clip-path=\"url(#p470094317b)\" d=\"M 283.800234 391.0755 \r\nL 283.800234 35.7555 \r\n\" style=\"fill:none;stroke:#000000;stroke-linecap:square;stroke-opacity:0.08;stroke-width:0.8;\"/>\r\n     </g>\r\n     <g id=\"line2d_26\">\r\n      <g>\r\n       <use style=\"stroke:#000000;stroke-width:0.6;\" x=\"283.800234\" xlink:href=\"#md11284aaec\" y=\"391.0755\"/>\r\n      </g>\r\n     </g>\r\n    </g>\r\n    <g id=\"xtick_14\">\r\n     <g id=\"line2d_27\">\r\n      <path clip-path=\"url(#p470094317b)\" d=\"M 313.277911 391.0755 \r\nL 313.277911 35.7555 \r\n\" style=\"fill:none;stroke:#000000;stroke-linecap:square;stroke-opacity:0.08;stroke-width:0.8;\"/>\r\n     </g>\r\n     <g id=\"line2d_28\">\r\n      <g>\r\n       <use style=\"stroke:#000000;stroke-width:0.6;\" x=\"313.277911\" xlink:href=\"#md11284aaec\" y=\"391.0755\"/>\r\n      </g>\r\n     </g>\r\n    </g>\r\n    <g id=\"xtick_15\">\r\n     <g id=\"line2d_29\">\r\n      <path clip-path=\"url(#p470094317b)\" d=\"M 334.192655 391.0755 \r\nL 334.192655 35.7555 \r\n\" style=\"fill:none;stroke:#000000;stroke-linecap:square;stroke-opacity:0.08;stroke-width:0.8;\"/>\r\n     </g>\r\n     <g id=\"line2d_30\">\r\n      <g>\r\n       <use style=\"stroke:#000000;stroke-width:0.6;\" x=\"334.192655\" xlink:href=\"#md11284aaec\" y=\"391.0755\"/>\r\n      </g>\r\n     </g>\r\n    </g>\r\n    <g id=\"xtick_16\">\r\n     <g id=\"line2d_31\">\r\n      <path clip-path=\"url(#p470094317b)\" d=\"M 350.415391 391.0755 \r\nL 350.415391 35.7555 \r\n\" style=\"fill:none;stroke:#000000;stroke-linecap:square;stroke-opacity:0.08;stroke-width:0.8;\"/>\r\n     </g>\r\n     <g id=\"line2d_32\">\r\n      <g>\r\n       <use style=\"stroke:#000000;stroke-width:0.6;\" x=\"350.415391\" xlink:href=\"#md11284aaec\" y=\"391.0755\"/>\r\n      </g>\r\n     </g>\r\n    </g>\r\n    <g id=\"xtick_17\">\r\n     <g id=\"line2d_33\">\r\n      <path clip-path=\"url(#p470094317b)\" d=\"M 363.670332 391.0755 \r\nL 363.670332 35.7555 \r\n\" style=\"fill:none;stroke:#000000;stroke-linecap:square;stroke-opacity:0.08;stroke-width:0.8;\"/>\r\n     </g>\r\n     <g id=\"line2d_34\">\r\n      <g>\r\n       <use style=\"stroke:#000000;stroke-width:0.6;\" x=\"363.670332\" xlink:href=\"#md11284aaec\" y=\"391.0755\"/>\r\n      </g>\r\n     </g>\r\n    </g>\r\n    <g id=\"xtick_18\">\r\n     <g id=\"line2d_35\">\r\n      <path clip-path=\"url(#p470094317b)\" d=\"M 374.877224 391.0755 \r\nL 374.877224 35.7555 \r\n\" style=\"fill:none;stroke:#000000;stroke-linecap:square;stroke-opacity:0.08;stroke-width:0.8;\"/>\r\n     </g>\r\n     <g id=\"line2d_36\">\r\n      <g>\r\n       <use style=\"stroke:#000000;stroke-width:0.6;\" x=\"374.877224\" xlink:href=\"#md11284aaec\" y=\"391.0755\"/>\r\n      </g>\r\n     </g>\r\n    </g>\r\n    <g id=\"xtick_19\">\r\n     <g id=\"line2d_37\">\r\n      <path clip-path=\"url(#p470094317b)\" d=\"M 384.585076 391.0755 \r\nL 384.585076 35.7555 \r\n\" style=\"fill:none;stroke:#000000;stroke-linecap:square;stroke-opacity:0.08;stroke-width:0.8;\"/>\r\n     </g>\r\n     <g id=\"line2d_38\">\r\n      <g>\r\n       <use style=\"stroke:#000000;stroke-width:0.6;\" x=\"384.585076\" xlink:href=\"#md11284aaec\" y=\"391.0755\"/>\r\n      </g>\r\n     </g>\r\n    </g>\r\n    <g id=\"xtick_20\">\r\n     <g id=\"line2d_39\">\r\n      <path clip-path=\"url(#p470094317b)\" d=\"M 393.148009 391.0755 \r\nL 393.148009 35.7555 \r\n\" style=\"fill:none;stroke:#000000;stroke-linecap:square;stroke-opacity:0.08;stroke-width:0.8;\"/>\r\n     </g>\r\n     <g id=\"line2d_40\">\r\n      <g>\r\n       <use style=\"stroke:#000000;stroke-width:0.6;\" x=\"393.148009\" xlink:href=\"#md11284aaec\" y=\"391.0755\"/>\r\n      </g>\r\n     </g>\r\n    </g>\r\n    <g id=\"xtick_21\">\r\n     <g id=\"line2d_41\">\r\n      <path clip-path=\"url(#p470094317b)\" d=\"M 451.200234 391.0755 \r\nL 451.200234 35.7555 \r\n\" style=\"fill:none;stroke:#000000;stroke-linecap:square;stroke-opacity:0.08;stroke-width:0.8;\"/>\r\n     </g>\r\n     <g id=\"line2d_42\">\r\n      <g>\r\n       <use style=\"stroke:#000000;stroke-width:0.6;\" x=\"451.200234\" xlink:href=\"#md11284aaec\" y=\"391.0755\"/>\r\n      </g>\r\n     </g>\r\n    </g>\r\n    <g id=\"xtick_22\">\r\n     <g id=\"line2d_43\">\r\n      <path clip-path=\"url(#p470094317b)\" d=\"M 480.677911 391.0755 \r\nL 480.677911 35.7555 \r\n\" style=\"fill:none;stroke:#000000;stroke-linecap:square;stroke-opacity:0.08;stroke-width:0.8;\"/>\r\n     </g>\r\n     <g id=\"line2d_44\">\r\n      <g>\r\n       <use style=\"stroke:#000000;stroke-width:0.6;\" x=\"480.677911\" xlink:href=\"#md11284aaec\" y=\"391.0755\"/>\r\n      </g>\r\n     </g>\r\n    </g>\r\n    <g id=\"xtick_23\">\r\n     <g id=\"line2d_45\">\r\n      <path clip-path=\"url(#p470094317b)\" d=\"M 501.592655 391.0755 \r\nL 501.592655 35.7555 \r\n\" style=\"fill:none;stroke:#000000;stroke-linecap:square;stroke-opacity:0.08;stroke-width:0.8;\"/>\r\n     </g>\r\n     <g id=\"line2d_46\">\r\n      <g>\r\n       <use style=\"stroke:#000000;stroke-width:0.6;\" x=\"501.592655\" xlink:href=\"#md11284aaec\" y=\"391.0755\"/>\r\n      </g>\r\n     </g>\r\n    </g>\r\n    <g id=\"xtick_24\">\r\n     <g id=\"line2d_47\">\r\n      <path clip-path=\"url(#p470094317b)\" d=\"M 517.815391 391.0755 \r\nL 517.815391 35.7555 \r\n\" style=\"fill:none;stroke:#000000;stroke-linecap:square;stroke-opacity:0.08;stroke-width:0.8;\"/>\r\n     </g>\r\n     <g id=\"line2d_48\">\r\n      <g>\r\n       <use style=\"stroke:#000000;stroke-width:0.6;\" x=\"517.815391\" xlink:href=\"#md11284aaec\" y=\"391.0755\"/>\r\n      </g>\r\n     </g>\r\n    </g>\r\n    <g id=\"xtick_25\">\r\n     <g id=\"line2d_49\">\r\n      <path clip-path=\"url(#p470094317b)\" d=\"M 531.070332 391.0755 \r\nL 531.070332 35.7555 \r\n\" style=\"fill:none;stroke:#000000;stroke-linecap:square;stroke-opacity:0.08;stroke-width:0.8;\"/>\r\n     </g>\r\n     <g id=\"line2d_50\">\r\n      <g>\r\n       <use style=\"stroke:#000000;stroke-width:0.6;\" x=\"531.070332\" xlink:href=\"#md11284aaec\" y=\"391.0755\"/>\r\n      </g>\r\n     </g>\r\n    </g>\r\n    <g id=\"xtick_26\">\r\n     <g id=\"line2d_51\">\r\n      <path clip-path=\"url(#p470094317b)\" d=\"M 542.277224 391.0755 \r\nL 542.277224 35.7555 \r\n\" style=\"fill:none;stroke:#000000;stroke-linecap:square;stroke-opacity:0.08;stroke-width:0.8;\"/>\r\n     </g>\r\n     <g id=\"line2d_52\">\r\n      <g>\r\n       <use style=\"stroke:#000000;stroke-width:0.6;\" x=\"542.277224\" xlink:href=\"#md11284aaec\" y=\"391.0755\"/>\r\n      </g>\r\n     </g>\r\n    </g>\r\n    <g id=\"xtick_27\">\r\n     <g id=\"line2d_53\">\r\n      <path clip-path=\"url(#p470094317b)\" d=\"M 551.985076 391.0755 \r\nL 551.985076 35.7555 \r\n\" style=\"fill:none;stroke:#000000;stroke-linecap:square;stroke-opacity:0.08;stroke-width:0.8;\"/>\r\n     </g>\r\n     <g id=\"line2d_54\">\r\n      <g>\r\n       <use style=\"stroke:#000000;stroke-width:0.6;\" x=\"551.985076\" xlink:href=\"#md11284aaec\" y=\"391.0755\"/>\r\n      </g>\r\n     </g>\r\n    </g>\r\n    <g id=\"xtick_28\">\r\n     <g id=\"line2d_55\">\r\n      <path clip-path=\"url(#p470094317b)\" d=\"M 560.548009 391.0755 \r\nL 560.548009 35.7555 \r\n\" style=\"fill:none;stroke:#000000;stroke-linecap:square;stroke-opacity:0.08;stroke-width:0.8;\"/>\r\n     </g>\r\n     <g id=\"line2d_56\">\r\n      <g>\r\n       <use style=\"stroke:#000000;stroke-width:0.6;\" x=\"560.548009\" xlink:href=\"#md11284aaec\" y=\"391.0755\"/>\r\n      </g>\r\n     </g>\r\n    </g>\r\n    <g id=\"text_5\">\r\n     <!-- Time - gamma -->\r\n     <g transform=\"translate(280.849219 419.352062)scale(0.1 -0.1)\">\r\n      <defs>\r\n       <path d=\"M -0.296875 72.90625 \r\nL 61.375 72.90625 \r\nL 61.375 64.59375 \r\nL 35.5 64.59375 \r\nL 35.5 0 \r\nL 25.59375 0 \r\nL 25.59375 64.59375 \r\nL -0.296875 64.59375 \r\nz\r\n\" id=\"DejaVuSans-84\"/>\r\n       <path d=\"M 9.421875 54.6875 \r\nL 18.40625 54.6875 \r\nL 18.40625 0 \r\nL 9.421875 0 \r\nz\r\nM 9.421875 75.984375 \r\nL 18.40625 75.984375 \r\nL 18.40625 64.59375 \r\nL 9.421875 64.59375 \r\nz\r\n\" id=\"DejaVuSans-105\"/>\r\n       <path d=\"M 52 44.1875 \r\nQ 55.375 50.25 60.0625 53.125 \r\nQ 64.75 56 71.09375 56 \r\nQ 79.640625 56 84.28125 50.015625 \r\nQ 88.921875 44.046875 88.921875 33.015625 \r\nL 88.921875 0 \r\nL 79.890625 0 \r\nL 79.890625 32.71875 \r\nQ 79.890625 40.578125 77.09375 44.375 \r\nQ 74.3125 48.1875 68.609375 48.1875 \r\nQ 61.625 48.1875 57.5625 43.546875 \r\nQ 53.515625 38.921875 53.515625 30.90625 \r\nL 53.515625 0 \r\nL 44.484375 0 \r\nL 44.484375 32.71875 \r\nQ 44.484375 40.625 41.703125 44.40625 \r\nQ 38.921875 48.1875 33.109375 48.1875 \r\nQ 26.21875 48.1875 22.15625 43.53125 \r\nQ 18.109375 38.875 18.109375 30.90625 \r\nL 18.109375 0 \r\nL 9.078125 0 \r\nL 9.078125 54.6875 \r\nL 18.109375 54.6875 \r\nL 18.109375 46.1875 \r\nQ 21.1875 51.21875 25.484375 53.609375 \r\nQ 29.78125 56 35.6875 56 \r\nQ 41.65625 56 45.828125 52.96875 \r\nQ 50 49.953125 52 44.1875 \r\nz\r\n\" id=\"DejaVuSans-109\"/>\r\n       <path d=\"M 56.203125 29.59375 \r\nL 56.203125 25.203125 \r\nL 14.890625 25.203125 \r\nQ 15.484375 15.921875 20.484375 11.0625 \r\nQ 25.484375 6.203125 34.421875 6.203125 \r\nQ 39.59375 6.203125 44.453125 7.46875 \r\nQ 49.3125 8.734375 54.109375 11.28125 \r\nL 54.109375 2.78125 \r\nQ 49.265625 0.734375 44.1875 -0.34375 \r\nQ 39.109375 -1.421875 33.890625 -1.421875 \r\nQ 20.796875 -1.421875 13.15625 6.1875 \r\nQ 5.515625 13.8125 5.515625 26.8125 \r\nQ 5.515625 40.234375 12.765625 48.109375 \r\nQ 20.015625 56 32.328125 56 \r\nQ 43.359375 56 49.78125 48.890625 \r\nQ 56.203125 41.796875 56.203125 29.59375 \r\nz\r\nM 47.21875 32.234375 \r\nQ 47.125 39.59375 43.09375 43.984375 \r\nQ 39.0625 48.390625 32.421875 48.390625 \r\nQ 24.90625 48.390625 20.390625 44.140625 \r\nQ 15.875 39.890625 15.1875 32.171875 \r\nz\r\n\" id=\"DejaVuSans-101\"/>\r\n       <path id=\"DejaVuSans-32\"/>\r\n       <path d=\"M 4.890625 31.390625 \r\nL 31.203125 31.390625 \r\nL 31.203125 23.390625 \r\nL 4.890625 23.390625 \r\nz\r\n\" id=\"DejaVuSans-45\"/>\r\n       <path d=\"M 45.40625 27.984375 \r\nQ 45.40625 37.75 41.375 43.109375 \r\nQ 37.359375 48.484375 30.078125 48.484375 \r\nQ 22.859375 48.484375 18.828125 43.109375 \r\nQ 14.796875 37.75 14.796875 27.984375 \r\nQ 14.796875 18.265625 18.828125 12.890625 \r\nQ 22.859375 7.515625 30.078125 7.515625 \r\nQ 37.359375 7.515625 41.375 12.890625 \r\nQ 45.40625 18.265625 45.40625 27.984375 \r\nz\r\nM 54.390625 6.78125 \r\nQ 54.390625 -7.171875 48.1875 -13.984375 \r\nQ 42 -20.796875 29.203125 -20.796875 \r\nQ 24.46875 -20.796875 20.265625 -20.09375 \r\nQ 16.0625 -19.390625 12.109375 -17.921875 \r\nL 12.109375 -9.1875 \r\nQ 16.0625 -11.328125 19.921875 -12.34375 \r\nQ 23.78125 -13.375 27.78125 -13.375 \r\nQ 36.625 -13.375 41.015625 -8.765625 \r\nQ 45.40625 -4.15625 45.40625 5.171875 \r\nL 45.40625 9.625 \r\nQ 42.625 4.78125 38.28125 2.390625 \r\nQ 33.9375 0 27.875 0 \r\nQ 17.828125 0 11.671875 7.65625 \r\nQ 5.515625 15.328125 5.515625 27.984375 \r\nQ 5.515625 40.671875 11.671875 48.328125 \r\nQ 17.828125 56 27.875 56 \r\nQ 33.9375 56 38.28125 53.609375 \r\nQ 42.625 51.21875 45.40625 46.390625 \r\nL 45.40625 54.6875 \r\nL 54.390625 54.6875 \r\nz\r\n\" id=\"DejaVuSans-103\"/>\r\n       <path d=\"M 34.28125 27.484375 \r\nQ 23.390625 27.484375 19.1875 25 \r\nQ 14.984375 22.515625 14.984375 16.5 \r\nQ 14.984375 11.71875 18.140625 8.90625 \r\nQ 21.296875 6.109375 26.703125 6.109375 \r\nQ 34.1875 6.109375 38.703125 11.40625 \r\nQ 43.21875 16.703125 43.21875 25.484375 \r\nL 43.21875 27.484375 \r\nz\r\nM 52.203125 31.203125 \r\nL 52.203125 0 \r\nL 43.21875 0 \r\nL 43.21875 8.296875 \r\nQ 40.140625 3.328125 35.546875 0.953125 \r\nQ 30.953125 -1.421875 24.3125 -1.421875 \r\nQ 15.921875 -1.421875 10.953125 3.296875 \r\nQ 6 8.015625 6 15.921875 \r\nQ 6 25.140625 12.171875 29.828125 \r\nQ 18.359375 34.515625 30.609375 34.515625 \r\nL 43.21875 34.515625 \r\nL 43.21875 35.40625 \r\nQ 43.21875 41.609375 39.140625 45 \r\nQ 35.0625 48.390625 27.6875 48.390625 \r\nQ 23 48.390625 18.546875 47.265625 \r\nQ 14.109375 46.140625 10.015625 43.890625 \r\nL 10.015625 52.203125 \r\nQ 14.9375 54.109375 19.578125 55.046875 \r\nQ 24.21875 56 28.609375 56 \r\nQ 40.484375 56 46.34375 49.84375 \r\nQ 52.203125 43.703125 52.203125 31.203125 \r\nz\r\n\" id=\"DejaVuSans-97\"/>\r\n      </defs>\r\n      <use xlink:href=\"#DejaVuSans-84\"/>\r\n      <use x=\"57.958984\" xlink:href=\"#DejaVuSans-105\"/>\r\n      <use x=\"85.742188\" xlink:href=\"#DejaVuSans-109\"/>\r\n      <use x=\"183.154297\" xlink:href=\"#DejaVuSans-101\"/>\r\n      <use x=\"244.677734\" xlink:href=\"#DejaVuSans-32\"/>\r\n      <use x=\"276.464844\" xlink:href=\"#DejaVuSans-45\"/>\r\n      <use x=\"312.548828\" xlink:href=\"#DejaVuSans-32\"/>\r\n      <use x=\"344.335938\" xlink:href=\"#DejaVuSans-103\"/>\r\n      <use x=\"407.8125\" xlink:href=\"#DejaVuSans-97\"/>\r\n      <use x=\"469.091797\" xlink:href=\"#DejaVuSans-109\"/>\r\n      <use x=\"566.503906\" xlink:href=\"#DejaVuSans-109\"/>\r\n      <use x=\"663.916016\" xlink:href=\"#DejaVuSans-97\"/>\r\n     </g>\r\n    </g>\r\n   </g>\r\n   <g id=\"matplotlib.axis_2\">\r\n    <g id=\"ytick_1\">\r\n     <g id=\"line2d_57\">\r\n      <path clip-path=\"url(#p470094317b)\" d=\"M 66.007812 391.0755 \r\nL 568.207813 391.0755 \r\n\" style=\"fill:none;stroke:#000000;stroke-linecap:square;stroke-opacity:0.3;stroke-width:0.8;\"/>\r\n     </g>\r\n     <g id=\"line2d_58\">\r\n      <defs>\r\n       <path d=\"M 0 0 \r\nL -3.5 0 \r\n\" id=\"m907be0e897\" style=\"stroke:#000000;stroke-width:0.8;\"/>\r\n      </defs>\r\n      <g>\r\n       <use style=\"stroke:#000000;stroke-width:0.8;\" x=\"66.007812\" xlink:href=\"#m907be0e897\" y=\"391.0755\"/>\r\n      </g>\r\n     </g>\r\n     <g id=\"text_6\">\r\n      <!-- 0.01% -->\r\n      <g transform=\"translate(27.240625 394.874719)scale(0.1 -0.1)\">\r\n       <defs>\r\n        <path d=\"M 10.6875 12.40625 \r\nL 21 12.40625 \r\nL 21 0 \r\nL 10.6875 0 \r\nz\r\n\" id=\"DejaVuSans-46\"/>\r\n        <path d=\"M 72.703125 32.078125 \r\nQ 68.453125 32.078125 66.03125 28.46875 \r\nQ 63.625 24.859375 63.625 18.40625 \r\nQ 63.625 12.0625 66.03125 8.421875 \r\nQ 68.453125 4.78125 72.703125 4.78125 \r\nQ 76.859375 4.78125 79.265625 8.421875 \r\nQ 81.6875 12.0625 81.6875 18.40625 \r\nQ 81.6875 24.8125 79.265625 28.4375 \r\nQ 76.859375 32.078125 72.703125 32.078125 \r\nz\r\nM 72.703125 38.28125 \r\nQ 80.421875 38.28125 84.953125 32.90625 \r\nQ 89.5 27.546875 89.5 18.40625 \r\nQ 89.5 9.28125 84.9375 3.921875 \r\nQ 80.375 -1.421875 72.703125 -1.421875 \r\nQ 64.890625 -1.421875 60.34375 3.921875 \r\nQ 55.8125 9.28125 55.8125 18.40625 \r\nQ 55.8125 27.59375 60.375 32.9375 \r\nQ 64.9375 38.28125 72.703125 38.28125 \r\nz\r\nM 22.3125 68.015625 \r\nQ 18.109375 68.015625 15.6875 64.375 \r\nQ 13.28125 60.75 13.28125 54.390625 \r\nQ 13.28125 47.953125 15.671875 44.328125 \r\nQ 18.0625 40.71875 22.3125 40.71875 \r\nQ 26.5625 40.71875 28.96875 44.328125 \r\nQ 31.390625 47.953125 31.390625 54.390625 \r\nQ 31.390625 60.6875 28.953125 64.34375 \r\nQ 26.515625 68.015625 22.3125 68.015625 \r\nz\r\nM 66.40625 74.21875 \r\nL 74.21875 74.21875 \r\nL 28.609375 -1.421875 \r\nL 20.796875 -1.421875 \r\nz\r\nM 22.3125 74.21875 \r\nQ 30.03125 74.21875 34.609375 68.875 \r\nQ 39.203125 63.53125 39.203125 54.390625 \r\nQ 39.203125 45.171875 34.640625 39.84375 \r\nQ 30.078125 34.515625 22.3125 34.515625 \r\nQ 14.546875 34.515625 10.03125 39.859375 \r\nQ 5.515625 45.21875 5.515625 54.390625 \r\nQ 5.515625 63.484375 10.046875 68.84375 \r\nQ 14.59375 74.21875 22.3125 74.21875 \r\nz\r\n\" id=\"DejaVuSans-37\"/>\r\n       </defs>\r\n       <use xlink:href=\"#DejaVuSans-48\"/>\r\n       <use x=\"63.623047\" xlink:href=\"#DejaVuSans-46\"/>\r\n       <use x=\"95.410156\" xlink:href=\"#DejaVuSans-48\"/>\r\n       <use x=\"159.033203\" xlink:href=\"#DejaVuSans-49\"/>\r\n       <use x=\"222.65625\" xlink:href=\"#DejaVuSans-37\"/>\r\n      </g>\r\n     </g>\r\n    </g>\r\n    <g id=\"ytick_2\">\r\n     <g id=\"line2d_59\">\r\n      <path clip-path=\"url(#p470094317b)\" d=\"M 66.007812 356.922099 \r\nL 568.207813 356.922099 \r\n\" style=\"fill:none;stroke:#000000;stroke-linecap:square;stroke-opacity:0.3;stroke-width:0.8;\"/>\r\n     </g>\r\n     <g id=\"line2d_60\">\r\n      <g>\r\n       <use style=\"stroke:#000000;stroke-width:0.8;\" x=\"66.007812\" xlink:href=\"#m907be0e897\" y=\"356.922099\"/>\r\n      </g>\r\n     </g>\r\n     <g id=\"text_7\">\r\n      <!-- 0.03% -->\r\n      <g transform=\"translate(27.240625 360.721317)scale(0.1 -0.1)\">\r\n       <use xlink:href=\"#DejaVuSans-48\"/>\r\n       <use x=\"63.623047\" xlink:href=\"#DejaVuSans-46\"/>\r\n       <use x=\"95.410156\" xlink:href=\"#DejaVuSans-48\"/>\r\n       <use x=\"159.033203\" xlink:href=\"#DejaVuSans-51\"/>\r\n       <use x=\"222.65625\" xlink:href=\"#DejaVuSans-37\"/>\r\n      </g>\r\n     </g>\r\n    </g>\r\n    <g id=\"ytick_3\">\r\n     <g id=\"line2d_61\">\r\n      <path clip-path=\"url(#p470094317b)\" d=\"M 66.007812 319.485796 \r\nL 568.207813 319.485796 \r\n\" style=\"fill:none;stroke:#000000;stroke-linecap:square;stroke-opacity:0.3;stroke-width:0.8;\"/>\r\n     </g>\r\n     <g id=\"line2d_62\">\r\n      <g>\r\n       <use style=\"stroke:#000000;stroke-width:0.8;\" x=\"66.007812\" xlink:href=\"#m907be0e897\" y=\"319.485796\"/>\r\n      </g>\r\n     </g>\r\n     <g id=\"text_8\">\r\n      <!-- 0.10% -->\r\n      <g transform=\"translate(27.240625 323.285015)scale(0.1 -0.1)\">\r\n       <use xlink:href=\"#DejaVuSans-48\"/>\r\n       <use x=\"63.623047\" xlink:href=\"#DejaVuSans-46\"/>\r\n       <use x=\"95.410156\" xlink:href=\"#DejaVuSans-49\"/>\r\n       <use x=\"159.033203\" xlink:href=\"#DejaVuSans-48\"/>\r\n       <use x=\"222.65625\" xlink:href=\"#DejaVuSans-37\"/>\r\n      </g>\r\n     </g>\r\n    </g>\r\n    <g id=\"ytick_4\">\r\n     <g id=\"line2d_63\">\r\n      <path clip-path=\"url(#p470094317b)\" d=\"M 66.007812 297.923798 \r\nL 568.207813 297.923798 \r\n\" style=\"fill:none;stroke:#000000;stroke-linecap:square;stroke-opacity:0.3;stroke-width:0.8;\"/>\r\n     </g>\r\n     <g id=\"line2d_64\">\r\n      <g>\r\n       <use style=\"stroke:#000000;stroke-width:0.8;\" x=\"66.007812\" xlink:href=\"#m907be0e897\" y=\"297.923798\"/>\r\n      </g>\r\n     </g>\r\n     <g id=\"text_9\">\r\n      <!-- 0.20% -->\r\n      <g transform=\"translate(27.240625 301.723017)scale(0.1 -0.1)\">\r\n       <use xlink:href=\"#DejaVuSans-48\"/>\r\n       <use x=\"63.623047\" xlink:href=\"#DejaVuSans-46\"/>\r\n       <use x=\"95.410156\" xlink:href=\"#DejaVuSans-50\"/>\r\n       <use x=\"159.033203\" xlink:href=\"#DejaVuSans-48\"/>\r\n       <use x=\"222.65625\" xlink:href=\"#DejaVuSans-37\"/>\r\n      </g>\r\n     </g>\r\n    </g>\r\n    <g id=\"ytick_5\">\r\n     <g id=\"line2d_65\">\r\n      <path clip-path=\"url(#p470094317b)\" d=\"M 66.007812 285.304367 \r\nL 568.207813 285.304367 \r\n\" style=\"fill:none;stroke:#000000;stroke-linecap:square;stroke-opacity:0.3;stroke-width:0.8;\"/>\r\n     </g>\r\n     <g id=\"line2d_66\">\r\n      <g>\r\n       <use style=\"stroke:#000000;stroke-width:0.8;\" x=\"66.007812\" xlink:href=\"#m907be0e897\" y=\"285.304367\"/>\r\n      </g>\r\n     </g>\r\n     <g id=\"text_10\">\r\n      <!-- 0.30% -->\r\n      <g transform=\"translate(27.240625 289.103585)scale(0.1 -0.1)\">\r\n       <use xlink:href=\"#DejaVuSans-48\"/>\r\n       <use x=\"63.623047\" xlink:href=\"#DejaVuSans-46\"/>\r\n       <use x=\"95.410156\" xlink:href=\"#DejaVuSans-51\"/>\r\n       <use x=\"159.033203\" xlink:href=\"#DejaVuSans-48\"/>\r\n       <use x=\"222.65625\" xlink:href=\"#DejaVuSans-37\"/>\r\n      </g>\r\n     </g>\r\n    </g>\r\n    <g id=\"ytick_6\">\r\n     <g id=\"line2d_67\">\r\n      <path clip-path=\"url(#p470094317b)\" d=\"M 66.007812 269.394196 \r\nL 568.207813 269.394196 \r\n\" style=\"fill:none;stroke:#000000;stroke-linecap:square;stroke-opacity:0.3;stroke-width:0.8;\"/>\r\n     </g>\r\n     <g id=\"line2d_68\">\r\n      <g>\r\n       <use style=\"stroke:#000000;stroke-width:0.8;\" x=\"66.007812\" xlink:href=\"#m907be0e897\" y=\"269.394196\"/>\r\n      </g>\r\n     </g>\r\n     <g id=\"text_11\">\r\n      <!-- 0.50% -->\r\n      <g transform=\"translate(27.240625 273.193415)scale(0.1 -0.1)\">\r\n       <defs>\r\n        <path d=\"M 10.796875 72.90625 \r\nL 49.515625 72.90625 \r\nL 49.515625 64.59375 \r\nL 19.828125 64.59375 \r\nL 19.828125 46.734375 \r\nQ 21.96875 47.46875 24.109375 47.828125 \r\nQ 26.265625 48.1875 28.421875 48.1875 \r\nQ 40.625 48.1875 47.75 41.5 \r\nQ 54.890625 34.8125 54.890625 23.390625 \r\nQ 54.890625 11.625 47.5625 5.09375 \r\nQ 40.234375 -1.421875 26.90625 -1.421875 \r\nQ 22.3125 -1.421875 17.546875 -0.640625 \r\nQ 12.796875 0.140625 7.71875 1.703125 \r\nL 7.71875 11.625 \r\nQ 12.109375 9.234375 16.796875 8.0625 \r\nQ 21.484375 6.890625 26.703125 6.890625 \r\nQ 35.15625 6.890625 40.078125 11.328125 \r\nQ 45.015625 15.765625 45.015625 23.390625 \r\nQ 45.015625 31 40.078125 35.4375 \r\nQ 35.15625 39.890625 26.703125 39.890625 \r\nQ 22.75 39.890625 18.8125 39.015625 \r\nQ 14.890625 38.140625 10.796875 36.28125 \r\nz\r\n\" id=\"DejaVuSans-53\"/>\r\n       </defs>\r\n       <use xlink:href=\"#DejaVuSans-48\"/>\r\n       <use x=\"63.623047\" xlink:href=\"#DejaVuSans-46\"/>\r\n       <use x=\"95.410156\" xlink:href=\"#DejaVuSans-53\"/>\r\n       <use x=\"159.033203\" xlink:href=\"#DejaVuSans-48\"/>\r\n       <use x=\"222.65625\" xlink:href=\"#DejaVuSans-37\"/>\r\n      </g>\r\n     </g>\r\n    </g>\r\n    <g id=\"ytick_7\">\r\n     <g id=\"line2d_69\">\r\n      <path clip-path=\"url(#p470094317b)\" d=\"M 66.007812 247.769559 \r\nL 568.207813 247.769559 \r\n\" style=\"fill:none;stroke:#000000;stroke-linecap:square;stroke-opacity:0.3;stroke-width:0.8;\"/>\r\n     </g>\r\n     <g id=\"line2d_70\">\r\n      <g>\r\n       <use style=\"stroke:#000000;stroke-width:0.8;\" x=\"66.007812\" xlink:href=\"#m907be0e897\" y=\"247.769559\"/>\r\n      </g>\r\n     </g>\r\n     <g id=\"text_12\">\r\n      <!-- 1.00% -->\r\n      <g transform=\"translate(27.240625 251.568778)scale(0.1 -0.1)\">\r\n       <use xlink:href=\"#DejaVuSans-49\"/>\r\n       <use x=\"63.623047\" xlink:href=\"#DejaVuSans-46\"/>\r\n       <use x=\"95.410156\" xlink:href=\"#DejaVuSans-48\"/>\r\n       <use x=\"159.033203\" xlink:href=\"#DejaVuSans-48\"/>\r\n       <use x=\"222.65625\" xlink:href=\"#DejaVuSans-37\"/>\r\n      </g>\r\n     </g>\r\n    </g>\r\n    <g id=\"ytick_8\">\r\n     <g id=\"line2d_71\">\r\n      <path clip-path=\"url(#p470094317b)\" d=\"M 66.007812 226.065728 \r\nL 568.207813 226.065728 \r\n\" style=\"fill:none;stroke:#000000;stroke-linecap:square;stroke-opacity:0.3;stroke-width:0.8;\"/>\r\n     </g>\r\n     <g id=\"line2d_72\">\r\n      <g>\r\n       <use style=\"stroke:#000000;stroke-width:0.8;\" x=\"66.007812\" xlink:href=\"#m907be0e897\" y=\"226.065728\"/>\r\n      </g>\r\n     </g>\r\n     <g id=\"text_13\">\r\n      <!-- 2.00% -->\r\n      <g transform=\"translate(27.240625 229.864947)scale(0.1 -0.1)\">\r\n       <use xlink:href=\"#DejaVuSans-50\"/>\r\n       <use x=\"63.623047\" xlink:href=\"#DejaVuSans-46\"/>\r\n       <use x=\"95.410156\" xlink:href=\"#DejaVuSans-48\"/>\r\n       <use x=\"159.033203\" xlink:href=\"#DejaVuSans-48\"/>\r\n       <use x=\"222.65625\" xlink:href=\"#DejaVuSans-37\"/>\r\n      </g>\r\n     </g>\r\n    </g>\r\n    <g id=\"ytick_9\">\r\n     <g id=\"line2d_73\">\r\n      <path clip-path=\"url(#p470094317b)\" d=\"M 66.007812 213.303133 \r\nL 568.207813 213.303133 \r\n\" style=\"fill:none;stroke:#000000;stroke-linecap:square;stroke-opacity:0.3;stroke-width:0.8;\"/>\r\n     </g>\r\n     <g id=\"line2d_74\">\r\n      <g>\r\n       <use style=\"stroke:#000000;stroke-width:0.8;\" x=\"66.007812\" xlink:href=\"#m907be0e897\" y=\"213.303133\"/>\r\n      </g>\r\n     </g>\r\n     <g id=\"text_14\">\r\n      <!-- 3.00% -->\r\n      <g transform=\"translate(27.240625 217.102352)scale(0.1 -0.1)\">\r\n       <use xlink:href=\"#DejaVuSans-51\"/>\r\n       <use x=\"63.623047\" xlink:href=\"#DejaVuSans-46\"/>\r\n       <use x=\"95.410156\" xlink:href=\"#DejaVuSans-48\"/>\r\n       <use x=\"159.033203\" xlink:href=\"#DejaVuSans-48\"/>\r\n       <use x=\"222.65625\" xlink:href=\"#DejaVuSans-37\"/>\r\n      </g>\r\n     </g>\r\n    </g>\r\n    <g id=\"ytick_10\">\r\n     <g id=\"line2d_75\">\r\n      <path clip-path=\"url(#p470094317b)\" d=\"M 66.007812 197.102544 \r\nL 568.207813 197.102544 \r\n\" style=\"fill:none;stroke:#000000;stroke-linecap:square;stroke-opacity:0.3;stroke-width:0.8;\"/>\r\n     </g>\r\n     <g id=\"line2d_76\">\r\n      <g>\r\n       <use style=\"stroke:#000000;stroke-width:0.8;\" x=\"66.007812\" xlink:href=\"#m907be0e897\" y=\"197.102544\"/>\r\n      </g>\r\n     </g>\r\n     <g id=\"text_15\">\r\n      <!-- 5.00% -->\r\n      <g transform=\"translate(27.240625 200.901763)scale(0.1 -0.1)\">\r\n       <use xlink:href=\"#DejaVuSans-53\"/>\r\n       <use x=\"63.623047\" xlink:href=\"#DejaVuSans-46\"/>\r\n       <use x=\"95.410156\" xlink:href=\"#DejaVuSans-48\"/>\r\n       <use x=\"159.033203\" xlink:href=\"#DejaVuSans-48\"/>\r\n       <use x=\"222.65625\" xlink:href=\"#DejaVuSans-37\"/>\r\n      </g>\r\n     </g>\r\n    </g>\r\n    <g id=\"ytick_11\">\r\n     <g id=\"line2d_77\">\r\n      <path clip-path=\"url(#p470094317b)\" d=\"M 66.007812 174.72674 \r\nL 568.207813 174.72674 \r\n\" style=\"fill:none;stroke:#000000;stroke-linecap:square;stroke-opacity:0.3;stroke-width:0.8;\"/>\r\n     </g>\r\n     <g id=\"line2d_78\">\r\n      <g>\r\n       <use style=\"stroke:#000000;stroke-width:0.8;\" x=\"66.007812\" xlink:href=\"#m907be0e897\" y=\"174.72674\"/>\r\n      </g>\r\n     </g>\r\n     <g id=\"text_16\">\r\n      <!-- 10.00% -->\r\n      <g transform=\"translate(20.878125 178.525958)scale(0.1 -0.1)\">\r\n       <use xlink:href=\"#DejaVuSans-49\"/>\r\n       <use x=\"63.623047\" xlink:href=\"#DejaVuSans-48\"/>\r\n       <use x=\"127.246094\" xlink:href=\"#DejaVuSans-46\"/>\r\n       <use x=\"159.033203\" xlink:href=\"#DejaVuSans-48\"/>\r\n       <use x=\"222.65625\" xlink:href=\"#DejaVuSans-48\"/>\r\n       <use x=\"286.279297\" xlink:href=\"#DejaVuSans-37\"/>\r\n      </g>\r\n     </g>\r\n    </g>\r\n    <g id=\"ytick_12\">\r\n     <g id=\"line2d_79\">\r\n      <path clip-path=\"url(#p470094317b)\" d=\"M 66.007812 151.399754 \r\nL 568.207813 151.399754 \r\n\" style=\"fill:none;stroke:#000000;stroke-linecap:square;stroke-opacity:0.3;stroke-width:0.8;\"/>\r\n     </g>\r\n     <g id=\"line2d_80\">\r\n      <g>\r\n       <use style=\"stroke:#000000;stroke-width:0.8;\" x=\"66.007812\" xlink:href=\"#m907be0e897\" y=\"151.399754\"/>\r\n      </g>\r\n     </g>\r\n     <g id=\"text_17\">\r\n      <!-- 20.00% -->\r\n      <g transform=\"translate(20.878125 155.198973)scale(0.1 -0.1)\">\r\n       <use xlink:href=\"#DejaVuSans-50\"/>\r\n       <use x=\"63.623047\" xlink:href=\"#DejaVuSans-48\"/>\r\n       <use x=\"127.246094\" xlink:href=\"#DejaVuSans-46\"/>\r\n       <use x=\"159.033203\" xlink:href=\"#DejaVuSans-48\"/>\r\n       <use x=\"222.65625\" xlink:href=\"#DejaVuSans-48\"/>\r\n       <use x=\"286.279297\" xlink:href=\"#DejaVuSans-37\"/>\r\n      </g>\r\n     </g>\r\n    </g>\r\n    <g id=\"ytick_13\">\r\n     <g id=\"line2d_81\">\r\n      <path clip-path=\"url(#p470094317b)\" d=\"M 66.007812 136.820622 \r\nL 568.207813 136.820622 \r\n\" style=\"fill:none;stroke:#000000;stroke-linecap:square;stroke-opacity:0.3;stroke-width:0.8;\"/>\r\n     </g>\r\n     <g id=\"line2d_82\">\r\n      <g>\r\n       <use style=\"stroke:#000000;stroke-width:0.8;\" x=\"66.007812\" xlink:href=\"#m907be0e897\" y=\"136.820622\"/>\r\n      </g>\r\n     </g>\r\n     <g id=\"text_18\">\r\n      <!-- 30.00% -->\r\n      <g transform=\"translate(20.878125 140.619841)scale(0.1 -0.1)\">\r\n       <use xlink:href=\"#DejaVuSans-51\"/>\r\n       <use x=\"63.623047\" xlink:href=\"#DejaVuSans-48\"/>\r\n       <use x=\"127.246094\" xlink:href=\"#DejaVuSans-46\"/>\r\n       <use x=\"159.033203\" xlink:href=\"#DejaVuSans-48\"/>\r\n       <use x=\"222.65625\" xlink:href=\"#DejaVuSans-48\"/>\r\n       <use x=\"286.279297\" xlink:href=\"#DejaVuSans-37\"/>\r\n      </g>\r\n     </g>\r\n    </g>\r\n    <g id=\"ytick_14\">\r\n     <g id=\"line2d_83\">\r\n      <path clip-path=\"url(#p470094317b)\" d=\"M 66.007812 125.654806 \r\nL 568.207813 125.654806 \r\n\" style=\"fill:none;stroke:#000000;stroke-linecap:square;stroke-opacity:0.3;stroke-width:0.8;\"/>\r\n     </g>\r\n     <g id=\"line2d_84\">\r\n      <g>\r\n       <use style=\"stroke:#000000;stroke-width:0.8;\" x=\"66.007812\" xlink:href=\"#m907be0e897\" y=\"125.654806\"/>\r\n      </g>\r\n     </g>\r\n     <g id=\"text_19\">\r\n      <!-- 40.00% -->\r\n      <g transform=\"translate(20.878125 129.454025)scale(0.1 -0.1)\">\r\n       <defs>\r\n        <path d=\"M 37.796875 64.3125 \r\nL 12.890625 25.390625 \r\nL 37.796875 25.390625 \r\nz\r\nM 35.203125 72.90625 \r\nL 47.609375 72.90625 \r\nL 47.609375 25.390625 \r\nL 58.015625 25.390625 \r\nL 58.015625 17.1875 \r\nL 47.609375 17.1875 \r\nL 47.609375 0 \r\nL 37.796875 0 \r\nL 37.796875 17.1875 \r\nL 4.890625 17.1875 \r\nL 4.890625 26.703125 \r\nz\r\n\" id=\"DejaVuSans-52\"/>\r\n       </defs>\r\n       <use xlink:href=\"#DejaVuSans-52\"/>\r\n       <use x=\"63.623047\" xlink:href=\"#DejaVuSans-48\"/>\r\n       <use x=\"127.246094\" xlink:href=\"#DejaVuSans-46\"/>\r\n       <use x=\"159.033203\" xlink:href=\"#DejaVuSans-48\"/>\r\n       <use x=\"222.65625\" xlink:href=\"#DejaVuSans-48\"/>\r\n       <use x=\"286.279297\" xlink:href=\"#DejaVuSans-37\"/>\r\n      </g>\r\n     </g>\r\n    </g>\r\n    <g id=\"ytick_15\">\r\n     <g id=\"line2d_85\">\r\n      <path clip-path=\"url(#p470094317b)\" d=\"M 66.007812 116.167247 \r\nL 568.207813 116.167247 \r\n\" style=\"fill:none;stroke:#000000;stroke-linecap:square;stroke-opacity:0.3;stroke-width:0.8;\"/>\r\n     </g>\r\n     <g id=\"line2d_86\">\r\n      <g>\r\n       <use style=\"stroke:#000000;stroke-width:0.8;\" x=\"66.007812\" xlink:href=\"#m907be0e897\" y=\"116.167247\"/>\r\n      </g>\r\n     </g>\r\n     <g id=\"text_20\">\r\n      <!-- 50.00% -->\r\n      <g transform=\"translate(20.878125 119.966465)scale(0.1 -0.1)\">\r\n       <use xlink:href=\"#DejaVuSans-53\"/>\r\n       <use x=\"63.623047\" xlink:href=\"#DejaVuSans-48\"/>\r\n       <use x=\"127.246094\" xlink:href=\"#DejaVuSans-46\"/>\r\n       <use x=\"159.033203\" xlink:href=\"#DejaVuSans-48\"/>\r\n       <use x=\"222.65625\" xlink:href=\"#DejaVuSans-48\"/>\r\n       <use x=\"286.279297\" xlink:href=\"#DejaVuSans-37\"/>\r\n      </g>\r\n     </g>\r\n    </g>\r\n    <g id=\"ytick_16\">\r\n     <g id=\"line2d_87\">\r\n      <path clip-path=\"url(#p470094317b)\" d=\"M 66.007812 107.49171 \r\nL 568.207813 107.49171 \r\n\" style=\"fill:none;stroke:#000000;stroke-linecap:square;stroke-opacity:0.3;stroke-width:0.8;\"/>\r\n     </g>\r\n     <g id=\"line2d_88\">\r\n      <g>\r\n       <use style=\"stroke:#000000;stroke-width:0.8;\" x=\"66.007812\" xlink:href=\"#m907be0e897\" y=\"107.49171\"/>\r\n      </g>\r\n     </g>\r\n     <g id=\"text_21\">\r\n      <!-- 60.00% -->\r\n      <g transform=\"translate(20.878125 111.290929)scale(0.1 -0.1)\">\r\n       <defs>\r\n        <path d=\"M 33.015625 40.375 \r\nQ 26.375 40.375 22.484375 35.828125 \r\nQ 18.609375 31.296875 18.609375 23.390625 \r\nQ 18.609375 15.53125 22.484375 10.953125 \r\nQ 26.375 6.390625 33.015625 6.390625 \r\nQ 39.65625 6.390625 43.53125 10.953125 \r\nQ 47.40625 15.53125 47.40625 23.390625 \r\nQ 47.40625 31.296875 43.53125 35.828125 \r\nQ 39.65625 40.375 33.015625 40.375 \r\nz\r\nM 52.59375 71.296875 \r\nL 52.59375 62.3125 \r\nQ 48.875 64.0625 45.09375 64.984375 \r\nQ 41.3125 65.921875 37.59375 65.921875 \r\nQ 27.828125 65.921875 22.671875 59.328125 \r\nQ 17.53125 52.734375 16.796875 39.40625 \r\nQ 19.671875 43.65625 24.015625 45.921875 \r\nQ 28.375 48.1875 33.59375 48.1875 \r\nQ 44.578125 48.1875 50.953125 41.515625 \r\nQ 57.328125 34.859375 57.328125 23.390625 \r\nQ 57.328125 12.15625 50.6875 5.359375 \r\nQ 44.046875 -1.421875 33.015625 -1.421875 \r\nQ 20.359375 -1.421875 13.671875 8.265625 \r\nQ 6.984375 17.96875 6.984375 36.375 \r\nQ 6.984375 53.65625 15.1875 63.9375 \r\nQ 23.390625 74.21875 37.203125 74.21875 \r\nQ 40.921875 74.21875 44.703125 73.484375 \r\nQ 48.484375 72.75 52.59375 71.296875 \r\nz\r\n\" id=\"DejaVuSans-54\"/>\r\n       </defs>\r\n       <use xlink:href=\"#DejaVuSans-54\"/>\r\n       <use x=\"63.623047\" xlink:href=\"#DejaVuSans-48\"/>\r\n       <use x=\"127.246094\" xlink:href=\"#DejaVuSans-46\"/>\r\n       <use x=\"159.033203\" xlink:href=\"#DejaVuSans-48\"/>\r\n       <use x=\"222.65625\" xlink:href=\"#DejaVuSans-48\"/>\r\n       <use x=\"286.279297\" xlink:href=\"#DejaVuSans-37\"/>\r\n      </g>\r\n     </g>\r\n    </g>\r\n    <g id=\"ytick_17\">\r\n     <g id=\"line2d_89\">\r\n      <path clip-path=\"url(#p470094317b)\" d=\"M 66.007812 99.00402 \r\nL 568.207813 99.00402 \r\n\" style=\"fill:none;stroke:#000000;stroke-linecap:square;stroke-opacity:0.3;stroke-width:0.8;\"/>\r\n     </g>\r\n     <g id=\"line2d_90\">\r\n      <g>\r\n       <use style=\"stroke:#000000;stroke-width:0.8;\" x=\"66.007812\" xlink:href=\"#m907be0e897\" y=\"99.00402\"/>\r\n      </g>\r\n     </g>\r\n     <g id=\"text_22\">\r\n      <!-- 70.00% -->\r\n      <g transform=\"translate(20.878125 102.803239)scale(0.1 -0.1)\">\r\n       <defs>\r\n        <path d=\"M 8.203125 72.90625 \r\nL 55.078125 72.90625 \r\nL 55.078125 68.703125 \r\nL 28.609375 0 \r\nL 18.3125 0 \r\nL 43.21875 64.59375 \r\nL 8.203125 64.59375 \r\nz\r\n\" id=\"DejaVuSans-55\"/>\r\n       </defs>\r\n       <use xlink:href=\"#DejaVuSans-55\"/>\r\n       <use x=\"63.623047\" xlink:href=\"#DejaVuSans-48\"/>\r\n       <use x=\"127.246094\" xlink:href=\"#DejaVuSans-46\"/>\r\n       <use x=\"159.033203\" xlink:href=\"#DejaVuSans-48\"/>\r\n       <use x=\"222.65625\" xlink:href=\"#DejaVuSans-48\"/>\r\n       <use x=\"286.279297\" xlink:href=\"#DejaVuSans-37\"/>\r\n      </g>\r\n     </g>\r\n    </g>\r\n    <g id=\"ytick_18\">\r\n     <g id=\"line2d_91\">\r\n      <path clip-path=\"url(#p470094317b)\" d=\"M 66.007812 89.981362 \r\nL 568.207813 89.981362 \r\n\" style=\"fill:none;stroke:#000000;stroke-linecap:square;stroke-opacity:0.3;stroke-width:0.8;\"/>\r\n     </g>\r\n     <g id=\"line2d_92\">\r\n      <g>\r\n       <use style=\"stroke:#000000;stroke-width:0.8;\" x=\"66.007812\" xlink:href=\"#m907be0e897\" y=\"89.981362\"/>\r\n      </g>\r\n     </g>\r\n     <g id=\"text_23\">\r\n      <!-- 80.00% -->\r\n      <g transform=\"translate(20.878125 93.78058)scale(0.1 -0.1)\">\r\n       <defs>\r\n        <path d=\"M 31.78125 34.625 \r\nQ 24.75 34.625 20.71875 30.859375 \r\nQ 16.703125 27.09375 16.703125 20.515625 \r\nQ 16.703125 13.921875 20.71875 10.15625 \r\nQ 24.75 6.390625 31.78125 6.390625 \r\nQ 38.8125 6.390625 42.859375 10.171875 \r\nQ 46.921875 13.96875 46.921875 20.515625 \r\nQ 46.921875 27.09375 42.890625 30.859375 \r\nQ 38.875 34.625 31.78125 34.625 \r\nz\r\nM 21.921875 38.8125 \r\nQ 15.578125 40.375 12.03125 44.71875 \r\nQ 8.5 49.078125 8.5 55.328125 \r\nQ 8.5 64.0625 14.71875 69.140625 \r\nQ 20.953125 74.21875 31.78125 74.21875 \r\nQ 42.671875 74.21875 48.875 69.140625 \r\nQ 55.078125 64.0625 55.078125 55.328125 \r\nQ 55.078125 49.078125 51.53125 44.71875 \r\nQ 48 40.375 41.703125 38.8125 \r\nQ 48.828125 37.15625 52.796875 32.3125 \r\nQ 56.78125 27.484375 56.78125 20.515625 \r\nQ 56.78125 9.90625 50.3125 4.234375 \r\nQ 43.84375 -1.421875 31.78125 -1.421875 \r\nQ 19.734375 -1.421875 13.25 4.234375 \r\nQ 6.78125 9.90625 6.78125 20.515625 \r\nQ 6.78125 27.484375 10.78125 32.3125 \r\nQ 14.796875 37.15625 21.921875 38.8125 \r\nz\r\nM 18.3125 54.390625 \r\nQ 18.3125 48.734375 21.84375 45.5625 \r\nQ 25.390625 42.390625 31.78125 42.390625 \r\nQ 38.140625 42.390625 41.71875 45.5625 \r\nQ 45.3125 48.734375 45.3125 54.390625 \r\nQ 45.3125 60.0625 41.71875 63.234375 \r\nQ 38.140625 66.40625 31.78125 66.40625 \r\nQ 25.390625 66.40625 21.84375 63.234375 \r\nQ 18.3125 60.0625 18.3125 54.390625 \r\nz\r\n\" id=\"DejaVuSans-56\"/>\r\n       </defs>\r\n       <use xlink:href=\"#DejaVuSans-56\"/>\r\n       <use x=\"63.623047\" xlink:href=\"#DejaVuSans-48\"/>\r\n       <use x=\"127.246094\" xlink:href=\"#DejaVuSans-46\"/>\r\n       <use x=\"159.033203\" xlink:href=\"#DejaVuSans-48\"/>\r\n       <use x=\"222.65625\" xlink:href=\"#DejaVuSans-48\"/>\r\n       <use x=\"286.279297\" xlink:href=\"#DejaVuSans-37\"/>\r\n      </g>\r\n     </g>\r\n    </g>\r\n    <g id=\"ytick_19\">\r\n     <g id=\"line2d_93\">\r\n      <path clip-path=\"url(#p470094317b)\" d=\"M 66.007812 78.848371 \r\nL 568.207813 78.848371 \r\n\" style=\"fill:none;stroke:#000000;stroke-linecap:square;stroke-opacity:0.3;stroke-width:0.8;\"/>\r\n     </g>\r\n     <g id=\"line2d_94\">\r\n      <g>\r\n       <use style=\"stroke:#000000;stroke-width:0.8;\" x=\"66.007812\" xlink:href=\"#m907be0e897\" y=\"78.848371\"/>\r\n      </g>\r\n     </g>\r\n     <g id=\"text_24\">\r\n      <!-- 90.00% -->\r\n      <g transform=\"translate(20.878125 82.64759)scale(0.1 -0.1)\">\r\n       <defs>\r\n        <path d=\"M 10.984375 1.515625 \r\nL 10.984375 10.5 \r\nQ 14.703125 8.734375 18.5 7.8125 \r\nQ 22.3125 6.890625 25.984375 6.890625 \r\nQ 35.75 6.890625 40.890625 13.453125 \r\nQ 46.046875 20.015625 46.78125 33.40625 \r\nQ 43.953125 29.203125 39.59375 26.953125 \r\nQ 35.25 24.703125 29.984375 24.703125 \r\nQ 19.046875 24.703125 12.671875 31.3125 \r\nQ 6.296875 37.9375 6.296875 49.421875 \r\nQ 6.296875 60.640625 12.9375 67.421875 \r\nQ 19.578125 74.21875 30.609375 74.21875 \r\nQ 43.265625 74.21875 49.921875 64.515625 \r\nQ 56.59375 54.828125 56.59375 36.375 \r\nQ 56.59375 19.140625 48.40625 8.859375 \r\nQ 40.234375 -1.421875 26.421875 -1.421875 \r\nQ 22.703125 -1.421875 18.890625 -0.6875 \r\nQ 15.09375 0.046875 10.984375 1.515625 \r\nz\r\nM 30.609375 32.421875 \r\nQ 37.25 32.421875 41.125 36.953125 \r\nQ 45.015625 41.5 45.015625 49.421875 \r\nQ 45.015625 57.28125 41.125 61.84375 \r\nQ 37.25 66.40625 30.609375 66.40625 \r\nQ 23.96875 66.40625 20.09375 61.84375 \r\nQ 16.21875 57.28125 16.21875 49.421875 \r\nQ 16.21875 41.5 20.09375 36.953125 \r\nQ 23.96875 32.421875 30.609375 32.421875 \r\nz\r\n\" id=\"DejaVuSans-57\"/>\r\n       </defs>\r\n       <use xlink:href=\"#DejaVuSans-57\"/>\r\n       <use x=\"63.623047\" xlink:href=\"#DejaVuSans-48\"/>\r\n       <use x=\"127.246094\" xlink:href=\"#DejaVuSans-46\"/>\r\n       <use x=\"159.033203\" xlink:href=\"#DejaVuSans-48\"/>\r\n       <use x=\"222.65625\" xlink:href=\"#DejaVuSans-48\"/>\r\n       <use x=\"286.279297\" xlink:href=\"#DejaVuSans-37\"/>\r\n      </g>\r\n     </g>\r\n    </g>\r\n    <g id=\"ytick_20\">\r\n     <g id=\"line2d_95\">\r\n      <path clip-path=\"url(#p470094317b)\" d=\"M 66.007812 70.668176 \r\nL 568.207813 70.668176 \r\n\" style=\"fill:none;stroke:#000000;stroke-linecap:square;stroke-opacity:0.3;stroke-width:0.8;\"/>\r\n     </g>\r\n     <g id=\"line2d_96\">\r\n      <g>\r\n       <use style=\"stroke:#000000;stroke-width:0.8;\" x=\"66.007812\" xlink:href=\"#m907be0e897\" y=\"70.668176\"/>\r\n      </g>\r\n     </g>\r\n     <g id=\"text_25\">\r\n      <!-- 95.00% -->\r\n      <g transform=\"translate(20.878125 74.467395)scale(0.1 -0.1)\">\r\n       <use xlink:href=\"#DejaVuSans-57\"/>\r\n       <use x=\"63.623047\" xlink:href=\"#DejaVuSans-53\"/>\r\n       <use x=\"127.246094\" xlink:href=\"#DejaVuSans-46\"/>\r\n       <use x=\"159.033203\" xlink:href=\"#DejaVuSans-48\"/>\r\n       <use x=\"222.65625\" xlink:href=\"#DejaVuSans-48\"/>\r\n       <use x=\"286.279297\" xlink:href=\"#DejaVuSans-37\"/>\r\n      </g>\r\n     </g>\r\n    </g>\r\n    <g id=\"ytick_21\">\r\n     <g id=\"line2d_97\">\r\n      <path clip-path=\"url(#p470094317b)\" d=\"M 66.007812 57.301936 \r\nL 568.207813 57.301936 \r\n\" style=\"fill:none;stroke:#000000;stroke-linecap:square;stroke-opacity:0.3;stroke-width:0.8;\"/>\r\n     </g>\r\n     <g id=\"line2d_98\">\r\n      <g>\r\n       <use style=\"stroke:#000000;stroke-width:0.8;\" x=\"66.007812\" xlink:href=\"#m907be0e897\" y=\"57.301936\"/>\r\n      </g>\r\n     </g>\r\n     <g id=\"text_26\">\r\n      <!-- 99.00% -->\r\n      <g transform=\"translate(20.878125 61.101154)scale(0.1 -0.1)\">\r\n       <use xlink:href=\"#DejaVuSans-57\"/>\r\n       <use x=\"63.623047\" xlink:href=\"#DejaVuSans-57\"/>\r\n       <use x=\"127.246094\" xlink:href=\"#DejaVuSans-46\"/>\r\n       <use x=\"159.033203\" xlink:href=\"#DejaVuSans-48\"/>\r\n       <use x=\"222.65625\" xlink:href=\"#DejaVuSans-48\"/>\r\n       <use x=\"286.279297\" xlink:href=\"#DejaVuSans-37\"/>\r\n      </g>\r\n     </g>\r\n    </g>\r\n    <g id=\"ytick_22\">\r\n     <g id=\"line2d_99\">\r\n      <path clip-path=\"url(#p470094317b)\" d=\"M 66.007812 44.698079 \r\nL 568.207813 44.698079 \r\n\" style=\"fill:none;stroke:#000000;stroke-linecap:square;stroke-opacity:0.3;stroke-width:0.8;\"/>\r\n     </g>\r\n     <g id=\"line2d_100\">\r\n      <g>\r\n       <use style=\"stroke:#000000;stroke-width:0.8;\" x=\"66.007812\" xlink:href=\"#m907be0e897\" y=\"44.698079\"/>\r\n      </g>\r\n     </g>\r\n     <g id=\"text_27\">\r\n      <!-- 99.90% -->\r\n      <g transform=\"translate(20.878125 48.497297)scale(0.1 -0.1)\">\r\n       <use xlink:href=\"#DejaVuSans-57\"/>\r\n       <use x=\"63.623047\" xlink:href=\"#DejaVuSans-57\"/>\r\n       <use x=\"127.246094\" xlink:href=\"#DejaVuSans-46\"/>\r\n       <use x=\"159.033203\" xlink:href=\"#DejaVuSans-57\"/>\r\n       <use x=\"222.65625\" xlink:href=\"#DejaVuSans-48\"/>\r\n       <use x=\"286.279297\" xlink:href=\"#DejaVuSans-37\"/>\r\n      </g>\r\n     </g>\r\n    </g>\r\n    <g id=\"ytick_23\">\r\n     <g id=\"line2d_101\">\r\n      <path clip-path=\"url(#p470094317b)\" d=\"M 66.007812 35.7555 \r\nL 568.207813 35.7555 \r\n\" style=\"fill:none;stroke:#000000;stroke-linecap:square;stroke-opacity:0.3;stroke-width:0.8;\"/>\r\n     </g>\r\n     <g id=\"line2d_102\">\r\n      <g>\r\n       <use style=\"stroke:#000000;stroke-width:0.8;\" x=\"66.007812\" xlink:href=\"#m907be0e897\" y=\"35.7555\"/>\r\n      </g>\r\n     </g>\r\n     <g id=\"text_28\">\r\n      <!-- 99.99% -->\r\n      <g transform=\"translate(20.878125 39.554719)scale(0.1 -0.1)\">\r\n       <use xlink:href=\"#DejaVuSans-57\"/>\r\n       <use x=\"63.623047\" xlink:href=\"#DejaVuSans-57\"/>\r\n       <use x=\"127.246094\" xlink:href=\"#DejaVuSans-46\"/>\r\n       <use x=\"159.033203\" xlink:href=\"#DejaVuSans-57\"/>\r\n       <use x=\"222.65625\" xlink:href=\"#DejaVuSans-57\"/>\r\n       <use x=\"286.279297\" xlink:href=\"#DejaVuSans-37\"/>\r\n      </g>\r\n     </g>\r\n    </g>\r\n    <g id=\"ytick_24\">\r\n     <g id=\"line2d_103\">\r\n      <path clip-path=\"url(#p470094317b)\" d=\"M 66.007812 204.200448 \r\nL 568.207813 204.200448 \r\n\" style=\"fill:none;stroke:#000000;stroke-linecap:square;stroke-opacity:0.08;stroke-width:0.8;\"/>\r\n     </g>\r\n     <g id=\"line2d_104\">\r\n      <defs>\r\n       <path d=\"M 0 0 \r\nL -2 0 \r\n\" id=\"m4703f07158\" style=\"stroke:#000000;stroke-width:0.6;\"/>\r\n      </defs>\r\n      <g>\r\n       <use style=\"stroke:#000000;stroke-width:0.6;\" x=\"66.007812\" xlink:href=\"#m4703f07158\" y=\"204.200448\"/>\r\n      </g>\r\n     </g>\r\n    </g>\r\n    <g id=\"ytick_25\">\r\n     <g id=\"line2d_105\">\r\n      <path clip-path=\"url(#p470094317b)\" d=\"M 66.007812 191.272169 \r\nL 568.207813 191.272169 \r\n\" style=\"fill:none;stroke:#000000;stroke-linecap:square;stroke-opacity:0.08;stroke-width:0.8;\"/>\r\n     </g>\r\n     <g id=\"line2d_106\">\r\n      <g>\r\n       <use style=\"stroke:#000000;stroke-width:0.6;\" x=\"66.007812\" xlink:href=\"#m4703f07158\" y=\"191.272169\"/>\r\n      </g>\r\n     </g>\r\n    </g>\r\n    <g id=\"ytick_26\">\r\n     <g id=\"line2d_107\">\r\n      <path clip-path=\"url(#p470094317b)\" d=\"M 66.007812 181.999377 \r\nL 568.207813 181.999377 \r\n\" style=\"fill:none;stroke:#000000;stroke-linecap:square;stroke-opacity:0.08;stroke-width:0.8;\"/>\r\n     </g>\r\n     <g id=\"line2d_108\">\r\n      <g>\r\n       <use style=\"stroke:#000000;stroke-width:0.6;\" x=\"66.007812\" xlink:href=\"#m4703f07158\" y=\"181.999377\"/>\r\n      </g>\r\n     </g>\r\n    </g>\r\n    <g id=\"ytick_27\">\r\n     <g id=\"line2d_109\">\r\n      <path clip-path=\"url(#p470094317b)\" d=\"M 66.007812 168.716788 \r\nL 568.207813 168.716788 \r\n\" style=\"fill:none;stroke:#000000;stroke-linecap:square;stroke-opacity:0.08;stroke-width:0.8;\"/>\r\n     </g>\r\n     <g id=\"line2d_110\">\r\n      <g>\r\n       <use style=\"stroke:#000000;stroke-width:0.6;\" x=\"66.007812\" xlink:href=\"#m4703f07158\" y=\"168.716788\"/>\r\n      </g>\r\n     </g>\r\n    </g>\r\n    <g id=\"ytick_28\">\r\n     <g id=\"line2d_111\">\r\n      <path clip-path=\"url(#p470094317b)\" d=\"M 66.007812 163.576005 \r\nL 568.207813 163.576005 \r\n\" style=\"fill:none;stroke:#000000;stroke-linecap:square;stroke-opacity:0.08;stroke-width:0.8;\"/>\r\n     </g>\r\n     <g id=\"line2d_112\">\r\n      <g>\r\n       <use style=\"stroke:#000000;stroke-width:0.6;\" x=\"66.007812\" xlink:href=\"#m4703f07158\" y=\"163.576005\"/>\r\n      </g>\r\n     </g>\r\n    </g>\r\n    <g id=\"ytick_29\">\r\n     <g id=\"line2d_113\">\r\n      <path clip-path=\"url(#p470094317b)\" d=\"M 66.007812 159.069374 \r\nL 568.207813 159.069374 \r\n\" style=\"fill:none;stroke:#000000;stroke-linecap:square;stroke-opacity:0.08;stroke-width:0.8;\"/>\r\n     </g>\r\n     <g id=\"line2d_114\">\r\n      <g>\r\n       <use style=\"stroke:#000000;stroke-width:0.6;\" x=\"66.007812\" xlink:href=\"#m4703f07158\" y=\"159.069374\"/>\r\n      </g>\r\n     </g>\r\n    </g>\r\n    <g id=\"ytick_30\">\r\n     <g id=\"line2d_115\">\r\n      <path clip-path=\"url(#p470094317b)\" d=\"M 66.007812 155.04519 \r\nL 568.207813 155.04519 \r\n\" style=\"fill:none;stroke:#000000;stroke-linecap:square;stroke-opacity:0.08;stroke-width:0.8;\"/>\r\n     </g>\r\n     <g id=\"line2d_116\">\r\n      <g>\r\n       <use style=\"stroke:#000000;stroke-width:0.6;\" x=\"66.007812\" xlink:href=\"#m4703f07158\" y=\"155.04519\"/>\r\n      </g>\r\n     </g>\r\n    </g>\r\n    <g id=\"ytick_31\">\r\n     <g id=\"line2d_117\">\r\n      <path clip-path=\"url(#p470094317b)\" d=\"M 66.007812 148.058992 \r\nL 568.207813 148.058992 \r\n\" style=\"fill:none;stroke:#000000;stroke-linecap:square;stroke-opacity:0.08;stroke-width:0.8;\"/>\r\n     </g>\r\n     <g id=\"line2d_118\">\r\n      <g>\r\n       <use style=\"stroke:#000000;stroke-width:0.6;\" x=\"66.007812\" xlink:href=\"#m4703f07158\" y=\"148.058992\"/>\r\n      </g>\r\n     </g>\r\n    </g>\r\n    <g id=\"ytick_32\">\r\n     <g id=\"line2d_119\">\r\n      <path clip-path=\"url(#p470094317b)\" d=\"M 66.007812 144.968098 \r\nL 568.207813 144.968098 \r\n\" style=\"fill:none;stroke:#000000;stroke-linecap:square;stroke-opacity:0.08;stroke-width:0.8;\"/>\r\n     </g>\r\n     <g id=\"line2d_120\">\r\n      <g>\r\n       <use style=\"stroke:#000000;stroke-width:0.6;\" x=\"66.007812\" xlink:href=\"#m4703f07158\" y=\"144.968098\"/>\r\n      </g>\r\n     </g>\r\n    </g>\r\n    <g id=\"ytick_33\">\r\n     <g id=\"line2d_121\">\r\n      <path clip-path=\"url(#p470094317b)\" d=\"M 66.007812 142.085338 \r\nL 568.207813 142.085338 \r\n\" style=\"fill:none;stroke:#000000;stroke-linecap:square;stroke-opacity:0.08;stroke-width:0.8;\"/>\r\n     </g>\r\n     <g id=\"line2d_122\">\r\n      <g>\r\n       <use style=\"stroke:#000000;stroke-width:0.6;\" x=\"66.007812\" xlink:href=\"#m4703f07158\" y=\"142.085338\"/>\r\n      </g>\r\n     </g>\r\n    </g>\r\n    <g id=\"ytick_34\">\r\n     <g id=\"line2d_123\">\r\n      <path clip-path=\"url(#p470094317b)\" d=\"M 66.007812 139.378155 \r\nL 568.207813 139.378155 \r\n\" style=\"fill:none;stroke:#000000;stroke-linecap:square;stroke-opacity:0.08;stroke-width:0.8;\"/>\r\n     </g>\r\n     <g id=\"line2d_124\">\r\n      <g>\r\n       <use style=\"stroke:#000000;stroke-width:0.6;\" x=\"66.007812\" xlink:href=\"#m4703f07158\" y=\"139.378155\"/>\r\n      </g>\r\n     </g>\r\n    </g>\r\n    <g id=\"ytick_35\">\r\n     <g id=\"line2d_125\">\r\n      <path clip-path=\"url(#p470094317b)\" d=\"M 66.007812 134.391716 \r\nL 568.207813 134.391716 \r\n\" style=\"fill:none;stroke:#000000;stroke-linecap:square;stroke-opacity:0.08;stroke-width:0.8;\"/>\r\n     </g>\r\n     <g id=\"line2d_126\">\r\n      <g>\r\n       <use style=\"stroke:#000000;stroke-width:0.6;\" x=\"66.007812\" xlink:href=\"#m4703f07158\" y=\"134.391716\"/>\r\n      </g>\r\n     </g>\r\n    </g>\r\n    <g id=\"ytick_36\">\r\n     <g id=\"line2d_127\">\r\n      <path clip-path=\"url(#p470094317b)\" d=\"M 66.007812 132.07411 \r\nL 568.207813 132.07411 \r\n\" style=\"fill:none;stroke:#000000;stroke-linecap:square;stroke-opacity:0.08;stroke-width:0.8;\"/>\r\n     </g>\r\n     <g id=\"line2d_128\">\r\n      <g>\r\n       <use style=\"stroke:#000000;stroke-width:0.6;\" x=\"66.007812\" xlink:href=\"#m4703f07158\" y=\"132.07411\"/>\r\n      </g>\r\n     </g>\r\n    </g>\r\n    <g id=\"ytick_37\">\r\n     <g id=\"line2d_129\">\r\n      <path clip-path=\"url(#p470094317b)\" d=\"M 66.007812 129.853319 \r\nL 568.207813 129.853319 \r\n\" style=\"fill:none;stroke:#000000;stroke-linecap:square;stroke-opacity:0.08;stroke-width:0.8;\"/>\r\n     </g>\r\n     <g id=\"line2d_130\">\r\n      <g>\r\n       <use style=\"stroke:#000000;stroke-width:0.6;\" x=\"66.007812\" xlink:href=\"#m4703f07158\" y=\"129.853319\"/>\r\n      </g>\r\n     </g>\r\n    </g>\r\n    <g id=\"ytick_38\">\r\n     <g id=\"line2d_131\">\r\n      <path clip-path=\"url(#p470094317b)\" d=\"M 66.007812 127.717064 \r\nL 568.207813 127.717064 \r\n\" style=\"fill:none;stroke:#000000;stroke-linecap:square;stroke-opacity:0.08;stroke-width:0.8;\"/>\r\n     </g>\r\n     <g id=\"line2d_132\">\r\n      <g>\r\n       <use style=\"stroke:#000000;stroke-width:0.6;\" x=\"66.007812\" xlink:href=\"#m4703f07158\" y=\"127.717064\"/>\r\n      </g>\r\n     </g>\r\n    </g>\r\n    <g id=\"ytick_39\">\r\n     <g id=\"line2d_133\">\r\n      <path clip-path=\"url(#p470094317b)\" d=\"M 66.007812 123.657388 \r\nL 568.207813 123.657388 \r\n\" style=\"fill:none;stroke:#000000;stroke-linecap:square;stroke-opacity:0.08;stroke-width:0.8;\"/>\r\n     </g>\r\n     <g id=\"line2d_134\">\r\n      <g>\r\n       <use style=\"stroke:#000000;stroke-width:0.6;\" x=\"66.007812\" xlink:href=\"#m4703f07158\" y=\"123.657388\"/>\r\n      </g>\r\n     </g>\r\n    </g>\r\n    <g id=\"ytick_40\">\r\n     <g id=\"line2d_135\">\r\n      <path clip-path=\"url(#p470094317b)\" d=\"M 66.007812 121.716754 \r\nL 568.207813 121.716754 \r\n\" style=\"fill:none;stroke:#000000;stroke-linecap:square;stroke-opacity:0.08;stroke-width:0.8;\"/>\r\n     </g>\r\n     <g id=\"line2d_136\">\r\n      <g>\r\n       <use style=\"stroke:#000000;stroke-width:0.6;\" x=\"66.007812\" xlink:href=\"#m4703f07158\" y=\"121.716754\"/>\r\n      </g>\r\n     </g>\r\n    </g>\r\n    <g id=\"ytick_41\">\r\n     <g id=\"line2d_137\">\r\n      <path clip-path=\"url(#p470094317b)\" d=\"M 66.007812 119.825734 \r\nL 568.207813 119.825734 \r\n\" style=\"fill:none;stroke:#000000;stroke-linecap:square;stroke-opacity:0.08;stroke-width:0.8;\"/>\r\n     </g>\r\n     <g id=\"line2d_138\">\r\n      <g>\r\n       <use style=\"stroke:#000000;stroke-width:0.6;\" x=\"66.007812\" xlink:href=\"#m4703f07158\" y=\"119.825734\"/>\r\n      </g>\r\n     </g>\r\n    </g>\r\n    <g id=\"ytick_42\">\r\n     <g id=\"line2d_139\">\r\n      <path clip-path=\"url(#p470094317b)\" d=\"M 66.007812 117.977865 \r\nL 568.207813 117.977865 \r\n\" style=\"fill:none;stroke:#000000;stroke-linecap:square;stroke-opacity:0.08;stroke-width:0.8;\"/>\r\n     </g>\r\n     <g id=\"line2d_140\">\r\n      <g>\r\n       <use style=\"stroke:#000000;stroke-width:0.6;\" x=\"66.007812\" xlink:href=\"#m4703f07158\" y=\"117.977865\"/>\r\n      </g>\r\n     </g>\r\n    </g>\r\n    <g id=\"ytick_43\">\r\n     <g id=\"line2d_141\">\r\n      <path clip-path=\"url(#p470094317b)\" d=\"M 66.007812 114.388421 \r\nL 568.207813 114.388421 \r\n\" style=\"fill:none;stroke:#000000;stroke-linecap:square;stroke-opacity:0.08;stroke-width:0.8;\"/>\r\n     </g>\r\n     <g id=\"line2d_142\">\r\n      <g>\r\n       <use style=\"stroke:#000000;stroke-width:0.6;\" x=\"66.007812\" xlink:href=\"#m4703f07158\" y=\"114.388421\"/>\r\n      </g>\r\n     </g>\r\n    </g>\r\n    <g id=\"ytick_44\">\r\n     <g id=\"line2d_143\">\r\n      <path clip-path=\"url(#p470094317b)\" d=\"M 66.007812 112.636266 \r\nL 568.207813 112.636266 \r\n\" style=\"fill:none;stroke:#000000;stroke-linecap:square;stroke-opacity:0.08;stroke-width:0.8;\"/>\r\n     </g>\r\n     <g id=\"line2d_144\">\r\n      <g>\r\n       <use style=\"stroke:#000000;stroke-width:0.6;\" x=\"66.007812\" xlink:href=\"#m4703f07158\" y=\"112.636266\"/>\r\n      </g>\r\n     </g>\r\n    </g>\r\n    <g id=\"ytick_45\">\r\n     <g id=\"line2d_145\">\r\n      <path clip-path=\"url(#p470094317b)\" d=\"M 66.007812 110.905902 \r\nL 568.207813 110.905902 \r\n\" style=\"fill:none;stroke:#000000;stroke-linecap:square;stroke-opacity:0.08;stroke-width:0.8;\"/>\r\n     </g>\r\n     <g id=\"line2d_146\">\r\n      <g>\r\n       <use style=\"stroke:#000000;stroke-width:0.6;\" x=\"66.007812\" xlink:href=\"#m4703f07158\" y=\"110.905902\"/>\r\n      </g>\r\n     </g>\r\n    </g>\r\n    <g id=\"ytick_46\">\r\n     <g id=\"line2d_147\">\r\n      <path clip-path=\"url(#p470094317b)\" d=\"M 66.007812 109.192601 \r\nL 568.207813 109.192601 \r\n\" style=\"fill:none;stroke:#000000;stroke-linecap:square;stroke-opacity:0.08;stroke-width:0.8;\"/>\r\n     </g>\r\n     <g id=\"line2d_148\">\r\n      <g>\r\n       <use style=\"stroke:#000000;stroke-width:0.6;\" x=\"66.007812\" xlink:href=\"#m4703f07158\" y=\"109.192601\"/>\r\n      </g>\r\n     </g>\r\n    </g>\r\n    <g id=\"ytick_47\">\r\n     <g id=\"line2d_149\">\r\n      <path clip-path=\"url(#p470094317b)\" d=\"M 66.007812 105.798558 \r\nL 568.207813 105.798558 \r\n\" style=\"fill:none;stroke:#000000;stroke-linecap:square;stroke-opacity:0.08;stroke-width:0.8;\"/>\r\n     </g>\r\n     <g id=\"line2d_150\">\r\n      <g>\r\n       <use style=\"stroke:#000000;stroke-width:0.6;\" x=\"66.007812\" xlink:href=\"#m4703f07158\" y=\"105.798558\"/>\r\n      </g>\r\n     </g>\r\n    </g>\r\n    <g id=\"ytick_48\">\r\n     <g id=\"line2d_151\">\r\n      <path clip-path=\"url(#p470094317b)\" d=\"M 66.007812 104.108371 \r\nL 568.207813 104.108371 \r\n\" style=\"fill:none;stroke:#000000;stroke-linecap:square;stroke-opacity:0.08;stroke-width:0.8;\"/>\r\n     </g>\r\n     <g id=\"line2d_152\">\r\n      <g>\r\n       <use style=\"stroke:#000000;stroke-width:0.6;\" x=\"66.007812\" xlink:href=\"#m4703f07158\" y=\"104.108371\"/>\r\n      </g>\r\n     </g>\r\n    </g>\r\n    <g id=\"ytick_49\">\r\n     <g id=\"line2d_153\">\r\n      <path clip-path=\"url(#p470094317b)\" d=\"M 66.007812 102.416167 \r\nL 568.207813 102.416167 \r\n\" style=\"fill:none;stroke:#000000;stroke-linecap:square;stroke-opacity:0.08;stroke-width:0.8;\"/>\r\n     </g>\r\n     <g id=\"line2d_154\">\r\n      <g>\r\n       <use style=\"stroke:#000000;stroke-width:0.6;\" x=\"66.007812\" xlink:href=\"#m4703f07158\" y=\"102.416167\"/>\r\n      </g>\r\n     </g>\r\n    </g>\r\n    <g id=\"ytick_50\">\r\n     <g id=\"line2d_155\">\r\n      <path clip-path=\"url(#p470094317b)\" d=\"M 66.007812 100.71664 \r\nL 568.207813 100.71664 \r\n\" style=\"fill:none;stroke:#000000;stroke-linecap:square;stroke-opacity:0.08;stroke-width:0.8;\"/>\r\n     </g>\r\n     <g id=\"line2d_156\">\r\n      <g>\r\n       <use style=\"stroke:#000000;stroke-width:0.6;\" x=\"66.007812\" xlink:href=\"#m4703f07158\" y=\"100.71664\"/>\r\n      </g>\r\n     </g>\r\n    </g>\r\n    <g id=\"ytick_51\">\r\n     <g id=\"line2d_157\">\r\n      <path clip-path=\"url(#p470094317b)\" d=\"M 66.007812 97.271887 \r\nL 568.207813 97.271887 \r\n\" style=\"fill:none;stroke:#000000;stroke-linecap:square;stroke-opacity:0.08;stroke-width:0.8;\"/>\r\n     </g>\r\n     <g id=\"line2d_158\">\r\n      <g>\r\n       <use style=\"stroke:#000000;stroke-width:0.6;\" x=\"66.007812\" xlink:href=\"#m4703f07158\" y=\"97.271887\"/>\r\n      </g>\r\n     </g>\r\n    </g>\r\n    <g id=\"ytick_52\">\r\n     <g id=\"line2d_159\">\r\n      <path clip-path=\"url(#p470094317b)\" d=\"M 66.007812 95.512939 \r\nL 568.207813 95.512939 \r\n\" style=\"fill:none;stroke:#000000;stroke-linecap:square;stroke-opacity:0.08;stroke-width:0.8;\"/>\r\n     </g>\r\n     <g id=\"line2d_160\">\r\n      <g>\r\n       <use style=\"stroke:#000000;stroke-width:0.6;\" x=\"66.007812\" xlink:href=\"#m4703f07158\" y=\"95.512939\"/>\r\n      </g>\r\n     </g>\r\n    </g>\r\n    <g id=\"ytick_53\">\r\n     <g id=\"line2d_161\">\r\n      <path clip-path=\"url(#p470094317b)\" d=\"M 66.007812 93.718676 \r\nL 568.207813 93.718676 \r\n\" style=\"fill:none;stroke:#000000;stroke-linecap:square;stroke-opacity:0.08;stroke-width:0.8;\"/>\r\n     </g>\r\n     <g id=\"line2d_162\">\r\n      <g>\r\n       <use style=\"stroke:#000000;stroke-width:0.6;\" x=\"66.007812\" xlink:href=\"#m4703f07158\" y=\"93.718676\"/>\r\n      </g>\r\n     </g>\r\n    </g>\r\n    <g id=\"ytick_54\">\r\n     <g id=\"line2d_163\">\r\n      <path clip-path=\"url(#p470094317b)\" d=\"M 66.007812 91.878956 \r\nL 568.207813 91.878956 \r\n\" style=\"fill:none;stroke:#000000;stroke-linecap:square;stroke-opacity:0.08;stroke-width:0.8;\"/>\r\n     </g>\r\n     <g id=\"line2d_164\">\r\n      <g>\r\n       <use style=\"stroke:#000000;stroke-width:0.6;\" x=\"66.007812\" xlink:href=\"#m4703f07158\" y=\"91.878956\"/>\r\n      </g>\r\n     </g>\r\n    </g>\r\n    <g id=\"ytick_55\">\r\n     <g id=\"line2d_165\">\r\n      <path clip-path=\"url(#p470094317b)\" d=\"M 66.007812 88.010249 \r\nL 568.207813 88.010249 \r\n\" style=\"fill:none;stroke:#000000;stroke-linecap:square;stroke-opacity:0.08;stroke-width:0.8;\"/>\r\n     </g>\r\n     <g id=\"line2d_166\">\r\n      <g>\r\n       <use style=\"stroke:#000000;stroke-width:0.6;\" x=\"66.007812\" xlink:href=\"#m4703f07158\" y=\"88.010249\"/>\r\n      </g>\r\n     </g>\r\n    </g>\r\n    <g id=\"ytick_56\">\r\n     <g id=\"line2d_167\">\r\n      <path clip-path=\"url(#p470094317b)\" d=\"M 66.007812 85.945274 \r\nL 568.207813 85.945274 \r\n\" style=\"fill:none;stroke:#000000;stroke-linecap:square;stroke-opacity:0.08;stroke-width:0.8;\"/>\r\n     </g>\r\n     <g id=\"line2d_168\">\r\n      <g>\r\n       <use style=\"stroke:#000000;stroke-width:0.6;\" x=\"66.007812\" xlink:href=\"#m4703f07158\" y=\"85.945274\"/>\r\n      </g>\r\n     </g>\r\n    </g>\r\n    <g id=\"ytick_57\">\r\n     <g id=\"line2d_169\">\r\n      <path clip-path=\"url(#p470094317b)\" d=\"M 66.007812 83.758983 \r\nL 568.207813 83.758983 \r\n\" style=\"fill:none;stroke:#000000;stroke-linecap:square;stroke-opacity:0.08;stroke-width:0.8;\"/>\r\n     </g>\r\n     <g id=\"line2d_170\">\r\n      <g>\r\n       <use style=\"stroke:#000000;stroke-width:0.6;\" x=\"66.007812\" xlink:href=\"#m4703f07158\" y=\"83.758983\"/>\r\n      </g>\r\n     </g>\r\n    </g>\r\n    <g id=\"ytick_58\">\r\n     <g id=\"line2d_171\">\r\n      <path clip-path=\"url(#p470094317b)\" d=\"M 66.007812 81.412631 \r\nL 568.207813 81.412631 \r\n\" style=\"fill:none;stroke:#000000;stroke-linecap:square;stroke-opacity:0.08;stroke-width:0.8;\"/>\r\n     </g>\r\n     <g id=\"line2d_172\">\r\n      <g>\r\n       <use style=\"stroke:#000000;stroke-width:0.6;\" x=\"66.007812\" xlink:href=\"#m4703f07158\" y=\"81.412631\"/>\r\n      </g>\r\n     </g>\r\n    </g>\r\n    <g id=\"ytick_59\">\r\n     <g id=\"line2d_173\">\r\n      <path clip-path=\"url(#p470094317b)\" d=\"M 66.007812 75.973103 \r\nL 568.207813 75.973103 \r\n\" style=\"fill:none;stroke:#000000;stroke-linecap:square;stroke-opacity:0.08;stroke-width:0.8;\"/>\r\n     </g>\r\n     <g id=\"line2d_174\">\r\n      <g>\r\n       <use style=\"stroke:#000000;stroke-width:0.6;\" x=\"66.007812\" xlink:href=\"#m4703f07158\" y=\"75.973103\"/>\r\n      </g>\r\n     </g>\r\n    </g>\r\n    <g id=\"ytick_60\">\r\n     <g id=\"line2d_175\">\r\n      <path clip-path=\"url(#p470094317b)\" d=\"M 66.007812 72.620035 \r\nL 568.207813 72.620035 \r\n\" style=\"fill:none;stroke:#000000;stroke-linecap:square;stroke-opacity:0.08;stroke-width:0.8;\"/>\r\n     </g>\r\n     <g id=\"line2d_176\">\r\n      <g>\r\n       <use style=\"stroke:#000000;stroke-width:0.6;\" x=\"66.007812\" xlink:href=\"#m4703f07158\" y=\"72.620035\"/>\r\n      </g>\r\n     </g>\r\n    </g>\r\n    <g id=\"ytick_61\">\r\n     <g id=\"line2d_177\">\r\n      <path clip-path=\"url(#p470094317b)\" d=\"M 66.007812 68.434926 \r\nL 568.207813 68.434926 \r\n\" style=\"fill:none;stroke:#000000;stroke-linecap:square;stroke-opacity:0.08;stroke-width:0.8;\"/>\r\n     </g>\r\n     <g id=\"line2d_178\">\r\n      <g>\r\n       <use style=\"stroke:#000000;stroke-width:0.6;\" x=\"66.007812\" xlink:href=\"#m4703f07158\" y=\"68.434926\"/>\r\n      </g>\r\n     </g>\r\n    </g>\r\n    <g id=\"ytick_62\">\r\n     <g id=\"line2d_179\">\r\n      <path clip-path=\"url(#p470094317b)\" d=\"M 66.007812 62.372665 \r\nL 568.207813 62.372665 \r\n\" style=\"fill:none;stroke:#000000;stroke-linecap:square;stroke-opacity:0.08;stroke-width:0.8;\"/>\r\n     </g>\r\n     <g id=\"line2d_180\">\r\n      <g>\r\n       <use style=\"stroke:#000000;stroke-width:0.6;\" x=\"66.007812\" xlink:href=\"#m4703f07158\" y=\"62.372665\"/>\r\n      </g>\r\n     </g>\r\n    </g>\r\n    <g id=\"text_29\">\r\n     <!-- Fraction failing -->\r\n     <g transform=\"translate(14.798437 250.298312)rotate(-90)scale(0.1 -0.1)\">\r\n      <defs>\r\n       <path d=\"M 9.8125 72.90625 \r\nL 51.703125 72.90625 \r\nL 51.703125 64.59375 \r\nL 19.671875 64.59375 \r\nL 19.671875 43.109375 \r\nL 48.578125 43.109375 \r\nL 48.578125 34.8125 \r\nL 19.671875 34.8125 \r\nL 19.671875 0 \r\nL 9.8125 0 \r\nz\r\n\" id=\"DejaVuSans-70\"/>\r\n       <path d=\"M 41.109375 46.296875 \r\nQ 39.59375 47.171875 37.8125 47.578125 \r\nQ 36.03125 48 33.890625 48 \r\nQ 26.265625 48 22.1875 43.046875 \r\nQ 18.109375 38.09375 18.109375 28.8125 \r\nL 18.109375 0 \r\nL 9.078125 0 \r\nL 9.078125 54.6875 \r\nL 18.109375 54.6875 \r\nL 18.109375 46.1875 \r\nQ 20.953125 51.171875 25.484375 53.578125 \r\nQ 30.03125 56 36.53125 56 \r\nQ 37.453125 56 38.578125 55.875 \r\nQ 39.703125 55.765625 41.0625 55.515625 \r\nz\r\n\" id=\"DejaVuSans-114\"/>\r\n       <path d=\"M 48.78125 52.59375 \r\nL 48.78125 44.1875 \r\nQ 44.96875 46.296875 41.140625 47.34375 \r\nQ 37.3125 48.390625 33.40625 48.390625 \r\nQ 24.65625 48.390625 19.8125 42.84375 \r\nQ 14.984375 37.3125 14.984375 27.296875 \r\nQ 14.984375 17.28125 19.8125 11.734375 \r\nQ 24.65625 6.203125 33.40625 6.203125 \r\nQ 37.3125 6.203125 41.140625 7.25 \r\nQ 44.96875 8.296875 48.78125 10.40625 \r\nL 48.78125 2.09375 \r\nQ 45.015625 0.34375 40.984375 -0.53125 \r\nQ 36.96875 -1.421875 32.421875 -1.421875 \r\nQ 20.0625 -1.421875 12.78125 6.34375 \r\nQ 5.515625 14.109375 5.515625 27.296875 \r\nQ 5.515625 40.671875 12.859375 48.328125 \r\nQ 20.21875 56 33.015625 56 \r\nQ 37.15625 56 41.109375 55.140625 \r\nQ 45.0625 54.296875 48.78125 52.59375 \r\nz\r\n\" id=\"DejaVuSans-99\"/>\r\n       <path d=\"M 18.3125 70.21875 \r\nL 18.3125 54.6875 \r\nL 36.8125 54.6875 \r\nL 36.8125 47.703125 \r\nL 18.3125 47.703125 \r\nL 18.3125 18.015625 \r\nQ 18.3125 11.328125 20.140625 9.421875 \r\nQ 21.96875 7.515625 27.59375 7.515625 \r\nL 36.8125 7.515625 \r\nL 36.8125 0 \r\nL 27.59375 0 \r\nQ 17.1875 0 13.234375 3.875 \r\nQ 9.28125 7.765625 9.28125 18.015625 \r\nL 9.28125 47.703125 \r\nL 2.6875 47.703125 \r\nL 2.6875 54.6875 \r\nL 9.28125 54.6875 \r\nL 9.28125 70.21875 \r\nz\r\n\" id=\"DejaVuSans-116\"/>\r\n       <path d=\"M 30.609375 48.390625 \r\nQ 23.390625 48.390625 19.1875 42.75 \r\nQ 14.984375 37.109375 14.984375 27.296875 \r\nQ 14.984375 17.484375 19.15625 11.84375 \r\nQ 23.34375 6.203125 30.609375 6.203125 \r\nQ 37.796875 6.203125 41.984375 11.859375 \r\nQ 46.1875 17.53125 46.1875 27.296875 \r\nQ 46.1875 37.015625 41.984375 42.703125 \r\nQ 37.796875 48.390625 30.609375 48.390625 \r\nz\r\nM 30.609375 56 \r\nQ 42.328125 56 49.015625 48.375 \r\nQ 55.71875 40.765625 55.71875 27.296875 \r\nQ 55.71875 13.875 49.015625 6.21875 \r\nQ 42.328125 -1.421875 30.609375 -1.421875 \r\nQ 18.84375 -1.421875 12.171875 6.21875 \r\nQ 5.515625 13.875 5.515625 27.296875 \r\nQ 5.515625 40.765625 12.171875 48.375 \r\nQ 18.84375 56 30.609375 56 \r\nz\r\n\" id=\"DejaVuSans-111\"/>\r\n       <path d=\"M 54.890625 33.015625 \r\nL 54.890625 0 \r\nL 45.90625 0 \r\nL 45.90625 32.71875 \r\nQ 45.90625 40.484375 42.875 44.328125 \r\nQ 39.84375 48.1875 33.796875 48.1875 \r\nQ 26.515625 48.1875 22.3125 43.546875 \r\nQ 18.109375 38.921875 18.109375 30.90625 \r\nL 18.109375 0 \r\nL 9.078125 0 \r\nL 9.078125 54.6875 \r\nL 18.109375 54.6875 \r\nL 18.109375 46.1875 \r\nQ 21.34375 51.125 25.703125 53.5625 \r\nQ 30.078125 56 35.796875 56 \r\nQ 45.21875 56 50.046875 50.171875 \r\nQ 54.890625 44.34375 54.890625 33.015625 \r\nz\r\n\" id=\"DejaVuSans-110\"/>\r\n       <path d=\"M 37.109375 75.984375 \r\nL 37.109375 68.5 \r\nL 28.515625 68.5 \r\nQ 23.6875 68.5 21.796875 66.546875 \r\nQ 19.921875 64.59375 19.921875 59.515625 \r\nL 19.921875 54.6875 \r\nL 34.71875 54.6875 \r\nL 34.71875 47.703125 \r\nL 19.921875 47.703125 \r\nL 19.921875 0 \r\nL 10.890625 0 \r\nL 10.890625 47.703125 \r\nL 2.296875 47.703125 \r\nL 2.296875 54.6875 \r\nL 10.890625 54.6875 \r\nL 10.890625 58.5 \r\nQ 10.890625 67.625 15.140625 71.796875 \r\nQ 19.390625 75.984375 28.609375 75.984375 \r\nz\r\n\" id=\"DejaVuSans-102\"/>\r\n       <path d=\"M 9.421875 75.984375 \r\nL 18.40625 75.984375 \r\nL 18.40625 0 \r\nL 9.421875 0 \r\nz\r\n\" id=\"DejaVuSans-108\"/>\r\n      </defs>\r\n      <use xlink:href=\"#DejaVuSans-70\"/>\r\n      <use x=\"50.269531\" xlink:href=\"#DejaVuSans-114\"/>\r\n      <use x=\"91.382812\" xlink:href=\"#DejaVuSans-97\"/>\r\n      <use x=\"152.662109\" xlink:href=\"#DejaVuSans-99\"/>\r\n      <use x=\"207.642578\" xlink:href=\"#DejaVuSans-116\"/>\r\n      <use x=\"246.851562\" xlink:href=\"#DejaVuSans-105\"/>\r\n      <use x=\"274.634766\" xlink:href=\"#DejaVuSans-111\"/>\r\n      <use x=\"335.816406\" xlink:href=\"#DejaVuSans-110\"/>\r\n      <use x=\"399.195312\" xlink:href=\"#DejaVuSans-32\"/>\r\n      <use x=\"430.982422\" xlink:href=\"#DejaVuSans-102\"/>\r\n      <use x=\"466.1875\" xlink:href=\"#DejaVuSans-97\"/>\r\n      <use x=\"527.466797\" xlink:href=\"#DejaVuSans-105\"/>\r\n      <use x=\"555.25\" xlink:href=\"#DejaVuSans-108\"/>\r\n      <use x=\"583.033203\" xlink:href=\"#DejaVuSans-105\"/>\r\n      <use x=\"610.816406\" xlink:href=\"#DejaVuSans-110\"/>\r\n      <use x=\"674.195312\" xlink:href=\"#DejaVuSans-103\"/>\r\n     </g>\r\n    </g>\r\n   </g>\r\n   <g id=\"line2d_181\">\r\n    <path clip-path=\"url(#p470094317b)\" d=\"M 94.847747 429.63175 \r\nL 585.207812 67.082372 \r\nL 585.207812 67.082372 \r\n\" style=\"fill:none;stroke:#1f77b4;stroke-linecap:square;stroke-width:1.5;\"/>\r\n   </g>\r\n   <g id=\"line2d_182\">\r\n    <path clip-path=\"url(#p470094317b)\" d=\"M 585.207812 52.663791 \r\nL 584.547786 53.063249 \r\nL 582.40867 54.355299 \r\nL 580.173978 55.702444 \r\nL 577.835602 57.109398 \r\nL 575.384413 58.581469 \r\nL 572.81009 60.124654 \r\nL 570.100928 61.745756 \r\nL 567.24359 63.45252 \r\nL 564.22282 65.253807 \r\nL 561.021093 67.159791 \r\nL 557.618182 69.182212 \r\nL 553.99063 71.334681 \r\nL 550.111095 73.633058 \r\nL 545.94754 76.095919 \r\nL 541.462214 78.74515 \r\nL 536.610369 81.606684 \r\nL 531.338627 84.711446 \r\nL 525.582898 88.096557 \r\nL 519.265683 91.806893 \r\nL 512.292572 95.897105 \r\nL 504.547653 100.434276 \r\nL 495.887452 105.501421 \r\nL 486.132864 111.202148 \r\nL 475.058389 117.666876 \r\nL 462.377706 125.06117 \r\nL 447.72438 133.596884 \r\nL 430.626269 143.546949 \r\nL 410.472116 155.264667 \r\nL 386.469199 169.208174 \r\nL 357.592047 185.970074 \r\nL 322.524177 206.3111 \r\nL 279.59665 231.195649 \r\nL 226.726122 261.827636 \r\nL 161.34789 299.689292 \r\nL 80.328236 346.591973 \r\nL -1 393.659624 \r\n\" style=\"fill:none;\"/>\r\n   </g>\r\n   <g id=\"line2d_183\">\r\n    <path clip-path=\"url(#p470094317b)\" d=\"M 585.207812 90.869863 \r\nL 584.268472 91.806893 \r\nL 580.177288 95.897105 \r\nL 575.648857 100.434276 \r\nL 570.602094 105.501421 \r\nL 564.935837 111.202148 \r\nL 558.522795 117.666876 \r\nL 551.201423 125.06117 \r\nL 542.765074 133.596884 \r\nL 532.947598 143.546949 \r\nL 521.404548 155.264667 \r\nL 507.689352 169.208174 \r\nL 491.224453 185.970074 \r\nL 471.268496 206.3111 \r\nL 446.881666 231.195649 \r\nL 416.890638 261.827636 \r\nL 379.850578 299.689292 \r\nL 333.995367 346.591973 \r\nL 277.164564 404.750804 \r\nL 252.861384 429.63175 \r\n\" style=\"fill:none;\"/>\r\n   </g>\r\n   <g id=\"patch_3\">\r\n    <path d=\"M 66.007812 391.0755 \r\nL 66.007812 35.7555 \r\n\" style=\"fill:none;stroke:#000000;stroke-linecap:square;stroke-linejoin:miter;stroke-width:0.8;\"/>\r\n   </g>\r\n   <g id=\"patch_4\">\r\n    <path d=\"M 568.207813 391.0755 \r\nL 568.207813 35.7555 \r\n\" style=\"fill:none;stroke:#000000;stroke-linecap:square;stroke-linejoin:miter;stroke-width:0.8;\"/>\r\n   </g>\r\n   <g id=\"patch_5\">\r\n    <path d=\"M 66.007812 391.0755 \r\nL 568.207813 391.0755 \r\n\" style=\"fill:none;stroke:#000000;stroke-linecap:square;stroke-linejoin:miter;stroke-width:0.8;\"/>\r\n   </g>\r\n   <g id=\"patch_6\">\r\n    <path d=\"M 66.007812 35.7555 \r\nL 568.207813 35.7555 \r\n\" style=\"fill:none;stroke:#000000;stroke-linecap:square;stroke-linejoin:miter;stroke-width:0.8;\"/>\r\n   </g>\r\n   <g id=\"text_30\">\r\n    <!-- Probability plot -->\r\n    <g transform=\"translate(271.986875 16.318125)scale(0.12 -0.12)\">\r\n     <defs>\r\n      <path d=\"M 19.671875 64.796875 \r\nL 19.671875 37.40625 \r\nL 32.078125 37.40625 \r\nQ 38.96875 37.40625 42.71875 40.96875 \r\nQ 46.484375 44.53125 46.484375 51.125 \r\nQ 46.484375 57.671875 42.71875 61.234375 \r\nQ 38.96875 64.796875 32.078125 64.796875 \r\nz\r\nM 9.8125 72.90625 \r\nL 32.078125 72.90625 \r\nQ 44.34375 72.90625 50.609375 67.359375 \r\nQ 56.890625 61.8125 56.890625 51.125 \r\nQ 56.890625 40.328125 50.609375 34.8125 \r\nQ 44.34375 29.296875 32.078125 29.296875 \r\nL 19.671875 29.296875 \r\nL 19.671875 0 \r\nL 9.8125 0 \r\nz\r\n\" id=\"DejaVuSans-80\"/>\r\n      <path d=\"M 48.6875 27.296875 \r\nQ 48.6875 37.203125 44.609375 42.84375 \r\nQ 40.53125 48.484375 33.40625 48.484375 \r\nQ 26.265625 48.484375 22.1875 42.84375 \r\nQ 18.109375 37.203125 18.109375 27.296875 \r\nQ 18.109375 17.390625 22.1875 11.75 \r\nQ 26.265625 6.109375 33.40625 6.109375 \r\nQ 40.53125 6.109375 44.609375 11.75 \r\nQ 48.6875 17.390625 48.6875 27.296875 \r\nz\r\nM 18.109375 46.390625 \r\nQ 20.953125 51.265625 25.265625 53.625 \r\nQ 29.59375 56 35.59375 56 \r\nQ 45.5625 56 51.78125 48.09375 \r\nQ 58.015625 40.1875 58.015625 27.296875 \r\nQ 58.015625 14.40625 51.78125 6.484375 \r\nQ 45.5625 -1.421875 35.59375 -1.421875 \r\nQ 29.59375 -1.421875 25.265625 0.953125 \r\nQ 20.953125 3.328125 18.109375 8.203125 \r\nL 18.109375 0 \r\nL 9.078125 0 \r\nL 9.078125 75.984375 \r\nL 18.109375 75.984375 \r\nz\r\n\" id=\"DejaVuSans-98\"/>\r\n      <path d=\"M 32.171875 -5.078125 \r\nQ 28.375 -14.84375 24.75 -17.8125 \r\nQ 21.140625 -20.796875 15.09375 -20.796875 \r\nL 7.90625 -20.796875 \r\nL 7.90625 -13.28125 \r\nL 13.1875 -13.28125 \r\nQ 16.890625 -13.28125 18.9375 -11.515625 \r\nQ 21 -9.765625 23.484375 -3.21875 \r\nL 25.09375 0.875 \r\nL 2.984375 54.6875 \r\nL 12.5 54.6875 \r\nL 29.59375 11.921875 \r\nL 46.6875 54.6875 \r\nL 56.203125 54.6875 \r\nz\r\n\" id=\"DejaVuSans-121\"/>\r\n      <path d=\"M 18.109375 8.203125 \r\nL 18.109375 -20.796875 \r\nL 9.078125 -20.796875 \r\nL 9.078125 54.6875 \r\nL 18.109375 54.6875 \r\nL 18.109375 46.390625 \r\nQ 20.953125 51.265625 25.265625 53.625 \r\nQ 29.59375 56 35.59375 56 \r\nQ 45.5625 56 51.78125 48.09375 \r\nQ 58.015625 40.1875 58.015625 27.296875 \r\nQ 58.015625 14.40625 51.78125 6.484375 \r\nQ 45.5625 -1.421875 35.59375 -1.421875 \r\nQ 29.59375 -1.421875 25.265625 0.953125 \r\nQ 20.953125 3.328125 18.109375 8.203125 \r\nz\r\nM 48.6875 27.296875 \r\nQ 48.6875 37.203125 44.609375 42.84375 \r\nQ 40.53125 48.484375 33.40625 48.484375 \r\nQ 26.265625 48.484375 22.1875 42.84375 \r\nQ 18.109375 37.203125 18.109375 27.296875 \r\nQ 18.109375 17.390625 22.1875 11.75 \r\nQ 26.265625 6.109375 33.40625 6.109375 \r\nQ 40.53125 6.109375 44.609375 11.75 \r\nQ 48.6875 17.390625 48.6875 27.296875 \r\nz\r\n\" id=\"DejaVuSans-112\"/>\r\n     </defs>\r\n     <use xlink:href=\"#DejaVuSans-80\"/>\r\n     <use x=\"58.552734\" xlink:href=\"#DejaVuSans-114\"/>\r\n     <use x=\"97.416016\" xlink:href=\"#DejaVuSans-111\"/>\r\n     <use x=\"158.597656\" xlink:href=\"#DejaVuSans-98\"/>\r\n     <use x=\"222.074219\" xlink:href=\"#DejaVuSans-97\"/>\r\n     <use x=\"283.353516\" xlink:href=\"#DejaVuSans-98\"/>\r\n     <use x=\"346.830078\" xlink:href=\"#DejaVuSans-105\"/>\r\n     <use x=\"374.613281\" xlink:href=\"#DejaVuSans-108\"/>\r\n     <use x=\"402.396484\" xlink:href=\"#DejaVuSans-105\"/>\r\n     <use x=\"430.179688\" xlink:href=\"#DejaVuSans-116\"/>\r\n     <use x=\"469.388672\" xlink:href=\"#DejaVuSans-121\"/>\r\n     <use x=\"528.568359\" xlink:href=\"#DejaVuSans-32\"/>\r\n     <use x=\"560.355469\" xlink:href=\"#DejaVuSans-112\"/>\r\n     <use x=\"623.832031\" xlink:href=\"#DejaVuSans-108\"/>\r\n     <use x=\"651.615234\" xlink:href=\"#DejaVuSans-111\"/>\r\n     <use x=\"712.796875\" xlink:href=\"#DejaVuSans-116\"/>\r\n    </g>\r\n    <!-- Weibull CDF -->\r\n    <g transform=\"translate(281.05625 29.7555)scale(0.12 -0.12)\">\r\n     <defs>\r\n      <path d=\"M 3.328125 72.90625 \r\nL 13.28125 72.90625 \r\nL 28.609375 11.28125 \r\nL 43.890625 72.90625 \r\nL 54.984375 72.90625 \r\nL 70.3125 11.28125 \r\nL 85.59375 72.90625 \r\nL 95.609375 72.90625 \r\nL 77.296875 0 \r\nL 64.890625 0 \r\nL 49.515625 63.28125 \r\nL 33.984375 0 \r\nL 21.578125 0 \r\nz\r\n\" id=\"DejaVuSans-87\"/>\r\n      <path d=\"M 8.5 21.578125 \r\nL 8.5 54.6875 \r\nL 17.484375 54.6875 \r\nL 17.484375 21.921875 \r\nQ 17.484375 14.15625 20.5 10.265625 \r\nQ 23.53125 6.390625 29.59375 6.390625 \r\nQ 36.859375 6.390625 41.078125 11.03125 \r\nQ 45.3125 15.671875 45.3125 23.6875 \r\nL 45.3125 54.6875 \r\nL 54.296875 54.6875 \r\nL 54.296875 0 \r\nL 45.3125 0 \r\nL 45.3125 8.40625 \r\nQ 42.046875 3.421875 37.71875 1 \r\nQ 33.40625 -1.421875 27.6875 -1.421875 \r\nQ 18.265625 -1.421875 13.375 4.4375 \r\nQ 8.5 10.296875 8.5 21.578125 \r\nz\r\nM 31.109375 56 \r\nz\r\n\" id=\"DejaVuSans-117\"/>\r\n      <path d=\"M 64.40625 67.28125 \r\nL 64.40625 56.890625 \r\nQ 59.421875 61.53125 53.78125 63.8125 \r\nQ 48.140625 66.109375 41.796875 66.109375 \r\nQ 29.296875 66.109375 22.65625 58.46875 \r\nQ 16.015625 50.828125 16.015625 36.375 \r\nQ 16.015625 21.96875 22.65625 14.328125 \r\nQ 29.296875 6.6875 41.796875 6.6875 \r\nQ 48.140625 6.6875 53.78125 8.984375 \r\nQ 59.421875 11.28125 64.40625 15.921875 \r\nL 64.40625 5.609375 \r\nQ 59.234375 2.09375 53.4375 0.328125 \r\nQ 47.65625 -1.421875 41.21875 -1.421875 \r\nQ 24.65625 -1.421875 15.125 8.703125 \r\nQ 5.609375 18.84375 5.609375 36.375 \r\nQ 5.609375 53.953125 15.125 64.078125 \r\nQ 24.65625 74.21875 41.21875 74.21875 \r\nQ 47.75 74.21875 53.53125 72.484375 \r\nQ 59.328125 70.75 64.40625 67.28125 \r\nz\r\n\" id=\"DejaVuSans-67\"/>\r\n      <path d=\"M 19.671875 64.796875 \r\nL 19.671875 8.109375 \r\nL 31.59375 8.109375 \r\nQ 46.6875 8.109375 53.6875 14.9375 \r\nQ 60.6875 21.78125 60.6875 36.53125 \r\nQ 60.6875 51.171875 53.6875 57.984375 \r\nQ 46.6875 64.796875 31.59375 64.796875 \r\nz\r\nM 9.8125 72.90625 \r\nL 30.078125 72.90625 \r\nQ 51.265625 72.90625 61.171875 64.09375 \r\nQ 71.09375 55.28125 71.09375 36.53125 \r\nQ 71.09375 17.671875 61.125 8.828125 \r\nQ 51.171875 0 30.078125 0 \r\nL 9.8125 0 \r\nz\r\n\" id=\"DejaVuSans-68\"/>\r\n     </defs>\r\n     <use xlink:href=\"#DejaVuSans-87\"/>\r\n     <use x=\"93.001953\" xlink:href=\"#DejaVuSans-101\"/>\r\n     <use x=\"154.525391\" xlink:href=\"#DejaVuSans-105\"/>\r\n     <use x=\"182.308594\" xlink:href=\"#DejaVuSans-98\"/>\r\n     <use x=\"245.785156\" xlink:href=\"#DejaVuSans-117\"/>\r\n     <use x=\"309.164062\" xlink:href=\"#DejaVuSans-108\"/>\r\n     <use x=\"336.947266\" xlink:href=\"#DejaVuSans-108\"/>\r\n     <use x=\"364.730469\" xlink:href=\"#DejaVuSans-32\"/>\r\n     <use x=\"396.517578\" xlink:href=\"#DejaVuSans-67\"/>\r\n     <use x=\"466.341797\" xlink:href=\"#DejaVuSans-68\"/>\r\n     <use x=\"543.34375\" xlink:href=\"#DejaVuSans-70\"/>\r\n    </g>\r\n   </g>\r\n   <g id=\"legend_1\">\r\n    <g id=\"patch_7\">\r\n     <path d=\"M 73.007812 69.984562 \r\nL 274.526563 69.984562 \r\nQ 276.526563 69.984562 276.526563 67.984562 \r\nL 276.526563 42.7555 \r\nQ 276.526563 40.7555 274.526563 40.7555 \r\nL 73.007812 40.7555 \r\nQ 71.007812 40.7555 71.007812 42.7555 \r\nL 71.007812 67.984562 \r\nQ 71.007812 69.984562 73.007812 69.984562 \r\nz\r\n\" style=\"fill:#ffffff;opacity:0.8;stroke:#cccccc;stroke-linejoin:miter;\"/>\r\n    </g>\r\n    <g id=\"line2d_184\">\r\n     <path d=\"M 75.007812 55.66925 \r\nL 95.007812 55.66925 \r\n\" style=\"fill:none;stroke:#1f77b4;stroke-linecap:square;stroke-width:1.5;\"/>\r\n    </g>\r\n    <g id=\"line2d_185\"/>\r\n    <g id=\"text_31\">\r\n     <!-- Fitted Weibull_3P -->\r\n     <g transform=\"translate(103.007812 52.353937)scale(0.1 -0.1)\">\r\n      <defs>\r\n       <path d=\"M 45.40625 46.390625 \r\nL 45.40625 75.984375 \r\nL 54.390625 75.984375 \r\nL 54.390625 0 \r\nL 45.40625 0 \r\nL 45.40625 8.203125 \r\nQ 42.578125 3.328125 38.25 0.953125 \r\nQ 33.9375 -1.421875 27.875 -1.421875 \r\nQ 17.96875 -1.421875 11.734375 6.484375 \r\nQ 5.515625 14.40625 5.515625 27.296875 \r\nQ 5.515625 40.1875 11.734375 48.09375 \r\nQ 17.96875 56 27.875 56 \r\nQ 33.9375 56 38.25 53.625 \r\nQ 42.578125 51.265625 45.40625 46.390625 \r\nz\r\nM 14.796875 27.296875 \r\nQ 14.796875 17.390625 18.875 11.75 \r\nQ 22.953125 6.109375 30.078125 6.109375 \r\nQ 37.203125 6.109375 41.296875 11.75 \r\nQ 45.40625 17.390625 45.40625 27.296875 \r\nQ 45.40625 37.203125 41.296875 42.84375 \r\nQ 37.203125 48.484375 30.078125 48.484375 \r\nQ 22.953125 48.484375 18.875 42.84375 \r\nQ 14.796875 37.203125 14.796875 27.296875 \r\nz\r\n\" id=\"DejaVuSans-100\"/>\r\n       <path d=\"M 50.984375 -16.609375 \r\nL 50.984375 -23.578125 \r\nL -0.984375 -23.578125 \r\nL -0.984375 -16.609375 \r\nz\r\n\" id=\"DejaVuSans-95\"/>\r\n      </defs>\r\n      <use xlink:href=\"#DejaVuSans-70\"/>\r\n      <use x=\"50.269531\" xlink:href=\"#DejaVuSans-105\"/>\r\n      <use x=\"78.052734\" xlink:href=\"#DejaVuSans-116\"/>\r\n      <use x=\"117.261719\" xlink:href=\"#DejaVuSans-116\"/>\r\n      <use x=\"156.470703\" xlink:href=\"#DejaVuSans-101\"/>\r\n      <use x=\"217.994141\" xlink:href=\"#DejaVuSans-100\"/>\r\n      <use x=\"281.470703\" xlink:href=\"#DejaVuSans-32\"/>\r\n      <use x=\"313.257812\" xlink:href=\"#DejaVuSans-87\"/>\r\n      <use x=\"406.259766\" xlink:href=\"#DejaVuSans-101\"/>\r\n      <use x=\"467.783203\" xlink:href=\"#DejaVuSans-105\"/>\r\n      <use x=\"495.566406\" xlink:href=\"#DejaVuSans-98\"/>\r\n      <use x=\"559.042969\" xlink:href=\"#DejaVuSans-117\"/>\r\n      <use x=\"622.421875\" xlink:href=\"#DejaVuSans-108\"/>\r\n      <use x=\"650.205078\" xlink:href=\"#DejaVuSans-108\"/>\r\n      <use x=\"677.988281\" xlink:href=\"#DejaVuSans-95\"/>\r\n      <use x=\"727.988281\" xlink:href=\"#DejaVuSans-51\"/>\r\n      <use x=\"791.611328\" xlink:href=\"#DejaVuSans-80\"/>\r\n     </g>\r\n     <!-- (α=626.637, β=1.729, γ=89.005) -->\r\n     <g transform=\"translate(103.007812 63.904875)scale(0.1 -0.1)\">\r\n      <defs>\r\n       <path d=\"M 31 75.875 \r\nQ 24.46875 64.65625 21.28125 53.65625 \r\nQ 18.109375 42.671875 18.109375 31.390625 \r\nQ 18.109375 20.125 21.3125 9.0625 \r\nQ 24.515625 -2 31 -13.1875 \r\nL 23.1875 -13.1875 \r\nQ 15.875 -1.703125 12.234375 9.375 \r\nQ 8.59375 20.453125 8.59375 31.390625 \r\nQ 8.59375 42.28125 12.203125 53.3125 \r\nQ 15.828125 64.359375 23.1875 75.875 \r\nz\r\n\" id=\"DejaVuSans-40\"/>\r\n       <path d=\"M 41.3125 25.4375 \r\nL 39.15625 36.71875 \r\nQ 36.96875 48.296875 28.265625 48.296875 \r\nQ 21.734375 48.296875 18.75 42.921875 \r\nQ 14.984375 36.1875 14.984375 27.296875 \r\nQ 14.984375 16.546875 18.65625 11.421875 \r\nQ 22.359375 6.203125 28.265625 6.203125 \r\nQ 34.8125 6.203125 38.328125 16.609375 \r\nz\r\nM 46.34375 40.375 \r\nL 51.171875 54.6875 \r\nL 59.1875 54.6875 \r\nL 49.171875 25.046875 \r\nL 51.125 14.359375 \r\nQ 51.5625 11.96875 53.265625 9.96875 \r\nQ 55.28125 7.625 56.84375 7.625 \r\nL 61.140625 7.625 \r\nL 61.140625 0 \r\nL 55.765625 0 \r\nQ 51.171875 0 47.078125 4.109375 \r\nQ 45.0625 6.15625 44.234375 10.453125 \r\nQ 42 5.03125 37.40625 0.78125 \r\nQ 35.25 -1.21875 28.265625 -1.21875 \r\nQ 16.796875 -1.21875 11.234375 6.203125 \r\nQ 5.515625 13.875 5.515625 27.296875 \r\nQ 5.515625 41.65625 11.71875 48.390625 \r\nQ 18.609375 55.90625 28.265625 55.90625 \r\nQ 43.453125 55.90625 46.34375 40.375 \r\nz\r\n\" id=\"DejaVuSans-945\"/>\r\n       <path d=\"M 10.59375 45.40625 \r\nL 73.1875 45.40625 \r\nL 73.1875 37.203125 \r\nL 10.59375 37.203125 \r\nz\r\nM 10.59375 25.484375 \r\nL 73.1875 25.484375 \r\nL 73.1875 17.1875 \r\nL 10.59375 17.1875 \r\nz\r\n\" id=\"DejaVuSans-61\"/>\r\n       <path d=\"M 11.71875 12.40625 \r\nL 22.015625 12.40625 \r\nL 22.015625 4 \r\nL 14.015625 -11.625 \r\nL 7.71875 -11.625 \r\nL 11.71875 4 \r\nz\r\n\" id=\"DejaVuSans-44\"/>\r\n       <path d=\"M 18.40625 3.375 \r\nL 18.40625 -20.796875 \r\nL 9.375 -20.796875 \r\nL 9.375 54.34375 \r\nQ 9.375 76.609375 30.171875 76.609375 \r\nQ 51.375 76.609375 51.375 57.8125 \r\nQ 51.375 44.4375 42.96875 39.546875 \r\nQ 56.640625 35.15625 56.640625 22.125 \r\nQ 56.640625 -1.03125 33.109375 -1.03125 \r\nQ 22.75 -1.03125 18.40625 3.375 \r\nz\r\nM 18.40625 15.09375 \r\nQ 23.828125 6.640625 33.453125 6.640625 \r\nQ 47.515625 6.640625 47.515625 21.96875 \r\nQ 47.515625 35.75 24.859375 34.671875 \r\nL 24.859375 42.96875 \r\nQ 42.578125 42.96875 42.578125 58.59375 \r\nQ 42.578125 69.28125 31.15625 69.28125 \r\nQ 18.40625 69.28125 18.40625 54.046875 \r\nz\r\n\" id=\"DejaVuSans-946\"/>\r\n       <path d=\"M 17.625 46.09375 \r\nL 29.59375 12.3125 \r\nL 46.6875 54.6875 \r\nL 56.203125 54.6875 \r\nL 34.078125 0 \r\nL 34.078125 -20.796875 \r\nL 25.09375 -20.796875 \r\nL 25.09375 0 \r\nL 10.75 40.828125 \r\nQ 8.59375 46.96875 3.953125 46.96875 \r\nL 1.5625 46.96875 \r\nL 1.5625 54.6875 \r\nL 4.984375 54.6875 \r\nQ 14.59375 54.6875 17.625 46.09375 \r\nz\r\n\" id=\"DejaVuSans-947\"/>\r\n       <path d=\"M 8.015625 75.875 \r\nL 15.828125 75.875 \r\nQ 23.140625 64.359375 26.78125 53.3125 \r\nQ 30.421875 42.28125 30.421875 31.390625 \r\nQ 30.421875 20.453125 26.78125 9.375 \r\nQ 23.140625 -1.703125 15.828125 -13.1875 \r\nL 8.015625 -13.1875 \r\nQ 14.5 -2 17.703125 9.0625 \r\nQ 20.90625 20.125 20.90625 31.390625 \r\nQ 20.90625 42.671875 17.703125 53.65625 \r\nQ 14.5 64.65625 8.015625 75.875 \r\nz\r\n\" id=\"DejaVuSans-41\"/>\r\n      </defs>\r\n      <use xlink:href=\"#DejaVuSans-40\"/>\r\n      <use x=\"39.013672\" xlink:href=\"#DejaVuSans-945\"/>\r\n      <use x=\"104.931641\" xlink:href=\"#DejaVuSans-61\"/>\r\n      <use x=\"188.720703\" xlink:href=\"#DejaVuSans-54\"/>\r\n      <use x=\"252.34375\" xlink:href=\"#DejaVuSans-50\"/>\r\n      <use x=\"315.966797\" xlink:href=\"#DejaVuSans-54\"/>\r\n      <use x=\"379.589844\" xlink:href=\"#DejaVuSans-46\"/>\r\n      <use x=\"411.376953\" xlink:href=\"#DejaVuSans-54\"/>\r\n      <use x=\"475\" xlink:href=\"#DejaVuSans-51\"/>\r\n      <use x=\"538.623047\" xlink:href=\"#DejaVuSans-55\"/>\r\n      <use x=\"602.246094\" xlink:href=\"#DejaVuSans-44\"/>\r\n      <use x=\"634.033203\" xlink:href=\"#DejaVuSans-32\"/>\r\n      <use x=\"665.820312\" xlink:href=\"#DejaVuSans-946\"/>\r\n      <use x=\"729.638672\" xlink:href=\"#DejaVuSans-61\"/>\r\n      <use x=\"813.427734\" xlink:href=\"#DejaVuSans-49\"/>\r\n      <use x=\"877.050781\" xlink:href=\"#DejaVuSans-46\"/>\r\n      <use x=\"908.837891\" xlink:href=\"#DejaVuSans-55\"/>\r\n      <use x=\"972.460938\" xlink:href=\"#DejaVuSans-50\"/>\r\n      <use x=\"1036.083984\" xlink:href=\"#DejaVuSans-57\"/>\r\n      <use x=\"1099.707031\" xlink:href=\"#DejaVuSans-44\"/>\r\n      <use x=\"1131.494141\" xlink:href=\"#DejaVuSans-32\"/>\r\n      <use x=\"1163.28125\" xlink:href=\"#DejaVuSans-947\"/>\r\n      <use x=\"1222.460938\" xlink:href=\"#DejaVuSans-61\"/>\r\n      <use x=\"1306.25\" xlink:href=\"#DejaVuSans-56\"/>\r\n      <use x=\"1369.873047\" xlink:href=\"#DejaVuSans-57\"/>\r\n      <use x=\"1433.496094\" xlink:href=\"#DejaVuSans-46\"/>\r\n      <use x=\"1465.283203\" xlink:href=\"#DejaVuSans-48\"/>\r\n      <use x=\"1528.90625\" xlink:href=\"#DejaVuSans-48\"/>\r\n      <use x=\"1592.529297\" xlink:href=\"#DejaVuSans-53\"/>\r\n      <use x=\"1656.152344\" xlink:href=\"#DejaVuSans-41\"/>\r\n     </g>\r\n    </g>\r\n   </g>\r\n  </g>\r\n </g>\r\n <defs>\r\n  <clipPath id=\"p470094317b\">\r\n   <rect height=\"355.32\" width=\"502.2\" x=\"66.007812\" y=\"35.7555\"/>\r\n  </clipPath>\r\n </defs>\r\n</svg>\r\n",
      "image/png": "[encoded data removed]"
     },
     "metadata": {
      "needs_background": "light"
     }
    }
   ],
   "source": [
    "t_failures = []\n",
    "for timeline in fm._timelines.values():\n",
    "    t_failures = np.append(t_failures, np.argmax(timeline['failure']))\n",
    "\n",
    "# Arange into failures and censored data\n",
    "failures = t_failures[t_failures > 0]\n",
    "censored = np.full(sum(t_failures==0), 200)\n",
    "\n",
    "# Fit the Weibull\n",
    "Fit_Weibull_3P(failures=failures, right_censored=censored);"
   ]
  },
  {
   "cell_type": "markdown",
   "metadata": {},
   "source": [
    "## Condition"
   ]
  },
  {
   "cell_type": "code",
   "execution_count": 11,
   "metadata": {},
   "outputs": [],
   "source": [
    "mean = np.array([fm._timelines[x]['wall_thickness'] for x in fm._timelines]).mean(axis=0)\n",
    "sd = np.array([fm._timelines[x]['wall_thickness'] for x in fm._timelines]).std(axis=0)\n",
    "\n",
    "upper = mean + sd\n",
    "lower = mean - sd\n",
    "\n",
    "upper[upper > 100] = 100\n",
    "lower[lower < 0] = 0\n",
    "\n"
   ]
  },
  {
   "cell_type": "code",
   "execution_count": 9,
   "metadata": {},
   "outputs": [
    {
     "output_type": "execute_result",
     "data": {
      "text/plain": "[<matplotlib.lines.Line2D at 0x1ff3d0822e0>]"
     },
     "metadata": {},
     "execution_count": 9
    },
    {
     "output_type": "display_data",
     "data": {
      "text/plain": "<Figure size 432x288 with 1 Axes>",
      "image/svg+xml": "<?xml version=\"1.0\" encoding=\"utf-8\" standalone=\"no\"?>\r\n<!DOCTYPE svg PUBLIC \"-//W3C//DTD SVG 1.1//EN\"\r\n  \"http://www.w3.org/Graphics/SVG/1.1/DTD/svg11.dtd\">\r\n<!-- Created with matplotlib (https://matplotlib.org/) -->\r\n<svg height=\"248.518125pt\" version=\"1.1\" viewBox=\"0 0 375.2875 248.518125\" width=\"375.2875pt\" xmlns=\"http://www.w3.org/2000/svg\" xmlns:xlink=\"http://www.w3.org/1999/xlink\">\r\n <metadata>\r\n  <rdf:RDF xmlns:cc=\"http://creativecommons.org/ns#\" xmlns:dc=\"http://purl.org/dc/elements/1.1/\" xmlns:rdf=\"http://www.w3.org/1999/02/22-rdf-syntax-ns#\">\r\n   <cc:Work>\r\n    <dc:type rdf:resource=\"http://purl.org/dc/dcmitype/StillImage\"/>\r\n    <dc:date>2020-08-26T21:44:20.226370</dc:date>\r\n    <dc:format>image/svg+xml</dc:format>\r\n    <dc:creator>\r\n     <cc:Agent>\r\n      <dc:title>Matplotlib v3.3.0, https://matplotlib.org/</dc:title>\r\n     </cc:Agent>\r\n    </dc:creator>\r\n   </cc:Work>\r\n  </rdf:RDF>\r\n </metadata>\r\n <defs>\r\n  <style type=\"text/css\">*{stroke-linecap:butt;stroke-linejoin:round;}</style>\r\n </defs>\r\n <g id=\"figure_1\">\r\n  <g id=\"patch_1\">\r\n   <path d=\"M 0 248.518125 \r\nL 375.2875 248.518125 \r\nL 375.2875 0 \r\nL 0 0 \r\nz\r\n\" style=\"fill:none;\"/>\r\n  </g>\r\n  <g id=\"axes_1\">\r\n   <g id=\"patch_2\">\r\n    <path d=\"M 33.2875 224.64 \r\nL 368.0875 224.64 \r\nL 368.0875 7.2 \r\nL 33.2875 7.2 \r\nz\r\n\" style=\"fill:#ffffff;\"/>\r\n   </g>\r\n   <g id=\"matplotlib.axis_1\">\r\n    <g id=\"xtick_1\">\r\n     <g id=\"line2d_1\">\r\n      <defs>\r\n       <path d=\"M 0 0 \r\nL 0 3.5 \r\n\" id=\"m2c030d421b\" style=\"stroke:#000000;stroke-width:0.8;\"/>\r\n      </defs>\r\n      <g>\r\n       <use style=\"stroke:#000000;stroke-width:0.8;\" x=\"48.505682\" xlink:href=\"#m2c030d421b\" y=\"224.64\"/>\r\n      </g>\r\n     </g>\r\n     <g id=\"text_1\">\r\n      <!-- 0 -->\r\n      <g transform=\"translate(45.324432 239.238437)scale(0.1 -0.1)\">\r\n       <defs>\r\n        <path d=\"M 31.78125 66.40625 \r\nQ 24.171875 66.40625 20.328125 58.90625 \r\nQ 16.5 51.421875 16.5 36.375 \r\nQ 16.5 21.390625 20.328125 13.890625 \r\nQ 24.171875 6.390625 31.78125 6.390625 \r\nQ 39.453125 6.390625 43.28125 13.890625 \r\nQ 47.125 21.390625 47.125 36.375 \r\nQ 47.125 51.421875 43.28125 58.90625 \r\nQ 39.453125 66.40625 31.78125 66.40625 \r\nz\r\nM 31.78125 74.21875 \r\nQ 44.046875 74.21875 50.515625 64.515625 \r\nQ 56.984375 54.828125 56.984375 36.375 \r\nQ 56.984375 17.96875 50.515625 8.265625 \r\nQ 44.046875 -1.421875 31.78125 -1.421875 \r\nQ 19.53125 -1.421875 13.0625 8.265625 \r\nQ 6.59375 17.96875 6.59375 36.375 \r\nQ 6.59375 54.828125 13.0625 64.515625 \r\nQ 19.53125 74.21875 31.78125 74.21875 \r\nz\r\n\" id=\"DejaVuSans-48\"/>\r\n       </defs>\r\n       <use xlink:href=\"#DejaVuSans-48\"/>\r\n      </g>\r\n     </g>\r\n    </g>\r\n    <g id=\"xtick_2\">\r\n     <g id=\"line2d_2\">\r\n      <g>\r\n       <use style=\"stroke:#000000;stroke-width:0.8;\" x=\"86.551136\" xlink:href=\"#m2c030d421b\" y=\"224.64\"/>\r\n      </g>\r\n     </g>\r\n     <g id=\"text_2\">\r\n      <!-- 25 -->\r\n      <g transform=\"translate(80.188636 239.238437)scale(0.1 -0.1)\">\r\n       <defs>\r\n        <path d=\"M 19.1875 8.296875 \r\nL 53.609375 8.296875 \r\nL 53.609375 0 \r\nL 7.328125 0 \r\nL 7.328125 8.296875 \r\nQ 12.9375 14.109375 22.625 23.890625 \r\nQ 32.328125 33.6875 34.8125 36.53125 \r\nQ 39.546875 41.84375 41.421875 45.53125 \r\nQ 43.3125 49.21875 43.3125 52.78125 \r\nQ 43.3125 58.59375 39.234375 62.25 \r\nQ 35.15625 65.921875 28.609375 65.921875 \r\nQ 23.96875 65.921875 18.8125 64.3125 \r\nQ 13.671875 62.703125 7.8125 59.421875 \r\nL 7.8125 69.390625 \r\nQ 13.765625 71.78125 18.9375 73 \r\nQ 24.125 74.21875 28.421875 74.21875 \r\nQ 39.75 74.21875 46.484375 68.546875 \r\nQ 53.21875 62.890625 53.21875 53.421875 \r\nQ 53.21875 48.921875 51.53125 44.890625 \r\nQ 49.859375 40.875 45.40625 35.40625 \r\nQ 44.1875 33.984375 37.640625 27.21875 \r\nQ 31.109375 20.453125 19.1875 8.296875 \r\nz\r\n\" id=\"DejaVuSans-50\"/>\r\n        <path d=\"M 10.796875 72.90625 \r\nL 49.515625 72.90625 \r\nL 49.515625 64.59375 \r\nL 19.828125 64.59375 \r\nL 19.828125 46.734375 \r\nQ 21.96875 47.46875 24.109375 47.828125 \r\nQ 26.265625 48.1875 28.421875 48.1875 \r\nQ 40.625 48.1875 47.75 41.5 \r\nQ 54.890625 34.8125 54.890625 23.390625 \r\nQ 54.890625 11.625 47.5625 5.09375 \r\nQ 40.234375 -1.421875 26.90625 -1.421875 \r\nQ 22.3125 -1.421875 17.546875 -0.640625 \r\nQ 12.796875 0.140625 7.71875 1.703125 \r\nL 7.71875 11.625 \r\nQ 12.109375 9.234375 16.796875 8.0625 \r\nQ 21.484375 6.890625 26.703125 6.890625 \r\nQ 35.15625 6.890625 40.078125 11.328125 \r\nQ 45.015625 15.765625 45.015625 23.390625 \r\nQ 45.015625 31 40.078125 35.4375 \r\nQ 35.15625 39.890625 26.703125 39.890625 \r\nQ 22.75 39.890625 18.8125 39.015625 \r\nQ 14.890625 38.140625 10.796875 36.28125 \r\nz\r\n\" id=\"DejaVuSans-53\"/>\r\n       </defs>\r\n       <use xlink:href=\"#DejaVuSans-50\"/>\r\n       <use x=\"63.623047\" xlink:href=\"#DejaVuSans-53\"/>\r\n      </g>\r\n     </g>\r\n    </g>\r\n    <g id=\"xtick_3\">\r\n     <g id=\"line2d_3\">\r\n      <g>\r\n       <use style=\"stroke:#000000;stroke-width:0.8;\" x=\"124.596591\" xlink:href=\"#m2c030d421b\" y=\"224.64\"/>\r\n      </g>\r\n     </g>\r\n     <g id=\"text_3\">\r\n      <!-- 50 -->\r\n      <g transform=\"translate(118.234091 239.238437)scale(0.1 -0.1)\">\r\n       <use xlink:href=\"#DejaVuSans-53\"/>\r\n       <use x=\"63.623047\" xlink:href=\"#DejaVuSans-48\"/>\r\n      </g>\r\n     </g>\r\n    </g>\r\n    <g id=\"xtick_4\">\r\n     <g id=\"line2d_4\">\r\n      <g>\r\n       <use style=\"stroke:#000000;stroke-width:0.8;\" x=\"162.642045\" xlink:href=\"#m2c030d421b\" y=\"224.64\"/>\r\n      </g>\r\n     </g>\r\n     <g id=\"text_4\">\r\n      <!-- 75 -->\r\n      <g transform=\"translate(156.279545 239.238437)scale(0.1 -0.1)\">\r\n       <defs>\r\n        <path d=\"M 8.203125 72.90625 \r\nL 55.078125 72.90625 \r\nL 55.078125 68.703125 \r\nL 28.609375 0 \r\nL 18.3125 0 \r\nL 43.21875 64.59375 \r\nL 8.203125 64.59375 \r\nz\r\n\" id=\"DejaVuSans-55\"/>\r\n       </defs>\r\n       <use xlink:href=\"#DejaVuSans-55\"/>\r\n       <use x=\"63.623047\" xlink:href=\"#DejaVuSans-53\"/>\r\n      </g>\r\n     </g>\r\n    </g>\r\n    <g id=\"xtick_5\">\r\n     <g id=\"line2d_5\">\r\n      <g>\r\n       <use style=\"stroke:#000000;stroke-width:0.8;\" x=\"200.6875\" xlink:href=\"#m2c030d421b\" y=\"224.64\"/>\r\n      </g>\r\n     </g>\r\n     <g id=\"text_5\">\r\n      <!-- 100 -->\r\n      <g transform=\"translate(191.14375 239.238437)scale(0.1 -0.1)\">\r\n       <defs>\r\n        <path d=\"M 12.40625 8.296875 \r\nL 28.515625 8.296875 \r\nL 28.515625 63.921875 \r\nL 10.984375 60.40625 \r\nL 10.984375 69.390625 \r\nL 28.421875 72.90625 \r\nL 38.28125 72.90625 \r\nL 38.28125 8.296875 \r\nL 54.390625 8.296875 \r\nL 54.390625 0 \r\nL 12.40625 0 \r\nz\r\n\" id=\"DejaVuSans-49\"/>\r\n       </defs>\r\n       <use xlink:href=\"#DejaVuSans-49\"/>\r\n       <use x=\"63.623047\" xlink:href=\"#DejaVuSans-48\"/>\r\n       <use x=\"127.246094\" xlink:href=\"#DejaVuSans-48\"/>\r\n      </g>\r\n     </g>\r\n    </g>\r\n    <g id=\"xtick_6\">\r\n     <g id=\"line2d_6\">\r\n      <g>\r\n       <use style=\"stroke:#000000;stroke-width:0.8;\" x=\"238.732955\" xlink:href=\"#m2c030d421b\" y=\"224.64\"/>\r\n      </g>\r\n     </g>\r\n     <g id=\"text_6\">\r\n      <!-- 125 -->\r\n      <g transform=\"translate(229.189205 239.238437)scale(0.1 -0.1)\">\r\n       <use xlink:href=\"#DejaVuSans-49\"/>\r\n       <use x=\"63.623047\" xlink:href=\"#DejaVuSans-50\"/>\r\n       <use x=\"127.246094\" xlink:href=\"#DejaVuSans-53\"/>\r\n      </g>\r\n     </g>\r\n    </g>\r\n    <g id=\"xtick_7\">\r\n     <g id=\"line2d_7\">\r\n      <g>\r\n       <use style=\"stroke:#000000;stroke-width:0.8;\" x=\"276.778409\" xlink:href=\"#m2c030d421b\" y=\"224.64\"/>\r\n      </g>\r\n     </g>\r\n     <g id=\"text_7\">\r\n      <!-- 150 -->\r\n      <g transform=\"translate(267.234659 239.238437)scale(0.1 -0.1)\">\r\n       <use xlink:href=\"#DejaVuSans-49\"/>\r\n       <use x=\"63.623047\" xlink:href=\"#DejaVuSans-53\"/>\r\n       <use x=\"127.246094\" xlink:href=\"#DejaVuSans-48\"/>\r\n      </g>\r\n     </g>\r\n    </g>\r\n    <g id=\"xtick_8\">\r\n     <g id=\"line2d_8\">\r\n      <g>\r\n       <use style=\"stroke:#000000;stroke-width:0.8;\" x=\"314.823864\" xlink:href=\"#m2c030d421b\" y=\"224.64\"/>\r\n      </g>\r\n     </g>\r\n     <g id=\"text_8\">\r\n      <!-- 175 -->\r\n      <g transform=\"translate(305.280114 239.238437)scale(0.1 -0.1)\">\r\n       <use xlink:href=\"#DejaVuSans-49\"/>\r\n       <use x=\"63.623047\" xlink:href=\"#DejaVuSans-55\"/>\r\n       <use x=\"127.246094\" xlink:href=\"#DejaVuSans-53\"/>\r\n      </g>\r\n     </g>\r\n    </g>\r\n    <g id=\"xtick_9\">\r\n     <g id=\"line2d_9\">\r\n      <g>\r\n       <use style=\"stroke:#000000;stroke-width:0.8;\" x=\"352.869318\" xlink:href=\"#m2c030d421b\" y=\"224.64\"/>\r\n      </g>\r\n     </g>\r\n     <g id=\"text_9\">\r\n      <!-- 200 -->\r\n      <g transform=\"translate(343.325568 239.238437)scale(0.1 -0.1)\">\r\n       <use xlink:href=\"#DejaVuSans-50\"/>\r\n       <use x=\"63.623047\" xlink:href=\"#DejaVuSans-48\"/>\r\n       <use x=\"127.246094\" xlink:href=\"#DejaVuSans-48\"/>\r\n      </g>\r\n     </g>\r\n    </g>\r\n   </g>\r\n   <g id=\"matplotlib.axis_2\">\r\n    <g id=\"ytick_1\">\r\n     <g id=\"line2d_10\">\r\n      <defs>\r\n       <path d=\"M 0 0 \r\nL -3.5 0 \r\n\" id=\"m170ec23bae\" style=\"stroke:#000000;stroke-width:0.8;\"/>\r\n      </defs>\r\n      <g>\r\n       <use style=\"stroke:#000000;stroke-width:0.8;\" x=\"33.2875\" xlink:href=\"#m170ec23bae\" y=\"203.595849\"/>\r\n      </g>\r\n     </g>\r\n     <g id=\"text_10\">\r\n      <!-- 50 -->\r\n      <g transform=\"translate(13.5625 207.395068)scale(0.1 -0.1)\">\r\n       <use xlink:href=\"#DejaVuSans-53\"/>\r\n       <use x=\"63.623047\" xlink:href=\"#DejaVuSans-48\"/>\r\n      </g>\r\n     </g>\r\n    </g>\r\n    <g id=\"ytick_2\">\r\n     <g id=\"line2d_11\">\r\n      <g>\r\n       <use style=\"stroke:#000000;stroke-width:0.8;\" x=\"33.2875\" xlink:href=\"#m170ec23bae\" y=\"166.293407\"/>\r\n      </g>\r\n     </g>\r\n     <g id=\"text_11\">\r\n      <!-- 60 -->\r\n      <g transform=\"translate(13.5625 170.092626)scale(0.1 -0.1)\">\r\n       <defs>\r\n        <path d=\"M 33.015625 40.375 \r\nQ 26.375 40.375 22.484375 35.828125 \r\nQ 18.609375 31.296875 18.609375 23.390625 \r\nQ 18.609375 15.53125 22.484375 10.953125 \r\nQ 26.375 6.390625 33.015625 6.390625 \r\nQ 39.65625 6.390625 43.53125 10.953125 \r\nQ 47.40625 15.53125 47.40625 23.390625 \r\nQ 47.40625 31.296875 43.53125 35.828125 \r\nQ 39.65625 40.375 33.015625 40.375 \r\nz\r\nM 52.59375 71.296875 \r\nL 52.59375 62.3125 \r\nQ 48.875 64.0625 45.09375 64.984375 \r\nQ 41.3125 65.921875 37.59375 65.921875 \r\nQ 27.828125 65.921875 22.671875 59.328125 \r\nQ 17.53125 52.734375 16.796875 39.40625 \r\nQ 19.671875 43.65625 24.015625 45.921875 \r\nQ 28.375 48.1875 33.59375 48.1875 \r\nQ 44.578125 48.1875 50.953125 41.515625 \r\nQ 57.328125 34.859375 57.328125 23.390625 \r\nQ 57.328125 12.15625 50.6875 5.359375 \r\nQ 44.046875 -1.421875 33.015625 -1.421875 \r\nQ 20.359375 -1.421875 13.671875 8.265625 \r\nQ 6.984375 17.96875 6.984375 36.375 \r\nQ 6.984375 53.65625 15.1875 63.9375 \r\nQ 23.390625 74.21875 37.203125 74.21875 \r\nQ 40.921875 74.21875 44.703125 73.484375 \r\nQ 48.484375 72.75 52.59375 71.296875 \r\nz\r\n\" id=\"DejaVuSans-54\"/>\r\n       </defs>\r\n       <use xlink:href=\"#DejaVuSans-54\"/>\r\n       <use x=\"63.623047\" xlink:href=\"#DejaVuSans-48\"/>\r\n      </g>\r\n     </g>\r\n    </g>\r\n    <g id=\"ytick_3\">\r\n     <g id=\"line2d_12\">\r\n      <g>\r\n       <use style=\"stroke:#000000;stroke-width:0.8;\" x=\"33.2875\" xlink:href=\"#m170ec23bae\" y=\"128.990964\"/>\r\n      </g>\r\n     </g>\r\n     <g id=\"text_12\">\r\n      <!-- 70 -->\r\n      <g transform=\"translate(13.5625 132.790183)scale(0.1 -0.1)\">\r\n       <use xlink:href=\"#DejaVuSans-55\"/>\r\n       <use x=\"63.623047\" xlink:href=\"#DejaVuSans-48\"/>\r\n      </g>\r\n     </g>\r\n    </g>\r\n    <g id=\"ytick_4\">\r\n     <g id=\"line2d_13\">\r\n      <g>\r\n       <use style=\"stroke:#000000;stroke-width:0.8;\" x=\"33.2875\" xlink:href=\"#m170ec23bae\" y=\"91.688522\"/>\r\n      </g>\r\n     </g>\r\n     <g id=\"text_13\">\r\n      <!-- 80 -->\r\n      <g transform=\"translate(13.5625 95.48774)scale(0.1 -0.1)\">\r\n       <defs>\r\n        <path d=\"M 31.78125 34.625 \r\nQ 24.75 34.625 20.71875 30.859375 \r\nQ 16.703125 27.09375 16.703125 20.515625 \r\nQ 16.703125 13.921875 20.71875 10.15625 \r\nQ 24.75 6.390625 31.78125 6.390625 \r\nQ 38.8125 6.390625 42.859375 10.171875 \r\nQ 46.921875 13.96875 46.921875 20.515625 \r\nQ 46.921875 27.09375 42.890625 30.859375 \r\nQ 38.875 34.625 31.78125 34.625 \r\nz\r\nM 21.921875 38.8125 \r\nQ 15.578125 40.375 12.03125 44.71875 \r\nQ 8.5 49.078125 8.5 55.328125 \r\nQ 8.5 64.0625 14.71875 69.140625 \r\nQ 20.953125 74.21875 31.78125 74.21875 \r\nQ 42.671875 74.21875 48.875 69.140625 \r\nQ 55.078125 64.0625 55.078125 55.328125 \r\nQ 55.078125 49.078125 51.53125 44.71875 \r\nQ 48 40.375 41.703125 38.8125 \r\nQ 48.828125 37.15625 52.796875 32.3125 \r\nQ 56.78125 27.484375 56.78125 20.515625 \r\nQ 56.78125 9.90625 50.3125 4.234375 \r\nQ 43.84375 -1.421875 31.78125 -1.421875 \r\nQ 19.734375 -1.421875 13.25 4.234375 \r\nQ 6.78125 9.90625 6.78125 20.515625 \r\nQ 6.78125 27.484375 10.78125 32.3125 \r\nQ 14.796875 37.15625 21.921875 38.8125 \r\nz\r\nM 18.3125 54.390625 \r\nQ 18.3125 48.734375 21.84375 45.5625 \r\nQ 25.390625 42.390625 31.78125 42.390625 \r\nQ 38.140625 42.390625 41.71875 45.5625 \r\nQ 45.3125 48.734375 45.3125 54.390625 \r\nQ 45.3125 60.0625 41.71875 63.234375 \r\nQ 38.140625 66.40625 31.78125 66.40625 \r\nQ 25.390625 66.40625 21.84375 63.234375 \r\nQ 18.3125 60.0625 18.3125 54.390625 \r\nz\r\n\" id=\"DejaVuSans-56\"/>\r\n       </defs>\r\n       <use xlink:href=\"#DejaVuSans-56\"/>\r\n       <use x=\"63.623047\" xlink:href=\"#DejaVuSans-48\"/>\r\n      </g>\r\n     </g>\r\n    </g>\r\n    <g id=\"ytick_5\">\r\n     <g id=\"line2d_14\">\r\n      <g>\r\n       <use style=\"stroke:#000000;stroke-width:0.8;\" x=\"33.2875\" xlink:href=\"#m170ec23bae\" y=\"54.386079\"/>\r\n      </g>\r\n     </g>\r\n     <g id=\"text_14\">\r\n      <!-- 90 -->\r\n      <g transform=\"translate(13.5625 58.185298)scale(0.1 -0.1)\">\r\n       <defs>\r\n        <path d=\"M 10.984375 1.515625 \r\nL 10.984375 10.5 \r\nQ 14.703125 8.734375 18.5 7.8125 \r\nQ 22.3125 6.890625 25.984375 6.890625 \r\nQ 35.75 6.890625 40.890625 13.453125 \r\nQ 46.046875 20.015625 46.78125 33.40625 \r\nQ 43.953125 29.203125 39.59375 26.953125 \r\nQ 35.25 24.703125 29.984375 24.703125 \r\nQ 19.046875 24.703125 12.671875 31.3125 \r\nQ 6.296875 37.9375 6.296875 49.421875 \r\nQ 6.296875 60.640625 12.9375 67.421875 \r\nQ 19.578125 74.21875 30.609375 74.21875 \r\nQ 43.265625 74.21875 49.921875 64.515625 \r\nQ 56.59375 54.828125 56.59375 36.375 \r\nQ 56.59375 19.140625 48.40625 8.859375 \r\nQ 40.234375 -1.421875 26.421875 -1.421875 \r\nQ 22.703125 -1.421875 18.890625 -0.6875 \r\nQ 15.09375 0.046875 10.984375 1.515625 \r\nz\r\nM 30.609375 32.421875 \r\nQ 37.25 32.421875 41.125 36.953125 \r\nQ 45.015625 41.5 45.015625 49.421875 \r\nQ 45.015625 57.28125 41.125 61.84375 \r\nQ 37.25 66.40625 30.609375 66.40625 \r\nQ 23.96875 66.40625 20.09375 61.84375 \r\nQ 16.21875 57.28125 16.21875 49.421875 \r\nQ 16.21875 41.5 20.09375 36.953125 \r\nQ 23.96875 32.421875 30.609375 32.421875 \r\nz\r\n\" id=\"DejaVuSans-57\"/>\r\n       </defs>\r\n       <use xlink:href=\"#DejaVuSans-57\"/>\r\n       <use x=\"63.623047\" xlink:href=\"#DejaVuSans-48\"/>\r\n      </g>\r\n     </g>\r\n    </g>\r\n    <g id=\"ytick_6\">\r\n     <g id=\"line2d_15\">\r\n      <g>\r\n       <use style=\"stroke:#000000;stroke-width:0.8;\" x=\"33.2875\" xlink:href=\"#m170ec23bae\" y=\"17.083636\"/>\r\n      </g>\r\n     </g>\r\n     <g id=\"text_15\">\r\n      <!-- 100 -->\r\n      <g transform=\"translate(7.2 20.882855)scale(0.1 -0.1)\">\r\n       <use xlink:href=\"#DejaVuSans-49\"/>\r\n       <use x=\"63.623047\" xlink:href=\"#DejaVuSans-48\"/>\r\n       <use x=\"127.246094\" xlink:href=\"#DejaVuSans-48\"/>\r\n      </g>\r\n     </g>\r\n    </g>\r\n   </g>\r\n   <g id=\"line2d_16\">\r\n    <path clip-path=\"url(#pdf20aa1bda)\" d=\"M 48.505682 17.083636 \r\nL 180.903864 17.083636 \r\nL 182.425682 17.337612 \r\nL 185.469318 18.013057 \r\nL 186.991136 18.159233 \r\nL 190.034773 18.944611 \r\nL 194.600227 20.92695 \r\nL 196.122045 21.423169 \r\nL 197.643864 21.785734 \r\nL 200.6875 21.922954 \r\nL 203.731136 21.858375 \r\nL 205.252955 22.234262 \r\nL 208.296591 22.601854 \r\nL 209.818409 23.30851 \r\nL 211.340227 23.780721 \r\nL 212.862045 24.707159 \r\nL 214.383864 25.126275 \r\nL 218.949318 26.016647 \r\nL 225.036591 27.809176 \r\nL 231.123864 30.160186 \r\nL 234.1675 30.778486 \r\nL 235.689318 30.942509 \r\nL 237.211136 31.381787 \r\nL 238.732955 31.947518 \r\nL 240.254773 32.286204 \r\nL 241.776591 32.843961 \r\nL 243.298409 33.586267 \r\nL 244.820227 34.196105 \r\nL 256.994773 37.554433 \r\nL 258.516591 38.065112 \r\nL 264.603864 39.182347 \r\nL 269.169318 40.66932 \r\nL 275.256591 41.750255 \r\nL 276.778409 41.926025 \r\nL 278.300227 42.252342 \r\nL 284.3875 44.167597 \r\nL 293.518409 46.277186 \r\nL 298.083864 47.052776 \r\nL 299.605682 47.359392 \r\nL 301.1275 47.419559 \r\nL 302.649318 47.813269 \r\nL 305.692955 48.872957 \r\nL 311.780227 50.368479 \r\nL 319.389318 51.847309 \r\nL 320.911136 52.347198 \r\nL 325.476591 53.218655 \r\nL 331.563864 54.395611 \r\nL 334.6075 55.161107 \r\nL 336.129318 55.363105 \r\nL 342.216591 57.047895 \r\nL 345.260227 57.969023 \r\nL 351.3475 59.542591 \r\nL 352.869318 60.160874 \r\nL 352.869318 60.160874 \r\n\" style=\"fill:none;stroke:#1f77b4;stroke-linecap:square;stroke-width:1.5;\"/>\r\n   </g>\r\n   <g id=\"line2d_17\">\r\n    <path clip-path=\"url(#pdf20aa1bda)\" d=\"M 48.505682 17.083636 \r\nL 50.0275 17.176892 \r\nL 53.071136 17.960244 \r\nL 54.592955 18.482478 \r\nL 56.114773 19.247178 \r\nL 60.680227 22.02621 \r\nL 65.245682 25.290174 \r\nL 72.854773 29.412094 \r\nL 83.5075 34.876901 \r\nL 89.594773 38.21547 \r\nL 98.725682 42.411995 \r\nL 103.291136 45.116422 \r\nL 106.334773 46.552566 \r\nL 107.856591 47.261312 \r\nL 110.900227 49.033178 \r\nL 113.943864 50.469322 \r\nL 121.552955 54.497986 \r\nL 126.118409 56.754784 \r\nL 132.205682 58.806418 \r\nL 135.249318 59.701677 \r\nL 136.771136 60.112004 \r\nL 138.292955 60.652889 \r\nL 145.902045 64.084714 \r\nL 148.945682 65.893883 \r\nL 153.511136 67.889563 \r\nL 156.554773 69.754685 \r\nL 158.076591 70.314222 \r\nL 164.163864 73.167859 \r\nL 165.685682 73.708744 \r\nL 168.729318 75.144888 \r\nL 171.772955 76.804847 \r\nL 174.816591 77.662803 \r\nL 177.860227 78.856481 \r\nL 179.382045 79.583879 \r\nL 180.903864 80.106113 \r\nL 185.469318 82.157747 \r\nL 186.991136 82.95975 \r\nL 190.034773 83.948265 \r\nL 193.078409 85.626875 \r\nL 196.122045 86.801902 \r\nL 197.643864 87.510648 \r\nL 200.6875 88.685675 \r\nL 202.209318 89.338468 \r\nL 203.731136 89.618236 \r\nL 205.252955 89.67419 \r\nL 206.774773 90.233726 \r\nL 208.296591 90.979775 \r\nL 209.818409 91.017078 \r\nL 211.340227 91.520661 \r\nL 212.862045 91.259543 \r\nL 217.4275 93.255224 \r\nL 218.949318 93.553644 \r\nL 221.992955 94.430251 \r\nL 223.514773 95.045741 \r\nL 225.036591 95.79179 \r\nL 226.558409 96.258071 \r\nL 228.080227 96.910864 \r\nL 231.123864 98.664078 \r\nL 232.645682 99.596639 \r\nL 235.689318 100.305386 \r\nL 237.211136 100.398642 \r\nL 238.732955 100.67841 \r\nL 240.254773 101.480413 \r\nL 241.776591 101.928042 \r\nL 246.342045 103.867769 \r\nL 247.863864 104.595167 \r\nL 250.9075 105.41582 \r\nL 252.429318 105.956706 \r\nL 253.951136 106.684104 \r\nL 255.472955 107.560711 \r\nL 256.994773 108.026991 \r\nL 258.516591 108.176201 \r\nL 261.560227 109.593694 \r\nL 264.603864 110.414348 \r\nL 266.125682 110.526255 \r\nL 267.6475 111.179048 \r\nL 269.169318 111.589375 \r\nL 270.691136 112.521936 \r\nL 273.734773 113.118775 \r\nL 276.778409 113.939429 \r\nL 278.300227 114.57357 \r\nL 281.343864 115.394224 \r\nL 282.865682 116.047017 \r\nL 285.909318 118.098651 \r\nL 287.431136 118.620885 \r\nL 288.952955 119.273678 \r\nL 290.474773 119.255027 \r\nL 291.996591 119.646702 \r\nL 293.518409 119.721307 \r\nL 295.040227 120.150285 \r\nL 296.562045 120.336797 \r\nL 298.083864 121.045544 \r\nL 299.605682 121.101498 \r\nL 301.1275 122.015407 \r\nL 302.649318 122.351129 \r\nL 304.171136 122.873364 \r\nL 305.692955 123.544808 \r\nL 307.214773 124.402764 \r\nL 308.736591 124.999603 \r\nL 310.258409 124.999603 \r\nL 313.302045 125.950815 \r\nL 316.345682 126.491701 \r\nL 317.8675 126.398444 \r\nL 319.389318 126.808771 \r\nL 322.432955 128.188962 \r\nL 323.954773 128.31952 \r\nL 326.998409 129.065569 \r\nL 328.520227 129.587803 \r\nL 330.042045 130.333852 \r\nL 331.563864 130.445759 \r\nL 334.6075 131.359669 \r\nL 336.129318 131.900555 \r\nL 340.694773 132.945023 \r\nL 342.216591 133.429955 \r\nL 343.738409 134.12005 \r\nL 346.782045 134.903401 \r\nL 348.303864 135.332379 \r\nL 351.3475 136.600662 \r\nL 352.869318 137.458619 \r\nL 352.869318 137.458619 \r\n\" style=\"fill:none;stroke:#ff7f0e;stroke-linecap:square;stroke-width:1.5;\"/>\r\n   </g>\r\n   <g id=\"line2d_18\">\r\n    <path clip-path=\"url(#pdf20aa1bda)\" d=\"M 48.505682 17.083636 \r\nL 50.0275 18.492432 \r\nL 51.549318 20.941125 \r\nL 53.071136 23.940018 \r\nL 54.592955 27.257972 \r\nL 57.636591 34.868081 \r\nL 59.158409 37.651018 \r\nL 60.680227 40.90706 \r\nL 62.202045 44.487489 \r\nL 65.245682 50.620153 \r\nL 69.811136 57.099111 \r\nL 77.420227 65.347007 \r\nL 80.463864 68.342169 \r\nL 81.985682 69.926783 \r\nL 86.551136 75.33217 \r\nL 88.072955 77.247286 \r\nL 91.116591 79.981308 \r\nL 94.160227 83.153849 \r\nL 95.682045 85.042036 \r\nL 97.203864 85.933777 \r\nL 98.725682 86.987384 \r\nL 101.769318 90.225734 \r\nL 103.291136 92.056737 \r\nL 104.812955 93.018117 \r\nL 107.856591 95.394749 \r\nL 109.378409 96.838258 \r\nL 110.900227 98.536735 \r\nL 112.422045 99.437323 \r\nL 113.943864 100.557142 \r\nL 118.509318 104.589925 \r\nL 121.552955 106.413968 \r\nL 124.596591 108.474647 \r\nL 126.118409 109.748123 \r\nL 129.162045 111.191234 \r\nL 132.205682 113.141466 \r\nL 133.7275 114.235565 \r\nL 136.771136 115.379922 \r\nL 138.292955 116.185641 \r\nL 139.814773 117.439059 \r\nL 141.336591 118.841144 \r\nL 142.858409 119.474379 \r\nL 144.380227 120.369188 \r\nL 145.902045 121.40074 \r\nL 147.423864 122.730294 \r\nL 148.945682 124.288325 \r\nL 151.989318 125.591624 \r\nL 153.511136 126.692176 \r\nL 155.032955 128.035898 \r\nL 156.554773 129.604545 \r\nL 158.076591 130.209575 \r\nL 161.120227 131.987285 \r\nL 162.642045 132.984916 \r\nL 164.163864 134.191711 \r\nL 165.685682 134.691975 \r\nL 167.2075 135.460634 \r\nL 168.729318 136.445387 \r\nL 170.251136 137.643705 \r\nL 171.772955 139.182506 \r\nL 173.294773 139.589007 \r\nL 176.338409 140.77922 \r\nL 177.860227 141.699352 \r\nL 179.382045 142.816193 \r\nL 180.903864 143.386711 \r\nL 182.425682 144.1802 \r\nL 183.9475 145.133213 \r\nL 185.469318 146.302438 \r\nL 186.991136 147.760267 \r\nL 190.034773 148.951919 \r\nL 191.556591 149.895157 \r\nL 193.078409 151.096049 \r\nL 194.600227 151.483175 \r\nL 196.122045 152.180634 \r\nL 200.6875 155.448396 \r\nL 202.209318 156.829411 \r\nL 203.731136 157.378097 \r\nL 205.252955 157.114117 \r\nL 206.774773 158.058338 \r\nL 208.296591 159.357696 \r\nL 209.818409 158.725645 \r\nL 211.340227 159.2606 \r\nL 212.862045 157.811928 \r\nL 214.383864 158.661095 \r\nL 215.905682 159.654023 \r\nL 217.4275 160.887299 \r\nL 218.949318 161.090641 \r\nL 221.992955 162.006874 \r\nL 223.514773 162.756611 \r\nL 225.036591 163.774405 \r\nL 226.558409 164.116164 \r\nL 228.080227 164.796185 \r\nL 229.602045 165.845573 \r\nL 231.123864 167.16797 \r\nL 232.645682 168.702432 \r\nL 234.1675 169.12354 \r\nL 235.689318 169.668262 \r\nL 237.211136 169.415497 \r\nL 238.732955 169.409302 \r\nL 240.254773 170.674621 \r\nL 241.776591 171.012123 \r\nL 243.298409 171.500798 \r\nL 244.820227 172.196545 \r\nL 246.342045 173.125334 \r\nL 247.863864 174.229786 \r\nL 250.9075 174.993386 \r\nL 252.429318 175.607906 \r\nL 253.951136 176.613957 \r\nL 255.472955 177.9942 \r\nL 256.994773 178.499549 \r\nL 258.516591 178.287291 \r\nL 260.038409 179.371955 \r\nL 261.560227 180.67516 \r\nL 263.082045 181.238544 \r\nL 264.603864 181.646348 \r\nL 266.125682 181.351551 \r\nL 267.6475 182.217863 \r\nL 269.169318 182.509429 \r\nL 270.691136 184.093336 \r\nL 272.212955 184.31198 \r\nL 273.734773 184.703511 \r\nL 276.778409 185.952833 \r\nL 278.300227 186.894798 \r\nL 279.822045 187.114396 \r\nL 281.343864 187.551938 \r\nL 282.865682 188.466527 \r\nL 284.3875 189.866163 \r\nL 285.909318 191.6728 \r\nL 287.431136 192.336552 \r\nL 288.952955 193.353453 \r\nL 290.474773 192.877793 \r\nL 291.996591 193.341449 \r\nL 293.518409 193.165428 \r\nL 295.040227 193.786771 \r\nL 296.562045 193.844155 \r\nL 298.083864 195.038312 \r\nL 299.605682 194.843603 \r\nL 301.1275 196.611256 \r\nL 302.649318 196.888989 \r\nL 304.171136 197.409245 \r\nL 305.692955 198.216658 \r\nL 307.214773 199.540764 \r\nL 308.736591 200.342697 \r\nL 310.258409 199.963138 \r\nL 311.780227 200.525985 \r\nL 313.302045 201.257488 \r\nL 314.823864 201.460839 \r\nL 316.345682 201.78362 \r\nL 317.8675 201.277184 \r\nL 319.389318 201.770234 \r\nL 320.911136 202.57593 \r\nL 322.432955 203.709484 \r\nL 323.954773 203.668386 \r\nL 325.476591 204.054527 \r\nL 326.998409 204.620246 \r\nL 328.520227 205.434265 \r\nL 330.042045 206.62354 \r\nL 331.563864 206.495908 \r\nL 333.085682 206.897278 \r\nL 334.6075 207.558231 \r\nL 336.129318 208.438004 \r\nL 337.651136 208.701107 \r\nL 339.172955 209.077429 \r\nL 340.694773 209.335508 \r\nL 342.216591 209.812014 \r\nL 343.738409 210.684109 \r\nL 345.260227 210.979823 \r\nL 348.303864 211.953267 \r\nL 349.825682 212.687837 \r\nL 352.869318 214.756364 \r\nL 352.869318 214.756364 \r\n\" style=\"fill:none;stroke:#2ca02c;stroke-linecap:square;stroke-width:1.5;\"/>\r\n   </g>\r\n   <g id=\"patch_3\">\r\n    <path d=\"M 33.2875 224.64 \r\nL 33.2875 7.2 \r\n\" style=\"fill:none;stroke:#000000;stroke-linecap:square;stroke-linejoin:miter;stroke-width:0.8;\"/>\r\n   </g>\r\n   <g id=\"patch_4\">\r\n    <path d=\"M 368.0875 224.64 \r\nL 368.0875 7.2 \r\n\" style=\"fill:none;stroke:#000000;stroke-linecap:square;stroke-linejoin:miter;stroke-width:0.8;\"/>\r\n   </g>\r\n   <g id=\"patch_5\">\r\n    <path d=\"M 33.2875 224.64 \r\nL 368.0875 224.64 \r\n\" style=\"fill:none;stroke:#000000;stroke-linecap:square;stroke-linejoin:miter;stroke-width:0.8;\"/>\r\n   </g>\r\n   <g id=\"patch_6\">\r\n    <path d=\"M 33.2875 7.2 \r\nL 368.0875 7.2 \r\n\" style=\"fill:none;stroke:#000000;stroke-linecap:square;stroke-linejoin:miter;stroke-width:0.8;\"/>\r\n   </g>\r\n  </g>\r\n </g>\r\n <defs>\r\n  <clipPath id=\"pdf20aa1bda\">\r\n   <rect height=\"217.44\" width=\"334.8\" x=\"33.2875\" y=\"7.2\"/>\r\n  </clipPath>\r\n </defs>\r\n</svg>\r\n",
      "image/png": "[encoded data removed]"
     },
     "metadata": {
      "needs_background": "light"
     }
    }
   ],
   "source": []
  },
  {
   "cell_type": "code",
   "execution_count": 12,
   "metadata": {},
   "outputs": [
    {
     "output_type": "display_data",
     "data": {
      "application/vnd.plotly.v1+json": {
       "config": {
        "plotlyServerURL": "https://plot.ly"
       },
       "data": [],
       "layout": {
        "template": {
         "data": {
          "bar": [
           {
            "error_x": {
             "color": "#2a3f5f"
            },
            "error_y": {
             "color": "#2a3f5f"
            },
            "marker": {
             "line": {
              "color": "#E5ECF6",
              "width": 0.5
             }
            },
            "type": "bar"
           }
          ],
          "barpolar": [
           {
            "marker": {
             "line": {
              "color": "#E5ECF6",
              "width": 0.5
             }
            },
            "type": "barpolar"
           }
          ],
          "carpet": [
           {
            "aaxis": {
             "endlinecolor": "#2a3f5f",
             "gridcolor": "white",
             "linecolor": "white",
             "minorgridcolor": "white",
             "startlinecolor": "#2a3f5f"
            },
            "baxis": {
             "endlinecolor": "#2a3f5f",
             "gridcolor": "white",
             "linecolor": "white",
             "minorgridcolor": "white",
             "startlinecolor": "#2a3f5f"
            },
            "type": "carpet"
           }
          ],
          "choropleth": [
           {
            "colorbar": {
             "outlinewidth": 0,
             "ticks": ""
            },
            "type": "choropleth"
           }
          ],
          "contour": [
           {
            "colorbar": {
             "outlinewidth": 0,
             "ticks": ""
            },
            "colorscale": [
             [
              0,
              "#0d0887"
             ],
             [
              0.1111111111111111,
              "#46039f"
             ],
             [
              0.2222222222222222,
              "#7201a8"
             ],
             [
              0.3333333333333333,
              "#9c179e"
             ],
             [
              0.4444444444444444,
              "#bd3786"
             ],
             [
              0.5555555555555556,
              "#d8576b"
             ],
             [
              0.6666666666666666,
              "#ed7953"
             ],
             [
              0.7777777777777778,
              "#fb9f3a"
             ],
             [
              0.8888888888888888,
              "#fdca26"
             ],
             [
              1,
              "#f0f921"
             ]
            ],
            "type": "contour"
           }
          ],
          "contourcarpet": [
           {
            "colorbar": {
             "outlinewidth": 0,
             "ticks": ""
            },
            "type": "contourcarpet"
           }
          ],
          "heatmap": [
           {
            "colorbar": {
             "outlinewidth": 0,
             "ticks": ""
            },
            "colorscale": [
             [
              0,
              "#0d0887"
             ],
             [
              0.1111111111111111,
              "#46039f"
             ],
             [
              0.2222222222222222,
              "#7201a8"
             ],
             [
              0.3333333333333333,
              "#9c179e"
             ],
             [
              0.4444444444444444,
              "#bd3786"
             ],
             [
              0.5555555555555556,
              "#d8576b"
             ],
             [
              0.6666666666666666,
              "#ed7953"
             ],
             [
              0.7777777777777778,
              "#fb9f3a"
             ],
             [
              0.8888888888888888,
              "#fdca26"
             ],
             [
              1,
              "#f0f921"
             ]
            ],
            "type": "heatmap"
           }
          ],
          "heatmapgl": [
           {
            "colorbar": {
             "outlinewidth": 0,
             "ticks": ""
            },
            "colorscale": [
             [
              0,
              "#0d0887"
             ],
             [
              0.1111111111111111,
              "#46039f"
             ],
             [
              0.2222222222222222,
              "#7201a8"
             ],
             [
              0.3333333333333333,
              "#9c179e"
             ],
             [
              0.4444444444444444,
              "#bd3786"
             ],
             [
              0.5555555555555556,
              "#d8576b"
             ],
             [
              0.6666666666666666,
              "#ed7953"
             ],
             [
              0.7777777777777778,
              "#fb9f3a"
             ],
             [
              0.8888888888888888,
              "#fdca26"
             ],
             [
              1,
              "#f0f921"
             ]
            ],
            "type": "heatmapgl"
           }
          ],
          "histogram": [
           {
            "marker": {
             "colorbar": {
              "outlinewidth": 0,
              "ticks": ""
             }
            },
            "type": "histogram"
           }
          ],
          "histogram2d": [
           {
            "colorbar": {
             "outlinewidth": 0,
             "ticks": ""
            },
            "colorscale": [
             [
              0,
              "#0d0887"
             ],
             [
              0.1111111111111111,
              "#46039f"
             ],
             [
              0.2222222222222222,
              "#7201a8"
             ],
             [
              0.3333333333333333,
              "#9c179e"
             ],
             [
              0.4444444444444444,
              "#bd3786"
             ],
             [
              0.5555555555555556,
              "#d8576b"
             ],
             [
              0.6666666666666666,
              "#ed7953"
             ],
             [
              0.7777777777777778,
              "#fb9f3a"
             ],
             [
              0.8888888888888888,
              "#fdca26"
             ],
             [
              1,
              "#f0f921"
             ]
            ],
            "type": "histogram2d"
           }
          ],
          "histogram2dcontour": [
           {
            "colorbar": {
             "outlinewidth": 0,
             "ticks": ""
            },
            "colorscale": [
             [
              0,
              "#0d0887"
             ],
             [
              0.1111111111111111,
              "#46039f"
             ],
             [
              0.2222222222222222,
              "#7201a8"
             ],
             [
              0.3333333333333333,
              "#9c179e"
             ],
             [
              0.4444444444444444,
              "#bd3786"
             ],
             [
              0.5555555555555556,
              "#d8576b"
             ],
             [
              0.6666666666666666,
              "#ed7953"
             ],
             [
              0.7777777777777778,
              "#fb9f3a"
             ],
             [
              0.8888888888888888,
              "#fdca26"
             ],
             [
              1,
              "#f0f921"
             ]
            ],
            "type": "histogram2dcontour"
           }
          ],
          "mesh3d": [
           {
            "colorbar": {
             "outlinewidth": 0,
             "ticks": ""
            },
            "type": "mesh3d"
           }
          ],
          "parcoords": [
           {
            "line": {
             "colorbar": {
              "outlinewidth": 0,
              "ticks": ""
             }
            },
            "type": "parcoords"
           }
          ],
          "pie": [
           {
            "automargin": true,
            "type": "pie"
           }
          ],
          "scatter": [
           {
            "marker": {
             "colorbar": {
              "outlinewidth": 0,
              "ticks": ""
             }
            },
            "type": "scatter"
           }
          ],
          "scatter3d": [
           {
            "line": {
             "colorbar": {
              "outlinewidth": 0,
              "ticks": ""
             }
            },
            "marker": {
             "colorbar": {
              "outlinewidth": 0,
              "ticks": ""
             }
            },
            "type": "scatter3d"
           }
          ],
          "scattercarpet": [
           {
            "marker": {
             "colorbar": {
              "outlinewidth": 0,
              "ticks": ""
             }
            },
            "type": "scattercarpet"
           }
          ],
          "scattergeo": [
           {
            "marker": {
             "colorbar": {
              "outlinewidth": 0,
              "ticks": ""
             }
            },
            "type": "scattergeo"
           }
          ],
          "scattergl": [
           {
            "marker": {
             "colorbar": {
              "outlinewidth": 0,
              "ticks": ""
             }
            },
            "type": "scattergl"
           }
          ],
          "scattermapbox": [
           {
            "marker": {
             "colorbar": {
              "outlinewidth": 0,
              "ticks": ""
             }
            },
            "type": "scattermapbox"
           }
          ],
          "scatterpolar": [
           {
            "marker": {
             "colorbar": {
              "outlinewidth": 0,
              "ticks": ""
             }
            },
            "type": "scatterpolar"
           }
          ],
          "scatterpolargl": [
           {
            "marker": {
             "colorbar": {
              "outlinewidth": 0,
              "ticks": ""
             }
            },
            "type": "scatterpolargl"
           }
          ],
          "scatterternary": [
           {
            "marker": {
             "colorbar": {
              "outlinewidth": 0,
              "ticks": ""
             }
            },
            "type": "scatterternary"
           }
          ],
          "surface": [
           {
            "colorbar": {
             "outlinewidth": 0,
             "ticks": ""
            },
            "colorscale": [
             [
              0,
              "#0d0887"
             ],
             [
              0.1111111111111111,
              "#46039f"
             ],
             [
              0.2222222222222222,
              "#7201a8"
             ],
             [
              0.3333333333333333,
              "#9c179e"
             ],
             [
              0.4444444444444444,
              "#bd3786"
             ],
             [
              0.5555555555555556,
              "#d8576b"
             ],
             [
              0.6666666666666666,
              "#ed7953"
             ],
             [
              0.7777777777777778,
              "#fb9f3a"
             ],
             [
              0.8888888888888888,
              "#fdca26"
             ],
             [
              1,
              "#f0f921"
             ]
            ],
            "type": "surface"
           }
          ],
          "table": [
           {
            "cells": {
             "fill": {
              "color": "#EBF0F8"
             },
             "line": {
              "color": "white"
             }
            },
            "header": {
             "fill": {
              "color": "#C8D4E3"
             },
             "line": {
              "color": "white"
             }
            },
            "type": "table"
           }
          ]
         },
         "layout": {
          "annotationdefaults": {
           "arrowcolor": "#2a3f5f",
           "arrowhead": 0,
           "arrowwidth": 1
          },
          "coloraxis": {
           "colorbar": {
            "outlinewidth": 0,
            "ticks": ""
           }
          },
          "colorscale": {
           "diverging": [
            [
             0,
             "#8e0152"
            ],
            [
             0.1,
             "#c51b7d"
            ],
            [
             0.2,
             "#de77ae"
            ],
            [
             0.3,
             "#f1b6da"
            ],
            [
             0.4,
             "#fde0ef"
            ],
            [
             0.5,
             "#f7f7f7"
            ],
            [
             0.6,
             "#e6f5d0"
            ],
            [
             0.7,
             "#b8e186"
            ],
            [
             0.8,
             "#7fbc41"
            ],
            [
             0.9,
             "#4d9221"
            ],
            [
             1,
             "#276419"
            ]
           ],
           "sequential": [
            [
             0,
             "#0d0887"
            ],
            [
             0.1111111111111111,
             "#46039f"
            ],
            [
             0.2222222222222222,
             "#7201a8"
            ],
            [
             0.3333333333333333,
             "#9c179e"
            ],
            [
             0.4444444444444444,
             "#bd3786"
            ],
            [
             0.5555555555555556,
             "#d8576b"
            ],
            [
             0.6666666666666666,
             "#ed7953"
            ],
            [
             0.7777777777777778,
             "#fb9f3a"
            ],
            [
             0.8888888888888888,
             "#fdca26"
            ],
            [
             1,
             "#f0f921"
            ]
           ],
           "sequentialminus": [
            [
             0,
             "#0d0887"
            ],
            [
             0.1111111111111111,
             "#46039f"
            ],
            [
             0.2222222222222222,
             "#7201a8"
            ],
            [
             0.3333333333333333,
             "#9c179e"
            ],
            [
             0.4444444444444444,
             "#bd3786"
            ],
            [
             0.5555555555555556,
             "#d8576b"
            ],
            [
             0.6666666666666666,
             "#ed7953"
            ],
            [
             0.7777777777777778,
             "#fb9f3a"
            ],
            [
             0.8888888888888888,
             "#fdca26"
            ],
            [
             1,
             "#f0f921"
            ]
           ]
          },
          "colorway": [
           "#636efa",
           "#EF553B",
           "#00cc96",
           "#ab63fa",
           "#FFA15A",
           "#19d3f3",
           "#FF6692",
           "#B6E880",
           "#FF97FF",
           "#FECB52"
          ],
          "font": {
           "color": "#2a3f5f"
          },
          "geo": {
           "bgcolor": "white",
           "lakecolor": "white",
           "landcolor": "#E5ECF6",
           "showlakes": true,
           "showland": true,
           "subunitcolor": "white"
          },
          "hoverlabel": {
           "align": "left"
          },
          "hovermode": "closest",
          "mapbox": {
           "style": "light"
          },
          "paper_bgcolor": "white",
          "plot_bgcolor": "#E5ECF6",
          "polar": {
           "angularaxis": {
            "gridcolor": "white",
            "linecolor": "white",
            "ticks": ""
           },
           "bgcolor": "#E5ECF6",
           "radialaxis": {
            "gridcolor": "white",
            "linecolor": "white",
            "ticks": ""
           }
          },
          "scene": {
           "xaxis": {
            "backgroundcolor": "#E5ECF6",
            "gridcolor": "white",
            "gridwidth": 2,
            "linecolor": "white",
            "showbackground": true,
            "ticks": "",
            "zerolinecolor": "white"
           },
           "yaxis": {
            "backgroundcolor": "#E5ECF6",
            "gridcolor": "white",
            "gridwidth": 2,
            "linecolor": "white",
            "showbackground": true,
            "ticks": "",
            "zerolinecolor": "white"
           },
           "zaxis": {
            "backgroundcolor": "#E5ECF6",
            "gridcolor": "white",
            "gridwidth": 2,
            "linecolor": "white",
            "showbackground": true,
            "ticks": "",
            "zerolinecolor": "white"
           }
          },
          "shapedefaults": {
           "line": {
            "color": "#2a3f5f"
           }
          },
          "ternary": {
           "aaxis": {
            "gridcolor": "white",
            "linecolor": "white",
            "ticks": ""
           },
           "baxis": {
            "gridcolor": "white",
            "linecolor": "white",
            "ticks": ""
           },
           "bgcolor": "#E5ECF6",
           "caxis": {
            "gridcolor": "white",
            "linecolor": "white",
            "ticks": ""
           }
          },
          "title": {
           "x": 0.05
          },
          "xaxis": {
           "automargin": true,
           "gridcolor": "white",
           "linecolor": "white",
           "ticks": "",
           "title": {
            "standoff": 15
           },
           "zerolinecolor": "white",
           "zerolinewidth": 2
          },
          "yaxis": {
           "automargin": true,
           "gridcolor": "white",
           "linecolor": "white",
           "ticks": "",
           "title": {
            "standoff": 15
           },
           "zerolinecolor": "white",
           "zerolinewidth": 2
          }
         }
        }
       }
      }
     },
     "metadata": {}
    }
   ],
   "source": [
    "\n",
    "import plotly.graph_objects as go\n",
    "\n",
    "fig = go.Figure()\n",
    "\n",
    "def update_condition_fig(*args):\n",
    "    \"\"\" Updates the condition figure\"\"\"\n",
    "\n",
    "    ecu = comp.expected_condition\n",
    "\n",
    "    for cond in comp.fm.conditions:\n",
    "\n",
    "        # Format the data for plotting\n",
    "        time = np.linspace(0,200,201, dtype=int)\n",
    "        x = np.append(time,time[::-1])\n",
    "        y = np.append(upper, lower[::-1])\n",
    "\n",
    "        # Add the boundary\n",
    "        fig.add_trace(go.Scatter(\n",
    "            x=x,\n",
    "            y=y,\n",
    "            fill='toself',\n",
    "            fillcolor='rgba(231,107,243,0.2)',\n",
    "            line_color='rgba(255,255,255,0)',\n",
    "            showlegend=False,\n",
    "            name='Ideal',\n",
    "        ))\n",
    "        fig.add_trace(go.Scatter(\n",
    "            x=time, y=mean,\n",
    "            line_color='rgb(0,100,80)',\n",
    "            name='Fair',\n",
    "        ))\n",
    "\n",
    "        #fig.update_traces(mode='lines')\n",
    "\n",
    "        return fig\n",
    "\n",
    "fig.show()"
   ]
  },
  {
   "cell_type": "code",
   "execution_count": 13,
   "metadata": {},
   "outputs": [
    {
     "output_type": "execute_result",
     "data": {
      "text/plain": "<AxesSubplot:>"
     },
     "metadata": {},
     "execution_count": 13
    },
    {
     "output_type": "display_data",
     "data": {
      "text/plain": "<Figure size 432x288 with 1 Axes>",
      "image/svg+xml": "<?xml version=\"1.0\" encoding=\"utf-8\" standalone=\"no\"?>\r\n<!DOCTYPE svg PUBLIC \"-//W3C//DTD SVG 1.1//EN\"\r\n  \"http://www.w3.org/Graphics/SVG/1.1/DTD/svg11.dtd\">\r\n<!-- Created with matplotlib (https://matplotlib.org/) -->\r\n<svg height=\"248.518125pt\" version=\"1.1\" viewBox=\"0 0 375.2875 248.518125\" width=\"375.2875pt\" xmlns=\"http://www.w3.org/2000/svg\" xmlns:xlink=\"http://www.w3.org/1999/xlink\">\r\n <metadata>\r\n  <rdf:RDF xmlns:cc=\"http://creativecommons.org/ns#\" xmlns:dc=\"http://purl.org/dc/elements/1.1/\" xmlns:rdf=\"http://www.w3.org/1999/02/22-rdf-syntax-ns#\">\r\n   <cc:Work>\r\n    <dc:type rdf:resource=\"http://purl.org/dc/dcmitype/StillImage\"/>\r\n    <dc:date>2020-09-01T08:15:14.870955</dc:date>\r\n    <dc:format>image/svg+xml</dc:format>\r\n    <dc:creator>\r\n     <cc:Agent>\r\n      <dc:title>Matplotlib v3.3.0, https://matplotlib.org/</dc:title>\r\n     </cc:Agent>\r\n    </dc:creator>\r\n   </cc:Work>\r\n  </rdf:RDF>\r\n </metadata>\r\n <defs>\r\n  <style type=\"text/css\">*{stroke-linecap:butt;stroke-linejoin:round;}</style>\r\n </defs>\r\n <g id=\"figure_1\">\r\n  <g id=\"patch_1\">\r\n   <path d=\"M 0 248.518125 \r\nL 375.2875 248.518125 \r\nL 375.2875 0 \r\nL 0 0 \r\nz\r\n\" style=\"fill:none;\"/>\r\n  </g>\r\n  <g id=\"axes_1\">\r\n   <g id=\"patch_2\">\r\n    <path d=\"M 33.2875 224.64 \r\nL 368.0875 224.64 \r\nL 368.0875 7.2 \r\nL 33.2875 7.2 \r\nz\r\n\" style=\"fill:#ffffff;\"/>\r\n   </g>\r\n   <g id=\"matplotlib.axis_1\">\r\n    <g id=\"xtick_1\">\r\n     <g id=\"line2d_1\">\r\n      <defs>\r\n       <path d=\"M 0 0 \r\nL 0 3.5 \r\n\" id=\"m3842b05fa6\" style=\"stroke:#000000;stroke-width:0.8;\"/>\r\n      </defs>\r\n      <g>\r\n       <use style=\"stroke:#000000;stroke-width:0.8;\" x=\"48.505682\" xlink:href=\"#m3842b05fa6\" y=\"224.64\"/>\r\n      </g>\r\n     </g>\r\n     <g id=\"text_1\">\r\n      <!-- 0 -->\r\n      <g transform=\"translate(45.324432 239.238438)scale(0.1 -0.1)\">\r\n       <defs>\r\n        <path d=\"M 31.78125 66.40625 \r\nQ 24.171875 66.40625 20.328125 58.90625 \r\nQ 16.5 51.421875 16.5 36.375 \r\nQ 16.5 21.390625 20.328125 13.890625 \r\nQ 24.171875 6.390625 31.78125 6.390625 \r\nQ 39.453125 6.390625 43.28125 13.890625 \r\nQ 47.125 21.390625 47.125 36.375 \r\nQ 47.125 51.421875 43.28125 58.90625 \r\nQ 39.453125 66.40625 31.78125 66.40625 \r\nz\r\nM 31.78125 74.21875 \r\nQ 44.046875 74.21875 50.515625 64.515625 \r\nQ 56.984375 54.828125 56.984375 36.375 \r\nQ 56.984375 17.96875 50.515625 8.265625 \r\nQ 44.046875 -1.421875 31.78125 -1.421875 \r\nQ 19.53125 -1.421875 13.0625 8.265625 \r\nQ 6.59375 17.96875 6.59375 36.375 \r\nQ 6.59375 54.828125 13.0625 64.515625 \r\nQ 19.53125 74.21875 31.78125 74.21875 \r\nz\r\n\" id=\"DejaVuSans-48\"/>\r\n       </defs>\r\n       <use xlink:href=\"#DejaVuSans-48\"/>\r\n      </g>\r\n     </g>\r\n    </g>\r\n    <g id=\"xtick_2\">\r\n     <g id=\"line2d_2\">\r\n      <g>\r\n       <use style=\"stroke:#000000;stroke-width:0.8;\" x=\"86.551136\" xlink:href=\"#m3842b05fa6\" y=\"224.64\"/>\r\n      </g>\r\n     </g>\r\n     <g id=\"text_2\">\r\n      <!-- 25 -->\r\n      <g transform=\"translate(80.188636 239.238438)scale(0.1 -0.1)\">\r\n       <defs>\r\n        <path d=\"M 19.1875 8.296875 \r\nL 53.609375 8.296875 \r\nL 53.609375 0 \r\nL 7.328125 0 \r\nL 7.328125 8.296875 \r\nQ 12.9375 14.109375 22.625 23.890625 \r\nQ 32.328125 33.6875 34.8125 36.53125 \r\nQ 39.546875 41.84375 41.421875 45.53125 \r\nQ 43.3125 49.21875 43.3125 52.78125 \r\nQ 43.3125 58.59375 39.234375 62.25 \r\nQ 35.15625 65.921875 28.609375 65.921875 \r\nQ 23.96875 65.921875 18.8125 64.3125 \r\nQ 13.671875 62.703125 7.8125 59.421875 \r\nL 7.8125 69.390625 \r\nQ 13.765625 71.78125 18.9375 73 \r\nQ 24.125 74.21875 28.421875 74.21875 \r\nQ 39.75 74.21875 46.484375 68.546875 \r\nQ 53.21875 62.890625 53.21875 53.421875 \r\nQ 53.21875 48.921875 51.53125 44.890625 \r\nQ 49.859375 40.875 45.40625 35.40625 \r\nQ 44.1875 33.984375 37.640625 27.21875 \r\nQ 31.109375 20.453125 19.1875 8.296875 \r\nz\r\n\" id=\"DejaVuSans-50\"/>\r\n        <path d=\"M 10.796875 72.90625 \r\nL 49.515625 72.90625 \r\nL 49.515625 64.59375 \r\nL 19.828125 64.59375 \r\nL 19.828125 46.734375 \r\nQ 21.96875 47.46875 24.109375 47.828125 \r\nQ 26.265625 48.1875 28.421875 48.1875 \r\nQ 40.625 48.1875 47.75 41.5 \r\nQ 54.890625 34.8125 54.890625 23.390625 \r\nQ 54.890625 11.625 47.5625 5.09375 \r\nQ 40.234375 -1.421875 26.90625 -1.421875 \r\nQ 22.3125 -1.421875 17.546875 -0.640625 \r\nQ 12.796875 0.140625 7.71875 1.703125 \r\nL 7.71875 11.625 \r\nQ 12.109375 9.234375 16.796875 8.0625 \r\nQ 21.484375 6.890625 26.703125 6.890625 \r\nQ 35.15625 6.890625 40.078125 11.328125 \r\nQ 45.015625 15.765625 45.015625 23.390625 \r\nQ 45.015625 31 40.078125 35.4375 \r\nQ 35.15625 39.890625 26.703125 39.890625 \r\nQ 22.75 39.890625 18.8125 39.015625 \r\nQ 14.890625 38.140625 10.796875 36.28125 \r\nz\r\n\" id=\"DejaVuSans-53\"/>\r\n       </defs>\r\n       <use xlink:href=\"#DejaVuSans-50\"/>\r\n       <use x=\"63.623047\" xlink:href=\"#DejaVuSans-53\"/>\r\n      </g>\r\n     </g>\r\n    </g>\r\n    <g id=\"xtick_3\">\r\n     <g id=\"line2d_3\">\r\n      <g>\r\n       <use style=\"stroke:#000000;stroke-width:0.8;\" x=\"124.596591\" xlink:href=\"#m3842b05fa6\" y=\"224.64\"/>\r\n      </g>\r\n     </g>\r\n     <g id=\"text_3\">\r\n      <!-- 50 -->\r\n      <g transform=\"translate(118.234091 239.238438)scale(0.1 -0.1)\">\r\n       <use xlink:href=\"#DejaVuSans-53\"/>\r\n       <use x=\"63.623047\" xlink:href=\"#DejaVuSans-48\"/>\r\n      </g>\r\n     </g>\r\n    </g>\r\n    <g id=\"xtick_4\">\r\n     <g id=\"line2d_4\">\r\n      <g>\r\n       <use style=\"stroke:#000000;stroke-width:0.8;\" x=\"162.642045\" xlink:href=\"#m3842b05fa6\" y=\"224.64\"/>\r\n      </g>\r\n     </g>\r\n     <g id=\"text_4\">\r\n      <!-- 75 -->\r\n      <g transform=\"translate(156.279545 239.238438)scale(0.1 -0.1)\">\r\n       <defs>\r\n        <path d=\"M 8.203125 72.90625 \r\nL 55.078125 72.90625 \r\nL 55.078125 68.703125 \r\nL 28.609375 0 \r\nL 18.3125 0 \r\nL 43.21875 64.59375 \r\nL 8.203125 64.59375 \r\nz\r\n\" id=\"DejaVuSans-55\"/>\r\n       </defs>\r\n       <use xlink:href=\"#DejaVuSans-55\"/>\r\n       <use x=\"63.623047\" xlink:href=\"#DejaVuSans-53\"/>\r\n      </g>\r\n     </g>\r\n    </g>\r\n    <g id=\"xtick_5\">\r\n     <g id=\"line2d_5\">\r\n      <g>\r\n       <use style=\"stroke:#000000;stroke-width:0.8;\" x=\"200.6875\" xlink:href=\"#m3842b05fa6\" y=\"224.64\"/>\r\n      </g>\r\n     </g>\r\n     <g id=\"text_5\">\r\n      <!-- 100 -->\r\n      <g transform=\"translate(191.14375 239.238438)scale(0.1 -0.1)\">\r\n       <defs>\r\n        <path d=\"M 12.40625 8.296875 \r\nL 28.515625 8.296875 \r\nL 28.515625 63.921875 \r\nL 10.984375 60.40625 \r\nL 10.984375 69.390625 \r\nL 28.421875 72.90625 \r\nL 38.28125 72.90625 \r\nL 38.28125 8.296875 \r\nL 54.390625 8.296875 \r\nL 54.390625 0 \r\nL 12.40625 0 \r\nz\r\n\" id=\"DejaVuSans-49\"/>\r\n       </defs>\r\n       <use xlink:href=\"#DejaVuSans-49\"/>\r\n       <use x=\"63.623047\" xlink:href=\"#DejaVuSans-48\"/>\r\n       <use x=\"127.246094\" xlink:href=\"#DejaVuSans-48\"/>\r\n      </g>\r\n     </g>\r\n    </g>\r\n    <g id=\"xtick_6\">\r\n     <g id=\"line2d_6\">\r\n      <g>\r\n       <use style=\"stroke:#000000;stroke-width:0.8;\" x=\"238.732955\" xlink:href=\"#m3842b05fa6\" y=\"224.64\"/>\r\n      </g>\r\n     </g>\r\n     <g id=\"text_6\">\r\n      <!-- 125 -->\r\n      <g transform=\"translate(229.189205 239.238438)scale(0.1 -0.1)\">\r\n       <use xlink:href=\"#DejaVuSans-49\"/>\r\n       <use x=\"63.623047\" xlink:href=\"#DejaVuSans-50\"/>\r\n       <use x=\"127.246094\" xlink:href=\"#DejaVuSans-53\"/>\r\n      </g>\r\n     </g>\r\n    </g>\r\n    <g id=\"xtick_7\">\r\n     <g id=\"line2d_7\">\r\n      <g>\r\n       <use style=\"stroke:#000000;stroke-width:0.8;\" x=\"276.778409\" xlink:href=\"#m3842b05fa6\" y=\"224.64\"/>\r\n      </g>\r\n     </g>\r\n     <g id=\"text_7\">\r\n      <!-- 150 -->\r\n      <g transform=\"translate(267.234659 239.238438)scale(0.1 -0.1)\">\r\n       <use xlink:href=\"#DejaVuSans-49\"/>\r\n       <use x=\"63.623047\" xlink:href=\"#DejaVuSans-53\"/>\r\n       <use x=\"127.246094\" xlink:href=\"#DejaVuSans-48\"/>\r\n      </g>\r\n     </g>\r\n    </g>\r\n    <g id=\"xtick_8\">\r\n     <g id=\"line2d_8\">\r\n      <g>\r\n       <use style=\"stroke:#000000;stroke-width:0.8;\" x=\"314.823864\" xlink:href=\"#m3842b05fa6\" y=\"224.64\"/>\r\n      </g>\r\n     </g>\r\n     <g id=\"text_8\">\r\n      <!-- 175 -->\r\n      <g transform=\"translate(305.280114 239.238438)scale(0.1 -0.1)\">\r\n       <use xlink:href=\"#DejaVuSans-49\"/>\r\n       <use x=\"63.623047\" xlink:href=\"#DejaVuSans-55\"/>\r\n       <use x=\"127.246094\" xlink:href=\"#DejaVuSans-53\"/>\r\n      </g>\r\n     </g>\r\n    </g>\r\n    <g id=\"xtick_9\">\r\n     <g id=\"line2d_9\">\r\n      <g>\r\n       <use style=\"stroke:#000000;stroke-width:0.8;\" x=\"352.869318\" xlink:href=\"#m3842b05fa6\" y=\"224.64\"/>\r\n      </g>\r\n     </g>\r\n     <g id=\"text_9\">\r\n      <!-- 200 -->\r\n      <g transform=\"translate(343.325568 239.238438)scale(0.1 -0.1)\">\r\n       <use xlink:href=\"#DejaVuSans-50\"/>\r\n       <use x=\"63.623047\" xlink:href=\"#DejaVuSans-48\"/>\r\n       <use x=\"127.246094\" xlink:href=\"#DejaVuSans-48\"/>\r\n      </g>\r\n     </g>\r\n    </g>\r\n   </g>\r\n   <g id=\"matplotlib.axis_2\">\r\n    <g id=\"ytick_1\">\r\n     <g id=\"line2d_10\">\r\n      <defs>\r\n       <path d=\"M 0 0 \r\nL -3.5 0 \r\n\" id=\"m539b4c5981\" style=\"stroke:#000000;stroke-width:0.8;\"/>\r\n      </defs>\r\n      <g>\r\n       <use style=\"stroke:#000000;stroke-width:0.8;\" x=\"33.2875\" xlink:href=\"#m539b4c5981\" y=\"214.756364\"/>\r\n      </g>\r\n     </g>\r\n     <g id=\"text_10\">\r\n      <!-- 30 -->\r\n      <g transform=\"translate(13.5625 218.555582)scale(0.1 -0.1)\">\r\n       <defs>\r\n        <path d=\"M 40.578125 39.3125 \r\nQ 47.65625 37.796875 51.625 33 \r\nQ 55.609375 28.21875 55.609375 21.1875 \r\nQ 55.609375 10.40625 48.1875 4.484375 \r\nQ 40.765625 -1.421875 27.09375 -1.421875 \r\nQ 22.515625 -1.421875 17.65625 -0.515625 \r\nQ 12.796875 0.390625 7.625 2.203125 \r\nL 7.625 11.71875 \r\nQ 11.71875 9.328125 16.59375 8.109375 \r\nQ 21.484375 6.890625 26.8125 6.890625 \r\nQ 36.078125 6.890625 40.9375 10.546875 \r\nQ 45.796875 14.203125 45.796875 21.1875 \r\nQ 45.796875 27.640625 41.28125 31.265625 \r\nQ 36.765625 34.90625 28.71875 34.90625 \r\nL 20.21875 34.90625 \r\nL 20.21875 43.015625 \r\nL 29.109375 43.015625 \r\nQ 36.375 43.015625 40.234375 45.921875 \r\nQ 44.09375 48.828125 44.09375 54.296875 \r\nQ 44.09375 59.90625 40.109375 62.90625 \r\nQ 36.140625 65.921875 28.71875 65.921875 \r\nQ 24.65625 65.921875 20.015625 65.03125 \r\nQ 15.375 64.15625 9.8125 62.3125 \r\nL 9.8125 71.09375 \r\nQ 15.4375 72.65625 20.34375 73.4375 \r\nQ 25.25 74.21875 29.59375 74.21875 \r\nQ 40.828125 74.21875 47.359375 69.109375 \r\nQ 53.90625 64.015625 53.90625 55.328125 \r\nQ 53.90625 49.265625 50.4375 45.09375 \r\nQ 46.96875 40.921875 40.578125 39.3125 \r\nz\r\n\" id=\"DejaVuSans-51\"/>\r\n       </defs>\r\n       <use xlink:href=\"#DejaVuSans-51\"/>\r\n       <use x=\"63.623047\" xlink:href=\"#DejaVuSans-48\"/>\r\n      </g>\r\n     </g>\r\n    </g>\r\n    <g id=\"ytick_2\">\r\n     <g id=\"line2d_11\">\r\n      <g>\r\n       <use style=\"stroke:#000000;stroke-width:0.8;\" x=\"33.2875\" xlink:href=\"#m539b4c5981\" y=\"186.517403\"/>\r\n      </g>\r\n     </g>\r\n     <g id=\"text_11\">\r\n      <!-- 40 -->\r\n      <g transform=\"translate(13.5625 190.316621)scale(0.1 -0.1)\">\r\n       <defs>\r\n        <path d=\"M 37.796875 64.3125 \r\nL 12.890625 25.390625 \r\nL 37.796875 25.390625 \r\nz\r\nM 35.203125 72.90625 \r\nL 47.609375 72.90625 \r\nL 47.609375 25.390625 \r\nL 58.015625 25.390625 \r\nL 58.015625 17.1875 \r\nL 47.609375 17.1875 \r\nL 47.609375 0 \r\nL 37.796875 0 \r\nL 37.796875 17.1875 \r\nL 4.890625 17.1875 \r\nL 4.890625 26.703125 \r\nz\r\n\" id=\"DejaVuSans-52\"/>\r\n       </defs>\r\n       <use xlink:href=\"#DejaVuSans-52\"/>\r\n       <use x=\"63.623047\" xlink:href=\"#DejaVuSans-48\"/>\r\n      </g>\r\n     </g>\r\n    </g>\r\n    <g id=\"ytick_3\">\r\n     <g id=\"line2d_12\">\r\n      <g>\r\n       <use style=\"stroke:#000000;stroke-width:0.8;\" x=\"33.2875\" xlink:href=\"#m539b4c5981\" y=\"158.278442\"/>\r\n      </g>\r\n     </g>\r\n     <g id=\"text_12\">\r\n      <!-- 50 -->\r\n      <g transform=\"translate(13.5625 162.07766)scale(0.1 -0.1)\">\r\n       <use xlink:href=\"#DejaVuSans-53\"/>\r\n       <use x=\"63.623047\" xlink:href=\"#DejaVuSans-48\"/>\r\n      </g>\r\n     </g>\r\n    </g>\r\n    <g id=\"ytick_4\">\r\n     <g id=\"line2d_13\">\r\n      <g>\r\n       <use style=\"stroke:#000000;stroke-width:0.8;\" x=\"33.2875\" xlink:href=\"#m539b4c5981\" y=\"130.039481\"/>\r\n      </g>\r\n     </g>\r\n     <g id=\"text_13\">\r\n      <!-- 60 -->\r\n      <g transform=\"translate(13.5625 133.838699)scale(0.1 -0.1)\">\r\n       <defs>\r\n        <path d=\"M 33.015625 40.375 \r\nQ 26.375 40.375 22.484375 35.828125 \r\nQ 18.609375 31.296875 18.609375 23.390625 \r\nQ 18.609375 15.53125 22.484375 10.953125 \r\nQ 26.375 6.390625 33.015625 6.390625 \r\nQ 39.65625 6.390625 43.53125 10.953125 \r\nQ 47.40625 15.53125 47.40625 23.390625 \r\nQ 47.40625 31.296875 43.53125 35.828125 \r\nQ 39.65625 40.375 33.015625 40.375 \r\nz\r\nM 52.59375 71.296875 \r\nL 52.59375 62.3125 \r\nQ 48.875 64.0625 45.09375 64.984375 \r\nQ 41.3125 65.921875 37.59375 65.921875 \r\nQ 27.828125 65.921875 22.671875 59.328125 \r\nQ 17.53125 52.734375 16.796875 39.40625 \r\nQ 19.671875 43.65625 24.015625 45.921875 \r\nQ 28.375 48.1875 33.59375 48.1875 \r\nQ 44.578125 48.1875 50.953125 41.515625 \r\nQ 57.328125 34.859375 57.328125 23.390625 \r\nQ 57.328125 12.15625 50.6875 5.359375 \r\nQ 44.046875 -1.421875 33.015625 -1.421875 \r\nQ 20.359375 -1.421875 13.671875 8.265625 \r\nQ 6.984375 17.96875 6.984375 36.375 \r\nQ 6.984375 53.65625 15.1875 63.9375 \r\nQ 23.390625 74.21875 37.203125 74.21875 \r\nQ 40.921875 74.21875 44.703125 73.484375 \r\nQ 48.484375 72.75 52.59375 71.296875 \r\nz\r\n\" id=\"DejaVuSans-54\"/>\r\n       </defs>\r\n       <use xlink:href=\"#DejaVuSans-54\"/>\r\n       <use x=\"63.623047\" xlink:href=\"#DejaVuSans-48\"/>\r\n      </g>\r\n     </g>\r\n    </g>\r\n    <g id=\"ytick_5\">\r\n     <g id=\"line2d_14\">\r\n      <g>\r\n       <use style=\"stroke:#000000;stroke-width:0.8;\" x=\"33.2875\" xlink:href=\"#m539b4c5981\" y=\"101.800519\"/>\r\n      </g>\r\n     </g>\r\n     <g id=\"text_14\">\r\n      <!-- 70 -->\r\n      <g transform=\"translate(13.5625 105.599738)scale(0.1 -0.1)\">\r\n       <use xlink:href=\"#DejaVuSans-55\"/>\r\n       <use x=\"63.623047\" xlink:href=\"#DejaVuSans-48\"/>\r\n      </g>\r\n     </g>\r\n    </g>\r\n    <g id=\"ytick_6\">\r\n     <g id=\"line2d_15\">\r\n      <g>\r\n       <use style=\"stroke:#000000;stroke-width:0.8;\" x=\"33.2875\" xlink:href=\"#m539b4c5981\" y=\"73.561558\"/>\r\n      </g>\r\n     </g>\r\n     <g id=\"text_15\">\r\n      <!-- 80 -->\r\n      <g transform=\"translate(13.5625 77.360777)scale(0.1 -0.1)\">\r\n       <defs>\r\n        <path d=\"M 31.78125 34.625 \r\nQ 24.75 34.625 20.71875 30.859375 \r\nQ 16.703125 27.09375 16.703125 20.515625 \r\nQ 16.703125 13.921875 20.71875 10.15625 \r\nQ 24.75 6.390625 31.78125 6.390625 \r\nQ 38.8125 6.390625 42.859375 10.171875 \r\nQ 46.921875 13.96875 46.921875 20.515625 \r\nQ 46.921875 27.09375 42.890625 30.859375 \r\nQ 38.875 34.625 31.78125 34.625 \r\nz\r\nM 21.921875 38.8125 \r\nQ 15.578125 40.375 12.03125 44.71875 \r\nQ 8.5 49.078125 8.5 55.328125 \r\nQ 8.5 64.0625 14.71875 69.140625 \r\nQ 20.953125 74.21875 31.78125 74.21875 \r\nQ 42.671875 74.21875 48.875 69.140625 \r\nQ 55.078125 64.0625 55.078125 55.328125 \r\nQ 55.078125 49.078125 51.53125 44.71875 \r\nQ 48 40.375 41.703125 38.8125 \r\nQ 48.828125 37.15625 52.796875 32.3125 \r\nQ 56.78125 27.484375 56.78125 20.515625 \r\nQ 56.78125 9.90625 50.3125 4.234375 \r\nQ 43.84375 -1.421875 31.78125 -1.421875 \r\nQ 19.734375 -1.421875 13.25 4.234375 \r\nQ 6.78125 9.90625 6.78125 20.515625 \r\nQ 6.78125 27.484375 10.78125 32.3125 \r\nQ 14.796875 37.15625 21.921875 38.8125 \r\nz\r\nM 18.3125 54.390625 \r\nQ 18.3125 48.734375 21.84375 45.5625 \r\nQ 25.390625 42.390625 31.78125 42.390625 \r\nQ 38.140625 42.390625 41.71875 45.5625 \r\nQ 45.3125 48.734375 45.3125 54.390625 \r\nQ 45.3125 60.0625 41.71875 63.234375 \r\nQ 38.140625 66.40625 31.78125 66.40625 \r\nQ 25.390625 66.40625 21.84375 63.234375 \r\nQ 18.3125 60.0625 18.3125 54.390625 \r\nz\r\n\" id=\"DejaVuSans-56\"/>\r\n       </defs>\r\n       <use xlink:href=\"#DejaVuSans-56\"/>\r\n       <use x=\"63.623047\" xlink:href=\"#DejaVuSans-48\"/>\r\n      </g>\r\n     </g>\r\n    </g>\r\n    <g id=\"ytick_7\">\r\n     <g id=\"line2d_16\">\r\n      <g>\r\n       <use style=\"stroke:#000000;stroke-width:0.8;\" x=\"33.2875\" xlink:href=\"#m539b4c5981\" y=\"45.322597\"/>\r\n      </g>\r\n     </g>\r\n     <g id=\"text_16\">\r\n      <!-- 90 -->\r\n      <g transform=\"translate(13.5625 49.121816)scale(0.1 -0.1)\">\r\n       <defs>\r\n        <path d=\"M 10.984375 1.515625 \r\nL 10.984375 10.5 \r\nQ 14.703125 8.734375 18.5 7.8125 \r\nQ 22.3125 6.890625 25.984375 6.890625 \r\nQ 35.75 6.890625 40.890625 13.453125 \r\nQ 46.046875 20.015625 46.78125 33.40625 \r\nQ 43.953125 29.203125 39.59375 26.953125 \r\nQ 35.25 24.703125 29.984375 24.703125 \r\nQ 19.046875 24.703125 12.671875 31.3125 \r\nQ 6.296875 37.9375 6.296875 49.421875 \r\nQ 6.296875 60.640625 12.9375 67.421875 \r\nQ 19.578125 74.21875 30.609375 74.21875 \r\nQ 43.265625 74.21875 49.921875 64.515625 \r\nQ 56.59375 54.828125 56.59375 36.375 \r\nQ 56.59375 19.140625 48.40625 8.859375 \r\nQ 40.234375 -1.421875 26.421875 -1.421875 \r\nQ 22.703125 -1.421875 18.890625 -0.6875 \r\nQ 15.09375 0.046875 10.984375 1.515625 \r\nz\r\nM 30.609375 32.421875 \r\nQ 37.25 32.421875 41.125 36.953125 \r\nQ 45.015625 41.5 45.015625 49.421875 \r\nQ 45.015625 57.28125 41.125 61.84375 \r\nQ 37.25 66.40625 30.609375 66.40625 \r\nQ 23.96875 66.40625 20.09375 61.84375 \r\nQ 16.21875 57.28125 16.21875 49.421875 \r\nQ 16.21875 41.5 20.09375 36.953125 \r\nQ 23.96875 32.421875 30.609375 32.421875 \r\nz\r\n\" id=\"DejaVuSans-57\"/>\r\n       </defs>\r\n       <use xlink:href=\"#DejaVuSans-57\"/>\r\n       <use x=\"63.623047\" xlink:href=\"#DejaVuSans-48\"/>\r\n      </g>\r\n     </g>\r\n    </g>\r\n    <g id=\"ytick_8\">\r\n     <g id=\"line2d_17\">\r\n      <g>\r\n       <use style=\"stroke:#000000;stroke-width:0.8;\" x=\"33.2875\" xlink:href=\"#m539b4c5981\" y=\"17.083636\"/>\r\n      </g>\r\n     </g>\r\n     <g id=\"text_17\">\r\n      <!-- 100 -->\r\n      <g transform=\"translate(7.2 20.882855)scale(0.1 -0.1)\">\r\n       <use xlink:href=\"#DejaVuSans-49\"/>\r\n       <use x=\"63.623047\" xlink:href=\"#DejaVuSans-48\"/>\r\n       <use x=\"127.246094\" xlink:href=\"#DejaVuSans-48\"/>\r\n      </g>\r\n     </g>\r\n    </g>\r\n   </g>\r\n   <g id=\"line2d_18\">\r\n    <path clip-path=\"url(#p1aeaf60321)\" d=\"M 48.505682 17.083636 \r\nL 54.592955 17.083636 \r\nL 62.202045 87.681039 \r\nL 109.378409 87.681039 \r\nL 110.900227 101.800519 \r\nL 116.9875 101.800519 \r\nL 118.509318 115.92 \r\nL 129.162045 115.92 \r\nL 130.683864 130.039481 \r\nL 138.292955 130.039481 \r\nL 139.814773 144.158961 \r\nL 155.032955 144.158961 \r\nL 156.554773 144.864935 \r\nL 162.642045 144.864935 \r\nL 164.163864 158.278442 \r\nL 206.774773 158.278442 \r\nL 208.296591 172.397922 \r\nL 231.123864 172.397922 \r\nL 232.645682 173.103896 \r\nL 234.1675 186.517403 \r\nL 275.256591 186.517403 \r\nL 276.778409 200.636883 \r\nL 307.214773 200.636883 \r\nL 308.736591 201.342857 \r\nL 310.258409 201.342857 \r\nL 311.780227 214.756364 \r\nL 352.869318 214.756364 \r\nL 352.869318 214.756364 \r\n\" style=\"fill:none;stroke:#1f77b4;stroke-linecap:square;stroke-width:1.5;\"/>\r\n   </g>\r\n   <g id=\"line2d_19\">\r\n    <path clip-path=\"url(#p1aeaf60321)\" d=\"M 48.505682 17.083636 \r\nL 151.989318 17.083636 \r\nL 159.598409 87.681039 \r\nL 314.823864 87.681039 \r\nL 317.8675 101.800519 \r\nL 352.869318 101.800519 \r\nL 352.869318 101.800519 \r\n\" style=\"fill:none;stroke:#ff7f0e;stroke-linecap:square;stroke-width:1.5;\"/>\r\n   </g>\r\n   <g id=\"line2d_20\">\r\n    <path clip-path=\"url(#p1aeaf60321)\" d=\"M 48.505682 17.083636 \r\nL 352.869318 17.083636 \r\nL 352.869318 17.083636 \r\n\" style=\"fill:none;stroke:#2ca02c;stroke-linecap:square;stroke-width:1.5;\"/>\r\n   </g>\r\n   <g id=\"patch_3\">\r\n    <path d=\"M 33.2875 224.64 \r\nL 33.2875 7.2 \r\n\" style=\"fill:none;stroke:#000000;stroke-linecap:square;stroke-linejoin:miter;stroke-width:0.8;\"/>\r\n   </g>\r\n   <g id=\"patch_4\">\r\n    <path d=\"M 368.0875 224.64 \r\nL 368.0875 7.2 \r\n\" style=\"fill:none;stroke:#000000;stroke-linecap:square;stroke-linejoin:miter;stroke-width:0.8;\"/>\r\n   </g>\r\n   <g id=\"patch_5\">\r\n    <path d=\"M 33.2875 224.64 \r\nL 368.0875 224.64 \r\n\" style=\"fill:none;stroke:#000000;stroke-linecap:square;stroke-linejoin:miter;stroke-width:0.8;\"/>\r\n   </g>\r\n   <g id=\"patch_6\">\r\n    <path d=\"M 33.2875 7.2 \r\nL 368.0875 7.2 \r\n\" style=\"fill:none;stroke:#000000;stroke-linecap:square;stroke-linejoin:miter;stroke-width:0.8;\"/>\r\n   </g>\r\n   <g id=\"legend_1\">\r\n    <g id=\"patch_7\">\r\n     <path d=\"M 40.2875 219.64 \r\nL 78.65 219.64 \r\nQ 80.65 219.64 80.65 217.64 \r\nL 80.65 174.605625 \r\nQ 80.65 172.605625 78.65 172.605625 \r\nL 40.2875 172.605625 \r\nQ 38.2875 172.605625 38.2875 174.605625 \r\nL 38.2875 217.64 \r\nQ 38.2875 219.64 40.2875 219.64 \r\nz\r\n\" style=\"fill:#ffffff;opacity:0.8;stroke:#cccccc;stroke-linejoin:miter;\"/>\r\n    </g>\r\n    <g id=\"line2d_21\">\r\n     <path d=\"M 42.2875 180.704062 \r\nL 62.2875 180.704062 \r\n\" style=\"fill:none;stroke:#1f77b4;stroke-linecap:square;stroke-width:1.5;\"/>\r\n    </g>\r\n    <g id=\"line2d_22\"/>\r\n    <g id=\"text_18\">\r\n     <!-- 0 -->\r\n     <g transform=\"translate(70.2875 184.204062)scale(0.1 -0.1)\">\r\n      <use xlink:href=\"#DejaVuSans-48\"/>\r\n     </g>\r\n    </g>\r\n    <g id=\"line2d_23\">\r\n     <path d=\"M 42.2875 195.382187 \r\nL 62.2875 195.382187 \r\n\" style=\"fill:none;stroke:#ff7f0e;stroke-linecap:square;stroke-width:1.5;\"/>\r\n    </g>\r\n    <g id=\"line2d_24\"/>\r\n    <g id=\"text_19\">\r\n     <!-- 1 -->\r\n     <g transform=\"translate(70.2875 198.882187)scale(0.1 -0.1)\">\r\n      <use xlink:href=\"#DejaVuSans-49\"/>\r\n     </g>\r\n    </g>\r\n    <g id=\"line2d_25\">\r\n     <path d=\"M 42.2875 210.060313 \r\nL 62.2875 210.060313 \r\n\" style=\"fill:none;stroke:#2ca02c;stroke-linecap:square;stroke-width:1.5;\"/>\r\n    </g>\r\n    <g id=\"line2d_26\"/>\r\n    <g id=\"text_20\">\r\n     <!-- 2 -->\r\n     <g transform=\"translate(70.2875 213.560313)scale(0.1 -0.1)\">\r\n      <use xlink:href=\"#DejaVuSans-50\"/>\r\n     </g>\r\n    </g>\r\n   </g>\r\n  </g>\r\n </g>\r\n <defs>\r\n  <clipPath id=\"p1aeaf60321\">\r\n   <rect height=\"217.44\" width=\"334.8\" x=\"33.2875\" y=\"7.2\"/>\r\n  </clipPath>\r\n </defs>\r\n</svg>\r\n",
      "image/png": "[encoded data removed]"
     },
     "metadata": {
      "needs_background": "light"
     }
    }
   ],
   "source": [
    "pd.DataFrame(np.percentile([fm._timelines[x]['wall_thickness'] for x in fm._timelines], q = [5,50,95], axis = 0)).T.plot()"
   ]
  },
  {
   "cell_type": "code",
   "execution_count": 12,
   "metadata": {},
   "outputs": [
    {
     "output_type": "execute_result",
     "data": {
      "text/plain": "array([0., 5., 9.])"
     },
     "metadata": {},
     "execution_count": 12
    }
   ],
   "source": [
    "a = np.linspace(0,10,11)\n",
    "\n",
    "np.percentile(a, q = [0,50, 90])"
   ]
  },
  {
   "cell_type": "code",
   "execution_count": 10,
   "metadata": {
    "tags": []
   },
   "outputs": [
    {
     "output_type": "stream",
     "name": "stderr",
     "text": "100%|██████████| 1000/1000 [00:23<00:00, 43.47it/s]\n100%|██████████| 1000/1000 [00:11<00:00, 85.13it/s]\n100%|██████████| 1000/1000 [00:09<00:00, 109.31it/s]\n100%|██████████| 1000/1000 [00:05<00:00, 171.50it/s]\n100%|██████████| 1000/1000 [00:04<00:00, 216.15it/s]\n100%|██████████| 1000/1000 [00:03<00:00, 274.38it/s]\n100%|██████████| 1000/1000 [00:05<00:00, 189.58it/s]\n100%|██████████| 1000/1000 [00:03<00:00, 254.82it/s]\n100%|██████████| 1000/1000 [00:03<00:00, 266.77it/s]\n"
    }
   ],
   "source": [
    "t_interval = dict()\n",
    "risk = dict()\n",
    "cost = dict()\n",
    "fm.reset()\n",
    "\n",
    "for i in range(1,10, 1):\n",
    "\n",
    "    # Set t_interval\n",
    "    fm.tasks['inspection'].t_interval = i\n",
    "    \n",
    "    fm.mc_timeline(t_end=100, n_iterations=1000)\n",
    "\n",
    "    cost[i] = fm._expected_cost()\n",
    "    cost[i]['inspection_interval'] = i\n",
    "\n",
    "    # Reset fm\n",
    "\n",
    "    fm.reset()"
   ]
  },
  {
   "cell_type": "code",
   "execution_count": 11,
   "metadata": {},
   "outputs": [
    {
     "output_type": "display_data",
     "data": {
      "application/vnd.plotly.v1+json": {
       "config": {
        "plotlyServerURL": "https://plot.ly"
       },
       "data": [
        {
         "hovertemplate": "source=inspection<br>inspection_interval=%{x}<br>cost=%{y}<extra></extra>",
         "legendgroup": "inspection",
         "line": {
          "color": "#636efa",
          "dash": "solid"
         },
         "mode": "lines",
         "name": "inspection",
         "orientation": "v",
         "showlegend": true,
         "type": "scatter",
         "x": [
          1,
          2,
          3,
          4,
          5,
          6,
          7,
          8,
          9
         ],
         "xaxis": "x",
         "y": [
          {
           "cost": [
            50000,
            50000,
            50000,
            50000,
            50000,
            50000,
            50000,
            50000,
            50000,
            50000,
            50000,
            50000,
            50000,
            50000,
            50000,
            50000,
            50000,
            50000,
            50000,
            50000,
            50000,
            50000,
            50000,
            50000,
            50000,
            50000,
            50000,
            50000,
            50000,
            50000,
            50000,
            50000,
            50000,
            50000,
            50000,
            50000,
            50000,
            50000,
            50000,
            50000,
            50000,
            50000,
            50000,
            50000,
            50000,
            50000,
            50000,
            50000,
            50000,
            50000,
            50000,
            50000,
            50000,
            50000,
            50000,
            50000,
            50000,
            50000,
            50000,
            50000,
            50000,
            50000,
            50000,
            50000,
            50000,
            50000,
            50000,
            50000,
            50000,
            50000,
            50000,
            50000,
            50000,
            50000,
            50000,
            50000,
            50000,
            50000,
            50000,
            50000,
            50000,
            50000,
            50000,
            50000,
            50000,
            50000,
            50000,
            50000,
            50000,
            50000,
            50000,
            50000,
            50000,
            50000,
            50000,
            50000,
            50000,
            50000,
            50000
           ],
           "time": [
            1,
            2,
            3,
            4,
            5,
            6,
            7,
            8,
            9,
            10,
            11,
            12,
            13,
            14,
            15,
            16,
            17,
            18,
            19,
            20,
            21,
            22,
            23,
            24,
            25,
            26,
            27,
            28,
            29,
            30,
            31,
            32,
            33,
            34,
            35,
            36,
            37,
            38,
            39,
            40,
            41,
            42,
            43,
            44,
            45,
            46,
            47,
            48,
            49,
            50,
            51,
            52,
            53,
            54,
            55,
            56,
            57,
            58,
            59,
            60,
            61,
            62,
            63,
            64,
            65,
            66,
            67,
            68,
            69,
            70,
            71,
            72,
            73,
            74,
            75,
            76,
            77,
            78,
            79,
            80,
            81,
            82,
            83,
            84,
            85,
            86,
            87,
            88,
            89,
            90,
            91,
            92,
            93,
            94,
            95,
            96,
            97,
            98,
            99
           ]
          },
          {
           "cost": [
            50000,
            50000,
            50000,
            50000,
            50000,
            50000,
            50000,
            50000,
            50000,
            50000,
            50000,
            50000,
            50000,
            50000,
            50000,
            50000,
            50000,
            50000,
            50000,
            50000,
            50000,
            50000,
            50000,
            50000,
            50000,
            50000,
            50000,
            50000,
            50000,
            50000,
            50000,
            50000,
            50000,
            50000,
            50000,
            50000,
            50000,
            50000,
            50000,
            50000,
            50000,
            50000,
            50000,
            50000,
            50000,
            50000,
            50000,
            50000,
            50000,
            49250
           ],
           "time": [
            2,
            4,
            6,
            8,
            10,
            12,
            14,
            16,
            18,
            20,
            22,
            24,
            26,
            28,
            30,
            32,
            34,
            36,
            38,
            40,
            42,
            44,
            46,
            48,
            50,
            52,
            54,
            56,
            58,
            60,
            62,
            64,
            66,
            68,
            70,
            72,
            74,
            76,
            78,
            80,
            82,
            84,
            86,
            88,
            90,
            92,
            94,
            96,
            98,
            100
           ]
          },
          {
           "cost": [
            50000,
            50000,
            50000,
            50000,
            50000,
            50000,
            50000,
            50000,
            50000,
            50000,
            50000,
            50000,
            50000,
            50000,
            50000,
            50000,
            50000,
            50000,
            50000,
            50000,
            50000,
            50000,
            50000,
            50000,
            50000,
            50000,
            50000,
            50000,
            50000,
            50000,
            50000,
            50000,
            50000
           ],
           "time": [
            3,
            6,
            9,
            12,
            15,
            18,
            21,
            24,
            27,
            30,
            33,
            36,
            39,
            42,
            45,
            48,
            51,
            54,
            57,
            60,
            63,
            66,
            69,
            72,
            75,
            78,
            81,
            84,
            87,
            90,
            93,
            96,
            99
           ]
          },
          {
           "cost": [
            50000,
            50000,
            50000,
            50000,
            50000,
            50000,
            50000,
            50000,
            50000,
            50000,
            50000,
            50000,
            50000,
            50000,
            50000,
            50000,
            50000,
            50000,
            50000,
            50000,
            50000,
            50000,
            50000,
            50000,
            50000
           ],
           "time": [
            4,
            8,
            12,
            16,
            20,
            24,
            28,
            32,
            36,
            40,
            44,
            48,
            52,
            56,
            60,
            64,
            68,
            72,
            76,
            80,
            84,
            88,
            92,
            96,
            100
           ]
          },
          {
           "cost": [
            50000,
            50000,
            50000,
            50000,
            50000,
            50000,
            50000,
            50000,
            50000,
            50000,
            50000,
            50000,
            50000,
            50000,
            50000,
            50000,
            50000,
            50000,
            50000,
            49650
           ],
           "time": [
            5,
            10,
            15,
            20,
            25,
            30,
            35,
            40,
            45,
            50,
            55,
            60,
            65,
            70,
            75,
            80,
            85,
            90,
            95,
            100
           ]
          },
          {
           "cost": [
            50000,
            50000,
            50000,
            50000,
            50000,
            50000,
            50000,
            50000,
            50000,
            50000,
            50000,
            50000,
            50000,
            50000,
            50000,
            50000
           ],
           "time": [
            6,
            12,
            18,
            24,
            30,
            36,
            42,
            48,
            54,
            60,
            66,
            72,
            78,
            84,
            90,
            96
           ]
          },
          {
           "cost": [
            50000,
            50000,
            50000,
            50000,
            50000,
            50000,
            50000,
            50000,
            50000,
            50000,
            50000,
            50000,
            50000,
            50000
           ],
           "time": [
            7,
            14,
            21,
            28,
            35,
            42,
            49,
            56,
            63,
            70,
            77,
            84,
            91,
            98
           ]
          },
          {
           "cost": [
            50000,
            50000,
            50000,
            50000,
            50000,
            50000,
            50000,
            50000,
            50000,
            50000,
            50000,
            50000
           ],
           "time": [
            8,
            16,
            24,
            32,
            40,
            48,
            56,
            64,
            72,
            80,
            88,
            96
           ]
          },
          {
           "cost": [
            50000,
            50000,
            50000,
            50000,
            50000,
            50000,
            50000,
            50000,
            50000,
            50000,
            50000
           ],
           "time": [
            9,
            18,
            27,
            36,
            45,
            54,
            63,
            72,
            81,
            90,
            99
           ]
          }
         ],
         "yaxis": "y"
        },
        {
         "hovertemplate": "source=on_condition_repair<br>inspection_interval=%{x}<br>cost=%{y}<extra></extra>",
         "legendgroup": "on_condition_repair",
         "line": {
          "color": "#EF553B",
          "dash": "solid"
         },
         "mode": "lines",
         "name": "on_condition_repair",
         "orientation": "v",
         "showlegend": true,
         "type": "scatter",
         "x": [
          1,
          2,
          3,
          4,
          5,
          6,
          7,
          8,
          9
         ],
         "xaxis": "x",
         "y": [
          {
           "cost": [
            800,
            1100,
            1200,
            1600,
            1100,
            500,
            800,
            600,
            1100,
            1400,
            1400,
            1000,
            1100,
            900,
            1300,
            1100,
            600,
            1700,
            1300,
            1000,
            1000,
            800,
            800,
            800,
            700,
            600,
            800,
            1200,
            800,
            1100,
            1300,
            1000,
            800,
            1100,
            900,
            900,
            1700,
            900,
            800,
            300,
            300,
            1200,
            900,
            800,
            2100,
            500,
            1000,
            800,
            800,
            1400,
            1100,
            1600,
            1100,
            1300,
            900,
            700,
            1600,
            900,
            1700,
            800,
            900,
            1300,
            1600,
            1500,
            300,
            800,
            1000,
            1300,
            1800,
            900,
            1200,
            1200,
            1000,
            900,
            1400,
            900,
            900,
            1000,
            1400,
            1100,
            1000,
            1300,
            1200,
            500,
            1700,
            700,
            1000,
            1000,
            1000,
            1300,
            1000,
            500,
            1200,
            700,
            1000
           ],
           "time": [
            5,
            6,
            7,
            8,
            9,
            10,
            11,
            12,
            13,
            14,
            15,
            16,
            17,
            18,
            19,
            20,
            21,
            22,
            23,
            24,
            25,
            26,
            27,
            28,
            29,
            30,
            31,
            32,
            33,
            34,
            35,
            36,
            37,
            38,
            39,
            40,
            41,
            42,
            43,
            44,
            45,
            46,
            47,
            48,
            49,
            50,
            51,
            52,
            53,
            54,
            55,
            56,
            57,
            58,
            59,
            60,
            61,
            62,
            63,
            64,
            65,
            66,
            67,
            68,
            69,
            70,
            71,
            72,
            73,
            74,
            75,
            76,
            77,
            78,
            79,
            80,
            81,
            82,
            83,
            84,
            85,
            86,
            87,
            88,
            89,
            90,
            91,
            92,
            93,
            94,
            95,
            96,
            97,
            98,
            99
           ]
          },
          {
           "cost": [
            1300,
            800,
            1200,
            300,
            1700,
            600,
            800,
            800,
            900,
            1500,
            700,
            1000,
            1400,
            800,
            1300,
            1100,
            1800,
            1000,
            400,
            1200,
            1000,
            600,
            900,
            500,
            1000,
            800,
            1700,
            800,
            500,
            200,
            1600,
            1300,
            1100,
            800,
            1400,
            900,
            1100,
            600,
            1300,
            500,
            1300,
            700,
            1200,
            600,
            1600,
            1000,
            1400,
            900,
            1600,
            700,
            1000,
            400,
            1800,
            800,
            800,
            600,
            1600,
            800,
            2000,
            600,
            1700,
            200,
            1700,
            400,
            1600,
            500,
            1100,
            500,
            1300,
            400,
            2000,
            700,
            1900,
            500,
            1200,
            500,
            1300,
            200,
            1400,
            600,
            1300,
            300,
            1400,
            600,
            1200,
            300,
            1400,
            400,
            2000,
            600,
            1500,
            400,
            1400,
            500,
            1500,
            900
           ],
           "time": [
            5,
            6,
            7,
            8,
            9,
            10,
            11,
            12,
            13,
            14,
            15,
            16,
            17,
            18,
            19,
            20,
            21,
            22,
            23,
            24,
            25,
            26,
            27,
            28,
            29,
            30,
            31,
            32,
            33,
            34,
            35,
            36,
            37,
            38,
            39,
            40,
            41,
            42,
            43,
            44,
            45,
            46,
            47,
            48,
            49,
            50,
            51,
            52,
            53,
            54,
            55,
            56,
            57,
            58,
            59,
            60,
            61,
            62,
            63,
            64,
            65,
            66,
            67,
            68,
            69,
            70,
            71,
            72,
            73,
            74,
            75,
            76,
            77,
            78,
            79,
            80,
            81,
            82,
            83,
            84,
            85,
            86,
            87,
            88,
            89,
            90,
            91,
            92,
            93,
            94,
            95,
            96,
            97,
            98,
            99,
            100
           ]
          },
          {
           "cost": [
            1000,
            300,
            900,
            1000,
            1000,
            1200,
            1400,
            900,
            1500,
            700,
            1100,
            1400,
            1400,
            700,
            800,
            1300,
            1100,
            1000,
            1200,
            600,
            1600,
            900,
            700,
            1300,
            700,
            800,
            1100,
            1100,
            1200,
            1800,
            800,
            1300,
            1800,
            300,
            400,
            1700,
            700,
            800,
            2100,
            400,
            600,
            1600,
            600,
            500,
            1100,
            400,
            700,
            2500,
            200,
            500,
            2100,
            800,
            400,
            2200,
            400,
            700,
            1700,
            500,
            200,
            2100,
            400,
            500,
            1300,
            400,
            900,
            2400,
            500,
            700,
            2400,
            600,
            400,
            2300,
            400,
            400,
            1700,
            600,
            500,
            3200,
            300,
            200,
            1700,
            500,
            300,
            1500,
            700,
            200,
            1400,
            200,
            300,
            2600,
            400,
            500,
            2100,
            400,
            500
           ],
           "time": [
            5,
            6,
            7,
            8,
            9,
            10,
            11,
            12,
            13,
            14,
            15,
            16,
            17,
            18,
            19,
            20,
            21,
            22,
            23,
            24,
            25,
            26,
            27,
            28,
            29,
            30,
            31,
            32,
            33,
            34,
            35,
            36,
            37,
            38,
            39,
            40,
            41,
            42,
            43,
            44,
            45,
            46,
            47,
            48,
            49,
            50,
            51,
            52,
            53,
            54,
            55,
            56,
            57,
            58,
            59,
            60,
            61,
            62,
            63,
            64,
            65,
            66,
            67,
            68,
            69,
            70,
            71,
            72,
            73,
            74,
            75,
            76,
            77,
            78,
            79,
            80,
            81,
            82,
            83,
            84,
            85,
            86,
            87,
            88,
            89,
            90,
            91,
            92,
            93,
            94,
            95,
            96,
            97,
            98,
            99
           ]
          },
          {
           "cost": [
            900,
            900,
            1000,
            1200,
            1100,
            300,
            800,
            1000,
            900,
            700,
            1000,
            500,
            1100,
            900,
            900,
            700,
            1800,
            1300,
            1100,
            800,
            1200,
            200,
            600,
            1100,
            1200,
            1400,
            1000,
            600,
            2200,
            800,
            900,
            800,
            1500,
            800,
            200,
            600,
            1400,
            300,
            300,
            300,
            2300,
            500,
            800,
            600,
            2300,
            700,
            400,
            500,
            1700,
            400,
            600,
            1300,
            2400,
            600,
            300,
            300,
            2500,
            500,
            400,
            700,
            1600,
            200,
            100,
            700,
            1600,
            500,
            200,
            300,
            1800,
            500,
            600,
            100,
            1700,
            800,
            700,
            300,
            1400,
            700,
            500,
            300,
            3000,
            400,
            200,
            500,
            2500,
            300,
            500,
            600,
            2300,
            100,
            400,
            400,
            3200,
            300,
            200
           ],
           "time": [
            5,
            6,
            7,
            8,
            9,
            10,
            11,
            12,
            13,
            14,
            15,
            16,
            17,
            18,
            19,
            20,
            21,
            22,
            23,
            24,
            25,
            26,
            27,
            28,
            29,
            30,
            31,
            32,
            33,
            34,
            35,
            36,
            37,
            38,
            39,
            40,
            41,
            42,
            43,
            44,
            45,
            46,
            47,
            48,
            49,
            50,
            51,
            52,
            53,
            54,
            55,
            56,
            57,
            58,
            59,
            60,
            61,
            62,
            63,
            64,
            65,
            66,
            67,
            68,
            69,
            70,
            71,
            72,
            73,
            74,
            75,
            76,
            77,
            78,
            79,
            80,
            81,
            82,
            83,
            84,
            85,
            86,
            87,
            88,
            89,
            90,
            91,
            92,
            93,
            94,
            95,
            96,
            97,
            98,
            100
           ]
          },
          {
           "cost": [
            700,
            600,
            1000,
            1200,
            800,
            1000,
            1200,
            1500,
            800,
            400,
            800,
            1000,
            200,
            1000,
            600,
            800,
            1500,
            900,
            1000,
            1500,
            1700,
            2100,
            1000,
            800,
            500,
            900,
            1200,
            900,
            500,
            500,
            1000,
            2100,
            1100,
            600,
            500,
            600,
            2100,
            600,
            600,
            1200,
            400,
            2800,
            100,
            800,
            800,
            200,
            2500,
            1100,
            200,
            400,
            500,
            2400,
            300,
            1200,
            700,
            800,
            2400,
            200,
            500,
            700,
            400,
            2200,
            800,
            600,
            600,
            600,
            3000,
            800,
            700,
            1000,
            500,
            2500,
            400,
            600,
            600,
            300,
            2900,
            600,
            600,
            100,
            700,
            2200,
            100,
            400,
            500,
            200,
            2300,
            500,
            500,
            400,
            3100,
            300,
            200,
            600,
            100
           ],
           "time": [
            5,
            6,
            7,
            8,
            9,
            10,
            11,
            12,
            13,
            14,
            15,
            16,
            17,
            18,
            19,
            20,
            21,
            22,
            23,
            24,
            25,
            26,
            27,
            28,
            29,
            30,
            31,
            32,
            33,
            34,
            35,
            36,
            37,
            38,
            39,
            40,
            41,
            42,
            43,
            44,
            45,
            46,
            47,
            48,
            49,
            50,
            51,
            52,
            53,
            54,
            55,
            56,
            57,
            58,
            59,
            60,
            61,
            62,
            63,
            64,
            65,
            66,
            67,
            68,
            69,
            70,
            71,
            72,
            73,
            74,
            75,
            76,
            77,
            78,
            79,
            80,
            81,
            82,
            83,
            84,
            85,
            86,
            87,
            88,
            89,
            90,
            91,
            92,
            93,
            94,
            96,
            97,
            98,
            99,
            100
           ]
          },
          {
           "cost": [
            3300,
            1600,
            1700,
            1000,
            700,
            2900,
            800,
            1000,
            1100,
            500,
            2900,
            700,
            200,
            800,
            900,
            2900,
            500,
            600,
            700,
            1200,
            4000,
            1200,
            500,
            700,
            400,
            2900,
            500,
            700,
            500,
            900,
            2700,
            800,
            500,
            400,
            500,
            2700,
            1200,
            900,
            1000,
            1100,
            100,
            2700,
            700,
            600,
            600,
            300,
            2500,
            800,
            400,
            500,
            800,
            3100,
            400,
            300,
            100,
            1100,
            3400,
            1000,
            300,
            400,
            400,
            3800,
            700,
            200,
            200,
            500,
            2900,
            400,
            400,
            500,
            300,
            4500,
            500,
            200,
            700,
            200,
            3300,
            500,
            300,
            600
           ],
           "time": [
            7,
            8,
            9,
            10,
            11,
            13,
            14,
            15,
            16,
            17,
            19,
            20,
            21,
            22,
            23,
            25,
            26,
            27,
            28,
            29,
            31,
            32,
            33,
            34,
            35,
            37,
            38,
            39,
            40,
            41,
            43,
            44,
            45,
            46,
            47,
            49,
            50,
            51,
            52,
            53,
            54,
            55,
            56,
            57,
            58,
            59,
            61,
            62,
            63,
            64,
            65,
            67,
            68,
            69,
            70,
            71,
            73,
            74,
            75,
            76,
            77,
            79,
            80,
            81,
            82,
            83,
            85,
            86,
            87,
            88,
            89,
            91,
            92,
            93,
            94,
            95,
            97,
            98,
            99,
            100
           ]
          },
          {
           "cost": [
            100,
            4800,
            1100,
            800,
            1000,
            800,
            3000,
            800,
            800,
            1000,
            500,
            2800,
            400,
            1000,
            1100,
            1100,
            4200,
            700,
            800,
            700,
            1000,
            100,
            3500,
            1000,
            300,
            900,
            900,
            4400,
            400,
            500,
            400,
            700,
            4200,
            200,
            400,
            600,
            600,
            3000,
            500,
            700,
            400,
            500,
            100,
            5000,
            600,
            600,
            300,
            100,
            3500,
            400,
            700,
            500,
            500,
            3600,
            400,
            400,
            400,
            400,
            200,
            3600,
            500,
            400,
            400,
            600,
            5300,
            300,
            400,
            200,
            600,
            4900,
            200
           ],
           "time": [
            5,
            8,
            9,
            10,
            11,
            12,
            15,
            16,
            17,
            18,
            19,
            22,
            23,
            24,
            25,
            26,
            29,
            30,
            31,
            32,
            33,
            35,
            36,
            37,
            38,
            39,
            40,
            43,
            44,
            45,
            46,
            47,
            50,
            51,
            52,
            53,
            54,
            57,
            58,
            59,
            60,
            61,
            63,
            64,
            65,
            66,
            67,
            68,
            71,
            72,
            73,
            74,
            75,
            78,
            79,
            80,
            81,
            82,
            83,
            85,
            86,
            87,
            88,
            89,
            92,
            93,
            94,
            95,
            96,
            99,
            100
           ]
          },
          {
           "cost": [
            5400,
            600,
            700,
            800,
            900,
            4000,
            800,
            1000,
            900,
            900,
            100,
            4800,
            1000,
            600,
            800,
            600,
            5700,
            1000,
            800,
            800,
            500,
            3700,
            500,
            600,
            600,
            600,
            100,
            5300,
            500,
            600,
            500,
            300,
            3700,
            400,
            1100,
            800,
            600,
            5100,
            400,
            200,
            300,
            400,
            5200,
            600,
            600,
            500,
            600,
            4700,
            400,
            900,
            300,
            800,
            4400,
            500,
            300,
            500,
            400,
            5600,
            300,
            400,
            100
           ],
           "time": [
            9,
            10,
            11,
            12,
            13,
            17,
            18,
            19,
            20,
            21,
            24,
            25,
            26,
            27,
            28,
            29,
            33,
            34,
            35,
            36,
            37,
            41,
            42,
            43,
            44,
            45,
            46,
            49,
            50,
            51,
            52,
            53,
            57,
            58,
            59,
            60,
            61,
            65,
            66,
            67,
            68,
            69,
            73,
            74,
            75,
            76,
            77,
            81,
            82,
            83,
            84,
            85,
            89,
            90,
            91,
            92,
            93,
            97,
            98,
            99,
            100
           ]
          },
          {
           "cost": [
            100,
            100,
            300,
            5800,
            1400,
            900,
            600,
            1200,
            300,
            200,
            5100,
            1000,
            1600,
            500,
            800,
            200,
            400,
            100,
            4200,
            1000,
            700,
            800,
            1000,
            100,
            200,
            5600,
            1000,
            800,
            300,
            400,
            200,
            100,
            4800,
            700,
            900,
            600,
            700,
            200,
            200,
            7200,
            400,
            500,
            500,
            500,
            100,
            200,
            6200,
            500,
            500,
            400,
            600,
            200,
            6300,
            800,
            900,
            500,
            300,
            5000,
            500,
            400,
            600,
            100,
            5400,
            200,
            500,
            300,
            500,
            100,
            100
           ],
           "time": [
            5,
            6,
            7,
            10,
            11,
            12,
            13,
            14,
            15,
            17,
            19,
            20,
            21,
            22,
            23,
            25,
            26,
            27,
            28,
            29,
            30,
            31,
            32,
            33,
            36,
            37,
            38,
            39,
            40,
            41,
            44,
            45,
            46,
            47,
            48,
            49,
            50,
            51,
            52,
            55,
            56,
            57,
            58,
            59,
            60,
            62,
            64,
            65,
            66,
            67,
            68,
            72,
            73,
            74,
            75,
            76,
            77,
            82,
            83,
            84,
            85,
            86,
            91,
            92,
            93,
            94,
            95,
            96,
            99
           ]
          }
         ],
         "yaxis": "y"
        },
        {
         "hovertemplate": "source=cm<br>inspection_interval=%{x}<br>cost=%{y}<extra></extra>",
         "legendgroup": "cm",
         "line": {
          "color": "#00cc96",
          "dash": "solid"
         },
         "mode": "lines",
         "name": "cm",
         "orientation": "v",
         "showlegend": true,
         "type": "scatter",
         "x": [
          1,
          2,
          3,
          4,
          5,
          6,
          7,
          8,
          9
         ],
         "xaxis": "x",
         "y": [
          {
           "cost": [],
           "time": []
          },
          {
           "cost": [],
           "time": []
          },
          {
           "cost": [],
           "time": []
          },
          {
           "cost": [
            5000
           ],
           "time": [
            85
           ]
          },
          {
           "cost": [
            5000,
            5000,
            5000,
            5000
           ],
           "time": [
            54,
            64,
            68,
            99
           ]
          },
          {
           "cost": [
            5000,
            5000,
            5000,
            5000,
            10000,
            5000,
            5000,
            5000,
            5000,
            5000,
            5000,
            5000,
            10000,
            5000
           ],
           "time": [
            47,
            53,
            62,
            69,
            71,
            76,
            78,
            83,
            87,
            88,
            89,
            94,
            95,
            97
           ]
          },
          {
           "cost": [
            5000,
            10000,
            10000,
            5000,
            10000,
            5000,
            5000,
            5000,
            10000,
            5000,
            5000,
            5000,
            5000,
            5000,
            5000,
            10000,
            20000
           ],
           "time": [
            52,
            60,
            61,
            67,
            68,
            70,
            72,
            74,
            75,
            78,
            80,
            82,
            87,
            93,
            94,
            95,
            96
           ]
          },
          {
           "cost": [
            5000,
            5000,
            5000,
            5000,
            5000,
            5000,
            5000,
            5000,
            5000,
            5000,
            5000,
            10000,
            5000,
            5000,
            5000,
            5000,
            5000,
            15000,
            10000,
            5000,
            5000,
            10000,
            10000,
            5000,
            10000
           ],
           "time": [
            21,
            26,
            36,
            45,
            61,
            64,
            67,
            68,
            69,
            75,
            76,
            77,
            81,
            83,
            84,
            87,
            88,
            90,
            91,
            92,
            93,
            97,
            98,
            99,
            100
           ]
          },
          {
           "cost": [
            5000,
            5000,
            10000,
            5000,
            15000,
            5000,
            5000,
            10000,
            5000,
            5000,
            5000,
            5000,
            15000,
            10000,
            5000,
            5000,
            5000,
            5000,
            10000,
            10000,
            10000,
            5000,
            10000,
            10000,
            15000,
            10000,
            10000,
            5000
           ],
           "time": [
            36,
            39,
            48,
            49,
            50,
            57,
            59,
            65,
            66,
            68,
            70,
            71,
            75,
            76,
            79,
            81,
            82,
            83,
            84,
            85,
            86,
            88,
            90,
            92,
            93,
            94,
            95,
            97
           ]
          }
         ],
         "yaxis": "y"
        }
       ],
       "layout": {
        "legend": {
         "title": {
          "text": "source"
         },
         "tracegroupgap": 0
        },
        "template": {
         "data": {
          "bar": [
           {
            "error_x": {
             "color": "#2a3f5f"
            },
            "error_y": {
             "color": "#2a3f5f"
            },
            "marker": {
             "line": {
              "color": "#E5ECF6",
              "width": 0.5
             }
            },
            "type": "bar"
           }
          ],
          "barpolar": [
           {
            "marker": {
             "line": {
              "color": "#E5ECF6",
              "width": 0.5
             }
            },
            "type": "barpolar"
           }
          ],
          "carpet": [
           {
            "aaxis": {
             "endlinecolor": "#2a3f5f",
             "gridcolor": "white",
             "linecolor": "white",
             "minorgridcolor": "white",
             "startlinecolor": "#2a3f5f"
            },
            "baxis": {
             "endlinecolor": "#2a3f5f",
             "gridcolor": "white",
             "linecolor": "white",
             "minorgridcolor": "white",
             "startlinecolor": "#2a3f5f"
            },
            "type": "carpet"
           }
          ],
          "choropleth": [
           {
            "colorbar": {
             "outlinewidth": 0,
             "ticks": ""
            },
            "type": "choropleth"
           }
          ],
          "contour": [
           {
            "colorbar": {
             "outlinewidth": 0,
             "ticks": ""
            },
            "colorscale": [
             [
              0,
              "#0d0887"
             ],
             [
              0.1111111111111111,
              "#46039f"
             ],
             [
              0.2222222222222222,
              "#7201a8"
             ],
             [
              0.3333333333333333,
              "#9c179e"
             ],
             [
              0.4444444444444444,
              "#bd3786"
             ],
             [
              0.5555555555555556,
              "#d8576b"
             ],
             [
              0.6666666666666666,
              "#ed7953"
             ],
             [
              0.7777777777777778,
              "#fb9f3a"
             ],
             [
              0.8888888888888888,
              "#fdca26"
             ],
             [
              1,
              "#f0f921"
             ]
            ],
            "type": "contour"
           }
          ],
          "contourcarpet": [
           {
            "colorbar": {
             "outlinewidth": 0,
             "ticks": ""
            },
            "type": "contourcarpet"
           }
          ],
          "heatmap": [
           {
            "colorbar": {
             "outlinewidth": 0,
             "ticks": ""
            },
            "colorscale": [
             [
              0,
              "#0d0887"
             ],
             [
              0.1111111111111111,
              "#46039f"
             ],
             [
              0.2222222222222222,
              "#7201a8"
             ],
             [
              0.3333333333333333,
              "#9c179e"
             ],
             [
              0.4444444444444444,
              "#bd3786"
             ],
             [
              0.5555555555555556,
              "#d8576b"
             ],
             [
              0.6666666666666666,
              "#ed7953"
             ],
             [
              0.7777777777777778,
              "#fb9f3a"
             ],
             [
              0.8888888888888888,
              "#fdca26"
             ],
             [
              1,
              "#f0f921"
             ]
            ],
            "type": "heatmap"
           }
          ],
          "heatmapgl": [
           {
            "colorbar": {
             "outlinewidth": 0,
             "ticks": ""
            },
            "colorscale": [
             [
              0,
              "#0d0887"
             ],
             [
              0.1111111111111111,
              "#46039f"
             ],
             [
              0.2222222222222222,
              "#7201a8"
             ],
             [
              0.3333333333333333,
              "#9c179e"
             ],
             [
              0.4444444444444444,
              "#bd3786"
             ],
             [
              0.5555555555555556,
              "#d8576b"
             ],
             [
              0.6666666666666666,
              "#ed7953"
             ],
             [
              0.7777777777777778,
              "#fb9f3a"
             ],
             [
              0.8888888888888888,
              "#fdca26"
             ],
             [
              1,
              "#f0f921"
             ]
            ],
            "type": "heatmapgl"
           }
          ],
          "histogram": [
           {
            "marker": {
             "colorbar": {
              "outlinewidth": 0,
              "ticks": ""
             }
            },
            "type": "histogram"
           }
          ],
          "histogram2d": [
           {
            "colorbar": {
             "outlinewidth": 0,
             "ticks": ""
            },
            "colorscale": [
             [
              0,
              "#0d0887"
             ],
             [
              0.1111111111111111,
              "#46039f"
             ],
             [
              0.2222222222222222,
              "#7201a8"
             ],
             [
              0.3333333333333333,
              "#9c179e"
             ],
             [
              0.4444444444444444,
              "#bd3786"
             ],
             [
              0.5555555555555556,
              "#d8576b"
             ],
             [
              0.6666666666666666,
              "#ed7953"
             ],
             [
              0.7777777777777778,
              "#fb9f3a"
             ],
             [
              0.8888888888888888,
              "#fdca26"
             ],
             [
              1,
              "#f0f921"
             ]
            ],
            "type": "histogram2d"
           }
          ],
          "histogram2dcontour": [
           {
            "colorbar": {
             "outlinewidth": 0,
             "ticks": ""
            },
            "colorscale": [
             [
              0,
              "#0d0887"
             ],
             [
              0.1111111111111111,
              "#46039f"
             ],
             [
              0.2222222222222222,
              "#7201a8"
             ],
             [
              0.3333333333333333,
              "#9c179e"
             ],
             [
              0.4444444444444444,
              "#bd3786"
             ],
             [
              0.5555555555555556,
              "#d8576b"
             ],
             [
              0.6666666666666666,
              "#ed7953"
             ],
             [
              0.7777777777777778,
              "#fb9f3a"
             ],
             [
              0.8888888888888888,
              "#fdca26"
             ],
             [
              1,
              "#f0f921"
             ]
            ],
            "type": "histogram2dcontour"
           }
          ],
          "mesh3d": [
           {
            "colorbar": {
             "outlinewidth": 0,
             "ticks": ""
            },
            "type": "mesh3d"
           }
          ],
          "parcoords": [
           {
            "line": {
             "colorbar": {
              "outlinewidth": 0,
              "ticks": ""
             }
            },
            "type": "parcoords"
           }
          ],
          "pie": [
           {
            "automargin": true,
            "type": "pie"
           }
          ],
          "scatter": [
           {
            "marker": {
             "colorbar": {
              "outlinewidth": 0,
              "ticks": ""
             }
            },
            "type": "scatter"
           }
          ],
          "scatter3d": [
           {
            "line": {
             "colorbar": {
              "outlinewidth": 0,
              "ticks": ""
             }
            },
            "marker": {
             "colorbar": {
              "outlinewidth": 0,
              "ticks": ""
             }
            },
            "type": "scatter3d"
           }
          ],
          "scattercarpet": [
           {
            "marker": {
             "colorbar": {
              "outlinewidth": 0,
              "ticks": ""
             }
            },
            "type": "scattercarpet"
           }
          ],
          "scattergeo": [
           {
            "marker": {
             "colorbar": {
              "outlinewidth": 0,
              "ticks": ""
             }
            },
            "type": "scattergeo"
           }
          ],
          "scattergl": [
           {
            "marker": {
             "colorbar": {
              "outlinewidth": 0,
              "ticks": ""
             }
            },
            "type": "scattergl"
           }
          ],
          "scattermapbox": [
           {
            "marker": {
             "colorbar": {
              "outlinewidth": 0,
              "ticks": ""
             }
            },
            "type": "scattermapbox"
           }
          ],
          "scatterpolar": [
           {
            "marker": {
             "colorbar": {
              "outlinewidth": 0,
              "ticks": ""
             }
            },
            "type": "scatterpolar"
           }
          ],
          "scatterpolargl": [
           {
            "marker": {
             "colorbar": {
              "outlinewidth": 0,
              "ticks": ""
             }
            },
            "type": "scatterpolargl"
           }
          ],
          "scatterternary": [
           {
            "marker": {
             "colorbar": {
              "outlinewidth": 0,
              "ticks": ""
             }
            },
            "type": "scatterternary"
           }
          ],
          "surface": [
           {
            "colorbar": {
             "outlinewidth": 0,
             "ticks": ""
            },
            "colorscale": [
             [
              0,
              "#0d0887"
             ],
             [
              0.1111111111111111,
              "#46039f"
             ],
             [
              0.2222222222222222,
              "#7201a8"
             ],
             [
              0.3333333333333333,
              "#9c179e"
             ],
             [
              0.4444444444444444,
              "#bd3786"
             ],
             [
              0.5555555555555556,
              "#d8576b"
             ],
             [
              0.6666666666666666,
              "#ed7953"
             ],
             [
              0.7777777777777778,
              "#fb9f3a"
             ],
             [
              0.8888888888888888,
              "#fdca26"
             ],
             [
              1,
              "#f0f921"
             ]
            ],
            "type": "surface"
           }
          ],
          "table": [
           {
            "cells": {
             "fill": {
              "color": "#EBF0F8"
             },
             "line": {
              "color": "white"
             }
            },
            "header": {
             "fill": {
              "color": "#C8D4E3"
             },
             "line": {
              "color": "white"
             }
            },
            "type": "table"
           }
          ]
         },
         "layout": {
          "annotationdefaults": {
           "arrowcolor": "#2a3f5f",
           "arrowhead": 0,
           "arrowwidth": 1
          },
          "coloraxis": {
           "colorbar": {
            "outlinewidth": 0,
            "ticks": ""
           }
          },
          "colorscale": {
           "diverging": [
            [
             0,
             "#8e0152"
            ],
            [
             0.1,
             "#c51b7d"
            ],
            [
             0.2,
             "#de77ae"
            ],
            [
             0.3,
             "#f1b6da"
            ],
            [
             0.4,
             "#fde0ef"
            ],
            [
             0.5,
             "#f7f7f7"
            ],
            [
             0.6,
             "#e6f5d0"
            ],
            [
             0.7,
             "#b8e186"
            ],
            [
             0.8,
             "#7fbc41"
            ],
            [
             0.9,
             "#4d9221"
            ],
            [
             1,
             "#276419"
            ]
           ],
           "sequential": [
            [
             0,
             "#0d0887"
            ],
            [
             0.1111111111111111,
             "#46039f"
            ],
            [
             0.2222222222222222,
             "#7201a8"
            ],
            [
             0.3333333333333333,
             "#9c179e"
            ],
            [
             0.4444444444444444,
             "#bd3786"
            ],
            [
             0.5555555555555556,
             "#d8576b"
            ],
            [
             0.6666666666666666,
             "#ed7953"
            ],
            [
             0.7777777777777778,
             "#fb9f3a"
            ],
            [
             0.8888888888888888,
             "#fdca26"
            ],
            [
             1,
             "#f0f921"
            ]
           ],
           "sequentialminus": [
            [
             0,
             "#0d0887"
            ],
            [
             0.1111111111111111,
             "#46039f"
            ],
            [
             0.2222222222222222,
             "#7201a8"
            ],
            [
             0.3333333333333333,
             "#9c179e"
            ],
            [
             0.4444444444444444,
             "#bd3786"
            ],
            [
             0.5555555555555556,
             "#d8576b"
            ],
            [
             0.6666666666666666,
             "#ed7953"
            ],
            [
             0.7777777777777778,
             "#fb9f3a"
            ],
            [
             0.8888888888888888,
             "#fdca26"
            ],
            [
             1,
             "#f0f921"
            ]
           ]
          },
          "colorway": [
           "#636efa",
           "#EF553B",
           "#00cc96",
           "#ab63fa",
           "#FFA15A",
           "#19d3f3",
           "#FF6692",
           "#B6E880",
           "#FF97FF",
           "#FECB52"
          ],
          "font": {
           "color": "#2a3f5f"
          },
          "geo": {
           "bgcolor": "white",
           "lakecolor": "white",
           "landcolor": "#E5ECF6",
           "showlakes": true,
           "showland": true,
           "subunitcolor": "white"
          },
          "hoverlabel": {
           "align": "left"
          },
          "hovermode": "closest",
          "mapbox": {
           "style": "light"
          },
          "paper_bgcolor": "white",
          "plot_bgcolor": "#E5ECF6",
          "polar": {
           "angularaxis": {
            "gridcolor": "white",
            "linecolor": "white",
            "ticks": ""
           },
           "bgcolor": "#E5ECF6",
           "radialaxis": {
            "gridcolor": "white",
            "linecolor": "white",
            "ticks": ""
           }
          },
          "scene": {
           "xaxis": {
            "backgroundcolor": "#E5ECF6",
            "gridcolor": "white",
            "gridwidth": 2,
            "linecolor": "white",
            "showbackground": true,
            "ticks": "",
            "zerolinecolor": "white"
           },
           "yaxis": {
            "backgroundcolor": "#E5ECF6",
            "gridcolor": "white",
            "gridwidth": 2,
            "linecolor": "white",
            "showbackground": true,
            "ticks": "",
            "zerolinecolor": "white"
           },
           "zaxis": {
            "backgroundcolor": "#E5ECF6",
            "gridcolor": "white",
            "gridwidth": 2,
            "linecolor": "white",
            "showbackground": true,
            "ticks": "",
            "zerolinecolor": "white"
           }
          },
          "shapedefaults": {
           "line": {
            "color": "#2a3f5f"
           }
          },
          "ternary": {
           "aaxis": {
            "gridcolor": "white",
            "linecolor": "white",
            "ticks": ""
           },
           "baxis": {
            "gridcolor": "white",
            "linecolor": "white",
            "ticks": ""
           },
           "bgcolor": "#E5ECF6",
           "caxis": {
            "gridcolor": "white",
            "linecolor": "white",
            "ticks": ""
           }
          },
          "title": {
           "x": 0.05
          },
          "xaxis": {
           "automargin": true,
           "gridcolor": "white",
           "linecolor": "white",
           "ticks": "",
           "title": {
            "standoff": 15
           },
           "zerolinecolor": "white",
           "zerolinewidth": 2
          },
          "yaxis": {
           "automargin": true,
           "gridcolor": "white",
           "linecolor": "white",
           "ticks": "",
           "title": {
            "standoff": 15
           },
           "zerolinecolor": "white",
           "zerolinewidth": 2
          }
         }
        },
        "title": {
         "text": "Risk v Cost at different Inspection Intervals"
        },
        "xaxis": {
         "anchor": "y",
         "domain": [
          0,
          1
         ],
         "title": {
          "text": "inspection_interval"
         }
        },
        "yaxis": {
         "anchor": "x",
         "domain": [
          0,
          1
         ],
         "title": {
          "text": "cost"
         }
        }
       }
      }
     },
     "metadata": {}
    }
   ],
   "source": [
    "df_plot = pd.DataFrame(cost).T\n",
    "\n",
    "df_plot = pd.melt(df_plot, id_vars=['inspection_interval'], var_name = 'source', value_name = 'cost')\n",
    "\n",
    "fig = px.line(df_plot, x=\"inspection_interval\", y=\"cost\", color='source', title='Risk v Cost at different Inspection Intervals')\n",
    "fig.show()"
   ]
  },
  {
   "cell_type": "code",
   "execution_count": 10,
   "metadata": {},
   "outputs": [
    {
     "output_type": "execute_result",
     "data": {
      "text/plain": "True"
     },
     "metadata": {},
     "execution_count": 10
    }
   ],
   "source": [
    "# Dists\n",
    "\n",
    "# Impacts\n",
    "\n",
    "\n",
    "\n",
    "# Tasks\n",
    "scheduled_inspection = Inspection(t_interval=10)\n",
    "\n",
    "scheduled_inspection.set_params(\n",
    "        t_interval = 5,\n",
    "        t_delay = 20,\n",
    "        p_effective = 0.9,\n",
    "        state_triggers = dict(),\n",
    "\n",
    "        condition_triggers = dict(\n",
    "            wall_thickness = dict(\n",
    "                lower = 0,\n",
    "                upper = 90,\n",
    "            ),\n",
    "        ),\n",
    "\n",
    "        state_impacts = dict( \n",
    "            detection = True,\n",
    "        ),\n",
    "\n",
    "        condition_impacts = dict(\n",
    "            wall_thickness = dict(\n",
    "                target = None,\n",
    "                reduction_factor = 0,\n",
    "                method = 'reduction_factor',\n",
    "                axis = 'condition',\n",
    "             ),\n",
    "        ),\n",
    ")\n",
    "\n",
    "# Failure Modes\n",
    "early_life = FailureMode(alpha=10000, beta=0.5, gamma=0)\n",
    "random = FailureMode(alpha=100, beta=1, gamma=0)\n",
    "slow_aging = FailureMode(alpha=100, beta=1.5, gamma=20)\n",
    "fast_aging = FailureMode(alpha=50, beta=3, gamma=20)\n",
    "\n",
    "fm_demo = slow_aging\n",
    "\n",
    "fm_demo.set_conditions(dict(\n",
    "    wall_thickness = Condition(100, 0, 'linear', [-2]),\n",
    "    external_diameter = Condition(100, 0, 'linear', [-5]),\n",
    "))\n",
    "\n",
    "fm_demo.set_tasks(dict(\n",
    "    inspection = scheduled_inspection,\n",
    "    #ocr = OnConditionRepair(activity='on_condition_repair').set_default(),\n",
    "    cm = ImmediateMaintenance(activity='cm').set_default(),\n",
    "))\n"
   ]
  },
  {
   "cell_type": "code",
   "execution_count": 11,
   "metadata": {
    "tags": []
   },
   "outputs": [
    {
     "output_type": "stream",
     "name": "stderr",
     "text": "0%|          | 0/100 [00:00<?, ?it/s]\n"
    },
    {
     "output_type": "error",
     "ename": "KeyError",
     "evalue": "'initiation'",
     "traceback": [
      "\u001b[1;31m---------------------------------------------------------------------------\u001b[0m",
      "\u001b[1;31mKeyError\u001b[0m                                  Traceback (most recent call last)",
      "\u001b[1;32m<ipython-input-11-a70cb9ca0cd1>\u001b[0m in \u001b[0;36m<module>\u001b[1;34m\u001b[0m\n\u001b[1;32m----> 1\u001b[1;33m \u001b[0mfm_demo\u001b[0m\u001b[1;33m.\u001b[0m\u001b[0mmc_timeline\u001b[0m\u001b[1;33m(\u001b[0m\u001b[1;36m1000\u001b[0m\u001b[1;33m)\u001b[0m\u001b[1;33m\u001b[0m\u001b[1;33m\u001b[0m\u001b[0m\n\u001b[0m\u001b[0;32m      2\u001b[0m \u001b[1;33m\u001b[0m\u001b[0m\n\u001b[0;32m      3\u001b[0m \u001b[0mdf\u001b[0m \u001b[1;33m=\u001b[0m \u001b[0mfm_demo\u001b[0m\u001b[1;33m.\u001b[0m\u001b[0mexpected_cost_df\u001b[0m\u001b[1;33m(\u001b[0m\u001b[1;33m)\u001b[0m\u001b[1;33m\u001b[0m\u001b[1;33m\u001b[0m\u001b[0m\n\u001b[0;32m      4\u001b[0m \u001b[1;33m\u001b[0m\u001b[0m\n\u001b[0;32m      5\u001b[0m \u001b[0mfig\u001b[0m \u001b[1;33m=\u001b[0m \u001b[0mpx\u001b[0m\u001b[1;33m.\u001b[0m\u001b[0marea\u001b[0m\u001b[1;33m(\u001b[0m\u001b[0mdf\u001b[0m\u001b[1;33m,\u001b[0m \u001b[0mx\u001b[0m\u001b[1;33m=\u001b[0m\u001b[1;34m\"time\"\u001b[0m\u001b[1;33m,\u001b[0m \u001b[0my\u001b[0m\u001b[1;33m=\u001b[0m\u001b[1;34m\"cost_cumulative\"\u001b[0m\u001b[1;33m,\u001b[0m \u001b[0mcolor\u001b[0m\u001b[1;33m=\u001b[0m\u001b[1;34m\"task\"\u001b[0m\u001b[1;33m,\u001b[0m \u001b[0mtitle\u001b[0m\u001b[1;33m=\u001b[0m\u001b[1;34m'Maintenance Strategy Costs'\u001b[0m\u001b[1;33m)\u001b[0m\u001b[1;33m\u001b[0m\u001b[1;33m\u001b[0m\u001b[0m\n",
      "\u001b[1;32mc:\\Users\\gtreseder\\OneDrive - KPMG\\Documents\\3. Client\\Essential Energy\\Probability of Failure Model\\pof\\pof\\failure_mode.py\u001b[0m in \u001b[0;36mmc_timeline\u001b[1;34m(self, t_end, t_start, n_iterations)\u001b[0m\n\u001b[0;32m    196\u001b[0m \u001b[1;33m\u001b[0m\u001b[0m\n\u001b[0;32m    197\u001b[0m         \u001b[1;32mfor\u001b[0m \u001b[0mi\u001b[0m \u001b[1;32min\u001b[0m \u001b[0mtqdm\u001b[0m\u001b[1;33m(\u001b[0m\u001b[0mrange\u001b[0m\u001b[1;33m(\u001b[0m\u001b[0mn_iterations\u001b[0m\u001b[1;33m)\u001b[0m\u001b[1;33m)\u001b[0m\u001b[1;33m:\u001b[0m\u001b[1;33m\u001b[0m\u001b[1;33m\u001b[0m\u001b[0m\n\u001b[1;32m--> 198\u001b[1;33m             \u001b[0mself\u001b[0m\u001b[1;33m.\u001b[0m\u001b[0msim_timeline\u001b[0m\u001b[1;33m(\u001b[0m\u001b[0mt_end\u001b[0m\u001b[1;33m=\u001b[0m\u001b[0mt_end\u001b[0m\u001b[1;33m,\u001b[0m \u001b[0mt_start\u001b[0m\u001b[1;33m=\u001b[0m\u001b[0mt_start\u001b[0m\u001b[1;33m)\u001b[0m\u001b[1;33m\u001b[0m\u001b[1;33m\u001b[0m\u001b[0m\n\u001b[0m\u001b[0;32m    199\u001b[0m             \u001b[0mself\u001b[0m\u001b[1;33m.\u001b[0m\u001b[0msave_timeline\u001b[0m\u001b[1;33m(\u001b[0m\u001b[0mi\u001b[0m\u001b[1;33m)\u001b[0m\u001b[1;33m\u001b[0m\u001b[1;33m\u001b[0m\u001b[0m\n\u001b[0;32m    200\u001b[0m \u001b[1;33m\u001b[0m\u001b[0m\n",
      "\u001b[1;32mc:\\Users\\gtreseder\\OneDrive - KPMG\\Documents\\3. Client\\Essential Energy\\Probability of Failure Model\\pof\\pof\\failure_mode.py\u001b[0m in \u001b[0;36msim_timeline\u001b[1;34m(self, t_end, t_start, verbose)\u001b[0m\n\u001b[0;32m    202\u001b[0m \u001b[1;33m\u001b[0m\u001b[0m\n\u001b[0;32m    203\u001b[0m \u001b[1;33m\u001b[0m\u001b[0m\n\u001b[1;32m--> 204\u001b[1;33m         \u001b[0mtimeline\u001b[0m \u001b[1;33m=\u001b[0m \u001b[0mself\u001b[0m\u001b[1;33m.\u001b[0m\u001b[0minit_timeline\u001b[0m\u001b[1;33m(\u001b[0m\u001b[0mt_start\u001b[0m\u001b[1;33m=\u001b[0m\u001b[0mt_start\u001b[0m\u001b[1;33m,\u001b[0m \u001b[0mt_end\u001b[0m\u001b[1;33m=\u001b[0m\u001b[0mt_end\u001b[0m\u001b[1;33m)\u001b[0m\u001b[1;33m\u001b[0m\u001b[1;33m\u001b[0m\u001b[0m\n\u001b[0m\u001b[0;32m    205\u001b[0m \u001b[1;33m\u001b[0m\u001b[0m\n\u001b[0;32m    206\u001b[0m         \u001b[1;32mif\u001b[0m \u001b[0mself\u001b[0m\u001b[1;33m.\u001b[0m\u001b[0mactive\u001b[0m\u001b[1;33m:\u001b[0m\u001b[1;33m\u001b[0m\u001b[1;33m\u001b[0m\u001b[0m\n",
      "\u001b[1;32mc:\\Users\\gtreseder\\OneDrive - KPMG\\Documents\\3. Client\\Essential Energy\\Probability of Failure Model\\pof\\pof\\failure_mode.py\u001b[0m in \u001b[0;36minit_timeline\u001b[1;34m(self, t_end, t_start)\u001b[0m\n\u001b[0;32m    254\u001b[0m \u001b[1;33m\u001b[0m\u001b[0m\n\u001b[0;32m    255\u001b[0m         \u001b[1;32mif\u001b[0m \u001b[0mself\u001b[0m\u001b[1;33m.\u001b[0m\u001b[0mactive\u001b[0m\u001b[1;33m:\u001b[0m\u001b[1;33m\u001b[0m\u001b[1;33m\u001b[0m\u001b[0m\n\u001b[1;32m--> 256\u001b[1;33m             \u001b[0mself\u001b[0m\u001b[1;33m.\u001b[0m\u001b[0m_init_timeline\u001b[0m\u001b[1;33m(\u001b[0m\u001b[0mt_end\u001b[0m\u001b[1;33m,\u001b[0m \u001b[0mt_start\u001b[0m\u001b[1;33m)\u001b[0m\u001b[1;33m\u001b[0m\u001b[1;33m\u001b[0m\u001b[0m\n\u001b[0m\u001b[0;32m    257\u001b[0m \u001b[1;33m\u001b[0m\u001b[0m\n\u001b[0;32m    258\u001b[0m         \u001b[1;32melse\u001b[0m\u001b[1;33m:\u001b[0m\u001b[1;33m\u001b[0m\u001b[1;33m\u001b[0m\u001b[0m\n",
      "\u001b[1;32mc:\\Users\\gtreseder\\OneDrive - KPMG\\Documents\\3. Client\\Essential Energy\\Probability of Failure Model\\pof\\pof\\failure_mode.py\u001b[0m in \u001b[0;36m_init_timeline\u001b[1;34m(self, t_end, t_start)\u001b[0m\n\u001b[0;32m    278\u001b[0m \u001b[1;33m\u001b[0m\u001b[0m\n\u001b[0;32m    279\u001b[0m         \u001b[1;31m# Get intiaition\u001b[0m\u001b[1;33m\u001b[0m\u001b[1;33m\u001b[0m\u001b[1;33m\u001b[0m\u001b[0m\n\u001b[1;32m--> 280\u001b[1;33m         \u001b[0mtimeline\u001b[0m\u001b[1;33m[\u001b[0m\u001b[1;34m\"initiation\"\u001b[0m\u001b[1;33m]\u001b[0m \u001b[1;33m=\u001b[0m \u001b[0mnp\u001b[0m\u001b[1;33m.\u001b[0m\u001b[0mfull\u001b[0m\u001b[1;33m(\u001b[0m\u001b[0mt_end\u001b[0m \u001b[1;33m+\u001b[0m \u001b[1;36m1\u001b[0m\u001b[1;33m,\u001b[0m \u001b[0mself\u001b[0m\u001b[1;33m.\u001b[0m\u001b[0mis_initiated\u001b[0m\u001b[1;33m(\u001b[0m\u001b[1;33m)\u001b[0m\u001b[1;33m)\u001b[0m\u001b[1;33m\u001b[0m\u001b[1;33m\u001b[0m\u001b[0m\n\u001b[0m\u001b[0;32m    281\u001b[0m         \u001b[0mt_initiate\u001b[0m \u001b[1;33m=\u001b[0m \u001b[1;36m0\u001b[0m\u001b[1;33m\u001b[0m\u001b[1;33m\u001b[0m\u001b[0m\n\u001b[0;32m    282\u001b[0m         \u001b[1;32mif\u001b[0m \u001b[1;32mnot\u001b[0m \u001b[0mself\u001b[0m\u001b[1;33m.\u001b[0m\u001b[0mis_initiated\u001b[0m\u001b[1;33m(\u001b[0m\u001b[1;33m)\u001b[0m\u001b[1;33m:\u001b[0m\u001b[1;33m\u001b[0m\u001b[1;33m\u001b[0m\u001b[0m\n",
      "\u001b[1;32mc:\\Users\\gtreseder\\OneDrive - KPMG\\Documents\\3. Client\\Essential Energy\\Probability of Failure Model\\pof\\pof\\failure_mode.py\u001b[0m in \u001b[0;36mis_initiated\u001b[1;34m(self)\u001b[0m\n\u001b[0;32m    121\u001b[0m \u001b[1;33m\u001b[0m\u001b[0m\n\u001b[0;32m    122\u001b[0m     \u001b[1;32mdef\u001b[0m \u001b[0mis_initiated\u001b[0m\u001b[1;33m(\u001b[0m\u001b[0mself\u001b[0m\u001b[1;33m)\u001b[0m\u001b[1;33m:\u001b[0m\u001b[1;33m\u001b[0m\u001b[1;33m\u001b[0m\u001b[0m\n\u001b[1;32m--> 123\u001b[1;33m         \u001b[1;32mreturn\u001b[0m \u001b[0mself\u001b[0m\u001b[1;33m.\u001b[0m\u001b[0mstates\u001b[0m\u001b[1;33m[\u001b[0m\u001b[1;34m\"initiation\"\u001b[0m\u001b[1;33m]\u001b[0m\u001b[1;33m\u001b[0m\u001b[1;33m\u001b[0m\u001b[0m\n\u001b[0m\u001b[0;32m    124\u001b[0m \u001b[1;33m\u001b[0m\u001b[0m\n\u001b[0;32m    125\u001b[0m     \u001b[1;32mdef\u001b[0m \u001b[0mis_detected\u001b[0m\u001b[1;33m(\u001b[0m\u001b[0mself\u001b[0m\u001b[1;33m)\u001b[0m\u001b[1;33m:\u001b[0m\u001b[1;33m\u001b[0m\u001b[1;33m\u001b[0m\u001b[0m\n",
      "\u001b[1;31mKeyError\u001b[0m: 'initiation'"
     ]
    }
   ],
   "source": [
    "fm_demo.mc_timeline(1000)\n",
    "\n",
    "df = fm_demo.expected_cost_df()\n",
    "\n",
    "fig = px.area(df, x=\"time\", y=\"cost_cumulative\", color=\"task\", title='Maintenance Strategy Costs')\n",
    "fig.show()"
   ]
  },
  {
   "cell_type": "code",
   "execution_count": 12,
   "metadata": {},
   "outputs": [
    {
     "output_type": "execute_result",
     "data": {
      "text/plain": "0.75"
     },
     "metadata": {},
     "execution_count": 12
    }
   ],
   "source": [
    "test = np.array([True, True, True, False])\n",
    "\n",
    "test.mean()"
   ]
  },
  {
   "cell_type": "code",
   "execution_count": 13,
   "metadata": {
    "tags": []
   },
   "outputs": [
    {
     "output_type": "stream",
     "name": "stderr",
     "text": "100%|██████████| 100/100 [00:02<00:00, 46.47it/s]\n100%|██████████| 100/100 [00:02<00:00, 35.28it/s]\n100%|██████████| 100/100 [00:04<00:00, 21.96it/s]\n100%|██████████| 100/100 [00:04<00:00, 20.96it/s]\n100%|██████████| 100/100 [00:04<00:00, 20.12it/s]\n100%|██████████| 100/100 [00:03<00:00, 30.11it/s]\n100%|██████████| 100/100 [00:02<00:00, 38.37it/s]\n100%|██████████| 100/100 [00:02<00:00, 39.69it/s]3.68 s ± 1.02 s per loop (mean ± std. dev. of 7 runs, 1 loop each)\n\n"
    }
   ],
   "source": [
    "%%timeit\n",
    "t_end = 200\n",
    "t_start=0\n",
    "n_iterations=100\n",
    "\n",
    "fm.reset()  # TODO ditch this\n",
    "\n",
    "for i in tqdm(range(n_iterations)):\n",
    "    fm._timelines[i] = fm.sim_timeline(t_end=t_end, t_start=t_start)"
   ]
  },
  {
   "cell_type": "code",
   "execution_count": 14,
   "metadata": {
    "tags": []
   },
   "outputs": [
    {
     "output_type": "stream",
     "name": "stderr",
     "text": "100%|██████████| 100/100 [00:02<00:00, 34.90it/s]\n100%|██████████| 100/100 [00:02<00:00, 35.85it/s]\n100%|██████████| 100/100 [00:04<00:00, 24.86it/s]\n100%|██████████| 100/100 [00:02<00:00, 39.82it/s]\n100%|██████████| 100/100 [00:02<00:00, 40.56it/s]\n100%|██████████| 100/100 [00:02<00:00, 43.29it/s]\n100%|██████████| 100/100 [00:02<00:00, 46.44it/s]\n100%|██████████| 100/100 [00:02<00:00, 42.52it/s]2.66 s ± 587 ms per loop (mean ± std. dev. of 7 runs, 1 loop each)\n\n"
    }
   ],
   "source": [
    "%%timeit\n",
    "t_end = 200\n",
    "t_start=0\n",
    "n_iterations=100\n",
    "\n",
    "fm.reset()  # TODO ditch this\n",
    "\n",
    "for i in tqdm(range(n_iterations)):\n",
    "    fm._timelines[i] = fm.sim_timeline(t_end=t_end, t_start=t_start)"
   ]
  },
  {
   "cell_type": "code",
   "execution_count": 15,
   "metadata": {
    "tags": []
   },
   "outputs": [
    {
     "output_type": "error",
     "ename": "NameError",
     "evalue": "name 'upper' is not defined",
     "traceback": [
      "\u001b[1;31m---------------------------------------------------------------------------\u001b[0m",
      "\u001b[1;31mNameError\u001b[0m                                 Traceback (most recent call last)",
      "\u001b[1;32m<ipython-input-15-aa5aa99b92d7>\u001b[0m in \u001b[0;36m<module>\u001b[1;34m\u001b[0m\n\u001b[1;32m----> 1\u001b[1;33m \u001b[0mpd\u001b[0m\u001b[1;33m.\u001b[0m\u001b[0mDataFrame\u001b[0m\u001b[1;33m(\u001b[0m\u001b[0mupper\u001b[0m\u001b[1;33m)\u001b[0m\u001b[1;33m.\u001b[0m\u001b[0mplot\u001b[0m\u001b[1;33m(\u001b[0m\u001b[1;33m)\u001b[0m\u001b[1;33m\u001b[0m\u001b[1;33m\u001b[0m\u001b[0m\n\u001b[0m\u001b[0;32m      2\u001b[0m \u001b[0mpd\u001b[0m\u001b[1;33m.\u001b[0m\u001b[0mDataFrame\u001b[0m\u001b[1;33m(\u001b[0m\u001b[0mlower\u001b[0m\u001b[1;33m)\u001b[0m\u001b[1;33m.\u001b[0m\u001b[0mplot\u001b[0m\u001b[1;33m(\u001b[0m\u001b[1;33m)\u001b[0m\u001b[1;33m\u001b[0m\u001b[1;33m\u001b[0m\u001b[0m\n",
      "\u001b[1;31mNameError\u001b[0m: name 'upper' is not defined"
     ]
    }
   ],
   "source": [
    "pd.DataFrame(upper).plot()\n",
    "pd.DataFrame(lower).plot()"
   ]
  }
 ],
 "metadata": {
  "language_info": {
   "codemirror_mode": {
    "name": "ipython",
    "version": 3
   },
   "file_extension": ".py",
   "mimetype": "text/x-python",
   "name": "python",
   "nbconvert_exporter": "python",
   "pygments_lexer": "ipython3",
   "version": "3.8.3-final"
  },
  "orig_nbformat": 2,
  "kernelspec": {
   "name": "python_defaultSpec_1599173541751",
   "display_name": "Python 3.8.3 64-bit ('base': conda)"
  }
 },
 "nbformat": 4,
 "nbformat_minor": 2
}