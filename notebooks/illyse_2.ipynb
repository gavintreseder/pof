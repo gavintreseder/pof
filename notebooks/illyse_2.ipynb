{
 "metadata": {
  "language_info": {
   "codemirror_mode": {
    "name": "ipython",
    "version": 3
   },
   "file_extension": ".py",
   "mimetype": "text/x-python",
   "name": "python",
   "nbconvert_exporter": "python",
   "pygments_lexer": "ipython3",
   "version": "3.8.0-final"
  },
  "orig_nbformat": 2,
  "kernelspec": {
   "name": "Python 3.8.0 64-bit ('pof': pipenv)",
   "display_name": "Python 3.8.0 64-bit ('pof': pipenv)",
   "metadata": {
    "interpreter": {
     "hash": "c343031ef40c390ab1a253b5e027e3419a443b65ed4bdc98a49713f2fb548cb0"
    }
   }
  }
 },
 "nbformat": 4,
 "nbformat_minor": 2,
 "cells": [
  {
   "cell_type": "code",
   "execution_count": null,
   "metadata": {},
   "outputs": [],
   "source": [
    "def test_sim_timeline(self):\n",
    "    \"\"\"Check the a scheduled task returns the correct time\"\"\"\n",
    "    # Task params\n",
    "    param_t_delay = [0, 1, 5]\n",
    "    param_t_interval = [1, 3, 5]  # TODO should it work with 0?\n",
    "\n",
    "    # Sim_timeline params\n",
    "    param_inputs = [(0, 100)]\n",
    "\n",
    "    for t_interval in param_t_interval:\n",
    "        for t_delay in param_t_delay:\n",
    "\n",
    "            for t_start, t_end in param_inputs:\n",
    "\n",
    "                # with self.subTest():\n",
    "                # Arrange\n",
    "                task = ScheduledTask(t_delay=t_delay, t_interval=t_interval)\n",
    "\n",
    "                if t_delay == 0:\n",
    "                    delay = []\n",
    "                else:\n",
    "                    delay = np.linspace(t_interval, 0, t_delay + 1)\n",
    "\n",
    "                expected = np.concatenate(\n",
    "                    [\n",
    "                        delay,\n",
    "                        np.tile(\n",
    "                            np.linspace(t_interval, 0, t_interval + 1),\n",
    "                            int((t_end - t_delay) / t_interval) + 1,\n",
    "                        ),\n",
    "                    ]\n",
    "                )\n",
    "\n",
    "                expected = expected[t_start : t_end + 1]\n",
    "\n",
    "                # Act\n",
    "                schedule = sim_timeline(t_start=t_start, t_end=t_end)\n",
    "\n",
    "    return expected, schedule"
   ]
  },
  {
   "cell_type": "code",
   "execution_count": 18,
   "metadata": {},
   "outputs": [],
   "source": [
    "import sys\n",
    "import os\n",
    "sys.path.append(os.path.dirname(os.getcwd()))\n",
    "\n",
    "import numpy as np\n",
    "import math\n",
    "\n",
    "from pof.task import Task, ScheduledTask, ConditionTask, Inspection"
   ]
  },
  {
   "cell_type": "code",
   "execution_count": 72,
   "metadata": {},
   "outputs": [],
   "source": [
    "# inputs\n",
    "t_delay = 0\n",
    "t_interval = 1\n",
    "t_start = 0\n",
    "t_end = 100"
   ]
  },
  {
   "cell_type": "code",
   "execution_count": 73,
   "metadata": {},
   "outputs": [
    {
     "output_type": "execute_result",
     "data": {
      "text/plain": [
       "{'_name': 'scheduled_task',\n",
       " 'task_type': 'Factory method only',\n",
       " 'trigger': 'time',\n",
       " 'active': True,\n",
       " '_package': NotImplemented,\n",
       " '_impacts_parent': NotImplemented,\n",
       " '_impacts_children': False,\n",
       " 'cost': 0,\n",
       " 'labour': NotImplemented,\n",
       " 'spares': NotImplemented,\n",
       " 'equipment': NotImplemented,\n",
       " 'consequence': <pof.consequence.Consequence at 0x268483a3ac0>,\n",
       " 'p_effective': 1,\n",
       " 'triggers': {},\n",
       " 'impacts': {},\n",
       " 'state': NotImplemented,\n",
       " 't_completion': [],\n",
       " 'cost_completion': [],\n",
       " '_timeline': NotImplemented,\n",
       " '_t_interval': 1,\n",
       " '_t_delay': 1}"
      ]
     },
     "metadata": {},
     "execution_count": 73
    }
   ],
   "source": [
    "# with self.subTest():\n",
    "# Arrange\n",
    "task = ScheduledTask(t_delay=t_delay, t_interval=t_interval)\n",
    "task.__dict__"
   ]
  },
  {
   "cell_type": "code",
   "execution_count": 74,
   "metadata": {},
   "outputs": [
    {
     "output_type": "execute_result",
     "data": {
      "text/plain": [
       "array([1., 0.])"
      ]
     },
     "metadata": {},
     "execution_count": 74
    }
   ],
   "source": [
    "if t_delay == 0:\n",
    "    delay = []\n",
    "else:\n",
    "    delay = np.linspace(t_interval, 0, t_delay + 1)\n",
    "\n",
    "delay"
   ]
  },
  {
   "cell_type": "code",
   "execution_count": 75,
   "metadata": {},
   "outputs": [
    {
     "output_type": "execute_result",
     "data": {
      "text/plain": [
       "array([1., 0., 1., 0., 1., 0., 1., 0., 1., 0., 1., 0., 1., 0., 1., 0., 1.,\n",
       "       0., 1., 0., 1., 0., 1., 0., 1., 0., 1., 0., 1., 0., 1., 0., 1., 0.,\n",
       "       1., 0., 1., 0., 1., 0., 1., 0., 1., 0., 1., 0., 1., 0., 1., 0., 1.,\n",
       "       0., 1., 0., 1., 0., 1., 0., 1., 0., 1., 0., 1., 0., 1., 0., 1., 0.,\n",
       "       1., 0., 1., 0., 1., 0., 1., 0., 1., 0., 1., 0., 1., 0., 1., 0., 1.,\n",
       "       0., 1., 0., 1., 0., 1., 0., 1., 0., 1., 0., 1., 0., 1., 0., 1., 0.,\n",
       "       1., 0., 1., 0., 1., 0., 1., 0., 1., 0., 1., 0., 1., 0., 1., 0., 1.,\n",
       "       0., 1., 0., 1., 0., 1., 0., 1., 0., 1., 0., 1., 0., 1., 0., 1., 0.,\n",
       "       1., 0., 1., 0., 1., 0., 1., 0., 1., 0., 1., 0., 1., 0., 1., 0., 1.,\n",
       "       0., 1., 0., 1., 0., 1., 0., 1., 0., 1., 0., 1., 0., 1., 0., 1., 0.,\n",
       "       1., 0., 1., 0., 1., 0., 1., 0., 1., 0., 1., 0., 1., 0., 1., 0., 1.,\n",
       "       0., 1., 0., 1., 0., 1., 0., 1., 0., 1., 0., 1., 0., 1., 0.])"
      ]
     },
     "metadata": {},
     "execution_count": 75
    }
   ],
   "source": [
    "expected = np.concatenate(\n",
    "    [\n",
    "        delay,\n",
    "        np.tile(\n",
    "            np.linspace(t_interval, 0, t_interval + 1),\n",
    "            int((t_end - t_delay) / t_interval) + 1,\n",
    "        ),\n",
    "    ]\n",
    ")\n",
    "expected"
   ]
  },
  {
   "cell_type": "code",
   "execution_count": 76,
   "metadata": {},
   "outputs": [
    {
     "output_type": "execute_result",
     "data": {
      "text/plain": [
       "array([1., 0., 1., 0., 1., 0., 1., 0., 1., 0., 1., 0., 1., 0., 1., 0., 1.,\n",
       "       0., 1., 0., 1., 0., 1., 0., 1., 0., 1., 0., 1., 0., 1., 0., 1., 0.,\n",
       "       1., 0., 1., 0., 1., 0., 1., 0., 1., 0., 1., 0., 1., 0., 1., 0., 1.,\n",
       "       0., 1., 0., 1., 0., 1., 0., 1., 0., 1., 0., 1., 0., 1., 0., 1., 0.,\n",
       "       1., 0., 1., 0., 1., 0., 1., 0., 1., 0., 1., 0., 1., 0., 1., 0., 1.,\n",
       "       0., 1., 0., 1., 0., 1., 0., 1., 0., 1., 0., 1., 0., 1., 0., 1.])"
      ]
     },
     "metadata": {},
     "execution_count": 76
    }
   ],
   "source": [
    "expected = expected[t_start : t_end + 1]\n",
    "expected"
   ]
  },
  {
   "cell_type": "code",
   "execution_count": 15,
   "metadata": {},
   "outputs": [
    {
     "output_type": "execute_result",
     "data": {
      "text/plain": [
       "array([6., 5., 4., 3., 2., 1., 0., 9., 8., 7., 6., 5., 4., 3., 2., 1., 0.,\n",
       "       9., 8., 7., 6., 5., 4., 3., 2., 1., 0., 9., 8., 7., 6., 5., 4., 3.,\n",
       "       2., 1., 0., 9., 8., 7., 6., 5., 4., 3., 2., 1., 0., 9., 8., 7., 6.])"
      ]
     },
     "metadata": {},
     "execution_count": 15
    }
   ],
   "source": [
    "# Act\n",
    "schedule = task.sim_timeline(t_start=t_start, t_end=t_end)\n",
    "schedule"
   ]
  },
  {
   "cell_type": "code",
   "execution_count": 77,
   "metadata": {},
   "outputs": [
    {
     "output_type": "error",
     "ename": "SyntaxError",
     "evalue": "invalid syntax (<ipython-input-77-52372da2de0f>, line 17)",
     "traceback": [
      "\u001b[1;36m  File \u001b[1;32m\"<ipython-input-77-52372da2de0f>\"\u001b[1;36m, line \u001b[1;32m17\u001b[0m\n\u001b[1;33m    else:\u001b[0m\n\u001b[1;37m    ^\u001b[0m\n\u001b[1;31mSyntaxError\u001b[0m\u001b[1;31m:\u001b[0m invalid syntax\n"
     ]
    }
   ],
   "source": [
    "    def sim_timeline(t_end, t_start=0, *args, **kwargs):\n",
    "\n",
    "        #if self.active:\n",
    "\n",
    "        schedule = np.tile(\n",
    "            np.linspace(t_interval, 0, int(t_interval)+1),\n",
    "            math.ceil(max((t_end - t_delay), 0) / t_interval),\n",
    "        )\n",
    "\n",
    "        if t_delay > 0:\n",
    "            t_delay = min(t_delay, t_end)\n",
    "            sched_start = np.linspace(t_interval, 0, t_delay + 1)\n",
    "            schedule = np.concatenate((sched_start, schedule))\n",
    "        \n",
    "        schedule = schedule[t_start : t_end + 1]\n",
    "\n",
    "        else:\n",
    "            schedule = np.full(t_end - t_start + 1, -1)\n",
    "\n",
    "        return schedule"
   ]
  },
  {
   "cell_type": "code",
   "execution_count": 78,
   "metadata": {},
   "outputs": [
    {
     "output_type": "execute_result",
     "data": {
      "text/plain": [
       "array([1., 0., 1., 0., 1., 0., 1., 0., 1., 0., 1., 0., 1., 0., 1., 0., 1.,\n",
       "       0., 1., 0., 1., 0., 1., 0., 1., 0., 1., 0., 1., 0., 1., 0., 1., 0.,\n",
       "       1., 0., 1., 0., 1., 0., 1., 0., 1., 0., 1., 0., 1., 0., 1., 0., 1.,\n",
       "       0., 1., 0., 1., 0., 1., 0., 1., 0., 1., 0., 1., 0., 1., 0., 1., 0.,\n",
       "       1., 0., 1., 0., 1., 0., 1., 0., 1., 0., 1., 0., 1., 0., 1., 0., 1.,\n",
       "       0., 1., 0., 1., 0., 1., 0., 1., 0., 1., 0., 1., 0., 1., 0., 1., 0.,\n",
       "       1., 0., 1., 0., 1., 0., 1., 0., 1., 0., 1., 0., 1., 0., 1., 0., 1.,\n",
       "       0., 1., 0., 1., 0., 1., 0., 1., 0., 1., 0., 1., 0., 1., 0., 1., 0.,\n",
       "       1., 0., 1., 0., 1., 0., 1., 0., 1., 0., 1., 0., 1., 0., 1., 0., 1.,\n",
       "       0., 1., 0., 1., 0., 1., 0., 1., 0., 1., 0., 1., 0., 1., 0., 1., 0.,\n",
       "       1., 0., 1., 0., 1., 0., 1., 0., 1., 0., 1., 0., 1., 0., 1., 0., 1.,\n",
       "       0., 1., 0., 1., 0., 1., 0., 1., 0., 1., 0.])"
      ]
     },
     "metadata": {},
     "execution_count": 78
    }
   ],
   "source": [
    "schedule = np.tile(\n",
    "    np.linspace(t_interval, 0, int(t_interval)+1),\n",
    "    math.ceil(max((t_end - t_delay), 0) / t_interval),\n",
    ")\n",
    "schedule"
   ]
  },
  {
   "cell_type": "code",
   "execution_count": 79,
   "metadata": {},
   "outputs": [
    {
     "output_type": "execute_result",
     "data": {
      "text/plain": [
       "array([1., 0., 1., 0., 1., 0., 1., 0., 1., 0., 1., 0., 1., 0., 1., 0., 1.,\n",
       "       0., 1., 0., 1., 0., 1., 0., 1., 0., 1., 0., 1., 0., 1., 0., 1., 0.,\n",
       "       1., 0., 1., 0., 1., 0., 1., 0., 1., 0., 1., 0., 1., 0., 1., 0., 1.,\n",
       "       0., 1., 0., 1., 0., 1., 0., 1., 0., 1., 0., 1., 0., 1., 0., 1., 0.,\n",
       "       1., 0., 1., 0., 1., 0., 1., 0., 1., 0., 1., 0., 1., 0., 1., 0., 1.,\n",
       "       0., 1., 0., 1., 0., 1., 0., 1., 0., 1., 0., 1., 0., 1., 0., 1., 0.,\n",
       "       1., 0., 1., 0., 1., 0., 1., 0., 1., 0., 1., 0., 1., 0., 1., 0., 1.,\n",
       "       0., 1., 0., 1., 0., 1., 0., 1., 0., 1., 0., 1., 0., 1., 0., 1., 0.,\n",
       "       1., 0., 1., 0., 1., 0., 1., 0., 1., 0., 1., 0., 1., 0., 1., 0., 1.,\n",
       "       0., 1., 0., 1., 0., 1., 0., 1., 0., 1., 0., 1., 0., 1., 0., 1., 0.,\n",
       "       1., 0., 1., 0., 1., 0., 1., 0., 1., 0., 1., 0., 1., 0., 1., 0., 1.,\n",
       "       0., 1., 0., 1., 0., 1., 0., 1., 0., 1., 0., 1., 0.])"
      ]
     },
     "metadata": {},
     "execution_count": 79
    }
   ],
   "source": [
    "if t_delay > 0:\n",
    "    t_delay = min(t_delay, t_end)\n",
    "    sched_start = np.linspace(t_interval, 0, t_delay + 1)\n",
    "    schedule = np.concatenate((sched_start, schedule))\n",
    "schedule"
   ]
  },
  {
   "cell_type": "code",
   "execution_count": 80,
   "metadata": {},
   "outputs": [
    {
     "output_type": "execute_result",
     "data": {
      "text/plain": [
       "array([1., 0., 1., 0., 1., 0., 1., 0., 1., 0., 1., 0., 1., 0., 1., 0., 1.,\n",
       "       0., 1., 0., 1., 0., 1., 0., 1., 0., 1., 0., 1., 0., 1., 0., 1., 0.,\n",
       "       1., 0., 1., 0., 1., 0., 1., 0., 1., 0., 1., 0., 1., 0., 1., 0., 1.,\n",
       "       0., 1., 0., 1., 0., 1., 0., 1., 0., 1., 0., 1., 0., 1., 0., 1., 0.,\n",
       "       1., 0., 1., 0., 1., 0., 1., 0., 1., 0., 1., 0., 1., 0., 1., 0., 1.,\n",
       "       0., 1., 0., 1., 0., 1., 0., 1., 0., 1., 0., 1., 0., 1., 0., 1.])"
      ]
     },
     "metadata": {},
     "execution_count": 80
    }
   ],
   "source": [
    "schedule = schedule[t_start : t_end + 1]\n",
    "schedule"
   ]
  },
  {
   "cell_type": "code",
   "execution_count": 81,
   "metadata": {},
   "outputs": [
    {
     "output_type": "execute_result",
     "data": {
      "text/plain": [
       "array([ True,  True,  True,  True,  True,  True,  True,  True,  True,\n",
       "        True,  True,  True,  True,  True,  True,  True,  True,  True,\n",
       "        True,  True,  True,  True,  True,  True,  True,  True,  True,\n",
       "        True,  True,  True,  True,  True,  True,  True,  True,  True,\n",
       "        True,  True,  True,  True,  True,  True,  True,  True,  True,\n",
       "        True,  True,  True,  True,  True,  True,  True,  True,  True,\n",
       "        True,  True,  True,  True,  True,  True,  True,  True,  True,\n",
       "        True,  True,  True,  True,  True,  True,  True,  True,  True,\n",
       "        True,  True,  True,  True,  True,  True,  True,  True,  True,\n",
       "        True,  True,  True,  True,  True,  True,  True,  True,  True,\n",
       "        True,  True,  True,  True,  True,  True,  True,  True,  True,\n",
       "        True,  True])"
      ]
     },
     "metadata": {},
     "execution_count": 81
    }
   ],
   "source": [
    "schedule == expected"
   ]
  },
  {
   "cell_type": "code",
   "execution_count": null,
   "metadata": {},
   "outputs": [],
   "source": []
  }
 ]
}