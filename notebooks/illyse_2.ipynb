{
 "metadata": {
  "language_info": {
   "codemirror_mode": {
    "name": "ipython",
    "version": 3
   },
   "file_extension": ".py",
   "mimetype": "text/x-python",
   "name": "python",
   "nbconvert_exporter": "python",
   "pygments_lexer": "ipython3",
   "version": "3.8.0-final"
  },
  "orig_nbformat": 2,
  "kernelspec": {
   "name": "python3",
   "display_name": "Python 3"
  }
 },
 "nbformat": 4,
 "nbformat_minor": 2,
 "cells": [
  {
   "cell_type": "code",
   "execution_count": 1,
   "metadata": {},
   "outputs": [],
   "source": [
    " def check_arg_positive(*params):\n",
    "    \"\"\"\n",
    "    Checks the arg value is positive\n",
    "\n",
    "    Usage:\n",
    "    >>> @check_arg_positive('value')\n",
    "    ... def func(value=-10, other=-6):\n",
    "    ...     return value\n",
    "\n",
    "    >>> func(10)\n",
    "    10\n",
    "\n",
    "    >>> func()\n",
    "    Traceback (most recent call last):\n",
    "        ...\n",
    "    ValueError: -10 is not positive\n",
    "\n",
    "    >>> func(-8)\n",
    "    Traceback (most recent call last):\n",
    "        ...\n",
    "    ValueError: -8 is not positive\n",
    "    \"\"\"\n",
    "\n",
    "    def inner(func):\n",
    "        @wraps(func)\n",
    "        def wrapper(*args, **kwargs):\n",
    "            for param in params:\n",
    "\n",
    "                # Get the value using one of 3 methods\n",
    "                # Check kwargs - Is the param in the kwarg\n",
    "                # Check args - is the param in the arg\n",
    "                # Check default - is the param a default value\n",
    "\n",
    "                param_idx = inspect.getfullargspec(func)[0].index(param)\n",
    "                value = args[param_idx]\n",
    "\n",
    "                # Raise an error if it is negative\n",
    "                if value < 0:\n",
    "                    raise ValueError(f\"{value} is not positive\")\n",
    "\n",
    "            func(*args)\n",
    "\n",
    "        return wrapper\n",
    "\n",
    "    return inner\n",
    "\n",
    "\n",
    "# Options\n",
    "# Raise Errors\n",
    "# Log Errors and no change\n",
    "# Log error and use default"
   ]
  },
  {
   "cell_type": "code",
   "execution_count": 2,
   "metadata": {},
   "outputs": [
    {
     "output_type": "error",
     "ename": "SyntaxError",
     "evalue": "invalid syntax (<ipython-input-2-65fb642ac2bd>, line 4)",
     "traceback": [
      "\u001b[1;36m  File \u001b[1;32m\"<ipython-input-2-65fb642ac2bd>\"\u001b[1;36m, line \u001b[1;32m4\u001b[0m\n\u001b[1;33m    def pf_interval(self, value)\u001b[0m\n\u001b[1;37m                                ^\u001b[0m\n\u001b[1;31mSyntaxError\u001b[0m\u001b[1;31m:\u001b[0m invalid syntax\n"
     ]
    }
   ],
   "source": [
    "#inspect.signature\n",
    "# inspect.getfullargspec\n",
    "@check_arg_positive('value') #params\n",
    "def pf_interval(self, value)\n",
    "def pf_interval(self, pf_interval)\n",
    "\n",
    "\n",
    "def pf_interval(value)\n",
    "def pf_interval(self, value)\n",
    "defpf_interval(self, other_dist, value=-10)\n",
    "\n",
    "pf_interval() # Uses the default\n",
    "pf_interval(-10, -10) # args\n",
    "pf_interval(value=-10) # kwarg"
   ]
  },
  {
   "cell_type": "code",
   "execution_count": 236,
   "metadata": {},
   "outputs": [],
   "source": [
    "from functools import wraps\n",
    "import logging\n",
    "logging.getLogger().setLevel(logging.DEBUG)\n",
    "import inspect"
   ]
  },
  {
   "cell_type": "code",
   "execution_count": 403,
   "metadata": {},
   "outputs": [],
   "source": [
    "@check_arg_positive(\"a\", \"b\")\n",
    "def test_func(a = -4, b=-5):\n",
    "    value = a*b\n",
    "    return value"
   ]
  },
  {
   "cell_type": "code",
   "execution_count": 405,
   "metadata": {},
   "outputs": [],
   "source": [
    " def check_arg_positive(*params):\n",
    "    \"\"\"\n",
    "\n",
    "    \"\"\"\n",
    "\n",
    "    def inner(func):\n",
    "        @wraps(func)\n",
    "        def wrapper(*args, **kwargs):\n",
    "            for param in params:\n",
    "                # Get the value using one of 3 methods\n",
    "                    \n",
    "                if param in inspect.getfullargspec(func)[0]:\n",
    "                    # Check kwargs - Is the param in the kwarg\n",
    "                    if param in kwargs:\n",
    "                        value = kwargs[param]\n",
    "                    else:\n",
    "                        param_idx = inspect.getfullargspec(func)[0].index(param)\n",
    "                        # Check args - is the param in the arg\n",
    "                        if param_idx in args:\n",
    "                            value = args[param_idx]\n",
    "                        # Check default - is the param a default value\n",
    "                        else:\n",
    "                            value = inspect.signature(func).parameters[param].default\n",
    "\n",
    "                # Raise an error if it is negative\n",
    "                if value < 0:\n",
    "                    raise ValueError(f\"{value} is not positive\")\n",
    "\n",
    "            return func(*args, **kwargs)\n",
    "\n",
    "        return wrapper\n",
    "\n",
    "    return inner\n"
   ]
  },
  {
   "cell_type": "code",
   "execution_count": 404,
   "metadata": {},
   "outputs": [
    {
     "output_type": "error",
     "ename": "ValueError",
     "evalue": "-5 is not positive",
     "traceback": [
      "\u001b[1;31m---------------------------------------------------------------------------\u001b[0m",
      "\u001b[1;31mValueError\u001b[0m                                Traceback (most recent call last)",
      "\u001b[1;32m<ipython-input-404-1c3e0fad9ade>\u001b[0m in \u001b[0;36m<module>\u001b[1;34m\u001b[0m\n\u001b[1;32m----> 1\u001b[1;33m \u001b[0mtest_func\u001b[0m\u001b[1;33m(\u001b[0m\u001b[0ma\u001b[0m \u001b[1;33m=\u001b[0m \u001b[1;36m10\u001b[0m\u001b[1;33m)\u001b[0m\u001b[1;33m\u001b[0m\u001b[1;33m\u001b[0m\u001b[0m\n\u001b[0m",
      "\u001b[1;32m<ipython-input-402-1c2b89b48f6a>\u001b[0m in \u001b[0;36mwrapper\u001b[1;34m(*args, **kwargs)\u001b[0m\n\u001b[0;32m     25\u001b[0m                \u001b[1;31m# Raise an error if it is negative\u001b[0m\u001b[1;33m\u001b[0m\u001b[1;33m\u001b[0m\u001b[1;33m\u001b[0m\u001b[0m\n\u001b[0;32m     26\u001b[0m                \u001b[1;32mif\u001b[0m \u001b[0mvalue\u001b[0m \u001b[1;33m<\u001b[0m \u001b[1;36m0\u001b[0m\u001b[1;33m:\u001b[0m\u001b[1;33m\u001b[0m\u001b[1;33m\u001b[0m\u001b[0m\n\u001b[1;32m---> 27\u001b[1;33m                    \u001b[1;32mraise\u001b[0m \u001b[0mValueError\u001b[0m\u001b[1;33m(\u001b[0m\u001b[1;34mf\"{value} is not positive\"\u001b[0m\u001b[1;33m)\u001b[0m\u001b[1;33m\u001b[0m\u001b[1;33m\u001b[0m\u001b[0m\n\u001b[0m\u001b[0;32m     28\u001b[0m \u001b[1;33m\u001b[0m\u001b[0m\n\u001b[0;32m     29\u001b[0m            \u001b[1;32mreturn\u001b[0m \u001b[0mfunc\u001b[0m\u001b[1;33m(\u001b[0m\u001b[1;33m*\u001b[0m\u001b[0margs\u001b[0m\u001b[1;33m,\u001b[0m \u001b[1;33m**\u001b[0m\u001b[0mkwargs\u001b[0m\u001b[1;33m)\u001b[0m\u001b[1;33m\u001b[0m\u001b[1;33m\u001b[0m\u001b[0m\n",
      "\u001b[1;31mValueError\u001b[0m: -5 is not positive"
     ]
    }
   ],
   "source": [
    "test_func(a = 10)"
   ]
  },
  {
   "cell_type": "code",
   "execution_count": 302,
   "metadata": {},
   "outputs": [
    {
     "output_type": "execute_result",
     "data": {
      "text/plain": [
       "FullArgSpec(args=['a', 'b', 'c'], varargs='args', varkw='d', defaults=(30,), kwonlyargs=[], kwonlydefaults=None, annotations={'a': <class 'int'>})"
      ]
     },
     "metadata": {},
     "execution_count": 302
    }
   ],
   "source": [
    "inspect.getfullargspec(funky)"
   ]
  },
  {
   "cell_type": "code",
   "execution_count": 214,
   "metadata": {},
   "outputs": [
    {
     "output_type": "execute_result",
     "data": {
      "text/plain": [
       "5"
      ]
     },
     "metadata": {},
     "execution_count": 214
    }
   ],
   "source": [
    "inspect.getfullargspec(test_func)[3][0]"
   ]
  },
  {
   "cell_type": "code",
   "execution_count": 231,
   "metadata": {},
   "outputs": [
    {
     "output_type": "execute_result",
     "data": {
      "text/plain": [
       "int"
      ]
     },
     "metadata": {},
     "execution_count": 231
    }
   ],
   "source": [
    "inspect.signature(funky).parameters[\"a\"].annotation"
   ]
  },
  {
   "cell_type": "code",
   "execution_count": null,
   "metadata": {},
   "outputs": [],
   "source": []
  },
  {
   "cell_type": "code",
   "execution_count": 4,
   "metadata": {},
   "outputs": [
    {
     "output_type": "execute_result",
     "data": {
      "text/plain": [
       "[3]"
      ]
     },
     "metadata": {},
     "execution_count": 4
    }
   ],
   "source": [
    "i = [1,2,3]\n",
    "[item for item in i if item > 2]"
   ]
  },
  {
   "cell_type": "code",
   "execution_count": null,
   "metadata": {},
   "outputs": [],
   "source": []
  }
 ]
}