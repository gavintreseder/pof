{
 "metadata": {
  "language_info": {
   "codemirror_mode": {
    "name": "ipython",
    "version": 3
   },
   "file_extension": ".py",
   "mimetype": "text/x-python",
   "name": "python",
   "nbconvert_exporter": "python",
   "pygments_lexer": "ipython3",
   "version": "3.9.0-final"
  },
  "orig_nbformat": 2,
  "kernelspec": {
   "name": "python3",
   "display_name": "Python 3"
  }
 },
 "nbformat": 4,
 "nbformat_minor": 2,
 "cells": [
  {
   "cell_type": "code",
   "execution_count": 1,
   "metadata": {},
   "outputs": [],
   "source": [
    " def check_arg_positive(*params):\n",
    "    \"\"\"\n",
    "    Checks the arg value is positive\n",
    "\n",
    "    Usage:\n",
    "    >>> @check_arg_positive('value')\n",
    "    ... def func(value=-10, other=-6):\n",
    "    ...     return value\n",
    "\n",
    "    >>> func(10)\n",
    "    10\n",
    "\n",
    "    >>> func()\n",
    "    Traceback (most recent call last):\n",
    "        ...\n",
    "    ValueError: -10 is not positive\n",
    "\n",
    "    >>> func(-8)\n",
    "    Traceback (most recent call last):\n",
    "        ...\n",
    "    ValueError: -8 is not positive\n",
    "    \"\"\"\n",
    "\n",
    "    def inner(func):\n",
    "        @wraps(func)\n",
    "        def wrapper(*args, **kwargs):\n",
    "            for param in params:\n",
    "\n",
    "                # Get the value using one of 3 methods\n",
    "                # Check kwargs - Is the param in the kwarg\n",
    "                # Check args - is the param in the arg\n",
    "                # Check default - is the param a default value\n",
    "\n",
    "                param_idx = inspect.getfullargspec(func)[0].index(param)\n",
    "                value = args[param_idx]\n",
    "\n",
    "                # Raise an error if it is negative\n",
    "                if value < 0:\n",
    "                    raise ValueError(f\"{value} is not positive\")\n",
    "\n",
    "            func(*args)\n",
    "\n",
    "        return wrapper\n",
    "\n",
    "    return inner\n",
    "\n",
    "\n",
    "# Options\n",
    "# Raise Errors\n",
    "# Log Errors and no change\n",
    "# Log error and use default"
   ]
  },
  {
   "cell_type": "code",
   "execution_count": 2,
   "metadata": {},
   "outputs": [
    {
     "output_type": "error",
     "ename": "SyntaxError",
     "evalue": "invalid syntax (<ipython-input-2-65fb642ac2bd>, line 4)",
     "traceback": [
      "\u001b[1;36m  File \u001b[1;32m\"<ipython-input-2-65fb642ac2bd>\"\u001b[1;36m, line \u001b[1;32m4\u001b[0m\n\u001b[1;33m    def pf_interval(self, value)\u001b[0m\n\u001b[1;37m                                ^\u001b[0m\n\u001b[1;31mSyntaxError\u001b[0m\u001b[1;31m:\u001b[0m invalid syntax\n"
     ]
    }
   ],
   "source": [
    "#inspect.signature\n",
    "# inspect.getfullargspec\n",
    "@check_arg_positive('value') #params\n",
    "def pf_interval(self, value)\n",
    "def pf_interval(self, pf_interval)\n",
    "\n",
    "\n",
    "def pf_interval(value)\n",
    "def pf_interval(self, value)\n",
    "defpf_interval(self, other_dist, value=-10)\n",
    "\n",
    "pf_interval() # Uses the default\n",
    "pf_interval(-10, -10) # args\n",
    "pf_interval(value=-10) # kwarg"
   ]
  },
  {
   "cell_type": "code",
   "execution_count": 8,
   "metadata": {},
   "outputs": [],
   "source": [
    "from functools import wraps\n",
    "import logging\n",
    "import inspect"
   ]
  },
  {
   "cell_type": "code",
   "execution_count": 9,
   "metadata": {},
   "outputs": [],
   "source": [
    "def func(value):\n",
    "    \n",
    "    #do somethign wtih value\n",
    "\n",
    "    return value"
   ]
  },
  {
   "cell_type": "code",
   "execution_count": 10,
   "metadata": {},
   "outputs": [],
   "source": [
    "def check_arg_positive(*params):\n",
    "\n",
    "    def wrapper(*args, **kwargs):\n",
    "\n",
    "        for param in params:\n",
    "\n",
    "            # Get the value using one of 3 methods\n",
    "            # Check kwargs - Is the param in the kwarg\n",
    "            # Check args - is the param in the arg\n",
    "            # Check default - is the param a default value\n",
    "\n",
    "            param_idx = inspect.getfullargspec(func)[0].index(param)\n",
    "            value = args[param_idx]\n",
    "\n",
    "            # Raise an error if it is negative\n",
    "            if value < 0:\n",
    "                raise ValueError(f\"{value} is not positive\")\n",
    "\n",
    "        func(*args)\n",
    "\n",
    "    return wrapper"
   ]
  },
  {
   "cell_type": "code",
   "execution_count": 14,
   "metadata": {},
   "outputs": [
    {
     "output_type": "execute_result",
     "data": {
      "text/plain": [
       "['value']"
      ]
     },
     "metadata": {},
     "execution_count": 14
    }
   ],
   "source": [
    "inspect.getfullargspec(func)[0]"
   ]
  },
  {
   "cell_type": "code",
   "execution_count": null,
   "metadata": {},
   "outputs": [],
   "source": []
  }
 ]
}