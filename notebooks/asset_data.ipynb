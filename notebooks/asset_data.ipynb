{
 "metadata": {
  "language_info": {
   "codemirror_mode": {
    "name": "ipython",
    "version": 3
   },
   "file_extension": ".py",
   "mimetype": "text/x-python",
   "name": "python",
   "nbconvert_exporter": "python",
   "pygments_lexer": "ipython3",
   "version": "3.9.0-final"
  },
  "orig_nbformat": 2,
  "kernelspec": {
   "name": "python3",
   "display_name": "Python 3",
   "language": "python"
  }
 },
 "nbformat": 4,
 "nbformat_minor": 2,
 "cells": [
  {
   "cell_type": "code",
   "execution_count": 1,
   "metadata": {},
   "outputs": [],
   "source": [
    "#  Add root folder to python path\n",
    "import sys\n",
    "import os\n",
    "sys.path.append(os.path.dirname(os.getcwd()))\n",
    "\n",
    "import numpy as np \n",
    "import pandas as pd\n",
    "import scipy.stats as ss\n",
    "\n",
    "from pof.data.asset_data import SimpleFleet"
   ]
  },
  {
   "cell_type": "code",
   "execution_count": 2,
   "metadata": {},
   "outputs": [
    {
     "output_type": "execute_result",
     "data": {
      "text/plain": [
       "     age  year   assets\n",
       "0      1  2015  15092.0\n",
       "1      2  2015  13549.0\n",
       "2      3  2015  13101.0\n",
       "3      4  2015  12181.0\n",
       "4      5  2015  10345.0\n",
       "..   ...   ...      ...\n",
       "985   95  2024      0.0\n",
       "986   96  2024      5.0\n",
       "987   97  2024      1.0\n",
       "988   98  2024     15.0\n",
       "989   99  2024     16.0\n",
       "\n",
       "[990 rows x 3 columns]"
      ],
      "text/html": "<div>\n<style scoped>\n    .dataframe tbody tr th:only-of-type {\n        vertical-align: middle;\n    }\n\n    .dataframe tbody tr th {\n        vertical-align: top;\n    }\n\n    .dataframe thead th {\n        text-align: right;\n    }\n</style>\n<table border=\"1\" class=\"dataframe\">\n  <thead>\n    <tr style=\"text-align: right;\">\n      <th></th>\n      <th>age</th>\n      <th>year</th>\n      <th>assets</th>\n    </tr>\n  </thead>\n  <tbody>\n    <tr>\n      <th>0</th>\n      <td>1</td>\n      <td>2015</td>\n      <td>15092.0</td>\n    </tr>\n    <tr>\n      <th>1</th>\n      <td>2</td>\n      <td>2015</td>\n      <td>13549.0</td>\n    </tr>\n    <tr>\n      <th>2</th>\n      <td>3</td>\n      <td>2015</td>\n      <td>13101.0</td>\n    </tr>\n    <tr>\n      <th>3</th>\n      <td>4</td>\n      <td>2015</td>\n      <td>12181.0</td>\n    </tr>\n    <tr>\n      <th>4</th>\n      <td>5</td>\n      <td>2015</td>\n      <td>10345.0</td>\n    </tr>\n    <tr>\n      <th>...</th>\n      <td>...</td>\n      <td>...</td>\n      <td>...</td>\n    </tr>\n    <tr>\n      <th>985</th>\n      <td>95</td>\n      <td>2024</td>\n      <td>0.0</td>\n    </tr>\n    <tr>\n      <th>986</th>\n      <td>96</td>\n      <td>2024</td>\n      <td>5.0</td>\n    </tr>\n    <tr>\n      <th>987</th>\n      <td>97</td>\n      <td>2024</td>\n      <td>1.0</td>\n    </tr>\n    <tr>\n      <th>988</th>\n      <td>98</td>\n      <td>2024</td>\n      <td>15.0</td>\n    </tr>\n    <tr>\n      <th>989</th>\n      <td>99</td>\n      <td>2024</td>\n      <td>16.0</td>\n    </tr>\n  </tbody>\n</table>\n<p>990 rows × 3 columns</p>\n</div>"
     },
     "metadata": {},
     "execution_count": 2
    }
   ],
   "source": [
    "# Forecast years\n",
    "START_YEAR = 2015\n",
    "END_YEAR = 2024\n",
    "CURRENT_YEAR = 2020\n",
    "\n",
    "# Population Data\n",
    "file_path = r\"C:\\Users\\gtreseder\\OneDrive - KPMG\\Documents\\3. Client\\Essential Energy\\Probability of Failure Model\\inputs\" + os.sep\n",
    "FILE_NAME = r\"population_summary.csv\"\n",
    "\n",
    "sfd = SimpleFleet(file_path + FILE_NAME)\n",
    "sfd.load()\n",
    "sfd.calc_forecast_age(START_YEAR, END_YEAR, CURRENT_YEAR)"
   ]
  },
  {
   "source": [
    "## Check if it plays well with component"
   ],
   "cell_type": "markdown",
   "metadata": {}
  },
  {
   "cell_type": "code",
   "execution_count": 3,
   "metadata": {},
   "outputs": [],
   "source": [
    "from pof import Component"
   ]
  },
  {
   "cell_type": "code",
   "execution_count": 4,
   "metadata": {},
   "outputs": [
    {
     "output_type": "stream",
     "name": "stderr",
     "text": [
      "100%|██████████| 100/100 [00:12<00:00,  8.06it/s]\n"
     ]
    }
   ],
   "source": [
    "t_end = 100\n",
    "n_iterations = 100\n",
    "\n",
    "comp = Component.demo()\n",
    "comp.mc_timeline(t_end=t_end, n_iterations=n_iterations)"
   ]
  },
  {
   "cell_type": "code",
   "execution_count": 5,
   "metadata": {},
   "outputs": [
    {
     "output_type": "execute_result",
     "data": {
      "text/plain": [
       "           fm   ie (%)    cf:ff (%)   is  ff cf ff_pop_annual_avg  \\\n",
       "0  early_life       18            :  100   0  0                 0   \n",
       "1      random       18            :   94   6  0            598.29   \n",
       "2  slow_aging     95.4  66.67:33.33   85  10  5            440.07   \n",
       "3  fast_aging     95.4  86.67:13.33   70  26  4           1588.99   \n",
       "4       total  2.94878  82.35:17.65   49  42  9               NaN   \n",
       "\n",
       "  cf_pop_annual_avg   ff_pop   cf_pop      total  \n",
       "0                 0        0        0        NaN  \n",
       "1                 0  70495.7        0        NaN  \n",
       "2            349.13   117493  58746.4        NaN  \n",
       "3            124.78   305482  46997.2        NaN  \n",
       "4               NaN   986940   211487  1174929.0  "
      ],
      "text/html": "<div>\n<style scoped>\n    .dataframe tbody tr th:only-of-type {\n        vertical-align: middle;\n    }\n\n    .dataframe tbody tr th {\n        vertical-align: top;\n    }\n\n    .dataframe thead th {\n        text-align: right;\n    }\n</style>\n<table border=\"1\" class=\"dataframe\">\n  <thead>\n    <tr style=\"text-align: right;\">\n      <th></th>\n      <th>fm</th>\n      <th>ie (%)</th>\n      <th>cf:ff (%)</th>\n      <th>is</th>\n      <th>ff</th>\n      <th>cf</th>\n      <th>ff_pop_annual_avg</th>\n      <th>cf_pop_annual_avg</th>\n      <th>ff_pop</th>\n      <th>cf_pop</th>\n      <th>total</th>\n    </tr>\n  </thead>\n  <tbody>\n    <tr>\n      <th>0</th>\n      <td>early_life</td>\n      <td>18</td>\n      <td>:</td>\n      <td>100</td>\n      <td>0</td>\n      <td>0</td>\n      <td>0</td>\n      <td>0</td>\n      <td>0</td>\n      <td>0</td>\n      <td>NaN</td>\n    </tr>\n    <tr>\n      <th>1</th>\n      <td>random</td>\n      <td>18</td>\n      <td>:</td>\n      <td>94</td>\n      <td>6</td>\n      <td>0</td>\n      <td>598.29</td>\n      <td>0</td>\n      <td>70495.7</td>\n      <td>0</td>\n      <td>NaN</td>\n    </tr>\n    <tr>\n      <th>2</th>\n      <td>slow_aging</td>\n      <td>95.4</td>\n      <td>66.67:33.33</td>\n      <td>85</td>\n      <td>10</td>\n      <td>5</td>\n      <td>440.07</td>\n      <td>349.13</td>\n      <td>117493</td>\n      <td>58746.4</td>\n      <td>NaN</td>\n    </tr>\n    <tr>\n      <th>3</th>\n      <td>fast_aging</td>\n      <td>95.4</td>\n      <td>86.67:13.33</td>\n      <td>70</td>\n      <td>26</td>\n      <td>4</td>\n      <td>1588.99</td>\n      <td>124.78</td>\n      <td>305482</td>\n      <td>46997.2</td>\n      <td>NaN</td>\n    </tr>\n    <tr>\n      <th>4</th>\n      <td>total</td>\n      <td>2.94878</td>\n      <td>82.35:17.65</td>\n      <td>49</td>\n      <td>42</td>\n      <td>9</td>\n      <td>NaN</td>\n      <td>NaN</td>\n      <td>986940</td>\n      <td>211487</td>\n      <td>1174929.0</td>\n    </tr>\n  </tbody>\n</table>\n</div>"
     },
     "metadata": {},
     "execution_count": 5
    }
   ],
   "source": [
    "comp.expected_forecast_table(sfd.df_age)"
   ]
  },
  {
   "cell_type": "code",
   "execution_count": 31,
   "metadata": {},
   "outputs": [],
   "source": [
    "cohort = sfd.df_age\n",
    "\"\"\" Reports a summary for each of the failure modes and the expected outcomes over the MC simulation\"\"\"\n",
    "# Get the key data from each of the failuremodes\n",
    "ff_cf = {}\n",
    "\n",
    "for fm in comp.fm.values():\n",
    "    if fm.active:\n",
    "        insp_effective = fm.inspection_effectiveness()\n",
    "        _ff = fm.expected_ff()\n",
    "        _cf = fm.expected_cf()\n",
    "\n",
    "        ff_cf[fm.name] = {\n",
    "            \"fm\": fm.name,\n",
    "            \"ie\": insp_effective,\n",
    "            \"is\": comp._sim_counter - len(_cf) - len(_ff),\n",
    "            \"ff\": len(_ff),\n",
    "            \"cf\": len(_cf),\n",
    "        }\n",
    "\n",
    "        if cohort is not None:\n",
    "            age, count = np.unique(_cf, return_counts=True)\n",
    "            ff_cf[fm.name]['cf_pop_annual_avg'] = cohort.reindex(age).mul(count, axis=0).sum()[0] / comp._sim_counter\n",
    "            \n",
    "            age, count = np.unique(_ff, return_counts=True)\n",
    "            ff_cf[fm.name]['ff_pop_annual_avg'] = cohort.reindex(age).mul(count, axis=0).sum()[0] / comp._sim_counter\n",
    "\n",
    "df = pd.DataFrame.from_dict(ff_cf).T\n",
    "\n",
    "# Calculate the total row and append to the df\n",
    "total = {\n",
    "    \"fm\": \"total\",\n",
    "    \"ie\": df[\"ie\"].prod(),\n",
    "    \"is\": comp._sim_counter - df[[\"ff\", \"cf\"]].sum().sum(),\n",
    "    \"ff\": df[\"ff\"].sum(),\n",
    "    \"cf\": df[\"cf\"].sum(),\n",
    "}\n",
    "df = df.append(total, ignore_index=True).set_index(\"fm\")\n",
    "\n",
    "# Calculate the ratio of cf to ff\n",
    "mask_failures = (df[\"cf\"] != 0) & (df[\"cf\"] != 0)\n",
    "for var in [\"ff\", \"cf\"]:\n",
    "    df[var + \"%\"] = (\n",
    "        (\n",
    "            df.loc[mask_failures, var]\n",
    "            / (df.loc[mask_failures, \"cf\"] + df.loc[mask_failures, \"ff\"])\n",
    "            * 100\n",
    "        )\n",
    "        .astype(float)\n",
    "        .round(2)\n",
    "    )\n",
    "    df[var + \"%\"].fillna(\"\", inplace=True)\n",
    "\n",
    "df[\"cf:ff (%)\"] = df[\"ff%\"].astype(str) + \":\" + df[\"cf%\"].astype(str)\n",
    "\n",
    "# Add the cohort data if it is supplied\n",
    "if cohort is not None:\n",
    "    sample_size = comp._sim_counter / cohort[\"assets\"].sum()\n",
    "    df[[\"ff_pop\", \"cf_pop\"]] = df[[\"ff\", \"cf\"]] / sample_size\n",
    "\n",
    "    df.loc[\"total\", \"ff_pop\"] = df[\"ff_pop\"].sum()\n",
    "    df.loc[\"total\", \"cf_pop\"] = df[\"cf_pop\"].sum()\n",
    "    df.loc[\"total\", \"cf_pop_annual_avg\"] = df[\"cf_pop_annual_avg\"].sum()\n",
    "    df.loc[\"total\", \"cf_pop_annual_avg\"] = df[\"cf_pop_annual_avg\"].sum()\n",
    "    df.loc[\"total\", \"total\"] = cohort[\"assets\"].sum()\n",
    "\n",
    "# Format for display\n",
    "col_order = [\n",
    "    \"fm\",\n",
    "    \"ie\",\n",
    "    \"cf:ff (%)\",\n",
    "    \"is\",\n",
    "    \"ff\",\n",
    "    \"cf\",\n",
    "    'ff_pop_annual_avg',\n",
    "    'cf_pop_annual_avg',\n",
    "    \"ff_pop\",\n",
    "    \"cf_pop\",\n",
    "    \"total\",\n",
    "]\n",
    "df = df.reset_index().reindex(columns=col_order)\n",
    "\n",
    "df[\"ie\"] = df[\"ie\"].mul(100)\n",
    "df.rename(columns={\"ie\": \"ie (%)\"}, inplace=True)"
   ]
  },
  {
   "cell_type": "code",
   "execution_count": 32,
   "metadata": {},
   "outputs": [
    {
     "output_type": "execute_result",
     "data": {
      "text/plain": [
       "           fm   ie (%)   cf:ff (%)  is  ff cf ff_pop_annual_avg  \\\n",
       "0  early_life       18           :  97   3  0            434.16   \n",
       "1      random       18           :  93   7  0           1041.37   \n",
       "2  slow_aging     95.4  91.67:8.33  88  11  1             34.11   \n",
       "3  fast_aging     95.4    93.1:6.9  71  27  2           2263.15   \n",
       "4       total  2.94878  94.12:5.88  49  48  3               NaN   \n",
       "\n",
       "  cf_pop_annual_avg       ff_pop   cf_pop      total  \n",
       "0                 0      35247.9        0        NaN  \n",
       "1                 0        82245        0        NaN  \n",
       "2            227.83       129242  11749.3        NaN  \n",
       "3            116.99       317231  23498.6        NaN  \n",
       "4            689.64  1.12793e+06  70495.7  1174929.0  "
      ],
      "text/html": "<div>\n<style scoped>\n    .dataframe tbody tr th:only-of-type {\n        vertical-align: middle;\n    }\n\n    .dataframe tbody tr th {\n        vertical-align: top;\n    }\n\n    .dataframe thead th {\n        text-align: right;\n    }\n</style>\n<table border=\"1\" class=\"dataframe\">\n  <thead>\n    <tr style=\"text-align: right;\">\n      <th></th>\n      <th>fm</th>\n      <th>ie (%)</th>\n      <th>cf:ff (%)</th>\n      <th>is</th>\n      <th>ff</th>\n      <th>cf</th>\n      <th>ff_pop_annual_avg</th>\n      <th>cf_pop_annual_avg</th>\n      <th>ff_pop</th>\n      <th>cf_pop</th>\n      <th>total</th>\n    </tr>\n  </thead>\n  <tbody>\n    <tr>\n      <th>0</th>\n      <td>early_life</td>\n      <td>18</td>\n      <td>:</td>\n      <td>97</td>\n      <td>3</td>\n      <td>0</td>\n      <td>434.16</td>\n      <td>0</td>\n      <td>35247.9</td>\n      <td>0</td>\n      <td>NaN</td>\n    </tr>\n    <tr>\n      <th>1</th>\n      <td>random</td>\n      <td>18</td>\n      <td>:</td>\n      <td>93</td>\n      <td>7</td>\n      <td>0</td>\n      <td>1041.37</td>\n      <td>0</td>\n      <td>82245</td>\n      <td>0</td>\n      <td>NaN</td>\n    </tr>\n    <tr>\n      <th>2</th>\n      <td>slow_aging</td>\n      <td>95.4</td>\n      <td>91.67:8.33</td>\n      <td>88</td>\n      <td>11</td>\n      <td>1</td>\n      <td>34.11</td>\n      <td>227.83</td>\n      <td>129242</td>\n      <td>11749.3</td>\n      <td>NaN</td>\n    </tr>\n    <tr>\n      <th>3</th>\n      <td>fast_aging</td>\n      <td>95.4</td>\n      <td>93.1:6.9</td>\n      <td>71</td>\n      <td>27</td>\n      <td>2</td>\n      <td>2263.15</td>\n      <td>116.99</td>\n      <td>317231</td>\n      <td>23498.6</td>\n      <td>NaN</td>\n    </tr>\n    <tr>\n      <th>4</th>\n      <td>total</td>\n      <td>2.94878</td>\n      <td>94.12:5.88</td>\n      <td>49</td>\n      <td>48</td>\n      <td>3</td>\n      <td>NaN</td>\n      <td>689.64</td>\n      <td>1.12793e+06</td>\n      <td>70495.7</td>\n      <td>1174929.0</td>\n    </tr>\n  </tbody>\n</table>\n</div>"
     },
     "metadata": {},
     "execution_count": 32
    }
   ],
   "source": [
    "df"
   ]
  },
  {
   "cell_type": "code",
   "execution_count": 20,
   "metadata": {},
   "outputs": [
    {
     "output_type": "execute_result",
     "data": {
      "text/plain": [
       "assets    226315.0\n",
       "dtype: float64"
      ]
     },
     "metadata": {},
     "execution_count": 20
    }
   ],
   "source": []
  },
  {
   "cell_type": "code",
   "execution_count": null,
   "metadata": {},
   "outputs": [],
   "source": []
  }
 ]
}