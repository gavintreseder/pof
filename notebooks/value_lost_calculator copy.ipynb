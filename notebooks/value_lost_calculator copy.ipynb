{
 "cells": [
  {
   "cell_type": "markdown",
   "metadata": {},
   "source": [
    "# Value Lost\n",
    "\n",
    "A notebook to determine the value lost when applying a maintenance strategy defined in an asset model to the population.\n",
    "\n",
    "Requested: greg.bell@essentialenergy.com.au\n",
    "Author: gavin.treseder@essentialenergy.com.au\n",
    "\n",
    "## Project Setup"
   ]
  },
  {
   "cell_type": "code",
   "execution_count": 1,
   "metadata": {},
   "outputs": [],
   "source": [
    "import copy\n",
    "import sys\n",
    "import os\n",
    "sys.path.append(os.path.dirname(os.getcwd()))\n",
    "\n",
    "from IPython.display import clear_output\n",
    "import numpy as np \n",
    "import pandas as pd\n",
    "import plotly.express as px\n",
    "import plotly.graph_objects as go\n",
    "import scipy.stats as ss\n",
    "\n",
    "from pof.system import System\n",
    "from pof.interface.figures import make_sensitivity_fig, make_value_lost_fig, make_contour_plot\n",
    "from pof.loader.asset_model_loader import AssetModelLoader\n",
    "from pof.paths import Paths\n",
    "from pof.units import scale_units_val\n",
    "\n",
    "%matplotlib inline"
   ]
  },
  {
   "source": [
    "# Load Data\n",
    "## Load the Asset Model\n",
    "The asset model needs to be loaded from the excel file and converted into a component object that execute simulations"
   ],
   "cell_type": "markdown",
   "metadata": {}
  },
  {
   "source": [
    "asset_model_filename = \"Asset Model.xlsx\"\n",
    "\n",
    "paths = Paths()\n",
    "model_path = paths.demo_path + os.sep + asset_model_filename\n",
    "\n",
    "try:\n",
    "    aml = AssetModelLoader()\n",
    "    pof_data = aml.load(model_path)\n",
    "    system = System.from_dict(pof_data['overhead_network'])\n",
    "    comp = system.comp['pole']\n",
    "    print(\"Asset Model loaded\")\n",
    "    pass\n",
    "except:\n",
    "    comp = Component.demo()\n",
    "    print(\"Demo Model loaded\")"
   ],
   "cell_type": "code",
   "metadata": {},
   "execution_count": 2,
   "outputs": [
    {
     "output_type": "stream",
     "name": "stderr",
     "text": [
      "WARNING:root:Invalid Data () - {'task': 'inspection', 'level_of_repair': 'as_bad_as_old', 'admin': 'yes', 'maint': 'no', 'travel': 'yes'}\n",
      "WARNING:root:t_interval will be scaled to the nearest integer during simulations - 4.5\n",
      "WARNING:root:Invalid Data () - {'task': 'repair', 'level_of_repair': 'grp'}\n",
      "WARNING:root:Invalid Data () - {'task': 'replace', 'level_of_repair': 'as_good_as_new'}\n",
      "WARNING:root:Invalid Data () - {'task': 'replace', 'level_of_repair': 'as_good_as_new'}\n",
      "WARNING:root:Invalid Data () - {'task': 'inspection', 'admin': 'yes', 'maint': 'no', 'travel': 'yes'}\n",
      "WARNING:root:t_interval will be scaled to the nearest integer during simulations - 4.5\n",
      "WARNING:root:Invalid Data () - {'task': 'replace', 'level_of_repair': 'as_good_as_new'}\n",
      "WARNING:root:Invalid Data () - {'task': 'replace', 'level_of_repair': 'as_good_as_new'}\n",
      "WARNING:root:Invalid Data () - {'task': 'inspection', 'level_of_repair': 'as_bad_as_old', 'admin': 'yes', 'maint': 'no', 'travel': 'yes'}\n",
      "WARNING:root:t_interval will be scaled to the nearest integer during simulations - 4.5\n",
      "WARNING:root:Invalid Data () - {'task': 'repair', 'level_of_repair': 'as_bad_as_old'}\n",
      "WARNING:root:Invalid Data () - {'task': 'replace', 'level_of_repair': 'as_good_as_new'}\n",
      "WARNING:root:Invalid Data () - {'task': 'replace', 'level_of_repair': 'as_good_as_new'}\n",
      "WARNING:root:Invalid Data () - {'task': 'inspection', 'level_of_repair': 'as_bad_as_old'}\n",
      "WARNING:root:t_interval will be scaled to the nearest integer during simulations - 4.5\n",
      "WARNING:root:Invalid Data () - {'task': 'inspection', 'admin': 'yes', 'maint': 'no', 'travel': 'yes'}\n",
      "WARNING:root:Invalid Data () - {'task': 'replace', 'level_of_repair': 'as_good_as_new'}\n",
      "WARNING:root:Invalid Data () - {'task': 'inspection', 'level_of_repair': 'as_bad_as_old'}\n",
      "WARNING:root:Invalid Data () - {'task': 'replace', 'level_of_repair': 'as_good_as_new'}\n",
      "WARNING:root:Invalid Data () - {'task': 'inspection', 'level_of_repair': 'as_bad_as_old'}\n",
      "WARNING:root:Invalid Data () - {'task': 'replace', 'level_of_repair': 'as_good_as_new'}\n",
      "WARNING:root:Invalid Data () - {'task': 'inspection'}\n",
      "WARNING:root:t_interval will be scaled to the nearest integer during simulations - 4.5\n",
      "WARNING:root:Invalid Data () - {'task': 'replace', 'level_of_repair': 'as_good_as_new'}\n",
      "WARNING:root:Invalid Data () - {'task': 'replace', 'level_of_repair': 'as_good_as_new'}\n",
      "WARNING:root:Invalid Data () - {'task': 'inspection', 'level_of_repair': 'as_bad_as_old', 'admin': 'yes', 'maint': 'no', 'travel': 'yes'}\n",
      "WARNING:root:t_interval will be scaled to the nearest integer during simulations - 4.5\n",
      "WARNING:root:Invalid Data () - {'task': 'replace', 'level_of_repair': 'as_good_as_new'}\n",
      "WARNING:root:Invalid Data () - {'task': 'replace', 'level_of_repair': 'as_good_as_new'}\n",
      "WARNING:root:Invalid Data () - {'task': 'inspection', 'level_of_repair': 'as_bad_as_old', 'admin': 'yes', 'maint': 'no', 'travel': 'yes'}\n",
      "WARNING:root:t_interval will be scaled to the nearest integer during simulations - 4.5\n",
      "WARNING:root:Invalid Data () - {'task': 'replace', 'level_of_repair': 'as_good_as_new'}\n",
      "WARNING:root:Invalid Data () - {'task': 'replace', 'level_of_repair': 'as_good_as_new'}\n",
      "Asset Model loaded\n"
     ]
    }
   ]
  },
  {
   "cell_type": "code",
   "execution_count": 3,
   "metadata": {},
   "outputs": [],
   "source": [
    "def rolling_mean(df, x_var:str, y_var:str, window=5):\n",
    "    \"\"\" Returns a df with a rolling mean\"\"\"\n",
    "    #TODO set this up so it work for\n",
    "    #TODO move this to expected_cost\n",
    "\n",
    "    df_rolling = (\n",
    "        df.copy(deep=True)\n",
    "        .rename(columns={'task':'source'})\n",
    "        .dropna()\n",
    "        .sort_values(by=['source', x_axis, y_var])\n",
    "    )\n",
    "\n",
    "    # Reduce the window size if not enough values are passed\n",
    "    window = max(0,min(len(df_rolling[y_var].unique()) - 1, window))\n",
    "\n",
    "    # Generate a rolling average\n",
    "    df_rolling = df_rolling.groupby(by=['source', y_axis]).rolling(5).mean().drop([y_var], axis=1).reset_index().dropna()\n",
    "\n",
    "    df_rolling['active'] = df_rolling['active'].astype(bool)\n",
    "\n",
    "    return df_rolling\n"
   ]
  },
  {
   "cell_type": "code",
   "execution_count": 4,
   "metadata": {},
   "outputs": [],
   "source": [
    "def calc_value_lost(df, x_var:str, y_var:str, z_var='cost_cumulative'):\n",
    "    \"\"\" Takes a df of risk costs and returns a df with teh value lost\n",
    "    # TODO move this to risk cost\n",
    "    # TODO check y_var and x_var are the right way around\n",
    "    \"\"\"\n",
    "\n",
    "    prefix = [\"quantity\", \"cost\"]\n",
    "    suffix = [\"_cumulative\", '_lifecycle']\n",
    "    cols = [f\"{pre}{suf}\" for pre in prefix for suf in suffix]\n",
    "\n",
    "    # Calculate the total cost for each scenario\n",
    "    df = df_rolling.groupby(by=[x_var, y_var])[cols].sum()\n",
    "\n",
    "    # Calculate the value_lost at each interval\n",
    "    df['value_lost'] = df[z_var] - df.groupby(by=[y_var])[z_var].transform('min') \n",
    "\n",
    "    return df.reset_index()"
   ]
  },
  {
   "source": [
    "## Long run simulation \n",
    "Run a long simulation to repeat the process above for the key outputs without the interim steps"
   ],
   "cell_type": "markdown",
   "metadata": {}
  },
  {
   "cell_type": "code",
   "execution_count": 5,
   "metadata": {},
   "outputs": [],
   "source": [
    "# Set the parameters in the model_units\n",
    "model_units = 'months'\n",
    "t_end = 1200\n",
    "n_iterations = 500\n",
    "sens_vars = {\n",
    "    'pole-consequence-cost': np.concatenate([np.arange(2e4, 1e5,2e4), np.arange(1e5,6e5,1e5)]),\n",
    "    'pole-task_group_name-groundline-t_interval': np.arange(12, 120, 6)\n",
    "}\n",
    "\n",
    "x_axis = 'pole-task_group_name-groundline-t_interval'\n",
    "y_axis = 'pole-consequence-cost'\n",
    "z_axis = 'value_lost'\n",
    "\n",
    "window=5"
   ]
  },
  {
   "cell_type": "code",
   "execution_count": 20,
   "metadata": {},
   "outputs": [
    {
     "output_type": "display_data",
     "data": {
      "text/plain": "HBox(children=(HTML(value='pole-consequence-cost'), FloatProgress(value=0.0, max=9.0), HTML(value='')))",
      "application/vnd.jupyter.widget-view+json": {
       "version_major": 2,
       "version_minor": 0,
       "model_id": "890928ccc38e4c38a71461f8e122422f"
      }
     },
     "metadata": {}
    },
    {
     "output_type": "display_data",
     "data": {
      "text/plain": "HBox(children=(HTML(value='pole-task_group_name-groundline-t_interval'), FloatProgress(value=0.0, max=20.0), H…",
      "application/vnd.jupyter.widget-view+json": {
       "version_major": 2,
       "version_minor": 0,
       "model_id": "b9de3fe1494f42bbadc89ac795c807d6"
      }
     },
     "metadata": {}
    },
    {
     "output_type": "display_data",
     "data": {
      "text/plain": "HBox(children=(HTML(value='Simulation'), FloatProgress(value=0.0), HTML(value='')))",
      "application/vnd.jupyter.widget-view+json": {
       "version_major": 2,
       "version_minor": 0,
       "model_id": "adade61277474e4ba096186bf0ced6d6"
      }
     },
     "metadata": {}
    },
    {
     "output_type": "display_data",
     "data": {
      "text/plain": "HBox(children=(HTML(value='Simulation'), FloatProgress(value=0.0), HTML(value='')))",
      "application/vnd.jupyter.widget-view+json": {
       "version_major": 2,
       "version_minor": 0,
       "model_id": "88c00324f6f845779439942e88b16350"
      }
     },
     "metadata": {}
    },
    {
     "output_type": "display_data",
     "data": {
      "text/plain": "HBox(children=(HTML(value='Simulation'), FloatProgress(value=0.0), HTML(value='')))",
      "application/vnd.jupyter.widget-view+json": {
       "version_major": 2,
       "version_minor": 0,
       "model_id": "f382646097bd4540aba879def5abd306"
      }
     },
     "metadata": {}
    },
    {
     "output_type": "display_data",
     "data": {
      "text/plain": "HBox(children=(HTML(value='Simulation'), FloatProgress(value=0.0), HTML(value='')))",
      "application/vnd.jupyter.widget-view+json": {
       "version_major": 2,
       "version_minor": 0,
       "model_id": "04ae095de2ab468299cd6eb460004c52"
      }
     },
     "metadata": {}
    },
    {
     "output_type": "display_data",
     "data": {
      "text/plain": "HBox(children=(HTML(value='Simulation'), FloatProgress(value=0.0), HTML(value='')))",
      "application/vnd.jupyter.widget-view+json": {
       "version_major": 2,
       "version_minor": 0,
       "model_id": "1485839270ee421d85b1769bb2e46a97"
      }
     },
     "metadata": {}
    },
    {
     "output_type": "display_data",
     "data": {
      "text/plain": "HBox(children=(HTML(value='Simulation'), FloatProgress(value=0.0), HTML(value='')))",
      "application/vnd.jupyter.widget-view+json": {
       "version_major": 2,
       "version_minor": 0,
       "model_id": "8d49c1f4fb5744d08a3f4c022f2e746e"
      }
     },
     "metadata": {}
    },
    {
     "output_type": "display_data",
     "data": {
      "text/plain": "HBox(children=(HTML(value='Simulation'), FloatProgress(value=0.0), HTML(value='')))",
      "application/vnd.jupyter.widget-view+json": {
       "version_major": 2,
       "version_minor": 0,
       "model_id": "9b78cdddc64f41c895e20eceb6c326f2"
      }
     },
     "metadata": {}
    },
    {
     "output_type": "display_data",
     "data": {
      "text/plain": "HBox(children=(HTML(value='Simulation'), FloatProgress(value=0.0), HTML(value='')))",
      "application/vnd.jupyter.widget-view+json": {
       "version_major": 2,
       "version_minor": 0,
       "model_id": "a1e566685b094dc6819808c6e82e1c2d"
      }
     },
     "metadata": {}
    },
    {
     "output_type": "display_data",
     "data": {
      "text/plain": "HBox(children=(HTML(value='Simulation'), FloatProgress(value=0.0), HTML(value='')))",
      "application/vnd.jupyter.widget-view+json": {
       "version_major": 2,
       "version_minor": 0,
       "model_id": "8e22d03f319641bfb9607a9c1ef44dc4"
      }
     },
     "metadata": {}
    },
    {
     "output_type": "display_data",
     "data": {
      "text/plain": "HBox(children=(HTML(value='Simulation'), FloatProgress(value=0.0), HTML(value='')))",
      "application/vnd.jupyter.widget-view+json": {
       "version_major": 2,
       "version_minor": 0,
       "model_id": "b6e3aea9abe74a569559e1e223e802bd"
      }
     },
     "metadata": {}
    },
    {
     "output_type": "display_data",
     "data": {
      "text/plain": "HBox(children=(HTML(value='Simulation'), FloatProgress(value=0.0), HTML(value='')))",
      "application/vnd.jupyter.widget-view+json": {
       "version_major": 2,
       "version_minor": 0,
       "model_id": "022c96c7ed8e4ed8958070d0a166ddb4"
      }
     },
     "metadata": {}
    },
    {
     "output_type": "display_data",
     "data": {
      "text/plain": "HBox(children=(HTML(value='Simulation'), FloatProgress(value=0.0), HTML(value='')))",
      "application/vnd.jupyter.widget-view+json": {
       "version_major": 2,
       "version_minor": 0,
       "model_id": "82cc155b177b490db54362fdd3b87740"
      }
     },
     "metadata": {}
    },
    {
     "output_type": "display_data",
     "data": {
      "text/plain": "HBox(children=(HTML(value='Simulation'), FloatProgress(value=0.0), HTML(value='')))",
      "application/vnd.jupyter.widget-view+json": {
       "version_major": 2,
       "version_minor": 0,
       "model_id": "3425ffbfce8a48eda18d20d85f9f17de"
      }
     },
     "metadata": {}
    },
    {
     "output_type": "display_data",
     "data": {
      "text/plain": "HBox(children=(HTML(value='Simulation'), FloatProgress(value=0.0), HTML(value='')))",
      "application/vnd.jupyter.widget-view+json": {
       "version_major": 2,
       "version_minor": 0,
       "model_id": "fe998f5075a941f7bd548f1db9a0dee3"
      }
     },
     "metadata": {}
    },
    {
     "output_type": "display_data",
     "data": {
      "text/plain": "HBox(children=(HTML(value='Simulation'), FloatProgress(value=0.0), HTML(value='')))",
      "application/vnd.jupyter.widget-view+json": {
       "version_major": 2,
       "version_minor": 0,
       "model_id": "9a038fb0d2c748c784e66ff5bdfd3f74"
      }
     },
     "metadata": {}
    },
    {
     "output_type": "display_data",
     "data": {
      "text/plain": "HBox(children=(HTML(value='Simulation'), FloatProgress(value=0.0), HTML(value='')))",
      "application/vnd.jupyter.widget-view+json": {
       "version_major": 2,
       "version_minor": 0,
       "model_id": "7badb71a2d0b444e9ca970da4f530c5b"
      }
     },
     "metadata": {}
    },
    {
     "output_type": "display_data",
     "data": {
      "text/plain": "HBox(children=(HTML(value='Simulation'), FloatProgress(value=0.0), HTML(value='')))",
      "application/vnd.jupyter.widget-view+json": {
       "version_major": 2,
       "version_minor": 0,
       "model_id": "a99eab0c558e4ccd9cb1bfc5192b4b1a"
      }
     },
     "metadata": {}
    },
    {
     "output_type": "display_data",
     "data": {
      "text/plain": "HBox(children=(HTML(value='Simulation'), FloatProgress(value=0.0), HTML(value='')))",
      "application/vnd.jupyter.widget-view+json": {
       "version_major": 2,
       "version_minor": 0,
       "model_id": "d3bc068352c84a858f8a49d4deb1e474"
      }
     },
     "metadata": {}
    },
    {
     "output_type": "display_data",
     "data": {
      "text/plain": "HBox(children=(HTML(value='Simulation'), FloatProgress(value=0.0), HTML(value='')))",
      "application/vnd.jupyter.widget-view+json": {
       "version_major": 2,
       "version_minor": 0,
       "model_id": "e9210cf4015343d78362422615af4331"
      }
     },
     "metadata": {}
    },
    {
     "output_type": "display_data",
     "data": {
      "text/plain": "HBox(children=(HTML(value='Simulation'), FloatProgress(value=0.0), HTML(value='')))",
      "application/vnd.jupyter.widget-view+json": {
       "version_major": 2,
       "version_minor": 0,
       "model_id": "eef6630b3259410ea8b0bb9bb2bdf61e"
      }
     },
     "metadata": {}
    },
    {
     "output_type": "stream",
     "name": "stdout",
     "text": [
      "\n"
     ]
    },
    {
     "output_type": "display_data",
     "data": {
      "text/plain": "HBox(children=(HTML(value='pole-task_group_name-groundline-t_interval'), FloatProgress(value=0.0, max=20.0), H…",
      "application/vnd.jupyter.widget-view+json": {
       "version_major": 2,
       "version_minor": 0,
       "model_id": "31003296553741379546d5461d1e5a92"
      }
     },
     "metadata": {}
    },
    {
     "output_type": "display_data",
     "data": {
      "text/plain": "HBox(children=(HTML(value='Simulation'), FloatProgress(value=0.0), HTML(value='')))",
      "application/vnd.jupyter.widget-view+json": {
       "version_major": 2,
       "version_minor": 0,
       "model_id": "6b492fea0c5c496aac09ca74e0cc2841"
      }
     },
     "metadata": {}
    },
    {
     "output_type": "display_data",
     "data": {
      "text/plain": "HBox(children=(HTML(value='Simulation'), FloatProgress(value=0.0), HTML(value='')))",
      "application/vnd.jupyter.widget-view+json": {
       "version_major": 2,
       "version_minor": 0,
       "model_id": "2820c5a155eb48dca45e89cba6a13780"
      }
     },
     "metadata": {}
    },
    {
     "output_type": "display_data",
     "data": {
      "text/plain": "HBox(children=(HTML(value='Simulation'), FloatProgress(value=0.0), HTML(value='')))",
      "application/vnd.jupyter.widget-view+json": {
       "version_major": 2,
       "version_minor": 0,
       "model_id": "303957eb34e64841ba70d4a9f877571e"
      }
     },
     "metadata": {}
    },
    {
     "output_type": "display_data",
     "data": {
      "text/plain": "HBox(children=(HTML(value='Simulation'), FloatProgress(value=0.0), HTML(value='')))",
      "application/vnd.jupyter.widget-view+json": {
       "version_major": 2,
       "version_minor": 0,
       "model_id": "a01d8aa0c013440f9595df93e3ebdf2e"
      }
     },
     "metadata": {}
    },
    {
     "output_type": "display_data",
     "data": {
      "text/plain": "HBox(children=(HTML(value='Simulation'), FloatProgress(value=0.0), HTML(value='')))",
      "application/vnd.jupyter.widget-view+json": {
       "version_major": 2,
       "version_minor": 0,
       "model_id": "20edd75eee404274ac87e94337d88eca"
      }
     },
     "metadata": {}
    },
    {
     "output_type": "display_data",
     "data": {
      "text/plain": "HBox(children=(HTML(value='Simulation'), FloatProgress(value=0.0), HTML(value='')))",
      "application/vnd.jupyter.widget-view+json": {
       "version_major": 2,
       "version_minor": 0,
       "model_id": "54062f5850d54b9497ea6732b9b4be4c"
      }
     },
     "metadata": {}
    },
    {
     "output_type": "display_data",
     "data": {
      "text/plain": "HBox(children=(HTML(value='Simulation'), FloatProgress(value=0.0), HTML(value='')))",
      "application/vnd.jupyter.widget-view+json": {
       "version_major": 2,
       "version_minor": 0,
       "model_id": "ec2cab86c0834f81b3ff174835f3f17c"
      }
     },
     "metadata": {}
    },
    {
     "output_type": "display_data",
     "data": {
      "text/plain": "HBox(children=(HTML(value='Simulation'), FloatProgress(value=0.0), HTML(value='')))",
      "application/vnd.jupyter.widget-view+json": {
       "version_major": 2,
       "version_minor": 0,
       "model_id": "a6719f1363f7480bb251b8db2322a9c4"
      }
     },
     "metadata": {}
    },
    {
     "output_type": "display_data",
     "data": {
      "text/plain": "HBox(children=(HTML(value='Simulation'), FloatProgress(value=0.0), HTML(value='')))",
      "application/vnd.jupyter.widget-view+json": {
       "version_major": 2,
       "version_minor": 0,
       "model_id": "0c85712e43e7481180cdb4b86d592603"
      }
     },
     "metadata": {}
    },
    {
     "output_type": "display_data",
     "data": {
      "text/plain": "HBox(children=(HTML(value='Simulation'), FloatProgress(value=0.0), HTML(value='')))",
      "application/vnd.jupyter.widget-view+json": {
       "version_major": 2,
       "version_minor": 0,
       "model_id": "34e74ffedcd04274912aacb4554d71dd"
      }
     },
     "metadata": {}
    },
    {
     "output_type": "display_data",
     "data": {
      "text/plain": "HBox(children=(HTML(value='Simulation'), FloatProgress(value=0.0), HTML(value='')))",
      "application/vnd.jupyter.widget-view+json": {
       "version_major": 2,
       "version_minor": 0,
       "model_id": "fe04311c2dda406aa9e1dccb16ba699f"
      }
     },
     "metadata": {}
    },
    {
     "output_type": "display_data",
     "data": {
      "text/plain": "HBox(children=(HTML(value='Simulation'), FloatProgress(value=0.0), HTML(value='')))",
      "application/vnd.jupyter.widget-view+json": {
       "version_major": 2,
       "version_minor": 0,
       "model_id": "c5068ff042f84529bf6659ef22e4caf2"
      }
     },
     "metadata": {}
    },
    {
     "output_type": "display_data",
     "data": {
      "text/plain": "HBox(children=(HTML(value='Simulation'), FloatProgress(value=0.0), HTML(value='')))",
      "application/vnd.jupyter.widget-view+json": {
       "version_major": 2,
       "version_minor": 0,
       "model_id": "178704046a6a4afc9809830f37c001b4"
      }
     },
     "metadata": {}
    },
    {
     "output_type": "display_data",
     "data": {
      "text/plain": "HBox(children=(HTML(value='Simulation'), FloatProgress(value=0.0), HTML(value='')))",
      "application/vnd.jupyter.widget-view+json": {
       "version_major": 2,
       "version_minor": 0,
       "model_id": "2e3bb47cae4545e6803e5c68a3178b86"
      }
     },
     "metadata": {}
    },
    {
     "output_type": "display_data",
     "data": {
      "text/plain": "HBox(children=(HTML(value='Simulation'), FloatProgress(value=0.0), HTML(value='')))",
      "application/vnd.jupyter.widget-view+json": {
       "version_major": 2,
       "version_minor": 0,
       "model_id": "f16ef7f0fda1424d8514fb348ca0ded8"
      }
     },
     "metadata": {}
    },
    {
     "output_type": "display_data",
     "data": {
      "text/plain": "HBox(children=(HTML(value='Simulation'), FloatProgress(value=0.0), HTML(value='')))",
      "application/vnd.jupyter.widget-view+json": {
       "version_major": 2,
       "version_minor": 0,
       "model_id": "54bd653c7421465c9445b6b4e8f2c909"
      }
     },
     "metadata": {}
    },
    {
     "output_type": "display_data",
     "data": {
      "text/plain": "HBox(children=(HTML(value='Simulation'), FloatProgress(value=0.0), HTML(value='')))",
      "application/vnd.jupyter.widget-view+json": {
       "version_major": 2,
       "version_minor": 0,
       "model_id": "65553313cb7c4b109878c3dc5e148840"
      }
     },
     "metadata": {}
    },
    {
     "output_type": "display_data",
     "data": {
      "text/plain": "HBox(children=(HTML(value='Simulation'), FloatProgress(value=0.0), HTML(value='')))",
      "application/vnd.jupyter.widget-view+json": {
       "version_major": 2,
       "version_minor": 0,
       "model_id": "df9685bcfd5241b98c46d2c267dc5b28"
      }
     },
     "metadata": {}
    },
    {
     "output_type": "display_data",
     "data": {
      "text/plain": "HBox(children=(HTML(value='Simulation'), FloatProgress(value=0.0), HTML(value='')))",
      "application/vnd.jupyter.widget-view+json": {
       "version_major": 2,
       "version_minor": 0,
       "model_id": "179b5c6a63d84ab2bd40a518496d60bc"
      }
     },
     "metadata": {}
    },
    {
     "output_type": "display_data",
     "data": {
      "text/plain": "HBox(children=(HTML(value='Simulation'), FloatProgress(value=0.0), HTML(value='')))",
      "application/vnd.jupyter.widget-view+json": {
       "version_major": 2,
       "version_minor": 0,
       "model_id": "58e85d46f3d249dd9265ae0c87b847d0"
      }
     },
     "metadata": {}
    },
    {
     "output_type": "stream",
     "name": "stdout",
     "text": [
      "\n"
     ]
    },
    {
     "output_type": "display_data",
     "data": {
      "text/plain": "HBox(children=(HTML(value='pole-task_group_name-groundline-t_interval'), FloatProgress(value=0.0, max=20.0), H…",
      "application/vnd.jupyter.widget-view+json": {
       "version_major": 2,
       "version_minor": 0,
       "model_id": "657a157ecba041e5b08f0ea30823c290"
      }
     },
     "metadata": {}
    },
    {
     "output_type": "display_data",
     "data": {
      "text/plain": "HBox(children=(HTML(value='Simulation'), FloatProgress(value=0.0), HTML(value='')))",
      "application/vnd.jupyter.widget-view+json": {
       "version_major": 2,
       "version_minor": 0,
       "model_id": "306638efdd3e4d33be8cdf3a2970d094"
      }
     },
     "metadata": {}
    },
    {
     "output_type": "display_data",
     "data": {
      "text/plain": "HBox(children=(HTML(value='Simulation'), FloatProgress(value=0.0), HTML(value='')))",
      "application/vnd.jupyter.widget-view+json": {
       "version_major": 2,
       "version_minor": 0,
       "model_id": "f172b3cbd89d429b8a04b60f098be9a2"
      }
     },
     "metadata": {}
    },
    {
     "output_type": "display_data",
     "data": {
      "text/plain": "HBox(children=(HTML(value='Simulation'), FloatProgress(value=0.0), HTML(value='')))",
      "application/vnd.jupyter.widget-view+json": {
       "version_major": 2,
       "version_minor": 0,
       "model_id": "200ae2d19e4048a3a48269b2b879931c"
      }
     },
     "metadata": {}
    },
    {
     "output_type": "display_data",
     "data": {
      "text/plain": "HBox(children=(HTML(value='Simulation'), FloatProgress(value=0.0), HTML(value='')))",
      "application/vnd.jupyter.widget-view+json": {
       "version_major": 2,
       "version_minor": 0,
       "model_id": "ef9c5c40c42a44cfbd4b2af8c15be060"
      }
     },
     "metadata": {}
    },
    {
     "output_type": "display_data",
     "data": {
      "text/plain": "HBox(children=(HTML(value='Simulation'), FloatProgress(value=0.0), HTML(value='')))",
      "application/vnd.jupyter.widget-view+json": {
       "version_major": 2,
       "version_minor": 0,
       "model_id": "fcc38979db454145a2d8e5a77be54716"
      }
     },
     "metadata": {}
    },
    {
     "output_type": "display_data",
     "data": {
      "text/plain": "HBox(children=(HTML(value='Simulation'), FloatProgress(value=0.0), HTML(value='')))",
      "application/vnd.jupyter.widget-view+json": {
       "version_major": 2,
       "version_minor": 0,
       "model_id": "3ac1b461ced948be9d35c30e843a5217"
      }
     },
     "metadata": {}
    },
    {
     "output_type": "display_data",
     "data": {
      "text/plain": "HBox(children=(HTML(value='Simulation'), FloatProgress(value=0.0), HTML(value='')))",
      "application/vnd.jupyter.widget-view+json": {
       "version_major": 2,
       "version_minor": 0,
       "model_id": "cc8a05d6a79a4a86a7169d8a7a64e1f1"
      }
     },
     "metadata": {}
    },
    {
     "output_type": "display_data",
     "data": {
      "text/plain": "HBox(children=(HTML(value='Simulation'), FloatProgress(value=0.0), HTML(value='')))",
      "application/vnd.jupyter.widget-view+json": {
       "version_major": 2,
       "version_minor": 0,
       "model_id": "8c26418d47cc45efa22f061745810bb1"
      }
     },
     "metadata": {}
    },
    {
     "output_type": "display_data",
     "data": {
      "text/plain": "HBox(children=(HTML(value='Simulation'), FloatProgress(value=0.0), HTML(value='')))",
      "application/vnd.jupyter.widget-view+json": {
       "version_major": 2,
       "version_minor": 0,
       "model_id": "c53613039a534413ad601ac4a30fd0b6"
      }
     },
     "metadata": {}
    },
    {
     "output_type": "display_data",
     "data": {
      "text/plain": "HBox(children=(HTML(value='Simulation'), FloatProgress(value=0.0), HTML(value='')))",
      "application/vnd.jupyter.widget-view+json": {
       "version_major": 2,
       "version_minor": 0,
       "model_id": "855689afe398467e833b38f73d8bac3a"
      }
     },
     "metadata": {}
    },
    {
     "output_type": "display_data",
     "data": {
      "text/plain": "HBox(children=(HTML(value='Simulation'), FloatProgress(value=0.0), HTML(value='')))",
      "application/vnd.jupyter.widget-view+json": {
       "version_major": 2,
       "version_minor": 0,
       "model_id": "5473872ca40b4238b7e2565f368dcf23"
      }
     },
     "metadata": {}
    },
    {
     "output_type": "display_data",
     "data": {
      "text/plain": "HBox(children=(HTML(value='Simulation'), FloatProgress(value=0.0), HTML(value='')))",
      "application/vnd.jupyter.widget-view+json": {
       "version_major": 2,
       "version_minor": 0,
       "model_id": "fd0247175b034aac9dda358254fbb397"
      }
     },
     "metadata": {}
    },
    {
     "output_type": "display_data",
     "data": {
      "text/plain": "HBox(children=(HTML(value='Simulation'), FloatProgress(value=0.0), HTML(value='')))",
      "application/vnd.jupyter.widget-view+json": {
       "version_major": 2,
       "version_minor": 0,
       "model_id": "d3c55e1778b549619fa629c08a29cb48"
      }
     },
     "metadata": {}
    },
    {
     "output_type": "display_data",
     "data": {
      "text/plain": "HBox(children=(HTML(value='Simulation'), FloatProgress(value=0.0), HTML(value='')))",
      "application/vnd.jupyter.widget-view+json": {
       "version_major": 2,
       "version_minor": 0,
       "model_id": "a3e7c3e7bd0943729f2f33cc60a86d23"
      }
     },
     "metadata": {}
    },
    {
     "output_type": "display_data",
     "data": {
      "text/plain": "HBox(children=(HTML(value='Simulation'), FloatProgress(value=0.0), HTML(value='')))",
      "application/vnd.jupyter.widget-view+json": {
       "version_major": 2,
       "version_minor": 0,
       "model_id": "df4024cefbf94f1d82d7fa875534eeca"
      }
     },
     "metadata": {}
    },
    {
     "output_type": "display_data",
     "data": {
      "text/plain": "HBox(children=(HTML(value='Simulation'), FloatProgress(value=0.0), HTML(value='')))",
      "application/vnd.jupyter.widget-view+json": {
       "version_major": 2,
       "version_minor": 0,
       "model_id": "1a564cf190aa4e9eb73f1d36696f53bf"
      }
     },
     "metadata": {}
    },
    {
     "output_type": "display_data",
     "data": {
      "text/plain": "HBox(children=(HTML(value='Simulation'), FloatProgress(value=0.0), HTML(value='')))",
      "application/vnd.jupyter.widget-view+json": {
       "version_major": 2,
       "version_minor": 0,
       "model_id": "8255ce41b87b4e7a9fbcfa5db911b241"
      }
     },
     "metadata": {}
    },
    {
     "output_type": "display_data",
     "data": {
      "text/plain": "HBox(children=(HTML(value='Simulation'), FloatProgress(value=0.0), HTML(value='')))",
      "application/vnd.jupyter.widget-view+json": {
       "version_major": 2,
       "version_minor": 0,
       "model_id": "f1ee3a6f6e644b97b9c67a7d86cd9123"
      }
     },
     "metadata": {}
    },
    {
     "output_type": "display_data",
     "data": {
      "text/plain": "HBox(children=(HTML(value='Simulation'), FloatProgress(value=0.0), HTML(value='')))",
      "application/vnd.jupyter.widget-view+json": {
       "version_major": 2,
       "version_minor": 0,
       "model_id": "861a707f09bd411bbc870633be4d08d8"
      }
     },
     "metadata": {}
    },
    {
     "output_type": "display_data",
     "data": {
      "text/plain": "HBox(children=(HTML(value='Simulation'), FloatProgress(value=0.0), HTML(value='')))",
      "application/vnd.jupyter.widget-view+json": {
       "version_major": 2,
       "version_minor": 0,
       "model_id": "6546ff7e91244488a8d658d971362cfa"
      }
     },
     "metadata": {}
    },
    {
     "output_type": "stream",
     "name": "stdout",
     "text": [
      "\n"
     ]
    },
    {
     "output_type": "display_data",
     "data": {
      "text/plain": "HBox(children=(HTML(value='pole-task_group_name-groundline-t_interval'), FloatProgress(value=0.0, max=20.0), H…",
      "application/vnd.jupyter.widget-view+json": {
       "version_major": 2,
       "version_minor": 0,
       "model_id": "0dbc8dfca34a4a03b065b4f86b0ab5b2"
      }
     },
     "metadata": {}
    },
    {
     "output_type": "display_data",
     "data": {
      "text/plain": "HBox(children=(HTML(value='Simulation'), FloatProgress(value=0.0), HTML(value='')))",
      "application/vnd.jupyter.widget-view+json": {
       "version_major": 2,
       "version_minor": 0,
       "model_id": "2959658d32c0432c86a16db6eb0e8884"
      }
     },
     "metadata": {}
    },
    {
     "output_type": "display_data",
     "data": {
      "text/plain": "HBox(children=(HTML(value='Simulation'), FloatProgress(value=0.0), HTML(value='')))",
      "application/vnd.jupyter.widget-view+json": {
       "version_major": 2,
       "version_minor": 0,
       "model_id": "440da141d6274b6287de57620e7f2e5c"
      }
     },
     "metadata": {}
    },
    {
     "output_type": "display_data",
     "data": {
      "text/plain": "HBox(children=(HTML(value='Simulation'), FloatProgress(value=0.0), HTML(value='')))",
      "application/vnd.jupyter.widget-view+json": {
       "version_major": 2,
       "version_minor": 0,
       "model_id": "9fd10ea6a4dd4b939e7a9f64deb308f4"
      }
     },
     "metadata": {}
    },
    {
     "output_type": "display_data",
     "data": {
      "text/plain": "HBox(children=(HTML(value='Simulation'), FloatProgress(value=0.0), HTML(value='')))",
      "application/vnd.jupyter.widget-view+json": {
       "version_major": 2,
       "version_minor": 0,
       "model_id": "bb56f7e5f1c8466c91162f8de971ea0d"
      }
     },
     "metadata": {}
    },
    {
     "output_type": "display_data",
     "data": {
      "text/plain": "HBox(children=(HTML(value='Simulation'), FloatProgress(value=0.0), HTML(value='')))",
      "application/vnd.jupyter.widget-view+json": {
       "version_major": 2,
       "version_minor": 0,
       "model_id": "49741ebe51364f86a7b2f50fcbcb3984"
      }
     },
     "metadata": {}
    },
    {
     "output_type": "display_data",
     "data": {
      "text/plain": "HBox(children=(HTML(value='Simulation'), FloatProgress(value=0.0), HTML(value='')))",
      "application/vnd.jupyter.widget-view+json": {
       "version_major": 2,
       "version_minor": 0,
       "model_id": "df8d0bb3626f4175afe6940f28aa7bc8"
      }
     },
     "metadata": {}
    },
    {
     "output_type": "display_data",
     "data": {
      "text/plain": "HBox(children=(HTML(value='Simulation'), FloatProgress(value=0.0), HTML(value='')))",
      "application/vnd.jupyter.widget-view+json": {
       "version_major": 2,
       "version_minor": 0,
       "model_id": "c228bec9860d44f487cafdec5820ad9a"
      }
     },
     "metadata": {}
    },
    {
     "output_type": "display_data",
     "data": {
      "text/plain": "HBox(children=(HTML(value='Simulation'), FloatProgress(value=0.0), HTML(value='')))",
      "application/vnd.jupyter.widget-view+json": {
       "version_major": 2,
       "version_minor": 0,
       "model_id": "844779b8d2b7418bb79213f2aaed3996"
      }
     },
     "metadata": {}
    },
    {
     "output_type": "display_data",
     "data": {
      "text/plain": "HBox(children=(HTML(value='Simulation'), FloatProgress(value=0.0), HTML(value='')))",
      "application/vnd.jupyter.widget-view+json": {
       "version_major": 2,
       "version_minor": 0,
       "model_id": "f396ea274a684ec2b1b56cdb4cb43712"
      }
     },
     "metadata": {}
    },
    {
     "output_type": "display_data",
     "data": {
      "text/plain": "HBox(children=(HTML(value='Simulation'), FloatProgress(value=0.0), HTML(value='')))",
      "application/vnd.jupyter.widget-view+json": {
       "version_major": 2,
       "version_minor": 0,
       "model_id": "fe9671225d2741cf875dc2ae5fd85a40"
      }
     },
     "metadata": {}
    },
    {
     "output_type": "display_data",
     "data": {
      "text/plain": "HBox(children=(HTML(value='Simulation'), FloatProgress(value=0.0), HTML(value='')))",
      "application/vnd.jupyter.widget-view+json": {
       "version_major": 2,
       "version_minor": 0,
       "model_id": "81b80dca14be4fbc86af2e26fd9dbb89"
      }
     },
     "metadata": {}
    },
    {
     "output_type": "display_data",
     "data": {
      "text/plain": "HBox(children=(HTML(value='Simulation'), FloatProgress(value=0.0), HTML(value='')))",
      "application/vnd.jupyter.widget-view+json": {
       "version_major": 2,
       "version_minor": 0,
       "model_id": "bbbef24d24c04804bc93ee1edc2dd59d"
      }
     },
     "metadata": {}
    },
    {
     "output_type": "display_data",
     "data": {
      "text/plain": "HBox(children=(HTML(value='Simulation'), FloatProgress(value=0.0), HTML(value='')))",
      "application/vnd.jupyter.widget-view+json": {
       "version_major": 2,
       "version_minor": 0,
       "model_id": "c7b573322be84376b391d57dae884c3a"
      }
     },
     "metadata": {}
    },
    {
     "output_type": "display_data",
     "data": {
      "text/plain": "HBox(children=(HTML(value='Simulation'), FloatProgress(value=0.0), HTML(value='')))",
      "application/vnd.jupyter.widget-view+json": {
       "version_major": 2,
       "version_minor": 0,
       "model_id": "43d6c8c868cc4e3c8240dd625cf5d62f"
      }
     },
     "metadata": {}
    },
    {
     "output_type": "display_data",
     "data": {
      "text/plain": "HBox(children=(HTML(value='Simulation'), FloatProgress(value=0.0), HTML(value='')))",
      "application/vnd.jupyter.widget-view+json": {
       "version_major": 2,
       "version_minor": 0,
       "model_id": "5d6e046bdaff45e4b045cedeea51fbe8"
      }
     },
     "metadata": {}
    },
    {
     "output_type": "display_data",
     "data": {
      "text/plain": "HBox(children=(HTML(value='Simulation'), FloatProgress(value=0.0), HTML(value='')))",
      "application/vnd.jupyter.widget-view+json": {
       "version_major": 2,
       "version_minor": 0,
       "model_id": "d6dde2fef9e54edbbc1a46c1d1bf1ac9"
      }
     },
     "metadata": {}
    },
    {
     "output_type": "display_data",
     "data": {
      "text/plain": "HBox(children=(HTML(value='Simulation'), FloatProgress(value=0.0), HTML(value='')))",
      "application/vnd.jupyter.widget-view+json": {
       "version_major": 2,
       "version_minor": 0,
       "model_id": "0bab816c674440b5adc4ba378a224524"
      }
     },
     "metadata": {}
    },
    {
     "output_type": "display_data",
     "data": {
      "text/plain": "HBox(children=(HTML(value='Simulation'), FloatProgress(value=0.0), HTML(value='')))",
      "application/vnd.jupyter.widget-view+json": {
       "version_major": 2,
       "version_minor": 0,
       "model_id": "2b7f3ac7c26d4b9792ad131a616c8d8f"
      }
     },
     "metadata": {}
    },
    {
     "output_type": "display_data",
     "data": {
      "text/plain": "HBox(children=(HTML(value='Simulation'), FloatProgress(value=0.0), HTML(value='')))",
      "application/vnd.jupyter.widget-view+json": {
       "version_major": 2,
       "version_minor": 0,
       "model_id": "66cf0b8d1c624216b5044c1868e4e6e5"
      }
     },
     "metadata": {}
    },
    {
     "output_type": "display_data",
     "data": {
      "text/plain": "HBox(children=(HTML(value='Simulation'), FloatProgress(value=0.0), HTML(value='')))",
      "application/vnd.jupyter.widget-view+json": {
       "version_major": 2,
       "version_minor": 0,
       "model_id": "0cb1fdf338894c75833d33a9962ea4c7"
      }
     },
     "metadata": {}
    },
    {
     "output_type": "stream",
     "name": "stdout",
     "text": [
      "\n"
     ]
    },
    {
     "output_type": "display_data",
     "data": {
      "text/plain": "HBox(children=(HTML(value='pole-task_group_name-groundline-t_interval'), FloatProgress(value=0.0, max=20.0), H…",
      "application/vnd.jupyter.widget-view+json": {
       "version_major": 2,
       "version_minor": 0,
       "model_id": "5e994b4845334e1f8b4459db781322d6"
      }
     },
     "metadata": {}
    },
    {
     "output_type": "display_data",
     "data": {
      "text/plain": "HBox(children=(HTML(value='Simulation'), FloatProgress(value=0.0), HTML(value='')))",
      "application/vnd.jupyter.widget-view+json": {
       "version_major": 2,
       "version_minor": 0,
       "model_id": "0b7140a5f4184afebfaf8f06a060b12e"
      }
     },
     "metadata": {}
    },
    {
     "output_type": "display_data",
     "data": {
      "text/plain": "HBox(children=(HTML(value='Simulation'), FloatProgress(value=0.0), HTML(value='')))",
      "application/vnd.jupyter.widget-view+json": {
       "version_major": 2,
       "version_minor": 0,
       "model_id": "39965f4b9150487dbf5589245d17edc5"
      }
     },
     "metadata": {}
    },
    {
     "output_type": "display_data",
     "data": {
      "text/plain": "HBox(children=(HTML(value='Simulation'), FloatProgress(value=0.0), HTML(value='')))",
      "application/vnd.jupyter.widget-view+json": {
       "version_major": 2,
       "version_minor": 0,
       "model_id": "d0fb40739f1e416eb7dce976bc8b8070"
      }
     },
     "metadata": {}
    },
    {
     "output_type": "display_data",
     "data": {
      "text/plain": "HBox(children=(HTML(value='Simulation'), FloatProgress(value=0.0), HTML(value='')))",
      "application/vnd.jupyter.widget-view+json": {
       "version_major": 2,
       "version_minor": 0,
       "model_id": "e737c53b695748b9bf45a22488ff20b2"
      }
     },
     "metadata": {}
    },
    {
     "output_type": "display_data",
     "data": {
      "text/plain": "HBox(children=(HTML(value='Simulation'), FloatProgress(value=0.0), HTML(value='')))",
      "application/vnd.jupyter.widget-view+json": {
       "version_major": 2,
       "version_minor": 0,
       "model_id": "6dd85c93df40422983750499c527c468"
      }
     },
     "metadata": {}
    },
    {
     "output_type": "display_data",
     "data": {
      "text/plain": "HBox(children=(HTML(value='Simulation'), FloatProgress(value=0.0), HTML(value='')))",
      "application/vnd.jupyter.widget-view+json": {
       "version_major": 2,
       "version_minor": 0,
       "model_id": "55fa5c3522ae45fba6bfe65122d1f877"
      }
     },
     "metadata": {}
    },
    {
     "output_type": "display_data",
     "data": {
      "text/plain": "HBox(children=(HTML(value='Simulation'), FloatProgress(value=0.0), HTML(value='')))",
      "application/vnd.jupyter.widget-view+json": {
       "version_major": 2,
       "version_minor": 0,
       "model_id": "66a406be61d34c9780bd3919968a306e"
      }
     },
     "metadata": {}
    },
    {
     "output_type": "display_data",
     "data": {
      "text/plain": "HBox(children=(HTML(value='Simulation'), FloatProgress(value=0.0), HTML(value='')))",
      "application/vnd.jupyter.widget-view+json": {
       "version_major": 2,
       "version_minor": 0,
       "model_id": "6bb01a55a5494af9a2d8345f7f9d344a"
      }
     },
     "metadata": {}
    },
    {
     "output_type": "display_data",
     "data": {
      "text/plain": "HBox(children=(HTML(value='Simulation'), FloatProgress(value=0.0), HTML(value='')))",
      "application/vnd.jupyter.widget-view+json": {
       "version_major": 2,
       "version_minor": 0,
       "model_id": "3ac5d568c67a44989a9eff50857d8bd8"
      }
     },
     "metadata": {}
    },
    {
     "output_type": "display_data",
     "data": {
      "text/plain": "HBox(children=(HTML(value='Simulation'), FloatProgress(value=0.0), HTML(value='')))",
      "application/vnd.jupyter.widget-view+json": {
       "version_major": 2,
       "version_minor": 0,
       "model_id": "37726d62a0554f69b3421cb0ac1ab091"
      }
     },
     "metadata": {}
    },
    {
     "output_type": "display_data",
     "data": {
      "text/plain": "HBox(children=(HTML(value='Simulation'), FloatProgress(value=0.0), HTML(value='')))",
      "application/vnd.jupyter.widget-view+json": {
       "version_major": 2,
       "version_minor": 0,
       "model_id": "0467cbaab64c4c8f88305d03b982e84b"
      }
     },
     "metadata": {}
    },
    {
     "output_type": "display_data",
     "data": {
      "text/plain": "HBox(children=(HTML(value='Simulation'), FloatProgress(value=0.0), HTML(value='')))",
      "application/vnd.jupyter.widget-view+json": {
       "version_major": 2,
       "version_minor": 0,
       "model_id": "dcb6774ff3bf4205bd109ae7e7a465b4"
      }
     },
     "metadata": {}
    },
    {
     "output_type": "display_data",
     "data": {
      "text/plain": "HBox(children=(HTML(value='Simulation'), FloatProgress(value=0.0), HTML(value='')))",
      "application/vnd.jupyter.widget-view+json": {
       "version_major": 2,
       "version_minor": 0,
       "model_id": "2881822b617b4380b7b48b807403db80"
      }
     },
     "metadata": {}
    },
    {
     "output_type": "display_data",
     "data": {
      "text/plain": "HBox(children=(HTML(value='Simulation'), FloatProgress(value=0.0), HTML(value='')))",
      "application/vnd.jupyter.widget-view+json": {
       "version_major": 2,
       "version_minor": 0,
       "model_id": "30580acd53eb4873a898fc9bbda45660"
      }
     },
     "metadata": {}
    },
    {
     "output_type": "display_data",
     "data": {
      "text/plain": "HBox(children=(HTML(value='Simulation'), FloatProgress(value=0.0), HTML(value='')))",
      "application/vnd.jupyter.widget-view+json": {
       "version_major": 2,
       "version_minor": 0,
       "model_id": "3c021c8749ec4419888b8882b3b8c16b"
      }
     },
     "metadata": {}
    },
    {
     "output_type": "display_data",
     "data": {
      "text/plain": "HBox(children=(HTML(value='Simulation'), FloatProgress(value=0.0), HTML(value='')))",
      "application/vnd.jupyter.widget-view+json": {
       "version_major": 2,
       "version_minor": 0,
       "model_id": "97fb480d7b2241adbff2b020f52ccd90"
      }
     },
     "metadata": {}
    },
    {
     "output_type": "display_data",
     "data": {
      "text/plain": "HBox(children=(HTML(value='Simulation'), FloatProgress(value=0.0), HTML(value='')))",
      "application/vnd.jupyter.widget-view+json": {
       "version_major": 2,
       "version_minor": 0,
       "model_id": "f1c31e0cb17d466882481fc78b347fba"
      }
     },
     "metadata": {}
    },
    {
     "output_type": "display_data",
     "data": {
      "text/plain": "HBox(children=(HTML(value='Simulation'), FloatProgress(value=0.0), HTML(value='')))",
      "application/vnd.jupyter.widget-view+json": {
       "version_major": 2,
       "version_minor": 0,
       "model_id": "a05a3586af04442e9fef534504722db3"
      }
     },
     "metadata": {}
    },
    {
     "output_type": "display_data",
     "data": {
      "text/plain": "HBox(children=(HTML(value='Simulation'), FloatProgress(value=0.0), HTML(value='')))",
      "application/vnd.jupyter.widget-view+json": {
       "version_major": 2,
       "version_minor": 0,
       "model_id": "933cfaae79e34f13b0bebbe829d1dac8"
      }
     },
     "metadata": {}
    },
    {
     "output_type": "display_data",
     "data": {
      "text/plain": "HBox(children=(HTML(value='Simulation'), FloatProgress(value=0.0), HTML(value='')))",
      "application/vnd.jupyter.widget-view+json": {
       "version_major": 2,
       "version_minor": 0,
       "model_id": "f11bd4a0281446cd8938ae6a95e1677c"
      }
     },
     "metadata": {}
    },
    {
     "output_type": "stream",
     "name": "stdout",
     "text": [
      "\n"
     ]
    },
    {
     "output_type": "display_data",
     "data": {
      "text/plain": "HBox(children=(HTML(value='pole-task_group_name-groundline-t_interval'), FloatProgress(value=0.0, max=20.0), H…",
      "application/vnd.jupyter.widget-view+json": {
       "version_major": 2,
       "version_minor": 0,
       "model_id": "60338dd9f4cd4c3faa4546421ebf2916"
      }
     },
     "metadata": {}
    },
    {
     "output_type": "display_data",
     "data": {
      "text/plain": "HBox(children=(HTML(value='Simulation'), FloatProgress(value=0.0), HTML(value='')))",
      "application/vnd.jupyter.widget-view+json": {
       "version_major": 2,
       "version_minor": 0,
       "model_id": "0f7497702ea648b3a3ea1942781336c6"
      }
     },
     "metadata": {}
    },
    {
     "output_type": "display_data",
     "data": {
      "text/plain": "HBox(children=(HTML(value='Simulation'), FloatProgress(value=0.0), HTML(value='')))",
      "application/vnd.jupyter.widget-view+json": {
       "version_major": 2,
       "version_minor": 0,
       "model_id": "50e2a191238a4219aa5340070ef85cb7"
      }
     },
     "metadata": {}
    },
    {
     "output_type": "display_data",
     "data": {
      "text/plain": "HBox(children=(HTML(value='Simulation'), FloatProgress(value=0.0), HTML(value='')))",
      "application/vnd.jupyter.widget-view+json": {
       "version_major": 2,
       "version_minor": 0,
       "model_id": "d4cb3a3c2b2b46c1b0fbbdb2871f6e45"
      }
     },
     "metadata": {}
    },
    {
     "output_type": "display_data",
     "data": {
      "text/plain": "HBox(children=(HTML(value='Simulation'), FloatProgress(value=0.0), HTML(value='')))",
      "application/vnd.jupyter.widget-view+json": {
       "version_major": 2,
       "version_minor": 0,
       "model_id": "4cdf0e50ae5f4e9da911056965c20e6b"
      }
     },
     "metadata": {}
    },
    {
     "output_type": "display_data",
     "data": {
      "text/plain": "HBox(children=(HTML(value='Simulation'), FloatProgress(value=0.0), HTML(value='')))",
      "application/vnd.jupyter.widget-view+json": {
       "version_major": 2,
       "version_minor": 0,
       "model_id": "2351d94e31404d69b54c019a334d684f"
      }
     },
     "metadata": {}
    },
    {
     "output_type": "display_data",
     "data": {
      "text/plain": "HBox(children=(HTML(value='Simulation'), FloatProgress(value=0.0), HTML(value='')))",
      "application/vnd.jupyter.widget-view+json": {
       "version_major": 2,
       "version_minor": 0,
       "model_id": "32c9d2c9514d4942bd746c34fe416cde"
      }
     },
     "metadata": {}
    },
    {
     "output_type": "display_data",
     "data": {
      "text/plain": "HBox(children=(HTML(value='Simulation'), FloatProgress(value=0.0), HTML(value='')))",
      "application/vnd.jupyter.widget-view+json": {
       "version_major": 2,
       "version_minor": 0,
       "model_id": "963138184ea94368977765b7bfb7a487"
      }
     },
     "metadata": {}
    },
    {
     "output_type": "display_data",
     "data": {
      "text/plain": "HBox(children=(HTML(value='Simulation'), FloatProgress(value=0.0), HTML(value='')))",
      "application/vnd.jupyter.widget-view+json": {
       "version_major": 2,
       "version_minor": 0,
       "model_id": "e8bccfca6e1f4cdd9531282199a9d2f4"
      }
     },
     "metadata": {}
    },
    {
     "output_type": "display_data",
     "data": {
      "text/plain": "HBox(children=(HTML(value='Simulation'), FloatProgress(value=0.0), HTML(value='')))",
      "application/vnd.jupyter.widget-view+json": {
       "version_major": 2,
       "version_minor": 0,
       "model_id": "ee6414e039734f9caff7df00c70b23fe"
      }
     },
     "metadata": {}
    },
    {
     "output_type": "display_data",
     "data": {
      "text/plain": "HBox(children=(HTML(value='Simulation'), FloatProgress(value=0.0), HTML(value='')))",
      "application/vnd.jupyter.widget-view+json": {
       "version_major": 2,
       "version_minor": 0,
       "model_id": "f5be0b9e117c4dac84a612151455ed1c"
      }
     },
     "metadata": {}
    },
    {
     "output_type": "display_data",
     "data": {
      "text/plain": "HBox(children=(HTML(value='Simulation'), FloatProgress(value=0.0), HTML(value='')))",
      "application/vnd.jupyter.widget-view+json": {
       "version_major": 2,
       "version_minor": 0,
       "model_id": "99b728d491024fe6a4c0676cde9a5dcb"
      }
     },
     "metadata": {}
    },
    {
     "output_type": "display_data",
     "data": {
      "text/plain": "HBox(children=(HTML(value='Simulation'), FloatProgress(value=0.0), HTML(value='')))",
      "application/vnd.jupyter.widget-view+json": {
       "version_major": 2,
       "version_minor": 0,
       "model_id": "1d56174459624cffba8f17617c722abe"
      }
     },
     "metadata": {}
    },
    {
     "output_type": "display_data",
     "data": {
      "text/plain": "HBox(children=(HTML(value='Simulation'), FloatProgress(value=0.0), HTML(value='')))",
      "application/vnd.jupyter.widget-view+json": {
       "version_major": 2,
       "version_minor": 0,
       "model_id": "b57154e08e7d40e09405505f47b627e4"
      }
     },
     "metadata": {}
    },
    {
     "output_type": "display_data",
     "data": {
      "text/plain": "HBox(children=(HTML(value='Simulation'), FloatProgress(value=0.0), HTML(value='')))",
      "application/vnd.jupyter.widget-view+json": {
       "version_major": 2,
       "version_minor": 0,
       "model_id": "2f25d3e0237042289f0e207c5c65381d"
      }
     },
     "metadata": {}
    },
    {
     "output_type": "display_data",
     "data": {
      "text/plain": "HBox(children=(HTML(value='Simulation'), FloatProgress(value=0.0), HTML(value='')))",
      "application/vnd.jupyter.widget-view+json": {
       "version_major": 2,
       "version_minor": 0,
       "model_id": "1470fa85af284e909b367249ff2b653f"
      }
     },
     "metadata": {}
    },
    {
     "output_type": "display_data",
     "data": {
      "text/plain": "HBox(children=(HTML(value='Simulation'), FloatProgress(value=0.0), HTML(value='')))",
      "application/vnd.jupyter.widget-view+json": {
       "version_major": 2,
       "version_minor": 0,
       "model_id": "3d0103ba56ef405c9007fba4c66cdc17"
      }
     },
     "metadata": {}
    },
    {
     "output_type": "display_data",
     "data": {
      "text/plain": "HBox(children=(HTML(value='Simulation'), FloatProgress(value=0.0), HTML(value='')))",
      "application/vnd.jupyter.widget-view+json": {
       "version_major": 2,
       "version_minor": 0,
       "model_id": "30385c6e695d46b091793c427325ef4f"
      }
     },
     "metadata": {}
    },
    {
     "output_type": "display_data",
     "data": {
      "text/plain": "HBox(children=(HTML(value='Simulation'), FloatProgress(value=0.0), HTML(value='')))",
      "application/vnd.jupyter.widget-view+json": {
       "version_major": 2,
       "version_minor": 0,
       "model_id": "cab1c6807e114fa78d0f4118f30a1a37"
      }
     },
     "metadata": {}
    },
    {
     "output_type": "display_data",
     "data": {
      "text/plain": "HBox(children=(HTML(value='Simulation'), FloatProgress(value=0.0), HTML(value='')))",
      "application/vnd.jupyter.widget-view+json": {
       "version_major": 2,
       "version_minor": 0,
       "model_id": "8938a93b377f4a1bb2e9f4bfabbbbbc7"
      }
     },
     "metadata": {}
    },
    {
     "output_type": "display_data",
     "data": {
      "text/plain": "HBox(children=(HTML(value='Simulation'), FloatProgress(value=0.0), HTML(value='')))",
      "application/vnd.jupyter.widget-view+json": {
       "version_major": 2,
       "version_minor": 0,
       "model_id": "1162522b45af41f6b9bf5d3ee163c726"
      }
     },
     "metadata": {}
    },
    {
     "output_type": "stream",
     "name": "stdout",
     "text": [
      "\n"
     ]
    },
    {
     "output_type": "display_data",
     "data": {
      "text/plain": "HBox(children=(HTML(value='pole-task_group_name-groundline-t_interval'), FloatProgress(value=0.0, max=20.0), H…",
      "application/vnd.jupyter.widget-view+json": {
       "version_major": 2,
       "version_minor": 0,
       "model_id": "5910df27865849e3b6ef0de96c2bd430"
      }
     },
     "metadata": {}
    },
    {
     "output_type": "display_data",
     "data": {
      "text/plain": "HBox(children=(HTML(value='Simulation'), FloatProgress(value=0.0), HTML(value='')))",
      "application/vnd.jupyter.widget-view+json": {
       "version_major": 2,
       "version_minor": 0,
       "model_id": "486f66200ca741579b2f8795971e9f96"
      }
     },
     "metadata": {}
    },
    {
     "output_type": "display_data",
     "data": {
      "text/plain": "HBox(children=(HTML(value='Simulation'), FloatProgress(value=0.0), HTML(value='')))",
      "application/vnd.jupyter.widget-view+json": {
       "version_major": 2,
       "version_minor": 0,
       "model_id": "f58ecfe8975a4ff593098316d24710aa"
      }
     },
     "metadata": {}
    },
    {
     "output_type": "display_data",
     "data": {
      "text/plain": "HBox(children=(HTML(value='Simulation'), FloatProgress(value=0.0), HTML(value='')))",
      "application/vnd.jupyter.widget-view+json": {
       "version_major": 2,
       "version_minor": 0,
       "model_id": "d99fec8ec9524341b5b0ecfdb6f32867"
      }
     },
     "metadata": {}
    },
    {
     "output_type": "display_data",
     "data": {
      "text/plain": "HBox(children=(HTML(value='Simulation'), FloatProgress(value=0.0), HTML(value='')))",
      "application/vnd.jupyter.widget-view+json": {
       "version_major": 2,
       "version_minor": 0,
       "model_id": "8efed1e521054c529eb1f4d868fec224"
      }
     },
     "metadata": {}
    },
    {
     "output_type": "display_data",
     "data": {
      "text/plain": "HBox(children=(HTML(value='Simulation'), FloatProgress(value=0.0), HTML(value='')))",
      "application/vnd.jupyter.widget-view+json": {
       "version_major": 2,
       "version_minor": 0,
       "model_id": "ca7cc7245786439a9802bc76eacd910b"
      }
     },
     "metadata": {}
    },
    {
     "output_type": "display_data",
     "data": {
      "text/plain": "HBox(children=(HTML(value='Simulation'), FloatProgress(value=0.0), HTML(value='')))",
      "application/vnd.jupyter.widget-view+json": {
       "version_major": 2,
       "version_minor": 0,
       "model_id": "d6d9aa76c69e4260a14e881ce40714fe"
      }
     },
     "metadata": {}
    },
    {
     "output_type": "display_data",
     "data": {
      "text/plain": "HBox(children=(HTML(value='Simulation'), FloatProgress(value=0.0), HTML(value='')))",
      "application/vnd.jupyter.widget-view+json": {
       "version_major": 2,
       "version_minor": 0,
       "model_id": "22ad388ca36f4c2aa21247d4694eff6d"
      }
     },
     "metadata": {}
    },
    {
     "output_type": "display_data",
     "data": {
      "text/plain": "HBox(children=(HTML(value='Simulation'), FloatProgress(value=0.0), HTML(value='')))",
      "application/vnd.jupyter.widget-view+json": {
       "version_major": 2,
       "version_minor": 0,
       "model_id": "5710890621e54fe9b48ba412936fd60d"
      }
     },
     "metadata": {}
    },
    {
     "output_type": "display_data",
     "data": {
      "text/plain": "HBox(children=(HTML(value='Simulation'), FloatProgress(value=0.0), HTML(value='')))",
      "application/vnd.jupyter.widget-view+json": {
       "version_major": 2,
       "version_minor": 0,
       "model_id": "6c3acfd1df594cf2a1640792bfe17a9a"
      }
     },
     "metadata": {}
    },
    {
     "output_type": "display_data",
     "data": {
      "text/plain": "HBox(children=(HTML(value='Simulation'), FloatProgress(value=0.0), HTML(value='')))",
      "application/vnd.jupyter.widget-view+json": {
       "version_major": 2,
       "version_minor": 0,
       "model_id": "03fa030eefe649189e4f162dd62660da"
      }
     },
     "metadata": {}
    },
    {
     "output_type": "display_data",
     "data": {
      "text/plain": "HBox(children=(HTML(value='Simulation'), FloatProgress(value=0.0), HTML(value='')))",
      "application/vnd.jupyter.widget-view+json": {
       "version_major": 2,
       "version_minor": 0,
       "model_id": "fa4c056a548a4d308473c5a4c67bdfea"
      }
     },
     "metadata": {}
    },
    {
     "output_type": "display_data",
     "data": {
      "text/plain": "HBox(children=(HTML(value='Simulation'), FloatProgress(value=0.0), HTML(value='')))",
      "application/vnd.jupyter.widget-view+json": {
       "version_major": 2,
       "version_minor": 0,
       "model_id": "3acbce5792754ed3aabd97970dbdf417"
      }
     },
     "metadata": {}
    },
    {
     "output_type": "display_data",
     "data": {
      "text/plain": "HBox(children=(HTML(value='Simulation'), FloatProgress(value=0.0), HTML(value='')))",
      "application/vnd.jupyter.widget-view+json": {
       "version_major": 2,
       "version_minor": 0,
       "model_id": "74c2daffe0864822bf70e3b93739ef18"
      }
     },
     "metadata": {}
    },
    {
     "output_type": "display_data",
     "data": {
      "text/plain": "HBox(children=(HTML(value='Simulation'), FloatProgress(value=0.0), HTML(value='')))",
      "application/vnd.jupyter.widget-view+json": {
       "version_major": 2,
       "version_minor": 0,
       "model_id": "3b19b05c84874f4a92611cdb0d4fa7f0"
      }
     },
     "metadata": {}
    },
    {
     "output_type": "display_data",
     "data": {
      "text/plain": "HBox(children=(HTML(value='Simulation'), FloatProgress(value=0.0), HTML(value='')))",
      "application/vnd.jupyter.widget-view+json": {
       "version_major": 2,
       "version_minor": 0,
       "model_id": "6176a8ea7b724fe889fa837b445d20a8"
      }
     },
     "metadata": {}
    },
    {
     "output_type": "display_data",
     "data": {
      "text/plain": "HBox(children=(HTML(value='Simulation'), FloatProgress(value=0.0), HTML(value='')))",
      "application/vnd.jupyter.widget-view+json": {
       "version_major": 2,
       "version_minor": 0,
       "model_id": "96779d0688c543688a42ab51a033c4da"
      }
     },
     "metadata": {}
    },
    {
     "output_type": "display_data",
     "data": {
      "text/plain": "HBox(children=(HTML(value='Simulation'), FloatProgress(value=0.0), HTML(value='')))",
      "application/vnd.jupyter.widget-view+json": {
       "version_major": 2,
       "version_minor": 0,
       "model_id": "9fecb1b19b374048900ce4f978c70c15"
      }
     },
     "metadata": {}
    },
    {
     "output_type": "display_data",
     "data": {
      "text/plain": "HBox(children=(HTML(value='Simulation'), FloatProgress(value=0.0), HTML(value='')))",
      "application/vnd.jupyter.widget-view+json": {
       "version_major": 2,
       "version_minor": 0,
       "model_id": "d86432902c284c91ac5a1f6599e9730b"
      }
     },
     "metadata": {}
    },
    {
     "output_type": "display_data",
     "data": {
      "text/plain": "HBox(children=(HTML(value='Simulation'), FloatProgress(value=0.0), HTML(value='')))",
      "application/vnd.jupyter.widget-view+json": {
       "version_major": 2,
       "version_minor": 0,
       "model_id": "7f9b0ee913464191b4f115e98511b4c6"
      }
     },
     "metadata": {}
    },
    {
     "output_type": "display_data",
     "data": {
      "text/plain": "HBox(children=(HTML(value='Simulation'), FloatProgress(value=0.0), HTML(value='')))",
      "application/vnd.jupyter.widget-view+json": {
       "version_major": 2,
       "version_minor": 0,
       "model_id": "1a614f3e37234020a027c5442f2eb2e9"
      }
     },
     "metadata": {}
    },
    {
     "output_type": "stream",
     "name": "stdout",
     "text": [
      "\n"
     ]
    },
    {
     "output_type": "display_data",
     "data": {
      "text/plain": "HBox(children=(HTML(value='pole-task_group_name-groundline-t_interval'), FloatProgress(value=0.0, max=20.0), H…",
      "application/vnd.jupyter.widget-view+json": {
       "version_major": 2,
       "version_minor": 0,
       "model_id": "6baebf22693d48c4962ab6fcb8611595"
      }
     },
     "metadata": {}
    },
    {
     "output_type": "display_data",
     "data": {
      "text/plain": "HBox(children=(HTML(value='Simulation'), FloatProgress(value=0.0), HTML(value='')))",
      "application/vnd.jupyter.widget-view+json": {
       "version_major": 2,
       "version_minor": 0,
       "model_id": "481ca6a14e6845a9ba04d53b0c9da5d9"
      }
     },
     "metadata": {}
    },
    {
     "output_type": "display_data",
     "data": {
      "text/plain": "HBox(children=(HTML(value='Simulation'), FloatProgress(value=0.0), HTML(value='')))",
      "application/vnd.jupyter.widget-view+json": {
       "version_major": 2,
       "version_minor": 0,
       "model_id": "defc2565a10a4a43911d9d414f7c92b6"
      }
     },
     "metadata": {}
    },
    {
     "output_type": "display_data",
     "data": {
      "text/plain": "HBox(children=(HTML(value='Simulation'), FloatProgress(value=0.0), HTML(value='')))",
      "application/vnd.jupyter.widget-view+json": {
       "version_major": 2,
       "version_minor": 0,
       "model_id": "647b6dc40e0f48ac8c87bf28f88ad8a3"
      }
     },
     "metadata": {}
    },
    {
     "output_type": "display_data",
     "data": {
      "text/plain": "HBox(children=(HTML(value='Simulation'), FloatProgress(value=0.0), HTML(value='')))",
      "application/vnd.jupyter.widget-view+json": {
       "version_major": 2,
       "version_minor": 0,
       "model_id": "38bb9424a95b4c2cbfd1148abdf6c2d5"
      }
     },
     "metadata": {}
    },
    {
     "output_type": "display_data",
     "data": {
      "text/plain": "HBox(children=(HTML(value='Simulation'), FloatProgress(value=0.0), HTML(value='')))",
      "application/vnd.jupyter.widget-view+json": {
       "version_major": 2,
       "version_minor": 0,
       "model_id": "8bb32c70994f4ca8bf12545c87d571f3"
      }
     },
     "metadata": {}
    },
    {
     "output_type": "display_data",
     "data": {
      "text/plain": "HBox(children=(HTML(value='Simulation'), FloatProgress(value=0.0), HTML(value='')))",
      "application/vnd.jupyter.widget-view+json": {
       "version_major": 2,
       "version_minor": 0,
       "model_id": "9a46d23b395344109e53d72fe08e57ff"
      }
     },
     "metadata": {}
    },
    {
     "output_type": "display_data",
     "data": {
      "text/plain": "HBox(children=(HTML(value='Simulation'), FloatProgress(value=0.0), HTML(value='')))",
      "application/vnd.jupyter.widget-view+json": {
       "version_major": 2,
       "version_minor": 0,
       "model_id": "e938025a494c4805874bd464b4d4ae7c"
      }
     },
     "metadata": {}
    },
    {
     "output_type": "display_data",
     "data": {
      "text/plain": "HBox(children=(HTML(value='Simulation'), FloatProgress(value=0.0), HTML(value='')))",
      "application/vnd.jupyter.widget-view+json": {
       "version_major": 2,
       "version_minor": 0,
       "model_id": "20a986094c334f30bc84ec298047bee7"
      }
     },
     "metadata": {}
    },
    {
     "output_type": "display_data",
     "data": {
      "text/plain": "HBox(children=(HTML(value='Simulation'), FloatProgress(value=0.0), HTML(value='')))",
      "application/vnd.jupyter.widget-view+json": {
       "version_major": 2,
       "version_minor": 0,
       "model_id": "2b27a002e38f47eb8457cd7b673ad87d"
      }
     },
     "metadata": {}
    },
    {
     "output_type": "display_data",
     "data": {
      "text/plain": "HBox(children=(HTML(value='Simulation'), FloatProgress(value=0.0), HTML(value='')))",
      "application/vnd.jupyter.widget-view+json": {
       "version_major": 2,
       "version_minor": 0,
       "model_id": "63b3245e36b34accac1fba5d009c07a6"
      }
     },
     "metadata": {}
    },
    {
     "output_type": "display_data",
     "data": {
      "text/plain": "HBox(children=(HTML(value='Simulation'), FloatProgress(value=0.0), HTML(value='')))",
      "application/vnd.jupyter.widget-view+json": {
       "version_major": 2,
       "version_minor": 0,
       "model_id": "8fe6c89e68b3470aabd7327c9dc34ef9"
      }
     },
     "metadata": {}
    },
    {
     "output_type": "display_data",
     "data": {
      "text/plain": "HBox(children=(HTML(value='Simulation'), FloatProgress(value=0.0), HTML(value='')))",
      "application/vnd.jupyter.widget-view+json": {
       "version_major": 2,
       "version_minor": 0,
       "model_id": "1f4980eabc73429cbe79978587681a53"
      }
     },
     "metadata": {}
    },
    {
     "output_type": "display_data",
     "data": {
      "text/plain": "HBox(children=(HTML(value='Simulation'), FloatProgress(value=0.0), HTML(value='')))",
      "application/vnd.jupyter.widget-view+json": {
       "version_major": 2,
       "version_minor": 0,
       "model_id": "de95d2bba3af46029bf4e8ce6d7f3088"
      }
     },
     "metadata": {}
    },
    {
     "output_type": "display_data",
     "data": {
      "text/plain": "HBox(children=(HTML(value='Simulation'), FloatProgress(value=0.0), HTML(value='')))",
      "application/vnd.jupyter.widget-view+json": {
       "version_major": 2,
       "version_minor": 0,
       "model_id": "34ba30ef9d6745789c2ef4c98933a640"
      }
     },
     "metadata": {}
    },
    {
     "output_type": "display_data",
     "data": {
      "text/plain": "HBox(children=(HTML(value='Simulation'), FloatProgress(value=0.0), HTML(value='')))",
      "application/vnd.jupyter.widget-view+json": {
       "version_major": 2,
       "version_minor": 0,
       "model_id": "411f3eeb872a48c1a9a43654412aabfb"
      }
     },
     "metadata": {}
    },
    {
     "output_type": "display_data",
     "data": {
      "text/plain": "HBox(children=(HTML(value='Simulation'), FloatProgress(value=0.0), HTML(value='')))",
      "application/vnd.jupyter.widget-view+json": {
       "version_major": 2,
       "version_minor": 0,
       "model_id": "3268e948730f4ca9a2d17de70dd9aec8"
      }
     },
     "metadata": {}
    },
    {
     "output_type": "display_data",
     "data": {
      "text/plain": "HBox(children=(HTML(value='Simulation'), FloatProgress(value=0.0), HTML(value='')))",
      "application/vnd.jupyter.widget-view+json": {
       "version_major": 2,
       "version_minor": 0,
       "model_id": "d80b2c90646d4ebf940d0712e471d083"
      }
     },
     "metadata": {}
    },
    {
     "output_type": "display_data",
     "data": {
      "text/plain": "HBox(children=(HTML(value='Simulation'), FloatProgress(value=0.0), HTML(value='')))",
      "application/vnd.jupyter.widget-view+json": {
       "version_major": 2,
       "version_minor": 0,
       "model_id": "76a9ed0d1e494d9baf977df65cec7bdc"
      }
     },
     "metadata": {}
    },
    {
     "output_type": "display_data",
     "data": {
      "text/plain": "HBox(children=(HTML(value='Simulation'), FloatProgress(value=0.0), HTML(value='')))",
      "application/vnd.jupyter.widget-view+json": {
       "version_major": 2,
       "version_minor": 0,
       "model_id": "82f04e37ce84425bbac7c100b3016e7c"
      }
     },
     "metadata": {}
    },
    {
     "output_type": "display_data",
     "data": {
      "text/plain": "HBox(children=(HTML(value='Simulation'), FloatProgress(value=0.0), HTML(value='')))",
      "application/vnd.jupyter.widget-view+json": {
       "version_major": 2,
       "version_minor": 0,
       "model_id": "a6564b5756fe4baab098e466f50630be"
      }
     },
     "metadata": {}
    },
    {
     "output_type": "stream",
     "name": "stdout",
     "text": [
      "\n"
     ]
    },
    {
     "output_type": "display_data",
     "data": {
      "text/plain": "HBox(children=(HTML(value='pole-task_group_name-groundline-t_interval'), FloatProgress(value=0.0, max=20.0), H…",
      "application/vnd.jupyter.widget-view+json": {
       "version_major": 2,
       "version_minor": 0,
       "model_id": "7700390ce6df428785057085b8115c1a"
      }
     },
     "metadata": {}
    },
    {
     "output_type": "display_data",
     "data": {
      "text/plain": "HBox(children=(HTML(value='Simulation'), FloatProgress(value=0.0), HTML(value='')))",
      "application/vnd.jupyter.widget-view+json": {
       "version_major": 2,
       "version_minor": 0,
       "model_id": "03e7ebbe03534d59b3e3faaf93f13d8f"
      }
     },
     "metadata": {}
    },
    {
     "output_type": "display_data",
     "data": {
      "text/plain": "HBox(children=(HTML(value='Simulation'), FloatProgress(value=0.0), HTML(value='')))",
      "application/vnd.jupyter.widget-view+json": {
       "version_major": 2,
       "version_minor": 0,
       "model_id": "04606feabf184608a91f8f3cee9f395b"
      }
     },
     "metadata": {}
    },
    {
     "output_type": "display_data",
     "data": {
      "text/plain": "HBox(children=(HTML(value='Simulation'), FloatProgress(value=0.0), HTML(value='')))",
      "application/vnd.jupyter.widget-view+json": {
       "version_major": 2,
       "version_minor": 0,
       "model_id": "69ba0e85e7394d4c8eee74ef0001add4"
      }
     },
     "metadata": {}
    },
    {
     "output_type": "display_data",
     "data": {
      "text/plain": "HBox(children=(HTML(value='Simulation'), FloatProgress(value=0.0), HTML(value='')))",
      "application/vnd.jupyter.widget-view+json": {
       "version_major": 2,
       "version_minor": 0,
       "model_id": "d7b818e234d0424dacae87e33baba4fe"
      }
     },
     "metadata": {}
    },
    {
     "output_type": "display_data",
     "data": {
      "text/plain": "HBox(children=(HTML(value='Simulation'), FloatProgress(value=0.0), HTML(value='')))",
      "application/vnd.jupyter.widget-view+json": {
       "version_major": 2,
       "version_minor": 0,
       "model_id": "64b5f4d74ff64be0ab346cdff25bb6d0"
      }
     },
     "metadata": {}
    },
    {
     "output_type": "display_data",
     "data": {
      "text/plain": "HBox(children=(HTML(value='Simulation'), FloatProgress(value=0.0), HTML(value='')))",
      "application/vnd.jupyter.widget-view+json": {
       "version_major": 2,
       "version_minor": 0,
       "model_id": "1741a59e121745d49f1a876d9b8c6b82"
      }
     },
     "metadata": {}
    },
    {
     "output_type": "display_data",
     "data": {
      "text/plain": "HBox(children=(HTML(value='Simulation'), FloatProgress(value=0.0), HTML(value='')))",
      "application/vnd.jupyter.widget-view+json": {
       "version_major": 2,
       "version_minor": 0,
       "model_id": "586d2e4cddff4217911fbea68c27a1c0"
      }
     },
     "metadata": {}
    },
    {
     "output_type": "display_data",
     "data": {
      "text/plain": "HBox(children=(HTML(value='Simulation'), FloatProgress(value=0.0), HTML(value='')))",
      "application/vnd.jupyter.widget-view+json": {
       "version_major": 2,
       "version_minor": 0,
       "model_id": "c4d394ebe3074d3ca9d314a5100c2f92"
      }
     },
     "metadata": {}
    },
    {
     "output_type": "display_data",
     "data": {
      "text/plain": "HBox(children=(HTML(value='Simulation'), FloatProgress(value=0.0), HTML(value='')))",
      "application/vnd.jupyter.widget-view+json": {
       "version_major": 2,
       "version_minor": 0,
       "model_id": "dd55bf3c6e57439b80ee8c347cb8f8d4"
      }
     },
     "metadata": {}
    },
    {
     "output_type": "display_data",
     "data": {
      "text/plain": "HBox(children=(HTML(value='Simulation'), FloatProgress(value=0.0), HTML(value='')))",
      "application/vnd.jupyter.widget-view+json": {
       "version_major": 2,
       "version_minor": 0,
       "model_id": "2abe2406748e4e3d985babf752dbb55d"
      }
     },
     "metadata": {}
    },
    {
     "output_type": "display_data",
     "data": {
      "text/plain": "HBox(children=(HTML(value='Simulation'), FloatProgress(value=0.0), HTML(value='')))",
      "application/vnd.jupyter.widget-view+json": {
       "version_major": 2,
       "version_minor": 0,
       "model_id": "9dcbf97aa98d48fd854a99261ca2ccad"
      }
     },
     "metadata": {}
    },
    {
     "output_type": "display_data",
     "data": {
      "text/plain": "HBox(children=(HTML(value='Simulation'), FloatProgress(value=0.0), HTML(value='')))",
      "application/vnd.jupyter.widget-view+json": {
       "version_major": 2,
       "version_minor": 0,
       "model_id": "faac84bf64114c56a23ae6b99810fdc4"
      }
     },
     "metadata": {}
    },
    {
     "output_type": "display_data",
     "data": {
      "text/plain": "HBox(children=(HTML(value='Simulation'), FloatProgress(value=0.0), HTML(value='')))",
      "application/vnd.jupyter.widget-view+json": {
       "version_major": 2,
       "version_minor": 0,
       "model_id": "6dada4f5825e491f93ac285b2942a947"
      }
     },
     "metadata": {}
    },
    {
     "output_type": "display_data",
     "data": {
      "text/plain": "HBox(children=(HTML(value='Simulation'), FloatProgress(value=0.0), HTML(value='')))",
      "application/vnd.jupyter.widget-view+json": {
       "version_major": 2,
       "version_minor": 0,
       "model_id": "6f8b161d816e416ca9dfb36e0491ac63"
      }
     },
     "metadata": {}
    },
    {
     "output_type": "display_data",
     "data": {
      "text/plain": "HBox(children=(HTML(value='Simulation'), FloatProgress(value=0.0), HTML(value='')))",
      "application/vnd.jupyter.widget-view+json": {
       "version_major": 2,
       "version_minor": 0,
       "model_id": "3157df46928e44d79787c5ec5cdbb0fe"
      }
     },
     "metadata": {}
    },
    {
     "output_type": "display_data",
     "data": {
      "text/plain": "HBox(children=(HTML(value='Simulation'), FloatProgress(value=0.0), HTML(value='')))",
      "application/vnd.jupyter.widget-view+json": {
       "version_major": 2,
       "version_minor": 0,
       "model_id": "5c3e65ad144047a6b9bf1fcacb35aa47"
      }
     },
     "metadata": {}
    },
    {
     "output_type": "display_data",
     "data": {
      "text/plain": "HBox(children=(HTML(value='Simulation'), FloatProgress(value=0.0), HTML(value='')))",
      "application/vnd.jupyter.widget-view+json": {
       "version_major": 2,
       "version_minor": 0,
       "model_id": "b4738298b6934a738f7103446642ea7f"
      }
     },
     "metadata": {}
    },
    {
     "output_type": "display_data",
     "data": {
      "text/plain": "HBox(children=(HTML(value='Simulation'), FloatProgress(value=0.0), HTML(value='')))",
      "application/vnd.jupyter.widget-view+json": {
       "version_major": 2,
       "version_minor": 0,
       "model_id": "5299028a18364097bd2c4a60fe91a84f"
      }
     },
     "metadata": {}
    },
    {
     "output_type": "display_data",
     "data": {
      "text/plain": "HBox(children=(HTML(value='Simulation'), FloatProgress(value=0.0), HTML(value='')))",
      "application/vnd.jupyter.widget-view+json": {
       "version_major": 2,
       "version_minor": 0,
       "model_id": "44f4dd7e8448447a8e4785088db2479d"
      }
     },
     "metadata": {}
    },
    {
     "output_type": "display_data",
     "data": {
      "text/plain": "HBox(children=(HTML(value='Simulation'), FloatProgress(value=0.0), HTML(value='')))",
      "application/vnd.jupyter.widget-view+json": {
       "version_major": 2,
       "version_minor": 0,
       "model_id": "15f908bd52f945559df46f958b6c958f"
      }
     },
     "metadata": {}
    },
    {
     "output_type": "stream",
     "name": "stdout",
     "text": [
      "\n\n"
     ]
    }
   ],
   "source": [
    "# Run the simulation\n",
    "comp.units = model_units\n",
    "\n",
    "df_sens_chain = comp.sensitivty_chain(sens_vars, t_end=t_end, n_iterations=n_iterations)"
   ]
  },
  {
   "cell_type": "code",
   "execution_count": 38,
   "metadata": {},
   "outputs": [],
   "source": [
    "# Get ready for plotting\n",
    "df_rolling = rolling_mean(df=df_sens_chain, x_var=x_axis, y_var=y_axis, window=window)\n",
    "\n",
    "df_total = calc_value_lost(df=df_rolling, x_var=x_axis, y_var=y_axis, z_var='cost_lifecycle')"
   ]
  },
  {
   "cell_type": "code",
   "execution_count": 39,
   "metadata": {},
   "outputs": [
    {
     "output_type": "display_data",
     "data": {
      "application/vnd.plotly.v1+json": {
       "config": {
        "plotlyServerURL": "https://plot.ly"
       },
       "data": [
        {
         "type": "contour",
         "x": [
          12,
          18,
          24,
          30,
          36,
          42,
          48,
          54,
          60,
          66,
          72,
          78,
          84,
          90,
          96,
          102
         ],
         "y": [
          20000,
          40000,
          60000,
          80000,
          100000,
          200000,
          300000,
          400000,
          500000
         ],
         "z": [
          [
           9.954707995878607,
           10.648064056918335,
           12.22104874083848,
           12.432990632097095,
           13.47255351423419,
           10.728578651993324,
           17.81275178055253,
           32.07008032403934,
           25.915103578060254
          ],
          [
           3.001255693981944,
           3.3131425114212747,
           4.013398884359201,
           5.483933982631951,
           4.944507112821416,
           4.4042803339347,
           9.112796351426395,
           20.73811799630227,
           11.838521701876068
          ],
          [
           2.005632552747396,
           2.085357887943973,
           2.211549565475524,
           4.702259734572182,
           3.5976951496530223,
           3.7201405556355915,
           10.170775687166545,
           15.690169805381494,
           9.983737353919942
          ],
          [
           1.5579260390608325,
           1.6016111144562442,
           1.5633271207418922,
           3.734493518053151,
           2.680022975237236,
           4.67159238121627,
           9.057827826376814,
           12.665508527147797,
           6.5038242209262975
          ],
          [
           1.0240812510039183,
           1.2257163145246888,
           0.6530377243656016,
           2.871657358142082,
           1.5506462155860294,
           3.5607212500622385,
           7.672420295938457,
           9.817202301029699,
           1.0768873362277063
          ],
          [
           0.8801822679769771,
           0.7520651930213611,
           0.3853922467390438,
           2.9041430068057315,
           1.0044607949290247,
           4.316127842054449,
           6.868059067201157,
           6.0829077584700535,
           2.31764708172393
          ],
          [
           0.5038445795065685,
           0.6178631476393632,
           0.5054465054458097,
           1.637683556146242,
           1.4545357599395121,
           4.390624831265757,
           6.423951907643444,
           5.825420279927908,
           2.3647150609168293
          ],
          [
           0.21759890390646675,
           0.2885681891132319,
           0.4373822886113521,
           0.9329465384285616,
           1.4004478600901127,
           3.5222302923447213,
           2.838323202672518,
           3.835124058604439,
           2.3736558840285547
          ],
          [
           0,
           0.23753323789065028,
           0.5136713637613548,
           0.8461984182532873,
           1.035719570412133,
           1.6424151941365839,
           0.8718809835673724,
           0,
           0.32744594402522864
          ],
          [
           0.050830848191262046,
           0,
           0.53897976102939,
           0.5848855242436235,
           1.0131425618473076,
           2.5928914338703333,
           0,
           0.7362241266380352,
           2.3517788551885737
          ],
          [
           0.06362777261097508,
           0.07480975167587944,
           0.17805146522708792,
           0.021594384010020562,
           0.8359897746257969,
           1.6129233285999387,
           0.09712615397057256,
           1.5118583336655291,
           1.1231222620213224
          ],
          [
           0.1396767075666241,
           0.09037872007750547,
           0.1280040699383056,
           0,
           0,
           0.08747045432664358,
           0.8504619113767014,
           2.0604324913294434,
           0
          ],
          [
           0.0716938021091722,
           0.4013134435843426,
           0.47818605013547444,
           0.14323799334084164,
           0.2061223131265706,
           0,
           1.4638396895046313,
           2.8017370645803794,
           2.2950699741278946
          ],
          [
           0.21846092152755814,
           0.6295751170810155,
           0,
           0.06696465453348477,
           0.2244606897007806,
           0.7791136293346277,
           2.147068519381989,
           3.497859402355779,
           4.280275026649065
          ],
          [
           0.37984888592140553,
           1.1068716651882338,
           0.19177292315202443,
           0.46427428355317346,
           1.590577012064844,
           2.032740591211452,
           4.475053268829184,
           4.487843459423875,
           10.002724472635993
          ],
          [
           0.34049895017589193,
           1.1330715660824517,
           1.249038979971485,
           1.7405210795001924,
           3.29651840889818,
           3.8807231253191503,
           5.126586322242874,
           8.171536434907374,
           12.40540284866335
          ]
         ]
        }
       ],
       "layout": {
        "legend": {
         "title": {
          "text": "value_lost"
         }
        },
        "template": {
         "data": {
          "bar": [
           {
            "error_x": {
             "color": "#2a3f5f"
            },
            "error_y": {
             "color": "#2a3f5f"
            },
            "marker": {
             "line": {
              "color": "#E5ECF6",
              "width": 0.5
             }
            },
            "type": "bar"
           }
          ],
          "barpolar": [
           {
            "marker": {
             "line": {
              "color": "#E5ECF6",
              "width": 0.5
             }
            },
            "type": "barpolar"
           }
          ],
          "carpet": [
           {
            "aaxis": {
             "endlinecolor": "#2a3f5f",
             "gridcolor": "white",
             "linecolor": "white",
             "minorgridcolor": "white",
             "startlinecolor": "#2a3f5f"
            },
            "baxis": {
             "endlinecolor": "#2a3f5f",
             "gridcolor": "white",
             "linecolor": "white",
             "minorgridcolor": "white",
             "startlinecolor": "#2a3f5f"
            },
            "type": "carpet"
           }
          ],
          "choropleth": [
           {
            "colorbar": {
             "outlinewidth": 0,
             "ticks": ""
            },
            "type": "choropleth"
           }
          ],
          "contour": [
           {
            "colorbar": {
             "outlinewidth": 0,
             "ticks": ""
            },
            "colorscale": [
             [
              0,
              "#0d0887"
             ],
             [
              0.1111111111111111,
              "#46039f"
             ],
             [
              0.2222222222222222,
              "#7201a8"
             ],
             [
              0.3333333333333333,
              "#9c179e"
             ],
             [
              0.4444444444444444,
              "#bd3786"
             ],
             [
              0.5555555555555556,
              "#d8576b"
             ],
             [
              0.6666666666666666,
              "#ed7953"
             ],
             [
              0.7777777777777778,
              "#fb9f3a"
             ],
             [
              0.8888888888888888,
              "#fdca26"
             ],
             [
              1,
              "#f0f921"
             ]
            ],
            "type": "contour"
           }
          ],
          "contourcarpet": [
           {
            "colorbar": {
             "outlinewidth": 0,
             "ticks": ""
            },
            "type": "contourcarpet"
           }
          ],
          "heatmap": [
           {
            "colorbar": {
             "outlinewidth": 0,
             "ticks": ""
            },
            "colorscale": [
             [
              0,
              "#0d0887"
             ],
             [
              0.1111111111111111,
              "#46039f"
             ],
             [
              0.2222222222222222,
              "#7201a8"
             ],
             [
              0.3333333333333333,
              "#9c179e"
             ],
             [
              0.4444444444444444,
              "#bd3786"
             ],
             [
              0.5555555555555556,
              "#d8576b"
             ],
             [
              0.6666666666666666,
              "#ed7953"
             ],
             [
              0.7777777777777778,
              "#fb9f3a"
             ],
             [
              0.8888888888888888,
              "#fdca26"
             ],
             [
              1,
              "#f0f921"
             ]
            ],
            "type": "heatmap"
           }
          ],
          "heatmapgl": [
           {
            "colorbar": {
             "outlinewidth": 0,
             "ticks": ""
            },
            "colorscale": [
             [
              0,
              "#0d0887"
             ],
             [
              0.1111111111111111,
              "#46039f"
             ],
             [
              0.2222222222222222,
              "#7201a8"
             ],
             [
              0.3333333333333333,
              "#9c179e"
             ],
             [
              0.4444444444444444,
              "#bd3786"
             ],
             [
              0.5555555555555556,
              "#d8576b"
             ],
             [
              0.6666666666666666,
              "#ed7953"
             ],
             [
              0.7777777777777778,
              "#fb9f3a"
             ],
             [
              0.8888888888888888,
              "#fdca26"
             ],
             [
              1,
              "#f0f921"
             ]
            ],
            "type": "heatmapgl"
           }
          ],
          "histogram": [
           {
            "marker": {
             "colorbar": {
              "outlinewidth": 0,
              "ticks": ""
             }
            },
            "type": "histogram"
           }
          ],
          "histogram2d": [
           {
            "colorbar": {
             "outlinewidth": 0,
             "ticks": ""
            },
            "colorscale": [
             [
              0,
              "#0d0887"
             ],
             [
              0.1111111111111111,
              "#46039f"
             ],
             [
              0.2222222222222222,
              "#7201a8"
             ],
             [
              0.3333333333333333,
              "#9c179e"
             ],
             [
              0.4444444444444444,
              "#bd3786"
             ],
             [
              0.5555555555555556,
              "#d8576b"
             ],
             [
              0.6666666666666666,
              "#ed7953"
             ],
             [
              0.7777777777777778,
              "#fb9f3a"
             ],
             [
              0.8888888888888888,
              "#fdca26"
             ],
             [
              1,
              "#f0f921"
             ]
            ],
            "type": "histogram2d"
           }
          ],
          "histogram2dcontour": [
           {
            "colorbar": {
             "outlinewidth": 0,
             "ticks": ""
            },
            "colorscale": [
             [
              0,
              "#0d0887"
             ],
             [
              0.1111111111111111,
              "#46039f"
             ],
             [
              0.2222222222222222,
              "#7201a8"
             ],
             [
              0.3333333333333333,
              "#9c179e"
             ],
             [
              0.4444444444444444,
              "#bd3786"
             ],
             [
              0.5555555555555556,
              "#d8576b"
             ],
             [
              0.6666666666666666,
              "#ed7953"
             ],
             [
              0.7777777777777778,
              "#fb9f3a"
             ],
             [
              0.8888888888888888,
              "#fdca26"
             ],
             [
              1,
              "#f0f921"
             ]
            ],
            "type": "histogram2dcontour"
           }
          ],
          "mesh3d": [
           {
            "colorbar": {
             "outlinewidth": 0,
             "ticks": ""
            },
            "type": "mesh3d"
           }
          ],
          "parcoords": [
           {
            "line": {
             "colorbar": {
              "outlinewidth": 0,
              "ticks": ""
             }
            },
            "type": "parcoords"
           }
          ],
          "pie": [
           {
            "automargin": true,
            "type": "pie"
           }
          ],
          "scatter": [
           {
            "marker": {
             "colorbar": {
              "outlinewidth": 0,
              "ticks": ""
             }
            },
            "type": "scatter"
           }
          ],
          "scatter3d": [
           {
            "line": {
             "colorbar": {
              "outlinewidth": 0,
              "ticks": ""
             }
            },
            "marker": {
             "colorbar": {
              "outlinewidth": 0,
              "ticks": ""
             }
            },
            "type": "scatter3d"
           }
          ],
          "scattercarpet": [
           {
            "marker": {
             "colorbar": {
              "outlinewidth": 0,
              "ticks": ""
             }
            },
            "type": "scattercarpet"
           }
          ],
          "scattergeo": [
           {
            "marker": {
             "colorbar": {
              "outlinewidth": 0,
              "ticks": ""
             }
            },
            "type": "scattergeo"
           }
          ],
          "scattergl": [
           {
            "marker": {
             "colorbar": {
              "outlinewidth": 0,
              "ticks": ""
             }
            },
            "type": "scattergl"
           }
          ],
          "scattermapbox": [
           {
            "marker": {
             "colorbar": {
              "outlinewidth": 0,
              "ticks": ""
             }
            },
            "type": "scattermapbox"
           }
          ],
          "scatterpolar": [
           {
            "marker": {
             "colorbar": {
              "outlinewidth": 0,
              "ticks": ""
             }
            },
            "type": "scatterpolar"
           }
          ],
          "scatterpolargl": [
           {
            "marker": {
             "colorbar": {
              "outlinewidth": 0,
              "ticks": ""
             }
            },
            "type": "scatterpolargl"
           }
          ],
          "scatterternary": [
           {
            "marker": {
             "colorbar": {
              "outlinewidth": 0,
              "ticks": ""
             }
            },
            "type": "scatterternary"
           }
          ],
          "surface": [
           {
            "colorbar": {
             "outlinewidth": 0,
             "ticks": ""
            },
            "colorscale": [
             [
              0,
              "#0d0887"
             ],
             [
              0.1111111111111111,
              "#46039f"
             ],
             [
              0.2222222222222222,
              "#7201a8"
             ],
             [
              0.3333333333333333,
              "#9c179e"
             ],
             [
              0.4444444444444444,
              "#bd3786"
             ],
             [
              0.5555555555555556,
              "#d8576b"
             ],
             [
              0.6666666666666666,
              "#ed7953"
             ],
             [
              0.7777777777777778,
              "#fb9f3a"
             ],
             [
              0.8888888888888888,
              "#fdca26"
             ],
             [
              1,
              "#f0f921"
             ]
            ],
            "type": "surface"
           }
          ],
          "table": [
           {
            "cells": {
             "fill": {
              "color": "#EBF0F8"
             },
             "line": {
              "color": "white"
             }
            },
            "header": {
             "fill": {
              "color": "#C8D4E3"
             },
             "line": {
              "color": "white"
             }
            },
            "type": "table"
           }
          ]
         },
         "layout": {
          "annotationdefaults": {
           "arrowcolor": "#2a3f5f",
           "arrowhead": 0,
           "arrowwidth": 1
          },
          "coloraxis": {
           "colorbar": {
            "outlinewidth": 0,
            "ticks": ""
           }
          },
          "colorscale": {
           "diverging": [
            [
             0,
             "#8e0152"
            ],
            [
             0.1,
             "#c51b7d"
            ],
            [
             0.2,
             "#de77ae"
            ],
            [
             0.3,
             "#f1b6da"
            ],
            [
             0.4,
             "#fde0ef"
            ],
            [
             0.5,
             "#f7f7f7"
            ],
            [
             0.6,
             "#e6f5d0"
            ],
            [
             0.7,
             "#b8e186"
            ],
            [
             0.8,
             "#7fbc41"
            ],
            [
             0.9,
             "#4d9221"
            ],
            [
             1,
             "#276419"
            ]
           ],
           "sequential": [
            [
             0,
             "#0d0887"
            ],
            [
             0.1111111111111111,
             "#46039f"
            ],
            [
             0.2222222222222222,
             "#7201a8"
            ],
            [
             0.3333333333333333,
             "#9c179e"
            ],
            [
             0.4444444444444444,
             "#bd3786"
            ],
            [
             0.5555555555555556,
             "#d8576b"
            ],
            [
             0.6666666666666666,
             "#ed7953"
            ],
            [
             0.7777777777777778,
             "#fb9f3a"
            ],
            [
             0.8888888888888888,
             "#fdca26"
            ],
            [
             1,
             "#f0f921"
            ]
           ],
           "sequentialminus": [
            [
             0,
             "#0d0887"
            ],
            [
             0.1111111111111111,
             "#46039f"
            ],
            [
             0.2222222222222222,
             "#7201a8"
            ],
            [
             0.3333333333333333,
             "#9c179e"
            ],
            [
             0.4444444444444444,
             "#bd3786"
            ],
            [
             0.5555555555555556,
             "#d8576b"
            ],
            [
             0.6666666666666666,
             "#ed7953"
            ],
            [
             0.7777777777777778,
             "#fb9f3a"
            ],
            [
             0.8888888888888888,
             "#fdca26"
            ],
            [
             1,
             "#f0f921"
            ]
           ]
          },
          "colorway": [
           "#636efa",
           "#EF553B",
           "#00cc96",
           "#ab63fa",
           "#FFA15A",
           "#19d3f3",
           "#FF6692",
           "#B6E880",
           "#FF97FF",
           "#FECB52"
          ],
          "font": {
           "color": "#2a3f5f"
          },
          "geo": {
           "bgcolor": "white",
           "lakecolor": "white",
           "landcolor": "#E5ECF6",
           "showlakes": true,
           "showland": true,
           "subunitcolor": "white"
          },
          "hoverlabel": {
           "align": "left"
          },
          "hovermode": "closest",
          "mapbox": {
           "style": "light"
          },
          "paper_bgcolor": "white",
          "plot_bgcolor": "#E5ECF6",
          "polar": {
           "angularaxis": {
            "gridcolor": "white",
            "linecolor": "white",
            "ticks": ""
           },
           "bgcolor": "#E5ECF6",
           "radialaxis": {
            "gridcolor": "white",
            "linecolor": "white",
            "ticks": ""
           }
          },
          "scene": {
           "xaxis": {
            "backgroundcolor": "#E5ECF6",
            "gridcolor": "white",
            "gridwidth": 2,
            "linecolor": "white",
            "showbackground": true,
            "ticks": "",
            "zerolinecolor": "white"
           },
           "yaxis": {
            "backgroundcolor": "#E5ECF6",
            "gridcolor": "white",
            "gridwidth": 2,
            "linecolor": "white",
            "showbackground": true,
            "ticks": "",
            "zerolinecolor": "white"
           },
           "zaxis": {
            "backgroundcolor": "#E5ECF6",
            "gridcolor": "white",
            "gridwidth": 2,
            "linecolor": "white",
            "showbackground": true,
            "ticks": "",
            "zerolinecolor": "white"
           }
          },
          "shapedefaults": {
           "line": {
            "color": "#2a3f5f"
           }
          },
          "ternary": {
           "aaxis": {
            "gridcolor": "white",
            "linecolor": "white",
            "ticks": ""
           },
           "baxis": {
            "gridcolor": "white",
            "linecolor": "white",
            "ticks": ""
           },
           "bgcolor": "#E5ECF6",
           "caxis": {
            "gridcolor": "white",
            "linecolor": "white",
            "ticks": ""
           }
          },
          "title": {
           "x": 0.05
          },
          "xaxis": {
           "automargin": true,
           "gridcolor": "white",
           "linecolor": "white",
           "ticks": "",
           "title": {
            "standoff": 15
           },
           "zerolinecolor": "white",
           "zerolinewidth": 2
          },
          "yaxis": {
           "automargin": true,
           "gridcolor": "white",
           "linecolor": "white",
           "ticks": "",
           "title": {
            "standoff": 15
           },
           "zerolinecolor": "white",
           "zerolinewidth": 2
          }
         }
        },
        "title": {
         "text": "Contour of"
        },
        "xaxis": {
         "title": {
          "text": "pole-task_group_name-groundline-t_interval"
         }
        },
        "yaxis": {
         "title": {
          "text": "pole-consequence-cost"
         }
        }
       }
      }
     },
     "metadata": {}
    }
   ],
   "source": [
    "make_contour_plot(df_total, x_axis=x_axis, y_axis=y_axis, z_axis=z_axis)"
   ]
  },
  {
   "cell_type": "code",
   "execution_count": 40,
   "metadata": {},
   "outputs": [
    {
     "output_type": "display_data",
     "data": {
      "application/vnd.plotly.v1+json": {
       "config": {
        "plotlyServerURL": "https://plot.ly"
       },
       "data": [
        {
         "hovertemplate": "pole-consequence-cost=20000.0<br>pole-task_group_name-groundline-t_interval=%{x}<br>value_lost=%{y}<extra></extra>",
         "legendgroup": "20000.0",
         "line": {
          "color": "#636efa",
          "dash": "solid"
         },
         "mode": "lines",
         "name": "20000.0",
         "orientation": "v",
         "showlegend": true,
         "type": "scatter",
         "x": [
          12,
          18,
          24,
          30,
          36,
          42,
          48,
          54,
          60,
          66,
          72,
          78,
          84,
          90,
          96,
          102
         ],
         "xaxis": "x",
         "y": [
          9.954707995878607,
          3.001255693981944,
          2.005632552747396,
          1.5579260390608325,
          1.0240812510039183,
          0.8801822679769771,
          0.5038445795065685,
          0.21759890390646675,
          0,
          0.050830848191262046,
          0.06362777261097508,
          0.1396767075666241,
          0.0716938021091722,
          0.21846092152755814,
          0.37984888592140553,
          0.34049895017589193
         ],
         "yaxis": "y"
        },
        {
         "hovertemplate": "pole-consequence-cost=40000.0<br>pole-task_group_name-groundline-t_interval=%{x}<br>value_lost=%{y}<extra></extra>",
         "legendgroup": "40000.0",
         "line": {
          "color": "#EF553B",
          "dash": "solid"
         },
         "mode": "lines",
         "name": "40000.0",
         "orientation": "v",
         "showlegend": true,
         "type": "scatter",
         "x": [
          12,
          18,
          24,
          30,
          36,
          42,
          48,
          54,
          60,
          66,
          72,
          78,
          84,
          90,
          96,
          102
         ],
         "xaxis": "x",
         "y": [
          10.648064056918335,
          3.3131425114212747,
          2.085357887943973,
          1.6016111144562442,
          1.2257163145246888,
          0.7520651930213611,
          0.6178631476393632,
          0.2885681891132319,
          0.23753323789065028,
          0,
          0.07480975167587944,
          0.09037872007750547,
          0.4013134435843426,
          0.6295751170810155,
          1.1068716651882338,
          1.1330715660824517
         ],
         "yaxis": "y"
        },
        {
         "hovertemplate": "pole-consequence-cost=60000.0<br>pole-task_group_name-groundline-t_interval=%{x}<br>value_lost=%{y}<extra></extra>",
         "legendgroup": "60000.0",
         "line": {
          "color": "#00cc96",
          "dash": "solid"
         },
         "mode": "lines",
         "name": "60000.0",
         "orientation": "v",
         "showlegend": true,
         "type": "scatter",
         "x": [
          12,
          18,
          24,
          30,
          36,
          42,
          48,
          54,
          60,
          66,
          72,
          78,
          84,
          90,
          96,
          102
         ],
         "xaxis": "x",
         "y": [
          12.22104874083848,
          4.013398884359201,
          2.211549565475524,
          1.5633271207418922,
          0.6530377243656016,
          0.3853922467390438,
          0.5054465054458097,
          0.4373822886113521,
          0.5136713637613548,
          0.53897976102939,
          0.17805146522708792,
          0.1280040699383056,
          0.47818605013547444,
          0,
          0.19177292315202443,
          1.249038979971485
         ],
         "yaxis": "y"
        },
        {
         "hovertemplate": "pole-consequence-cost=80000.0<br>pole-task_group_name-groundline-t_interval=%{x}<br>value_lost=%{y}<extra></extra>",
         "legendgroup": "80000.0",
         "line": {
          "color": "#ab63fa",
          "dash": "solid"
         },
         "mode": "lines",
         "name": "80000.0",
         "orientation": "v",
         "showlegend": true,
         "type": "scatter",
         "x": [
          12,
          18,
          24,
          30,
          36,
          42,
          48,
          54,
          60,
          66,
          72,
          78,
          84,
          90,
          96,
          102
         ],
         "xaxis": "x",
         "y": [
          12.432990632097095,
          5.483933982631951,
          4.702259734572182,
          3.734493518053151,
          2.871657358142082,
          2.9041430068057315,
          1.637683556146242,
          0.9329465384285616,
          0.8461984182532873,
          0.5848855242436235,
          0.021594384010020562,
          0,
          0.14323799334084164,
          0.06696465453348477,
          0.46427428355317346,
          1.7405210795001924
         ],
         "yaxis": "y"
        },
        {
         "hovertemplate": "pole-consequence-cost=100000.0<br>pole-task_group_name-groundline-t_interval=%{x}<br>value_lost=%{y}<extra></extra>",
         "legendgroup": "100000.0",
         "line": {
          "color": "#FFA15A",
          "dash": "solid"
         },
         "mode": "lines",
         "name": "100000.0",
         "orientation": "v",
         "showlegend": true,
         "type": "scatter",
         "x": [
          12,
          18,
          24,
          30,
          36,
          42,
          48,
          54,
          60,
          66,
          72,
          78,
          84,
          90,
          96,
          102
         ],
         "xaxis": "x",
         "y": [
          13.47255351423419,
          4.944507112821416,
          3.5976951496530223,
          2.680022975237236,
          1.5506462155860294,
          1.0044607949290247,
          1.4545357599395121,
          1.4004478600901127,
          1.035719570412133,
          1.0131425618473076,
          0.8359897746257969,
          0,
          0.2061223131265706,
          0.2244606897007806,
          1.590577012064844,
          3.29651840889818
         ],
         "yaxis": "y"
        },
        {
         "hovertemplate": "pole-consequence-cost=200000.0<br>pole-task_group_name-groundline-t_interval=%{x}<br>value_lost=%{y}<extra></extra>",
         "legendgroup": "200000.0",
         "line": {
          "color": "#19d3f3",
          "dash": "solid"
         },
         "mode": "lines",
         "name": "200000.0",
         "orientation": "v",
         "showlegend": true,
         "type": "scatter",
         "x": [
          12,
          18,
          24,
          30,
          36,
          42,
          48,
          54,
          60,
          66,
          72,
          78,
          84,
          90,
          96,
          102
         ],
         "xaxis": "x",
         "y": [
          10.728578651993324,
          4.4042803339347,
          3.7201405556355915,
          4.67159238121627,
          3.5607212500622385,
          4.316127842054449,
          4.390624831265757,
          3.5222302923447213,
          1.6424151941365839,
          2.5928914338703333,
          1.6129233285999387,
          0.08747045432664358,
          0,
          0.7791136293346277,
          2.032740591211452,
          3.8807231253191503
         ],
         "yaxis": "y"
        },
        {
         "hovertemplate": "pole-consequence-cost=300000.0<br>pole-task_group_name-groundline-t_interval=%{x}<br>value_lost=%{y}<extra></extra>",
         "legendgroup": "300000.0",
         "line": {
          "color": "#FF6692",
          "dash": "solid"
         },
         "mode": "lines",
         "name": "300000.0",
         "orientation": "v",
         "showlegend": true,
         "type": "scatter",
         "x": [
          12,
          18,
          24,
          30,
          36,
          42,
          48,
          54,
          60,
          66,
          72,
          78,
          84,
          90,
          96,
          102
         ],
         "xaxis": "x",
         "y": [
          17.81275178055253,
          9.112796351426395,
          10.170775687166545,
          9.057827826376814,
          7.672420295938457,
          6.868059067201157,
          6.423951907643444,
          2.838323202672518,
          0.8718809835673724,
          0,
          0.09712615397057256,
          0.8504619113767014,
          1.4638396895046313,
          2.147068519381989,
          4.475053268829184,
          5.126586322242874
         ],
         "yaxis": "y"
        },
        {
         "hovertemplate": "pole-consequence-cost=400000.0<br>pole-task_group_name-groundline-t_interval=%{x}<br>value_lost=%{y}<extra></extra>",
         "legendgroup": "400000.0",
         "line": {
          "color": "#B6E880",
          "dash": "solid"
         },
         "mode": "lines",
         "name": "400000.0",
         "orientation": "v",
         "showlegend": true,
         "type": "scatter",
         "x": [
          12,
          18,
          24,
          30,
          36,
          42,
          48,
          54,
          60,
          66,
          72,
          78,
          84,
          90,
          96,
          102
         ],
         "xaxis": "x",
         "y": [
          32.07008032403934,
          20.73811799630227,
          15.690169805381494,
          12.665508527147797,
          9.817202301029699,
          6.0829077584700535,
          5.825420279927908,
          3.835124058604439,
          0,
          0.7362241266380352,
          1.5118583336655291,
          2.0604324913294434,
          2.8017370645803794,
          3.497859402355779,
          4.487843459423875,
          8.171536434907374
         ],
         "yaxis": "y"
        },
        {
         "hovertemplate": "pole-consequence-cost=500000.0<br>pole-task_group_name-groundline-t_interval=%{x}<br>value_lost=%{y}<extra></extra>",
         "legendgroup": "500000.0",
         "line": {
          "color": "#FF97FF",
          "dash": "solid"
         },
         "mode": "lines",
         "name": "500000.0",
         "orientation": "v",
         "showlegend": true,
         "type": "scatter",
         "x": [
          12,
          18,
          24,
          30,
          36,
          42,
          48,
          54,
          60,
          66,
          72,
          78,
          84,
          90,
          96,
          102
         ],
         "xaxis": "x",
         "y": [
          25.915103578060254,
          11.838521701876068,
          9.983737353919942,
          6.5038242209262975,
          1.0768873362277063,
          2.31764708172393,
          2.3647150609168293,
          2.3736558840285547,
          0.32744594402522864,
          2.3517788551885737,
          1.1231222620213224,
          0,
          2.2950699741278946,
          4.280275026649065,
          10.002724472635993,
          12.40540284866335
         ],
         "yaxis": "y"
        }
       ],
       "layout": {
        "legend": {
         "title": {
          "text": "pole-consequence-cost"
         },
         "tracegroupgap": 0
        },
        "margin": {
         "t": 60
        },
        "template": {
         "data": {
          "bar": [
           {
            "error_x": {
             "color": "#2a3f5f"
            },
            "error_y": {
             "color": "#2a3f5f"
            },
            "marker": {
             "line": {
              "color": "#E5ECF6",
              "width": 0.5
             }
            },
            "type": "bar"
           }
          ],
          "barpolar": [
           {
            "marker": {
             "line": {
              "color": "#E5ECF6",
              "width": 0.5
             }
            },
            "type": "barpolar"
           }
          ],
          "carpet": [
           {
            "aaxis": {
             "endlinecolor": "#2a3f5f",
             "gridcolor": "white",
             "linecolor": "white",
             "minorgridcolor": "white",
             "startlinecolor": "#2a3f5f"
            },
            "baxis": {
             "endlinecolor": "#2a3f5f",
             "gridcolor": "white",
             "linecolor": "white",
             "minorgridcolor": "white",
             "startlinecolor": "#2a3f5f"
            },
            "type": "carpet"
           }
          ],
          "choropleth": [
           {
            "colorbar": {
             "outlinewidth": 0,
             "ticks": ""
            },
            "type": "choropleth"
           }
          ],
          "contour": [
           {
            "colorbar": {
             "outlinewidth": 0,
             "ticks": ""
            },
            "colorscale": [
             [
              0,
              "#0d0887"
             ],
             [
              0.1111111111111111,
              "#46039f"
             ],
             [
              0.2222222222222222,
              "#7201a8"
             ],
             [
              0.3333333333333333,
              "#9c179e"
             ],
             [
              0.4444444444444444,
              "#bd3786"
             ],
             [
              0.5555555555555556,
              "#d8576b"
             ],
             [
              0.6666666666666666,
              "#ed7953"
             ],
             [
              0.7777777777777778,
              "#fb9f3a"
             ],
             [
              0.8888888888888888,
              "#fdca26"
             ],
             [
              1,
              "#f0f921"
             ]
            ],
            "type": "contour"
           }
          ],
          "contourcarpet": [
           {
            "colorbar": {
             "outlinewidth": 0,
             "ticks": ""
            },
            "type": "contourcarpet"
           }
          ],
          "heatmap": [
           {
            "colorbar": {
             "outlinewidth": 0,
             "ticks": ""
            },
            "colorscale": [
             [
              0,
              "#0d0887"
             ],
             [
              0.1111111111111111,
              "#46039f"
             ],
             [
              0.2222222222222222,
              "#7201a8"
             ],
             [
              0.3333333333333333,
              "#9c179e"
             ],
             [
              0.4444444444444444,
              "#bd3786"
             ],
             [
              0.5555555555555556,
              "#d8576b"
             ],
             [
              0.6666666666666666,
              "#ed7953"
             ],
             [
              0.7777777777777778,
              "#fb9f3a"
             ],
             [
              0.8888888888888888,
              "#fdca26"
             ],
             [
              1,
              "#f0f921"
             ]
            ],
            "type": "heatmap"
           }
          ],
          "heatmapgl": [
           {
            "colorbar": {
             "outlinewidth": 0,
             "ticks": ""
            },
            "colorscale": [
             [
              0,
              "#0d0887"
             ],
             [
              0.1111111111111111,
              "#46039f"
             ],
             [
              0.2222222222222222,
              "#7201a8"
             ],
             [
              0.3333333333333333,
              "#9c179e"
             ],
             [
              0.4444444444444444,
              "#bd3786"
             ],
             [
              0.5555555555555556,
              "#d8576b"
             ],
             [
              0.6666666666666666,
              "#ed7953"
             ],
             [
              0.7777777777777778,
              "#fb9f3a"
             ],
             [
              0.8888888888888888,
              "#fdca26"
             ],
             [
              1,
              "#f0f921"
             ]
            ],
            "type": "heatmapgl"
           }
          ],
          "histogram": [
           {
            "marker": {
             "colorbar": {
              "outlinewidth": 0,
              "ticks": ""
             }
            },
            "type": "histogram"
           }
          ],
          "histogram2d": [
           {
            "colorbar": {
             "outlinewidth": 0,
             "ticks": ""
            },
            "colorscale": [
             [
              0,
              "#0d0887"
             ],
             [
              0.1111111111111111,
              "#46039f"
             ],
             [
              0.2222222222222222,
              "#7201a8"
             ],
             [
              0.3333333333333333,
              "#9c179e"
             ],
             [
              0.4444444444444444,
              "#bd3786"
             ],
             [
              0.5555555555555556,
              "#d8576b"
             ],
             [
              0.6666666666666666,
              "#ed7953"
             ],
             [
              0.7777777777777778,
              "#fb9f3a"
             ],
             [
              0.8888888888888888,
              "#fdca26"
             ],
             [
              1,
              "#f0f921"
             ]
            ],
            "type": "histogram2d"
           }
          ],
          "histogram2dcontour": [
           {
            "colorbar": {
             "outlinewidth": 0,
             "ticks": ""
            },
            "colorscale": [
             [
              0,
              "#0d0887"
             ],
             [
              0.1111111111111111,
              "#46039f"
             ],
             [
              0.2222222222222222,
              "#7201a8"
             ],
             [
              0.3333333333333333,
              "#9c179e"
             ],
             [
              0.4444444444444444,
              "#bd3786"
             ],
             [
              0.5555555555555556,
              "#d8576b"
             ],
             [
              0.6666666666666666,
              "#ed7953"
             ],
             [
              0.7777777777777778,
              "#fb9f3a"
             ],
             [
              0.8888888888888888,
              "#fdca26"
             ],
             [
              1,
              "#f0f921"
             ]
            ],
            "type": "histogram2dcontour"
           }
          ],
          "mesh3d": [
           {
            "colorbar": {
             "outlinewidth": 0,
             "ticks": ""
            },
            "type": "mesh3d"
           }
          ],
          "parcoords": [
           {
            "line": {
             "colorbar": {
              "outlinewidth": 0,
              "ticks": ""
             }
            },
            "type": "parcoords"
           }
          ],
          "pie": [
           {
            "automargin": true,
            "type": "pie"
           }
          ],
          "scatter": [
           {
            "marker": {
             "colorbar": {
              "outlinewidth": 0,
              "ticks": ""
             }
            },
            "type": "scatter"
           }
          ],
          "scatter3d": [
           {
            "line": {
             "colorbar": {
              "outlinewidth": 0,
              "ticks": ""
             }
            },
            "marker": {
             "colorbar": {
              "outlinewidth": 0,
              "ticks": ""
             }
            },
            "type": "scatter3d"
           }
          ],
          "scattercarpet": [
           {
            "marker": {
             "colorbar": {
              "outlinewidth": 0,
              "ticks": ""
             }
            },
            "type": "scattercarpet"
           }
          ],
          "scattergeo": [
           {
            "marker": {
             "colorbar": {
              "outlinewidth": 0,
              "ticks": ""
             }
            },
            "type": "scattergeo"
           }
          ],
          "scattergl": [
           {
            "marker": {
             "colorbar": {
              "outlinewidth": 0,
              "ticks": ""
             }
            },
            "type": "scattergl"
           }
          ],
          "scattermapbox": [
           {
            "marker": {
             "colorbar": {
              "outlinewidth": 0,
              "ticks": ""
             }
            },
            "type": "scattermapbox"
           }
          ],
          "scatterpolar": [
           {
            "marker": {
             "colorbar": {
              "outlinewidth": 0,
              "ticks": ""
             }
            },
            "type": "scatterpolar"
           }
          ],
          "scatterpolargl": [
           {
            "marker": {
             "colorbar": {
              "outlinewidth": 0,
              "ticks": ""
             }
            },
            "type": "scatterpolargl"
           }
          ],
          "scatterternary": [
           {
            "marker": {
             "colorbar": {
              "outlinewidth": 0,
              "ticks": ""
             }
            },
            "type": "scatterternary"
           }
          ],
          "surface": [
           {
            "colorbar": {
             "outlinewidth": 0,
             "ticks": ""
            },
            "colorscale": [
             [
              0,
              "#0d0887"
             ],
             [
              0.1111111111111111,
              "#46039f"
             ],
             [
              0.2222222222222222,
              "#7201a8"
             ],
             [
              0.3333333333333333,
              "#9c179e"
             ],
             [
              0.4444444444444444,
              "#bd3786"
             ],
             [
              0.5555555555555556,
              "#d8576b"
             ],
             [
              0.6666666666666666,
              "#ed7953"
             ],
             [
              0.7777777777777778,
              "#fb9f3a"
             ],
             [
              0.8888888888888888,
              "#fdca26"
             ],
             [
              1,
              "#f0f921"
             ]
            ],
            "type": "surface"
           }
          ],
          "table": [
           {
            "cells": {
             "fill": {
              "color": "#EBF0F8"
             },
             "line": {
              "color": "white"
             }
            },
            "header": {
             "fill": {
              "color": "#C8D4E3"
             },
             "line": {
              "color": "white"
             }
            },
            "type": "table"
           }
          ]
         },
         "layout": {
          "annotationdefaults": {
           "arrowcolor": "#2a3f5f",
           "arrowhead": 0,
           "arrowwidth": 1
          },
          "coloraxis": {
           "colorbar": {
            "outlinewidth": 0,
            "ticks": ""
           }
          },
          "colorscale": {
           "diverging": [
            [
             0,
             "#8e0152"
            ],
            [
             0.1,
             "#c51b7d"
            ],
            [
             0.2,
             "#de77ae"
            ],
            [
             0.3,
             "#f1b6da"
            ],
            [
             0.4,
             "#fde0ef"
            ],
            [
             0.5,
             "#f7f7f7"
            ],
            [
             0.6,
             "#e6f5d0"
            ],
            [
             0.7,
             "#b8e186"
            ],
            [
             0.8,
             "#7fbc41"
            ],
            [
             0.9,
             "#4d9221"
            ],
            [
             1,
             "#276419"
            ]
           ],
           "sequential": [
            [
             0,
             "#0d0887"
            ],
            [
             0.1111111111111111,
             "#46039f"
            ],
            [
             0.2222222222222222,
             "#7201a8"
            ],
            [
             0.3333333333333333,
             "#9c179e"
            ],
            [
             0.4444444444444444,
             "#bd3786"
            ],
            [
             0.5555555555555556,
             "#d8576b"
            ],
            [
             0.6666666666666666,
             "#ed7953"
            ],
            [
             0.7777777777777778,
             "#fb9f3a"
            ],
            [
             0.8888888888888888,
             "#fdca26"
            ],
            [
             1,
             "#f0f921"
            ]
           ],
           "sequentialminus": [
            [
             0,
             "#0d0887"
            ],
            [
             0.1111111111111111,
             "#46039f"
            ],
            [
             0.2222222222222222,
             "#7201a8"
            ],
            [
             0.3333333333333333,
             "#9c179e"
            ],
            [
             0.4444444444444444,
             "#bd3786"
            ],
            [
             0.5555555555555556,
             "#d8576b"
            ],
            [
             0.6666666666666666,
             "#ed7953"
            ],
            [
             0.7777777777777778,
             "#fb9f3a"
            ],
            [
             0.8888888888888888,
             "#fdca26"
            ],
            [
             1,
             "#f0f921"
            ]
           ]
          },
          "colorway": [
           "#636efa",
           "#EF553B",
           "#00cc96",
           "#ab63fa",
           "#FFA15A",
           "#19d3f3",
           "#FF6692",
           "#B6E880",
           "#FF97FF",
           "#FECB52"
          ],
          "font": {
           "color": "#2a3f5f"
          },
          "geo": {
           "bgcolor": "white",
           "lakecolor": "white",
           "landcolor": "#E5ECF6",
           "showlakes": true,
           "showland": true,
           "subunitcolor": "white"
          },
          "hoverlabel": {
           "align": "left"
          },
          "hovermode": "closest",
          "mapbox": {
           "style": "light"
          },
          "paper_bgcolor": "white",
          "plot_bgcolor": "#E5ECF6",
          "polar": {
           "angularaxis": {
            "gridcolor": "white",
            "linecolor": "white",
            "ticks": ""
           },
           "bgcolor": "#E5ECF6",
           "radialaxis": {
            "gridcolor": "white",
            "linecolor": "white",
            "ticks": ""
           }
          },
          "scene": {
           "xaxis": {
            "backgroundcolor": "#E5ECF6",
            "gridcolor": "white",
            "gridwidth": 2,
            "linecolor": "white",
            "showbackground": true,
            "ticks": "",
            "zerolinecolor": "white"
           },
           "yaxis": {
            "backgroundcolor": "#E5ECF6",
            "gridcolor": "white",
            "gridwidth": 2,
            "linecolor": "white",
            "showbackground": true,
            "ticks": "",
            "zerolinecolor": "white"
           },
           "zaxis": {
            "backgroundcolor": "#E5ECF6",
            "gridcolor": "white",
            "gridwidth": 2,
            "linecolor": "white",
            "showbackground": true,
            "ticks": "",
            "zerolinecolor": "white"
           }
          },
          "shapedefaults": {
           "line": {
            "color": "#2a3f5f"
           }
          },
          "ternary": {
           "aaxis": {
            "gridcolor": "white",
            "linecolor": "white",
            "ticks": ""
           },
           "baxis": {
            "gridcolor": "white",
            "linecolor": "white",
            "ticks": ""
           },
           "bgcolor": "#E5ECF6",
           "caxis": {
            "gridcolor": "white",
            "linecolor": "white",
            "ticks": ""
           }
          },
          "title": {
           "x": 0.05
          },
          "xaxis": {
           "automargin": true,
           "gridcolor": "white",
           "linecolor": "white",
           "ticks": "",
           "title": {
            "standoff": 15
           },
           "zerolinecolor": "white",
           "zerolinewidth": 2
          },
          "yaxis": {
           "automargin": true,
           "gridcolor": "white",
           "linecolor": "white",
           "ticks": "",
           "title": {
            "standoff": 15
           },
           "zerolinecolor": "white",
           "zerolinewidth": 2
          }
         }
        },
        "xaxis": {
         "anchor": "y",
         "domain": [
          0,
          1
         ],
         "title": {
          "text": "pole-task_group_name-groundline-t_interval"
         }
        },
        "yaxis": {
         "anchor": "x",
         "domain": [
          0,
          1
         ],
         "title": {
          "text": "value_lost"
         }
        }
       }
      }
     },
     "metadata": {}
    }
   ],
   "source": [
    "px.line(df_total.reset_index(), x=x_axis, y=z_axis, color=y_axis)"
   ]
  },
  {
   "cell_type": "code",
   "execution_count": 131,
   "metadata": {},
   "outputs": [],
   "source": [
    "df_total.to_csv(paths.output_path + os.sep + \"interim_model_results_200804.csv\")"
   ]
  },
  {
   "source": [
    "# Match Asset Models to the population\n",
    "## Load the population data"
   ],
   "cell_type": "markdown",
   "metadata": {}
  },
  {
   "cell_type": "code",
   "execution_count": 24,
   "metadata": {},
   "outputs": [
    {
     "output_type": "execute_result",
     "data": {
      "text/plain": [
       "   Unnamed: 0  ASSET_ID Depot (ZSG Area) Pole_LU_NSWMajo    Pole_LU_NSWDeta  \\\n",
       "0           0       388      Cobar Depot         Grazing  Rangeland grazing   \n",
       "1           1       389      Cobar Depot         Grazing  Rangeland grazing   \n",
       "2           2       390      Cobar Depot         Grazing  Rangeland grazing   \n",
       "3           3       391      Cobar Depot         Grazing  Rangeland grazing   \n",
       "4           4       392      Cobar Depot         Grazing  Rangeland grazing   \n",
       "\n",
       "             Pole_LU_ALUMMaj            Pole_LU_ALUMDet  \\\n",
       "0  Grazing native vegetation  Grazing native vegetation   \n",
       "1  Grazing native vegetation  Grazing native vegetation   \n",
       "2  Grazing native vegetation  Grazing native vegetation   \n",
       "3  Grazing native vegetation  Grazing native vegetation   \n",
       "4  Grazing native vegetation  Grazing native vegetation   \n",
       "\n",
       "  Road Crossing Conductor Type HV_LV Status BushfirePriority  ...  \\\n",
       "0                         None      HV Only               P3  ...   \n",
       "1                         None      HV Only               P3  ...   \n",
       "2                         None      HV Only               P3  ...   \n",
       "3                         None      HV Only               P3  ...   \n",
       "4                         None      HV Only               P3  ...   \n",
       "\n",
       "  C_Environment_Rank  Site_Bushfire_Moderate_Probability  \\\n",
       "0                  5                            0.000715   \n",
       "1                  5                            0.000715   \n",
       "2                  5                            0.000715   \n",
       "3                  5                            0.000715   \n",
       "4                  5                            0.000715   \n",
       "\n",
       "   Site_Bushfire_Severe_Probability  C_Bushfire_Dollars  \\\n",
       "0                          0.000005          755.419255   \n",
       "1                          0.000005          755.419255   \n",
       "2                          0.000005          755.419255   \n",
       "3                          0.000005          755.419255   \n",
       "4                          0.000005          755.419255   \n",
       "\n",
       "  Site_Environment_Insignificant_Probability  \\\n",
       "0                                        0.0   \n",
       "1                                        0.0   \n",
       "2                                        0.0   \n",
       "3                                        0.0   \n",
       "4                                        0.0   \n",
       "\n",
       "  Site_Environment_Minor_Probability C_Environment_Dollars  \\\n",
       "0                                  0                     0   \n",
       "1                                  0                     0   \n",
       "2                                  0                     0   \n",
       "3                                  0                     0   \n",
       "4                                  0                     0   \n",
       "\n",
       "  C_Financial_Dollars  Total Consequence $  Radial(Y/N)  \n",
       "0          2802.19134         21198.144867          NaN  \n",
       "1          2802.57978         21198.533307          NaN  \n",
       "2          2803.09692         21199.050447          NaN  \n",
       "3          2803.76382         21199.717347          NaN  \n",
       "4          2804.33010         21200.283627          NaN  \n",
       "\n",
       "[5 rows x 43 columns]"
      ],
      "text/html": "<div>\n<style scoped>\n    .dataframe tbody tr th:only-of-type {\n        vertical-align: middle;\n    }\n\n    .dataframe tbody tr th {\n        vertical-align: top;\n    }\n\n    .dataframe thead th {\n        text-align: right;\n    }\n</style>\n<table border=\"1\" class=\"dataframe\">\n  <thead>\n    <tr style=\"text-align: right;\">\n      <th></th>\n      <th>Unnamed: 0</th>\n      <th>ASSET_ID</th>\n      <th>Depot (ZSG Area)</th>\n      <th>Pole_LU_NSWMajo</th>\n      <th>Pole_LU_NSWDeta</th>\n      <th>Pole_LU_ALUMMaj</th>\n      <th>Pole_LU_ALUMDet</th>\n      <th>Road Crossing Conductor Type</th>\n      <th>HV_LV Status</th>\n      <th>BushfirePriority</th>\n      <th>...</th>\n      <th>C_Environment_Rank</th>\n      <th>Site_Bushfire_Moderate_Probability</th>\n      <th>Site_Bushfire_Severe_Probability</th>\n      <th>C_Bushfire_Dollars</th>\n      <th>Site_Environment_Insignificant_Probability</th>\n      <th>Site_Environment_Minor_Probability</th>\n      <th>C_Environment_Dollars</th>\n      <th>C_Financial_Dollars</th>\n      <th>Total Consequence $</th>\n      <th>Radial(Y/N)</th>\n    </tr>\n  </thead>\n  <tbody>\n    <tr>\n      <th>0</th>\n      <td>0</td>\n      <td>388</td>\n      <td>Cobar Depot</td>\n      <td>Grazing</td>\n      <td>Rangeland grazing</td>\n      <td>Grazing native vegetation</td>\n      <td>Grazing native vegetation</td>\n      <td>None</td>\n      <td>HV Only</td>\n      <td>P3</td>\n      <td>...</td>\n      <td>5</td>\n      <td>0.000715</td>\n      <td>0.000005</td>\n      <td>755.419255</td>\n      <td>0.0</td>\n      <td>0</td>\n      <td>0</td>\n      <td>2802.19134</td>\n      <td>21198.144867</td>\n      <td>NaN</td>\n    </tr>\n    <tr>\n      <th>1</th>\n      <td>1</td>\n      <td>389</td>\n      <td>Cobar Depot</td>\n      <td>Grazing</td>\n      <td>Rangeland grazing</td>\n      <td>Grazing native vegetation</td>\n      <td>Grazing native vegetation</td>\n      <td>None</td>\n      <td>HV Only</td>\n      <td>P3</td>\n      <td>...</td>\n      <td>5</td>\n      <td>0.000715</td>\n      <td>0.000005</td>\n      <td>755.419255</td>\n      <td>0.0</td>\n      <td>0</td>\n      <td>0</td>\n      <td>2802.57978</td>\n      <td>21198.533307</td>\n      <td>NaN</td>\n    </tr>\n    <tr>\n      <th>2</th>\n      <td>2</td>\n      <td>390</td>\n      <td>Cobar Depot</td>\n      <td>Grazing</td>\n      <td>Rangeland grazing</td>\n      <td>Grazing native vegetation</td>\n      <td>Grazing native vegetation</td>\n      <td>None</td>\n      <td>HV Only</td>\n      <td>P3</td>\n      <td>...</td>\n      <td>5</td>\n      <td>0.000715</td>\n      <td>0.000005</td>\n      <td>755.419255</td>\n      <td>0.0</td>\n      <td>0</td>\n      <td>0</td>\n      <td>2803.09692</td>\n      <td>21199.050447</td>\n      <td>NaN</td>\n    </tr>\n    <tr>\n      <th>3</th>\n      <td>3</td>\n      <td>391</td>\n      <td>Cobar Depot</td>\n      <td>Grazing</td>\n      <td>Rangeland grazing</td>\n      <td>Grazing native vegetation</td>\n      <td>Grazing native vegetation</td>\n      <td>None</td>\n      <td>HV Only</td>\n      <td>P3</td>\n      <td>...</td>\n      <td>5</td>\n      <td>0.000715</td>\n      <td>0.000005</td>\n      <td>755.419255</td>\n      <td>0.0</td>\n      <td>0</td>\n      <td>0</td>\n      <td>2803.76382</td>\n      <td>21199.717347</td>\n      <td>NaN</td>\n    </tr>\n    <tr>\n      <th>4</th>\n      <td>4</td>\n      <td>392</td>\n      <td>Cobar Depot</td>\n      <td>Grazing</td>\n      <td>Rangeland grazing</td>\n      <td>Grazing native vegetation</td>\n      <td>Grazing native vegetation</td>\n      <td>None</td>\n      <td>HV Only</td>\n      <td>P3</td>\n      <td>...</td>\n      <td>5</td>\n      <td>0.000715</td>\n      <td>0.000005</td>\n      <td>755.419255</td>\n      <td>0.0</td>\n      <td>0</td>\n      <td>0</td>\n      <td>2804.33010</td>\n      <td>21200.283627</td>\n      <td>NaN</td>\n    </tr>\n  </tbody>\n</table>\n<p>5 rows × 43 columns</p>\n</div>"
     },
     "metadata": {},
     "execution_count": 24
    }
   ],
   "source": [
    "filename = \"ACS - Poles - Consequence Model Output.csv\"\n",
    "print(\"File Loading...\")\n",
    "df_cons = pd.read_csv(paths.csv_path + os.sep + filename)\n",
    "clear_output()\n",
    "df_cons.head()"
   ]
  },
  {
   "source": [
    "## Prepare the population Data"
   ],
   "cell_type": "markdown",
   "metadata": {}
  },
  {
   "cell_type": "code",
   "execution_count": 25,
   "metadata": {},
   "outputs": [
    {
     "output_type": "execute_result",
     "data": {
      "text/plain": [
       "  Depot (ZSG Area)  pole-consequence-cost  asset_count\n",
       "0     Albury Depot                20000.0         7506\n",
       "1     Albury Depot                40000.0         5195\n",
       "2     Albury Depot                60000.0          113\n",
       "3     Albury Depot                80000.0          385\n",
       "4     Albury Depot               100000.0          919"
      ],
      "text/html": "<div>\n<style scoped>\n    .dataframe tbody tr th:only-of-type {\n        vertical-align: middle;\n    }\n\n    .dataframe tbody tr th {\n        vertical-align: top;\n    }\n\n    .dataframe thead th {\n        text-align: right;\n    }\n</style>\n<table border=\"1\" class=\"dataframe\">\n  <thead>\n    <tr style=\"text-align: right;\">\n      <th></th>\n      <th>Depot (ZSG Area)</th>\n      <th>pole-consequence-cost</th>\n      <th>asset_count</th>\n    </tr>\n  </thead>\n  <tbody>\n    <tr>\n      <th>0</th>\n      <td>Albury Depot</td>\n      <td>20000.0</td>\n      <td>7506</td>\n    </tr>\n    <tr>\n      <th>1</th>\n      <td>Albury Depot</td>\n      <td>40000.0</td>\n      <td>5195</td>\n    </tr>\n    <tr>\n      <th>2</th>\n      <td>Albury Depot</td>\n      <td>60000.0</td>\n      <td>113</td>\n    </tr>\n    <tr>\n      <th>3</th>\n      <td>Albury Depot</td>\n      <td>80000.0</td>\n      <td>385</td>\n    </tr>\n    <tr>\n      <th>4</th>\n      <td>Albury Depot</td>\n      <td>100000.0</td>\n      <td>919</td>\n    </tr>\n  </tbody>\n</table>\n</div>"
     },
     "metadata": {},
     "execution_count": 25
    }
   ],
   "source": [
    "# TODO turn ino a function so it works for mutliple y vars\n",
    "pop_var = 'Total Consequence $'\n",
    "sens_var = 'pole-consequence-cost'\n",
    "uid_col = 'ASSET_ID'\n",
    "agg_cols = ['Depot (ZSG Area)']\n",
    "\n",
    "df_sens_var = pd.DataFrame(sens_vars[sens_var], columns= [sens_var])\n",
    "\n",
    "# Fill with average val\n",
    "df_cons[pop_var] = df_cons[pop_var].fillna(df_cons[pop_var].mean())\n",
    "\n",
    "# Match to the closest value from the model\n",
    "df = pd.merge_asof(\n",
    "    df_cons.sort_values(pop_var),\n",
    "    df_sens_var,\n",
    "    left_on = pop_var,\n",
    "    right_on = sens_var,\n",
    "    direction = 'forward'\n",
    ")\n",
    "\n",
    "# Remove columsns that aren't required\n",
    "col_to_keep = [uid_col] + agg_cols + [pop_var] + [sens_var]\n",
    "df = df[col_to_keep]\n",
    "\n",
    "# Count into sub populations\n",
    "by = agg_cols + [sens_var]\n",
    "df_pop = df.groupby(by=by)[uid_col].count().reset_index().rename(columns={uid_col:'asset_count'})\n",
    "df_pop.head()"
   ]
  },
  {
   "source": [
    "## Combine the models together"
   ],
   "cell_type": "markdown",
   "metadata": {}
  },
  {
   "cell_type": "code",
   "execution_count": 26,
   "metadata": {},
   "outputs": [
    {
     "output_type": "display_data",
     "data": {
      "application/vnd.plotly.v1+json": {
       "config": {
        "plotlyServerURL": "https://plot.ly"
       },
       "data": [
        {
         "hovertemplate": "Depot (ZSG Area)=all<br>pole-task_group_name-groundline-t_interval=%{x}<br>value_lost_pop=%{y}<extra></extra>",
         "legendgroup": "all",
         "line": {
          "color": "#636efa",
          "dash": "solid"
         },
         "mode": "lines",
         "name": "all",
         "showlegend": true,
         "type": "scattergl",
         "x": [
          12,
          18,
          24,
          30,
          36,
          42,
          48,
          54,
          60,
          66,
          72,
          78,
          84,
          90,
          96,
          102
         ],
         "xaxis": "x",
         "y": [
          14853773.676184371,
          5104877.143584316,
          3697270.4418275906,
          3191707.286442252,
          2308582.851840254,
          2044252.710306261,
          1744323.9858306423,
          1096042.4676720612,
          503275.50885891134,
          556795.1602059924,
          395790.6282757136,
          200604.10390176912,
          346842.4756653061,
          654796.3744587554,
          1346585.8552142244,
          1886068.0631656395
         ],
         "yaxis": "y"
        },
        {
         "hovertemplate": "Depot (ZSG Area)=Albury Depot<br>pole-task_group_name-groundline-t_interval=%{x}<br>value_lost_pop=%{y}<extra></extra>",
         "legendgroup": "Albury Depot",
         "line": {
          "color": "#EF553B",
          "dash": "solid"
         },
         "mode": "lines",
         "name": "Albury Depot",
         "showlegend": true,
         "type": "scattergl",
         "x": [
          12,
          18,
          24,
          30,
          36,
          42,
          48,
          54,
          60,
          66,
          72,
          78,
          84,
          90,
          96,
          102
         ],
         "xaxis": "x",
         "y": [
          231777.5650657736,
          88261.21832467463,
          66641.75040824841,
          59141.31595757201,
          43126.3377844558,
          38808.10437087807,
          35002.82933992277,
          23493.08091872636,
          9421.246810488838,
          12413.191208747598,
          9169.621752559804,
          4017.3666624793573,
          6623.059103638016,
          13245.903719086657,
          26838.58491687622,
          39576.7806350619
         ],
         "yaxis": "y"
        },
        {
         "hovertemplate": "Depot (ZSG Area)=Armidale Depot<br>pole-task_group_name-groundline-t_interval=%{x}<br>value_lost_pop=%{y}<extra></extra>",
         "legendgroup": "Armidale Depot",
         "line": {
          "color": "#00cc96",
          "dash": "solid"
         },
         "mode": "lines",
         "name": "Armidale Depot",
         "showlegend": true,
         "type": "scattergl",
         "x": [
          12,
          18,
          24,
          30,
          36,
          42,
          48,
          54,
          60,
          66,
          72,
          78,
          84,
          90,
          96,
          102
         ],
         "xaxis": "x",
         "y": [
          203595.3336247242,
          67390.03397135726,
          46540.993327186174,
          37768.04916814296,
          26329.619168931637,
          21913.346824961707,
          16852.2834012725,
          10089.88247990049,
          4568.069391800565,
          4738.8990693363185,
          3655.8342486175648,
          2545.4530185660024,
          3965.2291357854892,
          7176.9332028760455,
          14404.127274220265,
          19586.697100013258
         ],
         "yaxis": "y"
        },
        {
         "hovertemplate": "Depot (ZSG Area)=Ballina Depot<br>pole-task_group_name-groundline-t_interval=%{x}<br>value_lost_pop=%{y}<extra></extra>",
         "legendgroup": "Ballina Depot",
         "line": {
          "color": "#ab63fa",
          "dash": "solid"
         },
         "mode": "lines",
         "name": "Ballina Depot",
         "showlegend": true,
         "type": "scattergl",
         "x": [
          12,
          18,
          24,
          30,
          36,
          42,
          48,
          54,
          60,
          66,
          72,
          78,
          84,
          90,
          96,
          102
         ],
         "xaxis": "x",
         "y": [
          212263.5193012269,
          73216.87461353747,
          53722.196118689295,
          46153.40552525371,
          33034.529768833,
          29737.82435041183,
          24980.290708842036,
          15543.150050263173,
          6873.505151782824,
          7926.264362929042,
          5488.77395047943,
          2987.576641917675,
          4535.090013055312,
          8602.179566011944,
          18164.87139757734,
          26030.987161524426
         ],
         "yaxis": "y"
        },
        {
         "hovertemplate": "Depot (ZSG Area)=Balranald Depot<br>pole-task_group_name-groundline-t_interval=%{x}<br>value_lost_pop=%{y}<extra></extra>",
         "legendgroup": "Balranald Depot",
         "line": {
          "color": "#FFA15A",
          "dash": "solid"
         },
         "mode": "lines",
         "name": "Balranald Depot",
         "showlegend": true,
         "type": "scattergl",
         "x": [
          12,
          18,
          24,
          30,
          36,
          42,
          48,
          54,
          60,
          66,
          72,
          78,
          84,
          90,
          96,
          102
         ],
         "xaxis": "x",
         "y": [
          91811.05137940399,
          28925.829835567176,
          19615.055896410442,
          15188.225147313522,
          10221.339998808773,
          8321.914933482816,
          5563.39057787235,
          2978.7850546563113,
          1256.805713732228,
          1166.3764347589877,
          1024.7866934815438,
          1038.5551255563291,
          1234.4784186223992,
          2454.230300005806,
          5087.696245404401,
          6354.815999583491
         ],
         "yaxis": "y"
        },
        {
         "hovertemplate": "Depot (ZSG Area)=Barham Depot<br>pole-task_group_name-groundline-t_interval=%{x}<br>value_lost_pop=%{y}<extra></extra>",
         "legendgroup": "Barham Depot",
         "line": {
          "color": "#19d3f3",
          "dash": "solid"
         },
         "mode": "lines",
         "name": "Barham Depot",
         "showlegend": true,
         "type": "scattergl",
         "x": [
          12,
          18,
          24,
          30,
          36,
          42,
          48,
          54,
          60,
          66,
          72,
          78,
          84,
          90,
          96,
          102
         ],
         "xaxis": "x",
         "y": [
          56080.81981818808,
          17501.68566056013,
          11798.920258095854,
          9468.43702076497,
          6435.360634310068,
          5482.536312265619,
          3812.187359283507,
          2116.931383659619,
          774.3261590784525,
          937.7178256882014,
          763.1053582862628,
          681.3187519565898,
          732.538528874938,
          1629.4086454836915,
          3172.685481809342,
          3815.251511584912
         ],
         "yaxis": "y"
        },
        {
         "hovertemplate": "Depot (ZSG Area)=Barraba Depot<br>pole-task_group_name-groundline-t_interval=%{x}<br>value_lost_pop=%{y}<extra></extra>",
         "legendgroup": "Barraba Depot",
         "line": {
          "color": "#FF6692",
          "dash": "solid"
         },
         "mode": "lines",
         "name": "Barraba Depot",
         "showlegend": true,
         "type": "scattergl",
         "x": [
          12,
          18,
          24,
          30,
          36,
          42,
          48,
          54,
          60,
          66,
          72,
          78,
          84,
          90,
          96,
          102
         ],
         "xaxis": "x",
         "y": [
          102515.8243346163,
          31882.401774340175,
          21396.159444446297,
          17173.68117050694,
          11832.673665552573,
          9942.830540736113,
          6871.12243970114,
          3696.1005851717155,
          1351.523475616588,
          1481.0336733077352,
          1269.1312148934778,
          1241.4898793161253,
          1492.1716774797035,
          3247.0091880010323,
          6078.41805900213,
          6931.326311468172
         ],
         "yaxis": "y"
        },
        {
         "hovertemplate": "Depot (ZSG Area)=Bathurst Depot<br>pole-task_group_name-groundline-t_interval=%{x}<br>value_lost_pop=%{y}<extra></extra>",
         "legendgroup": "Bathurst Depot",
         "line": {
          "color": "#B6E880",
          "dash": "solid"
         },
         "mode": "lines",
         "name": "Bathurst Depot",
         "showlegend": true,
         "type": "scattergl",
         "x": [
          12,
          18,
          24,
          30,
          36,
          42,
          48,
          54,
          60,
          66,
          72,
          78,
          84,
          90,
          96,
          102
         ],
         "xaxis": "x",
         "y": [
          273958.24809057685,
          113320.00327797155,
          90838.07205104172,
          93860.0913432968,
          71335.28635386004,
          73375.04609069762,
          72122.19918987068,
          53416.196719113956,
          23976.028685390822,
          34289.15464229327,
          22535.288190499276,
          4603.343507705071,
          6812.635818435304,
          18467.64540091325,
          41036.05735437857,
          70896.86745987886
         ],
         "yaxis": "y"
        },
        {
         "hovertemplate": "Depot (ZSG Area)=Bega Depot<br>pole-task_group_name-groundline-t_interval=%{x}<br>value_lost_pop=%{y}<extra></extra>",
         "legendgroup": "Bega Depot",
         "line": {
          "color": "#FF97FF",
          "dash": "solid"
         },
         "mode": "lines",
         "name": "Bega Depot",
         "showlegend": true,
         "type": "scattergl",
         "x": [
          12,
          18,
          24,
          30,
          36,
          42,
          48,
          54,
          60,
          66,
          72,
          78,
          84,
          90,
          96,
          102
         ],
         "xaxis": "x",
         "y": [
          283273.4530915691,
          99980.54514900876,
          73895.99500625182,
          65320.29733118293,
          48706.41266025053,
          42913.56632186034,
          38933.61788191204,
          24735.495565820547,
          12526.380661726087,
          12492.976641057827,
          8708.419419125135,
          3726.1870867466823,
          8524.01815220157,
          14966.965410077522,
          30987.01782567071,
          43675.040002919624
         ],
         "yaxis": "y"
        },
        {
         "hovertemplate": "Depot (ZSG Area)=Berrigan Depot<br>pole-task_group_name-groundline-t_interval=%{x}<br>value_lost_pop=%{y}<extra></extra>",
         "legendgroup": "Berrigan Depot",
         "line": {
          "color": "#FECB52",
          "dash": "solid"
         },
         "mode": "lines",
         "name": "Berrigan Depot",
         "showlegend": true,
         "type": "scattergl",
         "x": [
          12,
          18,
          24,
          30,
          36,
          42,
          48,
          54,
          60,
          66,
          72,
          78,
          84,
          90,
          96,
          102
         ],
         "xaxis": "x",
         "y": [
          204577.63780435134,
          73198.35003779466,
          52177.425349008765,
          47046.24168079276,
          35053.31933559812,
          30811.127206139765,
          28064.128772218766,
          19046.423834189594,
          8876.150945196861,
          10413.671688338778,
          7646.019301424412,
          2826.4873627260877,
          5864.343840249508,
          11516.537401542495,
          22447.375142804638,
          32083.642792288578
         ],
         "yaxis": "y"
        },
        {
         "hovertemplate": "Depot (ZSG Area)=Blayney Depot<br>pole-task_group_name-groundline-t_interval=%{x}<br>value_lost_pop=%{y}<extra></extra>",
         "legendgroup": "Blayney Depot",
         "line": {
          "color": "#636efa",
          "dash": "solid"
         },
         "mode": "lines",
         "name": "Blayney Depot",
         "showlegend": true,
         "type": "scattergl",
         "x": [
          12,
          18,
          24,
          30,
          36,
          42,
          48,
          54,
          60,
          66,
          72,
          78,
          84,
          90,
          96,
          102
         ],
         "xaxis": "x",
         "y": [
          100625.07519420261,
          35383.93602597708,
          25004.66104328761,
          23280.754043409015,
          16934.91766064357,
          15751.669152434968,
          15071.381583272825,
          10804.345651718573,
          5766.168355008748,
          6881.278041579356,
          4479.408628103999,
          1072.600293099429,
          2787.5670921258893,
          5102.321093925068,
          10950.911905193238,
          17374.514799934885
         ],
         "yaxis": "y"
        },
        {
         "hovertemplate": "Depot (ZSG Area)=Bombala Depot<br>pole-task_group_name-groundline-t_interval=%{x}<br>value_lost_pop=%{y}<extra></extra>",
         "legendgroup": "Bombala Depot",
         "line": {
          "color": "#EF553B",
          "dash": "solid"
         },
         "mode": "lines",
         "name": "Bombala Depot",
         "showlegend": true,
         "type": "scattergl",
         "x": [
          12,
          18,
          24,
          30,
          36,
          42,
          48,
          54,
          60,
          66,
          72,
          78,
          84,
          90,
          96,
          102
         ],
         "xaxis": "x",
         "y": [
          74012.9057323835,
          24426.492866085893,
          16139.623821536321,
          13458.95012816025,
          9515.376264746048,
          7644.58093968688,
          6855.047064284293,
          4529.251838848924,
          2948.377306602937,
          2609.260418366082,
          1732.8993407213075,
          650.406078458113,
          2238.5196540373545,
          3213.8308395745294,
          6592.260236580209,
          9618.996020964076
         ],
         "yaxis": "y"
        },
        {
         "hovertemplate": "Depot (ZSG Area)=Boorowa Depot<br>pole-task_group_name-groundline-t_interval=%{x}<br>value_lost_pop=%{y}<extra></extra>",
         "legendgroup": "Boorowa Depot",
         "line": {
          "color": "#00cc96",
          "dash": "solid"
         },
         "mode": "lines",
         "name": "Boorowa Depot",
         "showlegend": true,
         "type": "scattergl",
         "x": [
          12,
          18,
          24,
          30,
          36,
          42,
          48,
          54,
          60,
          66,
          72,
          78,
          84,
          90,
          96,
          102
         ],
         "xaxis": "x",
         "y": [
          81395.10822979454,
          27260.205593028506,
          18676.286129594453,
          16991.24709708714,
          12465.47324090725,
          11040.110822917572,
          10463.379224177343,
          7336.140932378227,
          4095.936371801801,
          4437.275504774287,
          3063.1538089195687,
          728.671178926249,
          2262.4897765640344,
          4273.350269421407,
          8882.056559809595,
          12768.296920599216
         ],
         "yaxis": "y"
        },
        {
         "hovertemplate": "Depot (ZSG Area)=Bourke Depot<br>pole-task_group_name-groundline-t_interval=%{x}<br>value_lost_pop=%{y}<extra></extra>",
         "legendgroup": "Bourke Depot",
         "line": {
          "color": "#ab63fa",
          "dash": "solid"
         },
         "mode": "lines",
         "name": "Bourke Depot",
         "showlegend": true,
         "type": "scattergl",
         "x": [
          12,
          18,
          24,
          30,
          36,
          42,
          48,
          54,
          60,
          66,
          72,
          78,
          84,
          90,
          96,
          102
         ],
         "xaxis": "x",
         "y": [
          200246.20450880815,
          61517.051154205605,
          40806.97350600998,
          31959.705613394563,
          21644.627066312023,
          17760.69801628782,
          11439.766747766935,
          5555.843028291524,
          1666.291672827724,
          1737.3055133452697,
          1716.2922740536721,
          2518.6625771014046,
          2799.7198300931514,
          5796.902681934205,
          10487.06042990833,
          11189.482715085811
         ],
         "yaxis": "y"
        },
        {
         "hovertemplate": "Depot (ZSG Area)=Braidwood Depot<br>pole-task_group_name-groundline-t_interval=%{x}<br>value_lost_pop=%{y}<extra></extra>",
         "legendgroup": "Braidwood Depot",
         "line": {
          "color": "#FFA15A",
          "dash": "solid"
         },
         "mode": "lines",
         "name": "Braidwood Depot",
         "showlegend": true,
         "type": "scattergl",
         "x": [
          12,
          18,
          24,
          30,
          36,
          42,
          48,
          54,
          60,
          66,
          72,
          78,
          84,
          90,
          96,
          102
         ],
         "xaxis": "x",
         "y": [
          65290.34369114301,
          22855.359487895912,
          16913.523107236928,
          15231.852613350726,
          11461.726775360883,
          10227.611971055372,
          9465.648597796473,
          6028.10873898152,
          3128.392835117225,
          3098.0010447242894,
          2109.5294189252777,
          827.1100372070944,
          2080.2534902485204,
          3657.1222681860454,
          7539.074334745047,
          10485.929076455155
         ],
         "yaxis": "y"
        },
        {
         "hovertemplate": "Depot (ZSG Area)=Broken Hill Depot<br>pole-task_group_name-groundline-t_interval=%{x}<br>value_lost_pop=%{y}<extra></extra>",
         "legendgroup": "Broken Hill Depot",
         "line": {
          "color": "#19d3f3",
          "dash": "solid"
         },
         "mode": "lines",
         "name": "Broken Hill Depot",
         "showlegend": true,
         "type": "scattergl",
         "x": [
          12,
          18,
          24,
          30,
          36,
          42,
          48,
          54,
          60,
          66,
          72,
          78,
          84,
          90,
          96,
          102
         ],
         "xaxis": "x",
         "y": [
          206674.43103133776,
          72750.18172706701,
          51432.01463371785,
          39690.2069194467,
          25987.515722246244,
          20577.840420977715,
          15949.027959529782,
          8999.662747460327,
          2712.4071959209714,
          3366.4817387723724,
          2917.037425459841,
          3331.9727134907616,
          6196.611132196452,
          9650.12435081019,
          18539.487162067857,
          23855.51744407971
         ],
         "yaxis": "y"
        },
        {
         "hovertemplate": "Depot (ZSG Area)=Bulahdelah Depot<br>pole-task_group_name-groundline-t_interval=%{x}<br>value_lost_pop=%{y}<extra></extra>",
         "legendgroup": "Bulahdelah Depot",
         "line": {
          "color": "#FF6692",
          "dash": "solid"
         },
         "mode": "lines",
         "name": "Bulahdelah Depot",
         "showlegend": true,
         "type": "scattergl",
         "x": [
          12,
          18,
          24,
          30,
          36,
          42,
          48,
          54,
          60,
          66,
          72,
          78,
          84,
          90,
          96,
          102
         ],
         "xaxis": "x",
         "y": [
          119523.91505968933,
          46189.863199190746,
          35657.512152665106,
          30128.359675914453,
          22430.713689304655,
          18798.379538149617,
          16423.55032795349,
          9674.630881357923,
          3828.5400953683634,
          3716.937192272258,
          2963.9263955109363,
          2449.905034708221,
          4028.5611609320194,
          6231.363429255527,
          12308.575210549076,
          17868.431467841092
         ],
         "yaxis": "y"
        },
        {
         "hovertemplate": "Depot (ZSG Area)=Buronga Depot<br>pole-task_group_name-groundline-t_interval=%{x}<br>value_lost_pop=%{y}<extra></extra>",
         "legendgroup": "Buronga Depot",
         "line": {
          "color": "#B6E880",
          "dash": "solid"
         },
         "mode": "lines",
         "name": "Buronga Depot",
         "showlegend": true,
         "type": "scattergl",
         "x": [
          12,
          18,
          24,
          30,
          36,
          42,
          48,
          54,
          60,
          66,
          72,
          78,
          84,
          90,
          96,
          102
         ],
         "xaxis": "x",
         "y": [
          124187.6553937138,
          40158.98487445096,
          27642.52935890114,
          22690.261186040276,
          15901.22802703461,
          13390.08202703988,
          10359.76494597808,
          5999.3759431740655,
          2537.535877451935,
          2666.0515855070985,
          2113.629594092616,
          1596.90482436822,
          2397.01217199868,
          4554.648217121239,
          8891.554299288657,
          11236.193341978826
         ],
         "yaxis": "y"
        },
        {
         "hovertemplate": "Depot (ZSG Area)=Canowindra Depot<br>pole-task_group_name-groundline-t_interval=%{x}<br>value_lost_pop=%{y}<extra></extra>",
         "legendgroup": "Canowindra Depot",
         "line": {
          "color": "#FF97FF",
          "dash": "solid"
         },
         "mode": "lines",
         "name": "Canowindra Depot",
         "showlegend": true,
         "type": "scattergl",
         "x": [
          12,
          18,
          24,
          30,
          36,
          42,
          48,
          54,
          60,
          66,
          72,
          78,
          84,
          90,
          96,
          102
         ],
         "xaxis": "x",
         "y": [
          84551.73190358044,
          27752.645646277597,
          18589.533753871532,
          15374.934622290488,
          11114.423514242057,
          8687.119625636766,
          7716.406269716292,
          5028.9282912397375,
          3195.1566519487706,
          2591.1282974661863,
          1983.849179240587,
          691.2606433644339,
          2424.166516754114,
          3995.9626854808566,
          8237.658172860009,
          11144.658534545382
         ],
         "yaxis": "y"
        },
        {
         "hovertemplate": "Depot (ZSG Area)=Casino Depot<br>pole-task_group_name-groundline-t_interval=%{x}<br>value_lost_pop=%{y}<extra></extra>",
         "legendgroup": "Casino Depot",
         "line": {
          "color": "#FECB52",
          "dash": "solid"
         },
         "mode": "lines",
         "name": "Casino Depot",
         "showlegend": true,
         "type": "scattergl",
         "x": [
          12,
          18,
          24,
          30,
          36,
          42,
          48,
          54,
          60,
          66,
          72,
          78,
          84,
          90,
          96,
          102
         ],
         "xaxis": "x",
         "y": [
          175274.997862397,
          56511.28745636831,
          38877.037365841825,
          31388.336046207543,
          21878.498567866012,
          18148.177597163925,
          13820.261939635324,
          7788.397747981328,
          3633.631387869958,
          3343.0985340996945,
          2571.922242149896,
          2133.5547153295083,
          3484.310250723125,
          6087.765455131729,
          12153.390436931955,
          15574.833751361031
         ],
         "yaxis": "y"
        },
        {
         "hovertemplate": "Depot (ZSG Area)=Cobar Depot<br>pole-task_group_name-groundline-t_interval=%{x}<br>value_lost_pop=%{y}<extra></extra>",
         "legendgroup": "Cobar Depot",
         "line": {
          "color": "#636efa",
          "dash": "solid"
         },
         "mode": "lines",
         "name": "Cobar Depot",
         "showlegend": true,
         "type": "scattergl",
         "x": [
          12,
          18,
          24,
          30,
          36,
          42,
          48,
          54,
          60,
          66,
          72,
          78,
          84,
          90,
          96,
          102
         ],
         "xaxis": "x",
         "y": [
          100902.96899065815,
          31365.476764433417,
          20989.843289756373,
          16997.882374058587,
          11720.796786393777,
          9829.82454637581,
          7083.141710811573,
          3969.820408183694,
          1511.8507851581785,
          1700.7160399399322,
          1465.6269789297794,
          1211.0960559022656,
          1528.9396316721188,
          3347.6779230090788,
          6365.0831964358285,
          7373.536616183845
         ],
         "yaxis": "y"
        },
        {
         "hovertemplate": "Depot (ZSG Area)=Coffs Harbour Depot<br>pole-task_group_name-groundline-t_interval=%{x}<br>value_lost_pop=%{y}<extra></extra>",
         "legendgroup": "Coffs Harbour Depot",
         "line": {
          "color": "#EF553B",
          "dash": "solid"
         },
         "mode": "lines",
         "name": "Coffs Harbour Depot",
         "showlegend": true,
         "type": "scattergl",
         "x": [
          12,
          18,
          24,
          30,
          36,
          42,
          48,
          54,
          60,
          66,
          72,
          78,
          84,
          90,
          96,
          102
         ],
         "xaxis": "x",
         "y": [
          278702.9064593088,
          99361.1529859418,
          75123.2622392268,
          63882.486940822004,
          46652.96836782975,
          41235.996648002496,
          34567.154444145934,
          20536.516556494997,
          9157.951231339957,
          9234.288501091018,
          6407.523014449334,
          4260.440585177715,
          7131.517954415326,
          12370.492993730611,
          25794.56974974429,
          36427.613432059705
         ],
         "yaxis": "y"
        },
        {
         "hovertemplate": "Depot (ZSG Area)=Condobolin Depot<br>pole-task_group_name-groundline-t_interval=%{x}<br>value_lost_pop=%{y}<extra></extra>",
         "legendgroup": "Condobolin Depot",
         "line": {
          "color": "#00cc96",
          "dash": "solid"
         },
         "mode": "lines",
         "name": "Condobolin Depot",
         "showlegend": true,
         "type": "scattergl",
         "x": [
          12,
          18,
          24,
          30,
          36,
          42,
          48,
          54,
          60,
          66,
          72,
          78,
          84,
          90,
          96,
          102
         ],
         "xaxis": "x",
         "y": [
          123673.40376834455,
          38674.98978148757,
          25282.491093503213,
          19942.588407026073,
          13422.51160112855,
          10659.817537916533,
          7856.078942022796,
          4410.930731718043,
          2174.4459881070625,
          2010.0354587954016,
          1582.1529171841462,
          1411.2235481765954,
          2417.317426862235,
          3912.6283729616234,
          7577.935722960937,
          9605.291614795253
         ],
         "yaxis": "y"
        },
        {
         "hovertemplate": "Depot (ZSG Area)=Coolamon Depot<br>pole-task_group_name-groundline-t_interval=%{x}<br>value_lost_pop=%{y}<extra></extra>",
         "legendgroup": "Coolamon Depot",
         "line": {
          "color": "#ab63fa",
          "dash": "solid"
         },
         "mode": "lines",
         "name": "Coolamon Depot",
         "showlegend": true,
         "type": "scattergl",
         "x": [
          12,
          18,
          24,
          30,
          36,
          42,
          48,
          54,
          60,
          66,
          72,
          78,
          84,
          90,
          96,
          102
         ],
         "xaxis": "x",
         "y": [
          62331.0077761956,
          21082.63858957819,
          14795.639720949499,
          13756.073759624318,
          10168.041866173351,
          9507.41199942705,
          8650.089214192902,
          6078.80381752208,
          3215.212845166889,
          3768.0323461688376,
          2504.1833849597097,
          564.3699062180025,
          1444.1978445087889,
          3157.7319669069734,
          6586.805848843167,
          9656.484604771671
         ],
         "yaxis": "y"
        },
        {
         "hovertemplate": "Depot (ZSG Area)=Cooma Depot<br>pole-task_group_name-groundline-t_interval=%{x}<br>value_lost_pop=%{y}<extra></extra>",
         "legendgroup": "Cooma Depot",
         "line": {
          "color": "#FFA15A",
          "dash": "solid"
         },
         "mode": "lines",
         "name": "Cooma Depot",
         "showlegend": true,
         "type": "scattergl",
         "x": [
          12,
          18,
          24,
          30,
          36,
          42,
          48,
          54,
          60,
          66,
          72,
          78,
          84,
          90,
          96,
          102
         ],
         "xaxis": "x",
         "y": [
          182158.78913789132,
          70815.0848893886,
          54079.06785528048,
          51787.64986146529,
          39117.29383351138,
          37328.10894065869,
          35241.88687568175,
          24937.750174200108,
          11432.81503495618,
          14851.06254645326,
          10059.027608396698,
          2850.8427010391524,
          5119.298207739533,
          11028.866433600457,
          23019.92067360897,
          36918.06718937151
         ],
         "yaxis": "y"
        },
        {
         "hovertemplate": "Depot (ZSG Area)=Coonabarabran Depot<br>pole-task_group_name-groundline-t_interval=%{x}<br>value_lost_pop=%{y}<extra></extra>",
         "legendgroup": "Coonabarabran Depot",
         "line": {
          "color": "#19d3f3",
          "dash": "solid"
         },
         "mode": "lines",
         "name": "Coonabarabran Depot",
         "showlegend": true,
         "type": "scattergl",
         "x": [
          12,
          18,
          24,
          30,
          36,
          42,
          48,
          54,
          60,
          66,
          72,
          78,
          84,
          90,
          96,
          102
         ],
         "xaxis": "x",
         "y": [
          129368.78575800473,
          41514.21442017049,
          28304.899400856026,
          23482.358328663286,
          16310.728760386533,
          14105.24374842415,
          11004.883587093014,
          6871.054484120404,
          3270.0396995963106,
          3661.1090640801676,
          2674.7787963981573,
          1402.446058705232,
          2141.8742820685884,
          4410.164176270608,
          9113.107762581272,
          12305.87922426645
         ],
         "yaxis": "y"
        },
        {
         "hovertemplate": "Depot (ZSG Area)=Coonamble Depot<br>pole-task_group_name-groundline-t_interval=%{x}<br>value_lost_pop=%{y}<extra></extra>",
         "legendgroup": "Coonamble Depot",
         "line": {
          "color": "#FF6692",
          "dash": "solid"
         },
         "mode": "lines",
         "name": "Coonamble Depot",
         "showlegend": true,
         "type": "scattergl",
         "x": [
          12,
          18,
          24,
          30,
          36,
          42,
          48,
          54,
          60,
          66,
          72,
          78,
          84,
          90,
          96,
          102
         ],
         "xaxis": "x",
         "y": [
          117885.89066047773,
          36674.75321660395,
          24593.94190332765,
          19467.542820976003,
          13333.880003830203,
          11087.657434680343,
          7401.804424597051,
          3826.659688216746,
          1393.0161891097678,
          1417.2292983632215,
          1229.3659213087549,
          1424.607572266792,
          1704.8353836027977,
          3543.7723554506656,
          6613.537459025363,
          7519.180144421806
         ],
         "yaxis": "y"
        },
        {
         "hovertemplate": "Depot (ZSG Area)=Cootamundra Depot<br>pole-task_group_name-groundline-t_interval=%{x}<br>value_lost_pop=%{y}<extra></extra>",
         "legendgroup": "Cootamundra Depot",
         "line": {
          "color": "#B6E880",
          "dash": "solid"
         },
         "mode": "lines",
         "name": "Cootamundra Depot",
         "showlegend": true,
         "type": "scattergl",
         "x": [
          12,
          18,
          24,
          30,
          36,
          42,
          48,
          54,
          60,
          66,
          72,
          78,
          84,
          90,
          96,
          102
         ],
         "xaxis": "x",
         "y": [
          84357.93492145842,
          31864.70920639157,
          24729.60991669558,
          21862.928562959805,
          16711.29831141875,
          14724.560208474559,
          13080.13087487924,
          7989.842209225213,
          3575.0160732885142,
          3537.855749456998,
          2555.1875997827215,
          1453.4882555480567,
          2820.2846038723333,
          4985.751684407833,
          9904.368525290156,
          13853.74032092484
         ],
         "yaxis": "y"
        },
        {
         "hovertemplate": "Depot (ZSG Area)=Corowa Depot<br>pole-task_group_name-groundline-t_interval=%{x}<br>value_lost_pop=%{y}<extra></extra>",
         "legendgroup": "Corowa Depot",
         "line": {
          "color": "#FF97FF",
          "dash": "solid"
         },
         "mode": "lines",
         "name": "Corowa Depot",
         "showlegend": true,
         "type": "scattergl",
         "x": [
          12,
          18,
          24,
          30,
          36,
          42,
          48,
          54,
          60,
          66,
          72,
          78,
          84,
          90,
          96,
          102
         ],
         "xaxis": "x",
         "y": [
          99073.12171924491,
          33492.55107003761,
          23694.641757623056,
          20033.39863131119,
          14836.509732316135,
          12244.390765878365,
          10714.999152080398,
          6625.685322690009,
          3771.5142241040753,
          3110.91770234632,
          2309.4738618020347,
          1032.0337596991499,
          2906.90970690823,
          4951.753133821839,
          10113.885660016595,
          13500.715203525058
         ],
         "yaxis": "y"
        },
        {
         "hovertemplate": "Depot (ZSG Area)=Cowra Depot<br>pole-task_group_name-groundline-t_interval=%{x}<br>value_lost_pop=%{y}<extra></extra>",
         "legendgroup": "Cowra Depot",
         "line": {
          "color": "#FECB52",
          "dash": "solid"
         },
         "mode": "lines",
         "name": "Cowra Depot",
         "showlegend": true,
         "type": "scattergl",
         "x": [
          12,
          18,
          24,
          30,
          36,
          42,
          48,
          54,
          60,
          66,
          72,
          78,
          84,
          90,
          96,
          102
         ],
         "xaxis": "x",
         "y": [
          251188.87992591242,
          81433.18963462464,
          56259.29884085508,
          45921.839701480356,
          32461.895597998187,
          27104.5266093152,
          20972.73987655703,
          11926.575857859865,
          5758.789324391172,
          5183.807138961692,
          3880.7294028706706,
          3010.27437432022,
          5333.661170666564,
          9348.123454312718,
          18460.62893888532,
          23612.8325320771
         ],
         "yaxis": "y"
        },
        {
         "hovertemplate": "Depot (ZSG Area)=Crookwell Depot<br>pole-task_group_name-groundline-t_interval=%{x}<br>value_lost_pop=%{y}<extra></extra>",
         "legendgroup": "Crookwell Depot",
         "line": {
          "color": "#636efa",
          "dash": "solid"
         },
         "mode": "lines",
         "name": "Crookwell Depot",
         "showlegend": true,
         "type": "scattergl",
         "x": [
          12,
          18,
          24,
          30,
          36,
          42,
          48,
          54,
          60,
          66,
          72,
          78,
          84,
          90,
          96,
          102
         ],
         "xaxis": "x",
         "y": [
          108542.563474497,
          39248.26228848744,
          29365.14995592493,
          30673.226866902798,
          22915.162087008415,
          24107.995955450206,
          23548.44306954203,
          17934.5016194579,
          9053.791428763974,
          12368.750509061423,
          7896.52456743134,
          900.242784156928,
          1940.5456434078221,
          6175.064973063864,
          14340.902899384986,
          24026.94214129401
         ],
         "yaxis": "y"
        },
        {
         "hovertemplate": "Depot (ZSG Area)=Culcairn Depot<br>pole-task_group_name-groundline-t_interval=%{x}<br>value_lost_pop=%{y}<extra></extra>",
         "legendgroup": "Culcairn Depot",
         "line": {
          "color": "#EF553B",
          "dash": "solid"
         },
         "mode": "lines",
         "name": "Culcairn Depot",
         "showlegend": true,
         "type": "scattergl",
         "x": [
          12,
          18,
          24,
          30,
          36,
          42,
          48,
          54,
          60,
          66,
          72,
          78,
          84,
          90,
          96,
          102
         ],
         "xaxis": "x",
         "y": [
          148584.0924183369,
          47835.915372033305,
          31254.692177254306,
          25278.351811126653,
          18353.990059542662,
          13571.678382222235,
          11703.759493864629,
          7024.174505676191,
          4661.1898436749625,
          3056.0469757499955,
          2511.0406824208376,
          1329.8787108373244,
          4692.936440580108,
          7238.6185665613175,
          13922.964241951382,
          17502.49144315858
         ],
         "yaxis": "y"
        },
        {
         "hovertemplate": "Depot (ZSG Area)=Deniliquin Depot<br>pole-task_group_name-groundline-t_interval=%{x}<br>value_lost_pop=%{y}<extra></extra>",
         "legendgroup": "Deniliquin Depot",
         "line": {
          "color": "#00cc96",
          "dash": "solid"
         },
         "mode": "lines",
         "name": "Deniliquin Depot",
         "showlegend": true,
         "type": "scattergl",
         "x": [
          12,
          18,
          24,
          30,
          36,
          42,
          48,
          54,
          60,
          66,
          72,
          78,
          84,
          90,
          96,
          102
         ],
         "xaxis": "x",
         "y": [
          204471.01284776896,
          73733.77800164395,
          56670.730754380544,
          50123.94516299857,
          38032.7537416261,
          33265.803226962475,
          30611.552005214227,
          18407.75712491259,
          8761.123913970678,
          8042.540094425232,
          5836.314393422474,
          3245.597765386763,
          7030.637488292921,
          11914.704190042565,
          24374.264522924615,
          32860.712514671664
         ],
         "yaxis": "y"
        },
        {
         "hovertemplate": "Depot (ZSG Area)=Dorrigo Depot<br>pole-task_group_name-groundline-t_interval=%{x}<br>value_lost_pop=%{y}<extra></extra>",
         "legendgroup": "Dorrigo Depot",
         "line": {
          "color": "#ab63fa",
          "dash": "solid"
         },
         "mode": "lines",
         "name": "Dorrigo Depot",
         "showlegend": true,
         "type": "scattergl",
         "x": [
          12,
          18,
          24,
          30,
          36,
          42,
          48,
          54,
          60,
          66,
          72,
          78,
          84,
          90,
          96,
          102
         ],
         "xaxis": "x",
         "y": [
          88932.5629666525,
          29095.269461771866,
          20089.852821677046,
          16456.26638512917,
          11458.310925532069,
          9695.857556904703,
          7708.905213102753,
          4689.348149920417,
          2430.7189743327644,
          2389.769607629573,
          1674.7829711124448,
          992.3517976843376,
          1807.1629663464923,
          3075.5031381617673,
          6465.525615192596,
          9045.839912199595
         ],
         "yaxis": "y"
        },
        {
         "hovertemplate": "Depot (ZSG Area)=Dubbo Depot<br>pole-task_group_name-groundline-t_interval=%{x}<br>value_lost_pop=%{y}<extra></extra>",
         "legendgroup": "Dubbo Depot",
         "line": {
          "color": "#FFA15A",
          "dash": "solid"
         },
         "mode": "lines",
         "name": "Dubbo Depot",
         "showlegend": true,
         "type": "scattergl",
         "x": [
          12,
          18,
          24,
          30,
          36,
          42,
          48,
          54,
          60,
          66,
          72,
          78,
          84,
          90,
          96,
          102
         ],
         "xaxis": "x",
         "y": [
          261404.6677697114,
          91114.05590693519,
          68359.19238995537,
          57018.65922116195,
          41205.47329941626,
          35641.271227996745,
          29910.064467643064,
          16819.52743235013,
          7988.2086805220315,
          6941.405220894777,
          4627.053589015826,
          3986.4531180032736,
          7117.693987610521,
          10618.762802641728,
          22483.025978281472,
          31525.210038747224
         ],
         "yaxis": "y"
        },
        {
         "hovertemplate": "Depot (ZSG Area)=Dunedoo Depot<br>pole-task_group_name-groundline-t_interval=%{x}<br>value_lost_pop=%{y}<extra></extra>",
         "legendgroup": "Dunedoo Depot",
         "line": {
          "color": "#19d3f3",
          "dash": "solid"
         },
         "mode": "lines",
         "name": "Dunedoo Depot",
         "showlegend": true,
         "type": "scattergl",
         "x": [
          12,
          18,
          24,
          30,
          36,
          42,
          48,
          54,
          60,
          66,
          72,
          78,
          84,
          90,
          96,
          102
         ],
         "xaxis": "x",
         "y": [
          116044.60794064416,
          38036.92177565971,
          27013.979152704695,
          22140.458696492617,
          15409.652640561391,
          13315.581662890727,
          10395.26281324903,
          6065.769023467175,
          2659.1348162827535,
          2800.947524598249,
          2077.5428144989382,
          1489.443676580338,
          2030.1923797385455,
          3818.6176708428075,
          8150.6862654035585,
          11006.041596720792
         ],
         "yaxis": "y"
        },
        {
         "hovertemplate": "Depot (ZSG Area)=Dungog Depot<br>pole-task_group_name-groundline-t_interval=%{x}<br>value_lost_pop=%{y}<extra></extra>",
         "legendgroup": "Dungog Depot",
         "line": {
          "color": "#FF6692",
          "dash": "solid"
         },
         "mode": "lines",
         "name": "Dungog Depot",
         "showlegend": true,
         "type": "scattergl",
         "x": [
          12,
          18,
          24,
          30,
          36,
          42,
          48,
          54,
          60,
          66,
          72,
          78,
          84,
          90,
          96,
          102
         ],
         "xaxis": "x",
         "y": [
          128135.05253777899,
          42329.75631088957,
          29007.658018779937,
          23321.211557661776,
          16353.943832351893,
          12983.805832792266,
          10698.311178057882,
          6475.247761951033,
          3714.6487302566998,
          3051.352095562742,
          2305.2691010853496,
          1375.3993051514844,
          3185.1470419393013,
          4913.940231254971,
          10291.810044232947,
          14236.121407855817
         ],
         "yaxis": "y"
        },
        {
         "hovertemplate": "Depot (ZSG Area)=Ewingsdale Depot<br>pole-task_group_name-groundline-t_interval=%{x}<br>value_lost_pop=%{y}<extra></extra>",
         "legendgroup": "Ewingsdale Depot",
         "line": {
          "color": "#B6E880",
          "dash": "solid"
         },
         "mode": "lines",
         "name": "Ewingsdale Depot",
         "showlegend": true,
         "type": "scattergl",
         "x": [
          12,
          18,
          24,
          30,
          36,
          42,
          48,
          54,
          60,
          66,
          72,
          78,
          84,
          90,
          96,
          102
         ],
         "xaxis": "x",
         "y": [
          151433.37411180206,
          52142.42050942539,
          38947.58656575023,
          33150.11697589694,
          24000.071782297695,
          21353.111270990987,
          17753.977701690685,
          10460.56790989267,
          4511.559129743654,
          4713.73608352489,
          3356.5331815325426,
          2250.1888258723952,
          3343.1012262029817,
          6169.440284266308,
          12999.344247958577,
          17851.01872037121
         ],
         "yaxis": "y"
        },
        {
         "hovertemplate": "Depot (ZSG Area)=Forbes Depot<br>pole-task_group_name-groundline-t_interval=%{x}<br>value_lost_pop=%{y}<extra></extra>",
         "legendgroup": "Forbes Depot",
         "line": {
          "color": "#FF97FF",
          "dash": "solid"
         },
         "mode": "lines",
         "name": "Forbes Depot",
         "showlegend": true,
         "type": "scattergl",
         "x": [
          12,
          18,
          24,
          30,
          36,
          42,
          48,
          54,
          60,
          66,
          72,
          78,
          84,
          90,
          96,
          102
         ],
         "xaxis": "x",
         "y": [
          142581.6066000996,
          47739.08646687973,
          35221.90145427432,
          28932.45060816137,
          21335.279390256288,
          17685.613887362866,
          14167.554485864737,
          7131.2995810818375,
          2929.9081956660557,
          1812.4289741117123,
          1657.4273706474978,
          2198.230609399296,
          3831.846814462664,
          6476.9260865557135,
          12511.22379685457,
          14551.955133526442
         ],
         "yaxis": "y"
        },
        {
         "hovertemplate": "Depot (ZSG Area)=Gilgandra Depot<br>pole-task_group_name-groundline-t_interval=%{x}<br>value_lost_pop=%{y}<extra></extra>",
         "legendgroup": "Gilgandra Depot",
         "line": {
          "color": "#FECB52",
          "dash": "solid"
         },
         "mode": "lines",
         "name": "Gilgandra Depot",
         "showlegend": true,
         "type": "scattergl",
         "x": [
          12,
          18,
          24,
          30,
          36,
          42,
          48,
          54,
          60,
          66,
          72,
          78,
          84,
          90,
          96,
          102
         ],
         "xaxis": "x",
         "y": [
          101611.6761969573,
          32306.351551193453,
          21777.49493197223,
          17009.28376636971,
          11778.571611515963,
          9042.496049601767,
          6820.348235074892,
          3644.0141468800502,
          1851.0091817067153,
          1239.971943541837,
          1187.7041314664607,
          1171.9381448189338,
          2219.626675225611,
          3634.473208768923,
          7220.41784501896,
          8782.29278404452
         ],
         "yaxis": "y"
        },
        {
         "hovertemplate": "Depot (ZSG Area)=Glen Innes Depot<br>pole-task_group_name-groundline-t_interval=%{x}<br>value_lost_pop=%{y}<extra></extra>",
         "legendgroup": "Glen Innes Depot",
         "line": {
          "color": "#636efa",
          "dash": "solid"
         },
         "mode": "lines",
         "name": "Glen Innes Depot",
         "showlegend": true,
         "type": "scattergl",
         "x": [
          12,
          18,
          24,
          30,
          36,
          42,
          48,
          54,
          60,
          66,
          72,
          78,
          84,
          90,
          96,
          102
         ],
         "xaxis": "x",
         "y": [
          132875.78994741652,
          43324.60263798301,
          30520.656437088346,
          25051.100160193793,
          17882.724800260377,
          15124.67195658206,
          11664.71078155229,
          6369.831503602727,
          2807.8060750806917,
          2485.8835699937704,
          1889.2643466986374,
          1754.5655643876573,
          2858.4022500018027,
          5078.066296065317,
          9877.528073856807,
          12229.33925133419
         ],
         "yaxis": "y"
        },
        {
         "hovertemplate": "Depot (ZSG Area)=Gloucester Depot<br>pole-task_group_name-groundline-t_interval=%{x}<br>value_lost_pop=%{y}<extra></extra>",
         "legendgroup": "Gloucester Depot",
         "line": {
          "color": "#EF553B",
          "dash": "solid"
         },
         "mode": "lines",
         "name": "Gloucester Depot",
         "showlegend": true,
         "type": "scattergl",
         "x": [
          12,
          18,
          24,
          30,
          36,
          42,
          48,
          54,
          60,
          66,
          72,
          78,
          84,
          90,
          96,
          102
         ],
         "xaxis": "x",
         "y": [
          78672.15944763347,
          26641.818693135872,
          19641.5297782637,
          15995.652455252297,
          11656.82487774223,
          9796.933574652197,
          7654.2777485994175,
          4080.9503071739664,
          1939.3541989409423,
          1380.8207378986235,
          1047.3613190612532,
          1057.1564136500435,
          1883.6433054655995,
          3171.10427094038,
          6491.8499820088455,
          8300.624649525977
         ],
         "yaxis": "y"
        },
        {
         "hovertemplate": "Depot (ZSG Area)=Goondiwindi Depot<br>pole-task_group_name-groundline-t_interval=%{x}<br>value_lost_pop=%{y}<extra></extra>",
         "legendgroup": "Goondiwindi Depot",
         "line": {
          "color": "#00cc96",
          "dash": "solid"
         },
         "mode": "lines",
         "name": "Goondiwindi Depot",
         "showlegend": true,
         "type": "scattergl",
         "x": [
          12,
          18,
          24,
          30,
          36,
          42,
          48,
          54,
          60,
          66,
          72,
          78,
          84,
          90,
          96,
          102
         ],
         "xaxis": "x",
         "y": [
          205719.44646375903,
          66262.59120052506,
          46491.41390718232,
          37816.64438212919,
          26074.708511885125,
          22896.343911951193,
          16556.366980067804,
          9142.158054685311,
          3487.7814587670537,
          4044.3376919984203,
          2891.5984458513444,
          2738.2258802253637,
          3025.500325472368,
          6018.669617927494,
          12135.59037746049,
          15716.830468816688
         ],
         "yaxis": "y"
        },
        {
         "hovertemplate": "Depot (ZSG Area)=Goulburn Depot<br>pole-task_group_name-groundline-t_interval=%{x}<br>value_lost_pop=%{y}<extra></extra>",
         "legendgroup": "Goulburn Depot",
         "line": {
          "color": "#ab63fa",
          "dash": "solid"
         },
         "mode": "lines",
         "name": "Goulburn Depot",
         "showlegend": true,
         "type": "scattergl",
         "x": [
          12,
          18,
          24,
          30,
          36,
          42,
          48,
          54,
          60,
          66,
          72,
          78,
          84,
          90,
          96,
          102
         ],
         "xaxis": "x",
         "y": [
          250599.02866646042,
          100069.88172696043,
          80862.78168516136,
          86693.79212443145,
          65633.4648134445,
          70466.97959874249,
          69691.67474455462,
          52579.15499924086,
          23887.003616395574,
          35067.76537682557,
          22810.64782659692,
          3465.8057401126352,
          4468.3921420725355,
          16594.664430585864,
          38778.363030072476,
          66701.44587054799
         ],
         "yaxis": "y"
        },
        {
         "hovertemplate": "Depot (ZSG Area)=Grafton Depot<br>pole-task_group_name-groundline-t_interval=%{x}<br>value_lost_pop=%{y}<extra></extra>",
         "legendgroup": "Grafton Depot",
         "line": {
          "color": "#FFA15A",
          "dash": "solid"
         },
         "mode": "lines",
         "name": "Grafton Depot",
         "showlegend": true,
         "type": "scattergl",
         "x": [
          12,
          18,
          24,
          30,
          36,
          42,
          48,
          54,
          60,
          66,
          72,
          78,
          84,
          90,
          96,
          102
         ],
         "xaxis": "x",
         "y": [
          213587.68825086745,
          74670.61158683558,
          55962.8200487564,
          46868.7155872188,
          34017.497323788244,
          29288.906482526454,
          24907.818281834006,
          14543.911985278652,
          7016.036882167307,
          6274.817817640878,
          4447.2127635854295,
          3070.6123130753595,
          5624.587606221741,
          9041.249879296705,
          19469.010952573317,
          27321.170305167976
         ],
         "yaxis": "y"
        },
        {
         "hovertemplate": "Depot (ZSG Area)=Griffith Depot<br>pole-task_group_name-groundline-t_interval=%{x}<br>value_lost_pop=%{y}<extra></extra>",
         "legendgroup": "Griffith Depot",
         "line": {
          "color": "#19d3f3",
          "dash": "solid"
         },
         "mode": "lines",
         "name": "Griffith Depot",
         "showlegend": true,
         "type": "scattergl",
         "x": [
          12,
          18,
          24,
          30,
          36,
          42,
          48,
          54,
          60,
          66,
          72,
          78,
          84,
          90,
          96,
          102
         ],
         "xaxis": "x",
         "y": [
          249679.52964673066,
          83167.78866277078,
          58730.10099846588,
          47721.31584163524,
          34506.88392412912,
          27769.851924218572,
          22488.121398263364,
          12366.437712317627,
          6175.750985703814,
          4443.898298929493,
          3636.5816423639617,
          3249.0340009228235,
          6707.205806342344,
          10767.913203310865,
          21160.313023158906,
          26700.031646197807
         ],
         "yaxis": "y"
        },
        {
         "hovertemplate": "Depot (ZSG Area)=Gunnedah Depot<br>pole-task_group_name-groundline-t_interval=%{x}<br>value_lost_pop=%{y}<extra></extra>",
         "legendgroup": "Gunnedah Depot",
         "line": {
          "color": "#FF6692",
          "dash": "solid"
         },
         "mode": "lines",
         "name": "Gunnedah Depot",
         "showlegend": true,
         "type": "scattergl",
         "x": [
          12,
          18,
          24,
          30,
          36,
          42,
          48,
          54,
          60,
          66,
          72,
          78,
          84,
          90,
          96,
          102
         ],
         "xaxis": "x",
         "y": [
          189004.1639316338,
          60974.67197539926,
          42470.68971314568,
          34395.77616555434,
          24279.586516185293,
          20179.908416020957,
          15294.223789085978,
          8104.543598231022,
          3454.2102014948237,
          2931.2902679908175,
          2349.011090824676,
          2526.844580512419,
          4001.2180057791556,
          6925.252610436477,
          13338.540172175919,
          16151.295983874024
         ],
         "yaxis": "y"
        },
        {
         "hovertemplate": "Depot (ZSG Area)=Guyra Depot<br>pole-task_group_name-groundline-t_interval=%{x}<br>value_lost_pop=%{y}<extra></extra>",
         "legendgroup": "Guyra Depot",
         "line": {
          "color": "#B6E880",
          "dash": "solid"
         },
         "mode": "lines",
         "name": "Guyra Depot",
         "showlegend": true,
         "type": "scattergl",
         "x": [
          12,
          18,
          24,
          30,
          36,
          42,
          48,
          54,
          60,
          66,
          72,
          78,
          84,
          90,
          96,
          102
         ],
         "xaxis": "x",
         "y": [
          78858.52762836964,
          24543.93338925062,
          16464.885346953444,
          13529.777413959808,
          9413.948933502754,
          8037.142552681106,
          5864.227698175391,
          3333.889117500342,
          1260.596524634076,
          1485.0277691253498,
          1229.6718570378189,
          954.8800185653951,
          1202.2173710562708,
          2722.7233329343326,
          5104.388371604403,
          5897.936577871225
         ],
         "yaxis": "y"
        },
        {
         "hovertemplate": "Depot (ZSG Area)=Harden Depot<br>pole-task_group_name-groundline-t_interval=%{x}<br>value_lost_pop=%{y}<extra></extra>",
         "legendgroup": "Harden Depot",
         "line": {
          "color": "#FF97FF",
          "dash": "solid"
         },
         "mode": "lines",
         "name": "Harden Depot",
         "showlegend": true,
         "type": "scattergl",
         "x": [
          12,
          18,
          24,
          30,
          36,
          42,
          48,
          54,
          60,
          66,
          72,
          78,
          84,
          90,
          96,
          102
         ],
         "xaxis": "x",
         "y": [
          88750.84817838162,
          32215.049031346327,
          22865.582254604662,
          20187.078220920113,
          14977.00975201911,
          12658.39991030366,
          11699.176799710738,
          7842.266834187916,
          3722.1112737811545,
          4115.02944106293,
          3092.8078970332463,
          1316.8729172363128,
          2860.491237090784,
          4980.382115833225,
          9652.617070101687,
          13998.865899181801
         ],
         "yaxis": "y"
        },
        {
         "hovertemplate": "Depot (ZSG Area)=Hay Depot<br>pole-task_group_name-groundline-t_interval=%{x}<br>value_lost_pop=%{y}<extra></extra>",
         "legendgroup": "Hay Depot",
         "line": {
          "color": "#FECB52",
          "dash": "solid"
         },
         "mode": "lines",
         "name": "Hay Depot",
         "showlegend": true,
         "type": "scattergl",
         "x": [
          12,
          18,
          24,
          30,
          36,
          42,
          48,
          54,
          60,
          66,
          72,
          78,
          84,
          90,
          96,
          102
         ],
         "xaxis": "x",
         "y": [
          80933.80258646328,
          25198.37641729299,
          16617.466975893654,
          13123.286594087253,
          9136.94343918714,
          7092.637920689524,
          5183.969088878691,
          2740.3851216204025,
          1269.3979489789253,
          926.8778751801342,
          926.3787777636776,
          926.5567251123197,
          1665.6096854038276,
          2995.918843418693,
          5597.319792100838,
          6336.199720289784
         ],
         "yaxis": "y"
        },
        {
         "hovertemplate": "Depot (ZSG Area)=Hillston Depot<br>pole-task_group_name-groundline-t_interval=%{x}<br>value_lost_pop=%{y}<extra></extra>",
         "legendgroup": "Hillston Depot",
         "line": {
          "color": "#636efa",
          "dash": "solid"
         },
         "mode": "lines",
         "name": "Hillston Depot",
         "showlegend": true,
         "type": "scattergl",
         "x": [
          12,
          18,
          24,
          30,
          36,
          42,
          48,
          54,
          60,
          66,
          72,
          78,
          84,
          90,
          96,
          102
         ],
         "xaxis": "x",
         "y": [
          87568.93494727711,
          27236.9896622584,
          18106.315420193314,
          14093.26209056091,
          9580.210090739834,
          7448.359150363275,
          5334.107450922636,
          2906.2294701707,
          1268.9023509724987,
          1049.9477610758063,
          1100.503839204759,
          981.1017105568114,
          1460.4263645876863,
          2836.6777612313513,
          5667.118004019718,
          6632.639836868208
         ],
         "yaxis": "y"
        },
        {
         "hovertemplate": "Depot (ZSG Area)=Inverell Depot<br>pole-task_group_name-groundline-t_interval=%{x}<br>value_lost_pop=%{y}<extra></extra>",
         "legendgroup": "Inverell Depot",
         "line": {
          "color": "#EF553B",
          "dash": "solid"
         },
         "mode": "lines",
         "name": "Inverell Depot",
         "showlegend": true,
         "type": "scattergl",
         "x": [
          12,
          18,
          24,
          30,
          36,
          42,
          48,
          54,
          60,
          66,
          72,
          78,
          84,
          90,
          96,
          102
         ],
         "xaxis": "x",
         "y": [
          249528.12319497712,
          86985.78277272376,
          66438.28324847782,
          54419.90555519058,
          39933.53437649992,
          33495.41805486916,
          27103.031411221284,
          13624.777346164377,
          5130.462550476808,
          3389.5738996874684,
          2964.0114343139903,
          4432.600879757268,
          6872.409613591791,
          10869.252909385055,
          21673.94269658869,
          26864.180955815424
         ],
         "yaxis": "y"
        },
        {
         "hovertemplate": "Depot (ZSG Area)=Jindabyne Depot<br>pole-task_group_name-groundline-t_interval=%{x}<br>value_lost_pop=%{y}<extra></extra>",
         "legendgroup": "Jindabyne Depot",
         "line": {
          "color": "#00cc96",
          "dash": "solid"
         },
         "mode": "lines",
         "name": "Jindabyne Depot",
         "showlegend": true,
         "type": "scattergl",
         "x": [
          12,
          18,
          24,
          30,
          36,
          42,
          48,
          54,
          60,
          66,
          72,
          78,
          84,
          90,
          96,
          102
         ],
         "xaxis": "x",
         "y": [
          84986.74491456921,
          33128.98346674481,
          27151.34097795925,
          26201.981078744004,
          20169.664225945155,
          19793.80013845167,
          18570.089755029734,
          12420.759998215408,
          5743.863948385485,
          6909.0266197448345,
          4513.810423862949,
          1359.1748342488952,
          2428.8215894537634,
          5368.147736815003,
          11798.431490730163,
          18079.09433404191
         ],
         "yaxis": "y"
        },
        {
         "hovertemplate": "Depot (ZSG Area)=Junee Depot<br>pole-task_group_name-groundline-t_interval=%{x}<br>value_lost_pop=%{y}<extra></extra>",
         "legendgroup": "Junee Depot",
         "line": {
          "color": "#ab63fa",
          "dash": "solid"
         },
         "mode": "lines",
         "name": "Junee Depot",
         "showlegend": true,
         "type": "scattergl",
         "x": [
          12,
          18,
          24,
          30,
          36,
          42,
          48,
          54,
          60,
          66,
          72,
          78,
          84,
          90,
          96,
          102
         ],
         "xaxis": "x",
         "y": [
          78129.53456315168,
          27581.6171309256,
          21032.418413118536,
          18768.043052303743,
          14356.351270290601,
          12601.040082024527,
          11609.815269799104,
          7076.7440990945925,
          3476.004702356526,
          3162.0488397415575,
          2335.771412505851,
          1095.3475097855687,
          2568.9584590342192,
          4695.595796575044,
          9632.155192295415,
          12633.389819277749
         ],
         "yaxis": "y"
        },
        {
         "hovertemplate": "Depot (ZSG Area)=Kempsey Depot<br>pole-task_group_name-groundline-t_interval=%{x}<br>value_lost_pop=%{y}<extra></extra>",
         "legendgroup": "Kempsey Depot",
         "line": {
          "color": "#FFA15A",
          "dash": "solid"
         },
         "mode": "lines",
         "name": "Kempsey Depot",
         "showlegend": true,
         "type": "scattergl",
         "x": [
          12,
          18,
          24,
          30,
          36,
          42,
          48,
          54,
          60,
          66,
          72,
          78,
          84,
          90,
          96,
          102
         ],
         "xaxis": "x",
         "y": [
          216580.57985738543,
          73459.36086552998,
          51869.85999983986,
          42668.74358467094,
          30348.0316354301,
          25281.41191758243,
          20684.27318502188,
          12456.89968991322,
          6238.204443015412,
          5828.72364608018,
          4257.906169096601,
          2743.6694712787294,
          5218.445992262235,
          8518.419261640327,
          17489.35742343376,
          24517.121050523936
         ],
         "yaxis": "y"
        },
        {
         "hovertemplate": "Depot (ZSG Area)=Kyogle Depot<br>pole-task_group_name-groundline-t_interval=%{x}<br>value_lost_pop=%{y}<extra></extra>",
         "legendgroup": "Kyogle Depot",
         "line": {
          "color": "#19d3f3",
          "dash": "solid"
         },
         "mode": "lines",
         "name": "Kyogle Depot",
         "showlegend": true,
         "type": "scattergl",
         "x": [
          12,
          18,
          24,
          30,
          36,
          42,
          48,
          54,
          60,
          66,
          72,
          78,
          84,
          90,
          96,
          102
         ],
         "xaxis": "x",
         "y": [
          103696.13221849155,
          33221.21466857972,
          22269.09060828696,
          17225.317174475862,
          11639.891572095827,
          9275.544544950684,
          6485.546525884022,
          3584.7819336126668,
          2030.8604397953875,
          1615.65560685144,
          1139.915447670416,
          1085.4924724222628,
          1948.7734697781998,
          2951.2279820514655,
          6075.487864543904,
          8334.325080316583
         ],
         "yaxis": "y"
        },
        {
         "hovertemplate": "Depot (ZSG Area)=Lake Cargelligo Depot<br>pole-task_group_name-groundline-t_interval=%{x}<br>value_lost_pop=%{y}<extra></extra>",
         "legendgroup": "Lake Cargelligo Depot",
         "line": {
          "color": "#FF6692",
          "dash": "solid"
         },
         "mode": "lines",
         "name": "Lake Cargelligo Depot",
         "showlegend": true,
         "type": "scattergl",
         "x": [
          12,
          18,
          24,
          30,
          36,
          42,
          48,
          54,
          60,
          66,
          72,
          78,
          84,
          90,
          96,
          102
         ],
         "xaxis": "x",
         "y": [
          57855.578938359424,
          18024.020868056356,
          11591.7429487693,
          8904.30068466705,
          6092.576200334461,
          4396.271194112302,
          3269.474201360241,
          1711.5888164620744,
          1011.6364294750014,
          570.011151178332,
          569.8003430355535,
          614.9472674154929,
          1404.837892331095,
          2116.375367043854,
          3994.236623065612,
          4748.577595706403
         ],
         "yaxis": "y"
        },
        {
         "hovertemplate": "Depot (ZSG Area)=Leeton Depot<br>pole-task_group_name-groundline-t_interval=%{x}<br>value_lost_pop=%{y}<extra></extra>",
         "legendgroup": "Leeton Depot",
         "line": {
          "color": "#B6E880",
          "dash": "solid"
         },
         "mode": "lines",
         "name": "Leeton Depot",
         "showlegend": true,
         "type": "scattergl",
         "x": [
          12,
          18,
          24,
          30,
          36,
          42,
          48,
          54,
          60,
          66,
          72,
          78,
          84,
          90,
          96,
          102
         ],
         "xaxis": "x",
         "y": [
          294960.7710997369,
          97936.08053274623,
          70131.54246327268,
          57215.66779322033,
          41558.651104514414,
          34103.04108121583,
          26942.023790880263,
          14321.041243534222,
          6331.50811927158,
          4607.131877485805,
          3978.075703918115,
          4102.043566860839,
          7332.8215349904085,
          12594.688776522044,
          24437.619432911546,
          29575.884259597486
         ],
         "yaxis": "y"
        },
        {
         "hovertemplate": "Depot (ZSG Area)=Lismore Depot<br>pole-task_group_name-groundline-t_interval=%{x}<br>value_lost_pop=%{y}<extra></extra>",
         "legendgroup": "Lismore Depot",
         "line": {
          "color": "#FF97FF",
          "dash": "solid"
         },
         "mode": "lines",
         "name": "Lismore Depot",
         "showlegend": true,
         "type": "scattergl",
         "x": [
          12,
          18,
          24,
          30,
          36,
          42,
          48,
          54,
          60,
          66,
          72,
          78,
          84,
          90,
          96,
          102
         ],
         "xaxis": "x",
         "y": [
          239443.91869736585,
          81555.27597799274,
          59886.123184042866,
          49976.65770665267,
          35733.95320008535,
          31075.68548816656,
          25657.025405376342,
          15039.148441150404,
          7075.605632253865,
          6800.7895447435185,
          4772.783187931346,
          3253.573423629467,
          5501.305761393479,
          9351.70930614901,
          19994.199760916003,
          27700.88682124254
         ],
         "yaxis": "y"
        },
        {
         "hovertemplate": "Depot (ZSG Area)=Lockhart Depot<br>pole-task_group_name-groundline-t_interval=%{x}<br>value_lost_pop=%{y}<extra></extra>",
         "legendgroup": "Lockhart Depot",
         "line": {
          "color": "#FECB52",
          "dash": "solid"
         },
         "mode": "lines",
         "name": "Lockhart Depot",
         "showlegend": true,
         "type": "scattergl",
         "x": [
          12,
          18,
          24,
          30,
          36,
          42,
          48,
          54,
          60,
          66,
          72,
          78,
          84,
          90,
          96,
          102
         ],
         "xaxis": "x",
         "y": [
          78057.68615713576,
          25352.878961705792,
          16862.578524643093,
          14066.842992544305,
          10464.000070051678,
          8052.30378686562,
          7108.764128856057,
          4463.823866880148,
          2802.6051236378053,
          2060.9003907347956,
          1694.8893188874579,
          648.6173476945315,
          2412.574732206246,
          4166.763345990937,
          8116.684486838355,
          10162.58443254176
         ],
         "yaxis": "y"
        },
        {
         "hovertemplate": "Depot (ZSG Area)=Maclean Depot<br>pole-task_group_name-groundline-t_interval=%{x}<br>value_lost_pop=%{y}<extra></extra>",
         "legendgroup": "Maclean Depot",
         "line": {
          "color": "#636efa",
          "dash": "solid"
         },
         "mode": "lines",
         "name": "Maclean Depot",
         "showlegend": true,
         "type": "scattergl",
         "x": [
          12,
          18,
          24,
          30,
          36,
          42,
          48,
          54,
          60,
          66,
          72,
          78,
          84,
          90,
          96,
          102
         ],
         "xaxis": "x",
         "y": [
          100151.56899533678,
          34575.357949680656,
          25559.52145662702,
          21066.90515120043,
          15195.378727939116,
          13141.061660473864,
          10505.66000270231,
          6039.449565401935,
          3113.400098355221,
          2665.297189203507,
          1734.3637484260382,
          1270.777318320538,
          2368.9642947851894,
          3783.1089883577997,
          8149.200923210865,
          11620.717521986024
         ],
         "yaxis": "y"
        },
        {
         "hovertemplate": "Depot (ZSG Area)=Molong Depot<br>pole-task_group_name-groundline-t_interval=%{x}<br>value_lost_pop=%{y}<extra></extra>",
         "legendgroup": "Molong Depot",
         "line": {
          "color": "#EF553B",
          "dash": "solid"
         },
         "mode": "lines",
         "name": "Molong Depot",
         "showlegend": true,
         "type": "scattergl",
         "x": [
          12,
          18,
          24,
          30,
          36,
          42,
          48,
          54,
          60,
          66,
          72,
          78,
          84,
          90,
          96,
          102
         ],
         "xaxis": "x",
         "y": [
          108171.05882674636,
          39552.97929061644,
          29033.79240247467,
          28478.7309702848,
          21243.814237903312,
          20928.059062825243,
          19948.753381836897,
          14741.013895646664,
          7491.580906394876,
          9656.276355320659,
          6269.124831825393,
          1111.448955125571,
          2556.010757566167,
          6028.881412517765,
          13170.28271052045,
          21511.15666226656
         ],
         "yaxis": "y"
        },
        {
         "hovertemplate": "Depot (ZSG Area)=Moree Depot<br>pole-task_group_name-groundline-t_interval=%{x}<br>value_lost_pop=%{y}<extra></extra>",
         "legendgroup": "Moree Depot",
         "line": {
          "color": "#00cc96",
          "dash": "solid"
         },
         "mode": "lines",
         "name": "Moree Depot",
         "showlegend": true,
         "type": "scattergl",
         "x": [
          12,
          18,
          24,
          30,
          36,
          42,
          48,
          54,
          60,
          66,
          72,
          78,
          84,
          90,
          96,
          102
         ],
         "xaxis": "x",
         "y": [
          257097.52570378094,
          80600.66156973453,
          53352.3538667456,
          42642.09946805501,
          29108.28929661957,
          23789.984778950908,
          17360.07139017875,
          9640.330088757706,
          4363.894132462294,
          4267.525631815117,
          3332.338073204398,
          3038.935376923157,
          4801.756035436347,
          8394.584673673362,
          15948.639399157571,
          19652.34725381185
         ],
         "yaxis": "y"
        },
        {
         "hovertemplate": "Depot (ZSG Area)=Moruya Depot<br>pole-task_group_name-groundline-t_interval=%{x}<br>value_lost_pop=%{y}<extra></extra>",
         "legendgroup": "Moruya Depot",
         "line": {
          "color": "#ab63fa",
          "dash": "solid"
         },
         "mode": "lines",
         "name": "Moruya Depot",
         "showlegend": true,
         "type": "scattergl",
         "x": [
          12,
          18,
          24,
          30,
          36,
          42,
          48,
          54,
          60,
          66,
          72,
          78,
          84,
          90,
          96,
          102
         ],
         "xaxis": "x",
         "y": [
          220925.55198767985,
          87141.6734256196,
          69095.30342954888,
          65255.8008024316,
          49199.66058112413,
          46901.794794145106,
          43819.976202009886,
          29661.497942757374,
          12185.163621822412,
          16313.516500540545,
          11379.180871979788,
          4294.647987813983,
          6091.8046718058695,
          13181.318534608807,
          27616.577562810162,
          43068.00483400061
         ],
         "yaxis": "y"
        },
        {
         "hovertemplate": "Depot (ZSG Area)=Mudgee Depot<br>pole-task_group_name-groundline-t_interval=%{x}<br>value_lost_pop=%{y}<extra></extra>",
         "legendgroup": "Mudgee Depot",
         "line": {
          "color": "#FFA15A",
          "dash": "solid"
         },
         "mode": "lines",
         "name": "Mudgee Depot",
         "showlegend": true,
         "type": "scattergl",
         "x": [
          12,
          18,
          24,
          30,
          36,
          42,
          48,
          54,
          60,
          66,
          72,
          78,
          84,
          90,
          96,
          102
         ],
         "xaxis": "x",
         "y": [
          192434.06197711357,
          65971.6977888068,
          49115.18728779688,
          40158.11323498279,
          29565.282076874224,
          24387.803809801837,
          20007.582213291065,
          10426.984290305174,
          5038.2782859581985,
          3129.0466741775485,
          2444.3165015668487,
          2830.00686179597,
          5639.142270983515,
          8647.055804621103,
          17446.751473465672,
          22045.14950530812
         ],
         "yaxis": "y"
        },
        {
         "hovertemplate": "Depot (ZSG Area)=Murwillumbah Depot<br>pole-task_group_name-groundline-t_interval=%{x}<br>value_lost_pop=%{y}<extra></extra>",
         "legendgroup": "Murwillumbah Depot",
         "line": {
          "color": "#19d3f3",
          "dash": "solid"
         },
         "mode": "lines",
         "name": "Murwillumbah Depot",
         "showlegend": true,
         "type": "scattergl",
         "x": [
          12,
          18,
          24,
          30,
          36,
          42,
          48,
          54,
          60,
          66,
          72,
          78,
          84,
          90,
          96,
          102
         ],
         "xaxis": "x",
         "y": [
          170529.18501223437,
          57815.65611012718,
          42179.22121763924,
          34687.05301014532,
          24356.549388079795,
          21052.26978029051,
          17034.847670101626,
          10350.56091777697,
          4770.128425898039,
          4915.46616863814,
          3669.3731013478177,
          2165.0617503791023,
          3146.191526890493,
          5942.884354433307,
          13433.036229180318,
          19118.85670989403
         ],
         "yaxis": "y"
        },
        {
         "hovertemplate": "Depot (ZSG Area)=Nambucca Heads Depot<br>pole-task_group_name-groundline-t_interval=%{x}<br>value_lost_pop=%{y}<extra></extra>",
         "legendgroup": "Nambucca Heads Depot",
         "line": {
          "color": "#FF6692",
          "dash": "solid"
         },
         "mode": "lines",
         "name": "Nambucca Heads Depot",
         "showlegend": true,
         "type": "scattergl",
         "x": [
          12,
          18,
          24,
          30,
          36,
          42,
          48,
          54,
          60,
          66,
          72,
          78,
          84,
          90,
          96,
          102
         ],
         "xaxis": "x",
         "y": [
          140712.17206929292,
          47362.76509861547,
          33507.30342504586,
          28081.185558779158,
          19568.44940432073,
          17293.54329558588,
          14328.64440231796,
          9291.981971727493,
          4978.683287763241,
          5325.879896383427,
          3469.2552356738665,
          1503.6810408748534,
          2762.261985071108,
          4705.884637704639,
          10723.92696863767,
          16631.623861907025
         ],
         "yaxis": "y"
        },
        {
         "hovertemplate": "Depot (ZSG Area)=Narrabri Depot<br>pole-task_group_name-groundline-t_interval=%{x}<br>value_lost_pop=%{y}<extra></extra>",
         "legendgroup": "Narrabri Depot",
         "line": {
          "color": "#B6E880",
          "dash": "solid"
         },
         "mode": "lines",
         "name": "Narrabri Depot",
         "showlegend": true,
         "type": "scattergl",
         "x": [
          12,
          18,
          24,
          30,
          36,
          42,
          48,
          54,
          60,
          66,
          72,
          78,
          84,
          90,
          96,
          102
         ],
         "xaxis": "x",
         "y": [
          231770.99486846506,
          77935.217584634,
          57563.69143986649,
          47358.524075836474,
          34668.261827747934,
          28930.546542862397,
          23309.35970010419,
          12062.80806943467,
          4890.632932738967,
          3464.338109158036,
          3057.694835365057,
          3598.3147961157424,
          5961.374972418159,
          10180.808194326522,
          20008.00568391113,
          23936.787722270863
         ],
         "yaxis": "y"
        },
        {
         "hovertemplate": "Depot (ZSG Area)=Narromine Depot<br>pole-task_group_name-groundline-t_interval=%{x}<br>value_lost_pop=%{y}<extra></extra>",
         "legendgroup": "Narromine Depot",
         "line": {
          "color": "#FF97FF",
          "dash": "solid"
         },
         "mode": "lines",
         "name": "Narromine Depot",
         "showlegend": true,
         "type": "scattergl",
         "x": [
          12,
          18,
          24,
          30,
          36,
          42,
          48,
          54,
          60,
          66,
          72,
          78,
          84,
          90,
          96,
          102
         ],
         "xaxis": "x",
         "y": [
          150708.11539439304,
          49253.567364099385,
          34975.54099323196,
          28127.706543184948,
          19885.906598507656,
          16355.552637102106,
          12633.050977357996,
          6600.313995168733,
          2815.791544864881,
          2162.016870282832,
          1832.178349843444,
          2095.5139107480445,
          3337.3059259363517,
          5567.387154811212,
          11095.002638232956,
          13607.463851474511
         ],
         "yaxis": "y"
        },
        {
         "hovertemplate": "Depot (ZSG Area)=Nyngan Depot<br>pole-task_group_name-groundline-t_interval=%{x}<br>value_lost_pop=%{y}<extra></extra>",
         "legendgroup": "Nyngan Depot",
         "line": {
          "color": "#FECB52",
          "dash": "solid"
         },
         "mode": "lines",
         "name": "Nyngan Depot",
         "showlegend": true,
         "type": "scattergl",
         "x": [
          12,
          18,
          24,
          30,
          36,
          42,
          48,
          54,
          60,
          66,
          72,
          78,
          84,
          90,
          96,
          102
         ],
         "xaxis": "x",
         "y": [
          105188.21847457354,
          35398.38481112925,
          26570.06162355758,
          21854.151083473564,
          16001.79972524165,
          13618.97217773847,
          10686.957807588515,
          5262.235160286286,
          1906.872385498437,
          1295.2504271545445,
          1121.8380879635736,
          1747.9144261827532,
          2589.2824225615113,
          4423.975267618664,
          8607.255248578731,
          10047.243282287382
         ],
         "yaxis": "y"
        },
        {
         "hovertemplate": "Depot (ZSG Area)=Oberon Depot<br>pole-task_group_name-groundline-t_interval=%{x}<br>value_lost_pop=%{y}<extra></extra>",
         "legendgroup": "Oberon Depot",
         "line": {
          "color": "#636efa",
          "dash": "solid"
         },
         "mode": "lines",
         "name": "Oberon Depot",
         "showlegend": true,
         "type": "scattergl",
         "x": [
          12,
          18,
          24,
          30,
          36,
          42,
          48,
          54,
          60,
          66,
          72,
          78,
          84,
          90,
          96,
          102
         ],
         "xaxis": "x",
         "y": [
          93044.8934665853,
          30260.323670629008,
          19686.688912543897,
          15958.895503570526,
          11217.402824006587,
          8582.647781087533,
          7441.990800259187,
          4655.206770129303,
          3130.689627241152,
          2449.25954323154,
          1686.8037777976654,
          861.8315459502238,
          2866.894509150112,
          3962.3557477451354,
          7828.873488031591,
          10890.18712580103
         ],
         "yaxis": "y"
        },
        {
         "hovertemplate": "Depot (ZSG Area)=Orange Depot<br>pole-task_group_name-groundline-t_interval=%{x}<br>value_lost_pop=%{y}<extra></extra>",
         "legendgroup": "Orange Depot",
         "line": {
          "color": "#EF553B",
          "dash": "solid"
         },
         "mode": "lines",
         "name": "Orange Depot",
         "showlegend": true,
         "type": "scattergl",
         "x": [
          12,
          18,
          24,
          30,
          36,
          42,
          48,
          54,
          60,
          66,
          72,
          78,
          84,
          90,
          96,
          102
         ],
         "xaxis": "x",
         "y": [
          198279.75667484527,
          78238.11017732586,
          63792.44597693554,
          68487.99224439549,
          51560.72799332527,
          56232.15641663148,
          55009.394542824644,
          41239.863341979115,
          18456.820577698443,
          27601.453943433015,
          17740.467664614243,
          2747.724574410291,
          3025.0209498016657,
          12579.627295295792,
          29803.061630203712,
          51223.379081735744
         ],
         "yaxis": "y"
        },
        {
         "hovertemplate": "Depot (ZSG Area)=Parkes Depot<br>pole-task_group_name-groundline-t_interval=%{x}<br>value_lost_pop=%{y}<extra></extra>",
         "legendgroup": "Parkes Depot",
         "line": {
          "color": "#00cc96",
          "dash": "solid"
         },
         "mode": "lines",
         "name": "Parkes Depot",
         "showlegend": true,
         "type": "scattergl",
         "x": [
          12,
          18,
          24,
          30,
          36,
          42,
          48,
          54,
          60,
          66,
          72,
          78,
          84,
          90,
          96,
          102
         ],
         "xaxis": "x",
         "y": [
          187395.49483454775,
          61454.314248350194,
          43634.12383225098,
          35603.10190948132,
          25876.043060032076,
          21052.578836951532,
          16780.36414544108,
          8770.365733771792,
          3956.5050262907916,
          2686.0673389220638,
          2371.2748165402,
          2578.1466335007804,
          4854.048719494038,
          8174.858295153474,
          15691.437375906085,
          18509.82537858257
         ],
         "yaxis": "y"
        },
        {
         "hovertemplate": "Depot (ZSG Area)=Port Macquarie Depot<br>pole-task_group_name-groundline-t_interval=%{x}<br>value_lost_pop=%{y}<extra></extra>",
         "legendgroup": "Port Macquarie Depot",
         "line": {
          "color": "#ab63fa",
          "dash": "solid"
         },
         "mode": "lines",
         "name": "Port Macquarie Depot",
         "showlegend": true,
         "type": "scattergl",
         "x": [
          12,
          18,
          24,
          30,
          36,
          42,
          48,
          54,
          60,
          66,
          72,
          78,
          84,
          90,
          96,
          102
         ],
         "xaxis": "x",
         "y": [
          308862.78076090105,
          107032.27957871786,
          78486.80379236267,
          65164.37357406312,
          45977.42755220259,
          39983.74787582522,
          32943.420725703436,
          19812.225422650958,
          8765.966841021333,
          9248.222882555941,
          6621.035689400054,
          4265.882376820607,
          7471.226515906886,
          13197.115912847905,
          27682.948239534948,
          38087.22246146476
         ],
         "yaxis": "y"
        },
        {
         "hovertemplate": "Depot (ZSG Area)=Queanbeyan Depot<br>pole-task_group_name-groundline-t_interval=%{x}<br>value_lost_pop=%{y}<extra></extra>",
         "legendgroup": "Queanbeyan Depot",
         "line": {
          "color": "#FFA15A",
          "dash": "solid"
         },
         "mode": "lines",
         "name": "Queanbeyan Depot",
         "showlegend": true,
         "type": "scattergl",
         "x": [
          12,
          18,
          24,
          30,
          36,
          42,
          48,
          54,
          60,
          66,
          72,
          78,
          84,
          90,
          96,
          102
         ],
         "xaxis": "x",
         "y": [
          214720.5977269386,
          83328.68685362961,
          67527.0281532924,
          70485.23918305749,
          52907.14213697614,
          56425.59344383644,
          54876.79679816618,
          40438.37858824698,
          18097.57434315907,
          26360.117679993626,
          17123.009882042432,
          2996.3196718478084,
          3785.6038752613576,
          13417.416639892337,
          31429.60350732615,
          52182.51801693132
         ],
         "yaxis": "y"
        },
        {
         "hovertemplate": "Depot (ZSG Area)=Quirindi Depot<br>pole-task_group_name-groundline-t_interval=%{x}<br>value_lost_pop=%{y}<extra></extra>",
         "legendgroup": "Quirindi Depot",
         "line": {
          "color": "#19d3f3",
          "dash": "solid"
         },
         "mode": "lines",
         "name": "Quirindi Depot",
         "showlegend": true,
         "type": "scattergl",
         "x": [
          12,
          18,
          24,
          30,
          36,
          42,
          48,
          54,
          60,
          66,
          72,
          78,
          84,
          90,
          96,
          102
         ],
         "xaxis": "x",
         "y": [
          159086.43184687782,
          49860.67553276801,
          32981.56406548992,
          26038.5248635883,
          17740.83639363269,
          14161.843091284873,
          10290.903784980572,
          5706.295175787449,
          2692.6223635733186,
          2406.879725561779,
          2020.3375654875258,
          1789.6760581738645,
          3008.2126221763588,
          5307.90712926866,
          10277.832401435435,
          12530.118321046184
         ],
         "yaxis": "y"
        },
        {
         "hovertemplate": "Depot (ZSG Area)=Stroud Depot<br>pole-task_group_name-groundline-t_interval=%{x}<br>value_lost_pop=%{y}<extra></extra>",
         "legendgroup": "Stroud Depot",
         "line": {
          "color": "#FF6692",
          "dash": "solid"
         },
         "mode": "lines",
         "name": "Stroud Depot",
         "showlegend": true,
         "type": "scattergl",
         "x": [
          12,
          18,
          24,
          30,
          36,
          42,
          48,
          54,
          60,
          66,
          72,
          78,
          84,
          90,
          96,
          102
         ],
         "xaxis": "x",
         "y": [
          47370.74463486149,
          17092.84987300045,
          12575.079239297287,
          10031.26248492516,
          7403.640457659975,
          5754.508387278715,
          4623.3780566117375,
          2407.868430103627,
          1117.9186303570812,
          605.5283815912447,
          554.312959261481,
          782.1265304451073,
          1566.530136937849,
          2215.8841702512445,
          4224.205638904116,
          5612.552065588616
         ],
         "yaxis": "y"
        },
        {
         "hovertemplate": "Depot (ZSG Area)=Tamworth Depot<br>pole-task_group_name-groundline-t_interval=%{x}<br>value_lost_pop=%{y}<extra></extra>",
         "legendgroup": "Tamworth Depot",
         "line": {
          "color": "#B6E880",
          "dash": "solid"
         },
         "mode": "lines",
         "name": "Tamworth Depot",
         "showlegend": true,
         "type": "scattergl",
         "x": [
          12,
          18,
          24,
          30,
          36,
          42,
          48,
          54,
          60,
          66,
          72,
          78,
          84,
          90,
          96,
          102
         ],
         "xaxis": "x",
         "y": [
          339412.57875350496,
          111396.93664381745,
          77279.1349296752,
          63955.70931543944,
          44722.258344280475,
          38435.18739842305,
          30716.335044544896,
          18812.74958885857,
          9498.928521028829,
          9736.151648517929,
          6732.762724390959,
          3862.0670035581634,
          6856.902231154313,
          12026.883389637416,
          25090.91536844926,
          35089.30344616296
         ],
         "yaxis": "y"
        },
        {
         "hovertemplate": "Depot (ZSG Area)=Taree Depot<br>pole-task_group_name-groundline-t_interval=%{x}<br>value_lost_pop=%{y}<extra></extra>",
         "legendgroup": "Taree Depot",
         "line": {
          "color": "#FF97FF",
          "dash": "solid"
         },
         "mode": "lines",
         "name": "Taree Depot",
         "showlegend": true,
         "type": "scattergl",
         "x": [
          12,
          18,
          24,
          30,
          36,
          42,
          48,
          54,
          60,
          66,
          72,
          78,
          84,
          90,
          96,
          102
         ],
         "xaxis": "x",
         "y": [
          428372.8191595575,
          146828.42144305634,
          106880.56908446766,
          89048.27340458991,
          63795.84141817112,
          55079.85331939517,
          45157.73910458373,
          26905.682450430377,
          12921.104522593778,
          12486.67636577354,
          8765.207784753073,
          5658.184268218677,
          9963.344774545965,
          16983.75835161155,
          35774.20291557813,
          50200.20047272133
         ],
         "yaxis": "y"
        },
        {
         "hovertemplate": "Depot (ZSG Area)=Temora Depot<br>pole-task_group_name-groundline-t_interval=%{x}<br>value_lost_pop=%{y}<extra></extra>",
         "legendgroup": "Temora Depot",
         "line": {
          "color": "#FECB52",
          "dash": "solid"
         },
         "mode": "lines",
         "name": "Temora Depot",
         "showlegend": true,
         "type": "scattergl",
         "x": [
          12,
          18,
          24,
          30,
          36,
          42,
          48,
          54,
          60,
          66,
          72,
          78,
          84,
          90,
          96,
          102
         ],
         "xaxis": "x",
         "y": [
          120726.18446380227,
          40344.529148570466,
          28586.134892434085,
          23437.205851611976,
          16950.224449956262,
          13955.614623642536,
          10806.203844891103,
          5867.433695929068,
          2138.695793001536,
          1946.14905834537,
          1806.6446504868184,
          1838.1586638196786,
          2749.640336614516,
          5101.457144275739,
          9464.027162467219,
          11359.814606503505
         ],
         "yaxis": "y"
        },
        {
         "hovertemplate": "Depot (ZSG Area)=Tenterfield Depot<br>pole-task_group_name-groundline-t_interval=%{x}<br>value_lost_pop=%{y}<extra></extra>",
         "legendgroup": "Tenterfield Depot",
         "line": {
          "color": "#636efa",
          "dash": "solid"
         },
         "mode": "lines",
         "name": "Tenterfield Depot",
         "showlegend": true,
         "type": "scattergl",
         "x": [
          12,
          18,
          24,
          30,
          36,
          42,
          48,
          54,
          60,
          66,
          72,
          78,
          84,
          90,
          96,
          102
         ],
         "xaxis": "x",
         "y": [
          78909.55510270486,
          24655.0087438533,
          16552.609014997757,
          13315.46921759357,
          8954.203806943615,
          7577.082075411698,
          5517.6513622,
          3223.5110690636825,
          1263.8563053120884,
          1555.8196299206957,
          1264.5970936780727,
          943.3297875393674,
          1062.1044846671628,
          2285.7940148834446,
          4644.411551231442,
          5853.905635564366
         ],
         "yaxis": "y"
        },
        {
         "hovertemplate": "Depot (ZSG Area)=Texas Depot<br>pole-task_group_name-groundline-t_interval=%{x}<br>value_lost_pop=%{y}<extra></extra>",
         "legendgroup": "Texas Depot",
         "line": {
          "color": "#EF553B",
          "dash": "solid"
         },
         "mode": "lines",
         "name": "Texas Depot",
         "showlegend": true,
         "type": "scattergl",
         "x": [
          12,
          18,
          24,
          30,
          36,
          42,
          48,
          54,
          60,
          66,
          72,
          78,
          84,
          90,
          96,
          102
         ],
         "xaxis": "x",
         "y": [
          119290.46990600371,
          37743.48318062448,
          25309.58468604584,
          20706.97053414461,
          14049.815237671799,
          12205.906929565575,
          9019.220359786905,
          5363.276548608446,
          2366.5562712477717,
          2853.345258723906,
          1968.6975539839864,
          1411.4850521961816,
          1871.3458973403867,
          3533.492072620335,
          6980.816478929422,
          9389.98017724399
         ],
         "yaxis": "y"
        },
        {
         "hovertemplate": "Depot (ZSG Area)=Tooleybuc Depot<br>pole-task_group_name-groundline-t_interval=%{x}<br>value_lost_pop=%{y}<extra></extra>",
         "legendgroup": "Tooleybuc Depot",
         "line": {
          "color": "#00cc96",
          "dash": "solid"
         },
         "mode": "lines",
         "name": "Tooleybuc Depot",
         "showlegend": true,
         "type": "scattergl",
         "x": [
          12,
          18,
          24,
          30,
          36,
          42,
          48,
          54,
          60,
          66,
          72,
          78,
          84,
          90,
          96,
          102
         ],
         "xaxis": "x",
         "y": [
          73464.58256848418,
          22748.228312619874,
          15079.25413794447,
          11681.886313503943,
          7857.3417914896945,
          6172.0340651873485,
          4253.842351690245,
          2236.6364422275055,
          896.6783613668237,
          783.3822701989874,
          812.4393129658649,
          855.9556416288475,
          1146.8734771746224,
          2207.2192602305445,
          4342.3836283954415,
          5030.605700893107
         ],
         "yaxis": "y"
        },
        {
         "hovertemplate": "Depot (ZSG Area)=Tottenham Depot<br>pole-task_group_name-groundline-t_interval=%{x}<br>value_lost_pop=%{y}<extra></extra>",
         "legendgroup": "Tottenham Depot",
         "line": {
          "color": "#ab63fa",
          "dash": "solid"
         },
         "mode": "lines",
         "name": "Tottenham Depot",
         "showlegend": true,
         "type": "scattergl",
         "x": [
          12,
          18,
          24,
          30,
          36,
          42,
          48,
          54,
          60,
          66,
          72,
          78,
          84,
          90,
          96,
          102
         ],
         "xaxis": "x",
         "y": [
          32635.375536372776,
          11021.574483360064,
          7730.634285325523,
          5997.397588812058,
          4380.302865597989,
          3448.8370109522953,
          2419.4457830423958,
          1334.3505873438207,
          982.7275566676126,
          515.8442249717319,
          330.1992030194177,
          244.4109302271072,
          790.3160575791223,
          1221.6438305454453,
          2536.7921386465696,
          3496.1633634800505
         ],
         "yaxis": "y"
        },
        {
         "hovertemplate": "Depot (ZSG Area)=Tracked Asset<br>pole-task_group_name-groundline-t_interval=%{x}<br>value_lost_pop=%{y}<extra></extra>",
         "legendgroup": "Tracked Asset",
         "line": {
          "color": "#FFA15A",
          "dash": "solid"
         },
         "mode": "lines",
         "name": "Tracked Asset",
         "showlegend": true,
         "type": "scattergl",
         "x": [
          12,
          18,
          24,
          30,
          36,
          42,
          48,
          54,
          60,
          66,
          72,
          78,
          84,
          90,
          96,
          102
         ],
         "xaxis": "x",
         "y": [
          9.954707995878607,
          3.001255693981944,
          2.005632552747396,
          1.5579260390608325,
          1.0240812510039183,
          0.8801822679769771,
          0.5038445795065685,
          0.21759890390646675,
          0,
          0.050830848191262046,
          0.06362777261097508,
          0.1396767075666241,
          0.0716938021091722,
          0.21846092152755814,
          0.37984888592140553,
          0.34049895017589193
         ],
         "yaxis": "y"
        },
        {
         "hovertemplate": "Depot (ZSG Area)=Tumbarumba Depot<br>pole-task_group_name-groundline-t_interval=%{x}<br>value_lost_pop=%{y}<extra></extra>",
         "legendgroup": "Tumbarumba Depot",
         "line": {
          "color": "#19d3f3",
          "dash": "solid"
         },
         "mode": "lines",
         "name": "Tumbarumba Depot",
         "showlegend": true,
         "type": "scattergl",
         "x": [
          12,
          18,
          24,
          30,
          36,
          42,
          48,
          54,
          60,
          66,
          72,
          78,
          84,
          90,
          96,
          102
         ],
         "xaxis": "x",
         "y": [
          64158.69732577489,
          21493.893727653925,
          14719.325852716986,
          13202.475783360976,
          9621.233174721845,
          8583.13681103844,
          7801.0493636750725,
          5399.954706586709,
          3051.7384555094272,
          3295.4677212180386,
          2184.8482110154364,
          569.8364031776222,
          1679.336241200077,
          3096.1720315492094,
          6405.045927150483,
          9382.78273101285
         ],
         "yaxis": "y"
        },
        {
         "hovertemplate": "Depot (ZSG Area)=Tumut Depot<br>pole-task_group_name-groundline-t_interval=%{x}<br>value_lost_pop=%{y}<extra></extra>",
         "legendgroup": "Tumut Depot",
         "line": {
          "color": "#FF6692",
          "dash": "solid"
         },
         "mode": "lines",
         "name": "Tumut Depot",
         "showlegend": true,
         "type": "scattergl",
         "x": [
          12,
          18,
          24,
          30,
          36,
          42,
          48,
          54,
          60,
          66,
          72,
          78,
          84,
          90,
          96,
          102
         ],
         "xaxis": "x",
         "y": [
          190500.80690730503,
          66437.3291825873,
          49256.171997511585,
          45806.45513754033,
          34457.749301296535,
          32167.306289574713,
          29626.2588277677,
          19764.37330851487,
          9781.11450912754,
          11078.001425909348,
          7523.973982988709,
          2272.0510418726785,
          5015.030663272458,
          10550.357597523815,
          22063.838864666235,
          31298.848906854982
         ],
         "yaxis": "y"
        },
        {
         "hovertemplate": "Depot (ZSG Area)=Tweed Heads Depot<br>pole-task_group_name-groundline-t_interval=%{x}<br>value_lost_pop=%{y}<extra></extra>",
         "legendgroup": "Tweed Heads Depot",
         "line": {
          "color": "#B6E880",
          "dash": "solid"
         },
         "mode": "lines",
         "name": "Tweed Heads Depot",
         "showlegend": true,
         "type": "scattergl",
         "x": [
          12,
          18,
          24,
          30,
          36,
          42,
          48,
          54,
          60,
          66,
          72,
          78,
          84,
          90,
          96,
          102
         ],
         "xaxis": "x",
         "y": [
          149189.35693420604,
          53884.37868200506,
          42554.33849869927,
          36431.17996929299,
          26684.219019827236,
          24075.5809122341,
          20392.50717466091,
          11614.744123497692,
          4368.53654112449,
          4596.340389451619,
          3358.11990081233,
          2667.281528885608,
          3954.317610603996,
          7337.421301865456,
          15329.180819914138,
          20236.087239170352
         ],
         "yaxis": "y"
        },
        {
         "hovertemplate": "Depot (ZSG Area)=Wagga Wagga Depot<br>pole-task_group_name-groundline-t_interval=%{x}<br>value_lost_pop=%{y}<extra></extra>",
         "legendgroup": "Wagga Wagga Depot",
         "line": {
          "color": "#FF97FF",
          "dash": "solid"
         },
         "mode": "lines",
         "name": "Wagga Wagga Depot",
         "showlegend": true,
         "type": "scattergl",
         "x": [
          12,
          18,
          24,
          30,
          36,
          42,
          48,
          54,
          60,
          66,
          72,
          78,
          84,
          90,
          96,
          102
         ],
         "xaxis": "x",
         "y": [
          330366.9163440695,
          122494.28136565567,
          90321.33309486187,
          80895.117423209,
          59983.69333428,
          53104.03979376805,
          48401.187799362495,
          32210.664743095513,
          13932.591507859452,
          16897.793638677602,
          12439.118014825626,
          5395.23883687515,
          9934.10357261746,
          18877.582216102226,
          37200.90991043369,
          54032.499567827435
         ],
         "yaxis": "y"
        },
        {
         "hovertemplate": "Depot (ZSG Area)=Walcha Depot<br>pole-task_group_name-groundline-t_interval=%{x}<br>value_lost_pop=%{y}<extra></extra>",
         "legendgroup": "Walcha Depot",
         "line": {
          "color": "#FECB52",
          "dash": "solid"
         },
         "mode": "lines",
         "name": "Walcha Depot",
         "showlegend": true,
         "type": "scattergl",
         "x": [
          12,
          18,
          24,
          30,
          36,
          42,
          48,
          54,
          60,
          66,
          72,
          78,
          84,
          90,
          96,
          102
         ],
         "xaxis": "x",
         "y": [
          99747.68844518626,
          30957.151405214525,
          20155.655198304412,
          15479.11155569257,
          10345.384887409478,
          7901.509451609658,
          5477.493393492326,
          2813.72775079734,
          1360.0658616421504,
          1011.590744706367,
          931.4843182358509,
          1145.4054765086723,
          1910.495355852708,
          3030.251053192448,
          5789.418584987358,
          6958.316369108174
         ],
         "yaxis": "y"
        },
        {
         "hovertemplate": "Depot (ZSG Area)=Walgett Depot<br>pole-task_group_name-groundline-t_interval=%{x}<br>value_lost_pop=%{y}<extra></extra>",
         "legendgroup": "Walgett Depot",
         "line": {
          "color": "#636efa",
          "dash": "solid"
         },
         "mode": "lines",
         "name": "Walgett Depot",
         "showlegend": true,
         "type": "scattergl",
         "x": [
          12,
          18,
          24,
          30,
          36,
          42,
          48,
          54,
          60,
          66,
          72,
          78,
          84,
          90,
          96,
          102
         ],
         "xaxis": "x",
         "y": [
          180098.5036635206,
          58244.402444424515,
          41409.37281193996,
          32779.662077399895,
          23010.565120503354,
          19216.07116952122,
          13321.185703045274,
          6185.562981188463,
          1940.1430056654706,
          1367.7880123647922,
          1283.6226333304296,
          2666.0470676370996,
          3294.539505529343,
          5848.826989928449,
          11015.567348130633,
          12476.732498041347
         ],
         "yaxis": "y"
        },
        {
         "hovertemplate": "Depot (ZSG Area)=Warialda Depot<br>pole-task_group_name-groundline-t_interval=%{x}<br>value_lost_pop=%{y}<extra></extra>",
         "legendgroup": "Warialda Depot",
         "line": {
          "color": "#EF553B",
          "dash": "solid"
         },
         "mode": "lines",
         "name": "Warialda Depot",
         "showlegend": true,
         "type": "scattergl",
         "x": [
          12,
          18,
          24,
          30,
          36,
          42,
          48,
          54,
          60,
          66,
          72,
          78,
          84,
          90,
          96,
          102
         ],
         "xaxis": "x",
         "y": [
          130151.55652346571,
          41057.75776504435,
          28009.337600574658,
          22292.023108216585,
          15492.455017503918,
          12579.751676439015,
          9124.268076429262,
          4690.629081479383,
          1784.007668102662,
          1505.4494865105069,
          1442.8453987678436,
          1701.2949560097584,
          2417.5372301670386,
          4489.3621969961505,
          8528.4749916783,
          9727.06506075453
         ],
         "yaxis": "y"
        },
        {
         "hovertemplate": "Depot (ZSG Area)=Warren Depot<br>pole-task_group_name-groundline-t_interval=%{x}<br>value_lost_pop=%{y}<extra></extra>",
         "legendgroup": "Warren Depot",
         "line": {
          "color": "#00cc96",
          "dash": "solid"
         },
         "mode": "lines",
         "name": "Warren Depot",
         "showlegend": true,
         "type": "scattergl",
         "x": [
          12,
          18,
          24,
          30,
          36,
          42,
          48,
          54,
          60,
          66,
          72,
          78,
          84,
          90,
          96,
          102
         ],
         "xaxis": "x",
         "y": [
          89451.32610919834,
          28667.302853077366,
          20096.442690019823,
          16404.014873835375,
          11518.944429034958,
          9946.747785926456,
          7248.762185492968,
          3884.3807691121,
          1428.3335010576536,
          1504.023599542979,
          1183.609992451008,
          1207.2027775111824,
          1471.8205063325336,
          2996.5353105834,
          5784.713740676218,
          6916.964146539743
         ],
         "yaxis": "y"
        },
        {
         "hovertemplate": "Depot (ZSG Area)=Wellington Depot<br>pole-task_group_name-groundline-t_interval=%{x}<br>value_lost_pop=%{y}<extra></extra>",
         "legendgroup": "Wellington Depot",
         "line": {
          "color": "#ab63fa",
          "dash": "solid"
         },
         "mode": "lines",
         "name": "Wellington Depot",
         "showlegend": true,
         "type": "scattergl",
         "x": [
          12,
          18,
          24,
          30,
          36,
          42,
          48,
          54,
          60,
          66,
          72,
          78,
          84,
          90,
          96,
          102
         ],
         "xaxis": "x",
         "y": [
          137364.01334323207,
          44454.060117219844,
          30503.333905794156,
          24676.04241099962,
          17406.85579261893,
          14287.342753788804,
          10971.231379438746,
          6003.508070679257,
          2945.1081764469336,
          2425.113640332719,
          1796.7670789433773,
          1703.1521128288523,
          3168.5439321852273,
          5126.802763369145,
          9869.80520395237,
          12460.747275341942
         ],
         "yaxis": "y"
        },
        {
         "hovertemplate": "Depot (ZSG Area)=West Wyalong Depot<br>pole-task_group_name-groundline-t_interval=%{x}<br>value_lost_pop=%{y}<extra></extra>",
         "legendgroup": "West Wyalong Depot",
         "line": {
          "color": "#FFA15A",
          "dash": "solid"
         },
         "mode": "lines",
         "name": "West Wyalong Depot",
         "showlegend": true,
         "type": "scattergl",
         "x": [
          12,
          18,
          24,
          30,
          36,
          42,
          48,
          54,
          60,
          66,
          72,
          78,
          84,
          90,
          96,
          102
         ],
         "xaxis": "x",
         "y": [
          143810.43788479737,
          45835.655495289415,
          30223.24735973818,
          24091.698748553637,
          16912.490026201227,
          13040.811476992107,
          10283.671003990083,
          6004.932670642754,
          3544.474502671779,
          2656.1192615685104,
          2141.6343037134484,
          1426.8229391802977,
          3518.2137261621087,
          5672.353407199996,
          11092.978677974183,
          14085.018830673826
         ],
         "yaxis": "y"
        },
        {
         "hovertemplate": "Depot (ZSG Area)=Wilcannia Depot<br>pole-task_group_name-groundline-t_interval=%{x}<br>value_lost_pop=%{y}<extra></extra>",
         "legendgroup": "Wilcannia Depot",
         "line": {
          "color": "#19d3f3",
          "dash": "solid"
         },
         "mode": "lines",
         "name": "Wilcannia Depot",
         "showlegend": true,
         "type": "scattergl",
         "x": [
          12,
          18,
          24,
          30,
          36,
          42,
          48,
          54,
          60,
          66,
          72,
          78,
          84,
          90,
          96,
          102
         ],
         "xaxis": "x",
         "y": [
          42935.71613234537,
          13204.920564455773,
          8608.222289227393,
          6613.9674763162375,
          4268.42997855284,
          3484.985401754121,
          2199.5328127557095,
          1068.0156259423773,
          361.24289598290164,
          432.48990324382635,
          322.57429584401086,
          551.4838033454711,
          615.0646903349464,
          975.9860174226279,
          1806.230859470551,
          2212.4326241027984
         ],
         "yaxis": "y"
        },
        {
         "hovertemplate": "Depot (ZSG Area)=Yass Depot<br>pole-task_group_name-groundline-t_interval=%{x}<br>value_lost_pop=%{y}<extra></extra>",
         "legendgroup": "Yass Depot",
         "line": {
          "color": "#FF6692",
          "dash": "solid"
         },
         "mode": "lines",
         "name": "Yass Depot",
         "showlegend": true,
         "type": "scattergl",
         "x": [
          12,
          18,
          24,
          30,
          36,
          42,
          48,
          54,
          60,
          66,
          72,
          78,
          84,
          90,
          96,
          102
         ],
         "xaxis": "x",
         "y": [
          195695.4907602038,
          84500.36813610679,
          70730.30377909058,
          81308.47523767148,
          62216.394939467325,
          70048.05899039017,
          70442.08461872989,
          54692.2669237356,
          24186.595719171743,
          37821.51790205894,
          24296.5169542509,
          3071.4444616778655,
          2607.9538849697406,
          14717.564251744407,
          34902.237375679055,
          64201.160284017235
         ],
         "yaxis": "y"
        },
        {
         "hovertemplate": "Depot (ZSG Area)=Young Depot<br>pole-task_group_name-groundline-t_interval=%{x}<br>value_lost_pop=%{y}<extra></extra>",
         "legendgroup": "Young Depot",
         "line": {
          "color": "#B6E880",
          "dash": "solid"
         },
         "mode": "lines",
         "name": "Young Depot",
         "showlegend": true,
         "type": "scattergl",
         "x": [
          12,
          18,
          24,
          30,
          36,
          42,
          48,
          54,
          60,
          66,
          72,
          78,
          84,
          90,
          96,
          102
         ],
         "xaxis": "x",
         "y": [
          181404.90088324103,
          63623.3968238232,
          43931.61524412977,
          35212.626815025746,
          25150.161145990976,
          19032.13260490114,
          15349.63985351336,
          8802.817189553203,
          3222.286100453361,
          2975.9151742795275,
          3057.3606589230885,
          3101.891992146096,
          5193.693638108467,
          8102.310988270909,
          14476.422548534572,
          19125.943938655862
         ],
         "yaxis": "y"
        },
        {
         "hovertemplate": "Depot (ZSG Area)=ZZ Temora<br>pole-task_group_name-groundline-t_interval=%{x}<br>value_lost_pop=%{y}<extra></extra>",
         "legendgroup": "ZZ Temora",
         "line": {
          "color": "#FF97FF",
          "dash": "solid"
         },
         "mode": "lines",
         "name": "ZZ Temora",
         "showlegend": true,
         "type": "scattergl",
         "x": [
          12,
          18,
          24,
          30,
          36,
          42,
          48,
          54,
          60,
          66,
          72,
          78,
          84,
          90,
          96,
          102
         ],
         "xaxis": "x",
         "y": [
          13.47255351423419,
          4.944507112821416,
          3.5976951496530223,
          2.680022975237236,
          1.5506462155860294,
          1.0044607949290247,
          1.4545357599395121,
          1.4004478600901127,
          1.035719570412133,
          1.0131425618473076,
          0.8359897746257969,
          0,
          0.2061223131265706,
          0.2244606897007806,
          1.590577012064844,
          3.29651840889818
         ],
         "yaxis": "y"
        },
        {
         "hovertemplate": "Depot (ZSG Area)=ZZ Warren<br>pole-task_group_name-groundline-t_interval=%{x}<br>value_lost_pop=%{y}<extra></extra>",
         "legendgroup": "ZZ Warren",
         "line": {
          "color": "#FECB52",
          "dash": "solid"
         },
         "mode": "lines",
         "name": "ZZ Warren",
         "showlegend": true,
         "type": "scattergl",
         "x": [
          12,
          18,
          24,
          30,
          36,
          42,
          48,
          54,
          60,
          66,
          72,
          78,
          84,
          90,
          96,
          102
         ],
         "xaxis": "x",
         "y": [
          26.94510702846838,
          9.889014225642832,
          7.195390299306045,
          5.360045950474472,
          3.101292431172059,
          2.0089215898580495,
          2.9090715198790242,
          2.8008957201802254,
          2.071439140824266,
          2.026285123694615,
          1.6719795492515939,
          0,
          0.4122446262531412,
          0.4489213794015612,
          3.181154024129688,
          6.59303681779636
         ],
         "yaxis": "y"
        },
        {
         "hovertemplate": "Depot (ZSG Area)=[ Deleted Assets ]<br>pole-task_group_name-groundline-t_interval=%{x}<br>value_lost_pop=%{y}<extra></extra>",
         "legendgroup": "[ Deleted Assets ]",
         "line": {
          "color": "#636efa",
          "dash": "solid"
         },
         "mode": "lines",
         "name": "[ Deleted Assets ]",
         "showlegend": true,
         "type": "scattergl",
         "x": [
          12,
          18,
          24,
          30,
          36,
          42,
          48,
          54,
          60,
          66,
          72,
          78,
          84,
          90,
          96,
          102
         ],
         "xaxis": "x",
         "y": [
          7077.457378265863,
          2495.968253638391,
          1790.8907344771687,
          1405.3325541896054,
          877.0286881537062,
          656.1895863374995,
          762.5652027687112,
          655.5480045660908,
          436.97095261379815,
          447.2827970860192,
          359.2526463924579,
          26.713339371016207,
          111.82981129478466,
          174.63359746065373,
          752.0631575777953,
          1415.452399541045
         ],
         "yaxis": "y"
        }
       ],
       "layout": {
        "legend": {
         "title": {
          "text": "Depot (ZSG Area)"
         },
         "tracegroupgap": 0
        },
        "template": {
         "data": {
          "bar": [
           {
            "error_x": {
             "color": "#2a3f5f"
            },
            "error_y": {
             "color": "#2a3f5f"
            },
            "marker": {
             "line": {
              "color": "#E5ECF6",
              "width": 0.5
             }
            },
            "type": "bar"
           }
          ],
          "barpolar": [
           {
            "marker": {
             "line": {
              "color": "#E5ECF6",
              "width": 0.5
             }
            },
            "type": "barpolar"
           }
          ],
          "carpet": [
           {
            "aaxis": {
             "endlinecolor": "#2a3f5f",
             "gridcolor": "white",
             "linecolor": "white",
             "minorgridcolor": "white",
             "startlinecolor": "#2a3f5f"
            },
            "baxis": {
             "endlinecolor": "#2a3f5f",
             "gridcolor": "white",
             "linecolor": "white",
             "minorgridcolor": "white",
             "startlinecolor": "#2a3f5f"
            },
            "type": "carpet"
           }
          ],
          "choropleth": [
           {
            "colorbar": {
             "outlinewidth": 0,
             "ticks": ""
            },
            "type": "choropleth"
           }
          ],
          "contour": [
           {
            "colorbar": {
             "outlinewidth": 0,
             "ticks": ""
            },
            "colorscale": [
             [
              0,
              "#0d0887"
             ],
             [
              0.1111111111111111,
              "#46039f"
             ],
             [
              0.2222222222222222,
              "#7201a8"
             ],
             [
              0.3333333333333333,
              "#9c179e"
             ],
             [
              0.4444444444444444,
              "#bd3786"
             ],
             [
              0.5555555555555556,
              "#d8576b"
             ],
             [
              0.6666666666666666,
              "#ed7953"
             ],
             [
              0.7777777777777778,
              "#fb9f3a"
             ],
             [
              0.8888888888888888,
              "#fdca26"
             ],
             [
              1,
              "#f0f921"
             ]
            ],
            "type": "contour"
           }
          ],
          "contourcarpet": [
           {
            "colorbar": {
             "outlinewidth": 0,
             "ticks": ""
            },
            "type": "contourcarpet"
           }
          ],
          "heatmap": [
           {
            "colorbar": {
             "outlinewidth": 0,
             "ticks": ""
            },
            "colorscale": [
             [
              0,
              "#0d0887"
             ],
             [
              0.1111111111111111,
              "#46039f"
             ],
             [
              0.2222222222222222,
              "#7201a8"
             ],
             [
              0.3333333333333333,
              "#9c179e"
             ],
             [
              0.4444444444444444,
              "#bd3786"
             ],
             [
              0.5555555555555556,
              "#d8576b"
             ],
             [
              0.6666666666666666,
              "#ed7953"
             ],
             [
              0.7777777777777778,
              "#fb9f3a"
             ],
             [
              0.8888888888888888,
              "#fdca26"
             ],
             [
              1,
              "#f0f921"
             ]
            ],
            "type": "heatmap"
           }
          ],
          "heatmapgl": [
           {
            "colorbar": {
             "outlinewidth": 0,
             "ticks": ""
            },
            "colorscale": [
             [
              0,
              "#0d0887"
             ],
             [
              0.1111111111111111,
              "#46039f"
             ],
             [
              0.2222222222222222,
              "#7201a8"
             ],
             [
              0.3333333333333333,
              "#9c179e"
             ],
             [
              0.4444444444444444,
              "#bd3786"
             ],
             [
              0.5555555555555556,
              "#d8576b"
             ],
             [
              0.6666666666666666,
              "#ed7953"
             ],
             [
              0.7777777777777778,
              "#fb9f3a"
             ],
             [
              0.8888888888888888,
              "#fdca26"
             ],
             [
              1,
              "#f0f921"
             ]
            ],
            "type": "heatmapgl"
           }
          ],
          "histogram": [
           {
            "marker": {
             "colorbar": {
              "outlinewidth": 0,
              "ticks": ""
             }
            },
            "type": "histogram"
           }
          ],
          "histogram2d": [
           {
            "colorbar": {
             "outlinewidth": 0,
             "ticks": ""
            },
            "colorscale": [
             [
              0,
              "#0d0887"
             ],
             [
              0.1111111111111111,
              "#46039f"
             ],
             [
              0.2222222222222222,
              "#7201a8"
             ],
             [
              0.3333333333333333,
              "#9c179e"
             ],
             [
              0.4444444444444444,
              "#bd3786"
             ],
             [
              0.5555555555555556,
              "#d8576b"
             ],
             [
              0.6666666666666666,
              "#ed7953"
             ],
             [
              0.7777777777777778,
              "#fb9f3a"
             ],
             [
              0.8888888888888888,
              "#fdca26"
             ],
             [
              1,
              "#f0f921"
             ]
            ],
            "type": "histogram2d"
           }
          ],
          "histogram2dcontour": [
           {
            "colorbar": {
             "outlinewidth": 0,
             "ticks": ""
            },
            "colorscale": [
             [
              0,
              "#0d0887"
             ],
             [
              0.1111111111111111,
              "#46039f"
             ],
             [
              0.2222222222222222,
              "#7201a8"
             ],
             [
              0.3333333333333333,
              "#9c179e"
             ],
             [
              0.4444444444444444,
              "#bd3786"
             ],
             [
              0.5555555555555556,
              "#d8576b"
             ],
             [
              0.6666666666666666,
              "#ed7953"
             ],
             [
              0.7777777777777778,
              "#fb9f3a"
             ],
             [
              0.8888888888888888,
              "#fdca26"
             ],
             [
              1,
              "#f0f921"
             ]
            ],
            "type": "histogram2dcontour"
           }
          ],
          "mesh3d": [
           {
            "colorbar": {
             "outlinewidth": 0,
             "ticks": ""
            },
            "type": "mesh3d"
           }
          ],
          "parcoords": [
           {
            "line": {
             "colorbar": {
              "outlinewidth": 0,
              "ticks": ""
             }
            },
            "type": "parcoords"
           }
          ],
          "pie": [
           {
            "automargin": true,
            "type": "pie"
           }
          ],
          "scatter": [
           {
            "marker": {
             "colorbar": {
              "outlinewidth": 0,
              "ticks": ""
             }
            },
            "type": "scatter"
           }
          ],
          "scatter3d": [
           {
            "line": {
             "colorbar": {
              "outlinewidth": 0,
              "ticks": ""
             }
            },
            "marker": {
             "colorbar": {
              "outlinewidth": 0,
              "ticks": ""
             }
            },
            "type": "scatter3d"
           }
          ],
          "scattercarpet": [
           {
            "marker": {
             "colorbar": {
              "outlinewidth": 0,
              "ticks": ""
             }
            },
            "type": "scattercarpet"
           }
          ],
          "scattergeo": [
           {
            "marker": {
             "colorbar": {
              "outlinewidth": 0,
              "ticks": ""
             }
            },
            "type": "scattergeo"
           }
          ],
          "scattergl": [
           {
            "marker": {
             "colorbar": {
              "outlinewidth": 0,
              "ticks": ""
             }
            },
            "type": "scattergl"
           }
          ],
          "scattermapbox": [
           {
            "marker": {
             "colorbar": {
              "outlinewidth": 0,
              "ticks": ""
             }
            },
            "type": "scattermapbox"
           }
          ],
          "scatterpolar": [
           {
            "marker": {
             "colorbar": {
              "outlinewidth": 0,
              "ticks": ""
             }
            },
            "type": "scatterpolar"
           }
          ],
          "scatterpolargl": [
           {
            "marker": {
             "colorbar": {
              "outlinewidth": 0,
              "ticks": ""
             }
            },
            "type": "scatterpolargl"
           }
          ],
          "scatterternary": [
           {
            "marker": {
             "colorbar": {
              "outlinewidth": 0,
              "ticks": ""
             }
            },
            "type": "scatterternary"
           }
          ],
          "surface": [
           {
            "colorbar": {
             "outlinewidth": 0,
             "ticks": ""
            },
            "colorscale": [
             [
              0,
              "#0d0887"
             ],
             [
              0.1111111111111111,
              "#46039f"
             ],
             [
              0.2222222222222222,
              "#7201a8"
             ],
             [
              0.3333333333333333,
              "#9c179e"
             ],
             [
              0.4444444444444444,
              "#bd3786"
             ],
             [
              0.5555555555555556,
              "#d8576b"
             ],
             [
              0.6666666666666666,
              "#ed7953"
             ],
             [
              0.7777777777777778,
              "#fb9f3a"
             ],
             [
              0.8888888888888888,
              "#fdca26"
             ],
             [
              1,
              "#f0f921"
             ]
            ],
            "type": "surface"
           }
          ],
          "table": [
           {
            "cells": {
             "fill": {
              "color": "#EBF0F8"
             },
             "line": {
              "color": "white"
             }
            },
            "header": {
             "fill": {
              "color": "#C8D4E3"
             },
             "line": {
              "color": "white"
             }
            },
            "type": "table"
           }
          ]
         },
         "layout": {
          "annotationdefaults": {
           "arrowcolor": "#2a3f5f",
           "arrowhead": 0,
           "arrowwidth": 1
          },
          "coloraxis": {
           "colorbar": {
            "outlinewidth": 0,
            "ticks": ""
           }
          },
          "colorscale": {
           "diverging": [
            [
             0,
             "#8e0152"
            ],
            [
             0.1,
             "#c51b7d"
            ],
            [
             0.2,
             "#de77ae"
            ],
            [
             0.3,
             "#f1b6da"
            ],
            [
             0.4,
             "#fde0ef"
            ],
            [
             0.5,
             "#f7f7f7"
            ],
            [
             0.6,
             "#e6f5d0"
            ],
            [
             0.7,
             "#b8e186"
            ],
            [
             0.8,
             "#7fbc41"
            ],
            [
             0.9,
             "#4d9221"
            ],
            [
             1,
             "#276419"
            ]
           ],
           "sequential": [
            [
             0,
             "#0d0887"
            ],
            [
             0.1111111111111111,
             "#46039f"
            ],
            [
             0.2222222222222222,
             "#7201a8"
            ],
            [
             0.3333333333333333,
             "#9c179e"
            ],
            [
             0.4444444444444444,
             "#bd3786"
            ],
            [
             0.5555555555555556,
             "#d8576b"
            ],
            [
             0.6666666666666666,
             "#ed7953"
            ],
            [
             0.7777777777777778,
             "#fb9f3a"
            ],
            [
             0.8888888888888888,
             "#fdca26"
            ],
            [
             1,
             "#f0f921"
            ]
           ],
           "sequentialminus": [
            [
             0,
             "#0d0887"
            ],
            [
             0.1111111111111111,
             "#46039f"
            ],
            [
             0.2222222222222222,
             "#7201a8"
            ],
            [
             0.3333333333333333,
             "#9c179e"
            ],
            [
             0.4444444444444444,
             "#bd3786"
            ],
            [
             0.5555555555555556,
             "#d8576b"
            ],
            [
             0.6666666666666666,
             "#ed7953"
            ],
            [
             0.7777777777777778,
             "#fb9f3a"
            ],
            [
             0.8888888888888888,
             "#fdca26"
            ],
            [
             1,
             "#f0f921"
            ]
           ]
          },
          "colorway": [
           "#636efa",
           "#EF553B",
           "#00cc96",
           "#ab63fa",
           "#FFA15A",
           "#19d3f3",
           "#FF6692",
           "#B6E880",
           "#FF97FF",
           "#FECB52"
          ],
          "font": {
           "color": "#2a3f5f"
          },
          "geo": {
           "bgcolor": "white",
           "lakecolor": "white",
           "landcolor": "#E5ECF6",
           "showlakes": true,
           "showland": true,
           "subunitcolor": "white"
          },
          "hoverlabel": {
           "align": "left"
          },
          "hovermode": "closest",
          "mapbox": {
           "style": "light"
          },
          "paper_bgcolor": "white",
          "plot_bgcolor": "#E5ECF6",
          "polar": {
           "angularaxis": {
            "gridcolor": "white",
            "linecolor": "white",
            "ticks": ""
           },
           "bgcolor": "#E5ECF6",
           "radialaxis": {
            "gridcolor": "white",
            "linecolor": "white",
            "ticks": ""
           }
          },
          "scene": {
           "xaxis": {
            "backgroundcolor": "#E5ECF6",
            "gridcolor": "white",
            "gridwidth": 2,
            "linecolor": "white",
            "showbackground": true,
            "ticks": "",
            "zerolinecolor": "white"
           },
           "yaxis": {
            "backgroundcolor": "#E5ECF6",
            "gridcolor": "white",
            "gridwidth": 2,
            "linecolor": "white",
            "showbackground": true,
            "ticks": "",
            "zerolinecolor": "white"
           },
           "zaxis": {
            "backgroundcolor": "#E5ECF6",
            "gridcolor": "white",
            "gridwidth": 2,
            "linecolor": "white",
            "showbackground": true,
            "ticks": "",
            "zerolinecolor": "white"
           }
          },
          "shapedefaults": {
           "line": {
            "color": "#2a3f5f"
           }
          },
          "ternary": {
           "aaxis": {
            "gridcolor": "white",
            "linecolor": "white",
            "ticks": ""
           },
           "baxis": {
            "gridcolor": "white",
            "linecolor": "white",
            "ticks": ""
           },
           "bgcolor": "#E5ECF6",
           "caxis": {
            "gridcolor": "white",
            "linecolor": "white",
            "ticks": ""
           }
          },
          "title": {
           "x": 0.05
          },
          "xaxis": {
           "automargin": true,
           "gridcolor": "white",
           "linecolor": "white",
           "ticks": "",
           "title": {
            "standoff": 15
           },
           "zerolinecolor": "white",
           "zerolinewidth": 2
          },
          "yaxis": {
           "automargin": true,
           "gridcolor": "white",
           "linecolor": "white",
           "ticks": "",
           "title": {
            "standoff": 15
           },
           "zerolinecolor": "white",
           "zerolinewidth": 2
          }
         }
        },
        "title": {
         "text": "Annual Value Lost"
        },
        "xaxis": {
         "anchor": "y",
         "domain": [
          0,
          1
         ],
         "title": {
          "text": "pole-task_group_name-groundline-t_interval"
         }
        },
        "yaxis": {
         "anchor": "x",
         "domain": [
          0,
          1
         ],
         "title": {
          "text": "value_lost_pop"
         }
        }
       }
      }
     },
     "metadata": {}
    }
   ],
   "source": [
    "#Combine the two files together\n",
    "df_result = pd.merge(df_pop, df_total, on=sens_var)\n",
    "\n",
    "# Calculte the value lost across the population\n",
    "df_result['value_lost_pop'] = df_result['value_lost'] * df_result['asset_count']\n",
    "\n",
    "# Caculate the value lost across ignoring sub populations\n",
    "df_all = df_result.groupby(by=x_axis).sum()[['value_lost', 'value_lost_pop']].reset_index()\n",
    "df_all[agg_cols] = \"all\"\n",
    "\n",
    "# Calculate the value lost within sub populations\n",
    "by = [x_axis] + agg_cols\n",
    "df_agg = df_result.groupby(by=by).sum()[['value_lost', 'value_lost_pop']].reset_index()\n",
    "\n",
    "# Combine them together\n",
    "df_all = df_all.append(df_agg)\n",
    "\n",
    "# Plot the results\n",
    "make_value_lost_fig(df_all, x_axis=x_axis, y_axis='value_lost_pop', legend =agg_cols[0], title=f'Annual Value Lost')"
   ]
  },
  {
   "source": [
    "## 1 step version, which seems causes memory errors"
   ],
   "cell_type": "markdown",
   "metadata": {}
  },
  {
   "cell_type": "code",
   "execution_count": null,
   "metadata": {},
   "outputs": [],
   "source": [
    "# df_sens_var = pd.DataFrame(sens_vars[y_var], columns= [y_var])\n",
    "\n",
    "# # Fill with average val\n",
    "# df_cons[pop_var] = df_cons[pop_var].fillna(df_cons[pop_var].mean())\n",
    "\n",
    "# # Match to the closest value from the model\n",
    "# df = pd.merge_asof(\n",
    "#     df_cons.sort_values(pop_var),\n",
    "#     df_sens_var,\n",
    "#     left_on = pop_var,\n",
    "#     right_on = y_var,\n",
    "#     direction = 'forward'\n",
    "# )\n",
    "\n",
    "# df_plot = pd.merge(df, df_total.reset_index(), on=y_var).groupby(by=x_var).sum().reset_index()\n",
    "# #y= ['list(set(df_plot) - set([sens_var, uid_col]))']\n",
    "# y = ['quantity_annual', 'cost_annual', 'value_lost']\n",
    "\n",
    "# px.line(df_plot, x=x_var, y=y)"
   ]
  }
 ],
 "metadata": {
  "kernelspec": {
   "name": ".venv",
   "display_name": ".venv",
   "language": "python"
  },
  "language_info": {
   "codemirror_mode": {
    "name": "ipython",
    "version": 3
   },
   "file_extension": ".py",
   "mimetype": "text/x-python",
   "name": "python",
   "nbconvert_exporter": "python",
   "pygments_lexer": "ipython3",
   "version": "3.9.0-final"
  }
 },
 "nbformat": 4,
 "nbformat_minor": 2
}