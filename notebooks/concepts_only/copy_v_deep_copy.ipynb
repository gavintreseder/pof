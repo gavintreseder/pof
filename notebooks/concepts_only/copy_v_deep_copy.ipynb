{
 "metadata": {
  "language_info": {
   "codemirror_mode": {
    "name": "ipython",
    "version": 3
   },
   "file_extension": ".py",
   "mimetype": "text/x-python",
   "name": "python",
   "nbconvert_exporter": "python",
   "pygments_lexer": "ipython3",
   "version": "3.9.0-final"
  },
  "orig_nbformat": 2,
  "kernelspec": {
   "name": "python3",
   "display_name": "Python 3"
  }
 },
 "nbformat": 4,
 "nbformat_minor": 2,
 "cells": [
  {
   "source": [
    "# Demo notebook\n",
    "The purpose of this notebook is to keep a record of concepts that affected the creation of this code base"
   ],
   "cell_type": "markdown",
   "metadata": {}
  },
  {
   "source": [
    "## Copy v Deep Copy\n",
    "Explains the differences between copy and deep copy when using immutable objects like lists, dicts and classes"
   ],
   "cell_type": "markdown",
   "metadata": {}
  },
  {
   "cell_type": "code",
   "execution_count": 24,
   "metadata": {},
   "outputs": [],
   "source": [
    "import copy\n",
    "\n",
    "import pandas as pd"
   ]
  },
  {
   "cell_type": "code",
   "execution_count": 25,
   "metadata": {},
   "outputs": [],
   "source": [
    "def dict_copy_methods(original):\n",
    "    \"\"\"\n",
    "    Takes a dictionary and tests the various methods of copying data to see which data is updated\n",
    "    \"\"\"\n",
    "    copy_method = {\n",
    "        'original': original,\n",
    "        'assignment':original,\n",
    "        'shallow copy' :copy.copy(original),\n",
    "        'deep copy':copy.deepcopy(original),\n",
    "        'unpack dict': dict(**original),\n",
    "        'dict': dict(original)\n",
    "    }\n",
    "\n",
    "    return copy_method"
   ]
  },
  {
   "cell_type": "code",
   "execution_count": 26,
   "metadata": {},
   "outputs": [
    {
     "output_type": "execute_result",
     "data": {
      "text/plain": [
       "                      original          assignment        shallow copy  \\\n",
       "data                         1                   1                   0   \n",
       "list                 [0, 0, 2]           [0, 0, 2]           [0, 0, 2]   \n",
       "dict_dict           {'key': 3}          {'key': 3}          {'key': 3}   \n",
       "dict_list   {'key': [0, 0, 4]}  {'key': [0, 0, 4]}  {'key': [0, 0, 4]}   \n",
       "pointed_to          {'key': 6}          {'key': 6}          {'key': 6}   \n",
       "pointer             {'key': 6}          {'key': 6}          {'key': 6}   \n",
       "\n",
       "                     deep copy         unpack dict                dict  \n",
       "data                         0                   0                   0  \n",
       "list                 [0, 0, 0]           [0, 0, 2]           [0, 0, 2]  \n",
       "dict_dict           {'key': 0}          {'key': 3}          {'key': 3}  \n",
       "dict_list   {'key': [0, 0, 0]}  {'key': [0, 0, 4]}  {'key': [0, 0, 4]}  \n",
       "pointed_to          {'key': 0}          {'key': 6}          {'key': 6}  \n",
       "pointer             {'key': 0}          {'key': 6}          {'key': 6}  "
      ],
      "text/html": "<div>\n<style scoped>\n    .dataframe tbody tr th:only-of-type {\n        vertical-align: middle;\n    }\n\n    .dataframe tbody tr th {\n        vertical-align: top;\n    }\n\n    .dataframe thead th {\n        text-align: right;\n    }\n</style>\n<table border=\"1\" class=\"dataframe\">\n  <thead>\n    <tr style=\"text-align: right;\">\n      <th></th>\n      <th>original</th>\n      <th>assignment</th>\n      <th>shallow copy</th>\n      <th>deep copy</th>\n      <th>unpack dict</th>\n      <th>dict</th>\n    </tr>\n  </thead>\n  <tbody>\n    <tr>\n      <th>data</th>\n      <td>1</td>\n      <td>1</td>\n      <td>0</td>\n      <td>0</td>\n      <td>0</td>\n      <td>0</td>\n    </tr>\n    <tr>\n      <th>list</th>\n      <td>[0, 0, 2]</td>\n      <td>[0, 0, 2]</td>\n      <td>[0, 0, 2]</td>\n      <td>[0, 0, 0]</td>\n      <td>[0, 0, 2]</td>\n      <td>[0, 0, 2]</td>\n    </tr>\n    <tr>\n      <th>dict_dict</th>\n      <td>{'key': 3}</td>\n      <td>{'key': 3}</td>\n      <td>{'key': 3}</td>\n      <td>{'key': 0}</td>\n      <td>{'key': 3}</td>\n      <td>{'key': 3}</td>\n    </tr>\n    <tr>\n      <th>dict_list</th>\n      <td>{'key': [0, 0, 4]}</td>\n      <td>{'key': [0, 0, 4]}</td>\n      <td>{'key': [0, 0, 4]}</td>\n      <td>{'key': [0, 0, 0]}</td>\n      <td>{'key': [0, 0, 4]}</td>\n      <td>{'key': [0, 0, 4]}</td>\n    </tr>\n    <tr>\n      <th>pointed_to</th>\n      <td>{'key': 6}</td>\n      <td>{'key': 6}</td>\n      <td>{'key': 6}</td>\n      <td>{'key': 0}</td>\n      <td>{'key': 6}</td>\n      <td>{'key': 6}</td>\n    </tr>\n    <tr>\n      <th>pointer</th>\n      <td>{'key': 6}</td>\n      <td>{'key': 6}</td>\n      <td>{'key': 6}</td>\n      <td>{'key': 0}</td>\n      <td>{'key': 6}</td>\n      <td>{'key': 6}</td>\n    </tr>\n  </tbody>\n</table>\n</div>"
     },
     "metadata": {},
     "execution_count": 26
    }
   ],
   "source": [
    "a_dict = {\n",
    "    'data':0,\n",
    "    'list':[0,0,0],\n",
    "    'dict_dict':{'key':0},\n",
    "    'dict_list':{'key':[0,0,0]},\n",
    "    'pointed_to':{'key':0}\n",
    "}\n",
    "\n",
    "a_dict['pointer'] = a_dict['pointed_to']\n",
    "\n",
    "results = dict_copy_methods(a_dict)\n",
    "\n",
    "a_dict['data'] = 1\n",
    "a_dict['list'][-1] = 2\n",
    "a_dict['dict_dict']['key'] = 3\n",
    "a_dict['dict_list']['key'][-1] = 4\n",
    "a_dict['pointed_to']['key'] = 5\n",
    "a_dict['pointer']['key'] = 6\n",
    "\n",
    "\n",
    "pd.DataFrame(results)"
   ]
  },
  {
   "source": [
    "Deep copy maintains any pointer relationships so pointer and pointed_to will still both refer to the same item in memory"
   ],
   "cell_type": "markdown",
   "metadata": {}
  },
  {
   "cell_type": "code",
   "execution_count": 1,
   "metadata": {},
   "outputs": [
    {
     "output_type": "error",
     "ename": "NameError",
     "evalue": "name 'copy' is not defined",
     "traceback": [
      "\u001b[1;31m---------------------------------------------------------------------------\u001b[0m",
      "\u001b[1;31mNameError\u001b[0m                                 Traceback (most recent call last)",
      "\u001b[1;32m<ipython-input-1-ce3ddcc726ab>\u001b[0m in \u001b[0;36m<module>\u001b[1;34m\u001b[0m\n\u001b[1;32m----> 1\u001b[1;33m \u001b[0mb_dict\u001b[0m \u001b[1;33m=\u001b[0m \u001b[0mcopy\u001b[0m\u001b[1;33m.\u001b[0m\u001b[0mdeepcopy\u001b[0m\u001b[1;33m(\u001b[0m\u001b[0ma_dict\u001b[0m\u001b[1;33m)\u001b[0m\u001b[1;33m\u001b[0m\u001b[1;33m\u001b[0m\u001b[0m\n\u001b[0m\u001b[0;32m      2\u001b[0m \u001b[1;33m\u001b[0m\u001b[0m\n\u001b[0;32m      3\u001b[0m \u001b[0ma_dict\u001b[0m\u001b[1;33m[\u001b[0m\u001b[1;34m'data'\u001b[0m\u001b[1;33m]\u001b[0m \u001b[1;33m=\u001b[0m \u001b[1;36m7\u001b[0m\u001b[1;33m\u001b[0m\u001b[1;33m\u001b[0m\u001b[0m\n\u001b[0;32m      4\u001b[0m \u001b[0ma_dict\u001b[0m\u001b[1;33m[\u001b[0m\u001b[1;34m'list'\u001b[0m\u001b[1;33m]\u001b[0m\u001b[1;33m[\u001b[0m\u001b[1;33m-\u001b[0m\u001b[1;36m1\u001b[0m\u001b[1;33m]\u001b[0m \u001b[1;33m=\u001b[0m \u001b[1;36m8\u001b[0m\u001b[1;33m\u001b[0m\u001b[1;33m\u001b[0m\u001b[0m\n\u001b[0;32m      5\u001b[0m \u001b[0ma_dict\u001b[0m\u001b[1;33m[\u001b[0m\u001b[1;34m'dict_dict'\u001b[0m\u001b[1;33m]\u001b[0m\u001b[1;33m[\u001b[0m\u001b[1;34m'key'\u001b[0m\u001b[1;33m]\u001b[0m \u001b[1;33m=\u001b[0m \u001b[1;36m9\u001b[0m\u001b[1;33m\u001b[0m\u001b[1;33m\u001b[0m\u001b[0m\n",
      "\u001b[1;31mNameError\u001b[0m: name 'copy' is not defined"
     ]
    }
   ],
   "source": [
    "b_dict = copy.deepcopy(a_dict)\n",
    "\n",
    "a_dict['data'] = 7\n",
    "a_dict['list'][-1] = 8\n",
    "a_dict['dict_dict']['key'] = 9\n",
    "a_dict['dict_list']['key'][-1] = 10\n",
    "a_dict['pointed_to']['key'] = 11\n",
    "a_dict['pointer']['key'] = 12\n",
    "\n",
    "results = dict_copy_methods(b_dict)\n",
    "\n",
    "pd.DataFrame(results)"
   ]
  },
  {
   "source": [
    "## Popping from a dictionary when data references it"
   ],
   "cell_type": "markdown",
   "metadata": {}
  },
  {
   "cell_type": "code",
   "execution_count": 9,
   "metadata": {},
   "outputs": [],
   "source": [
    "my_dict = {\n",
    "    'item_1': [0,0,0],\n",
    "    'pointed_to': [0,0,0]\n",
    "}\n",
    "my_dict['pointer'] = my_dict['pointed_to']\n",
    "\n",
    "external_pointer = my_dict['pointed_to']"
   ]
  },
  {
   "cell_type": "code",
   "execution_count": 10,
   "metadata": {},
   "outputs": [
    {
     "output_type": "execute_result",
     "data": {
      "text/plain": [
       "{'item_1': [0, 0, 0], 'pointer': [0, 0, 1], 'new_pointed_to': [0, 0, 1]}"
      ]
     },
     "metadata": {},
     "execution_count": 10
    }
   ],
   "source": [
    "my_dict['new_pointed_to'] = my_dict.pop('pointed_to')\n",
    "my_dict['new_pointed_to'][-1] = 1\n",
    "my_dict"
   ]
  },
  {
   "cell_type": "code",
   "execution_count": 11,
   "metadata": {},
   "outputs": [
    {
     "output_type": "execute_result",
     "data": {
      "text/plain": [
       "[0, 0, 1]"
      ]
     },
     "metadata": {},
     "execution_count": 11
    }
   ],
   "source": [
    "external_pointer"
   ]
  },
  {
   "source": [
    "## Looping through iterables"
   ],
   "cell_type": "markdown",
   "metadata": {}
  },
  {
   "cell_type": "code",
   "execution_count": 14,
   "metadata": {},
   "outputs": [],
   "source": [
    "my_list = [1,2,3]\n",
    "my_dict = {'one':1, 'two':2, 'three':3}"
   ]
  },
  {
   "cell_type": "code",
   "execution_count": 15,
   "metadata": {},
   "outputs": [
    {
     "output_type": "error",
     "ename": "AttributeError",
     "evalue": "'list' object has no attribute 'values'",
     "traceback": [
      "\u001b[1;31m---------------------------------------------------------------------------\u001b[0m",
      "\u001b[1;31mAttributeError\u001b[0m                            Traceback (most recent call last)",
      "\u001b[1;32m<ipython-input-15-71b1bc1cfac7>\u001b[0m in \u001b[0;36m<module>\u001b[1;34m\u001b[0m\n\u001b[1;32m----> 1\u001b[1;33m \u001b[1;32mfor\u001b[0m \u001b[0mval\u001b[0m \u001b[1;32min\u001b[0m \u001b[0mmy_list\u001b[0m\u001b[1;33m.\u001b[0m\u001b[0mvalues\u001b[0m\u001b[1;33m(\u001b[0m\u001b[1;33m)\u001b[0m\u001b[1;33m:\u001b[0m\u001b[1;33m\u001b[0m\u001b[1;33m\u001b[0m\u001b[0m\n\u001b[0m\u001b[0;32m      2\u001b[0m     \u001b[0mprint\u001b[0m \u001b[1;33m(\u001b[0m\u001b[0mval\u001b[0m\u001b[1;33m)\u001b[0m\u001b[1;33m\u001b[0m\u001b[1;33m\u001b[0m\u001b[0m\n",
      "\u001b[1;31mAttributeError\u001b[0m: 'list' object has no attribute 'values'"
     ]
    }
   ],
   "source": [
    "for val in my_list.values():\n",
    "    print (val)"
   ]
  },
  {
   "cell_type": "code",
   "execution_count": 17,
   "metadata": {},
   "outputs": [],
   "source": [
    "class MyDict(dict):\n",
    "    def __setitem__(self, item, value):\n",
    "        print(\"You are changing the value of {} to {}!!\".format(item, value))\n",
    "        super(MyDict, self).__setitem__(item, value)\n"
   ]
  },
  {
   "cell_type": "code",
   "execution_count": 18,
   "metadata": {},
   "outputs": [],
   "source": [
    "d = MyDict()"
   ]
  },
  {
   "cell_type": "code",
   "execution_count": 23,
   "metadata": {},
   "outputs": [],
   "source": [
    "d['3']['4'] = 5"
   ]
  },
  {
   "cell_type": "code",
   "execution_count": 36,
   "metadata": {},
   "outputs": [
    {
     "output_type": "execute_result",
     "data": {
      "text/plain": [
       "{'one': {'two': {'three': 'four'}}, 1: {2: {3: 4}}}"
      ]
     },
     "metadata": {},
     "execution_count": 36
    }
   ],
   "source": [
    "test_dict = {\n",
    "    'one':{\n",
    "        'two':{\n",
    "            'three':'four'\n",
    "            }\n",
    "        },\n",
    "    1:{2:{3:4}},\n",
    "}\n",
    "test_dict"
   ]
  },
  {
   "cell_type": "code",
   "execution_count": 43,
   "metadata": {},
   "outputs": [
    {
     "output_type": "execute_result",
     "data": {
      "text/plain": [
       "{1: 'no'}"
      ]
     },
     "metadata": {},
     "execution_count": 43
    }
   ],
   "source": [
    "other_dict = {key:val for key, val in test_dict.items() if key == 1}\n",
    "other_dict[1] = 'no'\n",
    "other_dict"
   ]
  },
  {
   "cell_type": "code",
   "execution_count": 44,
   "metadata": {},
   "outputs": [
    {
     "output_type": "execute_result",
     "data": {
      "text/plain": [
       "{'one': {'two': {'three': 'four'}}, 1: {2: {3: 4}}}"
      ]
     },
     "metadata": {},
     "execution_count": 44
    }
   ],
   "source": [
    "test_dict"
   ]
  },
  {
   "cell_type": "code",
   "execution_count": null,
   "metadata": {},
   "outputs": [],
   "source": []
  }
 ]
}