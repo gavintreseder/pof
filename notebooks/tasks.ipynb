{
 "metadata": {
  "language_info": {
   "codemirror_mode": {
    "name": "ipython",
    "version": 3
   },
   "file_extension": ".py",
   "mimetype": "text/x-python",
   "name": "python",
   "nbconvert_exporter": "python",
   "pygments_lexer": "ipython3",
   "version": "3.8.3-final"
  },
  "orig_nbformat": 2,
  "kernelspec": {
   "name": "python_defaultSpec_1598831158891",
   "display_name": "Python 3.8.3 64-bit ('base': conda)"
  }
 },
 "nbformat": 4,
 "nbformat_minor": 2,
 "cells": [
  {
   "cell_type": "code",
   "execution_count": 1,
   "metadata": {},
   "outputs": [],
   "source": [
    "#  Add root folder to python path\n",
    "import sys\n",
    "import os\n",
    "sys.path.append(os.path.dirname(os.getcwd()))\n",
    "\n",
    "# Add some common packages\n",
    "import numpy as np\n",
    "import pandas as pd\n",
    "import math\n",
    "import scipy.stats as ss\n",
    "from matplotlib import pyplot as plt\n",
    "import seaborn as sns\n",
    "from tqdm import tqdm\n",
    "import copy\n",
    "\n",
    "import plotly.express as px\n",
    "from reliability.Fitters import Fit_Weibull_3P"
   ]
  },
  {
   "cell_type": "code",
   "execution_count": 2,
   "metadata": {},
   "outputs": [],
   "source": [
    "# Set up the failure mode class\n",
    "from pof.failure_mode import FailureMode\n",
    "from pof.condition import Condition\n",
    "from pof.task import *"
   ]
  },
  {
   "cell_type": "code",
   "execution_count": 3,
   "metadata": {},
   "outputs": [],
   "source": [
    "fm = FailureMode().set_demo()"
   ]
  },
  {
   "cell_type": "code",
   "execution_count": 6,
   "metadata": {},
   "outputs": [
    {
     "output_type": "execute_result",
     "data": {
      "text/plain": "'Inspection'"
     },
     "metadata": {},
     "execution_count": 6
    }
   ],
   "source": [
    "fm.tasks['inspection'].__class__.__name__"
   ]
  },
  {
   "cell_type": "code",
   "execution_count": 25,
   "metadata": {
    "tags": []
   },
   "outputs": [],
   "source": [
    "for v in [key for key, var in fm.__dict__.items() if isinstance(var, dict)]:\n",
    "\n",
    "for k, v in fm.__dict__.items():\n",
    "    if \n",
    "\n",
    "\n",
    "    if fm.__dict__[v] in fm.__dict__"
   ]
  },
  {
   "cell_type": "code",
   "execution_count": 26,
   "metadata": {},
   "outputs": [
    {
     "output_type": "execute_result",
     "data": {
      "text/plain": "['FailureMode-fm-active',\n 'FailureMode-fm-pf_curve',\n 'FailureMode-fm-pf_interval',\n 'FailureMode-fm-pf_std',\n 'FailureMode-fm-Distribution-untreated-alpha',\n 'FailureMode-fm-Distribution-untreated-beta',\n 'FailureMode-fm-Distribution-untreated-gamma',\n 'FailureMode-fm-Task-inspection-active',\n 'FailureMode-fm-Task-inspection-p_effective',\n 'FailureMode-fm-Task-inspection-cost',\n 'FailureMode-fm-Task-inspection-t_interval',\n 'FailureMode-fm-Task-inspection-t_delay',\n 'FailureMode-fm-Task-inspection-trigger-condition-wall_thickness-lower',\n 'FailureMode-fm-Task-inspection-trigger-condition-wall_thickness-upper',\n 'FailureMode-fm-Task-inspection-trigger-state-initiation',\n 'FailureMode-fm-Task-inspection-impact-state-detection',\n 'FailureMode-fm-Task-on_condition_repair-active',\n 'FailureMode-fm-Task-on_condition_repair-p_effective',\n 'FailureMode-fm-Task-on_condition_repair-cost',\n 'FailureMode-fm-Task-on_condition_repair-trigger-condition-wall_thickness-lower',\n 'FailureMode-fm-Task-on_condition_repair-trigger-condition-wall_thickness-upper',\n 'FailureMode-fm-Task-on_condition_repair-trigger-state-detection',\n 'FailureMode-fm-Task-on_condition_repair-impact-condition-wall_thickness-target',\n 'FailureMode-fm-Task-on_condition_repair-impact-condition-wall_thickness-method',\n 'FailureMode-fm-Task-on_condition_repair-impact-condition-wall_thickness-axis',\n 'FailureMode-fm-Task-on_condition_repair-impact-state-initiation',\n 'FailureMode-fm-Task-on_condition_repair-impact-state-detection',\n 'FailureMode-fm-Task-on_condition_repair-impact-state-failure',\n 'FailureMode-fm-Task-cm-active',\n 'FailureMode-fm-Task-cm-p_effective',\n 'FailureMode-fm-Task-cm-cost',\n 'FailureMode-fm-Task-cm-trigger-state-failure',\n 'FailureMode-fm-Task-cm-impact-condition-wall_thickness-target',\n 'FailureMode-fm-Task-cm-impact-condition-wall_thickness-method',\n 'FailureMode-fm-Task-cm-impact-condition-wall_thickness-axis',\n 'FailureMode-fm-Task-cm-impact-condition-external_diameter-target',\n 'FailureMode-fm-Task-cm-impact-condition-external_diameter-method',\n 'FailureMode-fm-Task-cm-impact-condition-external_diameter-axis',\n 'FailureMode-fm-Task-cm-impact-state-initiation',\n 'FailureMode-fm-Task-cm-impact-state-detection',\n 'FailureMode-fm-Task-cm-impact-state-failure']"
     },
     "metadata": {},
     "execution_count": 26
    }
   ],
   "source": [
    "fm.get_dash_ids()"
   ]
  }
 ]
}