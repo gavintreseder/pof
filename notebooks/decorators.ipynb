{
 "metadata": {
  "language_info": {
   "codemirror_mode": {
    "name": "ipython",
    "version": 3
   },
   "file_extension": ".py",
   "mimetype": "text/x-python",
   "name": "python",
   "nbconvert_exporter": "python",
   "pygments_lexer": "ipython3",
   "version": "3.8.0-final"
  },
  "orig_nbformat": 2,
  "kernelspec": {
   "name": "python3",
   "display_name": "Python 3"
  }
 },
 "nbformat": 4,
 "nbformat_minor": 2,
 "cells": [
  {
   "source": [
    "A notebook for testing some decorator concepts"
   ],
   "cell_type": "markdown",
   "metadata": {}
  },
  {
   "source": [
    "## Two decorators that with arguments affecting the arguments"
   ],
   "cell_type": "markdown",
   "metadata": {}
  },
  {
   "cell_type": "code",
   "execution_count": 78,
   "metadata": {},
   "outputs": [],
   "source": [
    "from functools import wraps\n",
    "from inspect import getfullargspec, signature"
   ]
  },
  {
   "cell_type": "code",
   "execution_count": 60,
   "metadata": {},
   "outputs": [],
   "source": [
    "def mul(multiplier):\n",
    "    def decorator(func):\n",
    "        @wraps(func)\n",
    "        def wrapper(value):\n",
    "            value = value * multiplier\n",
    "            return func(value)\n",
    "        return wrapper\n",
    "    return decorator\n",
    "\n",
    "def add(adder):\n",
    "    def decorator(func):\n",
    "        @wraps(func)\n",
    "        def wrapper(value):\n",
    "            value = value + adder\n",
    "            return func(value)\n",
    "        return wrapper\n",
    "    return decorator"
   ]
  },
  {
   "cell_type": "code",
   "execution_count": 61,
   "metadata": {},
   "outputs": [
    {
     "output_type": "execute_result",
     "data": {
      "text/plain": [
       "13"
      ]
     },
     "metadata": {},
     "execution_count": 61
    }
   ],
   "source": [
    "@mul(2)\n",
    "@add(3)\n",
    "def muladd(value):\n",
    "    return value\n",
    "muladd(5)\n"
   ]
  },
  {
   "cell_type": "code",
   "execution_count": 62,
   "metadata": {},
   "outputs": [
    {
     "output_type": "execute_result",
     "data": {
      "text/plain": [
       "16"
      ]
     },
     "metadata": {},
     "execution_count": 62
    }
   ],
   "source": [
    "@add(3)\n",
    "@mul(2)\n",
    "def addmul(value):\n",
    "    return value\n",
    "\n",
    "addmul(5)"
   ]
  },
  {
   "source": [
    "\n",
    "## Two decorators with arguments checking the arguments\n",
    "Notice the arguments change across functions"
   ],
   "cell_type": "markdown",
   "metadata": {}
  },
  {
   "cell_type": "code",
   "execution_count": 76,
   "metadata": {},
   "outputs": [],
   "source": [
    "from functools import wraps\n",
    "\n",
    "def mul(param, multiplier):\n",
    "    def decorator(func):\n",
    "        @wraps(func)\n",
    "        def wrapper(*argsmul, **kwargs):\n",
    "            print(f\"Mul - sig - {signature(func)}\")\n",
    "            print(f\"Mul - sigparam - {signature(func).parameters}\")\n",
    "            print(f\"Mul - argspec - {getfullargspec(func)}\")\n",
    "            print(f\"Mul - argskwargs - {argsmul} - {kwargs}\")\n",
    "            return func(*argsmul, **kwargs)\n",
    "            print(\"Mul - Return\")\n",
    "        return wrapper\n",
    "    return decorator\n",
    "\n",
    "def add(param, adder):\n",
    "    def decorator(func):\n",
    "        @wraps(func)\n",
    "        def wrapper(*argsadd, **kwargs):\n",
    "            print(f\"Add - sig - {signature(func)}\")\n",
    "            print(f\"Add - sigparam - {signature(func).parameters}\")\n",
    "            print(f\"Add - argspec - {getfullargspec(func)}\")\n",
    "            print(f\"Add - argskwargs - {argsadd} - {kwargs}\")\n",
    "            return func(*argsadd, **kwargs)\n",
    "            print(f\"Add - return\")\n",
    "        return wrapper\n",
    "\n",
    "    return decorator"
   ]
  },
  {
   "cell_type": "code",
   "execution_count": 77,
   "metadata": {},
   "outputs": [
    {
     "output_type": "stream",
     "name": "stdout",
     "text": [
      "Mul - sig - (value=10)\nMul - sigparam - OrderedDict([('value', <Parameter \"value=10\">)])\nMul - argspec - FullArgSpec(args=[], varargs='argsadd', varkw='kwargs', defaults=None, kwonlyargs=[], kwonlydefaults=None, annotations={})\nMul - argskwargs - () - {}\nAdd - sig - (value=10)\nAdd - sigparam - OrderedDict([('value', <Parameter \"value=10\">)])\nAdd - argspec - FullArgSpec(args=['value'], varargs=None, varkw=None, defaults=(10,), kwonlyargs=[], kwonlydefaults=None, annotations={})\nAdd - argskwargs - () - {}\n"
     ]
    },
    {
     "output_type": "execute_result",
     "data": {
      "text/plain": [
       "10"
      ]
     },
     "metadata": {},
     "execution_count": 77
    }
   ],
   "source": [
    "@mul('value', 3)\n",
    "@add('value', 4)\n",
    "def func2(value=10):\n",
    "    \"docstring\"\n",
    "    return value\n",
    "\n",
    "func2()"
   ]
  },
  {
   "source": [
    "The  makefun library can be used to resolve this in a way that functools does not\n",
    "\n",
    "- https://stackoverflow.com/questions/308999/what-does-functools-wraps-do/55102697#55102697\n",
    "- https://stackoverflow.com/questions/33190518/how-can-i-pass-arguments-to-decorator-process-there-and-forward-to-decorated-f "
   ],
   "cell_type": "markdown",
   "metadata": {}
  },
  {
   "cell_type": "code",
   "execution_count": 72,
   "metadata": {},
   "outputs": [
    {
     "output_type": "stream",
     "name": "stdout",
     "text": [
      "Mul - sig - (value=10)\nMul - sigparam - OrderedDict([('value', <Parameter \"value=10\">)])\nMul - argspec - FullArgSpec(args=['value'], varargs=None, varkw=None, defaults=(10,), kwonlyargs=[], kwonlydefaults=None, annotations={})\nMul - argskwargs - () - {'value': 10}\nAdd - sig - (value=10)\nAdd - sigparam - OrderedDict([('value', <Parameter \"value=10\">)])\nAdd - argspec - FullArgSpec(args=['value'], varargs=None, varkw=None, defaults=(10,), kwonlyargs=[], kwonlydefaults=None, annotations={})\nAdd - argskwargs - () - {'value': 10}\n"
     ]
    },
    {
     "output_type": "execute_result",
     "data": {
      "text/plain": [
       "10"
      ]
     },
     "metadata": {},
     "execution_count": 72
    }
   ],
   "source": [
    "import makefun \n",
    "@mul('value', 3)\n",
    "@add('value', 4)\n",
    "def func2(value=10):\n",
    "    return value\n",
    "\n",
    "func2()"
   ]
  },
  {
   "cell_type": "code",
   "execution_count": 44,
   "metadata": {},
   "outputs": [],
   "source": [
    "def mul(param, multiplier):\n",
    "    def decorator(func):\n",
    "        @wraps(func)\n",
    "        def wrapper(*argsmul, **kwargs):\n",
    "            print(f\"Mul - sig - {signature(func)}\")\n",
    "            print(f\"Mul - sigparam - {signature(func).parameters}\")\n",
    "            print(f\"Mul - argspec - {getfullargspec(func)}\")\n",
    "            print(f\"Mul - argskwargs - {argsmul} - {kwargs}\")\n",
    "            return func(*argsmul, **kwargs)\n",
    "            print(\"Mul - Return\")\n",
    "        return wrapper\n",
    "    return decorator\n",
    "\n",
    "def add(param, adder):\n",
    "    def decorator(func):\n",
    "        @wraps(func)\n",
    "        def wrapper(*argsadd, **kwargs):\n",
    "            print(f\"Add - sig - {signature(func)}\")\n",
    "            print(f\"Add - sigparam - {signature(func).parameters}\")\n",
    "            print(f\"Add - argspec - {getfullargspec(func)}\")\n",
    "            print(f\"Add - argskwargs - {argsadd} - {kwargs}\")\n",
    "            return func(*argsadd, **kwargs)\n",
    "            print(f\"Add - return\")\n",
    "        return wrapper\n",
    "\n",
    "    return decorator"
   ]
  },
  {
   "cell_type": "code",
   "execution_count": 73,
   "metadata": {},
   "outputs": [],
   "source": [
    "def check_arg_positive(*params):\n",
    "    \"\"\"\n",
    "    Checks the arg value is positive\n",
    "\n",
    "    Usage:\n",
    "    >>> @check_arg_positive('value')\n",
    "    ... def func(value=-10, other=-6):\n",
    "    ...     return value\n",
    "\n",
    "    >>> func(10)\n",
    "    10\n",
    "\n",
    "    >>> func()\n",
    "    Traceback (most recent call last):\n",
    "        ...\n",
    "    ValueError: -10 is not positive\n",
    "\n",
    "    >>> func(-8)\n",
    "    Traceback (most recent call last):\n",
    "        ...\n",
    "    ValueError: -8 is not positive\n",
    "    \"\"\"\n",
    "\n",
    "    def inner(func):\n",
    "        @makefun.wraps(func)\n",
    "        def wrapper(*args, **kwargs):\n",
    "            for param in params:\n",
    "                # Get the value using one of 3 methods\n",
    "                if param in getfullargspec(func)[0]:\n",
    "                    # Check kwargs - Is the param in the kwarg\n",
    "                    if param in kwargs:\n",
    "                        value = kwargs[param]\n",
    "                    else:\n",
    "                        param_idx = getfullargspec(func)[0].index(param)\n",
    "                        # Check args - is the param in the arg\n",
    "                        if param_idx < len(args):\n",
    "                            value = args[param_idx]\n",
    "                        # Check default - is the param a default value\n",
    "                        else:\n",
    "                            value = signature(func).parameters[param].default\n",
    "\n",
    "                # Raise an error if it is negative\n",
    "                if value < 0:\n",
    "                    raise ValueError(f\"{value} is not positive\")\n",
    "\n",
    "            return func(*args, **kwargs)\n",
    "\n",
    "        return wrapper\n",
    "\n",
    "    return inner"
   ]
  },
  {
   "cell_type": "code",
   "execution_count": 85,
   "metadata": {},
   "outputs": [],
   "source": [
    "def check_arg_type(func):\n",
    "    \"\"\"\n",
    "    Checks the args match the input type annotations\n",
    "\n",
    "    Usage:\n",
    "    >>> @check_arg_type\n",
    "    ... def func(x: int, y: str, z):\n",
    "    ...     return (x, y, z)\n",
    "\n",
    "    >>> func(3.0, 2, 1)\n",
    "    Traceback (most recent call last):\n",
    "        ...\n",
    "    TypeError: 3.0 is not of type <class 'int'>\n",
    "\n",
    "    >>> func(3, 2, 1)\n",
    "    Traceback (most recent call last):\n",
    "        ...\n",
    "    TypeError: 2 is not of type <class 'str'>\n",
    "\n",
    "    >>> func(3, '2', 1)\n",
    "    (3, '2', 1)\n",
    "    \"\"\"\n",
    "\n",
    "    @wraps(func)\n",
    "    def wrapper(*args):\n",
    "        for index, arg in enumerate(getfullargspec(func)[0]):\n",
    "            if arg in func.__annotations__:\n",
    "                if not isinstance(args[index], func.__annotations__[arg]):\n",
    "                    raise TypeError(\n",
    "                        f\"{args[index]} is not of type {func.__annotations__[arg]}\"\n",
    "                    )\n",
    "\n",
    "        return func(*args)\n",
    "\n",
    "    return wrapper"
   ]
  },
  {
   "cell_type": "code",
   "execution_count": 86,
   "metadata": {},
   "outputs": [],
   "source": [
    "def coerce_arg_type(func):\n",
    "    \"\"\"\n",
    "    Coerces the args to match the type annotations\n",
    "\n",
    "    Usage:\n",
    "    >>> @coerce_arg_type\n",
    "    ... def func(x: int, y: str, z):\n",
    "    ...     return (x, y, z)\n",
    "\n",
    "    >>> func(3.0, 2, 1)\n",
    "    (3, '2', 1)\n",
    "\n",
    "    >>> func(3, '2', 1)\n",
    "    (3, '2', 1)\n",
    "    \"\"\"\n",
    "\n",
    "    @wraps(func)\n",
    "    def wrapper(*args, **kwargs):\n",
    "        args = list(args)\n",
    "        for index, arg in enumerate(getfullargspec(func)[0]):\n",
    "            if arg in func.__annotations__:\n",
    "                args[index] = func.__annotations__[arg](args[index])\n",
    "        return func(*tuple(args), **kwargs)\n",
    "\n",
    "    return wrapper"
   ]
  },
  {
   "cell_type": "code",
   "execution_count": 93,
   "metadata": {},
   "outputs": [
    {
     "output_type": "error",
     "ename": "ValueError",
     "evalue": "-10 is not positive",
     "traceback": [
      "\u001b[1;31m---------------------------------------------------------------------------\u001b[0m",
      "\u001b[1;31mValueError\u001b[0m                                Traceback (most recent call last)",
      "\u001b[1;32m<ipython-input-93-7b38dd6bc926>\u001b[0m in \u001b[0;36m<module>\u001b[1;34m\u001b[0m\n\u001b[0;32m      5\u001b[0m     \u001b[1;32mreturn\u001b[0m \u001b[0mvalue\u001b[0m\u001b[1;33m\u001b[0m\u001b[1;33m\u001b[0m\u001b[0m\n\u001b[0;32m      6\u001b[0m \u001b[1;33m\u001b[0m\u001b[0m\n\u001b[1;32m----> 7\u001b[1;33m \u001b[0mfunc2\u001b[0m\u001b[1;33m(\u001b[0m\u001b[1;33m-\u001b[0m\u001b[1;36m10\u001b[0m\u001b[1;33m)\u001b[0m\u001b[1;33m\u001b[0m\u001b[1;33m\u001b[0m\u001b[0m\n\u001b[0m",
      "\u001b[1;32m<ipython-input-86-df8343ea2a1d>\u001b[0m in \u001b[0;36mwrapper\u001b[1;34m(*args, **kwargs)\u001b[0m\n\u001b[0;32m     21\u001b[0m             \u001b[1;32mif\u001b[0m \u001b[0marg\u001b[0m \u001b[1;32min\u001b[0m \u001b[0mfunc\u001b[0m\u001b[1;33m.\u001b[0m\u001b[0m__annotations__\u001b[0m\u001b[1;33m:\u001b[0m\u001b[1;33m\u001b[0m\u001b[1;33m\u001b[0m\u001b[0m\n\u001b[0;32m     22\u001b[0m                 \u001b[0margs\u001b[0m\u001b[1;33m[\u001b[0m\u001b[0mindex\u001b[0m\u001b[1;33m]\u001b[0m \u001b[1;33m=\u001b[0m \u001b[0mfunc\u001b[0m\u001b[1;33m.\u001b[0m\u001b[0m__annotations__\u001b[0m\u001b[1;33m[\u001b[0m\u001b[0marg\u001b[0m\u001b[1;33m]\u001b[0m\u001b[1;33m(\u001b[0m\u001b[0margs\u001b[0m\u001b[1;33m[\u001b[0m\u001b[0mindex\u001b[0m\u001b[1;33m]\u001b[0m\u001b[1;33m)\u001b[0m\u001b[1;33m\u001b[0m\u001b[1;33m\u001b[0m\u001b[0m\n\u001b[1;32m---> 23\u001b[1;33m         \u001b[1;32mreturn\u001b[0m \u001b[0mfunc\u001b[0m\u001b[1;33m(\u001b[0m\u001b[1;33m*\u001b[0m\u001b[0mtuple\u001b[0m\u001b[1;33m(\u001b[0m\u001b[0margs\u001b[0m\u001b[1;33m)\u001b[0m\u001b[1;33m,\u001b[0m \u001b[1;33m**\u001b[0m\u001b[0mkwargs\u001b[0m\u001b[1;33m)\u001b[0m\u001b[1;33m\u001b[0m\u001b[1;33m\u001b[0m\u001b[0m\n\u001b[0m\u001b[0;32m     24\u001b[0m \u001b[1;33m\u001b[0m\u001b[0m\n\u001b[0;32m     25\u001b[0m     \u001b[1;32mreturn\u001b[0m \u001b[0mwrapper\u001b[0m\u001b[1;33m\u001b[0m\u001b[1;33m\u001b[0m\u001b[0m\n",
      "\u001b[1;32m<ipython-input-85-f4c608a0dbf3>\u001b[0m in \u001b[0;36mwrapper\u001b[1;34m(*args)\u001b[0m\n\u001b[0;32m     31\u001b[0m                     )\n\u001b[0;32m     32\u001b[0m \u001b[1;33m\u001b[0m\u001b[0m\n\u001b[1;32m---> 33\u001b[1;33m         \u001b[1;32mreturn\u001b[0m \u001b[0mfunc\u001b[0m\u001b[1;33m(\u001b[0m\u001b[1;33m*\u001b[0m\u001b[0margs\u001b[0m\u001b[1;33m)\u001b[0m\u001b[1;33m\u001b[0m\u001b[1;33m\u001b[0m\u001b[0m\n\u001b[0m\u001b[0;32m     34\u001b[0m \u001b[1;33m\u001b[0m\u001b[0m\n\u001b[0;32m     35\u001b[0m     \u001b[1;32mreturn\u001b[0m \u001b[0mwrapper\u001b[0m\u001b[1;33m\u001b[0m\u001b[1;33m\u001b[0m\u001b[0m\n",
      "\u001b[1;32m<makefun-gen-66>\u001b[0m in \u001b[0;36mfunc2\u001b[1;34m(value)\u001b[0m\n",
      "\u001b[1;32m<ipython-input-73-9c29a06fbcc1>\u001b[0m in \u001b[0;36mwrapper\u001b[1;34m(*args, **kwargs)\u001b[0m\n\u001b[0;32m     42\u001b[0m                 \u001b[1;31m# Raise an error if it is negative\u001b[0m\u001b[1;33m\u001b[0m\u001b[1;33m\u001b[0m\u001b[1;33m\u001b[0m\u001b[0m\n\u001b[0;32m     43\u001b[0m                 \u001b[1;32mif\u001b[0m \u001b[0mvalue\u001b[0m \u001b[1;33m<\u001b[0m \u001b[1;36m0\u001b[0m\u001b[1;33m:\u001b[0m\u001b[1;33m\u001b[0m\u001b[1;33m\u001b[0m\u001b[0m\n\u001b[1;32m---> 44\u001b[1;33m                     \u001b[1;32mraise\u001b[0m \u001b[0mValueError\u001b[0m\u001b[1;33m(\u001b[0m\u001b[1;34mf\"{value} is not positive\"\u001b[0m\u001b[1;33m)\u001b[0m\u001b[1;33m\u001b[0m\u001b[1;33m\u001b[0m\u001b[0m\n\u001b[0m\u001b[0;32m     45\u001b[0m \u001b[1;33m\u001b[0m\u001b[0m\n\u001b[0;32m     46\u001b[0m             \u001b[1;32mreturn\u001b[0m \u001b[0mfunc\u001b[0m\u001b[1;33m(\u001b[0m\u001b[1;33m*\u001b[0m\u001b[0margs\u001b[0m\u001b[1;33m,\u001b[0m \u001b[1;33m**\u001b[0m\u001b[0mkwargs\u001b[0m\u001b[1;33m)\u001b[0m\u001b[1;33m\u001b[0m\u001b[1;33m\u001b[0m\u001b[0m\n",
      "\u001b[1;31mValueError\u001b[0m: -10 is not positive"
     ]
    }
   ],
   "source": [
    "@coerce_arg_type\n",
    "@check_arg_type\n",
    "@check_arg_positive(\"value\")\n",
    "def func2(value:int):\n",
    "    return value\n",
    "\n",
    "func2(-10)"
   ]
  },
  {
   "cell_type": "code",
   "execution_count": null,
   "metadata": {},
   "outputs": [],
   "source": []
  }
 ]
}