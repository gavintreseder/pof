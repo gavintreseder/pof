{
 "metadata": {
  "language_info": {
   "codemirror_mode": {
    "name": "ipython",
    "version": 3
   },
   "file_extension": ".py",
   "mimetype": "text/x-python",
   "name": "python",
   "nbconvert_exporter": "python",
   "pygments_lexer": "ipython3",
   "version": "3.8.3-final"
  },
  "orig_nbformat": 2,
  "kernelspec": {
   "name": "python3",
   "display_name": "Python 3"
  }
 },
 "nbformat": 4,
 "nbformat_minor": 2,
 "cells": [
  {
   "source": [
    "A notebook for testing some decorator concepts"
   ],
   "cell_type": "markdown",
   "metadata": {}
  },
  {
   "source": [
    "## Two decorators that with arguments affecting the arguments"
   ],
   "cell_type": "markdown",
   "metadata": {}
  },
  {
   "cell_type": "code",
   "execution_count": 59,
   "metadata": {},
   "outputs": [],
   "source": [
    "from functools import wraps\n",
    "from inspect import getfullargspec, signature"
   ]
  },
  {
   "cell_type": "code",
   "execution_count": 60,
   "metadata": {},
   "outputs": [],
   "source": [
    "def mul(multiplier):\n",
    "    def decorator(func):\n",
    "        @wraps(func)\n",
    "        def wrapper(value):\n",
    "            value = value * multiplier\n",
    "            return func(value)\n",
    "        return wrapper\n",
    "    return decorator\n",
    "\n",
    "def add(adder):\n",
    "    def decorator(func):\n",
    "        @wraps(func)\n",
    "        def wrapper(value):\n",
    "            value = value + adder\n",
    "            return func(value)\n",
    "        return wrapper\n",
    "    return decorator"
   ]
  },
  {
   "cell_type": "code",
   "execution_count": 61,
   "metadata": {},
   "outputs": [
    {
     "output_type": "execute_result",
     "data": {
      "text/plain": [
       "13"
      ]
     },
     "metadata": {},
     "execution_count": 61
    }
   ],
   "source": [
    "@mul(2)\n",
    "@add(3)\n",
    "def muladd(value):\n",
    "    return value\n",
    "muladd(5)\n"
   ]
  },
  {
   "cell_type": "code",
   "execution_count": 62,
   "metadata": {},
   "outputs": [
    {
     "output_type": "execute_result",
     "data": {
      "text/plain": [
       "16"
      ]
     },
     "metadata": {},
     "execution_count": 62
    }
   ],
   "source": [
    "@add(3)\n",
    "@mul(2)\n",
    "def addmul(value):\n",
    "    return value\n",
    "\n",
    "addmul(5)"
   ]
  },
  {
   "source": [
    "\n",
    "## Two decorators with arguments checking the arguments\n",
    "Notice the arguments change across functions"
   ],
   "cell_type": "markdown",
   "metadata": {}
  },
  {
   "cell_type": "code",
   "execution_count": 76,
   "metadata": {},
   "outputs": [],
   "source": [
    "from functools import wraps\n",
    "\n",
    "def mul(param, multiplier):\n",
    "    def decorator(func):\n",
    "        @wraps(func)\n",
    "        def wrapper(*argsmul, **kwargs):\n",
    "            print(f\"Mul - sig - {signature(func)}\")\n",
    "            print(f\"Mul - sigparam - {signature(func).parameters}\")\n",
    "            print(f\"Mul - argspec - {getfullargspec(func)}\")\n",
    "            print(f\"Mul - argskwargs - {argsmul} - {kwargs}\")\n",
    "            return func(*argsmul, **kwargs)\n",
    "            print(\"Mul - Return\")\n",
    "        return wrapper\n",
    "    return decorator\n",
    "\n",
    "def add(param, adder):\n",
    "    def decorator(func):\n",
    "        @wraps(func)\n",
    "        def wrapper(*argsadd, **kwargs):\n",
    "            print(f\"Add - sig - {signature(func)}\")\n",
    "            print(f\"Add - sigparam - {signature(func).parameters}\")\n",
    "            print(f\"Add - argspec - {getfullargspec(func)}\")\n",
    "            print(f\"Add - argskwargs - {argsadd} - {kwargs}\")\n",
    "            return func(*argsadd, **kwargs)\n",
    "            print(f\"Add - return\")\n",
    "        return wrapper\n",
    "\n",
    "    return decorator"
   ]
  },
  {
   "cell_type": "code",
   "execution_count": 77,
   "metadata": {},
   "outputs": [
    {
     "output_type": "stream",
     "name": "stdout",
     "text": [
      "Mul - sig - (value=10)\nMul - sigparam - OrderedDict([('value', <Parameter \"value=10\">)])\nMul - argspec - FullArgSpec(args=[], varargs='argsadd', varkw='kwargs', defaults=None, kwonlyargs=[], kwonlydefaults=None, annotations={})\nMul - argskwargs - () - {}\nAdd - sig - (value=10)\nAdd - sigparam - OrderedDict([('value', <Parameter \"value=10\">)])\nAdd - argspec - FullArgSpec(args=['value'], varargs=None, varkw=None, defaults=(10,), kwonlyargs=[], kwonlydefaults=None, annotations={})\nAdd - argskwargs - () - {}\n"
     ]
    },
    {
     "output_type": "execute_result",
     "data": {
      "text/plain": [
       "10"
      ]
     },
     "metadata": {},
     "execution_count": 77
    }
   ],
   "source": [
    "@mul('value', 3)\n",
    "@add('value', 4)\n",
    "def func2(value=10):\n",
    "    \"docstring\"\n",
    "    return value\n",
    "\n",
    "func2()\n"
   ]
  },
  {
   "source": [
    "The  makefun library can be used to resolve this in a way that functools does not\n",
    "\n",
    "- https://stackoverflow.com/questions/308999/what-does-functools-wraps-do/55102697#55102697\n",
    "- https://stackoverflow.com/questions/33190518/how-can-i-pass-arguments-to-decorator-process-there-and-forward-to-decorated-f "
   ],
   "cell_type": "markdown",
   "metadata": {}
  },
  {
   "cell_type": "code",
   "execution_count": 79,
   "metadata": {},
   "outputs": [
    {
     "output_type": "stream",
     "name": "stdout",
     "text": [
      "Mul - sig - (value=10)\nMul - sigparam - OrderedDict([('value', <Parameter \"value=10\">)])\nMul - argspec - FullArgSpec(args=['value'], varargs=None, varkw=None, defaults=(10,), kwonlyargs=[], kwonlydefaults=None, annotations={})\nMul - argskwargs - () - {'value': 10}\nAdd - sig - (value=10)\nAdd - sigparam - OrderedDict([('value', <Parameter \"value=10\">)])\nAdd - argspec - FullArgSpec(args=['value'], varargs=None, varkw=None, defaults=(10,), kwonlyargs=[], kwonlydefaults=None, annotations={})\nAdd - argskwargs - () - {'value': 10}\n"
     ]
    },
    {
     "output_type": "execute_result",
     "data": {
      "text/plain": [
       "10"
      ]
     },
     "metadata": {},
     "execution_count": 79
    }
   ],
   "source": [
    "from makefun import wraps\n",
    "\n",
    "@mul('value', 3)\n",
    "@add('value', 4)\n",
    "def func2(value=10):\n",
    "    return value\n",
    "\n",
    "func2()"
   ]
  },
  {
   "cell_type": "code",
   "execution_count": null,
   "metadata": {},
   "outputs": [],
   "source": []
  }
 ]
}