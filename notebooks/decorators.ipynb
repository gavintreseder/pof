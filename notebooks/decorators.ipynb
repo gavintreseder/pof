{
 "metadata": {
  "language_info": {
   "codemirror_mode": {
    "name": "ipython",
    "version": 3
   },
   "file_extension": ".py",
   "mimetype": "text/x-python",
   "name": "python",
   "nbconvert_exporter": "python",
   "pygments_lexer": "ipython3",
   "version": "3.8.3-final"
  },
  "orig_nbformat": 2,
  "kernelspec": {
   "name": "python3",
   "display_name": "Python 3"
  }
 },
 "nbformat": 4,
 "nbformat_minor": 2,
 "cells": [
  {
   "source": [
    "A notebook for testing some decorator concepts"
   ],
   "cell_type": "markdown",
   "metadata": {}
  },
  {
   "source": [
    "## Two decorators that with arguments affecting the arguments"
   ],
   "cell_type": "markdown",
   "metadata": {}
  },
  {
   "cell_type": "code",
   "execution_count": 10,
   "metadata": {},
   "outputs": [],
   "source": [
    "from functools import wraps\n",
    "from inspect import getfullargspec, signature"
   ]
  },
  {
   "cell_type": "code",
   "execution_count": 5,
   "metadata": {},
   "outputs": [],
   "source": [
    "def mul(multiplier):\n",
    "    def decorator(func):\n",
    "        @wraps(func)\n",
    "        def wrapper(value):\n",
    "            value = value * multiplier\n",
    "            return func(value)\n",
    "        return wrapper\n",
    "    return decorator\n",
    "\n",
    "def add(adder):\n",
    "    def decorator(func):\n",
    "        @wraps(func)\n",
    "        def wrapper(value):\n",
    "            value = value + adder\n",
    "            return func(value)\n",
    "        return wrapper\n",
    "    return decorator"
   ]
  },
  {
   "cell_type": "code",
   "execution_count": 6,
   "metadata": {},
   "outputs": [
    {
     "output_type": "execute_result",
     "data": {
      "text/plain": [
       "13"
      ]
     },
     "metadata": {},
     "execution_count": 6
    }
   ],
   "source": [
    "@mul(2)\n",
    "@add(3)\n",
    "def muladd(value):\n",
    "    return value\n",
    "muladd(5)\n"
   ]
  },
  {
   "cell_type": "code",
   "execution_count": 7,
   "metadata": {},
   "outputs": [
    {
     "output_type": "execute_result",
     "data": {
      "text/plain": [
       "16"
      ]
     },
     "metadata": {},
     "execution_count": 7
    }
   ],
   "source": [
    "@add(3)\n",
    "@mul(2)\n",
    "def addmul(value):\n",
    "    return value\n",
    "\n",
    "addmul(5)"
   ]
  },
  {
   "source": [
    "## Two decorators with arguments checking the arguments"
   ],
   "cell_type": "markdown",
   "metadata": {}
  },
  {
   "cell_type": "code",
   "execution_count": null,
   "metadata": {},
   "outputs": [],
   "source": [
    "def mul(param, multiplier):\n",
    "    def decorator(func):\n",
    "        @wraps(func)\n",
    "        def wrapper(*args, **kwargs):\n",
    "            print(f\"Mul - {signature(func)}\")\n",
    "            value = value * multiplier\n",
    "            return func(*args, **kwargs)\n",
    "            print(\"Mul - Return\")\n",
    "        return wrapper\n",
    "    return decorator\n",
    "\n",
    "def add(param, adder):\n",
    "    def decorator(func):\n",
    "        @wraps(func)\n",
    "        def wrapper(*args, **kwargs):\n",
    "            print(f\"Add - {signature(func)}\")\n",
    "            return func(*args, **kwargs)\n",
    "            print(f\"Add - return\")\n",
    "        return wrapper\n",
    "    return decorator"
   ]
  }
 ]
}