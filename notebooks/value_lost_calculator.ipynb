{
 "cells": [
  {
   "cell_type": "markdown",
   "metadata": {},
   "source": [
    "# Value Lost\n",
    "\n",
    "A notebook to determine the value lost when applying a maintenance strategy defined in an asset model to the population.\n",
    "\n",
    "Requested: greg.bell@essentialenergy.com.au\n",
    "Author: gavin.treseder@essentialenergy.com.au\n",
    "\n",
    "## Project Setup"
   ]
  },
  {
   "cell_type": "code",
   "execution_count": 1,
   "metadata": {},
   "outputs": [],
   "source": [
    "import copy\n",
    "import sys\n",
    "import os\n",
    "sys.path.append(os.path.dirname(os.getcwd()))\n",
    "\n",
    "from IPython.display import clear_output\n",
    "import numpy as np \n",
    "import pandas as pd\n",
    "import plotly.express as px\n",
    "import plotly.graph_objects as go\n",
    "import scipy.stats as ss\n",
    "\n",
    "from pof.system import System\n",
    "from pof.interface.figures import make_sensitivity_fig, make_value_lost_fig, make_contour_plot\n",
    "from pof.loader.asset_model_loader import AssetModelLoader\n",
    "from pof.paths import Paths\n",
    "from pof.units import scale_units_val\n",
    "\n",
    "%matplotlib inline"
   ]
  },
  {
   "source": [
    "# Load Data\n",
    "## Load the Asset Model\n",
    "The asset model needs to be loaded from the excel file and converted into a component object that execute simulations"
   ],
   "cell_type": "markdown",
   "metadata": {}
  },
  {
   "source": [
    "asset_model_filename = \"Asset Model.xlsx\"\n",
    "\n",
    "paths = Paths()\n",
    "model_path = paths.demo_path + os.sep + asset_model_filename\n",
    "\n",
    "try:\n",
    "    aml = AssetModelLoader()\n",
    "    pof_data = aml.load(model_path)\n",
    "    system = System.from_dict(pof_data['overhead_network'])\n",
    "    comp = system.comp['pole']\n",
    "    print(\"Asset Model loaded\")\n",
    "    pass\n",
    "except:\n",
    "    comp = Component.demo()\n",
    "    print(\"Demo Model loaded\")"
   ],
   "cell_type": "code",
   "metadata": {},
   "execution_count": 2,
   "outputs": [
    {
     "output_type": "stream",
     "name": "stderr",
     "text": [
      "WARNING:root:Invalid Data () - {'task': 'inspection', 'level_of_repair': 'as_bad_as_old', 'admin': 'yes', 'maint': 'no', 'travel': 'yes'}\n",
      "WARNING:root:t_interval will be scaled to the nearest integer during simulations - 4.5\n",
      "WARNING:root:Invalid Data () - {'task': 'repair', 'level_of_repair': 'grp'}\n",
      "WARNING:root:Invalid Data () - {'task': 'replace', 'level_of_repair': 'as_good_as_new'}\n",
      "WARNING:root:Invalid Data () - {'task': 'replace', 'level_of_repair': 'as_good_as_new'}\n",
      "WARNING:root:Invalid Data () - {'task': 'inspection', 'admin': 'yes', 'maint': 'no', 'travel': 'yes'}\n",
      "WARNING:root:t_interval will be scaled to the nearest integer during simulations - 4.5\n",
      "WARNING:root:Invalid Data () - {'task': 'replace', 'level_of_repair': 'as_good_as_new'}\n",
      "WARNING:root:Invalid Data () - {'task': 'replace', 'level_of_repair': 'as_good_as_new'}\n",
      "WARNING:root:Invalid Data () - {'task': 'inspection', 'level_of_repair': 'as_bad_as_old', 'admin': 'yes', 'maint': 'no', 'travel': 'yes'}\n",
      "WARNING:root:t_interval will be scaled to the nearest integer during simulations - 4.5\n",
      "WARNING:root:Invalid Data () - {'task': 'repair', 'level_of_repair': 'as_bad_as_old'}\n",
      "WARNING:root:Invalid Data () - {'task': 'replace', 'level_of_repair': 'as_good_as_new'}\n",
      "WARNING:root:Invalid Data () - {'task': 'replace', 'level_of_repair': 'as_good_as_new'}\n",
      "WARNING:root:Invalid Data () - {'task': 'inspection', 'level_of_repair': 'as_bad_as_old'}\n",
      "WARNING:root:t_interval will be scaled to the nearest integer during simulations - 4.5\n",
      "WARNING:root:Invalid Data () - {'task': 'inspection', 'admin': 'yes', 'maint': 'no', 'travel': 'yes'}\n",
      "WARNING:root:Invalid Data () - {'task': 'replace', 'level_of_repair': 'as_good_as_new'}\n",
      "WARNING:root:Invalid Data () - {'task': 'inspection', 'level_of_repair': 'as_bad_as_old'}\n",
      "WARNING:root:Invalid Data () - {'task': 'replace', 'level_of_repair': 'as_good_as_new'}\n",
      "WARNING:root:Invalid Data () - {'task': 'inspection', 'level_of_repair': 'as_bad_as_old'}\n",
      "WARNING:root:Invalid Data () - {'task': 'replace', 'level_of_repair': 'as_good_as_new'}\n",
      "WARNING:root:Invalid Data () - {'task': 'inspection'}\n",
      "WARNING:root:t_interval will be scaled to the nearest integer during simulations - 4.5\n",
      "WARNING:root:Invalid Data () - {'task': 'replace', 'level_of_repair': 'as_good_as_new'}\n",
      "WARNING:root:Invalid Data () - {'task': 'replace', 'level_of_repair': 'as_good_as_new'}\n",
      "WARNING:root:Invalid Data () - {'task': 'inspection', 'level_of_repair': 'as_bad_as_old', 'admin': 'yes', 'maint': 'no', 'travel': 'yes'}\n",
      "WARNING:root:t_interval will be scaled to the nearest integer during simulations - 4.5\n",
      "WARNING:root:Invalid Data () - {'task': 'replace', 'level_of_repair': 'as_good_as_new'}\n",
      "WARNING:root:Invalid Data () - {'task': 'replace', 'level_of_repair': 'as_good_as_new'}\n",
      "WARNING:root:Invalid Data () - {'task': 'inspection', 'level_of_repair': 'as_bad_as_old', 'admin': 'yes', 'maint': 'no', 'travel': 'yes'}\n",
      "WARNING:root:t_interval will be scaled to the nearest integer during simulations - 4.5\n",
      "WARNING:root:Invalid Data () - {'task': 'replace', 'level_of_repair': 'as_good_as_new'}\n",
      "WARNING:root:Invalid Data () - {'task': 'replace', 'level_of_repair': 'as_good_as_new'}\n",
      "Asset Model loaded\n"
     ]
    }
   ]
  },
  {
   "cell_type": "code",
   "execution_count": 67,
   "metadata": {},
   "outputs": [],
   "source": [
    "def rolling_mean(df, x_var:str, y_var:str, window=5):\n",
    "    \"\"\" Returns a df with a rolling mean\"\"\"\n",
    "    #TODO set this up so it work for\n",
    "    #TODO move this to expected_cost\n",
    "    df_results = (\n",
    "        df.copy(deep=True)\n",
    "        .rename(columns={'task':'source'})\n",
    "        .dropna()\n",
    "    )\n",
    "\n",
    "    # Reduce the window size if not enough values are passed\n",
    "    window = max(0,min(len(df_results[y_axis].unique()) - 1, window))\n",
    "\n",
    "    # Generate a rolling average\n",
    "    df_rolling = (\n",
    "        df_results\n",
    "        .sort_values(by=['source', x_var, y_var])\n",
    "        .groupby(by=['source', y_var]).rolling(window).mean()\n",
    "        .drop([y_var], axis=1)\n",
    "        .reset_index()\n",
    "        .dropna()\n",
    "    )\n",
    "\n",
    "    df_rolling['active'] = df_rolling['active'].astype(bool)\n",
    "\n",
    "    return df_rolling\n"
   ]
  },
  {
   "cell_type": "code",
   "execution_count": 175,
   "metadata": {},
   "outputs": [],
   "source": [
    "def calc_value_lost(df, x_var:str, y_var:str, z_var='cost'):\n",
    "    \"\"\" Takes a df of risk costs and returns a df with teh value lost\n",
    "    # TODO move this to risk cost\n",
    "    # TODO check y_var and x_var are the right way around\n",
    "    \"\"\"\n",
    "\n",
    "    # Calculate the total cost for each scenario\n",
    "    df = df_rolling.groupby(by=[x_var, y_var])['quantity', 'cost', 'quantity_annual', 'cost_annual'].sum()\n",
    "\n",
    "    # Calculate the value_lost at each interval\n",
    "    df['value_lost'] = df[z_var] - df.groupby(by=[y_var])[z_var].transform('min') \n",
    "\n",
    "    return df.reset_index()"
   ]
  },
  {
   "source": [
    "## Long run simulation \n",
    "Run a long simulation to repeat the process above for the key outputs without the interim steps"
   ],
   "cell_type": "markdown",
   "metadata": {}
  },
  {
   "cell_type": "code",
   "execution_count": 193,
   "metadata": {},
   "outputs": [],
   "source": [
    "# Set the parameters in the model_units\n",
    "model_units = 'months'\n",
    "t_end = 1200\n",
    "n_iterations = 100\n",
    "sens_vars = {\n",
    "    'pole-consequence-cost': np.arange(0, 2e5, 2e4),\n",
    "    'pole-task_group_name-groundline-t_interval': np.arange(0, 120, 30)\n",
    "}\n",
    "\n",
    "x_axis = 'pole-task_group_name-groundline-t_interval'\n",
    "y_axis = 'pole-consequence-cost'\n",
    "z_axis = 'value_lost'\n",
    "\n",
    "window=5"
   ]
  },
  {
   "cell_type": "code",
   "execution_count": 8,
   "metadata": {},
   "outputs": [
    {
     "output_type": "display_data",
     "data": {
      "text/plain": "HBox(children=(HTML(value='pole-consequence-cost'), FloatProgress(value=0.0, max=4.0), HTML(value='')))",
      "application/vnd.jupyter.widget-view+json": {
       "version_major": 2,
       "version_minor": 0,
       "model_id": "561750ee83da47d19e58196dd6521ce3"
      }
     },
     "metadata": {}
    },
    {
     "output_type": "display_data",
     "data": {
      "text/plain": "HBox(children=(HTML(value='pole-task_group_name-groundline-t_interval'), FloatProgress(value=0.0, max=3.0), HT…",
      "application/vnd.jupyter.widget-view+json": {
       "version_major": 2,
       "version_minor": 0,
       "model_id": "4a98e1351b354079a243492dd9d19177"
      }
     },
     "metadata": {}
    },
    {
     "output_type": "display_data",
     "data": {
      "text/plain": "HBox(children=(HTML(value='Simulation'), FloatProgress(value=0.0), HTML(value='')))",
      "application/vnd.jupyter.widget-view+json": {
       "version_major": 2,
       "version_minor": 0,
       "model_id": "f91b698d41de4943a3c035fec903ca43"
      }
     },
     "metadata": {}
    },
    {
     "output_type": "display_data",
     "data": {
      "text/plain": "HBox(children=(HTML(value='Simulation'), FloatProgress(value=0.0), HTML(value='')))",
      "application/vnd.jupyter.widget-view+json": {
       "version_major": 2,
       "version_minor": 0,
       "model_id": "eaf7a308a52d4a93bc6023e941119040"
      }
     },
     "metadata": {}
    },
    {
     "output_type": "display_data",
     "data": {
      "text/plain": "HBox(children=(HTML(value='Simulation'), FloatProgress(value=0.0), HTML(value='')))",
      "application/vnd.jupyter.widget-view+json": {
       "version_major": 2,
       "version_minor": 0,
       "model_id": "a6c617dec8b04a91ad8313e0b72c617c"
      }
     },
     "metadata": {}
    },
    {
     "output_type": "stream",
     "name": "stdout",
     "text": [
      "\n"
     ]
    },
    {
     "output_type": "display_data",
     "data": {
      "text/plain": "HBox(children=(HTML(value='pole-task_group_name-groundline-t_interval'), FloatProgress(value=0.0, max=3.0), HT…",
      "application/vnd.jupyter.widget-view+json": {
       "version_major": 2,
       "version_minor": 0,
       "model_id": "606ae72f6a1946ef8970a1952b237bf0"
      }
     },
     "metadata": {}
    },
    {
     "output_type": "display_data",
     "data": {
      "text/plain": "HBox(children=(HTML(value='Simulation'), FloatProgress(value=0.0), HTML(value='')))",
      "application/vnd.jupyter.widget-view+json": {
       "version_major": 2,
       "version_minor": 0,
       "model_id": "fe88c960f83e4e9cafa3c46ebc510f60"
      }
     },
     "metadata": {}
    },
    {
     "output_type": "display_data",
     "data": {
      "text/plain": "HBox(children=(HTML(value='Simulation'), FloatProgress(value=0.0), HTML(value='')))",
      "application/vnd.jupyter.widget-view+json": {
       "version_major": 2,
       "version_minor": 0,
       "model_id": "3d49f6a0f69444a69b0207da1f4c3a75"
      }
     },
     "metadata": {}
    },
    {
     "output_type": "display_data",
     "data": {
      "text/plain": "HBox(children=(HTML(value='Simulation'), FloatProgress(value=0.0), HTML(value='')))",
      "application/vnd.jupyter.widget-view+json": {
       "version_major": 2,
       "version_minor": 0,
       "model_id": "6805cc24fc17454896086a4987772865"
      }
     },
     "metadata": {}
    },
    {
     "output_type": "stream",
     "name": "stdout",
     "text": [
      "\n"
     ]
    },
    {
     "output_type": "display_data",
     "data": {
      "text/plain": "HBox(children=(HTML(value='pole-task_group_name-groundline-t_interval'), FloatProgress(value=0.0, max=3.0), HT…",
      "application/vnd.jupyter.widget-view+json": {
       "version_major": 2,
       "version_minor": 0,
       "model_id": "4e00df1c234c4d14b287253b0088e109"
      }
     },
     "metadata": {}
    },
    {
     "output_type": "display_data",
     "data": {
      "text/plain": "HBox(children=(HTML(value='Simulation'), FloatProgress(value=0.0), HTML(value='')))",
      "application/vnd.jupyter.widget-view+json": {
       "version_major": 2,
       "version_minor": 0,
       "model_id": "cf50cea7ad484a799ddbae4626bbcdc4"
      }
     },
     "metadata": {}
    },
    {
     "output_type": "display_data",
     "data": {
      "text/plain": "HBox(children=(HTML(value='Simulation'), FloatProgress(value=0.0), HTML(value='')))",
      "application/vnd.jupyter.widget-view+json": {
       "version_major": 2,
       "version_minor": 0,
       "model_id": "b542ca286b88466e9d0067d8f7c83a26"
      }
     },
     "metadata": {}
    },
    {
     "output_type": "display_data",
     "data": {
      "text/plain": "HBox(children=(HTML(value='Simulation'), FloatProgress(value=0.0), HTML(value='')))",
      "application/vnd.jupyter.widget-view+json": {
       "version_major": 2,
       "version_minor": 0,
       "model_id": "93670ed9eda545e89ed6ab41b89b9026"
      }
     },
     "metadata": {}
    },
    {
     "output_type": "stream",
     "name": "stdout",
     "text": [
      "\n"
     ]
    },
    {
     "output_type": "display_data",
     "data": {
      "text/plain": "HBox(children=(HTML(value='pole-task_group_name-groundline-t_interval'), FloatProgress(value=0.0, max=3.0), HT…",
      "application/vnd.jupyter.widget-view+json": {
       "version_major": 2,
       "version_minor": 0,
       "model_id": "bb73dac5b726423d918d51d6b2a83ea7"
      }
     },
     "metadata": {}
    },
    {
     "output_type": "display_data",
     "data": {
      "text/plain": "HBox(children=(HTML(value='Simulation'), FloatProgress(value=0.0), HTML(value='')))",
      "application/vnd.jupyter.widget-view+json": {
       "version_major": 2,
       "version_minor": 0,
       "model_id": "c29fefb3f048483b949a13f93de2710d"
      }
     },
     "metadata": {}
    },
    {
     "output_type": "display_data",
     "data": {
      "text/plain": "HBox(children=(HTML(value='Simulation'), FloatProgress(value=0.0), HTML(value='')))",
      "application/vnd.jupyter.widget-view+json": {
       "version_major": 2,
       "version_minor": 0,
       "model_id": "8444562b369c45e891078f015a703403"
      }
     },
     "metadata": {}
    },
    {
     "output_type": "display_data",
     "data": {
      "text/plain": "HBox(children=(HTML(value='Simulation'), FloatProgress(value=0.0), HTML(value='')))",
      "application/vnd.jupyter.widget-view+json": {
       "version_major": 2,
       "version_minor": 0,
       "model_id": "246d3dc286d6402c8272138e6b24ba4e"
      }
     },
     "metadata": {}
    },
    {
     "output_type": "stream",
     "name": "stdout",
     "text": [
      "\n\n"
     ]
    }
   ],
   "source": [
    "# Run the simulation\n",
    "comp.units = model_units\n",
    "\n",
    "df_sens_chain = comp.sensitivty_chain(sens_vars, t_end=t_end, n_iterations=n_iterations)"
   ]
  },
  {
   "cell_type": "code",
   "execution_count": 179,
   "metadata": {},
   "outputs": [],
   "source": [
    "# Get ready for plotting\n",
    "\n",
    "df_rolling = rolling_mean(df_sens_chain, x_var=x_axis, y_var=y_axis, window=window)\n",
    "\n",
    "df_total = calc_value_lost(df=df_rolling, x_var=x_axis, y_var=y_axis, z_var='cost_annual')"
   ]
  },
  {
   "cell_type": "code",
   "execution_count": 180,
   "metadata": {},
   "outputs": [
    {
     "output_type": "display_data",
     "data": {
      "application/vnd.plotly.v1+json": {
       "config": {
        "plotlyServerURL": "https://plot.ly"
       },
       "data": [
        {
         "contours": {
          "coloring": "lines"
         },
         "type": "contour",
         "x": [
          20,
          60
         ],
         "y": [
          0,
          500000,
          1000000,
          1500000
         ],
         "z": [
          [
           0,
           0.035584722205179276,
           0,
           0
          ],
          [
           0.021632912204604254,
           0,
           0.03538572238892712,
           0.2925681280552723
          ]
         ]
        }
       ],
       "layout": {
        "template": {
         "data": {
          "bar": [
           {
            "error_x": {
             "color": "#2a3f5f"
            },
            "error_y": {
             "color": "#2a3f5f"
            },
            "marker": {
             "line": {
              "color": "#E5ECF6",
              "width": 0.5
             }
            },
            "type": "bar"
           }
          ],
          "barpolar": [
           {
            "marker": {
             "line": {
              "color": "#E5ECF6",
              "width": 0.5
             }
            },
            "type": "barpolar"
           }
          ],
          "carpet": [
           {
            "aaxis": {
             "endlinecolor": "#2a3f5f",
             "gridcolor": "white",
             "linecolor": "white",
             "minorgridcolor": "white",
             "startlinecolor": "#2a3f5f"
            },
            "baxis": {
             "endlinecolor": "#2a3f5f",
             "gridcolor": "white",
             "linecolor": "white",
             "minorgridcolor": "white",
             "startlinecolor": "#2a3f5f"
            },
            "type": "carpet"
           }
          ],
          "choropleth": [
           {
            "colorbar": {
             "outlinewidth": 0,
             "ticks": ""
            },
            "type": "choropleth"
           }
          ],
          "contour": [
           {
            "colorbar": {
             "outlinewidth": 0,
             "ticks": ""
            },
            "colorscale": [
             [
              0,
              "#0d0887"
             ],
             [
              0.1111111111111111,
              "#46039f"
             ],
             [
              0.2222222222222222,
              "#7201a8"
             ],
             [
              0.3333333333333333,
              "#9c179e"
             ],
             [
              0.4444444444444444,
              "#bd3786"
             ],
             [
              0.5555555555555556,
              "#d8576b"
             ],
             [
              0.6666666666666666,
              "#ed7953"
             ],
             [
              0.7777777777777778,
              "#fb9f3a"
             ],
             [
              0.8888888888888888,
              "#fdca26"
             ],
             [
              1,
              "#f0f921"
             ]
            ],
            "type": "contour"
           }
          ],
          "contourcarpet": [
           {
            "colorbar": {
             "outlinewidth": 0,
             "ticks": ""
            },
            "type": "contourcarpet"
           }
          ],
          "heatmap": [
           {
            "colorbar": {
             "outlinewidth": 0,
             "ticks": ""
            },
            "colorscale": [
             [
              0,
              "#0d0887"
             ],
             [
              0.1111111111111111,
              "#46039f"
             ],
             [
              0.2222222222222222,
              "#7201a8"
             ],
             [
              0.3333333333333333,
              "#9c179e"
             ],
             [
              0.4444444444444444,
              "#bd3786"
             ],
             [
              0.5555555555555556,
              "#d8576b"
             ],
             [
              0.6666666666666666,
              "#ed7953"
             ],
             [
              0.7777777777777778,
              "#fb9f3a"
             ],
             [
              0.8888888888888888,
              "#fdca26"
             ],
             [
              1,
              "#f0f921"
             ]
            ],
            "type": "heatmap"
           }
          ],
          "heatmapgl": [
           {
            "colorbar": {
             "outlinewidth": 0,
             "ticks": ""
            },
            "colorscale": [
             [
              0,
              "#0d0887"
             ],
             [
              0.1111111111111111,
              "#46039f"
             ],
             [
              0.2222222222222222,
              "#7201a8"
             ],
             [
              0.3333333333333333,
              "#9c179e"
             ],
             [
              0.4444444444444444,
              "#bd3786"
             ],
             [
              0.5555555555555556,
              "#d8576b"
             ],
             [
              0.6666666666666666,
              "#ed7953"
             ],
             [
              0.7777777777777778,
              "#fb9f3a"
             ],
             [
              0.8888888888888888,
              "#fdca26"
             ],
             [
              1,
              "#f0f921"
             ]
            ],
            "type": "heatmapgl"
           }
          ],
          "histogram": [
           {
            "marker": {
             "colorbar": {
              "outlinewidth": 0,
              "ticks": ""
             }
            },
            "type": "histogram"
           }
          ],
          "histogram2d": [
           {
            "colorbar": {
             "outlinewidth": 0,
             "ticks": ""
            },
            "colorscale": [
             [
              0,
              "#0d0887"
             ],
             [
              0.1111111111111111,
              "#46039f"
             ],
             [
              0.2222222222222222,
              "#7201a8"
             ],
             [
              0.3333333333333333,
              "#9c179e"
             ],
             [
              0.4444444444444444,
              "#bd3786"
             ],
             [
              0.5555555555555556,
              "#d8576b"
             ],
             [
              0.6666666666666666,
              "#ed7953"
             ],
             [
              0.7777777777777778,
              "#fb9f3a"
             ],
             [
              0.8888888888888888,
              "#fdca26"
             ],
             [
              1,
              "#f0f921"
             ]
            ],
            "type": "histogram2d"
           }
          ],
          "histogram2dcontour": [
           {
            "colorbar": {
             "outlinewidth": 0,
             "ticks": ""
            },
            "colorscale": [
             [
              0,
              "#0d0887"
             ],
             [
              0.1111111111111111,
              "#46039f"
             ],
             [
              0.2222222222222222,
              "#7201a8"
             ],
             [
              0.3333333333333333,
              "#9c179e"
             ],
             [
              0.4444444444444444,
              "#bd3786"
             ],
             [
              0.5555555555555556,
              "#d8576b"
             ],
             [
              0.6666666666666666,
              "#ed7953"
             ],
             [
              0.7777777777777778,
              "#fb9f3a"
             ],
             [
              0.8888888888888888,
              "#fdca26"
             ],
             [
              1,
              "#f0f921"
             ]
            ],
            "type": "histogram2dcontour"
           }
          ],
          "mesh3d": [
           {
            "colorbar": {
             "outlinewidth": 0,
             "ticks": ""
            },
            "type": "mesh3d"
           }
          ],
          "parcoords": [
           {
            "line": {
             "colorbar": {
              "outlinewidth": 0,
              "ticks": ""
             }
            },
            "type": "parcoords"
           }
          ],
          "pie": [
           {
            "automargin": true,
            "type": "pie"
           }
          ],
          "scatter": [
           {
            "marker": {
             "colorbar": {
              "outlinewidth": 0,
              "ticks": ""
             }
            },
            "type": "scatter"
           }
          ],
          "scatter3d": [
           {
            "line": {
             "colorbar": {
              "outlinewidth": 0,
              "ticks": ""
             }
            },
            "marker": {
             "colorbar": {
              "outlinewidth": 0,
              "ticks": ""
             }
            },
            "type": "scatter3d"
           }
          ],
          "scattercarpet": [
           {
            "marker": {
             "colorbar": {
              "outlinewidth": 0,
              "ticks": ""
             }
            },
            "type": "scattercarpet"
           }
          ],
          "scattergeo": [
           {
            "marker": {
             "colorbar": {
              "outlinewidth": 0,
              "ticks": ""
             }
            },
            "type": "scattergeo"
           }
          ],
          "scattergl": [
           {
            "marker": {
             "colorbar": {
              "outlinewidth": 0,
              "ticks": ""
             }
            },
            "type": "scattergl"
           }
          ],
          "scattermapbox": [
           {
            "marker": {
             "colorbar": {
              "outlinewidth": 0,
              "ticks": ""
             }
            },
            "type": "scattermapbox"
           }
          ],
          "scatterpolar": [
           {
            "marker": {
             "colorbar": {
              "outlinewidth": 0,
              "ticks": ""
             }
            },
            "type": "scatterpolar"
           }
          ],
          "scatterpolargl": [
           {
            "marker": {
             "colorbar": {
              "outlinewidth": 0,
              "ticks": ""
             }
            },
            "type": "scatterpolargl"
           }
          ],
          "scatterternary": [
           {
            "marker": {
             "colorbar": {
              "outlinewidth": 0,
              "ticks": ""
             }
            },
            "type": "scatterternary"
           }
          ],
          "surface": [
           {
            "colorbar": {
             "outlinewidth": 0,
             "ticks": ""
            },
            "colorscale": [
             [
              0,
              "#0d0887"
             ],
             [
              0.1111111111111111,
              "#46039f"
             ],
             [
              0.2222222222222222,
              "#7201a8"
             ],
             [
              0.3333333333333333,
              "#9c179e"
             ],
             [
              0.4444444444444444,
              "#bd3786"
             ],
             [
              0.5555555555555556,
              "#d8576b"
             ],
             [
              0.6666666666666666,
              "#ed7953"
             ],
             [
              0.7777777777777778,
              "#fb9f3a"
             ],
             [
              0.8888888888888888,
              "#fdca26"
             ],
             [
              1,
              "#f0f921"
             ]
            ],
            "type": "surface"
           }
          ],
          "table": [
           {
            "cells": {
             "fill": {
              "color": "#EBF0F8"
             },
             "line": {
              "color": "white"
             }
            },
            "header": {
             "fill": {
              "color": "#C8D4E3"
             },
             "line": {
              "color": "white"
             }
            },
            "type": "table"
           }
          ]
         },
         "layout": {
          "annotationdefaults": {
           "arrowcolor": "#2a3f5f",
           "arrowhead": 0,
           "arrowwidth": 1
          },
          "coloraxis": {
           "colorbar": {
            "outlinewidth": 0,
            "ticks": ""
           }
          },
          "colorscale": {
           "diverging": [
            [
             0,
             "#8e0152"
            ],
            [
             0.1,
             "#c51b7d"
            ],
            [
             0.2,
             "#de77ae"
            ],
            [
             0.3,
             "#f1b6da"
            ],
            [
             0.4,
             "#fde0ef"
            ],
            [
             0.5,
             "#f7f7f7"
            ],
            [
             0.6,
             "#e6f5d0"
            ],
            [
             0.7,
             "#b8e186"
            ],
            [
             0.8,
             "#7fbc41"
            ],
            [
             0.9,
             "#4d9221"
            ],
            [
             1,
             "#276419"
            ]
           ],
           "sequential": [
            [
             0,
             "#0d0887"
            ],
            [
             0.1111111111111111,
             "#46039f"
            ],
            [
             0.2222222222222222,
             "#7201a8"
            ],
            [
             0.3333333333333333,
             "#9c179e"
            ],
            [
             0.4444444444444444,
             "#bd3786"
            ],
            [
             0.5555555555555556,
             "#d8576b"
            ],
            [
             0.6666666666666666,
             "#ed7953"
            ],
            [
             0.7777777777777778,
             "#fb9f3a"
            ],
            [
             0.8888888888888888,
             "#fdca26"
            ],
            [
             1,
             "#f0f921"
            ]
           ],
           "sequentialminus": [
            [
             0,
             "#0d0887"
            ],
            [
             0.1111111111111111,
             "#46039f"
            ],
            [
             0.2222222222222222,
             "#7201a8"
            ],
            [
             0.3333333333333333,
             "#9c179e"
            ],
            [
             0.4444444444444444,
             "#bd3786"
            ],
            [
             0.5555555555555556,
             "#d8576b"
            ],
            [
             0.6666666666666666,
             "#ed7953"
            ],
            [
             0.7777777777777778,
             "#fb9f3a"
            ],
            [
             0.8888888888888888,
             "#fdca26"
            ],
            [
             1,
             "#f0f921"
            ]
           ]
          },
          "colorway": [
           "#636efa",
           "#EF553B",
           "#00cc96",
           "#ab63fa",
           "#FFA15A",
           "#19d3f3",
           "#FF6692",
           "#B6E880",
           "#FF97FF",
           "#FECB52"
          ],
          "font": {
           "color": "#2a3f5f"
          },
          "geo": {
           "bgcolor": "white",
           "lakecolor": "white",
           "landcolor": "#E5ECF6",
           "showlakes": true,
           "showland": true,
           "subunitcolor": "white"
          },
          "hoverlabel": {
           "align": "left"
          },
          "hovermode": "closest",
          "mapbox": {
           "style": "light"
          },
          "paper_bgcolor": "white",
          "plot_bgcolor": "#E5ECF6",
          "polar": {
           "angularaxis": {
            "gridcolor": "white",
            "linecolor": "white",
            "ticks": ""
           },
           "bgcolor": "#E5ECF6",
           "radialaxis": {
            "gridcolor": "white",
            "linecolor": "white",
            "ticks": ""
           }
          },
          "scene": {
           "xaxis": {
            "backgroundcolor": "#E5ECF6",
            "gridcolor": "white",
            "gridwidth": 2,
            "linecolor": "white",
            "showbackground": true,
            "ticks": "",
            "zerolinecolor": "white"
           },
           "yaxis": {
            "backgroundcolor": "#E5ECF6",
            "gridcolor": "white",
            "gridwidth": 2,
            "linecolor": "white",
            "showbackground": true,
            "ticks": "",
            "zerolinecolor": "white"
           },
           "zaxis": {
            "backgroundcolor": "#E5ECF6",
            "gridcolor": "white",
            "gridwidth": 2,
            "linecolor": "white",
            "showbackground": true,
            "ticks": "",
            "zerolinecolor": "white"
           }
          },
          "shapedefaults": {
           "line": {
            "color": "#2a3f5f"
           }
          },
          "ternary": {
           "aaxis": {
            "gridcolor": "white",
            "linecolor": "white",
            "ticks": ""
           },
           "baxis": {
            "gridcolor": "white",
            "linecolor": "white",
            "ticks": ""
           },
           "bgcolor": "#E5ECF6",
           "caxis": {
            "gridcolor": "white",
            "linecolor": "white",
            "ticks": ""
           }
          },
          "title": {
           "x": 0.05
          },
          "xaxis": {
           "automargin": true,
           "gridcolor": "white",
           "linecolor": "white",
           "ticks": "",
           "title": {
            "standoff": 15
           },
           "zerolinecolor": "white",
           "zerolinewidth": 2
          },
          "yaxis": {
           "automargin": true,
           "gridcolor": "white",
           "linecolor": "white",
           "ticks": "",
           "title": {
            "standoff": 15
           },
           "zerolinecolor": "white",
           "zerolinewidth": 2
          }
         }
        }
       }
      }
     },
     "metadata": {}
    }
   ],
   "source": [
    "make_contour_plot(df_total, x_axis=x_axis, y_axis=y_axis, z_axis=z_axis)"
   ]
  },
  {
   "cell_type": "code",
   "execution_count": 181,
   "metadata": {},
   "outputs": [
    {
     "output_type": "display_data",
     "data": {
      "application/vnd.plotly.v1+json": {
       "config": {
        "plotlyServerURL": "https://plot.ly"
       },
       "data": [
        {
         "hovertemplate": "pole-consequence-cost=0.0<br>pole-task_group_name-groundline-t_interval=%{x}<br>value_lost=%{y}<extra></extra>",
         "legendgroup": "0.0",
         "line": {
          "color": "#636efa",
          "dash": "solid"
         },
         "mode": "lines",
         "name": "0.0",
         "orientation": "v",
         "showlegend": true,
         "type": "scatter",
         "x": [
          20,
          60
         ],
         "xaxis": "x",
         "y": [
          0,
          0.021632912204604254
         ],
         "yaxis": "y"
        },
        {
         "hovertemplate": "pole-consequence-cost=500000.0<br>pole-task_group_name-groundline-t_interval=%{x}<br>value_lost=%{y}<extra></extra>",
         "legendgroup": "500000.0",
         "line": {
          "color": "#EF553B",
          "dash": "solid"
         },
         "mode": "lines",
         "name": "500000.0",
         "orientation": "v",
         "showlegend": true,
         "type": "scatter",
         "x": [
          20,
          60
         ],
         "xaxis": "x",
         "y": [
          0.035584722205179276,
          0
         ],
         "yaxis": "y"
        },
        {
         "hovertemplate": "pole-consequence-cost=1000000.0<br>pole-task_group_name-groundline-t_interval=%{x}<br>value_lost=%{y}<extra></extra>",
         "legendgroup": "1000000.0",
         "line": {
          "color": "#00cc96",
          "dash": "solid"
         },
         "mode": "lines",
         "name": "1000000.0",
         "orientation": "v",
         "showlegend": true,
         "type": "scatter",
         "x": [
          20,
          60
         ],
         "xaxis": "x",
         "y": [
          0,
          0.03538572238892712
         ],
         "yaxis": "y"
        },
        {
         "hovertemplate": "pole-consequence-cost=1500000.0<br>pole-task_group_name-groundline-t_interval=%{x}<br>value_lost=%{y}<extra></extra>",
         "legendgroup": "1500000.0",
         "line": {
          "color": "#ab63fa",
          "dash": "solid"
         },
         "mode": "lines",
         "name": "1500000.0",
         "orientation": "v",
         "showlegend": true,
         "type": "scatter",
         "x": [
          20,
          60
         ],
         "xaxis": "x",
         "y": [
          0,
          0.2925681280552723
         ],
         "yaxis": "y"
        }
       ],
       "layout": {
        "legend": {
         "title": {
          "text": "pole-consequence-cost"
         },
         "tracegroupgap": 0
        },
        "margin": {
         "t": 60
        },
        "template": {
         "data": {
          "bar": [
           {
            "error_x": {
             "color": "#2a3f5f"
            },
            "error_y": {
             "color": "#2a3f5f"
            },
            "marker": {
             "line": {
              "color": "#E5ECF6",
              "width": 0.5
             }
            },
            "type": "bar"
           }
          ],
          "barpolar": [
           {
            "marker": {
             "line": {
              "color": "#E5ECF6",
              "width": 0.5
             }
            },
            "type": "barpolar"
           }
          ],
          "carpet": [
           {
            "aaxis": {
             "endlinecolor": "#2a3f5f",
             "gridcolor": "white",
             "linecolor": "white",
             "minorgridcolor": "white",
             "startlinecolor": "#2a3f5f"
            },
            "baxis": {
             "endlinecolor": "#2a3f5f",
             "gridcolor": "white",
             "linecolor": "white",
             "minorgridcolor": "white",
             "startlinecolor": "#2a3f5f"
            },
            "type": "carpet"
           }
          ],
          "choropleth": [
           {
            "colorbar": {
             "outlinewidth": 0,
             "ticks": ""
            },
            "type": "choropleth"
           }
          ],
          "contour": [
           {
            "colorbar": {
             "outlinewidth": 0,
             "ticks": ""
            },
            "colorscale": [
             [
              0,
              "#0d0887"
             ],
             [
              0.1111111111111111,
              "#46039f"
             ],
             [
              0.2222222222222222,
              "#7201a8"
             ],
             [
              0.3333333333333333,
              "#9c179e"
             ],
             [
              0.4444444444444444,
              "#bd3786"
             ],
             [
              0.5555555555555556,
              "#d8576b"
             ],
             [
              0.6666666666666666,
              "#ed7953"
             ],
             [
              0.7777777777777778,
              "#fb9f3a"
             ],
             [
              0.8888888888888888,
              "#fdca26"
             ],
             [
              1,
              "#f0f921"
             ]
            ],
            "type": "contour"
           }
          ],
          "contourcarpet": [
           {
            "colorbar": {
             "outlinewidth": 0,
             "ticks": ""
            },
            "type": "contourcarpet"
           }
          ],
          "heatmap": [
           {
            "colorbar": {
             "outlinewidth": 0,
             "ticks": ""
            },
            "colorscale": [
             [
              0,
              "#0d0887"
             ],
             [
              0.1111111111111111,
              "#46039f"
             ],
             [
              0.2222222222222222,
              "#7201a8"
             ],
             [
              0.3333333333333333,
              "#9c179e"
             ],
             [
              0.4444444444444444,
              "#bd3786"
             ],
             [
              0.5555555555555556,
              "#d8576b"
             ],
             [
              0.6666666666666666,
              "#ed7953"
             ],
             [
              0.7777777777777778,
              "#fb9f3a"
             ],
             [
              0.8888888888888888,
              "#fdca26"
             ],
             [
              1,
              "#f0f921"
             ]
            ],
            "type": "heatmap"
           }
          ],
          "heatmapgl": [
           {
            "colorbar": {
             "outlinewidth": 0,
             "ticks": ""
            },
            "colorscale": [
             [
              0,
              "#0d0887"
             ],
             [
              0.1111111111111111,
              "#46039f"
             ],
             [
              0.2222222222222222,
              "#7201a8"
             ],
             [
              0.3333333333333333,
              "#9c179e"
             ],
             [
              0.4444444444444444,
              "#bd3786"
             ],
             [
              0.5555555555555556,
              "#d8576b"
             ],
             [
              0.6666666666666666,
              "#ed7953"
             ],
             [
              0.7777777777777778,
              "#fb9f3a"
             ],
             [
              0.8888888888888888,
              "#fdca26"
             ],
             [
              1,
              "#f0f921"
             ]
            ],
            "type": "heatmapgl"
           }
          ],
          "histogram": [
           {
            "marker": {
             "colorbar": {
              "outlinewidth": 0,
              "ticks": ""
             }
            },
            "type": "histogram"
           }
          ],
          "histogram2d": [
           {
            "colorbar": {
             "outlinewidth": 0,
             "ticks": ""
            },
            "colorscale": [
             [
              0,
              "#0d0887"
             ],
             [
              0.1111111111111111,
              "#46039f"
             ],
             [
              0.2222222222222222,
              "#7201a8"
             ],
             [
              0.3333333333333333,
              "#9c179e"
             ],
             [
              0.4444444444444444,
              "#bd3786"
             ],
             [
              0.5555555555555556,
              "#d8576b"
             ],
             [
              0.6666666666666666,
              "#ed7953"
             ],
             [
              0.7777777777777778,
              "#fb9f3a"
             ],
             [
              0.8888888888888888,
              "#fdca26"
             ],
             [
              1,
              "#f0f921"
             ]
            ],
            "type": "histogram2d"
           }
          ],
          "histogram2dcontour": [
           {
            "colorbar": {
             "outlinewidth": 0,
             "ticks": ""
            },
            "colorscale": [
             [
              0,
              "#0d0887"
             ],
             [
              0.1111111111111111,
              "#46039f"
             ],
             [
              0.2222222222222222,
              "#7201a8"
             ],
             [
              0.3333333333333333,
              "#9c179e"
             ],
             [
              0.4444444444444444,
              "#bd3786"
             ],
             [
              0.5555555555555556,
              "#d8576b"
             ],
             [
              0.6666666666666666,
              "#ed7953"
             ],
             [
              0.7777777777777778,
              "#fb9f3a"
             ],
             [
              0.8888888888888888,
              "#fdca26"
             ],
             [
              1,
              "#f0f921"
             ]
            ],
            "type": "histogram2dcontour"
           }
          ],
          "mesh3d": [
           {
            "colorbar": {
             "outlinewidth": 0,
             "ticks": ""
            },
            "type": "mesh3d"
           }
          ],
          "parcoords": [
           {
            "line": {
             "colorbar": {
              "outlinewidth": 0,
              "ticks": ""
             }
            },
            "type": "parcoords"
           }
          ],
          "pie": [
           {
            "automargin": true,
            "type": "pie"
           }
          ],
          "scatter": [
           {
            "marker": {
             "colorbar": {
              "outlinewidth": 0,
              "ticks": ""
             }
            },
            "type": "scatter"
           }
          ],
          "scatter3d": [
           {
            "line": {
             "colorbar": {
              "outlinewidth": 0,
              "ticks": ""
             }
            },
            "marker": {
             "colorbar": {
              "outlinewidth": 0,
              "ticks": ""
             }
            },
            "type": "scatter3d"
           }
          ],
          "scattercarpet": [
           {
            "marker": {
             "colorbar": {
              "outlinewidth": 0,
              "ticks": ""
             }
            },
            "type": "scattercarpet"
           }
          ],
          "scattergeo": [
           {
            "marker": {
             "colorbar": {
              "outlinewidth": 0,
              "ticks": ""
             }
            },
            "type": "scattergeo"
           }
          ],
          "scattergl": [
           {
            "marker": {
             "colorbar": {
              "outlinewidth": 0,
              "ticks": ""
             }
            },
            "type": "scattergl"
           }
          ],
          "scattermapbox": [
           {
            "marker": {
             "colorbar": {
              "outlinewidth": 0,
              "ticks": ""
             }
            },
            "type": "scattermapbox"
           }
          ],
          "scatterpolar": [
           {
            "marker": {
             "colorbar": {
              "outlinewidth": 0,
              "ticks": ""
             }
            },
            "type": "scatterpolar"
           }
          ],
          "scatterpolargl": [
           {
            "marker": {
             "colorbar": {
              "outlinewidth": 0,
              "ticks": ""
             }
            },
            "type": "scatterpolargl"
           }
          ],
          "scatterternary": [
           {
            "marker": {
             "colorbar": {
              "outlinewidth": 0,
              "ticks": ""
             }
            },
            "type": "scatterternary"
           }
          ],
          "surface": [
           {
            "colorbar": {
             "outlinewidth": 0,
             "ticks": ""
            },
            "colorscale": [
             [
              0,
              "#0d0887"
             ],
             [
              0.1111111111111111,
              "#46039f"
             ],
             [
              0.2222222222222222,
              "#7201a8"
             ],
             [
              0.3333333333333333,
              "#9c179e"
             ],
             [
              0.4444444444444444,
              "#bd3786"
             ],
             [
              0.5555555555555556,
              "#d8576b"
             ],
             [
              0.6666666666666666,
              "#ed7953"
             ],
             [
              0.7777777777777778,
              "#fb9f3a"
             ],
             [
              0.8888888888888888,
              "#fdca26"
             ],
             [
              1,
              "#f0f921"
             ]
            ],
            "type": "surface"
           }
          ],
          "table": [
           {
            "cells": {
             "fill": {
              "color": "#EBF0F8"
             },
             "line": {
              "color": "white"
             }
            },
            "header": {
             "fill": {
              "color": "#C8D4E3"
             },
             "line": {
              "color": "white"
             }
            },
            "type": "table"
           }
          ]
         },
         "layout": {
          "annotationdefaults": {
           "arrowcolor": "#2a3f5f",
           "arrowhead": 0,
           "arrowwidth": 1
          },
          "coloraxis": {
           "colorbar": {
            "outlinewidth": 0,
            "ticks": ""
           }
          },
          "colorscale": {
           "diverging": [
            [
             0,
             "#8e0152"
            ],
            [
             0.1,
             "#c51b7d"
            ],
            [
             0.2,
             "#de77ae"
            ],
            [
             0.3,
             "#f1b6da"
            ],
            [
             0.4,
             "#fde0ef"
            ],
            [
             0.5,
             "#f7f7f7"
            ],
            [
             0.6,
             "#e6f5d0"
            ],
            [
             0.7,
             "#b8e186"
            ],
            [
             0.8,
             "#7fbc41"
            ],
            [
             0.9,
             "#4d9221"
            ],
            [
             1,
             "#276419"
            ]
           ],
           "sequential": [
            [
             0,
             "#0d0887"
            ],
            [
             0.1111111111111111,
             "#46039f"
            ],
            [
             0.2222222222222222,
             "#7201a8"
            ],
            [
             0.3333333333333333,
             "#9c179e"
            ],
            [
             0.4444444444444444,
             "#bd3786"
            ],
            [
             0.5555555555555556,
             "#d8576b"
            ],
            [
             0.6666666666666666,
             "#ed7953"
            ],
            [
             0.7777777777777778,
             "#fb9f3a"
            ],
            [
             0.8888888888888888,
             "#fdca26"
            ],
            [
             1,
             "#f0f921"
            ]
           ],
           "sequentialminus": [
            [
             0,
             "#0d0887"
            ],
            [
             0.1111111111111111,
             "#46039f"
            ],
            [
             0.2222222222222222,
             "#7201a8"
            ],
            [
             0.3333333333333333,
             "#9c179e"
            ],
            [
             0.4444444444444444,
             "#bd3786"
            ],
            [
             0.5555555555555556,
             "#d8576b"
            ],
            [
             0.6666666666666666,
             "#ed7953"
            ],
            [
             0.7777777777777778,
             "#fb9f3a"
            ],
            [
             0.8888888888888888,
             "#fdca26"
            ],
            [
             1,
             "#f0f921"
            ]
           ]
          },
          "colorway": [
           "#636efa",
           "#EF553B",
           "#00cc96",
           "#ab63fa",
           "#FFA15A",
           "#19d3f3",
           "#FF6692",
           "#B6E880",
           "#FF97FF",
           "#FECB52"
          ],
          "font": {
           "color": "#2a3f5f"
          },
          "geo": {
           "bgcolor": "white",
           "lakecolor": "white",
           "landcolor": "#E5ECF6",
           "showlakes": true,
           "showland": true,
           "subunitcolor": "white"
          },
          "hoverlabel": {
           "align": "left"
          },
          "hovermode": "closest",
          "mapbox": {
           "style": "light"
          },
          "paper_bgcolor": "white",
          "plot_bgcolor": "#E5ECF6",
          "polar": {
           "angularaxis": {
            "gridcolor": "white",
            "linecolor": "white",
            "ticks": ""
           },
           "bgcolor": "#E5ECF6",
           "radialaxis": {
            "gridcolor": "white",
            "linecolor": "white",
            "ticks": ""
           }
          },
          "scene": {
           "xaxis": {
            "backgroundcolor": "#E5ECF6",
            "gridcolor": "white",
            "gridwidth": 2,
            "linecolor": "white",
            "showbackground": true,
            "ticks": "",
            "zerolinecolor": "white"
           },
           "yaxis": {
            "backgroundcolor": "#E5ECF6",
            "gridcolor": "white",
            "gridwidth": 2,
            "linecolor": "white",
            "showbackground": true,
            "ticks": "",
            "zerolinecolor": "white"
           },
           "zaxis": {
            "backgroundcolor": "#E5ECF6",
            "gridcolor": "white",
            "gridwidth": 2,
            "linecolor": "white",
            "showbackground": true,
            "ticks": "",
            "zerolinecolor": "white"
           }
          },
          "shapedefaults": {
           "line": {
            "color": "#2a3f5f"
           }
          },
          "ternary": {
           "aaxis": {
            "gridcolor": "white",
            "linecolor": "white",
            "ticks": ""
           },
           "baxis": {
            "gridcolor": "white",
            "linecolor": "white",
            "ticks": ""
           },
           "bgcolor": "#E5ECF6",
           "caxis": {
            "gridcolor": "white",
            "linecolor": "white",
            "ticks": ""
           }
          },
          "title": {
           "x": 0.05
          },
          "xaxis": {
           "automargin": true,
           "gridcolor": "white",
           "linecolor": "white",
           "ticks": "",
           "title": {
            "standoff": 15
           },
           "zerolinecolor": "white",
           "zerolinewidth": 2
          },
          "yaxis": {
           "automargin": true,
           "gridcolor": "white",
           "linecolor": "white",
           "ticks": "",
           "title": {
            "standoff": 15
           },
           "zerolinecolor": "white",
           "zerolinewidth": 2
          }
         }
        },
        "xaxis": {
         "anchor": "y",
         "domain": [
          0,
          1
         ],
         "title": {
          "text": "pole-task_group_name-groundline-t_interval"
         }
        },
        "yaxis": {
         "anchor": "x",
         "domain": [
          0,
          1
         ],
         "title": {
          "text": "value_lost"
         }
        }
       }
      }
     },
     "metadata": {}
    }
   ],
   "source": [
    "px.line(df_total.reset_index(), x=x_axis, y=z_axis, color=y_axis)"
   ]
  },
  {
   "cell_type": "code",
   "execution_count": null,
   "metadata": {},
   "outputs": [],
   "source": [
    "df_total.to_csv(paths.output_path + os.sep + \"interim_model_results.csv\")"
   ]
  },
  {
   "source": [
    "# Match Asset Models to the population\n",
    "## Load the population data"
   ],
   "cell_type": "markdown",
   "metadata": {}
  },
  {
   "cell_type": "code",
   "execution_count": 182,
   "metadata": {},
   "outputs": [
    {
     "output_type": "execute_result",
     "data": {
      "text/plain": [
       "   Unnamed: 0  ASSET_ID Depot (ZSG Area) Pole_LU_NSWMajo    Pole_LU_NSWDeta  \\\n",
       "0           0       388      Cobar Depot         Grazing  Rangeland grazing   \n",
       "1           1       389      Cobar Depot         Grazing  Rangeland grazing   \n",
       "2           2       390      Cobar Depot         Grazing  Rangeland grazing   \n",
       "3           3       391      Cobar Depot         Grazing  Rangeland grazing   \n",
       "4           4       392      Cobar Depot         Grazing  Rangeland grazing   \n",
       "\n",
       "             Pole_LU_ALUMMaj            Pole_LU_ALUMDet  \\\n",
       "0  Grazing native vegetation  Grazing native vegetation   \n",
       "1  Grazing native vegetation  Grazing native vegetation   \n",
       "2  Grazing native vegetation  Grazing native vegetation   \n",
       "3  Grazing native vegetation  Grazing native vegetation   \n",
       "4  Grazing native vegetation  Grazing native vegetation   \n",
       "\n",
       "  Road Crossing Conductor Type HV_LV Status BushfirePriority  ...  \\\n",
       "0                         None      HV Only               P3  ...   \n",
       "1                         None      HV Only               P3  ...   \n",
       "2                         None      HV Only               P3  ...   \n",
       "3                         None      HV Only               P3  ...   \n",
       "4                         None      HV Only               P3  ...   \n",
       "\n",
       "  C_Environment_Rank  Site_Bushfire_Moderate_Probability  \\\n",
       "0                  5                            0.000715   \n",
       "1                  5                            0.000715   \n",
       "2                  5                            0.000715   \n",
       "3                  5                            0.000715   \n",
       "4                  5                            0.000715   \n",
       "\n",
       "   Site_Bushfire_Severe_Probability  C_Bushfire_Dollars  \\\n",
       "0                          0.000005          755.419255   \n",
       "1                          0.000005          755.419255   \n",
       "2                          0.000005          755.419255   \n",
       "3                          0.000005          755.419255   \n",
       "4                          0.000005          755.419255   \n",
       "\n",
       "  Site_Environment_Insignificant_Probability  \\\n",
       "0                                        0.0   \n",
       "1                                        0.0   \n",
       "2                                        0.0   \n",
       "3                                        0.0   \n",
       "4                                        0.0   \n",
       "\n",
       "  Site_Environment_Minor_Probability C_Environment_Dollars  \\\n",
       "0                                  0                     0   \n",
       "1                                  0                     0   \n",
       "2                                  0                     0   \n",
       "3                                  0                     0   \n",
       "4                                  0                     0   \n",
       "\n",
       "  C_Financial_Dollars  Total Consequence $  Radial(Y/N)  \n",
       "0          2802.19134         21198.144867          NaN  \n",
       "1          2802.57978         21198.533307          NaN  \n",
       "2          2803.09692         21199.050447          NaN  \n",
       "3          2803.76382         21199.717347          NaN  \n",
       "4          2804.33010         21200.283627          NaN  \n",
       "\n",
       "[5 rows x 43 columns]"
      ],
      "text/html": "<div>\n<style scoped>\n    .dataframe tbody tr th:only-of-type {\n        vertical-align: middle;\n    }\n\n    .dataframe tbody tr th {\n        vertical-align: top;\n    }\n\n    .dataframe thead th {\n        text-align: right;\n    }\n</style>\n<table border=\"1\" class=\"dataframe\">\n  <thead>\n    <tr style=\"text-align: right;\">\n      <th></th>\n      <th>Unnamed: 0</th>\n      <th>ASSET_ID</th>\n      <th>Depot (ZSG Area)</th>\n      <th>Pole_LU_NSWMajo</th>\n      <th>Pole_LU_NSWDeta</th>\n      <th>Pole_LU_ALUMMaj</th>\n      <th>Pole_LU_ALUMDet</th>\n      <th>Road Crossing Conductor Type</th>\n      <th>HV_LV Status</th>\n      <th>BushfirePriority</th>\n      <th>...</th>\n      <th>C_Environment_Rank</th>\n      <th>Site_Bushfire_Moderate_Probability</th>\n      <th>Site_Bushfire_Severe_Probability</th>\n      <th>C_Bushfire_Dollars</th>\n      <th>Site_Environment_Insignificant_Probability</th>\n      <th>Site_Environment_Minor_Probability</th>\n      <th>C_Environment_Dollars</th>\n      <th>C_Financial_Dollars</th>\n      <th>Total Consequence $</th>\n      <th>Radial(Y/N)</th>\n    </tr>\n  </thead>\n  <tbody>\n    <tr>\n      <th>0</th>\n      <td>0</td>\n      <td>388</td>\n      <td>Cobar Depot</td>\n      <td>Grazing</td>\n      <td>Rangeland grazing</td>\n      <td>Grazing native vegetation</td>\n      <td>Grazing native vegetation</td>\n      <td>None</td>\n      <td>HV Only</td>\n      <td>P3</td>\n      <td>...</td>\n      <td>5</td>\n      <td>0.000715</td>\n      <td>0.000005</td>\n      <td>755.419255</td>\n      <td>0.0</td>\n      <td>0</td>\n      <td>0</td>\n      <td>2802.19134</td>\n      <td>21198.144867</td>\n      <td>NaN</td>\n    </tr>\n    <tr>\n      <th>1</th>\n      <td>1</td>\n      <td>389</td>\n      <td>Cobar Depot</td>\n      <td>Grazing</td>\n      <td>Rangeland grazing</td>\n      <td>Grazing native vegetation</td>\n      <td>Grazing native vegetation</td>\n      <td>None</td>\n      <td>HV Only</td>\n      <td>P3</td>\n      <td>...</td>\n      <td>5</td>\n      <td>0.000715</td>\n      <td>0.000005</td>\n      <td>755.419255</td>\n      <td>0.0</td>\n      <td>0</td>\n      <td>0</td>\n      <td>2802.57978</td>\n      <td>21198.533307</td>\n      <td>NaN</td>\n    </tr>\n    <tr>\n      <th>2</th>\n      <td>2</td>\n      <td>390</td>\n      <td>Cobar Depot</td>\n      <td>Grazing</td>\n      <td>Rangeland grazing</td>\n      <td>Grazing native vegetation</td>\n      <td>Grazing native vegetation</td>\n      <td>None</td>\n      <td>HV Only</td>\n      <td>P3</td>\n      <td>...</td>\n      <td>5</td>\n      <td>0.000715</td>\n      <td>0.000005</td>\n      <td>755.419255</td>\n      <td>0.0</td>\n      <td>0</td>\n      <td>0</td>\n      <td>2803.09692</td>\n      <td>21199.050447</td>\n      <td>NaN</td>\n    </tr>\n    <tr>\n      <th>3</th>\n      <td>3</td>\n      <td>391</td>\n      <td>Cobar Depot</td>\n      <td>Grazing</td>\n      <td>Rangeland grazing</td>\n      <td>Grazing native vegetation</td>\n      <td>Grazing native vegetation</td>\n      <td>None</td>\n      <td>HV Only</td>\n      <td>P3</td>\n      <td>...</td>\n      <td>5</td>\n      <td>0.000715</td>\n      <td>0.000005</td>\n      <td>755.419255</td>\n      <td>0.0</td>\n      <td>0</td>\n      <td>0</td>\n      <td>2803.76382</td>\n      <td>21199.717347</td>\n      <td>NaN</td>\n    </tr>\n    <tr>\n      <th>4</th>\n      <td>4</td>\n      <td>392</td>\n      <td>Cobar Depot</td>\n      <td>Grazing</td>\n      <td>Rangeland grazing</td>\n      <td>Grazing native vegetation</td>\n      <td>Grazing native vegetation</td>\n      <td>None</td>\n      <td>HV Only</td>\n      <td>P3</td>\n      <td>...</td>\n      <td>5</td>\n      <td>0.000715</td>\n      <td>0.000005</td>\n      <td>755.419255</td>\n      <td>0.0</td>\n      <td>0</td>\n      <td>0</td>\n      <td>2804.33010</td>\n      <td>21200.283627</td>\n      <td>NaN</td>\n    </tr>\n  </tbody>\n</table>\n<p>5 rows × 43 columns</p>\n</div>"
     },
     "metadata": {},
     "execution_count": 182
    }
   ],
   "source": [
    "filename = r\"C:\\Users\\gtreseder\\OneDrive - KPMG\\Documents\\3. Client\\Essential Energy\\Probability of Failure Model\\inputs\\csvs\\ACS - Poles - Consequence Model Output.csv\"\n",
    "print(\"File Loading...\")\n",
    "df_cons = pd.read_csv(filename)\n",
    "clear_output()\n",
    "df_cons.head()"
   ]
  },
  {
   "source": [
    "## Prepare the population Data"
   ],
   "cell_type": "markdown",
   "metadata": {}
  },
  {
   "cell_type": "code",
   "execution_count": 184,
   "metadata": {},
   "outputs": [
    {
     "output_type": "execute_result",
     "data": {
      "text/plain": [
       "  Depot (ZSG Area)  pole-consequence-cost  asset_count\n",
       "0     Albury Depot               500000.0        19568\n",
       "1     Albury Depot              1000000.0            9\n",
       "2     Albury Depot              1500000.0          361\n",
       "3   Armidale Depot               500000.0        18941\n",
       "4   Armidale Depot              1000000.0            7"
      ],
      "text/html": "<div>\n<style scoped>\n    .dataframe tbody tr th:only-of-type {\n        vertical-align: middle;\n    }\n\n    .dataframe tbody tr th {\n        vertical-align: top;\n    }\n\n    .dataframe thead th {\n        text-align: right;\n    }\n</style>\n<table border=\"1\" class=\"dataframe\">\n  <thead>\n    <tr style=\"text-align: right;\">\n      <th></th>\n      <th>Depot (ZSG Area)</th>\n      <th>pole-consequence-cost</th>\n      <th>asset_count</th>\n    </tr>\n  </thead>\n  <tbody>\n    <tr>\n      <th>0</th>\n      <td>Albury Depot</td>\n      <td>500000.0</td>\n      <td>19568</td>\n    </tr>\n    <tr>\n      <th>1</th>\n      <td>Albury Depot</td>\n      <td>1000000.0</td>\n      <td>9</td>\n    </tr>\n    <tr>\n      <th>2</th>\n      <td>Albury Depot</td>\n      <td>1500000.0</td>\n      <td>361</td>\n    </tr>\n    <tr>\n      <th>3</th>\n      <td>Armidale Depot</td>\n      <td>500000.0</td>\n      <td>18941</td>\n    </tr>\n    <tr>\n      <th>4</th>\n      <td>Armidale Depot</td>\n      <td>1000000.0</td>\n      <td>7</td>\n    </tr>\n  </tbody>\n</table>\n</div>"
     },
     "metadata": {},
     "execution_count": 184
    }
   ],
   "source": [
    "# TODO turn ino a function so it works for mutliple y vars\n",
    "pop_var = 'Total Consequence $'\n",
    "sens_var = 'pole-consequence-cost'\n",
    "uid_col = 'ASSET_ID'\n",
    "agg_cols = ['Depot (ZSG Area)']\n",
    "\n",
    "df_sens_var = pd.DataFrame(sens_vars[sens_var], columns= [sens_var])\n",
    "\n",
    "# Fill with average val\n",
    "df_cons[pop_var] = df_cons[pop_var].fillna(df_cons[pop_var].mean())\n",
    "\n",
    "# Match to the closest value from the model\n",
    "df = pd.merge_asof(\n",
    "    df_cons.sort_values(pop_var),\n",
    "    df_sens_var,\n",
    "    left_on = pop_var,\n",
    "    right_on = sens_var,\n",
    "    direction = 'forward'\n",
    ")\n",
    "\n",
    "# Remove columsns that aren't required\n",
    "col_to_keep = [uid_col] + agg_cols + [pop_var] + [sens_var]\n",
    "df = df[col_to_keep]\n",
    "\n",
    "# Count into sub populations\n",
    "by = agg_cols + [sens_var]\n",
    "df_pop = df.groupby(by=by)[uid_col].count().reset_index().rename(columns={uid_col:'asset_count'})\n",
    "df_pop.head()"
   ]
  },
  {
   "source": [
    "## Combine the models together"
   ],
   "cell_type": "markdown",
   "metadata": {}
  },
  {
   "cell_type": "code",
   "execution_count": 192,
   "metadata": {},
   "outputs": [
    {
     "output_type": "execute_result",
     "data": {
      "text/plain": [
       "   pole-task_group_name-groundline-t_interval  pole-consequence-cost  \\\n",
       "0                                        20.0                    0.0   \n",
       "1                                        20.0               500000.0   \n",
       "2                                        20.0              1000000.0   \n",
       "3                                        20.0              1500000.0   \n",
       "4                                        60.0                    0.0   \n",
       "5                                        60.0               500000.0   \n",
       "6                                        60.0              1000000.0   \n",
       "7                                        60.0              1500000.0   \n",
       "\n",
       "   quantity      cost  quantity_annual  cost_annual  value_lost  \n",
       "0     2.030    208.00         0.002197     0.224943    0.000000  \n",
       "1     2.030   5173.25         0.002195     5.596304    0.035585  \n",
       "2     2.035  10173.50         0.002217    11.081449    0.000000  \n",
       "3     2.020  15172.75         0.002167    16.279522    0.000000  \n",
       "4     2.055    227.50         0.002227     0.246576    0.021633  \n",
       "5     2.080   5228.25         0.002212     5.560719    0.000000  \n",
       "6     2.065  10210.00         0.002248    11.116835    0.035386  \n",
       "7     2.045  15226.50         0.002225    16.572090    0.292568  "
      ],
      "text/html": "<div>\n<style scoped>\n    .dataframe tbody tr th:only-of-type {\n        vertical-align: middle;\n    }\n\n    .dataframe tbody tr th {\n        vertical-align: top;\n    }\n\n    .dataframe thead th {\n        text-align: right;\n    }\n</style>\n<table border=\"1\" class=\"dataframe\">\n  <thead>\n    <tr style=\"text-align: right;\">\n      <th></th>\n      <th>pole-task_group_name-groundline-t_interval</th>\n      <th>pole-consequence-cost</th>\n      <th>quantity</th>\n      <th>cost</th>\n      <th>quantity_annual</th>\n      <th>cost_annual</th>\n      <th>value_lost</th>\n    </tr>\n  </thead>\n  <tbody>\n    <tr>\n      <th>0</th>\n      <td>20.0</td>\n      <td>0.0</td>\n      <td>2.030</td>\n      <td>208.00</td>\n      <td>0.002197</td>\n      <td>0.224943</td>\n      <td>0.000000</td>\n    </tr>\n    <tr>\n      <th>1</th>\n      <td>20.0</td>\n      <td>500000.0</td>\n      <td>2.030</td>\n      <td>5173.25</td>\n      <td>0.002195</td>\n      <td>5.596304</td>\n      <td>0.035585</td>\n    </tr>\n    <tr>\n      <th>2</th>\n      <td>20.0</td>\n      <td>1000000.0</td>\n      <td>2.035</td>\n      <td>10173.50</td>\n      <td>0.002217</td>\n      <td>11.081449</td>\n      <td>0.000000</td>\n    </tr>\n    <tr>\n      <th>3</th>\n      <td>20.0</td>\n      <td>1500000.0</td>\n      <td>2.020</td>\n      <td>15172.75</td>\n      <td>0.002167</td>\n      <td>16.279522</td>\n      <td>0.000000</td>\n    </tr>\n    <tr>\n      <th>4</th>\n      <td>60.0</td>\n      <td>0.0</td>\n      <td>2.055</td>\n      <td>227.50</td>\n      <td>0.002227</td>\n      <td>0.246576</td>\n      <td>0.021633</td>\n    </tr>\n    <tr>\n      <th>5</th>\n      <td>60.0</td>\n      <td>500000.0</td>\n      <td>2.080</td>\n      <td>5228.25</td>\n      <td>0.002212</td>\n      <td>5.560719</td>\n      <td>0.000000</td>\n    </tr>\n    <tr>\n      <th>6</th>\n      <td>60.0</td>\n      <td>1000000.0</td>\n      <td>2.065</td>\n      <td>10210.00</td>\n      <td>0.002248</td>\n      <td>11.116835</td>\n      <td>0.035386</td>\n    </tr>\n    <tr>\n      <th>7</th>\n      <td>60.0</td>\n      <td>1500000.0</td>\n      <td>2.045</td>\n      <td>15226.50</td>\n      <td>0.002225</td>\n      <td>16.572090</td>\n      <td>0.292568</td>\n    </tr>\n  </tbody>\n</table>\n</div>"
     },
     "metadata": {},
     "execution_count": 192
    }
   ],
   "source": [
    "df_total"
   ]
  },
  {
   "cell_type": "code",
   "execution_count": 187,
   "metadata": {},
   "outputs": [
    {
     "output_type": "display_data",
     "data": {
      "application/vnd.plotly.v1+json": {
       "config": {
        "plotlyServerURL": "https://plot.ly"
       },
       "data": [
        {
         "hovertemplate": "Depot (ZSG Area)=all<br>pole-task_group_name-groundline-t_interval=%{x}<br>value_lost_pop=%{y}<extra></extra>",
         "legendgroup": "all",
         "line": {
          "color": "#636efa",
          "dash": "solid"
         },
         "mode": "lines",
         "name": "all",
         "orientation": "v",
         "showlegend": true,
         "type": "scatter",
         "x": [
          20,
          60
         ],
         "xaxis": "x",
         "y": [
          48158.2991186017,
          11883.109688943721
         ],
         "yaxis": "y"
        },
        {
         "hovertemplate": "Depot (ZSG Area)=Albury Depot<br>pole-task_group_name-groundline-t_interval=%{x}<br>value_lost_pop=%{y}<extra></extra>",
         "legendgroup": "Albury Depot",
         "line": {
          "color": "#EF553B",
          "dash": "solid"
         },
         "mode": "lines",
         "name": "Albury Depot",
         "orientation": "v",
         "showlegend": true,
         "type": "scatter",
         "x": [
          20,
          60
         ],
         "xaxis": "x",
         "y": [
          696.3218441109481,
          105.93556572945366
         ],
         "yaxis": "y"
        },
        {
         "hovertemplate": "Depot (ZSG Area)=Armidale Depot<br>pole-task_group_name-groundline-t_interval=%{x}<br>value_lost_pop=%{y}<extra></extra>",
         "legendgroup": "Armidale Depot",
         "line": {
          "color": "#00cc96",
          "dash": "solid"
         },
         "mode": "lines",
         "name": "Armidale Depot",
         "orientation": "v",
         "showlegend": true,
         "type": "scatter",
         "x": [
          20,
          60
         ],
         "xaxis": "x",
         "y": [
          674.0102232883006,
          250.6860176720356
         ],
         "yaxis": "y"
        },
        {
         "hovertemplate": "Depot (ZSG Area)=Ballina Depot<br>pole-task_group_name-groundline-t_interval=%{x}<br>value_lost_pop=%{y}<extra></extra>",
         "legendgroup": "Ballina Depot",
         "line": {
          "color": "#ab63fa",
          "dash": "solid"
         },
         "mode": "lines",
         "name": "Ballina Depot",
         "orientation": "v",
         "showlegend": true,
         "type": "scatter",
         "x": [
          20,
          60
         ],
         "xaxis": "x",
         "y": [
          687.176570504217,
          68.58352015660172
         ],
         "yaxis": "y"
        },
        {
         "hovertemplate": "Depot (ZSG Area)=Balranald Depot<br>pole-task_group_name-groundline-t_interval=%{x}<br>value_lost_pop=%{y}<extra></extra>",
         "legendgroup": "Balranald Depot",
         "line": {
          "color": "#FFA15A",
          "dash": "solid"
         },
         "mode": "lines",
         "name": "Balranald Depot",
         "orientation": "v",
         "showlegend": true,
         "type": "scatter",
         "x": [
          20,
          60
         ],
         "xaxis": "x",
         "y": [
          314.0707581829123,
          0
         ],
         "yaxis": "y"
        },
        {
         "hovertemplate": "Depot (ZSG Area)=Barham Depot<br>pole-task_group_name-groundline-t_interval=%{x}<br>value_lost_pop=%{y}<extra></extra>",
         "legendgroup": "Barham Depot",
         "line": {
          "color": "#19d3f3",
          "dash": "solid"
         },
         "mode": "lines",
         "name": "Barham Depot",
         "orientation": "v",
         "showlegend": true,
         "type": "scatter",
         "x": [
          20,
          60
         ],
         "xaxis": "x",
         "y": [
          194.64843046233062,
          119.4739534137179
         ],
         "yaxis": "y"
        },
        {
         "hovertemplate": "Depot (ZSG Area)=Barraba Depot<br>pole-task_group_name-groundline-t_interval=%{x}<br>value_lost_pop=%{y}<extra></extra>",
         "legendgroup": "Barraba Depot",
         "line": {
          "color": "#FF6692",
          "dash": "solid"
         },
         "mode": "lines",
         "name": "Barraba Depot",
         "orientation": "v",
         "showlegend": true,
         "type": "scatter",
         "x": [
          20,
          60
         ],
         "xaxis": "x",
         "y": [
          356.8080095513326,
          0
         ],
         "yaxis": "y"
        },
        {
         "hovertemplate": "Depot (ZSG Area)=Bathurst Depot<br>pole-task_group_name-groundline-t_interval=%{x}<br>value_lost_pop=%{y}<extra></extra>",
         "legendgroup": "Bathurst Depot",
         "line": {
          "color": "#B6E880",
          "dash": "solid"
         },
         "mode": "lines",
         "name": "Bathurst Depot",
         "orientation": "v",
         "showlegend": true,
         "type": "scatter",
         "x": [
          20,
          60
         ],
         "xaxis": "x",
         "y": [
          810.442048222958,
          9.86706256015755
         ],
         "yaxis": "y"
        },
        {
         "hovertemplate": "Depot (ZSG Area)=Bega Depot<br>pole-task_group_name-groundline-t_interval=%{x}<br>value_lost_pop=%{y}<extra></extra>",
         "legendgroup": "Bega Depot",
         "line": {
          "color": "#FF97FF",
          "dash": "solid"
         },
         "mode": "lines",
         "name": "Bega Depot",
         "orientation": "v",
         "showlegend": true,
         "type": "scatter",
         "x": [
          20,
          60
         ],
         "xaxis": "x",
         "y": [
          894.5287467937966,
          168.36821652133727
         ],
         "yaxis": "y"
        },
        {
         "hovertemplate": "Depot (ZSG Area)=Berrigan Depot<br>pole-task_group_name-groundline-t_interval=%{x}<br>value_lost_pop=%{y}<extra></extra>",
         "legendgroup": "Berrigan Depot",
         "line": {
          "color": "#FECB52",
          "dash": "solid"
         },
         "mode": "lines",
         "name": "Berrigan Depot",
         "orientation": "v",
         "showlegend": true,
         "type": "scatter",
         "x": [
          20,
          60
         ],
         "xaxis": "x",
         "y": [
          648.6027316338027,
          78.07082211942493
         ],
         "yaxis": "y"
        },
        {
         "hovertemplate": "Depot (ZSG Area)=Blayney Depot<br>pole-task_group_name-groundline-t_interval=%{x}<br>value_lost_pop=%{y}<extra></extra>",
         "legendgroup": "Blayney Depot",
         "line": {
          "color": "#636efa",
          "dash": "solid"
         },
         "mode": "lines",
         "name": "Blayney Depot",
         "orientation": "v",
         "showlegend": true,
         "type": "scatter",
         "x": [
          20,
          60
         ],
         "xaxis": "x",
         "y": [
          320.369254013229,
          29.256812805527233
         ],
         "yaxis": "y"
        },
        {
         "hovertemplate": "Depot (ZSG Area)=Bombala Depot<br>pole-task_group_name-groundline-t_interval=%{x}<br>value_lost_pop=%{y}<extra></extra>",
         "legendgroup": "Bombala Depot",
         "line": {
          "color": "#EF553B",
          "dash": "solid"
         },
         "mode": "lines",
         "name": "Bombala Depot",
         "orientation": "v",
         "showlegend": true,
         "type": "scatter",
         "x": [
          20,
          60
         ],
         "xaxis": "x",
         "y": [
          239.55634988526688,
          103.63988877634426
         ],
         "yaxis": "y"
        },
        {
         "hovertemplate": "Depot (ZSG Area)=Boorowa Depot<br>pole-task_group_name-groundline-t_interval=%{x}<br>value_lost_pop=%{y}<extra></extra>",
         "legendgroup": "Boorowa Depot",
         "line": {
          "color": "#00cc96",
          "dash": "solid"
         },
         "mode": "lines",
         "name": "Boorowa Depot",
         "orientation": "v",
         "showlegend": true,
         "type": "scatter",
         "x": [
          20,
          60
         ],
         "xaxis": "x",
         "y": [
          266.9921707054601,
          80.37598142147817
         ],
         "yaxis": "y"
        },
        {
         "hovertemplate": "Depot (ZSG Area)=Bourke Depot<br>pole-task_group_name-groundline-t_interval=%{x}<br>value_lost_pop=%{y}<extra></extra>",
         "legendgroup": "Bourke Depot",
         "line": {
          "color": "#ab63fa",
          "dash": "solid"
         },
         "mode": "lines",
         "name": "Bourke Depot",
         "orientation": "v",
         "showlegend": true,
         "type": "scatter",
         "x": [
          20,
          60
         ],
         "xaxis": "x",
         "y": [
          700.2361635535178,
          416.3244462226525
         ],
         "yaxis": "y"
        },
        {
         "hovertemplate": "Depot (ZSG Area)=Braidwood Depot<br>pole-task_group_name-groundline-t_interval=%{x}<br>value_lost_pop=%{y}<extra></extra>",
         "legendgroup": "Braidwood Depot",
         "line": {
          "color": "#FFA15A",
          "dash": "solid"
         },
         "mode": "lines",
         "name": "Braidwood Depot",
         "orientation": "v",
         "showlegend": true,
         "type": "scatter",
         "x": [
          20,
          60
         ],
         "xaxis": "x",
         "y": [
          207.45893045619516,
          0
         ],
         "yaxis": "y"
        },
        {
         "hovertemplate": "Depot (ZSG Area)=Broken Hill Depot<br>pole-task_group_name-groundline-t_interval=%{x}<br>value_lost_pop=%{y}<extra></extra>",
         "legendgroup": "Broken Hill Depot",
         "line": {
          "color": "#19d3f3",
          "dash": "solid"
         },
         "mode": "lines",
         "name": "Broken Hill Depot",
         "orientation": "v",
         "showlegend": true,
         "type": "scatter",
         "x": [
          20,
          60
         ],
         "xaxis": "x",
         "y": [
          632.3760983082409,
          175.24368799791526
         ],
         "yaxis": "y"
        },
        {
         "hovertemplate": "Depot (ZSG Area)=Bulahdelah Depot<br>pole-task_group_name-groundline-t_interval=%{x}<br>value_lost_pop=%{y}<extra></extra>",
         "legendgroup": "Bulahdelah Depot",
         "line": {
          "color": "#FF6692",
          "dash": "solid"
         },
         "mode": "lines",
         "name": "Bulahdelah Depot",
         "orientation": "v",
         "showlegend": true,
         "type": "scatter",
         "x": [
          20,
          60
         ],
         "xaxis": "x",
         "y": [
          348.3032609442947,
          39.74439734418425
         ],
         "yaxis": "y"
        },
        {
         "hovertemplate": "Depot (ZSG Area)=Buronga Depot<br>pole-task_group_name-groundline-t_interval=%{x}<br>value_lost_pop=%{y}<extra></extra>",
         "legendgroup": "Buronga Depot",
         "line": {
          "color": "#B6E880",
          "dash": "solid"
         },
         "mode": "lines",
         "name": "Buronga Depot",
         "orientation": "v",
         "showlegend": true,
         "type": "scatter",
         "x": [
          20,
          60
         ],
         "xaxis": "x",
         "y": [
          418.4763331329083,
          167.41025834344975
         ],
         "yaxis": "y"
        },
        {
         "hovertemplate": "Depot (ZSG Area)=Canowindra Depot<br>pole-task_group_name-groundline-t_interval=%{x}<br>value_lost_pop=%{y}<extra></extra>",
         "legendgroup": "Canowindra Depot",
         "line": {
          "color": "#FF97FF",
          "dash": "solid"
         },
         "mode": "lines",
         "name": "Canowindra Depot",
         "orientation": "v",
         "showlegend": true,
         "type": "scatter",
         "x": [
          20,
          60
         ],
         "xaxis": "x",
         "y": [
          275.9595207011653,
          0
         ],
         "yaxis": "y"
        },
        {
         "hovertemplate": "Depot (ZSG Area)=Casino Depot<br>pole-task_group_name-groundline-t_interval=%{x}<br>value_lost_pop=%{y}<extra></extra>",
         "legendgroup": "Casino Depot",
         "line": {
          "color": "#FECB52",
          "dash": "solid"
         },
         "mode": "lines",
         "name": "Casino Depot",
         "orientation": "v",
         "showlegend": true,
         "type": "scatter",
         "x": [
          20,
          60
         ],
         "xaxis": "x",
         "y": [
          588.5001358292549,
          167.18846166017238
         ],
         "yaxis": "y"
        },
        {
         "hovertemplate": "Depot (ZSG Area)=Cobar Depot<br>pole-task_group_name-groundline-t_interval=%{x}<br>value_lost_pop=%{y}<extra></extra>",
         "legendgroup": "Cobar Depot",
         "line": {
          "color": "#636efa",
          "dash": "solid"
         },
         "mode": "lines",
         "name": "Cobar Depot",
         "orientation": "v",
         "showlegend": true,
         "type": "scatter",
         "x": [
          20,
          60
         ],
         "xaxis": "x",
         "y": [
          350.54509844322104,
          346.40066361744243
         ],
         "yaxis": "y"
        },
        {
         "hovertemplate": "Depot (ZSG Area)=Coffs Harbour Depot<br>pole-task_group_name-groundline-t_interval=%{x}<br>value_lost_pop=%{y}<extra></extra>",
         "legendgroup": "Coffs Harbour Depot",
         "line": {
          "color": "#EF553B",
          "dash": "solid"
         },
         "mode": "lines",
         "name": "Coffs Harbour Depot",
         "orientation": "v",
         "showlegend": true,
         "type": "scatter",
         "x": [
          20,
          60
         ],
         "xaxis": "x",
         "y": [
          876.8075551356173,
          16.924083355873012
         ],
         "yaxis": "y"
        },
        {
         "hovertemplate": "Depot (ZSG Area)=Condobolin Depot<br>pole-task_group_name-groundline-t_interval=%{x}<br>value_lost_pop=%{y}<extra></extra>",
         "legendgroup": "Condobolin Depot",
         "line": {
          "color": "#00cc96",
          "dash": "solid"
         },
         "mode": "lines",
         "name": "Condobolin Depot",
         "orientation": "v",
         "showlegend": true,
         "type": "scatter",
         "x": [
          20,
          60
         ],
         "xaxis": "x",
         "y": [
          420.5046622986035,
          354.95591077582316
         ],
         "yaxis": "y"
        },
        {
         "hovertemplate": "Depot (ZSG Area)=Coolamon Depot<br>pole-task_group_name-groundline-t_interval=%{x}<br>value_lost_pop=%{y}<extra></extra>",
         "legendgroup": "Coolamon Depot",
         "line": {
          "color": "#ab63fa",
          "dash": "solid"
         },
         "mode": "lines",
         "name": "Coolamon Depot",
         "orientation": "v",
         "showlegend": true,
         "type": "scatter",
         "x": [
          20,
          60
         ],
         "xaxis": "x",
         "y": [
          207.35217628957963,
          44.798309314845596
         ],
         "yaxis": "y"
        },
        {
         "hovertemplate": "Depot (ZSG Area)=Cooma Depot<br>pole-task_group_name-groundline-t_interval=%{x}<br>value_lost_pop=%{y}<extra></extra>",
         "legendgroup": "Cooma Depot",
         "line": {
          "color": "#FFA15A",
          "dash": "solid"
         },
         "mode": "lines",
         "name": "Cooma Depot",
         "orientation": "v",
         "showlegend": true,
         "type": "scatter",
         "x": [
          20,
          60
         ],
         "xaxis": "x",
         "y": [
          551.8478719579202,
          394.1954256576186
         ],
         "yaxis": "y"
        },
        {
         "hovertemplate": "Depot (ZSG Area)=Coonabarabran Depot<br>pole-task_group_name-groundline-t_interval=%{x}<br>value_lost_pop=%{y}<extra></extra>",
         "legendgroup": "Coonabarabran Depot",
         "line": {
          "color": "#19d3f3",
          "dash": "solid"
         },
         "mode": "lines",
         "name": "Coonabarabran Depot",
         "orientation": "v",
         "showlegend": true,
         "type": "scatter",
         "x": [
          20,
          60
         ],
         "xaxis": "x",
         "y": [
          439.6136581227848,
          193.68010077259027
         ],
         "yaxis": "y"
        },
        {
         "hovertemplate": "Depot (ZSG Area)=Coonamble Depot<br>pole-task_group_name-groundline-t_interval=%{x}<br>value_lost_pop=%{y}<extra></extra>",
         "legendgroup": "Coonamble Depot",
         "line": {
          "color": "#FF6692",
          "dash": "solid"
         },
         "mode": "lines",
         "name": "Coonamble Depot",
         "orientation": "v",
         "showlegend": true,
         "type": "scatter",
         "x": [
          20,
          60
         ],
         "xaxis": "x",
         "y": [
          409.58015258161345,
          64.10780576649356
         ],
         "yaxis": "y"
        },
        {
         "hovertemplate": "Depot (ZSG Area)=Cootamundra Depot<br>pole-task_group_name-groundline-t_interval=%{x}<br>value_lost_pop=%{y}<extra></extra>",
         "legendgroup": "Cootamundra Depot",
         "line": {
          "color": "#B6E880",
          "dash": "solid"
         },
         "mode": "lines",
         "name": "Cootamundra Depot",
         "orientation": "v",
         "showlegend": true,
         "type": "scatter",
         "x": [
          20,
          60
         ],
         "xaxis": "x",
         "y": [
          255.21362765554576,
          4.681090048884357
         ],
         "yaxis": "y"
        },
        {
         "hovertemplate": "Depot (ZSG Area)=Corowa Depot<br>pole-task_group_name-groundline-t_interval=%{x}<br>value_lost_pop=%{y}<extra></extra>",
         "legendgroup": "Corowa Depot",
         "line": {
          "color": "#FF97FF",
          "dash": "solid"
         },
         "mode": "lines",
         "name": "Corowa Depot",
         "orientation": "v",
         "showlegend": true,
         "type": "scatter",
         "x": [
          20,
          60
         ],
         "xaxis": "x",
         "y": [
          319.97782206897205,
          2.3405450244421786
         ],
         "yaxis": "y"
        },
        {
         "hovertemplate": "Depot (ZSG Area)=Cowra Depot<br>pole-task_group_name-groundline-t_interval=%{x}<br>value_lost_pop=%{y}<extra></extra>",
         "legendgroup": "Cowra Depot",
         "line": {
          "color": "#FECB52",
          "dash": "solid"
         },
         "mode": "lines",
         "name": "Cowra Depot",
         "orientation": "v",
         "showlegend": true,
         "type": "scatter",
         "x": [
          20,
          60
         ],
         "xaxis": "x",
         "y": [
          841.8277732079262,
          129.42126976759715
         ],
         "yaxis": "y"
        },
        {
         "hovertemplate": "Depot (ZSG Area)=Crookwell Depot<br>pole-task_group_name-groundline-t_interval=%{x}<br>value_lost_pop=%{y}<extra></extra>",
         "legendgroup": "Crookwell Depot",
         "line": {
          "color": "#636efa",
          "dash": "solid"
         },
         "mode": "lines",
         "name": "Crookwell Depot",
         "orientation": "v",
         "showlegend": true,
         "type": "scatter",
         "x": [
          20,
          60
         ],
         "xaxis": "x",
         "y": [
          356.1318998294342,
          0
         ],
         "yaxis": "y"
        },
        {
         "hovertemplate": "Depot (ZSG Area)=Culcairn Depot<br>pole-task_group_name-groundline-t_interval=%{x}<br>value_lost_pop=%{y}<extra></extra>",
         "legendgroup": "Culcairn Depot",
         "line": {
          "color": "#EF553B",
          "dash": "solid"
         },
         "mode": "lines",
         "name": "Culcairn Depot",
         "orientation": "v",
         "showlegend": true,
         "type": "scatter",
         "x": [
          20,
          60
         ],
         "xaxis": "x",
         "y": [
          489.07642198798396,
          19.90851005887324
         ],
         "yaxis": "y"
        },
        {
         "hovertemplate": "Depot (ZSG Area)=Deniliquin Depot<br>pole-task_group_name-groundline-t_interval=%{x}<br>value_lost_pop=%{y}<extra></extra>",
         "legendgroup": "Deniliquin Depot",
         "line": {
          "color": "#00cc96",
          "dash": "solid"
         },
         "mode": "lines",
         "name": "Deniliquin Depot",
         "orientation": "v",
         "showlegend": true,
         "type": "scatter",
         "x": [
          20,
          60
         ],
         "xaxis": "x",
         "y": [
          631.7355733085477,
          131.09642474220706
         ],
         "yaxis": "y"
        },
        {
         "hovertemplate": "Depot (ZSG Area)=Dorrigo Depot<br>pole-task_group_name-groundline-t_interval=%{x}<br>value_lost_pop=%{y}<extra></extra>",
         "legendgroup": "Dorrigo Depot",
         "line": {
          "color": "#ab63fa",
          "dash": "solid"
         },
         "mode": "lines",
         "name": "Dorrigo Depot",
         "orientation": "v",
         "showlegend": true,
         "type": "scatter",
         "x": [
          20,
          60
         ],
         "xaxis": "x",
         "y": [
          295.2464401363724,
          5.558794433050174
         ],
         "yaxis": "y"
        },
        {
         "hovertemplate": "Depot (ZSG Area)=Dubbo Depot<br>pole-task_group_name-groundline-t_interval=%{x}<br>value_lost_pop=%{y}<extra></extra>",
         "legendgroup": "Dubbo Depot",
         "line": {
          "color": "#FFA15A",
          "dash": "solid"
         },
         "mode": "lines",
         "name": "Dubbo Depot",
         "orientation": "v",
         "showlegend": true,
         "type": "scatter",
         "x": [
          20,
          60
         ],
         "xaxis": "x",
         "y": [
          824.5691829384142,
          164.77714519095233
         ],
         "yaxis": "y"
        },
        {
         "hovertemplate": "Depot (ZSG Area)=Dunedoo Depot<br>pole-task_group_name-groundline-t_interval=%{x}<br>value_lost_pop=%{y}<extra></extra>",
         "legendgroup": "Dunedoo Depot",
         "line": {
          "color": "#19d3f3",
          "dash": "solid"
         },
         "mode": "lines",
         "name": "Dunedoo Depot",
         "orientation": "v",
         "showlegend": true,
         "type": "scatter",
         "x": [
          20,
          60
         ],
         "xaxis": "x",
         "y": [
          386.8415150925039,
          191.63212387620337
         ],
         "yaxis": "y"
        },
        {
         "hovertemplate": "Depot (ZSG Area)=Dungog Depot<br>pole-task_group_name-groundline-t_interval=%{x}<br>value_lost_pop=%{y}<extra></extra>",
         "legendgroup": "Dungog Depot",
         "line": {
          "color": "#FF6692",
          "dash": "solid"
         },
         "mode": "lines",
         "name": "Dungog Depot",
         "orientation": "v",
         "showlegend": true,
         "type": "scatter",
         "x": [
          20,
          60
         ],
         "xaxis": "x",
         "y": [
          416.8750206336752,
          55.880512458557014
         ],
         "yaxis": "y"
        },
        {
         "hovertemplate": "Depot (ZSG Area)=Ewingsdale Depot<br>pole-task_group_name-groundline-t_interval=%{x}<br>value_lost_pop=%{y}<extra></extra>",
         "legendgroup": "Ewingsdale Depot",
         "line": {
          "color": "#B6E880",
          "dash": "solid"
         },
         "mode": "lines",
         "name": "Ewingsdale Depot",
         "orientation": "v",
         "showlegend": true,
         "type": "scatter",
         "x": [
          20,
          60
         ],
         "xaxis": "x",
         "y": [
          490.0372094875238,
          0.46949673999990793
         ],
         "yaxis": "y"
        },
        {
         "hovertemplate": "Depot (ZSG Area)=Forbes Depot<br>pole-task_group_name-groundline-t_interval=%{x}<br>value_lost_pop=%{y}<extra></extra>",
         "legendgroup": "Forbes Depot",
         "line": {
          "color": "#FF97FF",
          "dash": "solid"
         },
         "mode": "lines",
         "name": "Forbes Depot",
         "orientation": "v",
         "showlegend": true,
         "type": "scatter",
         "x": [
          20,
          60
         ],
         "xaxis": "x",
         "y": [
          465.8751831102071,
          3.8033856647185402
         ],
         "yaxis": "y"
        },
        {
         "hovertemplate": "Depot (ZSG Area)=Gilgandra Depot<br>pole-task_group_name-groundline-t_interval=%{x}<br>value_lost_pop=%{y}<extra></extra>",
         "legendgroup": "Gilgandra Depot",
         "line": {
          "color": "#FECB52",
          "dash": "solid"
         },
         "mode": "lines",
         "name": "Gilgandra Depot",
         "orientation": "v",
         "showlegend": true,
         "type": "scatter",
         "x": [
          20,
          60
         ],
         "xaxis": "x",
         "y": [
          340.2966984481294,
          68.16837383687846
         ],
         "yaxis": "y"
        },
        {
         "hovertemplate": "Depot (ZSG Area)=Glen Innes Depot<br>pole-task_group_name-groundline-t_interval=%{x}<br>value_lost_pop=%{y}<extra></extra>",
         "legendgroup": "Glen Innes Depot",
         "line": {
          "color": "#636efa",
          "dash": "solid"
         },
         "mode": "lines",
         "name": "Glen Innes Depot",
         "orientation": "v",
         "showlegend": true,
         "type": "scatter",
         "x": [
          20,
          60
         ],
         "xaxis": "x",
         "y": [
          444.95136645356166,
          73.24818918098487
         ],
         "yaxis": "y"
        },
        {
         "hovertemplate": "Depot (ZSG Area)=Gloucester Depot<br>pole-task_group_name-groundline-t_interval=%{x}<br>value_lost_pop=%{y}<extra></extra>",
         "legendgroup": "Gloucester Depot",
         "line": {
          "color": "#EF553B",
          "dash": "solid"
         },
         "mode": "lines",
         "name": "Gloucester Depot",
         "orientation": "v",
         "showlegend": true,
         "type": "scatter",
         "x": [
          20,
          60
         ],
         "xaxis": "x",
         "y": [
          255.6762290442131,
          77.2379858065919
         ],
         "yaxis": "y"
        },
        {
         "hovertemplate": "Depot (ZSG Area)=Goondiwindi Depot<br>pole-task_group_name-groundline-t_interval=%{x}<br>value_lost_pop=%{y}<extra></extra>",
         "legendgroup": "Goondiwindi Depot",
         "line": {
          "color": "#00cc96",
          "dash": "solid"
         },
         "mode": "lines",
         "name": "Goondiwindi Depot",
         "orientation": "v",
         "showlegend": true,
         "type": "scatter",
         "x": [
          20,
          60
         ],
         "xaxis": "x",
         "y": [
          699.9514857758763,
          133.41106639320418
         ],
         "yaxis": "y"
        },
        {
         "hovertemplate": "Depot (ZSG Area)=Goulburn Depot<br>pole-task_group_name-groundline-t_interval=%{x}<br>value_lost_pop=%{y}<extra></extra>",
         "legendgroup": "Goulburn Depot",
         "line": {
          "color": "#ab63fa",
          "dash": "solid"
         },
         "mode": "lines",
         "name": "Goulburn Depot",
         "orientation": "v",
         "showlegend": true,
         "type": "scatter",
         "x": [
          20,
          60
         ],
         "xaxis": "x",
         "y": [
          777.8108579608086,
          268.85114498490753
         ],
         "yaxis": "y"
        },
        {
         "hovertemplate": "Depot (ZSG Area)=Grafton Depot<br>pole-task_group_name-groundline-t_interval=%{x}<br>value_lost_pop=%{y}<extra></extra>",
         "legendgroup": "Grafton Depot",
         "line": {
          "color": "#FFA15A",
          "dash": "solid"
         },
         "mode": "lines",
         "name": "Grafton Depot",
         "orientation": "v",
         "showlegend": true,
         "type": "scatter",
         "x": [
          20,
          60
         ],
         "xaxis": "x",
         "y": [
          673.5476218996333,
          140.75117296803106
         ],
         "yaxis": "y"
        },
        {
         "hovertemplate": "Depot (ZSG Area)=Griffith Depot<br>pole-task_group_name-groundline-t_interval=%{x}<br>value_lost_pop=%{y}<extra></extra>",
         "legendgroup": "Griffith Depot",
         "line": {
          "color": "#19d3f3",
          "dash": "solid"
         },
         "mode": "lines",
         "name": "Griffith Depot",
         "orientation": "v",
         "showlegend": true,
         "type": "scatter",
         "x": [
          20,
          60
         ],
         "xaxis": "x",
         "y": [
          813.3244107215776,
          127.59508955448766
         ],
         "yaxis": "y"
        },
        {
         "hovertemplate": "Depot (ZSG Area)=Gunnedah Depot<br>pole-task_group_name-groundline-t_interval=%{x}<br>value_lost_pop=%{y}<extra></extra>",
         "legendgroup": "Gunnedah Depot",
         "line": {
          "color": "#FF6692",
          "dash": "solid"
         },
         "mode": "lines",
         "name": "Gunnedah Depot",
         "orientation": "v",
         "showlegend": true,
         "type": "scatter",
         "x": [
          20,
          60
         ],
         "xaxis": "x",
         "y": [
          635.1872913624501,
          30.56862820730403
         ],
         "yaxis": "y"
        },
        {
         "hovertemplate": "Depot (ZSG Area)=Guyra Depot<br>pole-task_group_name-groundline-t_interval=%{x}<br>value_lost_pop=%{y}<extra></extra>",
         "legendgroup": "Guyra Depot",
         "line": {
          "color": "#B6E880",
          "dash": "solid"
         },
         "mode": "lines",
         "name": "Guyra Depot",
         "orientation": "v",
         "showlegend": true,
         "type": "scatter",
         "x": [
          20,
          60
         ],
         "xaxis": "x",
         "y": [
          274.8563943128047,
          0
         ],
         "yaxis": "y"
        },
        {
         "hovertemplate": "Depot (ZSG Area)=Harden Depot<br>pole-task_group_name-groundline-t_interval=%{x}<br>value_lost_pop=%{y}<extra></extra>",
         "legendgroup": "Harden Depot",
         "line": {
          "color": "#FF97FF",
          "dash": "solid"
         },
         "mode": "lines",
         "name": "Harden Depot",
         "orientation": "v",
         "showlegend": true,
         "type": "scatter",
         "x": [
          20,
          60
         ],
         "xaxis": "x",
         "y": [
          274.3937929241374,
          3.510817536663268
         ],
         "yaxis": "y"
        },
        {
         "hovertemplate": "Depot (ZSG Area)=Hay Depot<br>pole-task_group_name-groundline-t_interval=%{x}<br>value_lost_pop=%{y}<extra></extra>",
         "legendgroup": "Hay Depot",
         "line": {
          "color": "#FECB52",
          "dash": "solid"
         },
         "mode": "lines",
         "name": "Hay Depot",
         "orientation": "v",
         "showlegend": true,
         "type": "scatter",
         "x": [
          20,
          60
         ],
         "xaxis": "x",
         "y": [
          277.098231811731,
          0
         ],
         "yaxis": "y"
        },
        {
         "hovertemplate": "Depot (ZSG Area)=Hillston Depot<br>pole-task_group_name-groundline-t_interval=%{x}<br>value_lost_pop=%{y}<extra></extra>",
         "legendgroup": "Hillston Depot",
         "line": {
          "color": "#636efa",
          "dash": "solid"
         },
         "mode": "lines",
         "name": "Hillston Depot",
         "orientation": "v",
         "showlegend": true,
         "type": "scatter",
         "x": [
          20,
          60
         ],
         "xaxis": "x",
         "y": [
          299.8368693008406,
          660.0336968926944
         ],
         "yaxis": "y"
        },
        {
         "hovertemplate": "Depot (ZSG Area)=Inverell Depot<br>pole-task_group_name-groundline-t_interval=%{x}<br>value_lost_pop=%{y}<extra></extra>",
         "legendgroup": "Inverell Depot",
         "line": {
          "color": "#EF553B",
          "dash": "solid"
         },
         "mode": "lines",
         "name": "Inverell Depot",
         "orientation": "v",
         "showlegend": true,
         "type": "scatter",
         "x": [
          20,
          60
         ],
         "xaxis": "x",
         "y": [
          789.4114773996971,
          325.4773012870185
         ],
         "yaxis": "y"
        },
        {
         "hovertemplate": "Depot (ZSG Area)=Jindabyne Depot<br>pole-task_group_name-groundline-t_interval=%{x}<br>value_lost_pop=%{y}<extra></extra>",
         "legendgroup": "Jindabyne Depot",
         "line": {
          "color": "#00cc96",
          "dash": "solid"
         },
         "mode": "lines",
         "name": "Jindabyne Depot",
         "orientation": "v",
         "showlegend": true,
         "type": "scatter",
         "x": [
          20,
          60
         ],
         "xaxis": "x",
         "y": [
          257.77572765431864,
          31.889925958024683
         ],
         "yaxis": "y"
        },
        {
         "hovertemplate": "Depot (ZSG Area)=Junee Depot<br>pole-task_group_name-groundline-t_interval=%{x}<br>value_lost_pop=%{y}<extra></extra>",
         "legendgroup": "Junee Depot",
         "line": {
          "color": "#ab63fa",
          "dash": "solid"
         },
         "mode": "lines",
         "name": "Junee Depot",
         "orientation": "v",
         "showlegend": true,
         "type": "scatter",
         "x": [
          20,
          60
         ],
         "xaxis": "x",
         "y": [
          246.67329432630274,
          3.8033856647185402
         ],
         "yaxis": "y"
        },
        {
         "hovertemplate": "Depot (ZSG Area)=Kempsey Depot<br>pole-task_group_name-groundline-t_interval=%{x}<br>value_lost_pop=%{y}<extra></extra>",
         "legendgroup": "Kempsey Depot",
         "line": {
          "color": "#FFA15A",
          "dash": "solid"
         },
         "mode": "lines",
         "name": "Kempsey Depot",
         "orientation": "v",
         "showlegend": true,
         "type": "scatter",
         "x": [
          20,
          60
         ],
         "xaxis": "x",
         "y": [
          699.7735621648504,
          117.02725122210893
         ],
         "yaxis": "y"
        },
        {
         "hovertemplate": "Depot (ZSG Area)=Kyogle Depot<br>pole-task_group_name-groundline-t_interval=%{x}<br>value_lost_pop=%{y}<extra></extra>",
         "legendgroup": "Kyogle Depot",
         "line": {
          "color": "#19d3f3",
          "dash": "solid"
         },
         "mode": "lines",
         "name": "Kyogle Depot",
         "orientation": "v",
         "showlegend": true,
         "type": "scatter",
         "x": [
          20,
          60
         ],
         "xaxis": "x",
         "y": [
          347.3424734447549,
          0
         ],
         "yaxis": "y"
        },
        {
         "hovertemplate": "Depot (ZSG Area)=Lake Cargelligo Depot<br>pole-task_group_name-groundline-t_interval=%{x}<br>value_lost_pop=%{y}<extra></extra>",
         "legendgroup": "Lake Cargelligo Depot",
         "line": {
          "color": "#FF6692",
          "dash": "solid"
         },
         "mode": "lines",
         "name": "Lake Cargelligo Depot",
         "orientation": "v",
         "showlegend": true,
         "type": "scatter",
         "x": [
          20,
          60
         ],
         "xaxis": "x",
         "y": [
          195.00427768438243,
          1.4628406402763616
         ],
         "yaxis": "y"
        },
        {
         "hovertemplate": "Depot (ZSG Area)=Leeton Depot<br>pole-task_group_name-groundline-t_interval=%{x}<br>value_lost_pop=%{y}<extra></extra>",
         "legendgroup": "Leeton Depot",
         "line": {
          "color": "#B6E880",
          "dash": "solid"
         },
         "mode": "lines",
         "name": "Leeton Depot",
         "orientation": "v",
         "showlegend": true,
         "type": "scatter",
         "x": [
          20,
          60
         ],
         "xaxis": "x",
         "y": [
          970.1818662020078,
          460.20966543094335
         ],
         "yaxis": "y"
        },
        {
         "hovertemplate": "Depot (ZSG Area)=Lismore Depot<br>pole-task_group_name-groundline-t_interval=%{x}<br>value_lost_pop=%{y}<extra></extra>",
         "legendgroup": "Lismore Depot",
         "line": {
          "color": "#FF97FF",
          "dash": "solid"
         },
         "mode": "lines",
         "name": "Lismore Depot",
         "orientation": "v",
         "showlegend": true,
         "type": "scatter",
         "x": [
          20,
          60
         ],
         "xaxis": "x",
         "y": [
          773.6118607405974,
          101.08448574418202
         ],
         "yaxis": "y"
        },
        {
         "hovertemplate": "Depot (ZSG Area)=Lockhart Depot<br>pole-task_group_name-groundline-t_interval=%{x}<br>value_lost_pop=%{y}<extra></extra>",
         "legendgroup": "Lockhart Depot",
         "line": {
          "color": "#FECB52",
          "dash": "solid"
         },
         "mode": "lines",
         "name": "Lockhart Depot",
         "orientation": "v",
         "showlegend": true,
         "type": "scatter",
         "x": [
          20,
          60
         ],
         "xaxis": "x",
         "y": [
          257.88248182093423,
          0
         ],
         "yaxis": "y"
        },
        {
         "hovertemplate": "Depot (ZSG Area)=Maclean Depot<br>pole-task_group_name-groundline-t_interval=%{x}<br>value_lost_pop=%{y}<extra></extra>",
         "legendgroup": "Maclean Depot",
         "line": {
          "color": "#636efa",
          "dash": "solid"
         },
         "mode": "lines",
         "name": "Maclean Depot",
         "orientation": "v",
         "showlegend": true,
         "type": "scatter",
         "x": [
          20,
          60
         ],
         "xaxis": "x",
         "y": [
          320.8674401241015,
          45.34805984856721
         ],
         "yaxis": "y"
        },
        {
         "hovertemplate": "Depot (ZSG Area)=Molong Depot<br>pole-task_group_name-groundline-t_interval=%{x}<br>value_lost_pop=%{y}<extra></extra>",
         "legendgroup": "Molong Depot",
         "line": {
          "color": "#EF553B",
          "dash": "solid"
         },
         "mode": "lines",
         "name": "Molong Depot",
         "orientation": "v",
         "showlegend": true,
         "type": "scatter",
         "x": [
          20,
          60
         ],
         "xaxis": "x",
         "y": [
          344.9938817792131,
          28.086540293306143
         ],
         "yaxis": "y"
        },
        {
         "hovertemplate": "Depot (ZSG Area)=Moree Depot<br>pole-task_group_name-groundline-t_interval=%{x}<br>value_lost_pop=%{y}<extra></extra>",
         "legendgroup": "Moree Depot",
         "line": {
          "color": "#00cc96",
          "dash": "solid"
         },
         "mode": "lines",
         "name": "Moree Depot",
         "orientation": "v",
         "showlegend": true,
         "type": "scatter",
         "x": [
          20,
          60
         ],
         "xaxis": "x",
         "y": [
          879.2273162455696,
          375.72824786774754
         ],
         "yaxis": "y"
        },
        {
         "hovertemplate": "Depot (ZSG Area)=Moruya Depot<br>pole-task_group_name-groundline-t_interval=%{x}<br>value_lost_pop=%{y}<extra></extra>",
         "legendgroup": "Moruya Depot",
         "line": {
          "color": "#ab63fa",
          "dash": "solid"
         },
         "mode": "lines",
         "name": "Moruya Depot",
         "orientation": "v",
         "showlegend": true,
         "type": "scatter",
         "x": [
          20,
          60
         ],
         "xaxis": "x",
         "y": [
          659.6695802396134,
          156.8872880824038
         ],
         "yaxis": "y"
        },
        {
         "hovertemplate": "Depot (ZSG Area)=Mudgee Depot<br>pole-task_group_name-groundline-t_interval=%{x}<br>value_lost_pop=%{y}<extra></extra>",
         "legendgroup": "Mudgee Depot",
         "line": {
          "color": "#FFA15A",
          "dash": "solid"
         },
         "mode": "lines",
         "name": "Mudgee Depot",
         "orientation": "v",
         "showlegend": true,
         "type": "scatter",
         "x": [
          20,
          60
         ],
         "xaxis": "x",
         "y": [
          612.946839984213,
          181.08070656832587
         ],
         "yaxis": "y"
        },
        {
         "hovertemplate": "Depot (ZSG Area)=Murwillumbah Depot<br>pole-task_group_name-groundline-t_interval=%{x}<br>value_lost_pop=%{y}<extra></extra>",
         "legendgroup": "Murwillumbah Depot",
         "line": {
          "color": "#19d3f3",
          "dash": "solid"
         },
         "mode": "lines",
         "name": "Murwillumbah Depot",
         "orientation": "v",
         "showlegend": true,
         "type": "scatter",
         "x": [
          20,
          60
         ],
         "xaxis": "x",
         "y": [
          553.8050316792051,
          0.4341110176109808
         ],
         "yaxis": "y"
        },
        {
         "hovertemplate": "Depot (ZSG Area)=Nambucca Heads Depot<br>pole-task_group_name-groundline-t_interval=%{x}<br>value_lost_pop=%{y}<extra></extra>",
         "legendgroup": "Nambucca Heads Depot",
         "line": {
          "color": "#FF6692",
          "dash": "solid"
         },
         "mode": "lines",
         "name": "Nambucca Heads Depot",
         "orientation": "v",
         "showlegend": true,
         "type": "scatter",
         "x": [
          20,
          60
         ],
         "xaxis": "x",
         "y": [
          459.00733172460747,
          7.021635073326536
         ],
         "yaxis": "y"
        },
        {
         "hovertemplate": "Depot (ZSG Area)=Narrabri Depot<br>pole-task_group_name-groundline-t_interval=%{x}<br>value_lost_pop=%{y}<extra></extra>",
         "legendgroup": "Narrabri Depot",
         "line": {
          "color": "#B6E880",
          "dash": "solid"
         },
         "mode": "lines",
         "name": "Narrabri Depot",
         "orientation": "v",
         "showlegend": true,
         "type": "scatter",
         "x": [
          20,
          60
         ],
         "xaxis": "x",
         "y": [
          755.2145593605197,
          158.0575605946249
         ],
         "yaxis": "y"
        },
        {
         "hovertemplate": "Depot (ZSG Area)=Narromine Depot<br>pole-task_group_name-groundline-t_interval=%{x}<br>value_lost_pop=%{y}<extra></extra>",
         "legendgroup": "Narromine Depot",
         "line": {
          "color": "#FF97FF",
          "dash": "solid"
         },
         "mode": "lines",
         "name": "Narromine Depot",
         "orientation": "v",
         "showlegend": true,
         "type": "scatter",
         "x": [
          20,
          60
         ],
         "xaxis": "x",
         "y": [
          499.3248219830756,
          133.2600411547046
         ],
         "yaxis": "y"
        },
        {
         "hovertemplate": "Depot (ZSG Area)=Nyngan Depot<br>pole-task_group_name-groundline-t_interval=%{x}<br>value_lost_pop=%{y}<extra></extra>",
         "legendgroup": "Nyngan Depot",
         "line": {
          "color": "#FECB52",
          "dash": "solid"
         },
         "mode": "lines",
         "name": "Nyngan Depot",
         "orientation": "v",
         "showlegend": true,
         "type": "scatter",
         "x": [
          20,
          60
         ],
         "xaxis": "x",
         "y": [
          344.1042637240836,
          640.9365147753799
         ],
         "yaxis": "y"
        },
        {
         "hovertemplate": "Depot (ZSG Area)=Oberon Depot<br>pole-task_group_name-groundline-t_interval=%{x}<br>value_lost_pop=%{y}<extra></extra>",
         "legendgroup": "Oberon Depot",
         "line": {
          "color": "#636efa",
          "dash": "solid"
         },
         "mode": "lines",
         "name": "Oberon Depot",
         "orientation": "v",
         "showlegend": true,
         "type": "scatter",
         "x": [
          20,
          60
         ],
         "xaxis": "x",
         "y": [
          303.0039095771015,
          258.1866318343059
         ],
         "yaxis": "y"
        },
        {
         "hovertemplate": "Depot (ZSG Area)=Orange Depot<br>pole-task_group_name-groundline-t_interval=%{x}<br>value_lost_pop=%{y}<extra></extra>",
         "legendgroup": "Orange Depot",
         "line": {
          "color": "#EF553B",
          "dash": "solid"
         },
         "mode": "lines",
         "name": "Orange Depot",
         "orientation": "v",
         "showlegend": true,
         "type": "scatter",
         "x": [
          20,
          60
         ],
         "xaxis": "x",
         "y": [
          624.3695358120756,
          47.42194011839919
         ],
         "yaxis": "y"
        },
        {
         "hovertemplate": "Depot (ZSG Area)=Parkes Depot<br>pole-task_group_name-groundline-t_interval=%{x}<br>value_lost_pop=%{y}<extra></extra>",
         "legendgroup": "Parkes Depot",
         "line": {
          "color": "#00cc96",
          "dash": "solid"
         },
         "mode": "lines",
         "name": "Parkes Depot",
         "orientation": "v",
         "showlegend": true,
         "type": "scatter",
         "x": [
          20,
          60
         ],
         "xaxis": "x",
         "y": [
          619.6723524809919,
          251.64397584992312
         ],
         "yaxis": "y"
        },
        {
         "hovertemplate": "Depot (ZSG Area)=Port Macquarie Depot<br>pole-task_group_name-groundline-t_interval=%{x}<br>value_lost_pop=%{y}<extra></extra>",
         "legendgroup": "Port Macquarie Depot",
         "line": {
          "color": "#ab63fa",
          "dash": "solid"
         },
         "mode": "lines",
         "name": "Port Macquarie Depot",
         "orientation": "v",
         "showlegend": true,
         "type": "scatter",
         "x": [
          20,
          60
         ],
         "xaxis": "x",
         "y": [
          983.3126286957189,
          85.59733965514029
         ],
         "yaxis": "y"
        },
        {
         "hovertemplate": "Depot (ZSG Area)=Queanbeyan Depot<br>pole-task_group_name-groundline-t_interval=%{x}<br>value_lost_pop=%{y}<extra></extra>",
         "legendgroup": "Queanbeyan Depot",
         "line": {
          "color": "#FFA15A",
          "dash": "solid"
         },
         "mode": "lines",
         "name": "Queanbeyan Depot",
         "orientation": "v",
         "showlegend": true,
         "type": "scatter",
         "x": [
          20,
          60
         ],
         "xaxis": "x",
         "y": [
          674.472824676968,
          173.03034187233396
         ],
         "yaxis": "y"
        },
        {
         "hovertemplate": "Depot (ZSG Area)=Quirindi Depot<br>pole-task_group_name-groundline-t_interval=%{x}<br>value_lost_pop=%{y}<extra></extra>",
         "legendgroup": "Quirindi Depot",
         "line": {
          "color": "#19d3f3",
          "dash": "solid"
         },
         "mode": "lines",
         "name": "Quirindi Depot",
         "orientation": "v",
         "showlegend": true,
         "type": "scatter",
         "x": [
          20,
          60
         ],
         "xaxis": "x",
         "y": [
          542.3111664069322,
          305.44112568970434
         ],
         "yaxis": "y"
        },
        {
         "hovertemplate": "Depot (ZSG Area)=Stroud Depot<br>pole-task_group_name-groundline-t_interval=%{x}<br>value_lost_pop=%{y}<extra></extra>",
         "legendgroup": "Stroud Depot",
         "line": {
          "color": "#FF6692",
          "dash": "solid"
         },
         "mode": "lines",
         "name": "Stroud Depot",
         "orientation": "v",
         "showlegend": true,
         "type": "scatter",
         "x": [
          20,
          60
         ],
         "xaxis": "x",
         "y": [
          144.5807263196434,
          0
         ],
         "yaxis": "y"
        },
        {
         "hovertemplate": "Depot (ZSG Area)=Tamworth Depot<br>pole-task_group_name-groundline-t_interval=%{x}<br>value_lost_pop=%{y}<extra></extra>",
         "legendgroup": "Tamworth Depot",
         "line": {
          "color": "#B6E880",
          "dash": "solid"
         },
         "mode": "lines",
         "name": "Tamworth Depot",
         "orientation": "v",
         "showlegend": true,
         "type": "scatter",
         "x": [
          20,
          60
         ],
         "xaxis": "x",
         "y": [
          1128.1068633485934,
          256.971491250752
         ],
         "yaxis": "y"
        },
        {
         "hovertemplate": "Depot (ZSG Area)=Taree Depot<br>pole-task_group_name-groundline-t_interval=%{x}<br>value_lost_pop=%{y}<extra></extra>",
         "legendgroup": "Taree Depot",
         "line": {
          "color": "#FF97FF",
          "dash": "solid"
         },
         "mode": "lines",
         "name": "Taree Depot",
         "orientation": "v",
         "showlegend": true,
         "type": "scatter",
         "x": [
          20,
          60
         ],
         "xaxis": "x",
         "y": [
          1380.3313743389042,
          75.31258710187298
         ],
         "yaxis": "y"
        },
        {
         "hovertemplate": "Depot (ZSG Area)=Temora Depot<br>pole-task_group_name-groundline-t_interval=%{x}<br>value_lost_pop=%{y}<extra></extra>",
         "legendgroup": "Temora Depot",
         "line": {
          "color": "#FECB52",
          "dash": "solid"
         },
         "mode": "lines",
         "name": "Temora Depot",
         "orientation": "v",
         "showlegend": true,
         "type": "scatter",
         "x": [
          20,
          60
         ],
         "xaxis": "x",
         "y": [
          398.8691511978545,
          444.4463722383476
         ],
         "yaxis": "y"
        },
        {
         "hovertemplate": "Depot (ZSG Area)=Tenterfield Depot<br>pole-task_group_name-groundline-t_interval=%{x}<br>value_lost_pop=%{y}<extra></extra>",
         "legendgroup": "Tenterfield Depot",
         "line": {
          "color": "#636efa",
          "dash": "solid"
         },
         "mode": "lines",
         "name": "Tenterfield Depot",
         "orientation": "v",
         "showlegend": true,
         "type": "scatter",
         "x": [
          20,
          60
         ],
         "xaxis": "x",
         "y": [
          272.11637070300594,
          0
         ],
         "yaxis": "y"
        },
        {
         "hovertemplate": "Depot (ZSG Area)=Texas Depot<br>pole-task_group_name-groundline-t_interval=%{x}<br>value_lost_pop=%{y}<extra></extra>",
         "legendgroup": "Texas Depot",
         "line": {
          "color": "#EF553B",
          "dash": "solid"
         },
         "mode": "lines",
         "name": "Texas Depot",
         "orientation": "v",
         "showlegend": true,
         "type": "scatter",
         "x": [
          20,
          60
         ],
         "xaxis": "x",
         "y": [
          408.90404285971505,
          0
         ],
         "yaxis": "y"
        },
        {
         "hovertemplate": "Depot (ZSG Area)=Tooleybuc Depot<br>pole-task_group_name-groundline-t_interval=%{x}<br>value_lost_pop=%{y}<extra></extra>",
         "legendgroup": "Tooleybuc Depot",
         "line": {
          "color": "#00cc96",
          "dash": "solid"
         },
         "mode": "lines",
         "name": "Tooleybuc Depot",
         "orientation": "v",
         "showlegend": true,
         "type": "scatter",
         "x": [
          20,
          60
         ],
         "xaxis": "x",
         "y": [
          252.7226971011832,
          263.4174724169119
         ],
         "yaxis": "y"
        },
        {
         "hovertemplate": "Depot (ZSG Area)=Tottenham Depot<br>pole-task_group_name-groundline-t_interval=%{x}<br>value_lost_pop=%{y}<extra></extra>",
         "legendgroup": "Tottenham Depot",
         "line": {
          "color": "#ab63fa",
          "dash": "solid"
         },
         "mode": "lines",
         "name": "Tottenham Depot",
         "orientation": "v",
         "showlegend": true,
         "type": "scatter",
         "x": [
          20,
          60
         ],
         "xaxis": "x",
         "y": [
          106.07805689363943,
          0
         ],
         "yaxis": "y"
        },
        {
         "hovertemplate": "Depot (ZSG Area)=Tracked Asset<br>pole-task_group_name-groundline-t_interval=%{x}<br>value_lost_pop=%{y}<extra></extra>",
         "legendgroup": "Tracked Asset",
         "line": {
          "color": "#FFA15A",
          "dash": "solid"
         },
         "mode": "lines",
         "name": "Tracked Asset",
         "orientation": "v",
         "showlegend": true,
         "type": "scatter",
         "x": [
          20,
          60
         ],
         "xaxis": "x",
         "y": [
          0.035584722205179276,
          0
         ],
         "yaxis": "y"
        },
        {
         "hovertemplate": "Depot (ZSG Area)=Tumbarumba Depot<br>pole-task_group_name-groundline-t_interval=%{x}<br>value_lost_pop=%{y}<extra></extra>",
         "legendgroup": "Tumbarumba Depot",
         "line": {
          "color": "#19d3f3",
          "dash": "solid"
         },
         "mode": "lines",
         "name": "Tumbarumba Depot",
         "orientation": "v",
         "showlegend": true,
         "type": "scatter",
         "x": [
          20,
          60
         ],
         "xaxis": "x",
         "y": [
          211.23091100994418,
          98.3028910265715
         ],
         "yaxis": "y"
        },
        {
         "hovertemplate": "Depot (ZSG Area)=Tumut Depot<br>pole-task_group_name-groundline-t_interval=%{x}<br>value_lost_pop=%{y}<extra></extra>",
         "legendgroup": "Tumut Depot",
         "line": {
          "color": "#FF6692",
          "dash": "solid"
         },
         "mode": "lines",
         "name": "Tumut Depot",
         "orientation": "v",
         "showlegend": true,
         "type": "scatter",
         "x": [
          20,
          60
         ],
         "xaxis": "x",
         "y": [
          618.7827344258624,
          177.88142185760557
         ],
         "yaxis": "y"
        },
        {
         "hovertemplate": "Depot (ZSG Area)=Tweed Heads Depot<br>pole-task_group_name-groundline-t_interval=%{x}<br>value_lost_pop=%{y}<extra></extra>",
         "legendgroup": "Tweed Heads Depot",
         "line": {
          "color": "#B6E880",
          "dash": "solid"
         },
         "mode": "lines",
         "name": "Tweed Heads Depot",
         "orientation": "v",
         "showlegend": true,
         "type": "scatter",
         "x": [
          20,
          60
         ],
         "xaxis": "x",
         "y": [
          464.4517942219999,
          32.52686896102537
         ],
         "yaxis": "y"
        },
        {
         "hovertemplate": "Depot (ZSG Area)=Wagga Wagga Depot<br>pole-task_group_name-groundline-t_interval=%{x}<br>value_lost_pop=%{y}<extra></extra>",
         "legendgroup": "Wagga Wagga Depot",
         "line": {
          "color": "#FF97FF",
          "dash": "solid"
         },
         "mode": "lines",
         "name": "Wagga Wagga Depot",
         "orientation": "v",
         "showlegend": true,
         "type": "scatter",
         "x": [
          20,
          60
         ],
         "xaxis": "x",
         "y": [
          1015.1609550693544,
          133.53803958704304
         ],
         "yaxis": "y"
        },
        {
         "hovertemplate": "Depot (ZSG Area)=Walcha Depot<br>pole-task_group_name-groundline-t_interval=%{x}<br>value_lost_pop=%{y}<extra></extra>",
         "legendgroup": "Walcha Depot",
         "line": {
          "color": "#FECB52",
          "dash": "solid"
         },
         "mode": "lines",
         "name": "Walcha Depot",
         "orientation": "v",
         "showlegend": true,
         "type": "scatter",
         "x": [
          20,
          60
         ],
         "xaxis": "x",
         "y": [
          339.9764359482828,
          0
         ],
         "yaxis": "y"
        },
        {
         "hovertemplate": "Depot (ZSG Area)=Walgett Depot<br>pole-task_group_name-groundline-t_interval=%{x}<br>value_lost_pop=%{y}<extra></extra>",
         "legendgroup": "Walgett Depot",
         "line": {
          "color": "#636efa",
          "dash": "solid"
         },
         "mode": "lines",
         "name": "Walgett Depot",
         "orientation": "v",
         "showlegend": true,
         "type": "scatter",
         "x": [
          20,
          60
         ],
         "xaxis": "x",
         "y": [
          607.7514705422568,
          393.211564106286
         ],
         "yaxis": "y"
        },
        {
         "hovertemplate": "Depot (ZSG Area)=Warialda Depot<br>pole-task_group_name-groundline-t_interval=%{x}<br>value_lost_pop=%{y}<extra></extra>",
         "legendgroup": "Warialda Depot",
         "line": {
          "color": "#EF553B",
          "dash": "solid"
         },
         "mode": "lines",
         "name": "Warialda Depot",
         "orientation": "v",
         "showlegend": true,
         "type": "scatter",
         "x": [
          20,
          60
         ],
         "xaxis": "x",
         "y": [
          444.0617483984322,
          66.41296506854681
         ],
         "yaxis": "y"
        },
        {
         "hovertemplate": "Depot (ZSG Area)=Warren Depot<br>pole-task_group_name-groundline-t_interval=%{x}<br>value_lost_pop=%{y}<extra></extra>",
         "legendgroup": "Warren Depot",
         "line": {
          "color": "#00cc96",
          "dash": "solid"
         },
         "mode": "lines",
         "name": "Warren Depot",
         "orientation": "v",
         "showlegend": true,
         "type": "scatter",
         "x": [
          20,
          60
         ],
         "xaxis": "x",
         "y": [
          305.56600957587443,
          0.5851362561105447
         ],
         "yaxis": "y"
        },
        {
         "hovertemplate": "Depot (ZSG Area)=Wellington Depot<br>pole-task_group_name-groundline-t_interval=%{x}<br>value_lost_pop=%{y}<extra></extra>",
         "legendgroup": "Wellington Depot",
         "line": {
          "color": "#ab63fa",
          "dash": "solid"
         },
         "mode": "lines",
         "name": "Wellington Depot",
         "orientation": "v",
         "showlegend": true,
         "type": "scatter",
         "x": [
          20,
          60
         ],
         "xaxis": "x",
         "y": [
          458.8649928357868,
          87.51325601091534
         ],
         "yaxis": "y"
        },
        {
         "hovertemplate": "Depot (ZSG Area)=West Wyalong Depot<br>pole-task_group_name-groundline-t_interval=%{x}<br>value_lost_pop=%{y}<extra></extra>",
         "legendgroup": "West Wyalong Depot",
         "line": {
          "color": "#FFA15A",
          "dash": "solid"
         },
         "mode": "lines",
         "name": "West Wyalong Depot",
         "orientation": "v",
         "showlegend": true,
         "type": "scatter",
         "x": [
          20,
          60
         ],
         "xaxis": "x",
         "y": [
          481.06985949181865,
          67.5832375807679
         ],
         "yaxis": "y"
        },
        {
         "hovertemplate": "Depot (ZSG Area)=Wilcannia Depot<br>pole-task_group_name-groundline-t_interval=%{x}<br>value_lost_pop=%{y}<extra></extra>",
         "legendgroup": "Wilcannia Depot",
         "line": {
          "color": "#19d3f3",
          "dash": "solid"
         },
         "mode": "lines",
         "name": "Wilcannia Depot",
         "orientation": "v",
         "showlegend": true,
         "type": "scatter",
         "x": [
          20,
          60
         ],
         "xaxis": "x",
         "y": [
          148.49504576221312,
          0
         ],
         "yaxis": "y"
        },
        {
         "hovertemplate": "Depot (ZSG Area)=Yass Depot<br>pole-task_group_name-groundline-t_interval=%{x}<br>value_lost_pop=%{y}<extra></extra>",
         "legendgroup": "Yass Depot",
         "line": {
          "color": "#FF6692",
          "dash": "solid"
         },
         "mode": "lines",
         "name": "Yass Depot",
         "orientation": "v",
         "showlegend": true,
         "type": "scatter",
         "x": [
          20,
          60
         ],
         "xaxis": "x",
         "y": [
          595.4035719370596,
          118.9595886023852
         ],
         "yaxis": "y"
        },
        {
         "hovertemplate": "Depot (ZSG Area)=Young Depot<br>pole-task_group_name-groundline-t_interval=%{x}<br>value_lost_pop=%{y}<extra></extra>",
         "legendgroup": "Young Depot",
         "line": {
          "color": "#B6E880",
          "dash": "solid"
         },
         "mode": "lines",
         "name": "Young Depot",
         "orientation": "v",
         "showlegend": true,
         "type": "scatter",
         "x": [
          20,
          60
         ],
         "xaxis": "x",
         "y": [
          569.7114025049202,
          87.98275275091527
         ],
         "yaxis": "y"
        },
        {
         "hovertemplate": "Depot (ZSG Area)=ZZ Temora<br>pole-task_group_name-groundline-t_interval=%{x}<br>value_lost_pop=%{y}<extra></extra>",
         "legendgroup": "ZZ Temora",
         "line": {
          "color": "#FF97FF",
          "dash": "solid"
         },
         "mode": "lines",
         "name": "ZZ Temora",
         "orientation": "v",
         "showlegend": true,
         "type": "scatter",
         "x": [
          20,
          60
         ],
         "xaxis": "x",
         "y": [
          0.035584722205179276,
          0
         ],
         "yaxis": "y"
        },
        {
         "hovertemplate": "Depot (ZSG Area)=ZZ Warren<br>pole-task_group_name-groundline-t_interval=%{x}<br>value_lost_pop=%{y}<extra></extra>",
         "legendgroup": "ZZ Warren",
         "line": {
          "color": "#FECB52",
          "dash": "solid"
         },
         "mode": "lines",
         "name": "ZZ Warren",
         "orientation": "v",
         "showlegend": true,
         "type": "scatter",
         "x": [
          20,
          60
         ],
         "xaxis": "x",
         "y": [
          0.07116944441035855,
          0
         ],
         "yaxis": "y"
        },
        {
         "hovertemplate": "Depot (ZSG Area)=[ Deleted Assets ]<br>pole-task_group_name-groundline-t_interval=%{x}<br>value_lost_pop=%{y}<extra></extra>",
         "legendgroup": "[ Deleted Assets ]",
         "line": {
          "color": "#636efa",
          "dash": "solid"
         },
         "mode": "lines",
         "name": "[ Deleted Assets ]",
         "orientation": "v",
         "showlegend": true,
         "type": "scatter",
         "x": [
          20,
          60
         ],
         "xaxis": "x",
         "y": [
          20.532384712388442,
          1.1702725122210893
         ],
         "yaxis": "y"
        }
       ],
       "layout": {
        "legend": {
         "title": {
          "text": "Depot (ZSG Area)"
         },
         "tracegroupgap": 0
        },
        "template": {
         "data": {
          "bar": [
           {
            "error_x": {
             "color": "#2a3f5f"
            },
            "error_y": {
             "color": "#2a3f5f"
            },
            "marker": {
             "line": {
              "color": "#E5ECF6",
              "width": 0.5
             }
            },
            "type": "bar"
           }
          ],
          "barpolar": [
           {
            "marker": {
             "line": {
              "color": "#E5ECF6",
              "width": 0.5
             }
            },
            "type": "barpolar"
           }
          ],
          "carpet": [
           {
            "aaxis": {
             "endlinecolor": "#2a3f5f",
             "gridcolor": "white",
             "linecolor": "white",
             "minorgridcolor": "white",
             "startlinecolor": "#2a3f5f"
            },
            "baxis": {
             "endlinecolor": "#2a3f5f",
             "gridcolor": "white",
             "linecolor": "white",
             "minorgridcolor": "white",
             "startlinecolor": "#2a3f5f"
            },
            "type": "carpet"
           }
          ],
          "choropleth": [
           {
            "colorbar": {
             "outlinewidth": 0,
             "ticks": ""
            },
            "type": "choropleth"
           }
          ],
          "contour": [
           {
            "colorbar": {
             "outlinewidth": 0,
             "ticks": ""
            },
            "colorscale": [
             [
              0,
              "#0d0887"
             ],
             [
              0.1111111111111111,
              "#46039f"
             ],
             [
              0.2222222222222222,
              "#7201a8"
             ],
             [
              0.3333333333333333,
              "#9c179e"
             ],
             [
              0.4444444444444444,
              "#bd3786"
             ],
             [
              0.5555555555555556,
              "#d8576b"
             ],
             [
              0.6666666666666666,
              "#ed7953"
             ],
             [
              0.7777777777777778,
              "#fb9f3a"
             ],
             [
              0.8888888888888888,
              "#fdca26"
             ],
             [
              1,
              "#f0f921"
             ]
            ],
            "type": "contour"
           }
          ],
          "contourcarpet": [
           {
            "colorbar": {
             "outlinewidth": 0,
             "ticks": ""
            },
            "type": "contourcarpet"
           }
          ],
          "heatmap": [
           {
            "colorbar": {
             "outlinewidth": 0,
             "ticks": ""
            },
            "colorscale": [
             [
              0,
              "#0d0887"
             ],
             [
              0.1111111111111111,
              "#46039f"
             ],
             [
              0.2222222222222222,
              "#7201a8"
             ],
             [
              0.3333333333333333,
              "#9c179e"
             ],
             [
              0.4444444444444444,
              "#bd3786"
             ],
             [
              0.5555555555555556,
              "#d8576b"
             ],
             [
              0.6666666666666666,
              "#ed7953"
             ],
             [
              0.7777777777777778,
              "#fb9f3a"
             ],
             [
              0.8888888888888888,
              "#fdca26"
             ],
             [
              1,
              "#f0f921"
             ]
            ],
            "type": "heatmap"
           }
          ],
          "heatmapgl": [
           {
            "colorbar": {
             "outlinewidth": 0,
             "ticks": ""
            },
            "colorscale": [
             [
              0,
              "#0d0887"
             ],
             [
              0.1111111111111111,
              "#46039f"
             ],
             [
              0.2222222222222222,
              "#7201a8"
             ],
             [
              0.3333333333333333,
              "#9c179e"
             ],
             [
              0.4444444444444444,
              "#bd3786"
             ],
             [
              0.5555555555555556,
              "#d8576b"
             ],
             [
              0.6666666666666666,
              "#ed7953"
             ],
             [
              0.7777777777777778,
              "#fb9f3a"
             ],
             [
              0.8888888888888888,
              "#fdca26"
             ],
             [
              1,
              "#f0f921"
             ]
            ],
            "type": "heatmapgl"
           }
          ],
          "histogram": [
           {
            "marker": {
             "colorbar": {
              "outlinewidth": 0,
              "ticks": ""
             }
            },
            "type": "histogram"
           }
          ],
          "histogram2d": [
           {
            "colorbar": {
             "outlinewidth": 0,
             "ticks": ""
            },
            "colorscale": [
             [
              0,
              "#0d0887"
             ],
             [
              0.1111111111111111,
              "#46039f"
             ],
             [
              0.2222222222222222,
              "#7201a8"
             ],
             [
              0.3333333333333333,
              "#9c179e"
             ],
             [
              0.4444444444444444,
              "#bd3786"
             ],
             [
              0.5555555555555556,
              "#d8576b"
             ],
             [
              0.6666666666666666,
              "#ed7953"
             ],
             [
              0.7777777777777778,
              "#fb9f3a"
             ],
             [
              0.8888888888888888,
              "#fdca26"
             ],
             [
              1,
              "#f0f921"
             ]
            ],
            "type": "histogram2d"
           }
          ],
          "histogram2dcontour": [
           {
            "colorbar": {
             "outlinewidth": 0,
             "ticks": ""
            },
            "colorscale": [
             [
              0,
              "#0d0887"
             ],
             [
              0.1111111111111111,
              "#46039f"
             ],
             [
              0.2222222222222222,
              "#7201a8"
             ],
             [
              0.3333333333333333,
              "#9c179e"
             ],
             [
              0.4444444444444444,
              "#bd3786"
             ],
             [
              0.5555555555555556,
              "#d8576b"
             ],
             [
              0.6666666666666666,
              "#ed7953"
             ],
             [
              0.7777777777777778,
              "#fb9f3a"
             ],
             [
              0.8888888888888888,
              "#fdca26"
             ],
             [
              1,
              "#f0f921"
             ]
            ],
            "type": "histogram2dcontour"
           }
          ],
          "mesh3d": [
           {
            "colorbar": {
             "outlinewidth": 0,
             "ticks": ""
            },
            "type": "mesh3d"
           }
          ],
          "parcoords": [
           {
            "line": {
             "colorbar": {
              "outlinewidth": 0,
              "ticks": ""
             }
            },
            "type": "parcoords"
           }
          ],
          "pie": [
           {
            "automargin": true,
            "type": "pie"
           }
          ],
          "scatter": [
           {
            "marker": {
             "colorbar": {
              "outlinewidth": 0,
              "ticks": ""
             }
            },
            "type": "scatter"
           }
          ],
          "scatter3d": [
           {
            "line": {
             "colorbar": {
              "outlinewidth": 0,
              "ticks": ""
             }
            },
            "marker": {
             "colorbar": {
              "outlinewidth": 0,
              "ticks": ""
             }
            },
            "type": "scatter3d"
           }
          ],
          "scattercarpet": [
           {
            "marker": {
             "colorbar": {
              "outlinewidth": 0,
              "ticks": ""
             }
            },
            "type": "scattercarpet"
           }
          ],
          "scattergeo": [
           {
            "marker": {
             "colorbar": {
              "outlinewidth": 0,
              "ticks": ""
             }
            },
            "type": "scattergeo"
           }
          ],
          "scattergl": [
           {
            "marker": {
             "colorbar": {
              "outlinewidth": 0,
              "ticks": ""
             }
            },
            "type": "scattergl"
           }
          ],
          "scattermapbox": [
           {
            "marker": {
             "colorbar": {
              "outlinewidth": 0,
              "ticks": ""
             }
            },
            "type": "scattermapbox"
           }
          ],
          "scatterpolar": [
           {
            "marker": {
             "colorbar": {
              "outlinewidth": 0,
              "ticks": ""
             }
            },
            "type": "scatterpolar"
           }
          ],
          "scatterpolargl": [
           {
            "marker": {
             "colorbar": {
              "outlinewidth": 0,
              "ticks": ""
             }
            },
            "type": "scatterpolargl"
           }
          ],
          "scatterternary": [
           {
            "marker": {
             "colorbar": {
              "outlinewidth": 0,
              "ticks": ""
             }
            },
            "type": "scatterternary"
           }
          ],
          "surface": [
           {
            "colorbar": {
             "outlinewidth": 0,
             "ticks": ""
            },
            "colorscale": [
             [
              0,
              "#0d0887"
             ],
             [
              0.1111111111111111,
              "#46039f"
             ],
             [
              0.2222222222222222,
              "#7201a8"
             ],
             [
              0.3333333333333333,
              "#9c179e"
             ],
             [
              0.4444444444444444,
              "#bd3786"
             ],
             [
              0.5555555555555556,
              "#d8576b"
             ],
             [
              0.6666666666666666,
              "#ed7953"
             ],
             [
              0.7777777777777778,
              "#fb9f3a"
             ],
             [
              0.8888888888888888,
              "#fdca26"
             ],
             [
              1,
              "#f0f921"
             ]
            ],
            "type": "surface"
           }
          ],
          "table": [
           {
            "cells": {
             "fill": {
              "color": "#EBF0F8"
             },
             "line": {
              "color": "white"
             }
            },
            "header": {
             "fill": {
              "color": "#C8D4E3"
             },
             "line": {
              "color": "white"
             }
            },
            "type": "table"
           }
          ]
         },
         "layout": {
          "annotationdefaults": {
           "arrowcolor": "#2a3f5f",
           "arrowhead": 0,
           "arrowwidth": 1
          },
          "coloraxis": {
           "colorbar": {
            "outlinewidth": 0,
            "ticks": ""
           }
          },
          "colorscale": {
           "diverging": [
            [
             0,
             "#8e0152"
            ],
            [
             0.1,
             "#c51b7d"
            ],
            [
             0.2,
             "#de77ae"
            ],
            [
             0.3,
             "#f1b6da"
            ],
            [
             0.4,
             "#fde0ef"
            ],
            [
             0.5,
             "#f7f7f7"
            ],
            [
             0.6,
             "#e6f5d0"
            ],
            [
             0.7,
             "#b8e186"
            ],
            [
             0.8,
             "#7fbc41"
            ],
            [
             0.9,
             "#4d9221"
            ],
            [
             1,
             "#276419"
            ]
           ],
           "sequential": [
            [
             0,
             "#0d0887"
            ],
            [
             0.1111111111111111,
             "#46039f"
            ],
            [
             0.2222222222222222,
             "#7201a8"
            ],
            [
             0.3333333333333333,
             "#9c179e"
            ],
            [
             0.4444444444444444,
             "#bd3786"
            ],
            [
             0.5555555555555556,
             "#d8576b"
            ],
            [
             0.6666666666666666,
             "#ed7953"
            ],
            [
             0.7777777777777778,
             "#fb9f3a"
            ],
            [
             0.8888888888888888,
             "#fdca26"
            ],
            [
             1,
             "#f0f921"
            ]
           ],
           "sequentialminus": [
            [
             0,
             "#0d0887"
            ],
            [
             0.1111111111111111,
             "#46039f"
            ],
            [
             0.2222222222222222,
             "#7201a8"
            ],
            [
             0.3333333333333333,
             "#9c179e"
            ],
            [
             0.4444444444444444,
             "#bd3786"
            ],
            [
             0.5555555555555556,
             "#d8576b"
            ],
            [
             0.6666666666666666,
             "#ed7953"
            ],
            [
             0.7777777777777778,
             "#fb9f3a"
            ],
            [
             0.8888888888888888,
             "#fdca26"
            ],
            [
             1,
             "#f0f921"
            ]
           ]
          },
          "colorway": [
           "#636efa",
           "#EF553B",
           "#00cc96",
           "#ab63fa",
           "#FFA15A",
           "#19d3f3",
           "#FF6692",
           "#B6E880",
           "#FF97FF",
           "#FECB52"
          ],
          "font": {
           "color": "#2a3f5f"
          },
          "geo": {
           "bgcolor": "white",
           "lakecolor": "white",
           "landcolor": "#E5ECF6",
           "showlakes": true,
           "showland": true,
           "subunitcolor": "white"
          },
          "hoverlabel": {
           "align": "left"
          },
          "hovermode": "closest",
          "mapbox": {
           "style": "light"
          },
          "paper_bgcolor": "white",
          "plot_bgcolor": "#E5ECF6",
          "polar": {
           "angularaxis": {
            "gridcolor": "white",
            "linecolor": "white",
            "ticks": ""
           },
           "bgcolor": "#E5ECF6",
           "radialaxis": {
            "gridcolor": "white",
            "linecolor": "white",
            "ticks": ""
           }
          },
          "scene": {
           "xaxis": {
            "backgroundcolor": "#E5ECF6",
            "gridcolor": "white",
            "gridwidth": 2,
            "linecolor": "white",
            "showbackground": true,
            "ticks": "",
            "zerolinecolor": "white"
           },
           "yaxis": {
            "backgroundcolor": "#E5ECF6",
            "gridcolor": "white",
            "gridwidth": 2,
            "linecolor": "white",
            "showbackground": true,
            "ticks": "",
            "zerolinecolor": "white"
           },
           "zaxis": {
            "backgroundcolor": "#E5ECF6",
            "gridcolor": "white",
            "gridwidth": 2,
            "linecolor": "white",
            "showbackground": true,
            "ticks": "",
            "zerolinecolor": "white"
           }
          },
          "shapedefaults": {
           "line": {
            "color": "#2a3f5f"
           }
          },
          "ternary": {
           "aaxis": {
            "gridcolor": "white",
            "linecolor": "white",
            "ticks": ""
           },
           "baxis": {
            "gridcolor": "white",
            "linecolor": "white",
            "ticks": ""
           },
           "bgcolor": "#E5ECF6",
           "caxis": {
            "gridcolor": "white",
            "linecolor": "white",
            "ticks": ""
           }
          },
          "title": {
           "x": 0.05
          },
          "xaxis": {
           "automargin": true,
           "gridcolor": "white",
           "linecolor": "white",
           "ticks": "",
           "title": {
            "standoff": 15
           },
           "zerolinecolor": "white",
           "zerolinewidth": 2
          },
          "yaxis": {
           "automargin": true,
           "gridcolor": "white",
           "linecolor": "white",
           "ticks": "",
           "title": {
            "standoff": 15
           },
           "zerolinecolor": "white",
           "zerolinewidth": 2
          }
         }
        },
        "title": {
         "text": "Annual Value Lost"
        },
        "xaxis": {
         "anchor": "y",
         "domain": [
          0,
          1
         ],
         "title": {
          "text": "pole-task_group_name-groundline-t_interval"
         }
        },
        "yaxis": {
         "anchor": "x",
         "domain": [
          0,
          1
         ],
         "title": {
          "text": "value_lost_pop"
         }
        }
       }
      }
     },
     "metadata": {}
    }
   ],
   "source": [
    "#Combine the two files together\n",
    "df_result = pd.merge(df_pop, df_total, on=sens_var)\n",
    "\n",
    "# Calculte the value lost across the population\n",
    "df_result['value_lost_pop'] = df_result['value_lost'] * df_result['asset_count']\n",
    "\n",
    "# Caculate the value lost across ignoring sub populations\n",
    "df_all = df_result.groupby(by=x_var).sum()[['value_lost', 'value_lost_pop']].reset_index()\n",
    "df_all[agg_cols] = \"all\"\n",
    "\n",
    "# Calculate the value lost within sub populations\n",
    "by = [x_var] + agg_cols\n",
    "df_agg = df_result.groupby(by=by).sum()[['value_lost', 'value_lost_pop']].reset_index()\n",
    "\n",
    "# Combine them together\n",
    "df_all = df_all.append(df_agg)\n",
    "\n",
    "# Plot the results\n",
    "make_value_lost_fig(df_all, x_axis=x_var, y_axis='value_lost_pop', legend =agg_cols[0], title=f'Annual Value Lost')"
   ]
  },
  {
   "source": [
    "## 1 step version, which seems causes memory errors"
   ],
   "cell_type": "markdown",
   "metadata": {}
  },
  {
   "cell_type": "code",
   "execution_count": null,
   "metadata": {},
   "outputs": [],
   "source": [
    "# df_sens_var = pd.DataFrame(sens_vars[y_var], columns= [y_var])\n",
    "\n",
    "# # Fill with average val\n",
    "# df_cons[pop_var] = df_cons[pop_var].fillna(df_cons[pop_var].mean())\n",
    "\n",
    "# # Match to the closest value from the model\n",
    "# df = pd.merge_asof(\n",
    "#     df_cons.sort_values(pop_var),\n",
    "#     df_sens_var,\n",
    "#     left_on = pop_var,\n",
    "#     right_on = y_var,\n",
    "#     direction = 'forward'\n",
    "# )\n",
    "\n",
    "# df_plot = pd.merge(df, df_total.reset_index(), on=y_var).groupby(by=x_var).sum().reset_index()\n",
    "# #y= ['list(set(df_plot) - set([sens_var, uid_col]))']\n",
    "# y = ['quantity_annual', 'cost_annual', 'value_lost']\n",
    "\n",
    "# px.line(df_plot, x=x_var, y=y)"
   ]
  }
 ],
 "metadata": {
  "kernelspec": {
   "name": ".venv",
   "display_name": ".venv",
   "language": "python"
  },
  "language_info": {
   "codemirror_mode": {
    "name": "ipython",
    "version": 3
   },
   "file_extension": ".py",
   "mimetype": "text/x-python",
   "name": "python",
   "nbconvert_exporter": "python",
   "pygments_lexer": "ipython3",
   "version": "3.9.0-final"
  }
 },
 "nbformat": 4,
 "nbformat_minor": 2
}