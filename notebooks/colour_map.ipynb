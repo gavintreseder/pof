{
 "metadata": {
  "language_info": {
   "codemirror_mode": {
    "name": "ipython",
    "version": 3
   },
   "file_extension": ".py",
   "mimetype": "text/x-python",
   "name": "python",
   "nbconvert_exporter": "python",
   "pygments_lexer": "ipython3",
   "version": "3.9.0-final"
  },
  "orig_nbformat": 2,
  "kernelspec": {
   "name": "python3",
   "display_name": "Python 3",
   "language": "python"
  }
 },
 "nbformat": 4,
 "nbformat_minor": 2,
 "cells": [
  {
   "source": [
    "Notebook for developing the colour map, axis lock & y_max logic"
   ],
   "cell_type": "markdown",
   "metadata": {}
  },
  {
   "cell_type": "code",
   "execution_count": 1,
   "metadata": {},
   "outputs": [],
   "source": [
    "import sys\n",
    "import os\n",
    "sys.path.append(os.path.dirname(os.getcwd()))\n",
    "\n",
    "from typing import List\n",
    "\n",
    "import pandas as pd\n",
    "import numpy as np\n",
    "from pof import Component, FailureMode\n",
    "import dash_bootstrap_components as dbc\n",
    "import dash_core_components as dcc\n",
    "import dash_html_components as html\n",
    "import plotly.express as px\n",
    "import plotly.graph_objects as go\n",
    "from plotly.subplots import make_subplots\n",
    "from pof.data.asset_data import SimpleFleet\n",
    "import copy\n",
    "from pof.loader.asset_model_loader import AssetModelLoader"
   ]
  },
  {
   "cell_type": "code",
   "execution_count": 2,
   "metadata": {},
   "outputs": [],
   "source": [
    "from pof.paths import Paths\n",
    "\n",
    "# Forecast years\n",
    "START_YEAR = 2015\n",
    "END_YEAR = 2024\n",
    "CURRENT_YEAR = 2020\n",
    "\n",
    "paths = Paths()\n",
    "\n",
    "# Population Data\n",
    "file_path = paths.input_path + os.sep\n",
    "FILE_NAME = r\"population_summary.csv\"\n",
    "\n",
    "sfd = SimpleFleet(file_path + FILE_NAME)\n",
    "sfd.load()\n",
    "sfd.calc_age_forecast(START_YEAR, END_YEAR, CURRENT_YEAR);"
   ]
  },
  {
   "cell_type": "code",
   "execution_count": 3,
   "metadata": {
    "tags": []
   },
   "outputs": [
    {
     "output_type": "stream",
     "name": "stderr",
     "text": [
      "WARNING:root:Update Failed. {error}\n",
      "100%|██████████| 100/100 [00:04<00:00, 24.24it/s]\n",
      "WARNING:root:Update Failed. {error}\n",
      "100%|██████████| 100/100 [00:03<00:00, 27.93it/s]\n",
      "WARNING:root:Update Failed. {error}\n",
      "100%|██████████| 100/100 [00:03<00:00, 31.21it/s]\n",
      "WARNING:root:Update Failed. {error}\n",
      "100%|██████████| 100/100 [00:02<00:00, 38.35it/s]\n",
      "WARNING:root:Update Failed. {error}\n",
      "100%|██████████| 100/100 [00:04<00:00, 23.81it/s]\n",
      "WARNING:root:Update Failed. {error}\n",
      "100%|██████████| 100/100 [00:04<00:00, 24.33it/s]\n",
      "WARNING:root:Update Failed. {error}\n",
      "100%|██████████| 100/100 [00:03<00:00, 29.86it/s]\n",
      "WARNING:root:Update Failed. {error}\n",
      "100%|██████████| 100/100 [00:02<00:00, 35.03it/s]\n",
      "WARNING:root:Update Failed. {error}\n",
      "100%|██████████| 100/100 [00:03<00:00, 29.15it/s]\n",
      "WARNING:root:Update Failed. {error}\n",
      "100%|██████████| 100/100 [00:02<00:00, 35.43it/s]\n",
      "WARNING:root:Update Failed. {error}\n",
      "100%|██████████| 100/100 [00:02<00:00, 34.07it/s]\n"
     ]
    }
   ],
   "source": [
    "comp = Component.demo()\n",
    "df = comp.expected_sensitivity(\n",
    "        var_id=\"pole-fm-termites-dists-untreated-alpha\", lower=0, upper=10, step_size=1, n_iterations=100, t_end=100\n",
    "    );"
   ]
  },
  {
   "cell_type": "code",
   "execution_count": 4,
   "metadata": {},
   "outputs": [],
   "source": [
    "def df_order(df, column):\n",
    "    \"\"\"\n",
    "    sorts the dataframes for the graphs with total, risk and direct first\n",
    "    \"\"\"\n",
    "    if column is None:\n",
    "        raise ValueError(\"Column must be defined\")\n",
    "\n",
    "    if column == \"task\":\n",
    "        values = df[\"task\"].unique().tolist()\n",
    "        values.sort()\n",
    "    elif column == \"source\":\n",
    "        values = df[\"source\"].unique().tolist()\n",
    "        values.sort()\n",
    "\n",
    "    start_order = [\"total\", \"inspection\", \"direct\"]\n",
    "    set_order = []\n",
    "\n",
    "    for var in start_order:\n",
    "        if var in values:\n",
    "            set_order.append(var)\n",
    "\n",
    "    for var in values:\n",
    "        if var not in set_order:\n",
    "            set_order.append(var)\n",
    "\n",
    "    return_order = {}\n",
    "    i = 1\n",
    "    for var in set_order:\n",
    "        return_order[var] = i\n",
    "        i = i + 1\n",
    "    # print(return_order)\n",
    "    df_ordered = df.sort_values(by=[column], key=lambda x: x.map(return_order))\n",
    "    # print(df_ordered.head())\n",
    "\n",
    "    return df_ordered"
   ]
  },
  {
   "cell_type": "code",
   "execution_count": 5,
   "metadata": {},
   "outputs": [],
   "source": [
    "def get_color_map(df, column):\n",
    "\n",
    "    df = df_order(df, column)\n",
    "\n",
    "    if column == \"source\":\n",
    "        colors = px.colors.qualitative.Plotly\n",
    "    elif column == \"task\":\n",
    "        colors = px.colors.qualitative.Bold\n",
    "    else:\n",
    "        colors = px.colors.qualitative.Safe\n",
    "\n",
    "    color_map = dict(zip(df[column].unique(), colors))\n",
    "\n",
    "    return color_map"
   ]
  },
  {
   "cell_type": "code",
   "execution_count": 6,
   "metadata": {},
   "outputs": [],
   "source": [
    "task_df = comp.expected_risk_cost_df(t_end=None)\n",
    "\n",
    "task_df.head();"
   ]
  },
  {
   "cell_type": "code",
   "execution_count": 7,
   "metadata": {},
   "outputs": [],
   "source": [
    "get_color_map(df=task_df, column=\"task\");"
   ]
  },
  {
   "source": [
    "#AXIS LOCK"
   ],
   "cell_type": "markdown",
   "metadata": {}
  },
  {
   "cell_type": "code",
   "execution_count": 8,
   "metadata": {},
   "outputs": [
    {
     "output_type": "stream",
     "name": "stderr",
     "text": [
      "WARNING:root:Invalid Data () - {'task': 'inspection', 'level_of_repair': 'as_bad_as_old', 'admin': 'yes', 'maint': 'no', 'travel': 'yes'}\n",
      "WARNING:root:Invalid Data () - {'task': 'repair', 'level_of_repair': 'grp'}\n",
      "WARNING:root:Invalid Data () - {'task': 'replace', 'level_of_repair': 'as_good_as_new'}\n",
      "WARNING:root:Invalid Data () - {'task': 'replace', 'level_of_repair': 'as_good_as_new'}\n",
      "WARNING:root:Invalid Data () - {'task': 'inspection', 'admin': 'yes', 'maint': 'no', 'travel': 'yes'}\n",
      "WARNING:root:Invalid Data () - {'task': 'replace', 'level_of_repair': 'as_good_as_new'}\n",
      "WARNING:root:Invalid Data () - {'task': 'replace', 'level_of_repair': 'as_good_as_new'}\n",
      "WARNING:root:Invalid Data () - {'task': 'inspection', 'level_of_repair': 'as_bad_as_old', 'admin': 'yes', 'maint': 'no', 'travel': 'yes'}\n",
      "WARNING:root:Invalid Data () - {'task': 'repair', 'level_of_repair': 'as_bad_as_old'}\n",
      "WARNING:root:Invalid Data () - {'task': 'replace', 'level_of_repair': 'as_good_as_new'}\n",
      "WARNING:root:Invalid Data () - {'task': 'replace', 'level_of_repair': 'as_good_as_new'}\n",
      "WARNING:root:Invalid Data () - {'task': 'inspection', 'level_of_repair': 'as_bad_as_old'}\n",
      "WARNING:root:Invalid Data () - {'task': 'inspection', 'admin': 'yes', 'maint': 'no', 'travel': 'yes'}\n",
      "WARNING:root:Invalid Data () - {'task': 'replace', 'level_of_repair': 'as_good_as_new'}\n",
      "WARNING:root:Invalid Data () - {'task': 'inspection', 'level_of_repair': 'as_bad_as_old'}\n",
      "WARNING:root:Invalid Data () - {'task': 'replace', 'level_of_repair': 'as_good_as_new'}\n",
      "WARNING:root:Invalid Data () - {'task': 'inspection', 'level_of_repair': 'as_bad_as_old'}\n",
      "WARNING:root:Invalid Data () - {'task': 'replace', 'level_of_repair': 'as_good_as_new'}\n",
      "WARNING:root:Invalid Data () - {'task': 'inspection'}\n",
      "WARNING:root:Invalid Data () - {'task': 'replace', 'level_of_repair': 'as_good_as_new'}\n",
      "WARNING:root:Invalid Data () - {'task': 'replace', 'level_of_repair': 'as_good_as_new'}\n",
      "100%|██████████| 1/1 [00:00<00:00, 100.00it/s]\n"
     ]
    }
   ],
   "source": [
    "aml = AssetModelLoader(paths.demo_path + os.sep + \"Asset Model - Pole - Timber.xlsx\")\n",
    "comp_data = aml.load(paths.demo_path + os.sep + \"Asset Model - Pole - Timber.xlsx\")\n",
    "comp = Component.from_dict(comp_data[\"pole\"])\n",
    "comp.fleet_data = sfd\n",
    "\n",
    "t_end = 100\n",
    "\n",
    "pof_sim = copy.copy(comp)\n",
    "sens_sim = copy.deepcopy(comp)\n",
    "\n",
    "# Complete the simulations\n",
    "pof_sim.mp_timeline(t_end=t_end, n_iterations=1);\n",
    "\n",
    "# Produce reports\n",
    "pof_sim.expected_risk_cost_df(t_end=t_end);\n",
    "# pof_sim.calc_pof_df(t_end=t_end)\n",
    "pof_sim.calc_df_task_forecast(sfd.df_age_forecast);\n",
    "# pof_sim.calc_summary(sfd.df_age)\n",
    "pof_sim.calc_df_cond(t_end=t_end);\n"
   ]
  },
  {
   "cell_type": "code",
   "execution_count": 9,
   "metadata": {},
   "outputs": [],
   "source": [
    "def get_y_max(chart, t_end=None, x_axis=None, y_axis=None, axis_lock=None):\n",
    "    \"\"\" Determine the maximum y value for a given axis \"\"\"\n",
    "\n",
    "    global pof_sim\n",
    "    global sens_sim\n",
    "\n",
    "    if \"pof\" in chart:\n",
    "        df = pof_sim.df_pof\n",
    "        x_col = None\n",
    "        y_col = \"pof\"\n",
    "    elif \"cond\" in chart:\n",
    "        df = pof_sim.df_cond\n",
    "        x_col = None\n",
    "        y_col = \"y\" + chart.split(\"_\")[-1]\n",
    "    elif \"ms\" in chart:\n",
    "        df = pof_sim.df_erc\n",
    "        x_col = \"time\"\n",
    "        y_col = y_axis\n",
    "    elif \"sens\" in chart:\n",
    "        df = sens_sim.df_sens\n",
    "        x_col = x_axis.split(\"-\")[-1]\n",
    "        y_col = y_axis\n",
    "    elif \"task\" in chart:\n",
    "        df = pof_sim.df_task\n",
    "        x_col = None\n",
    "        y_col = \"pop_quantity\"\n",
    "\n",
    "    try:\n",
    "        if axis_lock is None:\n",
    "            if x_col is not None:\n",
    "                y_max = df.groupby(x_col)[y_col].sum().max() * 1.05\n",
    "            else:\n",
    "                y_max = df[y_col].max() * 1.05\n",
    "        else:\n",
    "            ctx = dash.callback_context\n",
    "            dash_id = ctx.triggered[0][\"prop_id\"].split(\".\")[0]\n",
    "            if dash_id == \"sens_var_y-dropdown\" and x_col is not None:\n",
    "                y_max = df.groupby(x_col)[y_col].sum().max() * 1.05\n",
    "            else:\n",
    "                return dash.no_update\n",
    "    except:\n",
    "        y_max = None\n",
    "    return y_max\n"
   ]
  },
  {
   "cell_type": "code",
   "execution_count": 10,
   "metadata": {},
   "outputs": [],
   "source": [
    "y_max_values = []\n",
    "chart_list = [\n",
    "    # \"pof_fig\",\n",
    "    \"ms_fig\", \n",
    "    \"sens_fig\", \n",
    "    \"task_fig\"\n",
    "]\n",
    "\n",
    "for chart in chart_list:\n",
    "    y_max_values.append(get_y_max(chart=chart, t_end=200, x_axis=\"cost\", y_axis=\"cost\", axis_lock=False))\n",
    "\n",
    "y_max_values;"
   ]
  },
  {
   "source": [
    "## TEST Y_MAX CALC"
   ],
   "cell_type": "markdown",
   "metadata": {}
  },
  {
   "cell_type": "code",
   "execution_count": 1,
   "metadata": {},
   "outputs": [],
   "source": [
    "import sys\n",
    "import os\n",
    "sys.path.append(os.path.dirname(os.getcwd()))\n",
    "\n",
    "from pof.data.asset_data import SimpleFleet\n",
    "from pof.paths import Paths\n",
    "\n",
    "# Forecast years\n",
    "START_YEAR = 2015\n",
    "END_YEAR = 2024\n",
    "CURRENT_YEAR = 2020\n",
    "\n",
    "# Population Data\n",
    "file_path = Paths().input_path + os.sep\n",
    "FILE_NAME = r\"population_summary.csv\"\n",
    "\n",
    "sfd = SimpleFleet(file_path + FILE_NAME)\n",
    "sfd.load();"
   ]
  },
  {
   "cell_type": "code",
   "execution_count": 3,
   "metadata": {},
   "outputs": [
    {
     "output_type": "stream",
     "name": "stderr",
     "text": [
      "100%|██████████| 10/10 [00:00<00:00, 47.85it/s]\n"
     ]
    }
   ],
   "source": [
    "from pof.component import Component\n",
    "comp = Component.demo()\n",
    "comp.mp_timeline(t_end=100, n_iterations=10)\n",
    "comp.fleet_data = sfd  # TODO fix by creating asset class"
   ]
  },
  {
   "cell_type": "code",
   "execution_count": 4,
   "metadata": {},
   "outputs": [],
   "source": [
    "def update_consequence(self, value):\n",
    "    \"\"\" Update the consequence of any failure mode \"\"\"\n",
    "\n",
    "    for fm in self.fm.values():\n",
    "        fm.update_consequence(value)"
   ]
  },
  {
   "cell_type": "code",
   "execution_count": 6,
   "metadata": {},
   "outputs": [],
   "source": [
    "from statistics import mean\n",
    "\n",
    "def get_consequence_default(self):\n",
    "    \"\"\" Return the current value of consequence on failure mode \"\"\"\n",
    "    val = []\n",
    "    for fm in self.fm.values():\n",
    "        # consequence = getattr(fm, \"consequence\")\n",
    "        val.append(fm.get_consequence_default())\n",
    "\n",
    "    return mean(val)"
   ]
  },
  {
   "cell_type": "code",
   "execution_count": 9,
   "metadata": {},
   "outputs": [],
   "source": [
    "comp.expected_risk_cost_df(t_end=200);"
   ]
  },
  {
   "source": [
    "# prev_task = comp.plot_task_forecast(keep_axis=True, prev=None)\n",
    "prev_ms_cost = comp.plot_ms(y_axis=\"cost\", keep_axis=True, prev=None)\n",
    "prev_ms_cumulative = comp.plot_ms(\n",
    "    y_axis=\"cost_cumulative\", keep_axis=False, prev=None\n",
    ")"
   ],
   "cell_type": "code",
   "metadata": {},
   "execution_count": 10,
   "outputs": []
  },
  {
   "cell_type": "code",
   "execution_count": 13,
   "metadata": {},
   "outputs": [],
   "source": [
    "# prev_ms_cumulative.show();"
   ]
  },
  {
   "cell_type": "code",
   "execution_count": 14,
   "metadata": {},
   "outputs": [],
   "source": [
    "from pof.interface.figures import calc_y_max"
   ]
  },
  {
   "cell_type": "code",
   "execution_count": 15,
   "metadata": {},
   "outputs": [
    {
     "output_type": "error",
     "ename": "AttributeError",
     "evalue": "'Layout' object has no attribute 'get'",
     "traceback": [
      "\u001b[1;31m---------------------------------------------------------------------------\u001b[0m",
      "\u001b[1;31mAttributeError\u001b[0m                            Traceback (most recent call last)",
      "\u001b[1;32m<ipython-input-15-7ab06cb66005>\u001b[0m in \u001b[0;36m<module>\u001b[1;34m\u001b[0m\n\u001b[0;32m      1\u001b[0m \u001b[1;31m# y_max_task = calc_y_max(keep_axis=True, method=\"max\", prev=prev_task)\u001b[0m\u001b[1;33m\u001b[0m\u001b[1;33m\u001b[0m\u001b[1;33m\u001b[0m\u001b[0m\n\u001b[1;32m----> 2\u001b[1;33m \u001b[0my_max_ms_cost\u001b[0m \u001b[1;33m=\u001b[0m \u001b[0mcalc_y_max\u001b[0m\u001b[1;33m(\u001b[0m\u001b[0mkeep_axis\u001b[0m\u001b[1;33m=\u001b[0m\u001b[1;32mTrue\u001b[0m\u001b[1;33m,\u001b[0m \u001b[0mmethod\u001b[0m\u001b[1;33m=\u001b[0m\u001b[1;34m\"max\"\u001b[0m\u001b[1;33m,\u001b[0m    \u001b[0mprev\u001b[0m\u001b[1;33m=\u001b[0m\u001b[0mprev_ms_cost\u001b[0m\u001b[1;33m)\u001b[0m\u001b[1;33m\u001b[0m\u001b[1;33m\u001b[0m\u001b[0m\n\u001b[0m\u001b[0;32m      3\u001b[0m \u001b[1;31m# y_max_ms_cumulative = calc_y_max(\u001b[0m\u001b[1;33m\u001b[0m\u001b[1;33m\u001b[0m\u001b[1;33m\u001b[0m\u001b[0m\n\u001b[0;32m      4\u001b[0m \u001b[1;31m#     keep_axis=True, method=\"sum\", prev=prev_ms_cumulative\u001b[0m\u001b[1;33m\u001b[0m\u001b[1;33m\u001b[0m\u001b[1;33m\u001b[0m\u001b[0m\n\u001b[0;32m      5\u001b[0m \u001b[1;31m# )\u001b[0m\u001b[1;33m\u001b[0m\u001b[1;33m\u001b[0m\u001b[1;33m\u001b[0m\u001b[0m\n",
      "\u001b[1;32mc:\\Users\\mkirton1\\OneDrive - KPMG\\Documents\\Essential Energy\\Probability of Failure Model\\pof\\pof\\interface\\figures.py\u001b[0m in \u001b[0;36mcalc_y_max\u001b[1;34m(keep_axis, method, prev, test)\u001b[0m\n\u001b[0;32m    390\u001b[0m                 \u001b[0mrange_prev\u001b[0m \u001b[1;33m=\u001b[0m \u001b[0mprev\u001b[0m\u001b[1;33m[\u001b[0m\u001b[1;34m\"layout\"\u001b[0m\u001b[1;33m]\u001b[0m\u001b[1;33m.\u001b[0m\u001b[0myaxis\u001b[0m\u001b[1;33m.\u001b[0m\u001b[0mrange\u001b[0m\u001b[1;33m\u001b[0m\u001b[1;33m\u001b[0m\u001b[0m\n\u001b[0;32m    391\u001b[0m             \u001b[1;32melse\u001b[0m\u001b[1;33m:\u001b[0m\u001b[1;33m\u001b[0m\u001b[1;33m\u001b[0m\u001b[0m\n\u001b[1;32m--> 392\u001b[1;33m                 \u001b[0mrange_prev\u001b[0m \u001b[1;33m=\u001b[0m \u001b[0mprev\u001b[0m\u001b[1;33m[\u001b[0m\u001b[1;34m\"layout\"\u001b[0m\u001b[1;33m]\u001b[0m\u001b[1;33m.\u001b[0m\u001b[0mget\u001b[0m\u001b[1;33m(\u001b[0m\u001b[1;34m\"yaxis\"\u001b[0m\u001b[1;33m)\u001b[0m\u001b[1;33m.\u001b[0m\u001b[0mget\u001b[0m\u001b[1;33m(\u001b[0m\u001b[1;34m\"range\"\u001b[0m\u001b[1;33m)\u001b[0m\u001b[1;33m\u001b[0m\u001b[1;33m\u001b[0m\u001b[0m\n\u001b[0m\u001b[0;32m    393\u001b[0m \u001b[1;33m\u001b[0m\u001b[0m\n\u001b[0;32m    394\u001b[0m             \u001b[1;31m# If the y_limit already exists use last one, otherwise calculate a new y_max\u001b[0m\u001b[1;33m\u001b[0m\u001b[1;33m\u001b[0m\u001b[1;33m\u001b[0m\u001b[0m\n",
      "\u001b[1;32mc:\\Users\\mkirton1\\OneDrive - KPMG\\Documents\\Essential Energy\\Probability of Failure Model\\pof\\.venv\\lib\\site-packages\\plotly\\basedatatypes.py\u001b[0m in \u001b[0;36m__getattr__\u001b[1;34m(self, prop)\u001b[0m\n\u001b[0;32m   5768\u001b[0m             \u001b[1;32mreturn\u001b[0m \u001b[0mvalidator\u001b[0m\u001b[1;33m.\u001b[0m\u001b[0mpresent\u001b[0m\u001b[1;33m(\u001b[0m\u001b[0mself\u001b[0m\u001b[1;33m.\u001b[0m\u001b[0m_compound_props\u001b[0m\u001b[1;33m[\u001b[0m\u001b[0mprop\u001b[0m\u001b[1;33m]\u001b[0m\u001b[1;33m)\u001b[0m\u001b[1;33m\u001b[0m\u001b[1;33m\u001b[0m\u001b[0m\n\u001b[0;32m   5769\u001b[0m         \u001b[1;32melse\u001b[0m\u001b[1;33m:\u001b[0m\u001b[1;33m\u001b[0m\u001b[1;33m\u001b[0m\u001b[0m\n\u001b[1;32m-> 5770\u001b[1;33m             \u001b[1;32mreturn\u001b[0m \u001b[0msuper\u001b[0m\u001b[1;33m(\u001b[0m\u001b[0mBaseLayoutHierarchyType\u001b[0m\u001b[1;33m,\u001b[0m \u001b[0mself\u001b[0m\u001b[1;33m)\u001b[0m\u001b[1;33m.\u001b[0m\u001b[0m__getattribute__\u001b[0m\u001b[1;33m(\u001b[0m\u001b[0mprop\u001b[0m\u001b[1;33m)\u001b[0m\u001b[1;33m\u001b[0m\u001b[1;33m\u001b[0m\u001b[0m\n\u001b[0m\u001b[0;32m   5771\u001b[0m \u001b[1;33m\u001b[0m\u001b[0m\n\u001b[0;32m   5772\u001b[0m     \u001b[1;32mdef\u001b[0m \u001b[0m__getitem__\u001b[0m\u001b[1;33m(\u001b[0m\u001b[0mself\u001b[0m\u001b[1;33m,\u001b[0m \u001b[0mprop\u001b[0m\u001b[1;33m)\u001b[0m\u001b[1;33m:\u001b[0m\u001b[1;33m\u001b[0m\u001b[1;33m\u001b[0m\u001b[0m\n",
      "\u001b[1;31mAttributeError\u001b[0m: 'Layout' object has no attribute 'get'"
     ]
    }
   ],
   "source": [
    "# y_max_task = calc_y_max(keep_axis=True, method=\"max\", prev=prev_task)\n",
    "y_max_ms_cost = calc_y_max(keep_axis=True, method=\"max\",    prev=prev_ms_cost)\n",
    "# y_max_ms_cumulative = calc_y_max(\n",
    "#     keep_axis=True, method=\"sum\", prev=prev_ms_cumulative\n",
    "# )\n",
    "\n",
    "y_max_ms_cost\n",
    "# y_max_ms_cumulative"
   ]
  },
  {
   "cell_type": "code",
   "execution_count": 17,
   "metadata": {},
   "outputs": [],
   "source": [
    "df = comp.df_erc\n",
    "\n",
    "y_max_ms_cost_df = df[\"cost\"].max() * 1.05\n",
    "\n",
    "y_max_ms_cumulative_df = df.groupby(\"time\")[\"cost_cumulative\"].sum().max() * 1.05\n",
    "\n",
    "y_max_ms_cost_df;\n",
    "# y_max_ms_cumulative_df"
   ]
  },
  {
   "cell_type": "code",
   "execution_count": 18,
   "metadata": {},
   "outputs": [
    {
     "output_type": "error",
     "ename": "AttributeError",
     "evalue": "'Layout' object has no attribute 'get'",
     "traceback": [
      "\u001b[1;31m---------------------------------------------------------------------------\u001b[0m",
      "\u001b[1;31mAttributeError\u001b[0m                            Traceback (most recent call last)",
      "\u001b[1;32m<ipython-input-18-0cdc859db5fd>\u001b[0m in \u001b[0;36m<module>\u001b[1;34m\u001b[0m\n\u001b[0;32m      3\u001b[0m )\n\u001b[0;32m      4\u001b[0m \u001b[1;33m\u001b[0m\u001b[0m\n\u001b[1;32m----> 5\u001b[1;33m new_chart = make_ms_fig(\n\u001b[0m\u001b[0;32m      6\u001b[0m     \u001b[0mdf\u001b[0m\u001b[1;33m=\u001b[0m\u001b[0mcomp\u001b[0m\u001b[1;33m.\u001b[0m\u001b[0mdf_erc\u001b[0m\u001b[1;33m,\u001b[0m\u001b[1;33m\u001b[0m\u001b[1;33m\u001b[0m\u001b[0m\n\u001b[0;32m      7\u001b[0m     \u001b[0my_axis\u001b[0m\u001b[1;33m=\u001b[0m\u001b[1;34m\"cost\"\u001b[0m\u001b[1;33m,\u001b[0m\u001b[1;33m\u001b[0m\u001b[1;33m\u001b[0m\u001b[0m\n",
      "\u001b[1;32mc:\\Users\\mkirton1\\OneDrive - KPMG\\Documents\\Essential Energy\\Probability of Failure Model\\pof\\pof\\interface\\figures.py\u001b[0m in \u001b[0;36mmake_ms_fig\u001b[1;34m(df, y_axis, keep_axis, units, prev)\u001b[0m\n\u001b[0;32m     62\u001b[0m \u001b[1;33m\u001b[0m\u001b[0m\n\u001b[0;32m     63\u001b[0m     \u001b[1;32mexcept\u001b[0m \u001b[0mException\u001b[0m \u001b[1;32mas\u001b[0m \u001b[0merror\u001b[0m\u001b[1;33m:\u001b[0m\u001b[1;33m\u001b[0m\u001b[1;33m\u001b[0m\u001b[0m\n\u001b[1;32m---> 64\u001b[1;33m         \u001b[1;32mraise\u001b[0m \u001b[1;33m(\u001b[0m\u001b[0merror\u001b[0m\u001b[1;33m)\u001b[0m\u001b[1;33m\u001b[0m\u001b[1;33m\u001b[0m\u001b[0m\n\u001b[0m\u001b[0;32m     65\u001b[0m         fig = go.Figure(\n\u001b[0;32m     66\u001b[0m             layout=go.Layout(\n",
      "\u001b[1;32mc:\\Users\\mkirton1\\OneDrive - KPMG\\Documents\\Essential Energy\\Probability of Failure Model\\pof\\pof\\interface\\figures.py\u001b[0m in \u001b[0;36mmake_ms_fig\u001b[1;34m(df, y_axis, keep_axis, units, prev)\u001b[0m\n\u001b[0;32m     52\u001b[0m         \u001b[0mfig\u001b[0m \u001b[1;33m=\u001b[0m \u001b[0mpx\u001b[0m\u001b[1;33m.\u001b[0m\u001b[0marea\u001b[0m\u001b[1;33m(\u001b[0m\u001b[1;33m**\u001b[0m\u001b[0mpx_args\u001b[0m\u001b[1;33m,\u001b[0m \u001b[0mline_group\u001b[0m\u001b[1;33m=\u001b[0m\u001b[1;34m\"failure_mode\"\u001b[0m\u001b[1;33m)\u001b[0m\u001b[1;33m\u001b[0m\u001b[1;33m\u001b[0m\u001b[0m\n\u001b[0;32m     53\u001b[0m \u001b[1;33m\u001b[0m\u001b[0m\n\u001b[1;32m---> 54\u001b[1;33m         \u001b[0my_max\u001b[0m \u001b[1;33m=\u001b[0m \u001b[0mcalc_y_max\u001b[0m\u001b[1;33m(\u001b[0m\u001b[0mkeep_axis\u001b[0m\u001b[1;33m=\u001b[0m\u001b[0mkeep_axis\u001b[0m\u001b[1;33m,\u001b[0m \u001b[0mmethod\u001b[0m\u001b[1;33m=\u001b[0m\u001b[1;34m\"sum\"\u001b[0m\u001b[1;33m,\u001b[0m \u001b[0mprev\u001b[0m\u001b[1;33m=\u001b[0m\u001b[0mprev\u001b[0m\u001b[1;33m)\u001b[0m\u001b[1;33m\u001b[0m\u001b[1;33m\u001b[0m\u001b[0m\n\u001b[0m\u001b[0;32m     55\u001b[0m         \u001b[1;32mif\u001b[0m \u001b[0my_max\u001b[0m \u001b[1;32mis\u001b[0m \u001b[1;32mnot\u001b[0m \u001b[1;32mNone\u001b[0m\u001b[1;33m:\u001b[0m\u001b[1;33m\u001b[0m\u001b[1;33m\u001b[0m\u001b[0m\n\u001b[0;32m     56\u001b[0m             \u001b[0mfig\u001b[0m\u001b[1;33m.\u001b[0m\u001b[0mupdate_yaxes\u001b[0m\u001b[1;33m(\u001b[0m\u001b[0mrange\u001b[0m\u001b[1;33m=\u001b[0m\u001b[1;33m[\u001b[0m\u001b[1;36m0\u001b[0m\u001b[1;33m,\u001b[0m \u001b[0my_max\u001b[0m\u001b[1;33m]\u001b[0m\u001b[1;33m)\u001b[0m\u001b[1;33m\u001b[0m\u001b[1;33m\u001b[0m\u001b[0m\n",
      "\u001b[1;32mc:\\Users\\mkirton1\\OneDrive - KPMG\\Documents\\Essential Energy\\Probability of Failure Model\\pof\\pof\\interface\\figures.py\u001b[0m in \u001b[0;36mcalc_y_max\u001b[1;34m(keep_axis, method, prev, test)\u001b[0m\n\u001b[0;32m    390\u001b[0m                 \u001b[0mrange_prev\u001b[0m \u001b[1;33m=\u001b[0m \u001b[0mprev\u001b[0m\u001b[1;33m[\u001b[0m\u001b[1;34m\"layout\"\u001b[0m\u001b[1;33m]\u001b[0m\u001b[1;33m.\u001b[0m\u001b[0myaxis\u001b[0m\u001b[1;33m.\u001b[0m\u001b[0mrange\u001b[0m\u001b[1;33m\u001b[0m\u001b[1;33m\u001b[0m\u001b[0m\n\u001b[0;32m    391\u001b[0m             \u001b[1;32melse\u001b[0m\u001b[1;33m:\u001b[0m\u001b[1;33m\u001b[0m\u001b[1;33m\u001b[0m\u001b[0m\n\u001b[1;32m--> 392\u001b[1;33m                 \u001b[0mrange_prev\u001b[0m \u001b[1;33m=\u001b[0m \u001b[0mprev\u001b[0m\u001b[1;33m[\u001b[0m\u001b[1;34m\"layout\"\u001b[0m\u001b[1;33m]\u001b[0m\u001b[1;33m.\u001b[0m\u001b[0mget\u001b[0m\u001b[1;33m(\u001b[0m\u001b[1;34m\"yaxis\"\u001b[0m\u001b[1;33m)\u001b[0m\u001b[1;33m.\u001b[0m\u001b[0mget\u001b[0m\u001b[1;33m(\u001b[0m\u001b[1;34m\"range\"\u001b[0m\u001b[1;33m)\u001b[0m\u001b[1;33m\u001b[0m\u001b[1;33m\u001b[0m\u001b[0m\n\u001b[0m\u001b[0;32m    393\u001b[0m \u001b[1;33m\u001b[0m\u001b[0m\n\u001b[0;32m    394\u001b[0m             \u001b[1;31m# If the y_limit already exists use last one, otherwise calculate a new y_max\u001b[0m\u001b[1;33m\u001b[0m\u001b[1;33m\u001b[0m\u001b[1;33m\u001b[0m\u001b[0m\n",
      "\u001b[1;32mc:\\Users\\mkirton1\\OneDrive - KPMG\\Documents\\Essential Energy\\Probability of Failure Model\\pof\\.venv\\lib\\site-packages\\plotly\\basedatatypes.py\u001b[0m in \u001b[0;36m__getattr__\u001b[1;34m(self, prop)\u001b[0m\n\u001b[0;32m   5768\u001b[0m             \u001b[1;32mreturn\u001b[0m \u001b[0mvalidator\u001b[0m\u001b[1;33m.\u001b[0m\u001b[0mpresent\u001b[0m\u001b[1;33m(\u001b[0m\u001b[0mself\u001b[0m\u001b[1;33m.\u001b[0m\u001b[0m_compound_props\u001b[0m\u001b[1;33m[\u001b[0m\u001b[0mprop\u001b[0m\u001b[1;33m]\u001b[0m\u001b[1;33m)\u001b[0m\u001b[1;33m\u001b[0m\u001b[1;33m\u001b[0m\u001b[0m\n\u001b[0;32m   5769\u001b[0m         \u001b[1;32melse\u001b[0m\u001b[1;33m:\u001b[0m\u001b[1;33m\u001b[0m\u001b[1;33m\u001b[0m\u001b[0m\n\u001b[1;32m-> 5770\u001b[1;33m             \u001b[1;32mreturn\u001b[0m \u001b[0msuper\u001b[0m\u001b[1;33m(\u001b[0m\u001b[0mBaseLayoutHierarchyType\u001b[0m\u001b[1;33m,\u001b[0m \u001b[0mself\u001b[0m\u001b[1;33m)\u001b[0m\u001b[1;33m.\u001b[0m\u001b[0m__getattribute__\u001b[0m\u001b[1;33m(\u001b[0m\u001b[0mprop\u001b[0m\u001b[1;33m)\u001b[0m\u001b[1;33m\u001b[0m\u001b[1;33m\u001b[0m\u001b[0m\n\u001b[0m\u001b[0;32m   5771\u001b[0m \u001b[1;33m\u001b[0m\u001b[0m\n\u001b[0;32m   5772\u001b[0m     \u001b[1;32mdef\u001b[0m \u001b[0m__getitem__\u001b[0m\u001b[1;33m(\u001b[0m\u001b[0mself\u001b[0m\u001b[1;33m,\u001b[0m \u001b[0mprop\u001b[0m\u001b[1;33m)\u001b[0m\u001b[1;33m:\u001b[0m\u001b[1;33m\u001b[0m\u001b[1;33m\u001b[0m\u001b[0m\n",
      "\u001b[1;31mAttributeError\u001b[0m: 'Layout' object has no attribute 'get'"
     ]
    }
   ],
   "source": [
    "from pof.interface.figures import (\n",
    "    make_ms_fig,\n",
    ")\n",
    "\n",
    "new_chart = make_ms_fig(\n",
    "    df=comp.df_erc,\n",
    "    y_axis=\"cost\",\n",
    "    keep_axis=True,\n",
    "    units=\"years\",\n",
    "    prev=prev_ms_cost,\n",
    ")\n"
   ]
  },
  {
   "cell_type": "code",
   "execution_count": 20,
   "metadata": {},
   "outputs": [],
   "source": [
    "# prev_ms_cost[\"layout\"].yaxis[\"range\"]\n",
    "\n",
    "new_fig = prev_ms_cost.update_yaxes(range=[0,200])\n",
    "\n",
    "prev_ms_cost[\"layout\"].yaxis.range[1];"
   ]
  },
  {
   "cell_type": "code",
   "execution_count": 21,
   "metadata": {},
   "outputs": [
    {
     "output_type": "stream",
     "name": "stdout",
     "text": [
      "<generator object <genexpr> at 0x0000011F02BABD60>\n"
     ]
    }
   ],
   "source": [
    "print(scatter.get(\"visible\") for scatter in prev_ms_cost[\"data\"])\n",
    "    # print(max(scatter.y))"
   ]
  },
  {
   "cell_type": "code",
   "execution_count": 24,
   "metadata": {},
   "outputs": [],
   "source": [
    "def update_pof_fig(df, keep_axis=False, units=\"unknown\", prev=None):\n",
    "\n",
    "    try:\n",
    "\n",
    "        color_map = get_color_map(df=df, column=\"source\")\n",
    "\n",
    "        df = df[df[\"active\"] == True]\n",
    "\n",
    "        # Make columns presentable\n",
    "        # df.columns = df.columns.str.replace(\"_\", \" \").str.title()\n",
    "        col_names = {\"time\": f\"Age ({units})\"}\n",
    "        df.rename(columns=col_names, inplace=True)\n",
    "\n",
    "        fig = px.line(\n",
    "            df,\n",
    "            x=col_names[\"time\"],\n",
    "            y=\"pof\",\n",
    "            color=\"source\",\n",
    "            color_discrete_map=color_map,\n",
    "            line_dash=\"strategy\",\n",
    "            line_group=\"strategy\",\n",
    "            title=\"Probability of Failure given Maintenance Strategy\",\n",
    "        )\n",
    "\n",
    "        col_names = {\"time\": f\"Age ({units})\"}\n",
    "\n",
    "        fig.layout.yaxis.tickformat = \",.0%\"\n",
    "        fig.update_yaxes(automargin=True)\n",
    "        fig.update_xaxes(automargin=True)\n",
    "        fig.update_xaxes(title_text=col_names[\"time\"])\n",
    "\n",
    "        y_max = calc_y_max(keep_axis=keep_axis, method=\"max\", prev=prev)\n",
    "        if y_max is not None:\n",
    "            fig.update_yaxes(range=[0, y_max])\n",
    "\n",
    "        fig = update_visibility(fig, prev)\n",
    "\n",
    "    except:\n",
    "        fig = go.Figure(\n",
    "            layout=go.Layout(\n",
    "                title=go.layout.Title(text=\"Producing Probability of Failure - Error\")\n",
    "            )\n",
    "        )\n",
    "\n",
    "    return fig"
   ]
  },
  {
   "source": [
    "Divide by 0 - inf error logic"
   ],
   "cell_type": "markdown",
   "metadata": {}
  },
  {
   "cell_type": "code",
   "execution_count": 11,
   "metadata": {},
   "outputs": [],
   "source": [
    "import sys\n",
    "import os\n",
    "sys.path.append(os.path.dirname(os.getcwd()))\n",
    "\n",
    "from pof.indicator import Indicator\n",
    "from pof.component import Component\n",
    "import pandas as pd\n",
    "import scipy.stats as ss\n",
    "\n",
    "comp = Component.demo()"
   ]
  },
  {
   "cell_type": "code",
   "execution_count": 12,
   "metadata": {},
   "outputs": [
    {
     "output_type": "stream",
     "name": "stderr",
     "text": [
      "100%|██████████| 10/10 [00:00<00:00, 25.25it/s]\n"
     ]
    }
   ],
   "source": [
    "comp.mp_timeline(t_end=100)"
   ]
  },
  {
   "cell_type": "code",
   "execution_count": 13,
   "metadata": {},
   "outputs": [],
   "source": [
    "def _expected_condition(ec, conf):\n",
    "    \"\"\"\n",
    "    Returns the expected condition based\n",
    "    \"\"\"\n",
    "    # TODO make work for all condition levels loss:bool=False\n",
    "\n",
    "    mean = ec.mean(axis=0)\n",
    "    sigma = ec.std(axis=0)\n",
    "\n",
    "    # Create a dataframe with mean & sigma\n",
    "    df_mean_sigma = pd.DataFrame(\n",
    "        data={\"mean\": mean, \"sigma\": sigma},\n",
    "        columns=[\"mean\", \"sigma\"],\n",
    "    )\n",
    "\n",
    "    # Filter out rows when sigma = 0\n",
    "    # df_mean_sigma_filtered = df_mean_sigma[df_mean_sigma[\"sigma\"] != 0]\n",
    "    mean_filtered = df_mean_sigma[df_mean_sigma[\"sigma\"] != 0][\"mean\"]\n",
    "    sigma_filtered = df_mean_sigma[df_mean_sigma[\"sigma\"] != 0][\"sigma\"]\n",
    "\n",
    "    # TODO maybe add np.sqr(len(ec)) to make it stderr\n",
    "\n",
    "    # Calculate bounds\n",
    "    df_mean_sigma.loc[df_mean_sigma[\"sigma\"] != 0, \"upper\"] = ss.norm.ppf(\n",
    "        (1 - (1 - conf) / 2), loc=mean_filtered, scale=sigma_filtered\n",
    "    )\n",
    "    df_mean_sigma.loc[df_mean_sigma[\"sigma\"] != 0, \"lower\"] = ss.norm.ppf(\n",
    "        ((1 - conf) / 2), loc=mean_filtered, scale=sigma_filtered\n",
    "    )\n",
    "    df_mean_sigma.loc[df_mean_sigma[\"sigma\"] == 0, \"upper\"] = df_mean_sigma[\"mean\"]\n",
    "    df_mean_sigma.loc[df_mean_sigma[\"sigma\"] == 0, \"lower\"] = df_mean_sigma[\"mean\"]\n",
    "\n",
    "\n",
    "    # Adjust upper and lower to the mean if there is not variance (sigma was 0)\n",
    "    # print(df_mean_sigma)\n",
    "    # df_lower_upper = pd.merge(\n",
    "    #     df_mean_sigma, df_mean_sigma_filtered, how=\"left\", on=[\"mean\", \"sigma\"]\n",
    "    # )\n",
    "    # df_lower_upper[\"upper\"].fillna(df_lower_upper[\"mean\"])\n",
    "    # df_lower_upper[\"lower\"].fillna(df_lower_upper[\"mean\"])\n",
    "    upper = df_mean_sigma[\"upper\"]\n",
    "    lower = df_mean_sigma[\"lower\"]\n",
    "    print(df_mean_sigma)\n",
    "\n",
    "    # for i in range(0, len(upper)):\n",
    "        # if self.decreasing:\n",
    "        # if upper[i] > 100:\n",
    "        #     upper[i] = 100\n",
    "        # elif lower[i] < 0:\n",
    "        #     lower[i] = 0\n",
    "    upper[upper > 100] = 100\n",
    "    lower[lower < 0] = 0\n",
    "        # else:\n",
    "        #     upper[upper[i] > 0] = 0\n",
    "        #     lower[lower[i] < 100] = 100\n",
    "\n",
    "    expected = dict(\n",
    "        lower=lower,\n",
    "        mean=mean,\n",
    "        upper=upper,\n",
    "    )\n",
    "\n",
    "    return expected"
   ]
  },
  {
   "cell_type": "code",
   "execution_count": 16,
   "metadata": {},
   "outputs": [],
   "source": [
    "for key,val in comp.indicator.items():\n",
    "    ec = val.agg_timelines();\n",
    "\n",
    "# _expected_condition(ec, 0.5);"
   ]
  }
 ]
}