{
 "metadata": {
  "language_info": {
   "codemirror_mode": {
    "name": "ipython",
    "version": 3
   },
   "file_extension": ".py",
   "mimetype": "text/x-python",
   "name": "python",
   "nbconvert_exporter": "python",
   "pygments_lexer": "ipython3",
   "version": "3.9.0-final"
  },
  "orig_nbformat": 2,
  "kernelspec": {
   "name": "python3",
   "display_name": "Python 3"
  }
 },
 "nbformat": 4,
 "nbformat_minor": 2,
 "cells": [
  {
   "cell_type": "code",
   "execution_count": 12,
   "metadata": {},
   "outputs": [],
   "source": [
    "\n",
    "import logging"
   ]
  },
  {
   "cell_type": "code",
   "execution_count": null,
   "metadata": {},
   "outputs": [],
   "source": []
  },
  {
   "cell_type": "code",
   "execution_count": 68,
   "metadata": {},
   "outputs": [],
   "source": [
    "class Parent():\n",
    "\n",
    "    def __init__(self, last_name='unknown'):\n",
    "        print(\"Parent __init__\")\n",
    "        self.last_name = last_name\n",
    "\n",
    "\n",
    "\n",
    "    def print_name(self):\n",
    "\n",
    "        print (f\"First Name: {self.first_name}\")\n",
    "\n",
    "\n",
    "    @property\n",
    "    def name(self):\n",
    "        return self._name\n",
    "\n",
    "    @name.setter\n",
    "    def name(self, value):\n",
    "        print(f'{self.__class__.__name__} Updating name')\n",
    "        self._name = value\n",
    "\n",
    "\n",
    "    def update_name(self, name):\n",
    "\n",
    "        # Update my last name\n",
    "        self.name = name\n",
    "\n",
    "        # Update the names of my relatives\n",
    "        if hasattr(self, 'sibling'):\n",
    "            self.sibling.name = name"
   ]
  },
  {
   "cell_type": "code",
   "execution_count": 69,
   "metadata": {},
   "outputs": [
    {
     "output_type": "stream",
     "name": "stdout",
     "text": [
      "Parent __init__\nParent Updating name\n"
     ]
    }
   ],
   "source": [
    "par = Parent()\n",
    "par.update_name('asdf')"
   ]
  },
  {
   "cell_type": "code",
   "execution_count": 70,
   "metadata": {},
   "outputs": [],
   "source": [
    "class Child(Parent):\n",
    "\n",
    "    def __init__(self, first_name = 'jane'):\n",
    "        print(\"Child__init__\")\n",
    "\n",
    "        super().__init__()\n",
    "        self.first_name = first_name\n"
   ]
  },
  {
   "cell_type": "code",
   "execution_count": 71,
   "metadata": {},
   "outputs": [],
   "source": [
    "class Brother(Child):\n",
    "    def __init__(self):\n",
    "        super().__init__()\n",
    "        self.sibling = 'only child'\n",
    "\n",
    "class Sister(Child):\n",
    "    \n",
    "    def __init__(self, sibling):\n",
    "        super().__init__()\n",
    "        self.sibling = sibling\n"
   ]
  },
  {
   "cell_type": "code",
   "execution_count": 64,
   "metadata": {},
   "outputs": [
    {
     "output_type": "stream",
     "name": "stdout",
     "text": [
      "Child__init__\nParent __init__\n"
     ]
    }
   ],
   "source": [
    "child = Child()"
   ]
  },
  {
   "cell_type": "code",
   "execution_count": 54,
   "metadata": {},
   "outputs": [
    {
     "output_type": "execute_result",
     "data": {
      "text/plain": [
       "10"
      ]
     },
     "metadata": {},
     "execution_count": 54
    }
   ],
   "source": [
    "child.name = 10\n",
    "child.name"
   ]
  },
  {
   "cell_type": "code",
   "execution_count": 72,
   "metadata": {},
   "outputs": [
    {
     "output_type": "stream",
     "name": "stdout",
     "text": [
      "Child__init__\nParent __init__\n"
     ]
    },
    {
     "output_type": "execute_result",
     "data": {
      "text/plain": [
       "'jane'"
      ]
     },
     "metadata": {},
     "execution_count": 72
    }
   ],
   "source": [
    "Sister(\"sdf\").first_name"
   ]
  },
  {
   "cell_type": "code",
   "execution_count": 56,
   "metadata": {},
   "outputs": [
    {
     "output_type": "stream",
     "name": "stdout",
     "text": [
      "Child__init__\nParent __init__\n"
     ]
    },
    {
     "output_type": "execute_result",
     "data": {
      "text/plain": [
       "'jane'"
      ]
     },
     "metadata": {},
     "execution_count": 56
    }
   ],
   "source": [
    "Brother().first_name"
   ]
  },
  {
   "cell_type": "code",
   "execution_count": 74,
   "metadata": {},
   "outputs": [
    {
     "output_type": "stream",
     "name": "stdout",
     "text": [
      "Child__init__\nParent __init__\n"
     ]
    }
   ],
   "source": [
    "brother = Brother()"
   ]
  },
  {
   "cell_type": "code",
   "execution_count": 75,
   "metadata": {},
   "outputs": [
    {
     "output_type": "stream",
     "name": "stdout",
     "text": [
      "Child__init__\nParent __init__\n"
     ]
    }
   ],
   "source": [
    "sister = Sister(brother)"
   ]
  },
  {
   "cell_type": "code",
   "execution_count": 76,
   "metadata": {},
   "outputs": [
    {
     "output_type": "execute_result",
     "data": {
      "text/plain": [
       "<__main__.Brother at 0x12df5740820>"
      ]
     },
     "metadata": {},
     "execution_count": 76
    }
   ],
   "source": [
    "sister.sibling"
   ]
  },
  {
   "cell_type": "code",
   "execution_count": 77,
   "metadata": {},
   "outputs": [
    {
     "output_type": "stream",
     "name": "stdout",
     "text": [
      "Sister Updating name\nBrother Updating name\n"
     ]
    }
   ],
   "source": [
    "sister.update_name('new_name')"
   ]
  },
  {
   "cell_type": "code",
   "execution_count": null,
   "metadata": {},
   "outputs": [],
   "source": [
    "sister.name = 'asdf'\n",
    "print (d)\n",
    "do i have a sibbling\n",
    "brother.name = 'asdf\n",
    "print9df'"
   ]
  }
 ]
}