{
 "cells": [
  {
   "cell_type": "code",
   "execution_count": 29,
   "metadata": {},
   "outputs": [],
   "source": [
    "# Add root folder to ptyhon path\n",
    "\n",
    "import sys\n",
    "import os\n",
    "sys.path.append(os.path.dirname(os.getcwd()))\n",
    "\n",
    "# Standard packages\n",
    "import numpy as np\n",
    "import scipy.stats as ss\n",
    "from matplotlib import pyplot as plt\n",
    "\n",
    "# Class packages\n",
    "from pof.condition import Condition"
   ]
  },
  {
   "cell_type": "code",
   "execution_count": 30,
   "metadata": {},
   "outputs": [
    {
     "output_type": "execute_result",
     "data": {
      "text/plain": "{'name': 'default',\n 'pf_curve': 'linear',\n 'pf_curve_params': [-10],\n 'decreasing': True,\n 'pf_interval': None,\n 'pf_std': 0,\n 't_condition': 0,\n 't_max': 10,\n 't_accumulated': 0,\n 'perfect': 100,\n 'condition_accumulated': 0,\n 'condition': 100,\n 'failed': 0,\n 'threshold_detection': 100,\n 'threshold_failure': 0,\n 'condition_profile': array([100.,  90.,  80.,  70.,  60.,  50.,  40.,  30.,  20.,  10.,   0.]),\n 'detected': NotImplemented,\n 'initiated': NotImplemented}"
     },
     "metadata": {},
     "execution_count": 30
    }
   ],
   "source": [
    "c = Condition()\n",
    "c.__dict__"
   ]
  },
  {
   "cell_type": "code",
   "execution_count": 4,
   "metadata": {},
   "outputs": [],
   "source": [
    "c2=Condition(100, 0, \"pf_linear\", [-5], pf_interval=10, pf_std = 2)"
   ]
  },
  {
   "cell_type": "code",
   "execution_count": 7,
   "metadata": {
    "tags": []
   },
   "outputs": [
    {
     "output_type": "stream",
     "name": "stdout",
     "text": "106 µs ± 11.2 µs per loop (mean ± std. dev. of 7 runs, 10000 loops each)\n"
    }
   ],
   "source": [
    "%timeit c2.set_condition_profile()"
   ]
  },
  {
   "cell_type": "code",
   "execution_count": null,
   "metadata": {},
   "outputs": [],
   "source": [
    "c.sim(1)\n",
    "c.plot_condition_profile()"
   ]
  },
  {
   "cell_type": "code",
   "execution_count": 41,
   "metadata": {},
   "outputs": [],
   "source": [
    "cond_profile = dict()"
   ]
  },
  {
   "cell_type": "code",
   "execution_count": 44,
   "metadata": {},
   "outputs": [],
   "source": [
    "def _set_condition_profile(perfect = 100, failed = 0, pf_interval=20, name='cond', pf_curve = 'linear'):\n",
    "    \n",
    "    x = np.linspace(0, pf_interval, pf_interval + 1)\n",
    "\n",
    "    if pf_curve == 'linear':\n",
    "        m = (failed - perfect) / pf_interval\n",
    "        b = perfect\n",
    "        y = m*x + b\n",
    "    \n",
    "    elif pf_curve == 'step':\n",
    "        NotImplemented\n",
    "\n",
    "    cond_profile[name] = y #TODO overloaded\n",
    "    \n",
    "    return y"
   ]
  },
  {
   "cell_type": "code",
   "execution_count": null,
   "metadata": {},
   "outputs": [],
   "source": [
    "t_start = 0\n",
    "t_stop = None\n",
    "t_delay = 0\n",
    "\n",
    "if t_stop == None:\n",
    "    t_stop = self.pf_interval\n",
    "\n",
    "if t_start > t_stop:\n",
    "    t_start = t_stop\n",
    "\n",
    "if t_stop < 0:\n",
    "    t_start = t_start - t_stop\n",
    "    t_stop = 0"
   ]
  },
  {
   "cell_type": "code",
   "execution_count": 57,
   "metadata": {
    "tags": []
   },
   "outputs": [
    {
     "output_type": "stream",
     "name": "stdout",
     "text": "276 ns ± 66.2 ns per loop (mean ± std. dev. of 7 runs, 1000000 loops each)\n"
    }
   ],
   "source": [
    "perfect = 100\n",
    "failed = 0\n",
    "accumulated = dict()\n",
    "pf_interval = dict( #TODO overloaded\n",
    "    all = 20\n",
    ")"
   ]
  },
  {
   "cell_type": "code",
   "execution_count": null,
   "metadata": {},
   "outputs": [],
   "source": [
    "%timeit( sum)"
   ]
  },
  {
   "cell_type": "code",
   "execution_count": 61,
   "metadata": {},
   "outputs": [],
   "source": [
    "def _get_accumulation(name=None):\n",
    "    if name is None:\n",
    "        return sum(accumulated.values())\n",
    "        \n"
   ]
  },
  {
   "cell_type": "code",
   "execution_count": null,
   "metadata": {},
   "outputs": [],
   "source": [
    "cp = self.condition_profile[\n",
    "    np.arange(\n",
    "        max(self.t_condition, min(t_start, self.t_max)),\n",
    "        min(t_stop + self.t_condition, self.t_max) + 1,\n",
    "        1,\n",
    "    )\n",
    "]\n",
    "\n",
    "# Fill the start with the current condtiion\n",
    "if t_start < 0:\n",
    "    cp = np.append(np.full(t_start * -1, self.condition), cp)\n",
    "\n",
    "# Fill the end with the failed condition\n",
    "n_after_failure = t_stop - t_start - len(cp) + 1\n",
    "if n_after_failure > 0:\n",
    "    cp = np.append(cp, np.full(max(0, n_after_failure), self.failed))"
   ]
  },
  {
   "cell_type": "code",
   "execution_count": 70,
   "metadata": {
    "tags": []
   },
   "outputs": [
    {
     "output_type": "stream",
     "name": "stdout",
     "text": "45.1 µs ± 5.15 µs per loop (mean ± std. dev. of 7 runs, 10000 loops each)\n"
    }
   ],
   "source": [
    "%%timeit\n",
    "\n",
    "\n",
    "def get_condition_timeline(t_start = 0, t_stop = None, t_delay=0, name='condition')\n",
    "\n",
    "# Get the condition profile\n",
    "cp = _get_condition_profile() - _get_accumulation(name=name)\n",
    "\n",
    "# Subtract accumulated time TODO\n",
    "cp\n",
    "\n",
    "\n"
   ]
  },
  {
   "cell_type": "code",
   "execution_count": 31,
   "metadata": {
    "tags": []
   },
   "outputs": [
    {
     "output_type": "stream",
     "name": "stdout",
     "text": "63 µs ± 13.6 µs per loop (mean ± std. dev. of 7 runs, 10000 loops each)\n"
    }
   ],
   "source": [
    "%%timeit\n",
    "c.set_condition_profile()"
   ]
  },
  {
   "cell_type": "code",
   "execution_count": 36,
   "metadata": {
    "tags": []
   },
   "outputs": [
    {
     "output_type": "stream",
     "name": "stdout",
     "text": "10.6 µs ± 1.01 µs per loop (mean ± std. dev. of 7 runs, 100000 loops each)\n"
    }
   ],
   "source": [
    "%%timeit\n",
    "\n",
    "c.get_condition_profile(2, 8)"
   ]
  },
  {
   "cell_type": "code",
   "execution_count": 22,
   "metadata": {},
   "outputs": [
    {
     "output_type": "error",
     "ename": "TypeError",
     "evalue": "_linspace_dispatcher() missing 1 required positional argument: 'stop'",
     "traceback": [
      "\u001b[1;31m---------------------------------------------------------------------------\u001b[0m",
      "\u001b[1;31mTypeError\u001b[0m                                 Traceback (most recent call last)",
      "\u001b[1;32m<ipython-input-22-18ab20537c6d>\u001b[0m in \u001b[0;36m<module>\u001b[1;34m\u001b[0m\n\u001b[0;32m     22\u001b[0m \u001b[0mn_tiles\u001b[0m \u001b[1;33m=\u001b[0m \u001b[0mint\u001b[0m\u001b[1;33m(\u001b[0m\u001b[1;33m(\u001b[0m\u001b[0mt_end\u001b[0m \u001b[1;33m-\u001b[0m \u001b[0mt_start\u001b[0m\u001b[1;33m)\u001b[0m \u001b[1;33m/\u001b[0m \u001b[0mt_interval\u001b[0m\u001b[1;33m)\u001b[0m\u001b[1;33m\u001b[0m\u001b[1;33m\u001b[0m\u001b[0m\n\u001b[0;32m     23\u001b[0m \u001b[1;33m\u001b[0m\u001b[0m\n\u001b[1;32m---> 24\u001b[1;33m \u001b[0mtile_first\u001b[0m \u001b[1;33m=\u001b[0m \u001b[0mnp\u001b[0m\u001b[1;33m.\u001b[0m\u001b[0mlinspace\u001b[0m\u001b[1;33m(\u001b[0m\u001b[0mt_start\u001b[0m\u001b[1;33m)\u001b[0m\u001b[1;33m\u001b[0m\u001b[1;33m\u001b[0m\u001b[0m\n\u001b[0m\u001b[0;32m     25\u001b[0m \u001b[1;33m\u001b[0m\u001b[0m\n\u001b[0;32m     26\u001b[0m \u001b[0mtile_middle\u001b[0m \u001b[1;33m=\u001b[0m \u001b[1;36m0\u001b[0m\u001b[1;33m\u001b[0m\u001b[1;33m\u001b[0m\u001b[0m\n",
      "\u001b[1;32m<__array_function__ internals>\u001b[0m in \u001b[0;36mlinspace\u001b[1;34m(*args, **kwargs)\u001b[0m\n",
      "\u001b[1;31mTypeError\u001b[0m: _linspace_dispatcher() missing 1 required positional argument: 'stop'"
     ]
    }
   ],
   "source": [
    "\"\"\"\n",
    "    t_start\n",
    "        When to start the tasks\n",
    "\n",
    "    t_interval\n",
    "        How often to repeat the tasks\n",
    "\n",
    "    t_task\n",
    "        The current time for this tasks schedule\n",
    "    \n",
    "    t_end\n",
    "        When to stop the schedule\n",
    "\n",
    "\"\"\"\n",
    "\n",
    "\n",
    "t_start = 3\n",
    "t_end = 20\n",
    "\n",
    "t_task = 1\n",
    "t_interval = 5\n",
    "\n",
    "n_tiles = int((t_end - t_start) / t_interval)\n",
    "\n",
    "tile_first = np.linspace(t_start)\n",
    "\n",
    "tile_middle = 0\n",
    "\n",
    "tile_last = 0\n",
    "\n",
    "np.tile(np.linspace(t_interval, 1, t_interval), n_tiles)\n",
    "\n",
    "int((t_end - t_start) / t_interval)\n",
    "\n",
    "tile = np.concatenate(tile_first, tile_middle, tile_last)"
   ]
  },
  {
   "cell_type": "code",
   "execution_count": null,
   "metadata": {},
   "outputs": [],
   "source": [
    "get_condition_timeline\n",
    "    \"\"\"\n",
    "    returns the condition timeline\n",
    "    \"\"\"\n",
    "\n",
    "\n",
    "\n"
   ]
  },
  {
   "cell_type": "code",
   "execution_count": 74,
   "metadata": {},
   "outputs": [
    {
     "output_type": "error",
     "ename": "SyntaxError",
     "evalue": "invalid syntax (indicator.py, line 50)",
     "traceback": [
      "Traceback \u001b[1;36m(most recent call last)\u001b[0m:\n",
      "  File \u001b[0;32m\"C:\\Users\\gtreseder\\Anaconda3\\lib\\site-packages\\IPython\\core\\interactiveshell.py\"\u001b[0m, line \u001b[0;32m3343\u001b[0m, in \u001b[0;35mrun_code\u001b[0m\n    exec(code_obj, self.user_global_ns, self.user_ns)\n",
      "\u001b[1;36m  File \u001b[1;32m\"<ipython-input-74-fafb2d287926>\"\u001b[1;36m, line \u001b[1;32m1\u001b[1;36m, in \u001b[1;35m<module>\u001b[1;36m\u001b[0m\n\u001b[1;33m    from pof.indicator import PoleIndicator\u001b[0m\n",
      "\u001b[1;36m  File \u001b[1;32m\"c:\\Users\\gtreseder\\OneDrive - KPMG\\Documents\\3. Client\\Essential Energy\\Probability of Failure Model\\pof\\pof\\indicator.py\"\u001b[1;36m, line \u001b[1;32m50\u001b[0m\n\u001b[1;33m    if method == 'safety_factor'\u001b[0m\n\u001b[1;37m                                ^\u001b[0m\n\u001b[1;31mSyntaxError\u001b[0m\u001b[1;31m:\u001b[0m invalid syntax\n"
     ]
    }
   ],
   "source": [
    "from pof.indicator import PoleIndicator"
   ]
  },
  {
   "cell_type": "code",
   "execution_count": null,
   "metadata": {},
   "outputs": [],
   "source": []
  }
 ],
 "metadata": {
  "language_info": {
   "codemirror_mode": {
    "name": "ipython",
    "version": 3
   },
   "file_extension": ".py",
   "mimetype": "text/x-python",
   "name": "python",
   "nbconvert_exporter": "python",
   "pygments_lexer": "ipython3",
   "version": "3.8.3-final"
  },
  "orig_nbformat": 2,
  "kernelspec": {
   "name": "python3",
   "display_name": "Python 3"
  }
 },
 "nbformat": 4,
 "nbformat_minor": 2
}