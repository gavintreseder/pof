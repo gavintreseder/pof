{
 "metadata": {
  "language_info": {
   "codemirror_mode": {
    "name": "ipython",
    "version": 3
   },
   "file_extension": ".py",
   "mimetype": "text/x-python",
   "name": "python",
   "nbconvert_exporter": "python",
   "pygments_lexer": "ipython3",
   "version": "3.9.0-final"
  },
  "orig_nbformat": 2,
  "kernelspec": {
   "name": "python3",
   "display_name": "Python 3",
   "language": "python"
  }
 },
 "nbformat": 4,
 "nbformat_minor": 2,
 "cells": [
  {
   "source": [
    "Units Development Notebook - (this method has replaced)\n"
   ],
   "cell_type": "markdown",
   "metadata": {}
  },
  {
   "cell_type": "code",
   "execution_count": 1,
   "metadata": {},
   "outputs": [],
   "source": [
    "#  Add root folder to python path\n",
    "import sys\n",
    "import os\n",
    "sys.path.append(os.path.dirname(os.getcwd()))"
   ]
  },
  {
   "cell_type": "code",
   "execution_count": 2,
   "metadata": {},
   "outputs": [],
   "source": [
    "# Import all files which contain time variables\n",
    "from pof.failure_mode import FailureMode\n",
    "from pof.task import Task\n",
    "from pof.distribution import Distribution\n",
    "\n",
    "files = [FailureMode, Task, Distribution]"
   ]
  },
  {
   "cell_type": "code",
   "execution_count": 3,
   "metadata": {},
   "outputs": [],
   "source": [
    "# Add file with a dict that has the ratio between units all based in hours and import it at the top\n",
    "import pof.units as units\n",
    "from pof.pof_base import PofBase"
   ]
  },
  {
   "source": [
    "Check that the unit input in the data is valid"
   ],
   "cell_type": "markdown",
   "metadata": {}
  },
  {
   "cell_type": "code",
   "execution_count": 4,
   "metadata": {},
   "outputs": [],
   "source": [
    "#Example input\n",
    "input_unit = \"months\""
   ]
  },
  {
   "cell_type": "code",
   "execution_count": 5,
   "metadata": {},
   "outputs": [],
   "source": [
    "#Dictionary of valid unit expressed in terms of hours\n",
    "valid_units = units.valid_units"
   ]
  },
  {
   "cell_type": "code",
   "execution_count": 6,
   "metadata": {},
   "outputs": [
    {
     "output_type": "stream",
     "name": "stdout",
     "text": [
      "Unit is valid\n"
     ]
    }
   ],
   "source": [
    "#If value input is not in the list of units, raise value error, else continue\n",
    "if input_unit.lower() in valid_units:\n",
    "    print(\"Unit is valid\")\n",
    "else: \n",
    "    raise ValueError(\"Unit must be in \" + valid_units.keys())   "
   ]
  },
  {
   "cell_type": "code",
   "execution_count": 7,
   "metadata": {},
   "outputs": [
    {
     "output_type": "stream",
     "name": "stdout",
     "text": [
      "{'fm': 12.0, 'task': 12.0, 'dist': 12.0}\n"
     ]
    }
   ],
   "source": [
    "# Get the ratio between the current units and the new units\n",
    "current_units=PofBase().units\n",
    "loaded_values=valid_units[input_unit]\n",
    "\n",
    "current_values=dict()\n",
    "ratio=dict()\n",
    "\n",
    "for file in files:\n",
    "    current_values[file().name]=valid_units[current_units]\n",
    "    ratio[file().name]=current_values[file().name] / loaded_values\n",
    "\n",
    "print(ratio)\n"
   ]
  },
  {
   "cell_type": "code",
   "execution_count": 17,
   "metadata": {},
   "outputs": [
    {
     "output_type": "stream",
     "name": "stdout",
     "text": [
      "pf_interval was 0\npf_interval has been changed to 0.0\npf_std was 0\npf_std has been changed to 0.0\nalpha was 50.0\nalpha has been changed to 600.0\ngamma was 10.0\ngamma has been changed to 120.0\n"
     ]
    }
   ],
   "source": [
    "#Loop through all of the attributes affected by this ratio and multiply them\n",
    "\n",
    "# TODO - set time_variables & pof_variables in files\n",
    "\n",
    "for file in files:\n",
    "    file = file()\n",
    "    for variable in file.TIME_VARIABLES:  \n",
    "        # obj = file()\n",
    "        # TODO - make sure they are integers?\n",
    "\n",
    "        try: \n",
    "            print(f\"{variable} was {getattr(file, variable)}\")\n",
    "            i = getattr(file, variable) * ratio[file.name]\n",
    "            setattr(file, variable, i)\n",
    "            print(f\"{variable} has been changed to {getattr(file, variable)}\")\n",
    "        except: \n",
    "            print(f\"Value {variable} in {file.name} is not a number\")"
   ]
  },
  {
   "cell_type": "code",
   "execution_count": 9,
   "metadata": {},
   "outputs": [],
   "source": [
    "fm = FailureMode()\n",
    "setattr(fm, \"pf_interval\", 10)"
   ]
  },
  {
   "cell_type": "code",
   "execution_count": 10,
   "metadata": {},
   "outputs": [
    {
     "output_type": "execute_result",
     "data": {
      "text/plain": [
       "10"
      ]
     },
     "metadata": {},
     "execution_count": 10
    }
   ],
   "source": [
    "getattr(fm, \"pf_interval\")"
   ]
  },
  {
   "cell_type": "code",
   "execution_count": 11,
   "metadata": {},
   "outputs": [],
   "source": [
    "#Test code \n",
    "import sys\n",
    "import os\n",
    "sys.path.append(os.path.dirname(os.getcwd()))\n",
    "from pof.failure_mode import FailureMode\n",
    "from pof.component import Component"
   ]
  },
  {
   "cell_type": "code",
   "execution_count": 18,
   "metadata": {},
   "outputs": [
    {
     "output_type": "stream",
     "name": "stdout",
     "text": [
      "10\n0\n0\n0\n"
     ]
    }
   ],
   "source": [
    "load = Component.demo()\n",
    "for key, fm in load.fm.items():\n",
    "    print(fm.pf_interval)"
   ]
  },
  {
   "cell_type": "code",
   "execution_count": 19,
   "metadata": {},
   "outputs": [
    {
     "output_type": "stream",
     "name": "stdout",
     "text": [
      "120.0\n0.0\n0.0\n0.0\n"
     ]
    }
   ],
   "source": [
    "load.units = \"months\"\n",
    "for key, fm in load.fm.items():\n",
    "    print(fm.pf_interval)"
   ]
  },
  {
   "cell_type": "code",
   "execution_count": null,
   "metadata": {},
   "outputs": [],
   "source": []
  }
 ]
}