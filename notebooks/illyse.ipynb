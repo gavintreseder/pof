{
 "metadata": {
  "language_info": {
   "codemirror_mode": {
    "name": "ipython",
    "version": 3
   },
   "file_extension": ".py",
   "mimetype": "text/x-python",
   "name": "python",
   "nbconvert_exporter": "python",
   "pygments_lexer": "ipython3",
   "version": "3.8.2-final"
  },
  "orig_nbformat": 2,
  "kernelspec": {
   "name": "python38232bitvenvvenv7e9f5a667b184068a3de6d06844f5d98",
   "display_name": "Python 3.8.2 32-bit ('.venv': venv)"
  }
 },
 "nbformat": 4,
 "nbformat_minor": 2,
 "cells": [
  {
   "cell_type": "code",
   "execution_count": 1,
   "metadata": {},
   "outputs": [],
   "source": [
    "import sys\n",
    "import os\n",
    "sys.path.append(os.path.dirname(os.getcwd()))\n",
    "import pandas as pd\n",
    "import scipy.stats as ss\n",
    "import numpy as np\n",
    "import datetime\n",
    "from datetime import date\n",
    "import dask.dataframe as dd\n"
   ]
  },
  {
   "cell_type": "code",
   "execution_count": 2,
   "metadata": {},
   "outputs": [],
   "source": [
    "from pof.loader.fleet_data import FleetData\n",
    "from pof.loader.poles_fleet_data_loader import PolesFleetDataLoader"
   ]
  },
  {
   "cell_type": "code",
   "execution_count": null,
   "metadata": {},
   "outputs": [],
   "source": [
    "#############################################\n",
    "# code to convert txt to csv - NEED TO USE IN SCRIPT\n",
    "#############################################\n",
    "import dask.dataframe as dd\n",
    "\n",
    "path = \"C:\\\\Users\\\\ischram\\\\OneDrive - KPMG\\\\Desktop\\\\Data\"\n",
    "\n",
    "asset_details = \"\\\\ACS - Poles - Asset Details.txt\"\n",
    "condition_history = \"\\\\ACS - Poles - Condition History.txt\"\n",
    "consequence_model = \"\\\\ACS - Poles - Consequence Model Output.txt\"\n",
    "intervention_history = \"\\\\ACS - Poles - Intervention History.csv\"\n",
    "\n",
    "df = dd.read_csv(\n",
    "    path + asset_details,\n",
    "    delimiter=\"\\t\",\n",
    "    blocksize=16 * 1024 * 1024,\n",
    "    dtype={\"Pole Length\": \"object\"},\n",
    ")\n",
    "\n",
    "df.to_csv(path + \"\\\\asset.csv\", single_file=True, chunksize=1000)\n",
    "\n",
    "d = dd.read_csv(\n",
    "    path + condition_history,\n",
    "    delimiter=\"\\t\",\n",
    "    blocksize=16 * 1024 * 1024,\n",
    "    dtype={\"After Value\": \"object\", \"Before Value\": \"object\"},\n",
    ")\n",
    "\n",
    "d.to_csv(\n",
    "    path + \"\\\\condition.csv\",\n",
    "    single_file=True,\n",
    "    chunksize=1000,\n",
    ")\n",
    "\n",
    "txt_chunks = pd.read_csv(\n",
    "    path + consequence_model,\n",
    "    delimiter=\"\\t\",\n",
    "    encoding=\"utf-16\",\n",
    "    chunksize=10000,\n",
    ")\n",
    "df = pd.concat(chunk for chunk in txt_chunks)\n",
    "df.to_csv(path + \"\\\\consequence.csv\")\n",
    "\n",
    "#########################################################"
   ]
  },
  {
   "cell_type": "code",
   "execution_count": 3,
   "metadata": {},
   "outputs": [],
   "source": [
    "#######################################\n",
    "\n",
    "##### SMALL DATA TEST POP SUMMARY #######\n",
    "\n",
    "\n",
    "# number of assets to generate\n",
    "n_assets = 10\n",
    "\n",
    "# gen fleet data\n",
    "fd = FleetData._gen_fleet_data(n_assets = 10)"
   ]
  },
  {
   "cell_type": "code",
   "execution_count": 4,
   "metadata": {},
   "outputs": [],
   "source": [
    "#attributes to keep and remove\n",
    "attributes = {\"att_1\":[], \"att_2\":[], \"age\" : [], \"code_1_perfect_condition\":[], \"code_2_condition_loss\":[], \"code_2_perfect_condition\":[]}\n",
    "\n",
    "remove = None"
   ]
  },
  {
   "cell_type": "code",
   "execution_count": 5,
   "metadata": {},
   "outputs": [],
   "source": [
    "#populations summary (dask)\n",
    "summary = fd.get_population_summary(by = attributes, remove = remove, n_bins = 10)"
   ]
  },
  {
   "cell_type": "code",
   "execution_count": 6,
   "metadata": {},
   "outputs": [
    {
     "output_type": "execute_result",
     "data": {
      "text/plain": [
       "     att_1  att_2  age  code_1_perfect_condition code_2_condition_loss  \\\n",
       "0   type_1  var_1    7                     100.0                   NaN   \n",
       "1   type_1  var_2    3                     100.0                   NaN   \n",
       "2   type_1  var_3    1                     100.0                   NaN   \n",
       "3   type_1  var_3    6                     100.0                   NaN   \n",
       "4   type_2  var_1    4                       NaN                 False   \n",
       "5   type_2  var_1   10                       NaN                  True   \n",
       "6   type_2  var_2    2                       NaN                 False   \n",
       "7   type_2  var_2    2                       NaN                  True   \n",
       "8   type_2  var_2    3                       NaN                  True   \n",
       "9   type_2  var_3    5                       NaN                 False   \n",
       "10  type_2  var_3    5                       NaN                  True   \n",
       "\n",
       "    code_2_perfect_condition  count  \n",
       "0                        NaN      3  \n",
       "1                        NaN      2  \n",
       "2                        NaN      1  \n",
       "3                        NaN      1  \n",
       "4                       90.0      1  \n",
       "5                      100.0      1  \n",
       "6                      100.0      1  \n",
       "7                      100.0      1  \n",
       "8                      100.0      1  \n",
       "9                      100.0      1  \n",
       "10                     100.0      1  "
      ],
      "text/html": "<div>\n<style scoped>\n    .dataframe tbody tr th:only-of-type {\n        vertical-align: middle;\n    }\n\n    .dataframe tbody tr th {\n        vertical-align: top;\n    }\n\n    .dataframe thead th {\n        text-align: right;\n    }\n</style>\n<table border=\"1\" class=\"dataframe\">\n  <thead>\n    <tr style=\"text-align: right;\">\n      <th></th>\n      <th>att_1</th>\n      <th>att_2</th>\n      <th>age</th>\n      <th>code_1_perfect_condition</th>\n      <th>code_2_condition_loss</th>\n      <th>code_2_perfect_condition</th>\n      <th>count</th>\n    </tr>\n  </thead>\n  <tbody>\n    <tr>\n      <th>0</th>\n      <td>type_1</td>\n      <td>var_1</td>\n      <td>7</td>\n      <td>100.0</td>\n      <td>NaN</td>\n      <td>NaN</td>\n      <td>3</td>\n    </tr>\n    <tr>\n      <th>1</th>\n      <td>type_1</td>\n      <td>var_2</td>\n      <td>3</td>\n      <td>100.0</td>\n      <td>NaN</td>\n      <td>NaN</td>\n      <td>2</td>\n    </tr>\n    <tr>\n      <th>2</th>\n      <td>type_1</td>\n      <td>var_3</td>\n      <td>1</td>\n      <td>100.0</td>\n      <td>NaN</td>\n      <td>NaN</td>\n      <td>1</td>\n    </tr>\n    <tr>\n      <th>3</th>\n      <td>type_1</td>\n      <td>var_3</td>\n      <td>6</td>\n      <td>100.0</td>\n      <td>NaN</td>\n      <td>NaN</td>\n      <td>1</td>\n    </tr>\n    <tr>\n      <th>4</th>\n      <td>type_2</td>\n      <td>var_1</td>\n      <td>4</td>\n      <td>NaN</td>\n      <td>False</td>\n      <td>90.0</td>\n      <td>1</td>\n    </tr>\n    <tr>\n      <th>5</th>\n      <td>type_2</td>\n      <td>var_1</td>\n      <td>10</td>\n      <td>NaN</td>\n      <td>True</td>\n      <td>100.0</td>\n      <td>1</td>\n    </tr>\n    <tr>\n      <th>6</th>\n      <td>type_2</td>\n      <td>var_2</td>\n      <td>2</td>\n      <td>NaN</td>\n      <td>False</td>\n      <td>100.0</td>\n      <td>1</td>\n    </tr>\n    <tr>\n      <th>7</th>\n      <td>type_2</td>\n      <td>var_2</td>\n      <td>2</td>\n      <td>NaN</td>\n      <td>True</td>\n      <td>100.0</td>\n      <td>1</td>\n    </tr>\n    <tr>\n      <th>8</th>\n      <td>type_2</td>\n      <td>var_2</td>\n      <td>3</td>\n      <td>NaN</td>\n      <td>True</td>\n      <td>100.0</td>\n      <td>1</td>\n    </tr>\n    <tr>\n      <th>9</th>\n      <td>type_2</td>\n      <td>var_3</td>\n      <td>5</td>\n      <td>NaN</td>\n      <td>False</td>\n      <td>100.0</td>\n      <td>1</td>\n    </tr>\n    <tr>\n      <th>10</th>\n      <td>type_2</td>\n      <td>var_3</td>\n      <td>5</td>\n      <td>NaN</td>\n      <td>True</td>\n      <td>100.0</td>\n      <td>1</td>\n    </tr>\n  </tbody>\n</table>\n</div>"
     },
     "metadata": {},
     "execution_count": 6
    }
   ],
   "source": [
    "summary.compute()"
   ]
  },
  {
   "cell_type": "code",
   "execution_count": null,
   "metadata": {},
   "outputs": [],
   "source": []
  }
 ]
}