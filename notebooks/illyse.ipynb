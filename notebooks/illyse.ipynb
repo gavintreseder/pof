{
 "metadata": {
  "language_info": {
   "codemirror_mode": {
    "name": "ipython",
    "version": 3
   },
   "file_extension": ".py",
   "mimetype": "text/x-python",
   "name": "python",
   "nbconvert_exporter": "python",
   "pygments_lexer": "ipython3",
   "version": "3.8.3-final"
  },
  "orig_nbformat": 2,
  "kernelspec": {
   "name": "Python 3.8.3 64-bit ('pof': pipenv)",
   "display_name": "Python 3.8.3 64-bit ('pof': pipenv)",
   "metadata": {
    "interpreter": {
     "hash": "a38ce0f87e5f8a0ab913a5df508d96de373270aa0b3fee915c840273dbdccd07"
    }
   }
  }
 },
 "nbformat": 4,
 "nbformat_minor": 2,
 "cells": [
  {
   "source": [
    "# Illyse \n",
    "The purpose of this notebook is to test random concepts"
   ],
   "cell_type": "markdown",
   "metadata": {}
  },
  {
   "cell_type": "code",
   "execution_count": 1,
   "metadata": {},
   "outputs": [],
   "source": [
    "# Set the correct working directory so pof code can be read\n",
    "import sys\n",
    "import os\n",
    "sys.path.append(os.path.dirname(os.getcwd()))\n"
   ]
  },
  {
   "cell_type": "code",
   "execution_count": 2,
   "metadata": {},
   "outputs": [],
   "source": [
    "import logging\n",
    "import datetime\n",
    "from datetime import date\n",
    "\n",
    "import dask.dataframe as dd\n",
    "import numpy as np\n",
    "import pandas as pd\n",
    "import scipy.stats as ss\n",
    "\n",
    "from pof.loader.fleet_data import FleetData\n",
    "from pof.loader.poles_fleet_data_loader import PolesFleetDataLoader"
   ]
  },
  {
   "cell_type": "code",
   "execution_count": 3,
   "metadata": {},
   "outputs": [],
   "source": [
    "#######################################\n",
    "\n",
    "##### SMALL DATA TEST POP SUMMARY #######\n",
    "\n",
    "\n",
    "# number of assets to generate\n",
    "n_assets = 10\n",
    "\n",
    "# gen fleet data\n",
    "fd = FleetData._gen_fleet_data(n_assets = 10)"
   ]
  },
  {
   "cell_type": "code",
   "execution_count": 4,
   "metadata": {},
   "outputs": [],
   "source": [
    "#attributes to keep and remove\n",
    "attributes = {\"att_1\":[], \"att_2\":[], \"age\" : [], \"code_1_perfect_condition\":[], \"code_2_condition_loss\":[], \"code_2_perfect_condition\":[]}\n",
    "\n",
    "remove = None"
   ]
  },
  {
   "cell_type": "code",
   "execution_count": 5,
   "metadata": {},
   "outputs": [],
   "source": [
    "#populations summary (dask)\n",
    "summary = fd.get_population_summary(by = attributes, remove = remove, n_bins = 10)"
   ]
  },
  {
   "cell_type": "code",
   "execution_count": 6,
   "metadata": {},
   "outputs": [
    {
     "output_type": "execute_result",
     "data": {
      "text/plain": [
       "     att_1  att_2  age  code_1_perfect_condition code_2_condition_loss  \\\n",
       "0   type_1  var_1    5                     100.0                   NaN   \n",
       "1   type_1  var_1    6                     100.0                   NaN   \n",
       "2   type_1  var_2    3                     100.0                   NaN   \n",
       "3   type_1  var_3    4                     100.0                   NaN   \n",
       "4   type_1  var_3   10                     100.0                   NaN   \n",
       "5   type_2  var_1   10                       NaN                 False   \n",
       "6   type_2  var_1   10                       NaN                 False   \n",
       "7   type_2  var_2    8                       NaN                  True   \n",
       "8   type_2  var_2   10                       NaN                 False   \n",
       "9   type_2  var_3    8                       NaN                 False   \n",
       "10  type_2  var_3    8                       NaN                  True   \n",
       "\n",
       "    code_2_perfect_condition  count  \n",
       "0                        NaN      1  \n",
       "1                        NaN      2  \n",
       "2                        NaN      1  \n",
       "3                        NaN      1  \n",
       "4                        NaN      2  \n",
       "5                       90.0      1  \n",
       "6                      100.0      1  \n",
       "7                      100.0      1  \n",
       "8                      100.0      1  \n",
       "9                      100.0      1  \n",
       "10                     100.0      1  "
      ],
      "text/html": "<div>\n<style scoped>\n    .dataframe tbody tr th:only-of-type {\n        vertical-align: middle;\n    }\n\n    .dataframe tbody tr th {\n        vertical-align: top;\n    }\n\n    .dataframe thead th {\n        text-align: right;\n    }\n</style>\n<table border=\"1\" class=\"dataframe\">\n  <thead>\n    <tr style=\"text-align: right;\">\n      <th></th>\n      <th>att_1</th>\n      <th>att_2</th>\n      <th>age</th>\n      <th>code_1_perfect_condition</th>\n      <th>code_2_condition_loss</th>\n      <th>code_2_perfect_condition</th>\n      <th>count</th>\n    </tr>\n  </thead>\n  <tbody>\n    <tr>\n      <th>0</th>\n      <td>type_1</td>\n      <td>var_1</td>\n      <td>5</td>\n      <td>100.0</td>\n      <td>NaN</td>\n      <td>NaN</td>\n      <td>1</td>\n    </tr>\n    <tr>\n      <th>1</th>\n      <td>type_1</td>\n      <td>var_1</td>\n      <td>6</td>\n      <td>100.0</td>\n      <td>NaN</td>\n      <td>NaN</td>\n      <td>2</td>\n    </tr>\n    <tr>\n      <th>2</th>\n      <td>type_1</td>\n      <td>var_2</td>\n      <td>3</td>\n      <td>100.0</td>\n      <td>NaN</td>\n      <td>NaN</td>\n      <td>1</td>\n    </tr>\n    <tr>\n      <th>3</th>\n      <td>type_1</td>\n      <td>var_3</td>\n      <td>4</td>\n      <td>100.0</td>\n      <td>NaN</td>\n      <td>NaN</td>\n      <td>1</td>\n    </tr>\n    <tr>\n      <th>4</th>\n      <td>type_1</td>\n      <td>var_3</td>\n      <td>10</td>\n      <td>100.0</td>\n      <td>NaN</td>\n      <td>NaN</td>\n      <td>2</td>\n    </tr>\n    <tr>\n      <th>5</th>\n      <td>type_2</td>\n      <td>var_1</td>\n      <td>10</td>\n      <td>NaN</td>\n      <td>False</td>\n      <td>90.0</td>\n      <td>1</td>\n    </tr>\n    <tr>\n      <th>6</th>\n      <td>type_2</td>\n      <td>var_1</td>\n      <td>10</td>\n      <td>NaN</td>\n      <td>False</td>\n      <td>100.0</td>\n      <td>1</td>\n    </tr>\n    <tr>\n      <th>7</th>\n      <td>type_2</td>\n      <td>var_2</td>\n      <td>8</td>\n      <td>NaN</td>\n      <td>True</td>\n      <td>100.0</td>\n      <td>1</td>\n    </tr>\n    <tr>\n      <th>8</th>\n      <td>type_2</td>\n      <td>var_2</td>\n      <td>10</td>\n      <td>NaN</td>\n      <td>False</td>\n      <td>100.0</td>\n      <td>1</td>\n    </tr>\n    <tr>\n      <th>9</th>\n      <td>type_2</td>\n      <td>var_3</td>\n      <td>8</td>\n      <td>NaN</td>\n      <td>False</td>\n      <td>100.0</td>\n      <td>1</td>\n    </tr>\n    <tr>\n      <th>10</th>\n      <td>type_2</td>\n      <td>var_3</td>\n      <td>8</td>\n      <td>NaN</td>\n      <td>True</td>\n      <td>100.0</td>\n      <td>1</td>\n    </tr>\n  </tbody>\n</table>\n</div>"
     },
     "metadata": {},
     "execution_count": 6
    }
   ],
   "source": [
    "summary.compute()"
   ]
  },
  {
   "cell_type": "code",
   "execution_count": null,
   "metadata": {},
   "outputs": [],
   "source": []
  }
 ]
}