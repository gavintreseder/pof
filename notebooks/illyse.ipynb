{
 "metadata": {
  "language_info": {
   "codemirror_mode": {
    "name": "ipython",
    "version": 3
   },
   "file_extension": ".py",
   "mimetype": "text/x-python",
   "name": "python",
   "nbconvert_exporter": "python",
   "pygments_lexer": "ipython3",
   "version": "3.8.0-final"
  },
  "orig_nbformat": 2,
  "kernelspec": {
   "name": "Python 3.8.0 64-bit ('pof': pipenv)",
   "display_name": "Python 3.8.0 64-bit ('pof': pipenv)",
   "metadata": {
    "interpreter": {
     "hash": "83f5435de71ac2e4b8e526773c414dfa133bd8a552d9417fb4333a67a7eadc67"
    }
   }
  }
 },
 "nbformat": 4,
 "nbformat_minor": 2,
 "cells": [
  {
   "source": [
    "# Illyse \n",
    "The purpose of this notebook is to test random concepts"
   ],
   "cell_type": "markdown",
   "metadata": {}
  },
  {
   "cell_type": "code",
   "execution_count": 1,
   "metadata": {},
   "outputs": [],
   "source": [
    "# Set the correct working directory so pof code can be read\n",
    "import sys\n",
    "import os\n",
    "sys.path.append(os.path.dirname(os.getcwd()))\n"
   ]
  },
  {
   "cell_type": "code",
   "execution_count": 2,
   "metadata": {},
   "outputs": [],
   "source": [
    "import logging\n",
    "import datetime\n",
    "from datetime import date\n",
    "\n",
    "import dask.dataframe as dd\n",
    "import numpy as np\n",
    "import pandas as pd\n",
    "import scipy.stats as ss\n",
    "\n",
    "from pof.loader.fleet_data import FleetData\n",
    "from pof.loader.poles_fleet_data_loader import PolesFleetDataLoader"
   ]
  },
  {
   "cell_type": "code",
   "execution_count": 3,
   "metadata": {},
   "outputs": [],
   "source": [
    "#######################################\n",
    "\n",
    "##### SMALL DATA TEST POP SUMMARY #######\n",
    "\n",
    "\n",
    "# number of assets to generate\n",
    "n_assets = 10\n",
    "\n",
    "# gen fleet data\n",
    "fd = FleetData._gen_fleet_data(n_assets = 10)"
   ]
  },
  {
   "cell_type": "code",
   "execution_count": 3,
   "metadata": {},
   "outputs": [],
   "source": [
    "#attributes to keep and remove\n",
    "attributes = {\"att_1\":[], \"att_2\":[], \"age\" : [], \"code_1_perfect_condition\":[], \"code_2_condition_loss\":[], \"code_2_perfect_condition\":[]}\n",
    "\n",
    "remove = None"
   ]
  },
  {
   "cell_type": "code",
   "execution_count": 4,
   "metadata": {},
   "outputs": [
    {
     "output_type": "error",
     "ename": "NameError",
     "evalue": "name 'fd' is not defined",
     "traceback": [
      "\u001b[1;31m---------------------------------------------------------------------------\u001b[0m",
      "\u001b[1;31mNameError\u001b[0m                                 Traceback (most recent call last)",
      "\u001b[1;32m<ipython-input-4-17dde3156d31>\u001b[0m in \u001b[0;36m<module>\u001b[1;34m\u001b[0m\n\u001b[0;32m      1\u001b[0m \u001b[1;31m#populations summary (dask)\u001b[0m\u001b[1;33m\u001b[0m\u001b[1;33m\u001b[0m\u001b[1;33m\u001b[0m\u001b[0m\n\u001b[1;32m----> 2\u001b[1;33m \u001b[0msummary\u001b[0m \u001b[1;33m=\u001b[0m \u001b[0mfd\u001b[0m\u001b[1;33m.\u001b[0m\u001b[0mget_population_summary\u001b[0m\u001b[1;33m(\u001b[0m\u001b[0mby\u001b[0m \u001b[1;33m=\u001b[0m \u001b[0mattributes\u001b[0m\u001b[1;33m,\u001b[0m \u001b[0mremove\u001b[0m \u001b[1;33m=\u001b[0m \u001b[0mremove\u001b[0m\u001b[1;33m,\u001b[0m \u001b[0mn_bins\u001b[0m \u001b[1;33m=\u001b[0m \u001b[1;36m10\u001b[0m\u001b[1;33m)\u001b[0m\u001b[1;33m\u001b[0m\u001b[1;33m\u001b[0m\u001b[0m\n\u001b[0m",
      "\u001b[1;31mNameError\u001b[0m: name 'fd' is not defined"
     ]
    }
   ],
   "source": [
    "#populations summary (dask)\n",
    "summary = fd.get_population_summary(by = attributes, remove = remove, n_bins = 10)"
   ]
  },
  {
   "cell_type": "code",
   "execution_count": 6,
   "metadata": {},
   "outputs": [
    {
     "output_type": "execute_result",
     "data": {
      "text/plain": [
       "     att_1  att_2  age  code_1_perfect_condition code_2_condition_loss  \\\n",
       "0   type_1  var_1    5                     100.0                   NaN   \n",
       "1   type_1  var_1    6                     100.0                   NaN   \n",
       "2   type_1  var_2    3                     100.0                   NaN   \n",
       "3   type_1  var_3    4                     100.0                   NaN   \n",
       "4   type_1  var_3   10                     100.0                   NaN   \n",
       "5   type_2  var_1   10                       NaN                 False   \n",
       "6   type_2  var_1   10                       NaN                 False   \n",
       "7   type_2  var_2    8                       NaN                  True   \n",
       "8   type_2  var_2   10                       NaN                 False   \n",
       "9   type_2  var_3    8                       NaN                 False   \n",
       "10  type_2  var_3    8                       NaN                  True   \n",
       "\n",
       "    code_2_perfect_condition  count  \n",
       "0                        NaN      1  \n",
       "1                        NaN      2  \n",
       "2                        NaN      1  \n",
       "3                        NaN      1  \n",
       "4                        NaN      2  \n",
       "5                       90.0      1  \n",
       "6                      100.0      1  \n",
       "7                      100.0      1  \n",
       "8                      100.0      1  \n",
       "9                      100.0      1  \n",
       "10                     100.0      1  "
      ],
      "text/html": "<div>\n<style scoped>\n    .dataframe tbody tr th:only-of-type {\n        vertical-align: middle;\n    }\n\n    .dataframe tbody tr th {\n        vertical-align: top;\n    }\n\n    .dataframe thead th {\n        text-align: right;\n    }\n</style>\n<table border=\"1\" class=\"dataframe\">\n  <thead>\n    <tr style=\"text-align: right;\">\n      <th></th>\n      <th>att_1</th>\n      <th>att_2</th>\n      <th>age</th>\n      <th>code_1_perfect_condition</th>\n      <th>code_2_condition_loss</th>\n      <th>code_2_perfect_condition</th>\n      <th>count</th>\n    </tr>\n  </thead>\n  <tbody>\n    <tr>\n      <th>0</th>\n      <td>type_1</td>\n      <td>var_1</td>\n      <td>5</td>\n      <td>100.0</td>\n      <td>NaN</td>\n      <td>NaN</td>\n      <td>1</td>\n    </tr>\n    <tr>\n      <th>1</th>\n      <td>type_1</td>\n      <td>var_1</td>\n      <td>6</td>\n      <td>100.0</td>\n      <td>NaN</td>\n      <td>NaN</td>\n      <td>2</td>\n    </tr>\n    <tr>\n      <th>2</th>\n      <td>type_1</td>\n      <td>var_2</td>\n      <td>3</td>\n      <td>100.0</td>\n      <td>NaN</td>\n      <td>NaN</td>\n      <td>1</td>\n    </tr>\n    <tr>\n      <th>3</th>\n      <td>type_1</td>\n      <td>var_3</td>\n      <td>4</td>\n      <td>100.0</td>\n      <td>NaN</td>\n      <td>NaN</td>\n      <td>1</td>\n    </tr>\n    <tr>\n      <th>4</th>\n      <td>type_1</td>\n      <td>var_3</td>\n      <td>10</td>\n      <td>100.0</td>\n      <td>NaN</td>\n      <td>NaN</td>\n      <td>2</td>\n    </tr>\n    <tr>\n      <th>5</th>\n      <td>type_2</td>\n      <td>var_1</td>\n      <td>10</td>\n      <td>NaN</td>\n      <td>False</td>\n      <td>90.0</td>\n      <td>1</td>\n    </tr>\n    <tr>\n      <th>6</th>\n      <td>type_2</td>\n      <td>var_1</td>\n      <td>10</td>\n      <td>NaN</td>\n      <td>False</td>\n      <td>100.0</td>\n      <td>1</td>\n    </tr>\n    <tr>\n      <th>7</th>\n      <td>type_2</td>\n      <td>var_2</td>\n      <td>8</td>\n      <td>NaN</td>\n      <td>True</td>\n      <td>100.0</td>\n      <td>1</td>\n    </tr>\n    <tr>\n      <th>8</th>\n      <td>type_2</td>\n      <td>var_2</td>\n      <td>10</td>\n      <td>NaN</td>\n      <td>False</td>\n      <td>100.0</td>\n      <td>1</td>\n    </tr>\n    <tr>\n      <th>9</th>\n      <td>type_2</td>\n      <td>var_3</td>\n      <td>8</td>\n      <td>NaN</td>\n      <td>False</td>\n      <td>100.0</td>\n      <td>1</td>\n    </tr>\n    <tr>\n      <th>10</th>\n      <td>type_2</td>\n      <td>var_3</td>\n      <td>8</td>\n      <td>NaN</td>\n      <td>True</td>\n      <td>100.0</td>\n      <td>1</td>\n    </tr>\n  </tbody>\n</table>\n</div>"
     },
     "metadata": {},
     "execution_count": 6
    }
   ],
   "source": [
    "summary.compute()"
   ]
  },
  {
   "cell_type": "code",
   "execution_count": 11,
   "metadata": {},
   "outputs": [
    {
     "output_type": "error",
     "ename": "ModuleNotFoundError",
     "evalue": "No module named 'sleep'",
     "traceback": [
      "\u001b[1;31m---------------------------------------------------------------------------\u001b[0m",
      "\u001b[1;31mModuleNotFoundError\u001b[0m                       Traceback (most recent call last)",
      "\u001b[1;32m<ipython-input-11-3a9a4db84211>\u001b[0m in \u001b[0;36m<module>\u001b[1;34m\u001b[0m\n\u001b[0;32m      1\u001b[0m \u001b[1;32mimport\u001b[0m \u001b[0mlogging\u001b[0m\u001b[1;33m\u001b[0m\u001b[1;33m\u001b[0m\u001b[0m\n\u001b[1;32m----> 2\u001b[1;33m \u001b[1;32mimport\u001b[0m \u001b[0msleep\u001b[0m\u001b[1;33m\u001b[0m\u001b[1;33m\u001b[0m\u001b[0m\n\u001b[0m\u001b[0;32m      3\u001b[0m \u001b[1;33m\u001b[0m\u001b[0m\n\u001b[0;32m      4\u001b[0m \u001b[0mlogging\u001b[0m\u001b[1;33m.\u001b[0m\u001b[0mgetLogger\u001b[0m\u001b[1;33m(\u001b[0m\u001b[1;33m)\u001b[0m\u001b[1;33m.\u001b[0m\u001b[0msetLevel\u001b[0m\u001b[1;33m(\u001b[0m\u001b[0mlogging\u001b[0m\u001b[1;33m.\u001b[0m\u001b[0mDEBUG\u001b[0m\u001b[1;33m)\u001b[0m\u001b[1;33m\u001b[0m\u001b[1;33m\u001b[0m\u001b[0m\n\u001b[0;32m      5\u001b[0m \u001b[1;33m\u001b[0m\u001b[0m\n",
      "\u001b[1;31mModuleNotFoundError\u001b[0m: No module named 'sleep'"
     ]
    }
   ],
   "source": [
    "import logging\n",
    "\n",
    "\n",
    "logging.getLogger().setLevel(logging.DEBUG)\n",
    "\n",
    "logging.info(\"Before the for loop\")\n",
    "for i in range(10):\n",
    "    logging.debug(f\"i value is {i}\")\n",
    "\n",
    "\n",
    "logging.info(\"work completed\")\n"
   ]
  },
  {
   "cell_type": "code",
   "execution_count": null,
   "metadata": {},
   "outputs": [],
   "source": []
  }
 ]
}