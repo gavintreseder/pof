{
 "metadata": {
  "language_info": {
   "codemirror_mode": {
    "name": "ipython",
    "version": 3
   },
   "file_extension": ".py",
   "mimetype": "text/x-python",
   "name": "python",
   "nbconvert_exporter": "python",
   "pygments_lexer": "ipython3",
   "version": "3.8.0-final"
  },
  "orig_nbformat": 2,
  "kernelspec": {
   "name": "Python 3.8.0 64-bit ('pof': pipenv)",
   "display_name": "Python 3.8.0 64-bit ('pof': pipenv)",
   "metadata": {
    "interpreter": {
     "hash": "83f5435de71ac2e4b8e526773c414dfa133bd8a552d9417fb4333a67a7eadc67"
    }
   }
  }
 },
 "nbformat": 4,
 "nbformat_minor": 2,
 "cells": [
  {
   "cell_type": "code",
   "execution_count": 1,
   "metadata": {},
   "outputs": [],
   "source": [
    "import sys\n",
    "import os\n",
    "sys.path.append(os.path.dirname(os.getcwd()))\n",
    "import pandas as pd\n",
    "import scipy.stats as ss\n",
    "import numpy as np\n",
    "import datetime\n",
    "from datetime import date\n",
    "import dask.dataframe as dd\n"
   ]
  },
  {
   "cell_type": "code",
   "execution_count": 2,
   "metadata": {},
   "outputs": [],
   "source": [
    "from pof.loader.fleet_data import FleetData\n",
    "from pof.loader.poles_fleet_data_loader import PolesFleetDataLoader"
   ]
  },
  {
   "cell_type": "code",
   "execution_count": null,
   "metadata": {},
   "outputs": [],
   "source": [
    "#############################################\n",
    "# code to convert txt to csv - NEED TO USE IN SCRIPT\n",
    "#############################################\n",
    "import dask.dataframe as dd\n",
    "\n",
    "path = \"C:\\\\Users\\\\ischram\\\\OneDrive - KPMG\\\\Desktop\\\\Data\"\n",
    "\n",
    "asset_details = \"\\\\ACS - Poles - Asset Details.txt\"\n",
    "condition_history = \"\\\\ACS - Poles - Condition History.txt\"\n",
    "consequence_model = \"\\\\ACS - Poles - Consequence Model Output.txt\"\n",
    "intervention_history = \"\\\\ACS - Poles - Intervention History.csv\"\n",
    "\n",
    "df = dd.read_csv(\n",
    "    path + asset_details,\n",
    "    delimiter=\"\\t\",\n",
    "    blocksize=16 * 1024 * 1024,\n",
    "    dtype={\"Pole Length\": \"object\"},\n",
    ")\n",
    "\n",
    "df.to_csv(path + \"\\\\asset.csv\", single_file=True, chunksize=1000)\n",
    "\n",
    "d = dd.read_csv(\n",
    "    path + condition_history,\n",
    "    delimiter=\"\\t\",\n",
    "    blocksize=16 * 1024 * 1024,\n",
    "    dtype={\"After Value\": \"object\", \"Before Value\": \"object\"},\n",
    ")\n",
    "\n",
    "d.to_csv(\n",
    "    path + \"\\\\condition.csv\",\n",
    "    single_file=True,\n",
    "    chunksize=1000,\n",
    ")\n",
    "\n",
    "txt_chunks = pd.read_csv(\n",
    "    path + consequence_model,\n",
    "    delimiter=\"\\t\",\n",
    "    encoding=\"utf-16\",\n",
    "    chunksize=10000,\n",
    ")\n",
    "df = pd.concat(chunk for chunk in txt_chunks)\n",
    "df.to_csv(path + \"\\\\consequence.csv\")\n",
    "\n",
    "#########################################################"
   ]
  },
  {
   "cell_type": "code",
   "execution_count": 3,
   "metadata": {},
   "outputs": [],
   "source": [
    "#######################################\n",
    "\n",
    "##### SMALL DATA TEST POP SUMMARY #######\n",
    "\n",
    "\n",
    "# number of assets to generate\n",
    "n_assets = 10\n",
    "\n",
    "# gen fleet data\n",
    "fd = FleetData._gen_fleet_data(n_assets = 10)"
   ]
  },
  {
   "cell_type": "code",
   "execution_count": 3,
   "metadata": {},
   "outputs": [],
   "source": [
    "#attributes to keep and remove\n",
    "attributes = {\"att_1\":[], \"att_2\":[], \"age\" : [], \"code_1_perfect_condition\":[], \"code_2_condition_loss\":[], \"code_2_perfect_condition\":[]}\n",
    "\n",
    "remove = None"
   ]
  },
  {
   "cell_type": "code",
   "execution_count": 4,
   "metadata": {},
   "outputs": [
    {
     "output_type": "error",
     "ename": "NameError",
     "evalue": "name 'fd' is not defined",
     "traceback": [
      "\u001b[1;31m---------------------------------------------------------------------------\u001b[0m",
      "\u001b[1;31mNameError\u001b[0m                                 Traceback (most recent call last)",
      "\u001b[1;32m<ipython-input-4-17dde3156d31>\u001b[0m in \u001b[0;36m<module>\u001b[1;34m\u001b[0m\n\u001b[0;32m      1\u001b[0m \u001b[1;31m#populations summary (dask)\u001b[0m\u001b[1;33m\u001b[0m\u001b[1;33m\u001b[0m\u001b[1;33m\u001b[0m\u001b[0m\n\u001b[1;32m----> 2\u001b[1;33m \u001b[0msummary\u001b[0m \u001b[1;33m=\u001b[0m \u001b[0mfd\u001b[0m\u001b[1;33m.\u001b[0m\u001b[0mget_population_summary\u001b[0m\u001b[1;33m(\u001b[0m\u001b[0mby\u001b[0m \u001b[1;33m=\u001b[0m \u001b[0mattributes\u001b[0m\u001b[1;33m,\u001b[0m \u001b[0mremove\u001b[0m \u001b[1;33m=\u001b[0m \u001b[0mremove\u001b[0m\u001b[1;33m,\u001b[0m \u001b[0mn_bins\u001b[0m \u001b[1;33m=\u001b[0m \u001b[1;36m10\u001b[0m\u001b[1;33m)\u001b[0m\u001b[1;33m\u001b[0m\u001b[1;33m\u001b[0m\u001b[0m\n\u001b[0m",
      "\u001b[1;31mNameError\u001b[0m: name 'fd' is not defined"
     ]
    }
   ],
   "source": [
    "#populations summary (dask)\n",
    "summary = fd.get_population_summary(by = attributes, remove = remove, n_bins = 10)"
   ]
  },
  {
   "cell_type": "code",
   "execution_count": 6,
   "metadata": {},
   "outputs": [
    {
     "output_type": "execute_result",
     "data": {
      "text/plain": [
       "     att_1  att_2  age  code_1_perfect_condition code_2_condition_loss  \\\n",
       "0   type_1  var_1    7                     100.0                   NaN   \n",
       "1   type_1  var_2    3                     100.0                   NaN   \n",
       "2   type_1  var_3    1                     100.0                   NaN   \n",
       "3   type_1  var_3    6                     100.0                   NaN   \n",
       "4   type_2  var_1    4                       NaN                 False   \n",
       "5   type_2  var_1   10                       NaN                  True   \n",
       "6   type_2  var_2    2                       NaN                 False   \n",
       "7   type_2  var_2    2                       NaN                  True   \n",
       "8   type_2  var_2    3                       NaN                  True   \n",
       "9   type_2  var_3    5                       NaN                 False   \n",
       "10  type_2  var_3    5                       NaN                  True   \n",
       "\n",
       "    code_2_perfect_condition  count  \n",
       "0                        NaN      3  \n",
       "1                        NaN      2  \n",
       "2                        NaN      1  \n",
       "3                        NaN      1  \n",
       "4                       90.0      1  \n",
       "5                      100.0      1  \n",
       "6                      100.0      1  \n",
       "7                      100.0      1  \n",
       "8                      100.0      1  \n",
       "9                      100.0      1  \n",
       "10                     100.0      1  "
      ],
      "text/html": "<div>\n<style scoped>\n    .dataframe tbody tr th:only-of-type {\n        vertical-align: middle;\n    }\n\n    .dataframe tbody tr th {\n        vertical-align: top;\n    }\n\n    .dataframe thead th {\n        text-align: right;\n    }\n</style>\n<table border=\"1\" class=\"dataframe\">\n  <thead>\n    <tr style=\"text-align: right;\">\n      <th></th>\n      <th>att_1</th>\n      <th>att_2</th>\n      <th>age</th>\n      <th>code_1_perfect_condition</th>\n      <th>code_2_condition_loss</th>\n      <th>code_2_perfect_condition</th>\n      <th>count</th>\n    </tr>\n  </thead>\n  <tbody>\n    <tr>\n      <th>0</th>\n      <td>type_1</td>\n      <td>var_1</td>\n      <td>7</td>\n      <td>100.0</td>\n      <td>NaN</td>\n      <td>NaN</td>\n      <td>3</td>\n    </tr>\n    <tr>\n      <th>1</th>\n      <td>type_1</td>\n      <td>var_2</td>\n      <td>3</td>\n      <td>100.0</td>\n      <td>NaN</td>\n      <td>NaN</td>\n      <td>2</td>\n    </tr>\n    <tr>\n      <th>2</th>\n      <td>type_1</td>\n      <td>var_3</td>\n      <td>1</td>\n      <td>100.0</td>\n      <td>NaN</td>\n      <td>NaN</td>\n      <td>1</td>\n    </tr>\n    <tr>\n      <th>3</th>\n      <td>type_1</td>\n      <td>var_3</td>\n      <td>6</td>\n      <td>100.0</td>\n      <td>NaN</td>\n      <td>NaN</td>\n      <td>1</td>\n    </tr>\n    <tr>\n      <th>4</th>\n      <td>type_2</td>\n      <td>var_1</td>\n      <td>4</td>\n      <td>NaN</td>\n      <td>False</td>\n      <td>90.0</td>\n      <td>1</td>\n    </tr>\n    <tr>\n      <th>5</th>\n      <td>type_2</td>\n      <td>var_1</td>\n      <td>10</td>\n      <td>NaN</td>\n      <td>True</td>\n      <td>100.0</td>\n      <td>1</td>\n    </tr>\n    <tr>\n      <th>6</th>\n      <td>type_2</td>\n      <td>var_2</td>\n      <td>2</td>\n      <td>NaN</td>\n      <td>False</td>\n      <td>100.0</td>\n      <td>1</td>\n    </tr>\n    <tr>\n      <th>7</th>\n      <td>type_2</td>\n      <td>var_2</td>\n      <td>2</td>\n      <td>NaN</td>\n      <td>True</td>\n      <td>100.0</td>\n      <td>1</td>\n    </tr>\n    <tr>\n      <th>8</th>\n      <td>type_2</td>\n      <td>var_2</td>\n      <td>3</td>\n      <td>NaN</td>\n      <td>True</td>\n      <td>100.0</td>\n      <td>1</td>\n    </tr>\n    <tr>\n      <th>9</th>\n      <td>type_2</td>\n      <td>var_3</td>\n      <td>5</td>\n      <td>NaN</td>\n      <td>False</td>\n      <td>100.0</td>\n      <td>1</td>\n    </tr>\n    <tr>\n      <th>10</th>\n      <td>type_2</td>\n      <td>var_3</td>\n      <td>5</td>\n      <td>NaN</td>\n      <td>True</td>\n      <td>100.0</td>\n      <td>1</td>\n    </tr>\n  </tbody>\n</table>\n</div>"
     },
     "metadata": {},
     "execution_count": 6
    }
   ],
   "source": [
    "summary.compute()"
   ]
  },
  {
   "cell_type": "code",
   "execution_count": 3,
   "metadata": {},
   "outputs": [
    {
     "output_type": "stream",
     "name": "stdout",
     "text": [
      "loading consequence model\n",
      "consequence model loaded\n",
      "loading asset information\n",
      "asset information loaded\n",
      "condition data loaded\n"
     ]
    }
   ],
   "source": [
    "# imports data\n",
    "pfd = PolesFleetDataLoader()\n",
    "\n"
   ]
  },
  {
   "cell_type": "code",
   "execution_count": 4,
   "metadata": {},
   "outputs": [
    {
     "output_type": "stream",
     "name": "stdout",
     "text": [
      "fleet data object created\n",
      "data validated\n",
      "age calculated\n",
      "field types obtained\n",
      "summarising condition\n",
      "condition summarised\n"
     ]
    }
   ],
   "source": [
    "# creates fleet data object from datapip\n",
    "fd = pfd.get_fleet_data()\n",
    "\n"
   ]
  },
  {
   "cell_type": "code",
   "execution_count": 5,
   "metadata": {},
   "outputs": [
    {
     "output_type": "stream",
     "name": "stdout",
     "text": [
      "starting population summary\n",
      "filtering data\n",
      "merging filtered data\n",
      "binning numerical data\n",
      "age\n",
      "total_csq\n",
      "computing summary\n",
      "count summary\n",
      "summary complete\n"
     ]
    }
   ],
   "source": [
    "# attributes to keep in summary\n",
    "attributes = {\n",
    "    \"pole_material\": [],\n",
    "    \"pole_strength\": [],\n",
    "    \"age\": [],\n",
    "    \"DAGD_perfect_condition\": [],\n",
    "    \"DCZD_condition_loss\": [True],\n",
    "    \"DPWT_perfect_condition\": [],\n",
    "    \"total_csq\": [],\n",
    "}\n",
    "# attributes to remove from summary\n",
    "remove = None\n",
    "\n",
    "# tr = classtracker.ClassTracker()  # pympler\n",
    "# tr.track_object(fd)  # pympler\n",
    "\n",
    "# population summary (dask object)\n",
    "summary = fd.get_population_summary(by=attributes, remove=remove, n_bins=10)"
   ]
  },
  {
   "cell_type": "code",
   "execution_count": 6,
   "metadata": {},
   "outputs": [
    {
     "output_type": "execute_result",
     "data": {
      "text/plain": [
       "      pole_material pole_strength   age  DAGD_perfect_condition  \\\n",
       "0         Aluminium             1  13.0                   170.0   \n",
       "1         Aluminium            12  13.0                   255.0   \n",
       "2         Aluminium             4  13.0                   270.0   \n",
       "3         Aluminium             4  40.0                   300.0   \n",
       "4         Composite            16   NaN                   300.0   \n",
       "...             ...           ...   ...                     ...   \n",
       "13863       Unknown             6  53.0                   320.0   \n",
       "13864       Unknown             6  93.0                   340.0   \n",
       "13865       Unknown       UNKNOWN  13.0                   280.0   \n",
       "13866       Unknown       UNKNOWN  53.0                   280.0   \n",
       "13867           NaN             6  53.0                   280.0   \n",
       "\n",
       "       DCZD_condition_loss  DPWT_perfect_condition  total_csq  count  \n",
       "0                     True                    85.0   210735.0      1  \n",
       "1                     True                   125.0   210735.0      1  \n",
       "2                     True                   135.0   210735.0      1  \n",
       "3                     True                   150.0   210735.0      1  \n",
       "4                     True                   130.0   210735.0      1  \n",
       "...                    ...                     ...        ...    ...  \n",
       "13863                 True                   160.0   210735.0      1  \n",
       "13864                 True                   160.0   210735.0      1  \n",
       "13865                 True                   130.0   417008.0      1  \n",
       "13866                 True                    40.0   210735.0      1  \n",
       "13867                 True                   140.0   210735.0      1  \n",
       "\n",
       "[13868 rows x 8 columns]"
      ],
      "text/html": "<div>\n<style scoped>\n    .dataframe tbody tr th:only-of-type {\n        vertical-align: middle;\n    }\n\n    .dataframe tbody tr th {\n        vertical-align: top;\n    }\n\n    .dataframe thead th {\n        text-align: right;\n    }\n</style>\n<table border=\"1\" class=\"dataframe\">\n  <thead>\n    <tr style=\"text-align: right;\">\n      <th></th>\n      <th>pole_material</th>\n      <th>pole_strength</th>\n      <th>age</th>\n      <th>DAGD_perfect_condition</th>\n      <th>DCZD_condition_loss</th>\n      <th>DPWT_perfect_condition</th>\n      <th>total_csq</th>\n      <th>count</th>\n    </tr>\n  </thead>\n  <tbody>\n    <tr>\n      <th>0</th>\n      <td>Aluminium</td>\n      <td>1</td>\n      <td>13.0</td>\n      <td>170.0</td>\n      <td>True</td>\n      <td>85.0</td>\n      <td>210735.0</td>\n      <td>1</td>\n    </tr>\n    <tr>\n      <th>1</th>\n      <td>Aluminium</td>\n      <td>12</td>\n      <td>13.0</td>\n      <td>255.0</td>\n      <td>True</td>\n      <td>125.0</td>\n      <td>210735.0</td>\n      <td>1</td>\n    </tr>\n    <tr>\n      <th>2</th>\n      <td>Aluminium</td>\n      <td>4</td>\n      <td>13.0</td>\n      <td>270.0</td>\n      <td>True</td>\n      <td>135.0</td>\n      <td>210735.0</td>\n      <td>1</td>\n    </tr>\n    <tr>\n      <th>3</th>\n      <td>Aluminium</td>\n      <td>4</td>\n      <td>40.0</td>\n      <td>300.0</td>\n      <td>True</td>\n      <td>150.0</td>\n      <td>210735.0</td>\n      <td>1</td>\n    </tr>\n    <tr>\n      <th>4</th>\n      <td>Composite</td>\n      <td>16</td>\n      <td>NaN</td>\n      <td>300.0</td>\n      <td>True</td>\n      <td>130.0</td>\n      <td>210735.0</td>\n      <td>1</td>\n    </tr>\n    <tr>\n      <th>...</th>\n      <td>...</td>\n      <td>...</td>\n      <td>...</td>\n      <td>...</td>\n      <td>...</td>\n      <td>...</td>\n      <td>...</td>\n      <td>...</td>\n    </tr>\n    <tr>\n      <th>13863</th>\n      <td>Unknown</td>\n      <td>6</td>\n      <td>53.0</td>\n      <td>320.0</td>\n      <td>True</td>\n      <td>160.0</td>\n      <td>210735.0</td>\n      <td>1</td>\n    </tr>\n    <tr>\n      <th>13864</th>\n      <td>Unknown</td>\n      <td>6</td>\n      <td>93.0</td>\n      <td>340.0</td>\n      <td>True</td>\n      <td>160.0</td>\n      <td>210735.0</td>\n      <td>1</td>\n    </tr>\n    <tr>\n      <th>13865</th>\n      <td>Unknown</td>\n      <td>UNKNOWN</td>\n      <td>13.0</td>\n      <td>280.0</td>\n      <td>True</td>\n      <td>130.0</td>\n      <td>417008.0</td>\n      <td>1</td>\n    </tr>\n    <tr>\n      <th>13866</th>\n      <td>Unknown</td>\n      <td>UNKNOWN</td>\n      <td>53.0</td>\n      <td>280.0</td>\n      <td>True</td>\n      <td>40.0</td>\n      <td>210735.0</td>\n      <td>1</td>\n    </tr>\n    <tr>\n      <th>13867</th>\n      <td>NaN</td>\n      <td>6</td>\n      <td>53.0</td>\n      <td>280.0</td>\n      <td>True</td>\n      <td>140.0</td>\n      <td>210735.0</td>\n      <td>1</td>\n    </tr>\n  </tbody>\n</table>\n<p>13868 rows × 8 columns</p>\n</div>"
     },
     "metadata": {},
     "execution_count": 6
    }
   ],
   "source": [
    "summary"
   ]
  }
 ]
}