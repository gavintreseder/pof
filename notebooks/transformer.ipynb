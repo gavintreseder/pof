{
 "metadata": {
  "language_info": {
   "codemirror_mode": {
    "name": "ipython",
    "version": 3
   },
   "file_extension": ".py",
   "mimetype": "text/x-python",
   "name": "python",
   "nbconvert_exporter": "python",
   "pygments_lexer": "ipython3",
   "version": "3.8.3-final"
  },
  "orig_nbformat": 2,
  "kernelspec": {
   "name": "python_defaultSpec_1597711461056",
   "display_name": "Python 3.8.3 64-bit ('base': conda)"
  }
 },
 "nbformat": 4,
 "nbformat_minor": 2,
 "cells": [
  {
   "cell_type": "markdown",
   "metadata": {},
   "source": [
    "# Transformer FEMCA Demonstration\n",
    "The purpose of this script it to demonstrate the impact of using a new consequence model for the Zone Sub Transfomer FEMCA\n",
    "\n",
    "Requestors: danielle.fisher@essentialenergy.com.au; ken.holder@essentialenergy.com.au\n",
    "\n",
    "Author: gavin.treseder@essentialenergy.com.au"
   ]
  },
  {
   "cell_type": "markdown",
   "metadata": {},
   "source": [
    "# Step 1 - Load the packages\n",
    "Load python packages to aid with data analysis and visualisation\n"
   ]
  },
  {
   "cell_type": "code",
   "execution_count": 7,
   "metadata": {},
   "outputs": [],
   "source": [
    "import numpy as np \n",
    "import pandas as pd\n",
    "import math\n",
    "\n",
    "from scipy.integrate import quad\n",
    "import scipy.stats as ss\n",
    "\n",
    "import tkinter as tk\n",
    "from tkinter.filedialog import askopenfilename"
   ]
  },
  {
   "cell_type": "markdown",
   "metadata": {},
   "source": [
    "## Step 2 - Load the data\n",
    "Load the data from the \"Tx FMECA to consequence\" file into a dataframe and check the contents are as expected"
   ]
  },
  {
   "cell_type": "code",
   "execution_count": 8,
   "metadata": {},
   "outputs": [],
   "source": [
    "try:\n",
    "    file_name\n",
    "except:\n",
    "    file_name = askopenfilename(initialdir=os.getcwd())"
   ]
  },
  {
   "cell_type": "code",
   "execution_count": 9,
   "metadata": {},
   "outputs": [
    {
     "output_type": "execute_result",
     "data": {
      "text/plain": "      TMC code              Category  \\\n0  TX 01 01 01  ZS Power Transformer   \n1  TX 01 01 01  ZS Power Transformer   \n2  TX 01 01 01  ZS Power Transformer   \n3  TX 01 01 01  ZS Power Transformer   \n4  TX 01 01 01  ZS Power Transformer   \n\n                                  Equipment  \\\n0  Zone and Subtrans. Generic Transformers.   \n1  Zone and Subtrans. Generic Transformers.   \n2  Zone and Subtrans. Generic Transformers.   \n3  Zone and Subtrans. Generic Transformers.   \n4  Zone and Subtrans. Generic Transformers.   \n\n                                                 TMC              Band  \\\n0  TX010101 Zone and Subtrans. Generic Transformers.  Essential Energy   \n1  TX010101 Zone and Subtrans. Generic Transformers.  Essential Energy   \n2  TX010101 Zone and Subtrans. Generic Transformers.  Essential Energy   \n3  TX010101 Zone and Subtrans. Generic Transformers.  Essential Energy   \n4  TX010101 Zone and Subtrans. Generic Transformers.  Essential Energy   \n\n                                            Function  \\\n0         02) Provides insulation of live equipment.   \n1         02) Provides insulation of live equipment.   \n2  01) Transformation of power from primary to se...   \n3         02) Provides insulation of live equipment.   \n4         02) Provides insulation of live equipment.   \n\n                                  Functional Failure  \\\n0  a) Does not provide insulation of live equipment.   \n1  a) Does not provide insulation of live equipment.   \n2  a) Does not transform power from primary to se...   \n3  a) Does not provide insulation of live equipment.   \n4  a) Does not provide insulation of live equipment.   \n\n                                       Failure Cause  No.  \\\n0  EXTERNAL BUSHING damaged porcelain due to flas...    2   \n1  EXTERNAL BUSHING damaged porcelain due to vand...    3   \n2  BUSHINGS faulty connection due to corrosion / ...    4   \n3  EXTERNAL BUSHING internal fault due to oil los...    5   \n4  EXTERNAL BUSHING low resistance due to surface...    6   \n\n                                        Local Effect  ... Optimal Interval  \\\n0                                         Flashover,  ...              0.0   \n1                                         Flashover,  ...              0.0   \n2                              Overheated Connection  ...            631.0   \n3  Flashover, possible secondary damage and flyin...  ...              0.0   \n4  Flashover, possible secondary damage and flyin...  ...              0.0   \n\n  Protective systems Protective Population Protective MTBF Protective Repair  \\\n0                  1                   0.0               0                 0   \n1                  1                   0.0               0                 0   \n2                  1                   0.0               0                 0   \n3                  1                   0.0               0                 0   \n4                  1                   0.0               0                 0   \n\n  Protective Failures Asset Consequence Model  Level Consequence Model  \\\n0                 0.0                 Bushing                    Major   \n1                 0.0                 Bushing                    Major   \n2                 0.0                     NaN                      NaN   \n3                 0.0                 Bushing                    Major   \n4                 0.0                 Bushing                    Major   \n\n               Notes Unnamed: 54  \n0                NaN         NaN  \n1                NaN         NaN  \n2  hot joint bushing         NaN  \n3                NaN         NaN  \n4                NaN         NaN  \n\n[5 rows x 55 columns]",
      "text/html": "<div>\n<style scoped>\n    .dataframe tbody tr th:only-of-type {\n        vertical-align: middle;\n    }\n\n    .dataframe tbody tr th {\n        vertical-align: top;\n    }\n\n    .dataframe thead th {\n        text-align: right;\n    }\n</style>\n<table border=\"1\" class=\"dataframe\">\n  <thead>\n    <tr style=\"text-align: right;\">\n      <th></th>\n      <th>TMC code</th>\n      <th>Category</th>\n      <th>Equipment</th>\n      <th>TMC</th>\n      <th>Band</th>\n      <th>Function</th>\n      <th>Functional Failure</th>\n      <th>Failure Cause</th>\n      <th>No.</th>\n      <th>Local Effect</th>\n      <th>...</th>\n      <th>Optimal Interval</th>\n      <th>Protective systems</th>\n      <th>Protective Population</th>\n      <th>Protective MTBF</th>\n      <th>Protective Repair</th>\n      <th>Protective Failures</th>\n      <th>Asset Consequence Model</th>\n      <th>Level Consequence Model</th>\n      <th>Notes</th>\n      <th>Unnamed: 54</th>\n    </tr>\n  </thead>\n  <tbody>\n    <tr>\n      <th>0</th>\n      <td>TX 01 01 01</td>\n      <td>ZS Power Transformer</td>\n      <td>Zone and Subtrans. Generic Transformers.</td>\n      <td>TX010101 Zone and Subtrans. Generic Transformers.</td>\n      <td>Essential Energy</td>\n      <td>02) Provides insulation of live equipment.</td>\n      <td>a) Does not provide insulation of live equipment.</td>\n      <td>EXTERNAL BUSHING damaged porcelain due to flas...</td>\n      <td>2</td>\n      <td>Flashover,</td>\n      <td>...</td>\n      <td>0.0</td>\n      <td>1</td>\n      <td>0.0</td>\n      <td>0</td>\n      <td>0</td>\n      <td>0.0</td>\n      <td>Bushing</td>\n      <td>Major</td>\n      <td>NaN</td>\n      <td>NaN</td>\n    </tr>\n    <tr>\n      <th>1</th>\n      <td>TX 01 01 01</td>\n      <td>ZS Power Transformer</td>\n      <td>Zone and Subtrans. Generic Transformers.</td>\n      <td>TX010101 Zone and Subtrans. Generic Transformers.</td>\n      <td>Essential Energy</td>\n      <td>02) Provides insulation of live equipment.</td>\n      <td>a) Does not provide insulation of live equipment.</td>\n      <td>EXTERNAL BUSHING damaged porcelain due to vand...</td>\n      <td>3</td>\n      <td>Flashover,</td>\n      <td>...</td>\n      <td>0.0</td>\n      <td>1</td>\n      <td>0.0</td>\n      <td>0</td>\n      <td>0</td>\n      <td>0.0</td>\n      <td>Bushing</td>\n      <td>Major</td>\n      <td>NaN</td>\n      <td>NaN</td>\n    </tr>\n    <tr>\n      <th>2</th>\n      <td>TX 01 01 01</td>\n      <td>ZS Power Transformer</td>\n      <td>Zone and Subtrans. Generic Transformers.</td>\n      <td>TX010101 Zone and Subtrans. Generic Transformers.</td>\n      <td>Essential Energy</td>\n      <td>01) Transformation of power from primary to se...</td>\n      <td>a) Does not transform power from primary to se...</td>\n      <td>BUSHINGS faulty connection due to corrosion / ...</td>\n      <td>4</td>\n      <td>Overheated Connection</td>\n      <td>...</td>\n      <td>631.0</td>\n      <td>1</td>\n      <td>0.0</td>\n      <td>0</td>\n      <td>0</td>\n      <td>0.0</td>\n      <td>NaN</td>\n      <td>NaN</td>\n      <td>hot joint bushing</td>\n      <td>NaN</td>\n    </tr>\n    <tr>\n      <th>3</th>\n      <td>TX 01 01 01</td>\n      <td>ZS Power Transformer</td>\n      <td>Zone and Subtrans. Generic Transformers.</td>\n      <td>TX010101 Zone and Subtrans. Generic Transformers.</td>\n      <td>Essential Energy</td>\n      <td>02) Provides insulation of live equipment.</td>\n      <td>a) Does not provide insulation of live equipment.</td>\n      <td>EXTERNAL BUSHING internal fault due to oil los...</td>\n      <td>5</td>\n      <td>Flashover, possible secondary damage and flyin...</td>\n      <td>...</td>\n      <td>0.0</td>\n      <td>1</td>\n      <td>0.0</td>\n      <td>0</td>\n      <td>0</td>\n      <td>0.0</td>\n      <td>Bushing</td>\n      <td>Major</td>\n      <td>NaN</td>\n      <td>NaN</td>\n    </tr>\n    <tr>\n      <th>4</th>\n      <td>TX 01 01 01</td>\n      <td>ZS Power Transformer</td>\n      <td>Zone and Subtrans. Generic Transformers.</td>\n      <td>TX010101 Zone and Subtrans. Generic Transformers.</td>\n      <td>Essential Energy</td>\n      <td>02) Provides insulation of live equipment.</td>\n      <td>a) Does not provide insulation of live equipment.</td>\n      <td>EXTERNAL BUSHING low resistance due to surface...</td>\n      <td>6</td>\n      <td>Flashover, possible secondary damage and flyin...</td>\n      <td>...</td>\n      <td>0.0</td>\n      <td>1</td>\n      <td>0.0</td>\n      <td>0</td>\n      <td>0</td>\n      <td>0.0</td>\n      <td>Bushing</td>\n      <td>Major</td>\n      <td>NaN</td>\n      <td>NaN</td>\n    </tr>\n  </tbody>\n</table>\n<p>5 rows × 55 columns</p>\n</div>"
     },
     "metadata": {},
     "execution_count": 9
    }
   ],
   "source": [
    "# Read the file in and remove the first row\n",
    "df_fmeca = pd.read_excel(file_name, header = 1)\n",
    "\n",
    "df_fmeca.head()"
   ]
  },
  {
   "cell_type": "code",
   "execution_count": 10,
   "metadata": {},
   "outputs": [
    {
     "output_type": "execute_result",
     "data": {
      "text/plain": "                                       Failure Cause  \\\n0  EXTERNAL BUSHING damaged porcelain due to flas...   \n1  EXTERNAL BUSHING damaged porcelain due to vand...   \n2  BUSHINGS faulty connection due to corrosion / ...   \n3  EXTERNAL BUSHING internal fault due to oil los...   \n4  EXTERNAL BUSHING low resistance due to surface...   \n\n                                       Proposed Task Test  \\\n0  Examine all transformer bushing surfaces for d...  NaN   \n1  Examine all transformer bushing surfaces for d...  NaN   \n2  Examine bushing connection condition on load u...  NaN   \n3   Check bushing sight glass for correct oil level.  NaN   \n4  Examine transformer bushing surface for contam...  NaN   \n\n                                      Scheduled Task Scheduled Interval  \\\n0  Examine all transformer bushing surfaces for d...         ZS Inspect   \n1  Examine all transformer bushing surfaces for d...         ZS Inspect   \n2  Examine bushing connection condition on load u...      Infrared Scan   \n3   Check bushing sight glass for correct oil level.         ZS Inspect   \n4  Examine transformer bushing surface for contam...         6yr Maint.   \n\n  Asset Consequence Model Level Consequence Model  \n0                 Bushing                   Major  \n1                 Bushing                   Major  \n2                     NaN                     NaN  \n3                 Bushing                   Major  \n4                 Bushing                   Major  ",
      "text/html": "<div>\n<style scoped>\n    .dataframe tbody tr th:only-of-type {\n        vertical-align: middle;\n    }\n\n    .dataframe tbody tr th {\n        vertical-align: top;\n    }\n\n    .dataframe thead th {\n        text-align: right;\n    }\n</style>\n<table border=\"1\" class=\"dataframe\">\n  <thead>\n    <tr style=\"text-align: right;\">\n      <th></th>\n      <th>Failure Cause</th>\n      <th>Proposed Task</th>\n      <th>Test</th>\n      <th>Scheduled Task</th>\n      <th>Scheduled Interval</th>\n      <th>Asset Consequence Model</th>\n      <th>Level Consequence Model</th>\n    </tr>\n  </thead>\n  <tbody>\n    <tr>\n      <th>0</th>\n      <td>EXTERNAL BUSHING damaged porcelain due to flas...</td>\n      <td>Examine all transformer bushing surfaces for d...</td>\n      <td>NaN</td>\n      <td>Examine all transformer bushing surfaces for d...</td>\n      <td>ZS Inspect</td>\n      <td>Bushing</td>\n      <td>Major</td>\n    </tr>\n    <tr>\n      <th>1</th>\n      <td>EXTERNAL BUSHING damaged porcelain due to vand...</td>\n      <td>Examine all transformer bushing surfaces for d...</td>\n      <td>NaN</td>\n      <td>Examine all transformer bushing surfaces for d...</td>\n      <td>ZS Inspect</td>\n      <td>Bushing</td>\n      <td>Major</td>\n    </tr>\n    <tr>\n      <th>2</th>\n      <td>BUSHINGS faulty connection due to corrosion / ...</td>\n      <td>Examine bushing connection condition on load u...</td>\n      <td>NaN</td>\n      <td>Examine bushing connection condition on load u...</td>\n      <td>Infrared Scan</td>\n      <td>NaN</td>\n      <td>NaN</td>\n    </tr>\n    <tr>\n      <th>3</th>\n      <td>EXTERNAL BUSHING internal fault due to oil los...</td>\n      <td>Check bushing sight glass for correct oil level.</td>\n      <td>NaN</td>\n      <td>Check bushing sight glass for correct oil level.</td>\n      <td>ZS Inspect</td>\n      <td>Bushing</td>\n      <td>Major</td>\n    </tr>\n    <tr>\n      <th>4</th>\n      <td>EXTERNAL BUSHING low resistance due to surface...</td>\n      <td>Examine transformer bushing surface for contam...</td>\n      <td>NaN</td>\n      <td>Examine transformer bushing surface for contam...</td>\n      <td>6yr Maint.</td>\n      <td>Bushing</td>\n      <td>Major</td>\n    </tr>\n  </tbody>\n</table>\n</div>"
     },
     "metadata": {},
     "execution_count": 10
    }
   ],
   "source": [
    "filter_cols = ['Failure Cause', 'Proposed Task', 'Test', 'Scheduled Task', 'Scheduled Interval', 'Asset Consequence Model', \"Level Consequence Model\"]\n",
    "\n",
    "df_tasks = df_fmeca[filter_cols]\n",
    "df_tasks.head()"
   ]
  },
  {
   "cell_type": "code",
   "execution_count": 13,
   "metadata": {},
   "outputs": [
    {
     "output_type": "execute_result",
     "data": {
      "text/plain": "   Operation Loss:  CF Interval     MTBF  Examination Time (m):  Exam Success  \\\n0                0            0   169567                      0           0.0   \n1                0            0  1196389                      0           0.0   \n2           120000         1460    34067                     10          95.0   \n3                0            0        0                      0           0.0   \n4            12000            0        0                      0           NaN   \n\n   Setup Cost  Exam Cost  Planned Repair Cost  Call Out, Secondary Damage  \\\n0         0.0        0.0                    0                           0   \n1         0.0        0.0                    0                           0   \n2        15.0        0.0                 2500                      142500   \n3         0.0        0.0                    0                           0   \n4         NaN        0.0                    0                       12000   \n\n   Unplanned Failure Cost  \n0                       0  \n1                       0  \n2                   20000  \n3                       0  \n4                       0  ",
      "text/html": "<div>\n<style scoped>\n    .dataframe tbody tr th:only-of-type {\n        vertical-align: middle;\n    }\n\n    .dataframe tbody tr th {\n        vertical-align: top;\n    }\n\n    .dataframe thead th {\n        text-align: right;\n    }\n</style>\n<table border=\"1\" class=\"dataframe\">\n  <thead>\n    <tr style=\"text-align: right;\">\n      <th></th>\n      <th>Operation Loss:</th>\n      <th>CF Interval</th>\n      <th>MTBF</th>\n      <th>Examination Time (m):</th>\n      <th>Exam Success</th>\n      <th>Setup Cost</th>\n      <th>Exam Cost</th>\n      <th>Planned Repair Cost</th>\n      <th>Call Out, Secondary Damage</th>\n      <th>Unplanned Failure Cost</th>\n    </tr>\n  </thead>\n  <tbody>\n    <tr>\n      <th>0</th>\n      <td>0</td>\n      <td>0</td>\n      <td>169567</td>\n      <td>0</td>\n      <td>0.0</td>\n      <td>0.0</td>\n      <td>0.0</td>\n      <td>0</td>\n      <td>0</td>\n      <td>0</td>\n    </tr>\n    <tr>\n      <th>1</th>\n      <td>0</td>\n      <td>0</td>\n      <td>1196389</td>\n      <td>0</td>\n      <td>0.0</td>\n      <td>0.0</td>\n      <td>0.0</td>\n      <td>0</td>\n      <td>0</td>\n      <td>0</td>\n    </tr>\n    <tr>\n      <th>2</th>\n      <td>120000</td>\n      <td>1460</td>\n      <td>34067</td>\n      <td>10</td>\n      <td>95.0</td>\n      <td>15.0</td>\n      <td>0.0</td>\n      <td>2500</td>\n      <td>142500</td>\n      <td>20000</td>\n    </tr>\n    <tr>\n      <th>3</th>\n      <td>0</td>\n      <td>0</td>\n      <td>0</td>\n      <td>0</td>\n      <td>0.0</td>\n      <td>0.0</td>\n      <td>0.0</td>\n      <td>0</td>\n      <td>0</td>\n      <td>0</td>\n    </tr>\n    <tr>\n      <th>4</th>\n      <td>12000</td>\n      <td>0</td>\n      <td>0</td>\n      <td>0</td>\n      <td>NaN</td>\n      <td>NaN</td>\n      <td>0.0</td>\n      <td>0</td>\n      <td>12000</td>\n      <td>0</td>\n    </tr>\n  </tbody>\n</table>\n</div>"
     },
     "metadata": {},
     "execution_count": 13
    }
   ],
   "source": [
    "filter_cols = [\"Operation Loss:\",\"CF Interval\", \"MTBF\", \"Examination Time (m):\", \"Exam Success\", \"Setup Cost\", \"Exam Cost\", \"Planned Repair Cost\", \"Call Out, Secondary Damage\", \t\"Unplanned Failure Cost\"]\n",
    "\n",
    "df_params = df_fmeca[filter_cols]\n",
    "df_params.head()"
   ]
  },
  {
   "cell_type": "markdown",
   "metadata": {},
   "source": [
    "## Estimate the optimum interval\n",
    "\n",
    "Using the same method from MMIR"
   ]
  },
  {
   "cell_type": "code",
   "execution_count": 43,
   "metadata": {},
   "outputs": [],
   "source": [
    "def optimum_interval(operation_loss, cf_interval, mtbf, exam_time, exam_success, setup_cost, exam_cost, planned_repair_cost, call_out, unplanned_failure_cost):\n",
    "\n",
    "    # Scale some of the units\n",
    "    inspect_success = exam_success / 100\n",
    "\n",
    "    inspect_cost = exam_cost + setup_cost # Inpsection Cost\n",
    "    penalty = operation_loss + call_out # Penalty\n",
    "    T = cf_interval\n",
    "\n",
    "    optimum = math.log(((-mtbf / T) * inspect_cost) / (penalty * math.log(1 - inspect_success))) / math.log(1 - inspect_success)\n",
    "\n",
    "    optimum_interval = T / optimum\n",
    "\n",
    "    return optimum_interval"
   ]
  },
  {
   "cell_type": "code",
   "execution_count": 45,
   "metadata": {
    "tags": []
   },
   "outputs": [
    {
     "output_type": "execute_result",
     "data": {
      "text/plain": "1852.2650777102656"
     },
     "metadata": {},
     "execution_count": 45
    }
   ],
   "source": [
    "optimum_interval(*tuple(df_params.iloc[8]))"
   ]
  },
  {
   "cell_type": "code",
   "execution_count": 46,
   "metadata": {},
   "outputs": [
    {
     "output_type": "execute_result",
     "data": {
      "text/plain": "{'Operation Loss:': 120000.0,\n 'CF Interval': 3650.0,\n 'MTBF': 41948.0,\n 'Examination Time (m):': 15.0,\n 'Exam Success': 98.0,\n 'Setup Cost': 55.0,\n 'Exam Cost': 110.0,\n 'Planned Repair Cost': 40000.0,\n 'Call Out, Secondary Damage': 960000.0,\n 'Unplanned Failure Cost': 800000.0}"
     },
     "metadata": {},
     "execution_count": 46
    }
   ],
   "source": [
    "dict(df_params.iloc[8])"
   ]
  },
  {
   "cell_type": "code",
   "execution_count": null,
   "metadata": {},
   "outputs": [],
   "source": []
  }
 ]
}