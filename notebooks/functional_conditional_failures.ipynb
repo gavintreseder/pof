{
 "metadata": {
  "language_info": {
   "codemirror_mode": {
    "name": "ipython",
    "version": 3
   },
   "file_extension": ".py",
   "mimetype": "text/x-python",
   "name": "python",
   "nbconvert_exporter": "python",
   "pygments_lexer": "ipython3",
   "version": "3.9.0-final"
  },
  "orig_nbformat": 2,
  "kernelspec": {
   "name": "python3",
   "display_name": "Python 3",
   "language": "python"
  }
 },
 "nbformat": 4,
 "nbformat_minor": 2,
 "cells": [
  {
   "cell_type": "code",
   "execution_count": 1,
   "metadata": {},
   "outputs": [],
   "source": [
    "import sys\n",
    "import os\n",
    "sys.path.append(os.path.dirname(os.getcwd()))\n",
    "\n",
    "from pof.component import Component\n",
    "from pof.failure_mode import FailureMode\n",
    "import pof.demo as demo\n",
    "from pof.loader.asset_model_loader import AssetModelLoader\n",
    "from pof.paths import Paths\n",
    "from pof.data.asset_data import SimpleFleet"
   ]
  },
  {
   "cell_type": "code",
   "execution_count": 2,
   "metadata": {},
   "outputs": [],
   "source": [
    "# Forecast years\n",
    "START_YEAR = 2015\n",
    "END_YEAR = 2024\n",
    "CURRENT_YEAR = 2020\n",
    "\n",
    "paths = Paths()\n",
    "\n",
    "# Population Data\n",
    "file_path = paths.input_path + os.sep\n",
    "FILE_NAME = r\"population_summary.csv\"\n",
    "\n",
    "sfd = SimpleFleet(file_path + FILE_NAME)\n",
    "sfd.load()\n",
    "sfd.calc_age_forecast(START_YEAR, END_YEAR, CURRENT_YEAR);"
   ]
  },
  {
   "cell_type": "code",
   "execution_count": 5,
   "metadata": {},
   "outputs": [
    {
     "output_type": "stream",
     "name": "stderr",
     "text": [
      "WARNING:root:Invalid Data () - {'task': 'inspection', 'level_of_repair': 'as_bad_as_old', 'admin': 'yes', 'maint': 'no', 'travel': 'yes'}\n",
      "WARNING:root:Invalid Data () - {'task': 'repair', 'level_of_repair': 'grp'}\n",
      "WARNING:root:Invalid Data () - {'task': 'replace', 'level_of_repair': 'as_good_as_new'}\n",
      "WARNING:root:Invalid Data () - {'task': 'replace', 'level_of_repair': 'as_good_as_new'}\n",
      "WARNING:root:Invalid Data () - {'task': 'inspection', 'admin': 'yes', 'maint': 'no', 'travel': 'yes'}\n",
      "WARNING:root:Invalid Data () - {'task': 'replace', 'level_of_repair': 'as_good_as_new'}\n",
      "WARNING:root:Invalid Data () - {'task': 'replace', 'level_of_repair': 'as_good_as_new'}\n",
      "WARNING:root:Invalid Data () - {'task': 'inspection', 'level_of_repair': 'as_bad_as_old', 'admin': 'yes', 'maint': 'no', 'travel': 'yes'}\n",
      "WARNING:root:Invalid Data () - {'task': 'repair', 'level_of_repair': 'as_bad_as_old'}\n",
      "WARNING:root:Invalid Data () - {'task': 'replace', 'level_of_repair': 'as_good_as_new'}\n",
      "WARNING:root:Invalid Data () - {'task': 'replace', 'level_of_repair': 'as_good_as_new'}\n",
      "WARNING:root:Invalid Data () - {'task': 'inspection', 'level_of_repair': 'as_bad_as_old'}\n",
      "WARNING:root:Invalid Data () - {'task': 'inspection', 'admin': 'yes', 'maint': 'no', 'travel': 'yes'}\n",
      "WARNING:root:Invalid Data () - {'task': 'replace', 'level_of_repair': 'as_good_as_new'}\n",
      "WARNING:root:Invalid Data () - {'task': 'inspection', 'level_of_repair': 'as_bad_as_old'}\n",
      "WARNING:root:Invalid Data () - {'task': 'replace', 'level_of_repair': 'as_good_as_new'}\n",
      "WARNING:root:Invalid Data () - {'task': 'inspection', 'level_of_repair': 'as_bad_as_old'}\n",
      "WARNING:root:Invalid Data () - {'task': 'replace', 'level_of_repair': 'as_good_as_new'}\n",
      "WARNING:root:Invalid Data () - {'task': 'inspection'}\n",
      "WARNING:root:Invalid Data () - {'task': 'replace', 'level_of_repair': 'as_good_as_new'}\n",
      "WARNING:root:Invalid Data () - {'task': 'replace', 'level_of_repair': 'as_good_as_new'}\n"
     ]
    }
   ],
   "source": [
    "aml = AssetModelLoader(paths.demo_path + os.sep + \"Asset Model - Pole - Timber.xlsx\")\n",
    "comp_data = aml.load(paths.demo_path + os.sep + \"Asset Model - Pole - Timber.xlsx\")\n",
    "comp = Component.from_dict(comp_data[\"pole\"])\n",
    "comp.fleet_data = sfd"
   ]
  },
  {
   "cell_type": "code",
   "execution_count": 8,
   "metadata": {},
   "outputs": [],
   "source": [
    "t_end = 1000\n",
    "n_iterations = 100"
   ]
  },
  {
   "cell_type": "code",
   "execution_count": 43,
   "metadata": {},
   "outputs": [],
   "source": [
    "# Turn failure modes on & off\n",
    "\n",
    "failure_modes_on = [\"termites\", \"fungal decay | internal\"]\n",
    "tasks_off = ['pole_saver_rod']\n",
    "\n",
    "for fm in comp.fm.values():\n",
    "    if fm.name not in failure_modes_on:\n",
    "        fm.active = False\n",
    "    else:\n",
    "        fm.active = True\n",
    "\n",
    "    for task in fm.tasks.values():\n",
    "        if task.name in tasks_off:\n",
    "            task.active = False\n",
    "        else:\n",
    "            task.active = True"
   ]
  },
  {
   "cell_type": "code",
   "execution_count": 44,
   "metadata": {},
   "outputs": [],
   "source": [
    "comp.fm['fungal decay | internal'].tasks['inspection_groundline'].p_effective = 1"
   ]
  },
  {
   "cell_type": "code",
   "execution_count": 45,
   "metadata": {},
   "outputs": [
    {
     "output_type": "stream",
     "name": "stderr",
     "text": [
      "100%|██████████| 100/100 [00:06<00:00, 15.32it/s]\n"
     ]
    }
   ],
   "source": [
    "comp.mc_timeline(t_end=t_end, n_iterations=n_iterations)"
   ]
  },
  {
   "cell_type": "code",
   "execution_count": 12,
   "metadata": {},
   "outputs": [
    {
     "output_type": "execute_result",
     "data": {
      "text/plain": [
       "               failure_mode                   task  active time quantity cost  \\\n",
       "28                 termites                   risk    True    0        0    0   \n",
       "29  fungal decay | external                   risk   False    0        0    0   \n",
       "30  fungal decay | internal                   risk    True    0        0    0   \n",
       "31                lightning                   risk   False    0        0    0   \n",
       "32               weathering                   risk   False    0        0    0   \n",
       "..                      ...                    ...     ...  ...      ...  ...   \n",
       "45                lightning  inspection_protection   False  181        0    0   \n",
       "47              fire_damage  inspection_protection   False  181        0    0   \n",
       "48                   impact  inspection_protection   False  181        0    0   \n",
       "37  fungal decay | internal         pole_saver_rod   False  181        0    0   \n",
       "7                  termites      termite_treatment    True  181     0.01    1   \n",
       "\n",
       "   cost_cumulative cost_annual quantity_cumulative quantity_annual  \n",
       "28               0           0                   0               0  \n",
       "29               0           0                   0               0  \n",
       "30               0           0                   0               0  \n",
       "31               0           0                   0               0  \n",
       "32               0           0                   0               0  \n",
       "..             ...         ...                 ...             ...  \n",
       "45               0           0                   0               0  \n",
       "47               0           0                   0               0  \n",
       "48               0           0                   0               0  \n",
       "37               0           0                   0               0  \n",
       "7               55   0.0114653                0.55     0.000114653  \n",
       "\n",
       "[5096 rows x 10 columns]"
      ],
      "text/html": "<div>\n<style scoped>\n    .dataframe tbody tr th:only-of-type {\n        vertical-align: middle;\n    }\n\n    .dataframe tbody tr th {\n        vertical-align: top;\n    }\n\n    .dataframe thead th {\n        text-align: right;\n    }\n</style>\n<table border=\"1\" class=\"dataframe\">\n  <thead>\n    <tr style=\"text-align: right;\">\n      <th></th>\n      <th>failure_mode</th>\n      <th>task</th>\n      <th>active</th>\n      <th>time</th>\n      <th>quantity</th>\n      <th>cost</th>\n      <th>cost_cumulative</th>\n      <th>cost_annual</th>\n      <th>quantity_cumulative</th>\n      <th>quantity_annual</th>\n    </tr>\n  </thead>\n  <tbody>\n    <tr>\n      <th>28</th>\n      <td>termites</td>\n      <td>risk</td>\n      <td>True</td>\n      <td>0</td>\n      <td>0</td>\n      <td>0</td>\n      <td>0</td>\n      <td>0</td>\n      <td>0</td>\n      <td>0</td>\n    </tr>\n    <tr>\n      <th>29</th>\n      <td>fungal decay | external</td>\n      <td>risk</td>\n      <td>False</td>\n      <td>0</td>\n      <td>0</td>\n      <td>0</td>\n      <td>0</td>\n      <td>0</td>\n      <td>0</td>\n      <td>0</td>\n    </tr>\n    <tr>\n      <th>30</th>\n      <td>fungal decay | internal</td>\n      <td>risk</td>\n      <td>True</td>\n      <td>0</td>\n      <td>0</td>\n      <td>0</td>\n      <td>0</td>\n      <td>0</td>\n      <td>0</td>\n      <td>0</td>\n    </tr>\n    <tr>\n      <th>31</th>\n      <td>lightning</td>\n      <td>risk</td>\n      <td>False</td>\n      <td>0</td>\n      <td>0</td>\n      <td>0</td>\n      <td>0</td>\n      <td>0</td>\n      <td>0</td>\n      <td>0</td>\n    </tr>\n    <tr>\n      <th>32</th>\n      <td>weathering</td>\n      <td>risk</td>\n      <td>False</td>\n      <td>0</td>\n      <td>0</td>\n      <td>0</td>\n      <td>0</td>\n      <td>0</td>\n      <td>0</td>\n      <td>0</td>\n    </tr>\n    <tr>\n      <th>...</th>\n      <td>...</td>\n      <td>...</td>\n      <td>...</td>\n      <td>...</td>\n      <td>...</td>\n      <td>...</td>\n      <td>...</td>\n      <td>...</td>\n      <td>...</td>\n      <td>...</td>\n    </tr>\n    <tr>\n      <th>45</th>\n      <td>lightning</td>\n      <td>inspection_protection</td>\n      <td>False</td>\n      <td>181</td>\n      <td>0</td>\n      <td>0</td>\n      <td>0</td>\n      <td>0</td>\n      <td>0</td>\n      <td>0</td>\n    </tr>\n    <tr>\n      <th>47</th>\n      <td>fire_damage</td>\n      <td>inspection_protection</td>\n      <td>False</td>\n      <td>181</td>\n      <td>0</td>\n      <td>0</td>\n      <td>0</td>\n      <td>0</td>\n      <td>0</td>\n      <td>0</td>\n    </tr>\n    <tr>\n      <th>48</th>\n      <td>impact</td>\n      <td>inspection_protection</td>\n      <td>False</td>\n      <td>181</td>\n      <td>0</td>\n      <td>0</td>\n      <td>0</td>\n      <td>0</td>\n      <td>0</td>\n      <td>0</td>\n    </tr>\n    <tr>\n      <th>37</th>\n      <td>fungal decay | internal</td>\n      <td>pole_saver_rod</td>\n      <td>False</td>\n      <td>181</td>\n      <td>0</td>\n      <td>0</td>\n      <td>0</td>\n      <td>0</td>\n      <td>0</td>\n      <td>0</td>\n    </tr>\n    <tr>\n      <th>7</th>\n      <td>termites</td>\n      <td>termite_treatment</td>\n      <td>True</td>\n      <td>181</td>\n      <td>0.01</td>\n      <td>1</td>\n      <td>55</td>\n      <td>0.0114653</td>\n      <td>0.55</td>\n      <td>0.000114653</td>\n    </tr>\n  </tbody>\n</table>\n<p>5096 rows × 10 columns</p>\n</div>"
     },
     "metadata": {},
     "execution_count": 12
    }
   ],
   "source": [
    "comp.expected_risk_cost_df()"
   ]
  },
  {
   "cell_type": "code",
   "execution_count": 13,
   "metadata": {
    "tags": []
   },
   "outputs": [],
   "source": [
    "fms_to_check = [\"termites\", \"fungal decay | internal\"]\n",
    "tasks_to_check = [\"conditional_failure\", \"functional_failure\"]"
   ]
  },
  {
   "cell_type": "code",
   "execution_count": 14,
   "metadata": {},
   "outputs": [
    {
     "output_type": "execute_result",
     "data": {
      "text/plain": [
       "{1: {'fm': 'termites', 'task': 'conditional_failure'},\n",
       " 3: {'fm': 'termites', 'task': 'conditional_failure'},\n",
       " 7: {'fm': 'termites', 'task': 'conditional_failure'},\n",
       " 8: {'fm': 'termites', 'task': 'conditional_failure'},\n",
       " 9: {'fm': 'termites', 'task': 'conditional_failure'},\n",
       " 14: {'fm': 'termites', 'task': 'functional_failure'},\n",
       " 16: {'fm': 'termites', 'task': 'functional_failure'},\n",
       " 17: {'fm': 'termites', 'task': 'functional_failure'},\n",
       " 21: {'fm': 'termites', 'task': 'conditional_failure'},\n",
       " 22: {'fm': 'termites', 'task': 'conditional_failure'},\n",
       " 23: {'fm': 'termites', 'task': 'conditional_failure'},\n",
       " 25: {'fm': 'termites', 'task': 'conditional_failure'},\n",
       " 26: {'fm': 'termites', 'task': 'conditional_failure'},\n",
       " 27: {'fm': 'termites', 'task': 'conditional_failure'},\n",
       " 29: {'fm': 'termites', 'task': 'conditional_failure'},\n",
       " 31: {'fm': 'fungal decay | internal', 'task': 'conditional_failure'},\n",
       " 35: {'fm': 'termites', 'task': 'conditional_failure'},\n",
       " 36: {'fm': 'termites', 'task': 'functional_failure'},\n",
       " 37: {'fm': 'termites', 'task': 'conditional_failure'},\n",
       " 39: {'fm': 'termites', 'task': 'conditional_failure'},\n",
       " 40: {'fm': 'termites', 'task': 'conditional_failure'},\n",
       " 41: {'fm': 'termites', 'task': 'conditional_failure'},\n",
       " 42: {'fm': 'termites', 'task': 'conditional_failure'},\n",
       " 45: {'fm': 'termites', 'task': 'conditional_failure'},\n",
       " 50: {'fm': 'termites', 'task': 'functional_failure'},\n",
       " 51: {'fm': 'termites', 'task': 'conditional_failure'},\n",
       " 53: {'fm': 'termites', 'task': 'conditional_failure'},\n",
       " 54: {'fm': 'termites', 'task': 'conditional_failure'},\n",
       " 57: {'fm': 'termites', 'task': 'conditional_failure'},\n",
       " 58: {'fm': 'termites', 'task': 'conditional_failure'},\n",
       " 59: {'fm': 'termites', 'task': 'conditional_failure'},\n",
       " 61: {'fm': 'termites', 'task': 'conditional_failure'},\n",
       " 63: {'fm': 'termites', 'task': 'conditional_failure'},\n",
       " 66: {'fm': 'fungal decay | internal', 'task': 'conditional_failure'},\n",
       " 67: {'fm': 'termites', 'task': 'functional_failure'},\n",
       " 69: {'fm': 'termites', 'task': 'conditional_failure'},\n",
       " 72: {'fm': 'termites', 'task': 'conditional_failure'},\n",
       " 74: {'fm': 'termites', 'task': 'conditional_failure'},\n",
       " 75: {'fm': 'termites', 'task': 'conditional_failure'},\n",
       " 78: {'fm': 'termites', 'task': 'conditional_failure'},\n",
       " 79: {'fm': 'termites', 'task': 'conditional_failure'},\n",
       " 80: {'fm': 'termites', 'task': 'functional_failure'},\n",
       " 81: {'fm': 'termites', 'task': 'conditional_failure'},\n",
       " 82: {'fm': 'termites', 'task': 'functional_failure'},\n",
       " 83: {'fm': 'termites', 'task': 'conditional_failure'},\n",
       " 84: {'fm': 'termites', 'task': 'conditional_failure'},\n",
       " 86: {'fm': 'termites', 'task': 'functional_failure'},\n",
       " 87: {'fm': 'termites', 'task': 'functional_failure'},\n",
       " 88: {'fm': 'termites', 'task': 'functional_failure'},\n",
       " 91: {'fm': 'termites', 'task': 'conditional_failure'},\n",
       " 93: {'fm': 'termites', 'task': 'conditional_failure'},\n",
       " 96: {'fm': 'termites', 'task': 'conditional_failure'},\n",
       " 97: {'fm': 'fungal decay | internal', 'task': 'conditional_failure'},\n",
       " 0: {'fm': 'fungal decay | internal', 'task': 'functional_failure'},\n",
       " 2: {'fm': 'fungal decay | internal', 'task': 'conditional_failure'},\n",
       " 4: {'fm': 'fungal decay | internal', 'task': 'conditional_failure'},\n",
       " 5: {'fm': 'fungal decay | internal', 'task': 'conditional_failure'},\n",
       " 6: {'fm': 'fungal decay | internal', 'task': 'conditional_failure'},\n",
       " 10: {'fm': 'fungal decay | internal', 'task': 'conditional_failure'},\n",
       " 11: {'fm': 'fungal decay | internal', 'task': 'conditional_failure'},\n",
       " 12: {'fm': 'fungal decay | internal', 'task': 'conditional_failure'},\n",
       " 13: {'fm': 'fungal decay | internal', 'task': 'conditional_failure'},\n",
       " 15: {'fm': 'fungal decay | internal', 'task': 'functional_failure'},\n",
       " 18: {'fm': 'fungal decay | internal', 'task': 'conditional_failure'},\n",
       " 19: {'fm': 'fungal decay | internal', 'task': 'functional_failure'},\n",
       " 20: {'fm': 'fungal decay | internal', 'task': 'conditional_failure'},\n",
       " 24: {'fm': 'fungal decay | internal', 'task': 'conditional_failure'},\n",
       " 28: {'fm': 'fungal decay | internal', 'task': 'conditional_failure'},\n",
       " 30: {'fm': 'fungal decay | internal', 'task': 'functional_failure'},\n",
       " 32: {'fm': 'fungal decay | internal', 'task': 'functional_failure'},\n",
       " 33: {'fm': 'fungal decay | internal', 'task': 'conditional_failure'},\n",
       " 34: {'fm': 'fungal decay | internal', 'task': 'conditional_failure'},\n",
       " 38: {'fm': 'fungal decay | internal', 'task': 'conditional_failure'},\n",
       " 43: {'fm': 'fungal decay | internal', 'task': 'conditional_failure'},\n",
       " 44: {'fm': 'fungal decay | internal', 'task': 'conditional_failure'},\n",
       " 46: {'fm': 'fungal decay | internal', 'task': 'functional_failure'},\n",
       " 47: {'fm': 'fungal decay | internal', 'task': 'conditional_failure'},\n",
       " 48: {'fm': 'fungal decay | internal', 'task': 'conditional_failure'},\n",
       " 49: {'fm': 'fungal decay | internal', 'task': 'conditional_failure'},\n",
       " 52: {'fm': 'fungal decay | internal', 'task': 'conditional_failure'},\n",
       " 55: {'fm': 'fungal decay | internal', 'task': 'functional_failure'},\n",
       " 56: {'fm': 'fungal decay | internal', 'task': 'conditional_failure'},\n",
       " 60: {'fm': 'fungal decay | internal', 'task': 'functional_failure'},\n",
       " 62: {'fm': 'fungal decay | internal', 'task': 'conditional_failure'},\n",
       " 64: {'fm': 'fungal decay | internal', 'task': 'conditional_failure'},\n",
       " 65: {'fm': 'fungal decay | internal', 'task': 'conditional_failure'},\n",
       " 68: {'fm': 'fungal decay | internal', 'task': 'functional_failure'},\n",
       " 70: {'fm': 'fungal decay | internal', 'task': 'functional_failure'},\n",
       " 71: {'fm': 'fungal decay | internal', 'task': 'functional_failure'},\n",
       " 73: {'fm': 'fungal decay | internal', 'task': 'conditional_failure'},\n",
       " 76: {'fm': 'fungal decay | internal', 'task': 'conditional_failure'},\n",
       " 77: {'fm': 'fungal decay | internal', 'task': 'conditional_failure'},\n",
       " 85: {'fm': 'fungal decay | internal', 'task': 'conditional_failure'},\n",
       " 89: {'fm': 'fungal decay | internal', 'task': 'conditional_failure'},\n",
       " 90: {'fm': 'fungal decay | internal', 'task': 'conditional_failure'},\n",
       " 92: {'fm': 'fungal decay | internal', 'task': 'conditional_failure'},\n",
       " 94: {'fm': 'fungal decay | internal', 'task': 'conditional_failure'},\n",
       " 95: {'fm': 'fungal decay | internal', 'task': 'conditional_failure'},\n",
       " 98: {'fm': 'fungal decay | internal', 'task': 'functional_failure'},\n",
       " 99: {'fm': 'fungal decay | internal', 'task': 'conditional_failure'}}"
      ]
     },
     "metadata": {},
     "execution_count": 14
    }
   ],
   "source": [
    "dict_index = dict()\n",
    "\n",
    "for fm_name, fm in comp.fm.items():\n",
    "    if fm_name in fms_to_check:\n",
    "        for index, timeline in fm._timelines.items():\n",
    "            for task_name in tasks_to_check:\n",
    "               if 0 in timeline[task_name]: \n",
    "                   dict_index[index] = {\"fm\":fm_name, \"task\":task_name}\n",
    "\n",
    "dict_index"
   ]
  },
  {
   "cell_type": "code",
   "execution_count": null,
   "metadata": {},
   "outputs": [],
   "source": [
    "fm = comp.fm['fungal decay | internal']\n",
    "timeline = fm.timeline\n",
    "\n",
    "fm.tasks['conditional_failure'].sim_timeline(\n",
    "                        t_start=0, t_end=160, timeline=timeline, indicators = fm.indicators\n",
    "                    )"
   ]
  },
  {
   "cell_type": "code",
   "execution_count": 18,
   "metadata": {},
   "outputs": [
    {
     "output_type": "execute_result",
     "data": {
      "text/plain": [
       "{'time': array([ 0,  1,  2,  3,  4,  5,  6,  7,  8,  9, 10, 11, 12, 13, 14, 15, 16,\n",
       "        17, 18, 19, 20, 21, 22, 23, 24, 25, 26, 27, 28, 29, 30, 31, 32, 33,\n",
       "        34, 35, 36, 37, 38, 39, 40, 41, 42, 43, 44, 45, 46, 47, 48, 49, 50,\n",
       "        51, 52, 53, 54, 55, 56, 57, 58, 59, 60, 61, 62, 63, 64, 65, 66, 67,\n",
       "        68, 69, 70, 71, 72, 73, 74, 75, 76, 77, 78, 79, 80, 81, 82, 83, 84,\n",
       "        85, 86, 87, 88, 89, 90, 91, 92, 93, 94, 95]),\n",
       " 'initiation': array([False, False, False, False, False, False, False, False, False,\n",
       "        False, False, False, False, False, False, False, False, False,\n",
       "        False, False, False, False, False, False, False, False, False,\n",
       "        False, False, False, False, False, False, False, False, False,\n",
       "        False, False, False, False, False, False, False, False, False,\n",
       "        False, False, False, False, False, False, False, False, False,\n",
       "        False, False, False, False, False, False, False, False, False,\n",
       "        False, False, False, False, False, False, False, False, False,\n",
       "        False, False, False, False, False, False, False, False, False,\n",
       "        False, False, False, False, False, False, False, False, False,\n",
       "        False, False, False, False, False,  True]),\n",
       " 'detection': array([False, False, False, False, False, False, False, False, False,\n",
       "        False, False, False, False, False, False, False, False, False,\n",
       "        False, False, False, False, False, False, False, False, False,\n",
       "        False, False, False, False, False, False, False, False, False,\n",
       "        False, False, False, False, False, False, False, False, False,\n",
       "        False, False, False, False, False, False, False, False, False,\n",
       "        False, False, False, False, False, False, False, False, False,\n",
       "        False, False, False, False, False, False, False, False, False,\n",
       "        False, False, False, False, False, False, False, False, False,\n",
       "        False, False, False, False, False, False, False, False, False,\n",
       "        False, False, False, False, False, False]),\n",
       " 'failure': array([False, False, False, False, False, False, False, False, False,\n",
       "        False, False, False, False, False, False, False, False, False,\n",
       "        False, False, False, False, False, False, False, False, False,\n",
       "        False, False, False, False, False, False, False, False, False,\n",
       "        False, False, False, False, False, False, False, False, False,\n",
       "        False, False, False, False, False, False, False, False, False,\n",
       "        False, False, False, False, False, False, False, False, False,\n",
       "        False, False, False, False, False, False, False, False, False,\n",
       "        False, False, False, False, False, False, False, False, False,\n",
       "        False, False, False, False, False, False, False, False, False,\n",
       "        False, False, False,  True,  True,  True]),\n",
       " 'external_diameter': array([250, 250, 250, 250, 250, 250, 250, 250, 250, 250, 250, 250, 250,\n",
       "        250, 250, 250, 250, 250, 250, 250, 250, 250, 250, 250, 250, 250,\n",
       "        250, 250, 250, 250, 250, 250, 250, 250, 250, 250, 250, 250, 250,\n",
       "        250, 250, 250, 250, 250, 250, 250, 250, 250, 250, 250, 250, 250,\n",
       "        250, 250, 250, 250, 250, 250, 250, 250, 250, 250, 250, 250, 250,\n",
       "        250, 250, 250, 250, 250, 250, 250, 250, 250, 250, 250, 250, 250,\n",
       "        250, 250, 250, 250, 250, 250, 250, 250, 250, 250, 250, 250, 250,\n",
       "        250, 250, 250, 250, 250]),\n",
       " 'wall_thickness': array([125, 125, 125, 125, 125, 125, 125, 125, 125, 125, 125, 125, 125,\n",
       "        125, 125, 125, 125, 125, 125, 125, 125, 125, 125, 125, 125, 125,\n",
       "        125, 125, 125, 125, 125, 125, 125, 125, 125, 125, 125, 125, 125,\n",
       "        125, 125, 125, 125, 125, 125, 125, 125, 125, 125, 125, 125, 125,\n",
       "        125, 125, 125, 125, 125, 125, 125, 125, 125, 125, 125, 125, 125,\n",
       "        125, 125, 125, 125, 125, 125, 125, 125, 125, 125, 125, 125, 125,\n",
       "        125, 125, 125, 125, 125, 125, 125, 125, 125, 125, 125, 125, 125,\n",
       "        125, 125, 125, 125, 125]),\n",
       " 'safety_factor': array([4, 4, 4, 4, 4, 4, 4, 4, 4, 4, 4, 4, 4, 4, 4, 4, 4, 4, 4, 4, 4, 4,\n",
       "        4, 4, 4, 4, 4, 4, 4, 4, 4, 4, 4, 4, 4, 4, 4, 4, 4, 4, 4, 4, 4, 4,\n",
       "        4, 4, 4, 4, 4, 4, 4, 4, 4, 4, 4, 4, 4, 4, 4, 4, 4, 4, 4, 4, 4, 4,\n",
       "        4, 4, 4, 4, 4, 4, 4, 4, 4, 4, 4, 4, 4, 4, 4, 4, 4, 4, 4, 4, 3, 2,\n",
       "        2, 1, 1, 0, 0, 0, 0, 0]),\n",
       " 'inspection_groundline': array([20, 19, 18, 17, 16, 15, 14, 13, 12, 11, 10,  9,  8,  7,  6,  5,  4,\n",
       "         3,  2,  1,  0,  4,  3,  2,  1,  0,  4,  3,  2,  1,  0,  4,  3,  2,\n",
       "         1,  0,  4,  3,  2,  1,  0,  4,  3,  2,  1,  0,  4,  3,  2,  1,  0,\n",
       "         4,  3,  2,  1,  0,  4,  3,  2,  1,  0,  4,  3,  2,  1,  0,  4,  3,\n",
       "         2,  1,  0,  4,  3,  2,  1,  0,  4,  3,  2,  1,  0,  4,  3,  2,  1,\n",
       "         0,  4,  3,  2,  1,  0,  4,  3,  2,  1,  0]),\n",
       " 'pole_saver_rod': array([-1, -1, -1, -1, -1, -1, -1, -1, -1, -1, -1, -1, -1, -1, -1, -1, -1,\n",
       "        -1, -1, -1, -1, -1, -1, -1, -1, -1, -1, -1, -1, -1, -1, -1, -1, -1,\n",
       "        -1, -1, -1, -1, -1, -1, -1, -1, -1, -1, -1, -1, -1, -1, -1, -1, -1,\n",
       "        -1, -1, -1, -1, -1, -1, -1, -1, -1, -1, -1, -1, -1, -1, -1, -1, -1,\n",
       "        -1, -1, -1, -1, -1, -1, -1, -1, -1, -1, -1, -1, -1, -1, -1, -1, -1,\n",
       "        -1, -1, -1, -1, -1, -1, -1, -1, -1, -1, -1]),\n",
       " 'conditional_failure': array([-1, -1, -1, -1, -1, -1, -1, -1, -1, -1, -1, -1, -1, -1, -1, -1, -1,\n",
       "        -1, -1, -1, -1, -1, -1, -1, -1, -1, -1, -1, -1, -1, -1, -1, -1, -1,\n",
       "        -1, -1, -1, -1, -1, -1, -1, -1, -1, -1, -1, -1, -1, -1, -1, -1, -1,\n",
       "        -1, -1, -1, -1, -1, -1, -1, -1, -1, -1, -1, -1, -1, -1, -1, -1, -1,\n",
       "        -1, -1, -1, -1, -1, -1, -1, -1, -1, -1, -1, -1, -1, -1, -1, -1, -1,\n",
       "        -1, -1, -1, -1, -1, -1, -1, -1, -1, -1, -1]),\n",
       " 'functional_failure': array([-1, -1, -1, -1, -1, -1, -1, -1, -1, -1, -1, -1, -1, -1, -1, -1, -1,\n",
       "        -1, -1, -1, -1, -1, -1, -1, -1, -1, -1, -1, -1, -1, -1, -1, -1, -1,\n",
       "        -1, -1, -1, -1, -1, -1, -1, -1, -1, -1, -1, -1, -1, -1, -1, -1, -1,\n",
       "        -1, -1, -1, -1, -1, -1, -1, -1, -1, -1, -1, -1, -1, -1, -1, -1, -1,\n",
       "        -1, -1, -1, -1, -1, -1, -1, -1, -1, -1, -1, -1, -1, -1, -1, -1, -1,\n",
       "        -1, -1, -1, -1, -1, -1, -1, -1, -1, -1,  0])}"
      ]
     },
     "metadata": {},
     "execution_count": 18
    }
   ],
   "source": [
    "comp.fm['fungal decay | internal']._timelines[0]"
   ]
  },
  {
   "cell_type": "code",
   "execution_count": 29,
   "metadata": {},
   "outputs": [],
   "source": [
    "comp.fm[\"termites\"].indicators[\"safety_factor\"]._timelines = None;\n",
    "\n",
    "comp.fm[\"termites\"].indicators[\"safety_factor\"].__dict__;\n"
   ]
  },
  {
   "cell_type": "code",
   "execution_count": 64,
   "metadata": {},
   "outputs": [],
   "source": [
    "comp.reset()\n",
    "comp.sim_timeline(t_end)"
   ]
  },
  {
   "cell_type": "code",
   "execution_count": 65,
   "metadata": {},
   "outputs": [
    {
     "output_type": "execute_result",
     "data": {
      "text/plain": [
       "{'time': array([  0,   1,   2,   3,   4,   5,   6,   7,   8,   9,  10,  11,  12,\n",
       "         13,  14,  15,  16,  17,  18,  19,  20,  21,  22,  23,  24,  25,\n",
       "         26,  27,  28,  29,  30,  31,  32,  33,  34,  35,  36,  37,  38,\n",
       "         39,  40,  41,  42,  43,  44,  45,  46,  47,  48,  49,  50,  51,\n",
       "         52,  53,  54,  55,  56,  57,  58,  59,  60,  61,  62,  63,  64,\n",
       "         65,  66,  67,  68,  69,  70,  71,  72,  73,  74,  75,  76,  77,\n",
       "         78,  79,  80,  81,  82,  83,  84,  85,  86,  87,  88,  89,  90,\n",
       "         91,  92,  93,  94,  95,  96,  97,  98,  99, 100, 101, 102, 103,\n",
       "        104, 105, 106, 107, 108, 109, 110, 111]),\n",
       " 'initiation': array([False, False, False, False, False, False, False, False, False,\n",
       "        False, False, False, False, False, False, False, False, False,\n",
       "        False, False, False, False, False, False, False, False, False,\n",
       "        False, False, False, False, False, False, False, False, False,\n",
       "        False, False, False, False, False, False, False, False, False,\n",
       "        False, False, False, False, False, False, False, False, False,\n",
       "        False, False, False, False, False, False, False, False, False,\n",
       "        False, False, False, False, False, False, False, False, False,\n",
       "        False, False, False, False, False, False, False, False, False,\n",
       "        False, False, False, False, False, False, False, False, False,\n",
       "        False, False, False, False, False, False, False, False, False,\n",
       "        False, False, False, False, False, False, False, False, False,\n",
       "        False, False, False, False]),\n",
       " 'detection': array([False, False, False, False, False, False, False, False, False,\n",
       "        False, False, False, False, False, False, False, False, False,\n",
       "        False, False, False, False, False, False, False, False, False,\n",
       "        False, False, False, False, False, False, False, False, False,\n",
       "        False, False, False, False, False, False, False, False, False,\n",
       "        False, False, False, False, False, False, False, False, False,\n",
       "        False, False, False, False, False, False, False, False, False,\n",
       "        False, False, False, False, False, False, False, False, False,\n",
       "        False, False, False, False, False, False, False, False, False,\n",
       "        False, False, False, False, False, False, False, False, False,\n",
       "        False, False, False, False, False, False, False, False, False,\n",
       "        False, False, False, False, False, False, False, False, False,\n",
       "        False, False, False, False]),\n",
       " 'failure': array([False, False, False, False, False, False, False, False, False,\n",
       "        False, False, False, False, False, False, False, False, False,\n",
       "        False, False, False, False, False, False, False, False, False,\n",
       "        False, False, False, False, False, False, False, False, False,\n",
       "        False, False, False, False, False, False, False, False, False,\n",
       "        False, False, False, False, False, False, False, False, False,\n",
       "        False, False, False, False, False, False, False, False, False,\n",
       "        False, False, False, False, False, False, False, False, False,\n",
       "        False, False, False, False, False, False, False, False, False,\n",
       "        False, False, False, False, False, False, False, False, False,\n",
       "        False, False, False, False, False, False, False, False, False,\n",
       "        False, False, False, False, False, False, False, False, False,\n",
       "        False, False, False, False]),\n",
       " 'external_diameter': array([250, 250, 250, 250, 250, 250, 250, 250, 250, 250, 250, 250, 250,\n",
       "        250, 250, 250, 250, 250, 250, 250, 250, 250, 250, 250, 250, 250,\n",
       "        250, 250, 250, 250, 250, 250, 250, 250, 250, 250, 250, 250, 250,\n",
       "        250, 250, 250, 250, 250, 250, 250, 250, 250, 250, 250, 250, 250,\n",
       "        250, 250, 250, 250, 250, 250, 250, 250, 250, 250, 250, 250, 250,\n",
       "        250, 250, 250, 250, 250, 250, 250, 250, 250, 250, 250, 250, 250,\n",
       "        250, 250, 250, 250, 250, 250, 250, 250, 250, 250, 250, 250, 250,\n",
       "        250, 250, 250, 250, 250, 250, 250, 250, 250, 250, 250, 250, 250,\n",
       "        250, 250, 250, 250, 250, 250, 250, 250]),\n",
       " 'wall_thickness': array([125, 125, 125, 125, 125, 125, 125, 125, 125, 125, 125, 125, 125,\n",
       "        125, 125, 125, 125, 125, 125, 125, 125, 125, 125, 125, 125, 125,\n",
       "        125, 125, 125, 125, 125, 125, 125, 125, 125, 125, 125, 125, 125,\n",
       "        125, 125, 125, 125, 125, 125, 125, 125, 125, 125, 125, 125, 125,\n",
       "        125, 125, 125, 125, 125, 125, 125, 125, 125, 125, 125, 125, 125,\n",
       "        125, 125, 125, 125, 125, 125, 125, 125, 125, 125, 125, 125, 125,\n",
       "        125, 125, 125, 125, 125, 125, 125, 125, 125, 125, 125, 125, 125,\n",
       "        125, 125, 125, 125, 125, 125, 125, 125, 125, 125, 125, 125, 125,\n",
       "        125, 125, 125, 125, 125, 125, 125, 125]),\n",
       " 'safety_factor': array([4, 4, 4, 4, 4, 4, 4, 4, 4, 4, 4, 4, 4, 4, 4, 4, 4, 4, 4, 4, 4, 4,\n",
       "        4, 4, 4, 4, 4, 4, 4, 4, 4, 4, 4, 4, 4, 4, 4, 4, 4, 4, 4, 4, 4, 4,\n",
       "        4, 4, 4, 4, 4, 4, 4, 4, 4, 4, 4, 4, 4, 4, 4, 4, 4, 4, 4, 4, 4, 4,\n",
       "        4, 4, 4, 4, 4, 4, 4, 4, 4, 4, 4, 4, 4, 4, 4, 4, 4, 4, 4, 4, 4, 4,\n",
       "        4, 4, 4, 4, 4, 4, 4, 4, 4, 4, 4, 4, 4, 4, 4, 4, 4, 4, 4, 3, 2, 2,\n",
       "        1, 1]),\n",
       " 'inspection_groundline': array([20, 19, 18, 17, 16, 15, 14, 13, 12, 11, 10,  9,  8,  7,  6,  5,  4,\n",
       "         3,  2,  1,  0,  4,  3,  2,  1,  0,  4,  3,  2,  1,  0,  4,  3,  2,\n",
       "         1,  0,  4,  3,  2,  1,  0,  4,  3,  2,  1,  0,  4,  3,  2,  1,  0,\n",
       "         4,  3,  2,  1,  0,  4,  3,  2,  1,  0,  4,  3,  2,  1,  0,  4,  3,\n",
       "         2,  1,  0,  4,  3,  2,  1,  0,  4,  3,  2,  1,  0,  4,  3,  2,  1,\n",
       "         0,  4,  3,  2,  1,  0,  4,  3,  2,  1,  0,  4,  3,  2,  1,  0,  4,\n",
       "         3,  2,  1,  0,  4,  3,  2,  1,  0,  4]),\n",
       " 'pole_saver_rod': array([-1, -1, -1, -1, -1, -1, -1, -1, -1, -1, -1, -1, -1, -1, -1, -1, -1,\n",
       "        -1, -1, -1, -1, -1, -1, -1, -1, -1, -1, -1, -1, -1, -1, -1, -1, -1,\n",
       "        -1, -1, -1, -1, -1, -1, -1, -1, -1, -1, -1, -1, -1, -1, -1, -1, -1,\n",
       "        -1, -1, -1, -1, -1, -1, -1, -1, -1, -1, -1, -1, -1, -1, -1, -1, -1,\n",
       "        -1, -1, -1, -1, -1, -1, -1, -1, -1, -1, -1, -1, -1, -1, -1, -1, -1,\n",
       "        -1, -1, -1, -1, -1, -1, -1, -1, -1, -1, -1, -1, -1, -1, -1, -1, -1,\n",
       "        -1, -1, -1, -1, -1, -1, -1, -1, -1, -1]),\n",
       " 'conditional_failure': array([-1, -1, -1, -1, -1, -1, -1, -1, -1, -1, -1, -1, -1, -1, -1, -1, -1,\n",
       "        -1, -1, -1, -1, -1, -1, -1, -1, -1, -1, -1, -1, -1, -1, -1, -1, -1,\n",
       "        -1, -1, -1, -1, -1, -1, -1, -1, -1, -1, -1, -1, -1, -1, -1, -1, -1,\n",
       "        -1, -1, -1, -1, -1, -1, -1, -1, -1, -1, -1, -1, -1, -1, -1, -1, -1,\n",
       "        -1, -1, -1, -1, -1, -1, -1, -1, -1, -1, -1, -1, -1, -1, -1, -1, -1,\n",
       "        -1, -1, -1, -1, -1, -1, -1, -1, -1, -1, -1, -1, -1, -1, -1, -1, -1,\n",
       "        -1, -1, -1, -1, -1, -1, -1, -1, -1, -1]),\n",
       " 'functional_failure': array([-1, -1, -1, -1, -1, -1, -1, -1, -1, -1, -1, -1, -1, -1, -1, -1, -1,\n",
       "        -1, -1, -1, -1, -1, -1, -1, -1, -1, -1, -1, -1, -1, -1, -1, -1, -1,\n",
       "        -1, -1, -1, -1, -1, -1, -1, -1, -1, -1, -1, -1, -1, -1, -1, -1, -1,\n",
       "        -1, -1, -1, -1, -1, -1, -1, -1, -1, -1, -1, -1, -1, -1, -1, -1, -1,\n",
       "        -1, -1, -1, -1, -1, -1, -1, -1, -1, -1, -1, -1, -1, -1, -1, -1, -1,\n",
       "        -1, -1, -1, -1, -1, -1, -1, -1, -1, -1, -1, -1, -1, -1, -1, -1, -1,\n",
       "        -1, -1, -1, -1, -1, -1, -1, -1, -1, -1])}"
      ]
     },
     "metadata": {},
     "execution_count": 65
    }
   ],
   "source": [
    "comp.fm['fungal decay | internal'].timeline\n",
    "#comp.fm['termites'].timeline"
   ]
  },
  {
   "cell_type": "code",
   "execution_count": 42,
   "metadata": {},
   "outputs": [
    {
     "output_type": "execute_result",
     "data": {
      "text/plain": [
       "array([125.        , 125.        , 125.        , ...,  19.88794809,\n",
       "        19.88794809,  19.88794809])"
      ]
     },
     "metadata": {},
     "execution_count": 42
    }
   ],
   "source": [
    "comp.indicator['wall_thickness']._timelines[25]['termites']"
   ]
  },
  {
   "cell_type": "code",
   "execution_count": 58,
   "metadata": {},
   "outputs": [
    {
     "output_type": "execute_result",
     "data": {
      "text/plain": [
       "{'initiation': False, 'detection': True, 'failure': False}"
      ]
     },
     "metadata": {},
     "execution_count": 58
    }
   ],
   "source": [
    "comp.fm['fungal decay | internal'].states"
   ]
  },
  {
   "cell_type": "code",
   "execution_count": null,
   "metadata": {},
   "outputs": [],
   "source": []
  }
 ]
}