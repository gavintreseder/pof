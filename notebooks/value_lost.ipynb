{
 "cells": [
  {
   "cell_type": "markdown",
   "metadata": {},
   "source": [
    "# Value Lost\n",
    "\n",
    "A notebook to determine the value lost when applying a maintenance strategy defined in an asset model to the population with an explanation of the steps to gee there.\n",
    "\n",
    "Requested: greg.bell@essentialenergy.com.au\n",
    "Author: gavin.treseder@essentialenergy.com.au\n",
    "\n",
    "## Contents\n",
    "1. Project Setup\n",
    "2. Load Data\n",
    "3. Simulation\n",
    "4. Sensitivity\n"
   ]
  },
  {
   "source": [
    "## Project Setup\n",
    "Several steps need to be completed to get the project ready for analysis\n",
    "### Current Working Directory\n",
    "Set the file path so that we can import pof code and load files"
   ],
   "cell_type": "markdown",
   "metadata": {}
  },
  {
   "cell_type": "code",
   "execution_count": 1,
   "metadata": {},
   "outputs": [],
   "source": [
    "import sys\n",
    "import os\n",
    "sys.path.append(os.path.dirname(os.getcwd()))"
   ]
  },
  {
   "source": [
    "### Import packages\n",
    "\n",
    "Import the packages that are required for this process "
   ],
   "cell_type": "markdown",
   "metadata": {}
  },
  {
   "cell_type": "code",
   "execution_count": 2,
   "metadata": {},
   "outputs": [],
   "source": [
    "import copy\n",
    "\n",
    "from IPython.display import clear_output\n",
    "import numpy as np \n",
    "import pandas as pd\n",
    "import plotly.express as px\n",
    "\n",
    "import scipy.stats as ss\n",
    "\n",
    "from pof.system import System\n",
    "from pof.interface import figures\n",
    "from pof.interface.figures import make_sensitivity_fig\n",
    "from pof.loader.asset_model_loader import AssetModelLoader\n",
    "from pof.paths import Paths\n",
    "\n",
    "%matplotlib inline"
   ]
  },
  {
   "source": [
    "# Load Data\n",
    "## Load the Asset Model\n",
    "The asset model needs to be loaded from the excel file and converted into a component object that execute simulations"
   ],
   "cell_type": "markdown",
   "metadata": {}
  },
  {
   "source": [
    "asset_model_filename = \"Asset Model.xlsx\"\n",
    "\n",
    "paths = Paths()\n",
    "model_path = paths.demo_path + os.sep + asset_model_filename\n",
    "\n",
    "try:\n",
    "    aml = AssetModelLoader()\n",
    "    pof_data = aml.load(model_path)\n",
    "    system = System.from_dict(pof_data['overhead_network'])\n",
    "    comp = system.comp['pole']\n",
    "    print(\"Asset Model loaded\")\n",
    "    pass\n",
    "except:\n",
    "    comp = Component.demo()\n",
    "    print(\"Demo Model loaded\")"
   ],
   "cell_type": "code",
   "metadata": {},
   "execution_count": 3,
   "outputs": [
    {
     "output_type": "stream",
     "name": "stderr",
     "text": [
      "WARNING:root:Invalid Data () - {'task': 'inspection', 'level_of_repair': 'as_bad_as_old', 'admin': 'yes', 'maint': 'no', 'travel': 'yes'}\n",
      "WARNING:root:t_interval will be scaled to the nearest integer during simulations - 4.5\n",
      "WARNING:root:Invalid Data () - {'task': 'repair', 'level_of_repair': 'grp'}\n",
      "WARNING:root:Invalid Data () - {'task': 'replace', 'level_of_repair': 'as_good_as_new'}\n",
      "WARNING:root:Invalid Data () - {'task': 'replace', 'level_of_repair': 'as_good_as_new'}\n",
      "WARNING:root:Invalid Data () - {'task': 'inspection', 'admin': 'yes', 'maint': 'no', 'travel': 'yes'}\n",
      "WARNING:root:t_interval will be scaled to the nearest integer during simulations - 4.5\n",
      "WARNING:root:Invalid Data () - {'task': 'replace', 'level_of_repair': 'as_good_as_new'}\n",
      "WARNING:root:Invalid Data () - {'task': 'replace', 'level_of_repair': 'as_good_as_new'}\n",
      "WARNING:root:Invalid Data () - {'task': 'inspection', 'level_of_repair': 'as_bad_as_old', 'admin': 'yes', 'maint': 'no', 'travel': 'yes'}\n",
      "WARNING:root:t_interval will be scaled to the nearest integer during simulations - 4.5\n",
      "WARNING:root:Invalid Data () - {'task': 'repair', 'level_of_repair': 'as_bad_as_old'}\n",
      "WARNING:root:Invalid Data () - {'task': 'replace', 'level_of_repair': 'as_good_as_new'}\n",
      "WARNING:root:Invalid Data () - {'task': 'replace', 'level_of_repair': 'as_good_as_new'}\n",
      "WARNING:root:Invalid Data () - {'task': 'inspection', 'level_of_repair': 'as_bad_as_old'}\n",
      "WARNING:root:t_interval will be scaled to the nearest integer during simulations - 4.5\n",
      "WARNING:root:Invalid Data () - {'task': 'inspection', 'admin': 'yes', 'maint': 'no', 'travel': 'yes'}\n",
      "WARNING:root:Invalid Data () - {'task': 'replace', 'level_of_repair': 'as_good_as_new'}\n",
      "WARNING:root:Invalid Data () - {'task': 'inspection', 'level_of_repair': 'as_bad_as_old'}\n",
      "WARNING:root:Invalid Data () - {'task': 'replace', 'level_of_repair': 'as_good_as_new'}\n",
      "WARNING:root:Invalid Data () - {'task': 'inspection', 'level_of_repair': 'as_bad_as_old'}\n",
      "WARNING:root:Invalid Data () - {'task': 'replace', 'level_of_repair': 'as_good_as_new'}\n",
      "WARNING:root:Invalid Data () - {'task': 'inspection'}\n",
      "WARNING:root:t_interval will be scaled to the nearest integer during simulations - 4.5\n",
      "WARNING:root:Invalid Data () - {'task': 'replace', 'level_of_repair': 'as_good_as_new'}\n",
      "WARNING:root:Invalid Data () - {'task': 'replace', 'level_of_repair': 'as_good_as_new'}\n",
      "WARNING:root:Invalid Data () - {'task': 'inspection', 'level_of_repair': 'as_bad_as_old', 'admin': 'yes', 'maint': 'no', 'travel': 'yes'}\n",
      "WARNING:root:t_interval will be scaled to the nearest integer during simulations - 4.5\n",
      "WARNING:root:Invalid Data () - {'task': 'replace', 'level_of_repair': 'as_good_as_new'}\n",
      "WARNING:root:Invalid Data () - {'task': 'replace', 'level_of_repair': 'as_good_as_new'}\n",
      "WARNING:root:Invalid Data () - {'task': 'inspection', 'level_of_repair': 'as_bad_as_old', 'admin': 'yes', 'maint': 'no', 'travel': 'yes'}\n",
      "WARNING:root:t_interval will be scaled to the nearest integer during simulations - 4.5\n",
      "WARNING:root:Invalid Data () - {'task': 'replace', 'level_of_repair': 'as_good_as_new'}\n",
      "WARNING:root:Invalid Data () - {'task': 'replace', 'level_of_repair': 'as_good_as_new'}\n",
      "Asset Model loaded\n"
     ]
    }
   ]
  },
  {
   "source": [
    "### Simulation - Single Event\n",
    "See Failure Mode notebook"
   ],
   "cell_type": "markdown",
   "metadata": {}
  },
  {
   "source": [
    "### Simulation - Monte Carlo \n",
    "The purpose of sensitivity is to understand the relationship between cost/risk/performance of a maintainence strategy when an input variable is changed. In previous notebooks we introduced the simulation concept and the outputs that can be produced. The length of time required to complete a sensitivity analysis is influenced by:\n",
    "- t_end: the length of the time the each iteration is simulated to (sim time increases with t_end. Dependent on expected life and whether replacements occur)\n",
    "- n_iterations: the number of iterations that are completed per simulation (sim time increases with n_iterations)\n",
    "- model_units: the time units to use when completing a simmulation (sim time increases with smaller units)\n",
    "The simulation is below has been set to complete quickly to demonstrate functionality"
   ],
   "cell_type": "markdown",
   "metadata": {}
  },
  {
   "cell_type": "code",
   "execution_count": 4,
   "metadata": {},
   "outputs": [],
   "source": [
    "t_end = 100\n",
    "n_iterations = 100\n",
    "model_units = 'years'"
   ]
  },
  {
   "cell_type": "code",
   "execution_count": 5,
   "metadata": {},
   "outputs": [
    {
     "output_type": "display_data",
     "data": {
      "text/plain": "HBox(children=(HTML(value='Simulation'), FloatProgress(value=0.0), HTML(value='')))",
      "application/vnd.jupyter.widget-view+json": {
       "version_major": 2,
       "version_minor": 0,
       "model_id": "c5efe227acd24bb9858d66926f4d55a5"
      }
     },
     "metadata": {}
    },
    {
     "output_type": "display_data",
     "data": {
      "application/vnd.plotly.v1+json": {
       "config": {
        "plotlyServerURL": "https://plot.ly"
       },
       "data": [
        {
         "hovertemplate": "Task=risk<br>Failure Mode=termites<br>Age (years)=%{x}<br>Cost Cumulative=%{y}<extra></extra>",
         "legendgroup": "risk",
         "line": {
          "color": "rgb(127, 60, 141)"
         },
         "mode": "lines",
         "name": "risk",
         "orientation": "v",
         "showlegend": true,
         "stackgroup": "1",
         "type": "scatter",
         "x": [
          0,
          1,
          2,
          3,
          4,
          5,
          6,
          7,
          8,
          9,
          10,
          11,
          12,
          13,
          14,
          15,
          16,
          17,
          18,
          19,
          20,
          21,
          22,
          23,
          24,
          25,
          26,
          27,
          28,
          29,
          30,
          31,
          32,
          33,
          34,
          35,
          36,
          37,
          38,
          39,
          40,
          41,
          42,
          43,
          44,
          45,
          46,
          47,
          48,
          49,
          50,
          51,
          52,
          53,
          54,
          55,
          56,
          57,
          58,
          59,
          60,
          61,
          62,
          63,
          64,
          65,
          66,
          67,
          68,
          69,
          70,
          71,
          72,
          73,
          74,
          75,
          76,
          77,
          78,
          79,
          80,
          81,
          82,
          83,
          84,
          85,
          86,
          87,
          88,
          89,
          90,
          91,
          92,
          93,
          94,
          95,
          96,
          97,
          98,
          99
         ],
         "xaxis": "x",
         "y": [
          0,
          0,
          0,
          0,
          0,
          0,
          0,
          0,
          0,
          0,
          0,
          0,
          0,
          0,
          0,
          0,
          0,
          0,
          0,
          0,
          0,
          0,
          0,
          0,
          0,
          0,
          0,
          0,
          0,
          0,
          0,
          0,
          0,
          0,
          0,
          0,
          0,
          0,
          0,
          0,
          0,
          0,
          0,
          0,
          0,
          0,
          0,
          0,
          0,
          0,
          0,
          0,
          0,
          0,
          0,
          0,
          0,
          0,
          0,
          0,
          0,
          0,
          0,
          0,
          0,
          0,
          0,
          0,
          0,
          0,
          0,
          0,
          0,
          0,
          0,
          0,
          0,
          0,
          0,
          0,
          0,
          0,
          0,
          0,
          0,
          0,
          0,
          0,
          0,
          0,
          0,
          0,
          0,
          0,
          0,
          0,
          0,
          0,
          0,
          0
         ],
         "yaxis": "y"
        },
        {
         "hovertemplate": "Task=risk<br>Failure Mode=fungal decay | external<br>Age (years)=%{x}<br>Cost Cumulative=%{y}<extra></extra>",
         "legendgroup": "risk",
         "line": {
          "color": "rgb(127, 60, 141)"
         },
         "mode": "lines",
         "name": "risk",
         "orientation": "v",
         "showlegend": false,
         "stackgroup": "1",
         "type": "scatter",
         "x": [
          0,
          1,
          2,
          3,
          4,
          5,
          6,
          7,
          8,
          9,
          10,
          11,
          12,
          13,
          14,
          15,
          16,
          17,
          18,
          19,
          20,
          21,
          22,
          23,
          24,
          25,
          26,
          27,
          28,
          29,
          30,
          31,
          32,
          33,
          34,
          35,
          36,
          37,
          38,
          39,
          40,
          41,
          42,
          43,
          44,
          45,
          46,
          47,
          48,
          49,
          50,
          51,
          52,
          53,
          54,
          55,
          56,
          57,
          58,
          59,
          60,
          61,
          62,
          63,
          64,
          65,
          66,
          67,
          68,
          69,
          70,
          71,
          72,
          73,
          74,
          75,
          76,
          77,
          78,
          79,
          80,
          81,
          82,
          83,
          84,
          85,
          86,
          87,
          88,
          89,
          90,
          91,
          92,
          93,
          94,
          95,
          96,
          97,
          98,
          99
         ],
         "xaxis": "x",
         "y": [
          0,
          0,
          0,
          0,
          0,
          0,
          0,
          0,
          0,
          0,
          0,
          0,
          0,
          0,
          0,
          0,
          0,
          0,
          0,
          0,
          0,
          500,
          500,
          500,
          500,
          500,
          500,
          500,
          500,
          500,
          500,
          500,
          500,
          500,
          500,
          500,
          500,
          500,
          500,
          500,
          500,
          500,
          500,
          500,
          500,
          500,
          500,
          500,
          500,
          500,
          500,
          500,
          500,
          500,
          500,
          500,
          500,
          500,
          500,
          500,
          500,
          500,
          500,
          500,
          500,
          500,
          500,
          500,
          500,
          500,
          500,
          500,
          500,
          500,
          500,
          500,
          500,
          500,
          500,
          500,
          500,
          500,
          500,
          500,
          500,
          500,
          500,
          500,
          500,
          500,
          500,
          1000,
          1000,
          1000,
          1000,
          1000,
          1000,
          1500,
          1500,
          2000
         ],
         "yaxis": "y"
        },
        {
         "hovertemplate": "Task=risk<br>Failure Mode=fungal decay | internal<br>Age (years)=%{x}<br>Cost Cumulative=%{y}<extra></extra>",
         "legendgroup": "risk",
         "line": {
          "color": "rgb(127, 60, 141)"
         },
         "mode": "lines",
         "name": "risk",
         "orientation": "v",
         "showlegend": false,
         "stackgroup": "1",
         "type": "scatter",
         "x": [
          0,
          1,
          2,
          3,
          4,
          5,
          6,
          7,
          8,
          9,
          10,
          11,
          12,
          13,
          14,
          15,
          16,
          17,
          18,
          19,
          20,
          21,
          22,
          23,
          24,
          25,
          26,
          27,
          28,
          29,
          30,
          31,
          32,
          33,
          34,
          35,
          36,
          37,
          38,
          39,
          40,
          41,
          42,
          43,
          44,
          45,
          46,
          47,
          48,
          49,
          50,
          51,
          52,
          53,
          54,
          55,
          56,
          57,
          58,
          59,
          60,
          61,
          62,
          63,
          64,
          65,
          66,
          67,
          68,
          69,
          70,
          71,
          72,
          73,
          74,
          75,
          76,
          77,
          78,
          79,
          80,
          81,
          82,
          83,
          84,
          85,
          86,
          87,
          88,
          89,
          90,
          91,
          92,
          93,
          94,
          95,
          96,
          97,
          98,
          99
         ],
         "xaxis": "x",
         "y": [
          0,
          0,
          0,
          0,
          0,
          0,
          0,
          0,
          0,
          0,
          0,
          0,
          0,
          0,
          0,
          0,
          0,
          0,
          0,
          0,
          0,
          0,
          0,
          0,
          0,
          0,
          0,
          0,
          0,
          0,
          0,
          0,
          0,
          0,
          0,
          0,
          0,
          0,
          0,
          0,
          0,
          0,
          0,
          0,
          0,
          0,
          0,
          0,
          0,
          0,
          0,
          0,
          0,
          0,
          0,
          0,
          0,
          0,
          0,
          0,
          0,
          0,
          0,
          0,
          0,
          0,
          0,
          0,
          0,
          0,
          0,
          0,
          0,
          0,
          0,
          0,
          0,
          0,
          0,
          0,
          0,
          0,
          0,
          0,
          0,
          0,
          0,
          0,
          0,
          0,
          0,
          0,
          0,
          0,
          0,
          0,
          0,
          0,
          0,
          0
         ],
         "yaxis": "y"
        },
        {
         "hovertemplate": "Task=risk<br>Failure Mode=lightning<br>Age (years)=%{x}<br>Cost Cumulative=%{y}<extra></extra>",
         "legendgroup": "risk",
         "line": {
          "color": "rgb(127, 60, 141)"
         },
         "mode": "lines",
         "name": "risk",
         "orientation": "v",
         "showlegend": false,
         "stackgroup": "1",
         "type": "scatter",
         "x": [
          0,
          1,
          2,
          3,
          4,
          5,
          6,
          7,
          8,
          9,
          10,
          11,
          12,
          13,
          14,
          15,
          16,
          17,
          18,
          19,
          20,
          21,
          22,
          23,
          24,
          25,
          26,
          27,
          28,
          29,
          30,
          31,
          32,
          33,
          34,
          35,
          36,
          37,
          38,
          39,
          40,
          41,
          42,
          43,
          44,
          45,
          46,
          47,
          48,
          49,
          50,
          51,
          52,
          53,
          54,
          55,
          56,
          57,
          58,
          59,
          60,
          61,
          62,
          63,
          64,
          65,
          66,
          67,
          68,
          69,
          70,
          71,
          72,
          73,
          74,
          75,
          76,
          77,
          78,
          79,
          80,
          81,
          82,
          83,
          84,
          85,
          86,
          87,
          88,
          89,
          90,
          91,
          92,
          93,
          94,
          95,
          96,
          97,
          98,
          99
         ],
         "xaxis": "x",
         "y": [
          0,
          0,
          0,
          0,
          0,
          0,
          0,
          0,
          0,
          0,
          0,
          0,
          0,
          0,
          0,
          0,
          0,
          0,
          0,
          0,
          500,
          500,
          500,
          500,
          1000,
          1000,
          1000,
          1000,
          1000,
          1000,
          1000,
          1000,
          1000,
          1000,
          1000,
          1000,
          1000,
          1000,
          1000,
          1000,
          1000,
          1000,
          1000,
          1000,
          1000,
          1000,
          1000,
          1000,
          1000,
          1000,
          1500,
          1500,
          1500,
          1500,
          1500,
          1500,
          1500,
          1500,
          1500,
          1500,
          1500,
          1500,
          1500,
          1500,
          1500,
          1500,
          1500,
          1500,
          1500,
          1500,
          1500,
          1500,
          1500,
          1500,
          1500,
          1500,
          1500,
          1500,
          1500,
          1500,
          1500,
          1500,
          1500,
          1500,
          1500,
          1500,
          1500,
          1500,
          1500,
          1500,
          1500,
          1500,
          1500,
          1500,
          1500,
          1500,
          1500,
          1500,
          1500,
          1500
         ],
         "yaxis": "y"
        },
        {
         "hovertemplate": "Task=risk<br>Failure Mode=weathering<br>Age (years)=%{x}<br>Cost Cumulative=%{y}<extra></extra>",
         "legendgroup": "risk",
         "line": {
          "color": "rgb(127, 60, 141)"
         },
         "mode": "lines",
         "name": "risk",
         "orientation": "v",
         "showlegend": false,
         "stackgroup": "1",
         "type": "scatter",
         "x": [
          0,
          1,
          2,
          3,
          4,
          5,
          6,
          7,
          8,
          9,
          10,
          11,
          12,
          13,
          14,
          15,
          16,
          17,
          18,
          19,
          20,
          21,
          22,
          23,
          24,
          25,
          26,
          27,
          28,
          29,
          30,
          31,
          32,
          33,
          34,
          35,
          36,
          37,
          38,
          39,
          40,
          41,
          42,
          43,
          44,
          45,
          46,
          47,
          48,
          49,
          50,
          51,
          52,
          53,
          54,
          55,
          56,
          57,
          58,
          59,
          60,
          61,
          62,
          63,
          64,
          65,
          66,
          67,
          68,
          69,
          70,
          71,
          72,
          73,
          74,
          75,
          76,
          77,
          78,
          79,
          80,
          81,
          82,
          83,
          84,
          85,
          86,
          87,
          88,
          89,
          90,
          91,
          92,
          93,
          94,
          95,
          96,
          97,
          98,
          99
         ],
         "xaxis": "x",
         "y": [
          0,
          0,
          0,
          0,
          0,
          0,
          0,
          0,
          0,
          0,
          0,
          0,
          0,
          0,
          0,
          0,
          0,
          0,
          0,
          0,
          0,
          0,
          0,
          0,
          0,
          0,
          0,
          0,
          0,
          0,
          0,
          0,
          0,
          0,
          0,
          0,
          0,
          0,
          0,
          0,
          0,
          0,
          0,
          0,
          0,
          0,
          0,
          0,
          0,
          0,
          0,
          0,
          0,
          0,
          0,
          0,
          0,
          0,
          0,
          0,
          0,
          0,
          0,
          0,
          0,
          0,
          0,
          0,
          0,
          0,
          0,
          0,
          0,
          0,
          0,
          0,
          0,
          0,
          0,
          0,
          0,
          0,
          0,
          0,
          0,
          0,
          0,
          0,
          0,
          0,
          0,
          0,
          0,
          0,
          0,
          0,
          0,
          0,
          0,
          0
         ],
         "yaxis": "y"
        },
        {
         "hovertemplate": "Task=risk<br>Failure Mode=fire_damage<br>Age (years)=%{x}<br>Cost Cumulative=%{y}<extra></extra>",
         "legendgroup": "risk",
         "line": {
          "color": "rgb(127, 60, 141)"
         },
         "mode": "lines",
         "name": "risk",
         "orientation": "v",
         "showlegend": false,
         "stackgroup": "1",
         "type": "scatter",
         "x": [
          0,
          1,
          2,
          3,
          4,
          5,
          6,
          7,
          8,
          9,
          10,
          11,
          12,
          13,
          14,
          15,
          16,
          17,
          18,
          19,
          20,
          21,
          22,
          23,
          24,
          25,
          26,
          27,
          28,
          29,
          30,
          31,
          32,
          33,
          34,
          35,
          36,
          37,
          38,
          39,
          40,
          41,
          42,
          43,
          44,
          45,
          46,
          47,
          48,
          49,
          50,
          51,
          52,
          53,
          54,
          55,
          56,
          57,
          58,
          59,
          60,
          61,
          62,
          63,
          64,
          65,
          66,
          67,
          68,
          69,
          70,
          71,
          72,
          73,
          74,
          75,
          76,
          77,
          78,
          79,
          80,
          81,
          82,
          83,
          84,
          85,
          86,
          87,
          88,
          89,
          90,
          91,
          92,
          93,
          94,
          95,
          96,
          97,
          98,
          99
         ],
         "xaxis": "x",
         "y": [
          0,
          0,
          0,
          0,
          0,
          0,
          0,
          0,
          0,
          0,
          0,
          500,
          500,
          500,
          500,
          500,
          500,
          500,
          500,
          500,
          500,
          500,
          500,
          500,
          500,
          500,
          500,
          500,
          500,
          500,
          500,
          500,
          500,
          500,
          500,
          500,
          500,
          500,
          500,
          500,
          500,
          500,
          1000,
          1000,
          1000,
          1000,
          1000,
          1000,
          1000,
          1000,
          1000,
          1000,
          1000,
          1000,
          1000,
          1000,
          1000,
          1000,
          1000,
          1000,
          1000,
          1000,
          1000,
          1000,
          1000,
          1000,
          1000,
          1000,
          1000,
          1000,
          1000,
          1000,
          1000,
          1000,
          1000,
          1000,
          1000,
          1000,
          1000,
          1000,
          1000,
          1000,
          1000,
          1000,
          1000,
          1000,
          1000,
          1000,
          1000,
          1000,
          1000,
          1000,
          1000,
          1000,
          1000,
          1000,
          1000,
          1000,
          1000,
          1000
         ],
         "yaxis": "y"
        },
        {
         "hovertemplate": "Task=risk<br>Failure Mode=impact<br>Age (years)=%{x}<br>Cost Cumulative=%{y}<extra></extra>",
         "legendgroup": "risk",
         "line": {
          "color": "rgb(127, 60, 141)"
         },
         "mode": "lines",
         "name": "risk",
         "orientation": "v",
         "showlegend": false,
         "stackgroup": "1",
         "type": "scatter",
         "x": [
          0,
          1,
          2,
          3,
          4,
          5,
          6,
          7,
          8,
          9,
          10,
          11,
          12,
          13,
          14,
          15,
          16,
          17,
          18,
          19,
          20,
          21,
          22,
          23,
          24,
          25,
          26,
          27,
          28,
          29,
          30,
          31,
          32,
          33,
          34,
          35,
          36,
          37,
          38,
          39,
          40,
          41,
          42,
          43,
          44,
          45,
          46,
          47,
          48,
          49,
          50,
          51,
          52,
          53,
          54,
          55,
          56,
          57,
          58,
          59,
          60,
          61,
          62,
          63,
          64,
          65,
          66,
          67,
          68,
          69,
          70,
          71,
          72,
          73,
          74,
          75,
          76,
          77,
          78,
          79,
          80,
          81,
          82,
          83,
          84,
          85,
          86,
          87,
          88,
          89,
          90,
          91,
          92,
          93,
          94,
          95,
          96,
          97,
          98,
          99
         ],
         "xaxis": "x",
         "y": [
          0,
          0,
          0,
          0,
          0,
          0,
          0,
          0,
          0,
          0,
          0,
          0,
          0,
          0,
          0,
          0,
          0,
          0,
          0,
          0,
          0,
          0,
          0,
          0,
          500,
          500,
          500,
          500,
          500,
          500,
          500,
          500,
          500,
          500,
          500,
          500,
          500,
          500,
          500,
          500,
          500,
          500,
          1000,
          1000,
          1000,
          1000,
          1000,
          1000,
          1000,
          1000,
          1000,
          1000,
          1000,
          1000,
          1000,
          1000,
          1500,
          1500,
          1500,
          1500,
          1500,
          1500,
          1500,
          1500,
          1500,
          1500,
          1500,
          1500,
          1500,
          1500,
          1500,
          1500,
          2000,
          2000,
          2000,
          2000,
          2000,
          2000,
          2000,
          2000,
          2000,
          2000,
          2000,
          2000,
          2000,
          2000,
          2000,
          2000,
          2000,
          2000,
          2000,
          2000,
          2000,
          2000,
          2000,
          2000,
          2000,
          2000,
          2000,
          2000
         ],
         "yaxis": "y"
        },
        {
         "hovertemplate": "Task=conditional_failure<br>Failure Mode=termites<br>Age (years)=%{x}<br>Cost Cumulative=%{y}<extra></extra>",
         "legendgroup": "conditional_failure",
         "line": {
          "color": "rgb(17, 165, 121)"
         },
         "mode": "lines",
         "name": "conditional_failure",
         "orientation": "v",
         "showlegend": true,
         "stackgroup": "1",
         "type": "scatter",
         "x": [
          0,
          1,
          2,
          3,
          4,
          5,
          6,
          7,
          8,
          9,
          10,
          11,
          12,
          13,
          14,
          15,
          16,
          17,
          18,
          19,
          20,
          21,
          22,
          23,
          24,
          25,
          26,
          27,
          28,
          29,
          30,
          31,
          32,
          33,
          34,
          35,
          36,
          37,
          38,
          39,
          40,
          41,
          42,
          43,
          44,
          45,
          46,
          47,
          48,
          49,
          50,
          51,
          52,
          53,
          54,
          55,
          56,
          57,
          58,
          59,
          60,
          61,
          62,
          63,
          64,
          65,
          66,
          67,
          68,
          69,
          70,
          71,
          72,
          73,
          74,
          75,
          76,
          77,
          78,
          79,
          80,
          81,
          82,
          83,
          84,
          85,
          86,
          87,
          88,
          89,
          90,
          91,
          92,
          93,
          94,
          95,
          96,
          97,
          98,
          99
         ],
         "xaxis": "x",
         "y": [
          0,
          0,
          0,
          0,
          0,
          0,
          0,
          0,
          0,
          0,
          0,
          0,
          0,
          0,
          0,
          0,
          0,
          0,
          0,
          0,
          0,
          0,
          0,
          0,
          0,
          0,
          0,
          0,
          0,
          0,
          0,
          0,
          0,
          0,
          0,
          0,
          0,
          0,
          0,
          0,
          0,
          0,
          0,
          0,
          0,
          0,
          0,
          0,
          0,
          0,
          0,
          0,
          0,
          0,
          0,
          0,
          0,
          70,
          70,
          70,
          70,
          105,
          105,
          105,
          105,
          105,
          105,
          105,
          105,
          105,
          105,
          105,
          105,
          105,
          105,
          105,
          105,
          140,
          140,
          140,
          140,
          140,
          140,
          140,
          140,
          210,
          210,
          210,
          210,
          245,
          245,
          245,
          245,
          245,
          245,
          245,
          245,
          280,
          280,
          280
         ],
         "yaxis": "y"
        },
        {
         "hovertemplate": "Task=conditional_failure<br>Failure Mode=fungal decay | external<br>Age (years)=%{x}<br>Cost Cumulative=%{y}<extra></extra>",
         "legendgroup": "conditional_failure",
         "line": {
          "color": "rgb(17, 165, 121)"
         },
         "mode": "lines",
         "name": "conditional_failure",
         "orientation": "v",
         "showlegend": false,
         "stackgroup": "1",
         "type": "scatter",
         "x": [
          0,
          1,
          2,
          3,
          4,
          5,
          6,
          7,
          8,
          9,
          10,
          11,
          12,
          13,
          14,
          15,
          16,
          17,
          18,
          19,
          20,
          21,
          22,
          23,
          24,
          25,
          26,
          27,
          28,
          29,
          30,
          31,
          32,
          33,
          34,
          35,
          36,
          37,
          38,
          39,
          40,
          41,
          42,
          43,
          44,
          45,
          46,
          47,
          48,
          49,
          50,
          51,
          52,
          53,
          54,
          55,
          56,
          57,
          58,
          59,
          60,
          61,
          62,
          63,
          64,
          65,
          66,
          67,
          68,
          69,
          70,
          71,
          72,
          73,
          74,
          75,
          76,
          77,
          78,
          79,
          80,
          81,
          82,
          83,
          84,
          85,
          86,
          87,
          88,
          89,
          90,
          91,
          92,
          93,
          94,
          95,
          96,
          97,
          98,
          99
         ],
         "xaxis": "x",
         "y": [
          0,
          0,
          0,
          0,
          0,
          0,
          0,
          0,
          0,
          0,
          0,
          0,
          0,
          0,
          0,
          0,
          0,
          0,
          0,
          0,
          0,
          0,
          0,
          0,
          0,
          35,
          35,
          35,
          35,
          35,
          35,
          35,
          35,
          70,
          70,
          70,
          70,
          70,
          70,
          70,
          70,
          70,
          70,
          70,
          70,
          70,
          70,
          70,
          70,
          70,
          70,
          70,
          70,
          70,
          70,
          140,
          140,
          140,
          140,
          140,
          140,
          140,
          140,
          175,
          175,
          210,
          210,
          210,
          210,
          210,
          210,
          245,
          245,
          245,
          280,
          350,
          350,
          490,
          490,
          490,
          490,
          525,
          560,
          560,
          560,
          595,
          595,
          595,
          595,
          595,
          595,
          595,
          595,
          595,
          595,
          595,
          595,
          630,
          630,
          630
         ],
         "yaxis": "y"
        },
        {
         "hovertemplate": "Task=conditional_failure<br>Failure Mode=fungal decay | internal<br>Age (years)=%{x}<br>Cost Cumulative=%{y}<extra></extra>",
         "legendgroup": "conditional_failure",
         "line": {
          "color": "rgb(17, 165, 121)"
         },
         "mode": "lines",
         "name": "conditional_failure",
         "orientation": "v",
         "showlegend": false,
         "stackgroup": "1",
         "type": "scatter",
         "x": [
          0,
          1,
          2,
          3,
          4,
          5,
          6,
          7,
          8,
          9,
          10,
          11,
          12,
          13,
          14,
          15,
          16,
          17,
          18,
          19,
          20,
          21,
          22,
          23,
          24,
          25,
          26,
          27,
          28,
          29,
          30,
          31,
          32,
          33,
          34,
          35,
          36,
          37,
          38,
          39,
          40,
          41,
          42,
          43,
          44,
          45,
          46,
          47,
          48,
          49,
          50,
          51,
          52,
          53,
          54,
          55,
          56,
          57,
          58,
          59,
          60,
          61,
          62,
          63,
          64,
          65,
          66,
          67,
          68,
          69,
          70,
          71,
          72,
          73,
          74,
          75,
          76,
          77,
          78,
          79,
          80,
          81,
          82,
          83,
          84,
          85,
          86,
          87,
          88,
          89,
          90,
          91,
          92,
          93,
          94,
          95,
          96,
          97,
          98,
          99
         ],
         "xaxis": "x",
         "y": [
          0,
          0,
          0,
          0,
          0,
          0,
          0,
          0,
          0,
          0,
          0,
          0,
          0,
          0,
          0,
          0,
          0,
          0,
          0,
          0,
          0,
          0,
          0,
          0,
          0,
          0,
          0,
          0,
          0,
          0,
          0,
          0,
          0,
          35,
          35,
          35,
          35,
          35,
          35,
          35,
          35,
          105,
          105,
          105,
          105,
          105,
          105,
          105,
          105,
          105,
          105,
          105,
          105,
          105,
          105,
          105,
          105,
          140,
          140,
          210,
          210,
          210,
          280,
          280,
          280,
          315,
          350,
          350,
          385,
          385,
          385,
          385,
          385,
          455,
          455,
          490,
          490,
          490,
          490,
          525,
          525,
          525,
          595,
          595,
          595,
          665,
          700,
          700,
          700,
          700,
          700,
          700,
          700,
          700,
          735,
          735,
          770,
          770,
          805,
          805
         ],
         "yaxis": "y"
        },
        {
         "hovertemplate": "Task=conditional_failure<br>Failure Mode=weathering<br>Age (years)=%{x}<br>Cost Cumulative=%{y}<extra></extra>",
         "legendgroup": "conditional_failure",
         "line": {
          "color": "rgb(17, 165, 121)"
         },
         "mode": "lines",
         "name": "conditional_failure",
         "orientation": "v",
         "showlegend": false,
         "stackgroup": "1",
         "type": "scatter",
         "x": [
          0,
          1,
          2,
          3,
          4,
          5,
          6,
          7,
          8,
          9,
          10,
          11,
          12,
          13,
          14,
          15,
          16,
          17,
          18,
          19,
          20,
          21,
          22,
          23,
          24,
          25,
          26,
          27,
          28,
          29,
          30,
          31,
          32,
          33,
          34,
          35,
          36,
          37,
          38,
          39,
          40,
          41,
          42,
          43,
          44,
          45,
          46,
          47,
          48,
          49,
          50,
          51,
          52,
          53,
          54,
          55,
          56,
          57,
          58,
          59,
          60,
          61,
          62,
          63,
          64,
          65,
          66,
          67,
          68,
          69,
          70,
          71,
          72,
          73,
          74,
          75,
          76,
          77,
          78,
          79,
          80,
          81,
          82,
          83,
          84,
          85,
          86,
          87,
          88,
          89,
          90,
          91,
          92,
          93,
          94,
          95,
          96,
          97,
          98,
          99
         ],
         "xaxis": "x",
         "y": [
          0,
          0,
          0,
          0,
          0,
          0,
          0,
          0,
          0,
          0,
          0,
          0,
          0,
          0,
          0,
          0,
          0,
          0,
          0,
          0,
          0,
          0,
          0,
          0,
          0,
          0,
          0,
          0,
          0,
          0,
          0,
          0,
          0,
          0,
          0,
          0,
          0,
          0,
          0,
          0,
          0,
          0,
          0,
          0,
          0,
          0,
          0,
          0,
          0,
          0,
          0,
          0,
          0,
          0,
          0,
          0,
          0,
          0,
          35,
          35,
          35,
          35,
          35,
          35,
          35,
          35,
          35,
          35,
          35,
          35,
          35,
          35,
          35,
          35,
          35,
          70,
          70,
          70,
          70,
          70,
          70,
          70,
          70,
          70,
          70,
          105,
          140,
          140,
          140,
          140,
          140,
          140,
          140,
          140,
          140,
          140,
          140,
          140,
          140,
          140
         ],
         "yaxis": "y"
        },
        {
         "hovertemplate": "Task=functional_failure<br>Failure Mode=termites<br>Age (years)=%{x}<br>Cost Cumulative=%{y}<extra></extra>",
         "legendgroup": "functional_failure",
         "line": {
          "color": "rgb(57, 105, 172)"
         },
         "mode": "lines",
         "name": "functional_failure",
         "orientation": "v",
         "showlegend": true,
         "stackgroup": "1",
         "type": "scatter",
         "x": [
          0,
          1,
          2,
          3,
          4,
          5,
          6,
          7,
          8,
          9,
          10,
          11,
          12,
          13,
          14,
          15,
          16,
          17,
          18,
          19,
          20,
          21,
          22,
          23,
          24,
          25,
          26,
          27,
          28,
          29,
          30,
          31,
          32,
          33,
          34,
          35,
          36,
          37,
          38,
          39,
          40,
          41,
          42,
          43,
          44,
          45,
          46,
          47,
          48,
          49,
          50,
          51,
          52,
          53,
          54,
          55,
          56,
          57,
          58,
          59,
          60,
          61,
          62,
          63,
          64,
          65,
          66,
          67,
          68,
          69,
          70,
          71,
          72,
          73,
          74,
          75,
          76,
          77,
          78,
          79,
          80,
          81,
          82,
          83,
          84,
          85,
          86,
          87,
          88,
          89,
          90,
          91,
          92,
          93,
          94,
          95,
          96,
          97,
          98,
          99
         ],
         "xaxis": "x",
         "y": [
          0,
          0,
          0,
          0,
          0,
          0,
          0,
          0,
          0,
          0,
          0,
          0,
          0,
          0,
          0,
          0,
          0,
          0,
          0,
          0,
          0,
          0,
          0,
          0,
          0,
          0,
          0,
          0,
          0,
          0,
          0,
          0,
          0,
          0,
          0,
          0,
          0,
          0,
          0,
          0,
          0,
          0,
          0,
          0,
          0,
          0,
          0,
          0,
          0,
          0,
          0,
          0,
          0,
          0,
          0,
          0,
          0,
          0,
          0,
          0,
          0,
          0,
          0,
          0,
          0,
          0,
          0,
          0,
          0,
          0,
          0,
          0,
          0,
          0,
          0,
          0,
          0,
          0,
          0,
          0,
          0,
          0,
          0,
          0,
          0,
          0,
          0,
          0,
          0,
          0,
          0,
          0,
          0,
          0,
          0,
          0,
          0,
          0,
          0,
          0
         ],
         "yaxis": "y"
        },
        {
         "hovertemplate": "Task=functional_failure<br>Failure Mode=fungal decay | external<br>Age (years)=%{x}<br>Cost Cumulative=%{y}<extra></extra>",
         "legendgroup": "functional_failure",
         "line": {
          "color": "rgb(57, 105, 172)"
         },
         "mode": "lines",
         "name": "functional_failure",
         "orientation": "v",
         "showlegend": false,
         "stackgroup": "1",
         "type": "scatter",
         "x": [
          0,
          1,
          2,
          3,
          4,
          5,
          6,
          7,
          8,
          9,
          10,
          11,
          12,
          13,
          14,
          15,
          16,
          17,
          18,
          19,
          20,
          21,
          22,
          23,
          24,
          25,
          26,
          27,
          28,
          29,
          30,
          31,
          32,
          33,
          34,
          35,
          36,
          37,
          38,
          39,
          40,
          41,
          42,
          43,
          44,
          45,
          46,
          47,
          48,
          49,
          50,
          51,
          52,
          53,
          54,
          55,
          56,
          57,
          58,
          59,
          60,
          61,
          62,
          63,
          64,
          65,
          66,
          67,
          68,
          69,
          70,
          71,
          72,
          73,
          74,
          75,
          76,
          77,
          78,
          79,
          80,
          81,
          82,
          83,
          84,
          85,
          86,
          87,
          88,
          89,
          90,
          91,
          92,
          93,
          94,
          95,
          96,
          97,
          98,
          99
         ],
         "xaxis": "x",
         "y": [
          0,
          0,
          0,
          0,
          0,
          0,
          0,
          0,
          0,
          0,
          0,
          0,
          0,
          0,
          0,
          0,
          0,
          0,
          0,
          0,
          0,
          70,
          70,
          70,
          70,
          70,
          70,
          70,
          70,
          70,
          70,
          70,
          70,
          70,
          70,
          70,
          70,
          70,
          70,
          70,
          70,
          70,
          70,
          70,
          70,
          70,
          70,
          70,
          70,
          70,
          70,
          70,
          70,
          70,
          70,
          70,
          70,
          70,
          70,
          70,
          70,
          70,
          70,
          70,
          70,
          70,
          70,
          70,
          70,
          70,
          70,
          70,
          70,
          70,
          70,
          70,
          70,
          70,
          70,
          70,
          70,
          70,
          70,
          70,
          70,
          70,
          70,
          70,
          70,
          70,
          70,
          140,
          140,
          140,
          140,
          140,
          140,
          210,
          210,
          280
         ],
         "yaxis": "y"
        },
        {
         "hovertemplate": "Task=functional_failure<br>Failure Mode=fungal decay | internal<br>Age (years)=%{x}<br>Cost Cumulative=%{y}<extra></extra>",
         "legendgroup": "functional_failure",
         "line": {
          "color": "rgb(57, 105, 172)"
         },
         "mode": "lines",
         "name": "functional_failure",
         "orientation": "v",
         "showlegend": false,
         "stackgroup": "1",
         "type": "scatter",
         "x": [
          0,
          1,
          2,
          3,
          4,
          5,
          6,
          7,
          8,
          9,
          10,
          11,
          12,
          13,
          14,
          15,
          16,
          17,
          18,
          19,
          20,
          21,
          22,
          23,
          24,
          25,
          26,
          27,
          28,
          29,
          30,
          31,
          32,
          33,
          34,
          35,
          36,
          37,
          38,
          39,
          40,
          41,
          42,
          43,
          44,
          45,
          46,
          47,
          48,
          49,
          50,
          51,
          52,
          53,
          54,
          55,
          56,
          57,
          58,
          59,
          60,
          61,
          62,
          63,
          64,
          65,
          66,
          67,
          68,
          69,
          70,
          71,
          72,
          73,
          74,
          75,
          76,
          77,
          78,
          79,
          80,
          81,
          82,
          83,
          84,
          85,
          86,
          87,
          88,
          89,
          90,
          91,
          92,
          93,
          94,
          95,
          96,
          97,
          98,
          99
         ],
         "xaxis": "x",
         "y": [
          0,
          0,
          0,
          0,
          0,
          0,
          0,
          0,
          0,
          0,
          0,
          0,
          0,
          0,
          0,
          0,
          0,
          0,
          0,
          0,
          0,
          0,
          0,
          0,
          0,
          0,
          0,
          0,
          0,
          0,
          0,
          0,
          0,
          0,
          0,
          0,
          0,
          0,
          0,
          0,
          0,
          0,
          0,
          0,
          0,
          0,
          0,
          0,
          0,
          0,
          0,
          0,
          0,
          0,
          0,
          0,
          0,
          0,
          0,
          0,
          0,
          0,
          0,
          0,
          0,
          0,
          0,
          0,
          0,
          0,
          0,
          0,
          0,
          0,
          0,
          0,
          0,
          0,
          0,
          0,
          0,
          0,
          0,
          0,
          0,
          0,
          0,
          0,
          0,
          0,
          0,
          0,
          0,
          0,
          0,
          0,
          0,
          0,
          0,
          0
         ],
         "yaxis": "y"
        },
        {
         "hovertemplate": "Task=functional_failure<br>Failure Mode=lightning<br>Age (years)=%{x}<br>Cost Cumulative=%{y}<extra></extra>",
         "legendgroup": "functional_failure",
         "line": {
          "color": "rgb(57, 105, 172)"
         },
         "mode": "lines",
         "name": "functional_failure",
         "orientation": "v",
         "showlegend": false,
         "stackgroup": "1",
         "type": "scatter",
         "x": [
          0,
          1,
          2,
          3,
          4,
          5,
          6,
          7,
          8,
          9,
          10,
          11,
          12,
          13,
          14,
          15,
          16,
          17,
          18,
          19,
          20,
          21,
          22,
          23,
          24,
          25,
          26,
          27,
          28,
          29,
          30,
          31,
          32,
          33,
          34,
          35,
          36,
          37,
          38,
          39,
          40,
          41,
          42,
          43,
          44,
          45,
          46,
          47,
          48,
          49,
          50,
          51,
          52,
          53,
          54,
          55,
          56,
          57,
          58,
          59,
          60,
          61,
          62,
          63,
          64,
          65,
          66,
          67,
          68,
          69,
          70,
          71,
          72,
          73,
          74,
          75,
          76,
          77,
          78,
          79,
          80,
          81,
          82,
          83,
          84,
          85,
          86,
          87,
          88,
          89,
          90,
          91,
          92,
          93,
          94,
          95,
          96,
          97,
          98,
          99
         ],
         "xaxis": "x",
         "y": [
          0,
          0,
          0,
          0,
          0,
          0,
          0,
          0,
          0,
          0,
          0,
          0,
          0,
          0,
          0,
          0,
          0,
          0,
          0,
          0,
          70,
          70,
          70,
          70,
          140,
          140,
          140,
          140,
          140,
          140,
          140,
          140,
          140,
          140,
          140,
          140,
          140,
          140,
          140,
          140,
          140,
          140,
          140,
          140,
          140,
          140,
          140,
          140,
          140,
          140,
          210,
          210,
          210,
          210,
          210,
          210,
          210,
          210,
          210,
          210,
          210,
          210,
          210,
          210,
          210,
          210,
          210,
          210,
          210,
          210,
          210,
          210,
          210,
          210,
          210,
          210,
          210,
          210,
          210,
          210,
          210,
          210,
          210,
          210,
          210,
          210,
          210,
          210,
          210,
          210,
          210,
          210,
          210,
          210,
          210,
          210,
          210,
          210,
          210,
          210
         ],
         "yaxis": "y"
        },
        {
         "hovertemplate": "Task=functional_failure<br>Failure Mode=weathering<br>Age (years)=%{x}<br>Cost Cumulative=%{y}<extra></extra>",
         "legendgroup": "functional_failure",
         "line": {
          "color": "rgb(57, 105, 172)"
         },
         "mode": "lines",
         "name": "functional_failure",
         "orientation": "v",
         "showlegend": false,
         "stackgroup": "1",
         "type": "scatter",
         "x": [
          0,
          1,
          2,
          3,
          4,
          5,
          6,
          7,
          8,
          9,
          10,
          11,
          12,
          13,
          14,
          15,
          16,
          17,
          18,
          19,
          20,
          21,
          22,
          23,
          24,
          25,
          26,
          27,
          28,
          29,
          30,
          31,
          32,
          33,
          34,
          35,
          36,
          37,
          38,
          39,
          40,
          41,
          42,
          43,
          44,
          45,
          46,
          47,
          48,
          49,
          50,
          51,
          52,
          53,
          54,
          55,
          56,
          57,
          58,
          59,
          60,
          61,
          62,
          63,
          64,
          65,
          66,
          67,
          68,
          69,
          70,
          71,
          72,
          73,
          74,
          75,
          76,
          77,
          78,
          79,
          80,
          81,
          82,
          83,
          84,
          85,
          86,
          87,
          88,
          89,
          90,
          91,
          92,
          93,
          94,
          95,
          96,
          97,
          98,
          99
         ],
         "xaxis": "x",
         "y": [
          0,
          0,
          0,
          0,
          0,
          0,
          0,
          0,
          0,
          0,
          0,
          0,
          0,
          0,
          0,
          0,
          0,
          0,
          0,
          0,
          0,
          0,
          0,
          0,
          0,
          0,
          0,
          0,
          0,
          0,
          0,
          0,
          0,
          0,
          0,
          0,
          0,
          0,
          0,
          0,
          0,
          0,
          0,
          0,
          0,
          0,
          0,
          0,
          0,
          0,
          0,
          0,
          0,
          0,
          0,
          0,
          0,
          0,
          0,
          0,
          0,
          0,
          0,
          0,
          0,
          0,
          0,
          0,
          0,
          0,
          0,
          0,
          0,
          0,
          0,
          0,
          0,
          0,
          0,
          0,
          0,
          0,
          0,
          0,
          0,
          0,
          0,
          0,
          0,
          0,
          0,
          0,
          0,
          0,
          0,
          0,
          0,
          0,
          0,
          0
         ],
         "yaxis": "y"
        },
        {
         "hovertemplate": "Task=functional_failure<br>Failure Mode=fire_damage<br>Age (years)=%{x}<br>Cost Cumulative=%{y}<extra></extra>",
         "legendgroup": "functional_failure",
         "line": {
          "color": "rgb(57, 105, 172)"
         },
         "mode": "lines",
         "name": "functional_failure",
         "orientation": "v",
         "showlegend": false,
         "stackgroup": "1",
         "type": "scatter",
         "x": [
          0,
          1,
          2,
          3,
          4,
          5,
          6,
          7,
          8,
          9,
          10,
          11,
          12,
          13,
          14,
          15,
          16,
          17,
          18,
          19,
          20,
          21,
          22,
          23,
          24,
          25,
          26,
          27,
          28,
          29,
          30,
          31,
          32,
          33,
          34,
          35,
          36,
          37,
          38,
          39,
          40,
          41,
          42,
          43,
          44,
          45,
          46,
          47,
          48,
          49,
          50,
          51,
          52,
          53,
          54,
          55,
          56,
          57,
          58,
          59,
          60,
          61,
          62,
          63,
          64,
          65,
          66,
          67,
          68,
          69,
          70,
          71,
          72,
          73,
          74,
          75,
          76,
          77,
          78,
          79,
          80,
          81,
          82,
          83,
          84,
          85,
          86,
          87,
          88,
          89,
          90,
          91,
          92,
          93,
          94,
          95,
          96,
          97,
          98,
          99
         ],
         "xaxis": "x",
         "y": [
          0,
          0,
          0,
          0,
          0,
          0,
          0,
          0,
          0,
          0,
          0,
          70,
          70,
          70,
          70,
          70,
          70,
          70,
          70,
          70,
          70,
          70,
          70,
          70,
          70,
          70,
          70,
          70,
          70,
          70,
          70,
          70,
          70,
          70,
          70,
          70,
          70,
          70,
          70,
          70,
          70,
          70,
          140,
          140,
          140,
          140,
          140,
          140,
          140,
          140,
          140,
          140,
          140,
          140,
          140,
          140,
          140,
          140,
          140,
          140,
          140,
          140,
          140,
          140,
          140,
          140,
          140,
          140,
          140,
          140,
          140,
          140,
          140,
          140,
          140,
          140,
          140,
          140,
          140,
          140,
          140,
          140,
          140,
          140,
          140,
          140,
          140,
          140,
          140,
          140,
          140,
          140,
          140,
          140,
          140,
          140,
          140,
          140,
          140,
          140
         ],
         "yaxis": "y"
        },
        {
         "hovertemplate": "Task=functional_failure<br>Failure Mode=impact<br>Age (years)=%{x}<br>Cost Cumulative=%{y}<extra></extra>",
         "legendgroup": "functional_failure",
         "line": {
          "color": "rgb(57, 105, 172)"
         },
         "mode": "lines",
         "name": "functional_failure",
         "orientation": "v",
         "showlegend": false,
         "stackgroup": "1",
         "type": "scatter",
         "x": [
          0,
          1,
          2,
          3,
          4,
          5,
          6,
          7,
          8,
          9,
          10,
          11,
          12,
          13,
          14,
          15,
          16,
          17,
          18,
          19,
          20,
          21,
          22,
          23,
          24,
          25,
          26,
          27,
          28,
          29,
          30,
          31,
          32,
          33,
          34,
          35,
          36,
          37,
          38,
          39,
          40,
          41,
          42,
          43,
          44,
          45,
          46,
          47,
          48,
          49,
          50,
          51,
          52,
          53,
          54,
          55,
          56,
          57,
          58,
          59,
          60,
          61,
          62,
          63,
          64,
          65,
          66,
          67,
          68,
          69,
          70,
          71,
          72,
          73,
          74,
          75,
          76,
          77,
          78,
          79,
          80,
          81,
          82,
          83,
          84,
          85,
          86,
          87,
          88,
          89,
          90,
          91,
          92,
          93,
          94,
          95,
          96,
          97,
          98,
          99
         ],
         "xaxis": "x",
         "y": [
          0,
          0,
          0,
          0,
          0,
          0,
          0,
          0,
          0,
          0,
          0,
          0,
          0,
          0,
          0,
          0,
          0,
          0,
          0,
          0,
          0,
          0,
          0,
          0,
          70,
          70,
          70,
          70,
          70,
          70,
          70,
          70,
          70,
          70,
          70,
          70,
          70,
          70,
          70,
          70,
          70,
          70,
          140,
          140,
          140,
          140,
          140,
          140,
          140,
          140,
          140,
          140,
          140,
          140,
          140,
          140,
          210,
          210,
          210,
          210,
          210,
          210,
          210,
          210,
          210,
          210,
          210,
          210,
          210,
          210,
          210,
          210,
          280,
          280,
          280,
          280,
          280,
          280,
          280,
          280,
          280,
          280,
          280,
          280,
          280,
          280,
          280,
          280,
          280,
          280,
          280,
          280,
          280,
          280,
          280,
          280,
          280,
          280,
          280,
          280
         ],
         "yaxis": "y"
        },
        {
         "hovertemplate": "Task=inspection_groundline<br>Failure Mode=termites<br>Age (years)=%{x}<br>Cost Cumulative=%{y}<extra></extra>",
         "legendgroup": "inspection_groundline",
         "line": {
          "color": "rgb(242, 183, 1)"
         },
         "mode": "lines",
         "name": "inspection_groundline",
         "orientation": "v",
         "showlegend": true,
         "stackgroup": "1",
         "type": "scatter",
         "x": [
          0,
          1,
          2,
          3,
          4,
          5,
          6,
          7,
          8,
          9,
          10,
          11,
          12,
          13,
          14,
          15,
          16,
          17,
          18,
          19,
          20,
          21,
          22,
          23,
          24,
          25,
          26,
          27,
          28,
          29,
          30,
          31,
          32,
          33,
          34,
          35,
          36,
          37,
          38,
          39,
          40,
          41,
          42,
          43,
          44,
          45,
          46,
          47,
          48,
          49,
          50,
          51,
          52,
          53,
          54,
          55,
          56,
          57,
          58,
          59,
          60,
          61,
          62,
          63,
          64,
          65,
          66,
          67,
          68,
          69,
          70,
          71,
          72,
          73,
          74,
          75,
          76,
          77,
          78,
          79,
          80,
          81,
          82,
          83,
          84,
          85,
          86,
          87,
          88,
          89,
          90,
          91,
          92,
          93,
          94,
          95,
          96,
          97,
          98,
          99
         ],
         "xaxis": "x",
         "y": [
          0,
          0,
          0,
          0,
          0,
          0,
          0,
          0,
          0,
          0,
          0,
          0,
          0,
          0,
          0,
          0,
          0,
          0,
          0,
          0,
          49.5,
          49.5,
          49.5,
          49.5,
          98,
          98,
          98,
          98,
          145,
          145,
          145,
          145,
          192,
          192,
          192,
          192,
          238,
          238,
          238,
          238,
          284,
          284,
          284,
          284,
          328,
          328,
          328,
          328,
          372,
          372,
          372,
          372,
          415.5,
          415.5,
          415.5,
          415.5,
          458,
          458,
          458,
          458,
          497,
          497,
          497,
          497,
          534,
          534,
          534,
          534,
          569.5,
          569.5,
          569.5,
          569.5,
          604,
          604,
          604,
          604,
          634.5,
          634.5,
          634.5,
          634.5,
          662,
          662,
          662,
          662,
          687.5,
          687.5,
          687.5,
          687.5,
          709,
          709,
          709,
          709,
          729.5,
          729.5,
          729.5,
          729.5,
          749.5,
          749.5,
          749.5,
          749.5
         ],
         "yaxis": "y"
        },
        {
         "hovertemplate": "Task=inspection_groundline<br>Failure Mode=fungal decay | external<br>Age (years)=%{x}<br>Cost Cumulative=%{y}<extra></extra>",
         "legendgroup": "inspection_groundline",
         "line": {
          "color": "rgb(242, 183, 1)"
         },
         "mode": "lines",
         "name": "inspection_groundline",
         "orientation": "v",
         "showlegend": false,
         "stackgroup": "1",
         "type": "scatter",
         "x": [
          0,
          1,
          2,
          3,
          4,
          5,
          6,
          7,
          8,
          9,
          10,
          11,
          12,
          13,
          14,
          15,
          16,
          17,
          18,
          19,
          20,
          21,
          22,
          23,
          24,
          25,
          26,
          27,
          28,
          29,
          30,
          31,
          32,
          33,
          34,
          35,
          36,
          37,
          38,
          39,
          40,
          41,
          42,
          43,
          44,
          45,
          46,
          47,
          48,
          49,
          50,
          51,
          52,
          53,
          54,
          55,
          56,
          57,
          58,
          59,
          60,
          61,
          62,
          63,
          64,
          65,
          66,
          67,
          68,
          69,
          70,
          71,
          72,
          73,
          74,
          75,
          76,
          77,
          78,
          79,
          80,
          81,
          82,
          83,
          84,
          85,
          86,
          87,
          88,
          89,
          90,
          91,
          92,
          93,
          94,
          95,
          96,
          97,
          98,
          99
         ],
         "xaxis": "x",
         "y": [
          0,
          0,
          0,
          0,
          0,
          0,
          0,
          0,
          0,
          0,
          0,
          0,
          0,
          0,
          0,
          0,
          0,
          0,
          0,
          0,
          0,
          0,
          0,
          0,
          0,
          0,
          0,
          0,
          0,
          0,
          0,
          0,
          0,
          0,
          0,
          0,
          0,
          0,
          0,
          0,
          0,
          0,
          0,
          0,
          0,
          0,
          0,
          0,
          0,
          0,
          0,
          0,
          0,
          0,
          0,
          0,
          0,
          0,
          0,
          0,
          0,
          0,
          0,
          0,
          0,
          0,
          0,
          0,
          0,
          0,
          0,
          0,
          0,
          0,
          0,
          0,
          0,
          0,
          0,
          0,
          0,
          0,
          0,
          0,
          0,
          0,
          0,
          0,
          0,
          0,
          0,
          0,
          0,
          0,
          0,
          0,
          0,
          0,
          0,
          0
         ],
         "yaxis": "y"
        },
        {
         "hovertemplate": "Task=inspection_groundline<br>Failure Mode=fungal decay | internal<br>Age (years)=%{x}<br>Cost Cumulative=%{y}<extra></extra>",
         "legendgroup": "inspection_groundline",
         "line": {
          "color": "rgb(242, 183, 1)"
         },
         "mode": "lines",
         "name": "inspection_groundline",
         "orientation": "v",
         "showlegend": false,
         "stackgroup": "1",
         "type": "scatter",
         "x": [
          0,
          1,
          2,
          3,
          4,
          5,
          6,
          7,
          8,
          9,
          10,
          11,
          12,
          13,
          14,
          15,
          16,
          17,
          18,
          19,
          20,
          21,
          22,
          23,
          24,
          25,
          26,
          27,
          28,
          29,
          30,
          31,
          32,
          33,
          34,
          35,
          36,
          37,
          38,
          39,
          40,
          41,
          42,
          43,
          44,
          45,
          46,
          47,
          48,
          49,
          50,
          51,
          52,
          53,
          54,
          55,
          56,
          57,
          58,
          59,
          60,
          61,
          62,
          63,
          64,
          65,
          66,
          67,
          68,
          69,
          70,
          71,
          72,
          73,
          74,
          75,
          76,
          77,
          78,
          79,
          80,
          81,
          82,
          83,
          84,
          85,
          86,
          87,
          88,
          89,
          90,
          91,
          92,
          93,
          94,
          95,
          96,
          97,
          98,
          99
         ],
         "xaxis": "x",
         "y": [
          0,
          0,
          0,
          0,
          0,
          0,
          0,
          0,
          0,
          0,
          0,
          0,
          0,
          0,
          0,
          0,
          0,
          0,
          0,
          0,
          0,
          0,
          0,
          0,
          0,
          0,
          0,
          0,
          0,
          0,
          0,
          0,
          0,
          0,
          0,
          0,
          0,
          0,
          0,
          0,
          0,
          0,
          0,
          0,
          0,
          0,
          0,
          0,
          0,
          0,
          0,
          0,
          0,
          0,
          0,
          0,
          0,
          0,
          0,
          0,
          0,
          0,
          0,
          0,
          0,
          0,
          0,
          0,
          0,
          0,
          0,
          0,
          0,
          0,
          0,
          0,
          0,
          0,
          0,
          0,
          0,
          0,
          0,
          0,
          0,
          0,
          0,
          0,
          0,
          0,
          0,
          0,
          0,
          0,
          0,
          0,
          0,
          0,
          0,
          0
         ],
         "yaxis": "y"
        },
        {
         "hovertemplate": "Task=inspection_groundline<br>Failure Mode=lightning<br>Age (years)=%{x}<br>Cost Cumulative=%{y}<extra></extra>",
         "legendgroup": "inspection_groundline",
         "line": {
          "color": "rgb(242, 183, 1)"
         },
         "mode": "lines",
         "name": "inspection_groundline",
         "orientation": "v",
         "showlegend": false,
         "stackgroup": "1",
         "type": "scatter",
         "x": [
          0,
          1,
          2,
          3,
          4,
          5,
          6,
          7,
          8,
          9,
          10,
          11,
          12,
          13,
          14,
          15,
          16,
          17,
          18,
          19,
          20,
          21,
          22,
          23,
          24,
          25,
          26,
          27,
          28,
          29,
          30,
          31,
          32,
          33,
          34,
          35,
          36,
          37,
          38,
          39,
          40,
          41,
          42,
          43,
          44,
          45,
          46,
          47,
          48,
          49,
          50,
          51,
          52,
          53,
          54,
          55,
          56,
          57,
          58,
          59,
          60,
          61,
          62,
          63,
          64,
          65,
          66,
          67,
          68,
          69,
          70,
          71,
          72,
          73,
          74,
          75,
          76,
          77,
          78,
          79,
          80,
          81,
          82,
          83,
          84,
          85,
          86,
          87,
          88,
          89,
          90,
          91,
          92,
          93,
          94,
          95,
          96,
          97,
          98,
          99
         ],
         "xaxis": "x",
         "y": [
          0,
          0,
          0,
          0,
          0,
          0,
          0,
          0,
          0,
          0,
          0,
          0,
          0,
          0,
          0,
          0,
          0,
          0,
          0,
          0,
          0,
          0,
          0,
          0,
          0,
          0,
          0,
          0,
          0,
          0,
          0,
          0,
          0,
          0,
          0,
          0,
          0,
          0,
          0,
          0,
          0,
          0,
          0,
          0,
          0,
          0,
          0,
          0,
          0,
          0,
          0,
          0,
          0,
          0,
          0,
          0,
          0,
          0,
          0,
          0,
          0,
          0,
          0,
          0,
          0,
          0,
          0,
          0,
          0,
          0,
          0,
          0,
          0,
          0,
          0,
          0,
          0,
          0,
          0,
          0,
          0,
          0,
          0,
          0,
          0,
          0,
          0,
          0,
          0,
          0,
          0,
          0,
          0,
          0,
          0,
          0,
          0,
          0,
          0,
          0
         ],
         "yaxis": "y"
        },
        {
         "hovertemplate": "Task=inspection_groundline<br>Failure Mode=weathering<br>Age (years)=%{x}<br>Cost Cumulative=%{y}<extra></extra>",
         "legendgroup": "inspection_groundline",
         "line": {
          "color": "rgb(242, 183, 1)"
         },
         "mode": "lines",
         "name": "inspection_groundline",
         "orientation": "v",
         "showlegend": false,
         "stackgroup": "1",
         "type": "scatter",
         "x": [
          0,
          1,
          2,
          3,
          4,
          5,
          6,
          7,
          8,
          9,
          10,
          11,
          12,
          13,
          14,
          15,
          16,
          17,
          18,
          19,
          20,
          21,
          22,
          23,
          24,
          25,
          26,
          27,
          28,
          29,
          30,
          31,
          32,
          33,
          34,
          35,
          36,
          37,
          38,
          39,
          40,
          41,
          42,
          43,
          44,
          45,
          46,
          47,
          48,
          49,
          50,
          51,
          52,
          53,
          54,
          55,
          56,
          57,
          58,
          59,
          60,
          61,
          62,
          63,
          64,
          65,
          66,
          67,
          68,
          69,
          70,
          71,
          72,
          73,
          74,
          75,
          76,
          77,
          78,
          79,
          80,
          81,
          82,
          83,
          84,
          85,
          86,
          87,
          88,
          89,
          90,
          91,
          92,
          93,
          94,
          95,
          96,
          97,
          98,
          99
         ],
         "xaxis": "x",
         "y": [
          0,
          0,
          0,
          0,
          0,
          0,
          0,
          0,
          0,
          0,
          0,
          0,
          0,
          0,
          0,
          0,
          0,
          0,
          0,
          0,
          49,
          49,
          49,
          49,
          96.5,
          96.5,
          96.5,
          96.5,
          143.5,
          143.5,
          143.5,
          143.5,
          190.5,
          190.5,
          190.5,
          190.5,
          236.5,
          236.5,
          236.5,
          236.5,
          282.5,
          282.5,
          282.5,
          282.5,
          326.5,
          326.5,
          326.5,
          326.5,
          370.5,
          370.5,
          370.5,
          370.5,
          414,
          414,
          414,
          414,
          456,
          456,
          456,
          456,
          495,
          495,
          495,
          495,
          532,
          532,
          532,
          532,
          567,
          567,
          567,
          567,
          601,
          601,
          601,
          601,
          631.5,
          631.5,
          631.5,
          631.5,
          659,
          659,
          659,
          659,
          684.5,
          684.5,
          684.5,
          684.5,
          706,
          706,
          706,
          706,
          726.5,
          726.5,
          726.5,
          726.5,
          746,
          746,
          746,
          746
         ],
         "yaxis": "y"
        },
        {
         "hovertemplate": "Task=inspection_protection<br>Failure Mode=lightning<br>Age (years)=%{x}<br>Cost Cumulative=%{y}<extra></extra>",
         "legendgroup": "inspection_protection",
         "line": {
          "color": "rgb(231, 63, 116)"
         },
         "mode": "lines",
         "name": "inspection_protection",
         "orientation": "v",
         "showlegend": true,
         "stackgroup": "1",
         "type": "scatter",
         "x": [
          0,
          1,
          2,
          3,
          4,
          5,
          6,
          7,
          8,
          9,
          10,
          11,
          12,
          13,
          14,
          15,
          16,
          17,
          18,
          19,
          20,
          21,
          22,
          23,
          24,
          25,
          26,
          27,
          28,
          29,
          30,
          31,
          32,
          33,
          34,
          35,
          36,
          37,
          38,
          39,
          40,
          41,
          42,
          43,
          44,
          45,
          46,
          47,
          48,
          49,
          50,
          51,
          52,
          53,
          54,
          55,
          56,
          57,
          58,
          59,
          60,
          61,
          62,
          63,
          64,
          65,
          66,
          67,
          68,
          69,
          70,
          71,
          72,
          73,
          74,
          75,
          76,
          77,
          78,
          79,
          80,
          81,
          82,
          83,
          84,
          85,
          86,
          87,
          88,
          89,
          90,
          91,
          92,
          93,
          94,
          95,
          96,
          97,
          98,
          99
         ],
         "xaxis": "x",
         "y": [
          0,
          0,
          0,
          0,
          0,
          0,
          0,
          0,
          0,
          0,
          0,
          0,
          0,
          0,
          0,
          0,
          0,
          0,
          0,
          0,
          0,
          0,
          0,
          0,
          0,
          0,
          0,
          0,
          0,
          0,
          0,
          0,
          0,
          0,
          0,
          0,
          0,
          0,
          0,
          0,
          0,
          0,
          0,
          0,
          0,
          0,
          0,
          0,
          0,
          0,
          0,
          0,
          0,
          0,
          0,
          0,
          0,
          0,
          0,
          0,
          0,
          0,
          0,
          0,
          0,
          0,
          0,
          0,
          0,
          0,
          0,
          0,
          0,
          0,
          0,
          0,
          0,
          0,
          0,
          0,
          0,
          0,
          0,
          0,
          0,
          0,
          0,
          0,
          0,
          0,
          0,
          0,
          0,
          0,
          0,
          0,
          0,
          0,
          0,
          0
         ],
         "yaxis": "y"
        },
        {
         "hovertemplate": "Task=inspection_protection<br>Failure Mode=fire_damage<br>Age (years)=%{x}<br>Cost Cumulative=%{y}<extra></extra>",
         "legendgroup": "inspection_protection",
         "line": {
          "color": "rgb(231, 63, 116)"
         },
         "mode": "lines",
         "name": "inspection_protection",
         "orientation": "v",
         "showlegend": false,
         "stackgroup": "1",
         "type": "scatter",
         "x": [
          0,
          1,
          2,
          3,
          4,
          5,
          6,
          7,
          8,
          9,
          10,
          11,
          12,
          13,
          14,
          15,
          16,
          17,
          18,
          19,
          20,
          21,
          22,
          23,
          24,
          25,
          26,
          27,
          28,
          29,
          30,
          31,
          32,
          33,
          34,
          35,
          36,
          37,
          38,
          39,
          40,
          41,
          42,
          43,
          44,
          45,
          46,
          47,
          48,
          49,
          50,
          51,
          52,
          53,
          54,
          55,
          56,
          57,
          58,
          59,
          60,
          61,
          62,
          63,
          64,
          65,
          66,
          67,
          68,
          69,
          70,
          71,
          72,
          73,
          74,
          75,
          76,
          77,
          78,
          79,
          80,
          81,
          82,
          83,
          84,
          85,
          86,
          87,
          88,
          89,
          90,
          91,
          92,
          93,
          94,
          95,
          96,
          97,
          98,
          99
         ],
         "xaxis": "x",
         "y": [
          0,
          0,
          0,
          0,
          0,
          0,
          0,
          0,
          0,
          0,
          0,
          0,
          0,
          0,
          0,
          0,
          0,
          0,
          0,
          0,
          0,
          0,
          0,
          0,
          0,
          0,
          0,
          0,
          0,
          0,
          0,
          0,
          0,
          0,
          0,
          0,
          0,
          0,
          0,
          0,
          0,
          0,
          0,
          0,
          0,
          0,
          0,
          0,
          0,
          0,
          0,
          0,
          0,
          0,
          0,
          0,
          0,
          0,
          0,
          0,
          0,
          0,
          0,
          0,
          0,
          0,
          0,
          0,
          0,
          0,
          0,
          0,
          0,
          0,
          0,
          0,
          0,
          0,
          0,
          0,
          0,
          0,
          0,
          0,
          0,
          0,
          0,
          0,
          0,
          0,
          0,
          0,
          0,
          0,
          0,
          0,
          0,
          0,
          0,
          0
         ],
         "yaxis": "y"
        },
        {
         "hovertemplate": "Task=inspection_protection<br>Failure Mode=impact<br>Age (years)=%{x}<br>Cost Cumulative=%{y}<extra></extra>",
         "legendgroup": "inspection_protection",
         "line": {
          "color": "rgb(231, 63, 116)"
         },
         "mode": "lines",
         "name": "inspection_protection",
         "orientation": "v",
         "showlegend": false,
         "stackgroup": "1",
         "type": "scatter",
         "x": [
          0,
          1,
          2,
          3,
          4,
          5,
          6,
          7,
          8,
          9,
          10,
          11,
          12,
          13,
          14,
          15,
          16,
          17,
          18,
          19,
          20,
          21,
          22,
          23,
          24,
          25,
          26,
          27,
          28,
          29,
          30,
          31,
          32,
          33,
          34,
          35,
          36,
          37,
          38,
          39,
          40,
          41,
          42,
          43,
          44,
          45,
          46,
          47,
          48,
          49,
          50,
          51,
          52,
          53,
          54,
          55,
          56,
          57,
          58,
          59,
          60,
          61,
          62,
          63,
          64,
          65,
          66,
          67,
          68,
          69,
          70,
          71,
          72,
          73,
          74,
          75,
          76,
          77,
          78,
          79,
          80,
          81,
          82,
          83,
          84,
          85,
          86,
          87,
          88,
          89,
          90,
          91,
          92,
          93,
          94,
          95,
          96,
          97,
          98,
          99
         ],
         "xaxis": "x",
         "y": [
          0,
          0,
          0,
          0,
          0,
          0,
          0,
          0,
          0,
          0,
          0,
          0,
          0,
          0,
          0,
          0,
          0,
          0,
          0,
          0,
          0,
          0,
          0,
          0,
          0,
          0,
          0,
          0,
          0,
          0,
          0,
          0,
          0,
          0,
          0,
          0,
          0,
          0,
          0,
          0,
          0,
          0,
          0,
          0,
          0,
          0,
          0,
          0,
          0,
          0,
          0,
          0,
          0,
          0,
          0,
          0,
          0,
          0,
          0,
          0,
          0,
          0,
          0,
          0,
          0,
          0,
          0,
          0,
          0,
          0,
          0,
          0,
          0,
          0,
          0,
          0,
          0,
          0,
          0,
          0,
          0,
          0,
          0,
          0,
          0,
          0,
          0,
          0,
          0,
          0,
          0,
          0,
          0,
          0,
          0,
          0,
          0,
          0,
          0,
          0
         ],
         "yaxis": "y"
        },
        {
         "hovertemplate": "Task=termite_treatment<br>Failure Mode=termites<br>Age (years)=%{x}<br>Cost Cumulative=%{y}<extra></extra>",
         "legendgroup": "termite_treatment",
         "line": {
          "color": "rgb(230, 131, 16)"
         },
         "mode": "lines",
         "name": "termite_treatment",
         "orientation": "v",
         "showlegend": true,
         "stackgroup": "1",
         "type": "scatter",
         "x": [
          0,
          1,
          2,
          3,
          4,
          5,
          6,
          7,
          8,
          9,
          10,
          11,
          12,
          13,
          14,
          15,
          16,
          17,
          18,
          19,
          20,
          21,
          22,
          23,
          24,
          25,
          26,
          27,
          28,
          29,
          30,
          31,
          32,
          33,
          34,
          35,
          36,
          37,
          38,
          39,
          40,
          41,
          42,
          43,
          44,
          45,
          46,
          47,
          48,
          49,
          50,
          51,
          52,
          53,
          54,
          55,
          56,
          57,
          58,
          59,
          60,
          61,
          62,
          63,
          64,
          65,
          66,
          67,
          68,
          69,
          70,
          71,
          72,
          73,
          74,
          75,
          76,
          77,
          78,
          79,
          80,
          81,
          82,
          83,
          84,
          85,
          86,
          87,
          88,
          89,
          90,
          91,
          92,
          93,
          94,
          95,
          96,
          97,
          98,
          99
         ],
         "xaxis": "x",
         "y": [
          0,
          0,
          0,
          0,
          0,
          0,
          0,
          0,
          0,
          0,
          0,
          0,
          0,
          0,
          0,
          0,
          0,
          0,
          0,
          0,
          0,
          0,
          0,
          0,
          0,
          0,
          0,
          0,
          0,
          1,
          1,
          1,
          1,
          1,
          1,
          1,
          1,
          1,
          1,
          1,
          1,
          1,
          1,
          1,
          1,
          2,
          2,
          2,
          2,
          2,
          2,
          2,
          2,
          2,
          2,
          2,
          2,
          4,
          4,
          4,
          4,
          5,
          5,
          5,
          5,
          5,
          5,
          5,
          5,
          5,
          5,
          5,
          5,
          5,
          5,
          5,
          5,
          6,
          6,
          6,
          6,
          7,
          7,
          7,
          7,
          9,
          9,
          9,
          9,
          10,
          10,
          10,
          10,
          11,
          11,
          11,
          11,
          12,
          12,
          12
         ],
         "yaxis": "y"
        }
       ],
       "layout": {
        "legend": {
         "title": {
          "text": "Task"
         },
         "tracegroupgap": 0
        },
        "template": {
         "data": {
          "bar": [
           {
            "error_x": {
             "color": "#2a3f5f"
            },
            "error_y": {
             "color": "#2a3f5f"
            },
            "marker": {
             "line": {
              "color": "#E5ECF6",
              "width": 0.5
             }
            },
            "type": "bar"
           }
          ],
          "barpolar": [
           {
            "marker": {
             "line": {
              "color": "#E5ECF6",
              "width": 0.5
             }
            },
            "type": "barpolar"
           }
          ],
          "carpet": [
           {
            "aaxis": {
             "endlinecolor": "#2a3f5f",
             "gridcolor": "white",
             "linecolor": "white",
             "minorgridcolor": "white",
             "startlinecolor": "#2a3f5f"
            },
            "baxis": {
             "endlinecolor": "#2a3f5f",
             "gridcolor": "white",
             "linecolor": "white",
             "minorgridcolor": "white",
             "startlinecolor": "#2a3f5f"
            },
            "type": "carpet"
           }
          ],
          "choropleth": [
           {
            "colorbar": {
             "outlinewidth": 0,
             "ticks": ""
            },
            "type": "choropleth"
           }
          ],
          "contour": [
           {
            "colorbar": {
             "outlinewidth": 0,
             "ticks": ""
            },
            "colorscale": [
             [
              0,
              "#0d0887"
             ],
             [
              0.1111111111111111,
              "#46039f"
             ],
             [
              0.2222222222222222,
              "#7201a8"
             ],
             [
              0.3333333333333333,
              "#9c179e"
             ],
             [
              0.4444444444444444,
              "#bd3786"
             ],
             [
              0.5555555555555556,
              "#d8576b"
             ],
             [
              0.6666666666666666,
              "#ed7953"
             ],
             [
              0.7777777777777778,
              "#fb9f3a"
             ],
             [
              0.8888888888888888,
              "#fdca26"
             ],
             [
              1,
              "#f0f921"
             ]
            ],
            "type": "contour"
           }
          ],
          "contourcarpet": [
           {
            "colorbar": {
             "outlinewidth": 0,
             "ticks": ""
            },
            "type": "contourcarpet"
           }
          ],
          "heatmap": [
           {
            "colorbar": {
             "outlinewidth": 0,
             "ticks": ""
            },
            "colorscale": [
             [
              0,
              "#0d0887"
             ],
             [
              0.1111111111111111,
              "#46039f"
             ],
             [
              0.2222222222222222,
              "#7201a8"
             ],
             [
              0.3333333333333333,
              "#9c179e"
             ],
             [
              0.4444444444444444,
              "#bd3786"
             ],
             [
              0.5555555555555556,
              "#d8576b"
             ],
             [
              0.6666666666666666,
              "#ed7953"
             ],
             [
              0.7777777777777778,
              "#fb9f3a"
             ],
             [
              0.8888888888888888,
              "#fdca26"
             ],
             [
              1,
              "#f0f921"
             ]
            ],
            "type": "heatmap"
           }
          ],
          "heatmapgl": [
           {
            "colorbar": {
             "outlinewidth": 0,
             "ticks": ""
            },
            "colorscale": [
             [
              0,
              "#0d0887"
             ],
             [
              0.1111111111111111,
              "#46039f"
             ],
             [
              0.2222222222222222,
              "#7201a8"
             ],
             [
              0.3333333333333333,
              "#9c179e"
             ],
             [
              0.4444444444444444,
              "#bd3786"
             ],
             [
              0.5555555555555556,
              "#d8576b"
             ],
             [
              0.6666666666666666,
              "#ed7953"
             ],
             [
              0.7777777777777778,
              "#fb9f3a"
             ],
             [
              0.8888888888888888,
              "#fdca26"
             ],
             [
              1,
              "#f0f921"
             ]
            ],
            "type": "heatmapgl"
           }
          ],
          "histogram": [
           {
            "marker": {
             "colorbar": {
              "outlinewidth": 0,
              "ticks": ""
             }
            },
            "type": "histogram"
           }
          ],
          "histogram2d": [
           {
            "colorbar": {
             "outlinewidth": 0,
             "ticks": ""
            },
            "colorscale": [
             [
              0,
              "#0d0887"
             ],
             [
              0.1111111111111111,
              "#46039f"
             ],
             [
              0.2222222222222222,
              "#7201a8"
             ],
             [
              0.3333333333333333,
              "#9c179e"
             ],
             [
              0.4444444444444444,
              "#bd3786"
             ],
             [
              0.5555555555555556,
              "#d8576b"
             ],
             [
              0.6666666666666666,
              "#ed7953"
             ],
             [
              0.7777777777777778,
              "#fb9f3a"
             ],
             [
              0.8888888888888888,
              "#fdca26"
             ],
             [
              1,
              "#f0f921"
             ]
            ],
            "type": "histogram2d"
           }
          ],
          "histogram2dcontour": [
           {
            "colorbar": {
             "outlinewidth": 0,
             "ticks": ""
            },
            "colorscale": [
             [
              0,
              "#0d0887"
             ],
             [
              0.1111111111111111,
              "#46039f"
             ],
             [
              0.2222222222222222,
              "#7201a8"
             ],
             [
              0.3333333333333333,
              "#9c179e"
             ],
             [
              0.4444444444444444,
              "#bd3786"
             ],
             [
              0.5555555555555556,
              "#d8576b"
             ],
             [
              0.6666666666666666,
              "#ed7953"
             ],
             [
              0.7777777777777778,
              "#fb9f3a"
             ],
             [
              0.8888888888888888,
              "#fdca26"
             ],
             [
              1,
              "#f0f921"
             ]
            ],
            "type": "histogram2dcontour"
           }
          ],
          "mesh3d": [
           {
            "colorbar": {
             "outlinewidth": 0,
             "ticks": ""
            },
            "type": "mesh3d"
           }
          ],
          "parcoords": [
           {
            "line": {
             "colorbar": {
              "outlinewidth": 0,
              "ticks": ""
             }
            },
            "type": "parcoords"
           }
          ],
          "pie": [
           {
            "automargin": true,
            "type": "pie"
           }
          ],
          "scatter": [
           {
            "marker": {
             "colorbar": {
              "outlinewidth": 0,
              "ticks": ""
             }
            },
            "type": "scatter"
           }
          ],
          "scatter3d": [
           {
            "line": {
             "colorbar": {
              "outlinewidth": 0,
              "ticks": ""
             }
            },
            "marker": {
             "colorbar": {
              "outlinewidth": 0,
              "ticks": ""
             }
            },
            "type": "scatter3d"
           }
          ],
          "scattercarpet": [
           {
            "marker": {
             "colorbar": {
              "outlinewidth": 0,
              "ticks": ""
             }
            },
            "type": "scattercarpet"
           }
          ],
          "scattergeo": [
           {
            "marker": {
             "colorbar": {
              "outlinewidth": 0,
              "ticks": ""
             }
            },
            "type": "scattergeo"
           }
          ],
          "scattergl": [
           {
            "marker": {
             "colorbar": {
              "outlinewidth": 0,
              "ticks": ""
             }
            },
            "type": "scattergl"
           }
          ],
          "scattermapbox": [
           {
            "marker": {
             "colorbar": {
              "outlinewidth": 0,
              "ticks": ""
             }
            },
            "type": "scattermapbox"
           }
          ],
          "scatterpolar": [
           {
            "marker": {
             "colorbar": {
              "outlinewidth": 0,
              "ticks": ""
             }
            },
            "type": "scatterpolar"
           }
          ],
          "scatterpolargl": [
           {
            "marker": {
             "colorbar": {
              "outlinewidth": 0,
              "ticks": ""
             }
            },
            "type": "scatterpolargl"
           }
          ],
          "scatterternary": [
           {
            "marker": {
             "colorbar": {
              "outlinewidth": 0,
              "ticks": ""
             }
            },
            "type": "scatterternary"
           }
          ],
          "surface": [
           {
            "colorbar": {
             "outlinewidth": 0,
             "ticks": ""
            },
            "colorscale": [
             [
              0,
              "#0d0887"
             ],
             [
              0.1111111111111111,
              "#46039f"
             ],
             [
              0.2222222222222222,
              "#7201a8"
             ],
             [
              0.3333333333333333,
              "#9c179e"
             ],
             [
              0.4444444444444444,
              "#bd3786"
             ],
             [
              0.5555555555555556,
              "#d8576b"
             ],
             [
              0.6666666666666666,
              "#ed7953"
             ],
             [
              0.7777777777777778,
              "#fb9f3a"
             ],
             [
              0.8888888888888888,
              "#fdca26"
             ],
             [
              1,
              "#f0f921"
             ]
            ],
            "type": "surface"
           }
          ],
          "table": [
           {
            "cells": {
             "fill": {
              "color": "#EBF0F8"
             },
             "line": {
              "color": "white"
             }
            },
            "header": {
             "fill": {
              "color": "#C8D4E3"
             },
             "line": {
              "color": "white"
             }
            },
            "type": "table"
           }
          ]
         },
         "layout": {
          "annotationdefaults": {
           "arrowcolor": "#2a3f5f",
           "arrowhead": 0,
           "arrowwidth": 1
          },
          "coloraxis": {
           "colorbar": {
            "outlinewidth": 0,
            "ticks": ""
           }
          },
          "colorscale": {
           "diverging": [
            [
             0,
             "#8e0152"
            ],
            [
             0.1,
             "#c51b7d"
            ],
            [
             0.2,
             "#de77ae"
            ],
            [
             0.3,
             "#f1b6da"
            ],
            [
             0.4,
             "#fde0ef"
            ],
            [
             0.5,
             "#f7f7f7"
            ],
            [
             0.6,
             "#e6f5d0"
            ],
            [
             0.7,
             "#b8e186"
            ],
            [
             0.8,
             "#7fbc41"
            ],
            [
             0.9,
             "#4d9221"
            ],
            [
             1,
             "#276419"
            ]
           ],
           "sequential": [
            [
             0,
             "#0d0887"
            ],
            [
             0.1111111111111111,
             "#46039f"
            ],
            [
             0.2222222222222222,
             "#7201a8"
            ],
            [
             0.3333333333333333,
             "#9c179e"
            ],
            [
             0.4444444444444444,
             "#bd3786"
            ],
            [
             0.5555555555555556,
             "#d8576b"
            ],
            [
             0.6666666666666666,
             "#ed7953"
            ],
            [
             0.7777777777777778,
             "#fb9f3a"
            ],
            [
             0.8888888888888888,
             "#fdca26"
            ],
            [
             1,
             "#f0f921"
            ]
           ],
           "sequentialminus": [
            [
             0,
             "#0d0887"
            ],
            [
             0.1111111111111111,
             "#46039f"
            ],
            [
             0.2222222222222222,
             "#7201a8"
            ],
            [
             0.3333333333333333,
             "#9c179e"
            ],
            [
             0.4444444444444444,
             "#bd3786"
            ],
            [
             0.5555555555555556,
             "#d8576b"
            ],
            [
             0.6666666666666666,
             "#ed7953"
            ],
            [
             0.7777777777777778,
             "#fb9f3a"
            ],
            [
             0.8888888888888888,
             "#fdca26"
            ],
            [
             1,
             "#f0f921"
            ]
           ]
          },
          "colorway": [
           "#636efa",
           "#EF553B",
           "#00cc96",
           "#ab63fa",
           "#FFA15A",
           "#19d3f3",
           "#FF6692",
           "#B6E880",
           "#FF97FF",
           "#FECB52"
          ],
          "font": {
           "color": "#2a3f5f"
          },
          "geo": {
           "bgcolor": "white",
           "lakecolor": "white",
           "landcolor": "#E5ECF6",
           "showlakes": true,
           "showland": true,
           "subunitcolor": "white"
          },
          "hoverlabel": {
           "align": "left"
          },
          "hovermode": "closest",
          "mapbox": {
           "style": "light"
          },
          "paper_bgcolor": "white",
          "plot_bgcolor": "#E5ECF6",
          "polar": {
           "angularaxis": {
            "gridcolor": "white",
            "linecolor": "white",
            "ticks": ""
           },
           "bgcolor": "#E5ECF6",
           "radialaxis": {
            "gridcolor": "white",
            "linecolor": "white",
            "ticks": ""
           }
          },
          "scene": {
           "xaxis": {
            "backgroundcolor": "#E5ECF6",
            "gridcolor": "white",
            "gridwidth": 2,
            "linecolor": "white",
            "showbackground": true,
            "ticks": "",
            "zerolinecolor": "white"
           },
           "yaxis": {
            "backgroundcolor": "#E5ECF6",
            "gridcolor": "white",
            "gridwidth": 2,
            "linecolor": "white",
            "showbackground": true,
            "ticks": "",
            "zerolinecolor": "white"
           },
           "zaxis": {
            "backgroundcolor": "#E5ECF6",
            "gridcolor": "white",
            "gridwidth": 2,
            "linecolor": "white",
            "showbackground": true,
            "ticks": "",
            "zerolinecolor": "white"
           }
          },
          "shapedefaults": {
           "line": {
            "color": "#2a3f5f"
           }
          },
          "ternary": {
           "aaxis": {
            "gridcolor": "white",
            "linecolor": "white",
            "ticks": ""
           },
           "baxis": {
            "gridcolor": "white",
            "linecolor": "white",
            "ticks": ""
           },
           "bgcolor": "#E5ECF6",
           "caxis": {
            "gridcolor": "white",
            "linecolor": "white",
            "ticks": ""
           }
          },
          "title": {
           "x": 0.05
          },
          "xaxis": {
           "automargin": true,
           "gridcolor": "white",
           "linecolor": "white",
           "ticks": "",
           "title": {
            "standoff": 15
           },
           "zerolinecolor": "white",
           "zerolinewidth": 2
          },
          "yaxis": {
           "automargin": true,
           "gridcolor": "white",
           "linecolor": "white",
           "ticks": "",
           "title": {
            "standoff": 15
           },
           "zerolinecolor": "white",
           "zerolinewidth": 2
          }
         }
        },
        "title": {
         "text": "Maintenance Strategy Costs"
        },
        "xaxis": {
         "anchor": "y",
         "automargin": true,
         "domain": [
          0,
          1
         ],
         "title": {
          "text": "Age (years)"
         }
        },
        "yaxis": {
         "anchor": "x",
         "automargin": true,
         "domain": [
          0,
          1
         ],
         "title": {
          "text": "Cost Cumulative"
         }
        }
       }
      }
     },
     "metadata": {}
    }
   ],
   "source": [
    "comp.units = model_units\n",
    "comp.mc_timeline(t_end=t_end, n_iterations=n_iterations)\n",
    "comp.expected_risk_cost_df()\n",
    "comp.plot_ms()"
   ]
  },
  {
   "source": [
    "### Sensitivity\n",
    "The purpose of sensitivity is to understand the relationship between cost/risk/performance of a maintainence strategy when an input variable is changed. It is influence by the following parameters\n",
    "- var_id: the variable id for which sensitivity is going to be adjusted.\n",
    "- lower: the lower limit for the var_id\n",
    "- upper: the upper limit for the var_id\n",
    "- step_size: the size of the increments that are going to be used\n",
    "The length of time required to complete a sensitivity analysis is influenced by t_end, n_iterations and model_units. The simulation is below has been set to complete quickly to demonstrate functionality."
   ],
   "cell_type": "markdown",
   "metadata": {}
  },
  {
   "cell_type": "code",
   "execution_count": 7,
   "metadata": {},
   "outputs": [],
   "source": [
    "var_id = 'pole-task_group_name-groundline-t_interval'\n",
    "lower = 0\n",
    "upper = 10 \n",
    "step_size = 1"
   ]
  },
  {
   "cell_type": "code",
   "execution_count": 8,
   "metadata": {},
   "outputs": [
    {
     "output_type": "display_data",
     "data": {
      "application/vnd.plotly.v1+json": {
       "config": {
        "plotlyServerURL": "https://plot.ly"
       },
       "data": [
        {
         "hovertemplate": "source=total<br> =   <br>t_interval=%{x}<br>cost_cumulative=%{y}<extra></extra>",
         "legendgroup": "total,    ",
         "line": {
          "color": "#636EFA",
          "dash": "solid"
         },
         "mode": "lines",
         "name": "total,    ",
         "orientation": "v",
         "showlegend": true,
         "type": "scatter",
         "x": [
          0,
          1,
          2,
          3,
          4,
          5,
          6,
          7,
          8,
          9,
          10
         ],
         "xaxis": "x",
         "y": [
          9469,
          6501.5,
          5778,
          3492,
          2728.5,
          4953.5,
          3015.5,
          2977,
          3480.5,
          3283,
          6423.5
         ],
         "yaxis": "y"
        },
        {
         "hovertemplate": "source=risk<br> =   <br>t_interval=%{x}<br>cost_cumulative=%{y}<extra></extra>",
         "legendgroup": "risk,    ",
         "line": {
          "color": "#EF553B",
          "dash": "solid"
         },
         "mode": "lines",
         "name": "risk,    ",
         "orientation": "v",
         "showlegend": true,
         "type": "scatter",
         "x": [
          0,
          1,
          2,
          3,
          4,
          5,
          6,
          7,
          8,
          9,
          10
         ],
         "xaxis": "x",
         "y": [
          5000,
          2500,
          3000,
          1500,
          1000,
          3000,
          1500,
          1500,
          2000,
          2000,
          4500
         ],
         "yaxis": "y"
        },
        {
         "hovertemplate": "source=direct<br> =   <br>t_interval=%{x}<br>cost_cumulative=%{y}<extra></extra>",
         "legendgroup": "direct,    ",
         "line": {
          "color": "#00CC96",
          "dash": "solid"
         },
         "mode": "lines",
         "name": "direct,    ",
         "orientation": "v",
         "showlegend": true,
         "type": "scatter",
         "x": [
          0,
          1,
          2,
          3,
          4,
          5,
          6,
          7,
          8,
          9,
          10
         ],
         "xaxis": "x",
         "y": [
          4469,
          4001.5,
          2778,
          1992,
          1728.5,
          1953.5,
          1515.5,
          1477,
          1480.5,
          1283,
          1923.5
         ],
         "yaxis": "y"
        },
        {
         "hovertemplate": "source=conditional_failure<br> =  <br>t_interval=%{x}<br>cost_cumulative=%{y}<extra></extra>",
         "legendgroup": "conditional_failure,   ",
         "line": {
          "color": "#AB63FA",
          "dash": "dot"
         },
         "mode": "lines",
         "name": "conditional_failure,   ",
         "orientation": "v",
         "showlegend": true,
         "type": "scatter",
         "x": [
          0,
          1,
          2,
          3,
          4,
          5,
          6,
          7,
          8,
          9,
          10
         ],
         "xaxis": "x",
         "y": [
          770,
          735,
          945,
          735,
          875,
          980,
          770,
          805,
          805,
          630,
          980
         ],
         "yaxis": "y"
        },
        {
         "hovertemplate": "source=functional_failure<br> =  <br>t_interval=%{x}<br>cost_cumulative=%{y}<extra></extra>",
         "legendgroup": "functional_failure,   ",
         "line": {
          "color": "#FFA15A",
          "dash": "dot"
         },
         "mode": "lines",
         "name": "functional_failure,   ",
         "orientation": "v",
         "showlegend": true,
         "type": "scatter",
         "x": [
          0,
          1,
          2,
          3,
          4,
          5,
          6,
          7,
          8,
          9,
          10
         ],
         "xaxis": "x",
         "y": [
          700,
          350,
          420,
          210,
          140,
          420,
          210,
          210,
          280,
          280,
          630
         ],
         "yaxis": "y"
        },
        {
         "hovertemplate": "source=inspection_groundline<br> =  <br>t_interval=%{x}<br>cost_cumulative=%{y}<extra></extra>",
         "legendgroup": "inspection_groundline,   ",
         "line": {
          "color": "#19D3F3",
          "dash": "dot"
         },
         "mode": "lines",
         "name": "inspection_groundline,   ",
         "orientation": "v",
         "showlegend": true,
         "type": "scatter",
         "x": [
          0,
          1,
          2,
          3,
          4,
          5,
          6,
          7,
          8,
          9,
          10
         ],
         "xaxis": "x",
         "y": [
          2972,
          2899.5,
          1392,
          1025,
          686.5,
          537.5,
          518.5,
          439,
          376.5,
          355,
          300.5
         ],
         "yaxis": "y"
        },
        {
         "hovertemplate": "source=inspection_protection<br> =  <br>t_interval=%{x}<br>cost_cumulative=%{y}<extra></extra>",
         "legendgroup": "inspection_protection,   ",
         "line": {
          "color": "#FF6692",
          "dash": "dot"
         },
         "mode": "lines",
         "name": "inspection_protection,   ",
         "orientation": "v",
         "showlegend": true,
         "type": "scatter",
         "x": [
          0,
          1,
          2,
          3,
          4,
          5,
          6,
          7,
          8,
          9,
          10
         ],
         "xaxis": "x",
         "y": [
          0,
          0,
          0,
          0,
          0,
          0,
          0,
          0,
          0,
          0,
          0
         ],
         "yaxis": "y"
        },
        {
         "hovertemplate": "source=pole_saver_rod<br> =  <br>t_interval=%{x}<br>cost_cumulative=%{y}<extra></extra>",
         "legendgroup": "pole_saver_rod,   ",
         "line": {
          "color": "#B6E880",
          "dash": "dot"
         },
         "mode": "lines",
         "name": "pole_saver_rod,   ",
         "orientation": "v",
         "showlegend": true,
         "type": "scatter",
         "x": [
          0,
          1,
          2,
          3,
          4,
          5,
          6,
          7,
          8,
          9,
          10
         ],
         "xaxis": "x",
         "y": [
          null,
          null,
          null,
          null,
          null,
          null,
          null,
          null,
          null,
          null,
          null
         ],
         "yaxis": "y"
        },
        {
         "hovertemplate": "source=termite_treatment<br> =  <br>t_interval=%{x}<br>cost_cumulative=%{y}<extra></extra>",
         "legendgroup": "termite_treatment,   ",
         "line": {
          "color": "#FF97FF",
          "dash": "dot"
         },
         "mode": "lines",
         "name": "termite_treatment,   ",
         "orientation": "v",
         "showlegend": true,
         "type": "scatter",
         "x": [
          0,
          1,
          2,
          3,
          4,
          5,
          6,
          7,
          8,
          9,
          10
         ],
         "xaxis": "x",
         "y": [
          27,
          17,
          21,
          22,
          27,
          16,
          17,
          23,
          19,
          18,
          13
         ],
         "yaxis": "y"
        }
       ],
       "layout": {
        "legend": {
         "title": {
          "text": "source,  "
         },
         "tracegroupgap": 0
        },
        "template": {
         "data": {
          "bar": [
           {
            "error_x": {
             "color": "#2a3f5f"
            },
            "error_y": {
             "color": "#2a3f5f"
            },
            "marker": {
             "line": {
              "color": "#E5ECF6",
              "width": 0.5
             }
            },
            "type": "bar"
           }
          ],
          "barpolar": [
           {
            "marker": {
             "line": {
              "color": "#E5ECF6",
              "width": 0.5
             }
            },
            "type": "barpolar"
           }
          ],
          "carpet": [
           {
            "aaxis": {
             "endlinecolor": "#2a3f5f",
             "gridcolor": "white",
             "linecolor": "white",
             "minorgridcolor": "white",
             "startlinecolor": "#2a3f5f"
            },
            "baxis": {
             "endlinecolor": "#2a3f5f",
             "gridcolor": "white",
             "linecolor": "white",
             "minorgridcolor": "white",
             "startlinecolor": "#2a3f5f"
            },
            "type": "carpet"
           }
          ],
          "choropleth": [
           {
            "colorbar": {
             "outlinewidth": 0,
             "ticks": ""
            },
            "type": "choropleth"
           }
          ],
          "contour": [
           {
            "colorbar": {
             "outlinewidth": 0,
             "ticks": ""
            },
            "colorscale": [
             [
              0,
              "#0d0887"
             ],
             [
              0.1111111111111111,
              "#46039f"
             ],
             [
              0.2222222222222222,
              "#7201a8"
             ],
             [
              0.3333333333333333,
              "#9c179e"
             ],
             [
              0.4444444444444444,
              "#bd3786"
             ],
             [
              0.5555555555555556,
              "#d8576b"
             ],
             [
              0.6666666666666666,
              "#ed7953"
             ],
             [
              0.7777777777777778,
              "#fb9f3a"
             ],
             [
              0.8888888888888888,
              "#fdca26"
             ],
             [
              1,
              "#f0f921"
             ]
            ],
            "type": "contour"
           }
          ],
          "contourcarpet": [
           {
            "colorbar": {
             "outlinewidth": 0,
             "ticks": ""
            },
            "type": "contourcarpet"
           }
          ],
          "heatmap": [
           {
            "colorbar": {
             "outlinewidth": 0,
             "ticks": ""
            },
            "colorscale": [
             [
              0,
              "#0d0887"
             ],
             [
              0.1111111111111111,
              "#46039f"
             ],
             [
              0.2222222222222222,
              "#7201a8"
             ],
             [
              0.3333333333333333,
              "#9c179e"
             ],
             [
              0.4444444444444444,
              "#bd3786"
             ],
             [
              0.5555555555555556,
              "#d8576b"
             ],
             [
              0.6666666666666666,
              "#ed7953"
             ],
             [
              0.7777777777777778,
              "#fb9f3a"
             ],
             [
              0.8888888888888888,
              "#fdca26"
             ],
             [
              1,
              "#f0f921"
             ]
            ],
            "type": "heatmap"
           }
          ],
          "heatmapgl": [
           {
            "colorbar": {
             "outlinewidth": 0,
             "ticks": ""
            },
            "colorscale": [
             [
              0,
              "#0d0887"
             ],
             [
              0.1111111111111111,
              "#46039f"
             ],
             [
              0.2222222222222222,
              "#7201a8"
             ],
             [
              0.3333333333333333,
              "#9c179e"
             ],
             [
              0.4444444444444444,
              "#bd3786"
             ],
             [
              0.5555555555555556,
              "#d8576b"
             ],
             [
              0.6666666666666666,
              "#ed7953"
             ],
             [
              0.7777777777777778,
              "#fb9f3a"
             ],
             [
              0.8888888888888888,
              "#fdca26"
             ],
             [
              1,
              "#f0f921"
             ]
            ],
            "type": "heatmapgl"
           }
          ],
          "histogram": [
           {
            "marker": {
             "colorbar": {
              "outlinewidth": 0,
              "ticks": ""
             }
            },
            "type": "histogram"
           }
          ],
          "histogram2d": [
           {
            "colorbar": {
             "outlinewidth": 0,
             "ticks": ""
            },
            "colorscale": [
             [
              0,
              "#0d0887"
             ],
             [
              0.1111111111111111,
              "#46039f"
             ],
             [
              0.2222222222222222,
              "#7201a8"
             ],
             [
              0.3333333333333333,
              "#9c179e"
             ],
             [
              0.4444444444444444,
              "#bd3786"
             ],
             [
              0.5555555555555556,
              "#d8576b"
             ],
             [
              0.6666666666666666,
              "#ed7953"
             ],
             [
              0.7777777777777778,
              "#fb9f3a"
             ],
             [
              0.8888888888888888,
              "#fdca26"
             ],
             [
              1,
              "#f0f921"
             ]
            ],
            "type": "histogram2d"
           }
          ],
          "histogram2dcontour": [
           {
            "colorbar": {
             "outlinewidth": 0,
             "ticks": ""
            },
            "colorscale": [
             [
              0,
              "#0d0887"
             ],
             [
              0.1111111111111111,
              "#46039f"
             ],
             [
              0.2222222222222222,
              "#7201a8"
             ],
             [
              0.3333333333333333,
              "#9c179e"
             ],
             [
              0.4444444444444444,
              "#bd3786"
             ],
             [
              0.5555555555555556,
              "#d8576b"
             ],
             [
              0.6666666666666666,
              "#ed7953"
             ],
             [
              0.7777777777777778,
              "#fb9f3a"
             ],
             [
              0.8888888888888888,
              "#fdca26"
             ],
             [
              1,
              "#f0f921"
             ]
            ],
            "type": "histogram2dcontour"
           }
          ],
          "mesh3d": [
           {
            "colorbar": {
             "outlinewidth": 0,
             "ticks": ""
            },
            "type": "mesh3d"
           }
          ],
          "parcoords": [
           {
            "line": {
             "colorbar": {
              "outlinewidth": 0,
              "ticks": ""
             }
            },
            "type": "parcoords"
           }
          ],
          "pie": [
           {
            "automargin": true,
            "type": "pie"
           }
          ],
          "scatter": [
           {
            "marker": {
             "colorbar": {
              "outlinewidth": 0,
              "ticks": ""
             }
            },
            "type": "scatter"
           }
          ],
          "scatter3d": [
           {
            "line": {
             "colorbar": {
              "outlinewidth": 0,
              "ticks": ""
             }
            },
            "marker": {
             "colorbar": {
              "outlinewidth": 0,
              "ticks": ""
             }
            },
            "type": "scatter3d"
           }
          ],
          "scattercarpet": [
           {
            "marker": {
             "colorbar": {
              "outlinewidth": 0,
              "ticks": ""
             }
            },
            "type": "scattercarpet"
           }
          ],
          "scattergeo": [
           {
            "marker": {
             "colorbar": {
              "outlinewidth": 0,
              "ticks": ""
             }
            },
            "type": "scattergeo"
           }
          ],
          "scattergl": [
           {
            "marker": {
             "colorbar": {
              "outlinewidth": 0,
              "ticks": ""
             }
            },
            "type": "scattergl"
           }
          ],
          "scattermapbox": [
           {
            "marker": {
             "colorbar": {
              "outlinewidth": 0,
              "ticks": ""
             }
            },
            "type": "scattermapbox"
           }
          ],
          "scatterpolar": [
           {
            "marker": {
             "colorbar": {
              "outlinewidth": 0,
              "ticks": ""
             }
            },
            "type": "scatterpolar"
           }
          ],
          "scatterpolargl": [
           {
            "marker": {
             "colorbar": {
              "outlinewidth": 0,
              "ticks": ""
             }
            },
            "type": "scatterpolargl"
           }
          ],
          "scatterternary": [
           {
            "marker": {
             "colorbar": {
              "outlinewidth": 0,
              "ticks": ""
             }
            },
            "type": "scatterternary"
           }
          ],
          "surface": [
           {
            "colorbar": {
             "outlinewidth": 0,
             "ticks": ""
            },
            "colorscale": [
             [
              0,
              "#0d0887"
             ],
             [
              0.1111111111111111,
              "#46039f"
             ],
             [
              0.2222222222222222,
              "#7201a8"
             ],
             [
              0.3333333333333333,
              "#9c179e"
             ],
             [
              0.4444444444444444,
              "#bd3786"
             ],
             [
              0.5555555555555556,
              "#d8576b"
             ],
             [
              0.6666666666666666,
              "#ed7953"
             ],
             [
              0.7777777777777778,
              "#fb9f3a"
             ],
             [
              0.8888888888888888,
              "#fdca26"
             ],
             [
              1,
              "#f0f921"
             ]
            ],
            "type": "surface"
           }
          ],
          "table": [
           {
            "cells": {
             "fill": {
              "color": "#EBF0F8"
             },
             "line": {
              "color": "white"
             }
            },
            "header": {
             "fill": {
              "color": "#C8D4E3"
             },
             "line": {
              "color": "white"
             }
            },
            "type": "table"
           }
          ]
         },
         "layout": {
          "annotationdefaults": {
           "arrowcolor": "#2a3f5f",
           "arrowhead": 0,
           "arrowwidth": 1
          },
          "coloraxis": {
           "colorbar": {
            "outlinewidth": 0,
            "ticks": ""
           }
          },
          "colorscale": {
           "diverging": [
            [
             0,
             "#8e0152"
            ],
            [
             0.1,
             "#c51b7d"
            ],
            [
             0.2,
             "#de77ae"
            ],
            [
             0.3,
             "#f1b6da"
            ],
            [
             0.4,
             "#fde0ef"
            ],
            [
             0.5,
             "#f7f7f7"
            ],
            [
             0.6,
             "#e6f5d0"
            ],
            [
             0.7,
             "#b8e186"
            ],
            [
             0.8,
             "#7fbc41"
            ],
            [
             0.9,
             "#4d9221"
            ],
            [
             1,
             "#276419"
            ]
           ],
           "sequential": [
            [
             0,
             "#0d0887"
            ],
            [
             0.1111111111111111,
             "#46039f"
            ],
            [
             0.2222222222222222,
             "#7201a8"
            ],
            [
             0.3333333333333333,
             "#9c179e"
            ],
            [
             0.4444444444444444,
             "#bd3786"
            ],
            [
             0.5555555555555556,
             "#d8576b"
            ],
            [
             0.6666666666666666,
             "#ed7953"
            ],
            [
             0.7777777777777778,
             "#fb9f3a"
            ],
            [
             0.8888888888888888,
             "#fdca26"
            ],
            [
             1,
             "#f0f921"
            ]
           ],
           "sequentialminus": [
            [
             0,
             "#0d0887"
            ],
            [
             0.1111111111111111,
             "#46039f"
            ],
            [
             0.2222222222222222,
             "#7201a8"
            ],
            [
             0.3333333333333333,
             "#9c179e"
            ],
            [
             0.4444444444444444,
             "#bd3786"
            ],
            [
             0.5555555555555556,
             "#d8576b"
            ],
            [
             0.6666666666666666,
             "#ed7953"
            ],
            [
             0.7777777777777778,
             "#fb9f3a"
            ],
            [
             0.8888888888888888,
             "#fdca26"
            ],
            [
             1,
             "#f0f921"
            ]
           ]
          },
          "colorway": [
           "#636efa",
           "#EF553B",
           "#00cc96",
           "#ab63fa",
           "#FFA15A",
           "#19d3f3",
           "#FF6692",
           "#B6E880",
           "#FF97FF",
           "#FECB52"
          ],
          "font": {
           "color": "#2a3f5f"
          },
          "geo": {
           "bgcolor": "white",
           "lakecolor": "white",
           "landcolor": "#E5ECF6",
           "showlakes": true,
           "showland": true,
           "subunitcolor": "white"
          },
          "hoverlabel": {
           "align": "left"
          },
          "hovermode": "closest",
          "mapbox": {
           "style": "light"
          },
          "paper_bgcolor": "white",
          "plot_bgcolor": "#E5ECF6",
          "polar": {
           "angularaxis": {
            "gridcolor": "white",
            "linecolor": "white",
            "ticks": ""
           },
           "bgcolor": "#E5ECF6",
           "radialaxis": {
            "gridcolor": "white",
            "linecolor": "white",
            "ticks": ""
           }
          },
          "scene": {
           "xaxis": {
            "backgroundcolor": "#E5ECF6",
            "gridcolor": "white",
            "gridwidth": 2,
            "linecolor": "white",
            "showbackground": true,
            "ticks": "",
            "zerolinecolor": "white"
           },
           "yaxis": {
            "backgroundcolor": "#E5ECF6",
            "gridcolor": "white",
            "gridwidth": 2,
            "linecolor": "white",
            "showbackground": true,
            "ticks": "",
            "zerolinecolor": "white"
           },
           "zaxis": {
            "backgroundcolor": "#E5ECF6",
            "gridcolor": "white",
            "gridwidth": 2,
            "linecolor": "white",
            "showbackground": true,
            "ticks": "",
            "zerolinecolor": "white"
           }
          },
          "shapedefaults": {
           "line": {
            "color": "#2a3f5f"
           }
          },
          "ternary": {
           "aaxis": {
            "gridcolor": "white",
            "linecolor": "white",
            "ticks": ""
           },
           "baxis": {
            "gridcolor": "white",
            "linecolor": "white",
            "ticks": ""
           },
           "bgcolor": "#E5ECF6",
           "caxis": {
            "gridcolor": "white",
            "linecolor": "white",
            "ticks": ""
           }
          },
          "title": {
           "x": 0.05
          },
          "xaxis": {
           "automargin": true,
           "gridcolor": "white",
           "linecolor": "white",
           "ticks": "",
           "title": {
            "standoff": 15
           },
           "zerolinecolor": "white",
           "zerolinewidth": 2
          },
          "yaxis": {
           "automargin": true,
           "gridcolor": "white",
           "linecolor": "white",
           "ticks": "",
           "title": {
            "standoff": 15
           },
           "zerolinecolor": "white",
           "zerolinewidth": 2
          }
         }
        },
        "title": {
         "text": "Sensitivity of Risk/Cost to T Interval"
        },
        "xaxis": {
         "anchor": "y",
         "automargin": true,
         "domain": [
          0,
          1
         ],
         "title": {
          "text": "t_interval (years)"
         }
        },
        "yaxis": {
         "anchor": "x",
         "automargin": true,
         "domain": [
          0,
          1
         ],
         "title": {
          "text": "cost_cumulative"
         }
        }
       }
      }
     },
     "metadata": {}
    }
   ],
   "source": [
    "comp.expected_sensitivity(var_id, lower, upper, step_size, n_iterations, t_end)\n",
    "clear_output()\n",
    "comp.plot_sens(var_id=var_id, y_axis='cost_cumulative')"
   ]
  },
  {
   "source": [
    "## Determine Parameters that have the greatest impact\n",
    "Considering the impact of all sensitivities at the same time results in a large computational burden. Considering the sensitivity of each parameters in isolation first allows parameters that have limited impact to be ignored and the focus shifted to high impact parameters.\n"
   ],
   "cell_type": "markdown",
   "metadata": {}
  },
  {
   "cell_type": "code",
   "execution_count": 9,
   "metadata": {},
   "outputs": [],
   "source": [
    "#TODO update illyses code\n",
    "# conf = 0.9\n",
    "# n_increments = 10\n",
    "# n_iterations = 100\n",
    "\n",
    "# #if it's even add one\n",
    "# df_sens = comp.sensitivity(var_name = df_inspection_slow, conf =  conf, n_increments = n_increments, n_iterations = n_iterations)\n",
    "\n",
    "# comp.make_sensitivity_plot(\n",
    "#     data = df_sens,\n",
    "#     x_axis = 'conf',\n",
    "#     y_axis = 'var_name',\n",
    "#     failure_mode = 'slow_aging',\n",
    "#     plot_type = 'heatmap',\n",
    "#     z_axis = 'risk_cost',\n",
    "# )"
   ]
  },
  {
   "source": [
    "## Investigate the relationship between multiple parameters\n",
    "\n",
    "There are often situations where the relationship between multiple parameters need to be considered at the same time. Creating a sesnitivity chain becomes computationally expensive so should only be considered for parameters that have a known impact.\n",
    "\n",
    "- sens_vars: A dictionary of variables to chain with a list of values to evaluate.\n",
    "\n",
    "The lists can be generated using three methods:\n",
    "- [list][1]: a list of values to use\n",
    "- [np.arange][2]: a list of numbers between *start* and *stop* at every *step* \n",
    "- [np.linspace][3]: a list of numbers between *start* and *stop* broken up into *num* increments\n",
    "\n",
    "These three methods are equivalent:\n",
    "~~~ python\n",
    "sens_vars = {\n",
    "    'var_list' : [0, 2, 4, 6, 8, 10],\n",
    "    'var_arange' : np.arange(start = 0, stop = 11, step = 2), #parameter names are optional\n",
    "    'var_linspace' : np.linspace(start = 0, stop = 10, num = 6) #parameter names are optional\n",
    "}\n",
    "~~~\n",
    "[1]: https://docs.python.org/3/tutorial/datastructures.html\n",
    "[2]: https://numpy.org/doc/stable/reference/generated/numpy.arange.html\n",
    "[3]: https://numpy.org/doc/stable/reference/generated/numpy.linspace.html#numpy.linspace"
   ],
   "cell_type": "markdown",
   "metadata": {}
  },
  {
   "cell_type": "code",
   "execution_count": 6,
   "metadata": {
    "tags": []
   },
   "outputs": [
    {
     "output_type": "execute_result",
     "data": {
      "text/plain": [
       "{'pole-consequence-cost': array([      0.,  500000., 1000000., 1500000.]),\n",
       " 'pole-task_group_name-groundline-t_interval': array([0, 1, 2, 3, 4, 5, 6, 7, 8, 9])}"
      ]
     },
     "metadata": {},
     "execution_count": 6
    }
   ],
   "source": [
    "sens_vars = {\n",
    "    'pole-consequence-cost': np.arange(0, 2e6,5e5),\n",
    "    'pole-task_group_name-groundline-t_interval': np.arange(0, 10, 1),\n",
    "}\n",
    "sens_vars"
   ]
  },
  {
   "cell_type": "code",
   "execution_count": 7,
   "metadata": {},
   "outputs": [
    {
     "output_type": "display_data",
     "data": {
      "text/plain": "HBox(children=(HTML(value='pole-consequence-cost'), FloatProgress(value=0.0, max=4.0), HTML(value='')))",
      "application/vnd.jupyter.widget-view+json": {
       "version_major": 2,
       "version_minor": 0,
       "model_id": "7abe76b7052349d09d1fa1caaa8e709a"
      }
     },
     "metadata": {}
    },
    {
     "output_type": "display_data",
     "data": {
      "text/plain": "HBox(children=(HTML(value='pole-task_group_name-groundline-t_interval'), FloatProgress(value=0.0, max=10.0), H…",
      "application/vnd.jupyter.widget-view+json": {
       "version_major": 2,
       "version_minor": 0,
       "model_id": "2bd785a6c66f4e9caa0b84e34c2e5931"
      }
     },
     "metadata": {}
    },
    {
     "output_type": "display_data",
     "data": {
      "text/plain": "HBox(children=(HTML(value='Simulation'), FloatProgress(value=0.0), HTML(value='')))",
      "application/vnd.jupyter.widget-view+json": {
       "version_major": 2,
       "version_minor": 0,
       "model_id": "675ec8ddb1854d4b9400c2cc79a839df"
      }
     },
     "metadata": {}
    },
    {
     "output_type": "stream",
     "name": "stdout",
     "text": [
      "\n\n"
     ]
    },
    {
     "output_type": "error",
     "ename": "KeyboardInterrupt",
     "evalue": "",
     "traceback": [
      "\u001b[1;31m---------------------------------------------------------------------------\u001b[0m",
      "\u001b[1;31mKeyboardInterrupt\u001b[0m                         Traceback (most recent call last)",
      "\u001b[1;32m<ipython-input-7-3aa7221c6a54>\u001b[0m in \u001b[0;36m<module>\u001b[1;34m\u001b[0m\n\u001b[1;32m----> 1\u001b[1;33m \u001b[0mdf_sens_chain\u001b[0m \u001b[1;33m=\u001b[0m \u001b[0mcomp\u001b[0m\u001b[1;33m.\u001b[0m\u001b[0msensitivty_chain\u001b[0m\u001b[1;33m(\u001b[0m\u001b[0msens_vars\u001b[0m\u001b[1;33m,\u001b[0m \u001b[0mt_end\u001b[0m\u001b[1;33m=\u001b[0m\u001b[0mt_end\u001b[0m\u001b[1;33m,\u001b[0m \u001b[0mn_iterations\u001b[0m\u001b[1;33m=\u001b[0m\u001b[0mn_iterations\u001b[0m\u001b[1;33m)\u001b[0m\u001b[1;33m\u001b[0m\u001b[1;33m\u001b[0m\u001b[0m\n\u001b[0m\u001b[0;32m      2\u001b[0m \u001b[0mdf_sens_chain\u001b[0m\u001b[1;33m.\u001b[0m\u001b[0mhead\u001b[0m\u001b[1;33m(\u001b[0m\u001b[1;33m)\u001b[0m\u001b[1;33m\u001b[0m\u001b[1;33m\u001b[0m\u001b[0m\n",
      "\u001b[1;32m~\\OneDrive - KPMG\\Documents\\3. Client\\Essential Energy\\Probability of Failure Model\\pof\\pof\\component.py\u001b[0m in \u001b[0;36msensitivty_chain\u001b[1;34m(self, sens_vars, n_iterations, t_end)\u001b[0m\n\u001b[0;32m    705\u001b[0m                 \u001b[0mself\u001b[0m\u001b[1;33m.\u001b[0m\u001b[0mupdate\u001b[0m\u001b[1;33m(\u001b[0m\u001b[0mvar_id\u001b[0m\u001b[1;33m,\u001b[0m \u001b[0mupdate_val\u001b[0m\u001b[1;33m)\u001b[0m\u001b[1;33m\u001b[0m\u001b[1;33m\u001b[0m\u001b[0m\n\u001b[0;32m    706\u001b[0m \u001b[1;33m\u001b[0m\u001b[0m\n\u001b[1;32m--> 707\u001b[1;33m                 results[update_val] = self.sensitivty_chain(\n\u001b[0m\u001b[0;32m    708\u001b[0m                     \u001b[0msens_vars\u001b[0m\u001b[1;33m,\u001b[0m \u001b[0mt_end\u001b[0m\u001b[1;33m=\u001b[0m\u001b[0mt_end\u001b[0m\u001b[1;33m,\u001b[0m \u001b[0mn_iterations\u001b[0m\u001b[1;33m=\u001b[0m\u001b[0mn_iterations\u001b[0m\u001b[1;33m\u001b[0m\u001b[1;33m\u001b[0m\u001b[0m\n\u001b[0;32m    709\u001b[0m                 )\n",
      "\u001b[1;32m~\\OneDrive - KPMG\\Documents\\3. Client\\Essential Energy\\Probability of Failure Model\\pof\\pof\\component.py\u001b[0m in \u001b[0;36msensitivty_chain\u001b[1;34m(self, sens_vars, n_iterations, t_end)\u001b[0m\n\u001b[0;32m    705\u001b[0m                 \u001b[0mself\u001b[0m\u001b[1;33m.\u001b[0m\u001b[0mupdate\u001b[0m\u001b[1;33m(\u001b[0m\u001b[0mvar_id\u001b[0m\u001b[1;33m,\u001b[0m \u001b[0mupdate_val\u001b[0m\u001b[1;33m)\u001b[0m\u001b[1;33m\u001b[0m\u001b[1;33m\u001b[0m\u001b[0m\n\u001b[0;32m    706\u001b[0m \u001b[1;33m\u001b[0m\u001b[0m\n\u001b[1;32m--> 707\u001b[1;33m                 results[update_val] = self.sensitivty_chain(\n\u001b[0m\u001b[0;32m    708\u001b[0m                     \u001b[0msens_vars\u001b[0m\u001b[1;33m,\u001b[0m \u001b[0mt_end\u001b[0m\u001b[1;33m=\u001b[0m\u001b[0mt_end\u001b[0m\u001b[1;33m,\u001b[0m \u001b[0mn_iterations\u001b[0m\u001b[1;33m=\u001b[0m\u001b[0mn_iterations\u001b[0m\u001b[1;33m\u001b[0m\u001b[1;33m\u001b[0m\u001b[0m\n\u001b[0;32m    709\u001b[0m                 )\n",
      "\u001b[1;32m~\\OneDrive - KPMG\\Documents\\3. Client\\Essential Energy\\Probability of Failure Model\\pof\\pof\\component.py\u001b[0m in \u001b[0;36msensitivty_chain\u001b[1;34m(self, sens_vars, n_iterations, t_end)\u001b[0m\n\u001b[0;32m    689\u001b[0m             \u001b[1;31m# Simulate\u001b[0m\u001b[1;33m\u001b[0m\u001b[1;33m\u001b[0m\u001b[1;33m\u001b[0m\u001b[0m\n\u001b[0;32m    690\u001b[0m             \u001b[0mself\u001b[0m\u001b[1;33m.\u001b[0m\u001b[0mreset\u001b[0m\u001b[1;33m(\u001b[0m\u001b[1;33m)\u001b[0m\u001b[1;33m\u001b[0m\u001b[1;33m\u001b[0m\u001b[0m\n\u001b[1;32m--> 691\u001b[1;33m             \u001b[0mself\u001b[0m\u001b[1;33m.\u001b[0m\u001b[0mmp_timeline\u001b[0m\u001b[1;33m(\u001b[0m\u001b[0mt_end\u001b[0m\u001b[1;33m=\u001b[0m\u001b[0mt_end\u001b[0m\u001b[1;33m,\u001b[0m \u001b[0mn_iterations\u001b[0m\u001b[1;33m=\u001b[0m\u001b[0mn_iterations\u001b[0m\u001b[1;33m)\u001b[0m\u001b[1;33m\u001b[0m\u001b[1;33m\u001b[0m\u001b[0m\n\u001b[0m\u001b[0;32m    692\u001b[0m \u001b[1;33m\u001b[0m\u001b[0m\n\u001b[0;32m    693\u001b[0m             \u001b[1;31m# Report\u001b[0m\u001b[1;33m\u001b[0m\u001b[1;33m\u001b[0m\u001b[1;33m\u001b[0m\u001b[0m\n",
      "\u001b[1;32m~\\OneDrive - KPMG\\Documents\\3. Client\\Essential Energy\\Probability of Failure Model\\pof\\pof\\component.py\u001b[0m in \u001b[0;36mmp_timeline\u001b[1;34m(self, t_end, t_start, n_iterations)\u001b[0m\n\u001b[0;32m    205\u001b[0m \u001b[1;33m\u001b[0m\u001b[0m\n\u001b[0;32m    206\u001b[0m                 \u001b[1;31m# Complete a simulation\u001b[0m\u001b[1;33m\u001b[0m\u001b[1;33m\u001b[0m\u001b[1;33m\u001b[0m\u001b[0m\n\u001b[1;32m--> 207\u001b[1;33m                 \u001b[0mself\u001b[0m\u001b[1;33m.\u001b[0m\u001b[0msim_timeline\u001b[0m\u001b[1;33m(\u001b[0m\u001b[0mt_end\u001b[0m\u001b[1;33m=\u001b[0m\u001b[0mt_end\u001b[0m\u001b[1;33m,\u001b[0m \u001b[0mt_start\u001b[0m\u001b[1;33m=\u001b[0m\u001b[0mt_start\u001b[0m\u001b[1;33m)\u001b[0m\u001b[1;33m\u001b[0m\u001b[1;33m\u001b[0m\u001b[0m\n\u001b[0m\u001b[0;32m    208\u001b[0m                 \u001b[0mself\u001b[0m\u001b[1;33m.\u001b[0m\u001b[0msave_timeline\u001b[0m\u001b[1;33m(\u001b[0m\u001b[0mself\u001b[0m\u001b[1;33m.\u001b[0m\u001b[0mn\u001b[0m\u001b[1;33m)\u001b[0m\u001b[1;33m\u001b[0m\u001b[1;33m\u001b[0m\u001b[0m\n\u001b[0;32m    209\u001b[0m                 \u001b[0mself\u001b[0m\u001b[1;33m.\u001b[0m\u001b[0mincrement_counter\u001b[0m\u001b[1;33m(\u001b[0m\u001b[1;33m)\u001b[0m\u001b[1;33m\u001b[0m\u001b[1;33m\u001b[0m\u001b[0m\n",
      "\u001b[1;32m~\\OneDrive - KPMG\\Documents\\3. Client\\Essential Energy\\Probability of Failure Model\\pof\\pof\\component.py\u001b[0m in \u001b[0;36msim_timeline\u001b[1;34m(self, t_end, t_start)\u001b[0m\n\u001b[0;32m    240\u001b[0m             \u001b[0mt_next\u001b[0m\u001b[1;33m,\u001b[0m \u001b[0mnext_fm_tasks\u001b[0m \u001b[1;33m=\u001b[0m \u001b[0mself\u001b[0m\u001b[1;33m.\u001b[0m\u001b[0mnext_tasks\u001b[0m\u001b[1;33m(\u001b[0m\u001b[0mt_now\u001b[0m\u001b[1;33m)\u001b[0m\u001b[1;33m\u001b[0m\u001b[1;33m\u001b[0m\u001b[0m\n\u001b[0;32m    241\u001b[0m \u001b[1;33m\u001b[0m\u001b[0m\n\u001b[1;32m--> 242\u001b[1;33m             \u001b[0mself\u001b[0m\u001b[1;33m.\u001b[0m\u001b[0mcomplete_tasks\u001b[0m\u001b[1;33m(\u001b[0m\u001b[0mt_next\u001b[0m\u001b[1;33m,\u001b[0m \u001b[0mnext_fm_tasks\u001b[0m\u001b[1;33m)\u001b[0m\u001b[1;33m\u001b[0m\u001b[1;33m\u001b[0m\u001b[0m\n\u001b[0m\u001b[0;32m    243\u001b[0m \u001b[1;33m\u001b[0m\u001b[0m\n\u001b[0;32m    244\u001b[0m             \u001b[0mt_now\u001b[0m \u001b[1;33m=\u001b[0m \u001b[0mt_next\u001b[0m \u001b[1;33m+\u001b[0m \u001b[1;36m1\u001b[0m\u001b[1;33m\u001b[0m\u001b[1;33m\u001b[0m\u001b[0m\n",
      "\u001b[1;32m~\\OneDrive - KPMG\\Documents\\3. Client\\Essential Energy\\Probability of Failure Model\\pof\\pof\\component.py\u001b[0m in \u001b[0;36mcomplete_tasks\u001b[1;34m(self, t_next, fm_tasks)\u001b[0m\n\u001b[0;32m    296\u001b[0m \u001b[1;33m\u001b[0m\u001b[0m\n\u001b[0;32m    297\u001b[0m             \u001b[1;32mfor\u001b[0m \u001b[0mfm_name\u001b[0m\u001b[1;33m,\u001b[0m \u001b[0mtask_names\u001b[0m \u001b[1;32min\u001b[0m \u001b[0mfm_tasks\u001b[0m\u001b[1;33m.\u001b[0m\u001b[0mitems\u001b[0m\u001b[1;33m(\u001b[0m\u001b[1;33m)\u001b[0m\u001b[1;33m:\u001b[0m\u001b[1;33m\u001b[0m\u001b[1;33m\u001b[0m\u001b[0m\n\u001b[1;32m--> 298\u001b[1;33m                 \u001b[0msystem_impact\u001b[0m \u001b[1;33m=\u001b[0m \u001b[0mself\u001b[0m\u001b[1;33m.\u001b[0m\u001b[0mfm\u001b[0m\u001b[1;33m[\u001b[0m\u001b[0mfm_name\u001b[0m\u001b[1;33m]\u001b[0m\u001b[1;33m.\u001b[0m\u001b[0mcomplete_tasks\u001b[0m\u001b[1;33m(\u001b[0m\u001b[0mt_next\u001b[0m\u001b[1;33m,\u001b[0m \u001b[0mtask_names\u001b[0m\u001b[1;33m)\u001b[0m\u001b[1;33m\u001b[0m\u001b[1;33m\u001b[0m\u001b[0m\n\u001b[0m\u001b[0;32m    299\u001b[0m                 \u001b[0msystem_impacts\u001b[0m \u001b[1;33m=\u001b[0m \u001b[0msystem_impacts\u001b[0m \u001b[1;33m+\u001b[0m \u001b[0msystem_impact\u001b[0m\u001b[1;33m\u001b[0m\u001b[1;33m\u001b[0m\u001b[0m\n\u001b[0;32m    300\u001b[0m \u001b[1;33m\u001b[0m\u001b[0m\n",
      "\u001b[1;32m~\\OneDrive - KPMG\\Documents\\3. Client\\Essential Energy\\Probability of Failure Model\\pof\\pof\\failure_mode.py\u001b[0m in \u001b[0;36mcomplete_tasks\u001b[1;34m(self, t_now, task_names)\u001b[0m\n\u001b[0;32m    407\u001b[0m                     \u001b[1;31m# Update timeline\u001b[0m\u001b[1;33m\u001b[0m\u001b[1;33m\u001b[0m\u001b[1;33m\u001b[0m\u001b[0m\n\u001b[0;32m    408\u001b[0m                     \u001b[0mself\u001b[0m\u001b[1;33m.\u001b[0m\u001b[0mset_states\u001b[0m\u001b[1;33m(\u001b[0m\u001b[0mstates\u001b[0m\u001b[1;33m)\u001b[0m\u001b[1;33m\u001b[0m\u001b[1;33m\u001b[0m\u001b[0m\n\u001b[1;32m--> 409\u001b[1;33m                     \u001b[0mself\u001b[0m\u001b[1;33m.\u001b[0m\u001b[0mupdate_timeline\u001b[0m\u001b[1;33m(\u001b[0m\u001b[0mt_now\u001b[0m \u001b[1;33m+\u001b[0m \u001b[1;36m1\u001b[0m\u001b[1;33m,\u001b[0m \u001b[0mupdates\u001b[0m\u001b[1;33m=\u001b[0m\u001b[0mstates\u001b[0m\u001b[1;33m)\u001b[0m\u001b[1;33m\u001b[0m\u001b[1;33m\u001b[0m\u001b[0m\n\u001b[0m\u001b[0;32m    410\u001b[0m \u001b[1;33m\u001b[0m\u001b[0m\n\u001b[0;32m    411\u001b[0m         \u001b[1;32mreturn\u001b[0m \u001b[0msystem_impacts\u001b[0m\u001b[1;33m\u001b[0m\u001b[1;33m\u001b[0m\u001b[0m\n",
      "\u001b[1;32m~\\OneDrive - KPMG\\Documents\\3. Client\\Essential Energy\\Probability of Failure Model\\pof\\pof\\failure_mode.py\u001b[0m in \u001b[0;36mupdate_timeline\u001b[1;34m(self, t_start, t_end, updates)\u001b[0m\n\u001b[0;32m    569\u001b[0m \u001b[1;33m\u001b[0m\u001b[0m\n\u001b[0;32m    570\u001b[0m                 \u001b[1;32mif\u001b[0m \u001b[0mtask\u001b[0m\u001b[1;33m.\u001b[0m\u001b[0mtrigger\u001b[0m \u001b[1;33m==\u001b[0m \u001b[1;34m\"condition\"\u001b[0m\u001b[1;33m:\u001b[0m\u001b[1;33m\u001b[0m\u001b[1;33m\u001b[0m\u001b[0m\n\u001b[1;32m--> 571\u001b[1;33m                     self.timeline[task_name][t_start:] = task.sim_timeline(\n\u001b[0m\u001b[0;32m    572\u001b[0m                         \u001b[0mt_start\u001b[0m\u001b[1;33m=\u001b[0m\u001b[0mt_start\u001b[0m\u001b[1;33m,\u001b[0m\u001b[1;33m\u001b[0m\u001b[1;33m\u001b[0m\u001b[0m\n\u001b[0;32m    573\u001b[0m                         \u001b[0mt_end\u001b[0m\u001b[1;33m=\u001b[0m\u001b[0mt_end\u001b[0m\u001b[1;33m,\u001b[0m\u001b[1;33m\u001b[0m\u001b[1;33m\u001b[0m\u001b[0m\n",
      "\u001b[1;31mKeyboardInterrupt\u001b[0m: "
     ]
    }
   ],
   "source": [
    "df_sens_chain = comp.sensitivty_chain(sens_vars, t_end=t_end, n_iterations=n_iterations)\n",
    "df_sens_chain.head()"
   ]
  },
  {
   "source": [
    "### Rolling mean\n",
    "Increasing the number of iterations to reduce the 'spikeiness' of the sensitivity charts is not always feasabily. To reduce simulation times, it can be beneficial to use a rolling mean to smooth out the profile and more easily identify trends, minimums or maximums."
   ],
   "cell_type": "markdown",
   "metadata": {}
  },
  {
   "cell_type": "code",
   "execution_count": 10,
   "metadata": {},
   "outputs": [],
   "source": [
    "x_var = var_id\n",
    "y_var = 'pole-consequence-cost'\n",
    "window=5"
   ]
  },
  {
   "cell_type": "code",
   "execution_count": 11,
   "metadata": {},
   "outputs": [],
   "source": [
    "def rolling_mean(df, window=5):\n",
    "    \"\"\" Returns a df with a rolling mean\"\"\"\n",
    "    #TODO set this up so it work for \n",
    "    df_results = (\n",
    "        df.copy(deep=True)\n",
    "        .rename(columns={'task':'source'})\n",
    "        .dropna()\n",
    "    )\n",
    "\n",
    "    # Generate a rolling average\n",
    "    df_rolling = (\n",
    "        df_results\n",
    "        .sort_values(by=['source', x_var, y_var])\n",
    "        .groupby(by=['source', y_var]).rolling(window).mean()\n",
    "        .drop([y_var], axis=1)\n",
    "        .reset_index()\n",
    "        .dropna()\n",
    "    )\n",
    "\n",
    "    df_rolling['active'] = df_rolling['active'].astype(bool)\n",
    "\n",
    "    return df_rolling\n"
   ]
  },
  {
   "cell_type": "code",
   "execution_count": 104,
   "metadata": {},
   "outputs": [
    {
     "output_type": "execute_result",
     "data": {
      "text/plain": [
       "               failure_mode                   task  active time quantity cost  \\\n",
       "28                 termites                   risk    True    0        0    0   \n",
       "29  fungal decay | external                   risk    True    0        0    0   \n",
       "30  fungal decay | internal                   risk    True    0        0    0   \n",
       "31                lightning                   risk    True    0        0    0   \n",
       "32               weathering                   risk    True    0        0    0   \n",
       "..                      ...                    ...     ...  ...      ...  ...   \n",
       "45                lightning  inspection_protection    True  100        0    0   \n",
       "47              fire_damage  inspection_protection    True  100        0    0   \n",
       "48                   impact  inspection_protection    True  100        0    0   \n",
       "37  fungal decay | internal         pole_saver_rod   False  100        0    0   \n",
       "7                  termites      termite_treatment    True  100        0    0   \n",
       "\n",
       "   cost_cumulative cost_annual quantity_cumulative quantity_annual  \n",
       "28               0           0                   0               0  \n",
       "29               0           0                   0               0  \n",
       "30               0           0                   0               0  \n",
       "31               0           0                   0               0  \n",
       "32               0           0                   0               0  \n",
       "..             ...         ...                 ...             ...  \n",
       "45               0           0             7.96163               0  \n",
       "47               0           0             7.96163               0  \n",
       "48               0           0             7.96043               0  \n",
       "37               0           0                   0               0  \n",
       "7                0           0                   0               0  \n",
       "\n",
       "[2828 rows x 10 columns]"
      ],
      "text/html": "<div>\n<style scoped>\n    .dataframe tbody tr th:only-of-type {\n        vertical-align: middle;\n    }\n\n    .dataframe tbody tr th {\n        vertical-align: top;\n    }\n\n    .dataframe thead th {\n        text-align: right;\n    }\n</style>\n<table border=\"1\" class=\"dataframe\">\n  <thead>\n    <tr style=\"text-align: right;\">\n      <th></th>\n      <th>failure_mode</th>\n      <th>task</th>\n      <th>active</th>\n      <th>time</th>\n      <th>quantity</th>\n      <th>cost</th>\n      <th>cost_cumulative</th>\n      <th>cost_annual</th>\n      <th>quantity_cumulative</th>\n      <th>quantity_annual</th>\n    </tr>\n  </thead>\n  <tbody>\n    <tr>\n      <th>28</th>\n      <td>termites</td>\n      <td>risk</td>\n      <td>True</td>\n      <td>0</td>\n      <td>0</td>\n      <td>0</td>\n      <td>0</td>\n      <td>0</td>\n      <td>0</td>\n      <td>0</td>\n    </tr>\n    <tr>\n      <th>29</th>\n      <td>fungal decay | external</td>\n      <td>risk</td>\n      <td>True</td>\n      <td>0</td>\n      <td>0</td>\n      <td>0</td>\n      <td>0</td>\n      <td>0</td>\n      <td>0</td>\n      <td>0</td>\n    </tr>\n    <tr>\n      <th>30</th>\n      <td>fungal decay | internal</td>\n      <td>risk</td>\n      <td>True</td>\n      <td>0</td>\n      <td>0</td>\n      <td>0</td>\n      <td>0</td>\n      <td>0</td>\n      <td>0</td>\n      <td>0</td>\n    </tr>\n    <tr>\n      <th>31</th>\n      <td>lightning</td>\n      <td>risk</td>\n      <td>True</td>\n      <td>0</td>\n      <td>0</td>\n      <td>0</td>\n      <td>0</td>\n      <td>0</td>\n      <td>0</td>\n      <td>0</td>\n    </tr>\n    <tr>\n      <th>32</th>\n      <td>weathering</td>\n      <td>risk</td>\n      <td>True</td>\n      <td>0</td>\n      <td>0</td>\n      <td>0</td>\n      <td>0</td>\n      <td>0</td>\n      <td>0</td>\n      <td>0</td>\n    </tr>\n    <tr>\n      <th>...</th>\n      <td>...</td>\n      <td>...</td>\n      <td>...</td>\n      <td>...</td>\n      <td>...</td>\n      <td>...</td>\n      <td>...</td>\n      <td>...</td>\n      <td>...</td>\n      <td>...</td>\n    </tr>\n    <tr>\n      <th>45</th>\n      <td>lightning</td>\n      <td>inspection_protection</td>\n      <td>True</td>\n      <td>100</td>\n      <td>0</td>\n      <td>0</td>\n      <td>0</td>\n      <td>0</td>\n      <td>7.96163</td>\n      <td>0</td>\n    </tr>\n    <tr>\n      <th>47</th>\n      <td>fire_damage</td>\n      <td>inspection_protection</td>\n      <td>True</td>\n      <td>100</td>\n      <td>0</td>\n      <td>0</td>\n      <td>0</td>\n      <td>0</td>\n      <td>7.96163</td>\n      <td>0</td>\n    </tr>\n    <tr>\n      <th>48</th>\n      <td>impact</td>\n      <td>inspection_protection</td>\n      <td>True</td>\n      <td>100</td>\n      <td>0</td>\n      <td>0</td>\n      <td>0</td>\n      <td>0</td>\n      <td>7.96043</td>\n      <td>0</td>\n    </tr>\n    <tr>\n      <th>37</th>\n      <td>fungal decay | internal</td>\n      <td>pole_saver_rod</td>\n      <td>False</td>\n      <td>100</td>\n      <td>0</td>\n      <td>0</td>\n      <td>0</td>\n      <td>0</td>\n      <td>0</td>\n      <td>0</td>\n    </tr>\n    <tr>\n      <th>7</th>\n      <td>termites</td>\n      <td>termite_treatment</td>\n      <td>True</td>\n      <td>100</td>\n      <td>0</td>\n      <td>0</td>\n      <td>0</td>\n      <td>0</td>\n      <td>0</td>\n      <td>0</td>\n    </tr>\n  </tbody>\n</table>\n<p>2828 rows × 10 columns</p>\n</div>"
     },
     "metadata": {},
     "execution_count": 104
    }
   ],
   "source": [
    "comp.expected_risk_cost_df()"
   ]
  },
  {
   "cell_type": "code",
   "execution_count": 12,
   "metadata": {},
   "outputs": [
    {
     "output_type": "display_data",
     "data": {
      "application/vnd.plotly.v1+json": {
       "config": {
        "plotlyServerURL": "https://plot.ly"
       },
       "data": [
        {
         "hovertemplate": "source=risk<br> =   <br>t_interval=%{x}<br>cost_cumulative=%{y}<extra></extra>",
         "legendgroup": "risk,    ",
         "line": {
          "color": "#636EFA",
          "dash": "solid"
         },
         "mode": "lines",
         "name": "risk,    ",
         "orientation": "v",
         "showlegend": true,
         "type": "scatter",
         "x": [
          2,
          3,
          4,
          5,
          6,
          7
         ],
         "xaxis": "x",
         "y": [
          69000,
          51000,
          48000,
          57000,
          63000,
          78000
         ],
         "yaxis": "y"
        },
        {
         "hovertemplate": "source=conditional_failure<br> =  <br>t_interval=%{x}<br>cost_cumulative=%{y}<extra></extra>",
         "legendgroup": "conditional_failure,   ",
         "line": {
          "color": "#EF553B",
          "dash": "dot"
         },
         "mode": "lines",
         "name": "conditional_failure,   ",
         "orientation": "v",
         "showlegend": true,
         "type": "scatter",
         "x": [
          2,
          3,
          4,
          5,
          6,
          7
         ],
         "xaxis": "x",
         "y": [
          868,
          882,
          861,
          847,
          840,
          805
         ],
         "yaxis": "y"
        },
        {
         "hovertemplate": "source=functional_failure<br> =  <br>t_interval=%{x}<br>cost_cumulative=%{y}<extra></extra>",
         "legendgroup": "functional_failure,   ",
         "line": {
          "color": "#00CC96",
          "dash": "dot"
         },
         "mode": "lines",
         "name": "functional_failure,   ",
         "orientation": "v",
         "showlegend": true,
         "type": "scatter",
         "x": [
          2,
          3,
          4,
          5,
          6,
          7
         ],
         "xaxis": "x",
         "y": [
          322,
          238,
          224,
          266,
          294,
          364
         ],
         "yaxis": "y"
        },
        {
         "hovertemplate": "source=inspection_groundline<br> =  <br>t_interval=%{x}<br>cost_cumulative=%{y}<extra></extra>",
         "legendgroup": "inspection_groundline,   ",
         "line": {
          "color": "#AB63FA",
          "dash": "dot"
         },
         "mode": "lines",
         "name": "inspection_groundline,   ",
         "orientation": "v",
         "showlegend": true,
         "type": "scatter",
         "x": [
          2,
          3,
          4,
          5,
          6,
          7
         ],
         "xaxis": "x",
         "y": [
          1813.1,
          1309.6,
          832.5,
          640.5,
          519.9,
          441.5
         ],
         "yaxis": "y"
        },
        {
         "hovertemplate": "source=inspection_protection<br> =  <br>t_interval=%{x}<br>cost_cumulative=%{y}<extra></extra>",
         "legendgroup": "inspection_protection,   ",
         "line": {
          "color": "#FFA15A",
          "dash": "dot"
         },
         "mode": "lines",
         "name": "inspection_protection,   ",
         "orientation": "v",
         "showlegend": true,
         "type": "scatter",
         "x": [
          2,
          3,
          4,
          5,
          6,
          7
         ],
         "xaxis": "x",
         "y": [
          0,
          0,
          0,
          0,
          0,
          0
         ],
         "yaxis": "y"
        },
        {
         "hovertemplate": "source=termite_treatment<br> =  <br>t_interval=%{x}<br>cost_cumulative=%{y}<extra></extra>",
         "legendgroup": "termite_treatment,   ",
         "line": {
          "color": "#FF6692",
          "dash": "dot"
         },
         "mode": "lines",
         "name": "termite_treatment,   ",
         "orientation": "v",
         "showlegend": true,
         "type": "scatter",
         "x": [
          2,
          3,
          4,
          5,
          6,
          7
         ],
         "xaxis": "x",
         "y": [
          20,
          19.8,
          19.6,
          19,
          19.4,
          18.8
         ],
         "yaxis": "y"
        }
       ],
       "layout": {
        "legend": {
         "title": {
          "text": "source,  "
         },
         "tracegroupgap": 0
        },
        "template": {
         "data": {
          "bar": [
           {
            "error_x": {
             "color": "#2a3f5f"
            },
            "error_y": {
             "color": "#2a3f5f"
            },
            "marker": {
             "line": {
              "color": "#E5ECF6",
              "width": 0.5
             }
            },
            "type": "bar"
           }
          ],
          "barpolar": [
           {
            "marker": {
             "line": {
              "color": "#E5ECF6",
              "width": 0.5
             }
            },
            "type": "barpolar"
           }
          ],
          "carpet": [
           {
            "aaxis": {
             "endlinecolor": "#2a3f5f",
             "gridcolor": "white",
             "linecolor": "white",
             "minorgridcolor": "white",
             "startlinecolor": "#2a3f5f"
            },
            "baxis": {
             "endlinecolor": "#2a3f5f",
             "gridcolor": "white",
             "linecolor": "white",
             "minorgridcolor": "white",
             "startlinecolor": "#2a3f5f"
            },
            "type": "carpet"
           }
          ],
          "choropleth": [
           {
            "colorbar": {
             "outlinewidth": 0,
             "ticks": ""
            },
            "type": "choropleth"
           }
          ],
          "contour": [
           {
            "colorbar": {
             "outlinewidth": 0,
             "ticks": ""
            },
            "colorscale": [
             [
              0,
              "#0d0887"
             ],
             [
              0.1111111111111111,
              "#46039f"
             ],
             [
              0.2222222222222222,
              "#7201a8"
             ],
             [
              0.3333333333333333,
              "#9c179e"
             ],
             [
              0.4444444444444444,
              "#bd3786"
             ],
             [
              0.5555555555555556,
              "#d8576b"
             ],
             [
              0.6666666666666666,
              "#ed7953"
             ],
             [
              0.7777777777777778,
              "#fb9f3a"
             ],
             [
              0.8888888888888888,
              "#fdca26"
             ],
             [
              1,
              "#f0f921"
             ]
            ],
            "type": "contour"
           }
          ],
          "contourcarpet": [
           {
            "colorbar": {
             "outlinewidth": 0,
             "ticks": ""
            },
            "type": "contourcarpet"
           }
          ],
          "heatmap": [
           {
            "colorbar": {
             "outlinewidth": 0,
             "ticks": ""
            },
            "colorscale": [
             [
              0,
              "#0d0887"
             ],
             [
              0.1111111111111111,
              "#46039f"
             ],
             [
              0.2222222222222222,
              "#7201a8"
             ],
             [
              0.3333333333333333,
              "#9c179e"
             ],
             [
              0.4444444444444444,
              "#bd3786"
             ],
             [
              0.5555555555555556,
              "#d8576b"
             ],
             [
              0.6666666666666666,
              "#ed7953"
             ],
             [
              0.7777777777777778,
              "#fb9f3a"
             ],
             [
              0.8888888888888888,
              "#fdca26"
             ],
             [
              1,
              "#f0f921"
             ]
            ],
            "type": "heatmap"
           }
          ],
          "heatmapgl": [
           {
            "colorbar": {
             "outlinewidth": 0,
             "ticks": ""
            },
            "colorscale": [
             [
              0,
              "#0d0887"
             ],
             [
              0.1111111111111111,
              "#46039f"
             ],
             [
              0.2222222222222222,
              "#7201a8"
             ],
             [
              0.3333333333333333,
              "#9c179e"
             ],
             [
              0.4444444444444444,
              "#bd3786"
             ],
             [
              0.5555555555555556,
              "#d8576b"
             ],
             [
              0.6666666666666666,
              "#ed7953"
             ],
             [
              0.7777777777777778,
              "#fb9f3a"
             ],
             [
              0.8888888888888888,
              "#fdca26"
             ],
             [
              1,
              "#f0f921"
             ]
            ],
            "type": "heatmapgl"
           }
          ],
          "histogram": [
           {
            "marker": {
             "colorbar": {
              "outlinewidth": 0,
              "ticks": ""
             }
            },
            "type": "histogram"
           }
          ],
          "histogram2d": [
           {
            "colorbar": {
             "outlinewidth": 0,
             "ticks": ""
            },
            "colorscale": [
             [
              0,
              "#0d0887"
             ],
             [
              0.1111111111111111,
              "#46039f"
             ],
             [
              0.2222222222222222,
              "#7201a8"
             ],
             [
              0.3333333333333333,
              "#9c179e"
             ],
             [
              0.4444444444444444,
              "#bd3786"
             ],
             [
              0.5555555555555556,
              "#d8576b"
             ],
             [
              0.6666666666666666,
              "#ed7953"
             ],
             [
              0.7777777777777778,
              "#fb9f3a"
             ],
             [
              0.8888888888888888,
              "#fdca26"
             ],
             [
              1,
              "#f0f921"
             ]
            ],
            "type": "histogram2d"
           }
          ],
          "histogram2dcontour": [
           {
            "colorbar": {
             "outlinewidth": 0,
             "ticks": ""
            },
            "colorscale": [
             [
              0,
              "#0d0887"
             ],
             [
              0.1111111111111111,
              "#46039f"
             ],
             [
              0.2222222222222222,
              "#7201a8"
             ],
             [
              0.3333333333333333,
              "#9c179e"
             ],
             [
              0.4444444444444444,
              "#bd3786"
             ],
             [
              0.5555555555555556,
              "#d8576b"
             ],
             [
              0.6666666666666666,
              "#ed7953"
             ],
             [
              0.7777777777777778,
              "#fb9f3a"
             ],
             [
              0.8888888888888888,
              "#fdca26"
             ],
             [
              1,
              "#f0f921"
             ]
            ],
            "type": "histogram2dcontour"
           }
          ],
          "mesh3d": [
           {
            "colorbar": {
             "outlinewidth": 0,
             "ticks": ""
            },
            "type": "mesh3d"
           }
          ],
          "parcoords": [
           {
            "line": {
             "colorbar": {
              "outlinewidth": 0,
              "ticks": ""
             }
            },
            "type": "parcoords"
           }
          ],
          "pie": [
           {
            "automargin": true,
            "type": "pie"
           }
          ],
          "scatter": [
           {
            "marker": {
             "colorbar": {
              "outlinewidth": 0,
              "ticks": ""
             }
            },
            "type": "scatter"
           }
          ],
          "scatter3d": [
           {
            "line": {
             "colorbar": {
              "outlinewidth": 0,
              "ticks": ""
             }
            },
            "marker": {
             "colorbar": {
              "outlinewidth": 0,
              "ticks": ""
             }
            },
            "type": "scatter3d"
           }
          ],
          "scattercarpet": [
           {
            "marker": {
             "colorbar": {
              "outlinewidth": 0,
              "ticks": ""
             }
            },
            "type": "scattercarpet"
           }
          ],
          "scattergeo": [
           {
            "marker": {
             "colorbar": {
              "outlinewidth": 0,
              "ticks": ""
             }
            },
            "type": "scattergeo"
           }
          ],
          "scattergl": [
           {
            "marker": {
             "colorbar": {
              "outlinewidth": 0,
              "ticks": ""
             }
            },
            "type": "scattergl"
           }
          ],
          "scattermapbox": [
           {
            "marker": {
             "colorbar": {
              "outlinewidth": 0,
              "ticks": ""
             }
            },
            "type": "scattermapbox"
           }
          ],
          "scatterpolar": [
           {
            "marker": {
             "colorbar": {
              "outlinewidth": 0,
              "ticks": ""
             }
            },
            "type": "scatterpolar"
           }
          ],
          "scatterpolargl": [
           {
            "marker": {
             "colorbar": {
              "outlinewidth": 0,
              "ticks": ""
             }
            },
            "type": "scatterpolargl"
           }
          ],
          "scatterternary": [
           {
            "marker": {
             "colorbar": {
              "outlinewidth": 0,
              "ticks": ""
             }
            },
            "type": "scatterternary"
           }
          ],
          "surface": [
           {
            "colorbar": {
             "outlinewidth": 0,
             "ticks": ""
            },
            "colorscale": [
             [
              0,
              "#0d0887"
             ],
             [
              0.1111111111111111,
              "#46039f"
             ],
             [
              0.2222222222222222,
              "#7201a8"
             ],
             [
              0.3333333333333333,
              "#9c179e"
             ],
             [
              0.4444444444444444,
              "#bd3786"
             ],
             [
              0.5555555555555556,
              "#d8576b"
             ],
             [
              0.6666666666666666,
              "#ed7953"
             ],
             [
              0.7777777777777778,
              "#fb9f3a"
             ],
             [
              0.8888888888888888,
              "#fdca26"
             ],
             [
              1,
              "#f0f921"
             ]
            ],
            "type": "surface"
           }
          ],
          "table": [
           {
            "cells": {
             "fill": {
              "color": "#EBF0F8"
             },
             "line": {
              "color": "white"
             }
            },
            "header": {
             "fill": {
              "color": "#C8D4E3"
             },
             "line": {
              "color": "white"
             }
            },
            "type": "table"
           }
          ]
         },
         "layout": {
          "annotationdefaults": {
           "arrowcolor": "#2a3f5f",
           "arrowhead": 0,
           "arrowwidth": 1
          },
          "coloraxis": {
           "colorbar": {
            "outlinewidth": 0,
            "ticks": ""
           }
          },
          "colorscale": {
           "diverging": [
            [
             0,
             "#8e0152"
            ],
            [
             0.1,
             "#c51b7d"
            ],
            [
             0.2,
             "#de77ae"
            ],
            [
             0.3,
             "#f1b6da"
            ],
            [
             0.4,
             "#fde0ef"
            ],
            [
             0.5,
             "#f7f7f7"
            ],
            [
             0.6,
             "#e6f5d0"
            ],
            [
             0.7,
             "#b8e186"
            ],
            [
             0.8,
             "#7fbc41"
            ],
            [
             0.9,
             "#4d9221"
            ],
            [
             1,
             "#276419"
            ]
           ],
           "sequential": [
            [
             0,
             "#0d0887"
            ],
            [
             0.1111111111111111,
             "#46039f"
            ],
            [
             0.2222222222222222,
             "#7201a8"
            ],
            [
             0.3333333333333333,
             "#9c179e"
            ],
            [
             0.4444444444444444,
             "#bd3786"
            ],
            [
             0.5555555555555556,
             "#d8576b"
            ],
            [
             0.6666666666666666,
             "#ed7953"
            ],
            [
             0.7777777777777778,
             "#fb9f3a"
            ],
            [
             0.8888888888888888,
             "#fdca26"
            ],
            [
             1,
             "#f0f921"
            ]
           ],
           "sequentialminus": [
            [
             0,
             "#0d0887"
            ],
            [
             0.1111111111111111,
             "#46039f"
            ],
            [
             0.2222222222222222,
             "#7201a8"
            ],
            [
             0.3333333333333333,
             "#9c179e"
            ],
            [
             0.4444444444444444,
             "#bd3786"
            ],
            [
             0.5555555555555556,
             "#d8576b"
            ],
            [
             0.6666666666666666,
             "#ed7953"
            ],
            [
             0.7777777777777778,
             "#fb9f3a"
            ],
            [
             0.8888888888888888,
             "#fdca26"
            ],
            [
             1,
             "#f0f921"
            ]
           ]
          },
          "colorway": [
           "#636efa",
           "#EF553B",
           "#00cc96",
           "#ab63fa",
           "#FFA15A",
           "#19d3f3",
           "#FF6692",
           "#B6E880",
           "#FF97FF",
           "#FECB52"
          ],
          "font": {
           "color": "#2a3f5f"
          },
          "geo": {
           "bgcolor": "white",
           "lakecolor": "white",
           "landcolor": "#E5ECF6",
           "showlakes": true,
           "showland": true,
           "subunitcolor": "white"
          },
          "hoverlabel": {
           "align": "left"
          },
          "hovermode": "closest",
          "mapbox": {
           "style": "light"
          },
          "paper_bgcolor": "white",
          "plot_bgcolor": "#E5ECF6",
          "polar": {
           "angularaxis": {
            "gridcolor": "white",
            "linecolor": "white",
            "ticks": ""
           },
           "bgcolor": "#E5ECF6",
           "radialaxis": {
            "gridcolor": "white",
            "linecolor": "white",
            "ticks": ""
           }
          },
          "scene": {
           "xaxis": {
            "backgroundcolor": "#E5ECF6",
            "gridcolor": "white",
            "gridwidth": 2,
            "linecolor": "white",
            "showbackground": true,
            "ticks": "",
            "zerolinecolor": "white"
           },
           "yaxis": {
            "backgroundcolor": "#E5ECF6",
            "gridcolor": "white",
            "gridwidth": 2,
            "linecolor": "white",
            "showbackground": true,
            "ticks": "",
            "zerolinecolor": "white"
           },
           "zaxis": {
            "backgroundcolor": "#E5ECF6",
            "gridcolor": "white",
            "gridwidth": 2,
            "linecolor": "white",
            "showbackground": true,
            "ticks": "",
            "zerolinecolor": "white"
           }
          },
          "shapedefaults": {
           "line": {
            "color": "#2a3f5f"
           }
          },
          "ternary": {
           "aaxis": {
            "gridcolor": "white",
            "linecolor": "white",
            "ticks": ""
           },
           "baxis": {
            "gridcolor": "white",
            "linecolor": "white",
            "ticks": ""
           },
           "bgcolor": "#E5ECF6",
           "caxis": {
            "gridcolor": "white",
            "linecolor": "white",
            "ticks": ""
           }
          },
          "title": {
           "x": 0.05
          },
          "xaxis": {
           "automargin": true,
           "gridcolor": "white",
           "linecolor": "white",
           "ticks": "",
           "title": {
            "standoff": 15
           },
           "zerolinecolor": "white",
           "zerolinewidth": 2
          },
          "yaxis": {
           "automargin": true,
           "gridcolor": "white",
           "linecolor": "white",
           "ticks": "",
           "title": {
            "standoff": 15
           },
           "zerolinecolor": "white",
           "zerolinewidth": 2
          }
         }
        },
        "title": {
         "text": "Sensitivity of Risk/Cost to T Interval"
        },
        "xaxis": {
         "anchor": "y",
         "automargin": true,
         "domain": [
          0,
          1
         ],
         "title": {
          "text": "t_interval (unknown)"
         }
        },
        "yaxis": {
         "anchor": "x",
         "automargin": true,
         "domain": [
          0,
          1
         ],
         "title": {
          "text": "cost_cumulative"
         }
        }
       }
      }
     },
     "metadata": {}
    }
   ],
   "source": [
    "# Apply the function\n",
    "df_rolling = rolling_mean(df_sens_chain, window=window)\n",
    "\n",
    "# Create df_plot for generating a figure\n",
    "df_plot = df_rolling.loc[df_rolling[y_var] == df_rolling.iloc[-1][y_var]]\n",
    "df_plot.rename(columns={x_var : x_var.split('-')[-1]}, inplace=True)\n",
    "make_sensitivity_fig(df_plot, var_name=x_var, y_axis = 'cost_cumulative')"
   ]
  },
  {
   "cell_type": "code",
   "execution_count": null,
   "metadata": {},
   "outputs": [],
   "source": []
  },
  {
   "cell_type": "code",
   "execution_count": 88,
   "metadata": {},
   "outputs": [],
   "source": [
    "def calc_value_lost(df, x_var:str, y_var:str):\n",
    "    \"\"\" Takes a df of risk costs and returns a df with teh value lost\n",
    "    # TODO move this to risk cost\n",
    "    # TODO check y_var and x_var are the right way around\n",
    "    \"\"\"\n",
    "\n",
    "    # Calculate the total cost for each scenario\n",
    "    df = df_rolling.groupby(by=[x_var, y_var])['quantity', 'cost', 'quantity_annual', 'cost_annual'].sum()\n",
    "\n",
    "    # Calculate the value_lost at each interval\n",
    "    df['value_lost'] = df['cost'] - df.groupby(by=[y_var])['cost'].min()\n",
    "\n",
    "    return df"
   ]
  },
  {
   "cell_type": "code",
   "execution_count": 89,
   "metadata": {},
   "outputs": [
    {
     "output_type": "display_data",
     "data": {
      "application/vnd.plotly.v1+json": {
       "config": {
        "plotlyServerURL": "https://plot.ly"
       },
       "data": [
        {
         "hovertemplate": "pole-consequence-cost=0.0<br>pole-task_group_name-groundline-t_interval=%{x}<br>value_lost=%{y}<extra></extra>",
         "legendgroup": "0.0",
         "line": {
          "color": "#636efa",
          "dash": "solid"
         },
         "mode": "lines",
         "name": "0.0",
         "orientation": "v",
         "showlegend": true,
         "type": "scatter",
         "x": [
          2,
          3,
          4,
          5,
          6,
          7
         ],
         "xaxis": "x",
         "y": [
          0,
          7.199999999999989,
          21.900000000000034,
          29,
          28.700000000000045,
          35.39999999999998
         ],
         "yaxis": "y"
        },
        {
         "hovertemplate": "pole-consequence-cost=500000.0<br>pole-task_group_name-groundline-t_interval=%{x}<br>value_lost=%{y}<extra></extra>",
         "legendgroup": "500000.0",
         "line": {
          "color": "#EF553B",
          "dash": "solid"
         },
         "mode": "lines",
         "name": "500000.0",
         "orientation": "v",
         "showlegend": true,
         "type": "scatter",
         "x": [
          2,
          3,
          4,
          5,
          6,
          7
         ],
         "xaxis": "x",
         "y": [
          1006.8000000000002,
          0.3000000000001819,
          0,
          14.600000000000364,
          1049.9000000000005,
          2084.500000000001
         ],
         "yaxis": "y"
        },
        {
         "hovertemplate": "pole-consequence-cost=1000000.0<br>pole-task_group_name-groundline-t_interval=%{x}<br>value_lost=%{y}<extra></extra>",
         "legendgroup": "1000000.0",
         "line": {
          "color": "#00cc96",
          "dash": "solid"
         },
         "mode": "lines",
         "name": "1000000.0",
         "orientation": "v",
         "showlegend": true,
         "type": "scatter",
         "x": [
          2,
          3,
          4,
          5,
          6,
          7
         ],
         "xaxis": "x",
         "y": [
          4006.5,
          1999.7000000000007,
          0,
          14.200000000000728,
          21.400000000001455,
          2057.3999999999996
         ],
         "yaxis": "y"
        },
        {
         "hovertemplate": "pole-consequence-cost=1500000.0<br>pole-task_group_name-groundline-t_interval=%{x}<br>value_lost=%{y}<extra></extra>",
         "legendgroup": "1500000.0",
         "line": {
          "color": "#ab63fa",
          "dash": "solid"
         },
         "mode": "lines",
         "name": "1500000.0",
         "orientation": "v",
         "showlegend": true,
         "type": "scatter",
         "x": [
          2,
          3,
          4,
          5,
          6,
          7
         ],
         "xaxis": "x",
         "y": [
          3021.0000000000036,
          0,
          7.200000000000728,
          7.30000000000291,
          29.200000000000728,
          29.5
         ],
         "yaxis": "y"
        }
       ],
       "layout": {
        "legend": {
         "title": {
          "text": "pole-consequence-cost"
         },
         "tracegroupgap": 0
        },
        "margin": {
         "t": 60
        },
        "template": {
         "data": {
          "bar": [
           {
            "error_x": {
             "color": "#2a3f5f"
            },
            "error_y": {
             "color": "#2a3f5f"
            },
            "marker": {
             "line": {
              "color": "#E5ECF6",
              "width": 0.5
             }
            },
            "type": "bar"
           }
          ],
          "barpolar": [
           {
            "marker": {
             "line": {
              "color": "#E5ECF6",
              "width": 0.5
             }
            },
            "type": "barpolar"
           }
          ],
          "carpet": [
           {
            "aaxis": {
             "endlinecolor": "#2a3f5f",
             "gridcolor": "white",
             "linecolor": "white",
             "minorgridcolor": "white",
             "startlinecolor": "#2a3f5f"
            },
            "baxis": {
             "endlinecolor": "#2a3f5f",
             "gridcolor": "white",
             "linecolor": "white",
             "minorgridcolor": "white",
             "startlinecolor": "#2a3f5f"
            },
            "type": "carpet"
           }
          ],
          "choropleth": [
           {
            "colorbar": {
             "outlinewidth": 0,
             "ticks": ""
            },
            "type": "choropleth"
           }
          ],
          "contour": [
           {
            "colorbar": {
             "outlinewidth": 0,
             "ticks": ""
            },
            "colorscale": [
             [
              0,
              "#0d0887"
             ],
             [
              0.1111111111111111,
              "#46039f"
             ],
             [
              0.2222222222222222,
              "#7201a8"
             ],
             [
              0.3333333333333333,
              "#9c179e"
             ],
             [
              0.4444444444444444,
              "#bd3786"
             ],
             [
              0.5555555555555556,
              "#d8576b"
             ],
             [
              0.6666666666666666,
              "#ed7953"
             ],
             [
              0.7777777777777778,
              "#fb9f3a"
             ],
             [
              0.8888888888888888,
              "#fdca26"
             ],
             [
              1,
              "#f0f921"
             ]
            ],
            "type": "contour"
           }
          ],
          "contourcarpet": [
           {
            "colorbar": {
             "outlinewidth": 0,
             "ticks": ""
            },
            "type": "contourcarpet"
           }
          ],
          "heatmap": [
           {
            "colorbar": {
             "outlinewidth": 0,
             "ticks": ""
            },
            "colorscale": [
             [
              0,
              "#0d0887"
             ],
             [
              0.1111111111111111,
              "#46039f"
             ],
             [
              0.2222222222222222,
              "#7201a8"
             ],
             [
              0.3333333333333333,
              "#9c179e"
             ],
             [
              0.4444444444444444,
              "#bd3786"
             ],
             [
              0.5555555555555556,
              "#d8576b"
             ],
             [
              0.6666666666666666,
              "#ed7953"
             ],
             [
              0.7777777777777778,
              "#fb9f3a"
             ],
             [
              0.8888888888888888,
              "#fdca26"
             ],
             [
              1,
              "#f0f921"
             ]
            ],
            "type": "heatmap"
           }
          ],
          "heatmapgl": [
           {
            "colorbar": {
             "outlinewidth": 0,
             "ticks": ""
            },
            "colorscale": [
             [
              0,
              "#0d0887"
             ],
             [
              0.1111111111111111,
              "#46039f"
             ],
             [
              0.2222222222222222,
              "#7201a8"
             ],
             [
              0.3333333333333333,
              "#9c179e"
             ],
             [
              0.4444444444444444,
              "#bd3786"
             ],
             [
              0.5555555555555556,
              "#d8576b"
             ],
             [
              0.6666666666666666,
              "#ed7953"
             ],
             [
              0.7777777777777778,
              "#fb9f3a"
             ],
             [
              0.8888888888888888,
              "#fdca26"
             ],
             [
              1,
              "#f0f921"
             ]
            ],
            "type": "heatmapgl"
           }
          ],
          "histogram": [
           {
            "marker": {
             "colorbar": {
              "outlinewidth": 0,
              "ticks": ""
             }
            },
            "type": "histogram"
           }
          ],
          "histogram2d": [
           {
            "colorbar": {
             "outlinewidth": 0,
             "ticks": ""
            },
            "colorscale": [
             [
              0,
              "#0d0887"
             ],
             [
              0.1111111111111111,
              "#46039f"
             ],
             [
              0.2222222222222222,
              "#7201a8"
             ],
             [
              0.3333333333333333,
              "#9c179e"
             ],
             [
              0.4444444444444444,
              "#bd3786"
             ],
             [
              0.5555555555555556,
              "#d8576b"
             ],
             [
              0.6666666666666666,
              "#ed7953"
             ],
             [
              0.7777777777777778,
              "#fb9f3a"
             ],
             [
              0.8888888888888888,
              "#fdca26"
             ],
             [
              1,
              "#f0f921"
             ]
            ],
            "type": "histogram2d"
           }
          ],
          "histogram2dcontour": [
           {
            "colorbar": {
             "outlinewidth": 0,
             "ticks": ""
            },
            "colorscale": [
             [
              0,
              "#0d0887"
             ],
             [
              0.1111111111111111,
              "#46039f"
             ],
             [
              0.2222222222222222,
              "#7201a8"
             ],
             [
              0.3333333333333333,
              "#9c179e"
             ],
             [
              0.4444444444444444,
              "#bd3786"
             ],
             [
              0.5555555555555556,
              "#d8576b"
             ],
             [
              0.6666666666666666,
              "#ed7953"
             ],
             [
              0.7777777777777778,
              "#fb9f3a"
             ],
             [
              0.8888888888888888,
              "#fdca26"
             ],
             [
              1,
              "#f0f921"
             ]
            ],
            "type": "histogram2dcontour"
           }
          ],
          "mesh3d": [
           {
            "colorbar": {
             "outlinewidth": 0,
             "ticks": ""
            },
            "type": "mesh3d"
           }
          ],
          "parcoords": [
           {
            "line": {
             "colorbar": {
              "outlinewidth": 0,
              "ticks": ""
             }
            },
            "type": "parcoords"
           }
          ],
          "pie": [
           {
            "automargin": true,
            "type": "pie"
           }
          ],
          "scatter": [
           {
            "marker": {
             "colorbar": {
              "outlinewidth": 0,
              "ticks": ""
             }
            },
            "type": "scatter"
           }
          ],
          "scatter3d": [
           {
            "line": {
             "colorbar": {
              "outlinewidth": 0,
              "ticks": ""
             }
            },
            "marker": {
             "colorbar": {
              "outlinewidth": 0,
              "ticks": ""
             }
            },
            "type": "scatter3d"
           }
          ],
          "scattercarpet": [
           {
            "marker": {
             "colorbar": {
              "outlinewidth": 0,
              "ticks": ""
             }
            },
            "type": "scattercarpet"
           }
          ],
          "scattergeo": [
           {
            "marker": {
             "colorbar": {
              "outlinewidth": 0,
              "ticks": ""
             }
            },
            "type": "scattergeo"
           }
          ],
          "scattergl": [
           {
            "marker": {
             "colorbar": {
              "outlinewidth": 0,
              "ticks": ""
             }
            },
            "type": "scattergl"
           }
          ],
          "scattermapbox": [
           {
            "marker": {
             "colorbar": {
              "outlinewidth": 0,
              "ticks": ""
             }
            },
            "type": "scattermapbox"
           }
          ],
          "scatterpolar": [
           {
            "marker": {
             "colorbar": {
              "outlinewidth": 0,
              "ticks": ""
             }
            },
            "type": "scatterpolar"
           }
          ],
          "scatterpolargl": [
           {
            "marker": {
             "colorbar": {
              "outlinewidth": 0,
              "ticks": ""
             }
            },
            "type": "scatterpolargl"
           }
          ],
          "scatterternary": [
           {
            "marker": {
             "colorbar": {
              "outlinewidth": 0,
              "ticks": ""
             }
            },
            "type": "scatterternary"
           }
          ],
          "surface": [
           {
            "colorbar": {
             "outlinewidth": 0,
             "ticks": ""
            },
            "colorscale": [
             [
              0,
              "#0d0887"
             ],
             [
              0.1111111111111111,
              "#46039f"
             ],
             [
              0.2222222222222222,
              "#7201a8"
             ],
             [
              0.3333333333333333,
              "#9c179e"
             ],
             [
              0.4444444444444444,
              "#bd3786"
             ],
             [
              0.5555555555555556,
              "#d8576b"
             ],
             [
              0.6666666666666666,
              "#ed7953"
             ],
             [
              0.7777777777777778,
              "#fb9f3a"
             ],
             [
              0.8888888888888888,
              "#fdca26"
             ],
             [
              1,
              "#f0f921"
             ]
            ],
            "type": "surface"
           }
          ],
          "table": [
           {
            "cells": {
             "fill": {
              "color": "#EBF0F8"
             },
             "line": {
              "color": "white"
             }
            },
            "header": {
             "fill": {
              "color": "#C8D4E3"
             },
             "line": {
              "color": "white"
             }
            },
            "type": "table"
           }
          ]
         },
         "layout": {
          "annotationdefaults": {
           "arrowcolor": "#2a3f5f",
           "arrowhead": 0,
           "arrowwidth": 1
          },
          "coloraxis": {
           "colorbar": {
            "outlinewidth": 0,
            "ticks": ""
           }
          },
          "colorscale": {
           "diverging": [
            [
             0,
             "#8e0152"
            ],
            [
             0.1,
             "#c51b7d"
            ],
            [
             0.2,
             "#de77ae"
            ],
            [
             0.3,
             "#f1b6da"
            ],
            [
             0.4,
             "#fde0ef"
            ],
            [
             0.5,
             "#f7f7f7"
            ],
            [
             0.6,
             "#e6f5d0"
            ],
            [
             0.7,
             "#b8e186"
            ],
            [
             0.8,
             "#7fbc41"
            ],
            [
             0.9,
             "#4d9221"
            ],
            [
             1,
             "#276419"
            ]
           ],
           "sequential": [
            [
             0,
             "#0d0887"
            ],
            [
             0.1111111111111111,
             "#46039f"
            ],
            [
             0.2222222222222222,
             "#7201a8"
            ],
            [
             0.3333333333333333,
             "#9c179e"
            ],
            [
             0.4444444444444444,
             "#bd3786"
            ],
            [
             0.5555555555555556,
             "#d8576b"
            ],
            [
             0.6666666666666666,
             "#ed7953"
            ],
            [
             0.7777777777777778,
             "#fb9f3a"
            ],
            [
             0.8888888888888888,
             "#fdca26"
            ],
            [
             1,
             "#f0f921"
            ]
           ],
           "sequentialminus": [
            [
             0,
             "#0d0887"
            ],
            [
             0.1111111111111111,
             "#46039f"
            ],
            [
             0.2222222222222222,
             "#7201a8"
            ],
            [
             0.3333333333333333,
             "#9c179e"
            ],
            [
             0.4444444444444444,
             "#bd3786"
            ],
            [
             0.5555555555555556,
             "#d8576b"
            ],
            [
             0.6666666666666666,
             "#ed7953"
            ],
            [
             0.7777777777777778,
             "#fb9f3a"
            ],
            [
             0.8888888888888888,
             "#fdca26"
            ],
            [
             1,
             "#f0f921"
            ]
           ]
          },
          "colorway": [
           "#636efa",
           "#EF553B",
           "#00cc96",
           "#ab63fa",
           "#FFA15A",
           "#19d3f3",
           "#FF6692",
           "#B6E880",
           "#FF97FF",
           "#FECB52"
          ],
          "font": {
           "color": "#2a3f5f"
          },
          "geo": {
           "bgcolor": "white",
           "lakecolor": "white",
           "landcolor": "#E5ECF6",
           "showlakes": true,
           "showland": true,
           "subunitcolor": "white"
          },
          "hoverlabel": {
           "align": "left"
          },
          "hovermode": "closest",
          "mapbox": {
           "style": "light"
          },
          "paper_bgcolor": "white",
          "plot_bgcolor": "#E5ECF6",
          "polar": {
           "angularaxis": {
            "gridcolor": "white",
            "linecolor": "white",
            "ticks": ""
           },
           "bgcolor": "#E5ECF6",
           "radialaxis": {
            "gridcolor": "white",
            "linecolor": "white",
            "ticks": ""
           }
          },
          "scene": {
           "xaxis": {
            "backgroundcolor": "#E5ECF6",
            "gridcolor": "white",
            "gridwidth": 2,
            "linecolor": "white",
            "showbackground": true,
            "ticks": "",
            "zerolinecolor": "white"
           },
           "yaxis": {
            "backgroundcolor": "#E5ECF6",
            "gridcolor": "white",
            "gridwidth": 2,
            "linecolor": "white",
            "showbackground": true,
            "ticks": "",
            "zerolinecolor": "white"
           },
           "zaxis": {
            "backgroundcolor": "#E5ECF6",
            "gridcolor": "white",
            "gridwidth": 2,
            "linecolor": "white",
            "showbackground": true,
            "ticks": "",
            "zerolinecolor": "white"
           }
          },
          "shapedefaults": {
           "line": {
            "color": "#2a3f5f"
           }
          },
          "ternary": {
           "aaxis": {
            "gridcolor": "white",
            "linecolor": "white",
            "ticks": ""
           },
           "baxis": {
            "gridcolor": "white",
            "linecolor": "white",
            "ticks": ""
           },
           "bgcolor": "#E5ECF6",
           "caxis": {
            "gridcolor": "white",
            "linecolor": "white",
            "ticks": ""
           }
          },
          "title": {
           "x": 0.05
          },
          "xaxis": {
           "automargin": true,
           "gridcolor": "white",
           "linecolor": "white",
           "ticks": "",
           "title": {
            "standoff": 15
           },
           "zerolinecolor": "white",
           "zerolinewidth": 2
          },
          "yaxis": {
           "automargin": true,
           "gridcolor": "white",
           "linecolor": "white",
           "ticks": "",
           "title": {
            "standoff": 15
           },
           "zerolinecolor": "white",
           "zerolinewidth": 2
          }
         }
        },
        "xaxis": {
         "anchor": "y",
         "domain": [
          0,
          1
         ],
         "title": {
          "text": "pole-task_group_name-groundline-t_interval"
         }
        },
        "yaxis": {
         "anchor": "x",
         "domain": [
          0,
          1
         ],
         "title": {
          "text": "value_lost"
         }
        }
       }
      }
     },
     "metadata": {}
    }
   ],
   "source": [
    "df_total = calc_value_lost(df=df_rolling, x_var='pole-task_group_name-groundline-t_interval', y_var='pole-consequence-cost')\n",
    "\n",
    "# Plot the results to check it works \n",
    "px.line(df_total.reset_index(), x='pole-task_group_name-groundline-t_interval', y = 'value_lost', color='pole-consequence-cost')"
   ]
  },
  {
   "cell_type": "code",
   "execution_count": 90,
   "metadata": {},
   "outputs": [],
   "source": [
    "def make_contour_plot(df, x_axis, y_axis, z_axis):\n",
    "    \"\"\" Create a contour plot \"\"\"\n",
    "\n",
    "    df_plot = df.reset_index()\n",
    "\n",
    "    # Arrange the data for plotly\n",
    "    z = df_plot.groupby(by = [x_axis])[z_axis].apply(lambda x: x.values.tolist()).tolist()\n",
    "    x = df_plot[x_axis].unique()\n",
    "    y = df_plot[y_axis].unique()\n",
    "\n",
    "    # Generate the figure\n",
    "    fig = go.Figure(\n",
    "        data = go.Contour(x=x, y=y, z=z, contours_coloring='lines'),\n",
    "    )\n",
    "    return fig"
   ]
  },
  {
   "cell_type": "code",
   "execution_count": 91,
   "metadata": {},
   "outputs": [
    {
     "output_type": "display_data",
     "data": {
      "application/vnd.plotly.v1+json": {
       "config": {
        "plotlyServerURL": "https://plot.ly"
       },
       "data": [
        {
         "contours": {
          "coloring": "lines"
         },
         "type": "contour",
         "x": [
          2,
          3,
          4,
          5,
          6,
          7
         ],
         "y": [
          0,
          500000,
          1000000,
          1500000
         ],
         "z": [
          [
           0,
           1006.8000000000002,
           4006.5,
           3021.0000000000036
          ],
          [
           7.199999999999989,
           0.3000000000001819,
           1999.7000000000007,
           0
          ],
          [
           21.900000000000034,
           0,
           0,
           7.200000000000728
          ],
          [
           29,
           14.600000000000364,
           14.200000000000728,
           7.30000000000291
          ],
          [
           28.700000000000045,
           1049.9000000000005,
           21.400000000001455,
           29.200000000000728
          ],
          [
           35.39999999999998,
           2084.500000000001,
           2057.3999999999996,
           29.5
          ]
         ]
        }
       ],
       "layout": {
        "template": {
         "data": {
          "bar": [
           {
            "error_x": {
             "color": "#2a3f5f"
            },
            "error_y": {
             "color": "#2a3f5f"
            },
            "marker": {
             "line": {
              "color": "#E5ECF6",
              "width": 0.5
             }
            },
            "type": "bar"
           }
          ],
          "barpolar": [
           {
            "marker": {
             "line": {
              "color": "#E5ECF6",
              "width": 0.5
             }
            },
            "type": "barpolar"
           }
          ],
          "carpet": [
           {
            "aaxis": {
             "endlinecolor": "#2a3f5f",
             "gridcolor": "white",
             "linecolor": "white",
             "minorgridcolor": "white",
             "startlinecolor": "#2a3f5f"
            },
            "baxis": {
             "endlinecolor": "#2a3f5f",
             "gridcolor": "white",
             "linecolor": "white",
             "minorgridcolor": "white",
             "startlinecolor": "#2a3f5f"
            },
            "type": "carpet"
           }
          ],
          "choropleth": [
           {
            "colorbar": {
             "outlinewidth": 0,
             "ticks": ""
            },
            "type": "choropleth"
           }
          ],
          "contour": [
           {
            "colorbar": {
             "outlinewidth": 0,
             "ticks": ""
            },
            "colorscale": [
             [
              0,
              "#0d0887"
             ],
             [
              0.1111111111111111,
              "#46039f"
             ],
             [
              0.2222222222222222,
              "#7201a8"
             ],
             [
              0.3333333333333333,
              "#9c179e"
             ],
             [
              0.4444444444444444,
              "#bd3786"
             ],
             [
              0.5555555555555556,
              "#d8576b"
             ],
             [
              0.6666666666666666,
              "#ed7953"
             ],
             [
              0.7777777777777778,
              "#fb9f3a"
             ],
             [
              0.8888888888888888,
              "#fdca26"
             ],
             [
              1,
              "#f0f921"
             ]
            ],
            "type": "contour"
           }
          ],
          "contourcarpet": [
           {
            "colorbar": {
             "outlinewidth": 0,
             "ticks": ""
            },
            "type": "contourcarpet"
           }
          ],
          "heatmap": [
           {
            "colorbar": {
             "outlinewidth": 0,
             "ticks": ""
            },
            "colorscale": [
             [
              0,
              "#0d0887"
             ],
             [
              0.1111111111111111,
              "#46039f"
             ],
             [
              0.2222222222222222,
              "#7201a8"
             ],
             [
              0.3333333333333333,
              "#9c179e"
             ],
             [
              0.4444444444444444,
              "#bd3786"
             ],
             [
              0.5555555555555556,
              "#d8576b"
             ],
             [
              0.6666666666666666,
              "#ed7953"
             ],
             [
              0.7777777777777778,
              "#fb9f3a"
             ],
             [
              0.8888888888888888,
              "#fdca26"
             ],
             [
              1,
              "#f0f921"
             ]
            ],
            "type": "heatmap"
           }
          ],
          "heatmapgl": [
           {
            "colorbar": {
             "outlinewidth": 0,
             "ticks": ""
            },
            "colorscale": [
             [
              0,
              "#0d0887"
             ],
             [
              0.1111111111111111,
              "#46039f"
             ],
             [
              0.2222222222222222,
              "#7201a8"
             ],
             [
              0.3333333333333333,
              "#9c179e"
             ],
             [
              0.4444444444444444,
              "#bd3786"
             ],
             [
              0.5555555555555556,
              "#d8576b"
             ],
             [
              0.6666666666666666,
              "#ed7953"
             ],
             [
              0.7777777777777778,
              "#fb9f3a"
             ],
             [
              0.8888888888888888,
              "#fdca26"
             ],
             [
              1,
              "#f0f921"
             ]
            ],
            "type": "heatmapgl"
           }
          ],
          "histogram": [
           {
            "marker": {
             "colorbar": {
              "outlinewidth": 0,
              "ticks": ""
             }
            },
            "type": "histogram"
           }
          ],
          "histogram2d": [
           {
            "colorbar": {
             "outlinewidth": 0,
             "ticks": ""
            },
            "colorscale": [
             [
              0,
              "#0d0887"
             ],
             [
              0.1111111111111111,
              "#46039f"
             ],
             [
              0.2222222222222222,
              "#7201a8"
             ],
             [
              0.3333333333333333,
              "#9c179e"
             ],
             [
              0.4444444444444444,
              "#bd3786"
             ],
             [
              0.5555555555555556,
              "#d8576b"
             ],
             [
              0.6666666666666666,
              "#ed7953"
             ],
             [
              0.7777777777777778,
              "#fb9f3a"
             ],
             [
              0.8888888888888888,
              "#fdca26"
             ],
             [
              1,
              "#f0f921"
             ]
            ],
            "type": "histogram2d"
           }
          ],
          "histogram2dcontour": [
           {
            "colorbar": {
             "outlinewidth": 0,
             "ticks": ""
            },
            "colorscale": [
             [
              0,
              "#0d0887"
             ],
             [
              0.1111111111111111,
              "#46039f"
             ],
             [
              0.2222222222222222,
              "#7201a8"
             ],
             [
              0.3333333333333333,
              "#9c179e"
             ],
             [
              0.4444444444444444,
              "#bd3786"
             ],
             [
              0.5555555555555556,
              "#d8576b"
             ],
             [
              0.6666666666666666,
              "#ed7953"
             ],
             [
              0.7777777777777778,
              "#fb9f3a"
             ],
             [
              0.8888888888888888,
              "#fdca26"
             ],
             [
              1,
              "#f0f921"
             ]
            ],
            "type": "histogram2dcontour"
           }
          ],
          "mesh3d": [
           {
            "colorbar": {
             "outlinewidth": 0,
             "ticks": ""
            },
            "type": "mesh3d"
           }
          ],
          "parcoords": [
           {
            "line": {
             "colorbar": {
              "outlinewidth": 0,
              "ticks": ""
             }
            },
            "type": "parcoords"
           }
          ],
          "pie": [
           {
            "automargin": true,
            "type": "pie"
           }
          ],
          "scatter": [
           {
            "marker": {
             "colorbar": {
              "outlinewidth": 0,
              "ticks": ""
             }
            },
            "type": "scatter"
           }
          ],
          "scatter3d": [
           {
            "line": {
             "colorbar": {
              "outlinewidth": 0,
              "ticks": ""
             }
            },
            "marker": {
             "colorbar": {
              "outlinewidth": 0,
              "ticks": ""
             }
            },
            "type": "scatter3d"
           }
          ],
          "scattercarpet": [
           {
            "marker": {
             "colorbar": {
              "outlinewidth": 0,
              "ticks": ""
             }
            },
            "type": "scattercarpet"
           }
          ],
          "scattergeo": [
           {
            "marker": {
             "colorbar": {
              "outlinewidth": 0,
              "ticks": ""
             }
            },
            "type": "scattergeo"
           }
          ],
          "scattergl": [
           {
            "marker": {
             "colorbar": {
              "outlinewidth": 0,
              "ticks": ""
             }
            },
            "type": "scattergl"
           }
          ],
          "scattermapbox": [
           {
            "marker": {
             "colorbar": {
              "outlinewidth": 0,
              "ticks": ""
             }
            },
            "type": "scattermapbox"
           }
          ],
          "scatterpolar": [
           {
            "marker": {
             "colorbar": {
              "outlinewidth": 0,
              "ticks": ""
             }
            },
            "type": "scatterpolar"
           }
          ],
          "scatterpolargl": [
           {
            "marker": {
             "colorbar": {
              "outlinewidth": 0,
              "ticks": ""
             }
            },
            "type": "scatterpolargl"
           }
          ],
          "scatterternary": [
           {
            "marker": {
             "colorbar": {
              "outlinewidth": 0,
              "ticks": ""
             }
            },
            "type": "scatterternary"
           }
          ],
          "surface": [
           {
            "colorbar": {
             "outlinewidth": 0,
             "ticks": ""
            },
            "colorscale": [
             [
              0,
              "#0d0887"
             ],
             [
              0.1111111111111111,
              "#46039f"
             ],
             [
              0.2222222222222222,
              "#7201a8"
             ],
             [
              0.3333333333333333,
              "#9c179e"
             ],
             [
              0.4444444444444444,
              "#bd3786"
             ],
             [
              0.5555555555555556,
              "#d8576b"
             ],
             [
              0.6666666666666666,
              "#ed7953"
             ],
             [
              0.7777777777777778,
              "#fb9f3a"
             ],
             [
              0.8888888888888888,
              "#fdca26"
             ],
             [
              1,
              "#f0f921"
             ]
            ],
            "type": "surface"
           }
          ],
          "table": [
           {
            "cells": {
             "fill": {
              "color": "#EBF0F8"
             },
             "line": {
              "color": "white"
             }
            },
            "header": {
             "fill": {
              "color": "#C8D4E3"
             },
             "line": {
              "color": "white"
             }
            },
            "type": "table"
           }
          ]
         },
         "layout": {
          "annotationdefaults": {
           "arrowcolor": "#2a3f5f",
           "arrowhead": 0,
           "arrowwidth": 1
          },
          "coloraxis": {
           "colorbar": {
            "outlinewidth": 0,
            "ticks": ""
           }
          },
          "colorscale": {
           "diverging": [
            [
             0,
             "#8e0152"
            ],
            [
             0.1,
             "#c51b7d"
            ],
            [
             0.2,
             "#de77ae"
            ],
            [
             0.3,
             "#f1b6da"
            ],
            [
             0.4,
             "#fde0ef"
            ],
            [
             0.5,
             "#f7f7f7"
            ],
            [
             0.6,
             "#e6f5d0"
            ],
            [
             0.7,
             "#b8e186"
            ],
            [
             0.8,
             "#7fbc41"
            ],
            [
             0.9,
             "#4d9221"
            ],
            [
             1,
             "#276419"
            ]
           ],
           "sequential": [
            [
             0,
             "#0d0887"
            ],
            [
             0.1111111111111111,
             "#46039f"
            ],
            [
             0.2222222222222222,
             "#7201a8"
            ],
            [
             0.3333333333333333,
             "#9c179e"
            ],
            [
             0.4444444444444444,
             "#bd3786"
            ],
            [
             0.5555555555555556,
             "#d8576b"
            ],
            [
             0.6666666666666666,
             "#ed7953"
            ],
            [
             0.7777777777777778,
             "#fb9f3a"
            ],
            [
             0.8888888888888888,
             "#fdca26"
            ],
            [
             1,
             "#f0f921"
            ]
           ],
           "sequentialminus": [
            [
             0,
             "#0d0887"
            ],
            [
             0.1111111111111111,
             "#46039f"
            ],
            [
             0.2222222222222222,
             "#7201a8"
            ],
            [
             0.3333333333333333,
             "#9c179e"
            ],
            [
             0.4444444444444444,
             "#bd3786"
            ],
            [
             0.5555555555555556,
             "#d8576b"
            ],
            [
             0.6666666666666666,
             "#ed7953"
            ],
            [
             0.7777777777777778,
             "#fb9f3a"
            ],
            [
             0.8888888888888888,
             "#fdca26"
            ],
            [
             1,
             "#f0f921"
            ]
           ]
          },
          "colorway": [
           "#636efa",
           "#EF553B",
           "#00cc96",
           "#ab63fa",
           "#FFA15A",
           "#19d3f3",
           "#FF6692",
           "#B6E880",
           "#FF97FF",
           "#FECB52"
          ],
          "font": {
           "color": "#2a3f5f"
          },
          "geo": {
           "bgcolor": "white",
           "lakecolor": "white",
           "landcolor": "#E5ECF6",
           "showlakes": true,
           "showland": true,
           "subunitcolor": "white"
          },
          "hoverlabel": {
           "align": "left"
          },
          "hovermode": "closest",
          "mapbox": {
           "style": "light"
          },
          "paper_bgcolor": "white",
          "plot_bgcolor": "#E5ECF6",
          "polar": {
           "angularaxis": {
            "gridcolor": "white",
            "linecolor": "white",
            "ticks": ""
           },
           "bgcolor": "#E5ECF6",
           "radialaxis": {
            "gridcolor": "white",
            "linecolor": "white",
            "ticks": ""
           }
          },
          "scene": {
           "xaxis": {
            "backgroundcolor": "#E5ECF6",
            "gridcolor": "white",
            "gridwidth": 2,
            "linecolor": "white",
            "showbackground": true,
            "ticks": "",
            "zerolinecolor": "white"
           },
           "yaxis": {
            "backgroundcolor": "#E5ECF6",
            "gridcolor": "white",
            "gridwidth": 2,
            "linecolor": "white",
            "showbackground": true,
            "ticks": "",
            "zerolinecolor": "white"
           },
           "zaxis": {
            "backgroundcolor": "#E5ECF6",
            "gridcolor": "white",
            "gridwidth": 2,
            "linecolor": "white",
            "showbackground": true,
            "ticks": "",
            "zerolinecolor": "white"
           }
          },
          "shapedefaults": {
           "line": {
            "color": "#2a3f5f"
           }
          },
          "ternary": {
           "aaxis": {
            "gridcolor": "white",
            "linecolor": "white",
            "ticks": ""
           },
           "baxis": {
            "gridcolor": "white",
            "linecolor": "white",
            "ticks": ""
           },
           "bgcolor": "#E5ECF6",
           "caxis": {
            "gridcolor": "white",
            "linecolor": "white",
            "ticks": ""
           }
          },
          "title": {
           "x": 0.05
          },
          "xaxis": {
           "automargin": true,
           "gridcolor": "white",
           "linecolor": "white",
           "ticks": "",
           "title": {
            "standoff": 15
           },
           "zerolinecolor": "white",
           "zerolinewidth": 2
          },
          "yaxis": {
           "automargin": true,
           "gridcolor": "white",
           "linecolor": "white",
           "ticks": "",
           "title": {
            "standoff": 15
           },
           "zerolinecolor": "white",
           "zerolinewidth": 2
          }
         }
        }
       }
      }
     },
     "metadata": {}
    }
   ],
   "source": [
    "x_axis = 'pole-task_group_name-groundline-t_interval'\n",
    "y_axis = 'pole-consequence-cost'\n",
    "z_axis = 'value_lost'\n",
    "\n",
    "make_contour_plot(df_total, x_axis=x_axis, y_axis=y_axis, z_axis=z_axis)"
   ]
  },
  {
   "source": [
    "# Match Asset Models to the population\n",
    "## Load the population data"
   ],
   "cell_type": "markdown",
   "metadata": {}
  },
  {
   "cell_type": "code",
   "execution_count": 13,
   "metadata": {},
   "outputs": [
    {
     "output_type": "stream",
     "name": "stdout",
     "text": [
      "File Loaded\n"
     ]
    },
    {
     "output_type": "execute_result",
     "data": {
      "text/plain": [
       "   Unnamed: 0  ASSET_ID Depot (ZSG Area) Pole_LU_NSWMajo    Pole_LU_NSWDeta  \\\n",
       "0           0       388      Cobar Depot         Grazing  Rangeland grazing   \n",
       "1           1       389      Cobar Depot         Grazing  Rangeland grazing   \n",
       "2           2       390      Cobar Depot         Grazing  Rangeland grazing   \n",
       "3           3       391      Cobar Depot         Grazing  Rangeland grazing   \n",
       "4           4       392      Cobar Depot         Grazing  Rangeland grazing   \n",
       "\n",
       "             Pole_LU_ALUMMaj            Pole_LU_ALUMDet  \\\n",
       "0  Grazing native vegetation  Grazing native vegetation   \n",
       "1  Grazing native vegetation  Grazing native vegetation   \n",
       "2  Grazing native vegetation  Grazing native vegetation   \n",
       "3  Grazing native vegetation  Grazing native vegetation   \n",
       "4  Grazing native vegetation  Grazing native vegetation   \n",
       "\n",
       "  Road Crossing Conductor Type HV_LV Status BushfirePriority  ...  \\\n",
       "0                         None      HV Only               P3  ...   \n",
       "1                         None      HV Only               P3  ...   \n",
       "2                         None      HV Only               P3  ...   \n",
       "3                         None      HV Only               P3  ...   \n",
       "4                         None      HV Only               P3  ...   \n",
       "\n",
       "  C_Environment_Rank  Site_Bushfire_Moderate_Probability  \\\n",
       "0                  5                            0.000715   \n",
       "1                  5                            0.000715   \n",
       "2                  5                            0.000715   \n",
       "3                  5                            0.000715   \n",
       "4                  5                            0.000715   \n",
       "\n",
       "   Site_Bushfire_Severe_Probability  C_Bushfire_Dollars  \\\n",
       "0                          0.000005          755.419255   \n",
       "1                          0.000005          755.419255   \n",
       "2                          0.000005          755.419255   \n",
       "3                          0.000005          755.419255   \n",
       "4                          0.000005          755.419255   \n",
       "\n",
       "  Site_Environment_Insignificant_Probability  \\\n",
       "0                                        0.0   \n",
       "1                                        0.0   \n",
       "2                                        0.0   \n",
       "3                                        0.0   \n",
       "4                                        0.0   \n",
       "\n",
       "  Site_Environment_Minor_Probability C_Environment_Dollars  \\\n",
       "0                                  0                     0   \n",
       "1                                  0                     0   \n",
       "2                                  0                     0   \n",
       "3                                  0                     0   \n",
       "4                                  0                     0   \n",
       "\n",
       "  C_Financial_Dollars  Total Consequence $  Radial(Y/N)  \n",
       "0          2802.19134         21198.144867          NaN  \n",
       "1          2802.57978         21198.533307          NaN  \n",
       "2          2803.09692         21199.050447          NaN  \n",
       "3          2803.76382         21199.717347          NaN  \n",
       "4          2804.33010         21200.283627          NaN  \n",
       "\n",
       "[5 rows x 43 columns]"
      ],
      "text/html": "<div>\n<style scoped>\n    .dataframe tbody tr th:only-of-type {\n        vertical-align: middle;\n    }\n\n    .dataframe tbody tr th {\n        vertical-align: top;\n    }\n\n    .dataframe thead th {\n        text-align: right;\n    }\n</style>\n<table border=\"1\" class=\"dataframe\">\n  <thead>\n    <tr style=\"text-align: right;\">\n      <th></th>\n      <th>Unnamed: 0</th>\n      <th>ASSET_ID</th>\n      <th>Depot (ZSG Area)</th>\n      <th>Pole_LU_NSWMajo</th>\n      <th>Pole_LU_NSWDeta</th>\n      <th>Pole_LU_ALUMMaj</th>\n      <th>Pole_LU_ALUMDet</th>\n      <th>Road Crossing Conductor Type</th>\n      <th>HV_LV Status</th>\n      <th>BushfirePriority</th>\n      <th>...</th>\n      <th>C_Environment_Rank</th>\n      <th>Site_Bushfire_Moderate_Probability</th>\n      <th>Site_Bushfire_Severe_Probability</th>\n      <th>C_Bushfire_Dollars</th>\n      <th>Site_Environment_Insignificant_Probability</th>\n      <th>Site_Environment_Minor_Probability</th>\n      <th>C_Environment_Dollars</th>\n      <th>C_Financial_Dollars</th>\n      <th>Total Consequence $</th>\n      <th>Radial(Y/N)</th>\n    </tr>\n  </thead>\n  <tbody>\n    <tr>\n      <th>0</th>\n      <td>0</td>\n      <td>388</td>\n      <td>Cobar Depot</td>\n      <td>Grazing</td>\n      <td>Rangeland grazing</td>\n      <td>Grazing native vegetation</td>\n      <td>Grazing native vegetation</td>\n      <td>None</td>\n      <td>HV Only</td>\n      <td>P3</td>\n      <td>...</td>\n      <td>5</td>\n      <td>0.000715</td>\n      <td>0.000005</td>\n      <td>755.419255</td>\n      <td>0.0</td>\n      <td>0</td>\n      <td>0</td>\n      <td>2802.19134</td>\n      <td>21198.144867</td>\n      <td>NaN</td>\n    </tr>\n    <tr>\n      <th>1</th>\n      <td>1</td>\n      <td>389</td>\n      <td>Cobar Depot</td>\n      <td>Grazing</td>\n      <td>Rangeland grazing</td>\n      <td>Grazing native vegetation</td>\n      <td>Grazing native vegetation</td>\n      <td>None</td>\n      <td>HV Only</td>\n      <td>P3</td>\n      <td>...</td>\n      <td>5</td>\n      <td>0.000715</td>\n      <td>0.000005</td>\n      <td>755.419255</td>\n      <td>0.0</td>\n      <td>0</td>\n      <td>0</td>\n      <td>2802.57978</td>\n      <td>21198.533307</td>\n      <td>NaN</td>\n    </tr>\n    <tr>\n      <th>2</th>\n      <td>2</td>\n      <td>390</td>\n      <td>Cobar Depot</td>\n      <td>Grazing</td>\n      <td>Rangeland grazing</td>\n      <td>Grazing native vegetation</td>\n      <td>Grazing native vegetation</td>\n      <td>None</td>\n      <td>HV Only</td>\n      <td>P3</td>\n      <td>...</td>\n      <td>5</td>\n      <td>0.000715</td>\n      <td>0.000005</td>\n      <td>755.419255</td>\n      <td>0.0</td>\n      <td>0</td>\n      <td>0</td>\n      <td>2803.09692</td>\n      <td>21199.050447</td>\n      <td>NaN</td>\n    </tr>\n    <tr>\n      <th>3</th>\n      <td>3</td>\n      <td>391</td>\n      <td>Cobar Depot</td>\n      <td>Grazing</td>\n      <td>Rangeland grazing</td>\n      <td>Grazing native vegetation</td>\n      <td>Grazing native vegetation</td>\n      <td>None</td>\n      <td>HV Only</td>\n      <td>P3</td>\n      <td>...</td>\n      <td>5</td>\n      <td>0.000715</td>\n      <td>0.000005</td>\n      <td>755.419255</td>\n      <td>0.0</td>\n      <td>0</td>\n      <td>0</td>\n      <td>2803.76382</td>\n      <td>21199.717347</td>\n      <td>NaN</td>\n    </tr>\n    <tr>\n      <th>4</th>\n      <td>4</td>\n      <td>392</td>\n      <td>Cobar Depot</td>\n      <td>Grazing</td>\n      <td>Rangeland grazing</td>\n      <td>Grazing native vegetation</td>\n      <td>Grazing native vegetation</td>\n      <td>None</td>\n      <td>HV Only</td>\n      <td>P3</td>\n      <td>...</td>\n      <td>5</td>\n      <td>0.000715</td>\n      <td>0.000005</td>\n      <td>755.419255</td>\n      <td>0.0</td>\n      <td>0</td>\n      <td>0</td>\n      <td>2804.33010</td>\n      <td>21200.283627</td>\n      <td>NaN</td>\n    </tr>\n  </tbody>\n</table>\n<p>5 rows × 43 columns</p>\n</div>"
     },
     "metadata": {},
     "execution_count": 13
    }
   ],
   "source": [
    "filename = r\"C:\\Users\\gtreseder\\OneDrive - KPMG\\Documents\\3. Client\\Essential Energy\\Probability of Failure Model\\inputs\\csvs\\ACS - Poles - Consequence Model Output.csv\"\n",
    "print(\"File Loading...\")\n",
    "df_cons = pd.read_csv(filename)\n",
    "clear_output()\n",
    "print(\"File Loaded\")\n",
    "df_cons.head()"
   ]
  },
  {
   "source": [
    "## Match to the closest model\n",
    "S"
   ],
   "cell_type": "markdown",
   "metadata": {}
  },
  {
   "cell_type": "code",
   "execution_count": 14,
   "metadata": {},
   "outputs": [],
   "source": [
    "# TODO turn ino a function so it works for mutliple y vars\n",
    "\n",
    "pop_var = 'Total Consequence $'\n",
    "sens_var = 'pole-consequence-cost'\n",
    "df_sens_var = pd.DataFrame(sens_vars[sens_var], columns= [sens_var])\n",
    "\n",
    "# Fill with average val\n",
    "df_cons[pop_var] = df_cons[pop_var].fillna(df_cons[pop_var].mean())\n",
    "\n",
    "# Match to the closest value from the model\n",
    "df = pd.merge_asof(\n",
    "    df_cons.sort_values(pop_var),\n",
    "    df_sens_var,\n",
    "    left_on = pop_var,\n",
    "    right_on = sens_var,\n",
    "    direction = 'forward'\n",
    ")"
   ]
  },
  {
   "cell_type": "code",
   "execution_count": 18,
   "metadata": {},
   "outputs": [
    {
     "output_type": "execute_result",
     "data": {
      "text/plain": [
       "         Unnamed: 0  ASSET_ID Depot (ZSG Area)     Pole_LU_NSWMajo  \\\n",
       "0           1070889   2766284   Warialda Depot  Tree & Shrub Cover   \n",
       "1           1014307   2706503   Warialda Depot  Tree & Shrub Cover   \n",
       "2            881522   2565300      Texas Depot                 NaN   \n",
       "3            880595   2564350      Texas Depot                 NaN   \n",
       "4            882559   2566388      Texas Depot                 NaN   \n",
       "...             ...       ...              ...                 ...   \n",
       "1400152       69484     74840     Nyngan Depot    Power Generation   \n",
       "1400153     1365051   4082929     Nyngan Depot            Cropping   \n",
       "1400154     1365070   4082954     Nyngan Depot            Cropping   \n",
       "1400155      121487    189068     Orange Depot  Mining & Quarrying   \n",
       "1400156     1367640   4100557      Cooma Depot             Grazing   \n",
       "\n",
       "                                           Pole_LU_NSWDeta  \\\n",
       "0                                            Native forest   \n",
       "1                                            Native forest   \n",
       "2                                                      NaN   \n",
       "3                                                      NaN   \n",
       "4                                                      NaN   \n",
       "...                                                    ...   \n",
       "1400152                             Electricity substation   \n",
       "1400153                  Cropping - continuous or rotation   \n",
       "1400154                  Cropping - continuous or rotation   \n",
       "1400155                                          Mine site   \n",
       "1400156  Volunteer, naturalised, native or improved pas...   \n",
       "\n",
       "                   Pole_LU_ALUMMaj                      Pole_LU_ALUMDet  \\\n",
       "0                Other minimal use                Residual native cover   \n",
       "1                Other minimal use                Residual native cover   \n",
       "2                              NaN                                  NaN   \n",
       "3                              NaN                                  NaN   \n",
       "4                              NaN                                  NaN   \n",
       "...                            ...                                  ...   \n",
       "1400152                  Utilities  Fuel powered electricity generation   \n",
       "1400153                   Cropping                             Cropping   \n",
       "1400154                   Cropping                             Cropping   \n",
       "1400155                     Mining                                Mines   \n",
       "1400156  Grazing modified pastures         Native/exotic pasture mosaic   \n",
       "\n",
       "        Road Crossing Conductor Type HV_LV Status BushfirePriority  ...  \\\n",
       "0                                NaN          NaN               P3  ...   \n",
       "1                                NaN          NaN               P3  ...   \n",
       "2                                NaN          NaN               P3  ...   \n",
       "3                                NaN          NaN               P3  ...   \n",
       "4                                NaN          NaN               P3  ...   \n",
       "...                              ...          ...              ...  ...   \n",
       "1400152                         None      HV Only               P2  ...   \n",
       "1400153                         None      HV Only               P2  ...   \n",
       "1400154                         None      HV Only               P2  ...   \n",
       "1400155                         None      HV Only               P1  ...   \n",
       "1400156                         None      HV Only               P2  ...   \n",
       "\n",
       "        Site_Bushfire_Moderate_Probability  Site_Bushfire_Severe_Probability  \\\n",
       "0                                 0.000715                          0.000005   \n",
       "1                                 0.000715                          0.000005   \n",
       "2                                 0.000715                          0.000005   \n",
       "3                                 0.000715                          0.000005   \n",
       "4                                 0.000715                          0.000005   \n",
       "...                                    ...                               ...   \n",
       "1400152                           0.001010                          0.000255   \n",
       "1400153                           0.001010                          0.000255   \n",
       "1400154                           0.001010                          0.000255   \n",
       "1400155                           0.004030                          0.002290   \n",
       "1400156                           0.001010                          0.000255   \n",
       "\n",
       "         C_Bushfire_Dollars  Site_Environment_Insignificant_Probability  \\\n",
       "0                755.419255                                         0.0   \n",
       "1                755.419255                                         0.0   \n",
       "2                755.419255                                         0.0   \n",
       "3                755.419255                                         0.0   \n",
       "4                755.419255                                         0.0   \n",
       "...                     ...                                         ...   \n",
       "1400152        11655.739430                                         0.0   \n",
       "1400153        11655.739430                                         0.0   \n",
       "1400154        11655.739430                                         0.0   \n",
       "1400155       100844.361290                                         0.0   \n",
       "1400156        11655.739430                                         0.0   \n",
       "\n",
       "        Site_Environment_Minor_Probability C_Environment_Dollars  \\\n",
       "0                                        0                     0   \n",
       "1                                        0                     0   \n",
       "2                                        0                     0   \n",
       "3                                        0                     0   \n",
       "4                                        0                     0   \n",
       "...                                    ...                   ...   \n",
       "1400152                                  0                     0   \n",
       "1400153                                  0                     0   \n",
       "1400154                                  0                     0   \n",
       "1400155                                  0                     0   \n",
       "1400156                                  0                     0   \n",
       "\n",
       "        C_Financial_Dollars Total Consequence $  Radial(Y/N)  \\\n",
       "0                2771.57244        4.460796e+03          NaN   \n",
       "1                2771.94450        4.461168e+03          NaN   \n",
       "2                2772.07086        4.461294e+03          NaN   \n",
       "3                2772.15510        4.461378e+03          NaN   \n",
       "4                2772.29082        4.461514e+03          NaN   \n",
       "...                     ...                 ...          ...   \n",
       "1400152          2776.33668        9.499943e+06          Yes   \n",
       "1400153          2805.45564        9.504958e+06          Yes   \n",
       "1400154          2815.44042        9.504967e+06          Yes   \n",
       "1400155          2831.94210        1.099299e+07          Yes   \n",
       "1400156          2924.14278        1.622352e+07          Yes   \n",
       "\n",
       "         pole-consequence-cost  \n",
       "0                     500000.0  \n",
       "1                     500000.0  \n",
       "2                     500000.0  \n",
       "3                     500000.0  \n",
       "4                     500000.0  \n",
       "...                        ...  \n",
       "1400152                    NaN  \n",
       "1400153                    NaN  \n",
       "1400154                    NaN  \n",
       "1400155                    NaN  \n",
       "1400156                    NaN  \n",
       "\n",
       "[1400157 rows x 44 columns]"
      ],
      "text/html": "<div>\n<style scoped>\n    .dataframe tbody tr th:only-of-type {\n        vertical-align: middle;\n    }\n\n    .dataframe tbody tr th {\n        vertical-align: top;\n    }\n\n    .dataframe thead th {\n        text-align: right;\n    }\n</style>\n<table border=\"1\" class=\"dataframe\">\n  <thead>\n    <tr style=\"text-align: right;\">\n      <th></th>\n      <th>Unnamed: 0</th>\n      <th>ASSET_ID</th>\n      <th>Depot (ZSG Area)</th>\n      <th>Pole_LU_NSWMajo</th>\n      <th>Pole_LU_NSWDeta</th>\n      <th>Pole_LU_ALUMMaj</th>\n      <th>Pole_LU_ALUMDet</th>\n      <th>Road Crossing Conductor Type</th>\n      <th>HV_LV Status</th>\n      <th>BushfirePriority</th>\n      <th>...</th>\n      <th>Site_Bushfire_Moderate_Probability</th>\n      <th>Site_Bushfire_Severe_Probability</th>\n      <th>C_Bushfire_Dollars</th>\n      <th>Site_Environment_Insignificant_Probability</th>\n      <th>Site_Environment_Minor_Probability</th>\n      <th>C_Environment_Dollars</th>\n      <th>C_Financial_Dollars</th>\n      <th>Total Consequence $</th>\n      <th>Radial(Y/N)</th>\n      <th>pole-consequence-cost</th>\n    </tr>\n  </thead>\n  <tbody>\n    <tr>\n      <th>0</th>\n      <td>1070889</td>\n      <td>2766284</td>\n      <td>Warialda Depot</td>\n      <td>Tree &amp; Shrub Cover</td>\n      <td>Native forest</td>\n      <td>Other minimal use</td>\n      <td>Residual native cover</td>\n      <td>NaN</td>\n      <td>NaN</td>\n      <td>P3</td>\n      <td>...</td>\n      <td>0.000715</td>\n      <td>0.000005</td>\n      <td>755.419255</td>\n      <td>0.0</td>\n      <td>0</td>\n      <td>0</td>\n      <td>2771.57244</td>\n      <td>4.460796e+03</td>\n      <td>NaN</td>\n      <td>500000.0</td>\n    </tr>\n    <tr>\n      <th>1</th>\n      <td>1014307</td>\n      <td>2706503</td>\n      <td>Warialda Depot</td>\n      <td>Tree &amp; Shrub Cover</td>\n      <td>Native forest</td>\n      <td>Other minimal use</td>\n      <td>Residual native cover</td>\n      <td>NaN</td>\n      <td>NaN</td>\n      <td>P3</td>\n      <td>...</td>\n      <td>0.000715</td>\n      <td>0.000005</td>\n      <td>755.419255</td>\n      <td>0.0</td>\n      <td>0</td>\n      <td>0</td>\n      <td>2771.94450</td>\n      <td>4.461168e+03</td>\n      <td>NaN</td>\n      <td>500000.0</td>\n    </tr>\n    <tr>\n      <th>2</th>\n      <td>881522</td>\n      <td>2565300</td>\n      <td>Texas Depot</td>\n      <td>NaN</td>\n      <td>NaN</td>\n      <td>NaN</td>\n      <td>NaN</td>\n      <td>NaN</td>\n      <td>NaN</td>\n      <td>P3</td>\n      <td>...</td>\n      <td>0.000715</td>\n      <td>0.000005</td>\n      <td>755.419255</td>\n      <td>0.0</td>\n      <td>0</td>\n      <td>0</td>\n      <td>2772.07086</td>\n      <td>4.461294e+03</td>\n      <td>NaN</td>\n      <td>500000.0</td>\n    </tr>\n    <tr>\n      <th>3</th>\n      <td>880595</td>\n      <td>2564350</td>\n      <td>Texas Depot</td>\n      <td>NaN</td>\n      <td>NaN</td>\n      <td>NaN</td>\n      <td>NaN</td>\n      <td>NaN</td>\n      <td>NaN</td>\n      <td>P3</td>\n      <td>...</td>\n      <td>0.000715</td>\n      <td>0.000005</td>\n      <td>755.419255</td>\n      <td>0.0</td>\n      <td>0</td>\n      <td>0</td>\n      <td>2772.15510</td>\n      <td>4.461378e+03</td>\n      <td>NaN</td>\n      <td>500000.0</td>\n    </tr>\n    <tr>\n      <th>4</th>\n      <td>882559</td>\n      <td>2566388</td>\n      <td>Texas Depot</td>\n      <td>NaN</td>\n      <td>NaN</td>\n      <td>NaN</td>\n      <td>NaN</td>\n      <td>NaN</td>\n      <td>NaN</td>\n      <td>P3</td>\n      <td>...</td>\n      <td>0.000715</td>\n      <td>0.000005</td>\n      <td>755.419255</td>\n      <td>0.0</td>\n      <td>0</td>\n      <td>0</td>\n      <td>2772.29082</td>\n      <td>4.461514e+03</td>\n      <td>NaN</td>\n      <td>500000.0</td>\n    </tr>\n    <tr>\n      <th>...</th>\n      <td>...</td>\n      <td>...</td>\n      <td>...</td>\n      <td>...</td>\n      <td>...</td>\n      <td>...</td>\n      <td>...</td>\n      <td>...</td>\n      <td>...</td>\n      <td>...</td>\n      <td>...</td>\n      <td>...</td>\n      <td>...</td>\n      <td>...</td>\n      <td>...</td>\n      <td>...</td>\n      <td>...</td>\n      <td>...</td>\n      <td>...</td>\n      <td>...</td>\n      <td>...</td>\n    </tr>\n    <tr>\n      <th>1400152</th>\n      <td>69484</td>\n      <td>74840</td>\n      <td>Nyngan Depot</td>\n      <td>Power Generation</td>\n      <td>Electricity substation</td>\n      <td>Utilities</td>\n      <td>Fuel powered electricity generation</td>\n      <td>None</td>\n      <td>HV Only</td>\n      <td>P2</td>\n      <td>...</td>\n      <td>0.001010</td>\n      <td>0.000255</td>\n      <td>11655.739430</td>\n      <td>0.0</td>\n      <td>0</td>\n      <td>0</td>\n      <td>2776.33668</td>\n      <td>9.499943e+06</td>\n      <td>Yes</td>\n      <td>NaN</td>\n    </tr>\n    <tr>\n      <th>1400153</th>\n      <td>1365051</td>\n      <td>4082929</td>\n      <td>Nyngan Depot</td>\n      <td>Cropping</td>\n      <td>Cropping - continuous or rotation</td>\n      <td>Cropping</td>\n      <td>Cropping</td>\n      <td>None</td>\n      <td>HV Only</td>\n      <td>P2</td>\n      <td>...</td>\n      <td>0.001010</td>\n      <td>0.000255</td>\n      <td>11655.739430</td>\n      <td>0.0</td>\n      <td>0</td>\n      <td>0</td>\n      <td>2805.45564</td>\n      <td>9.504958e+06</td>\n      <td>Yes</td>\n      <td>NaN</td>\n    </tr>\n    <tr>\n      <th>1400154</th>\n      <td>1365070</td>\n      <td>4082954</td>\n      <td>Nyngan Depot</td>\n      <td>Cropping</td>\n      <td>Cropping - continuous or rotation</td>\n      <td>Cropping</td>\n      <td>Cropping</td>\n      <td>None</td>\n      <td>HV Only</td>\n      <td>P2</td>\n      <td>...</td>\n      <td>0.001010</td>\n      <td>0.000255</td>\n      <td>11655.739430</td>\n      <td>0.0</td>\n      <td>0</td>\n      <td>0</td>\n      <td>2815.44042</td>\n      <td>9.504967e+06</td>\n      <td>Yes</td>\n      <td>NaN</td>\n    </tr>\n    <tr>\n      <th>1400155</th>\n      <td>121487</td>\n      <td>189068</td>\n      <td>Orange Depot</td>\n      <td>Mining &amp; Quarrying</td>\n      <td>Mine site</td>\n      <td>Mining</td>\n      <td>Mines</td>\n      <td>None</td>\n      <td>HV Only</td>\n      <td>P1</td>\n      <td>...</td>\n      <td>0.004030</td>\n      <td>0.002290</td>\n      <td>100844.361290</td>\n      <td>0.0</td>\n      <td>0</td>\n      <td>0</td>\n      <td>2831.94210</td>\n      <td>1.099299e+07</td>\n      <td>Yes</td>\n      <td>NaN</td>\n    </tr>\n    <tr>\n      <th>1400156</th>\n      <td>1367640</td>\n      <td>4100557</td>\n      <td>Cooma Depot</td>\n      <td>Grazing</td>\n      <td>Volunteer, naturalised, native or improved pas...</td>\n      <td>Grazing modified pastures</td>\n      <td>Native/exotic pasture mosaic</td>\n      <td>None</td>\n      <td>HV Only</td>\n      <td>P2</td>\n      <td>...</td>\n      <td>0.001010</td>\n      <td>0.000255</td>\n      <td>11655.739430</td>\n      <td>0.0</td>\n      <td>0</td>\n      <td>0</td>\n      <td>2924.14278</td>\n      <td>1.622352e+07</td>\n      <td>Yes</td>\n      <td>NaN</td>\n    </tr>\n  </tbody>\n</table>\n<p>1400157 rows × 44 columns</p>\n</div>"
     },
     "metadata": {},
     "execution_count": 18
    }
   ],
   "source": [
    "df"
   ]
  },
  {
   "cell_type": "code",
   "execution_count": 21,
   "metadata": {},
   "outputs": [
    {
     "output_type": "execute_result",
     "data": {
      "text/plain": [
       "                source  pole-consequence-cost  level_2  active  quantity  \\\n",
       "4                 risk                    0.0       57    True     0.012   \n",
       "5                 risk                    0.0       71    True     0.012   \n",
       "6                 risk                    0.0       85    True     0.012   \n",
       "7                 risk                    0.0       99    True     0.012   \n",
       "8                 risk                    0.0      113    True     0.012   \n",
       "..                 ...                    ...      ...     ...       ...   \n",
       "275  termite_treatment              1500000.0      503    True     0.026   \n",
       "276  termite_treatment              1500000.0      517    True     0.030   \n",
       "277  termite_treatment              1500000.0      531    True     0.032   \n",
       "278  termite_treatment              1500000.0      545    True     0.040   \n",
       "279  termite_treatment              1500000.0      559    True     0.042   \n",
       "\n",
       "     quantity_annual  quantity_cumulative  cost  cost_annual  cost_cumulative  \\\n",
       "4           0.000157                0.042   0.0     0.000000              0.0   \n",
       "5           0.000159                0.040   0.0     0.000000              0.0   \n",
       "6           0.000158                0.034   0.0     0.000000              0.0   \n",
       "7           0.000159                0.042   0.0     0.000000              0.0   \n",
       "8           0.000160                0.048   0.0     0.000000              0.0   \n",
       "..               ...                  ...   ...          ...              ...   \n",
       "275         0.000343                0.198   2.6     0.034345             19.8   \n",
       "276         0.000397                0.196   3.0     0.039668             19.6   \n",
       "277         0.000423                0.190   3.2     0.042287             19.0   \n",
       "278         0.000531                0.194   4.0     0.053110             19.4   \n",
       "279         0.000559                0.188   4.2     0.055864             18.8   \n",
       "\n",
       "     pole-task_group_name-groundline-t_interval  \n",
       "4                                           2.0  \n",
       "5                                           3.0  \n",
       "6                                           4.0  \n",
       "7                                           5.0  \n",
       "8                                           6.0  \n",
       "..                                          ...  \n",
       "275                                         3.0  \n",
       "276                                         4.0  \n",
       "277                                         5.0  \n",
       "278                                         6.0  \n",
       "279                                         7.0  \n",
       "\n",
       "[168 rows x 11 columns]"
      ],
      "text/html": "<div>\n<style scoped>\n    .dataframe tbody tr th:only-of-type {\n        vertical-align: middle;\n    }\n\n    .dataframe tbody tr th {\n        vertical-align: top;\n    }\n\n    .dataframe thead th {\n        text-align: right;\n    }\n</style>\n<table border=\"1\" class=\"dataframe\">\n  <thead>\n    <tr style=\"text-align: right;\">\n      <th></th>\n      <th>source</th>\n      <th>pole-consequence-cost</th>\n      <th>level_2</th>\n      <th>active</th>\n      <th>quantity</th>\n      <th>quantity_annual</th>\n      <th>quantity_cumulative</th>\n      <th>cost</th>\n      <th>cost_annual</th>\n      <th>cost_cumulative</th>\n      <th>pole-task_group_name-groundline-t_interval</th>\n    </tr>\n  </thead>\n  <tbody>\n    <tr>\n      <th>4</th>\n      <td>risk</td>\n      <td>0.0</td>\n      <td>57</td>\n      <td>True</td>\n      <td>0.012</td>\n      <td>0.000157</td>\n      <td>0.042</td>\n      <td>0.0</td>\n      <td>0.000000</td>\n      <td>0.0</td>\n      <td>2.0</td>\n    </tr>\n    <tr>\n      <th>5</th>\n      <td>risk</td>\n      <td>0.0</td>\n      <td>71</td>\n      <td>True</td>\n      <td>0.012</td>\n      <td>0.000159</td>\n      <td>0.040</td>\n      <td>0.0</td>\n      <td>0.000000</td>\n      <td>0.0</td>\n      <td>3.0</td>\n    </tr>\n    <tr>\n      <th>6</th>\n      <td>risk</td>\n      <td>0.0</td>\n      <td>85</td>\n      <td>True</td>\n      <td>0.012</td>\n      <td>0.000158</td>\n      <td>0.034</td>\n      <td>0.0</td>\n      <td>0.000000</td>\n      <td>0.0</td>\n      <td>4.0</td>\n    </tr>\n    <tr>\n      <th>7</th>\n      <td>risk</td>\n      <td>0.0</td>\n      <td>99</td>\n      <td>True</td>\n      <td>0.012</td>\n      <td>0.000159</td>\n      <td>0.042</td>\n      <td>0.0</td>\n      <td>0.000000</td>\n      <td>0.0</td>\n      <td>5.0</td>\n    </tr>\n    <tr>\n      <th>8</th>\n      <td>risk</td>\n      <td>0.0</td>\n      <td>113</td>\n      <td>True</td>\n      <td>0.012</td>\n      <td>0.000160</td>\n      <td>0.048</td>\n      <td>0.0</td>\n      <td>0.000000</td>\n      <td>0.0</td>\n      <td>6.0</td>\n    </tr>\n    <tr>\n      <th>...</th>\n      <td>...</td>\n      <td>...</td>\n      <td>...</td>\n      <td>...</td>\n      <td>...</td>\n      <td>...</td>\n      <td>...</td>\n      <td>...</td>\n      <td>...</td>\n      <td>...</td>\n      <td>...</td>\n    </tr>\n    <tr>\n      <th>275</th>\n      <td>termite_treatment</td>\n      <td>1500000.0</td>\n      <td>503</td>\n      <td>True</td>\n      <td>0.026</td>\n      <td>0.000343</td>\n      <td>0.198</td>\n      <td>2.6</td>\n      <td>0.034345</td>\n      <td>19.8</td>\n      <td>3.0</td>\n    </tr>\n    <tr>\n      <th>276</th>\n      <td>termite_treatment</td>\n      <td>1500000.0</td>\n      <td>517</td>\n      <td>True</td>\n      <td>0.030</td>\n      <td>0.000397</td>\n      <td>0.196</td>\n      <td>3.0</td>\n      <td>0.039668</td>\n      <td>19.6</td>\n      <td>4.0</td>\n    </tr>\n    <tr>\n      <th>277</th>\n      <td>termite_treatment</td>\n      <td>1500000.0</td>\n      <td>531</td>\n      <td>True</td>\n      <td>0.032</td>\n      <td>0.000423</td>\n      <td>0.190</td>\n      <td>3.2</td>\n      <td>0.042287</td>\n      <td>19.0</td>\n      <td>5.0</td>\n    </tr>\n    <tr>\n      <th>278</th>\n      <td>termite_treatment</td>\n      <td>1500000.0</td>\n      <td>545</td>\n      <td>True</td>\n      <td>0.040</td>\n      <td>0.000531</td>\n      <td>0.194</td>\n      <td>4.0</td>\n      <td>0.053110</td>\n      <td>19.4</td>\n      <td>6.0</td>\n    </tr>\n    <tr>\n      <th>279</th>\n      <td>termite_treatment</td>\n      <td>1500000.0</td>\n      <td>559</td>\n      <td>True</td>\n      <td>0.042</td>\n      <td>0.000559</td>\n      <td>0.188</td>\n      <td>4.2</td>\n      <td>0.055864</td>\n      <td>18.8</td>\n      <td>7.0</td>\n    </tr>\n  </tbody>\n</table>\n<p>168 rows × 11 columns</p>\n</div>"
     },
     "metadata": {},
     "execution_count": 21
    }
   ],
   "source": [
    "df_rolling"
   ]
  },
  {
   "source": [
    "### Count assets within each subpopluation\n",
    "To speed up execution the code, the number of assets within each group can be combined "
   ],
   "cell_type": "markdown",
   "metadata": {}
  },
  {
   "cell_type": "code",
   "execution_count": 142,
   "metadata": {},
   "outputs": [
    {
     "output_type": "execute_result",
     "data": {
      "text/plain": [
       "  Depot (ZSG Area)  pole-consequence-cost  ASSET_ID\n",
       "0     Albury Depot               500000.0     19568\n",
       "1     Albury Depot              1000000.0         9\n",
       "2     Albury Depot              1500000.0       361\n",
       "3   Armidale Depot               500000.0     18941\n",
       "4   Armidale Depot              1000000.0         7"
      ],
      "text/html": "<div>\n<style scoped>\n    .dataframe tbody tr th:only-of-type {\n        vertical-align: middle;\n    }\n\n    .dataframe tbody tr th {\n        vertical-align: top;\n    }\n\n    .dataframe thead th {\n        text-align: right;\n    }\n</style>\n<table border=\"1\" class=\"dataframe\">\n  <thead>\n    <tr style=\"text-align: right;\">\n      <th></th>\n      <th>Depot (ZSG Area)</th>\n      <th>pole-consequence-cost</th>\n      <th>ASSET_ID</th>\n    </tr>\n  </thead>\n  <tbody>\n    <tr>\n      <th>0</th>\n      <td>Albury Depot</td>\n      <td>500000.0</td>\n      <td>19568</td>\n    </tr>\n    <tr>\n      <th>1</th>\n      <td>Albury Depot</td>\n      <td>1000000.0</td>\n      <td>9</td>\n    </tr>\n    <tr>\n      <th>2</th>\n      <td>Albury Depot</td>\n      <td>1500000.0</td>\n      <td>361</td>\n    </tr>\n    <tr>\n      <th>3</th>\n      <td>Armidale Depot</td>\n      <td>500000.0</td>\n      <td>18941</td>\n    </tr>\n    <tr>\n      <th>4</th>\n      <td>Armidale Depot</td>\n      <td>1000000.0</td>\n      <td>7</td>\n    </tr>\n  </tbody>\n</table>\n</div>"
     },
     "metadata": {},
     "execution_count": 142
    }
   ],
   "source": [
    "#TODO make it work for multiple y vars\n",
    "df_pop = df.groupby(by=['Depot (ZSG Area)', y_var])['ASSET_ID'].count().reset_index()\n",
    "df_pop.head()"
   ]
  },
  {
   "cell_type": "code",
   "execution_count": 119,
   "metadata": {},
   "outputs": [
    {
     "output_type": "display_data",
     "data": {
      "application/vnd.plotly.v1+json": {
       "config": {
        "plotlyServerURL": "https://plot.ly"
       },
       "data": [
        {
         "hovertemplate": "source=risk<br> =   <br>t_interval=%{x}<br>cost_cumulative=%{y}<extra></extra>",
         "legendgroup": "risk,    ",
         "line": {
          "color": "#636EFA",
          "dash": "solid"
         },
         "mode": "lines",
         "name": "risk,    ",
         "orientation": "v",
         "showlegend": true,
         "type": "scatter",
         "x": [
          0,
          3,
          6,
          9,
          12,
          15,
          18,
          21,
          24,
          27,
          30,
          33,
          36,
          39,
          42,
          45,
          48,
          51,
          54,
          57,
          60,
          63,
          66,
          69,
          72,
          75,
          78,
          81,
          84,
          87,
          90,
          93,
          96,
          99,
          102,
          105,
          108,
          111,
          114,
          117,
          120
         ],
         "xaxis": "x",
         "y": [
          32500,
          55000,
          27500,
          30000,
          42500,
          35000,
          25000,
          32500,
          30000,
          22500,
          25000,
          15000,
          27500,
          15000,
          17500,
          22500,
          20000,
          20000,
          20000,
          27500,
          20000,
          22500,
          17500,
          15000,
          12500,
          22500,
          7500,
          20000,
          40000,
          25000,
          30000,
          27500,
          15000,
          27500,
          20000,
          35000,
          27500,
          10000,
          42500,
          27500,
          52500
         ],
         "yaxis": "y"
        },
        {
         "hovertemplate": "source=conditional_failure<br> =  <br>t_interval=%{x}<br>cost_cumulative=%{y}<extra></extra>",
         "legendgroup": "conditional_failure,   ",
         "line": {
          "color": "#EF553B",
          "dash": "dot"
         },
         "mode": "lines",
         "name": "conditional_failure,   ",
         "orientation": "v",
         "showlegend": true,
         "type": "scatter",
         "x": [
          0,
          3,
          6,
          9,
          12,
          15,
          18,
          21,
          24,
          27,
          30,
          33,
          36,
          39,
          42,
          45,
          48,
          51,
          54,
          57,
          60,
          63,
          66,
          69,
          72,
          75,
          78,
          81,
          84,
          87,
          90,
          93,
          96,
          99,
          102,
          105,
          108,
          111,
          114,
          117,
          120
         ],
         "xaxis": "x",
         "y": [
          840,
          787.5,
          805,
          997.5,
          787.5,
          787.5,
          927.5,
          840,
          910,
          787.5,
          892.5,
          840,
          910,
          787.5,
          1120,
          875,
          857.5,
          752.5,
          962.5,
          787.5,
          752.5,
          1015,
          892.5,
          892.5,
          1067.5,
          840,
          927.5,
          927.5,
          735,
          1137.5,
          840,
          875,
          875,
          735,
          875,
          805,
          875,
          787.5,
          717.5,
          805,
          682.5
         ],
         "yaxis": "y"
        },
        {
         "hovertemplate": "source=functional_failure<br> =  <br>t_interval=%{x}<br>cost_cumulative=%{y}<extra></extra>",
         "legendgroup": "functional_failure,   ",
         "line": {
          "color": "#00CC96",
          "dash": "dot"
         },
         "mode": "lines",
         "name": "functional_failure,   ",
         "orientation": "v",
         "showlegend": true,
         "type": "scatter",
         "x": [
          0,
          3,
          6,
          9,
          12,
          15,
          18,
          21,
          24,
          27,
          30,
          33,
          36,
          39,
          42,
          45,
          48,
          51,
          54,
          57,
          60,
          63,
          66,
          69,
          72,
          75,
          78,
          81,
          84,
          87,
          90,
          93,
          96,
          99,
          102,
          105,
          108,
          111,
          114,
          117,
          120
         ],
         "xaxis": "x",
         "y": [
          455,
          770,
          385,
          420,
          595,
          490,
          350,
          455,
          420,
          315,
          350,
          210,
          385,
          210,
          245,
          315,
          280,
          280,
          280,
          385,
          280,
          315,
          245,
          210,
          175,
          315,
          105,
          280,
          560,
          350,
          420,
          385,
          210,
          385,
          280,
          490,
          385,
          140,
          595,
          385,
          735
         ],
         "yaxis": "y"
        },
        {
         "hovertemplate": "source=inspection_groundline<br> =  <br>t_interval=%{x}<br>cost_cumulative=%{y}<extra></extra>",
         "legendgroup": "inspection_groundline,   ",
         "line": {
          "color": "#AB63FA",
          "dash": "dot"
         },
         "mode": "lines",
         "name": "inspection_groundline,   ",
         "orientation": "v",
         "showlegend": true,
         "type": "scatter",
         "x": [
          0,
          3,
          6,
          9,
          12,
          15,
          18,
          21,
          24,
          27,
          30,
          33,
          36,
          39,
          42,
          45,
          48,
          51,
          54,
          57,
          60,
          63,
          66,
          69,
          72,
          75,
          78,
          81,
          84,
          87,
          90,
          93,
          96,
          99,
          102,
          105,
          108,
          111,
          114,
          117,
          120
         ],
         "xaxis": "x",
         "y": [
          33703.75,
          11327.75,
          5537.75,
          3948,
          2934.5,
          2374,
          1938.5,
          1684,
          1388.5,
          1369.5,
          1165,
          1092.5,
          996.25,
          908.5,
          820.5,
          771.5,
          688.25,
          666.75,
          606.5,
          637.25,
          575.25,
          536.5,
          551.25,
          484.5,
          470,
          466.75,
          486.5,
          447,
          433.5,
          416.25,
          395.25,
          398.25,
          375.25,
          347.75,
          355.75,
          334.75,
          328.5,
          347.5,
          337.75,
          315.5,
          306.5
         ],
         "yaxis": "y"
        },
        {
         "hovertemplate": "source=inspection_protection<br> =  <br>t_interval=%{x}<br>cost_cumulative=%{y}<extra></extra>",
         "legendgroup": "inspection_protection,   ",
         "line": {
          "color": "#FFA15A",
          "dash": "dot"
         },
         "mode": "lines",
         "name": "inspection_protection,   ",
         "orientation": "v",
         "showlegend": true,
         "type": "scatter",
         "x": [
          0,
          3,
          6,
          9,
          12,
          15,
          18,
          21,
          24,
          27,
          30,
          33,
          36,
          39,
          42,
          45,
          48,
          51,
          54,
          57,
          60,
          63,
          66,
          69,
          72,
          75,
          78,
          81,
          84,
          87,
          90,
          93,
          96,
          99,
          102,
          105,
          108,
          111,
          114,
          117,
          120
         ],
         "xaxis": "x",
         "y": [
          0,
          0,
          0,
          0,
          0,
          0,
          0,
          0,
          0,
          0,
          0,
          0,
          0,
          0,
          0,
          0,
          0,
          0,
          0,
          0,
          0,
          0,
          0,
          0,
          0,
          0,
          0,
          0,
          0,
          0,
          0,
          0,
          0,
          0,
          0,
          0,
          0,
          0,
          0,
          0,
          0
         ],
         "yaxis": "y"
        },
        {
         "hovertemplate": "source=pole_saver_rod<br> =  <br>t_interval=%{x}<br>cost_cumulative=%{y}<extra></extra>",
         "legendgroup": "pole_saver_rod,   ",
         "line": {
          "color": "#19D3F3",
          "dash": "dot"
         },
         "mode": "lines",
         "name": "pole_saver_rod,   ",
         "orientation": "v",
         "showlegend": true,
         "type": "scatter",
         "x": [
          0,
          3,
          6,
          9,
          12,
          15,
          18,
          21,
          24,
          27,
          30,
          33,
          36,
          39,
          42,
          45,
          48,
          51,
          54,
          57,
          60,
          63,
          66,
          69,
          72,
          75,
          78,
          81,
          84,
          87,
          90,
          93,
          96,
          99,
          102,
          105,
          108,
          111,
          114,
          117,
          120
         ],
         "xaxis": "x",
         "y": [
          null,
          null,
          null,
          null,
          null,
          null,
          null,
          null,
          null,
          null,
          null,
          null,
          null,
          null,
          null,
          null,
          null,
          null,
          null,
          null,
          null,
          null,
          null,
          null,
          null,
          null,
          null,
          null,
          null,
          null,
          null,
          null,
          null,
          null,
          null,
          null,
          null,
          null,
          null,
          null,
          null
         ],
         "yaxis": "y"
        },
        {
         "hovertemplate": "source=termite_treatment<br> =  <br>t_interval=%{x}<br>cost_cumulative=%{y}<extra></extra>",
         "legendgroup": "termite_treatment,   ",
         "line": {
          "color": "#FF6692",
          "dash": "dot"
         },
         "mode": "lines",
         "name": "termite_treatment,   ",
         "orientation": "v",
         "showlegend": true,
         "type": "scatter",
         "x": [
          0,
          3,
          6,
          9,
          12,
          15,
          18,
          21,
          24,
          27,
          30,
          33,
          36,
          39,
          42,
          45,
          48,
          51,
          54,
          57,
          60,
          63,
          66,
          69,
          72,
          75,
          78,
          81,
          84,
          87,
          90,
          93,
          96,
          99,
          102,
          105,
          108,
          111,
          114,
          117,
          120
         ],
         "xaxis": "x",
         "y": [
          22.5,
          25,
          25.5,
          19,
          24,
          24.5,
          23.5,
          18,
          21.5,
          17,
          20.5,
          15,
          19.5,
          18,
          18,
          21,
          16.5,
          21,
          21,
          17,
          20,
          21,
          21,
          17,
          17.5,
          13.5,
          17.5,
          15.5,
          13,
          20,
          17,
          14,
          13.5,
          15.5,
          18.5,
          14.5,
          12.5,
          15.5,
          13,
          20,
          15
         ],
         "yaxis": "y"
        }
       ],
       "layout": {
        "legend": {
         "title": {
          "text": "source,  "
         },
         "tracegroupgap": 0
        },
        "template": {
         "data": {
          "bar": [
           {
            "error_x": {
             "color": "#2a3f5f"
            },
            "error_y": {
             "color": "#2a3f5f"
            },
            "marker": {
             "line": {
              "color": "#E5ECF6",
              "width": 0.5
             }
            },
            "type": "bar"
           }
          ],
          "barpolar": [
           {
            "marker": {
             "line": {
              "color": "#E5ECF6",
              "width": 0.5
             }
            },
            "type": "barpolar"
           }
          ],
          "carpet": [
           {
            "aaxis": {
             "endlinecolor": "#2a3f5f",
             "gridcolor": "white",
             "linecolor": "white",
             "minorgridcolor": "white",
             "startlinecolor": "#2a3f5f"
            },
            "baxis": {
             "endlinecolor": "#2a3f5f",
             "gridcolor": "white",
             "linecolor": "white",
             "minorgridcolor": "white",
             "startlinecolor": "#2a3f5f"
            },
            "type": "carpet"
           }
          ],
          "choropleth": [
           {
            "colorbar": {
             "outlinewidth": 0,
             "ticks": ""
            },
            "type": "choropleth"
           }
          ],
          "contour": [
           {
            "colorbar": {
             "outlinewidth": 0,
             "ticks": ""
            },
            "colorscale": [
             [
              0,
              "#0d0887"
             ],
             [
              0.1111111111111111,
              "#46039f"
             ],
             [
              0.2222222222222222,
              "#7201a8"
             ],
             [
              0.3333333333333333,
              "#9c179e"
             ],
             [
              0.4444444444444444,
              "#bd3786"
             ],
             [
              0.5555555555555556,
              "#d8576b"
             ],
             [
              0.6666666666666666,
              "#ed7953"
             ],
             [
              0.7777777777777778,
              "#fb9f3a"
             ],
             [
              0.8888888888888888,
              "#fdca26"
             ],
             [
              1,
              "#f0f921"
             ]
            ],
            "type": "contour"
           }
          ],
          "contourcarpet": [
           {
            "colorbar": {
             "outlinewidth": 0,
             "ticks": ""
            },
            "type": "contourcarpet"
           }
          ],
          "heatmap": [
           {
            "colorbar": {
             "outlinewidth": 0,
             "ticks": ""
            },
            "colorscale": [
             [
              0,
              "#0d0887"
             ],
             [
              0.1111111111111111,
              "#46039f"
             ],
             [
              0.2222222222222222,
              "#7201a8"
             ],
             [
              0.3333333333333333,
              "#9c179e"
             ],
             [
              0.4444444444444444,
              "#bd3786"
             ],
             [
              0.5555555555555556,
              "#d8576b"
             ],
             [
              0.6666666666666666,
              "#ed7953"
             ],
             [
              0.7777777777777778,
              "#fb9f3a"
             ],
             [
              0.8888888888888888,
              "#fdca26"
             ],
             [
              1,
              "#f0f921"
             ]
            ],
            "type": "heatmap"
           }
          ],
          "heatmapgl": [
           {
            "colorbar": {
             "outlinewidth": 0,
             "ticks": ""
            },
            "colorscale": [
             [
              0,
              "#0d0887"
             ],
             [
              0.1111111111111111,
              "#46039f"
             ],
             [
              0.2222222222222222,
              "#7201a8"
             ],
             [
              0.3333333333333333,
              "#9c179e"
             ],
             [
              0.4444444444444444,
              "#bd3786"
             ],
             [
              0.5555555555555556,
              "#d8576b"
             ],
             [
              0.6666666666666666,
              "#ed7953"
             ],
             [
              0.7777777777777778,
              "#fb9f3a"
             ],
             [
              0.8888888888888888,
              "#fdca26"
             ],
             [
              1,
              "#f0f921"
             ]
            ],
            "type": "heatmapgl"
           }
          ],
          "histogram": [
           {
            "marker": {
             "colorbar": {
              "outlinewidth": 0,
              "ticks": ""
             }
            },
            "type": "histogram"
           }
          ],
          "histogram2d": [
           {
            "colorbar": {
             "outlinewidth": 0,
             "ticks": ""
            },
            "colorscale": [
             [
              0,
              "#0d0887"
             ],
             [
              0.1111111111111111,
              "#46039f"
             ],
             [
              0.2222222222222222,
              "#7201a8"
             ],
             [
              0.3333333333333333,
              "#9c179e"
             ],
             [
              0.4444444444444444,
              "#bd3786"
             ],
             [
              0.5555555555555556,
              "#d8576b"
             ],
             [
              0.6666666666666666,
              "#ed7953"
             ],
             [
              0.7777777777777778,
              "#fb9f3a"
             ],
             [
              0.8888888888888888,
              "#fdca26"
             ],
             [
              1,
              "#f0f921"
             ]
            ],
            "type": "histogram2d"
           }
          ],
          "histogram2dcontour": [
           {
            "colorbar": {
             "outlinewidth": 0,
             "ticks": ""
            },
            "colorscale": [
             [
              0,
              "#0d0887"
             ],
             [
              0.1111111111111111,
              "#46039f"
             ],
             [
              0.2222222222222222,
              "#7201a8"
             ],
             [
              0.3333333333333333,
              "#9c179e"
             ],
             [
              0.4444444444444444,
              "#bd3786"
             ],
             [
              0.5555555555555556,
              "#d8576b"
             ],
             [
              0.6666666666666666,
              "#ed7953"
             ],
             [
              0.7777777777777778,
              "#fb9f3a"
             ],
             [
              0.8888888888888888,
              "#fdca26"
             ],
             [
              1,
              "#f0f921"
             ]
            ],
            "type": "histogram2dcontour"
           }
          ],
          "mesh3d": [
           {
            "colorbar": {
             "outlinewidth": 0,
             "ticks": ""
            },
            "type": "mesh3d"
           }
          ],
          "parcoords": [
           {
            "line": {
             "colorbar": {
              "outlinewidth": 0,
              "ticks": ""
             }
            },
            "type": "parcoords"
           }
          ],
          "pie": [
           {
            "automargin": true,
            "type": "pie"
           }
          ],
          "scatter": [
           {
            "marker": {
             "colorbar": {
              "outlinewidth": 0,
              "ticks": ""
             }
            },
            "type": "scatter"
           }
          ],
          "scatter3d": [
           {
            "line": {
             "colorbar": {
              "outlinewidth": 0,
              "ticks": ""
             }
            },
            "marker": {
             "colorbar": {
              "outlinewidth": 0,
              "ticks": ""
             }
            },
            "type": "scatter3d"
           }
          ],
          "scattercarpet": [
           {
            "marker": {
             "colorbar": {
              "outlinewidth": 0,
              "ticks": ""
             }
            },
            "type": "scattercarpet"
           }
          ],
          "scattergeo": [
           {
            "marker": {
             "colorbar": {
              "outlinewidth": 0,
              "ticks": ""
             }
            },
            "type": "scattergeo"
           }
          ],
          "scattergl": [
           {
            "marker": {
             "colorbar": {
              "outlinewidth": 0,
              "ticks": ""
             }
            },
            "type": "scattergl"
           }
          ],
          "scattermapbox": [
           {
            "marker": {
             "colorbar": {
              "outlinewidth": 0,
              "ticks": ""
             }
            },
            "type": "scattermapbox"
           }
          ],
          "scatterpolar": [
           {
            "marker": {
             "colorbar": {
              "outlinewidth": 0,
              "ticks": ""
             }
            },
            "type": "scatterpolar"
           }
          ],
          "scatterpolargl": [
           {
            "marker": {
             "colorbar": {
              "outlinewidth": 0,
              "ticks": ""
             }
            },
            "type": "scatterpolargl"
           }
          ],
          "scatterternary": [
           {
            "marker": {
             "colorbar": {
              "outlinewidth": 0,
              "ticks": ""
             }
            },
            "type": "scatterternary"
           }
          ],
          "surface": [
           {
            "colorbar": {
             "outlinewidth": 0,
             "ticks": ""
            },
            "colorscale": [
             [
              0,
              "#0d0887"
             ],
             [
              0.1111111111111111,
              "#46039f"
             ],
             [
              0.2222222222222222,
              "#7201a8"
             ],
             [
              0.3333333333333333,
              "#9c179e"
             ],
             [
              0.4444444444444444,
              "#bd3786"
             ],
             [
              0.5555555555555556,
              "#d8576b"
             ],
             [
              0.6666666666666666,
              "#ed7953"
             ],
             [
              0.7777777777777778,
              "#fb9f3a"
             ],
             [
              0.8888888888888888,
              "#fdca26"
             ],
             [
              1,
              "#f0f921"
             ]
            ],
            "type": "surface"
           }
          ],
          "table": [
           {
            "cells": {
             "fill": {
              "color": "#EBF0F8"
             },
             "line": {
              "color": "white"
             }
            },
            "header": {
             "fill": {
              "color": "#C8D4E3"
             },
             "line": {
              "color": "white"
             }
            },
            "type": "table"
           }
          ]
         },
         "layout": {
          "annotationdefaults": {
           "arrowcolor": "#2a3f5f",
           "arrowhead": 0,
           "arrowwidth": 1
          },
          "coloraxis": {
           "colorbar": {
            "outlinewidth": 0,
            "ticks": ""
           }
          },
          "colorscale": {
           "diverging": [
            [
             0,
             "#8e0152"
            ],
            [
             0.1,
             "#c51b7d"
            ],
            [
             0.2,
             "#de77ae"
            ],
            [
             0.3,
             "#f1b6da"
            ],
            [
             0.4,
             "#fde0ef"
            ],
            [
             0.5,
             "#f7f7f7"
            ],
            [
             0.6,
             "#e6f5d0"
            ],
            [
             0.7,
             "#b8e186"
            ],
            [
             0.8,
             "#7fbc41"
            ],
            [
             0.9,
             "#4d9221"
            ],
            [
             1,
             "#276419"
            ]
           ],
           "sequential": [
            [
             0,
             "#0d0887"
            ],
            [
             0.1111111111111111,
             "#46039f"
            ],
            [
             0.2222222222222222,
             "#7201a8"
            ],
            [
             0.3333333333333333,
             "#9c179e"
            ],
            [
             0.4444444444444444,
             "#bd3786"
            ],
            [
             0.5555555555555556,
             "#d8576b"
            ],
            [
             0.6666666666666666,
             "#ed7953"
            ],
            [
             0.7777777777777778,
             "#fb9f3a"
            ],
            [
             0.8888888888888888,
             "#fdca26"
            ],
            [
             1,
             "#f0f921"
            ]
           ],
           "sequentialminus": [
            [
             0,
             "#0d0887"
            ],
            [
             0.1111111111111111,
             "#46039f"
            ],
            [
             0.2222222222222222,
             "#7201a8"
            ],
            [
             0.3333333333333333,
             "#9c179e"
            ],
            [
             0.4444444444444444,
             "#bd3786"
            ],
            [
             0.5555555555555556,
             "#d8576b"
            ],
            [
             0.6666666666666666,
             "#ed7953"
            ],
            [
             0.7777777777777778,
             "#fb9f3a"
            ],
            [
             0.8888888888888888,
             "#fdca26"
            ],
            [
             1,
             "#f0f921"
            ]
           ]
          },
          "colorway": [
           "#636efa",
           "#EF553B",
           "#00cc96",
           "#ab63fa",
           "#FFA15A",
           "#19d3f3",
           "#FF6692",
           "#B6E880",
           "#FF97FF",
           "#FECB52"
          ],
          "font": {
           "color": "#2a3f5f"
          },
          "geo": {
           "bgcolor": "white",
           "lakecolor": "white",
           "landcolor": "#E5ECF6",
           "showlakes": true,
           "showland": true,
           "subunitcolor": "white"
          },
          "hoverlabel": {
           "align": "left"
          },
          "hovermode": "closest",
          "mapbox": {
           "style": "light"
          },
          "paper_bgcolor": "white",
          "plot_bgcolor": "#E5ECF6",
          "polar": {
           "angularaxis": {
            "gridcolor": "white",
            "linecolor": "white",
            "ticks": ""
           },
           "bgcolor": "#E5ECF6",
           "radialaxis": {
            "gridcolor": "white",
            "linecolor": "white",
            "ticks": ""
           }
          },
          "scene": {
           "xaxis": {
            "backgroundcolor": "#E5ECF6",
            "gridcolor": "white",
            "gridwidth": 2,
            "linecolor": "white",
            "showbackground": true,
            "ticks": "",
            "zerolinecolor": "white"
           },
           "yaxis": {
            "backgroundcolor": "#E5ECF6",
            "gridcolor": "white",
            "gridwidth": 2,
            "linecolor": "white",
            "showbackground": true,
            "ticks": "",
            "zerolinecolor": "white"
           },
           "zaxis": {
            "backgroundcolor": "#E5ECF6",
            "gridcolor": "white",
            "gridwidth": 2,
            "linecolor": "white",
            "showbackground": true,
            "ticks": "",
            "zerolinecolor": "white"
           }
          },
          "shapedefaults": {
           "line": {
            "color": "#2a3f5f"
           }
          },
          "ternary": {
           "aaxis": {
            "gridcolor": "white",
            "linecolor": "white",
            "ticks": ""
           },
           "baxis": {
            "gridcolor": "white",
            "linecolor": "white",
            "ticks": ""
           },
           "bgcolor": "#E5ECF6",
           "caxis": {
            "gridcolor": "white",
            "linecolor": "white",
            "ticks": ""
           }
          },
          "title": {
           "x": 0.05
          },
          "xaxis": {
           "automargin": true,
           "gridcolor": "white",
           "linecolor": "white",
           "ticks": "",
           "title": {
            "standoff": 15
           },
           "zerolinecolor": "white",
           "zerolinewidth": 2
          },
          "yaxis": {
           "automargin": true,
           "gridcolor": "white",
           "linecolor": "white",
           "ticks": "",
           "title": {
            "standoff": 15
           },
           "zerolinecolor": "white",
           "zerolinewidth": 2
          }
         }
        },
        "title": {
         "text": "Sensitivity of Risk/Cost to T Interval"
        },
        "xaxis": {
         "anchor": "y",
         "automargin": true,
         "domain": [
          0,
          1
         ],
         "title": {
          "text": "t_interval (unknown)"
         }
        },
        "yaxis": {
         "anchor": "x",
         "automargin": true,
         "domain": [
          0,
          1
         ],
         "title": {
          "text": "cost_cumulative"
         }
        }
       }
      }
     },
     "metadata": {}
    }
   ],
   "source": [
    "df_results = pd.read_csv(\"results.csv\")\n",
    "\n",
    "df_plot = df_results.loc[df_results['consequence-cost'] == 5e5]\n",
    "\n",
    "make_sensitivity_fig(df_plot, var_name='t_interval', y_axis = 'cost_cumulative')\n"
   ]
  },
  {
   "source": [
    "## Insights\n",
    "Insights should be run with an emphasis on accuracy rather than simulation time and have each been set up with high iteration counts"
   ],
   "cell_type": "markdown",
   "metadata": {}
  },
  {
   "source": [
    "### Impact of improving inspection effectiveness"
   ],
   "cell_type": "markdown",
   "metadata": {}
  },
  {
   "cell_type": "code",
   "execution_count": null,
   "metadata": {},
   "outputs": [],
   "source": [
    "var_id = 'pole-task_group_name-inspection_groundline-p_effective'\n",
    "comp.expected_sensitivity(var_id = var_id, lower = 0.1, upper = 1, step_size= 0.1, n_iterations=1000, t_end=100)\n",
    "clear_output()\n",
    "comp.plot_sens(var_id=var_id, y_axis='cost_cumulative')"
   ]
  },
  {
   "source": [
    "### Min effectiveness for Pole Saver Rod"
   ],
   "cell_type": "markdown",
   "metadata": {}
  },
  {
   "cell_type": "code",
   "execution_count": null,
   "metadata": {},
   "outputs": [],
   "source": [
    "# Turn on Pole Saver Rod\n",
    "comp.fm['fungal decay | internal'].tasks['pole_saver_rod'].active = True\n",
    "\n",
    "# Run simulation\n",
    "var_id = 'pole-task_group_name-inspection_groundline-p_effective'\n",
    "comp.expected_sensitivity(var_id = var_id, lower = 0.1, upper = 1, step_size= 0.1, n_iterations=1000, t_end=100)\n",
    "clear_output()\n",
    "comp.plot_sens(var_id=var_id, y_axis='cost_cumulative')\n",
    "\n",
    "# Turn off Pole Save Rod\n",
    "comp.fm['fungal decay | internal'].tasks['pole_saver_rod'].active = False"
   ]
  },
  {
   "source": [
    "## Long run simulation \n",
    "Run a long simulation to repeat the process above for the key outputs without the interim steps"
   ],
   "cell_type": "markdown",
   "metadata": {}
  },
  {
   "cell_type": "code",
   "execution_count": 94,
   "metadata": {},
   "outputs": [],
   "source": [
    "# Set the parameters\n",
    "t_end = 100\n",
    "n_iterations = 1000\n",
    "model_units = 'months'\n",
    "sens_vars = {\n",
    "    'pole-consequence-cost': np.arange(0, 2e6, 2e5),\n",
    "    'pole-task_group_name-groundline-t_interval': np.arange(0, 10, 0.25)\n",
    "}\n",
    "\n",
    "x_var = 'pole-task_group_name-groundline-t_interval'\n",
    "y_var = 'pole-consequence-cost'\n",
    "z_var = 'value_lost'\n",
    "\n",
    "window=5"
   ]
  },
  {
   "cell_type": "code",
   "execution_count": 95,
   "metadata": {},
   "outputs": [
    {
     "output_type": "display_data",
     "data": {
      "text/plain": "HBox(children=(HTML(value='pole-consequence-cost'), FloatProgress(value=0.0, max=10.0), HTML(value='')))",
      "application/vnd.jupyter.widget-view+json": {
       "version_major": 2,
       "version_minor": 0,
       "model_id": "3985531c13b74ad0b1f080ca42c3d2e6"
      }
     },
     "metadata": {}
    },
    {
     "output_type": "display_data",
     "data": {
      "text/plain": "HBox(children=(HTML(value='pole-task_group_name-groundline-t_interval'), FloatProgress(value=0.0, max=40.0), H…",
      "application/vnd.jupyter.widget-view+json": {
       "version_major": 2,
       "version_minor": 0,
       "model_id": "c8c2f734a3064861953ed723789cdbfe"
      }
     },
     "metadata": {}
    },
    {
     "output_type": "display_data",
     "data": {
      "text/plain": "HBox(children=(HTML(value='Simulation'), FloatProgress(value=0.0, max=1000.0), HTML(value='')))",
      "application/vnd.jupyter.widget-view+json": {
       "version_major": 2,
       "version_minor": 0,
       "model_id": "e477dbb6e5ce44b69b89ee70e059c1ad"
      }
     },
     "metadata": {}
    },
    {
     "output_type": "stream",
     "name": "stderr",
     "text": [
      "WARNING:root:t_interval will be scaled to the nearest integer during simulations - 0.25\n",
      "WARNING:root:t_interval will be scaled to the nearest integer during simulations - 0.25\n",
      "WARNING:root:t_interval will be scaled to the nearest integer during simulations - 0.25\n",
      "WARNING:root:t_interval will be scaled to the nearest integer during simulations - 0.25\n",
      "WARNING:root:t_interval will be scaled to the nearest integer during simulations - 0.25\n"
     ]
    },
    {
     "output_type": "display_data",
     "data": {
      "text/plain": "HBox(children=(HTML(value='Simulation'), FloatProgress(value=0.0, max=1000.0), HTML(value='')))",
      "application/vnd.jupyter.widget-view+json": {
       "version_major": 2,
       "version_minor": 0,
       "model_id": "d92ce04acf6f42e29393af92bce079bd"
      }
     },
     "metadata": {}
    },
    {
     "output_type": "stream",
     "name": "stderr",
     "text": [
      "WARNING:root:t_interval will be scaled to the nearest integer during simulations - 0.5\n",
      "WARNING:root:t_interval will be scaled to the nearest integer during simulations - 0.5\n",
      "WARNING:root:t_interval will be scaled to the nearest integer during simulations - 0.5\n",
      "WARNING:root:t_interval will be scaled to the nearest integer during simulations - 0.5\n",
      "WARNING:root:t_interval will be scaled to the nearest integer during simulations - 0.5\n"
     ]
    },
    {
     "output_type": "display_data",
     "data": {
      "text/plain": "HBox(children=(HTML(value='Simulation'), FloatProgress(value=0.0, max=1000.0), HTML(value='')))",
      "application/vnd.jupyter.widget-view+json": {
       "version_major": 2,
       "version_minor": 0,
       "model_id": "74c0089fbade41b39fec25d9f3853bb2"
      }
     },
     "metadata": {}
    },
    {
     "output_type": "stream",
     "name": "stderr",
     "text": [
      "WARNING:root:t_interval will be scaled to the nearest integer during simulations - 0.75\n",
      "WARNING:root:t_interval will be scaled to the nearest integer during simulations - 0.75\n",
      "WARNING:root:t_interval will be scaled to the nearest integer during simulations - 0.75\n",
      "WARNING:root:t_interval will be scaled to the nearest integer during simulations - 0.75\n",
      "WARNING:root:t_interval will be scaled to the nearest integer during simulations - 0.75\n"
     ]
    },
    {
     "output_type": "display_data",
     "data": {
      "text/plain": "HBox(children=(HTML(value='Simulation'), FloatProgress(value=0.0, max=1000.0), HTML(value='')))",
      "application/vnd.jupyter.widget-view+json": {
       "version_major": 2,
       "version_minor": 0,
       "model_id": "1910f5ec76e841cb90ce711d780e140f"
      }
     },
     "metadata": {}
    },
    {
     "output_type": "display_data",
     "data": {
      "text/plain": "HBox(children=(HTML(value='Simulation'), FloatProgress(value=0.0, max=1000.0), HTML(value='')))",
      "application/vnd.jupyter.widget-view+json": {
       "version_major": 2,
       "version_minor": 0,
       "model_id": "b5e7fb3ae9af485196a436ef0ebb0e89"
      }
     },
     "metadata": {}
    },
    {
     "output_type": "stream",
     "name": "stderr",
     "text": [
      "WARNING:root:t_interval will be scaled to the nearest integer during simulations - 1.25\n",
      "WARNING:root:t_interval will be scaled to the nearest integer during simulations - 1.25\n",
      "WARNING:root:t_interval will be scaled to the nearest integer during simulations - 1.25\n",
      "WARNING:root:t_interval will be scaled to the nearest integer during simulations - 1.25\n",
      "WARNING:root:t_interval will be scaled to the nearest integer during simulations - 1.25\n"
     ]
    },
    {
     "output_type": "display_data",
     "data": {
      "text/plain": "HBox(children=(HTML(value='Simulation'), FloatProgress(value=0.0, max=1000.0), HTML(value='')))",
      "application/vnd.jupyter.widget-view+json": {
       "version_major": 2,
       "version_minor": 0,
       "model_id": "ea9ccb0a42d744888d0acc99971c049c"
      }
     },
     "metadata": {}
    },
    {
     "output_type": "stream",
     "name": "stderr",
     "text": [
      "WARNING:root:t_interval will be scaled to the nearest integer during simulations - 1.5\n",
      "WARNING:root:t_interval will be scaled to the nearest integer during simulations - 1.5\n",
      "WARNING:root:t_interval will be scaled to the nearest integer during simulations - 1.5\n",
      "WARNING:root:t_interval will be scaled to the nearest integer during simulations - 1.5\n",
      "WARNING:root:t_interval will be scaled to the nearest integer during simulations - 1.5\n"
     ]
    },
    {
     "output_type": "display_data",
     "data": {
      "text/plain": "HBox(children=(HTML(value='Simulation'), FloatProgress(value=0.0, max=1000.0), HTML(value='')))",
      "application/vnd.jupyter.widget-view+json": {
       "version_major": 2,
       "version_minor": 0,
       "model_id": "751409be61aa4db68ed2c8db7eade9b2"
      }
     },
     "metadata": {}
    },
    {
     "output_type": "stream",
     "name": "stderr",
     "text": [
      "WARNING:root:t_interval will be scaled to the nearest integer during simulations - 1.75\n",
      "WARNING:root:t_interval will be scaled to the nearest integer during simulations - 1.75\n",
      "WARNING:root:t_interval will be scaled to the nearest integer during simulations - 1.75\n",
      "WARNING:root:t_interval will be scaled to the nearest integer during simulations - 1.75\n",
      "WARNING:root:t_interval will be scaled to the nearest integer during simulations - 1.75\n"
     ]
    },
    {
     "output_type": "display_data",
     "data": {
      "text/plain": "HBox(children=(HTML(value='Simulation'), FloatProgress(value=0.0, max=1000.0), HTML(value='')))",
      "application/vnd.jupyter.widget-view+json": {
       "version_major": 2,
       "version_minor": 0,
       "model_id": "84a62345cc0d4fa8b859e24ccc340e6b"
      }
     },
     "metadata": {}
    },
    {
     "output_type": "display_data",
     "data": {
      "text/plain": "HBox(children=(HTML(value='Simulation'), FloatProgress(value=0.0, max=1000.0), HTML(value='')))",
      "application/vnd.jupyter.widget-view+json": {
       "version_major": 2,
       "version_minor": 0,
       "model_id": "01f4794ae223451aa94a4588b7af5a6e"
      }
     },
     "metadata": {}
    },
    {
     "output_type": "stream",
     "name": "stderr",
     "text": [
      "WARNING:root:t_interval will be scaled to the nearest integer during simulations - 2.25\n",
      "WARNING:root:t_interval will be scaled to the nearest integer during simulations - 2.25\n",
      "WARNING:root:t_interval will be scaled to the nearest integer during simulations - 2.25\n",
      "WARNING:root:t_interval will be scaled to the nearest integer during simulations - 2.25\n",
      "WARNING:root:t_interval will be scaled to the nearest integer during simulations - 2.25\n"
     ]
    },
    {
     "output_type": "display_data",
     "data": {
      "text/plain": "HBox(children=(HTML(value='Simulation'), FloatProgress(value=0.0, max=1000.0), HTML(value='')))",
      "application/vnd.jupyter.widget-view+json": {
       "version_major": 2,
       "version_minor": 0,
       "model_id": "688de61585444884a01757c3fc35f4cc"
      }
     },
     "metadata": {}
    },
    {
     "output_type": "stream",
     "name": "stderr",
     "text": [
      "WARNING:root:t_interval will be scaled to the nearest integer during simulations - 2.5\n",
      "WARNING:root:t_interval will be scaled to the nearest integer during simulations - 2.5\n",
      "WARNING:root:t_interval will be scaled to the nearest integer during simulations - 2.5\n",
      "WARNING:root:t_interval will be scaled to the nearest integer during simulations - 2.5\n",
      "WARNING:root:t_interval will be scaled to the nearest integer during simulations - 2.5\n"
     ]
    },
    {
     "output_type": "display_data",
     "data": {
      "text/plain": "HBox(children=(HTML(value='Simulation'), FloatProgress(value=0.0, max=1000.0), HTML(value='')))",
      "application/vnd.jupyter.widget-view+json": {
       "version_major": 2,
       "version_minor": 0,
       "model_id": "18466795ce334c70bbcaa20393d112dd"
      }
     },
     "metadata": {}
    },
    {
     "output_type": "stream",
     "name": "stderr",
     "text": [
      "WARNING:root:t_interval will be scaled to the nearest integer during simulations - 2.75\n",
      "WARNING:root:t_interval will be scaled to the nearest integer during simulations - 2.75\n",
      "WARNING:root:t_interval will be scaled to the nearest integer during simulations - 2.75\n",
      "WARNING:root:t_interval will be scaled to the nearest integer during simulations - 2.75\n",
      "WARNING:root:t_interval will be scaled to the nearest integer during simulations - 2.75\n"
     ]
    },
    {
     "output_type": "display_data",
     "data": {
      "text/plain": "HBox(children=(HTML(value='Simulation'), FloatProgress(value=0.0, max=1000.0), HTML(value='')))",
      "application/vnd.jupyter.widget-view+json": {
       "version_major": 2,
       "version_minor": 0,
       "model_id": "2ec057aff7a042cdb6d60fc25830afee"
      }
     },
     "metadata": {}
    },
    {
     "output_type": "display_data",
     "data": {
      "text/plain": "HBox(children=(HTML(value='Simulation'), FloatProgress(value=0.0, max=1000.0), HTML(value='')))",
      "application/vnd.jupyter.widget-view+json": {
       "version_major": 2,
       "version_minor": 0,
       "model_id": "4edb63ba729b461d86bca11f97519ec3"
      }
     },
     "metadata": {}
    },
    {
     "output_type": "stream",
     "name": "stderr",
     "text": [
      "WARNING:root:t_interval will be scaled to the nearest integer during simulations - 3.25\n",
      "WARNING:root:t_interval will be scaled to the nearest integer during simulations - 3.25\n",
      "WARNING:root:t_interval will be scaled to the nearest integer during simulations - 3.25\n",
      "WARNING:root:t_interval will be scaled to the nearest integer during simulations - 3.25\n",
      "WARNING:root:t_interval will be scaled to the nearest integer during simulations - 3.25\n"
     ]
    },
    {
     "output_type": "display_data",
     "data": {
      "text/plain": "HBox(children=(HTML(value='Simulation'), FloatProgress(value=0.0, max=1000.0), HTML(value='')))",
      "application/vnd.jupyter.widget-view+json": {
       "version_major": 2,
       "version_minor": 0,
       "model_id": "c8aac393a9dc46a18f37cc6c74385ae9"
      }
     },
     "metadata": {}
    },
    {
     "output_type": "stream",
     "name": "stderr",
     "text": [
      "WARNING:root:t_interval will be scaled to the nearest integer during simulations - 3.5\n",
      "WARNING:root:t_interval will be scaled to the nearest integer during simulations - 3.5\n",
      "WARNING:root:t_interval will be scaled to the nearest integer during simulations - 3.5\n",
      "WARNING:root:t_interval will be scaled to the nearest integer during simulations - 3.5\n",
      "WARNING:root:t_interval will be scaled to the nearest integer during simulations - 3.5\n"
     ]
    },
    {
     "output_type": "display_data",
     "data": {
      "text/plain": "HBox(children=(HTML(value='Simulation'), FloatProgress(value=0.0, max=1000.0), HTML(value='')))",
      "application/vnd.jupyter.widget-view+json": {
       "version_major": 2,
       "version_minor": 0,
       "model_id": "e9f6119d2aa34e6287f40c2dd8b5f24d"
      }
     },
     "metadata": {}
    },
    {
     "output_type": "stream",
     "name": "stderr",
     "text": [
      "WARNING:root:t_interval will be scaled to the nearest integer during simulations - 3.75\n",
      "WARNING:root:t_interval will be scaled to the nearest integer during simulations - 3.75\n",
      "WARNING:root:t_interval will be scaled to the nearest integer during simulations - 3.75\n",
      "WARNING:root:t_interval will be scaled to the nearest integer during simulations - 3.75\n",
      "WARNING:root:t_interval will be scaled to the nearest integer during simulations - 3.75\n"
     ]
    },
    {
     "output_type": "display_data",
     "data": {
      "text/plain": "HBox(children=(HTML(value='Simulation'), FloatProgress(value=0.0, max=1000.0), HTML(value='')))",
      "application/vnd.jupyter.widget-view+json": {
       "version_major": 2,
       "version_minor": 0,
       "model_id": "a8f31d5b59bf40caa0f4c74fb87d5dcb"
      }
     },
     "metadata": {}
    },
    {
     "output_type": "display_data",
     "data": {
      "text/plain": "HBox(children=(HTML(value='Simulation'), FloatProgress(value=0.0, max=1000.0), HTML(value='')))",
      "application/vnd.jupyter.widget-view+json": {
       "version_major": 2,
       "version_minor": 0,
       "model_id": "1aad85a4db7e4940ba11ec0c69992820"
      }
     },
     "metadata": {}
    },
    {
     "output_type": "stream",
     "name": "stderr",
     "text": [
      "WARNING:root:t_interval will be scaled to the nearest integer during simulations - 4.25\n",
      "WARNING:root:t_interval will be scaled to the nearest integer during simulations - 4.25\n",
      "WARNING:root:t_interval will be scaled to the nearest integer during simulations - 4.25\n",
      "WARNING:root:t_interval will be scaled to the nearest integer during simulations - 4.25\n",
      "WARNING:root:t_interval will be scaled to the nearest integer during simulations - 4.25\n"
     ]
    },
    {
     "output_type": "display_data",
     "data": {
      "text/plain": "HBox(children=(HTML(value='Simulation'), FloatProgress(value=0.0, max=1000.0), HTML(value='')))",
      "application/vnd.jupyter.widget-view+json": {
       "version_major": 2,
       "version_minor": 0,
       "model_id": "0a25f9e1159a432bb8c8845b4292e1b2"
      }
     },
     "metadata": {}
    },
    {
     "output_type": "stream",
     "name": "stderr",
     "text": [
      "WARNING:root:t_interval will be scaled to the nearest integer during simulations - 4.5\n",
      "WARNING:root:t_interval will be scaled to the nearest integer during simulations - 4.5\n",
      "WARNING:root:t_interval will be scaled to the nearest integer during simulations - 4.5\n",
      "WARNING:root:t_interval will be scaled to the nearest integer during simulations - 4.5\n",
      "WARNING:root:t_interval will be scaled to the nearest integer during simulations - 4.5\n"
     ]
    },
    {
     "output_type": "display_data",
     "data": {
      "text/plain": "HBox(children=(HTML(value='Simulation'), FloatProgress(value=0.0, max=1000.0), HTML(value='')))",
      "application/vnd.jupyter.widget-view+json": {
       "version_major": 2,
       "version_minor": 0,
       "model_id": "8f74fc687d6545c39a036b25f1be54da"
      }
     },
     "metadata": {}
    },
    {
     "output_type": "stream",
     "name": "stderr",
     "text": [
      "WARNING:root:t_interval will be scaled to the nearest integer during simulations - 4.75\n",
      "WARNING:root:t_interval will be scaled to the nearest integer during simulations - 4.75\n",
      "WARNING:root:t_interval will be scaled to the nearest integer during simulations - 4.75\n",
      "WARNING:root:t_interval will be scaled to the nearest integer during simulations - 4.75\n",
      "WARNING:root:t_interval will be scaled to the nearest integer during simulations - 4.75\n"
     ]
    },
    {
     "output_type": "display_data",
     "data": {
      "text/plain": "HBox(children=(HTML(value='Simulation'), FloatProgress(value=0.0, max=1000.0), HTML(value='')))",
      "application/vnd.jupyter.widget-view+json": {
       "version_major": 2,
       "version_minor": 0,
       "model_id": "e8733a81cfde4621970fb7a1e4f7b6f4"
      }
     },
     "metadata": {}
    },
    {
     "output_type": "display_data",
     "data": {
      "text/plain": "HBox(children=(HTML(value='Simulation'), FloatProgress(value=0.0, max=1000.0), HTML(value='')))",
      "application/vnd.jupyter.widget-view+json": {
       "version_major": 2,
       "version_minor": 0,
       "model_id": "7daab847e4ea4601984a13fcbcabce1f"
      }
     },
     "metadata": {}
    },
    {
     "output_type": "stream",
     "name": "stderr",
     "text": [
      "WARNING:root:t_interval will be scaled to the nearest integer during simulations - 5.25\n",
      "WARNING:root:t_interval will be scaled to the nearest integer during simulations - 5.25\n",
      "WARNING:root:t_interval will be scaled to the nearest integer during simulations - 5.25\n",
      "WARNING:root:t_interval will be scaled to the nearest integer during simulations - 5.25\n",
      "WARNING:root:t_interval will be scaled to the nearest integer during simulations - 5.25\n"
     ]
    },
    {
     "output_type": "display_data",
     "data": {
      "text/plain": "HBox(children=(HTML(value='Simulation'), FloatProgress(value=0.0, max=1000.0), HTML(value='')))",
      "application/vnd.jupyter.widget-view+json": {
       "version_major": 2,
       "version_minor": 0,
       "model_id": "51670936f0c8458aa69ffa352f148a61"
      }
     },
     "metadata": {}
    },
    {
     "output_type": "stream",
     "name": "stderr",
     "text": [
      "WARNING:root:t_interval will be scaled to the nearest integer during simulations - 5.5\n",
      "WARNING:root:t_interval will be scaled to the nearest integer during simulations - 5.5\n",
      "WARNING:root:t_interval will be scaled to the nearest integer during simulations - 5.5\n",
      "WARNING:root:t_interval will be scaled to the nearest integer during simulations - 5.5\n",
      "WARNING:root:t_interval will be scaled to the nearest integer during simulations - 5.5\n"
     ]
    },
    {
     "output_type": "display_data",
     "data": {
      "text/plain": "HBox(children=(HTML(value='Simulation'), FloatProgress(value=0.0, max=1000.0), HTML(value='')))",
      "application/vnd.jupyter.widget-view+json": {
       "version_major": 2,
       "version_minor": 0,
       "model_id": "125a893cb09d4250ad945db23e14735c"
      }
     },
     "metadata": {}
    },
    {
     "output_type": "stream",
     "name": "stderr",
     "text": [
      "WARNING:root:t_interval will be scaled to the nearest integer during simulations - 5.75\n",
      "WARNING:root:t_interval will be scaled to the nearest integer during simulations - 5.75\n",
      "WARNING:root:t_interval will be scaled to the nearest integer during simulations - 5.75\n",
      "WARNING:root:t_interval will be scaled to the nearest integer during simulations - 5.75\n",
      "WARNING:root:t_interval will be scaled to the nearest integer during simulations - 5.75\n"
     ]
    },
    {
     "output_type": "display_data",
     "data": {
      "text/plain": "HBox(children=(HTML(value='Simulation'), FloatProgress(value=0.0, max=1000.0), HTML(value='')))",
      "application/vnd.jupyter.widget-view+json": {
       "version_major": 2,
       "version_minor": 0,
       "model_id": "4b4b2f12e6c5495a9bb92d495df39d88"
      }
     },
     "metadata": {}
    },
    {
     "output_type": "display_data",
     "data": {
      "text/plain": "HBox(children=(HTML(value='Simulation'), FloatProgress(value=0.0, max=1000.0), HTML(value='')))",
      "application/vnd.jupyter.widget-view+json": {
       "version_major": 2,
       "version_minor": 0,
       "model_id": "83b686e940ec4e5686a18e1df05d012a"
      }
     },
     "metadata": {}
    },
    {
     "output_type": "stream",
     "name": "stderr",
     "text": [
      "WARNING:root:t_interval will be scaled to the nearest integer during simulations - 6.25\n",
      "WARNING:root:t_interval will be scaled to the nearest integer during simulations - 6.25\n",
      "WARNING:root:t_interval will be scaled to the nearest integer during simulations - 6.25\n",
      "WARNING:root:t_interval will be scaled to the nearest integer during simulations - 6.25\n",
      "WARNING:root:t_interval will be scaled to the nearest integer during simulations - 6.25\n"
     ]
    },
    {
     "output_type": "display_data",
     "data": {
      "text/plain": "HBox(children=(HTML(value='Simulation'), FloatProgress(value=0.0, max=1000.0), HTML(value='')))",
      "application/vnd.jupyter.widget-view+json": {
       "version_major": 2,
       "version_minor": 0,
       "model_id": "7ff6a0d3019c45faa458e4f041c2b2ce"
      }
     },
     "metadata": {}
    },
    {
     "output_type": "stream",
     "name": "stderr",
     "text": [
      "WARNING:root:t_interval will be scaled to the nearest integer during simulations - 6.5\n",
      "WARNING:root:t_interval will be scaled to the nearest integer during simulations - 6.5\n",
      "WARNING:root:t_interval will be scaled to the nearest integer during simulations - 6.5\n",
      "WARNING:root:t_interval will be scaled to the nearest integer during simulations - 6.5\n",
      "WARNING:root:t_interval will be scaled to the nearest integer during simulations - 6.5\n"
     ]
    },
    {
     "output_type": "display_data",
     "data": {
      "text/plain": "HBox(children=(HTML(value='Simulation'), FloatProgress(value=0.0, max=1000.0), HTML(value='')))",
      "application/vnd.jupyter.widget-view+json": {
       "version_major": 2,
       "version_minor": 0,
       "model_id": "9a384bfb6684493aab47e40a775e787d"
      }
     },
     "metadata": {}
    },
    {
     "output_type": "stream",
     "name": "stderr",
     "text": [
      "WARNING:root:t_interval will be scaled to the nearest integer during simulations - 6.75\n",
      "WARNING:root:t_interval will be scaled to the nearest integer during simulations - 6.75\n",
      "WARNING:root:t_interval will be scaled to the nearest integer during simulations - 6.75\n",
      "WARNING:root:t_interval will be scaled to the nearest integer during simulations - 6.75\n",
      "WARNING:root:t_interval will be scaled to the nearest integer during simulations - 6.75\n"
     ]
    },
    {
     "output_type": "display_data",
     "data": {
      "text/plain": "HBox(children=(HTML(value='Simulation'), FloatProgress(value=0.0, max=1000.0), HTML(value='')))",
      "application/vnd.jupyter.widget-view+json": {
       "version_major": 2,
       "version_minor": 0,
       "model_id": "b3ed0b060fce410699577d6ea7d9b218"
      }
     },
     "metadata": {}
    },
    {
     "output_type": "display_data",
     "data": {
      "text/plain": "HBox(children=(HTML(value='Simulation'), FloatProgress(value=0.0, max=1000.0), HTML(value='')))",
      "application/vnd.jupyter.widget-view+json": {
       "version_major": 2,
       "version_minor": 0,
       "model_id": "0add74ba79a44b4b85ab74ece19bb122"
      }
     },
     "metadata": {}
    },
    {
     "output_type": "stream",
     "name": "stderr",
     "text": [
      "WARNING:root:t_interval will be scaled to the nearest integer during simulations - 7.25\n",
      "WARNING:root:t_interval will be scaled to the nearest integer during simulations - 7.25\n",
      "WARNING:root:t_interval will be scaled to the nearest integer during simulations - 7.25\n",
      "WARNING:root:t_interval will be scaled to the nearest integer during simulations - 7.25\n",
      "WARNING:root:t_interval will be scaled to the nearest integer during simulations - 7.25\n"
     ]
    },
    {
     "output_type": "display_data",
     "data": {
      "text/plain": "HBox(children=(HTML(value='Simulation'), FloatProgress(value=0.0, max=1000.0), HTML(value='')))",
      "application/vnd.jupyter.widget-view+json": {
       "version_major": 2,
       "version_minor": 0,
       "model_id": "9d4bdf209fb64f34a7fc4b4882509550"
      }
     },
     "metadata": {}
    },
    {
     "output_type": "stream",
     "name": "stderr",
     "text": [
      "WARNING:root:t_interval will be scaled to the nearest integer during simulations - 7.5\n",
      "WARNING:root:t_interval will be scaled to the nearest integer during simulations - 7.5\n",
      "WARNING:root:t_interval will be scaled to the nearest integer during simulations - 7.5\n",
      "WARNING:root:t_interval will be scaled to the nearest integer during simulations - 7.5\n",
      "WARNING:root:t_interval will be scaled to the nearest integer during simulations - 7.5\n"
     ]
    },
    {
     "output_type": "display_data",
     "data": {
      "text/plain": "HBox(children=(HTML(value='Simulation'), FloatProgress(value=0.0, max=1000.0), HTML(value='')))",
      "application/vnd.jupyter.widget-view+json": {
       "version_major": 2,
       "version_minor": 0,
       "model_id": "ef6ccb3878b34764be7517f3fb326d3d"
      }
     },
     "metadata": {}
    },
    {
     "output_type": "stream",
     "name": "stderr",
     "text": [
      "WARNING:root:t_interval will be scaled to the nearest integer during simulations - 7.75\n",
      "WARNING:root:t_interval will be scaled to the nearest integer during simulations - 7.75\n",
      "WARNING:root:t_interval will be scaled to the nearest integer during simulations - 7.75\n",
      "WARNING:root:t_interval will be scaled to the nearest integer during simulations - 7.75\n",
      "WARNING:root:t_interval will be scaled to the nearest integer during simulations - 7.75\n"
     ]
    },
    {
     "output_type": "display_data",
     "data": {
      "text/plain": "HBox(children=(HTML(value='Simulation'), FloatProgress(value=0.0, max=1000.0), HTML(value='')))",
      "application/vnd.jupyter.widget-view+json": {
       "version_major": 2,
       "version_minor": 0,
       "model_id": "548083cd9a5b454a9a86c5f8123fbdb9"
      }
     },
     "metadata": {}
    },
    {
     "output_type": "display_data",
     "data": {
      "text/plain": "HBox(children=(HTML(value='Simulation'), FloatProgress(value=0.0, max=1000.0), HTML(value='')))",
      "application/vnd.jupyter.widget-view+json": {
       "version_major": 2,
       "version_minor": 0,
       "model_id": "fd8138f52e8b431c9d192ca73246f932"
      }
     },
     "metadata": {}
    },
    {
     "output_type": "stream",
     "name": "stderr",
     "text": [
      "WARNING:root:t_interval will be scaled to the nearest integer during simulations - 8.25\n",
      "WARNING:root:t_interval will be scaled to the nearest integer during simulations - 8.25\n",
      "WARNING:root:t_interval will be scaled to the nearest integer during simulations - 8.25\n",
      "WARNING:root:t_interval will be scaled to the nearest integer during simulations - 8.25\n",
      "WARNING:root:t_interval will be scaled to the nearest integer during simulations - 8.25\n"
     ]
    },
    {
     "output_type": "display_data",
     "data": {
      "text/plain": "HBox(children=(HTML(value='Simulation'), FloatProgress(value=0.0, max=1000.0), HTML(value='')))",
      "application/vnd.jupyter.widget-view+json": {
       "version_major": 2,
       "version_minor": 0,
       "model_id": "1619025045d7472bb3c35c2db2a0062b"
      }
     },
     "metadata": {}
    },
    {
     "output_type": "stream",
     "name": "stderr",
     "text": [
      "WARNING:root:t_interval will be scaled to the nearest integer during simulations - 8.5\n",
      "WARNING:root:t_interval will be scaled to the nearest integer during simulations - 8.5\n",
      "WARNING:root:t_interval will be scaled to the nearest integer during simulations - 8.5\n",
      "WARNING:root:t_interval will be scaled to the nearest integer during simulations - 8.5\n",
      "WARNING:root:t_interval will be scaled to the nearest integer during simulations - 8.5\n"
     ]
    },
    {
     "output_type": "display_data",
     "data": {
      "text/plain": "HBox(children=(HTML(value='Simulation'), FloatProgress(value=0.0, max=1000.0), HTML(value='')))",
      "application/vnd.jupyter.widget-view+json": {
       "version_major": 2,
       "version_minor": 0,
       "model_id": "97cefb43508147149533bc61ccfb5b97"
      }
     },
     "metadata": {}
    },
    {
     "output_type": "stream",
     "name": "stderr",
     "text": [
      "WARNING:root:t_interval will be scaled to the nearest integer during simulations - 8.75\n",
      "WARNING:root:t_interval will be scaled to the nearest integer during simulations - 8.75\n",
      "WARNING:root:t_interval will be scaled to the nearest integer during simulations - 8.75\n",
      "WARNING:root:t_interval will be scaled to the nearest integer during simulations - 8.75\n",
      "WARNING:root:t_interval will be scaled to the nearest integer during simulations - 8.75\n"
     ]
    },
    {
     "output_type": "display_data",
     "data": {
      "text/plain": "HBox(children=(HTML(value='Simulation'), FloatProgress(value=0.0, max=1000.0), HTML(value='')))",
      "application/vnd.jupyter.widget-view+json": {
       "version_major": 2,
       "version_minor": 0,
       "model_id": "476dc53de4164c24826f76707157974d"
      }
     },
     "metadata": {}
    },
    {
     "output_type": "stream",
     "name": "stdout",
     "text": [
      "\n\n"
     ]
    },
    {
     "output_type": "error",
     "ename": "KeyboardInterrupt",
     "evalue": "",
     "traceback": [
      "\u001b[1;31m---------------------------------------------------------------------------\u001b[0m",
      "\u001b[1;31mKeyboardInterrupt\u001b[0m                         Traceback (most recent call last)",
      "\u001b[1;32m<ipython-input-95-2bccd3d76244>\u001b[0m in \u001b[0;36m<module>\u001b[1;34m\u001b[0m\n\u001b[0;32m      2\u001b[0m \u001b[0mcomp\u001b[0m\u001b[1;33m.\u001b[0m\u001b[0munits\u001b[0m \u001b[1;33m=\u001b[0m \u001b[0mmodel_units\u001b[0m\u001b[1;33m\u001b[0m\u001b[1;33m\u001b[0m\u001b[0m\n\u001b[0;32m      3\u001b[0m \u001b[1;33m\u001b[0m\u001b[0m\n\u001b[1;32m----> 4\u001b[1;33m \u001b[0mdf_sens_chain\u001b[0m \u001b[1;33m=\u001b[0m \u001b[0mcomp\u001b[0m\u001b[1;33m.\u001b[0m\u001b[0msensitivty_chain\u001b[0m\u001b[1;33m(\u001b[0m\u001b[0msens_vars\u001b[0m\u001b[1;33m,\u001b[0m \u001b[0mt_end\u001b[0m\u001b[1;33m=\u001b[0m\u001b[0mt_end\u001b[0m\u001b[1;33m,\u001b[0m \u001b[0mn_iterations\u001b[0m\u001b[1;33m=\u001b[0m\u001b[0mn_iterations\u001b[0m\u001b[1;33m)\u001b[0m\u001b[1;33m\u001b[0m\u001b[1;33m\u001b[0m\u001b[0m\n\u001b[0m\u001b[0;32m      5\u001b[0m \u001b[1;33m\u001b[0m\u001b[0m\n\u001b[0;32m      6\u001b[0m \u001b[0mdf_rolling\u001b[0m \u001b[1;33m=\u001b[0m \u001b[0mrolling_mean\u001b[0m\u001b[1;33m(\u001b[0m\u001b[0mdf_sens_chain\u001b[0m\u001b[1;33m,\u001b[0m \u001b[0mwindow\u001b[0m\u001b[1;33m=\u001b[0m\u001b[0mwindow\u001b[0m\u001b[1;33m)\u001b[0m\u001b[1;33m\u001b[0m\u001b[1;33m\u001b[0m\u001b[0m\n",
      "\u001b[1;32m~\\OneDrive - KPMG\\Documents\\3. Client\\Essential Energy\\Probability of Failure Model\\pof\\pof\\component.py\u001b[0m in \u001b[0;36msensitivty_chain\u001b[1;34m(self, sens_vars, n_iterations, t_end)\u001b[0m\n\u001b[0;32m    695\u001b[0m                 \u001b[0mself\u001b[0m\u001b[1;33m.\u001b[0m\u001b[0mupdate\u001b[0m\u001b[1;33m(\u001b[0m\u001b[0mvar_id\u001b[0m\u001b[1;33m,\u001b[0m \u001b[0mupdate_val\u001b[0m\u001b[1;33m)\u001b[0m\u001b[1;33m\u001b[0m\u001b[1;33m\u001b[0m\u001b[0m\n\u001b[0;32m    696\u001b[0m \u001b[1;33m\u001b[0m\u001b[0m\n\u001b[1;32m--> 697\u001b[1;33m                 results[update_val] = self.sensitivty_chain(\n\u001b[0m\u001b[0;32m    698\u001b[0m                     \u001b[0msens_vars\u001b[0m\u001b[1;33m,\u001b[0m \u001b[0mt_end\u001b[0m\u001b[1;33m=\u001b[0m\u001b[0mt_end\u001b[0m\u001b[1;33m,\u001b[0m \u001b[0mn_iterations\u001b[0m\u001b[1;33m=\u001b[0m\u001b[0mn_iterations\u001b[0m\u001b[1;33m\u001b[0m\u001b[1;33m\u001b[0m\u001b[0m\n\u001b[0;32m    699\u001b[0m                 )\n",
      "\u001b[1;32m~\\OneDrive - KPMG\\Documents\\3. Client\\Essential Energy\\Probability of Failure Model\\pof\\pof\\component.py\u001b[0m in \u001b[0;36msensitivty_chain\u001b[1;34m(self, sens_vars, n_iterations, t_end)\u001b[0m\n\u001b[0;32m    695\u001b[0m                 \u001b[0mself\u001b[0m\u001b[1;33m.\u001b[0m\u001b[0mupdate\u001b[0m\u001b[1;33m(\u001b[0m\u001b[0mvar_id\u001b[0m\u001b[1;33m,\u001b[0m \u001b[0mupdate_val\u001b[0m\u001b[1;33m)\u001b[0m\u001b[1;33m\u001b[0m\u001b[1;33m\u001b[0m\u001b[0m\n\u001b[0;32m    696\u001b[0m \u001b[1;33m\u001b[0m\u001b[0m\n\u001b[1;32m--> 697\u001b[1;33m                 results[update_val] = self.sensitivty_chain(\n\u001b[0m\u001b[0;32m    698\u001b[0m                     \u001b[0msens_vars\u001b[0m\u001b[1;33m,\u001b[0m \u001b[0mt_end\u001b[0m\u001b[1;33m=\u001b[0m\u001b[0mt_end\u001b[0m\u001b[1;33m,\u001b[0m \u001b[0mn_iterations\u001b[0m\u001b[1;33m=\u001b[0m\u001b[0mn_iterations\u001b[0m\u001b[1;33m\u001b[0m\u001b[1;33m\u001b[0m\u001b[0m\n\u001b[0;32m    699\u001b[0m                 )\n",
      "\u001b[1;32m~\\OneDrive - KPMG\\Documents\\3. Client\\Essential Energy\\Probability of Failure Model\\pof\\pof\\component.py\u001b[0m in \u001b[0;36msensitivty_chain\u001b[1;34m(self, sens_vars, n_iterations, t_end)\u001b[0m\n\u001b[0;32m    679\u001b[0m             \u001b[1;31m# Simulate\u001b[0m\u001b[1;33m\u001b[0m\u001b[1;33m\u001b[0m\u001b[1;33m\u001b[0m\u001b[0m\n\u001b[0;32m    680\u001b[0m             \u001b[0mself\u001b[0m\u001b[1;33m.\u001b[0m\u001b[0mreset\u001b[0m\u001b[1;33m(\u001b[0m\u001b[1;33m)\u001b[0m\u001b[1;33m\u001b[0m\u001b[1;33m\u001b[0m\u001b[0m\n\u001b[1;32m--> 681\u001b[1;33m             \u001b[0mself\u001b[0m\u001b[1;33m.\u001b[0m\u001b[0mmp_timeline\u001b[0m\u001b[1;33m(\u001b[0m\u001b[0mt_end\u001b[0m\u001b[1;33m=\u001b[0m\u001b[0mt_end\u001b[0m\u001b[1;33m,\u001b[0m \u001b[0mn_iterations\u001b[0m\u001b[1;33m=\u001b[0m\u001b[0mn_iterations\u001b[0m\u001b[1;33m)\u001b[0m\u001b[1;33m\u001b[0m\u001b[1;33m\u001b[0m\u001b[0m\n\u001b[0m\u001b[0;32m    682\u001b[0m \u001b[1;33m\u001b[0m\u001b[0m\n\u001b[0;32m    683\u001b[0m             \u001b[1;31m# Report\u001b[0m\u001b[1;33m\u001b[0m\u001b[1;33m\u001b[0m\u001b[1;33m\u001b[0m\u001b[0m\n",
      "\u001b[1;32m~\\OneDrive - KPMG\\Documents\\3. Client\\Essential Energy\\Probability of Failure Model\\pof\\pof\\component.py\u001b[0m in \u001b[0;36mmp_timeline\u001b[1;34m(self, t_end, t_start, n_iterations)\u001b[0m\n\u001b[0;32m    205\u001b[0m \u001b[1;33m\u001b[0m\u001b[0m\n\u001b[0;32m    206\u001b[0m                 \u001b[1;31m# Complete a simulation\u001b[0m\u001b[1;33m\u001b[0m\u001b[1;33m\u001b[0m\u001b[1;33m\u001b[0m\u001b[0m\n\u001b[1;32m--> 207\u001b[1;33m                 \u001b[0mself\u001b[0m\u001b[1;33m.\u001b[0m\u001b[0msim_timeline\u001b[0m\u001b[1;33m(\u001b[0m\u001b[0mt_end\u001b[0m\u001b[1;33m=\u001b[0m\u001b[0mt_end\u001b[0m\u001b[1;33m,\u001b[0m \u001b[0mt_start\u001b[0m\u001b[1;33m=\u001b[0m\u001b[0mt_start\u001b[0m\u001b[1;33m)\u001b[0m\u001b[1;33m\u001b[0m\u001b[1;33m\u001b[0m\u001b[0m\n\u001b[0m\u001b[0;32m    208\u001b[0m                 \u001b[0mself\u001b[0m\u001b[1;33m.\u001b[0m\u001b[0msave_timeline\u001b[0m\u001b[1;33m(\u001b[0m\u001b[0mself\u001b[0m\u001b[1;33m.\u001b[0m\u001b[0mn\u001b[0m\u001b[1;33m)\u001b[0m\u001b[1;33m\u001b[0m\u001b[1;33m\u001b[0m\u001b[0m\n\u001b[0;32m    209\u001b[0m                 \u001b[0mself\u001b[0m\u001b[1;33m.\u001b[0m\u001b[0mincrement_counter\u001b[0m\u001b[1;33m(\u001b[0m\u001b[1;33m)\u001b[0m\u001b[1;33m\u001b[0m\u001b[1;33m\u001b[0m\u001b[0m\n",
      "\u001b[1;32m~\\OneDrive - KPMG\\Documents\\3. Client\\Essential Energy\\Probability of Failure Model\\pof\\pof\\component.py\u001b[0m in \u001b[0;36msim_timeline\u001b[1;34m(self, t_end, t_start)\u001b[0m\n\u001b[0;32m    231\u001b[0m \u001b[1;33m\u001b[0m\u001b[0m\n\u001b[0;32m    232\u001b[0m         \u001b[1;31m# Initialise the failure modes\u001b[0m\u001b[1;33m\u001b[0m\u001b[1;33m\u001b[0m\u001b[1;33m\u001b[0m\u001b[0m\n\u001b[1;32m--> 233\u001b[1;33m         \u001b[0mtimeline\u001b[0m \u001b[1;33m=\u001b[0m \u001b[0mself\u001b[0m\u001b[1;33m.\u001b[0m\u001b[0minit_timeline\u001b[0m\u001b[1;33m(\u001b[0m\u001b[0mt_start\u001b[0m\u001b[1;33m=\u001b[0m\u001b[0mt_start\u001b[0m\u001b[1;33m,\u001b[0m \u001b[0mt_end\u001b[0m\u001b[1;33m=\u001b[0m\u001b[0mt_end\u001b[0m\u001b[1;33m)\u001b[0m\u001b[1;33m\u001b[0m\u001b[1;33m\u001b[0m\u001b[0m\n\u001b[0m\u001b[0;32m    234\u001b[0m \u001b[1;33m\u001b[0m\u001b[0m\n\u001b[0;32m    235\u001b[0m         \u001b[0mt_now\u001b[0m \u001b[1;33m=\u001b[0m \u001b[0mt_start\u001b[0m\u001b[1;33m\u001b[0m\u001b[1;33m\u001b[0m\u001b[0m\n",
      "\u001b[1;32m~\\OneDrive - KPMG\\Documents\\3. Client\\Essential Energy\\Probability of Failure Model\\pof\\pof\\component.py\u001b[0m in \u001b[0;36minit_timeline\u001b[1;34m(self, t_end, t_start)\u001b[0m\n\u001b[0;32m    255\u001b[0m \u001b[1;33m\u001b[0m\u001b[0m\n\u001b[0;32m    256\u001b[0m         \u001b[1;32mfor\u001b[0m \u001b[0mfm\u001b[0m \u001b[1;32min\u001b[0m \u001b[0mself\u001b[0m\u001b[1;33m.\u001b[0m\u001b[0mfm\u001b[0m\u001b[1;33m.\u001b[0m\u001b[0mvalues\u001b[0m\u001b[1;33m(\u001b[0m\u001b[1;33m)\u001b[0m\u001b[1;33m:\u001b[0m\u001b[1;33m\u001b[0m\u001b[1;33m\u001b[0m\u001b[0m\n\u001b[1;32m--> 257\u001b[1;33m             \u001b[0mfm\u001b[0m\u001b[1;33m.\u001b[0m\u001b[0minit_timeline\u001b[0m\u001b[1;33m(\u001b[0m\u001b[0mt_start\u001b[0m\u001b[1;33m=\u001b[0m\u001b[0mt_start\u001b[0m\u001b[1;33m,\u001b[0m \u001b[0mt_end\u001b[0m\u001b[1;33m=\u001b[0m\u001b[0mt_end\u001b[0m\u001b[1;33m)\u001b[0m\u001b[1;33m\u001b[0m\u001b[1;33m\u001b[0m\u001b[0m\n\u001b[0m\u001b[0;32m    258\u001b[0m \u001b[1;33m\u001b[0m\u001b[0m\n\u001b[0;32m    259\u001b[0m         \u001b[1;32mreturn\u001b[0m \u001b[0mtimeline\u001b[0m\u001b[1;33m\u001b[0m\u001b[1;33m\u001b[0m\u001b[0m\n",
      "\u001b[1;32m~\\OneDrive - KPMG\\Documents\\3. Client\\Essential Energy\\Probability of Failure Model\\pof\\pof\\failure_mode.py\u001b[0m in \u001b[0;36minit_timeline\u001b[1;34m(self, t_end, t_start)\u001b[0m\n\u001b[0;32m    426\u001b[0m                 \u001b[0mupdates\u001b[0m\u001b[1;33m[\u001b[0m\u001b[0mtask\u001b[0m\u001b[1;33m.\u001b[0m\u001b[0mname\u001b[0m\u001b[1;33m]\u001b[0m \u001b[1;33m=\u001b[0m \u001b[1;32mNone\u001b[0m\u001b[1;33m\u001b[0m\u001b[1;33m\u001b[0m\u001b[0m\n\u001b[0;32m    427\u001b[0m \u001b[1;33m\u001b[0m\u001b[0m\n\u001b[1;32m--> 428\u001b[1;33m             \u001b[0mself\u001b[0m\u001b[1;33m.\u001b[0m\u001b[0mupdate_timeline\u001b[0m\u001b[1;33m(\u001b[0m\u001b[0mt_start\u001b[0m\u001b[1;33m=\u001b[0m\u001b[0mt_start\u001b[0m\u001b[1;33m,\u001b[0m \u001b[0mt_end\u001b[0m\u001b[1;33m=\u001b[0m\u001b[0mt_end\u001b[0m\u001b[1;33m,\u001b[0m \u001b[0mupdates\u001b[0m\u001b[1;33m=\u001b[0m\u001b[0mupdates\u001b[0m\u001b[1;33m)\u001b[0m\u001b[1;33m\u001b[0m\u001b[1;33m\u001b[0m\u001b[0m\n\u001b[0m\u001b[0;32m    429\u001b[0m \u001b[1;33m\u001b[0m\u001b[0m\n\u001b[0;32m    430\u001b[0m         \u001b[1;32mreturn\u001b[0m \u001b[0mself\u001b[0m\u001b[1;33m.\u001b[0m\u001b[0mtimeline\u001b[0m\u001b[1;33m\u001b[0m\u001b[1;33m\u001b[0m\u001b[0m\n",
      "\u001b[1;32m~\\OneDrive - KPMG\\Documents\\3. Client\\Essential Energy\\Probability of Failure Model\\pof\\pof\\failure_mode.py\u001b[0m in \u001b[0;36mupdate_timeline\u001b[1;34m(self, t_start, t_end, updates)\u001b[0m\n\u001b[0;32m    519\u001b[0m                     \u001b[1;31m# Set t_start and t_stop based\u001b[0m\u001b[1;33m\u001b[0m\u001b[1;33m\u001b[0m\u001b[1;33m\u001b[0m\u001b[0m\n\u001b[0;32m    520\u001b[0m                     \u001b[1;32mif\u001b[0m \u001b[0mcond_name\u001b[0m \u001b[1;32min\u001b[0m \u001b[0mself\u001b[0m\u001b[1;33m.\u001b[0m\u001b[0mconditions\u001b[0m\u001b[1;33m:\u001b[0m\u001b[1;33m\u001b[0m\u001b[1;33m\u001b[0m\u001b[0m\n\u001b[1;32m--> 521\u001b[1;33m                         self.timeline[cond_name][t_start:] = self.indicators[\n\u001b[0m\u001b[0;32m    522\u001b[0m                             \u001b[0mcond_name\u001b[0m\u001b[1;33m\u001b[0m\u001b[1;33m\u001b[0m\u001b[0m\n\u001b[0;32m    523\u001b[0m                         \u001b[1;33m]\u001b[0m\u001b[1;33m.\u001b[0m\u001b[0msim_timeline\u001b[0m\u001b[1;33m(\u001b[0m\u001b[1;33m\u001b[0m\u001b[1;33m\u001b[0m\u001b[0m\n",
      "\u001b[1;32m~\\OneDrive - KPMG\\Documents\\3. Client\\Essential Energy\\Probability of Failure Model\\pof\\pof\\indicator.py\u001b[0m in \u001b[0;36msim_timeline\u001b[1;34m(self, t_stop, t_delay, t_start, pf_interval, pf_std, name)\u001b[0m\n\u001b[0;32m    732\u001b[0m \u001b[1;33m\u001b[0m\u001b[0m\n\u001b[0;32m    733\u001b[0m         \u001b[1;32mif\u001b[0m \u001b[0mname\u001b[0m \u001b[1;32mnot\u001b[0m \u001b[1;32min\u001b[0m \u001b[0mself\u001b[0m\u001b[1;33m.\u001b[0m\u001b[0m_timeline\u001b[0m\u001b[1;33m:\u001b[0m\u001b[1;33m\u001b[0m\u001b[1;33m\u001b[0m\u001b[0m\n\u001b[1;32m--> 734\u001b[1;33m             self._timeline[name] = self._sim_timeline(\n\u001b[0m\u001b[0;32m    735\u001b[0m                 \u001b[0mt_start\u001b[0m\u001b[1;33m=\u001b[0m\u001b[0mt_start\u001b[0m\u001b[1;33m,\u001b[0m \u001b[0mt_stop\u001b[0m\u001b[1;33m=\u001b[0m\u001b[0mt_stop\u001b[0m\u001b[1;33m,\u001b[0m \u001b[0mpf_interval\u001b[0m\u001b[1;33m=\u001b[0m\u001b[0mpf_interval\u001b[0m\u001b[1;33m,\u001b[0m \u001b[0mname\u001b[0m\u001b[1;33m=\u001b[0m\u001b[0mname\u001b[0m\u001b[1;33m\u001b[0m\u001b[1;33m\u001b[0m\u001b[0m\n\u001b[0;32m    736\u001b[0m             )\n",
      "\u001b[1;32m~\\OneDrive - KPMG\\Documents\\3. Client\\Essential Energy\\Probability of Failure Model\\pof\\pof\\indicator.py\u001b[0m in \u001b[0;36m_sim_timeline\u001b[1;34m(self, t_stop, t_start, pf_interval, pf_std, name)\u001b[0m\n\u001b[0;32m    773\u001b[0m \u001b[1;33m\u001b[0m\u001b[0m\n\u001b[0;32m    774\u001b[0m         \u001b[1;31m# Get the timeline\u001b[0m\u001b[1;33m\u001b[0m\u001b[1;33m\u001b[0m\u001b[1;33m\u001b[0m\u001b[0m\n\u001b[1;32m--> 775\u001b[1;33m         timeline = self._acc_timeline(\n\u001b[0m\u001b[0;32m    776\u001b[0m             \u001b[0mt_start\u001b[0m\u001b[1;33m=\u001b[0m\u001b[0mt_start\u001b[0m\u001b[1;33m,\u001b[0m \u001b[0mt_stop\u001b[0m\u001b[1;33m=\u001b[0m\u001b[0mt_stop\u001b[0m\u001b[1;33m,\u001b[0m \u001b[0mpf_interval\u001b[0m\u001b[1;33m=\u001b[0m\u001b[0mpf_interval\u001b[0m\u001b[1;33m\u001b[0m\u001b[1;33m\u001b[0m\u001b[0m\n\u001b[0;32m    777\u001b[0m         )  # , name=name\n",
      "\u001b[1;32m~\\OneDrive - KPMG\\Documents\\3. Client\\Essential Energy\\Probability of Failure Model\\pof\\pof\\indicator.py\u001b[0m in \u001b[0;36m_acc_timeline\u001b[1;34m(self, t_start, t_stop, pf_interval, name)\u001b[0m\n\u001b[0;32m    860\u001b[0m                 \u001b[0mcurrent\u001b[0m \u001b[1;33m=\u001b[0m \u001b[0maccumulated\u001b[0m\u001b[1;33m\u001b[0m\u001b[1;33m\u001b[0m\u001b[0m\n\u001b[0;32m    861\u001b[0m \u001b[1;33m\u001b[0m\u001b[0m\n\u001b[1;32m--> 862\u001b[1;33m             profile = np.append(\n\u001b[0m\u001b[0;32m    863\u001b[0m                 \u001b[0mnp\u001b[0m\u001b[1;33m.\u001b[0m\u001b[0mfull\u001b[0m\u001b[1;33m(\u001b[0m\u001b[0mt_start\u001b[0m \u001b[1;33m*\u001b[0m \u001b[1;33m-\u001b[0m\u001b[1;36m1\u001b[0m\u001b[1;33m,\u001b[0m \u001b[0mcurrent\u001b[0m\u001b[1;33m)\u001b[0m\u001b[1;33m,\u001b[0m \u001b[0mprofile\u001b[0m\u001b[1;33m\u001b[0m\u001b[1;33m\u001b[0m\u001b[0m\n\u001b[0;32m    864\u001b[0m             )  # Changed from profile[0]\n",
      "\u001b[1;32m<__array_function__ internals>\u001b[0m in \u001b[0;36mappend\u001b[1;34m(*args, **kwargs)\u001b[0m\n",
      "\u001b[1;32mc:\\Users\\gtreseder\\OneDrive - KPMG\\Documents\\3. Client\\Essential Energy\\Probability of Failure Model\\pof\\.venv\\lib\\site-packages\\numpy\\lib\\function_base.py\u001b[0m in \u001b[0;36mappend\u001b[1;34m(arr, values, axis)\u001b[0m\n\u001b[0;32m   4669\u001b[0m         \u001b[0mvalues\u001b[0m \u001b[1;33m=\u001b[0m \u001b[0mravel\u001b[0m\u001b[1;33m(\u001b[0m\u001b[0mvalues\u001b[0m\u001b[1;33m)\u001b[0m\u001b[1;33m\u001b[0m\u001b[1;33m\u001b[0m\u001b[0m\n\u001b[0;32m   4670\u001b[0m         \u001b[0maxis\u001b[0m \u001b[1;33m=\u001b[0m \u001b[0marr\u001b[0m\u001b[1;33m.\u001b[0m\u001b[0mndim\u001b[0m\u001b[1;33m-\u001b[0m\u001b[1;36m1\u001b[0m\u001b[1;33m\u001b[0m\u001b[1;33m\u001b[0m\u001b[0m\n\u001b[1;32m-> 4671\u001b[1;33m     \u001b[1;32mreturn\u001b[0m \u001b[0mconcatenate\u001b[0m\u001b[1;33m(\u001b[0m\u001b[1;33m(\u001b[0m\u001b[0marr\u001b[0m\u001b[1;33m,\u001b[0m \u001b[0mvalues\u001b[0m\u001b[1;33m)\u001b[0m\u001b[1;33m,\u001b[0m \u001b[0maxis\u001b[0m\u001b[1;33m=\u001b[0m\u001b[0maxis\u001b[0m\u001b[1;33m)\u001b[0m\u001b[1;33m\u001b[0m\u001b[1;33m\u001b[0m\u001b[0m\n\u001b[0m\u001b[0;32m   4672\u001b[0m \u001b[1;33m\u001b[0m\u001b[0m\n\u001b[0;32m   4673\u001b[0m \u001b[1;33m\u001b[0m\u001b[0m\n",
      "\u001b[1;32m<__array_function__ internals>\u001b[0m in \u001b[0;36mconcatenate\u001b[1;34m(*args, **kwargs)\u001b[0m\n",
      "\u001b[1;31mKeyboardInterrupt\u001b[0m: "
     ]
    }
   ],
   "source": [
    "# Run the simulation\n",
    "comp.units = model_units\n",
    "\n",
    "df_sens_chain = comp.sensitivty_chain(sens_vars, t_end=t_end, n_iterations=n_iterations)\n",
    "\n",
    "df_rolling = rolling_mean(df_sens_chain, window=window)\n",
    "\n",
    "df_total = calc_value_lost(df=df_rolling, x_var='pole-task_group_name-groundline-t_interval', y_var='pole-consequence-cost')"
   ]
  },
  {
   "source": [
    "## Original - Simple Version"
   ],
   "cell_type": "markdown",
   "metadata": {}
  },
  {
   "cell_type": "code",
   "execution_count": 31,
   "metadata": {},
   "outputs": [],
   "source": [
    "def expected_inspection_interval(x_min, x_max, n_iterations=100, t_end=100):\n",
    "    \"\"\"\n",
    "    A simple method for returning the impact of changing an inspection interval. \n",
    "    TODO not needed now the method has been moved to the object expected sensitivities\n",
    "    \"\"\"\n",
    "    rc = dict()\n",
    "    comp.reset()\n",
    "\n",
    "    for i in range(max(1, x_min),x_max,1):\n",
    "\n",
    "        # Set t_interval\n",
    "        for fm in comp.fm.values():\n",
    "            if 'inspection' in list(fm.tasks):\n",
    "                fm.tasks['inspection'].t_interval = i\n",
    "        \n",
    "        comp.mc_timeline(t_end=t_end, n_iterations=n_iterations)\n",
    "\n",
    "        risk_cost = comp.expected_risk_cost_df().groupby(by=['task'])['cost'].sum()\n",
    "        rc[i] = dict(risk_cost)\n",
    "        rc[i]['inspection_interval'] = i\n",
    "\n",
    "        # Reset component\n",
    "        comp.reset()\n",
    "\n",
    "    df = pd.DataFrame().from_dict(rc, orient='index')\n",
    "    df['total_cost'] = df.drop(['inspection_interval', 'risk'], axis=1).sum(axis=1)\n",
    "    df['total'] = df['total_cost'] + df['risk']\n",
    "    \n",
    "    return df"
   ]
  },
  {
   "cell_type": "code",
   "execution_count": 32,
   "metadata": {},
   "outputs": [
    {
     "output_type": "execute_result",
     "data": {
      "text/plain": [
       "      risk  conditional_failure  functional_failure  inspection_groundline  \\\n",
       "1      0.0               2100.0                 0.0                  870.0   \n",
       "2   5000.0               2450.0               700.0                  915.0   \n",
       "3  15000.0               1750.0              2100.0                  850.0   \n",
       "4  10000.0               1400.0              1400.0                  930.0   \n",
       "5      0.0               2800.0                 0.0                  870.0   \n",
       "\n",
       "   inspection_protection  pole_saver_rod  termite_treatment  \\\n",
       "1                    0.0             0.0               20.0   \n",
       "2                    0.0             0.0               30.0   \n",
       "3                    0.0             0.0               40.0   \n",
       "4                    0.0             0.0               10.0   \n",
       "5                    0.0             0.0               10.0   \n",
       "\n",
       "   inspection_interval  total_cost    total  \n",
       "1                    1      2990.0   2990.0  \n",
       "2                    2      4095.0   9095.0  \n",
       "3                    3      4740.0  19740.0  \n",
       "4                    4      3740.0  13740.0  \n",
       "5                    5      3680.0   3680.0  "
      ],
      "text/html": "<div>\n<style scoped>\n    .dataframe tbody tr th:only-of-type {\n        vertical-align: middle;\n    }\n\n    .dataframe tbody tr th {\n        vertical-align: top;\n    }\n\n    .dataframe thead th {\n        text-align: right;\n    }\n</style>\n<table border=\"1\" class=\"dataframe\">\n  <thead>\n    <tr style=\"text-align: right;\">\n      <th></th>\n      <th>risk</th>\n      <th>conditional_failure</th>\n      <th>functional_failure</th>\n      <th>inspection_groundline</th>\n      <th>inspection_protection</th>\n      <th>pole_saver_rod</th>\n      <th>termite_treatment</th>\n      <th>inspection_interval</th>\n      <th>total_cost</th>\n      <th>total</th>\n    </tr>\n  </thead>\n  <tbody>\n    <tr>\n      <th>1</th>\n      <td>0.0</td>\n      <td>2100.0</td>\n      <td>0.0</td>\n      <td>870.0</td>\n      <td>0.0</td>\n      <td>0.0</td>\n      <td>20.0</td>\n      <td>1</td>\n      <td>2990.0</td>\n      <td>2990.0</td>\n    </tr>\n    <tr>\n      <th>2</th>\n      <td>5000.0</td>\n      <td>2450.0</td>\n      <td>700.0</td>\n      <td>915.0</td>\n      <td>0.0</td>\n      <td>0.0</td>\n      <td>30.0</td>\n      <td>2</td>\n      <td>4095.0</td>\n      <td>9095.0</td>\n    </tr>\n    <tr>\n      <th>3</th>\n      <td>15000.0</td>\n      <td>1750.0</td>\n      <td>2100.0</td>\n      <td>850.0</td>\n      <td>0.0</td>\n      <td>0.0</td>\n      <td>40.0</td>\n      <td>3</td>\n      <td>4740.0</td>\n      <td>19740.0</td>\n    </tr>\n    <tr>\n      <th>4</th>\n      <td>10000.0</td>\n      <td>1400.0</td>\n      <td>1400.0</td>\n      <td>930.0</td>\n      <td>0.0</td>\n      <td>0.0</td>\n      <td>10.0</td>\n      <td>4</td>\n      <td>3740.0</td>\n      <td>13740.0</td>\n    </tr>\n    <tr>\n      <th>5</th>\n      <td>0.0</td>\n      <td>2800.0</td>\n      <td>0.0</td>\n      <td>870.0</td>\n      <td>0.0</td>\n      <td>0.0</td>\n      <td>10.0</td>\n      <td>5</td>\n      <td>3680.0</td>\n      <td>3680.0</td>\n    </tr>\n  </tbody>\n</table>\n</div>"
     },
     "metadata": {},
     "execution_count": 32
    }
   ],
   "source": [
    "df = expected_inspection_interval(0, 10, 10)\n",
    "clear_output()\n",
    "df.head()"
   ]
  },
  {
   "source": [
    "## Populations - Consequence\n",
    "We will consider the different consequence assets as a different "
   ],
   "cell_type": "markdown",
   "metadata": {}
  },
  {
   "cell_type": "code",
   "execution_count": 33,
   "metadata": {},
   "outputs": [
    {
     "output_type": "stream",
     "name": "stdout",
     "text": [
      "File Loaded\n"
     ]
    }
   ],
   "source": [
    "filename = r\"C:\\Users\\gtreseder\\OneDrive - KPMG\\Documents\\3. Client\\Essential Energy\\Probability of Failure Model\\inputs\\csvs\\ACS - Poles - Consequence Model Output.csv\"\n",
    "print(\"File Loading...\")\n",
    "df_cons = pd.read_csv(filename)\n",
    "clear_output()\n",
    "print(\"File Loaded\")"
   ]
  },
  {
   "source": [
    "Break the consequences up into groups so they can be passed into the model"
   ],
   "cell_type": "markdown",
   "metadata": {}
  },
  {
   "cell_type": "code",
   "execution_count": 34,
   "metadata": {},
   "outputs": [],
   "source": [
    "def get_bin_groups(df, bin_on='Total Consequence $', group_by='ASSET_ID', n_bins = 5):\n",
    "    \"\"\" Groups an attribute\"\"\"\n",
    "\n",
    "    df['bin_consequence'] = pd.qcut(df['Total Consequence $'], q=3, labels=['low', 'med', 'high'])\n",
    "    #pd.qcut(df_cons['Total Consequence $'], q=3, labels=['low', 'med', 'high'], retbins=True)\n",
    "\n",
    "    groups = df.groupby(by='bin_consequence').count()\n",
    "\n",
    "    return df"
   ]
  },
  {
   "cell_type": "code",
   "execution_count": 35,
   "metadata": {},
   "outputs": [
    {
     "output_type": "execute_result",
     "data": {
      "text/plain": [
       "                 Unnamed: 0  ASSET_ID  Depot (ZSG Area)  Pole_LU_NSWMajo  \\\n",
       "bin_consequence                                                            \n",
       "low                  459243    459243            459243           444182   \n",
       "med                  459243    459243            459243           457207   \n",
       "high                 459243    459243            459243           454364   \n",
       "\n",
       "                 Pole_LU_NSWDeta  Pole_LU_ALUMMaj  Pole_LU_ALUMDet  \\\n",
       "bin_consequence                                                      \n",
       "low                       444181           444182           444182   \n",
       "med                       457202           457207           457207   \n",
       "high                      454213           454364           454364   \n",
       "\n",
       "                 Road Crossing Conductor Type  HV_LV Status  BushfirePriority  \\\n",
       "bin_consequence                                                                 \n",
       "low                                    398918        398918            459243   \n",
       "med                                    436810        436810            459243   \n",
       "high                                   436925        436925            459243   \n",
       "\n",
       "                 ...  C_Environment_Rank  Site_Bushfire_Moderate_Probability  \\\n",
       "bin_consequence  ...                                                           \n",
       "low              ...              459243                              459243   \n",
       "med              ...              459243                              459243   \n",
       "high             ...              459243                              459243   \n",
       "\n",
       "                 Site_Bushfire_Severe_Probability  C_Bushfire_Dollars  \\\n",
       "bin_consequence                                                         \n",
       "low                                        459243              459243   \n",
       "med                                        459243              459243   \n",
       "high                                       459243              459243   \n",
       "\n",
       "                 Site_Environment_Insignificant_Probability  \\\n",
       "bin_consequence                                               \n",
       "low                                                  459243   \n",
       "med                                                  459243   \n",
       "high                                                 459243   \n",
       "\n",
       "                 Site_Environment_Minor_Probability  C_Environment_Dollars  \\\n",
       "bin_consequence                                                              \n",
       "low                                          459243                 459243   \n",
       "med                                          459243                 459243   \n",
       "high                                         459243                 459243   \n",
       "\n",
       "                 C_Financial_Dollars  Total Consequence $  Radial(Y/N)  \n",
       "bin_consequence                                                         \n",
       "low                           459243               459243          373  \n",
       "med                           459243               459243          446  \n",
       "high                          459243               459243        57316  \n",
       "\n",
       "[3 rows x 43 columns]"
      ],
      "text/html": "<div>\n<style scoped>\n    .dataframe tbody tr th:only-of-type {\n        vertical-align: middle;\n    }\n\n    .dataframe tbody tr th {\n        vertical-align: top;\n    }\n\n    .dataframe thead th {\n        text-align: right;\n    }\n</style>\n<table border=\"1\" class=\"dataframe\">\n  <thead>\n    <tr style=\"text-align: right;\">\n      <th></th>\n      <th>Unnamed: 0</th>\n      <th>ASSET_ID</th>\n      <th>Depot (ZSG Area)</th>\n      <th>Pole_LU_NSWMajo</th>\n      <th>Pole_LU_NSWDeta</th>\n      <th>Pole_LU_ALUMMaj</th>\n      <th>Pole_LU_ALUMDet</th>\n      <th>Road Crossing Conductor Type</th>\n      <th>HV_LV Status</th>\n      <th>BushfirePriority</th>\n      <th>...</th>\n      <th>C_Environment_Rank</th>\n      <th>Site_Bushfire_Moderate_Probability</th>\n      <th>Site_Bushfire_Severe_Probability</th>\n      <th>C_Bushfire_Dollars</th>\n      <th>Site_Environment_Insignificant_Probability</th>\n      <th>Site_Environment_Minor_Probability</th>\n      <th>C_Environment_Dollars</th>\n      <th>C_Financial_Dollars</th>\n      <th>Total Consequence $</th>\n      <th>Radial(Y/N)</th>\n    </tr>\n    <tr>\n      <th>bin_consequence</th>\n      <th></th>\n      <th></th>\n      <th></th>\n      <th></th>\n      <th></th>\n      <th></th>\n      <th></th>\n      <th></th>\n      <th></th>\n      <th></th>\n      <th></th>\n      <th></th>\n      <th></th>\n      <th></th>\n      <th></th>\n      <th></th>\n      <th></th>\n      <th></th>\n      <th></th>\n      <th></th>\n      <th></th>\n    </tr>\n  </thead>\n  <tbody>\n    <tr>\n      <th>low</th>\n      <td>459243</td>\n      <td>459243</td>\n      <td>459243</td>\n      <td>444182</td>\n      <td>444181</td>\n      <td>444182</td>\n      <td>444182</td>\n      <td>398918</td>\n      <td>398918</td>\n      <td>459243</td>\n      <td>...</td>\n      <td>459243</td>\n      <td>459243</td>\n      <td>459243</td>\n      <td>459243</td>\n      <td>459243</td>\n      <td>459243</td>\n      <td>459243</td>\n      <td>459243</td>\n      <td>459243</td>\n      <td>373</td>\n    </tr>\n    <tr>\n      <th>med</th>\n      <td>459243</td>\n      <td>459243</td>\n      <td>459243</td>\n      <td>457207</td>\n      <td>457202</td>\n      <td>457207</td>\n      <td>457207</td>\n      <td>436810</td>\n      <td>436810</td>\n      <td>459243</td>\n      <td>...</td>\n      <td>459243</td>\n      <td>459243</td>\n      <td>459243</td>\n      <td>459243</td>\n      <td>459243</td>\n      <td>459243</td>\n      <td>459243</td>\n      <td>459243</td>\n      <td>459243</td>\n      <td>446</td>\n    </tr>\n    <tr>\n      <th>high</th>\n      <td>459243</td>\n      <td>459243</td>\n      <td>459243</td>\n      <td>454364</td>\n      <td>454213</td>\n      <td>454364</td>\n      <td>454364</td>\n      <td>436925</td>\n      <td>436925</td>\n      <td>459243</td>\n      <td>...</td>\n      <td>459243</td>\n      <td>459243</td>\n      <td>459243</td>\n      <td>459243</td>\n      <td>459243</td>\n      <td>459243</td>\n      <td>459243</td>\n      <td>459243</td>\n      <td>459243</td>\n      <td>57316</td>\n    </tr>\n  </tbody>\n</table>\n<p>3 rows × 43 columns</p>\n</div>"
     },
     "metadata": {},
     "execution_count": 35
    }
   ],
   "source": [
    "df_bins = get_bin_groups(df_cons)\n",
    "df_bins.groupby(by='bin_consequence').count().head()"
   ]
  },
  {
   "source": [
    "# Grouping for impact\n",
    "To understand the impact of different strategies at scale we will consider a depot lense"
   ],
   "cell_type": "markdown",
   "metadata": {}
  },
  {
   "cell_type": "code",
   "execution_count": 36,
   "metadata": {},
   "outputs": [],
   "source": [
    "depots = ['Young Depot', 'Temora Depot', 'Yass Depot', 'Young Depot', 'Bathurst Depot']"
   ]
  },
  {
   "cell_type": "code",
   "execution_count": 37,
   "metadata": {},
   "outputs": [
    {
     "output_type": "display_data",
     "data": {
      "text/plain": "<Figure size 432x288 with 1 Axes>",
      "image/svg+xml": "<?xml version=\"1.0\" encoding=\"utf-8\" standalone=\"no\"?>\r\n<!DOCTYPE svg PUBLIC \"-//W3C//DTD SVG 1.1//EN\"\r\n  \"http://www.w3.org/Graphics/SVG/1.1/DTD/svg11.dtd\">\r\n<!-- Created with matplotlib (https://matplotlib.org/) -->\r\n<svg height=\"263.63625pt\" version=\"1.1\" viewBox=\"0 0 451.044281 263.63625\" width=\"451.044281pt\" xmlns=\"http://www.w3.org/2000/svg\" xmlns:xlink=\"http://www.w3.org/1999/xlink\">\r\n <metadata>\r\n  <rdf:RDF xmlns:cc=\"http://creativecommons.org/ns#\" xmlns:dc=\"http://purl.org/dc/elements/1.1/\" xmlns:rdf=\"http://www.w3.org/1999/02/22-rdf-syntax-ns#\">\r\n   <cc:Work>\r\n    <dc:type rdf:resource=\"http://purl.org/dc/dcmitype/StillImage\"/>\r\n    <dc:date>2021-02-24T08:03:56.056894</dc:date>\r\n    <dc:format>image/svg+xml</dc:format>\r\n    <dc:creator>\r\n     <cc:Agent>\r\n      <dc:title>Matplotlib v3.3.4, https://matplotlib.org/</dc:title>\r\n     </cc:Agent>\r\n    </dc:creator>\r\n   </cc:Work>\r\n  </rdf:RDF>\r\n </metadata>\r\n <defs>\r\n  <style type=\"text/css\">*{stroke-linecap:butt;stroke-linejoin:round;}</style>\r\n </defs>\r\n <g id=\"figure_1\">\r\n  <g id=\"patch_1\">\r\n   <path d=\"M 0 263.63625 \r\nL 451.044281 263.63625 \r\nL 451.044281 0 \r\nL 0 0 \r\nz\r\n\" style=\"fill:none;\"/>\r\n  </g>\r\n  <g id=\"axes_1\">\r\n   <g id=\"patch_2\">\r\n    <path d=\"M 104.121875 239.758125 \r\nL 438.921875 239.758125 \r\nL 438.921875 22.318125 \r\nL 104.121875 22.318125 \r\nz\r\n\" style=\"fill:#ffffff;\"/>\r\n   </g>\r\n   <g id=\"patch_3\">\r\n    <path clip-path=\"url(#pa75a98fb06)\" d=\"M 104.121875 228.886125 \r\nL 218.678779 228.886125 \r\nL 218.678779 221.638125 \r\nL 104.121875 221.638125 \r\nz\r\n\" style=\"fill:#1f77b4;\"/>\r\n   </g>\r\n   <g id=\"patch_4\">\r\n    <path clip-path=\"url(#pa75a98fb06)\" d=\"M 104.121875 185.398125 \r\nL 203.41316 185.398125 \r\nL 203.41316 178.150125 \r\nL 104.121875 178.150125 \r\nz\r\n\" style=\"fill:#1f77b4;\"/>\r\n   </g>\r\n   <g id=\"patch_5\">\r\n    <path clip-path=\"url(#pa75a98fb06)\" d=\"M 104.121875 141.910125 \r\nL 116.33437 141.910125 \r\nL 116.33437 134.662125 \r\nL 104.121875 134.662125 \r\nz\r\n\" style=\"fill:#1f77b4;\"/>\r\n   </g>\r\n   <g id=\"patch_6\">\r\n    <path clip-path=\"url(#pa75a98fb06)\" d=\"M 104.121875 98.422125 \r\nL 218.678779 98.422125 \r\nL 218.678779 91.174125 \r\nL 104.121875 91.174125 \r\nz\r\n\" style=\"fill:#1f77b4;\"/>\r\n   </g>\r\n   <g id=\"patch_7\">\r\n    <path clip-path=\"url(#pa75a98fb06)\" d=\"M 104.121875 54.934125 \r\nL 123.476829 54.934125 \r\nL 123.476829 47.686125 \r\nL 104.121875 47.686125 \r\nz\r\n\" style=\"fill:#1f77b4;\"/>\r\n   </g>\r\n   <g id=\"patch_8\">\r\n    <path clip-path=\"url(#pa75a98fb06)\" d=\"M 104.121875 221.638125 \r\nL 218.068154 221.638125 \r\nL 218.068154 214.390125 \r\nL 104.121875 214.390125 \r\nz\r\n\" style=\"fill:#ff7f0e;\"/>\r\n   </g>\r\n   <g id=\"patch_9\">\r\n    <path clip-path=\"url(#pa75a98fb06)\" d=\"M 104.121875 178.150125 \r\nL 177.618891 178.150125 \r\nL 177.618891 170.902125 \r\nL 104.121875 170.902125 \r\nz\r\n\" style=\"fill:#ff7f0e;\"/>\r\n   </g>\r\n   <g id=\"patch_10\">\r\n    <path clip-path=\"url(#pa75a98fb06)\" d=\"M 104.121875 134.662125 \r\nL 112.929674 134.662125 \r\nL 112.929674 127.414125 \r\nL 104.121875 127.414125 \r\nz\r\n\" style=\"fill:#ff7f0e;\"/>\r\n   </g>\r\n   <g id=\"patch_11\">\r\n    <path clip-path=\"url(#pa75a98fb06)\" d=\"M 104.121875 91.174125 \r\nL 218.068154 91.174125 \r\nL 218.068154 83.926125 \r\nL 104.121875 83.926125 \r\nz\r\n\" style=\"fill:#ff7f0e;\"/>\r\n   </g>\r\n   <g id=\"patch_12\">\r\n    <path clip-path=\"url(#pa75a98fb06)\" d=\"M 104.121875 47.686125 \r\nL 179.82084 47.686125 \r\nL 179.82084 40.438125 \r\nL 104.121875 40.438125 \r\nz\r\n\" style=\"fill:#ff7f0e;\"/>\r\n   </g>\r\n   <g id=\"patch_13\">\r\n    <path clip-path=\"url(#pa75a98fb06)\" d=\"M 104.121875 214.390125 \r\nL 176.545671 214.390125 \r\nL 176.545671 207.142125 \r\nL 104.121875 207.142125 \r\nz\r\n\" style=\"fill:#2ca02c;\"/>\r\n   </g>\r\n   <g id=\"patch_14\">\r\n    <path clip-path=\"url(#pa75a98fb06)\" d=\"M 104.121875 170.902125 \r\nL 165.202854 170.902125 \r\nL 165.202854 163.654125 \r\nL 104.121875 163.654125 \r\nz\r\n\" style=\"fill:#2ca02c;\"/>\r\n   </g>\r\n   <g id=\"patch_15\">\r\n    <path clip-path=\"url(#pa75a98fb06)\" d=\"M 104.121875 127.414125 \r\nL 397.221756 127.414125 \r\nL 397.221756 120.166125 \r\nL 104.121875 120.166125 \r\nz\r\n\" style=\"fill:#2ca02c;\"/>\r\n   </g>\r\n   <g id=\"patch_16\">\r\n    <path clip-path=\"url(#pa75a98fb06)\" d=\"M 104.121875 83.926125 \r\nL 176.545671 83.926125 \r\nL 176.545671 76.678125 \r\nL 104.121875 76.678125 \r\nz\r\n\" style=\"fill:#2ca02c;\"/>\r\n   </g>\r\n   <g id=\"patch_17\">\r\n    <path clip-path=\"url(#pa75a98fb06)\" d=\"M 104.121875 40.438125 \r\nL 422.979018 40.438125 \r\nL 422.979018 33.190125 \r\nL 104.121875 33.190125 \r\nz\r\n\" style=\"fill:#2ca02c;\"/>\r\n   </g>\r\n   <g id=\"matplotlib.axis_1\">\r\n    <g id=\"xtick_1\">\r\n     <g id=\"line2d_1\">\r\n      <defs>\r\n       <path d=\"M 0 0 \r\nL 0 3.5 \r\n\" id=\"m7452254893\" style=\"stroke:#000000;stroke-width:0.8;\"/>\r\n      </defs>\r\n      <g>\r\n       <use style=\"stroke:#000000;stroke-width:0.8;\" x=\"104.121875\" xlink:href=\"#m7452254893\" y=\"239.758125\"/>\r\n      </g>\r\n     </g>\r\n     <g id=\"text_1\">\r\n      <!-- 0 -->\r\n      <g transform=\"translate(100.940625 254.356563)scale(0.1 -0.1)\">\r\n       <defs>\r\n        <path d=\"M 31.78125 66.40625 \r\nQ 24.171875 66.40625 20.328125 58.90625 \r\nQ 16.5 51.421875 16.5 36.375 \r\nQ 16.5 21.390625 20.328125 13.890625 \r\nQ 24.171875 6.390625 31.78125 6.390625 \r\nQ 39.453125 6.390625 43.28125 13.890625 \r\nQ 47.125 21.390625 47.125 36.375 \r\nQ 47.125 51.421875 43.28125 58.90625 \r\nQ 39.453125 66.40625 31.78125 66.40625 \r\nz\r\nM 31.78125 74.21875 \r\nQ 44.046875 74.21875 50.515625 64.515625 \r\nQ 56.984375 54.828125 56.984375 36.375 \r\nQ 56.984375 17.96875 50.515625 8.265625 \r\nQ 44.046875 -1.421875 31.78125 -1.421875 \r\nQ 19.53125 -1.421875 13.0625 8.265625 \r\nQ 6.59375 17.96875 6.59375 36.375 \r\nQ 6.59375 54.828125 13.0625 64.515625 \r\nQ 19.53125 74.21875 31.78125 74.21875 \r\nz\r\n\" id=\"DejaVuSans-48\"/>\r\n       </defs>\r\n       <use xlink:href=\"#DejaVuSans-48\"/>\r\n      </g>\r\n     </g>\r\n    </g>\r\n    <g id=\"xtick_2\">\r\n     <g id=\"line2d_2\">\r\n      <g>\r\n       <use style=\"stroke:#000000;stroke-width:0.8;\" x=\"150.381326\" xlink:href=\"#m7452254893\" y=\"239.758125\"/>\r\n      </g>\r\n     </g>\r\n     <g id=\"text_2\">\r\n      <!-- 2500 -->\r\n      <g transform=\"translate(137.656326 254.356563)scale(0.1 -0.1)\">\r\n       <defs>\r\n        <path d=\"M 19.1875 8.296875 \r\nL 53.609375 8.296875 \r\nL 53.609375 0 \r\nL 7.328125 0 \r\nL 7.328125 8.296875 \r\nQ 12.9375 14.109375 22.625 23.890625 \r\nQ 32.328125 33.6875 34.8125 36.53125 \r\nQ 39.546875 41.84375 41.421875 45.53125 \r\nQ 43.3125 49.21875 43.3125 52.78125 \r\nQ 43.3125 58.59375 39.234375 62.25 \r\nQ 35.15625 65.921875 28.609375 65.921875 \r\nQ 23.96875 65.921875 18.8125 64.3125 \r\nQ 13.671875 62.703125 7.8125 59.421875 \r\nL 7.8125 69.390625 \r\nQ 13.765625 71.78125 18.9375 73 \r\nQ 24.125 74.21875 28.421875 74.21875 \r\nQ 39.75 74.21875 46.484375 68.546875 \r\nQ 53.21875 62.890625 53.21875 53.421875 \r\nQ 53.21875 48.921875 51.53125 44.890625 \r\nQ 49.859375 40.875 45.40625 35.40625 \r\nQ 44.1875 33.984375 37.640625 27.21875 \r\nQ 31.109375 20.453125 19.1875 8.296875 \r\nz\r\n\" id=\"DejaVuSans-50\"/>\r\n        <path d=\"M 10.796875 72.90625 \r\nL 49.515625 72.90625 \r\nL 49.515625 64.59375 \r\nL 19.828125 64.59375 \r\nL 19.828125 46.734375 \r\nQ 21.96875 47.46875 24.109375 47.828125 \r\nQ 26.265625 48.1875 28.421875 48.1875 \r\nQ 40.625 48.1875 47.75 41.5 \r\nQ 54.890625 34.8125 54.890625 23.390625 \r\nQ 54.890625 11.625 47.5625 5.09375 \r\nQ 40.234375 -1.421875 26.90625 -1.421875 \r\nQ 22.3125 -1.421875 17.546875 -0.640625 \r\nQ 12.796875 0.140625 7.71875 1.703125 \r\nL 7.71875 11.625 \r\nQ 12.109375 9.234375 16.796875 8.0625 \r\nQ 21.484375 6.890625 26.703125 6.890625 \r\nQ 35.15625 6.890625 40.078125 11.328125 \r\nQ 45.015625 15.765625 45.015625 23.390625 \r\nQ 45.015625 31 40.078125 35.4375 \r\nQ 35.15625 39.890625 26.703125 39.890625 \r\nQ 22.75 39.890625 18.8125 39.015625 \r\nQ 14.890625 38.140625 10.796875 36.28125 \r\nz\r\n\" id=\"DejaVuSans-53\"/>\r\n       </defs>\r\n       <use xlink:href=\"#DejaVuSans-50\"/>\r\n       <use x=\"63.623047\" xlink:href=\"#DejaVuSans-53\"/>\r\n       <use x=\"127.246094\" xlink:href=\"#DejaVuSans-48\"/>\r\n       <use x=\"190.869141\" xlink:href=\"#DejaVuSans-48\"/>\r\n      </g>\r\n     </g>\r\n    </g>\r\n    <g id=\"xtick_3\">\r\n     <g id=\"line2d_3\">\r\n      <g>\r\n       <use style=\"stroke:#000000;stroke-width:0.8;\" x=\"196.640777\" xlink:href=\"#m7452254893\" y=\"239.758125\"/>\r\n      </g>\r\n     </g>\r\n     <g id=\"text_3\">\r\n      <!-- 5000 -->\r\n      <g transform=\"translate(183.915777 254.356563)scale(0.1 -0.1)\">\r\n       <use xlink:href=\"#DejaVuSans-53\"/>\r\n       <use x=\"63.623047\" xlink:href=\"#DejaVuSans-48\"/>\r\n       <use x=\"127.246094\" xlink:href=\"#DejaVuSans-48\"/>\r\n       <use x=\"190.869141\" xlink:href=\"#DejaVuSans-48\"/>\r\n      </g>\r\n     </g>\r\n    </g>\r\n    <g id=\"xtick_4\">\r\n     <g id=\"line2d_4\">\r\n      <g>\r\n       <use style=\"stroke:#000000;stroke-width:0.8;\" x=\"242.900228\" xlink:href=\"#m7452254893\" y=\"239.758125\"/>\r\n      </g>\r\n     </g>\r\n     <g id=\"text_4\">\r\n      <!-- 7500 -->\r\n      <g transform=\"translate(230.175228 254.356563)scale(0.1 -0.1)\">\r\n       <defs>\r\n        <path d=\"M 8.203125 72.90625 \r\nL 55.078125 72.90625 \r\nL 55.078125 68.703125 \r\nL 28.609375 0 \r\nL 18.3125 0 \r\nL 43.21875 64.59375 \r\nL 8.203125 64.59375 \r\nz\r\n\" id=\"DejaVuSans-55\"/>\r\n       </defs>\r\n       <use xlink:href=\"#DejaVuSans-55\"/>\r\n       <use x=\"63.623047\" xlink:href=\"#DejaVuSans-53\"/>\r\n       <use x=\"127.246094\" xlink:href=\"#DejaVuSans-48\"/>\r\n       <use x=\"190.869141\" xlink:href=\"#DejaVuSans-48\"/>\r\n      </g>\r\n     </g>\r\n    </g>\r\n    <g id=\"xtick_5\">\r\n     <g id=\"line2d_5\">\r\n      <g>\r\n       <use style=\"stroke:#000000;stroke-width:0.8;\" x=\"289.159678\" xlink:href=\"#m7452254893\" y=\"239.758125\"/>\r\n      </g>\r\n     </g>\r\n     <g id=\"text_5\">\r\n      <!-- 10000 -->\r\n      <g transform=\"translate(273.253428 254.356563)scale(0.1 -0.1)\">\r\n       <defs>\r\n        <path d=\"M 12.40625 8.296875 \r\nL 28.515625 8.296875 \r\nL 28.515625 63.921875 \r\nL 10.984375 60.40625 \r\nL 10.984375 69.390625 \r\nL 28.421875 72.90625 \r\nL 38.28125 72.90625 \r\nL 38.28125 8.296875 \r\nL 54.390625 8.296875 \r\nL 54.390625 0 \r\nL 12.40625 0 \r\nz\r\n\" id=\"DejaVuSans-49\"/>\r\n       </defs>\r\n       <use xlink:href=\"#DejaVuSans-49\"/>\r\n       <use x=\"63.623047\" xlink:href=\"#DejaVuSans-48\"/>\r\n       <use x=\"127.246094\" xlink:href=\"#DejaVuSans-48\"/>\r\n       <use x=\"190.869141\" xlink:href=\"#DejaVuSans-48\"/>\r\n       <use x=\"254.492188\" xlink:href=\"#DejaVuSans-48\"/>\r\n      </g>\r\n     </g>\r\n    </g>\r\n    <g id=\"xtick_6\">\r\n     <g id=\"line2d_6\">\r\n      <g>\r\n       <use style=\"stroke:#000000;stroke-width:0.8;\" x=\"335.419129\" xlink:href=\"#m7452254893\" y=\"239.758125\"/>\r\n      </g>\r\n     </g>\r\n     <g id=\"text_6\">\r\n      <!-- 12500 -->\r\n      <g transform=\"translate(319.512879 254.356563)scale(0.1 -0.1)\">\r\n       <use xlink:href=\"#DejaVuSans-49\"/>\r\n       <use x=\"63.623047\" xlink:href=\"#DejaVuSans-50\"/>\r\n       <use x=\"127.246094\" xlink:href=\"#DejaVuSans-53\"/>\r\n       <use x=\"190.869141\" xlink:href=\"#DejaVuSans-48\"/>\r\n       <use x=\"254.492188\" xlink:href=\"#DejaVuSans-48\"/>\r\n      </g>\r\n     </g>\r\n    </g>\r\n    <g id=\"xtick_7\">\r\n     <g id=\"line2d_7\">\r\n      <g>\r\n       <use style=\"stroke:#000000;stroke-width:0.8;\" x=\"381.67858\" xlink:href=\"#m7452254893\" y=\"239.758125\"/>\r\n      </g>\r\n     </g>\r\n     <g id=\"text_7\">\r\n      <!-- 15000 -->\r\n      <g transform=\"translate(365.77233 254.356563)scale(0.1 -0.1)\">\r\n       <use xlink:href=\"#DejaVuSans-49\"/>\r\n       <use x=\"63.623047\" xlink:href=\"#DejaVuSans-53\"/>\r\n       <use x=\"127.246094\" xlink:href=\"#DejaVuSans-48\"/>\r\n       <use x=\"190.869141\" xlink:href=\"#DejaVuSans-48\"/>\r\n       <use x=\"254.492188\" xlink:href=\"#DejaVuSans-48\"/>\r\n      </g>\r\n     </g>\r\n    </g>\r\n    <g id=\"xtick_8\">\r\n     <g id=\"line2d_8\">\r\n      <g>\r\n       <use style=\"stroke:#000000;stroke-width:0.8;\" x=\"427.938031\" xlink:href=\"#m7452254893\" y=\"239.758125\"/>\r\n      </g>\r\n     </g>\r\n     <g id=\"text_8\">\r\n      <!-- 17500 -->\r\n      <g transform=\"translate(412.031781 254.356563)scale(0.1 -0.1)\">\r\n       <use xlink:href=\"#DejaVuSans-49\"/>\r\n       <use x=\"63.623047\" xlink:href=\"#DejaVuSans-55\"/>\r\n       <use x=\"127.246094\" xlink:href=\"#DejaVuSans-53\"/>\r\n       <use x=\"190.869141\" xlink:href=\"#DejaVuSans-48\"/>\r\n       <use x=\"254.492188\" xlink:href=\"#DejaVuSans-48\"/>\r\n      </g>\r\n     </g>\r\n    </g>\r\n   </g>\r\n   <g id=\"matplotlib.axis_2\">\r\n    <g id=\"ytick_1\">\r\n     <g id=\"line2d_9\">\r\n      <defs>\r\n       <path d=\"M 0 0 \r\nL -3.5 0 \r\n\" id=\"mdb7e6db796\" style=\"stroke:#000000;stroke-width:0.8;\"/>\r\n      </defs>\r\n      <g>\r\n       <use style=\"stroke:#000000;stroke-width:0.8;\" x=\"104.121875\" xlink:href=\"#mdb7e6db796\" y=\"218.014125\"/>\r\n      </g>\r\n     </g>\r\n     <g id=\"text_9\">\r\n      <!-- Young Depot -->\r\n      <g transform=\"translate(33.778125 221.813344)scale(0.1 -0.1)\">\r\n       <defs>\r\n        <path d=\"M -0.203125 72.90625 \r\nL 10.40625 72.90625 \r\nL 30.609375 42.921875 \r\nL 50.6875 72.90625 \r\nL 61.28125 72.90625 \r\nL 35.5 34.71875 \r\nL 35.5 0 \r\nL 25.59375 0 \r\nL 25.59375 34.71875 \r\nz\r\n\" id=\"DejaVuSans-89\"/>\r\n        <path d=\"M 30.609375 48.390625 \r\nQ 23.390625 48.390625 19.1875 42.75 \r\nQ 14.984375 37.109375 14.984375 27.296875 \r\nQ 14.984375 17.484375 19.15625 11.84375 \r\nQ 23.34375 6.203125 30.609375 6.203125 \r\nQ 37.796875 6.203125 41.984375 11.859375 \r\nQ 46.1875 17.53125 46.1875 27.296875 \r\nQ 46.1875 37.015625 41.984375 42.703125 \r\nQ 37.796875 48.390625 30.609375 48.390625 \r\nz\r\nM 30.609375 56 \r\nQ 42.328125 56 49.015625 48.375 \r\nQ 55.71875 40.765625 55.71875 27.296875 \r\nQ 55.71875 13.875 49.015625 6.21875 \r\nQ 42.328125 -1.421875 30.609375 -1.421875 \r\nQ 18.84375 -1.421875 12.171875 6.21875 \r\nQ 5.515625 13.875 5.515625 27.296875 \r\nQ 5.515625 40.765625 12.171875 48.375 \r\nQ 18.84375 56 30.609375 56 \r\nz\r\n\" id=\"DejaVuSans-111\"/>\r\n        <path d=\"M 8.5 21.578125 \r\nL 8.5 54.6875 \r\nL 17.484375 54.6875 \r\nL 17.484375 21.921875 \r\nQ 17.484375 14.15625 20.5 10.265625 \r\nQ 23.53125 6.390625 29.59375 6.390625 \r\nQ 36.859375 6.390625 41.078125 11.03125 \r\nQ 45.3125 15.671875 45.3125 23.6875 \r\nL 45.3125 54.6875 \r\nL 54.296875 54.6875 \r\nL 54.296875 0 \r\nL 45.3125 0 \r\nL 45.3125 8.40625 \r\nQ 42.046875 3.421875 37.71875 1 \r\nQ 33.40625 -1.421875 27.6875 -1.421875 \r\nQ 18.265625 -1.421875 13.375 4.4375 \r\nQ 8.5 10.296875 8.5 21.578125 \r\nz\r\nM 31.109375 56 \r\nz\r\n\" id=\"DejaVuSans-117\"/>\r\n        <path d=\"M 54.890625 33.015625 \r\nL 54.890625 0 \r\nL 45.90625 0 \r\nL 45.90625 32.71875 \r\nQ 45.90625 40.484375 42.875 44.328125 \r\nQ 39.84375 48.1875 33.796875 48.1875 \r\nQ 26.515625 48.1875 22.3125 43.546875 \r\nQ 18.109375 38.921875 18.109375 30.90625 \r\nL 18.109375 0 \r\nL 9.078125 0 \r\nL 9.078125 54.6875 \r\nL 18.109375 54.6875 \r\nL 18.109375 46.1875 \r\nQ 21.34375 51.125 25.703125 53.5625 \r\nQ 30.078125 56 35.796875 56 \r\nQ 45.21875 56 50.046875 50.171875 \r\nQ 54.890625 44.34375 54.890625 33.015625 \r\nz\r\n\" id=\"DejaVuSans-110\"/>\r\n        <path d=\"M 45.40625 27.984375 \r\nQ 45.40625 37.75 41.375 43.109375 \r\nQ 37.359375 48.484375 30.078125 48.484375 \r\nQ 22.859375 48.484375 18.828125 43.109375 \r\nQ 14.796875 37.75 14.796875 27.984375 \r\nQ 14.796875 18.265625 18.828125 12.890625 \r\nQ 22.859375 7.515625 30.078125 7.515625 \r\nQ 37.359375 7.515625 41.375 12.890625 \r\nQ 45.40625 18.265625 45.40625 27.984375 \r\nz\r\nM 54.390625 6.78125 \r\nQ 54.390625 -7.171875 48.1875 -13.984375 \r\nQ 42 -20.796875 29.203125 -20.796875 \r\nQ 24.46875 -20.796875 20.265625 -20.09375 \r\nQ 16.0625 -19.390625 12.109375 -17.921875 \r\nL 12.109375 -9.1875 \r\nQ 16.0625 -11.328125 19.921875 -12.34375 \r\nQ 23.78125 -13.375 27.78125 -13.375 \r\nQ 36.625 -13.375 41.015625 -8.765625 \r\nQ 45.40625 -4.15625 45.40625 5.171875 \r\nL 45.40625 9.625 \r\nQ 42.625 4.78125 38.28125 2.390625 \r\nQ 33.9375 0 27.875 0 \r\nQ 17.828125 0 11.671875 7.65625 \r\nQ 5.515625 15.328125 5.515625 27.984375 \r\nQ 5.515625 40.671875 11.671875 48.328125 \r\nQ 17.828125 56 27.875 56 \r\nQ 33.9375 56 38.28125 53.609375 \r\nQ 42.625 51.21875 45.40625 46.390625 \r\nL 45.40625 54.6875 \r\nL 54.390625 54.6875 \r\nz\r\n\" id=\"DejaVuSans-103\"/>\r\n        <path id=\"DejaVuSans-32\"/>\r\n        <path d=\"M 19.671875 64.796875 \r\nL 19.671875 8.109375 \r\nL 31.59375 8.109375 \r\nQ 46.6875 8.109375 53.6875 14.9375 \r\nQ 60.6875 21.78125 60.6875 36.53125 \r\nQ 60.6875 51.171875 53.6875 57.984375 \r\nQ 46.6875 64.796875 31.59375 64.796875 \r\nz\r\nM 9.8125 72.90625 \r\nL 30.078125 72.90625 \r\nQ 51.265625 72.90625 61.171875 64.09375 \r\nQ 71.09375 55.28125 71.09375 36.53125 \r\nQ 71.09375 17.671875 61.125 8.828125 \r\nQ 51.171875 0 30.078125 0 \r\nL 9.8125 0 \r\nz\r\n\" id=\"DejaVuSans-68\"/>\r\n        <path d=\"M 56.203125 29.59375 \r\nL 56.203125 25.203125 \r\nL 14.890625 25.203125 \r\nQ 15.484375 15.921875 20.484375 11.0625 \r\nQ 25.484375 6.203125 34.421875 6.203125 \r\nQ 39.59375 6.203125 44.453125 7.46875 \r\nQ 49.3125 8.734375 54.109375 11.28125 \r\nL 54.109375 2.78125 \r\nQ 49.265625 0.734375 44.1875 -0.34375 \r\nQ 39.109375 -1.421875 33.890625 -1.421875 \r\nQ 20.796875 -1.421875 13.15625 6.1875 \r\nQ 5.515625 13.8125 5.515625 26.8125 \r\nQ 5.515625 40.234375 12.765625 48.109375 \r\nQ 20.015625 56 32.328125 56 \r\nQ 43.359375 56 49.78125 48.890625 \r\nQ 56.203125 41.796875 56.203125 29.59375 \r\nz\r\nM 47.21875 32.234375 \r\nQ 47.125 39.59375 43.09375 43.984375 \r\nQ 39.0625 48.390625 32.421875 48.390625 \r\nQ 24.90625 48.390625 20.390625 44.140625 \r\nQ 15.875 39.890625 15.1875 32.171875 \r\nz\r\n\" id=\"DejaVuSans-101\"/>\r\n        <path d=\"M 18.109375 8.203125 \r\nL 18.109375 -20.796875 \r\nL 9.078125 -20.796875 \r\nL 9.078125 54.6875 \r\nL 18.109375 54.6875 \r\nL 18.109375 46.390625 \r\nQ 20.953125 51.265625 25.265625 53.625 \r\nQ 29.59375 56 35.59375 56 \r\nQ 45.5625 56 51.78125 48.09375 \r\nQ 58.015625 40.1875 58.015625 27.296875 \r\nQ 58.015625 14.40625 51.78125 6.484375 \r\nQ 45.5625 -1.421875 35.59375 -1.421875 \r\nQ 29.59375 -1.421875 25.265625 0.953125 \r\nQ 20.953125 3.328125 18.109375 8.203125 \r\nz\r\nM 48.6875 27.296875 \r\nQ 48.6875 37.203125 44.609375 42.84375 \r\nQ 40.53125 48.484375 33.40625 48.484375 \r\nQ 26.265625 48.484375 22.1875 42.84375 \r\nQ 18.109375 37.203125 18.109375 27.296875 \r\nQ 18.109375 17.390625 22.1875 11.75 \r\nQ 26.265625 6.109375 33.40625 6.109375 \r\nQ 40.53125 6.109375 44.609375 11.75 \r\nQ 48.6875 17.390625 48.6875 27.296875 \r\nz\r\n\" id=\"DejaVuSans-112\"/>\r\n        <path d=\"M 18.3125 70.21875 \r\nL 18.3125 54.6875 \r\nL 36.8125 54.6875 \r\nL 36.8125 47.703125 \r\nL 18.3125 47.703125 \r\nL 18.3125 18.015625 \r\nQ 18.3125 11.328125 20.140625 9.421875 \r\nQ 21.96875 7.515625 27.59375 7.515625 \r\nL 36.8125 7.515625 \r\nL 36.8125 0 \r\nL 27.59375 0 \r\nQ 17.1875 0 13.234375 3.875 \r\nQ 9.28125 7.765625 9.28125 18.015625 \r\nL 9.28125 47.703125 \r\nL 2.6875 47.703125 \r\nL 2.6875 54.6875 \r\nL 9.28125 54.6875 \r\nL 9.28125 70.21875 \r\nz\r\n\" id=\"DejaVuSans-116\"/>\r\n       </defs>\r\n       <use xlink:href=\"#DejaVuSans-89\"/>\r\n       <use x=\"47.833984\" xlink:href=\"#DejaVuSans-111\"/>\r\n       <use x=\"109.015625\" xlink:href=\"#DejaVuSans-117\"/>\r\n       <use x=\"172.394531\" xlink:href=\"#DejaVuSans-110\"/>\r\n       <use x=\"235.773438\" xlink:href=\"#DejaVuSans-103\"/>\r\n       <use x=\"299.25\" xlink:href=\"#DejaVuSans-32\"/>\r\n       <use x=\"331.037109\" xlink:href=\"#DejaVuSans-68\"/>\r\n       <use x=\"408.039062\" xlink:href=\"#DejaVuSans-101\"/>\r\n       <use x=\"469.5625\" xlink:href=\"#DejaVuSans-112\"/>\r\n       <use x=\"533.039062\" xlink:href=\"#DejaVuSans-111\"/>\r\n       <use x=\"594.220703\" xlink:href=\"#DejaVuSans-116\"/>\r\n      </g>\r\n     </g>\r\n    </g>\r\n    <g id=\"ytick_2\">\r\n     <g id=\"line2d_10\">\r\n      <g>\r\n       <use style=\"stroke:#000000;stroke-width:0.8;\" x=\"104.121875\" xlink:href=\"#mdb7e6db796\" y=\"174.526125\"/>\r\n      </g>\r\n     </g>\r\n     <g id=\"text_10\">\r\n      <!-- Temora Depot -->\r\n      <g transform=\"translate(27.04375 178.325344)scale(0.1 -0.1)\">\r\n       <defs>\r\n        <path d=\"M -0.296875 72.90625 \r\nL 61.375 72.90625 \r\nL 61.375 64.59375 \r\nL 35.5 64.59375 \r\nL 35.5 0 \r\nL 25.59375 0 \r\nL 25.59375 64.59375 \r\nL -0.296875 64.59375 \r\nz\r\n\" id=\"DejaVuSans-84\"/>\r\n        <path d=\"M 52 44.1875 \r\nQ 55.375 50.25 60.0625 53.125 \r\nQ 64.75 56 71.09375 56 \r\nQ 79.640625 56 84.28125 50.015625 \r\nQ 88.921875 44.046875 88.921875 33.015625 \r\nL 88.921875 0 \r\nL 79.890625 0 \r\nL 79.890625 32.71875 \r\nQ 79.890625 40.578125 77.09375 44.375 \r\nQ 74.3125 48.1875 68.609375 48.1875 \r\nQ 61.625 48.1875 57.5625 43.546875 \r\nQ 53.515625 38.921875 53.515625 30.90625 \r\nL 53.515625 0 \r\nL 44.484375 0 \r\nL 44.484375 32.71875 \r\nQ 44.484375 40.625 41.703125 44.40625 \r\nQ 38.921875 48.1875 33.109375 48.1875 \r\nQ 26.21875 48.1875 22.15625 43.53125 \r\nQ 18.109375 38.875 18.109375 30.90625 \r\nL 18.109375 0 \r\nL 9.078125 0 \r\nL 9.078125 54.6875 \r\nL 18.109375 54.6875 \r\nL 18.109375 46.1875 \r\nQ 21.1875 51.21875 25.484375 53.609375 \r\nQ 29.78125 56 35.6875 56 \r\nQ 41.65625 56 45.828125 52.96875 \r\nQ 50 49.953125 52 44.1875 \r\nz\r\n\" id=\"DejaVuSans-109\"/>\r\n        <path d=\"M 41.109375 46.296875 \r\nQ 39.59375 47.171875 37.8125 47.578125 \r\nQ 36.03125 48 33.890625 48 \r\nQ 26.265625 48 22.1875 43.046875 \r\nQ 18.109375 38.09375 18.109375 28.8125 \r\nL 18.109375 0 \r\nL 9.078125 0 \r\nL 9.078125 54.6875 \r\nL 18.109375 54.6875 \r\nL 18.109375 46.1875 \r\nQ 20.953125 51.171875 25.484375 53.578125 \r\nQ 30.03125 56 36.53125 56 \r\nQ 37.453125 56 38.578125 55.875 \r\nQ 39.703125 55.765625 41.0625 55.515625 \r\nz\r\n\" id=\"DejaVuSans-114\"/>\r\n        <path d=\"M 34.28125 27.484375 \r\nQ 23.390625 27.484375 19.1875 25 \r\nQ 14.984375 22.515625 14.984375 16.5 \r\nQ 14.984375 11.71875 18.140625 8.90625 \r\nQ 21.296875 6.109375 26.703125 6.109375 \r\nQ 34.1875 6.109375 38.703125 11.40625 \r\nQ 43.21875 16.703125 43.21875 25.484375 \r\nL 43.21875 27.484375 \r\nz\r\nM 52.203125 31.203125 \r\nL 52.203125 0 \r\nL 43.21875 0 \r\nL 43.21875 8.296875 \r\nQ 40.140625 3.328125 35.546875 0.953125 \r\nQ 30.953125 -1.421875 24.3125 -1.421875 \r\nQ 15.921875 -1.421875 10.953125 3.296875 \r\nQ 6 8.015625 6 15.921875 \r\nQ 6 25.140625 12.171875 29.828125 \r\nQ 18.359375 34.515625 30.609375 34.515625 \r\nL 43.21875 34.515625 \r\nL 43.21875 35.40625 \r\nQ 43.21875 41.609375 39.140625 45 \r\nQ 35.0625 48.390625 27.6875 48.390625 \r\nQ 23 48.390625 18.546875 47.265625 \r\nQ 14.109375 46.140625 10.015625 43.890625 \r\nL 10.015625 52.203125 \r\nQ 14.9375 54.109375 19.578125 55.046875 \r\nQ 24.21875 56 28.609375 56 \r\nQ 40.484375 56 46.34375 49.84375 \r\nQ 52.203125 43.703125 52.203125 31.203125 \r\nz\r\n\" id=\"DejaVuSans-97\"/>\r\n       </defs>\r\n       <use xlink:href=\"#DejaVuSans-84\"/>\r\n       <use x=\"44.083984\" xlink:href=\"#DejaVuSans-101\"/>\r\n       <use x=\"105.607422\" xlink:href=\"#DejaVuSans-109\"/>\r\n       <use x=\"203.019531\" xlink:href=\"#DejaVuSans-111\"/>\r\n       <use x=\"264.201172\" xlink:href=\"#DejaVuSans-114\"/>\r\n       <use x=\"305.314453\" xlink:href=\"#DejaVuSans-97\"/>\r\n       <use x=\"366.59375\" xlink:href=\"#DejaVuSans-32\"/>\r\n       <use x=\"398.380859\" xlink:href=\"#DejaVuSans-68\"/>\r\n       <use x=\"475.382812\" xlink:href=\"#DejaVuSans-101\"/>\r\n       <use x=\"536.90625\" xlink:href=\"#DejaVuSans-112\"/>\r\n       <use x=\"600.382812\" xlink:href=\"#DejaVuSans-111\"/>\r\n       <use x=\"661.564453\" xlink:href=\"#DejaVuSans-116\"/>\r\n      </g>\r\n     </g>\r\n    </g>\r\n    <g id=\"ytick_3\">\r\n     <g id=\"line2d_11\">\r\n      <g>\r\n       <use style=\"stroke:#000000;stroke-width:0.8;\" x=\"104.121875\" xlink:href=\"#mdb7e6db796\" y=\"131.038125\"/>\r\n      </g>\r\n     </g>\r\n     <g id=\"text_11\">\r\n      <!-- Yass Depot -->\r\n      <g transform=\"translate(42.423438 134.837344)scale(0.1 -0.1)\">\r\n       <defs>\r\n        <path d=\"M 44.28125 53.078125 \r\nL 44.28125 44.578125 \r\nQ 40.484375 46.53125 36.375 47.5 \r\nQ 32.28125 48.484375 27.875 48.484375 \r\nQ 21.1875 48.484375 17.84375 46.4375 \r\nQ 14.5 44.390625 14.5 40.28125 \r\nQ 14.5 37.15625 16.890625 35.375 \r\nQ 19.28125 33.59375 26.515625 31.984375 \r\nL 29.59375 31.296875 \r\nQ 39.15625 29.25 43.1875 25.515625 \r\nQ 47.21875 21.78125 47.21875 15.09375 \r\nQ 47.21875 7.46875 41.1875 3.015625 \r\nQ 35.15625 -1.421875 24.609375 -1.421875 \r\nQ 20.21875 -1.421875 15.453125 -0.5625 \r\nQ 10.6875 0.296875 5.421875 2 \r\nL 5.421875 11.28125 \r\nQ 10.40625 8.6875 15.234375 7.390625 \r\nQ 20.0625 6.109375 24.8125 6.109375 \r\nQ 31.15625 6.109375 34.5625 8.28125 \r\nQ 37.984375 10.453125 37.984375 14.40625 \r\nQ 37.984375 18.0625 35.515625 20.015625 \r\nQ 33.0625 21.96875 24.703125 23.78125 \r\nL 21.578125 24.515625 \r\nQ 13.234375 26.265625 9.515625 29.90625 \r\nQ 5.8125 33.546875 5.8125 39.890625 \r\nQ 5.8125 47.609375 11.28125 51.796875 \r\nQ 16.75 56 26.8125 56 \r\nQ 31.78125 56 36.171875 55.265625 \r\nQ 40.578125 54.546875 44.28125 53.078125 \r\nz\r\n\" id=\"DejaVuSans-115\"/>\r\n       </defs>\r\n       <use xlink:href=\"#DejaVuSans-89\"/>\r\n       <use x=\"47.333984\" xlink:href=\"#DejaVuSans-97\"/>\r\n       <use x=\"108.613281\" xlink:href=\"#DejaVuSans-115\"/>\r\n       <use x=\"160.712891\" xlink:href=\"#DejaVuSans-115\"/>\r\n       <use x=\"212.8125\" xlink:href=\"#DejaVuSans-32\"/>\r\n       <use x=\"244.599609\" xlink:href=\"#DejaVuSans-68\"/>\r\n       <use x=\"321.601562\" xlink:href=\"#DejaVuSans-101\"/>\r\n       <use x=\"383.125\" xlink:href=\"#DejaVuSans-112\"/>\r\n       <use x=\"446.601562\" xlink:href=\"#DejaVuSans-111\"/>\r\n       <use x=\"507.783203\" xlink:href=\"#DejaVuSans-116\"/>\r\n      </g>\r\n     </g>\r\n    </g>\r\n    <g id=\"ytick_4\">\r\n     <g id=\"line2d_12\">\r\n      <g>\r\n       <use style=\"stroke:#000000;stroke-width:0.8;\" x=\"104.121875\" xlink:href=\"#mdb7e6db796\" y=\"87.550125\"/>\r\n      </g>\r\n     </g>\r\n     <g id=\"text_12\">\r\n      <!-- Young Depot -->\r\n      <g transform=\"translate(33.778125 91.349344)scale(0.1 -0.1)\">\r\n       <use xlink:href=\"#DejaVuSans-89\"/>\r\n       <use x=\"47.833984\" xlink:href=\"#DejaVuSans-111\"/>\r\n       <use x=\"109.015625\" xlink:href=\"#DejaVuSans-117\"/>\r\n       <use x=\"172.394531\" xlink:href=\"#DejaVuSans-110\"/>\r\n       <use x=\"235.773438\" xlink:href=\"#DejaVuSans-103\"/>\r\n       <use x=\"299.25\" xlink:href=\"#DejaVuSans-32\"/>\r\n       <use x=\"331.037109\" xlink:href=\"#DejaVuSans-68\"/>\r\n       <use x=\"408.039062\" xlink:href=\"#DejaVuSans-101\"/>\r\n       <use x=\"469.5625\" xlink:href=\"#DejaVuSans-112\"/>\r\n       <use x=\"533.039062\" xlink:href=\"#DejaVuSans-111\"/>\r\n       <use x=\"594.220703\" xlink:href=\"#DejaVuSans-116\"/>\r\n      </g>\r\n     </g>\r\n    </g>\r\n    <g id=\"ytick_5\">\r\n     <g id=\"line2d_13\">\r\n      <g>\r\n       <use style=\"stroke:#000000;stroke-width:0.8;\" x=\"104.121875\" xlink:href=\"#mdb7e6db796\" y=\"44.062125\"/>\r\n      </g>\r\n     </g>\r\n     <g id=\"text_13\">\r\n      <!-- Bathurst Depot -->\r\n      <g transform=\"translate(20.878125 47.861344)scale(0.1 -0.1)\">\r\n       <defs>\r\n        <path d=\"M 19.671875 34.8125 \r\nL 19.671875 8.109375 \r\nL 35.5 8.109375 \r\nQ 43.453125 8.109375 47.28125 11.40625 \r\nQ 51.125 14.703125 51.125 21.484375 \r\nQ 51.125 28.328125 47.28125 31.5625 \r\nQ 43.453125 34.8125 35.5 34.8125 \r\nz\r\nM 19.671875 64.796875 \r\nL 19.671875 42.828125 \r\nL 34.28125 42.828125 \r\nQ 41.5 42.828125 45.03125 45.53125 \r\nQ 48.578125 48.25 48.578125 53.8125 \r\nQ 48.578125 59.328125 45.03125 62.0625 \r\nQ 41.5 64.796875 34.28125 64.796875 \r\nz\r\nM 9.8125 72.90625 \r\nL 35.015625 72.90625 \r\nQ 46.296875 72.90625 52.390625 68.21875 \r\nQ 58.5 63.53125 58.5 54.890625 \r\nQ 58.5 48.1875 55.375 44.234375 \r\nQ 52.25 40.28125 46.1875 39.3125 \r\nQ 53.46875 37.75 57.5 32.78125 \r\nQ 61.53125 27.828125 61.53125 20.40625 \r\nQ 61.53125 10.640625 54.890625 5.3125 \r\nQ 48.25 0 35.984375 0 \r\nL 9.8125 0 \r\nz\r\n\" id=\"DejaVuSans-66\"/>\r\n        <path d=\"M 54.890625 33.015625 \r\nL 54.890625 0 \r\nL 45.90625 0 \r\nL 45.90625 32.71875 \r\nQ 45.90625 40.484375 42.875 44.328125 \r\nQ 39.84375 48.1875 33.796875 48.1875 \r\nQ 26.515625 48.1875 22.3125 43.546875 \r\nQ 18.109375 38.921875 18.109375 30.90625 \r\nL 18.109375 0 \r\nL 9.078125 0 \r\nL 9.078125 75.984375 \r\nL 18.109375 75.984375 \r\nL 18.109375 46.1875 \r\nQ 21.34375 51.125 25.703125 53.5625 \r\nQ 30.078125 56 35.796875 56 \r\nQ 45.21875 56 50.046875 50.171875 \r\nQ 54.890625 44.34375 54.890625 33.015625 \r\nz\r\n\" id=\"DejaVuSans-104\"/>\r\n       </defs>\r\n       <use xlink:href=\"#DejaVuSans-66\"/>\r\n       <use x=\"68.603516\" xlink:href=\"#DejaVuSans-97\"/>\r\n       <use x=\"129.882812\" xlink:href=\"#DejaVuSans-116\"/>\r\n       <use x=\"169.091797\" xlink:href=\"#DejaVuSans-104\"/>\r\n       <use x=\"232.470703\" xlink:href=\"#DejaVuSans-117\"/>\r\n       <use x=\"295.849609\" xlink:href=\"#DejaVuSans-114\"/>\r\n       <use x=\"336.962891\" xlink:href=\"#DejaVuSans-115\"/>\r\n       <use x=\"389.0625\" xlink:href=\"#DejaVuSans-116\"/>\r\n       <use x=\"428.271484\" xlink:href=\"#DejaVuSans-32\"/>\r\n       <use x=\"460.058594\" xlink:href=\"#DejaVuSans-68\"/>\r\n       <use x=\"537.060547\" xlink:href=\"#DejaVuSans-101\"/>\r\n       <use x=\"598.583984\" xlink:href=\"#DejaVuSans-112\"/>\r\n       <use x=\"662.060547\" xlink:href=\"#DejaVuSans-111\"/>\r\n       <use x=\"723.242188\" xlink:href=\"#DejaVuSans-116\"/>\r\n      </g>\r\n     </g>\r\n    </g>\r\n    <g id=\"text_14\">\r\n     <!-- Depot (ZSG Area) -->\r\n     <g transform=\"translate(14.798438 175.215469)rotate(-90)scale(0.1 -0.1)\">\r\n      <defs>\r\n       <path d=\"M 31 75.875 \r\nQ 24.46875 64.65625 21.28125 53.65625 \r\nQ 18.109375 42.671875 18.109375 31.390625 \r\nQ 18.109375 20.125 21.3125 9.0625 \r\nQ 24.515625 -2 31 -13.1875 \r\nL 23.1875 -13.1875 \r\nQ 15.875 -1.703125 12.234375 9.375 \r\nQ 8.59375 20.453125 8.59375 31.390625 \r\nQ 8.59375 42.28125 12.203125 53.3125 \r\nQ 15.828125 64.359375 23.1875 75.875 \r\nz\r\n\" id=\"DejaVuSans-40\"/>\r\n       <path d=\"M 5.609375 72.90625 \r\nL 62.890625 72.90625 \r\nL 62.890625 65.375 \r\nL 16.796875 8.296875 \r\nL 64.015625 8.296875 \r\nL 64.015625 0 \r\nL 4.5 0 \r\nL 4.5 7.515625 \r\nL 50.59375 64.59375 \r\nL 5.609375 64.59375 \r\nz\r\n\" id=\"DejaVuSans-90\"/>\r\n       <path d=\"M 53.515625 70.515625 \r\nL 53.515625 60.890625 \r\nQ 47.90625 63.578125 42.921875 64.890625 \r\nQ 37.9375 66.21875 33.296875 66.21875 \r\nQ 25.25 66.21875 20.875 63.09375 \r\nQ 16.5 59.96875 16.5 54.203125 \r\nQ 16.5 49.359375 19.40625 46.890625 \r\nQ 22.3125 44.4375 30.421875 42.921875 \r\nL 36.375 41.703125 \r\nQ 47.40625 39.59375 52.65625 34.296875 \r\nQ 57.90625 29 57.90625 20.125 \r\nQ 57.90625 9.515625 50.796875 4.046875 \r\nQ 43.703125 -1.421875 29.984375 -1.421875 \r\nQ 24.8125 -1.421875 18.96875 -0.25 \r\nQ 13.140625 0.921875 6.890625 3.21875 \r\nL 6.890625 13.375 \r\nQ 12.890625 10.015625 18.65625 8.296875 \r\nQ 24.421875 6.59375 29.984375 6.59375 \r\nQ 38.421875 6.59375 43.015625 9.90625 \r\nQ 47.609375 13.234375 47.609375 19.390625 \r\nQ 47.609375 24.75 44.3125 27.78125 \r\nQ 41.015625 30.8125 33.5 32.328125 \r\nL 27.484375 33.5 \r\nQ 16.453125 35.6875 11.515625 40.375 \r\nQ 6.59375 45.0625 6.59375 53.421875 \r\nQ 6.59375 63.09375 13.40625 68.65625 \r\nQ 20.21875 74.21875 32.171875 74.21875 \r\nQ 37.3125 74.21875 42.625 73.28125 \r\nQ 47.953125 72.359375 53.515625 70.515625 \r\nz\r\n\" id=\"DejaVuSans-83\"/>\r\n       <path d=\"M 59.515625 10.40625 \r\nL 59.515625 29.984375 \r\nL 43.40625 29.984375 \r\nL 43.40625 38.09375 \r\nL 69.28125 38.09375 \r\nL 69.28125 6.78125 \r\nQ 63.578125 2.734375 56.6875 0.65625 \r\nQ 49.8125 -1.421875 42 -1.421875 \r\nQ 24.90625 -1.421875 15.25 8.5625 \r\nQ 5.609375 18.5625 5.609375 36.375 \r\nQ 5.609375 54.25 15.25 64.234375 \r\nQ 24.90625 74.21875 42 74.21875 \r\nQ 49.125 74.21875 55.546875 72.453125 \r\nQ 61.96875 70.703125 67.390625 67.28125 \r\nL 67.390625 56.78125 \r\nQ 61.921875 61.421875 55.765625 63.765625 \r\nQ 49.609375 66.109375 42.828125 66.109375 \r\nQ 29.4375 66.109375 22.71875 58.640625 \r\nQ 16.015625 51.171875 16.015625 36.375 \r\nQ 16.015625 21.625 22.71875 14.15625 \r\nQ 29.4375 6.6875 42.828125 6.6875 \r\nQ 48.046875 6.6875 52.140625 7.59375 \r\nQ 56.25 8.5 59.515625 10.40625 \r\nz\r\n\" id=\"DejaVuSans-71\"/>\r\n       <path d=\"M 34.1875 63.1875 \r\nL 20.796875 26.90625 \r\nL 47.609375 26.90625 \r\nz\r\nM 28.609375 72.90625 \r\nL 39.796875 72.90625 \r\nL 67.578125 0 \r\nL 57.328125 0 \r\nL 50.6875 18.703125 \r\nL 17.828125 18.703125 \r\nL 11.1875 0 \r\nL 0.78125 0 \r\nz\r\n\" id=\"DejaVuSans-65\"/>\r\n       <path d=\"M 8.015625 75.875 \r\nL 15.828125 75.875 \r\nQ 23.140625 64.359375 26.78125 53.3125 \r\nQ 30.421875 42.28125 30.421875 31.390625 \r\nQ 30.421875 20.453125 26.78125 9.375 \r\nQ 23.140625 -1.703125 15.828125 -13.1875 \r\nL 8.015625 -13.1875 \r\nQ 14.5 -2 17.703125 9.0625 \r\nQ 20.90625 20.125 20.90625 31.390625 \r\nQ 20.90625 42.671875 17.703125 53.65625 \r\nQ 14.5 64.65625 8.015625 75.875 \r\nz\r\n\" id=\"DejaVuSans-41\"/>\r\n      </defs>\r\n      <use xlink:href=\"#DejaVuSans-68\"/>\r\n      <use x=\"77.001953\" xlink:href=\"#DejaVuSans-101\"/>\r\n      <use x=\"138.525391\" xlink:href=\"#DejaVuSans-112\"/>\r\n      <use x=\"202.001953\" xlink:href=\"#DejaVuSans-111\"/>\r\n      <use x=\"263.183594\" xlink:href=\"#DejaVuSans-116\"/>\r\n      <use x=\"302.392578\" xlink:href=\"#DejaVuSans-32\"/>\r\n      <use x=\"334.179688\" xlink:href=\"#DejaVuSans-40\"/>\r\n      <use x=\"373.193359\" xlink:href=\"#DejaVuSans-90\"/>\r\n      <use x=\"441.699219\" xlink:href=\"#DejaVuSans-83\"/>\r\n      <use x=\"505.175781\" xlink:href=\"#DejaVuSans-71\"/>\r\n      <use x=\"582.666016\" xlink:href=\"#DejaVuSans-32\"/>\r\n      <use x=\"614.453125\" xlink:href=\"#DejaVuSans-65\"/>\r\n      <use x=\"682.861328\" xlink:href=\"#DejaVuSans-114\"/>\r\n      <use x=\"721.724609\" xlink:href=\"#DejaVuSans-101\"/>\r\n      <use x=\"783.248047\" xlink:href=\"#DejaVuSans-97\"/>\r\n      <use x=\"844.527344\" xlink:href=\"#DejaVuSans-41\"/>\r\n     </g>\r\n    </g>\r\n   </g>\r\n   <g id=\"patch_18\">\r\n    <path d=\"M 104.121875 239.758125 \r\nL 104.121875 22.318125 \r\n\" style=\"fill:none;stroke:#000000;stroke-linecap:square;stroke-linejoin:miter;stroke-width:0.8;\"/>\r\n   </g>\r\n   <g id=\"patch_19\">\r\n    <path d=\"M 438.921875 239.758125 \r\nL 438.921875 22.318125 \r\n\" style=\"fill:none;stroke:#000000;stroke-linecap:square;stroke-linejoin:miter;stroke-width:0.8;\"/>\r\n   </g>\r\n   <g id=\"patch_20\">\r\n    <path d=\"M 104.121875 239.758125 \r\nL 438.921875 239.758125 \r\n\" style=\"fill:none;stroke:#000000;stroke-linecap:square;stroke-linejoin:miter;stroke-width:0.8;\"/>\r\n   </g>\r\n   <g id=\"patch_21\">\r\n    <path d=\"M 104.121875 22.318125 \r\nL 438.921875 22.318125 \r\n\" style=\"fill:none;stroke:#000000;stroke-linecap:square;stroke-linejoin:miter;stroke-width:0.8;\"/>\r\n   </g>\r\n   <g id=\"text_15\">\r\n    <!-- Depot (ZSG Area) by bin_consequence -->\r\n    <g transform=\"translate(155.369375 16.318125)scale(0.12 -0.12)\">\r\n     <defs>\r\n      <path d=\"M 48.6875 27.296875 \r\nQ 48.6875 37.203125 44.609375 42.84375 \r\nQ 40.53125 48.484375 33.40625 48.484375 \r\nQ 26.265625 48.484375 22.1875 42.84375 \r\nQ 18.109375 37.203125 18.109375 27.296875 \r\nQ 18.109375 17.390625 22.1875 11.75 \r\nQ 26.265625 6.109375 33.40625 6.109375 \r\nQ 40.53125 6.109375 44.609375 11.75 \r\nQ 48.6875 17.390625 48.6875 27.296875 \r\nz\r\nM 18.109375 46.390625 \r\nQ 20.953125 51.265625 25.265625 53.625 \r\nQ 29.59375 56 35.59375 56 \r\nQ 45.5625 56 51.78125 48.09375 \r\nQ 58.015625 40.1875 58.015625 27.296875 \r\nQ 58.015625 14.40625 51.78125 6.484375 \r\nQ 45.5625 -1.421875 35.59375 -1.421875 \r\nQ 29.59375 -1.421875 25.265625 0.953125 \r\nQ 20.953125 3.328125 18.109375 8.203125 \r\nL 18.109375 0 \r\nL 9.078125 0 \r\nL 9.078125 75.984375 \r\nL 18.109375 75.984375 \r\nz\r\n\" id=\"DejaVuSans-98\"/>\r\n      <path d=\"M 32.171875 -5.078125 \r\nQ 28.375 -14.84375 24.75 -17.8125 \r\nQ 21.140625 -20.796875 15.09375 -20.796875 \r\nL 7.90625 -20.796875 \r\nL 7.90625 -13.28125 \r\nL 13.1875 -13.28125 \r\nQ 16.890625 -13.28125 18.9375 -11.515625 \r\nQ 21 -9.765625 23.484375 -3.21875 \r\nL 25.09375 0.875 \r\nL 2.984375 54.6875 \r\nL 12.5 54.6875 \r\nL 29.59375 11.921875 \r\nL 46.6875 54.6875 \r\nL 56.203125 54.6875 \r\nz\r\n\" id=\"DejaVuSans-121\"/>\r\n      <path d=\"M 9.421875 54.6875 \r\nL 18.40625 54.6875 \r\nL 18.40625 0 \r\nL 9.421875 0 \r\nz\r\nM 9.421875 75.984375 \r\nL 18.40625 75.984375 \r\nL 18.40625 64.59375 \r\nL 9.421875 64.59375 \r\nz\r\n\" id=\"DejaVuSans-105\"/>\r\n      <path d=\"M 50.984375 -16.609375 \r\nL 50.984375 -23.578125 \r\nL -0.984375 -23.578125 \r\nL -0.984375 -16.609375 \r\nz\r\n\" id=\"DejaVuSans-95\"/>\r\n      <path d=\"M 48.78125 52.59375 \r\nL 48.78125 44.1875 \r\nQ 44.96875 46.296875 41.140625 47.34375 \r\nQ 37.3125 48.390625 33.40625 48.390625 \r\nQ 24.65625 48.390625 19.8125 42.84375 \r\nQ 14.984375 37.3125 14.984375 27.296875 \r\nQ 14.984375 17.28125 19.8125 11.734375 \r\nQ 24.65625 6.203125 33.40625 6.203125 \r\nQ 37.3125 6.203125 41.140625 7.25 \r\nQ 44.96875 8.296875 48.78125 10.40625 \r\nL 48.78125 2.09375 \r\nQ 45.015625 0.34375 40.984375 -0.53125 \r\nQ 36.96875 -1.421875 32.421875 -1.421875 \r\nQ 20.0625 -1.421875 12.78125 6.34375 \r\nQ 5.515625 14.109375 5.515625 27.296875 \r\nQ 5.515625 40.671875 12.859375 48.328125 \r\nQ 20.21875 56 33.015625 56 \r\nQ 37.15625 56 41.109375 55.140625 \r\nQ 45.0625 54.296875 48.78125 52.59375 \r\nz\r\n\" id=\"DejaVuSans-99\"/>\r\n      <path d=\"M 14.796875 27.296875 \r\nQ 14.796875 17.390625 18.875 11.75 \r\nQ 22.953125 6.109375 30.078125 6.109375 \r\nQ 37.203125 6.109375 41.296875 11.75 \r\nQ 45.40625 17.390625 45.40625 27.296875 \r\nQ 45.40625 37.203125 41.296875 42.84375 \r\nQ 37.203125 48.484375 30.078125 48.484375 \r\nQ 22.953125 48.484375 18.875 42.84375 \r\nQ 14.796875 37.203125 14.796875 27.296875 \r\nz\r\nM 45.40625 8.203125 \r\nQ 42.578125 3.328125 38.25 0.953125 \r\nQ 33.9375 -1.421875 27.875 -1.421875 \r\nQ 17.96875 -1.421875 11.734375 6.484375 \r\nQ 5.515625 14.40625 5.515625 27.296875 \r\nQ 5.515625 40.1875 11.734375 48.09375 \r\nQ 17.96875 56 27.875 56 \r\nQ 33.9375 56 38.25 53.625 \r\nQ 42.578125 51.265625 45.40625 46.390625 \r\nL 45.40625 54.6875 \r\nL 54.390625 54.6875 \r\nL 54.390625 -20.796875 \r\nL 45.40625 -20.796875 \r\nz\r\n\" id=\"DejaVuSans-113\"/>\r\n     </defs>\r\n     <use xlink:href=\"#DejaVuSans-68\"/>\r\n     <use x=\"77.001953\" xlink:href=\"#DejaVuSans-101\"/>\r\n     <use x=\"138.525391\" xlink:href=\"#DejaVuSans-112\"/>\r\n     <use x=\"202.001953\" xlink:href=\"#DejaVuSans-111\"/>\r\n     <use x=\"263.183594\" xlink:href=\"#DejaVuSans-116\"/>\r\n     <use x=\"302.392578\" xlink:href=\"#DejaVuSans-32\"/>\r\n     <use x=\"334.179688\" xlink:href=\"#DejaVuSans-40\"/>\r\n     <use x=\"373.193359\" xlink:href=\"#DejaVuSans-90\"/>\r\n     <use x=\"441.699219\" xlink:href=\"#DejaVuSans-83\"/>\r\n     <use x=\"505.175781\" xlink:href=\"#DejaVuSans-71\"/>\r\n     <use x=\"582.666016\" xlink:href=\"#DejaVuSans-32\"/>\r\n     <use x=\"614.453125\" xlink:href=\"#DejaVuSans-65\"/>\r\n     <use x=\"682.861328\" xlink:href=\"#DejaVuSans-114\"/>\r\n     <use x=\"721.724609\" xlink:href=\"#DejaVuSans-101\"/>\r\n     <use x=\"783.248047\" xlink:href=\"#DejaVuSans-97\"/>\r\n     <use x=\"844.527344\" xlink:href=\"#DejaVuSans-41\"/>\r\n     <use x=\"883.541016\" xlink:href=\"#DejaVuSans-32\"/>\r\n     <use x=\"915.328125\" xlink:href=\"#DejaVuSans-98\"/>\r\n     <use x=\"978.804688\" xlink:href=\"#DejaVuSans-121\"/>\r\n     <use x=\"1037.984375\" xlink:href=\"#DejaVuSans-32\"/>\r\n     <use x=\"1069.771484\" xlink:href=\"#DejaVuSans-98\"/>\r\n     <use x=\"1133.248047\" xlink:href=\"#DejaVuSans-105\"/>\r\n     <use x=\"1161.03125\" xlink:href=\"#DejaVuSans-110\"/>\r\n     <use x=\"1224.410156\" xlink:href=\"#DejaVuSans-95\"/>\r\n     <use x=\"1274.410156\" xlink:href=\"#DejaVuSans-99\"/>\r\n     <use x=\"1329.390625\" xlink:href=\"#DejaVuSans-111\"/>\r\n     <use x=\"1390.572266\" xlink:href=\"#DejaVuSans-110\"/>\r\n     <use x=\"1453.951172\" xlink:href=\"#DejaVuSans-115\"/>\r\n     <use x=\"1506.050781\" xlink:href=\"#DejaVuSans-101\"/>\r\n     <use x=\"1567.574219\" xlink:href=\"#DejaVuSans-113\"/>\r\n     <use x=\"1631.050781\" xlink:href=\"#DejaVuSans-117\"/>\r\n     <use x=\"1694.429688\" xlink:href=\"#DejaVuSans-101\"/>\r\n     <use x=\"1755.953125\" xlink:href=\"#DejaVuSans-110\"/>\r\n     <use x=\"1819.332031\" xlink:href=\"#DejaVuSans-99\"/>\r\n     <use x=\"1874.3125\" xlink:href=\"#DejaVuSans-101\"/>\r\n    </g>\r\n   </g>\r\n   <g id=\"legend_1\">\r\n    <g id=\"patch_22\">\r\n     <path d=\"M 341.3125 234.758125 \r\nL 431.921875 234.758125 \r\nQ 433.921875 234.758125 433.921875 232.758125 \r\nL 433.921875 174.7675 \r\nQ 433.921875 172.7675 431.921875 172.7675 \r\nL 341.3125 172.7675 \r\nQ 339.3125 172.7675 339.3125 174.7675 \r\nL 339.3125 232.758125 \r\nQ 339.3125 234.758125 341.3125 234.758125 \r\nz\r\n\" style=\"fill:#ffffff;opacity:0.8;stroke:#cccccc;stroke-linejoin:miter;\"/>\r\n    </g>\r\n    <g id=\"text_16\">\r\n     <!-- bin_consequence -->\r\n     <g transform=\"translate(343.3125 184.365938)scale(0.1 -0.1)\">\r\n      <use xlink:href=\"#DejaVuSans-98\"/>\r\n      <use x=\"63.476562\" xlink:href=\"#DejaVuSans-105\"/>\r\n      <use x=\"91.259766\" xlink:href=\"#DejaVuSans-110\"/>\r\n      <use x=\"154.638672\" xlink:href=\"#DejaVuSans-95\"/>\r\n      <use x=\"204.638672\" xlink:href=\"#DejaVuSans-99\"/>\r\n      <use x=\"259.619141\" xlink:href=\"#DejaVuSans-111\"/>\r\n      <use x=\"320.800781\" xlink:href=\"#DejaVuSans-110\"/>\r\n      <use x=\"384.179688\" xlink:href=\"#DejaVuSans-115\"/>\r\n      <use x=\"436.279297\" xlink:href=\"#DejaVuSans-101\"/>\r\n      <use x=\"497.802734\" xlink:href=\"#DejaVuSans-113\"/>\r\n      <use x=\"561.279297\" xlink:href=\"#DejaVuSans-117\"/>\r\n      <use x=\"624.658203\" xlink:href=\"#DejaVuSans-101\"/>\r\n      <use x=\"686.181641\" xlink:href=\"#DejaVuSans-110\"/>\r\n      <use x=\"749.560547\" xlink:href=\"#DejaVuSans-99\"/>\r\n      <use x=\"804.541016\" xlink:href=\"#DejaVuSans-101\"/>\r\n     </g>\r\n    </g>\r\n    <g id=\"patch_23\">\r\n     <path d=\"M 361.496094 199.322187 \r\nL 381.496094 199.322187 \r\nL 381.496094 192.322187 \r\nL 361.496094 192.322187 \r\nz\r\n\" style=\"fill:#1f77b4;\"/>\r\n    </g>\r\n    <g id=\"text_17\">\r\n     <!-- low -->\r\n     <g transform=\"translate(389.496094 199.322187)scale(0.1 -0.1)\">\r\n      <defs>\r\n       <path d=\"M 9.421875 75.984375 \r\nL 18.40625 75.984375 \r\nL 18.40625 0 \r\nL 9.421875 0 \r\nz\r\n\" id=\"DejaVuSans-108\"/>\r\n       <path d=\"M 4.203125 54.6875 \r\nL 13.1875 54.6875 \r\nL 24.421875 12.015625 \r\nL 35.59375 54.6875 \r\nL 46.1875 54.6875 \r\nL 57.421875 12.015625 \r\nL 68.609375 54.6875 \r\nL 77.59375 54.6875 \r\nL 63.28125 0 \r\nL 52.6875 0 \r\nL 40.921875 44.828125 \r\nL 29.109375 0 \r\nL 18.5 0 \r\nz\r\n\" id=\"DejaVuSans-119\"/>\r\n      </defs>\r\n      <use xlink:href=\"#DejaVuSans-108\"/>\r\n      <use x=\"27.783203\" xlink:href=\"#DejaVuSans-111\"/>\r\n      <use x=\"88.964844\" xlink:href=\"#DejaVuSans-119\"/>\r\n     </g>\r\n    </g>\r\n    <g id=\"patch_24\">\r\n     <path d=\"M 361.496094 214.000313 \r\nL 381.496094 214.000313 \r\nL 381.496094 207.000313 \r\nL 361.496094 207.000313 \r\nz\r\n\" style=\"fill:#ff7f0e;\"/>\r\n    </g>\r\n    <g id=\"text_18\">\r\n     <!-- med -->\r\n     <g transform=\"translate(389.496094 214.000313)scale(0.1 -0.1)\">\r\n      <defs>\r\n       <path d=\"M 45.40625 46.390625 \r\nL 45.40625 75.984375 \r\nL 54.390625 75.984375 \r\nL 54.390625 0 \r\nL 45.40625 0 \r\nL 45.40625 8.203125 \r\nQ 42.578125 3.328125 38.25 0.953125 \r\nQ 33.9375 -1.421875 27.875 -1.421875 \r\nQ 17.96875 -1.421875 11.734375 6.484375 \r\nQ 5.515625 14.40625 5.515625 27.296875 \r\nQ 5.515625 40.1875 11.734375 48.09375 \r\nQ 17.96875 56 27.875 56 \r\nQ 33.9375 56 38.25 53.625 \r\nQ 42.578125 51.265625 45.40625 46.390625 \r\nz\r\nM 14.796875 27.296875 \r\nQ 14.796875 17.390625 18.875 11.75 \r\nQ 22.953125 6.109375 30.078125 6.109375 \r\nQ 37.203125 6.109375 41.296875 11.75 \r\nQ 45.40625 17.390625 45.40625 27.296875 \r\nQ 45.40625 37.203125 41.296875 42.84375 \r\nQ 37.203125 48.484375 30.078125 48.484375 \r\nQ 22.953125 48.484375 18.875 42.84375 \r\nQ 14.796875 37.203125 14.796875 27.296875 \r\nz\r\n\" id=\"DejaVuSans-100\"/>\r\n      </defs>\r\n      <use xlink:href=\"#DejaVuSans-109\"/>\r\n      <use x=\"97.412109\" xlink:href=\"#DejaVuSans-101\"/>\r\n      <use x=\"158.935547\" xlink:href=\"#DejaVuSans-100\"/>\r\n     </g>\r\n    </g>\r\n    <g id=\"patch_25\">\r\n     <path d=\"M 361.496094 228.678438 \r\nL 381.496094 228.678438 \r\nL 381.496094 221.678438 \r\nL 361.496094 221.678438 \r\nz\r\n\" style=\"fill:#2ca02c;\"/>\r\n    </g>\r\n    <g id=\"text_19\">\r\n     <!-- high -->\r\n     <g transform=\"translate(389.496094 228.678438)scale(0.1 -0.1)\">\r\n      <use xlink:href=\"#DejaVuSans-104\"/>\r\n      <use x=\"63.378906\" xlink:href=\"#DejaVuSans-105\"/>\r\n      <use x=\"91.162109\" xlink:href=\"#DejaVuSans-103\"/>\r\n      <use x=\"154.638672\" xlink:href=\"#DejaVuSans-104\"/>\r\n     </g>\r\n    </g>\r\n   </g>\r\n  </g>\r\n </g>\r\n <defs>\r\n  <clipPath id=\"pa75a98fb06\">\r\n   <rect height=\"217.44\" width=\"334.8\" x=\"104.121875\" y=\"22.318125\"/>\r\n  </clipPath>\r\n </defs>\r\n</svg>\r\n",
      "image/png": "[encoded data removed]"
     },
     "metadata": {
      "needs_background": "light"
     }
    }
   ],
   "source": [
    "index = 'Depot (ZSG Area)'\n",
    "columns = 'bin_consequence' #'BushfirePriority'\n",
    "\n",
    "consequence = df_bins.pivot_table(index=index, columns= columns, values = 'ASSET_ID', aggfunc=len).fillna(0).astype(int)\n",
    "consequence.loc[depots].plot(kind='barh', title=f'{index} by {columns}');"
   ]
  },
  {
   "source": [
    "Using "
   ],
   "cell_type": "markdown",
   "metadata": {}
  },
  {
   "cell_type": "code",
   "execution_count": 39,
   "metadata": {
    "tags": []
   },
   "outputs": [
    {
     "output_type": "stream",
     "name": "stderr",
     "text": [
      "100%|██████████| 1000/1000 [01:49<00:00,  9.15it/s]\n",
      "100%|██████████| 1000/1000 [01:46<00:00,  9.41it/s]\n",
      "100%|██████████| 1000/1000 [02:44<00:00,  6.07it/s]\n",
      "100%|██████████| 1000/1000 [02:08<00:00,  7.75it/s]\n",
      "100%|██████████| 1000/1000 [02:12<00:00,  7.55it/s]\n",
      "100%|██████████| 1000/1000 [01:16<00:00, 13.12it/s]\n",
      "100%|██████████| 1000/1000 [01:28<00:00, 11.32it/s]\n",
      "100%|██████████| 1000/1000 [01:29<00:00, 11.14it/s]\n",
      "100%|██████████| 1000/1000 [01:35<00:00, 10.51it/s]\n"
     ]
    },
    {
     "output_type": "display_data",
     "data": {
      "application/vnd.plotly.v1+json": {
       "config": {
        "plotlyServerURL": "https://plot.ly"
       },
       "data": [
        {
         "hovertemplate": "source=risk<br>inspection_interval=%{x}<br>cost=%{y}<extra></extra>",
         "legendgroup": "risk",
         "line": {
          "color": "#636efa",
          "dash": "solid"
         },
         "mode": "lines",
         "name": "risk",
         "orientation": "v",
         "showlegend": true,
         "type": "scatter",
         "x": [
          1,
          2,
          3,
          4,
          5,
          6,
          7,
          8,
          9
         ],
         "xaxis": "x",
         "y": [
          8400,
          8150,
          9050,
          10650,
          9900,
          9400,
          9550,
          8750,
          9050
         ],
         "yaxis": "y"
        },
        {
         "hovertemplate": "source=conditional_failure<br>inspection_interval=%{x}<br>cost=%{y}<extra></extra>",
         "legendgroup": "conditional_failure",
         "line": {
          "color": "#EF553B",
          "dash": "solid"
         },
         "mode": "lines",
         "name": "conditional_failure",
         "orientation": "v",
         "showlegend": true,
         "type": "scatter",
         "x": [
          1,
          2,
          3,
          4,
          5,
          6,
          7,
          8,
          9
         ],
         "xaxis": "x",
         "y": [
          1827,
          1960,
          1834,
          1855,
          1848,
          1823.5,
          1876,
          2002,
          1816.5
         ],
         "yaxis": "y"
        },
        {
         "hovertemplate": "source=functional_failure<br>inspection_interval=%{x}<br>cost=%{y}<extra></extra>",
         "legendgroup": "functional_failure",
         "line": {
          "color": "#00cc96",
          "dash": "solid"
         },
         "mode": "lines",
         "name": "functional_failure",
         "orientation": "v",
         "showlegend": true,
         "type": "scatter",
         "x": [
          1,
          2,
          3,
          4,
          5,
          6,
          7,
          8,
          9
         ],
         "xaxis": "x",
         "y": [
          1176,
          1141,
          1267,
          1491,
          1386,
          1316,
          1337,
          1225,
          1267
         ],
         "yaxis": "y"
        },
        {
         "hovertemplate": "source=inspection_groundline<br>inspection_interval=%{x}<br>cost=%{y}<extra></extra>",
         "legendgroup": "inspection_groundline",
         "line": {
          "color": "#ab63fa",
          "dash": "solid"
         },
         "mode": "lines",
         "name": "inspection_groundline",
         "orientation": "v",
         "showlegend": true,
         "type": "scatter",
         "x": [
          1,
          2,
          3,
          4,
          5,
          6,
          7,
          8,
          9
         ],
         "xaxis": "x",
         "y": [
          929.8499999999998,
          894.25,
          923.1499999999997,
          898.5500000000001,
          904.45,
          893.4000000000002,
          898.0999999999999,
          895.1000000000003,
          910.4499999999999
         ],
         "yaxis": "y"
        },
        {
         "hovertemplate": "source=inspection_protection<br>inspection_interval=%{x}<br>cost=%{y}<extra></extra>",
         "legendgroup": "inspection_protection",
         "line": {
          "color": "#FFA15A",
          "dash": "solid"
         },
         "mode": "lines",
         "name": "inspection_protection",
         "orientation": "v",
         "showlegend": true,
         "type": "scatter",
         "x": [
          1,
          2,
          3,
          4,
          5,
          6,
          7,
          8,
          9
         ],
         "xaxis": "x",
         "y": [
          0,
          0,
          0,
          0,
          0,
          0,
          0,
          0,
          0
         ],
         "yaxis": "y"
        },
        {
         "hovertemplate": "source=pole_saver_rod<br>inspection_interval=%{x}<br>cost=%{y}<extra></extra>",
         "legendgroup": "pole_saver_rod",
         "line": {
          "color": "#19d3f3",
          "dash": "solid"
         },
         "mode": "lines",
         "name": "pole_saver_rod",
         "orientation": "v",
         "showlegend": true,
         "type": "scatter",
         "x": [
          1,
          2,
          3,
          4,
          5,
          6,
          7,
          8,
          9
         ],
         "xaxis": "x",
         "y": [
          0,
          0,
          0,
          0,
          0,
          0,
          0,
          0,
          0
         ],
         "yaxis": "y"
        },
        {
         "hovertemplate": "source=termite_treatment<br>inspection_interval=%{x}<br>cost=%{y}<extra></extra>",
         "legendgroup": "termite_treatment",
         "line": {
          "color": "#FF6692",
          "dash": "solid"
         },
         "mode": "lines",
         "name": "termite_treatment",
         "orientation": "v",
         "showlegend": true,
         "type": "scatter",
         "x": [
          1,
          2,
          3,
          4,
          5,
          6,
          7,
          8,
          9
         ],
         "xaxis": "x",
         "y": [
          10.600000000000001,
          13.399999999999999,
          13.7,
          12.4,
          12.7,
          11.700000000000001,
          14.100000000000001,
          12.5,
          11.7
         ],
         "yaxis": "y"
        },
        {
         "hovertemplate": "source=total_cost<br>inspection_interval=%{x}<br>cost=%{y}<extra></extra>",
         "legendgroup": "total_cost",
         "line": {
          "color": "#B6E880",
          "dash": "solid"
         },
         "mode": "lines",
         "name": "total_cost",
         "orientation": "v",
         "showlegend": true,
         "type": "scatter",
         "x": [
          1,
          2,
          3,
          4,
          5,
          6,
          7,
          8,
          9
         ],
         "xaxis": "x",
         "y": [
          3943.45,
          4008.65,
          4037.8499999999995,
          4256.95,
          4151.15,
          4044.6,
          4125.200000000001,
          4134.6,
          4005.6499999999996
         ],
         "yaxis": "y"
        },
        {
         "hovertemplate": "source=total<br>inspection_interval=%{x}<br>cost=%{y}<extra></extra>",
         "legendgroup": "total",
         "line": {
          "color": "#FF97FF",
          "dash": "solid"
         },
         "mode": "lines",
         "name": "total",
         "orientation": "v",
         "showlegend": true,
         "type": "scatter",
         "x": [
          1,
          2,
          3,
          4,
          5,
          6,
          7,
          8,
          9
         ],
         "xaxis": "x",
         "y": [
          12343.45,
          12158.65,
          13087.849999999999,
          14906.95,
          14051.15,
          13444.6,
          13675.2,
          12884.6,
          13055.65
         ],
         "yaxis": "y"
        }
       ],
       "layout": {
        "legend": {
         "title": {
          "text": "source"
         },
         "tracegroupgap": 0
        },
        "template": {
         "data": {
          "bar": [
           {
            "error_x": {
             "color": "#2a3f5f"
            },
            "error_y": {
             "color": "#2a3f5f"
            },
            "marker": {
             "line": {
              "color": "#E5ECF6",
              "width": 0.5
             }
            },
            "type": "bar"
           }
          ],
          "barpolar": [
           {
            "marker": {
             "line": {
              "color": "#E5ECF6",
              "width": 0.5
             }
            },
            "type": "barpolar"
           }
          ],
          "carpet": [
           {
            "aaxis": {
             "endlinecolor": "#2a3f5f",
             "gridcolor": "white",
             "linecolor": "white",
             "minorgridcolor": "white",
             "startlinecolor": "#2a3f5f"
            },
            "baxis": {
             "endlinecolor": "#2a3f5f",
             "gridcolor": "white",
             "linecolor": "white",
             "minorgridcolor": "white",
             "startlinecolor": "#2a3f5f"
            },
            "type": "carpet"
           }
          ],
          "choropleth": [
           {
            "colorbar": {
             "outlinewidth": 0,
             "ticks": ""
            },
            "type": "choropleth"
           }
          ],
          "contour": [
           {
            "colorbar": {
             "outlinewidth": 0,
             "ticks": ""
            },
            "colorscale": [
             [
              0,
              "#0d0887"
             ],
             [
              0.1111111111111111,
              "#46039f"
             ],
             [
              0.2222222222222222,
              "#7201a8"
             ],
             [
              0.3333333333333333,
              "#9c179e"
             ],
             [
              0.4444444444444444,
              "#bd3786"
             ],
             [
              0.5555555555555556,
              "#d8576b"
             ],
             [
              0.6666666666666666,
              "#ed7953"
             ],
             [
              0.7777777777777778,
              "#fb9f3a"
             ],
             [
              0.8888888888888888,
              "#fdca26"
             ],
             [
              1,
              "#f0f921"
             ]
            ],
            "type": "contour"
           }
          ],
          "contourcarpet": [
           {
            "colorbar": {
             "outlinewidth": 0,
             "ticks": ""
            },
            "type": "contourcarpet"
           }
          ],
          "heatmap": [
           {
            "colorbar": {
             "outlinewidth": 0,
             "ticks": ""
            },
            "colorscale": [
             [
              0,
              "#0d0887"
             ],
             [
              0.1111111111111111,
              "#46039f"
             ],
             [
              0.2222222222222222,
              "#7201a8"
             ],
             [
              0.3333333333333333,
              "#9c179e"
             ],
             [
              0.4444444444444444,
              "#bd3786"
             ],
             [
              0.5555555555555556,
              "#d8576b"
             ],
             [
              0.6666666666666666,
              "#ed7953"
             ],
             [
              0.7777777777777778,
              "#fb9f3a"
             ],
             [
              0.8888888888888888,
              "#fdca26"
             ],
             [
              1,
              "#f0f921"
             ]
            ],
            "type": "heatmap"
           }
          ],
          "heatmapgl": [
           {
            "colorbar": {
             "outlinewidth": 0,
             "ticks": ""
            },
            "colorscale": [
             [
              0,
              "#0d0887"
             ],
             [
              0.1111111111111111,
              "#46039f"
             ],
             [
              0.2222222222222222,
              "#7201a8"
             ],
             [
              0.3333333333333333,
              "#9c179e"
             ],
             [
              0.4444444444444444,
              "#bd3786"
             ],
             [
              0.5555555555555556,
              "#d8576b"
             ],
             [
              0.6666666666666666,
              "#ed7953"
             ],
             [
              0.7777777777777778,
              "#fb9f3a"
             ],
             [
              0.8888888888888888,
              "#fdca26"
             ],
             [
              1,
              "#f0f921"
             ]
            ],
            "type": "heatmapgl"
           }
          ],
          "histogram": [
           {
            "marker": {
             "colorbar": {
              "outlinewidth": 0,
              "ticks": ""
             }
            },
            "type": "histogram"
           }
          ],
          "histogram2d": [
           {
            "colorbar": {
             "outlinewidth": 0,
             "ticks": ""
            },
            "colorscale": [
             [
              0,
              "#0d0887"
             ],
             [
              0.1111111111111111,
              "#46039f"
             ],
             [
              0.2222222222222222,
              "#7201a8"
             ],
             [
              0.3333333333333333,
              "#9c179e"
             ],
             [
              0.4444444444444444,
              "#bd3786"
             ],
             [
              0.5555555555555556,
              "#d8576b"
             ],
             [
              0.6666666666666666,
              "#ed7953"
             ],
             [
              0.7777777777777778,
              "#fb9f3a"
             ],
             [
              0.8888888888888888,
              "#fdca26"
             ],
             [
              1,
              "#f0f921"
             ]
            ],
            "type": "histogram2d"
           }
          ],
          "histogram2dcontour": [
           {
            "colorbar": {
             "outlinewidth": 0,
             "ticks": ""
            },
            "colorscale": [
             [
              0,
              "#0d0887"
             ],
             [
              0.1111111111111111,
              "#46039f"
             ],
             [
              0.2222222222222222,
              "#7201a8"
             ],
             [
              0.3333333333333333,
              "#9c179e"
             ],
             [
              0.4444444444444444,
              "#bd3786"
             ],
             [
              0.5555555555555556,
              "#d8576b"
             ],
             [
              0.6666666666666666,
              "#ed7953"
             ],
             [
              0.7777777777777778,
              "#fb9f3a"
             ],
             [
              0.8888888888888888,
              "#fdca26"
             ],
             [
              1,
              "#f0f921"
             ]
            ],
            "type": "histogram2dcontour"
           }
          ],
          "mesh3d": [
           {
            "colorbar": {
             "outlinewidth": 0,
             "ticks": ""
            },
            "type": "mesh3d"
           }
          ],
          "parcoords": [
           {
            "line": {
             "colorbar": {
              "outlinewidth": 0,
              "ticks": ""
             }
            },
            "type": "parcoords"
           }
          ],
          "pie": [
           {
            "automargin": true,
            "type": "pie"
           }
          ],
          "scatter": [
           {
            "marker": {
             "colorbar": {
              "outlinewidth": 0,
              "ticks": ""
             }
            },
            "type": "scatter"
           }
          ],
          "scatter3d": [
           {
            "line": {
             "colorbar": {
              "outlinewidth": 0,
              "ticks": ""
             }
            },
            "marker": {
             "colorbar": {
              "outlinewidth": 0,
              "ticks": ""
             }
            },
            "type": "scatter3d"
           }
          ],
          "scattercarpet": [
           {
            "marker": {
             "colorbar": {
              "outlinewidth": 0,
              "ticks": ""
             }
            },
            "type": "scattercarpet"
           }
          ],
          "scattergeo": [
           {
            "marker": {
             "colorbar": {
              "outlinewidth": 0,
              "ticks": ""
             }
            },
            "type": "scattergeo"
           }
          ],
          "scattergl": [
           {
            "marker": {
             "colorbar": {
              "outlinewidth": 0,
              "ticks": ""
             }
            },
            "type": "scattergl"
           }
          ],
          "scattermapbox": [
           {
            "marker": {
             "colorbar": {
              "outlinewidth": 0,
              "ticks": ""
             }
            },
            "type": "scattermapbox"
           }
          ],
          "scatterpolar": [
           {
            "marker": {
             "colorbar": {
              "outlinewidth": 0,
              "ticks": ""
             }
            },
            "type": "scatterpolar"
           }
          ],
          "scatterpolargl": [
           {
            "marker": {
             "colorbar": {
              "outlinewidth": 0,
              "ticks": ""
             }
            },
            "type": "scatterpolargl"
           }
          ],
          "scatterternary": [
           {
            "marker": {
             "colorbar": {
              "outlinewidth": 0,
              "ticks": ""
             }
            },
            "type": "scatterternary"
           }
          ],
          "surface": [
           {
            "colorbar": {
             "outlinewidth": 0,
             "ticks": ""
            },
            "colorscale": [
             [
              0,
              "#0d0887"
             ],
             [
              0.1111111111111111,
              "#46039f"
             ],
             [
              0.2222222222222222,
              "#7201a8"
             ],
             [
              0.3333333333333333,
              "#9c179e"
             ],
             [
              0.4444444444444444,
              "#bd3786"
             ],
             [
              0.5555555555555556,
              "#d8576b"
             ],
             [
              0.6666666666666666,
              "#ed7953"
             ],
             [
              0.7777777777777778,
              "#fb9f3a"
             ],
             [
              0.8888888888888888,
              "#fdca26"
             ],
             [
              1,
              "#f0f921"
             ]
            ],
            "type": "surface"
           }
          ],
          "table": [
           {
            "cells": {
             "fill": {
              "color": "#EBF0F8"
             },
             "line": {
              "color": "white"
             }
            },
            "header": {
             "fill": {
              "color": "#C8D4E3"
             },
             "line": {
              "color": "white"
             }
            },
            "type": "table"
           }
          ]
         },
         "layout": {
          "annotationdefaults": {
           "arrowcolor": "#2a3f5f",
           "arrowhead": 0,
           "arrowwidth": 1
          },
          "coloraxis": {
           "colorbar": {
            "outlinewidth": 0,
            "ticks": ""
           }
          },
          "colorscale": {
           "diverging": [
            [
             0,
             "#8e0152"
            ],
            [
             0.1,
             "#c51b7d"
            ],
            [
             0.2,
             "#de77ae"
            ],
            [
             0.3,
             "#f1b6da"
            ],
            [
             0.4,
             "#fde0ef"
            ],
            [
             0.5,
             "#f7f7f7"
            ],
            [
             0.6,
             "#e6f5d0"
            ],
            [
             0.7,
             "#b8e186"
            ],
            [
             0.8,
             "#7fbc41"
            ],
            [
             0.9,
             "#4d9221"
            ],
            [
             1,
             "#276419"
            ]
           ],
           "sequential": [
            [
             0,
             "#0d0887"
            ],
            [
             0.1111111111111111,
             "#46039f"
            ],
            [
             0.2222222222222222,
             "#7201a8"
            ],
            [
             0.3333333333333333,
             "#9c179e"
            ],
            [
             0.4444444444444444,
             "#bd3786"
            ],
            [
             0.5555555555555556,
             "#d8576b"
            ],
            [
             0.6666666666666666,
             "#ed7953"
            ],
            [
             0.7777777777777778,
             "#fb9f3a"
            ],
            [
             0.8888888888888888,
             "#fdca26"
            ],
            [
             1,
             "#f0f921"
            ]
           ],
           "sequentialminus": [
            [
             0,
             "#0d0887"
            ],
            [
             0.1111111111111111,
             "#46039f"
            ],
            [
             0.2222222222222222,
             "#7201a8"
            ],
            [
             0.3333333333333333,
             "#9c179e"
            ],
            [
             0.4444444444444444,
             "#bd3786"
            ],
            [
             0.5555555555555556,
             "#d8576b"
            ],
            [
             0.6666666666666666,
             "#ed7953"
            ],
            [
             0.7777777777777778,
             "#fb9f3a"
            ],
            [
             0.8888888888888888,
             "#fdca26"
            ],
            [
             1,
             "#f0f921"
            ]
           ]
          },
          "colorway": [
           "#636efa",
           "#EF553B",
           "#00cc96",
           "#ab63fa",
           "#FFA15A",
           "#19d3f3",
           "#FF6692",
           "#B6E880",
           "#FF97FF",
           "#FECB52"
          ],
          "font": {
           "color": "#2a3f5f"
          },
          "geo": {
           "bgcolor": "white",
           "lakecolor": "white",
           "landcolor": "#E5ECF6",
           "showlakes": true,
           "showland": true,
           "subunitcolor": "white"
          },
          "hoverlabel": {
           "align": "left"
          },
          "hovermode": "closest",
          "mapbox": {
           "style": "light"
          },
          "paper_bgcolor": "white",
          "plot_bgcolor": "#E5ECF6",
          "polar": {
           "angularaxis": {
            "gridcolor": "white",
            "linecolor": "white",
            "ticks": ""
           },
           "bgcolor": "#E5ECF6",
           "radialaxis": {
            "gridcolor": "white",
            "linecolor": "white",
            "ticks": ""
           }
          },
          "scene": {
           "xaxis": {
            "backgroundcolor": "#E5ECF6",
            "gridcolor": "white",
            "gridwidth": 2,
            "linecolor": "white",
            "showbackground": true,
            "ticks": "",
            "zerolinecolor": "white"
           },
           "yaxis": {
            "backgroundcolor": "#E5ECF6",
            "gridcolor": "white",
            "gridwidth": 2,
            "linecolor": "white",
            "showbackground": true,
            "ticks": "",
            "zerolinecolor": "white"
           },
           "zaxis": {
            "backgroundcolor": "#E5ECF6",
            "gridcolor": "white",
            "gridwidth": 2,
            "linecolor": "white",
            "showbackground": true,
            "ticks": "",
            "zerolinecolor": "white"
           }
          },
          "shapedefaults": {
           "line": {
            "color": "#2a3f5f"
           }
          },
          "ternary": {
           "aaxis": {
            "gridcolor": "white",
            "linecolor": "white",
            "ticks": ""
           },
           "baxis": {
            "gridcolor": "white",
            "linecolor": "white",
            "ticks": ""
           },
           "bgcolor": "#E5ECF6",
           "caxis": {
            "gridcolor": "white",
            "linecolor": "white",
            "ticks": ""
           }
          },
          "title": {
           "x": 0.05
          },
          "xaxis": {
           "automargin": true,
           "gridcolor": "white",
           "linecolor": "white",
           "ticks": "",
           "title": {
            "standoff": 15
           },
           "zerolinecolor": "white",
           "zerolinewidth": 2
          },
          "yaxis": {
           "automargin": true,
           "gridcolor": "white",
           "linecolor": "white",
           "ticks": "",
           "title": {
            "standoff": 15
           },
           "zerolinecolor": "white",
           "zerolinewidth": 2
          }
         }
        },
        "title": {
         "text": "Risk v Cost at different Inspection Intervals"
        },
        "xaxis": {
         "anchor": "y",
         "domain": [
          0,
          1
         ],
         "title": {
          "text": "inspection_interval"
         }
        },
        "yaxis": {
         "anchor": "x",
         "domain": [
          0,
          1
         ],
         "title": {
          "text": "cost"
         }
        }
       }
      }
     },
     "metadata": {}
    }
   ],
   "source": [
    "\n",
    "def update_inspection_interval_figure():\n",
    "    \n",
    "    df = expected_inspection_interval(lower=1, upper=10, n_iterations=1000)\n",
    "    df_plot = df.melt(id_vars='inspection_interval', var_name = 'source', value_name='cost')\n",
    "    fig = px.line(df_plot, x=\"inspection_interval\", y=\"cost\", color='source', title='Risk v Cost at different Inspection Intervals')\n",
    "    return fig\n",
    "\n",
    "clear_output(True)\n",
    "update_inspection_interval_figure().show()"
   ]
  },
  {
   "cell_type": "code",
   "execution_count": 28,
   "metadata": {},
   "outputs": [],
   "source": [
    "def df_all_generator(by, col, sens_var, n_iterations=1000, t_min=1, t_max=5, t_end=100):\n",
    "    \"\"\"\n",
    "    This function generates df_all\n",
    "    \"\"\"\n",
    "    scen = dict()\n",
    "\n",
    "    category_value = df_bins.groupby(by=by)[col].mean()\n",
    "\n",
    "    for category, value in zip(category_value.index, category_value.to_numpy().astype(int)):\n",
    "        comp = Component.demo()\n",
    "\n",
    "        # Update consequence for all the failure modes\n",
    "        for fm in comp.fm.values():\n",
    "            fm.consequence.risk_cost_total = value\n",
    "\n",
    "        scen[category] = comp.expected_sensitivity(t_min, t_max, n_iterations, t_end)\n",
    "\n",
    "    df_all = pd.concat(scen).reset_index()\n",
    "    df_all = df_all.rename(columns = {'level_0':by, 'level_1':sens_var})\n",
    "\n",
    "    # Check there aren't any duplictes #TODO remove when changing to sensitivity\n",
    "    df_all = df_all.loc[:,~df_all.columns.duplicated()]\n",
    "    #TODO will need to get total time from components\n",
    "    df_all['annual_value_lost'] = (df_all['total'] - df_all.groupby(by =by)['total'].transform('min'))/t_end # time considered\n",
    "\n",
    "    # clear_output(True)\n",
    "    return df_all"
   ]
  },
  {
   "cell_type": "code",
   "execution_count": 30,
   "metadata": {},
   "outputs": [
    {
     "output_type": "error",
     "ename": "AttributeError",
     "evalue": "'int' object has no attribute 'split'",
     "traceback": [
      "\u001b[1;31m---------------------------------------------------------------------------\u001b[0m",
      "\u001b[1;31mAttributeError\u001b[0m                            Traceback (most recent call last)",
      "\u001b[1;32m<ipython-input-30-5b9df3114dc1>\u001b[0m in \u001b[0;36m<module>\u001b[1;34m\u001b[0m\n\u001b[0;32m      3\u001b[0m \u001b[0msens_var\u001b[0m \u001b[1;33m=\u001b[0m \u001b[1;34m'inspection_interval'\u001b[0m\u001b[1;33m\u001b[0m\u001b[1;33m\u001b[0m\u001b[0m\n\u001b[0;32m      4\u001b[0m \u001b[1;33m\u001b[0m\u001b[0m\n\u001b[1;32m----> 5\u001b[1;33m \u001b[0mdf_all\u001b[0m \u001b[1;33m=\u001b[0m \u001b[0mdf_all_generator\u001b[0m\u001b[1;33m(\u001b[0m\u001b[0mby\u001b[0m \u001b[1;33m=\u001b[0m \u001b[0mby\u001b[0m\u001b[1;33m,\u001b[0m \u001b[0mcol\u001b[0m \u001b[1;33m=\u001b[0m \u001b[0mcol\u001b[0m\u001b[1;33m,\u001b[0m \u001b[0msens_var\u001b[0m \u001b[1;33m=\u001b[0m \u001b[0msens_var\u001b[0m\u001b[1;33m)\u001b[0m\u001b[1;33m\u001b[0m\u001b[1;33m\u001b[0m\u001b[0m\n\u001b[0m\u001b[0;32m      6\u001b[0m \u001b[1;33m\u001b[0m\u001b[0m\n\u001b[0;32m      7\u001b[0m \u001b[0mdf_all\u001b[0m\u001b[1;33m.\u001b[0m\u001b[0mhead\u001b[0m\u001b[1;33m(\u001b[0m\u001b[1;33m)\u001b[0m\u001b[1;33m\u001b[0m\u001b[1;33m\u001b[0m\u001b[0m\n",
      "\u001b[1;32m<ipython-input-28-c64df5a1e32b>\u001b[0m in \u001b[0;36mdf_all_generator\u001b[1;34m(by, col, sens_var, n_iterations, t_min, t_max, t_end)\u001b[0m\n\u001b[0;32m     14\u001b[0m             \u001b[0mfm\u001b[0m\u001b[1;33m.\u001b[0m\u001b[0mconsequence\u001b[0m\u001b[1;33m.\u001b[0m\u001b[0mrisk_cost_total\u001b[0m \u001b[1;33m=\u001b[0m \u001b[0mvalue\u001b[0m\u001b[1;33m\u001b[0m\u001b[1;33m\u001b[0m\u001b[0m\n\u001b[0;32m     15\u001b[0m \u001b[1;33m\u001b[0m\u001b[0m\n\u001b[1;32m---> 16\u001b[1;33m         \u001b[0mscen\u001b[0m\u001b[1;33m[\u001b[0m\u001b[0mcategory\u001b[0m\u001b[1;33m]\u001b[0m \u001b[1;33m=\u001b[0m \u001b[0mcomp\u001b[0m\u001b[1;33m.\u001b[0m\u001b[0mexpected_sensitivity\u001b[0m\u001b[1;33m(\u001b[0m\u001b[0mt_min\u001b[0m\u001b[1;33m,\u001b[0m \u001b[0mt_max\u001b[0m\u001b[1;33m,\u001b[0m \u001b[0mn_iterations\u001b[0m\u001b[1;33m,\u001b[0m \u001b[0mt_end\u001b[0m\u001b[1;33m)\u001b[0m\u001b[1;33m\u001b[0m\u001b[1;33m\u001b[0m\u001b[0m\n\u001b[0m\u001b[0;32m     17\u001b[0m \u001b[1;33m\u001b[0m\u001b[0m\n\u001b[0;32m     18\u001b[0m     \u001b[0mdf_all\u001b[0m \u001b[1;33m=\u001b[0m \u001b[0mpd\u001b[0m\u001b[1;33m.\u001b[0m\u001b[0mconcat\u001b[0m\u001b[1;33m(\u001b[0m\u001b[0mscen\u001b[0m\u001b[1;33m)\u001b[0m\u001b[1;33m.\u001b[0m\u001b[0mreset_index\u001b[0m\u001b[1;33m(\u001b[0m\u001b[1;33m)\u001b[0m\u001b[1;33m\u001b[0m\u001b[1;33m\u001b[0m\u001b[0m\n",
      "\u001b[1;32m~\\OneDrive - KPMG\\Documents\\3. Client\\Essential Energy\\Probability of Failure Model\\pof\\pof\\component.py\u001b[0m in \u001b[0;36mexpected_sensitivity\u001b[1;34m(self, var_id, lower, upper, step_size, n_iterations, t_end)\u001b[0m\n\u001b[0;32m    582\u001b[0m         \u001b[0mself\u001b[0m\u001b[1;33m.\u001b[0m\u001b[0mn_sens_iterations\u001b[0m \u001b[1;33m=\u001b[0m \u001b[0mint\u001b[0m\u001b[1;33m(\u001b[0m\u001b[1;33m(\u001b[0m\u001b[0mupper\u001b[0m \u001b[1;33m-\u001b[0m \u001b[0mlower\u001b[0m\u001b[1;33m)\u001b[0m \u001b[1;33m/\u001b[0m \u001b[0mstep_size\u001b[0m \u001b[1;33m+\u001b[0m \u001b[0mstep_size\u001b[0m\u001b[1;33m)\u001b[0m\u001b[1;33m\u001b[0m\u001b[1;33m\u001b[0m\u001b[0m\n\u001b[0;32m    583\u001b[0m \u001b[1;33m\u001b[0m\u001b[0m\n\u001b[1;32m--> 584\u001b[1;33m         \u001b[0mvar\u001b[0m \u001b[1;33m=\u001b[0m \u001b[0mvar_id\u001b[0m\u001b[1;33m.\u001b[0m\u001b[0msplit\u001b[0m\u001b[1;33m(\u001b[0m\u001b[1;34m\"-\"\u001b[0m\u001b[1;33m)\u001b[0m\u001b[1;33m[\u001b[0m\u001b[1;33m-\u001b[0m\u001b[1;36m1\u001b[0m\u001b[1;33m]\u001b[0m\u001b[1;33m\u001b[0m\u001b[1;33m\u001b[0m\u001b[0m\n\u001b[0m\u001b[0;32m    585\u001b[0m \u001b[1;33m\u001b[0m\u001b[0m\n\u001b[0;32m    586\u001b[0m         \u001b[0mprefix\u001b[0m \u001b[1;33m=\u001b[0m \u001b[1;33m[\u001b[0m\u001b[1;34m\"quantity\"\u001b[0m\u001b[1;33m,\u001b[0m \u001b[1;34m\"cost\"\u001b[0m\u001b[1;33m]\u001b[0m\u001b[1;33m\u001b[0m\u001b[1;33m\u001b[0m\u001b[0m\n",
      "\u001b[1;31mAttributeError\u001b[0m: 'int' object has no attribute 'split'"
     ]
    }
   ],
   "source": [
    "by = 'bin_consequence'\n",
    "col = 'Total Consequence $'\n",
    "sens_var = 'inspection_interval'\n",
    "\n",
    "df_all = df_all_generator(by = by, col = col, sens_var = sens_var)\n",
    "\n",
    "df_all.head()"
   ]
  },
  {
   "source": [
    "\n",
    "df_plot = df_all\n",
    "fig = px.line(df_plot, x=sens_var, y=\"annual_value_lost\", color=by, title=f'Risk v Cost at different {sens_var}', color_discrete_sequence=px.colors.qualitative.Vivid)\n",
    "fig.show()"
   ],
   "cell_type": "code",
   "metadata": {},
   "execution_count": 13,
   "outputs": [
    {
     "output_type": "display_data",
     "data": {
      "application/vnd.plotly.v1+json": {
       "config": {
        "plotlyServerURL": "https://plot.ly"
       },
       "data": [
        {
         "hovertemplate": "bin_consequence=low<br>inspection_interval=%{x}<br>annual_value_lost=%{y}<extra></extra>",
         "legendgroup": "low",
         "line": {
          "color": "rgb(229, 134, 6)",
          "dash": "solid"
         },
         "mode": "lines",
         "name": "low",
         "orientation": "v",
         "showlegend": true,
         "type": "scatter",
         "x": [
          1,
          2,
          3,
          4
         ],
         "xaxis": "x",
         "y": [
          13.26,
          0,
          6.85,
          35
         ],
         "yaxis": "y"
        },
        {
         "hovertemplate": "bin_consequence=med<br>inspection_interval=%{x}<br>annual_value_lost=%{y}<extra></extra>",
         "legendgroup": "med",
         "line": {
          "color": "rgb(93, 105, 177)",
          "dash": "solid"
         },
         "mode": "lines",
         "name": "med",
         "orientation": "v",
         "showlegend": true,
         "type": "scatter",
         "x": [
          1,
          2,
          3,
          4
         ],
         "xaxis": "x",
         "y": [
          25.34,
          0,
          0.83,
          36.66
         ],
         "yaxis": "y"
        },
        {
         "hovertemplate": "bin_consequence=high<br>inspection_interval=%{x}<br>annual_value_lost=%{y}<extra></extra>",
         "legendgroup": "high",
         "line": {
          "color": "rgb(82, 188, 163)",
          "dash": "solid"
         },
         "mode": "lines",
         "name": "high",
         "orientation": "v",
         "showlegend": true,
         "type": "scatter",
         "x": [
          1,
          2,
          3,
          4
         ],
         "xaxis": "x",
         "y": [
          13.76,
          0,
          5.3,
          33.15
         ],
         "yaxis": "y"
        }
       ],
       "layout": {
        "legend": {
         "title": {
          "text": "bin_consequence"
         },
         "tracegroupgap": 0
        },
        "template": {
         "data": {
          "bar": [
           {
            "error_x": {
             "color": "#2a3f5f"
            },
            "error_y": {
             "color": "#2a3f5f"
            },
            "marker": {
             "line": {
              "color": "#E5ECF6",
              "width": 0.5
             }
            },
            "type": "bar"
           }
          ],
          "barpolar": [
           {
            "marker": {
             "line": {
              "color": "#E5ECF6",
              "width": 0.5
             }
            },
            "type": "barpolar"
           }
          ],
          "carpet": [
           {
            "aaxis": {
             "endlinecolor": "#2a3f5f",
             "gridcolor": "white",
             "linecolor": "white",
             "minorgridcolor": "white",
             "startlinecolor": "#2a3f5f"
            },
            "baxis": {
             "endlinecolor": "#2a3f5f",
             "gridcolor": "white",
             "linecolor": "white",
             "minorgridcolor": "white",
             "startlinecolor": "#2a3f5f"
            },
            "type": "carpet"
           }
          ],
          "choropleth": [
           {
            "colorbar": {
             "outlinewidth": 0,
             "ticks": ""
            },
            "type": "choropleth"
           }
          ],
          "contour": [
           {
            "colorbar": {
             "outlinewidth": 0,
             "ticks": ""
            },
            "colorscale": [
             [
              0,
              "#0d0887"
             ],
             [
              0.1111111111111111,
              "#46039f"
             ],
             [
              0.2222222222222222,
              "#7201a8"
             ],
             [
              0.3333333333333333,
              "#9c179e"
             ],
             [
              0.4444444444444444,
              "#bd3786"
             ],
             [
              0.5555555555555556,
              "#d8576b"
             ],
             [
              0.6666666666666666,
              "#ed7953"
             ],
             [
              0.7777777777777778,
              "#fb9f3a"
             ],
             [
              0.8888888888888888,
              "#fdca26"
             ],
             [
              1,
              "#f0f921"
             ]
            ],
            "type": "contour"
           }
          ],
          "contourcarpet": [
           {
            "colorbar": {
             "outlinewidth": 0,
             "ticks": ""
            },
            "type": "contourcarpet"
           }
          ],
          "heatmap": [
           {
            "colorbar": {
             "outlinewidth": 0,
             "ticks": ""
            },
            "colorscale": [
             [
              0,
              "#0d0887"
             ],
             [
              0.1111111111111111,
              "#46039f"
             ],
             [
              0.2222222222222222,
              "#7201a8"
             ],
             [
              0.3333333333333333,
              "#9c179e"
             ],
             [
              0.4444444444444444,
              "#bd3786"
             ],
             [
              0.5555555555555556,
              "#d8576b"
             ],
             [
              0.6666666666666666,
              "#ed7953"
             ],
             [
              0.7777777777777778,
              "#fb9f3a"
             ],
             [
              0.8888888888888888,
              "#fdca26"
             ],
             [
              1,
              "#f0f921"
             ]
            ],
            "type": "heatmap"
           }
          ],
          "heatmapgl": [
           {
            "colorbar": {
             "outlinewidth": 0,
             "ticks": ""
            },
            "colorscale": [
             [
              0,
              "#0d0887"
             ],
             [
              0.1111111111111111,
              "#46039f"
             ],
             [
              0.2222222222222222,
              "#7201a8"
             ],
             [
              0.3333333333333333,
              "#9c179e"
             ],
             [
              0.4444444444444444,
              "#bd3786"
             ],
             [
              0.5555555555555556,
              "#d8576b"
             ],
             [
              0.6666666666666666,
              "#ed7953"
             ],
             [
              0.7777777777777778,
              "#fb9f3a"
             ],
             [
              0.8888888888888888,
              "#fdca26"
             ],
             [
              1,
              "#f0f921"
             ]
            ],
            "type": "heatmapgl"
           }
          ],
          "histogram": [
           {
            "marker": {
             "colorbar": {
              "outlinewidth": 0,
              "ticks": ""
             }
            },
            "type": "histogram"
           }
          ],
          "histogram2d": [
           {
            "colorbar": {
             "outlinewidth": 0,
             "ticks": ""
            },
            "colorscale": [
             [
              0,
              "#0d0887"
             ],
             [
              0.1111111111111111,
              "#46039f"
             ],
             [
              0.2222222222222222,
              "#7201a8"
             ],
             [
              0.3333333333333333,
              "#9c179e"
             ],
             [
              0.4444444444444444,
              "#bd3786"
             ],
             [
              0.5555555555555556,
              "#d8576b"
             ],
             [
              0.6666666666666666,
              "#ed7953"
             ],
             [
              0.7777777777777778,
              "#fb9f3a"
             ],
             [
              0.8888888888888888,
              "#fdca26"
             ],
             [
              1,
              "#f0f921"
             ]
            ],
            "type": "histogram2d"
           }
          ],
          "histogram2dcontour": [
           {
            "colorbar": {
             "outlinewidth": 0,
             "ticks": ""
            },
            "colorscale": [
             [
              0,
              "#0d0887"
             ],
             [
              0.1111111111111111,
              "#46039f"
             ],
             [
              0.2222222222222222,
              "#7201a8"
             ],
             [
              0.3333333333333333,
              "#9c179e"
             ],
             [
              0.4444444444444444,
              "#bd3786"
             ],
             [
              0.5555555555555556,
              "#d8576b"
             ],
             [
              0.6666666666666666,
              "#ed7953"
             ],
             [
              0.7777777777777778,
              "#fb9f3a"
             ],
             [
              0.8888888888888888,
              "#fdca26"
             ],
             [
              1,
              "#f0f921"
             ]
            ],
            "type": "histogram2dcontour"
           }
          ],
          "mesh3d": [
           {
            "colorbar": {
             "outlinewidth": 0,
             "ticks": ""
            },
            "type": "mesh3d"
           }
          ],
          "parcoords": [
           {
            "line": {
             "colorbar": {
              "outlinewidth": 0,
              "ticks": ""
             }
            },
            "type": "parcoords"
           }
          ],
          "pie": [
           {
            "automargin": true,
            "type": "pie"
           }
          ],
          "scatter": [
           {
            "marker": {
             "colorbar": {
              "outlinewidth": 0,
              "ticks": ""
             }
            },
            "type": "scatter"
           }
          ],
          "scatter3d": [
           {
            "line": {
             "colorbar": {
              "outlinewidth": 0,
              "ticks": ""
             }
            },
            "marker": {
             "colorbar": {
              "outlinewidth": 0,
              "ticks": ""
             }
            },
            "type": "scatter3d"
           }
          ],
          "scattercarpet": [
           {
            "marker": {
             "colorbar": {
              "outlinewidth": 0,
              "ticks": ""
             }
            },
            "type": "scattercarpet"
           }
          ],
          "scattergeo": [
           {
            "marker": {
             "colorbar": {
              "outlinewidth": 0,
              "ticks": ""
             }
            },
            "type": "scattergeo"
           }
          ],
          "scattergl": [
           {
            "marker": {
             "colorbar": {
              "outlinewidth": 0,
              "ticks": ""
             }
            },
            "type": "scattergl"
           }
          ],
          "scattermapbox": [
           {
            "marker": {
             "colorbar": {
              "outlinewidth": 0,
              "ticks": ""
             }
            },
            "type": "scattermapbox"
           }
          ],
          "scatterpolar": [
           {
            "marker": {
             "colorbar": {
              "outlinewidth": 0,
              "ticks": ""
             }
            },
            "type": "scatterpolar"
           }
          ],
          "scatterpolargl": [
           {
            "marker": {
             "colorbar": {
              "outlinewidth": 0,
              "ticks": ""
             }
            },
            "type": "scatterpolargl"
           }
          ],
          "scatterternary": [
           {
            "marker": {
             "colorbar": {
              "outlinewidth": 0,
              "ticks": ""
             }
            },
            "type": "scatterternary"
           }
          ],
          "surface": [
           {
            "colorbar": {
             "outlinewidth": 0,
             "ticks": ""
            },
            "colorscale": [
             [
              0,
              "#0d0887"
             ],
             [
              0.1111111111111111,
              "#46039f"
             ],
             [
              0.2222222222222222,
              "#7201a8"
             ],
             [
              0.3333333333333333,
              "#9c179e"
             ],
             [
              0.4444444444444444,
              "#bd3786"
             ],
             [
              0.5555555555555556,
              "#d8576b"
             ],
             [
              0.6666666666666666,
              "#ed7953"
             ],
             [
              0.7777777777777778,
              "#fb9f3a"
             ],
             [
              0.8888888888888888,
              "#fdca26"
             ],
             [
              1,
              "#f0f921"
             ]
            ],
            "type": "surface"
           }
          ],
          "table": [
           {
            "cells": {
             "fill": {
              "color": "#EBF0F8"
             },
             "line": {
              "color": "white"
             }
            },
            "header": {
             "fill": {
              "color": "#C8D4E3"
             },
             "line": {
              "color": "white"
             }
            },
            "type": "table"
           }
          ]
         },
         "layout": {
          "annotationdefaults": {
           "arrowcolor": "#2a3f5f",
           "arrowhead": 0,
           "arrowwidth": 1
          },
          "coloraxis": {
           "colorbar": {
            "outlinewidth": 0,
            "ticks": ""
           }
          },
          "colorscale": {
           "diverging": [
            [
             0,
             "#8e0152"
            ],
            [
             0.1,
             "#c51b7d"
            ],
            [
             0.2,
             "#de77ae"
            ],
            [
             0.3,
             "#f1b6da"
            ],
            [
             0.4,
             "#fde0ef"
            ],
            [
             0.5,
             "#f7f7f7"
            ],
            [
             0.6,
             "#e6f5d0"
            ],
            [
             0.7,
             "#b8e186"
            ],
            [
             0.8,
             "#7fbc41"
            ],
            [
             0.9,
             "#4d9221"
            ],
            [
             1,
             "#276419"
            ]
           ],
           "sequential": [
            [
             0,
             "#0d0887"
            ],
            [
             0.1111111111111111,
             "#46039f"
            ],
            [
             0.2222222222222222,
             "#7201a8"
            ],
            [
             0.3333333333333333,
             "#9c179e"
            ],
            [
             0.4444444444444444,
             "#bd3786"
            ],
            [
             0.5555555555555556,
             "#d8576b"
            ],
            [
             0.6666666666666666,
             "#ed7953"
            ],
            [
             0.7777777777777778,
             "#fb9f3a"
            ],
            [
             0.8888888888888888,
             "#fdca26"
            ],
            [
             1,
             "#f0f921"
            ]
           ],
           "sequentialminus": [
            [
             0,
             "#0d0887"
            ],
            [
             0.1111111111111111,
             "#46039f"
            ],
            [
             0.2222222222222222,
             "#7201a8"
            ],
            [
             0.3333333333333333,
             "#9c179e"
            ],
            [
             0.4444444444444444,
             "#bd3786"
            ],
            [
             0.5555555555555556,
             "#d8576b"
            ],
            [
             0.6666666666666666,
             "#ed7953"
            ],
            [
             0.7777777777777778,
             "#fb9f3a"
            ],
            [
             0.8888888888888888,
             "#fdca26"
            ],
            [
             1,
             "#f0f921"
            ]
           ]
          },
          "colorway": [
           "#636efa",
           "#EF553B",
           "#00cc96",
           "#ab63fa",
           "#FFA15A",
           "#19d3f3",
           "#FF6692",
           "#B6E880",
           "#FF97FF",
           "#FECB52"
          ],
          "font": {
           "color": "#2a3f5f"
          },
          "geo": {
           "bgcolor": "white",
           "lakecolor": "white",
           "landcolor": "#E5ECF6",
           "showlakes": true,
           "showland": true,
           "subunitcolor": "white"
          },
          "hoverlabel": {
           "align": "left"
          },
          "hovermode": "closest",
          "mapbox": {
           "style": "light"
          },
          "paper_bgcolor": "white",
          "plot_bgcolor": "#E5ECF6",
          "polar": {
           "angularaxis": {
            "gridcolor": "white",
            "linecolor": "white",
            "ticks": ""
           },
           "bgcolor": "#E5ECF6",
           "radialaxis": {
            "gridcolor": "white",
            "linecolor": "white",
            "ticks": ""
           }
          },
          "scene": {
           "xaxis": {
            "backgroundcolor": "#E5ECF6",
            "gridcolor": "white",
            "gridwidth": 2,
            "linecolor": "white",
            "showbackground": true,
            "ticks": "",
            "zerolinecolor": "white"
           },
           "yaxis": {
            "backgroundcolor": "#E5ECF6",
            "gridcolor": "white",
            "gridwidth": 2,
            "linecolor": "white",
            "showbackground": true,
            "ticks": "",
            "zerolinecolor": "white"
           },
           "zaxis": {
            "backgroundcolor": "#E5ECF6",
            "gridcolor": "white",
            "gridwidth": 2,
            "linecolor": "white",
            "showbackground": true,
            "ticks": "",
            "zerolinecolor": "white"
           }
          },
          "shapedefaults": {
           "line": {
            "color": "#2a3f5f"
           }
          },
          "ternary": {
           "aaxis": {
            "gridcolor": "white",
            "linecolor": "white",
            "ticks": ""
           },
           "baxis": {
            "gridcolor": "white",
            "linecolor": "white",
            "ticks": ""
           },
           "bgcolor": "#E5ECF6",
           "caxis": {
            "gridcolor": "white",
            "linecolor": "white",
            "ticks": ""
           }
          },
          "title": {
           "x": 0.05
          },
          "xaxis": {
           "automargin": true,
           "gridcolor": "white",
           "linecolor": "white",
           "ticks": "",
           "title": {
            "standoff": 15
           },
           "zerolinecolor": "white",
           "zerolinewidth": 2
          },
          "yaxis": {
           "automargin": true,
           "gridcolor": "white",
           "linecolor": "white",
           "ticks": "",
           "title": {
            "standoff": 15
           },
           "zerolinecolor": "white",
           "zerolinewidth": 2
          }
         }
        },
        "title": {
         "text": "Risk v Cost at different inspection_interval"
        },
        "xaxis": {
         "anchor": "y",
         "domain": [
          0,
          1
         ],
         "title": {
          "text": "inspection_interval"
         }
        },
        "yaxis": {
         "anchor": "x",
         "domain": [
          0,
          1
         ],
         "title": {
          "text": "annual_value_lost"
         }
        }
       }
      }
     },
     "metadata": {}
    }
   ]
  },
  {
   "source": [
    "## Map to the population\n",
    "Each asset can look up the model that most closely relates to it to get the value_lost for different strategies"
   ],
   "cell_type": "markdown",
   "metadata": {}
  },
  {
   "cell_type": "code",
   "execution_count": 14,
   "metadata": {},
   "outputs": [
    {
     "output_type": "execute_result",
     "data": {
      "text/plain": [
       "  Depot (ZSG Area) bin_consequence  ASSET_ID\n",
       "0     Albury Depot             low      5350\n",
       "1     Albury Depot             med      6560\n",
       "2     Albury Depot            high      7497\n",
       "3   Armidale Depot             low      7819\n",
       "4   Armidale Depot             med      6628"
      ],
      "text/html": "<div>\n<style scoped>\n    .dataframe tbody tr th:only-of-type {\n        vertical-align: middle;\n    }\n\n    .dataframe tbody tr th {\n        vertical-align: top;\n    }\n\n    .dataframe thead th {\n        text-align: right;\n    }\n</style>\n<table border=\"1\" class=\"dataframe\">\n  <thead>\n    <tr style=\"text-align: right;\">\n      <th></th>\n      <th>Depot (ZSG Area)</th>\n      <th>bin_consequence</th>\n      <th>ASSET_ID</th>\n    </tr>\n  </thead>\n  <tbody>\n    <tr>\n      <th>0</th>\n      <td>Albury Depot</td>\n      <td>low</td>\n      <td>5350</td>\n    </tr>\n    <tr>\n      <th>1</th>\n      <td>Albury Depot</td>\n      <td>med</td>\n      <td>6560</td>\n    </tr>\n    <tr>\n      <th>2</th>\n      <td>Albury Depot</td>\n      <td>high</td>\n      <td>7497</td>\n    </tr>\n    <tr>\n      <th>3</th>\n      <td>Armidale Depot</td>\n      <td>low</td>\n      <td>7819</td>\n    </tr>\n    <tr>\n      <th>4</th>\n      <td>Armidale Depot</td>\n      <td>med</td>\n      <td>6628</td>\n    </tr>\n  </tbody>\n</table>\n</div>"
     },
     "metadata": {},
     "execution_count": 14
    }
   ],
   "source": [
    "df_pop = df_bins.groupby(by=['Depot (ZSG Area)', by])['ASSET_ID'].count().reset_index()\n",
    "df_pop.head()"
   ]
  },
  {
   "cell_type": "code",
   "execution_count": 15,
   "metadata": {},
   "outputs": [
    {
     "output_type": "execute_result",
     "data": {
      "text/plain": [
       "  bin_consequence  inspection_interval  annual_value_lost\n",
       "0             low                    1              13.26\n",
       "1             low                    2               0.00\n",
       "2             low                    3               6.85\n",
       "3             low                    4              35.00\n",
       "4             med                    1              25.34"
      ],
      "text/html": "<div>\n<style scoped>\n    .dataframe tbody tr th:only-of-type {\n        vertical-align: middle;\n    }\n\n    .dataframe tbody tr th {\n        vertical-align: top;\n    }\n\n    .dataframe thead th {\n        text-align: right;\n    }\n</style>\n<table border=\"1\" class=\"dataframe\">\n  <thead>\n    <tr style=\"text-align: right;\">\n      <th></th>\n      <th>bin_consequence</th>\n      <th>inspection_interval</th>\n      <th>annual_value_lost</th>\n    </tr>\n  </thead>\n  <tbody>\n    <tr>\n      <th>0</th>\n      <td>low</td>\n      <td>1</td>\n      <td>13.26</td>\n    </tr>\n    <tr>\n      <th>1</th>\n      <td>low</td>\n      <td>2</td>\n      <td>0.00</td>\n    </tr>\n    <tr>\n      <th>2</th>\n      <td>low</td>\n      <td>3</td>\n      <td>6.85</td>\n    </tr>\n    <tr>\n      <th>3</th>\n      <td>low</td>\n      <td>4</td>\n      <td>35.00</td>\n    </tr>\n    <tr>\n      <th>4</th>\n      <td>med</td>\n      <td>1</td>\n      <td>25.34</td>\n    </tr>\n  </tbody>\n</table>\n</div>"
     },
     "metadata": {},
     "execution_count": 15
    }
   ],
   "source": [
    "y_var = 'annual_value_lost'\n",
    "df_map = df_all[[by, sens_var, y_var]]\n",
    "df_map.head()"
   ]
  },
  {
   "cell_type": "code",
   "execution_count": 16,
   "metadata": {},
   "outputs": [
    {
     "output_type": "execute_result",
     "data": {
      "text/plain": [
       "  Depot (ZSG Area) bin_consequence  ASSET_ID  inspection_interval  \\\n",
       "0     Albury Depot             low      5350                    1   \n",
       "1     Albury Depot             low      5350                    2   \n",
       "2     Albury Depot             low      5350                    3   \n",
       "3     Albury Depot             low      5350                    4   \n",
       "4   Armidale Depot             low      7819                    1   \n",
       "\n",
       "   annual_value_lost  \n",
       "0              13.26  \n",
       "1               0.00  \n",
       "2               6.85  \n",
       "3              35.00  \n",
       "4              13.26  "
      ],
      "text/html": "<div>\n<style scoped>\n    .dataframe tbody tr th:only-of-type {\n        vertical-align: middle;\n    }\n\n    .dataframe tbody tr th {\n        vertical-align: top;\n    }\n\n    .dataframe thead th {\n        text-align: right;\n    }\n</style>\n<table border=\"1\" class=\"dataframe\">\n  <thead>\n    <tr style=\"text-align: right;\">\n      <th></th>\n      <th>Depot (ZSG Area)</th>\n      <th>bin_consequence</th>\n      <th>ASSET_ID</th>\n      <th>inspection_interval</th>\n      <th>annual_value_lost</th>\n    </tr>\n  </thead>\n  <tbody>\n    <tr>\n      <th>0</th>\n      <td>Albury Depot</td>\n      <td>low</td>\n      <td>5350</td>\n      <td>1</td>\n      <td>13.26</td>\n    </tr>\n    <tr>\n      <th>1</th>\n      <td>Albury Depot</td>\n      <td>low</td>\n      <td>5350</td>\n      <td>2</td>\n      <td>0.00</td>\n    </tr>\n    <tr>\n      <th>2</th>\n      <td>Albury Depot</td>\n      <td>low</td>\n      <td>5350</td>\n      <td>3</td>\n      <td>6.85</td>\n    </tr>\n    <tr>\n      <th>3</th>\n      <td>Albury Depot</td>\n      <td>low</td>\n      <td>5350</td>\n      <td>4</td>\n      <td>35.00</td>\n    </tr>\n    <tr>\n      <th>4</th>\n      <td>Armidale Depot</td>\n      <td>low</td>\n      <td>7819</td>\n      <td>1</td>\n      <td>13.26</td>\n    </tr>\n  </tbody>\n</table>\n</div>"
     },
     "metadata": {},
     "execution_count": 16
    }
   ],
   "source": [
    "df_pop_map = df_pop.merge(df_map, on=by, how='outer')\n",
    "df_pop_map.head()"
   ]
  },
  {
   "cell_type": "code",
   "execution_count": 17,
   "metadata": {},
   "outputs": [
    {
     "output_type": "execute_result",
     "data": {
      "text/plain": [
       "  Depot (ZSG Area) bin_consequence  ASSET_ID  inspection_interval  \\\n",
       "0     Albury Depot             low      5350                    1   \n",
       "1     Albury Depot             low      5350                    2   \n",
       "2     Albury Depot             low      5350                    3   \n",
       "3     Albury Depot             low      5350                    4   \n",
       "4   Armidale Depot             low      7819                    1   \n",
       "\n",
       "   annual_value_lost  total_value_lost  \n",
       "0              13.26          70941.00  \n",
       "1               0.00              0.00  \n",
       "2               6.85          36647.50  \n",
       "3              35.00         187250.00  \n",
       "4              13.26         103679.94  "
      ],
      "text/html": "<div>\n<style scoped>\n    .dataframe tbody tr th:only-of-type {\n        vertical-align: middle;\n    }\n\n    .dataframe tbody tr th {\n        vertical-align: top;\n    }\n\n    .dataframe thead th {\n        text-align: right;\n    }\n</style>\n<table border=\"1\" class=\"dataframe\">\n  <thead>\n    <tr style=\"text-align: right;\">\n      <th></th>\n      <th>Depot (ZSG Area)</th>\n      <th>bin_consequence</th>\n      <th>ASSET_ID</th>\n      <th>inspection_interval</th>\n      <th>annual_value_lost</th>\n      <th>total_value_lost</th>\n    </tr>\n  </thead>\n  <tbody>\n    <tr>\n      <th>0</th>\n      <td>Albury Depot</td>\n      <td>low</td>\n      <td>5350</td>\n      <td>1</td>\n      <td>13.26</td>\n      <td>70941.00</td>\n    </tr>\n    <tr>\n      <th>1</th>\n      <td>Albury Depot</td>\n      <td>low</td>\n      <td>5350</td>\n      <td>2</td>\n      <td>0.00</td>\n      <td>0.00</td>\n    </tr>\n    <tr>\n      <th>2</th>\n      <td>Albury Depot</td>\n      <td>low</td>\n      <td>5350</td>\n      <td>3</td>\n      <td>6.85</td>\n      <td>36647.50</td>\n    </tr>\n    <tr>\n      <th>3</th>\n      <td>Albury Depot</td>\n      <td>low</td>\n      <td>5350</td>\n      <td>4</td>\n      <td>35.00</td>\n      <td>187250.00</td>\n    </tr>\n    <tr>\n      <th>4</th>\n      <td>Armidale Depot</td>\n      <td>low</td>\n      <td>7819</td>\n      <td>1</td>\n      <td>13.26</td>\n      <td>103679.94</td>\n    </tr>\n  </tbody>\n</table>\n</div>"
     },
     "metadata": {},
     "execution_count": 17
    }
   ],
   "source": [
    "df_pop_map['total_value_lost'] = (df_pop_map.ASSET_ID * df_pop_map.annual_value_lost).where(df_pop_map.bin_consequence == 'high').fillna(0)\n",
    "df_pop_map['total_value_lost'] = df_pop_map['total_value_lost'] + (df_pop_map.ASSET_ID * df_pop_map.annual_value_lost).where(df_pop_map.bin_consequence != 'high').fillna(0)\n",
    "df_pop_map.head()"
   ]
  },
  {
   "cell_type": "code",
   "execution_count": 18,
   "metadata": {},
   "outputs": [],
   "source": [
    "optimum_inspection = df_pop_map.groupby(by=['Depot (ZSG Area)', 'inspection_interval'])['total_value_lost'].sum().reset_index()"
   ]
  },
  {
   "cell_type": "code",
   "execution_count": 19,
   "metadata": {},
   "outputs": [
    {
     "output_type": "display_data",
     "data": {
      "application/vnd.plotly.v1+json": {
       "config": {
        "plotlyServerURL": "https://plot.ly"
       },
       "data": [
        {
         "hovertemplate": "Depot (ZSG Area)=Bathurst Depot<br>inspection_interval=%{x}<br>total_value_lost=%{y}<extra></extra>",
         "legendgroup": "Bathurst Depot",
         "line": {
          "color": "#636efa",
          "dash": "solid"
         },
         "mode": "lines",
         "name": "Bathurst Depot",
         "orientation": "v",
         "showlegend": true,
         "type": "scatter",
         "x": [
          1,
          2,
          3,
          4
         ],
         "xaxis": "x",
         "y": [
          354648.22,
          0,
          101890.23,
          757826.8599999999
         ],
         "yaxis": "y"
        },
        {
         "hovertemplate": "Depot (ZSG Area)=Temora Depot<br>inspection_interval=%{x}<br>total_value_lost=%{y}<extra></extra>",
         "legendgroup": "Temora Depot",
         "line": {
          "color": "#EF553B",
          "dash": "solid"
         },
         "mode": "lines",
         "name": "Temora Depot",
         "orientation": "v",
         "showlegend": true,
         "type": "scatter",
         "x": [
          1,
          2,
          3,
          4
         ],
         "xaxis": "x",
         "y": [
          217225.40000000002,
          0,
          57549.16,
          442851.67000000004
         ],
         "yaxis": "y"
        },
        {
         "hovertemplate": "Depot (ZSG Area)=Yass Depot<br>inspection_interval=%{x}<br>total_value_lost=%{y}<extra></extra>",
         "legendgroup": "Yass Depot",
         "line": {
          "color": "#00cc96",
          "dash": "solid"
         },
         "mode": "lines",
         "name": "Yass Depot",
         "orientation": "v",
         "showlegend": true,
         "type": "scatter",
         "x": [
          1,
          2,
          3,
          4
         ],
         "xaxis": "x",
         "y": [
          238771.84,
          0,
          88868.08,
          565646.16
         ],
         "yaxis": "y"
        },
        {
         "hovertemplate": "Depot (ZSG Area)=Young Depot<br>inspection_interval=%{x}<br>total_value_lost=%{y}<extra></extra>",
         "legendgroup": "Young Depot",
         "line": {
          "color": "#ab63fa",
          "dash": "solid"
         },
         "mode": "lines",
         "name": "Young Depot",
         "orientation": "v",
         "showlegend": true,
         "type": "scatter",
         "x": [
          1,
          2,
          3,
          4
         ],
         "xaxis": "x",
         "y": [
          291993.02,
          0,
          68263.69,
          572186.38
         ],
         "yaxis": "y"
        }
       ],
       "layout": {
        "legend": {
         "title": {
          "text": "Depot (ZSG Area)"
         },
         "tracegroupgap": 0
        },
        "template": {
         "data": {
          "bar": [
           {
            "error_x": {
             "color": "#2a3f5f"
            },
            "error_y": {
             "color": "#2a3f5f"
            },
            "marker": {
             "line": {
              "color": "#E5ECF6",
              "width": 0.5
             }
            },
            "type": "bar"
           }
          ],
          "barpolar": [
           {
            "marker": {
             "line": {
              "color": "#E5ECF6",
              "width": 0.5
             }
            },
            "type": "barpolar"
           }
          ],
          "carpet": [
           {
            "aaxis": {
             "endlinecolor": "#2a3f5f",
             "gridcolor": "white",
             "linecolor": "white",
             "minorgridcolor": "white",
             "startlinecolor": "#2a3f5f"
            },
            "baxis": {
             "endlinecolor": "#2a3f5f",
             "gridcolor": "white",
             "linecolor": "white",
             "minorgridcolor": "white",
             "startlinecolor": "#2a3f5f"
            },
            "type": "carpet"
           }
          ],
          "choropleth": [
           {
            "colorbar": {
             "outlinewidth": 0,
             "ticks": ""
            },
            "type": "choropleth"
           }
          ],
          "contour": [
           {
            "colorbar": {
             "outlinewidth": 0,
             "ticks": ""
            },
            "colorscale": [
             [
              0,
              "#0d0887"
             ],
             [
              0.1111111111111111,
              "#46039f"
             ],
             [
              0.2222222222222222,
              "#7201a8"
             ],
             [
              0.3333333333333333,
              "#9c179e"
             ],
             [
              0.4444444444444444,
              "#bd3786"
             ],
             [
              0.5555555555555556,
              "#d8576b"
             ],
             [
              0.6666666666666666,
              "#ed7953"
             ],
             [
              0.7777777777777778,
              "#fb9f3a"
             ],
             [
              0.8888888888888888,
              "#fdca26"
             ],
             [
              1,
              "#f0f921"
             ]
            ],
            "type": "contour"
           }
          ],
          "contourcarpet": [
           {
            "colorbar": {
             "outlinewidth": 0,
             "ticks": ""
            },
            "type": "contourcarpet"
           }
          ],
          "heatmap": [
           {
            "colorbar": {
             "outlinewidth": 0,
             "ticks": ""
            },
            "colorscale": [
             [
              0,
              "#0d0887"
             ],
             [
              0.1111111111111111,
              "#46039f"
             ],
             [
              0.2222222222222222,
              "#7201a8"
             ],
             [
              0.3333333333333333,
              "#9c179e"
             ],
             [
              0.4444444444444444,
              "#bd3786"
             ],
             [
              0.5555555555555556,
              "#d8576b"
             ],
             [
              0.6666666666666666,
              "#ed7953"
             ],
             [
              0.7777777777777778,
              "#fb9f3a"
             ],
             [
              0.8888888888888888,
              "#fdca26"
             ],
             [
              1,
              "#f0f921"
             ]
            ],
            "type": "heatmap"
           }
          ],
          "heatmapgl": [
           {
            "colorbar": {
             "outlinewidth": 0,
             "ticks": ""
            },
            "colorscale": [
             [
              0,
              "#0d0887"
             ],
             [
              0.1111111111111111,
              "#46039f"
             ],
             [
              0.2222222222222222,
              "#7201a8"
             ],
             [
              0.3333333333333333,
              "#9c179e"
             ],
             [
              0.4444444444444444,
              "#bd3786"
             ],
             [
              0.5555555555555556,
              "#d8576b"
             ],
             [
              0.6666666666666666,
              "#ed7953"
             ],
             [
              0.7777777777777778,
              "#fb9f3a"
             ],
             [
              0.8888888888888888,
              "#fdca26"
             ],
             [
              1,
              "#f0f921"
             ]
            ],
            "type": "heatmapgl"
           }
          ],
          "histogram": [
           {
            "marker": {
             "colorbar": {
              "outlinewidth": 0,
              "ticks": ""
             }
            },
            "type": "histogram"
           }
          ],
          "histogram2d": [
           {
            "colorbar": {
             "outlinewidth": 0,
             "ticks": ""
            },
            "colorscale": [
             [
              0,
              "#0d0887"
             ],
             [
              0.1111111111111111,
              "#46039f"
             ],
             [
              0.2222222222222222,
              "#7201a8"
             ],
             [
              0.3333333333333333,
              "#9c179e"
             ],
             [
              0.4444444444444444,
              "#bd3786"
             ],
             [
              0.5555555555555556,
              "#d8576b"
             ],
             [
              0.6666666666666666,
              "#ed7953"
             ],
             [
              0.7777777777777778,
              "#fb9f3a"
             ],
             [
              0.8888888888888888,
              "#fdca26"
             ],
             [
              1,
              "#f0f921"
             ]
            ],
            "type": "histogram2d"
           }
          ],
          "histogram2dcontour": [
           {
            "colorbar": {
             "outlinewidth": 0,
             "ticks": ""
            },
            "colorscale": [
             [
              0,
              "#0d0887"
             ],
             [
              0.1111111111111111,
              "#46039f"
             ],
             [
              0.2222222222222222,
              "#7201a8"
             ],
             [
              0.3333333333333333,
              "#9c179e"
             ],
             [
              0.4444444444444444,
              "#bd3786"
             ],
             [
              0.5555555555555556,
              "#d8576b"
             ],
             [
              0.6666666666666666,
              "#ed7953"
             ],
             [
              0.7777777777777778,
              "#fb9f3a"
             ],
             [
              0.8888888888888888,
              "#fdca26"
             ],
             [
              1,
              "#f0f921"
             ]
            ],
            "type": "histogram2dcontour"
           }
          ],
          "mesh3d": [
           {
            "colorbar": {
             "outlinewidth": 0,
             "ticks": ""
            },
            "type": "mesh3d"
           }
          ],
          "parcoords": [
           {
            "line": {
             "colorbar": {
              "outlinewidth": 0,
              "ticks": ""
             }
            },
            "type": "parcoords"
           }
          ],
          "pie": [
           {
            "automargin": true,
            "type": "pie"
           }
          ],
          "scatter": [
           {
            "marker": {
             "colorbar": {
              "outlinewidth": 0,
              "ticks": ""
             }
            },
            "type": "scatter"
           }
          ],
          "scatter3d": [
           {
            "line": {
             "colorbar": {
              "outlinewidth": 0,
              "ticks": ""
             }
            },
            "marker": {
             "colorbar": {
              "outlinewidth": 0,
              "ticks": ""
             }
            },
            "type": "scatter3d"
           }
          ],
          "scattercarpet": [
           {
            "marker": {
             "colorbar": {
              "outlinewidth": 0,
              "ticks": ""
             }
            },
            "type": "scattercarpet"
           }
          ],
          "scattergeo": [
           {
            "marker": {
             "colorbar": {
              "outlinewidth": 0,
              "ticks": ""
             }
            },
            "type": "scattergeo"
           }
          ],
          "scattergl": [
           {
            "marker": {
             "colorbar": {
              "outlinewidth": 0,
              "ticks": ""
             }
            },
            "type": "scattergl"
           }
          ],
          "scattermapbox": [
           {
            "marker": {
             "colorbar": {
              "outlinewidth": 0,
              "ticks": ""
             }
            },
            "type": "scattermapbox"
           }
          ],
          "scatterpolar": [
           {
            "marker": {
             "colorbar": {
              "outlinewidth": 0,
              "ticks": ""
             }
            },
            "type": "scatterpolar"
           }
          ],
          "scatterpolargl": [
           {
            "marker": {
             "colorbar": {
              "outlinewidth": 0,
              "ticks": ""
             }
            },
            "type": "scatterpolargl"
           }
          ],
          "scatterternary": [
           {
            "marker": {
             "colorbar": {
              "outlinewidth": 0,
              "ticks": ""
             }
            },
            "type": "scatterternary"
           }
          ],
          "surface": [
           {
            "colorbar": {
             "outlinewidth": 0,
             "ticks": ""
            },
            "colorscale": [
             [
              0,
              "#0d0887"
             ],
             [
              0.1111111111111111,
              "#46039f"
             ],
             [
              0.2222222222222222,
              "#7201a8"
             ],
             [
              0.3333333333333333,
              "#9c179e"
             ],
             [
              0.4444444444444444,
              "#bd3786"
             ],
             [
              0.5555555555555556,
              "#d8576b"
             ],
             [
              0.6666666666666666,
              "#ed7953"
             ],
             [
              0.7777777777777778,
              "#fb9f3a"
             ],
             [
              0.8888888888888888,
              "#fdca26"
             ],
             [
              1,
              "#f0f921"
             ]
            ],
            "type": "surface"
           }
          ],
          "table": [
           {
            "cells": {
             "fill": {
              "color": "#EBF0F8"
             },
             "line": {
              "color": "white"
             }
            },
            "header": {
             "fill": {
              "color": "#C8D4E3"
             },
             "line": {
              "color": "white"
             }
            },
            "type": "table"
           }
          ]
         },
         "layout": {
          "annotationdefaults": {
           "arrowcolor": "#2a3f5f",
           "arrowhead": 0,
           "arrowwidth": 1
          },
          "coloraxis": {
           "colorbar": {
            "outlinewidth": 0,
            "ticks": ""
           }
          },
          "colorscale": {
           "diverging": [
            [
             0,
             "#8e0152"
            ],
            [
             0.1,
             "#c51b7d"
            ],
            [
             0.2,
             "#de77ae"
            ],
            [
             0.3,
             "#f1b6da"
            ],
            [
             0.4,
             "#fde0ef"
            ],
            [
             0.5,
             "#f7f7f7"
            ],
            [
             0.6,
             "#e6f5d0"
            ],
            [
             0.7,
             "#b8e186"
            ],
            [
             0.8,
             "#7fbc41"
            ],
            [
             0.9,
             "#4d9221"
            ],
            [
             1,
             "#276419"
            ]
           ],
           "sequential": [
            [
             0,
             "#0d0887"
            ],
            [
             0.1111111111111111,
             "#46039f"
            ],
            [
             0.2222222222222222,
             "#7201a8"
            ],
            [
             0.3333333333333333,
             "#9c179e"
            ],
            [
             0.4444444444444444,
             "#bd3786"
            ],
            [
             0.5555555555555556,
             "#d8576b"
            ],
            [
             0.6666666666666666,
             "#ed7953"
            ],
            [
             0.7777777777777778,
             "#fb9f3a"
            ],
            [
             0.8888888888888888,
             "#fdca26"
            ],
            [
             1,
             "#f0f921"
            ]
           ],
           "sequentialminus": [
            [
             0,
             "#0d0887"
            ],
            [
             0.1111111111111111,
             "#46039f"
            ],
            [
             0.2222222222222222,
             "#7201a8"
            ],
            [
             0.3333333333333333,
             "#9c179e"
            ],
            [
             0.4444444444444444,
             "#bd3786"
            ],
            [
             0.5555555555555556,
             "#d8576b"
            ],
            [
             0.6666666666666666,
             "#ed7953"
            ],
            [
             0.7777777777777778,
             "#fb9f3a"
            ],
            [
             0.8888888888888888,
             "#fdca26"
            ],
            [
             1,
             "#f0f921"
            ]
           ]
          },
          "colorway": [
           "#636efa",
           "#EF553B",
           "#00cc96",
           "#ab63fa",
           "#FFA15A",
           "#19d3f3",
           "#FF6692",
           "#B6E880",
           "#FF97FF",
           "#FECB52"
          ],
          "font": {
           "color": "#2a3f5f"
          },
          "geo": {
           "bgcolor": "white",
           "lakecolor": "white",
           "landcolor": "#E5ECF6",
           "showlakes": true,
           "showland": true,
           "subunitcolor": "white"
          },
          "hoverlabel": {
           "align": "left"
          },
          "hovermode": "closest",
          "mapbox": {
           "style": "light"
          },
          "paper_bgcolor": "white",
          "plot_bgcolor": "#E5ECF6",
          "polar": {
           "angularaxis": {
            "gridcolor": "white",
            "linecolor": "white",
            "ticks": ""
           },
           "bgcolor": "#E5ECF6",
           "radialaxis": {
            "gridcolor": "white",
            "linecolor": "white",
            "ticks": ""
           }
          },
          "scene": {
           "xaxis": {
            "backgroundcolor": "#E5ECF6",
            "gridcolor": "white",
            "gridwidth": 2,
            "linecolor": "white",
            "showbackground": true,
            "ticks": "",
            "zerolinecolor": "white"
           },
           "yaxis": {
            "backgroundcolor": "#E5ECF6",
            "gridcolor": "white",
            "gridwidth": 2,
            "linecolor": "white",
            "showbackground": true,
            "ticks": "",
            "zerolinecolor": "white"
           },
           "zaxis": {
            "backgroundcolor": "#E5ECF6",
            "gridcolor": "white",
            "gridwidth": 2,
            "linecolor": "white",
            "showbackground": true,
            "ticks": "",
            "zerolinecolor": "white"
           }
          },
          "shapedefaults": {
           "line": {
            "color": "#2a3f5f"
           }
          },
          "ternary": {
           "aaxis": {
            "gridcolor": "white",
            "linecolor": "white",
            "ticks": ""
           },
           "baxis": {
            "gridcolor": "white",
            "linecolor": "white",
            "ticks": ""
           },
           "bgcolor": "#E5ECF6",
           "caxis": {
            "gridcolor": "white",
            "linecolor": "white",
            "ticks": ""
           }
          },
          "title": {
           "x": 0.05
          },
          "xaxis": {
           "automargin": true,
           "gridcolor": "white",
           "linecolor": "white",
           "ticks": "",
           "title": {
            "standoff": 15
           },
           "zerolinecolor": "white",
           "zerolinewidth": 2
          },
          "yaxis": {
           "automargin": true,
           "gridcolor": "white",
           "linecolor": "white",
           "ticks": "",
           "title": {
            "standoff": 15
           },
           "zerolinecolor": "white",
           "zerolinewidth": 2
          }
         }
        },
        "title": {
         "text": "Optimum Inspection Interval by Depot"
        },
        "xaxis": {
         "anchor": "y",
         "domain": [
          0,
          1
         ],
         "title": {
          "text": "inspection_interval"
         }
        },
        "yaxis": {
         "anchor": "x",
         "domain": [
          0,
          1
         ],
         "title": {
          "text": "total_value_lost"
         }
        }
       }
      }
     },
     "metadata": {}
    }
   ],
   "source": [
    "optimum_inspection = optimum_inspection.loc[optimum_inspection['Depot (ZSG Area)'].isin(depots)]\n",
    "\n",
    "fig = px.line(\n",
    "    optimum_inspection,\n",
    "    x=\"inspection_interval\",\n",
    "    y=\"total_value_lost\",\n",
    "    color=\"Depot (ZSG Area)\",\n",
    "    title= 'Optimum Inspection Interval by Depot'\n",
    ")\n",
    "fig"
   ]
  },
  {
   "cell_type": "code",
   "execution_count": 20,
   "metadata": {},
   "outputs": [
    {
     "output_type": "execute_result",
     "data": {
      "text/plain": [
       "                  inspection_interval  total_value_lost\n",
       "Depot (ZSG Area)                                       \n",
       "Bathurst Depot                      1               0.0\n",
       "Temora Depot                        1               0.0\n",
       "Yass Depot                          1               0.0\n",
       "Young Depot                         1               0.0"
      ],
      "text/html": "<div>\n<style scoped>\n    .dataframe tbody tr th:only-of-type {\n        vertical-align: middle;\n    }\n\n    .dataframe tbody tr th {\n        vertical-align: top;\n    }\n\n    .dataframe thead th {\n        text-align: right;\n    }\n</style>\n<table border=\"1\" class=\"dataframe\">\n  <thead>\n    <tr style=\"text-align: right;\">\n      <th></th>\n      <th>inspection_interval</th>\n      <th>total_value_lost</th>\n    </tr>\n    <tr>\n      <th>Depot (ZSG Area)</th>\n      <th></th>\n      <th></th>\n    </tr>\n  </thead>\n  <tbody>\n    <tr>\n      <th>Bathurst Depot</th>\n      <td>1</td>\n      <td>0.0</td>\n    </tr>\n    <tr>\n      <th>Temora Depot</th>\n      <td>1</td>\n      <td>0.0</td>\n    </tr>\n    <tr>\n      <th>Yass Depot</th>\n      <td>1</td>\n      <td>0.0</td>\n    </tr>\n    <tr>\n      <th>Young Depot</th>\n      <td>1</td>\n      <td>0.0</td>\n    </tr>\n  </tbody>\n</table>\n</div>"
     },
     "metadata": {},
     "execution_count": 20
    }
   ],
   "source": [
    "optimum_inspection.groupby(by=['Depot (ZSG Area)']).min()"
   ]
  },
  {
   "cell_type": "code",
   "execution_count": 40,
   "metadata": {},
   "outputs": [
    {
     "output_type": "execute_result",
     "data": {
      "text/plain": [
       "1000"
      ]
     },
     "metadata": {},
     "execution_count": 40
    }
   ],
   "source": [
    "comp.fm[\"fast_aging\"].tasks[\"inspection\"].cost = 1000\n",
    "comp.fm[\"fast_aging\"].tasks[\"inspection\"].cost"
   ]
  },
  {
   "cell_type": "code",
   "execution_count": 5,
   "metadata": {
    "tags": []
   },
   "outputs": [
    {
     "output_type": "stream",
     "name": "stderr",
     "text": [
      "100%|██████████| 100/100 [00:03<00:00, 32.20it/s]\n",
      "100%|██████████| 100/100 [00:02<00:00, 44.68it/s]\n",
      "100%|██████████| 100/100 [00:02<00:00, 35.60it/s]\n",
      "100%|██████████| 100/100 [00:03<00:00, 26.05it/s]\n",
      "100%|██████████| 100/100 [00:02<00:00, 35.42it/s]\n",
      "100%|██████████| 100/100 [00:03<00:00, 28.28it/s]\n",
      "100%|██████████| 100/100 [00:04<00:00, 23.99it/s]\n",
      "100%|██████████| 100/100 [00:03<00:00, 29.13it/s]\n",
      "100%|██████████| 100/100 [00:05<00:00, 16.89it/s]\n",
      "100%|██████████| 100/100 [00:03<00:00, 28.02it/s]\n",
      "100%|██████████| 100/100 [00:03<00:00, 30.20it/s]\n",
      "100%|██████████| 100/100 [00:02<00:00, 33.47it/s]\n",
      "100%|██████████| 100/100 [00:03<00:00, 32.07it/s]\n",
      "100%|██████████| 100/100 [00:04<00:00, 22.75it/s]\n",
      "100%|██████████| 100/100 [00:03<00:00, 26.01it/s]\n",
      "100%|██████████| 100/100 [00:03<00:00, 28.02it/s]\n",
      "100%|██████████| 100/100 [00:02<00:00, 34.64it/s]\n",
      "100%|██████████| 100/100 [00:02<00:00, 34.55it/s]\n",
      "100%|██████████| 100/100 [00:02<00:00, 35.78it/s]\n",
      "100%|██████████| 100/100 [00:02<00:00, 36.05it/s]\n",
      "100%|██████████| 100/100 [00:02<00:00, 35.73it/s]\n",
      "100%|██████████| 100/100 [00:02<00:00, 38.24it/s]\n",
      "100%|██████████| 100/100 [00:02<00:00, 35.26it/s]\n",
      "100%|██████████| 100/100 [00:02<00:00, 33.46it/s]\n",
      "100%|██████████| 100/100 [00:03<00:00, 30.83it/s]\n",
      "100%|██████████| 100/100 [00:04<00:00, 24.60it/s]\n",
      "100%|██████████| 100/100 [00:03<00:00, 28.70it/s]\n",
      "100%|██████████| 100/100 [00:02<00:00, 46.53it/s]\n",
      "100%|██████████| 100/100 [00:02<00:00, 42.96it/s]\n",
      "100%|██████████| 100/100 [00:02<00:00, 43.35it/s]\n",
      "100%|██████████| 100/100 [00:02<00:00, 33.78it/s]\n",
      "100%|██████████| 100/100 [00:02<00:00, 39.48it/s]\n",
      "100%|██████████| 100/100 [00:03<00:00, 31.13it/s]\n"
     ]
    },
    {
     "output_type": "display_data",
     "data": {
      "application/vnd.plotly.v1+json": {
       "config": {
        "plotlyServerURL": "https://plot.ly"
       },
       "data": [
        {
         "colorscale": [
          [
           0,
           "rgb(61, 89, 65)"
          ],
          [
           0.16666666666666666,
           "rgb(119, 136, 104)"
          ],
          [
           0.3333333333333333,
           "rgb(181, 185, 145)"
          ],
          [
           0.5,
           "rgb(246, 237, 189)"
          ],
          [
           0.6666666666666666,
           "rgb(237, 187, 138)"
          ],
          [
           0.8333333333333334,
           "rgb(222, 138, 90)"
          ],
          [
           1,
           "rgb(202, 86, 44)"
          ]
         ],
         "hoverongaps": false,
         "type": "heatmap",
         "x": [
          0.05,
          0.09,
          0.16,
          0.26,
          0.37,
          0.5,
          0.63,
          0.74,
          0.84,
          0.91,
          0.95,
          0.05,
          0.09,
          0.16,
          0.26,
          0.37,
          0.5,
          0.63,
          0.74,
          0.84,
          0.91,
          0.95,
          0.05,
          0.09,
          0.16,
          0.26,
          0.37,
          0.5,
          0.63,
          0.74,
          0.84,
          0.91,
          0.95
         ],
         "y": [
          "comp-fm-slow_aging-tasks-inspection-cost",
          "comp-fm-slow_aging-tasks-inspection-cost",
          "comp-fm-slow_aging-tasks-inspection-cost",
          "comp-fm-slow_aging-tasks-inspection-cost",
          "comp-fm-slow_aging-tasks-inspection-cost",
          "comp-fm-slow_aging-tasks-inspection-cost",
          "comp-fm-slow_aging-tasks-inspection-cost",
          "comp-fm-slow_aging-tasks-inspection-cost",
          "comp-fm-slow_aging-tasks-inspection-cost",
          "comp-fm-slow_aging-tasks-inspection-cost",
          "comp-fm-slow_aging-tasks-inspection-cost",
          "comp-fm-slow_aging-tasks-on_condition_repair-cost",
          "comp-fm-slow_aging-tasks-on_condition_repair-cost",
          "comp-fm-slow_aging-tasks-on_condition_repair-cost",
          "comp-fm-slow_aging-tasks-on_condition_repair-cost",
          "comp-fm-slow_aging-tasks-on_condition_repair-cost",
          "comp-fm-slow_aging-tasks-on_condition_repair-cost",
          "comp-fm-slow_aging-tasks-on_condition_repair-cost",
          "comp-fm-slow_aging-tasks-on_condition_repair-cost",
          "comp-fm-slow_aging-tasks-on_condition_repair-cost",
          "comp-fm-slow_aging-tasks-on_condition_repair-cost",
          "comp-fm-slow_aging-tasks-on_condition_repair-cost",
          "comp-fm-slow_aging-tasks-on_condition_replacement-cost",
          "comp-fm-slow_aging-tasks-on_condition_replacement-cost",
          "comp-fm-slow_aging-tasks-on_condition_replacement-cost",
          "comp-fm-slow_aging-tasks-on_condition_replacement-cost",
          "comp-fm-slow_aging-tasks-on_condition_replacement-cost",
          "comp-fm-slow_aging-tasks-on_condition_replacement-cost",
          "comp-fm-slow_aging-tasks-on_condition_replacement-cost",
          "comp-fm-slow_aging-tasks-on_condition_replacement-cost",
          "comp-fm-slow_aging-tasks-on_condition_replacement-cost",
          "comp-fm-slow_aging-tasks-on_condition_replacement-cost",
          "comp-fm-slow_aging-tasks-on_condition_replacement-cost"
         ],
         "z": [
          23000,
          21500,
          27000,
          23500,
          25500,
          27000,
          28500,
          26500,
          25000,
          24500,
          21500,
          29500,
          25000,
          26000,
          21500,
          24500,
          24000,
          25500,
          24000,
          26000,
          23500,
          28500,
          28000,
          22000,
          27000,
          28000,
          27500,
          27000,
          25500,
          26500,
          28000,
          26500,
          27000
         ]
        }
       ],
       "layout": {
        "autosize": false,
        "height": 500,
        "legend": {
         "title": {
          "text": "risk_cost"
         }
        },
        "template": {
         "data": {
          "bar": [
           {
            "error_x": {
             "color": "#2a3f5f"
            },
            "error_y": {
             "color": "#2a3f5f"
            },
            "marker": {
             "line": {
              "color": "#E5ECF6",
              "width": 0.5
             }
            },
            "type": "bar"
           }
          ],
          "barpolar": [
           {
            "marker": {
             "line": {
              "color": "#E5ECF6",
              "width": 0.5
             }
            },
            "type": "barpolar"
           }
          ],
          "carpet": [
           {
            "aaxis": {
             "endlinecolor": "#2a3f5f",
             "gridcolor": "white",
             "linecolor": "white",
             "minorgridcolor": "white",
             "startlinecolor": "#2a3f5f"
            },
            "baxis": {
             "endlinecolor": "#2a3f5f",
             "gridcolor": "white",
             "linecolor": "white",
             "minorgridcolor": "white",
             "startlinecolor": "#2a3f5f"
            },
            "type": "carpet"
           }
          ],
          "choropleth": [
           {
            "colorbar": {
             "outlinewidth": 0,
             "ticks": ""
            },
            "type": "choropleth"
           }
          ],
          "contour": [
           {
            "colorbar": {
             "outlinewidth": 0,
             "ticks": ""
            },
            "colorscale": [
             [
              0,
              "#0d0887"
             ],
             [
              0.1111111111111111,
              "#46039f"
             ],
             [
              0.2222222222222222,
              "#7201a8"
             ],
             [
              0.3333333333333333,
              "#9c179e"
             ],
             [
              0.4444444444444444,
              "#bd3786"
             ],
             [
              0.5555555555555556,
              "#d8576b"
             ],
             [
              0.6666666666666666,
              "#ed7953"
             ],
             [
              0.7777777777777778,
              "#fb9f3a"
             ],
             [
              0.8888888888888888,
              "#fdca26"
             ],
             [
              1,
              "#f0f921"
             ]
            ],
            "type": "contour"
           }
          ],
          "contourcarpet": [
           {
            "colorbar": {
             "outlinewidth": 0,
             "ticks": ""
            },
            "type": "contourcarpet"
           }
          ],
          "heatmap": [
           {
            "colorbar": {
             "outlinewidth": 0,
             "ticks": ""
            },
            "colorscale": [
             [
              0,
              "#0d0887"
             ],
             [
              0.1111111111111111,
              "#46039f"
             ],
             [
              0.2222222222222222,
              "#7201a8"
             ],
             [
              0.3333333333333333,
              "#9c179e"
             ],
             [
              0.4444444444444444,
              "#bd3786"
             ],
             [
              0.5555555555555556,
              "#d8576b"
             ],
             [
              0.6666666666666666,
              "#ed7953"
             ],
             [
              0.7777777777777778,
              "#fb9f3a"
             ],
             [
              0.8888888888888888,
              "#fdca26"
             ],
             [
              1,
              "#f0f921"
             ]
            ],
            "type": "heatmap"
           }
          ],
          "heatmapgl": [
           {
            "colorbar": {
             "outlinewidth": 0,
             "ticks": ""
            },
            "colorscale": [
             [
              0,
              "#0d0887"
             ],
             [
              0.1111111111111111,
              "#46039f"
             ],
             [
              0.2222222222222222,
              "#7201a8"
             ],
             [
              0.3333333333333333,
              "#9c179e"
             ],
             [
              0.4444444444444444,
              "#bd3786"
             ],
             [
              0.5555555555555556,
              "#d8576b"
             ],
             [
              0.6666666666666666,
              "#ed7953"
             ],
             [
              0.7777777777777778,
              "#fb9f3a"
             ],
             [
              0.8888888888888888,
              "#fdca26"
             ],
             [
              1,
              "#f0f921"
             ]
            ],
            "type": "heatmapgl"
           }
          ],
          "histogram": [
           {
            "marker": {
             "colorbar": {
              "outlinewidth": 0,
              "ticks": ""
             }
            },
            "type": "histogram"
           }
          ],
          "histogram2d": [
           {
            "colorbar": {
             "outlinewidth": 0,
             "ticks": ""
            },
            "colorscale": [
             [
              0,
              "#0d0887"
             ],
             [
              0.1111111111111111,
              "#46039f"
             ],
             [
              0.2222222222222222,
              "#7201a8"
             ],
             [
              0.3333333333333333,
              "#9c179e"
             ],
             [
              0.4444444444444444,
              "#bd3786"
             ],
             [
              0.5555555555555556,
              "#d8576b"
             ],
             [
              0.6666666666666666,
              "#ed7953"
             ],
             [
              0.7777777777777778,
              "#fb9f3a"
             ],
             [
              0.8888888888888888,
              "#fdca26"
             ],
             [
              1,
              "#f0f921"
             ]
            ],
            "type": "histogram2d"
           }
          ],
          "histogram2dcontour": [
           {
            "colorbar": {
             "outlinewidth": 0,
             "ticks": ""
            },
            "colorscale": [
             [
              0,
              "#0d0887"
             ],
             [
              0.1111111111111111,
              "#46039f"
             ],
             [
              0.2222222222222222,
              "#7201a8"
             ],
             [
              0.3333333333333333,
              "#9c179e"
             ],
             [
              0.4444444444444444,
              "#bd3786"
             ],
             [
              0.5555555555555556,
              "#d8576b"
             ],
             [
              0.6666666666666666,
              "#ed7953"
             ],
             [
              0.7777777777777778,
              "#fb9f3a"
             ],
             [
              0.8888888888888888,
              "#fdca26"
             ],
             [
              1,
              "#f0f921"
             ]
            ],
            "type": "histogram2dcontour"
           }
          ],
          "mesh3d": [
           {
            "colorbar": {
             "outlinewidth": 0,
             "ticks": ""
            },
            "type": "mesh3d"
           }
          ],
          "parcoords": [
           {
            "line": {
             "colorbar": {
              "outlinewidth": 0,
              "ticks": ""
             }
            },
            "type": "parcoords"
           }
          ],
          "pie": [
           {
            "automargin": true,
            "type": "pie"
           }
          ],
          "scatter": [
           {
            "marker": {
             "colorbar": {
              "outlinewidth": 0,
              "ticks": ""
             }
            },
            "type": "scatter"
           }
          ],
          "scatter3d": [
           {
            "line": {
             "colorbar": {
              "outlinewidth": 0,
              "ticks": ""
             }
            },
            "marker": {
             "colorbar": {
              "outlinewidth": 0,
              "ticks": ""
             }
            },
            "type": "scatter3d"
           }
          ],
          "scattercarpet": [
           {
            "marker": {
             "colorbar": {
              "outlinewidth": 0,
              "ticks": ""
             }
            },
            "type": "scattercarpet"
           }
          ],
          "scattergeo": [
           {
            "marker": {
             "colorbar": {
              "outlinewidth": 0,
              "ticks": ""
             }
            },
            "type": "scattergeo"
           }
          ],
          "scattergl": [
           {
            "marker": {
             "colorbar": {
              "outlinewidth": 0,
              "ticks": ""
             }
            },
            "type": "scattergl"
           }
          ],
          "scattermapbox": [
           {
            "marker": {
             "colorbar": {
              "outlinewidth": 0,
              "ticks": ""
             }
            },
            "type": "scattermapbox"
           }
          ],
          "scatterpolar": [
           {
            "marker": {
             "colorbar": {
              "outlinewidth": 0,
              "ticks": ""
             }
            },
            "type": "scatterpolar"
           }
          ],
          "scatterpolargl": [
           {
            "marker": {
             "colorbar": {
              "outlinewidth": 0,
              "ticks": ""
             }
            },
            "type": "scatterpolargl"
           }
          ],
          "scatterternary": [
           {
            "marker": {
             "colorbar": {
              "outlinewidth": 0,
              "ticks": ""
             }
            },
            "type": "scatterternary"
           }
          ],
          "surface": [
           {
            "colorbar": {
             "outlinewidth": 0,
             "ticks": ""
            },
            "colorscale": [
             [
              0,
              "#0d0887"
             ],
             [
              0.1111111111111111,
              "#46039f"
             ],
             [
              0.2222222222222222,
              "#7201a8"
             ],
             [
              0.3333333333333333,
              "#9c179e"
             ],
             [
              0.4444444444444444,
              "#bd3786"
             ],
             [
              0.5555555555555556,
              "#d8576b"
             ],
             [
              0.6666666666666666,
              "#ed7953"
             ],
             [
              0.7777777777777778,
              "#fb9f3a"
             ],
             [
              0.8888888888888888,
              "#fdca26"
             ],
             [
              1,
              "#f0f921"
             ]
            ],
            "type": "surface"
           }
          ],
          "table": [
           {
            "cells": {
             "fill": {
              "color": "#EBF0F8"
             },
             "line": {
              "color": "white"
             }
            },
            "header": {
             "fill": {
              "color": "#C8D4E3"
             },
             "line": {
              "color": "white"
             }
            },
            "type": "table"
           }
          ]
         },
         "layout": {
          "annotationdefaults": {
           "arrowcolor": "#2a3f5f",
           "arrowhead": 0,
           "arrowwidth": 1
          },
          "coloraxis": {
           "colorbar": {
            "outlinewidth": 0,
            "ticks": ""
           }
          },
          "colorscale": {
           "diverging": [
            [
             0,
             "#8e0152"
            ],
            [
             0.1,
             "#c51b7d"
            ],
            [
             0.2,
             "#de77ae"
            ],
            [
             0.3,
             "#f1b6da"
            ],
            [
             0.4,
             "#fde0ef"
            ],
            [
             0.5,
             "#f7f7f7"
            ],
            [
             0.6,
             "#e6f5d0"
            ],
            [
             0.7,
             "#b8e186"
            ],
            [
             0.8,
             "#7fbc41"
            ],
            [
             0.9,
             "#4d9221"
            ],
            [
             1,
             "#276419"
            ]
           ],
           "sequential": [
            [
             0,
             "#0d0887"
            ],
            [
             0.1111111111111111,
             "#46039f"
            ],
            [
             0.2222222222222222,
             "#7201a8"
            ],
            [
             0.3333333333333333,
             "#9c179e"
            ],
            [
             0.4444444444444444,
             "#bd3786"
            ],
            [
             0.5555555555555556,
             "#d8576b"
            ],
            [
             0.6666666666666666,
             "#ed7953"
            ],
            [
             0.7777777777777778,
             "#fb9f3a"
            ],
            [
             0.8888888888888888,
             "#fdca26"
            ],
            [
             1,
             "#f0f921"
            ]
           ],
           "sequentialminus": [
            [
             0,
             "#0d0887"
            ],
            [
             0.1111111111111111,
             "#46039f"
            ],
            [
             0.2222222222222222,
             "#7201a8"
            ],
            [
             0.3333333333333333,
             "#9c179e"
            ],
            [
             0.4444444444444444,
             "#bd3786"
            ],
            [
             0.5555555555555556,
             "#d8576b"
            ],
            [
             0.6666666666666666,
             "#ed7953"
            ],
            [
             0.7777777777777778,
             "#fb9f3a"
            ],
            [
             0.8888888888888888,
             "#fdca26"
            ],
            [
             1,
             "#f0f921"
            ]
           ]
          },
          "colorway": [
           "#636efa",
           "#EF553B",
           "#00cc96",
           "#ab63fa",
           "#FFA15A",
           "#19d3f3",
           "#FF6692",
           "#B6E880",
           "#FF97FF",
           "#FECB52"
          ],
          "font": {
           "color": "#2a3f5f"
          },
          "geo": {
           "bgcolor": "white",
           "lakecolor": "white",
           "landcolor": "#E5ECF6",
           "showlakes": true,
           "showland": true,
           "subunitcolor": "white"
          },
          "hoverlabel": {
           "align": "left"
          },
          "hovermode": "closest",
          "mapbox": {
           "style": "light"
          },
          "paper_bgcolor": "white",
          "plot_bgcolor": "#E5ECF6",
          "polar": {
           "angularaxis": {
            "gridcolor": "white",
            "linecolor": "white",
            "ticks": ""
           },
           "bgcolor": "#E5ECF6",
           "radialaxis": {
            "gridcolor": "white",
            "linecolor": "white",
            "ticks": ""
           }
          },
          "scene": {
           "xaxis": {
            "backgroundcolor": "#E5ECF6",
            "gridcolor": "white",
            "gridwidth": 2,
            "linecolor": "white",
            "showbackground": true,
            "ticks": "",
            "zerolinecolor": "white"
           },
           "yaxis": {
            "backgroundcolor": "#E5ECF6",
            "gridcolor": "white",
            "gridwidth": 2,
            "linecolor": "white",
            "showbackground": true,
            "ticks": "",
            "zerolinecolor": "white"
           },
           "zaxis": {
            "backgroundcolor": "#E5ECF6",
            "gridcolor": "white",
            "gridwidth": 2,
            "linecolor": "white",
            "showbackground": true,
            "ticks": "",
            "zerolinecolor": "white"
           }
          },
          "shapedefaults": {
           "line": {
            "color": "#2a3f5f"
           }
          },
          "ternary": {
           "aaxis": {
            "gridcolor": "white",
            "linecolor": "white",
            "ticks": ""
           },
           "baxis": {
            "gridcolor": "white",
            "linecolor": "white",
            "ticks": ""
           },
           "bgcolor": "#E5ECF6",
           "caxis": {
            "gridcolor": "white",
            "linecolor": "white",
            "ticks": ""
           }
          },
          "title": {
           "x": 0.05
          },
          "xaxis": {
           "automargin": true,
           "gridcolor": "white",
           "linecolor": "white",
           "ticks": "",
           "title": {
            "standoff": 15
           },
           "zerolinecolor": "white",
           "zerolinewidth": 2
          },
          "yaxis": {
           "automargin": true,
           "gridcolor": "white",
           "linecolor": "white",
           "ticks": "",
           "title": {
            "standoff": 15
           },
           "zerolinecolor": "white",
           "zerolinewidth": 2
          }
         }
        },
        "title": {
         "text": "Cost affect on risk_cost"
        },
        "width": 1000,
        "xaxis": {
         "title": {
          "text": "conf"
         }
        }
       }
      }
     },
     "metadata": {}
    }
   ],
   "source": [
    "conf = 0.9\n",
    "n_increments = 10\n",
    "n_iterations = 100\n",
    "#if it's even add one\n",
    "\n",
    "df_sens = comp.sensitivity(var_name = df_inspection_slow, conf =  conf, n_increments = n_increments, n_iterations = n_iterations)\n",
    "\n",
    "comp.make_sensitivity_plot(data = df_sens, x_axis = 'conf', y_axis = 'var_name', failure_mode = 'slow_aging', plot_type = 'heatmap', z_axis = 'risk_cost')\n"
   ]
  }
 ],
 "metadata": {
  "kernelspec": {
   "name": ".venv",
   "display_name": ".venv",
   "language": "python"
  },
  "language_info": {
   "codemirror_mode": {
    "name": "ipython",
    "version": 3
   },
   "file_extension": ".py",
   "mimetype": "text/x-python",
   "name": "python",
   "nbconvert_exporter": "python",
   "pygments_lexer": "ipython3",
   "version": "3.9.0-final"
  }
 },
 "nbformat": 4,
 "nbformat_minor": 2
}