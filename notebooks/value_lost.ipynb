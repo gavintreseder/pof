{
 "cells": [
  {
   "cell_type": "markdown",
   "metadata": {},
   "source": [
    "# Value Lost\n",
    "\n",
    "A notebook to determine the value lost when applying a maintenance strategy defined in an asset model to a population\n",
    "\n",
    "Author: gavin.treseder@essentialenergy.com.au"
   ]
  },
  {
   "source": [
    "## Current Working Directory\n",
    "Set the file path so that we can import pof code and load files"
   ],
   "cell_type": "markdown",
   "metadata": {}
  },
  {
   "cell_type": "code",
   "execution_count": 31,
   "metadata": {},
   "outputs": [],
   "source": [
    "#  Add root folder to python path\n",
    "import sys\n",
    "import os\n",
    "sys.path.append(os.path.dirname(os.getcwd()))"
   ]
  },
  {
   "source": [
    "## Import packages\n",
    "\n",
    "Import the packages that are required for this process "
   ],
   "cell_type": "markdown",
   "metadata": {}
  },
  {
   "cell_type": "code",
   "execution_count": 32,
   "metadata": {},
   "outputs": [],
   "source": [
    "import copy\n",
    "\n",
    "from IPython.display import clear_output\n",
    "import numpy as np \n",
    "import pandas as pd\n",
    "import plotly.express as px\n",
    "import scipy.stats as ss\n",
    "\n",
    "\n",
    "from pof import Component\n",
    "from pof.interface import figures\n",
    "from pof.loader.asset_model_loader import AssetModelLoader\n",
    "from pof.paths import Paths"
   ]
  },
  {
   "source": [
    "## Load the Asset Model"
   ],
   "cell_type": "markdown",
   "metadata": {}
  },
  {
   "source": [
    "asset_model_filename = \"Asset Model - Pole - Timber.xlsx\"\n",
    "\n",
    "paths = Paths()\n",
    "model_path = paths.demo_path + os.sep + asset_model_filename\n",
    "\n",
    "if asset_model_filename is not None:\n",
    "    \n",
    "    aml = AssetModelLoader()\n",
    "    comp_data = aml.load(model_path)\n",
    "    comp = Component.from_dict(comp_data[\"pole\"])\n",
    "\n",
    "    print(\"Asset Model loaded\")\n",
    "    pass\n",
    "else:\n",
    "    comp = Component.demo()\n",
    "    print(\"Demo Model loaded\")"
   ],
   "cell_type": "code",
   "metadata": {},
   "execution_count": 33,
   "outputs": [
    {
     "output_type": "stream",
     "name": "stderr",
     "text": [
      "WARNING:root:Invalid Data () - {'task': 'inspection', 'level_of_repair': 'as_bad_as_old', 'admin': 'yes', 'maint': 'no', 'travel': 'yes'}\n",
      "WARNING:root:t_interval will be scaled to the nearest integer - 4.5\n",
      "WARNING:root:Invalid Data () - {'task': 'repair', 'level_of_repair': 'grp'}\n",
      "WARNING:root:Invalid Data () - {'task': 'replace', 'level_of_repair': 'as_good_as_new'}\n",
      "WARNING:root:Invalid Data () - {'task': 'replace', 'level_of_repair': 'as_good_as_new'}\n",
      "WARNING:root:Invalid Data () - {'task': 'inspection', 'admin': 'yes', 'maint': 'no', 'travel': 'yes'}\n",
      "WARNING:root:t_interval will be scaled to the nearest integer - 4.5\n",
      "WARNING:root:Invalid Data () - {'task': 'replace', 'level_of_repair': 'as_good_as_new'}\n",
      "WARNING:root:Invalid Data () - {'task': 'replace', 'level_of_repair': 'as_good_as_new'}\n",
      "WARNING:root:Invalid Data () - {'task': 'inspection', 'level_of_repair': 'as_bad_as_old', 'admin': 'yes', 'maint': 'no', 'travel': 'yes'}\n",
      "WARNING:root:t_interval will be scaled to the nearest integer - 4.5\n",
      "WARNING:root:Invalid Data () - {'task': 'repair', 'level_of_repair': 'as_bad_as_old'}\n",
      "WARNING:root:Invalid Data () - {'task': 'replace', 'level_of_repair': 'as_good_as_new'}\n",
      "WARNING:root:Invalid Data () - {'task': 'replace', 'level_of_repair': 'as_good_as_new'}\n",
      "WARNING:root:Invalid Data () - {'task': 'inspection', 'level_of_repair': 'as_bad_as_old'}\n",
      "WARNING:root:t_interval will be scaled to the nearest integer - 4.5\n",
      "WARNING:root:Invalid Data () - {'task': 'inspection', 'admin': 'yes', 'maint': 'no', 'travel': 'yes'}\n",
      "WARNING:root:Invalid Data () - {'task': 'replace', 'level_of_repair': 'as_good_as_new'}\n",
      "WARNING:root:Invalid Data () - {'task': 'inspection', 'level_of_repair': 'as_bad_as_old'}\n",
      "WARNING:root:Invalid Data () - {'task': 'replace', 'level_of_repair': 'as_good_as_new'}\n",
      "WARNING:root:Invalid Data () - {'task': 'inspection', 'level_of_repair': 'as_bad_as_old'}\n",
      "WARNING:root:Invalid Data () - {'task': 'replace', 'level_of_repair': 'as_good_as_new'}\n",
      "WARNING:root:Invalid Data () - {'task': 'inspection'}\n",
      "WARNING:root:t_interval will be scaled to the nearest integer - 4.5\n",
      "WARNING:root:Invalid Data () - {'task': 'replace', 'level_of_repair': 'as_good_as_new'}\n",
      "WARNING:root:Invalid Data () - {'task': 'replace', 'level_of_repair': 'as_good_as_new'}\n",
      "Asset Model loaded\n"
     ]
    }
   ]
  },
  {
   "cell_type": "code",
   "execution_count": null,
   "metadata": {},
   "outputs": [],
   "source": [
    "consequence_range = np.arange(0, 2e6, 1e5)\n",
    "t_interval_range = np.arrange(0, 10, 0.25)\n",
    "n_iterations = 500\n",
    "\n",
    "for consequence in consequence_range:\n",
    "    for t_interval in t_interval_range:\n",
    "\n",
    "\n"
   ]
  },
  {
   "cell_type": "code",
   "execution_count": 29,
   "metadata": {},
   "outputs": [],
   "source": [
    "comp.units = 'months'"
   ]
  },
  {
   "cell_type": "code",
   "execution_count": 30,
   "metadata": {},
   "outputs": [
    {
     "output_type": "stream",
     "name": "stderr",
     "text": [
      "100%|██████████| 100/100 [02:53<00:00,  1.73s/it]\n",
      "ERROR:root:Error at %s\n",
      "Traceback (most recent call last):\n",
      "  File \"C:\\Users\\gtreseder\\OneDrive - KPMG\\Documents\\3. Client\\Essential Energy\\Probability of Failure Model\\pof\\pof\\component.py\", line 599, in expected_sensitivity\n",
      "    self.mp_timeline(t_end=t_end, n_iterations=n_iterations)\n",
      "  File \"C:\\Users\\gtreseder\\OneDrive - KPMG\\Documents\\3. Client\\Essential Energy\\Probability of Failure Model\\pof\\pof\\component.py\", line 446, in expected_risk_cost_df\n",
      "    \"\"\" A wrapper for expected risk cost that returns a dataframe\"\"\"\n",
      "  File \"C:\\Users\\gtreseder\\OneDrive - KPMG\\Documents\\3. Client\\Essential Energy\\Probability of Failure Model\\pof\\pof\\component.py\", line 542, in expected_risk_cost\n",
      "    def expected_risk_cost(self):\n",
      "  File \"C:\\Users\\gtreseder\\OneDrive - KPMG\\Documents\\3. Client\\Essential Energy\\Probability of Failure Model\\pof\\pof\\component.py\", line 542, in <dictcomp>\n",
      "    def expected_risk_cost(self):\n",
      "  File \"C:\\Users\\gtreseder\\OneDrive - KPMG\\Documents\\3. Client\\Essential Energy\\Probability of Failure Model\\pof\\pof\\failure_mode.py\", line 848, in expected_risk_cost\n",
      "    task_cost[task.name][\"active\"] & self.active\n",
      "TypeError: unsupported operand type(s) for &: 'float' and 'bool'\n",
      "100%|██████████| 100/100 [01:04<00:00,  1.54it/s]\n",
      "ERROR:root:Error at %s\n",
      "Traceback (most recent call last):\n",
      "  File \"C:\\Users\\gtreseder\\OneDrive - KPMG\\Documents\\3. Client\\Essential Energy\\Probability of Failure Model\\pof\\pof\\component.py\", line 599, in expected_sensitivity\n",
      "    self.mp_timeline(t_end=t_end, n_iterations=n_iterations)\n",
      "  File \"C:\\Users\\gtreseder\\OneDrive - KPMG\\Documents\\3. Client\\Essential Energy\\Probability of Failure Model\\pof\\pof\\component.py\", line 446, in expected_risk_cost_df\n",
      "    \"\"\" A wrapper for expected risk cost that returns a dataframe\"\"\"\n",
      "  File \"C:\\Users\\gtreseder\\OneDrive - KPMG\\Documents\\3. Client\\Essential Energy\\Probability of Failure Model\\pof\\pof\\component.py\", line 542, in expected_risk_cost\n",
      "    def expected_risk_cost(self):\n",
      "  File \"C:\\Users\\gtreseder\\OneDrive - KPMG\\Documents\\3. Client\\Essential Energy\\Probability of Failure Model\\pof\\pof\\component.py\", line 542, in <dictcomp>\n",
      "    def expected_risk_cost(self):\n",
      "  File \"C:\\Users\\gtreseder\\OneDrive - KPMG\\Documents\\3. Client\\Essential Energy\\Probability of Failure Model\\pof\\pof\\failure_mode.py\", line 848, in expected_risk_cost\n",
      "    task_cost[task.name][\"active\"] & self.active\n",
      "TypeError: unsupported operand type(s) for &: 'float' and 'bool'\n",
      "100%|██████████| 100/100 [00:40<00:00,  2.47it/s]\n",
      "ERROR:root:Error at %s\n",
      "Traceback (most recent call last):\n",
      "  File \"C:\\Users\\gtreseder\\OneDrive - KPMG\\Documents\\3. Client\\Essential Energy\\Probability of Failure Model\\pof\\pof\\component.py\", line 599, in expected_sensitivity\n",
      "    self.mp_timeline(t_end=t_end, n_iterations=n_iterations)\n",
      "  File \"C:\\Users\\gtreseder\\OneDrive - KPMG\\Documents\\3. Client\\Essential Energy\\Probability of Failure Model\\pof\\pof\\component.py\", line 446, in expected_risk_cost_df\n",
      "    \"\"\" A wrapper for expected risk cost that returns a dataframe\"\"\"\n",
      "  File \"C:\\Users\\gtreseder\\OneDrive - KPMG\\Documents\\3. Client\\Essential Energy\\Probability of Failure Model\\pof\\pof\\component.py\", line 542, in expected_risk_cost\n",
      "    def expected_risk_cost(self):\n",
      "  File \"C:\\Users\\gtreseder\\OneDrive - KPMG\\Documents\\3. Client\\Essential Energy\\Probability of Failure Model\\pof\\pof\\component.py\", line 542, in <dictcomp>\n",
      "    def expected_risk_cost(self):\n",
      "  File \"C:\\Users\\gtreseder\\OneDrive - KPMG\\Documents\\3. Client\\Essential Energy\\Probability of Failure Model\\pof\\pof\\failure_mode.py\", line 848, in expected_risk_cost\n",
      "    task_cost[task.name][\"active\"] & self.active\n",
      "TypeError: unsupported operand type(s) for &: 'float' and 'bool'\n",
      "100%|██████████| 100/100 [00:37<00:00,  2.70it/s]\n",
      "ERROR:root:Error at %s\n",
      "Traceback (most recent call last):\n",
      "  File \"C:\\Users\\gtreseder\\OneDrive - KPMG\\Documents\\3. Client\\Essential Energy\\Probability of Failure Model\\pof\\pof\\component.py\", line 599, in expected_sensitivity\n",
      "    self.mp_timeline(t_end=t_end, n_iterations=n_iterations)\n",
      "  File \"C:\\Users\\gtreseder\\OneDrive - KPMG\\Documents\\3. Client\\Essential Energy\\Probability of Failure Model\\pof\\pof\\component.py\", line 446, in expected_risk_cost_df\n",
      "    \"\"\" A wrapper for expected risk cost that returns a dataframe\"\"\"\n",
      "  File \"C:\\Users\\gtreseder\\OneDrive - KPMG\\Documents\\3. Client\\Essential Energy\\Probability of Failure Model\\pof\\pof\\component.py\", line 542, in expected_risk_cost\n",
      "    def expected_risk_cost(self):\n",
      "  File \"C:\\Users\\gtreseder\\OneDrive - KPMG\\Documents\\3. Client\\Essential Energy\\Probability of Failure Model\\pof\\pof\\component.py\", line 542, in <dictcomp>\n",
      "    def expected_risk_cost(self):\n",
      "  File \"C:\\Users\\gtreseder\\OneDrive - KPMG\\Documents\\3. Client\\Essential Energy\\Probability of Failure Model\\pof\\pof\\failure_mode.py\", line 848, in expected_risk_cost\n",
      "    task_cost[task.name][\"active\"] & self.active\n",
      "TypeError: unsupported operand type(s) for &: 'float' and 'bool'\n",
      "100%|██████████| 100/100 [00:16<00:00,  5.94it/s]\n",
      "ERROR:root:Error at %s\n",
      "Traceback (most recent call last):\n",
      "  File \"C:\\Users\\gtreseder\\OneDrive - KPMG\\Documents\\3. Client\\Essential Energy\\Probability of Failure Model\\pof\\pof\\component.py\", line 599, in expected_sensitivity\n",
      "    self.mp_timeline(t_end=t_end, n_iterations=n_iterations)\n",
      "  File \"C:\\Users\\gtreseder\\OneDrive - KPMG\\Documents\\3. Client\\Essential Energy\\Probability of Failure Model\\pof\\pof\\component.py\", line 446, in expected_risk_cost_df\n",
      "    \"\"\" A wrapper for expected risk cost that returns a dataframe\"\"\"\n",
      "  File \"C:\\Users\\gtreseder\\OneDrive - KPMG\\Documents\\3. Client\\Essential Energy\\Probability of Failure Model\\pof\\pof\\component.py\", line 542, in expected_risk_cost\n",
      "    def expected_risk_cost(self):\n",
      "  File \"C:\\Users\\gtreseder\\OneDrive - KPMG\\Documents\\3. Client\\Essential Energy\\Probability of Failure Model\\pof\\pof\\component.py\", line 542, in <dictcomp>\n",
      "    def expected_risk_cost(self):\n",
      "  File \"C:\\Users\\gtreseder\\OneDrive - KPMG\\Documents\\3. Client\\Essential Energy\\Probability of Failure Model\\pof\\pof\\failure_mode.py\", line 848, in expected_risk_cost\n",
      "    task_cost[task.name][\"active\"] & self.active\n",
      "TypeError: unsupported operand type(s) for &: 'float' and 'bool'\n",
      "100%|██████████| 100/100 [00:13<00:00,  7.42it/s]\n",
      "ERROR:root:Error at %s\n",
      "Traceback (most recent call last):\n",
      "  File \"C:\\Users\\gtreseder\\OneDrive - KPMG\\Documents\\3. Client\\Essential Energy\\Probability of Failure Model\\pof\\pof\\component.py\", line 599, in expected_sensitivity\n",
      "    self.mp_timeline(t_end=t_end, n_iterations=n_iterations)\n",
      "  File \"C:\\Users\\gtreseder\\OneDrive - KPMG\\Documents\\3. Client\\Essential Energy\\Probability of Failure Model\\pof\\pof\\component.py\", line 446, in expected_risk_cost_df\n",
      "    \"\"\" A wrapper for expected risk cost that returns a dataframe\"\"\"\n",
      "  File \"C:\\Users\\gtreseder\\OneDrive - KPMG\\Documents\\3. Client\\Essential Energy\\Probability of Failure Model\\pof\\pof\\component.py\", line 542, in expected_risk_cost\n",
      "    def expected_risk_cost(self):\n",
      "  File \"C:\\Users\\gtreseder\\OneDrive - KPMG\\Documents\\3. Client\\Essential Energy\\Probability of Failure Model\\pof\\pof\\component.py\", line 542, in <dictcomp>\n",
      "    def expected_risk_cost(self):\n",
      "  File \"C:\\Users\\gtreseder\\OneDrive - KPMG\\Documents\\3. Client\\Essential Energy\\Probability of Failure Model\\pof\\pof\\failure_mode.py\", line 848, in expected_risk_cost\n",
      "    task_cost[task.name][\"active\"] & self.active\n",
      "TypeError: unsupported operand type(s) for &: 'float' and 'bool'\n",
      "100%|██████████| 100/100 [00:25<00:00,  3.95it/s]\n",
      "ERROR:root:Error at %s\n",
      "Traceback (most recent call last):\n",
      "  File \"C:\\Users\\gtreseder\\OneDrive - KPMG\\Documents\\3. Client\\Essential Energy\\Probability of Failure Model\\pof\\pof\\component.py\", line 599, in expected_sensitivity\n",
      "    self.mp_timeline(t_end=t_end, n_iterations=n_iterations)\n",
      "  File \"C:\\Users\\gtreseder\\OneDrive - KPMG\\Documents\\3. Client\\Essential Energy\\Probability of Failure Model\\pof\\pof\\component.py\", line 446, in expected_risk_cost_df\n",
      "    \"\"\" A wrapper for expected risk cost that returns a dataframe\"\"\"\n",
      "  File \"C:\\Users\\gtreseder\\OneDrive - KPMG\\Documents\\3. Client\\Essential Energy\\Probability of Failure Model\\pof\\pof\\component.py\", line 542, in expected_risk_cost\n",
      "    def expected_risk_cost(self):\n",
      "  File \"C:\\Users\\gtreseder\\OneDrive - KPMG\\Documents\\3. Client\\Essential Energy\\Probability of Failure Model\\pof\\pof\\component.py\", line 542, in <dictcomp>\n",
      "    def expected_risk_cost(self):\n",
      "  File \"C:\\Users\\gtreseder\\OneDrive - KPMG\\Documents\\3. Client\\Essential Energy\\Probability of Failure Model\\pof\\pof\\failure_mode.py\", line 848, in expected_risk_cost\n",
      "    task_cost[task.name][\"active\"] & self.active\n",
      "TypeError: unsupported operand type(s) for &: 'float' and 'bool'\n",
      "100%|██████████| 100/100 [00:17<00:00,  5.56it/s]\n",
      "ERROR:root:Error at %s\n",
      "Traceback (most recent call last):\n",
      "  File \"C:\\Users\\gtreseder\\OneDrive - KPMG\\Documents\\3. Client\\Essential Energy\\Probability of Failure Model\\pof\\pof\\component.py\", line 599, in expected_sensitivity\n",
      "    self.mp_timeline(t_end=t_end, n_iterations=n_iterations)\n",
      "  File \"C:\\Users\\gtreseder\\OneDrive - KPMG\\Documents\\3. Client\\Essential Energy\\Probability of Failure Model\\pof\\pof\\component.py\", line 446, in expected_risk_cost_df\n",
      "    \"\"\" A wrapper for expected risk cost that returns a dataframe\"\"\"\n",
      "  File \"C:\\Users\\gtreseder\\OneDrive - KPMG\\Documents\\3. Client\\Essential Energy\\Probability of Failure Model\\pof\\pof\\component.py\", line 542, in expected_risk_cost\n",
      "    def expected_risk_cost(self):\n",
      "  File \"C:\\Users\\gtreseder\\OneDrive - KPMG\\Documents\\3. Client\\Essential Energy\\Probability of Failure Model\\pof\\pof\\component.py\", line 542, in <dictcomp>\n",
      "    def expected_risk_cost(self):\n",
      "  File \"C:\\Users\\gtreseder\\OneDrive - KPMG\\Documents\\3. Client\\Essential Energy\\Probability of Failure Model\\pof\\pof\\failure_mode.py\", line 848, in expected_risk_cost\n",
      "    task_cost[task.name][\"active\"] & self.active\n",
      "TypeError: unsupported operand type(s) for &: 'float' and 'bool'\n",
      "100%|██████████| 100/100 [00:17<00:00,  5.65it/s]\n",
      "ERROR:root:Error at %s\n",
      "Traceback (most recent call last):\n",
      "  File \"C:\\Users\\gtreseder\\OneDrive - KPMG\\Documents\\3. Client\\Essential Energy\\Probability of Failure Model\\pof\\pof\\component.py\", line 599, in expected_sensitivity\n",
      "    self.mp_timeline(t_end=t_end, n_iterations=n_iterations)\n",
      "  File \"C:\\Users\\gtreseder\\OneDrive - KPMG\\Documents\\3. Client\\Essential Energy\\Probability of Failure Model\\pof\\pof\\component.py\", line 446, in expected_risk_cost_df\n",
      "    \"\"\" A wrapper for expected risk cost that returns a dataframe\"\"\"\n",
      "  File \"C:\\Users\\gtreseder\\OneDrive - KPMG\\Documents\\3. Client\\Essential Energy\\Probability of Failure Model\\pof\\pof\\component.py\", line 542, in expected_risk_cost\n",
      "    def expected_risk_cost(self):\n",
      "  File \"C:\\Users\\gtreseder\\OneDrive - KPMG\\Documents\\3. Client\\Essential Energy\\Probability of Failure Model\\pof\\pof\\component.py\", line 542, in <dictcomp>\n",
      "    def expected_risk_cost(self):\n",
      "  File \"C:\\Users\\gtreseder\\OneDrive - KPMG\\Documents\\3. Client\\Essential Energy\\Probability of Failure Model\\pof\\pof\\failure_mode.py\", line 848, in expected_risk_cost\n",
      "    task_cost[task.name][\"active\"] & self.active\n",
      "TypeError: unsupported operand type(s) for &: 'float' and 'bool'\n",
      "100%|██████████| 100/100 [00:18<00:00,  5.36it/s]\n",
      "ERROR:root:Error at %s\n",
      "Traceback (most recent call last):\n",
      "  File \"C:\\Users\\gtreseder\\OneDrive - KPMG\\Documents\\3. Client\\Essential Energy\\Probability of Failure Model\\pof\\pof\\component.py\", line 599, in expected_sensitivity\n",
      "    self.mp_timeline(t_end=t_end, n_iterations=n_iterations)\n",
      "  File \"C:\\Users\\gtreseder\\OneDrive - KPMG\\Documents\\3. Client\\Essential Energy\\Probability of Failure Model\\pof\\pof\\component.py\", line 446, in expected_risk_cost_df\n",
      "    \"\"\" A wrapper for expected risk cost that returns a dataframe\"\"\"\n",
      "  File \"C:\\Users\\gtreseder\\OneDrive - KPMG\\Documents\\3. Client\\Essential Energy\\Probability of Failure Model\\pof\\pof\\component.py\", line 542, in expected_risk_cost\n",
      "    def expected_risk_cost(self):\n",
      "  File \"C:\\Users\\gtreseder\\OneDrive - KPMG\\Documents\\3. Client\\Essential Energy\\Probability of Failure Model\\pof\\pof\\component.py\", line 542, in <dictcomp>\n",
      "    def expected_risk_cost(self):\n",
      "  File \"C:\\Users\\gtreseder\\OneDrive - KPMG\\Documents\\3. Client\\Essential Energy\\Probability of Failure Model\\pof\\pof\\failure_mode.py\", line 848, in expected_risk_cost\n",
      "    task_cost[task.name][\"active\"] & self.active\n",
      "TypeError: unsupported operand type(s) for &: 'float' and 'bool'\n",
      "100%|██████████| 100/100 [00:16<00:00,  6.12it/s]\n",
      "ERROR:root:Error at %s\n",
      "Traceback (most recent call last):\n",
      "  File \"C:\\Users\\gtreseder\\OneDrive - KPMG\\Documents\\3. Client\\Essential Energy\\Probability of Failure Model\\pof\\pof\\component.py\", line 599, in expected_sensitivity\n",
      "    self.mp_timeline(t_end=t_end, n_iterations=n_iterations)\n",
      "  File \"C:\\Users\\gtreseder\\OneDrive - KPMG\\Documents\\3. Client\\Essential Energy\\Probability of Failure Model\\pof\\pof\\component.py\", line 446, in expected_risk_cost_df\n",
      "    \"\"\" A wrapper for expected risk cost that returns a dataframe\"\"\"\n",
      "  File \"C:\\Users\\gtreseder\\OneDrive - KPMG\\Documents\\3. Client\\Essential Energy\\Probability of Failure Model\\pof\\pof\\component.py\", line 542, in expected_risk_cost\n",
      "    def expected_risk_cost(self):\n",
      "  File \"C:\\Users\\gtreseder\\OneDrive - KPMG\\Documents\\3. Client\\Essential Energy\\Probability of Failure Model\\pof\\pof\\component.py\", line 542, in <dictcomp>\n",
      "    def expected_risk_cost(self):\n",
      "  File \"C:\\Users\\gtreseder\\OneDrive - KPMG\\Documents\\3. Client\\Essential Energy\\Probability of Failure Model\\pof\\pof\\failure_mode.py\", line 848, in expected_risk_cost\n",
      "    task_cost[task.name][\"active\"] & self.active\n",
      "TypeError: unsupported operand type(s) for &: 'float' and 'bool'\n",
      "100%|██████████| 100/100 [00:08<00:00, 12.14it/s]\n",
      "ERROR:root:Error at %s\n",
      "Traceback (most recent call last):\n",
      "  File \"C:\\Users\\gtreseder\\OneDrive - KPMG\\Documents\\3. Client\\Essential Energy\\Probability of Failure Model\\pof\\pof\\component.py\", line 599, in expected_sensitivity\n",
      "    self.mp_timeline(t_end=t_end, n_iterations=n_iterations)\n",
      "  File \"C:\\Users\\gtreseder\\OneDrive - KPMG\\Documents\\3. Client\\Essential Energy\\Probability of Failure Model\\pof\\pof\\component.py\", line 446, in expected_risk_cost_df\n",
      "    \"\"\" A wrapper for expected risk cost that returns a dataframe\"\"\"\n",
      "  File \"C:\\Users\\gtreseder\\OneDrive - KPMG\\Documents\\3. Client\\Essential Energy\\Probability of Failure Model\\pof\\pof\\component.py\", line 542, in expected_risk_cost\n",
      "    def expected_risk_cost(self):\n",
      "  File \"C:\\Users\\gtreseder\\OneDrive - KPMG\\Documents\\3. Client\\Essential Energy\\Probability of Failure Model\\pof\\pof\\component.py\", line 542, in <dictcomp>\n",
      "    def expected_risk_cost(self):\n",
      "  File \"C:\\Users\\gtreseder\\OneDrive - KPMG\\Documents\\3. Client\\Essential Energy\\Probability of Failure Model\\pof\\pof\\failure_mode.py\", line 848, in expected_risk_cost\n",
      "    task_cost[task.name][\"active\"] & self.active\n",
      "TypeError: unsupported operand type(s) for &: 'float' and 'bool'\n",
      "100%|██████████| 100/100 [00:13<00:00,  7.40it/s]\n",
      "ERROR:root:Error at %s\n",
      "Traceback (most recent call last):\n",
      "  File \"C:\\Users\\gtreseder\\OneDrive - KPMG\\Documents\\3. Client\\Essential Energy\\Probability of Failure Model\\pof\\pof\\component.py\", line 599, in expected_sensitivity\n",
      "    self.mp_timeline(t_end=t_end, n_iterations=n_iterations)\n",
      "  File \"C:\\Users\\gtreseder\\OneDrive - KPMG\\Documents\\3. Client\\Essential Energy\\Probability of Failure Model\\pof\\pof\\component.py\", line 446, in expected_risk_cost_df\n",
      "    \"\"\" A wrapper for expected risk cost that returns a dataframe\"\"\"\n",
      "  File \"C:\\Users\\gtreseder\\OneDrive - KPMG\\Documents\\3. Client\\Essential Energy\\Probability of Failure Model\\pof\\pof\\component.py\", line 542, in expected_risk_cost\n",
      "    def expected_risk_cost(self):\n",
      "  File \"C:\\Users\\gtreseder\\OneDrive - KPMG\\Documents\\3. Client\\Essential Energy\\Probability of Failure Model\\pof\\pof\\component.py\", line 542, in <dictcomp>\n",
      "    def expected_risk_cost(self):\n",
      "  File \"C:\\Users\\gtreseder\\OneDrive - KPMG\\Documents\\3. Client\\Essential Energy\\Probability of Failure Model\\pof\\pof\\failure_mode.py\", line 848, in expected_risk_cost\n",
      "    task_cost[task.name][\"active\"] & self.active\n",
      "TypeError: unsupported operand type(s) for &: 'float' and 'bool'\n",
      "100%|██████████| 100/100 [00:15<00:00,  6.61it/s]\n",
      "ERROR:root:Error at %s\n",
      "Traceback (most recent call last):\n",
      "  File \"C:\\Users\\gtreseder\\OneDrive - KPMG\\Documents\\3. Client\\Essential Energy\\Probability of Failure Model\\pof\\pof\\component.py\", line 599, in expected_sensitivity\n",
      "    self.mp_timeline(t_end=t_end, n_iterations=n_iterations)\n",
      "  File \"C:\\Users\\gtreseder\\OneDrive - KPMG\\Documents\\3. Client\\Essential Energy\\Probability of Failure Model\\pof\\pof\\component.py\", line 446, in expected_risk_cost_df\n",
      "    \"\"\" A wrapper for expected risk cost that returns a dataframe\"\"\"\n",
      "  File \"C:\\Users\\gtreseder\\OneDrive - KPMG\\Documents\\3. Client\\Essential Energy\\Probability of Failure Model\\pof\\pof\\component.py\", line 542, in expected_risk_cost\n",
      "    def expected_risk_cost(self):\n",
      "  File \"C:\\Users\\gtreseder\\OneDrive - KPMG\\Documents\\3. Client\\Essential Energy\\Probability of Failure Model\\pof\\pof\\component.py\", line 542, in <dictcomp>\n",
      "    def expected_risk_cost(self):\n",
      "  File \"C:\\Users\\gtreseder\\OneDrive - KPMG\\Documents\\3. Client\\Essential Energy\\Probability of Failure Model\\pof\\pof\\failure_mode.py\", line 848, in expected_risk_cost\n",
      "    task_cost[task.name][\"active\"] & self.active\n",
      "TypeError: unsupported operand type(s) for &: 'float' and 'bool'\n",
      "100%|██████████| 100/100 [00:15<00:00,  6.46it/s]\n",
      "ERROR:root:Error at %s\n",
      "Traceback (most recent call last):\n",
      "  File \"C:\\Users\\gtreseder\\OneDrive - KPMG\\Documents\\3. Client\\Essential Energy\\Probability of Failure Model\\pof\\pof\\component.py\", line 599, in expected_sensitivity\n",
      "    self.mp_timeline(t_end=t_end, n_iterations=n_iterations)\n",
      "  File \"C:\\Users\\gtreseder\\OneDrive - KPMG\\Documents\\3. Client\\Essential Energy\\Probability of Failure Model\\pof\\pof\\component.py\", line 446, in expected_risk_cost_df\n",
      "    \"\"\" A wrapper for expected risk cost that returns a dataframe\"\"\"\n",
      "  File \"C:\\Users\\gtreseder\\OneDrive - KPMG\\Documents\\3. Client\\Essential Energy\\Probability of Failure Model\\pof\\pof\\component.py\", line 542, in expected_risk_cost\n",
      "    def expected_risk_cost(self):\n",
      "  File \"C:\\Users\\gtreseder\\OneDrive - KPMG\\Documents\\3. Client\\Essential Energy\\Probability of Failure Model\\pof\\pof\\component.py\", line 542, in <dictcomp>\n",
      "    def expected_risk_cost(self):\n",
      "  File \"C:\\Users\\gtreseder\\OneDrive - KPMG\\Documents\\3. Client\\Essential Energy\\Probability of Failure Model\\pof\\pof\\failure_mode.py\", line 848, in expected_risk_cost\n",
      "    task_cost[task.name][\"active\"] & self.active\n",
      "TypeError: unsupported operand type(s) for &: 'float' and 'bool'\n",
      " 99%|█████████▉| 99/100 [00:21<00:00,  4.55it/s]\n"
     ]
    },
    {
     "output_type": "error",
     "ename": "KeyboardInterrupt",
     "evalue": "",
     "traceback": [
      "\u001b[1;31m---------------------------------------------------------------------------\u001b[0m",
      "\u001b[1;31mKeyboardInterrupt\u001b[0m                         Traceback (most recent call last)",
      "\u001b[1;32m<ipython-input-30-5f646269fbf3>\u001b[0m in \u001b[0;36m<module>\u001b[1;34m\u001b[0m\n\u001b[0;32m     16\u001b[0m \u001b[1;33m\u001b[0m\u001b[0m\n\u001b[0;32m     17\u001b[0m     \u001b[1;31m# Simulate\u001b[0m\u001b[1;33m\u001b[0m\u001b[1;33m\u001b[0m\u001b[1;33m\u001b[0m\u001b[0m\n\u001b[1;32m---> 18\u001b[1;33m     comp.expected_sensitivity(\n\u001b[0m\u001b[0;32m     19\u001b[0m         \u001b[0mvar_id\u001b[0m\u001b[1;33m=\u001b[0m\u001b[0mvar_id\u001b[0m\u001b[1;33m,\u001b[0m\u001b[1;33m\u001b[0m\u001b[1;33m\u001b[0m\u001b[0m\n\u001b[0;32m     20\u001b[0m         \u001b[0mlower\u001b[0m\u001b[1;33m=\u001b[0m\u001b[0mlower\u001b[0m\u001b[1;33m,\u001b[0m\u001b[1;33m\u001b[0m\u001b[1;33m\u001b[0m\u001b[0m\n",
      "\u001b[1;32m~\\OneDrive - KPMG\\Documents\\3. Client\\Essential Energy\\Probability of Failure Model\\pof\\pof\\component.py\u001b[0m in \u001b[0;36mexpected_sensitivity\u001b[1;34m(self, var_id, lower, upper, step_size, n_iterations, t_end)\u001b[0m\n\u001b[0;32m    596\u001b[0m \u001b[1;33m\u001b[0m\u001b[0m\n\u001b[0;32m    597\u001b[0m                 \u001b[1;31m# Update annd simulate a timeline\u001b[0m\u001b[1;33m\u001b[0m\u001b[1;33m\u001b[0m\u001b[1;33m\u001b[0m\u001b[0m\n\u001b[1;32m--> 598\u001b[1;33m                 \u001b[0mself\u001b[0m\u001b[1;33m.\u001b[0m\u001b[0mupdate\u001b[0m\u001b[1;33m(\u001b[0m\u001b[0mvar_id\u001b[0m\u001b[1;33m,\u001b[0m \u001b[0mi\u001b[0m\u001b[1;33m)\u001b[0m\u001b[1;33m\u001b[0m\u001b[1;33m\u001b[0m\u001b[0m\n\u001b[0m\u001b[0;32m    599\u001b[0m                 \u001b[0mself\u001b[0m\u001b[1;33m.\u001b[0m\u001b[0mmp_timeline\u001b[0m\u001b[1;33m(\u001b[0m\u001b[0mt_end\u001b[0m\u001b[1;33m=\u001b[0m\u001b[0mt_end\u001b[0m\u001b[1;33m,\u001b[0m \u001b[0mn_iterations\u001b[0m\u001b[1;33m=\u001b[0m\u001b[0mn_iterations\u001b[0m\u001b[1;33m)\u001b[0m\u001b[1;33m\u001b[0m\u001b[1;33m\u001b[0m\u001b[0m\n\u001b[0;32m    600\u001b[0m                 \u001b[0mdf_rc\u001b[0m \u001b[1;33m=\u001b[0m \u001b[0mself\u001b[0m\u001b[1;33m.\u001b[0m\u001b[0mexpected_risk_cost_df\u001b[0m\u001b[1;33m(\u001b[0m\u001b[1;33m)\u001b[0m\u001b[1;33m\u001b[0m\u001b[1;33m\u001b[0m\u001b[0m\n",
      "\u001b[1;32m~\\OneDrive - KPMG\\Documents\\3. Client\\Essential Energy\\Probability of Failure Model\\pof\\pof\\component.py\u001b[0m in \u001b[0;36mmp_timeline\u001b[1;34m(self, t_end, t_start, n_iterations)\u001b[0m\n\u001b[0;32m    199\u001b[0m                     \u001b[1;32mbreak\u001b[0m\u001b[1;33m\u001b[0m\u001b[1;33m\u001b[0m\u001b[0m\n\u001b[0;32m    200\u001b[0m \u001b[1;33m\u001b[0m\u001b[0m\n\u001b[1;32m--> 201\u001b[1;33m                 \u001b[1;31m# Complete a simulation\u001b[0m\u001b[1;33m\u001b[0m\u001b[1;33m\u001b[0m\u001b[1;33m\u001b[0m\u001b[0m\n\u001b[0m\u001b[0;32m    202\u001b[0m                 \u001b[0mself\u001b[0m\u001b[1;33m.\u001b[0m\u001b[0msim_timeline\u001b[0m\u001b[1;33m(\u001b[0m\u001b[0mt_end\u001b[0m\u001b[1;33m=\u001b[0m\u001b[0mt_end\u001b[0m\u001b[1;33m,\u001b[0m \u001b[0mt_start\u001b[0m\u001b[1;33m=\u001b[0m\u001b[0mt_start\u001b[0m\u001b[1;33m)\u001b[0m\u001b[1;33m\u001b[0m\u001b[1;33m\u001b[0m\u001b[0m\n\u001b[0;32m    203\u001b[0m                 \u001b[0mself\u001b[0m\u001b[1;33m.\u001b[0m\u001b[0msave_timeline\u001b[0m\u001b[1;33m(\u001b[0m\u001b[0mself\u001b[0m\u001b[1;33m.\u001b[0m\u001b[0mn\u001b[0m\u001b[1;33m)\u001b[0m\u001b[1;33m\u001b[0m\u001b[1;33m\u001b[0m\u001b[0m\n",
      "\u001b[1;32m~\\OneDrive - KPMG\\Documents\\3. Client\\Essential Energy\\Probability of Failure Model\\pof\\pof\\component.py\u001b[0m in \u001b[0;36msim_timeline\u001b[1;34m(self, t_end, t_start)\u001b[0m\n\u001b[0;32m    235\u001b[0m \u001b[1;33m\u001b[0m\u001b[0m\n\u001b[0;32m    236\u001b[0m             \u001b[0mt_next\u001b[0m\u001b[1;33m,\u001b[0m \u001b[0mnext_fm_tasks\u001b[0m \u001b[1;33m=\u001b[0m \u001b[0mself\u001b[0m\u001b[1;33m.\u001b[0m\u001b[0mnext_tasks\u001b[0m\u001b[1;33m(\u001b[0m\u001b[0mt_now\u001b[0m\u001b[1;33m)\u001b[0m\u001b[1;33m\u001b[0m\u001b[1;33m\u001b[0m\u001b[0m\n\u001b[1;32m--> 237\u001b[1;33m \u001b[1;33m\u001b[0m\u001b[0m\n\u001b[0m\u001b[0;32m    238\u001b[0m             \u001b[0mself\u001b[0m\u001b[1;33m.\u001b[0m\u001b[0mcomplete_tasks\u001b[0m\u001b[1;33m(\u001b[0m\u001b[0mt_next\u001b[0m\u001b[1;33m,\u001b[0m \u001b[0mnext_fm_tasks\u001b[0m\u001b[1;33m)\u001b[0m\u001b[1;33m\u001b[0m\u001b[1;33m\u001b[0m\u001b[0m\n\u001b[0;32m    239\u001b[0m \u001b[1;33m\u001b[0m\u001b[0m\n",
      "\u001b[1;32m~\\OneDrive - KPMG\\Documents\\3. Client\\Essential Energy\\Probability of Failure Model\\pof\\pof\\component.py\u001b[0m in \u001b[0;36mcomplete_tasks\u001b[1;34m(self, t_next, fm_tasks)\u001b[0m\n\u001b[0;32m    279\u001b[0m         \u001b[1;31m# TODO add task impacts\u001b[0m\u001b[1;33m\u001b[0m\u001b[1;33m\u001b[0m\u001b[1;33m\u001b[0m\u001b[0m\n\u001b[0;32m    280\u001b[0m \u001b[1;33m\u001b[0m\u001b[0m\n\u001b[1;32m--> 281\u001b[1;33m         \u001b[1;32mfor\u001b[0m \u001b[0mfm_name\u001b[0m\u001b[1;33m,\u001b[0m \u001b[0mtask_names\u001b[0m \u001b[1;32min\u001b[0m \u001b[0mfm_tasks\u001b[0m\u001b[1;33m.\u001b[0m\u001b[0mitems\u001b[0m\u001b[1;33m(\u001b[0m\u001b[1;33m)\u001b[0m\u001b[1;33m:\u001b[0m\u001b[1;33m\u001b[0m\u001b[1;33m\u001b[0m\u001b[0m\n\u001b[0m\u001b[0;32m    282\u001b[0m             \u001b[0msystem_impacts\u001b[0m \u001b[1;33m=\u001b[0m \u001b[0mself\u001b[0m\u001b[1;33m.\u001b[0m\u001b[0mfm\u001b[0m\u001b[1;33m[\u001b[0m\u001b[0mfm_name\u001b[0m\u001b[1;33m]\u001b[0m\u001b[1;33m.\u001b[0m\u001b[0mcomplete_tasks\u001b[0m\u001b[1;33m(\u001b[0m\u001b[0mt_next\u001b[0m\u001b[1;33m,\u001b[0m \u001b[0mtask_names\u001b[0m\u001b[1;33m)\u001b[0m\u001b[1;33m\u001b[0m\u001b[1;33m\u001b[0m\u001b[0m\n\u001b[0;32m    283\u001b[0m \u001b[1;33m\u001b[0m\u001b[0m\n",
      "\u001b[1;32m~\\OneDrive - KPMG\\Documents\\3. Client\\Essential Energy\\Probability of Failure Model\\pof\\pof\\failure_mode.py\u001b[0m in \u001b[0;36mcomplete_tasks\u001b[1;34m(self, t_now, task_names)\u001b[0m\n\u001b[0;32m    407\u001b[0m                     \u001b[1;31m# Update timeline\u001b[0m\u001b[1;33m\u001b[0m\u001b[1;33m\u001b[0m\u001b[1;33m\u001b[0m\u001b[0m\n\u001b[0;32m    408\u001b[0m                     \u001b[0mself\u001b[0m\u001b[1;33m.\u001b[0m\u001b[0mset_states\u001b[0m\u001b[1;33m(\u001b[0m\u001b[0mstates\u001b[0m\u001b[1;33m)\u001b[0m\u001b[1;33m\u001b[0m\u001b[1;33m\u001b[0m\u001b[0m\n\u001b[1;32m--> 409\u001b[1;33m                     \u001b[0mself\u001b[0m\u001b[1;33m.\u001b[0m\u001b[0mupdate_timeline\u001b[0m\u001b[1;33m(\u001b[0m\u001b[0mt_now\u001b[0m \u001b[1;33m+\u001b[0m \u001b[1;36m1\u001b[0m\u001b[1;33m,\u001b[0m \u001b[0mupdates\u001b[0m\u001b[1;33m=\u001b[0m\u001b[0mstates\u001b[0m\u001b[1;33m)\u001b[0m\u001b[1;33m\u001b[0m\u001b[1;33m\u001b[0m\u001b[0m\n\u001b[0m\u001b[0;32m    410\u001b[0m \u001b[1;33m\u001b[0m\u001b[0m\n\u001b[0;32m    411\u001b[0m         \u001b[1;32mreturn\u001b[0m \u001b[0msystem_impacts\u001b[0m\u001b[1;33m\u001b[0m\u001b[1;33m\u001b[0m\u001b[0m\n",
      "\u001b[1;32m~\\OneDrive - KPMG\\Documents\\3. Client\\Essential Energy\\Probability of Failure Model\\pof\\pof\\failure_mode.py\u001b[0m in \u001b[0;36mupdate_timeline\u001b[1;34m(self, t_start, t_end, updates)\u001b[0m\n\u001b[0;32m    499\u001b[0m                 \u001b[0mself\u001b[0m\u001b[1;33m.\u001b[0m\u001b[0mtimeline\u001b[0m\u001b[1;33m[\u001b[0m\u001b[1;34m\"initiation\"\u001b[0m\u001b[1;33m]\u001b[0m\u001b[1;33m[\u001b[0m\u001b[0mt_initiate\u001b[0m\u001b[1;33m:\u001b[0m\u001b[1;33m]\u001b[0m \u001b[1;33m=\u001b[0m \u001b[1;32mTrue\u001b[0m\u001b[1;33m\u001b[0m\u001b[1;33m\u001b[0m\u001b[0m\n\u001b[0;32m    500\u001b[0m             \u001b[1;32melse\u001b[0m\u001b[1;33m:\u001b[0m\u001b[1;33m\u001b[0m\u001b[1;33m\u001b[0m\u001b[0m\n\u001b[1;32m--> 501\u001b[1;33m                 \u001b[1;32mif\u001b[0m \u001b[0mself\u001b[0m\u001b[1;33m.\u001b[0m\u001b[0mtimeline\u001b[0m\u001b[1;33m[\u001b[0m\u001b[1;34m\"initiation\"\u001b[0m\u001b[1;33m]\u001b[0m\u001b[1;33m[\u001b[0m\u001b[0mt_start\u001b[0m\u001b[1;33m:\u001b[0m\u001b[1;33m]\u001b[0m\u001b[1;33m.\u001b[0m\u001b[0many\u001b[0m\u001b[1;33m(\u001b[0m\u001b[1;33m)\u001b[0m\u001b[1;33m:\u001b[0m\u001b[1;33m\u001b[0m\u001b[1;33m\u001b[0m\u001b[0m\n\u001b[0m\u001b[0;32m    502\u001b[0m                     \u001b[0mt_initiate\u001b[0m \u001b[1;33m=\u001b[0m \u001b[0mnp\u001b[0m\u001b[1;33m.\u001b[0m\u001b[0margmax\u001b[0m\u001b[1;33m(\u001b[0m\u001b[0mself\u001b[0m\u001b[1;33m.\u001b[0m\u001b[0mtimeline\u001b[0m\u001b[1;33m[\u001b[0m\u001b[1;34m\"initiation\"\u001b[0m\u001b[1;33m]\u001b[0m\u001b[1;33m[\u001b[0m\u001b[0mt_start\u001b[0m\u001b[1;33m:\u001b[0m\u001b[1;33m]\u001b[0m \u001b[1;33m>\u001b[0m \u001b[1;36m0\u001b[0m\u001b[1;33m)\u001b[0m\u001b[1;33m\u001b[0m\u001b[1;33m\u001b[0m\u001b[0m\n\u001b[0;32m    503\u001b[0m                 \u001b[1;32melse\u001b[0m\u001b[1;33m:\u001b[0m\u001b[1;33m\u001b[0m\u001b[1;33m\u001b[0m\u001b[0m\n",
      "\u001b[1;32mc:\\Users\\gtreseder\\OneDrive - KPMG\\Documents\\3. Client\\Essential Energy\\Probability of Failure Model\\pof\\.venv\\lib\\site-packages\\numpy\\core\\_methods.py\u001b[0m in \u001b[0;36m_any\u001b[1;34m(a, axis, dtype, out, keepdims)\u001b[0m\n\u001b[0;32m     52\u001b[0m \u001b[1;33m\u001b[0m\u001b[0m\n\u001b[0;32m     53\u001b[0m \u001b[1;32mdef\u001b[0m \u001b[0m_any\u001b[0m\u001b[1;33m(\u001b[0m\u001b[0ma\u001b[0m\u001b[1;33m,\u001b[0m \u001b[0maxis\u001b[0m\u001b[1;33m=\u001b[0m\u001b[1;32mNone\u001b[0m\u001b[1;33m,\u001b[0m \u001b[0mdtype\u001b[0m\u001b[1;33m=\u001b[0m\u001b[1;32mNone\u001b[0m\u001b[1;33m,\u001b[0m \u001b[0mout\u001b[0m\u001b[1;33m=\u001b[0m\u001b[1;32mNone\u001b[0m\u001b[1;33m,\u001b[0m \u001b[0mkeepdims\u001b[0m\u001b[1;33m=\u001b[0m\u001b[1;32mFalse\u001b[0m\u001b[1;33m)\u001b[0m\u001b[1;33m:\u001b[0m\u001b[1;33m\u001b[0m\u001b[1;33m\u001b[0m\u001b[0m\n\u001b[1;32m---> 54\u001b[1;33m     \u001b[1;32mreturn\u001b[0m \u001b[0mumr_any\u001b[0m\u001b[1;33m(\u001b[0m\u001b[0ma\u001b[0m\u001b[1;33m,\u001b[0m \u001b[0maxis\u001b[0m\u001b[1;33m,\u001b[0m \u001b[0mdtype\u001b[0m\u001b[1;33m,\u001b[0m \u001b[0mout\u001b[0m\u001b[1;33m,\u001b[0m \u001b[0mkeepdims\u001b[0m\u001b[1;33m)\u001b[0m\u001b[1;33m\u001b[0m\u001b[1;33m\u001b[0m\u001b[0m\n\u001b[0m\u001b[0;32m     55\u001b[0m \u001b[1;33m\u001b[0m\u001b[0m\n\u001b[0;32m     56\u001b[0m \u001b[1;32mdef\u001b[0m \u001b[0m_all\u001b[0m\u001b[1;33m(\u001b[0m\u001b[0ma\u001b[0m\u001b[1;33m,\u001b[0m \u001b[0maxis\u001b[0m\u001b[1;33m=\u001b[0m\u001b[1;32mNone\u001b[0m\u001b[1;33m,\u001b[0m \u001b[0mdtype\u001b[0m\u001b[1;33m=\u001b[0m\u001b[1;32mNone\u001b[0m\u001b[1;33m,\u001b[0m \u001b[0mout\u001b[0m\u001b[1;33m=\u001b[0m\u001b[1;32mNone\u001b[0m\u001b[1;33m,\u001b[0m \u001b[0mkeepdims\u001b[0m\u001b[1;33m=\u001b[0m\u001b[1;32mFalse\u001b[0m\u001b[1;33m)\u001b[0m\u001b[1;33m:\u001b[0m\u001b[1;33m\u001b[0m\u001b[1;33m\u001b[0m\u001b[0m\n",
      "\u001b[1;31mKeyboardInterrupt\u001b[0m: "
     ]
    }
   ],
   "source": [
    "consequence_range = np.arange(0, 2e6, 1e5)\n",
    "\n",
    "var_id = 'pole-task_group_name-groundline-t_interval'\n",
    "lower = 0 * 12\n",
    "upper = 10 * 12\n",
    "t_end = 100 * 12\n",
    "n_iterations = 100\n",
    "step_size = 0.25 * 12\n",
    "\n",
    "sens_results = dict()\n",
    "\n",
    "for consequence_cost in consequence_range:\n",
    "\n",
    "    # Update \n",
    "    comp.update('consequence-cost', consequence_cost)\n",
    "\n",
    "    # Simulate\n",
    "    comp.expected_sensitivity(\n",
    "        var_id=var_id,\n",
    "        lower=lower,\n",
    "        upper=upper,\n",
    "        t_end=t_end,\n",
    "        step_size=step_size,\n",
    "        n_iterations=n_iterations,\n",
    "    )\n",
    "\n",
    "    # Report\n",
    "    df_sens = copy.copy(comp.df_sens)\n",
    "    df_sens['consequence-cost'] = consequence_cost\n",
    "    sens_results['consequence-cost'] = df_sens\n",
    "\n",
    "df_results = pd.DataFrame.from_dict(sens_results)\n",
    "\n"
   ]
  },
  {
   "cell_type": "code",
   "execution_count": 19,
   "metadata": {},
   "outputs": [
    {
     "output_type": "display_data",
     "data": {
      "application/vnd.plotly.v1+json": {
       "config": {
        "plotlyServerURL": "https://plot.ly"
       },
       "data": [
        {
         "hovertemplate": "source=total<br> =   <br>t_interval=%{x}<br>cost_cumulative=%{y}<extra></extra>",
         "legendgroup": "total,    ",
         "line": {
          "color": "#636EFA",
          "dash": "solid"
         },
         "mode": "lines",
         "name": "total,    ",
         "orientation": "v",
         "showlegend": true,
         "type": "scatter",
         "x": [
          0,
          3,
          6,
          9,
          12,
          15,
          18,
          21,
          24,
          27,
          30,
          33,
          36,
          39,
          42,
          45,
          48,
          51,
          54,
          57,
          60,
          63,
          66,
          69,
          72,
          75,
          78,
          81,
          84,
          87,
          90,
          93,
          96,
          99,
          102,
          105,
          108,
          111,
          114,
          117,
          120
         ],
         "xaxis": "x",
         "y": [
          39242.5,
          16267,
          11239,
          8874.5,
          7899.5,
          7294,
          6290,
          5310,
          5305,
          4091,
          4812.5,
          4830,
          4631,
          5139,
          4544.5,
          5129.5,
          3843,
          2789.5,
          4150.5,
          3654.5,
          3882.5,
          3757.5,
          3085.5,
          3474,
          3148,
          4389.5,
          2983,
          3612,
          4012.5,
          3063.5,
          3054,
          4702,
          6244.5,
          3700.5,
          5171.5,
          4038,
          5112.5,
          4127,
          3966,
          5636.5,
          7860.5
         ],
         "yaxis": "y"
        },
        {
         "hovertemplate": "source=risk<br> =   <br>t_interval=%{x}<br>cost_cumulative=%{y}<extra></extra>",
         "legendgroup": "risk,    ",
         "line": {
          "color": "#EF553B",
          "dash": "solid"
         },
         "mode": "lines",
         "name": "risk,    ",
         "orientation": "v",
         "showlegend": true,
         "type": "scatter",
         "x": [
          0,
          3,
          6,
          9,
          12,
          15,
          18,
          21,
          24,
          27,
          30,
          33,
          36,
          39,
          42,
          45,
          48,
          51,
          54,
          57,
          60,
          63,
          66,
          69,
          72,
          75,
          78,
          81,
          84,
          87,
          90,
          93,
          96,
          99,
          102,
          105,
          108,
          111,
          114,
          117,
          120
         ],
         "xaxis": "x",
         "y": [
          3500,
          3500,
          4000,
          3500,
          3500,
          3500,
          3000,
          2500,
          2500,
          1500,
          2500,
          2500,
          2500,
          3000,
          2500,
          3000,
          2000,
          1000,
          2000,
          2000,
          2000,
          2000,
          1500,
          2000,
          1500,
          2500,
          1500,
          2000,
          2500,
          1500,
          1500,
          3000,
          4500,
          2000,
          3500,
          2500,
          3500,
          2500,
          2500,
          4000,
          6000
         ],
         "yaxis": "y"
        },
        {
         "hovertemplate": "source=direct<br> =   <br>t_interval=%{x}<br>cost_cumulative=%{y}<extra></extra>",
         "legendgroup": "direct,    ",
         "line": {
          "color": "#00CC96",
          "dash": "solid"
         },
         "mode": "lines",
         "name": "direct,    ",
         "orientation": "v",
         "showlegend": true,
         "type": "scatter",
         "x": [
          0,
          3,
          6,
          9,
          12,
          15,
          18,
          21,
          24,
          27,
          30,
          33,
          36,
          39,
          42,
          45,
          48,
          51,
          54,
          57,
          60,
          63,
          66,
          69,
          72,
          75,
          78,
          81,
          84,
          87,
          90,
          93,
          96,
          99,
          102,
          105,
          108,
          111,
          114,
          117,
          120
         ],
         "xaxis": "x",
         "y": [
          35742.5,
          12767,
          7239,
          5374.5,
          4399.5,
          3794,
          3290,
          2810,
          2805,
          2591,
          2312.5,
          2330,
          2131,
          2139,
          2044.5,
          2129.5,
          1843,
          1789.5,
          2150.5,
          1654.5,
          1882.5,
          1757.5,
          1585.5,
          1474,
          1648,
          1889.5,
          1483,
          1612,
          1512.5,
          1563.5,
          1554,
          1702,
          1744.5,
          1700.5,
          1671.5,
          1538,
          1612.5,
          1627,
          1466,
          1636.5,
          1860.5
         ],
         "yaxis": "y"
        },
        {
         "hovertemplate": "source=conditional_failure<br> =  <br>t_interval=%{x}<br>cost_cumulative=%{y}<extra></extra>",
         "legendgroup": "conditional_failure,   ",
         "line": {
          "color": "#AB63FA",
          "dash": "dot"
         },
         "mode": "lines",
         "name": "conditional_failure,   ",
         "orientation": "v",
         "showlegend": true,
         "type": "scatter",
         "x": [
          0,
          3,
          6,
          9,
          12,
          15,
          18,
          21,
          24,
          27,
          30,
          33,
          36,
          39,
          42,
          45,
          48,
          51,
          54,
          57,
          60,
          63,
          66,
          69,
          72,
          75,
          78,
          81,
          84,
          87,
          90,
          93,
          96,
          99,
          102,
          105,
          108,
          111,
          114,
          117,
          120
         ],
         "xaxis": "x",
         "y": [
          735,
          1015,
          945,
          805,
          805,
          840,
          840,
          770,
          980,
          945,
          735,
          875,
          805,
          805,
          875,
          945,
          840,
          945,
          1190,
          700,
          980,
          875,
          805,
          665,
          910,
          1050,
          735,
          875,
          700,
          910,
          910,
          875,
          735,
          1015,
          805,
          805,
          770,
          945,
          735,
          735,
          700
         ],
         "yaxis": "y"
        },
        {
         "hovertemplate": "source=functional_failure<br> =  <br>t_interval=%{x}<br>cost_cumulative=%{y}<extra></extra>",
         "legendgroup": "functional_failure,   ",
         "line": {
          "color": "#FFA15A",
          "dash": "dot"
         },
         "mode": "lines",
         "name": "functional_failure,   ",
         "orientation": "v",
         "showlegend": true,
         "type": "scatter",
         "x": [
          0,
          3,
          6,
          9,
          12,
          15,
          18,
          21,
          24,
          27,
          30,
          33,
          36,
          39,
          42,
          45,
          48,
          51,
          54,
          57,
          60,
          63,
          66,
          69,
          72,
          75,
          78,
          81,
          84,
          87,
          90,
          93,
          96,
          99,
          102,
          105,
          108,
          111,
          114,
          117,
          120
         ],
         "xaxis": "x",
         "y": [
          490,
          490,
          560,
          490,
          490,
          490,
          420,
          350,
          350,
          210,
          350,
          350,
          350,
          420,
          350,
          420,
          280,
          140,
          280,
          280,
          280,
          280,
          210,
          280,
          210,
          350,
          210,
          280,
          350,
          210,
          210,
          420,
          630,
          280,
          490,
          350,
          490,
          350,
          350,
          560,
          840
         ],
         "yaxis": "y"
        },
        {
         "hovertemplate": "source=inspection_groundline<br> =  <br>t_interval=%{x}<br>cost_cumulative=%{y}<extra></extra>",
         "legendgroup": "inspection_groundline,   ",
         "line": {
          "color": "#19D3F3",
          "dash": "dot"
         },
         "mode": "lines",
         "name": "inspection_groundline,   ",
         "orientation": "v",
         "showlegend": true,
         "type": "scatter",
         "x": [
          0,
          3,
          6,
          9,
          12,
          15,
          18,
          21,
          24,
          27,
          30,
          33,
          36,
          39,
          42,
          45,
          48,
          51,
          54,
          57,
          60,
          63,
          66,
          69,
          72,
          75,
          78,
          81,
          84,
          87,
          90,
          93,
          96,
          99,
          102,
          105,
          108,
          111,
          114,
          117,
          120
         ],
         "xaxis": "x",
         "y": [
          34491.5,
          11238,
          5711,
          4059.5,
          3082.5,
          2439,
          2008,
          1678,
          1457,
          1414,
          1203.5,
          1082,
          952,
          896,
          801.5,
          748.5,
          701,
          685.5,
          668.5,
          652.5,
          601.5,
          585.5,
          547.5,
          508,
          506,
          470.5,
          516,
          434,
          440.5,
          428.5,
          420,
          390,
          360.5,
          393.5,
          358.5,
          372,
          339.5,
          318,
          367,
          325.5,
          308.5
         ],
         "yaxis": "y"
        },
        {
         "hovertemplate": "source=inspection_protection<br> =  <br>t_interval=%{x}<br>cost_cumulative=%{y}<extra></extra>",
         "legendgroup": "inspection_protection,   ",
         "line": {
          "color": "#FF6692",
          "dash": "dot"
         },
         "mode": "lines",
         "name": "inspection_protection,   ",
         "orientation": "v",
         "showlegend": true,
         "type": "scatter",
         "x": [
          0,
          3,
          6,
          9,
          12,
          15,
          18,
          21,
          24,
          27,
          30,
          33,
          36,
          39,
          42,
          45,
          48,
          51,
          54,
          57,
          60,
          63,
          66,
          69,
          72,
          75,
          78,
          81,
          84,
          87,
          90,
          93,
          96,
          99,
          102,
          105,
          108,
          111,
          114,
          117,
          120
         ],
         "xaxis": "x",
         "y": [
          0,
          0,
          0,
          0,
          0,
          0,
          0,
          0,
          0,
          0,
          0,
          0,
          0,
          0,
          0,
          0,
          0,
          0,
          0,
          0,
          0,
          0,
          0,
          0,
          0,
          0,
          0,
          0,
          0,
          0,
          0,
          0,
          0,
          0,
          0,
          0,
          0,
          0,
          0,
          0,
          0
         ],
         "yaxis": "y"
        },
        {
         "hovertemplate": "source=pole_saver_rod<br> =  <br>t_interval=%{x}<br>cost_cumulative=%{y}<extra></extra>",
         "legendgroup": "pole_saver_rod,   ",
         "line": {
          "color": "#B6E880",
          "dash": "dot"
         },
         "mode": "lines",
         "name": "pole_saver_rod,   ",
         "orientation": "v",
         "showlegend": true,
         "type": "scatter",
         "x": [
          0,
          3,
          6,
          9,
          12,
          15,
          18,
          21,
          24,
          27,
          30,
          33,
          36,
          39,
          42,
          45,
          48,
          51,
          54,
          57,
          60,
          63,
          66,
          69,
          72,
          75,
          78,
          81,
          84,
          87,
          90,
          93,
          96,
          99,
          102,
          105,
          108,
          111,
          114,
          117,
          120
         ],
         "xaxis": "x",
         "y": [
          null,
          null,
          null,
          null,
          null,
          null,
          null,
          null,
          null,
          null,
          null,
          null,
          null,
          null,
          null,
          null,
          null,
          null,
          null,
          null,
          null,
          null,
          null,
          null,
          null,
          null,
          null,
          null,
          null,
          null,
          null,
          null,
          null,
          null,
          null,
          null,
          null,
          null,
          null,
          null,
          null
         ],
         "yaxis": "y"
        },
        {
         "hovertemplate": "source=termite_treatment<br> =  <br>t_interval=%{x}<br>cost_cumulative=%{y}<extra></extra>",
         "legendgroup": "termite_treatment,   ",
         "line": {
          "color": "#FF97FF",
          "dash": "dot"
         },
         "mode": "lines",
         "name": "termite_treatment,   ",
         "orientation": "v",
         "showlegend": true,
         "type": "scatter",
         "x": [
          0,
          3,
          6,
          9,
          12,
          15,
          18,
          21,
          24,
          27,
          30,
          33,
          36,
          39,
          42,
          45,
          48,
          51,
          54,
          57,
          60,
          63,
          66,
          69,
          72,
          75,
          78,
          81,
          84,
          87,
          90,
          93,
          96,
          99,
          102,
          105,
          108,
          111,
          114,
          117,
          120
         ],
         "xaxis": "x",
         "y": [
          26,
          24,
          23,
          20,
          22,
          25,
          22,
          12,
          18,
          22,
          24,
          23,
          24,
          18,
          18,
          16,
          22,
          19,
          12,
          22,
          21,
          17,
          23,
          21,
          22,
          19,
          22,
          23,
          22,
          15,
          14,
          17,
          19,
          12,
          18,
          11,
          13,
          14,
          14,
          16,
          12
         ],
         "yaxis": "y"
        }
       ],
       "layout": {
        "legend": {
         "title": {
          "text": "source,  "
         },
         "tracegroupgap": 0
        },
        "template": {
         "data": {
          "bar": [
           {
            "error_x": {
             "color": "#2a3f5f"
            },
            "error_y": {
             "color": "#2a3f5f"
            },
            "marker": {
             "line": {
              "color": "#E5ECF6",
              "width": 0.5
             }
            },
            "type": "bar"
           }
          ],
          "barpolar": [
           {
            "marker": {
             "line": {
              "color": "#E5ECF6",
              "width": 0.5
             }
            },
            "type": "barpolar"
           }
          ],
          "carpet": [
           {
            "aaxis": {
             "endlinecolor": "#2a3f5f",
             "gridcolor": "white",
             "linecolor": "white",
             "minorgridcolor": "white",
             "startlinecolor": "#2a3f5f"
            },
            "baxis": {
             "endlinecolor": "#2a3f5f",
             "gridcolor": "white",
             "linecolor": "white",
             "minorgridcolor": "white",
             "startlinecolor": "#2a3f5f"
            },
            "type": "carpet"
           }
          ],
          "choropleth": [
           {
            "colorbar": {
             "outlinewidth": 0,
             "ticks": ""
            },
            "type": "choropleth"
           }
          ],
          "contour": [
           {
            "colorbar": {
             "outlinewidth": 0,
             "ticks": ""
            },
            "colorscale": [
             [
              0,
              "#0d0887"
             ],
             [
              0.1111111111111111,
              "#46039f"
             ],
             [
              0.2222222222222222,
              "#7201a8"
             ],
             [
              0.3333333333333333,
              "#9c179e"
             ],
             [
              0.4444444444444444,
              "#bd3786"
             ],
             [
              0.5555555555555556,
              "#d8576b"
             ],
             [
              0.6666666666666666,
              "#ed7953"
             ],
             [
              0.7777777777777778,
              "#fb9f3a"
             ],
             [
              0.8888888888888888,
              "#fdca26"
             ],
             [
              1,
              "#f0f921"
             ]
            ],
            "type": "contour"
           }
          ],
          "contourcarpet": [
           {
            "colorbar": {
             "outlinewidth": 0,
             "ticks": ""
            },
            "type": "contourcarpet"
           }
          ],
          "heatmap": [
           {
            "colorbar": {
             "outlinewidth": 0,
             "ticks": ""
            },
            "colorscale": [
             [
              0,
              "#0d0887"
             ],
             [
              0.1111111111111111,
              "#46039f"
             ],
             [
              0.2222222222222222,
              "#7201a8"
             ],
             [
              0.3333333333333333,
              "#9c179e"
             ],
             [
              0.4444444444444444,
              "#bd3786"
             ],
             [
              0.5555555555555556,
              "#d8576b"
             ],
             [
              0.6666666666666666,
              "#ed7953"
             ],
             [
              0.7777777777777778,
              "#fb9f3a"
             ],
             [
              0.8888888888888888,
              "#fdca26"
             ],
             [
              1,
              "#f0f921"
             ]
            ],
            "type": "heatmap"
           }
          ],
          "heatmapgl": [
           {
            "colorbar": {
             "outlinewidth": 0,
             "ticks": ""
            },
            "colorscale": [
             [
              0,
              "#0d0887"
             ],
             [
              0.1111111111111111,
              "#46039f"
             ],
             [
              0.2222222222222222,
              "#7201a8"
             ],
             [
              0.3333333333333333,
              "#9c179e"
             ],
             [
              0.4444444444444444,
              "#bd3786"
             ],
             [
              0.5555555555555556,
              "#d8576b"
             ],
             [
              0.6666666666666666,
              "#ed7953"
             ],
             [
              0.7777777777777778,
              "#fb9f3a"
             ],
             [
              0.8888888888888888,
              "#fdca26"
             ],
             [
              1,
              "#f0f921"
             ]
            ],
            "type": "heatmapgl"
           }
          ],
          "histogram": [
           {
            "marker": {
             "colorbar": {
              "outlinewidth": 0,
              "ticks": ""
             }
            },
            "type": "histogram"
           }
          ],
          "histogram2d": [
           {
            "colorbar": {
             "outlinewidth": 0,
             "ticks": ""
            },
            "colorscale": [
             [
              0,
              "#0d0887"
             ],
             [
              0.1111111111111111,
              "#46039f"
             ],
             [
              0.2222222222222222,
              "#7201a8"
             ],
             [
              0.3333333333333333,
              "#9c179e"
             ],
             [
              0.4444444444444444,
              "#bd3786"
             ],
             [
              0.5555555555555556,
              "#d8576b"
             ],
             [
              0.6666666666666666,
              "#ed7953"
             ],
             [
              0.7777777777777778,
              "#fb9f3a"
             ],
             [
              0.8888888888888888,
              "#fdca26"
             ],
             [
              1,
              "#f0f921"
             ]
            ],
            "type": "histogram2d"
           }
          ],
          "histogram2dcontour": [
           {
            "colorbar": {
             "outlinewidth": 0,
             "ticks": ""
            },
            "colorscale": [
             [
              0,
              "#0d0887"
             ],
             [
              0.1111111111111111,
              "#46039f"
             ],
             [
              0.2222222222222222,
              "#7201a8"
             ],
             [
              0.3333333333333333,
              "#9c179e"
             ],
             [
              0.4444444444444444,
              "#bd3786"
             ],
             [
              0.5555555555555556,
              "#d8576b"
             ],
             [
              0.6666666666666666,
              "#ed7953"
             ],
             [
              0.7777777777777778,
              "#fb9f3a"
             ],
             [
              0.8888888888888888,
              "#fdca26"
             ],
             [
              1,
              "#f0f921"
             ]
            ],
            "type": "histogram2dcontour"
           }
          ],
          "mesh3d": [
           {
            "colorbar": {
             "outlinewidth": 0,
             "ticks": ""
            },
            "type": "mesh3d"
           }
          ],
          "parcoords": [
           {
            "line": {
             "colorbar": {
              "outlinewidth": 0,
              "ticks": ""
             }
            },
            "type": "parcoords"
           }
          ],
          "pie": [
           {
            "automargin": true,
            "type": "pie"
           }
          ],
          "scatter": [
           {
            "marker": {
             "colorbar": {
              "outlinewidth": 0,
              "ticks": ""
             }
            },
            "type": "scatter"
           }
          ],
          "scatter3d": [
           {
            "line": {
             "colorbar": {
              "outlinewidth": 0,
              "ticks": ""
             }
            },
            "marker": {
             "colorbar": {
              "outlinewidth": 0,
              "ticks": ""
             }
            },
            "type": "scatter3d"
           }
          ],
          "scattercarpet": [
           {
            "marker": {
             "colorbar": {
              "outlinewidth": 0,
              "ticks": ""
             }
            },
            "type": "scattercarpet"
           }
          ],
          "scattergeo": [
           {
            "marker": {
             "colorbar": {
              "outlinewidth": 0,
              "ticks": ""
             }
            },
            "type": "scattergeo"
           }
          ],
          "scattergl": [
           {
            "marker": {
             "colorbar": {
              "outlinewidth": 0,
              "ticks": ""
             }
            },
            "type": "scattergl"
           }
          ],
          "scattermapbox": [
           {
            "marker": {
             "colorbar": {
              "outlinewidth": 0,
              "ticks": ""
             }
            },
            "type": "scattermapbox"
           }
          ],
          "scatterpolar": [
           {
            "marker": {
             "colorbar": {
              "outlinewidth": 0,
              "ticks": ""
             }
            },
            "type": "scatterpolar"
           }
          ],
          "scatterpolargl": [
           {
            "marker": {
             "colorbar": {
              "outlinewidth": 0,
              "ticks": ""
             }
            },
            "type": "scatterpolargl"
           }
          ],
          "scatterternary": [
           {
            "marker": {
             "colorbar": {
              "outlinewidth": 0,
              "ticks": ""
             }
            },
            "type": "scatterternary"
           }
          ],
          "surface": [
           {
            "colorbar": {
             "outlinewidth": 0,
             "ticks": ""
            },
            "colorscale": [
             [
              0,
              "#0d0887"
             ],
             [
              0.1111111111111111,
              "#46039f"
             ],
             [
              0.2222222222222222,
              "#7201a8"
             ],
             [
              0.3333333333333333,
              "#9c179e"
             ],
             [
              0.4444444444444444,
              "#bd3786"
             ],
             [
              0.5555555555555556,
              "#d8576b"
             ],
             [
              0.6666666666666666,
              "#ed7953"
             ],
             [
              0.7777777777777778,
              "#fb9f3a"
             ],
             [
              0.8888888888888888,
              "#fdca26"
             ],
             [
              1,
              "#f0f921"
             ]
            ],
            "type": "surface"
           }
          ],
          "table": [
           {
            "cells": {
             "fill": {
              "color": "#EBF0F8"
             },
             "line": {
              "color": "white"
             }
            },
            "header": {
             "fill": {
              "color": "#C8D4E3"
             },
             "line": {
              "color": "white"
             }
            },
            "type": "table"
           }
          ]
         },
         "layout": {
          "annotationdefaults": {
           "arrowcolor": "#2a3f5f",
           "arrowhead": 0,
           "arrowwidth": 1
          },
          "coloraxis": {
           "colorbar": {
            "outlinewidth": 0,
            "ticks": ""
           }
          },
          "colorscale": {
           "diverging": [
            [
             0,
             "#8e0152"
            ],
            [
             0.1,
             "#c51b7d"
            ],
            [
             0.2,
             "#de77ae"
            ],
            [
             0.3,
             "#f1b6da"
            ],
            [
             0.4,
             "#fde0ef"
            ],
            [
             0.5,
             "#f7f7f7"
            ],
            [
             0.6,
             "#e6f5d0"
            ],
            [
             0.7,
             "#b8e186"
            ],
            [
             0.8,
             "#7fbc41"
            ],
            [
             0.9,
             "#4d9221"
            ],
            [
             1,
             "#276419"
            ]
           ],
           "sequential": [
            [
             0,
             "#0d0887"
            ],
            [
             0.1111111111111111,
             "#46039f"
            ],
            [
             0.2222222222222222,
             "#7201a8"
            ],
            [
             0.3333333333333333,
             "#9c179e"
            ],
            [
             0.4444444444444444,
             "#bd3786"
            ],
            [
             0.5555555555555556,
             "#d8576b"
            ],
            [
             0.6666666666666666,
             "#ed7953"
            ],
            [
             0.7777777777777778,
             "#fb9f3a"
            ],
            [
             0.8888888888888888,
             "#fdca26"
            ],
            [
             1,
             "#f0f921"
            ]
           ],
           "sequentialminus": [
            [
             0,
             "#0d0887"
            ],
            [
             0.1111111111111111,
             "#46039f"
            ],
            [
             0.2222222222222222,
             "#7201a8"
            ],
            [
             0.3333333333333333,
             "#9c179e"
            ],
            [
             0.4444444444444444,
             "#bd3786"
            ],
            [
             0.5555555555555556,
             "#d8576b"
            ],
            [
             0.6666666666666666,
             "#ed7953"
            ],
            [
             0.7777777777777778,
             "#fb9f3a"
            ],
            [
             0.8888888888888888,
             "#fdca26"
            ],
            [
             1,
             "#f0f921"
            ]
           ]
          },
          "colorway": [
           "#636efa",
           "#EF553B",
           "#00cc96",
           "#ab63fa",
           "#FFA15A",
           "#19d3f3",
           "#FF6692",
           "#B6E880",
           "#FF97FF",
           "#FECB52"
          ],
          "font": {
           "color": "#2a3f5f"
          },
          "geo": {
           "bgcolor": "white",
           "lakecolor": "white",
           "landcolor": "#E5ECF6",
           "showlakes": true,
           "showland": true,
           "subunitcolor": "white"
          },
          "hoverlabel": {
           "align": "left"
          },
          "hovermode": "closest",
          "mapbox": {
           "style": "light"
          },
          "paper_bgcolor": "white",
          "plot_bgcolor": "#E5ECF6",
          "polar": {
           "angularaxis": {
            "gridcolor": "white",
            "linecolor": "white",
            "ticks": ""
           },
           "bgcolor": "#E5ECF6",
           "radialaxis": {
            "gridcolor": "white",
            "linecolor": "white",
            "ticks": ""
           }
          },
          "scene": {
           "xaxis": {
            "backgroundcolor": "#E5ECF6",
            "gridcolor": "white",
            "gridwidth": 2,
            "linecolor": "white",
            "showbackground": true,
            "ticks": "",
            "zerolinecolor": "white"
           },
           "yaxis": {
            "backgroundcolor": "#E5ECF6",
            "gridcolor": "white",
            "gridwidth": 2,
            "linecolor": "white",
            "showbackground": true,
            "ticks": "",
            "zerolinecolor": "white"
           },
           "zaxis": {
            "backgroundcolor": "#E5ECF6",
            "gridcolor": "white",
            "gridwidth": 2,
            "linecolor": "white",
            "showbackground": true,
            "ticks": "",
            "zerolinecolor": "white"
           }
          },
          "shapedefaults": {
           "line": {
            "color": "#2a3f5f"
           }
          },
          "ternary": {
           "aaxis": {
            "gridcolor": "white",
            "linecolor": "white",
            "ticks": ""
           },
           "baxis": {
            "gridcolor": "white",
            "linecolor": "white",
            "ticks": ""
           },
           "bgcolor": "#E5ECF6",
           "caxis": {
            "gridcolor": "white",
            "linecolor": "white",
            "ticks": ""
           }
          },
          "title": {
           "x": 0.05
          },
          "xaxis": {
           "automargin": true,
           "gridcolor": "white",
           "linecolor": "white",
           "ticks": "",
           "title": {
            "standoff": 15
           },
           "zerolinecolor": "white",
           "zerolinewidth": 2
          },
          "yaxis": {
           "automargin": true,
           "gridcolor": "white",
           "linecolor": "white",
           "ticks": "",
           "title": {
            "standoff": 15
           },
           "zerolinecolor": "white",
           "zerolinewidth": 2
          }
         }
        },
        "title": {
         "text": "Sensitivity of Risk/Cost to T Interval"
        },
        "xaxis": {
         "anchor": "y",
         "automargin": true,
         "domain": [
          0,
          1
         ],
         "title": {
          "text": "t_interval (months)"
         }
        },
        "yaxis": {
         "anchor": "x",
         "automargin": true,
         "domain": [
          0,
          1
         ],
         "title": {
          "text": "cost_cumulative"
         }
        }
       }
      }
     },
     "metadata": {}
    }
   ],
   "source": [
    "comp.plot_sens(\n",
    "            var_id=var_id,\n",
    "            y_axis='cost_cumulative'\n",
    "        )"
   ]
  },
  {
   "cell_type": "code",
   "execution_count": 55,
   "metadata": {},
   "outputs": [],
   "source": [
    "def expected_inspection_interval(x_min, x_max, n_iterations=100, t_end=100):\n",
    "    \"\"\"\n",
    "    A simple method for returning the impact of changing an inspection interval. \n",
    "    TODO not needed now the method has been moved to the object expected sensitivities\n",
    "    \"\"\"\n",
    "    rc = dict()\n",
    "    comp.reset()\n",
    "\n",
    "    for i in range(max(1, x_min),x_max,1):\n",
    "\n",
    "        # Set t_interval\n",
    "        for fm in comp.fm.values():\n",
    "            if 'inspection' in list(fm.tasks):\n",
    "                fm.tasks['inspection'].t_interval = i\n",
    "        \n",
    "        comp.mc_timeline(t_end=t_end, n_iterations=n_iterations)\n",
    "\n",
    "        risk_cost = comp.expected_risk_cost_df().groupby(by=['task'])['cost'].sum()\n",
    "        rc[i] = dict(risk_cost)\n",
    "        rc[i]['inspection_interval'] = i\n",
    "\n",
    "        # Reset component\n",
    "        comp.reset()\n",
    "\n",
    "    df = pd.DataFrame().from_dict(rc, orient='index')\n",
    "    df['total_cost'] = df.drop(['inspection_interval', 'risk'], axis=1).sum(axis=1)\n",
    "    df['total'] = df['total_cost'] + df['risk']\n",
    "    \n",
    "    return df"
   ]
  },
  {
   "cell_type": "code",
   "execution_count": 56,
   "metadata": {},
   "outputs": [
    {
     "output_type": "execute_result",
     "data": {
      "text/plain": [
       "      risk  conditional_failure  functional_failure  inspection_groundline  \\\n",
       "1  20000.0                700.0              2800.0                 2305.0   \n",
       "2  15000.0               1400.0              2100.0                 1910.0   \n",
       "3  20000.0               1050.0              2800.0                 2180.0   \n",
       "4  20000.0                350.0              2800.0                 2340.0   \n",
       "5   5000.0               1050.0               700.0                 2730.0   \n",
       "\n",
       "   inspection_protection  pole_saver_rod  termite_treatment  \\\n",
       "1                    0.0            40.0               10.0   \n",
       "2                    0.0            30.0               20.0   \n",
       "3                    0.0            20.0               20.0   \n",
       "4                    0.0             0.0               20.0   \n",
       "5                    0.0            10.0               20.0   \n",
       "\n",
       "   inspection_interval  total_cost    total  \n",
       "1                    1      5855.0  25855.0  \n",
       "2                    2      5460.0  20460.0  \n",
       "3                    3      6070.0  26070.0  \n",
       "4                    4      5510.0  25510.0  \n",
       "5                    5      4510.0   9510.0  "
      ],
      "text/html": "<div>\n<style scoped>\n    .dataframe tbody tr th:only-of-type {\n        vertical-align: middle;\n    }\n\n    .dataframe tbody tr th {\n        vertical-align: top;\n    }\n\n    .dataframe thead th {\n        text-align: right;\n    }\n</style>\n<table border=\"1\" class=\"dataframe\">\n  <thead>\n    <tr style=\"text-align: right;\">\n      <th></th>\n      <th>risk</th>\n      <th>conditional_failure</th>\n      <th>functional_failure</th>\n      <th>inspection_groundline</th>\n      <th>inspection_protection</th>\n      <th>pole_saver_rod</th>\n      <th>termite_treatment</th>\n      <th>inspection_interval</th>\n      <th>total_cost</th>\n      <th>total</th>\n    </tr>\n  </thead>\n  <tbody>\n    <tr>\n      <th>1</th>\n      <td>20000.0</td>\n      <td>700.0</td>\n      <td>2800.0</td>\n      <td>2305.0</td>\n      <td>0.0</td>\n      <td>40.0</td>\n      <td>10.0</td>\n      <td>1</td>\n      <td>5855.0</td>\n      <td>25855.0</td>\n    </tr>\n    <tr>\n      <th>2</th>\n      <td>15000.0</td>\n      <td>1400.0</td>\n      <td>2100.0</td>\n      <td>1910.0</td>\n      <td>0.0</td>\n      <td>30.0</td>\n      <td>20.0</td>\n      <td>2</td>\n      <td>5460.0</td>\n      <td>20460.0</td>\n    </tr>\n    <tr>\n      <th>3</th>\n      <td>20000.0</td>\n      <td>1050.0</td>\n      <td>2800.0</td>\n      <td>2180.0</td>\n      <td>0.0</td>\n      <td>20.0</td>\n      <td>20.0</td>\n      <td>3</td>\n      <td>6070.0</td>\n      <td>26070.0</td>\n    </tr>\n    <tr>\n      <th>4</th>\n      <td>20000.0</td>\n      <td>350.0</td>\n      <td>2800.0</td>\n      <td>2340.0</td>\n      <td>0.0</td>\n      <td>0.0</td>\n      <td>20.0</td>\n      <td>4</td>\n      <td>5510.0</td>\n      <td>25510.0</td>\n    </tr>\n    <tr>\n      <th>5</th>\n      <td>5000.0</td>\n      <td>1050.0</td>\n      <td>700.0</td>\n      <td>2730.0</td>\n      <td>0.0</td>\n      <td>10.0</td>\n      <td>20.0</td>\n      <td>5</td>\n      <td>4510.0</td>\n      <td>9510.0</td>\n    </tr>\n  </tbody>\n</table>\n</div>"
     },
     "metadata": {},
     "execution_count": 56
    }
   ],
   "source": [
    "df = expected_inspection_interval(0, 10, 10)\n",
    "clear_output()\n",
    "df.head()"
   ]
  },
  {
   "source": [
    "## Populations - Consequence\n",
    "We will consider the different consequence assets as a different "
   ],
   "cell_type": "markdown",
   "metadata": {}
  },
  {
   "cell_type": "code",
   "execution_count": 14,
   "metadata": {},
   "outputs": [
    {
     "output_type": "stream",
     "name": "stdout",
     "text": [
      "File Loading...\n",
      "File Loaded\n"
     ]
    }
   ],
   "source": [
    "filename = r\"C:\\Users\\gtreseder\\OneDrive - KPMG\\Documents\\3. Client\\Essential Energy\\Probability of Failure Model\\inputs\\csvs\\ACS - Poles - Consequence Model Output.csv\"\n",
    "print(\"File Loading...\")\n",
    "df_cons = pd.read_csv(filename)\n",
    "print(\"File Loaded\")"
   ]
  },
  {
   "source": [
    "Break the consequenes up into groups so they can be passed into the model"
   ],
   "cell_type": "markdown",
   "metadata": {}
  },
  {
   "cell_type": "code",
   "execution_count": 57,
   "metadata": {},
   "outputs": [],
   "source": [
    "def get_bin_groups(df, bin_on='Total Consequence $', group_by='ASSET_ID', n_bins = 5):\n",
    "    \"\"\" Groups an attribute\"\"\"\n",
    "\n",
    "    df['bin_consequence'] = pd.qcut(df['Total Consequence $'], q=3, labels=['low', 'med', 'high'])\n",
    "\n",
    "    groups = df.groupby(by='bin_consequence').count()\n",
    "\n",
    "    return df"
   ]
  },
  {
   "cell_type": "code",
   "execution_count": 58,
   "metadata": {},
   "outputs": [
    {
     "output_type": "execute_result",
     "data": {
      "text/plain": [
       "                 Unnamed: 0  ASSET_ID  Depot (ZSG Area)  Pole_LU_NSWMajo  \\\n",
       "bin_consequence                                                            \n",
       "low                  459243    459243            459243           444182   \n",
       "med                  459243    459243            459243           457207   \n",
       "high                 459243    459243            459243           454364   \n",
       "\n",
       "                 Pole_LU_NSWDeta  Pole_LU_ALUMMaj  Pole_LU_ALUMDet  \\\n",
       "bin_consequence                                                      \n",
       "low                       444181           444182           444182   \n",
       "med                       457202           457207           457207   \n",
       "high                      454213           454364           454364   \n",
       "\n",
       "                 Road Crossing Conductor Type  HV_LV Status  BushfirePriority  \\\n",
       "bin_consequence                                                                 \n",
       "low                                    398918        398918            459243   \n",
       "med                                    436810        436810            459243   \n",
       "high                                   436925        436925            459243   \n",
       "\n",
       "                 ...  C_Environment_Rank  Site_Bushfire_Moderate_Probability  \\\n",
       "bin_consequence  ...                                                           \n",
       "low              ...              459243                              459243   \n",
       "med              ...              459243                              459243   \n",
       "high             ...              459243                              459243   \n",
       "\n",
       "                 Site_Bushfire_Severe_Probability  C_Bushfire_Dollars  \\\n",
       "bin_consequence                                                         \n",
       "low                                        459243              459243   \n",
       "med                                        459243              459243   \n",
       "high                                       459243              459243   \n",
       "\n",
       "                 Site_Environment_Insignificant_Probability  \\\n",
       "bin_consequence                                               \n",
       "low                                                  459243   \n",
       "med                                                  459243   \n",
       "high                                                 459243   \n",
       "\n",
       "                 Site_Environment_Minor_Probability  C_Environment_Dollars  \\\n",
       "bin_consequence                                                              \n",
       "low                                          459243                 459243   \n",
       "med                                          459243                 459243   \n",
       "high                                         459243                 459243   \n",
       "\n",
       "                 C_Financial_Dollars  Total Consequence $  Radial(Y/N)  \n",
       "bin_consequence                                                         \n",
       "low                           459243               459243          373  \n",
       "med                           459243               459243          446  \n",
       "high                          459243               459243        57316  \n",
       "\n",
       "[3 rows x 43 columns]"
      ],
      "text/html": "<div>\n<style scoped>\n    .dataframe tbody tr th:only-of-type {\n        vertical-align: middle;\n    }\n\n    .dataframe tbody tr th {\n        vertical-align: top;\n    }\n\n    .dataframe thead th {\n        text-align: right;\n    }\n</style>\n<table border=\"1\" class=\"dataframe\">\n  <thead>\n    <tr style=\"text-align: right;\">\n      <th></th>\n      <th>Unnamed: 0</th>\n      <th>ASSET_ID</th>\n      <th>Depot (ZSG Area)</th>\n      <th>Pole_LU_NSWMajo</th>\n      <th>Pole_LU_NSWDeta</th>\n      <th>Pole_LU_ALUMMaj</th>\n      <th>Pole_LU_ALUMDet</th>\n      <th>Road Crossing Conductor Type</th>\n      <th>HV_LV Status</th>\n      <th>BushfirePriority</th>\n      <th>...</th>\n      <th>C_Environment_Rank</th>\n      <th>Site_Bushfire_Moderate_Probability</th>\n      <th>Site_Bushfire_Severe_Probability</th>\n      <th>C_Bushfire_Dollars</th>\n      <th>Site_Environment_Insignificant_Probability</th>\n      <th>Site_Environment_Minor_Probability</th>\n      <th>C_Environment_Dollars</th>\n      <th>C_Financial_Dollars</th>\n      <th>Total Consequence $</th>\n      <th>Radial(Y/N)</th>\n    </tr>\n    <tr>\n      <th>bin_consequence</th>\n      <th></th>\n      <th></th>\n      <th></th>\n      <th></th>\n      <th></th>\n      <th></th>\n      <th></th>\n      <th></th>\n      <th></th>\n      <th></th>\n      <th></th>\n      <th></th>\n      <th></th>\n      <th></th>\n      <th></th>\n      <th></th>\n      <th></th>\n      <th></th>\n      <th></th>\n      <th></th>\n      <th></th>\n    </tr>\n  </thead>\n  <tbody>\n    <tr>\n      <th>low</th>\n      <td>459243</td>\n      <td>459243</td>\n      <td>459243</td>\n      <td>444182</td>\n      <td>444181</td>\n      <td>444182</td>\n      <td>444182</td>\n      <td>398918</td>\n      <td>398918</td>\n      <td>459243</td>\n      <td>...</td>\n      <td>459243</td>\n      <td>459243</td>\n      <td>459243</td>\n      <td>459243</td>\n      <td>459243</td>\n      <td>459243</td>\n      <td>459243</td>\n      <td>459243</td>\n      <td>459243</td>\n      <td>373</td>\n    </tr>\n    <tr>\n      <th>med</th>\n      <td>459243</td>\n      <td>459243</td>\n      <td>459243</td>\n      <td>457207</td>\n      <td>457202</td>\n      <td>457207</td>\n      <td>457207</td>\n      <td>436810</td>\n      <td>436810</td>\n      <td>459243</td>\n      <td>...</td>\n      <td>459243</td>\n      <td>459243</td>\n      <td>459243</td>\n      <td>459243</td>\n      <td>459243</td>\n      <td>459243</td>\n      <td>459243</td>\n      <td>459243</td>\n      <td>459243</td>\n      <td>446</td>\n    </tr>\n    <tr>\n      <th>high</th>\n      <td>459243</td>\n      <td>459243</td>\n      <td>459243</td>\n      <td>454364</td>\n      <td>454213</td>\n      <td>454364</td>\n      <td>454364</td>\n      <td>436925</td>\n      <td>436925</td>\n      <td>459243</td>\n      <td>...</td>\n      <td>459243</td>\n      <td>459243</td>\n      <td>459243</td>\n      <td>459243</td>\n      <td>459243</td>\n      <td>459243</td>\n      <td>459243</td>\n      <td>459243</td>\n      <td>459243</td>\n      <td>57316</td>\n    </tr>\n  </tbody>\n</table>\n<p>3 rows × 43 columns</p>\n</div>"
     },
     "metadata": {},
     "execution_count": 58
    }
   ],
   "source": [
    "df_bins = get_bin_groups(df_cons)\n",
    "df_bins.groupby(by='bin_consequence').count().head()"
   ]
  },
  {
   "source": [
    "# Grouping for impact\n",
    "To understand the impact of different strategies at scale we will consider a depot lense"
   ],
   "cell_type": "markdown",
   "metadata": {}
  },
  {
   "cell_type": "code",
   "execution_count": 59,
   "metadata": {},
   "outputs": [],
   "source": [
    "depots = ['Young Depot', 'Temora Depot', 'Yass Depot', 'Young Depot', 'Bathurst Depot']"
   ]
  },
  {
   "cell_type": "code",
   "execution_count": 60,
   "metadata": {},
   "outputs": [],
   "source": [
    "index = 'Depot (ZSG Area)'\n",
    "columns = 'bin_consequence' #'BushfirePriority'\n",
    "\n",
    "consequence = df_bins.pivot_table(index=index, columns= columns, values = 'ASSET_ID', aggfunc=len).fillna(0).astype(int)\n",
    "consequence.loc[depots].plot(kind='barh', title=f'{index} by {columns}');"
   ]
  },
  {
   "source": [
    "Using "
   ],
   "cell_type": "markdown",
   "metadata": {}
  },
  {
   "cell_type": "code",
   "execution_count": 61,
   "metadata": {
    "tags": []
   },
   "outputs": [
    {
     "output_type": "stream",
     "name": "stderr",
     "text": [
      "100%|██████████| 1000/1000 [00:59<00:00, 16.81it/s]\n",
      "100%|██████████| 1000/1000 [01:02<00:00, 15.91it/s]\n",
      "100%|██████████| 1000/1000 [00:58<00:00, 17.00it/s]\n",
      "100%|██████████| 1000/1000 [01:05<00:00, 15.27it/s]\n",
      "100%|██████████| 1000/1000 [00:54<00:00, 18.34it/s]\n",
      "100%|██████████| 1000/1000 [01:01<00:00, 16.15it/s]\n",
      "100%|██████████| 1000/1000 [01:32<00:00, 10.80it/s]\n",
      "100%|██████████| 1000/1000 [01:16<00:00, 13.13it/s]\n",
      "100%|██████████| 1000/1000 [01:22<00:00, 12.15it/s]\n"
     ]
    },
    {
     "output_type": "display_data",
     "data": {
      "application/vnd.plotly.v1+json": {
       "config": {
        "plotlyServerURL": "https://plot.ly"
       },
       "data": [
        {
         "hovertemplate": "source=risk<br>inspection_interval=%{x}<br>cost=%{y}<extra></extra>",
         "legendgroup": "risk",
         "line": {
          "color": "#636efa",
          "dash": "solid"
         },
         "mode": "lines",
         "name": "risk",
         "orientation": "v",
         "showlegend": true,
         "type": "scatter",
         "x": [
          1,
          2,
          3,
          4,
          5,
          6,
          7,
          8,
          9
         ],
         "xaxis": "x",
         "y": [
          18500,
          17850,
          15950,
          17550,
          18350,
          16400,
          17300,
          16200,
          16800
         ],
         "yaxis": "y"
        },
        {
         "hovertemplate": "source=conditional_failure<br>inspection_interval=%{x}<br>cost=%{y}<extra></extra>",
         "legendgroup": "conditional_failure",
         "line": {
          "color": "#EF553B",
          "dash": "solid"
         },
         "mode": "lines",
         "name": "conditional_failure",
         "orientation": "v",
         "showlegend": true,
         "type": "scatter",
         "x": [
          1,
          2,
          3,
          4,
          5,
          6,
          7,
          8,
          9
         ],
         "xaxis": "x",
         "y": [
          1281,
          1386,
          1361.5,
          1344,
          1316,
          1368.5,
          1372,
          1442,
          1319.5
         ],
         "yaxis": "y"
        },
        {
         "hovertemplate": "source=functional_failure<br>inspection_interval=%{x}<br>cost=%{y}<extra></extra>",
         "legendgroup": "functional_failure",
         "line": {
          "color": "#00cc96",
          "dash": "solid"
         },
         "mode": "lines",
         "name": "functional_failure",
         "orientation": "v",
         "showlegend": true,
         "type": "scatter",
         "x": [
          1,
          2,
          3,
          4,
          5,
          6,
          7,
          8,
          9
         ],
         "xaxis": "x",
         "y": [
          2590,
          2499,
          2233,
          2457,
          2569,
          2296,
          2422,
          2268,
          2352
         ],
         "yaxis": "y"
        },
        {
         "hovertemplate": "source=inspection_groundline<br>inspection_interval=%{x}<br>cost=%{y}<extra></extra>",
         "legendgroup": "inspection_groundline",
         "line": {
          "color": "#ab63fa",
          "dash": "solid"
         },
         "mode": "lines",
         "name": "inspection_groundline",
         "orientation": "v",
         "showlegend": true,
         "type": "scatter",
         "x": [
          1,
          2,
          3,
          4,
          5,
          6,
          7,
          8,
          9
         ],
         "xaxis": "x",
         "y": [
          2086.9999999999995,
          2102.5,
          2163.8499999999995,
          2151.45,
          2137.6999999999994,
          2143.449999999999,
          2130.5000000000005,
          2149.3000000000006,
          2143.35
         ],
         "yaxis": "y"
        },
        {
         "hovertemplate": "source=inspection_protection<br>inspection_interval=%{x}<br>cost=%{y}<extra></extra>",
         "legendgroup": "inspection_protection",
         "line": {
          "color": "#FFA15A",
          "dash": "solid"
         },
         "mode": "lines",
         "name": "inspection_protection",
         "orientation": "v",
         "showlegend": true,
         "type": "scatter",
         "x": [
          1,
          2,
          3,
          4,
          5,
          6,
          7,
          8,
          9
         ],
         "xaxis": "x",
         "y": [
          0,
          0,
          0,
          0,
          0,
          0,
          0,
          0,
          0
         ],
         "yaxis": "y"
        },
        {
         "hovertemplate": "source=pole_saver_rod<br>inspection_interval=%{x}<br>cost=%{y}<extra></extra>",
         "legendgroup": "pole_saver_rod",
         "line": {
          "color": "#19d3f3",
          "dash": "solid"
         },
         "mode": "lines",
         "name": "pole_saver_rod",
         "orientation": "v",
         "showlegend": true,
         "type": "scatter",
         "x": [
          1,
          2,
          3,
          4,
          5,
          6,
          7,
          8,
          9
         ],
         "xaxis": "x",
         "y": [
          29.399999999999995,
          29.599999999999998,
          27.8,
          29.400000000000002,
          31.900000000000002,
          26.400000000000002,
          29.699999999999996,
          27.4,
          28.900000000000002
         ],
         "yaxis": "y"
        },
        {
         "hovertemplate": "source=termite_treatment<br>inspection_interval=%{x}<br>cost=%{y}<extra></extra>",
         "legendgroup": "termite_treatment",
         "line": {
          "color": "#FF6692",
          "dash": "solid"
         },
         "mode": "lines",
         "name": "termite_treatment",
         "orientation": "v",
         "showlegend": true,
         "type": "scatter",
         "x": [
          1,
          2,
          3,
          4,
          5,
          6,
          7,
          8,
          9
         ],
         "xaxis": "x",
         "y": [
          17.000000000000004,
          19.2,
          20.5,
          17.500000000000004,
          18.6,
          20,
          18.9,
          21.099999999999998,
          17.699999999999996
         ],
         "yaxis": "y"
        },
        {
         "hovertemplate": "source=total_cost<br>inspection_interval=%{x}<br>cost=%{y}<extra></extra>",
         "legendgroup": "total_cost",
         "line": {
          "color": "#B6E880",
          "dash": "solid"
         },
         "mode": "lines",
         "name": "total_cost",
         "orientation": "v",
         "showlegend": true,
         "type": "scatter",
         "x": [
          1,
          2,
          3,
          4,
          5,
          6,
          7,
          8,
          9
         ],
         "xaxis": "x",
         "y": [
          6004.4,
          6036.3,
          5806.65,
          5999.349999999999,
          6073.199999999999,
          5854.3499999999985,
          5973.099999999999,
          5907.800000000001,
          5861.45
         ],
         "yaxis": "y"
        },
        {
         "hovertemplate": "source=total<br>inspection_interval=%{x}<br>cost=%{y}<extra></extra>",
         "legendgroup": "total",
         "line": {
          "color": "#FF97FF",
          "dash": "solid"
         },
         "mode": "lines",
         "name": "total",
         "orientation": "v",
         "showlegend": true,
         "type": "scatter",
         "x": [
          1,
          2,
          3,
          4,
          5,
          6,
          7,
          8,
          9
         ],
         "xaxis": "x",
         "y": [
          24504.4,
          23886.3,
          21756.65,
          23549.35,
          24423.199999999997,
          22254.35,
          23273.1,
          22107.800000000003,
          22661.45
         ],
         "yaxis": "y"
        }
       ],
       "layout": {
        "legend": {
         "title": {
          "text": "source"
         },
         "tracegroupgap": 0
        },
        "template": {
         "data": {
          "bar": [
           {
            "error_x": {
             "color": "#2a3f5f"
            },
            "error_y": {
             "color": "#2a3f5f"
            },
            "marker": {
             "line": {
              "color": "#E5ECF6",
              "width": 0.5
             }
            },
            "type": "bar"
           }
          ],
          "barpolar": [
           {
            "marker": {
             "line": {
              "color": "#E5ECF6",
              "width": 0.5
             }
            },
            "type": "barpolar"
           }
          ],
          "carpet": [
           {
            "aaxis": {
             "endlinecolor": "#2a3f5f",
             "gridcolor": "white",
             "linecolor": "white",
             "minorgridcolor": "white",
             "startlinecolor": "#2a3f5f"
            },
            "baxis": {
             "endlinecolor": "#2a3f5f",
             "gridcolor": "white",
             "linecolor": "white",
             "minorgridcolor": "white",
             "startlinecolor": "#2a3f5f"
            },
            "type": "carpet"
           }
          ],
          "choropleth": [
           {
            "colorbar": {
             "outlinewidth": 0,
             "ticks": ""
            },
            "type": "choropleth"
           }
          ],
          "contour": [
           {
            "colorbar": {
             "outlinewidth": 0,
             "ticks": ""
            },
            "colorscale": [
             [
              0,
              "#0d0887"
             ],
             [
              0.1111111111111111,
              "#46039f"
             ],
             [
              0.2222222222222222,
              "#7201a8"
             ],
             [
              0.3333333333333333,
              "#9c179e"
             ],
             [
              0.4444444444444444,
              "#bd3786"
             ],
             [
              0.5555555555555556,
              "#d8576b"
             ],
             [
              0.6666666666666666,
              "#ed7953"
             ],
             [
              0.7777777777777778,
              "#fb9f3a"
             ],
             [
              0.8888888888888888,
              "#fdca26"
             ],
             [
              1,
              "#f0f921"
             ]
            ],
            "type": "contour"
           }
          ],
          "contourcarpet": [
           {
            "colorbar": {
             "outlinewidth": 0,
             "ticks": ""
            },
            "type": "contourcarpet"
           }
          ],
          "heatmap": [
           {
            "colorbar": {
             "outlinewidth": 0,
             "ticks": ""
            },
            "colorscale": [
             [
              0,
              "#0d0887"
             ],
             [
              0.1111111111111111,
              "#46039f"
             ],
             [
              0.2222222222222222,
              "#7201a8"
             ],
             [
              0.3333333333333333,
              "#9c179e"
             ],
             [
              0.4444444444444444,
              "#bd3786"
             ],
             [
              0.5555555555555556,
              "#d8576b"
             ],
             [
              0.6666666666666666,
              "#ed7953"
             ],
             [
              0.7777777777777778,
              "#fb9f3a"
             ],
             [
              0.8888888888888888,
              "#fdca26"
             ],
             [
              1,
              "#f0f921"
             ]
            ],
            "type": "heatmap"
           }
          ],
          "heatmapgl": [
           {
            "colorbar": {
             "outlinewidth": 0,
             "ticks": ""
            },
            "colorscale": [
             [
              0,
              "#0d0887"
             ],
             [
              0.1111111111111111,
              "#46039f"
             ],
             [
              0.2222222222222222,
              "#7201a8"
             ],
             [
              0.3333333333333333,
              "#9c179e"
             ],
             [
              0.4444444444444444,
              "#bd3786"
             ],
             [
              0.5555555555555556,
              "#d8576b"
             ],
             [
              0.6666666666666666,
              "#ed7953"
             ],
             [
              0.7777777777777778,
              "#fb9f3a"
             ],
             [
              0.8888888888888888,
              "#fdca26"
             ],
             [
              1,
              "#f0f921"
             ]
            ],
            "type": "heatmapgl"
           }
          ],
          "histogram": [
           {
            "marker": {
             "colorbar": {
              "outlinewidth": 0,
              "ticks": ""
             }
            },
            "type": "histogram"
           }
          ],
          "histogram2d": [
           {
            "colorbar": {
             "outlinewidth": 0,
             "ticks": ""
            },
            "colorscale": [
             [
              0,
              "#0d0887"
             ],
             [
              0.1111111111111111,
              "#46039f"
             ],
             [
              0.2222222222222222,
              "#7201a8"
             ],
             [
              0.3333333333333333,
              "#9c179e"
             ],
             [
              0.4444444444444444,
              "#bd3786"
             ],
             [
              0.5555555555555556,
              "#d8576b"
             ],
             [
              0.6666666666666666,
              "#ed7953"
             ],
             [
              0.7777777777777778,
              "#fb9f3a"
             ],
             [
              0.8888888888888888,
              "#fdca26"
             ],
             [
              1,
              "#f0f921"
             ]
            ],
            "type": "histogram2d"
           }
          ],
          "histogram2dcontour": [
           {
            "colorbar": {
             "outlinewidth": 0,
             "ticks": ""
            },
            "colorscale": [
             [
              0,
              "#0d0887"
             ],
             [
              0.1111111111111111,
              "#46039f"
             ],
             [
              0.2222222222222222,
              "#7201a8"
             ],
             [
              0.3333333333333333,
              "#9c179e"
             ],
             [
              0.4444444444444444,
              "#bd3786"
             ],
             [
              0.5555555555555556,
              "#d8576b"
             ],
             [
              0.6666666666666666,
              "#ed7953"
             ],
             [
              0.7777777777777778,
              "#fb9f3a"
             ],
             [
              0.8888888888888888,
              "#fdca26"
             ],
             [
              1,
              "#f0f921"
             ]
            ],
            "type": "histogram2dcontour"
           }
          ],
          "mesh3d": [
           {
            "colorbar": {
             "outlinewidth": 0,
             "ticks": ""
            },
            "type": "mesh3d"
           }
          ],
          "parcoords": [
           {
            "line": {
             "colorbar": {
              "outlinewidth": 0,
              "ticks": ""
             }
            },
            "type": "parcoords"
           }
          ],
          "pie": [
           {
            "automargin": true,
            "type": "pie"
           }
          ],
          "scatter": [
           {
            "marker": {
             "colorbar": {
              "outlinewidth": 0,
              "ticks": ""
             }
            },
            "type": "scatter"
           }
          ],
          "scatter3d": [
           {
            "line": {
             "colorbar": {
              "outlinewidth": 0,
              "ticks": ""
             }
            },
            "marker": {
             "colorbar": {
              "outlinewidth": 0,
              "ticks": ""
             }
            },
            "type": "scatter3d"
           }
          ],
          "scattercarpet": [
           {
            "marker": {
             "colorbar": {
              "outlinewidth": 0,
              "ticks": ""
             }
            },
            "type": "scattercarpet"
           }
          ],
          "scattergeo": [
           {
            "marker": {
             "colorbar": {
              "outlinewidth": 0,
              "ticks": ""
             }
            },
            "type": "scattergeo"
           }
          ],
          "scattergl": [
           {
            "marker": {
             "colorbar": {
              "outlinewidth": 0,
              "ticks": ""
             }
            },
            "type": "scattergl"
           }
          ],
          "scattermapbox": [
           {
            "marker": {
             "colorbar": {
              "outlinewidth": 0,
              "ticks": ""
             }
            },
            "type": "scattermapbox"
           }
          ],
          "scatterpolar": [
           {
            "marker": {
             "colorbar": {
              "outlinewidth": 0,
              "ticks": ""
             }
            },
            "type": "scatterpolar"
           }
          ],
          "scatterpolargl": [
           {
            "marker": {
             "colorbar": {
              "outlinewidth": 0,
              "ticks": ""
             }
            },
            "type": "scatterpolargl"
           }
          ],
          "scatterternary": [
           {
            "marker": {
             "colorbar": {
              "outlinewidth": 0,
              "ticks": ""
             }
            },
            "type": "scatterternary"
           }
          ],
          "surface": [
           {
            "colorbar": {
             "outlinewidth": 0,
             "ticks": ""
            },
            "colorscale": [
             [
              0,
              "#0d0887"
             ],
             [
              0.1111111111111111,
              "#46039f"
             ],
             [
              0.2222222222222222,
              "#7201a8"
             ],
             [
              0.3333333333333333,
              "#9c179e"
             ],
             [
              0.4444444444444444,
              "#bd3786"
             ],
             [
              0.5555555555555556,
              "#d8576b"
             ],
             [
              0.6666666666666666,
              "#ed7953"
             ],
             [
              0.7777777777777778,
              "#fb9f3a"
             ],
             [
              0.8888888888888888,
              "#fdca26"
             ],
             [
              1,
              "#f0f921"
             ]
            ],
            "type": "surface"
           }
          ],
          "table": [
           {
            "cells": {
             "fill": {
              "color": "#EBF0F8"
             },
             "line": {
              "color": "white"
             }
            },
            "header": {
             "fill": {
              "color": "#C8D4E3"
             },
             "line": {
              "color": "white"
             }
            },
            "type": "table"
           }
          ]
         },
         "layout": {
          "annotationdefaults": {
           "arrowcolor": "#2a3f5f",
           "arrowhead": 0,
           "arrowwidth": 1
          },
          "coloraxis": {
           "colorbar": {
            "outlinewidth": 0,
            "ticks": ""
           }
          },
          "colorscale": {
           "diverging": [
            [
             0,
             "#8e0152"
            ],
            [
             0.1,
             "#c51b7d"
            ],
            [
             0.2,
             "#de77ae"
            ],
            [
             0.3,
             "#f1b6da"
            ],
            [
             0.4,
             "#fde0ef"
            ],
            [
             0.5,
             "#f7f7f7"
            ],
            [
             0.6,
             "#e6f5d0"
            ],
            [
             0.7,
             "#b8e186"
            ],
            [
             0.8,
             "#7fbc41"
            ],
            [
             0.9,
             "#4d9221"
            ],
            [
             1,
             "#276419"
            ]
           ],
           "sequential": [
            [
             0,
             "#0d0887"
            ],
            [
             0.1111111111111111,
             "#46039f"
            ],
            [
             0.2222222222222222,
             "#7201a8"
            ],
            [
             0.3333333333333333,
             "#9c179e"
            ],
            [
             0.4444444444444444,
             "#bd3786"
            ],
            [
             0.5555555555555556,
             "#d8576b"
            ],
            [
             0.6666666666666666,
             "#ed7953"
            ],
            [
             0.7777777777777778,
             "#fb9f3a"
            ],
            [
             0.8888888888888888,
             "#fdca26"
            ],
            [
             1,
             "#f0f921"
            ]
           ],
           "sequentialminus": [
            [
             0,
             "#0d0887"
            ],
            [
             0.1111111111111111,
             "#46039f"
            ],
            [
             0.2222222222222222,
             "#7201a8"
            ],
            [
             0.3333333333333333,
             "#9c179e"
            ],
            [
             0.4444444444444444,
             "#bd3786"
            ],
            [
             0.5555555555555556,
             "#d8576b"
            ],
            [
             0.6666666666666666,
             "#ed7953"
            ],
            [
             0.7777777777777778,
             "#fb9f3a"
            ],
            [
             0.8888888888888888,
             "#fdca26"
            ],
            [
             1,
             "#f0f921"
            ]
           ]
          },
          "colorway": [
           "#636efa",
           "#EF553B",
           "#00cc96",
           "#ab63fa",
           "#FFA15A",
           "#19d3f3",
           "#FF6692",
           "#B6E880",
           "#FF97FF",
           "#FECB52"
          ],
          "font": {
           "color": "#2a3f5f"
          },
          "geo": {
           "bgcolor": "white",
           "lakecolor": "white",
           "landcolor": "#E5ECF6",
           "showlakes": true,
           "showland": true,
           "subunitcolor": "white"
          },
          "hoverlabel": {
           "align": "left"
          },
          "hovermode": "closest",
          "mapbox": {
           "style": "light"
          },
          "paper_bgcolor": "white",
          "plot_bgcolor": "#E5ECF6",
          "polar": {
           "angularaxis": {
            "gridcolor": "white",
            "linecolor": "white",
            "ticks": ""
           },
           "bgcolor": "#E5ECF6",
           "radialaxis": {
            "gridcolor": "white",
            "linecolor": "white",
            "ticks": ""
           }
          },
          "scene": {
           "xaxis": {
            "backgroundcolor": "#E5ECF6",
            "gridcolor": "white",
            "gridwidth": 2,
            "linecolor": "white",
            "showbackground": true,
            "ticks": "",
            "zerolinecolor": "white"
           },
           "yaxis": {
            "backgroundcolor": "#E5ECF6",
            "gridcolor": "white",
            "gridwidth": 2,
            "linecolor": "white",
            "showbackground": true,
            "ticks": "",
            "zerolinecolor": "white"
           },
           "zaxis": {
            "backgroundcolor": "#E5ECF6",
            "gridcolor": "white",
            "gridwidth": 2,
            "linecolor": "white",
            "showbackground": true,
            "ticks": "",
            "zerolinecolor": "white"
           }
          },
          "shapedefaults": {
           "line": {
            "color": "#2a3f5f"
           }
          },
          "ternary": {
           "aaxis": {
            "gridcolor": "white",
            "linecolor": "white",
            "ticks": ""
           },
           "baxis": {
            "gridcolor": "white",
            "linecolor": "white",
            "ticks": ""
           },
           "bgcolor": "#E5ECF6",
           "caxis": {
            "gridcolor": "white",
            "linecolor": "white",
            "ticks": ""
           }
          },
          "title": {
           "x": 0.05
          },
          "xaxis": {
           "automargin": true,
           "gridcolor": "white",
           "linecolor": "white",
           "ticks": "",
           "title": {
            "standoff": 15
           },
           "zerolinecolor": "white",
           "zerolinewidth": 2
          },
          "yaxis": {
           "automargin": true,
           "gridcolor": "white",
           "linecolor": "white",
           "ticks": "",
           "title": {
            "standoff": 15
           },
           "zerolinecolor": "white",
           "zerolinewidth": 2
          }
         }
        },
        "title": {
         "text": "Risk v Cost at different Inspection Intervals"
        },
        "xaxis": {
         "anchor": "y",
         "domain": [
          0,
          1
         ],
         "title": {
          "text": "inspection_interval"
         }
        },
        "yaxis": {
         "anchor": "x",
         "domain": [
          0,
          1
         ],
         "title": {
          "text": "cost"
         }
        }
       }
      }
     },
     "metadata": {}
    }
   ],
   "source": [
    "\n",
    "def update_inspection_interval_figure():\n",
    "    \n",
    "    df = expected_inspection_interval(1,10, n_iterations=1000)\n",
    "    df_plot = df.melt(id_vars='inspection_interval', var_name = 'source', value_name='cost')\n",
    "    fig = px.line(df_plot, x=\"inspection_interval\", y=\"cost\", color='source', title='Risk v Cost at different Inspection Intervals')\n",
    "    return fig\n",
    "\n",
    "clear_output(True)\n",
    "update_inspection_interval_figure().show()"
   ]
  },
  {
   "cell_type": "code",
   "execution_count": 11,
   "metadata": {},
   "outputs": [],
   "source": [
    "def df_all_generator(by, col, sens_var, n_iterations=1000, t_min=1, t_max=5, t_end=100):\n",
    "    \"\"\"\n",
    "    This function generates df_all\n",
    "    \"\"\"\n",
    "    scen = dict()\n",
    "\n",
    "    category_value = df_bins.groupby(by=by)[col].mean()\n",
    "\n",
    "    for category, value in zip(category_value.index, category_value.to_numpy().astype(int)):\n",
    "        comp = Component.demo()\n",
    "\n",
    "        # Update consequence for all the failure modes\n",
    "        for fm in comp.fm.values():\n",
    "            fm.consequence.risk_cost_total = value\n",
    "\n",
    "        scen[category] = expected_inspection_interval(t_min, t_max, n_iterations, t_end)\n",
    "\n",
    "    df_all = pd.concat(scen).reset_index()\n",
    "    df_all = df_all.rename(columns = {'level_0':by, 'level_1':sens_var})\n",
    "\n",
    "    # Check there aren't any duplictes #TODO remove when changing to sensitivity\n",
    "    df_all = df_all.loc[:,~df_all.columns.duplicated()]\n",
    "    #TODO will need to get total time from components\n",
    "    df_all['annual_value_lost'] = (df_all['total'] - df_all.groupby(by =by)['total'].transform('min'))/t_end # time considered\n",
    "\n",
    "    # clear_output(True)\n",
    "    return df_all"
   ]
  },
  {
   "cell_type": "code",
   "execution_count": 12,
   "metadata": {},
   "outputs": [
    {
     "output_type": "stream",
     "name": "stderr",
     "text": [
      "100%|██████████| 1000/1000 [00:37<00:00, 26.80it/s]\n",
      "100%|██████████| 1000/1000 [00:21<00:00, 45.93it/s]\n",
      "100%|██████████| 1000/1000 [00:15<00:00, 62.84it/s]\n",
      "100%|██████████| 1000/1000 [00:13<00:00, 74.99it/s]\n",
      "100%|██████████| 1000/1000 [00:29<00:00, 34.05it/s]\n",
      "100%|██████████| 1000/1000 [00:19<00:00, 50.01it/s]\n",
      "100%|██████████| 1000/1000 [00:17<00:00, 58.70it/s]\n",
      "100%|██████████| 1000/1000 [00:14<00:00, 70.79it/s]\n",
      "100%|██████████| 1000/1000 [00:28<00:00, 35.02it/s]\n",
      "100%|██████████| 1000/1000 [00:20<00:00, 48.62it/s]\n",
      "100%|██████████| 1000/1000 [00:21<00:00, 46.88it/s]\n",
      "100%|██████████| 1000/1000 [00:14<00:00, 68.75it/s]\n"
     ]
    },
    {
     "output_type": "execute_result",
     "data": {
      "text/plain": [
       "  bin_consequence  inspection_interval  inspection  on_condition_repair  \\\n",
       "0             low                    1        9320                  120   \n",
       "1             low                    2        6202                  112   \n",
       "2             low                    3        4550                  109   \n",
       "3             low                    4        3530                  104   \n",
       "4             med                    1        9346                  121   \n",
       "\n",
       "   on_condition_replacement  on_failure_replacement   risk  total_cost  total  \\\n",
       "0                         0                    1010   5050       10450  15500   \n",
       "1                         0                    1310   6550        7624  14174   \n",
       "2                         0                    1700   8500        6359  14859   \n",
       "3                         0                    2340  11700        5974  17674   \n",
       "4                         0                    1070   5350       10537  15887   \n",
       "\n",
       "   annual_value_lost  \n",
       "0              13.26  \n",
       "1               0.00  \n",
       "2               6.85  \n",
       "3              35.00  \n",
       "4              25.34  "
      ],
      "text/html": "<div>\n<style scoped>\n    .dataframe tbody tr th:only-of-type {\n        vertical-align: middle;\n    }\n\n    .dataframe tbody tr th {\n        vertical-align: top;\n    }\n\n    .dataframe thead th {\n        text-align: right;\n    }\n</style>\n<table border=\"1\" class=\"dataframe\">\n  <thead>\n    <tr style=\"text-align: right;\">\n      <th></th>\n      <th>bin_consequence</th>\n      <th>inspection_interval</th>\n      <th>inspection</th>\n      <th>on_condition_repair</th>\n      <th>on_condition_replacement</th>\n      <th>on_failure_replacement</th>\n      <th>risk</th>\n      <th>total_cost</th>\n      <th>total</th>\n      <th>annual_value_lost</th>\n    </tr>\n  </thead>\n  <tbody>\n    <tr>\n      <th>0</th>\n      <td>low</td>\n      <td>1</td>\n      <td>9320</td>\n      <td>120</td>\n      <td>0</td>\n      <td>1010</td>\n      <td>5050</td>\n      <td>10450</td>\n      <td>15500</td>\n      <td>13.26</td>\n    </tr>\n    <tr>\n      <th>1</th>\n      <td>low</td>\n      <td>2</td>\n      <td>6202</td>\n      <td>112</td>\n      <td>0</td>\n      <td>1310</td>\n      <td>6550</td>\n      <td>7624</td>\n      <td>14174</td>\n      <td>0.00</td>\n    </tr>\n    <tr>\n      <th>2</th>\n      <td>low</td>\n      <td>3</td>\n      <td>4550</td>\n      <td>109</td>\n      <td>0</td>\n      <td>1700</td>\n      <td>8500</td>\n      <td>6359</td>\n      <td>14859</td>\n      <td>6.85</td>\n    </tr>\n    <tr>\n      <th>3</th>\n      <td>low</td>\n      <td>4</td>\n      <td>3530</td>\n      <td>104</td>\n      <td>0</td>\n      <td>2340</td>\n      <td>11700</td>\n      <td>5974</td>\n      <td>17674</td>\n      <td>35.00</td>\n    </tr>\n    <tr>\n      <th>4</th>\n      <td>med</td>\n      <td>1</td>\n      <td>9346</td>\n      <td>121</td>\n      <td>0</td>\n      <td>1070</td>\n      <td>5350</td>\n      <td>10537</td>\n      <td>15887</td>\n      <td>25.34</td>\n    </tr>\n  </tbody>\n</table>\n</div>"
     },
     "metadata": {},
     "execution_count": 12
    }
   ],
   "source": [
    "by = 'bin_consequence'\n",
    "col = 'Total Consequence $'\n",
    "sens_var = 'inspection_interval'\n",
    "\n",
    "df_all = df_all_generator(by = by, col = col,\n",
    "sens_var = sens_var)\n",
    "\n",
    "df_all.head()"
   ]
  },
  {
   "source": [
    "\n",
    "df_plot = df_all\n",
    "fig = px.line(df_plot, x=sens_var, y=\"annual_value_lost\", color=by, title=f'Risk v Cost at different {sens_var}', color_discrete_sequence=px.colors.qualitative.Vivid)\n",
    "fig.show()"
   ],
   "cell_type": "code",
   "metadata": {},
   "execution_count": 13,
   "outputs": [
    {
     "output_type": "display_data",
     "data": {
      "application/vnd.plotly.v1+json": {
       "config": {
        "plotlyServerURL": "https://plot.ly"
       },
       "data": [
        {
         "hovertemplate": "bin_consequence=low<br>inspection_interval=%{x}<br>annual_value_lost=%{y}<extra></extra>",
         "legendgroup": "low",
         "line": {
          "color": "rgb(229, 134, 6)",
          "dash": "solid"
         },
         "mode": "lines",
         "name": "low",
         "orientation": "v",
         "showlegend": true,
         "type": "scatter",
         "x": [
          1,
          2,
          3,
          4
         ],
         "xaxis": "x",
         "y": [
          13.26,
          0,
          6.85,
          35
         ],
         "yaxis": "y"
        },
        {
         "hovertemplate": "bin_consequence=med<br>inspection_interval=%{x}<br>annual_value_lost=%{y}<extra></extra>",
         "legendgroup": "med",
         "line": {
          "color": "rgb(93, 105, 177)",
          "dash": "solid"
         },
         "mode": "lines",
         "name": "med",
         "orientation": "v",
         "showlegend": true,
         "type": "scatter",
         "x": [
          1,
          2,
          3,
          4
         ],
         "xaxis": "x",
         "y": [
          25.34,
          0,
          0.83,
          36.66
         ],
         "yaxis": "y"
        },
        {
         "hovertemplate": "bin_consequence=high<br>inspection_interval=%{x}<br>annual_value_lost=%{y}<extra></extra>",
         "legendgroup": "high",
         "line": {
          "color": "rgb(82, 188, 163)",
          "dash": "solid"
         },
         "mode": "lines",
         "name": "high",
         "orientation": "v",
         "showlegend": true,
         "type": "scatter",
         "x": [
          1,
          2,
          3,
          4
         ],
         "xaxis": "x",
         "y": [
          13.76,
          0,
          5.3,
          33.15
         ],
         "yaxis": "y"
        }
       ],
       "layout": {
        "legend": {
         "title": {
          "text": "bin_consequence"
         },
         "tracegroupgap": 0
        },
        "template": {
         "data": {
          "bar": [
           {
            "error_x": {
             "color": "#2a3f5f"
            },
            "error_y": {
             "color": "#2a3f5f"
            },
            "marker": {
             "line": {
              "color": "#E5ECF6",
              "width": 0.5
             }
            },
            "type": "bar"
           }
          ],
          "barpolar": [
           {
            "marker": {
             "line": {
              "color": "#E5ECF6",
              "width": 0.5
             }
            },
            "type": "barpolar"
           }
          ],
          "carpet": [
           {
            "aaxis": {
             "endlinecolor": "#2a3f5f",
             "gridcolor": "white",
             "linecolor": "white",
             "minorgridcolor": "white",
             "startlinecolor": "#2a3f5f"
            },
            "baxis": {
             "endlinecolor": "#2a3f5f",
             "gridcolor": "white",
             "linecolor": "white",
             "minorgridcolor": "white",
             "startlinecolor": "#2a3f5f"
            },
            "type": "carpet"
           }
          ],
          "choropleth": [
           {
            "colorbar": {
             "outlinewidth": 0,
             "ticks": ""
            },
            "type": "choropleth"
           }
          ],
          "contour": [
           {
            "colorbar": {
             "outlinewidth": 0,
             "ticks": ""
            },
            "colorscale": [
             [
              0,
              "#0d0887"
             ],
             [
              0.1111111111111111,
              "#46039f"
             ],
             [
              0.2222222222222222,
              "#7201a8"
             ],
             [
              0.3333333333333333,
              "#9c179e"
             ],
             [
              0.4444444444444444,
              "#bd3786"
             ],
             [
              0.5555555555555556,
              "#d8576b"
             ],
             [
              0.6666666666666666,
              "#ed7953"
             ],
             [
              0.7777777777777778,
              "#fb9f3a"
             ],
             [
              0.8888888888888888,
              "#fdca26"
             ],
             [
              1,
              "#f0f921"
             ]
            ],
            "type": "contour"
           }
          ],
          "contourcarpet": [
           {
            "colorbar": {
             "outlinewidth": 0,
             "ticks": ""
            },
            "type": "contourcarpet"
           }
          ],
          "heatmap": [
           {
            "colorbar": {
             "outlinewidth": 0,
             "ticks": ""
            },
            "colorscale": [
             [
              0,
              "#0d0887"
             ],
             [
              0.1111111111111111,
              "#46039f"
             ],
             [
              0.2222222222222222,
              "#7201a8"
             ],
             [
              0.3333333333333333,
              "#9c179e"
             ],
             [
              0.4444444444444444,
              "#bd3786"
             ],
             [
              0.5555555555555556,
              "#d8576b"
             ],
             [
              0.6666666666666666,
              "#ed7953"
             ],
             [
              0.7777777777777778,
              "#fb9f3a"
             ],
             [
              0.8888888888888888,
              "#fdca26"
             ],
             [
              1,
              "#f0f921"
             ]
            ],
            "type": "heatmap"
           }
          ],
          "heatmapgl": [
           {
            "colorbar": {
             "outlinewidth": 0,
             "ticks": ""
            },
            "colorscale": [
             [
              0,
              "#0d0887"
             ],
             [
              0.1111111111111111,
              "#46039f"
             ],
             [
              0.2222222222222222,
              "#7201a8"
             ],
             [
              0.3333333333333333,
              "#9c179e"
             ],
             [
              0.4444444444444444,
              "#bd3786"
             ],
             [
              0.5555555555555556,
              "#d8576b"
             ],
             [
              0.6666666666666666,
              "#ed7953"
             ],
             [
              0.7777777777777778,
              "#fb9f3a"
             ],
             [
              0.8888888888888888,
              "#fdca26"
             ],
             [
              1,
              "#f0f921"
             ]
            ],
            "type": "heatmapgl"
           }
          ],
          "histogram": [
           {
            "marker": {
             "colorbar": {
              "outlinewidth": 0,
              "ticks": ""
             }
            },
            "type": "histogram"
           }
          ],
          "histogram2d": [
           {
            "colorbar": {
             "outlinewidth": 0,
             "ticks": ""
            },
            "colorscale": [
             [
              0,
              "#0d0887"
             ],
             [
              0.1111111111111111,
              "#46039f"
             ],
             [
              0.2222222222222222,
              "#7201a8"
             ],
             [
              0.3333333333333333,
              "#9c179e"
             ],
             [
              0.4444444444444444,
              "#bd3786"
             ],
             [
              0.5555555555555556,
              "#d8576b"
             ],
             [
              0.6666666666666666,
              "#ed7953"
             ],
             [
              0.7777777777777778,
              "#fb9f3a"
             ],
             [
              0.8888888888888888,
              "#fdca26"
             ],
             [
              1,
              "#f0f921"
             ]
            ],
            "type": "histogram2d"
           }
          ],
          "histogram2dcontour": [
           {
            "colorbar": {
             "outlinewidth": 0,
             "ticks": ""
            },
            "colorscale": [
             [
              0,
              "#0d0887"
             ],
             [
              0.1111111111111111,
              "#46039f"
             ],
             [
              0.2222222222222222,
              "#7201a8"
             ],
             [
              0.3333333333333333,
              "#9c179e"
             ],
             [
              0.4444444444444444,
              "#bd3786"
             ],
             [
              0.5555555555555556,
              "#d8576b"
             ],
             [
              0.6666666666666666,
              "#ed7953"
             ],
             [
              0.7777777777777778,
              "#fb9f3a"
             ],
             [
              0.8888888888888888,
              "#fdca26"
             ],
             [
              1,
              "#f0f921"
             ]
            ],
            "type": "histogram2dcontour"
           }
          ],
          "mesh3d": [
           {
            "colorbar": {
             "outlinewidth": 0,
             "ticks": ""
            },
            "type": "mesh3d"
           }
          ],
          "parcoords": [
           {
            "line": {
             "colorbar": {
              "outlinewidth": 0,
              "ticks": ""
             }
            },
            "type": "parcoords"
           }
          ],
          "pie": [
           {
            "automargin": true,
            "type": "pie"
           }
          ],
          "scatter": [
           {
            "marker": {
             "colorbar": {
              "outlinewidth": 0,
              "ticks": ""
             }
            },
            "type": "scatter"
           }
          ],
          "scatter3d": [
           {
            "line": {
             "colorbar": {
              "outlinewidth": 0,
              "ticks": ""
             }
            },
            "marker": {
             "colorbar": {
              "outlinewidth": 0,
              "ticks": ""
             }
            },
            "type": "scatter3d"
           }
          ],
          "scattercarpet": [
           {
            "marker": {
             "colorbar": {
              "outlinewidth": 0,
              "ticks": ""
             }
            },
            "type": "scattercarpet"
           }
          ],
          "scattergeo": [
           {
            "marker": {
             "colorbar": {
              "outlinewidth": 0,
              "ticks": ""
             }
            },
            "type": "scattergeo"
           }
          ],
          "scattergl": [
           {
            "marker": {
             "colorbar": {
              "outlinewidth": 0,
              "ticks": ""
             }
            },
            "type": "scattergl"
           }
          ],
          "scattermapbox": [
           {
            "marker": {
             "colorbar": {
              "outlinewidth": 0,
              "ticks": ""
             }
            },
            "type": "scattermapbox"
           }
          ],
          "scatterpolar": [
           {
            "marker": {
             "colorbar": {
              "outlinewidth": 0,
              "ticks": ""
             }
            },
            "type": "scatterpolar"
           }
          ],
          "scatterpolargl": [
           {
            "marker": {
             "colorbar": {
              "outlinewidth": 0,
              "ticks": ""
             }
            },
            "type": "scatterpolargl"
           }
          ],
          "scatterternary": [
           {
            "marker": {
             "colorbar": {
              "outlinewidth": 0,
              "ticks": ""
             }
            },
            "type": "scatterternary"
           }
          ],
          "surface": [
           {
            "colorbar": {
             "outlinewidth": 0,
             "ticks": ""
            },
            "colorscale": [
             [
              0,
              "#0d0887"
             ],
             [
              0.1111111111111111,
              "#46039f"
             ],
             [
              0.2222222222222222,
              "#7201a8"
             ],
             [
              0.3333333333333333,
              "#9c179e"
             ],
             [
              0.4444444444444444,
              "#bd3786"
             ],
             [
              0.5555555555555556,
              "#d8576b"
             ],
             [
              0.6666666666666666,
              "#ed7953"
             ],
             [
              0.7777777777777778,
              "#fb9f3a"
             ],
             [
              0.8888888888888888,
              "#fdca26"
             ],
             [
              1,
              "#f0f921"
             ]
            ],
            "type": "surface"
           }
          ],
          "table": [
           {
            "cells": {
             "fill": {
              "color": "#EBF0F8"
             },
             "line": {
              "color": "white"
             }
            },
            "header": {
             "fill": {
              "color": "#C8D4E3"
             },
             "line": {
              "color": "white"
             }
            },
            "type": "table"
           }
          ]
         },
         "layout": {
          "annotationdefaults": {
           "arrowcolor": "#2a3f5f",
           "arrowhead": 0,
           "arrowwidth": 1
          },
          "coloraxis": {
           "colorbar": {
            "outlinewidth": 0,
            "ticks": ""
           }
          },
          "colorscale": {
           "diverging": [
            [
             0,
             "#8e0152"
            ],
            [
             0.1,
             "#c51b7d"
            ],
            [
             0.2,
             "#de77ae"
            ],
            [
             0.3,
             "#f1b6da"
            ],
            [
             0.4,
             "#fde0ef"
            ],
            [
             0.5,
             "#f7f7f7"
            ],
            [
             0.6,
             "#e6f5d0"
            ],
            [
             0.7,
             "#b8e186"
            ],
            [
             0.8,
             "#7fbc41"
            ],
            [
             0.9,
             "#4d9221"
            ],
            [
             1,
             "#276419"
            ]
           ],
           "sequential": [
            [
             0,
             "#0d0887"
            ],
            [
             0.1111111111111111,
             "#46039f"
            ],
            [
             0.2222222222222222,
             "#7201a8"
            ],
            [
             0.3333333333333333,
             "#9c179e"
            ],
            [
             0.4444444444444444,
             "#bd3786"
            ],
            [
             0.5555555555555556,
             "#d8576b"
            ],
            [
             0.6666666666666666,
             "#ed7953"
            ],
            [
             0.7777777777777778,
             "#fb9f3a"
            ],
            [
             0.8888888888888888,
             "#fdca26"
            ],
            [
             1,
             "#f0f921"
            ]
           ],
           "sequentialminus": [
            [
             0,
             "#0d0887"
            ],
            [
             0.1111111111111111,
             "#46039f"
            ],
            [
             0.2222222222222222,
             "#7201a8"
            ],
            [
             0.3333333333333333,
             "#9c179e"
            ],
            [
             0.4444444444444444,
             "#bd3786"
            ],
            [
             0.5555555555555556,
             "#d8576b"
            ],
            [
             0.6666666666666666,
             "#ed7953"
            ],
            [
             0.7777777777777778,
             "#fb9f3a"
            ],
            [
             0.8888888888888888,
             "#fdca26"
            ],
            [
             1,
             "#f0f921"
            ]
           ]
          },
          "colorway": [
           "#636efa",
           "#EF553B",
           "#00cc96",
           "#ab63fa",
           "#FFA15A",
           "#19d3f3",
           "#FF6692",
           "#B6E880",
           "#FF97FF",
           "#FECB52"
          ],
          "font": {
           "color": "#2a3f5f"
          },
          "geo": {
           "bgcolor": "white",
           "lakecolor": "white",
           "landcolor": "#E5ECF6",
           "showlakes": true,
           "showland": true,
           "subunitcolor": "white"
          },
          "hoverlabel": {
           "align": "left"
          },
          "hovermode": "closest",
          "mapbox": {
           "style": "light"
          },
          "paper_bgcolor": "white",
          "plot_bgcolor": "#E5ECF6",
          "polar": {
           "angularaxis": {
            "gridcolor": "white",
            "linecolor": "white",
            "ticks": ""
           },
           "bgcolor": "#E5ECF6",
           "radialaxis": {
            "gridcolor": "white",
            "linecolor": "white",
            "ticks": ""
           }
          },
          "scene": {
           "xaxis": {
            "backgroundcolor": "#E5ECF6",
            "gridcolor": "white",
            "gridwidth": 2,
            "linecolor": "white",
            "showbackground": true,
            "ticks": "",
            "zerolinecolor": "white"
           },
           "yaxis": {
            "backgroundcolor": "#E5ECF6",
            "gridcolor": "white",
            "gridwidth": 2,
            "linecolor": "white",
            "showbackground": true,
            "ticks": "",
            "zerolinecolor": "white"
           },
           "zaxis": {
            "backgroundcolor": "#E5ECF6",
            "gridcolor": "white",
            "gridwidth": 2,
            "linecolor": "white",
            "showbackground": true,
            "ticks": "",
            "zerolinecolor": "white"
           }
          },
          "shapedefaults": {
           "line": {
            "color": "#2a3f5f"
           }
          },
          "ternary": {
           "aaxis": {
            "gridcolor": "white",
            "linecolor": "white",
            "ticks": ""
           },
           "baxis": {
            "gridcolor": "white",
            "linecolor": "white",
            "ticks": ""
           },
           "bgcolor": "#E5ECF6",
           "caxis": {
            "gridcolor": "white",
            "linecolor": "white",
            "ticks": ""
           }
          },
          "title": {
           "x": 0.05
          },
          "xaxis": {
           "automargin": true,
           "gridcolor": "white",
           "linecolor": "white",
           "ticks": "",
           "title": {
            "standoff": 15
           },
           "zerolinecolor": "white",
           "zerolinewidth": 2
          },
          "yaxis": {
           "automargin": true,
           "gridcolor": "white",
           "linecolor": "white",
           "ticks": "",
           "title": {
            "standoff": 15
           },
           "zerolinecolor": "white",
           "zerolinewidth": 2
          }
         }
        },
        "title": {
         "text": "Risk v Cost at different inspection_interval"
        },
        "xaxis": {
         "anchor": "y",
         "domain": [
          0,
          1
         ],
         "title": {
          "text": "inspection_interval"
         }
        },
        "yaxis": {
         "anchor": "x",
         "domain": [
          0,
          1
         ],
         "title": {
          "text": "annual_value_lost"
         }
        }
       }
      }
     },
     "metadata": {}
    }
   ]
  },
  {
   "source": [
    "## Map to the population\n",
    "Each asset can look up the model that most closely relates to it to get the value_lost for different strategies"
   ],
   "cell_type": "markdown",
   "metadata": {}
  },
  {
   "cell_type": "code",
   "execution_count": 14,
   "metadata": {},
   "outputs": [
    {
     "output_type": "execute_result",
     "data": {
      "text/plain": [
       "  Depot (ZSG Area) bin_consequence  ASSET_ID\n",
       "0     Albury Depot             low      5350\n",
       "1     Albury Depot             med      6560\n",
       "2     Albury Depot            high      7497\n",
       "3   Armidale Depot             low      7819\n",
       "4   Armidale Depot             med      6628"
      ],
      "text/html": "<div>\n<style scoped>\n    .dataframe tbody tr th:only-of-type {\n        vertical-align: middle;\n    }\n\n    .dataframe tbody tr th {\n        vertical-align: top;\n    }\n\n    .dataframe thead th {\n        text-align: right;\n    }\n</style>\n<table border=\"1\" class=\"dataframe\">\n  <thead>\n    <tr style=\"text-align: right;\">\n      <th></th>\n      <th>Depot (ZSG Area)</th>\n      <th>bin_consequence</th>\n      <th>ASSET_ID</th>\n    </tr>\n  </thead>\n  <tbody>\n    <tr>\n      <th>0</th>\n      <td>Albury Depot</td>\n      <td>low</td>\n      <td>5350</td>\n    </tr>\n    <tr>\n      <th>1</th>\n      <td>Albury Depot</td>\n      <td>med</td>\n      <td>6560</td>\n    </tr>\n    <tr>\n      <th>2</th>\n      <td>Albury Depot</td>\n      <td>high</td>\n      <td>7497</td>\n    </tr>\n    <tr>\n      <th>3</th>\n      <td>Armidale Depot</td>\n      <td>low</td>\n      <td>7819</td>\n    </tr>\n    <tr>\n      <th>4</th>\n      <td>Armidale Depot</td>\n      <td>med</td>\n      <td>6628</td>\n    </tr>\n  </tbody>\n</table>\n</div>"
     },
     "metadata": {},
     "execution_count": 14
    }
   ],
   "source": [
    "df_pop = df_bins.groupby(by=['Depot (ZSG Area)', by])['ASSET_ID'].count().reset_index()\n",
    "df_pop.head()"
   ]
  },
  {
   "cell_type": "code",
   "execution_count": 15,
   "metadata": {},
   "outputs": [
    {
     "output_type": "execute_result",
     "data": {
      "text/plain": [
       "  bin_consequence  inspection_interval  annual_value_lost\n",
       "0             low                    1              13.26\n",
       "1             low                    2               0.00\n",
       "2             low                    3               6.85\n",
       "3             low                    4              35.00\n",
       "4             med                    1              25.34"
      ],
      "text/html": "<div>\n<style scoped>\n    .dataframe tbody tr th:only-of-type {\n        vertical-align: middle;\n    }\n\n    .dataframe tbody tr th {\n        vertical-align: top;\n    }\n\n    .dataframe thead th {\n        text-align: right;\n    }\n</style>\n<table border=\"1\" class=\"dataframe\">\n  <thead>\n    <tr style=\"text-align: right;\">\n      <th></th>\n      <th>bin_consequence</th>\n      <th>inspection_interval</th>\n      <th>annual_value_lost</th>\n    </tr>\n  </thead>\n  <tbody>\n    <tr>\n      <th>0</th>\n      <td>low</td>\n      <td>1</td>\n      <td>13.26</td>\n    </tr>\n    <tr>\n      <th>1</th>\n      <td>low</td>\n      <td>2</td>\n      <td>0.00</td>\n    </tr>\n    <tr>\n      <th>2</th>\n      <td>low</td>\n      <td>3</td>\n      <td>6.85</td>\n    </tr>\n    <tr>\n      <th>3</th>\n      <td>low</td>\n      <td>4</td>\n      <td>35.00</td>\n    </tr>\n    <tr>\n      <th>4</th>\n      <td>med</td>\n      <td>1</td>\n      <td>25.34</td>\n    </tr>\n  </tbody>\n</table>\n</div>"
     },
     "metadata": {},
     "execution_count": 15
    }
   ],
   "source": [
    "y_var = 'annual_value_lost'\n",
    "df_map = df_all[[by, sens_var, y_var]]\n",
    "df_map.head()"
   ]
  },
  {
   "cell_type": "code",
   "execution_count": 16,
   "metadata": {},
   "outputs": [
    {
     "output_type": "execute_result",
     "data": {
      "text/plain": [
       "  Depot (ZSG Area) bin_consequence  ASSET_ID  inspection_interval  \\\n",
       "0     Albury Depot             low      5350                    1   \n",
       "1     Albury Depot             low      5350                    2   \n",
       "2     Albury Depot             low      5350                    3   \n",
       "3     Albury Depot             low      5350                    4   \n",
       "4   Armidale Depot             low      7819                    1   \n",
       "\n",
       "   annual_value_lost  \n",
       "0              13.26  \n",
       "1               0.00  \n",
       "2               6.85  \n",
       "3              35.00  \n",
       "4              13.26  "
      ],
      "text/html": "<div>\n<style scoped>\n    .dataframe tbody tr th:only-of-type {\n        vertical-align: middle;\n    }\n\n    .dataframe tbody tr th {\n        vertical-align: top;\n    }\n\n    .dataframe thead th {\n        text-align: right;\n    }\n</style>\n<table border=\"1\" class=\"dataframe\">\n  <thead>\n    <tr style=\"text-align: right;\">\n      <th></th>\n      <th>Depot (ZSG Area)</th>\n      <th>bin_consequence</th>\n      <th>ASSET_ID</th>\n      <th>inspection_interval</th>\n      <th>annual_value_lost</th>\n    </tr>\n  </thead>\n  <tbody>\n    <tr>\n      <th>0</th>\n      <td>Albury Depot</td>\n      <td>low</td>\n      <td>5350</td>\n      <td>1</td>\n      <td>13.26</td>\n    </tr>\n    <tr>\n      <th>1</th>\n      <td>Albury Depot</td>\n      <td>low</td>\n      <td>5350</td>\n      <td>2</td>\n      <td>0.00</td>\n    </tr>\n    <tr>\n      <th>2</th>\n      <td>Albury Depot</td>\n      <td>low</td>\n      <td>5350</td>\n      <td>3</td>\n      <td>6.85</td>\n    </tr>\n    <tr>\n      <th>3</th>\n      <td>Albury Depot</td>\n      <td>low</td>\n      <td>5350</td>\n      <td>4</td>\n      <td>35.00</td>\n    </tr>\n    <tr>\n      <th>4</th>\n      <td>Armidale Depot</td>\n      <td>low</td>\n      <td>7819</td>\n      <td>1</td>\n      <td>13.26</td>\n    </tr>\n  </tbody>\n</table>\n</div>"
     },
     "metadata": {},
     "execution_count": 16
    }
   ],
   "source": [
    "df_pop_map = df_pop.merge(df_map, on=by, how='outer')\n",
    "df_pop_map.head()"
   ]
  },
  {
   "cell_type": "code",
   "execution_count": 17,
   "metadata": {},
   "outputs": [
    {
     "output_type": "execute_result",
     "data": {
      "text/plain": [
       "  Depot (ZSG Area) bin_consequence  ASSET_ID  inspection_interval  \\\n",
       "0     Albury Depot             low      5350                    1   \n",
       "1     Albury Depot             low      5350                    2   \n",
       "2     Albury Depot             low      5350                    3   \n",
       "3     Albury Depot             low      5350                    4   \n",
       "4   Armidale Depot             low      7819                    1   \n",
       "\n",
       "   annual_value_lost  total_value_lost  \n",
       "0              13.26          70941.00  \n",
       "1               0.00              0.00  \n",
       "2               6.85          36647.50  \n",
       "3              35.00         187250.00  \n",
       "4              13.26         103679.94  "
      ],
      "text/html": "<div>\n<style scoped>\n    .dataframe tbody tr th:only-of-type {\n        vertical-align: middle;\n    }\n\n    .dataframe tbody tr th {\n        vertical-align: top;\n    }\n\n    .dataframe thead th {\n        text-align: right;\n    }\n</style>\n<table border=\"1\" class=\"dataframe\">\n  <thead>\n    <tr style=\"text-align: right;\">\n      <th></th>\n      <th>Depot (ZSG Area)</th>\n      <th>bin_consequence</th>\n      <th>ASSET_ID</th>\n      <th>inspection_interval</th>\n      <th>annual_value_lost</th>\n      <th>total_value_lost</th>\n    </tr>\n  </thead>\n  <tbody>\n    <tr>\n      <th>0</th>\n      <td>Albury Depot</td>\n      <td>low</td>\n      <td>5350</td>\n      <td>1</td>\n      <td>13.26</td>\n      <td>70941.00</td>\n    </tr>\n    <tr>\n      <th>1</th>\n      <td>Albury Depot</td>\n      <td>low</td>\n      <td>5350</td>\n      <td>2</td>\n      <td>0.00</td>\n      <td>0.00</td>\n    </tr>\n    <tr>\n      <th>2</th>\n      <td>Albury Depot</td>\n      <td>low</td>\n      <td>5350</td>\n      <td>3</td>\n      <td>6.85</td>\n      <td>36647.50</td>\n    </tr>\n    <tr>\n      <th>3</th>\n      <td>Albury Depot</td>\n      <td>low</td>\n      <td>5350</td>\n      <td>4</td>\n      <td>35.00</td>\n      <td>187250.00</td>\n    </tr>\n    <tr>\n      <th>4</th>\n      <td>Armidale Depot</td>\n      <td>low</td>\n      <td>7819</td>\n      <td>1</td>\n      <td>13.26</td>\n      <td>103679.94</td>\n    </tr>\n  </tbody>\n</table>\n</div>"
     },
     "metadata": {},
     "execution_count": 17
    }
   ],
   "source": [
    "df_pop_map['total_value_lost'] = (df_pop_map.ASSET_ID * df_pop_map.annual_value_lost).where(df_pop_map.bin_consequence == 'high').fillna(0)\n",
    "df_pop_map['total_value_lost'] = df_pop_map['total_value_lost'] + (df_pop_map.ASSET_ID * df_pop_map.annual_value_lost).where(df_pop_map.bin_consequence != 'high').fillna(0)\n",
    "df_pop_map.head()"
   ]
  },
  {
   "cell_type": "code",
   "execution_count": 18,
   "metadata": {},
   "outputs": [],
   "source": [
    "optimum_inspection = df_pop_map.groupby(by=['Depot (ZSG Area)', 'inspection_interval'])['total_value_lost'].sum().reset_index()"
   ]
  },
  {
   "cell_type": "code",
   "execution_count": 19,
   "metadata": {},
   "outputs": [
    {
     "output_type": "display_data",
     "data": {
      "application/vnd.plotly.v1+json": {
       "config": {
        "plotlyServerURL": "https://plot.ly"
       },
       "data": [
        {
         "hovertemplate": "Depot (ZSG Area)=Bathurst Depot<br>inspection_interval=%{x}<br>total_value_lost=%{y}<extra></extra>",
         "legendgroup": "Bathurst Depot",
         "line": {
          "color": "#636efa",
          "dash": "solid"
         },
         "mode": "lines",
         "name": "Bathurst Depot",
         "orientation": "v",
         "showlegend": true,
         "type": "scatter",
         "x": [
          1,
          2,
          3,
          4
         ],
         "xaxis": "x",
         "y": [
          354648.22,
          0,
          101890.23,
          757826.8599999999
         ],
         "yaxis": "y"
        },
        {
         "hovertemplate": "Depot (ZSG Area)=Temora Depot<br>inspection_interval=%{x}<br>total_value_lost=%{y}<extra></extra>",
         "legendgroup": "Temora Depot",
         "line": {
          "color": "#EF553B",
          "dash": "solid"
         },
         "mode": "lines",
         "name": "Temora Depot",
         "orientation": "v",
         "showlegend": true,
         "type": "scatter",
         "x": [
          1,
          2,
          3,
          4
         ],
         "xaxis": "x",
         "y": [
          217225.40000000002,
          0,
          57549.16,
          442851.67000000004
         ],
         "yaxis": "y"
        },
        {
         "hovertemplate": "Depot (ZSG Area)=Yass Depot<br>inspection_interval=%{x}<br>total_value_lost=%{y}<extra></extra>",
         "legendgroup": "Yass Depot",
         "line": {
          "color": "#00cc96",
          "dash": "solid"
         },
         "mode": "lines",
         "name": "Yass Depot",
         "orientation": "v",
         "showlegend": true,
         "type": "scatter",
         "x": [
          1,
          2,
          3,
          4
         ],
         "xaxis": "x",
         "y": [
          238771.84,
          0,
          88868.08,
          565646.16
         ],
         "yaxis": "y"
        },
        {
         "hovertemplate": "Depot (ZSG Area)=Young Depot<br>inspection_interval=%{x}<br>total_value_lost=%{y}<extra></extra>",
         "legendgroup": "Young Depot",
         "line": {
          "color": "#ab63fa",
          "dash": "solid"
         },
         "mode": "lines",
         "name": "Young Depot",
         "orientation": "v",
         "showlegend": true,
         "type": "scatter",
         "x": [
          1,
          2,
          3,
          4
         ],
         "xaxis": "x",
         "y": [
          291993.02,
          0,
          68263.69,
          572186.38
         ],
         "yaxis": "y"
        }
       ],
       "layout": {
        "legend": {
         "title": {
          "text": "Depot (ZSG Area)"
         },
         "tracegroupgap": 0
        },
        "template": {
         "data": {
          "bar": [
           {
            "error_x": {
             "color": "#2a3f5f"
            },
            "error_y": {
             "color": "#2a3f5f"
            },
            "marker": {
             "line": {
              "color": "#E5ECF6",
              "width": 0.5
             }
            },
            "type": "bar"
           }
          ],
          "barpolar": [
           {
            "marker": {
             "line": {
              "color": "#E5ECF6",
              "width": 0.5
             }
            },
            "type": "barpolar"
           }
          ],
          "carpet": [
           {
            "aaxis": {
             "endlinecolor": "#2a3f5f",
             "gridcolor": "white",
             "linecolor": "white",
             "minorgridcolor": "white",
             "startlinecolor": "#2a3f5f"
            },
            "baxis": {
             "endlinecolor": "#2a3f5f",
             "gridcolor": "white",
             "linecolor": "white",
             "minorgridcolor": "white",
             "startlinecolor": "#2a3f5f"
            },
            "type": "carpet"
           }
          ],
          "choropleth": [
           {
            "colorbar": {
             "outlinewidth": 0,
             "ticks": ""
            },
            "type": "choropleth"
           }
          ],
          "contour": [
           {
            "colorbar": {
             "outlinewidth": 0,
             "ticks": ""
            },
            "colorscale": [
             [
              0,
              "#0d0887"
             ],
             [
              0.1111111111111111,
              "#46039f"
             ],
             [
              0.2222222222222222,
              "#7201a8"
             ],
             [
              0.3333333333333333,
              "#9c179e"
             ],
             [
              0.4444444444444444,
              "#bd3786"
             ],
             [
              0.5555555555555556,
              "#d8576b"
             ],
             [
              0.6666666666666666,
              "#ed7953"
             ],
             [
              0.7777777777777778,
              "#fb9f3a"
             ],
             [
              0.8888888888888888,
              "#fdca26"
             ],
             [
              1,
              "#f0f921"
             ]
            ],
            "type": "contour"
           }
          ],
          "contourcarpet": [
           {
            "colorbar": {
             "outlinewidth": 0,
             "ticks": ""
            },
            "type": "contourcarpet"
           }
          ],
          "heatmap": [
           {
            "colorbar": {
             "outlinewidth": 0,
             "ticks": ""
            },
            "colorscale": [
             [
              0,
              "#0d0887"
             ],
             [
              0.1111111111111111,
              "#46039f"
             ],
             [
              0.2222222222222222,
              "#7201a8"
             ],
             [
              0.3333333333333333,
              "#9c179e"
             ],
             [
              0.4444444444444444,
              "#bd3786"
             ],
             [
              0.5555555555555556,
              "#d8576b"
             ],
             [
              0.6666666666666666,
              "#ed7953"
             ],
             [
              0.7777777777777778,
              "#fb9f3a"
             ],
             [
              0.8888888888888888,
              "#fdca26"
             ],
             [
              1,
              "#f0f921"
             ]
            ],
            "type": "heatmap"
           }
          ],
          "heatmapgl": [
           {
            "colorbar": {
             "outlinewidth": 0,
             "ticks": ""
            },
            "colorscale": [
             [
              0,
              "#0d0887"
             ],
             [
              0.1111111111111111,
              "#46039f"
             ],
             [
              0.2222222222222222,
              "#7201a8"
             ],
             [
              0.3333333333333333,
              "#9c179e"
             ],
             [
              0.4444444444444444,
              "#bd3786"
             ],
             [
              0.5555555555555556,
              "#d8576b"
             ],
             [
              0.6666666666666666,
              "#ed7953"
             ],
             [
              0.7777777777777778,
              "#fb9f3a"
             ],
             [
              0.8888888888888888,
              "#fdca26"
             ],
             [
              1,
              "#f0f921"
             ]
            ],
            "type": "heatmapgl"
           }
          ],
          "histogram": [
           {
            "marker": {
             "colorbar": {
              "outlinewidth": 0,
              "ticks": ""
             }
            },
            "type": "histogram"
           }
          ],
          "histogram2d": [
           {
            "colorbar": {
             "outlinewidth": 0,
             "ticks": ""
            },
            "colorscale": [
             [
              0,
              "#0d0887"
             ],
             [
              0.1111111111111111,
              "#46039f"
             ],
             [
              0.2222222222222222,
              "#7201a8"
             ],
             [
              0.3333333333333333,
              "#9c179e"
             ],
             [
              0.4444444444444444,
              "#bd3786"
             ],
             [
              0.5555555555555556,
              "#d8576b"
             ],
             [
              0.6666666666666666,
              "#ed7953"
             ],
             [
              0.7777777777777778,
              "#fb9f3a"
             ],
             [
              0.8888888888888888,
              "#fdca26"
             ],
             [
              1,
              "#f0f921"
             ]
            ],
            "type": "histogram2d"
           }
          ],
          "histogram2dcontour": [
           {
            "colorbar": {
             "outlinewidth": 0,
             "ticks": ""
            },
            "colorscale": [
             [
              0,
              "#0d0887"
             ],
             [
              0.1111111111111111,
              "#46039f"
             ],
             [
              0.2222222222222222,
              "#7201a8"
             ],
             [
              0.3333333333333333,
              "#9c179e"
             ],
             [
              0.4444444444444444,
              "#bd3786"
             ],
             [
              0.5555555555555556,
              "#d8576b"
             ],
             [
              0.6666666666666666,
              "#ed7953"
             ],
             [
              0.7777777777777778,
              "#fb9f3a"
             ],
             [
              0.8888888888888888,
              "#fdca26"
             ],
             [
              1,
              "#f0f921"
             ]
            ],
            "type": "histogram2dcontour"
           }
          ],
          "mesh3d": [
           {
            "colorbar": {
             "outlinewidth": 0,
             "ticks": ""
            },
            "type": "mesh3d"
           }
          ],
          "parcoords": [
           {
            "line": {
             "colorbar": {
              "outlinewidth": 0,
              "ticks": ""
             }
            },
            "type": "parcoords"
           }
          ],
          "pie": [
           {
            "automargin": true,
            "type": "pie"
           }
          ],
          "scatter": [
           {
            "marker": {
             "colorbar": {
              "outlinewidth": 0,
              "ticks": ""
             }
            },
            "type": "scatter"
           }
          ],
          "scatter3d": [
           {
            "line": {
             "colorbar": {
              "outlinewidth": 0,
              "ticks": ""
             }
            },
            "marker": {
             "colorbar": {
              "outlinewidth": 0,
              "ticks": ""
             }
            },
            "type": "scatter3d"
           }
          ],
          "scattercarpet": [
           {
            "marker": {
             "colorbar": {
              "outlinewidth": 0,
              "ticks": ""
             }
            },
            "type": "scattercarpet"
           }
          ],
          "scattergeo": [
           {
            "marker": {
             "colorbar": {
              "outlinewidth": 0,
              "ticks": ""
             }
            },
            "type": "scattergeo"
           }
          ],
          "scattergl": [
           {
            "marker": {
             "colorbar": {
              "outlinewidth": 0,
              "ticks": ""
             }
            },
            "type": "scattergl"
           }
          ],
          "scattermapbox": [
           {
            "marker": {
             "colorbar": {
              "outlinewidth": 0,
              "ticks": ""
             }
            },
            "type": "scattermapbox"
           }
          ],
          "scatterpolar": [
           {
            "marker": {
             "colorbar": {
              "outlinewidth": 0,
              "ticks": ""
             }
            },
            "type": "scatterpolar"
           }
          ],
          "scatterpolargl": [
           {
            "marker": {
             "colorbar": {
              "outlinewidth": 0,
              "ticks": ""
             }
            },
            "type": "scatterpolargl"
           }
          ],
          "scatterternary": [
           {
            "marker": {
             "colorbar": {
              "outlinewidth": 0,
              "ticks": ""
             }
            },
            "type": "scatterternary"
           }
          ],
          "surface": [
           {
            "colorbar": {
             "outlinewidth": 0,
             "ticks": ""
            },
            "colorscale": [
             [
              0,
              "#0d0887"
             ],
             [
              0.1111111111111111,
              "#46039f"
             ],
             [
              0.2222222222222222,
              "#7201a8"
             ],
             [
              0.3333333333333333,
              "#9c179e"
             ],
             [
              0.4444444444444444,
              "#bd3786"
             ],
             [
              0.5555555555555556,
              "#d8576b"
             ],
             [
              0.6666666666666666,
              "#ed7953"
             ],
             [
              0.7777777777777778,
              "#fb9f3a"
             ],
             [
              0.8888888888888888,
              "#fdca26"
             ],
             [
              1,
              "#f0f921"
             ]
            ],
            "type": "surface"
           }
          ],
          "table": [
           {
            "cells": {
             "fill": {
              "color": "#EBF0F8"
             },
             "line": {
              "color": "white"
             }
            },
            "header": {
             "fill": {
              "color": "#C8D4E3"
             },
             "line": {
              "color": "white"
             }
            },
            "type": "table"
           }
          ]
         },
         "layout": {
          "annotationdefaults": {
           "arrowcolor": "#2a3f5f",
           "arrowhead": 0,
           "arrowwidth": 1
          },
          "coloraxis": {
           "colorbar": {
            "outlinewidth": 0,
            "ticks": ""
           }
          },
          "colorscale": {
           "diverging": [
            [
             0,
             "#8e0152"
            ],
            [
             0.1,
             "#c51b7d"
            ],
            [
             0.2,
             "#de77ae"
            ],
            [
             0.3,
             "#f1b6da"
            ],
            [
             0.4,
             "#fde0ef"
            ],
            [
             0.5,
             "#f7f7f7"
            ],
            [
             0.6,
             "#e6f5d0"
            ],
            [
             0.7,
             "#b8e186"
            ],
            [
             0.8,
             "#7fbc41"
            ],
            [
             0.9,
             "#4d9221"
            ],
            [
             1,
             "#276419"
            ]
           ],
           "sequential": [
            [
             0,
             "#0d0887"
            ],
            [
             0.1111111111111111,
             "#46039f"
            ],
            [
             0.2222222222222222,
             "#7201a8"
            ],
            [
             0.3333333333333333,
             "#9c179e"
            ],
            [
             0.4444444444444444,
             "#bd3786"
            ],
            [
             0.5555555555555556,
             "#d8576b"
            ],
            [
             0.6666666666666666,
             "#ed7953"
            ],
            [
             0.7777777777777778,
             "#fb9f3a"
            ],
            [
             0.8888888888888888,
             "#fdca26"
            ],
            [
             1,
             "#f0f921"
            ]
           ],
           "sequentialminus": [
            [
             0,
             "#0d0887"
            ],
            [
             0.1111111111111111,
             "#46039f"
            ],
            [
             0.2222222222222222,
             "#7201a8"
            ],
            [
             0.3333333333333333,
             "#9c179e"
            ],
            [
             0.4444444444444444,
             "#bd3786"
            ],
            [
             0.5555555555555556,
             "#d8576b"
            ],
            [
             0.6666666666666666,
             "#ed7953"
            ],
            [
             0.7777777777777778,
             "#fb9f3a"
            ],
            [
             0.8888888888888888,
             "#fdca26"
            ],
            [
             1,
             "#f0f921"
            ]
           ]
          },
          "colorway": [
           "#636efa",
           "#EF553B",
           "#00cc96",
           "#ab63fa",
           "#FFA15A",
           "#19d3f3",
           "#FF6692",
           "#B6E880",
           "#FF97FF",
           "#FECB52"
          ],
          "font": {
           "color": "#2a3f5f"
          },
          "geo": {
           "bgcolor": "white",
           "lakecolor": "white",
           "landcolor": "#E5ECF6",
           "showlakes": true,
           "showland": true,
           "subunitcolor": "white"
          },
          "hoverlabel": {
           "align": "left"
          },
          "hovermode": "closest",
          "mapbox": {
           "style": "light"
          },
          "paper_bgcolor": "white",
          "plot_bgcolor": "#E5ECF6",
          "polar": {
           "angularaxis": {
            "gridcolor": "white",
            "linecolor": "white",
            "ticks": ""
           },
           "bgcolor": "#E5ECF6",
           "radialaxis": {
            "gridcolor": "white",
            "linecolor": "white",
            "ticks": ""
           }
          },
          "scene": {
           "xaxis": {
            "backgroundcolor": "#E5ECF6",
            "gridcolor": "white",
            "gridwidth": 2,
            "linecolor": "white",
            "showbackground": true,
            "ticks": "",
            "zerolinecolor": "white"
           },
           "yaxis": {
            "backgroundcolor": "#E5ECF6",
            "gridcolor": "white",
            "gridwidth": 2,
            "linecolor": "white",
            "showbackground": true,
            "ticks": "",
            "zerolinecolor": "white"
           },
           "zaxis": {
            "backgroundcolor": "#E5ECF6",
            "gridcolor": "white",
            "gridwidth": 2,
            "linecolor": "white",
            "showbackground": true,
            "ticks": "",
            "zerolinecolor": "white"
           }
          },
          "shapedefaults": {
           "line": {
            "color": "#2a3f5f"
           }
          },
          "ternary": {
           "aaxis": {
            "gridcolor": "white",
            "linecolor": "white",
            "ticks": ""
           },
           "baxis": {
            "gridcolor": "white",
            "linecolor": "white",
            "ticks": ""
           },
           "bgcolor": "#E5ECF6",
           "caxis": {
            "gridcolor": "white",
            "linecolor": "white",
            "ticks": ""
           }
          },
          "title": {
           "x": 0.05
          },
          "xaxis": {
           "automargin": true,
           "gridcolor": "white",
           "linecolor": "white",
           "ticks": "",
           "title": {
            "standoff": 15
           },
           "zerolinecolor": "white",
           "zerolinewidth": 2
          },
          "yaxis": {
           "automargin": true,
           "gridcolor": "white",
           "linecolor": "white",
           "ticks": "",
           "title": {
            "standoff": 15
           },
           "zerolinecolor": "white",
           "zerolinewidth": 2
          }
         }
        },
        "title": {
         "text": "Optimum Inspection Interval by Depot"
        },
        "xaxis": {
         "anchor": "y",
         "domain": [
          0,
          1
         ],
         "title": {
          "text": "inspection_interval"
         }
        },
        "yaxis": {
         "anchor": "x",
         "domain": [
          0,
          1
         ],
         "title": {
          "text": "total_value_lost"
         }
        }
       }
      }
     },
     "metadata": {}
    }
   ],
   "source": [
    "optimum_inspection = optimum_inspection.loc[optimum_inspection['Depot (ZSG Area)'].isin(depots)]\n",
    "\n",
    "fig = px.line(\n",
    "    optimum_inspection,\n",
    "    x=\"inspection_interval\",\n",
    "    y=\"total_value_lost\",\n",
    "    color=\"Depot (ZSG Area)\",\n",
    "    title= 'Optimum Inspection Interval by Depot'\n",
    ")\n",
    "fig"
   ]
  },
  {
   "cell_type": "code",
   "execution_count": 20,
   "metadata": {},
   "outputs": [
    {
     "output_type": "execute_result",
     "data": {
      "text/plain": [
       "                  inspection_interval  total_value_lost\n",
       "Depot (ZSG Area)                                       \n",
       "Bathurst Depot                      1               0.0\n",
       "Temora Depot                        1               0.0\n",
       "Yass Depot                          1               0.0\n",
       "Young Depot                         1               0.0"
      ],
      "text/html": "<div>\n<style scoped>\n    .dataframe tbody tr th:only-of-type {\n        vertical-align: middle;\n    }\n\n    .dataframe tbody tr th {\n        vertical-align: top;\n    }\n\n    .dataframe thead th {\n        text-align: right;\n    }\n</style>\n<table border=\"1\" class=\"dataframe\">\n  <thead>\n    <tr style=\"text-align: right;\">\n      <th></th>\n      <th>inspection_interval</th>\n      <th>total_value_lost</th>\n    </tr>\n    <tr>\n      <th>Depot (ZSG Area)</th>\n      <th></th>\n      <th></th>\n    </tr>\n  </thead>\n  <tbody>\n    <tr>\n      <th>Bathurst Depot</th>\n      <td>1</td>\n      <td>0.0</td>\n    </tr>\n    <tr>\n      <th>Temora Depot</th>\n      <td>1</td>\n      <td>0.0</td>\n    </tr>\n    <tr>\n      <th>Yass Depot</th>\n      <td>1</td>\n      <td>0.0</td>\n    </tr>\n    <tr>\n      <th>Young Depot</th>\n      <td>1</td>\n      <td>0.0</td>\n    </tr>\n  </tbody>\n</table>\n</div>"
     },
     "metadata": {},
     "execution_count": 20
    }
   ],
   "source": [
    "optimum_inspection.groupby(by=['Depot (ZSG Area)']).min()"
   ]
  },
  {
   "source": [
    "To check that the sensitivity is behaving as expected"
   ],
   "cell_type": "markdown",
   "metadata": {}
  },
  {
   "cell_type": "code",
   "execution_count": 21,
   "metadata": {},
   "outputs": [],
   "source": [
    "# comp.fm.pop('fast_aging')\n",
    "# comp.fm.pop('slow_aging')\n",
    "# comp.fm.pop('random')\n",
    "# comp.fm"
   ]
  },
  {
   "cell_type": "code",
   "execution_count": 22,
   "metadata": {
    "tags": []
   },
   "outputs": [
    {
     "output_type": "stream",
     "name": "stderr",
     "text": [
      "100%|██████████| 10/10 [00:00<00:00, 57.80it/s]\n",
      "100%|██████████| 10/10 [00:00<00:00, 38.68it/s]\n",
      "100%|██████████| 10/10 [00:00<00:00, 48.54it/s]\n",
      "100%|██████████| 10/10 [00:00<00:00, 64.51it/s]\n",
      "100%|██████████| 10/10 [00:00<00:00, 31.34it/s]\n",
      "100%|██████████| 10/10 [00:00<00:00, 75.46it/s]\n",
      "100%|██████████| 10/10 [00:00<00:00, 69.96it/s]\n",
      "100%|██████████| 10/10 [00:00<00:00, 80.13it/s]\n",
      "100%|██████████| 10/10 [00:00<00:00, 31.28it/s]\n",
      "100%|██████████| 10/10 [00:00<00:00, 38.92it/s]\n"
     ]
    },
    {
     "output_type": "display_data",
     "data": {
      "application/vnd.plotly.v1+json": {
       "config": {
        "plotlyServerURL": "https://plot.ly"
       },
       "data": [
        {
         "hovertemplate": "source=inspection<br>cost=%{x}<br>source_cost=%{y}<extra></extra>",
         "legendgroup": "inspection",
         "line": {
          "color": "rgb(136, 204, 238)",
          "dash": "solid"
         },
         "mode": "lines",
         "name": "inspection",
         "orientation": "v",
         "showlegend": true,
         "type": "scatter",
         "x": [
          0,
          0,
          0,
          0,
          100,
          100,
          100,
          100,
          200,
          200,
          200,
          200,
          300,
          300,
          300,
          300,
          400,
          400,
          400,
          400,
          500,
          500,
          500,
          500,
          600,
          600,
          600,
          600,
          700,
          700,
          700,
          700,
          800,
          800,
          800,
          800,
          900,
          900,
          900,
          900
         ],
         "xaxis": "x",
         "y": [
          2642,
          2642,
          2642,
          2642,
          4980,
          4980,
          4980,
          4980,
          6289,
          6289,
          6289,
          6289,
          7082,
          7082,
          7082,
          7082,
          8868,
          8868,
          8868,
          8868,
          10041,
          10041,
          10041,
          10041,
          14518,
          14518,
          14518,
          14518,
          14405,
          14405,
          14405,
          14405,
          17553,
          17553,
          17553,
          17553,
          18862,
          18862,
          18862,
          18862
         ],
         "yaxis": "y"
        },
        {
         "hovertemplate": "source=on_condition_repair<br>cost=%{x}<br>source_cost=%{y}<extra></extra>",
         "legendgroup": "on_condition_repair",
         "line": {
          "color": "rgb(204, 102, 119)",
          "dash": "solid"
         },
         "mode": "lines",
         "name": "on_condition_repair",
         "orientation": "v",
         "showlegend": true,
         "type": "scatter",
         "x": [
          0,
          0,
          100,
          100,
          200,
          200,
          300,
          300,
          400,
          400,
          500,
          500,
          600,
          600,
          700,
          700,
          800,
          800,
          900,
          900
         ],
         "xaxis": "x",
         "y": [
          100,
          100,
          180,
          180,
          160,
          160,
          120,
          120,
          110,
          110,
          50,
          50,
          140,
          140,
          110,
          110,
          170,
          170,
          120,
          120
         ],
         "yaxis": "y"
        },
        {
         "hovertemplate": "source=on_condition_replacement<br>cost=%{x}<br>source_cost=%{y}<extra></extra>",
         "legendgroup": "on_condition_replacement",
         "line": {
          "color": "rgb(221, 204, 119)",
          "dash": "solid"
         },
         "mode": "lines",
         "name": "on_condition_replacement",
         "orientation": "v",
         "showlegend": true,
         "type": "scatter",
         "x": [
          0,
          0,
          0,
          0,
          100,
          100,
          100,
          100,
          200,
          200,
          200,
          200,
          300,
          300,
          300,
          300,
          400,
          400,
          400,
          400,
          500,
          500,
          500,
          500,
          600,
          600,
          600,
          600,
          700,
          700,
          700,
          700,
          800,
          800,
          800,
          800,
          900,
          900,
          900,
          900
         ],
         "xaxis": "x",
         "y": [
          0,
          0,
          0,
          0,
          0,
          0,
          0,
          0,
          0,
          0,
          0,
          0,
          0,
          0,
          0,
          0,
          0,
          0,
          0,
          0,
          0,
          0,
          0,
          0,
          0,
          0,
          0,
          0,
          0,
          0,
          0,
          0,
          0,
          0,
          0,
          0,
          0,
          0,
          0,
          0
         ],
         "yaxis": "y"
        },
        {
         "hovertemplate": "source=on_failure_replacement<br>cost=%{x}<br>source_cost=%{y}<extra></extra>",
         "legendgroup": "on_failure_replacement",
         "line": {
          "color": "rgb(17, 119, 51)",
          "dash": "solid"
         },
         "mode": "lines",
         "name": "on_failure_replacement",
         "orientation": "v",
         "showlegend": true,
         "type": "scatter",
         "x": [
          0,
          0,
          0,
          0,
          100,
          100,
          100,
          100,
          200,
          200,
          200,
          200,
          300,
          300,
          300,
          300,
          400,
          400,
          400,
          400,
          500,
          500,
          500,
          500,
          600,
          600,
          600,
          600,
          700,
          700,
          700,
          700,
          800,
          800,
          800,
          800,
          900,
          900,
          900,
          900
         ],
         "xaxis": "x",
         "y": [
          2000,
          2000,
          2000,
          2000,
          0,
          0,
          0,
          0,
          1000,
          1000,
          1000,
          1000,
          4000,
          4000,
          4000,
          4000,
          3000,
          3000,
          3000,
          3000,
          6000,
          6000,
          6000,
          6000,
          1000,
          1000,
          1000,
          1000,
          3000,
          3000,
          3000,
          3000,
          3000,
          3000,
          3000,
          3000,
          2000,
          2000,
          2000,
          2000
         ],
         "yaxis": "y"
        }
       ],
       "layout": {
        "legend": {
         "title": {
          "text": "source"
         },
         "tracegroupgap": 0
        },
        "template": {
         "data": {
          "bar": [
           {
            "error_x": {
             "color": "#2a3f5f"
            },
            "error_y": {
             "color": "#2a3f5f"
            },
            "marker": {
             "line": {
              "color": "#E5ECF6",
              "width": 0.5
             }
            },
            "type": "bar"
           }
          ],
          "barpolar": [
           {
            "marker": {
             "line": {
              "color": "#E5ECF6",
              "width": 0.5
             }
            },
            "type": "barpolar"
           }
          ],
          "carpet": [
           {
            "aaxis": {
             "endlinecolor": "#2a3f5f",
             "gridcolor": "white",
             "linecolor": "white",
             "minorgridcolor": "white",
             "startlinecolor": "#2a3f5f"
            },
            "baxis": {
             "endlinecolor": "#2a3f5f",
             "gridcolor": "white",
             "linecolor": "white",
             "minorgridcolor": "white",
             "startlinecolor": "#2a3f5f"
            },
            "type": "carpet"
           }
          ],
          "choropleth": [
           {
            "colorbar": {
             "outlinewidth": 0,
             "ticks": ""
            },
            "type": "choropleth"
           }
          ],
          "contour": [
           {
            "colorbar": {
             "outlinewidth": 0,
             "ticks": ""
            },
            "colorscale": [
             [
              0,
              "#0d0887"
             ],
             [
              0.1111111111111111,
              "#46039f"
             ],
             [
              0.2222222222222222,
              "#7201a8"
             ],
             [
              0.3333333333333333,
              "#9c179e"
             ],
             [
              0.4444444444444444,
              "#bd3786"
             ],
             [
              0.5555555555555556,
              "#d8576b"
             ],
             [
              0.6666666666666666,
              "#ed7953"
             ],
             [
              0.7777777777777778,
              "#fb9f3a"
             ],
             [
              0.8888888888888888,
              "#fdca26"
             ],
             [
              1,
              "#f0f921"
             ]
            ],
            "type": "contour"
           }
          ],
          "contourcarpet": [
           {
            "colorbar": {
             "outlinewidth": 0,
             "ticks": ""
            },
            "type": "contourcarpet"
           }
          ],
          "heatmap": [
           {
            "colorbar": {
             "outlinewidth": 0,
             "ticks": ""
            },
            "colorscale": [
             [
              0,
              "#0d0887"
             ],
             [
              0.1111111111111111,
              "#46039f"
             ],
             [
              0.2222222222222222,
              "#7201a8"
             ],
             [
              0.3333333333333333,
              "#9c179e"
             ],
             [
              0.4444444444444444,
              "#bd3786"
             ],
             [
              0.5555555555555556,
              "#d8576b"
             ],
             [
              0.6666666666666666,
              "#ed7953"
             ],
             [
              0.7777777777777778,
              "#fb9f3a"
             ],
             [
              0.8888888888888888,
              "#fdca26"
             ],
             [
              1,
              "#f0f921"
             ]
            ],
            "type": "heatmap"
           }
          ],
          "heatmapgl": [
           {
            "colorbar": {
             "outlinewidth": 0,
             "ticks": ""
            },
            "colorscale": [
             [
              0,
              "#0d0887"
             ],
             [
              0.1111111111111111,
              "#46039f"
             ],
             [
              0.2222222222222222,
              "#7201a8"
             ],
             [
              0.3333333333333333,
              "#9c179e"
             ],
             [
              0.4444444444444444,
              "#bd3786"
             ],
             [
              0.5555555555555556,
              "#d8576b"
             ],
             [
              0.6666666666666666,
              "#ed7953"
             ],
             [
              0.7777777777777778,
              "#fb9f3a"
             ],
             [
              0.8888888888888888,
              "#fdca26"
             ],
             [
              1,
              "#f0f921"
             ]
            ],
            "type": "heatmapgl"
           }
          ],
          "histogram": [
           {
            "marker": {
             "colorbar": {
              "outlinewidth": 0,
              "ticks": ""
             }
            },
            "type": "histogram"
           }
          ],
          "histogram2d": [
           {
            "colorbar": {
             "outlinewidth": 0,
             "ticks": ""
            },
            "colorscale": [
             [
              0,
              "#0d0887"
             ],
             [
              0.1111111111111111,
              "#46039f"
             ],
             [
              0.2222222222222222,
              "#7201a8"
             ],
             [
              0.3333333333333333,
              "#9c179e"
             ],
             [
              0.4444444444444444,
              "#bd3786"
             ],
             [
              0.5555555555555556,
              "#d8576b"
             ],
             [
              0.6666666666666666,
              "#ed7953"
             ],
             [
              0.7777777777777778,
              "#fb9f3a"
             ],
             [
              0.8888888888888888,
              "#fdca26"
             ],
             [
              1,
              "#f0f921"
             ]
            ],
            "type": "histogram2d"
           }
          ],
          "histogram2dcontour": [
           {
            "colorbar": {
             "outlinewidth": 0,
             "ticks": ""
            },
            "colorscale": [
             [
              0,
              "#0d0887"
             ],
             [
              0.1111111111111111,
              "#46039f"
             ],
             [
              0.2222222222222222,
              "#7201a8"
             ],
             [
              0.3333333333333333,
              "#9c179e"
             ],
             [
              0.4444444444444444,
              "#bd3786"
             ],
             [
              0.5555555555555556,
              "#d8576b"
             ],
             [
              0.6666666666666666,
              "#ed7953"
             ],
             [
              0.7777777777777778,
              "#fb9f3a"
             ],
             [
              0.8888888888888888,
              "#fdca26"
             ],
             [
              1,
              "#f0f921"
             ]
            ],
            "type": "histogram2dcontour"
           }
          ],
          "mesh3d": [
           {
            "colorbar": {
             "outlinewidth": 0,
             "ticks": ""
            },
            "type": "mesh3d"
           }
          ],
          "parcoords": [
           {
            "line": {
             "colorbar": {
              "outlinewidth": 0,
              "ticks": ""
             }
            },
            "type": "parcoords"
           }
          ],
          "pie": [
           {
            "automargin": true,
            "type": "pie"
           }
          ],
          "scatter": [
           {
            "marker": {
             "colorbar": {
              "outlinewidth": 0,
              "ticks": ""
             }
            },
            "type": "scatter"
           }
          ],
          "scatter3d": [
           {
            "line": {
             "colorbar": {
              "outlinewidth": 0,
              "ticks": ""
             }
            },
            "marker": {
             "colorbar": {
              "outlinewidth": 0,
              "ticks": ""
             }
            },
            "type": "scatter3d"
           }
          ],
          "scattercarpet": [
           {
            "marker": {
             "colorbar": {
              "outlinewidth": 0,
              "ticks": ""
             }
            },
            "type": "scattercarpet"
           }
          ],
          "scattergeo": [
           {
            "marker": {
             "colorbar": {
              "outlinewidth": 0,
              "ticks": ""
             }
            },
            "type": "scattergeo"
           }
          ],
          "scattergl": [
           {
            "marker": {
             "colorbar": {
              "outlinewidth": 0,
              "ticks": ""
             }
            },
            "type": "scattergl"
           }
          ],
          "scattermapbox": [
           {
            "marker": {
             "colorbar": {
              "outlinewidth": 0,
              "ticks": ""
             }
            },
            "type": "scattermapbox"
           }
          ],
          "scatterpolar": [
           {
            "marker": {
             "colorbar": {
              "outlinewidth": 0,
              "ticks": ""
             }
            },
            "type": "scatterpolar"
           }
          ],
          "scatterpolargl": [
           {
            "marker": {
             "colorbar": {
              "outlinewidth": 0,
              "ticks": ""
             }
            },
            "type": "scatterpolargl"
           }
          ],
          "scatterternary": [
           {
            "marker": {
             "colorbar": {
              "outlinewidth": 0,
              "ticks": ""
             }
            },
            "type": "scatterternary"
           }
          ],
          "surface": [
           {
            "colorbar": {
             "outlinewidth": 0,
             "ticks": ""
            },
            "colorscale": [
             [
              0,
              "#0d0887"
             ],
             [
              0.1111111111111111,
              "#46039f"
             ],
             [
              0.2222222222222222,
              "#7201a8"
             ],
             [
              0.3333333333333333,
              "#9c179e"
             ],
             [
              0.4444444444444444,
              "#bd3786"
             ],
             [
              0.5555555555555556,
              "#d8576b"
             ],
             [
              0.6666666666666666,
              "#ed7953"
             ],
             [
              0.7777777777777778,
              "#fb9f3a"
             ],
             [
              0.8888888888888888,
              "#fdca26"
             ],
             [
              1,
              "#f0f921"
             ]
            ],
            "type": "surface"
           }
          ],
          "table": [
           {
            "cells": {
             "fill": {
              "color": "#EBF0F8"
             },
             "line": {
              "color": "white"
             }
            },
            "header": {
             "fill": {
              "color": "#C8D4E3"
             },
             "line": {
              "color": "white"
             }
            },
            "type": "table"
           }
          ]
         },
         "layout": {
          "annotationdefaults": {
           "arrowcolor": "#2a3f5f",
           "arrowhead": 0,
           "arrowwidth": 1
          },
          "coloraxis": {
           "colorbar": {
            "outlinewidth": 0,
            "ticks": ""
           }
          },
          "colorscale": {
           "diverging": [
            [
             0,
             "#8e0152"
            ],
            [
             0.1,
             "#c51b7d"
            ],
            [
             0.2,
             "#de77ae"
            ],
            [
             0.3,
             "#f1b6da"
            ],
            [
             0.4,
             "#fde0ef"
            ],
            [
             0.5,
             "#f7f7f7"
            ],
            [
             0.6,
             "#e6f5d0"
            ],
            [
             0.7,
             "#b8e186"
            ],
            [
             0.8,
             "#7fbc41"
            ],
            [
             0.9,
             "#4d9221"
            ],
            [
             1,
             "#276419"
            ]
           ],
           "sequential": [
            [
             0,
             "#0d0887"
            ],
            [
             0.1111111111111111,
             "#46039f"
            ],
            [
             0.2222222222222222,
             "#7201a8"
            ],
            [
             0.3333333333333333,
             "#9c179e"
            ],
            [
             0.4444444444444444,
             "#bd3786"
            ],
            [
             0.5555555555555556,
             "#d8576b"
            ],
            [
             0.6666666666666666,
             "#ed7953"
            ],
            [
             0.7777777777777778,
             "#fb9f3a"
            ],
            [
             0.8888888888888888,
             "#fdca26"
            ],
            [
             1,
             "#f0f921"
            ]
           ],
           "sequentialminus": [
            [
             0,
             "#0d0887"
            ],
            [
             0.1111111111111111,
             "#46039f"
            ],
            [
             0.2222222222222222,
             "#7201a8"
            ],
            [
             0.3333333333333333,
             "#9c179e"
            ],
            [
             0.4444444444444444,
             "#bd3786"
            ],
            [
             0.5555555555555556,
             "#d8576b"
            ],
            [
             0.6666666666666666,
             "#ed7953"
            ],
            [
             0.7777777777777778,
             "#fb9f3a"
            ],
            [
             0.8888888888888888,
             "#fdca26"
            ],
            [
             1,
             "#f0f921"
            ]
           ]
          },
          "colorway": [
           "#636efa",
           "#EF553B",
           "#00cc96",
           "#ab63fa",
           "#FFA15A",
           "#19d3f3",
           "#FF6692",
           "#B6E880",
           "#FF97FF",
           "#FECB52"
          ],
          "font": {
           "color": "#2a3f5f"
          },
          "geo": {
           "bgcolor": "white",
           "lakecolor": "white",
           "landcolor": "#E5ECF6",
           "showlakes": true,
           "showland": true,
           "subunitcolor": "white"
          },
          "hoverlabel": {
           "align": "left"
          },
          "hovermode": "closest",
          "mapbox": {
           "style": "light"
          },
          "paper_bgcolor": "white",
          "plot_bgcolor": "#E5ECF6",
          "polar": {
           "angularaxis": {
            "gridcolor": "white",
            "linecolor": "white",
            "ticks": ""
           },
           "bgcolor": "#E5ECF6",
           "radialaxis": {
            "gridcolor": "white",
            "linecolor": "white",
            "ticks": ""
           }
          },
          "scene": {
           "xaxis": {
            "backgroundcolor": "#E5ECF6",
            "gridcolor": "white",
            "gridwidth": 2,
            "linecolor": "white",
            "showbackground": true,
            "ticks": "",
            "zerolinecolor": "white"
           },
           "yaxis": {
            "backgroundcolor": "#E5ECF6",
            "gridcolor": "white",
            "gridwidth": 2,
            "linecolor": "white",
            "showbackground": true,
            "ticks": "",
            "zerolinecolor": "white"
           },
           "zaxis": {
            "backgroundcolor": "#E5ECF6",
            "gridcolor": "white",
            "gridwidth": 2,
            "linecolor": "white",
            "showbackground": true,
            "ticks": "",
            "zerolinecolor": "white"
           }
          },
          "shapedefaults": {
           "line": {
            "color": "#2a3f5f"
           }
          },
          "ternary": {
           "aaxis": {
            "gridcolor": "white",
            "linecolor": "white",
            "ticks": ""
           },
           "baxis": {
            "gridcolor": "white",
            "linecolor": "white",
            "ticks": ""
           },
           "bgcolor": "#E5ECF6",
           "caxis": {
            "gridcolor": "white",
            "linecolor": "white",
            "ticks": ""
           }
          },
          "title": {
           "x": 0.05
          },
          "xaxis": {
           "automargin": true,
           "gridcolor": "white",
           "linecolor": "white",
           "ticks": "",
           "title": {
            "standoff": 15
           },
           "zerolinecolor": "white",
           "zerolinewidth": 2
          },
          "yaxis": {
           "automargin": true,
           "gridcolor": "white",
           "linecolor": "white",
           "ticks": "",
           "title": {
            "standoff": 15
           },
           "zerolinecolor": "white",
           "zerolinewidth": 2
          }
         }
        },
        "title": {
         "text": "Risk v Cost at different Costs"
        },
        "xaxis": {
         "anchor": "y",
         "automargin": true,
         "domain": [
          0,
          1
         ],
         "title": {
          "text": "cost"
         }
        },
        "yaxis": {
         "anchor": "x",
         "automargin": true,
         "domain": [
          0,
          1
         ],
         "title": {
          "text": "source_cost"
         }
        }
       }
      }
     },
     "metadata": {}
    }
   ],
   "source": [
    "#only early_life\n",
    "fig = figures.make_sensitivity_fig(comp, var_name = \"comp-fm-early_life-tasks-inspection-cost\", lower=0, upper=1000, step_size=100, n_iterations=10)\n",
    "fig.show()"
   ]
  },
  {
   "cell_type": "code",
   "execution_count": 25,
   "metadata": {
    "tags": []
   },
   "outputs": [
    {
     "output_type": "stream",
     "name": "stderr",
     "text": [
      "100%|██████████| 100/100 [00:01<00:00, 96.10it/s]\n",
      "100%|██████████| 100/100 [00:00<00:00, 104.91it/s]\n",
      "100%|██████████| 100/100 [00:00<00:00, 108.42it/s]\n",
      "100%|██████████| 100/100 [00:00<00:00, 111.00it/s]\n",
      "100%|██████████| 100/100 [00:01<00:00, 85.97it/s]\n",
      "100%|██████████| 100/100 [00:00<00:00, 100.71it/s]\n",
      "100%|██████████| 100/100 [00:01<00:00, 90.52it/s]\n",
      "100%|██████████| 100/100 [00:01<00:00, 93.49it/s]\n",
      "100%|██████████| 100/100 [00:01<00:00, 96.94it/s]\n",
      "100%|██████████| 100/100 [00:01<00:00, 93.28it/s]\n"
     ]
    },
    {
     "output_type": "display_data",
     "data": {
      "application/vnd.plotly.v1+json": {
       "config": {
        "plotlyServerURL": "https://plot.ly"
       },
       "data": [
        {
         "hovertemplate": "source=inspection<br>alpha=%{x}<br>source_cost=%{y}<extra></extra>",
         "legendgroup": "inspection",
         "line": {
          "color": "rgb(136, 204, 238)",
          "dash": "solid"
         },
         "mode": "lines",
         "name": "inspection",
         "orientation": "v",
         "showlegend": true,
         "type": "scatter",
         "x": [
          0,
          0,
          0,
          0,
          1,
          1,
          1,
          1,
          2,
          2,
          2,
          2,
          3,
          3,
          3,
          3,
          4,
          4,
          4,
          4,
          5,
          5,
          5,
          5,
          6,
          6,
          6,
          6,
          7,
          7,
          7,
          7,
          8,
          8,
          8,
          8,
          9,
          9,
          9,
          9
         ],
         "xaxis": "x",
         "y": [
          7951,
          7951,
          7951,
          7951,
          7652,
          7652,
          7652,
          7652,
          8700,
          8700,
          8700,
          8700,
          8849,
          8849,
          8849,
          8849,
          9800,
          9800,
          9800,
          9800,
          10614,
          10614,
          10614,
          10614,
          10449,
          10449,
          10449,
          10449,
          11006,
          11006,
          11006,
          11006,
          11657,
          11657,
          11657,
          11657,
          11859,
          11859,
          11859,
          11859
         ],
         "yaxis": "y"
        },
        {
         "hovertemplate": "source=on_condition_repair<br>alpha=%{x}<br>source_cost=%{y}<extra></extra>",
         "legendgroup": "on_condition_repair",
         "line": {
          "color": "rgb(204, 102, 119)",
          "dash": "solid"
         },
         "mode": "lines",
         "name": "on_condition_repair",
         "orientation": "v",
         "showlegend": true,
         "type": "scatter",
         "x": [
          0,
          0,
          1,
          1,
          2,
          2,
          3,
          3,
          4,
          4,
          5,
          5,
          6,
          6,
          7,
          7,
          8,
          8,
          9,
          9
         ],
         "xaxis": "x",
         "y": [
          325,
          325,
          217,
          217,
          247,
          247,
          277,
          277,
          269,
          269,
          300,
          300,
          244,
          244,
          244,
          244,
          282,
          282,
          257,
          257
         ],
         "yaxis": "y"
        },
        {
         "hovertemplate": "source=on_condition_replacement<br>alpha=%{x}<br>source_cost=%{y}<extra></extra>",
         "legendgroup": "on_condition_replacement",
         "line": {
          "color": "rgb(221, 204, 119)",
          "dash": "solid"
         },
         "mode": "lines",
         "name": "on_condition_replacement",
         "orientation": "v",
         "showlegend": true,
         "type": "scatter",
         "x": [
          0,
          0,
          0,
          0,
          1,
          1,
          1,
          1,
          2,
          2,
          2,
          2,
          3,
          3,
          3,
          3,
          4,
          4,
          4,
          4,
          5,
          5,
          5,
          5,
          6,
          6,
          6,
          6,
          7,
          7,
          7,
          7,
          8,
          8,
          8,
          8,
          9,
          9,
          9,
          9
         ],
         "xaxis": "x",
         "y": [
          950,
          950,
          950,
          950,
          250,
          250,
          250,
          250,
          400,
          400,
          400,
          400,
          850,
          850,
          850,
          850,
          1150,
          1150,
          1150,
          1150,
          1050,
          1050,
          1050,
          1050,
          450,
          450,
          450,
          450,
          400,
          400,
          400,
          400,
          400,
          400,
          400,
          400,
          700,
          700,
          700,
          700
         ],
         "yaxis": "y"
        },
        {
         "hovertemplate": "source=on_failure_replacement<br>alpha=%{x}<br>source_cost=%{y}<extra></extra>",
         "legendgroup": "on_failure_replacement",
         "line": {
          "color": "rgb(17, 119, 51)",
          "dash": "solid"
         },
         "mode": "lines",
         "name": "on_failure_replacement",
         "orientation": "v",
         "showlegend": true,
         "type": "scatter",
         "x": [
          0,
          0,
          0,
          0,
          1,
          1,
          1,
          1,
          2,
          2,
          2,
          2,
          3,
          3,
          3,
          3,
          4,
          4,
          4,
          4,
          5,
          5,
          5,
          5,
          6,
          6,
          6,
          6,
          7,
          7,
          7,
          7,
          8,
          8,
          8,
          8,
          9,
          9,
          9,
          9
         ],
         "xaxis": "x",
         "y": [
          9000,
          9000,
          9000,
          9000,
          9500,
          9500,
          9500,
          9500,
          9600,
          9600,
          9600,
          9600,
          9200,
          9200,
          9200,
          9200,
          8900,
          8900,
          8900,
          8900,
          8900,
          8900,
          8900,
          8900,
          9300,
          9300,
          9300,
          9300,
          9500,
          9500,
          9500,
          9500,
          9400,
          9400,
          9400,
          9400,
          9000,
          9000,
          9000,
          9000
         ],
         "yaxis": "y"
        }
       ],
       "layout": {
        "legend": {
         "title": {
          "text": "source"
         },
         "tracegroupgap": 0
        },
        "template": {
         "data": {
          "bar": [
           {
            "error_x": {
             "color": "#2a3f5f"
            },
            "error_y": {
             "color": "#2a3f5f"
            },
            "marker": {
             "line": {
              "color": "#E5ECF6",
              "width": 0.5
             }
            },
            "type": "bar"
           }
          ],
          "barpolar": [
           {
            "marker": {
             "line": {
              "color": "#E5ECF6",
              "width": 0.5
             }
            },
            "type": "barpolar"
           }
          ],
          "carpet": [
           {
            "aaxis": {
             "endlinecolor": "#2a3f5f",
             "gridcolor": "white",
             "linecolor": "white",
             "minorgridcolor": "white",
             "startlinecolor": "#2a3f5f"
            },
            "baxis": {
             "endlinecolor": "#2a3f5f",
             "gridcolor": "white",
             "linecolor": "white",
             "minorgridcolor": "white",
             "startlinecolor": "#2a3f5f"
            },
            "type": "carpet"
           }
          ],
          "choropleth": [
           {
            "colorbar": {
             "outlinewidth": 0,
             "ticks": ""
            },
            "type": "choropleth"
           }
          ],
          "contour": [
           {
            "colorbar": {
             "outlinewidth": 0,
             "ticks": ""
            },
            "colorscale": [
             [
              0,
              "#0d0887"
             ],
             [
              0.1111111111111111,
              "#46039f"
             ],
             [
              0.2222222222222222,
              "#7201a8"
             ],
             [
              0.3333333333333333,
              "#9c179e"
             ],
             [
              0.4444444444444444,
              "#bd3786"
             ],
             [
              0.5555555555555556,
              "#d8576b"
             ],
             [
              0.6666666666666666,
              "#ed7953"
             ],
             [
              0.7777777777777778,
              "#fb9f3a"
             ],
             [
              0.8888888888888888,
              "#fdca26"
             ],
             [
              1,
              "#f0f921"
             ]
            ],
            "type": "contour"
           }
          ],
          "contourcarpet": [
           {
            "colorbar": {
             "outlinewidth": 0,
             "ticks": ""
            },
            "type": "contourcarpet"
           }
          ],
          "heatmap": [
           {
            "colorbar": {
             "outlinewidth": 0,
             "ticks": ""
            },
            "colorscale": [
             [
              0,
              "#0d0887"
             ],
             [
              0.1111111111111111,
              "#46039f"
             ],
             [
              0.2222222222222222,
              "#7201a8"
             ],
             [
              0.3333333333333333,
              "#9c179e"
             ],
             [
              0.4444444444444444,
              "#bd3786"
             ],
             [
              0.5555555555555556,
              "#d8576b"
             ],
             [
              0.6666666666666666,
              "#ed7953"
             ],
             [
              0.7777777777777778,
              "#fb9f3a"
             ],
             [
              0.8888888888888888,
              "#fdca26"
             ],
             [
              1,
              "#f0f921"
             ]
            ],
            "type": "heatmap"
           }
          ],
          "heatmapgl": [
           {
            "colorbar": {
             "outlinewidth": 0,
             "ticks": ""
            },
            "colorscale": [
             [
              0,
              "#0d0887"
             ],
             [
              0.1111111111111111,
              "#46039f"
             ],
             [
              0.2222222222222222,
              "#7201a8"
             ],
             [
              0.3333333333333333,
              "#9c179e"
             ],
             [
              0.4444444444444444,
              "#bd3786"
             ],
             [
              0.5555555555555556,
              "#d8576b"
             ],
             [
              0.6666666666666666,
              "#ed7953"
             ],
             [
              0.7777777777777778,
              "#fb9f3a"
             ],
             [
              0.8888888888888888,
              "#fdca26"
             ],
             [
              1,
              "#f0f921"
             ]
            ],
            "type": "heatmapgl"
           }
          ],
          "histogram": [
           {
            "marker": {
             "colorbar": {
              "outlinewidth": 0,
              "ticks": ""
             }
            },
            "type": "histogram"
           }
          ],
          "histogram2d": [
           {
            "colorbar": {
             "outlinewidth": 0,
             "ticks": ""
            },
            "colorscale": [
             [
              0,
              "#0d0887"
             ],
             [
              0.1111111111111111,
              "#46039f"
             ],
             [
              0.2222222222222222,
              "#7201a8"
             ],
             [
              0.3333333333333333,
              "#9c179e"
             ],
             [
              0.4444444444444444,
              "#bd3786"
             ],
             [
              0.5555555555555556,
              "#d8576b"
             ],
             [
              0.6666666666666666,
              "#ed7953"
             ],
             [
              0.7777777777777778,
              "#fb9f3a"
             ],
             [
              0.8888888888888888,
              "#fdca26"
             ],
             [
              1,
              "#f0f921"
             ]
            ],
            "type": "histogram2d"
           }
          ],
          "histogram2dcontour": [
           {
            "colorbar": {
             "outlinewidth": 0,
             "ticks": ""
            },
            "colorscale": [
             [
              0,
              "#0d0887"
             ],
             [
              0.1111111111111111,
              "#46039f"
             ],
             [
              0.2222222222222222,
              "#7201a8"
             ],
             [
              0.3333333333333333,
              "#9c179e"
             ],
             [
              0.4444444444444444,
              "#bd3786"
             ],
             [
              0.5555555555555556,
              "#d8576b"
             ],
             [
              0.6666666666666666,
              "#ed7953"
             ],
             [
              0.7777777777777778,
              "#fb9f3a"
             ],
             [
              0.8888888888888888,
              "#fdca26"
             ],
             [
              1,
              "#f0f921"
             ]
            ],
            "type": "histogram2dcontour"
           }
          ],
          "mesh3d": [
           {
            "colorbar": {
             "outlinewidth": 0,
             "ticks": ""
            },
            "type": "mesh3d"
           }
          ],
          "parcoords": [
           {
            "line": {
             "colorbar": {
              "outlinewidth": 0,
              "ticks": ""
             }
            },
            "type": "parcoords"
           }
          ],
          "pie": [
           {
            "automargin": true,
            "type": "pie"
           }
          ],
          "scatter": [
           {
            "marker": {
             "colorbar": {
              "outlinewidth": 0,
              "ticks": ""
             }
            },
            "type": "scatter"
           }
          ],
          "scatter3d": [
           {
            "line": {
             "colorbar": {
              "outlinewidth": 0,
              "ticks": ""
             }
            },
            "marker": {
             "colorbar": {
              "outlinewidth": 0,
              "ticks": ""
             }
            },
            "type": "scatter3d"
           }
          ],
          "scattercarpet": [
           {
            "marker": {
             "colorbar": {
              "outlinewidth": 0,
              "ticks": ""
             }
            },
            "type": "scattercarpet"
           }
          ],
          "scattergeo": [
           {
            "marker": {
             "colorbar": {
              "outlinewidth": 0,
              "ticks": ""
             }
            },
            "type": "scattergeo"
           }
          ],
          "scattergl": [
           {
            "marker": {
             "colorbar": {
              "outlinewidth": 0,
              "ticks": ""
             }
            },
            "type": "scattergl"
           }
          ],
          "scattermapbox": [
           {
            "marker": {
             "colorbar": {
              "outlinewidth": 0,
              "ticks": ""
             }
            },
            "type": "scattermapbox"
           }
          ],
          "scatterpolar": [
           {
            "marker": {
             "colorbar": {
              "outlinewidth": 0,
              "ticks": ""
             }
            },
            "type": "scatterpolar"
           }
          ],
          "scatterpolargl": [
           {
            "marker": {
             "colorbar": {
              "outlinewidth": 0,
              "ticks": ""
             }
            },
            "type": "scatterpolargl"
           }
          ],
          "scatterternary": [
           {
            "marker": {
             "colorbar": {
              "outlinewidth": 0,
              "ticks": ""
             }
            },
            "type": "scatterternary"
           }
          ],
          "surface": [
           {
            "colorbar": {
             "outlinewidth": 0,
             "ticks": ""
            },
            "colorscale": [
             [
              0,
              "#0d0887"
             ],
             [
              0.1111111111111111,
              "#46039f"
             ],
             [
              0.2222222222222222,
              "#7201a8"
             ],
             [
              0.3333333333333333,
              "#9c179e"
             ],
             [
              0.4444444444444444,
              "#bd3786"
             ],
             [
              0.5555555555555556,
              "#d8576b"
             ],
             [
              0.6666666666666666,
              "#ed7953"
             ],
             [
              0.7777777777777778,
              "#fb9f3a"
             ],
             [
              0.8888888888888888,
              "#fdca26"
             ],
             [
              1,
              "#f0f921"
             ]
            ],
            "type": "surface"
           }
          ],
          "table": [
           {
            "cells": {
             "fill": {
              "color": "#EBF0F8"
             },
             "line": {
              "color": "white"
             }
            },
            "header": {
             "fill": {
              "color": "#C8D4E3"
             },
             "line": {
              "color": "white"
             }
            },
            "type": "table"
           }
          ]
         },
         "layout": {
          "annotationdefaults": {
           "arrowcolor": "#2a3f5f",
           "arrowhead": 0,
           "arrowwidth": 1
          },
          "coloraxis": {
           "colorbar": {
            "outlinewidth": 0,
            "ticks": ""
           }
          },
          "colorscale": {
           "diverging": [
            [
             0,
             "#8e0152"
            ],
            [
             0.1,
             "#c51b7d"
            ],
            [
             0.2,
             "#de77ae"
            ],
            [
             0.3,
             "#f1b6da"
            ],
            [
             0.4,
             "#fde0ef"
            ],
            [
             0.5,
             "#f7f7f7"
            ],
            [
             0.6,
             "#e6f5d0"
            ],
            [
             0.7,
             "#b8e186"
            ],
            [
             0.8,
             "#7fbc41"
            ],
            [
             0.9,
             "#4d9221"
            ],
            [
             1,
             "#276419"
            ]
           ],
           "sequential": [
            [
             0,
             "#0d0887"
            ],
            [
             0.1111111111111111,
             "#46039f"
            ],
            [
             0.2222222222222222,
             "#7201a8"
            ],
            [
             0.3333333333333333,
             "#9c179e"
            ],
            [
             0.4444444444444444,
             "#bd3786"
            ],
            [
             0.5555555555555556,
             "#d8576b"
            ],
            [
             0.6666666666666666,
             "#ed7953"
            ],
            [
             0.7777777777777778,
             "#fb9f3a"
            ],
            [
             0.8888888888888888,
             "#fdca26"
            ],
            [
             1,
             "#f0f921"
            ]
           ],
           "sequentialminus": [
            [
             0,
             "#0d0887"
            ],
            [
             0.1111111111111111,
             "#46039f"
            ],
            [
             0.2222222222222222,
             "#7201a8"
            ],
            [
             0.3333333333333333,
             "#9c179e"
            ],
            [
             0.4444444444444444,
             "#bd3786"
            ],
            [
             0.5555555555555556,
             "#d8576b"
            ],
            [
             0.6666666666666666,
             "#ed7953"
            ],
            [
             0.7777777777777778,
             "#fb9f3a"
            ],
            [
             0.8888888888888888,
             "#fdca26"
            ],
            [
             1,
             "#f0f921"
            ]
           ]
          },
          "colorway": [
           "#636efa",
           "#EF553B",
           "#00cc96",
           "#ab63fa",
           "#FFA15A",
           "#19d3f3",
           "#FF6692",
           "#B6E880",
           "#FF97FF",
           "#FECB52"
          ],
          "font": {
           "color": "#2a3f5f"
          },
          "geo": {
           "bgcolor": "white",
           "lakecolor": "white",
           "landcolor": "#E5ECF6",
           "showlakes": true,
           "showland": true,
           "subunitcolor": "white"
          },
          "hoverlabel": {
           "align": "left"
          },
          "hovermode": "closest",
          "mapbox": {
           "style": "light"
          },
          "paper_bgcolor": "white",
          "plot_bgcolor": "#E5ECF6",
          "polar": {
           "angularaxis": {
            "gridcolor": "white",
            "linecolor": "white",
            "ticks": ""
           },
           "bgcolor": "#E5ECF6",
           "radialaxis": {
            "gridcolor": "white",
            "linecolor": "white",
            "ticks": ""
           }
          },
          "scene": {
           "xaxis": {
            "backgroundcolor": "#E5ECF6",
            "gridcolor": "white",
            "gridwidth": 2,
            "linecolor": "white",
            "showbackground": true,
            "ticks": "",
            "zerolinecolor": "white"
           },
           "yaxis": {
            "backgroundcolor": "#E5ECF6",
            "gridcolor": "white",
            "gridwidth": 2,
            "linecolor": "white",
            "showbackground": true,
            "ticks": "",
            "zerolinecolor": "white"
           },
           "zaxis": {
            "backgroundcolor": "#E5ECF6",
            "gridcolor": "white",
            "gridwidth": 2,
            "linecolor": "white",
            "showbackground": true,
            "ticks": "",
            "zerolinecolor": "white"
           }
          },
          "shapedefaults": {
           "line": {
            "color": "#2a3f5f"
           }
          },
          "ternary": {
           "aaxis": {
            "gridcolor": "white",
            "linecolor": "white",
            "ticks": ""
           },
           "baxis": {
            "gridcolor": "white",
            "linecolor": "white",
            "ticks": ""
           },
           "bgcolor": "#E5ECF6",
           "caxis": {
            "gridcolor": "white",
            "linecolor": "white",
            "ticks": ""
           }
          },
          "title": {
           "x": 0.05
          },
          "xaxis": {
           "automargin": true,
           "gridcolor": "white",
           "linecolor": "white",
           "ticks": "",
           "title": {
            "standoff": 15
           },
           "zerolinecolor": "white",
           "zerolinewidth": 2
          },
          "yaxis": {
           "automargin": true,
           "gridcolor": "white",
           "linecolor": "white",
           "ticks": "",
           "title": {
            "standoff": 15
           },
           "zerolinecolor": "white",
           "zerolinewidth": 2
          }
         }
        },
        "title": {
         "text": "Risk v Cost at different Alphas"
        },
        "xaxis": {
         "anchor": "y",
         "automargin": true,
         "domain": [
          0,
          1
         ],
         "title": {
          "text": "alpha"
         }
        },
        "yaxis": {
         "anchor": "x",
         "automargin": true,
         "domain": [
          0,
          1
         ],
         "title": {
          "text": "source_cost"
         }
        }
       }
      }
     },
     "metadata": {}
    }
   ],
   "source": [
    "fig = figures.make_sensitivity_fig(comp, var_name = \"comp-fm-fast_aging-dists-untreated-alpha\", lower=0, upper=10, step_size=1, n_iterations=100)\n",
    "fig.show()"
   ]
  },
  {
   "cell_type": "code",
   "execution_count": 24,
   "metadata": {},
   "outputs": [],
   "source": [
    "# comp.fm[\"fast_aging\"].tasks[\"inspection\"].cost = 0\n",
    "# comp.fm[\"fast_aging\"].tasks[\"inspection\"].cost"
   ]
  },
  {
   "cell_type": "code",
   "execution_count": 39,
   "metadata": {},
   "outputs": [
    {
     "output_type": "execute_result",
     "data": {
      "text/plain": [
       "{'fast_aging': {'risk': {'time': array([49, 53, 55, 61, 62, 63, 66, 67, 68, 69, 71, 72, 73, 77],\n",
       "         dtype=int64),\n",
       "   'cost': array([ 500.,  500.,  500.,  500., 2000.,  500., 1000., 1500., 1500.,\n",
       "           500.,  500., 1000.,  500.,  500.]),\n",
       "   'task_active': True,\n",
       "   'fm_active': True},\n",
       "  'inspection': {'time': array([ 10,  16,  22,  28,  34,  40,  46,  52,  58,  64,  70,  76,  82,\n",
       "           88,  94, 100]),\n",
       "   'cost': array([0., 0., 0., 0., 0., 0., 0., 0., 0., 0., 0., 0., 0., 0., 0., 0.]),\n",
       "   'task_active': True,\n",
       "   'fm_active': True},\n",
       "  'on_condition_repair': {'time': array([35, 42, 47, 48, 53, 54, 55, 56, 59, 60, 61, 65, 66, 67, 71, 72]),\n",
       "   'cost': array([ 1.,  1.,  3.,  2., 14.,  4.,  3.,  1., 17., 12.,  1., 29.,  9.,\n",
       "           1., 10.,  2.]),\n",
       "   'task_active': True,\n",
       "   'fm_active': True},\n",
       "  'on_condition_replacement': {'time': array([], dtype=float64),\n",
       "   'cost': array([], dtype=float64),\n",
       "   'task_active': True,\n",
       "   'fm_active': True},\n",
       "  'on_failure_replacement': {'time': array([49, 53, 55, 61, 62, 63, 66, 67, 68, 69, 71, 72, 73, 77]),\n",
       "   'cost': array([100., 100., 100., 100., 400., 100., 200., 300., 300., 100., 100.,\n",
       "          200., 100., 100.]),\n",
       "   'task_active': True,\n",
       "   'fm_active': True}}}"
      ]
     },
     "metadata": {},
     "execution_count": 39
    }
   ],
   "source": [
    "comp.expected_risk_cost()"
   ]
  },
  {
   "cell_type": "code",
   "execution_count": 40,
   "metadata": {},
   "outputs": [
    {
     "output_type": "execute_result",
     "data": {
      "text/plain": [
       "1000"
      ]
     },
     "metadata": {},
     "execution_count": 40
    }
   ],
   "source": [
    "comp.fm[\"fast_aging\"].tasks[\"inspection\"].cost = 1000\n",
    "comp.fm[\"fast_aging\"].tasks[\"inspection\"].cost"
   ]
  },
  {
   "cell_type": "code",
   "execution_count": 41,
   "metadata": {
    "tags": []
   },
   "outputs": [
    {
     "output_type": "stream",
     "name": "stderr",
     "text": [
      "100%|██████████| 100/100 [00:01<00:00, 90.15it/s]\n"
     ]
    }
   ],
   "source": [
    "comp.mc_timeline(100)"
   ]
  },
  {
   "cell_type": "code",
   "execution_count": 42,
   "metadata": {},
   "outputs": [
    {
     "output_type": "execute_result",
     "data": {
      "text/plain": [
       "{'fast_aging': {'risk': {'time': array([54, 55, 60, 61, 64, 65, 67, 68, 69, 70, 72, 73, 77], dtype=int64),\n",
       "   'cost': array([1000., 1000.,  500., 1000.,  500.,  500., 1000.,  500.,  500.,\n",
       "          1500.,  500.,  500.,  500.]),\n",
       "   'task_active': True,\n",
       "   'fm_active': True},\n",
       "  'inspection': {'time': array([ 10,  16,  22,  28,  34,  40,  46,  52,  58,  64,  70,  76,  82,\n",
       "           88,  94, 100]),\n",
       "   'cost': array([1000., 1000., 1000., 1000., 1000., 1000., 1000., 1000.,  960.,\n",
       "           930.,  870.,  820.,  810.,  810.,  810.,  810.]),\n",
       "   'task_active': True,\n",
       "   'fm_active': True},\n",
       "  'on_condition_repair': {'time': array([47, 53, 54, 55, 59, 60, 61, 62, 65, 66, 67, 71, 72]),\n",
       "   'cost': array([ 1.,  5.,  2.,  1., 26., 11.,  3.,  1., 27., 13.,  4., 14.,  3.]),\n",
       "   'task_active': True,\n",
       "   'fm_active': True},\n",
       "  'on_condition_replacement': {'time': array([], dtype=float64),\n",
       "   'cost': array([], dtype=float64),\n",
       "   'task_active': True,\n",
       "   'fm_active': True},\n",
       "  'on_failure_replacement': {'time': array([54, 55, 60, 61, 64, 65, 67, 68, 69, 70, 72, 73, 77]),\n",
       "   'cost': array([200., 200., 100., 200., 100., 100., 200., 100., 100., 300., 100.,\n",
       "          100., 100.]),\n",
       "   'task_active': True,\n",
       "   'fm_active': True}}}"
      ]
     },
     "metadata": {},
     "execution_count": 42
    }
   ],
   "source": [
    "comp.expected_risk_cost()"
   ]
  },
  {
   "cell_type": "code",
   "execution_count": 43,
   "metadata": {},
   "outputs": [
    {
     "output_type": "execute_result",
     "data": {
      "text/plain": [
       "{'_name': 'fast_aging',\n",
       " 'units': 'years',\n",
       " 'up_to_date': True,\n",
       " 'dists': {'untreated': Distribution(name=untreated, alpha=50.0, beta=10.0, gamma=10.0,\n",
       "  'init': Distribution(name=init, alpha=50.0, beta=10.0, gamma=10.0},\n",
       " 'indicators': {'slow_degrading': <pof.indicator.ConditionIndicator at 0x2ba09c7c2b0>,\n",
       "  'fast_degrading': <pof.indicator.ConditionIndicator at 0x2ba09d04bb0>},\n",
       " 'conditions': {'slow_degrading': {'name': 'slow_degrading',\n",
       "   'perfect': 100,\n",
       "   'failed': 0,\n",
       "   'pf_curve': 'linear',\n",
       "   'pf_interval': 15,\n",
       "   'pf_std': 0.5},\n",
       "  'fast_degrading': {'name': 'fast_degrading',\n",
       "   'perfect': 100,\n",
       "   'failed': 0,\n",
       "   'pf_curve': 'linear',\n",
       "   'pf_interval': 8,\n",
       "   'pf_std': 0.5}},\n",
       " 'consequences': {},\n",
       " 'tasks': {'inspection': <pof.task.Inspection at 0x2ba09da6760>,\n",
       "  'on_condition_repair': <pof.task.ConditionTask at 0x2ba09da6640>,\n",
       "  'on_condition_replacement': <pof.task.ConditionTask at 0x2ba09da6100>,\n",
       "  'on_failure_replacement': <pof.task.ConditionTask at 0x2ba09da6340>},\n",
       " 'init_states': {'initiation': False, 'detection': False, 'failure': False},\n",
       " 'states': {'initiation': False, 'detection': False, 'failure': False},\n",
       " 'active': True,\n",
       " '_pf_curve': 'step',\n",
       " '_pf_interval': 0,\n",
       " 'pf_std': 0,\n",
       " 'conditions_to_update': set(),\n",
       " 'consequence': <pof.consequence.Consequence at 0x2ba09da6280>,\n",
       " 'timeline': {},\n",
       " '_timelines': {},\n",
       " '_sim_counter': 100,\n",
       " '_t_failures': [72,\n",
       "  73,\n",
       "  70,\n",
       "  54,\n",
       "  67,\n",
       "  67,\n",
       "  64,\n",
       "  61,\n",
       "  70,\n",
       "  77,\n",
       "  55,\n",
       "  65,\n",
       "  55,\n",
       "  68,\n",
       "  69,\n",
       "  60,\n",
       "  61,\n",
       "  54,\n",
       "  70],\n",
       " '_risk_failures': [],\n",
       " 'in_service': True}"
      ]
     },
     "metadata": {},
     "execution_count": 43
    }
   ],
   "source": [
    "comp.fm[\"fast_aging\"].timeline = {}\n",
    "comp.fm[\"fast_aging\"]._timelines = {}\n",
    "comp.fm[\"fast_aging\"].__dict__"
   ]
  },
  {
   "cell_type": "code",
   "execution_count": 26,
   "metadata": {
    "tags": []
   },
   "outputs": [
    {
     "output_type": "stream",
     "name": "stderr",
     "text": [
      "100%|██████████| 100/100 [00:01<00:00, 53.34it/s]\n",
      "100%|██████████| 100/100 [00:01<00:00, 67.92it/s]\n",
      "100%|██████████| 100/100 [00:01<00:00, 77.13it/s]\n",
      "100%|██████████| 100/100 [00:02<00:00, 45.13it/s]\n",
      "100%|██████████| 100/100 [00:01<00:00, 79.42it/s]\n"
     ]
    }
   ],
   "source": [
    "df = comp.expected_sensitivity(\"comp-fm-early_life-tasks-inspection-cost\", 50, 55)"
   ]
  },
  {
   "cell_type": "code",
   "execution_count": 37,
   "metadata": {},
   "outputs": [],
   "source": [
    "from pof.failure_mode import FailureMode\n",
    "import pof.demo as demo\n",
    "\n",
    "fm = FailureMode.from_dict(demo.failure_mode_data[\"random\"])\n",
    "fm.name = \"fm\""
   ]
  },
  {
   "cell_type": "code",
   "execution_count": 26,
   "metadata": {
    "tags": []
   },
   "outputs": [
    {
     "output_type": "stream",
     "name": "stderr",
     "text": "100%|██████████| 10/10 [00:00<00:00, 113.63it/s]\n100%|██████████| 10/10 [00:00<00:00, 123.47it/s]\n100%|██████████| 10/10 [00:00<00:00, 153.85it/s]\n100%|██████████| 10/10 [00:00<00:00, 138.90it/s]\n"
    }
   ],
   "source": [
    "df = fm.sensitivity(\"fm-dists-untreated-alpha\", 0, 5)"
   ]
  },
  {
   "cell_type": "code",
   "execution_count": 4,
   "metadata": {},
   "outputs": [
    {
     "output_type": "execute_result",
     "data": {
      "text/plain": "   alpha  direct_cost  risk_cost  total\n1      1         1600       5000   6600\n2      2          540          0    540\n3      3          526       1666   2192\n4      4          510       2500   3010",
      "text/html": "<div>\n<style scoped>\n    .dataframe tbody tr th:only-of-type {\n        vertical-align: middle;\n    }\n\n    .dataframe tbody tr th {\n        vertical-align: top;\n    }\n\n    .dataframe thead th {\n        text-align: right;\n    }\n</style>\n<table border=\"1\" class=\"dataframe\">\n  <thead>\n    <tr style=\"text-align: right;\">\n      <th></th>\n      <th>alpha</th>\n      <th>direct_cost</th>\n      <th>risk_cost</th>\n      <th>total</th>\n    </tr>\n  </thead>\n  <tbody>\n    <tr>\n      <th>1</th>\n      <td>1</td>\n      <td>1600</td>\n      <td>5000</td>\n      <td>6600</td>\n    </tr>\n    <tr>\n      <th>2</th>\n      <td>2</td>\n      <td>540</td>\n      <td>0</td>\n      <td>540</td>\n    </tr>\n    <tr>\n      <th>3</th>\n      <td>3</td>\n      <td>526</td>\n      <td>1666</td>\n      <td>2192</td>\n    </tr>\n    <tr>\n      <th>4</th>\n      <td>4</td>\n      <td>510</td>\n      <td>2500</td>\n      <td>3010</td>\n    </tr>\n  </tbody>\n</table>\n</div>"
     },
     "metadata": {},
     "execution_count": 4
    }
   ],
   "source": [
    "df"
   ]
  },
  {
   "cell_type": "code",
   "execution_count": 40,
   "metadata": {
    "tags": []
   },
   "outputs": [
    {
     "output_type": "stream",
     "name": "stderr",
     "text": "100%|██████████| 20/20 [00:00<00:00, 178.57it/s]\n100%|██████████| 20/20 [00:00<00:00, 186.92it/s]\n100%|██████████| 20/20 [00:00<00:00, 175.48it/s]\n100%|██████████| 20/20 [00:00<00:00, 180.17it/s]\n100%|██████████| 20/20 [00:00<00:00, 170.94it/s]\n100%|██████████| 20/20 [00:00<00:00, 190.46it/s]\n100%|██████████| 20/20 [00:00<00:00, 196.07it/s]\n100%|██████████| 20/20 [00:00<00:00, 172.38it/s]\n100%|██████████| 20/20 [00:00<00:00, 163.93it/s]\n100%|██████████| 20/20 [00:00<00:00, 188.67it/s]\n"
    },
    {
     "output_type": "display_data",
     "data": {
      "application/vnd.plotly.v1+json": {
       "config": {
        "plotlyServerURL": "https://plot.ly"
       },
       "data": [
        {
         "hovertemplate": "source=direct_cost<br>cost=%{x}<br>Cost=%{y}<extra></extra>",
         "legendgroup": "direct_cost",
         "line": {
          "color": "#636efa",
          "dash": "solid"
         },
         "mode": "lines",
         "name": "direct_cost",
         "orientation": "v",
         "showlegend": true,
         "type": "scatter",
         "x": [
          1,
          101,
          201,
          301,
          401,
          501,
          601,
          701,
          801,
          901
         ],
         "xaxis": "x",
         "y": [
          2,
          26,
          44,
          68,
          86,
          108,
          124,
          148,
          160,
          186
         ],
         "yaxis": "y"
        },
        {
         "hovertemplate": "source=risk_cost<br>cost=%{x}<br>Cost=%{y}<extra></extra>",
         "legendgroup": "risk_cost",
         "line": {
          "color": "#EF553B",
          "dash": "solid"
         },
         "mode": "lines",
         "name": "risk_cost",
         "orientation": "v",
         "showlegend": true,
         "type": "scatter",
         "x": [
          1,
          101,
          201,
          301,
          401,
          501,
          601,
          701,
          801,
          901
         ],
         "xaxis": "x",
         "y": [
          29,
          84,
          84,
          112,
          81,
          108,
          54,
          104,
          0,
          78
         ],
         "yaxis": "y"
        },
        {
         "hovertemplate": "source=total<br>cost=%{x}<br>Cost=%{y}<extra></extra>",
         "legendgroup": "total",
         "line": {
          "color": "#00cc96",
          "dash": "solid"
         },
         "mode": "lines",
         "name": "total",
         "orientation": "v",
         "showlegend": true,
         "type": "scatter",
         "x": [
          1,
          101,
          201,
          301,
          401,
          501,
          601,
          701,
          801,
          901
         ],
         "xaxis": "x",
         "y": [
          31,
          110,
          128,
          180,
          167,
          216,
          178,
          252,
          160,
          264
         ],
         "yaxis": "y"
        }
       ],
       "layout": {
        "legend": {
         "title": {
          "text": "source"
         },
         "tracegroupgap": 0
        },
        "template": {
         "data": {
          "bar": [
           {
            "error_x": {
             "color": "#2a3f5f"
            },
            "error_y": {
             "color": "#2a3f5f"
            },
            "marker": {
             "line": {
              "color": "#E5ECF6",
              "width": 0.5
             }
            },
            "type": "bar"
           }
          ],
          "barpolar": [
           {
            "marker": {
             "line": {
              "color": "#E5ECF6",
              "width": 0.5
             }
            },
            "type": "barpolar"
           }
          ],
          "carpet": [
           {
            "aaxis": {
             "endlinecolor": "#2a3f5f",
             "gridcolor": "white",
             "linecolor": "white",
             "minorgridcolor": "white",
             "startlinecolor": "#2a3f5f"
            },
            "baxis": {
             "endlinecolor": "#2a3f5f",
             "gridcolor": "white",
             "linecolor": "white",
             "minorgridcolor": "white",
             "startlinecolor": "#2a3f5f"
            },
            "type": "carpet"
           }
          ],
          "choropleth": [
           {
            "colorbar": {
             "outlinewidth": 0,
             "ticks": ""
            },
            "type": "choropleth"
           }
          ],
          "contour": [
           {
            "colorbar": {
             "outlinewidth": 0,
             "ticks": ""
            },
            "colorscale": [
             [
              0,
              "#0d0887"
             ],
             [
              0.1111111111111111,
              "#46039f"
             ],
             [
              0.2222222222222222,
              "#7201a8"
             ],
             [
              0.3333333333333333,
              "#9c179e"
             ],
             [
              0.4444444444444444,
              "#bd3786"
             ],
             [
              0.5555555555555556,
              "#d8576b"
             ],
             [
              0.6666666666666666,
              "#ed7953"
             ],
             [
              0.7777777777777778,
              "#fb9f3a"
             ],
             [
              0.8888888888888888,
              "#fdca26"
             ],
             [
              1,
              "#f0f921"
             ]
            ],
            "type": "contour"
           }
          ],
          "contourcarpet": [
           {
            "colorbar": {
             "outlinewidth": 0,
             "ticks": ""
            },
            "type": "contourcarpet"
           }
          ],
          "heatmap": [
           {
            "colorbar": {
             "outlinewidth": 0,
             "ticks": ""
            },
            "colorscale": [
             [
              0,
              "#0d0887"
             ],
             [
              0.1111111111111111,
              "#46039f"
             ],
             [
              0.2222222222222222,
              "#7201a8"
             ],
             [
              0.3333333333333333,
              "#9c179e"
             ],
             [
              0.4444444444444444,
              "#bd3786"
             ],
             [
              0.5555555555555556,
              "#d8576b"
             ],
             [
              0.6666666666666666,
              "#ed7953"
             ],
             [
              0.7777777777777778,
              "#fb9f3a"
             ],
             [
              0.8888888888888888,
              "#fdca26"
             ],
             [
              1,
              "#f0f921"
             ]
            ],
            "type": "heatmap"
           }
          ],
          "heatmapgl": [
           {
            "colorbar": {
             "outlinewidth": 0,
             "ticks": ""
            },
            "colorscale": [
             [
              0,
              "#0d0887"
             ],
             [
              0.1111111111111111,
              "#46039f"
             ],
             [
              0.2222222222222222,
              "#7201a8"
             ],
             [
              0.3333333333333333,
              "#9c179e"
             ],
             [
              0.4444444444444444,
              "#bd3786"
             ],
             [
              0.5555555555555556,
              "#d8576b"
             ],
             [
              0.6666666666666666,
              "#ed7953"
             ],
             [
              0.7777777777777778,
              "#fb9f3a"
             ],
             [
              0.8888888888888888,
              "#fdca26"
             ],
             [
              1,
              "#f0f921"
             ]
            ],
            "type": "heatmapgl"
           }
          ],
          "histogram": [
           {
            "marker": {
             "colorbar": {
              "outlinewidth": 0,
              "ticks": ""
             }
            },
            "type": "histogram"
           }
          ],
          "histogram2d": [
           {
            "colorbar": {
             "outlinewidth": 0,
             "ticks": ""
            },
            "colorscale": [
             [
              0,
              "#0d0887"
             ],
             [
              0.1111111111111111,
              "#46039f"
             ],
             [
              0.2222222222222222,
              "#7201a8"
             ],
             [
              0.3333333333333333,
              "#9c179e"
             ],
             [
              0.4444444444444444,
              "#bd3786"
             ],
             [
              0.5555555555555556,
              "#d8576b"
             ],
             [
              0.6666666666666666,
              "#ed7953"
             ],
             [
              0.7777777777777778,
              "#fb9f3a"
             ],
             [
              0.8888888888888888,
              "#fdca26"
             ],
             [
              1,
              "#f0f921"
             ]
            ],
            "type": "histogram2d"
           }
          ],
          "histogram2dcontour": [
           {
            "colorbar": {
             "outlinewidth": 0,
             "ticks": ""
            },
            "colorscale": [
             [
              0,
              "#0d0887"
             ],
             [
              0.1111111111111111,
              "#46039f"
             ],
             [
              0.2222222222222222,
              "#7201a8"
             ],
             [
              0.3333333333333333,
              "#9c179e"
             ],
             [
              0.4444444444444444,
              "#bd3786"
             ],
             [
              0.5555555555555556,
              "#d8576b"
             ],
             [
              0.6666666666666666,
              "#ed7953"
             ],
             [
              0.7777777777777778,
              "#fb9f3a"
             ],
             [
              0.8888888888888888,
              "#fdca26"
             ],
             [
              1,
              "#f0f921"
             ]
            ],
            "type": "histogram2dcontour"
           }
          ],
          "mesh3d": [
           {
            "colorbar": {
             "outlinewidth": 0,
             "ticks": ""
            },
            "type": "mesh3d"
           }
          ],
          "parcoords": [
           {
            "line": {
             "colorbar": {
              "outlinewidth": 0,
              "ticks": ""
             }
            },
            "type": "parcoords"
           }
          ],
          "pie": [
           {
            "automargin": true,
            "type": "pie"
           }
          ],
          "scatter": [
           {
            "marker": {
             "colorbar": {
              "outlinewidth": 0,
              "ticks": ""
             }
            },
            "type": "scatter"
           }
          ],
          "scatter3d": [
           {
            "line": {
             "colorbar": {
              "outlinewidth": 0,
              "ticks": ""
             }
            },
            "marker": {
             "colorbar": {
              "outlinewidth": 0,
              "ticks": ""
             }
            },
            "type": "scatter3d"
           }
          ],
          "scattercarpet": [
           {
            "marker": {
             "colorbar": {
              "outlinewidth": 0,
              "ticks": ""
             }
            },
            "type": "scattercarpet"
           }
          ],
          "scattergeo": [
           {
            "marker": {
             "colorbar": {
              "outlinewidth": 0,
              "ticks": ""
             }
            },
            "type": "scattergeo"
           }
          ],
          "scattergl": [
           {
            "marker": {
             "colorbar": {
              "outlinewidth": 0,
              "ticks": ""
             }
            },
            "type": "scattergl"
           }
          ],
          "scattermapbox": [
           {
            "marker": {
             "colorbar": {
              "outlinewidth": 0,
              "ticks": ""
             }
            },
            "type": "scattermapbox"
           }
          ],
          "scatterpolar": [
           {
            "marker": {
             "colorbar": {
              "outlinewidth": 0,
              "ticks": ""
             }
            },
            "type": "scatterpolar"
           }
          ],
          "scatterpolargl": [
           {
            "marker": {
             "colorbar": {
              "outlinewidth": 0,
              "ticks": ""
             }
            },
            "type": "scatterpolargl"
           }
          ],
          "scatterternary": [
           {
            "marker": {
             "colorbar": {
              "outlinewidth": 0,
              "ticks": ""
             }
            },
            "type": "scatterternary"
           }
          ],
          "surface": [
           {
            "colorbar": {
             "outlinewidth": 0,
             "ticks": ""
            },
            "colorscale": [
             [
              0,
              "#0d0887"
             ],
             [
              0.1111111111111111,
              "#46039f"
             ],
             [
              0.2222222222222222,
              "#7201a8"
             ],
             [
              0.3333333333333333,
              "#9c179e"
             ],
             [
              0.4444444444444444,
              "#bd3786"
             ],
             [
              0.5555555555555556,
              "#d8576b"
             ],
             [
              0.6666666666666666,
              "#ed7953"
             ],
             [
              0.7777777777777778,
              "#fb9f3a"
             ],
             [
              0.8888888888888888,
              "#fdca26"
             ],
             [
              1,
              "#f0f921"
             ]
            ],
            "type": "surface"
           }
          ],
          "table": [
           {
            "cells": {
             "fill": {
              "color": "#EBF0F8"
             },
             "line": {
              "color": "white"
             }
            },
            "header": {
             "fill": {
              "color": "#C8D4E3"
             },
             "line": {
              "color": "white"
             }
            },
            "type": "table"
           }
          ]
         },
         "layout": {
          "annotationdefaults": {
           "arrowcolor": "#2a3f5f",
           "arrowhead": 0,
           "arrowwidth": 1
          },
          "coloraxis": {
           "colorbar": {
            "outlinewidth": 0,
            "ticks": ""
           }
          },
          "colorscale": {
           "diverging": [
            [
             0,
             "#8e0152"
            ],
            [
             0.1,
             "#c51b7d"
            ],
            [
             0.2,
             "#de77ae"
            ],
            [
             0.3,
             "#f1b6da"
            ],
            [
             0.4,
             "#fde0ef"
            ],
            [
             0.5,
             "#f7f7f7"
            ],
            [
             0.6,
             "#e6f5d0"
            ],
            [
             0.7,
             "#b8e186"
            ],
            [
             0.8,
             "#7fbc41"
            ],
            [
             0.9,
             "#4d9221"
            ],
            [
             1,
             "#276419"
            ]
           ],
           "sequential": [
            [
             0,
             "#0d0887"
            ],
            [
             0.1111111111111111,
             "#46039f"
            ],
            [
             0.2222222222222222,
             "#7201a8"
            ],
            [
             0.3333333333333333,
             "#9c179e"
            ],
            [
             0.4444444444444444,
             "#bd3786"
            ],
            [
             0.5555555555555556,
             "#d8576b"
            ],
            [
             0.6666666666666666,
             "#ed7953"
            ],
            [
             0.7777777777777778,
             "#fb9f3a"
            ],
            [
             0.8888888888888888,
             "#fdca26"
            ],
            [
             1,
             "#f0f921"
            ]
           ],
           "sequentialminus": [
            [
             0,
             "#0d0887"
            ],
            [
             0.1111111111111111,
             "#46039f"
            ],
            [
             0.2222222222222222,
             "#7201a8"
            ],
            [
             0.3333333333333333,
             "#9c179e"
            ],
            [
             0.4444444444444444,
             "#bd3786"
            ],
            [
             0.5555555555555556,
             "#d8576b"
            ],
            [
             0.6666666666666666,
             "#ed7953"
            ],
            [
             0.7777777777777778,
             "#fb9f3a"
            ],
            [
             0.8888888888888888,
             "#fdca26"
            ],
            [
             1,
             "#f0f921"
            ]
           ]
          },
          "colorway": [
           "#636efa",
           "#EF553B",
           "#00cc96",
           "#ab63fa",
           "#FFA15A",
           "#19d3f3",
           "#FF6692",
           "#B6E880",
           "#FF97FF",
           "#FECB52"
          ],
          "font": {
           "color": "#2a3f5f"
          },
          "geo": {
           "bgcolor": "white",
           "lakecolor": "white",
           "landcolor": "#E5ECF6",
           "showlakes": true,
           "showland": true,
           "subunitcolor": "white"
          },
          "hoverlabel": {
           "align": "left"
          },
          "hovermode": "closest",
          "mapbox": {
           "style": "light"
          },
          "paper_bgcolor": "white",
          "plot_bgcolor": "#E5ECF6",
          "polar": {
           "angularaxis": {
            "gridcolor": "white",
            "linecolor": "white",
            "ticks": ""
           },
           "bgcolor": "#E5ECF6",
           "radialaxis": {
            "gridcolor": "white",
            "linecolor": "white",
            "ticks": ""
           }
          },
          "scene": {
           "xaxis": {
            "backgroundcolor": "#E5ECF6",
            "gridcolor": "white",
            "gridwidth": 2,
            "linecolor": "white",
            "showbackground": true,
            "ticks": "",
            "zerolinecolor": "white"
           },
           "yaxis": {
            "backgroundcolor": "#E5ECF6",
            "gridcolor": "white",
            "gridwidth": 2,
            "linecolor": "white",
            "showbackground": true,
            "ticks": "",
            "zerolinecolor": "white"
           },
           "zaxis": {
            "backgroundcolor": "#E5ECF6",
            "gridcolor": "white",
            "gridwidth": 2,
            "linecolor": "white",
            "showbackground": true,
            "ticks": "",
            "zerolinecolor": "white"
           }
          },
          "shapedefaults": {
           "line": {
            "color": "#2a3f5f"
           }
          },
          "ternary": {
           "aaxis": {
            "gridcolor": "white",
            "linecolor": "white",
            "ticks": ""
           },
           "baxis": {
            "gridcolor": "white",
            "linecolor": "white",
            "ticks": ""
           },
           "bgcolor": "#E5ECF6",
           "caxis": {
            "gridcolor": "white",
            "linecolor": "white",
            "ticks": ""
           }
          },
          "title": {
           "x": 0.05
          },
          "xaxis": {
           "automargin": true,
           "gridcolor": "white",
           "linecolor": "white",
           "ticks": "",
           "title": {
            "standoff": 15
           },
           "zerolinecolor": "white",
           "zerolinewidth": 2
          },
          "yaxis": {
           "automargin": true,
           "gridcolor": "white",
           "linecolor": "white",
           "ticks": "",
           "title": {
            "standoff": 15
           },
           "zerolinecolor": "white",
           "zerolinewidth": 2
          }
         }
        },
        "title": {
         "text": "Risk v Cost at different cost"
        },
        "xaxis": {
         "anchor": "y",
         "domain": [
          0,
          1
         ],
         "title": {
          "text": "cost"
         }
        },
        "yaxis": {
         "anchor": "x",
         "domain": [
          0,
          1
         ],
         "title": {
          "text": "Cost"
         }
        }
       }
      }
     },
     "metadata": {}
    }
   ],
   "source": [
    "fig = make_sensitivity_fig(var_name = \"fm-tasks-inspection-cost\", lower=0, upper=1000, step=100, n_iterations=20)\n",
    "fig.show()"
   ]
  },
  {
   "cell_type": "code",
   "execution_count": 7,
   "metadata": {},
   "outputs": [],
   "source": [
    "failure_mode_data = dict(\n",
    "        name='early_life',\n",
    "        pf_curve = 'linear',\n",
    "        pf_interval=10)"
   ]
  },
  {
   "cell_type": "code",
   "execution_count": 10,
   "metadata": {
    "tags": []
   },
   "outputs": [
    {
     "output_type": "stream",
     "name": "stdout",
     "text": "{'name': 'early_life'}\n{'pf_curve': 'linear'}\n{'pf_interval': 10}\n"
    }
   ],
   "source": [
    "for var, val in failure_mode_data.items():\n",
    "    d = {}\n",
    "    d[var] = val\n",
    "    print(d)"
   ]
  },
  {
   "cell_type": "code",
   "execution_count": 3,
   "metadata": {},
   "outputs": [
    {
     "output_type": "execute_result",
     "data": {
      "text/plain": "['comp-active',\n 'comp-fm-early_life-active',\n 'comp-fm-early_life-pf_curve',\n 'comp-fm-early_life-pf_interval',\n 'comp-fm-early_life-pf_std',\n 'comp-fm-early_life-dists-untreated-alpha',\n 'comp-fm-early_life-dists-untreated-beta',\n 'comp-fm-early_life-dists-untreated-gamma',\n 'comp-fm-early_life-tasks-inspection-active',\n 'comp-fm-early_life-tasks-inspection-p_effective',\n 'comp-fm-early_life-tasks-inspection-cost',\n 'comp-fm-early_life-tasks-inspection-t_interval',\n 'comp-fm-early_life-tasks-inspection-t_delay',\n 'comp-fm-early_life-tasks-inspection-trigger-condition-instant-lower',\n 'comp-fm-early_life-tasks-inspection-trigger-condition-instant-upper',\n 'comp-fm-early_life-tasks-inspection-trigger-state-initiation',\n 'comp-fm-early_life-tasks-inspection-impact-state-detection',\n 'comp-fm-early_life-tasks-on_condition_replacement-active',\n 'comp-fm-early_life-tasks-on_condition_replacement-p_effective',\n 'comp-fm-early_life-tasks-on_condition_replacement-cost',\n 'comp-fm-early_life-tasks-on_condition_replacement-trigger-state-detection',\n 'comp-fm-early_life-tasks-on_condition_replacement-trigger-state-failure',\n 'comp-fm-early_life-tasks-on_condition_replacement-impact-condition-all-target',\n 'comp-fm-early_life-tasks-on_condition_replacement-impact-condition-all-method',\n 'comp-fm-early_life-tasks-on_condition_replacement-impact-condition-all-axis',\n 'comp-fm-early_life-tasks-on_condition_replacement-impact-state-initiation',\n 'comp-fm-early_life-tasks-on_condition_replacement-impact-state-detection',\n 'comp-fm-early_life-tasks-on_condition_replacement-impact-state-failure',\n 'comp-fm-random-active',\n 'comp-fm-random-pf_curve',\n 'comp-fm-random-pf_interval',\n 'comp-fm-random-pf_std',\n 'comp-fm-random-dists-untreated-alpha',\n 'comp-fm-random-dists-untreated-beta',\n 'comp-fm-random-dists-untreated-gamma',\n 'comp-fm-random-tasks-inspection-active',\n 'comp-fm-random-tasks-inspection-p_effective',\n 'comp-fm-random-tasks-inspection-cost',\n 'comp-fm-random-tasks-inspection-t_interval',\n 'comp-fm-random-tasks-inspection-t_delay',\n 'comp-fm-random-tasks-inspection-trigger-condition-fast_degrading-lower',\n 'comp-fm-random-tasks-inspection-trigger-condition-fast_degrading-upper',\n 'comp-fm-random-tasks-inspection-trigger-condition-slow_degrading-lower',\n 'comp-fm-random-tasks-inspection-trigger-condition-slow_degrading-upper',\n 'comp-fm-random-tasks-inspection-trigger-state-initiation',\n 'comp-fm-random-tasks-inspection-impact-state-detection',\n 'comp-fm-random-tasks-on_condition_replacement-active',\n 'comp-fm-random-tasks-on_condition_replacement-p_effective',\n 'comp-fm-random-tasks-on_condition_replacement-cost',\n 'comp-fm-random-tasks-on_condition_replacement-trigger-state-detection',\n 'comp-fm-random-tasks-on_condition_replacement-trigger-state-failure',\n 'comp-fm-random-tasks-on_condition_replacement-impact-condition-all-target',\n 'comp-fm-random-tasks-on_condition_replacement-impact-condition-all-method',\n 'comp-fm-random-tasks-on_condition_replacement-impact-condition-all-axis',\n 'comp-fm-random-tasks-on_condition_replacement-impact-state-initiation',\n 'comp-fm-random-tasks-on_condition_replacement-impact-state-detection',\n 'comp-fm-random-tasks-on_condition_replacement-impact-state-failure',\n 'comp-fm-slow_aging-active',\n 'comp-fm-slow_aging-pf_curve',\n 'comp-fm-slow_aging-pf_interval',\n 'comp-fm-slow_aging-pf_std',\n 'comp-fm-slow_aging-dists-untreated-alpha',\n 'comp-fm-slow_aging-dists-untreated-beta',\n 'comp-fm-slow_aging-dists-untreated-gamma',\n 'comp-fm-slow_aging-tasks-inspection-active',\n 'comp-fm-slow_aging-tasks-inspection-p_effective',\n 'comp-fm-slow_aging-tasks-inspection-cost',\n 'comp-fm-slow_aging-tasks-inspection-t_interval',\n 'comp-fm-slow_aging-tasks-inspection-t_delay',\n 'comp-fm-slow_aging-tasks-inspection-trigger-condition-fast_degrading-lower',\n 'comp-fm-slow_aging-tasks-inspection-trigger-condition-fast_degrading-upper',\n 'comp-fm-slow_aging-tasks-inspection-trigger-condition-slow_degrading-lower',\n 'comp-fm-slow_aging-tasks-inspection-trigger-condition-slow_degrading-upper',\n 'comp-fm-slow_aging-tasks-inspection-trigger-state-initiation',\n 'comp-fm-slow_aging-tasks-inspection-impact-state-detection',\n 'comp-fm-slow_aging-tasks-on_condition_repair-active',\n 'comp-fm-slow_aging-tasks-on_condition_repair-p_effective',\n 'comp-fm-slow_aging-tasks-on_condition_repair-cost',\n 'comp-fm-slow_aging-tasks-on_condition_repair-trigger-condition-fast_degrading-lower',\n 'comp-fm-slow_aging-tasks-on_condition_repair-trigger-condition-fast_degrading-upper',\n 'comp-fm-slow_aging-tasks-on_condition_repair-trigger-condition-slow_degrading-lower',\n 'comp-fm-slow_aging-tasks-on_condition_repair-trigger-condition-slow_degrading-upper',\n 'comp-fm-slow_aging-tasks-on_condition_repair-trigger-state-detection',\n 'comp-fm-slow_aging-tasks-on_condition_repair-impact-condition-fast_degrading-target',\n 'comp-fm-slow_aging-tasks-on_condition_repair-impact-condition-fast_degrading-method',\n 'comp-fm-slow_aging-tasks-on_condition_repair-impact-condition-fast_degrading-axis',\n 'comp-fm-slow_aging-tasks-on_condition_repair-impact-condition-slow_degrading-target',\n 'comp-fm-slow_aging-tasks-on_condition_repair-impact-condition-slow_degrading-method',\n 'comp-fm-slow_aging-tasks-on_condition_repair-impact-condition-slow_degrading-axis',\n 'comp-fm-slow_aging-tasks-on_condition_repair-impact-state-initiation',\n 'comp-fm-slow_aging-tasks-on_condition_repair-impact-state-detection',\n 'comp-fm-slow_aging-tasks-on_condition_repair-impact-state-failure',\n 'comp-fm-slow_aging-tasks-on_condition_replacement-active',\n 'comp-fm-slow_aging-tasks-on_condition_replacement-p_effective',\n 'comp-fm-slow_aging-tasks-on_condition_replacement-cost',\n 'comp-fm-slow_aging-tasks-on_condition_replacement-trigger-condition-fast_degrading-lower',\n 'comp-fm-slow_aging-tasks-on_condition_replacement-trigger-condition-fast_degrading-upper',\n 'comp-fm-slow_aging-tasks-on_condition_replacement-trigger-condition-slow_degrading-lower',\n 'comp-fm-slow_aging-tasks-on_condition_replacement-trigger-condition-slow_degrading-upper',\n 'comp-fm-slow_aging-tasks-on_condition_replacement-trigger-state-detection',\n 'comp-fm-slow_aging-tasks-on_condition_replacement-trigger-state-failure',\n 'comp-fm-slow_aging-tasks-on_condition_replacement-impact-condition-all-target',\n 'comp-fm-slow_aging-tasks-on_condition_replacement-impact-condition-all-method',\n 'comp-fm-slow_aging-tasks-on_condition_replacement-impact-condition-all-axis',\n 'comp-fm-slow_aging-tasks-on_condition_replacement-impact-state-initiation',\n 'comp-fm-slow_aging-tasks-on_condition_replacement-impact-state-detection',\n 'comp-fm-slow_aging-tasks-on_condition_replacement-impact-state-failure',\n 'comp-fm-fast_aging-active',\n 'comp-fm-fast_aging-pf_curve',\n 'comp-fm-fast_aging-pf_interval',\n 'comp-fm-fast_aging-pf_std',\n 'comp-fm-fast_aging-dists-untreated-alpha',\n 'comp-fm-fast_aging-dists-untreated-beta',\n 'comp-fm-fast_aging-dists-untreated-gamma',\n 'comp-fm-fast_aging-tasks-inspection-active',\n 'comp-fm-fast_aging-tasks-inspection-p_effective',\n 'comp-fm-fast_aging-tasks-inspection-cost',\n 'comp-fm-fast_aging-tasks-inspection-t_interval',\n 'comp-fm-fast_aging-tasks-inspection-t_delay',\n 'comp-fm-fast_aging-tasks-inspection-trigger-condition-fast_degrading-lower',\n 'comp-fm-fast_aging-tasks-inspection-trigger-condition-fast_degrading-upper',\n 'comp-fm-fast_aging-tasks-inspection-trigger-condition-slow_degrading-lower',\n 'comp-fm-fast_aging-tasks-inspection-trigger-condition-slow_degrading-upper',\n 'comp-fm-fast_aging-tasks-inspection-trigger-state-initiation',\n 'comp-fm-fast_aging-tasks-inspection-impact-state-detection',\n 'comp-fm-fast_aging-tasks-on_condition_repair-active',\n 'comp-fm-fast_aging-tasks-on_condition_repair-p_effective',\n 'comp-fm-fast_aging-tasks-on_condition_repair-cost',\n 'comp-fm-fast_aging-tasks-on_condition_repair-trigger-condition-fast_degrading-lower',\n 'comp-fm-fast_aging-tasks-on_condition_repair-trigger-condition-fast_degrading-upper',\n 'comp-fm-fast_aging-tasks-on_condition_repair-trigger-condition-slow_degrading-lower',\n 'comp-fm-fast_aging-tasks-on_condition_repair-trigger-condition-slow_degrading-upper',\n 'comp-fm-fast_aging-tasks-on_condition_repair-trigger-state-detection',\n 'comp-fm-fast_aging-tasks-on_condition_repair-impact-condition-fast_degrading-target',\n 'comp-fm-fast_aging-tasks-on_condition_repair-impact-condition-fast_degrading-method',\n 'comp-fm-fast_aging-tasks-on_condition_repair-impact-condition-fast_degrading-axis',\n 'comp-fm-fast_aging-tasks-on_condition_repair-impact-condition-slow_degrading-target',\n 'comp-fm-fast_aging-tasks-on_condition_repair-impact-condition-slow_degrading-method',\n 'comp-fm-fast_aging-tasks-on_condition_repair-impact-condition-slow_degrading-axis',\n 'comp-fm-fast_aging-tasks-on_condition_repair-impact-state-initiation',\n 'comp-fm-fast_aging-tasks-on_condition_repair-impact-state-detection',\n 'comp-fm-fast_aging-tasks-on_condition_repair-impact-state-failure',\n 'comp-fm-fast_aging-tasks-on_condition_replacement-active',\n 'comp-fm-fast_aging-tasks-on_condition_replacement-p_effective',\n 'comp-fm-fast_aging-tasks-on_condition_replacement-cost',\n 'comp-fm-fast_aging-tasks-on_condition_replacement-trigger-condition-fast_degrading-lower',\n 'comp-fm-fast_aging-tasks-on_condition_replacement-trigger-condition-fast_degrading-upper',\n 'comp-fm-fast_aging-tasks-on_condition_replacement-trigger-condition-slow_degrading-lower',\n 'comp-fm-fast_aging-tasks-on_condition_replacement-trigger-condition-slow_degrading-upper',\n 'comp-fm-fast_aging-tasks-on_condition_replacement-trigger-state-detection',\n 'comp-fm-fast_aging-tasks-on_condition_replacement-trigger-state-failure',\n 'comp-fm-fast_aging-tasks-on_condition_replacement-impact-condition-all-target',\n 'comp-fm-fast_aging-tasks-on_condition_replacement-impact-condition-all-method',\n 'comp-fm-fast_aging-tasks-on_condition_replacement-impact-condition-all-axis',\n 'comp-fm-fast_aging-tasks-on_condition_replacement-impact-state-initiation',\n 'comp-fm-fast_aging-tasks-on_condition_replacement-impact-state-detection',\n 'comp-fm-fast_aging-tasks-on_condition_replacement-impact-state-failure']"
     },
     "metadata": {},
     "execution_count": 3
    }
   ],
   "source": [
    "comp.get_dash_ids()"
   ]
  },
  {
   "cell_type": "code",
   "execution_count": 3,
   "metadata": {},
   "outputs": [],
   "source": [
    "def component_val_to_csv():\n",
    "    comp = Component().demo()\n",
    "\n",
    "    \n",
    "    d = {}\n",
    "    d_split = {}\n",
    "    for id_ in comp.get_dash_ids():\n",
    "        \n",
    "        id_str = id_.split(\"comp\" + \"-\", 1)[1]\n",
    "        id_str = id_str.split(\"-\")\n",
    "\n",
    "        value = comp\n",
    "\n",
    "        for s in id_str:\n",
    "            if s == \"fm\":\n",
    "                value = value.fm\n",
    "            elif s == \"active\":\n",
    "                value = value.active\n",
    "            elif s == \"pf_curve\":\n",
    "                value = value.pf_curve\n",
    "            elif s == \"pf_interval\":\n",
    "                value = value.pf_interval\n",
    "            elif s == \"pf_std\":\n",
    "                value = value.pf_std\n",
    "            elif s == \"dists\":\n",
    "                value = value.dists\n",
    "            elif s == \"alpha\":\n",
    "                value = value.alpha\n",
    "            elif s == \"beta\":\n",
    "                value = value.beta\n",
    "            elif s == \"gamma\":\n",
    "                value = value.gamma\n",
    "            elif s == \"tasks\":\n",
    "                value = value.tasks\n",
    "            elif s == \"p_effective\":\n",
    "                value = value.p_effective\n",
    "            elif s == \"cost\":\n",
    "                value = value.cost\n",
    "            elif s == \"t_interval\":\n",
    "                value = value.t_interval\n",
    "            elif s == \"t_delay\":\n",
    "                value = value.t_delay\n",
    "            elif s == \"states\":\n",
    "                value = value.states\n",
    "            elif s == \"impact\":\n",
    "                value = value.impacts\n",
    "            elif s == \"trigger\":\n",
    "                value = value.triggers\n",
    "            elif s == id_str[-1]:\n",
    "                # if isinstance(value[s], str):\n",
    "                #     continue\n",
    "                # elif isinstance(value[s], bool):\n",
    "                #     continue\n",
    "                # else:\n",
    "                #     d[id_] = value[s]\n",
    "                #     d_split[id_] = id_.split(\"-\")\n",
    "                d[id_] = value[s]\n",
    "                d_split[id_] = id_.split(\"-\")\n",
    "            else:\n",
    "                value = value[s]\n",
    "    df = pd.DataFrame(d.items(), columns=['name', 'mean'])\n",
    "    test = pd.DataFrame(d_split.items())\n",
    "    df[[\"key_1\", \"key_2\", \"key_3\", \"key_4\", \"key_5\", \"key_6\", \"key_7\", \"key_8\", \"key_9\"]] = pd.DataFrame(test[1].to_list())\n",
    "    df.set_index([\"name\"], drop = True).to_csv(\"csv.csv\")\n"
   ]
  },
  {
   "cell_type": "code",
   "execution_count": 12,
   "metadata": {},
   "outputs": [
    {
     "output_type": "execute_result",
     "data": {
      "text/plain": [
       "                                                 name       mean        sd\n",
       "0                      comp-fm-early_life-pf_interval       10.0       2.0\n",
       "1                           comp-fm-early_life-pf_std        0.0       0.0\n",
       "2            comp-fm-early_life-dists-untreated-alpha  1000000.0  200000.0\n",
       "3             comp-fm-early_life-dists-untreated-beta        0.5       0.1\n",
       "4            comp-fm-early_life-dists-untreated-gamma        0.0       0.0\n",
       "..                                                ...        ...       ...\n",
       "79  comp-fm-fast_aging-tasks-on_condition_replacem...        0.0       0.0\n",
       "80  comp-fm-fast_aging-tasks-on_condition_replacem...       20.0       4.0\n",
       "81  comp-fm-fast_aging-tasks-on_condition_replacem...        0.0       0.0\n",
       "82  comp-fm-fast_aging-tasks-on_condition_replacem...       20.0       4.0\n",
       "83  comp-fm-fast_aging-tasks-on_condition_replacem...        1.0       0.2\n",
       "\n",
       "[84 rows x 3 columns]"
      ],
      "text/html": "<div>\n<style scoped>\n    .dataframe tbody tr th:only-of-type {\n        vertical-align: middle;\n    }\n\n    .dataframe tbody tr th {\n        vertical-align: top;\n    }\n\n    .dataframe thead th {\n        text-align: right;\n    }\n</style>\n<table border=\"1\" class=\"dataframe\">\n  <thead>\n    <tr style=\"text-align: right;\">\n      <th></th>\n      <th>name</th>\n      <th>mean</th>\n      <th>sd</th>\n    </tr>\n  </thead>\n  <tbody>\n    <tr>\n      <th>0</th>\n      <td>comp-fm-early_life-pf_interval</td>\n      <td>10.0</td>\n      <td>2.0</td>\n    </tr>\n    <tr>\n      <th>1</th>\n      <td>comp-fm-early_life-pf_std</td>\n      <td>0.0</td>\n      <td>0.0</td>\n    </tr>\n    <tr>\n      <th>2</th>\n      <td>comp-fm-early_life-dists-untreated-alpha</td>\n      <td>1000000.0</td>\n      <td>200000.0</td>\n    </tr>\n    <tr>\n      <th>3</th>\n      <td>comp-fm-early_life-dists-untreated-beta</td>\n      <td>0.5</td>\n      <td>0.1</td>\n    </tr>\n    <tr>\n      <th>4</th>\n      <td>comp-fm-early_life-dists-untreated-gamma</td>\n      <td>0.0</td>\n      <td>0.0</td>\n    </tr>\n    <tr>\n      <th>...</th>\n      <td>...</td>\n      <td>...</td>\n      <td>...</td>\n    </tr>\n    <tr>\n      <th>79</th>\n      <td>comp-fm-fast_aging-tasks-on_condition_replacem...</td>\n      <td>0.0</td>\n      <td>0.0</td>\n    </tr>\n    <tr>\n      <th>80</th>\n      <td>comp-fm-fast_aging-tasks-on_condition_replacem...</td>\n      <td>20.0</td>\n      <td>4.0</td>\n    </tr>\n    <tr>\n      <th>81</th>\n      <td>comp-fm-fast_aging-tasks-on_condition_replacem...</td>\n      <td>0.0</td>\n      <td>0.0</td>\n    </tr>\n    <tr>\n      <th>82</th>\n      <td>comp-fm-fast_aging-tasks-on_condition_replacem...</td>\n      <td>20.0</td>\n      <td>4.0</td>\n    </tr>\n    <tr>\n      <th>83</th>\n      <td>comp-fm-fast_aging-tasks-on_condition_replacem...</td>\n      <td>1.0</td>\n      <td>0.2</td>\n    </tr>\n  </tbody>\n</table>\n<p>84 rows × 3 columns</p>\n</div>"
     },
     "metadata": {},
     "execution_count": 12
    }
   ],
   "source": [
    "# import pof.test.fixtures\n",
    "# comp = Component.from_dict(fixtures.component_data_slow[\"comp\"])\n",
    "\n",
    "comp = Component().demo()\n",
    "# comp.fm.pop('fast_aging')\n",
    "# comp.fm.pop('early_life')\n",
    "# comp.fm.pop('random')\n",
    "\n",
    "d = {}\n",
    "d_split = {}\n",
    "for id_ in comp.get_dash_ids():\n",
    "    \n",
    "    id_str = id_.split(\"comp\" + \"-\", 1)[1]\n",
    "    id_str = id_str.split(\"-\")\n",
    "\n",
    "    value = comp\n",
    "\n",
    "    for s in id_str:\n",
    "        if s == \"fm\":\n",
    "            value = value.fm\n",
    "        elif s == \"active\":\n",
    "            value = value.active\n",
    "            if isinstance(value, str):\n",
    "                continue\n",
    "            elif isinstance(value, bool):\n",
    "                continue\n",
    "            else:\n",
    "                d[id_] = value\n",
    "                d_split[id_] = id_.split(\"-\")\n",
    "        elif s == \"pf_curve\":\n",
    "            value = value.pf_curve\n",
    "            if isinstance(value, str):\n",
    "                continue\n",
    "            elif isinstance(value, bool):\n",
    "                continue\n",
    "            else:\n",
    "                d[id_] = value\n",
    "                d_split[id_] = id_.split(\"-\")\n",
    "        elif s == \"pf_interval\":\n",
    "            value = value.pf_interval\n",
    "            if isinstance(value, str):\n",
    "                continue\n",
    "            elif isinstance(value, bool):\n",
    "                continue\n",
    "            else:\n",
    "                d[id_] = value\n",
    "                d_split[id_] = id_.split(\"-\")\n",
    "        elif s == \"pf_std\":\n",
    "            value = value.pf_std\n",
    "            if isinstance(value, str):\n",
    "                continue\n",
    "            elif isinstance(value, bool):\n",
    "                continue\n",
    "            else:\n",
    "                d[id_] = value\n",
    "                d_split[id_] = id_.split(\"-\")\n",
    "        elif s == \"dists\":\n",
    "            value = value.dists\n",
    "        elif s == \"alpha\":\n",
    "            value = value.alpha\n",
    "            if isinstance(value, str):\n",
    "                continue\n",
    "            elif isinstance(value, bool):\n",
    "                continue\n",
    "            else:\n",
    "                d[id_] = value\n",
    "                d_split[id_] = id_.split(\"-\")\n",
    "        elif s == \"beta\":\n",
    "            value = value.beta\n",
    "            if isinstance(value, str):\n",
    "                continue\n",
    "            elif isinstance(value, bool):\n",
    "                continue\n",
    "            else:\n",
    "                d[id_] = value\n",
    "                d_split[id_] = id_.split(\"-\")\n",
    "        elif s == \"gamma\":\n",
    "            value = value.gamma\n",
    "            if isinstance(value, str):\n",
    "                continue\n",
    "            elif isinstance(value, bool):\n",
    "                continue\n",
    "            else:\n",
    "                d[id_] = value\n",
    "                d_split[id_] = id_.split(\"-\")\n",
    "        elif s == \"tasks\":\n",
    "            value = value.tasks\n",
    "        elif s == \"p_effective\":\n",
    "            value = value.p_effective\n",
    "            if isinstance(value, str):\n",
    "                continue\n",
    "            elif isinstance(value, bool):\n",
    "                continue\n",
    "            else:\n",
    "                d[id_] = value\n",
    "                d_split[id_] = id_.split(\"-\")\n",
    "        elif s == \"cost\":\n",
    "            value = value.cost\n",
    "            if isinstance(value, str):\n",
    "                continue\n",
    "            elif isinstance(value, bool):\n",
    "                continue\n",
    "            else:\n",
    "                d[id_] = value\n",
    "                d_split[id_] = id_.split(\"-\")\n",
    "        elif s == \"t_interval\":\n",
    "            value = value.t_interval\n",
    "            if isinstance(value, str):\n",
    "                continue\n",
    "            elif isinstance(value, bool):\n",
    "                continue\n",
    "            else:\n",
    "                d[id_] = value\n",
    "                d_split[id_] = id_.split(\"-\")\n",
    "        elif s == \"t_delay\":\n",
    "            value = value.t_delay\n",
    "            if isinstance(value, str):\n",
    "                continue\n",
    "            elif isinstance(value, bool):\n",
    "                continue\n",
    "            else:\n",
    "                d[id_] = value\n",
    "                d_split[id_] = id_.split(\"-\")\n",
    "        elif s == \"states\":\n",
    "            value = value.states\n",
    "        elif s == \"impact\":\n",
    "            value = value.impacts\n",
    "        elif s == \"trigger\":\n",
    "            value = value.triggers\n",
    "        elif s == id_str[-1]:\n",
    "            if isinstance(value[s], str):\n",
    "                continue\n",
    "            elif isinstance(value[s], bool):\n",
    "                continue\n",
    "            if isinstance(value[s], list):\n",
    "                continue\n",
    "            else:\n",
    "                d[id_] = value[s]\n",
    "                d_split[id_] = id_.split(\"-\")\n",
    "        else:\n",
    "            value = value[s]\n",
    "df = pd.DataFrame(d.items(), columns=['name', 'mean'])\n",
    "df[\"sd\"] = df['mean']*.2\n",
    "df\n"
   ]
  },
  {
   "cell_type": "code",
   "execution_count": 3,
   "metadata": {},
   "outputs": [
    {
     "output_type": "execute_result",
     "data": {
      "text/plain": [
       "                                                 name  mean  sd\n",
       "38           comp-fm-slow_aging-tasks-inspection-cost    55   5\n",
       "47  comp-fm-slow_aging-tasks-on_condition_repair-cost   100   5\n",
       "56  comp-fm-slow_aging-tasks-on_condition_replacem...  5000   5"
      ],
      "text/html": "<div>\n<style scoped>\n    .dataframe tbody tr th:only-of-type {\n        vertical-align: middle;\n    }\n\n    .dataframe tbody tr th {\n        vertical-align: top;\n    }\n\n    .dataframe thead th {\n        text-align: right;\n    }\n</style>\n<table border=\"1\" class=\"dataframe\">\n  <thead>\n    <tr style=\"text-align: right;\">\n      <th></th>\n      <th>name</th>\n      <th>mean</th>\n      <th>sd</th>\n    </tr>\n  </thead>\n  <tbody>\n    <tr>\n      <th>38</th>\n      <td>comp-fm-slow_aging-tasks-inspection-cost</td>\n      <td>55</td>\n      <td>5</td>\n    </tr>\n    <tr>\n      <th>47</th>\n      <td>comp-fm-slow_aging-tasks-on_condition_repair-cost</td>\n      <td>100</td>\n      <td>5</td>\n    </tr>\n    <tr>\n      <th>56</th>\n      <td>comp-fm-slow_aging-tasks-on_condition_replacem...</td>\n      <td>5000</td>\n      <td>5</td>\n    </tr>\n  </tbody>\n</table>\n</div>"
     },
     "metadata": {},
     "execution_count": 3
    }
   ],
   "source": [
    "df_inspection_slow = df[df['name'].str.contains('cost')]\n",
    "df_inspection_slow = df_inspection_slow[df_inspection_slow['name'].str.contains('slow')]\n",
    "df_inspection_slow"
   ]
  },
  {
   "cell_type": "code",
   "execution_count": 4,
   "metadata": {},
   "outputs": [
    {
     "output_type": "execute_result",
     "data": {
      "text/plain": [
       "                                                 name  mean    sd\n",
       "38           comp-fm-slow_aging-tasks-inspection-cost    55    11\n",
       "47  comp-fm-slow_aging-tasks-on_condition_repair-cost   100    20\n",
       "56  comp-fm-slow_aging-tasks-on_condition_replacem...  5000  1000"
      ],
      "text/html": "<div>\n<style scoped>\n    .dataframe tbody tr th:only-of-type {\n        vertical-align: middle;\n    }\n\n    .dataframe tbody tr th {\n        vertical-align: top;\n    }\n\n    .dataframe thead th {\n        text-align: right;\n    }\n</style>\n<table border=\"1\" class=\"dataframe\">\n  <thead>\n    <tr style=\"text-align: right;\">\n      <th></th>\n      <th>name</th>\n      <th>mean</th>\n      <th>sd</th>\n    </tr>\n  </thead>\n  <tbody>\n    <tr>\n      <th>38</th>\n      <td>comp-fm-slow_aging-tasks-inspection-cost</td>\n      <td>55</td>\n      <td>11</td>\n    </tr>\n    <tr>\n      <th>47</th>\n      <td>comp-fm-slow_aging-tasks-on_condition_repair-cost</td>\n      <td>100</td>\n      <td>20</td>\n    </tr>\n    <tr>\n      <th>56</th>\n      <td>comp-fm-slow_aging-tasks-on_condition_replacem...</td>\n      <td>5000</td>\n      <td>1000</td>\n    </tr>\n  </tbody>\n</table>\n</div>"
     },
     "metadata": {},
     "execution_count": 4
    }
   ],
   "source": [
    "df_inspection_slow['sd'] = df_inspection_slow['mean']*.2\n",
    "df_inspection_slow"
   ]
  },
  {
   "cell_type": "code",
   "execution_count": 5,
   "metadata": {
    "tags": []
   },
   "outputs": [
    {
     "output_type": "stream",
     "name": "stderr",
     "text": [
      "100%|██████████| 100/100 [00:03<00:00, 32.20it/s]\n",
      "100%|██████████| 100/100 [00:02<00:00, 44.68it/s]\n",
      "100%|██████████| 100/100 [00:02<00:00, 35.60it/s]\n",
      "100%|██████████| 100/100 [00:03<00:00, 26.05it/s]\n",
      "100%|██████████| 100/100 [00:02<00:00, 35.42it/s]\n",
      "100%|██████████| 100/100 [00:03<00:00, 28.28it/s]\n",
      "100%|██████████| 100/100 [00:04<00:00, 23.99it/s]\n",
      "100%|██████████| 100/100 [00:03<00:00, 29.13it/s]\n",
      "100%|██████████| 100/100 [00:05<00:00, 16.89it/s]\n",
      "100%|██████████| 100/100 [00:03<00:00, 28.02it/s]\n",
      "100%|██████████| 100/100 [00:03<00:00, 30.20it/s]\n",
      "100%|██████████| 100/100 [00:02<00:00, 33.47it/s]\n",
      "100%|██████████| 100/100 [00:03<00:00, 32.07it/s]\n",
      "100%|██████████| 100/100 [00:04<00:00, 22.75it/s]\n",
      "100%|██████████| 100/100 [00:03<00:00, 26.01it/s]\n",
      "100%|██████████| 100/100 [00:03<00:00, 28.02it/s]\n",
      "100%|██████████| 100/100 [00:02<00:00, 34.64it/s]\n",
      "100%|██████████| 100/100 [00:02<00:00, 34.55it/s]\n",
      "100%|██████████| 100/100 [00:02<00:00, 35.78it/s]\n",
      "100%|██████████| 100/100 [00:02<00:00, 36.05it/s]\n",
      "100%|██████████| 100/100 [00:02<00:00, 35.73it/s]\n",
      "100%|██████████| 100/100 [00:02<00:00, 38.24it/s]\n",
      "100%|██████████| 100/100 [00:02<00:00, 35.26it/s]\n",
      "100%|██████████| 100/100 [00:02<00:00, 33.46it/s]\n",
      "100%|██████████| 100/100 [00:03<00:00, 30.83it/s]\n",
      "100%|██████████| 100/100 [00:04<00:00, 24.60it/s]\n",
      "100%|██████████| 100/100 [00:03<00:00, 28.70it/s]\n",
      "100%|██████████| 100/100 [00:02<00:00, 46.53it/s]\n",
      "100%|██████████| 100/100 [00:02<00:00, 42.96it/s]\n",
      "100%|██████████| 100/100 [00:02<00:00, 43.35it/s]\n",
      "100%|██████████| 100/100 [00:02<00:00, 33.78it/s]\n",
      "100%|██████████| 100/100 [00:02<00:00, 39.48it/s]\n",
      "100%|██████████| 100/100 [00:03<00:00, 31.13it/s]\n"
     ]
    },
    {
     "output_type": "display_data",
     "data": {
      "application/vnd.plotly.v1+json": {
       "config": {
        "plotlyServerURL": "https://plot.ly"
       },
       "data": [
        {
         "colorscale": [
          [
           0,
           "rgb(61, 89, 65)"
          ],
          [
           0.16666666666666666,
           "rgb(119, 136, 104)"
          ],
          [
           0.3333333333333333,
           "rgb(181, 185, 145)"
          ],
          [
           0.5,
           "rgb(246, 237, 189)"
          ],
          [
           0.6666666666666666,
           "rgb(237, 187, 138)"
          ],
          [
           0.8333333333333334,
           "rgb(222, 138, 90)"
          ],
          [
           1,
           "rgb(202, 86, 44)"
          ]
         ],
         "hoverongaps": false,
         "type": "heatmap",
         "x": [
          0.05,
          0.09,
          0.16,
          0.26,
          0.37,
          0.5,
          0.63,
          0.74,
          0.84,
          0.91,
          0.95,
          0.05,
          0.09,
          0.16,
          0.26,
          0.37,
          0.5,
          0.63,
          0.74,
          0.84,
          0.91,
          0.95,
          0.05,
          0.09,
          0.16,
          0.26,
          0.37,
          0.5,
          0.63,
          0.74,
          0.84,
          0.91,
          0.95
         ],
         "y": [
          "comp-fm-slow_aging-tasks-inspection-cost",
          "comp-fm-slow_aging-tasks-inspection-cost",
          "comp-fm-slow_aging-tasks-inspection-cost",
          "comp-fm-slow_aging-tasks-inspection-cost",
          "comp-fm-slow_aging-tasks-inspection-cost",
          "comp-fm-slow_aging-tasks-inspection-cost",
          "comp-fm-slow_aging-tasks-inspection-cost",
          "comp-fm-slow_aging-tasks-inspection-cost",
          "comp-fm-slow_aging-tasks-inspection-cost",
          "comp-fm-slow_aging-tasks-inspection-cost",
          "comp-fm-slow_aging-tasks-inspection-cost",
          "comp-fm-slow_aging-tasks-on_condition_repair-cost",
          "comp-fm-slow_aging-tasks-on_condition_repair-cost",
          "comp-fm-slow_aging-tasks-on_condition_repair-cost",
          "comp-fm-slow_aging-tasks-on_condition_repair-cost",
          "comp-fm-slow_aging-tasks-on_condition_repair-cost",
          "comp-fm-slow_aging-tasks-on_condition_repair-cost",
          "comp-fm-slow_aging-tasks-on_condition_repair-cost",
          "comp-fm-slow_aging-tasks-on_condition_repair-cost",
          "comp-fm-slow_aging-tasks-on_condition_repair-cost",
          "comp-fm-slow_aging-tasks-on_condition_repair-cost",
          "comp-fm-slow_aging-tasks-on_condition_repair-cost",
          "comp-fm-slow_aging-tasks-on_condition_replacement-cost",
          "comp-fm-slow_aging-tasks-on_condition_replacement-cost",
          "comp-fm-slow_aging-tasks-on_condition_replacement-cost",
          "comp-fm-slow_aging-tasks-on_condition_replacement-cost",
          "comp-fm-slow_aging-tasks-on_condition_replacement-cost",
          "comp-fm-slow_aging-tasks-on_condition_replacement-cost",
          "comp-fm-slow_aging-tasks-on_condition_replacement-cost",
          "comp-fm-slow_aging-tasks-on_condition_replacement-cost",
          "comp-fm-slow_aging-tasks-on_condition_replacement-cost",
          "comp-fm-slow_aging-tasks-on_condition_replacement-cost",
          "comp-fm-slow_aging-tasks-on_condition_replacement-cost"
         ],
         "z": [
          23000,
          21500,
          27000,
          23500,
          25500,
          27000,
          28500,
          26500,
          25000,
          24500,
          21500,
          29500,
          25000,
          26000,
          21500,
          24500,
          24000,
          25500,
          24000,
          26000,
          23500,
          28500,
          28000,
          22000,
          27000,
          28000,
          27500,
          27000,
          25500,
          26500,
          28000,
          26500,
          27000
         ]
        }
       ],
       "layout": {
        "autosize": false,
        "height": 500,
        "legend": {
         "title": {
          "text": "risk_cost"
         }
        },
        "template": {
         "data": {
          "bar": [
           {
            "error_x": {
             "color": "#2a3f5f"
            },
            "error_y": {
             "color": "#2a3f5f"
            },
            "marker": {
             "line": {
              "color": "#E5ECF6",
              "width": 0.5
             }
            },
            "type": "bar"
           }
          ],
          "barpolar": [
           {
            "marker": {
             "line": {
              "color": "#E5ECF6",
              "width": 0.5
             }
            },
            "type": "barpolar"
           }
          ],
          "carpet": [
           {
            "aaxis": {
             "endlinecolor": "#2a3f5f",
             "gridcolor": "white",
             "linecolor": "white",
             "minorgridcolor": "white",
             "startlinecolor": "#2a3f5f"
            },
            "baxis": {
             "endlinecolor": "#2a3f5f",
             "gridcolor": "white",
             "linecolor": "white",
             "minorgridcolor": "white",
             "startlinecolor": "#2a3f5f"
            },
            "type": "carpet"
           }
          ],
          "choropleth": [
           {
            "colorbar": {
             "outlinewidth": 0,
             "ticks": ""
            },
            "type": "choropleth"
           }
          ],
          "contour": [
           {
            "colorbar": {
             "outlinewidth": 0,
             "ticks": ""
            },
            "colorscale": [
             [
              0,
              "#0d0887"
             ],
             [
              0.1111111111111111,
              "#46039f"
             ],
             [
              0.2222222222222222,
              "#7201a8"
             ],
             [
              0.3333333333333333,
              "#9c179e"
             ],
             [
              0.4444444444444444,
              "#bd3786"
             ],
             [
              0.5555555555555556,
              "#d8576b"
             ],
             [
              0.6666666666666666,
              "#ed7953"
             ],
             [
              0.7777777777777778,
              "#fb9f3a"
             ],
             [
              0.8888888888888888,
              "#fdca26"
             ],
             [
              1,
              "#f0f921"
             ]
            ],
            "type": "contour"
           }
          ],
          "contourcarpet": [
           {
            "colorbar": {
             "outlinewidth": 0,
             "ticks": ""
            },
            "type": "contourcarpet"
           }
          ],
          "heatmap": [
           {
            "colorbar": {
             "outlinewidth": 0,
             "ticks": ""
            },
            "colorscale": [
             [
              0,
              "#0d0887"
             ],
             [
              0.1111111111111111,
              "#46039f"
             ],
             [
              0.2222222222222222,
              "#7201a8"
             ],
             [
              0.3333333333333333,
              "#9c179e"
             ],
             [
              0.4444444444444444,
              "#bd3786"
             ],
             [
              0.5555555555555556,
              "#d8576b"
             ],
             [
              0.6666666666666666,
              "#ed7953"
             ],
             [
              0.7777777777777778,
              "#fb9f3a"
             ],
             [
              0.8888888888888888,
              "#fdca26"
             ],
             [
              1,
              "#f0f921"
             ]
            ],
            "type": "heatmap"
           }
          ],
          "heatmapgl": [
           {
            "colorbar": {
             "outlinewidth": 0,
             "ticks": ""
            },
            "colorscale": [
             [
              0,
              "#0d0887"
             ],
             [
              0.1111111111111111,
              "#46039f"
             ],
             [
              0.2222222222222222,
              "#7201a8"
             ],
             [
              0.3333333333333333,
              "#9c179e"
             ],
             [
              0.4444444444444444,
              "#bd3786"
             ],
             [
              0.5555555555555556,
              "#d8576b"
             ],
             [
              0.6666666666666666,
              "#ed7953"
             ],
             [
              0.7777777777777778,
              "#fb9f3a"
             ],
             [
              0.8888888888888888,
              "#fdca26"
             ],
             [
              1,
              "#f0f921"
             ]
            ],
            "type": "heatmapgl"
           }
          ],
          "histogram": [
           {
            "marker": {
             "colorbar": {
              "outlinewidth": 0,
              "ticks": ""
             }
            },
            "type": "histogram"
           }
          ],
          "histogram2d": [
           {
            "colorbar": {
             "outlinewidth": 0,
             "ticks": ""
            },
            "colorscale": [
             [
              0,
              "#0d0887"
             ],
             [
              0.1111111111111111,
              "#46039f"
             ],
             [
              0.2222222222222222,
              "#7201a8"
             ],
             [
              0.3333333333333333,
              "#9c179e"
             ],
             [
              0.4444444444444444,
              "#bd3786"
             ],
             [
              0.5555555555555556,
              "#d8576b"
             ],
             [
              0.6666666666666666,
              "#ed7953"
             ],
             [
              0.7777777777777778,
              "#fb9f3a"
             ],
             [
              0.8888888888888888,
              "#fdca26"
             ],
             [
              1,
              "#f0f921"
             ]
            ],
            "type": "histogram2d"
           }
          ],
          "histogram2dcontour": [
           {
            "colorbar": {
             "outlinewidth": 0,
             "ticks": ""
            },
            "colorscale": [
             [
              0,
              "#0d0887"
             ],
             [
              0.1111111111111111,
              "#46039f"
             ],
             [
              0.2222222222222222,
              "#7201a8"
             ],
             [
              0.3333333333333333,
              "#9c179e"
             ],
             [
              0.4444444444444444,
              "#bd3786"
             ],
             [
              0.5555555555555556,
              "#d8576b"
             ],
             [
              0.6666666666666666,
              "#ed7953"
             ],
             [
              0.7777777777777778,
              "#fb9f3a"
             ],
             [
              0.8888888888888888,
              "#fdca26"
             ],
             [
              1,
              "#f0f921"
             ]
            ],
            "type": "histogram2dcontour"
           }
          ],
          "mesh3d": [
           {
            "colorbar": {
             "outlinewidth": 0,
             "ticks": ""
            },
            "type": "mesh3d"
           }
          ],
          "parcoords": [
           {
            "line": {
             "colorbar": {
              "outlinewidth": 0,
              "ticks": ""
             }
            },
            "type": "parcoords"
           }
          ],
          "pie": [
           {
            "automargin": true,
            "type": "pie"
           }
          ],
          "scatter": [
           {
            "marker": {
             "colorbar": {
              "outlinewidth": 0,
              "ticks": ""
             }
            },
            "type": "scatter"
           }
          ],
          "scatter3d": [
           {
            "line": {
             "colorbar": {
              "outlinewidth": 0,
              "ticks": ""
             }
            },
            "marker": {
             "colorbar": {
              "outlinewidth": 0,
              "ticks": ""
             }
            },
            "type": "scatter3d"
           }
          ],
          "scattercarpet": [
           {
            "marker": {
             "colorbar": {
              "outlinewidth": 0,
              "ticks": ""
             }
            },
            "type": "scattercarpet"
           }
          ],
          "scattergeo": [
           {
            "marker": {
             "colorbar": {
              "outlinewidth": 0,
              "ticks": ""
             }
            },
            "type": "scattergeo"
           }
          ],
          "scattergl": [
           {
            "marker": {
             "colorbar": {
              "outlinewidth": 0,
              "ticks": ""
             }
            },
            "type": "scattergl"
           }
          ],
          "scattermapbox": [
           {
            "marker": {
             "colorbar": {
              "outlinewidth": 0,
              "ticks": ""
             }
            },
            "type": "scattermapbox"
           }
          ],
          "scatterpolar": [
           {
            "marker": {
             "colorbar": {
              "outlinewidth": 0,
              "ticks": ""
             }
            },
            "type": "scatterpolar"
           }
          ],
          "scatterpolargl": [
           {
            "marker": {
             "colorbar": {
              "outlinewidth": 0,
              "ticks": ""
             }
            },
            "type": "scatterpolargl"
           }
          ],
          "scatterternary": [
           {
            "marker": {
             "colorbar": {
              "outlinewidth": 0,
              "ticks": ""
             }
            },
            "type": "scatterternary"
           }
          ],
          "surface": [
           {
            "colorbar": {
             "outlinewidth": 0,
             "ticks": ""
            },
            "colorscale": [
             [
              0,
              "#0d0887"
             ],
             [
              0.1111111111111111,
              "#46039f"
             ],
             [
              0.2222222222222222,
              "#7201a8"
             ],
             [
              0.3333333333333333,
              "#9c179e"
             ],
             [
              0.4444444444444444,
              "#bd3786"
             ],
             [
              0.5555555555555556,
              "#d8576b"
             ],
             [
              0.6666666666666666,
              "#ed7953"
             ],
             [
              0.7777777777777778,
              "#fb9f3a"
             ],
             [
              0.8888888888888888,
              "#fdca26"
             ],
             [
              1,
              "#f0f921"
             ]
            ],
            "type": "surface"
           }
          ],
          "table": [
           {
            "cells": {
             "fill": {
              "color": "#EBF0F8"
             },
             "line": {
              "color": "white"
             }
            },
            "header": {
             "fill": {
              "color": "#C8D4E3"
             },
             "line": {
              "color": "white"
             }
            },
            "type": "table"
           }
          ]
         },
         "layout": {
          "annotationdefaults": {
           "arrowcolor": "#2a3f5f",
           "arrowhead": 0,
           "arrowwidth": 1
          },
          "coloraxis": {
           "colorbar": {
            "outlinewidth": 0,
            "ticks": ""
           }
          },
          "colorscale": {
           "diverging": [
            [
             0,
             "#8e0152"
            ],
            [
             0.1,
             "#c51b7d"
            ],
            [
             0.2,
             "#de77ae"
            ],
            [
             0.3,
             "#f1b6da"
            ],
            [
             0.4,
             "#fde0ef"
            ],
            [
             0.5,
             "#f7f7f7"
            ],
            [
             0.6,
             "#e6f5d0"
            ],
            [
             0.7,
             "#b8e186"
            ],
            [
             0.8,
             "#7fbc41"
            ],
            [
             0.9,
             "#4d9221"
            ],
            [
             1,
             "#276419"
            ]
           ],
           "sequential": [
            [
             0,
             "#0d0887"
            ],
            [
             0.1111111111111111,
             "#46039f"
            ],
            [
             0.2222222222222222,
             "#7201a8"
            ],
            [
             0.3333333333333333,
             "#9c179e"
            ],
            [
             0.4444444444444444,
             "#bd3786"
            ],
            [
             0.5555555555555556,
             "#d8576b"
            ],
            [
             0.6666666666666666,
             "#ed7953"
            ],
            [
             0.7777777777777778,
             "#fb9f3a"
            ],
            [
             0.8888888888888888,
             "#fdca26"
            ],
            [
             1,
             "#f0f921"
            ]
           ],
           "sequentialminus": [
            [
             0,
             "#0d0887"
            ],
            [
             0.1111111111111111,
             "#46039f"
            ],
            [
             0.2222222222222222,
             "#7201a8"
            ],
            [
             0.3333333333333333,
             "#9c179e"
            ],
            [
             0.4444444444444444,
             "#bd3786"
            ],
            [
             0.5555555555555556,
             "#d8576b"
            ],
            [
             0.6666666666666666,
             "#ed7953"
            ],
            [
             0.7777777777777778,
             "#fb9f3a"
            ],
            [
             0.8888888888888888,
             "#fdca26"
            ],
            [
             1,
             "#f0f921"
            ]
           ]
          },
          "colorway": [
           "#636efa",
           "#EF553B",
           "#00cc96",
           "#ab63fa",
           "#FFA15A",
           "#19d3f3",
           "#FF6692",
           "#B6E880",
           "#FF97FF",
           "#FECB52"
          ],
          "font": {
           "color": "#2a3f5f"
          },
          "geo": {
           "bgcolor": "white",
           "lakecolor": "white",
           "landcolor": "#E5ECF6",
           "showlakes": true,
           "showland": true,
           "subunitcolor": "white"
          },
          "hoverlabel": {
           "align": "left"
          },
          "hovermode": "closest",
          "mapbox": {
           "style": "light"
          },
          "paper_bgcolor": "white",
          "plot_bgcolor": "#E5ECF6",
          "polar": {
           "angularaxis": {
            "gridcolor": "white",
            "linecolor": "white",
            "ticks": ""
           },
           "bgcolor": "#E5ECF6",
           "radialaxis": {
            "gridcolor": "white",
            "linecolor": "white",
            "ticks": ""
           }
          },
          "scene": {
           "xaxis": {
            "backgroundcolor": "#E5ECF6",
            "gridcolor": "white",
            "gridwidth": 2,
            "linecolor": "white",
            "showbackground": true,
            "ticks": "",
            "zerolinecolor": "white"
           },
           "yaxis": {
            "backgroundcolor": "#E5ECF6",
            "gridcolor": "white",
            "gridwidth": 2,
            "linecolor": "white",
            "showbackground": true,
            "ticks": "",
            "zerolinecolor": "white"
           },
           "zaxis": {
            "backgroundcolor": "#E5ECF6",
            "gridcolor": "white",
            "gridwidth": 2,
            "linecolor": "white",
            "showbackground": true,
            "ticks": "",
            "zerolinecolor": "white"
           }
          },
          "shapedefaults": {
           "line": {
            "color": "#2a3f5f"
           }
          },
          "ternary": {
           "aaxis": {
            "gridcolor": "white",
            "linecolor": "white",
            "ticks": ""
           },
           "baxis": {
            "gridcolor": "white",
            "linecolor": "white",
            "ticks": ""
           },
           "bgcolor": "#E5ECF6",
           "caxis": {
            "gridcolor": "white",
            "linecolor": "white",
            "ticks": ""
           }
          },
          "title": {
           "x": 0.05
          },
          "xaxis": {
           "automargin": true,
           "gridcolor": "white",
           "linecolor": "white",
           "ticks": "",
           "title": {
            "standoff": 15
           },
           "zerolinecolor": "white",
           "zerolinewidth": 2
          },
          "yaxis": {
           "automargin": true,
           "gridcolor": "white",
           "linecolor": "white",
           "ticks": "",
           "title": {
            "standoff": 15
           },
           "zerolinecolor": "white",
           "zerolinewidth": 2
          }
         }
        },
        "title": {
         "text": "Cost affect on risk_cost"
        },
        "width": 1000,
        "xaxis": {
         "title": {
          "text": "conf"
         }
        }
       }
      }
     },
     "metadata": {}
    }
   ],
   "source": [
    "conf = 0.9\n",
    "n_increments = 10\n",
    "n_iterations = 100\n",
    "#if it's even add one\n",
    "\n",
    "df_sens = comp.sensitivity(var_name = df_inspection_slow, conf =  conf, n_increments = n_increments, n_iterations = n_iterations)\n",
    "\n",
    "comp.make_sensitivity_plot(data = df_sens, x_axis = 'conf', y_axis = 'var_name', failure_mode = 'slow_aging', plot_type = 'heatmap', z_axis = 'risk_cost')\n"
   ]
  }
 ],
 "metadata": {
  "kernelspec": {
   "name": "python3",
   "display_name": "Python 3",
   "language": "python"
  },
  "language_info": {
   "codemirror_mode": {
    "name": "ipython",
    "version": 3
   },
   "file_extension": ".py",
   "mimetype": "text/x-python",
   "name": "python",
   "nbconvert_exporter": "python",
   "pygments_lexer": "ipython3",
   "version": "3.9.0-final"
  }
 },
 "nbformat": 4,
 "nbformat_minor": 2
}