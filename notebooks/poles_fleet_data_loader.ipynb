{
 "metadata": {
  "language_info": {
   "codemirror_mode": {
    "name": "ipython",
    "version": 3
   },
   "file_extension": ".py",
   "mimetype": "text/x-python",
   "name": "python",
   "nbconvert_exporter": "python",
   "pygments_lexer": "ipython3",
   "version": "3.9.0-final"
  },
  "orig_nbformat": 2,
  "kernelspec": {
   "name": "Python 3.9.0 64-bit ('pof': pipenv)",
   "display_name": "Python 3.9.0 64-bit ('pof': pipenv)",
   "metadata": {
    "interpreter": {
     "hash": "83f5435de71ac2e4b8e526773c414dfa133bd8a552d9417fb4333a67a7eadc67"
    }
   }
  }
 },
 "nbformat": 4,
 "nbformat_minor": 2,
 "cells": [
  {
   "cell_type": "code",
   "execution_count": 1,
   "metadata": {},
   "outputs": [],
   "source": [
    "import sys\n",
    "import os\n",
    "sys.path.append(os.path.dirname(os.getcwd()))\n",
    "\n",
    "import logging\n",
    "logging.getLogger().setLevel(logging.DEBUG)\n",
    "\n",
    "from dask.diagnostics import ProgressBar, ResourceProfiler\n",
    "from IPython.display import HTML"
   ]
  },
  {
   "cell_type": "code",
   "execution_count": 2,
   "metadata": {},
   "outputs": [],
   "source": [
    "from pof.loader.fleet_data import FleetData\n",
    "from pof.loader.poles_fleet_data_loader import PolesFleetDataLoader"
   ]
  },
  {
   "cell_type": "code",
   "execution_count": 3,
   "metadata": {},
   "outputs": [],
   "source": [
    "attributes = {\n",
    "    \"pole_material\": [],\n",
    "    \"pole_strength\": [],\n",
    "    \"age\": [],\n",
    "    \"DAGD_perfect_condition\": [],\n",
    "    \"DCZD_condition_loss\": [],\n",
    "    \"DPWT_perfect_condition\": [],\n",
    "    \"total_consequence\": [],\n",
    "}\n",
    "\n",
    "remove = None"
   ]
  },
  {
   "cell_type": "code",
   "execution_count": 4,
   "metadata": {},
   "outputs": [],
   "source": [
    "#pandas_or_dask = \"pandas\""
   ]
  },
  {
   "cell_type": "code",
   "execution_count": 5,
   "metadata": {},
   "outputs": [
    {
     "output_type": "stream",
     "name": "stderr",
     "text": [
      "DEBUG:root:Retrieving file path\n",
      "DEBUG:root:File path retrieved\n",
      "DEBUG:root:got into merge_data\n",
      "DEBUG:root:Loading consequence model\n",
      "DEBUG:root:Consequence model loaded\n",
      "DEBUG:root:Loading asset information\n",
      "DEBUG:root:Asset information loaded\n",
      "DEBUG:root:Loading condition data\n",
      "DEBUG:root:Condition data loaded\n",
      "DEBUG:root:Converting dask dataframes to pandas\n",
      "[########################################] | 100% Completed | 40.5s\n",
      "[########################################] | 100% Completed |  1min 19.4s\n",
      "[########################################] | 100% Completed |  2min 25.7s\n",
      "DEBUG:root:Load complete\n"
     ]
    }
   ],
   "source": [
    "with ProgressBar(), ResourceProfiler() as rprof:\n",
    "    pfd = PolesFleetDataLoader()"
   ]
  },
  {
   "cell_type": "code",
   "execution_count": 7,
   "metadata": {},
   "outputs": [
    {
     "output_type": "stream",
     "name": "stderr",
     "text": [
      "DEBUG:root:Creating FleetData object\n",
      "DEBUG:root:Validating data\n",
      "INFO:root:77.33% asset ids match in asset info and condition. 89.37% asset ids match in asset info and consequence.\n",
      "DEBUG:root:Data validated\n",
      "DEBUG:root:Converting date to age\n",
      "DEBUG:root:Date converted\n",
      "DEBUG:root:Obtaining field types\n",
      "DEBUG:root:Field types obtained\n",
      "DEBUG:root:Summarising asset data\n",
      "DEBUG:root:Asset data summarised\n",
      "DEBUG:root:Summarising condition\n",
      "DEBUG:root:Summarising condition: obtaining perfect condition\n",
      "DEBUG:root:Summarising condition: obtaining current condition\n",
      "DEBUG:root:Summarising condition: calculating condition loss\n",
      "DEBUG:root:Summarising condition: separating data per condition name\n",
      "DEBUG:root:Condition summarised\n",
      "DEBUG:root:Summarising consequence model data\n",
      "DEBUG:root:Consequence model data summarised\n",
      "DEBUG:root:FleetData object created\n",
      "Wall time: 8min 1s\n"
     ]
    }
   ],
   "source": [
    "%%time\n",
    "fd = pfd.get_fleet_data()"
   ]
  },
  {
   "cell_type": "code",
   "execution_count": 17,
   "metadata": {},
   "outputs": [
    {
     "output_type": "stream",
     "name": "stderr",
     "text": [
      "DEBUG:root:Filtering asset data\n",
      "DEBUG:root:Filtering condition data\n",
      "DEBUG:root:Filtering consequence data: NOTIMPLEMENTED\n",
      "DEBUG:root:Merging filtered data\n",
      "DEBUG:root:Obtaining bins for numerical data, n_bins = 10\n",
      "DEBUG:root:Obtaining bins for pole_strength\n",
      "DEBUG:root:Obtaining bins for age\n",
      "DEBUG:root:Obtaining bins for total_consequence\n",
      "DEBUG:root:Population data complete\n",
      "Wall time: 7.66 s\n"
     ]
    }
   ],
   "source": [
    "%%time\n",
    "population_data = fd.get_population_data(by=attributes, remove=remove, n_bins=10)"
   ]
  },
  {
   "cell_type": "code",
   "execution_count": 18,
   "metadata": {},
   "outputs": [
    {
     "output_type": "execute_result",
     "data": {
      "text/plain": [
       "        asset_id pole_material  pole_strength   age  DAGD_perfect_condition  \\\n",
       "0           1000        Timber           10.0  56.0                   250.0   \n",
       "1          10000        Timber           10.0  56.0                   300.0   \n",
       "2        1000001        Timber           10.0  28.0                   330.0   \n",
       "3        1000002        Timber           10.0  28.0                   270.0   \n",
       "4        1000005        Timber           10.0  56.0                   270.0   \n",
       "...          ...           ...            ...   ...                     ...   \n",
       "1230135     9995        Timber           10.0  56.0                   280.0   \n",
       "1230136     9996        Timber           10.0  56.0                   240.0   \n",
       "1230137     9997        Timber           10.0  56.0                   230.0   \n",
       "1230138     9998        Timber           10.0  56.0                   240.0   \n",
       "1230139     9999        Timber           10.0  56.0                   230.0   \n",
       "\n",
       "        DCZD_condition_loss  DPWT_perfect_condition  total_consequence  \n",
       "0                     False                   120.0          1059514.0  \n",
       "1                      True                   145.0          1059514.0  \n",
       "2                      True                   165.0          1059514.0  \n",
       "3                     False                   135.0          1059514.0  \n",
       "4                     False                   135.0          1059514.0  \n",
       "...                     ...                     ...                ...  \n",
       "1230135               False                   140.0          1059514.0  \n",
       "1230136               False                   100.0          1059514.0  \n",
       "1230137                True                    60.0          1059514.0  \n",
       "1230138               False                   100.0          1059514.0  \n",
       "1230139                True                   100.0          1059514.0  \n",
       "\n",
       "[1230140 rows x 8 columns]"
      ],
      "text/html": "<div>\n<style scoped>\n    .dataframe tbody tr th:only-of-type {\n        vertical-align: middle;\n    }\n\n    .dataframe tbody tr th {\n        vertical-align: top;\n    }\n\n    .dataframe thead th {\n        text-align: right;\n    }\n</style>\n<table border=\"1\" class=\"dataframe\">\n  <thead>\n    <tr style=\"text-align: right;\">\n      <th></th>\n      <th>asset_id</th>\n      <th>pole_material</th>\n      <th>pole_strength</th>\n      <th>age</th>\n      <th>DAGD_perfect_condition</th>\n      <th>DCZD_condition_loss</th>\n      <th>DPWT_perfect_condition</th>\n      <th>total_consequence</th>\n    </tr>\n  </thead>\n  <tbody>\n    <tr>\n      <th>0</th>\n      <td>1000</td>\n      <td>Timber</td>\n      <td>10.0</td>\n      <td>56.0</td>\n      <td>250.0</td>\n      <td>False</td>\n      <td>120.0</td>\n      <td>1059514.0</td>\n    </tr>\n    <tr>\n      <th>1</th>\n      <td>10000</td>\n      <td>Timber</td>\n      <td>10.0</td>\n      <td>56.0</td>\n      <td>300.0</td>\n      <td>True</td>\n      <td>145.0</td>\n      <td>1059514.0</td>\n    </tr>\n    <tr>\n      <th>2</th>\n      <td>1000001</td>\n      <td>Timber</td>\n      <td>10.0</td>\n      <td>28.0</td>\n      <td>330.0</td>\n      <td>True</td>\n      <td>165.0</td>\n      <td>1059514.0</td>\n    </tr>\n    <tr>\n      <th>3</th>\n      <td>1000002</td>\n      <td>Timber</td>\n      <td>10.0</td>\n      <td>28.0</td>\n      <td>270.0</td>\n      <td>False</td>\n      <td>135.0</td>\n      <td>1059514.0</td>\n    </tr>\n    <tr>\n      <th>4</th>\n      <td>1000005</td>\n      <td>Timber</td>\n      <td>10.0</td>\n      <td>56.0</td>\n      <td>270.0</td>\n      <td>False</td>\n      <td>135.0</td>\n      <td>1059514.0</td>\n    </tr>\n    <tr>\n      <th>...</th>\n      <td>...</td>\n      <td>...</td>\n      <td>...</td>\n      <td>...</td>\n      <td>...</td>\n      <td>...</td>\n      <td>...</td>\n      <td>...</td>\n    </tr>\n    <tr>\n      <th>1230135</th>\n      <td>9995</td>\n      <td>Timber</td>\n      <td>10.0</td>\n      <td>56.0</td>\n      <td>280.0</td>\n      <td>False</td>\n      <td>140.0</td>\n      <td>1059514.0</td>\n    </tr>\n    <tr>\n      <th>1230136</th>\n      <td>9996</td>\n      <td>Timber</td>\n      <td>10.0</td>\n      <td>56.0</td>\n      <td>240.0</td>\n      <td>False</td>\n      <td>100.0</td>\n      <td>1059514.0</td>\n    </tr>\n    <tr>\n      <th>1230137</th>\n      <td>9997</td>\n      <td>Timber</td>\n      <td>10.0</td>\n      <td>56.0</td>\n      <td>230.0</td>\n      <td>True</td>\n      <td>60.0</td>\n      <td>1059514.0</td>\n    </tr>\n    <tr>\n      <th>1230138</th>\n      <td>9998</td>\n      <td>Timber</td>\n      <td>10.0</td>\n      <td>56.0</td>\n      <td>240.0</td>\n      <td>False</td>\n      <td>100.0</td>\n      <td>1059514.0</td>\n    </tr>\n    <tr>\n      <th>1230139</th>\n      <td>9999</td>\n      <td>Timber</td>\n      <td>10.0</td>\n      <td>56.0</td>\n      <td>230.0</td>\n      <td>True</td>\n      <td>100.0</td>\n      <td>1059514.0</td>\n    </tr>\n  </tbody>\n</table>\n<p>1230140 rows × 8 columns</p>\n</div>"
     },
     "metadata": {},
     "execution_count": 18
    }
   ],
   "source": [
    "population_data"
   ]
  },
  {
   "cell_type": "code",
   "execution_count": 19,
   "metadata": {},
   "outputs": [
    {
     "output_type": "stream",
     "name": "stderr",
     "text": [
      "DEBUG:root:Filtering asset data\n",
      "DEBUG:root:Filtering condition data\n",
      "DEBUG:root:Filtering consequence data: NOTIMPLEMENTED\n",
      "DEBUG:root:Merging filtered data\n",
      "DEBUG:root:Obtaining bins for numerical data, n_bins = 10\n",
      "DEBUG:root:Obtaining bins for pole_strength\n",
      "DEBUG:root:Obtaining bins for age\n",
      "DEBUG:root:Obtaining bins for total_consequence\n",
      "DEBUG:root:Population data complete\n",
      "DEBUG:root:Summarising population data\n",
      "DEBUG:root:Population summary complete\n",
      "Wall time: 7.35 s\n"
     ]
    }
   ],
   "source": [
    "%%time\n",
    "population_summary = fd.get_population_summary(\n",
    "    by=attributes, remove=remove, n_bins=10\n",
    ")"
   ]
  },
  {
   "cell_type": "code",
   "execution_count": 20,
   "metadata": {},
   "outputs": [
    {
     "output_type": "execute_result",
     "data": {
      "text/plain": [
       "      pole_material  pole_strength    age  DAGD_perfect_condition  \\\n",
       "0         Aluminium           10.0   28.0                   260.0   \n",
       "1         Aluminium           10.0   28.0                   270.0   \n",
       "2         Aluminium           10.0   28.0                   310.0   \n",
       "3         Aluminium           10.0   56.0                   100.0   \n",
       "4         Aluminium           10.0   56.0                   250.0   \n",
       "...             ...            ...    ...                     ...   \n",
       "21636       Unknown            NaN  139.0                   250.0   \n",
       "21637           NaN           10.0   28.0                   270.0   \n",
       "21638           NaN           10.0   56.0                   280.0   \n",
       "21639           NaN           10.0   83.0                   150.0   \n",
       "21640           NaN            NaN   56.0                   230.0   \n",
       "\n",
       "      DCZD_condition_loss  DPWT_perfect_condition  total_consequence  count  \n",
       "0                    True                   100.0          1059514.0      1  \n",
       "1                   False                   135.0          1059514.0      1  \n",
       "2                    True                   155.0          1059514.0      1  \n",
       "3                    True                    50.0          1059514.0      1  \n",
       "4                    True                   125.0          1059514.0      1  \n",
       "...                   ...                     ...                ...    ...  \n",
       "21636                True                   125.0                NaN      2  \n",
       "21637                True                   135.0                NaN      1  \n",
       "21638               False                   140.0          1059514.0      1  \n",
       "21639                True                    75.0          1059514.0      1  \n",
       "21640                True                   115.0          1059514.0      1  \n",
       "\n",
       "[21641 rows x 8 columns]"
      ],
      "text/html": "<div>\n<style scoped>\n    .dataframe tbody tr th:only-of-type {\n        vertical-align: middle;\n    }\n\n    .dataframe tbody tr th {\n        vertical-align: top;\n    }\n\n    .dataframe thead th {\n        text-align: right;\n    }\n</style>\n<table border=\"1\" class=\"dataframe\">\n  <thead>\n    <tr style=\"text-align: right;\">\n      <th></th>\n      <th>pole_material</th>\n      <th>pole_strength</th>\n      <th>age</th>\n      <th>DAGD_perfect_condition</th>\n      <th>DCZD_condition_loss</th>\n      <th>DPWT_perfect_condition</th>\n      <th>total_consequence</th>\n      <th>count</th>\n    </tr>\n  </thead>\n  <tbody>\n    <tr>\n      <th>0</th>\n      <td>Aluminium</td>\n      <td>10.0</td>\n      <td>28.0</td>\n      <td>260.0</td>\n      <td>True</td>\n      <td>100.0</td>\n      <td>1059514.0</td>\n      <td>1</td>\n    </tr>\n    <tr>\n      <th>1</th>\n      <td>Aluminium</td>\n      <td>10.0</td>\n      <td>28.0</td>\n      <td>270.0</td>\n      <td>False</td>\n      <td>135.0</td>\n      <td>1059514.0</td>\n      <td>1</td>\n    </tr>\n    <tr>\n      <th>2</th>\n      <td>Aluminium</td>\n      <td>10.0</td>\n      <td>28.0</td>\n      <td>310.0</td>\n      <td>True</td>\n      <td>155.0</td>\n      <td>1059514.0</td>\n      <td>1</td>\n    </tr>\n    <tr>\n      <th>3</th>\n      <td>Aluminium</td>\n      <td>10.0</td>\n      <td>56.0</td>\n      <td>100.0</td>\n      <td>True</td>\n      <td>50.0</td>\n      <td>1059514.0</td>\n      <td>1</td>\n    </tr>\n    <tr>\n      <th>4</th>\n      <td>Aluminium</td>\n      <td>10.0</td>\n      <td>56.0</td>\n      <td>250.0</td>\n      <td>True</td>\n      <td>125.0</td>\n      <td>1059514.0</td>\n      <td>1</td>\n    </tr>\n    <tr>\n      <th>...</th>\n      <td>...</td>\n      <td>...</td>\n      <td>...</td>\n      <td>...</td>\n      <td>...</td>\n      <td>...</td>\n      <td>...</td>\n      <td>...</td>\n    </tr>\n    <tr>\n      <th>21636</th>\n      <td>Unknown</td>\n      <td>NaN</td>\n      <td>139.0</td>\n      <td>250.0</td>\n      <td>True</td>\n      <td>125.0</td>\n      <td>NaN</td>\n      <td>2</td>\n    </tr>\n    <tr>\n      <th>21637</th>\n      <td>NaN</td>\n      <td>10.0</td>\n      <td>28.0</td>\n      <td>270.0</td>\n      <td>True</td>\n      <td>135.0</td>\n      <td>NaN</td>\n      <td>1</td>\n    </tr>\n    <tr>\n      <th>21638</th>\n      <td>NaN</td>\n      <td>10.0</td>\n      <td>56.0</td>\n      <td>280.0</td>\n      <td>False</td>\n      <td>140.0</td>\n      <td>1059514.0</td>\n      <td>1</td>\n    </tr>\n    <tr>\n      <th>21639</th>\n      <td>NaN</td>\n      <td>10.0</td>\n      <td>83.0</td>\n      <td>150.0</td>\n      <td>True</td>\n      <td>75.0</td>\n      <td>1059514.0</td>\n      <td>1</td>\n    </tr>\n    <tr>\n      <th>21640</th>\n      <td>NaN</td>\n      <td>NaN</td>\n      <td>56.0</td>\n      <td>230.0</td>\n      <td>True</td>\n      <td>115.0</td>\n      <td>1059514.0</td>\n      <td>1</td>\n    </tr>\n  </tbody>\n</table>\n<p>21641 rows × 8 columns</p>\n</div>"
     },
     "metadata": {},
     "execution_count": 20
    }
   ],
   "source": [
    "population_summary"
   ]
  },
  {
   "cell_type": "code",
   "execution_count": null,
   "metadata": {},
   "outputs": [],
   "source": [
    "#pandas_or_dask = \"dask\""
   ]
  },
  {
   "cell_type": "code",
   "execution_count": 4,
   "metadata": {},
   "outputs": [
    {
     "output_type": "stream",
     "name": "stderr",
     "text": [
      "DEBUG:root:Retrieving file path\n",
      "DEBUG:root:File path retrieved\n",
      "DEBUG:root:got into merge_data\n",
      "DEBUG:root:Loading consequence model\n",
      "DEBUG:root:Consequence model loaded\n",
      "DEBUG:root:Loading asset information\n",
      "DEBUG:root:Asset information loaded\n",
      "DEBUG:root:Loading condition data\n",
      "DEBUG:root:Condition data loaded\n",
      "DEBUG:root:Load complete\n"
     ]
    }
   ],
   "source": [
    "with ProgressBar(), ResourceProfiler() as rprof:\n",
    "    pfd = PolesFleetDataLoader()"
   ]
  },
  {
   "cell_type": "code",
   "execution_count": 5,
   "metadata": {},
   "outputs": [
    {
     "output_type": "stream",
     "name": "stderr",
     "text": [
      "DEBUG:root:Creating FleetData object\n",
      "DEBUG:root:Validating data\n",
      "[                                        ] | 0% Completed |  5.2s\n"
     ]
    },
    {
     "output_type": "error",
     "ename": "KeyboardInterrupt",
     "evalue": "",
     "traceback": [
      "\u001b[1;31m---------------------------------------------------------------------------\u001b[0m",
      "\u001b[1;31mKeyboardInterrupt\u001b[0m                         Traceback (most recent call last)",
      "\u001b[1;32m<ipython-input-5-de5fe0b5c5d0>\u001b[0m in \u001b[0;36m<module>\u001b[1;34m\u001b[0m\n\u001b[0;32m      1\u001b[0m \u001b[1;32mwith\u001b[0m \u001b[0mProgressBar\u001b[0m\u001b[1;33m(\u001b[0m\u001b[1;33m)\u001b[0m\u001b[1;33m,\u001b[0m \u001b[0mResourceProfiler\u001b[0m\u001b[1;33m(\u001b[0m\u001b[1;33m)\u001b[0m \u001b[1;32mas\u001b[0m \u001b[0mrprof\u001b[0m\u001b[1;33m:\u001b[0m\u001b[1;33m\u001b[0m\u001b[1;33m\u001b[0m\u001b[0m\n\u001b[1;32m----> 2\u001b[1;33m     \u001b[0mfd\u001b[0m \u001b[1;33m=\u001b[0m \u001b[0mpfd\u001b[0m\u001b[1;33m.\u001b[0m\u001b[0mget_fleet_data\u001b[0m\u001b[1;33m(\u001b[0m\u001b[1;33m)\u001b[0m\u001b[1;33m\u001b[0m\u001b[1;33m\u001b[0m\u001b[0m\n\u001b[0m",
      "\u001b[1;32mc:\\Users\\ischram\\OneDrive - KPMG\\Documents\\pof\\pof\\loader\\poles_fleet_data_loader.py\u001b[0m in \u001b[0;36mget_fleet_data\u001b[1;34m(self)\u001b[0m\n\u001b[0;32m    291\u001b[0m         \u001b[0mlogging\u001b[0m\u001b[1;33m.\u001b[0m\u001b[0mdebug\u001b[0m\u001b[1;33m(\u001b[0m\u001b[1;34m\"Creating FleetData object\"\u001b[0m\u001b[1;33m)\u001b[0m\u001b[1;33m\u001b[0m\u001b[1;33m\u001b[0m\u001b[0m\n\u001b[0;32m    292\u001b[0m \u001b[1;33m\u001b[0m\u001b[0m\n\u001b[1;32m--> 293\u001b[1;33m         return FleetData(\n\u001b[0m\u001b[0;32m    294\u001b[0m             \u001b[0masset_info\u001b[0m\u001b[1;33m=\u001b[0m\u001b[0mself\u001b[0m\u001b[1;33m.\u001b[0m\u001b[0mdf_asset_info\u001b[0m\u001b[1;33m,\u001b[0m\u001b[1;33m\u001b[0m\u001b[1;33m\u001b[0m\u001b[0m\n\u001b[0;32m    295\u001b[0m             \u001b[0mcondition\u001b[0m\u001b[1;33m=\u001b[0m\u001b[0mself\u001b[0m\u001b[1;33m.\u001b[0m\u001b[0mcondition_data\u001b[0m\u001b[1;33m,\u001b[0m\u001b[1;33m\u001b[0m\u001b[1;33m\u001b[0m\u001b[0m\n",
      "\u001b[1;32mc:\\Users\\ischram\\OneDrive - KPMG\\Documents\\pof\\pof\\loader\\fleet_data.py\u001b[0m in \u001b[0;36m__init__\u001b[1;34m(self, asset_info, condition, csq_info, pandas_or_dask)\u001b[0m\n\u001b[0;32m     47\u001b[0m \u001b[1;33m\u001b[0m\u001b[0m\n\u001b[0;32m     48\u001b[0m             \u001b[1;31m# Data Validation\u001b[0m\u001b[1;33m\u001b[0m\u001b[1;33m\u001b[0m\u001b[1;33m\u001b[0m\u001b[0m\n\u001b[1;32m---> 49\u001b[1;33m             \u001b[0mself\u001b[0m\u001b[1;33m.\u001b[0m\u001b[0m_validate_data\u001b[0m\u001b[1;33m(\u001b[0m\u001b[1;33m)\u001b[0m\u001b[1;33m\u001b[0m\u001b[1;33m\u001b[0m\u001b[0m\n\u001b[0m\u001b[0;32m     50\u001b[0m \u001b[1;33m\u001b[0m\u001b[0m\n\u001b[0;32m     51\u001b[0m             \u001b[1;31m# Data Preparation\u001b[0m\u001b[1;33m\u001b[0m\u001b[1;33m\u001b[0m\u001b[1;33m\u001b[0m\u001b[0m\n",
      "\u001b[1;32mc:\\Users\\ischram\\OneDrive - KPMG\\Documents\\pof\\pof\\loader\\fleet_data.py\u001b[0m in \u001b[0;36m_validate_data\u001b[1;34m(self)\u001b[0m\n\u001b[0;32m     79\u001b[0m         \u001b[0mcsq_info_assets\u001b[0m \u001b[1;33m=\u001b[0m \u001b[0mself\u001b[0m\u001b[1;33m.\u001b[0m\u001b[0mcsq_info\u001b[0m\u001b[1;33m[\u001b[0m\u001b[1;34m\"asset_id\"\u001b[0m\u001b[1;33m]\u001b[0m\u001b[1;33m.\u001b[0m\u001b[0mdrop_duplicates\u001b[0m\u001b[1;33m(\u001b[0m\u001b[1;33m)\u001b[0m\u001b[1;33m.\u001b[0m\u001b[0mreset_index\u001b[0m\u001b[1;33m(\u001b[0m\u001b[1;33m)\u001b[0m\u001b[1;33m\u001b[0m\u001b[1;33m\u001b[0m\u001b[0m\n\u001b[0;32m     80\u001b[0m \u001b[1;33m\u001b[0m\u001b[0m\n\u001b[1;32m---> 81\u001b[1;33m         match_cond = asset_info_assets.merge(\n\u001b[0m\u001b[0;32m     82\u001b[0m             \u001b[0mcondition_assets\u001b[0m\u001b[1;33m,\u001b[0m \u001b[0mon\u001b[0m\u001b[1;33m=\u001b[0m\u001b[1;34m\"asset_id\"\u001b[0m\u001b[1;33m\u001b[0m\u001b[1;33m\u001b[0m\u001b[0m\n\u001b[0;32m     83\u001b[0m         ).index.size.compute()\n",
      "\u001b[1;32mc:\\Users\\ischram\\OneDrive - KPMG\\Documents\\pof\\.venv\\lib\\site-packages\\dask\\base.py\u001b[0m in \u001b[0;36mcompute\u001b[1;34m(self, **kwargs)\u001b[0m\n\u001b[0;32m    165\u001b[0m         \u001b[0mdask\u001b[0m\u001b[1;33m.\u001b[0m\u001b[0mbase\u001b[0m\u001b[1;33m.\u001b[0m\u001b[0mcompute\u001b[0m\u001b[1;33m\u001b[0m\u001b[1;33m\u001b[0m\u001b[0m\n\u001b[0;32m    166\u001b[0m         \"\"\"\n\u001b[1;32m--> 167\u001b[1;33m         \u001b[1;33m(\u001b[0m\u001b[0mresult\u001b[0m\u001b[1;33m,\u001b[0m\u001b[1;33m)\u001b[0m \u001b[1;33m=\u001b[0m \u001b[0mcompute\u001b[0m\u001b[1;33m(\u001b[0m\u001b[0mself\u001b[0m\u001b[1;33m,\u001b[0m \u001b[0mtraverse\u001b[0m\u001b[1;33m=\u001b[0m\u001b[1;32mFalse\u001b[0m\u001b[1;33m,\u001b[0m \u001b[1;33m**\u001b[0m\u001b[0mkwargs\u001b[0m\u001b[1;33m)\u001b[0m\u001b[1;33m\u001b[0m\u001b[1;33m\u001b[0m\u001b[0m\n\u001b[0m\u001b[0;32m    168\u001b[0m         \u001b[1;32mreturn\u001b[0m \u001b[0mresult\u001b[0m\u001b[1;33m\u001b[0m\u001b[1;33m\u001b[0m\u001b[0m\n\u001b[0;32m    169\u001b[0m \u001b[1;33m\u001b[0m\u001b[0m\n",
      "\u001b[1;32mc:\\Users\\ischram\\OneDrive - KPMG\\Documents\\pof\\.venv\\lib\\site-packages\\dask\\base.py\u001b[0m in \u001b[0;36mcompute\u001b[1;34m(*args, **kwargs)\u001b[0m\n\u001b[0;32m    450\u001b[0m         \u001b[0mpostcomputes\u001b[0m\u001b[1;33m.\u001b[0m\u001b[0mappend\u001b[0m\u001b[1;33m(\u001b[0m\u001b[0mx\u001b[0m\u001b[1;33m.\u001b[0m\u001b[0m__dask_postcompute__\u001b[0m\u001b[1;33m(\u001b[0m\u001b[1;33m)\u001b[0m\u001b[1;33m)\u001b[0m\u001b[1;33m\u001b[0m\u001b[1;33m\u001b[0m\u001b[0m\n\u001b[0;32m    451\u001b[0m \u001b[1;33m\u001b[0m\u001b[0m\n\u001b[1;32m--> 452\u001b[1;33m     \u001b[0mresults\u001b[0m \u001b[1;33m=\u001b[0m \u001b[0mschedule\u001b[0m\u001b[1;33m(\u001b[0m\u001b[0mdsk\u001b[0m\u001b[1;33m,\u001b[0m \u001b[0mkeys\u001b[0m\u001b[1;33m,\u001b[0m \u001b[1;33m**\u001b[0m\u001b[0mkwargs\u001b[0m\u001b[1;33m)\u001b[0m\u001b[1;33m\u001b[0m\u001b[1;33m\u001b[0m\u001b[0m\n\u001b[0m\u001b[0;32m    453\u001b[0m     \u001b[1;32mreturn\u001b[0m \u001b[0mrepack\u001b[0m\u001b[1;33m(\u001b[0m\u001b[1;33m[\u001b[0m\u001b[0mf\u001b[0m\u001b[1;33m(\u001b[0m\u001b[0mr\u001b[0m\u001b[1;33m,\u001b[0m \u001b[1;33m*\u001b[0m\u001b[0ma\u001b[0m\u001b[1;33m)\u001b[0m \u001b[1;32mfor\u001b[0m \u001b[0mr\u001b[0m\u001b[1;33m,\u001b[0m \u001b[1;33m(\u001b[0m\u001b[0mf\u001b[0m\u001b[1;33m,\u001b[0m \u001b[0ma\u001b[0m\u001b[1;33m)\u001b[0m \u001b[1;32min\u001b[0m \u001b[0mzip\u001b[0m\u001b[1;33m(\u001b[0m\u001b[0mresults\u001b[0m\u001b[1;33m,\u001b[0m \u001b[0mpostcomputes\u001b[0m\u001b[1;33m)\u001b[0m\u001b[1;33m]\u001b[0m\u001b[1;33m)\u001b[0m\u001b[1;33m\u001b[0m\u001b[1;33m\u001b[0m\u001b[0m\n\u001b[0;32m    454\u001b[0m \u001b[1;33m\u001b[0m\u001b[0m\n",
      "\u001b[1;32mc:\\Users\\ischram\\OneDrive - KPMG\\Documents\\pof\\.venv\\lib\\site-packages\\dask\\threaded.py\u001b[0m in \u001b[0;36mget\u001b[1;34m(dsk, result, cache, num_workers, pool, **kwargs)\u001b[0m\n\u001b[0;32m     74\u001b[0m                 \u001b[0mpools\u001b[0m\u001b[1;33m[\u001b[0m\u001b[0mthread\u001b[0m\u001b[1;33m]\u001b[0m\u001b[1;33m[\u001b[0m\u001b[0mnum_workers\u001b[0m\u001b[1;33m]\u001b[0m \u001b[1;33m=\u001b[0m \u001b[0mpool\u001b[0m\u001b[1;33m\u001b[0m\u001b[1;33m\u001b[0m\u001b[0m\n\u001b[0;32m     75\u001b[0m \u001b[1;33m\u001b[0m\u001b[0m\n\u001b[1;32m---> 76\u001b[1;33m     results = get_async(\n\u001b[0m\u001b[0;32m     77\u001b[0m         \u001b[0mpool\u001b[0m\u001b[1;33m.\u001b[0m\u001b[0mapply_async\u001b[0m\u001b[1;33m,\u001b[0m\u001b[1;33m\u001b[0m\u001b[1;33m\u001b[0m\u001b[0m\n\u001b[0;32m     78\u001b[0m         \u001b[0mlen\u001b[0m\u001b[1;33m(\u001b[0m\u001b[0mpool\u001b[0m\u001b[1;33m.\u001b[0m\u001b[0m_pool\u001b[0m\u001b[1;33m)\u001b[0m\u001b[1;33m,\u001b[0m\u001b[1;33m\u001b[0m\u001b[1;33m\u001b[0m\u001b[0m\n",
      "\u001b[1;32mc:\\Users\\ischram\\OneDrive - KPMG\\Documents\\pof\\.venv\\lib\\site-packages\\dask\\local.py\u001b[0m in \u001b[0;36mget_async\u001b[1;34m(apply_async, num_workers, dsk, result, cache, get_id, rerun_exceptions_locally, pack_exception, raise_exception, callbacks, dumps, loads, **kwargs)\u001b[0m\n\u001b[0;32m    473\u001b[0m             \u001b[1;31m# Main loop, wait on tasks to finish, insert new ones\u001b[0m\u001b[1;33m\u001b[0m\u001b[1;33m\u001b[0m\u001b[1;33m\u001b[0m\u001b[0m\n\u001b[0;32m    474\u001b[0m             \u001b[1;32mwhile\u001b[0m \u001b[0mstate\u001b[0m\u001b[1;33m[\u001b[0m\u001b[1;34m\"waiting\"\u001b[0m\u001b[1;33m]\u001b[0m \u001b[1;32mor\u001b[0m \u001b[0mstate\u001b[0m\u001b[1;33m[\u001b[0m\u001b[1;34m\"ready\"\u001b[0m\u001b[1;33m]\u001b[0m \u001b[1;32mor\u001b[0m \u001b[0mstate\u001b[0m\u001b[1;33m[\u001b[0m\u001b[1;34m\"running\"\u001b[0m\u001b[1;33m]\u001b[0m\u001b[1;33m:\u001b[0m\u001b[1;33m\u001b[0m\u001b[1;33m\u001b[0m\u001b[0m\n\u001b[1;32m--> 475\u001b[1;33m                 \u001b[0mkey\u001b[0m\u001b[1;33m,\u001b[0m \u001b[0mres_info\u001b[0m\u001b[1;33m,\u001b[0m \u001b[0mfailed\u001b[0m \u001b[1;33m=\u001b[0m \u001b[0mqueue_get\u001b[0m\u001b[1;33m(\u001b[0m\u001b[0mqueue\u001b[0m\u001b[1;33m)\u001b[0m\u001b[1;33m\u001b[0m\u001b[1;33m\u001b[0m\u001b[0m\n\u001b[0m\u001b[0;32m    476\u001b[0m                 \u001b[1;32mif\u001b[0m \u001b[0mfailed\u001b[0m\u001b[1;33m:\u001b[0m\u001b[1;33m\u001b[0m\u001b[1;33m\u001b[0m\u001b[0m\n\u001b[0;32m    477\u001b[0m                     \u001b[0mexc\u001b[0m\u001b[1;33m,\u001b[0m \u001b[0mtb\u001b[0m \u001b[1;33m=\u001b[0m \u001b[0mloads\u001b[0m\u001b[1;33m(\u001b[0m\u001b[0mres_info\u001b[0m\u001b[1;33m)\u001b[0m\u001b[1;33m\u001b[0m\u001b[1;33m\u001b[0m\u001b[0m\n",
      "\u001b[1;32mc:\\Users\\ischram\\OneDrive - KPMG\\Documents\\pof\\.venv\\lib\\site-packages\\dask\\local.py\u001b[0m in \u001b[0;36mqueue_get\u001b[1;34m(q)\u001b[0m\n\u001b[0;32m    123\u001b[0m         \u001b[1;32mwhile\u001b[0m \u001b[1;32mTrue\u001b[0m\u001b[1;33m:\u001b[0m\u001b[1;33m\u001b[0m\u001b[1;33m\u001b[0m\u001b[0m\n\u001b[0;32m    124\u001b[0m             \u001b[1;32mtry\u001b[0m\u001b[1;33m:\u001b[0m\u001b[1;33m\u001b[0m\u001b[1;33m\u001b[0m\u001b[0m\n\u001b[1;32m--> 125\u001b[1;33m                 \u001b[1;32mreturn\u001b[0m \u001b[0mq\u001b[0m\u001b[1;33m.\u001b[0m\u001b[0mget\u001b[0m\u001b[1;33m(\u001b[0m\u001b[0mblock\u001b[0m\u001b[1;33m=\u001b[0m\u001b[1;32mTrue\u001b[0m\u001b[1;33m,\u001b[0m \u001b[0mtimeout\u001b[0m\u001b[1;33m=\u001b[0m\u001b[1;36m0.1\u001b[0m\u001b[1;33m)\u001b[0m\u001b[1;33m\u001b[0m\u001b[1;33m\u001b[0m\u001b[0m\n\u001b[0m\u001b[0;32m    126\u001b[0m             \u001b[1;32mexcept\u001b[0m \u001b[0mEmpty\u001b[0m\u001b[1;33m:\u001b[0m\u001b[1;33m\u001b[0m\u001b[1;33m\u001b[0m\u001b[0m\n\u001b[0;32m    127\u001b[0m                 \u001b[1;32mpass\u001b[0m\u001b[1;33m\u001b[0m\u001b[1;33m\u001b[0m\u001b[0m\n",
      "\u001b[1;32m~\\AppData\\Local\\Programs\\Python\\Python38\\lib\\queue.py\u001b[0m in \u001b[0;36mget\u001b[1;34m(self, block, timeout)\u001b[0m\n\u001b[0;32m    177\u001b[0m                     \u001b[1;32mif\u001b[0m \u001b[0mremaining\u001b[0m \u001b[1;33m<=\u001b[0m \u001b[1;36m0.0\u001b[0m\u001b[1;33m:\u001b[0m\u001b[1;33m\u001b[0m\u001b[1;33m\u001b[0m\u001b[0m\n\u001b[0;32m    178\u001b[0m                         \u001b[1;32mraise\u001b[0m \u001b[0mEmpty\u001b[0m\u001b[1;33m\u001b[0m\u001b[1;33m\u001b[0m\u001b[0m\n\u001b[1;32m--> 179\u001b[1;33m                     \u001b[0mself\u001b[0m\u001b[1;33m.\u001b[0m\u001b[0mnot_empty\u001b[0m\u001b[1;33m.\u001b[0m\u001b[0mwait\u001b[0m\u001b[1;33m(\u001b[0m\u001b[0mremaining\u001b[0m\u001b[1;33m)\u001b[0m\u001b[1;33m\u001b[0m\u001b[1;33m\u001b[0m\u001b[0m\n\u001b[0m\u001b[0;32m    180\u001b[0m             \u001b[0mitem\u001b[0m \u001b[1;33m=\u001b[0m \u001b[0mself\u001b[0m\u001b[1;33m.\u001b[0m\u001b[0m_get\u001b[0m\u001b[1;33m(\u001b[0m\u001b[1;33m)\u001b[0m\u001b[1;33m\u001b[0m\u001b[1;33m\u001b[0m\u001b[0m\n\u001b[0;32m    181\u001b[0m             \u001b[0mself\u001b[0m\u001b[1;33m.\u001b[0m\u001b[0mnot_full\u001b[0m\u001b[1;33m.\u001b[0m\u001b[0mnotify\u001b[0m\u001b[1;33m(\u001b[0m\u001b[1;33m)\u001b[0m\u001b[1;33m\u001b[0m\u001b[1;33m\u001b[0m\u001b[0m\n",
      "\u001b[1;32m~\\AppData\\Local\\Programs\\Python\\Python38\\lib\\threading.py\u001b[0m in \u001b[0;36mwait\u001b[1;34m(self, timeout)\u001b[0m\n\u001b[0;32m    304\u001b[0m             \u001b[1;32melse\u001b[0m\u001b[1;33m:\u001b[0m\u001b[1;33m\u001b[0m\u001b[1;33m\u001b[0m\u001b[0m\n\u001b[0;32m    305\u001b[0m                 \u001b[1;32mif\u001b[0m \u001b[0mtimeout\u001b[0m \u001b[1;33m>\u001b[0m \u001b[1;36m0\u001b[0m\u001b[1;33m:\u001b[0m\u001b[1;33m\u001b[0m\u001b[1;33m\u001b[0m\u001b[0m\n\u001b[1;32m--> 306\u001b[1;33m                     \u001b[0mgotit\u001b[0m \u001b[1;33m=\u001b[0m \u001b[0mwaiter\u001b[0m\u001b[1;33m.\u001b[0m\u001b[0macquire\u001b[0m\u001b[1;33m(\u001b[0m\u001b[1;32mTrue\u001b[0m\u001b[1;33m,\u001b[0m \u001b[0mtimeout\u001b[0m\u001b[1;33m)\u001b[0m\u001b[1;33m\u001b[0m\u001b[1;33m\u001b[0m\u001b[0m\n\u001b[0m\u001b[0;32m    307\u001b[0m                 \u001b[1;32melse\u001b[0m\u001b[1;33m:\u001b[0m\u001b[1;33m\u001b[0m\u001b[1;33m\u001b[0m\u001b[0m\n\u001b[0;32m    308\u001b[0m                     \u001b[0mgotit\u001b[0m \u001b[1;33m=\u001b[0m \u001b[0mwaiter\u001b[0m\u001b[1;33m.\u001b[0m\u001b[0macquire\u001b[0m\u001b[1;33m(\u001b[0m\u001b[1;32mFalse\u001b[0m\u001b[1;33m)\u001b[0m\u001b[1;33m\u001b[0m\u001b[1;33m\u001b[0m\u001b[0m\n",
      "\u001b[1;31mKeyboardInterrupt\u001b[0m: "
     ]
    }
   ],
   "source": [
    "with ProgressBar(), ResourceProfiler() as rprof:\n",
    "    fd = pfd.get_fleet_data()"
   ]
  },
  {
   "cell_type": "code",
   "execution_count": 6,
   "metadata": {},
   "outputs": [
    {
     "output_type": "stream",
     "name": "stderr",
     "text": [
      "DEBUG:root:Filtering asset data\n",
      "DEBUG:root:Filtering condition data\n",
      "DEBUG:root:Filtering consequence data: NOTIMPLEMENTED\n",
      "DEBUG:root:Merging filtered data\n",
      "DEBUG:root:Obtaining bins for numerical data, n_bins = 10\n",
      "DEBUG:root:Obtaining bins for pole_strength\n",
      "DEBUG:root:Obtaining bins for age\n",
      "DEBUG:root:Obtaining bins for total_consequence\n",
      "DEBUG:root:Population data complete\n",
      "Wall time: 11.9 s\n"
     ]
    }
   ],
   "source": [
    "%%time\n",
    "population_data = fd.get_population_data(by=attributes, remove=remove, n_bins=10)"
   ]
  },
  {
   "cell_type": "code",
   "execution_count": 7,
   "metadata": {},
   "outputs": [
    {
     "output_type": "execute_result",
     "data": {
      "text/plain": [
       "        asset_id pole_material  pole_strength   age  DAGD_perfect_condition  \\\n",
       "0           1000        Timber           10.0  56.0                   250.0   \n",
       "1          10000        Timber           10.0  56.0                   300.0   \n",
       "2        1000001        Timber           10.0  28.0                   330.0   \n",
       "3        1000002        Timber           10.0  28.0                   270.0   \n",
       "4        1000005        Timber           10.0  56.0                   270.0   \n",
       "...          ...           ...            ...   ...                     ...   \n",
       "1230135     9995        Timber           10.0  56.0                   280.0   \n",
       "1230136     9996        Timber           10.0  56.0                   240.0   \n",
       "1230137     9997        Timber           10.0  56.0                   230.0   \n",
       "1230138     9998        Timber           10.0  56.0                   240.0   \n",
       "1230139     9999        Timber           10.0  56.0                   230.0   \n",
       "\n",
       "        DCZD_condition_loss  DPWT_perfect_condition  total_consequence  \n",
       "0                      True                   120.0          1059514.0  \n",
       "1                     False                   145.0          1059514.0  \n",
       "2                     False                   165.0          1059514.0  \n",
       "3                      True                   135.0          1059514.0  \n",
       "4                      True                   135.0          1059514.0  \n",
       "...                     ...                     ...                ...  \n",
       "1230135                True                   140.0          1059514.0  \n",
       "1230136                True                   100.0          1059514.0  \n",
       "1230137               False                    60.0          1059514.0  \n",
       "1230138                True                   100.0          1059514.0  \n",
       "1230139               False                   100.0          1059514.0  \n",
       "\n",
       "[1230140 rows x 8 columns]"
      ],
      "text/html": "<div>\n<style scoped>\n    .dataframe tbody tr th:only-of-type {\n        vertical-align: middle;\n    }\n\n    .dataframe tbody tr th {\n        vertical-align: top;\n    }\n\n    .dataframe thead th {\n        text-align: right;\n    }\n</style>\n<table border=\"1\" class=\"dataframe\">\n  <thead>\n    <tr style=\"text-align: right;\">\n      <th></th>\n      <th>asset_id</th>\n      <th>pole_material</th>\n      <th>pole_strength</th>\n      <th>age</th>\n      <th>DAGD_perfect_condition</th>\n      <th>DCZD_condition_loss</th>\n      <th>DPWT_perfect_condition</th>\n      <th>total_consequence</th>\n    </tr>\n  </thead>\n  <tbody>\n    <tr>\n      <th>0</th>\n      <td>1000</td>\n      <td>Timber</td>\n      <td>10.0</td>\n      <td>56.0</td>\n      <td>250.0</td>\n      <td>True</td>\n      <td>120.0</td>\n      <td>1059514.0</td>\n    </tr>\n    <tr>\n      <th>1</th>\n      <td>10000</td>\n      <td>Timber</td>\n      <td>10.0</td>\n      <td>56.0</td>\n      <td>300.0</td>\n      <td>False</td>\n      <td>145.0</td>\n      <td>1059514.0</td>\n    </tr>\n    <tr>\n      <th>2</th>\n      <td>1000001</td>\n      <td>Timber</td>\n      <td>10.0</td>\n      <td>28.0</td>\n      <td>330.0</td>\n      <td>False</td>\n      <td>165.0</td>\n      <td>1059514.0</td>\n    </tr>\n    <tr>\n      <th>3</th>\n      <td>1000002</td>\n      <td>Timber</td>\n      <td>10.0</td>\n      <td>28.0</td>\n      <td>270.0</td>\n      <td>True</td>\n      <td>135.0</td>\n      <td>1059514.0</td>\n    </tr>\n    <tr>\n      <th>4</th>\n      <td>1000005</td>\n      <td>Timber</td>\n      <td>10.0</td>\n      <td>56.0</td>\n      <td>270.0</td>\n      <td>True</td>\n      <td>135.0</td>\n      <td>1059514.0</td>\n    </tr>\n    <tr>\n      <th>...</th>\n      <td>...</td>\n      <td>...</td>\n      <td>...</td>\n      <td>...</td>\n      <td>...</td>\n      <td>...</td>\n      <td>...</td>\n      <td>...</td>\n    </tr>\n    <tr>\n      <th>1230135</th>\n      <td>9995</td>\n      <td>Timber</td>\n      <td>10.0</td>\n      <td>56.0</td>\n      <td>280.0</td>\n      <td>True</td>\n      <td>140.0</td>\n      <td>1059514.0</td>\n    </tr>\n    <tr>\n      <th>1230136</th>\n      <td>9996</td>\n      <td>Timber</td>\n      <td>10.0</td>\n      <td>56.0</td>\n      <td>240.0</td>\n      <td>True</td>\n      <td>100.0</td>\n      <td>1059514.0</td>\n    </tr>\n    <tr>\n      <th>1230137</th>\n      <td>9997</td>\n      <td>Timber</td>\n      <td>10.0</td>\n      <td>56.0</td>\n      <td>230.0</td>\n      <td>False</td>\n      <td>60.0</td>\n      <td>1059514.0</td>\n    </tr>\n    <tr>\n      <th>1230138</th>\n      <td>9998</td>\n      <td>Timber</td>\n      <td>10.0</td>\n      <td>56.0</td>\n      <td>240.0</td>\n      <td>True</td>\n      <td>100.0</td>\n      <td>1059514.0</td>\n    </tr>\n    <tr>\n      <th>1230139</th>\n      <td>9999</td>\n      <td>Timber</td>\n      <td>10.0</td>\n      <td>56.0</td>\n      <td>230.0</td>\n      <td>False</td>\n      <td>100.0</td>\n      <td>1059514.0</td>\n    </tr>\n  </tbody>\n</table>\n<p>1230140 rows × 8 columns</p>\n</div>"
     },
     "metadata": {},
     "execution_count": 7
    }
   ],
   "source": [
    "population_data"
   ]
  },
  {
   "cell_type": "code",
   "execution_count": 8,
   "metadata": {},
   "outputs": [
    {
     "output_type": "stream",
     "name": "stderr",
     "text": [
      "DEBUG:root:Filtering asset data\n",
      "DEBUG:root:Filtering condition data\n",
      "DEBUG:root:Filtering consequence data: NOTIMPLEMENTED\n",
      "DEBUG:root:Merging filtered data\n",
      "DEBUG:root:Obtaining bins for numerical data, n_bins = 10\n",
      "DEBUG:root:Obtaining bins for pole_strength\n",
      "DEBUG:root:Obtaining bins for age\n",
      "DEBUG:root:Obtaining bins for total_consequence\n",
      "DEBUG:root:Population data complete\n",
      "DEBUG:root:Summarising population data\n",
      "DEBUG:root:Population summary complete\n",
      "Wall time: 14.1 s\n"
     ]
    }
   ],
   "source": [
    "%%time\n",
    "population_summary = fd.get_population_summary(\n",
    "    by=attributes, remove=remove, n_bins=10\n",
    ")"
   ]
  },
  {
   "cell_type": "code",
   "execution_count": 9,
   "metadata": {},
   "outputs": [
    {
     "output_type": "execute_result",
     "data": {
      "text/plain": [
       "      pole_material  pole_strength    age  DAGD_perfect_condition  \\\n",
       "0         Aluminium           10.0   28.0                   260.0   \n",
       "1         Aluminium           10.0   28.0                   270.0   \n",
       "2         Aluminium           10.0   28.0                   310.0   \n",
       "3         Aluminium           10.0   56.0                   100.0   \n",
       "4         Aluminium           10.0   56.0                   250.0   \n",
       "...             ...            ...    ...                     ...   \n",
       "21636       Unknown            NaN  139.0                   250.0   \n",
       "21637           NaN           10.0   28.0                   270.0   \n",
       "21638           NaN           10.0   56.0                   280.0   \n",
       "21639           NaN           10.0   83.0                   150.0   \n",
       "21640           NaN            NaN   56.0                   230.0   \n",
       "\n",
       "      DCZD_condition_loss  DPWT_perfect_condition  total_consequence  count  \n",
       "0                   False                   100.0          1059514.0      1  \n",
       "1                    True                   135.0          1059514.0      1  \n",
       "2                   False                   155.0          1059514.0      1  \n",
       "3                   False                    50.0          1059514.0      1  \n",
       "4                   False                   125.0          1059514.0      1  \n",
       "...                   ...                     ...                ...    ...  \n",
       "21636               False                   125.0                NaN      2  \n",
       "21637               False                   135.0                NaN      1  \n",
       "21638                True                   140.0          1059514.0      1  \n",
       "21639               False                    75.0          1059514.0      1  \n",
       "21640               False                   115.0          1059514.0      1  \n",
       "\n",
       "[21641 rows x 8 columns]"
      ],
      "text/html": "<div>\n<style scoped>\n    .dataframe tbody tr th:only-of-type {\n        vertical-align: middle;\n    }\n\n    .dataframe tbody tr th {\n        vertical-align: top;\n    }\n\n    .dataframe thead th {\n        text-align: right;\n    }\n</style>\n<table border=\"1\" class=\"dataframe\">\n  <thead>\n    <tr style=\"text-align: right;\">\n      <th></th>\n      <th>pole_material</th>\n      <th>pole_strength</th>\n      <th>age</th>\n      <th>DAGD_perfect_condition</th>\n      <th>DCZD_condition_loss</th>\n      <th>DPWT_perfect_condition</th>\n      <th>total_consequence</th>\n      <th>count</th>\n    </tr>\n  </thead>\n  <tbody>\n    <tr>\n      <th>0</th>\n      <td>Aluminium</td>\n      <td>10.0</td>\n      <td>28.0</td>\n      <td>260.0</td>\n      <td>False</td>\n      <td>100.0</td>\n      <td>1059514.0</td>\n      <td>1</td>\n    </tr>\n    <tr>\n      <th>1</th>\n      <td>Aluminium</td>\n      <td>10.0</td>\n      <td>28.0</td>\n      <td>270.0</td>\n      <td>True</td>\n      <td>135.0</td>\n      <td>1059514.0</td>\n      <td>1</td>\n    </tr>\n    <tr>\n      <th>2</th>\n      <td>Aluminium</td>\n      <td>10.0</td>\n      <td>28.0</td>\n      <td>310.0</td>\n      <td>False</td>\n      <td>155.0</td>\n      <td>1059514.0</td>\n      <td>1</td>\n    </tr>\n    <tr>\n      <th>3</th>\n      <td>Aluminium</td>\n      <td>10.0</td>\n      <td>56.0</td>\n      <td>100.0</td>\n      <td>False</td>\n      <td>50.0</td>\n      <td>1059514.0</td>\n      <td>1</td>\n    </tr>\n    <tr>\n      <th>4</th>\n      <td>Aluminium</td>\n      <td>10.0</td>\n      <td>56.0</td>\n      <td>250.0</td>\n      <td>False</td>\n      <td>125.0</td>\n      <td>1059514.0</td>\n      <td>1</td>\n    </tr>\n    <tr>\n      <th>...</th>\n      <td>...</td>\n      <td>...</td>\n      <td>...</td>\n      <td>...</td>\n      <td>...</td>\n      <td>...</td>\n      <td>...</td>\n      <td>...</td>\n    </tr>\n    <tr>\n      <th>21636</th>\n      <td>Unknown</td>\n      <td>NaN</td>\n      <td>139.0</td>\n      <td>250.0</td>\n      <td>False</td>\n      <td>125.0</td>\n      <td>NaN</td>\n      <td>2</td>\n    </tr>\n    <tr>\n      <th>21637</th>\n      <td>NaN</td>\n      <td>10.0</td>\n      <td>28.0</td>\n      <td>270.0</td>\n      <td>False</td>\n      <td>135.0</td>\n      <td>NaN</td>\n      <td>1</td>\n    </tr>\n    <tr>\n      <th>21638</th>\n      <td>NaN</td>\n      <td>10.0</td>\n      <td>56.0</td>\n      <td>280.0</td>\n      <td>True</td>\n      <td>140.0</td>\n      <td>1059514.0</td>\n      <td>1</td>\n    </tr>\n    <tr>\n      <th>21639</th>\n      <td>NaN</td>\n      <td>10.0</td>\n      <td>83.0</td>\n      <td>150.0</td>\n      <td>False</td>\n      <td>75.0</td>\n      <td>1059514.0</td>\n      <td>1</td>\n    </tr>\n    <tr>\n      <th>21640</th>\n      <td>NaN</td>\n      <td>NaN</td>\n      <td>56.0</td>\n      <td>230.0</td>\n      <td>False</td>\n      <td>115.0</td>\n      <td>1059514.0</td>\n      <td>1</td>\n    </tr>\n  </tbody>\n</table>\n<p>21641 rows × 8 columns</p>\n</div>"
     },
     "metadata": {},
     "execution_count": 9
    }
   ],
   "source": [
    "population_summary"
   ]
  },
  {
   "cell_type": "code",
   "execution_count": 7,
   "metadata": {},
   "outputs": [
    {
     "output_type": "stream",
     "name": "stderr",
     "text": [
      "INFO:bokeh.io.state:Session output file 'profile.html' already exists, will be overwritten.\n"
     ]
    },
    {
     "output_type": "execute_result",
     "data": {
      "text/plain": [
       "ResourceData(time=3.1660871, mem=562.843648, cpu=0.0)"
      ]
     },
     "metadata": {},
     "execution_count": 7
    }
   ],
   "source": [
    "rprof.visualize()\n",
    "HTML(filename=\"profile.html\")\n",
    "rprof.results[0]"
   ]
  }
 ]
}