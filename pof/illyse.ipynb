{
 "metadata": {
  "language_info": {
   "codemirror_mode": {
    "name": "ipython",
    "version": 3
   },
   "file_extension": ".py",
   "mimetype": "text/x-python",
   "name": "python",
   "nbconvert_exporter": "python",
   "pygments_lexer": "ipython3",
   "version": "3.8.2-final"
  },
  "orig_nbformat": 2,
  "kernelspec": {
   "name": "python38232bitvenvvenv7e9f5a667b184068a3de6d06844f5d98",
   "display_name": "Python 3.8.2 32-bit ('.venv': venv)"
  }
 },
 "nbformat": 4,
 "nbformat_minor": 2,
 "cells": [
  {
   "cell_type": "code",
   "execution_count": 36,
   "metadata": {},
   "outputs": [],
   "source": [
    "#  Add root folder to python path\n",
    "import sys\n",
    "import os\n",
    "sys.path.append(os.path.dirname(os.getcwd()))\n",
    "\n",
    "# Add some common packages\n",
    "import numpy as np\n",
    "import pandas as pd\n",
    "import math\n",
    "import scipy.stats as ss\n",
    "from matplotlib import pyplot as plt"
   ]
  },
  {
   "cell_type": "code",
   "execution_count": 37,
   "metadata": {},
   "outputs": [
    {
     "output_type": "error",
     "ename": "ModuleNotFoundError",
     "evalue": "No module named 'pof.config.indicator'; 'pof.config' is not a package",
     "traceback": [
      "\u001b[1;31m---------------------------------------------------------------------------\u001b[0m",
      "\u001b[1;31mModuleNotFoundError\u001b[0m                       Traceback (most recent call last)",
      "\u001b[1;32m<ipython-input-37-d0a9e7d18802>\u001b[0m in \u001b[0;36m<module>\u001b[1;34m\u001b[0m\n\u001b[0;32m      1\u001b[0m \u001b[1;32mfrom\u001b[0m \u001b[0mpof\u001b[0m\u001b[1;33m.\u001b[0m\u001b[0mtask\u001b[0m \u001b[1;32mimport\u001b[0m \u001b[0mTask\u001b[0m\u001b[1;33m\u001b[0m\u001b[1;33m\u001b[0m\u001b[0m\n\u001b[0;32m      2\u001b[0m \u001b[1;32mimport\u001b[0m \u001b[0mpof\u001b[0m\u001b[1;33m.\u001b[0m\u001b[0mdemo\u001b[0m \u001b[1;32mas\u001b[0m \u001b[0mdemo\u001b[0m\u001b[1;33m\u001b[0m\u001b[1;33m\u001b[0m\u001b[0m\n\u001b[1;32m----> 3\u001b[1;33m \u001b[1;32mfrom\u001b[0m \u001b[0mpof\u001b[0m\u001b[1;33m.\u001b[0m\u001b[0mfailure_mode\u001b[0m \u001b[1;32mimport\u001b[0m \u001b[0mFailureMode\u001b[0m\u001b[1;33m\u001b[0m\u001b[1;33m\u001b[0m\u001b[0m\n\u001b[0m",
      "\u001b[1;32mc:\\Users\\ischram\\OneDrive - KPMG\\Documents\\pof\\pof\\failure_mode.py\u001b[0m in \u001b[0;36m<module>\u001b[1;34m\u001b[0m\n\u001b[0;32m     28\u001b[0m \u001b[1;33m\u001b[0m\u001b[0m\n\u001b[0;32m     29\u001b[0m \u001b[1;32mfrom\u001b[0m \u001b[0mpof\u001b[0m\u001b[1;33m.\u001b[0m\u001b[0mhelper\u001b[0m \u001b[1;32mimport\u001b[0m \u001b[0mfill_blanks\u001b[0m\u001b[1;33m,\u001b[0m \u001b[0mid_update\u001b[0m\u001b[1;33m,\u001b[0m \u001b[0mstr_to_dict\u001b[0m\u001b[1;33m\u001b[0m\u001b[1;33m\u001b[0m\u001b[0m\n\u001b[1;32m---> 30\u001b[1;33m \u001b[1;32mfrom\u001b[0m \u001b[0mpof\u001b[0m\u001b[1;33m.\u001b[0m\u001b[0mindicator\u001b[0m \u001b[1;32mimport\u001b[0m \u001b[0mIndicator\u001b[0m\u001b[1;33m,\u001b[0m \u001b[0mConditionIndicator\u001b[0m\u001b[1;33m\u001b[0m\u001b[1;33m\u001b[0m\u001b[0m\n\u001b[0m\u001b[0;32m     31\u001b[0m \u001b[1;32mfrom\u001b[0m \u001b[0mpof\u001b[0m\u001b[1;33m.\u001b[0m\u001b[0mdistribution\u001b[0m \u001b[1;32mimport\u001b[0m \u001b[0mDistribution\u001b[0m\u001b[1;33m\u001b[0m\u001b[1;33m\u001b[0m\u001b[0m\n\u001b[0;32m     32\u001b[0m \u001b[1;32mfrom\u001b[0m \u001b[0mpof\u001b[0m\u001b[1;33m.\u001b[0m\u001b[0mconsequence\u001b[0m \u001b[1;32mimport\u001b[0m \u001b[0mConsequence\u001b[0m\u001b[1;33m\u001b[0m\u001b[1;33m\u001b[0m\u001b[0m\n",
      "\u001b[1;32mc:\\Users\\ischram\\OneDrive - KPMG\\Documents\\pof\\pof\\indicator.py\u001b[0m in \u001b[0;36m<module>\u001b[1;34m\u001b[0m\n\u001b[0;32m     16\u001b[0m \u001b[1;33m\u001b[0m\u001b[0m\n\u001b[0;32m     17\u001b[0m \u001b[1;32mfrom\u001b[0m \u001b[0mpof\u001b[0m\u001b[1;33m.\u001b[0m\u001b[0mload\u001b[0m \u001b[1;32mimport\u001b[0m \u001b[0mLoad\u001b[0m\u001b[1;33m\u001b[0m\u001b[1;33m\u001b[0m\u001b[0m\n\u001b[1;32m---> 18\u001b[1;33m \u001b[1;32mimport\u001b[0m \u001b[0mpof\u001b[0m\u001b[1;33m.\u001b[0m\u001b[0mconfig\u001b[0m\u001b[1;33m.\u001b[0m\u001b[0mindicator\u001b[0m \u001b[1;32mas\u001b[0m \u001b[0mcf\u001b[0m\u001b[1;33m\u001b[0m\u001b[1;33m\u001b[0m\u001b[0m\n\u001b[0m\u001b[0;32m     19\u001b[0m \u001b[1;33m\u001b[0m\u001b[0m\n\u001b[0;32m     20\u001b[0m \u001b[1;31m# TODO overload methods to avoid if statements and improve speed\u001b[0m\u001b[1;33m\u001b[0m\u001b[1;33m\u001b[0m\u001b[1;33m\u001b[0m\u001b[0m\n",
      "\u001b[1;31mModuleNotFoundError\u001b[0m: No module named 'pof.config.indicator'; 'pof.config' is not a package"
     ]
    }
   ],
   "source": [
    "from pof.task import Task\n",
    "import pof.demo as demo\n",
    "from pof.failure_mode import FailureMode"
   ]
  },
  {
   "cell_type": "code",
   "execution_count": 5,
   "metadata": {},
   "outputs": [],
   "source": [
    "# def set_tasks(self, tasks):\n",
    "    # \"\"\"\n",
    "    # Takes a dictionary of tasks and sets the failure mode tasks\n",
    "    # \"\"\"\n",
    "\n",
    "    # for task_name, task in tasks.items():\n",
    "    #     if isinstance(task, Task):\n",
    "    #         self.tasks[task_name] = task\n",
    "    #     elif isinstance(task, dict):\n",
    "    #         if task[\"activity\"] == \"Inspection\":\n",
    "    #             self.tasks[task[\"name\"]] = Inspection.load(task)\n",
    "    #         elif task[\"activity\"] == \"ConditionTask\":\n",
    "    #             self.tasks[task_name] = ConditionTask.load(task)\n",
    "\n",
    "    #         else:\n",
    "    #             print(\"Invalid Task Activity\")\n",
    "    #     else:\n",
    "    #         print(\"Invalid Task\")"
   ]
  },
  {
   "cell_type": "code",
   "execution_count": 6,
   "metadata": {},
   "outputs": [
    {
     "output_type": "execute_result",
     "data": {
      "text/plain": "'\\n# Load a distribution object\\nif isinstance(untreated, Distribution):\\n    self.untreated = untreated\\n\\n# Add a name to the distribution and set create the object\\nelif isinstance(untreated, dict):\\n    #is it a dist in a dict\\n\\n    # does it already exist\\n    # if untreat.name is in self.untreated:\\n        # if yes update\\n        # if no create\\n'"
     },
     "metadata": {},
     "execution_count": 6
    }
   ],
   "source": [
    "        # set_untreated(Distribution)\n",
    "        # >>>> self.untreated == Distribution\n",
    "\n",
    "        # set_untreated(dict(name = Distribution))\n",
    "        # >>>> self.untreated == Distribution\n",
    "\n",
    "        # set_untreated(dict(\"untreated\" = dict(\"alpha\" = 10)))\n",
    "        # >>>> self.untreated.alpha == 10\n",
    "\n",
    "        # set_untreated(dict_data(untreated))\n",
    "        # >>>> self.untreated == Distribution\n",
    "        \"\"\"\n",
    "        # Load a distribution object\n",
    "        if isinstance(untreated, Distribution):\n",
    "            self.untreated = untreated\n",
    "\n",
    "        # Add a name to the distribution and set create the object\n",
    "        elif isinstance(untreated, dict):\n",
    "            #is it a dist in a dict\n",
    "\n",
    "            # does it already exist\n",
    "            # if untreat.name is in self.untreated:\n",
    "                # if yes update\n",
    "                # if no create\n",
    "        \"\"\""
   ]
  },
  {
   "cell_type": "code",
   "execution_count": 31,
   "metadata": {
    "tags": []
   },
   "outputs": [
    {
     "output_type": "stream",
     "name": "stdout",
     "text": "It's a Task\nIt's a Dict\nIt's a Dict\n"
    }
   ],
   "source": [
    "for t in [task_dict, t_dict]:\n",
    "    # is it a task\n",
    "    if isinstance(t, Task):\n",
    "        task = t\n",
    "    #is it a dict\n",
    "    elif isinstance(t, dict):\n",
    "        print(\"It's a Dict\")\n",
    "\n",
    "        for name, t_items in t.items():\n",
    "        # is it a dictionary that represents a task\n",
    "            if isinstance(t_items, Task):\n",
    "                self.fm[fm_input.name] = fm_input\n",
    "        # does it exist\n",
    "            # yes : update_from_dict\n",
    "             \n",
    "            elif name in task:\n",
    "                #TODO update method\n",
    "\n",
    "            # no : from_dict \n",
    "            # Create a failure mode from the dictionary\n",
    "            else: \n",
    "                self.fm[name] = FailureMode.load(fm)                        \n",
    "\n",
    "    else:\n",
    "        raise TypeError (\n",
    "            \"%s - %s - Invalid data type %s\"\n",
    "                    %    "
   ]
  },
  {
   "cell_type": "code",
   "execution_count": 41,
   "metadata": {},
   "outputs": [
    {
     "output_type": "error",
     "ename": "IndentationError",
     "evalue": "expected an indented block (<ipython-input-41-170f7664beca>, line 3)",
     "traceback": [
      "\u001b[1;36m  File \u001b[1;32m\"<ipython-input-41-170f7664beca>\"\u001b[1;36m, line \u001b[1;32m3\u001b[0m\n\u001b[1;33m    self.tasks[task_dict.name] = task_dict\u001b[0m\n\u001b[1;37m    ^\u001b[0m\n\u001b[1;31mIndentationError\u001b[0m\u001b[1;31m:\u001b[0m expected an indented block\n"
     ]
    }
   ],
   "source": [
    "#TODO Gav/Illyse: unsure if line --- is needed if we know we will (always?) get a dict of tasks. I think logic is right\n",
    "\n",
    "# Check if Task\n",
    "if isinstance(task_dict, Task):\n",
    "    self.tasks[task_dict.name] = task_dict\n",
    "\n",
    "# Check if Dictionary\n",
    "elif isinstance(task_dict, dict):\n",
    "    # Iterate through Dictionary\n",
    "    for task_name, task in task_dict.items():\n",
    "        # is it a Task\n",
    "        if isinstance(task, Task):\n",
    "            self.tasks[task_name] = task\n",
    "        # does it exist: yes, update\n",
    "        elif name in self.tasks:\n",
    "            #update method\n",
    "            self.tasks[task_name] = Task() #TODO Illyse: Check if this is right\n",
    "            self.tasks[task_name].update_from_dict(task)\n",
    "\n",
    "        # does it exist: no, create from dictionary\n",
    "        else: \n",
    "            if task[\"activity\"] == \"Inspection\":\n",
    "                self.tasks[task[\"name\"]] = Inspection.load(task)\n",
    "        else:\n",
    "            print(\"Invalid Task Activity\")\n",
    "    else:\n",
    "        print(\"Invalid Task\")"
   ]
  },
  {
   "cell_type": "code",
   "execution_count": 27,
   "metadata": {
    "tags": []
   },
   "outputs": [],
   "source": [
    "tasks = Task()\n",
    "task_dict = demo.inspection_data"
   ]
  },
  {
   "cell_type": "code",
   "execution_count": 34,
   "metadata": {
    "tags": []
   },
   "outputs": [
    {
     "output_type": "stream",
     "name": "stdout",
     "text": "{'name': 'inspection', 'activity': 'Inspection', 'trigger': 'unknown', 'active': True, '_package': NotImplemented, '_impacts_parent': NotImplemented, '_impacts_children': False, 'cost': 50, 'labour': NotImplemented, 'spares': NotImplemented, 'equipment': NotImplemented, 'consequence': <pof.consequence.Consequence object at 0x11707B08>, 'p_effective': 0.9, 'triggers': {'condition': {'instant': {'lower': 0, 'upper': 0}}, 'state': {'initiation': True}, 'time': {}}, 'impacts': {'condition': {}, 'state': {'detection': True}, 'time': {}}, 'component_reset': False, 'state': NotImplemented, 't_completion': [], 'cost_completion': [], '_timeline': NotImplemented}\n"
    }
   ],
   "source": [
    "tasks = Task.load(demo.inspection_data['instant'])\n",
    "task_dict = demo.inspection_data\n",
    "\n",
    "print(tasks.__dict__)"
   ]
  },
  {
   "cell_type": "code",
   "execution_count": 29,
   "metadata": {},
   "outputs": [
    {
     "output_type": "execute_result",
     "data": {
      "text/plain": "True"
     },
     "metadata": {},
     "execution_count": 29
    }
   ],
   "source": [
    "\"name\" in tasks.__dict__"
   ]
  },
  {
   "cell_type": "code",
   "execution_count": 32,
   "metadata": {
    "tags": []
   },
   "outputs": [
    {
     "output_type": "stream",
     "name": "stdout",
     "text": "it's a dict\nit's a dict-dict-create\ninspection\nit's a dict-dict-create\ninspection\n"
    }
   ],
   "source": [
    "for t_ex in [task_dict]:     \n",
    "        # Load a FailureMode object directly\n",
    "    if isinstance(task_dict, Task):\n",
    "        tasks[task_dict.name] = task_dict\n",
    "        print(\"it's a Task\")\n",
    "    # Load from dicts of FailureModes, \n",
    "    elif isinstance(task_dict, dict):\n",
    "        print(\"it's a dict\")\n",
    "        for task_name, task in task_dict.items():\n",
    "            # is it a Task\n",
    "            if isinstance(task, Task):\n",
    "                print(\"it's a dict-class\")\n",
    "                tasks[task_name] = task\n",
    "            # yes: update_from_dict\n",
    "            elif task_name in tasks.__dict__:\n",
    "                print(\"it's a dict-dict-update\")\n",
    "                #TODO update method\n",
    "                #tasks[n] = Task()\n",
    "                print(task)\n",
    "                tasks.update_from_dict({task_name:task})\n",
    "            # no : from_dict \n",
    "            else: \n",
    "                print(\"it's a dict-dict-create\")\n",
    "                if task[\"activity\"] == \"Inspection\":\n",
    "                    print(\"inspection\")\n",
    "                    #tasks[task[\"name\"]] = Inspection.load(task)\n",
    "                else:\n",
    "                    print(\"Invalid Task Activity\")\n",
    "    else:\n",
    "        print(\"Invalid Task\")"
   ]
  },
  {
   "cell_type": "code",
   "execution_count": null,
   "metadata": {},
   "outputs": [],
   "source": [
    "{'name': 'inspection', 'activity': 'Inspection', 'trigger': 'unknown', 'active': True, '_package': NotImplemented, '_impacts_parent': NotImplemented, '_impacts_children': False, 'cost': 50, 'labour': NotImplemented, 'spares': NotImplemented, 'equipment': NotImplemented, 'consequence': <pof.consequence.Consequence object at 0x11707B08>, 'p_effective': 0.9, 'triggers': {'condition': {'instant': {'lower': 0, 'upper': 0}}, 'state': {'initiation': True}, 'time': {}}, 'impacts': {'condition': {}, 'state': {'detection': True}, 'time': {}}, 'component_reset': False, 'state': NotImplemented, 't_completion': [], 'cost_completion': [], '_timeline': NotImplemented}"
   ]
  }
 ]
}